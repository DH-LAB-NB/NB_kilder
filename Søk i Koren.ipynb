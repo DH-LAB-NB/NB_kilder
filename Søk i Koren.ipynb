{
 "cells": [
  {
   "cell_type": "markdown",
   "metadata": {},
   "source": [
    "# Kode og kommandoer\n",
    "\n",
    "Alle de nedenfor skal gi grunnleggende funksjonalitet for å arbeide med materialet. Alt kan knyttes til en webside etter hvert.\n",
    "\n",
    "Husk å trykke på Run helt fra toppen."
   ]
  },
  {
   "cell_type": "code",
   "execution_count": 1,
   "metadata": {},
   "outputs": [],
   "source": [
    "import dhlab.nbtext as nb\n",
    "from dhlab.nbtokenizer import tokenize\n",
    "from collections import Counter\n",
    "import pandas as pd\n",
    "\n",
    "import zipfile\n",
    "from bs4 import BeautifulSoup\n",
    "import sys\n",
    "import zipfile\n",
    "import re\n",
    "from IPython.display import display, Markdown\n",
    "\n",
    "## Korpuset kommer som en zip\n",
    "\n",
    "from corpus import *"
   ]
  },
  {
   "cell_type": "markdown",
   "metadata": {},
   "source": [
    "# Lag kilder\n",
    "\n",
    "Fra en zip-fil lag et korpus som kan brukes av kommandoene over."
   ]
  },
  {
   "cell_type": "code",
   "execution_count": 2,
   "metadata": {},
   "outputs": [],
   "source": [
    "kildezip = \"NBkilder_Koren.zip\"\n",
    "\n",
    "kildefiler = get_files_from_zip(kildezip)\n",
    "\n",
    "kilder_korpus = make_corpus(kildezip)\n",
    "\n",
    "kilder_korpus_string = make_corpus(kildezip, extraction= extract_text_as_string)"
   ]
  },
  {
   "cell_type": "markdown",
   "metadata": {},
   "source": [
    "# Liste over utgaver som er med i korpuset"
   ]
  },
  {
   "cell_type": "code",
   "execution_count": 3,
   "metadata": {},
   "outputs": [
    {
     "name": "stdout",
     "output_type": "stream",
     "text": [
      "NBkilder_Koren_1798.xml\n",
      "NBkilder_Koren_1802.xml\n",
      "NBkilder_Koren_1805.xml\n",
      "NBkilder_Koren_1808.xml\n",
      "NBkilder_Koren_1809.xml\n",
      "NBkilder_Koren_1810.xml\n",
      "NBkilder_Koren_1811.xml\n",
      "NBkilder_Koren_1812.xml\n",
      "NBkilder_Koren_1813.xml\n",
      "NBkilder_Koren_1814.xml\n",
      "NBkilder_Koren_1815.xml\n"
     ]
    }
   ],
   "source": [
    "kilder_dtm = make_dtm(kilder_korpus).fillna(0)"
   ]
  },
  {
   "cell_type": "markdown",
   "metadata": {},
   "source": [
    "### Undersøk høyfrekvente ord\n",
    "\n",
    "Tabellen viser de mest brukte ordene, sortert etter den utgaven som er merket med rødt. Velg andre utgaver fra lista over. \n",
    "Tallet i parentes etter head angir hvor mange ord du vil se på.\n"
   ]
  },
  {
   "cell_type": "code",
   "execution_count": 4,
   "metadata": {},
   "outputs": [
    {
     "data": {
      "text/html": [
       "<style  type=\"text/css\" >\n",
       "    #T_64777d49_1abd_11eb_9ff0_a0a4c554f2a3row0_col0 {\n",
       "            background-color:  #023858;\n",
       "            color:  #f1f1f1;\n",
       "        }    #T_64777d49_1abd_11eb_9ff0_a0a4c554f2a3row0_col1 {\n",
       "            background-color:  #023858;\n",
       "            color:  #f1f1f1;\n",
       "        }    #T_64777d49_1abd_11eb_9ff0_a0a4c554f2a3row0_col2 {\n",
       "            background-color:  #023858;\n",
       "            color:  #f1f1f1;\n",
       "        }    #T_64777d49_1abd_11eb_9ff0_a0a4c554f2a3row0_col3 {\n",
       "            background-color:  #023858;\n",
       "            color:  #f1f1f1;\n",
       "        }    #T_64777d49_1abd_11eb_9ff0_a0a4c554f2a3row0_col4 {\n",
       "            background-color:  #023858;\n",
       "            color:  #f1f1f1;\n",
       "        }    #T_64777d49_1abd_11eb_9ff0_a0a4c554f2a3row0_col5 {\n",
       "            background-color:  #023858;\n",
       "            color:  #f1f1f1;\n",
       "        }    #T_64777d49_1abd_11eb_9ff0_a0a4c554f2a3row0_col6 {\n",
       "            background-color:  #023858;\n",
       "            color:  #f1f1f1;\n",
       "        }    #T_64777d49_1abd_11eb_9ff0_a0a4c554f2a3row0_col7 {\n",
       "            background-color:  #023858;\n",
       "            color:  #f1f1f1;\n",
       "        }    #T_64777d49_1abd_11eb_9ff0_a0a4c554f2a3row0_col8 {\n",
       "            background-color:  #023858;\n",
       "            color:  #f1f1f1;\n",
       "        }    #T_64777d49_1abd_11eb_9ff0_a0a4c554f2a3row0_col9 {\n",
       "            background-color:  #023858;\n",
       "            color:  #f1f1f1;\n",
       "        }    #T_64777d49_1abd_11eb_9ff0_a0a4c554f2a3row0_col10 {\n",
       "            background-color:  #023858;\n",
       "            color:  #f1f1f1;\n",
       "        }    #T_64777d49_1abd_11eb_9ff0_a0a4c554f2a3row1_col0 {\n",
       "            background-color:  #97b7d7;\n",
       "            color:  #000000;\n",
       "        }    #T_64777d49_1abd_11eb_9ff0_a0a4c554f2a3row1_col1 {\n",
       "            background-color:  #a5bddb;\n",
       "            color:  #000000;\n",
       "        }    #T_64777d49_1abd_11eb_9ff0_a0a4c554f2a3row1_col2 {\n",
       "            background-color:  #b1c2de;\n",
       "            color:  #000000;\n",
       "        }    #T_64777d49_1abd_11eb_9ff0_a0a4c554f2a3row1_col3 {\n",
       "            background-color:  #a8bedc;\n",
       "            color:  #000000;\n",
       "        }    #T_64777d49_1abd_11eb_9ff0_a0a4c554f2a3row1_col4 {\n",
       "            background-color:  #b3c3de;\n",
       "            color:  #000000;\n",
       "        }    #T_64777d49_1abd_11eb_9ff0_a0a4c554f2a3row1_col5 {\n",
       "            background-color:  #9ab8d8;\n",
       "            color:  #000000;\n",
       "        }    #T_64777d49_1abd_11eb_9ff0_a0a4c554f2a3row1_col6 {\n",
       "            background-color:  #adc1dd;\n",
       "            color:  #000000;\n",
       "        }    #T_64777d49_1abd_11eb_9ff0_a0a4c554f2a3row1_col7 {\n",
       "            background-color:  #a9bfdc;\n",
       "            color:  #000000;\n",
       "        }    #T_64777d49_1abd_11eb_9ff0_a0a4c554f2a3row1_col8 {\n",
       "            background-color:  #93b5d6;\n",
       "            color:  #000000;\n",
       "        }    #T_64777d49_1abd_11eb_9ff0_a0a4c554f2a3row1_col9 {\n",
       "            background-color:  #8fb4d6;\n",
       "            color:  #000000;\n",
       "        }    #T_64777d49_1abd_11eb_9ff0_a0a4c554f2a3row1_col10 {\n",
       "            background-color:  #bdc8e1;\n",
       "            color:  #000000;\n",
       "        }    #T_64777d49_1abd_11eb_9ff0_a0a4c554f2a3row2_col0 {\n",
       "            background-color:  #9ab8d8;\n",
       "            color:  #000000;\n",
       "        }    #T_64777d49_1abd_11eb_9ff0_a0a4c554f2a3row2_col1 {\n",
       "            background-color:  #bdc8e1;\n",
       "            color:  #000000;\n",
       "        }    #T_64777d49_1abd_11eb_9ff0_a0a4c554f2a3row2_col2 {\n",
       "            background-color:  #afc1dd;\n",
       "            color:  #000000;\n",
       "        }    #T_64777d49_1abd_11eb_9ff0_a0a4c554f2a3row2_col3 {\n",
       "            background-color:  #b1c2de;\n",
       "            color:  #000000;\n",
       "        }    #T_64777d49_1abd_11eb_9ff0_a0a4c554f2a3row2_col4 {\n",
       "            background-color:  #a5bddb;\n",
       "            color:  #000000;\n",
       "        }    #T_64777d49_1abd_11eb_9ff0_a0a4c554f2a3row2_col5 {\n",
       "            background-color:  #99b8d8;\n",
       "            color:  #000000;\n",
       "        }    #T_64777d49_1abd_11eb_9ff0_a0a4c554f2a3row2_col6 {\n",
       "            background-color:  #86b0d3;\n",
       "            color:  #000000;\n",
       "        }    #T_64777d49_1abd_11eb_9ff0_a0a4c554f2a3row2_col7 {\n",
       "            background-color:  #93b5d6;\n",
       "            color:  #000000;\n",
       "        }    #T_64777d49_1abd_11eb_9ff0_a0a4c554f2a3row2_col8 {\n",
       "            background-color:  #8eb3d5;\n",
       "            color:  #000000;\n",
       "        }    #T_64777d49_1abd_11eb_9ff0_a0a4c554f2a3row2_col9 {\n",
       "            background-color:  #a8bedc;\n",
       "            color:  #000000;\n",
       "        }    #T_64777d49_1abd_11eb_9ff0_a0a4c554f2a3row2_col10 {\n",
       "            background-color:  #a2bcda;\n",
       "            color:  #000000;\n",
       "        }    #T_64777d49_1abd_11eb_9ff0_a0a4c554f2a3row3_col0 {\n",
       "            background-color:  #c1cae2;\n",
       "            color:  #000000;\n",
       "        }    #T_64777d49_1abd_11eb_9ff0_a0a4c554f2a3row3_col1 {\n",
       "            background-color:  #e0deed;\n",
       "            color:  #000000;\n",
       "        }    #T_64777d49_1abd_11eb_9ff0_a0a4c554f2a3row3_col2 {\n",
       "            background-color:  #c1cae2;\n",
       "            color:  #000000;\n",
       "        }    #T_64777d49_1abd_11eb_9ff0_a0a4c554f2a3row3_col3 {\n",
       "            background-color:  #efe9f3;\n",
       "            color:  #000000;\n",
       "        }    #T_64777d49_1abd_11eb_9ff0_a0a4c554f2a3row3_col4 {\n",
       "            background-color:  #e4e1ef;\n",
       "            color:  #000000;\n",
       "        }    #T_64777d49_1abd_11eb_9ff0_a0a4c554f2a3row3_col5 {\n",
       "            background-color:  #ede8f3;\n",
       "            color:  #000000;\n",
       "        }    #T_64777d49_1abd_11eb_9ff0_a0a4c554f2a3row3_col6 {\n",
       "            background-color:  #e1dfed;\n",
       "            color:  #000000;\n",
       "        }    #T_64777d49_1abd_11eb_9ff0_a0a4c554f2a3row3_col7 {\n",
       "            background-color:  #ebe6f2;\n",
       "            color:  #000000;\n",
       "        }    #T_64777d49_1abd_11eb_9ff0_a0a4c554f2a3row3_col8 {\n",
       "            background-color:  #f2ecf5;\n",
       "            color:  #000000;\n",
       "        }    #T_64777d49_1abd_11eb_9ff0_a0a4c554f2a3row3_col9 {\n",
       "            background-color:  #f1ebf4;\n",
       "            color:  #000000;\n",
       "        }    #T_64777d49_1abd_11eb_9ff0_a0a4c554f2a3row3_col10 {\n",
       "            background-color:  #f2ecf5;\n",
       "            color:  #000000;\n",
       "        }    #T_64777d49_1abd_11eb_9ff0_a0a4c554f2a3row4_col0 {\n",
       "            background-color:  #d6d6e9;\n",
       "            color:  #000000;\n",
       "        }    #T_64777d49_1abd_11eb_9ff0_a0a4c554f2a3row4_col1 {\n",
       "            background-color:  #e7e3f0;\n",
       "            color:  #000000;\n",
       "        }    #T_64777d49_1abd_11eb_9ff0_a0a4c554f2a3row4_col2 {\n",
       "            background-color:  #eae6f1;\n",
       "            color:  #000000;\n",
       "        }    #T_64777d49_1abd_11eb_9ff0_a0a4c554f2a3row4_col3 {\n",
       "            background-color:  #e7e3f0;\n",
       "            color:  #000000;\n",
       "        }    #T_64777d49_1abd_11eb_9ff0_a0a4c554f2a3row4_col4 {\n",
       "            background-color:  #eae6f1;\n",
       "            color:  #000000;\n",
       "        }    #T_64777d49_1abd_11eb_9ff0_a0a4c554f2a3row4_col5 {\n",
       "            background-color:  #e5e1ef;\n",
       "            color:  #000000;\n",
       "        }    #T_64777d49_1abd_11eb_9ff0_a0a4c554f2a3row4_col6 {\n",
       "            background-color:  #e2dfee;\n",
       "            color:  #000000;\n",
       "        }    #T_64777d49_1abd_11eb_9ff0_a0a4c554f2a3row4_col7 {\n",
       "            background-color:  #e1dfed;\n",
       "            color:  #000000;\n",
       "        }    #T_64777d49_1abd_11eb_9ff0_a0a4c554f2a3row4_col8 {\n",
       "            background-color:  #e1dfed;\n",
       "            color:  #000000;\n",
       "        }    #T_64777d49_1abd_11eb_9ff0_a0a4c554f2a3row4_col9 {\n",
       "            background-color:  #e0deed;\n",
       "            color:  #000000;\n",
       "        }    #T_64777d49_1abd_11eb_9ff0_a0a4c554f2a3row4_col10 {\n",
       "            background-color:  #dedcec;\n",
       "            color:  #000000;\n",
       "        }    #T_64777d49_1abd_11eb_9ff0_a0a4c554f2a3row5_col0 {\n",
       "            background-color:  #d9d8ea;\n",
       "            color:  #000000;\n",
       "        }    #T_64777d49_1abd_11eb_9ff0_a0a4c554f2a3row5_col1 {\n",
       "            background-color:  #fff7fb;\n",
       "            color:  #000000;\n",
       "        }    #T_64777d49_1abd_11eb_9ff0_a0a4c554f2a3row5_col2 {\n",
       "            background-color:  #fff7fb;\n",
       "            color:  #000000;\n",
       "        }    #T_64777d49_1abd_11eb_9ff0_a0a4c554f2a3row5_col3 {\n",
       "            background-color:  #fff7fb;\n",
       "            color:  #000000;\n",
       "        }    #T_64777d49_1abd_11eb_9ff0_a0a4c554f2a3row5_col4 {\n",
       "            background-color:  #fff7fb;\n",
       "            color:  #000000;\n",
       "        }    #T_64777d49_1abd_11eb_9ff0_a0a4c554f2a3row5_col5 {\n",
       "            background-color:  #fff7fb;\n",
       "            color:  #000000;\n",
       "        }    #T_64777d49_1abd_11eb_9ff0_a0a4c554f2a3row5_col6 {\n",
       "            background-color:  #fff7fb;\n",
       "            color:  #000000;\n",
       "        }    #T_64777d49_1abd_11eb_9ff0_a0a4c554f2a3row5_col7 {\n",
       "            background-color:  #fff7fb;\n",
       "            color:  #000000;\n",
       "        }    #T_64777d49_1abd_11eb_9ff0_a0a4c554f2a3row5_col8 {\n",
       "            background-color:  #fff7fb;\n",
       "            color:  #000000;\n",
       "        }    #T_64777d49_1abd_11eb_9ff0_a0a4c554f2a3row5_col9 {\n",
       "            background-color:  #fff7fb;\n",
       "            color:  #000000;\n",
       "        }    #T_64777d49_1abd_11eb_9ff0_a0a4c554f2a3row5_col10 {\n",
       "            background-color:  #fff7fb;\n",
       "            color:  #000000;\n",
       "        }    #T_64777d49_1abd_11eb_9ff0_a0a4c554f2a3row6_col0 {\n",
       "            background-color:  #e4e1ef;\n",
       "            color:  #000000;\n",
       "        }    #T_64777d49_1abd_11eb_9ff0_a0a4c554f2a3row6_col1 {\n",
       "            background-color:  #dcdaeb;\n",
       "            color:  #000000;\n",
       "        }    #T_64777d49_1abd_11eb_9ff0_a0a4c554f2a3row6_col2 {\n",
       "            background-color:  #dbdaeb;\n",
       "            color:  #000000;\n",
       "        }    #T_64777d49_1abd_11eb_9ff0_a0a4c554f2a3row6_col3 {\n",
       "            background-color:  #dddbec;\n",
       "            color:  #000000;\n",
       "        }    #T_64777d49_1abd_11eb_9ff0_a0a4c554f2a3row6_col4 {\n",
       "            background-color:  #dad9ea;\n",
       "            color:  #000000;\n",
       "        }    #T_64777d49_1abd_11eb_9ff0_a0a4c554f2a3row6_col5 {\n",
       "            background-color:  #d4d4e8;\n",
       "            color:  #000000;\n",
       "        }    #T_64777d49_1abd_11eb_9ff0_a0a4c554f2a3row6_col6 {\n",
       "            background-color:  #d2d2e7;\n",
       "            color:  #000000;\n",
       "        }    #T_64777d49_1abd_11eb_9ff0_a0a4c554f2a3row6_col7 {\n",
       "            background-color:  #d4d4e8;\n",
       "            color:  #000000;\n",
       "        }    #T_64777d49_1abd_11eb_9ff0_a0a4c554f2a3row6_col8 {\n",
       "            background-color:  #d2d2e7;\n",
       "            color:  #000000;\n",
       "        }    #T_64777d49_1abd_11eb_9ff0_a0a4c554f2a3row6_col9 {\n",
       "            background-color:  #d5d5e8;\n",
       "            color:  #000000;\n",
       "        }    #T_64777d49_1abd_11eb_9ff0_a0a4c554f2a3row6_col10 {\n",
       "            background-color:  #e0deed;\n",
       "            color:  #000000;\n",
       "        }    #T_64777d49_1abd_11eb_9ff0_a0a4c554f2a3row7_col0 {\n",
       "            background-color:  #e7e3f0;\n",
       "            color:  #000000;\n",
       "        }    #T_64777d49_1abd_11eb_9ff0_a0a4c554f2a3row7_col1 {\n",
       "            background-color:  #eee8f3;\n",
       "            color:  #000000;\n",
       "        }    #T_64777d49_1abd_11eb_9ff0_a0a4c554f2a3row7_col2 {\n",
       "            background-color:  #f1ebf4;\n",
       "            color:  #000000;\n",
       "        }    #T_64777d49_1abd_11eb_9ff0_a0a4c554f2a3row7_col3 {\n",
       "            background-color:  #f1ebf5;\n",
       "            color:  #000000;\n",
       "        }    #T_64777d49_1abd_11eb_9ff0_a0a4c554f2a3row7_col4 {\n",
       "            background-color:  #f1ebf4;\n",
       "            color:  #000000;\n",
       "        }    #T_64777d49_1abd_11eb_9ff0_a0a4c554f2a3row7_col5 {\n",
       "            background-color:  #eee8f3;\n",
       "            color:  #000000;\n",
       "        }    #T_64777d49_1abd_11eb_9ff0_a0a4c554f2a3row7_col6 {\n",
       "            background-color:  #ede8f3;\n",
       "            color:  #000000;\n",
       "        }    #T_64777d49_1abd_11eb_9ff0_a0a4c554f2a3row7_col7 {\n",
       "            background-color:  #ede8f3;\n",
       "            color:  #000000;\n",
       "        }    #T_64777d49_1abd_11eb_9ff0_a0a4c554f2a3row7_col8 {\n",
       "            background-color:  #ede7f2;\n",
       "            color:  #000000;\n",
       "        }    #T_64777d49_1abd_11eb_9ff0_a0a4c554f2a3row7_col9 {\n",
       "            background-color:  #f0eaf4;\n",
       "            color:  #000000;\n",
       "        }    #T_64777d49_1abd_11eb_9ff0_a0a4c554f2a3row7_col10 {\n",
       "            background-color:  #f1ebf4;\n",
       "            color:  #000000;\n",
       "        }    #T_64777d49_1abd_11eb_9ff0_a0a4c554f2a3row8_col0 {\n",
       "            background-color:  #e7e3f0;\n",
       "            color:  #000000;\n",
       "        }    #T_64777d49_1abd_11eb_9ff0_a0a4c554f2a3row8_col1 {\n",
       "            background-color:  #f2ecf5;\n",
       "            color:  #000000;\n",
       "        }    #T_64777d49_1abd_11eb_9ff0_a0a4c554f2a3row8_col2 {\n",
       "            background-color:  #e2dfee;\n",
       "            color:  #000000;\n",
       "        }    #T_64777d49_1abd_11eb_9ff0_a0a4c554f2a3row8_col3 {\n",
       "            background-color:  #f6eff7;\n",
       "            color:  #000000;\n",
       "        }    #T_64777d49_1abd_11eb_9ff0_a0a4c554f2a3row8_col4 {\n",
       "            background-color:  #f7f0f7;\n",
       "            color:  #000000;\n",
       "        }    #T_64777d49_1abd_11eb_9ff0_a0a4c554f2a3row8_col5 {\n",
       "            background-color:  #f5eef6;\n",
       "            color:  #000000;\n",
       "        }    #T_64777d49_1abd_11eb_9ff0_a0a4c554f2a3row8_col6 {\n",
       "            background-color:  #f5eef6;\n",
       "            color:  #000000;\n",
       "        }    #T_64777d49_1abd_11eb_9ff0_a0a4c554f2a3row8_col7 {\n",
       "            background-color:  #f5eef6;\n",
       "            color:  #000000;\n",
       "        }    #T_64777d49_1abd_11eb_9ff0_a0a4c554f2a3row8_col8 {\n",
       "            background-color:  #f4eef6;\n",
       "            color:  #000000;\n",
       "        }    #T_64777d49_1abd_11eb_9ff0_a0a4c554f2a3row8_col9 {\n",
       "            background-color:  #f6eff7;\n",
       "            color:  #000000;\n",
       "        }    #T_64777d49_1abd_11eb_9ff0_a0a4c554f2a3row8_col10 {\n",
       "            background-color:  #fdf5fa;\n",
       "            color:  #000000;\n",
       "        }    #T_64777d49_1abd_11eb_9ff0_a0a4c554f2a3row9_col0 {\n",
       "            background-color:  #e7e3f0;\n",
       "            color:  #000000;\n",
       "        }    #T_64777d49_1abd_11eb_9ff0_a0a4c554f2a3row9_col1 {\n",
       "            background-color:  #ede7f2;\n",
       "            color:  #000000;\n",
       "        }    #T_64777d49_1abd_11eb_9ff0_a0a4c554f2a3row9_col2 {\n",
       "            background-color:  #e3e0ee;\n",
       "            color:  #000000;\n",
       "        }    #T_64777d49_1abd_11eb_9ff0_a0a4c554f2a3row9_col3 {\n",
       "            background-color:  #ede7f2;\n",
       "            color:  #000000;\n",
       "        }    #T_64777d49_1abd_11eb_9ff0_a0a4c554f2a3row9_col4 {\n",
       "            background-color:  #ede7f2;\n",
       "            color:  #000000;\n",
       "        }    #T_64777d49_1abd_11eb_9ff0_a0a4c554f2a3row9_col5 {\n",
       "            background-color:  #e9e5f1;\n",
       "            color:  #000000;\n",
       "        }    #T_64777d49_1abd_11eb_9ff0_a0a4c554f2a3row9_col6 {\n",
       "            background-color:  #e9e5f1;\n",
       "            color:  #000000;\n",
       "        }    #T_64777d49_1abd_11eb_9ff0_a0a4c554f2a3row9_col7 {\n",
       "            background-color:  #ebe6f2;\n",
       "            color:  #000000;\n",
       "        }    #T_64777d49_1abd_11eb_9ff0_a0a4c554f2a3row9_col8 {\n",
       "            background-color:  #eee8f3;\n",
       "            color:  #000000;\n",
       "        }    #T_64777d49_1abd_11eb_9ff0_a0a4c554f2a3row9_col9 {\n",
       "            background-color:  #eee9f3;\n",
       "            color:  #000000;\n",
       "        }    #T_64777d49_1abd_11eb_9ff0_a0a4c554f2a3row9_col10 {\n",
       "            background-color:  #eee9f3;\n",
       "            color:  #000000;\n",
       "        }    #T_64777d49_1abd_11eb_9ff0_a0a4c554f2a3row10_col0 {\n",
       "            background-color:  #e8e4f0;\n",
       "            color:  #000000;\n",
       "        }    #T_64777d49_1abd_11eb_9ff0_a0a4c554f2a3row10_col1 {\n",
       "            background-color:  #eee9f3;\n",
       "            color:  #000000;\n",
       "        }    #T_64777d49_1abd_11eb_9ff0_a0a4c554f2a3row10_col2 {\n",
       "            background-color:  #ebe6f2;\n",
       "            color:  #000000;\n",
       "        }    #T_64777d49_1abd_11eb_9ff0_a0a4c554f2a3row10_col3 {\n",
       "            background-color:  #ede8f3;\n",
       "            color:  #000000;\n",
       "        }    #T_64777d49_1abd_11eb_9ff0_a0a4c554f2a3row10_col4 {\n",
       "            background-color:  #eee8f3;\n",
       "            color:  #000000;\n",
       "        }    #T_64777d49_1abd_11eb_9ff0_a0a4c554f2a3row10_col5 {\n",
       "            background-color:  #ede7f2;\n",
       "            color:  #000000;\n",
       "        }    #T_64777d49_1abd_11eb_9ff0_a0a4c554f2a3row10_col6 {\n",
       "            background-color:  #e7e3f0;\n",
       "            color:  #000000;\n",
       "        }    #T_64777d49_1abd_11eb_9ff0_a0a4c554f2a3row10_col7 {\n",
       "            background-color:  #e7e3f0;\n",
       "            color:  #000000;\n",
       "        }    #T_64777d49_1abd_11eb_9ff0_a0a4c554f2a3row10_col8 {\n",
       "            background-color:  #e8e4f0;\n",
       "            color:  #000000;\n",
       "        }    #T_64777d49_1abd_11eb_9ff0_a0a4c554f2a3row10_col9 {\n",
       "            background-color:  #e8e4f0;\n",
       "            color:  #000000;\n",
       "        }    #T_64777d49_1abd_11eb_9ff0_a0a4c554f2a3row10_col10 {\n",
       "            background-color:  #f2ecf5;\n",
       "            color:  #000000;\n",
       "        }    #T_64777d49_1abd_11eb_9ff0_a0a4c554f2a3row11_col0 {\n",
       "            background-color:  #e9e5f1;\n",
       "            color:  #000000;\n",
       "        }    #T_64777d49_1abd_11eb_9ff0_a0a4c554f2a3row11_col1 {\n",
       "            background-color:  #e0deed;\n",
       "            color:  #000000;\n",
       "        }    #T_64777d49_1abd_11eb_9ff0_a0a4c554f2a3row11_col2 {\n",
       "            background-color:  #e7e3f0;\n",
       "            color:  #000000;\n",
       "        }    #T_64777d49_1abd_11eb_9ff0_a0a4c554f2a3row11_col3 {\n",
       "            background-color:  #dfddec;\n",
       "            color:  #000000;\n",
       "        }    #T_64777d49_1abd_11eb_9ff0_a0a4c554f2a3row11_col4 {\n",
       "            background-color:  #e0dded;\n",
       "            color:  #000000;\n",
       "        }    #T_64777d49_1abd_11eb_9ff0_a0a4c554f2a3row11_col5 {\n",
       "            background-color:  #d9d8ea;\n",
       "            color:  #000000;\n",
       "        }    #T_64777d49_1abd_11eb_9ff0_a0a4c554f2a3row11_col6 {\n",
       "            background-color:  #d7d6e9;\n",
       "            color:  #000000;\n",
       "        }    #T_64777d49_1abd_11eb_9ff0_a0a4c554f2a3row11_col7 {\n",
       "            background-color:  #d9d8ea;\n",
       "            color:  #000000;\n",
       "        }    #T_64777d49_1abd_11eb_9ff0_a0a4c554f2a3row11_col8 {\n",
       "            background-color:  #dad9ea;\n",
       "            color:  #000000;\n",
       "        }    #T_64777d49_1abd_11eb_9ff0_a0a4c554f2a3row11_col9 {\n",
       "            background-color:  #d7d6e9;\n",
       "            color:  #000000;\n",
       "        }    #T_64777d49_1abd_11eb_9ff0_a0a4c554f2a3row11_col10 {\n",
       "            background-color:  #dedcec;\n",
       "            color:  #000000;\n",
       "        }    #T_64777d49_1abd_11eb_9ff0_a0a4c554f2a3row12_col0 {\n",
       "            background-color:  #ece7f2;\n",
       "            color:  #000000;\n",
       "        }    #T_64777d49_1abd_11eb_9ff0_a0a4c554f2a3row12_col1 {\n",
       "            background-color:  #efe9f3;\n",
       "            color:  #000000;\n",
       "        }    #T_64777d49_1abd_11eb_9ff0_a0a4c554f2a3row12_col2 {\n",
       "            background-color:  #eee9f3;\n",
       "            color:  #000000;\n",
       "        }    #T_64777d49_1abd_11eb_9ff0_a0a4c554f2a3row12_col3 {\n",
       "            background-color:  #ede8f3;\n",
       "            color:  #000000;\n",
       "        }    #T_64777d49_1abd_11eb_9ff0_a0a4c554f2a3row12_col4 {\n",
       "            background-color:  #ece7f2;\n",
       "            color:  #000000;\n",
       "        }    #T_64777d49_1abd_11eb_9ff0_a0a4c554f2a3row12_col5 {\n",
       "            background-color:  #ebe6f2;\n",
       "            color:  #000000;\n",
       "        }    #T_64777d49_1abd_11eb_9ff0_a0a4c554f2a3row12_col6 {\n",
       "            background-color:  #eae6f1;\n",
       "            color:  #000000;\n",
       "        }    #T_64777d49_1abd_11eb_9ff0_a0a4c554f2a3row12_col7 {\n",
       "            background-color:  #ece7f2;\n",
       "            color:  #000000;\n",
       "        }    #T_64777d49_1abd_11eb_9ff0_a0a4c554f2a3row12_col8 {\n",
       "            background-color:  #ede7f2;\n",
       "            color:  #000000;\n",
       "        }    #T_64777d49_1abd_11eb_9ff0_a0a4c554f2a3row12_col9 {\n",
       "            background-color:  #eae6f1;\n",
       "            color:  #000000;\n",
       "        }    #T_64777d49_1abd_11eb_9ff0_a0a4c554f2a3row12_col10 {\n",
       "            background-color:  #ece7f2;\n",
       "            color:  #000000;\n",
       "        }    #T_64777d49_1abd_11eb_9ff0_a0a4c554f2a3row13_col0 {\n",
       "            background-color:  #ede8f3;\n",
       "            color:  #000000;\n",
       "        }    #T_64777d49_1abd_11eb_9ff0_a0a4c554f2a3row13_col1 {\n",
       "            background-color:  #f0eaf4;\n",
       "            color:  #000000;\n",
       "        }    #T_64777d49_1abd_11eb_9ff0_a0a4c554f2a3row13_col2 {\n",
       "            background-color:  #ebe6f2;\n",
       "            color:  #000000;\n",
       "        }    #T_64777d49_1abd_11eb_9ff0_a0a4c554f2a3row13_col3 {\n",
       "            background-color:  #f2ecf5;\n",
       "            color:  #000000;\n",
       "        }    #T_64777d49_1abd_11eb_9ff0_a0a4c554f2a3row13_col4 {\n",
       "            background-color:  #f3edf5;\n",
       "            color:  #000000;\n",
       "        }    #T_64777d49_1abd_11eb_9ff0_a0a4c554f2a3row13_col5 {\n",
       "            background-color:  #f1ebf4;\n",
       "            color:  #000000;\n",
       "        }    #T_64777d49_1abd_11eb_9ff0_a0a4c554f2a3row13_col6 {\n",
       "            background-color:  #f2ecf5;\n",
       "            color:  #000000;\n",
       "        }    #T_64777d49_1abd_11eb_9ff0_a0a4c554f2a3row13_col7 {\n",
       "            background-color:  #f1ebf5;\n",
       "            color:  #000000;\n",
       "        }    #T_64777d49_1abd_11eb_9ff0_a0a4c554f2a3row13_col8 {\n",
       "            background-color:  #f2ecf5;\n",
       "            color:  #000000;\n",
       "        }    #T_64777d49_1abd_11eb_9ff0_a0a4c554f2a3row13_col9 {\n",
       "            background-color:  #f2ecf5;\n",
       "            color:  #000000;\n",
       "        }    #T_64777d49_1abd_11eb_9ff0_a0a4c554f2a3row13_col10 {\n",
       "            background-color:  #eee8f3;\n",
       "            color:  #000000;\n",
       "        }    #T_64777d49_1abd_11eb_9ff0_a0a4c554f2a3row14_col0 {\n",
       "            background-color:  #f0eaf4;\n",
       "            color:  #000000;\n",
       "        }    #T_64777d49_1abd_11eb_9ff0_a0a4c554f2a3row14_col1 {\n",
       "            background-color:  #ede7f2;\n",
       "            color:  #000000;\n",
       "        }    #T_64777d49_1abd_11eb_9ff0_a0a4c554f2a3row14_col2 {\n",
       "            background-color:  #f2ecf5;\n",
       "            color:  #000000;\n",
       "        }    #T_64777d49_1abd_11eb_9ff0_a0a4c554f2a3row14_col3 {\n",
       "            background-color:  #ece7f2;\n",
       "            color:  #000000;\n",
       "        }    #T_64777d49_1abd_11eb_9ff0_a0a4c554f2a3row14_col4 {\n",
       "            background-color:  #ede7f2;\n",
       "            color:  #000000;\n",
       "        }    #T_64777d49_1abd_11eb_9ff0_a0a4c554f2a3row14_col5 {\n",
       "            background-color:  #ece7f2;\n",
       "            color:  #000000;\n",
       "        }    #T_64777d49_1abd_11eb_9ff0_a0a4c554f2a3row14_col6 {\n",
       "            background-color:  #ece7f2;\n",
       "            color:  #000000;\n",
       "        }    #T_64777d49_1abd_11eb_9ff0_a0a4c554f2a3row14_col7 {\n",
       "            background-color:  #eee9f3;\n",
       "            color:  #000000;\n",
       "        }    #T_64777d49_1abd_11eb_9ff0_a0a4c554f2a3row14_col8 {\n",
       "            background-color:  #eee9f3;\n",
       "            color:  #000000;\n",
       "        }    #T_64777d49_1abd_11eb_9ff0_a0a4c554f2a3row14_col9 {\n",
       "            background-color:  #f1ebf4;\n",
       "            color:  #000000;\n",
       "        }    #T_64777d49_1abd_11eb_9ff0_a0a4c554f2a3row14_col10 {\n",
       "            background-color:  #ede8f3;\n",
       "            color:  #000000;\n",
       "        }    #T_64777d49_1abd_11eb_9ff0_a0a4c554f2a3row15_col0 {\n",
       "            background-color:  #f0eaf4;\n",
       "            color:  #000000;\n",
       "        }    #T_64777d49_1abd_11eb_9ff0_a0a4c554f2a3row15_col1 {\n",
       "            background-color:  #f2ecf5;\n",
       "            color:  #000000;\n",
       "        }    #T_64777d49_1abd_11eb_9ff0_a0a4c554f2a3row15_col2 {\n",
       "            background-color:  #f0eaf4;\n",
       "            color:  #000000;\n",
       "        }    #T_64777d49_1abd_11eb_9ff0_a0a4c554f2a3row15_col3 {\n",
       "            background-color:  #f1ebf5;\n",
       "            color:  #000000;\n",
       "        }    #T_64777d49_1abd_11eb_9ff0_a0a4c554f2a3row15_col4 {\n",
       "            background-color:  #f2ecf5;\n",
       "            color:  #000000;\n",
       "        }    #T_64777d49_1abd_11eb_9ff0_a0a4c554f2a3row15_col5 {\n",
       "            background-color:  #f0eaf4;\n",
       "            color:  #000000;\n",
       "        }    #T_64777d49_1abd_11eb_9ff0_a0a4c554f2a3row15_col6 {\n",
       "            background-color:  #eee8f3;\n",
       "            color:  #000000;\n",
       "        }    #T_64777d49_1abd_11eb_9ff0_a0a4c554f2a3row15_col7 {\n",
       "            background-color:  #eee8f3;\n",
       "            color:  #000000;\n",
       "        }    #T_64777d49_1abd_11eb_9ff0_a0a4c554f2a3row15_col8 {\n",
       "            background-color:  #eee9f3;\n",
       "            color:  #000000;\n",
       "        }    #T_64777d49_1abd_11eb_9ff0_a0a4c554f2a3row15_col9 {\n",
       "            background-color:  #f1ebf5;\n",
       "            color:  #000000;\n",
       "        }    #T_64777d49_1abd_11eb_9ff0_a0a4c554f2a3row15_col10 {\n",
       "            background-color:  #f4eef6;\n",
       "            color:  #000000;\n",
       "        }    #T_64777d49_1abd_11eb_9ff0_a0a4c554f2a3row16_col0 {\n",
       "            background-color:  #f1ebf5;\n",
       "            color:  #000000;\n",
       "        }    #T_64777d49_1abd_11eb_9ff0_a0a4c554f2a3row16_col1 {\n",
       "            background-color:  #f5eff6;\n",
       "            color:  #000000;\n",
       "        }    #T_64777d49_1abd_11eb_9ff0_a0a4c554f2a3row16_col2 {\n",
       "            background-color:  #efe9f3;\n",
       "            color:  #000000;\n",
       "        }    #T_64777d49_1abd_11eb_9ff0_a0a4c554f2a3row16_col3 {\n",
       "            background-color:  #f0eaf4;\n",
       "            color:  #000000;\n",
       "        }    #T_64777d49_1abd_11eb_9ff0_a0a4c554f2a3row16_col4 {\n",
       "            background-color:  #eee9f3;\n",
       "            color:  #000000;\n",
       "        }    #T_64777d49_1abd_11eb_9ff0_a0a4c554f2a3row16_col5 {\n",
       "            background-color:  #eee9f3;\n",
       "            color:  #000000;\n",
       "        }    #T_64777d49_1abd_11eb_9ff0_a0a4c554f2a3row16_col6 {\n",
       "            background-color:  #efe9f3;\n",
       "            color:  #000000;\n",
       "        }    #T_64777d49_1abd_11eb_9ff0_a0a4c554f2a3row16_col7 {\n",
       "            background-color:  #f1ebf4;\n",
       "            color:  #000000;\n",
       "        }    #T_64777d49_1abd_11eb_9ff0_a0a4c554f2a3row16_col8 {\n",
       "            background-color:  #eee9f3;\n",
       "            color:  #000000;\n",
       "        }    #T_64777d49_1abd_11eb_9ff0_a0a4c554f2a3row16_col9 {\n",
       "            background-color:  #eae6f1;\n",
       "            color:  #000000;\n",
       "        }    #T_64777d49_1abd_11eb_9ff0_a0a4c554f2a3row16_col10 {\n",
       "            background-color:  #f7f0f7;\n",
       "            color:  #000000;\n",
       "        }    #T_64777d49_1abd_11eb_9ff0_a0a4c554f2a3row17_col0 {\n",
       "            background-color:  #f2ecf5;\n",
       "            color:  #000000;\n",
       "        }    #T_64777d49_1abd_11eb_9ff0_a0a4c554f2a3row17_col1 {\n",
       "            background-color:  #ede8f3;\n",
       "            color:  #000000;\n",
       "        }    #T_64777d49_1abd_11eb_9ff0_a0a4c554f2a3row17_col2 {\n",
       "            background-color:  #f5eff6;\n",
       "            color:  #000000;\n",
       "        }    #T_64777d49_1abd_11eb_9ff0_a0a4c554f2a3row17_col3 {\n",
       "            background-color:  #f8f1f8;\n",
       "            color:  #000000;\n",
       "        }    #T_64777d49_1abd_11eb_9ff0_a0a4c554f2a3row17_col4 {\n",
       "            background-color:  #f4eef6;\n",
       "            color:  #000000;\n",
       "        }    #T_64777d49_1abd_11eb_9ff0_a0a4c554f2a3row17_col5 {\n",
       "            background-color:  #f5eff6;\n",
       "            color:  #000000;\n",
       "        }    #T_64777d49_1abd_11eb_9ff0_a0a4c554f2a3row17_col6 {\n",
       "            background-color:  #f5eff6;\n",
       "            color:  #000000;\n",
       "        }    #T_64777d49_1abd_11eb_9ff0_a0a4c554f2a3row17_col7 {\n",
       "            background-color:  #f7f0f7;\n",
       "            color:  #000000;\n",
       "        }    #T_64777d49_1abd_11eb_9ff0_a0a4c554f2a3row17_col8 {\n",
       "            background-color:  #f6eff7;\n",
       "            color:  #000000;\n",
       "        }    #T_64777d49_1abd_11eb_9ff0_a0a4c554f2a3row17_col9 {\n",
       "            background-color:  #f9f2f8;\n",
       "            color:  #000000;\n",
       "        }    #T_64777d49_1abd_11eb_9ff0_a0a4c554f2a3row17_col10 {\n",
       "            background-color:  #f9f2f8;\n",
       "            color:  #000000;\n",
       "        }    #T_64777d49_1abd_11eb_9ff0_a0a4c554f2a3row18_col0 {\n",
       "            background-color:  #f3edf5;\n",
       "            color:  #000000;\n",
       "        }    #T_64777d49_1abd_11eb_9ff0_a0a4c554f2a3row18_col1 {\n",
       "            background-color:  #f3edf5;\n",
       "            color:  #000000;\n",
       "        }    #T_64777d49_1abd_11eb_9ff0_a0a4c554f2a3row18_col2 {\n",
       "            background-color:  #f0eaf4;\n",
       "            color:  #000000;\n",
       "        }    #T_64777d49_1abd_11eb_9ff0_a0a4c554f2a3row18_col3 {\n",
       "            background-color:  #f3edf5;\n",
       "            color:  #000000;\n",
       "        }    #T_64777d49_1abd_11eb_9ff0_a0a4c554f2a3row18_col4 {\n",
       "            background-color:  #f2ecf5;\n",
       "            color:  #000000;\n",
       "        }    #T_64777d49_1abd_11eb_9ff0_a0a4c554f2a3row18_col5 {\n",
       "            background-color:  #f1ebf5;\n",
       "            color:  #000000;\n",
       "        }    #T_64777d49_1abd_11eb_9ff0_a0a4c554f2a3row18_col6 {\n",
       "            background-color:  #f1ebf4;\n",
       "            color:  #000000;\n",
       "        }    #T_64777d49_1abd_11eb_9ff0_a0a4c554f2a3row18_col7 {\n",
       "            background-color:  #f2ecf5;\n",
       "            color:  #000000;\n",
       "        }    #T_64777d49_1abd_11eb_9ff0_a0a4c554f2a3row18_col8 {\n",
       "            background-color:  #f2ecf5;\n",
       "            color:  #000000;\n",
       "        }    #T_64777d49_1abd_11eb_9ff0_a0a4c554f2a3row18_col9 {\n",
       "            background-color:  #f0eaf4;\n",
       "            color:  #000000;\n",
       "        }    #T_64777d49_1abd_11eb_9ff0_a0a4c554f2a3row18_col10 {\n",
       "            background-color:  #f1ebf5;\n",
       "            color:  #000000;\n",
       "        }    #T_64777d49_1abd_11eb_9ff0_a0a4c554f2a3row19_col0 {\n",
       "            background-color:  #f3edf5;\n",
       "            color:  #000000;\n",
       "        }    #T_64777d49_1abd_11eb_9ff0_a0a4c554f2a3row19_col1 {\n",
       "            background-color:  #f5eef6;\n",
       "            color:  #000000;\n",
       "        }    #T_64777d49_1abd_11eb_9ff0_a0a4c554f2a3row19_col2 {\n",
       "            background-color:  #f4edf6;\n",
       "            color:  #000000;\n",
       "        }    #T_64777d49_1abd_11eb_9ff0_a0a4c554f2a3row19_col3 {\n",
       "            background-color:  #f5eff6;\n",
       "            color:  #000000;\n",
       "        }    #T_64777d49_1abd_11eb_9ff0_a0a4c554f2a3row19_col4 {\n",
       "            background-color:  #f7f0f7;\n",
       "            color:  #000000;\n",
       "        }    #T_64777d49_1abd_11eb_9ff0_a0a4c554f2a3row19_col5 {\n",
       "            background-color:  #f5eff6;\n",
       "            color:  #000000;\n",
       "        }    #T_64777d49_1abd_11eb_9ff0_a0a4c554f2a3row19_col6 {\n",
       "            background-color:  #f5eef6;\n",
       "            color:  #000000;\n",
       "        }    #T_64777d49_1abd_11eb_9ff0_a0a4c554f2a3row19_col7 {\n",
       "            background-color:  #f5eff6;\n",
       "            color:  #000000;\n",
       "        }    #T_64777d49_1abd_11eb_9ff0_a0a4c554f2a3row19_col8 {\n",
       "            background-color:  #f5eff6;\n",
       "            color:  #000000;\n",
       "        }    #T_64777d49_1abd_11eb_9ff0_a0a4c554f2a3row19_col9 {\n",
       "            background-color:  #f5eef6;\n",
       "            color:  #000000;\n",
       "        }    #T_64777d49_1abd_11eb_9ff0_a0a4c554f2a3row19_col10 {\n",
       "            background-color:  #f8f1f8;\n",
       "            color:  #000000;\n",
       "        }    #T_64777d49_1abd_11eb_9ff0_a0a4c554f2a3row20_col0 {\n",
       "            background-color:  #f4eef6;\n",
       "            color:  #000000;\n",
       "        }    #T_64777d49_1abd_11eb_9ff0_a0a4c554f2a3row20_col1 {\n",
       "            background-color:  #f8f1f8;\n",
       "            color:  #000000;\n",
       "        }    #T_64777d49_1abd_11eb_9ff0_a0a4c554f2a3row20_col2 {\n",
       "            background-color:  #f8f1f8;\n",
       "            color:  #000000;\n",
       "        }    #T_64777d49_1abd_11eb_9ff0_a0a4c554f2a3row20_col3 {\n",
       "            background-color:  #faf2f8;\n",
       "            color:  #000000;\n",
       "        }    #T_64777d49_1abd_11eb_9ff0_a0a4c554f2a3row20_col4 {\n",
       "            background-color:  #fbf4f9;\n",
       "            color:  #000000;\n",
       "        }    #T_64777d49_1abd_11eb_9ff0_a0a4c554f2a3row20_col5 {\n",
       "            background-color:  #fcf4fa;\n",
       "            color:  #000000;\n",
       "        }    #T_64777d49_1abd_11eb_9ff0_a0a4c554f2a3row20_col6 {\n",
       "            background-color:  #fbf4f9;\n",
       "            color:  #000000;\n",
       "        }    #T_64777d49_1abd_11eb_9ff0_a0a4c554f2a3row20_col7 {\n",
       "            background-color:  #fbf4f9;\n",
       "            color:  #000000;\n",
       "        }    #T_64777d49_1abd_11eb_9ff0_a0a4c554f2a3row20_col8 {\n",
       "            background-color:  #fbf3f9;\n",
       "            color:  #000000;\n",
       "        }    #T_64777d49_1abd_11eb_9ff0_a0a4c554f2a3row20_col9 {\n",
       "            background-color:  #fbf3f9;\n",
       "            color:  #000000;\n",
       "        }    #T_64777d49_1abd_11eb_9ff0_a0a4c554f2a3row20_col10 {\n",
       "            background-color:  #f8f1f8;\n",
       "            color:  #000000;\n",
       "        }    #T_64777d49_1abd_11eb_9ff0_a0a4c554f2a3row21_col0 {\n",
       "            background-color:  #f5eff6;\n",
       "            color:  #000000;\n",
       "        }    #T_64777d49_1abd_11eb_9ff0_a0a4c554f2a3row21_col1 {\n",
       "            background-color:  #fdf5fa;\n",
       "            color:  #000000;\n",
       "        }    #T_64777d49_1abd_11eb_9ff0_a0a4c554f2a3row21_col2 {\n",
       "            background-color:  #ece7f2;\n",
       "            color:  #000000;\n",
       "        }    #T_64777d49_1abd_11eb_9ff0_a0a4c554f2a3row21_col3 {\n",
       "            background-color:  #fcf4fa;\n",
       "            color:  #000000;\n",
       "        }    #T_64777d49_1abd_11eb_9ff0_a0a4c554f2a3row21_col4 {\n",
       "            background-color:  #fdf5fa;\n",
       "            color:  #000000;\n",
       "        }    #T_64777d49_1abd_11eb_9ff0_a0a4c554f2a3row21_col5 {\n",
       "            background-color:  #fcf4fa;\n",
       "            color:  #000000;\n",
       "        }    #T_64777d49_1abd_11eb_9ff0_a0a4c554f2a3row21_col6 {\n",
       "            background-color:  #fcf4fa;\n",
       "            color:  #000000;\n",
       "        }    #T_64777d49_1abd_11eb_9ff0_a0a4c554f2a3row21_col7 {\n",
       "            background-color:  #fdf5fa;\n",
       "            color:  #000000;\n",
       "        }    #T_64777d49_1abd_11eb_9ff0_a0a4c554f2a3row21_col8 {\n",
       "            background-color:  #fdf5fa;\n",
       "            color:  #000000;\n",
       "        }    #T_64777d49_1abd_11eb_9ff0_a0a4c554f2a3row21_col9 {\n",
       "            background-color:  #fdf5fa;\n",
       "            color:  #000000;\n",
       "        }    #T_64777d49_1abd_11eb_9ff0_a0a4c554f2a3row21_col10 {\n",
       "            background-color:  #fdf5fa;\n",
       "            color:  #000000;\n",
       "        }    #T_64777d49_1abd_11eb_9ff0_a0a4c554f2a3row22_col0 {\n",
       "            background-color:  #f5eff6;\n",
       "            color:  #000000;\n",
       "        }    #T_64777d49_1abd_11eb_9ff0_a0a4c554f2a3row22_col1 {\n",
       "            background-color:  #fdf5fa;\n",
       "            color:  #000000;\n",
       "        }    #T_64777d49_1abd_11eb_9ff0_a0a4c554f2a3row22_col2 {\n",
       "            background-color:  #ece7f2;\n",
       "            color:  #000000;\n",
       "        }    #T_64777d49_1abd_11eb_9ff0_a0a4c554f2a3row22_col3 {\n",
       "            background-color:  #fcf4fa;\n",
       "            color:  #000000;\n",
       "        }    #T_64777d49_1abd_11eb_9ff0_a0a4c554f2a3row22_col4 {\n",
       "            background-color:  #fdf5fa;\n",
       "            color:  #000000;\n",
       "        }    #T_64777d49_1abd_11eb_9ff0_a0a4c554f2a3row22_col5 {\n",
       "            background-color:  #fcf4fa;\n",
       "            color:  #000000;\n",
       "        }    #T_64777d49_1abd_11eb_9ff0_a0a4c554f2a3row22_col6 {\n",
       "            background-color:  #fcf4fa;\n",
       "            color:  #000000;\n",
       "        }    #T_64777d49_1abd_11eb_9ff0_a0a4c554f2a3row22_col7 {\n",
       "            background-color:  #fdf5fa;\n",
       "            color:  #000000;\n",
       "        }    #T_64777d49_1abd_11eb_9ff0_a0a4c554f2a3row22_col8 {\n",
       "            background-color:  #fdf5fa;\n",
       "            color:  #000000;\n",
       "        }    #T_64777d49_1abd_11eb_9ff0_a0a4c554f2a3row22_col9 {\n",
       "            background-color:  #fdf5fa;\n",
       "            color:  #000000;\n",
       "        }    #T_64777d49_1abd_11eb_9ff0_a0a4c554f2a3row22_col10 {\n",
       "            background-color:  #fdf5fa;\n",
       "            color:  #000000;\n",
       "        }    #T_64777d49_1abd_11eb_9ff0_a0a4c554f2a3row23_col0 {\n",
       "            background-color:  #f6eff7;\n",
       "            color:  #000000;\n",
       "        }    #T_64777d49_1abd_11eb_9ff0_a0a4c554f2a3row23_col1 {\n",
       "            background-color:  #f6eff7;\n",
       "            color:  #000000;\n",
       "        }    #T_64777d49_1abd_11eb_9ff0_a0a4c554f2a3row23_col2 {\n",
       "            background-color:  #f6eff7;\n",
       "            color:  #000000;\n",
       "        }    #T_64777d49_1abd_11eb_9ff0_a0a4c554f2a3row23_col3 {\n",
       "            background-color:  #f8f1f8;\n",
       "            color:  #000000;\n",
       "        }    #T_64777d49_1abd_11eb_9ff0_a0a4c554f2a3row23_col4 {\n",
       "            background-color:  #f8f1f8;\n",
       "            color:  #000000;\n",
       "        }    #T_64777d49_1abd_11eb_9ff0_a0a4c554f2a3row23_col5 {\n",
       "            background-color:  #f6eff7;\n",
       "            color:  #000000;\n",
       "        }    #T_64777d49_1abd_11eb_9ff0_a0a4c554f2a3row23_col6 {\n",
       "            background-color:  #f4eef6;\n",
       "            color:  #000000;\n",
       "        }    #T_64777d49_1abd_11eb_9ff0_a0a4c554f2a3row23_col7 {\n",
       "            background-color:  #f4eef6;\n",
       "            color:  #000000;\n",
       "        }    #T_64777d49_1abd_11eb_9ff0_a0a4c554f2a3row23_col8 {\n",
       "            background-color:  #f4edf6;\n",
       "            color:  #000000;\n",
       "        }    #T_64777d49_1abd_11eb_9ff0_a0a4c554f2a3row23_col9 {\n",
       "            background-color:  #f4edf6;\n",
       "            color:  #000000;\n",
       "        }    #T_64777d49_1abd_11eb_9ff0_a0a4c554f2a3row23_col10 {\n",
       "            background-color:  #f5eef6;\n",
       "            color:  #000000;\n",
       "        }    #T_64777d49_1abd_11eb_9ff0_a0a4c554f2a3row24_col0 {\n",
       "            background-color:  #f6eff7;\n",
       "            color:  #000000;\n",
       "        }    #T_64777d49_1abd_11eb_9ff0_a0a4c554f2a3row24_col1 {\n",
       "            background-color:  #fff7fb;\n",
       "            color:  #000000;\n",
       "        }    #T_64777d49_1abd_11eb_9ff0_a0a4c554f2a3row24_col2 {\n",
       "            background-color:  #f8f1f8;\n",
       "            color:  #000000;\n",
       "        }    #T_64777d49_1abd_11eb_9ff0_a0a4c554f2a3row24_col3 {\n",
       "            background-color:  #fff7fb;\n",
       "            color:  #000000;\n",
       "        }    #T_64777d49_1abd_11eb_9ff0_a0a4c554f2a3row24_col4 {\n",
       "            background-color:  #fff7fb;\n",
       "            color:  #000000;\n",
       "        }    #T_64777d49_1abd_11eb_9ff0_a0a4c554f2a3row24_col5 {\n",
       "            background-color:  #fff7fb;\n",
       "            color:  #000000;\n",
       "        }    #T_64777d49_1abd_11eb_9ff0_a0a4c554f2a3row24_col6 {\n",
       "            background-color:  #fff7fb;\n",
       "            color:  #000000;\n",
       "        }    #T_64777d49_1abd_11eb_9ff0_a0a4c554f2a3row24_col7 {\n",
       "            background-color:  #fff7fb;\n",
       "            color:  #000000;\n",
       "        }    #T_64777d49_1abd_11eb_9ff0_a0a4c554f2a3row24_col8 {\n",
       "            background-color:  #fff7fb;\n",
       "            color:  #000000;\n",
       "        }    #T_64777d49_1abd_11eb_9ff0_a0a4c554f2a3row24_col9 {\n",
       "            background-color:  #fff7fb;\n",
       "            color:  #000000;\n",
       "        }    #T_64777d49_1abd_11eb_9ff0_a0a4c554f2a3row24_col10 {\n",
       "            background-color:  #fff7fb;\n",
       "            color:  #000000;\n",
       "        }    #T_64777d49_1abd_11eb_9ff0_a0a4c554f2a3row25_col0 {\n",
       "            background-color:  #f7f0f7;\n",
       "            color:  #000000;\n",
       "        }    #T_64777d49_1abd_11eb_9ff0_a0a4c554f2a3row25_col1 {\n",
       "            background-color:  #eee9f3;\n",
       "            color:  #000000;\n",
       "        }    #T_64777d49_1abd_11eb_9ff0_a0a4c554f2a3row25_col2 {\n",
       "            background-color:  #f5eff6;\n",
       "            color:  #000000;\n",
       "        }    #T_64777d49_1abd_11eb_9ff0_a0a4c554f2a3row25_col3 {\n",
       "            background-color:  #f4eef6;\n",
       "            color:  #000000;\n",
       "        }    #T_64777d49_1abd_11eb_9ff0_a0a4c554f2a3row25_col4 {\n",
       "            background-color:  #f2ecf5;\n",
       "            color:  #000000;\n",
       "        }    #T_64777d49_1abd_11eb_9ff0_a0a4c554f2a3row25_col5 {\n",
       "            background-color:  #f1ebf5;\n",
       "            color:  #000000;\n",
       "        }    #T_64777d49_1abd_11eb_9ff0_a0a4c554f2a3row25_col6 {\n",
       "            background-color:  #f1ebf4;\n",
       "            color:  #000000;\n",
       "        }    #T_64777d49_1abd_11eb_9ff0_a0a4c554f2a3row25_col7 {\n",
       "            background-color:  #f1ebf4;\n",
       "            color:  #000000;\n",
       "        }    #T_64777d49_1abd_11eb_9ff0_a0a4c554f2a3row25_col8 {\n",
       "            background-color:  #f1ebf5;\n",
       "            color:  #000000;\n",
       "        }    #T_64777d49_1abd_11eb_9ff0_a0a4c554f2a3row25_col9 {\n",
       "            background-color:  #f3edf5;\n",
       "            color:  #000000;\n",
       "        }    #T_64777d49_1abd_11eb_9ff0_a0a4c554f2a3row25_col10 {\n",
       "            background-color:  #ede8f3;\n",
       "            color:  #000000;\n",
       "        }    #T_64777d49_1abd_11eb_9ff0_a0a4c554f2a3row26_col0 {\n",
       "            background-color:  #f7f0f7;\n",
       "            color:  #000000;\n",
       "        }    #T_64777d49_1abd_11eb_9ff0_a0a4c554f2a3row26_col1 {\n",
       "            background-color:  #eee9f3;\n",
       "            color:  #000000;\n",
       "        }    #T_64777d49_1abd_11eb_9ff0_a0a4c554f2a3row26_col2 {\n",
       "            background-color:  #f2ecf5;\n",
       "            color:  #000000;\n",
       "        }    #T_64777d49_1abd_11eb_9ff0_a0a4c554f2a3row26_col3 {\n",
       "            background-color:  #ebe6f2;\n",
       "            color:  #000000;\n",
       "        }    #T_64777d49_1abd_11eb_9ff0_a0a4c554f2a3row26_col4 {\n",
       "            background-color:  #eee8f3;\n",
       "            color:  #000000;\n",
       "        }    #T_64777d49_1abd_11eb_9ff0_a0a4c554f2a3row26_col5 {\n",
       "            background-color:  #ede7f2;\n",
       "            color:  #000000;\n",
       "        }    #T_64777d49_1abd_11eb_9ff0_a0a4c554f2a3row26_col6 {\n",
       "            background-color:  #ede7f2;\n",
       "            color:  #000000;\n",
       "        }    #T_64777d49_1abd_11eb_9ff0_a0a4c554f2a3row26_col7 {\n",
       "            background-color:  #eee9f3;\n",
       "            color:  #000000;\n",
       "        }    #T_64777d49_1abd_11eb_9ff0_a0a4c554f2a3row26_col8 {\n",
       "            background-color:  #ede8f3;\n",
       "            color:  #000000;\n",
       "        }    #T_64777d49_1abd_11eb_9ff0_a0a4c554f2a3row26_col9 {\n",
       "            background-color:  #eee8f3;\n",
       "            color:  #000000;\n",
       "        }    #T_64777d49_1abd_11eb_9ff0_a0a4c554f2a3row26_col10 {\n",
       "            background-color:  #ede7f2;\n",
       "            color:  #000000;\n",
       "        }    #T_64777d49_1abd_11eb_9ff0_a0a4c554f2a3row27_col0 {\n",
       "            background-color:  #f7f0f7;\n",
       "            color:  #000000;\n",
       "        }    #T_64777d49_1abd_11eb_9ff0_a0a4c554f2a3row27_col1 {\n",
       "            background-color:  #f8f1f8;\n",
       "            color:  #000000;\n",
       "        }    #T_64777d49_1abd_11eb_9ff0_a0a4c554f2a3row27_col2 {\n",
       "            background-color:  #f8f1f8;\n",
       "            color:  #000000;\n",
       "        }    #T_64777d49_1abd_11eb_9ff0_a0a4c554f2a3row27_col3 {\n",
       "            background-color:  #f9f2f8;\n",
       "            color:  #000000;\n",
       "        }    #T_64777d49_1abd_11eb_9ff0_a0a4c554f2a3row27_col4 {\n",
       "            background-color:  #f9f2f8;\n",
       "            color:  #000000;\n",
       "        }    #T_64777d49_1abd_11eb_9ff0_a0a4c554f2a3row27_col5 {\n",
       "            background-color:  #f8f1f8;\n",
       "            color:  #000000;\n",
       "        }    #T_64777d49_1abd_11eb_9ff0_a0a4c554f2a3row27_col6 {\n",
       "            background-color:  #f7f0f7;\n",
       "            color:  #000000;\n",
       "        }    #T_64777d49_1abd_11eb_9ff0_a0a4c554f2a3row27_col7 {\n",
       "            background-color:  #f7f0f7;\n",
       "            color:  #000000;\n",
       "        }    #T_64777d49_1abd_11eb_9ff0_a0a4c554f2a3row27_col8 {\n",
       "            background-color:  #f5eff6;\n",
       "            color:  #000000;\n",
       "        }    #T_64777d49_1abd_11eb_9ff0_a0a4c554f2a3row27_col9 {\n",
       "            background-color:  #f8f1f8;\n",
       "            color:  #000000;\n",
       "        }    #T_64777d49_1abd_11eb_9ff0_a0a4c554f2a3row27_col10 {\n",
       "            background-color:  #f7f0f7;\n",
       "            color:  #000000;\n",
       "        }    #T_64777d49_1abd_11eb_9ff0_a0a4c554f2a3row28_col0 {\n",
       "            background-color:  #f8f1f8;\n",
       "            color:  #000000;\n",
       "        }    #T_64777d49_1abd_11eb_9ff0_a0a4c554f2a3row28_col1 {\n",
       "            background-color:  #f8f1f8;\n",
       "            color:  #000000;\n",
       "        }    #T_64777d49_1abd_11eb_9ff0_a0a4c554f2a3row28_col2 {\n",
       "            background-color:  #f8f1f8;\n",
       "            color:  #000000;\n",
       "        }    #T_64777d49_1abd_11eb_9ff0_a0a4c554f2a3row28_col3 {\n",
       "            background-color:  #f9f2f8;\n",
       "            color:  #000000;\n",
       "        }    #T_64777d49_1abd_11eb_9ff0_a0a4c554f2a3row28_col4 {\n",
       "            background-color:  #faf2f8;\n",
       "            color:  #000000;\n",
       "        }    #T_64777d49_1abd_11eb_9ff0_a0a4c554f2a3row28_col5 {\n",
       "            background-color:  #f8f1f8;\n",
       "            color:  #000000;\n",
       "        }    #T_64777d49_1abd_11eb_9ff0_a0a4c554f2a3row28_col6 {\n",
       "            background-color:  #f5eff6;\n",
       "            color:  #000000;\n",
       "        }    #T_64777d49_1abd_11eb_9ff0_a0a4c554f2a3row28_col7 {\n",
       "            background-color:  #f5eff6;\n",
       "            color:  #000000;\n",
       "        }    #T_64777d49_1abd_11eb_9ff0_a0a4c554f2a3row28_col8 {\n",
       "            background-color:  #f5eff6;\n",
       "            color:  #000000;\n",
       "        }    #T_64777d49_1abd_11eb_9ff0_a0a4c554f2a3row28_col9 {\n",
       "            background-color:  #f7f0f7;\n",
       "            color:  #000000;\n",
       "        }    #T_64777d49_1abd_11eb_9ff0_a0a4c554f2a3row28_col10 {\n",
       "            background-color:  #f9f2f8;\n",
       "            color:  #000000;\n",
       "        }    #T_64777d49_1abd_11eb_9ff0_a0a4c554f2a3row29_col0 {\n",
       "            background-color:  #f8f1f8;\n",
       "            color:  #000000;\n",
       "        }    #T_64777d49_1abd_11eb_9ff0_a0a4c554f2a3row29_col1 {\n",
       "            background-color:  #f5eff6;\n",
       "            color:  #000000;\n",
       "        }    #T_64777d49_1abd_11eb_9ff0_a0a4c554f2a3row29_col2 {\n",
       "            background-color:  #f6eff7;\n",
       "            color:  #000000;\n",
       "        }    #T_64777d49_1abd_11eb_9ff0_a0a4c554f2a3row29_col3 {\n",
       "            background-color:  #f5eef6;\n",
       "            color:  #000000;\n",
       "        }    #T_64777d49_1abd_11eb_9ff0_a0a4c554f2a3row29_col4 {\n",
       "            background-color:  #f4eef6;\n",
       "            color:  #000000;\n",
       "        }    #T_64777d49_1abd_11eb_9ff0_a0a4c554f2a3row29_col5 {\n",
       "            background-color:  #f3edf5;\n",
       "            color:  #000000;\n",
       "        }    #T_64777d49_1abd_11eb_9ff0_a0a4c554f2a3row29_col6 {\n",
       "            background-color:  #f1ebf5;\n",
       "            color:  #000000;\n",
       "        }    #T_64777d49_1abd_11eb_9ff0_a0a4c554f2a3row29_col7 {\n",
       "            background-color:  #f2ecf5;\n",
       "            color:  #000000;\n",
       "        }    #T_64777d49_1abd_11eb_9ff0_a0a4c554f2a3row29_col8 {\n",
       "            background-color:  #f3edf5;\n",
       "            color:  #000000;\n",
       "        }    #T_64777d49_1abd_11eb_9ff0_a0a4c554f2a3row29_col9 {\n",
       "            background-color:  #f3edf5;\n",
       "            color:  #000000;\n",
       "        }    #T_64777d49_1abd_11eb_9ff0_a0a4c554f2a3row29_col10 {\n",
       "            background-color:  #f3edf5;\n",
       "            color:  #000000;\n",
       "        }    #T_64777d49_1abd_11eb_9ff0_a0a4c554f2a3row30_col0 {\n",
       "            background-color:  #f9f2f8;\n",
       "            color:  #000000;\n",
       "        }    #T_64777d49_1abd_11eb_9ff0_a0a4c554f2a3row30_col1 {\n",
       "            background-color:  #f9f2f8;\n",
       "            color:  #000000;\n",
       "        }    #T_64777d49_1abd_11eb_9ff0_a0a4c554f2a3row30_col2 {\n",
       "            background-color:  #f3edf5;\n",
       "            color:  #000000;\n",
       "        }    #T_64777d49_1abd_11eb_9ff0_a0a4c554f2a3row30_col3 {\n",
       "            background-color:  #fbf4f9;\n",
       "            color:  #000000;\n",
       "        }    #T_64777d49_1abd_11eb_9ff0_a0a4c554f2a3row30_col4 {\n",
       "            background-color:  #fbf4f9;\n",
       "            color:  #000000;\n",
       "        }    #T_64777d49_1abd_11eb_9ff0_a0a4c554f2a3row30_col5 {\n",
       "            background-color:  #faf3f9;\n",
       "            color:  #000000;\n",
       "        }    #T_64777d49_1abd_11eb_9ff0_a0a4c554f2a3row30_col6 {\n",
       "            background-color:  #fbf3f9;\n",
       "            color:  #000000;\n",
       "        }    #T_64777d49_1abd_11eb_9ff0_a0a4c554f2a3row30_col7 {\n",
       "            background-color:  #fbf3f9;\n",
       "            color:  #000000;\n",
       "        }    #T_64777d49_1abd_11eb_9ff0_a0a4c554f2a3row30_col8 {\n",
       "            background-color:  #fbf3f9;\n",
       "            color:  #000000;\n",
       "        }    #T_64777d49_1abd_11eb_9ff0_a0a4c554f2a3row30_col9 {\n",
       "            background-color:  #faf3f9;\n",
       "            color:  #000000;\n",
       "        }    #T_64777d49_1abd_11eb_9ff0_a0a4c554f2a3row30_col10 {\n",
       "            background-color:  #fef6fa;\n",
       "            color:  #000000;\n",
       "        }    #T_64777d49_1abd_11eb_9ff0_a0a4c554f2a3row31_col0 {\n",
       "            background-color:  #faf2f8;\n",
       "            color:  #000000;\n",
       "        }    #T_64777d49_1abd_11eb_9ff0_a0a4c554f2a3row31_col1 {\n",
       "            background-color:  #f8f1f8;\n",
       "            color:  #000000;\n",
       "        }    #T_64777d49_1abd_11eb_9ff0_a0a4c554f2a3row31_col2 {\n",
       "            background-color:  #f8f1f8;\n",
       "            color:  #000000;\n",
       "        }    #T_64777d49_1abd_11eb_9ff0_a0a4c554f2a3row31_col3 {\n",
       "            background-color:  #f8f1f8;\n",
       "            color:  #000000;\n",
       "        }    #T_64777d49_1abd_11eb_9ff0_a0a4c554f2a3row31_col4 {\n",
       "            background-color:  #f8f1f8;\n",
       "            color:  #000000;\n",
       "        }    #T_64777d49_1abd_11eb_9ff0_a0a4c554f2a3row31_col5 {\n",
       "            background-color:  #f8f1f8;\n",
       "            color:  #000000;\n",
       "        }    #T_64777d49_1abd_11eb_9ff0_a0a4c554f2a3row31_col6 {\n",
       "            background-color:  #f7f0f7;\n",
       "            color:  #000000;\n",
       "        }    #T_64777d49_1abd_11eb_9ff0_a0a4c554f2a3row31_col7 {\n",
       "            background-color:  #f7f0f7;\n",
       "            color:  #000000;\n",
       "        }    #T_64777d49_1abd_11eb_9ff0_a0a4c554f2a3row31_col8 {\n",
       "            background-color:  #f8f1f8;\n",
       "            color:  #000000;\n",
       "        }    #T_64777d49_1abd_11eb_9ff0_a0a4c554f2a3row31_col9 {\n",
       "            background-color:  #f7f0f7;\n",
       "            color:  #000000;\n",
       "        }    #T_64777d49_1abd_11eb_9ff0_a0a4c554f2a3row31_col10 {\n",
       "            background-color:  #f6eff7;\n",
       "            color:  #000000;\n",
       "        }    #T_64777d49_1abd_11eb_9ff0_a0a4c554f2a3row32_col0 {\n",
       "            background-color:  #fcf4fa;\n",
       "            color:  #000000;\n",
       "        }    #T_64777d49_1abd_11eb_9ff0_a0a4c554f2a3row32_col1 {\n",
       "            background-color:  #fbf4f9;\n",
       "            color:  #000000;\n",
       "        }    #T_64777d49_1abd_11eb_9ff0_a0a4c554f2a3row32_col2 {\n",
       "            background-color:  #f8f1f8;\n",
       "            color:  #000000;\n",
       "        }    #T_64777d49_1abd_11eb_9ff0_a0a4c554f2a3row32_col3 {\n",
       "            background-color:  #fbf4f9;\n",
       "            color:  #000000;\n",
       "        }    #T_64777d49_1abd_11eb_9ff0_a0a4c554f2a3row32_col4 {\n",
       "            background-color:  #fbf4f9;\n",
       "            color:  #000000;\n",
       "        }    #T_64777d49_1abd_11eb_9ff0_a0a4c554f2a3row32_col5 {\n",
       "            background-color:  #fbf4f9;\n",
       "            color:  #000000;\n",
       "        }    #T_64777d49_1abd_11eb_9ff0_a0a4c554f2a3row32_col6 {\n",
       "            background-color:  #fcf4fa;\n",
       "            color:  #000000;\n",
       "        }    #T_64777d49_1abd_11eb_9ff0_a0a4c554f2a3row32_col7 {\n",
       "            background-color:  #fdf5fa;\n",
       "            color:  #000000;\n",
       "        }    #T_64777d49_1abd_11eb_9ff0_a0a4c554f2a3row32_col8 {\n",
       "            background-color:  #fdf5fa;\n",
       "            color:  #000000;\n",
       "        }    #T_64777d49_1abd_11eb_9ff0_a0a4c554f2a3row32_col9 {\n",
       "            background-color:  #fbf4f9;\n",
       "            color:  #000000;\n",
       "        }    #T_64777d49_1abd_11eb_9ff0_a0a4c554f2a3row32_col10 {\n",
       "            background-color:  #faf3f9;\n",
       "            color:  #000000;\n",
       "        }    #T_64777d49_1abd_11eb_9ff0_a0a4c554f2a3row33_col0 {\n",
       "            background-color:  #fcf4fa;\n",
       "            color:  #000000;\n",
       "        }    #T_64777d49_1abd_11eb_9ff0_a0a4c554f2a3row33_col1 {\n",
       "            background-color:  #faf3f9;\n",
       "            color:  #000000;\n",
       "        }    #T_64777d49_1abd_11eb_9ff0_a0a4c554f2a3row33_col2 {\n",
       "            background-color:  #f9f2f8;\n",
       "            color:  #000000;\n",
       "        }    #T_64777d49_1abd_11eb_9ff0_a0a4c554f2a3row33_col3 {\n",
       "            background-color:  #fbf3f9;\n",
       "            color:  #000000;\n",
       "        }    #T_64777d49_1abd_11eb_9ff0_a0a4c554f2a3row33_col4 {\n",
       "            background-color:  #faf2f8;\n",
       "            color:  #000000;\n",
       "        }    #T_64777d49_1abd_11eb_9ff0_a0a4c554f2a3row33_col5 {\n",
       "            background-color:  #f9f2f8;\n",
       "            color:  #000000;\n",
       "        }    #T_64777d49_1abd_11eb_9ff0_a0a4c554f2a3row33_col6 {\n",
       "            background-color:  #f8f1f8;\n",
       "            color:  #000000;\n",
       "        }    #T_64777d49_1abd_11eb_9ff0_a0a4c554f2a3row33_col7 {\n",
       "            background-color:  #f8f1f8;\n",
       "            color:  #000000;\n",
       "        }    #T_64777d49_1abd_11eb_9ff0_a0a4c554f2a3row33_col8 {\n",
       "            background-color:  #f7f0f7;\n",
       "            color:  #000000;\n",
       "        }    #T_64777d49_1abd_11eb_9ff0_a0a4c554f2a3row33_col9 {\n",
       "            background-color:  #f9f2f8;\n",
       "            color:  #000000;\n",
       "        }    #T_64777d49_1abd_11eb_9ff0_a0a4c554f2a3row33_col10 {\n",
       "            background-color:  #fdf5fa;\n",
       "            color:  #000000;\n",
       "        }    #T_64777d49_1abd_11eb_9ff0_a0a4c554f2a3row34_col0 {\n",
       "            background-color:  #fcf4fa;\n",
       "            color:  #000000;\n",
       "        }    #T_64777d49_1abd_11eb_9ff0_a0a4c554f2a3row34_col1 {\n",
       "            background-color:  #fff7fb;\n",
       "            color:  #000000;\n",
       "        }    #T_64777d49_1abd_11eb_9ff0_a0a4c554f2a3row34_col2 {\n",
       "            background-color:  #eee8f3;\n",
       "            color:  #000000;\n",
       "        }    #T_64777d49_1abd_11eb_9ff0_a0a4c554f2a3row34_col3 {\n",
       "            background-color:  #fef6fb;\n",
       "            color:  #000000;\n",
       "        }    #T_64777d49_1abd_11eb_9ff0_a0a4c554f2a3row34_col4 {\n",
       "            background-color:  #fdf5fa;\n",
       "            color:  #000000;\n",
       "        }    #T_64777d49_1abd_11eb_9ff0_a0a4c554f2a3row34_col5 {\n",
       "            background-color:  #fef6fa;\n",
       "            color:  #000000;\n",
       "        }    #T_64777d49_1abd_11eb_9ff0_a0a4c554f2a3row34_col6 {\n",
       "            background-color:  #fef6fb;\n",
       "            color:  #000000;\n",
       "        }    #T_64777d49_1abd_11eb_9ff0_a0a4c554f2a3row34_col7 {\n",
       "            background-color:  #fef6fb;\n",
       "            color:  #000000;\n",
       "        }    #T_64777d49_1abd_11eb_9ff0_a0a4c554f2a3row34_col8 {\n",
       "            background-color:  #fef6fa;\n",
       "            color:  #000000;\n",
       "        }    #T_64777d49_1abd_11eb_9ff0_a0a4c554f2a3row34_col9 {\n",
       "            background-color:  #efe9f3;\n",
       "            color:  #000000;\n",
       "        }    #T_64777d49_1abd_11eb_9ff0_a0a4c554f2a3row34_col10 {\n",
       "            background-color:  #f3edf5;\n",
       "            color:  #000000;\n",
       "        }    #T_64777d49_1abd_11eb_9ff0_a0a4c554f2a3row35_col0 {\n",
       "            background-color:  #fdf5fa;\n",
       "            color:  #000000;\n",
       "        }    #T_64777d49_1abd_11eb_9ff0_a0a4c554f2a3row35_col1 {\n",
       "            background-color:  #f4eef6;\n",
       "            color:  #000000;\n",
       "        }    #T_64777d49_1abd_11eb_9ff0_a0a4c554f2a3row35_col2 {\n",
       "            background-color:  #f8f1f8;\n",
       "            color:  #000000;\n",
       "        }    #T_64777d49_1abd_11eb_9ff0_a0a4c554f2a3row35_col3 {\n",
       "            background-color:  #f1ebf5;\n",
       "            color:  #000000;\n",
       "        }    #T_64777d49_1abd_11eb_9ff0_a0a4c554f2a3row35_col4 {\n",
       "            background-color:  #f0eaf4;\n",
       "            color:  #000000;\n",
       "        }    #T_64777d49_1abd_11eb_9ff0_a0a4c554f2a3row35_col5 {\n",
       "            background-color:  #eee8f3;\n",
       "            color:  #000000;\n",
       "        }    #T_64777d49_1abd_11eb_9ff0_a0a4c554f2a3row35_col6 {\n",
       "            background-color:  #ede7f2;\n",
       "            color:  #000000;\n",
       "        }    #T_64777d49_1abd_11eb_9ff0_a0a4c554f2a3row35_col7 {\n",
       "            background-color:  #efe9f3;\n",
       "            color:  #000000;\n",
       "        }    #T_64777d49_1abd_11eb_9ff0_a0a4c554f2a3row35_col8 {\n",
       "            background-color:  #ede8f3;\n",
       "            color:  #000000;\n",
       "        }    #T_64777d49_1abd_11eb_9ff0_a0a4c554f2a3row35_col9 {\n",
       "            background-color:  #ece7f2;\n",
       "            color:  #000000;\n",
       "        }    #T_64777d49_1abd_11eb_9ff0_a0a4c554f2a3row35_col10 {\n",
       "            background-color:  #efe9f3;\n",
       "            color:  #000000;\n",
       "        }    #T_64777d49_1abd_11eb_9ff0_a0a4c554f2a3row36_col0 {\n",
       "            background-color:  #fdf5fa;\n",
       "            color:  #000000;\n",
       "        }    #T_64777d49_1abd_11eb_9ff0_a0a4c554f2a3row36_col1 {\n",
       "            background-color:  #faf2f8;\n",
       "            color:  #000000;\n",
       "        }    #T_64777d49_1abd_11eb_9ff0_a0a4c554f2a3row36_col2 {\n",
       "            background-color:  #f2ecf5;\n",
       "            color:  #000000;\n",
       "        }    #T_64777d49_1abd_11eb_9ff0_a0a4c554f2a3row36_col3 {\n",
       "            background-color:  #f9f2f8;\n",
       "            color:  #000000;\n",
       "        }    #T_64777d49_1abd_11eb_9ff0_a0a4c554f2a3row36_col4 {\n",
       "            background-color:  #faf2f8;\n",
       "            color:  #000000;\n",
       "        }    #T_64777d49_1abd_11eb_9ff0_a0a4c554f2a3row36_col5 {\n",
       "            background-color:  #faf2f8;\n",
       "            color:  #000000;\n",
       "        }    #T_64777d49_1abd_11eb_9ff0_a0a4c554f2a3row36_col6 {\n",
       "            background-color:  #faf2f8;\n",
       "            color:  #000000;\n",
       "        }    #T_64777d49_1abd_11eb_9ff0_a0a4c554f2a3row36_col7 {\n",
       "            background-color:  #faf3f9;\n",
       "            color:  #000000;\n",
       "        }    #T_64777d49_1abd_11eb_9ff0_a0a4c554f2a3row36_col8 {\n",
       "            background-color:  #faf2f8;\n",
       "            color:  #000000;\n",
       "        }    #T_64777d49_1abd_11eb_9ff0_a0a4c554f2a3row36_col9 {\n",
       "            background-color:  #faf2f8;\n",
       "            color:  #000000;\n",
       "        }    #T_64777d49_1abd_11eb_9ff0_a0a4c554f2a3row36_col10 {\n",
       "            background-color:  #faf3f9;\n",
       "            color:  #000000;\n",
       "        }    #T_64777d49_1abd_11eb_9ff0_a0a4c554f2a3row37_col0 {\n",
       "            background-color:  #fdf5fa;\n",
       "            color:  #000000;\n",
       "        }    #T_64777d49_1abd_11eb_9ff0_a0a4c554f2a3row37_col1 {\n",
       "            background-color:  #faf3f9;\n",
       "            color:  #000000;\n",
       "        }    #T_64777d49_1abd_11eb_9ff0_a0a4c554f2a3row37_col2 {\n",
       "            background-color:  #faf2f8;\n",
       "            color:  #000000;\n",
       "        }    #T_64777d49_1abd_11eb_9ff0_a0a4c554f2a3row37_col3 {\n",
       "            background-color:  #f8f1f8;\n",
       "            color:  #000000;\n",
       "        }    #T_64777d49_1abd_11eb_9ff0_a0a4c554f2a3row37_col4 {\n",
       "            background-color:  #f8f1f8;\n",
       "            color:  #000000;\n",
       "        }    #T_64777d49_1abd_11eb_9ff0_a0a4c554f2a3row37_col5 {\n",
       "            background-color:  #f7f0f7;\n",
       "            color:  #000000;\n",
       "        }    #T_64777d49_1abd_11eb_9ff0_a0a4c554f2a3row37_col6 {\n",
       "            background-color:  #f6eff7;\n",
       "            color:  #000000;\n",
       "        }    #T_64777d49_1abd_11eb_9ff0_a0a4c554f2a3row37_col7 {\n",
       "            background-color:  #f6eff7;\n",
       "            color:  #000000;\n",
       "        }    #T_64777d49_1abd_11eb_9ff0_a0a4c554f2a3row37_col8 {\n",
       "            background-color:  #f6eff7;\n",
       "            color:  #000000;\n",
       "        }    #T_64777d49_1abd_11eb_9ff0_a0a4c554f2a3row37_col9 {\n",
       "            background-color:  #f8f1f8;\n",
       "            color:  #000000;\n",
       "        }    #T_64777d49_1abd_11eb_9ff0_a0a4c554f2a3row37_col10 {\n",
       "            background-color:  #faf3f9;\n",
       "            color:  #000000;\n",
       "        }    #T_64777d49_1abd_11eb_9ff0_a0a4c554f2a3row38_col0 {\n",
       "            background-color:  #fdf5fa;\n",
       "            color:  #000000;\n",
       "        }    #T_64777d49_1abd_11eb_9ff0_a0a4c554f2a3row38_col1 {\n",
       "            background-color:  #f8f1f8;\n",
       "            color:  #000000;\n",
       "        }    #T_64777d49_1abd_11eb_9ff0_a0a4c554f2a3row38_col2 {\n",
       "            background-color:  #faf3f9;\n",
       "            color:  #000000;\n",
       "        }    #T_64777d49_1abd_11eb_9ff0_a0a4c554f2a3row38_col3 {\n",
       "            background-color:  #f7f0f7;\n",
       "            color:  #000000;\n",
       "        }    #T_64777d49_1abd_11eb_9ff0_a0a4c554f2a3row38_col4 {\n",
       "            background-color:  #f8f1f8;\n",
       "            color:  #000000;\n",
       "        }    #T_64777d49_1abd_11eb_9ff0_a0a4c554f2a3row38_col5 {\n",
       "            background-color:  #f7f0f7;\n",
       "            color:  #000000;\n",
       "        }    #T_64777d49_1abd_11eb_9ff0_a0a4c554f2a3row38_col6 {\n",
       "            background-color:  #f6eff7;\n",
       "            color:  #000000;\n",
       "        }    #T_64777d49_1abd_11eb_9ff0_a0a4c554f2a3row38_col7 {\n",
       "            background-color:  #f7f0f7;\n",
       "            color:  #000000;\n",
       "        }    #T_64777d49_1abd_11eb_9ff0_a0a4c554f2a3row38_col8 {\n",
       "            background-color:  #f6eff7;\n",
       "            color:  #000000;\n",
       "        }    #T_64777d49_1abd_11eb_9ff0_a0a4c554f2a3row38_col9 {\n",
       "            background-color:  #f7f0f7;\n",
       "            color:  #000000;\n",
       "        }    #T_64777d49_1abd_11eb_9ff0_a0a4c554f2a3row38_col10 {\n",
       "            background-color:  #f7f0f7;\n",
       "            color:  #000000;\n",
       "        }    #T_64777d49_1abd_11eb_9ff0_a0a4c554f2a3row39_col0 {\n",
       "            background-color:  #fdf5fa;\n",
       "            color:  #000000;\n",
       "        }    #T_64777d49_1abd_11eb_9ff0_a0a4c554f2a3row39_col1 {\n",
       "            background-color:  #faf3f9;\n",
       "            color:  #000000;\n",
       "        }    #T_64777d49_1abd_11eb_9ff0_a0a4c554f2a3row39_col2 {\n",
       "            background-color:  #faf3f9;\n",
       "            color:  #000000;\n",
       "        }    #T_64777d49_1abd_11eb_9ff0_a0a4c554f2a3row39_col3 {\n",
       "            background-color:  #fbf3f9;\n",
       "            color:  #000000;\n",
       "        }    #T_64777d49_1abd_11eb_9ff0_a0a4c554f2a3row39_col4 {\n",
       "            background-color:  #fbf3f9;\n",
       "            color:  #000000;\n",
       "        }    #T_64777d49_1abd_11eb_9ff0_a0a4c554f2a3row39_col5 {\n",
       "            background-color:  #faf3f9;\n",
       "            color:  #000000;\n",
       "        }    #T_64777d49_1abd_11eb_9ff0_a0a4c554f2a3row39_col6 {\n",
       "            background-color:  #faf3f9;\n",
       "            color:  #000000;\n",
       "        }    #T_64777d49_1abd_11eb_9ff0_a0a4c554f2a3row39_col7 {\n",
       "            background-color:  #fbf3f9;\n",
       "            color:  #000000;\n",
       "        }    #T_64777d49_1abd_11eb_9ff0_a0a4c554f2a3row39_col8 {\n",
       "            background-color:  #fbf4f9;\n",
       "            color:  #000000;\n",
       "        }    #T_64777d49_1abd_11eb_9ff0_a0a4c554f2a3row39_col9 {\n",
       "            background-color:  #fbf3f9;\n",
       "            color:  #000000;\n",
       "        }    #T_64777d49_1abd_11eb_9ff0_a0a4c554f2a3row39_col10 {\n",
       "            background-color:  #f9f2f8;\n",
       "            color:  #000000;\n",
       "        }    #T_64777d49_1abd_11eb_9ff0_a0a4c554f2a3row40_col0 {\n",
       "            background-color:  #fdf5fa;\n",
       "            color:  #000000;\n",
       "        }    #T_64777d49_1abd_11eb_9ff0_a0a4c554f2a3row40_col1 {\n",
       "            background-color:  #f4eef6;\n",
       "            color:  #000000;\n",
       "        }    #T_64777d49_1abd_11eb_9ff0_a0a4c554f2a3row40_col2 {\n",
       "            background-color:  #f7f0f7;\n",
       "            color:  #000000;\n",
       "        }    #T_64777d49_1abd_11eb_9ff0_a0a4c554f2a3row40_col3 {\n",
       "            background-color:  #f4edf6;\n",
       "            color:  #000000;\n",
       "        }    #T_64777d49_1abd_11eb_9ff0_a0a4c554f2a3row40_col4 {\n",
       "            background-color:  #f5eef6;\n",
       "            color:  #000000;\n",
       "        }    #T_64777d49_1abd_11eb_9ff0_a0a4c554f2a3row40_col5 {\n",
       "            background-color:  #f4edf6;\n",
       "            color:  #000000;\n",
       "        }    #T_64777d49_1abd_11eb_9ff0_a0a4c554f2a3row40_col6 {\n",
       "            background-color:  #f2ecf5;\n",
       "            color:  #000000;\n",
       "        }    #T_64777d49_1abd_11eb_9ff0_a0a4c554f2a3row40_col7 {\n",
       "            background-color:  #f2ecf5;\n",
       "            color:  #000000;\n",
       "        }    #T_64777d49_1abd_11eb_9ff0_a0a4c554f2a3row40_col8 {\n",
       "            background-color:  #f2ecf5;\n",
       "            color:  #000000;\n",
       "        }    #T_64777d49_1abd_11eb_9ff0_a0a4c554f2a3row40_col9 {\n",
       "            background-color:  #f2ecf5;\n",
       "            color:  #000000;\n",
       "        }    #T_64777d49_1abd_11eb_9ff0_a0a4c554f2a3row40_col10 {\n",
       "            background-color:  #f4edf6;\n",
       "            color:  #000000;\n",
       "        }    #T_64777d49_1abd_11eb_9ff0_a0a4c554f2a3row41_col0 {\n",
       "            background-color:  #fef6fa;\n",
       "            color:  #000000;\n",
       "        }    #T_64777d49_1abd_11eb_9ff0_a0a4c554f2a3row41_col1 {\n",
       "            background-color:  #faf2f8;\n",
       "            color:  #000000;\n",
       "        }    #T_64777d49_1abd_11eb_9ff0_a0a4c554f2a3row41_col2 {\n",
       "            background-color:  #fbf4f9;\n",
       "            color:  #000000;\n",
       "        }    #T_64777d49_1abd_11eb_9ff0_a0a4c554f2a3row41_col3 {\n",
       "            background-color:  #faf2f8;\n",
       "            color:  #000000;\n",
       "        }    #T_64777d49_1abd_11eb_9ff0_a0a4c554f2a3row41_col4 {\n",
       "            background-color:  #f9f2f8;\n",
       "            color:  #000000;\n",
       "        }    #T_64777d49_1abd_11eb_9ff0_a0a4c554f2a3row41_col5 {\n",
       "            background-color:  #f8f1f8;\n",
       "            color:  #000000;\n",
       "        }    #T_64777d49_1abd_11eb_9ff0_a0a4c554f2a3row41_col6 {\n",
       "            background-color:  #f7f0f7;\n",
       "            color:  #000000;\n",
       "        }    #T_64777d49_1abd_11eb_9ff0_a0a4c554f2a3row41_col7 {\n",
       "            background-color:  #f7f0f7;\n",
       "            color:  #000000;\n",
       "        }    #T_64777d49_1abd_11eb_9ff0_a0a4c554f2a3row41_col8 {\n",
       "            background-color:  #f6eff7;\n",
       "            color:  #000000;\n",
       "        }    #T_64777d49_1abd_11eb_9ff0_a0a4c554f2a3row41_col9 {\n",
       "            background-color:  #fcf4fa;\n",
       "            color:  #000000;\n",
       "        }    #T_64777d49_1abd_11eb_9ff0_a0a4c554f2a3row41_col10 {\n",
       "            background-color:  #f2ecf5;\n",
       "            color:  #000000;\n",
       "        }    #T_64777d49_1abd_11eb_9ff0_a0a4c554f2a3row42_col0 {\n",
       "            background-color:  #fef6fb;\n",
       "            color:  #000000;\n",
       "        }    #T_64777d49_1abd_11eb_9ff0_a0a4c554f2a3row42_col1 {\n",
       "            background-color:  #fff7fb;\n",
       "            color:  #000000;\n",
       "        }    #T_64777d49_1abd_11eb_9ff0_a0a4c554f2a3row42_col2 {\n",
       "            background-color:  #fff7fb;\n",
       "            color:  #000000;\n",
       "        }    #T_64777d49_1abd_11eb_9ff0_a0a4c554f2a3row42_col3 {\n",
       "            background-color:  #fff7fb;\n",
       "            color:  #000000;\n",
       "        }    #T_64777d49_1abd_11eb_9ff0_a0a4c554f2a3row42_col4 {\n",
       "            background-color:  #fff7fb;\n",
       "            color:  #000000;\n",
       "        }    #T_64777d49_1abd_11eb_9ff0_a0a4c554f2a3row42_col5 {\n",
       "            background-color:  #fff7fb;\n",
       "            color:  #000000;\n",
       "        }    #T_64777d49_1abd_11eb_9ff0_a0a4c554f2a3row42_col6 {\n",
       "            background-color:  #fff7fb;\n",
       "            color:  #000000;\n",
       "        }    #T_64777d49_1abd_11eb_9ff0_a0a4c554f2a3row42_col7 {\n",
       "            background-color:  #fff7fb;\n",
       "            color:  #000000;\n",
       "        }    #T_64777d49_1abd_11eb_9ff0_a0a4c554f2a3row42_col8 {\n",
       "            background-color:  #fff7fb;\n",
       "            color:  #000000;\n",
       "        }    #T_64777d49_1abd_11eb_9ff0_a0a4c554f2a3row42_col9 {\n",
       "            background-color:  #fff7fb;\n",
       "            color:  #000000;\n",
       "        }    #T_64777d49_1abd_11eb_9ff0_a0a4c554f2a3row42_col10 {\n",
       "            background-color:  #fff7fb;\n",
       "            color:  #000000;\n",
       "        }    #T_64777d49_1abd_11eb_9ff0_a0a4c554f2a3row43_col0 {\n",
       "            background-color:  #fef6fb;\n",
       "            color:  #000000;\n",
       "        }    #T_64777d49_1abd_11eb_9ff0_a0a4c554f2a3row43_col1 {\n",
       "            background-color:  #f5eff6;\n",
       "            color:  #000000;\n",
       "        }    #T_64777d49_1abd_11eb_9ff0_a0a4c554f2a3row43_col2 {\n",
       "            background-color:  #faf2f8;\n",
       "            color:  #000000;\n",
       "        }    #T_64777d49_1abd_11eb_9ff0_a0a4c554f2a3row43_col3 {\n",
       "            background-color:  #f4edf6;\n",
       "            color:  #000000;\n",
       "        }    #T_64777d49_1abd_11eb_9ff0_a0a4c554f2a3row43_col4 {\n",
       "            background-color:  #f1ebf4;\n",
       "            color:  #000000;\n",
       "        }    #T_64777d49_1abd_11eb_9ff0_a0a4c554f2a3row43_col5 {\n",
       "            background-color:  #f2ecf5;\n",
       "            color:  #000000;\n",
       "        }    #T_64777d49_1abd_11eb_9ff0_a0a4c554f2a3row43_col6 {\n",
       "            background-color:  #f0eaf4;\n",
       "            color:  #000000;\n",
       "        }    #T_64777d49_1abd_11eb_9ff0_a0a4c554f2a3row43_col7 {\n",
       "            background-color:  #f1ebf5;\n",
       "            color:  #000000;\n",
       "        }    #T_64777d49_1abd_11eb_9ff0_a0a4c554f2a3row43_col8 {\n",
       "            background-color:  #f1ebf5;\n",
       "            color:  #000000;\n",
       "        }    #T_64777d49_1abd_11eb_9ff0_a0a4c554f2a3row43_col9 {\n",
       "            background-color:  #f5eef6;\n",
       "            color:  #000000;\n",
       "        }    #T_64777d49_1abd_11eb_9ff0_a0a4c554f2a3row43_col10 {\n",
       "            background-color:  #f2ecf5;\n",
       "            color:  #000000;\n",
       "        }    #T_64777d49_1abd_11eb_9ff0_a0a4c554f2a3row44_col0 {\n",
       "            background-color:  #fef6fb;\n",
       "            color:  #000000;\n",
       "        }    #T_64777d49_1abd_11eb_9ff0_a0a4c554f2a3row44_col1 {\n",
       "            background-color:  #f8f1f8;\n",
       "            color:  #000000;\n",
       "        }    #T_64777d49_1abd_11eb_9ff0_a0a4c554f2a3row44_col2 {\n",
       "            background-color:  #fbf4f9;\n",
       "            color:  #000000;\n",
       "        }    #T_64777d49_1abd_11eb_9ff0_a0a4c554f2a3row44_col3 {\n",
       "            background-color:  #fbf4f9;\n",
       "            color:  #000000;\n",
       "        }    #T_64777d49_1abd_11eb_9ff0_a0a4c554f2a3row44_col4 {\n",
       "            background-color:  #fbf4f9;\n",
       "            color:  #000000;\n",
       "        }    #T_64777d49_1abd_11eb_9ff0_a0a4c554f2a3row44_col5 {\n",
       "            background-color:  #fbf4f9;\n",
       "            color:  #000000;\n",
       "        }    #T_64777d49_1abd_11eb_9ff0_a0a4c554f2a3row44_col6 {\n",
       "            background-color:  #fcf4fa;\n",
       "            color:  #000000;\n",
       "        }    #T_64777d49_1abd_11eb_9ff0_a0a4c554f2a3row44_col7 {\n",
       "            background-color:  #fcf4fa;\n",
       "            color:  #000000;\n",
       "        }    #T_64777d49_1abd_11eb_9ff0_a0a4c554f2a3row44_col8 {\n",
       "            background-color:  #fcf4fa;\n",
       "            color:  #000000;\n",
       "        }    #T_64777d49_1abd_11eb_9ff0_a0a4c554f2a3row44_col9 {\n",
       "            background-color:  #fdf5fa;\n",
       "            color:  #000000;\n",
       "        }    #T_64777d49_1abd_11eb_9ff0_a0a4c554f2a3row44_col10 {\n",
       "            background-color:  #fbf4f9;\n",
       "            color:  #000000;\n",
       "        }    #T_64777d49_1abd_11eb_9ff0_a0a4c554f2a3row45_col0 {\n",
       "            background-color:  #fff7fb;\n",
       "            color:  #000000;\n",
       "        }    #T_64777d49_1abd_11eb_9ff0_a0a4c554f2a3row45_col1 {\n",
       "            background-color:  #fcf4fa;\n",
       "            color:  #000000;\n",
       "        }    #T_64777d49_1abd_11eb_9ff0_a0a4c554f2a3row45_col2 {\n",
       "            background-color:  #fcf4fa;\n",
       "            color:  #000000;\n",
       "        }    #T_64777d49_1abd_11eb_9ff0_a0a4c554f2a3row45_col3 {\n",
       "            background-color:  #fcf4fa;\n",
       "            color:  #000000;\n",
       "        }    #T_64777d49_1abd_11eb_9ff0_a0a4c554f2a3row45_col4 {\n",
       "            background-color:  #fdf5fa;\n",
       "            color:  #000000;\n",
       "        }    #T_64777d49_1abd_11eb_9ff0_a0a4c554f2a3row45_col5 {\n",
       "            background-color:  #fcf4fa;\n",
       "            color:  #000000;\n",
       "        }    #T_64777d49_1abd_11eb_9ff0_a0a4c554f2a3row45_col6 {\n",
       "            background-color:  #fbf4f9;\n",
       "            color:  #000000;\n",
       "        }    #T_64777d49_1abd_11eb_9ff0_a0a4c554f2a3row45_col7 {\n",
       "            background-color:  #fcf4fa;\n",
       "            color:  #000000;\n",
       "        }    #T_64777d49_1abd_11eb_9ff0_a0a4c554f2a3row45_col8 {\n",
       "            background-color:  #fdf5fa;\n",
       "            color:  #000000;\n",
       "        }    #T_64777d49_1abd_11eb_9ff0_a0a4c554f2a3row45_col9 {\n",
       "            background-color:  #fdf5fa;\n",
       "            color:  #000000;\n",
       "        }    #T_64777d49_1abd_11eb_9ff0_a0a4c554f2a3row45_col10 {\n",
       "            background-color:  #fdf5fa;\n",
       "            color:  #000000;\n",
       "        }    #T_64777d49_1abd_11eb_9ff0_a0a4c554f2a3row46_col0 {\n",
       "            background-color:  #fff7fb;\n",
       "            color:  #000000;\n",
       "        }    #T_64777d49_1abd_11eb_9ff0_a0a4c554f2a3row46_col1 {\n",
       "            background-color:  #faf3f9;\n",
       "            color:  #000000;\n",
       "        }    #T_64777d49_1abd_11eb_9ff0_a0a4c554f2a3row46_col2 {\n",
       "            background-color:  #fbf3f9;\n",
       "            color:  #000000;\n",
       "        }    #T_64777d49_1abd_11eb_9ff0_a0a4c554f2a3row46_col3 {\n",
       "            background-color:  #faf3f9;\n",
       "            color:  #000000;\n",
       "        }    #T_64777d49_1abd_11eb_9ff0_a0a4c554f2a3row46_col4 {\n",
       "            background-color:  #faf3f9;\n",
       "            color:  #000000;\n",
       "        }    #T_64777d49_1abd_11eb_9ff0_a0a4c554f2a3row46_col5 {\n",
       "            background-color:  #f8f1f8;\n",
       "            color:  #000000;\n",
       "        }    #T_64777d49_1abd_11eb_9ff0_a0a4c554f2a3row46_col6 {\n",
       "            background-color:  #f9f2f8;\n",
       "            color:  #000000;\n",
       "        }    #T_64777d49_1abd_11eb_9ff0_a0a4c554f2a3row46_col7 {\n",
       "            background-color:  #f9f2f8;\n",
       "            color:  #000000;\n",
       "        }    #T_64777d49_1abd_11eb_9ff0_a0a4c554f2a3row46_col8 {\n",
       "            background-color:  #f8f1f8;\n",
       "            color:  #000000;\n",
       "        }    #T_64777d49_1abd_11eb_9ff0_a0a4c554f2a3row46_col9 {\n",
       "            background-color:  #f8f1f8;\n",
       "            color:  #000000;\n",
       "        }    #T_64777d49_1abd_11eb_9ff0_a0a4c554f2a3row46_col10 {\n",
       "            background-color:  #fbf3f9;\n",
       "            color:  #000000;\n",
       "        }    #T_64777d49_1abd_11eb_9ff0_a0a4c554f2a3row47_col0 {\n",
       "            background-color:  #fff7fb;\n",
       "            color:  #000000;\n",
       "        }    #T_64777d49_1abd_11eb_9ff0_a0a4c554f2a3row47_col1 {\n",
       "            background-color:  #fcf4fa;\n",
       "            color:  #000000;\n",
       "        }    #T_64777d49_1abd_11eb_9ff0_a0a4c554f2a3row47_col2 {\n",
       "            background-color:  #faf3f9;\n",
       "            color:  #000000;\n",
       "        }    #T_64777d49_1abd_11eb_9ff0_a0a4c554f2a3row47_col3 {\n",
       "            background-color:  #fdf5fa;\n",
       "            color:  #000000;\n",
       "        }    #T_64777d49_1abd_11eb_9ff0_a0a4c554f2a3row47_col4 {\n",
       "            background-color:  #fdf5fa;\n",
       "            color:  #000000;\n",
       "        }    #T_64777d49_1abd_11eb_9ff0_a0a4c554f2a3row47_col5 {\n",
       "            background-color:  #fcf4fa;\n",
       "            color:  #000000;\n",
       "        }    #T_64777d49_1abd_11eb_9ff0_a0a4c554f2a3row47_col6 {\n",
       "            background-color:  #fcf4fa;\n",
       "            color:  #000000;\n",
       "        }    #T_64777d49_1abd_11eb_9ff0_a0a4c554f2a3row47_col7 {\n",
       "            background-color:  #fcf4fa;\n",
       "            color:  #000000;\n",
       "        }    #T_64777d49_1abd_11eb_9ff0_a0a4c554f2a3row47_col8 {\n",
       "            background-color:  #fbf4f9;\n",
       "            color:  #000000;\n",
       "        }    #T_64777d49_1abd_11eb_9ff0_a0a4c554f2a3row47_col9 {\n",
       "            background-color:  #fbf4f9;\n",
       "            color:  #000000;\n",
       "        }    #T_64777d49_1abd_11eb_9ff0_a0a4c554f2a3row47_col10 {\n",
       "            background-color:  #fbf4f9;\n",
       "            color:  #000000;\n",
       "        }    #T_64777d49_1abd_11eb_9ff0_a0a4c554f2a3row48_col0 {\n",
       "            background-color:  #fff7fb;\n",
       "            color:  #000000;\n",
       "        }    #T_64777d49_1abd_11eb_9ff0_a0a4c554f2a3row48_col1 {\n",
       "            background-color:  #f7f0f7;\n",
       "            color:  #000000;\n",
       "        }    #T_64777d49_1abd_11eb_9ff0_a0a4c554f2a3row48_col2 {\n",
       "            background-color:  #faf3f9;\n",
       "            color:  #000000;\n",
       "        }    #T_64777d49_1abd_11eb_9ff0_a0a4c554f2a3row48_col3 {\n",
       "            background-color:  #f7f0f7;\n",
       "            color:  #000000;\n",
       "        }    #T_64777d49_1abd_11eb_9ff0_a0a4c554f2a3row48_col4 {\n",
       "            background-color:  #f8f1f8;\n",
       "            color:  #000000;\n",
       "        }    #T_64777d49_1abd_11eb_9ff0_a0a4c554f2a3row48_col5 {\n",
       "            background-color:  #f6eff7;\n",
       "            color:  #000000;\n",
       "        }    #T_64777d49_1abd_11eb_9ff0_a0a4c554f2a3row48_col6 {\n",
       "            background-color:  #f7f0f7;\n",
       "            color:  #000000;\n",
       "        }    #T_64777d49_1abd_11eb_9ff0_a0a4c554f2a3row48_col7 {\n",
       "            background-color:  #f5eff6;\n",
       "            color:  #000000;\n",
       "        }    #T_64777d49_1abd_11eb_9ff0_a0a4c554f2a3row48_col8 {\n",
       "            background-color:  #f5eff6;\n",
       "            color:  #000000;\n",
       "        }    #T_64777d49_1abd_11eb_9ff0_a0a4c554f2a3row48_col9 {\n",
       "            background-color:  #f1ebf5;\n",
       "            color:  #000000;\n",
       "        }    #T_64777d49_1abd_11eb_9ff0_a0a4c554f2a3row48_col10 {\n",
       "            background-color:  #eae6f1;\n",
       "            color:  #000000;\n",
       "        }    #T_64777d49_1abd_11eb_9ff0_a0a4c554f2a3row49_col0 {\n",
       "            background-color:  #fff7fb;\n",
       "            color:  #000000;\n",
       "        }    #T_64777d49_1abd_11eb_9ff0_a0a4c554f2a3row49_col1 {\n",
       "            background-color:  #faf2f8;\n",
       "            color:  #000000;\n",
       "        }    #T_64777d49_1abd_11eb_9ff0_a0a4c554f2a3row49_col2 {\n",
       "            background-color:  #f8f1f8;\n",
       "            color:  #000000;\n",
       "        }    #T_64777d49_1abd_11eb_9ff0_a0a4c554f2a3row49_col3 {\n",
       "            background-color:  #faf3f9;\n",
       "            color:  #000000;\n",
       "        }    #T_64777d49_1abd_11eb_9ff0_a0a4c554f2a3row49_col4 {\n",
       "            background-color:  #faf2f8;\n",
       "            color:  #000000;\n",
       "        }    #T_64777d49_1abd_11eb_9ff0_a0a4c554f2a3row49_col5 {\n",
       "            background-color:  #faf2f8;\n",
       "            color:  #000000;\n",
       "        }    #T_64777d49_1abd_11eb_9ff0_a0a4c554f2a3row49_col6 {\n",
       "            background-color:  #faf2f8;\n",
       "            color:  #000000;\n",
       "        }    #T_64777d49_1abd_11eb_9ff0_a0a4c554f2a3row49_col7 {\n",
       "            background-color:  #fbf3f9;\n",
       "            color:  #000000;\n",
       "        }    #T_64777d49_1abd_11eb_9ff0_a0a4c554f2a3row49_col8 {\n",
       "            background-color:  #fbf3f9;\n",
       "            color:  #000000;\n",
       "        }    #T_64777d49_1abd_11eb_9ff0_a0a4c554f2a3row49_col9 {\n",
       "            background-color:  #faf2f8;\n",
       "            color:  #000000;\n",
       "        }    #T_64777d49_1abd_11eb_9ff0_a0a4c554f2a3row49_col10 {\n",
       "            background-color:  #faf3f9;\n",
       "            color:  #000000;\n",
       "        }</style><table id=\"T_64777d49_1abd_11eb_9ff0_a0a4c554f2a3\" ><thead>    <tr>        <th class=\"blank level0\" ></th>        <th class=\"col_heading level0 col0\" >NBkilder_Koren_1798.xml</th>        <th class=\"col_heading level0 col1\" >NBkilder_Koren_1802.xml</th>        <th class=\"col_heading level0 col2\" >NBkilder_Koren_1805.xml</th>        <th class=\"col_heading level0 col3\" >NBkilder_Koren_1808.xml</th>        <th class=\"col_heading level0 col4\" >NBkilder_Koren_1809.xml</th>        <th class=\"col_heading level0 col5\" >NBkilder_Koren_1810.xml</th>        <th class=\"col_heading level0 col6\" >NBkilder_Koren_1811.xml</th>        <th class=\"col_heading level0 col7\" >NBkilder_Koren_1812.xml</th>        <th class=\"col_heading level0 col8\" >NBkilder_Koren_1813.xml</th>        <th class=\"col_heading level0 col9\" >NBkilder_Koren_1814.xml</th>        <th class=\"col_heading level0 col10\" >NBkilder_Koren_1815.xml</th>    </tr></thead><tbody>\n",
       "                <tr>\n",
       "                        <th id=\"T_64777d49_1abd_11eb_9ff0_a0a4c554f2a3level0_row0\" class=\"row_heading level0 row0\" >,</th>\n",
       "                        <td id=\"T_64777d49_1abd_11eb_9ff0_a0a4c554f2a3row0_col0\" class=\"data row0 col0\" >586.000000</td>\n",
       "                        <td id=\"T_64777d49_1abd_11eb_9ff0_a0a4c554f2a3row0_col1\" class=\"data row0 col1\" >5876.000000</td>\n",
       "                        <td id=\"T_64777d49_1abd_11eb_9ff0_a0a4c554f2a3row0_col2\" class=\"data row0 col2\" >457.000000</td>\n",
       "                        <td id=\"T_64777d49_1abd_11eb_9ff0_a0a4c554f2a3row0_col3\" class=\"data row0 col3\" >10101.000000</td>\n",
       "                        <td id=\"T_64777d49_1abd_11eb_9ff0_a0a4c554f2a3row0_col4\" class=\"data row0 col4\" >10002.000000</td>\n",
       "                        <td id=\"T_64777d49_1abd_11eb_9ff0_a0a4c554f2a3row0_col5\" class=\"data row0 col5\" >12681.000000</td>\n",
       "                        <td id=\"T_64777d49_1abd_11eb_9ff0_a0a4c554f2a3row0_col6\" class=\"data row0 col6\" >12024.000000</td>\n",
       "                        <td id=\"T_64777d49_1abd_11eb_9ff0_a0a4c554f2a3row0_col7\" class=\"data row0 col7\" >15671.000000</td>\n",
       "                        <td id=\"T_64777d49_1abd_11eb_9ff0_a0a4c554f2a3row0_col8\" class=\"data row0 col8\" >13109.000000</td>\n",
       "                        <td id=\"T_64777d49_1abd_11eb_9ff0_a0a4c554f2a3row0_col9\" class=\"data row0 col9\" >3563.000000</td>\n",
       "                        <td id=\"T_64777d49_1abd_11eb_9ff0_a0a4c554f2a3row0_col10\" class=\"data row0 col10\" >412.000000</td>\n",
       "            </tr>\n",
       "            <tr>\n",
       "                        <th id=\"T_64777d49_1abd_11eb_9ff0_a0a4c554f2a3level0_row1\" class=\"row_heading level0 row1\" >.</th>\n",
       "                        <td id=\"T_64777d49_1abd_11eb_9ff0_a0a4c554f2a3row1_col0\" class=\"data row1 col0\" >257.000000</td>\n",
       "                        <td id=\"T_64777d49_1abd_11eb_9ff0_a0a4c554f2a3row1_col1\" class=\"data row1 col1\" >2212.000000</td>\n",
       "                        <td id=\"T_64777d49_1abd_11eb_9ff0_a0a4c554f2a3row1_col2\" class=\"data row1 col2\" >156.000000</td>\n",
       "                        <td id=\"T_64777d49_1abd_11eb_9ff0_a0a4c554f2a3row1_col3\" class=\"data row1 col3\" >3712.000000</td>\n",
       "                        <td id=\"T_64777d49_1abd_11eb_9ff0_a0a4c554f2a3row1_col4\" class=\"data row1 col4\" >3364.000000</td>\n",
       "                        <td id=\"T_64777d49_1abd_11eb_9ff0_a0a4c554f2a3row1_col5\" class=\"data row1 col5\" >5106.000000</td>\n",
       "                        <td id=\"T_64777d49_1abd_11eb_9ff0_a0a4c554f2a3row1_col6\" class=\"data row1 col6\" >4263.000000</td>\n",
       "                        <td id=\"T_64777d49_1abd_11eb_9ff0_a0a4c554f2a3row1_col7\" class=\"data row1 col7\" >5713.000000</td>\n",
       "                        <td id=\"T_64777d49_1abd_11eb_9ff0_a0a4c554f2a3row1_col8\" class=\"data row1 col8\" >5575.000000</td>\n",
       "                        <td id=\"T_64777d49_1abd_11eb_9ff0_a0a4c554f2a3row1_col9\" class=\"data row1 col9\" >1539.000000</td>\n",
       "                        <td id=\"T_64777d49_1abd_11eb_9ff0_a0a4c554f2a3row1_col10\" class=\"data row1 col10\" >127.000000</td>\n",
       "            </tr>\n",
       "            <tr>\n",
       "                        <th id=\"T_64777d49_1abd_11eb_9ff0_a0a4c554f2a3level0_row2\" class=\"row_heading level0 row2\" >og</th>\n",
       "                        <td id=\"T_64777d49_1abd_11eb_9ff0_a0a4c554f2a3row2_col0\" class=\"data row2 col0\" >252.000000</td>\n",
       "                        <td id=\"T_64777d49_1abd_11eb_9ff0_a0a4c554f2a3row2_col1\" class=\"data row2 col1\" >1800.000000</td>\n",
       "                        <td id=\"T_64777d49_1abd_11eb_9ff0_a0a4c554f2a3row2_col2\" class=\"data row2 col2\" >159.000000</td>\n",
       "                        <td id=\"T_64777d49_1abd_11eb_9ff0_a0a4c554f2a3row2_col3\" class=\"data row2 col3\" >3443.000000</td>\n",
       "                        <td id=\"T_64777d49_1abd_11eb_9ff0_a0a4c554f2a3row2_col4\" class=\"data row2 col4\" >3782.000000</td>\n",
       "                        <td id=\"T_64777d49_1abd_11eb_9ff0_a0a4c554f2a3row2_col5\" class=\"data row2 col5\" >5196.000000</td>\n",
       "                        <td id=\"T_64777d49_1abd_11eb_9ff0_a0a4c554f2a3row2_col6\" class=\"data row2 col6\" >5486.000000</td>\n",
       "                        <td id=\"T_64777d49_1abd_11eb_9ff0_a0a4c554f2a3row2_col7\" class=\"data row2 col7\" >6633.000000</td>\n",
       "                        <td id=\"T_64777d49_1abd_11eb_9ff0_a0a4c554f2a3row2_col8\" class=\"data row2 col8\" >5731.000000</td>\n",
       "                        <td id=\"T_64777d49_1abd_11eb_9ff0_a0a4c554f2a3row2_col9\" class=\"data row2 col9\" >1318.000000</td>\n",
       "                        <td id=\"T_64777d49_1abd_11eb_9ff0_a0a4c554f2a3row2_col10\" class=\"data row2 col10\" >158.000000</td>\n",
       "            </tr>\n",
       "            <tr>\n",
       "                        <th id=\"T_64777d49_1abd_11eb_9ff0_a0a4c554f2a3level0_row3\" class=\"row_heading level0 row3\" >–</th>\n",
       "                        <td id=\"T_64777d49_1abd_11eb_9ff0_a0a4c554f2a3row3_col0\" class=\"data row3 col0\" >191.000000</td>\n",
       "                        <td id=\"T_64777d49_1abd_11eb_9ff0_a0a4c554f2a3row3_col1\" class=\"data row3 col1\" >1035.000000</td>\n",
       "                        <td id=\"T_64777d49_1abd_11eb_9ff0_a0a4c554f2a3row3_col2\" class=\"data row3 col2\" >135.000000</td>\n",
       "                        <td id=\"T_64777d49_1abd_11eb_9ff0_a0a4c554f2a3row3_col3\" class=\"data row3 col3\" >1090.000000</td>\n",
       "                        <td id=\"T_64777d49_1abd_11eb_9ff0_a0a4c554f2a3row3_col4\" class=\"data row3 col4\" >1638.000000</td>\n",
       "                        <td id=\"T_64777d49_1abd_11eb_9ff0_a0a4c554f2a3row3_col5\" class=\"data row3 col5\" >1533.000000</td>\n",
       "                        <td id=\"T_64777d49_1abd_11eb_9ff0_a0a4c554f2a3row3_col6\" class=\"data row3 col6\" >2086.000000</td>\n",
       "                        <td id=\"T_64777d49_1abd_11eb_9ff0_a0a4c554f2a3row3_col7\" class=\"data row3 col7\" >2051.000000</td>\n",
       "                        <td id=\"T_64777d49_1abd_11eb_9ff0_a0a4c554f2a3row3_col8\" class=\"data row3 col8\" >1144.000000</td>\n",
       "                        <td id=\"T_64777d49_1abd_11eb_9ff0_a0a4c554f2a3row3_col9\" class=\"data row3 col9\" >344.000000</td>\n",
       "                        <td id=\"T_64777d49_1abd_11eb_9ff0_a0a4c554f2a3row3_col10\" class=\"data row3 col10\" >35.000000</td>\n",
       "            </tr>\n",
       "            <tr>\n",
       "                        <th id=\"T_64777d49_1abd_11eb_9ff0_a0a4c554f2a3level0_row4\" class=\"row_heading level0 row4\" >at</th>\n",
       "                        <td id=\"T_64777d49_1abd_11eb_9ff0_a0a4c554f2a3row4_col0\" class=\"data row4 col0\" >150.000000</td>\n",
       "                        <td id=\"T_64777d49_1abd_11eb_9ff0_a0a4c554f2a3row4_col1\" class=\"data row4 col1\" >884.000000</td>\n",
       "                        <td id=\"T_64777d49_1abd_11eb_9ff0_a0a4c554f2a3row4_col2\" class=\"data row4 col2\" >61.000000</td>\n",
       "                        <td id=\"T_64777d49_1abd_11eb_9ff0_a0a4c554f2a3row4_col3\" class=\"data row4 col3\" >1525.000000</td>\n",
       "                        <td id=\"T_64777d49_1abd_11eb_9ff0_a0a4c554f2a3row4_col4\" class=\"data row4 col4\" >1353.000000</td>\n",
       "                        <td id=\"T_64777d49_1abd_11eb_9ff0_a0a4c554f2a3row4_col5\" class=\"data row4 col5\" >1997.000000</td>\n",
       "                        <td id=\"T_64777d49_1abd_11eb_9ff0_a0a4c554f2a3row4_col6\" class=\"data row4 col6\" >2023.000000</td>\n",
       "                        <td id=\"T_64777d49_1abd_11eb_9ff0_a0a4c554f2a3row4_col7\" class=\"data row4 col7\" >2718.000000</td>\n",
       "                        <td id=\"T_64777d49_1abd_11eb_9ff0_a0a4c554f2a3row4_col8\" class=\"data row4 col8\" >2297.000000</td>\n",
       "                        <td id=\"T_64777d49_1abd_11eb_9ff0_a0a4c554f2a3row4_col9\" class=\"data row4 col9\" >627.000000</td>\n",
       "                        <td id=\"T_64777d49_1abd_11eb_9ff0_a0a4c554f2a3row4_col10\" class=\"data row4 col10\" >78.000000</td>\n",
       "            </tr>\n",
       "            <tr>\n",
       "                        <th id=\"T_64777d49_1abd_11eb_9ff0_a0a4c554f2a3level0_row5\" class=\"row_heading level0 row5\" >ieg</th>\n",
       "                        <td id=\"T_64777d49_1abd_11eb_9ff0_a0a4c554f2a3row5_col0\" class=\"data row5 col0\" >145.000000</td>\n",
       "                        <td id=\"T_64777d49_1abd_11eb_9ff0_a0a4c554f2a3row5_col1\" class=\"data row5 col1\" >0.000000</td>\n",
       "                        <td id=\"T_64777d49_1abd_11eb_9ff0_a0a4c554f2a3row5_col2\" class=\"data row5 col2\" >0.000000</td>\n",
       "                        <td id=\"T_64777d49_1abd_11eb_9ff0_a0a4c554f2a3row5_col3\" class=\"data row5 col3\" >0.000000</td>\n",
       "                        <td id=\"T_64777d49_1abd_11eb_9ff0_a0a4c554f2a3row5_col4\" class=\"data row5 col4\" >0.000000</td>\n",
       "                        <td id=\"T_64777d49_1abd_11eb_9ff0_a0a4c554f2a3row5_col5\" class=\"data row5 col5\" >1.000000</td>\n",
       "                        <td id=\"T_64777d49_1abd_11eb_9ff0_a0a4c554f2a3row5_col6\" class=\"data row5 col6\" >0.000000</td>\n",
       "                        <td id=\"T_64777d49_1abd_11eb_9ff0_a0a4c554f2a3row5_col7\" class=\"data row5 col7\" >0.000000</td>\n",
       "                        <td id=\"T_64777d49_1abd_11eb_9ff0_a0a4c554f2a3row5_col8\" class=\"data row5 col8\" >0.000000</td>\n",
       "                        <td id=\"T_64777d49_1abd_11eb_9ff0_a0a4c554f2a3row5_col9\" class=\"data row5 col9\" >0.000000</td>\n",
       "                        <td id=\"T_64777d49_1abd_11eb_9ff0_a0a4c554f2a3row5_col10\" class=\"data row5 col10\" >0.000000</td>\n",
       "            </tr>\n",
       "            <tr>\n",
       "                        <th id=\"T_64777d49_1abd_11eb_9ff0_a0a4c554f2a3level0_row6\" class=\"row_heading level0 row6\" >i</th>\n",
       "                        <td id=\"T_64777d49_1abd_11eb_9ff0_a0a4c554f2a3row6_col0\" class=\"data row6 col0\" >116.000000</td>\n",
       "                        <td id=\"T_64777d49_1abd_11eb_9ff0_a0a4c554f2a3row6_col1\" class=\"data row6 col1\" >1150.000000</td>\n",
       "                        <td id=\"T_64777d49_1abd_11eb_9ff0_a0a4c554f2a3row6_col2\" class=\"data row6 col2\" >92.000000</td>\n",
       "                        <td id=\"T_64777d49_1abd_11eb_9ff0_a0a4c554f2a3row6_col3\" class=\"data row6 col3\" >1954.000000</td>\n",
       "                        <td id=\"T_64777d49_1abd_11eb_9ff0_a0a4c554f2a3row6_col4\" class=\"data row6 col4\" >2062.000000</td>\n",
       "                        <td id=\"T_64777d49_1abd_11eb_9ff0_a0a4c554f2a3row6_col5\" class=\"data row6 col5\" >2923.000000</td>\n",
       "                        <td id=\"T_64777d49_1abd_11eb_9ff0_a0a4c554f2a3row6_col6\" class=\"data row6 col6\" >2934.000000</td>\n",
       "                        <td id=\"T_64777d49_1abd_11eb_9ff0_a0a4c554f2a3row6_col7\" class=\"data row6 col7\" >3615.000000</td>\n",
       "                        <td id=\"T_64777d49_1abd_11eb_9ff0_a0a4c554f2a3row6_col8\" class=\"data row6 col8\" >3196.000000</td>\n",
       "                        <td id=\"T_64777d49_1abd_11eb_9ff0_a0a4c554f2a3row6_col9\" class=\"data row6 col9\" >811.000000</td>\n",
       "                        <td id=\"T_64777d49_1abd_11eb_9ff0_a0a4c554f2a3row6_col10\" class=\"data row6 col10\" >74.000000</td>\n",
       "            </tr>\n",
       "            <tr>\n",
       "                        <th id=\"T_64777d49_1abd_11eb_9ff0_a0a4c554f2a3level0_row7\" class=\"row_heading level0 row7\" >var</th>\n",
       "                        <td id=\"T_64777d49_1abd_11eb_9ff0_a0a4c554f2a3row7_col0\" class=\"data row7 col0\" >110.000000</td>\n",
       "                        <td id=\"T_64777d49_1abd_11eb_9ff0_a0a4c554f2a3row7_col1\" class=\"data row7 col1\" >678.000000</td>\n",
       "                        <td id=\"T_64777d49_1abd_11eb_9ff0_a0a4c554f2a3row7_col2\" class=\"data row7 col2\" >44.000000</td>\n",
       "                        <td id=\"T_64777d49_1abd_11eb_9ff0_a0a4c554f2a3row7_col3\" class=\"data row7 col3\" >935.000000</td>\n",
       "                        <td id=\"T_64777d49_1abd_11eb_9ff0_a0a4c554f2a3row7_col4\" class=\"data row7 col4\" >967.000000</td>\n",
       "                        <td id=\"T_64777d49_1abd_11eb_9ff0_a0a4c554f2a3row7_col5\" class=\"data row7 col5\" >1472.000000</td>\n",
       "                        <td id=\"T_64777d49_1abd_11eb_9ff0_a0a4c554f2a3row7_col6\" class=\"data row7 col6\" >1418.000000</td>\n",
       "                        <td id=\"T_64777d49_1abd_11eb_9ff0_a0a4c554f2a3row7_col7\" class=\"data row7 col7\" >1846.000000</td>\n",
       "                        <td id=\"T_64777d49_1abd_11eb_9ff0_a0a4c554f2a3row7_col8\" class=\"data row7 col8\" >1598.000000</td>\n",
       "                        <td id=\"T_64777d49_1abd_11eb_9ff0_a0a4c554f2a3row7_col9\" class=\"data row7 col9\" >348.000000</td>\n",
       "                        <td id=\"T_64777d49_1abd_11eb_9ff0_a0a4c554f2a3row7_col10\" class=\"data row7 col10\" >40.000000</td>\n",
       "            </tr>\n",
       "            <tr>\n",
       "                        <th id=\"T_64777d49_1abd_11eb_9ff0_a0a4c554f2a3level0_row8\" class=\"row_heading level0 row8\" >vi</th>\n",
       "                        <td id=\"T_64777d49_1abd_11eb_9ff0_a0a4c554f2a3row8_col0\" class=\"data row8 col0\" >109.000000</td>\n",
       "                        <td id=\"T_64777d49_1abd_11eb_9ff0_a0a4c554f2a3row8_col1\" class=\"data row8 col1\" >527.000000</td>\n",
       "                        <td id=\"T_64777d49_1abd_11eb_9ff0_a0a4c554f2a3row8_col2\" class=\"data row8 col2\" >78.000000</td>\n",
       "                        <td id=\"T_64777d49_1abd_11eb_9ff0_a0a4c554f2a3row8_col3\" class=\"data row8 col3\" >631.000000</td>\n",
       "                        <td id=\"T_64777d49_1abd_11eb_9ff0_a0a4c554f2a3row8_col4\" class=\"data row8 col4\" >575.000000</td>\n",
       "                        <td id=\"T_64777d49_1abd_11eb_9ff0_a0a4c554f2a3row8_col5\" class=\"data row8 col5\" >846.000000</td>\n",
       "                        <td id=\"T_64777d49_1abd_11eb_9ff0_a0a4c554f2a3row8_col6\" class=\"data row8 col6\" >833.000000</td>\n",
       "                        <td id=\"T_64777d49_1abd_11eb_9ff0_a0a4c554f2a3row8_col7\" class=\"data row8 col7\" >1074.000000</td>\n",
       "                        <td id=\"T_64777d49_1abd_11eb_9ff0_a0a4c554f2a3row8_col8\" class=\"data row8 col8\" >949.000000</td>\n",
       "                        <td id=\"T_64777d49_1abd_11eb_9ff0_a0a4c554f2a3row8_col9\" class=\"data row8 col9\" >219.000000</td>\n",
       "                        <td id=\"T_64777d49_1abd_11eb_9ff0_a0a4c554f2a3row8_col10\" class=\"data row8 col10\" >6.000000</td>\n",
       "            </tr>\n",
       "            <tr>\n",
       "                        <th id=\"T_64777d49_1abd_11eb_9ff0_a0a4c554f2a3level0_row9\" class=\"row_heading level0 row9\" >som</th>\n",
       "                        <td id=\"T_64777d49_1abd_11eb_9ff0_a0a4c554f2a3row9_col0\" class=\"data row9 col0\" >107.000000</td>\n",
       "                        <td id=\"T_64777d49_1abd_11eb_9ff0_a0a4c554f2a3row9_col1\" class=\"data row9 col1\" >714.000000</td>\n",
       "                        <td id=\"T_64777d49_1abd_11eb_9ff0_a0a4c554f2a3row9_col2\" class=\"data row9 col2\" >76.000000</td>\n",
       "                        <td id=\"T_64777d49_1abd_11eb_9ff0_a0a4c554f2a3row9_col3\" class=\"data row9 col3\" >1250.000000</td>\n",
       "                        <td id=\"T_64777d49_1abd_11eb_9ff0_a0a4c554f2a3row9_col4\" class=\"data row9 col4\" >1221.000000</td>\n",
       "                        <td id=\"T_64777d49_1abd_11eb_9ff0_a0a4c554f2a3row9_col5\" class=\"data row9 col5\" >1781.000000</td>\n",
       "                        <td id=\"T_64777d49_1abd_11eb_9ff0_a0a4c554f2a3row9_col6\" class=\"data row9 col6\" >1682.000000</td>\n",
       "                        <td id=\"T_64777d49_1abd_11eb_9ff0_a0a4c554f2a3row9_col7\" class=\"data row9 col7\" >2058.000000</td>\n",
       "                        <td id=\"T_64777d49_1abd_11eb_9ff0_a0a4c554f2a3row9_col8\" class=\"data row9 col8\" >1507.000000</td>\n",
       "                        <td id=\"T_64777d49_1abd_11eb_9ff0_a0a4c554f2a3row9_col9\" class=\"data row9 col9\" >394.000000</td>\n",
       "                        <td id=\"T_64777d49_1abd_11eb_9ff0_a0a4c554f2a3row9_col10\" class=\"data row9 col10\" >46.000000</td>\n",
       "            </tr>\n",
       "            <tr>\n",
       "                        <th id=\"T_64777d49_1abd_11eb_9ff0_a0a4c554f2a3level0_row10\" class=\"row_heading level0 row10\" >til</th>\n",
       "                        <td id=\"T_64777d49_1abd_11eb_9ff0_a0a4c554f2a3row10_col0\" class=\"data row10 col0\" >105.000000</td>\n",
       "                        <td id=\"T_64777d49_1abd_11eb_9ff0_a0a4c554f2a3row10_col1\" class=\"data row10 col1\" >651.000000</td>\n",
       "                        <td id=\"T_64777d49_1abd_11eb_9ff0_a0a4c554f2a3row10_col2\" class=\"data row10 col2\" >60.000000</td>\n",
       "                        <td id=\"T_64777d49_1abd_11eb_9ff0_a0a4c554f2a3row10_col3\" class=\"data row10 col3\" >1202.000000</td>\n",
       "                        <td id=\"T_64777d49_1abd_11eb_9ff0_a0a4c554f2a3row10_col4\" class=\"data row10 col4\" >1142.000000</td>\n",
       "                        <td id=\"T_64777d49_1abd_11eb_9ff0_a0a4c554f2a3row10_col5\" class=\"data row10 col5\" >1580.000000</td>\n",
       "                        <td id=\"T_64777d49_1abd_11eb_9ff0_a0a4c554f2a3row10_col6\" class=\"data row10 col6\" >1740.000000</td>\n",
       "                        <td id=\"T_64777d49_1abd_11eb_9ff0_a0a4c554f2a3row10_col7\" class=\"data row10 col7\" >2278.000000</td>\n",
       "                        <td id=\"T_64777d49_1abd_11eb_9ff0_a0a4c554f2a3row10_col8\" class=\"data row10 col8\" >1869.000000</td>\n",
       "                        <td id=\"T_64777d49_1abd_11eb_9ff0_a0a4c554f2a3row10_col9\" class=\"data row10 col9\" >511.000000</td>\n",
       "                        <td id=\"T_64777d49_1abd_11eb_9ff0_a0a4c554f2a3row10_col10\" class=\"data row10 col10\" >37.000000</td>\n",
       "            </tr>\n",
       "            <tr>\n",
       "                        <th id=\"T_64777d49_1abd_11eb_9ff0_a0a4c554f2a3level0_row11\" class=\"row_heading level0 row11\" >det</th>\n",
       "                        <td id=\"T_64777d49_1abd_11eb_9ff0_a0a4c554f2a3row11_col0\" class=\"data row11 col0\" >102.000000</td>\n",
       "                        <td id=\"T_64777d49_1abd_11eb_9ff0_a0a4c554f2a3row11_col1\" class=\"data row11 col1\" >1037.000000</td>\n",
       "                        <td id=\"T_64777d49_1abd_11eb_9ff0_a0a4c554f2a3row11_col2\" class=\"data row11 col2\" >68.000000</td>\n",
       "                        <td id=\"T_64777d49_1abd_11eb_9ff0_a0a4c554f2a3row11_col3\" class=\"data row11 col3\" >1872.000000</td>\n",
       "                        <td id=\"T_64777d49_1abd_11eb_9ff0_a0a4c554f2a3row11_col4\" class=\"data row11 col4\" >1807.000000</td>\n",
       "                        <td id=\"T_64777d49_1abd_11eb_9ff0_a0a4c554f2a3row11_col5\" class=\"data row11 col5\" >2684.000000</td>\n",
       "                        <td id=\"T_64777d49_1abd_11eb_9ff0_a0a4c554f2a3row11_col6\" class=\"data row11 col6\" >2633.000000</td>\n",
       "                        <td id=\"T_64777d49_1abd_11eb_9ff0_a0a4c554f2a3row11_col7\" class=\"data row11 col7\" >3290.000000</td>\n",
       "                        <td id=\"T_64777d49_1abd_11eb_9ff0_a0a4c554f2a3row11_col8\" class=\"data row11 col8\" >2666.000000</td>\n",
       "                        <td id=\"T_64777d49_1abd_11eb_9ff0_a0a4c554f2a3row11_col9\" class=\"data row11 col9\" >781.000000</td>\n",
       "                        <td id=\"T_64777d49_1abd_11eb_9ff0_a0a4c554f2a3row11_col10\" class=\"data row11 col10\" >78.000000</td>\n",
       "            </tr>\n",
       "            <tr>\n",
       "                        <th id=\"T_64777d49_1abd_11eb_9ff0_a0a4c554f2a3level0_row12\" class=\"row_heading level0 row12\" >den</th>\n",
       "                        <td id=\"T_64777d49_1abd_11eb_9ff0_a0a4c554f2a3row12_col0\" class=\"data row12 col0\" >96.000000</td>\n",
       "                        <td id=\"T_64777d49_1abd_11eb_9ff0_a0a4c554f2a3row12_col1\" class=\"data row12 col1\" >635.000000</td>\n",
       "                        <td id=\"T_64777d49_1abd_11eb_9ff0_a0a4c554f2a3row12_col2\" class=\"data row12 col2\" >51.000000</td>\n",
       "                        <td id=\"T_64777d49_1abd_11eb_9ff0_a0a4c554f2a3row12_col3\" class=\"data row12 col3\" >1220.000000</td>\n",
       "                        <td id=\"T_64777d49_1abd_11eb_9ff0_a0a4c554f2a3row12_col4\" class=\"data row12 col4\" >1273.000000</td>\n",
       "                        <td id=\"T_64777d49_1abd_11eb_9ff0_a0a4c554f2a3row12_col5\" class=\"data row12 col5\" >1646.000000</td>\n",
       "                        <td id=\"T_64777d49_1abd_11eb_9ff0_a0a4c554f2a3row12_col6\" class=\"data row12 col6\" >1617.000000</td>\n",
       "                        <td id=\"T_64777d49_1abd_11eb_9ff0_a0a4c554f2a3row12_col7\" class=\"data row12 col7\" >1998.000000</td>\n",
       "                        <td id=\"T_64777d49_1abd_11eb_9ff0_a0a4c554f2a3row12_col8\" class=\"data row12 col8\" >1625.000000</td>\n",
       "                        <td id=\"T_64777d49_1abd_11eb_9ff0_a0a4c554f2a3row12_col9\" class=\"data row12 col9\" >475.000000</td>\n",
       "                        <td id=\"T_64777d49_1abd_11eb_9ff0_a0a4c554f2a3row12_col10\" class=\"data row12 col10\" >53.000000</td>\n",
       "            </tr>\n",
       "            <tr>\n",
       "                        <th id=\"T_64777d49_1abd_11eb_9ff0_a0a4c554f2a3level0_row13\" class=\"row_heading level0 row13\" >en</th>\n",
       "                        <td id=\"T_64777d49_1abd_11eb_9ff0_a0a4c554f2a3row13_col0\" class=\"data row13 col0\" >92.000000</td>\n",
       "                        <td id=\"T_64777d49_1abd_11eb_9ff0_a0a4c554f2a3row13_col1\" class=\"data row13 col1\" >604.000000</td>\n",
       "                        <td id=\"T_64777d49_1abd_11eb_9ff0_a0a4c554f2a3row13_col2\" class=\"data row13 col2\" >59.000000</td>\n",
       "                        <td id=\"T_64777d49_1abd_11eb_9ff0_a0a4c554f2a3row13_col3\" class=\"data row13 col3\" >906.000000</td>\n",
       "                        <td id=\"T_64777d49_1abd_11eb_9ff0_a0a4c554f2a3row13_col4\" class=\"data row13 col4\" >798.000000</td>\n",
       "                        <td id=\"T_64777d49_1abd_11eb_9ff0_a0a4c554f2a3row13_col5\" class=\"data row13 col5\" >1192.000000</td>\n",
       "                        <td id=\"T_64777d49_1abd_11eb_9ff0_a0a4c554f2a3row13_col6\" class=\"data row13 col6\" >1051.000000</td>\n",
       "                        <td id=\"T_64777d49_1abd_11eb_9ff0_a0a4c554f2a3row13_col7\" class=\"data row13 col7\" >1438.000000</td>\n",
       "                        <td id=\"T_64777d49_1abd_11eb_9ff0_a0a4c554f2a3row13_col8\" class=\"data row13 col8\" >1164.000000</td>\n",
       "                        <td id=\"T_64777d49_1abd_11eb_9ff0_a0a4c554f2a3row13_col9\" class=\"data row13 col9\" >317.000000</td>\n",
       "                        <td id=\"T_64777d49_1abd_11eb_9ff0_a0a4c554f2a3row13_col10\" class=\"data row13 col10\" >48.000000</td>\n",
       "            </tr>\n",
       "            <tr>\n",
       "                        <th id=\"T_64777d49_1abd_11eb_9ff0_a0a4c554f2a3level0_row14\" class=\"row_heading level0 row14\" >saa</th>\n",
       "                        <td id=\"T_64777d49_1abd_11eb_9ff0_a0a4c554f2a3row14_col0\" class=\"data row14 col0\" >84.000000</td>\n",
       "                        <td id=\"T_64777d49_1abd_11eb_9ff0_a0a4c554f2a3row14_col1\" class=\"data row14 col1\" >733.000000</td>\n",
       "                        <td id=\"T_64777d49_1abd_11eb_9ff0_a0a4c554f2a3row14_col2\" class=\"data row14 col2\" >39.000000</td>\n",
       "                        <td id=\"T_64777d49_1abd_11eb_9ff0_a0a4c554f2a3row14_col3\" class=\"data row14 col3\" >1301.000000</td>\n",
       "                        <td id=\"T_64777d49_1abd_11eb_9ff0_a0a4c554f2a3row14_col4\" class=\"data row14 col4\" >1238.000000</td>\n",
       "                        <td id=\"T_64777d49_1abd_11eb_9ff0_a0a4c554f2a3row14_col5\" class=\"data row14 col5\" >1586.000000</td>\n",
       "                        <td id=\"T_64777d49_1abd_11eb_9ff0_a0a4c554f2a3row14_col6\" class=\"data row14 col6\" >1520.000000</td>\n",
       "                        <td id=\"T_64777d49_1abd_11eb_9ff0_a0a4c554f2a3row14_col7\" class=\"data row14 col7\" >1741.000000</td>\n",
       "                        <td id=\"T_64777d49_1abd_11eb_9ff0_a0a4c554f2a3row14_col8\" class=\"data row14 col8\" >1453.000000</td>\n",
       "                        <td id=\"T_64777d49_1abd_11eb_9ff0_a0a4c554f2a3row14_col9\" class=\"data row14 col9\" >347.000000</td>\n",
       "                        <td id=\"T_64777d49_1abd_11eb_9ff0_a0a4c554f2a3row14_col10\" class=\"data row14 col10\" >49.000000</td>\n",
       "            </tr>\n",
       "            <tr>\n",
       "                        <th id=\"T_64777d49_1abd_11eb_9ff0_a0a4c554f2a3level0_row15\" class=\"row_heading level0 row15\" >med</th>\n",
       "                        <td id=\"T_64777d49_1abd_11eb_9ff0_a0a4c554f2a3row15_col0\" class=\"data row15 col0\" >83.000000</td>\n",
       "                        <td id=\"T_64777d49_1abd_11eb_9ff0_a0a4c554f2a3row15_col1\" class=\"data row15 col1\" >492.000000</td>\n",
       "                        <td id=\"T_64777d49_1abd_11eb_9ff0_a0a4c554f2a3row15_col2\" class=\"data row15 col2\" >47.000000</td>\n",
       "                        <td id=\"T_64777d49_1abd_11eb_9ff0_a0a4c554f2a3row15_col3\" class=\"data row15 col3\" >917.000000</td>\n",
       "                        <td id=\"T_64777d49_1abd_11eb_9ff0_a0a4c554f2a3row15_col4\" class=\"data row15 col4\" >826.000000</td>\n",
       "                        <td id=\"T_64777d49_1abd_11eb_9ff0_a0a4c554f2a3row15_col5\" class=\"data row15 col5\" >1247.000000</td>\n",
       "                        <td id=\"T_64777d49_1abd_11eb_9ff0_a0a4c554f2a3row15_col6\" class=\"data row15 col6\" >1394.000000</td>\n",
       "                        <td id=\"T_64777d49_1abd_11eb_9ff0_a0a4c554f2a3row15_col7\" class=\"data row15 col7\" >1826.000000</td>\n",
       "                        <td id=\"T_64777d49_1abd_11eb_9ff0_a0a4c554f2a3row15_col8\" class=\"data row15 col8\" >1475.000000</td>\n",
       "                        <td id=\"T_64777d49_1abd_11eb_9ff0_a0a4c554f2a3row15_col9\" class=\"data row15 col9\" >326.000000</td>\n",
       "                        <td id=\"T_64777d49_1abd_11eb_9ff0_a0a4c554f2a3row15_col10\" class=\"data row15 col10\" >30.000000</td>\n",
       "            </tr>\n",
       "            <tr>\n",
       "                        <th id=\"T_64777d49_1abd_11eb_9ff0_a0a4c554f2a3level0_row16\" class=\"row_heading level0 row16\" >de</th>\n",
       "                        <td id=\"T_64777d49_1abd_11eb_9ff0_a0a4c554f2a3row16_col0\" class=\"data row16 col0\" >76.000000</td>\n",
       "                        <td id=\"T_64777d49_1abd_11eb_9ff0_a0a4c554f2a3row16_col1\" class=\"data row16 col1\" >376.000000</td>\n",
       "                        <td id=\"T_64777d49_1abd_11eb_9ff0_a0a4c554f2a3row16_col2\" class=\"data row16 col2\" >49.000000</td>\n",
       "                        <td id=\"T_64777d49_1abd_11eb_9ff0_a0a4c554f2a3row16_col3\" class=\"data row16 col3\" >1049.000000</td>\n",
       "                        <td id=\"T_64777d49_1abd_11eb_9ff0_a0a4c554f2a3row16_col4\" class=\"data row16 col4\" >1109.000000</td>\n",
       "                        <td id=\"T_64777d49_1abd_11eb_9ff0_a0a4c554f2a3row16_col5\" class=\"data row16 col5\" >1401.000000</td>\n",
       "                        <td id=\"T_64777d49_1abd_11eb_9ff0_a0a4c554f2a3row16_col6\" class=\"data row16 col6\" >1315.000000</td>\n",
       "                        <td id=\"T_64777d49_1abd_11eb_9ff0_a0a4c554f2a3row16_col7\" class=\"data row16 col7\" >1489.000000</td>\n",
       "                        <td id=\"T_64777d49_1abd_11eb_9ff0_a0a4c554f2a3row16_col8\" class=\"data row16 col8\" >1439.000000</td>\n",
       "                        <td id=\"T_64777d49_1abd_11eb_9ff0_a0a4c554f2a3row16_col9\" class=\"data row16 col9\" >480.000000</td>\n",
       "                        <td id=\"T_64777d49_1abd_11eb_9ff0_a0a4c554f2a3row16_col10\" class=\"data row16 col10\" >21.000000</td>\n",
       "            </tr>\n",
       "            <tr>\n",
       "                        <th id=\"T_64777d49_1abd_11eb_9ff0_a0a4c554f2a3level0_row17\" class=\"row_heading level0 row17\" >:</th>\n",
       "                        <td id=\"T_64777d49_1abd_11eb_9ff0_a0a4c554f2a3row17_col0\" class=\"data row17 col0\" >75.000000</td>\n",
       "                        <td id=\"T_64777d49_1abd_11eb_9ff0_a0a4c554f2a3row17_col1\" class=\"data row17 col1\" >705.000000</td>\n",
       "                        <td id=\"T_64777d49_1abd_11eb_9ff0_a0a4c554f2a3row17_col2\" class=\"data row17 col2\" >30.000000</td>\n",
       "                        <td id=\"T_64777d49_1abd_11eb_9ff0_a0a4c554f2a3row17_col3\" class=\"data row17 col3\" >497.000000</td>\n",
       "                        <td id=\"T_64777d49_1abd_11eb_9ff0_a0a4c554f2a3row17_col4\" class=\"data row17 col4\" >741.000000</td>\n",
       "                        <td id=\"T_64777d49_1abd_11eb_9ff0_a0a4c554f2a3row17_col5\" class=\"data row17 col5\" >824.000000</td>\n",
       "                        <td id=\"T_64777d49_1abd_11eb_9ff0_a0a4c554f2a3row17_col6\" class=\"data row17 col6\" >757.000000</td>\n",
       "                        <td id=\"T_64777d49_1abd_11eb_9ff0_a0a4c554f2a3row17_col7\" class=\"data row17 col7\" >802.000000</td>\n",
       "                        <td id=\"T_64777d49_1abd_11eb_9ff0_a0a4c554f2a3row17_col8\" class=\"data row17 col8\" >782.000000</td>\n",
       "                        <td id=\"T_64777d49_1abd_11eb_9ff0_a0a4c554f2a3row17_col9\" class=\"data row17 col9\" >149.000000</td>\n",
       "                        <td id=\"T_64777d49_1abd_11eb_9ff0_a0a4c554f2a3row17_col10\" class=\"data row17 col10\" >17.000000</td>\n",
       "            </tr>\n",
       "            <tr>\n",
       "                        <th id=\"T_64777d49_1abd_11eb_9ff0_a0a4c554f2a3level0_row18\" class=\"row_heading level0 row18\" >for</th>\n",
       "                        <td id=\"T_64777d49_1abd_11eb_9ff0_a0a4c554f2a3row18_col0\" class=\"data row18 col0\" >70.000000</td>\n",
       "                        <td id=\"T_64777d49_1abd_11eb_9ff0_a0a4c554f2a3row18_col1\" class=\"data row18 col1\" >469.000000</td>\n",
       "                        <td id=\"T_64777d49_1abd_11eb_9ff0_a0a4c554f2a3row18_col2\" class=\"data row18 col2\" >46.000000</td>\n",
       "                        <td id=\"T_64777d49_1abd_11eb_9ff0_a0a4c554f2a3row18_col3\" class=\"data row18 col3\" >803.000000</td>\n",
       "                        <td id=\"T_64777d49_1abd_11eb_9ff0_a0a4c554f2a3row18_col4\" class=\"data row18 col4\" >868.000000</td>\n",
       "                        <td id=\"T_64777d49_1abd_11eb_9ff0_a0a4c554f2a3row18_col5\" class=\"data row18 col5\" >1157.000000</td>\n",
       "                        <td id=\"T_64777d49_1abd_11eb_9ff0_a0a4c554f2a3row18_col6\" class=\"data row18 col6\" >1145.000000</td>\n",
       "                        <td id=\"T_64777d49_1abd_11eb_9ff0_a0a4c554f2a3row18_col7\" class=\"data row18 col7\" >1407.000000</td>\n",
       "                        <td id=\"T_64777d49_1abd_11eb_9ff0_a0a4c554f2a3row18_col8\" class=\"data row18 col8\" >1176.000000</td>\n",
       "                        <td id=\"T_64777d49_1abd_11eb_9ff0_a0a4c554f2a3row18_col9\" class=\"data row18 col9\" >368.000000</td>\n",
       "                        <td id=\"T_64777d49_1abd_11eb_9ff0_a0a4c554f2a3row18_col10\" class=\"data row18 col10\" >38.000000</td>\n",
       "            </tr>\n",
       "            <tr>\n",
       "                        <th id=\"T_64777d49_1abd_11eb_9ff0_a0a4c554f2a3level0_row19\" class=\"row_heading level0 row19\" >af</th>\n",
       "                        <td id=\"T_64777d49_1abd_11eb_9ff0_a0a4c554f2a3row19_col0\" class=\"data row19 col0\" >70.000000</td>\n",
       "                        <td id=\"T_64777d49_1abd_11eb_9ff0_a0a4c554f2a3row19_col1\" class=\"data row19 col1\" >400.000000</td>\n",
       "                        <td id=\"T_64777d49_1abd_11eb_9ff0_a0a4c554f2a3row19_col2\" class=\"data row19 col2\" >34.000000</td>\n",
       "                        <td id=\"T_64777d49_1abd_11eb_9ff0_a0a4c554f2a3row19_col3\" class=\"data row19 col3\" >639.000000</td>\n",
       "                        <td id=\"T_64777d49_1abd_11eb_9ff0_a0a4c554f2a3row19_col4\" class=\"data row19 col4\" >584.000000</td>\n",
       "                        <td id=\"T_64777d49_1abd_11eb_9ff0_a0a4c554f2a3row19_col5\" class=\"data row19 col5\" >802.000000</td>\n",
       "                        <td id=\"T_64777d49_1abd_11eb_9ff0_a0a4c554f2a3row19_col6\" class=\"data row19 col6\" >828.000000</td>\n",
       "                        <td id=\"T_64777d49_1abd_11eb_9ff0_a0a4c554f2a3row19_col7\" class=\"data row19 col7\" >980.000000</td>\n",
       "                        <td id=\"T_64777d49_1abd_11eb_9ff0_a0a4c554f2a3row19_col8\" class=\"data row19 col8\" >862.000000</td>\n",
       "                        <td id=\"T_64777d49_1abd_11eb_9ff0_a0a4c554f2a3row19_col9\" class=\"data row19 col9\" >237.000000</td>\n",
       "                        <td id=\"T_64777d49_1abd_11eb_9ff0_a0a4c554f2a3row19_col10\" class=\"data row19 col10\" >19.000000</td>\n",
       "            </tr>\n",
       "            <tr>\n",
       "                        <th id=\"T_64777d49_1abd_11eb_9ff0_a0a4c554f2a3level0_row20\" class=\"row_heading level0 row20\" >;</th>\n",
       "                        <td id=\"T_64777d49_1abd_11eb_9ff0_a0a4c554f2a3row20_col0\" class=\"data row20 col0\" >65.000000</td>\n",
       "                        <td id=\"T_64777d49_1abd_11eb_9ff0_a0a4c554f2a3row20_col1\" class=\"data row20 col1\" >270.000000</td>\n",
       "                        <td id=\"T_64777d49_1abd_11eb_9ff0_a0a4c554f2a3row20_col2\" class=\"data row20 col2\" >22.000000</td>\n",
       "                        <td id=\"T_64777d49_1abd_11eb_9ff0_a0a4c554f2a3row20_col3\" class=\"data row20 col3\" >369.000000</td>\n",
       "                        <td id=\"T_64777d49_1abd_11eb_9ff0_a0a4c554f2a3row20_col4\" class=\"data row20 col4\" >241.000000</td>\n",
       "                        <td id=\"T_64777d49_1abd_11eb_9ff0_a0a4c554f2a3row20_col5\" class=\"data row20 col5\" >281.000000</td>\n",
       "                        <td id=\"T_64777d49_1abd_11eb_9ff0_a0a4c554f2a3row20_col6\" class=\"data row20 col6\" >324.000000</td>\n",
       "                        <td id=\"T_64777d49_1abd_11eb_9ff0_a0a4c554f2a3row20_col7\" class=\"data row20 col7\" >422.000000</td>\n",
       "                        <td id=\"T_64777d49_1abd_11eb_9ff0_a0a4c554f2a3row20_col8\" class=\"data row20 col8\" >401.000000</td>\n",
       "                        <td id=\"T_64777d49_1abd_11eb_9ff0_a0a4c554f2a3row20_col9\" class=\"data row20 col9\" >111.000000</td>\n",
       "                        <td id=\"T_64777d49_1abd_11eb_9ff0_a0a4c554f2a3row20_col10\" class=\"data row20 col10\" >19.000000</td>\n",
       "            </tr>\n",
       "            <tr>\n",
       "                        <th id=\"T_64777d49_1abd_11eb_9ff0_a0a4c554f2a3level0_row21\" class=\"row_heading level0 row21\" >(</th>\n",
       "                        <td id=\"T_64777d49_1abd_11eb_9ff0_a0a4c554f2a3row21_col0\" class=\"data row21 col0\" >61.000000</td>\n",
       "                        <td id=\"T_64777d49_1abd_11eb_9ff0_a0a4c554f2a3row21_col1\" class=\"data row21 col1\" >95.000000</td>\n",
       "                        <td id=\"T_64777d49_1abd_11eb_9ff0_a0a4c554f2a3row21_col2\" class=\"data row21 col2\" >58.000000</td>\n",
       "                        <td id=\"T_64777d49_1abd_11eb_9ff0_a0a4c554f2a3row21_col3\" class=\"data row21 col3\" >234.000000</td>\n",
       "                        <td id=\"T_64777d49_1abd_11eb_9ff0_a0a4c554f2a3row21_col4\" class=\"data row21 col4\" >166.000000</td>\n",
       "                        <td id=\"T_64777d49_1abd_11eb_9ff0_a0a4c554f2a3row21_col5\" class=\"data row21 col5\" >289.000000</td>\n",
       "                        <td id=\"T_64777d49_1abd_11eb_9ff0_a0a4c554f2a3row21_col6\" class=\"data row21 col6\" >253.000000</td>\n",
       "                        <td id=\"T_64777d49_1abd_11eb_9ff0_a0a4c554f2a3row21_col7\" class=\"data row21 col7\" >278.000000</td>\n",
       "                        <td id=\"T_64777d49_1abd_11eb_9ff0_a0a4c554f2a3row21_col8\" class=\"data row21 col8\" >207.000000</td>\n",
       "                        <td id=\"T_64777d49_1abd_11eb_9ff0_a0a4c554f2a3row21_col9\" class=\"data row21 col9\" >53.000000</td>\n",
       "                        <td id=\"T_64777d49_1abd_11eb_9ff0_a0a4c554f2a3row21_col10\" class=\"data row21 col10\" >5.000000</td>\n",
       "            </tr>\n",
       "            <tr>\n",
       "                        <th id=\"T_64777d49_1abd_11eb_9ff0_a0a4c554f2a3level0_row22\" class=\"row_heading level0 row22\" >)</th>\n",
       "                        <td id=\"T_64777d49_1abd_11eb_9ff0_a0a4c554f2a3row22_col0\" class=\"data row22 col0\" >61.000000</td>\n",
       "                        <td id=\"T_64777d49_1abd_11eb_9ff0_a0a4c554f2a3row22_col1\" class=\"data row22 col1\" >94.000000</td>\n",
       "                        <td id=\"T_64777d49_1abd_11eb_9ff0_a0a4c554f2a3row22_col2\" class=\"data row22 col2\" >58.000000</td>\n",
       "                        <td id=\"T_64777d49_1abd_11eb_9ff0_a0a4c554f2a3row22_col3\" class=\"data row22 col3\" >235.000000</td>\n",
       "                        <td id=\"T_64777d49_1abd_11eb_9ff0_a0a4c554f2a3row22_col4\" class=\"data row22 col4\" >165.000000</td>\n",
       "                        <td id=\"T_64777d49_1abd_11eb_9ff0_a0a4c554f2a3row22_col5\" class=\"data row22 col5\" >291.000000</td>\n",
       "                        <td id=\"T_64777d49_1abd_11eb_9ff0_a0a4c554f2a3row22_col6\" class=\"data row22 col6\" >256.000000</td>\n",
       "                        <td id=\"T_64777d49_1abd_11eb_9ff0_a0a4c554f2a3row22_col7\" class=\"data row22 col7\" >281.000000</td>\n",
       "                        <td id=\"T_64777d49_1abd_11eb_9ff0_a0a4c554f2a3row22_col8\" class=\"data row22 col8\" >207.000000</td>\n",
       "                        <td id=\"T_64777d49_1abd_11eb_9ff0_a0a4c554f2a3row22_col9\" class=\"data row22 col9\" >53.000000</td>\n",
       "                        <td id=\"T_64777d49_1abd_11eb_9ff0_a0a4c554f2a3row22_col10\" class=\"data row22 col10\" >5.000000</td>\n",
       "            </tr>\n",
       "            <tr>\n",
       "                        <th id=\"T_64777d49_1abd_11eb_9ff0_a0a4c554f2a3level0_row23\" class=\"row_heading level0 row23\" >da</th>\n",
       "                        <td id=\"T_64777d49_1abd_11eb_9ff0_a0a4c554f2a3row23_col0\" class=\"data row23 col0\" >59.000000</td>\n",
       "                        <td id=\"T_64777d49_1abd_11eb_9ff0_a0a4c554f2a3row23_col1\" class=\"data row23 col1\" >346.000000</td>\n",
       "                        <td id=\"T_64777d49_1abd_11eb_9ff0_a0a4c554f2a3row23_col2\" class=\"data row23 col2\" >28.000000</td>\n",
       "                        <td id=\"T_64777d49_1abd_11eb_9ff0_a0a4c554f2a3row23_col3\" class=\"data row23 col3\" >493.000000</td>\n",
       "                        <td id=\"T_64777d49_1abd_11eb_9ff0_a0a4c554f2a3row23_col4\" class=\"data row23 col4\" >469.000000</td>\n",
       "                        <td id=\"T_64777d49_1abd_11eb_9ff0_a0a4c554f2a3row23_col5\" class=\"data row23 col5\" >766.000000</td>\n",
       "                        <td id=\"T_64777d49_1abd_11eb_9ff0_a0a4c554f2a3row23_col6\" class=\"data row23 col6\" >876.000000</td>\n",
       "                        <td id=\"T_64777d49_1abd_11eb_9ff0_a0a4c554f2a3row23_col7\" class=\"data row23 col7\" >1130.000000</td>\n",
       "                        <td id=\"T_64777d49_1abd_11eb_9ff0_a0a4c554f2a3row23_col8\" class=\"data row23 col8\" >1001.000000</td>\n",
       "                        <td id=\"T_64777d49_1abd_11eb_9ff0_a0a4c554f2a3row23_col9\" class=\"data row23 col9\" >276.000000</td>\n",
       "                        <td id=\"T_64777d49_1abd_11eb_9ff0_a0a4c554f2a3row23_col10\" class=\"data row23 col10\" >28.000000</td>\n",
       "            </tr>\n",
       "            <tr>\n",
       "                        <th id=\"T_64777d49_1abd_11eb_9ff0_a0a4c554f2a3level0_row24\" class=\"row_heading level0 row24\" >ei</th>\n",
       "                        <td id=\"T_64777d49_1abd_11eb_9ff0_a0a4c554f2a3row24_col0\" class=\"data row24 col0\" >58.000000</td>\n",
       "                        <td id=\"T_64777d49_1abd_11eb_9ff0_a0a4c554f2a3row24_col1\" class=\"data row24 col1\" >12.000000</td>\n",
       "                        <td id=\"T_64777d49_1abd_11eb_9ff0_a0a4c554f2a3row24_col2\" class=\"data row24 col2\" >20.000000</td>\n",
       "                        <td id=\"T_64777d49_1abd_11eb_9ff0_a0a4c554f2a3row24_col3\" class=\"data row24 col3\" >0.000000</td>\n",
       "                        <td id=\"T_64777d49_1abd_11eb_9ff0_a0a4c554f2a3row24_col4\" class=\"data row24 col4\" >0.000000</td>\n",
       "                        <td id=\"T_64777d49_1abd_11eb_9ff0_a0a4c554f2a3row24_col5\" class=\"data row24 col5\" >0.000000</td>\n",
       "                        <td id=\"T_64777d49_1abd_11eb_9ff0_a0a4c554f2a3row24_col6\" class=\"data row24 col6\" >0.000000</td>\n",
       "                        <td id=\"T_64777d49_1abd_11eb_9ff0_a0a4c554f2a3row24_col7\" class=\"data row24 col7\" >0.000000</td>\n",
       "                        <td id=\"T_64777d49_1abd_11eb_9ff0_a0a4c554f2a3row24_col8\" class=\"data row24 col8\" >0.000000</td>\n",
       "                        <td id=\"T_64777d49_1abd_11eb_9ff0_a0a4c554f2a3row24_col9\" class=\"data row24 col9\" >0.000000</td>\n",
       "                        <td id=\"T_64777d49_1abd_11eb_9ff0_a0a4c554f2a3row24_col10\" class=\"data row24 col10\" >1.000000</td>\n",
       "            </tr>\n",
       "            <tr>\n",
       "                        <th id=\"T_64777d49_1abd_11eb_9ff0_a0a4c554f2a3level0_row25\" class=\"row_heading level0 row25\" >mig</th>\n",
       "                        <td id=\"T_64777d49_1abd_11eb_9ff0_a0a4c554f2a3row25_col0\" class=\"data row25 col0\" >54.000000</td>\n",
       "                        <td id=\"T_64777d49_1abd_11eb_9ff0_a0a4c554f2a3row25_col1\" class=\"data row25 col1\" >651.000000</td>\n",
       "                        <td id=\"T_64777d49_1abd_11eb_9ff0_a0a4c554f2a3row25_col2\" class=\"data row25 col2\" >30.000000</td>\n",
       "                        <td id=\"T_64777d49_1abd_11eb_9ff0_a0a4c554f2a3row25_col3\" class=\"data row25 col3\" >740.000000</td>\n",
       "                        <td id=\"T_64777d49_1abd_11eb_9ff0_a0a4c554f2a3row25_col4\" class=\"data row25 col4\" >865.000000</td>\n",
       "                        <td id=\"T_64777d49_1abd_11eb_9ff0_a0a4c554f2a3row25_col5\" class=\"data row25 col5\" >1145.000000</td>\n",
       "                        <td id=\"T_64777d49_1abd_11eb_9ff0_a0a4c554f2a3row25_col6\" class=\"data row25 col6\" >1169.000000</td>\n",
       "                        <td id=\"T_64777d49_1abd_11eb_9ff0_a0a4c554f2a3row25_col7\" class=\"data row25 col7\" >1511.000000</td>\n",
       "                        <td id=\"T_64777d49_1abd_11eb_9ff0_a0a4c554f2a3row25_col8\" class=\"data row25 col8\" >1203.000000</td>\n",
       "                        <td id=\"T_64777d49_1abd_11eb_9ff0_a0a4c554f2a3row25_col9\" class=\"data row25 col9\" >290.000000</td>\n",
       "                        <td id=\"T_64777d49_1abd_11eb_9ff0_a0a4c554f2a3row25_col10\" class=\"data row25 col10\" >49.000000</td>\n",
       "            </tr>\n",
       "            <tr>\n",
       "                        <th id=\"T_64777d49_1abd_11eb_9ff0_a0a4c554f2a3level0_row26\" class=\"row_heading level0 row26\" >er</th>\n",
       "                        <td id=\"T_64777d49_1abd_11eb_9ff0_a0a4c554f2a3row26_col0\" class=\"data row26 col0\" >54.000000</td>\n",
       "                        <td id=\"T_64777d49_1abd_11eb_9ff0_a0a4c554f2a3row26_col1\" class=\"data row26 col1\" >661.000000</td>\n",
       "                        <td id=\"T_64777d49_1abd_11eb_9ff0_a0a4c554f2a3row26_col2\" class=\"data row26 col2\" >40.000000</td>\n",
       "                        <td id=\"T_64777d49_1abd_11eb_9ff0_a0a4c554f2a3row26_col3\" class=\"data row26 col3\" >1321.000000</td>\n",
       "                        <td id=\"T_64777d49_1abd_11eb_9ff0_a0a4c554f2a3row26_col4\" class=\"data row26 col4\" >1165.000000</td>\n",
       "                        <td id=\"T_64777d49_1abd_11eb_9ff0_a0a4c554f2a3row26_col5\" class=\"data row26 col5\" >1539.000000</td>\n",
       "                        <td id=\"T_64777d49_1abd_11eb_9ff0_a0a4c554f2a3row26_col6\" class=\"data row26 col6\" >1465.000000</td>\n",
       "                        <td id=\"T_64777d49_1abd_11eb_9ff0_a0a4c554f2a3row26_col7\" class=\"data row26 col7\" >1743.000000</td>\n",
       "                        <td id=\"T_64777d49_1abd_11eb_9ff0_a0a4c554f2a3row26_col8\" class=\"data row26 col8\" >1587.000000</td>\n",
       "                        <td id=\"T_64777d49_1abd_11eb_9ff0_a0a4c554f2a3row26_col9\" class=\"data row26 col9\" >414.000000</td>\n",
       "                        <td id=\"T_64777d49_1abd_11eb_9ff0_a0a4c554f2a3row26_col10\" class=\"data row26 col10\" >50.000000</td>\n",
       "            </tr>\n",
       "            <tr>\n",
       "                        <th id=\"T_64777d49_1abd_11eb_9ff0_a0a4c554f2a3level0_row27\" class=\"row_heading level0 row27\" >men</th>\n",
       "                        <td id=\"T_64777d49_1abd_11eb_9ff0_a0a4c554f2a3row27_col0\" class=\"data row27 col0\" >54.000000</td>\n",
       "                        <td id=\"T_64777d49_1abd_11eb_9ff0_a0a4c554f2a3row27_col1\" class=\"data row27 col1\" >264.000000</td>\n",
       "                        <td id=\"T_64777d49_1abd_11eb_9ff0_a0a4c554f2a3row27_col2\" class=\"data row27 col2\" >22.000000</td>\n",
       "                        <td id=\"T_64777d49_1abd_11eb_9ff0_a0a4c554f2a3row27_col3\" class=\"data row27 col3\" >427.000000</td>\n",
       "                        <td id=\"T_64777d49_1abd_11eb_9ff0_a0a4c554f2a3row27_col4\" class=\"data row27 col4\" >418.000000</td>\n",
       "                        <td id=\"T_64777d49_1abd_11eb_9ff0_a0a4c554f2a3row27_col5\" class=\"data row27 col5\" >552.000000</td>\n",
       "                        <td id=\"T_64777d49_1abd_11eb_9ff0_a0a4c554f2a3row27_col6\" class=\"data row27 col6\" >661.000000</td>\n",
       "                        <td id=\"T_64777d49_1abd_11eb_9ff0_a0a4c554f2a3row27_col7\" class=\"data row27 col7\" >880.000000</td>\n",
       "                        <td id=\"T_64777d49_1abd_11eb_9ff0_a0a4c554f2a3row27_col8\" class=\"data row27 col8\" >844.000000</td>\n",
       "                        <td id=\"T_64777d49_1abd_11eb_9ff0_a0a4c554f2a3row27_col9\" class=\"data row27 col9\" >178.000000</td>\n",
       "                        <td id=\"T_64777d49_1abd_11eb_9ff0_a0a4c554f2a3row27_col10\" class=\"data row27 col10\" >23.000000</td>\n",
       "            </tr>\n",
       "            <tr>\n",
       "                        <th id=\"T_64777d49_1abd_11eb_9ff0_a0a4c554f2a3level0_row28\" class=\"row_heading level0 row28\" >havde</th>\n",
       "                        <td id=\"T_64777d49_1abd_11eb_9ff0_a0a4c554f2a3row28_col0\" class=\"data row28 col0\" >52.000000</td>\n",
       "                        <td id=\"T_64777d49_1abd_11eb_9ff0_a0a4c554f2a3row28_col1\" class=\"data row28 col1\" >288.000000</td>\n",
       "                        <td id=\"T_64777d49_1abd_11eb_9ff0_a0a4c554f2a3row28_col2\" class=\"data row28 col2\" >22.000000</td>\n",
       "                        <td id=\"T_64777d49_1abd_11eb_9ff0_a0a4c554f2a3row28_col3\" class=\"data row28 col3\" >413.000000</td>\n",
       "                        <td id=\"T_64777d49_1abd_11eb_9ff0_a0a4c554f2a3row28_col4\" class=\"data row28 col4\" >375.000000</td>\n",
       "                        <td id=\"T_64777d49_1abd_11eb_9ff0_a0a4c554f2a3row28_col5\" class=\"data row28 col5\" >625.000000</td>\n",
       "                        <td id=\"T_64777d49_1abd_11eb_9ff0_a0a4c554f2a3row28_col6\" class=\"data row28 col6\" >792.000000</td>\n",
       "                        <td id=\"T_64777d49_1abd_11eb_9ff0_a0a4c554f2a3row28_col7\" class=\"data row28 col7\" >980.000000</td>\n",
       "                        <td id=\"T_64777d49_1abd_11eb_9ff0_a0a4c554f2a3row28_col8\" class=\"data row28 col8\" >837.000000</td>\n",
       "                        <td id=\"T_64777d49_1abd_11eb_9ff0_a0a4c554f2a3row28_col9\" class=\"data row28 col9\" >193.000000</td>\n",
       "                        <td id=\"T_64777d49_1abd_11eb_9ff0_a0a4c554f2a3row28_col10\" class=\"data row28 col10\" >17.000000</td>\n",
       "            </tr>\n",
       "            <tr>\n",
       "                        <th id=\"T_64777d49_1abd_11eb_9ff0_a0a4c554f2a3level0_row29\" class=\"row_heading level0 row29\" >paa</th>\n",
       "                        <td id=\"T_64777d49_1abd_11eb_9ff0_a0a4c554f2a3row29_col0\" class=\"data row29 col0\" >51.000000</td>\n",
       "                        <td id=\"T_64777d49_1abd_11eb_9ff0_a0a4c554f2a3row29_col1\" class=\"data row29 col1\" >387.000000</td>\n",
       "                        <td id=\"T_64777d49_1abd_11eb_9ff0_a0a4c554f2a3row29_col2\" class=\"data row29 col2\" >27.000000</td>\n",
       "                        <td id=\"T_64777d49_1abd_11eb_9ff0_a0a4c554f2a3row29_col3\" class=\"data row29 col3\" >702.000000</td>\n",
       "                        <td id=\"T_64777d49_1abd_11eb_9ff0_a0a4c554f2a3row29_col4\" class=\"data row29 col4\" >715.000000</td>\n",
       "                        <td id=\"T_64777d49_1abd_11eb_9ff0_a0a4c554f2a3row29_col5\" class=\"data row29 col5\" >1009.000000</td>\n",
       "                        <td id=\"T_64777d49_1abd_11eb_9ff0_a0a4c554f2a3row29_col6\" class=\"data row29 col6\" >1093.000000</td>\n",
       "                        <td id=\"T_64777d49_1abd_11eb_9ff0_a0a4c554f2a3row29_col7\" class=\"data row29 col7\" >1320.000000</td>\n",
       "                        <td id=\"T_64777d49_1abd_11eb_9ff0_a0a4c554f2a3row29_col8\" class=\"data row29 col8\" >1050.000000</td>\n",
       "                        <td id=\"T_64777d49_1abd_11eb_9ff0_a0a4c554f2a3row29_col9\" class=\"data row29 col9\" >291.000000</td>\n",
       "                        <td id=\"T_64777d49_1abd_11eb_9ff0_a0a4c554f2a3row29_col10\" class=\"data row29 col10\" >33.000000</td>\n",
       "            </tr>\n",
       "            <tr>\n",
       "                        <th id=\"T_64777d49_1abd_11eb_9ff0_a0a4c554f2a3level0_row30\" class=\"row_heading level0 row30\" >os</th>\n",
       "                        <td id=\"T_64777d49_1abd_11eb_9ff0_a0a4c554f2a3row30_col0\" class=\"data row30 col0\" >47.000000</td>\n",
       "                        <td id=\"T_64777d49_1abd_11eb_9ff0_a0a4c554f2a3row30_col1\" class=\"data row30 col1\" >241.000000</td>\n",
       "                        <td id=\"T_64777d49_1abd_11eb_9ff0_a0a4c554f2a3row30_col2\" class=\"data row30 col2\" >36.000000</td>\n",
       "                        <td id=\"T_64777d49_1abd_11eb_9ff0_a0a4c554f2a3row30_col3\" class=\"data row30 col3\" >257.000000</td>\n",
       "                        <td id=\"T_64777d49_1abd_11eb_9ff0_a0a4c554f2a3row30_col4\" class=\"data row30 col4\" >269.000000</td>\n",
       "                        <td id=\"T_64777d49_1abd_11eb_9ff0_a0a4c554f2a3row30_col5\" class=\"data row30 col5\" >424.000000</td>\n",
       "                        <td id=\"T_64777d49_1abd_11eb_9ff0_a0a4c554f2a3row30_col6\" class=\"data row30 col6\" >337.000000</td>\n",
       "                        <td id=\"T_64777d49_1abd_11eb_9ff0_a0a4c554f2a3row30_col7\" class=\"data row30 col7\" >477.000000</td>\n",
       "                        <td id=\"T_64777d49_1abd_11eb_9ff0_a0a4c554f2a3row30_col8\" class=\"data row30 col8\" >405.000000</td>\n",
       "                        <td id=\"T_64777d49_1abd_11eb_9ff0_a0a4c554f2a3row30_col9\" class=\"data row30 col9\" >112.000000</td>\n",
       "                        <td id=\"T_64777d49_1abd_11eb_9ff0_a0a4c554f2a3row30_col10\" class=\"data row30 col10\" >4.000000</td>\n",
       "            </tr>\n",
       "            <tr>\n",
       "                        <th id=\"T_64777d49_1abd_11eb_9ff0_a0a4c554f2a3level0_row31\" class=\"row_heading level0 row31\" >om</th>\n",
       "                        <td id=\"T_64777d49_1abd_11eb_9ff0_a0a4c554f2a3row31_col0\" class=\"data row31 col0\" >46.000000</td>\n",
       "                        <td id=\"T_64777d49_1abd_11eb_9ff0_a0a4c554f2a3row31_col1\" class=\"data row31 col1\" >281.000000</td>\n",
       "                        <td id=\"T_64777d49_1abd_11eb_9ff0_a0a4c554f2a3row31_col2\" class=\"data row31 col2\" >20.000000</td>\n",
       "                        <td id=\"T_64777d49_1abd_11eb_9ff0_a0a4c554f2a3row31_col3\" class=\"data row31 col3\" >496.000000</td>\n",
       "                        <td id=\"T_64777d49_1abd_11eb_9ff0_a0a4c554f2a3row31_col4\" class=\"data row31 col4\" >459.000000</td>\n",
       "                        <td id=\"T_64777d49_1abd_11eb_9ff0_a0a4c554f2a3row31_col5\" class=\"data row31 col5\" >568.000000</td>\n",
       "                        <td id=\"T_64777d49_1abd_11eb_9ff0_a0a4c554f2a3row31_col6\" class=\"data row31 col6\" >628.000000</td>\n",
       "                        <td id=\"T_64777d49_1abd_11eb_9ff0_a0a4c554f2a3row31_col7\" class=\"data row31 col7\" >809.000000</td>\n",
       "                        <td id=\"T_64777d49_1abd_11eb_9ff0_a0a4c554f2a3row31_col8\" class=\"data row31 col8\" >637.000000</td>\n",
       "                        <td id=\"T_64777d49_1abd_11eb_9ff0_a0a4c554f2a3row31_col9\" class=\"data row31 col9\" >186.000000</td>\n",
       "                        <td id=\"T_64777d49_1abd_11eb_9ff0_a0a4c554f2a3row31_col10\" class=\"data row31 col10\" >25.000000</td>\n",
       "            </tr>\n",
       "            <tr>\n",
       "                        <th id=\"T_64777d49_1abd_11eb_9ff0_a0a4c554f2a3level0_row32\" class=\"row_heading level0 row32\" >?</th>\n",
       "                        <td id=\"T_64777d49_1abd_11eb_9ff0_a0a4c554f2a3row32_col0\" class=\"data row32 col0\" >37.000000</td>\n",
       "                        <td id=\"T_64777d49_1abd_11eb_9ff0_a0a4c554f2a3row32_col1\" class=\"data row32 col1\" >142.000000</td>\n",
       "                        <td id=\"T_64777d49_1abd_11eb_9ff0_a0a4c554f2a3row32_col2\" class=\"data row32 col2\" >21.000000</td>\n",
       "                        <td id=\"T_64777d49_1abd_11eb_9ff0_a0a4c554f2a3row32_col3\" class=\"data row32 col3\" >265.000000</td>\n",
       "                        <td id=\"T_64777d49_1abd_11eb_9ff0_a0a4c554f2a3row32_col4\" class=\"data row32 col4\" >259.000000</td>\n",
       "                        <td id=\"T_64777d49_1abd_11eb_9ff0_a0a4c554f2a3row32_col5\" class=\"data row32 col5\" >327.000000</td>\n",
       "                        <td id=\"T_64777d49_1abd_11eb_9ff0_a0a4c554f2a3row32_col6\" class=\"data row32 col6\" >279.000000</td>\n",
       "                        <td id=\"T_64777d49_1abd_11eb_9ff0_a0a4c554f2a3row32_col7\" class=\"data row32 col7\" >261.000000</td>\n",
       "                        <td id=\"T_64777d49_1abd_11eb_9ff0_a0a4c554f2a3row32_col8\" class=\"data row32 col8\" >200.000000</td>\n",
       "                        <td id=\"T_64777d49_1abd_11eb_9ff0_a0a4c554f2a3row32_col9\" class=\"data row32 col9\" >89.000000</td>\n",
       "                        <td id=\"T_64777d49_1abd_11eb_9ff0_a0a4c554f2a3row32_col10\" class=\"data row32 col10\" >13.000000</td>\n",
       "            </tr>\n",
       "            <tr>\n",
       "                        <th id=\"T_64777d49_1abd_11eb_9ff0_a0a4c554f2a3level0_row33\" class=\"row_heading level0 row33\" >kom</th>\n",
       "                        <td id=\"T_64777d49_1abd_11eb_9ff0_a0a4c554f2a3row33_col0\" class=\"data row33 col0\" >37.000000</td>\n",
       "                        <td id=\"T_64777d49_1abd_11eb_9ff0_a0a4c554f2a3row33_col1\" class=\"data row33 col1\" >187.000000</td>\n",
       "                        <td id=\"T_64777d49_1abd_11eb_9ff0_a0a4c554f2a3row33_col2\" class=\"data row33 col2\" >19.000000</td>\n",
       "                        <td id=\"T_64777d49_1abd_11eb_9ff0_a0a4c554f2a3row33_col3\" class=\"data row33 col3\" >310.000000</td>\n",
       "                        <td id=\"T_64777d49_1abd_11eb_9ff0_a0a4c554f2a3row33_col4\" class=\"data row33 col4\" >366.000000</td>\n",
       "                        <td id=\"T_64777d49_1abd_11eb_9ff0_a0a4c554f2a3row33_col5\" class=\"data row33 col5\" >526.000000</td>\n",
       "                        <td id=\"T_64777d49_1abd_11eb_9ff0_a0a4c554f2a3row33_col6\" class=\"data row33 col6\" >553.000000</td>\n",
       "                        <td id=\"T_64777d49_1abd_11eb_9ff0_a0a4c554f2a3row33_col7\" class=\"data row33 col7\" >695.000000</td>\n",
       "                        <td id=\"T_64777d49_1abd_11eb_9ff0_a0a4c554f2a3row33_col8\" class=\"data row33 col8\" >688.000000</td>\n",
       "                        <td id=\"T_64777d49_1abd_11eb_9ff0_a0a4c554f2a3row33_col9\" class=\"data row33 col9\" >150.000000</td>\n",
       "                        <td id=\"T_64777d49_1abd_11eb_9ff0_a0a4c554f2a3row33_col10\" class=\"data row33 col10\" >7.000000</td>\n",
       "            </tr>\n",
       "            <tr>\n",
       "                        <th id=\"T_64777d49_1abd_11eb_9ff0_a0a4c554f2a3level0_row34\" class=\"row_heading level0 row34\" >]</th>\n",
       "                        <td id=\"T_64777d49_1abd_11eb_9ff0_a0a4c554f2a3row34_col0\" class=\"data row34 col0\" >36.000000</td>\n",
       "                        <td id=\"T_64777d49_1abd_11eb_9ff0_a0a4c554f2a3row34_col1\" class=\"data row34 col1\" >6.000000</td>\n",
       "                        <td id=\"T_64777d49_1abd_11eb_9ff0_a0a4c554f2a3row34_col2\" class=\"data row34 col2\" >52.000000</td>\n",
       "                        <td id=\"T_64777d49_1abd_11eb_9ff0_a0a4c554f2a3row34_col3\" class=\"data row34 col3\" >63.000000</td>\n",
       "                        <td id=\"T_64777d49_1abd_11eb_9ff0_a0a4c554f2a3row34_col4\" class=\"data row34 col4\" >121.000000</td>\n",
       "                        <td id=\"T_64777d49_1abd_11eb_9ff0_a0a4c554f2a3row34_col5\" class=\"data row34 col5\" >109.000000</td>\n",
       "                        <td id=\"T_64777d49_1abd_11eb_9ff0_a0a4c554f2a3row34_col6\" class=\"data row34 col6\" >91.000000</td>\n",
       "                        <td id=\"T_64777d49_1abd_11eb_9ff0_a0a4c554f2a3row34_col7\" class=\"data row34 col7\" >84.000000</td>\n",
       "                        <td id=\"T_64777d49_1abd_11eb_9ff0_a0a4c554f2a3row34_col8\" class=\"data row34 col8\" >132.000000</td>\n",
       "                        <td id=\"T_64777d49_1abd_11eb_9ff0_a0a4c554f2a3row34_col9\" class=\"data row34 col9\" >385.000000</td>\n",
       "                        <td id=\"T_64777d49_1abd_11eb_9ff0_a0a4c554f2a3row34_col10\" class=\"data row34 col10\" >33.000000</td>\n",
       "            </tr>\n",
       "            <tr>\n",
       "                        <th id=\"T_64777d49_1abd_11eb_9ff0_a0a4c554f2a3level0_row35\" class=\"row_heading level0 row35\" >ikke</th>\n",
       "                        <td id=\"T_64777d49_1abd_11eb_9ff0_a0a4c554f2a3row35_col0\" class=\"data row35 col0\" >35.000000</td>\n",
       "                        <td id=\"T_64777d49_1abd_11eb_9ff0_a0a4c554f2a3row35_col1\" class=\"data row35 col1\" >429.000000</td>\n",
       "                        <td id=\"T_64777d49_1abd_11eb_9ff0_a0a4c554f2a3row35_col2\" class=\"data row35 col2\" >23.000000</td>\n",
       "                        <td id=\"T_64777d49_1abd_11eb_9ff0_a0a4c554f2a3row35_col3\" class=\"data row35 col3\" >928.000000</td>\n",
       "                        <td id=\"T_64777d49_1abd_11eb_9ff0_a0a4c554f2a3row35_col4\" class=\"data row35 col4\" >999.000000</td>\n",
       "                        <td id=\"T_64777d49_1abd_11eb_9ff0_a0a4c554f2a3row35_col5\" class=\"data row35 col5\" >1464.000000</td>\n",
       "                        <td id=\"T_64777d49_1abd_11eb_9ff0_a0a4c554f2a3row35_col6\" class=\"data row35 col6\" >1461.000000</td>\n",
       "                        <td id=\"T_64777d49_1abd_11eb_9ff0_a0a4c554f2a3row35_col7\" class=\"data row35 col7\" >1670.000000</td>\n",
       "                        <td id=\"T_64777d49_1abd_11eb_9ff0_a0a4c554f2a3row35_col8\" class=\"data row35 col8\" >1575.000000</td>\n",
       "                        <td id=\"T_64777d49_1abd_11eb_9ff0_a0a4c554f2a3row35_col9\" class=\"data row35 col9\" >459.000000</td>\n",
       "                        <td id=\"T_64777d49_1abd_11eb_9ff0_a0a4c554f2a3row35_col10\" class=\"data row35 col10\" >44.000000</td>\n",
       "            </tr>\n",
       "            <tr>\n",
       "                        <th id=\"T_64777d49_1abd_11eb_9ff0_a0a4c554f2a3level0_row36\" class=\"row_heading level0 row36\" >ved</th>\n",
       "                        <td id=\"T_64777d49_1abd_11eb_9ff0_a0a4c554f2a3row36_col0\" class=\"data row36 col0\" >35.000000</td>\n",
       "                        <td id=\"T_64777d49_1abd_11eb_9ff0_a0a4c554f2a3row36_col1\" class=\"data row36 col1\" >216.000000</td>\n",
       "                        <td id=\"T_64777d49_1abd_11eb_9ff0_a0a4c554f2a3row36_col2\" class=\"data row36 col2\" >40.000000</td>\n",
       "                        <td id=\"T_64777d49_1abd_11eb_9ff0_a0a4c554f2a3row36_col3\" class=\"data row36 col3\" >420.000000</td>\n",
       "                        <td id=\"T_64777d49_1abd_11eb_9ff0_a0a4c554f2a3row36_col4\" class=\"data row36 col4\" >367.000000</td>\n",
       "                        <td id=\"T_64777d49_1abd_11eb_9ff0_a0a4c554f2a3row36_col5\" class=\"data row36 col5\" >490.000000</td>\n",
       "                        <td id=\"T_64777d49_1abd_11eb_9ff0_a0a4c554f2a3row36_col6\" class=\"data row36 col6\" >426.000000</td>\n",
       "                        <td id=\"T_64777d49_1abd_11eb_9ff0_a0a4c554f2a3row36_col7\" class=\"data row36 col7\" >525.000000</td>\n",
       "                        <td id=\"T_64777d49_1abd_11eb_9ff0_a0a4c554f2a3row36_col8\" class=\"data row36 col8\" >497.000000</td>\n",
       "                        <td id=\"T_64777d49_1abd_11eb_9ff0_a0a4c554f2a3row36_col9\" class=\"data row36 col9\" >138.000000</td>\n",
       "                        <td id=\"T_64777d49_1abd_11eb_9ff0_a0a4c554f2a3row36_col10\" class=\"data row36 col10\" >13.000000</td>\n",
       "            </tr>\n",
       "            <tr>\n",
       "                        <th id=\"T_64777d49_1abd_11eb_9ff0_a0a4c554f2a3level0_row37\" class=\"row_heading level0 row37\" >fra</th>\n",
       "                        <td id=\"T_64777d49_1abd_11eb_9ff0_a0a4c554f2a3row37_col0\" class=\"data row37 col0\" >35.000000</td>\n",
       "                        <td id=\"T_64777d49_1abd_11eb_9ff0_a0a4c554f2a3row37_col1\" class=\"data row37 col1\" >193.000000</td>\n",
       "                        <td id=\"T_64777d49_1abd_11eb_9ff0_a0a4c554f2a3row37_col2\" class=\"data row37 col2\" >17.000000</td>\n",
       "                        <td id=\"T_64777d49_1abd_11eb_9ff0_a0a4c554f2a3row37_col3\" class=\"data row37 col3\" >447.000000</td>\n",
       "                        <td id=\"T_64777d49_1abd_11eb_9ff0_a0a4c554f2a3row37_col4\" class=\"data row37 col4\" >507.000000</td>\n",
       "                        <td id=\"T_64777d49_1abd_11eb_9ff0_a0a4c554f2a3row37_col5\" class=\"data row37 col5\" >691.000000</td>\n",
       "                        <td id=\"T_64777d49_1abd_11eb_9ff0_a0a4c554f2a3row37_col6\" class=\"data row37 col6\" >736.000000</td>\n",
       "                        <td id=\"T_64777d49_1abd_11eb_9ff0_a0a4c554f2a3row37_col7\" class=\"data row37 col7\" >921.000000</td>\n",
       "                        <td id=\"T_64777d49_1abd_11eb_9ff0_a0a4c554f2a3row37_col8\" class=\"data row37 col8\" >818.000000</td>\n",
       "                        <td id=\"T_64777d49_1abd_11eb_9ff0_a0a4c554f2a3row37_col9\" class=\"data row37 col9\" >161.000000</td>\n",
       "                        <td id=\"T_64777d49_1abd_11eb_9ff0_a0a4c554f2a3row37_col10\" class=\"data row37 col10\" >13.000000</td>\n",
       "            </tr>\n",
       "            <tr>\n",
       "                        <th id=\"T_64777d49_1abd_11eb_9ff0_a0a4c554f2a3level0_row38\" class=\"row_heading level0 row38\" >et</th>\n",
       "                        <td id=\"T_64777d49_1abd_11eb_9ff0_a0a4c554f2a3row38_col0\" class=\"data row38 col0\" >34.000000</td>\n",
       "                        <td id=\"T_64777d49_1abd_11eb_9ff0_a0a4c554f2a3row38_col1\" class=\"data row38 col1\" >274.000000</td>\n",
       "                        <td id=\"T_64777d49_1abd_11eb_9ff0_a0a4c554f2a3row38_col2\" class=\"data row38 col2\" >15.000000</td>\n",
       "                        <td id=\"T_64777d49_1abd_11eb_9ff0_a0a4c554f2a3row38_col3\" class=\"data row38 col3\" >523.000000</td>\n",
       "                        <td id=\"T_64777d49_1abd_11eb_9ff0_a0a4c554f2a3row38_col4\" class=\"data row38 col4\" >460.000000</td>\n",
       "                        <td id=\"T_64777d49_1abd_11eb_9ff0_a0a4c554f2a3row38_col5\" class=\"data row38 col5\" >733.000000</td>\n",
       "                        <td id=\"T_64777d49_1abd_11eb_9ff0_a0a4c554f2a3row38_col6\" class=\"data row38 col6\" >729.000000</td>\n",
       "                        <td id=\"T_64777d49_1abd_11eb_9ff0_a0a4c554f2a3row38_col7\" class=\"data row38 col7\" >902.000000</td>\n",
       "                        <td id=\"T_64777d49_1abd_11eb_9ff0_a0a4c554f2a3row38_col8\" class=\"data row38 col8\" >804.000000</td>\n",
       "                        <td id=\"T_64777d49_1abd_11eb_9ff0_a0a4c554f2a3row38_col9\" class=\"data row38 col9\" >194.000000</td>\n",
       "                        <td id=\"T_64777d49_1abd_11eb_9ff0_a0a4c554f2a3row38_col10\" class=\"data row38 col10\" >23.000000</td>\n",
       "            </tr>\n",
       "            <tr>\n",
       "                        <th id=\"T_64777d49_1abd_11eb_9ff0_a0a4c554f2a3level0_row39\" class=\"row_heading level0 row39\" >denne</th>\n",
       "                        <td id=\"T_64777d49_1abd_11eb_9ff0_a0a4c554f2a3row39_col0\" class=\"data row39 col0\" >33.000000</td>\n",
       "                        <td id=\"T_64777d49_1abd_11eb_9ff0_a0a4c554f2a3row39_col1\" class=\"data row39 col1\" >204.000000</td>\n",
       "                        <td id=\"T_64777d49_1abd_11eb_9ff0_a0a4c554f2a3row39_col2\" class=\"data row39 col2\" >15.000000</td>\n",
       "                        <td id=\"T_64777d49_1abd_11eb_9ff0_a0a4c554f2a3row39_col3\" class=\"data row39 col3\" >308.000000</td>\n",
       "                        <td id=\"T_64777d49_1abd_11eb_9ff0_a0a4c554f2a3row39_col4\" class=\"data row39 col4\" >281.000000</td>\n",
       "                        <td id=\"T_64777d49_1abd_11eb_9ff0_a0a4c554f2a3row39_col5\" class=\"data row39 col5\" >402.000000</td>\n",
       "                        <td id=\"T_64777d49_1abd_11eb_9ff0_a0a4c554f2a3row39_col6\" class=\"data row39 col6\" >393.000000</td>\n",
       "                        <td id=\"T_64777d49_1abd_11eb_9ff0_a0a4c554f2a3row39_col7\" class=\"data row39 col7\" >454.000000</td>\n",
       "                        <td id=\"T_64777d49_1abd_11eb_9ff0_a0a4c554f2a3row39_col8\" class=\"data row39 col8\" >355.000000</td>\n",
       "                        <td id=\"T_64777d49_1abd_11eb_9ff0_a0a4c554f2a3row39_col9\" class=\"data row39 col9\" >110.000000</td>\n",
       "                        <td id=\"T_64777d49_1abd_11eb_9ff0_a0a4c554f2a3row39_col10\" class=\"data row39 col10\" >17.000000</td>\n",
       "            </tr>\n",
       "            <tr>\n",
       "                        <th id=\"T_64777d49_1abd_11eb_9ff0_a0a4c554f2a3level0_row40\" class=\"row_heading level0 row40\" >har</th>\n",
       "                        <td id=\"T_64777d49_1abd_11eb_9ff0_a0a4c554f2a3row40_col0\" class=\"data row40 col0\" >32.000000</td>\n",
       "                        <td id=\"T_64777d49_1abd_11eb_9ff0_a0a4c554f2a3row40_col1\" class=\"data row40 col1\" >418.000000</td>\n",
       "                        <td id=\"T_64777d49_1abd_11eb_9ff0_a0a4c554f2a3row40_col2\" class=\"data row40 col2\" >26.000000</td>\n",
       "                        <td id=\"T_64777d49_1abd_11eb_9ff0_a0a4c554f2a3row40_col3\" class=\"data row40 col3\" >785.000000</td>\n",
       "                        <td id=\"T_64777d49_1abd_11eb_9ff0_a0a4c554f2a3row40_col4\" class=\"data row40 col4\" >694.000000</td>\n",
       "                        <td id=\"T_64777d49_1abd_11eb_9ff0_a0a4c554f2a3row40_col5\" class=\"data row40 col5\" >982.000000</td>\n",
       "                        <td id=\"T_64777d49_1abd_11eb_9ff0_a0a4c554f2a3row40_col6\" class=\"data row40 col6\" >1049.000000</td>\n",
       "                        <td id=\"T_64777d49_1abd_11eb_9ff0_a0a4c554f2a3row40_col7\" class=\"data row40 col7\" >1325.000000</td>\n",
       "                        <td id=\"T_64777d49_1abd_11eb_9ff0_a0a4c554f2a3row40_col8\" class=\"data row40 col8\" >1135.000000</td>\n",
       "                        <td id=\"T_64777d49_1abd_11eb_9ff0_a0a4c554f2a3row40_col9\" class=\"data row40 col9\" >301.000000</td>\n",
       "                        <td id=\"T_64777d49_1abd_11eb_9ff0_a0a4c554f2a3row40_col10\" class=\"data row40 col10\" >32.000000</td>\n",
       "            </tr>\n",
       "            <tr>\n",
       "                        <th id=\"T_64777d49_1abd_11eb_9ff0_a0a4c554f2a3level0_row41\" class=\"row_heading level0 row41\" >hun</th>\n",
       "                        <td id=\"T_64777d49_1abd_11eb_9ff0_a0a4c554f2a3row41_col0\" class=\"data row41 col0\" >30.000000</td>\n",
       "                        <td id=\"T_64777d49_1abd_11eb_9ff0_a0a4c554f2a3row41_col1\" class=\"data row41 col1\" >210.000000</td>\n",
       "                        <td id=\"T_64777d49_1abd_11eb_9ff0_a0a4c554f2a3row41_col2\" class=\"data row41 col2\" >12.000000</td>\n",
       "                        <td id=\"T_64777d49_1abd_11eb_9ff0_a0a4c554f2a3row41_col3\" class=\"data row41 col3\" >389.000000</td>\n",
       "                        <td id=\"T_64777d49_1abd_11eb_9ff0_a0a4c554f2a3row41_col4\" class=\"data row41 col4\" >391.000000</td>\n",
       "                        <td id=\"T_64777d49_1abd_11eb_9ff0_a0a4c554f2a3row41_col5\" class=\"data row41 col5\" >594.000000</td>\n",
       "                        <td id=\"T_64777d49_1abd_11eb_9ff0_a0a4c554f2a3row41_col6\" class=\"data row41 col6\" >633.000000</td>\n",
       "                        <td id=\"T_64777d49_1abd_11eb_9ff0_a0a4c554f2a3row41_col7\" class=\"data row41 col7\" >831.000000</td>\n",
       "                        <td id=\"T_64777d49_1abd_11eb_9ff0_a0a4c554f2a3row41_col8\" class=\"data row41 col8\" >781.000000</td>\n",
       "                        <td id=\"T_64777d49_1abd_11eb_9ff0_a0a4c554f2a3row41_col9\" class=\"data row41 col9\" >83.000000</td>\n",
       "                        <td id=\"T_64777d49_1abd_11eb_9ff0_a0a4c554f2a3row41_col10\" class=\"data row41 col10\" >35.000000</td>\n",
       "            </tr>\n",
       "            <tr>\n",
       "                        <th id=\"T_64777d49_1abd_11eb_9ff0_a0a4c554f2a3level0_row42\" class=\"row_heading level0 row42\" >skulle</th>\n",
       "                        <td id=\"T_64777d49_1abd_11eb_9ff0_a0a4c554f2a3row42_col0\" class=\"data row42 col0\" >29.000000</td>\n",
       "                        <td id=\"T_64777d49_1abd_11eb_9ff0_a0a4c554f2a3row42_col1\" class=\"data row42 col1\" >0.000000</td>\n",
       "                        <td id=\"T_64777d49_1abd_11eb_9ff0_a0a4c554f2a3row42_col2\" class=\"data row42 col2\" >0.000000</td>\n",
       "                        <td id=\"T_64777d49_1abd_11eb_9ff0_a0a4c554f2a3row42_col3\" class=\"data row42 col3\" >0.000000</td>\n",
       "                        <td id=\"T_64777d49_1abd_11eb_9ff0_a0a4c554f2a3row42_col4\" class=\"data row42 col4\" >0.000000</td>\n",
       "                        <td id=\"T_64777d49_1abd_11eb_9ff0_a0a4c554f2a3row42_col5\" class=\"data row42 col5\" >1.000000</td>\n",
       "                        <td id=\"T_64777d49_1abd_11eb_9ff0_a0a4c554f2a3row42_col6\" class=\"data row42 col6\" >0.000000</td>\n",
       "                        <td id=\"T_64777d49_1abd_11eb_9ff0_a0a4c554f2a3row42_col7\" class=\"data row42 col7\" >1.000000</td>\n",
       "                        <td id=\"T_64777d49_1abd_11eb_9ff0_a0a4c554f2a3row42_col8\" class=\"data row42 col8\" >0.000000</td>\n",
       "                        <td id=\"T_64777d49_1abd_11eb_9ff0_a0a4c554f2a3row42_col9\" class=\"data row42 col9\" >0.000000</td>\n",
       "                        <td id=\"T_64777d49_1abd_11eb_9ff0_a0a4c554f2a3row42_col10\" class=\"data row42 col10\" >0.000000</td>\n",
       "            </tr>\n",
       "            <tr>\n",
       "                        <th id=\"T_64777d49_1abd_11eb_9ff0_a0a4c554f2a3level0_row43\" class=\"row_heading level0 row43\" >min</th>\n",
       "                        <td id=\"T_64777d49_1abd_11eb_9ff0_a0a4c554f2a3row43_col0\" class=\"data row43 col0\" >29.000000</td>\n",
       "                        <td id=\"T_64777d49_1abd_11eb_9ff0_a0a4c554f2a3row43_col1\" class=\"data row43 col1\" >384.000000</td>\n",
       "                        <td id=\"T_64777d49_1abd_11eb_9ff0_a0a4c554f2a3row43_col2\" class=\"data row43 col2\" >17.000000</td>\n",
       "                        <td id=\"T_64777d49_1abd_11eb_9ff0_a0a4c554f2a3row43_col3\" class=\"data row43 col3\" >751.000000</td>\n",
       "                        <td id=\"T_64777d49_1abd_11eb_9ff0_a0a4c554f2a3row43_col4\" class=\"data row43 col4\" >955.000000</td>\n",
       "                        <td id=\"T_64777d49_1abd_11eb_9ff0_a0a4c554f2a3row43_col5\" class=\"data row43 col5\" >1131.000000</td>\n",
       "                        <td id=\"T_64777d49_1abd_11eb_9ff0_a0a4c554f2a3row43_col6\" class=\"data row43 col6\" >1175.000000</td>\n",
       "                        <td id=\"T_64777d49_1abd_11eb_9ff0_a0a4c554f2a3row43_col7\" class=\"data row43 col7\" >1465.000000</td>\n",
       "                        <td id=\"T_64777d49_1abd_11eb_9ff0_a0a4c554f2a3row43_col8\" class=\"data row43 col8\" >1195.000000</td>\n",
       "                        <td id=\"T_64777d49_1abd_11eb_9ff0_a0a4c554f2a3row43_col9\" class=\"data row43 col9\" >247.000000</td>\n",
       "                        <td id=\"T_64777d49_1abd_11eb_9ff0_a0a4c554f2a3row43_col10\" class=\"data row43 col10\" >34.000000</td>\n",
       "            </tr>\n",
       "            <tr>\n",
       "                        <th id=\"T_64777d49_1abd_11eb_9ff0_a0a4c554f2a3level0_row44\" class=\"row_heading level0 row44\" >meget</th>\n",
       "                        <td id=\"T_64777d49_1abd_11eb_9ff0_a0a4c554f2a3row44_col0\" class=\"data row44 col0\" >28.000000</td>\n",
       "                        <td id=\"T_64777d49_1abd_11eb_9ff0_a0a4c554f2a3row44_col1\" class=\"data row44 col1\" >276.000000</td>\n",
       "                        <td id=\"T_64777d49_1abd_11eb_9ff0_a0a4c554f2a3row44_col2\" class=\"data row44 col2\" >12.000000</td>\n",
       "                        <td id=\"T_64777d49_1abd_11eb_9ff0_a0a4c554f2a3row44_col3\" class=\"data row44 col3\" >249.000000</td>\n",
       "                        <td id=\"T_64777d49_1abd_11eb_9ff0_a0a4c554f2a3row44_col4\" class=\"data row44 col4\" >259.000000</td>\n",
       "                        <td id=\"T_64777d49_1abd_11eb_9ff0_a0a4c554f2a3row44_col5\" class=\"data row44 col5\" >334.000000</td>\n",
       "                        <td id=\"T_64777d49_1abd_11eb_9ff0_a0a4c554f2a3row44_col6\" class=\"data row44 col6\" >281.000000</td>\n",
       "                        <td id=\"T_64777d49_1abd_11eb_9ff0_a0a4c554f2a3row44_col7\" class=\"data row44 col7\" >367.000000</td>\n",
       "                        <td id=\"T_64777d49_1abd_11eb_9ff0_a0a4c554f2a3row44_col8\" class=\"data row44 col8\" >282.000000</td>\n",
       "                        <td id=\"T_64777d49_1abd_11eb_9ff0_a0a4c554f2a3row44_col9\" class=\"data row44 col9\" >56.000000</td>\n",
       "                        <td id=\"T_64777d49_1abd_11eb_9ff0_a0a4c554f2a3row44_col10\" class=\"data row44 col10\" >10.000000</td>\n",
       "            </tr>\n",
       "            <tr>\n",
       "                        <th id=\"T_64777d49_1abd_11eb_9ff0_a0a4c554f2a3level0_row45\" class=\"row_heading level0 row45\" >efter</th>\n",
       "                        <td id=\"T_64777d49_1abd_11eb_9ff0_a0a4c554f2a3row45_col0\" class=\"data row45 col0\" >27.000000</td>\n",
       "                        <td id=\"T_64777d49_1abd_11eb_9ff0_a0a4c554f2a3row45_col1\" class=\"data row45 col1\" >118.000000</td>\n",
       "                        <td id=\"T_64777d49_1abd_11eb_9ff0_a0a4c554f2a3row45_col2\" class=\"data row45 col2\" >9.000000</td>\n",
       "                        <td id=\"T_64777d49_1abd_11eb_9ff0_a0a4c554f2a3row45_col3\" class=\"data row45 col3\" >228.000000</td>\n",
       "                        <td id=\"T_64777d49_1abd_11eb_9ff0_a0a4c554f2a3row45_col4\" class=\"data row45 col4\" >175.000000</td>\n",
       "                        <td id=\"T_64777d49_1abd_11eb_9ff0_a0a4c554f2a3row45_col5\" class=\"data row45 col5\" >264.000000</td>\n",
       "                        <td id=\"T_64777d49_1abd_11eb_9ff0_a0a4c554f2a3row45_col6\" class=\"data row45 col6\" >288.000000</td>\n",
       "                        <td id=\"T_64777d49_1abd_11eb_9ff0_a0a4c554f2a3row45_col7\" class=\"data row45 col7\" >341.000000</td>\n",
       "                        <td id=\"T_64777d49_1abd_11eb_9ff0_a0a4c554f2a3row45_col8\" class=\"data row45 col8\" >251.000000</td>\n",
       "                        <td id=\"T_64777d49_1abd_11eb_9ff0_a0a4c554f2a3row45_col9\" class=\"data row45 col9\" >49.000000</td>\n",
       "                        <td id=\"T_64777d49_1abd_11eb_9ff0_a0a4c554f2a3row45_col10\" class=\"data row45 col10\" >5.000000</td>\n",
       "            </tr>\n",
       "            <tr>\n",
       "                        <th id=\"T_64777d49_1abd_11eb_9ff0_a0a4c554f2a3level0_row46\" class=\"row_heading level0 row46\" >sig</th>\n",
       "                        <td id=\"T_64777d49_1abd_11eb_9ff0_a0a4c554f2a3row46_col0\" class=\"data row46 col0\" >26.000000</td>\n",
       "                        <td id=\"T_64777d49_1abd_11eb_9ff0_a0a4c554f2a3row46_col1\" class=\"data row46 col1\" >185.000000</td>\n",
       "                        <td id=\"T_64777d49_1abd_11eb_9ff0_a0a4c554f2a3row46_col2\" class=\"data row46 col2\" >14.000000</td>\n",
       "                        <td id=\"T_64777d49_1abd_11eb_9ff0_a0a4c554f2a3row46_col3\" class=\"data row46 col3\" >352.000000</td>\n",
       "                        <td id=\"T_64777d49_1abd_11eb_9ff0_a0a4c554f2a3row46_col4\" class=\"data row46 col4\" >340.000000</td>\n",
       "                        <td id=\"T_64777d49_1abd_11eb_9ff0_a0a4c554f2a3row46_col5\" class=\"data row46 col5\" >559.000000</td>\n",
       "                        <td id=\"T_64777d49_1abd_11eb_9ff0_a0a4c554f2a3row46_col6\" class=\"data row46 col6\" >485.000000</td>\n",
       "                        <td id=\"T_64777d49_1abd_11eb_9ff0_a0a4c554f2a3row46_col7\" class=\"data row46 col7\" >661.000000</td>\n",
       "                        <td id=\"T_64777d49_1abd_11eb_9ff0_a0a4c554f2a3row46_col8\" class=\"data row46 col8\" >566.000000</td>\n",
       "                        <td id=\"T_64777d49_1abd_11eb_9ff0_a0a4c554f2a3row46_col9\" class=\"data row46 col9\" >166.000000</td>\n",
       "                        <td id=\"T_64777d49_1abd_11eb_9ff0_a0a4c554f2a3row46_col10\" class=\"data row46 col10\" >12.000000</td>\n",
       "            </tr>\n",
       "            <tr>\n",
       "                        <th id=\"T_64777d49_1abd_11eb_9ff0_a0a4c554f2a3level0_row47\" class=\"row_heading level0 row47\" >blev</th>\n",
       "                        <td id=\"T_64777d49_1abd_11eb_9ff0_a0a4c554f2a3row47_col0\" class=\"data row47 col0\" >26.000000</td>\n",
       "                        <td id=\"T_64777d49_1abd_11eb_9ff0_a0a4c554f2a3row47_col1\" class=\"data row47 col1\" >128.000000</td>\n",
       "                        <td id=\"T_64777d49_1abd_11eb_9ff0_a0a4c554f2a3row47_col2\" class=\"data row47 col2\" >15.000000</td>\n",
       "                        <td id=\"T_64777d49_1abd_11eb_9ff0_a0a4c554f2a3row47_col3\" class=\"data row47 col3\" >173.000000</td>\n",
       "                        <td id=\"T_64777d49_1abd_11eb_9ff0_a0a4c554f2a3row47_col4\" class=\"data row47 col4\" >167.000000</td>\n",
       "                        <td id=\"T_64777d49_1abd_11eb_9ff0_a0a4c554f2a3row47_col5\" class=\"data row47 col5\" >251.000000</td>\n",
       "                        <td id=\"T_64777d49_1abd_11eb_9ff0_a0a4c554f2a3row47_col6\" class=\"data row47 col6\" >236.000000</td>\n",
       "                        <td id=\"T_64777d49_1abd_11eb_9ff0_a0a4c554f2a3row47_col7\" class=\"data row47 col7\" >352.000000</td>\n",
       "                        <td id=\"T_64777d49_1abd_11eb_9ff0_a0a4c554f2a3row47_col8\" class=\"data row47 col8\" >326.000000</td>\n",
       "                        <td id=\"T_64777d49_1abd_11eb_9ff0_a0a4c554f2a3row47_col9\" class=\"data row47 col9\" >86.000000</td>\n",
       "                        <td id=\"T_64777d49_1abd_11eb_9ff0_a0a4c554f2a3row47_col10\" class=\"data row47 col10\" >11.000000</td>\n",
       "            </tr>\n",
       "            <tr>\n",
       "                        <th id=\"T_64777d49_1abd_11eb_9ff0_a0a4c554f2a3level0_row48\" class=\"row_heading level0 row48\" >han</th>\n",
       "                        <td id=\"T_64777d49_1abd_11eb_9ff0_a0a4c554f2a3row48_col0\" class=\"data row48 col0\" >25.000000</td>\n",
       "                        <td id=\"T_64777d49_1abd_11eb_9ff0_a0a4c554f2a3row48_col1\" class=\"data row48 col1\" >320.000000</td>\n",
       "                        <td id=\"T_64777d49_1abd_11eb_9ff0_a0a4c554f2a3row48_col2\" class=\"data row48 col2\" >15.000000</td>\n",
       "                        <td id=\"T_64777d49_1abd_11eb_9ff0_a0a4c554f2a3row48_col3\" class=\"data row48 col3\" >529.000000</td>\n",
       "                        <td id=\"T_64777d49_1abd_11eb_9ff0_a0a4c554f2a3row48_col4\" class=\"data row48 col4\" >485.000000</td>\n",
       "                        <td id=\"T_64777d49_1abd_11eb_9ff0_a0a4c554f2a3row48_col5\" class=\"data row48 col5\" >781.000000</td>\n",
       "                        <td id=\"T_64777d49_1abd_11eb_9ff0_a0a4c554f2a3row48_col6\" class=\"data row48 col6\" >693.000000</td>\n",
       "                        <td id=\"T_64777d49_1abd_11eb_9ff0_a0a4c554f2a3row48_col7\" class=\"data row48 col7\" >991.000000</td>\n",
       "                        <td id=\"T_64777d49_1abd_11eb_9ff0_a0a4c554f2a3row48_col8\" class=\"data row48 col8\" >856.000000</td>\n",
       "                        <td id=\"T_64777d49_1abd_11eb_9ff0_a0a4c554f2a3row48_col9\" class=\"data row48 col9\" >328.000000</td>\n",
       "                        <td id=\"T_64777d49_1abd_11eb_9ff0_a0a4c554f2a3row48_col10\" class=\"data row48 col10\" >55.000000</td>\n",
       "            </tr>\n",
       "            <tr>\n",
       "                        <th id=\"T_64777d49_1abd_11eb_9ff0_a0a4c554f2a3level0_row49\" class=\"row_heading level0 row49\" >alle</th>\n",
       "                        <td id=\"T_64777d49_1abd_11eb_9ff0_a0a4c554f2a3row49_col0\" class=\"data row49 col0\" >25.000000</td>\n",
       "                        <td id=\"T_64777d49_1abd_11eb_9ff0_a0a4c554f2a3row49_col1\" class=\"data row49 col1\" >211.000000</td>\n",
       "                        <td id=\"T_64777d49_1abd_11eb_9ff0_a0a4c554f2a3row49_col2\" class=\"data row49 col2\" >22.000000</td>\n",
       "                        <td id=\"T_64777d49_1abd_11eb_9ff0_a0a4c554f2a3row49_col3\" class=\"data row49 col3\" >351.000000</td>\n",
       "                        <td id=\"T_64777d49_1abd_11eb_9ff0_a0a4c554f2a3row49_col4\" class=\"data row49 col4\" >378.000000</td>\n",
       "                        <td id=\"T_64777d49_1abd_11eb_9ff0_a0a4c554f2a3row49_col5\" class=\"data row49 col5\" >494.000000</td>\n",
       "                        <td id=\"T_64777d49_1abd_11eb_9ff0_a0a4c554f2a3row49_col6\" class=\"data row49 col6\" >443.000000</td>\n",
       "                        <td id=\"T_64777d49_1abd_11eb_9ff0_a0a4c554f2a3row49_col7\" class=\"data row49 col7\" >466.000000</td>\n",
       "                        <td id=\"T_64777d49_1abd_11eb_9ff0_a0a4c554f2a3row49_col8\" class=\"data row49 col8\" >384.000000</td>\n",
       "                        <td id=\"T_64777d49_1abd_11eb_9ff0_a0a4c554f2a3row49_col9\" class=\"data row49 col9\" >132.000000</td>\n",
       "                        <td id=\"T_64777d49_1abd_11eb_9ff0_a0a4c554f2a3row49_col10\" class=\"data row49 col10\" >13.000000</td>\n",
       "            </tr>\n",
       "    </tbody></table>"
      ],
      "text/plain": [
       "<pandas.io.formats.style.Styler at 0x2a12014dc10>"
      ]
     },
     "execution_count": 4,
     "metadata": {},
     "output_type": "execute_result"
    }
   ],
   "source": [
    "nb.frame_sort(kilder_dtm, 'NBkilder_Koren_1798.xml').head(50).style.background_gradient()"
   ]
  },
  {
   "cell_type": "markdown",
   "metadata": {},
   "source": [
    "# Se på en bestemt bok"
   ]
  },
  {
   "cell_type": "code",
   "execution_count": 5,
   "metadata": {},
   "outputs": [
    {
     "name": "stdout",
     "output_type": "stream",
     "text": [
      "[ Reisedagbok ]\n",
      "Den 19 de Julj 1798.\n",
      "Klokken var ei meget over 4 om Morgenen , da ieg allerede hørte HertelsHertels ] Peter Andreas Hertel ( 1769 – ? ) Gang ovenover Sovkammeret , først meget sagte , siden stærkere , efter som han syntes – saa formoder ieg – at det var Tiid at staa op. Men da vivi ] Christiane Koren ( 1764 – 1815 ) og Johan Koren ( 1758 – 1825 ) ei forstod denne Paamindelse , kom han ned , og fik med megen Stræben SaraSara ] Sara Jessine Diderichsen Koren ( 1789 – 1808 ) vaagen og op. Tanken om den forestaaende Reise forjog snart det Vrantne som følger med for tidlig Opvaagnen . Da ieg ogsaa først for Alvor ville , kom ieg hurtig op , og drak allerede – ( i fuld Stads med min brune og gule Kiole ) – den første Kop Kaffe , da Klok : slog 6 – Endnu var den ei slaget 7 , da Kasser og Pakker var i sin Orden paa , eller maaskee skulle det hedde i – den grønne Vogn , som stod forspændt for Døren . Mine Jomfruer , som skulle følge med til Sollners , Sollners ] Jacob Solner ( 1751 – 1727 ) og Rachel Solner f . Bøling ( 1774 – ? ) havde endnu ei syslet fra sig , men endelig med Klokkens 7 Slag , sadde de i sin bred Carriol . I : BullI : Bull ] Jacob Bull ( 1784 – 1850 ) og Sara bagerst i Vognen , ieg paa det midterste , og Hertel paa Kudskesædet – og afstæd rullede det –\n",
      "« Gud bevar ' s fra slig Omstændelighed ! vil hun blive saa ved , saa kommer vi seent til Hurdalen og aldrig derfra » –\n",
      "Ja , ieg har glæmt at udbede mig Eders Taalmodighed , Venner og Veninder – det var en Feil ; men skulle det være forseent endnu ? herre Gud , det staaer jo enhver frit for , at følge mig saa kort og saa langt han eller hun behager – og hvad nu Beskyldningen om Vidtløftighed angaaer , saa tak Gud , at I har sluppet saa , Børn ! Ieg kunne gaaet meget anderledes frem , fortalt om mit Farvel fra de sovende Glutter , om hvorlunde vi drak Sukkerlade og spiste Kringler ; om Jomfruernes Rangstriid : hvem der skulle kiøre etc etc – –\n",
      "« Kiære Mor , far fort i Guds Navn ! du er jo alt paa Veien – vænd for alting ikke om igien ! »\n",
      "Naa , som I vil ! Morgenen var skiøn . Mit unge Reisesælskab morede sig med smaa Anecdoter hvorved de inderlig glædede sig , Hertel og ieg talede om Alskens Ting , og alt imellem , naar Veien var paa det bredeste , kom mine Jomfruer med sit Orlogskib os paa Siden – M : LieM : Lie ] Marte Margrete Lie ( 1761 – ? ) havde Tømmerne , MarenMaren ] Maren Kirstine Bierregaard ( 1776 – 1810 ) Pidsken . En ussel Hest havde de , og en alen lang Skydsgut . Med alt det kom vi alle i god Behold til den brave Solner , som modtog os med sit sædvanlige gode , blide Lune . Efter at have beseet hans nye , ei endnu indredte Bygning , som bliver meget beqvæm og smuk , og har den nydeligste Beliggenhed , vandrede vi ned til et af de behageligste Lysthuse man kan tænke sig : en stoer , ældgammel Bierk , rundtom denne 4 mindre , alt Naturens Værk , lige for Vandet – den saa kaldte Hersøe , rundt om bølgende Agre , blomstrende Enge , skovkrandsede Fielde . I , og omkring Træerne ere anbragte Bord og Bænke , hvor vi leirede os for at indtage vor Frokost , og det paastaaer ieg , at ingen Sukkerlade kan smage bædre , end den , vi her nød ; men som intet her neden skal være fuldkomment saa manglede os her : at være omringet af flere vore Elskte , hvis Savn altid , som mig synes , føles dobbelt , naar vi har , eller nyde et Gode , som vi ynske at dele med dem . I dette , som i de fleste vore Handlinger , er dog nok mere Egennytte end vi selv vil være os bekiendt : vi nyde jo hver Glæde dobbelt som deles med dem , der ere os kiære .\n",
      "Siden gik vi op paa en høi Bakke , hvorfra Udsigten endnu blev skiønnere . Her bleve vi siddende en rum Tiid , i hvilken ieg , under idelig behagelige Samtaler end mere morede mig med at sammenbinde i heel Skatering de nydeligste Blomster , som rundt om der ieg sad tilbød sig min Haand , og næsten ved Mangfoldighed af Farve og Skiønhed forvildede mit Øie . Enhver søgte at finde en nye , og saaledes fik ieg en af de fineste vakreste Bouqvetter færdig , som kun fattedes – Varighed – Endelig maatte vi forføie os tilbage , og tænke paa Reisens Fortsættelse . Vor gode Vert ville ei slippe os endnu , før vi fik spiist , hvad han kaldte riglig Frokost . Da det var overmaade varmt , spiiste vi paa hans nye , pene Love , hvor der var kiølest – denne , som alle Udhuse bær Vidne om Eiermandens Lyst til at forene det Smukke med det Nyttige .\n",
      "Vore længe færdigstaaende ( ieg ville sagt ventende ; men saa faldt det mig ind , at Heste nok ikke pleie vente ) Skydsheste bleve sadt for NB Vognen – Solner accorderede endnu da vi reiste med Jomfruerne for at faa dem til at – tænk engang – sove Middag og drikke Caffe før de reiste . Om de giorde det ? De sige Nei ; og da ieg ikke før har grebet dem i Usandhed , saa faaer ieg vel troe dem . Fra Biørntomt ( ieg burde nævnt Gaardens Navn før ; men ieg stolede paa , den var mine respective Læsere og Læserinder før bekiendt ) er en bradt Bakke ud over . Hertel bad os gaae i Forveien , saa skulle han komme efter med Vognen ; men han havde andre Aarsager til denne Begiæring . Hestene fandt ei for godt at staae , end sige gaa . De lagde sig plat ned , og kun med megen Møie og fleres Hielp , fik han dem ned over Bakken . Ikke meget hiertet satte ieg mig op ; men Sara , som holdt troet giennem alle Farer paa sin Ølboutelle , begyndte paa sit Viis at moralisere for mig over min Frygtsomhed ; for ei at opvække nogen hos hende , taug ieg – Dog , med en anden Kudsk havde ieg næppe vovet mig i lang Veien med disse fatale Heste . Men jo længere de gik , jo bædre bleve de , og vi kom til Edsvold Værket uden videre Forskrækkelse . Her stod Skydsen færdig , saa vi blot ombyttede Heste uden at være af Vognen . Under denne Ombytten fik ieg Tiid at besee den store smukke Bygning som staaer her ubeboet og forfalder – naturligviis faldt det mig ind : din store Familie og det lille Lundberg – og her denne store Bygning , og slet ingen Beboere – det er underligt deelt i denne Verden .\n",
      "Vi fik flinke Heste her , og siden gik det i et væk . Veien blev mere og mere behagelig – Situationerne videre og skiønnere [ . ] Hurdals Søen fulgte os paa venstre Haand det meste af Reisen [ . ] Det var en skiøn Eftermiddag , skiønnest mod Aftenen , da Varmen tog noget af . Jacob og Sara havde under megen Fryd og Gammen tømt sin Flaske . « Alt dette , sagde ieg til Hertel , er saare godt , og saare behageligt ; men veed De hvad der dog ikke er saa godt enda ? » Nei – « Vi faaer næppe nogen Caffe i Eftermid : » – Jo men giør vi saa ; hos KræftingsKræftings ] Ole Severin Krefting ( 1768 – 1834 ) og Maren Mathea Holler ( 1776 – ? ) faaer vi god Caffe . « Ja men det er saa seent » – Det er det samme ; de veed jo , vi har reist . Nu saae vi Hurdalen for av som en liden Bye , omringet af sine høie stolte Field – ( dog efter først at have endnu engang taget friske Heste paa Lehnsmandsgaarden Baarondeli ; thi længere skulle Tingskydsen ei gaae – det glæmte ieg , eller sprang over , af bare Begiærlighed efter Caffe . )\n",
      "Nu holdt vi for Forvalter Kræftings lille pene Gaard , og bleve modtagne af hans Svigermoder Frue Holler , Frue Holler ] Cicilia Catrine Holler ( 1742 – ? ) som just var i Begreb med at spise sin Eftersvælg – ingen gode Aspecter , tænkte ieg ) – Efter sædvanlige Complimenter , da vi vel vare skikkede til Sæde , gik den prægtige gamle Kone hen , tog en Thekop , aabnede et Skab , og ieg hørte tydelig paa Lyden , at det var Bønner hun tog ; hvorledes de siden bleve brændte og malede , undgik ei heller min Opmærksomhed – Den lille nysselige Mad : Kræfting kom ind tillige med sin Steddatter , som ieg , da ieg ei vidste bædre , tog an for hendes Syster – derom mere ved Samtale – Det er sandelig en vakker Kone , som man snarere tager for en 16 Aars Pige , end for Moder til 2 Børn . Hun undskyldte , at hendes Mand ei var hiemme , men han kom nok strax . De havde ei ventet os før Dagen efter . Imidlertid kom det net dækkede Theebord frem , og en Caffe som deilig var – Med sædvanlig Omhu havde Hertel bekiendtgiord min Uvane , ikke at kunne drikke kogt Fløde – saa alt var i sin Orden . Vi vare netop færdige , da Forvalteren kom , en , ikke vakker , men meget godlidende Mand . Med ham giorde vi en Tour giennem den fornemste Gade , og opi en ham tilhørende Have , hvor vi spillede Kegler , og opholdt os , til det begyndte at blive alt for svalt . Skriveren skulle møde os her ; men da han ikke kom til Kl : 9 ½ , gik vi til Bords , derfra igien – enda kom han ei . De paastode alle , han kom ikke før følgende Dag ; ieg vidste bædre – Vi skulle til at spille Kort medens vi ventede , da han kom i fuldt Trav – Frue Holler , som er en stoer Elskerinde af de malede Blade , maatte nøies med lidt 5 Kort til Skriveren havde afspiist . Naar ieg untager en lille Debat med Dotter mi , som var heel ilde til Mode for hun skulle ligge hos den gamle Frue , hvilket dog skiønt mod min Villie , blev omgiordt , saa var denne Dag gaaet ret godt . Man fulgte os – forstaaer sig med 2 Lys – op paa et nydeligt Kammer , som denne Bygning overalt var efter min Smag – God rolig Nat , sov vel ! – God rolig Nat , god Nat !\n",
      "Men den var mig ei saa rolig , ieg sov ikke vel – Dog , ieg vil ei blive kiedsommere end ieg alt har været , ved at fortelle mine Drømme . O at de havde været uden Betydning ! Det var da\n",
      "Fredagen den 20 de\n",
      "Ieg mærkede af alt , at man havde indbuden Sælskab til Middag , og at det altsaa blev bedst at benytte sig af Formid : til at besee Værket . Kræfting fulgte os . Vi vare saa heldige , at alting var i gang . Enhver Forandring fik vi see . Alt hvad der kaldes Fabrik har noget interessant for mig ; det kommer vel tildeels af at ieg fra Barndommen var vant til dette Væsen . Her ved Glasværket , var især meget , som ved Lighed med Castrups Fabrikker gienkaldte mig min Barndoms glade Dage . Det var et stolt Syn at see det store Glasskiver blive til , at følge dem fra Begyndelsen til Enden igiennem alle de Forandringer , fra en liden Klump til den store skiønne klare Runddeel – at see , hvor de gik fra Haand til Haand , uden at der tøvedes eller blev talet et eneste Ord . Denne Taushed i det hele giorde det saare høitideligt i mine Øine . Hvor de arme Mennesker kan udholde al den Hede ! men de vænnes dertil fra Barndommen . Børn fra 7 , 8 Aar sættes her i Arbeide , og at see disse smaa flittige Hænder var nok behageligt ; men de seer alle gustne og ilde ud , tildeels af den skrækkelige Hede , tildeels af Nattevaagen , saa lidt passende for vor Natur , især i den spædere Alder . Deres hele Opmærksomhed var henvendt paa deres Arbeide , som gik ligesaa taust og alvorligt for sig som de Ældres . Varmen var stærk baade ude og inde , og mit Hoved svagt . Ikke desmindre blev ieg her længe , og først efter gientagne Paamindelser gik ieg hiem for at komme i min Pynt , da vi en Ceremoni skulle ud endnu denne Formid : at giøre Visitter , endskiønt alle de vi saaledes skulle complimentere , vare budne til Kræftings . Touren gik først til Høfkes.Høfkes ] Johan Friderich Høffke ( 1745 – 1812 ) Han er et slags Doctor eller Chrirurgus , en aldrende Mand , som , desværre , ei bruger Paryk . Som Enkemand og Fader til , ieg tror 4 , Børn , giftede han sig i Høst med en Jomfrue Truelsen , Jomfrue Truelsen ] Henriette Kirstine Trulsen ( 1770 – ? ) ung imod ham , efter alles Sigende en brav Kone og god Moder for sine Stedbørn . De toge imod os i fuld Pomp i egentlig Forstand , som det overalt ikke er frit , at her hærsker lidt mere Luxus end man i senere Tider er vant at see . Saaledes at silkeklæde sig for at gaa lige over for at spise hos sin Gienboe , synes mig ikke om – men Smagen er ulige . Efter et kort Ophold gik Veien til Michelsen , Michelsen ] Michel Jørgen Michelsen ( 1768 – ? ) og Maria Kristine Krefting ( 1770 – ? ) som er gift med en Syster af Kræfting . Denne Kone leed ieg godt ; hun havde noget vist traurigt i sit Ansigt og Væsen – det skal , hørte ieg siden virkelig være hendes Caracter . Hvad der ei var mig tilpas her , var et Riis paa Bordet , som blev mig end mere modbydeligt da ieg syntes læse af Moderens Ansigt , at det nylig var bleven brugt til et Barn som laa grædende i Sængen . Siden kom hun ud med et lille nydeligt Pigebarn , som oven i Kiøbet hedde Caroline.Caroline ] Carolina Maria Michelsen ( 1797 – ? ) Hun havde et ganske spædt , efter hvilket hun ikke endnu havde været i Kirke . Det første Kræfting foretog sig efter at have hilset sin Syster , var at tage Riset fra Bordet og kaste det i det yderste Mørke , og ieg leed ham fra nu af vist ikke mindre end før . Vi giorde nu vænstre om tilbage til LærchesLærches ] Abraham Lerche ( 1748 – ? ) og Magrete Elisabet Krom ( 1746 – ? ) – ham havde ieg seet ved Værket – hans hulde Dotter modtog os med Kryller i Haaret og ganske i Morgendragt , uden at trætte os med Undskyldninger for hun ei var i Pynt . Lidt efter gik hun ud og henlede sin blinde Moder . Næst efter Synet af en Vanvittig , er Synet af en Blind mig det Sørgeligste ieg veed . Denne gode Kone sidder nu saa i mange Aar berøvet alt det usigelige Gode som tilflyder os Seende giennem Øinene . Hendes muntre Mand og omhyggelige Døttre giøre alt for at lindre hendes bittre Kaar det er deres Pligt , men at de giøre det saa giærne , saa ømme , saa utrættelige , det forhøier dog vel denne Pligts Udøvelse til en Dyd . Vor meste Samtale var om dig , uforglæmelige Veninde ak – imedens ieg her sad saa opmærksom ved Lærches og hans Kones Fortælling om de forgangne Dage , om Din muntre skyldfrie Ungdom ; imedens ieg alt i mine Tanker ordnede hvordan ieg igien skulle fortelle Dig alt dette , og derved forskaffe Dig nogle behagelige Øieblik – imedens , o Gud , streed Du med Døden , og havde endnu de bittreste Timer tilbage – og endnu ahnede det mig ikke – Endnu om Aftenen , da vi efter at have spiist og drukket Thee , da vi sad i Kiøkkenet og fortsatte disse mig saa behagelige Samtaler – endnu ahnede det mig ei . Først da vi begyndte at dandse , begyndte mit Hierte at blive tungt – og aldrig har ieg med alt det dandset saa meget uden at føle mig trættet . Det var som ieg ville flyve fra mit indvortes Nag . Alle omkring mig vare muntre , og Natten gleed taalelig hen ; men da vi endelig skulle til Sængs vaagnede denne Uroe for Alvor – Gud lade mig ei oftere føle slige Ahnelser , slige Timer som disse ! – – –\n",
      "Løverdagen den 21 de vare vi budne til Høfkes at spise Middag ; men da Tinget var den Dag , kom vi der seent , først Kl henimod 5 . Formiddagen bad man mig udspille Beterne for Hertel , som bleve staaende fra forrige Aften , da Dandsen L ' homberen til ei liden Vaande for Frue Holler , blev afbrudt ved Dandsen . Ieg forrettede min Commission godt , og blev netop færdig hermed og med min Paaklædning til Tingfolket kom , og vi skulle til Høfkes . Det var saa stygt et Veir , at vi maatte kiøre de faa Skridt tvært over Gaden . Ogsaa denne Dag sluttedes med Dands , men da vi alle vare trætte , holdt vi os tidligere op. Det var uskiønsomt , ikke at erkiende al den Umage disse gode Folk giorde sig for at fornøie os .\n",
      "Søndagen den 22 de Giorde ieg endnu en Tour til en af de gamle Mestere ved Værket , en Engelænder Vut , som blæser de nydelige Glaspenne . Han giorde en slig mens vi vare det , som han forærede mig . Der vil megen Acuratesse og skarpt Syn til disse Pennes Forfærdigelse . Vi vare alle budne til Middag hos Præsten Bigum.Bigum ] Søren Bigum ( 1740 – 1800 ) og Ingeborg Catrine Bigum f . Klouman ( 1753 – 1813 ) Mad : Kræfting var kiørt i forveien med sin Svigerinde Mad : Michelsen , som holdt sin Kirkegang . Ieg tog Afskeed med den gode taalige Korsdragerinde Mad : Lærche , og hendes ædle Datter , som vel ogsaa var buden til Præstens , men ville ei forlade sin Moder ( da hun ei fra Præsteg : som fra de andre Stæder kunne see hiem til hende ) De sadde begge i Kiøkkenet , da den gamle Kone stædse fryser . FredericheFredriche ] Sofie Frideriche Lerche ( 1779 – ? ) læste for hende . Begge sagde mig vemodig Farvel , og sendte deres beste Hilsener til Larsens og den gode Magisters . Vi kom til Præsteg : da Folk kom af Kirke . Ogsaa her bleve vi hiertelig blidt modtagne . Præsten er en simpel Mand , jævn og god . Hans Kone er overmaade tækkelig , og skal være en fortræffelig Moder for sine 3 tilvoxende Pigebørn , 3 ( … ) Pigebørn ] Ovidia Maria Bigum ( 1785 – ? ) , Olava Sophia Bigum ( 1786 – ? ) og Ingeborg Laurentia Bigum ( 1788 – ? ) som ogsaa alle , skiønt mer og mindre vakre , synes at have arvet Moderens Tække , som da ei er saa underligt , især da hun selv giver sig af med deres Opdragelse . Nu er hun meget sygelig , og har en Jomfrue Schmidt i Huset for at lære Pigebørnene . Endnu er der i Huset Madamens Broder , en Forvalter Kloman , Kloman ] Hans Henrich Gerhard Klouman ( 1764 – 1838 ) saa liig Præsten Nielsen , og en SysterSyster ] Maren Bigum ( 1736 – 1828 ) af Hr Bigum , der i alt forekom mig som Moster Ane – kort , Husets Folk vare uden Undtagelse efter mit Sind – Præstegaarden ligger ogsaa meget behageligt ; saa det var med Møie ieg modstod de gode giæstfrie Folks Beden : at blive der Natten over ; men Skydsen var ikke allene bestilt , men ogsaa reist i Forveien til Baarondeli , da vi vare blevne enige om , at roe dette Stykke tvært over Hurdalssøen . Da vi havde spiist og drukket Caffe , toge vi Afskeed med de gode Præstefolk . Næsten hele Sælskabet fulgte os til Vandet , og de fleeste paa 2 Baade lige til Baarondeli . Det var den skiønneste lille Seilads man kan tænke sig mellem de majestetiske Fielde , som undertiden skieldtes ad for at aabne Udsigten til tæmmelig store bebyggede Slætter , skiønne Marke og Enge , smaa med Løvtræer krandsede Høie ; kort , alt det Afvæxlende som Øiet kan ynske sig til Mættelse . Under Spøg og Sang naaede vi , næsten alt for snart , Landet , hvor Hæstene stode færdige . Med sand Taknæmmelighed for de virkelig behagelige Dage ieg havde tilbragt i Hurdalen , tog ieg Afskeed med det og mit artige Sælskab , steg med mit Følge til Vogns , og fortsatte Reisen , nu ledsaget af Skriveren og RandulffRandulff ] Johan Hersleb Randulff ( 1773 – ? ) til Hest , lige til Edsvold Præstegaard . Veien tilbage forekom mig endnu smukkere , end bort – maaskee blandede sig heri uvilkaarlig Følelsen : « at det var Hiemveien . » Dog er det jo rimeligt , at den samme Vei kan virkelig være smukkere tilbage end frem , og ligesaa omvændt : Situationerne blive jo forkiellige eller anderledes ved at sees fra forkiellige og andre Synspunkter – Ieg var den hele Dag ikke frisk . Vognens stærkere Bevægelse var mig for første gang lidt besværlig , dog taug ieg i det længste , men tilsidst maatte ieg bede Hertel halde for af ham at faa en lille Salvolatile Flaske , som just i Dag blev mig givet for den stygge Hovedpine . I Øieblikket var ogsaa den gode H : nede af Kudskesædet for at skaffe mig Vand af en rindende Bæk . Min opmærksomme Skytsaand magede det saa , at der just var enen ] rettet fra : et ved overskriving rindende Bæk i Nærheden , og at Jacobus førte en lille Flaske i sin Lomme , ligesom til samme Brug . Ved saa mange sammenstødende Omstændigheder maatte jo det Onde snart faa sin Afskeed , og den fik det –\n",
      "Jacob sad færdig med sin Vandflaske , Sara saae stædse frygtsom tilbage – men uden videre Anfald kom vi seent om Aftenen til Pstgd . Her som overalt bleve vi blideligen imodtagne . Man væntede os for at gaae til Bords . Af fremmede vare der en Skibscapitajn Rye og Kone – hun var en Cousine af Professoren – tilforn en bergensk Jomfrue Leganger . Ieg hørte hende ei tale – maaskee var derved intet tabt – og ved Bordet havde den fiirskaarne Søemand langt vigtigere end Ord at bruge sin Mund til . Professoren som ei spiiste førte for det meste Ordet – han har skiønne Talegaver , og forteller ret behageligt , saa man endog med Fornøielse hører Ting af ham , som man før , ja oftere har hørt . Ieg underholdt mig meest med Fruen som ieg kiendte fra Næss Auction . Det var seent vi kom fra Bordet , hvorfor vi snart søgte Sængen . Ieg sov sødt til henimod Morgenen , da ieg vaktes af de frygteligste Tordenslag ieg længe har hørt . Med ikke liden Møie fik ieg Skriveren vaagen . Endelig trak Uveiret forbie , men Rægnen vedblev . Alt var stille i Huset ; men da vi ei kunne sove igien , stod vi op. Nu hørte vi , Menneskene i næste Værelse rørte paa sig , og strax efter denne Opdagelse giorde vi en anden , langt mere overraskende : En Diable med en indpakket Mand og Qvinde foer , trukket af 2 Heste forbie vore Vinduer – strax efter kom en i fuld Gallup løbende , og af fuld Hals raabte : « hei , kom igien ! – vend om ! » – Jo , see hvor de giorde – Og var da de Reisende eller Forbifarende ingen andre end vel bemældte Ægtemand og Viv . Alle Stuepigens Bønner uagtet , reiste de før Fruen kunne komme ned . Hun var derover den hele og de følgende Dage i snurrigt Houmeur . Alle som kom , spurgte : naar Ryes reiste ? og strax trak Skyerne op over Horizonten ; men blot ved at ryste paa Hovedet og smile lykkedes det mig at fordele Skyerne og tilveiebringe den klareste Himmel . Enhver forstaaer da nok , at dette i daglig Stiil vil sige saa meget : at Fruens Pande var blev rynket ved at erindres om den saa snart seilklare Søemand , og at disse Rynker forsvandt naar vi andre paa en komisk Maade syntes at dele hendes Bekymring . –\n",
      "Denne Mand : Eftermid : skulle vi været hos General v : Kroghs ; General v : Kroghs ] Casper Herman von Krogh ( 1725 – ? ) og Christiane von Krogh ( 1732 – ? ) Skriveren skulle kommet did fra Tinget ; men ieg var ei saa frisk at ieg torde vone denne Reise , hvor kort den var . En Stund laae ieg , Ræsten af Dagen tilbragte vi ved alleslags Samtaler , ved at høre den unge Frank fra Christiania , som spiller ypperlig Violin ; og ved at spadsere lidt mellem Rægnskurerne . Haven ligger et godt Stykke fra Husene , tæt ved Kirken . Man kommer did giennem en skiøn tet Alle , som mellem de høie forskielige Træer er beplantet med Stikkelsbærtræer . Da denne Alle ogsaa for Folk fra denne Side er Kirkevei , saa ere disse Bær til hver Mands Brug – det lider ieg godt – som ieg overalt var meget forlibt i det hele Hauge Anlæg.Anlæg ] rettet fra : N ved overskriving Er ikke Udsigten heromkring romantisk , saa har ieg hidtil giordt mig en feil Idee om Tingen . Her er en ret lille Bygning , bestaaende af en Spærrestue med en Kamin , et et stort Bord og Bænke – et lille Kammer , og andre Beqvæmmeligheder . Begge de gange ieg var i Haven , drog Fruen mig med Magt hiem igien , da ieg ikke kunne modstaae Fristelsen af de mange skiønne Bær , og hun , som havde paataget sig at være min Doktorske , fandt det ei at være mig tiænligt . Skriveren som kom seent hiem , troede halvveis Frk Leganger havde overtalet mig til at agere syg , da han vidste , hun giærne ville have os hiemme den Dag over ; men for denne Mistroe blev han straffet , da ieg midt om Natten blev nødt til at vaagne ham . Ieg troede selv næppe ieg skulle levet til Morgenen , og havde det blevet længe ved med lige Voldsomhed , veed ieg ei , hvad der var bleven af . Ieg har før nogle gange troet at føle Dødens Nærmelse ; og endskiønt med Gysen og ( især siden ieg blev Moder ) med inderligt Ynske om mine Dages Forlængelse , saa dog aldrig med den Ængstelse som i denne Nat . Tanken at døe uden endnu engang at have seet og velsignet mine Børn , mine mange fraværende Elskte – Forestillingen om deres Forfatning ved Tidenden om min Død – o Døden selv var ei bittrere end disse martrende Forestillinger . Saaledes har mit Hierte aldrig banket før . Korens , den ømme Korens Angst vil ieg ei forsøge at beskrive . Mod Morgenen faldt ieg i Søvn ; og da ieg vaagnede , var ieg vel skrækkelig mat ; men stod dog op. Saa ussel ieg var , maatte vi denne Eftermidd : til Generalens , da vi Dagen efter skulle reise videre . Vi bleve alle indbudne til Aftenen . Ganske paa Byviis reiste vi først did Kl : henimod 6 . Den hele ædle Familie tog imod os med den inderlige blide Simpelhed som ieg har funden hos alle de ieg har kiendt af Familien . Generalinden , som skal være en ypperlig Dame , er ei smuk og har næppe været det ; men det erstattes ved hendes Godmodighed . Til Frøkenens Berømmelse er sagt saa meget af enhver der kiender hende ; og dog næppe saa meget , som hun fortiener . Skiøn er hun ikke ; men den blide Tungsindighed som hviler paa hendes Ansigt ( især naar hun ei taler ) synes at sige : « det var mig som forjog Roserne og Fyldigheden af disse Kinder – mine Døttre , Taarene har dæmpet Ilden i disse Øine » – og med alt det vover ieg ikke her at kalde Tundsindigheden en Tyran : hvad den har bortranet af Glands , har den igiengivet af Ynde og Tække som ingen Alder eller Omstændigheder vil kunne giøre Indgreb i . Vi talte meget sammen , dog lidet mod det ieg ynskede . Det slæmme Rægnveir forbød os al Spadsering untagen faa Øieblik i Haven , som er stoer , men meget simpel . Saa giærne havde ieg ynsket at see Frøkenens Grotte . Den er et Arbeide af den ømmeste Broderkierlighed . Lieut : hvis idelige Syssel er at udfinde noget nyt til Systerens Fornøielse , har selv indrettet den , og den er i godt Veir hendes behageligste Opholdsted . Nogle ville tillægge denne Lieut : v K : Stolthed ; men det finder ieg langt fra ikke . Da ieg første gang saae ham , blev ieg overrasket ved den store Lighed han har med sin ældre , længe siden bortdøde Broder , Kammerjunkeren , som det Gods tilhørte , hvor min Svoger var Præst . Ved en naturlig Ideforbindelse kommer , hver gang ieg seer ham , mange af min første Ungdoms Drømme tilbage i mine Tanker . Virkelig forekommer det mig næsten som Drømme , alle de herlige Timer ieg nød paa det skiønne Søholt i den ypperlige Frøken Tillisch ' s Sælskab , og i min Eensomhed i de paradisiske Lunde og Skove , hvor ei Kunsten ( som for en stor deel i selve Haven ) havde vanziret den her saa rige Natur – alle de Glæder , som ieg her nød dobbelt , fordi min gode Marie og hendes menneskekierlige Præst deelte dem – og falder end Savnet af alle disse tabte Glæder tungt paa mit Hierte , især Savnet af dig , min Barndoms hulde Veninde , og af Dig , ædle Staal , min Ven og Lærer , som ieg maaskee skylder meest af alle Mennesker i Verden – saa er dog den Veemod der bliver tilbage i min Siæl , saa sød , at ieg føler en Erkiendtlighed hos mig for den gode v Krogh , som gienkaldte mig alle disse behagelige Billeder af svundne Dage –\n",
      "Tilgiv , elskte Læsere og Læserinder , denne lange Afvigelse . Ieg veed , hvor lidt alt dette vedkommer min Reise ; men des mere vedkommer det mit Hierte ; og at læse i dette er Eder dog vel ikke saa ligegyldigt , at I hellere istæden for ovenstaaende , havde seet Beskrivelse over de vakre , skiønt ei mere moderne Speile , Borde , Skabe etc. paa det i det hele gammeldags men godlidende Morch – Den gamle Generalinde fandt megen Fornøielse i at høre mig fortelle om hendes Søn , om Søholt ( hvor hun havde været ) og alt hvad dertil hørte . Saaledes under afvæxlende behagelige Samtaler , lidt Spadseren , og skiønt Violinspil af Lieut : Petersen og Frank , blev det Spisetiid . Uagtet min Frue Dokterskes Vink og Rysten med Hovedet , spiiste ieg en forfærdelig Hoben Meloner , som dog , mod al Formodning , bekom mig vel . Mens vi spiiste var den opmærksomme Lieut . K : som havde hørt Saras Lovtale over de skiønne Blomster , ude og plukkede en heel Mængde af de allervakreste som hun ogsaa holdt i vedbørlig Agt , da hun førte dem lige her hiem , hvor de enda stod adskillige Dage i Vand . Vi kom ei fra Morch før Kl : over 12 , altsaa var intet andet at giøre da vi kom til Præstegaarden , end putte os til Sængs . Hestene vare den anden Morgen bestilte til Kl : 7 ; men vi kom ei op før den gik til 9 . I al Hast maatte her da pakkes ind , spises Frokost , tages Afskeed med den gode Vertinde , Vert , og hele Familie . Den ældste Jomfrue Leganger er en meget vakker , og , hvad der er mere , en meget god Pige . Hun tægner til stærk Fedme . Hendes ældste broder tægner til alt hvad der er ypperligt . Ieg saae aldrig et mere interessant Drengebarn i den Alder . Den yngere er ogsaa en prægtig Gut . Bare Fyr og Flamme . En lille 3 Aars gammel Pige er med sit lille blege koparrede Ansigt et meget behageligt Barn –\n",
      "To Omstændigheder har ieg glæmt : at ieg Mand : Morgen fik Brev fra den brave Boetius , Boetius ] Jens Boetius ( 1775 – 1839 ) at alting stod vel til her hiemme ; som lettede en stoer Steen af mit Hierte – og at Procurator Hiort var paa Præstg : Tirsdagen . Ieg fik ei tale meget med ham , da vi reiste til Morch ; hele Aftenen mærkede ieg nok , Hertel var saa usædvanlig stille ; men ieg giættede ei Aarsagen – Giættede det ikke engang , da vi under Kiøringen iblandt andet talte om Edsberg , og ieg fortalte ieg havde drømt næsten hver Nat den hele Tour saa leit , og han svarede , detdet ] rettet fra : ved overskriving havde gaaet ham ligesaa , og begyndte at moralisere , ( da ieg yttrede min Frygt , at Mor Lassen var død , ) at man maatte være bered paa ethvert Tilfælde , da man dog saae , hun ei kunne giøre det længe . Under disse Samtaler , imellem afbrudt ved Jacobs og Saras Munterhed , kom vi til Steensbye , Onsdag Middag Kl 12 – De gode Folk havde ventet os siden Søndag , og bleve meget mismodige , da de hørte vi ei kunne blive længere end til den anden Eftermd : Da deres hele Stræben gik ud paa , hvordan de ret skulle fornøie os , blev der besluttet , vi om Eftermid : skulle reise op til deres Sæter . Mad og Drikke blev indpakket , og strax vi havde spiist , rullede vi afstæd , GræfsensGræfsens ] Niels Grefsen ( 1750 – 1804 ) og Live Marie Grefsen f . Solner ( 1754 – 1803 ) 5 godlidende Pigebørn , 5 ( … ) Pigebørn ] Marthe Christine Grefsen ( 1782 – ? ) , Anthonette Sverdrup Grefsen ( 1785 – ? ) , Karen Elisen Grefsen ( 1788 – ? ) , Nicoline Grefsen ( 1790 – ? ) og Oline Christiana Grefsen ( 1794 – ? ) Jacob og Sara pa en Kurvevogn , Mad : Græfsen i Kariol ( hun er meget corpulent ) Manden hendes og Skriveren min til Hest ( Randulff var reist i en Forretning . Ieg , Jomfrue Sophie Gamborg og Jomfr : Widding ( som informerede Smaa ) begge tækkelige muntre Piger , paa vor egen Vogn , hvor Hertel efter Sædvane var Kudsk . Det var første gang i mit Liv ieg reiste til Sæters ; men ieg angrede det ei –\n",
      "Det gik stædse opad Fieldet . Veien skal , i Sammenligning med de fleste Sæterveie , være meget god ; og ja men gik den an , det var brat og svært for Hestene ; men det var op for og lyst – Ieg spurgte , om den Gut som kiørte alle Børnene var sikker ? Oh ja , svarede Jomfr : Widding , han kiører prægtig ; men han seer just ikke saa godt . Dette Skudsmaal satte mig i lidt Angst ; men ieg blev beroliget , da ieg saae hvor godt det gik . Vi var nu kiørt en god halv Miil , stæds op efter , og havde mange gange de herligste Udsigter –\n",
      "Endelig saae vi den lille pene Sæterbygning . Nye Træbygninger , Stuerne prydede med brede Borde , Bænke , og Kamin har i mine Øine en saa ædel Simpelhed . Disse Huse ligge desuden saa skiønt ; midt i en Skov ved et stoert Vand – Om dette mere efter Ordenen –\n",
      "Imens den geskiæftige Jomfr : Gamborg lavede Caffe , gik vi rundt om i hvert Rum og besaae alting – og alting var komplet , tildeels nyt . Det var aftalt , vi skulle ud og roe , og saa snart Caffen var til Livs med behørige Kringler og Tvebakker , gik det til Baads – Græfsen og Kone , tilligemed et par af Børnene , bleve i Land , for at alle vi øvrige kunne faa Rum . Skriveren roede . Veiret var stille og behageligt . Og den Tanke : at roe paa en Søe af adskillige Miles Længde midt oppe i et Field , havde noget saa frappant for mig , at ieg langt hellere havde moret mig med at følge min vidtsvævende Indbildningskraft , end med en Treset . Dog , ieg giør alting med , og det skaffede noget at lee af , da Vinden vaagnede lidt mere , og Kortene mange gange vare i Fare , – den stolte Kong Alexander var næsten over Bord engang ; men blev ræddet af den hurtige Jomfr : Widding . Opmærksomheden paa Spillet hindrede mig imidlertiid ikke fra , at bruge mine Øine til andre Gienstænde . Endskiønt denne Søe ( Tisøen kaldet , fordi ti andre mindre Søer falder deri ) paa mange stæder er meget breed , og , som sagt , nogle Mile lang , seer den dog ud som den var i Runddeel , saa indsluttet er den af den skovbegroede Fielde – dog bliver denne Runddeel mere ovalagtig , jo længere man kommer ud . Afvæxlende Udsigter er der ikke –\n",
      "Koren , som under sit sveedfrembringende Arbeide , giorde sine Anmærkninger over os Spillende , og underholdt sig med Pigebørnene og Jacob , ville blevet ved at roe , ieg troer til Enden af Søen ; men Aftenen stundede til , og vi maatte tilbage . Her fandt vi baade Thee og Eftersvælg færdig , saa vi ei vidste , hvad vi først skulle vælge , og valgte for en feils Skyld begge dele –\n",
      "For at faa Rum til Aftensmaden maatte vi atter ud og toure , og man havde ei godt for at blive kied af disse Promenader . Her sees Naturen overalt , om just ikke i al sin Skiønhed og Stoerhed , saa dog reen og utvungen , uden Snørliv og Poscher . –\n",
      "Den deilige Flødegrød var nu færdig , og vi leirede os paa Bænker og Krakker rundt om breden Bord , fortærede Grøden og vor kolde Kalvesteg under Spøg og Latter , til stor Glæde for den reenlige Budeje , hvis yndest vi havde erhvervet os ved vor , vist hiertemente , Roes for hendes nette Melkebod , hendes skiønne Smør , Ost , og Fløde –\n",
      "Men det stærk paafaldende Mørke mindede os om Hiemfarten ; og nu vaagnede med engang min Frygt ved at tænke paa den næsten blinde Kudsk ; men denne Bekymring forvandlede sig til Tryghed , da ieg saae den gode Grefsen selv bestige Kudskesædet . Ieg forlod da den rolige Sæterbolig , Nøisomheds og Tilfredsheds Billede , med den inderligste Taknæmmelighed for den behagelige Timer ieg der havde nydt . Vemod blandede sig i disse Følelser , som naar man tager Afskeed med en Ven man ei hastig venter at see igien .\n",
      "Veien tilbage var langt fra ei saa god , som did : det gik stædse ned ov stenede , bratte Bakker , saa Hestene med stoer Nød kunne holde igien . Mange Stæder var Veien smal , og paa Siderne afheldt – til alt dette Mørket i den tykke Skov . Alligevel gik alting godt , og Kl : 11 vare vi igien paa det vakre Steensbyehttps : / / www.digitalarkivet . no / census / rural-residence / bf01058229002352 i god Behold . Her spiiste vi en Melon , som vi ikke fandt Anledning til at fortære i Sæteren , drak et Glas Porter , og begav os til Hvile , som ieg fandt i al sin Søhed .\n",
      "Torsdag Formid : tilbragte vi med at besee disse underlig adspredte Bygninger , som ordnede og under et , skulle være høist beqvæmme og vakre . Her tænkte ieg næsten uophørlig paa Mor Lassen hvor mange Fied her laae efter hende , gienkaldte mig alle de , baade morsomme og kiedsomme Scener hun her havde havt , og besaae no engang alt rundt om , for at kunne give hende nøie Underretning om hver Ting , da ieg af Erfarenhed saa godt veed , hvor behagelige slige Underretninger er om de Stæder , hvor vi har henlevet en Tid af vor skiønneste , sorgfrieste Ungdom . Naturligviis talede ieg meg herom med Skriveren og Hertel . De svarede mig lidt eller intet , dreiet altid Samtalen paa andre Ting – og endnu ahnede mig ei , at hun va død – De vidste det : Procurator Hiort havde sagt dem det . –\n",
      "Mad : Grefsen lod bede Naboen Essendrop og KoneEssendrop og Kone ] Peter Hersleb Essendrop ( 1737 – ? ) og Maximiliana Olzen ( 1734 – ? ) til Bords ; men de undskyldte sig . Ieg havde hørt meget om denne Matrones Besynderlighed , og Mor Gref : og ieg fik Lyst at giøre en liden Visit did . Hertel kiørte for os . Manden kom strax og tog imod os ; men Madamen først da vi næsten vare færdige at reise igien . Det tar Tiid at komme i Pynten , mætta – Hendes Indgangstale var en Bebreidelse til Mad : G : som kom did med Fremmede , da hun vidste , de malede alle Værelserne . Det havde ei lønnet Umagen at reise derhen om vi ikke havde havt des mere Moroe paa Veien frem og tilbage . Jomfrue Widding var vor Tiæner , saa vi kom stolteligen afstæd .\n",
      "Ieg havde saa ofte , og endnu denne Dag talt om , at ieg aldrig havde seet Auditeur Milche , Auditeur Milche ] Johan Jacob Milche ( 1737 – 1799 ) denne saa vidtbekiendte Original . Ieg stod ved Vinduet og saae noget , som ei kunne være andet end et Menneske , i en Kariol , kiørende Fod for Fod ind i Gaarden . Det var ham . Men min Nysgierrighed blev snart forvandlet til Medynk . Den lange smale Figur , guul , rystende og stønende , Hovedet indsvøbt i Tørklæder , og en stoer Hagepude – og det paa denne Aarstiid , da vi andre intet Raad vidste at fordrive Varmen . Hans meeste Tale var Klage over al den Uret han havde lidt , og især om en Striid , som han just har i denne Tiid med Professor Leg : om sin Kirke og Altergang . Stakkels Koren havde af mange Aarsager kun lidt godt af sin Middagsmad . Mig sagde han mange smukke Ting . Da vi drak Caffe i Haven , laa Skriveren sig saa fult ned bag Thebordet hos Jomfruerne , at Milche ei saae ham ; og nu maatte Hertel holde ud at høre hans hele Levnetsløb fra først til sidst .\n",
      "Skydsen var bestilt til Kl . 12 – nu var den 4 , og enda ingen Heste [ . ] Vi havde foresat os , at giøre et kort Besøg paa Hasler hos gamle Gamborgs ; gamle Gamborgs ] Thomas Gamborg ( 1720 – ? ) og Anne Sophie Gamborg ( 1729 – ? ) og derfra hiem samme Aften . Ieg var utaalmodig i mit Hierte ; men des gladere var Sara og Jacob , som her fandt sig saa inderlig vel , at de ynskede , ingen Skyds skulle komme den Dag . Vi maatte andengang have Bud til Minne , hvor den skulle tilsiges , og endelig kom den – til al den grønne Ungdoms Misfornøielse .\n",
      "Vi maatte samme Vei tilbage som vi var reist did , og lige igjennem Gaarden Morch for at komme til Hasler . Her maatte ieg modstaae den Fristelse , at sige den elskværdige Frøken v. KroghFrøken v. Krogh ] Hedevig Augusta von Krogh ( 1772 – ? ) og hendes Broder Nei , da de kom løbende ud og bad os saa venligt komme ind og faa en Kop Thee , som de just vare i Begrep med at drikke . Men det var seent ; de ventede os paa Hasler , og vi tænkte os saa vist hiem . Altsaa maatte ieg , som ieg saa ofte maa – byde mit Hierte : « Stille ! »\n",
      "Veien fra Morch til Hasler , kunne , som Vei betragtet , vist ikke roses – foruden svære Bakker op og ned , store Skraa Stene som man ei kunne ungaae , og andre Anstød , var den mange Stæder saa smal , at vi med Møie fik Vognen slæbt frem ; men hvad vi paa denne Maade savnede af Beqvæmheder som en jævn Vei medfører , det blev blev os rigeligen erstattet ved mange nydelige Afvæxlinger for Øiet , og ved næsten stædse at kiøre i behagelig Skygge .\n",
      "Ieg havde hørt Hasler udraabt som meget triste og stygt . Det første kan for saa vidt være grundet , da det ligger lige inde i Skoven , omgivet af Field . Men stygt bliver det aldrig efter mit Begreb . Bygning , Meubler , Have , alt er efter den gamle Verden – men vi seer saa ofte det Nye og Glimrende . Mig i det mindste giør det godt , at hvile mit Øie imellem paa det mindre blændende , og Udtrykket : gammeldags Ærlighed – forekommer mig altiid for helligt til at spøge med. Disse gode Gamle tilligemed deres Børn og et par Børnebørn stode alle i Gangen og modtog os med et saa hiertemeent : Velkommen ! – Caffebordet stod dækket ; skiønt Kl : vist var 6 smagte den godt enda . Siden var vi ude omkring . I Haven er mange store prægtige Træer , og et vakkert Lysthus . Store , skyggefulde Træer giør ieg særdeles meget af , hvor ieg finder dem . Her lød Luren som ieg hørte oppe i Fieldene , saa skiønt som ieg ei før har hørt den – Det kom mig for , som ieg var til Sæters – Den gamle Gamborg , nær sine 80 Aar , er temmelig frisk og rørig . Kun Hørelsen mangler ham reent . Han er en Nar efter Kortspil ; og man kan ei fornøie ham mere , end ved at skaffe ham et Slag Kort . Skydsen var kommet før vi ; men de bad os saa inderlig blive til vi havde spiist i det mindste . Altsaa til Maden blev færdig , skulle vi have os en Treset med gamle Gamborg . Men nu kom Sønnen MichaelSønnen Michael ] Michael Gamborg ( 1760 – ? ) hiem , og paa nye begyndte de alle med Bønner , at vi ville blive der Natten over . Intet kan være leiere , end at blive saa bedet , naar man saa nødig kan sige Ja . Rigtig standhaftig er ieg nok ikke af Naturen , især , naar ieg kan glæde en , end sige saa mange som her . Resultatet blev : at ieg næsten grædefærdig lovede at blive . Endnu en Nat maat maatte ieg altsaa tilbringe fra mit kiære Hiem . Med inderlig Glæde og Tak til Gud aabnede ieg mine Øine . I Dag skulle ieg see mine Børn og mit gode Hiem igien – og i Dag var det min Fødselsdag\n",
      "Fredagen den 27 de Julj : Min Korens Lykynskning var den første Hilsen ieg modtog . Hastig var ieg oppe og paaklædt . Sara ligesaa – hvor giærne havde ieg strax sadt mig paa Vognen og rullet aftstæd – men her maatte først drikkes Caffe og spises Frokost ; og da ingen af os kunne spise saa tidlig , maatte vi tage Mad med , enten vi peb eller sang . Sara fik endog en lille Pærlehøne forærende . Som ærlige Sydskendebørn delede Jacob og hun Byrderne mellem sig med at føre denne Kylling , Blomsterne fra Morch og Maden . Endog Gedeoste fik vi med os , som ieg strax i mine Tanker bestæmte til Mor Lassen , da ieg vidste , hun saa giærne spiiste dem , og derude ingen kunne faae –\n",
      "« Gud skee Lov ! sagde ieg , da vi nu virkelig var paa Hiemveien – naar ieg nu stiger af , er det i Lundberg Gaarden . » Da vil ieg ogsaa først gratulere Dem , sagde Hertel – for ieg husker nok , det er den 27 Julj i Dag . – Jo nærmere ieg kom Lundberg , jo underligere blev ieg , ret som ieg ikke skulle været hiemme , eller hørt derfra en lang , lang Tiid – « Mon ikke Børnene møder os ? de veed nu , vi kommer , da Skriveren er – i Forveien – saa plagede ieg den arme gode Hertel alt i et – Men vi kom nu til den første og anden Gaard , hvor ieg saa vist ventede at møde dem – og der var ingen . Først inde paa vore egne Eiendele saae vi dem en efter en anden komme springende . Vi holdt til de alle vare komne opi Vognen . Mit første Spørgsmaal var om Caroline – hun var brav – mit andet : om der havde været Bud fra Edsberg ? og før de kunne svare , saae ieg Arne Urtegaardsmand , og torde næppe gientage Spørgsmaalet . Da ieg reiste herop , sagde han , var det nok meget slæt med Mor Lassen – Ieg spurgte ei videre – ieg havde nok – og meer end nok fik ieg ved en Mængde Breve , næsten alle kun handlende om hendes Død – Just denne Dag skulle hun begraves . Det faldt skrækkeligt paa mit Hierte , som var saa aabent for Glæden . Mine Børns Kiærtægn bedrøvede mig kun mere – hendes Børn saae ieg i disse – saae dem grædende , moderløse . Men disse Tanker vare velgiørende : de de gav mig Taare – Fred med Dit Støv , Du Velsignede ! Du eviguforglæmmelige Veninde ! ! ! –\n",
      "Og hvad kan ieg sige efter alt dette ?\n",
      "Naar I har en Stund tilovers , mine elskte Venner og Veninder , som I ei vide bædre at anvænde , saa giennemløber disse Blade . Tænk under hele Læsningen , at de ere blevne til efter Eders egen Begiæring . Saa godt ieg har kunnet , har ieg opfyldt Eders Ynsker – Bliver Eders Forventning skuffet , er det ei min Villies eller mit Hiertes Skyld . Flere Forsikringer og Undskyldninger ville være fornærmende for Eder saa vel som for Eders Christiane –\n"
     ]
    }
   ],
   "source": [
    "print('\\n'.join([' '.join(y) for y in kilder_korpus['NBkilder_Koren_1798.xml']]))"
   ]
  },
  {
   "cell_type": "markdown",
   "metadata": {},
   "source": [
    "# Konkordanser"
   ]
  },
  {
   "cell_type": "markdown",
   "metadata": {},
   "source": [
    "### Søk i sekvenser av ord\n",
    "\n",
    "* Legg inn hvert ord i sekvensen i egne \" \" \n",
    "* Bruk komma mellom hvert søkeord\n",
    "* Before og after angir hvor mange ord du ønsker å se før og etter søkeordene"
   ]
  },
  {
   "cell_type": "code",
   "execution_count": 6,
   "metadata": {},
   "outputs": [
    {
     "data": {
      "text/markdown": [
       "### Konkordanser for *jeg er*"
      ],
      "text/plain": [
       "<IPython.core.display.Markdown object>"
      ]
     },
     "metadata": {},
     "output_type": "display_data"
    },
    {
     "data": {
      "text/markdown": [
       "#### NBkilder_Koren_1802.xml"
      ],
      "text/plain": [
       "<IPython.core.display.Markdown object>"
      ]
     },
     "metadata": {},
     "output_type": "display_data"
    },
    {
     "data": {
      "text/markdown": [
       "13: hun seer ) seer I , hvor lykkelig <span style='color:red'>jeg</span> <span style='color:red'>er</span> ! » Børnenes støjende vedvarende Glæde"
      ],
      "text/plain": [
       "<IPython.core.display.Markdown object>"
      ]
     },
     "metadata": {},
     "output_type": "display_data"
    },
    {
     "data": {
      "text/markdown": [
       "20: , <span style='color:red'>jeg</span> aldrig saae før , og som <span style='color:red'>jeg</span> <span style='color:red'>er</span> saa glad i at kiende –"
      ],
      "text/plain": [
       "<IPython.core.display.Markdown object>"
      ]
     },
     "metadata": {},
     "output_type": "display_data"
    },
    {
     "data": {
      "text/markdown": [
       "36: 7 . Jeg seer nok , saa længe <span style='color:red'>jeg</span> <span style='color:red'>er</span> i Kbhn bliver dette i egentligste"
      ],
      "text/plain": [
       "<IPython.core.display.Markdown object>"
      ]
     },
     "metadata": {},
     "output_type": "display_data"
    },
    {
     "data": {
      "text/markdown": [
       "74: Gud skee Lov , Søvnen hialp , og <span style='color:red'>jeg</span> <span style='color:red'>er</span> ganske brav paa lidt Mathed nær"
      ],
      "text/plain": [
       "<IPython.core.display.Markdown object>"
      ]
     },
     "metadata": {},
     "output_type": "display_data"
    },
    {
     "data": {
      "text/markdown": [
       "100: hvor alle ere mig saa kiære , hvor <span style='color:red'>jeg</span> <span style='color:red'>er</span> alle saa kiær !"
      ],
      "text/plain": [
       "<IPython.core.display.Markdown object>"
      ]
     },
     "metadata": {},
     "output_type": "display_data"
    },
    {
     "data": {
      "text/markdown": [
       "133: og vist aldrig lader mig mærke med , <span style='color:red'>jeg</span> <span style='color:red'>er</span> vant til at tale om andet"
      ],
      "text/plain": [
       "<IPython.core.display.Markdown object>"
      ]
     },
     "metadata": {},
     "output_type": "display_data"
    },
    {
     "data": {
      "text/markdown": [
       "174: Saabyes . Saaledes at flakke de sidste Dage <span style='color:red'>jeg</span> <span style='color:red'>er</span> her rent bort , <span style='color:red'>er</span> ej"
      ],
      "text/plain": [
       "<IPython.core.display.Markdown object>"
      ]
     },
     "metadata": {},
     "output_type": "display_data"
    },
    {
     "data": {
      "text/markdown": [
       "200: Saalænge <span style='color:red'>jeg</span> kan det , veed <span style='color:red'>jeg</span> , <span style='color:red'>jeg</span> <span style='color:red'>er</span> en lykkelig Moder –"
      ],
      "text/plain": [
       "<IPython.core.display.Markdown object>"
      ]
     },
     "metadata": {},
     "output_type": "display_data"
    },
    {
     "data": {
      "text/markdown": [
       "266: træt ."
      ],
      "text/plain": [
       "<IPython.core.display.Markdown object>"
      ]
     },
     "metadata": {},
     "output_type": "display_data"
    },
    {
     "data": {
      "text/markdown": [
       "275: været syg i Dag , meget syg – <span style='color:red'>jeg</span> <span style='color:red'>er</span> endnu ikke , og bliver vel"
      ],
      "text/plain": [
       "<IPython.core.display.Markdown object>"
      ]
     },
     "metadata": {},
     "output_type": "display_data"
    },
    {
     "data": {
      "text/markdown": [
       "406: af min Adolf . Men de veed , <span style='color:red'>jeg</span> <span style='color:red'>er</span> bedrøvet , og plager mig ikke"
      ],
      "text/plain": [
       "<IPython.core.display.Markdown object>"
      ]
     },
     "metadata": {},
     "output_type": "display_data"
    },
    {
     "data": {
      "text/markdown": [
       "430: til at lægge mig . Sara sover , <span style='color:red'>jeg</span> <span style='color:red'>er</span> altsaa overladt ganske til mig selv"
      ],
      "text/plain": [
       "<IPython.core.display.Markdown object>"
      ]
     },
     "metadata": {},
     "output_type": "display_data"
    },
    {
     "data": {
      "text/markdown": [
       "464: Reise , Gud skee evig Lov , at <span style='color:red'>jeg</span> <span style='color:red'>er</span> saa langt , at denne Dag"
      ],
      "text/plain": [
       "<IPython.core.display.Markdown object>"
      ]
     },
     "metadata": {},
     "output_type": "display_data"
    },
    {
     "data": {
      "text/markdown": [
       "535: Gud <span style='color:red'>er</span> Sandhed , synes bædre , end <span style='color:red'>jeg</span> <span style='color:red'>er</span> . Desuden <span style='color:red'>er</span> det jo vist"
      ],
      "text/plain": [
       "<IPython.core.display.Markdown object>"
      ]
     },
     "metadata": {},
     "output_type": "display_data"
    },
    {
     "data": {
      "text/markdown": [
       "#### NBkilder_Koren_1808.xml"
      ],
      "text/plain": [
       "<IPython.core.display.Markdown object>"
      ]
     },
     "metadata": {},
     "output_type": "display_data"
    },
    {
     "data": {
      "text/markdown": [
       "3: <span style='color:red'>jeg</span> sige Eder , Elskte , hvor naragtig <span style='color:red'>jeg</span> <span style='color:red'>er</span> ? <span style='color:red'>jeg</span> aabnede mine Øyne ,"
      ],
      "text/plain": [
       "<IPython.core.display.Markdown object>"
      ]
     },
     "metadata": {},
     "output_type": "display_data"
    },
    {
     "data": {
      "text/markdown": [
       "4: . Om hende siger <span style='color:red'>jeg</span> intet , fordi <span style='color:red'>jeg</span> <span style='color:red'>er</span> og var i lang Tiid indtaget"
      ],
      "text/plain": [
       "<IPython.core.display.Markdown object>"
      ]
     },
     "metadata": {},
     "output_type": "display_data"
    },
    {
     "data": {
      "text/markdown": [
       "37: , og at dette <span style='color:red'>er</span> sidste Dag , <span style='color:red'>jeg</span> <span style='color:red'>er</span> paa Strømsøe – denne Sinde –"
      ],
      "text/plain": [
       "<IPython.core.display.Markdown object>"
      ]
     },
     "metadata": {},
     "output_type": "display_data"
    },
    {
     "data": {
      "text/markdown": [
       "40: den ældre Verden . Handler han – som <span style='color:red'>jeg</span> <span style='color:red'>er</span> tilbøyelig til at troe – overeensstemmende"
      ],
      "text/plain": [
       "<IPython.core.display.Markdown object>"
      ]
     },
     "metadata": {},
     "output_type": "display_data"
    },
    {
     "data": {
      "text/markdown": [
       "42: naar <span style='color:red'>jeg</span> taler med Døttrene mine , som <span style='color:red'>jeg</span> <span style='color:red'>er</span> saa bange for at skiule en"
      ],
      "text/plain": [
       "<IPython.core.display.Markdown object>"
      ]
     },
     "metadata": {},
     "output_type": "display_data"
    },
    {
     "data": {
      "text/markdown": [
       "58: "
      ],
      "text/plain": [
       "<IPython.core.display.Markdown object>"
      ]
     },
     "metadata": {},
     "output_type": "display_data"
    },
    {
     "data": {
      "text/markdown": [
       "143: fatte mig lidt forinden , og fordi – <span style='color:red'>jeg</span> <span style='color:red'>er</span> nyfigen i min Johan og min"
      ],
      "text/plain": [
       "<IPython.core.display.Markdown object>"
      ]
     },
     "metadata": {},
     "output_type": "display_data"
    },
    {
     "data": {
      "text/markdown": [
       "150: vil man mere af en Romanforfatter ? Men <span style='color:red'>jeg</span> <span style='color:red'>er</span> virkelig doven i Dag paa mit"
      ],
      "text/plain": [
       "<IPython.core.display.Markdown object>"
      ]
     },
     "metadata": {},
     "output_type": "display_data"
    },
    {
     "data": {
      "text/markdown": [
       "219: "
      ],
      "text/plain": [
       "<IPython.core.display.Markdown object>"
      ]
     },
     "metadata": {},
     "output_type": "display_data"
    },
    {
     "data": {
      "text/markdown": [
       "301: , hvori der <span style='color:red'>er</span> saa mange deylige , <span style='color:red'>jeg</span> <span style='color:red'>er</span> nesten fristet til at sige jeanpaulsk"
      ],
      "text/plain": [
       "<IPython.core.display.Markdown object>"
      ]
     },
     "metadata": {},
     "output_type": "display_data"
    },
    {
     "data": {
      "text/markdown": [
       "363: blive stort anderledes i al den Tiid , <span style='color:red'>jeg</span> <span style='color:red'>er</span> her . Vi saae ikke hverandre"
      ],
      "text/plain": [
       "<IPython.core.display.Markdown object>"
      ]
     },
     "metadata": {},
     "output_type": "display_data"
    },
    {
     "data": {
      "text/markdown": [
       "372: , Falsen var der rigtig nok , og <span style='color:red'>jeg</span> <span style='color:red'>er</span> altsaa nu 4 ß rigere ,"
      ],
      "text/plain": [
       "<IPython.core.display.Markdown object>"
      ]
     },
     "metadata": {},
     "output_type": "display_data"
    },
    {
     "data": {
      "text/markdown": [
       "379: , før hun faaer mit Brev , at <span style='color:red'>jeg</span> <span style='color:red'>er</span> uskyldig i hendes feylslagne Forventning ."
      ],
      "text/plain": [
       "<IPython.core.display.Markdown object>"
      ]
     },
     "metadata": {},
     "output_type": "display_data"
    },
    {
     "data": {
      "text/markdown": [
       "386: paa , at hiemsøge Præstens Boghylder , hvor <span style='color:red'>jeg</span> <span style='color:red'>er</span> vis paa at finde noget til"
      ],
      "text/plain": [
       "<IPython.core.display.Markdown object>"
      ]
     },
     "metadata": {},
     "output_type": "display_data"
    },
    {
     "data": {
      "text/markdown": [
       "393: de. Nu tænker I , elskede Venner ! <span style='color:red'>jeg</span> <span style='color:red'>er</span> her for at sige Eder Farvel"
      ],
      "text/plain": [
       "<IPython.core.display.Markdown object>"
      ]
     },
     "metadata": {},
     "output_type": "display_data"
    },
    {
     "data": {
      "text/markdown": [
       "446: min Maja , og Egerbarna det ; men <span style='color:red'>jeg</span> <span style='color:red'>er</span> harm over , at det Bud"
      ],
      "text/plain": [
       "<IPython.core.display.Markdown object>"
      ]
     },
     "metadata": {},
     "output_type": "display_data"
    },
    {
     "data": {
      "text/markdown": [
       "497: "
      ],
      "text/plain": [
       "<IPython.core.display.Markdown object>"
      ]
     },
     "metadata": {},
     "output_type": "display_data"
    },
    {
     "data": {
      "text/markdown": [
       "500: » sagde Melin i Dag , « for <span style='color:red'>jeg</span> <span style='color:red'>er</span> saa besynderlig mat » I det"
      ],
      "text/plain": [
       "<IPython.core.display.Markdown object>"
      ]
     },
     "metadata": {},
     "output_type": "display_data"
    },
    {
     "data": {
      "text/markdown": [
       "509: syg , og Lottamoer saa ængstelig , og <span style='color:red'>jeg</span> <span style='color:red'>er</span> saa ængstelig , baade over hvad"
      ],
      "text/plain": [
       "<IPython.core.display.Markdown object>"
      ]
     },
     "metadata": {},
     "output_type": "display_data"
    },
    {
     "data": {
      "text/markdown": [
       "558: . En Aarsag mere til den mørke Stemning <span style='color:red'>jeg</span> <span style='color:red'>er</span> i , og vi alle ved"
      ],
      "text/plain": [
       "<IPython.core.display.Markdown object>"
      ]
     },
     "metadata": {},
     "output_type": "display_data"
    },
    {
     "data": {
      "text/markdown": [
       "617: De kan troe , kiære Moer Koren , <span style='color:red'>jeg</span> <span style='color:red'>er</span> færdig at fraraade alle unge Mennesker"
      ],
      "text/plain": [
       "<IPython.core.display.Markdown object>"
      ]
     },
     "metadata": {},
     "output_type": "display_data"
    },
    {
     "data": {
      "text/markdown": [
       "707: ned i en saa kaldet Fiskerhytte , som <span style='color:red'>jeg</span> <span style='color:red'>er</span> stærkt fristet til at holde for"
      ],
      "text/plain": [
       "<IPython.core.display.Markdown object>"
      ]
     },
     "metadata": {},
     "output_type": "display_data"
    },
    {
     "data": {
      "text/markdown": [
       "784: . Det <span style='color:red'>er</span> et himmelskt Veyr , og <span style='color:red'>jeg</span> <span style='color:red'>er</span> efter denne lille Gang , skiøndt"
      ],
      "text/plain": [
       "<IPython.core.display.Markdown object>"
      ]
     },
     "metadata": {},
     "output_type": "display_data"
    },
    {
     "data": {
      "text/markdown": [
       "786: , og disse endda ikke styrkende . Nu <span style='color:red'>jeg</span> <span style='color:red'>er</span> kommet op , føler <span style='color:red'>jeg</span> mindre"
      ],
      "text/plain": [
       "<IPython.core.display.Markdown object>"
      ]
     },
     "metadata": {},
     "output_type": "display_data"
    },
    {
     "data": {
      "text/markdown": [
       "#### NBkilder_Koren_1809.xml"
      ],
      "text/plain": [
       "<IPython.core.display.Markdown object>"
      ]
     },
     "metadata": {},
     "output_type": "display_data"
    },
    {
     "data": {
      "text/markdown": [
       "50: Gaar Nat , Sneefog og Storm , og <span style='color:red'>jeg</span> <span style='color:red'>er</span> mismodig over at see mit Forsæt"
      ],
      "text/plain": [
       "<IPython.core.display.Markdown object>"
      ]
     },
     "metadata": {},
     "output_type": "display_data"
    },
    {
     "data": {
      "text/markdown": [
       "52: gode , kiærlige , strænge Fader deroppe , <span style='color:red'>jeg</span> <span style='color:red'>er</span> ikke uskiønsom ! Jeg <span style='color:red'>er</span> ikke"
      ],
      "text/plain": [
       "<IPython.core.display.Markdown object>"
      ]
     },
     "metadata": {},
     "output_type": "display_data"
    },
    {
     "data": {
      "text/markdown": [
       "66: mig Venskab og Ømhed , saa lidt som <span style='color:red'>jeg</span> <span style='color:red'>er</span> urimelig nok til at fordre eller"
      ],
      "text/plain": [
       "<IPython.core.display.Markdown object>"
      ]
     },
     "metadata": {},
     "output_type": "display_data"
    },
    {
     "data": {
      "text/markdown": [
       "92: han , naar de seer mig , at <span style='color:red'>jeg</span> <span style='color:red'>er</span> en lille Stoerkar » –"
      ],
      "text/plain": [
       "<IPython.core.display.Markdown object>"
      ]
     },
     "metadata": {},
     "output_type": "display_data"
    },
    {
     "data": {
      "text/markdown": [
       "107: Ja , det var voldsomme Stød – men <span style='color:red'>jeg</span> <span style='color:red'>er</span> stærk . Sørg ikke , I"
      ],
      "text/plain": [
       "<IPython.core.display.Markdown object>"
      ]
     },
     "metadata": {},
     "output_type": "display_data"
    },
    {
     "data": {
      "text/markdown": [
       "138: finde det underligt , mine Dyrebare , at <span style='color:red'>jeg</span> <span style='color:red'>er</span> tungere om Hiertet end sædvanligt ."
      ],
      "text/plain": [
       "<IPython.core.display.Markdown object>"
      ]
     },
     "metadata": {},
     "output_type": "display_data"
    },
    {
     "data": {
      "text/markdown": [
       "282: Dage at skrive . Jeg veed ikke hvordan <span style='color:red'>jeg</span> <span style='color:red'>er</span> . Jeg spiser , drikker og"
      ],
      "text/plain": [
       "<IPython.core.display.Markdown object>"
      ]
     },
     "metadata": {},
     "output_type": "display_data"
    },
    {
     "data": {
      "text/markdown": [
       "291: neste Gang i Vente fra hende . Men <span style='color:red'>jeg</span> <span style='color:red'>er</span> saa vant til at see de"
      ],
      "text/plain": [
       "<IPython.core.display.Markdown object>"
      ]
     },
     "metadata": {},
     "output_type": "display_data"
    },
    {
     "data": {
      "text/markdown": [
       "303: om <span style='color:red'>jeg</span> end vilde og torde . Men <span style='color:red'>jeg</span> <span style='color:red'>er</span> mindre frisk i Dag , end"
      ],
      "text/plain": [
       "<IPython.core.display.Markdown object>"
      ]
     },
     "metadata": {},
     "output_type": "display_data"
    },
    {
     "data": {
      "text/markdown": [
       "306: var ikke frisk – de brave Chrysties ( <span style='color:red'>jeg</span> <span style='color:red'>er</span> von paa Futen , som kun"
      ],
      "text/plain": [
       "<IPython.core.display.Markdown object>"
      ]
     },
     "metadata": {},
     "output_type": "display_data"
    },
    {
     "data": {
      "text/markdown": [
       "316: <span style='color:red'>jeg</span> troer – thi endnu sover alle – <span style='color:red'>jeg</span> <span style='color:red'>er</span> tidlig paa færde – Lehnsmand Riis"
      ],
      "text/plain": [
       "<IPython.core.display.Markdown object>"
      ]
     },
     "metadata": {},
     "output_type": "display_data"
    },
    {
     "data": {
      "text/markdown": [
       "388: her saa seent , mine Elskede ! Men <span style='color:red'>jeg</span> <span style='color:red'>er</span> meget for Orden , som I"
      ],
      "text/plain": [
       "<IPython.core.display.Markdown object>"
      ]
     },
     "metadata": {},
     "output_type": "display_data"
    },
    {
     "data": {
      "text/markdown": [
       "549: "
      ],
      "text/plain": [
       "<IPython.core.display.Markdown object>"
      ]
     },
     "metadata": {},
     "output_type": "display_data"
    },
    {
     "data": {
      "text/markdown": [
       "551: de Velsignede , at vise mig hvor kiær <span style='color:red'>jeg</span> <span style='color:red'>er</span> dem , hvor giærne de vilde"
      ],
      "text/plain": [
       "<IPython.core.display.Markdown object>"
      ]
     },
     "metadata": {},
     "output_type": "display_data"
    },
    {
     "data": {
      "text/markdown": [
       "582: hvad skulde kunde glæde det mere ? Men <span style='color:red'>jeg</span> <span style='color:red'>er</span> meget syg i Dag , sygere"
      ],
      "text/plain": [
       "<IPython.core.display.Markdown object>"
      ]
     },
     "metadata": {},
     "output_type": "display_data"
    },
    {
     "data": {
      "text/markdown": [
       "616: ofte <span style='color:red'>er</span> ligesaa længe mellem hver Gang , <span style='color:red'>jeg</span> <span style='color:red'>er</span> der . Men saa <span style='color:red'>er</span> jeg"
      ],
      "text/plain": [
       "<IPython.core.display.Markdown object>"
      ]
     },
     "metadata": {},
     "output_type": "display_data"
    },
    {
     "data": {
      "text/markdown": [
       "634: De ikke , de velsignede Tøyenmennesker . Men <span style='color:red'>jeg</span> <span style='color:red'>er</span> derved , seer <span style='color:red'>jeg</span> , kommet"
      ],
      "text/plain": [
       "<IPython.core.display.Markdown object>"
      ]
     },
     "metadata": {},
     "output_type": "display_data"
    },
    {
     "data": {
      "text/markdown": [
       "643: , efter al Formodning , <span style='color:red'>er</span> sidste Gang <span style='color:red'>jeg</span> <span style='color:red'>er</span> i Hurdalen , vist sidste Gang"
      ],
      "text/plain": [
       "<IPython.core.display.Markdown object>"
      ]
     },
     "metadata": {},
     "output_type": "display_data"
    },
    {
     "data": {
      "text/markdown": [
       "703: var nogen , var stoer Trøst . Men <span style='color:red'>jeg</span> <span style='color:red'>er</span> slet ikke frisk faaer ingen qvægsom"
      ],
      "text/plain": [
       "<IPython.core.display.Markdown object>"
      ]
     },
     "metadata": {},
     "output_type": "display_data"
    },
    {
     "data": {
      "text/markdown": [
       "708: uden hendes Tab og hendes Broders . Men <span style='color:red'>jeg</span> <span style='color:red'>er</span> ret meget syg , og for"
      ],
      "text/plain": [
       "<IPython.core.display.Markdown object>"
      ]
     },
     "metadata": {},
     "output_type": "display_data"
    },
    {
     "data": {
      "text/markdown": [
       "754: Dag ? Moer vor ! » Ja , <span style='color:red'>jeg</span> <span style='color:red'>er</span> det , og vilde være det"
      ],
      "text/plain": [
       "<IPython.core.display.Markdown object>"
      ]
     },
     "metadata": {},
     "output_type": "display_data"
    },
    {
     "data": {
      "text/markdown": [
       "879: grumme lang Tiid nesten hver Nat drømmer at <span style='color:red'>jeg</span> <span style='color:red'>er</span> ung , undertiden Barn , og"
      ],
      "text/plain": [
       "<IPython.core.display.Markdown object>"
      ]
     },
     "metadata": {},
     "output_type": "display_data"
    },
    {
     "data": {
      "text/markdown": [
       "879: selvsamme Forhold , som nu ? Saadan som <span style='color:red'>jeg</span> <span style='color:red'>er</span> i Vane med at drømme ,"
      ],
      "text/plain": [
       "<IPython.core.display.Markdown object>"
      ]
     },
     "metadata": {},
     "output_type": "display_data"
    },
    {
     "data": {
      "text/markdown": [
       "880: at <span style='color:red'>jeg</span> kunde male ham . Men naa <span style='color:red'>jeg</span> <span style='color:red'>er</span> der , skiænder <span style='color:red'>jeg</span> ikke paa"
      ],
      "text/plain": [
       "<IPython.core.display.Markdown object>"
      ]
     },
     "metadata": {},
     "output_type": "display_data"
    },
    {
     "data": {
      "text/markdown": [
       "888: Ungerne mine , og Gud skee Lov , <span style='color:red'>jeg</span> <span style='color:red'>er</span> her , og at de alle"
      ],
      "text/plain": [
       "<IPython.core.display.Markdown object>"
      ]
     },
     "metadata": {},
     "output_type": "display_data"
    },
    {
     "data": {
      "text/markdown": [
       "905: har giort mig en trediedeel ældre , end <span style='color:red'>jeg</span> <span style='color:red'>er</span> ."
      ],
      "text/plain": [
       "<IPython.core.display.Markdown object>"
      ]
     },
     "metadata": {},
     "output_type": "display_data"
    },
    {
     "data": {
      "text/markdown": [
       "949: Elskelige , engang for alle , hvor vel <span style='color:red'>jeg</span> <span style='color:red'>er</span> der . Nu savnede <span style='color:red'>jeg</span> rigtig"
      ],
      "text/plain": [
       "<IPython.core.display.Markdown object>"
      ]
     },
     "metadata": {},
     "output_type": "display_data"
    },
    {
     "data": {
      "text/markdown": [
       "978: Moer Koren igien . Det <span style='color:red'>er</span> kun her <span style='color:red'>jeg</span> <span style='color:red'>er</span> og kan og bør være ganske"
      ],
      "text/plain": [
       "<IPython.core.display.Markdown object>"
      ]
     },
     "metadata": {},
     "output_type": "display_data"
    },
    {
     "data": {
      "text/markdown": [
       "#### NBkilder_Koren_1810.xml"
      ],
      "text/plain": [
       "<IPython.core.display.Markdown object>"
      ]
     },
     "metadata": {},
     "output_type": "display_data"
    },
    {
     "data": {
      "text/markdown": [
       "35: <span style='color:red'>er</span> færm igien , skiøndt mat , og <span style='color:red'>jeg</span> <span style='color:red'>er</span> færm og ikke mat , skiøndt"
      ],
      "text/plain": [
       "<IPython.core.display.Markdown object>"
      ]
     },
     "metadata": {},
     "output_type": "display_data"
    },
    {
     "data": {
      "text/markdown": [
       "61: Følelse : at holdes for bædre , end <span style='color:red'>jeg</span> <span style='color:red'>er</span> . Det <span style='color:red'>er</span> alt for ofte"
      ],
      "text/plain": [
       "<IPython.core.display.Markdown object>"
      ]
     },
     "metadata": {},
     "output_type": "display_data"
    },
    {
     "data": {
      "text/markdown": [
       "64: "
      ],
      "text/plain": [
       "<IPython.core.display.Markdown object>"
      ]
     },
     "metadata": {},
     "output_type": "display_data"
    },
    {
     "data": {
      "text/markdown": [
       "109: Moer Borchsenius . Tænk Eder da , om <span style='color:red'>jeg</span> <span style='color:red'>er</span> glad i hende . Hofmann vinder"
      ],
      "text/plain": [
       "<IPython.core.display.Markdown object>"
      ]
     },
     "metadata": {},
     "output_type": "display_data"
    },
    {
     "data": {
      "text/markdown": [
       "183: oplagt hertil i Dag , og saa længe <span style='color:red'>jeg</span> <span style='color:red'>er</span> det , ærgrer <span style='color:red'>jeg</span> mig ikke"
      ],
      "text/plain": [
       "<IPython.core.display.Markdown object>"
      ]
     },
     "metadata": {},
     "output_type": "display_data"
    },
    {
     "data": {
      "text/markdown": [
       "222: "
      ],
      "text/plain": [
       "<IPython.core.display.Markdown object>"
      ]
     },
     "metadata": {},
     "output_type": "display_data"
    },
    {
     "data": {
      "text/markdown": [
       "266: ud . O ! bliv dog frisk mens <span style='color:red'>jeg</span> <span style='color:red'>er</span> her !"
      ],
      "text/plain": [
       "<IPython.core.display.Markdown object>"
      ]
     },
     "metadata": {},
     "output_type": "display_data"
    },
    {
     "data": {
      "text/markdown": [
       "268: » sagde <span style='color:red'>jeg</span> . « Mener De , <span style='color:red'>jeg</span> <span style='color:red'>er</span> en Hader af Fruentimmer , fordi"
      ],
      "text/plain": [
       "<IPython.core.display.Markdown object>"
      ]
     },
     "metadata": {},
     "output_type": "display_data"
    },
    {
     "data": {
      "text/markdown": [
       "269: brødefulde Bye , og kommer ey igien mens <span style='color:red'>jeg</span> <span style='color:red'>er</span> her . Min lille Pige henter"
      ],
      "text/plain": [
       "<IPython.core.display.Markdown object>"
      ]
     },
     "metadata": {},
     "output_type": "display_data"
    },
    {
     "data": {
      "text/markdown": [
       "310: Ethvert Blik , enhver Bevægelse siger : « <span style='color:red'>jeg</span> <span style='color:red'>er</span> saa usigelig lykkelig » – Der"
      ],
      "text/plain": [
       "<IPython.core.display.Markdown object>"
      ]
     },
     "metadata": {},
     "output_type": "display_data"
    },
    {
     "data": {
      "text/markdown": [
       "311: har Walbohm bildt Barna her ind , at <span style='color:red'>jeg</span> <span style='color:red'>er</span> mat og svag , og at"
      ],
      "text/plain": [
       "<IPython.core.display.Markdown object>"
      ]
     },
     "metadata": {},
     "output_type": "display_data"
    },
    {
     "data": {
      "text/markdown": [
       "317: afsted . Jeg <span style='color:red'>er</span> ordentlig bædre tilmode siden <span style='color:red'>jeg</span> <span style='color:red'>er</span> vis paa , det skal afsted"
      ],
      "text/plain": [
       "<IPython.core.display.Markdown object>"
      ]
     },
     "metadata": {},
     "output_type": "display_data"
    },
    {
     "data": {
      "text/markdown": [
       "364: fordums Skik altiid blive liggende en Stund efter <span style='color:red'>jeg</span> <span style='color:red'>er</span> vaagnet , hvis <span style='color:red'>jeg</span> ikke vil"
      ],
      "text/plain": [
       "<IPython.core.display.Markdown object>"
      ]
     },
     "metadata": {},
     "output_type": "display_data"
    },
    {
     "data": {
      "text/markdown": [
       "384: sige Eder , mine Elskede , hvor ussel <span style='color:red'>jeg</span> <span style='color:red'>er</span> i Dag . Et Par Breve"
      ],
      "text/plain": [
       "<IPython.core.display.Markdown object>"
      ]
     },
     "metadata": {},
     "output_type": "display_data"
    },
    {
     "data": {
      "text/markdown": [
       "419: : « Og at <span style='color:red'>jeg</span> nu , da <span style='color:red'>jeg</span> <span style='color:red'>er</span> bædre og kiærligere , ikke har"
      ],
      "text/plain": [
       "<IPython.core.display.Markdown object>"
      ]
     },
     "metadata": {},
     "output_type": "display_data"
    },
    {
     "data": {
      "text/markdown": [
       "421: gudlige Væsen af det usle Støv . Naar <span style='color:red'>jeg</span> <span style='color:red'>er</span> saa mat og svag som jeg"
      ],
      "text/plain": [
       "<IPython.core.display.Markdown object>"
      ]
     },
     "metadata": {},
     "output_type": "display_data"
    },
    {
     "data": {
      "text/markdown": [
       "437: Gud veed , hvordan det <span style='color:red'>er</span> , at <span style='color:red'>jeg</span> <span style='color:red'>er</span> , at <span style='color:red'>jeg</span> kan være saa"
      ],
      "text/plain": [
       "<IPython.core.display.Markdown object>"
      ]
     },
     "metadata": {},
     "output_type": "display_data"
    },
    {
     "data": {
      "text/markdown": [
       "463: , og saa giorde <span style='color:red'>jeg</span> , som naar <span style='color:red'>jeg</span> <span style='color:red'>er</span> hiertelig bedrøvet , <span style='color:red'>jeg</span> trykkede det"
      ],
      "text/plain": [
       "<IPython.core.display.Markdown object>"
      ]
     },
     "metadata": {},
     "output_type": "display_data"
    },
    {
     "data": {
      "text/markdown": [
       "473: paa sønlig Kiærlighed . Min beste Tak veed <span style='color:red'>jeg</span> <span style='color:red'>er</span> den Vished , De ikke først"
      ],
      "text/plain": [
       "<IPython.core.display.Markdown object>"
      ]
     },
     "metadata": {},
     "output_type": "display_data"
    },
    {
     "data": {
      "text/markdown": [
       "477: først beroelige Eder med den Forsikring , at <span style='color:red'>jeg</span> <span style='color:red'>er</span> for saa vidt brav , kun"
      ],
      "text/plain": [
       "<IPython.core.display.Markdown object>"
      ]
     },
     "metadata": {},
     "output_type": "display_data"
    },
    {
     "data": {
      "text/markdown": [
       "507: <span style='color:red'>jeg</span> i Gaar , var oppe , som <span style='color:red'>jeg</span> <span style='color:red'>er</span> hver Dag naar <span style='color:red'>jeg</span> <span style='color:red'>er</span> frisk"
      ],
      "text/plain": [
       "<IPython.core.display.Markdown object>"
      ]
     },
     "metadata": {},
     "output_type": "display_data"
    },
    {
     "data": {
      "text/markdown": [
       "507: oppe , som <span style='color:red'>jeg</span> <span style='color:red'>er</span> hver Dag naar <span style='color:red'>jeg</span> <span style='color:red'>er</span> frisk , Kl 5 ½ ,"
      ],
      "text/plain": [
       "<IPython.core.display.Markdown object>"
      ]
     },
     "metadata": {},
     "output_type": "display_data"
    },
    {
     "data": {
      "text/markdown": [
       "545: "
      ],
      "text/plain": [
       "<IPython.core.display.Markdown object>"
      ]
     },
     "metadata": {},
     "output_type": "display_data"
    },
    {
     "data": {
      "text/markdown": [
       "556: ikke at lade den ubesøgt og uprydet mens <span style='color:red'>jeg</span> <span style='color:red'>er</span> borte ."
      ],
      "text/plain": [
       "<IPython.core.display.Markdown object>"
      ]
     },
     "metadata": {},
     "output_type": "display_data"
    },
    {
     "data": {
      "text/markdown": [
       "570: aldrig har seet mig før . Men naar <span style='color:red'>jeg</span> <span style='color:red'>er</span> saadan stemt , kan <span style='color:red'>jeg</span> umuelig"
      ],
      "text/plain": [
       "<IPython.core.display.Markdown object>"
      ]
     },
     "metadata": {},
     "output_type": "display_data"
    },
    {
     "data": {
      "text/markdown": [
       "576: der Du <span style='color:red'>er</span> ! Vær begge Dele som <span style='color:red'>jeg</span> <span style='color:red'>er</span> det i Dag ! Gud give"
      ],
      "text/plain": [
       "<IPython.core.display.Markdown object>"
      ]
     },
     "metadata": {},
     "output_type": "display_data"
    },
    {
     "data": {
      "text/markdown": [
       "576: ) og Thrinasara og Lotta og Lina og <span style='color:red'>jeg</span> <span style='color:red'>er</span> samlede ! Amen , det skee"
      ],
      "text/plain": [
       "<IPython.core.display.Markdown object>"
      ]
     },
     "metadata": {},
     "output_type": "display_data"
    },
    {
     "data": {
      "text/markdown": [
       "591: nok Forkiølelse , maaskee ogsaa Orm . Men <span style='color:red'>jeg</span> <span style='color:red'>er</span> selv rigtig træt og mat ."
      ],
      "text/plain": [
       "<IPython.core.display.Markdown object>"
      ]
     },
     "metadata": {},
     "output_type": "display_data"
    },
    {
     "data": {
      "text/markdown": [
       "605: de skiænder dernede – især Lotta – for <span style='color:red'>jeg</span> <span style='color:red'>er</span> saa længe borte . Det burde"
      ],
      "text/plain": [
       "<IPython.core.display.Markdown object>"
      ]
     },
     "metadata": {},
     "output_type": "display_data"
    },
    {
     "data": {
      "text/markdown": [
       "682: – ak og ikke første Gang – at <span style='color:red'>jeg</span> <span style='color:red'>er</span> ubillig mot mig selv og andre"
      ],
      "text/plain": [
       "<IPython.core.display.Markdown object>"
      ]
     },
     "metadata": {},
     "output_type": "display_data"
    },
    {
     "data": {
      "text/markdown": [
       "682: Maja eller Hertel tør <span style='color:red'>jeg</span> sige hvor bedrøvet <span style='color:red'>jeg</span> <span style='color:red'>er</span> , kun til min Koren ,"
      ],
      "text/plain": [
       "<IPython.core.display.Markdown object>"
      ]
     },
     "metadata": {},
     "output_type": "display_data"
    },
    {
     "data": {
      "text/markdown": [
       "704: bædre og beqvæmmere i alle Henseender , og <span style='color:red'>jeg</span> <span style='color:red'>er</span> tryggere . I al denne Forvirring"
      ],
      "text/plain": [
       "<IPython.core.display.Markdown object>"
      ]
     },
     "metadata": {},
     "output_type": "display_data"
    },
    {
     "data": {
      "text/markdown": [
       "770: , var <span style='color:red'>jeg</span> dog ængstligere da , end <span style='color:red'>jeg</span> <span style='color:red'>er</span> i Dag . Det <span style='color:red'>er</span> hans"
      ],
      "text/plain": [
       "<IPython.core.display.Markdown object>"
      ]
     },
     "metadata": {},
     "output_type": "display_data"
    },
    {
     "data": {
      "text/markdown": [
       "790: Men I skulde dog vide , hvor forfængelig <span style='color:red'>jeg</span> <span style='color:red'>er</span> i Søvne ( « ogsaa ?"
      ],
      "text/plain": [
       "<IPython.core.display.Markdown object>"
      ]
     },
     "metadata": {},
     "output_type": "display_data"
    },
    {
     "data": {
      "text/markdown": [
       "820: hiem uden al Fare og Skade , hvad <span style='color:red'>jeg</span> <span style='color:red'>er</span> fristet til at lade Hr Real"
      ],
      "text/plain": [
       "<IPython.core.display.Markdown object>"
      ]
     },
     "metadata": {},
     "output_type": "display_data"
    },
    {
     "data": {
      "text/markdown": [
       "828: velsignede Tøyen , som <span style='color:red'>jeg</span> længes efter naar <span style='color:red'>jeg</span> <span style='color:red'>er</span> borte fra det , som efter"
      ],
      "text/plain": [
       "<IPython.core.display.Markdown object>"
      ]
     },
     "metadata": {},
     "output_type": "display_data"
    },
    {
     "data": {
      "text/markdown": [
       "898: veed hvor <span style='color:red'>jeg</span> vil hen . Og hvor <span style='color:red'>jeg</span> <span style='color:red'>er</span> , og hvad <span style='color:red'>jeg</span> foretager mig"
      ],
      "text/plain": [
       "<IPython.core.display.Markdown object>"
      ]
     },
     "metadata": {},
     "output_type": "display_data"
    },
    {
     "data": {
      "text/markdown": [
       "898: , Lina og Kaja ikke undtagen ; men <span style='color:red'>jeg</span> <span style='color:red'>er</span> saa mat , at <span style='color:red'>jeg</span> neppe"
      ],
      "text/plain": [
       "<IPython.core.display.Markdown object>"
      ]
     },
     "metadata": {},
     "output_type": "display_data"
    },
    {
     "data": {
      "text/markdown": [
       "909: Jes maae allermindst faae Bogen , just fordi <span style='color:red'>jeg</span> <span style='color:red'>er</span> vis paa , den ikke vilde"
      ],
      "text/plain": [
       "<IPython.core.display.Markdown object>"
      ]
     },
     "metadata": {},
     "output_type": "display_data"
    },
    {
     "data": {
      "text/markdown": [
       "973: ! Vi skal til Bangs . Saa syg <span style='color:red'>jeg</span> <span style='color:red'>er</span> , Gud veed , <span style='color:red'>jeg</span> kan"
      ],
      "text/plain": [
       "<IPython.core.display.Markdown object>"
      ]
     },
     "metadata": {},
     "output_type": "display_data"
    },
    {
     "data": {
      "text/markdown": [
       "976: min , som min <span style='color:red'>er</span> Eders , som <span style='color:red'>jeg</span> <span style='color:red'>er</span> Eders Moer Koren ? ! –"
      ],
      "text/plain": [
       "<IPython.core.display.Markdown object>"
      ]
     },
     "metadata": {},
     "output_type": "display_data"
    },
    {
     "data": {
      "text/markdown": [
       "977: om <span style='color:red'>jeg</span> kan skiule det , hvor nedslagen <span style='color:red'>jeg</span> <span style='color:red'>er</span> –"
      ],
      "text/plain": [
       "<IPython.core.display.Markdown object>"
      ]
     },
     "metadata": {},
     "output_type": "display_data"
    },
    {
     "data": {
      "text/markdown": [
       "1012: « Min Kyse taer <span style='color:red'>jeg</span> ikke paa før <span style='color:red'>jeg</span> <span style='color:red'>er</span> kommet i Vognen » – sagde"
      ],
      "text/plain": [
       "<IPython.core.display.Markdown object>"
      ]
     },
     "metadata": {},
     "output_type": "display_data"
    },
    {
     "data": {
      "text/markdown": [
       "#### NBkilder_Koren_1811.xml"
      ],
      "text/plain": [
       "<IPython.core.display.Markdown object>"
      ]
     },
     "metadata": {},
     "output_type": "display_data"
    },
    {
     "data": {
      "text/markdown": [
       "7: – min Skriver skriver – Nytaarsvers , som <span style='color:red'>jeg</span> <span style='color:red'>er</span> vis paa mange , maaskee endog"
      ],
      "text/plain": [
       "<IPython.core.display.Markdown object>"
      ]
     },
     "metadata": {},
     "output_type": "display_data"
    },
    {
     "data": {
      "text/markdown": [
       "20: at tvivle om Udødeligheden – Følelsen af hvad <span style='color:red'>jeg</span> <span style='color:red'>er</span> Eder , I alle min Siæls"
      ],
      "text/plain": [
       "<IPython.core.display.Markdown object>"
      ]
     },
     "metadata": {},
     "output_type": "display_data"
    },
    {
     "data": {
      "text/markdown": [
       "22: "
      ],
      "text/plain": [
       "<IPython.core.display.Markdown object>"
      ]
     },
     "metadata": {},
     "output_type": "display_data"
    },
    {
     "data": {
      "text/markdown": [
       "24: og saa har <span style='color:red'>jeg</span> altiid travlt , naar <span style='color:red'>jeg</span> <span style='color:red'>er</span> saa lykkelig , <span style='color:red'>jeg</span> kan have"
      ],
      "text/plain": [
       "<IPython.core.display.Markdown object>"
      ]
     },
     "metadata": {},
     "output_type": "display_data"
    },
    {
     "data": {
      "text/markdown": [
       "35: og det fornøyer mig , i hvor nedslagen <span style='color:red'>jeg</span> <span style='color:red'>er</span> –"
      ],
      "text/plain": [
       "<IPython.core.display.Markdown object>"
      ]
     },
     "metadata": {},
     "output_type": "display_data"
    },
    {
     "data": {
      "text/markdown": [
       "43: fra mig før han seer her , at <span style='color:red'>jeg</span> <span style='color:red'>er</span> en Smule von paa ham ."
      ],
      "text/plain": [
       "<IPython.core.display.Markdown object>"
      ]
     },
     "metadata": {},
     "output_type": "display_data"
    },
    {
     "data": {
      "text/markdown": [
       "63: slaae . Men <span style='color:red'>jeg</span> holder , saa lidt <span style='color:red'>jeg</span> <span style='color:red'>er</span> for Kulden , dog mere af"
      ],
      "text/plain": [
       "<IPython.core.display.Markdown object>"
      ]
     },
     "metadata": {},
     "output_type": "display_data"
    },
    {
     "data": {
      "text/markdown": [
       "237: i Dag ? Det ahner mig , og <span style='color:red'>jeg</span> <span style='color:red'>er</span> midt iblandt Eder , og «"
      ],
      "text/plain": [
       "<IPython.core.display.Markdown object>"
      ]
     },
     "metadata": {},
     "output_type": "display_data"
    },
    {
     "data": {
      "text/markdown": [
       "237: signer dig , ottende Dag i April imens <span style='color:red'>jeg</span> <span style='color:red'>er</span> til » –"
      ],
      "text/plain": [
       "<IPython.core.display.Markdown object>"
      ]
     },
     "metadata": {},
     "output_type": "display_data"
    },
    {
     "data": {
      "text/markdown": [
       "270: Tilskuer , og finder , i hvor kiendt <span style='color:red'>jeg</span> <span style='color:red'>er</span> med den , stedse nye og"
      ],
      "text/plain": [
       "<IPython.core.display.Markdown object>"
      ]
     },
     "metadata": {},
     "output_type": "display_data"
    },
    {
     "data": {
      "text/markdown": [
       "282: det maae du troe , bare det at <span style='color:red'>jeg</span> <span style='color:red'>er</span> mat « som en Fendrik »"
      ],
      "text/plain": [
       "<IPython.core.display.Markdown object>"
      ]
     },
     "metadata": {},
     "output_type": "display_data"
    },
    {
     "data": {
      "text/markdown": [
       "289: Men <span style='color:red'>jeg</span> veed ikke hvordan det <span style='color:red'>er</span> , <span style='color:red'>jeg</span> <span style='color:red'>er</span> ordentlig glad i at see ham"
      ],
      "text/plain": [
       "<IPython.core.display.Markdown object>"
      ]
     },
     "metadata": {},
     "output_type": "display_data"
    },
    {
     "data": {
      "text/markdown": [
       "303: og siden har det været taaleligt . Men <span style='color:red'>jeg</span> <span style='color:red'>er</span> grumme mat . God Nat ,"
      ],
      "text/plain": [
       "<IPython.core.display.Markdown object>"
      ]
     },
     "metadata": {},
     "output_type": "display_data"
    },
    {
     "data": {
      "text/markdown": [
       "345: en heel Fragt ligge færdig . Ja , <span style='color:red'>jeg</span> <span style='color:red'>er</span> ret en Smørerinde . Og enda"
      ],
      "text/plain": [
       "<IPython.core.display.Markdown object>"
      ]
     },
     "metadata": {},
     "output_type": "display_data"
    },
    {
     "data": {
      "text/markdown": [
       "347: Ting som til at sige Eder hvor glad <span style='color:red'>jeg</span> <span style='color:red'>er</span> . Til Dagens Mærkværdigheder hører ogsaa"
      ],
      "text/plain": [
       "<IPython.core.display.Markdown object>"
      ]
     },
     "metadata": {},
     "output_type": "display_data"
    },
    {
     "data": {
      "text/markdown": [
       "362: mine , som nu mister ham ! skiøndt <span style='color:red'>jeg</span> <span style='color:red'>er</span> mig selv for nær til at"
      ],
      "text/plain": [
       "<IPython.core.display.Markdown object>"
      ]
     },
     "metadata": {},
     "output_type": "display_data"
    },
    {
     "data": {
      "text/markdown": [
       "369: Drømme . Seer I , mine Elskede , <span style='color:red'>jeg</span> <span style='color:red'>er</span> saa længe vant til det stille"
      ],
      "text/plain": [
       "<IPython.core.display.Markdown object>"
      ]
     },
     "metadata": {},
     "output_type": "display_data"
    },
    {
     "data": {
      "text/markdown": [
       "375: fortæller <span style='color:red'>jeg</span> min hele deltagende Kreds hvor glad <span style='color:red'>jeg</span> <span style='color:red'>er</span> , og saa betroer <span style='color:red'>jeg</span> Dagbogen"
      ],
      "text/plain": [
       "<IPython.core.display.Markdown object>"
      ]
     },
     "metadata": {},
     "output_type": "display_data"
    },
    {
     "data": {
      "text/markdown": [
       "375: lagt sin Pen for stedse , hvor lykkelig <span style='color:red'>jeg</span> <span style='color:red'>er</span> og var og bliver ved al"
      ],
      "text/plain": [
       "<IPython.core.display.Markdown object>"
      ]
     },
     "metadata": {},
     "output_type": "display_data"
    },
    {
     "data": {
      "text/markdown": [
       "381: Dag ere mig lidt til Byrde – thi <span style='color:red'>jeg</span> <span style='color:red'>er</span> hiertelig bedrøvet . Ikke mere over"
      ],
      "text/plain": [
       "<IPython.core.display.Markdown object>"
      ]
     },
     "metadata": {},
     "output_type": "display_data"
    },
    {
     "data": {
      "text/markdown": [
       "420: og Majadal , i det mindste saa længe <span style='color:red'>jeg</span> <span style='color:red'>er</span> vaagen , og selv kan nogenlunde"
      ],
      "text/plain": [
       "<IPython.core.display.Markdown object>"
      ]
     },
     "metadata": {},
     "output_type": "display_data"
    },
    {
     "data": {
      "text/markdown": [
       "423: kan behøve af Majas og Frederichs Bibliotheker mens <span style='color:red'>jeg</span> <span style='color:red'>er</span> der , og der behøver jeg"
      ],
      "text/plain": [
       "<IPython.core.display.Markdown object>"
      ]
     },
     "metadata": {},
     "output_type": "display_data"
    },
    {
     "data": {
      "text/markdown": [
       "447: , hvorhen de har stævnet mig . Men <span style='color:red'>jeg</span> <span style='color:red'>er</span> jo alles Eders Moer Koren ,"
      ],
      "text/plain": [
       "<IPython.core.display.Markdown object>"
      ]
     },
     "metadata": {},
     "output_type": "display_data"
    },
    {
     "data": {
      "text/markdown": [
       "463: Maja , om det ikke <span style='color:red'>er</span> sandt , <span style='color:red'>jeg</span> <span style='color:red'>er</span> bra ? – Før hun ret"
      ],
      "text/plain": [
       "<IPython.core.display.Markdown object>"
      ]
     },
     "metadata": {},
     "output_type": "display_data"
    },
    {
     "data": {
      "text/markdown": [
       "484: Nu gaaer det mig som Baggesen , at <span style='color:red'>jeg</span> <span style='color:red'>er</span> færdig at lægge dem bort «"
      ],
      "text/plain": [
       "<IPython.core.display.Markdown object>"
      ]
     },
     "metadata": {},
     "output_type": "display_data"
    },
    {
     "data": {
      "text/markdown": [
       "490: sidde sammen i Haven og Lunden , og <span style='color:red'>jeg</span> <span style='color:red'>er</span> i Dag saa lidt skikket til"
      ],
      "text/plain": [
       "<IPython.core.display.Markdown object>"
      ]
     },
     "metadata": {},
     "output_type": "display_data"
    },
    {
     "data": {
      "text/markdown": [
       "521: og nu til Præstens . I hvor vant <span style='color:red'>jeg</span> <span style='color:red'>er</span> til at see mig elsket og"
      ],
      "text/plain": [
       "<IPython.core.display.Markdown object>"
      ]
     },
     "metadata": {},
     "output_type": "display_data"
    },
    {
     "data": {
      "text/markdown": [
       "558: her i Huset . Han troer nok , <span style='color:red'>jeg</span> <span style='color:red'>er</span> en meget ugiæstmild Skriverinde , og"
      ],
      "text/plain": [
       "<IPython.core.display.Markdown object>"
      ]
     },
     "metadata": {},
     "output_type": "display_data"
    },
    {
     "data": {
      "text/markdown": [
       "646: fares , som <span style='color:red'>jeg</span> tidt hører , naar <span style='color:red'>jeg</span> <span style='color:red'>er</span> nede og seer til hende ."
      ],
      "text/plain": [
       "<IPython.core.display.Markdown object>"
      ]
     },
     "metadata": {},
     "output_type": "display_data"
    },
    {
     "data": {
      "text/markdown": [
       "648: , og takket Gud i hans Tempel fordi <span style='color:red'>jeg</span> <span style='color:red'>er</span> saa glad . Men <span style='color:red'>er</span> ikke"
      ],
      "text/plain": [
       "<IPython.core.display.Markdown object>"
      ]
     },
     "metadata": {},
     "output_type": "display_data"
    },
    {
     "data": {
      "text/markdown": [
       "673: <span style='color:red'>jeg</span> har skyndt mig , og hvor ofte <span style='color:red'>jeg</span> <span style='color:red'>er</span> blevet afbrudt . Der <span style='color:red'>er</span> nu"
      ],
      "text/plain": [
       "<IPython.core.display.Markdown object>"
      ]
     },
     "metadata": {},
     "output_type": "display_data"
    },
    {
     "data": {
      "text/markdown": [
       "728: , for at see min Rikke , da <span style='color:red'>jeg</span> <span style='color:red'>er</span> hende saa nær , engang endnu"
      ],
      "text/plain": [
       "<IPython.core.display.Markdown object>"
      ]
     },
     "metadata": {},
     "output_type": "display_data"
    },
    {
     "data": {
      "text/markdown": [
       "758: af de faa Ting hvorpaa <span style='color:red'>jeg</span> kiender , <span style='color:red'>jeg</span> <span style='color:red'>er</span> blevet gammel , at <span style='color:red'>jeg</span> har"
      ],
      "text/plain": [
       "<IPython.core.display.Markdown object>"
      ]
     },
     "metadata": {},
     "output_type": "display_data"
    },
    {
     "data": {
      "text/markdown": [
       "833: <span style='color:red'>er</span> kun Frysen og Tørst tilbage . Men <span style='color:red'>jeg</span> <span style='color:red'>er</span> grumme mat – Sovet har jeg"
      ],
      "text/plain": [
       "<IPython.core.display.Markdown object>"
      ]
     },
     "metadata": {},
     "output_type": "display_data"
    },
    {
     "data": {
      "text/markdown": [
       "#### NBkilder_Koren_1812.xml"
      ],
      "text/plain": [
       "<IPython.core.display.Markdown object>"
      ]
     },
     "metadata": {},
     "output_type": "display_data"
    },
    {
     "data": {
      "text/markdown": [
       "16: Gud skee Tak ikke <span style='color:red'>er</span> Tilfældet , da <span style='color:red'>jeg</span> <span style='color:red'>er</span> meget bædre , og Veyret taaleligt"
      ],
      "text/plain": [
       "<IPython.core.display.Markdown object>"
      ]
     },
     "metadata": {},
     "output_type": "display_data"
    },
    {
     "data": {
      "text/markdown": [
       "28: naar <span style='color:red'>jeg</span> lider , og glæder sig naar <span style='color:red'>jeg</span> <span style='color:red'>er</span> glad [ . ] Nu er"
      ],
      "text/plain": [
       "<IPython.core.display.Markdown object>"
      ]
     },
     "metadata": {},
     "output_type": "display_data"
    },
    {
     "data": {
      "text/markdown": [
       "30: drikker Caffe , tilbringer <span style='color:red'>jeg</span> stedse , naar <span style='color:red'>jeg</span> <span style='color:red'>er</span> i mit daglige Lag , læsende"
      ],
      "text/plain": [
       "<IPython.core.display.Markdown object>"
      ]
     },
     "metadata": {},
     "output_type": "display_data"
    },
    {
     "data": {
      "text/markdown": [
       "49: Psalmebog eller i Mare Zolls Andagtsbog . Men <span style='color:red'>jeg</span> <span style='color:red'>er</span> vis paa , at hendes fromme"
      ],
      "text/plain": [
       "<IPython.core.display.Markdown object>"
      ]
     },
     "metadata": {},
     "output_type": "display_data"
    },
    {
     "data": {
      "text/markdown": [
       "67: deylig Dag , det veed <span style='color:red'>jeg</span> . Men <span style='color:red'>jeg</span> <span style='color:red'>er</span> syg og mat af den evindelige"
      ],
      "text/plain": [
       "<IPython.core.display.Markdown object>"
      ]
     },
     "metadata": {},
     "output_type": "display_data"
    },
    {
     "data": {
      "text/markdown": [
       "87: han lige velsignet og sød igien . O <span style='color:red'>jeg</span> <span style='color:red'>er</span> saa glad i dette Barn med"
      ],
      "text/plain": [
       "<IPython.core.display.Markdown object>"
      ]
     },
     "metadata": {},
     "output_type": "display_data"
    },
    {
     "data": {
      "text/markdown": [
       "103: . Seer I , Elskede , hvor vis <span style='color:red'>jeg</span> <span style='color:red'>er</span> paa , at alt hvad der"
      ],
      "text/plain": [
       "<IPython.core.display.Markdown object>"
      ]
     },
     "metadata": {},
     "output_type": "display_data"
    },
    {
     "data": {
      "text/markdown": [
       "123: dog maae beskrive Eder lidt nøyere , da <span style='color:red'>jeg</span> <span style='color:red'>er</span> vis paa , I aldrig saae"
      ],
      "text/plain": [
       "<IPython.core.display.Markdown object>"
      ]
     },
     "metadata": {},
     "output_type": "display_data"
    },
    {
     "data": {
      "text/markdown": [
       "125: meget om de ventede glade Dage , og <span style='color:red'>jeg</span> <span style='color:red'>er</span> blevet alt bædre og bædre ,"
      ],
      "text/plain": [
       "<IPython.core.display.Markdown object>"
      ]
     },
     "metadata": {},
     "output_type": "display_data"
    },
    {
     "data": {
      "text/markdown": [
       "128: . Telja bager Munker til dem , og <span style='color:red'>jeg</span> <span style='color:red'>er</span> vis paa det bliver en Glædskabsfest"
      ],
      "text/plain": [
       "<IPython.core.display.Markdown object>"
      ]
     },
     "metadata": {},
     "output_type": "display_data"
    },
    {
     "data": {
      "text/markdown": [
       "139: . I seer , Elskede , hvor langt <span style='color:red'>jeg</span> <span style='color:red'>er</span> kommet i Journalen , og desforuden"
      ],
      "text/plain": [
       "<IPython.core.display.Markdown object>"
      ]
     },
     "metadata": {},
     "output_type": "display_data"
    },
    {
     "data": {
      "text/markdown": [
       "151: Men tænk saa ogsaa paa , hvor syg <span style='color:red'>jeg</span> <span style='color:red'>er</span> i Dag , og at jeg"
      ],
      "text/plain": [
       "<IPython.core.display.Markdown object>"
      ]
     },
     "metadata": {},
     "output_type": "display_data"
    },
    {
     "data": {
      "text/markdown": [
       "164: hende stille Dals Arme og Skiød , som <span style='color:red'>jeg</span> <span style='color:red'>er</span> vis paa , aldrig vil blive"
      ],
      "text/plain": [
       "<IPython.core.display.Markdown object>"
      ]
     },
     "metadata": {},
     "output_type": "display_data"
    },
    {
     "data": {
      "text/markdown": [
       "171: andet til min unge Ven Bergh , som <span style='color:red'>jeg</span> <span style='color:red'>er</span> vis paa vil opfylde hvad jeg"
      ],
      "text/plain": [
       "<IPython.core.display.Markdown object>"
      ]
     },
     "metadata": {},
     "output_type": "display_data"
    },
    {
     "data": {
      "text/markdown": [
       "175: Børn , et nyt Beviis paa , at <span style='color:red'>jeg</span> <span style='color:red'>er</span> hiemme . Fader Pedro kom hiem"
      ],
      "text/plain": [
       "<IPython.core.display.Markdown object>"
      ]
     },
     "metadata": {},
     "output_type": "display_data"
    },
    {
     "data": {
      "text/markdown": [
       "185: – see , nu troer <span style='color:red'>jeg</span> saa men <span style='color:red'>jeg</span> <span style='color:red'>er</span> færdig . At Maja P :"
      ],
      "text/plain": [
       "<IPython.core.display.Markdown object>"
      ]
     },
     "metadata": {},
     "output_type": "display_data"
    },
    {
     "data": {
      "text/markdown": [
       "204: reyste herfra , ryster paa Hovedet . O <span style='color:red'>jeg</span> <span style='color:red'>er</span> i en hiertelig Angest . See"
      ],
      "text/plain": [
       "<IPython.core.display.Markdown object>"
      ]
     },
     "metadata": {},
     "output_type": "display_data"
    },
    {
     "data": {
      "text/markdown": [
       "230: Pligttour giort i Morgen til Eidsvoldværk , hvorhen <span style='color:red'>jeg</span> <span style='color:red'>er</span> buden med min Koren , som"
      ],
      "text/plain": [
       "<IPython.core.display.Markdown object>"
      ]
     },
     "metadata": {},
     "output_type": "display_data"
    },
    {
     "data": {
      "text/markdown": [
       "307: Eder , Elskede , hvor let og fro <span style='color:red'>jeg</span> <span style='color:red'>er</span> . Det kommer vel ogsaa af"
      ],
      "text/plain": [
       "<IPython.core.display.Markdown object>"
      ]
     },
     "metadata": {},
     "output_type": "display_data"
    },
    {
     "data": {
      "text/markdown": [
       "323: kan <span style='color:red'>jeg</span> jo nok betroe dem , at <span style='color:red'>jeg</span> <span style='color:red'>er</span> ret meget syg . Egentlig føler"
      ],
      "text/plain": [
       "<IPython.core.display.Markdown object>"
      ]
     },
     "metadata": {},
     "output_type": "display_data"
    },
    {
     "data": {
      "text/markdown": [
       "326: og nødt til at giøre mig stærkere end <span style='color:red'>jeg</span> <span style='color:red'>er</span> , da alles Øyne vogte paa"
      ],
      "text/plain": [
       "<IPython.core.display.Markdown object>"
      ]
     },
     "metadata": {},
     "output_type": "display_data"
    },
    {
     "data": {
      "text/markdown": [
       "331: blive . Mere siden , mine Elskede ! <span style='color:red'>jeg</span> <span style='color:red'>er</span> saa mat , at <span style='color:red'>jeg</span> maae"
      ],
      "text/plain": [
       "<IPython.core.display.Markdown object>"
      ]
     },
     "metadata": {},
     "output_type": "display_data"
    },
    {
     "data": {
      "text/markdown": [
       "332: fast altiid , og dog kanske meest naar <span style='color:red'>jeg</span> <span style='color:red'>er</span> syg , begriber mere med Hiertet"
      ],
      "text/plain": [
       "<IPython.core.display.Markdown object>"
      ]
     },
     "metadata": {},
     "output_type": "display_data"
    },
    {
     "data": {
      "text/markdown": [
       "336: kommer mit Mismod vel meget af , at <span style='color:red'>jeg</span> <span style='color:red'>er</span> saa svag – o , I"
      ],
      "text/plain": [
       "<IPython.core.display.Markdown object>"
      ]
     },
     "metadata": {},
     "output_type": "display_data"
    },
    {
     "data": {
      "text/markdown": [
       "339: vor ! » – Ney , Børn , <span style='color:red'>jeg</span> <span style='color:red'>er</span> saa men lys vaagen . I"
      ],
      "text/plain": [
       "<IPython.core.display.Markdown object>"
      ]
     },
     "metadata": {},
     "output_type": "display_data"
    },
    {
     "data": {
      "text/markdown": [
       "353: Uge . Det <span style='color:red'>er</span> ikke Ret , at <span style='color:red'>jeg</span> <span style='color:red'>er</span> saa meget borte fra Kista mi"
      ],
      "text/plain": [
       "<IPython.core.display.Markdown object>"
      ]
     },
     "metadata": {},
     "output_type": "display_data"
    },
    {
     "data": {
      "text/markdown": [
       "372: om Brylluppet og Alskens andre Ting . At <span style='color:red'>jeg</span> <span style='color:red'>er</span> meget færm i Dag , troer"
      ],
      "text/plain": [
       "<IPython.core.display.Markdown object>"
      ]
     },
     "metadata": {},
     "output_type": "display_data"
    },
    {
     "data": {
      "text/markdown": [
       "412: mig ikke , og – kort sagt , <span style='color:red'>jeg</span> <span style='color:red'>er</span> heel underlig tilmode . Dog ikke"
      ],
      "text/plain": [
       "<IPython.core.display.Markdown object>"
      ]
     },
     "metadata": {},
     "output_type": "display_data"
    },
    {
     "data": {
      "text/markdown": [
       "420: , paa egen Haand havde kiøbt , hvorfor <span style='color:red'>jeg</span> <span style='color:red'>er</span> ham meget forbunden , og kan"
      ],
      "text/plain": [
       "<IPython.core.display.Markdown object>"
      ]
     },
     "metadata": {},
     "output_type": "display_data"
    },
    {
     "data": {
      "text/markdown": [
       "425: et Par Ord til min Lotta , men <span style='color:red'>jeg</span> <span style='color:red'>er</span> saa søvning og træt , at"
      ],
      "text/plain": [
       "<IPython.core.display.Markdown object>"
      ]
     },
     "metadata": {},
     "output_type": "display_data"
    },
    {
     "data": {
      "text/markdown": [
       "429: Øynene , deraf kommer det vel , at <span style='color:red'>jeg</span> <span style='color:red'>er</span> genegen til at troe , Rygtet"
      ],
      "text/plain": [
       "<IPython.core.display.Markdown object>"
      ]
     },
     "metadata": {},
     "output_type": "display_data"
    },
    {
     "data": {
      "text/markdown": [
       "453: , og kan ikke tage bort , saa <span style='color:red'>jeg</span> <span style='color:red'>er</span> bange , det faaer blive ved"
      ],
      "text/plain": [
       "<IPython.core.display.Markdown object>"
      ]
     },
     "metadata": {},
     "output_type": "display_data"
    },
    {
     "data": {
      "text/markdown": [
       "458: sad hos hende her paa mit Kammer naar <span style='color:red'>jeg</span> <span style='color:red'>er</span> her ene , hvor hun har"
      ],
      "text/plain": [
       "<IPython.core.display.Markdown object>"
      ]
     },
     "metadata": {},
     "output_type": "display_data"
    },
    {
     "data": {
      "text/markdown": [
       "469: saa let og roelig om Hiertet , som <span style='color:red'>jeg</span> <span style='color:red'>er</span> endnu ; thi Gud skee Lov"
      ],
      "text/plain": [
       "<IPython.core.display.Markdown object>"
      ]
     },
     "metadata": {},
     "output_type": "display_data"
    },
    {
     "data": {
      "text/markdown": [
       "469: ellers skikket til nogen lang Vandring , da <span style='color:red'>jeg</span> <span style='color:red'>er</span> saa underlig mo i mine Knæe"
      ],
      "text/plain": [
       "<IPython.core.display.Markdown object>"
      ]
     },
     "metadata": {},
     "output_type": "display_data"
    },
    {
     "data": {
      "text/markdown": [
       "478: Venskab udklækkedes den , fra Følelsen af hvad <span style='color:red'>jeg</span> <span style='color:red'>er</span> ved Eder , har den sit"
      ],
      "text/plain": [
       "<IPython.core.display.Markdown object>"
      ]
     },
     "metadata": {},
     "output_type": "display_data"
    },
    {
     "data": {
      "text/markdown": [
       "485: ondt midt under det venstre Fodblad , saa <span style='color:red'>jeg</span> <span style='color:red'>er</span> færdig at skrige af Smerte naar"
      ],
      "text/plain": [
       "<IPython.core.display.Markdown object>"
      ]
     },
     "metadata": {},
     "output_type": "display_data"
    },
    {
     "data": {
      "text/markdown": [
       "489: Høstdag . Det <span style='color:red'>er</span> ikke for mig selv <span style='color:red'>jeg</span> <span style='color:red'>er</span> utaalmodig . Jeg <span style='color:red'>er</span> taalelig brav"
      ],
      "text/plain": [
       "<IPython.core.display.Markdown object>"
      ]
     },
     "metadata": {},
     "output_type": "display_data"
    },
    {
     "data": {
      "text/markdown": [
       "494: Koren . O hvor <span style='color:red'>jeg</span> takker Gud fordi <span style='color:red'>jeg</span> <span style='color:red'>er</span> her . Hvor langt ængsteligere var"
      ],
      "text/plain": [
       "<IPython.core.display.Markdown object>"
      ]
     },
     "metadata": {},
     "output_type": "display_data"
    },
    {
     "data": {
      "text/markdown": [
       "497: saa troet – Jeg veed ikke , hvorfor <span style='color:red'>jeg</span> <span style='color:red'>er</span> saa hiertelig bedrøvet i denne Aftenstund"
      ],
      "text/plain": [
       "<IPython.core.display.Markdown object>"
      ]
     },
     "metadata": {},
     "output_type": "display_data"
    },
    {
     "data": {
      "text/markdown": [
       "501: ere , takker <span style='color:red'>jeg</span> Gud inderlig , at <span style='color:red'>jeg</span> <span style='color:red'>er</span> her . I Majas matte Smiil"
      ],
      "text/plain": [
       "<IPython.core.display.Markdown object>"
      ]
     },
     "metadata": {},
     "output_type": "display_data"
    },
    {
     "data": {
      "text/markdown": [
       "501: det bekymrede barnlige Hierte , føler <span style='color:red'>jeg</span> hvad <span style='color:red'>jeg</span> <span style='color:red'>er</span> hende , hvilken Trøst og Støtte"
      ],
      "text/plain": [
       "<IPython.core.display.Markdown object>"
      ]
     },
     "metadata": {},
     "output_type": "display_data"
    },
    {
     "data": {
      "text/markdown": [
       "501: var <span style='color:red'>jeg</span> end mindre for de Dyrebare end <span style='color:red'>jeg</span> <span style='color:red'>er</span> , takkede <span style='color:red'>jeg</span> dog Gud at"
      ],
      "text/plain": [
       "<IPython.core.display.Markdown object>"
      ]
     },
     "metadata": {},
     "output_type": "display_data"
    },
    {
     "data": {
      "text/markdown": [
       "516: I tænke Eder , Elskte , hvor glad <span style='color:red'>jeg</span> <span style='color:red'>er</span> . Vidste I det nu kun"
      ],
      "text/plain": [
       "<IPython.core.display.Markdown object>"
      ]
     },
     "metadata": {},
     "output_type": "display_data"
    },
    {
     "data": {
      "text/markdown": [
       "519: haaber vist , godt . Den glade Sindsstemning <span style='color:red'>jeg</span> <span style='color:red'>er</span> i , bebuder mig det ."
      ],
      "text/plain": [
       "<IPython.core.display.Markdown object>"
      ]
     },
     "metadata": {},
     "output_type": "display_data"
    },
    {
     "data": {
      "text/markdown": [
       "521: milde Kraft . Saa kan det vel være <span style='color:red'>jeg</span> <span style='color:red'>er</span> kuldskiærere nu end ellers , da"
      ],
      "text/plain": [
       "<IPython.core.display.Markdown object>"
      ]
     },
     "metadata": {},
     "output_type": "display_data"
    },
    {
     "data": {
      "text/markdown": [
       "548: "
      ],
      "text/plain": [
       "<IPython.core.display.Markdown object>"
      ]
     },
     "metadata": {},
     "output_type": "display_data"
    },
    {
     "data": {
      "text/markdown": [
       "555: Siæl i disse Dage , om hvor ubillig <span style='color:red'>jeg</span> <span style='color:red'>er</span> naar noget gaaer mig imod ."
      ],
      "text/plain": [
       "<IPython.core.display.Markdown object>"
      ]
     },
     "metadata": {},
     "output_type": "display_data"
    },
    {
     "data": {
      "text/markdown": [
       "574: Blade kunde vidne med mig , hvor uskyldig <span style='color:red'>jeg</span> <span style='color:red'>er</span> . Men nu har <span style='color:red'>jeg</span> skrevet"
      ],
      "text/plain": [
       "<IPython.core.display.Markdown object>"
      ]
     },
     "metadata": {},
     "output_type": "display_data"
    },
    {
     "data": {
      "text/markdown": [
       "582: Det regner og tordner og blæser , og <span style='color:red'>jeg</span> <span style='color:red'>er</span> færdig med alt mit Mod selv"
      ],
      "text/plain": [
       "<IPython.core.display.Markdown object>"
      ]
     },
     "metadata": {},
     "output_type": "display_data"
    },
    {
     "data": {
      "text/markdown": [
       "610: Rikke ligesaa , og lie bli lell fordi <span style='color:red'>jeg</span> <span style='color:red'>er</span> saa længe borte ."
      ],
      "text/plain": [
       "<IPython.core.display.Markdown object>"
      ]
     },
     "metadata": {},
     "output_type": "display_data"
    },
    {
     "data": {
      "text/markdown": [
       "657: . Og det <span style='color:red'>er</span> ingen Feberkulde , thi <span style='color:red'>jeg</span> <span style='color:red'>er</span> i Dag ret færm , og"
      ],
      "text/plain": [
       "<IPython.core.display.Markdown object>"
      ]
     },
     "metadata": {},
     "output_type": "display_data"
    },
    {
     "data": {
      "text/markdown": [
       "669: kunde jo heller ikke vide , hvor glad <span style='color:red'>jeg</span> <span style='color:red'>er</span> i min Moer Korens Veninde »"
      ],
      "text/plain": [
       "<IPython.core.display.Markdown object>"
      ]
     },
     "metadata": {},
     "output_type": "display_data"
    },
    {
     "data": {
      "text/markdown": [
       "673: og , hvad der <span style='color:red'>er</span> det værste , <span style='color:red'>jeg</span> <span style='color:red'>er</span> selv Skyld i det : thi"
      ],
      "text/plain": [
       "<IPython.core.display.Markdown object>"
      ]
     },
     "metadata": {},
     "output_type": "display_data"
    },
    {
     "data": {
      "text/markdown": [
       "692: giør det jo i dette Øyeblik . At <span style='color:red'>jeg</span> <span style='color:red'>er</span> saa beklæmt , kommer vel af"
      ],
      "text/plain": [
       "<IPython.core.display.Markdown object>"
      ]
     },
     "metadata": {},
     "output_type": "display_data"
    },
    {
     "data": {
      "text/markdown": [
       "714: raske Mand , som nu vel troer , <span style='color:red'>jeg</span> <span style='color:red'>er</span> en heel Politikus . Han opholdt"
      ],
      "text/plain": [
       "<IPython.core.display.Markdown object>"
      ]
     },
     "metadata": {},
     "output_type": "display_data"
    },
    {
     "data": {
      "text/markdown": [
       "731: thi I maae vide , mine Børn , <span style='color:red'>jeg</span> <span style='color:red'>er</span> en reen Fusker i Korthaandværket ."
      ],
      "text/plain": [
       "<IPython.core.display.Markdown object>"
      ]
     },
     "metadata": {},
     "output_type": "display_data"
    },
    {
     "data": {
      "text/markdown": [
       "754: mig glade Efterretninger . Jeg veed ikke hvorfor <span style='color:red'>jeg</span> <span style='color:red'>er</span> saa ængstelig , og ikke kan"
      ],
      "text/plain": [
       "<IPython.core.display.Markdown object>"
      ]
     },
     "metadata": {},
     "output_type": "display_data"
    },
    {
     "data": {
      "text/markdown": [
       "759: Maja C , som vel maae synes , <span style='color:red'>jeg</span> <span style='color:red'>er</span> et underligt Dyr , der lod"
      ],
      "text/plain": [
       "<IPython.core.display.Markdown object>"
      ]
     },
     "metadata": {},
     "output_type": "display_data"
    },
    {
     "data": {
      "text/markdown": [
       "798: nesten ligesaa tungt som hiin Geschichte ; thi <span style='color:red'>jeg</span> <span style='color:red'>er</span> saa bange for , at vi"
      ],
      "text/plain": [
       "<IPython.core.display.Markdown object>"
      ]
     },
     "metadata": {},
     "output_type": "display_data"
    },
    {
     "data": {
      "text/markdown": [
       "803: og til blæser det ogsaa lidt , og <span style='color:red'>jeg</span> <span style='color:red'>er</span> meget bædre ."
      ],
      "text/plain": [
       "<IPython.core.display.Markdown object>"
      ]
     },
     "metadata": {},
     "output_type": "display_data"
    },
    {
     "data": {
      "text/markdown": [
       "870: , snart at kunde besvare mundtlig . Den <span style='color:red'>jeg</span> <span style='color:red'>er</span> i størst Gield hos , er"
      ],
      "text/plain": [
       "<IPython.core.display.Markdown object>"
      ]
     },
     "metadata": {},
     "output_type": "display_data"
    },
    {
     "data": {
      "text/markdown": [
       "873: <span style='color:red'>jeg</span> nu siger Eder , Dyrebare , at <span style='color:red'>jeg</span> <span style='color:red'>er</span> meget bædre , troer I mig"
      ],
      "text/plain": [
       "<IPython.core.display.Markdown object>"
      ]
     },
     "metadata": {},
     "output_type": "display_data"
    },
    {
     "data": {
      "text/markdown": [
       "874: . Der kommer bestandig ingen Snee , og <span style='color:red'>jeg</span> <span style='color:red'>er</span> bestandig ret en Usling . Egentlig"
      ],
      "text/plain": [
       "<IPython.core.display.Markdown object>"
      ]
     },
     "metadata": {},
     "output_type": "display_data"
    },
    {
     "data": {
      "text/markdown": [
       "876: en Slæde sidder man dog ikke ) da <span style='color:red'>jeg</span> <span style='color:red'>er</span> mindre end frisk , og har"
      ],
      "text/plain": [
       "<IPython.core.display.Markdown object>"
      ]
     },
     "metadata": {},
     "output_type": "display_data"
    },
    {
     "data": {
      "text/markdown": [
       "877: Søvn . Et Beviis paa , hvilken Stakkel <span style='color:red'>jeg</span> <span style='color:red'>er</span> bleven . Thi det gier mig"
      ],
      "text/plain": [
       "<IPython.core.display.Markdown object>"
      ]
     },
     "metadata": {},
     "output_type": "display_data"
    },
    {
     "data": {
      "text/markdown": [
       "885: Hun ligger saa stille . Jeg synes ogsaa <span style='color:red'>jeg</span> <span style='color:red'>er</span> bædre saa længe <span style='color:red'>jeg</span> sidder stille"
      ],
      "text/plain": [
       "<IPython.core.display.Markdown object>"
      ]
     },
     "metadata": {},
     "output_type": "display_data"
    },
    {
     "data": {
      "text/markdown": [
       "902: have det at gogiøre sig med , naar <span style='color:red'>jeg</span> <span style='color:red'>er</span> borte . Majalild bliver her til"
      ],
      "text/plain": [
       "<IPython.core.display.Markdown object>"
      ]
     },
     "metadata": {},
     "output_type": "display_data"
    },
    {
     "data": {
      "text/markdown": [
       "#### NBkilder_Koren_1813.xml"
      ],
      "text/plain": [
       "<IPython.core.display.Markdown object>"
      ]
     },
     "metadata": {},
     "output_type": "display_data"
    },
    {
     "data": {
      "text/markdown": [
       "26: vil I , som veed hvilken upartisk Moder <span style='color:red'>jeg</span> <span style='color:red'>er</span> , ogsaa vist troe . Gud"
      ],
      "text/plain": [
       "<IPython.core.display.Markdown object>"
      ]
     },
     "metadata": {},
     "output_type": "display_data"
    },
    {
     "data": {
      "text/markdown": [
       "31: længe fra Lotta mi den korte Tiid , <span style='color:red'>jeg</span> <span style='color:red'>er</span> hos hende – dog , der"
      ],
      "text/plain": [
       "<IPython.core.display.Markdown object>"
      ]
     },
     "metadata": {},
     "output_type": "display_data"
    },
    {
     "data": {
      "text/markdown": [
       "40: har spiist , hvile mig lidt , thi <span style='color:red'>jeg</span> <span style='color:red'>er</span> ikke ret brav i Dag ,"
      ],
      "text/plain": [
       "<IPython.core.display.Markdown object>"
      ]
     },
     "metadata": {},
     "output_type": "display_data"
    },
    {
     "data": {
      "text/markdown": [
       "51: dette Ønske opfyldt , Barnet mit , og <span style='color:red'>jeg</span> <span style='color:red'>er</span> ogsaa glad ved at kunde see"
      ],
      "text/plain": [
       "<IPython.core.display.Markdown object>"
      ]
     },
     "metadata": {},
     "output_type": "display_data"
    },
    {
     "data": {
      "text/markdown": [
       "60: været ovre og hilset paa Borches , men <span style='color:red'>jeg</span> <span style='color:red'>er</span> rigtig syg i Dag , og"
      ],
      "text/plain": [
       "<IPython.core.display.Markdown object>"
      ]
     },
     "metadata": {},
     "output_type": "display_data"
    },
    {
     "data": {
      "text/markdown": [
       "60: vi skal til Rørbyes , den sidste Dag <span style='color:red'>jeg</span> <span style='color:red'>er</span> her – ak , hvor er"
      ],
      "text/plain": [
       "<IPython.core.display.Markdown object>"
      ]
     },
     "metadata": {},
     "output_type": "display_data"
    },
    {
     "data": {
      "text/markdown": [
       "72: og dermed vil det gaae langsomt , da <span style='color:red'>jeg</span> <span style='color:red'>er</span> grumme mat , og har havt"
      ],
      "text/plain": [
       "<IPython.core.display.Markdown object>"
      ]
     },
     "metadata": {},
     "output_type": "display_data"
    },
    {
     "data": {
      "text/markdown": [
       "75: og hun havde saa godt Følge , at <span style='color:red'>jeg</span> <span style='color:red'>er</span> ganske roelig for det kiære Børn"
      ],
      "text/plain": [
       "<IPython.core.display.Markdown object>"
      ]
     },
     "metadata": {},
     "output_type": "display_data"
    },
    {
     "data": {
      "text/markdown": [
       "77: Denne Blæst skylder <span style='color:red'>jeg</span> ogsaa for , at <span style='color:red'>jeg</span> <span style='color:red'>er</span> mindre rask end i Gaar ."
      ],
      "text/plain": [
       "<IPython.core.display.Markdown object>"
      ]
     },
     "metadata": {},
     "output_type": "display_data"
    },
    {
     "data": {
      "text/markdown": [
       "93: Gange at sige Eder hvor glad og lykkelig <span style='color:red'>jeg</span> <span style='color:red'>er</span> ved min Majas Side , blandt"
      ],
      "text/plain": [
       "<IPython.core.display.Markdown object>"
      ]
     },
     "metadata": {},
     "output_type": "display_data"
    },
    {
     "data": {
      "text/markdown": [
       "97: sang vor kiære Giæst ( I veed , <span style='color:red'>jeg</span> <span style='color:red'>er</span> hiemme paa Auestad som hos alle"
      ],
      "text/plain": [
       "<IPython.core.display.Markdown object>"
      ]
     },
     "metadata": {},
     "output_type": "display_data"
    },
    {
     "data": {
      "text/markdown": [
       "99: . « Jeg faaer altiid godt Veyr naar <span style='color:red'>jeg</span> <span style='color:red'>er</span> ude og reyser » sagde Faer"
      ],
      "text/plain": [
       "<IPython.core.display.Markdown object>"
      ]
     },
     "metadata": {},
     "output_type": "display_data"
    },
    {
     "data": {
      "text/markdown": [
       "103: var saa utaalmodig som en Elsker ( siden <span style='color:red'>jeg</span> <span style='color:red'>er</span> saa nær det halve Secel tør"
      ],
      "text/plain": [
       "<IPython.core.display.Markdown object>"
      ]
     },
     "metadata": {},
     "output_type": "display_data"
    },
    {
     "data": {
      "text/markdown": [
       "155: <span style='color:red'>er</span> hun brav , siger hun , og <span style='color:red'>jeg</span> <span style='color:red'>er</span> det virkelig , om kun ikke"
      ],
      "text/plain": [
       "<IPython.core.display.Markdown object>"
      ]
     },
     "metadata": {},
     "output_type": "display_data"
    },
    {
     "data": {
      "text/markdown": [
       "183: det første <span style='color:red'>jeg</span> fortæller Eder være , at <span style='color:red'>jeg</span> <span style='color:red'>er</span> overmaade rask i Dag , og"
      ],
      "text/plain": [
       "<IPython.core.display.Markdown object>"
      ]
     },
     "metadata": {},
     "output_type": "display_data"
    },
    {
     "data": {
      "text/markdown": [
       "188: . O , at de saae hvor frisk <span style='color:red'>jeg</span> <span style='color:red'>er</span> , hvor godt <span style='color:red'>jeg</span> har det"
      ],
      "text/plain": [
       "<IPython.core.display.Markdown object>"
      ]
     },
     "metadata": {},
     "output_type": "display_data"
    },
    {
     "data": {
      "text/markdown": [
       "198: vi lever i sød Roe , og at <span style='color:red'>jeg</span> <span style='color:red'>er</span> ret dygtig frisk . Om Formiddagen"
      ],
      "text/plain": [
       "<IPython.core.display.Markdown object>"
      ]
     },
     "metadata": {},
     "output_type": "display_data"
    },
    {
     "data": {
      "text/markdown": [
       "257: lidt længere ; og saa stoer en Hader <span style='color:red'>jeg</span> <span style='color:red'>er</span> af Skiændselsstøtter , denne os elskelige"
      ],
      "text/plain": [
       "<IPython.core.display.Markdown object>"
      ]
     },
     "metadata": {},
     "output_type": "display_data"
    },
    {
     "data": {
      "text/markdown": [
       "265: , <span style='color:red'>er</span> at beskyldes for Bitterhed , naar <span style='color:red'>jeg</span> <span style='color:red'>er</span> mig bevidst , at have skrevet"
      ],
      "text/plain": [
       "<IPython.core.display.Markdown object>"
      ]
     },
     "metadata": {},
     "output_type": "display_data"
    },
    {
     "data": {
      "text/markdown": [
       "317: , <span style='color:red'>jeg</span> skylder Fader Pavels Brev , men <span style='color:red'>jeg</span> <span style='color:red'>er</span> saa mat , at <span style='color:red'>jeg</span> maae"
      ],
      "text/plain": [
       "<IPython.core.display.Markdown object>"
      ]
     },
     "metadata": {},
     "output_type": "display_data"
    },
    {
     "data": {
      "text/markdown": [
       "341: nu i Dag i al Regnen , og <span style='color:red'>jeg</span> <span style='color:red'>er</span> vreed paa mig selv , fordi"
      ],
      "text/plain": [
       "<IPython.core.display.Markdown object>"
      ]
     },
     "metadata": {},
     "output_type": "display_data"
    },
    {
     "data": {
      "text/markdown": [
       "350: var <span style='color:red'>jeg</span> ikke Kl halvtolv i Aftes som <span style='color:red'>jeg</span> <span style='color:red'>er</span> nu . Seer I , her"
      ],
      "text/plain": [
       "<IPython.core.display.Markdown object>"
      ]
     },
     "metadata": {},
     "output_type": "display_data"
    },
    {
     "data": {
      "text/markdown": [
       "350: Aften og disse glade Dage . Jeg synes <span style='color:red'>jeg</span> <span style='color:red'>er</span> blevet endnu yngere end før ,"
      ],
      "text/plain": [
       "<IPython.core.display.Markdown object>"
      ]
     },
     "metadata": {},
     "output_type": "display_data"
    },
    {
     "data": {
      "text/markdown": [
       "350: før , og I veed , hvor ung <span style='color:red'>jeg</span> <span style='color:red'>er</span> naar <span style='color:red'>jeg</span> <span style='color:red'>er</span> glad . Og"
      ],
      "text/plain": [
       "<IPython.core.display.Markdown object>"
      ]
     },
     "metadata": {},
     "output_type": "display_data"
    },
    {
     "data": {
      "text/markdown": [
       "350: I veed , hvor ung <span style='color:red'>jeg</span> <span style='color:red'>er</span> naar <span style='color:red'>jeg</span> <span style='color:red'>er</span> glad . Og nu Udsigten til"
      ],
      "text/plain": [
       "<IPython.core.display.Markdown object>"
      ]
     },
     "metadata": {},
     "output_type": "display_data"
    },
    {
     "data": {
      "text/markdown": [
       "381: <span style='color:red'>er</span> vist denne Dags Roelighed tiænlig , da <span style='color:red'>jeg</span> <span style='color:red'>er</span> mindre end rask , og vaagnede"
      ],
      "text/plain": [
       "<IPython.core.display.Markdown object>"
      ]
     },
     "metadata": {},
     "output_type": "display_data"
    },
    {
     "data": {
      "text/markdown": [
       "403: , og har det nu værre , thi <span style='color:red'>jeg</span> <span style='color:red'>er</span> ganske brav , hun ikke ."
      ],
      "text/plain": [
       "<IPython.core.display.Markdown object>"
      ]
     },
     "metadata": {},
     "output_type": "display_data"
    },
    {
     "data": {
      "text/markdown": [
       "450: mig at fordrive den slemme Plageaand , og <span style='color:red'>jeg</span> <span style='color:red'>er</span> nu saa færm , at jeg"
      ],
      "text/plain": [
       "<IPython.core.display.Markdown object>"
      ]
     },
     "metadata": {},
     "output_type": "display_data"
    },
    {
     "data": {
      "text/markdown": [
       "459: igien havde lettet Eders ved Efterretningen om at <span style='color:red'>jeg</span> <span style='color:red'>er</span> fuldkommen frisk , da I ere"
      ],
      "text/plain": [
       "<IPython.core.display.Markdown object>"
      ]
     },
     "metadata": {},
     "output_type": "display_data"
    },
    {
     "data": {
      "text/markdown": [
       "469: Majabrevet fuldender <span style='color:red'>jeg</span> nu først . – At <span style='color:red'>jeg</span> <span style='color:red'>er</span> længe siden færdig med Tobias Hoppe"
      ],
      "text/plain": [
       "<IPython.core.display.Markdown object>"
      ]
     },
     "metadata": {},
     "output_type": "display_data"
    },
    {
     "data": {
      "text/markdown": [
       "479: Folk i Egnen her . De troer vist <span style='color:red'>jeg</span> <span style='color:red'>er</span> blevet stoerfolk eller Gud veed hvad"
      ],
      "text/plain": [
       "<IPython.core.display.Markdown object>"
      ]
     },
     "metadata": {},
     "output_type": "display_data"
    },
    {
     "data": {
      "text/markdown": [
       "497: ja saa gar Telja . Kun Kista og <span style='color:red'>jeg</span> <span style='color:red'>er</span> hiemme . Jeg stod mismodig op"
      ],
      "text/plain": [
       "<IPython.core.display.Markdown object>"
      ]
     },
     "metadata": {},
     "output_type": "display_data"
    },
    {
     "data": {
      "text/markdown": [
       "529: modsige hende , naar hun kalder Godt hvad <span style='color:red'>jeg</span> <span style='color:red'>er</span> overbevist om , ikke <span style='color:red'>er</span> det"
      ],
      "text/plain": [
       "<IPython.core.display.Markdown object>"
      ]
     },
     "metadata": {},
     "output_type": "display_data"
    },
    {
     "data": {
      "text/markdown": [
       "538: var søde Idas Fødselsdag . – Dog , <span style='color:red'>jeg</span> <span style='color:red'>er</span> jo ikke kommet rigtig til Økeren"
      ],
      "text/plain": [
       "<IPython.core.display.Markdown object>"
      ]
     },
     "metadata": {},
     "output_type": "display_data"
    },
    {
     "data": {
      "text/markdown": [
       "562: med Tryk paa ; men I veed , <span style='color:red'>jeg</span> <span style='color:red'>er</span> lidt forligt med ham i den"
      ],
      "text/plain": [
       "<IPython.core.display.Markdown object>"
      ]
     },
     "metadata": {},
     "output_type": "display_data"
    },
    {
     "data": {
      "text/markdown": [
       "574: at blive saa mange Dage længere , som <span style='color:red'>jeg</span> <span style='color:red'>er</span> borte , og det beroeliger mig"
      ],
      "text/plain": [
       "<IPython.core.display.Markdown object>"
      ]
     },
     "metadata": {},
     "output_type": "display_data"
    },
    {
     "data": {
      "text/markdown": [
       "669: og gaaer saa sikkert til Hiertet . Men <span style='color:red'>jeg</span> <span style='color:red'>er</span> nok meget svag , thi jeg"
      ],
      "text/plain": [
       "<IPython.core.display.Markdown object>"
      ]
     },
     "metadata": {},
     "output_type": "display_data"
    },
    {
     "data": {
      "text/markdown": [
       "671: . O , <span style='color:red'>jeg</span> var ikke allene , <span style='color:red'>jeg</span> <span style='color:red'>er</span> en lykkelig Moder , en af"
      ],
      "text/plain": [
       "<IPython.core.display.Markdown object>"
      ]
     },
     "metadata": {},
     "output_type": "display_data"
    },
    {
     "data": {
      "text/markdown": [
       "687: Giid I nu Alle vidste , hvor rask <span style='color:red'>jeg</span> <span style='color:red'>er</span> igien . Jeg har drukket mine"
      ],
      "text/plain": [
       "<IPython.core.display.Markdown object>"
      ]
     },
     "metadata": {},
     "output_type": "display_data"
    },
    {
     "data": {
      "text/markdown": [
       "687: . Det <span style='color:red'>er</span> et sandt Tegn til , <span style='color:red'>jeg</span> <span style='color:red'>er</span> frisk igien . Men see !"
      ],
      "text/plain": [
       "<IPython.core.display.Markdown object>"
      ]
     },
     "metadata": {},
     "output_type": "display_data"
    },
    {
     "data": {
      "text/markdown": [
       "688: , hun havde . I maae vide , <span style='color:red'>jeg</span> <span style='color:red'>er</span> bleven end mere barnagtig siden jeg"
      ],
      "text/plain": [
       "<IPython.core.display.Markdown object>"
      ]
     },
     "metadata": {},
     "output_type": "display_data"
    },
    {
     "data": {
      "text/markdown": [
       "694: Føret godt , og dog bliver <span style='color:red'>jeg</span> hvor <span style='color:red'>jeg</span> <span style='color:red'>er</span> . Jeg havde i Nat igien"
      ],
      "text/plain": [
       "<IPython.core.display.Markdown object>"
      ]
     },
     "metadata": {},
     "output_type": "display_data"
    },
    {
     "data": {
      "text/markdown": [
       "702: ofte reyst længere i slettere Føre . Men <span style='color:red'>jeg</span> <span style='color:red'>er</span> uslere end Føret , det er"
      ],
      "text/plain": [
       "<IPython.core.display.Markdown object>"
      ]
     },
     "metadata": {},
     "output_type": "display_data"
    },
    {
     "data": {
      "text/markdown": [
       "708: , nægtes eller berøves dem . Dog , <span style='color:red'>jeg</span> <span style='color:red'>er</span> kommet uden for min Sphære ,"
      ],
      "text/plain": [
       "<IPython.core.display.Markdown object>"
      ]
     },
     "metadata": {},
     "output_type": "display_data"
    },
    {
     "data": {
      "text/markdown": [
       "708: mig i mit lille grønne Kammer , hvor <span style='color:red'>jeg</span> <span style='color:red'>er</span> ligesom udenfor alt hvad der ikke"
      ],
      "text/plain": [
       "<IPython.core.display.Markdown object>"
      ]
     },
     "metadata": {},
     "output_type": "display_data"
    },
    {
     "data": {
      "text/markdown": [
       "720: . Nu skulde <span style='color:red'>jeg</span> dog , hvor lidt <span style='color:red'>jeg</span> <span style='color:red'>er</span> stemt til det , fortælle Eder"
      ],
      "text/plain": [
       "<IPython.core.display.Markdown object>"
      ]
     },
     "metadata": {},
     "output_type": "display_data"
    },
    {
     "data": {
      "text/markdown": [
       "723: mig . Jeg kan ikke sove længere end <span style='color:red'>jeg</span> <span style='color:red'>er</span> vant til , og saa snart"
      ],
      "text/plain": [
       "<IPython.core.display.Markdown object>"
      ]
     },
     "metadata": {},
     "output_type": "display_data"
    },
    {
     "data": {
      "text/markdown": [
       "745: fortrinlige blandt Lafontaines Romaner ; men nu , <span style='color:red'>jeg</span> <span style='color:red'>er</span> blevet ret fortroelig med den ,"
      ],
      "text/plain": [
       "<IPython.core.display.Markdown object>"
      ]
     },
     "metadata": {},
     "output_type": "display_data"
    },
    {
     "data": {
      "text/markdown": [
       "747: , I troer ikke hvor frisk og let <span style='color:red'>jeg</span> <span style='color:red'>er</span> i det hele Legeme , fra"
      ],
      "text/plain": [
       "<IPython.core.display.Markdown object>"
      ]
     },
     "metadata": {},
     "output_type": "display_data"
    },
    {
     "data": {
      "text/markdown": [
       "766: , og dine Venner endnu . Koren og <span style='color:red'>jeg</span> <span style='color:red'>er</span> dine Sødskende » – noget saadant"
      ],
      "text/plain": [
       "<IPython.core.display.Markdown object>"
      ]
     },
     "metadata": {},
     "output_type": "display_data"
    },
    {
     "data": {
      "text/markdown": [
       "766: <span style='color:red'>jeg</span> , troer <span style='color:red'>jeg</span> . Det græsselige : <span style='color:red'>jeg</span> <span style='color:red'>er</span> saa forladt ! – rystede mit"
      ],
      "text/plain": [
       "<IPython.core.display.Markdown object>"
      ]
     },
     "metadata": {},
     "output_type": "display_data"
    },
    {
     "data": {
      "text/markdown": [
       "766: Bryst , og det <span style='color:red'>er</span> <span style='color:red'>jeg</span> aldrig naar <span style='color:red'>jeg</span> <span style='color:red'>er</span> bedrøvet . Men Hovedet <span style='color:red'>er</span> godt"
      ],
      "text/plain": [
       "<IPython.core.display.Markdown object>"
      ]
     },
     "metadata": {},
     "output_type": "display_data"
    },
    {
     "data": {
      "text/markdown": [
       "766: Roe . Af Næstouren bliver intet . Og <span style='color:red'>jeg</span> <span style='color:red'>er</span> blevet bædre imens <span style='color:red'>jeg</span> skrev ."
      ],
      "text/plain": [
       "<IPython.core.display.Markdown object>"
      ]
     },
     "metadata": {},
     "output_type": "display_data"
    },
    {
     "data": {
      "text/markdown": [
       "#### NBkilder_Koren_1814.xml"
      ],
      "text/plain": [
       "<IPython.core.display.Markdown object>"
      ]
     },
     "metadata": {},
     "output_type": "display_data"
    },
    {
     "data": {
      "text/markdown": [
       "2: være gladere , lettere om Hiertet , end <span style='color:red'>jeg</span> <span style='color:red'>er</span> i Dag , og Gud give"
      ],
      "text/plain": [
       "<IPython.core.display.Markdown object>"
      ]
     },
     "metadata": {},
     "output_type": "display_data"
    },
    {
     "data": {
      "text/markdown": [
       "7: den fortroelige Samsnak , som I veed , <span style='color:red'>jeg</span> <span style='color:red'>er</span> saadan Giæk efter . Husherren forsømmer"
      ],
      "text/plain": [
       "<IPython.core.display.Markdown object>"
      ]
     },
     "metadata": {},
     "output_type": "display_data"
    },
    {
     "data": {
      "text/markdown": [
       "18: nu , <span style='color:red'>jeg</span> var en Mand ; men <span style='color:red'>jeg</span> <span style='color:red'>er</span> kun en svag frygtsom Pige ."
      ],
      "text/plain": [
       "<IPython.core.display.Markdown object>"
      ]
     },
     "metadata": {},
     "output_type": "display_data"
    },
    {
     "data": {
      "text/markdown": [
       "43: Frue Brat . Ak , mine Kiære , <span style='color:red'>jeg</span> <span style='color:red'>er</span> ikke halv saa god , som"
      ],
      "text/plain": [
       "<IPython.core.display.Markdown object>"
      ]
     },
     "metadata": {},
     "output_type": "display_data"
    },
    {
     "data": {
      "text/markdown": [
       "123: Inderste , end om <span style='color:red'>jeg</span> nu , da <span style='color:red'>jeg</span> <span style='color:red'>er</span> roeligere , forsøgte at giøre Eder"
      ],
      "text/plain": [
       "<IPython.core.display.Markdown object>"
      ]
     },
     "metadata": {},
     "output_type": "display_data"
    },
    {
     "data": {
      "text/markdown": [
       "169: som <span style='color:red'>jeg</span> ogsaa saa giærne vilde , fordi <span style='color:red'>jeg</span> <span style='color:red'>er</span> beredt til at leve og døe"
      ],
      "text/plain": [
       "<IPython.core.display.Markdown object>"
      ]
     },
     "metadata": {},
     "output_type": "display_data"
    },
    {
     "data": {
      "text/markdown": [
       "169: stolt af , og aldrig fragaae , at <span style='color:red'>jeg</span> <span style='color:red'>er</span> det ædle mishandlede Norges Pleyedatter ["
      ],
      "text/plain": [
       "<IPython.core.display.Markdown object>"
      ]
     },
     "metadata": {},
     "output_type": "display_data"
    },
    {
     "data": {
      "text/markdown": [
       "204: Men I Alle undres ikke over , at <span style='color:red'>jeg</span> <span style='color:red'>er</span> lidt underlig tilmode , lidt beklæmt"
      ],
      "text/plain": [
       "<IPython.core.display.Markdown object>"
      ]
     },
     "metadata": {},
     "output_type": "display_data"
    },
    {
     "data": {
      "text/markdown": [
       "#### NBkilder_Koren_1815.xml"
      ],
      "text/plain": [
       "<IPython.core.display.Markdown object>"
      ]
     },
     "metadata": {},
     "output_type": "display_data"
    },
    {
     "data": {
      "text/markdown": [
       "9: "
      ],
      "text/plain": [
       "<IPython.core.display.Markdown object>"
      ]
     },
     "metadata": {},
     "output_type": "display_data"
    },
    {
     "data": {
      "text/markdown": [
       "12: Hierte nu kun <span style='color:red'>er</span> sexten Aar , at <span style='color:red'>jeg</span> <span style='color:red'>er</span> tilfreds med Alt omkring mig ,"
      ],
      "text/plain": [
       "<IPython.core.display.Markdown object>"
      ]
     },
     "metadata": {},
     "output_type": "display_data"
    },
    {
     "data": {
      "text/markdown": [
       "13: Verdens politiske Gang . Jeg negter ikke , <span style='color:red'>jeg</span> <span style='color:red'>er</span> lidt vred paa Dem for nogle"
      ],
      "text/plain": [
       "<IPython.core.display.Markdown object>"
      ]
     },
     "metadata": {},
     "output_type": "display_data"
    },
    {
     "data": {
      "text/markdown": [
       "15: Auestad . Gud , hvor glad og lykkelig <span style='color:red'>jeg</span> <span style='color:red'>er</span> ! Men <span style='color:red'>jeg</span> <span style='color:red'>er</span> det for"
      ],
      "text/plain": [
       "<IPython.core.display.Markdown object>"
      ]
     },
     "metadata": {},
     "output_type": "display_data"
    },
    {
     "data": {
      "text/markdown": [
       "15: hvor glad og lykkelig <span style='color:red'>jeg</span> <span style='color:red'>er</span> ! Men <span style='color:red'>jeg</span> <span style='color:red'>er</span> det for meget til nu at"
      ],
      "text/plain": [
       "<IPython.core.display.Markdown object>"
      ]
     },
     "metadata": {},
     "output_type": "display_data"
    }
   ],
   "source": [
    "for i in korpus_konk(['jeg', 'er'], kilder_korpus, before=8, after=8):\n",
    "    try:\n",
    "        display(Markdown(i))\n",
    "    except:\n",
    "        print(i)"
   ]
  },
  {
   "cell_type": "markdown",
   "metadata": {},
   "source": [
    "### Søk med regulære uttrykk\n",
    "\n",
    "Eksempler på syntaks for regulære uttrykk:\n",
    "*   \"henne[^ ]* \"  - henne + x antall vilkårlige tegn etter, etterfulgt av mellomrom.\n",
    "*   \" henne[^ ] \" - mellomrom + henne + et vilkårlig tegn etter, etterfulgt av mellomrom.\n",
    "*   \"henne[^ ]r[^ ] \" - henne + et vilkårlig tegn + r + et vilkårlig tegn, etterfulgt av mellomrom."
   ]
  },
  {
   "cell_type": "code",
   "execution_count": 8,
   "metadata": {},
   "outputs": [
    {
     "data": {
      "text/markdown": [
       "#### NBkilder_Koren_1805.xml"
      ],
      "text/plain": [
       "<IPython.core.display.Markdown object>"
      ]
     },
     "metadata": {},
     "output_type": "display_data"
    },
    {
     "data": {
      "text/markdown": [
       "41: g for det første kun den lille Madame, da han var <span style='color:red'>henne </span>hos sine Høerivrere, og kom hiem ganske giennemblø"
      ],
      "text/plain": [
       "<IPython.core.display.Markdown object>"
      ]
     },
     "metadata": {},
     "output_type": "display_data"
    },
    {
     "data": {
      "text/markdown": [
       "47: Arme Hertel, arme Brock! hvor de have været <span style='color:red'>henne </span>i det fæle, frygtelige Veir, som her holdt ved i f"
      ],
      "text/plain": [
       "<IPython.core.display.Markdown object>"
      ]
     },
     "metadata": {},
     "output_type": "display_data"
    },
    {
     "data": {
      "text/markdown": [
       "#### NBkilder_Koren_1808.xml"
      ],
      "text/plain": [
       "<IPython.core.display.Markdown object>"
      ]
     },
     "metadata": {},
     "output_type": "display_data"
    },
    {
     "data": {
      "text/markdown": [
       "402: Jeg har nu, Kl 6, været <span style='color:red'>henne </span>og hilset paa min Høy, paa Frue Lotta, det er: hen"
      ],
      "text/plain": [
       "<IPython.core.display.Markdown object>"
      ]
     },
     "metadata": {},
     "output_type": "display_data"
    },
    {
     "data": {
      "text/markdown": [
       "807:  Sara, Jes, Hertel om hans Leye, saae Lyset langt <span style='color:red'>henne </span>i en Krog, kaste sit matte Skin paa de omstaaende "
      ],
      "text/plain": [
       "<IPython.core.display.Markdown object>"
      ]
     },
     "metadata": {},
     "output_type": "display_data"
    },
    {
     "data": {
      "text/markdown": [
       "#### NBkilder_Koren_1809.xml"
      ],
      "text/plain": [
       "<IPython.core.display.Markdown object>"
      ]
     },
     "metadata": {},
     "output_type": "display_data"
    },
    {
     "data": {
      "text/markdown": [
       "29: a reyst i Dag[.] Saa er det da godt, jeg beholder <span style='color:red'>henne </span>saa meget længer[.] Men nu er det ogsaa forbi. Hun"
      ],
      "text/plain": [
       "<IPython.core.display.Markdown object>"
      ]
     },
     "metadata": {},
     "output_type": "display_data"
    },
    {
     "data": {
      "text/markdown": [
       "829: te Føre, og ridende, skiøndt hun alt er saa langt <span style='color:red'>henne </span>i sit Svangerskab, kom nok saa raskt ved Siden af "
      ],
      "text/plain": [
       "<IPython.core.display.Markdown object>"
      ]
     },
     "metadata": {},
     "output_type": "display_data"
    },
    {
     "data": {
      "text/markdown": [
       "929:  kryss eller et kors etter datoen, 9.12.1808 døde <span style='color:red'>hennes </span>datter Sara. – Endnu er min Ring ikke funden, ak, "
      ],
      "text/plain": [
       "<IPython.core.display.Markdown object>"
      ]
     },
     "metadata": {},
     "output_type": "display_data"
    },
    {
     "data": {
      "text/markdown": [
       "#### NBkilder_Koren_1810.xml"
      ],
      "text/plain": [
       "<IPython.core.display.Markdown object>"
      ]
     },
     "metadata": {},
     "output_type": "display_data"
    },
    {
     "data": {
      "text/markdown": [
       "901:  kryss eller et kors etter datoen, 3.11.1808 døde <span style='color:red'>hennes </span>sønn Wilhelm. Neppe, I Elskede, er der Een iblandt"
      ],
      "text/plain": [
       "<IPython.core.display.Markdown object>"
      ]
     },
     "metadata": {},
     "output_type": "display_data"
    },
    {
     "data": {
      "text/markdown": [
       "924: rsomt og godt. Om Eftermiddagen var Hertel og Jes <span style='color:red'>henne </span>at see til den meget syge Mad: Widing, som saa ind"
      ],
      "text/plain": [
       "<IPython.core.display.Markdown object>"
      ]
     },
     "metadata": {},
     "output_type": "display_data"
    },
    {
     "data": {
      "text/markdown": [
       "#### NBkilder_Koren_1811.xml"
      ],
      "text/plain": [
       "<IPython.core.display.Markdown object>"
      ]
     },
     "metadata": {},
     "output_type": "display_data"
    },
    {
     "data": {
      "text/markdown": [
       "165: e jeg holdt mere af Landet end Byen» – Da det var <span style='color:red'>hennes </span>første Samtale med min stille Maja, vidnede det ju"
      ],
      "text/plain": [
       "<IPython.core.display.Markdown object>"
      ]
     },
     "metadata": {},
     "output_type": "display_data"
    },
    {
     "data": {
      "text/markdown": [
       "292:  ham. Scenen var Bakkehuset) – Men da jeg længere <span style='color:red'>henne </span>saae, at lille Syvald endnu ikke var ret rask, loe"
      ],
      "text/plain": [
       "<IPython.core.display.Markdown object>"
      ]
     },
     "metadata": {},
     "output_type": "display_data"
    },
    {
     "data": {
      "text/markdown": [
       "#### NBkilder_Koren_1812.xml"
      ],
      "text/plain": [
       "<IPython.core.display.Markdown object>"
      ]
     },
     "metadata": {},
     "output_type": "display_data"
    },
    {
     "data": {
      "text/markdown": [
       "138: i sit hele Væsen saa galante Tank var ikke allene <span style='color:red'>henne </span>og complimentere Masieur Cappelen (som ikke heller"
      ],
      "text/plain": [
       "<IPython.core.display.Markdown object>"
      ]
     },
     "metadata": {},
     "output_type": "display_data"
    },
    {
     "data": {
      "text/markdown": [
       "299: e vennehulde Lotta; som var dobbelt vennehuldt af <span style='color:red'>henne, </span>da der den følgende Dag – (i Gaar skulde være stor"
      ],
      "text/plain": [
       "<IPython.core.display.Markdown object>"
      ]
     },
     "metadata": {},
     "output_type": "display_data"
    },
    {
     "data": {
      "text/markdown": [
       "381: Min Koren er i Eftermiddag <span style='color:red'>henne </span>og seer til gamle Fader Munthe. Walbohm sagde til "
      ],
      "text/plain": [
       "<IPython.core.display.Markdown object>"
      ]
     },
     "metadata": {},
     "output_type": "display_data"
    },
    {
     "data": {
      "text/markdown": [
       "498: ja mi, og hvor ganske anderledes har jeg sadt hos <span style='color:red'>henne </span>nu end i Aftes ved denne Tiid. Den snurrige Pechel"
      ],
      "text/plain": [
       "<IPython.core.display.Markdown object>"
      ]
     },
     "metadata": {},
     "output_type": "display_data"
    },
    {
     "data": {
      "text/markdown": [
       "533: har faaet malet alt dette i Gaar, men er nu langt <span style='color:red'>henne </span>i Formiddagen"
      ],
      "text/plain": [
       "<IPython.core.display.Markdown object>"
      ]
     },
     "metadata": {},
     "output_type": "display_data"
    },
    {
     "data": {
      "text/markdown": [
       "534: age, skiøndt hun atter er paa gode Veye, og langt <span style='color:red'>henne </span>paa dem. Det var mig dobbelt paafaldende, da Rikke"
      ],
      "text/plain": [
       "<IPython.core.display.Markdown object>"
      ]
     },
     "metadata": {},
     "output_type": "display_data"
    },
    {
     "data": {
      "text/markdown": [
       "#### NBkilder_Koren_1813.xml"
      ],
      "text/plain": [
       "<IPython.core.display.Markdown object>"
      ]
     },
     "metadata": {},
     "output_type": "display_data"
    },
    {
     "data": {
      "text/markdown": [
       "223: deels med Grundtvigs Krønike som jeg alt er langt <span style='color:red'>henne </span>i, nesten ved Reformationen. Ellers skal jeg skriv"
      ],
      "text/plain": [
       "<IPython.core.display.Markdown object>"
      ]
     },
     "metadata": {},
     "output_type": "display_data"
    }
   ],
   "source": [
    "for i in konk_regex(\"henne[^ ]* \", kilder_korpus_string, before=50, after=50, colour=\"red\"):\n",
    "    display(Markdown(i))"
   ]
  },
  {
   "cell_type": "code",
   "execution_count": null,
   "metadata": {},
   "outputs": [],
   "source": []
  }
 ],
 "metadata": {
  "kernelspec": {
   "display_name": "Python 3",
   "language": "python",
   "name": "python3"
  },
  "language_info": {
   "codemirror_mode": {
    "name": "ipython",
    "version": 3
   },
   "file_extension": ".py",
   "mimetype": "text/x-python",
   "name": "python",
   "nbconvert_exporter": "python",
   "pygments_lexer": "ipython3",
   "version": "3.8.3"
  }
 },
 "nbformat": 4,
 "nbformat_minor": 2
}
