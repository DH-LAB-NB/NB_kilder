{
 "cells": [
  {
   "cell_type": "markdown",
   "metadata": {},
   "source": [
    "# Kode og kommandoer\n",
    "\n",
    "Alle de nedenfor skal gi grunnleggende funksjonalitet for å arbeide med materialet. Alt kan knyttes til en webside etter hvert.\n",
    "\n",
    "Husk å trykke på Run helt fra toppen."
   ]
  },
  {
   "cell_type": "code",
   "execution_count": 1,
   "metadata": {},
   "outputs": [],
   "source": [
    "import dhlab.nbtext as nb\n",
    "from dhlab.nbtokenizer import tokenize\n",
    "from collections import Counter\n",
    "import pandas as pd\n",
    "\n",
    "import zipfile\n",
    "from bs4 import BeautifulSoup\n",
    "import sys\n",
    "import zipfile\n",
    "import re\n",
    "from IPython.display import display, Markdown\n",
    "\n",
    "## Korpuset kommer som en zip\n",
    "\n",
    "from corpus import *"
   ]
  },
  {
   "cell_type": "markdown",
   "metadata": {},
   "source": [
    "# Lag kilder\n",
    "\n",
    "Fra en zip-fil lag et korpus som kan brukes av kommandoene over."
   ]
  },
  {
   "cell_type": "code",
   "execution_count": 2,
   "metadata": {},
   "outputs": [],
   "source": [
    "kildezip = \"NBkilder_Kielland.zip\"\n",
    "\n",
    "kildefiler = get_files_from_zip(kildezip)\n",
    "\n",
    "kilder_korpus = make_corpus(kildezip)\n",
    "\n",
    "kilder_korpus_string = make_corpus(kildezip, extraction= extract_text_as_string)"
   ]
  },
  {
   "cell_type": "markdown",
   "metadata": {},
   "source": [
    "# Liste over utgaver som er med i korpuset"
   ]
  },
  {
   "cell_type": "code",
   "execution_count": 3,
   "metadata": {},
   "outputs": [
    {
     "name": "stdout",
     "output_type": "stream",
     "text": [
      "NBkilder_KKielland_AGarborg_brev.xml\n",
      "NBkilder_KKielland_DSkavlan_brev.xml\n",
      "NBkilder_KKielland_EPeterssen_brev.xml\n"
     ]
    }
   ],
   "source": [
    "kilder_dtm = make_dtm(kilder_korpus).fillna(0)"
   ]
  },
  {
   "cell_type": "markdown",
   "metadata": {},
   "source": [
    "### Undersøk høyfrekvente ord\n",
    "\n",
    "Tabellen viser de mest brukte ordene, sortert etter den utgaven som er merket med rødt. Velg andre utgaver fra lista over. \n",
    "Tallet i parentes etter head angir hvor mange ord du vil se på.\n"
   ]
  },
  {
   "cell_type": "code",
   "execution_count": 4,
   "metadata": {},
   "outputs": [
    {
     "data": {
      "text/html": [
       "<style  type=\"text/css\" >\n",
       "    #T_2594819a_4d72_11ea_9e70_0c5415364605row0_col0 {\n",
       "            background-color:  #023858;\n",
       "            color:  #f1f1f1;\n",
       "        }    #T_2594819a_4d72_11ea_9e70_0c5415364605row0_col1 {\n",
       "            background-color:  #023858;\n",
       "            color:  #f1f1f1;\n",
       "        }    #T_2594819a_4d72_11ea_9e70_0c5415364605row0_col2 {\n",
       "            background-color:  #023858;\n",
       "            color:  #f1f1f1;\n",
       "        }    #T_2594819a_4d72_11ea_9e70_0c5415364605row1_col0 {\n",
       "            background-color:  #62a2cb;\n",
       "            color:  #000000;\n",
       "        }    #T_2594819a_4d72_11ea_9e70_0c5415364605row1_col1 {\n",
       "            background-color:  #71a8ce;\n",
       "            color:  #000000;\n",
       "        }    #T_2594819a_4d72_11ea_9e70_0c5415364605row1_col2 {\n",
       "            background-color:  #6ba5cd;\n",
       "            color:  #000000;\n",
       "        }    #T_2594819a_4d72_11ea_9e70_0c5415364605row2_col0 {\n",
       "            background-color:  #b7c5df;\n",
       "            color:  #000000;\n",
       "        }    #T_2594819a_4d72_11ea_9e70_0c5415364605row2_col1 {\n",
       "            background-color:  #d3d4e7;\n",
       "            color:  #000000;\n",
       "        }    #T_2594819a_4d72_11ea_9e70_0c5415364605row2_col2 {\n",
       "            background-color:  #c8cde4;\n",
       "            color:  #000000;\n",
       "        }    #T_2594819a_4d72_11ea_9e70_0c5415364605row3_col0 {\n",
       "            background-color:  #bcc7e1;\n",
       "            color:  #000000;\n",
       "        }    #T_2594819a_4d72_11ea_9e70_0c5415364605row3_col1 {\n",
       "            background-color:  #d5d5e8;\n",
       "            color:  #000000;\n",
       "        }    #T_2594819a_4d72_11ea_9e70_0c5415364605row3_col2 {\n",
       "            background-color:  #c5cce3;\n",
       "            color:  #000000;\n",
       "        }    #T_2594819a_4d72_11ea_9e70_0c5415364605row4_col0 {\n",
       "            background-color:  #c1cae2;\n",
       "            color:  #000000;\n",
       "        }    #T_2594819a_4d72_11ea_9e70_0c5415364605row4_col1 {\n",
       "            background-color:  #ced0e6;\n",
       "            color:  #000000;\n",
       "        }    #T_2594819a_4d72_11ea_9e70_0c5415364605row4_col2 {\n",
       "            background-color:  #c8cde4;\n",
       "            color:  #000000;\n",
       "        }    #T_2594819a_4d72_11ea_9e70_0c5415364605row5_col0 {\n",
       "            background-color:  #cccfe5;\n",
       "            color:  #000000;\n",
       "        }    #T_2594819a_4d72_11ea_9e70_0c5415364605row5_col1 {\n",
       "            background-color:  #bcc7e1;\n",
       "            color:  #000000;\n",
       "        }    #T_2594819a_4d72_11ea_9e70_0c5415364605row5_col2 {\n",
       "            background-color:  #cdd0e5;\n",
       "            color:  #000000;\n",
       "        }    #T_2594819a_4d72_11ea_9e70_0c5415364605row6_col0 {\n",
       "            background-color:  #dad9ea;\n",
       "            color:  #000000;\n",
       "        }    #T_2594819a_4d72_11ea_9e70_0c5415364605row6_col1 {\n",
       "            background-color:  #eee9f3;\n",
       "            color:  #000000;\n",
       "        }    #T_2594819a_4d72_11ea_9e70_0c5415364605row6_col2 {\n",
       "            background-color:  #e0dded;\n",
       "            color:  #000000;\n",
       "        }    #T_2594819a_4d72_11ea_9e70_0c5415364605row7_col0 {\n",
       "            background-color:  #dcdaeb;\n",
       "            color:  #000000;\n",
       "        }    #T_2594819a_4d72_11ea_9e70_0c5415364605row7_col1 {\n",
       "            background-color:  #d6d6e9;\n",
       "            color:  #000000;\n",
       "        }    #T_2594819a_4d72_11ea_9e70_0c5415364605row7_col2 {\n",
       "            background-color:  #dcdaeb;\n",
       "            color:  #000000;\n",
       "        }    #T_2594819a_4d72_11ea_9e70_0c5415364605row8_col0 {\n",
       "            background-color:  #dedcec;\n",
       "            color:  #000000;\n",
       "        }    #T_2594819a_4d72_11ea_9e70_0c5415364605row8_col1 {\n",
       "            background-color:  #e9e5f1;\n",
       "            color:  #000000;\n",
       "        }    #T_2594819a_4d72_11ea_9e70_0c5415364605row8_col2 {\n",
       "            background-color:  #e0deed;\n",
       "            color:  #000000;\n",
       "        }    #T_2594819a_4d72_11ea_9e70_0c5415364605row9_col0 {\n",
       "            background-color:  #e5e1ef;\n",
       "            color:  #000000;\n",
       "        }    #T_2594819a_4d72_11ea_9e70_0c5415364605row9_col1 {\n",
       "            background-color:  #ede7f2;\n",
       "            color:  #000000;\n",
       "        }    #T_2594819a_4d72_11ea_9e70_0c5415364605row9_col2 {\n",
       "            background-color:  #ede7f2;\n",
       "            color:  #000000;\n",
       "        }    #T_2594819a_4d72_11ea_9e70_0c5415364605row10_col0 {\n",
       "            background-color:  #e7e3f0;\n",
       "            color:  #000000;\n",
       "        }    #T_2594819a_4d72_11ea_9e70_0c5415364605row10_col1 {\n",
       "            background-color:  #faf2f8;\n",
       "            color:  #000000;\n",
       "        }    #T_2594819a_4d72_11ea_9e70_0c5415364605row10_col2 {\n",
       "            background-color:  #fef6fb;\n",
       "            color:  #000000;\n",
       "        }    #T_2594819a_4d72_11ea_9e70_0c5415364605row11_col0 {\n",
       "            background-color:  #ece7f2;\n",
       "            color:  #000000;\n",
       "        }    #T_2594819a_4d72_11ea_9e70_0c5415364605row11_col1 {\n",
       "            background-color:  #e6e2ef;\n",
       "            color:  #000000;\n",
       "        }    #T_2594819a_4d72_11ea_9e70_0c5415364605row11_col2 {\n",
       "            background-color:  #e7e3f0;\n",
       "            color:  #000000;\n",
       "        }    #T_2594819a_4d72_11ea_9e70_0c5415364605row12_col0 {\n",
       "            background-color:  #ede7f2;\n",
       "            color:  #000000;\n",
       "        }    #T_2594819a_4d72_11ea_9e70_0c5415364605row12_col1 {\n",
       "            background-color:  #e6e2ef;\n",
       "            color:  #000000;\n",
       "        }    #T_2594819a_4d72_11ea_9e70_0c5415364605row12_col2 {\n",
       "            background-color:  #f1ebf4;\n",
       "            color:  #000000;\n",
       "        }    #T_2594819a_4d72_11ea_9e70_0c5415364605row13_col0 {\n",
       "            background-color:  #eee8f3;\n",
       "            color:  #000000;\n",
       "        }    #T_2594819a_4d72_11ea_9e70_0c5415364605row13_col1 {\n",
       "            background-color:  #f3edf5;\n",
       "            color:  #000000;\n",
       "        }    #T_2594819a_4d72_11ea_9e70_0c5415364605row13_col2 {\n",
       "            background-color:  #f1ebf5;\n",
       "            color:  #000000;\n",
       "        }    #T_2594819a_4d72_11ea_9e70_0c5415364605row14_col0 {\n",
       "            background-color:  #efe9f3;\n",
       "            color:  #000000;\n",
       "        }    #T_2594819a_4d72_11ea_9e70_0c5415364605row14_col1 {\n",
       "            background-color:  #ebe6f2;\n",
       "            color:  #000000;\n",
       "        }    #T_2594819a_4d72_11ea_9e70_0c5415364605row14_col2 {\n",
       "            background-color:  #e5e1ef;\n",
       "            color:  #000000;\n",
       "        }    #T_2594819a_4d72_11ea_9e70_0c5415364605row15_col0 {\n",
       "            background-color:  #efe9f3;\n",
       "            color:  #000000;\n",
       "        }    #T_2594819a_4d72_11ea_9e70_0c5415364605row15_col1 {\n",
       "            background-color:  #f0eaf4;\n",
       "            color:  #000000;\n",
       "        }    #T_2594819a_4d72_11ea_9e70_0c5415364605row15_col2 {\n",
       "            background-color:  #f0eaf4;\n",
       "            color:  #000000;\n",
       "        }    #T_2594819a_4d72_11ea_9e70_0c5415364605row16_col0 {\n",
       "            background-color:  #f0eaf4;\n",
       "            color:  #000000;\n",
       "        }    #T_2594819a_4d72_11ea_9e70_0c5415364605row16_col1 {\n",
       "            background-color:  #e4e1ef;\n",
       "            color:  #000000;\n",
       "        }    #T_2594819a_4d72_11ea_9e70_0c5415364605row16_col2 {\n",
       "            background-color:  #e1dfed;\n",
       "            color:  #000000;\n",
       "        }    #T_2594819a_4d72_11ea_9e70_0c5415364605row17_col0 {\n",
       "            background-color:  #f2ecf5;\n",
       "            color:  #000000;\n",
       "        }    #T_2594819a_4d72_11ea_9e70_0c5415364605row17_col1 {\n",
       "            background-color:  #eee9f3;\n",
       "            color:  #000000;\n",
       "        }    #T_2594819a_4d72_11ea_9e70_0c5415364605row17_col2 {\n",
       "            background-color:  #efe9f3;\n",
       "            color:  #000000;\n",
       "        }    #T_2594819a_4d72_11ea_9e70_0c5415364605row18_col0 {\n",
       "            background-color:  #f2ecf5;\n",
       "            color:  #000000;\n",
       "        }    #T_2594819a_4d72_11ea_9e70_0c5415364605row18_col1 {\n",
       "            background-color:  #f8f1f8;\n",
       "            color:  #000000;\n",
       "        }    #T_2594819a_4d72_11ea_9e70_0c5415364605row18_col2 {\n",
       "            background-color:  #f4edf6;\n",
       "            color:  #000000;\n",
       "        }    #T_2594819a_4d72_11ea_9e70_0c5415364605row19_col0 {\n",
       "            background-color:  #f3edf5;\n",
       "            color:  #000000;\n",
       "        }    #T_2594819a_4d72_11ea_9e70_0c5415364605row19_col1 {\n",
       "            background-color:  #f0eaf4;\n",
       "            color:  #000000;\n",
       "        }    #T_2594819a_4d72_11ea_9e70_0c5415364605row19_col2 {\n",
       "            background-color:  #efe9f3;\n",
       "            color:  #000000;\n",
       "        }    #T_2594819a_4d72_11ea_9e70_0c5415364605row20_col0 {\n",
       "            background-color:  #f4edf6;\n",
       "            color:  #000000;\n",
       "        }    #T_2594819a_4d72_11ea_9e70_0c5415364605row20_col1 {\n",
       "            background-color:  #f6eff7;\n",
       "            color:  #000000;\n",
       "        }    #T_2594819a_4d72_11ea_9e70_0c5415364605row20_col2 {\n",
       "            background-color:  #f1ebf4;\n",
       "            color:  #000000;\n",
       "        }    #T_2594819a_4d72_11ea_9e70_0c5415364605row21_col0 {\n",
       "            background-color:  #f4eef6;\n",
       "            color:  #000000;\n",
       "        }    #T_2594819a_4d72_11ea_9e70_0c5415364605row21_col1 {\n",
       "            background-color:  #f2ecf5;\n",
       "            color:  #000000;\n",
       "        }    #T_2594819a_4d72_11ea_9e70_0c5415364605row21_col2 {\n",
       "            background-color:  #f5eff6;\n",
       "            color:  #000000;\n",
       "        }    #T_2594819a_4d72_11ea_9e70_0c5415364605row22_col0 {\n",
       "            background-color:  #f5eff6;\n",
       "            color:  #000000;\n",
       "        }    #T_2594819a_4d72_11ea_9e70_0c5415364605row22_col1 {\n",
       "            background-color:  #eee9f3;\n",
       "            color:  #000000;\n",
       "        }    #T_2594819a_4d72_11ea_9e70_0c5415364605row22_col2 {\n",
       "            background-color:  #eee8f3;\n",
       "            color:  #000000;\n",
       "        }    #T_2594819a_4d72_11ea_9e70_0c5415364605row23_col0 {\n",
       "            background-color:  #f5eff6;\n",
       "            color:  #000000;\n",
       "        }    #T_2594819a_4d72_11ea_9e70_0c5415364605row23_col1 {\n",
       "            background-color:  #eee9f3;\n",
       "            color:  #000000;\n",
       "        }    #T_2594819a_4d72_11ea_9e70_0c5415364605row23_col2 {\n",
       "            background-color:  #eee8f3;\n",
       "            color:  #000000;\n",
       "        }    #T_2594819a_4d72_11ea_9e70_0c5415364605row24_col0 {\n",
       "            background-color:  #f6eff7;\n",
       "            color:  #000000;\n",
       "        }    #T_2594819a_4d72_11ea_9e70_0c5415364605row24_col1 {\n",
       "            background-color:  #f7f0f7;\n",
       "            color:  #000000;\n",
       "        }    #T_2594819a_4d72_11ea_9e70_0c5415364605row24_col2 {\n",
       "            background-color:  #f4eef6;\n",
       "            color:  #000000;\n",
       "        }    #T_2594819a_4d72_11ea_9e70_0c5415364605row25_col0 {\n",
       "            background-color:  #f7f0f7;\n",
       "            color:  #000000;\n",
       "        }    #T_2594819a_4d72_11ea_9e70_0c5415364605row25_col1 {\n",
       "            background-color:  #f5eef6;\n",
       "            color:  #000000;\n",
       "        }    #T_2594819a_4d72_11ea_9e70_0c5415364605row25_col2 {\n",
       "            background-color:  #f4eef6;\n",
       "            color:  #000000;\n",
       "        }    #T_2594819a_4d72_11ea_9e70_0c5415364605row26_col0 {\n",
       "            background-color:  #f7f0f7;\n",
       "            color:  #000000;\n",
       "        }    #T_2594819a_4d72_11ea_9e70_0c5415364605row26_col1 {\n",
       "            background-color:  #fff7fb;\n",
       "            color:  #000000;\n",
       "        }    #T_2594819a_4d72_11ea_9e70_0c5415364605row26_col2 {\n",
       "            background-color:  #fdf5fa;\n",
       "            color:  #000000;\n",
       "        }    #T_2594819a_4d72_11ea_9e70_0c5415364605row27_col0 {\n",
       "            background-color:  #f7f0f7;\n",
       "            color:  #000000;\n",
       "        }    #T_2594819a_4d72_11ea_9e70_0c5415364605row27_col1 {\n",
       "            background-color:  #f5eff6;\n",
       "            color:  #000000;\n",
       "        }    #T_2594819a_4d72_11ea_9e70_0c5415364605row27_col2 {\n",
       "            background-color:  #f5eef6;\n",
       "            color:  #000000;\n",
       "        }    #T_2594819a_4d72_11ea_9e70_0c5415364605row28_col0 {\n",
       "            background-color:  #faf2f8;\n",
       "            color:  #000000;\n",
       "        }    #T_2594819a_4d72_11ea_9e70_0c5415364605row28_col1 {\n",
       "            background-color:  #f0eaf4;\n",
       "            color:  #000000;\n",
       "        }    #T_2594819a_4d72_11ea_9e70_0c5415364605row28_col2 {\n",
       "            background-color:  #f1ebf4;\n",
       "            color:  #000000;\n",
       "        }    #T_2594819a_4d72_11ea_9e70_0c5415364605row29_col0 {\n",
       "            background-color:  #faf2f8;\n",
       "            color:  #000000;\n",
       "        }    #T_2594819a_4d72_11ea_9e70_0c5415364605row29_col1 {\n",
       "            background-color:  #faf2f8;\n",
       "            color:  #000000;\n",
       "        }    #T_2594819a_4d72_11ea_9e70_0c5415364605row29_col2 {\n",
       "            background-color:  #f9f2f8;\n",
       "            color:  #000000;\n",
       "        }    #T_2594819a_4d72_11ea_9e70_0c5415364605row30_col0 {\n",
       "            background-color:  #faf2f8;\n",
       "            color:  #000000;\n",
       "        }    #T_2594819a_4d72_11ea_9e70_0c5415364605row30_col1 {\n",
       "            background-color:  #faf2f8;\n",
       "            color:  #000000;\n",
       "        }    #T_2594819a_4d72_11ea_9e70_0c5415364605row30_col2 {\n",
       "            background-color:  #f9f2f8;\n",
       "            color:  #000000;\n",
       "        }    #T_2594819a_4d72_11ea_9e70_0c5415364605row31_col0 {\n",
       "            background-color:  #faf2f8;\n",
       "            color:  #000000;\n",
       "        }    #T_2594819a_4d72_11ea_9e70_0c5415364605row31_col1 {\n",
       "            background-color:  #f6eff7;\n",
       "            color:  #000000;\n",
       "        }    #T_2594819a_4d72_11ea_9e70_0c5415364605row31_col2 {\n",
       "            background-color:  #f7f0f7;\n",
       "            color:  #000000;\n",
       "        }    #T_2594819a_4d72_11ea_9e70_0c5415364605row32_col0 {\n",
       "            background-color:  #faf3f9;\n",
       "            color:  #000000;\n",
       "        }    #T_2594819a_4d72_11ea_9e70_0c5415364605row32_col1 {\n",
       "            background-color:  #f8f1f8;\n",
       "            color:  #000000;\n",
       "        }    #T_2594819a_4d72_11ea_9e70_0c5415364605row32_col2 {\n",
       "            background-color:  #f8f1f8;\n",
       "            color:  #000000;\n",
       "        }    #T_2594819a_4d72_11ea_9e70_0c5415364605row33_col0 {\n",
       "            background-color:  #fbf3f9;\n",
       "            color:  #000000;\n",
       "        }    #T_2594819a_4d72_11ea_9e70_0c5415364605row33_col1 {\n",
       "            background-color:  #fdf5fa;\n",
       "            color:  #000000;\n",
       "        }    #T_2594819a_4d72_11ea_9e70_0c5415364605row33_col2 {\n",
       "            background-color:  #fef6fb;\n",
       "            color:  #000000;\n",
       "        }    #T_2594819a_4d72_11ea_9e70_0c5415364605row34_col0 {\n",
       "            background-color:  #fcf4fa;\n",
       "            color:  #000000;\n",
       "        }    #T_2594819a_4d72_11ea_9e70_0c5415364605row34_col1 {\n",
       "            background-color:  #f8f1f8;\n",
       "            color:  #000000;\n",
       "        }    #T_2594819a_4d72_11ea_9e70_0c5415364605row34_col2 {\n",
       "            background-color:  #f7f0f7;\n",
       "            color:  #000000;\n",
       "        }    #T_2594819a_4d72_11ea_9e70_0c5415364605row35_col0 {\n",
       "            background-color:  #fdf5fa;\n",
       "            color:  #000000;\n",
       "        }    #T_2594819a_4d72_11ea_9e70_0c5415364605row35_col1 {\n",
       "            background-color:  #f7f0f7;\n",
       "            color:  #000000;\n",
       "        }    #T_2594819a_4d72_11ea_9e70_0c5415364605row35_col2 {\n",
       "            background-color:  #f8f1f8;\n",
       "            color:  #000000;\n",
       "        }    #T_2594819a_4d72_11ea_9e70_0c5415364605row36_col0 {\n",
       "            background-color:  #fdf5fa;\n",
       "            color:  #000000;\n",
       "        }    #T_2594819a_4d72_11ea_9e70_0c5415364605row36_col1 {\n",
       "            background-color:  #f9f2f8;\n",
       "            color:  #000000;\n",
       "        }    #T_2594819a_4d72_11ea_9e70_0c5415364605row36_col2 {\n",
       "            background-color:  #f9f2f8;\n",
       "            color:  #000000;\n",
       "        }    #T_2594819a_4d72_11ea_9e70_0c5415364605row37_col0 {\n",
       "            background-color:  #fdf5fa;\n",
       "            color:  #000000;\n",
       "        }    #T_2594819a_4d72_11ea_9e70_0c5415364605row37_col1 {\n",
       "            background-color:  #fbf3f9;\n",
       "            color:  #000000;\n",
       "        }    #T_2594819a_4d72_11ea_9e70_0c5415364605row37_col2 {\n",
       "            background-color:  #fbf4f9;\n",
       "            color:  #000000;\n",
       "        }    #T_2594819a_4d72_11ea_9e70_0c5415364605row38_col0 {\n",
       "            background-color:  #fdf5fa;\n",
       "            color:  #000000;\n",
       "        }    #T_2594819a_4d72_11ea_9e70_0c5415364605row38_col1 {\n",
       "            background-color:  #f5eff6;\n",
       "            color:  #000000;\n",
       "        }    #T_2594819a_4d72_11ea_9e70_0c5415364605row38_col2 {\n",
       "            background-color:  #ede8f3;\n",
       "            color:  #000000;\n",
       "        }    #T_2594819a_4d72_11ea_9e70_0c5415364605row39_col0 {\n",
       "            background-color:  #fdf5fa;\n",
       "            color:  #000000;\n",
       "        }    #T_2594819a_4d72_11ea_9e70_0c5415364605row39_col1 {\n",
       "            background-color:  #f9f2f8;\n",
       "            color:  #000000;\n",
       "        }    #T_2594819a_4d72_11ea_9e70_0c5415364605row39_col2 {\n",
       "            background-color:  #fbf4f9;\n",
       "            color:  #000000;\n",
       "        }    #T_2594819a_4d72_11ea_9e70_0c5415364605row40_col0 {\n",
       "            background-color:  #fdf5fa;\n",
       "            color:  #000000;\n",
       "        }    #T_2594819a_4d72_11ea_9e70_0c5415364605row40_col1 {\n",
       "            background-color:  #faf2f8;\n",
       "            color:  #000000;\n",
       "        }    #T_2594819a_4d72_11ea_9e70_0c5415364605row40_col2 {\n",
       "            background-color:  #f8f1f8;\n",
       "            color:  #000000;\n",
       "        }    #T_2594819a_4d72_11ea_9e70_0c5415364605row41_col0 {\n",
       "            background-color:  #fef6fa;\n",
       "            color:  #000000;\n",
       "        }    #T_2594819a_4d72_11ea_9e70_0c5415364605row41_col1 {\n",
       "            background-color:  #fbf4f9;\n",
       "            color:  #000000;\n",
       "        }    #T_2594819a_4d72_11ea_9e70_0c5415364605row41_col2 {\n",
       "            background-color:  #fbf4f9;\n",
       "            color:  #000000;\n",
       "        }    #T_2594819a_4d72_11ea_9e70_0c5415364605row42_col0 {\n",
       "            background-color:  #fef6fa;\n",
       "            color:  #000000;\n",
       "        }    #T_2594819a_4d72_11ea_9e70_0c5415364605row42_col1 {\n",
       "            background-color:  #faf2f8;\n",
       "            color:  #000000;\n",
       "        }    #T_2594819a_4d72_11ea_9e70_0c5415364605row42_col2 {\n",
       "            background-color:  #faf2f8;\n",
       "            color:  #000000;\n",
       "        }    #T_2594819a_4d72_11ea_9e70_0c5415364605row43_col0 {\n",
       "            background-color:  #fef6fb;\n",
       "            color:  #000000;\n",
       "        }    #T_2594819a_4d72_11ea_9e70_0c5415364605row43_col1 {\n",
       "            background-color:  #f7f0f7;\n",
       "            color:  #000000;\n",
       "        }    #T_2594819a_4d72_11ea_9e70_0c5415364605row43_col2 {\n",
       "            background-color:  #f6eff7;\n",
       "            color:  #000000;\n",
       "        }    #T_2594819a_4d72_11ea_9e70_0c5415364605row44_col0 {\n",
       "            background-color:  #fef6fb;\n",
       "            color:  #000000;\n",
       "        }    #T_2594819a_4d72_11ea_9e70_0c5415364605row44_col1 {\n",
       "            background-color:  #fdf5fa;\n",
       "            color:  #000000;\n",
       "        }    #T_2594819a_4d72_11ea_9e70_0c5415364605row44_col2 {\n",
       "            background-color:  #fdf5fa;\n",
       "            color:  #000000;\n",
       "        }    #T_2594819a_4d72_11ea_9e70_0c5415364605row45_col0 {\n",
       "            background-color:  #fef6fb;\n",
       "            color:  #000000;\n",
       "        }    #T_2594819a_4d72_11ea_9e70_0c5415364605row45_col1 {\n",
       "            background-color:  #fff7fb;\n",
       "            color:  #000000;\n",
       "        }    #T_2594819a_4d72_11ea_9e70_0c5415364605row45_col2 {\n",
       "            background-color:  #fef6fb;\n",
       "            color:  #000000;\n",
       "        }    #T_2594819a_4d72_11ea_9e70_0c5415364605row46_col0 {\n",
       "            background-color:  #fff7fb;\n",
       "            color:  #000000;\n",
       "        }    #T_2594819a_4d72_11ea_9e70_0c5415364605row46_col1 {\n",
       "            background-color:  #faf3f9;\n",
       "            color:  #000000;\n",
       "        }    #T_2594819a_4d72_11ea_9e70_0c5415364605row46_col2 {\n",
       "            background-color:  #f8f1f8;\n",
       "            color:  #000000;\n",
       "        }    #T_2594819a_4d72_11ea_9e70_0c5415364605row47_col0 {\n",
       "            background-color:  #fff7fb;\n",
       "            color:  #000000;\n",
       "        }    #T_2594819a_4d72_11ea_9e70_0c5415364605row47_col1 {\n",
       "            background-color:  #f8f1f8;\n",
       "            color:  #000000;\n",
       "        }    #T_2594819a_4d72_11ea_9e70_0c5415364605row47_col2 {\n",
       "            background-color:  #f8f1f8;\n",
       "            color:  #000000;\n",
       "        }    #T_2594819a_4d72_11ea_9e70_0c5415364605row48_col0 {\n",
       "            background-color:  #fff7fb;\n",
       "            color:  #000000;\n",
       "        }    #T_2594819a_4d72_11ea_9e70_0c5415364605row48_col1 {\n",
       "            background-color:  #fcf4fa;\n",
       "            color:  #000000;\n",
       "        }    #T_2594819a_4d72_11ea_9e70_0c5415364605row48_col2 {\n",
       "            background-color:  #fdf5fa;\n",
       "            color:  #000000;\n",
       "        }    #T_2594819a_4d72_11ea_9e70_0c5415364605row49_col0 {\n",
       "            background-color:  #fff7fb;\n",
       "            color:  #000000;\n",
       "        }    #T_2594819a_4d72_11ea_9e70_0c5415364605row49_col1 {\n",
       "            background-color:  #fff7fb;\n",
       "            color:  #000000;\n",
       "        }    #T_2594819a_4d72_11ea_9e70_0c5415364605row49_col2 {\n",
       "            background-color:  #fff7fb;\n",
       "            color:  #000000;\n",
       "        }</style><table id=\"T_2594819a_4d72_11ea_9e70_0c5415364605\" ><thead>    <tr>        <th class=\"blank level0\" ></th>        <th class=\"col_heading level0 col0\" >NBkilder_KKielland_AGarborg_brev.xml</th>        <th class=\"col_heading level0 col1\" >NBkilder_KKielland_DSkavlan_brev.xml</th>        <th class=\"col_heading level0 col2\" >NBkilder_KKielland_EPeterssen_brev.xml</th>    </tr></thead><tbody>\n",
       "                <tr>\n",
       "                        <th id=\"T_2594819a_4d72_11ea_9e70_0c5415364605level0_row0\" class=\"row_heading level0 row0\" >,</th>\n",
       "                        <td id=\"T_2594819a_4d72_11ea_9e70_0c5415364605row0_col0\" class=\"data row0 col0\" >3285</td>\n",
       "                        <td id=\"T_2594819a_4d72_11ea_9e70_0c5415364605row0_col1\" class=\"data row0 col1\" >1732</td>\n",
       "                        <td id=\"T_2594819a_4d72_11ea_9e70_0c5415364605row0_col2\" class=\"data row0 col2\" >3062</td>\n",
       "            </tr>\n",
       "            <tr>\n",
       "                        <th id=\"T_2594819a_4d72_11ea_9e70_0c5415364605level0_row1\" class=\"row_heading level0 row1\" >.</th>\n",
       "                        <td id=\"T_2594819a_4d72_11ea_9e70_0c5415364605row1_col0\" class=\"data row1 col0\" >1824</td>\n",
       "                        <td id=\"T_2594819a_4d72_11ea_9e70_0c5415364605row1_col1\" class=\"data row1 col1\" >877</td>\n",
       "                        <td id=\"T_2594819a_4d72_11ea_9e70_0c5415364605row1_col2\" class=\"data row1 col2\" >1582</td>\n",
       "            </tr>\n",
       "            <tr>\n",
       "                        <th id=\"T_2594819a_4d72_11ea_9e70_0c5415364605level0_row2\" class=\"row_heading level0 row2\" >jeg</th>\n",
       "                        <td id=\"T_2594819a_4d72_11ea_9e70_0c5415364605row2_col0\" class=\"data row2 col0\" >1161</td>\n",
       "                        <td id=\"T_2594819a_4d72_11ea_9e70_0c5415364605row2_col1\" class=\"data row2 col1\" >412</td>\n",
       "                        <td id=\"T_2594819a_4d72_11ea_9e70_0c5415364605row2_col2\" class=\"data row2 col2\" >847</td>\n",
       "            </tr>\n",
       "            <tr>\n",
       "                        <th id=\"T_2594819a_4d72_11ea_9e70_0c5415364605level0_row3\" class=\"row_heading level0 row3\" >at</th>\n",
       "                        <td id=\"T_2594819a_4d72_11ea_9e70_0c5415364605row3_col0\" class=\"data row3 col0\" >1112</td>\n",
       "                        <td id=\"T_2594819a_4d72_11ea_9e70_0c5415364605row3_col1\" class=\"data row3 col1\" >394</td>\n",
       "                        <td id=\"T_2594819a_4d72_11ea_9e70_0c5415364605row3_col2\" class=\"data row3 col2\" >873</td>\n",
       "            </tr>\n",
       "            <tr>\n",
       "                        <th id=\"T_2594819a_4d72_11ea_9e70_0c5415364605level0_row4\" class=\"row_heading level0 row4\" >det</th>\n",
       "                        <td id=\"T_2594819a_4d72_11ea_9e70_0c5415364605row4_col0\" class=\"data row4 col0\" >1063</td>\n",
       "                        <td id=\"T_2594819a_4d72_11ea_9e70_0c5415364605row4_col1\" class=\"data row4 col1\" >444</td>\n",
       "                        <td id=\"T_2594819a_4d72_11ea_9e70_0c5415364605row4_col2\" class=\"data row4 col2\" >849</td>\n",
       "            </tr>\n",
       "            <tr>\n",
       "                        <th id=\"T_2594819a_4d72_11ea_9e70_0c5415364605level0_row5\" class=\"row_heading level0 row5\" >og</th>\n",
       "                        <td id=\"T_2594819a_4d72_11ea_9e70_0c5415364605row5_col0\" class=\"data row5 col0\" >963</td>\n",
       "                        <td id=\"T_2594819a_4d72_11ea_9e70_0c5415364605row5_col1\" class=\"data row5 col1\" >539</td>\n",
       "                        <td id=\"T_2594819a_4d72_11ea_9e70_0c5415364605row5_col2\" class=\"data row5 col2\" >800</td>\n",
       "            </tr>\n",
       "            <tr>\n",
       "                        <th id=\"T_2594819a_4d72_11ea_9e70_0c5415364605level0_row6\" class=\"row_heading level0 row6\" >–</th>\n",
       "                        <td id=\"T_2594819a_4d72_11ea_9e70_0c5415364605row6_col0\" class=\"data row6 col0\" >782</td>\n",
       "                        <td id=\"T_2594819a_4d72_11ea_9e70_0c5415364605row6_col1\" class=\"data row6 col1\" >194</td>\n",
       "                        <td id=\"T_2594819a_4d72_11ea_9e70_0c5415364605row6_col2\" class=\"data row6 col2\" >563</td>\n",
       "            </tr>\n",
       "            <tr>\n",
       "                        <th id=\"T_2594819a_4d72_11ea_9e70_0c5415364605level0_row7\" class=\"row_heading level0 row7\" >er</th>\n",
       "                        <td id=\"T_2594819a_4d72_11ea_9e70_0c5415364605row7_col0\" class=\"data row7 col0\" >752</td>\n",
       "                        <td id=\"T_2594819a_4d72_11ea_9e70_0c5415364605row7_col1\" class=\"data row7 col1\" >386</td>\n",
       "                        <td id=\"T_2594819a_4d72_11ea_9e70_0c5415364605row7_col2\" class=\"data row7 col2\" >602</td>\n",
       "            </tr>\n",
       "            <tr>\n",
       "                        <th id=\"T_2594819a_4d72_11ea_9e70_0c5415364605level0_row8\" class=\"row_heading level0 row8\" >i</th>\n",
       "                        <td id=\"T_2594819a_4d72_11ea_9e70_0c5415364605row8_col0\" class=\"data row8 col0\" >729</td>\n",
       "                        <td id=\"T_2594819a_4d72_11ea_9e70_0c5415364605row8_col1\" class=\"data row8 col1\" >237</td>\n",
       "                        <td id=\"T_2594819a_4d72_11ea_9e70_0c5415364605row8_col2\" class=\"data row8 col2\" >545</td>\n",
       "            </tr>\n",
       "            <tr>\n",
       "                        <th id=\"T_2594819a_4d72_11ea_9e70_0c5415364605level0_row9\" class=\"row_heading level0 row9\" >ikke</th>\n",
       "                        <td id=\"T_2594819a_4d72_11ea_9e70_0c5415364605row9_col0\" class=\"data row9 col0\" >629</td>\n",
       "                        <td id=\"T_2594819a_4d72_11ea_9e70_0c5415364605row9_col1\" class=\"data row9 col1\" >211</td>\n",
       "                        <td id=\"T_2594819a_4d72_11ea_9e70_0c5415364605row9_col2\" class=\"data row9 col2\" >376</td>\n",
       "            </tr>\n",
       "            <tr>\n",
       "                        <th id=\"T_2594819a_4d72_11ea_9e70_0c5415364605level0_row10\" class=\"row_heading level0 row10\" >Du</th>\n",
       "                        <td id=\"T_2594819a_4d72_11ea_9e70_0c5415364605row10_col0\" class=\"data row10 col0\" >609</td>\n",
       "                        <td id=\"T_2594819a_4d72_11ea_9e70_0c5415364605row10_col1\" class=\"data row10 col1\" >61</td>\n",
       "                        <td id=\"T_2594819a_4d72_11ea_9e70_0c5415364605row10_col2\" class=\"data row10 col2\" >25</td>\n",
       "            </tr>\n",
       "            <tr>\n",
       "                        <th id=\"T_2594819a_4d72_11ea_9e70_0c5415364605level0_row11\" class=\"row_heading level0 row11\" >til</th>\n",
       "                        <td id=\"T_2594819a_4d72_11ea_9e70_0c5415364605row11_col0\" class=\"data row11 col0\" >532</td>\n",
       "                        <td id=\"T_2594819a_4d72_11ea_9e70_0c5415364605row11_col1\" class=\"data row11 col1\" >269</td>\n",
       "                        <td id=\"T_2594819a_4d72_11ea_9e70_0c5415364605row11_col2\" class=\"data row11 col2\" >458</td>\n",
       "            </tr>\n",
       "            <tr>\n",
       "                        <th id=\"T_2594819a_4d72_11ea_9e70_0c5415364605level0_row12\" class=\"row_heading level0 row12\" >saa</th>\n",
       "                        <td id=\"T_2594819a_4d72_11ea_9e70_0c5415364605row12_col0\" class=\"data row12 col0\" >524</td>\n",
       "                        <td id=\"T_2594819a_4d72_11ea_9e70_0c5415364605row12_col1\" class=\"data row12 col1\" >269</td>\n",
       "                        <td id=\"T_2594819a_4d72_11ea_9e70_0c5415364605row12_col2\" class=\"data row12 col2\" >290</td>\n",
       "            </tr>\n",
       "            <tr>\n",
       "                        <th id=\"T_2594819a_4d72_11ea_9e70_0c5415364605level0_row13\" class=\"row_heading level0 row13\" >som</th>\n",
       "                        <td id=\"T_2594819a_4d72_11ea_9e70_0c5415364605row13_col0\" class=\"data row13 col0\" >491</td>\n",
       "                        <td id=\"T_2594819a_4d72_11ea_9e70_0c5415364605row13_col1\" class=\"data row13 col1\" >142</td>\n",
       "                        <td id=\"T_2594819a_4d72_11ea_9e70_0c5415364605row13_col2\" class=\"data row13 col2\" >281</td>\n",
       "            </tr>\n",
       "            <tr>\n",
       "                        <th id=\"T_2594819a_4d72_11ea_9e70_0c5415364605level0_row14\" class=\"row_heading level0 row14\" >har</th>\n",
       "                        <td id=\"T_2594819a_4d72_11ea_9e70_0c5415364605row14_col0\" class=\"data row14 col0\" >467</td>\n",
       "                        <td id=\"T_2594819a_4d72_11ea_9e70_0c5415364605row14_col1\" class=\"data row14 col1\" >226</td>\n",
       "                        <td id=\"T_2594819a_4d72_11ea_9e70_0c5415364605row14_col2\" class=\"data row14 col2\" >484</td>\n",
       "            </tr>\n",
       "            <tr>\n",
       "                        <th id=\"T_2594819a_4d72_11ea_9e70_0c5415364605level0_row15\" class=\"row_heading level0 row15\" >en</th>\n",
       "                        <td id=\"T_2594819a_4d72_11ea_9e70_0c5415364605row15_col0\" class=\"data row15 col0\" >467</td>\n",
       "                        <td id=\"T_2594819a_4d72_11ea_9e70_0c5415364605row15_col1\" class=\"data row15 col1\" >172</td>\n",
       "                        <td id=\"T_2594819a_4d72_11ea_9e70_0c5415364605row15_col2\" class=\"data row15 col2\" >320</td>\n",
       "            </tr>\n",
       "            <tr>\n",
       "                        <th id=\"T_2594819a_4d72_11ea_9e70_0c5415364605level0_row16\" class=\"row_heading level0 row16\" >]</th>\n",
       "                        <td id=\"T_2594819a_4d72_11ea_9e70_0c5415364605row16_col0\" class=\"data row16 col0\" >449</td>\n",
       "                        <td id=\"T_2594819a_4d72_11ea_9e70_0c5415364605row16_col1\" class=\"data row16 col1\" >284</td>\n",
       "                        <td id=\"T_2594819a_4d72_11ea_9e70_0c5415364605row16_col2\" class=\"data row16 col2\" >531</td>\n",
       "            </tr>\n",
       "            <tr>\n",
       "                        <th id=\"T_2594819a_4d72_11ea_9e70_0c5415364605level0_row17\" class=\"row_heading level0 row17\" >for</th>\n",
       "                        <td id=\"T_2594819a_4d72_11ea_9e70_0c5415364605row17_col0\" class=\"data row17 col0\" >408</td>\n",
       "                        <td id=\"T_2594819a_4d72_11ea_9e70_0c5415364605row17_col1\" class=\"data row17 col1\" >191</td>\n",
       "                        <td id=\"T_2594819a_4d72_11ea_9e70_0c5415364605row17_col2\" class=\"data row17 col2\" >332</td>\n",
       "            </tr>\n",
       "            <tr>\n",
       "                        <th id=\"T_2594819a_4d72_11ea_9e70_0c5415364605level0_row18\" class=\"row_heading level0 row18\" >den</th>\n",
       "                        <td id=\"T_2594819a_4d72_11ea_9e70_0c5415364605row18_col0\" class=\"data row18 col0\" >404</td>\n",
       "                        <td id=\"T_2594819a_4d72_11ea_9e70_0c5415364605row18_col1\" class=\"data row18 col1\" >86</td>\n",
       "                        <td id=\"T_2594819a_4d72_11ea_9e70_0c5415364605row18_col2\" class=\"data row18 col2\" >234</td>\n",
       "            </tr>\n",
       "            <tr>\n",
       "                        <th id=\"T_2594819a_4d72_11ea_9e70_0c5415364605level0_row19\" class=\"row_heading level0 row19\" >med</th>\n",
       "                        <td id=\"T_2594819a_4d72_11ea_9e70_0c5415364605row19_col0\" class=\"data row19 col0\" >389</td>\n",
       "                        <td id=\"T_2594819a_4d72_11ea_9e70_0c5415364605row19_col1\" class=\"data row19 col1\" >174</td>\n",
       "                        <td id=\"T_2594819a_4d72_11ea_9e70_0c5415364605row19_col2\" class=\"data row19 col2\" >326</td>\n",
       "            </tr>\n",
       "            <tr>\n",
       "                        <th id=\"T_2594819a_4d72_11ea_9e70_0c5415364605level0_row20\" class=\"row_heading level0 row20\" >mig</th>\n",
       "                        <td id=\"T_2594819a_4d72_11ea_9e70_0c5415364605row20_col0\" class=\"data row20 col0\" >373</td>\n",
       "                        <td id=\"T_2594819a_4d72_11ea_9e70_0c5415364605row20_col1\" class=\"data row20 col1\" >104</td>\n",
       "                        <td id=\"T_2594819a_4d72_11ea_9e70_0c5415364605row20_col2\" class=\"data row20 col2\" >289</td>\n",
       "            </tr>\n",
       "            <tr>\n",
       "                        <th id=\"T_2594819a_4d72_11ea_9e70_0c5415364605level0_row21\" class=\"row_heading level0 row21\" >paa</th>\n",
       "                        <td id=\"T_2594819a_4d72_11ea_9e70_0c5415364605row21_col0\" class=\"data row21 col0\" >366</td>\n",
       "                        <td id=\"T_2594819a_4d72_11ea_9e70_0c5415364605row21_col1\" class=\"data row21 col1\" >147</td>\n",
       "                        <td id=\"T_2594819a_4d72_11ea_9e70_0c5415364605row21_col2\" class=\"data row21 col2\" >203</td>\n",
       "            </tr>\n",
       "            <tr>\n",
       "                        <th id=\"T_2594819a_4d72_11ea_9e70_0c5415364605level0_row22\" class=\"row_heading level0 row22\" >(</th>\n",
       "                        <td id=\"T_2594819a_4d72_11ea_9e70_0c5415364605row22_col0\" class=\"data row22 col0\" >342</td>\n",
       "                        <td id=\"T_2594819a_4d72_11ea_9e70_0c5415364605row22_col1\" class=\"data row22 col1\" >195</td>\n",
       "                        <td id=\"T_2594819a_4d72_11ea_9e70_0c5415364605row22_col2\" class=\"data row22 col2\" >356</td>\n",
       "            </tr>\n",
       "            <tr>\n",
       "                        <th id=\"T_2594819a_4d72_11ea_9e70_0c5415364605level0_row23\" class=\"row_heading level0 row23\" >)</th>\n",
       "                        <td id=\"T_2594819a_4d72_11ea_9e70_0c5415364605row23_col0\" class=\"data row23 col0\" >342</td>\n",
       "                        <td id=\"T_2594819a_4d72_11ea_9e70_0c5415364605row23_col1\" class=\"data row23 col1\" >195</td>\n",
       "                        <td id=\"T_2594819a_4d72_11ea_9e70_0c5415364605row23_col2\" class=\"data row23 col2\" >352</td>\n",
       "            </tr>\n",
       "            <tr>\n",
       "                        <th id=\"T_2594819a_4d72_11ea_9e70_0c5415364605level0_row24\" class=\"row_heading level0 row24\" >af</th>\n",
       "                        <td id=\"T_2594819a_4d72_11ea_9e70_0c5415364605row24_col0\" class=\"data row24 col0\" >321</td>\n",
       "                        <td id=\"T_2594819a_4d72_11ea_9e70_0c5415364605row24_col1\" class=\"data row24 col1\" >88</td>\n",
       "                        <td id=\"T_2594819a_4d72_11ea_9e70_0c5415364605row24_col2\" class=\"data row24 col2\" >228</td>\n",
       "            </tr>\n",
       "            <tr>\n",
       "                        <th id=\"T_2594819a_4d72_11ea_9e70_0c5415364605level0_row25\" class=\"row_heading level0 row25\" >om</th>\n",
       "                        <td id=\"T_2594819a_4d72_11ea_9e70_0c5415364605row25_col0\" class=\"data row25 col0\" >311</td>\n",
       "                        <td id=\"T_2594819a_4d72_11ea_9e70_0c5415364605row25_col1\" class=\"data row25 col1\" >116</td>\n",
       "                        <td id=\"T_2594819a_4d72_11ea_9e70_0c5415364605row25_col2\" class=\"data row25 col2\" >223</td>\n",
       "            </tr>\n",
       "            <tr>\n",
       "                        <th id=\"T_2594819a_4d72_11ea_9e70_0c5415364605level0_row26\" class=\"row_heading level0 row26\" >;</th>\n",
       "                        <td id=\"T_2594819a_4d72_11ea_9e70_0c5415364605row26_col0\" class=\"data row26 col0\" >309</td>\n",
       "                        <td id=\"T_2594819a_4d72_11ea_9e70_0c5415364605row26_col1\" class=\"data row26 col1\" >4</td>\n",
       "                        <td id=\"T_2594819a_4d72_11ea_9e70_0c5415364605row26_col2\" class=\"data row26 col2\" >49</td>\n",
       "            </tr>\n",
       "            <tr>\n",
       "                        <th id=\"T_2594819a_4d72_11ea_9e70_0c5415364605level0_row27\" class=\"row_heading level0 row27\" >var</th>\n",
       "                        <td id=\"T_2594819a_4d72_11ea_9e70_0c5415364605row27_col0\" class=\"data row27 col0\" >309</td>\n",
       "                        <td id=\"T_2594819a_4d72_11ea_9e70_0c5415364605row27_col1\" class=\"data row27 col1\" >113</td>\n",
       "                        <td id=\"T_2594819a_4d72_11ea_9e70_0c5415364605row27_col2\" class=\"data row27 col2\" >216</td>\n",
       "            </tr>\n",
       "            <tr>\n",
       "                        <th id=\"T_2594819a_4d72_11ea_9e70_0c5415364605level0_row28\" class=\"row_heading level0 row28\" >men</th>\n",
       "                        <td id=\"T_2594819a_4d72_11ea_9e70_0c5415364605row28_col0\" class=\"data row28 col0\" >255</td>\n",
       "                        <td id=\"T_2594819a_4d72_11ea_9e70_0c5415364605row28_col1\" class=\"data row28 col1\" >175</td>\n",
       "                        <td id=\"T_2594819a_4d72_11ea_9e70_0c5415364605row28_col2\" class=\"data row28 col2\" >293</td>\n",
       "            </tr>\n",
       "            <tr>\n",
       "                        <th id=\"T_2594819a_4d72_11ea_9e70_0c5415364605level0_row29\" class=\"row_heading level0 row29\" >«</th>\n",
       "                        <td id=\"T_2594819a_4d72_11ea_9e70_0c5415364605row29_col0\" class=\"data row29 col0\" >252</td>\n",
       "                        <td id=\"T_2594819a_4d72_11ea_9e70_0c5415364605row29_col1\" class=\"data row29 col1\" >62</td>\n",
       "                        <td id=\"T_2594819a_4d72_11ea_9e70_0c5415364605row29_col2\" class=\"data row29 col2\" >125</td>\n",
       "            </tr>\n",
       "            <tr>\n",
       "                        <th id=\"T_2594819a_4d72_11ea_9e70_0c5415364605level0_row30\" class=\"row_heading level0 row30\" >»</th>\n",
       "                        <td id=\"T_2594819a_4d72_11ea_9e70_0c5415364605row30_col0\" class=\"data row30 col0\" >250</td>\n",
       "                        <td id=\"T_2594819a_4d72_11ea_9e70_0c5415364605row30_col1\" class=\"data row30 col1\" >62</td>\n",
       "                        <td id=\"T_2594819a_4d72_11ea_9e70_0c5415364605row30_col2\" class=\"data row30 col2\" >125</td>\n",
       "            </tr>\n",
       "            <tr>\n",
       "                        <th id=\"T_2594819a_4d72_11ea_9e70_0c5415364605level0_row31\" class=\"row_heading level0 row31\" >der</th>\n",
       "                        <td id=\"T_2594819a_4d72_11ea_9e70_0c5415364605row31_col0\" class=\"data row31 col0\" >244</td>\n",
       "                        <td id=\"T_2594819a_4d72_11ea_9e70_0c5415364605row31_col1\" class=\"data row31 col1\" >102</td>\n",
       "                        <td id=\"T_2594819a_4d72_11ea_9e70_0c5415364605row31_col2\" class=\"data row31 col2\" >165</td>\n",
       "            </tr>\n",
       "            <tr>\n",
       "                        <th id=\"T_2594819a_4d72_11ea_9e70_0c5415364605level0_row32\" class=\"row_heading level0 row32\" >Jeg</th>\n",
       "                        <td id=\"T_2594819a_4d72_11ea_9e70_0c5415364605row32_col0\" class=\"data row32 col0\" >240</td>\n",
       "                        <td id=\"T_2594819a_4d72_11ea_9e70_0c5415364605row32_col1\" class=\"data row32 col1\" >77</td>\n",
       "                        <td id=\"T_2594819a_4d72_11ea_9e70_0c5415364605row32_col2\" class=\"data row32 col2\" >156</td>\n",
       "            </tr>\n",
       "            <tr>\n",
       "                        <th id=\"T_2594819a_4d72_11ea_9e70_0c5415364605level0_row33\" class=\"row_heading level0 row33\" >Dig</th>\n",
       "                        <td id=\"T_2594819a_4d72_11ea_9e70_0c5415364605row33_col0\" class=\"data row33 col0\" >230</td>\n",
       "                        <td id=\"T_2594819a_4d72_11ea_9e70_0c5415364605row33_col1\" class=\"data row33 col1\" >24</td>\n",
       "                        <td id=\"T_2594819a_4d72_11ea_9e70_0c5415364605row33_col2\" class=\"data row33 col2\" >15</td>\n",
       "            </tr>\n",
       "            <tr>\n",
       "                        <th id=\"T_2594819a_4d72_11ea_9e70_0c5415364605level0_row34\" class=\"row_heading level0 row34\" >et</th>\n",
       "                        <td id=\"T_2594819a_4d72_11ea_9e70_0c5415364605row34_col0\" class=\"data row34 col0\" >203</td>\n",
       "                        <td id=\"T_2594819a_4d72_11ea_9e70_0c5415364605row34_col1\" class=\"data row34 col1\" >81</td>\n",
       "                        <td id=\"T_2594819a_4d72_11ea_9e70_0c5415364605row34_col2\" class=\"data row34 col2\" >161</td>\n",
       "            </tr>\n",
       "            <tr>\n",
       "                        <th id=\"T_2594819a_4d72_11ea_9e70_0c5415364605level0_row35\" class=\"row_heading level0 row35\" >nu</th>\n",
       "                        <td id=\"T_2594819a_4d72_11ea_9e70_0c5415364605row35_col0\" class=\"data row35 col0\" >194</td>\n",
       "                        <td id=\"T_2594819a_4d72_11ea_9e70_0c5415364605row35_col1\" class=\"data row35 col1\" >92</td>\n",
       "                        <td id=\"T_2594819a_4d72_11ea_9e70_0c5415364605row35_col2\" class=\"data row35 col2\" >145</td>\n",
       "            </tr>\n",
       "            <tr>\n",
       "                        <th id=\"T_2594819a_4d72_11ea_9e70_0c5415364605level0_row36\" class=\"row_heading level0 row36\" >kan</th>\n",
       "                        <td id=\"T_2594819a_4d72_11ea_9e70_0c5415364605row36_col0\" class=\"data row36 col0\" >188</td>\n",
       "                        <td id=\"T_2594819a_4d72_11ea_9e70_0c5415364605row36_col1\" class=\"data row36 col1\" >69</td>\n",
       "                        <td id=\"T_2594819a_4d72_11ea_9e70_0c5415364605row36_col2\" class=\"data row36 col2\" >124</td>\n",
       "            </tr>\n",
       "            <tr>\n",
       "                        <th id=\"T_2594819a_4d72_11ea_9e70_0c5415364605level0_row37\" class=\"row_heading level0 row37\" >skal</th>\n",
       "                        <td id=\"T_2594819a_4d72_11ea_9e70_0c5415364605row37_col0\" class=\"data row37 col0\" >181</td>\n",
       "                        <td id=\"T_2594819a_4d72_11ea_9e70_0c5415364605row37_col1\" class=\"data row37 col1\" >48</td>\n",
       "                        <td id=\"T_2594819a_4d72_11ea_9e70_0c5415364605row37_col2\" class=\"data row37 col2\" >81</td>\n",
       "            </tr>\n",
       "            <tr>\n",
       "                        <th id=\"T_2594819a_4d72_11ea_9e70_0c5415364605level0_row38\" class=\"row_heading level0 row38\" >de</th>\n",
       "                        <td id=\"T_2594819a_4d72_11ea_9e70_0c5415364605row38_col0\" class=\"data row38 col0\" >175</td>\n",
       "                        <td id=\"T_2594819a_4d72_11ea_9e70_0c5415364605row38_col1\" class=\"data row38 col1\" >115</td>\n",
       "                        <td id=\"T_2594819a_4d72_11ea_9e70_0c5415364605row38_col2\" class=\"data row38 col2\" >372</td>\n",
       "            </tr>\n",
       "            <tr>\n",
       "                        <th id=\"T_2594819a_4d72_11ea_9e70_0c5415364605level0_row39\" class=\"row_heading level0 row39\" >vi</th>\n",
       "                        <td id=\"T_2594819a_4d72_11ea_9e70_0c5415364605row39_col0\" class=\"data row39 col0\" >174</td>\n",
       "                        <td id=\"T_2594819a_4d72_11ea_9e70_0c5415364605row39_col1\" class=\"data row39 col1\" >74</td>\n",
       "                        <td id=\"T_2594819a_4d72_11ea_9e70_0c5415364605row39_col2\" class=\"data row39 col2\" >78</td>\n",
       "            </tr>\n",
       "            <tr>\n",
       "                        <th id=\"T_2594819a_4d72_11ea_9e70_0c5415364605level0_row40\" class=\"row_heading level0 row40\" >være</th>\n",
       "                        <td id=\"T_2594819a_4d72_11ea_9e70_0c5415364605row40_col0\" class=\"data row40 col0\" >173</td>\n",
       "                        <td id=\"T_2594819a_4d72_11ea_9e70_0c5415364605row40_col1\" class=\"data row40 col1\" >61</td>\n",
       "                        <td id=\"T_2594819a_4d72_11ea_9e70_0c5415364605row40_col2\" class=\"data row40 col2\" >146</td>\n",
       "            </tr>\n",
       "            <tr>\n",
       "                        <th id=\"T_2594819a_4d72_11ea_9e70_0c5415364605level0_row41\" class=\"row_heading level0 row41\" >Det</th>\n",
       "                        <td id=\"T_2594819a_4d72_11ea_9e70_0c5415364605row41_col0\" class=\"data row41 col0\" >164</td>\n",
       "                        <td id=\"T_2594819a_4d72_11ea_9e70_0c5415364605row41_col1\" class=\"data row41 col1\" >41</td>\n",
       "                        <td id=\"T_2594819a_4d72_11ea_9e70_0c5415364605row41_col2\" class=\"data row41 col2\" >82</td>\n",
       "            </tr>\n",
       "            <tr>\n",
       "                        <th id=\"T_2594819a_4d72_11ea_9e70_0c5415364605level0_row42\" class=\"row_heading level0 row42\" >ved</th>\n",
       "                        <td id=\"T_2594819a_4d72_11ea_9e70_0c5415364605row42_col0\" class=\"data row42 col0\" >160</td>\n",
       "                        <td id=\"T_2594819a_4d72_11ea_9e70_0c5415364605row42_col1\" class=\"data row42 col1\" >65</td>\n",
       "                        <td id=\"T_2594819a_4d72_11ea_9e70_0c5415364605row42_col2\" class=\"data row42 col2\" >119</td>\n",
       "            </tr>\n",
       "            <tr>\n",
       "                        <th id=\"T_2594819a_4d72_11ea_9e70_0c5415364605level0_row43\" class=\"row_heading level0 row43\" >han</th>\n",
       "                        <td id=\"T_2594819a_4d72_11ea_9e70_0c5415364605row43_col0\" class=\"data row43 col0\" >150</td>\n",
       "                        <td id=\"T_2594819a_4d72_11ea_9e70_0c5415364605row43_col1\" class=\"data row43 col1\" >98</td>\n",
       "                        <td id=\"T_2594819a_4d72_11ea_9e70_0c5415364605row43_col2\" class=\"data row43 col2\" >182</td>\n",
       "            </tr>\n",
       "            <tr>\n",
       "                        <th id=\"T_2594819a_4d72_11ea_9e70_0c5415364605level0_row44\" class=\"row_heading level0 row44\" >:</th>\n",
       "                        <td id=\"T_2594819a_4d72_11ea_9e70_0c5415364605row44_col0\" class=\"data row44 col0\" >150</td>\n",
       "                        <td id=\"T_2594819a_4d72_11ea_9e70_0c5415364605row44_col1\" class=\"data row44 col1\" >32</td>\n",
       "                        <td id=\"T_2594819a_4d72_11ea_9e70_0c5415364605row44_col2\" class=\"data row44 col2\" >41</td>\n",
       "            </tr>\n",
       "            <tr>\n",
       "                        <th id=\"T_2594819a_4d72_11ea_9e70_0c5415364605level0_row45\" class=\"row_heading level0 row45\" >!</th>\n",
       "                        <td id=\"T_2594819a_4d72_11ea_9e70_0c5415364605row45_col0\" class=\"data row45 col0\" >149</td>\n",
       "                        <td id=\"T_2594819a_4d72_11ea_9e70_0c5415364605row45_col1\" class=\"data row45 col1\" >3</td>\n",
       "                        <td id=\"T_2594819a_4d72_11ea_9e70_0c5415364605row45_col2\" class=\"data row45 col2\" >14</td>\n",
       "            </tr>\n",
       "            <tr>\n",
       "                        <th id=\"T_2594819a_4d72_11ea_9e70_0c5415364605level0_row46\" class=\"row_heading level0 row46\" >fra</th>\n",
       "                        <td id=\"T_2594819a_4d72_11ea_9e70_0c5415364605row46_col0\" class=\"data row46 col0\" >145</td>\n",
       "                        <td id=\"T_2594819a_4d72_11ea_9e70_0c5415364605row46_col1\" class=\"data row46 col1\" >57</td>\n",
       "                        <td id=\"T_2594819a_4d72_11ea_9e70_0c5415364605row46_col2\" class=\"data row46 col2\" >147</td>\n",
       "            </tr>\n",
       "            <tr>\n",
       "                        <th id=\"T_2594819a_4d72_11ea_9e70_0c5415364605level0_row47\" class=\"row_heading level0 row47\" >da</th>\n",
       "                        <td id=\"T_2594819a_4d72_11ea_9e70_0c5415364605row47_col0\" class=\"data row47 col0\" >137</td>\n",
       "                        <td id=\"T_2594819a_4d72_11ea_9e70_0c5415364605row47_col1\" class=\"data row47 col1\" >78</td>\n",
       "                        <td id=\"T_2594819a_4d72_11ea_9e70_0c5415364605row47_col2\" class=\"data row47 col2\" >153</td>\n",
       "            </tr>\n",
       "            <tr>\n",
       "                        <th id=\"T_2594819a_4d72_11ea_9e70_0c5415364605level0_row48\" class=\"row_heading level0 row48\" >noget</th>\n",
       "                        <td id=\"T_2594819a_4d72_11ea_9e70_0c5415364605row48_col0\" class=\"data row48 col0\" >134</td>\n",
       "                        <td id=\"T_2594819a_4d72_11ea_9e70_0c5415364605row48_col1\" class=\"data row48 col1\" >40</td>\n",
       "                        <td id=\"T_2594819a_4d72_11ea_9e70_0c5415364605row48_col2\" class=\"data row48 col2\" >59</td>\n",
       "            </tr>\n",
       "            <tr>\n",
       "                        <th id=\"T_2594819a_4d72_11ea_9e70_0c5415364605level0_row49\" class=\"row_heading level0 row49\" >Garborg</th>\n",
       "                        <td id=\"T_2594819a_4d72_11ea_9e70_0c5415364605row49_col0\" class=\"data row49 col0\" >133</td>\n",
       "                        <td id=\"T_2594819a_4d72_11ea_9e70_0c5415364605row49_col1\" class=\"data row49 col1\" >0</td>\n",
       "                        <td id=\"T_2594819a_4d72_11ea_9e70_0c5415364605row49_col2\" class=\"data row49 col2\" >2</td>\n",
       "            </tr>\n",
       "    </tbody></table>"
      ],
      "text/plain": [
       "<pandas.io.formats.style.Styler at 0x2136ed1c2b0>"
      ]
     },
     "execution_count": 4,
     "metadata": {},
     "output_type": "execute_result"
    }
   ],
   "source": [
    "nb.frame_sort(kilder_dtm, 'NBkilder_KKielland_AGarborg_brev.xml').head(50).style.background_gradient()"
   ]
  },
  {
   "cell_type": "markdown",
   "metadata": {},
   "source": [
    "# Se på en bestemt bok"
   ]
  },
  {
   "cell_type": "code",
   "execution_count": 5,
   "metadata": {},
   "outputs": [
    {
     "name": "stdout",
     "output_type": "stream",
     "text": [
      "8. september 1885 . Fra Garborg til Kielland .\n",
      "Brevs . 129\n",
      "Det var min onde Samvittighed , som hjalp mig paa Sporet : Haandskriften kjendte jeg nok ; men hvis De ikke vil blive vred – : den er saa mandig , at den bare bragte mig paa Vildspor .\n",
      "Men Samvittigheden , Samvittigheden – og selv den var ikke ubetinget at lide paa , for jeg har megen ond Samvittighed af den Art . Skal jeg gjøre Rede paa den yderste Dag for alle mine uskrevne Breve , blir det et langvarigt Regnskab . Heldigvis begynder Samvittigheden nu saa smaat at sløves .\n",
      "Da jeg endnu ikke , som jeg havde tænkt , har faaet læse Deres FortællingDeres Fortælling ] « Mors kjæledægge » , trykt anonymt under signaturen « L. » i Nyt Tidsskrift 1885 , s . 282 – 299. om igjen – for bare Travlhed faar jeg ingen Ting bestilt – , maa jeg dømme efter « det første Indtryk » . Og da faar jeg ligesaa godt sige , at den intet Indtryk gjorde . Den interesserede mig mer , da De fortalte den mundtlig ; i den skriftlige Fremstilling fandt jeg den næsten ikke igjen .\n",
      "Dette er altsaa et « Indtryk » ɔ : jeg kan ikke nærmere begrunde det . Kunde jeg bare finde igjen det Hefte af Tidsskriftet , saa kunde jeg kanske dokumentere . Men jeg husker at jeg havde den Følelse , mens jeg læste : dette er ikke Fremstilling , det er Referat .\n",
      "Jeg har nu saa oprigtigt som muligt sagt Dem « hvad jeg syntes » . Jeg haaber De tar det med Ro . D. v. s ikke blir sint og skjælder mig ud for et brutalt og urimeligt Mandfolk . Tanken i Historien interesserer mig og er vist i Grunden rigtig ; men hvor vil De i den vide Verden finde en Mor , som var istand til at ræsonnere rigtigt i et saadant Tilfælde ? Kvinderne er svage . Og Gud velsigne dem for det , havde jeg nær sagt ; men jeg skal ikke sige det . Vistnok er jeg ikke absolut rettroende i Kvindespørsmaalet ; men som De ved er jeg i Grunden noksaa rimelig .\n",
      "Jeg reiser til Paris , til Paris ] Garborg reiste først i begynnelsen av desember til Paris . Han skrev fra Loschwitz , Dresden , til Amalie Skram 5. desember at han i morgen reiser til Paris med jernbanen . tænker jeg , om en Maaneds Tid . Der haaber jeg at træffe Dem igjen , og skal da tage den Straf , De maatte finde at jeg fortjener , med saa megen Anstand som jeg kan opdrive . – En vederstyggelig Synd har jeg paa Samvittigheden : jeg har ikke skrevet til Deres Bror i Anledning hin Affære i Storthinget.hin Affære i Storthinget ] Strid om Alexander L. Kiellands diktergasje Jeg ved ikke hvad jeg skal sige ham . Jeg har en Følelse af Skam , af Ydmygelse . Jeg faar skrive og sige , at jeg haaber han nu er blit sint ; men egentlig er det ogsaa flaut . Oppe i Tønset traf jeg FruenFruen ] Beate Kielland , født Ramsland ( 1850 – 1923 ) , i 1871 gift med Alexander L. Kielland – en sød Pige ! – hun sagde , at han tager det fælt roligt . Ja ja ; jeg kan forstaa det ogsaa .\n",
      "– Nu har De naturligvis bestilt noget i Sommer , De ! brugt Tiden , udrettet noget ! i Sommer … noget ] Kielland var denne sommeren i Bossvika , Risør , hos venner av Harriet Backer . Her malte hun blant annet et landskap med stille vann som ble utstilt på Statens Kunstutstilling samme år , katalognr . 57 « Efter Solnedgang » . Maleriet ble innkjøpt av Christiania Kunstforening . Neste gang det ble vist offentlig var ved Jubileumsutstillingen på Frogner i 1914 med tittelen « Det hvite hus » , eiet av H. M. Dronningen . Maleriet er nå i Nasjonalmuseets eie . – nei , nei , jeg vil ikke tænke paa det . Jeg liker ikke ; at Folk bestiller noget ; det er en personlig Fornærmelse mod mig , synes jeg . Lev vel . Au revoir – lidt fransk kan jeg ogsaa . Dette er formodentlig det mest tufsede Brev , jeg har præsteret i det sidste Halvaar .\n",
      "7. april 1886 . Fra Garborg til Kielland .\n",
      "Brevs . 129\n",
      "Jeg synes det er dumt , at Du vil have Brevene brændte ; Du vil have Brevene brændte ] Trolig omtales en litterær tekst i brevsform som Kielland hadde planer om å få trykt , men ønsket at Garborg skulle vurdere . Kilde : note til brev nr. 68 i Dale & Thesen 1954 , s . 438 . Du havde efter min Formening faaet det ganske godt til nu . Men naturligvis , der blir vel ikke andet end Skjend at faa , hvis jeg lader det være , og Du finder kanske paa noget , som er enda bedre nu . Kanske . – Jeg tror forresten , at der ikke blir noget af det hele , jeg ; jo mer man klusser med sligt , jo værre gaar det .\n",
      "Jeg er i Kristiania nu , i Kristiania nu ] Garborg hadde tilbrakt vinteren i Paris , nylig tilbake etter syv dagers reise som Du ser , og jeg tror jeg har hilst alle , som skulde hilses , med Undtagelse af Skredsvig , Skredsvig ] Christian Skredsvig ( 1854 – 1924 ) , kunstner som jeg endnu ikke har faaet fat paa . Ja , og saa skulde jeg vist hilse Munthe ; Munthe ] Gerhard Munthe ( 1849 – 1929 ) , kunstner ham har jeg hellerikke set . Han har forlovet sig nu , Han har forlovet sig nu ] Forlovelse med Sigrun Sandberg ( 1869 – 1957 ) . Hun ble i 1919 gift med Fridtjof Nansen . som Dere vel har hørt ; det havde jeg sgu ikke troet om ham . Han kunde da gjerne ha forblevet den hellige Ungkarlestand tro , synes jeg . Men ak ! Snart vil jeg maatte klage med Profeten : jeg , jeg alene er undkommen ; alle de andre har bøiet Knæ for Baal , nemlig for Kvinden , som er vaar naturlige Arvefiende og Contrapart . Amen .\n",
      "Forestillingen om , at jeg er i Kristiania , og at jeg skal blive der , og at jeg aldrig mere skal komme ud i Verden , begynder at sige over mig og indhylle mig i et Høstveir af jevn , resigneret Tristesse . Jeg har ikke Lyst til at rangle engang ; det er ikke morsomt . Derimod indbilder jeg mig , at jeg skal kunne skrive nu . Jeg kommer til , tror jeg , at forandre Begyndelsen af BogenGjelder Garborgs roman Mannfolk , utgitt månedskiftet november / desember 1886 endnu en Gang ; og i det hele synes jeg , at den i sin Helhed ( ! ) staar klarere for mig end nogensinde .\n",
      "Tekst på skrå over siste avsnitt på siden Dette her vil naturligvis ikke komme i Avisen .\n",
      "Det blir Historien om , at det er umuligt at gifte sig og umuligt at leve i noget andet Slags Forhold heller – indtil der blir en anden Skik paa alt , og en helt anden gjensidig Forstaaelse . – Jeg beder daglig en vis Mand inderlig stege , brænde , skjære , slide , hakke og annamme disse forbandede Ugreier , som spolerer Livet ( der kunde være ikke saa fværst ) for saa mange Millioner Mennesker , og jeg haaber , at noget af dette Had skal komme med i Boka . –\n",
      "Det glæder mig at erfare , at Dere virkelig har slaaet Dere paa Dyd og gode Sæder ; saa har jeg ikke det at Tænke paa , at andre har det altfor morsomt , medens jeg sidder her og reviderer Statenreviderer Staten ] Garborg var statsrevisor fra 1883 til 1887 og skriver kjedelige Historier . Commune naufragium dulce – lad Harriet Backer oversætte det for Dig . Det betyder forresten paa god norsk , at Menneskene er misundelige Dyr , og jeg er et Menneske .\n",
      "Med Hensyn til Rangel og den Slags Ting kommer vi os forresten her i Kristiania . Vi har nu en – 1 – Bule , hvor det gaar an for europæiske Mennesker at sidde – dog ikke mer end ½ Time for Nikotinens Skyld – , nemlig Grand Hotel , som har udvidet sine Restaurationslokaler . Og med Tiden skal vi faa en fælt flot Kafe i Storthingsgaden ved Eidsvoldsplads ; da vil der altsaa i denne Hovedstad være to civiliserte Kneiper . Men forøvrigt er Gemytligheden i Tilbagegang , som Dere vil erfare af en Skrivelse , som jeg i Dag expederer til Jonas Lie , Skrivelse … Lie ] Et brev Garborg skrev til Jonas Lie med samme dato . Trykt i Dale & Thesen 1954 , brev nr. 67 . Trolig er originalen tapt . og som han vist ved Leilighed lader Jer se , eller høre . Ialfald det om Brændevinet .\n",
      "I samme Skrivelse har jeg ogsaa paa en rørende Maade beskrevet min Hjemreise med dens Fataliteter , som ikke var mange , ei heller store . Derfor gider jeg ikke skrive noget om dem her ; det eneste interessante ved Reisen er egentlig , at efter 7 Dages Tur var jeg i Kristiania . 7 Dages Jernbanereise for at komme til et Sted , hvor man helst ikke vilde være , – saadan gaar det .\n",
      "Jeg nægter ikke for , at det var morsommere i Paris , og jeg skulde ligesaa gjerne – for en Gangs Skyld – spise Middag i Rue du BacRue du Bac ] Her lå en liten restaurant med rimelig mat hvor norske kunstnere møttes . Kielland skrev en artikkel om samværet her med Jonas Lie i Samtiden 1893 : « Fra rue de Bac no. 10 » . som i Hotel Royal , skjønt Maden her er bedre , og saa faar man Akkevit her , medens man der maa nøie sig med daarlige Konjakkere . Bagefter kunde man saa drikke Kaffe i Café Regence , og saa pa Ølbulen – hele Banden . Akk ja ! Det kunde nok gaa an .\n",
      "– Det var fælt snilt af Dere at huske paa det med Adressen . Mange Tak . Et Brev har jeg ialfald faaet desformedelst . WerenskjoldsWerenskjolds ] Ekteparet Erik og Sofie Werenskiold trives vist ikke rart i Kristiania ; FruenFruen ] Sofie Werenskiold , født Thomesen ( 1849 – 1926 ) , gift med Erik W. i Paris i 1882 betroede mig , at hun hader Byen . SkeibrokSkeibrok ] Mathias Skeibrok ( 1851 – 1896 ) , billedhugger er blit Far til et sundt og velskabt Pigebarn , KjærringaKjærringa ] Inger Marie , født Nordby ( 1862 – 15.11.1886 ) , gift med Matthias S. i 1885 er nok ikke stærk .\n",
      "12. [ juli 1886 ] . Fra Garborg til Kielland .\n",
      "Brevs . 129\n",
      "Uf – saa dumt var det altsaa , at jeg ikke kom til at huske de 50 ! Jeg gik til Bryggen i den mange Tanker om disse 50 ; det var urimelig hyggeligt af Dig at sende dem , og egentlig kunde jeg nok bruge dem ogsaa , om ikke netop til Reisepenge ; men paa den anden Side vidste jeg , at brugte jeg dem , saa fik Du dem aldrig tilbage – ikke før Du for Alvor begyndte at rykke ialfald – , og derfor var det vist bedst , at jeg – med blødende Hjerte naturligvis – gav Dig dem tilbage igjen .\n",
      "Men se ! da jeg kom til Bryggen , var der foruden Dig to andre brave Mennesker , og dem havde jeg jeg ikke gjort Regning paa at træffe ; dermed kom min Tanke-Træn ud af Skinnerne – d.v . s . ind paa nog en anden Skinnegang , og de 50 Kr . existerer ikke mere . Ei heller kom jeg til at si saa meget som Tak for Brevet , hvilket jeg ogsaa havde foresat mig ; ja Brevet var baade hyggeligt i sig selv og desuden havde jeg ventet en hel Del paa det – : der var vel aldrig i Verden noget , som kunde ha gjort Dig sint ?\n",
      "– Garlaus ' e og tankalaus ' e som almindlig glemte jeg al Ting ; – da jeg var kommen optil Teatret igjen huskede jeg det , igjen , men satte mig for , at jeg skulde greie ordentlig ud om det i det Brev , som jeg nu strax vilde sende til Stavanger .\n",
      "Undskyld !\n",
      "Hvad de 50 angaar , saa ligger de urørte endnu , men Gud véd – : kniber det , saa tar jeg nok Hul paa dem , og saa – saa er det forbi med dem , er jeg ræd . Det andet , Du taler om , bringer mig til at ta Hatten under Armen og spørge , skrekslagen og imponeret : er Du virkelig rig – saadan ordentlig , veritabelt rig ? Gudbevaremig – et rigt Menneske i min Bekjendtskabskreds ! Jeg føler min Selvagtelse stige , det havde jeg ikke ventet at opleve . ( Fælt vakkert af Dig at skrive det til Werenskiold ) . skrive det til Werenskiold ] Antakelig et brev datert 15. april 1886 til Erik Werenskiold ( 1855 – 1937 ) , kunstner\n",
      "Hvad mig angaar , saa er jeg ikke rig , men vil altsaa nu blive det , som Du ved ; til en Begyndelse vil jeg – kanske – « optage et større Laan » , ved hjælp af hvilket jeg tænker at arrangere mig , og saa vil jeg – gid nu ikke dine Øren falder af ! – begynde at spare ! D. v. s . jeg har begyndt ! ! De sidste Tiders Begivenheder har laget mig lidt Skræk i Blandt – : engang maa jeg ta mig sammen og faa ialfald en foreløbig Orden i mine Affærer , det er Gudbevars ' ikke egentlig store Summer , der handler om , men det kan være ækelt nok for det ( tænk Dig f . Ex . , at endnu skylder jeg for hele min Artium – skylder til teologiske og kristelige Medmennesker , som ikke fortjener at ha noget til gode hos mig ! ) Jeg har – siden vi altsaa skal tale om Forretninger – « gjort Skridt » hos en Rigmand her i Retning af at faa « reist » en Del Kroner ( Banklaan ) , og kanske det gaar ; jeg har budt saa gode Betingelser jeg kan , solgt min Sjæl bl.a. – Jeg maa ha Banklaan , skjønner Du ; venskabelige Laan er jeg ræd – : dem kommer jeg ikke til at betale saa ordentlig , fordi – naa-ja , af flere Grunde . Nu faar jeg se , hvordan det gaar , men fælt mange Tak skal Du ha for Din venlige Antydning – saadant gjør godt til , ubegribelig godt ; for disse almindelige Pengegreier med alle de Garantier og al den vonde Beregning er saa grusomt pinlige .\n",
      "[ november 1886 ] . Fra Kielland til Garborg .\n",
      "Ms.4 ° 4318 A\n",
      "Kjære Garborg , Du maa forberede Dig – paa et lidt oprivende brev , undskyld mig paa forhaand , jeg kan ikke lade det være .\n",
      "Vi kom til at skilles paa et for mit sind saa pinlig maade , jeg havde jo tænkt da jeg bad Dig komme tidligere til jernbanen , at jeg skulde kunnet faa en mer harmonisk slut . Men saa magtede jeg intet , det var , som om der aldeles ikke havde været nogen aften forud , som havde bragt os nærmere sammen . Enda mens vi var sammen , saa var det mig saa meget , at jeg det gik . Men da coupédøren blev slaaet i , da var jeg aldeles caput . Jeg laa paa benken med en tult under hovedet som en anden straffange der føres med magt bort . Det eneste , som gjorde mig det muligt at holde ud var , at jeg atter og atter skrev og skrev og forklarte og forklarte i hovedet , tilsidst sagde jeg mig selv , dette skal Du faa lov at gjøre i virkeligheden . Da først var det muligt at staa i den fortærende bevidsthed at alle helvedes maskiner var i gang for at drage mig væk og væk og væk .\n",
      "Jeg vil nu løbe hele linen af kvindeemancipationen ud . Hvis jeg var mand og Du kvinde havde jeg al ret og lov at sige , hvad jeg snart siger , men som kvinde har jeg ikke ret . Vær saa frisindet , at Du husker paa , at jeg er menneske . Slutten mangler\n",
      "[ november 1886 ] . Fra Kielland til Garborg .\n",
      "Ms.4 ° 4318 A\n",
      "Kjære Garborg , vivi ] Backer og Kielland som returnerer til Paris etter et lengre opphold i Norge hvor de hadde tilbrakt sommeren på gården Fleskum ved Dælivannet i Bærum sammen med flere norske kunstnere . Kittys mest kjente maleri fra dette oppholdet er « Sommernatt » . På Kunstudstillingen i Kristiania var hun denne høsten representert med fire malerier , katalognr . 104 – 107. ere komne til Hamburg , og jeg kan ikke godt reise længre uden at faa lette lidt af mit tryk . Det var tilsidst saa forfærdelig ondt , saaledes som vi skiltes . Nu har alskens helveds maskines slidt , drat og maset for at faa mig sydover , mens hele mit menneske har tænkt og ønsket nordover , bare jeg havde ti minutter , de ti minutter før 9 , som jeg ikke havde magt til at bruge , da jeg havde dem . Kom vi til nogenslags klarere forstaaelse som nærmede os til hinanden , eller var der bare en fabel , at vi snakkede sammen i timevis . Det er dette jeg maa have klaret for mig . Aa dette brev har jeg skrevet hundrede gange i mit hoved mindst , hver gang have jeg slaaet lidt heftighed , lidt iver af , jeg synes nemlig , at jeg kommer som en stormvind ind i din rolige stue og rusker og rasker omkring , til Du snarere faar lyst til at lukke mig ud . Jeg skal aldrig glemme Dig , at Du lod mig faa Slutten mangler\n",
      "4. desember 1886 . Fra Kielland til Garborg .\n",
      "Ms . 4 ° 4318 A\n",
      "Kjære Garborg , nu ere vi i vort hjem , hjem ] Atelierleiligheten hun og Harriet Backer bodde i , fra våren 1881 , i Rue de Université nr. 19 i Paris . Resten av livet delte de to kvinnene husvære . og det er det første behagelige holdepunkt , reisen har været som en ond drøm . Man blir sig selv ved at være paa et kjendt sted , med kjendte ting omkring sig . Det var mig en pine , at jeg ikke fik snakket med Dig efter vor sidste lange samtale , da jeg maatte reise saaledes , saa syntes jeg , det hele havde været omsonst , vi stod fremdeles som to vildfremmede mennesker ved siden af hinanden , hvilket vitterlig de fleste mennesker paa jorden gjør .\n",
      "Jeg vil ikke nu prøve at berette , hvor ivrig , hvor tosset urimelig jeg føler og raisonnerer , naar jeg forlader de stille fornuftige enemærker . Heldigvis er det noget , som jeg har lov at holde som privat eiendom .\n",
      "Naa ja , Garborg , gid jeg havde kunnet være lidt tilsvarende for dig til hvad jeg har havt af Dig i sommerens løb . Herpaa behøver Du ikke at svare . Det er en tale fra mig bare . Ikke mindst tak , fordi Du overvandt Dig selv til at vise mig noget af Dig , det er en af mulighederne for at leve paa jorden , ialfald for et menneske som mig . Hør Du , der er noget som forekommer mig saa uklart , men Du skal ikke svare , uden Du har lyst . Før vi gik ud den sidste aften sagde jeg noget om , at jeg havde havt – jeg ved ikke om jeg sagde hygge eller glæde eller hvad af – at komme i statsrevisionen , dertil svarede Du , at det var peng1 t sagt af mig , men det nyttede saa lidet . Kanske Du sagde det hen i taagen , men med mening forstaar jeg det ikke . Du har da ikke sagt mig en eneste venlighed ( om Du overhoved har sagt nogen ) uden , at det nytter mig . HarrietHarriet ] Harriet Backer ( 1845 – 1932 ) , kunstner har holdt paa hele veien og hele tiden at sige , gid Garborg var med her . Jeg er jo kommet i skade for at more mig bedst , naar Du er med , samt til at faa den lyst at kunne fortælle Dig alt , hvad jeg oplever , det falder lidt ubekvemt hernedefra . Se saa , nu skal jeg slutte denne brutale tale , ( eller er den raa ? ) Hos LiesLies ] Jonas og Thomasine Lie bodde i Paris fra 1886 til 1906 . Deres hjem var åpent for andre norske som oppholdt seg i Paris . traf vi først ThomasineThomasine ] Thomasine Henriette , født Lie ( 1833 – 1907 ) , gift med fetteren Jonas L. i 1860 og Asta , Asta ] Asta Lie ( 1861 – 1921 ) , datter av Jonas og Thomasine Lie , gift Isaachsen de vare jo søde , Th.Th . ] Thomasine ser godt ud , A. A. ] Asta ser meget bedre ud end før trods al læsning , hun var saa vakker . Vi bleve modtagne bedre , end det er rimeligt , at mennesker modtages . Men saa om aftenen var BjørnsonsBjørnsons ] Ekteparet Bjørnstjerne og Karoline Bjørnson der , og da kom vi overraskende over Jonas , Jonas ] Jonas Lie ( 1833 – 1908 ) , forfatter men det havde nær kostet os begge livet , saaledes klemte og masede han os samt truede med knyttede næver . Det løine var , at han betroede mig i alvor , at han var jaloux paa os , aldeles alvor , han mente , at Thomasine følte sig mer aandelig beslægtet med os en med ham .\n",
      "Vi havde naturligvis en udlægning af B. B. ] Bjørnstjerne Bjørnson ( 1832 – 1910 ) , forfatter over det ny thema , man kunde næsten sige den ny maner at sætte børn ind i verden paa . Der skulde ingen drivfjær være , det skulde være en tør og kold beslutning , thi der var mennesker uden kjærlighedens trang , jeg tror ogsaa uden sanselighed , og disse skulde have ret til , uden at det var upassende for dem selv at have børn , et barn , tror jeg . Vi andre troede ikke paa disse mennesker , vi slog naturligvis af paa det store ord kjærlighed , naar vi nu slet ikke kunde faa det med , men vi vilde ialfald have en halv times tiltrækkende sympathi , jeg foreslog jo min forelskelse , men ogsaa det var for meget , altfor meget forlangt .\n",
      "Vi drev det og til , at der maatte kunne forudsættes et vist valg , men til , at det skulde forlanges , kom vi ikke . Harriet fik bedst gehør hos ham , hun tænker svært modig og sætter det saa greit ud fra hinanden . Jeg tænker jo aldrig længer end min egen følelse gaar , saa jeg sidder jo igjen i det sentimentaleste mørke , Thomasine fik ikke lov at tale , thi hun dømte bare fra bøger , Jonas fægtede for at Thome talte fra livet , BjørnBjørn ] Bjørn Bjørnson ( 1859 – 1942 ) , skuespiller og teatersjef holdt med faderen . Fru BjørnsonFru Bjørnson ] Karoline , født Reimers ( 1835 – 1934 ) , gift med Bjørnstjerne B. i 1858 ivrede imod nogle fiskeudklækningstheorier , som B. omtalte fra Comte , Comte ] Trolig referanse til Auguste Comte ( 1798 – 1857 ) , fransk filosof og positivistisk tenker men det var mer for at sige ting , som kunde genere os , B sagde , at vi alle vare uforbederlige idioter .\n",
      "Det vamler mig , at B. hjemme staar som renhedens helt , han ligger saa lavt . Fri kjærlighed var umulig , farlig , jeg kan ikke gjentage , hvad han sagde derom . Lev vel imorgen reiser vi ud til Allik , Allik ] Kallenavn på broren Alexander L. Kielland Harriet og jeg , mandag kommer Lies derud . Vær lidt glad , er du snil .\n",
      "Tekst bakpå siste side med annet blekk Dette har jeg ladet ligge , da jeg egentlig er noksaa daarlig , jeg har en mer og mer udviklet afsky for mad , det er kjedeligt , deraf blir jeg jo trættere og trættere og saa t er alt saa galt oppe i hovedet . Men jeg skal nok snart komme ud over det , nu skal jeg tage paa en ordentlig jerncur . Gak hen og gjør ligesaa . Blauds piller , Blauds piller ] Jernpreparat mot blodmangel inneholdende ferrosulfat , kaliumkarbonat , glyserin , lakrisrot og sukker . Navn etter den franske legen P. Blaud ( 1774 – 1858 ) . 6 om dagen eller 4.\n",
      "4. og 12. desember 1886 . Fra Kielland til Garborg .\n",
      "Ms.4 ° 4318 A\n",
      "Kjære Garborg , nu ere vi da i vort hjem , hjem ] Atelierleiligheten Kielland og Backer bodde i , fra våren 1881 , i Rue de Université nr. 19 i Paris . Resten av livet delte de to kvinnene husvære . det er det første behagelige holdepunkt . Reisen har været som en ond drøm med nogle smaa interessantere afbrydelser . Vi havde nogle russere i vor coupé en tid , deres samtale var morsom at høre paa .\n",
      "Det var mig en pine at jeg ikke fik snakket med Dig efter vor lange samtale , Gud ske lov , at vi da fik den . Men da jeg maatte reise saaledes uden nogen tilknytning til den , dette er vist en vestlandsk lastSiste ledd er en kommentar skrevet inn langs høyre marg den stod mig da mer som en afslutning end som en begyndelse , saa syntes jeg , det hele havde været omsonst , vi stode fremdeles som to vildfremmede mennesker ligeover for hinanden . Jeg vil ikke prøve at berette , hvor ivrig , hvor tosset urimelig jeg føler og raisonnerer , naar jeg forlader de stille , fornuftige enemærker , saadant er heldigvis privat eiendom .\n",
      "Naa ja , Garborg , gid jeg havde kunnet være lidt tilsvarende for Dig til hvad jeg har havt af Dig i aarets løb . Men Du skulde seet , havde jeg forstaaet Dig saavidt meget bedre , som jeg gjør nu , saa skulde det været anderledes . Jeg skulde isandhed ikke plaget Dig , kanske jeg kunde opmuntret Dig , det var mig saa pinlig , at det kunde jeg aldrig , og den evne havde Du i høi grad ligeover for mig , skjønt Du vist ikke ved af , at Du gjorde noget for det .\n",
      "Det trykker mig at vide Dig saa trist , jeg forstaar meget bedre hvoraf det kommer , hvorfor det er saa , men jeg kan enda ikke indse , hvorfor det behøver at være livsvarigt . Naa ja , det var fatalt , at vi ikke kunde havt den samtale for længe , længe siden , men det skulde vel være saa , intet kan vel fremtvinges , begyndelser til den har vi gjort nok af . Dette er en lynghede.Siste setning er kommentar til en overstrykning av flere uleselige ord\n",
      "Hør Du , en ting maa Du svare paa eller ei , som Du vil . Før vi gik ud , den sidste aften , sagde jeg noget om , at jeg havde havt , – jeg ved ikke om jeg sagde glæde , hygge eller hvad – af at komme i statsrevisionen . Dertil svarede Du noget , som at det var pent sagt af mig , men det nyttede saa lidet . Har Du sagt dette hen i taagen eller har Du ment noget med det eller hvad ? HarrietHarriet ] Harriet Backer ( 1845 – 1932 ) , kunstner har holdt paa hele veien og hele tiden at sige , gid Garborg var med. Jeg er kommet i skade for , at jeg kan ikke rigtig more mig , uden Du er med , og jeg har altid lyst til at kunne fortælle Dig , hvad jeg oplever , to slemme vaner , som maa aflægges . Du verden , hvor Du vist synes , at dette er en brutal fremgangsmaade , hvis man var et fint menneske saa skulde man jo lade alt dette underforstaaes , den herlige underforstaaelse ! Eller er fremgangsmaaden raa ?\n",
      "Du ved , jeg kan ikke denne definition . Hos LiesLies ] Jonas og Thomasine Lie , forfatterektepar fik vi en herlig modtagelse , først af ThomasineThomasine ] Thomasine Henriette , født Lie ( 1833 – 1907 ) , gift med fetteren Jonas L. i 1860 og Asta , Asta ] Asta Lie ( 1861 – 1921 ) , datter av Jonas og Thomasine Lie , gift Isaachsen Thomasine ser kjæk ud , Asta ser bedre ud , end da jeg reiste ifjor , men hun skal nok være lidt træt , dog var hun svært vakker . Om aftenen kom vi der igjen , da var alle BjørnsonsBjørnsons ] Bjørnstjerne og Karoline Bjørnson , forfatterektepar der , vi overraskede da Jonas , som var den samme . Det er hjertevarmende at faa saamegen directe hjertelighed over sig , kanske det er heldig , at det kommer i form af korporlige mishandlinger , derved blir det jo mindre sentimentalt , om det end er lidt livsfarligt . Det løine var , at BjørnsonBjørnson ] Bjørnstjerne Bjørnson ( 1832 – 1910 ) , forfatter syntes , han maatte gjøre noget lignende .\n",
      "De nygifteDe nygifte ] Bjørn Bjørnson og Jenny Sandberg vare der , der blev ligesom aabent udtalt , at hunhun ] Jenny Sandberg , født Dahl ( 1846 – 1914 ) , gift med Bjørn Bjørnson 1886 – 1890 havde taget ham . Naa ja , hvis hun nu virkelig havde mod til at være den tag activt tagende , og vilkaarene havde været lige , saa maa vel kvinden have ret til det med , men her er det nu væmmeligt .\n",
      "Jeg lukkede op brevet igjen , fordi jeg tænkte , jeg vilde ikke sende første ark , jeg var bange , Du skulde finde det sentimentalt , men jeg lader det passere . Hvis vi virkelig har lært lidt af hinanden at kjende , saa skulde man vel netop kunne præke ivei . Men saa maa jeg ogsaa fortælle fra igaaraftes . Vi vare hos Lies sammen med Skredsvigs , Skredsvigs ] Christian og Maggie Skredsvig der kom en pakke bøger , Thomasine sagde strax , huf da , hvorfor hun fik skjænd af Jonas.Jonas ] Jonas Lie ( 1833 – 1908 ) , forfatter Saa blev pakken aabnet , først en uindbundet , en uindbundet ] Romanen Kommandørens Døttre av Jonas Lie , utgitt 1886 den var meget brav , saa kom den indbundne , et flag , jeg saa øieblikkelig unionsmærket . Thomasine ogsaa , men Jonas ikke , saa sagde Thomasine med brudt stemme rent , der er unionsmærke i det . Og med et var de begge ganske knækket , det ene ord afløste det andet mellem dem , om at nu var alt forbi , bogen , den de havde arbeidet saa med , to aars stræv , som de havde glædet sig til , alt var nu spildt , her var intet at gjøre . Bogen var ligesom kastet dem i ansigtet igjen , Jonas ' s stilling var atter den tvivlsommes , alt tabt . Du ved , jeg forstaar ikke resignation , saa jeg begyndte strax at stride for , at Jonas skulde dementere unionsflagget , for at han skulde telegrafere til en avis , jeg vilde han skulde sige : « Vignetten paa min ny bog er mig en ubehagelig overraskelse » . Men saa fandt han paa noget andet , om at i hans hus var det rene flag . Dog der havde gaaet en lang discussion imellem med tvivl om , hvad som burde gjøres , Asta og SkredsvigSkredsvig ] Christian Skredsvig ( 1854 – 1924 ) kunstner var med mig . Nu faar vi se , hvad han gjør . Det var jo næsten som en liden ulykke , at dette skulde komme , jeg ønsker svært , at han skrider ind og viser sit standpunkt . Der var nogle øconomiske ansvarligheder ligeoverfor Hegel , Hegel ] Frederik Hegel ( 1817 – 77 ) , dansk forlegger men jeg haaber , de falder . Kan Du ikke skrive til Jonas , strax dere har faaet bogen , hvis Du kan trøste ham med , at det ikke har havt noget videre at sige , og nu ved Du , at Jonas er fortvivlet , samt at han var aldeles uvidende om bogens udstyr , før den kom igaaraftes . Jeg ærgrer mig saa over , at jeg ikke i sin tid sat i avisen det mod Ullman , Ullman ] Viggo Ullmann ( 1848 – 1910 ) , pedagog og politiker . Bror av Ragna Nielsen . nu er det vel for sent , hvorfor fik Du mig ikke til , det var bare sløvhed af mig , at jeg ikke gjorde det . Synes jeg endnu , det gaar , sender jeg det til Dig , stakkels plagede mand . Gid Du kunde komme ind af døren , bare 10 minutter vilde være noget , nei langtfraa vi maatte have aftenen til rangel.Siste setningsledd skrevet oppover høyre marg Harriet læser Kommandørens døttre , Kommandørens døttre ] Roman av Jonas Lie , utkom 1886 hilser uhyre .\n",
      "Påskrift på hodet på brevets første side ved siden av datolinjen Hvis min søstermin søster ] Dagmar Skavlan ( 1855 – 1931 ) , gift 1879 med Olaf Skavlan skulde finde paa at invitere Dig til julaften , saa er det noget hun har klækket ud i sit eget hoved jeg har ikke sagt et rene ord for det , jeg tror neppe Du har lyst .\n",
      "6. desember 1886 . Fra Kielland til Garborg .\n",
      "Ms.4 ° 4318 A\n",
      "Egentlig har jeg skrevet ¼ , ½ og et helt brev til Dig før , men de kom ikke afsted , de vare saa urolige , og man bør altid se til at være behersket ligeover for en saa sedat person som Dig !\n",
      "Jeg ved ikke , men jeg syntes , vi kom til at skilles paa en saa vond maade , kanske Du slet ikke syntes saa , men mig pinte det , aa ja jeg kan bruge præsens . Jeg vilde saa frygtelig gjerne , faat talt lidt ordentlig med Dig den sidste dag , det faldt mig ikke ind andet , end at Du skulde ønske det samme , ialfald fatte at jeg ønskede det og derpaa holdt formiddagen fri til mig . Mon Du synes , dette er fordringsfuldt sagt af mig , aa nei ? Jeg svarede kanske ikke saa bestemt om aftenen paa , at jeg kom , jeg vidste jo , at jeg gjordevilde kunne det , men Du havde kanske aldeles ret i ikke at tro , at jeg vilde gjøre det , skjønt jeg jo synes at – naa ja jeg blev fælt skuffet . Du var svært snil til at gjøre som jeg bad Dig , at komme tidlig paa jernbanen , der var jeg en maalbunden idiot . Først da jeg sad i coupêen , da syntes jeg , at al vor omgang , alt havde været omsonst , vi stod fremdeles som to vildfremmede mennesker for hinanden . Huf det var saa ondt .\n",
      "Jeg ser , at jeg fremdeles skriver lidt virvar , jeg er heller ikke frisk , temmelig daarlig , saa der er en delt skyld .\n",
      "Jeg skulde givet meget til , at vi havde havt en saadan lang , ordentlig samtale for længe , længe siden , det har sandelig ikke manglet paa begyndelser , men ingenting skal nu tvinges frem , det maa vente paa sin tid , leit at den kom saa sent . Det havde været noget ganske andet for mig at have været sammen med Dig efter at jeg havde faaet greie paa Dig . Du kan ikke tro , hvor snil jeg skulde været , aa nei ikke det , men jeg kunde været meget mer , jeg kunde ladet være at plage Dig , og især – jeg kunde kanske have opmuntret Dig . Det var mig nemlig altid saa pinligt , at det kunde jeg aldrig , selv ikke for et øieblik . Det trykker mig at vide Dig saa trist , jeg forstaar nu meget mer , hvoraf det kommer , hvorfor det er saa , end jeg gjorde før , men jeg kan enda ikke indse , at det behøver at være livsvarig . Egentlig har Du kanske ikke uopnaaelige fordringer til livet . Naa ja , jeg har jo ikke ret til at tro , at jeg skulde vide , hvad de ere .\n",
      "Men det kan jeg have ret til at sige , hvis jeg vil , at jeg vilde ønske , at jeg havde kunnet være lidt tilsvarende for Dig , til hvad jeg har havt af Dig i aarets løb .\n",
      "Hør Du , der er noget jeg skulde ønske at vide , hvad Du mente med det , hvis Du overhovedet mente noget . Før vi gik ud den sidste aften , sagde jeg noget om , at jeg havde havt – jeg ved ikke om jeg sagde hygge , glæde eller hvad af – at komme i revisionen statsrevisionen , dertil svarede Du , at det var vist pent sagt af mig , men det nyttede saa lidet . ? ?\n",
      "Paa hele veien har HarrietHarriet ] Harriet Backer ( 1845 – 1932 ) , kunstner holdt paa at sige ved hver anledning , gid Garborg var med , her spørger alle efter Dig , som om Du maatte høre til hernede . Jeg selv er kommet i skade for at trænge til at have Dig med for at more mig , samt til at synes , at jeg maa fortælle Dig , hvad jeg oplever . – Mon Du ikke synes , at alt dette her er lidt brutal tale ? den kunde være brutalere . Nu gaar vi over til Parisernyheder , faldt veien Dig lang ? Det som ligger mig nærmest er , at jeg egentlig er daarlig , jeg har en vis mistanke om , at jeg kanske har noget snigende , det er ialfald kjedeligt at blive trættere og trættere , at hade mad og drikke mer og mer , jævnlig at have en snorlemaskinesnorlemaskine ] snorle = snofte , pruste ( ODS ) i hovedet eller en treviel [ sic . ] tomhed . Hvis det er dette , Du har , saa er det ingen moro , men jeg blir nok meget snarere fri af mit , for nu skal jeg tage paa jern af al magt . Jern og fornuftigt liv . Gak hen og gjør ligesaa . Blauds piller , Blauds piller ] Jernpreparat mot blodmangel inneholdende ferrosulfat , kaliumkarbonat , glyserin , lakrisrot og sukker . Navn etter den franske legen P. Blaud ( 1774 – 1858 ) . 6 om dagen eller 4. –\n",
      "Vi kom vel herned , reisen vari egentlig som en ond drøm , først i den sidste del blev jeg vaagen , da saa vi i Hamburg et russisk theaterstykke meget morsomt . I coupéen kom vi sammen med 5 herrer , deraf en høist interessant russer , næsten nihilist , han og en halv russer discuterede Rusland paa en for os meget oplysende og interessant maade , det blev en morsom tur , herrerne vare udsøgte mod os og interessante at høre paa . – Hos Lies bleve vi modtagne som det sig sømmer LiesLies ] Ekteparet Jonas og Thomasine Lie at modtage venner , JonasJonas ] Jonas Lie ( 1833 – 1908 ) , forfatter var sig selv . Vi overraskede ham , mens BjørnsonsBjørnsons ] Ekteparet Bjørnstjerne og Karoline Bjørnson vare der , men det indskrænkede ikke hans opførsel , vi kom dog fra det med livet . ThomasineThomasine ] Thomasine Henriette , født Lie ( 1833 – 1907 ) , gift med fetteren Jonas L. i 1860 og AstaAsta ] Asta Lie ( 1861 – 1921 ) , datter av Jonas og Thomasine Lie , gift Isaachsen er det prægtig at have igjen . Th.Th . ] Thomasine Lie ser kjæk ud , og Asta er nok noget træt , men hun er saa vakker . MonsMons ] Mons Lie ( 1864 – 1931 ) , sønn av Jonas og Thomasine Lie vil reise ud , han siger , han maa røre paa sig , han kan ikke andet .\n",
      "Vi traf op i de nygifte , de nygifte ] Bjørn Bjørnson og Jenny Sandberg ja de lagde ingen skjul paa , at hunhun ] Jenny Sandberg , født Dahl ( 1846 – 1914 ) , gift med Bjørn Bjørnson 1886 – 1890 havde taget ham . Det er simple folk . Det kan jo ogsaa saa være , hvis der var lige vilkaar , hvorfor skulde hun ikke have lov til at være den active som kvinde , hvis hun har mod til det , hvis hun virkelig har mod til det . Men vilkaarene er her ikke lige nok , derfor er det væmmeligt , uans uanset alderen , detsom er jo et spørgsmaal mellem dem alene , hun kan ikke have ret til at gaa over sine børn at tage dem som en dødsvægt ind i et nyt forhold at lægge dem paa Bjørn.Bjørn ] Bjørn Bjørnson ( 1859 – 1942 ) , skuespiller og teatersjef Han behøver kanske ikke at forsørge dem , men ere de misfornøiede saa kan der ikke være værre tryk for Bjørn .\n",
      "Nei hos Lies kom vi op i en discours naturligvis , jeg finder den beskrevet i det brev jeg skrev først til Dig jeg skriver den af , thi nu havde jeg glemt den . Vi havde naturligvis en udlægning af B. over det ny thema man kunde næsten sige den ny maner at sætte børn ind i verden paa . Der skulde ingen drivfjær være , det skulde være en kold og tør beslutning , thi der var mennesker uden kjærligheds trang , jeg tror ogsaa uden sanselighed , og disse skulde have ret til , uden at der var upassende for dem selv at have børn , et barn , tror jeg . Vi andre troede ikke paa disse mennesker , vi slog jo af paa det store ord kjærlighed , naar vi nu slet ikke kan det faa det med , men vi vilde ikke gaa ind paa andet , end at der maatte være tiltrækkende sympathi ialfald for nogle øieblikke . Vi drev det dog til , at det maatte kunne forudsættes et vist valg , men mon han ikke mente et fornufts kvalitetsvalg til slægtens forædling . Men du verden , det har jo ikke nogt noget at gjøre med tidens trang , saadan snurpiberier . Harriet fik bedst gehør hos ham , hun tænker modigt og sætter det saa greit ud fra hinanden . Jeg tænker jo aldrig længre end min egen følelse gaar , saa jeg sidder jo igjen i det sentimentaleste mørke . Thomasine fik ikke lov at tale , thi hun dømte bare fra bøger , Jonas fægtede for , at Thome talte fra livet , Bjørn holdt med faderen , fru Sandberg sov , Fru BjørnsonFru Bjørnson ] Karoline , født Reimers ( 1835 – 1934 ) , gift med Bjørnstjerne B. i 1858 ivrede imod nogle fiskeudklækningstheorier , som B omtalte fra Comte , Comte ] Trolig referanse til Auguste Comte ( 1798 – 1857 ) , fransk filosof og positivistisk tenker men det var mer for at sige ting som kunde genere os andre . B. sagde at vi vare alle umulige idioter eller noget i den retning . Slutten mangler\n",
      "20. desember 1886 . Fra Kielland til Garborg .\n",
      "Ms.4 ° 4318 A\n",
      "Men Garborg da , agter Du ikke at skrive til mig . Før jeg udgyder min vrede , vil jeg ønske Dig en saa glad jul , som Du kan faa den . Ikke føl Dig ensom , for Du er ikke ensom , den er bare ensom , som ikke har mennesker , der holder af ham . Du sagde dengang i vor store strid , at Du forudsaa , at snart alle vilde trække sig fra Dig , Du blev nok snart ganske alene , nei ved Du hvad , det var et tosset ord . Mon hvor Du er julaften , min søstermin søster ] Trolig Dagmar Skavlan ( 1855 – 1931 ) , gift 1879 med Olaf Skavlan sagde , at hun havde lyst at invitere Dig did , jeg svarede bare undvigende . Gjør hun det , saa ved Du altsaa , at det aldeles er hendes egen idé , jeg raadede hende ikke engang til det , for jeg tænkte strax , at Du vilde mene , jeg var bagom det .\n",
      "Gid Du havde glæde af din bog.din bog ] Garborgs roman Mannfolk , utgitt månedskiftet november / desember 1886 Du er fæl , at Du ikke sender den , rigtig fæl , synes jeg . Hvis den ikke kommer idag eller imorgen , saa skriver jeg til CammermeyerCammermeyer ] Alb . Cammermeyers boghandel og forlag , Christiania efter den , jeg har saa bitterlig vondt for at være taalmodig , og det behøves saa bestandig , at der , hvor jeg ikke behøver at være det , der vil jeg ikke plage mig . Jeg tror saa sikkert paa den , og jeg er saa spændt paa den , gid nu mange vilde forstaa den . Det maa være en god form for sin indre trang , tilet godt udløb af ens kunstnerevne , det at skrive , huf dere kan faa saa directe faa snakket fra eder alt svært og tungt , det maatte være en lette . Jeg har min form , jeg gaar af og til langs kaierne og snakker halvhøit udover Seinen , men der er noget saa unyttig ved det , derfor hjælper det aldeles ikke . Aa ja det er saa unyttig alt , en senere slægt vil vist faa det bedre , de vil forhaabentlig ikke være født 10 aar for tidligt ialfald . I kunsten er jeg ogsaa kommet for sent til verden , jeg vilde nemlig nødig være begyndt tidligere at male , thi jeg havde da havt end mer af en tidligere feilfuld retning i mig at faa ud . Det er det bedste kuld af kunstnere at være begyndt sammen med , det som er mine venner , men jeg havde havt brug for en 10 aars yngre alder . Altsammen hvad der er liv , lyst og indhold samler sig i 40 aarene , det er jo ret frem komik , og som satire føler jeg det , og satire kan jeg bruge over mig selv , desværre , det er en svøbe , som svider . Og dog , jeg vilde ikke undvære det , Den bevidsthed det vil kanske , før jeg dør , blive mig en trøst . Men hvorfor plager jeg Dig med alt dette triste , det er kanske ifølge bibelens ord den som haver ham skal gives . Aa nei det er vel , fordi jeg er kommet i vane med at snakke saadan ialfald en trediepart ud til Dig , mon Du blir træt eller mon Du vil holde ud . Ja det kan jeg ikke vide , naar Du ikke skriver engang . Se saa nu kommer skjændene . Dag Idag er det tre uger , siden vi gik igjennem tykt og tyndt nede i Pipervigen og til Drammensveien , og ikke et ord har jeg hørt fra Dig . Kan ikke Du , som er forfatter skrivedygtig , skrive mig ud , hele den samtale . For mig blander det hele sig saa forunderlig sammen , jeg husker , hvad jeg følte , hvergang jeg saa det eller det for mine øine , hele veien staar som billeder blandet sammen med , hvad jeg selv følte . At jeg snakkede husker jeg ikke uden forsaavidt , at jeg ved hver tanke kuttede lidt af , før det voldsomste kom , det er jo den maade man i bedste fald møder sine medmennesker paa , og alligevel fandt Du det vist svært nok . Hvad Du sagde , husker jeg bare som enkelte ord , eller engang som en bestemt lyd i stemmen , som jeg ikke havde hørt før , hvad jeg i det øieblik saa for øinene , det staar klart for mig . Det kan godt hænde , at hvis jeg gik accurat den samme vei i mørke , saa vilde det hele komme frem for mig igjen . For Dig høres vist dette haabløst uklart , men det er nu ikke saa aldeles umuligt heller , thi det hele indtryk af alt dette uklare giver mig et indtryk af Dig , som jeg aldrig havde havt før . Jeg fik formodentlig selv sagt ud lidt af det , som kvælte mig , jeg følte mig ialfald for 12 timer forbausende let , og jeg fik se ind i et andet menneske , som var formet saa ganske anderledes end jeg selv , men hvor jeg alligevel syntes , at det nutidige resultat var omtrent det samme , som hos mig selv . Naar jeg sætter mig til at tænke paa de mørke trærne eller den sølede vei som vi gik paa , saa kommer der ligesom opladelser for mig af det sky og blufærdige ( jeg finder intet andet ord , saa galt det er ) i din character , meget vrangt og meget fint , men jeg forstaar det ligesom , og jeg forstaar saa godt , at Du vistnok maa have gaaet gjennem , hvad jeg vilde kalde raaheder , men Du kanske vil kalde kraft og liv , og kanske har Du ret . Men saa maa Du nu ikke blive for fin heller , det er ikke vist , at Du ikke har talent for sentimentalitet . Aa nei , Du maa have det Du har . Kanske blir Du bare træt af denne lange greie , det er ikke saa godt for mig at vide hvor jeg har Dig , jeg har saa vondt for at forstaa , naar alt skal underforstaaes , min fantasi er for livlig til det , den finder saa utallig mange veie , at den ingen kan vælge . –\n",
      "Vi blir desværre ikke hos LiesLies ] Jonas og Thomasine Lie denne julaften , da AlexanderAlexander ] Alexander L. Kielland ( 1849 – 1906 ) , forfatter , bror av Kitty jo vil have os , saa iovermorgen reiser Harriet , Harriet ] Harriet Backer ( 1845 – 1932 ) kunstner Jacob SømmeJacob Sømme ] Jacob Sømme ( 1862 – 1940 ) , maler , fetter av Kitty og jeg ud til Cernay la ville , Cernay la ville ] Alexander L. Kielland var bosatt i Cernay-la- Ville utenfor Paris fra medio okt. 1886 til 3. okt. 1887 vi blir der til 2 den juledag , da det er ThomasinesThomasines ] Thomasine Henriette , født Lie ( 1833 – 1907 ) , gift med fetteren Jonas L. i 1860 geburtsdag , den dag skal vi spise middag deroppe . Jeg vilde ønske Du var hos WerenskioldsWerenskiolds ] Erik og Sofie Werenskiold julaften . Jeg angrer , at jeg fortalte Dig om fru Holstsfru Holsts ] Trolig Fernanda Holst , født Thomesen ( 1862 – 1920 ) , som var gift med Lars Holst til 1895 og deretter giftet seg med Erik Nissen fortælling om Dig , Du er jo egentlig altid saa forsigtig , at en advarsel var unødvendig , og hun har jo ikke skadet . Lev vel . Jeg fortæller ikke Harriet at jeg skriver derfor faar Du ingen hilsen fra hende .\n",
      "[ 25. desember 1886 ] . Fra Kielland til Garborg .\n",
      "Ms.4 ° 4318 A\n",
      "Vi holder paa at feire julen herude hos Alexander , Alexander ] Alexander L. Kielland ( 1849 – 1906 ) , forfatter , bror av Kitty Harriet , Harriet ] Harriet Backer ( 1845 – 1932 ) , kunstner Jacob SømmeJacob Sømme ] Jacob Sømme ( 1862 – 1940 ) , kunstner , fetter av Kitty endnu en fætter og jeg . Det var rart nok igaaraftes at have en julaften med alle minderne fra op igjennem tiderne . Det var saa rart atter at se disse spændte barneansigter , de vare ganske blege af forventning og kunde neppe spise hele dagen . Oggsaa de straalende ansigter om juletræet . For mig samler saa mange minder sig om Alexander , fordi vi i hjemmet har camperet saa trolig sammen mod det onde princip , en stedmoder , der netop ved festlige leiligheder vilde forbittre disse smaa tilvante glæder , som vi havde fra vor egen mors tid . Det var en evig kamp . I disse Minder kom han mig saa nær , men naar jeg saa saa paa ham , saa blev vor stilling saa forskjellig , at vi bleve rent fremmede for mig . Han sad der som i en liden stat af væsener , som alle hang ved ham i kjærlighed , jeg sad saa løsrevet og fattig for ethvert baand som vel muligt . En stamfader og en bandit . Forresten kan det vel hænde at al den samlede vægt af hengiven kjærlighed kan blive til en hemmende magt . Der er hos AllikAllik ] Kallenavn for broren Alexander noget ordnet eller administrerende som gjør ham uimodtagelig for tilfældigheder og uregelmæssigheder . Det er lidt som om han fører altind under en rubrik , og det kan vel være virkning fra hans familieliv , som er saa velordnet men og med grundlag af saa fine og ædle . Han stiller i alt sine fordringer saa langt til det umulige af aands adel , at det næsten derved blir unyttigt . Selv er han elskværdig i høi grad , og det har vist igjen hans kjærlighed til børnene opdraget , thi hans liv med børnenedem er saa varmt og rigt , som jeg kanske ikke har sæt det hos andre . Ja det er et ægte vakkert familieliv , og dog er det ikke istand til at gjøre mig livstrist . Nei han maa nedstamme fra mors slægt . Jeg blir vemodig ved at se en zigeunervogn . Min barn og ungdomsdrøm var at kjøre om og leve med den , man holdt af , i en zigeunervogn . Det er ikke frit for , at jeg fremdeles synes , at det er en god idé . Min oldefar var Jens Zetlitz , Jens Zetlitz ] Jens Zetlitz ( 1761 – 1821 ) , prest og dikter bôhmer af zigeunerslægt , ham skal jeg ligne af ydre . Forresten kjeder det mig at drage saadanne slægtslutninger , man er saa overmæt af dem nu . –\n",
      "Du « kviede » Dig ved at sende Dit brev , men ved Du , Du var mig virkelig pligtig saa meget , eller aldeles ingenting . Ja det skal være vist , at jeg ligte dit brev paa noget nær , som jeg siden skal tordne løs paa . Jeg var et godt stykke paa vei til at forstaa Dig en god del af Dig og Dit brev hjalp meget til , hjertelig tak for det . Jo jeg tror Dig , hvorfor skulde jeg ikke tro Dig . Om jeg skjønner det , ja det ved jeg ikke , jeg tror , jeg gjør det . Nu synes jeg , at jeg forstaar alt. Det gjør vondt at se ind i saa megen pine , men det gjør godt at faa lov at se . Jeg forstaar , at Du er bare ræd for at nogen skulde ville hjælpe , men i saa henseende skal Du ikke være ræd for mig . – Men det tror jeg ikke , at det er bare Dig , som kan gjøre noget ved det . – Det som jeg øns mente , jeg skulde kunne gjøre , det har jeg den glæde , at Du selv blir nødt til at sige , at jeg har gjort . Det fryder mig , at Du maa pine de ord ud af Dig : « det var jo Du som holdt mig oppe i denne vonde Tid . » Og hvorved har jeg holdt Dig oppe ? Ved at jeg selv havde glæde og udbytte af at være sammen med Dig , glæde og udbytte . Du faar taale at høre disse ord . Det er der , Du skal udskjældes , men senere . Og det er dette jeg havde sat mit haab til , at der endnu kunde være , at menneskene kunde . – – Nei dette blir noget væv , jeg ved saa godt , at slutningen af denne begyndelse vilde være noget , som jeg ikke mener . Men det er dog sandt , at det er noksaa godt , at man kan hjælpe hinanden , uden at man fra nogen side gjør nogen anstrængelse . Se nu kommer skjændene alligevel strax .\n",
      "Jeg forstaar just , at det er baade legemlig og aandelig arv , men jeg synes , Du forholder Dig ligesaa urimelig til den , som om Du som din far troede , at det var fandens anfægtelser , mod fanden hjælper ingen medicin , det har Du ret i . Saa vidt jeg forstaar , saa kommer det ikke over Dig med engang , nu synes jeg at vide , at det kom lidt efter hvert . Kunde jeg faa Dig til at tro , at der er en hel del fysisk hersvaghed , som vilde kunde ' nd ' rettet fra ' nn ' ved overskriving undgaaes ved tidig hjælp , da havde det ikke været for intet , at vi har mødt hinanden paa livets landevei . Slutten mangler\n",
      "[ 25. desember 1886 ] . Fra Kielland til Garborg .\n",
      "Ms.4 ° 4318 A\n",
      "Vi holder paa med at feire julen herude hos Alexander , Alexander ] Alexander L. Kielland ( 1849 – 1906 ) , forfatter , bror av Kitty Harriet , Harriet ] Harriet Backer ( 1845 – 1932 ) , kunstner Jacob Sømme , Jacob Sømme ] Jacob Sømme ( 1862 – 1940 ) , kunstner , fetter av Kitty endnu en fætter og jeg . Det var rart nok igaaraftes at have en julaften med alle minderne fra op igjennem tiderne . Det var saa rart atter at se disse spændte barneansigter , de vare ganske blege af forventning , kunde aldeles ikke spise . Og saa omkring træet deres straalende ansigter . For mig samler saa mange minder sig om Alexander , fordi vi har hjemme camperet sammen mod det onde princip , en stedmoder , som netop ved alle festligheder vilde forbittre enhver liden tilvant fornøielse . Just dem , der laa mest minder om fra vor egen mors tid . I disse minder samledes AllikAllik ] Kallenavn på broren Alexander og jeg , men ellers hvor ere vi ikke forskjellige og forskjellig stillet . – Der sad han i en liden stat af væsener , som alle hænger ved ham i kjærlighed , og jeg sad der saa løsrevet og fattig for ethvert baand som vel muligt . En stamfader og en bandit . Forresten kan det vel hænde at al den samlede vægt af kjærlighed kan blive til en hemmende magt . Der er ogsaa hos Allik noget ordnet ligesom , som er uimodtageligt for tilfældigheder , for uregelmæssigheder og disse vilde jeg ikke kunne undvære . Det er , som om han fører alt under ind under en rubrik , det maa vel være saa . Ligeover for børnene maa han vel altid ligesom have sine papirer i orden hver eneste dag . Hele hans liv , mellem børnene især , er forresten saa varmt og rigt , jeg har kanske ikke seet en far , som har mer levet med og i børnene dem . Hele familielivet har ligesom saa fine , ædle grundregler , der er vistnok en styrke i dette faste ordnede men , men – ja det gjør ikke mig livstrist for mit vedkommende .\n",
      "Nei jeg blir vemodig ved at se en zigeunervogn . Min barn og – ungdomsdrøm var at kjøre om og leve med den , jeg holdt af i en zigeunervogn . Jeg synes fremdeles , at det er en god idé . Men saa nedstammer jeg jo directe fra Jens Zetlits , Jens Zetlits ] Jens Zetlitz ( 1761 – 1821 ) , prest og dikter min oldefar , ligner ham af ydre , han var Böhm böhmer zigeuner . Alexander ligner mest paa mors slægt . –\n",
      "Du « kviede » Dig ved at sende Dit brev , men ved Du , Du maatte sende det . Du var mig virkelig pligtig saa meget , eller aldeles ingeting . Ja det skal være vist , at jeg ligte dit brev paa noget nær , som jeg skal tordne løs paa siden . Jeg var langt paa vei til at forstaa en god del af Dig , og dit brev har hjulpet meget til , hjertelig tak for det . Jo vist tror jeg Dig i , hvad Du kalder din sygdom , naar jeg har talt om din tristhed , som det har gjort mig saa ondt at se , saa har jeg troet , det var evnen til at nyde livet , som manglede , ikke at der skulde ruge noget ondt , der forbittrede alt. Men det kan nok hænde , at jeg synes , Du kunde se paa den lighed Du har med din far paa en for Dig sundere og mer heldbringende maade . Bliv nu ikke utaalmodig , jeg skal herefter aldrig tale om alt dette efter dit ønske , men jeg har jo lov at svare paa om jeg forstaar Dig .\n",
      "Tanken paa din far forfølger mig rent , stakkars menneske . Jeg har aldrig vidst , at han dræbte sig selv og det som kristen , for hvem den synd er evig fordømmelse , og alt dette paa det triste Jædderen . For enten magter man den natur , da hjælper den en , eller man knuges ihjel af den . Huf .\n",
      "Ja , naar Du kunde skrive , saa de mennesker kunde hjælpes , vi samler ellers alt for vor klasse , og mon ikke de har det værre , naar de har det vondt . Jeg skiller os i klasser fordi vi ved mer , vor sorg er mindre om ond uklarhed .\n",
      "Jeg tror Dig , og jeg forstaar nu , at det er som Du siger , mangel paa livsmod ikke hvad jeg troede livslyst mangel paa evne til at nyde . Jeg vilde gjerne have vidst dette før , ikke fordi jeg et øieblik tror , at jeg skulde kunne have hjulpet Dig , jeg vilde kanske bedre have forstaaet , at derom kunde ei være tale , skjønt jeg aldrig har troet det . Men netop det , jeg selv siger , jeg troede at kunne være , det har jeg nu alligevel den glæde , at Du blir nødt til at sige at jeg har været . Det fryder mig , at Du maa pine ud af Dig de ord « det var jo Du som holdt mig oppe i denne vonde Tid . » Og hvorved har jeg holdt Dig oppe , ved at jeg selv havde glæde og udbytte af at være sammen med Dig , glæde og udbytte , Du faar taale at høre disse sidste ord , siden skal Du faa morderlige skjænd .\n",
      "Og dette er det emeste , [ sic . ] , skal være ' eneste ' mennesker kan være hinanden , ikke fordi de vil holde hinanden oppe , men fordi de gjensidig holder hinanden oppe , uden at de selv ved om det . Altsaa den hjælp , Du taler om , den mener jeg ikke Du kunde finde modtage af mig , men at den findes paa jorden , det tror jeg .\n",
      "Men naar jeg alligevel gjerne vilde havt greie paa Dig , enda mens vi var sammen saa er der fordi der er en side , som Du glemmer . At det ikke bare er en aandelig kræft , men accurat ligesaavel fysik . Naar Du ikke , strax Du føler dette forfærdelig onde snige sig ind paa Dig , giver Dig til at styrke dit legeme , saa er Du ligesaa uvittig som Færden.Færden ] Anders Færden ( 1860 – 1939 ) , jurist og sædelighetsforkjemper Han vil at en moders kristelige ord skal curere enhver fristelse til , ja jeg siger , usædelighed , men det er altsaa lexiconfeil.det er altsaa lexiconfeil ] Kielland skrev artikkelen « Et indlæg i Kvinde-Sagen » , trykt i Luthersk Ugeskrift 21. mars 1885 , som et motinnlegg til Færdens syn på blant annet kvinnesak som kristendomsfiendtlig . Han vil bare aand skal hjælpe fysik , Du forsmaar at lade fysik hjælpe aand . For det første burde Du vist aldrig arbeide haardt uden at styrke Dig samtidig , det er kjedeligt , Du er vist færdig at kaste op af mig , men jeg tror nok , at dette er et gyldent ord , og saa burde Du aldrig legemlig lade Dig komme saa daruntervelvillig lesning , som jeg har seet Dig ihøst . Og efter al denne tørre tale , som det egentlig plager mig at holde ( men Du kjender jo min fortvivlede praktiskhed , ) saa vil jeg bare faa sige , at din beskrivelse af Dig selv med din sygdom er mig et venskabsbevis , som jeg aldrig skal glemme Dig . Slutten mangler\n",
      "[ 25. desember 1886 ] . Fra Kielland til Garborg .\n",
      "Ms.4 ° 4318 A\n",
      "Vi holder paa med at feire julen her hos Alexander , Alexander ] Alexander L. Kielland ( 1849 – 1906 ) , forfatter , bror av Kitty Harriet , Harriet ] Harriet Backer ( 1845 – 1932 ) , kunstner Jacob Sømme , Jacob Sømme ] Jacob Sømme ( 1862 – 1940 ) , kunstner , fetter av Kitty endnu en fætter og jeg . Det var rart nok igaaraftes at have en julaften med alle minderne fra op igjennem tiderne . Det var saa rart atter at se de spændte barneansigter , det var med tvang , vi fik dem til at spise , de sade ganske blege af forventning . Og saa deres straalende ansigter om juletræet .\n",
      "Minderne samler sig om Alexander , fordi vi saa trolig gjennem tiderne har camperet sammen mod det onde princip i hjemmet som især ved festerne vilde forbittre enhver liden fin , nedarvet fornøielse , just dem der laa mest minder om fra vor egen mors tid . I disse minder samledes AllikAllik ] Kallenavn på broren Alexander og jeg , men ellers hvor ere vi ikke forskjellige . Der sad han midt i en liden stat af væsener , som rent hænger ved ham , og jeg sad der saa løsrevet og fattig for et baand som vel muligt . En stamfader og en bandit . – Det kan dog hænde at naar al den samlede vægt af kjærlighed lægges paa en , saa kan det blive til en hemmende magt . Der er ogsa hos Alexander noget ordnet ligesom , som er uimodtageligt for tilfældigheder , for uregelmæssigheder , og paa disse sidste lever jo egentlig vi andre .\n",
      "Hos saadanne overhoveder føres alt ind under en rubrik , det maa det ; for børnenes skyld maa de ligesom have sine papirer i orden hver eneste dag . Forresten ser jeg dette forholds rigdom og skjønhed , men det er ikke det som gjør mig livstrist . Nei det er en zigeunervogn . Min barn- og ungdomsdrøm var at kjøre om og leve med den , jeg holdt af , i en zigeunervogn . Jeg synes fremdeles , at det er en god idé . Men saa nedstammer jeg directe fra Jens Zetlitz , Jens Zetlitz ] Jens Zetlitz ( 1761 – 1821 ) , prest og dikter min oldefar , ligner ham af ydre , han var böhmer zigeuner . Alexander ligner mest paa mors slægt . Et stykke julefantasi ?\n",
      "Du « kviede » Dig ved at sende Dit brev , men ved Du , Du maatte sende det , Du var mig virkelig pligtig saa meget . Dog en hjertelig tak skal Du have for det .\n",
      "Jo Du , jeg tror , at jeg har greie paa Dig nu , jeg skal altsaa aldrig senere snakke om dette . Men denne gang , maa jeg da faa lov at sige lidt . Jo vist tror jeg Dig , at Du mangler mod paa livet . – Du verden , hvor jeg føler medynk med din far . Har han virkelig som kristen endt sit liv med den synd , som , de lærer , er evig fordømmelse . Jeg faar ham ikke fra mig igjen . Jeg har tænkt mig , efter hvad Du før har sagt , at han var død af overnervøsitet i en eller anden sygdom , halvgal . Men dette giver mig et blik ind i Slutten mangler\n",
      "Hr Arne Garborg Statsrevisionen Storthingsbygningen Kristiania Norvège\n",
      "[ Romjulen 1886 ] . Fra Kielland til Garborg .\n",
      "Ms.4 ° 4318 A\n",
      "Vi har været ude hos min broder i julen . Det var godt og hyggeligt . Det var godt at se de barneansigter glade og straalende , først spændte af forventning , saa frydefulde om træet . Godt at se min bror i sin kreds af alle disse afhængige af ham i kjærlighed . Han har et prægtig familieliv , lever som faa med sine børn . Det var rart at se ham sidde der som stamfaderen , med alle en stamfars glæder men ogsaa baand , og saa føle mig selv saa fattig saa løsrevet for ethvert baand som muligt . En stamfader og en bandit . Ja han har det godt , men jeg kan dog ikke blive livstrist for mig selv heller ved det syn . Min ung barn og - ungdomsdrøm var at kjøre rundt og leve med den , man holdt af i en zigeunervogn . Det er ikke frit for at jeg enda synes , at det er en god idé . En zigeunervogn gjør mig vemodig , men i saadant et hjem , der er saa meget liggende saa meget udenom . Hvis jeg ikke var ludlei af slægtslutninger , saa vilde jeg mindes , at Jens Zetlits , Jens Zetlits ] Jens Zetlitz ( 1761 – 1821 ) , prest og dikter oldefar , var böhmer og zigeuner . AlexanderAlexander ] Alexander L. Kielland ( 1849 – 1906 ) , forfatter , bror av Kitty ligner og slægter kanske mer paa mors side . –\n",
      "Hjertelig tak for Dit brev . Du « kviede » Dig ved at sende det . Aa nei , sig ikke det , Du maatte virkelig sende det eller aldeles intet . Ja vist glædede det mig , det gjør ondt at se ind i saa megen pine , men det gjør godt at faa se . Jo Du , jeg tror Dig i hvert et ord , og jeg tror nok jeg faar greie paa Dig . Jeg var jo lidt paa vei til at forstaa Dig , men jeg troede , det var evnen til at nyde livet , jeg forstod ikke , at det var selve modet paa det , Du manglede . Jeg skal aldrig mer plage Dig med at tale om dette , jeg forstaar saa godt , at det maatte plage Dig , men bare denne ene gang , maa jeg faa svare . Ved Du , jeg beundrer end mer din bog , din bog ] Romanen Mannfolk , utgitt månedskiftet november / desember 1886 naar jeg ved , at den er skrevet med det Tryk paa Dig .\n",
      "Ja det er vist , at jeg synes , Du tar Dig sammen , jeg synes Du har ret i alt hvad Du siger , men der er en factor , Du ikke tager med. Du gjør alt til arv , eller en uundgaaelig arv . Du kunde se paa den lighed Du har med din far paa en for Dig sundere og mer heldbringende maade . Tanken paa din far forfølger mig rent , stakkars menneske . Jeg har aldrig vidst , at han dræbte sig selv , og det som kristen , for hvem det fører til evig fordømmelse efter deres tro , og alt dette paa det triste Jædderen . For enten magter man den natur , da hjælper den en , eller man knuges ihjel af den . Uf . Naar Du kunde skrive , saa de mennesker kunde hjælpes , vi samler ligesom alt for vor klasse , og mon ikke de har det værre , naar de først har det vondt . Jeg skiller os i klasser , fordi de ved mindre , vor sorg er mindre en pinefuld ond uklarhed . Men hvad vil Du give dem til modvægt . – Du siger selv , at Du hos dig kalder det nervørsitet , altsaa Du erkjender en del fysik , i din sygdom , men Du behandler det , som det var bare en aandelig kræft , som maatte og skulde tære Dig bort . Undskyld men jeg synes , Du er ligesaa uvittig som Færden , Færden ] Anders Færden ( 1860 – 1939 ) , jurist og sædelighetsforkjemper naar han vil at ligeover for sædelige fristelser skal en moders kristelige ord være en kur , han vil at bare aand skal kurere fysik . Du forsmaar at lade fysik hjælpe aand.Du forsmaar … aand ] Kielland skrev artikkelen « Et indlæg i Kvinde-Sagen » , trykt i Luthersk Ugeskrift 21. mars 1885 , som et motinnlegg til Færdens syn på blant annet kvinnesak som kristendomsfiendtlig . Du synes , at jeg er ækel nu , jeg ved det . Gid jeg havde havt mer rede paa Dig isommer , i dette havde jeg virkelig kunnet være Dig en tørt praktisk hjælp . Den chenin og det jern , Du siden har taget , det skulde Du begynde med i det øieblik , Du følte dette forfærdelige onde snige sig paa Dig . Du skulde aldrig arbeide strængt uden styrkemidler ved siden . Tak ikke cognac , det vil Du strax foreslaa ? Nu mener Du vel atter , at jeg aldeles ikke forstaar Dig , aa jo Du , jeg tror ikke , det ligge her , men jeg tror , Du skulde gjøre dig snarere en bundsforvant i dit legeme ved at styrke det til striden , og det før Du selv er overvundet , saaog denne skrækkelige angstfulde modløshed er der .\n",
      "For den er der jo ikke , saa den overmander Dig altid ? Jeg forstaar godt , at det gaar gjennem det hele , men ligeover for de svære tryk , da synes jeg , Du forholder Dig ligesaa urimelig , som om du ligesom din far troede , at det var fandens anfægtelse . Det var ikke sandsynlig , at han skulde tro , at fanden kunde paavirkes af medicin , men naar Du kalder det nervøsitet , da skulde Du være længre end din far ? Nu skal jeg aldrig komme med dette mer , det er kjedelig at være tør praktisk , men jeg kom ikke med det , hvis min varme medfølese med Dig ikke tvang mig . Jeg har bitterlig ondt af Dig , nu skal jeg ikke sige det heller mer . –\n",
      "At Du netop , naar Du er sygest er mest ræd for at nogen vil hjælpe Dig , det fatter jeg , og jeg har heller aldrig villet det . Det jeg har villeønsket , det har jeg opnaaet ; Jeg nemlig fryder mig over at Du maa pine ud af Dig de ord : « det var jo Du som holdt mig oppe i denne vonde Tid . » Og hvorved har jeg holdt Dig oppe , ved at jeg selv havde glæde og udbytte af at være sammen med Dig . Hvis ikke det havde været tilfælde , var jeg jo aldrig kommet , og havde heller aldrig kunnet være til den fjerneste hygge . Mon Du ikke efterpaa har skammet Dig lidt over , at Du siger , jeg skal spørge dem som i senere tid har hædret dig med sit venskab , saa faar jeg vide , at Du ikke har noget videre at give . Hvad i alverden skiller det mig , hvad de synes . Hvad er det , at man giver ? At den ene part tager . Det kan jo hænde , at jeg slet ikke havde ligt Dig , da Du var enthusiast . Naa ja , lad det da « klinge underligt » i dine øren , at jeg siger Du har « været noget » for mig , det har jeg aldrig sagt med de ord accurat , men med meget hjerteligere . Hvorfor siger Du alt dette . Der er en liden bitter ly lyd af det , som jeg ikke taaler , det som gjorde , at jeg dengang , Du ved , Du var saa snil , maatte gjennem det paa død og liv . Ligesom naar man vil værge sig . Her er det for ansvar . Vent til jeg engang anklager Dig , naa ja da har Du jo altsaa nu advaret mig for ikke at sætte for store forhaabninger . Undskyld mig , Garborg , her var jeg sint , dette er stygt af mig . Men jeg synes ikke rigtig , det kommer Dig ved , hvad jeg tænker , ialfald kan Du jo lade det staa hen uden at harcellere derover . – Se nu er jeg aldeles uvis , om Du ikke er svært kjed over dette brev , men nu taler jeg altsaa ikke mer derom . Tusind tak for det hele . Slutten mangler\n",
      "1. januar 1887 . Fra Kielland til Garborg .\n",
      "Ms.4 ° 4318 A\n",
      "Kjære Garborg , det har mer klem , naar man siger godt nytaar paa selve dagen , detn er gjort til det , for ellers gaar alt som ellers . Altsaa et godt nytaar , helst meget godt .\n",
      "Vi vare igaar hos Lies.Lies ] Jonas og Thomasine Lie Ved en ren feiltagelse vare vi ikke budne til middag . Til Thomasines store sorg , kom vi naturligvis ikke , de ventede og de sendte bud , det sidste spor var , at vi havde været hos RunebergsRunebergs ] Walter Runeberg , finsk billedhugger , og hustru Lina , bosatt i Paris fra 1876 – 1893 kl 6 , vi vare altsaa i nærheden . De ventede med gaasen , altid stod en ude paa trappen raabende ved hver lyd nedover , er det Kitty og Harriet.Harriet ] Harriet Backer ( 1845 – 1932 ) , kunstner ThomasineThomasine ] Thomasine Henriette , født Lie ( 1833 – 1907 ) , gift med fetteren Jonas L. i 1860 med voldsom hovedpine , stod inde og var utaalmodig . Vi gik ude i omegnen , spiste vor middag i en kuskekneipe deroppe og drøide paa tiden , det bedste vi kunde , den vilde aldrig blive ½ 8 . Tilsidst da vi steg op ad trappen til sidste hvilestation og sad der , hørte vi Thomasines stemme : Kitty og Harriet . Ja svarede vi med glad uskyldighed . « Naa har vi ventet siden kl 6 og sidder endelig og spiser .\n",
      "Naa ja vi havde jo vore forsvarspapirer i fuld orden , naar man ikke er inviteret til middag , saa er man ikke inviteret til middag , saadant kan ikke underforstaaes . Thomasines hovedpine forsvant , og da vi havde greiet ud lidt af al den misforstaaelse , som bestod i , at ingen havde sagt noget , saa var alt glæde . Jonas , hvis jaloux sjæl altid er aarvaagen , sagde bare tankefuld , « Jeg gad vidst , Thome , hvad din hovedpine kommer af ? » – Dine breve blev læst høit , og de gav mig ond samvittighed , fordi jeg syntes jeg havde skrevet dig saadant ækelt trist brev . Det var saa egoistisk og tillige saa urimelig . Jeg mærker det , at jeg er saa infamt underlegen , naar der skal skrives ; mundtlig greier jeg mig , siger jeg noget lagvendt bagvendt , det være sig i i [ sic . ] god eller ond retning , saa er jeg tilsvars og kan strax rette det med mimik eller et nyt ord . Du er saa væmmelig modbydelig overlegen heri skriven . Var jeg derimod kommet ind i statsrevisionen , saa var jeg gaaet hen , taget Dig i haanden og sagt , at det var et rigtig vennestykke ' vennestykke ' rettet fra ' venskap ' ved delvis overskriving af dig , at Du vilde skrive det , Du gjorde , og du vilde sæt paa mit ansigt , at jeg var glad derover .\n",
      "Med hensyn til det , jeg skjændte for , du verden , ansigt til ansigt skal jeg da greie hvadsomhelst , hvis jeg bare tør forudsætte lidt sympathi . Naa ja , brevet giver ' giver ' rettet fra ' g ' ved overskriving min stemning , men egentlig var det unødvendig at bebyrde Dig med alt det , ' det ' rettet fra ' den ' ved overskriving Du hørtes saa lidet glad i Jonas ' sJonas ' s ] Jonas Lie ( 1833 – 1908 ) , forfatter brev , at jeg ærgrede mig over mig selv . Hvis jeg var kommet ind i statsrevisionen havde jeg endt min snak med : er vi ikke nu bedre og greiere venner , end vi var før . Nu tør jeg ikke sigespørge om det for jeg synes jeg har skrevet saa meget overflødigt . Du er utaalelig overlegen i skriven , som sagt . Jeg læser langsomt og med nydelse Mannfolk , Mannfolk ] Garborgs roman , utgitt månedskiftet november / desember 1886 jeg sluttede nu netop med der , hvor Georg og HeleneJulie først kommer i tvivl om , at det gaar godt , ( det var da ogsaa fatalt , at jeg skulde skrive feilt navn ) . Det er saa saart , at det ikke skal kunne holde helt frem , men Du har vistnok ret . Det er det eneste jeg ligesom betvivler i bogen , at Georg Jonathan saa fort og brutalt tænker sig forholdet til hende brudt . Jeg blir ikke trist over bogen , fordi omtrent alle , hvor ondt det end er , saa har de faaet lidt af livet , paa Dagmar nær og kanske Bjølsvik , skjønt han er sig da bevidst , at han holder af hende , og det er da noget , meget , om han saa lider for det . Jeg har syntes , at der i slutningen var noget vel raat , men jeg falder fra frivillig , fordi jeg mærker , at det forsvinder i det hele , ( Lauritz naturligvis ) , fordi ' fordi ' rettet fra ' men ' ved overskriving jeg forstaar , at naar han der skulde forbryde sig , saa maatte det være voldsomt . Kalder Du hans følelse for Dagmar kjærlighed ? Eller kan saadan en SvavaSvava ] Svava Riis , en sentral kvinneskikkelse i Bjørnstjerne Bjørnson roman En hanske , utgitt 1883 som hun bare indgyde den slags følelse . Det ere varme i manden , aa ja de ere svært gode begge to. Ja hver enkelt mand har mulighed i sig næsten mer end kvinderne , men jeg blir rent utaalmodig over den endeløse slarve raaheden , som vi ikke ser høidepunktet af enda engang . Jeg skal sige Dig , jeg tænker hele tiden paa , at Jonas har jo skrevet om personerne i bogen , saa det er saa løie , at jeg kommer her og lægger mit besyv . Du forstaar , at jeg er varm og begeistret for den bogen . Helene har min sympathi , men ikke Dagmar , og det ærgrer mig , at jeg tror , Du synes , Du har lært af mig meget til hende . Hun er godt gjort ialfald . Albertinee [ sic . ] Albertinee ] Christian Krohgs roman Albertine , utgitt 20. desember 1886 var kommet igaar men ingen havde læst i den enda , de andre snakkede om den , om din bog om Ragna NielsenRagna Nielsen ] Ragna Wilhelmine Nielsen , født Ullmann ( 1845 – 1924 ) , lærer og kvinnesaksforkjemper og Gina KroghsGina Kroghs ] Jørgine Anna Sverdrup Krog ( 1847 – 1916 ) , politiker og kvinnesaksforkjemper indlæg i avisen , jeg havde netop faaet en hilsen i et brev , at en veninde vilde skrive mig til , men med forberedelse , at jeg ei blev tilfreds , thi hun var ikke enig med « min ven Garborgs bog » . Uf nei , de ere egentlig ikke enige med andet end Svavaer og fordømmelsen over mandfolk . Gid jeg den gang havde sendt ind det til avisen med Ullman , Ullman ] Viggo Ullmann ( 1848 – 1910 ) , pedagog og politiker , bror av Ragna Nielsen jeg kunde da nu flettet noget med noget til . Løsrevet med et at komme , det magter jeg ikke , men for mit øie ser det saa forkjert ud ?\n",
      "Altsaa prostitutionen skal ophæves , afskaffes som institution , det er jo klart , at naar det kan ske , saa vil vel ingen m være med at se paa , at alle disse lider den forsmædelige overlast til vor beskyttelse . Men naar nu denne der er denne umulige afstand mellem kjønnene ialfald i vore klasser . Derom taler ingen . Ja mandfolkene faar jo revselser baade af os og sig selv , men ei . Mændene blir sagt sandheden , naturligvis med rette , men det er ligesaa man ikke husker paa , at det kan forventes , at kvinder af vor klasse skal have liv i sig , eller det tillades ikke . Derfor skuffede det mig saa , at Du ikke strax forstod Cecilie , Du maatte da vide , at det var derom jeg havde snakket saa tit . Det var jo ord til andet det samme som Jonas Lie siger , jeg havde sagt i det , som jeg af sløvhed ikke sendte ind . Enten af sløvhed , eller fordi jeg saa ofte havde præket det , at det var blit gammelt for mig selv . Nu ærgrer det mig . Jeg hørte paa Jonas , Thomasine og Harriet snakke , men jeg syntes , de kjørte gale veie , da de talte om hendes pekniære [ sic . ] , skal være ' pekuniære ' stilling , Harriet fremhæver altid , at ingen af os skal gjøre noget , da vi bør vente paa en ny fru Collett , fru Collett ] Camilla Collett ( 1813 – 1895 ) , forfatter , utga første samfunnskritiske roman i Norge det maa ikke gjøresvelvillig lesning , kan leses som giøres uden en stor begavelse . Det er nu til mig , da hun hader at jeg skriver for det . Naturligvis har hun det gode motiv , at hun er ræd , jeg skal forsømme min egen kunst , men jeg er nu saa gammel , at kan jeg ikke nu bestemme hvad jeg gjørvelvillig lesning , kan leses som giør , saa blir det vel ikke før i det næste liv .\n",
      "Nu har jeg ondt af Bjørnson , Bjørnson ] Bjørnstjerne Bjørnson ( 1832 – 1910 ) , forfatter han føler sig alene , ja jeg er vis paa , at om bare jeg vilde være ham virkelig en ven , saa vilde det gjøre ham glad . Der kunde i flere ting være en mulighed , bare det at jeg føler , han ønsker det , det er jo saa forfærdelig sjelden af en mand , men det er umulig . Bare det , jeg kan ikke se paa ham . Ja jeg kan se paa halstørkledet , haaret , hænderne , men der jeg skulde se i øinene , nei det er platterdings umulig plat plat . Kan jeg det , saa kan jeg det næsten til overflod , men kan jeg det ikke , saa om de forgyldte mig eller den , jeg skulde se paa , det hjalp dog ikke . – Igaar hos Lies drak Thomasine din skaal , først vilde hun , at vi to skulde drikke den alene , men jeg syntes , at de andre burde være med baade for din og deres skyld . Vi gjorde nar af hende , for det var rent , som om hun generte sig for at nævne dit navn , det blev bare til « den ven , som var med os i fjor » , men der var fremmede , som ikke vidste dette , og saa blev det tilsidst for Arne Garborg , og da vilde alle partout være med. Bjørnsons gjæster havnede deroppe igaaraftes , deriblandt var Otto Sinding og frue.Otto Sinding og frue ] Otto Sinding ( 1842 – 1909 ) , maler og forfatter , gift i 1873 med Anna Christine Nielsen ( 1855 – 1914 ) , pleiedatter av Betzy og Hans Gude Han er en løien liden fanatiker , overfladisk og ivrig , Du husker ham fra ifjor , det er et rart par . Hun synes , hun er saadan en stor skat , som har givet sig ham til eie , hun er dum . Men det er nu eders alles skyld , at hun tror , hun er skat , da dere ere saa gale efter ydre skjønhed , som koen efter en malet post port , eller hvorledes ordet monne hedde . – Hvad synes Du om Pariserindtryk i Dagbladet , Pariserindtryk i Dagbladet ] Føljetong i 7 deler trykt i Dagbladet fra 19. desember 1886 til 10. januar 1887 , siste del var signert « ain . . d » en cousine af mig skriver det , frøkenen paa Ledaal , men ikke sig , at det er hende . Husk at sige , hvad Du synes . Kjære , skjænd paa mig , fordi jeg skriver saa fælt .\n",
      "Du har grandgiveligen ret om Tre Par , Tre Par ] Lystspill av Alexander L. Kielland , utgitt i 1886 at ' at ' rettet fra ' af ' ved overskriving frøknen er fæl , jeg haaber hun skal være fæl . Jeg synes , at Alexander maa komme paa ret kjøle igjen . Der er kommet noget registrerendevelvillig lesning i hans maade at se paa . Det er uhyre morsomt at høre ham tale , naar han komme i aande , det er saa ordnet sammenhængende helt , at selv om man ikke er enig , saa kan man lidet sige imod , thi enten maa bygningen staa eller rives helt ned . Det sidste kvier man sig for , da det altid er vakkert bygget og fra hans udgangspunkt klart og forstaaeligt . Hvis jeg ikke var skrækkelig glad i ham som broder og som et gjennem elskværdigt fint menneske , vilde jeg neppe lige ham . Tænk omtrænt det samme , tror jeg , han vilde sige om mig . Der vilde Du møde logik , hvis han ikke vilde snakke Dig rent i søk , saa skulde det være svært morsomt at høre dere sammen . Hvorfor Tænk siger Du , at Irgens HansenIrgens Hansen ] Johan Irgens Hansen ( 1854 – 95 ) , kritiker og teatersjef er « en prægtig gut » , mener Du det . Naar Du siger , at han er raa , Du har til mig erkjendt , at han var den eneste , Du kunde tænke Dig vilde handle som Alf , Alf ] Henspeiler trolig på karakteren Alf Christensen i Bjørnstjerne Bjørnsons roman En hanske . Stykket ble spilt på Christiania theater fra høsten 1886 – 1888 . Du syntes , han var hykler i kritiken over Din bog.kritiken over Din bog ] Anmeldelse trykt i Dagbladet 19. desember 1886 Hvorfor er han prægtig ? Disse betragtninger siger jeg ikke til nogen anden .\n",
      "Mandag begynder jeg at male model , Mandag … model ] Kielland var om formiddagen elev ved Académie Colarossi , en av de få kunstskolene som tok i mot kvinnelige elever ( kilde : Harriet Backer til Eilif Peterssen i brev datert 8. februar 1887 , NB Brevs . 209 ) dermed holder jeg ved hele vinteren , det burde jeg gjort ifjor . Harriet ligger og sover paa sofaen . Iaften skal vi til Bjørnsons.Bjørnsons ] Trolig Bjørnstjerne og Karoline Bjørnson Lev vel og skriv . Din hengivne Kitty\n",
      "[ Begynnelsen av januar 1887 ] . Fra Kielland til Garborg .\n",
      "Ms.4 ° 4318 A\n",
      "[ Første kladd ]\n",
      "Kjære Garborg , nu skal Du virkelig svare mig . Du har ikke skrevet siden midten af 1886 . Skal det betyde , at Du ikke mer vil have noget at gjøre med et menneske , som kunde skrive et saa tosket svar paa dit brev , saa skrive ialfald det da . Ja det var dumt , dumt , dumt , men jeg kunde ikke andet , jeg saa alt paa jorden den gang saa vrangt , derfor maatte dit brev til en vis grad ogsaa komme under det Tekst mangler\n",
      "Tekst med blyant « på hodet » nederst på siden , fortsettelse fra neste side Hvis der skulde komme for dine ører nyt sladderord om dig og mig , saa vær saa indelig snil ikke at bryde Dig om det for mig lyder det bare som komik Tekst mangler\n",
      "Jeg ved ikke rigtig , om jeg ikke sTekst mangler\n",
      "Det var værre end værst at jeg skulde svare dig saaledes . Naturligvis en mening var der i det , men det var saa umulig farvet af den urolige , pinlige stemning jeg var i . Havde jeg været glad , kunde jeg svaret det samme i lette uskadelige ord , men nu kom det saa plumpt og tungt at det maatte være dig ured ig svært imod at læse . Nu synes jeg , at jeg maa have været gal .\n",
      "Jeg har ondt for at undskylde mig , for jeg kan ikke se det mer saadan da jeg ser jo nok , at alt hvad Du der skrev behøvede Du ikke at have skrevet , og at det gjorde ondt at Du syntes Du behøvede at sige det . Men Du verden det er jo ingen undskyldning for mig , aldeles ingen , aldeles ingen . Nei jeg finder aldeles ingen undskylding i den onde verden , jeg skammer mig bare , det er alt. Dette holder det haardt at sige Slutten mangler\n",
      "[ Andre kladd ]\n",
      "Kjære Garborg , nu skal Du virkelig svare mig , Du har ikke skrevet siden midten af 1886 . Skal det betyde , at Du ikke mer vil have noget at gjøre med et menneske , som kunde skrive et saa tosket svar . dit brev . . Naa ja saa skriv det ialfald . . Ja det var dumt , det jeg skrev , en liden mening var der jo altid i det , men der var jo saa væmmelig farvet af den urolige , pinlige stemning , jeg var i . Kan Du ikke glemme det , kan Du ikke kaste det brev i ovnen , som jeg gjorde dengang med dit . Vist var dit anderledes fint og bravt skrevet end mit , men jeg er jo en idiot . Og dengang , Garborg , begreb jeg ikke jo , at hvad jeg havde gjort , gjorde Dig ondt , men at jeg virkelig kunde have saaret Dig , det var mig ufatteligt , fordi jeg intet ondt havde ment . – Jeg ved saa godt , at Du vilde bare gjøre godt med dit brev , men der var ord , som netop traf pinligt . Havde jeg været glad , kunde jeg svaret det samme i lette uanstødelige ord , men jeg var besat af en uroens djævel .\n",
      "Du verden , at jeg ikke skal kunne faa mundtlig greie dette ud , for nu maa jeg tro , at det er derfor , Du aldrig svarer . Jeg angrer virkelig , hvad jeg skrev , kanske mest , fordi det forbittrer for mig den glæde , som virkelig dit brev gjorde mig , det glædede og varmede mig . Jeg synes nemlig aldrig , at Du kan have ret , om Du ifølge dette vil opgive mig « fra nu af og til evig tid » , men det faar Du gjøre , som Du har raad til paa venner . Idag er det tirsdag , jeg giver dette brev tre dage og dit svare ligesaa længe , altsaa om 7 dage tror jeg at faa et svar , nei bare et brev , hvori Du helst snakker om alle andre ting . Gjør det , er Du et snilt menneske . Jeg begynder at føle mig fornøietere og friskere , arbeider af al kraft . Hele formiddagen med actmalen , om eftermiddagen maler jeg mit eget portrait.mit eget portrait ] Et usignert portrett av Kielland var lenge tilegnet Harriet Backer , men er nå dokumentert som et selvportrett , altså dette som omtales her . Eies av Nasjonalmuseet ( kilde : Lange 2017 : 99 ) . Dette blir vist bravt , hvorover jeg er stolt , men du verden , hvor jeg har et hovent ansigt . Det er rart selv at se saa nøie paa det udenfra og saa vide , hvor lidet overlegent og velordnet der ser ud indenfor . Aa Gud hjælpe mig . Jeg skal nu drive , og drive paa med at male figurer til ud paa vaarparten , da vil jeg male frugttrærmale frugttrær ] I flere år malte Kielland landskapsmotiv fra Cernay-la- Ville utenfor Paris vist ude hos Alexander.Alexander ] Alexander L. Kielland ( 1849 – 1906 ) , forfatter , bror av Kitty . Bosatt i Cernay-la- Ville utenfor Paris fra medio okt. 1886 til 3. okt. 1887 . Til sommeren udmærkede Jædderbilleder . Forleden dag fortalte en dame mig en nyhed om dig , at Du var « indgaaet i en hemmelig ægtestand » . Det var løie at høre saa høitideligt kirkeligt udtryk om Dig , og komik for en , som kjender Dig lidt , at Du , som nødig vil give et løfte fra idag til iovermorgen , skulde være saa forhippen paa at gjøre er livsvarigt forbund , at Du skulde ville have et hemmeligt . At det ikke er sandhed ved jeg , da jeg selv skulde være med i det . Harriet havde ogsaa hørt det i Norge . Jeg vil bare sige , at om Du skulde høre saadant rolp , saa gjør det paa mig aldeles intet indtryk og forhaabentlig ikke paa Dig heller . Sladder kan undertiden oplyse mig om , at jeg har handlet urigtig eller uforsigtig , men om jeg imorgen kom til Christiania , vilde jeg opføre mig accurat , som da jeg var der sidst .\n",
      "[ Medio januar 1887 ] . Fra Kielland til Garborg .\n",
      "Ms.4 ° 4318 A\n",
      "Hjertelig tak for Dit brev . Du « kviede » Dig ved at sende det . Aa nei , sig ikke det , Du maatte virkelig sende det eller aldeles intet . Ja vist glædede det mig dit brev paa nogetnær , som jeg siden skal tordne over . Det gjør ondt at se ind i saa megen pine , men det gjør godt at faa se og forstaa et andet menneske . For jeg tror Dig , og jeg mener at jeg nu har greie paa Dig . Tak skal Du have . Naturligvis skal jeg herefter tie , men Du vil vel give mig lov denne ene gang at snakke lidt . Jeg beundrer den kraft , Du har til at tage Dig sammen , især naar jeg ser paa din bog , men ogsaa i det daglige liv . Gid Du kunde havt den tillid ligeover for mig , « at skrige » i de sværeste tider . Men det var ikke at vente , at Du skulde have den .\n",
      "Jeg troede , Du manglede evnen til at nyde livet af en eller anden grund , jeg forstod ikke at det var selve modet paa det , Du manglede .\n",
      "[ Medio januar 1887 ] . Fra Kielland til Garborg .\n",
      "Ms.4 ° 4318 A\n",
      "Hjertelig tak for Dit brev . Du « kviede » Dig ved at sende det . Aa nei sig ikke det , Du maatte virkelig sende det eller aldeles intet . Ja dit brev glædede mig paa noget nær , som jeg siden tordner over . Det gjør fælt ondt at se ind i saa megen pine , men det gjør godt at faa se og forstaa et andet menneske . Jeg tror Dig naturligvis i alt , hvad Du siger , og jeg mener nu at have greie paa Dig . Tak . Jeg beundrer den kraft , Du har til at tage Dig sammen , især naar jeg ser paa Din bog , Din bog ] Romanen Mannfolk , utgitt månedskiftet november / desember 1886 men ogsaa i det daglige liv . Gid Du kunde havt den tillid ligeover for mig at « skrige » i de sværeste tider , men jeg havde ikke ret til at vente det .\n",
      "Tanken paa din far forfølger mig , stakkars menneske . Jeg vidste ikke at han døde saaledes , og det som kristen , for hvem det jo er efter læren evig fordømmelse , og saa paa det triste Jædderen . For enten magter man den natur , og da er den en til hjælp , eller den bare knuger og trykker . Uf .\n",
      "Naar Du kunde skrive , saa de mennesker kunde hjælpes ; mon de ikke har det værre end os , naar de først har det vondt ? De ved mindre , derfor er deres sorg mer pinefuld uklar .\n",
      "Forbered Dig paa , at Du nu blir sint paa mig . Jeg synes , Du skulde se paa din lighed med din far paa en for Dig sundere og mer heldbringende maade . Naar Du altsaa ved , at din sygdom er fysisk for en stor del , saa skulde Du jo være længre end Din far , men Du handler , som om Din sygdom var en aandelig kræft , som maatte og skulde fortære Dig bort . Undskyld , men jeg synes , Du er ligesaa uvittig som Færden , Færden ] Anders Færden ( 1860 – 1939 ) , jurist og sædelighetsforkjemper der vil at ligeover for sædelige fristelser skal en moders kristelige ord være en kur , han vil at bare aand skal curere fysik.moders … fysik ] Kielland skrev artikkelen « Et indlæg i Kvinde-Sagen » , trykt i Luthersk Ugeskrift 21. mars 1885 , som et motinnlegg til Færdens syn på blant annet kvinnesak som kristendomsfiendtlig . Du forsmaar at lade legemet hjælpe sindet , som om de to ikke hang aldeles sammen . Jeg synes , Du forholder Dig ligesaa urimeligt , som om Du ligesom Din far troede , at det var fandens anfægtelse . Det var ikke rimelig , at han skulde tro , at fanden kunde paavirkes af medicin , men derimod kunde Du tro det , naar Du kalder det nervøsitet .\n",
      "Gid jeg havde havt mer rede paa Dig isommer . Den chenin og jern Du senere har taget , skulde Du have begyndt med , strax Du følte , at det voxede Dig over hovedet . Ja Du burde egentlig aldrig arbeide strængt uden styrkemidler ved siden . Tak ikke cognac , det vil Du naturligvis foreslaa . Nu mener Du naturligvis , at jeg aldeles ikke forstaar Dig , aa jo Du , det gjør jeg , jeg ved godt , at alt ikke kan hjælpes ved dette , men Du kan faa fat i mer , end Du har af den modstandskraft , Du behøver til at møde ondet med i de svære tider . Slutten mangler\n",
      "5. februar 1887 . Fra Garborg til Kielland .\n",
      "Brevs . 129\n",
      "I de sidste to tre Uger har jeg havt ligesaa meget Mas med at skrive Vedtegninger til Armeens Regnskab for 1881 – 82 som jeg havde i Høst med at gjøre de sidste Kapitler af Mannfolk.Mannfolk ] Roman av Arne Garborg , utgitt månedskiftet november / desember 1886 Jeg har muret mig inde og forsaget næsten alle Verdens Glæder og Fornøielser , og har ikke engang kunnet sove om Morgenen , fordi jeg har havt Møde hver Formiddag Kl . 9 . Kan Du tænke Dig noget saa grusomt ; kan Du undres paa , at jeg blir fornærmet over Tilværelsen . Men Guderne være lovet , igaaraftes blev jeg færdig med det grøvste , og nu skal det gaa løs med Dovenskab igjen , overmaade meget Dovenskab . Hvorfor skulde jeg ikke dovne mig ? I Sommer blir jeg afsat alligevel , skjønner Du .\n",
      "Af Dit sidste prægtige Brev erfarer jeg , at jeg burde være blit umanerlig sint over noget Du før har skrevet , samt at Du indbilder Dig at Du har skrevet noget frygtelig fælt . Aa langtifra . Hvis der var noget i det Du skrev som pinte mig , saa forstod jeg naturligvis i samme Øieblik , at Grunden var den , at jeg havde sagt Tingene dumt og derved narret Dig til at forstaa galt . Dersom Du gaar og ærgrer Dig over det , saa er Du bare dum , og med Hensyn til det at « forløbe sig » , hvad jeg altsaa ikke egentlig kan indrømme at Du har gjort , saa er da virkelig det en af vore helligste og ukrænkeligste Menneskerettigheder .\n",
      "Den Affære med Fru Vullums ( ikke Wullums ) Fru Vullums ] Margrethe Vullum ( 1846 – 1918 ) , opprinnelig dansk , bosatt i Norge fra 1876 , journalist og samfunnsdebattant Middag burde Du egentlig nu lade som Du havde glemt ; jeg ler selv af den naturligvis , skjønt paa den anden Side – det er jo næsten uhyggelig sindsforvirret , at man sommetider kan finde paa sligt . Ikke for det , – jeg er ræd jeg kunde finde paa det endnu ; for endnu den Dag i Dag skyr jeg Menneskene som om jeg ansaa dem for Giftblandere . Dermed er der foreløbig intet at gjøre ; det blir bedre til Sommeren .\n",
      "Synes Du det er sørgeligt , at Du ikke « kan » forstaa det om Hjælp og Nytte osv. ? Sagen er , at der er Ting , som man bare forstaar med Følelsen ; men da maa man selv ha følt noget lignende selv . Hvis jeg ikke har opfatttet Dig rent spillende galt , kan Du aldrig ha havt nogen saadanne sygelige Fornemmelser i den Retning ; som Du selv har sagt : det Spørgsmaal ( om Nytte og Hjælp osv ) har aldrig faldt Dig ind . Naturligvis , det falder ikke nogen ind , naar der ikke er noget indi Sjæla etsteds , som er sygeligt . Jeg trodde jeg sa Dig en Kompliment da jeg skrev det der ; men tænk – saa skal jeg ha Skjænd for det ogsaa . Der er ikke Spor af Retfærdighed i denne forøvrigt saa udmærkede Verden ; men det gjør forresten ikke noget .\n",
      "Kan Du tænke Dig – det var Din Skyld , at HarrietHarriet ] Harriet Backer ( 1845 – 1932 ) , maler ikke fik Brev fra mig den 21 de. Du havde nemlig skrevet Datoen saadan at jeg læste « 26 de » ( 2 CGarborg skriver her et tall etter 2 som verken er 1 eller 6 , mer utformet som en stor C omtrent ) , og saa regnede jeg ud , at skulde Brevet komme til ret Tid , maatte ikke jeg skrive før den 21 de – eller 22 de – . Men saadan omkring den 20 de fik jeg Brev fra AstaAsta ] Asta Lie Isaachsen ( 1861 – 1921 ) , datter av Thomasine og Jonas Lie , i 1891 gift med Daniel Isaachsen med den rette Dato – og da huskede jeg jo alt : « Kongens og Harriets Fødselsdag » 21 de januar , og saa stod jeg der . Fælt flaut , for jeg havde allerede skrevet Brevet . Men der var intet at gjøre ; jeg bandede Dig og skrev en ny Epistel . Siden har jeg faat et rigtig opbyggeligt Brev fra Harriet om Boka , Boka ] Garborgs roman Mannfolk , utgitt månedskiftet november / desember 1886 . Brevet fra Harriet Backer er datert 17. januar 1887 ( kilde : NB Brevs . 140 ) hvilket jeg herved takker foreløbig for ; jeg skal nok drive det til at skrive Svar , skjønt nu er jeg egentlig noksaa kjed af alt , hvad der vedkommer Boka .\n",
      "Bare jeg snart kan faa Mod til at begynde paa noget nyt ; før blir det ikke bra , kan Du skjønne . En og anden Gang mærker jeg svage Livstegn – lidt Lyst til at ta fat igjen ; men Lysten maa bli meget stærkere . Slutten mangler . Brevet har tidligere vært trykt med en slutt fra et annet ark , men dette er tydelig skrevet senere , etter sønnen Tuftens fødsel , dermed etter mai 1888.\n",
      "23. februar 1887 . Fra Kielland til Garborg .\n",
      "Brevs . 140\n",
      "Jeg arbeider ogsaa som en hest , om det nu ikke er med saa statsvigtige ting som arméens regnskaber . Du verden har det enda i 1887 interesse , hvad arméen gjorde i 81 – 82 . Men hvor aandsfortærende et arbeide det end er , saa vilde jeg dog synes , det var en tvivlsom glæde , om Du blev afsat . Sig hvad vil Du gjøre , om saa sker ? Ikke blive hjemme naturligvis ? Vilde Du ikke arbeide bedre , hvorsomhelst ellers paa kloden , og ude maatte Du ved correspondancer tjene en del ialfald . – Du er saa løient ukonsekvent , « Du er ikke et menneske bare en pen » , og dog gjør Du nogle halve bestemmelser om ikke at ville skrive mer . Aa ja saadanne kunstneriske anfægtelser gaar vi jo alle igjennem , den ene kan nok smile af den anden , men kommer turen til en selv saa smiler man ikke saa let . – Hvor kan der mangle Dig paa lyst til at begynde paa et saa extra motiv , som Du har . Begynd , saa kommer lysten styrtende over Dig , jeg kunde rent misunde Dig at have noget , som laa saa samled før en som det der . Og saa med det at kunne bevæge sig derborte i den natur , som en er voxet op med. Lad der bare ikke komme for mange personer , der er ikke saa mange folk paa Jædderen , det fælslige er jo netop , at en næsten altid er alene , saa langt øiet kan se . – Men hør Du , jeg synes , Du er blevet saa spagfærdig af Dig , Du siger , Du kan ikke opdrive sinne , men det er jo din livskraft . Det har Du tilfælles med Alexander , Alexander ] Alexander L. Kielland ( 1849 – 1906 ) , forfatter , bror av Kitty I trænger begge noget som ur irriterer eder , han bruger « Morgenbladet » som irritationsmiddel , men Du lever jo i selve den luft , saa for Dig maatte det bare gjælde at holde sig normalt modtagelig . Tag Blouds piller , Blouds piller ] Jernpreparat mot blodmangel inneholdende ferrosulfat , kaliumkarbonat , glyserin , lakrisrot og sukker . Navn etter den franske legen P. Blaud ( 1774 – 1858 ) . Du maa være blevet svag . Jeg mener , at overalt i Kristiania findes lidt af « Morgenbladets » luft , lever man ikke i det , saa ser man det og hører det omkring sig , nok at ærtes ved . –\n",
      "Nei jeg ærgrer mig ikke , det er tillidsvotum til Dig , og det kan vist hænde ved given leilighed , at jeg atter gjør brug af « en af vore helligste og ukrænkeligste menneskerettigheder » . Forresten tror jeg ikke , at Du « har narret mig til at forstaa galt » . Bare her maa Du have lidt psyhologi , [ sic . ] Du ved , det er sundt for en forfatter ? Det er gaaet en praas op for mig med hensyn til de ominøse ord . Det gale er nemlig , at de ord jeg har sagt at « paa hjælp og nytte har jeg aldrig tænkt » , de ere egentlig usande eller meningsløse . Du lyt taale et par ord om Dig selv , hvilket Du ikke liger , men det skal være saa lidet . I vor lange samtale fik jeg etslags forstaaelse af , hvad jeg vil kalde din menneskeskyhed . I dit første brev betonede Du dette saa uhyre stærkt og gav mig ogsaa der et bestemt indtryk af , at det for dig vilde være en utaalelig tanke , om nogen skulde ville give nogen hjælp her , hvor velment den end monne være . Dette sidste var det som tørnede imod mit saareste punkt , hvorfor kan ikke jeg ogsaa have en slags galskab , og derfor sagde jeg vel i en fart det som bedst kunde berolige alle parter . Jeg havde nu ganske glemt at det var sagt i den forbindelse .\n",
      "Din skræk er , at nogen skal komme for nær ind paa Dig , min er , at jeg skal være gaaet for nær , og tror jeg at mærke det , saa mister jeg sans og samling , blir forrykt , hvis det hele ligger mig nær . Husk paa , det er ikke saa let at være et menneske som jeg , det ser saa let ud . Min art er , at hvad der hos mig er velvillie eller sympathi for et andet menneske det blir en agressiv magt . Naar jeg støder paa nogen , som er mig sympathisk , saa trænger jeg til det menneske i mer eller mindre grad og ifølge denne grad opfører jeg mig , en del bevidst og en del ubevidst . Det har varet længe før jeg fik saa vidt respect for denne min art , at jeg kunde indrømme mig , at det var en del af min natur . Jeg har syntes at andre mennesker vare fine jeg brutal , det er ikke frit , jeg enda ofte synes saa . Til denne sort paagaaende mennesker burde der jo høre et bredt , stort sind , men jeg har mit er saart og sygeligt . For har jeg saasandt , at jeg er gaaet indover grændsen af den lille friplads , som ethvert Slutten mangler\n",
      "Tekst skrevet « på hodet » på 1. side Dette brev har præg af et ' et ' rettet fra ' en ' ved overskriving svagt hoved , Du faar læse det med overbærenhed , jeg synes , jeg gjør mig selv saa urimelig utækkelig .\n",
      "2. til 8. mai 1887 . Fra Garborg til Kielland .\n",
      "Brevs . 129\n",
      "Gud véd hvad Du siger og tænker om mig nu ; Du havde vel forlængst opgivet at se Stykket i Dgbl . , Dgbl . ] Dagbladet og saa kommer det nu , da Du kanske vil synes det er for sent . Ja , nu skal jeg fortælle Sammenhengen .\n",
      "Da jeg læste Auberts Artikel , Auberts Artikel ] Kunsthistoriker Andreas Auberts artikkel « I Anledning af Christian Krohgs store komposition : Fra Politilægens Venteværelse » i Dagbladet 22. mars 1887 fandt jeg det om Hans JægerHans Jæger ] Hans Jæger ( 1854 – 1910 ) , forfatter , anarkist og bohem etc. saa imbecilt , at jeg ikke tænkte mig Muligheden af , at noget Menneske kunde andet end trække paa Skuldrene af det . Hellerikke hørte jeg nogen nævne Auberts Artikel ; jeg talte jo ikke med mange , men alligevel – . Naaja , saa kom Dit Stykke.Dit Stykke ] Kiellands artikkel « Kunstkritik » , undertegnet « En Maler » , i Dagbladet 1. mai 1887 Siden Du overlod dets Skjæbne til min Afgjørelse , bestemte jeg mig med engang til at lade det ligge ; det var ikke noget at skrive om for Dig , som har saa mange store Ting at skrive om , vors Mandfolka f.Ex . og meget andet . Naaja – ialfald lod jeg Stykket ligge foreløbig ; hvis WerenskjoldWerenskjold ] Erik Werenskiold ( 1855 – 1937 ) , kunstner skulde være af en anden Mening , burde det naturligvis ind ; men endnu var W. W. ] Werenskiold saa svag og daarlig , at han vist ikke var god at komme til med slige Spørsmaal .\n",
      "Jeg var selv lidt urven i de Dage , og Paaskeaften bestemte jeg mig plutselig til , efter min gamle Skik , at ta en liden « Spasertur tilsjøs » paa et Par Dage ; jeg reiste med et Dampskib ud Fjorden ( til Fredriksværn ) ; Fredriksværn ] Stavern , Vestfold Dampskibet skulde gaa 12 Middag . Jeg var sent ude naturligvis , men fandt dog akkurat Tid til at fly opom Bulen og rapse til mig et Par Breve og Aviser , som laa der ; da jeg var kommen ombord , læste jeg Brevene ; det ene af dem var Dit . Min Forbauselse over , at FritsFrits ] Frits Thaulow ( 1847 – 1906 ) , kunstner havde taget Notits af Auberts Artikel , var stor , og jeg var enig i , at Dit Stykke under de Omstændigheder burde ud ; men nu fik det altsaa være til jeg kom tilbage , altsaa til over Paaske .\n",
      "Inden den Tid havde jeg imidlertid betænkt mig . Frits er en snild Gut , men en stor Svamp , og saa hader han KrohgKrohg ] Christian Krohg ( 1852 – 1925 ) , kunstner personligen ; hans Glæde over Artikelen betydde altsaa ingenting ; jeg vilde snakke med andre ; jeg vilde snakke med Werenskjold . Men for mig at komme til Sandviken , naar jeg ikke har Dig til at « afhente mig » – naa , Du forstaar ; der gik Dag efter Dag , og jeg blev mer og mer uklar over , hvad der skulde gjøres ; endelig fandt jeg ud , at jeg kunde tale med HolstHolst ] Lars Holst ( 1848 – 1915 ) , avismann , redaktør i Dagbladet 1883 – 90 om Tingen . Han er i Thingtiden vanskelig at finde , sidder al Dagen opi Referentlogen , og paa Grund af Sagens Hemmelighed skulde jeg ha ham i Enrum . Jo saa fandt jeg ham . Spurgte ham ud , om han havde hørt nogen snakke om Auberts Kritik , om han vidste nogen , som havde lagt Mærke til den ( Kunstnere ) osv. Jo , han havde hørt flere snakke om den . Hvem da ? Ja – væsentlig var det Frits Thaulow . Men forresten var der jo lidet at lægge Mærke til det , sa han ; de to var Fiender , og Sagen selv var jo ikke stor , Arti ( som den her forelaa ) ; Artikelen havde staaet for længe siden ; man havde glemt den osv. Jeg fortalte nu , at jeg havde et Stykke fra en udenbys Maler som skulde ind ; han trodde ikke det var værdt ; jeg vilde dog endnu tale med Werenskjold . Nei , sa Lars , Lars ] Lars Holst ham maa Du ikke plage med sligt ; han trænger den yderste Ro . Det endte med , at Lars mod Taushetsløfte fik Artikelen og læste den , og da sa han , at han gjerne skulde ta den ind , og at den ialfald ikke vilde gjøre vondt . Ja sæt den ind , da , sa jeg , og vandrede .\n",
      "Dermed mente jeg , at alt var i Orden , og jeg ventede med Ro en Dag , to Dage , tre Dage , at den skulde komme , siden med Uro den fjerde og femte og sjette Dag ; jeg vidste jo , at Avisen var stærkt optat ; men det blev saa altfor sent . Tilsidst skrev jeg optil Holst og sprugte , hvordan det gik med Artikelen ; « jeg har levert den i Sætteriet » , sa han . Saa ventede jeg med Ro den Dag og Dagen efter , siden med Ærgrelse den tredie Dag og den fjerde Dag , og Gud véd , om det ikke blev den femte og den sjette ; saa tænkte jeg næsten han havde opgivet det alligevel , han har jo saa meget om Menighetsraad , Hypnotisme , Toldbeskyttelse og andre vigtige Ting ; – nei , saa kom den igaar . Og den tog sig noksaa godt ud , saa sent det var .\n",
      "Gudbevare mig , hvor langt dette er blit – jeg har ikke Tid til at skrive kort ; men nu har Du hele Sammenhængen , og hvis Du ikke tilgir mig , saa er Du baade vrang og lei . En anden Gang skal Du ikke overlade saadannoget til min eller fleres Afgjørelse , men bare give mig bestemt Befaling , saa skal jeg være flinkere . Probatum est – siger vi Mænd , naar vi skal imponere ; paa norvegisk : « det er probat , » forsøg det .\n",
      "Jeg maler og maser i denne Tid med Petersen ; Petersen ] Trolig omtales boka Egteskab eller fri Kiærlighed . Foredrag , utgitt 1887 av Fredrik Petersen ( 1839 – 1903 ) , teolog og professor han er bare Vrøvl , og det er fælt vondt at være « fin og overlegen » . Men nu begynder Statsrevisionen at kræve Tid igjen , og jeg arbeider paa mine egne Ting , bare saadan en Gang om Ugen . Petersens Bog skal jeg sende Dig , men ikke mit Expl , som er aldeles fuldt af Strege og Udraabstegn ; hellerikke vil jeg kjøbe noget Expl og derved skaffe Bogen større Salg , – og hvad skal jeg saa gjøre . Sæt at de har den opi Dagbladet ?\n",
      "Hvor blir der af det til Strindberg , som Du skriver om ? Kritisere skal jeg nok , hvis det behøves , skjønt nu blir Du saa flink til at skrive , at der bare sjelden vil bli Anledning for mig til at vise min Overlegenhed . Strindbergs Artikler har jeg forresten ikke læst ; – uf , at jeg aldrig kan drive det til at gaa ned paa Posthuset og abonnere paa Politiken . Idag har jeg hellerikke Tid ; i Morgen glemmer jeg det , i Overmorgen har jeg ikke Penge osv. osv. Kjender Du mig igjen ?\n",
      "Jeg har tænkt i Stykket til Petersen at gi « Nylænde » « Nylænde » ] Nylænde . Tidsskrift for Kvindernes sag , Norges første kvinnesakstidsskrift utgitt av Norsk Kvindesagsforening . Første utgave kom 1. februar 1887 med Gina Krog som redaktør . et Spark – Gina KrogGina Krog ] Jørgine Anna Sverdrup Krog ( 1847 – 1916 ) , politiker og kvinnesaksforkjemper altsaa og de « Kvindesagskvinder » , som er saa glad i AlbertineAlbertine ] Roman av Christian Krohg , utgitt desember 1886 og saa sint paa « Bohêmen » , « Bohêmen » ] Hans Jægers roman Kristiania-Bohêmen , utgitt desember 1885 « Mannfolk » « Mannfolk » ] Garborgs roman Mannfolk , utgitt månedskiftet november / desember 1886 har « Nylænde » naturligvis ikke nævnt . Skal jeg ikke gjøre det ? Jeg synes det kunde gjøre godt .\n",
      "Irgens HansenIrgens Hansen ] Johan Irgens Hansen ( 1854 – 95 ) , kritiker og teatersjef dansende Can-Can – Guds Død , det vilde ha vært Moro at se paa . Det skal jeg ærte ham med , hvis jeg træffer ham igjen . Den Maade Du omtaler ham paa viser , at der er liden Udsigt for ham til at vinde Dit Hjerte , hvilket ærgrer mig , for saa dømmer jeg kanske aligevel galt om ham i visse Maader – eller har ikke rigtig greie paa Dig . Naa – kanske Dere kan bli ordentlige Uvenner alligevel engang ;\n",
      "3 die Mai [ 1887 ]\n",
      "( blev ikke af )\n",
      "Saadan gaar det ; naar jeg akkurat har sat mig i Orden for at skrive , eller naar jeg akkurat er kommen i Gang , saa banker det paa Døra , og saa er det en god Ven , og saa sludrer vi en Stund , hvis vi ikke gaar paa GravesenGravesen ] Trolig utested drevet av den danske restauratøren Grave Gravesen som drev drikkesteder ulike plasser i Kristiania og seidler , og saa er jeg ikke oplagt mer . Desuden har vi i den sidste Tid havt travelt – ordentlig travelt – i Statsrevolutionen , [ sic . ] saa det er ikke saa greit . Igaar var jeg paa Rangel ( Skogtur ) .\n",
      "Nu har jeg et nyt Brev at takke for og er ganske skamfuld – det er forresten bra , at Du har lært at skylde paa Vorherre ; hvordan skulde det gaa mig , hvis jeg ikke havde ham . Nu , da jeg er angergiven , synes jeg forresten at jeg faar overtage en Del af Skylden selv ogsaa ; det er aldeles ubegribeligt saadan som jeg gaar og væver og ingenting faar gjort . Jeg tør ikke tilstaa , hvor lidet jeg bestiller ; Du kom til at harcellere mig ihjel .\n",
      "Nu har Du set Din Artikel i Dagbl : , Din Artikel i Dagbl : ] Kiellands artikkel « Kunstkritik » , undertegnet « En Maler » , i Dagbladet 1. mai 1887 og overfor har Du en omfangsrig Forklaring af , hvorledes det hele er gaaet til , saa nu vil Du forstaa det , skjønt Du naturligvis ikke liker det . Jeg tror selv nu , det var bra det blev sagt af en Kunstner ; Aubert kunde ellers tro han havde talt Visdommens Ord , og som Salomo siger : man skal svare en Daare paa hans Daarskab , at han ikke skal tro sig vis .\n",
      "– Ikke sandt : jeg bør sparke de Damerne i « Nylænde » lidt – saadan som nu Ragna Nielsen ? Ragna Nielsen ] Ragna Wilhelmine Nielsen , født Ullmann ( 1845 – 1924 ) , lærer og kvinnesaksforkjemper Bare bitte-lite Gran ?\n",
      "Hvis Du ikke selv vil skrive mod Prof P. , Prof P. ] Trolig Fredrik Petersen ( 1839 – 1903 ) , teolog og professor , utga i 1887 boka Egteskab eller fri Kiærlighed . Foredrag kan Du saa ikke rable ned det grøvste af dine Ideer og sende mig , saa kunde jeg prøve paa at benytte dem ? Det vilde jo ikke ha den Autoritet som naar Du selv skrev – en Kvinde – , men kanske alligevel ? Jeg véd jo ikke , hvordan det kunde falde ; jeg ser der kunde være nok at skrive paa Kvindernes Vegne ; men jeg kunde kanske ialfald dænge tryggere til Fyren , naar jeg vidste , at der « stod Kvinder bag mig » . Jeg kommer forresten væsentlig bare til at harcellere ; man kan jo ikke ta saadan en Grundtosk alvorlig .\n",
      "Din Haabløshed , Din Tale om , og Ulyst til at give noget af sig selv , er vel forbigaaende hos Dig som hos andre , der i det hele har noget at give ; Du har jo mer end en Gang præket for Dine Medmenneske i saadan Anledning , bl.a. for mig . Du faar trøste Dig med , at naar Du en Tidlang har gaaet saadan og været kjed , saa blir Du kjed af det ogsaa ; det er da morsommere at snakke og skrive alligevel . Gjennem Bekjendtskabet med mig har Du aldeles ikke lært at Du mangler Evne til at sige Ting kunstnerisk ; det meste Du kan ha lært er , [ nu banker det paa Døra ] Garborg bruker her skarpe klammer\n",
      "– – – – det emeste , [ sic . ] , skal være ' eneste ' Du kan ha lært er , at Du har en Del Mas igjen , før Du finder en Form . Kjender jeg Dig ret , viger Du ikke af Veien for den Vanskelighed ; og Du har , Du maa ha en hel Del Ting at melde , saa « Tandpinen » gir Dig nok ikke Fred . Hvis Du sender mig den Historie fra 1880 , skal jeg ha stor Moro af at se paa den .\n",
      "Jeg gratulerer med Salonen ; Salonen ] Kielland fikk antatt maleriet « Sommernatt » på salongen i Paris . Malt etter en studie fra sommeren på Fleskum i 1886 . Eies av Nasjonalmuseet . Du gjør Lykke i massevis , hører jeg . Jeg skulde , være der nede , det er vist nok ; egentlig er det uforsvarligt at leve i en Verden , hvor man næsten aldrig faar gjøre hvad man vil . Akkurat det modsatte maa man gjøre i Regelen . Dere er nok en herlig Bande der nede nu . Og saa bare en eneste Fest – det høieste af Kunst , det gemytligste af Moro . Jeg har ikke andet at gjøre end at trøste mig med min Fjeldhytte . Jeg reiser dog ikke før i Førstningen af Juli , saa vi skal da ture en Del i Vaar ogsaa , til fortsat Forundring for det kjære Kristiania , som ikke kan begribe , hvad et Mandfolk og et Kvindfolk kan ha at snakke om , naar det ikke er om Giftermaal .\n",
      "Hvad er der i Veien mellem B. BB.B ] Bjørnstjerne Bjørnson ( 1832 – 1910 ) , forfatter og I. H. I. H. ] Johan Irgens Hansen ( 1854 – 95 ) , kritiker og teatersjef nu ? Jeg ved ikke noget videre om deres nyeste Uvenskab . – Jeg kommer nok til at bli Uvenner med GammelnGammeln ] Bjørnstjerne Bjørnson selv nu ; jeg skal skrive imod hans Artikel i Dagbl . , som jeg forresten endnu ikke har set . Men han , som for et Øieblik siden var inde hos mig , sa , at Artikelen er morsk – og dum . Stakkars Gammeln , – han ender vel som visse andre med at komme paa Kant med alt hvad der nu er Ungdom . – Jeg har ikke talt med ThommesenThommesen ] Trolig Ola Thommessen ( 1851 – 1942 ) , redaktør for Verdens Gang fra 1878 ( ordentlig ) , siden han kom hjem . Ham blir alle Kvinder forelsket i – Du ogsaa altsaa ; men det er bare rigtigt og naturligt .\n",
      "Den om Bergljot og BrækstadBergljot og Brækstad ] Trolig om Bergljot Bjørnson ( 1869 – 1953 ) og Hans Lien Brækstad ( 1845 – 1915 ) , litterat m.m. I 1882 ble han enkemann for annen gang . Bergljot ble ikke gift med ham , men senere med Sigurd Ibsen . er god – svarer jo i visse Maader til den med Bjørn og Fru Sandberg.Bjørn og Fru Sandberg ] Om Bjørn Bjørnson ( 1859 – 1942 ) og Jenny Sandberg , født Dahl ( 1846 – 1914 ) , gift med Bjørn Bjørnson 1886 – 1890 Jeg kan forresten ikke skjønne det ; – Bergljot , som lod til at forberede sig paa en straalende Ungdomstid – mange Baller , mange Erobringer – gaa hen og gifte sig med en Enkemand , som ovenikjøbet er Vegetarianer ? Han skal ha gjort Ende paa begge sine forrige Koner ved at nægte dem at spise Kjød .\n",
      "Det skal bli Moro at se MonsMons ] Mons Lie ( 18 – 19 ) , sønn av Jonas og Thomasine Lie igjen ; han er her snart altsaa . – AstaAsta ] Asta Lie ( 1861 – 1921 ) , datter av Jonas og Thomasine Lie , gift Isaachsen forelsket i Racine ? Racine ] Jean Racine ( 1639 – 99 ) , fransk forfatter En snurrig Tanke ; det er naturligvis bare et Skolestandpunkt . Mærkeligere er det , at Jonas og ThomasineJonas og Thomasine ] Jonas og Thomasine Lie kunde bli tat af Phèdre.Phèdre ] Tragedie av Jean Racine , utgitt 1677 – Asta maa faa uhyre Teknik paa denne Maade ; men hun blir vel for fransk til at spille her hjemme – hvor man nok forresten kunde trenge lidt fransk Skuespilkunst .\n",
      "Hvem er det , Eilif PetersenEilif Petersen ] Eilif Peterssen ( 1852 – 1928 ) , kunstner sukker for ? Jeg kom ikke til at besøge ham paa hans Bule alligevel , jeg , – hils ham og de andre og sig at jeg misunder dem sørgelig .\n",
      "Man holder paa med Juryen her nu ; den skal nok endelig vedtages , saa Ministeriet Sverdrup ialfald kan ha gjort en god Gjerning . Høire er rørende i sin uslidelige Modstand . Først kom Stang med sit Forslag om , at Sagen skulde udsættes , for at man kunde faa greie paa Omkostningerne ; det faldt . Saa kom Knudsen med Forslag til Udsættelse for at man kunde faa Tid til at sætte sig ind i Sagen ; det faldt ogsaa . Nu kommer de med Forslag om Udsættelse , for at Regjeringen til næste Aar skal faa udarbeidet et Forslag til en Ordning paa Grundlag af Meddomsmandsret , det blir ogsaa forkastet . Og saa endelig gir de sig til for Alvor at bekjæmpe det foreliggende Forslag . Det gir Respekt , sligt . –\n",
      "1. august 1887 . Fra Garborg til Kielland .\n",
      "Brevs . 129\n",
      "Ikveld er jeg endelig « færdig » med Petersen – har strævet fælt de sidste 8 Dage.Ikveld … 8 dage ] Trolig omtales boka Egteskab eller fri Kiærlighed . Foredrag utgitt 1887 av Fredrik Petersen ( 1839 – 1903 ) , teolog og professor Før han var færdig kunde jeg ikke komme til Stationen , og før jeg kom did kunde det ikke nytte at skrive , saaledes gaar det til at Du ikke har faat Besked før .\n",
      "Jeg har ikke andet imod at Din Artikel kommer , end at det ser fælt dumt ud at der skal bli saa mye Væsen gjort af den umulige Fyr , hvis hele Broschure er saa værdiløs at jeg skammer mig ved at ha spilt Tid og Kraft paa den . Men mig kan det jo ikke gjøre noget ; det er jo ikke jeg , som redigerer Avisen eller har Ansvar for hvilke Stykke der skal staa . Det vil bare ta sig dumt ud , synes jeg .\n",
      "Hvad er den Gina KrogGina Krog ] Jørgine Anna Sverdrup Krog ( 1847 – 1916 ) , politiker og kvinnesaksforkjemper for en Jaale ? Kan hun ikke ta ind Dit Stykke menvelvillig lesning av siste ord faa Lov at gjøre Redaktionsnotis om det ( under Kristiania ) ? hun maa jo være en Kamel . Naa , jeg har da faat givet hende et lidet Spark ; gid det maatte bekomme hende vel Amen .\n",
      "Uf , her er ingen Skrivegreier – Hotelgreier bare – og denne Blyantendenne Blyanten ] Brevet er skrevet med en kopiblyant som gir ulik mengde farge på teksten . er ikke til at skrive med. Jeg har det saa middels heroppe , sover daarligt og spekulerer mig ihjel paa noget Fanteri ; vondt i Hode , nervøs som en Kanin . Skriver ikke et Muk ; nei ved Gud , nu skal jeg da vel endelig , endelig , endelig , faa en Maaneds virkelig Hvile ( uden vond Samvittighed etc ) . Jeg er ubegribelig træt ; bare man kunde – naaja .\n",
      "Du er flittig og misfornøiet , ser jeg – nei , da er det bedre at arbeide bare gaa og tænke paa , hvor deiligt det skal bli , det , som man har i Hode . Jeg er forresten en hel Del optat ogsaa nu – saa det er ikke bare Dovenskab heller .\n",
      "Jeg kan ikke holde Øine oppe for Søvn og enda er det bare lidt over Midnat . Detteher blir ikke noget Brev – det skal ikke være Brev heller , det skal jeg skrive , naar jeg kommer til mit Slot igjen ; saa nu bør jeg nok ligesaa godt slutte . Jeg husker ikke hvad du skrev heller . Kommer denne Besked for sent ? Kan du ikke sætte Stykket i Dagbladet , naar det ikke er længer ? Vær ikke trist fordi dette først kommer nu og slig . Hils alle de Medmennesker dernede , Gundersens – ikke mindst samt Thommessen ; Thommessen ] Ola Thommessen ( 1851 – 1942 ) , redaktør for Verdens Gang fra 1878 Thommessen er en vanskelig Fyr , men uimodstaalig , især for Kvindfolka .\n",
      "Tobakken savner jeg mer og mer . Men jeg røker bare i Drømme .\n",
      "14. mars 1888 . Fra Garborg til Kielland .\n",
      "Brevs . 129\n",
      "Min Livsmusikus N. S. BjærumN.S . Bjærum ] Nicolai S. Bjærum ( 1843 – 1913 ) , organist i Sagene kirke , Kristiania og komponist sender mig « Gamle Olav sonlaus » « Gamle Olav sonlaus » ] Tittel på et dikt fra Aasmund Olavson Vinjes Storegut . Trykt i Lesebok i det norske folkemaal for høgre skular , utgitt i 1885 av Garborg og Ivar Mortenson i pianeret Stand sigende , at han har havt svært travelt , da der i den senere Tid har været meget Misstemning i Kristiania . Hvilket er en Pianostemmer-witz og betyder , at han har havt mange Pianoer at stemme . Akkompagnementet er høitideligt og à la Orgel , « hvilket skal saa være » , siger han . Melodonten – mit Værk altsaa – er for Bas à la Thv . Lammers.Thv . Lammers ] Thorvald Lammers ( 1841 – 1922 ) , komponist og sanger Skal en Tenor synge den , saa maa den lægges op i C mol , sier ' n ; men det vil ikke ta sig saa godt ud . Nu faar da Du prøve , aassen Du kommer udaf det . Af Texten sender jeg saa meget som jeg kan huske ; jeg har nemlig ikke Bogen her ; – har omtrent ingen Bøger her undtagen nogle Lexica og et Par andre nyttige Værker .\n",
      "skrevet langs venstre marg Læg Mærke til Versbygningen ; den er saa vakker .\n",
      "Vinteren holder godt ud her oppe ; Sneen ligger aldeles urørt sine 3 Fod høi , og der er intet andet Vaartegn end at Solen stiger høiere og høiere og blir mer og mer smørende blid . Ja og saa nogle flere Smaafugler , som deriblandt en og anden , som synger Vaartoner ; – vi har forresten havt Smaafugl hele Vinteren , men der har ikke været noe videre Sang i dem . Det har holdt sig næsten uforanderlig « kãldt » ( lang ã ) hele Tiden . Bestandig , næsten trættende Kulde . Bækken fryser , saa jeg maa hugge den op hver Dag . Og saa hugger jeg Ved til Huset – sager og hugger , er blit Fanden saa flink . KjærringaKjærringa ] Hulda Garborg , født Bergersen ( 1862 – 1934 ) , forfatter og kulturarbeider , giftet seg med Arne Garborg desember 1887 gaar inde og koger og er ogsaa blit flink ; SjapaSjapa ] Garborgs hund flyr ud og ind og leger .\n",
      "Jeg er blit langt mer arbeidsfør ( skrivefør ) end jeg var i Byen ; men mit oplagrede politiske Sinne har narret mig paa Afveie , saa at nu sidder jeg og maser med noget , som skulde bli en Slags Komedieen Slags Komedie ] Uforsonlige , skuespill utgitt 1888 – Indignationspoesi . Jeg ved ikke , hvad det blir til . Min eneste Trang og Tendens er – om jeg kunde faa brændt et eller andet stygt Ord ind i Skallen paa den Forræder , som nu sidder og forpester den moralske Atmosfære i Landet , – den forhenværende store Folkefører m.m. Johan.Johan ] Venstre-politikeren Johan Sverdrup er modell for en av karakterene i skuespillet Den blir naturligvis slig , at Teatret ikke vil spille den – ærgerlig nok ; for jeg vilde netop havt den spillet . JæderromanenJæderromanen ] Romanen Fred som ble utgitt 1892 . Fred kalles Garborgs « jærroman » både av ham selv og av andre . har jeg liggende i Baggrunden ligesom fjerne fredelige Aaser ; der skal jeg slaa mig ned , naar jeg har raset ud .\n",
      "Hvad driver Du paa ? Det er vist urimelig længe , siden jeg hørte fra Dig , for naar jeg skal tænke mig om , saa har jeg intet tydeligt Begreb om Dit Leben og Treiben . Tak for det pene Kort til den 25 de ; den 25 de ] Garborgs fødselsdag var 25. januar , dette året fylte han 37 år det var nydeligt , – og saa var der saa faa , som huskede mig i Aar . Som rimeligt kunde være , naar jeg drog tilfjelds og gjorde lang Næse til hele Horden . Jeg har drømt en hel Hoben om Hans JægerHans Jæger ] Hans Jæger ( 1852 – 1910 ) , forfatter og anarkist , utga i 1885 den omstridte romanen Fra Kristiania-Bohêmen i Nat ; hvordan lever den Mand ? Ser Dere noe til ' n ?\n",
      "Hvorledes lever Dere i det hele taget ? Jeg havde Brev fra HarrietHarriet ] Harriet Backer ( 1845 – 1932 ) , kunstner for en Tid siden , og der var jo ikke andet end godt at høre . Men JonasJonas ] Jonas Lie ( 1833 – 1908 ) , forfatter har været daarlig jo . Er det ikke deiligt at være i Paris nu , da « visse Folk » er borte ? da « visse Folk » er borte ] Ekteparet Bjørnstjerne og Karoline Bjørnson hadde flyttet fra Paris etter mye krangel med andre nordmenn bosatt der . Frit og godt og bare hyggeligt ?\n",
      "Jeg undgaar ham jo ogsaa fælt godt nu ; men der blir vel Slagsmaal , kan jeg tro , om Maal og Sædelighed og noe af hvert . Jeg tror jeg kommer til at lave en Sædelighedsartikel og sætte i det nye danske Tidsskrift « Ny Jord » , « Ny Jord » ] Radikalt dansk tidsskrift , 1. utg. 1888. 3 bind utgitt før det gikk inn i 1889 . Redaktør : Carl Johan Behrens . som ikke er saa fælt nyt netop , men gir et livligt Indtryk .\n",
      "Om en 14 Dages Tid flytter vi ned til Bygden ( Tønset ) . Planen er egentlig , at vi skal reise til Xiania om Vaaren og bo der et Par Maaneder ; men det blir ikke af i Aar . Jeg har leiet – ikke Værelse , men en Bygning , – og Du skulde se for Udsigt ! – I Sommer skal jeg bygge en Stue til her og idethele indrette mig for Fremtiden .\n",
      "Det er en Myr et Stykke ifra , ved « Nordpolen » , « Nordpolen » ] Trolig en hytte som lå like ved huset til Garborg , eiet av Ivar Mortensson-Egnund ( 1857 – 1934 ) , oversetter og forfatter m.m. som Du bør male , naar Du er færdig med det jæderske , Du jo er optat med. Det er en Høifjeldsmyr med Vier , fladt og fint , Sjøen udenfor omrammet af Aaser . Skal Du til Jærs i Sommer ? Hvor blir der af Alexander ? Alexander ] Alexander L. Kielland ( 1849 – 1906 ) , forfatter , bror av Kitty Han maa hjem igjen alligevel , han .\n",
      "Jeg fandt et av de kjedelige Russeportræter alligevel og sender det , skjønt jeg ikke helst burde la det forsvinde . Det er ikke blit noe med at ta mig af nu . Det skal bli til Sommeren .\n",
      "Ja Du faar leve da ! Mangfoldig Hilsen . Hvem er der nede nu ? Eilif PetersenEilif Petersen ] Eilif Peterssen ( 1852 – 1928 ) , kunstner f.Ex ? Hils alle .\n",
      "20. oktober 1888 . Fra Garborg til Kielland .\n",
      "Brevs . 129\n",
      "SavalgutenSavalguten ] Ivar Mortensson-Egnund ( 1857 – 1934 ) , oversetter , forfatter , redaktør m.m. fortæller mig , at Din Adresse fremdeles er Thime.Thime ] Kielland bodde minst to steder på Jæren denne sommeren , Vik og Time . Først uti november reiste hun til Sandvika ( kilde : Brev fra Harriet Backer til Garborg datert 1. nov. 1888 . NB Brevs . 140 ) Grunden til , at jeg ikke har sendt Dig Norsk eller Dansknorsk er den , at jeg har havt den største Tvil om Adressen . Jeg trodde helst , Du var i Xia nu – Udstillingen etc.\n",
      "Jeg haaber Du har faaet det Hefte af « Ny Jord » , « Ny Jord » ] Radikalt dansk tidsskrift , 1. utg. 1888. 3 bind utgitt før det gikk inn i 1889 . Redaktør : Carl Johan Behrens . jeg sendte Dig – Strindbergs Stykke om Kvinden og Negerne ? Strindbergs Stykke om Kvinden og Negerne ] August Strindbergs drama Fröken Julie , utgitt 1888 Det vilde være kjedeligt , hvis det var kommet bort ; men jeg sendte det til Thime .\n",
      "Savalguten siger , Du har den Mening om Dagbladets Optræden sidste Gang i Sædelighedsspørgsmaalet , at Du synes jeg burde ha fortsat Striden . Jeg begriber ikke det ; men det er vel min Feil . Diskutere en slig Sag med tykke Lars Holst , Lars Holst ] Lars Holst ( 1848 – 1915 ) , jurist og Venstre-mann , redaktør for Dagbladet fra 1883 som nægter , at Mennesket har Natur ? – Hvis Du vilde ha kunnet læse en Debat om , hvorvidt Madlyst er en Naturdrift eller ei , maa Du ha mindre Skræk for det Idiotiske end jeg trodde .\n",
      "Tykke Lars Holst er en haabløs Idiot . Han har en Evne at kunde gi fra sig med en vis Nøiagtighed , hvad han har hørt en anden sige 1 Time iforveien ; – denne andre maa dog være en Mand , han har Tillid til . Som nu Sars.Sars ] Johan Ernst Sars ( 1835 – 1917 ) , historiker – Eller B. B. B. B. ] Bjørnstjerne Bjørnson ( 1832 – 1910 ) , forfatter Det græsselige blødhjernede Vaas om Rousseau etc. er Sars , – men da Lars har hørt det for temmelig længe siden , saa er det ikke længer nøiaktigt ; det er blit idiotiseret af at ligge på lager i Lars Holst ' s Hjerne .\n",
      "Jeg arbeider for Tiden paa en Farce . Det skal være Vrøvl tykt paasmurt ; skrive Fornuft for Folk nytter jo ikke en Døit . Hvor gladelig alle Mennesker nu f.Ex . lader UforsonligeUforsonlige ] Skuespill av Garborg utgitt 1888 dø ! – ligesom de tidligere lod « Mannfolk » « Mannfolk » ] Garborgs roman Mannfolk , utgitt månedskiftet november / desember 1886 ha samme Skjæbne ! Men en Farce kanske gaar i dem . Vi faar nu se . Blir den tilstrækkelig vrøvlet , gaar den ialfald i Kristiania Theater .\n",
      "En Brochure « Fri Skilsmisse » , « Fri Skilsmisse » ] Utgitt i 1888 , i Bergen av Mons Litleré , med undertittelen « – Indlæg i Discussionen om Kjærlighed » indeholdende de 3 – 4 Artikler , jeg hidtil har skrevet om denne kjedsommelige Sædeligheden , kommer om en Maaneds Tid . Skal jeg sende den til Thime ? Er Du ikke da dragen til Paris igjen ? – Jeg synes der maa være fælt at bo i Thime nu , – svarte , sure Høsten .\n",
      "Heroppe har vi Vinter , hvilket er vel saa friskt . Sne og Frost ; Isen begynder at lægge sig . Forresten alt vel . Min nye Stue udmærket at arbeide i . UngenUngen ] Arne Olaus Fjørtoft Garborg , kalt « Tuften » , født 25. mai 1888 , Arne og Hulda Garborgs eneste barn stor og rask ; ligger om Dagen og skoggerler , – naar han er blid da . – Aviserne kjedelige ; Politiken opgir jeg . Irgens HansenIrgens Hansen ] Johan Irgens Hansen ( 1854 – 1895 , teaterkritiker og - sjef ser jeg har skrevet et Skuespil . Fra LiesLies ] Jonas og Thomasine Lie hørte jeg for et Par Maaneder siden , mens de var i Berchtesgaden.Berchtesgaden ] By i den tyske delstaten Bayern syd i Tyskland , sommeroppholdssted for Lies og Henrik og Susanna Ibsen\n",
      "Spanderer Du et Brev paa mig , saa er Adressen : Lille-Elvedal , Østerdalen .\n",
      "Tekst langs venstre marg første side Og nu har Du jo faaet fat paa Piecen lel .\n",
      "Læser p.t. Darwins Liv og Breve . Fælt hyggeligt . – Daudet « Den Udødelige » Daudet « Den Udødelige » ] Alphonse Daudet ( 1814 – 1897 ) , fransk forfatter . Romanen er en parisisk samfunnsskildring , utgitt på dansk i 1888. daarlig . Har Du læst den ? Jeg skriver til HarrietHarriet ] Harriet Backer ( 1845 – 1932 ) , kunstner . Brevet fra Garborg ser ikke ut til å være bevart , men Harriet Backers svar til Garborg datert 1. nov. 1888 er bevart ( kilde : NB Brevs . 140 ) . i Dag .\n",
      "Tekst langs venstre marg side 4 Der skrives saa lidet fra Udstillingen ? Udstillingen ] Statens Kunstudstilling , Høstutstillingen – Er Du der ? Ja naturligvis ; Du har jo været flittig.Du har jo været flittig ] Kielland hadde 5 malerier utstilt : Katalognr . 95 : Efter Regnveir , 96 : Fra Jæderen , 97 : Ved Seinen , 98 : Sommerdag på Jæderen , 99 : Stilleben . – Har Du faaet gjort noget i Sommer ? ( som Du er glad i , mener jeg ) .\n",
      "26. oktober 1888 . Fra Kielland til Garborg .\n",
      "Ms.4 ° 4318 A\n",
      "Kjære Garborg , jeg læste netop imorges i Fædraheimen , Fædraheimen ] Et nynorskspråklig ukeblad startet av Arne Garborg i 1877 med undertittel : Eit Blad til det norske Folk . Mortensson-Egnund var redaktør 1883 – 1891 det Du skriver til Savalguten , Savalguten ] Ivar Mortensson-Egnund ( 1857 – 1934 ) , oversetter , forfatter , redaktør m.m. fordi han havde villet gjøre Dig til stortingsmand . Hvert ord var Dig selv saa ligt , at det var ligesom Du stod der selv , derfor har jeg hvert øieblik , mens jeg sad i væde og kulde ude og malte , uvilkaarlig havt Dig saa lyslevende for mig , saa nu det er aften sidder jeg her og skriver . Alene naturligvis . Monstro Du havde en anelse om den dag , det var min geburtsdag , min geburtsdag ] 8. oktober aa nei var det ligt sig . Ikke engang HarrietHarriet ] Harriet Backer ( 1845 – 1932 ) , kunstner husker den nogensinde . Det er Jonas LiesJonas Lies ] Jonas Lie ( 1833 – 1908 ) , forfatter den 6 te november .\n",
      "Hør Du , jeg var ikke ganske tilfreds med dit i Dagbladet Discussion om kjærlighed , Discussion om kjærlighed ] Antakelig viser hun til Garborgs artikkel « Naturfornægtelsen » i Dagbladet 18. september men nu er vi saa langt fra hinanden og Du under saa rent andre forhold og omgivelsesforhold , saa tør jeg ikke rigtig lægge ud . Jeg har mistet lidt af mit tillidsfulde haab til , at jeg aldrig blev misforstaaet . Naa lad staa til . Jeg liger ikke dit uklare ( synes jeg ) forhold i dette ligeover for beherskelse . Du burde sige , ( hvis man ordret skal tage dit indlæg ) , : jeg vil aldeles ikke selvbeherskelse , aldrig . Men det mener Du ikke . HolstHolst ] Lars Holst ( 1848 – 1915 ) , jurist og Venstre-mann , redaktør for Dagbladet fra 1883 bruger nogle fælt konventionelle dræbende ord , « indtil en dybere lidenskab banker i deres blod » , fæle ord . Men disse ord har en ret , eller deres tanke har en ret , Du mener egentlig den samme beherskelse . Denne din utopiske tro , at al usædelighed er mishandlet kjærlighedsdrift » , [ sic . ] , startanførselstegn mangler at engang skal intet andet begjær findes end det harmoniske , som har baade legems og sjælsmennesket paa en i sig , ja tro det , om Du kan , men nu er det ikke saa ialdfald . Naar jeg skal dømme efter de bøger jeg har læst , saa har denne driftens vaagnen i sig hos manden noget sa absolut kjødeligt ofte ialfald , at den sjelden vilde falde paa at fæstne sig ved en , som kunde være med paa et længre udviklingsliv , eller om Du vil vare sige glad samliv . Og da samlivet bestaar af to , saa skal der tænkes paa begge parter ikke bare paa , at han har en salig stund . Derfor kan der vel siges , betænk Dig gut , skal der blive noget af det , saa faar Du værsaagod beherske Dig , til Du føler begge deler røre sig i Dig , mennesket lever ikke af kjøde alene . Monstro Du ikke gjerne kunde sagt saa meget , men nei alt skal være saa velsignet løst . Og Du mener det ikke saa løst , men det faste skal vi underforstaa . Saa igjen den « Trofast blir den Mand som kommer godt ud af det med sin Kone , enten han har havet eventyr eller ei . Jeg tror nu , at trofast blir den mand , som ogsaa der vil beherske sig , enten han har gjort det før eller ei . Det at mænd skulde blive trofaste , fordi de har raset ud , maa for en kvinde være en vammel tanke , om ikke for andet , saa fordi det ligger vor specielle , exclusive natur saa fjernt . Jeg tror , at vi maa blive lastefulde for at miste dette specielle , hvilket jo ikke er tilfælde med dere , men glad kan da aldrig en kone være , fordi hendes mand har lagt af sine bedste unge varme følelser paa andre . Tro , ikke en mand forstaar den tankegang hos en kvinde , skulde den ligge hans saa fjern ? Det ideelle faar da minsandten lov at være for os som for dere , at den kjærlighed vi faar i bytte for vor egen , skal være saa speciel , saa ny , og saa friskt følt for os , som det er muligt , og saa lidt som muligt blandet med opvoxet paa andre tidligere følelser . Dette er hjertets ideelle trang for os som for eder . Se nu tænker Du , Gud bevare mig vel , hvad er nu dette , hun præker om , der er jo ingen , som snakker om det . Nei nei , men jeg vil snakke om det for at faa sagt , at jeg aldeles ikke liger , der Du siger , at Du vil tilgive om det var en dame , der sa det om selvbeherskelse . I hele den passus , Garborg , snakker Du for letvindt , jeg liger ikke , at Du vil ligesom gjøre til komik al tale om selvbeherskelse . Naar vi kvinder ser , at selvbeherskelse følges af selvforgudelse for vorsin egen dyd af begeistring for denne sin selvbeherskelse , ja saa ækler det os . Men det maa paa den anden side ikke forlanges , at vi skal se paa en mands haven-raset- ud uden som paa et onde . Thi husk vort ideal Aa nei , det gaar ikke an at skrive om alt dette , Du bare faar den bandsat gale forestilling at jeg er blevet en tørpamp og en snerpe , og det er løgn . – Sagen er , jeg kjender Dig enda , saa jeg ved , hvad der ligger af din person bag om dine ord , Du faar mig ikke til at misforstaa mig Dig , men Du maa skrive anderledes , gide mer forsvare eller forklare dine egne ord ellers ser det svært mandfolkeagtigt ud , og Du naar ikke derhen , hvor Du ellers kunde naa . Nu vil jeg sige en sandhed , bliv altsaa ikke sint . Naar Du skriver saadant , saa kommer der frem en usammenhængenhed , dit klare , greie , præcise , naar det gjælder logik , og saa snart det kommer ind paa følelsen din bondesky for at vise følelse , af hvilken grund alt det skal feies af og vi skal underforstaa .\n",
      "Dertil lever Du langt væk fra folk , faar aldrig modbør , saa Du husker ikke paa , at alt ikke er saa selvfølgeligt for os , det maa gives os ind med skeer , thi vi faar i dagens løb mange indtryk og dem maa Du udrydde og tage os helt med. Uf ikke lad dette kjede Dig . Husk paa jeg ved godt det , at blir et kvindfolk glad i en mand , saa spør hun ikke , saa tar hun alt , det vil sige , kjærligheden tar hende , og den kjender ingen grændser . Jeg er ikke uddød . Slutten mangler\n",
      "18. desember 1888 . Fra Garborg til Kielland .\n",
      "Brevs . 129\n",
      "Det , som satte meg ud af Humør var hele Sætningen : « jeg ved – osv men Du skulde skrive mer umisforstaaeligt . » Tænk ! Du , som for det første skulde være velvilligt stemt , – saa for det andet havde læst alt hvad jeg har skrevet om disse Ting , og som desuden har hørt mig mundtlig forklare , hvad jeg vil , om igjen og om igjen , saaat jeg var sikker paa , at hvem den forstod eller ikke forstod , saa var ialfald Du med i det væsentlige , – og saa bagefter faa den Besked , at dersom Du ikke tilfældigvis havde vidst , at jeg ikke var gal ( ɔ : at jeg ikke vilde det onde ) , saa havde Du nok kunnet tro hvadsomhelst efter mine Artikeler !\n",
      "Og jeg , som trodde , at Du snarere vilde ha gjort Nar af mig , fordi jeg gad male opigjen alle disse selvsagte Ting ! – Jeg ble fik et Anfald af Træthed . Staar det saadan til med det grønne Træ , tænkte jeg , – hvordan kan jeg saa indbilde mig , at der skal være noget at gjøre ved de tørre ? Og i dette Anfald af Modløshed skrev jeg mit Brev og skrev mig sint . – Jeg bør undskylde .\n",
      "– Det var dumt ! Jeg gik ud fra , at vi kjendte hinanden saavidt , at det gik an at snakke ud af Øieblikkets Stemning uden den bestandige Risiko for at bli « misforstaaet » . Af hvad Du forteller ser jeg , at Du har forstaaet mig paa samme Maade som et hvilketsomhelst ganske fremmedt Menneske vilde forstaa mig , om jeg skr sendte det saadan et urimeligt Brev . Jeg faar nok virkelig lægge Overstrøket uleselig ord mig efter at skrive « umisforstaaeligt » , ser det ud for ! – For denne Gang har jeg intet andet at gjøre end at bede om Undskyldning .\n",
      "Du finder mig blandt andet hovmodig . Jeg skal dertil si , at – et af to : enten maa jeg tro , at andre Mennesker er – lad os si en Smule sentænkte , siden Du ikke liker de stærkere Ord ! – eller ogsaa maa jeg tro , at jeg selv er sindsforvirret , saa at jeg finder Klarhed der , hvor der ingen Klarhed er . Skal jeg nu ikke overmandes af den Selvmistro , som Overstrøket uleselig ord ligger og lurer paa Bunden af min Bevidsthed , – saa faar jeg jo i det længste stramme mig op og tro , at det er de andre , som er – en liden Smule sentænkte . Jeg ved ingen anden Raad . Du , som ved lidt om , hvordan jeg har det , og bl.a ved at Selvtillid ikke er min Force osv. , – skulde egentlig skjønne Sammenhængen med min « Hovmodighed » – Men det er som jeg længe har vidst : Menneskene forstaar nu engang ikke hinanden ; der er ikke noget at gjøre ved det .\n",
      "Mit Sinne i Anledning af Sædeligheden m.m. maa ha farvet min Fremstilling af Affæren Mortenson ogsaa , kan jeg forstaa . Jeg faar derfor rette hvad rettes kan og oplyse , at jeg ikke er det miste Gran sint paa SavalgutenSavalguten ] Ivar Mortensson-Egnund ( 1857 – 1934 ) , oversetter , forfatter , redaktør m.m. – langtfra . Jeg har hellerikke « experimenteret » med ham . Naar jeg sa Experiment , mente jeg , at jeg i mit Forhold til ham har tilladt mig at nære en Illusjon , som jeg i Grunden selv vidste var en Illusjon – : at han muligens kunde være en af de yderlig faa , der er saa luxuriøst udstyrede fra Naturens Haand , at de har Raad til at være lidt Altruister ( jeg har som bekjendt i det senere truffet en to-tre saadanne Mennesker , hvilket paa det behageliste har overrasket mig ) . Det Sammenstød , som har fundet Sted mellem IvarIvar ] Ivar Mortensson-Egnund og mig , og som ellers ingen som helst Følger vil ha , har vist mig , at den Hædersmand Savalguten i omhandlede Henseende er udstyret som de fleste andre Mennesker ; – det er det hele . Han er en uhyre bra Kar , netop nu optaget med en Virksomhed , som jeg sætter Forhaabninger til , og som viser , at han er en Mand med Hoved saavelsom med Hjerte ; hans Optræden paa Gjøvik er en hel Bedrift . Hvad Du skriver om hans Stemme osv. er – lad mig sige Barnelogik . Somme slætte Mennesker har et mindre godt Organ ; altsaa er alle , der har et mindre godt Organ , daarlige Mskr ! – det er Barnelogik , – Du faar i Guds Navn kalde mig hovmodig .\n",
      "Jeg tror ikke , jeg forlanger mer af mine Venner end andre Folk – snarere mindre . En Erfaring paa tyve Aar har lært mig et og andet om , hvad man med Billighed kan og bør forlange . Min Ven Ivar har sagt mig , at han betragter mig som et brugeligt Arbeidsdyr , som kan levere meget nyttigt Arbeide hvis det behandles ikke altfor hensynsløst – jeg er meget fornøiet med det . Vilde alle mine « Venner » anerkjende mig som et brugeligt Arbeidsdyr , skulde jeg være tilfreds – svært tilfreds . Men – – Et og andet har sandt at sige i Tidernes Løb ærgret mig og gjort mig lidt mere kold og vond end jeg er af Naturen . Jeg kunde ha Stof nok til at skrive en Bog om Venskab , men skal naturligvis ikke gaa ind paa Tingen her . – Men se nu bare som nu i denne Sædelighedsstrid ! Jeg har i Pressen en Del Folk , som kjender mig , og en to-tre , som jeg har betragtet som Venner . Nu gaar Pøbelen omkring og misforstaar mig derhen , at jeg er et Svin , som vil Svineri ; alt , hvad jeg maser og skriver – det hjælper ikke . Ydmyge mig for Pøblikum [ sic . ] til at afgive Forsikringer om at jeg er et skikkeligt Menneske osv. kan jeg ikke . – Dette sidder mine Venner og ser paa . De er uenige med mig , men de kjender mig saa vidt , at de ved , at jeg endnu ikke er gal . Kanske der da er nogen , som har traadt frem for Publikum , og sagt dette ? – Aa nei . De har tiet eller hjulpet til med at gjøre mig misforstaaet . Og det skjønt de saa , at jeg tabte mit Levebrød paa de Misforstaaelser .\n",
      "Eller – om jeg skulde nævne en Ting til – : da jeg var afsat , var der i Kjøbenhavn en Del Kjendinger , som syntes , at man i den Anledning burde foranstalte en Subskription – det skulde være en Sympathibevidnelse . De skriver da til en eller anden af mine norske Venner , gaaende ud fra , at det naturligvis burde være disse , der gikk i Spidsen – skriver og ber om Besked samt lover , at de skal arrangere Sagen for de danskes Vedkommende . – Og min norske Ven – ? – svarede ikke engang paa Henvendelsen . Det var ikke opportunt at støtte Forf . af Mannfolk.Mannfolk ] Garborgs roman Mannfolk , utgitt månedskiftet november / desember 1886\n",
      "Den Slags Ting synes jeg , Venner kunde la være – jeg vilde ikke ha gjort saadant selv . – Men Herregud , der er intet at sige ! Al Ting har sin Grund ; det er idiotisk at beklage sig . Men svært varm blir man ikke ved Erfaringer af den Art , og jeg for min Part har i det sidste gjort hvad jeg kunde for at faa den Sort « Venner » til at forstaa , at jeg betragter Venskabet som ikke existerende – saa behøver nemlig ikke jeg heller at ta nogen Hensyn . Jeg kan ialfald af og til faa lettet mit Hjerte ved at skjelde dem ud – privat som offentlig . Jeg er ikke deres Fiende , Gudbevars – jeg kan godt samarbeide med dem , hvis der kommer Omstændigheder , som gjør saadant nødvendigt ; – men jeg vil være kvit disse Venskabshensyn , som jeg – med alle mine Erfaringer og al min Kulde – ikke kan la være at ta , saalænge « Venskabet » ialfald officielt staar ved magt . – Ogsaa Ivar staar jeg nu forsaavidt friere overfor – hvilket ikke hindrer , at vi samarbeider efter bedste Evne .\n",
      "– Alt er i Orden her ; kun er UngenUngen ] Arne Olaus Fjørtoft Garborg , kalt « Tuften » , født 25. mai 1888 , Arne og Hulda Garborgs eneste barn forunderlig urolig om Nætterne , hvilket volder Søvnløshed og Bekymringer ; KjærringaKjærringa ] Hulda Garborg , født Bergersen ( 1862 – 1934 ) , forfatter og kulturarbeider , giftet seg med Arne Garborg desember 1887 har neppe sovet en Nat roligt i dette halve Aar . Og saa har der været en Del anden Bekymringer , som ikke har været fri for at trykke mig – nu jevner det sig nogenlunde , tænker jeg . Jeg er begyndt paa BokaBoka ] Trolig romanen Hjaa ho Mor for Alvor – hvis jeg kommer til at forsømme Brevvekslingen nu udover , saa er det fordi jeg maa drive hardt paa , saa jeg kan bli færdig til Sommeren .\n",
      "Det er mildt her og stormende . Jeg tror Julen kommer med Lindveir ( d.v . s . jeg tror vi faar Linnveir i Julen ogsaa ) . Der har været Tale om , at vi skulde faa en Kristianialiterat herop paa Julebesøg ; det blir naturligvis ikke noget af – mindst med sligt Føre . – Det er utruligt , saa liden Følelse vi forresten har af at være alene her ! Jeg var i Grunden langt mere alene i Byen ( hun paastaar det samme ) og i Vaar , da vi bodde nede i Bygden , var det ikke til at udholde , saa ensomt som der var ! –\n",
      "Har ikke faat Maisa Jons.Maisa Jons ] Roman av Jonas Lie , utgitt 1888 i København Hans JægerHans Jæger ] Hans Jæger ( 1854 – 1910 ) , forfatter , anarkist og bohem . Utga på eget forlag i 1888 Kristiania-Billeder sammen med Haakon Nyhuus ( 1866 – 1913 ) – stort formelt Fremskridt , men forresten – . Faar ikke nogen Slags Greie paa de Figurerne ; Fru Engelhart er blit rent umulig.Fru Engelhart er blit rent umulig ] Gjelder Oda født Lasson , gift 1881 med Jørgen Engelhart ( 1852 – 1921 ) , men som hun flyttet fra i 1883 og formelt skilt fra i 1888 . Hun var i 1888 både sammen med Chrstian Krohg og Hans Jæger . SonjaSonja ] Tittel på novelle av Haakon Nyhuus hvor Oda Engelhart er modell , trykt i Kristiania-Billeder friskere . Hans Jæger vil da ikke begynde at leve af at være Selvmorder ? Hils Kjendinger ( især HarrietHarriet ] Harriet Backer ( 1845 – 1932 ) , kunstner og Werenskjold ) . Werenskjold ] Erik Werenskiold ( 1855 – 1937 ) , kunstner Glædelig Jul ! Godt Nytaar ! Din G.\n",
      "Tak for Morgenbladet – jeg beundrer Dig , som kan ta sligtnoget med denne lune sikre Ro.jeg beundrer … Ro ] Kielland skrev artikkelen « Nogle Betragtninger over Stiftsmødets Forhandlinger angaaende Kvindens Deltagelse i Guds Ords Forkyndelse » i Morgenbladet 12. desember 1888 Det virker naturligvis bedst . – Hvis Du skriver om « Fri Skilsmisse » , « Fri Skilsmisse » ] Hefte utgitt av Garborg i 1888 , i Bergen av Mons Litleré , med undertittelen Indlæg i Discussionen om Kjærlighed saa skjeld mig ordenlig ud ! Jeg er frygtelig flau over , at jeg sidst skrev noget , som Du har forstaaet derhen at jeg ikke vil ha anden Slags Kritik end Ja og Amen .\n",
      "– Jeg var træt , som sagt . Jeg kom bl.a netop fra Debatten med Alfred Ipsen.Alfred Ipsen ] Alfred Ipsen ( 1852 – 1922 ) , dansk forfatter der saa saadan ud – :\n",
      "Jeg : redegjør for mit Standpunkt med udtrykkeligt Henblik paa det økonomiske ved Sagen !\n",
      "Han : Det er meget godt ; men Herr G. overser ganske det økonomiske ved Sagen .\n",
      "Jeg : gjentar hvad jeg har sagt og understreger særlig det økonomiske ved Sagen .\n",
      "Han : Ja det er fortræffeligt ; men Herr G. overser fremdeles det økonomiske ved Sagen !\n",
      "osv. osv.\n",
      "Den Slags Kritik liker jeg ikke . Jeg ved ikke , om Du kan tænke Dig det ?\n",
      "Og det var den Slags Kritik jeg trodde Du ikke vilde levere – ialfald ikke i det hele . Derfor sa jeg dette – « ialfald ræsonnere fornuftigt om sonst » . – Skal aldrig mere udtrykke mig saa slurvet .\n",
      "Tekst langs brevets høyre marg siste side Har desværre ikke Tid til at skrive Brevet om\n",
      "[ februar 1889 ] . Fra Garborg til Kielland .\n",
      "Brevs . 129\n",
      "Starten mangler – Nei Død og Pine – skal jeg komme bortover til Svarthugu med mine Breve før Klokken tolv i Nat , maa jeg slutte . Jeg har endnu 5 – 6 tildels lange Epistler igjen – samlet op , ser Du . Arbeider jevnt og bra . Drikker Bloud ' s PillerBloud ' s Piller ] Jernpreparat mot blodmangel inneholdende ferrosulfat , kaliumkarbonat , glyserin , lakrisrot og sukker . Navn etter den franske legen P. Blaud ( 1774 – 1858 ) . samt Bockøl . – Temmelig enig vist om Havfruen.Temmelig enig … Havfruen ] Om Henrik Ibsens skuespill Fruen fra Havet som hadde premiære på Christiania Theater 28. november 1888 Masse fin Kunst spildt paa en triviel Moral . Billedhuggeren og Hilda – især den sidste – brilliante . – Alt vel – GuttenGutten ] Arne Olaus Fjørtoft Garborg , kalt « Tuften » , født 25. mai 1888 , Arne og Hulda Garborgs eneste barn kjæk – 2 Tænder , ny rød Topluve . HanHan ] Trolig skriver Garborg her om seg selv i 3. person ønsker ikke , at Du skal gaa i Seinen ; han mener han skal greie sig sjøl , og saa vil han reise til Paris og lære at male . Eller ogsaa bli Musiker . Eller ogsaa Skomager . – Nei nu begynder jeg igjen . Hils . Det er mig fremmendtvelvillig lesning og vondt at tænke mig Jonas bli gammel – Bitterheden var der lidt af før ogsaa – ubegribeligt for mig ; – tænk , den der havde naaet en Stilling som han ! Jeg misunder ham hans sidste Romaner . –\n",
      "Jagu er Du sundere ! Arbeidsglæde , Arbeidsmod og Forfængelighed er sunde Følelser , især i Modsætning til Overgivethed etc. Jeg skal ha Moro for at høre , hvordan Dit InteriørDit Interiør ] Antakelig henspeiler dette på et av bildene Kielland hadde på Verdensutstillingen i Paris , omtalt som « et interiør fra atelieret i Paris » . Hun vant sølvmedalje for ett av sine andre malerier ( kilde : Lange 1999 , s . 204 ) blir modtaget , kanske jeg faar se det ogsaa – det kommer vel hjem engang ? Mangfoldige Hilsener ! ! KjærringaKjærringa ] Hulda Garborg , født Bergersen ( 1862 – 1934 ) , forfatter og kulturarbeider , giftet seg med Arne Garborg desember 1887 hilser .\n",
      "21. april 1889 . Fra Garborg til Kielland .\n",
      "Brevs . 129\n",
      "Nu skal du faa et Forretningsbrev paa 3 linjer .\n",
      "Som jeg skriver til LieLie ] Jonas Lie ( 1833 – 1908 ) , forfatter . Brevet som nevnes er ikke NBs samling i Dag : saa længe har vi gaaet her oppe og snakket om at reise , indtil vi er blit aldeles reisegale . Stipendium faar jeg ikke ( med mindre Du kan love Jakob Sverdrup to til tre – mindst ! – rene Venstrestemmer for et Tillidsvotum ) ; vi har da som sagt tænkt at flytte til Jæderen – bare for at faa flytte , – og det kommer vi vel til at gjøre ogsaa .\n",
      "Men for tiden er det egentlig mere Sol , vi trænger , – Sol , Gemytlighed , Hvile , og « nye Indtryk » – , altsaa er det synligt , at vi ikke skal kunne komme længer Syd . Og følgelig bryder vi vore Hoder i Stykker nu , hvordan vi skulde stille os , saa det alligevel skulle la sig gjøre .\n",
      "Saa har vi lavet følgende Resonnement :\n",
      "Flyttes skal der altsaa . Dersom vi istedenfor at reise til Jæderen og etablere os der reiser et Stykke Vei ret sydover og etablerer os der , kan Forskjellen i Reiseudgifter ikke bli uoverkommelig . Kunde vi saa et eller andet Sted finde et Hus – en Landsby el . lign . – hvor Husleien ikke vilde overstige ialfald det dobbelte af , hvad den sandsynligvis vil andrage til ( godt Udtryk – hvad ? ) – andrage til paa Jæderen , – saa kunde jo KjærringaKjærringa ] Hulda Garborg , født Bergersen ( 1862 – 1934 ) , forfatter og kulturarbeider , giftet seg med Arne Garborg desember 1887 stelle Maden der nede ogsaa , og da kunde et Ophold der ikke bli uoverkommelig meget dyrere end paa Jæderen ( hvor vi ogsaa agter at foretage Rangleturer til Byen ) .\n",
      "Resonnementet er , som du ser , temmelig frit , temmelig ufunderet . Imidlertid ha vil vi da høre os for – om noget Menneske skulde vide et Sted – helst ikke altfor langt fra en større By – , hvor man kunde bo et Aars Tid , og hvor man kunde faa en liden Bekvemmelighed ( 3 Værelser og Kjøkken ) for ikke over 400 Kr . om Aaret ?\n",
      "Naturligvis ved Du , hvad der kan vides ; Du er jo praktisk og har dessuden været overalt ( i München f . Ex ) . Specielt véd Du , hvad det koster i Smaabyerne ved Paris ( hvor der forresten naturligvis er for dyrt ) ; kan der være tale om AsnieresAsnieres ] Forstad til Paris , ca 8 km fra sentrum mot nordvest f . Ex . ? –\n",
      "– Ja det var bare det i Dag .\n",
      "Akk de andre Ting , jeg skulde skrive om , faar vente . Bare for at faa Brevet afsted med Øieblikkets Postleilighed maa jeg slutte . Alt vel . Intet nyt . Hilsen ! Et langt Brev næste Gang !\n",
      "12. mai 1889 . Fra Garborg til Kielland .\n",
      "Brevs . 129\n",
      "Ved Gud trøste mig – nu flyr Du naturligvis Land og Strand og anstiller alskens Undersøgelser – medens Meningen var , at Du bare skulde fortælle hvad jeg forventede Du vidste – omtrentlig , – saadan til Brug ved Spørsmaalets foreløbige Diskussion ; det er nemlig sletikke sagt , at vi bestemmer os for Paris ! – Maaske Du dog alligevel har tat det roligt , og at det er Strevet med Salonen etc som gjør , at Du har udsat et par Dage med at skrive , jeg vil haabe det . – det er da hellerikke noget , som haster saa forskrækkelig .\n",
      "Men jeg sender dette alligevel – for at stoppe dig , hvis Du skulde ha git dig i Færd med Undersøgelser ! – En Slags almindelig Ide om , hvad man kan faa Husly for i Asnieres , Asnieres ] Forstad til Paris , ca 8 km fra sentrum mot nordvest SévreSévre ] Sévres , forstad til Paris , ca 10 km fra sentrum mot vest o . lign . har Du , og den vil jeg naturligvis svært gjerne faa – naar Du har Tid en Dag – ; ikke noget mere for Øieblikket ! Naar vi en Dag har bestemt os , vil jeg jo ikke love for noget , – skjønt , hvis der blir Tale om Paris , saa har vi jo nu Inga ThommessenInga Thommessen ] Inga Thomesen , gift Kjelsberg ( 1848 – 1823 ) , søster til Sofie Werenskiold som var gift med Erik Werenskiold – hvem Du faar hilse forresten .\n",
      "Udstillingen er jo storartet ? Udstillingen er jo storartet ] Kielland stilte ut fire malerier på Verdensutstillingen i Paris og vant sølvmedalje . Den franske stat kjøpte inn ett med torvmyr-motiv . Hun var også medlem i den norske komiteen . Hilsen ! Din Arne Garborg\n",
      "Tak for Avisen ! !\n",
      "Tekst på tvers langs venstre margHvad er der i Veien med Kjøbenhavns Teater ?\n",
      "6. januar 1890 . Fra Garborg til Kielland .\n",
      "Brevs . 129\n",
      "Godt Aar ! – Og Tak for Brevet .\n",
      "Gaa nu bare ikke og « skam Dig » og plag Dig med denne Idé om , at du har « opført Dig rasende egoistisk » osv. ; Du skjønner vel nu , at jeg ialfald ikke ser Sagen paa den Maade . Du véd ogsaa , at jeg gjerne vil ha Breve fra Dig ; Spørsmaalet om , hvorvidt du « bør » skrive eller ikke bør jeg maaske ikke paatage mig at afgjøre ; men det vilde være trist og underlig umenneskeligt , om det skulde være nødvendigt . – –\n",
      "Ja nu har jeg slidt mig omtrent ihjel paa denne ulykkelige Bog , Bog ] Garbors roman Hjaa ho Mor , utgitt 1890 . Først på dansk-norsk med tittelen Hos Mama av P. G. Philipsens Forlag , København , senere på landsmål . arbeidet under frygtelig ugunstige Vilkaar ( stadig « overanstrengt » etc ) , men er nu endelig over det . ( Dog har jeg en Del igjen paa af den norske Udgave ) . Nu kommer det andet store Ve – : Dommene , Virkningen . Gott helfe mir , Amen . Gid Du vilde synes , at den ikke var fæl . – Det er en Udfyldning og Forklaring af « Mannfolk » « Mannfolk » ] Garborgs roman Mannfolk , utgitt månedskiftet november / desember 1886 forresten ; den maa ialfald kunne forklare , hvad jeg mener og har ment . Jeg tror , Philipsen lar den komme i Slutningen af Februar eller Begyndelsen af Marts ; om der blir nogen tysk ( samtidig ) Udgave af , véd jeg endnu ikke . « Deutsche Rundschau » vilde ikke ha den , naturligvis – og en hel del Forlæggere vil heller ikke ha den . De kjender mig fra « Mannfolk » – hvis de kjender mig . Ach ja . –\n",
      "Tak ! ! for « Paa Guds Veie » . « Paa Guds Veie » ] Bjørnstjerne Bjørnsons roman Paa Guds Veie , utgitt 1889 – Men jeg maa fortælle Dig , at jeg ogsaa har faaet Bogen « fra Forfatteren » – jo jeg har ! – Han har endnu aldrig sendt mig en Bog ; men denne sendte han mig – hvad det nu skal betyde . Han maa dog mene , at jeg vil bli blid af at læse den ; han har nemlig udtrykkelig adresseret den til « Digteren » A. G … han lever i den Tro , at jeg er sint paa ham , fordi han en Gang ( i Anledning af « Ein Fritenkjar » , som han ikke havde læst ) skrev til mig : « ja , Digter er De ikke , kjære Garborg » ( har jeg fortalt det ? ) – Siden ( i Paris , efter Bondestudentar , som han hellerikke havde læst ! ) præsenterede han mig bestandig for alle mulige Menneske som « Digter » – han er og blir uhelbredelig dum . Men denne Affære med « Paa Guds Veie » maa altsaa være et Forsoningstegn – ikke sandt ?\n",
      "Jeg har ikke faaet Tid til at læse den . Sandt at sige har jeg heller ikke turdet ; jeg vilde blive altfor modløs , hvis jeg læste den , le mens jeg holdt paa med mit eget Stræv . Men nu faat jeg begynde paa den . Jeg har kikket i den her og der og har set to Ting – : det at den er B. B. B. B. ] Bjørnstjerne Bjørnson ( 1832 – 1910 ) , forfatter og at den maa have glimrende Partier ; hvad jeg kommer til at synes om den som Helhed skal jeg sige , naar jeg faar læst den . Af hvad jeg har set af « Dagbladet » har jeg det Indtryk , at jeg kommer til at skrive noget lidt spydigt om den i « Samtid » « Samtid » ] Tidskriftet Samtiden med undertittel Populært tidsskrift for litteratur og samfundsspørgsmaal utkom fra 1890 , redigert av J. Brunchorst og Gerhard Gran , trykt i Bergen . I første årgang hadde Arne Garborg tre bidrag , men ikke noe som dreier seg om et tilsvar . – omtrent som saa – : det var jo akkurat det , Hans Jæger sagde ! – Men vi faar se . Af Din Kritik bestyrkes jeg i et Indtryk , jeg har faaet ved at kikke i den – : at dens Kvinder ikke er rigtig Mennesker . I min Bog er der en Del Spydigheder om vor moderne norske Kvindeliteratur – de kommer vist til at ramme « Paa Guds Veie » ogsaa . – – Men lad mig nu først læse den .\n",
      "« Samtid » har jeg skrevet til og lovet at gjøre hvad jeg kan – naturligvis . Vi trænger jo i høieste Grad et norsk Tidsskrift – især et , som ikke redigeres direkte fra Gausdal af . ( Jeg tror i al Stilhed , at B. B. begynder at bli en Fare for vort Aandsliv nu ; han er blit Autoritet , ser Du ) . – – Men desformedelst at « Samtid » ikke dirigeres fra Gausdal kommer det vel hellerikke til at gaa ; B. B. har alle Fruentimmer ( mandlige og kvindelige – Dig og kanske nogle til naturligvis fraregnet ! ) , og gjennem dem hersker han – som enhver anden Præst ! – Kan Du ikke faa Din Bror AlexanderAlexander ] Alexander L. Kielland ( 1849 – 1906 ) , forfatter til at støtte « Samtid » ? Han har en Masse Autoritet , ved Du . – Min « Støtte » vil nok ikke hjælpe synderlig . – –\n",
      "StreikenStreiken ] Streik for bedre lønnsvilkår blant kvinnelige arbeidere ved Bryn og Grønvold fyrstikkfabrikk i oktober til desember 1889 gik det altsaa bare middels med , det var hæderligt af B. B. at Støtte den ; men jeg likte bedre Dr. Nissen.Dr . Nissen ] Oscar Nissen , lege ( 1843 – 1911 ) Dr. Nissen var ialfald lidt sint , lidt forarget – B. B. var skrækkelig bred og fed . Stakkars Kristiania Arbeidere – ; staa og klappe til , at en bred , fed Overklassemand staar og tigger om en Skilling til dem i Guds Navn , sigende : « Lad os være snille mod dem ! Lad os flytte paa os , saa at de « ogsaa » kan faa lidt Plads ! » – Hvis jeg havde været Arbeider , var jeg blit sint . – Men der er storartet og deiligt , at en Overklassemand er saavidt rimelig . – – Men det var som en – jeg véd ikke hvad – at se Erik VullumErik Vullum ] Erik Vullum ( 1850 – 1916 ) , journalist og politiker i Spidsen for et Arbeidertog . Uf , han er for fæl , den Vullum ; kunde han ikke nøie sig med at sidde i « Verdens Gang » og skrive Høipolitik ? – Og saa kunde han bli Storthingsmand . Han er akkurat god nok til at bli Storthingsmand ; han vilde bestandig tale i Vest og stemme i Øst – som de ægte og sande Storthingsmænd pleier .\n",
      "– – Dere har det nok egentlig deiligt der i Sandviken og OmegnSandviken og Omegn ] Kielland og Backer bodde en stund på « Walles hotel » i Sandvika i Bærum , da de flyttet permanent fra Paris våren 1889 . Walles hotel lå der Rådhuset i Bærum i dag har en forhage . – en stor Kunstner paa hver haug , et lidet udvalgt Selskab . Saa Skredsvig har kjøbt Fleskum ! Fleskum ] Christian Skredvig kjøpte ved svigerfaren Frithjof Plahtes hjelp gården Fleskum ved Dælivannet i Bærum Det er komisk . Du maa absolut hilse ham ; jeg likte den Skredsvig frygtelig godt , i al Stilhed , men er ikke af den Slags Folk , som han kan like . Fru SkredsvigFru Skredsvig ] Maggie , født Plahte ( 1863 – 1955 ) , skilt fra Chr . Skredsvig i 1895 og senere gift med Michael Lie likte jeg ogsaa , skjønt jeg ikke vil kunne snakke med hende . Hvorfor har WerenskjoldWerenskjold ] Erik Werenskiold ( 1855 – 1937 ) kunstner tegnet den skrækkelige Selv-Karrikatur , som stod i Dagbladets Julenummer ? Dagbladets Julenummer ] « Dagbladets Julaftennummer , 24 de December 1889 » , nederst på tredje side Véd han ikke , hvor vakker han er ? – Jeg har aldrig set noget saa umuligt som det Selvportræt ; jeg kjendte ikke igjen et eneste Træk . De andre Portræter var gode , især Bjørnsons . Hamsuns Hoved var vist ogsaa uhyre godt.Hamsuns Hoved … godt ] Portrett av Knut Hamsun tegnet av Erik Werenskiold\n",
      "Det er trist , hvad Du fortæller om Hammer . At de ikke skulde gifte sig , er vist rigtigt ; men overfor ethvert konkret Tilfælde siger jeg bestandig : de faar gjøre det alligevel . Det er muligt , at der kommer Ulykke af det . Men det er sikkert at der kommer Ulykke af , at de ikke gjør det . I ethvert Fald har ingen Ret til at blande sig i den Slags Ting . Lad dem forsøge i Guds Navn , Amen . –\n",
      "« Jadarbuen » har sendt mig sit Manuskript ; jeg har naturlivis ikke faaet Tid til at se paa det . « Jadarbuen » … paa det ] Antakelig om Jon Jonsson Line ( 1862 – 1949 ) , bonde og skribent fra Time i Rogaland , utga 1888 Unge år . Forteljingar frå Jadarbuen Men jeg skal gjøre min Pligt . Egentlig dum er Fyren ikke , og det kunde nok hende , at han kunde arbeide sig op.\n",
      "Se nu Jens Tvedt ! Jens Tvedt ] Jens Tvedt ( 1857 – 1935 ) , lærer og forfatter Han saa svært umulig ud i Førstningen ; men hans sidste Boghans sidste Bog ] Romanen Nybrot , utgitt 1888 er mærkværdig god . –\n",
      "Gratulerer med Dine kunstneriske Seire ! Dine kunstneriske Seire ] Antakelig viser han til at Kielland vant sølvmedalje for ett av sine malerier på Verdensutstillingen i Paris . Den franske stat kjøpte inn ett med torvmyr-motiv . Jeg ser Dig jo nævnt i Avisen ret som det er blandt vore første ; naturligvis kan jeg , som intet ser og lidet forstaar , ikke følge med anderledes end ved at se , hvad der af og til staar i Avisen . Du har ikke Mod paa det store triste Jærbubillede , ser jeg ; men enfin … Du « lever jo endnu » ! Faar Du rigtig Lyst , saa kommer Modet ogsaa .\n",
      "Det har været et skrækkeligt Veir her nede den hele Tid ; jeg har været jevnt sygelig . Nu er Influenzaen kommen ; KjærringaKjærringa ] Hulda Garborg , født Bergersen ( 1862 – 1934 ) , forfatter og kulturarbeider , giftet seg med Arne Garborg desember 1887 og UngenUngen ] Sønnen Arne Olaus Fjørtoft Garborg , kalt « Tuften » født 25. mai 1888 , Arne og Hulda Garborgs eneste barn er angrebne , og vi har det lidt besværligt . Sygdommen er dog ganske mild . Der er Meningen at flytte til München , naar Epidemien der inde begynder at gi sig ; for Øieblikket er 2 / 3 af Byens Befolkning syge , og de begynder at dø ogsaa . –\n",
      "Uf , gid Du havde læst BokaBoka ] Trolig Garborgs roman Hjaa ho Mor og sagt Din Mening ! Hils alle gode Kjendinger der ude , specielt Harriet ! Harriet ] Harriet Backer ( 1845 – 1932 ) , kunstner og Werenskjolds ! Werenskjolds ] Sofie og Erik Werenskiold Lev vel og husk , at jeg vilde være en hel Del fattigere , hvis Dine Breve udlb udeblev . –\n",
      "Frk. Kitty L. Kielland , Maler Sandvigen – Drammensbanen fr | Egentlig en bølget strek Norwegen\n",
      "[ Starten av juni ] 1891 . Fra Garborg til Kielland .\n",
      "Brevs . 129\n",
      "Tak for sidst . Det var morsomt .\n",
      "Jeg sender Dig til en Begyndelse Zarathustra.Zarathustra ] Den tyske filosofen Friedrich Nietzsches verk Also Sprach Zarathustra , utgitt 1883 – 85 Den er vel ikke den letteste at faa Tag paa , men den er noget af det centraleste , og formelt et Kunstværk , og en Masse Ting som er saa vakre i og for sig , at en faar Mersmag . Jeg havde før lovet MortensonMortenson ] Ivar Mortensson-Egnund ( 1857 – 1934 ) , oversetter , forfatter , prest m.m. Nietzsche , saa jeg maatte la ham faa « Jenseit von Gut und Böse » , « Jenseit von Gut und Böse » ] Verk av Friedrich Nietzsche utgitt 1886 saa den faar Du faa siden .\n",
      "Tak for JacobJacob ] Roman av Alexander L. Kielland , utgitt 1891 ( som jeg for Sikkerheds Skyld sender tilbage med det samme , ellers ved Du hvordan det gaar ) . Den er morsom og glimrende skrevet ; som Kunstværk staar den omtrent i Klasse med StHansfest , StHansfest ] Roman av Alexander L. Kielland , utgitt 1887 synes jeg . – Det værste at jeg egentlig fik Sympathi for den Røver af en Bondefyr ; han er jo et Geni ! Jeg er « Folkets Søn » nok til at interessere mig for – selv for geniale Tyve . Er han den Kar , at han kan ta hele den Fillebyen saa grundig ved Næsen , saa fortjener han sgu sin Seier og sin Olafsorden . – Jeg synes i det hele det gaar vel let . – Hvad mener KiellandKielland ] Alexander L. Kielland ( 1849 – 1906 ) , forfatter , bror av Kitty egentlig med den skjønne Fraskilte , der driver Koketteri med at snakke om Sædelighed ? Er der noget bestemt han sigter til ? – Hans Stilling i hele den Diskussion er aldrig blit mig klar nemlig .\n",
      "– Hele Savalen laa ( isbedækket ) da vi kom ; nu er den halvveis isfri . Det er for det meste kaldt . Men en Luft til at drikke sig sund af . Jeg har arbeidet bra – lavet en Artikel til Strindberg-Boka ( den Samling af Strindbergartikler , som skal udgives til Fordel for Str . ) . Den er ikke værst . Der er naturligvis ikke Plads til at indlade sig paa Vidtløftigheder .\n",
      "Vi er bare foreløbig i Orden ; i Morgen faar vi endnu 4 Kufferter fulde af Reisetøi ( eftersendt som Gods ) som vi ikke har Plads til . – Og saa bygger vi . Han Erik er her og tømrer op noget , som skal være Kjøkken ( Tømmeret faar jeg gratis af ' n Ivar ) . Ivar ] Ivar Mortensson-Egnund Da blir det saavidt at vi kan være til .\n",
      "Ellers alt vel . Hvordan er det med Dig ? Er der nogen Forandringer med Hensyn til Mod , Udsigter osv. ? Det er vel varmt og godt hos Dere nu . Hils Harriet ! Harriet ] Harriet Backer ( 1845 – 1932 ) , kunstner Hils ogsaa WerenskjoldsWerenskjolds ] Sofie og Erik Werenskiold forfærdelig meget , og sig at det var Din Skyld , at jeg ikke fik se op til ham . Hvordan er det med Gutten ? Gutten ] Werenskiolds sønn Werner , født 28. april 1883 , som hadde vært alvorlig syk – Den Historie gjorde et vondt Indtryk paa mig – ligesom i sin Tid den med Elling Holst.Elling Holst ] Elling Bolt Holst ( 1849 – 1915 ) , matematiker og forfatter . Deres eneste sønn Alf Thorodd Holst , døde bare fem år gammel ( 10.05.1885 – 15.03.1890 ) – Farligt , farligt at ha noget , som man voxer sig fast ved i denne Verden . – –\n",
      "Jeg ved ikke Fru SkavlansFru Skavlans ] Dagmar Kielland Skavlan ( 1855 – 1931 ) , søster av Kitty , gift 1879 med Olaf Skavlan som døde 30. mai 1891 Adresse . Jeg sender hende et oprigtigt ment Condolencebrev – gjennem Dig ; hjælp mig med Adressen .\n",
      "Frk. Kitty L. Kielland SandvikenProfessor Skavlands Gaard fr Drammensbanen Xania\n",
      "15. august 1891 . Fra Garborg til Kielland .\n",
      "Brevs . 129\n",
      "Du har altsaa ogsaa faaet vide , hvad Sygelighed er , og lærer da vel at forstaa forskjelligt , som Du før ikke har forstaaet.Du har altsaa … forstaaet ] Kielland slet i flere år med nedsatt helse . Hun beskriver sykdomsdetaljer i brev til Jonas Lie datert 1. mai 1891 ( kilde : NB Brevs . 119 ) , men det er uklart hva hun led av . Dr. Hagbart Strøm foretok den første operasjonen rundt juletider 1890 . Men saadan Forstaaelse er dog neppe saa meget værd , som den er dyr til , og det , Du lider af , synes at være noget sandt Djævelskab . ( Om det er verre end Hypokondri , ved jeg dog ikke ! ) Det ender vel med , at Din energiske natur blir kjed af det der , saa at Du tar Dig sammen og lader det bære eller briste . Saa faar vi Dig igjen i en « ny og forbedret Udgave » , som Du siger . Men er det virkelig saa risikabelt som Dr. StrømDr . Strøm ] Hagbarth Strøm ( 1854 – 1912 ) , lege og senere professor i kirugi kansiste ord lest velvillig , rettet ord synes at tro – – saa vil jeg til Din Trøst bemærke , at det gaar an at leve med en Sygelighed ogsaa . Man vænner sig til den . Man kan sogar bli glad i den – saa har man da noget at stelle med. Og en Grund til Misfornøielse ( det har sit Behag at ha saadan en Grund ) . Det afgjørende Spørgsmaal maa bli : om Sygeligheden vedvarende skulde hindre Dig i at producere . ( Forbigaaende Arbeidsudygtighed har jo intet at betyde ) . Din nuværende Mangel paa Arbeidsevne er den allernaturligste Følge af Omstændighederne og bør absolut ikke vække Din Bekymring .\n",
      "Et komisk Ræsonnement er det , naar Du ikke vil søge de bedst mulige Læger , fordi andre har maattet hjælpe sig med de mindre øvede . Hvis de andre havde havt Raad , havde de ogsaa søgt de bedste Læger , og at de ikke havde Raad – er ikke Din Skyld ! – Mærkeligt , at Du ikke – i Kraft af det samme demokratiske Ræsonnement – forlader Dr. Strøm og begiver Dig hen til den præsumptiv endnu mindre tilforladelige Mor Valand.Mor Valand ] Valborg Valand ( 1812 – 93 ) , « klok kone » , dømt for kvakksalveri tre ganger – Det er altsaa den slette Demokratisme : at alle skal ha lige vondt . Min Demokratisme forlanger , at alle – og indtil videre saa mange som muligt – skal ha det … saa godt som muligt . – Altsaa : reis til Udlandet , hvis altsaa Historien blir uundgaaelig . – – – Om det gaar an for Din Kvindestolthed at modtage Raad af en mandlig Intelligens ! – –\n",
      "Hvis jeg forstaar Dig ret , har Du skrevet offentlig mod Nietzsche-Artikelen . Nietzsche-Artikelen ] « Nietzsche om Kvinden » i Verdens Gang 31. juli 1891 Isaafald : hvor ? Jeg har intet Svar set . Du faar sende mig det . – Naturligvis havde V. G. udstyret Nietzsche med et Par knagende Trykfeil .\n",
      "Mine « Meninger » er ikke saa forandrede som min Stemning . Helt siden Kvindesagskvindernes grusomme Fiasko i Sædelighedsdiskussionen ( da altsaa de mest frigjorte Kvinder paa tre Undtagelser nær viste sig ikke at være komne længer end de mest tilbageliggende Mandfolk , og det i et Spørgsmaal , hvor Kvinden netop skulde ha det sikreste Instinkt ) – har min « Tro » havt et Knæk . Jeg sagde før med temmelig Skraasikkerhed : at Kvinden staar tilbage kommer bare af de ydre Omstændigheder . Men naar hun ikke engang har Begribelsens Mulighed i det Spørgsmaal , som i saa og saa lange Tider var hendes eget Specielle ! – det Spørgsmaal , som hun har havt saa megen Anledning til at overveie ! – hvad skal man saa tro . –\n",
      "Forresten er jo den hele Sag endnu ikke over sit første Stadium . Vi fløi alle i Vei med « den første Begeistrings » uendelige Kritikløshed ; det er altsaa nødvendigt , at der her – som ellers – kommer en Kritikens og Tvivlens Tid , hvor navnlig det Spørgsmaal kommer under Prøvelse – : om der maaske dog er Feil i de psychologiske Forudsætninger . Vi faar erindre , at Psychologien i det hele er en ny Videnskab , og at navnlig Kvindepsychologien er et fuldstændig ukjendt Land . Meget maa her arbeides og tænkes og forskes , før man faar nogenlunde sikker Grund under Foden .\n",
      "Du svarer som sædvanligt : ja , men vi Kvinder – vi kjender os dog selv ! – Naa , isaafald kan altsaa Dere arbeide roligt videre . – Forresten er det nok ikke saa let at kjende sig selv som Du tror . I Regelen er det sig selv , man allersidst lærer at kjende .\n",
      "Du liker ikke , at vi Mænd « sværmer » for Kvinden , – og vil sværme for hende – fordi det altsaa er den eneste Smule Poesi og Henrykkelse i vort slidsomme Liv . Dette kan jeg ikke gjøre noget ved ; vi er nu saadan . Dermed er jo ikke sagt , at Kvindens « eneste Værdi » skal ligge deri , at hun faar os til at sværme ; for kvindenvelvillig lest hun maa jo leve fra sit eget Standpunkt og har f . Ex . Tilladelse til at sværme for noget , som vi ikke sværmer syndelig for : nemlig for Manden . Og i Konsekvens dermed for andre Ting , hun føler Trang og Anlæg til at sværme for osv. Det maa jo bli hendes sag – kun at hun ikke blir unaturlig og fornægter Kjærligheden .\n",
      "Det er det , jeg fra først af har havt mod Kvindesagskvinderne , at de arbeider i ægteskabsfiendtlig Retning , vil gjøre den ensomme Stand til den normale – eller saa almindelig som mulig . For at opnaa den Forfængelighedstilfredsstillelse ikke at være « afhængige » af « disse Mænd » vil de heller trække sig ud af sin Funktion som Mødre etc. Paa det Punkt har Du ( og et Par til ) før indtaget en hæderlig Særstilling . Det vilde altsaa ikke glæde mig at se Dig forandre Front i denne Henseende ; Du bør ialfald vente og se Dig om . – Det er ikke noget andet , jeg har gjort – og vil ha dere allesammen til at gjøre . –\n",
      "Se nu først at bli saa rask som muligt ; « Verden greier sig nok selv imens » . Jeg lar den ogsaa greie sig selv – og skriver en Bog om Bohêmens Omvendelse . Hjertelig Hilsener !\n",
      "Påskrift langs venstre marg side 4 Jeg kommer vist heller ikke til Jæderen i Aar . Det falder for ubekvemt og blir for dyrt . Jeg indretter mig saa , at jeg kan ta Jæderen paa Tilbageveien fra Udlandet .\n",
      "Påskrift på hodet , øverst side 1 Hils Harriet.Harriet ] Harriet Backer ( 1845 – 1932 ) , kunstner Spørg henne , om hun vil gjøre mig en liden Skizze af en eller anden mystisk Krog i Tanum Kirke ( helst Alterpartiet ) ; liden Skizze … Alterpartiet ] Ett av Harriet Backers mesterverk som hun fullførte i 1892 er maleriet « Barnedåp i Tanum Kirke » , men motivet hadde hun arbeidet med i flere år . Garborg ønsket seg en av skissene . BilledetSkizzen kan koste indtil 80 kr – forutsat at vi faar Lov at betale i to Terminer . Hils ligeledes til Werenskiolds ! Werenskiolds ] Erik og Sofie Werenskiold Gudskelov at det gaar bedre.Gudskelov at det gaar bedre ] Gjelder Werenskiolds sønn Werner , født 28. april 1883 , som hadde vært alvorlig syk Det var altfor frygteligt .\n",
      "[ September / oktober 1891 ] . Fra Kielland til Garborg .\n",
      "Brevs.140\n",
      "Kjære Garborg , AstasAstas ] Asta Lie Isaachsen ( 1861 – 1921 ) , datter av Thomasine og Jonas Lie , gift 1891 med Daniel Isaachsen adresse er vistnok bare « overlærer ved den tekniske skole Daniel Isachsen.Daniel Isachsen ] Daniel Isachssen ( 1859 – 1948 ) , fysiker Trondhjem . Det er skam , at Du ikke har faat den før , men den var i det første forsøg paa at svare Dig , hvilket brev jeg til Din store tilfredshed altsaa kasserede . Jeg er forresten ikke vis paa , at mit brev ikke havde interessert Dig , der var nemlig lidt af mig og min fortid i det , men da jeg var saa skuffet over Dig , saa syntes , jeg det var for godt til en saadan Julian Apostata ( haaber at apostata betyr frafalden ) . Tak for Dit brev , det var igjen den « den nervøse iltre person » , som jeg liger . Jeg liger , at det gaar ud over mig selv , hu hvor der er irritabilitet , der er ikke overlegen kulde . Livløs , overlegen , indadvendt kulde , denvelvillig lest ord , enten den eller dette liger jeg ikke , den klæder ikke Dig .\n",
      "Jeg smilte med lidt stolthed over , at Du synes , Du aldrig har mødt af mig andet end kritik , rigtignok lyder det , som om det altid har været uforstaaende kritik , men kritik altsaa , naa ja jeg vil langt heller det , end at Du syntes , jeg laa flad af beundring . Altsaa faa en igjen . Dit brev har frisket mig op. Jeg mener ikke , synes jeg , at Du altid skal være pen gut , men at Du udadtil mod verden skal møde op i frak ikke i skjortærme , og naar Du er i i [ sic . ] negligé i Dine avisartikler , da liger jeg Dig ikke og vil aldrig lige Dig saaledes . Grovheder skal være fine , naar man har sproget i sin magt . Du forlanger ikke , at jeg skal lige Dig mer end før , nei nei jeg skal nøie mig med mindre , og det gjør Du ogsaa igrunden .\n",
      "Men det tydske kontemplation det har ikke min fulde sympathi , men kjære Dig , Du vil jo heller ikke ønske at være et ideal ?\n",
      "Jeg er i sin helhed ikke friskere , men det afstængte liv herude har været mig med min livlige natur et stort tryk , siden jeg ivaar efter Skavlans dødSkavlans død ] Svogeren Daniel Skavlan døde 30. mai 1891 ødelagde mig saa ved at reise ind og være hos min søster , min søster ] Dagmar Kielland Skavlan ( 1855 – 1931 ) , søster av Kitty , gift 1879 med Olaf Skavlan skjønt jeg selv var daarlig , har jeg været bundet herude . En eneste aften har jeg været derinde , og da blev jeg meget daarlig efter , og Du kan vide , det slider paa et mismodigt sind at vide sig udestængt fra alt , man kunde have lyst at være med paa . Nu har jeg endelig fundet en leilighed for os inde i byen , i Wesselsgade 8 , Wesselsgade 8 ] Backer og Kielland flyttet hit 20. oktober 1891 og hadde registrert adresse her i hvert fall til 1893. et træhus paa en haug blandt trær , det er lidt langt fra centrum , men det er nær min doktor , min doktor ] Hagbarth Strøm ( 1854 – 1912 ) , lege og senere professor i kirugi . Ansatt på Rikshospitalet som den gang lå i Akersgaten omtrent der hvor Høyblokken i Regjerningskvartalet ligger i dag . og det maatte være saa , da han blir rent utaalmodig over , at jeg er saa langt væk . At jeg skal komme herfra er mig en lette , efter hvert blir det mig næsten uudholdeligt , naar jeg er daalig at ligge her ganske alene , især høsten med lange mørke aftener , af og til finder jeg paa at være ræd og føler mig hjælpeløs , naar jeg om natten ved mig alene i Huset .\n",
      "Ja jeg har tre billeder færdige , jeg har tre billeder færdige ] Trolig er det de tre maleriene hun denne høsten stilte ut på Statens Kunstutstilling : Katalognr . 96 Aftenens Fred , nr. 97 Sommermorgen , nr. 98 . Sandvikselven . Utstillingen åpnet 7. november . aa ja de ere ikke af de værste , men jeg er nu ræd for at se dem blandt andre , og man kan aldrig vide , naar de andre malere siger mig , at de ere brave , om ikke medlidenheden taler ud af dem og lidt beundring over , at jeg i min svaghed dog har aarket saa meget . Jo min bestemmelse er altid , at jeg ønsker operation , men min doktor har sin doktorsamvittighed , og finder han ikke , at jeg er daarlig nok , saa faar jeg ham ikke til at gaa paa noget livsfarligt . For tiden beder han mig om at slippe at tænke paa mig , han har selv været syg og vil gjerne slippe for at tage paa noget stort , før han er ved fuldeste kraft igjen . Jeg kan nok ved egen kraft , da jeg er en harhaus , blive bedre med tiden , men aldrig helt menneske , og det vil jeg helst være , livet er ikke morsomt , men det kan enda være interessant , hvis man har legems og aandskræfter til at leve det med. Du har altsaa … forstaaet ] Kielland slet i flere år med nedsatt helse . Hun beskriver sykdomsdetaljer i brev til Jonas Lie datert 1. mai 1891 ( kilde : NB Brevs . 119 ) , men det er uklart hva hun led av . Dr. Hagbart Strøm foretok den første operasjonen rundt juletider 1890 . Først etter den andre operasjonen senvinteren 1892 , ble hun betydelig bedre .\n",
      "Saa Du ved ogsaa , at arbeidet er det eneste paa jorden , aa ja det er nu vel mest nu , fordi din konedin kone ] Hulda Garborg , født Bergersen ( 1862 – 1934 ) , forfatter og kulturarbeider . Giftet seg med Arne Garborg i 1887. og TuftenTuften ] Arne Olaus Fjørtoft Garborg , kalt « Tuften » , født 25. mai 1888 , Arne og Hulda Garborgs eneste barn er borte , naar de er tilstede , kjender Du nok ogsaa andre glæder . Saaledes snur det sig om , at jeg nu mangen gang kan glæde mig ved den tanke , at jeg haaber , Du har det saa godt i Dine forhold , som Du med Dit naturel kunde faa det . Der er somme ting , jeg ønskede anderledes , men alt i alt saa tror jeg , det er godt som det er , undskyld at jeg siger saa meget om Dig , men jeg synes , at jeg har en liden forret , givet mig selv en forret , til at faa tænke og sige dette .\n",
      "For min egen part er jeg glad , at jeg staar i den isolerede stilling i livet , ja hvis sorg er det samme som glæde , et mindre onde er ialfald bedre end et større onde . Og med denne sidste klare sætning vil jeg afslutte mine betragtninger !\n",
      "Politikken . Ja gid vi da opnaaede venstrevalg , det er ganske enervær enerverende , at man skal svæve i denne evige uvisse frygt blandet med lidt seierig [ sic . ] glæde , som man aldrig tør stole paa . HarrietHarriet ] Harriet Backer ( 1845 – 1932 ) , kunstner har været hernede idag , søndag , jeg har været tilsengs nogle dage , men stod nu op i aften , hun er kjørt hjem igjen til Tannum.Tannum ] I Sandvika bodde Backer og Kielland på Walles hotel , men Backer leide i perioder et husvære nærmere Tanum kirke , øst i Bærum . Hun er altid til sidste minutt usikker paa , om hendes billeder blir billeder , nu har hun i to aar arbeidet paa det samme , men var idag lige uvis.Hun er … lige uvis ] Gjelder maleriet « Barnedåp i Tanum Kirke » , ett av Harriet Backers mesterverk som hun fullførte i 1892 . I dag eiet av Nasjonalmuseet . Dog jeg tror , det er omtrent færdig , men jeg vogtede mig vel for at sige det . WerenskioldWerenskiold ] Erik Werenskiold ( 1855 – 1937 ) kunstner skal nu atter tage paa mit portrait , naar jeg blir frisk nok til det , jeg glæder mig uhyre til at faa det billede.det billede ] Et praktfult helfigurportrett i profil med Kielland sittende i en mørk rød stol . Hun er kledt i rød , mønstret kjole og svart hatt pyntet med gule blomster og holder en sigarett i venstre hånd . Olje på lerret , 100 x 67,5 cm . Tekst i høyre hjørnet : « Til Kitty Kielland fra Erik Werenskiold » . Eies i dag av Nasjonalmuseet . Kanske faar han det færdig til høstutstillingen.færdig til høstutstillingen ] I katalogen står Werenskiold med ett maleri : « 205 : Portræt » , uten nærmere om innholdet . Mons LieMons Lie ] Mons Lie ( 1864 – 1931 ) , debuterte som forfatter i 1894 . Sønn av Jonas og Thomasine Lie bor herude i den lille sidebygning , han og jeg spiller svært meget sammen til vor fælles glæde , kommer Du ind til byen , maa dere jamen komme herud , saa skal vi spille , saa godt vi formaar det .\n",
      "Kommer Du til byen efter 20 october , saa kom i Wesselsgade 8 Kan også leses som Wesnesgade , men Kitty skriver tydelig Wesselsgade tidligere i brevet så her er skriften slurvet og besøg os der , Harriet og mig . Hør , Du kan gjerne skrive til mig til 8 – october , da er det min geburtsdag , tænk om Du engang kunde huske den , før har den aldrig kunnet fæste sig i Dit hoved .\n",
      "Tekst langs venstre marg side 4 Lev saa vel da . Hjertelig hilsen fra Din Kitty .\n",
      "Tekst langs venstre marg side 2 Jeg læser ofte i Zarathustha , Zarathustha ] Den tyske filosofen Friedrich Nietzsches verk Also Sprach Zarathustra , utgitt 1883 – 85 der er meget vakkert i den .\n",
      "14. oktober 1891 . Fra Garborg til Kielland .\n",
      "Brevs . 129\n",
      "Naturligvis glemte jeg Geburtsdagen.Geburtsdagen ] Kiellands bursdag var 8. oktober , som hun hadde minnet ham på i siste brev\n",
      "Jeg var nedover på Jernbanestationen den 1 st ( og 2 den ) ; da tænkte jeg paa at skrive , men det duede jo ikke ; jeg vilde gjøre det ordentlig , og Du skulde ha Brevet paa Dagen . Drog altsaa opover igjen – stolende paa næste Leilighed , fælt sikker paa ikke at glemme en saadan Ting ! – saa sikker , at jeg – naturligvis – netop derfor glemte det . Du er naturligvis vond , men hvad skal vi gjøre . Faktum er Faktum . Min Flauhed er forfærdelig ; jeg trøster mig med , at næste Gang – næste Gang glemmer jeg det ikke !\n",
      "Det er forresten vrangt nok her op i Fjelder med alt , som skal være paa Dagen . Vi har i Sommer Post nedover to Gange om Ugen , nemlig Søndag og Torsdag ( sammen med den Tysker , som endnu ligger igjen paa Straalberg , og som er en frygtelig Pedant i Postsagen , – d.v . s . han ligger og læser Korrektur paa et stort filosofisk Værk , som absolut skal være færdigt den 20 de ( i Stuttgart ) ; efter mangehaande Vrøvl er han nu endelig kommen i Orden med disse to Dage , saa de staar nu saa fast som Fixstjernerne paa Himlen og kan ikke forandres ) . Nu faldt det sig saa , at 1 ste Postleilighed nedover var Søndag den 4 de ( endnu husket jeg Fødselsdagen ) ; men det vilde altsaa bli to Dage for tidligt . Jeg hadde da kun a Næste Postleilighed ; Torsdag den 8 de – to Dage for sent . Jeg slog mig da med Ro med Tanken paa – et af to : en tilfældig Leilighed den 6 te , eller ogsaa gaa selv . Imidlertid sendte Djævelen mig Hovedet fuldt af andre tanker og Bekymringer , og den 6 te vaagnede jeg med den roligste Samvittighed af Verden – : jeg havde ikke nogen Ting at huske paa ! – – Og siden har bemerkede Djævel sendt mig enda flere Tanker og Bekymringer .\n",
      "Og naar jeg faar noget saadant pinligt at tænke paa , saa blir jeg bare vanvittig . Især heroppe i Ensomheden . Gaar og plager mig , til jeg blir fysisk syg ; kan absolut ikke tænke paa noget andet end det ene . Og da kunde for mig gjerne Gud Fader selv ha Geburtsdag ; jeg vilde ikke huske paa at sende saa meget som mit Visitkort engang . –\n",
      "Du ser , at jeg ialfald i denne Henseende er velsignet uforandret ! – Det er muligt at jeg i det senere har lagt mig til endel nye Feil foruden de gamle ; men de gamle har jeg allesammen – om det kan trøste Dig .\n",
      "– Joho , Apostata , betyder Frafalden ( det er græsk ! ) – Og jeg er sandt at sige lidt vant med at høre det Ord anvendt om mig , saa det bider ikke mere . Herregud , jeg har nu engang den Svaghed ikke i al Evighed at kunne bli staaende og svive paa samme Flekken som en Kvernkall . Engang imellem maa man flytte paa sig og prøve at se Tingene fra andre Synspunkter . Og det synes jeg gjør godt . Du faar skjænde i Guds Navn ; jeg har en behagelig Martyrfornæmmelse af , at jeg lider – ialfald til en vis Grad uskyldigt .\n",
      "Vore Begreber om « pen Gut » er altsaa noget forskjellige ; jeg fastholder min Ret til at være slem Gut , naar jeg har Lyst . Jeg sætter svært megen Pris paa at andre « liger » mig ; men sommetider er det mig en endnu større Nydelse at være grov paa en grov Maade end paa en fin Maade , og da er jeg altsaa grov paa en grov Maade – saa langt det gaar an . Dette at « have Sproget i sin Magt » … uf ; saa længe har man Sproget i sin Magt og skriver pent og fint og net og korrekt – indtil det til sidst blir en Nydelse , hvis man en Gang imellem kan skrive rigtig daarligt og slurvet og grovt og Pokker-i- Vold . En rigtig pen og velbygget og skjønskriverisk Sætning er mig for tiden en Lidelse . Det eneste , som endnu kan lokke mig er at skrive sammen noget , som er saadan slurvet – grovt , ut og saadan tilsyneladende – pinegalt , at det kan bringe Godtfolk rigtig i Ærgrelse . De Asener har sgu længe nok ærgret mig .\n",
      "Hvordan staar det til med Helsa ? I dette afskyelige Høstveir er det vel ikke rart hverken med den eller med humøret . Saadan er det ialfald her .\n",
      "Hvor blir der af Kunstudstillingen ? Kunstudstillingen ] Statens Kunstudstilling åpnet dette året 7. november . Kielland hadde tre malerier utstilt . Endnu ser jeg ikke noget til den i Aviserne . Det er bare Politik ( som jeg ikke længer er istand til at læse , skjønt jeg ogsaa liker Venstrevalg , desformedelst , at disse Steenske Ministre virkelig ser ud til at være bra Folk ) – samt Dødsfald ( gratulerer med Parnell ) og Selvmord ( gratulerer med Boulanger ! ) ; – endvidere Mord , hvilke nu er det eneste , jeg læser med lidt Interesse . Saadan en Mordhistorie gir gjerne lidt Indblik i Mennesket ! – i det , som er paa Bunden af Mennesket . – Af Bøger jeg læser i disse Dage Kraft-Ebings « Psychopathia sexualis » ; « Psychopathia sexualis » ] Et verk utgitt 1886 av den tysk-østerriske psykiatrikeren Richard von Krafft-Ebing , datiden mest kjente seksualforsker – den som kunde faa Kvindesagskvinderne af begge Kjøn at læse den ! – der faar man ogsaa lidt Indblik i « Mennesket » . – Hamsun ligger og prædiker der inde , ser jeg ; den Tosken har ikke engang saa meget Begreb , at han kan skjelne mellem « psychologisk » og « psychologistisk » . Ellers har han naturligvis « Ret » – for sin Part . Min Kone bragte med fra Xia det Hefte af Nylænde , Nylænde ] Nylænde . Tidsskrift for Kvindernes sag , Norges første kvinnesakstidsskrift utgitt av Norsk Kvindesagsforening . Første utgave kom 1. februar 1887 med Gina Krog som redaktør . hvor Ragna NielsenRagna Nielsen ] Ragna Wilhelmine Nielsen , født Ullmann ( 1845 – 1924 ) , lærer og kvinnesaksforkjemper og Gina KrogGina Krog ] Jørgine Anna Sverdrup Krog ( 1847 – 1916 ) , politiker og kvinnesaksforkjemper har skrevet om Kvindehad og Mandefolksforagt ; har skrevet om Kvindehad og Mandefolksforagt ] Trykt i Nylænde 1. april 1891 ( nr. 7 , 5. årgang ) det var jo noksaa morsomt . Fru Sørensen var jo egentlig noksaa flink i denne Skolesagen ! – saa man ser , at « kvinden » kan være god for noget , hun ogsaa . ( Hys ! sig ikke det til Ragna Nielsen ! Ellers udskriver hun Korstog imod mig for denne skrækkelige Mandfolkevigtigheds Skyld » « Tænk – : ' Kvinden kan være god for noget , hun ogsaa ' ! » )\n",
      "Efter 20 Oktober skal du bo i « Wesnesgade 8 » , siger Du – er der nogen Gade , som heder saa ? Eller er det Feilskrift for Wessels Gade ? Undskyld – paa et andet Sted i Brevet har Du virkelig skrevet Wessels Gade . Jeg holder mig altsaa til det .\n",
      "I Haab om , at det gaar Dig taaleligt og med Ønske om Lykke med Billederne !\n",
      "1. desember 1891 . Fra Garborg til Kielland .\n",
      "Brevs . 129\n",
      "Tusind Tak for Brevet . Jeg har ventet en Stund nu og begyndte at undres paa , om der kunde være noget i Veien : Dog kunde Du vel ikke være syg , tænkte jeg , siden jeg saa , at Du var valgt ind i en saa rørig Komité som den for KunstnermarkedetKunstnermarkedet ] I januar 1892 ble « Kunstnernes store Fest » avholdt ved Tivoli i Kristiania . Her hadde en damekomite ansvar for en salgsutstilling av kunstverk til inntekt for Kunstnerforeningens Byggefond . Annonsetekst : « Udstilling i Circus Kongefoyer af de til det store byggefondslotteri skjænkede kunstværker . Fri entré » ( kilde : Aftenposten 22.01.1892 ) . vel egentlig maa være ! Og saa slog jeg mig til Ro og sa til mig selv : det er rimeligt , at hun har travelt .\n",
      "Selv er jeg egentlig ogsaa noksaa flittig , skriver paa Jærbu-Roman og læser Fransk ( med Kjærringa ) Kjærringa ] Hulda Garborg , født Bergersen ( 1862 – 1934 ) , forfatter og kulturarbeider . Giftet seg med Arne Garborg i 1887. og spiller Schak ( do ) . Det er daarligt Føre her ( lidet Sne ) , saa jeg kommer ikke stort ud . Altsaa falder det saa naturligt at stelle med noget , og kommer man først ind i det , saa – – .\n",
      "Jeg har ellers bedre hukommelse end jeg vidste . Det gaar sletikke saa galt med Jæderlivs-Skildringerne , synes jeg . Naar jeg sætter mig til med det , lever det op i mig med megen Friskhed og Kraft . Jeg ser , hører , smager , lengter , føler – altsammen . Naar jeg er færdig med det første Udkast , faar jeg dog denbort igjen og kontrollere mig lidt .\n",
      "Jeg er lykkelig over , at du finder Kunst i mit sidste Opusmit sidste Opus ] Gjelder nok romanen Trætte Mænd , utgitt sent november 1891 ( som naturligvis ogsaa blev for stort ! ) , og især trøster det mig , naar Du siger , at Fremstillingen ikke virker trættende ; – nu i de sidste Dage gik jeg i ren Angst ved den Tanke : hvordan i al Verden skal Folk komme igjennem 22 Ark med Smaanotitser ! – Men det var den Form , som bød sig af sig selv denne Gang , og det har da vel altsaa været den bedste . – Nei ; i Bergen har jeg ikke været ; jeg havde ikke andet at holde mig til , end hvad jeg har hørt Bergensere fortælle fra den Slags Hjemmebesøg : de almindelige Indtryk . Jeg lod det passere med det , da Byen ingen Rolle spiller i Historien . – Frk. BernerFrk . Berner ] Frk. Berner er en av karakterene i Garborgs roman Trætte Mænd , utgitt 1891 liker jeg godt ; hun er ikke bare « tørt , okult » « dannet » ; der er meget under hos hende ; hun gifter sig tilsidst ogsaa af Kjærlighed – efter den lange Resignationskamp . Men alt er hos hende behagelig afdæmpet og behersket gjennem den sikre Formen . Jeg maa ha været uheldig i Skildringen af hende , skjønner jeg . – At Du ikke forstaar Madonnadyrkelsen er rart ; véd Du ikke , at det dybeste ( og fineste ? ) hos Manden er hans Religion for Kvinden ? – Denne Religion har , snart let for – ved paa Grund af slemme , illusionsforstyrrende Oplevelser – snart let for at slaa over i sin argeste Modsætning : Foragt , Udaadvelvillig lesning , Raahed – netop fordi den er Religion . – Jeg har forresten tullet en hel del i det selv ogsaa , før det blev mig Klart ; i det hele : Forbindelsen mellem Kjærlighed og Religion er først i de senere Tider bleven mig tydelig . Jeg har let for at taale Kritik paa dette Punkt , fordi jeg véd , hvor naturligt det var for GramGram ] Gabriel Gram er hovedkarakteren i Garborgs Trætte Mænd at bli Madonna-dyrker ; hans « Kristendom » er i det hele stærkt erotisk betonet . –\n",
      "Du taler om min « Anskuelse » i Spørgsmaalet om Kvinden ; Forskjellen mellem før og nu for mit Vedkommende er væsentlig den , at jeg ikke mere har nogen « Anskuelse » , nogen færdig Mening . Det kan Du ha , som selv er Kvinde og altsaa kan have ganske anderledes begrundede Meninger om Kvinden end jeg ; for mit eget Vedkommende har fortsat Udvikling lært mig at se , hvad jeg burde have vidst før : at jeg ikke kan have nogen « Anskuelse » i det Kapitel . Kvindepsychologien er endnu mere end den almindelige Psychologi et ukjendt Land , og jeg ser ikke , at vi Ikke-Kvinder ( og mange Kvinder med ? ) har andet at gjøre end at holde os til Enkelttilfælder og saaledes efterhaanden samle Stof til den Kvindepsychologie , som engang vil kunne danne Grundlaget for en Theori , en « Anskuelse » om Kvinden og om hendes « Stilling » , « Opgave » osv. , kort , hendes Liv . Indtil videre maa det gjælde for hver enkelt Kvinde som det gjælder for hver enkelt Mand – : hun maa gjøre saa meget ud af sit Liv som hun vil og evner . Det eneste , jeg fastholder , er min gamle Uvilje mod alle Bestræbelser , som gaar i Retning af at gjøre Kvinden gold og tør , gjøre hende til et Abstraktum istedetfor et naturbestemt levende Væsen . Jeg hader forsaavidt Emancipationen og tror forsaavidt paa den « frie Kjærlighed » . –\n",
      "Det er vondt og fortvilet , at Du skal føle Dig saa mismodig som jeg jo læser mellem Linjerne i alle Dine Breve at Du føler Dig , og det mest lammende haabløse er , at jeg ikke i den Andledning kan sige Dig andet end det , som Du ved selv , og som ingenting hjælper – : det er Sygeligheden … Var jeg enda Kristen , saa kunde jeg sige : Du faar bede til Gud ! – Naa , som Fritænker kan jeg jo ogsaa paa et Vis sige Dig det ; – Bønnen er jo ikke andet and en Auto- ( Selv- ) Suggestion , og Selvsuggestioner kan man jo ogsaa med Virkning gi sig paa andre Maader . Jeg læser netop « Psychologie der Suggestion » af min Münchener-Ven Filosofen Dr. Schmidkunz ; Dr. Schmidkunz ] Tyskeren Hans ( Johann ) Schmidkunz ( 1863 – 1934 ) . Han og kona var i omgangskretsen til Arne og Hulda Garborg i Münchner-tiden . der faar man en hel Del Besked om det . Han hæver sig til en Sats som den – : « Ich möchte fast sagen , es ist unpsychologisch unglücklich zu sein ! » – Og hans Universalmiddel mod Sygelighed lyder : « Ich will nicht krank sein ! » – d.v . s . paa ' paa ' rettet fra ' saa ' ved overskrivingledesden Sats mener han , at Lægevidenskaben herefter maa bygges . – Altsaa den kirurgiske Kniv paa den ene Side , og Suggestionen ( for den Religiøse Bønnen ) paa den anden Side …\n",
      "Det er snurrigt , komisk , morsomt – at din Bror vil bli Borgermester.din Bror vil bli Borgermester ] Alexander L. Kielland ble utnevnt til Borgermester i Stavanger høsten 1891.\n",
      "Jeg liker det egentlig ( om han blev det , nemlig ) , for jeg synes jeg kjender paa mig , hvor han vilde more sig ved at være det , og kanske virkelig hygge sig ved det ( i Stavanger ! ) – og hvor han vilde ta sig ud i den Rolle ! – Han kan vel skrive alligevel ; en Borgermester har vel ikke saa urimelig meget at bestille ? – – « Herr Borgermester Kielland » … jeg maa le med mig selv ; det vilde være hans flotteste Vits , næsten !\n",
      "Men om han blir det – –\n",
      "– Heroppe har vi det bare godt . En liden bitte Smule Urolighed for Tuften , Tuften ] Arne Olaus Fjørtoft Garborg , kalt « Tuften » , født 25. mai 1888 , Arne og Hulda Garborgs eneste barn i Anledning af , at der nede i Bygden dør Barn efter Barn af Difterit ; – men Sygdommen er kommen os saa vidt paa Afstand nu , at vi egentlig ikke ængster os længer . I Sommer var det verre ; da havde vi Sygdommen saa lige ind paa os , at den ligesom kunde stikke Hovedet indom Døren naarsomhelst . Det er deiligt at ha en saadan liden Fyr ; men der følger en Angst med det , som – som ikke er saa grei som man tænker . – Gudskeslov , at der gaar bedre med Werner Werenskiold ; Werner Werenskiold ] Sønn av Sofie og Erik Werenskiold , født 28. april 1883 , som hadde vært alvorlig syk den Historie har skræmt mig mere end jeg kan sige ; – jeg synes der er noget af dette lidt tendre nervøse ogsaa hos Tuften . – Hils Werenskiolds ! Werenskiolds ] Sofie og Erik Werenskiold\n",
      "Ogsaa jeg fik Brev fra JonasJonas ] Jonas Lie ( 1833 – 1908 ) , forfatter her om Dagen og fik et velgjørende Indtryk af , at han har taget sig helt opigjen og er den gode gamle . – Siden vi fik høre , at LiesLies ] Jonas og Thomasine Lie er i Rom , er naturligvis vore Romerlyster stærkere end nogensinde , og Gud véd , om vi ikke vover det . – Det har glædet mig at læse om Høstudstillingen ; det er dog som om « Kulturens blomst » mer og mer vil fæste Rod « i vore Klipperifter » . Jeg ser , at Du ogsaa har været flink ; gratulerer ! Dit Portræt ( af W. ) skal jo være noget rent extra ; det bør Du være kry af ; og saa skal Du altsaa hænge i Nationalgalleriet til evig Tid , til et Vidnesbyrd om , at der ogsaa i vor Tid var Kvinder i Norge ! Du altsaa hænge … i Norge ] Gjelder Erik Werenskiolds helportrett av Kielland , malt i 1891 . Utstilt første gang på Statens Kunstutstilling , åpnet 7. november 1891 . Innkjøpt av Nationalgalleriet .\n",
      "Sig HarrietHarriet ] Harriet Backer ( 1845 – 1932 ) , kunstner Tak for Helsinga og spørg , om hun husker paa den Kirkekroken til mig gamle Fritænker ! –\n",
      "Og saa faar Du leve saa vel som Du kan . Giv Dig Morgen og Aften følgende energiske Suggestion : « Jeg har min fulde Livskraft . Jeg vil beseire al Sygelighed og alt Mismod og være kjæk som før ! »\n",
      "23. mai 1892 . Fra Garborg til Kielland .\n",
      "Brevs . 129\n",
      "Vel opstaat fra de Døde ! – Ja , vi trodde nok , Du vilde klare det ; men alligevel var der nok flere end Dr Egeberg , Dr Egeberg ] Trolig Theodor Christian Egeberg ( 1847 – 1915 ) , livlege m.m. som saa efter blant dødsanmeldelserne ; for den slags Ting kan jo aldrig beregnes ! – En liden Feil fra Lægens Side , et lidet Tilfælde af en eller anden Art , – og saa kan det ikke hjælpe , hvor stærk man er ; det kan gaa galt alligevel . Derfor taltes der meget om Dig i de Tider i Vennernes Kreds ( vel ikke minst i Rom ) , og de lange Pauser mellem hver Gang , der kom Underretning , blev længere end det kanske i Virkeligheden var . Det er godt , at det er over ! – For Dr StrømDr Strøm ] Hagbarth Strøm ( 1854 – 1912 ) , lege og senere professor i kirugi tager jeg Hatten af ; det var modigt gjort – og godt gjort . Det er hyggeligt at se , at der ialfald er enkelte Ting , Lægerne kan greie !\n",
      "Ja det maa være en egen frydefuld Ting at have været død og at være bleven levende igjen ! – eller vel snarest : selve det at blive levende igjen ! – for naar Du blir helt rask igjen , gaar det vel mer i Glemme . I ethvert Fald blir det ligesom at begynne forfra igjen – med friske Kræfter , men dennegang med fuld Udvikling , og jeg forestiller mig , at Du vil være modigere og ivrigere end nogensinde , naar Du nu tar fat igjen . « Gaa paa ! » som JonasJonas ] Jonas Lie ( 1833 – 1908 ) , forfatter vilde sige .\n",
      "Og saa « faar Du være velkommen » til Jærs ! ( jeg snakker bare Jærbu nu , maa Du vide )\n",
      "Jeg har fundet et fælt bra Sted her , midt paa Fladjæren , lige ved Havet ( for det maa jeg ha med ) og er svært fornøiet .\n",
      "Rigtignok er her en Stilhed , som forstyrrer mig – endnu ialfald ; det er en Stilhed , som høres og føles ; jeg maa ret som det er stanse og holde Pusten og høre efter – høre på den ; den er ligefrem ængstende . Og denne evige Havsusen og Vindsusen ( isende kold Nordvest naturligvis ) gjør ligesom Stilheden endnu mere følbar ; ja selv Vibeskrigene ( Gudskelov , her er flere Viber end jeg trodde ) og Maageskrigene og Lærkesangen og Lammabrektingjaa nedover Enger og Heier og Tjern virker bare som Ørkenlyd – stilhedsforstærkende . Imidlertid befinder jeg mig velsignet godt i denne Stilhed , og om nogle Dage , naar jeg har levet mig helt ind i den , saa den ikke forstyrrer , skal jeg arbeide vældigt . Jeg beder bare til Vorherre om at han vil spare mig for Skolemestre og andre Besøg ; her er saa mange som har kjendt mig , og som nu skal « hen og sjaa ' an » . Heldigvis ligger Stedet temmelig langt fra alfar Vei , en halv Mil ned af Postveien , ¾ fra Thime , 1 Mil fra Nærbø , saa det kan vel ikke bli saa rent galt .\n",
      "Her er nogle deilige Lyngheier at gaa og drive i , – uendelig vide , og fri for Menneske . Og saa Salte-Stranden – naar jeg gaar der , ønsker jeg intet mere . Rigtignok er der nogle kjedelige Tarebrændere , som af og til forstyrrer min Andagt , og som jeg maa rømme for ; ' for ' rettet fra ' før ' ved overskriving men det er da ikke hver Dag det .\n",
      "Min KoneMin Kone ] Hulda Garborg , født Bergersen ( 1862 – 1934 ) , forfatter og kulturarbeider . Giftet seg med Arne Garborg i 1887. og GuttenGutten ] Arne Olaus Fjørtoft Garborg , kalt « Tuften » , født 25. mai 1888 , Arne og Hulda Garborgs eneste barn bor føreløbig paa Sanddal , Sanddal ] Gården til broren Jon og kona Kristine beliggende på Madla . Den ble et samlingspunkt for Garborg-familien ( kilde : Sørbø s . 44 ) . hvor Gutten har Kammerater , hvad han saare trænger til . Siden sætter vi kanske Hus her for en Maaneds Tid , hvis det ikke blir for dyrt ; Konen som jeg bor hos , vil saa gjærne være kvit Madlavningen . Kommer Du til at bo paa Gruda eller Skjæveland , blir det en noksaa passelig Tur , naar jeg vil slaa mig løs en Dag , forresten temmelig langt . Dog – her paa Jæren er ingen Afstande ; ubegribeligt , saa kort som alt er blit !\n",
      "– Skal jeg høre efter om Hus til Dig nogensteds ? Hvad Tid kommer Petersens ? Petersens ] Eilif Peterssen ( 1852 – 1928 ) , kunstner Skal AlexanderAlexander ] Alexander L. Kielland ( 1849 – 1906 ) , forfatter , bror av Kitty bo paa Aarre i Aar ? – Det siges , at han er temmelig klein ; der tales sogar om Karlsbad . –\n",
      "12. januar 1893 . Fra Garborg til Kielland .\n",
      "Brevs . 129\n",
      "Fremdeles ingen Adresse ! – aa disse Nordmænd . Selv Du , som vil gjælde for et praktisk Menneske … Tror Du kanske , jeg husker din Søsters Adresse ? Hvor skal jeg sende dette hen , véd ikke jeg .\n",
      "Men det faar være Godt Nytaar lel da . En Masse godt Humør og megen Arbeidslyst !\n",
      "– Jo ; nu er jeg fornøiet . Det at faa lidt « Jæder » frem syntes mig mer og mer næsten Hovedsag ved det hele . For Jæderen er nu engang noksaa rar . Jeg forstaar det bedre end før , at naar en Maler først har proberet den , saa maner den ham fast , som en Slags Troldom . Det er rart med den Skjønhed , som egentlig er styg – d.v . s . : den Styghed , som egentlig er vakker . Hvad Du siger om dit Syn paa Jæderen i Forhold til Dit mit er udentil rigtigt ; jeg har holdt paa at forklare det saadan for Dig selv ogsaa , men fandt nok ikke det rette Ord .\n",
      "Overfor min Kones Bogmin Kones Bog ] Hulda Garborg debuterte i september 1892 med romanen Et frit Forhold er jeg ikke ømfindtligere end for min egen , og det af den Grund , at ovenfor hendes føler jeg mig som Dommer – ; sikker i min Dom , medens naar det er noget af mig selv , er jeg i Regelen uendelig misfornøiet , kjed – i hvert Fald utryg , har altsaa Behov af at høre andre sige noget om det . Derfor blev jeg altsaa ingenlunde « ærgerlig . »\n",
      "Meget høitidelig spør Du mig om Meningen med en Sætning i mit forrige Brev over noget , som ikke « interesserede mig . » Jeg maa altsaa svare .\n",
      "Det var om Fernanda.Fernanda ] Fernanda Holst , som i 1895 skilte seg og senere tok navnet etter sin annen ektemann Erik Nissen Du kom med det i den Forbindelse : « jeg dømmer strengere om den Slags Ting nu end før » ( saa omtrent ) – og saa nævnte Du hende , som om Du overfor hende ikke havde noget andet end den strenge Dom . Men dømme strengt om sligt – det kan jo alle , saa det « interesserer mig ikke » – det kan vi . Det interessante ved den slags Tilfælde er jo deres hvorfor og hvorledes ; det gjælder at forstaa ; Dommen vil da i Regelen bli mindre streng , mindre schematisk , men den vil faa mere Mening . Derfor forbausede det mig , at Du syntes at ville nøie Dig med bare den « strenge Dom » – « paa Bekostning af den medmenneskelige Forstaaelse » ɔ : uden at ta alle menneskelige Hensyn med. Faa Ting har overrasket mig mere end Tilfælde Fernanda eller været mig vanskeligere at forstaa ; men jeg er vis paa , at det ikke er noget Tilfælde af banal Lettsindighed og henstiller derfor « Dommen » til jeg nogengang muligens kan faa bedre Rede . – Dømme strengt – kan man egentlig kun overfor sig selv . –\n",
      "Hvad min Spiritisme angaar , faar Du i en nærmere Fremtid Besked om den i « Samtiden » . Hvad min Spiritisme … « Samtiden » ] Garborg hadde en føljetong om spiritisme i tidsskriftet Samtiden i 1893.\n",
      "Hvad siger Du om følgende Idé – : I dette Aarstal blir Jonas Lie 60 Aar . Burde der ikke i den Anledning skrives en Bog om ham – en Art « Festskrift » ? – Det er det , jeg nu tænker paa at gjøre , om ingen bedre melder sig . Jeg kommer til Xia i Begyndelsen af Februar ( med hele Banden , da Kvinder og Børn [ undskyld ! ] Garborg bruker her skarpe klammer ikke kan bo her alene ved Vinterstid ) , for at læse Lie og læse om Lie samt arbeide på Boka . Vil Du hjælpe lidt til ? – optegne Indtryk , Smaahistorier , Udtalelser osv. som Du har fra din Omgang ( og Bekjendtes Omgang ) med Manden ? – Jeg skulde være meget taknemmelig . Der skulde være et langt Kapitel om Jonas og hans Hus i Paris ; kanske det var bra , at flere heraf medarbeidede . ( Werenskiold ? Werenskiold ] Erik Werenskiold ( 1855 – 1937 ) , kunstner Skredsvig ? Skredsvig ] Christian Skredsvig ( 1854 – 1924 ) , kunstner Eilif Petersen ? ) Eilif Petersen ] Eilif Peterssen ( 1852 – 1928 ) , kunstner Vilde det ikke være bra at faa istand en lidt Slutten mangler\n",
      "30. januar 1893 . Fra Kielland til Garborg .\n",
      "Ms.8 ° 2022 : 9\n",
      "Jeg maa vel sige tak for de 500 , skjønt Du jo godt ved , at jeg ikke mente at se dem igjen . Men jeg skjønner at Du helst vil ha det saa , naar Du først kan , og det bøier jeg mig for . Men saa forlanger jeg , at Du venter med resten , til Du engang ad aare blir saa rent ovenpaa og sikker i økonomien , at det intetsomhelst skaar gjør Dig . Da jeg saa Din haandskrift paa bancobrevet , syntes jeg , det var ondt . Har man havt det vondt i pængeveien , saa er der ikke mening i , at man ikke skulde kunne nyde den første lettelsens tid , men da strax atter skal ribbe sig for at tilbagebetale , hvor det aldeles ikke har nogen hast . Husk paa , at jeg vil være Din aller – allersidste kreditor , naar jeg altsaa skal være en .\n",
      "For brevet hjertelig tak , Dine ord gjorde mig alligevel godt . Jo Du har været flink og snil og alt muligt godt i disse aarene . Det er forresten pinligt at tænke tilbage til for 5 aar siden , der er saa meget , jeg kunde ønske ugjort , derfor siger jeg « alligevel » , fordi jeg blev glad over ordene , skjønt de rippede op hele den for mig saa pinlige tid . Jeg havde saa lidet evne til resignation , derfor gjorde jeg saa meget , som jeg senere har skammet mig over . Jeg har læst 3 opsatser « Verdens Gang » om Stavanger og Oftedal.Oftedal ] Lars Oftedal ( 1838 – 1900 ) , teolog og avismann I det andet blev jeg stødt af den maade , Du sætter , at bibelen er ikke en bog for kvinder . Det faldt plat der , fordi det sluttede opsatsen i den avis , men nu da jeg har læst hele det om Oftedal , gider jeg ikke mer huske paa den sæling . Det er godt og stort og greit , da kan der gjerne faa siges platheder rettere raaheder , naar der er saadan sund kraft i det . Om jernbanestationen var vel letkjøbt vits , men om Stavangers mangel paa begreb om skjønhed og skjønheds nytte og nødvendighed var godt . I Samtiden læste jeg om spiritismen og er spændt paa Dine erfaringer i næste hefte . Det skal blive morsomt at høre hvad folk udi humbug faar ud af spiritismen , tro Papirtap faar jeg vel anledning til det ! Det skal blive … til det ] Garborg hadde en føljetong om spiritisme i tidsskiftet Samtiden i 1893\n",
      "Forleden dag traf jeg WerenskioldWerenskiold ] Erik Werenskiold ( 1855 – 1937 ) , kunstner og spiste middag i « Grand » sammen med ham . Jeg fortalte ham om Din hensigt at skrive om Jonas Lie , Jonas Lie ] Jonas Lie ( 1833 – 1908 ) , forfatterat skrive om Jonas Lie ] I 1893 utkom Arne Garborgs bok Jonas Lie . En Udviklingshistorie hvilket han fandt meget god . Han sagde , at han havde en hel del barndomserindringer om Jonas fra Kongsvinger , men da det var i hans fallittid vidste han ikke , om ThomasineThomasine ] Thomasine Henriette , født Lie ( 1833 – 1907 ) , gift med fetteren Jonas L. i 1860 ligte det , Du faar tale med Werenskiold om det . Jeg sagde , at W. maatte ikke tale om det .\n",
      "Det var et stort kvindelag til fru Collett , fru Collett ] Feiring av Camilla Colletts 80 - årsdag 23. januar rigtig morsomt at se , at ogsaa det kunde ske i Kristiania .\n",
      "HarrietHarriet ] Harriet Backer ( 1845 – 1932 ) , kunstner holder paa at læse fru Garborgs bog , fru Garborgs bog ] Hulda Garborgs første roman Et frit Forhold , utgitt 1892 og hun synes , at den er god .\n",
      "For tiden holde jeg paa med en tung læsning nemlig « Udkast til lov til modarbeidelse af offentlig usædelighed og venerisk smitte » Første « manglet , så satt inn foran Udkast af Getz.Udkast til lov … af Getz ] Lovutkast fra 1892 skrevet av riksadvokat Bernhard Getz ( 1850 – 1901 ) Det støder naturligvis min ethiske følelse , om det virkelig maa ske , at prostitutionen gjenindføres , for at udholde den tanke og for at forstaa retfærdigheden i , at det sker , maa jeg sætte mig saavidt muligt ind i det . Med doctor StrømStrøm ] Hagbarth Strøm ( 1854 – 1912 ) , lege og senere professor i kirugi har jeg talt meget derom , han synes , det er himmelraabende nødvendigt , da smitten udbreder sig saa frygteligt . Der har været discuteret om dette i flere møder i det medicinske selskab men lægerne har tiet , de som var imod Getz , og Strøm har altidvelvillig lesning sagt til mig , tilslut maa jeg snakke , førvelvillig lesning det gaar hen i vuggene . Saa sidste møde kom han med et forslag en imødegaaelse , der gik ud paa , at Getzs forslag ikun var sanitæt sanitært betryggende og bad om tilladelse at forme er forslag til votering . Ingen havde sagt et ord imod , saa han var ganske ræd for at skulle staa ganske alene , men saa reiste der sig 58 mod 5 5 for Strøms 5 imod . Naar det nu bare kan ordnes nogenlunde meneskeligt retfærdigt til begge sider , at ikke bare mandfolketanker regjerer .\n",
      "Nei nu stop , jeg vil se at komme isæng før 11 , da jeg er saa træt idag . Velkommen snart hertil . Venlig hilsen til fru Garborg , Tuften , Tuften ] Arne Olaus Fjørtoft Garborg , kalt « Tuften » , født 25. mai 1888 , Arne og Hulda Garborgs eneste barn Harriet hilser mange gange .\n",
      "Tekst på hodet øverst på første side Skitsen av SkjævelandsbroenSkitsen av Skjævelandsbroen ] Et motiv fra Jæren som Kielland malte i mange varianter over flere år sendte jeg ikke op til Dig , for jeg synes , Du kan faa den her .\n",
      "6. november 1893 . Fra Garborg til Kielland .\n",
      "Brevs . 129\n",
      "Skaal for DagenDagen ] Forfatteren Jonas Lies 60 - årsdag altsaa ! Vi benytter den som Paaskud for en liden Rangel her , og det gjør vel dere ogsaa . Men jeg har 2 stive Mil i umuligt Føre til nærmeste Telegrafstation , saa jeg faar ikke telegrafere . Derimod sendte jeg for et Par Dage siden et Brev , som forhaabentlig naar Jubilanterne i rette Tid . – Lies nye BogLies nye Bog ] Jonas Lies roman Niobe , utgitt 1893 er jeg meget spændt paa .\n",
      "Af Avisen ser jeg , at Lie-BokaLie- Boka ] Garborgs biografi om jubilanten Jonas Lie kommer i Dag – jeg havde næsten ikke tænkt , den var bleven færdig . Den blir Dig sendt . Jeg har ikke paa mange Aar havt slig Katzenjammer overfor nogen Bog ; jeg vinder ikke over den , før jeg faar lidt Juling i Aviserne ( eller privat ) saa jeg kan bli sint . I det hele har det været sørgelig bevendt med Humøret i den sidste Tid og er det endnu . Jeg er saa skrekkelig ubrugelig – duer absolut ikke til andet end til at være « den trettende tilbords . » Osv . Skrækkeligt , at man ikke skal kunne drive det til en Smule Stormandsgalskab . –\n",
      "Vi gleder os meget over , at HarrietHarriet ] Harriet Backer ( 1845 – 1932 ) , kunstner kom ud af det her oppe ; jeg var fælt red , hun skulde synes vi havde narret hende . Hun er en af de saare faa , som jeg gjerne vil ha her op igjen . Det kunde kanske ikke være galt , om hun fik Ivars HusIvars Hus ] Trolig en hytte kalt « Nordpolen » som lå like ved huset til Garborg , eiet av Ivar Mortensson-Egnund ( 1857 – 1934 ) , oversetter , forfatter m.m. ( og flyttede det borttil Haugen eller Vangen ) ; Haugen eller Vangen ] Harriet Backer bodde på gården Strålsjøvangen , kalt Haugen hver sommer fram til 1900 . Den lå rundt 3 kilometer fra Garborgs hus Kolbotn ( kilde : Lange 2003 , s . 189 ) , alt beliggende i Alvdal . det er saa stort , at Dere kunde bo der begge to , hvis det skulde hende , at Du ogsaa fik Lyst til at bo her en Sommer . Det vilde vel altid koste en 100 Kroners Penger eller vel saa det at faa flyttet det og sat det op ; men saa havde hun fri Sommerbolig for Levetiden . Med Peis og alting ! – Bestemmer hun sig for det , saa lad hende sige fra ; saa skal jeg besørge Resten , saa Huset skal staa færdigt til udi næste Juli . – Men … Harriet bestemme sig ! – Naa . – Desuden kan det vel saa være , at hun ikke netop kan ligge her hver Sommer . – Men saa kunde hun leie det bort ? – Hyggeligt , at Du synes det er bra , det hun fik gjøre her oppe i Sommer ; desværre kom hun for sent , saa Sommeren blev hende for kort.det hun fik gjøre … for kort ] Harriet Backer malte en skisse av 5 menn rundt et bord , kalt « Kortspillere »\n",
      "Om Din egen Sommer skriver Du svært lidet ; Du laa jo nedi Aasgaardstrand den meste Tid ? – Det høres ikke ud til , at Du er noget extra fornøiet.Aasgaardstrand … fornøiet ] Kielland valgte Åsgårdstrand til sommeropphold fordi det lå nær doktoren . Hun var ennå ikke helt restituert etter den andre operasjonen utført senvinteren 1892 . Maleriet « Høysommer » er trolig malt her . I et brev til Andreas Aubert skriver hun : « Naturen er vakker for østlandet at være , men staar jo svært tilbage for vestlandet , stakkar » ( kilde : NB Brevs . 32 ) . Og nu vil Du til Paris ? til Paris ] Det virker til at reisen ble utsatt til våren 1895 . Kielland skriver til Jonas Lie i brev datert 3. november 1894 : « Jeg tænker paa at se at komme til Paris til vaaren , det er økonomien , jeg maa tænke lidt paa , men jeg haaber det gaar , og da vilde jeg se at komme afsted i februar og saa blive ud mai . » ( kilde : NB Brevs . 119 ) . Men Du bør vente til Vaaren , synes jeg . Af alle mulige Grunde , – bl.a. fordi vi kommer til XiaXia ] Christiania i Vinter . Og der blir MaterialisationssenancerMaterialisationssenancer ] En form for spiritistisk seanse . Materialisasjon er et hypotetisk fenomen , at avdøde personer som lever videre som åndevesener , kan få kropp igjen ( kilde : SNL ) – om Du kunde faa være med paa dem . Gaa op til Marius Selmer , Marius Selmer ] Marius Selmer oversatte fra tysk en bok av Friherre Dr. Carl Du Prel om spiritisme , utgitt på norsk av Aschehoug i 1894 Du og Harriet , og hør , om der er nogen Mulighed for at faa Plads . – Men i ethvert Fald kunde der bli lidt KymbelKymbel ] = rangel ( kilde : NAOB ) og Moro og muligens Fortsættelse af Privatcirckelen . – Vi er forfærdelig i Beraad med , hvordan vi skal arrangere os med Logi . Da vi rimeligvis maa bo i Xia en Stund hvert Aar nu udefter , har vi tænkt paa , om det ikke kunde lønne sig at kjøbe et lidet Møblement og leie Leilighed . Møblerede Værelser er fælt dyre og fælt kjedelige , og vi maa ha tre af dem . Og Pension er det værste af alt. Faa en god Ide for os !\n",
      "Vi kan vel ikke komme der ind før til Nytaar , tænker jeg . Der skal væves en hel Væv her , før vi kan komme afsted . Der er i det hele Slutten mangler\n",
      "[ Våren 1894 ] . Fra Garborg til Kielland .\n",
      "Brevs . 129\n",
      "HuldaHulda ] Hulda Garborg , født Bergersen ( 1862 – 1934 ) , forfatter og kulturarbeider , giftet seg med Arne Garborg desember 1887 er svært fornøiet over hvad Du siger om Kvindeskikkelser ; Kvindeskikkelser ] Gjelder Hulda Garborgs oversettelse ( fra tysk ) av Lou Andreas-Salomé : Henrik Ibsens Kvindeskikkelser hilser meget . Hun skal nu endelig faa opført sin Oversættelse af « Einsame Menschen » Einsame Menschen ] Drama i 5 akter av den tyske dramatikeren Gerhart Hauptmann ( 1862 – 1946 ) , uroppført i Berlin i januar 1891 . Norsk tittel : Ensomme Mennesker . Stykket ble tenkt oppført i Christiania første gang i 1891 , men stadig utsatt . Ut fra det Arnhild Skre skriver , ble det heller ikke oppført på Christiania Theater i 1894 . Kilde : Skre 2011 : 210 paa Xia Theater . Holder nu paa med et nyt Stykke af Hauptmann , Hauptmann ] Gerhart Hauptmann ( 1862 – 1946 ) , tysk dramatiker en nydelig liden Ting , « Hanneles Matterns Himmelfahrt . » Hanneles Matterns Himmelfahrt ] Drama i to akter , uroppført i Tyskland 14. november 1893 . Huldas oversettelse var ferdig i april 1894 med tittelen Hannemor . Oppført i Christiania ved Carl Johan Teatret med premiere 13. mars 1895 . Kilde : Skre 2011 : 214 f\n",
      "27. juli 1894 . Brev fra Garborg til Kielland .\n",
      "Brevs . 129\n",
      "I denne Sommer har jeg bogstavelig ærgret mig en Mavekrampe paa Halsen . Jeg havde bestemt , at jeg – endelig en Gang efter mange Aars Forløb – vilde have lidt Ferie . Jo Tak ! Saa kom først Avisen.Avisen ] « Den 17 de Mai » med undertittelen « Norskt Folkeblad » , første nummer utkom 9. januar 1894 , utgitt i starten med tre nummer i uka Og hvad den levnede , det er blit ødelagt af et Par Løfter om « Bidrag » , som jeg lod et Par gode Venner i en festlig Stund aflokke mig . Og nu kan jeg ikke skrive efter Løfter ( ɔ : paa Bestilling ) . Tvertimod . Jeg taaler ikke længer at ha et sligt Løfte me paa mig . Det er mig som en Lænke om Benet ; saa snart jeg vil røre mig , minder den , minder med vond Samvittighed og Følelse af Ufrihed , ærgrer mig altsaa , sætter mig i daarligt Humør , – saa at selv om jeg ellers kanske kunde ha skrevet , saa blir det nu umuligt . Nu har jeg siddet i ugevis og bandet og svedet over noget , som kunde være blit til noget , men som nu ikke h hænger ihop engang , formedelst dette daarlige Humør . Og saa denne deilige Sommer , det har været her i Aar , netop en Feriesommer ; men her skal jeg sidde , – fordi jeg tilfeldigvis er snil og samvittighedsfuld , og fordi jeg har gode Venner , som benytter sig deraf ! – Men saa har jeg da ogsaa aflagt Ed for mig selv og min Konemin Kone ] Hulda Garborg , født Bergersen ( 1862 – 1934 ) , forfatter og kulturarbeider , giftet seg med Arne Garborg desember 1887 paa , at aldrig mere skal jeg under nogen Omstændighed eller under nogen Form lade mig saadanne Bidragsløfter afnarre . Det er da ialfald et godt Resultat . ( Du kommer forsaavidt for sent med dit Forslag om Jæderbogen ; men det gjør jo ikke noget ; lad din Brordin Bror ] Alexander Lange Kielland ( 1849 – 1906 ) , forfatter skrive Texten , saa vil Folk læse det , og saa blir Bogen helstøbt ) . Men det andet Resultat : Mavekrampen , ble ikke saa godt ; nu faar jeg afholde mig i nogen Tid fra dette forbandede Sidderi , om det skulde hjælpe .\n",
      "Med den Slags Ildebefindende følger et Humør , som jeg jo naturligvis skjuler saa godt jeg kan , men som i Virkeligheden er umuligt . Det mærker Du vel paa Tonen af Brevet ogsaa . Jeg burde helst ikke have skrevet nu . Men sagen er , at nu vil jeg ha fri for alt , hvad Pen og Blæk heder , i en Maaneds Tid , og saa faar jeg skrive lel , og det faar bli som det kan . Dit Brev er forresten hellerikke noget videre hyggeligt , saa for den Sags Skyld – –\n",
      "Jeg synes , det gik bra der inde , jeg . Du var liksom ikke fuldt saa forfærdelig foretagsom ; der var formelig en vis Ro , og stundom fik jeg Indtryk af , at Du næsten tog lidt Hensyn til mig ogsaa ɔ : til min megen Skrøbelighet og Særhed , som Du før altid troede at kunne affeie med et « Aa Tøv » el . lign . Jeg havde hidtil ( d.e. siden den syge Høst 1886 ) en vis Uro overfor Dig , da det havde vist sig umuligt at faa Dig til at forstaa , at jeg som mindre robust trængte til at behandles med en vis Lempe ; nu syntes Du at have faaet en Anelse om dette , og det mente jeg spaaede godt . – Nu fortæller Du , at det var ikke saa , men at Du i Stilhed har gaaet og ærgret Dig der inde , fordi du ikke « fik være som Du var vant . » – Naar jeg kunde begribe , hvordan det kundekan gaa an at forstaa saa lidet af et Medmenneske !\n",
      "Men – det har jeg nu skrevet og snakket saa ofte om . Jeg har opgivet det som retsaa meget andet . Du har sat Dig i Hovedet at jeg er en Huggeblok , og at jeg skal behandles som en Huggeblok ; der er ikke mer at gjøre ved det formodentlig . –\n",
      "Med Hensyn til , hvad Du eller Moltke MoeMoltke Moe ] Moltke Moe ( 1859 – 1913 ) , folkeminnesamler mener om mine intimere Forhold , saa skal jeg tillade mig at spørge Dere om det , naar jeg en Dag faar Brug for at vide det .\n",
      "Fotografierne er svært vakre . – Naar jeg ser paa de to fra Aarre , maa jeg i mit Hjerte græde over , at min Barndoms Drøm : at bli velbestaltet Lygtemand paa Jæderen , ikke kan gaa i Opfyldelse . Aa den store , triste , deilige Ensomhed !\n",
      "HarrietHarriet ] Harriet Backer ( 1845 – 1932 ) , kunstner arbeider godt og er fornøiet . Hun passer udmærket ind her.her ] Harriet Backer bodde på gården Strålsjøvangen , kalt Haugen , hver sommer fra 1893 til 1900 . Den lå rundt 3 kilometer fra Garborgs hus Kolbotn , alt beliggende i Alvdal . Kilde : Lange 2003 , s.189 I NordpolenNordpolen ] En hytte kalt « Nordpolen » som lå like ved huset til Garborg , eiet av Ivar Mortensson-Egnund ( 1857 – 1934 ) , oversetter , forfatter m.m. bor to Damestudenter , snille Gjenter , Frk. ArnesenFrk . Arnesen ] Emily Arnesen ( 1867 – 1928 ) , zoolog . Kilde : Studenterne fra 1892 og Frk. Crawford ( stud. med. ) ; Frk. Crawford ( stud. med. ) ] Eva Marie Crawfurd ( 1875 – 19 ? ? ) . Hun avla medisinsk embetseksamen i 1901 , men praktiserte aldri som lege . Giftet seg i 1897 med Olaf Sand , også lege . De emigrerte til USA i 1902 og slo seg ned i Fargo , Nord-Dakota . Ukjent dødsår . Kilde : Studenterne fra 1892 hos os bor endvidere en kvindelig Middelskoleelev Frk. Dobloug.Frk . Dobloug ] Trolig Anne Dobloug ( 1880 – 1968 ) , datter av Mikkel og Susanne Dobloug . Nevnt av Skre som fadderbarn av Hulda Garborg . Anne giftet seg med Rolf Thommessen . Kilde : Skre 2011 : 557 , note 27 Saa her er livligt nok . En Plage er det , at der dør saa mange opi Aasen her i Aar ; vi faar næsten ikke Fred for Likferder . I Avisen har jeg git et Vink om , at jeg fraber mig Turistbesøg . Men det hjælper vel ikke .\n",
      "Apropos Avisen.Avisen ] « Den 17 de Mai » SteinsvikSteinsvik ] Rasmus Steinsvik ( 1863 – 1913 ) , stifter og redaktør av « Den 17 de Mai » fortæller , at det gaar Skrap . Folk betaler ikke – blir borte . Imidlertid ødelægger den samme Fille-Avis hele min Arbeidskraft . Men nu sidder jeg der . Agter dog at bearbeide Steinsvik i Retning af snart Ophør . Vil Folk ikke læse os , var det Synd at plage dem , stakkar !\n",
      "Med Politiken gaar det nok ogsaa Fanden i Vold . Man faar naturligvis sparke imod i det længste ; men naar Hovedstokken af Landets Dannelse er blit svensk , saa følger naturligvis Mobben efter . Saa meget mere som den stadig blandes med indfødt svenske Elementer . – Jeg haaber paa , at jeg ikke skal bli nogen gammel Mand .\n",
      "Ja , – Dere faar leve da , alle Dere lykkelige Mennesker , som har en god Mave og godt Humør , og som interesserer Dere for Ting , Mennesker og andet deslige . Samtlige hilser . Harriet snakker stadig vemodigt om , at hun intet hører fra Dig.Garborgs note , skrevet langs venstre marg : Hun har skrevet to Breve , siger hun . Hun hilser mangfoldig ! Jeg maa nu ud og « høya . »\n",
      "30. august 1895 . Fra Garborg til Kielland .\n",
      "Brevs . 129\n",
      "Nu har jeg efter 8 Ugers Regn og Bekymring faaet Høyet ind ( mine stakkars 3 Las Høy , som har voldt mig saa meget Mas og Hovedbrud Hovedbrud ] hodebry ( Kilde : NAOB ) som om der var Tale om et helt Gaardsbrug ! ) – og i Dag ligger de her alt Sne ; saa nu faar jeg vel saa smaat flytte ind igjen – til Blækhuset og Bøgerne og al den anden Tristesse . Men nu er jeg saa verbauertverbauert ] blitt gjort til bonde , tyskinspirert uttrykk ( har bogstavelig været paa Udearbeid hele Sommeren , dels « i Høyet » og dels i Skogen ) , at jeg ved ikke hvordan det gaar . – Uf ! at jeg skal være blit slik en Krusling ! – for var jeg en ordentlig Arbeidsmand , saa endte det absolut med , at jeg forsvor Pen og Blæk og blev Ridder af Spaden .\n",
      "Imidlertid faar jeg prøve at faa istand noget som et Brev for om muligt at erfare , hvordan det staar til paa Jæren og in specie med Dig . Harriet , Harriet ] Harriet Backer ( 1845 – 1932 ) , kunstner som kom her op for nogle Dage siden , ved ikke noget videre . Hun mener dog , at Du er frisk og arbeider , hvilket jo er en saare væsentlig Ting . Men hvordan Arbeidet gaar , og hvordan Du forøvrigt synes om Jæren og Tilværelsen , det ved hun ikke .\n",
      "Uhyre fornuftigt er det , at Du har faaet Dig en Collettsk Maler-Æske ; en Collettsk Maler-Æske ] et form for transporterbart utendørsatelier konstruert av maleren Frederik Collett ( 1839 – 1914 ) . Han tegnet ulike modeller , så usikkert hvordan hennes så ut . Kilde : Ingrid Blekastad : « Naturalisten Frederik Collett » , Lillehammer Kunstmuseum 1997 for om der da , som jeg formoder , er Syndflod paa Jæren , saa kan Du bare sidde paa Toppen af de høieste Bakker og male lige godt . Forresten er det vel Sjøen , Du dyrker mest i Aar , siden Du har slaaet Dig ned paa Vig , Vig ] Vik i nåværende Klepp kommune ligger like ved sjøen , syd for Orre . Hun reiste flere år tilbake hit . Kilde : Terjesen 1999 s . 220 – skjønt der jo er Myrer der ogsaa , som er stygge nok til at være maleriske . Kanske faar Du ogsaa malt noget Sand ? Det forekommer mig , at der ikke er langt fra Vig og til Aarre . – En jædersk Kirke skulde Du forresten en Gang ha malet i den rette Stemning ( Tusmørke og Graaveir ) ; men VarhougskirkenVarhougskirken ] En hvitmalt langskipet trekirke som ble revet i 1905 . Kun rest av klokketårnet er bevart på den gamle kirkegården ut mot havet på Varhaug er morsommere end Aarre-Do . Do ] Forkortelse for ditto = kirken . Orre kirke er en hvitkalket steinkirke oppført rundt år 1250\n",
      "Er det sandt , at Du har opgit Pariserturen ? Og ligesaa Eilifs ? Eilifs ] Eilif Peterssen ( 1852 – 1928 ) , kunstner og hans familie Kanske skal dere allesammen slaa dere til paa LedaalLedaal ] Kiellands barndomshjem i Stavanger . Bygget som et patrisierhus av farfaren Gabriel Schancke Kielland i 1799 . Eiendommen tilhørte familien Kielland fram til 1936 , etter dette kongebolig og museum i Vinter ? – For dere høres det hyggeligt ; men for os – ! For vi maa nok afsted lel , vi , om det skal bli nogen Gang . Men jeg glæder mig ikke noget særligt til det . Man blir gammel og stationær . Og jeg ved , hvordan det er at være i Udlandet med lidet Penge . Og saa dette fordømte Sproget . Hvorfor Pokker kan ikke disse Franskmænd ligesaa godt snakke norsk ? – Men Herregud , det er jo ikke egentlig for Moro Skyld , vi denne Gang reiser . Det vil Du skjønne naar Du hører , at vi vil bo i Pensjon – huff . Tvinge os til at forstaa lidt Fransk – hvilket muligens vil lykkes for Hulda . Jeg er haabløs . Jeg vil leve og dø som Barbar . – Men jeg trøster mig med at Paris altid er bedre end XiaXia ] Christiania – skjønt Gud ved . Nu er der et Par Franskmænd der nede , som har saa vidt Ide om mig , at jeg vel næsten maa opsøge dem , og saa faar jeg ikke Fred for Fremmede der heller . – Ak , hvorfor kan jeg ikke være Huleboer ? Det er det jeg er skabt til . Heroppe er det ogsaa meget for lidet ensomt ; aldrig er en rigtig tryg for disse grufulde Turister . I Sommer var det Lærerinder , nu er det Jægere – – bra , pene , hensynsfulde Folk ; men – aldrig tryg . Vildfremmede Mennesker , som kommer og siger de samme Turist-Sætninger ; og for deres Skyld skal man da maatte afbryde sit Høy- eller Vei-Arbeid eller sin Dovenskab og sætte op et Ansigt og lade som om man er – nogenlunde høfligt Menneske ialfald … Naa . Dette forstaar Du ikke ; for Du synes Menneskene er interessante . Quelle bonheur ! Quelle bonheur ] Fransk : Hvilken lykke !\n",
      "– Snegraa er Luften over Aaserne i Dag , og Sneen holder sig . Stakkars Harriet – men nu kan hun ha det saa godt ; hvorfor kom hun ikke , mens det var Sommer ? ( forholdsvis altsaa ) .\n",
      "Udenfor gaar mine to Svensker og minerer og dominerer ; det er det eneste , som interesserer mig her nu . – Om to Dage skal Hulda til Xia og hjælpe til ved Forberedelsen af « Mødre » , « Mødre » ] Skuespill av Hulda Garborg som hadde premiere på Christiania Theater 23. oktober 1895 som nok virkelig skal op. Senere reiser vi andre efter . Det vilde være morsomt dette – dersom vi ikke vidste , at disse tarvelige Komedianter der inde ikke har Anelse om at spille Bønder . Bare de ikke skjæmmer det hele aldeles ud . Der er ingen , som kan noget her i Landet . Tænk : en norsk « Nationalscene » , som ikke kan spille Bønder ! – isch , en kan bli saa lei . –\n",
      "Du gjør mig en Glæde ved at skrive nogle Ord og si , hvordan Verden ser ud fra Din Maler-Kasse . Og om Dine Planer for Vinteren . Skjæld mig ud , fordi jeg er saa slap og lei ( skjønt det er vist væsentlig Politikens Skyld ) . Hermed lev vel og vær mangfoldig og hjertelig hilset fra hele vor lille Koloni og særlig fra\n",
      "P.S . Jeg har altsaa atter faaet Stipendiet.Stipendiet ] « Forfatterstipendierne ved Kgl . Resol . af 9 de ds. er bevilget for Terminen 1895 – 96 til Forfatterstipendier tildelt : Arne Garborg kr . 1500 , - . » Kilde : Dagbladet 10. aug. 1895 Deraf skal 1000 Kr . gaa til Gjæld . Har Du Brug for Mynt , saa hold Dig ude , – ellers gaar det til andre altsammen – i Aar ogsaa . Skriv til Hulda , p. t . Xia , Central IV VI ( Harriets Adresse ) ; hun skal greie med det . Undskyld .\n",
      "( Er jeg ikke flink til at lade som ingenting ? I det hele , mener jeg ? )\n",
      "22. november 1895 . Fra Garborg til Kielland .\n",
      "Brevs . 129\n",
      "Endelig efter megen Omflakking og mange Viderværdigheder er vi installerede her og bor udmærket . Du husker vel Quai Voltaire , lige overfor den vestre Del af Louvre ( ɔ : den Del som ligger nærmest Tuilerihaven ! ) og Hotellet ligger slig , at vore Vinduer i 4 me kan se bemeldte Have . Selve Hotellet er roligt og stille og hyggeligt og pent , sogar forholdsvis rensligt . Quaien relativ stille ; kun er det disse Omnibusser , Omnibusser ] Offentlig transportmiddel for alle . Vogner i én eller to etasjer trukket av 2 til 3 hester som blaaser paa Klarinett stundom og dodo ] ditto disse smaa Seinebaadene , som skvætter att og fram og yler forskrækkelig . Men det vænner man sig snart til .\n",
      "Vi har to sammenhængende ganske pene Værelser , som vi har faaet for 90 FrcsFrcs ] franske franc om Maaneden ( ɔ : 100 med Service ) , fordi vi lovede at bo her til April.Garborgs note nederst på siden : Og saa fordi Erik Lie behændig indskjød noget om , at Hotellet var os anbefalet af Eilif Petersen ( hvilket er Løgn ) . Her er saa roligt at vi kan skrive . Kaffemaskine etc har vi kjøbt og begynder nu med at lave os 1 ste ( og tildels 2 d ) Dejeuner selv ( hvilket vi faar Lov til ) . Middag spiser vi t paa den gamle Bule i Rue du Bac ( her lige om Hjørnet ) . D. v. s . jeg tror det er den gamle Bule ; jeg har været inde paa begge Steder , men kjendte mig ikke rigtig igjen noget Steds . Godt og billigt er der ialfald .\n",
      "Jo , det var noksaa rørendes at komme her ned igjen . Paris er og blir den eneste moderne By , hvor der kan leves , hvor man føler sig fri og Menneske . Og alt kjendte jeg igjen – som jeg skulde ha været her iforgaars . Det er klart og vakkert og mildt Høstveir ; Folk sidder ude og spiser sin Déjeuner , og Roser etc. blomstrer i Tuilerihaven . Det er os som en halvglemt Drøm , at vi reiste fra XiaXia ] Christiania i fuld Snevinter . ( medio Oktober ! )\n",
      "Vi glæder os til , at Du kommer ; vistnok vil vi gjerne ha det stille og arbeide og læse Fransk ; men et eller et Par skikkelige Mennesker – – . Hos Lie ' sLie ' s ] Thomasine og Jonas Lie blir der neppe megen Moro ; de holder sig i Ro og spiser i det høieste en enkelt Gang Middag med et uvedkommende MskeMske ] menneske ved Navn TscherningTscherning ] Marius Tscherning ( 1854 – 1939 ) , dansk øyenlege . Arbeidet ved Sorbonne , Paris , fra 1885 til 1910 eller et Do . Do . nommé Heide.Heide ] Ragnvald Heide ( 1860 – 1917 ) , tannlege Vi har været der paa en Formiddagsvisit og skal imorgen ( Lørdag ) spise Middag der ( med denne uundgaaelige Tscherning altsaa ) .\n",
      "Tak for Brevet , som jeg for lang lang Tid siden skulde have svaret paa ; men hele denne Høst er gaaet væk i Vrøvl . Du har havt det godt og har arbeidet og er kommet Dig ; det er udmærket ; og jeg kan ikke tro , at Paris , taget med Maade , vil virke andet end bare opkvikkende . Eilifs følger naturligvis med ; saa blir dere hyggeligt Reiseselskab . – Dine Formfølelser af bedre Tider bygger jeg ikke saa liden Vægt paa ; efter saa svære Kriser som den Du nu har klaret , kan der gjerne regnes paa behagelige Overraskelser . – At Du ikke « vilde resignere » , husker jeg godt ; det virkede tragisk paa mig – : det er jo vores alles Historie , Menneskets Historie . Og jo mere vi bander paa , at vi ikke vil , des mere gemytlig smiler Livet : « du blir ikke spurgt , min Ven ! » – Men bagefter kommer der da ofte saa meget vakkert , som man slet ikke havde ventet . –\n",
      "Dit Brev til HuldaHulda ] Hulda Garborg , født Bergersen ( 1862 – 1934 ) , forfatter og kulturarbeider , giftet seg med Arne Garborg desember 1887 kom for sent ɔ : naaede overhoved ikke frem ; derfor gik det baade sent med Forsendelsen og ikke som jeg havde tænkt ellers heller.Dit Brev … for sent ] Kielland skrev etter oppfordring fra Garborg et langt brev til Hulda Garborg datert 6. sept . 1895 , se NB Brevs . 177 Det var græsselig udelikat af mig at spørge som jeg gjorde ; det ved jeg nok ; men det var slig , at jeg kunde ikke slippe billigere fra det . Slaa en Streg over det , om Du kan . – Hu disse Penge , disse Penge ; hvor de burde afskaffes !\n",
      "Jeg sender Brevet til Stavanger , hvor jeg gjætter at Du nu er , da der vel ikke længer er « Malerveir » paa Jæderen . Hils Eilif og Frue mangfoldig og forfør dem til at komme her ned ! Lev vel og gaa stedse fremad i Kraft og Styrke . Velkommen til Paris ! Paris ] Det ble ingen tur til Paris for Kielland i 1896\n",
      "8. april 1899 . Fra Garborg til Kielland .\n",
      "Brevs . 129\n",
      "Selv Tak for denne Gang , skjønt det altsaa blev saa lidet . Jeg var urimelig . For træt og interesseløs .\n",
      "Gid Du maa komme Dig bedre der oppe . Du faar det naturligvis meget hyggeligere der end paa et Sanatorium .\n",
      "Tak for Bryderiet med Stolen . Jeg haaber lidt paa en Hviletid her borte . Her har vi det vondt nu ; en Masse Ærgrelser og Bekymringer . Især Hulda , Hulda ] Hulda Garborg , født Bergersen ( 1862 – 1934 ) , forfatter og kulturarbeider , giftet seg med Arne Garborg desember 1887 Stakkar , som ellers bærer det bedre end jeg ; min Modstandskraft er = 0 for Tiden .\n",
      "4. november 1899 . Fra Garborg til Kielland .\n",
      "Brevs . 129\n",
      "Aa Du umulige Menneske . Du Daarers Formynder . Sligt er saa altfor urimeligt snilt . Men jamen er det hyggeligt . Tak og Ære ; nu er Du rigtig blevet mine Øines Lys .\n",
      "Den passer udmærket.Den passer udmærket ] Henspeiler på lorgnetten som Kielland hadde sendt ham , omtalt senere i brevet Og med vedbørlig Forsigtighed brugt maa vel mit skibbrudne Hoved taale den . ' den ' rettet fra ' dem ' ved overskriving\n",
      "Jeg har alt gjort udkast til den Artikel , Du snakkede om , og naar jeg faar stelt lidt paa den , skal den ikke bli saa værst . Den blir kanske – uden at nævne B. B. ] Bjørnstjerne Bjørnson ( 1832 – 1910 ) , forfatter eller endog se til den Side hvor han gaar – det bedste Svar til ham , som jo ogsaa nu , hører jeg , driver paa og vil reise Østland mod Vestland .\n",
      "Hu , sligt et Rige , splidagtigt med sig selv ! Kan det blive bestandigt ?\n",
      "Og jeg grætne og sinte og utaalmodige Mand , jeg drives og tvinges her med bandende Hjerte og kjed af det hele til at gaa omkring som Provsten Sparre med Vat og FiltProvsten Sparre med Vat og Filt ] Referanse til en karakter i Alexander L. Kiellands roman Garman & Worse hvis gange er « Filt oven paa Filt i det uendelige » og et forsonligt Smil og præke om Fred og Forsoning . Aa du lystige Lagnad !\n",
      "Jeg tænker paa at flytte min Stue fra Jæderen til Lister . Er det Landsforræderi ?\n",
      "Tak for Lorgnetten !\n",
      "21. januar 1900 . Fra Garborg til Kielland .\n",
      "Brevs . 129\n",
      "Dit Brev , som Du skal ha tak for , fik jeg paa Bolkesjø , just som jeg holdt paa at bryde op. For der var ikke Ro der heller , selv ikke nu . Overhoved : hvor skal en Synder hen , som trænger Hvile og maa ha Hvile , men ikke kan hvile ? Mennesker anstrenger mig mere end nogensinde , og nu taaler jeg hellerikke at være alene . – For det er ikke noget at dølge for : det gaar nedover igjen , og jeg har en uhyggelig Fornemmelse af , at jeg skal nedi den samme Historie som ifjor og iforfjor .\n",
      "Naa ; det var ikke det . Jeg usalige Menneske , som skylder Svar paa et Brev , jeg troede at have besvaret . Og nu forstaar jeg , at Brevet maa have indeholdt mer end jeg forstod . Der var nok noget , som undrede mig : en Bemærkning som saa omtrent : « det er vist rart af mig at sige dette » ; men jeg kunde med min bedste Vilje ikke opdage noget som var rart . Jeg syntes Du skrev rigtigt og vakkert om Bogen , Bogen ] Garborgs roman Den burtkomne Faderen , utkommet senhøstes 1899 og dertil kunde jeg jo ikke svare anderledes end ved at udtale min Glæde over at Du fandt noget ved den . Men saa reserverede Du Dig tilsidst ved at sige , at Du vilde læse den en Gang til , før Du egentlig bestemte Dig for Din Mening ; og saa tænkte jeg at jeg fik vente til da med at svare paa det som skulde være « rart » ; for nu , som sagt , skjønte jeg det ikke . Nu har Du altsaa virkelig læst den en Gang til , og min Glæde er stor over , at Dit første gode Indtryk har holdt sig , ja er blit bestyrket . Men det rare faar jeg ingen Besked om , og Dit første Brev er ikke i en Fart at finde ; det er vel under en Oprydning kommet paa Havsens Bund . Hvad skal jeg da gjøre ?\n",
      "Det er sandt , som Du gjætter : at denne Bog var mig en Seier og Befrielse efter lange og vonde Fortvilelser og Mørkheder . Og jeg tror , den vil være mig en Hjælp fremdeles , ogsaa om Tiderne blir værre igjen . Jeg synes der blir Sammenhæng i Tingene seede paa den Maade , og jeg synes jeg er kommen nærmere Lyset og det høieste , som egentlig bare er det enfoldigste . Og jeg er virkelig glad , naar nogen siger til mig , at Bogen har klaret noget for ham ( hende ) . – – Naturligvis staar det vigtigste og vanskeligste tilbage ; men det er for langt at snakke om . –\n",
      "Som sagt : Bolkesjø-Turen førte ikke til noget og blev afbrudt midt udi ; og nu gaar jeg her og lurer paa , hvor jeg saa skal gjøre af mig . For hvor godt jeg har det her , saa er jeg kommen for meget opi alt dette Kav , og er Byen for nær , og intet Øieblik tryg … og denne vonde hjertebankende Uro og dette tunge skjæbnesvangre Tryk paa Hjernen og hele denne dybe , dybe Træthed begynder . Jeg maa etsteds hen , hvor der ikke er Modmænd og Strid og Kav og Fædrelandsbekymring , ei heller norske Aviser . En af Dagene kanske faar Du høre at jeg er væk – har vovet et nyt Forsøg . Vær imidlertid snil og tag mig for den jeg er , og vær flink til PariserudstillingenPariserudstillingen ] Verdensutstillingen i Paris , avholdt fra 15. april til 22. november 1900 . Kielland var representert med tre malerier : « Jæderlandskab » , « Solnedgang . Jotunheimen » , « I Jotunheimen » . Kilde : Den offisielle trykte katalogen over norske utstillere og lad de Godtfolk faa se et Par Stykker oprigtigt , hjerteligt Norge .\n",
      "21. april 1900 . Fra Garborg til Kielland .\n",
      "Brevs . 129\n",
      "Det eneste jeg har at sige paa StykketStykket ] utkast til Kiellands kapittel « Jæderen » som ble trykt i Norge i det 19 . Århundre , Kristiania 1900 ( som jeg altsaa har læst , skjønt ikke saa grundigt som jeg burde ) er , at jeg synes det er for geografisk . Mere af personlige og kunstneriske Indtryk vilde jeg have ; den Smule Geografi som kan trænges , kan Du putte ind her og der saadan leilighedsvis .\n",
      "Altsaa : mer af Dine egne Indtryk af Folk og Liv . Og af Dine maleriske Indtryk fra Torvmyr og Strand . Jæderen i Linjer og Farver og Luft og Lys . Du har meget af dette ; men udarbeid det mere og samle det og gjør det til Hovedsagen . Synes jeg da ! – men kanske Redaktionen lægger Vægt paa det geografiske ?\n",
      "Vi Læsere tror jeg vilde lægge mere Vægt paa Stemningerne . Skriv som Maler . Og vær ikke ræd for at sige jeg . Det vilde ikke være dumt at begynde med den Orkanen som nu kommer til Slut ( og indlede den med en kort orienterende Udsigt over Land og Hav ) . Og saa fortsætte med Hav- og Kystindtryk . Og derfra længer op , i Torvmyrerne . Det ydre Folkeliv som Staffage ( 1 . Fiskeri , Lodser , Torvbrænding osv 2 ) Torvskur , Jordbrug osv ) . Tilsidst det Du fortæller nærmere om Folket , Dine Indtryk af dets mere indre Liv . Det historiske fik vel komme med under Landskabet .\n",
      "Ja – hvis jeg nu havde kunnet studere Artikelen grundigere , saa vilde jeg kanske have fundet at Du egentlig har en saadan Anordning , om end bu rimeligvis paa en anden Facon , og at jeg med mit forkjølede og fortumlede Hoved bare ikke har faaet Tag paa den . I ethvert Fald kan Du bry Dig saa meget eller saa lidt som Du vil om mine Bemærkninger . Det eneste jeg føler mig sikker paa er , at Du har taget det lidt for alvorligt med Geografien . Her og der kommer Du vel ogsaa til at revidere det sproglige ( Antydninger i den Retning har jeg af og til tilladt mig ) . For nu gjælder det at skrive rigtigt Rigsmaal .\n",
      "Her er straalende her ude nu . Gid jeg kunne reise væk fra Aviser og Maalstrev og gjemme mig væk , paa Jylland eller paa Jæren , og lave fine Sætninger !\n",
      "Hilsen fra mig og det ganske Hus .\n",
      "8. oktober 1901 . Fra Garborg til Kielland .\n",
      "Brevs . 129\n",
      "I Dag er det vist Din Dag.Din Dag ] Kiellands fødselsdag , hun fylte 58 år Gratulation !\n",
      "Du er noget af det ungdomsfriskeste vi har i Landet .\n",
      "26. januar 1906 . Fra Garborg til Kielland .\n",
      "Brevs . 129\n",
      "Velsigna snilt var det af Dere at huske paa en gamal Stabeis . Tak og Ære ! Og ligesaa takker og ærer jeg i mit Hjerte de prægtige Mennesker som i Dagens Anledning gjorde Dere Følge ; men længer kommer ikke en Askerbauer uden Adressebog . Kanske Du , Kitty , kan hjælpe mig ?\n",
      "– Ja ; jeg har havt GeburtsdagGeburtsdag ] Garborgs fødselsdag var 25. januar , dette året fylte han 55 år igjen . Blir stadig ældre , men neppe visere . Que faire ? Que faire ? ] Fransk : Hva kan man gjøre med det ? Jeg faar trøste mig med de tiltagende ydre Visdomstegn , graanenede Haar og voksende Maane . Skjønt nogen ⁒ tegn for bla om Værdighed blir der ikke af dette , saa længe jeg ikke kan præstere lidt Corpolence .\n",
      "– Vi er godt og vel ankomne til Labraaten . Og ligger her og stræver med at faa Hulen optint og Tilværelsen i Orden igjen . Jeg fungerer som Tjenestepige . Men Duer ikke til det engang . Heldigvis er Veiret mildt og vakkert og godt ; og efterhaanden ordner alt sig .\n",
      "Hulda hilser mangfoldigt !\n",
      "Frk. Kitty L. Kielland Hansteens G. , Hjørnet Drammensv . XaniaXania ] Christiania fr. fr. ] frankert ( står foran siste linje i adressefeltet )\n"
     ]
    }
   ],
   "source": [
    "print('\\n'.join([' '.join(y) for y in kilder_korpus['NBkilder_KKielland_AGarborg_brev.xml']]))"
   ]
  },
  {
   "cell_type": "markdown",
   "metadata": {},
   "source": [
    "# Konkordanser"
   ]
  },
  {
   "cell_type": "markdown",
   "metadata": {},
   "source": [
    "### Søk i sekvenser av ord\n",
    "\n",
    "* Legg inn hvert ord i sekvensen i egne \" \" \n",
    "* Bruk komma mellom hvert søkeord\n",
    "* Before og after angir hvor mange ord du ønsker å se før og etter søkeordene"
   ]
  },
  {
   "cell_type": "code",
   "execution_count": 6,
   "metadata": {},
   "outputs": [
    {
     "data": {
      "text/markdown": [
       "### Konkordanser for *jeg er*"
      ],
      "text/plain": [
       "<IPython.core.display.Markdown object>"
      ]
     },
     "metadata": {},
     "output_type": "display_data"
    },
    {
     "data": {
      "text/markdown": [
       "#### NBkilder_KKielland_AGarborg_brev.xml"
      ],
      "text/plain": [
       "<IPython.core.display.Markdown object>"
      ]
     },
     "metadata": {},
     "output_type": "display_data"
    },
    {
     "data": {
      "text/markdown": [
       "13: "
      ],
      "text/plain": [
       "<IPython.core.display.Markdown object>"
      ]
     },
     "metadata": {},
     "output_type": "display_data"
    },
    {
     "data": {
      "text/markdown": [
       "16: , at Menneskene <span style='color:red'>er</span> misundelige Dyr , og <span style='color:red'>jeg</span> <span style='color:red'>er</span> et Menneske ."
      ],
      "text/plain": [
       "<IPython.core.display.Markdown object>"
      ]
     },
     "metadata": {},
     "output_type": "display_data"
    },
    {
     "data": {
      "text/markdown": [
       "33: frisindet , at Du husker paa , at <span style='color:red'>jeg</span> <span style='color:red'>er</span> menneske . Slutten mangler"
      ],
      "text/plain": [
       "<IPython.core.display.Markdown object>"
      ]
     },
     "metadata": {},
     "output_type": "display_data"
    },
    {
     "data": {
      "text/markdown": [
       "61: , at <span style='color:red'>jeg</span> fremdeles skriver lidt virvar , <span style='color:red'>jeg</span> <span style='color:red'>er</span> heller ikke frisk , temmelig daarlig"
      ],
      "text/plain": [
       "<IPython.core.display.Markdown object>"
      ]
     },
     "metadata": {},
     "output_type": "display_data"
    },
    {
     "data": {
      "text/markdown": [
       "72: Jeg tror saa sikkert paa den , og <span style='color:red'>jeg</span> <span style='color:red'>er</span> saa spændt paa den , gid"
      ],
      "text/plain": [
       "<IPython.core.display.Markdown object>"
      ]
     },
     "metadata": {},
     "output_type": "display_data"
    },
    {
     "data": {
      "text/markdown": [
       "72: . Aa nei det <span style='color:red'>er</span> vel , fordi <span style='color:red'>jeg</span> <span style='color:red'>er</span> kommet i vane med at snakke"
      ],
      "text/plain": [
       "<IPython.core.display.Markdown object>"
      ]
     },
     "metadata": {},
     "output_type": "display_data"
    },
    {
     "data": {
      "text/markdown": [
       "101: kvinnesak som kristendomsfiendtlig . Du synes , at <span style='color:red'>jeg</span> <span style='color:red'>er</span> ækel nu , <span style='color:red'>jeg</span> ved det"
      ],
      "text/plain": [
       "<IPython.core.display.Markdown object>"
      ]
     },
     "metadata": {},
     "output_type": "display_data"
    },
    {
     "data": {
      "text/markdown": [
       "108: saa urimelig . Jeg mærker det , at <span style='color:red'>jeg</span> <span style='color:red'>er</span> saa infamt underlegen , naar der"
      ],
      "text/plain": [
       "<IPython.core.display.Markdown object>"
      ]
     },
     "metadata": {},
     "output_type": "display_data"
    },
    {
     "data": {
      "text/markdown": [
       "109: lægger mit besyv . Du forstaar , at <span style='color:red'>jeg</span> <span style='color:red'>er</span> varm og begeistret for den bogen"
      ],
      "text/plain": [
       "<IPython.core.display.Markdown object>"
      ]
     },
     "metadata": {},
     "output_type": "display_data"
    },
    {
     "data": {
      "text/markdown": [
       "110: <span style='color:red'>jeg</span> skal forsømme min egen kunst , men <span style='color:red'>jeg</span> <span style='color:red'>er</span> nu saa gammel , at kan"
      ],
      "text/plain": [
       "<IPython.core.display.Markdown object>"
      ]
     },
     "metadata": {},
     "output_type": "display_data"
    },
    {
     "data": {
      "text/markdown": [
       "111: , forfatter han føler sig alene , ja <span style='color:red'>jeg</span> <span style='color:red'>er</span> vis paa , at om bare"
      ],
      "text/plain": [
       "<IPython.core.display.Markdown object>"
      ]
     },
     "metadata": {},
     "output_type": "display_data"
    },
    {
     "data": {
      "text/markdown": [
       "123: fint og bravt skrevet end mit , men <span style='color:red'>jeg</span> <span style='color:red'>er</span> jo en idiot . Og dengang"
      ],
      "text/plain": [
       "<IPython.core.display.Markdown object>"
      ]
     },
     "metadata": {},
     "output_type": "display_data"
    },
    {
     "data": {
      "text/markdown": [
       "124: ) . Dette blir vist bravt , hvorover <span style='color:red'>jeg</span> <span style='color:red'>er</span> stolt , men du verden ,"
      ],
      "text/plain": [
       "<IPython.core.display.Markdown object>"
      ]
     },
     "metadata": {},
     "output_type": "display_data"
    },
    {
     "data": {
      "text/markdown": [
       "140: paa sligt . Ikke for det , – <span style='color:red'>jeg</span> <span style='color:red'>er</span> ræd <span style='color:red'>jeg</span> kunde finde paa det"
      ],
      "text/plain": [
       "<IPython.core.display.Markdown object>"
      ]
     },
     "metadata": {},
     "output_type": "display_data"
    },
    {
     "data": {
      "text/markdown": [
       "148: sygeligt . For har <span style='color:red'>jeg</span> saasandt , at <span style='color:red'>jeg</span> <span style='color:red'>er</span> gaaet indover grændsen af den lille"
      ],
      "text/plain": [
       "<IPython.core.display.Markdown object>"
      ]
     },
     "metadata": {},
     "output_type": "display_data"
    },
    {
     "data": {
      "text/markdown": [
       "165: <span style='color:red'>jeg</span> ikke havde ham . Nu , da <span style='color:red'>jeg</span> <span style='color:red'>er</span> angergiven , synes <span style='color:red'>jeg</span> forresten at"
      ],
      "text/plain": [
       "<IPython.core.display.Markdown object>"
      ]
     },
     "metadata": {},
     "output_type": "display_data"
    },
    {
     "data": {
      "text/markdown": [
       "215: Du bare faar den bandsat gale forestilling at <span style='color:red'>jeg</span> <span style='color:red'>er</span> blevet en tørpamp og en snerpe"
      ],
      "text/plain": [
       "<IPython.core.display.Markdown object>"
      ]
     },
     "metadata": {},
     "output_type": "display_data"
    },
    {
     "data": {
      "text/markdown": [
       "224: Arbeide hvis det behandles ikke altfor hensynsløst – <span style='color:red'>jeg</span> <span style='color:red'>er</span> meget fornøiet med det . Vilde"
      ],
      "text/plain": [
       "<IPython.core.display.Markdown object>"
      ]
     },
     "metadata": {},
     "output_type": "display_data"
    },
    {
     "data": {
      "text/markdown": [
       "224: gjort mig lidt mere kold og vond end <span style='color:red'>jeg</span> <span style='color:red'>er</span> af Naturen . Jeg kunde ha"
      ],
      "text/plain": [
       "<IPython.core.display.Markdown object>"
      ]
     },
     "metadata": {},
     "output_type": "display_data"
    },
    {
     "data": {
      "text/markdown": [
       "224: Pøbelen omkring og misforstaar mig derhen , at <span style='color:red'>jeg</span> <span style='color:red'>er</span> et Svin , som vil Svineri"
      ],
      "text/plain": [
       "<IPython.core.display.Markdown object>"
      ]
     },
     "metadata": {},
     "output_type": "display_data"
    },
    {
     "data": {
      "text/markdown": [
       "224: . ] til at afgive Forsikringer om at <span style='color:red'>jeg</span> <span style='color:red'>er</span> et skikkeligt Menneske osv. kan jeg"
      ],
      "text/plain": [
       "<IPython.core.display.Markdown object>"
      ]
     },
     "metadata": {},
     "output_type": "display_data"
    },
    {
     "data": {
      "text/markdown": [
       "267: … han lever i den Tro , at <span style='color:red'>jeg</span> <span style='color:red'>er</span> sint paa ham , fordi han"
      ],
      "text/plain": [
       "<IPython.core.display.Markdown object>"
      ]
     },
     "metadata": {},
     "output_type": "display_data"
    },
    {
     "data": {
      "text/markdown": [
       "307: da han blir rent utaalmodig over , at <span style='color:red'>jeg</span> <span style='color:red'>er</span> saa langt væk . At jeg"
      ],
      "text/plain": [
       "<IPython.core.display.Markdown object>"
      ]
     },
     "metadata": {},
     "output_type": "display_data"
    },
    {
     "data": {
      "text/markdown": [
       "307: hvert blir det mig næsten uudholdeligt , naar <span style='color:red'>jeg</span> <span style='color:red'>er</span> daalig at ligge her ganske alene"
      ],
      "text/plain": [
       "<IPython.core.display.Markdown object>"
      ]
     },
     "metadata": {},
     "output_type": "display_data"
    },
    {
     "data": {
      "text/markdown": [
       "308: de ere ikke af de værste , men <span style='color:red'>jeg</span> <span style='color:red'>er</span> nu ræd for at se dem"
      ],
      "text/plain": [
       "<IPython.core.display.Markdown object>"
      ]
     },
     "metadata": {},
     "output_type": "display_data"
    },
    {
     "data": {
      "text/markdown": [
       "308: doktorsamvittighed , og finder han ikke , at <span style='color:red'>jeg</span> <span style='color:red'>er</span> daarlig nok , saa faar jeg"
      ],
      "text/plain": [
       "<IPython.core.display.Markdown object>"
      ]
     },
     "metadata": {},
     "output_type": "display_data"
    },
    {
     "data": {
      "text/markdown": [
       "308: Jeg kan nok ved egen kraft , da <span style='color:red'>jeg</span> <span style='color:red'>er</span> en harhaus , blive bedre med"
      ],
      "text/plain": [
       "<IPython.core.display.Markdown object>"
      ]
     },
     "metadata": {},
     "output_type": "display_data"
    },
    {
     "data": {
      "text/markdown": [
       "322: ( det <span style='color:red'>er</span> græsk ! ) – Og <span style='color:red'>jeg</span> <span style='color:red'>er</span> sandt at sige lidt vant med"
      ],
      "text/plain": [
       "<IPython.core.display.Markdown object>"
      ]
     },
     "metadata": {},
     "output_type": "display_data"
    },
    {
     "data": {
      "text/markdown": [
       "332: , lengter , føler – altsammen . Naar <span style='color:red'>jeg</span> <span style='color:red'>er</span> færdig med det første Udkast ,"
      ],
      "text/plain": [
       "<IPython.core.display.Markdown object>"
      ]
     },
     "metadata": {},
     "output_type": "display_data"
    },
    {
     "data": {
      "text/markdown": [
       "360: eller været mig vanskeligere at forstaa ; men <span style='color:red'>jeg</span> <span style='color:red'>er</span> vis paa , at det ikke"
      ],
      "text/plain": [
       "<IPython.core.display.Markdown object>"
      ]
     },
     "metadata": {},
     "output_type": "display_data"
    },
    {
     "data": {
      "text/markdown": [
       "371: se at komme isæng før 11 , da <span style='color:red'>jeg</span> <span style='color:red'>er</span> saa træt idag . Velkommen snart"
      ],
      "text/plain": [
       "<IPython.core.display.Markdown object>"
      ]
     },
     "metadata": {},
     "output_type": "display_data"
    },
    {
     "data": {
      "text/markdown": [
       "388: . Du har sat Dig i Hovedet at <span style='color:red'>jeg</span> <span style='color:red'>er</span> en Huggeblok , og at jeg"
      ],
      "text/plain": [
       "<IPython.core.display.Markdown object>"
      ]
     },
     "metadata": {},
     "output_type": "display_data"
    },
    {
     "data": {
      "text/markdown": [
       "400: <span style='color:red'>jeg</span> ikke være Huleboer ? Det <span style='color:red'>er</span> det <span style='color:red'>jeg</span> <span style='color:red'>er</span> skabt til . Heroppe <span style='color:red'>er</span> det"
      ],
      "text/plain": [
       "<IPython.core.display.Markdown object>"
      ]
     },
     "metadata": {},
     "output_type": "display_data"
    },
    {
     "data": {
      "text/markdown": [
       "403: for Vinteren . Skjæld mig ud , fordi <span style='color:red'>jeg</span> <span style='color:red'>er</span> saa slap og lei ( skjønt"
      ],
      "text/plain": [
       "<IPython.core.display.Markdown object>"
      ]
     },
     "metadata": {},
     "output_type": "display_data"
    },
    {
     "data": {
      "text/markdown": [
       "433: seede paa den Maade , og <span style='color:red'>jeg</span> synes <span style='color:red'>jeg</span> <span style='color:red'>er</span> kommen nærmere Lyset og det høieste"
      ],
      "text/plain": [
       "<IPython.core.display.Markdown object>"
      ]
     },
     "metadata": {},
     "output_type": "display_data"
    },
    {
     "data": {
      "text/markdown": [
       "433: som egentlig bare <span style='color:red'>er</span> det enfoldigste . Og <span style='color:red'>jeg</span> <span style='color:red'>er</span> virkelig glad , naar nogen siger"
      ],
      "text/plain": [
       "<IPython.core.display.Markdown object>"
      ]
     },
     "metadata": {},
     "output_type": "display_data"
    },
    {
     "data": {
      "text/markdown": [
       "434: En af Dagene kanske faar Du høre at <span style='color:red'>jeg</span> <span style='color:red'>er</span> væk – har vovet et nyt"
      ],
      "text/plain": [
       "<IPython.core.display.Markdown object>"
      ]
     },
     "metadata": {},
     "output_type": "display_data"
    },
    {
     "data": {
      "text/markdown": [
       "434: Vær imidlertid snil og tag mig for den <span style='color:red'>jeg</span> <span style='color:red'>er</span> , og vær flink til PariserudstillingenPariserudstillingen"
      ],
      "text/plain": [
       "<IPython.core.display.Markdown object>"
      ]
     },
     "metadata": {},
     "output_type": "display_data"
    },
    {
     "data": {
      "text/markdown": [
       "#### NBkilder_KKielland_DSkavlan_brev.xml"
      ],
      "text/plain": [
       "<IPython.core.display.Markdown object>"
      ]
     },
     "metadata": {},
     "output_type": "display_data"
    },
    {
     "data": {
      "text/markdown": [
       "25: maleriet hun fikk antatt i 1881 . Hvorfor <span style='color:red'>jeg</span> <span style='color:red'>er</span> idag i meget slet humeur ."
      ],
      "text/plain": [
       "<IPython.core.display.Markdown object>"
      ]
     },
     "metadata": {},
     "output_type": "display_data"
    },
    {
     "data": {
      "text/markdown": [
       "43: Kitty og Dagmar . Du synes kanske , <span style='color:red'>jeg</span> <span style='color:red'>er</span> lidt vigtig , men det har"
      ],
      "text/plain": [
       "<IPython.core.display.Markdown object>"
      ]
     },
     "metadata": {},
     "output_type": "display_data"
    },
    {
     "data": {
      "text/markdown": [
       "47: . Søster av Kitty og Dagmar . og <span style='color:red'>jeg</span> <span style='color:red'>er</span> begyndt at skrive om , at"
      ],
      "text/plain": [
       "<IPython.core.display.Markdown object>"
      ]
     },
     "metadata": {},
     "output_type": "display_data"
    },
    {
     "data": {
      "text/markdown": [
       "51: hermed ogsaa antyde Magda og sige , hvad <span style='color:red'>jeg</span> <span style='color:red'>er</span> komme til at tro om hende"
      ],
      "text/plain": [
       "<IPython.core.display.Markdown object>"
      ]
     },
     "metadata": {},
     "output_type": "display_data"
    },
    {
     "data": {
      "text/markdown": [
       "57: til nogen , kjære dig , synes du <span style='color:red'>jeg</span> <span style='color:red'>er</span> ukvindelig , saa sig det ,"
      ],
      "text/plain": [
       "<IPython.core.display.Markdown object>"
      ]
     },
     "metadata": {},
     "output_type": "display_data"
    },
    {
     "data": {
      "text/markdown": [
       "57: <span style='color:red'>jeg</span> <span style='color:red'>er</span> ukvindelig , saa sig det , <span style='color:red'>jeg</span> <span style='color:red'>er</span> saa fyldt af den Sorg ,"
      ],
      "text/plain": [
       "<IPython.core.display.Markdown object>"
      ]
     },
     "metadata": {},
     "output_type": "display_data"
    },
    {
     "data": {
      "text/markdown": [
       "57: efter min Mening demoraliserende Ægteskab . Ja Dagmar <span style='color:red'>jeg</span> <span style='color:red'>er</span> næsten kommen til at den ugifte"
      ],
      "text/plain": [
       "<IPython.core.display.Markdown object>"
      ]
     },
     "metadata": {},
     "output_type": "display_data"
    },
    {
     "data": {
      "text/markdown": [
       "58: du Mændene <span style='color:red'>er</span> morsomme at tale med og <span style='color:red'>jeg</span> <span style='color:red'>er</span> mangen Gang meget indtaget i Øieblikket"
      ],
      "text/plain": [
       "<IPython.core.display.Markdown object>"
      ]
     },
     "metadata": {},
     "output_type": "display_data"
    },
    {
     "data": {
      "text/markdown": [
       "72: var blævet vred over mit lange brev – <span style='color:red'>jeg</span> <span style='color:red'>er</span> en kujon ser Du . At"
      ],
      "text/plain": [
       "<IPython.core.display.Markdown object>"
      ]
     },
     "metadata": {},
     "output_type": "display_data"
    },
    {
     "data": {
      "text/markdown": [
       "76: andre , <span style='color:red'>jeg</span> tror , at ens eget <span style='color:red'>jeg</span> <span style='color:red'>er</span> det vigtigste for en selv ,"
      ],
      "text/plain": [
       "<IPython.core.display.Markdown object>"
      ]
     },
     "metadata": {},
     "output_type": "display_data"
    },
    {
     "data": {
      "text/markdown": [
       "76: men det <span style='color:red'>er</span> ækelt at føle , at <span style='color:red'>jeg</span> <span style='color:red'>er</span> saa lidet frisk , at jeg"
      ],
      "text/plain": [
       "<IPython.core.display.Markdown object>"
      ]
     },
     "metadata": {},
     "output_type": "display_data"
    },
    {
     "data": {
      "text/markdown": [
       "78: <span style='color:red'>er</span> hyggeligt at de kommer herud , men <span style='color:red'>jeg</span> <span style='color:red'>er</span> lidt bange for at <span style='color:red'>jeg</span> efter"
      ],
      "text/plain": [
       "<IPython.core.display.Markdown object>"
      ]
     },
     "metadata": {},
     "output_type": "display_data"
    },
    {
     "data": {
      "text/markdown": [
       "85: noksaa skral , hun misunder mig næsten at <span style='color:red'>jeg</span> <span style='color:red'>er</span> saa frisk eller rettere ønsker det"
      ],
      "text/plain": [
       "<IPython.core.display.Markdown object>"
      ]
     },
     "metadata": {},
     "output_type": "display_data"
    },
    {
     "data": {
      "text/markdown": [
       "106: "
      ],
      "text/plain": [
       "<IPython.core.display.Markdown object>"
      ]
     },
     "metadata": {},
     "output_type": "display_data"
    },
    {
     "data": {
      "text/markdown": [
       "106: Laache ( 1867 – 1946 ) . og <span style='color:red'>jeg</span> <span style='color:red'>er</span> altid sammen , hun maa leve"
      ],
      "text/plain": [
       "<IPython.core.display.Markdown object>"
      ]
     },
     "metadata": {},
     "output_type": "display_data"
    },
    {
     "data": {
      "text/markdown": [
       "#### NBkilder_KKielland_EPeterssen_brev.xml"
      ],
      "text/plain": [
       "<IPython.core.display.Markdown object>"
      ]
     },
     "metadata": {},
     "output_type": "display_data"
    },
    {
     "data": {
      "text/markdown": [
       "2: <span style='color:red'>jeg</span> kan saa vanskelig være skarpretter , og <span style='color:red'>jeg</span> <span style='color:red'>er</span> ikke kritisk , ved de ?"
      ],
      "text/plain": [
       "<IPython.core.display.Markdown object>"
      ]
     },
     "metadata": {},
     "output_type": "display_data"
    },
    {
     "data": {
      "text/markdown": [
       "13: paa jernbanen vilde ikke tage imod dem , <span style='color:red'>jeg</span> <span style='color:red'>er</span> overbevist om , at det var"
      ],
      "text/plain": [
       "<IPython.core.display.Markdown object>"
      ]
     },
     "metadata": {},
     "output_type": "display_data"
    },
    {
     "data": {
      "text/markdown": [
       "19: studier , men det kan godt være , <span style='color:red'>jeg</span> <span style='color:red'>er</span> kommet ind paa noget andet nu"
      ],
      "text/plain": [
       "<IPython.core.display.Markdown object>"
      ]
     },
     "metadata": {},
     "output_type": "display_data"
    },
    {
     "data": {
      "text/markdown": [
       "27: "
      ],
      "text/plain": [
       "<IPython.core.display.Markdown object>"
      ]
     },
     "metadata": {},
     "output_type": "display_data"
    },
    {
     "data": {
      "text/markdown": [
       "29: <span style='color:red'>jeg</span> faa nok at gjøre . Men hvor <span style='color:red'>jeg</span> <span style='color:red'>er</span> ynkelig , det <span style='color:red'>er</span> rent komisk"
      ],
      "text/plain": [
       "<IPython.core.display.Markdown object>"
      ]
     },
     "metadata": {},
     "output_type": "display_data"
    },
    {
     "data": {
      "text/markdown": [
       "51: , om det <span style='color:red'>er</span> lykkedes eller ei ; <span style='color:red'>jeg</span> <span style='color:red'>er</span> bleven fêteret , intviteret – kort"
      ],
      "text/plain": [
       "<IPython.core.display.Markdown object>"
      ]
     },
     "metadata": {},
     "output_type": "display_data"
    },
    {
     "data": {
      "text/markdown": [
       "68: alle Folk tror at <span style='color:red'>jeg</span> morer , og <span style='color:red'>jeg</span> <span style='color:red'>er</span> altfor – ja <span style='color:red'>jeg</span> ved ikke"
      ],
      "text/plain": [
       "<IPython.core.display.Markdown object>"
      ]
     },
     "metadata": {},
     "output_type": "display_data"
    },
    {
     "data": {
      "text/markdown": [
       "68: at ville forsøge at modbevise det . Og <span style='color:red'>jeg</span> <span style='color:red'>er</span> heller ikke frisk ; hoster skrækkeligt"
      ],
      "text/plain": [
       "<IPython.core.display.Markdown object>"
      ]
     },
     "metadata": {},
     "output_type": "display_data"
    },
    {
     "data": {
      "text/markdown": [
       "68: drømmer blandt meget Andet hver Nat , at <span style='color:red'>jeg</span> <span style='color:red'>er</span> på mit Atelier og arbeider ."
      ],
      "text/plain": [
       "<IPython.core.display.Markdown object>"
      ]
     },
     "metadata": {},
     "output_type": "display_data"
    },
    {
     "data": {
      "text/markdown": [
       "68: <span style='color:red'>er</span> Noget i Luften , som gjør at <span style='color:red'>jeg</span> <span style='color:red'>er</span> fuldstændig « tummelumsk » i Hovedet"
      ],
      "text/plain": [
       "<IPython.core.display.Markdown object>"
      ]
     },
     "metadata": {},
     "output_type": "display_data"
    },
    {
     "data": {
      "text/markdown": [
       "68: Jeg må ofte bebreide mig selv , at <span style='color:red'>jeg</span> <span style='color:red'>er</span> så lidet glad i at være"
      ],
      "text/plain": [
       "<IPython.core.display.Markdown object>"
      ]
     },
     "metadata": {},
     "output_type": "display_data"
    },
    {
     "data": {
      "text/markdown": [
       "89: at få det så på Atelieret , at <span style='color:red'>jeg</span> <span style='color:red'>er</span> helst der ; thi hvor opmærksomme"
      ],
      "text/plain": [
       "<IPython.core.display.Markdown object>"
      ]
     },
     "metadata": {},
     "output_type": "display_data"
    },
    {
     "data": {
      "text/markdown": [
       "89: ikke Alvor i Noget af det – men <span style='color:red'>jeg</span> <span style='color:red'>er</span> stygt bange for , at han"
      ],
      "text/plain": [
       "<IPython.core.display.Markdown object>"
      ]
     },
     "metadata": {},
     "output_type": "display_data"
    },
    {
     "data": {
      "text/markdown": [
       "93: ikke lad dem indvirke paa , undskyld at <span style='color:red'>jeg</span> <span style='color:red'>er</span> saa vigtig at sige det ."
      ],
      "text/plain": [
       "<IPython.core.display.Markdown object>"
      ]
     },
     "metadata": {},
     "output_type": "display_data"
    },
    {
     "data": {
      "text/markdown": [
       "95: 1906 ) , maler . om dette , <span style='color:red'>jeg</span> <span style='color:red'>er</span> gjerrig paa det , de andre"
      ],
      "text/plain": [
       "<IPython.core.display.Markdown object>"
      ]
     },
     "metadata": {},
     "output_type": "display_data"
    },
    {
     "data": {
      "text/markdown": [
       "95: paa det , de andre vare reiste , <span style='color:red'>jeg</span> <span style='color:red'>er</span> den eneste , som har seet"
      ],
      "text/plain": [
       "<IPython.core.display.Markdown object>"
      ]
     },
     "metadata": {},
     "output_type": "display_data"
    },
    {
     "data": {
      "text/markdown": [
       "114: have lidt af hende den sidste tid , <span style='color:red'>jeg</span> <span style='color:red'>er</span> her , dertil havde hun igaar"
      ],
      "text/plain": [
       "<IPython.core.display.Markdown object>"
      ]
     },
     "metadata": {},
     "output_type": "display_data"
    },
    {
     "data": {
      "text/markdown": [
       "117: sig udsletter dog vist ikke skrivekunsten , saa <span style='color:red'>jeg</span> <span style='color:red'>er</span> lidt fornærmet , men bare lidt"
      ],
      "text/plain": [
       "<IPython.core.display.Markdown object>"
      ]
     },
     "metadata": {},
     "output_type": "display_data"
    },
    {
     "data": {
      "text/markdown": [
       "119: « saa langt og ikke længre » , <span style='color:red'>jeg</span> <span style='color:red'>er</span> ydmyg , at <span style='color:red'>jeg</span> kan sige"
      ],
      "text/plain": [
       "<IPython.core.display.Markdown object>"
      ]
     },
     "metadata": {},
     "output_type": "display_data"
    },
    {
     "data": {
      "text/markdown": [
       "119: aar , altertavlen og Judas undtaget . Nei <span style='color:red'>jeg</span> <span style='color:red'>er</span> egentlig ikke istand til at skrive"
      ],
      "text/plain": [
       "<IPython.core.display.Markdown object>"
      ]
     },
     "metadata": {},
     "output_type": "display_data"
    },
    {
     "data": {
      "text/markdown": [
       "127: Holme-Egenes fra 1863. det <span style='color:red'>er</span> nok adresse , <span style='color:red'>jeg</span> <span style='color:red'>er</span> vis paa at han gjerne vil"
      ],
      "text/plain": [
       "<IPython.core.display.Markdown object>"
      ]
     },
     "metadata": {},
     "output_type": "display_data"
    },
    {
     "data": {
      "text/markdown": [
       "128: , <span style='color:red'>jeg</span> har virkelig giort fremskridt iaar , <span style='color:red'>jeg</span> <span style='color:red'>er</span> rent bange for mig selv ,"
      ],
      "text/plain": [
       "<IPython.core.display.Markdown object>"
      ]
     },
     "metadata": {},
     "output_type": "display_data"
    },
    {
     "data": {
      "text/markdown": [
       "128: , at det kan være sløvhed , at <span style='color:red'>jeg</span> <span style='color:red'>er</span> fornøiet med det , <span style='color:red'>jeg</span> giør"
      ],
      "text/plain": [
       "<IPython.core.display.Markdown object>"
      ]
     },
     "metadata": {},
     "output_type": "display_data"
    },
    {
     "data": {
      "text/markdown": [
       "151: og heftig modløshed , sig Harriet , at <span style='color:red'>jeg</span> <span style='color:red'>er</span> bedre idag ."
      ],
      "text/plain": [
       "<IPython.core.display.Markdown object>"
      ]
     },
     "metadata": {},
     "output_type": "display_data"
    },
    {
     "data": {
      "text/markdown": [
       "157: skulde finde Ting at male , men <span style='color:red'>jeg</span> jeg <span style='color:red'>er</span> bange for , at det er"
      ],
      "text/plain": [
       "<IPython.core.display.Markdown object>"
      ]
     },
     "metadata": {},
     "output_type": "display_data"
    },
    {
     "data": {
      "text/markdown": [
       "157: vilde gjerne tage imod os begge – men <span style='color:red'>jeg</span> <span style='color:red'>er</span> lidt bange for , at MorMor"
      ],
      "text/plain": [
       "<IPython.core.display.Markdown object>"
      ]
     },
     "metadata": {},
     "output_type": "display_data"
    },
    {
     "data": {
      "text/markdown": [
       "158: var reist ind til Stavanger imorgentidlig , men <span style='color:red'>jeg</span> <span style='color:red'>er</span> så bange for at komme op"
      ],
      "text/plain": [
       "<IPython.core.display.Markdown object>"
      ]
     },
     "metadata": {},
     "output_type": "display_data"
    },
    {
     "data": {
      "text/markdown": [
       "228: skulde kommet her igaar , men udeblev , <span style='color:red'>jeg</span> <span style='color:red'>er</span> ræd , VedaVeda ] Vedastine «"
      ],
      "text/plain": [
       "<IPython.core.display.Markdown object>"
      ]
     },
     "metadata": {},
     "output_type": "display_data"
    },
    {
     "data": {
      "text/markdown": [
       "230: han helst vilde ha altid hos sig , <span style='color:red'>jeg</span> <span style='color:red'>er</span> ofte med. Det kan ikke være"
      ],
      "text/plain": [
       "<IPython.core.display.Markdown object>"
      ]
     },
     "metadata": {},
     "output_type": "display_data"
    },
    {
     "data": {
      "text/markdown": [
       "235: "
      ],
      "text/plain": [
       "<IPython.core.display.Markdown object>"
      ]
     },
     "metadata": {},
     "output_type": "display_data"
    },
    {
     "data": {
      "text/markdown": [
       "250: kommet ind i det hele der , hvilket <span style='color:red'>jeg</span> <span style='color:red'>er</span> glad over , men derom kan"
      ],
      "text/plain": [
       "<IPython.core.display.Markdown object>"
      ]
     },
     "metadata": {},
     "output_type": "display_data"
    }
   ],
   "source": [
    "for i in korpus_konk(['jeg', 'er'], kilder_korpus, before=8, after=8):\n",
    "    try:\n",
    "        display(Markdown(i))\n",
    "    except:\n",
    "        print(i)"
   ]
  },
  {
   "cell_type": "markdown",
   "metadata": {},
   "source": [
    "### Søk med regulære uttrykk\n",
    "\n",
    "Eksempler på syntaks for regulære uttrykk:\n",
    "*   \"henne[^ ]* \"  - henne + x antall vilkårlige tegn etter, etterfulgt av mellomrom.\n",
    "*   \" henne[^ ] \" - mellomrom + henne + et vilkårlig tegn etter, etterfulgt av mellomrom.\n",
    "*   \"henne[^ ]r[^ ] \" - henne + et vilkårlig tegn + r + et vilkårlig tegn, etterfulgt av mellomrom."
   ]
  },
  {
   "cell_type": "code",
   "execution_count": 7,
   "metadata": {},
   "outputs": [
    {
     "data": {
      "text/markdown": [
       "#### NBkilder_KKielland_AGarborg_brev.xml"
      ],
      "text/plain": [
       "<IPython.core.display.Markdown object>"
      ]
     },
     "metadata": {},
     "output_type": "display_data"
    },
    {
     "data": {
      "text/markdown": [
       "301: rriet] Harriet Backer (1845–1932), kunstner Spørg <span style='color:red'>henne, </span>om hun vil gjøre mig en liden Skizze af en eller a"
      ],
      "text/plain": [
       "<IPython.core.display.Markdown object>"
      ]
     },
     "metadata": {},
     "output_type": "display_data"
    },
    {
     "data": {
      "text/markdown": [
       "399: ). Han tegnet ulike modeller, så usikkert hvordan <span style='color:red'>hennes </span>så ut. Kilde: Ingrid Blekastad: «Naturalisten Fred"
      ],
      "text/plain": [
       "<IPython.core.display.Markdown object>"
      ]
     },
     "metadata": {},
     "output_type": "display_data"
    }
   ],
   "source": [
    "for i in konk_regex(\"henne[^ ]* \", kilder_korpus_string, before=50, after=50, colour=\"red\"):\n",
    "    display(Markdown(i))"
   ]
  },
  {
   "cell_type": "code",
   "execution_count": null,
   "metadata": {},
   "outputs": [],
   "source": []
  }
 ],
 "metadata": {
  "kernelspec": {
   "display_name": "Python 3",
   "language": "python",
   "name": "python3"
  },
  "language_info": {
   "codemirror_mode": {
    "name": "ipython",
    "version": 3
   },
   "file_extension": ".py",
   "mimetype": "text/x-python",
   "name": "python",
   "nbconvert_exporter": "python",
   "pygments_lexer": "ipython3",
   "version": "3.7.1"
  }
 },
 "nbformat": 4,
 "nbformat_minor": 2
}
