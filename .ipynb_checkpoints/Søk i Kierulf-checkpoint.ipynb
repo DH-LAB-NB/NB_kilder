{
 "cells": [
  {
   "cell_type": "markdown",
   "metadata": {},
   "source": [
    "# Kode og kommandoer\n",
    "\n",
    "Alle de nedenfor skal gi grunnleggende funksjonalitet for å arbeide med materialet. Alt kan knyttes til en webside etter hvert.\n",
    "\n",
    "Husk å trykke på Run helt fra toppen."
   ]
  },
  {
   "cell_type": "code",
   "execution_count": 1,
   "metadata": {},
   "outputs": [],
   "source": [
    "import dhlab.nbtext as nb\n",
    "from dhlab.nbtokenizer import tokenize\n",
    "from collections import Counter\n",
    "import pandas as pd\n",
    "\n",
    "import zipfile\n",
    "from bs4 import BeautifulSoup\n",
    "import sys\n",
    "import zipfile\n",
    "import re\n",
    "from IPython.display import display, Markdown\n",
    "\n",
    "## Korpuset kommer som en zip\n",
    "\n",
    "from corpus import *"
   ]
  },
  {
   "cell_type": "markdown",
   "metadata": {},
   "source": [
    "# Lag kilder\n",
    "\n",
    "Fra en zip-fil lag et korpus som kan brukes av kommandoene over."
   ]
  },
  {
   "cell_type": "code",
   "execution_count": 2,
   "metadata": {},
   "outputs": [],
   "source": [
    "kildezip = \"NBkilder_Kjerulf.zip\"\n",
    "\n",
    "kildefiler = get_files_from_zip(kildezip)\n",
    "\n",
    "kilder_korpus = make_corpus(kildezip)\n",
    "\n",
    "kilder_korpus_string = make_corpus(kildezip, extraction= extract_text_as_string)"
   ]
  },
  {
   "cell_type": "markdown",
   "metadata": {},
   "source": [
    "# Liste over utgaver som er med i korpuset"
   ]
  },
  {
   "cell_type": "code",
   "execution_count": 3,
   "metadata": {},
   "outputs": [
    {
     "name": "stdout",
     "output_type": "stream",
     "text": [
      "NBkilder_Kjerulf_1833.xml\n",
      "NBkilder_Kjerulf_1840.xml\n",
      "NBkilder_Kjerulf_1850.xml\n",
      "NBkilder_Kjerulf_1851.xml\n",
      "NBkilder_Kjerulf_1852.xml\n",
      "NBkilder_Kjerulf_1854.xml\n"
     ]
    }
   ],
   "source": [
    "kilder_dtm = make_dtm(kilder_korpus).fillna(0)"
   ]
  },
  {
   "cell_type": "markdown",
   "metadata": {},
   "source": [
    "### Undersøk høyfrekvente ord\n",
    "\n",
    "Tabellen viser de mest brukte ordene, sortert etter den utgaven som er merket med rødt. Velg andre utgaver fra lista over. \n",
    "Tallet i parentes etter head angir hvor mange ord du vil se på.\n"
   ]
  },
  {
   "cell_type": "code",
   "execution_count": 4,
   "metadata": {},
   "outputs": [
    {
     "data": {
      "text/html": [
       "<style  type=\"text/css\" >\n",
       "    #T_d569fb30_4d71_11ea_aeba_0c5415364605row0_col0 {\n",
       "            background-color:  #023858;\n",
       "            color:  #f1f1f1;\n",
       "        }    #T_d569fb30_4d71_11ea_aeba_0c5415364605row0_col1 {\n",
       "            background-color:  #0570b0;\n",
       "            color:  #f1f1f1;\n",
       "        }    #T_d569fb30_4d71_11ea_aeba_0c5415364605row0_col2 {\n",
       "            background-color:  #023858;\n",
       "            color:  #f1f1f1;\n",
       "        }    #T_d569fb30_4d71_11ea_aeba_0c5415364605row0_col3 {\n",
       "            background-color:  #023858;\n",
       "            color:  #f1f1f1;\n",
       "        }    #T_d569fb30_4d71_11ea_aeba_0c5415364605row0_col4 {\n",
       "            background-color:  #023858;\n",
       "            color:  #f1f1f1;\n",
       "        }    #T_d569fb30_4d71_11ea_aeba_0c5415364605row0_col5 {\n",
       "            background-color:  #023858;\n",
       "            color:  #f1f1f1;\n",
       "        }    #T_d569fb30_4d71_11ea_aeba_0c5415364605row1_col0 {\n",
       "            background-color:  #63a2cb;\n",
       "            color:  #000000;\n",
       "        }    #T_d569fb30_4d71_11ea_aeba_0c5415364605row1_col1 {\n",
       "            background-color:  #1c7fb8;\n",
       "            color:  #000000;\n",
       "        }    #T_d569fb30_4d71_11ea_aeba_0c5415364605row1_col2 {\n",
       "            background-color:  #cdd0e5;\n",
       "            color:  #000000;\n",
       "        }    #T_d569fb30_4d71_11ea_aeba_0c5415364605row1_col3 {\n",
       "            background-color:  #d5d5e8;\n",
       "            color:  #000000;\n",
       "        }    #T_d569fb30_4d71_11ea_aeba_0c5415364605row1_col4 {\n",
       "            background-color:  #f4edf6;\n",
       "            color:  #000000;\n",
       "        }    #T_d569fb30_4d71_11ea_aeba_0c5415364605row1_col5 {\n",
       "            background-color:  #e5e1ef;\n",
       "            color:  #000000;\n",
       "        }    #T_d569fb30_4d71_11ea_aeba_0c5415364605row2_col0 {\n",
       "            background-color:  #ced0e6;\n",
       "            color:  #000000;\n",
       "        }    #T_d569fb30_4d71_11ea_aeba_0c5415364605row2_col1 {\n",
       "            background-color:  #d8d7e9;\n",
       "            color:  #000000;\n",
       "        }    #T_d569fb30_4d71_11ea_aeba_0c5415364605row2_col2 {\n",
       "            background-color:  #e7e3f0;\n",
       "            color:  #000000;\n",
       "        }    #T_d569fb30_4d71_11ea_aeba_0c5415364605row2_col3 {\n",
       "            background-color:  #e3e0ee;\n",
       "            color:  #000000;\n",
       "        }    #T_d569fb30_4d71_11ea_aeba_0c5415364605row2_col4 {\n",
       "            background-color:  #f0eaf4;\n",
       "            color:  #000000;\n",
       "        }    #T_d569fb30_4d71_11ea_aeba_0c5415364605row2_col5 {\n",
       "            background-color:  #e4e1ef;\n",
       "            color:  #000000;\n",
       "        }    #T_d569fb30_4d71_11ea_aeba_0c5415364605row3_col0 {\n",
       "            background-color:  #d8d7e9;\n",
       "            color:  #000000;\n",
       "        }    #T_d569fb30_4d71_11ea_aeba_0c5415364605row3_col1 {\n",
       "            background-color:  #fff7fb;\n",
       "            color:  #000000;\n",
       "        }    #T_d569fb30_4d71_11ea_aeba_0c5415364605row3_col2 {\n",
       "            background-color:  #fff7fb;\n",
       "            color:  #000000;\n",
       "        }    #T_d569fb30_4d71_11ea_aeba_0c5415364605row3_col3 {\n",
       "            background-color:  #fff7fb;\n",
       "            color:  #000000;\n",
       "        }    #T_d569fb30_4d71_11ea_aeba_0c5415364605row3_col4 {\n",
       "            background-color:  #fff7fb;\n",
       "            color:  #000000;\n",
       "        }    #T_d569fb30_4d71_11ea_aeba_0c5415364605row3_col5 {\n",
       "            background-color:  #fff7fb;\n",
       "            color:  #000000;\n",
       "        }    #T_d569fb30_4d71_11ea_aeba_0c5415364605row4_col0 {\n",
       "            background-color:  #dddbec;\n",
       "            color:  #000000;\n",
       "        }    #T_d569fb30_4d71_11ea_aeba_0c5415364605row4_col1 {\n",
       "            background-color:  #023858;\n",
       "            color:  #f1f1f1;\n",
       "        }    #T_d569fb30_4d71_11ea_aeba_0c5415364605row4_col2 {\n",
       "            background-color:  #a5bddb;\n",
       "            color:  #000000;\n",
       "        }    #T_d569fb30_4d71_11ea_aeba_0c5415364605row4_col3 {\n",
       "            background-color:  #a7bddb;\n",
       "            color:  #000000;\n",
       "        }    #T_d569fb30_4d71_11ea_aeba_0c5415364605row4_col4 {\n",
       "            background-color:  #e7e3f0;\n",
       "            color:  #000000;\n",
       "        }    #T_d569fb30_4d71_11ea_aeba_0c5415364605row4_col5 {\n",
       "            background-color:  #a1bbda;\n",
       "            color:  #000000;\n",
       "        }    #T_d569fb30_4d71_11ea_aeba_0c5415364605row5_col0 {\n",
       "            background-color:  #dddbec;\n",
       "            color:  #000000;\n",
       "        }    #T_d569fb30_4d71_11ea_aeba_0c5415364605row5_col1 {\n",
       "            background-color:  #80aed2;\n",
       "            color:  #000000;\n",
       "        }    #T_d569fb30_4d71_11ea_aeba_0c5415364605row5_col2 {\n",
       "            background-color:  #cdd0e5;\n",
       "            color:  #000000;\n",
       "        }    #T_d569fb30_4d71_11ea_aeba_0c5415364605row5_col3 {\n",
       "            background-color:  #f3edf5;\n",
       "            color:  #000000;\n",
       "        }    #T_d569fb30_4d71_11ea_aeba_0c5415364605row5_col4 {\n",
       "            background-color:  #056caa;\n",
       "            color:  #f1f1f1;\n",
       "        }    #T_d569fb30_4d71_11ea_aeba_0c5415364605row5_col5 {\n",
       "            background-color:  #d5d5e8;\n",
       "            color:  #000000;\n",
       "        }    #T_d569fb30_4d71_11ea_aeba_0c5415364605row6_col0 {\n",
       "            background-color:  #efe9f3;\n",
       "            color:  #000000;\n",
       "        }    #T_d569fb30_4d71_11ea_aeba_0c5415364605row6_col1 {\n",
       "            background-color:  #fdf5fa;\n",
       "            color:  #000000;\n",
       "        }    #T_d569fb30_4d71_11ea_aeba_0c5415364605row6_col2 {\n",
       "            background-color:  #f6eff7;\n",
       "            color:  #000000;\n",
       "        }    #T_d569fb30_4d71_11ea_aeba_0c5415364605row6_col3 {\n",
       "            background-color:  #f8f1f8;\n",
       "            color:  #000000;\n",
       "        }    #T_d569fb30_4d71_11ea_aeba_0c5415364605row6_col4 {\n",
       "            background-color:  #fcf4fa;\n",
       "            color:  #000000;\n",
       "        }    #T_d569fb30_4d71_11ea_aeba_0c5415364605row6_col5 {\n",
       "            background-color:  #fef6fa;\n",
       "            color:  #000000;\n",
       "        }    #T_d569fb30_4d71_11ea_aeba_0c5415364605row7_col0 {\n",
       "            background-color:  #f1ebf4;\n",
       "            color:  #000000;\n",
       "        }    #T_d569fb30_4d71_11ea_aeba_0c5415364605row7_col1 {\n",
       "            background-color:  #dfddec;\n",
       "            color:  #000000;\n",
       "        }    #T_d569fb30_4d71_11ea_aeba_0c5415364605row7_col2 {\n",
       "            background-color:  #f7f0f7;\n",
       "            color:  #000000;\n",
       "        }    #T_d569fb30_4d71_11ea_aeba_0c5415364605row7_col3 {\n",
       "            background-color:  #f8f1f8;\n",
       "            color:  #000000;\n",
       "        }    #T_d569fb30_4d71_11ea_aeba_0c5415364605row7_col4 {\n",
       "            background-color:  #fdf5fa;\n",
       "            color:  #000000;\n",
       "        }    #T_d569fb30_4d71_11ea_aeba_0c5415364605row7_col5 {\n",
       "            background-color:  #f0eaf4;\n",
       "            color:  #000000;\n",
       "        }    #T_d569fb30_4d71_11ea_aeba_0c5415364605row8_col0 {\n",
       "            background-color:  #f1ebf5;\n",
       "            color:  #000000;\n",
       "        }    #T_d569fb30_4d71_11ea_aeba_0c5415364605row8_col1 {\n",
       "            background-color:  #7dacd1;\n",
       "            color:  #000000;\n",
       "        }    #T_d569fb30_4d71_11ea_aeba_0c5415364605row8_col2 {\n",
       "            background-color:  #d8d7e9;\n",
       "            color:  #000000;\n",
       "        }    #T_d569fb30_4d71_11ea_aeba_0c5415364605row8_col3 {\n",
       "            background-color:  #d9d8ea;\n",
       "            color:  #000000;\n",
       "        }    #T_d569fb30_4d71_11ea_aeba_0c5415364605row8_col4 {\n",
       "            background-color:  #f4eef6;\n",
       "            color:  #000000;\n",
       "        }    #T_d569fb30_4d71_11ea_aeba_0c5415364605row8_col5 {\n",
       "            background-color:  #d3d4e7;\n",
       "            color:  #000000;\n",
       "        }    #T_d569fb30_4d71_11ea_aeba_0c5415364605row9_col0 {\n",
       "            background-color:  #f2ecf5;\n",
       "            color:  #000000;\n",
       "        }    #T_d569fb30_4d71_11ea_aeba_0c5415364605row9_col1 {\n",
       "            background-color:  #dfddec;\n",
       "            color:  #000000;\n",
       "        }    #T_d569fb30_4d71_11ea_aeba_0c5415364605row9_col2 {\n",
       "            background-color:  #f1ebf5;\n",
       "            color:  #000000;\n",
       "        }    #T_d569fb30_4d71_11ea_aeba_0c5415364605row9_col3 {\n",
       "            background-color:  #f2ecf5;\n",
       "            color:  #000000;\n",
       "        }    #T_d569fb30_4d71_11ea_aeba_0c5415364605row9_col4 {\n",
       "            background-color:  #f7f0f7;\n",
       "            color:  #000000;\n",
       "        }    #T_d569fb30_4d71_11ea_aeba_0c5415364605row9_col5 {\n",
       "            background-color:  #e6e2ef;\n",
       "            color:  #000000;\n",
       "        }    #T_d569fb30_4d71_11ea_aeba_0c5415364605row10_col0 {\n",
       "            background-color:  #f4eef6;\n",
       "            color:  #000000;\n",
       "        }    #T_d569fb30_4d71_11ea_aeba_0c5415364605row10_col1 {\n",
       "            background-color:  #c6cce3;\n",
       "            color:  #000000;\n",
       "        }    #T_d569fb30_4d71_11ea_aeba_0c5415364605row10_col2 {\n",
       "            background-color:  #f2ecf5;\n",
       "            color:  #000000;\n",
       "        }    #T_d569fb30_4d71_11ea_aeba_0c5415364605row10_col3 {\n",
       "            background-color:  #f4edf6;\n",
       "            color:  #000000;\n",
       "        }    #T_d569fb30_4d71_11ea_aeba_0c5415364605row10_col4 {\n",
       "            background-color:  #fef6fa;\n",
       "            color:  #000000;\n",
       "        }    #T_d569fb30_4d71_11ea_aeba_0c5415364605row10_col5 {\n",
       "            background-color:  #f7f0f7;\n",
       "            color:  #000000;\n",
       "        }    #T_d569fb30_4d71_11ea_aeba_0c5415364605row11_col0 {\n",
       "            background-color:  #f4eef6;\n",
       "            color:  #000000;\n",
       "        }    #T_d569fb30_4d71_11ea_aeba_0c5415364605row11_col1 {\n",
       "            background-color:  #dad9ea;\n",
       "            color:  #000000;\n",
       "        }    #T_d569fb30_4d71_11ea_aeba_0c5415364605row11_col2 {\n",
       "            background-color:  #f4edf6;\n",
       "            color:  #000000;\n",
       "        }    #T_d569fb30_4d71_11ea_aeba_0c5415364605row11_col3 {\n",
       "            background-color:  #f2ecf5;\n",
       "            color:  #000000;\n",
       "        }    #T_d569fb30_4d71_11ea_aeba_0c5415364605row11_col4 {\n",
       "            background-color:  #fdf5fa;\n",
       "            color:  #000000;\n",
       "        }    #T_d569fb30_4d71_11ea_aeba_0c5415364605row11_col5 {\n",
       "            background-color:  #e7e3f0;\n",
       "            color:  #000000;\n",
       "        }    #T_d569fb30_4d71_11ea_aeba_0c5415364605row12_col0 {\n",
       "            background-color:  #f7f0f7;\n",
       "            color:  #000000;\n",
       "        }    #T_d569fb30_4d71_11ea_aeba_0c5415364605row12_col1 {\n",
       "            background-color:  #fef6fb;\n",
       "            color:  #000000;\n",
       "        }    #T_d569fb30_4d71_11ea_aeba_0c5415364605row12_col2 {\n",
       "            background-color:  #ede8f3;\n",
       "            color:  #000000;\n",
       "        }    #T_d569fb30_4d71_11ea_aeba_0c5415364605row12_col3 {\n",
       "            background-color:  #eee9f3;\n",
       "            color:  #000000;\n",
       "        }    #T_d569fb30_4d71_11ea_aeba_0c5415364605row12_col4 {\n",
       "            background-color:  #d6d6e9;\n",
       "            color:  #000000;\n",
       "        }    #T_d569fb30_4d71_11ea_aeba_0c5415364605row12_col5 {\n",
       "            background-color:  #f7f0f7;\n",
       "            color:  #000000;\n",
       "        }    #T_d569fb30_4d71_11ea_aeba_0c5415364605row13_col0 {\n",
       "            background-color:  #f8f1f8;\n",
       "            color:  #000000;\n",
       "        }    #T_d569fb30_4d71_11ea_aeba_0c5415364605row13_col1 {\n",
       "            background-color:  #fef6fb;\n",
       "            color:  #000000;\n",
       "        }    #T_d569fb30_4d71_11ea_aeba_0c5415364605row13_col2 {\n",
       "            background-color:  #eee8f3;\n",
       "            color:  #000000;\n",
       "        }    #T_d569fb30_4d71_11ea_aeba_0c5415364605row13_col3 {\n",
       "            background-color:  #efe9f3;\n",
       "            color:  #000000;\n",
       "        }    #T_d569fb30_4d71_11ea_aeba_0c5415364605row13_col4 {\n",
       "            background-color:  #d6d6e9;\n",
       "            color:  #000000;\n",
       "        }    #T_d569fb30_4d71_11ea_aeba_0c5415364605row13_col5 {\n",
       "            background-color:  #f7f0f7;\n",
       "            color:  #000000;\n",
       "        }    #T_d569fb30_4d71_11ea_aeba_0c5415364605row14_col0 {\n",
       "            background-color:  #f8f1f8;\n",
       "            color:  #000000;\n",
       "        }    #T_d569fb30_4d71_11ea_aeba_0c5415364605row14_col1 {\n",
       "            background-color:  #b8c6e0;\n",
       "            color:  #000000;\n",
       "        }    #T_d569fb30_4d71_11ea_aeba_0c5415364605row14_col2 {\n",
       "            background-color:  #eee8f3;\n",
       "            color:  #000000;\n",
       "        }    #T_d569fb30_4d71_11ea_aeba_0c5415364605row14_col3 {\n",
       "            background-color:  #ede8f3;\n",
       "            color:  #000000;\n",
       "        }    #T_d569fb30_4d71_11ea_aeba_0c5415364605row14_col4 {\n",
       "            background-color:  #faf2f8;\n",
       "            color:  #000000;\n",
       "        }    #T_d569fb30_4d71_11ea_aeba_0c5415364605row14_col5 {\n",
       "            background-color:  #eee8f3;\n",
       "            color:  #000000;\n",
       "        }    #T_d569fb30_4d71_11ea_aeba_0c5415364605row15_col0 {\n",
       "            background-color:  #f8f1f8;\n",
       "            color:  #000000;\n",
       "        }    #T_d569fb30_4d71_11ea_aeba_0c5415364605row15_col1 {\n",
       "            background-color:  #f8f1f8;\n",
       "            color:  #000000;\n",
       "        }    #T_d569fb30_4d71_11ea_aeba_0c5415364605row15_col2 {\n",
       "            background-color:  #fdf5fa;\n",
       "            color:  #000000;\n",
       "        }    #T_d569fb30_4d71_11ea_aeba_0c5415364605row15_col3 {\n",
       "            background-color:  #fbf4f9;\n",
       "            color:  #000000;\n",
       "        }    #T_d569fb30_4d71_11ea_aeba_0c5415364605row15_col4 {\n",
       "            background-color:  #fef6fb;\n",
       "            color:  #000000;\n",
       "        }    #T_d569fb30_4d71_11ea_aeba_0c5415364605row15_col5 {\n",
       "            background-color:  #fdf5fa;\n",
       "            color:  #000000;\n",
       "        }    #T_d569fb30_4d71_11ea_aeba_0c5415364605row16_col0 {\n",
       "            background-color:  #f8f1f8;\n",
       "            color:  #000000;\n",
       "        }    #T_d569fb30_4d71_11ea_aeba_0c5415364605row16_col1 {\n",
       "            background-color:  #e5e1ef;\n",
       "            color:  #000000;\n",
       "        }    #T_d569fb30_4d71_11ea_aeba_0c5415364605row16_col2 {\n",
       "            background-color:  #f2ecf5;\n",
       "            color:  #000000;\n",
       "        }    #T_d569fb30_4d71_11ea_aeba_0c5415364605row16_col3 {\n",
       "            background-color:  #efe9f3;\n",
       "            color:  #000000;\n",
       "        }    #T_d569fb30_4d71_11ea_aeba_0c5415364605row16_col4 {\n",
       "            background-color:  #faf2f8;\n",
       "            color:  #000000;\n",
       "        }    #T_d569fb30_4d71_11ea_aeba_0c5415364605row16_col5 {\n",
       "            background-color:  #f1ebf5;\n",
       "            color:  #000000;\n",
       "        }    #T_d569fb30_4d71_11ea_aeba_0c5415364605row17_col0 {\n",
       "            background-color:  #f9f2f8;\n",
       "            color:  #000000;\n",
       "        }    #T_d569fb30_4d71_11ea_aeba_0c5415364605row17_col1 {\n",
       "            background-color:  #fef6fb;\n",
       "            color:  #000000;\n",
       "        }    #T_d569fb30_4d71_11ea_aeba_0c5415364605row17_col2 {\n",
       "            background-color:  #fdf5fa;\n",
       "            color:  #000000;\n",
       "        }    #T_d569fb30_4d71_11ea_aeba_0c5415364605row17_col3 {\n",
       "            background-color:  #fef6fa;\n",
       "            color:  #000000;\n",
       "        }    #T_d569fb30_4d71_11ea_aeba_0c5415364605row17_col4 {\n",
       "            background-color:  #fef6fa;\n",
       "            color:  #000000;\n",
       "        }    #T_d569fb30_4d71_11ea_aeba_0c5415364605row17_col5 {\n",
       "            background-color:  #fef6fb;\n",
       "            color:  #000000;\n",
       "        }    #T_d569fb30_4d71_11ea_aeba_0c5415364605row18_col0 {\n",
       "            background-color:  #faf2f8;\n",
       "            color:  #000000;\n",
       "        }    #T_d569fb30_4d71_11ea_aeba_0c5415364605row18_col1 {\n",
       "            background-color:  #f3edf5;\n",
       "            color:  #000000;\n",
       "        }    #T_d569fb30_4d71_11ea_aeba_0c5415364605row18_col2 {\n",
       "            background-color:  #faf3f9;\n",
       "            color:  #000000;\n",
       "        }    #T_d569fb30_4d71_11ea_aeba_0c5415364605row18_col3 {\n",
       "            background-color:  #fbf3f9;\n",
       "            color:  #000000;\n",
       "        }    #T_d569fb30_4d71_11ea_aeba_0c5415364605row18_col4 {\n",
       "            background-color:  #fbf3f9;\n",
       "            color:  #000000;\n",
       "        }    #T_d569fb30_4d71_11ea_aeba_0c5415364605row18_col5 {\n",
       "            background-color:  #f7f0f7;\n",
       "            color:  #000000;\n",
       "        }    #T_d569fb30_4d71_11ea_aeba_0c5415364605row19_col0 {\n",
       "            background-color:  #faf2f8;\n",
       "            color:  #000000;\n",
       "        }    #T_d569fb30_4d71_11ea_aeba_0c5415364605row19_col1 {\n",
       "            background-color:  #dad9ea;\n",
       "            color:  #000000;\n",
       "        }    #T_d569fb30_4d71_11ea_aeba_0c5415364605row19_col2 {\n",
       "            background-color:  #f5eef6;\n",
       "            color:  #000000;\n",
       "        }    #T_d569fb30_4d71_11ea_aeba_0c5415364605row19_col3 {\n",
       "            background-color:  #f5eff6;\n",
       "            color:  #000000;\n",
       "        }    #T_d569fb30_4d71_11ea_aeba_0c5415364605row19_col4 {\n",
       "            background-color:  #fcf4fa;\n",
       "            color:  #000000;\n",
       "        }    #T_d569fb30_4d71_11ea_aeba_0c5415364605row19_col5 {\n",
       "            background-color:  #f4edf6;\n",
       "            color:  #000000;\n",
       "        }    #T_d569fb30_4d71_11ea_aeba_0c5415364605row20_col0 {\n",
       "            background-color:  #faf3f9;\n",
       "            color:  #000000;\n",
       "        }    #T_d569fb30_4d71_11ea_aeba_0c5415364605row20_col1 {\n",
       "            background-color:  #faf3f9;\n",
       "            color:  #000000;\n",
       "        }    #T_d569fb30_4d71_11ea_aeba_0c5415364605row20_col2 {\n",
       "            background-color:  #fef6fb;\n",
       "            color:  #000000;\n",
       "        }    #T_d569fb30_4d71_11ea_aeba_0c5415364605row20_col3 {\n",
       "            background-color:  #fef6fa;\n",
       "            color:  #000000;\n",
       "        }    #T_d569fb30_4d71_11ea_aeba_0c5415364605row20_col4 {\n",
       "            background-color:  #fff7fb;\n",
       "            color:  #000000;\n",
       "        }    #T_d569fb30_4d71_11ea_aeba_0c5415364605row20_col5 {\n",
       "            background-color:  #fcf4fa;\n",
       "            color:  #000000;\n",
       "        }    #T_d569fb30_4d71_11ea_aeba_0c5415364605row21_col0 {\n",
       "            background-color:  #faf3f9;\n",
       "            color:  #000000;\n",
       "        }    #T_d569fb30_4d71_11ea_aeba_0c5415364605row21_col1 {\n",
       "            background-color:  #fff7fb;\n",
       "            color:  #000000;\n",
       "        }    #T_d569fb30_4d71_11ea_aeba_0c5415364605row21_col2 {\n",
       "            background-color:  #fff7fb;\n",
       "            color:  #000000;\n",
       "        }    #T_d569fb30_4d71_11ea_aeba_0c5415364605row21_col3 {\n",
       "            background-color:  #fff7fb;\n",
       "            color:  #000000;\n",
       "        }    #T_d569fb30_4d71_11ea_aeba_0c5415364605row21_col4 {\n",
       "            background-color:  #fff7fb;\n",
       "            color:  #000000;\n",
       "        }    #T_d569fb30_4d71_11ea_aeba_0c5415364605row21_col5 {\n",
       "            background-color:  #fff7fb;\n",
       "            color:  #000000;\n",
       "        }    #T_d569fb30_4d71_11ea_aeba_0c5415364605row22_col0 {\n",
       "            background-color:  #fbf4f9;\n",
       "            color:  #000000;\n",
       "        }    #T_d569fb30_4d71_11ea_aeba_0c5415364605row22_col1 {\n",
       "            background-color:  #fff7fb;\n",
       "            color:  #000000;\n",
       "        }    #T_d569fb30_4d71_11ea_aeba_0c5415364605row22_col2 {\n",
       "            background-color:  #fef6fa;\n",
       "            color:  #000000;\n",
       "        }    #T_d569fb30_4d71_11ea_aeba_0c5415364605row22_col3 {\n",
       "            background-color:  #fef6fb;\n",
       "            color:  #000000;\n",
       "        }    #T_d569fb30_4d71_11ea_aeba_0c5415364605row22_col4 {\n",
       "            background-color:  #fff7fb;\n",
       "            color:  #000000;\n",
       "        }    #T_d569fb30_4d71_11ea_aeba_0c5415364605row22_col5 {\n",
       "            background-color:  #fff7fb;\n",
       "            color:  #000000;\n",
       "        }    #T_d569fb30_4d71_11ea_aeba_0c5415364605row23_col0 {\n",
       "            background-color:  #fbf4f9;\n",
       "            color:  #000000;\n",
       "        }    #T_d569fb30_4d71_11ea_aeba_0c5415364605row23_col1 {\n",
       "            background-color:  #f5eff6;\n",
       "            color:  #000000;\n",
       "        }    #T_d569fb30_4d71_11ea_aeba_0c5415364605row23_col2 {\n",
       "            background-color:  #faf2f8;\n",
       "            color:  #000000;\n",
       "        }    #T_d569fb30_4d71_11ea_aeba_0c5415364605row23_col3 {\n",
       "            background-color:  #faf3f9;\n",
       "            color:  #000000;\n",
       "        }    #T_d569fb30_4d71_11ea_aeba_0c5415364605row23_col4 {\n",
       "            background-color:  #fdf5fa;\n",
       "            color:  #000000;\n",
       "        }    #T_d569fb30_4d71_11ea_aeba_0c5415364605row23_col5 {\n",
       "            background-color:  #f8f1f8;\n",
       "            color:  #000000;\n",
       "        }    #T_d569fb30_4d71_11ea_aeba_0c5415364605row24_col0 {\n",
       "            background-color:  #fcf4fa;\n",
       "            color:  #000000;\n",
       "        }    #T_d569fb30_4d71_11ea_aeba_0c5415364605row24_col1 {\n",
       "            background-color:  #e7e3f0;\n",
       "            color:  #000000;\n",
       "        }    #T_d569fb30_4d71_11ea_aeba_0c5415364605row24_col2 {\n",
       "            background-color:  #f8f1f8;\n",
       "            color:  #000000;\n",
       "        }    #T_d569fb30_4d71_11ea_aeba_0c5415364605row24_col3 {\n",
       "            background-color:  #f8f1f8;\n",
       "            color:  #000000;\n",
       "        }    #T_d569fb30_4d71_11ea_aeba_0c5415364605row24_col4 {\n",
       "            background-color:  #fdf5fa;\n",
       "            color:  #000000;\n",
       "        }    #T_d569fb30_4d71_11ea_aeba_0c5415364605row24_col5 {\n",
       "            background-color:  #f7f0f7;\n",
       "            color:  #000000;\n",
       "        }    #T_d569fb30_4d71_11ea_aeba_0c5415364605row25_col0 {\n",
       "            background-color:  #fcf4fa;\n",
       "            color:  #000000;\n",
       "        }    #T_d569fb30_4d71_11ea_aeba_0c5415364605row25_col1 {\n",
       "            background-color:  #cdd0e5;\n",
       "            color:  #000000;\n",
       "        }    #T_d569fb30_4d71_11ea_aeba_0c5415364605row25_col2 {\n",
       "            background-color:  #f2ecf5;\n",
       "            color:  #000000;\n",
       "        }    #T_d569fb30_4d71_11ea_aeba_0c5415364605row25_col3 {\n",
       "            background-color:  #f4edf6;\n",
       "            color:  #000000;\n",
       "        }    #T_d569fb30_4d71_11ea_aeba_0c5415364605row25_col4 {\n",
       "            background-color:  #fdf5fa;\n",
       "            color:  #000000;\n",
       "        }    #T_d569fb30_4d71_11ea_aeba_0c5415364605row25_col5 {\n",
       "            background-color:  #f3edf5;\n",
       "            color:  #000000;\n",
       "        }    #T_d569fb30_4d71_11ea_aeba_0c5415364605row26_col0 {\n",
       "            background-color:  #fcf4fa;\n",
       "            color:  #000000;\n",
       "        }    #T_d569fb30_4d71_11ea_aeba_0c5415364605row26_col1 {\n",
       "            background-color:  #d0d1e6;\n",
       "            color:  #000000;\n",
       "        }    #T_d569fb30_4d71_11ea_aeba_0c5415364605row26_col2 {\n",
       "            background-color:  #f3edf5;\n",
       "            color:  #000000;\n",
       "        }    #T_d569fb30_4d71_11ea_aeba_0c5415364605row26_col3 {\n",
       "            background-color:  #f4edf6;\n",
       "            color:  #000000;\n",
       "        }    #T_d569fb30_4d71_11ea_aeba_0c5415364605row26_col4 {\n",
       "            background-color:  #fcf4fa;\n",
       "            color:  #000000;\n",
       "        }    #T_d569fb30_4d71_11ea_aeba_0c5415364605row26_col5 {\n",
       "            background-color:  #f2ecf5;\n",
       "            color:  #000000;\n",
       "        }    #T_d569fb30_4d71_11ea_aeba_0c5415364605row27_col0 {\n",
       "            background-color:  #fcf4fa;\n",
       "            color:  #000000;\n",
       "        }    #T_d569fb30_4d71_11ea_aeba_0c5415364605row27_col1 {\n",
       "            background-color:  #f8f1f8;\n",
       "            color:  #000000;\n",
       "        }    #T_d569fb30_4d71_11ea_aeba_0c5415364605row27_col2 {\n",
       "            background-color:  #fcf4fa;\n",
       "            color:  #000000;\n",
       "        }    #T_d569fb30_4d71_11ea_aeba_0c5415364605row27_col3 {\n",
       "            background-color:  #fbf4f9;\n",
       "            color:  #000000;\n",
       "        }    #T_d569fb30_4d71_11ea_aeba_0c5415364605row27_col4 {\n",
       "            background-color:  #fef6fb;\n",
       "            color:  #000000;\n",
       "        }    #T_d569fb30_4d71_11ea_aeba_0c5415364605row27_col5 {\n",
       "            background-color:  #f7f0f7;\n",
       "            color:  #000000;\n",
       "        }    #T_d569fb30_4d71_11ea_aeba_0c5415364605row28_col0 {\n",
       "            background-color:  #fdf5fa;\n",
       "            color:  #000000;\n",
       "        }    #T_d569fb30_4d71_11ea_aeba_0c5415364605row28_col1 {\n",
       "            background-color:  #fef6fb;\n",
       "            color:  #000000;\n",
       "        }    #T_d569fb30_4d71_11ea_aeba_0c5415364605row28_col2 {\n",
       "            background-color:  #fcf4fa;\n",
       "            color:  #000000;\n",
       "        }    #T_d569fb30_4d71_11ea_aeba_0c5415364605row28_col3 {\n",
       "            background-color:  #faf3f9;\n",
       "            color:  #000000;\n",
       "        }    #T_d569fb30_4d71_11ea_aeba_0c5415364605row28_col4 {\n",
       "            background-color:  #f6eff7;\n",
       "            color:  #000000;\n",
       "        }    #T_d569fb30_4d71_11ea_aeba_0c5415364605row28_col5 {\n",
       "            background-color:  #fdf5fa;\n",
       "            color:  #000000;\n",
       "        }    #T_d569fb30_4d71_11ea_aeba_0c5415364605row29_col0 {\n",
       "            background-color:  #fdf5fa;\n",
       "            color:  #000000;\n",
       "        }    #T_d569fb30_4d71_11ea_aeba_0c5415364605row29_col1 {\n",
       "            background-color:  #c8cde4;\n",
       "            color:  #000000;\n",
       "        }    #T_d569fb30_4d71_11ea_aeba_0c5415364605row29_col2 {\n",
       "            background-color:  #f1ebf4;\n",
       "            color:  #000000;\n",
       "        }    #T_d569fb30_4d71_11ea_aeba_0c5415364605row29_col3 {\n",
       "            background-color:  #f2ecf5;\n",
       "            color:  #000000;\n",
       "        }    #T_d569fb30_4d71_11ea_aeba_0c5415364605row29_col4 {\n",
       "            background-color:  #fdf5fa;\n",
       "            color:  #000000;\n",
       "        }    #T_d569fb30_4d71_11ea_aeba_0c5415364605row29_col5 {\n",
       "            background-color:  #f1ebf4;\n",
       "            color:  #000000;\n",
       "        }    #T_d569fb30_4d71_11ea_aeba_0c5415364605row30_col0 {\n",
       "            background-color:  #fdf5fa;\n",
       "            color:  #000000;\n",
       "        }    #T_d569fb30_4d71_11ea_aeba_0c5415364605row30_col1 {\n",
       "            background-color:  #fff7fb;\n",
       "            color:  #000000;\n",
       "        }    #T_d569fb30_4d71_11ea_aeba_0c5415364605row30_col2 {\n",
       "            background-color:  #fef6fb;\n",
       "            color:  #000000;\n",
       "        }    #T_d569fb30_4d71_11ea_aeba_0c5415364605row30_col3 {\n",
       "            background-color:  #fef6fb;\n",
       "            color:  #000000;\n",
       "        }    #T_d569fb30_4d71_11ea_aeba_0c5415364605row30_col4 {\n",
       "            background-color:  #fff7fb;\n",
       "            color:  #000000;\n",
       "        }    #T_d569fb30_4d71_11ea_aeba_0c5415364605row30_col5 {\n",
       "            background-color:  #fef6fa;\n",
       "            color:  #000000;\n",
       "        }    #T_d569fb30_4d71_11ea_aeba_0c5415364605row31_col0 {\n",
       "            background-color:  #fdf5fa;\n",
       "            color:  #000000;\n",
       "        }    #T_d569fb30_4d71_11ea_aeba_0c5415364605row31_col1 {\n",
       "            background-color:  #e9e5f1;\n",
       "            color:  #000000;\n",
       "        }    #T_d569fb30_4d71_11ea_aeba_0c5415364605row31_col2 {\n",
       "            background-color:  #f8f1f8;\n",
       "            color:  #000000;\n",
       "        }    #T_d569fb30_4d71_11ea_aeba_0c5415364605row31_col3 {\n",
       "            background-color:  #f6eff7;\n",
       "            color:  #000000;\n",
       "        }    #T_d569fb30_4d71_11ea_aeba_0c5415364605row31_col4 {\n",
       "            background-color:  #fdf5fa;\n",
       "            color:  #000000;\n",
       "        }    #T_d569fb30_4d71_11ea_aeba_0c5415364605row31_col5 {\n",
       "            background-color:  #f2ecf5;\n",
       "            color:  #000000;\n",
       "        }    #T_d569fb30_4d71_11ea_aeba_0c5415364605row32_col0 {\n",
       "            background-color:  #fdf5fa;\n",
       "            color:  #000000;\n",
       "        }    #T_d569fb30_4d71_11ea_aeba_0c5415364605row32_col1 {\n",
       "            background-color:  #ced0e6;\n",
       "            color:  #000000;\n",
       "        }    #T_d569fb30_4d71_11ea_aeba_0c5415364605row32_col2 {\n",
       "            background-color:  #ebe6f2;\n",
       "            color:  #000000;\n",
       "        }    #T_d569fb30_4d71_11ea_aeba_0c5415364605row32_col3 {\n",
       "            background-color:  #e9e5f1;\n",
       "            color:  #000000;\n",
       "        }    #T_d569fb30_4d71_11ea_aeba_0c5415364605row32_col4 {\n",
       "            background-color:  #fbf4f9;\n",
       "            color:  #000000;\n",
       "        }    #T_d569fb30_4d71_11ea_aeba_0c5415364605row32_col5 {\n",
       "            background-color:  #e0dded;\n",
       "            color:  #000000;\n",
       "        }    #T_d569fb30_4d71_11ea_aeba_0c5415364605row33_col0 {\n",
       "            background-color:  #fdf5fa;\n",
       "            color:  #000000;\n",
       "        }    #T_d569fb30_4d71_11ea_aeba_0c5415364605row33_col1 {\n",
       "            background-color:  #fef6fb;\n",
       "            color:  #000000;\n",
       "        }    #T_d569fb30_4d71_11ea_aeba_0c5415364605row33_col2 {\n",
       "            background-color:  #fcf4fa;\n",
       "            color:  #000000;\n",
       "        }    #T_d569fb30_4d71_11ea_aeba_0c5415364605row33_col3 {\n",
       "            background-color:  #faf2f8;\n",
       "            color:  #000000;\n",
       "        }    #T_d569fb30_4d71_11ea_aeba_0c5415364605row33_col4 {\n",
       "            background-color:  #f7f0f7;\n",
       "            color:  #000000;\n",
       "        }    #T_d569fb30_4d71_11ea_aeba_0c5415364605row33_col5 {\n",
       "            background-color:  #fcf4fa;\n",
       "            color:  #000000;\n",
       "        }    #T_d569fb30_4d71_11ea_aeba_0c5415364605row34_col0 {\n",
       "            background-color:  #fdf5fa;\n",
       "            color:  #000000;\n",
       "        }    #T_d569fb30_4d71_11ea_aeba_0c5415364605row34_col1 {\n",
       "            background-color:  #eee8f3;\n",
       "            color:  #000000;\n",
       "        }    #T_d569fb30_4d71_11ea_aeba_0c5415364605row34_col2 {\n",
       "            background-color:  #f4edf6;\n",
       "            color:  #000000;\n",
       "        }    #T_d569fb30_4d71_11ea_aeba_0c5415364605row34_col3 {\n",
       "            background-color:  #f4eef6;\n",
       "            color:  #000000;\n",
       "        }    #T_d569fb30_4d71_11ea_aeba_0c5415364605row34_col4 {\n",
       "            background-color:  #fbf3f9;\n",
       "            color:  #000000;\n",
       "        }    #T_d569fb30_4d71_11ea_aeba_0c5415364605row34_col5 {\n",
       "            background-color:  #f1ebf4;\n",
       "            color:  #000000;\n",
       "        }    #T_d569fb30_4d71_11ea_aeba_0c5415364605row35_col0 {\n",
       "            background-color:  #fef6fa;\n",
       "            color:  #000000;\n",
       "        }    #T_d569fb30_4d71_11ea_aeba_0c5415364605row35_col1 {\n",
       "            background-color:  #fbf3f9;\n",
       "            color:  #000000;\n",
       "        }    #T_d569fb30_4d71_11ea_aeba_0c5415364605row35_col2 {\n",
       "            background-color:  #fbf4f9;\n",
       "            color:  #000000;\n",
       "        }    #T_d569fb30_4d71_11ea_aeba_0c5415364605row35_col3 {\n",
       "            background-color:  #fbf3f9;\n",
       "            color:  #000000;\n",
       "        }    #T_d569fb30_4d71_11ea_aeba_0c5415364605row35_col4 {\n",
       "            background-color:  #fcf4fa;\n",
       "            color:  #000000;\n",
       "        }    #T_d569fb30_4d71_11ea_aeba_0c5415364605row35_col5 {\n",
       "            background-color:  #faf3f9;\n",
       "            color:  #000000;\n",
       "        }    #T_d569fb30_4d71_11ea_aeba_0c5415364605row36_col0 {\n",
       "            background-color:  #fef6fb;\n",
       "            color:  #000000;\n",
       "        }    #T_d569fb30_4d71_11ea_aeba_0c5415364605row36_col1 {\n",
       "            background-color:  #ebe6f2;\n",
       "            color:  #000000;\n",
       "        }    #T_d569fb30_4d71_11ea_aeba_0c5415364605row36_col2 {\n",
       "            background-color:  #f8f1f8;\n",
       "            color:  #000000;\n",
       "        }    #T_d569fb30_4d71_11ea_aeba_0c5415364605row36_col3 {\n",
       "            background-color:  #f9f2f8;\n",
       "            color:  #000000;\n",
       "        }    #T_d569fb30_4d71_11ea_aeba_0c5415364605row36_col4 {\n",
       "            background-color:  #fdf5fa;\n",
       "            color:  #000000;\n",
       "        }    #T_d569fb30_4d71_11ea_aeba_0c5415364605row36_col5 {\n",
       "            background-color:  #eee8f3;\n",
       "            color:  #000000;\n",
       "        }    #T_d569fb30_4d71_11ea_aeba_0c5415364605row37_col0 {\n",
       "            background-color:  #fef6fb;\n",
       "            color:  #000000;\n",
       "        }    #T_d569fb30_4d71_11ea_aeba_0c5415364605row37_col1 {\n",
       "            background-color:  #fff7fb;\n",
       "            color:  #000000;\n",
       "        }    #T_d569fb30_4d71_11ea_aeba_0c5415364605row37_col2 {\n",
       "            background-color:  #fef6fb;\n",
       "            color:  #000000;\n",
       "        }    #T_d569fb30_4d71_11ea_aeba_0c5415364605row37_col3 {\n",
       "            background-color:  #fdf5fa;\n",
       "            color:  #000000;\n",
       "        }    #T_d569fb30_4d71_11ea_aeba_0c5415364605row37_col4 {\n",
       "            background-color:  #faf3f9;\n",
       "            color:  #000000;\n",
       "        }    #T_d569fb30_4d71_11ea_aeba_0c5415364605row37_col5 {\n",
       "            background-color:  #fef6fb;\n",
       "            color:  #000000;\n",
       "        }    #T_d569fb30_4d71_11ea_aeba_0c5415364605row38_col0 {\n",
       "            background-color:  #fef6fb;\n",
       "            color:  #000000;\n",
       "        }    #T_d569fb30_4d71_11ea_aeba_0c5415364605row38_col1 {\n",
       "            background-color:  #fff7fb;\n",
       "            color:  #000000;\n",
       "        }    #T_d569fb30_4d71_11ea_aeba_0c5415364605row38_col2 {\n",
       "            background-color:  #fff7fb;\n",
       "            color:  #000000;\n",
       "        }    #T_d569fb30_4d71_11ea_aeba_0c5415364605row38_col3 {\n",
       "            background-color:  #fff7fb;\n",
       "            color:  #000000;\n",
       "        }    #T_d569fb30_4d71_11ea_aeba_0c5415364605row38_col4 {\n",
       "            background-color:  #fff7fb;\n",
       "            color:  #000000;\n",
       "        }    #T_d569fb30_4d71_11ea_aeba_0c5415364605row38_col5 {\n",
       "            background-color:  #fff7fb;\n",
       "            color:  #000000;\n",
       "        }    #T_d569fb30_4d71_11ea_aeba_0c5415364605row39_col0 {\n",
       "            background-color:  #fef6fb;\n",
       "            color:  #000000;\n",
       "        }    #T_d569fb30_4d71_11ea_aeba_0c5415364605row39_col1 {\n",
       "            background-color:  #f4edf6;\n",
       "            color:  #000000;\n",
       "        }    #T_d569fb30_4d71_11ea_aeba_0c5415364605row39_col2 {\n",
       "            background-color:  #f8f1f8;\n",
       "            color:  #000000;\n",
       "        }    #T_d569fb30_4d71_11ea_aeba_0c5415364605row39_col3 {\n",
       "            background-color:  #f9f2f8;\n",
       "            color:  #000000;\n",
       "        }    #T_d569fb30_4d71_11ea_aeba_0c5415364605row39_col4 {\n",
       "            background-color:  #fef6fb;\n",
       "            color:  #000000;\n",
       "        }    #T_d569fb30_4d71_11ea_aeba_0c5415364605row39_col5 {\n",
       "            background-color:  #faf2f8;\n",
       "            color:  #000000;\n",
       "        }    #T_d569fb30_4d71_11ea_aeba_0c5415364605row40_col0 {\n",
       "            background-color:  #fef6fb;\n",
       "            color:  #000000;\n",
       "        }    #T_d569fb30_4d71_11ea_aeba_0c5415364605row40_col1 {\n",
       "            background-color:  #fff7fb;\n",
       "            color:  #000000;\n",
       "        }    #T_d569fb30_4d71_11ea_aeba_0c5415364605row40_col2 {\n",
       "            background-color:  #fff7fb;\n",
       "            color:  #000000;\n",
       "        }    #T_d569fb30_4d71_11ea_aeba_0c5415364605row40_col3 {\n",
       "            background-color:  #fff7fb;\n",
       "            color:  #000000;\n",
       "        }    #T_d569fb30_4d71_11ea_aeba_0c5415364605row40_col4 {\n",
       "            background-color:  #fdf5fa;\n",
       "            color:  #000000;\n",
       "        }    #T_d569fb30_4d71_11ea_aeba_0c5415364605row40_col5 {\n",
       "            background-color:  #fef6fb;\n",
       "            color:  #000000;\n",
       "        }    #T_d569fb30_4d71_11ea_aeba_0c5415364605row41_col0 {\n",
       "            background-color:  #fef6fb;\n",
       "            color:  #000000;\n",
       "        }    #T_d569fb30_4d71_11ea_aeba_0c5415364605row41_col1 {\n",
       "            background-color:  #f9f2f8;\n",
       "            color:  #000000;\n",
       "        }    #T_d569fb30_4d71_11ea_aeba_0c5415364605row41_col2 {\n",
       "            background-color:  #fdf5fa;\n",
       "            color:  #000000;\n",
       "        }    #T_d569fb30_4d71_11ea_aeba_0c5415364605row41_col3 {\n",
       "            background-color:  #fcf4fa;\n",
       "            color:  #000000;\n",
       "        }    #T_d569fb30_4d71_11ea_aeba_0c5415364605row41_col4 {\n",
       "            background-color:  #fef6fb;\n",
       "            color:  #000000;\n",
       "        }    #T_d569fb30_4d71_11ea_aeba_0c5415364605row41_col5 {\n",
       "            background-color:  #fdf5fa;\n",
       "            color:  #000000;\n",
       "        }    #T_d569fb30_4d71_11ea_aeba_0c5415364605row42_col0 {\n",
       "            background-color:  #fef6fb;\n",
       "            color:  #000000;\n",
       "        }    #T_d569fb30_4d71_11ea_aeba_0c5415364605row42_col1 {\n",
       "            background-color:  #f2ecf5;\n",
       "            color:  #000000;\n",
       "        }    #T_d569fb30_4d71_11ea_aeba_0c5415364605row42_col2 {\n",
       "            background-color:  #f7f0f7;\n",
       "            color:  #000000;\n",
       "        }    #T_d569fb30_4d71_11ea_aeba_0c5415364605row42_col3 {\n",
       "            background-color:  #faf2f8;\n",
       "            color:  #000000;\n",
       "        }    #T_d569fb30_4d71_11ea_aeba_0c5415364605row42_col4 {\n",
       "            background-color:  #fef6fa;\n",
       "            color:  #000000;\n",
       "        }    #T_d569fb30_4d71_11ea_aeba_0c5415364605row42_col5 {\n",
       "            background-color:  #fbf3f9;\n",
       "            color:  #000000;\n",
       "        }    #T_d569fb30_4d71_11ea_aeba_0c5415364605row43_col0 {\n",
       "            background-color:  #fef6fb;\n",
       "            color:  #000000;\n",
       "        }    #T_d569fb30_4d71_11ea_aeba_0c5415364605row43_col1 {\n",
       "            background-color:  #fbf3f9;\n",
       "            color:  #000000;\n",
       "        }    #T_d569fb30_4d71_11ea_aeba_0c5415364605row43_col2 {\n",
       "            background-color:  #fef6fa;\n",
       "            color:  #000000;\n",
       "        }    #T_d569fb30_4d71_11ea_aeba_0c5415364605row43_col3 {\n",
       "            background-color:  #fef6fa;\n",
       "            color:  #000000;\n",
       "        }    #T_d569fb30_4d71_11ea_aeba_0c5415364605row43_col4 {\n",
       "            background-color:  #fff7fb;\n",
       "            color:  #000000;\n",
       "        }    #T_d569fb30_4d71_11ea_aeba_0c5415364605row43_col5 {\n",
       "            background-color:  #fdf5fa;\n",
       "            color:  #000000;\n",
       "        }    #T_d569fb30_4d71_11ea_aeba_0c5415364605row44_col0 {\n",
       "            background-color:  #fef6fb;\n",
       "            color:  #000000;\n",
       "        }    #T_d569fb30_4d71_11ea_aeba_0c5415364605row44_col1 {\n",
       "            background-color:  #fff7fb;\n",
       "            color:  #000000;\n",
       "        }    #T_d569fb30_4d71_11ea_aeba_0c5415364605row44_col2 {\n",
       "            background-color:  #fff7fb;\n",
       "            color:  #000000;\n",
       "        }    #T_d569fb30_4d71_11ea_aeba_0c5415364605row44_col3 {\n",
       "            background-color:  #fff7fb;\n",
       "            color:  #000000;\n",
       "        }    #T_d569fb30_4d71_11ea_aeba_0c5415364605row44_col4 {\n",
       "            background-color:  #fdf5fa;\n",
       "            color:  #000000;\n",
       "        }    #T_d569fb30_4d71_11ea_aeba_0c5415364605row44_col5 {\n",
       "            background-color:  #fef6fb;\n",
       "            color:  #000000;\n",
       "        }    #T_d569fb30_4d71_11ea_aeba_0c5415364605row45_col0 {\n",
       "            background-color:  #fff7fb;\n",
       "            color:  #000000;\n",
       "        }    #T_d569fb30_4d71_11ea_aeba_0c5415364605row45_col1 {\n",
       "            background-color:  #fcf4fa;\n",
       "            color:  #000000;\n",
       "        }    #T_d569fb30_4d71_11ea_aeba_0c5415364605row45_col2 {\n",
       "            background-color:  #fef6fa;\n",
       "            color:  #000000;\n",
       "        }    #T_d569fb30_4d71_11ea_aeba_0c5415364605row45_col3 {\n",
       "            background-color:  #fef6fa;\n",
       "            color:  #000000;\n",
       "        }    #T_d569fb30_4d71_11ea_aeba_0c5415364605row45_col4 {\n",
       "            background-color:  #fff7fb;\n",
       "            color:  #000000;\n",
       "        }    #T_d569fb30_4d71_11ea_aeba_0c5415364605row45_col5 {\n",
       "            background-color:  #fdf5fa;\n",
       "            color:  #000000;\n",
       "        }    #T_d569fb30_4d71_11ea_aeba_0c5415364605row46_col0 {\n",
       "            background-color:  #fff7fb;\n",
       "            color:  #000000;\n",
       "        }    #T_d569fb30_4d71_11ea_aeba_0c5415364605row46_col1 {\n",
       "            background-color:  #fff7fb;\n",
       "            color:  #000000;\n",
       "        }    #T_d569fb30_4d71_11ea_aeba_0c5415364605row46_col2 {\n",
       "            background-color:  #fef6fb;\n",
       "            color:  #000000;\n",
       "        }    #T_d569fb30_4d71_11ea_aeba_0c5415364605row46_col3 {\n",
       "            background-color:  #fef6fa;\n",
       "            color:  #000000;\n",
       "        }    #T_d569fb30_4d71_11ea_aeba_0c5415364605row46_col4 {\n",
       "            background-color:  #fcf4fa;\n",
       "            color:  #000000;\n",
       "        }    #T_d569fb30_4d71_11ea_aeba_0c5415364605row46_col5 {\n",
       "            background-color:  #fef6fb;\n",
       "            color:  #000000;\n",
       "        }    #T_d569fb30_4d71_11ea_aeba_0c5415364605row47_col0 {\n",
       "            background-color:  #fff7fb;\n",
       "            color:  #000000;\n",
       "        }    #T_d569fb30_4d71_11ea_aeba_0c5415364605row47_col1 {\n",
       "            background-color:  #f5eff6;\n",
       "            color:  #000000;\n",
       "        }    #T_d569fb30_4d71_11ea_aeba_0c5415364605row47_col2 {\n",
       "            background-color:  #fbf3f9;\n",
       "            color:  #000000;\n",
       "        }    #T_d569fb30_4d71_11ea_aeba_0c5415364605row47_col3 {\n",
       "            background-color:  #faf3f9;\n",
       "            color:  #000000;\n",
       "        }    #T_d569fb30_4d71_11ea_aeba_0c5415364605row47_col4 {\n",
       "            background-color:  #fef6fb;\n",
       "            color:  #000000;\n",
       "        }    #T_d569fb30_4d71_11ea_aeba_0c5415364605row47_col5 {\n",
       "            background-color:  #f8f1f8;\n",
       "            color:  #000000;\n",
       "        }    #T_d569fb30_4d71_11ea_aeba_0c5415364605row48_col0 {\n",
       "            background-color:  #fff7fb;\n",
       "            color:  #000000;\n",
       "        }    #T_d569fb30_4d71_11ea_aeba_0c5415364605row48_col1 {\n",
       "            background-color:  #f7f0f7;\n",
       "            color:  #000000;\n",
       "        }    #T_d569fb30_4d71_11ea_aeba_0c5415364605row48_col2 {\n",
       "            background-color:  #fef6fa;\n",
       "            color:  #000000;\n",
       "        }    #T_d569fb30_4d71_11ea_aeba_0c5415364605row48_col3 {\n",
       "            background-color:  #ede7f2;\n",
       "            color:  #000000;\n",
       "        }    #T_d569fb30_4d71_11ea_aeba_0c5415364605row48_col4 {\n",
       "            background-color:  #fdf5fa;\n",
       "            color:  #000000;\n",
       "        }    #T_d569fb30_4d71_11ea_aeba_0c5415364605row48_col5 {\n",
       "            background-color:  #fef6fb;\n",
       "            color:  #000000;\n",
       "        }    #T_d569fb30_4d71_11ea_aeba_0c5415364605row49_col0 {\n",
       "            background-color:  #fff7fb;\n",
       "            color:  #000000;\n",
       "        }    #T_d569fb30_4d71_11ea_aeba_0c5415364605row49_col1 {\n",
       "            background-color:  #fef6fb;\n",
       "            color:  #000000;\n",
       "        }    #T_d569fb30_4d71_11ea_aeba_0c5415364605row49_col2 {\n",
       "            background-color:  #fdf5fa;\n",
       "            color:  #000000;\n",
       "        }    #T_d569fb30_4d71_11ea_aeba_0c5415364605row49_col3 {\n",
       "            background-color:  #fbf4f9;\n",
       "            color:  #000000;\n",
       "        }    #T_d569fb30_4d71_11ea_aeba_0c5415364605row49_col4 {\n",
       "            background-color:  #faf2f8;\n",
       "            color:  #000000;\n",
       "        }    #T_d569fb30_4d71_11ea_aeba_0c5415364605row49_col5 {\n",
       "            background-color:  #fdf5fa;\n",
       "            color:  #000000;\n",
       "        }</style><table id=\"T_d569fb30_4d71_11ea_aeba_0c5415364605\" ><thead>    <tr>        <th class=\"blank level0\" ></th>        <th class=\"col_heading level0 col0\" >NBkilder_Kjerulf_1833.xml</th>        <th class=\"col_heading level0 col1\" >NBkilder_Kjerulf_1840.xml</th>        <th class=\"col_heading level0 col2\" >NBkilder_Kjerulf_1850.xml</th>        <th class=\"col_heading level0 col3\" >NBkilder_Kjerulf_1851.xml</th>        <th class=\"col_heading level0 col4\" >NBkilder_Kjerulf_1852.xml</th>        <th class=\"col_heading level0 col5\" >NBkilder_Kjerulf_1854.xml</th>    </tr></thead><tbody>\n",
       "                <tr>\n",
       "                        <th id=\"T_d569fb30_4d71_11ea_aeba_0c5415364605level0_row0\" class=\"row_heading level0 row0\" >.</th>\n",
       "                        <td id=\"T_d569fb30_4d71_11ea_aeba_0c5415364605row0_col0\" class=\"data row0 col0\" >245</td>\n",
       "                        <td id=\"T_d569fb30_4d71_11ea_aeba_0c5415364605row0_col1\" class=\"data row0 col1\" >515</td>\n",
       "                        <td id=\"T_d569fb30_4d71_11ea_aeba_0c5415364605row0_col2\" class=\"data row0 col2\" >5443</td>\n",
       "                        <td id=\"T_d569fb30_4d71_11ea_aeba_0c5415364605row0_col3\" class=\"data row0 col3\" >2607</td>\n",
       "                        <td id=\"T_d569fb30_4d71_11ea_aeba_0c5415364605row0_col4\" class=\"data row0 col4\" >1733</td>\n",
       "                        <td id=\"T_d569fb30_4d71_11ea_aeba_0c5415364605row0_col5\" class=\"data row0 col5\" >1180</td>\n",
       "            </tr>\n",
       "            <tr>\n",
       "                        <th id=\"T_d569fb30_4d71_11ea_aeba_0c5415364605level0_row1\" class=\"row_heading level0 row1\" >,</th>\n",
       "                        <td id=\"T_d569fb30_4d71_11ea_aeba_0c5415364605row1_col0\" class=\"data row1 col0\" >133</td>\n",
       "                        <td id=\"T_d569fb30_4d71_11ea_aeba_0c5415364605row1_col1\" class=\"data row1 col1\" >475</td>\n",
       "                        <td id=\"T_d569fb30_4d71_11ea_aeba_0c5415364605row1_col2\" class=\"data row1 col2\" >1414</td>\n",
       "                        <td id=\"T_d569fb30_4d71_11ea_aeba_0c5415364605row1_col3\" class=\"data row1 col3\" >595</td>\n",
       "                        <td id=\"T_d569fb30_4d71_11ea_aeba_0c5415364605row1_col4\" class=\"data row1 col4\" >130</td>\n",
       "                        <td id=\"T_d569fb30_4d71_11ea_aeba_0c5415364605row1_col5\" class=\"data row1 col5\" >186</td>\n",
       "            </tr>\n",
       "            <tr>\n",
       "                        <th id=\"T_d569fb30_4d71_11ea_aeba_0c5415364605level0_row2\" class=\"row_heading level0 row2\" >af</th>\n",
       "                        <td id=\"T_d569fb30_4d71_11ea_aeba_0c5415364605row2_col0\" class=\"data row2 col0\" >67</td>\n",
       "                        <td id=\"T_d569fb30_4d71_11ea_aeba_0c5415364605row2_col1\" class=\"data row2 col1\" >149</td>\n",
       "                        <td id=\"T_d569fb30_4d71_11ea_aeba_0c5415364605row2_col2\" class=\"data row2 col2\" >812</td>\n",
       "                        <td id=\"T_d569fb30_4d71_11ea_aeba_0c5415364605row2_col3\" class=\"data row2 col3\" >436</td>\n",
       "                        <td id=\"T_d569fb30_4d71_11ea_aeba_0c5415364605row2_col4\" class=\"data row2 col4\" >181</td>\n",
       "                        <td id=\"T_d569fb30_4d71_11ea_aeba_0c5415364605row2_col5\" class=\"data row2 col5\" >191</td>\n",
       "            </tr>\n",
       "            <tr>\n",
       "                        <th id=\"T_d569fb30_4d71_11ea_aeba_0c5415364605level0_row3\" class=\"row_heading level0 row3\" >\"</th>\n",
       "                        <td id=\"T_d569fb30_4d71_11ea_aeba_0c5415364605row3_col0\" class=\"data row3 col0\" >58</td>\n",
       "                        <td id=\"T_d569fb30_4d71_11ea_aeba_0c5415364605row3_col1\" class=\"data row3 col1\" >0</td>\n",
       "                        <td id=\"T_d569fb30_4d71_11ea_aeba_0c5415364605row3_col2\" class=\"data row3 col2\" >0</td>\n",
       "                        <td id=\"T_d569fb30_4d71_11ea_aeba_0c5415364605row3_col3\" class=\"data row3 col3\" >0</td>\n",
       "                        <td id=\"T_d569fb30_4d71_11ea_aeba_0c5415364605row3_col4\" class=\"data row3 col4\" >2</td>\n",
       "                        <td id=\"T_d569fb30_4d71_11ea_aeba_0c5415364605row3_col5\" class=\"data row3 col5\" >0</td>\n",
       "            </tr>\n",
       "            <tr>\n",
       "                        <th id=\"T_d569fb30_4d71_11ea_aeba_0c5415364605level0_row4\" class=\"row_heading level0 row4\" >og</th>\n",
       "                        <td id=\"T_d569fb30_4d71_11ea_aeba_0c5415364605row4_col0\" class=\"data row4 col0\" >52</td>\n",
       "                        <td id=\"T_d569fb30_4d71_11ea_aeba_0c5415364605row4_col1\" class=\"data row4 col1\" >688</td>\n",
       "                        <td id=\"T_d569fb30_4d71_11ea_aeba_0c5415364605row4_col2\" class=\"data row4 col2\" >2042</td>\n",
       "                        <td id=\"T_d569fb30_4d71_11ea_aeba_0c5415364605row4_col3\" class=\"data row4 col3\" >976</td>\n",
       "                        <td id=\"T_d569fb30_4d71_11ea_aeba_0c5415364605row4_col4\" class=\"data row4 col4\" >257</td>\n",
       "                        <td id=\"T_d569fb30_4d71_11ea_aeba_0c5415364605row4_col5\" class=\"data row4 col5\" >457</td>\n",
       "            </tr>\n",
       "            <tr>\n",
       "                        <th id=\"T_d569fb30_4d71_11ea_aeba_0c5415364605level0_row5\" class=\"row_heading level0 row5\" >–</th>\n",
       "                        <td id=\"T_d569fb30_4d71_11ea_aeba_0c5415364605row5_col0\" class=\"data row5 col0\" >52</td>\n",
       "                        <td id=\"T_d569fb30_4d71_11ea_aeba_0c5415364605row5_col1\" class=\"data row5 col1\" >324</td>\n",
       "                        <td id=\"T_d569fb30_4d71_11ea_aeba_0c5415364605row5_col2\" class=\"data row5 col2\" >1419</td>\n",
       "                        <td id=\"T_d569fb30_4d71_11ea_aeba_0c5415364605row5_col3\" class=\"data row5 col3\" >205</td>\n",
       "                        <td id=\"T_d569fb30_4d71_11ea_aeba_0c5415364605row5_col4\" class=\"data row5 col4\" >1335</td>\n",
       "                        <td id=\"T_d569fb30_4d71_11ea_aeba_0c5415364605row5_col5\" class=\"data row5 col5\" >269</td>\n",
       "            </tr>\n",
       "            <tr>\n",
       "                        <th id=\"T_d569fb30_4d71_11ea_aeba_0c5415364605level0_row6\" class=\"row_heading level0 row6\" >:</th>\n",
       "                        <td id=\"T_d569fb30_4d71_11ea_aeba_0c5415364605row6_col0\" class=\"data row6 col0\" >32</td>\n",
       "                        <td id=\"T_d569fb30_4d71_11ea_aeba_0c5415364605row6_col1\" class=\"data row6 col1\" >9</td>\n",
       "                        <td id=\"T_d569fb30_4d71_11ea_aeba_0c5415364605row6_col2\" class=\"data row6 col2\" >339</td>\n",
       "                        <td id=\"T_d569fb30_4d71_11ea_aeba_0c5415364605row6_col3\" class=\"data row6 col3\" >121</td>\n",
       "                        <td id=\"T_d569fb30_4d71_11ea_aeba_0c5415364605row6_col4\" class=\"data row6 col4\" >39</td>\n",
       "                        <td id=\"T_d569fb30_4d71_11ea_aeba_0c5415364605row6_col5\" class=\"data row6 col5\" >12</td>\n",
       "            </tr>\n",
       "            <tr>\n",
       "                        <th id=\"T_d569fb30_4d71_11ea_aeba_0c5415364605level0_row7\" class=\"row_heading level0 row7\" >paa</th>\n",
       "                        <td id=\"T_d569fb30_4d71_11ea_aeba_0c5415364605row7_col0\" class=\"data row7 col0\" >29</td>\n",
       "                        <td id=\"T_d569fb30_4d71_11ea_aeba_0c5415364605row7_col1\" class=\"data row7 col1\" >127</td>\n",
       "                        <td id=\"T_d569fb30_4d71_11ea_aeba_0c5415364605row7_col2\" class=\"data row7 col2\" >288</td>\n",
       "                        <td id=\"T_d569fb30_4d71_11ea_aeba_0c5415364605row7_col3\" class=\"data row7 col3\" >130</td>\n",
       "                        <td id=\"T_d569fb30_4d71_11ea_aeba_0c5415364605row7_col4\" class=\"data row7 col4\" >32</td>\n",
       "                        <td id=\"T_d569fb30_4d71_11ea_aeba_0c5415364605row7_col5\" class=\"data row7 col5\" >121</td>\n",
       "            </tr>\n",
       "            <tr>\n",
       "                        <th id=\"T_d569fb30_4d71_11ea_aeba_0c5415364605level0_row8\" class=\"row_heading level0 row8\" >i</th>\n",
       "                        <td id=\"T_d569fb30_4d71_11ea_aeba_0c5415364605row8_col0\" class=\"data row8 col0\" >28</td>\n",
       "                        <td id=\"T_d569fb30_4d71_11ea_aeba_0c5415364605row8_col1\" class=\"data row8 col1\" >329</td>\n",
       "                        <td id=\"T_d569fb30_4d71_11ea_aeba_0c5415364605row8_col2\" class=\"data row8 col2\" >1173</td>\n",
       "                        <td id=\"T_d569fb30_4d71_11ea_aeba_0c5415364605row8_col3\" class=\"data row8 col3\" >557</td>\n",
       "                        <td id=\"T_d569fb30_4d71_11ea_aeba_0c5415364605row8_col4\" class=\"data row8 col4\" >126</td>\n",
       "                        <td id=\"T_d569fb30_4d71_11ea_aeba_0c5415364605row8_col5\" class=\"data row8 col5\" >281</td>\n",
       "            </tr>\n",
       "            <tr>\n",
       "                        <th id=\"T_d569fb30_4d71_11ea_aeba_0c5415364605level0_row9\" class=\"row_heading level0 row9\" >til</th>\n",
       "                        <td id=\"T_d569fb30_4d71_11ea_aeba_0c5415364605row9_col0\" class=\"data row9 col0\" >27</td>\n",
       "                        <td id=\"T_d569fb30_4d71_11ea_aeba_0c5415364605row9_col1\" class=\"data row9 col1\" >128</td>\n",
       "                        <td id=\"T_d569fb30_4d71_11ea_aeba_0c5415364605row9_col2\" class=\"data row9 col2\" >494</td>\n",
       "                        <td id=\"T_d569fb30_4d71_11ea_aeba_0c5415364605row9_col3\" class=\"data row9 col3\" >225</td>\n",
       "                        <td id=\"T_d569fb30_4d71_11ea_aeba_0c5415364605row9_col4\" class=\"data row9 col4\" >92</td>\n",
       "                        <td id=\"T_d569fb30_4d71_11ea_aeba_0c5415364605row9_col5\" class=\"data row9 col5\" >182</td>\n",
       "            </tr>\n",
       "            <tr>\n",
       "                        <th id=\"T_d569fb30_4d71_11ea_aeba_0c5415364605level0_row10\" class=\"row_heading level0 row10\" >;</th>\n",
       "                        <td id=\"T_d569fb30_4d71_11ea_aeba_0c5415364605row10_col0\" class=\"data row10 col0\" >23</td>\n",
       "                        <td id=\"T_d569fb30_4d71_11ea_aeba_0c5415364605row10_col1\" class=\"data row10 col1\" >193</td>\n",
       "                        <td id=\"T_d569fb30_4d71_11ea_aeba_0c5415364605row10_col2\" class=\"data row10 col2\" >462</td>\n",
       "                        <td id=\"T_d569fb30_4d71_11ea_aeba_0c5415364605row10_col3\" class=\"data row10 col3\" >199</td>\n",
       "                        <td id=\"T_d569fb30_4d71_11ea_aeba_0c5415364605row10_col4\" class=\"data row10 col4\" >19</td>\n",
       "                        <td id=\"T_d569fb30_4d71_11ea_aeba_0c5415364605row10_col5\" class=\"data row10 col5\" >64</td>\n",
       "            </tr>\n",
       "            <tr>\n",
       "                        <th id=\"T_d569fb30_4d71_11ea_aeba_0c5415364605level0_row11\" class=\"row_heading level0 row11\" >at</th>\n",
       "                        <td id=\"T_d569fb30_4d71_11ea_aeba_0c5415364605row11_col0\" class=\"data row11 col0\" >23</td>\n",
       "                        <td id=\"T_d569fb30_4d71_11ea_aeba_0c5415364605row11_col1\" class=\"data row11 col1\" >140</td>\n",
       "                        <td id=\"T_d569fb30_4d71_11ea_aeba_0c5415364605row11_col2\" class=\"data row11 col2\" >418</td>\n",
       "                        <td id=\"T_d569fb30_4d71_11ea_aeba_0c5415364605row11_col3\" class=\"data row11 col3\" >234</td>\n",
       "                        <td id=\"T_d569fb30_4d71_11ea_aeba_0c5415364605row11_col4\" class=\"data row11 col4\" >21</td>\n",
       "                        <td id=\"T_d569fb30_4d71_11ea_aeba_0c5415364605row11_col5\" class=\"data row11 col5\" >174</td>\n",
       "            </tr>\n",
       "            <tr>\n",
       "                        <th id=\"T_d569fb30_4d71_11ea_aeba_0c5415364605level0_row12\" class=\"row_heading level0 row12\" >)</th>\n",
       "                        <td id=\"T_d569fb30_4d71_11ea_aeba_0c5415364605row12_col0\" class=\"data row12 col0\" >19</td>\n",
       "                        <td id=\"T_d569fb30_4d71_11ea_aeba_0c5415364605row12_col1\" class=\"data row12 col1\" >4</td>\n",
       "                        <td id=\"T_d569fb30_4d71_11ea_aeba_0c5415364605row12_col2\" class=\"data row12 col2\" >654</td>\n",
       "                        <td id=\"T_d569fb30_4d71_11ea_aeba_0c5415364605row12_col3\" class=\"data row12 col3\" >293</td>\n",
       "                        <td id=\"T_d569fb30_4d71_11ea_aeba_0c5415364605row12_col4\" class=\"data row12 col4\" >387</td>\n",
       "                        <td id=\"T_d569fb30_4d71_11ea_aeba_0c5415364605row12_col5\" class=\"data row12 col5\" >68</td>\n",
       "            </tr>\n",
       "            <tr>\n",
       "                        <th id=\"T_d569fb30_4d71_11ea_aeba_0c5415364605level0_row13\" class=\"row_heading level0 row13\" >(</th>\n",
       "                        <td id=\"T_d569fb30_4d71_11ea_aeba_0c5415364605row13_col0\" class=\"data row13 col0\" >18</td>\n",
       "                        <td id=\"T_d569fb30_4d71_11ea_aeba_0c5415364605row13_col1\" class=\"data row13 col1\" >4</td>\n",
       "                        <td id=\"T_d569fb30_4d71_11ea_aeba_0c5415364605row13_col2\" class=\"data row13 col2\" >628</td>\n",
       "                        <td id=\"T_d569fb30_4d71_11ea_aeba_0c5415364605row13_col3\" class=\"data row13 col3\" >277</td>\n",
       "                        <td id=\"T_d569fb30_4d71_11ea_aeba_0c5415364605row13_col4\" class=\"data row13 col4\" >390</td>\n",
       "                        <td id=\"T_d569fb30_4d71_11ea_aeba_0c5415364605row13_col5\" class=\"data row13 col5\" >64</td>\n",
       "            </tr>\n",
       "            <tr>\n",
       "                        <th id=\"T_d569fb30_4d71_11ea_aeba_0c5415364605level0_row14\" class=\"row_heading level0 row14\" >en</th>\n",
       "                        <td id=\"T_d569fb30_4d71_11ea_aeba_0c5415364605row14_col0\" class=\"data row14 col0\" >18</td>\n",
       "                        <td id=\"T_d569fb30_4d71_11ea_aeba_0c5415364605row14_col1\" class=\"data row14 col1\" >221</td>\n",
       "                        <td id=\"T_d569fb30_4d71_11ea_aeba_0c5415364605row14_col2\" class=\"data row14 col2\" >634</td>\n",
       "                        <td id=\"T_d569fb30_4d71_11ea_aeba_0c5415364605row14_col3\" class=\"data row14 col3\" >315</td>\n",
       "                        <td id=\"T_d569fb30_4d71_11ea_aeba_0c5415364605row14_col4\" class=\"data row14 col4\" >66</td>\n",
       "                        <td id=\"T_d569fb30_4d71_11ea_aeba_0c5415364605row14_col5\" class=\"data row14 col5\" >137</td>\n",
       "            </tr>\n",
       "            <tr>\n",
       "                        <th id=\"T_d569fb30_4d71_11ea_aeba_0c5415364605level0_row15\" class=\"row_heading level0 row15\" >hvor</th>\n",
       "                        <td id=\"T_d569fb30_4d71_11ea_aeba_0c5415364605row15_col0\" class=\"data row15 col0\" >17</td>\n",
       "                        <td id=\"T_d569fb30_4d71_11ea_aeba_0c5415364605row15_col1\" class=\"data row15 col1\" >33</td>\n",
       "                        <td id=\"T_d569fb30_4d71_11ea_aeba_0c5415364605row15_col2\" class=\"data row15 col2\" >78</td>\n",
       "                        <td id=\"T_d569fb30_4d71_11ea_aeba_0c5415364605row15_col3\" class=\"data row15 col3\" >63</td>\n",
       "                        <td id=\"T_d569fb30_4d71_11ea_aeba_0c5415364605row15_col4\" class=\"data row15 col4\" >9</td>\n",
       "                        <td id=\"T_d569fb30_4d71_11ea_aeba_0c5415364605row15_col5\" class=\"data row15 col5\" >23</td>\n",
       "            </tr>\n",
       "            <tr>\n",
       "                        <th id=\"T_d569fb30_4d71_11ea_aeba_0c5415364605level0_row16\" class=\"row_heading level0 row16\" >med</th>\n",
       "                        <td id=\"T_d569fb30_4d71_11ea_aeba_0c5415364605row16_col0\" class=\"data row16 col0\" >17</td>\n",
       "                        <td id=\"T_d569fb30_4d71_11ea_aeba_0c5415364605row16_col1\" class=\"data row16 col1\" >109</td>\n",
       "                        <td id=\"T_d569fb30_4d71_11ea_aeba_0c5415364605row16_col2\" class=\"data row16 col2\" >470</td>\n",
       "                        <td id=\"T_d569fb30_4d71_11ea_aeba_0c5415364605row16_col3\" class=\"data row16 col3\" >280</td>\n",
       "                        <td id=\"T_d569fb30_4d71_11ea_aeba_0c5415364605row16_col4\" class=\"data row16 col4\" >64</td>\n",
       "                        <td id=\"T_d569fb30_4d71_11ea_aeba_0c5415364605row16_col5\" class=\"data row16 col5\" >110</td>\n",
       "            </tr>\n",
       "            <tr>\n",
       "                        <th id=\"T_d569fb30_4d71_11ea_aeba_0c5415364605level0_row17\" class=\"row_heading level0 row17\" >Theatret</th>\n",
       "                        <td id=\"T_d569fb30_4d71_11ea_aeba_0c5415364605row17_col0\" class=\"data row17 col0\" >16</td>\n",
       "                        <td id=\"T_d569fb30_4d71_11ea_aeba_0c5415364605row17_col1\" class=\"data row17 col1\" >3</td>\n",
       "                        <td id=\"T_d569fb30_4d71_11ea_aeba_0c5415364605row17_col2\" class=\"data row17 col2\" >70</td>\n",
       "                        <td id=\"T_d569fb30_4d71_11ea_aeba_0c5415364605row17_col3\" class=\"data row17 col3\" >22</td>\n",
       "                        <td id=\"T_d569fb30_4d71_11ea_aeba_0c5415364605row17_col4\" class=\"data row17 col4\" >15</td>\n",
       "                        <td id=\"T_d569fb30_4d71_11ea_aeba_0c5415364605row17_col5\" class=\"data row17 col5\" >6</td>\n",
       "            </tr>\n",
       "            <tr>\n",
       "                        <th id=\"T_d569fb30_4d71_11ea_aeba_0c5415364605level0_row18\" class=\"row_heading level0 row18\" >fra</th>\n",
       "                        <td id=\"T_d569fb30_4d71_11ea_aeba_0c5415364605row18_col0\" class=\"data row18 col0\" >15</td>\n",
       "                        <td id=\"T_d569fb30_4d71_11ea_aeba_0c5415364605row18_col1\" class=\"data row18 col1\" >55</td>\n",
       "                        <td id=\"T_d569fb30_4d71_11ea_aeba_0c5415364605row18_col2\" class=\"data row18 col2\" >186</td>\n",
       "                        <td id=\"T_d569fb30_4d71_11ea_aeba_0c5415364605row18_col3\" class=\"data row18 col3\" >74</td>\n",
       "                        <td id=\"T_d569fb30_4d71_11ea_aeba_0c5415364605row18_col4\" class=\"data row18 col4\" >51</td>\n",
       "                        <td id=\"T_d569fb30_4d71_11ea_aeba_0c5415364605row18_col5\" class=\"data row18 col5\" >68</td>\n",
       "            </tr>\n",
       "            <tr>\n",
       "                        <th id=\"T_d569fb30_4d71_11ea_aeba_0c5415364605level0_row19\" class=\"row_heading level0 row19\" >som</th>\n",
       "                        <td id=\"T_d569fb30_4d71_11ea_aeba_0c5415364605row19_col0\" class=\"data row19 col0\" >15</td>\n",
       "                        <td id=\"T_d569fb30_4d71_11ea_aeba_0c5415364605row19_col1\" class=\"data row19 col1\" >141</td>\n",
       "                        <td id=\"T_d569fb30_4d71_11ea_aeba_0c5415364605row19_col2\" class=\"data row19 col2\" >378</td>\n",
       "                        <td id=\"T_d569fb30_4d71_11ea_aeba_0c5415364605row19_col3\" class=\"data row19 col3\" >168</td>\n",
       "                        <td id=\"T_d569fb30_4d71_11ea_aeba_0c5415364605row19_col4\" class=\"data row19 col4\" >40</td>\n",
       "                        <td id=\"T_d569fb30_4d71_11ea_aeba_0c5415364605row19_col5\" class=\"data row19 col5\" >92</td>\n",
       "            </tr>\n",
       "            <tr>\n",
       "                        <th id=\"T_d569fb30_4d71_11ea_aeba_0c5415364605level0_row20\" class=\"row_heading level0 row20\" >skal</th>\n",
       "                        <td id=\"T_d569fb30_4d71_11ea_aeba_0c5415364605row20_col0\" class=\"data row20 col0\" >14</td>\n",
       "                        <td id=\"T_d569fb30_4d71_11ea_aeba_0c5415364605row20_col1\" class=\"data row20 col1\" >22</td>\n",
       "                        <td id=\"T_d569fb30_4d71_11ea_aeba_0c5415364605row20_col2\" class=\"data row20 col2\" >26</td>\n",
       "                        <td id=\"T_d569fb30_4d71_11ea_aeba_0c5415364605row20_col3\" class=\"data row20 col3\" >26</td>\n",
       "                        <td id=\"T_d569fb30_4d71_11ea_aeba_0c5415364605row20_col4\" class=\"data row20 col4\" >2</td>\n",
       "                        <td id=\"T_d569fb30_4d71_11ea_aeba_0c5415364605row20_col5\" class=\"data row20 col5\" >25</td>\n",
       "            </tr>\n",
       "            <tr>\n",
       "                        <th id=\"T_d569fb30_4d71_11ea_aeba_0c5415364605level0_row21\" class=\"row_heading level0 row21\" >gaves</th>\n",
       "                        <td id=\"T_d569fb30_4d71_11ea_aeba_0c5415364605row21_col0\" class=\"data row21 col0\" >14</td>\n",
       "                        <td id=\"T_d569fb30_4d71_11ea_aeba_0c5415364605row21_col1\" class=\"data row21 col1\" >1</td>\n",
       "                        <td id=\"T_d569fb30_4d71_11ea_aeba_0c5415364605row21_col2\" class=\"data row21 col2\" >13</td>\n",
       "                        <td id=\"T_d569fb30_4d71_11ea_aeba_0c5415364605row21_col3\" class=\"data row21 col3\" >6</td>\n",
       "                        <td id=\"T_d569fb30_4d71_11ea_aeba_0c5415364605row21_col4\" class=\"data row21 col4\" >0</td>\n",
       "                        <td id=\"T_d569fb30_4d71_11ea_aeba_0c5415364605row21_col5\" class=\"data row21 col5\" >2</td>\n",
       "            </tr>\n",
       "            <tr>\n",
       "                        <th id=\"T_d569fb30_4d71_11ea_aeba_0c5415364605level0_row22\" class=\"row_heading level0 row22\" >udf</th>\n",
       "                        <td id=\"T_d569fb30_4d71_11ea_aeba_0c5415364605row22_col0\" class=\"data row22 col0\" >12</td>\n",
       "                        <td id=\"T_d569fb30_4d71_11ea_aeba_0c5415364605row22_col1\" class=\"data row22 col1\" >1</td>\n",
       "                        <td id=\"T_d569fb30_4d71_11ea_aeba_0c5415364605row22_col2\" class=\"data row22 col2\" >48</td>\n",
       "                        <td id=\"T_d569fb30_4d71_11ea_aeba_0c5415364605row22_col3\" class=\"data row22 col3\" >19</td>\n",
       "                        <td id=\"T_d569fb30_4d71_11ea_aeba_0c5415364605row22_col4\" class=\"data row22 col4\" >2</td>\n",
       "                        <td id=\"T_d569fb30_4d71_11ea_aeba_0c5415364605row22_col5\" class=\"data row22 col5\" >0</td>\n",
       "            </tr>\n",
       "            <tr>\n",
       "                        <th id=\"T_d569fb30_4d71_11ea_aeba_0c5415364605level0_row23\" class=\"row_heading level0 row23\" >om</th>\n",
       "                        <td id=\"T_d569fb30_4d71_11ea_aeba_0c5415364605row23_col0\" class=\"data row23 col0\" >12</td>\n",
       "                        <td id=\"T_d569fb30_4d71_11ea_aeba_0c5415364605row23_col1\" class=\"data row23 col1\" >44</td>\n",
       "                        <td id=\"T_d569fb30_4d71_11ea_aeba_0c5415364605row23_col2\" class=\"data row23 col2\" >195</td>\n",
       "                        <td id=\"T_d569fb30_4d71_11ea_aeba_0c5415364605row23_col3\" class=\"data row23 col3\" >86</td>\n",
       "                        <td id=\"T_d569fb30_4d71_11ea_aeba_0c5415364605row23_col4\" class=\"data row23 col4\" >32</td>\n",
       "                        <td id=\"T_d569fb30_4d71_11ea_aeba_0c5415364605row23_col5\" class=\"data row23 col5\" >51</td>\n",
       "            </tr>\n",
       "            <tr>\n",
       "                        <th id=\"T_d569fb30_4d71_11ea_aeba_0c5415364605level0_row24\" class=\"row_heading level0 row24\" >et</th>\n",
       "                        <td id=\"T_d569fb30_4d71_11ea_aeba_0c5415364605row24_col0\" class=\"data row24 col0\" >11</td>\n",
       "                        <td id=\"T_d569fb30_4d71_11ea_aeba_0c5415364605row24_col1\" class=\"data row24 col1\" >101</td>\n",
       "                        <td id=\"T_d569fb30_4d71_11ea_aeba_0c5415364605row24_col2\" class=\"data row24 col2\" >239</td>\n",
       "                        <td id=\"T_d569fb30_4d71_11ea_aeba_0c5415364605row24_col3\" class=\"data row24 col3\" >130</td>\n",
       "                        <td id=\"T_d569fb30_4d71_11ea_aeba_0c5415364605row24_col4\" class=\"data row24 col4\" >30</td>\n",
       "                        <td id=\"T_d569fb30_4d71_11ea_aeba_0c5415364605row24_col5\" class=\"data row24 col5\" >67</td>\n",
       "            </tr>\n",
       "            <tr>\n",
       "                        <th id=\"T_d569fb30_4d71_11ea_aeba_0c5415364605level0_row25\" class=\"row_heading level0 row25\" >det</th>\n",
       "                        <td id=\"T_d569fb30_4d71_11ea_aeba_0c5415364605row25_col0\" class=\"data row25 col0\" >11</td>\n",
       "                        <td id=\"T_d569fb30_4d71_11ea_aeba_0c5415364605row25_col1\" class=\"data row25 col1\" >180</td>\n",
       "                        <td id=\"T_d569fb30_4d71_11ea_aeba_0c5415364605row25_col2\" class=\"data row25 col2\" >470</td>\n",
       "                        <td id=\"T_d569fb30_4d71_11ea_aeba_0c5415364605row25_col3\" class=\"data row25 col3\" >199</td>\n",
       "                        <td id=\"T_d569fb30_4d71_11ea_aeba_0c5415364605row25_col4\" class=\"data row25 col4\" >29</td>\n",
       "                        <td id=\"T_d569fb30_4d71_11ea_aeba_0c5415364605row25_col5\" class=\"data row25 col5\" >94</td>\n",
       "            </tr>\n",
       "            <tr>\n",
       "                        <th id=\"T_d569fb30_4d71_11ea_aeba_0c5415364605level0_row26\" class=\"row_heading level0 row26\" >var</th>\n",
       "                        <td id=\"T_d569fb30_4d71_11ea_aeba_0c5415364605row26_col0\" class=\"data row26 col0\" >11</td>\n",
       "                        <td id=\"T_d569fb30_4d71_11ea_aeba_0c5415364605row26_col1\" class=\"data row26 col1\" >172</td>\n",
       "                        <td id=\"T_d569fb30_4d71_11ea_aeba_0c5415364605row26_col2\" class=\"data row26 col2\" >442</td>\n",
       "                        <td id=\"T_d569fb30_4d71_11ea_aeba_0c5415364605row26_col3\" class=\"data row26 col3\" >199</td>\n",
       "                        <td id=\"T_d569fb30_4d71_11ea_aeba_0c5415364605row26_col4\" class=\"data row26 col4\" >34</td>\n",
       "                        <td id=\"T_d569fb30_4d71_11ea_aeba_0c5415364605row26_col5\" class=\"data row26 col5\" >102</td>\n",
       "            </tr>\n",
       "            <tr>\n",
       "                        <th id=\"T_d569fb30_4d71_11ea_aeba_0c5415364605level0_row27\" class=\"row_heading level0 row27\" >ved</th>\n",
       "                        <td id=\"T_d569fb30_4d71_11ea_aeba_0c5415364605row27_col0\" class=\"data row27 col0\" >11</td>\n",
       "                        <td id=\"T_d569fb30_4d71_11ea_aeba_0c5415364605row27_col1\" class=\"data row27 col1\" >33</td>\n",
       "                        <td id=\"T_d569fb30_4d71_11ea_aeba_0c5415364605row27_col2\" class=\"data row27 col2\" >120</td>\n",
       "                        <td id=\"T_d569fb30_4d71_11ea_aeba_0c5415364605row27_col3\" class=\"data row27 col3\" >66</td>\n",
       "                        <td id=\"T_d569fb30_4d71_11ea_aeba_0c5415364605row27_col4\" class=\"data row27 col4\" >8</td>\n",
       "                        <td id=\"T_d569fb30_4d71_11ea_aeba_0c5415364605row27_col5\" class=\"data row27 col5\" >60</td>\n",
       "            </tr>\n",
       "            <tr>\n",
       "                        <th id=\"T_d569fb30_4d71_11ea_aeba_0c5415364605level0_row28\" class=\"row_heading level0 row28\" >2</th>\n",
       "                        <td id=\"T_d569fb30_4d71_11ea_aeba_0c5415364605row28_col0\" class=\"data row28 col0\" >10</td>\n",
       "                        <td id=\"T_d569fb30_4d71_11ea_aeba_0c5415364605row28_col1\" class=\"data row28 col1\" >3</td>\n",
       "                        <td id=\"T_d569fb30_4d71_11ea_aeba_0c5415364605row28_col2\" class=\"data row28 col2\" >124</td>\n",
       "                        <td id=\"T_d569fb30_4d71_11ea_aeba_0c5415364605row28_col3\" class=\"data row28 col3\" >91</td>\n",
       "                        <td id=\"T_d569fb30_4d71_11ea_aeba_0c5415364605row28_col4\" class=\"data row28 col4\" >104</td>\n",
       "                        <td id=\"T_d569fb30_4d71_11ea_aeba_0c5415364605row28_col5\" class=\"data row28 col5\" >20</td>\n",
       "            </tr>\n",
       "            <tr>\n",
       "                        <th id=\"T_d569fb30_4d71_11ea_aeba_0c5415364605level0_row29\" class=\"row_heading level0 row29\" >den</th>\n",
       "                        <td id=\"T_d569fb30_4d71_11ea_aeba_0c5415364605row29_col0\" class=\"data row29 col0\" >10</td>\n",
       "                        <td id=\"T_d569fb30_4d71_11ea_aeba_0c5415364605row29_col1\" class=\"data row29 col1\" >190</td>\n",
       "                        <td id=\"T_d569fb30_4d71_11ea_aeba_0c5415364605row29_col2\" class=\"data row29 col2\" >525</td>\n",
       "                        <td id=\"T_d569fb30_4d71_11ea_aeba_0c5415364605row29_col3\" class=\"data row29 col3\" >233</td>\n",
       "                        <td id=\"T_d569fb30_4d71_11ea_aeba_0c5415364605row29_col4\" class=\"data row29 col4\" >26</td>\n",
       "                        <td id=\"T_d569fb30_4d71_11ea_aeba_0c5415364605row29_col5\" class=\"data row29 col5\" >111</td>\n",
       "            </tr>\n",
       "            <tr>\n",
       "                        <th id=\"T_d569fb30_4d71_11ea_aeba_0c5415364605level0_row30\" class=\"row_heading level0 row30\" >Paa</th>\n",
       "                        <td id=\"T_d569fb30_4d71_11ea_aeba_0c5415364605row30_col0\" class=\"data row30 col0\" >10</td>\n",
       "                        <td id=\"T_d569fb30_4d71_11ea_aeba_0c5415364605row30_col1\" class=\"data row30 col1\" >2</td>\n",
       "                        <td id=\"T_d569fb30_4d71_11ea_aeba_0c5415364605row30_col2\" class=\"data row30 col2\" >22</td>\n",
       "                        <td id=\"T_d569fb30_4d71_11ea_aeba_0c5415364605row30_col3\" class=\"data row30 col3\" >15</td>\n",
       "                        <td id=\"T_d569fb30_4d71_11ea_aeba_0c5415364605row30_col4\" class=\"data row30 col4\" >5</td>\n",
       "                        <td id=\"T_d569fb30_4d71_11ea_aeba_0c5415364605row30_col5\" class=\"data row30 col5\" >10</td>\n",
       "            </tr>\n",
       "            <tr>\n",
       "                        <th id=\"T_d569fb30_4d71_11ea_aeba_0c5415364605level0_row31\" class=\"row_heading level0 row31\" >de</th>\n",
       "                        <td id=\"T_d569fb30_4d71_11ea_aeba_0c5415364605row31_col0\" class=\"data row31 col0\" >9</td>\n",
       "                        <td id=\"T_d569fb30_4d71_11ea_aeba_0c5415364605row31_col1\" class=\"data row31 col1\" >96</td>\n",
       "                        <td id=\"T_d569fb30_4d71_11ea_aeba_0c5415364605row31_col2\" class=\"data row31 col2\" >248</td>\n",
       "                        <td id=\"T_d569fb30_4d71_11ea_aeba_0c5415364605row31_col3\" class=\"data row31 col3\" >158</td>\n",
       "                        <td id=\"T_d569fb30_4d71_11ea_aeba_0c5415364605row31_col4\" class=\"data row31 col4\" >22</td>\n",
       "                        <td id=\"T_d569fb30_4d71_11ea_aeba_0c5415364605row31_col5\" class=\"data row31 col5\" >97</td>\n",
       "            </tr>\n",
       "            <tr>\n",
       "                        <th id=\"T_d569fb30_4d71_11ea_aeba_0c5415364605level0_row32\" class=\"row_heading level0 row32\" >er</th>\n",
       "                        <td id=\"T_d569fb30_4d71_11ea_aeba_0c5415364605row32_col0\" class=\"data row32 col0\" >9</td>\n",
       "                        <td id=\"T_d569fb30_4d71_11ea_aeba_0c5415364605row32_col1\" class=\"data row32 col1\" >176</td>\n",
       "                        <td id=\"T_d569fb30_4d71_11ea_aeba_0c5415364605row32_col2\" class=\"data row32 col2\" >704</td>\n",
       "                        <td id=\"T_d569fb30_4d71_11ea_aeba_0c5415364605row32_col3\" class=\"data row32 col3\" >357</td>\n",
       "                        <td id=\"T_d569fb30_4d71_11ea_aeba_0c5415364605row32_col4\" class=\"data row32 col4\" >41</td>\n",
       "                        <td id=\"T_d569fb30_4d71_11ea_aeba_0c5415364605row32_col5\" class=\"data row32 col5\" >214</td>\n",
       "            </tr>\n",
       "            <tr>\n",
       "                        <th id=\"T_d569fb30_4d71_11ea_aeba_0c5415364605level0_row33\" class=\"row_heading level0 row33\" >1</th>\n",
       "                        <td id=\"T_d569fb30_4d71_11ea_aeba_0c5415364605row33_col0\" class=\"data row33 col0\" >9</td>\n",
       "                        <td id=\"T_d569fb30_4d71_11ea_aeba_0c5415364605row33_col1\" class=\"data row33 col1\" >5</td>\n",
       "                        <td id=\"T_d569fb30_4d71_11ea_aeba_0c5415364605row33_col2\" class=\"data row33 col2\" >124</td>\n",
       "                        <td id=\"T_d569fb30_4d71_11ea_aeba_0c5415364605row33_col3\" class=\"data row33 col3\" >92</td>\n",
       "                        <td id=\"T_d569fb30_4d71_11ea_aeba_0c5415364605row33_col4\" class=\"data row33 col4\" >97</td>\n",
       "                        <td id=\"T_d569fb30_4d71_11ea_aeba_0c5415364605row33_col5\" class=\"data row33 col5\" >25</td>\n",
       "            </tr>\n",
       "            <tr>\n",
       "                        <th id=\"T_d569fb30_4d71_11ea_aeba_0c5415364605level0_row34\" class=\"row_heading level0 row34\" >for</th>\n",
       "                        <td id=\"T_d569fb30_4d71_11ea_aeba_0c5415364605row34_col0\" class=\"data row34 col0\" >9</td>\n",
       "                        <td id=\"T_d569fb30_4d71_11ea_aeba_0c5415364605row34_col1\" class=\"data row34 col1\" >78</td>\n",
       "                        <td id=\"T_d569fb30_4d71_11ea_aeba_0c5415364605row34_col2\" class=\"data row34 col2\" >414</td>\n",
       "                        <td id=\"T_d569fb30_4d71_11ea_aeba_0c5415364605row34_col3\" class=\"data row34 col3\" >191</td>\n",
       "                        <td id=\"T_d569fb30_4d71_11ea_aeba_0c5415364605row34_col4\" class=\"data row34 col4\" >49</td>\n",
       "                        <td id=\"T_d569fb30_4d71_11ea_aeba_0c5415364605row34_col5\" class=\"data row34 col5\" >113</td>\n",
       "            </tr>\n",
       "            <tr>\n",
       "                        <th id=\"T_d569fb30_4d71_11ea_aeba_0c5415364605level0_row35\" class=\"row_heading level0 row35\" >hos</th>\n",
       "                        <td id=\"T_d569fb30_4d71_11ea_aeba_0c5415364605row35_col0\" class=\"data row35 col0\" >8</td>\n",
       "                        <td id=\"T_d569fb30_4d71_11ea_aeba_0c5415364605row35_col1\" class=\"data row35 col1\" >21</td>\n",
       "                        <td id=\"T_d569fb30_4d71_11ea_aeba_0c5415364605row35_col2\" class=\"data row35 col2\" >129</td>\n",
       "                        <td id=\"T_d569fb30_4d71_11ea_aeba_0c5415364605row35_col3\" class=\"data row35 col3\" >74</td>\n",
       "                        <td id=\"T_d569fb30_4d71_11ea_aeba_0c5415364605row35_col4\" class=\"data row35 col4\" >40</td>\n",
       "                        <td id=\"T_d569fb30_4d71_11ea_aeba_0c5415364605row35_col5\" class=\"data row35 col5\" >37</td>\n",
       "            </tr>\n",
       "            <tr>\n",
       "                        <th id=\"T_d569fb30_4d71_11ea_aeba_0c5415364605level0_row36\" class=\"row_heading level0 row36\" >har</th>\n",
       "                        <td id=\"T_d569fb30_4d71_11ea_aeba_0c5415364605row36_col0\" class=\"data row36 col0\" >7</td>\n",
       "                        <td id=\"T_d569fb30_4d71_11ea_aeba_0c5415364605row36_col1\" class=\"data row36 col1\" >91</td>\n",
       "                        <td id=\"T_d569fb30_4d71_11ea_aeba_0c5415364605row36_col2\" class=\"data row36 col2\" >234</td>\n",
       "                        <td id=\"T_d569fb30_4d71_11ea_aeba_0c5415364605row36_col3\" class=\"data row36 col3\" >111</td>\n",
       "                        <td id=\"T_d569fb30_4d71_11ea_aeba_0c5415364605row36_col4\" class=\"data row36 col4\" >24</td>\n",
       "                        <td id=\"T_d569fb30_4d71_11ea_aeba_0c5415364605row36_col5\" class=\"data row36 col5\" >134</td>\n",
       "            </tr>\n",
       "            <tr>\n",
       "                        <th id=\"T_d569fb30_4d71_11ea_aeba_0c5415364605level0_row37\" class=\"row_heading level0 row37\" >Fru</th>\n",
       "                        <td id=\"T_d569fb30_4d71_11ea_aeba_0c5415364605row37_col0\" class=\"data row37 col0\" >7</td>\n",
       "                        <td id=\"T_d569fb30_4d71_11ea_aeba_0c5415364605row37_col1\" class=\"data row37 col1\" >0</td>\n",
       "                        <td id=\"T_d569fb30_4d71_11ea_aeba_0c5415364605row37_col2\" class=\"data row37 col2\" >42</td>\n",
       "                        <td id=\"T_d569fb30_4d71_11ea_aeba_0c5415364605row37_col3\" class=\"data row37 col3\" >36</td>\n",
       "                        <td id=\"T_d569fb30_4d71_11ea_aeba_0c5415364605row37_col4\" class=\"data row37 col4\" >59</td>\n",
       "                        <td id=\"T_d569fb30_4d71_11ea_aeba_0c5415364605row37_col5\" class=\"data row37 col5\" >9</td>\n",
       "            </tr>\n",
       "            <tr>\n",
       "                        <th id=\"T_d569fb30_4d71_11ea_aeba_0c5415364605level0_row38\" class=\"row_heading level0 row38\" >Fødselsdag</th>\n",
       "                        <td id=\"T_d569fb30_4d71_11ea_aeba_0c5415364605row38_col0\" class=\"data row38 col0\" >7</td>\n",
       "                        <td id=\"T_d569fb30_4d71_11ea_aeba_0c5415364605row38_col1\" class=\"data row38 col1\" >0</td>\n",
       "                        <td id=\"T_d569fb30_4d71_11ea_aeba_0c5415364605row38_col2\" class=\"data row38 col2\" >0</td>\n",
       "                        <td id=\"T_d569fb30_4d71_11ea_aeba_0c5415364605row38_col3\" class=\"data row38 col3\" >0</td>\n",
       "                        <td id=\"T_d569fb30_4d71_11ea_aeba_0c5415364605row38_col4\" class=\"data row38 col4\" >1</td>\n",
       "                        <td id=\"T_d569fb30_4d71_11ea_aeba_0c5415364605row38_col5\" class=\"data row38 col5\" >0</td>\n",
       "            </tr>\n",
       "            <tr>\n",
       "                        <th id=\"T_d569fb30_4d71_11ea_aeba_0c5415364605level0_row39\" class=\"row_heading level0 row39\" >der</th>\n",
       "                        <td id=\"T_d569fb30_4d71_11ea_aeba_0c5415364605row39_col0\" class=\"data row39 col0\" >7</td>\n",
       "                        <td id=\"T_d569fb30_4d71_11ea_aeba_0c5415364605row39_col1\" class=\"data row39 col1\" >53</td>\n",
       "                        <td id=\"T_d569fb30_4d71_11ea_aeba_0c5415364605row39_col2\" class=\"data row39 col2\" >244</td>\n",
       "                        <td id=\"T_d569fb30_4d71_11ea_aeba_0c5415364605row39_col3\" class=\"data row39 col3\" >107</td>\n",
       "                        <td id=\"T_d569fb30_4d71_11ea_aeba_0c5415364605row39_col4\" class=\"data row39 col4\" >11</td>\n",
       "                        <td id=\"T_d569fb30_4d71_11ea_aeba_0c5415364605row39_col5\" class=\"data row39 col5\" >46</td>\n",
       "            </tr>\n",
       "            <tr>\n",
       "                        <th id=\"T_d569fb30_4d71_11ea_aeba_0c5415364605level0_row40\" class=\"row_heading level0 row40\" >Jfr</th>\n",
       "                        <td id=\"T_d569fb30_4d71_11ea_aeba_0c5415364605row40_col0\" class=\"data row40 col0\" >7</td>\n",
       "                        <td id=\"T_d569fb30_4d71_11ea_aeba_0c5415364605row40_col1\" class=\"data row40 col1\" >0</td>\n",
       "                        <td id=\"T_d569fb30_4d71_11ea_aeba_0c5415364605row40_col2\" class=\"data row40 col2\" >10</td>\n",
       "                        <td id=\"T_d569fb30_4d71_11ea_aeba_0c5415364605row40_col3\" class=\"data row40 col3\" >2</td>\n",
       "                        <td id=\"T_d569fb30_4d71_11ea_aeba_0c5415364605row40_col4\" class=\"data row40 col4\" >33</td>\n",
       "                        <td id=\"T_d569fb30_4d71_11ea_aeba_0c5415364605row40_col5\" class=\"data row40 col5\" >9</td>\n",
       "            </tr>\n",
       "            <tr>\n",
       "                        <th id=\"T_d569fb30_4d71_11ea_aeba_0c5415364605level0_row41\" class=\"row_heading level0 row41\" >da</th>\n",
       "                        <td id=\"T_d569fb30_4d71_11ea_aeba_0c5415364605row41_col0\" class=\"data row41 col0\" >7</td>\n",
       "                        <td id=\"T_d569fb30_4d71_11ea_aeba_0c5415364605row41_col1\" class=\"data row41 col1\" >29</td>\n",
       "                        <td id=\"T_d569fb30_4d71_11ea_aeba_0c5415364605row41_col2\" class=\"data row41 col2\" >104</td>\n",
       "                        <td id=\"T_d569fb30_4d71_11ea_aeba_0c5415364605row41_col3\" class=\"data row41 col3\" >51</td>\n",
       "                        <td id=\"T_d569fb30_4d71_11ea_aeba_0c5415364605row41_col4\" class=\"data row41 col4\" >7</td>\n",
       "                        <td id=\"T_d569fb30_4d71_11ea_aeba_0c5415364605row41_col5\" class=\"data row41 col5\" >23</td>\n",
       "            </tr>\n",
       "            <tr>\n",
       "                        <th id=\"T_d569fb30_4d71_11ea_aeba_0c5415364605level0_row42\" class=\"row_heading level0 row42\" >«</th>\n",
       "                        <td id=\"T_d569fb30_4d71_11ea_aeba_0c5415364605row42_col0\" class=\"data row42 col0\" >7</td>\n",
       "                        <td id=\"T_d569fb30_4d71_11ea_aeba_0c5415364605row42_col1\" class=\"data row42 col1\" >61</td>\n",
       "                        <td id=\"T_d569fb30_4d71_11ea_aeba_0c5415364605row42_col2\" class=\"data row42 col2\" >280</td>\n",
       "                        <td id=\"T_d569fb30_4d71_11ea_aeba_0c5415364605row42_col3\" class=\"data row42 col3\" >93</td>\n",
       "                        <td id=\"T_d569fb30_4d71_11ea_aeba_0c5415364605row42_col4\" class=\"data row42 col4\" >18</td>\n",
       "                        <td id=\"T_d569fb30_4d71_11ea_aeba_0c5415364605row42_col5\" class=\"data row42 col5\" >33</td>\n",
       "            </tr>\n",
       "            <tr>\n",
       "                        <th id=\"T_d569fb30_4d71_11ea_aeba_0c5415364605level0_row43\" class=\"row_heading level0 row43\" >være</th>\n",
       "                        <td id=\"T_d569fb30_4d71_11ea_aeba_0c5415364605row43_col0\" class=\"data row43 col0\" >7</td>\n",
       "                        <td id=\"T_d569fb30_4d71_11ea_aeba_0c5415364605row43_col1\" class=\"data row43 col1\" >20</td>\n",
       "                        <td id=\"T_d569fb30_4d71_11ea_aeba_0c5415364605row43_col2\" class=\"data row43 col2\" >56</td>\n",
       "                        <td id=\"T_d569fb30_4d71_11ea_aeba_0c5415364605row43_col3\" class=\"data row43 col3\" >27</td>\n",
       "                        <td id=\"T_d569fb30_4d71_11ea_aeba_0c5415364605row43_col4\" class=\"data row43 col4\" >5</td>\n",
       "                        <td id=\"T_d569fb30_4d71_11ea_aeba_0c5415364605row43_col5\" class=\"data row43 col5\" >16</td>\n",
       "            </tr>\n",
       "            <tr>\n",
       "                        <th id=\"T_d569fb30_4d71_11ea_aeba_0c5415364605level0_row44\" class=\"row_heading level0 row44\" >16</th>\n",
       "                        <td id=\"T_d569fb30_4d71_11ea_aeba_0c5415364605row44_col0\" class=\"data row44 col0\" >7</td>\n",
       "                        <td id=\"T_d569fb30_4d71_11ea_aeba_0c5415364605row44_col1\" class=\"data row44 col1\" >0</td>\n",
       "                        <td id=\"T_d569fb30_4d71_11ea_aeba_0c5415364605row44_col2\" class=\"data row44 col2\" >11</td>\n",
       "                        <td id=\"T_d569fb30_4d71_11ea_aeba_0c5415364605row44_col3\" class=\"data row44 col3\" >7</td>\n",
       "                        <td id=\"T_d569fb30_4d71_11ea_aeba_0c5415364605row44_col4\" class=\"data row44 col4\" >22</td>\n",
       "                        <td id=\"T_d569fb30_4d71_11ea_aeba_0c5415364605row44_col5\" class=\"data row44 col5\" >5</td>\n",
       "            </tr>\n",
       "            <tr>\n",
       "                        <th id=\"T_d569fb30_4d71_11ea_aeba_0c5415364605level0_row45\" class=\"row_heading level0 row45\" >efter</th>\n",
       "                        <td id=\"T_d569fb30_4d71_11ea_aeba_0c5415364605row45_col0\" class=\"data row45 col0\" >6</td>\n",
       "                        <td id=\"T_d569fb30_4d71_11ea_aeba_0c5415364605row45_col1\" class=\"data row45 col1\" >16</td>\n",
       "                        <td id=\"T_d569fb30_4d71_11ea_aeba_0c5415364605row45_col2\" class=\"data row45 col2\" >61</td>\n",
       "                        <td id=\"T_d569fb30_4d71_11ea_aeba_0c5415364605row45_col3\" class=\"data row45 col3\" >30</td>\n",
       "                        <td id=\"T_d569fb30_4d71_11ea_aeba_0c5415364605row45_col4\" class=\"data row45 col4\" >5</td>\n",
       "                        <td id=\"T_d569fb30_4d71_11ea_aeba_0c5415364605row45_col5\" class=\"data row45 col5\" >15</td>\n",
       "            </tr>\n",
       "            <tr>\n",
       "                        <th id=\"T_d569fb30_4d71_11ea_aeba_0c5415364605level0_row46\" class=\"row_heading level0 row46\" >8</th>\n",
       "                        <td id=\"T_d569fb30_4d71_11ea_aeba_0c5415364605row46_col0\" class=\"data row46 col0\" >6</td>\n",
       "                        <td id=\"T_d569fb30_4d71_11ea_aeba_0c5415364605row46_col1\" class=\"data row46 col1\" >0</td>\n",
       "                        <td id=\"T_d569fb30_4d71_11ea_aeba_0c5415364605row46_col2\" class=\"data row46 col2\" >37</td>\n",
       "                        <td id=\"T_d569fb30_4d71_11ea_aeba_0c5415364605row46_col3\" class=\"data row46 col3\" >23</td>\n",
       "                        <td id=\"T_d569fb30_4d71_11ea_aeba_0c5415364605row46_col4\" class=\"data row46 col4\" >38</td>\n",
       "                        <td id=\"T_d569fb30_4d71_11ea_aeba_0c5415364605row46_col5\" class=\"data row46 col5\" >9</td>\n",
       "            </tr>\n",
       "            <tr>\n",
       "                        <th id=\"T_d569fb30_4d71_11ea_aeba_0c5415364605level0_row47\" class=\"row_heading level0 row47\" >sig</th>\n",
       "                        <td id=\"T_d569fb30_4d71_11ea_aeba_0c5415364605row47_col0\" class=\"data row47 col0\" >6</td>\n",
       "                        <td id=\"T_d569fb30_4d71_11ea_aeba_0c5415364605row47_col1\" class=\"data row47 col1\" >45</td>\n",
       "                        <td id=\"T_d569fb30_4d71_11ea_aeba_0c5415364605row47_col2\" class=\"data row47 col2\" >159</td>\n",
       "                        <td id=\"T_d569fb30_4d71_11ea_aeba_0c5415364605row47_col3\" class=\"data row47 col3\" >89</td>\n",
       "                        <td id=\"T_d569fb30_4d71_11ea_aeba_0c5415364605row47_col4\" class=\"data row47 col4\" >8</td>\n",
       "                        <td id=\"T_d569fb30_4d71_11ea_aeba_0c5415364605row47_col5\" class=\"data row47 col5\" >51</td>\n",
       "            </tr>\n",
       "            <tr>\n",
       "                        <th id=\"T_d569fb30_4d71_11ea_aeba_0c5415364605level0_row48\" class=\"row_heading level0 row48\" >—</th>\n",
       "                        <td id=\"T_d569fb30_4d71_11ea_aeba_0c5415364605row48_col0\" class=\"data row48 col0\" >6</td>\n",
       "                        <td id=\"T_d569fb30_4d71_11ea_aeba_0c5415364605row48_col1\" class=\"data row48 col1\" >40</td>\n",
       "                        <td id=\"T_d569fb30_4d71_11ea_aeba_0c5415364605row48_col2\" class=\"data row48 col2\" >58</td>\n",
       "                        <td id=\"T_d569fb30_4d71_11ea_aeba_0c5415364605row48_col3\" class=\"data row48 col3\" >321</td>\n",
       "                        <td id=\"T_d569fb30_4d71_11ea_aeba_0c5415364605row48_col4\" class=\"data row48 col4\" >24</td>\n",
       "                        <td id=\"T_d569fb30_4d71_11ea_aeba_0c5415364605row48_col5\" class=\"data row48 col5\" >5</td>\n",
       "            </tr>\n",
       "            <tr>\n",
       "                        <th id=\"T_d569fb30_4d71_11ea_aeba_0c5415364605level0_row49\" class=\"row_heading level0 row49\" >4</th>\n",
       "                        <td id=\"T_d569fb30_4d71_11ea_aeba_0c5415364605row49_col0\" class=\"data row49 col0\" >6</td>\n",
       "                        <td id=\"T_d569fb30_4d71_11ea_aeba_0c5415364605row49_col1\" class=\"data row49 col1\" >5</td>\n",
       "                        <td id=\"T_d569fb30_4d71_11ea_aeba_0c5415364605row49_col2\" class=\"data row49 col2\" >96</td>\n",
       "                        <td id=\"T_d569fb30_4d71_11ea_aeba_0c5415364605row49_col3\" class=\"data row49 col3\" >67</td>\n",
       "                        <td id=\"T_d569fb30_4d71_11ea_aeba_0c5415364605row49_col4\" class=\"data row49 col4\" >67</td>\n",
       "                        <td id=\"T_d569fb30_4d71_11ea_aeba_0c5415364605row49_col5\" class=\"data row49 col5\" >22</td>\n",
       "            </tr>\n",
       "    </tbody></table>"
      ],
      "text/plain": [
       "<pandas.io.formats.style.Styler at 0x23e74f2c9e8>"
      ]
     },
     "execution_count": 4,
     "metadata": {},
     "output_type": "execute_result"
    }
   ],
   "source": [
    "nb.frame_sort(kilder_dtm, 'NBkilder_Kjerulf_1833.xml').head(50).style.background_gradient()"
   ]
  },
  {
   "cell_type": "markdown",
   "metadata": {},
   "source": [
    "# Se på en bestemt bok"
   ]
  },
  {
   "cell_type": "code",
   "execution_count": 5,
   "metadata": {},
   "outputs": [
    {
     "name": "stdout",
     "output_type": "stream",
     "text": [
      "[ innledende dikt ]\n",
      "\n",
      "« Höltys Lebenspflichten »\n",
      "Januar – Maaned .\n",
      "Jan 1 – 7. – Indtil den 3 die har jeg været paa Grini . Den 6 te , da det var min Tante Kajas Fødselsdag , tillige Fru Fuglsangs , havde vi om Formiddagen en Kanefart , arrangeret af Lieutenant Morgenstierne , som paa denne Tid opholder sig her . –\n",
      "\" – 7 . Begyndte Skolegangen igjen ; det Haab , vi havde næret i Julen , at Bugge skulde blive Rector og tiltræde idetmindste før PaaskeFebruar – skuffedes ; man taler om , at Rosted skal fungere til Paasken —\n",
      "\" 9 . Børnebal hos Statsraad Sibbern .\n",
      "\" – 14 . Idag reiser Christian Morgenstierne ; Wilhelm skal følge ham til Kongsvinger , hvor han skal være hos sin Broder i Quarantainen .\n",
      "\" – Efterretning om gamle Fuglsangs Død i Slagelse ; Dagen erindrer jeg ikke , men han døde i Slutningen af forrige Aar .\n",
      "\" – 18 – Tante Ottilias Fødselsdag .\n",
      "\" – 19 – Paa Lyceet , hvor gaves : a . 1 ) Ouverture til Fieldeventyret . 2 Variations af Herz udf . af Jfr Egeberg . Krigssang af Panny . b . 1 . Ouverturen til Adolph og Clara . 2 . Cavatine af la Fiancée , udf . af Skuespiller Wienecke . Ouverture af l . Fiance .\n",
      "\" – 20 . Barnebal hos Prof . Hansteen .\n",
      "\" – 22 . Døde min Klassekammerat O. C. Wulff af de saakaldte Sortekopper efter meget kort Sygdom ; vi faae formodentlig ei Tilladelse til at følge ham til Graven , da det under saadanne Omstændigheder er smitsomt .\n",
      "\" – 25 . Theatret : « Bortførelsen af Seraillet , Oper af Mozart ( ! ) .\n",
      "\" – I disse Dage har der gaaet det Rygte , at et afhugget Hoved af en dræbt Mand skal f være funden under Isen oppe ved Saugene ; men – vel at mærke – det befandtes siden at være – puur Løgn .\n",
      "\" 30 . Opførtes paa det Dramatiske Selskabs Theater : Dyveke af Samsøe . Udførelsen var maadelig nok .\n",
      "Februar\n",
      "Febr . 1 . Traadte Storthinget sammen .\n",
      "\" 4 . Paa Theatret , hvor gaves : Hoffnarren mod sin Villie . 2 Act . derpaa Heibergs Vaudeville : Kjærligheds Drømme , som interesserer meget , især ved Jfr . Pætges ’ s og Hr. Wieneckes gode Spil . Personerne ere : Dormevil : Hr. Jørgensen . Ernestine ( Sonnambulen ) : Jfr . Pætges . Gustav : Wienecke , Frederik : Berg , Maria : Jfr . Humbach , Baptist : Giebelhausen , Notarius : Balling . Musikken er ualmindelig godt valgt .\n",
      "\" 5.6.7 . MarkedsDage . Markedet er iaar som altid , høist ynkeligt , og en Hovedstad ganske uværdigt ; vare ikke Comedier og Baller i denne Tid , kunne vel neppe Fjælleboderne paa Torvet drage saamange Reisende til Byen . Paa Theatret opføres : 6 . Frierens Besøg samt de Uadskillelige . d 7 . Hans Sachs . d 8 . Seer Jer i Speil , Supplicanten og Aprilsnarrene . d.8 Ole Høiland , der var bortrømt , fangen paa Skydsjordet .\n",
      "\" 10 . Theatret : den første Kjærlighed samt Recensenten og Dyret .\n",
      "\" 13 . Aabnes Storthinget af Statsraad Collett . Bestemt til Opførelse : Kunstnerlig og Vennernes Fest , af hvilke dog kun det sidste blev givet , da ikke dHr Weyse og Wimmer vilde spille i det første , dersom de ei fik lige Deel i Indkomsten , da der denne Aften spilledes til Fordeel for Skuespillerne . De bleve derfor kaldte frem og modtagne med en velfortient Piben : Familien Riquebourg blev opført istedet .\n",
      "\" 15. skal Mad . Weyse være bleven udpeben , da hun var Aarsag i Spektaklerne d . 13.\n",
      "\" 16 . Lycee , hvor gaves tre Ouverturer ; et Pianof . Nummer af Hummel , udf af Fru Schilling . , Trio for Mandsstemmer , samt Fløitevariations af Fürstenau , udf af Hals .\n",
      "\" 18 . Cosmorama ( hvor jeg var ) De opstillede Stykker vare : 1 . Hjelmodalen 2 . Guldbrandsdalen imel Viig og Breiden . 3 Venedig . 4 . Leerfossen . 5 . Tronfieldet . 6 . Trollhättan med Sluserne . 7 . Karasiok . 8 . Moskow . 9 . Vindhellen paa Bergensveien . –\n",
      "\" 24 . Paa Theatret : 1 . Et Feiltrin , et Drama af Scribe , et smudsigt Thema , nydeligt og fiint behandlet ( fordeelagtig recenseret i Oehlenschlägers Prometheus ) . Grevinden gaves af Jfr . Pætges . 2 . Hovmesteren i Knibe , etn latterligt Vaudeville af Th . Overskou ; ihvilket Stykke især Mad Schrumpf som Ane og Giebelhausen som Thrane , udmærkede sig .\n",
      "Martz .\n",
      "Martz . 2 . Paa Lyceet , hvor gaves : 2 Ouverturer og 1 Symphonie . Variations af Herz udf af den ældre Frøken Thygeson . Aria af Titus udf af Mad . Schrumpf . Sextet af Titus . Duetto af Robert le Diable udf af Kaja og Julie Lasson .\n",
      "\" – 4 . Begyndte de saakaldte Candidatferier .\n",
      "\" – 5 . General WedelJarlsberg har faaet sin Afskeed som Commandant paa Aggershuus Fæstning .\n",
      "\" – 10 . Tante Julies Fødselsdag , tilbragt paa Grini\n",
      "\" – 16 . Lycee , hvor gaves : 3 Ouverturer , Violinpotpourri udf af Berg o.sv . De fleste Nummere gik usædvanligt slet – en Følge af at Schrumpf meldte sig syg , det Øieblik , Damerne gik ind i Salen . Hummel Trio , som Ottilia Lasson skulde spilt gik des aarsag ind .\n",
      "\" 17 . Fru Hielms Geburtsdag . Aften tilbragt hos Morgenstiernes .\n",
      "\" 22. kom Brev fra Dr. Leithoff , hvori han siger , at Ida kan hentes allerede i Juni .\n",
      "\" 23 . Christian Morgenstiernes Geburtsdag . – Efterretning om , at Kronpr . Oscar d . 28 Juni skal komme til Christiania og derpaa giøre en Reise til Bergen . Man taler ogsaa om , at Prindsessen med 2 Prindser skulle følge med.\n",
      "\" 24 . Fru Falsen og Henriette F. fra Hoen i Visit hos os . Em . paa Cosmorama ; af nye Stykker vare opstillede Gaupnefjord ; et andet Karasjok , et andet Trolhätta sluser . Skagastölsætre .\n",
      "\" 28 . Musicalsk Soiree hos Lassons . Af fremmede Musicerende vare : Thygesons Familie Fru Hofgaard , Wienecke , Hagbarth Falch og Wetterstrand . Der gaves : 3 Nummere af Lulu , Ouverturen til Samme udf af Begge frøkener Thygeson . Hummels Trio ( Ottilia ) Variationer af Herz paa et Thema af Joseph , udf af Charlotte Thygeson . Duett af Robert ( Jffr . Lasson ) Chor af den Stumme , Terzett af Elisabeth . Terzett af de to Dage ofl.\n",
      "\" 29 . Opføres paa Theatret Tragoedien Masaniello . Hans Rolle udf . af Berg . —\n",
      "\" 30 . Bedstefaders , Theodors samt Emilie Lassons Fødselsdag . Stang og Augusta Morgenstiernes Bryllupsdag . Lycee , blot een Afdeling , og Dands istedetfor den anden . Idag tog gamle Rosted Afskeed med os . Det er nu et almindeligt Haab , snarest mulig at faae Bugge til Rector .\n",
      "\" 31 . Caroline Lassons Fødselsdag .\n",
      "April\n",
      "April . 4 . Døde Fru Generalinde Aubert , omtrent Et Aar efter sin sal Mand og sin Søn Conrectoren .\n",
      "– 8 . Opførtes paa Theatret Bøchers Aandprodukt , den høist elendige Vaudeville « Doubletterne » . Bal hos Petersens paa deres Landsted .\n",
      "\" 11 . Døde Frøken Aubert , otte Dage efter Moderen . Cand . mag. L. Aubert skal læse Rosteds Fag og Prof . er flyttet i Harleffs Gaard , hvor Conrad L. Aubert døde ifjor . – Gid dog dette ei maatte være et Varsel om en snar Død for Oldingen !\n",
      "\" 14. blev Carl Kierulf confirmeret i Garnisonskirken ; Middag og Aften hos Kierulfs . Bl andre Confirmanter : Thora Hansteen , Cecilia Andresen . Sophie Aars hindredes fra at confirmeres ved Sygdom .\n",
      "\" 16 . Kom et høist uventet Brev i mine Hænder fra en Person , der i henimod tre Aar , skiønt jeg næsten daglig har seet ham , har været mig ligesom fremmed og fiendsk , skjønt han engang var min nærmeste Bekiendte .\n",
      "\" 21 . Blev Professor S. B. Bugge udnævnt til Rector , og vil snarest mulig tiltræde , men tillige holde Forelæsninger ved Universitetet .\n",
      "\" 24 . Paa Theatret , hvor gaves : Den første Kiærlighed af Scribe , en af Jfr Pætges ’ s heldigste Præstationer , som Emmeline ( og som Ernestine i Kiærligheds Drømme ) . Derpaa : Guldbryllupsfrierne .\n",
      "Mai\n",
      "Mai 1 . Moders Fødselsdag ; Selskab hjemme ; Fader ikke frisk\n",
      "\" – 3 . Prinds Carls Fødselsdag .\n",
      "\" – 5 . Kom Constitutionen . Fader sengeliggende .\n",
      "\" 8 . Bugge tiltraadte idag sit Rectorembede .\n",
      "\" 12 . Ankom Constitutionen med noget over 100 Passagerer i temmeligt haardt Veir .\n",
      "\" – 16. Christi-Himmelfartsdag . Om Aftenen paa Theatret , hvor gaves Dronningen paa 16 Aar , samt Vaudevillen Skibet .\n",
      "\" – 17 . Kl 8 Morgen afsløredes Kroghsstøtten under en forsamling af mange Mennesker . Henrik Wergeland ( ! ) holdt Talen , som lød meget høittravende og billedriig ; paa Asker skal der være Middagsselskab for Patrioter . Studenter høitideligholdt Dagen paa en af Øerne . Poppe en ivrig Frihedsmand , forlovet med Fru Heiberg havde Selskab , hvor Wergeland var . Paa Theatret Theatret opførtes Bierregaards « Magnus Barfods Sønner . Wergeland skal paa Theatret have raabt : « Jens Bøcher , Skaber af danske Skueplads paa norske Grund ( han sigtede til Doubletterne ) kom frem ; herpaa fulgte Piben , Hyssen , Klappen . Derpaa viste Repræsentanten Rector Boye sig fra Galleriet og sagde : « Retsind bød Normannakongen fra Skuepladsen – Retsind byder Norges Love ; hvorpaa Wergeland taug . —\n",
      "\" – 20 . Giacomo Brocattos Udstilling af Kobbere . Sangeren Ronniger fra Wien . —\n",
      "\" – 24 . Ronnigers Concert.Forestilling i forbindelse med Skuespillerne .\n",
      "\" – 30 . Sign . Cesare Gobbis ( fra Neapel ) forestilling i forening med Theaterpersonalet . Han synger Duetter , Bas og Sopran med en Slags Fistuleren . – Bestemmelse med Hensyn til Ida , at , da Fader fremdeles er sengeliggende , hun skal komme hjem alene enten 16 el 23 . Juni .\n",
      "Juni .\n",
      "Juni . d.2 . Kom Instructeur Nielsen og Hr Winsløw fra Kjøbenhavn for at give her et Par Giæsteroller og i Bergen flere .\n",
      "\" – 7 . Paa Theatret , hvor gaves . Prolog , Taarepilen paa Sct Helena , Julelegen , og – efter Opfordring – Min Søn vil did & c ( norma morum ) altsammen fremsagt af Nielsen , derpaa : Hans Sachs af Deinhardstein , hvor H. S. udf . af Nielsen , Runge af Winsløw jun.\n",
      "\" – 8 . Bestemtes at Torkildsen , Olsen og Poulsen bleve demitterede fra den lærde Skole , og at jeg skulde bie til næste Aar till Collett og Brøgger .\n",
      "\" 9 . Kom Doctor Ryge , Instructeur og Skuespiller ved det Danske Theater herop for alene at give Giæsteroller ; thi der skal være Uenighed imel ham og de forhen Ankomne , som Dr. R. selv skal have været Aarsag til\n",
      "\" 10 . Opførtes : Røverne af Schiller , hvor Carl Moors Partie udførtes med Held af Nilsen , og Franz Moors Parti udførtes mesterlig og til største Fuldkommenhed efter Pluralitetens Dom af Winsløw jun – I næste Uge skal Begge disse reise til Bergen , men man siger at de ved Tilbagekomsten agte at give nogle Giæsteroller ( Tordenskjold f . Ex )\n",
      "\" 12 . Oscars Ankomst med Prinds Carl ( Dampskibet ) fra Gothenborg er ansat til 18 Juli og hans Dampfart til Bergen til d . 2 Aug . —\n",
      "\" 14 . Paa Theatret , hvor gaves Hakon Jarl . Den rasende Trængsel om Formiddagen ved Billetcontoiret varsslede om en endnu større ved selve Indgangen . Da kun den halve Bagdør var aabnet for den sig indtrængende Masse , foraarsagede dette en frygtelig Trykken , Qvalmen for Damerne , Trætte , ja endog knytte Næver ; først skreg man : « op med Døren ! » , men da dette ikke frugtede sprengtes den af Publicum ; – Neppe fik man ved selve Forestillingen Skadeserstatning for Qvalmerne ved Døren ; thi , naar undtages Hakon selv , som Ryge mesterligt fremstilte , og Olaf og Einar , som gaves ret taalelig af Jørgensen og Berg – og til Nød Thora , som gaves af Jfr Pætges , saa var det øvrige Spil under al Critik . Det værste af alt var dog Maskineriet , som var i høi Grad scandaleust\n",
      "\" 15 . Torden , Lynild og en rasende Haglbyge . –\n",
      "\" 16 . Kom Ida fra Lübeck med Dampskibet , kl 12 om Natten , temmelig uventet , efter kun at have havt een Dag til at giøre sig færdig paa .\n",
      "\" 23 . St Hans Aften . Familien herfra og paa Grini ( jeg ogsaa ) paa Bærum , hvor der dandsedes til kl henimod 5 . Deels inde af Selskabet , deels ude om Maistangen af Folket ( Drengene i Sækken – Grotten – Kanonskud )\n",
      "\" 24 . I Dagens Morgenblad er officiel Beretning om at Kronprindsen paa under sit Ophold skal udføre en Vicekonges Functioner .\n",
      "\" 28 . Paa Theatret , hvor Jægerne af Iffland opførtes . Warberger gaves mesterlig og fuldendt af Dr Ryge , ligeledes spilled flere af de herværende Acteurer ret godt ; især Berg , Mad Voltz , Mad Schrumpf , Giebelhausen .\n",
      "Juli Maaned\n",
      "Juli . 1 – 13 . Examen paa Chr . lærde Skole . I denne Tid har Ryge givet flere Roller i Niels Ebbesen , Erasmus Montanus ( Peer Degn ) Amors Geniestreger , Christian 4 i Chr 4 des Dom af Søetoft .\n",
      "\" – 15 . Efterretning om at Kongen har været syg , men er nu bedre . – Ankom General Wedel og Fritz Wedel fra Stockholm ( d . 7 ankom Baronæssen med Datter og Gouvernante ( fra Odense ) med Dampskibet fra Kiøbenhavn . ) – Det Rommerigske Infanteriecorps indrykket i Staden . – Opføres paa Theatret : Østergade og Vestergade . Golz gives af Dr Ryge .\n",
      "\" . 16 . Arbeides ved Bryggerne paa en Broe paa Prammer og paa 2 de Obelisker beklædte med Granbar til Prindsens Modtagelse . Igaar ankom Kadetcorvetten ; ligeledes ere 3 af Prindsens Rideheste , og ingen Kjøreheste , ankomne . —\n"
     ]
    }
   ],
   "source": [
    "print('\\n'.join([' '.join(y) for y in kilder_korpus['NBkilder_Kjerulf_1833.xml']]))"
   ]
  },
  {
   "cell_type": "markdown",
   "metadata": {},
   "source": [
    "# Konkordanser"
   ]
  },
  {
   "cell_type": "markdown",
   "metadata": {},
   "source": [
    "### Søk i sekvenser av ord\n",
    "\n",
    "* Legg inn hvert ord i sekvensen i egne \" \" \n",
    "* Bruk komma mellom hvert søkeord\n",
    "* Before og after angir hvor mange ord du ønsker å se før og etter søkeordene"
   ]
  },
  {
   "cell_type": "code",
   "execution_count": 6,
   "metadata": {},
   "outputs": [
    {
     "data": {
      "text/markdown": [
       "### Konkordanser for *jeg er*"
      ],
      "text/plain": [
       "<IPython.core.display.Markdown object>"
      ]
     },
     "metadata": {},
     "output_type": "display_data"
    },
    {
     "data": {
      "text/markdown": [
       "#### NBkilder_Kjerulf_1840.xml"
      ],
      "text/plain": [
       "<IPython.core.display.Markdown object>"
      ]
     },
     "metadata": {},
     "output_type": "display_data"
    },
    {
     "data": {
      "text/markdown": [
       "8: – Men denne tomme Opregnen duer ikke og <span style='color:red'>jeg</span> <span style='color:red'>er</span> igrunden en Lægmand i Bedømmelsen af"
      ],
      "text/plain": [
       "<IPython.core.display.Markdown object>"
      ]
     },
     "metadata": {},
     "output_type": "display_data"
    },
    {
     "data": {
      "text/markdown": [
       "19: en Fioriture og smiler og leer – og <span style='color:red'>jeg</span> <span style='color:red'>er</span> stum , <span style='color:red'>jeg</span> <span style='color:red'>er</span> ikke istand"
      ],
      "text/plain": [
       "<IPython.core.display.Markdown object>"
      ]
     },
     "metadata": {},
     "output_type": "display_data"
    },
    {
     "data": {
      "text/markdown": [
       "19: og leer – og <span style='color:red'>jeg</span> <span style='color:red'>er</span> stum , <span style='color:red'>jeg</span> <span style='color:red'>er</span> ikke istand til røre mig thi"
      ],
      "text/plain": [
       "<IPython.core.display.Markdown object>"
      ]
     },
     "metadata": {},
     "output_type": "display_data"
    },
    {
     "data": {
      "text/markdown": [
       "31: Men <span style='color:red'>jeg</span> var næsten i Taarer , thi <span style='color:red'>jeg</span> <span style='color:red'>er</span> ung endda . Ak ! disse"
      ],
      "text/plain": [
       "<IPython.core.display.Markdown object>"
      ]
     },
     "metadata": {},
     "output_type": "display_data"
    },
    {
     "data": {
      "text/markdown": [
       "37: d . 18 : En Dag endnu og <span style='color:red'>jeg</span> <span style='color:red'>er</span> her ikke mere . Jeg kan"
      ],
      "text/plain": [
       "<IPython.core.display.Markdown object>"
      ]
     },
     "metadata": {},
     "output_type": "display_data"
    },
    {
     "data": {
      "text/markdown": [
       "46: denne Aften og <span style='color:red'>jeg</span> havde svigtet hende – <span style='color:red'>jeg</span> <span style='color:red'>er</span> vis paa hun aldrig vil tilgive"
      ],
      "text/plain": [
       "<IPython.core.display.Markdown object>"
      ]
     },
     "metadata": {},
     "output_type": "display_data"
    },
    {
     "data": {
      "text/markdown": [
       "#### NBkilder_Kjerulf_1850.xml"
      ],
      "text/plain": [
       "<IPython.core.display.Markdown object>"
      ]
     },
     "metadata": {},
     "output_type": "display_data"
    },
    {
     "data": {
      "text/markdown": [
       "21: ( ganske stille ) . Aa jo – <span style='color:red'>jeg</span> <span style='color:red'>er</span> dog fornøiet med Gade – han"
      ],
      "text/plain": [
       "<IPython.core.display.Markdown object>"
      ]
     },
     "metadata": {},
     "output_type": "display_data"
    },
    {
     "data": {
      "text/markdown": [
       "47: dog vel langt og noget enstonigt – men <span style='color:red'>jeg</span> <span style='color:red'>er</span> slet ikke vis derpaa . Det"
      ],
      "text/plain": [
       "<IPython.core.display.Markdown object>"
      ]
     },
     "metadata": {},
     "output_type": "display_data"
    },
    {
     "data": {
      "text/markdown": [
       "184: seet . Vi blive snart kjendte ; men <span style='color:red'>jeg</span> <span style='color:red'>er</span> for træt til at drikke Øl"
      ],
      "text/plain": [
       "<IPython.core.display.Markdown object>"
      ]
     },
     "metadata": {},
     "output_type": "display_data"
    },
    {
     "data": {
      "text/markdown": [
       "293: med Sperati . – Th . mener at <span style='color:red'>jeg</span> <span style='color:red'>er</span> saa slem at skrive til ."
      ],
      "text/plain": [
       "<IPython.core.display.Markdown object>"
      ]
     },
     "metadata": {},
     "output_type": "display_data"
    },
    {
     "data": {
      "text/markdown": [
       "#### NBkilder_Kjerulf_1851.xml"
      ],
      "text/plain": [
       "<IPython.core.display.Markdown object>"
      ]
     },
     "metadata": {},
     "output_type": "display_data"
    },
    {
     "data": {
      "text/markdown": [
       "162: — Aftenen i det kgl . Theater hvor <span style='color:red'>jeg</span> <span style='color:red'>er</span> meget heldig . Man giver Scribes"
      ],
      "text/plain": [
       "<IPython.core.display.Markdown object>"
      ]
     },
     "metadata": {},
     "output_type": "display_data"
    },
    {
     "data": {
      "text/markdown": [
       "222: ordentl sungne – men ingen Applaus ( hvad <span style='color:red'>jeg</span> <span style='color:red'>er</span> vant til – neml til ingen"
      ],
      "text/plain": [
       "<IPython.core.display.Markdown object>"
      ]
     },
     "metadata": {},
     "output_type": "display_data"
    },
    {
     "data": {
      "text/markdown": [
       "#### NBkilder_Kjerulf_1852.xml"
      ],
      "text/plain": [
       "<IPython.core.display.Markdown object>"
      ]
     },
     "metadata": {},
     "output_type": "display_data"
    },
    {
     "data": {
      "text/markdown": [
       "376: 15 Idag ankom Wankel & Timlers Flügel og <span style='color:red'>jeg</span> <span style='color:red'>er</span> vel tilfreds med det . –"
      ],
      "text/plain": [
       "<IPython.core.display.Markdown object>"
      ]
     },
     "metadata": {},
     "output_type": "display_data"
    }
   ],
   "source": [
    "for i in korpus_konk(['jeg', 'er'], kilder_korpus, before=8, after=8):\n",
    "    try:\n",
    "        display(Markdown(i))\n",
    "    except:\n",
    "        print(i)"
   ]
  },
  {
   "cell_type": "markdown",
   "metadata": {},
   "source": [
    "### Søk med regulære uttrykk\n",
    "\n",
    "Eksempler på syntaks for regulære uttrykk:\n",
    "*   \"henne[^ ]* \"  - henne + x antall vilkårlige tegn etter, etterfulgt av mellomrom.\n",
    "*   \" henne[^ ] \" - mellomrom + henne + et vilkårlig tegn etter, etterfulgt av mellomrom.\n",
    "*   \"henne[^ ]r[^ ] \" - henne + et vilkårlig tegn + r + et vilkårlig tegn, etterfulgt av mellomrom."
   ]
  },
  {
   "cell_type": "code",
   "execution_count": 8,
   "metadata": {},
   "outputs": [
    {
     "data": {
      "text/markdown": [
       "#### NBkilder_Kjerulf_1833.xml"
      ],
      "text/plain": [
       "<IPython.core.display.Markdown object>"
      ]
     },
     "metadata": {},
     "output_type": "display_data"
    },
    {
     "data": {
      "text/markdown": [
       "21: om de ei fik lige Deel i Indkomsten, da der denne <span style='color:red'>Aften </span>spilledes til Fordeel for Skuespillerne. De bleve "
      ],
      "text/plain": [
       "<IPython.core.display.Markdown object>"
      ]
     },
     "metadata": {},
     "output_type": "display_data"
    },
    {
     "data": {
      "text/markdown": [
       "32: \" 17. Fru Hielms Geburtsdag. <span style='color:red'>Aften </span>tilbragt hos Morgenstiernes."
      ],
      "text/plain": [
       "<IPython.core.display.Markdown object>"
      ]
     },
     "metadata": {},
     "output_type": "display_data"
    },
    {
     "data": {
      "text/markdown": [
       "44:  Kierulf confirmeret i Garnisonskirken; Middag og <span style='color:red'>Aften </span>hos Kierulfs. Bl andre Confirmanter: Thora Hanstee"
      ],
      "text/plain": [
       "<IPython.core.display.Markdown object>"
      ]
     },
     "metadata": {},
     "output_type": "display_data"
    },
    {
     "data": {
      "text/markdown": [
       "54: \" – 16.Christi-Himmelfartsdag. Om <span style='color:red'>Aftenen </span>paa Theatret, hvor gaves Dronningen paa 16 Aar, sa"
      ],
      "text/plain": [
       "<IPython.core.display.Markdown object>"
      ]
     },
     "metadata": {},
     "output_type": "display_data"
    },
    {
     "data": {
      "text/markdown": [
       "69: \" 23. St Hans <span style='color:red'>Aften. </span>Familien herfra og paa Grini (jeg ogsaa) paa Bærum"
      ],
      "text/plain": [
       "<IPython.core.display.Markdown object>"
      ]
     },
     "metadata": {},
     "output_type": "display_data"
    },
    {
     "data": {
      "text/markdown": [
       "#### NBkilder_Kjerulf_1840.xml"
      ],
      "text/plain": [
       "<IPython.core.display.Markdown object>"
      ]
     },
     "metadata": {},
     "output_type": "display_data"
    },
    {
     "data": {
      "text/markdown": [
       "6: et paa Place de lâ€™Europe og en endnu længere om <span style='color:red'>Aftenen </span>ved det i Versailles. I Palladset selv hvor Museet"
      ],
      "text/plain": [
       "<IPython.core.display.Markdown object>"
      ]
     },
     "metadata": {},
     "output_type": "display_data"
    },
    {
     "data": {
      "text/markdown": [
       "9: Min <span style='color:red'>Aften </span>tilbragte jeg i Viviennesalen hvor jeg atter hørte"
      ],
      "text/plain": [
       "<IPython.core.display.Markdown object>"
      ]
     },
     "metadata": {},
     "output_type": "display_data"
    },
    {
     "data": {
      "text/markdown": [
       "11: – Om <span style='color:red'>Aftenen </span>atter Valentino og atter Beethoven som man her spi"
      ],
      "text/plain": [
       "<IPython.core.display.Markdown object>"
      ]
     },
     "metadata": {},
     "output_type": "display_data"
    },
    {
     "data": {
      "text/markdown": [
       "16:  Richard i Rue Vivienne, til Café i Gymnase og om <span style='color:red'>Aftenen </span>i Tivolis skyggefulde Gange. Hvor jeg beklager dis"
      ],
      "text/plain": [
       "<IPython.core.display.Markdown object>"
      ]
     },
     "metadata": {},
     "output_type": "display_data"
    },
    {
     "data": {
      "text/markdown": [
       "17: ykkende da jeg atter gik tilbage over Broen. – Om <span style='color:red'>Aftenen </span>besøgte jeg atter mine Venner Valentino og Louis v"
      ],
      "text/plain": [
       "<IPython.core.display.Markdown object>"
      ]
     },
     "metadata": {},
     "output_type": "display_data"
    },
    {
     "data": {
      "text/markdown": [
       "21: n – ingen Anden!) De ere hemmelig gifte. Efter et <span style='color:red'>Aftensbesøg, </span>idet Greven skal forlade sin unge Brud, seer han s"
      ],
      "text/plain": [
       "<IPython.core.display.Markdown object>"
      ]
     },
     "metadata": {},
     "output_type": "display_data"
    },
    {
     "data": {
      "text/markdown": [
       "28: aa Gaderne, i Passagerne og paa Boulevarderne, en <span style='color:red'>Aften </span>i Theatret – det er allerede fategant nok for min "
      ],
      "text/plain": [
       "<IPython.core.display.Markdown object>"
      ]
     },
     "metadata": {},
     "output_type": "display_data"
    },
    {
     "data": {
      "text/markdown": [
       "30: efter Regnen blev Luften saa reen og kjølig og om <span style='color:red'>Aftenen </span>var det klart og luftigt og Maanen skinnede ned pa"
      ],
      "text/plain": [
       "<IPython.core.display.Markdown object>"
      ]
     },
     "metadata": {},
     "output_type": "display_data"
    },
    {
     "data": {
      "text/markdown": [
       "35: 30 &c. Ligeledes et Par gode Stykker af Gudin, et <span style='color:red'>Aftenlandskab </span>af Truchot, Duchessen af Berry med den lille Borde"
      ],
      "text/plain": [
       "<IPython.core.display.Markdown object>"
      ]
     },
     "metadata": {},
     "output_type": "display_data"
    },
    {
     "data": {
      "text/markdown": [
       "36: Om <span style='color:red'>Aftenen </span>morede jeg mig med Krag og Arentz hos Franconi i h"
      ],
      "text/plain": [
       "<IPython.core.display.Markdown object>"
      ]
     },
     "metadata": {},
     "output_type": "display_data"
    },
    {
     "data": {
      "text/markdown": [
       "43: det. Han var en Martyr den Arme – det var en lang <span style='color:red'>Aften. </span>Jeg kjedede mig næsten og jeg var misfornøiet og æ"
      ],
      "text/plain": [
       "<IPython.core.display.Markdown object>"
      ]
     },
     "metadata": {},
     "output_type": "display_data"
    },
    {
     "data": {
      "text/markdown": [
       "44: «Huguenotterne» forener sig med den om min første <span style='color:red'>Aften </span>i Paris. Det var en stolt, uforglemmelig Aftenstun"
      ],
      "text/plain": [
       "<IPython.core.display.Markdown object>"
      ]
     },
     "metadata": {},
     "output_type": "display_data"
    },
    {
     "data": {
      "text/markdown": [
       "46: e som min Annas! – Ak nu spillede hun igjen denne <span style='color:red'>Aften </span>og jeg havde svigtet hende – jeg er vis paa hun al"
      ],
      "text/plain": [
       "<IPython.core.display.Markdown object>"
      ]
     },
     "metadata": {},
     "output_type": "display_data"
    },
    {
     "data": {
      "text/markdown": [
       "47: og – det var gode Mennesker og det var den eneste <span style='color:red'>Aften </span>jeg har tilbragt en famille siden jeg i Mai forlod"
      ],
      "text/plain": [
       "<IPython.core.display.Markdown object>"
      ]
     },
     "metadata": {},
     "output_type": "display_data"
    },
    {
     "data": {
      "text/markdown": [
       "54: burg har jeg kun Lidt at fortælle; jeg var der en <span style='color:red'>Aften, </span>en Nat og en Formiddag; jeg fik neppe Tid til at g"
      ],
      "text/plain": [
       "<IPython.core.display.Markdown object>"
      ]
     },
     "metadata": {},
     "output_type": "display_data"
    },
    {
     "data": {
      "text/markdown": [
       "55:  Kl 4 med M* og R. ombord paa Prinds Carl. Søndag <span style='color:red'>Aften </span>Kl 7 var jeg atter hjemme. —"
      ],
      "text/plain": [
       "<IPython.core.display.Markdown object>"
      ]
     },
     "metadata": {},
     "output_type": "display_data"
    },
    {
     "data": {
      "text/markdown": [
       "#### NBkilder_Kjerulf_1850.xml"
      ],
      "text/plain": [
       "<IPython.core.display.Markdown object>"
      ]
     },
     "metadata": {},
     "output_type": "display_data"
    },
    {
     "data": {
      "text/markdown": [
       "4: 3. J. Welhaven hos mig om <span style='color:red'>Aftenen. </span>– 4. Sneeveir og Kaner paa Gaden om <span style='c"
      ],
      "text/plain": [
       "<IPython.core.display.Markdown object>"
      ]
     },
     "metadata": {},
     "output_type": "display_data"
    },
    {
     "data": {
      "text/markdown": [
       "5: atteren. Brev fra Moder og Theodor af 31d. Dec. – <span style='color:red'>Aften </span>hos Halkjærs. –"
      ],
      "text/plain": [
       "<IPython.core.display.Markdown object>"
      ]
     },
     "metadata": {},
     "output_type": "display_data"
    },
    {
     "data": {
      "text/markdown": [
       "6: ig. – Besøgt Fru Kjerulf (Gammelstrand) Middag og <span style='color:red'>Aftens </span>hos Holms. Muntert og behageligt. Frøknerne Mallin"
      ],
      "text/plain": [
       "<IPython.core.display.Markdown object>"
      ]
     },
     "metadata": {},
     "output_type": "display_data"
    },
    {
     "data": {
      "text/markdown": [
       "7: 7. Cigarjomfruen hos Trier. – Middag og <span style='color:red'>Aften </span>hos Paludans. (Karen Anker. Lt Thulstrup.) –"
      ],
      "text/plain": [
       "<IPython.core.display.Markdown object>"
      ]
     },
     "metadata": {},
     "output_type": "display_data"
    },
    {
     "data": {
      "text/markdown": [
       "8: 8. <span style='color:red'>Aften </span>hos Fru H. Kjerulf. Fru Owen. (Frøknerne Josephine"
      ],
      "text/plain": [
       "<IPython.core.display.Markdown object>"
      ]
     },
     "metadata": {},
     "output_type": "display_data"
    },
    {
     "data": {
      "text/markdown": [
       "14: 14. <span style='color:red'>Aften </span>hos Admde Müller. Min ford. Elev. – 2de Frøkener D"
      ],
      "text/plain": [
       "<IPython.core.display.Markdown object>"
      ]
     },
     "metadata": {},
     "output_type": "display_data"
    },
    {
     "data": {
      "text/markdown": [
       "15: 16. Middag og <span style='color:red'>Aftens </span>hos P. Halkjærs (Mme Stage og h.s Sang. Fkn Blom. "
      ],
      "text/plain": [
       "<IPython.core.display.Markdown object>"
      ]
     },
     "metadata": {},
     "output_type": "display_data"
    },
    {
     "data": {
      "text/markdown": [
       "17: 18. Om <span style='color:red'>Aftenen </span>hos Werlauff. Professoren, Fruen; 2 Herrer (Brødre"
      ],
      "text/plain": [
       "<IPython.core.display.Markdown object>"
      ]
     },
     "metadata": {},
     "output_type": "display_data"
    },
    {
     "data": {
      "text/markdown": [
       "19: 20. Middag hos Holms. – En yderst gemytlig <span style='color:red'>Aften </span>hos Rung. [Om Mme Smidths Stilling her – Om Fru He"
      ],
      "text/plain": [
       "<IPython.core.display.Markdown object>"
      ]
     },
     "metadata": {},
     "output_type": "display_data"
    },
    {
     "data": {
      "text/markdown": [
       "23: 23. Pludselig Forandr. i Veiret. Fm -8° til +2. – <span style='color:red'>Aften </span>hos Rungs. (2de Fkr Malling. Fr. Rung. Lobedanz. P"
      ],
      "text/plain": [
       "<IPython.core.display.Markdown object>"
      ]
     },
     "metadata": {},
     "output_type": "display_data"
    },
    {
     "data": {
      "text/markdown": [
       "24: piller hos Erslew flere Fragmenter af Mariotta. – <span style='color:red'>Aften </span>hos Admiralinde Müller."
      ],
      "text/plain": [
       "<IPython.core.display.Markdown object>"
      ]
     },
     "metadata": {},
     "output_type": "display_data"
    },
    {
     "data": {
      "text/markdown": [
       "31: 31. Deiligt klart Frostveir. Mod <span style='color:red'>Aften </span>koldere. – Atter Udsigter til Krig. – Concerterne "
      ],
      "text/plain": [
       "<IPython.core.display.Markdown object>"
      ]
     },
     "metadata": {},
     "output_type": "display_data"
    },
    {
     "data": {
      "text/markdown": [
       "36: estil og en svensk Sang Vårt Land. derefter stort <span style='color:red'>Aftensmaaltid </span>med Skaaltaler og Sange, især bellmannske. (Hammer"
      ],
      "text/plain": [
       "<IPython.core.display.Markdown object>"
      ]
     },
     "metadata": {},
     "output_type": "display_data"
    },
    {
     "data": {
      "text/markdown": [
       "37: Berggreen, Hansen, Hillebrandt m.fl.) – Middag og <span style='color:red'>Aften </span>hos Holms. (Kirsteins, Lt Schultz og hs Kone f. Ha"
      ],
      "text/plain": [
       "<IPython.core.display.Markdown object>"
      ]
     },
     "metadata": {},
     "output_type": "display_data"
    },
    {
     "data": {
      "text/markdown": [
       "38:  Munch i Athenæum. Hansen og Welhaven hos mig til <span style='color:red'>Aftens. </span>– Endelig Brev fra Norge – fra Moder, Brødrene og "
      ],
      "text/plain": [
       "<IPython.core.display.Markdown object>"
      ]
     },
     "metadata": {},
     "output_type": "display_data"
    },
    {
     "data": {
      "text/markdown": [
       "40: d, uanseelig og meget trivelig. Tyndt Huus. Samme <span style='color:red'>Aften </span>Theatrets Sørgefest for Oehlenschläger. (Hakon Jar"
      ],
      "text/plain": [
       "<IPython.core.display.Markdown object>"
      ]
     },
     "metadata": {},
     "output_type": "display_data"
    },
    {
     "data": {
      "text/markdown": [
       "42: enschläger. – Besøgt Rung. Martensens: – Midd. og <span style='color:red'>Aften </span>hos Holms (den søde Fru Augusta.)"
      ],
      "text/plain": [
       "<IPython.core.display.Markdown object>"
      ]
     },
     "metadata": {},
     "output_type": "display_data"
    },
    {
     "data": {
      "text/markdown": [
       "43: Scherzoen som Mellemsatser. – Middag hos Holms. – <span style='color:red'>Aften </span>i Theatret, ret en Latter-Aften. Scapins Skalkesty"
      ],
      "text/plain": [
       "<IPython.core.display.Markdown object>"
      ]
     },
     "metadata": {},
     "output_type": "display_data"
    },
    {
     "data": {
      "text/markdown": [
       "46: 14. Skrevet hjem. – Snefog om <span style='color:red'>Aftenen. </span>– I Theatret propfuldt Huus ianl af Fru Heibergs O"
      ],
      "text/plain": [
       "<IPython.core.display.Markdown object>"
      ]
     },
     "metadata": {},
     "output_type": "display_data"
    },
    {
     "data": {
      "text/markdown": [
       "51: 20. <span style='color:red'>Aften </span>hos Fru Kjerulf. (Cand Pram, Inspekt. ved ethnog. "
      ],
      "text/plain": [
       "<IPython.core.display.Markdown object>"
      ]
     },
     "metadata": {},
     "output_type": "display_data"
    },
    {
     "data": {
      "text/markdown": [
       "54: 23. Deilig Formiddag. Udsigt fra Rundetaarn. – <span style='color:red'>Aften </span>hos Admde Müller. (Fkne Drechsel. Fru Kf. Fkn Floc"
      ],
      "text/plain": [
       "<IPython.core.display.Markdown object>"
      ]
     },
     "metadata": {},
     "output_type": "display_data"
    },
    {
     "data": {
      "text/markdown": [
       "64: paa Staffeliet.) Mel. af Rung. – Midd. hos Holms. <span style='color:red'>Aften </span>i Theatret hvor jeg dog først kom da allerede 2 Ak"
      ],
      "text/plain": [
       "<IPython.core.display.Markdown object>"
      ]
     },
     "metadata": {},
     "output_type": "display_data"
    },
    {
     "data": {
      "text/markdown": [
       "66: Senere gik Dahlerup og Gade. De Øvrige bleve hele <span style='color:red'>Aftenen. </span>Pal. Müllers Personlighed giorde et mærkeligt Indt"
      ],
      "text/plain": [
       "<IPython.core.display.Markdown object>"
      ]
     },
     "metadata": {},
     "output_type": "display_data"
    },
    {
     "data": {
      "text/markdown": [
       "68: røken Sofie sang til et Par af dem. – Andersen. – <span style='color:red'>Aften </span>hos Adm Müller. Direktør Rothe m. Kone. Drechsels."
      ],
      "text/plain": [
       "<IPython.core.display.Markdown object>"
      ]
     },
     "metadata": {},
     "output_type": "display_data"
    },
    {
     "data": {
      "text/markdown": [
       "70: og ved 2den 2 ½ Rbd. – Middag hos Prof Hartmanns. <span style='color:red'>Aften </span>i Theatret: Norma; i flere Hens. ret vellykket, me"
      ],
      "text/plain": [
       "<IPython.core.display.Markdown object>"
      ]
     },
     "metadata": {},
     "output_type": "display_data"
    },
    {
     "data": {
      "text/markdown": [
       "74: s. Pas des fleurs. – Tomt og koldt paa Gaderne om <span style='color:red'>Aftenen. </span>– (Uniformer partout et toujours! (Hotel 2 Th. 15 "
      ],
      "text/plain": [
       "<IPython.core.display.Markdown object>"
      ]
     },
     "metadata": {},
     "output_type": "display_data"
    },
    {
     "data": {
      "text/markdown": [
       "79:  Udførelse. – Bekjendtskab med Svenskeren Norman. <span style='color:red'>Aften </span>i en Restaur. og derefter i Auerbachs Keller m. Li"
      ],
      "text/plain": [
       "<IPython.core.display.Markdown object>"
      ]
     },
     "metadata": {},
     "output_type": "display_data"
    },
    {
     "data": {
      "text/markdown": [
       "83: e komme ei med Posten; ere altf. langt tilbage. - <span style='color:red'>Aften </span>6 ½â€“9. Gewandhaus-Concert. Salen: oval, fortrinl"
      ],
      "text/plain": [
       "<IPython.core.display.Markdown object>"
      ]
     },
     "metadata": {},
     "output_type": "display_data"
    },
    {
     "data": {
      "text/markdown": [
       "89: istner skaffede mig Billet zur Sängerkirche. – Om <span style='color:red'>Aftenen </span>kom Flügelet fra Kössling [Betalt Præn 9 Th. for 1"
      ],
      "text/plain": [
       "<IPython.core.display.Markdown object>"
      ]
     },
     "metadata": {},
     "output_type": "display_data"
    },
    {
     "data": {
      "text/markdown": [
       "90: g der er ret et ægte tydsk gemytligt Kneipeliv om <span style='color:red'>Aftenerne. </span>– Eftm. Besøg af Normann der bragte tvende Landsmæ"
      ],
      "text/plain": [
       "<IPython.core.display.Markdown object>"
      ]
     },
     "metadata": {},
     "output_type": "display_data"
    },
    {
     "data": {
      "text/markdown": [
       "91: eg hører en Hymne af Hændel Kl. 2 i Thomaskirken. <span style='color:red'>Aften </span>i Theatret Meyerbeers Prophet. Over Forventning, s"
      ],
      "text/plain": [
       "<IPython.core.display.Markdown object>"
      ]
     },
     "metadata": {},
     "output_type": "display_data"
    },
    {
     "data": {
      "text/markdown": [
       "100: denthal. Kolb. Lindholt.) – Første Pedaløvelse. - <span style='color:red'>Aften </span>i Theatret: Propheten. Jo oftere man hører den, de"
      ],
      "text/plain": [
       "<IPython.core.display.Markdown object>"
      ]
     },
     "metadata": {},
     "output_type": "display_data"
    },
    {
     "data": {
      "text/markdown": [
       "103: .). – [ Romancen i Aly og Gulhundy færdig. Munchs <span style='color:red'>Aftensang </span>d.o –]. Efterm i Rosenthal hos Bonarand (Concert a"
      ],
      "text/plain": [
       "<IPython.core.display.Markdown object>"
      ]
     },
     "metadata": {},
     "output_type": "display_data"
    },
    {
     "data": {
      "text/markdown": [
       "107: 20. Bumleri om <span style='color:red'>Aftenen. </span>To Kneipeboder. – Oulibicheff om Don Juan og Zaube"
      ],
      "text/plain": [
       "<IPython.core.display.Markdown object>"
      ]
     },
     "metadata": {},
     "output_type": "display_data"
    },
    {
     "data": {
      "text/markdown": [
       "111: 22. Skrevet til Holms i Kbhvn. – <span style='color:red'>Aften </span>i Renzs Circus som er ganske fortrinlig i sit Slag"
      ],
      "text/plain": [
       "<IPython.core.display.Markdown object>"
      ]
     },
     "metadata": {},
     "output_type": "display_data"
    },
    {
     "data": {
      "text/markdown": [
       "118: – Schumann Lieder op. 48 1. op. 64. op. 25 1. – – <span style='color:red'>Aften </span>med Normann og Lindholt i Theatret: Propheten for "
      ],
      "text/plain": [
       "<IPython.core.display.Markdown object>"
      ]
     },
     "metadata": {},
     "output_type": "display_data"
    },
    {
     "data": {
      "text/markdown": [
       "129:  2d Bind af Bachs Wohltemp. Clavier af Bargiel. – <span style='color:red'>Aften </span>i Theatret: Freischütz. Agathe: Fr. Gundy. Anna: F"
      ],
      "text/plain": [
       "<IPython.core.display.Markdown object>"
      ]
     },
     "metadata": {},
     "output_type": "display_data"
    },
    {
     "data": {
      "text/markdown": [
       "132:  (I grossen Rauchhause. Scheffelgasse 8.) Eftm og <span style='color:red'>Aftenen </span>hovedsagelig paa den Brühlske Terrasse hvorfra Uds"
      ],
      "text/plain": [
       "<IPython.core.display.Markdown object>"
      ]
     },
     "metadata": {},
     "output_type": "display_data"
    },
    {
     "data": {
      "text/markdown": [
       "136: A. 22. — Forgjæves Visit hos Carlowitz og Dahl. – <span style='color:red'>Aftens: </span>Linckes Bad. —"
      ],
      "text/plain": [
       "<IPython.core.display.Markdown object>"
      ]
     },
     "metadata": {},
     "output_type": "display_data"
    },
    {
     "data": {
      "text/markdown": [
       "137:  ja, dette var dog en virkelig italiensk Opera! – <span style='color:red'>Aften </span>fra 9â€“11 paa Brühls Terrasse i det deiligste Maa"
      ],
      "text/plain": [
       "<IPython.core.display.Markdown object>"
      ]
     },
     "metadata": {},
     "output_type": "display_data"
    },
    {
     "data": {
      "text/markdown": [
       "138: e til Leipzig. - Hagelveir og Torden og Lynild om <span style='color:red'>Aftenen. </span>– [Politik: Attentatet paa Kongen af Preussen d 22"
      ],
      "text/plain": [
       "<IPython.core.display.Markdown object>"
      ]
     },
     "metadata": {},
     "output_type": "display_data"
    },
    {
     "data": {
      "text/markdown": [
       "143: 30. <span style='color:red'>Aftenspads. </span>til Lindenau. (Frankf. Weg.)"
      ],
      "text/plain": [
       "<IPython.core.display.Markdown object>"
      ]
     },
     "metadata": {},
     "output_type": "display_data"
    },
    {
     "data": {
      "text/markdown": [
       "146: reussen! – «Grenzboten». – Danmarks Rustninger. – <span style='color:red'>Aften </span>i Milchgarten."
      ],
      "text/plain": [
       "<IPython.core.display.Markdown object>"
      ]
     },
     "metadata": {},
     "output_type": "display_data"
    },
    {
     "data": {
      "text/markdown": [
       "148: . og jeg) at spadsere til Schönfeld i den deilige <span style='color:red'>Aften. </span>Udad Hintergasse, forbi Schützenhaus; den pragtful"
      ],
      "text/plain": [
       "<IPython.core.display.Markdown object>"
      ]
     },
     "metadata": {},
     "output_type": "display_data"
    },
    {
     "data": {
      "text/markdown": [
       "151: dèr – smukt Skovparti. – Derfra til Lindenau hvor <span style='color:red'>Aftensmaaltidet </span>indtoges. —"
      ],
      "text/plain": [
       "<IPython.core.display.Markdown object>"
      ]
     },
     "metadata": {},
     "output_type": "display_data"
    },
    {
     "data": {
      "text/markdown": [
       "154: eils Kaffeegarten og de ugeneerte Theaterdamer. – <span style='color:red'>Aften </span>i Gohlis."
      ],
      "text/plain": [
       "<IPython.core.display.Markdown object>"
      ]
     },
     "metadata": {},
     "output_type": "display_data"
    },
    {
     "data": {
      "text/markdown": [
       "160: Grevinde H. W. J. – Skrevet til Gude (og Moder) – <span style='color:red'>Aften </span>i Eutritschs Gosenschenke. —"
      ],
      "text/plain": [
       "<IPython.core.display.Markdown object>"
      ]
     },
     "metadata": {},
     "output_type": "display_data"
    },
    {
     "data": {
      "text/markdown": [
       "161: e ogsaa dennegang fortræffelige. (Guth og Kolb om <span style='color:red'>Aftenen </span>efter The hos Hesse fantasere vel stærkt paa Gr. a"
      ],
      "text/plain": [
       "<IPython.core.display.Markdown object>"
      ]
     },
     "metadata": {},
     "output_type": "display_data"
    },
    {
     "data": {
      "text/markdown": [
       "163: 23. En hed Sommerdag med den mildeste, deiligste <span style='color:red'>Aften </span>med Taageslør og Maaneskin. Om Aftenen i Lindenau."
      ],
      "text/plain": [
       "<IPython.core.display.Markdown object>"
      ]
     },
     "metadata": {},
     "output_type": "display_data"
    },
    {
     "data": {
      "text/markdown": [
       "164:  skaffet mig Adgang engang for Alle til Conservts <span style='color:red'>Aftenunderholdninger. </span>– Gade om Schumann, hans senere Virksomhed og især"
      ],
      "text/plain": [
       "<IPython.core.display.Markdown object>"
      ]
     },
     "metadata": {},
     "output_type": "display_data"
    },
    {
     "data": {
      "text/markdown": [
       "171: d. Denne Sgfg. har Renommé og fortjener den. – Om <span style='color:red'>Aftenen </span>efter Concerten var Festmaaltid m. Sange. Men denn"
      ],
      "text/plain": [
       "<IPython.core.display.Markdown object>"
      ]
     },
     "metadata": {},
     "output_type": "display_data"
    },
    {
     "data": {
      "text/markdown": [
       "182: ben der dog   fortrak. – Solnedgangen var smuk og <span style='color:red'>Aftenen </span>ret mild. En Flok Studenter (senere befandtes de a"
      ],
      "text/plain": [
       "<IPython.core.display.Markdown object>"
      ]
     },
     "metadata": {},
     "output_type": "display_data"
    },
    {
     "data": {
      "text/markdown": [
       "183:  Ruinerne. De nye Anlæg. Capellet saa jeg ikke. I <span style='color:red'>Aftenskumringen </span>fra Gernrode langs Skovkanten til det yndigt ligge"
      ],
      "text/plain": [
       "<IPython.core.display.Markdown object>"
      ]
     },
     "metadata": {},
     "output_type": "display_data"
    },
    {
     "data": {
      "text/markdown": [
       "185: ve som hyppig besøges af Hert. af Braunschweig. – <span style='color:red'>Aftenen </span>var vidunderlig frisk og skjøn – i Blankenburg var"
      ],
      "text/plain": [
       "<IPython.core.display.Markdown object>"
      ]
     },
     "metadata": {},
     "output_type": "display_data"
    },
    {
     "data": {
      "text/markdown": [
       "188:  Drypstensformationer). Gasthof z. gold. Löwen. – <span style='color:red'>Aftenvandring </span>i klar, kølig Luft til Elbingerode. Godt Nattekvar"
      ],
      "text/plain": [
       "<IPython.core.display.Markdown object>"
      ]
     },
     "metadata": {},
     "output_type": "display_data"
    },
    {
     "data": {
      "text/markdown": [
       "189: ighed gik op bag en Sky. – Maden var god men dyr. <span style='color:red'>Aftensmaaltid </span>ved Table dâ€™hote: Suppe, godt Kød med Gemüse; en"
      ],
      "text/plain": [
       "<IPython.core.display.Markdown object>"
      ]
     },
     "metadata": {},
     "output_type": "display_data"
    },
    {
     "data": {
      "text/markdown": [
       "190: raunschweig og fik et godt Kvarteer og et prægtig <span style='color:red'>Aftensmaaltid </span>med Viine hos Frühling i St. Bremen. (I Neustadt l"
      ],
      "text/plain": [
       "<IPython.core.display.Markdown object>"
      ]
     },
     "metadata": {},
     "output_type": "display_data"
    },
    {
     "data": {
      "text/markdown": [
       "193: nombrudt. (Kl 2 Em) Tydskerne maatte retirere. Om <span style='color:red'>Aftenen </span>drog de Danske ind i Slesvig. Eckernförde blev for"
      ],
      "text/plain": [
       "<IPython.core.display.Markdown object>"
      ]
     },
     "metadata": {},
     "output_type": "display_data"
    },
    {
     "data": {
      "text/markdown": [
       "194: . og Neue Leipz. – Igaar aftes i Lindenau. Deilig <span style='color:red'>Aftenstemning </span>og Solnedgang. – Idag hos Fiedler (Musiker, Ven af"
      ],
      "text/plain": [
       "<IPython.core.display.Markdown object>"
      ]
     },
     "metadata": {},
     "output_type": "display_data"
    },
    {
     "data": {
      "text/markdown": [
       "198:  af Schumann. – Moderne Trivialiteter af Wehle. – <span style='color:red'>Aften </span>i Lindenau."
      ],
      "text/plain": [
       "<IPython.core.display.Markdown object>"
      ]
     },
     "metadata": {},
     "output_type": "display_data"
    },
    {
     "data": {
      "text/markdown": [
       "206: e-Billeder til «Oscarshal». – – Utaalelig Hede! – <span style='color:red'>Aften </span>med Friedenthal og Lindhult i Tivoli. – Norman bor"
      ],
      "text/plain": [
       "<IPython.core.display.Markdown object>"
      ]
     },
     "metadata": {},
     "output_type": "display_data"
    },
    {
     "data": {
      "text/markdown": [
       "217: 25. Em. i Bäckerls Garten. <span style='color:red'>Aften </span>i Tivoli Dandsesalone hvor det vrimlede af Folk af"
      ],
      "text/plain": [
       "<IPython.core.display.Markdown object>"
      ]
     },
     "metadata": {},
     "output_type": "display_data"
    },
    {
     "data": {
      "text/markdown": [
       "220: te os da endelig paa sin tydske Lokomotivfart. En <span style='color:red'>Aften </span>i Berlin, en anden i Hamburg, en tredie atter i Be"
      ],
      "text/plain": [
       "<IPython.core.display.Markdown object>"
      ]
     },
     "metadata": {},
     "output_type": "display_data"
    },
    {
     "data": {
      "text/markdown": [
       "236:  fra Braunschweig. – Fkn. S. sang nogle Lieder. – <span style='color:red'>Aften </span>i Bierhalle i «Centralhalle». – Fremdeles deilige "
      ],
      "text/plain": [
       "<IPython.core.display.Markdown object>"
      ]
     },
     "metadata": {},
     "output_type": "display_data"
    },
    {
     "data": {
      "text/markdown": [
       "242: edgang. Paa gr. Winterberg glindsede Værtshuset i <span style='color:red'>Aftensolen. </span>Bjergene i Böhmen og Sachsen stode skarpt tegnede "
      ],
      "text/plain": [
       "<IPython.core.display.Markdown object>"
      ]
     },
     "metadata": {},
     "output_type": "display_data"
    },
    {
     "data": {
      "text/markdown": [
       "247:  og chinesiske Sager. C. har en Broder i Canton.) <span style='color:red'>Aften </span>i Theatret hvor Moretos fortræffelige ægte lyrisk-"
      ],
      "text/plain": [
       "<IPython.core.display.Markdown object>"
      ]
     },
     "metadata": {},
     "output_type": "display_data"
    },
    {
     "data": {
      "text/markdown": [
       "254: f Klæder. – Messespektakler og Snavs paa Gaderne. <span style='color:red'>Aften </span>i Theatret: Huguenotterne. Forskjellig Besætning f"
      ],
      "text/plain": [
       "<IPython.core.display.Markdown object>"
      ]
     },
     "metadata": {},
     "output_type": "display_data"
    },
    {
     "data": {
      "text/markdown": [
       "264: ig efter Bendeman; ellers fri Sammenstilling. — – <span style='color:red'>Aften </span>i Odeon."
      ],
      "text/plain": [
       "<IPython.core.display.Markdown object>"
      ]
     },
     "metadata": {},
     "output_type": "display_data"
    },
    {
     "data": {
      "text/markdown": [
       "285: «signal»iserer ham med altfor rosenrøde Farver. – <span style='color:red'>Aften </span>i Theatret. Schillers «Glocke» indr: for Scenen af"
      ],
      "text/plain": [
       "<IPython.core.display.Markdown object>"
      ]
     },
     "metadata": {},
     "output_type": "display_data"
    },
    {
     "data": {
      "text/markdown": [
       "287: Og Norman spiller af Klaveerudt. til «Peri». – Om <span style='color:red'>Aften </span>i Theatret: Mozarts Zauberflöte. I Arrangement og "
      ],
      "text/plain": [
       "<IPython.core.display.Markdown object>"
      ]
     },
     "metadata": {},
     "output_type": "display_data"
    },
    {
     "data": {
      "text/markdown": [
       "291: rdandserinde Mad Brue til Leipzig. Hun optræder i <span style='color:red'>Aften </span>som Zoloë i Aubers Dieu et la Bayadére. Kirchberge"
      ],
      "text/plain": [
       "<IPython.core.display.Markdown object>"
      ]
     },
     "metadata": {},
     "output_type": "display_data"
    },
    {
     "data": {
      "text/markdown": [
       "300: 8. Ak, disse Leipziger-Vintersøndage!! Om <span style='color:red'>Aftenen </span>i Theatret (thi hvorhen ellers?!), hvor Propheten "
      ],
      "text/plain": [
       "<IPython.core.display.Markdown object>"
      ]
     },
     "metadata": {},
     "output_type": "display_data"
    },
    {
     "data": {
      "text/markdown": [
       "301:  Immermann: (F.d) Liebeslied v. Goethe (A.d) – Om <span style='color:red'>Aftenen </span>hos Lindhult som ianl af sin 19.d Geburtsdag havde"
      ],
      "text/plain": [
       "<IPython.core.display.Markdown object>"
      ]
     },
     "metadata": {},
     "output_type": "display_data"
    },
    {
     "data": {
      "text/markdown": [
       "310: v Redner Handels Geografi og Statistik. NB.) – Om <span style='color:red'>Aftenen </span>i Hotel de Saxe med L. som fortalte om sine ulykke"
      ],
      "text/plain": [
       "<IPython.core.display.Markdown object>"
      ]
     },
     "metadata": {},
     "output_type": "display_data"
    },
    {
     "data": {
      "text/markdown": [
       "311:  – Kl. 10 hos Richter. Em. med L. og Magnusserne. <span style='color:red'>Aften </span>Lindhult og jeg alene sammen. Ensomhed i det Fremm"
      ],
      "text/plain": [
       "<IPython.core.display.Markdown object>"
      ]
     },
     "metadata": {},
     "output_type": "display_data"
    },
    {
     "data": {
      "text/markdown": [
       "313: . – E.m. med Svenskerne i Rosenthal hos Bonorand. <span style='color:red'>Aften </span>i Theatret: Robert der Teufel. Gudskelov; Behr var"
      ],
      "text/plain": [
       "<IPython.core.display.Markdown object>"
      ]
     },
     "metadata": {},
     "output_type": "display_data"
    },
    {
     "data": {
      "text/markdown": [
       "317:  men hørtes noget syg og skjælvende. Attendons! – <span style='color:red'>Aften </span>i Theatret forat gyde lidt frisk og reen Poesi i d"
      ],
      "text/plain": [
       "<IPython.core.display.Markdown object>"
      ]
     },
     "metadata": {},
     "output_type": "display_data"
    },
    {
     "data": {
      "text/markdown": [
       "#### NBkilder_Kjerulf_1851.xml"
      ],
      "text/plain": [
       "<IPython.core.display.Markdown object>"
      ]
     },
     "metadata": {},
     "output_type": "display_data"
    },
    {
     "data": {
      "text/markdown": [
       "2: e ombord paa et Fartøi der gik til Skotland. – Om <span style='color:red'>Aftenen </span>i Gewandhaus. 10de Abonnementconcert. En meget lan"
      ],
      "text/plain": [
       "<IPython.core.display.Markdown object>"
      ]
     },
     "metadata": {},
     "output_type": "display_data"
    },
    {
     "data": {
      "text/markdown": [
       "4:  blank men det formaar ei at fryse, ei engang mod <span style='color:red'>Aften </span>mens Stjernerne funkle. Men Kulden kommer vel efte"
      ],
      "text/plain": [
       "<IPython.core.display.Markdown object>"
      ]
     },
     "metadata": {},
     "output_type": "display_data"
    },
    {
     "data": {
      "text/markdown": [
       "18: et ogsaa af det store Publ. Nærmere imorgen. – Om <span style='color:red'>Aftenen </span>gik den længe omtalte Forestilling i Conservatorie"
      ],
      "text/plain": [
       "<IPython.core.display.Markdown object>"
      ]
     },
     "metadata": {},
     "output_type": "display_data"
    },
    {
     "data": {
      "text/markdown": [
       "23: Hr. G. Schmidt, en ung Herre der giver musikalske <span style='color:red'>Aftener </span>i Schlafrock og trakterer med Viin og Maaltider. N"
      ],
      "text/plain": [
       "<IPython.core.display.Markdown object>"
      ]
     },
     "metadata": {},
     "output_type": "display_data"
    },
    {
     "data": {
      "text/markdown": [
       "27: riefe an eine Freundin etc.» v. Elisa Mayer. — Om <span style='color:red'>Aftenen </span>bringer Postbudet et Brev fra Grevinde Hedevig. Ri"
      ],
      "text/plain": [
       "<IPython.core.display.Markdown object>"
      ]
     },
     "metadata": {},
     "output_type": "display_data"
    },
    {
     "data": {
      "text/markdown": [
       "29: t mig, og saa faar vi see hvad det vil frugte! –— <span style='color:red'>Aften </span>i\n",
       "Theatret: «Den Stumme». Widemann var dennegang M"
      ],
      "text/plain": [
       "<IPython.core.display.Markdown object>"
      ]
     },
     "metadata": {},
     "output_type": "display_data"
    },
    {
     "data": {
      "text/markdown": [
       "32: orfgeschichten. — Shakespeare. — Hos Döderlein om <span style='color:red'>Aftenen: </span>DHrr Wenzel, Eppstein og Jadahson (Elev af Liszt i"
      ],
      "text/plain": [
       "<IPython.core.display.Markdown object>"
      ]
     },
     "metadata": {},
     "output_type": "display_data"
    },
    {
     "data": {
      "text/markdown": [
       "39: t. Tillige begyndtes paa dobbelt Contrapunkt. – – <span style='color:red'>Aften </span>i Theatret hvor Halevys «Thal v. Andorre» atter op"
      ],
      "text/plain": [
       "<IPython.core.display.Markdown object>"
      ]
     },
     "metadata": {},
     "output_type": "display_data"
    },
    {
     "data": {
      "text/markdown": [
       "57:  ingenlunde frisk, gik jeg dog ud idag, og var om <span style='color:red'>Aftenen </span>i den nye store Sal i Centralhalle. (Renschs Casin"
      ],
      "text/plain": [
       "<IPython.core.display.Markdown object>"
      ]
     },
     "metadata": {},
     "output_type": "display_data"
    },
    {
     "data": {
      "text/markdown": [
       "75: ed. Applikatur v. Ritter. op. 7. (8 1/2 ng.).– Om <span style='color:red'>Aftenen </span>i Theatret Mozarts Figaro; Frl\n",
       "Mayer sang dennegan"
      ],
      "text/plain": [
       "<IPython.core.display.Markdown object>"
      ]
     },
     "metadata": {},
     "output_type": "display_data"
    },
    {
     "data": {
      "text/markdown": [
       "79: ste i Selskab med Fru Frege og Kistner. d 15de Om <span style='color:red'>Aftenen </span>var Tannhäuser. D 16de om Fm. spillede han for Sto"
      ],
      "text/plain": [
       "<IPython.core.display.Markdown object>"
      ]
     },
     "metadata": {},
     "output_type": "display_data"
    },
    {
     "data": {
      "text/markdown": [
       "105: 5. Koldt og vinterligt! — Om <span style='color:red'>Aftenen </span>hos Becker hvor han og Norman spille\n",
       "Beeths Violin"
      ],
      "text/plain": [
       "<IPython.core.display.Markdown object>"
      ]
     },
     "metadata": {},
     "output_type": "display_data"
    },
    {
     "data": {
      "text/markdown": [
       "106: 6. En <span style='color:red'>Aften </span>hos Dr. Härtel. Her skulde nemlig Normans Trio end"
      ],
      "text/plain": [
       "<IPython.core.display.Markdown object>"
      ]
     },
     "metadata": {},
     "output_type": "display_data"
    },
    {
     "data": {
      "text/markdown": [
       "108: lader ei til at N. ta'er imod. Flere af de senere <span style='color:red'>Aftener </span>hos Schatz har været ret gemytlige og jeg føler at"
      ],
      "text/plain": [
       "<IPython.core.display.Markdown object>"
      ]
     },
     "metadata": {},
     "output_type": "display_data"
    },
    {
     "data": {
      "text/markdown": [
       "109: Carl vil have sig et Pfte herfra til sin Brud. Om <span style='color:red'>Aftenen </span>Concert i Centralhalle af Stadtmusikchor under Bie"
      ],
      "text/plain": [
       "<IPython.core.display.Markdown object>"
      ]
     },
     "metadata": {},
     "output_type": "display_data"
    },
    {
     "data": {
      "text/markdown": [
       "115: a i C-dur. — Deiligt Veir og herligt Maaneskin om <span style='color:red'>Aftenerne. </span>Sahr skriver mig en smuk 4st Lied f. Männerchor i "
      ],
      "text/plain": [
       "<IPython.core.display.Markdown object>"
      ]
     },
     "metadata": {},
     "output_type": "display_data"
    },
    {
     "data": {
      "text/markdown": [
       "116: gen Glæde mel hans Kammerater. Stor Forsamling om <span style='color:red'>Aftenen </span>efter Concerten hos Schatz.\n",
       "Dette var min sidste A"
      ],
      "text/plain": [
       "<IPython.core.display.Markdown object>"
      ]
     },
     "metadata": {},
     "output_type": "display_data"
    },
    {
     "data": {
      "text/markdown": [
       "118: in; Caffe i kl. Kuchengarten; næsten Sommervarme. <span style='color:red'>Aften </span>i Theatret hvor atter\n",
       "Mendelssohns Heimkehr og Hov"
      ],
      "text/plain": [
       "<IPython.core.display.Markdown object>"
      ]
     },
     "metadata": {},
     "output_type": "display_data"
    },
    {
     "data": {
      "text/markdown": [
       "122: arx allg. Musiklehre. Begge faa Stambogsblade. Om <span style='color:red'>Aftenen </span>hos Schatz sammen med Norman, Lindhult, O. Magnus,"
      ],
      "text/plain": [
       "<IPython.core.display.Markdown object>"
      ]
     },
     "metadata": {},
     "output_type": "display_data"
    },
    {
     "data": {
      "text/markdown": [
       "124: . Cellefannelbygningen. Odeon. Fr. W. IIIs Statu. <span style='color:red'>Aften </span>i Operahuset hvor jeg desværre maa afspises med — "
      ],
      "text/plain": [
       "<IPython.core.display.Markdown object>"
      ]
     },
     "metadata": {},
     "output_type": "display_data"
    },
    {
     "data": {
      "text/markdown": [
       "125: et er rigt og ret smukt — 2 Logerader som hos os. <span style='color:red'>Aften </span>i en hæslig Bierkneipe — en fuld Professor og «løs"
      ],
      "text/plain": [
       "<IPython.core.display.Markdown object>"
      ]
     },
     "metadata": {},
     "output_type": "display_data"
    },
    {
     "data": {
      "text/markdown": [
       "128:  Delaroches Betlere i Rom. m.m. see Catalogen.) — <span style='color:red'>Aften </span>hos Mm Bargiel. 2 ret tækelige Døttre og to Sønner"
      ],
      "text/plain": [
       "<IPython.core.display.Markdown object>"
      ]
     },
     "metadata": {},
     "output_type": "display_data"
    },
    {
     "data": {
      "text/markdown": [
       "129: ssen paa Afstand (der var neml Middag i Slottet.) <span style='color:red'>Aften </span>i Operaen:\n",
       "Tauberts «Kirmess», ganske smuk og vel "
      ],
      "text/plain": [
       "<IPython.core.display.Markdown object>"
      ]
     },
     "metadata": {},
     "output_type": "display_data"
    },
    {
     "data": {
      "text/markdown": [
       "130: n Dansk som havde seet og kjent Rosenkrone i Rom. <span style='color:red'>Aftenen </span>hos Bargiel. Udtuskning af Stambogsblade. –"
      ],
      "text/plain": [
       "<IPython.core.display.Markdown object>"
      ]
     },
     "metadata": {},
     "output_type": "display_data"
    },
    {
     "data": {
      "text/markdown": [
       "140: ng med Frue og Søster og Cordes ude i\n",
       "Grafenberg. <span style='color:red'>Aftenen </span>tilforn havde jeg ogsaa været der med Gude, Bodom,"
      ],
      "text/plain": [
       "<IPython.core.display.Markdown object>"
      ]
     },
     "metadata": {},
     "output_type": "display_data"
    },
    {
     "data": {
      "text/markdown": [
       "141:  i Trierscher Hof paa Torvet, og der tilbringe vi <span style='color:red'>Aftenen </span>tilsammen."
      ],
      "text/plain": [
       "<IPython.core.display.Markdown object>"
      ]
     },
     "metadata": {},
     "output_type": "display_data"
    },
    {
     "data": {
      "text/markdown": [
       "146: ves da W. er syg og Fruen paa en Reise i Arnheim. <span style='color:red'>Aftenen </span>hos Theodor. (Brev fra Hjemmet: Kajas Forlovelse m"
      ],
      "text/plain": [
       "<IPython.core.display.Markdown object>"
      ]
     },
     "metadata": {},
     "output_type": "display_data"
    },
    {
     "data": {
      "text/markdown": [
       "149: ln; Liv ved Rhinbroen.) Ankomst i Df. Kl mod 9 om <span style='color:red'>Aftenen. </span>Gudes ere hos Boghandl. Kaulen hvorhen jeg hentes "
      ],
      "text/plain": [
       "<IPython.core.display.Markdown object>"
      ]
     },
     "metadata": {},
     "output_type": "display_data"
    },
    {
     "data": {
      "text/markdown": [
       "150:  først tilbage den næste Formiddag. – Den 18de om <span style='color:red'>Aftenen </span>er Concert i Geisster Sal i Dsseldorf. Det er den "
      ],
      "text/plain": [
       "<IPython.core.display.Markdown object>"
      ]
     },
     "metadata": {},
     "output_type": "display_data"
    },
    {
     "data": {
      "text/markdown": [
       "151: nnover Kl 6 E.M. Der er desværre intet Theater og <span style='color:red'>Aftenen </span>tilbringes med at rangle lidt om i Gaderne og paa "
      ],
      "text/plain": [
       "<IPython.core.display.Markdown object>"
      ]
     },
     "metadata": {},
     "output_type": "display_data"
    },
    {
     "data": {
      "text/markdown": [
       "155: aa en Maade der hverken var Fugl eller Fisk. – Om <span style='color:red'>Aftenen </span>atter i Thaliatheatret. Tre temmelig ubetydelige P"
      ],
      "text/plain": [
       "<IPython.core.display.Markdown object>"
      ]
     },
     "metadata": {},
     "output_type": "display_data"
    },
    {
     "data": {
      "text/markdown": [
       "156:  Omnibus gj Altona og til Streits Hotel. Endnu en <span style='color:red'>Aftenvandring </span>paa Jungferstieg. Atter Hulda."
      ],
      "text/plain": [
       "<IPython.core.display.Markdown object>"
      ]
     },
     "metadata": {},
     "output_type": "display_data"
    },
    {
     "data": {
      "text/markdown": [
       "157: r at afgaa med Slesvig eller Eideren til Kbhvn om <span style='color:red'>Aftenen. </span>Men da jeg havde alt færdigt fortæller Portieren m"
      ],
      "text/plain": [
       "<IPython.core.display.Markdown object>"
      ]
     },
     "metadata": {},
     "output_type": "display_data"
    },
    {
     "data": {
      "text/markdown": [
       "159: a Moder og Axel (af 20de). Middag hos Holms. Item <span style='color:red'>Aften </span>(Fætter Ph. Torst med Kone og Søn). Forresten besø"
      ],
      "text/plain": [
       "<IPython.core.display.Markdown object>"
      ]
     },
     "metadata": {},
     "output_type": "display_data"
    },
    {
     "data": {
      "text/markdown": [
       "162: ml Hr Holland Nielsen!! ––– – Middag hos Holms. — <span style='color:red'>Aftenen </span>i det kgl. Theater hvor jeg er meget heldig. Man g"
      ],
      "text/plain": [
       "<IPython.core.display.Markdown object>"
      ]
     },
     "metadata": {},
     "output_type": "display_data"
    },
    {
     "data": {
      "text/markdown": [
       "163: !!) med en fattig, gjeldsbunden dansk Baron. — Om <span style='color:red'>Aftenen </span>spadseret med Carl Holm til Charlottenlund og Ordr"
      ],
      "text/plain": [
       "<IPython.core.display.Markdown object>"
      ]
     },
     "metadata": {},
     "output_type": "display_data"
    },
    {
     "data": {
      "text/markdown": [
       "165: t fra Stranden mod Kronborg og til Landskrona. Om <span style='color:red'>Aftenen </span>langs Strandveien tilbage til Ordrup. Jeg gik med "
      ],
      "text/plain": [
       "<IPython.core.display.Markdown object>"
      ]
     },
     "metadata": {},
     "output_type": "display_data"
    },
    {
     "data": {
      "text/markdown": [
       "166: velt med Forberedelsen til Studentertoget. Ud paa <span style='color:red'>Aftenen </span>en lang Vandring med Gade der ender med et Besøg h"
      ],
      "text/plain": [
       "<IPython.core.display.Markdown object>"
      ]
     },
     "metadata": {},
     "output_type": "display_data"
    },
    {
     "data": {
      "text/markdown": [
       "168: ck og Fanny paa det nye Kalkbrænderi. — Seent paa <span style='color:red'>Aften </span>hos Gianelli (J.L. Schmidt. Thornam. mfl.)."
      ],
      "text/plain": [
       "<IPython.core.display.Markdown object>"
      ]
     },
     "metadata": {},
     "output_type": "display_data"
    },
    {
     "data": {
      "text/markdown": [
       "169: er længe og godt, dog vel verdsligt. Hjem Kl 9 om <span style='color:red'>Aftenen </span>(Tabt min grønne Tegnebog hvori Dagbog og Regnskab"
      ],
      "text/plain": [
       "<IPython.core.display.Markdown object>"
      ]
     },
     "metadata": {},
     "output_type": "display_data"
    },
    {
     "data": {
      "text/markdown": [
       "170: .) Forgjæves Besøg hos Rungs (Gothersgade No 15.) <span style='color:red'>Aften </span>alene ude i Tivoli. Det var koldt og en Smule keds"
      ],
      "text/plain": [
       "<IPython.core.display.Markdown object>"
      ]
     },
     "metadata": {},
     "output_type": "display_data"
    },
    {
     "data": {
      "text/markdown": [
       "172: t Veir hele Dagen. Kl 8 M. i Götheborg. Kl omtr 9 <span style='color:red'>Aften </span>indenfor Sandøsund. For Anker ved Vallö. (Rosenkro"
      ],
      "text/plain": [
       "<IPython.core.display.Markdown object>"
      ]
     },
     "metadata": {},
     "output_type": "display_data"
    },
    {
     "data": {
      "text/markdown": [
       "200: spillet af Ole Bull. Pfte akk. af Sperati. 9. Min <span style='color:red'>Aftensang, </span>maadelig udf. af Studenterne. 10. Klein Lovsang af"
      ],
      "text/plain": [
       "<IPython.core.display.Markdown object>"
      ]
     },
     "metadata": {},
     "output_type": "display_data"
    },
    {
     "data": {
      "text/markdown": [
       "#### NBkilder_Kjerulf_1852.xml"
      ],
      "text/plain": [
       "<IPython.core.display.Markdown object>"
      ]
     },
     "metadata": {},
     "output_type": "display_data"
    },
    {
     "data": {
      "text/markdown": [
       "127: 3. En sjelden behagelig <span style='color:red'>Aften </span>i Philharmonien. Ouv. Mozarts Entführung. 2 4st. L"
      ],
      "text/plain": [
       "<IPython.core.display.Markdown object>"
      ]
     },
     "metadata": {},
     "output_type": "display_data"
    },
    {
     "data": {
      "text/markdown": [
       "147: firmationsdag hos Lassons (Nils) Stort Selskab om <span style='color:red'>Aftenen. </span>Marie sang og jeg gjorde megen Lykke med mine Sang"
      ],
      "text/plain": [
       "<IPython.core.display.Markdown object>"
      ]
     },
     "metadata": {},
     "output_type": "display_data"
    },
    {
     "data": {
      "text/markdown": [
       "188:  og Lulla; Emilie Hjelm og lille Alexandra M*. Om <span style='color:red'>Aftenen </span>var en stor Bryllupsfest. En frisk Regn havde kjøl"
      ],
      "text/plain": [
       "<IPython.core.display.Markdown object>"
      ]
     },
     "metadata": {},
     "output_type": "display_data"
    },
    {
     "data": {
      "text/markdown": [
       "212: d om E.m. tilbaads ud til Oskarshall. Vidunderlig <span style='color:red'>Aften </span>paa Ladegaardsøen. – Wigwamen – Hovedgaardshaven –"
      ],
      "text/plain": [
       "<IPython.core.display.Markdown object>"
      ]
     },
     "metadata": {},
     "output_type": "display_data"
    },
    {
     "data": {
      "text/markdown": [
       "230: sen festlig og Stemningen den meest lovende. – Om <span style='color:red'>Aftenen </span>hos Thaulows sammen med et Par Svenske og Fru Rose"
      ],
      "text/plain": [
       "<IPython.core.display.Markdown object>"
      ]
     },
     "metadata": {},
     "output_type": "display_data"
    },
    {
     "data": {
      "text/markdown": [
       "231: t. Middag hos Richard Kf. Svenskeren Gällstedt. – <span style='color:red'>Aften </span>i det deiligste Sommerveir. Studenterfest i Studen"
      ],
      "text/plain": [
       "<IPython.core.display.Markdown object>"
      ]
     },
     "metadata": {},
     "output_type": "display_data"
    },
    {
     "data": {
      "text/markdown": [
       "232: ibe Berzelius og Nordcap føre os frem og tilbage. <span style='color:red'>Aften </span>i Theatret. Svenske Solosangere hos Holst. –"
      ],
      "text/plain": [
       "<IPython.core.display.Markdown object>"
      ]
     },
     "metadata": {},
     "output_type": "display_data"
    },
    {
     "data": {
      "text/markdown": [
       "234: e synge ude paa Munkedammen. – Klingenbergfest om <span style='color:red'>Aftenen </span>– desværre kommer Regn –"
      ],
      "text/plain": [
       "<IPython.core.display.Markdown object>"
      ]
     },
     "metadata": {},
     "output_type": "display_data"
    },
    {
     "data": {
      "text/markdown": [
       "291: nes Badehuus. – Atter trykkende Hede, med deilige <span style='color:red'>Aftener.\n",
       "– </span>En Pianist R. Haser giver Concerter ell medvirker "
      ],
      "text/plain": [
       "<IPython.core.display.Markdown object>"
      ]
     },
     "metadata": {},
     "output_type": "display_data"
    },
    {
     "data": {
      "text/markdown": [
       "294: 24. Regnveir. Ophold om <span style='color:red'>Aftenen. </span>Bal hos Thaulow. (Strecker og hans unge Kone, Datt"
      ],
      "text/plain": [
       "<IPython.core.display.Markdown object>"
      ]
     },
     "metadata": {},
     "output_type": "display_data"
    },
    {
     "data": {
      "text/markdown": [
       "420: 9. Musik <span style='color:red'>Aften </span>hos Lassons. Quartetter af S. A. T og B. (Kaja K. "
      ],
      "text/plain": [
       "<IPython.core.display.Markdown object>"
      ]
     },
     "metadata": {},
     "output_type": "display_data"
    },
    {
     "data": {
      "text/markdown": [
       "438: 17. Besøgt Fru Diriks – (Kirsten Stabell). – <span style='color:red'>Aften </span>Barnebal hos Lassons, hvor ogsaa mange Voxne vare."
      ],
      "text/plain": [
       "<IPython.core.display.Markdown object>"
      ]
     },
     "metadata": {},
     "output_type": "display_data"
    },
    {
     "data": {
      "text/markdown": [
       "441: erstykke i Fd til Fru Diriks nye Instrument.\n",
       "– Om <span style='color:red'>Aftenen </span>Welhavens og Agnes A. oppe hos os."
      ],
      "text/plain": [
       "<IPython.core.display.Markdown object>"
      ]
     },
     "metadata": {},
     "output_type": "display_data"
    },
    {
     "data": {
      "text/markdown": [
       "443: stveir og herligt Føre. – Hos Wessels en hyggelig <span style='color:red'>Aften </span>med Agnes, Marie Garben, Frøken Urdal og Hartvig L"
      ],
      "text/plain": [
       "<IPython.core.display.Markdown object>"
      ]
     },
     "metadata": {},
     "output_type": "display_data"
    },
    {
     "data": {
      "text/markdown": [
       "469: 5. Paa Vækkerø til Middag og <span style='color:red'>Aften </span>(Agnes. Marie G. Harald W. og Elise m.fl.) –"
      ],
      "text/plain": [
       "<IPython.core.display.Markdown object>"
      ]
     },
     "metadata": {},
     "output_type": "display_data"
    },
    {
     "data": {
      "text/markdown": [
       "487: er 4hd med Fkn Th. Beeth Bdur No 4, meget flinkt. <span style='color:red'>Aften </span>Quartett hos Carl Kjerulf (Ingen Tenor.)\n",
       "– Brev fr"
      ],
      "text/plain": [
       "<IPython.core.display.Markdown object>"
      ]
     },
     "metadata": {},
     "output_type": "display_data"
    },
    {
     "data": {
      "text/markdown": [
       "495: 30. Compt en Sang «Ynglingen» af Runeberg. – <span style='color:red'>Aften </span>hos Lassons (Hofgaards. Juells. Wolf. Marie Garben"
      ],
      "text/plain": [
       "<IPython.core.display.Markdown object>"
      ]
     },
     "metadata": {},
     "output_type": "display_data"
    },
    {
     "data": {
      "text/markdown": [
       "#### NBkilder_Kjerulf_1854.xml"
      ],
      "text/plain": [
       "<IPython.core.display.Markdown object>"
      ]
     },
     "metadata": {},
     "output_type": "display_data"
    },
    {
     "data": {
      "text/markdown": [
       "20: ngt sig i Philh. S. – Orkesteret assisterede hele <span style='color:red'>Aftenen; </span>man gav Mozarts mindre Symfoni i C, Bd Quartetten "
      ],
      "text/plain": [
       "<IPython.core.display.Markdown object>"
      ]
     },
     "metadata": {},
     "output_type": "display_data"
    },
    {
     "data": {
      "text/markdown": [
       "25: holdt Fætter Thorvald sin Geburtsdag ved at holde <span style='color:red'>Aftengilde </span>for sine Fættere. Han bor som en Gentleman, paa Fø"
      ],
      "text/plain": [
       "<IPython.core.display.Markdown object>"
      ]
     },
     "metadata": {},
     "output_type": "display_data"
    },
    {
     "data": {
      "text/markdown": [
       "40: erige til at benytte sig af den gode Leilighed. – <span style='color:red'>Aftenbl </span>for 6te d M har en uhyre djærv Art. mod Rusland. B"
      ],
      "text/plain": [
       "<IPython.core.display.Markdown object>"
      ]
     },
     "metadata": {},
     "output_type": "display_data"
    },
    {
     "data": {
      "text/markdown": [
       "44: ha og Anna samt Lina og Trine Welhaven var her om <span style='color:red'>Aftenen. </span>Th. var just ikke meget affabel men hos ham er Sin"
      ],
      "text/plain": [
       "<IPython.core.display.Markdown object>"
      ]
     },
     "metadata": {},
     "output_type": "display_data"
    },
    {
     "data": {
      "text/markdown": [
       "59: m idag vare udstillede i Kunstfs. Lokale. Det var <span style='color:red'>Aftenscene </span>ved Mjøsen (Sommeraften m Staffage – drømmerisk St"
      ],
      "text/plain": [
       "<IPython.core.display.Markdown object>"
      ]
     },
     "metadata": {},
     "output_type": "display_data"
    },
    {
     "data": {
      "text/markdown": [
       "68: gen var skyet og det regnede smaat. Marie sang om <span style='color:red'>Aftenen </span>virkelig fortræffeligt et Par Lieder af Schumann o"
      ],
      "text/plain": [
       "<IPython.core.display.Markdown object>"
      ]
     },
     "metadata": {},
     "output_type": "display_data"
    },
    {
     "data": {
      "text/markdown": [
       "73: gelig spiller. P.S. I Kjøbenhavn er Stykket samme <span style='color:red'>Aften </span>opført. Det gjorde nok Lykke men Applausen var ikk"
      ],
      "text/plain": [
       "<IPython.core.display.Markdown object>"
      ]
     },
     "metadata": {},
     "output_type": "display_data"
    },
    {
     "data": {
      "text/markdown": [
       "98: de ikke Halvdelen af Tilskuerne. – Hos Lassons om <span style='color:red'>Aftenen </span>sang Marie for Gude Schuberts Ständchen, Schumanns"
      ],
      "text/plain": [
       "<IPython.core.display.Markdown object>"
      ]
     },
     "metadata": {},
     "output_type": "display_data"
    },
    {
     "data": {
      "text/markdown": [
       "104: en og roede derfra til Sandviken hvor vi blev til <span style='color:red'>Aften </span>da vi gik til Næs. Herfra tog G. til Præstegaarden"
      ],
      "text/plain": [
       "<IPython.core.display.Markdown object>"
      ]
     },
     "metadata": {},
     "output_type": "display_data"
    },
    {
     "data": {
      "text/markdown": [
       "117: eg ikke stort. Om Eftm Kl 6 gik vi atter hjem med <span style='color:red'>Aftentoget </span>og var hjemme paa Banegaarden Kl 9. Moder havde ga"
      ],
      "text/plain": [
       "<IPython.core.display.Markdown object>"
      ]
     },
     "metadata": {},
     "output_type": "display_data"
    },
    {
     "data": {
      "text/markdown": [
       "120: g Sange 3die H. (4 Sange af Welhaven. Veiviseren. <span style='color:red'>Aftenstemning. </span>Ved Havet. Foraarsdigt.) II Romancer og Sange 4de "
      ],
      "text/plain": [
       "<IPython.core.display.Markdown object>"
      ]
     },
     "metadata": {},
     "output_type": "display_data"
    },
    {
     "data": {
      "text/markdown": [
       "139: igens forefalder et Slag forinden. – Agnes kom om <span style='color:red'>Aftenen </span>fra Kongsvinger. – I Onsdags fyldte Prof. Hansteen"
      ],
      "text/plain": [
       "<IPython.core.display.Markdown object>"
      ]
     },
     "metadata": {},
     "output_type": "display_data"
    }
   ],
   "source": [
    "for i in konk_regex(\"Aften[^ ]* \", kilder_korpus_string, before=50, after=50, colour=\"red\"):\n",
    "    display(Markdown(i))"
   ]
  },
  {
   "cell_type": "code",
   "execution_count": null,
   "metadata": {},
   "outputs": [],
   "source": []
  }
 ],
 "metadata": {
  "kernelspec": {
   "display_name": "Python 3",
   "language": "python",
   "name": "python3"
  },
  "language_info": {
   "codemirror_mode": {
    "name": "ipython",
    "version": 3
   },
   "file_extension": ".py",
   "mimetype": "text/x-python",
   "name": "python",
   "nbconvert_exporter": "python",
   "pygments_lexer": "ipython3",
   "version": "3.7.1"
  }
 },
 "nbformat": 4,
 "nbformat_minor": 2
}
