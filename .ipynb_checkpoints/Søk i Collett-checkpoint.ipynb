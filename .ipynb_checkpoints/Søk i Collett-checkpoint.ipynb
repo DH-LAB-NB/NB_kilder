{
 "cells": [
  {
   "cell_type": "markdown",
   "metadata": {},
   "source": [
    "# Kode og kommandoer\n",
    "\n",
    "Alle de nedenfor skal gi grunnleggende funksjonalitet for å arbeide med materialet. Alt kan knyttes til en webside etter hvert.\n",
    "\n",
    "Husk å trykke på Run helt fra toppen."
   ]
  },
  {
   "cell_type": "code",
   "execution_count": 1,
   "metadata": {},
   "outputs": [],
   "source": [
    "import dhlab.nbtext as nb\n",
    "from dhlab.nbtokenizer import tokenize\n",
    "from collections import Counter\n",
    "import pandas as pd\n",
    "\n",
    "import zipfile\n",
    "from bs4 import BeautifulSoup\n",
    "import sys\n",
    "import zipfile\n",
    "import re\n",
    "from IPython.display import display, Markdown\n",
    "\n",
    "## Korpuset kommer som en zip\n",
    "\n",
    "from corpus import *"
   ]
  },
  {
   "cell_type": "markdown",
   "metadata": {},
   "source": [
    "# Lag kilder\n",
    "\n",
    "Fra en zip-fil lag et korpus som kan brukes av kommandoene over."
   ]
  },
  {
   "cell_type": "code",
   "execution_count": 2,
   "metadata": {},
   "outputs": [],
   "source": [
    "kildezip = \"NBkilder_Collett.zip\"\n",
    "\n",
    "kildefiler = get_files_from_zip(kildezip)\n",
    "\n",
    "kilder_korpus = make_corpus(kildezip)\n",
    "\n",
    "kilder_korpus_string = make_corpus(kildezip, extraction= extract_text_as_string)"
   ]
  },
  {
   "cell_type": "markdown",
   "metadata": {},
   "source": [
    "# Dokument/term matrise DTM"
   ]
  },
  {
   "cell_type": "code",
   "execution_count": 3,
   "metadata": {},
   "outputs": [
    {
     "name": "stdout",
     "output_type": "stream",
     "text": [
      "NBkilder_Amundsen_Slededagbok.xml\n",
      "NBkilder_Collett_Brev_1841-51.xml\n",
      "NBkilder_Collett_Brev_1852-63.xml\n",
      "NBkilder_Collett_Brev_til_Bjornson.xml\n",
      "NBkilder_Collett_Brev_til_Ibsen.xml\n",
      "NBkilder_Collett_Brev_til_Lie.xml\n",
      "NBkilder_Collett_Skildpadde.xml\n",
      "NBkilder_Dardel_Voyage.xml\n",
      "NBkilder_Grunnlovskilder1814.xml\n",
      "NBkilder_Kjerulf_1833.xml\n",
      "NBkilder_Kjerulf_1840.xml\n",
      "NBkilder_Kjerulf_1850.xml\n",
      "NBkilder_Kjerulf_1851.xml\n",
      "NBkilder_Kjerulf_1852.xml\n",
      "NBkilder_Kjerulf_1854.xml\n",
      "NBkilder_KKielland_AGarborg_brev.xml\n",
      "NBkilder_KKielland_DSkavlan_brev.xml\n",
      "NBkilder_KKielland_EPeterssen_brev.xml\n",
      "NBkilder_Koren_1798.xml\n",
      "NBkilder_Koren_1802.xml\n",
      "NBkilder_Koren_1805.xml\n",
      "NBkilder_Koren_1808.xml\n",
      "NBkilder_Koren_1809.xml\n",
      "NBkilder_Koren_1810.xml\n",
      "NBkilder_Koren_1811.xml\n",
      "NBkilder_Koren_1812.xml\n",
      "NBkilder_Koren_1813.xml\n",
      "NBkilder_Koren_1814.xml\n",
      "NBkilder_Koren_1815.xml\n",
      "NBkilder_Undset_Fragmenter.xml\n"
     ]
    }
   ],
   "source": [
    "kilder_dtm = make_dtm(kilder_korpus).fillna(0)"
   ]
  },
  {
   "cell_type": "markdown",
   "metadata": {},
   "source": [
    "### Undersøk høyfrekvente ord\n",
    "\n",
    "Tabellen viser de mest brukte ordene, sortert etter den utgaven som er merket med rødt. Velg andre utgaver fra lista over. \n",
    "Tallet i parentes etter head angir hvor mange ord du vil se på.\n"
   ]
  },
  {
   "cell_type": "code",
   "execution_count": 4,
   "metadata": {},
   "outputs": [
    {
     "data": {
      "text/html": [
       "<style  type=\"text/css\" >\n",
       "    #T_e3181eb4_4ccb_11ea_abe8_0c5415364605row0_col0 {\n",
       "            background-color:  #d2d3e7;\n",
       "            color:  #000000;\n",
       "        }    #T_e3181eb4_4ccb_11ea_abe8_0c5415364605row0_col1 {\n",
       "            background-color:  #023858;\n",
       "            color:  #f1f1f1;\n",
       "        }    #T_e3181eb4_4ccb_11ea_abe8_0c5415364605row0_col2 {\n",
       "            background-color:  #023858;\n",
       "            color:  #f1f1f1;\n",
       "        }    #T_e3181eb4_4ccb_11ea_abe8_0c5415364605row0_col3 {\n",
       "            background-color:  #023858;\n",
       "            color:  #f1f1f1;\n",
       "        }    #T_e3181eb4_4ccb_11ea_abe8_0c5415364605row0_col4 {\n",
       "            background-color:  #023858;\n",
       "            color:  #f1f1f1;\n",
       "        }    #T_e3181eb4_4ccb_11ea_abe8_0c5415364605row0_col5 {\n",
       "            background-color:  #023858;\n",
       "            color:  #f1f1f1;\n",
       "        }    #T_e3181eb4_4ccb_11ea_abe8_0c5415364605row0_col6 {\n",
       "            background-color:  #023858;\n",
       "            color:  #f1f1f1;\n",
       "        }    #T_e3181eb4_4ccb_11ea_abe8_0c5415364605row0_col7 {\n",
       "            background-color:  #023858;\n",
       "            color:  #f1f1f1;\n",
       "        }    #T_e3181eb4_4ccb_11ea_abe8_0c5415364605row0_col8 {\n",
       "            background-color:  #023858;\n",
       "            color:  #f1f1f1;\n",
       "        }    #T_e3181eb4_4ccb_11ea_abe8_0c5415364605row0_col9 {\n",
       "            background-color:  #60a1ca;\n",
       "            color:  #000000;\n",
       "        }    #T_e3181eb4_4ccb_11ea_abe8_0c5415364605row0_col10 {\n",
       "            background-color:  #1c7fb8;\n",
       "            color:  #000000;\n",
       "        }    #T_e3181eb4_4ccb_11ea_abe8_0c5415364605row0_col11 {\n",
       "            background-color:  #cdd0e5;\n",
       "            color:  #000000;\n",
       "        }    #T_e3181eb4_4ccb_11ea_abe8_0c5415364605row0_col12 {\n",
       "            background-color:  #d5d5e8;\n",
       "            color:  #000000;\n",
       "        }    #T_e3181eb4_4ccb_11ea_abe8_0c5415364605row0_col13 {\n",
       "            background-color:  #f4edf6;\n",
       "            color:  #000000;\n",
       "        }    #T_e3181eb4_4ccb_11ea_abe8_0c5415364605row0_col14 {\n",
       "            background-color:  #e5e1ef;\n",
       "            color:  #000000;\n",
       "        }    #T_e3181eb4_4ccb_11ea_abe8_0c5415364605row0_col15 {\n",
       "            background-color:  #023858;\n",
       "            color:  #f1f1f1;\n",
       "        }    #T_e3181eb4_4ccb_11ea_abe8_0c5415364605row0_col16 {\n",
       "            background-color:  #023858;\n",
       "            color:  #f1f1f1;\n",
       "        }    #T_e3181eb4_4ccb_11ea_abe8_0c5415364605row0_col17 {\n",
       "            background-color:  #023858;\n",
       "            color:  #f1f1f1;\n",
       "        }    #T_e3181eb4_4ccb_11ea_abe8_0c5415364605row0_col18 {\n",
       "            background-color:  #023858;\n",
       "            color:  #f1f1f1;\n",
       "        }    #T_e3181eb4_4ccb_11ea_abe8_0c5415364605row0_col19 {\n",
       "            background-color:  #023858;\n",
       "            color:  #f1f1f1;\n",
       "        }    #T_e3181eb4_4ccb_11ea_abe8_0c5415364605row0_col20 {\n",
       "            background-color:  #023858;\n",
       "            color:  #f1f1f1;\n",
       "        }    #T_e3181eb4_4ccb_11ea_abe8_0c5415364605row0_col21 {\n",
       "            background-color:  #023858;\n",
       "            color:  #f1f1f1;\n",
       "        }    #T_e3181eb4_4ccb_11ea_abe8_0c5415364605row0_col22 {\n",
       "            background-color:  #023858;\n",
       "            color:  #f1f1f1;\n",
       "        }    #T_e3181eb4_4ccb_11ea_abe8_0c5415364605row0_col23 {\n",
       "            background-color:  #023858;\n",
       "            color:  #f1f1f1;\n",
       "        }    #T_e3181eb4_4ccb_11ea_abe8_0c5415364605row0_col24 {\n",
       "            background-color:  #023858;\n",
       "            color:  #f1f1f1;\n",
       "        }    #T_e3181eb4_4ccb_11ea_abe8_0c5415364605row0_col25 {\n",
       "            background-color:  #023858;\n",
       "            color:  #f1f1f1;\n",
       "        }    #T_e3181eb4_4ccb_11ea_abe8_0c5415364605row0_col26 {\n",
       "            background-color:  #023858;\n",
       "            color:  #f1f1f1;\n",
       "        }    #T_e3181eb4_4ccb_11ea_abe8_0c5415364605row0_col27 {\n",
       "            background-color:  #023858;\n",
       "            color:  #f1f1f1;\n",
       "        }    #T_e3181eb4_4ccb_11ea_abe8_0c5415364605row0_col28 {\n",
       "            background-color:  #023858;\n",
       "            color:  #f1f1f1;\n",
       "        }    #T_e3181eb4_4ccb_11ea_abe8_0c5415364605row0_col29 {\n",
       "            background-color:  #023858;\n",
       "            color:  #f1f1f1;\n",
       "        }    #T_e3181eb4_4ccb_11ea_abe8_0c5415364605row1_col0 {\n",
       "            background-color:  #023858;\n",
       "            color:  #f1f1f1;\n",
       "        }    #T_e3181eb4_4ccb_11ea_abe8_0c5415364605row1_col1 {\n",
       "            background-color:  #056aa6;\n",
       "            color:  #f1f1f1;\n",
       "        }    #T_e3181eb4_4ccb_11ea_abe8_0c5415364605row1_col2 {\n",
       "            background-color:  #3f93c2;\n",
       "            color:  #000000;\n",
       "        }    #T_e3181eb4_4ccb_11ea_abe8_0c5415364605row1_col3 {\n",
       "            background-color:  #1b7eb7;\n",
       "            color:  #000000;\n",
       "        }    #T_e3181eb4_4ccb_11ea_abe8_0c5415364605row1_col4 {\n",
       "            background-color:  #0f76b3;\n",
       "            color:  #f1f1f1;\n",
       "        }    #T_e3181eb4_4ccb_11ea_abe8_0c5415364605row1_col5 {\n",
       "            background-color:  #328dbf;\n",
       "            color:  #000000;\n",
       "        }    #T_e3181eb4_4ccb_11ea_abe8_0c5415364605row1_col6 {\n",
       "            background-color:  #348ebf;\n",
       "            color:  #000000;\n",
       "        }    #T_e3181eb4_4ccb_11ea_abe8_0c5415364605row1_col7 {\n",
       "            background-color:  #167bb6;\n",
       "            color:  #000000;\n",
       "        }    #T_e3181eb4_4ccb_11ea_abe8_0c5415364605row1_col8 {\n",
       "            background-color:  #023b5d;\n",
       "            color:  #f1f1f1;\n",
       "        }    #T_e3181eb4_4ccb_11ea_abe8_0c5415364605row1_col9 {\n",
       "            background-color:  #023858;\n",
       "            color:  #f1f1f1;\n",
       "        }    #T_e3181eb4_4ccb_11ea_abe8_0c5415364605row1_col10 {\n",
       "            background-color:  #0570b0;\n",
       "            color:  #f1f1f1;\n",
       "        }    #T_e3181eb4_4ccb_11ea_abe8_0c5415364605row1_col11 {\n",
       "            background-color:  #023858;\n",
       "            color:  #f1f1f1;\n",
       "        }    #T_e3181eb4_4ccb_11ea_abe8_0c5415364605row1_col12 {\n",
       "            background-color:  #023858;\n",
       "            color:  #f1f1f1;\n",
       "        }    #T_e3181eb4_4ccb_11ea_abe8_0c5415364605row1_col13 {\n",
       "            background-color:  #023858;\n",
       "            color:  #f1f1f1;\n",
       "        }    #T_e3181eb4_4ccb_11ea_abe8_0c5415364605row1_col14 {\n",
       "            background-color:  #023858;\n",
       "            color:  #f1f1f1;\n",
       "        }    #T_e3181eb4_4ccb_11ea_abe8_0c5415364605row1_col15 {\n",
       "            background-color:  #5a9ec9;\n",
       "            color:  #000000;\n",
       "        }    #T_e3181eb4_4ccb_11ea_abe8_0c5415364605row1_col16 {\n",
       "            background-color:  #71a8ce;\n",
       "            color:  #000000;\n",
       "        }    #T_e3181eb4_4ccb_11ea_abe8_0c5415364605row1_col17 {\n",
       "            background-color:  #6ba5cd;\n",
       "            color:  #000000;\n",
       "        }    #T_e3181eb4_4ccb_11ea_abe8_0c5415364605row1_col18 {\n",
       "            background-color:  #8cb3d5;\n",
       "            color:  #000000;\n",
       "        }    #T_e3181eb4_4ccb_11ea_abe8_0c5415364605row1_col19 {\n",
       "            background-color:  #a5bddb;\n",
       "            color:  #000000;\n",
       "        }    #T_e3181eb4_4ccb_11ea_abe8_0c5415364605row1_col20 {\n",
       "            background-color:  #b1c2de;\n",
       "            color:  #000000;\n",
       "        }    #T_e3181eb4_4ccb_11ea_abe8_0c5415364605row1_col21 {\n",
       "            background-color:  #a9bfdc;\n",
       "            color:  #000000;\n",
       "        }    #T_e3181eb4_4ccb_11ea_abe8_0c5415364605row1_col22 {\n",
       "            background-color:  #b4c4df;\n",
       "            color:  #000000;\n",
       "        }    #T_e3181eb4_4ccb_11ea_abe8_0c5415364605row1_col23 {\n",
       "            background-color:  #9cb9d9;\n",
       "            color:  #000000;\n",
       "        }    #T_e3181eb4_4ccb_11ea_abe8_0c5415364605row1_col24 {\n",
       "            background-color:  #adc1dd;\n",
       "            color:  #000000;\n",
       "        }    #T_e3181eb4_4ccb_11ea_abe8_0c5415364605row1_col25 {\n",
       "            background-color:  #abbfdc;\n",
       "            color:  #000000;\n",
       "        }    #T_e3181eb4_4ccb_11ea_abe8_0c5415364605row1_col26 {\n",
       "            background-color:  #93b5d6;\n",
       "            color:  #000000;\n",
       "        }    #T_e3181eb4_4ccb_11ea_abe8_0c5415364605row1_col27 {\n",
       "            background-color:  #8fb4d6;\n",
       "            color:  #000000;\n",
       "        }    #T_e3181eb4_4ccb_11ea_abe8_0c5415364605row1_col28 {\n",
       "            background-color:  #bdc8e1;\n",
       "            color:  #000000;\n",
       "        }    #T_e3181eb4_4ccb_11ea_abe8_0c5415364605row1_col29 {\n",
       "            background-color:  #056ead;\n",
       "            color:  #f1f1f1;\n",
       "        }    #T_e3181eb4_4ccb_11ea_abe8_0c5415364605row2_col0 {\n",
       "            background-color:  #f8f1f8;\n",
       "            color:  #000000;\n",
       "        }    #T_e3181eb4_4ccb_11ea_abe8_0c5415364605row2_col1 {\n",
       "            background-color:  #79abd0;\n",
       "            color:  #000000;\n",
       "        }    #T_e3181eb4_4ccb_11ea_abe8_0c5415364605row2_col2 {\n",
       "            background-color:  #88b1d4;\n",
       "            color:  #000000;\n",
       "        }    #T_e3181eb4_4ccb_11ea_abe8_0c5415364605row2_col3 {\n",
       "            background-color:  #b1c2de;\n",
       "            color:  #000000;\n",
       "        }    #T_e3181eb4_4ccb_11ea_abe8_0c5415364605row2_col4 {\n",
       "            background-color:  #adc1dd;\n",
       "            color:  #000000;\n",
       "        }    #T_e3181eb4_4ccb_11ea_abe8_0c5415364605row2_col5 {\n",
       "            background-color:  #bbc7e0;\n",
       "            color:  #000000;\n",
       "        }    #T_e3181eb4_4ccb_11ea_abe8_0c5415364605row2_col6 {\n",
       "            background-color:  #4295c3;\n",
       "            color:  #000000;\n",
       "        }    #T_e3181eb4_4ccb_11ea_abe8_0c5415364605row2_col7 {\n",
       "            background-color:  #b5c4df;\n",
       "            color:  #000000;\n",
       "        }    #T_e3181eb4_4ccb_11ea_abe8_0c5415364605row2_col8 {\n",
       "            background-color:  #4e9ac6;\n",
       "            color:  #000000;\n",
       "        }    #T_e3181eb4_4ccb_11ea_abe8_0c5415364605row2_col9 {\n",
       "            background-color:  #d9d8ea;\n",
       "            color:  #000000;\n",
       "        }    #T_e3181eb4_4ccb_11ea_abe8_0c5415364605row2_col10 {\n",
       "            background-color:  #023858;\n",
       "            color:  #f1f1f1;\n",
       "        }    #T_e3181eb4_4ccb_11ea_abe8_0c5415364605row2_col11 {\n",
       "            background-color:  #a5bddb;\n",
       "            color:  #000000;\n",
       "        }    #T_e3181eb4_4ccb_11ea_abe8_0c5415364605row2_col12 {\n",
       "            background-color:  #a7bddb;\n",
       "            color:  #000000;\n",
       "        }    #T_e3181eb4_4ccb_11ea_abe8_0c5415364605row2_col13 {\n",
       "            background-color:  #e7e3f0;\n",
       "            color:  #000000;\n",
       "        }    #T_e3181eb4_4ccb_11ea_abe8_0c5415364605row2_col14 {\n",
       "            background-color:  #a1bbda;\n",
       "            color:  #000000;\n",
       "        }    #T_e3181eb4_4ccb_11ea_abe8_0c5415364605row2_col15 {\n",
       "            background-color:  #c4cbe3;\n",
       "            color:  #000000;\n",
       "        }    #T_e3181eb4_4ccb_11ea_abe8_0c5415364605row2_col16 {\n",
       "            background-color:  #bcc7e1;\n",
       "            color:  #000000;\n",
       "        }    #T_e3181eb4_4ccb_11ea_abe8_0c5415364605row2_col17 {\n",
       "            background-color:  #cdd0e5;\n",
       "            color:  #000000;\n",
       "        }    #T_e3181eb4_4ccb_11ea_abe8_0c5415364605row2_col18 {\n",
       "            background-color:  #8fb4d6;\n",
       "            color:  #000000;\n",
       "        }    #T_e3181eb4_4ccb_11ea_abe8_0c5415364605row2_col19 {\n",
       "            background-color:  #bdc8e1;\n",
       "            color:  #000000;\n",
       "        }    #T_e3181eb4_4ccb_11ea_abe8_0c5415364605row2_col20 {\n",
       "            background-color:  #afc1dd;\n",
       "            color:  #000000;\n",
       "        }    #T_e3181eb4_4ccb_11ea_abe8_0c5415364605row2_col21 {\n",
       "            background-color:  #b3c3de;\n",
       "            color:  #000000;\n",
       "        }    #T_e3181eb4_4ccb_11ea_abe8_0c5415364605row2_col22 {\n",
       "            background-color:  #a5bddb;\n",
       "            color:  #000000;\n",
       "        }    #T_e3181eb4_4ccb_11ea_abe8_0c5415364605row2_col23 {\n",
       "            background-color:  #99b8d8;\n",
       "            color:  #000000;\n",
       "        }    #T_e3181eb4_4ccb_11ea_abe8_0c5415364605row2_col24 {\n",
       "            background-color:  #86b0d3;\n",
       "            color:  #000000;\n",
       "        }    #T_e3181eb4_4ccb_11ea_abe8_0c5415364605row2_col25 {\n",
       "            background-color:  #94b6d7;\n",
       "            color:  #000000;\n",
       "        }    #T_e3181eb4_4ccb_11ea_abe8_0c5415364605row2_col26 {\n",
       "            background-color:  #8eb3d5;\n",
       "            color:  #000000;\n",
       "        }    #T_e3181eb4_4ccb_11ea_abe8_0c5415364605row2_col27 {\n",
       "            background-color:  #a8bedc;\n",
       "            color:  #000000;\n",
       "        }    #T_e3181eb4_4ccb_11ea_abe8_0c5415364605row2_col28 {\n",
       "            background-color:  #a2bcda;\n",
       "            color:  #000000;\n",
       "        }    #T_e3181eb4_4ccb_11ea_abe8_0c5415364605row2_col29 {\n",
       "            background-color:  #62a2cb;\n",
       "            color:  #000000;\n",
       "        }    #T_e3181eb4_4ccb_11ea_abe8_0c5415364605row3_col0 {\n",
       "            background-color:  #fff7fb;\n",
       "            color:  #000000;\n",
       "        }    #T_e3181eb4_4ccb_11ea_abe8_0c5415364605row3_col1 {\n",
       "            background-color:  #79abd0;\n",
       "            color:  #000000;\n",
       "        }    #T_e3181eb4_4ccb_11ea_abe8_0c5415364605row3_col2 {\n",
       "            background-color:  #a9bfdc;\n",
       "            color:  #000000;\n",
       "        }    #T_e3181eb4_4ccb_11ea_abe8_0c5415364605row3_col3 {\n",
       "            background-color:  #7eadd1;\n",
       "            color:  #000000;\n",
       "        }    #T_e3181eb4_4ccb_11ea_abe8_0c5415364605row3_col4 {\n",
       "            background-color:  #96b6d7;\n",
       "            color:  #000000;\n",
       "        }    #T_e3181eb4_4ccb_11ea_abe8_0c5415364605row3_col5 {\n",
       "            background-color:  #b3c3de;\n",
       "            color:  #000000;\n",
       "        }    #T_e3181eb4_4ccb_11ea_abe8_0c5415364605row3_col6 {\n",
       "            background-color:  #81aed2;\n",
       "            color:  #000000;\n",
       "        }    #T_e3181eb4_4ccb_11ea_abe8_0c5415364605row3_col7 {\n",
       "            background-color:  #f6eff7;\n",
       "            color:  #000000;\n",
       "        }    #T_e3181eb4_4ccb_11ea_abe8_0c5415364605row3_col8 {\n",
       "            background-color:  #fff7fb;\n",
       "            color:  #000000;\n",
       "        }    #T_e3181eb4_4ccb_11ea_abe8_0c5415364605row3_col9 {\n",
       "            background-color:  #fbf4f9;\n",
       "            color:  #000000;\n",
       "        }    #T_e3181eb4_4ccb_11ea_abe8_0c5415364605row3_col10 {\n",
       "            background-color:  #b1c2de;\n",
       "            color:  #000000;\n",
       "        }    #T_e3181eb4_4ccb_11ea_abe8_0c5415364605row3_col11 {\n",
       "            background-color:  #f9f2f8;\n",
       "            color:  #000000;\n",
       "        }    #T_e3181eb4_4ccb_11ea_abe8_0c5415364605row3_col12 {\n",
       "            background-color:  #f7f0f7;\n",
       "            color:  #000000;\n",
       "        }    #T_e3181eb4_4ccb_11ea_abe8_0c5415364605row3_col13 {\n",
       "            background-color:  #fef6fa;\n",
       "            color:  #000000;\n",
       "        }    #T_e3181eb4_4ccb_11ea_abe8_0c5415364605row3_col14 {\n",
       "            background-color:  #f8f1f8;\n",
       "            color:  #000000;\n",
       "        }    #T_e3181eb4_4ccb_11ea_abe8_0c5415364605row3_col15 {\n",
       "            background-color:  #b0c2de;\n",
       "            color:  #000000;\n",
       "        }    #T_e3181eb4_4ccb_11ea_abe8_0c5415364605row3_col16 {\n",
       "            background-color:  #d3d4e7;\n",
       "            color:  #000000;\n",
       "        }    #T_e3181eb4_4ccb_11ea_abe8_0c5415364605row3_col17 {\n",
       "            background-color:  #c8cde4;\n",
       "            color:  #000000;\n",
       "        }    #T_e3181eb4_4ccb_11ea_abe8_0c5415364605row3_col18 {\n",
       "            background-color:  #fff7fb;\n",
       "            color:  #000000;\n",
       "        }    #T_e3181eb4_4ccb_11ea_abe8_0c5415364605row3_col19 {\n",
       "            background-color:  #cccfe5;\n",
       "            color:  #000000;\n",
       "        }    #T_e3181eb4_4ccb_11ea_abe8_0c5415364605row3_col20 {\n",
       "            background-color:  #ede7f2;\n",
       "            color:  #000000;\n",
       "        }    #T_e3181eb4_4ccb_11ea_abe8_0c5415364605row3_col21 {\n",
       "            background-color:  #e1dfed;\n",
       "            color:  #000000;\n",
       "        }    #T_e3181eb4_4ccb_11ea_abe8_0c5415364605row3_col22 {\n",
       "            background-color:  #e0deed;\n",
       "            color:  #000000;\n",
       "        }    #T_e3181eb4_4ccb_11ea_abe8_0c5415364605row3_col23 {\n",
       "            background-color:  #d9d8ea;\n",
       "            color:  #000000;\n",
       "        }    #T_e3181eb4_4ccb_11ea_abe8_0c5415364605row3_col24 {\n",
       "            background-color:  #d2d2e7;\n",
       "            color:  #000000;\n",
       "        }    #T_e3181eb4_4ccb_11ea_abe8_0c5415364605row3_col25 {\n",
       "            background-color:  #d4d4e8;\n",
       "            color:  #000000;\n",
       "        }    #T_e3181eb4_4ccb_11ea_abe8_0c5415364605row3_col26 {\n",
       "            background-color:  #d2d3e7;\n",
       "            color:  #000000;\n",
       "        }    #T_e3181eb4_4ccb_11ea_abe8_0c5415364605row3_col27 {\n",
       "            background-color:  #d9d8ea;\n",
       "            color:  #000000;\n",
       "        }    #T_e3181eb4_4ccb_11ea_abe8_0c5415364605row3_col28 {\n",
       "            background-color:  #cccfe5;\n",
       "            color:  #000000;\n",
       "        }    #T_e3181eb4_4ccb_11ea_abe8_0c5415364605row3_col29 {\n",
       "            background-color:  #d5d5e8;\n",
       "            color:  #000000;\n",
       "        }    #T_e3181eb4_4ccb_11ea_abe8_0c5415364605row4_col0 {\n",
       "            background-color:  #fbf3f9;\n",
       "            color:  #000000;\n",
       "        }    #T_e3181eb4_4ccb_11ea_abe8_0c5415364605row4_col1 {\n",
       "            background-color:  #a5bddb;\n",
       "            color:  #000000;\n",
       "        }    #T_e3181eb4_4ccb_11ea_abe8_0c5415364605row4_col2 {\n",
       "            background-color:  #b4c4df;\n",
       "            color:  #000000;\n",
       "        }    #T_e3181eb4_4ccb_11ea_abe8_0c5415364605row4_col3 {\n",
       "            background-color:  #6ba5cd;\n",
       "            color:  #000000;\n",
       "        }    #T_e3181eb4_4ccb_11ea_abe8_0c5415364605row4_col4 {\n",
       "            background-color:  #a4bcda;\n",
       "            color:  #000000;\n",
       "        }    #T_e3181eb4_4ccb_11ea_abe8_0c5415364605row4_col5 {\n",
       "            background-color:  #b5c4df;\n",
       "            color:  #000000;\n",
       "        }    #T_e3181eb4_4ccb_11ea_abe8_0c5415364605row4_col6 {\n",
       "            background-color:  #7eadd1;\n",
       "            color:  #000000;\n",
       "        }    #T_e3181eb4_4ccb_11ea_abe8_0c5415364605row4_col7 {\n",
       "            background-color:  #f7f0f7;\n",
       "            color:  #000000;\n",
       "        }    #T_e3181eb4_4ccb_11ea_abe8_0c5415364605row4_col8 {\n",
       "            background-color:  #c4cbe3;\n",
       "            color:  #000000;\n",
       "        }    #T_e3181eb4_4ccb_11ea_abe8_0c5415364605row4_col9 {\n",
       "            background-color:  #f1ebf4;\n",
       "            color:  #000000;\n",
       "        }    #T_e3181eb4_4ccb_11ea_abe8_0c5415364605row4_col10 {\n",
       "            background-color:  #dad9ea;\n",
       "            color:  #000000;\n",
       "        }    #T_e3181eb4_4ccb_11ea_abe8_0c5415364605row4_col11 {\n",
       "            background-color:  #f4edf6;\n",
       "            color:  #000000;\n",
       "        }    #T_e3181eb4_4ccb_11ea_abe8_0c5415364605row4_col12 {\n",
       "            background-color:  #f2ecf5;\n",
       "            color:  #000000;\n",
       "        }    #T_e3181eb4_4ccb_11ea_abe8_0c5415364605row4_col13 {\n",
       "            background-color:  #fdf5fa;\n",
       "            color:  #000000;\n",
       "        }    #T_e3181eb4_4ccb_11ea_abe8_0c5415364605row4_col14 {\n",
       "            background-color:  #e7e3f0;\n",
       "            color:  #000000;\n",
       "        }    #T_e3181eb4_4ccb_11ea_abe8_0c5415364605row4_col15 {\n",
       "            background-color:  #b4c4df;\n",
       "            color:  #000000;\n",
       "        }    #T_e3181eb4_4ccb_11ea_abe8_0c5415364605row4_col16 {\n",
       "            background-color:  #d6d6e9;\n",
       "            color:  #000000;\n",
       "        }    #T_e3181eb4_4ccb_11ea_abe8_0c5415364605row4_col17 {\n",
       "            background-color:  #c5cce3;\n",
       "            color:  #000000;\n",
       "        }    #T_e3181eb4_4ccb_11ea_abe8_0c5415364605row4_col18 {\n",
       "            background-color:  #ced0e6;\n",
       "            color:  #000000;\n",
       "        }    #T_e3181eb4_4ccb_11ea_abe8_0c5415364605row4_col19 {\n",
       "            background-color:  #e7e3f0;\n",
       "            color:  #000000;\n",
       "        }    #T_e3181eb4_4ccb_11ea_abe8_0c5415364605row4_col20 {\n",
       "            background-color:  #eae6f1;\n",
       "            color:  #000000;\n",
       "        }    #T_e3181eb4_4ccb_11ea_abe8_0c5415364605row4_col21 {\n",
       "            background-color:  #e7e3f0;\n",
       "            color:  #000000;\n",
       "        }    #T_e3181eb4_4ccb_11ea_abe8_0c5415364605row4_col22 {\n",
       "            background-color:  #eae6f1;\n",
       "            color:  #000000;\n",
       "        }    #T_e3181eb4_4ccb_11ea_abe8_0c5415364605row4_col23 {\n",
       "            background-color:  #e6e2ef;\n",
       "            color:  #000000;\n",
       "        }    #T_e3181eb4_4ccb_11ea_abe8_0c5415364605row4_col24 {\n",
       "            background-color:  #e3e0ee;\n",
       "            color:  #000000;\n",
       "        }    #T_e3181eb4_4ccb_11ea_abe8_0c5415364605row4_col25 {\n",
       "            background-color:  #e2dfee;\n",
       "            color:  #000000;\n",
       "        }    #T_e3181eb4_4ccb_11ea_abe8_0c5415364605row4_col26 {\n",
       "            background-color:  #e1dfed;\n",
       "            color:  #000000;\n",
       "        }    #T_e3181eb4_4ccb_11ea_abe8_0c5415364605row4_col27 {\n",
       "            background-color:  #e1dfed;\n",
       "            color:  #000000;\n",
       "        }    #T_e3181eb4_4ccb_11ea_abe8_0c5415364605row4_col28 {\n",
       "            background-color:  #dedcec;\n",
       "            color:  #000000;\n",
       "        }    #T_e3181eb4_4ccb_11ea_abe8_0c5415364605row4_col29 {\n",
       "            background-color:  #dfddec;\n",
       "            color:  #000000;\n",
       "        }    #T_e3181eb4_4ccb_11ea_abe8_0c5415364605row5_col0 {\n",
       "            background-color:  #ced0e6;\n",
       "            color:  #000000;\n",
       "        }    #T_e3181eb4_4ccb_11ea_abe8_0c5415364605row5_col1 {\n",
       "            background-color:  #b5c4df;\n",
       "            color:  #000000;\n",
       "        }    #T_e3181eb4_4ccb_11ea_abe8_0c5415364605row5_col2 {\n",
       "            background-color:  #d0d1e6;\n",
       "            color:  #000000;\n",
       "        }    #T_e3181eb4_4ccb_11ea_abe8_0c5415364605row5_col3 {\n",
       "            background-color:  #d8d7e9;\n",
       "            color:  #000000;\n",
       "        }    #T_e3181eb4_4ccb_11ea_abe8_0c5415364605row5_col4 {\n",
       "            background-color:  #d0d1e6;\n",
       "            color:  #000000;\n",
       "        }    #T_e3181eb4_4ccb_11ea_abe8_0c5415364605row5_col5 {\n",
       "            background-color:  #d9d8ea;\n",
       "            color:  #000000;\n",
       "        }    #T_e3181eb4_4ccb_11ea_abe8_0c5415364605row5_col6 {\n",
       "            background-color:  #dfddec;\n",
       "            color:  #000000;\n",
       "        }    #T_e3181eb4_4ccb_11ea_abe8_0c5415364605row5_col7 {\n",
       "            background-color:  #eee8f3;\n",
       "            color:  #000000;\n",
       "        }    #T_e3181eb4_4ccb_11ea_abe8_0c5415364605row5_col8 {\n",
       "            background-color:  #d3d4e7;\n",
       "            color:  #000000;\n",
       "        }    #T_e3181eb4_4ccb_11ea_abe8_0c5415364605row5_col9 {\n",
       "            background-color:  #d9d8ea;\n",
       "            color:  #000000;\n",
       "        }    #T_e3181eb4_4ccb_11ea_abe8_0c5415364605row5_col10 {\n",
       "            background-color:  #80aed2;\n",
       "            color:  #000000;\n",
       "        }    #T_e3181eb4_4ccb_11ea_abe8_0c5415364605row5_col11 {\n",
       "            background-color:  #cdd0e5;\n",
       "            color:  #000000;\n",
       "        }    #T_e3181eb4_4ccb_11ea_abe8_0c5415364605row5_col12 {\n",
       "            background-color:  #f3edf5;\n",
       "            color:  #000000;\n",
       "        }    #T_e3181eb4_4ccb_11ea_abe8_0c5415364605row5_col13 {\n",
       "            background-color:  #056caa;\n",
       "            color:  #f1f1f1;\n",
       "        }    #T_e3181eb4_4ccb_11ea_abe8_0c5415364605row5_col14 {\n",
       "            background-color:  #d5d5e8;\n",
       "            color:  #000000;\n",
       "        }    #T_e3181eb4_4ccb_11ea_abe8_0c5415364605row5_col15 {\n",
       "            background-color:  #d4d4e8;\n",
       "            color:  #000000;\n",
       "        }    #T_e3181eb4_4ccb_11ea_abe8_0c5415364605row5_col16 {\n",
       "            background-color:  #eee9f3;\n",
       "            color:  #000000;\n",
       "        }    #T_e3181eb4_4ccb_11ea_abe8_0c5415364605row5_col17 {\n",
       "            background-color:  #e0dded;\n",
       "            color:  #000000;\n",
       "        }    #T_e3181eb4_4ccb_11ea_abe8_0c5415364605row5_col18 {\n",
       "            background-color:  #b7c5df;\n",
       "            color:  #000000;\n",
       "        }    #T_e3181eb4_4ccb_11ea_abe8_0c5415364605row5_col19 {\n",
       "            background-color:  #e0deed;\n",
       "            color:  #000000;\n",
       "        }    #T_e3181eb4_4ccb_11ea_abe8_0c5415364605row5_col20 {\n",
       "            background-color:  #c1cae2;\n",
       "            color:  #000000;\n",
       "        }    #T_e3181eb4_4ccb_11ea_abe8_0c5415364605row5_col21 {\n",
       "            background-color:  #f0eaf4;\n",
       "            color:  #000000;\n",
       "        }    #T_e3181eb4_4ccb_11ea_abe8_0c5415364605row5_col22 {\n",
       "            background-color:  #e4e1ef;\n",
       "            color:  #000000;\n",
       "        }    #T_e3181eb4_4ccb_11ea_abe8_0c5415364605row5_col23 {\n",
       "            background-color:  #ede8f3;\n",
       "            color:  #000000;\n",
       "        }    #T_e3181eb4_4ccb_11ea_abe8_0c5415364605row5_col24 {\n",
       "            background-color:  #e2dfee;\n",
       "            color:  #000000;\n",
       "        }    #T_e3181eb4_4ccb_11ea_abe8_0c5415364605row5_col25 {\n",
       "            background-color:  #ece7f2;\n",
       "            color:  #000000;\n",
       "        }    #T_e3181eb4_4ccb_11ea_abe8_0c5415364605row5_col26 {\n",
       "            background-color:  #f2ecf5;\n",
       "            color:  #000000;\n",
       "        }    #T_e3181eb4_4ccb_11ea_abe8_0c5415364605row5_col27 {\n",
       "            background-color:  #f1ebf4;\n",
       "            color:  #000000;\n",
       "        }    #T_e3181eb4_4ccb_11ea_abe8_0c5415364605row5_col28 {\n",
       "            background-color:  #f2ecf5;\n",
       "            color:  #000000;\n",
       "        }    #T_e3181eb4_4ccb_11ea_abe8_0c5415364605row5_col29 {\n",
       "            background-color:  #7eadd1;\n",
       "            color:  #000000;\n",
       "        }    #T_e3181eb4_4ccb_11ea_abe8_0c5415364605row6_col0 {\n",
       "            background-color:  #fbf3f9;\n",
       "            color:  #000000;\n",
       "        }    #T_e3181eb4_4ccb_11ea_abe8_0c5415364605row6_col1 {\n",
       "            background-color:  #c4cbe3;\n",
       "            color:  #000000;\n",
       "        }    #T_e3181eb4_4ccb_11ea_abe8_0c5415364605row6_col2 {\n",
       "            background-color:  #d2d2e7;\n",
       "            color:  #000000;\n",
       "        }    #T_e3181eb4_4ccb_11ea_abe8_0c5415364605row6_col3 {\n",
       "            background-color:  #d2d2e7;\n",
       "            color:  #000000;\n",
       "        }    #T_e3181eb4_4ccb_11ea_abe8_0c5415364605row6_col4 {\n",
       "            background-color:  #c0c9e2;\n",
       "            color:  #000000;\n",
       "        }    #T_e3181eb4_4ccb_11ea_abe8_0c5415364605row6_col5 {\n",
       "            background-color:  #b9c6e0;\n",
       "            color:  #000000;\n",
       "        }    #T_e3181eb4_4ccb_11ea_abe8_0c5415364605row6_col6 {\n",
       "            background-color:  #b7c5df;\n",
       "            color:  #000000;\n",
       "        }    #T_e3181eb4_4ccb_11ea_abe8_0c5415364605row6_col7 {\n",
       "            background-color:  #f3edf5;\n",
       "            color:  #000000;\n",
       "        }    #T_e3181eb4_4ccb_11ea_abe8_0c5415364605row6_col8 {\n",
       "            background-color:  #ece7f2;\n",
       "            color:  #000000;\n",
       "        }    #T_e3181eb4_4ccb_11ea_abe8_0c5415364605row6_col9 {\n",
       "            background-color:  #f8f1f8;\n",
       "            color:  #000000;\n",
       "        }    #T_e3181eb4_4ccb_11ea_abe8_0c5415364605row6_col10 {\n",
       "            background-color:  #cdd0e5;\n",
       "            color:  #000000;\n",
       "        }    #T_e3181eb4_4ccb_11ea_abe8_0c5415364605row6_col11 {\n",
       "            background-color:  #f2ecf5;\n",
       "            color:  #000000;\n",
       "        }    #T_e3181eb4_4ccb_11ea_abe8_0c5415364605row6_col12 {\n",
       "            background-color:  #f4edf6;\n",
       "            color:  #000000;\n",
       "        }    #T_e3181eb4_4ccb_11ea_abe8_0c5415364605row6_col13 {\n",
       "            background-color:  #fdf5fa;\n",
       "            color:  #000000;\n",
       "        }    #T_e3181eb4_4ccb_11ea_abe8_0c5415364605row6_col14 {\n",
       "            background-color:  #f3edf5;\n",
       "            color:  #000000;\n",
       "        }    #T_e3181eb4_4ccb_11ea_abe8_0c5415364605row6_col15 {\n",
       "            background-color:  #b9c6e0;\n",
       "            color:  #000000;\n",
       "        }    #T_e3181eb4_4ccb_11ea_abe8_0c5415364605row6_col16 {\n",
       "            background-color:  #ced0e6;\n",
       "            color:  #000000;\n",
       "        }    #T_e3181eb4_4ccb_11ea_abe8_0c5415364605row6_col17 {\n",
       "            background-color:  #c8cde4;\n",
       "            color:  #000000;\n",
       "        }    #T_e3181eb4_4ccb_11ea_abe8_0c5415364605row6_col18 {\n",
       "            background-color:  #e1dfed;\n",
       "            color:  #000000;\n",
       "        }    #T_e3181eb4_4ccb_11ea_abe8_0c5415364605row6_col19 {\n",
       "            background-color:  #e0deed;\n",
       "            color:  #000000;\n",
       "        }    #T_e3181eb4_4ccb_11ea_abe8_0c5415364605row6_col20 {\n",
       "            background-color:  #e7e3f0;\n",
       "            color:  #000000;\n",
       "        }    #T_e3181eb4_4ccb_11ea_abe8_0c5415364605row6_col21 {\n",
       "            background-color:  #e0dded;\n",
       "            color:  #000000;\n",
       "        }    #T_e3181eb4_4ccb_11ea_abe8_0c5415364605row6_col22 {\n",
       "            background-color:  #e0deed;\n",
       "            color:  #000000;\n",
       "        }    #T_e3181eb4_4ccb_11ea_abe8_0c5415364605row6_col23 {\n",
       "            background-color:  #d9d8ea;\n",
       "            color:  #000000;\n",
       "        }    #T_e3181eb4_4ccb_11ea_abe8_0c5415364605row6_col24 {\n",
       "            background-color:  #d8d7e9;\n",
       "            color:  #000000;\n",
       "        }    #T_e3181eb4_4ccb_11ea_abe8_0c5415364605row6_col25 {\n",
       "            background-color:  #d9d8ea;\n",
       "            color:  #000000;\n",
       "        }    #T_e3181eb4_4ccb_11ea_abe8_0c5415364605row6_col26 {\n",
       "            background-color:  #dbdaeb;\n",
       "            color:  #000000;\n",
       "        }    #T_e3181eb4_4ccb_11ea_abe8_0c5415364605row6_col27 {\n",
       "            background-color:  #d8d7e9;\n",
       "            color:  #000000;\n",
       "        }    #T_e3181eb4_4ccb_11ea_abe8_0c5415364605row6_col28 {\n",
       "            background-color:  #dedcec;\n",
       "            color:  #000000;\n",
       "        }    #T_e3181eb4_4ccb_11ea_abe8_0c5415364605row6_col29 {\n",
       "            background-color:  #c2cbe2;\n",
       "            color:  #000000;\n",
       "        }    #T_e3181eb4_4ccb_11ea_abe8_0c5415364605row7_col0 {\n",
       "            background-color:  #d8d7e9;\n",
       "            color:  #000000;\n",
       "        }    #T_e3181eb4_4ccb_11ea_abe8_0c5415364605row7_col1 {\n",
       "            background-color:  #ced0e6;\n",
       "            color:  #000000;\n",
       "        }    #T_e3181eb4_4ccb_11ea_abe8_0c5415364605row7_col2 {\n",
       "            background-color:  #d2d2e7;\n",
       "            color:  #000000;\n",
       "        }    #T_e3181eb4_4ccb_11ea_abe8_0c5415364605row7_col3 {\n",
       "            background-color:  #c9cee4;\n",
       "            color:  #000000;\n",
       "        }    #T_e3181eb4_4ccb_11ea_abe8_0c5415364605row7_col4 {\n",
       "            background-color:  #b8c6e0;\n",
       "            color:  #000000;\n",
       "        }    #T_e3181eb4_4ccb_11ea_abe8_0c5415364605row7_col5 {\n",
       "            background-color:  #abbfdc;\n",
       "            color:  #000000;\n",
       "        }    #T_e3181eb4_4ccb_11ea_abe8_0c5415364605row7_col6 {\n",
       "            background-color:  #abbfdc;\n",
       "            color:  #000000;\n",
       "        }    #T_e3181eb4_4ccb_11ea_abe8_0c5415364605row7_col7 {\n",
       "            background-color:  #d5d5e8;\n",
       "            color:  #000000;\n",
       "        }    #T_e3181eb4_4ccb_11ea_abe8_0c5415364605row7_col8 {\n",
       "            background-color:  #79abd0;\n",
       "            color:  #000000;\n",
       "        }    #T_e3181eb4_4ccb_11ea_abe8_0c5415364605row7_col9 {\n",
       "            background-color:  #eee8f3;\n",
       "            color:  #000000;\n",
       "        }    #T_e3181eb4_4ccb_11ea_abe8_0c5415364605row7_col10 {\n",
       "            background-color:  #7dacd1;\n",
       "            color:  #000000;\n",
       "        }    #T_e3181eb4_4ccb_11ea_abe8_0c5415364605row7_col11 {\n",
       "            background-color:  #d8d7e9;\n",
       "            color:  #000000;\n",
       "        }    #T_e3181eb4_4ccb_11ea_abe8_0c5415364605row7_col12 {\n",
       "            background-color:  #d9d8ea;\n",
       "            color:  #000000;\n",
       "        }    #T_e3181eb4_4ccb_11ea_abe8_0c5415364605row7_col13 {\n",
       "            background-color:  #f4eef6;\n",
       "            color:  #000000;\n",
       "        }    #T_e3181eb4_4ccb_11ea_abe8_0c5415364605row7_col14 {\n",
       "            background-color:  #d3d4e7;\n",
       "            color:  #000000;\n",
       "        }    #T_e3181eb4_4ccb_11ea_abe8_0c5415364605row7_col15 {\n",
       "            background-color:  #d9d8ea;\n",
       "            color:  #000000;\n",
       "        }    #T_e3181eb4_4ccb_11ea_abe8_0c5415364605row7_col16 {\n",
       "            background-color:  #eae6f1;\n",
       "            color:  #000000;\n",
       "        }    #T_e3181eb4_4ccb_11ea_abe8_0c5415364605row7_col17 {\n",
       "            background-color:  #e0deed;\n",
       "            color:  #000000;\n",
       "        }    #T_e3181eb4_4ccb_11ea_abe8_0c5415364605row7_col18 {\n",
       "            background-color:  #dcdaeb;\n",
       "            color:  #000000;\n",
       "        }    #T_e3181eb4_4ccb_11ea_abe8_0c5415364605row7_col19 {\n",
       "            background-color:  #dcdaeb;\n",
       "            color:  #000000;\n",
       "        }    #T_e3181eb4_4ccb_11ea_abe8_0c5415364605row7_col20 {\n",
       "            background-color:  #dbdaeb;\n",
       "            color:  #000000;\n",
       "        }    #T_e3181eb4_4ccb_11ea_abe8_0c5415364605row7_col21 {\n",
       "            background-color:  #dedcec;\n",
       "            color:  #000000;\n",
       "        }    #T_e3181eb4_4ccb_11ea_abe8_0c5415364605row7_col22 {\n",
       "            background-color:  #dad9ea;\n",
       "            color:  #000000;\n",
       "        }    #T_e3181eb4_4ccb_11ea_abe8_0c5415364605row7_col23 {\n",
       "            background-color:  #d5d5e8;\n",
       "            color:  #000000;\n",
       "        }    #T_e3181eb4_4ccb_11ea_abe8_0c5415364605row7_col24 {\n",
       "            background-color:  #d2d2e7;\n",
       "            color:  #000000;\n",
       "        }    #T_e3181eb4_4ccb_11ea_abe8_0c5415364605row7_col25 {\n",
       "            background-color:  #d5d5e8;\n",
       "            color:  #000000;\n",
       "        }    #T_e3181eb4_4ccb_11ea_abe8_0c5415364605row7_col26 {\n",
       "            background-color:  #d2d2e7;\n",
       "            color:  #000000;\n",
       "        }    #T_e3181eb4_4ccb_11ea_abe8_0c5415364605row7_col27 {\n",
       "            background-color:  #d6d6e9;\n",
       "            color:  #000000;\n",
       "        }    #T_e3181eb4_4ccb_11ea_abe8_0c5415364605row7_col28 {\n",
       "            background-color:  #e0deed;\n",
       "            color:  #000000;\n",
       "        }    #T_e3181eb4_4ccb_11ea_abe8_0c5415364605row7_col29 {\n",
       "            background-color:  #d0d1e6;\n",
       "            color:  #000000;\n",
       "        }    #T_e3181eb4_4ccb_11ea_abe8_0c5415364605row8_col0 {\n",
       "            background-color:  #f9f2f8;\n",
       "            color:  #000000;\n",
       "        }    #T_e3181eb4_4ccb_11ea_abe8_0c5415364605row8_col1 {\n",
       "            background-color:  #d1d2e6;\n",
       "            color:  #000000;\n",
       "        }    #T_e3181eb4_4ccb_11ea_abe8_0c5415364605row8_col2 {\n",
       "            background-color:  #d3d4e7;\n",
       "            color:  #000000;\n",
       "        }    #T_e3181eb4_4ccb_11ea_abe8_0c5415364605row8_col3 {\n",
       "            background-color:  #f0eaf4;\n",
       "            color:  #000000;\n",
       "        }    #T_e3181eb4_4ccb_11ea_abe8_0c5415364605row8_col4 {\n",
       "            background-color:  #f3edf5;\n",
       "            color:  #000000;\n",
       "        }    #T_e3181eb4_4ccb_11ea_abe8_0c5415364605row8_col5 {\n",
       "            background-color:  #e7e3f0;\n",
       "            color:  #000000;\n",
       "        }    #T_e3181eb4_4ccb_11ea_abe8_0c5415364605row8_col6 {\n",
       "            background-color:  #ede8f3;\n",
       "            color:  #000000;\n",
       "        }    #T_e3181eb4_4ccb_11ea_abe8_0c5415364605row8_col7 {\n",
       "            background-color:  #f5eef6;\n",
       "            color:  #000000;\n",
       "        }    #T_e3181eb4_4ccb_11ea_abe8_0c5415364605row8_col8 {\n",
       "            background-color:  #e2dfee;\n",
       "            color:  #000000;\n",
       "        }    #T_e3181eb4_4ccb_11ea_abe8_0c5415364605row8_col9 {\n",
       "            background-color:  #fef6fb;\n",
       "            color:  #000000;\n",
       "        }    #T_e3181eb4_4ccb_11ea_abe8_0c5415364605row8_col10 {\n",
       "            background-color:  #fff7fb;\n",
       "            color:  #000000;\n",
       "        }    #T_e3181eb4_4ccb_11ea_abe8_0c5415364605row8_col11 {\n",
       "            background-color:  #fef6fb;\n",
       "            color:  #000000;\n",
       "        }    #T_e3181eb4_4ccb_11ea_abe8_0c5415364605row8_col12 {\n",
       "            background-color:  #fff7fb;\n",
       "            color:  #000000;\n",
       "        }    #T_e3181eb4_4ccb_11ea_abe8_0c5415364605row8_col13 {\n",
       "            background-color:  #fff7fb;\n",
       "            color:  #000000;\n",
       "        }    #T_e3181eb4_4ccb_11ea_abe8_0c5415364605row8_col14 {\n",
       "            background-color:  #fff7fb;\n",
       "            color:  #000000;\n",
       "        }    #T_e3181eb4_4ccb_11ea_abe8_0c5415364605row8_col15 {\n",
       "            background-color:  #ece7f2;\n",
       "            color:  #000000;\n",
       "        }    #T_e3181eb4_4ccb_11ea_abe8_0c5415364605row8_col16 {\n",
       "            background-color:  #e4e1ef;\n",
       "            color:  #000000;\n",
       "        }    #T_e3181eb4_4ccb_11ea_abe8_0c5415364605row8_col17 {\n",
       "            background-color:  #e1dfed;\n",
       "            color:  #000000;\n",
       "        }    #T_e3181eb4_4ccb_11ea_abe8_0c5415364605row8_col18 {\n",
       "            background-color:  #f6eff7;\n",
       "            color:  #000000;\n",
       "        }    #T_e3181eb4_4ccb_11ea_abe8_0c5415364605row8_col19 {\n",
       "            background-color:  #fff7fb;\n",
       "            color:  #000000;\n",
       "        }    #T_e3181eb4_4ccb_11ea_abe8_0c5415364605row8_col20 {\n",
       "            background-color:  #eee8f3;\n",
       "            color:  #000000;\n",
       "        }    #T_e3181eb4_4ccb_11ea_abe8_0c5415364605row8_col21 {\n",
       "            background-color:  #fff7fb;\n",
       "            color:  #000000;\n",
       "        }    #T_e3181eb4_4ccb_11ea_abe8_0c5415364605row8_col22 {\n",
       "            background-color:  #fef6fa;\n",
       "            color:  #000000;\n",
       "        }    #T_e3181eb4_4ccb_11ea_abe8_0c5415364605row8_col23 {\n",
       "            background-color:  #fef6fb;\n",
       "            color:  #000000;\n",
       "        }    #T_e3181eb4_4ccb_11ea_abe8_0c5415364605row8_col24 {\n",
       "            background-color:  #fef6fb;\n",
       "            color:  #000000;\n",
       "        }    #T_e3181eb4_4ccb_11ea_abe8_0c5415364605row8_col25 {\n",
       "            background-color:  #fff7fb;\n",
       "            color:  #000000;\n",
       "        }    #T_e3181eb4_4ccb_11ea_abe8_0c5415364605row8_col26 {\n",
       "            background-color:  #fef6fa;\n",
       "            color:  #000000;\n",
       "        }    #T_e3181eb4_4ccb_11ea_abe8_0c5415364605row8_col27 {\n",
       "            background-color:  #efe9f3;\n",
       "            color:  #000000;\n",
       "        }    #T_e3181eb4_4ccb_11ea_abe8_0c5415364605row8_col28 {\n",
       "            background-color:  #f3edf5;\n",
       "            color:  #000000;\n",
       "        }    #T_e3181eb4_4ccb_11ea_abe8_0c5415364605row8_col29 {\n",
       "            background-color:  #eee9f3;\n",
       "            color:  #000000;\n",
       "        }    #T_e3181eb4_4ccb_11ea_abe8_0c5415364605row9_col0 {\n",
       "            background-color:  #fff7fb;\n",
       "            color:  #000000;\n",
       "        }    #T_e3181eb4_4ccb_11ea_abe8_0c5415364605row9_col1 {\n",
       "            background-color:  #d2d3e7;\n",
       "            color:  #000000;\n",
       "        }    #T_e3181eb4_4ccb_11ea_abe8_0c5415364605row9_col2 {\n",
       "            background-color:  #e2dfee;\n",
       "            color:  #000000;\n",
       "        }    #T_e3181eb4_4ccb_11ea_abe8_0c5415364605row9_col3 {\n",
       "            background-color:  #e7e3f0;\n",
       "            color:  #000000;\n",
       "        }    #T_e3181eb4_4ccb_11ea_abe8_0c5415364605row9_col4 {\n",
       "            background-color:  #d3d4e7;\n",
       "            color:  #000000;\n",
       "        }    #T_e3181eb4_4ccb_11ea_abe8_0c5415364605row9_col5 {\n",
       "            background-color:  #d9d8ea;\n",
       "            color:  #000000;\n",
       "        }    #T_e3181eb4_4ccb_11ea_abe8_0c5415364605row9_col6 {\n",
       "            background-color:  #dddbec;\n",
       "            color:  #000000;\n",
       "        }    #T_e3181eb4_4ccb_11ea_abe8_0c5415364605row9_col7 {\n",
       "            background-color:  #f1ebf4;\n",
       "            color:  #000000;\n",
       "        }    #T_e3181eb4_4ccb_11ea_abe8_0c5415364605row9_col8 {\n",
       "            background-color:  #f3edf5;\n",
       "            color:  #000000;\n",
       "        }    #T_e3181eb4_4ccb_11ea_abe8_0c5415364605row9_col9 {\n",
       "            background-color:  #faf2f8;\n",
       "            color:  #000000;\n",
       "        }    #T_e3181eb4_4ccb_11ea_abe8_0c5415364605row9_col10 {\n",
       "            background-color:  #ced0e6;\n",
       "            color:  #000000;\n",
       "        }    #T_e3181eb4_4ccb_11ea_abe8_0c5415364605row9_col11 {\n",
       "            background-color:  #ebe6f2;\n",
       "            color:  #000000;\n",
       "        }    #T_e3181eb4_4ccb_11ea_abe8_0c5415364605row9_col12 {\n",
       "            background-color:  #e9e5f1;\n",
       "            color:  #000000;\n",
       "        }    #T_e3181eb4_4ccb_11ea_abe8_0c5415364605row9_col13 {\n",
       "            background-color:  #fbf4f9;\n",
       "            color:  #000000;\n",
       "        }    #T_e3181eb4_4ccb_11ea_abe8_0c5415364605row9_col14 {\n",
       "            background-color:  #e0dded;\n",
       "            color:  #000000;\n",
       "        }    #T_e3181eb4_4ccb_11ea_abe8_0c5415364605row9_col15 {\n",
       "            background-color:  #d7d6e9;\n",
       "            color:  #000000;\n",
       "        }    #T_e3181eb4_4ccb_11ea_abe8_0c5415364605row9_col16 {\n",
       "            background-color:  #d7d6e9;\n",
       "            color:  #000000;\n",
       "        }    #T_e3181eb4_4ccb_11ea_abe8_0c5415364605row9_col17 {\n",
       "            background-color:  #dcdaeb;\n",
       "            color:  #000000;\n",
       "        }    #T_e3181eb4_4ccb_11ea_abe8_0c5415364605row9_col18 {\n",
       "            background-color:  #f1ebf5;\n",
       "            color:  #000000;\n",
       "        }    #T_e3181eb4_4ccb_11ea_abe8_0c5415364605row9_col19 {\n",
       "            background-color:  #eee9f3;\n",
       "            color:  #000000;\n",
       "        }    #T_e3181eb4_4ccb_11ea_abe8_0c5415364605row9_col20 {\n",
       "            background-color:  #f2ecf5;\n",
       "            color:  #000000;\n",
       "        }    #T_e3181eb4_4ccb_11ea_abe8_0c5415364605row9_col21 {\n",
       "            background-color:  #ece7f2;\n",
       "            color:  #000000;\n",
       "        }    #T_e3181eb4_4ccb_11ea_abe8_0c5415364605row9_col22 {\n",
       "            background-color:  #eee8f3;\n",
       "            color:  #000000;\n",
       "        }    #T_e3181eb4_4ccb_11ea_abe8_0c5415364605row9_col23 {\n",
       "            background-color:  #ede8f3;\n",
       "            color:  #000000;\n",
       "        }    #T_e3181eb4_4ccb_11ea_abe8_0c5415364605row9_col24 {\n",
       "            background-color:  #ede8f3;\n",
       "            color:  #000000;\n",
       "        }    #T_e3181eb4_4ccb_11ea_abe8_0c5415364605row9_col25 {\n",
       "            background-color:  #efe9f3;\n",
       "            color:  #000000;\n",
       "        }    #T_e3181eb4_4ccb_11ea_abe8_0c5415364605row9_col26 {\n",
       "            background-color:  #ede8f3;\n",
       "            color:  #000000;\n",
       "        }    #T_e3181eb4_4ccb_11ea_abe8_0c5415364605row9_col27 {\n",
       "            background-color:  #eee8f3;\n",
       "            color:  #000000;\n",
       "        }    #T_e3181eb4_4ccb_11ea_abe8_0c5415364605row9_col28 {\n",
       "            background-color:  #ede7f2;\n",
       "            color:  #000000;\n",
       "        }    #T_e3181eb4_4ccb_11ea_abe8_0c5415364605row9_col29 {\n",
       "            background-color:  #dcdaeb;\n",
       "            color:  #000000;\n",
       "        }    #T_e3181eb4_4ccb_11ea_abe8_0c5415364605row10_col0 {\n",
       "            background-color:  #fcf4fa;\n",
       "            color:  #000000;\n",
       "        }    #T_e3181eb4_4ccb_11ea_abe8_0c5415364605row10_col1 {\n",
       "            background-color:  #d9d8ea;\n",
       "            color:  #000000;\n",
       "        }    #T_e3181eb4_4ccb_11ea_abe8_0c5415364605row10_col2 {\n",
       "            background-color:  #d7d6e9;\n",
       "            color:  #000000;\n",
       "        }    #T_e3181eb4_4ccb_11ea_abe8_0c5415364605row10_col3 {\n",
       "            background-color:  #cdd0e5;\n",
       "            color:  #000000;\n",
       "        }    #T_e3181eb4_4ccb_11ea_abe8_0c5415364605row10_col4 {\n",
       "            background-color:  #c1cae2;\n",
       "            color:  #000000;\n",
       "        }    #T_e3181eb4_4ccb_11ea_abe8_0c5415364605row10_col5 {\n",
       "            background-color:  #d9d8ea;\n",
       "            color:  #000000;\n",
       "        }    #T_e3181eb4_4ccb_11ea_abe8_0c5415364605row10_col6 {\n",
       "            background-color:  #d7d6e9;\n",
       "            color:  #000000;\n",
       "        }    #T_e3181eb4_4ccb_11ea_abe8_0c5415364605row10_col7 {\n",
       "            background-color:  #e1dfed;\n",
       "            color:  #000000;\n",
       "        }    #T_e3181eb4_4ccb_11ea_abe8_0c5415364605row10_col8 {\n",
       "            background-color:  #d2d3e7;\n",
       "            color:  #000000;\n",
       "        }    #T_e3181eb4_4ccb_11ea_abe8_0c5415364605row10_col9 {\n",
       "            background-color:  #eee9f3;\n",
       "            color:  #000000;\n",
       "        }    #T_e3181eb4_4ccb_11ea_abe8_0c5415364605row10_col10 {\n",
       "            background-color:  #dfddec;\n",
       "            color:  #000000;\n",
       "        }    #T_e3181eb4_4ccb_11ea_abe8_0c5415364605row10_col11 {\n",
       "            background-color:  #f1ebf5;\n",
       "            color:  #000000;\n",
       "        }    #T_e3181eb4_4ccb_11ea_abe8_0c5415364605row10_col12 {\n",
       "            background-color:  #f2ecf5;\n",
       "            color:  #000000;\n",
       "        }    #T_e3181eb4_4ccb_11ea_abe8_0c5415364605row10_col13 {\n",
       "            background-color:  #f7f0f7;\n",
       "            color:  #000000;\n",
       "        }    #T_e3181eb4_4ccb_11ea_abe8_0c5415364605row10_col14 {\n",
       "            background-color:  #e6e2ef;\n",
       "            color:  #000000;\n",
       "        }    #T_e3181eb4_4ccb_11ea_abe8_0c5415364605row10_col15 {\n",
       "            background-color:  #e6e2ef;\n",
       "            color:  #000000;\n",
       "        }    #T_e3181eb4_4ccb_11ea_abe8_0c5415364605row10_col16 {\n",
       "            background-color:  #e6e2ef;\n",
       "            color:  #000000;\n",
       "        }    #T_e3181eb4_4ccb_11ea_abe8_0c5415364605row10_col17 {\n",
       "            background-color:  #e7e3f0;\n",
       "            color:  #000000;\n",
       "        }    #T_e3181eb4_4ccb_11ea_abe8_0c5415364605row10_col18 {\n",
       "            background-color:  #e0deed;\n",
       "            color:  #000000;\n",
       "        }    #T_e3181eb4_4ccb_11ea_abe8_0c5415364605row10_col19 {\n",
       "            background-color:  #eee9f3;\n",
       "            color:  #000000;\n",
       "        }    #T_e3181eb4_4ccb_11ea_abe8_0c5415364605row10_col20 {\n",
       "            background-color:  #ebe6f2;\n",
       "            color:  #000000;\n",
       "        }    #T_e3181eb4_4ccb_11ea_abe8_0c5415364605row10_col21 {\n",
       "            background-color:  #eee8f3;\n",
       "            color:  #000000;\n",
       "        }    #T_e3181eb4_4ccb_11ea_abe8_0c5415364605row10_col22 {\n",
       "            background-color:  #eee9f3;\n",
       "            color:  #000000;\n",
       "        }    #T_e3181eb4_4ccb_11ea_abe8_0c5415364605row10_col23 {\n",
       "            background-color:  #ede7f2;\n",
       "            color:  #000000;\n",
       "        }    #T_e3181eb4_4ccb_11ea_abe8_0c5415364605row10_col24 {\n",
       "            background-color:  #e8e4f0;\n",
       "            color:  #000000;\n",
       "        }    #T_e3181eb4_4ccb_11ea_abe8_0c5415364605row10_col25 {\n",
       "            background-color:  #e8e4f0;\n",
       "            color:  #000000;\n",
       "        }    #T_e3181eb4_4ccb_11ea_abe8_0c5415364605row10_col26 {\n",
       "            background-color:  #e8e4f0;\n",
       "            color:  #000000;\n",
       "        }    #T_e3181eb4_4ccb_11ea_abe8_0c5415364605row10_col27 {\n",
       "            background-color:  #e8e4f0;\n",
       "            color:  #000000;\n",
       "        }    #T_e3181eb4_4ccb_11ea_abe8_0c5415364605row10_col28 {\n",
       "            background-color:  #f2ecf5;\n",
       "            color:  #000000;\n",
       "        }    #T_e3181eb4_4ccb_11ea_abe8_0c5415364605row10_col29 {\n",
       "            background-color:  #e5e1ef;\n",
       "            color:  #000000;\n",
       "        }    #T_e3181eb4_4ccb_11ea_abe8_0c5415364605row11_col0 {\n",
       "            background-color:  #f4edf6;\n",
       "            color:  #000000;\n",
       "        }    #T_e3181eb4_4ccb_11ea_abe8_0c5415364605row11_col1 {\n",
       "            background-color:  #d9d8ea;\n",
       "            color:  #000000;\n",
       "        }    #T_e3181eb4_4ccb_11ea_abe8_0c5415364605row11_col2 {\n",
       "            background-color:  #dedcec;\n",
       "            color:  #000000;\n",
       "        }    #T_e3181eb4_4ccb_11ea_abe8_0c5415364605row11_col3 {\n",
       "            background-color:  #e7e3f0;\n",
       "            color:  #000000;\n",
       "        }    #T_e3181eb4_4ccb_11ea_abe8_0c5415364605row11_col4 {\n",
       "            background-color:  #d9d8ea;\n",
       "            color:  #000000;\n",
       "        }    #T_e3181eb4_4ccb_11ea_abe8_0c5415364605row11_col5 {\n",
       "            background-color:  #dddbec;\n",
       "            color:  #000000;\n",
       "        }    #T_e3181eb4_4ccb_11ea_abe8_0c5415364605row11_col6 {\n",
       "            background-color:  #d7d6e9;\n",
       "            color:  #000000;\n",
       "        }    #T_e3181eb4_4ccb_11ea_abe8_0c5415364605row11_col7 {\n",
       "            background-color:  #f8f1f8;\n",
       "            color:  #000000;\n",
       "        }    #T_e3181eb4_4ccb_11ea_abe8_0c5415364605row11_col8 {\n",
       "            background-color:  #f4edf6;\n",
       "            color:  #000000;\n",
       "        }    #T_e3181eb4_4ccb_11ea_abe8_0c5415364605row11_col9 {\n",
       "            background-color:  #fcf4fa;\n",
       "            color:  #000000;\n",
       "        }    #T_e3181eb4_4ccb_11ea_abe8_0c5415364605row11_col10 {\n",
       "            background-color:  #e6e2ef;\n",
       "            color:  #000000;\n",
       "        }    #T_e3181eb4_4ccb_11ea_abe8_0c5415364605row11_col11 {\n",
       "            background-color:  #f8f1f8;\n",
       "            color:  #000000;\n",
       "        }    #T_e3181eb4_4ccb_11ea_abe8_0c5415364605row11_col12 {\n",
       "            background-color:  #f7f0f7;\n",
       "            color:  #000000;\n",
       "        }    #T_e3181eb4_4ccb_11ea_abe8_0c5415364605row11_col13 {\n",
       "            background-color:  #fef6fb;\n",
       "            color:  #000000;\n",
       "        }    #T_e3181eb4_4ccb_11ea_abe8_0c5415364605row11_col14 {\n",
       "            background-color:  #f7f0f7;\n",
       "            color:  #000000;\n",
       "        }    #T_e3181eb4_4ccb_11ea_abe8_0c5415364605row11_col15 {\n",
       "            background-color:  #dfddec;\n",
       "            color:  #000000;\n",
       "        }    #T_e3181eb4_4ccb_11ea_abe8_0c5415364605row11_col16 {\n",
       "            background-color:  #ede8f3;\n",
       "            color:  #000000;\n",
       "        }    #T_e3181eb4_4ccb_11ea_abe8_0c5415364605row11_col17 {\n",
       "            background-color:  #ede7f2;\n",
       "            color:  #000000;\n",
       "        }    #T_e3181eb4_4ccb_11ea_abe8_0c5415364605row11_col18 {\n",
       "            background-color:  #f6eff7;\n",
       "            color:  #000000;\n",
       "        }    #T_e3181eb4_4ccb_11ea_abe8_0c5415364605row11_col19 {\n",
       "            background-color:  #f4eef6;\n",
       "            color:  #000000;\n",
       "        }    #T_e3181eb4_4ccb_11ea_abe8_0c5415364605row11_col20 {\n",
       "            background-color:  #f8f1f8;\n",
       "            color:  #000000;\n",
       "        }    #T_e3181eb4_4ccb_11ea_abe8_0c5415364605row11_col21 {\n",
       "            background-color:  #f2ecf5;\n",
       "            color:  #000000;\n",
       "        }    #T_e3181eb4_4ccb_11ea_abe8_0c5415364605row11_col22 {\n",
       "            background-color:  #f0eaf4;\n",
       "            color:  #000000;\n",
       "        }    #T_e3181eb4_4ccb_11ea_abe8_0c5415364605row11_col23 {\n",
       "            background-color:  #eee9f3;\n",
       "            color:  #000000;\n",
       "        }    #T_e3181eb4_4ccb_11ea_abe8_0c5415364605row11_col24 {\n",
       "            background-color:  #ede8f3;\n",
       "            color:  #000000;\n",
       "        }    #T_e3181eb4_4ccb_11ea_abe8_0c5415364605row11_col25 {\n",
       "            background-color:  #f0eaf4;\n",
       "            color:  #000000;\n",
       "        }    #T_e3181eb4_4ccb_11ea_abe8_0c5415364605row11_col26 {\n",
       "            background-color:  #ede8f3;\n",
       "            color:  #000000;\n",
       "        }    #T_e3181eb4_4ccb_11ea_abe8_0c5415364605row11_col27 {\n",
       "            background-color:  #ece7f2;\n",
       "            color:  #000000;\n",
       "        }    #T_e3181eb4_4ccb_11ea_abe8_0c5415364605row11_col28 {\n",
       "            background-color:  #efe9f3;\n",
       "            color:  #000000;\n",
       "        }    #T_e3181eb4_4ccb_11ea_abe8_0c5415364605row11_col29 {\n",
       "            background-color:  #dedcec;\n",
       "            color:  #000000;\n",
       "        }    #T_e3181eb4_4ccb_11ea_abe8_0c5415364605row12_col0 {\n",
       "            background-color:  #eee8f3;\n",
       "            color:  #000000;\n",
       "        }    #T_e3181eb4_4ccb_11ea_abe8_0c5415364605row12_col1 {\n",
       "            background-color:  #dddbec;\n",
       "            color:  #000000;\n",
       "        }    #T_e3181eb4_4ccb_11ea_abe8_0c5415364605row12_col2 {\n",
       "            background-color:  #e4e1ef;\n",
       "            color:  #000000;\n",
       "        }    #T_e3181eb4_4ccb_11ea_abe8_0c5415364605row12_col3 {\n",
       "            background-color:  #dbdaeb;\n",
       "            color:  #000000;\n",
       "        }    #T_e3181eb4_4ccb_11ea_abe8_0c5415364605row12_col4 {\n",
       "            background-color:  #d2d3e7;\n",
       "            color:  #000000;\n",
       "        }    #T_e3181eb4_4ccb_11ea_abe8_0c5415364605row12_col5 {\n",
       "            background-color:  #e1dfed;\n",
       "            color:  #000000;\n",
       "        }    #T_e3181eb4_4ccb_11ea_abe8_0c5415364605row12_col6 {\n",
       "            background-color:  #cacee5;\n",
       "            color:  #000000;\n",
       "        }    #T_e3181eb4_4ccb_11ea_abe8_0c5415364605row12_col7 {\n",
       "            background-color:  #bfc9e1;\n",
       "            color:  #000000;\n",
       "        }    #T_e3181eb4_4ccb_11ea_abe8_0c5415364605row12_col8 {\n",
       "            background-color:  #eee9f3;\n",
       "            color:  #000000;\n",
       "        }    #T_e3181eb4_4ccb_11ea_abe8_0c5415364605row12_col9 {\n",
       "            background-color:  #f4eef6;\n",
       "            color:  #000000;\n",
       "        }    #T_e3181eb4_4ccb_11ea_abe8_0c5415364605row12_col10 {\n",
       "            background-color:  #b8c6e0;\n",
       "            color:  #000000;\n",
       "        }    #T_e3181eb4_4ccb_11ea_abe8_0c5415364605row12_col11 {\n",
       "            background-color:  #eee8f3;\n",
       "            color:  #000000;\n",
       "        }    #T_e3181eb4_4ccb_11ea_abe8_0c5415364605row12_col12 {\n",
       "            background-color:  #ede8f3;\n",
       "            color:  #000000;\n",
       "        }    #T_e3181eb4_4ccb_11ea_abe8_0c5415364605row12_col13 {\n",
       "            background-color:  #faf2f8;\n",
       "            color:  #000000;\n",
       "        }    #T_e3181eb4_4ccb_11ea_abe8_0c5415364605row12_col14 {\n",
       "            background-color:  #eee8f3;\n",
       "            color:  #000000;\n",
       "        }    #T_e3181eb4_4ccb_11ea_abe8_0c5415364605row12_col15 {\n",
       "            background-color:  #eae6f1;\n",
       "            color:  #000000;\n",
       "        }    #T_e3181eb4_4ccb_11ea_abe8_0c5415364605row12_col16 {\n",
       "            background-color:  #f0eaf4;\n",
       "            color:  #000000;\n",
       "        }    #T_e3181eb4_4ccb_11ea_abe8_0c5415364605row12_col17 {\n",
       "            background-color:  #f0eaf4;\n",
       "            color:  #000000;\n",
       "        }    #T_e3181eb4_4ccb_11ea_abe8_0c5415364605row12_col18 {\n",
       "            background-color:  #e5e1ef;\n",
       "            color:  #000000;\n",
       "        }    #T_e3181eb4_4ccb_11ea_abe8_0c5415364605row12_col19 {\n",
       "            background-color:  #f0eaf4;\n",
       "            color:  #000000;\n",
       "        }    #T_e3181eb4_4ccb_11ea_abe8_0c5415364605row12_col20 {\n",
       "            background-color:  #ebe6f2;\n",
       "            color:  #000000;\n",
       "        }    #T_e3181eb4_4ccb_11ea_abe8_0c5415364605row12_col21 {\n",
       "            background-color:  #f2ecf5;\n",
       "            color:  #000000;\n",
       "        }    #T_e3181eb4_4ccb_11ea_abe8_0c5415364605row12_col22 {\n",
       "            background-color:  #f4edf6;\n",
       "            color:  #000000;\n",
       "        }    #T_e3181eb4_4ccb_11ea_abe8_0c5415364605row12_col23 {\n",
       "            background-color:  #f1ebf5;\n",
       "            color:  #000000;\n",
       "        }    #T_e3181eb4_4ccb_11ea_abe8_0c5415364605row12_col24 {\n",
       "            background-color:  #f2ecf5;\n",
       "            color:  #000000;\n",
       "        }    #T_e3181eb4_4ccb_11ea_abe8_0c5415364605row12_col25 {\n",
       "            background-color:  #f2ecf5;\n",
       "            color:  #000000;\n",
       "        }    #T_e3181eb4_4ccb_11ea_abe8_0c5415364605row12_col26 {\n",
       "            background-color:  #f2ecf5;\n",
       "            color:  #000000;\n",
       "        }    #T_e3181eb4_4ccb_11ea_abe8_0c5415364605row12_col27 {\n",
       "            background-color:  #f2ecf5;\n",
       "            color:  #000000;\n",
       "        }    #T_e3181eb4_4ccb_11ea_abe8_0c5415364605row12_col28 {\n",
       "            background-color:  #eee8f3;\n",
       "            color:  #000000;\n",
       "        }    #T_e3181eb4_4ccb_11ea_abe8_0c5415364605row12_col29 {\n",
       "            background-color:  #ede7f2;\n",
       "            color:  #000000;\n",
       "        }    #T_e3181eb4_4ccb_11ea_abe8_0c5415364605row13_col0 {\n",
       "            background-color:  #faf3f9;\n",
       "            color:  #000000;\n",
       "        }    #T_e3181eb4_4ccb_11ea_abe8_0c5415364605row13_col1 {\n",
       "            background-color:  #e1dfed;\n",
       "            color:  #000000;\n",
       "        }    #T_e3181eb4_4ccb_11ea_abe8_0c5415364605row13_col2 {\n",
       "            background-color:  #e9e5f1;\n",
       "            color:  #000000;\n",
       "        }    #T_e3181eb4_4ccb_11ea_abe8_0c5415364605row13_col3 {\n",
       "            background-color:  #dcdaeb;\n",
       "            color:  #000000;\n",
       "        }    #T_e3181eb4_4ccb_11ea_abe8_0c5415364605row13_col4 {\n",
       "            background-color:  #d9d8ea;\n",
       "            color:  #000000;\n",
       "        }    #T_e3181eb4_4ccb_11ea_abe8_0c5415364605row13_col5 {\n",
       "            background-color:  #d9d8ea;\n",
       "            color:  #000000;\n",
       "        }    #T_e3181eb4_4ccb_11ea_abe8_0c5415364605row13_col6 {\n",
       "            background-color:  #d1d2e6;\n",
       "            color:  #000000;\n",
       "        }    #T_e3181eb4_4ccb_11ea_abe8_0c5415364605row13_col7 {\n",
       "            background-color:  #f5eff6;\n",
       "            color:  #000000;\n",
       "        }    #T_e3181eb4_4ccb_11ea_abe8_0c5415364605row13_col8 {\n",
       "            background-color:  #dad9ea;\n",
       "            color:  #000000;\n",
       "        }    #T_e3181eb4_4ccb_11ea_abe8_0c5415364605row13_col9 {\n",
       "            background-color:  #f9f2f8;\n",
       "            color:  #000000;\n",
       "        }    #T_e3181eb4_4ccb_11ea_abe8_0c5415364605row13_col10 {\n",
       "            background-color:  #c8cde4;\n",
       "            color:  #000000;\n",
       "        }    #T_e3181eb4_4ccb_11ea_abe8_0c5415364605row13_col11 {\n",
       "            background-color:  #f1ebf4;\n",
       "            color:  #000000;\n",
       "        }    #T_e3181eb4_4ccb_11ea_abe8_0c5415364605row13_col12 {\n",
       "            background-color:  #f2ecf5;\n",
       "            color:  #000000;\n",
       "        }    #T_e3181eb4_4ccb_11ea_abe8_0c5415364605row13_col13 {\n",
       "            background-color:  #fdf5fa;\n",
       "            color:  #000000;\n",
       "        }    #T_e3181eb4_4ccb_11ea_abe8_0c5415364605row13_col14 {\n",
       "            background-color:  #f1ebf4;\n",
       "            color:  #000000;\n",
       "        }    #T_e3181eb4_4ccb_11ea_abe8_0c5415364605row13_col15 {\n",
       "            background-color:  #eee8f3;\n",
       "            color:  #000000;\n",
       "        }    #T_e3181eb4_4ccb_11ea_abe8_0c5415364605row13_col16 {\n",
       "            background-color:  #f8f1f8;\n",
       "            color:  #000000;\n",
       "        }    #T_e3181eb4_4ccb_11ea_abe8_0c5415364605row13_col17 {\n",
       "            background-color:  #f4edf6;\n",
       "            color:  #000000;\n",
       "        }    #T_e3181eb4_4ccb_11ea_abe8_0c5415364605row13_col18 {\n",
       "            background-color:  #e4e1ef;\n",
       "            color:  #000000;\n",
       "        }    #T_e3181eb4_4ccb_11ea_abe8_0c5415364605row13_col19 {\n",
       "            background-color:  #efe9f3;\n",
       "            color:  #000000;\n",
       "        }    #T_e3181eb4_4ccb_11ea_abe8_0c5415364605row13_col20 {\n",
       "            background-color:  #eee9f3;\n",
       "            color:  #000000;\n",
       "        }    #T_e3181eb4_4ccb_11ea_abe8_0c5415364605row13_col21 {\n",
       "            background-color:  #ede8f3;\n",
       "            color:  #000000;\n",
       "        }    #T_e3181eb4_4ccb_11ea_abe8_0c5415364605row13_col22 {\n",
       "            background-color:  #ece7f2;\n",
       "            color:  #000000;\n",
       "        }    #T_e3181eb4_4ccb_11ea_abe8_0c5415364605row13_col23 {\n",
       "            background-color:  #ece7f2;\n",
       "            color:  #000000;\n",
       "        }    #T_e3181eb4_4ccb_11ea_abe8_0c5415364605row13_col24 {\n",
       "            background-color:  #ebe6f2;\n",
       "            color:  #000000;\n",
       "        }    #T_e3181eb4_4ccb_11ea_abe8_0c5415364605row13_col25 {\n",
       "            background-color:  #ede7f2;\n",
       "            color:  #000000;\n",
       "        }    #T_e3181eb4_4ccb_11ea_abe8_0c5415364605row13_col26 {\n",
       "            background-color:  #ede7f2;\n",
       "            color:  #000000;\n",
       "        }    #T_e3181eb4_4ccb_11ea_abe8_0c5415364605row13_col27 {\n",
       "            background-color:  #ebe6f2;\n",
       "            color:  #000000;\n",
       "        }    #T_e3181eb4_4ccb_11ea_abe8_0c5415364605row13_col28 {\n",
       "            background-color:  #ece7f2;\n",
       "            color:  #000000;\n",
       "        }    #T_e3181eb4_4ccb_11ea_abe8_0c5415364605row13_col29 {\n",
       "            background-color:  #f0eaf4;\n",
       "            color:  #000000;\n",
       "        }    #T_e3181eb4_4ccb_11ea_abe8_0c5415364605row14_col0 {\n",
       "            background-color:  #fdf5fa;\n",
       "            color:  #000000;\n",
       "        }    #T_e3181eb4_4ccb_11ea_abe8_0c5415364605row14_col1 {\n",
       "            background-color:  #e6e2ef;\n",
       "            color:  #000000;\n",
       "        }    #T_e3181eb4_4ccb_11ea_abe8_0c5415364605row14_col2 {\n",
       "            background-color:  #efe9f3;\n",
       "            color:  #000000;\n",
       "        }    #T_e3181eb4_4ccb_11ea_abe8_0c5415364605row14_col3 {\n",
       "            background-color:  #eee9f3;\n",
       "            color:  #000000;\n",
       "        }    #T_e3181eb4_4ccb_11ea_abe8_0c5415364605row14_col4 {\n",
       "            background-color:  #ede8f3;\n",
       "            color:  #000000;\n",
       "        }    #T_e3181eb4_4ccb_11ea_abe8_0c5415364605row14_col5 {\n",
       "            background-color:  #eee8f3;\n",
       "            color:  #000000;\n",
       "        }    #T_e3181eb4_4ccb_11ea_abe8_0c5415364605row14_col6 {\n",
       "            background-color:  #d8d7e9;\n",
       "            color:  #000000;\n",
       "        }    #T_e3181eb4_4ccb_11ea_abe8_0c5415364605row14_col7 {\n",
       "            background-color:  #ede7f2;\n",
       "            color:  #000000;\n",
       "        }    #T_e3181eb4_4ccb_11ea_abe8_0c5415364605row14_col8 {\n",
       "            background-color:  #e7e3f0;\n",
       "            color:  #000000;\n",
       "        }    #T_e3181eb4_4ccb_11ea_abe8_0c5415364605row14_col9 {\n",
       "            background-color:  #f5eef6;\n",
       "            color:  #000000;\n",
       "        }    #T_e3181eb4_4ccb_11ea_abe8_0c5415364605row14_col10 {\n",
       "            background-color:  #e5e1ef;\n",
       "            color:  #000000;\n",
       "        }    #T_e3181eb4_4ccb_11ea_abe8_0c5415364605row14_col11 {\n",
       "            background-color:  #f2ecf5;\n",
       "            color:  #000000;\n",
       "        }    #T_e3181eb4_4ccb_11ea_abe8_0c5415364605row14_col12 {\n",
       "            background-color:  #efe9f3;\n",
       "            color:  #000000;\n",
       "        }    #T_e3181eb4_4ccb_11ea_abe8_0c5415364605row14_col13 {\n",
       "            background-color:  #faf2f8;\n",
       "            color:  #000000;\n",
       "        }    #T_e3181eb4_4ccb_11ea_abe8_0c5415364605row14_col14 {\n",
       "            background-color:  #f1ebf5;\n",
       "            color:  #000000;\n",
       "        }    #T_e3181eb4_4ccb_11ea_abe8_0c5415364605row14_col15 {\n",
       "            background-color:  #eee9f3;\n",
       "            color:  #000000;\n",
       "        }    #T_e3181eb4_4ccb_11ea_abe8_0c5415364605row14_col16 {\n",
       "            background-color:  #f0eaf4;\n",
       "            color:  #000000;\n",
       "        }    #T_e3181eb4_4ccb_11ea_abe8_0c5415364605row14_col17 {\n",
       "            background-color:  #efe9f3;\n",
       "            color:  #000000;\n",
       "        }    #T_e3181eb4_4ccb_11ea_abe8_0c5415364605row14_col18 {\n",
       "            background-color:  #e8e4f0;\n",
       "            color:  #000000;\n",
       "        }    #T_e3181eb4_4ccb_11ea_abe8_0c5415364605row14_col19 {\n",
       "            background-color:  #f2ecf5;\n",
       "            color:  #000000;\n",
       "        }    #T_e3181eb4_4ccb_11ea_abe8_0c5415364605row14_col20 {\n",
       "            background-color:  #f0eaf4;\n",
       "            color:  #000000;\n",
       "        }    #T_e3181eb4_4ccb_11ea_abe8_0c5415364605row14_col21 {\n",
       "            background-color:  #f2ecf5;\n",
       "            color:  #000000;\n",
       "        }    #T_e3181eb4_4ccb_11ea_abe8_0c5415364605row14_col22 {\n",
       "            background-color:  #f3edf5;\n",
       "            color:  #000000;\n",
       "        }    #T_e3181eb4_4ccb_11ea_abe8_0c5415364605row14_col23 {\n",
       "            background-color:  #f1ebf4;\n",
       "            color:  #000000;\n",
       "        }    #T_e3181eb4_4ccb_11ea_abe8_0c5415364605row14_col24 {\n",
       "            background-color:  #eee8f3;\n",
       "            color:  #000000;\n",
       "        }    #T_e3181eb4_4ccb_11ea_abe8_0c5415364605row14_col25 {\n",
       "            background-color:  #eee8f3;\n",
       "            color:  #000000;\n",
       "        }    #T_e3181eb4_4ccb_11ea_abe8_0c5415364605row14_col26 {\n",
       "            background-color:  #eee9f3;\n",
       "            color:  #000000;\n",
       "        }    #T_e3181eb4_4ccb_11ea_abe8_0c5415364605row14_col27 {\n",
       "            background-color:  #f2ecf5;\n",
       "            color:  #000000;\n",
       "        }    #T_e3181eb4_4ccb_11ea_abe8_0c5415364605row14_col28 {\n",
       "            background-color:  #f4eef6;\n",
       "            color:  #000000;\n",
       "        }    #T_e3181eb4_4ccb_11ea_abe8_0c5415364605row14_col29 {\n",
       "            background-color:  #eee8f3;\n",
       "            color:  #000000;\n",
       "        }    #T_e3181eb4_4ccb_11ea_abe8_0c5415364605row15_col0 {\n",
       "            background-color:  #fff7fb;\n",
       "            color:  #000000;\n",
       "        }    #T_e3181eb4_4ccb_11ea_abe8_0c5415364605row15_col1 {\n",
       "            background-color:  #e7e3f0;\n",
       "            color:  #000000;\n",
       "        }    #T_e3181eb4_4ccb_11ea_abe8_0c5415364605row15_col2 {\n",
       "            background-color:  #ede7f2;\n",
       "            color:  #000000;\n",
       "        }    #T_e3181eb4_4ccb_11ea_abe8_0c5415364605row15_col3 {\n",
       "            background-color:  #d0d1e6;\n",
       "            color:  #000000;\n",
       "        }    #T_e3181eb4_4ccb_11ea_abe8_0c5415364605row15_col4 {\n",
       "            background-color:  #d4d4e8;\n",
       "            color:  #000000;\n",
       "        }    #T_e3181eb4_4ccb_11ea_abe8_0c5415364605row15_col5 {\n",
       "            background-color:  #eae6f1;\n",
       "            color:  #000000;\n",
       "        }    #T_e3181eb4_4ccb_11ea_abe8_0c5415364605row15_col6 {\n",
       "            background-color:  #d3d4e7;\n",
       "            color:  #000000;\n",
       "        }    #T_e3181eb4_4ccb_11ea_abe8_0c5415364605row15_col7 {\n",
       "            background-color:  #fff7fb;\n",
       "            color:  #000000;\n",
       "        }    #T_e3181eb4_4ccb_11ea_abe8_0c5415364605row15_col8 {\n",
       "            background-color:  #fef6fb;\n",
       "            color:  #000000;\n",
       "        }    #T_e3181eb4_4ccb_11ea_abe8_0c5415364605row15_col9 {\n",
       "            background-color:  #fef6fb;\n",
       "            color:  #000000;\n",
       "        }    #T_e3181eb4_4ccb_11ea_abe8_0c5415364605row15_col10 {\n",
       "            background-color:  #f0eaf4;\n",
       "            color:  #000000;\n",
       "        }    #T_e3181eb4_4ccb_11ea_abe8_0c5415364605row15_col11 {\n",
       "            background-color:  #fbf4f9;\n",
       "            color:  #000000;\n",
       "        }    #T_e3181eb4_4ccb_11ea_abe8_0c5415364605row15_col12 {\n",
       "            background-color:  #fbf3f9;\n",
       "            color:  #000000;\n",
       "        }    #T_e3181eb4_4ccb_11ea_abe8_0c5415364605row15_col13 {\n",
       "            background-color:  #fef6fb;\n",
       "            color:  #000000;\n",
       "        }    #T_e3181eb4_4ccb_11ea_abe8_0c5415364605row15_col14 {\n",
       "            background-color:  #fdf5fa;\n",
       "            color:  #000000;\n",
       "        }    #T_e3181eb4_4ccb_11ea_abe8_0c5415364605row15_col15 {\n",
       "            background-color:  #f0eaf4;\n",
       "            color:  #000000;\n",
       "        }    #T_e3181eb4_4ccb_11ea_abe8_0c5415364605row15_col16 {\n",
       "            background-color:  #f7f0f7;\n",
       "            color:  #000000;\n",
       "        }    #T_e3181eb4_4ccb_11ea_abe8_0c5415364605row15_col17 {\n",
       "            background-color:  #f1ebf5;\n",
       "            color:  #000000;\n",
       "        }    #T_e3181eb4_4ccb_11ea_abe8_0c5415364605row15_col18 {\n",
       "            background-color:  #f1ebf5;\n",
       "            color:  #000000;\n",
       "        }    #T_e3181eb4_4ccb_11ea_abe8_0c5415364605row15_col19 {\n",
       "            background-color:  #eee9f3;\n",
       "            color:  #000000;\n",
       "        }    #T_e3181eb4_4ccb_11ea_abe8_0c5415364605row15_col20 {\n",
       "            background-color:  #f5eff6;\n",
       "            color:  #000000;\n",
       "        }    #T_e3181eb4_4ccb_11ea_abe8_0c5415364605row15_col21 {\n",
       "            background-color:  #f4eef6;\n",
       "            color:  #000000;\n",
       "        }    #T_e3181eb4_4ccb_11ea_abe8_0c5415364605row15_col22 {\n",
       "            background-color:  #f2ecf5;\n",
       "            color:  #000000;\n",
       "        }    #T_e3181eb4_4ccb_11ea_abe8_0c5415364605row15_col23 {\n",
       "            background-color:  #f2ecf5;\n",
       "            color:  #000000;\n",
       "        }    #T_e3181eb4_4ccb_11ea_abe8_0c5415364605row15_col24 {\n",
       "            background-color:  #f1ebf4;\n",
       "            color:  #000000;\n",
       "        }    #T_e3181eb4_4ccb_11ea_abe8_0c5415364605row15_col25 {\n",
       "            background-color:  #f1ebf4;\n",
       "            color:  #000000;\n",
       "        }    #T_e3181eb4_4ccb_11ea_abe8_0c5415364605row15_col26 {\n",
       "            background-color:  #f1ebf5;\n",
       "            color:  #000000;\n",
       "        }    #T_e3181eb4_4ccb_11ea_abe8_0c5415364605row15_col27 {\n",
       "            background-color:  #f3edf5;\n",
       "            color:  #000000;\n",
       "        }    #T_e3181eb4_4ccb_11ea_abe8_0c5415364605row15_col28 {\n",
       "            background-color:  #ede8f3;\n",
       "            color:  #000000;\n",
       "        }    #T_e3181eb4_4ccb_11ea_abe8_0c5415364605row15_col29 {\n",
       "            background-color:  #f8f1f8;\n",
       "            color:  #000000;\n",
       "        }    #T_e3181eb4_4ccb_11ea_abe8_0c5415364605row16_col0 {\n",
       "            background-color:  #fbf3f9;\n",
       "            color:  #000000;\n",
       "        }    #T_e3181eb4_4ccb_11ea_abe8_0c5415364605row16_col1 {\n",
       "            background-color:  #ece7f2;\n",
       "            color:  #000000;\n",
       "        }    #T_e3181eb4_4ccb_11ea_abe8_0c5415364605row16_col2 {\n",
       "            background-color:  #e2dfee;\n",
       "            color:  #000000;\n",
       "        }    #T_e3181eb4_4ccb_11ea_abe8_0c5415364605row16_col3 {\n",
       "            background-color:  #dedcec;\n",
       "            color:  #000000;\n",
       "        }    #T_e3181eb4_4ccb_11ea_abe8_0c5415364605row16_col4 {\n",
       "            background-color:  #eee8f3;\n",
       "            color:  #000000;\n",
       "        }    #T_e3181eb4_4ccb_11ea_abe8_0c5415364605row16_col5 {\n",
       "            background-color:  #d9d8ea;\n",
       "            color:  #000000;\n",
       "        }    #T_e3181eb4_4ccb_11ea_abe8_0c5415364605row16_col6 {\n",
       "            background-color:  #f7f0f7;\n",
       "            color:  #000000;\n",
       "        }    #T_e3181eb4_4ccb_11ea_abe8_0c5415364605row16_col7 {\n",
       "            background-color:  #f9f2f8;\n",
       "            color:  #000000;\n",
       "        }    #T_e3181eb4_4ccb_11ea_abe8_0c5415364605row16_col8 {\n",
       "            background-color:  #d9d8ea;\n",
       "            color:  #000000;\n",
       "        }    #T_e3181eb4_4ccb_11ea_abe8_0c5415364605row16_col9 {\n",
       "            background-color:  #f4eef6;\n",
       "            color:  #000000;\n",
       "        }    #T_e3181eb4_4ccb_11ea_abe8_0c5415364605row16_col10 {\n",
       "            background-color:  #fef6fb;\n",
       "            color:  #000000;\n",
       "        }    #T_e3181eb4_4ccb_11ea_abe8_0c5415364605row16_col11 {\n",
       "            background-color:  #eee8f3;\n",
       "            color:  #000000;\n",
       "        }    #T_e3181eb4_4ccb_11ea_abe8_0c5415364605row16_col12 {\n",
       "            background-color:  #efe9f3;\n",
       "            color:  #000000;\n",
       "        }    #T_e3181eb4_4ccb_11ea_abe8_0c5415364605row16_col13 {\n",
       "            background-color:  #d6d6e9;\n",
       "            color:  #000000;\n",
       "        }    #T_e3181eb4_4ccb_11ea_abe8_0c5415364605row16_col14 {\n",
       "            background-color:  #f7f0f7;\n",
       "            color:  #000000;\n",
       "        }    #T_e3181eb4_4ccb_11ea_abe8_0c5415364605row16_col15 {\n",
       "            background-color:  #f1ebf4;\n",
       "            color:  #000000;\n",
       "        }    #T_e3181eb4_4ccb_11ea_abe8_0c5415364605row16_col16 {\n",
       "            background-color:  #eee9f3;\n",
       "            color:  #000000;\n",
       "        }    #T_e3181eb4_4ccb_11ea_abe8_0c5415364605row16_col17 {\n",
       "            background-color:  #eee8f3;\n",
       "            color:  #000000;\n",
       "        }    #T_e3181eb4_4ccb_11ea_abe8_0c5415364605row16_col18 {\n",
       "            background-color:  #f0eaf4;\n",
       "            color:  #000000;\n",
       "        }    #T_e3181eb4_4ccb_11ea_abe8_0c5415364605row16_col19 {\n",
       "            background-color:  #fdf5fa;\n",
       "            color:  #000000;\n",
       "        }    #T_e3181eb4_4ccb_11ea_abe8_0c5415364605row16_col20 {\n",
       "            background-color:  #ece7f2;\n",
       "            color:  #000000;\n",
       "        }    #T_e3181eb4_4ccb_11ea_abe8_0c5415364605row16_col21 {\n",
       "            background-color:  #fcf4fa;\n",
       "            color:  #000000;\n",
       "        }    #T_e3181eb4_4ccb_11ea_abe8_0c5415364605row16_col22 {\n",
       "            background-color:  #fdf5fa;\n",
       "            color:  #000000;\n",
       "        }    #T_e3181eb4_4ccb_11ea_abe8_0c5415364605row16_col23 {\n",
       "            background-color:  #fdf5fa;\n",
       "            color:  #000000;\n",
       "        }    #T_e3181eb4_4ccb_11ea_abe8_0c5415364605row16_col24 {\n",
       "            background-color:  #fdf5fa;\n",
       "            color:  #000000;\n",
       "        }    #T_e3181eb4_4ccb_11ea_abe8_0c5415364605row16_col25 {\n",
       "            background-color:  #fdf5fa;\n",
       "            color:  #000000;\n",
       "        }    #T_e3181eb4_4ccb_11ea_abe8_0c5415364605row16_col26 {\n",
       "            background-color:  #fdf5fa;\n",
       "            color:  #000000;\n",
       "        }    #T_e3181eb4_4ccb_11ea_abe8_0c5415364605row16_col27 {\n",
       "            background-color:  #fdf5fa;\n",
       "            color:  #000000;\n",
       "        }    #T_e3181eb4_4ccb_11ea_abe8_0c5415364605row16_col28 {\n",
       "            background-color:  #fdf5fa;\n",
       "            color:  #000000;\n",
       "        }    #T_e3181eb4_4ccb_11ea_abe8_0c5415364605row16_col29 {\n",
       "            background-color:  #fbf3f9;\n",
       "            color:  #000000;\n",
       "        }    #T_e3181eb4_4ccb_11ea_abe8_0c5415364605row17_col0 {\n",
       "            background-color:  #fbf3f9;\n",
       "            color:  #000000;\n",
       "        }    #T_e3181eb4_4ccb_11ea_abe8_0c5415364605row17_col1 {\n",
       "            background-color:  #ece7f2;\n",
       "            color:  #000000;\n",
       "        }    #T_e3181eb4_4ccb_11ea_abe8_0c5415364605row17_col2 {\n",
       "            background-color:  #e3e0ee;\n",
       "            color:  #000000;\n",
       "        }    #T_e3181eb4_4ccb_11ea_abe8_0c5415364605row17_col3 {\n",
       "            background-color:  #dedcec;\n",
       "            color:  #000000;\n",
       "        }    #T_e3181eb4_4ccb_11ea_abe8_0c5415364605row17_col4 {\n",
       "            background-color:  #eee8f3;\n",
       "            color:  #000000;\n",
       "        }    #T_e3181eb4_4ccb_11ea_abe8_0c5415364605row17_col5 {\n",
       "            background-color:  #d9d8ea;\n",
       "            color:  #000000;\n",
       "        }    #T_e3181eb4_4ccb_11ea_abe8_0c5415364605row17_col6 {\n",
       "            background-color:  #f7f0f7;\n",
       "            color:  #000000;\n",
       "        }    #T_e3181eb4_4ccb_11ea_abe8_0c5415364605row17_col7 {\n",
       "            background-color:  #f8f1f8;\n",
       "            color:  #000000;\n",
       "        }    #T_e3181eb4_4ccb_11ea_abe8_0c5415364605row17_col8 {\n",
       "            background-color:  #d9d8ea;\n",
       "            color:  #000000;\n",
       "        }    #T_e3181eb4_4ccb_11ea_abe8_0c5415364605row17_col9 {\n",
       "            background-color:  #f4edf6;\n",
       "            color:  #000000;\n",
       "        }    #T_e3181eb4_4ccb_11ea_abe8_0c5415364605row17_col10 {\n",
       "            background-color:  #fef6fb;\n",
       "            color:  #000000;\n",
       "        }    #T_e3181eb4_4ccb_11ea_abe8_0c5415364605row17_col11 {\n",
       "            background-color:  #ede8f3;\n",
       "            color:  #000000;\n",
       "        }    #T_e3181eb4_4ccb_11ea_abe8_0c5415364605row17_col12 {\n",
       "            background-color:  #eee9f3;\n",
       "            color:  #000000;\n",
       "        }    #T_e3181eb4_4ccb_11ea_abe8_0c5415364605row17_col13 {\n",
       "            background-color:  #d6d6e9;\n",
       "            color:  #000000;\n",
       "        }    #T_e3181eb4_4ccb_11ea_abe8_0c5415364605row17_col14 {\n",
       "            background-color:  #f7f0f7;\n",
       "            color:  #000000;\n",
       "        }    #T_e3181eb4_4ccb_11ea_abe8_0c5415364605row17_col15 {\n",
       "            background-color:  #f1ebf4;\n",
       "            color:  #000000;\n",
       "        }    #T_e3181eb4_4ccb_11ea_abe8_0c5415364605row17_col16 {\n",
       "            background-color:  #eee9f3;\n",
       "            color:  #000000;\n",
       "        }    #T_e3181eb4_4ccb_11ea_abe8_0c5415364605row17_col17 {\n",
       "            background-color:  #eee8f3;\n",
       "            color:  #000000;\n",
       "        }    #T_e3181eb4_4ccb_11ea_abe8_0c5415364605row17_col18 {\n",
       "            background-color:  #f0eaf4;\n",
       "            color:  #000000;\n",
       "        }    #T_e3181eb4_4ccb_11ea_abe8_0c5415364605row17_col19 {\n",
       "            background-color:  #fdf5fa;\n",
       "            color:  #000000;\n",
       "        }    #T_e3181eb4_4ccb_11ea_abe8_0c5415364605row17_col20 {\n",
       "            background-color:  #ece7f2;\n",
       "            color:  #000000;\n",
       "        }    #T_e3181eb4_4ccb_11ea_abe8_0c5415364605row17_col21 {\n",
       "            background-color:  #fcf4fa;\n",
       "            color:  #000000;\n",
       "        }    #T_e3181eb4_4ccb_11ea_abe8_0c5415364605row17_col22 {\n",
       "            background-color:  #fdf5fa;\n",
       "            color:  #000000;\n",
       "        }    #T_e3181eb4_4ccb_11ea_abe8_0c5415364605row17_col23 {\n",
       "            background-color:  #fdf5fa;\n",
       "            color:  #000000;\n",
       "        }    #T_e3181eb4_4ccb_11ea_abe8_0c5415364605row17_col24 {\n",
       "            background-color:  #fdf5fa;\n",
       "            color:  #000000;\n",
       "        }    #T_e3181eb4_4ccb_11ea_abe8_0c5415364605row17_col25 {\n",
       "            background-color:  #fdf5fa;\n",
       "            color:  #000000;\n",
       "        }    #T_e3181eb4_4ccb_11ea_abe8_0c5415364605row17_col26 {\n",
       "            background-color:  #fdf5fa;\n",
       "            color:  #000000;\n",
       "        }    #T_e3181eb4_4ccb_11ea_abe8_0c5415364605row17_col27 {\n",
       "            background-color:  #fdf5fa;\n",
       "            color:  #000000;\n",
       "        }    #T_e3181eb4_4ccb_11ea_abe8_0c5415364605row17_col28 {\n",
       "            background-color:  #fdf5fa;\n",
       "            color:  #000000;\n",
       "        }    #T_e3181eb4_4ccb_11ea_abe8_0c5415364605row17_col29 {\n",
       "            background-color:  #fbf3f9;\n",
       "            color:  #000000;\n",
       "        }    #T_e3181eb4_4ccb_11ea_abe8_0c5415364605row18_col0 {\n",
       "            background-color:  #fff7fb;\n",
       "            color:  #000000;\n",
       "        }    #T_e3181eb4_4ccb_11ea_abe8_0c5415364605row18_col1 {\n",
       "            background-color:  #ede7f2;\n",
       "            color:  #000000;\n",
       "        }    #T_e3181eb4_4ccb_11ea_abe8_0c5415364605row18_col2 {\n",
       "            background-color:  #f2ecf5;\n",
       "            color:  #000000;\n",
       "        }    #T_e3181eb4_4ccb_11ea_abe8_0c5415364605row18_col3 {\n",
       "            background-color:  #ede8f3;\n",
       "            color:  #000000;\n",
       "        }    #T_e3181eb4_4ccb_11ea_abe8_0c5415364605row18_col4 {\n",
       "            background-color:  #fbf3f9;\n",
       "            color:  #000000;\n",
       "        }    #T_e3181eb4_4ccb_11ea_abe8_0c5415364605row18_col5 {\n",
       "            background-color:  #f8f1f8;\n",
       "            color:  #000000;\n",
       "        }    #T_e3181eb4_4ccb_11ea_abe8_0c5415364605row18_col6 {\n",
       "            background-color:  #e9e5f1;\n",
       "            color:  #000000;\n",
       "        }    #T_e3181eb4_4ccb_11ea_abe8_0c5415364605row18_col7 {\n",
       "            background-color:  #fff7fb;\n",
       "            color:  #000000;\n",
       "        }    #T_e3181eb4_4ccb_11ea_abe8_0c5415364605row18_col8 {\n",
       "            background-color:  #efe9f3;\n",
       "            color:  #000000;\n",
       "        }    #T_e3181eb4_4ccb_11ea_abe8_0c5415364605row18_col9 {\n",
       "            background-color:  #ede8f3;\n",
       "            color:  #000000;\n",
       "        }    #T_e3181eb4_4ccb_11ea_abe8_0c5415364605row18_col10 {\n",
       "            background-color:  #dfddec;\n",
       "            color:  #000000;\n",
       "        }    #T_e3181eb4_4ccb_11ea_abe8_0c5415364605row18_col11 {\n",
       "            background-color:  #f7f0f7;\n",
       "            color:  #000000;\n",
       "        }    #T_e3181eb4_4ccb_11ea_abe8_0c5415364605row18_col12 {\n",
       "            background-color:  #f8f1f8;\n",
       "            color:  #000000;\n",
       "        }    #T_e3181eb4_4ccb_11ea_abe8_0c5415364605row18_col13 {\n",
       "            background-color:  #fdf5fa;\n",
       "            color:  #000000;\n",
       "        }    #T_e3181eb4_4ccb_11ea_abe8_0c5415364605row18_col14 {\n",
       "            background-color:  #f0eaf4;\n",
       "            color:  #000000;\n",
       "        }    #T_e3181eb4_4ccb_11ea_abe8_0c5415364605row18_col15 {\n",
       "            background-color:  #f0eaf4;\n",
       "            color:  #000000;\n",
       "        }    #T_e3181eb4_4ccb_11ea_abe8_0c5415364605row18_col16 {\n",
       "            background-color:  #f2ecf5;\n",
       "            color:  #000000;\n",
       "        }    #T_e3181eb4_4ccb_11ea_abe8_0c5415364605row18_col17 {\n",
       "            background-color:  #f5eff6;\n",
       "            color:  #000000;\n",
       "        }    #T_e3181eb4_4ccb_11ea_abe8_0c5415364605row18_col18 {\n",
       "            background-color:  #f2ecf5;\n",
       "            color:  #000000;\n",
       "        }    #T_e3181eb4_4ccb_11ea_abe8_0c5415364605row18_col19 {\n",
       "            background-color:  #f5eff6;\n",
       "            color:  #000000;\n",
       "        }    #T_e3181eb4_4ccb_11ea_abe8_0c5415364605row18_col20 {\n",
       "            background-color:  #f6eff7;\n",
       "            color:  #000000;\n",
       "        }    #T_e3181eb4_4ccb_11ea_abe8_0c5415364605row18_col21 {\n",
       "            background-color:  #f5eef6;\n",
       "            color:  #000000;\n",
       "        }    #T_e3181eb4_4ccb_11ea_abe8_0c5415364605row18_col22 {\n",
       "            background-color:  #f5eef6;\n",
       "            color:  #000000;\n",
       "        }    #T_e3181eb4_4ccb_11ea_abe8_0c5415364605row18_col23 {\n",
       "            background-color:  #f4edf6;\n",
       "            color:  #000000;\n",
       "        }    #T_e3181eb4_4ccb_11ea_abe8_0c5415364605row18_col24 {\n",
       "            background-color:  #f2ecf5;\n",
       "            color:  #000000;\n",
       "        }    #T_e3181eb4_4ccb_11ea_abe8_0c5415364605row18_col25 {\n",
       "            background-color:  #f3edf5;\n",
       "            color:  #000000;\n",
       "        }    #T_e3181eb4_4ccb_11ea_abe8_0c5415364605row18_col26 {\n",
       "            background-color:  #f3edf5;\n",
       "            color:  #000000;\n",
       "        }    #T_e3181eb4_4ccb_11ea_abe8_0c5415364605row18_col27 {\n",
       "            background-color:  #f3edf5;\n",
       "            color:  #000000;\n",
       "        }    #T_e3181eb4_4ccb_11ea_abe8_0c5415364605row18_col28 {\n",
       "            background-color:  #f3edf5;\n",
       "            color:  #000000;\n",
       "        }    #T_e3181eb4_4ccb_11ea_abe8_0c5415364605row18_col29 {\n",
       "            background-color:  #e0deed;\n",
       "            color:  #000000;\n",
       "        }    #T_e3181eb4_4ccb_11ea_abe8_0c5415364605row19_col0 {\n",
       "            background-color:  #fff7fb;\n",
       "            color:  #000000;\n",
       "        }    #T_e3181eb4_4ccb_11ea_abe8_0c5415364605row19_col1 {\n",
       "            background-color:  #ede8f3;\n",
       "            color:  #000000;\n",
       "        }    #T_e3181eb4_4ccb_11ea_abe8_0c5415364605row19_col2 {\n",
       "            background-color:  #ede7f2;\n",
       "            color:  #000000;\n",
       "        }    #T_e3181eb4_4ccb_11ea_abe8_0c5415364605row19_col3 {\n",
       "            background-color:  #f0eaf4;\n",
       "            color:  #000000;\n",
       "        }    #T_e3181eb4_4ccb_11ea_abe8_0c5415364605row19_col4 {\n",
       "            background-color:  #e0dded;\n",
       "            color:  #000000;\n",
       "        }    #T_e3181eb4_4ccb_11ea_abe8_0c5415364605row19_col5 {\n",
       "            background-color:  #eae6f1;\n",
       "            color:  #000000;\n",
       "        }    #T_e3181eb4_4ccb_11ea_abe8_0c5415364605row19_col6 {\n",
       "            background-color:  #e0dded;\n",
       "            color:  #000000;\n",
       "        }    #T_e3181eb4_4ccb_11ea_abe8_0c5415364605row19_col7 {\n",
       "            background-color:  #faf3f9;\n",
       "            color:  #000000;\n",
       "        }    #T_e3181eb4_4ccb_11ea_abe8_0c5415364605row19_col8 {\n",
       "            background-color:  #f7f0f7;\n",
       "            color:  #000000;\n",
       "        }    #T_e3181eb4_4ccb_11ea_abe8_0c5415364605row19_col9 {\n",
       "            background-color:  #fbf3f9;\n",
       "            color:  #000000;\n",
       "        }    #T_e3181eb4_4ccb_11ea_abe8_0c5415364605row19_col10 {\n",
       "            background-color:  #f4edf6;\n",
       "            color:  #000000;\n",
       "        }    #T_e3181eb4_4ccb_11ea_abe8_0c5415364605row19_col11 {\n",
       "            background-color:  #f8f1f8;\n",
       "            color:  #000000;\n",
       "        }    #T_e3181eb4_4ccb_11ea_abe8_0c5415364605row19_col12 {\n",
       "            background-color:  #f9f2f8;\n",
       "            color:  #000000;\n",
       "        }    #T_e3181eb4_4ccb_11ea_abe8_0c5415364605row19_col13 {\n",
       "            background-color:  #fef6fb;\n",
       "            color:  #000000;\n",
       "        }    #T_e3181eb4_4ccb_11ea_abe8_0c5415364605row19_col14 {\n",
       "            background-color:  #faf2f8;\n",
       "            color:  #000000;\n",
       "        }    #T_e3181eb4_4ccb_11ea_abe8_0c5415364605row19_col15 {\n",
       "            background-color:  #f5eff6;\n",
       "            color:  #000000;\n",
       "        }    #T_e3181eb4_4ccb_11ea_abe8_0c5415364605row19_col16 {\n",
       "            background-color:  #f7f0f7;\n",
       "            color:  #000000;\n",
       "        }    #T_e3181eb4_4ccb_11ea_abe8_0c5415364605row19_col17 {\n",
       "            background-color:  #f7f0f7;\n",
       "            color:  #000000;\n",
       "        }    #T_e3181eb4_4ccb_11ea_abe8_0c5415364605row19_col18 {\n",
       "            background-color:  #f9f2f8;\n",
       "            color:  #000000;\n",
       "        }    #T_e3181eb4_4ccb_11ea_abe8_0c5415364605row19_col19 {\n",
       "            background-color:  #f8f1f8;\n",
       "            color:  #000000;\n",
       "        }    #T_e3181eb4_4ccb_11ea_abe8_0c5415364605row19_col20 {\n",
       "            background-color:  #faf2f8;\n",
       "            color:  #000000;\n",
       "        }    #T_e3181eb4_4ccb_11ea_abe8_0c5415364605row19_col21 {\n",
       "            background-color:  #faf2f8;\n",
       "            color:  #000000;\n",
       "        }    #T_e3181eb4_4ccb_11ea_abe8_0c5415364605row19_col22 {\n",
       "            background-color:  #f8f1f8;\n",
       "            color:  #000000;\n",
       "        }    #T_e3181eb4_4ccb_11ea_abe8_0c5415364605row19_col23 {\n",
       "            background-color:  #f8f1f8;\n",
       "            color:  #000000;\n",
       "        }    #T_e3181eb4_4ccb_11ea_abe8_0c5415364605row19_col24 {\n",
       "            background-color:  #f8f1f8;\n",
       "            color:  #000000;\n",
       "        }    #T_e3181eb4_4ccb_11ea_abe8_0c5415364605row19_col25 {\n",
       "            background-color:  #f8f1f8;\n",
       "            color:  #000000;\n",
       "        }    #T_e3181eb4_4ccb_11ea_abe8_0c5415364605row19_col26 {\n",
       "            background-color:  #f6eff7;\n",
       "            color:  #000000;\n",
       "        }    #T_e3181eb4_4ccb_11ea_abe8_0c5415364605row19_col27 {\n",
       "            background-color:  #f4edf6;\n",
       "            color:  #000000;\n",
       "        }    #T_e3181eb4_4ccb_11ea_abe8_0c5415364605row19_col28 {\n",
       "            background-color:  #efe9f3;\n",
       "            color:  #000000;\n",
       "        }    #T_e3181eb4_4ccb_11ea_abe8_0c5415364605row19_col29 {\n",
       "            background-color:  #f3edf5;\n",
       "            color:  #000000;\n",
       "        }    #T_e3181eb4_4ccb_11ea_abe8_0c5415364605row20_col0 {\n",
       "            background-color:  #fff7fb;\n",
       "            color:  #000000;\n",
       "        }    #T_e3181eb4_4ccb_11ea_abe8_0c5415364605row20_col1 {\n",
       "            background-color:  #f0eaf4;\n",
       "            color:  #000000;\n",
       "        }    #T_e3181eb4_4ccb_11ea_abe8_0c5415364605row20_col2 {\n",
       "            background-color:  #f7f0f7;\n",
       "            color:  #000000;\n",
       "        }    #T_e3181eb4_4ccb_11ea_abe8_0c5415364605row20_col3 {\n",
       "            background-color:  #fff7fb;\n",
       "            color:  #000000;\n",
       "        }    #T_e3181eb4_4ccb_11ea_abe8_0c5415364605row20_col4 {\n",
       "            background-color:  #fff7fb;\n",
       "            color:  #000000;\n",
       "        }    #T_e3181eb4_4ccb_11ea_abe8_0c5415364605row20_col5 {\n",
       "            background-color:  #fff7fb;\n",
       "            color:  #000000;\n",
       "        }    #T_e3181eb4_4ccb_11ea_abe8_0c5415364605row20_col6 {\n",
       "            background-color:  #fef6fb;\n",
       "            color:  #000000;\n",
       "        }    #T_e3181eb4_4ccb_11ea_abe8_0c5415364605row20_col7 {\n",
       "            background-color:  #fff7fb;\n",
       "            color:  #000000;\n",
       "        }    #T_e3181eb4_4ccb_11ea_abe8_0c5415364605row20_col8 {\n",
       "            background-color:  #fff7fb;\n",
       "            color:  #000000;\n",
       "        }    #T_e3181eb4_4ccb_11ea_abe8_0c5415364605row20_col9 {\n",
       "            background-color:  #fff7fb;\n",
       "            color:  #000000;\n",
       "        }    #T_e3181eb4_4ccb_11ea_abe8_0c5415364605row20_col10 {\n",
       "            background-color:  #fff7fb;\n",
       "            color:  #000000;\n",
       "        }    #T_e3181eb4_4ccb_11ea_abe8_0c5415364605row20_col11 {\n",
       "            background-color:  #fff7fb;\n",
       "            color:  #000000;\n",
       "        }    #T_e3181eb4_4ccb_11ea_abe8_0c5415364605row20_col12 {\n",
       "            background-color:  #fff7fb;\n",
       "            color:  #000000;\n",
       "        }    #T_e3181eb4_4ccb_11ea_abe8_0c5415364605row20_col13 {\n",
       "            background-color:  #fff7fb;\n",
       "            color:  #000000;\n",
       "        }    #T_e3181eb4_4ccb_11ea_abe8_0c5415364605row20_col14 {\n",
       "            background-color:  #fff7fb;\n",
       "            color:  #000000;\n",
       "        }    #T_e3181eb4_4ccb_11ea_abe8_0c5415364605row20_col15 {\n",
       "            background-color:  #e0deed;\n",
       "            color:  #000000;\n",
       "        }    #T_e3181eb4_4ccb_11ea_abe8_0c5415364605row20_col16 {\n",
       "            background-color:  #faf3f9;\n",
       "            color:  #000000;\n",
       "        }    #T_e3181eb4_4ccb_11ea_abe8_0c5415364605row20_col17 {\n",
       "            background-color:  #fef6fb;\n",
       "            color:  #000000;\n",
       "        }    #T_e3181eb4_4ccb_11ea_abe8_0c5415364605row20_col18 {\n",
       "            background-color:  #fef6fb;\n",
       "            color:  #000000;\n",
       "        }    #T_e3181eb4_4ccb_11ea_abe8_0c5415364605row20_col19 {\n",
       "            background-color:  #fcf4fa;\n",
       "            color:  #000000;\n",
       "        }    #T_e3181eb4_4ccb_11ea_abe8_0c5415364605row20_col20 {\n",
       "            background-color:  #fff7fb;\n",
       "            color:  #000000;\n",
       "        }    #T_e3181eb4_4ccb_11ea_abe8_0c5415364605row20_col21 {\n",
       "            background-color:  #fef6fa;\n",
       "            color:  #000000;\n",
       "        }    #T_e3181eb4_4ccb_11ea_abe8_0c5415364605row20_col22 {\n",
       "            background-color:  #fdf5fa;\n",
       "            color:  #000000;\n",
       "        }    #T_e3181eb4_4ccb_11ea_abe8_0c5415364605row20_col23 {\n",
       "            background-color:  #fdf5fa;\n",
       "            color:  #000000;\n",
       "        }    #T_e3181eb4_4ccb_11ea_abe8_0c5415364605row20_col24 {\n",
       "            background-color:  #fdf5fa;\n",
       "            color:  #000000;\n",
       "        }    #T_e3181eb4_4ccb_11ea_abe8_0c5415364605row20_col25 {\n",
       "            background-color:  #fdf5fa;\n",
       "            color:  #000000;\n",
       "        }    #T_e3181eb4_4ccb_11ea_abe8_0c5415364605row20_col26 {\n",
       "            background-color:  #fdf5fa;\n",
       "            color:  #000000;\n",
       "        }    #T_e3181eb4_4ccb_11ea_abe8_0c5415364605row20_col27 {\n",
       "            background-color:  #fff7fb;\n",
       "            color:  #000000;\n",
       "        }    #T_e3181eb4_4ccb_11ea_abe8_0c5415364605row20_col28 {\n",
       "            background-color:  #fff7fb;\n",
       "            color:  #000000;\n",
       "        }    #T_e3181eb4_4ccb_11ea_abe8_0c5415364605row20_col29 {\n",
       "            background-color:  #fcf4fa;\n",
       "            color:  #000000;\n",
       "        }    #T_e3181eb4_4ccb_11ea_abe8_0c5415364605row21_col0 {\n",
       "            background-color:  #fdf5fa;\n",
       "            color:  #000000;\n",
       "        }    #T_e3181eb4_4ccb_11ea_abe8_0c5415364605row21_col1 {\n",
       "            background-color:  #f0eaf4;\n",
       "            color:  #000000;\n",
       "        }    #T_e3181eb4_4ccb_11ea_abe8_0c5415364605row21_col2 {\n",
       "            background-color:  #eee9f3;\n",
       "            color:  #000000;\n",
       "        }    #T_e3181eb4_4ccb_11ea_abe8_0c5415364605row21_col3 {\n",
       "            background-color:  #d9d8ea;\n",
       "            color:  #000000;\n",
       "        }    #T_e3181eb4_4ccb_11ea_abe8_0c5415364605row21_col4 {\n",
       "            background-color:  #e4e1ef;\n",
       "            color:  #000000;\n",
       "        }    #T_e3181eb4_4ccb_11ea_abe8_0c5415364605row21_col5 {\n",
       "            background-color:  #e7e3f0;\n",
       "            color:  #000000;\n",
       "        }    #T_e3181eb4_4ccb_11ea_abe8_0c5415364605row21_col6 {\n",
       "            background-color:  #e5e1ef;\n",
       "            color:  #000000;\n",
       "        }    #T_e3181eb4_4ccb_11ea_abe8_0c5415364605row21_col7 {\n",
       "            background-color:  #ede7f2;\n",
       "            color:  #000000;\n",
       "        }    #T_e3181eb4_4ccb_11ea_abe8_0c5415364605row21_col8 {\n",
       "            background-color:  #e6e2ef;\n",
       "            color:  #000000;\n",
       "        }    #T_e3181eb4_4ccb_11ea_abe8_0c5415364605row21_col9 {\n",
       "            background-color:  #faf2f8;\n",
       "            color:  #000000;\n",
       "        }    #T_e3181eb4_4ccb_11ea_abe8_0c5415364605row21_col10 {\n",
       "            background-color:  #eee8f3;\n",
       "            color:  #000000;\n",
       "        }    #T_e3181eb4_4ccb_11ea_abe8_0c5415364605row21_col11 {\n",
       "            background-color:  #f4edf6;\n",
       "            color:  #000000;\n",
       "        }    #T_e3181eb4_4ccb_11ea_abe8_0c5415364605row21_col12 {\n",
       "            background-color:  #f4eef6;\n",
       "            color:  #000000;\n",
       "        }    #T_e3181eb4_4ccb_11ea_abe8_0c5415364605row21_col13 {\n",
       "            background-color:  #fbf3f9;\n",
       "            color:  #000000;\n",
       "        }    #T_e3181eb4_4ccb_11ea_abe8_0c5415364605row21_col14 {\n",
       "            background-color:  #f1ebf4;\n",
       "            color:  #000000;\n",
       "        }    #T_e3181eb4_4ccb_11ea_abe8_0c5415364605row21_col15 {\n",
       "            background-color:  #eee8f3;\n",
       "            color:  #000000;\n",
       "        }    #T_e3181eb4_4ccb_11ea_abe8_0c5415364605row21_col16 {\n",
       "            background-color:  #efe9f3;\n",
       "            color:  #000000;\n",
       "        }    #T_e3181eb4_4ccb_11ea_abe8_0c5415364605row21_col17 {\n",
       "            background-color:  #efe9f3;\n",
       "            color:  #000000;\n",
       "        }    #T_e3181eb4_4ccb_11ea_abe8_0c5415364605row21_col18 {\n",
       "            background-color:  #ede8f3;\n",
       "            color:  #000000;\n",
       "        }    #T_e3181eb4_4ccb_11ea_abe8_0c5415364605row21_col19 {\n",
       "            background-color:  #f3edf5;\n",
       "            color:  #000000;\n",
       "        }    #T_e3181eb4_4ccb_11ea_abe8_0c5415364605row21_col20 {\n",
       "            background-color:  #f0eaf4;\n",
       "            color:  #000000;\n",
       "        }    #T_e3181eb4_4ccb_11ea_abe8_0c5415364605row21_col21 {\n",
       "            background-color:  #f4edf6;\n",
       "            color:  #000000;\n",
       "        }    #T_e3181eb4_4ccb_11ea_abe8_0c5415364605row21_col22 {\n",
       "            background-color:  #f2ecf5;\n",
       "            color:  #000000;\n",
       "        }    #T_e3181eb4_4ccb_11ea_abe8_0c5415364605row21_col23 {\n",
       "            background-color:  #f2ecf5;\n",
       "            color:  #000000;\n",
       "        }    #T_e3181eb4_4ccb_11ea_abe8_0c5415364605row21_col24 {\n",
       "            background-color:  #f1ebf5;\n",
       "            color:  #000000;\n",
       "        }    #T_e3181eb4_4ccb_11ea_abe8_0c5415364605row21_col25 {\n",
       "            background-color:  #f2ecf5;\n",
       "            color:  #000000;\n",
       "        }    #T_e3181eb4_4ccb_11ea_abe8_0c5415364605row21_col26 {\n",
       "            background-color:  #f2ecf5;\n",
       "            color:  #000000;\n",
       "        }    #T_e3181eb4_4ccb_11ea_abe8_0c5415364605row21_col27 {\n",
       "            background-color:  #f0eaf4;\n",
       "            color:  #000000;\n",
       "        }    #T_e3181eb4_4ccb_11ea_abe8_0c5415364605row21_col28 {\n",
       "            background-color:  #f1ebf5;\n",
       "            color:  #000000;\n",
       "        }    #T_e3181eb4_4ccb_11ea_abe8_0c5415364605row21_col29 {\n",
       "            background-color:  #f3edf5;\n",
       "            color:  #000000;\n",
       "        }    #T_e3181eb4_4ccb_11ea_abe8_0c5415364605row22_col0 {\n",
       "            background-color:  #fff7fb;\n",
       "            color:  #000000;\n",
       "        }    #T_e3181eb4_4ccb_11ea_abe8_0c5415364605row22_col1 {\n",
       "            background-color:  #f0eaf4;\n",
       "            color:  #000000;\n",
       "        }    #T_e3181eb4_4ccb_11ea_abe8_0c5415364605row22_col2 {\n",
       "            background-color:  #ede8f3;\n",
       "            color:  #000000;\n",
       "        }    #T_e3181eb4_4ccb_11ea_abe8_0c5415364605row22_col3 {\n",
       "            background-color:  #e0dded;\n",
       "            color:  #000000;\n",
       "        }    #T_e3181eb4_4ccb_11ea_abe8_0c5415364605row22_col4 {\n",
       "            background-color:  #e7e3f0;\n",
       "            color:  #000000;\n",
       "        }    #T_e3181eb4_4ccb_11ea_abe8_0c5415364605row22_col5 {\n",
       "            background-color:  #e9e5f1;\n",
       "            color:  #000000;\n",
       "        }    #T_e3181eb4_4ccb_11ea_abe8_0c5415364605row22_col6 {\n",
       "            background-color:  #cccfe5;\n",
       "            color:  #000000;\n",
       "        }    #T_e3181eb4_4ccb_11ea_abe8_0c5415364605row22_col7 {\n",
       "            background-color:  #fff7fb;\n",
       "            color:  #000000;\n",
       "        }    #T_e3181eb4_4ccb_11ea_abe8_0c5415364605row22_col8 {\n",
       "            background-color:  #ced0e6;\n",
       "            color:  #000000;\n",
       "        }    #T_e3181eb4_4ccb_11ea_abe8_0c5415364605row22_col9 {\n",
       "            background-color:  #c8cde4;\n",
       "            color:  #000000;\n",
       "        }    #T_e3181eb4_4ccb_11ea_abe8_0c5415364605row22_col10 {\n",
       "            background-color:  #d8d7e9;\n",
       "            color:  #000000;\n",
       "        }    #T_e3181eb4_4ccb_11ea_abe8_0c5415364605row22_col11 {\n",
       "            background-color:  #e7e3f0;\n",
       "            color:  #000000;\n",
       "        }    #T_e3181eb4_4ccb_11ea_abe8_0c5415364605row22_col12 {\n",
       "            background-color:  #e3e0ee;\n",
       "            color:  #000000;\n",
       "        }    #T_e3181eb4_4ccb_11ea_abe8_0c5415364605row22_col13 {\n",
       "            background-color:  #f0eaf4;\n",
       "            color:  #000000;\n",
       "        }    #T_e3181eb4_4ccb_11ea_abe8_0c5415364605row22_col14 {\n",
       "            background-color:  #e4e1ef;\n",
       "            color:  #000000;\n",
       "        }    #T_e3181eb4_4ccb_11ea_abe8_0c5415364605row22_col15 {\n",
       "            background-color:  #f2ecf5;\n",
       "            color:  #000000;\n",
       "        }    #T_e3181eb4_4ccb_11ea_abe8_0c5415364605row22_col16 {\n",
       "            background-color:  #f8f1f8;\n",
       "            color:  #000000;\n",
       "        }    #T_e3181eb4_4ccb_11ea_abe8_0c5415364605row22_col17 {\n",
       "            background-color:  #f4eef6;\n",
       "            color:  #000000;\n",
       "        }    #T_e3181eb4_4ccb_11ea_abe8_0c5415364605row22_col18 {\n",
       "            background-color:  #ede8f3;\n",
       "            color:  #000000;\n",
       "        }    #T_e3181eb4_4ccb_11ea_abe8_0c5415364605row22_col19 {\n",
       "            background-color:  #f5eef6;\n",
       "            color:  #000000;\n",
       "        }    #T_e3181eb4_4ccb_11ea_abe8_0c5415364605row22_col20 {\n",
       "            background-color:  #f4edf6;\n",
       "            color:  #000000;\n",
       "        }    #T_e3181eb4_4ccb_11ea_abe8_0c5415364605row22_col21 {\n",
       "            background-color:  #f6eff7;\n",
       "            color:  #000000;\n",
       "        }    #T_e3181eb4_4ccb_11ea_abe8_0c5415364605row22_col22 {\n",
       "            background-color:  #f7f0f7;\n",
       "            color:  #000000;\n",
       "        }    #T_e3181eb4_4ccb_11ea_abe8_0c5415364605row22_col23 {\n",
       "            background-color:  #f6eff7;\n",
       "            color:  #000000;\n",
       "        }    #T_e3181eb4_4ccb_11ea_abe8_0c5415364605row22_col24 {\n",
       "            background-color:  #f5eef6;\n",
       "            color:  #000000;\n",
       "        }    #T_e3181eb4_4ccb_11ea_abe8_0c5415364605row22_col25 {\n",
       "            background-color:  #f6eff7;\n",
       "            color:  #000000;\n",
       "        }    #T_e3181eb4_4ccb_11ea_abe8_0c5415364605row22_col26 {\n",
       "            background-color:  #f5eff6;\n",
       "            color:  #000000;\n",
       "        }    #T_e3181eb4_4ccb_11ea_abe8_0c5415364605row22_col27 {\n",
       "            background-color:  #f5eff6;\n",
       "            color:  #000000;\n",
       "        }    #T_e3181eb4_4ccb_11ea_abe8_0c5415364605row22_col28 {\n",
       "            background-color:  #f8f1f8;\n",
       "            color:  #000000;\n",
       "        }    #T_e3181eb4_4ccb_11ea_abe8_0c5415364605row22_col29 {\n",
       "            background-color:  #f4edf6;\n",
       "            color:  #000000;\n",
       "        }    #T_e3181eb4_4ccb_11ea_abe8_0c5415364605row23_col0 {\n",
       "            background-color:  #e8e4f0;\n",
       "            color:  #000000;\n",
       "        }    #T_e3181eb4_4ccb_11ea_abe8_0c5415364605row23_col1 {\n",
       "            background-color:  #f1ebf4;\n",
       "            color:  #000000;\n",
       "        }    #T_e3181eb4_4ccb_11ea_abe8_0c5415364605row23_col2 {\n",
       "            background-color:  #e9e5f1;\n",
       "            color:  #000000;\n",
       "        }    #T_e3181eb4_4ccb_11ea_abe8_0c5415364605row23_col3 {\n",
       "            background-color:  #d9d8ea;\n",
       "            color:  #000000;\n",
       "        }    #T_e3181eb4_4ccb_11ea_abe8_0c5415364605row23_col4 {\n",
       "            background-color:  #dad9ea;\n",
       "            color:  #000000;\n",
       "        }    #T_e3181eb4_4ccb_11ea_abe8_0c5415364605row23_col5 {\n",
       "            background-color:  #e1dfed;\n",
       "            color:  #000000;\n",
       "        }    #T_e3181eb4_4ccb_11ea_abe8_0c5415364605row23_col6 {\n",
       "            background-color:  #f4eef6;\n",
       "            color:  #000000;\n",
       "        }    #T_e3181eb4_4ccb_11ea_abe8_0c5415364605row23_col7 {\n",
       "            background-color:  #faf2f8;\n",
       "            color:  #000000;\n",
       "        }    #T_e3181eb4_4ccb_11ea_abe8_0c5415364605row23_col8 {\n",
       "            background-color:  #faf2f8;\n",
       "            color:  #000000;\n",
       "        }    #T_e3181eb4_4ccb_11ea_abe8_0c5415364605row23_col9 {\n",
       "            background-color:  #fbf3f9;\n",
       "            color:  #000000;\n",
       "        }    #T_e3181eb4_4ccb_11ea_abe8_0c5415364605row23_col10 {\n",
       "            background-color:  #ebe6f2;\n",
       "            color:  #000000;\n",
       "        }    #T_e3181eb4_4ccb_11ea_abe8_0c5415364605row23_col11 {\n",
       "            background-color:  #f8f1f8;\n",
       "            color:  #000000;\n",
       "        }    #T_e3181eb4_4ccb_11ea_abe8_0c5415364605row23_col12 {\n",
       "            background-color:  #f9f2f8;\n",
       "            color:  #000000;\n",
       "        }    #T_e3181eb4_4ccb_11ea_abe8_0c5415364605row23_col13 {\n",
       "            background-color:  #fdf5fa;\n",
       "            color:  #000000;\n",
       "        }    #T_e3181eb4_4ccb_11ea_abe8_0c5415364605row23_col14 {\n",
       "            background-color:  #eee8f3;\n",
       "            color:  #000000;\n",
       "        }    #T_e3181eb4_4ccb_11ea_abe8_0c5415364605row23_col15 {\n",
       "            background-color:  #eae6f1;\n",
       "            color:  #000000;\n",
       "        }    #T_e3181eb4_4ccb_11ea_abe8_0c5415364605row23_col16 {\n",
       "            background-color:  #ebe6f2;\n",
       "            color:  #000000;\n",
       "        }    #T_e3181eb4_4ccb_11ea_abe8_0c5415364605row23_col17 {\n",
       "            background-color:  #e5e1ef;\n",
       "            color:  #000000;\n",
       "        }    #T_e3181eb4_4ccb_11ea_abe8_0c5415364605row23_col18 {\n",
       "            background-color:  #f7f0f7;\n",
       "            color:  #000000;\n",
       "        }    #T_e3181eb4_4ccb_11ea_abe8_0c5415364605row23_col19 {\n",
       "            background-color:  #f4eef6;\n",
       "            color:  #000000;\n",
       "        }    #T_e3181eb4_4ccb_11ea_abe8_0c5415364605row23_col20 {\n",
       "            background-color:  #f7f0f7;\n",
       "            color:  #000000;\n",
       "        }    #T_e3181eb4_4ccb_11ea_abe8_0c5415364605row23_col21 {\n",
       "            background-color:  #f4edf6;\n",
       "            color:  #000000;\n",
       "        }    #T_e3181eb4_4ccb_11ea_abe8_0c5415364605row23_col22 {\n",
       "            background-color:  #f5eef6;\n",
       "            color:  #000000;\n",
       "        }    #T_e3181eb4_4ccb_11ea_abe8_0c5415364605row23_col23 {\n",
       "            background-color:  #f4eef6;\n",
       "            color:  #000000;\n",
       "        }    #T_e3181eb4_4ccb_11ea_abe8_0c5415364605row23_col24 {\n",
       "            background-color:  #f2ecf5;\n",
       "            color:  #000000;\n",
       "        }    #T_e3181eb4_4ccb_11ea_abe8_0c5415364605row23_col25 {\n",
       "            background-color:  #f3edf5;\n",
       "            color:  #000000;\n",
       "        }    #T_e3181eb4_4ccb_11ea_abe8_0c5415364605row23_col26 {\n",
       "            background-color:  #f2ecf5;\n",
       "            color:  #000000;\n",
       "        }    #T_e3181eb4_4ccb_11ea_abe8_0c5415364605row23_col27 {\n",
       "            background-color:  #f2ecf5;\n",
       "            color:  #000000;\n",
       "        }    #T_e3181eb4_4ccb_11ea_abe8_0c5415364605row23_col28 {\n",
       "            background-color:  #f4edf6;\n",
       "            color:  #000000;\n",
       "        }    #T_e3181eb4_4ccb_11ea_abe8_0c5415364605row23_col29 {\n",
       "            background-color:  #f2ecf5;\n",
       "            color:  #000000;\n",
       "        }    #T_e3181eb4_4ccb_11ea_abe8_0c5415364605row24_col0 {\n",
       "            background-color:  #fff7fb;\n",
       "            color:  #000000;\n",
       "        }    #T_e3181eb4_4ccb_11ea_abe8_0c5415364605row24_col1 {\n",
       "            background-color:  #f1ebf4;\n",
       "            color:  #000000;\n",
       "        }    #T_e3181eb4_4ccb_11ea_abe8_0c5415364605row24_col2 {\n",
       "            background-color:  #f3edf5;\n",
       "            color:  #000000;\n",
       "        }    #T_e3181eb4_4ccb_11ea_abe8_0c5415364605row24_col3 {\n",
       "            background-color:  #f5eff6;\n",
       "            color:  #000000;\n",
       "        }    #T_e3181eb4_4ccb_11ea_abe8_0c5415364605row24_col4 {\n",
       "            background-color:  #fdf5fa;\n",
       "            color:  #000000;\n",
       "        }    #T_e3181eb4_4ccb_11ea_abe8_0c5415364605row24_col5 {\n",
       "            background-color:  #f8f1f8;\n",
       "            color:  #000000;\n",
       "        }    #T_e3181eb4_4ccb_11ea_abe8_0c5415364605row24_col6 {\n",
       "            background-color:  #eee8f3;\n",
       "            color:  #000000;\n",
       "        }    #T_e3181eb4_4ccb_11ea_abe8_0c5415364605row24_col7 {\n",
       "            background-color:  #fff7fb;\n",
       "            color:  #000000;\n",
       "        }    #T_e3181eb4_4ccb_11ea_abe8_0c5415364605row24_col8 {\n",
       "            background-color:  #f7f0f7;\n",
       "            color:  #000000;\n",
       "        }    #T_e3181eb4_4ccb_11ea_abe8_0c5415364605row24_col9 {\n",
       "            background-color:  #fef6fb;\n",
       "            color:  #000000;\n",
       "        }    #T_e3181eb4_4ccb_11ea_abe8_0c5415364605row24_col10 {\n",
       "            background-color:  #f5eef6;\n",
       "            color:  #000000;\n",
       "        }    #T_e3181eb4_4ccb_11ea_abe8_0c5415364605row24_col11 {\n",
       "            background-color:  #faf2f8;\n",
       "            color:  #000000;\n",
       "        }    #T_e3181eb4_4ccb_11ea_abe8_0c5415364605row24_col12 {\n",
       "            background-color:  #faf2f8;\n",
       "            color:  #000000;\n",
       "        }    #T_e3181eb4_4ccb_11ea_abe8_0c5415364605row24_col13 {\n",
       "            background-color:  #fff7fb;\n",
       "            color:  #000000;\n",
       "        }    #T_e3181eb4_4ccb_11ea_abe8_0c5415364605row24_col14 {\n",
       "            background-color:  #fdf5fa;\n",
       "            color:  #000000;\n",
       "        }    #T_e3181eb4_4ccb_11ea_abe8_0c5415364605row24_col15 {\n",
       "            background-color:  #e7e3f0;\n",
       "            color:  #000000;\n",
       "        }    #T_e3181eb4_4ccb_11ea_abe8_0c5415364605row24_col16 {\n",
       "            background-color:  #e6e2ef;\n",
       "            color:  #000000;\n",
       "        }    #T_e3181eb4_4ccb_11ea_abe8_0c5415364605row24_col17 {\n",
       "            background-color:  #f1ebf4;\n",
       "            color:  #000000;\n",
       "        }    #T_e3181eb4_4ccb_11ea_abe8_0c5415364605row24_col18 {\n",
       "            background-color:  #e8e4f0;\n",
       "            color:  #000000;\n",
       "        }    #T_e3181eb4_4ccb_11ea_abe8_0c5415364605row24_col19 {\n",
       "            background-color:  #ede7f2;\n",
       "            color:  #000000;\n",
       "        }    #T_e3181eb4_4ccb_11ea_abe8_0c5415364605row24_col20 {\n",
       "            background-color:  #f2ecf5;\n",
       "            color:  #000000;\n",
       "        }    #T_e3181eb4_4ccb_11ea_abe8_0c5415364605row24_col21 {\n",
       "            background-color:  #ece7f2;\n",
       "            color:  #000000;\n",
       "        }    #T_e3181eb4_4ccb_11ea_abe8_0c5415364605row24_col22 {\n",
       "            background-color:  #ede7f2;\n",
       "            color:  #000000;\n",
       "        }    #T_e3181eb4_4ccb_11ea_abe8_0c5415364605row24_col23 {\n",
       "            background-color:  #ede7f2;\n",
       "            color:  #000000;\n",
       "        }    #T_e3181eb4_4ccb_11ea_abe8_0c5415364605row24_col24 {\n",
       "            background-color:  #ede7f2;\n",
       "            color:  #000000;\n",
       "        }    #T_e3181eb4_4ccb_11ea_abe8_0c5415364605row24_col25 {\n",
       "            background-color:  #efe9f3;\n",
       "            color:  #000000;\n",
       "        }    #T_e3181eb4_4ccb_11ea_abe8_0c5415364605row24_col26 {\n",
       "            background-color:  #efe9f3;\n",
       "            color:  #000000;\n",
       "        }    #T_e3181eb4_4ccb_11ea_abe8_0c5415364605row24_col27 {\n",
       "            background-color:  #f1ebf4;\n",
       "            color:  #000000;\n",
       "        }    #T_e3181eb4_4ccb_11ea_abe8_0c5415364605row24_col28 {\n",
       "            background-color:  #ede8f3;\n",
       "            color:  #000000;\n",
       "        }    #T_e3181eb4_4ccb_11ea_abe8_0c5415364605row24_col29 {\n",
       "            background-color:  #e0dded;\n",
       "            color:  #000000;\n",
       "        }    #T_e3181eb4_4ccb_11ea_abe8_0c5415364605row25_col0 {\n",
       "            background-color:  #efe9f3;\n",
       "            color:  #000000;\n",
       "        }    #T_e3181eb4_4ccb_11ea_abe8_0c5415364605row25_col1 {\n",
       "            background-color:  #f3edf5;\n",
       "            color:  #000000;\n",
       "        }    #T_e3181eb4_4ccb_11ea_abe8_0c5415364605row25_col2 {\n",
       "            background-color:  #f8f1f8;\n",
       "            color:  #000000;\n",
       "        }    #T_e3181eb4_4ccb_11ea_abe8_0c5415364605row25_col3 {\n",
       "            background-color:  #f5eef6;\n",
       "            color:  #000000;\n",
       "        }    #T_e3181eb4_4ccb_11ea_abe8_0c5415364605row25_col4 {\n",
       "            background-color:  #f6eff7;\n",
       "            color:  #000000;\n",
       "        }    #T_e3181eb4_4ccb_11ea_abe8_0c5415364605row25_col5 {\n",
       "            background-color:  #f8f1f8;\n",
       "            color:  #000000;\n",
       "        }    #T_e3181eb4_4ccb_11ea_abe8_0c5415364605row25_col6 {\n",
       "            background-color:  #d9d8ea;\n",
       "            color:  #000000;\n",
       "        }    #T_e3181eb4_4ccb_11ea_abe8_0c5415364605row25_col7 {\n",
       "            background-color:  #eee8f3;\n",
       "            color:  #000000;\n",
       "        }    #T_e3181eb4_4ccb_11ea_abe8_0c5415364605row25_col8 {\n",
       "            background-color:  #eae6f1;\n",
       "            color:  #000000;\n",
       "        }    #T_e3181eb4_4ccb_11ea_abe8_0c5415364605row25_col9 {\n",
       "            background-color:  #f8f1f8;\n",
       "            color:  #000000;\n",
       "        }    #T_e3181eb4_4ccb_11ea_abe8_0c5415364605row25_col10 {\n",
       "            background-color:  #d0d1e6;\n",
       "            color:  #000000;\n",
       "        }    #T_e3181eb4_4ccb_11ea_abe8_0c5415364605row25_col11 {\n",
       "            background-color:  #f3edf5;\n",
       "            color:  #000000;\n",
       "        }    #T_e3181eb4_4ccb_11ea_abe8_0c5415364605row25_col12 {\n",
       "            background-color:  #f4edf6;\n",
       "            color:  #000000;\n",
       "        }    #T_e3181eb4_4ccb_11ea_abe8_0c5415364605row25_col13 {\n",
       "            background-color:  #fcf4fa;\n",
       "            color:  #000000;\n",
       "        }    #T_e3181eb4_4ccb_11ea_abe8_0c5415364605row25_col14 {\n",
       "            background-color:  #f2ecf5;\n",
       "            color:  #000000;\n",
       "        }    #T_e3181eb4_4ccb_11ea_abe8_0c5415364605row25_col15 {\n",
       "            background-color:  #f2ecf5;\n",
       "            color:  #000000;\n",
       "        }    #T_e3181eb4_4ccb_11ea_abe8_0c5415364605row25_col16 {\n",
       "            background-color:  #f5eff6;\n",
       "            color:  #000000;\n",
       "        }    #T_e3181eb4_4ccb_11ea_abe8_0c5415364605row25_col17 {\n",
       "            background-color:  #f5eef6;\n",
       "            color:  #000000;\n",
       "        }    #T_e3181eb4_4ccb_11ea_abe8_0c5415364605row25_col18 {\n",
       "            background-color:  #dedcec;\n",
       "            color:  #000000;\n",
       "        }    #T_e3181eb4_4ccb_11ea_abe8_0c5415364605row25_col19 {\n",
       "            background-color:  #eee8f3;\n",
       "            color:  #000000;\n",
       "        }    #T_e3181eb4_4ccb_11ea_abe8_0c5415364605row25_col20 {\n",
       "            background-color:  #f1ebf4;\n",
       "            color:  #000000;\n",
       "        }    #T_e3181eb4_4ccb_11ea_abe8_0c5415364605row25_col21 {\n",
       "            background-color:  #f2ecf5;\n",
       "            color:  #000000;\n",
       "        }    #T_e3181eb4_4ccb_11ea_abe8_0c5415364605row25_col22 {\n",
       "            background-color:  #f1ebf4;\n",
       "            color:  #000000;\n",
       "        }    #T_e3181eb4_4ccb_11ea_abe8_0c5415364605row25_col23 {\n",
       "            background-color:  #eee9f3;\n",
       "            color:  #000000;\n",
       "        }    #T_e3181eb4_4ccb_11ea_abe8_0c5415364605row25_col24 {\n",
       "            background-color:  #eee8f3;\n",
       "            color:  #000000;\n",
       "        }    #T_e3181eb4_4ccb_11ea_abe8_0c5415364605row25_col25 {\n",
       "            background-color:  #eee8f3;\n",
       "            color:  #000000;\n",
       "        }    #T_e3181eb4_4ccb_11ea_abe8_0c5415364605row25_col26 {\n",
       "            background-color:  #ede8f3;\n",
       "            color:  #000000;\n",
       "        }    #T_e3181eb4_4ccb_11ea_abe8_0c5415364605row25_col27 {\n",
       "            background-color:  #f1ebf4;\n",
       "            color:  #000000;\n",
       "        }    #T_e3181eb4_4ccb_11ea_abe8_0c5415364605row25_col28 {\n",
       "            background-color:  #f1ebf4;\n",
       "            color:  #000000;\n",
       "        }    #T_e3181eb4_4ccb_11ea_abe8_0c5415364605row25_col29 {\n",
       "            background-color:  #d9d8ea;\n",
       "            color:  #000000;\n",
       "        }    #T_e3181eb4_4ccb_11ea_abe8_0c5415364605row26_col0 {\n",
       "            background-color:  #fdf5fa;\n",
       "            color:  #000000;\n",
       "        }    #T_e3181eb4_4ccb_11ea_abe8_0c5415364605row26_col1 {\n",
       "            background-color:  #f5eef6;\n",
       "            color:  #000000;\n",
       "        }    #T_e3181eb4_4ccb_11ea_abe8_0c5415364605row26_col2 {\n",
       "            background-color:  #f1ebf4;\n",
       "            color:  #000000;\n",
       "        }    #T_e3181eb4_4ccb_11ea_abe8_0c5415364605row26_col3 {\n",
       "            background-color:  #e6e2ef;\n",
       "            color:  #000000;\n",
       "        }    #T_e3181eb4_4ccb_11ea_abe8_0c5415364605row26_col4 {\n",
       "            background-color:  #eae6f1;\n",
       "            color:  #000000;\n",
       "        }    #T_e3181eb4_4ccb_11ea_abe8_0c5415364605row26_col5 {\n",
       "            background-color:  #e8e4f0;\n",
       "            color:  #000000;\n",
       "        }    #T_e3181eb4_4ccb_11ea_abe8_0c5415364605row26_col6 {\n",
       "            background-color:  #d9d8ea;\n",
       "            color:  #000000;\n",
       "        }    #T_e3181eb4_4ccb_11ea_abe8_0c5415364605row26_col7 {\n",
       "            background-color:  #e0dded;\n",
       "            color:  #000000;\n",
       "        }    #T_e3181eb4_4ccb_11ea_abe8_0c5415364605row26_col8 {\n",
       "            background-color:  #e0dded;\n",
       "            color:  #000000;\n",
       "        }    #T_e3181eb4_4ccb_11ea_abe8_0c5415364605row26_col9 {\n",
       "            background-color:  #f6eff7;\n",
       "            color:  #000000;\n",
       "        }    #T_e3181eb4_4ccb_11ea_abe8_0c5415364605row26_col10 {\n",
       "            background-color:  #dad9ea;\n",
       "            color:  #000000;\n",
       "        }    #T_e3181eb4_4ccb_11ea_abe8_0c5415364605row26_col11 {\n",
       "            background-color:  #f5eef6;\n",
       "            color:  #000000;\n",
       "        }    #T_e3181eb4_4ccb_11ea_abe8_0c5415364605row26_col12 {\n",
       "            background-color:  #f5eff6;\n",
       "            color:  #000000;\n",
       "        }    #T_e3181eb4_4ccb_11ea_abe8_0c5415364605row26_col13 {\n",
       "            background-color:  #fcf4fa;\n",
       "            color:  #000000;\n",
       "        }    #T_e3181eb4_4ccb_11ea_abe8_0c5415364605row26_col14 {\n",
       "            background-color:  #f4edf6;\n",
       "            color:  #000000;\n",
       "        }    #T_e3181eb4_4ccb_11ea_abe8_0c5415364605row26_col15 {\n",
       "            background-color:  #e8e4f0;\n",
       "            color:  #000000;\n",
       "        }    #T_e3181eb4_4ccb_11ea_abe8_0c5415364605row26_col16 {\n",
       "            background-color:  #f3edf5;\n",
       "            color:  #000000;\n",
       "        }    #T_e3181eb4_4ccb_11ea_abe8_0c5415364605row26_col17 {\n",
       "            background-color:  #f1ebf5;\n",
       "            color:  #000000;\n",
       "        }    #T_e3181eb4_4ccb_11ea_abe8_0c5415364605row26_col18 {\n",
       "            background-color:  #e0dded;\n",
       "            color:  #000000;\n",
       "        }    #T_e3181eb4_4ccb_11ea_abe8_0c5415364605row26_col19 {\n",
       "            background-color:  #ede7f2;\n",
       "            color:  #000000;\n",
       "        }    #T_e3181eb4_4ccb_11ea_abe8_0c5415364605row26_col20 {\n",
       "            background-color:  #e3e0ee;\n",
       "            color:  #000000;\n",
       "        }    #T_e3181eb4_4ccb_11ea_abe8_0c5415364605row26_col21 {\n",
       "            background-color:  #ede8f3;\n",
       "            color:  #000000;\n",
       "        }    #T_e3181eb4_4ccb_11ea_abe8_0c5415364605row26_col22 {\n",
       "            background-color:  #ede8f3;\n",
       "            color:  #000000;\n",
       "        }    #T_e3181eb4_4ccb_11ea_abe8_0c5415364605row26_col23 {\n",
       "            background-color:  #e9e5f1;\n",
       "            color:  #000000;\n",
       "        }    #T_e3181eb4_4ccb_11ea_abe8_0c5415364605row26_col24 {\n",
       "            background-color:  #e9e5f1;\n",
       "            color:  #000000;\n",
       "        }    #T_e3181eb4_4ccb_11ea_abe8_0c5415364605row26_col25 {\n",
       "            background-color:  #ece7f2;\n",
       "            color:  #000000;\n",
       "        }    #T_e3181eb4_4ccb_11ea_abe8_0c5415364605row26_col26 {\n",
       "            background-color:  #eee8f3;\n",
       "            color:  #000000;\n",
       "        }    #T_e3181eb4_4ccb_11ea_abe8_0c5415364605row26_col27 {\n",
       "            background-color:  #efe9f3;\n",
       "            color:  #000000;\n",
       "        }    #T_e3181eb4_4ccb_11ea_abe8_0c5415364605row26_col28 {\n",
       "            background-color:  #eee9f3;\n",
       "            color:  #000000;\n",
       "        }    #T_e3181eb4_4ccb_11ea_abe8_0c5415364605row26_col29 {\n",
       "            background-color:  #e8e4f0;\n",
       "            color:  #000000;\n",
       "        }    #T_e3181eb4_4ccb_11ea_abe8_0c5415364605row27_col0 {\n",
       "            background-color:  #dedcec;\n",
       "            color:  #000000;\n",
       "        }    #T_e3181eb4_4ccb_11ea_abe8_0c5415364605row27_col1 {\n",
       "            background-color:  #f5eef6;\n",
       "            color:  #000000;\n",
       "        }    #T_e3181eb4_4ccb_11ea_abe8_0c5415364605row27_col2 {\n",
       "            background-color:  #fdf5fa;\n",
       "            color:  #000000;\n",
       "        }    #T_e3181eb4_4ccb_11ea_abe8_0c5415364605row27_col3 {\n",
       "            background-color:  #f9f2f8;\n",
       "            color:  #000000;\n",
       "        }    #T_e3181eb4_4ccb_11ea_abe8_0c5415364605row27_col4 {\n",
       "            background-color:  #faf2f8;\n",
       "            color:  #000000;\n",
       "        }    #T_e3181eb4_4ccb_11ea_abe8_0c5415364605row27_col5 {\n",
       "            background-color:  #fbf3f9;\n",
       "            color:  #000000;\n",
       "        }    #T_e3181eb4_4ccb_11ea_abe8_0c5415364605row27_col6 {\n",
       "            background-color:  #f0eaf4;\n",
       "            color:  #000000;\n",
       "        }    #T_e3181eb4_4ccb_11ea_abe8_0c5415364605row27_col7 {\n",
       "            background-color:  #f0eaf4;\n",
       "            color:  #000000;\n",
       "        }    #T_e3181eb4_4ccb_11ea_abe8_0c5415364605row27_col8 {\n",
       "            background-color:  #fef6fa;\n",
       "            color:  #000000;\n",
       "        }    #T_e3181eb4_4ccb_11ea_abe8_0c5415364605row27_col9 {\n",
       "            background-color:  #fdf5fa;\n",
       "            color:  #000000;\n",
       "        }    #T_e3181eb4_4ccb_11ea_abe8_0c5415364605row27_col10 {\n",
       "            background-color:  #fbf4f9;\n",
       "            color:  #000000;\n",
       "        }    #T_e3181eb4_4ccb_11ea_abe8_0c5415364605row27_col11 {\n",
       "            background-color:  #fef6fb;\n",
       "            color:  #000000;\n",
       "        }    #T_e3181eb4_4ccb_11ea_abe8_0c5415364605row27_col12 {\n",
       "            background-color:  #fef6fb;\n",
       "            color:  #000000;\n",
       "        }    #T_e3181eb4_4ccb_11ea_abe8_0c5415364605row27_col13 {\n",
       "            background-color:  #fff7fb;\n",
       "            color:  #000000;\n",
       "        }    #T_e3181eb4_4ccb_11ea_abe8_0c5415364605row27_col14 {\n",
       "            background-color:  #fdf5fa;\n",
       "            color:  #000000;\n",
       "        }    #T_e3181eb4_4ccb_11ea_abe8_0c5415364605row27_col15 {\n",
       "            background-color:  #f8f1f8;\n",
       "            color:  #000000;\n",
       "        }    #T_e3181eb4_4ccb_11ea_abe8_0c5415364605row27_col16 {\n",
       "            background-color:  #f9f2f8;\n",
       "            color:  #000000;\n",
       "        }    #T_e3181eb4_4ccb_11ea_abe8_0c5415364605row27_col17 {\n",
       "            background-color:  #fbf4f9;\n",
       "            color:  #000000;\n",
       "        }    #T_e3181eb4_4ccb_11ea_abe8_0c5415364605row27_col18 {\n",
       "            background-color:  #dfddec;\n",
       "            color:  #000000;\n",
       "        }    #T_e3181eb4_4ccb_11ea_abe8_0c5415364605row27_col19 {\n",
       "            background-color:  #f2ecf5;\n",
       "            color:  #000000;\n",
       "        }    #T_e3181eb4_4ccb_11ea_abe8_0c5415364605row27_col20 {\n",
       "            background-color:  #e2dfee;\n",
       "            color:  #000000;\n",
       "        }    #T_e3181eb4_4ccb_11ea_abe8_0c5415364605row27_col21 {\n",
       "            background-color:  #f6eff7;\n",
       "            color:  #000000;\n",
       "        }    #T_e3181eb4_4ccb_11ea_abe8_0c5415364605row27_col22 {\n",
       "            background-color:  #f7f0f7;\n",
       "            color:  #000000;\n",
       "        }    #T_e3181eb4_4ccb_11ea_abe8_0c5415364605row27_col23 {\n",
       "            background-color:  #f5eff6;\n",
       "            color:  #000000;\n",
       "        }    #T_e3181eb4_4ccb_11ea_abe8_0c5415364605row27_col24 {\n",
       "            background-color:  #f5eef6;\n",
       "            color:  #000000;\n",
       "        }    #T_e3181eb4_4ccb_11ea_abe8_0c5415364605row27_col25 {\n",
       "            background-color:  #f5eff6;\n",
       "            color:  #000000;\n",
       "        }    #T_e3181eb4_4ccb_11ea_abe8_0c5415364605row27_col26 {\n",
       "            background-color:  #f4eef6;\n",
       "            color:  #000000;\n",
       "        }    #T_e3181eb4_4ccb_11ea_abe8_0c5415364605row27_col27 {\n",
       "            background-color:  #f6eff7;\n",
       "            color:  #000000;\n",
       "        }    #T_e3181eb4_4ccb_11ea_abe8_0c5415364605row27_col28 {\n",
       "            background-color:  #fdf5fa;\n",
       "            color:  #000000;\n",
       "        }    #T_e3181eb4_4ccb_11ea_abe8_0c5415364605row27_col29 {\n",
       "            background-color:  #f8f1f8;\n",
       "            color:  #000000;\n",
       "        }    #T_e3181eb4_4ccb_11ea_abe8_0c5415364605row28_col0 {\n",
       "            background-color:  #faf3f9;\n",
       "            color:  #000000;\n",
       "        }    #T_e3181eb4_4ccb_11ea_abe8_0c5415364605row28_col1 {\n",
       "            background-color:  #f5eff6;\n",
       "            color:  #000000;\n",
       "        }    #T_e3181eb4_4ccb_11ea_abe8_0c5415364605row28_col2 {\n",
       "            background-color:  #faf2f8;\n",
       "            color:  #000000;\n",
       "        }    #T_e3181eb4_4ccb_11ea_abe8_0c5415364605row28_col3 {\n",
       "            background-color:  #f9f2f8;\n",
       "            color:  #000000;\n",
       "        }    #T_e3181eb4_4ccb_11ea_abe8_0c5415364605row28_col4 {\n",
       "            background-color:  #f7f0f7;\n",
       "            color:  #000000;\n",
       "        }    #T_e3181eb4_4ccb_11ea_abe8_0c5415364605row28_col5 {\n",
       "            background-color:  #f8f1f8;\n",
       "            color:  #000000;\n",
       "        }    #T_e3181eb4_4ccb_11ea_abe8_0c5415364605row28_col6 {\n",
       "            background-color:  #f2ecf5;\n",
       "            color:  #000000;\n",
       "        }    #T_e3181eb4_4ccb_11ea_abe8_0c5415364605row28_col7 {\n",
       "            background-color:  #fdf5fa;\n",
       "            color:  #000000;\n",
       "        }    #T_e3181eb4_4ccb_11ea_abe8_0c5415364605row28_col8 {\n",
       "            background-color:  #f4eef6;\n",
       "            color:  #000000;\n",
       "        }    #T_e3181eb4_4ccb_11ea_abe8_0c5415364605row28_col9 {\n",
       "            background-color:  #fbf3f9;\n",
       "            color:  #000000;\n",
       "        }    #T_e3181eb4_4ccb_11ea_abe8_0c5415364605row28_col10 {\n",
       "            background-color:  #f9f2f8;\n",
       "            color:  #000000;\n",
       "        }    #T_e3181eb4_4ccb_11ea_abe8_0c5415364605row28_col11 {\n",
       "            background-color:  #fdf5fa;\n",
       "            color:  #000000;\n",
       "        }    #T_e3181eb4_4ccb_11ea_abe8_0c5415364605row28_col12 {\n",
       "            background-color:  #fcf4fa;\n",
       "            color:  #000000;\n",
       "        }    #T_e3181eb4_4ccb_11ea_abe8_0c5415364605row28_col13 {\n",
       "            background-color:  #fef6fb;\n",
       "            color:  #000000;\n",
       "        }    #T_e3181eb4_4ccb_11ea_abe8_0c5415364605row28_col14 {\n",
       "            background-color:  #fdf5fa;\n",
       "            color:  #000000;\n",
       "        }    #T_e3181eb4_4ccb_11ea_abe8_0c5415364605row28_col15 {\n",
       "            background-color:  #faf3f9;\n",
       "            color:  #000000;\n",
       "        }    #T_e3181eb4_4ccb_11ea_abe8_0c5415364605row28_col16 {\n",
       "            background-color:  #f8f1f8;\n",
       "            color:  #000000;\n",
       "        }    #T_e3181eb4_4ccb_11ea_abe8_0c5415364605row28_col17 {\n",
       "            background-color:  #f8f1f8;\n",
       "            color:  #000000;\n",
       "        }    #T_e3181eb4_4ccb_11ea_abe8_0c5415364605row28_col18 {\n",
       "            background-color:  #f0eaf4;\n",
       "            color:  #000000;\n",
       "        }    #T_e3181eb4_4ccb_11ea_abe8_0c5415364605row28_col19 {\n",
       "            background-color:  #f7f0f7;\n",
       "            color:  #000000;\n",
       "        }    #T_e3181eb4_4ccb_11ea_abe8_0c5415364605row28_col20 {\n",
       "            background-color:  #f6eff7;\n",
       "            color:  #000000;\n",
       "        }    #T_e3181eb4_4ccb_11ea_abe8_0c5415364605row28_col21 {\n",
       "            background-color:  #f8f1f8;\n",
       "            color:  #000000;\n",
       "        }    #T_e3181eb4_4ccb_11ea_abe8_0c5415364605row28_col22 {\n",
       "            background-color:  #f8f1f8;\n",
       "            color:  #000000;\n",
       "        }    #T_e3181eb4_4ccb_11ea_abe8_0c5415364605row28_col23 {\n",
       "            background-color:  #f7f0f7;\n",
       "            color:  #000000;\n",
       "        }    #T_e3181eb4_4ccb_11ea_abe8_0c5415364605row28_col24 {\n",
       "            background-color:  #f4eef6;\n",
       "            color:  #000000;\n",
       "        }    #T_e3181eb4_4ccb_11ea_abe8_0c5415364605row28_col25 {\n",
       "            background-color:  #f5eef6;\n",
       "            color:  #000000;\n",
       "        }    #T_e3181eb4_4ccb_11ea_abe8_0c5415364605row28_col26 {\n",
       "            background-color:  #f4edf6;\n",
       "            color:  #000000;\n",
       "        }    #T_e3181eb4_4ccb_11ea_abe8_0c5415364605row28_col27 {\n",
       "            background-color:  #f4edf6;\n",
       "            color:  #000000;\n",
       "        }    #T_e3181eb4_4ccb_11ea_abe8_0c5415364605row28_col28 {\n",
       "            background-color:  #f5eef6;\n",
       "            color:  #000000;\n",
       "        }    #T_e3181eb4_4ccb_11ea_abe8_0c5415364605row28_col29 {\n",
       "            background-color:  #efe9f3;\n",
       "            color:  #000000;\n",
       "        }    #T_e3181eb4_4ccb_11ea_abe8_0c5415364605row29_col0 {\n",
       "            background-color:  #fef6fb;\n",
       "            color:  #000000;\n",
       "        }    #T_e3181eb4_4ccb_11ea_abe8_0c5415364605row29_col1 {\n",
       "            background-color:  #f6eff7;\n",
       "            color:  #000000;\n",
       "        }    #T_e3181eb4_4ccb_11ea_abe8_0c5415364605row29_col2 {\n",
       "            background-color:  #fff7fb;\n",
       "            color:  #000000;\n",
       "        }    #T_e3181eb4_4ccb_11ea_abe8_0c5415364605row29_col3 {\n",
       "            background-color:  #fbf3f9;\n",
       "            color:  #000000;\n",
       "        }    #T_e3181eb4_4ccb_11ea_abe8_0c5415364605row29_col4 {\n",
       "            background-color:  #faf2f8;\n",
       "            color:  #000000;\n",
       "        }    #T_e3181eb4_4ccb_11ea_abe8_0c5415364605row29_col5 {\n",
       "            background-color:  #f6eff7;\n",
       "            color:  #000000;\n",
       "        }    #T_e3181eb4_4ccb_11ea_abe8_0c5415364605row29_col6 {\n",
       "            background-color:  #f5eef6;\n",
       "            color:  #000000;\n",
       "        }    #T_e3181eb4_4ccb_11ea_abe8_0c5415364605row29_col7 {\n",
       "            background-color:  #f6eff7;\n",
       "            color:  #000000;\n",
       "        }    #T_e3181eb4_4ccb_11ea_abe8_0c5415364605row29_col8 {\n",
       "            background-color:  #f8f1f8;\n",
       "            color:  #000000;\n",
       "        }    #T_e3181eb4_4ccb_11ea_abe8_0c5415364605row29_col9 {\n",
       "            background-color:  #ebe6f2;\n",
       "            color:  #000000;\n",
       "        }    #T_e3181eb4_4ccb_11ea_abe8_0c5415364605row29_col10 {\n",
       "            background-color:  #fdf5fa;\n",
       "            color:  #000000;\n",
       "        }    #T_e3181eb4_4ccb_11ea_abe8_0c5415364605row29_col11 {\n",
       "            background-color:  #f6eff7;\n",
       "            color:  #000000;\n",
       "        }    #T_e3181eb4_4ccb_11ea_abe8_0c5415364605row29_col12 {\n",
       "            background-color:  #f8f1f8;\n",
       "            color:  #000000;\n",
       "        }    #T_e3181eb4_4ccb_11ea_abe8_0c5415364605row29_col13 {\n",
       "            background-color:  #fcf4fa;\n",
       "            color:  #000000;\n",
       "        }    #T_e3181eb4_4ccb_11ea_abe8_0c5415364605row29_col14 {\n",
       "            background-color:  #fef6fa;\n",
       "            color:  #000000;\n",
       "        }    #T_e3181eb4_4ccb_11ea_abe8_0c5415364605row29_col15 {\n",
       "            background-color:  #faf2f8;\n",
       "            color:  #000000;\n",
       "        }    #T_e3181eb4_4ccb_11ea_abe8_0c5415364605row29_col16 {\n",
       "            background-color:  #fdf5fa;\n",
       "            color:  #000000;\n",
       "        }    #T_e3181eb4_4ccb_11ea_abe8_0c5415364605row29_col17 {\n",
       "            background-color:  #fdf5fa;\n",
       "            color:  #000000;\n",
       "        }    #T_e3181eb4_4ccb_11ea_abe8_0c5415364605row29_col18 {\n",
       "            background-color:  #ece7f2;\n",
       "            color:  #000000;\n",
       "        }    #T_e3181eb4_4ccb_11ea_abe8_0c5415364605row29_col19 {\n",
       "            background-color:  #ede8f3;\n",
       "            color:  #000000;\n",
       "        }    #T_e3181eb4_4ccb_11ea_abe8_0c5415364605row29_col20 {\n",
       "            background-color:  #f5eff6;\n",
       "            color:  #000000;\n",
       "        }    #T_e3181eb4_4ccb_11ea_abe8_0c5415364605row29_col21 {\n",
       "            background-color:  #f8f1f8;\n",
       "            color:  #000000;\n",
       "        }    #T_e3181eb4_4ccb_11ea_abe8_0c5415364605row29_col22 {\n",
       "            background-color:  #f4eef6;\n",
       "            color:  #000000;\n",
       "        }    #T_e3181eb4_4ccb_11ea_abe8_0c5415364605row29_col23 {\n",
       "            background-color:  #f6eff7;\n",
       "            color:  #000000;\n",
       "        }    #T_e3181eb4_4ccb_11ea_abe8_0c5415364605row29_col24 {\n",
       "            background-color:  #f6eff7;\n",
       "            color:  #000000;\n",
       "        }    #T_e3181eb4_4ccb_11ea_abe8_0c5415364605row29_col25 {\n",
       "            background-color:  #f8f1f8;\n",
       "            color:  #000000;\n",
       "        }    #T_e3181eb4_4ccb_11ea_abe8_0c5415364605row29_col26 {\n",
       "            background-color:  #f7f0f7;\n",
       "            color:  #000000;\n",
       "        }    #T_e3181eb4_4ccb_11ea_abe8_0c5415364605row29_col27 {\n",
       "            background-color:  #f9f2f8;\n",
       "            color:  #000000;\n",
       "        }    #T_e3181eb4_4ccb_11ea_abe8_0c5415364605row29_col28 {\n",
       "            background-color:  #f9f2f8;\n",
       "            color:  #000000;\n",
       "        }    #T_e3181eb4_4ccb_11ea_abe8_0c5415364605row29_col29 {\n",
       "            background-color:  #f9f2f8;\n",
       "            color:  #000000;\n",
       "        }    #T_e3181eb4_4ccb_11ea_abe8_0c5415364605row30_col0 {\n",
       "            background-color:  #f0eaf4;\n",
       "            color:  #000000;\n",
       "        }    #T_e3181eb4_4ccb_11ea_abe8_0c5415364605row30_col1 {\n",
       "            background-color:  #f6eff7;\n",
       "            color:  #000000;\n",
       "        }    #T_e3181eb4_4ccb_11ea_abe8_0c5415364605row30_col2 {\n",
       "            background-color:  #f4edf6;\n",
       "            color:  #000000;\n",
       "        }    #T_e3181eb4_4ccb_11ea_abe8_0c5415364605row30_col3 {\n",
       "            background-color:  #f4edf6;\n",
       "            color:  #000000;\n",
       "        }    #T_e3181eb4_4ccb_11ea_abe8_0c5415364605row30_col4 {\n",
       "            background-color:  #f1ebf5;\n",
       "            color:  #000000;\n",
       "        }    #T_e3181eb4_4ccb_11ea_abe8_0c5415364605row30_col5 {\n",
       "            background-color:  #f2ecf5;\n",
       "            color:  #000000;\n",
       "        }    #T_e3181eb4_4ccb_11ea_abe8_0c5415364605row30_col6 {\n",
       "            background-color:  #f1ebf5;\n",
       "            color:  #000000;\n",
       "        }    #T_e3181eb4_4ccb_11ea_abe8_0c5415364605row30_col7 {\n",
       "            background-color:  #5ea0ca;\n",
       "            color:  #000000;\n",
       "        }    #T_e3181eb4_4ccb_11ea_abe8_0c5415364605row30_col8 {\n",
       "            background-color:  #e0deed;\n",
       "            color:  #000000;\n",
       "        }    #T_e3181eb4_4ccb_11ea_abe8_0c5415364605row30_col9 {\n",
       "            background-color:  #faf2f8;\n",
       "            color:  #000000;\n",
       "        }    #T_e3181eb4_4ccb_11ea_abe8_0c5415364605row30_col10 {\n",
       "            background-color:  #e9e5f1;\n",
       "            color:  #000000;\n",
       "        }    #T_e3181eb4_4ccb_11ea_abe8_0c5415364605row30_col11 {\n",
       "            background-color:  #f8f1f8;\n",
       "            color:  #000000;\n",
       "        }    #T_e3181eb4_4ccb_11ea_abe8_0c5415364605row30_col12 {\n",
       "            background-color:  #f6eff7;\n",
       "            color:  #000000;\n",
       "        }    #T_e3181eb4_4ccb_11ea_abe8_0c5415364605row30_col13 {\n",
       "            background-color:  #fdf5fa;\n",
       "            color:  #000000;\n",
       "        }    #T_e3181eb4_4ccb_11ea_abe8_0c5415364605row30_col14 {\n",
       "            background-color:  #f2ecf5;\n",
       "            color:  #000000;\n",
       "        }    #T_e3181eb4_4ccb_11ea_abe8_0c5415364605row30_col15 {\n",
       "            background-color:  #f8f1f8;\n",
       "            color:  #000000;\n",
       "        }    #T_e3181eb4_4ccb_11ea_abe8_0c5415364605row30_col16 {\n",
       "            background-color:  #f5eff6;\n",
       "            color:  #000000;\n",
       "        }    #T_e3181eb4_4ccb_11ea_abe8_0c5415364605row30_col17 {\n",
       "            background-color:  #ede8f3;\n",
       "            color:  #000000;\n",
       "        }    #T_e3181eb4_4ccb_11ea_abe8_0c5415364605row30_col18 {\n",
       "            background-color:  #ebe6f2;\n",
       "            color:  #000000;\n",
       "        }    #T_e3181eb4_4ccb_11ea_abe8_0c5415364605row30_col19 {\n",
       "            background-color:  #f5eff6;\n",
       "            color:  #000000;\n",
       "        }    #T_e3181eb4_4ccb_11ea_abe8_0c5415364605row30_col20 {\n",
       "            background-color:  #efe9f3;\n",
       "            color:  #000000;\n",
       "        }    #T_e3181eb4_4ccb_11ea_abe8_0c5415364605row30_col21 {\n",
       "            background-color:  #f0eaf4;\n",
       "            color:  #000000;\n",
       "        }    #T_e3181eb4_4ccb_11ea_abe8_0c5415364605row30_col22 {\n",
       "            background-color:  #efe9f3;\n",
       "            color:  #000000;\n",
       "        }    #T_e3181eb4_4ccb_11ea_abe8_0c5415364605row30_col23 {\n",
       "            background-color:  #efe9f3;\n",
       "            color:  #000000;\n",
       "        }    #T_e3181eb4_4ccb_11ea_abe8_0c5415364605row30_col24 {\n",
       "            background-color:  #efe9f3;\n",
       "            color:  #000000;\n",
       "        }    #T_e3181eb4_4ccb_11ea_abe8_0c5415364605row30_col25 {\n",
       "            background-color:  #f1ebf5;\n",
       "            color:  #000000;\n",
       "        }    #T_e3181eb4_4ccb_11ea_abe8_0c5415364605row30_col26 {\n",
       "            background-color:  #efe9f3;\n",
       "            color:  #000000;\n",
       "        }    #T_e3181eb4_4ccb_11ea_abe8_0c5415364605row30_col27 {\n",
       "            background-color:  #ebe6f2;\n",
       "            color:  #000000;\n",
       "        }    #T_e3181eb4_4ccb_11ea_abe8_0c5415364605row30_col28 {\n",
       "            background-color:  #f7f0f7;\n",
       "            color:  #000000;\n",
       "        }    #T_e3181eb4_4ccb_11ea_abe8_0c5415364605row30_col29 {\n",
       "            background-color:  #e8e4f0;\n",
       "            color:  #000000;\n",
       "        }    #T_e3181eb4_4ccb_11ea_abe8_0c5415364605row31_col0 {\n",
       "            background-color:  #fdf5fa;\n",
       "            color:  #000000;\n",
       "        }    #T_e3181eb4_4ccb_11ea_abe8_0c5415364605row31_col1 {\n",
       "            background-color:  #f6eff7;\n",
       "            color:  #000000;\n",
       "        }    #T_e3181eb4_4ccb_11ea_abe8_0c5415364605row31_col2 {\n",
       "            background-color:  #f9f2f8;\n",
       "            color:  #000000;\n",
       "        }    #T_e3181eb4_4ccb_11ea_abe8_0c5415364605row31_col3 {\n",
       "            background-color:  #f7f0f7;\n",
       "            color:  #000000;\n",
       "        }    #T_e3181eb4_4ccb_11ea_abe8_0c5415364605row31_col4 {\n",
       "            background-color:  #f8f1f8;\n",
       "            color:  #000000;\n",
       "        }    #T_e3181eb4_4ccb_11ea_abe8_0c5415364605row31_col5 {\n",
       "            background-color:  #f7f0f7;\n",
       "            color:  #000000;\n",
       "        }    #T_e3181eb4_4ccb_11ea_abe8_0c5415364605row31_col6 {\n",
       "            background-color:  #ebe6f2;\n",
       "            color:  #000000;\n",
       "        }    #T_e3181eb4_4ccb_11ea_abe8_0c5415364605row31_col7 {\n",
       "            background-color:  #fbf3f9;\n",
       "            color:  #000000;\n",
       "        }    #T_e3181eb4_4ccb_11ea_abe8_0c5415364605row31_col8 {\n",
       "            background-color:  #f8f1f8;\n",
       "            color:  #000000;\n",
       "        }    #T_e3181eb4_4ccb_11ea_abe8_0c5415364605row31_col9 {\n",
       "            background-color:  #fbf4f9;\n",
       "            color:  #000000;\n",
       "        }    #T_e3181eb4_4ccb_11ea_abe8_0c5415364605row31_col10 {\n",
       "            background-color:  #f1ebf5;\n",
       "            color:  #000000;\n",
       "        }    #T_e3181eb4_4ccb_11ea_abe8_0c5415364605row31_col11 {\n",
       "            background-color:  #f6eff7;\n",
       "            color:  #000000;\n",
       "        }    #T_e3181eb4_4ccb_11ea_abe8_0c5415364605row31_col12 {\n",
       "            background-color:  #f8f1f8;\n",
       "            color:  #000000;\n",
       "        }    #T_e3181eb4_4ccb_11ea_abe8_0c5415364605row31_col13 {\n",
       "            background-color:  #fdf5fa;\n",
       "            color:  #000000;\n",
       "        }    #T_e3181eb4_4ccb_11ea_abe8_0c5415364605row31_col14 {\n",
       "            background-color:  #f8f1f8;\n",
       "            color:  #000000;\n",
       "        }    #T_e3181eb4_4ccb_11ea_abe8_0c5415364605row31_col15 {\n",
       "            background-color:  #f5eef6;\n",
       "            color:  #000000;\n",
       "        }    #T_e3181eb4_4ccb_11ea_abe8_0c5415364605row31_col16 {\n",
       "            background-color:  #f0eaf4;\n",
       "            color:  #000000;\n",
       "        }    #T_e3181eb4_4ccb_11ea_abe8_0c5415364605row31_col17 {\n",
       "            background-color:  #f1ebf4;\n",
       "            color:  #000000;\n",
       "        }    #T_e3181eb4_4ccb_11ea_abe8_0c5415364605row31_col18 {\n",
       "            background-color:  #f1ebf5;\n",
       "            color:  #000000;\n",
       "        }    #T_e3181eb4_4ccb_11ea_abe8_0c5415364605row31_col19 {\n",
       "            background-color:  #f8f1f8;\n",
       "            color:  #000000;\n",
       "        }    #T_e3181eb4_4ccb_11ea_abe8_0c5415364605row31_col20 {\n",
       "            background-color:  #f8f1f8;\n",
       "            color:  #000000;\n",
       "        }    #T_e3181eb4_4ccb_11ea_abe8_0c5415364605row31_col21 {\n",
       "            background-color:  #f9f2f8;\n",
       "            color:  #000000;\n",
       "        }    #T_e3181eb4_4ccb_11ea_abe8_0c5415364605row31_col22 {\n",
       "            background-color:  #f9f2f8;\n",
       "            color:  #000000;\n",
       "        }    #T_e3181eb4_4ccb_11ea_abe8_0c5415364605row31_col23 {\n",
       "            background-color:  #f9f2f8;\n",
       "            color:  #000000;\n",
       "        }    #T_e3181eb4_4ccb_11ea_abe8_0c5415364605row31_col24 {\n",
       "            background-color:  #f7f0f7;\n",
       "            color:  #000000;\n",
       "        }    #T_e3181eb4_4ccb_11ea_abe8_0c5415364605row31_col25 {\n",
       "            background-color:  #f7f0f7;\n",
       "            color:  #000000;\n",
       "        }    #T_e3181eb4_4ccb_11ea_abe8_0c5415364605row31_col26 {\n",
       "            background-color:  #f5eff6;\n",
       "            color:  #000000;\n",
       "        }    #T_e3181eb4_4ccb_11ea_abe8_0c5415364605row31_col27 {\n",
       "            background-color:  #f8f1f8;\n",
       "            color:  #000000;\n",
       "        }    #T_e3181eb4_4ccb_11ea_abe8_0c5415364605row31_col28 {\n",
       "            background-color:  #f7f0f7;\n",
       "            color:  #000000;\n",
       "        }    #T_e3181eb4_4ccb_11ea_abe8_0c5415364605row31_col29 {\n",
       "            background-color:  #f7f0f7;\n",
       "            color:  #000000;\n",
       "        }    #T_e3181eb4_4ccb_11ea_abe8_0c5415364605row32_col0 {\n",
       "            background-color:  #fef6fa;\n",
       "            color:  #000000;\n",
       "        }    #T_e3181eb4_4ccb_11ea_abe8_0c5415364605row32_col1 {\n",
       "            background-color:  #f7f0f7;\n",
       "            color:  #000000;\n",
       "        }    #T_e3181eb4_4ccb_11ea_abe8_0c5415364605row32_col2 {\n",
       "            background-color:  #f3edf5;\n",
       "            color:  #000000;\n",
       "        }    #T_e3181eb4_4ccb_11ea_abe8_0c5415364605row32_col3 {\n",
       "            background-color:  #e9e5f1;\n",
       "            color:  #000000;\n",
       "        }    #T_e3181eb4_4ccb_11ea_abe8_0c5415364605row32_col4 {\n",
       "            background-color:  #ede8f3;\n",
       "            color:  #000000;\n",
       "        }    #T_e3181eb4_4ccb_11ea_abe8_0c5415364605row32_col5 {\n",
       "            background-color:  #ede8f3;\n",
       "            color:  #000000;\n",
       "        }    #T_e3181eb4_4ccb_11ea_abe8_0c5415364605row32_col6 {\n",
       "            background-color:  #e7e3f0;\n",
       "            color:  #000000;\n",
       "        }    #T_e3181eb4_4ccb_11ea_abe8_0c5415364605row32_col7 {\n",
       "            background-color:  #acc0dd;\n",
       "            color:  #000000;\n",
       "        }    #T_e3181eb4_4ccb_11ea_abe8_0c5415364605row32_col8 {\n",
       "            background-color:  #f8f1f8;\n",
       "            color:  #000000;\n",
       "        }    #T_e3181eb4_4ccb_11ea_abe8_0c5415364605row32_col9 {\n",
       "            background-color:  #f8f1f8;\n",
       "            color:  #000000;\n",
       "        }    #T_e3181eb4_4ccb_11ea_abe8_0c5415364605row32_col10 {\n",
       "            background-color:  #e7e3f0;\n",
       "            color:  #000000;\n",
       "        }    #T_e3181eb4_4ccb_11ea_abe8_0c5415364605row32_col11 {\n",
       "            background-color:  #f8f1f8;\n",
       "            color:  #000000;\n",
       "        }    #T_e3181eb4_4ccb_11ea_abe8_0c5415364605row32_col12 {\n",
       "            background-color:  #f8f1f8;\n",
       "            color:  #000000;\n",
       "        }    #T_e3181eb4_4ccb_11ea_abe8_0c5415364605row32_col13 {\n",
       "            background-color:  #fdf5fa;\n",
       "            color:  #000000;\n",
       "        }    #T_e3181eb4_4ccb_11ea_abe8_0c5415364605row32_col14 {\n",
       "            background-color:  #f7f0f7;\n",
       "            color:  #000000;\n",
       "        }    #T_e3181eb4_4ccb_11ea_abe8_0c5415364605row32_col15 {\n",
       "            background-color:  #f7f0f7;\n",
       "            color:  #000000;\n",
       "        }    #T_e3181eb4_4ccb_11ea_abe8_0c5415364605row32_col16 {\n",
       "            background-color:  #f8f1f8;\n",
       "            color:  #000000;\n",
       "        }    #T_e3181eb4_4ccb_11ea_abe8_0c5415364605row32_col17 {\n",
       "            background-color:  #f7f0f7;\n",
       "            color:  #000000;\n",
       "        }    #T_e3181eb4_4ccb_11ea_abe8_0c5415364605row32_col18 {\n",
       "            background-color:  #f7f0f7;\n",
       "            color:  #000000;\n",
       "        }    #T_e3181eb4_4ccb_11ea_abe8_0c5415364605row32_col19 {\n",
       "            background-color:  #f8f1f8;\n",
       "            color:  #000000;\n",
       "        }    #T_e3181eb4_4ccb_11ea_abe8_0c5415364605row32_col20 {\n",
       "            background-color:  #faf3f9;\n",
       "            color:  #000000;\n",
       "        }    #T_e3181eb4_4ccb_11ea_abe8_0c5415364605row32_col21 {\n",
       "            background-color:  #f8f1f8;\n",
       "            color:  #000000;\n",
       "        }    #T_e3181eb4_4ccb_11ea_abe8_0c5415364605row32_col22 {\n",
       "            background-color:  #f8f1f8;\n",
       "            color:  #000000;\n",
       "        }    #T_e3181eb4_4ccb_11ea_abe8_0c5415364605row32_col23 {\n",
       "            background-color:  #f7f0f7;\n",
       "            color:  #000000;\n",
       "        }    #T_e3181eb4_4ccb_11ea_abe8_0c5415364605row32_col24 {\n",
       "            background-color:  #f6eff7;\n",
       "            color:  #000000;\n",
       "        }    #T_e3181eb4_4ccb_11ea_abe8_0c5415364605row32_col25 {\n",
       "            background-color:  #f7f0f7;\n",
       "            color:  #000000;\n",
       "        }    #T_e3181eb4_4ccb_11ea_abe8_0c5415364605row32_col26 {\n",
       "            background-color:  #f6eff7;\n",
       "            color:  #000000;\n",
       "        }    #T_e3181eb4_4ccb_11ea_abe8_0c5415364605row32_col27 {\n",
       "            background-color:  #f7f0f7;\n",
       "            color:  #000000;\n",
       "        }    #T_e3181eb4_4ccb_11ea_abe8_0c5415364605row32_col28 {\n",
       "            background-color:  #f7f0f7;\n",
       "            color:  #000000;\n",
       "        }    #T_e3181eb4_4ccb_11ea_abe8_0c5415364605row32_col29 {\n",
       "            background-color:  #f9f2f8;\n",
       "            color:  #000000;\n",
       "        }    #T_e3181eb4_4ccb_11ea_abe8_0c5415364605row33_col0 {\n",
       "            background-color:  #faf3f9;\n",
       "            color:  #000000;\n",
       "        }    #T_e3181eb4_4ccb_11ea_abe8_0c5415364605row33_col1 {\n",
       "            background-color:  #f8f1f8;\n",
       "            color:  #000000;\n",
       "        }    #T_e3181eb4_4ccb_11ea_abe8_0c5415364605row33_col2 {\n",
       "            background-color:  #f5eef6;\n",
       "            color:  #000000;\n",
       "        }    #T_e3181eb4_4ccb_11ea_abe8_0c5415364605row33_col3 {\n",
       "            background-color:  #fff7fb;\n",
       "            color:  #000000;\n",
       "        }    #T_e3181eb4_4ccb_11ea_abe8_0c5415364605row33_col4 {\n",
       "            background-color:  #f4edf6;\n",
       "            color:  #000000;\n",
       "        }    #T_e3181eb4_4ccb_11ea_abe8_0c5415364605row33_col5 {\n",
       "            background-color:  #faf3f9;\n",
       "            color:  #000000;\n",
       "        }    #T_e3181eb4_4ccb_11ea_abe8_0c5415364605row33_col6 {\n",
       "            background-color:  #e7e3f0;\n",
       "            color:  #000000;\n",
       "        }    #T_e3181eb4_4ccb_11ea_abe8_0c5415364605row33_col7 {\n",
       "            background-color:  #93b5d6;\n",
       "            color:  #000000;\n",
       "        }    #T_e3181eb4_4ccb_11ea_abe8_0c5415364605row33_col8 {\n",
       "            background-color:  #fff7fb;\n",
       "            color:  #000000;\n",
       "        }    #T_e3181eb4_4ccb_11ea_abe8_0c5415364605row33_col9 {\n",
       "            background-color:  #fff7fb;\n",
       "            color:  #000000;\n",
       "        }    #T_e3181eb4_4ccb_11ea_abe8_0c5415364605row33_col10 {\n",
       "            background-color:  #fef6fb;\n",
       "            color:  #000000;\n",
       "        }    #T_e3181eb4_4ccb_11ea_abe8_0c5415364605row33_col11 {\n",
       "            background-color:  #fff7fb;\n",
       "            color:  #000000;\n",
       "        }    #T_e3181eb4_4ccb_11ea_abe8_0c5415364605row33_col12 {\n",
       "            background-color:  #fef6fb;\n",
       "            color:  #000000;\n",
       "        }    #T_e3181eb4_4ccb_11ea_abe8_0c5415364605row33_col13 {\n",
       "            background-color:  #fff7fb;\n",
       "            color:  #000000;\n",
       "        }    #T_e3181eb4_4ccb_11ea_abe8_0c5415364605row33_col14 {\n",
       "            background-color:  #fef6fb;\n",
       "            color:  #000000;\n",
       "        }    #T_e3181eb4_4ccb_11ea_abe8_0c5415364605row33_col15 {\n",
       "            background-color:  #fef6fa;\n",
       "            color:  #000000;\n",
       "        }    #T_e3181eb4_4ccb_11ea_abe8_0c5415364605row33_col16 {\n",
       "            background-color:  #fff7fb;\n",
       "            color:  #000000;\n",
       "        }    #T_e3181eb4_4ccb_11ea_abe8_0c5415364605row33_col17 {\n",
       "            background-color:  #fff7fb;\n",
       "            color:  #000000;\n",
       "        }    #T_e3181eb4_4ccb_11ea_abe8_0c5415364605row33_col18 {\n",
       "            background-color:  #fef6fb;\n",
       "            color:  #000000;\n",
       "        }    #T_e3181eb4_4ccb_11ea_abe8_0c5415364605row33_col19 {\n",
       "            background-color:  #fff7fb;\n",
       "            color:  #000000;\n",
       "        }    #T_e3181eb4_4ccb_11ea_abe8_0c5415364605row33_col20 {\n",
       "            background-color:  #fef6fa;\n",
       "            color:  #000000;\n",
       "        }    #T_e3181eb4_4ccb_11ea_abe8_0c5415364605row33_col21 {\n",
       "            background-color:  #fff7fb;\n",
       "            color:  #000000;\n",
       "        }    #T_e3181eb4_4ccb_11ea_abe8_0c5415364605row33_col22 {\n",
       "            background-color:  #fff7fb;\n",
       "            color:  #000000;\n",
       "        }    #T_e3181eb4_4ccb_11ea_abe8_0c5415364605row33_col23 {\n",
       "            background-color:  #fff7fb;\n",
       "            color:  #000000;\n",
       "        }    #T_e3181eb4_4ccb_11ea_abe8_0c5415364605row33_col24 {\n",
       "            background-color:  #fff7fb;\n",
       "            color:  #000000;\n",
       "        }    #T_e3181eb4_4ccb_11ea_abe8_0c5415364605row33_col25 {\n",
       "            background-color:  #fff7fb;\n",
       "            color:  #000000;\n",
       "        }    #T_e3181eb4_4ccb_11ea_abe8_0c5415364605row33_col26 {\n",
       "            background-color:  #fff7fb;\n",
       "            color:  #000000;\n",
       "        }    #T_e3181eb4_4ccb_11ea_abe8_0c5415364605row33_col27 {\n",
       "            background-color:  #fff7fb;\n",
       "            color:  #000000;\n",
       "        }    #T_e3181eb4_4ccb_11ea_abe8_0c5415364605row33_col28 {\n",
       "            background-color:  #fff7fb;\n",
       "            color:  #000000;\n",
       "        }    #T_e3181eb4_4ccb_11ea_abe8_0c5415364605row33_col29 {\n",
       "            background-color:  #ede8f3;\n",
       "            color:  #000000;\n",
       "        }    #T_e3181eb4_4ccb_11ea_abe8_0c5415364605row34_col0 {\n",
       "            background-color:  #fef6fb;\n",
       "            color:  #000000;\n",
       "        }    #T_e3181eb4_4ccb_11ea_abe8_0c5415364605row34_col1 {\n",
       "            background-color:  #f8f1f8;\n",
       "            color:  #000000;\n",
       "        }    #T_e3181eb4_4ccb_11ea_abe8_0c5415364605row34_col2 {\n",
       "            background-color:  #fbf4f9;\n",
       "            color:  #000000;\n",
       "        }    #T_e3181eb4_4ccb_11ea_abe8_0c5415364605row34_col3 {\n",
       "            background-color:  #fcf4fa;\n",
       "            color:  #000000;\n",
       "        }    #T_e3181eb4_4ccb_11ea_abe8_0c5415364605row34_col4 {\n",
       "            background-color:  #faf2f8;\n",
       "            color:  #000000;\n",
       "        }    #T_e3181eb4_4ccb_11ea_abe8_0c5415364605row34_col5 {\n",
       "            background-color:  #fbf4f9;\n",
       "            color:  #000000;\n",
       "        }    #T_e3181eb4_4ccb_11ea_abe8_0c5415364605row34_col6 {\n",
       "            background-color:  #e8e4f0;\n",
       "            color:  #000000;\n",
       "        }    #T_e3181eb4_4ccb_11ea_abe8_0c5415364605row34_col7 {\n",
       "            background-color:  #f5eff6;\n",
       "            color:  #000000;\n",
       "        }    #T_e3181eb4_4ccb_11ea_abe8_0c5415364605row34_col8 {\n",
       "            background-color:  #efe9f3;\n",
       "            color:  #000000;\n",
       "        }    #T_e3181eb4_4ccb_11ea_abe8_0c5415364605row34_col9 {\n",
       "            background-color:  #fcf4fa;\n",
       "            color:  #000000;\n",
       "        }    #T_e3181eb4_4ccb_11ea_abe8_0c5415364605row34_col10 {\n",
       "            background-color:  #ede8f3;\n",
       "            color:  #000000;\n",
       "        }    #T_e3181eb4_4ccb_11ea_abe8_0c5415364605row34_col11 {\n",
       "            background-color:  #fcf4fa;\n",
       "            color:  #000000;\n",
       "        }    #T_e3181eb4_4ccb_11ea_abe8_0c5415364605row34_col12 {\n",
       "            background-color:  #fbf3f9;\n",
       "            color:  #000000;\n",
       "        }    #T_e3181eb4_4ccb_11ea_abe8_0c5415364605row34_col13 {\n",
       "            background-color:  #fef6fb;\n",
       "            color:  #000000;\n",
       "        }    #T_e3181eb4_4ccb_11ea_abe8_0c5415364605row34_col14 {\n",
       "            background-color:  #f9f2f8;\n",
       "            color:  #000000;\n",
       "        }    #T_e3181eb4_4ccb_11ea_abe8_0c5415364605row34_col15 {\n",
       "            background-color:  #faf2f8;\n",
       "            color:  #000000;\n",
       "        }    #T_e3181eb4_4ccb_11ea_abe8_0c5415364605row34_col16 {\n",
       "            background-color:  #f7f0f7;\n",
       "            color:  #000000;\n",
       "        }    #T_e3181eb4_4ccb_11ea_abe8_0c5415364605row34_col17 {\n",
       "            background-color:  #f7f0f7;\n",
       "            color:  #000000;\n",
       "        }    #T_e3181eb4_4ccb_11ea_abe8_0c5415364605row34_col18 {\n",
       "            background-color:  #f9f2f8;\n",
       "            color:  #000000;\n",
       "        }    #T_e3181eb4_4ccb_11ea_abe8_0c5415364605row34_col19 {\n",
       "            background-color:  #f7f0f7;\n",
       "            color:  #000000;\n",
       "        }    #T_e3181eb4_4ccb_11ea_abe8_0c5415364605row34_col20 {\n",
       "            background-color:  #faf3f9;\n",
       "            color:  #000000;\n",
       "        }    #T_e3181eb4_4ccb_11ea_abe8_0c5415364605row34_col21 {\n",
       "            background-color:  #f8f1f8;\n",
       "            color:  #000000;\n",
       "        }    #T_e3181eb4_4ccb_11ea_abe8_0c5415364605row34_col22 {\n",
       "            background-color:  #f8f1f8;\n",
       "            color:  #000000;\n",
       "        }    #T_e3181eb4_4ccb_11ea_abe8_0c5415364605row34_col23 {\n",
       "            background-color:  #f7f0f7;\n",
       "            color:  #000000;\n",
       "        }    #T_e3181eb4_4ccb_11ea_abe8_0c5415364605row34_col24 {\n",
       "            background-color:  #f7f0f7;\n",
       "            color:  #000000;\n",
       "        }    #T_e3181eb4_4ccb_11ea_abe8_0c5415364605row34_col25 {\n",
       "            background-color:  #f6eff7;\n",
       "            color:  #000000;\n",
       "        }    #T_e3181eb4_4ccb_11ea_abe8_0c5415364605row34_col26 {\n",
       "            background-color:  #f5eff6;\n",
       "            color:  #000000;\n",
       "        }    #T_e3181eb4_4ccb_11ea_abe8_0c5415364605row34_col27 {\n",
       "            background-color:  #f1ebf5;\n",
       "            color:  #000000;\n",
       "        }    #T_e3181eb4_4ccb_11ea_abe8_0c5415364605row34_col28 {\n",
       "            background-color:  #eae6f1;\n",
       "            color:  #000000;\n",
       "        }    #T_e3181eb4_4ccb_11ea_abe8_0c5415364605row34_col29 {\n",
       "            background-color:  #efe9f3;\n",
       "            color:  #000000;\n",
       "        }    #T_e3181eb4_4ccb_11ea_abe8_0c5415364605row35_col0 {\n",
       "            background-color:  #fff7fb;\n",
       "            color:  #000000;\n",
       "        }    #T_e3181eb4_4ccb_11ea_abe8_0c5415364605row35_col1 {\n",
       "            background-color:  #faf2f8;\n",
       "            color:  #000000;\n",
       "        }    #T_e3181eb4_4ccb_11ea_abe8_0c5415364605row35_col2 {\n",
       "            background-color:  #f8f1f8;\n",
       "            color:  #000000;\n",
       "        }    #T_e3181eb4_4ccb_11ea_abe8_0c5415364605row35_col3 {\n",
       "            background-color:  #f1ebf5;\n",
       "            color:  #000000;\n",
       "        }    #T_e3181eb4_4ccb_11ea_abe8_0c5415364605row35_col4 {\n",
       "            background-color:  #f2ecf5;\n",
       "            color:  #000000;\n",
       "        }    #T_e3181eb4_4ccb_11ea_abe8_0c5415364605row35_col5 {\n",
       "            background-color:  #f4edf6;\n",
       "            color:  #000000;\n",
       "        }    #T_e3181eb4_4ccb_11ea_abe8_0c5415364605row35_col6 {\n",
       "            background-color:  #f2ecf5;\n",
       "            color:  #000000;\n",
       "        }    #T_e3181eb4_4ccb_11ea_abe8_0c5415364605row35_col7 {\n",
       "            background-color:  #f7f0f7;\n",
       "            color:  #000000;\n",
       "        }    #T_e3181eb4_4ccb_11ea_abe8_0c5415364605row35_col8 {\n",
       "            background-color:  #f7f0f7;\n",
       "            color:  #000000;\n",
       "        }    #T_e3181eb4_4ccb_11ea_abe8_0c5415364605row35_col9 {\n",
       "            background-color:  #f8f1f8;\n",
       "            color:  #000000;\n",
       "        }    #T_e3181eb4_4ccb_11ea_abe8_0c5415364605row35_col10 {\n",
       "            background-color:  #f5eff6;\n",
       "            color:  #000000;\n",
       "        }    #T_e3181eb4_4ccb_11ea_abe8_0c5415364605row35_col11 {\n",
       "            background-color:  #faf2f8;\n",
       "            color:  #000000;\n",
       "        }    #T_e3181eb4_4ccb_11ea_abe8_0c5415364605row35_col12 {\n",
       "            background-color:  #faf3f9;\n",
       "            color:  #000000;\n",
       "        }    #T_e3181eb4_4ccb_11ea_abe8_0c5415364605row35_col13 {\n",
       "            background-color:  #fdf5fa;\n",
       "            color:  #000000;\n",
       "        }    #T_e3181eb4_4ccb_11ea_abe8_0c5415364605row35_col14 {\n",
       "            background-color:  #f8f1f8;\n",
       "            color:  #000000;\n",
       "        }    #T_e3181eb4_4ccb_11ea_abe8_0c5415364605row35_col15 {\n",
       "            background-color:  #f2ecf5;\n",
       "            color:  #000000;\n",
       "        }    #T_e3181eb4_4ccb_11ea_abe8_0c5415364605row35_col16 {\n",
       "            background-color:  #f5eff6;\n",
       "            color:  #000000;\n",
       "        }    #T_e3181eb4_4ccb_11ea_abe8_0c5415364605row35_col17 {\n",
       "            background-color:  #f4eef6;\n",
       "            color:  #000000;\n",
       "        }    #T_e3181eb4_4ccb_11ea_abe8_0c5415364605row35_col18 {\n",
       "            background-color:  #f3edf5;\n",
       "            color:  #000000;\n",
       "        }    #T_e3181eb4_4ccb_11ea_abe8_0c5415364605row35_col19 {\n",
       "            background-color:  #f8f1f8;\n",
       "            color:  #000000;\n",
       "        }    #T_e3181eb4_4ccb_11ea_abe8_0c5415364605row35_col20 {\n",
       "            background-color:  #f8f1f8;\n",
       "            color:  #000000;\n",
       "        }    #T_e3181eb4_4ccb_11ea_abe8_0c5415364605row35_col21 {\n",
       "            background-color:  #f8f1f8;\n",
       "            color:  #000000;\n",
       "        }    #T_e3181eb4_4ccb_11ea_abe8_0c5415364605row35_col22 {\n",
       "            background-color:  #f8f1f8;\n",
       "            color:  #000000;\n",
       "        }    #T_e3181eb4_4ccb_11ea_abe8_0c5415364605row35_col23 {\n",
       "            background-color:  #f9f2f8;\n",
       "            color:  #000000;\n",
       "        }    #T_e3181eb4_4ccb_11ea_abe8_0c5415364605row35_col24 {\n",
       "            background-color:  #f8f1f8;\n",
       "            color:  #000000;\n",
       "        }    #T_e3181eb4_4ccb_11ea_abe8_0c5415364605row35_col25 {\n",
       "            background-color:  #f8f1f8;\n",
       "            color:  #000000;\n",
       "        }    #T_e3181eb4_4ccb_11ea_abe8_0c5415364605row35_col26 {\n",
       "            background-color:  #f8f1f8;\n",
       "            color:  #000000;\n",
       "        }    #T_e3181eb4_4ccb_11ea_abe8_0c5415364605row35_col27 {\n",
       "            background-color:  #f8f1f8;\n",
       "            color:  #000000;\n",
       "        }    #T_e3181eb4_4ccb_11ea_abe8_0c5415364605row35_col28 {\n",
       "            background-color:  #f6eff7;\n",
       "            color:  #000000;\n",
       "        }    #T_e3181eb4_4ccb_11ea_abe8_0c5415364605row35_col29 {\n",
       "            background-color:  #f4eef6;\n",
       "            color:  #000000;\n",
       "        }    #T_e3181eb4_4ccb_11ea_abe8_0c5415364605row36_col0 {\n",
       "            background-color:  #fff7fb;\n",
       "            color:  #000000;\n",
       "        }    #T_e3181eb4_4ccb_11ea_abe8_0c5415364605row36_col1 {\n",
       "            background-color:  #fbf4f9;\n",
       "            color:  #000000;\n",
       "        }    #T_e3181eb4_4ccb_11ea_abe8_0c5415364605row36_col2 {\n",
       "            background-color:  #fbf3f9;\n",
       "            color:  #000000;\n",
       "        }    #T_e3181eb4_4ccb_11ea_abe8_0c5415364605row36_col3 {\n",
       "            background-color:  #f0eaf4;\n",
       "            color:  #000000;\n",
       "        }    #T_e3181eb4_4ccb_11ea_abe8_0c5415364605row36_col4 {\n",
       "            background-color:  #f1ebf5;\n",
       "            color:  #000000;\n",
       "        }    #T_e3181eb4_4ccb_11ea_abe8_0c5415364605row36_col5 {\n",
       "            background-color:  #f3edf5;\n",
       "            color:  #000000;\n",
       "        }    #T_e3181eb4_4ccb_11ea_abe8_0c5415364605row36_col6 {\n",
       "            background-color:  #f7f0f7;\n",
       "            color:  #000000;\n",
       "        }    #T_e3181eb4_4ccb_11ea_abe8_0c5415364605row36_col7 {\n",
       "            background-color:  #fcf4fa;\n",
       "            color:  #000000;\n",
       "        }    #T_e3181eb4_4ccb_11ea_abe8_0c5415364605row36_col8 {\n",
       "            background-color:  #fff7fb;\n",
       "            color:  #000000;\n",
       "        }    #T_e3181eb4_4ccb_11ea_abe8_0c5415364605row36_col9 {\n",
       "            background-color:  #fff7fb;\n",
       "            color:  #000000;\n",
       "        }    #T_e3181eb4_4ccb_11ea_abe8_0c5415364605row36_col10 {\n",
       "            background-color:  #f2ecf5;\n",
       "            color:  #000000;\n",
       "        }    #T_e3181eb4_4ccb_11ea_abe8_0c5415364605row36_col11 {\n",
       "            background-color:  #fdf5fa;\n",
       "            color:  #000000;\n",
       "        }    #T_e3181eb4_4ccb_11ea_abe8_0c5415364605row36_col12 {\n",
       "            background-color:  #fdf5fa;\n",
       "            color:  #000000;\n",
       "        }    #T_e3181eb4_4ccb_11ea_abe8_0c5415364605row36_col13 {\n",
       "            background-color:  #fff7fb;\n",
       "            color:  #000000;\n",
       "        }    #T_e3181eb4_4ccb_11ea_abe8_0c5415364605row36_col14 {\n",
       "            background-color:  #fcf4fa;\n",
       "            color:  #000000;\n",
       "        }    #T_e3181eb4_4ccb_11ea_abe8_0c5415364605row36_col15 {\n",
       "            background-color:  #f5eff6;\n",
       "            color:  #000000;\n",
       "        }    #T_e3181eb4_4ccb_11ea_abe8_0c5415364605row36_col16 {\n",
       "            background-color:  #f9f2f8;\n",
       "            color:  #000000;\n",
       "        }    #T_e3181eb4_4ccb_11ea_abe8_0c5415364605row36_col17 {\n",
       "            background-color:  #f8f1f8;\n",
       "            color:  #000000;\n",
       "        }    #T_e3181eb4_4ccb_11ea_abe8_0c5415364605row36_col18 {\n",
       "            background-color:  #fff7fb;\n",
       "            color:  #000000;\n",
       "        }    #T_e3181eb4_4ccb_11ea_abe8_0c5415364605row36_col19 {\n",
       "            background-color:  #faf3f9;\n",
       "            color:  #000000;\n",
       "        }    #T_e3181eb4_4ccb_11ea_abe8_0c5415364605row36_col20 {\n",
       "            background-color:  #fef6fb;\n",
       "            color:  #000000;\n",
       "        }    #T_e3181eb4_4ccb_11ea_abe8_0c5415364605row36_col21 {\n",
       "            background-color:  #fcf4fa;\n",
       "            color:  #000000;\n",
       "        }    #T_e3181eb4_4ccb_11ea_abe8_0c5415364605row36_col22 {\n",
       "            background-color:  #fcf4fa;\n",
       "            color:  #000000;\n",
       "        }    #T_e3181eb4_4ccb_11ea_abe8_0c5415364605row36_col23 {\n",
       "            background-color:  #fcf4fa;\n",
       "            color:  #000000;\n",
       "        }    #T_e3181eb4_4ccb_11ea_abe8_0c5415364605row36_col24 {\n",
       "            background-color:  #fbf3f9;\n",
       "            color:  #000000;\n",
       "        }    #T_e3181eb4_4ccb_11ea_abe8_0c5415364605row36_col25 {\n",
       "            background-color:  #faf3f9;\n",
       "            color:  #000000;\n",
       "        }    #T_e3181eb4_4ccb_11ea_abe8_0c5415364605row36_col26 {\n",
       "            background-color:  #faf3f9;\n",
       "            color:  #000000;\n",
       "        }    #T_e3181eb4_4ccb_11ea_abe8_0c5415364605row36_col27 {\n",
       "            background-color:  #faf2f8;\n",
       "            color:  #000000;\n",
       "        }    #T_e3181eb4_4ccb_11ea_abe8_0c5415364605row36_col28 {\n",
       "            background-color:  #faf3f9;\n",
       "            color:  #000000;\n",
       "        }    #T_e3181eb4_4ccb_11ea_abe8_0c5415364605row36_col29 {\n",
       "            background-color:  #f7f0f7;\n",
       "            color:  #000000;\n",
       "        }    #T_e3181eb4_4ccb_11ea_abe8_0c5415364605row37_col0 {\n",
       "            background-color:  #fef6fb;\n",
       "            color:  #000000;\n",
       "        }    #T_e3181eb4_4ccb_11ea_abe8_0c5415364605row37_col1 {\n",
       "            background-color:  #fbf4f9;\n",
       "            color:  #000000;\n",
       "        }    #T_e3181eb4_4ccb_11ea_abe8_0c5415364605row37_col2 {\n",
       "            background-color:  #f8f1f8;\n",
       "            color:  #000000;\n",
       "        }    #T_e3181eb4_4ccb_11ea_abe8_0c5415364605row37_col3 {\n",
       "            background-color:  #f4edf6;\n",
       "            color:  #000000;\n",
       "        }    #T_e3181eb4_4ccb_11ea_abe8_0c5415364605row37_col4 {\n",
       "            background-color:  #f7f0f7;\n",
       "            color:  #000000;\n",
       "        }    #T_e3181eb4_4ccb_11ea_abe8_0c5415364605row37_col5 {\n",
       "            background-color:  #f5eff6;\n",
       "            color:  #000000;\n",
       "        }    #T_e3181eb4_4ccb_11ea_abe8_0c5415364605row37_col6 {\n",
       "            background-color:  #faf3f9;\n",
       "            color:  #000000;\n",
       "        }    #T_e3181eb4_4ccb_11ea_abe8_0c5415364605row37_col7 {\n",
       "            background-color:  #fef6fa;\n",
       "            color:  #000000;\n",
       "        }    #T_e3181eb4_4ccb_11ea_abe8_0c5415364605row37_col8 {\n",
       "            background-color:  #faf3f9;\n",
       "            color:  #000000;\n",
       "        }    #T_e3181eb4_4ccb_11ea_abe8_0c5415364605row37_col9 {\n",
       "            background-color:  #fef6fb;\n",
       "            color:  #000000;\n",
       "        }    #T_e3181eb4_4ccb_11ea_abe8_0c5415364605row37_col10 {\n",
       "            background-color:  #f7f0f7;\n",
       "            color:  #000000;\n",
       "        }    #T_e3181eb4_4ccb_11ea_abe8_0c5415364605row37_col11 {\n",
       "            background-color:  #fdf5fa;\n",
       "            color:  #000000;\n",
       "        }    #T_e3181eb4_4ccb_11ea_abe8_0c5415364605row37_col12 {\n",
       "            background-color:  #fef6fb;\n",
       "            color:  #000000;\n",
       "        }    #T_e3181eb4_4ccb_11ea_abe8_0c5415364605row37_col13 {\n",
       "            background-color:  #fff7fb;\n",
       "            color:  #000000;\n",
       "        }    #T_e3181eb4_4ccb_11ea_abe8_0c5415364605row37_col14 {\n",
       "            background-color:  #fef6fb;\n",
       "            color:  #000000;\n",
       "        }    #T_e3181eb4_4ccb_11ea_abe8_0c5415364605row37_col15 {\n",
       "            background-color:  #f8f1f8;\n",
       "            color:  #000000;\n",
       "        }    #T_e3181eb4_4ccb_11ea_abe8_0c5415364605row37_col16 {\n",
       "            background-color:  #faf2f8;\n",
       "            color:  #000000;\n",
       "        }    #T_e3181eb4_4ccb_11ea_abe8_0c5415364605row37_col17 {\n",
       "            background-color:  #f9f2f8;\n",
       "            color:  #000000;\n",
       "        }    #T_e3181eb4_4ccb_11ea_abe8_0c5415364605row37_col18 {\n",
       "            background-color:  #fcf4fa;\n",
       "            color:  #000000;\n",
       "        }    #T_e3181eb4_4ccb_11ea_abe8_0c5415364605row37_col19 {\n",
       "            background-color:  #fbf3f9;\n",
       "            color:  #000000;\n",
       "        }    #T_e3181eb4_4ccb_11ea_abe8_0c5415364605row37_col20 {\n",
       "            background-color:  #fcf4fa;\n",
       "            color:  #000000;\n",
       "        }    #T_e3181eb4_4ccb_11ea_abe8_0c5415364605row37_col21 {\n",
       "            background-color:  #fbf3f9;\n",
       "            color:  #000000;\n",
       "        }    #T_e3181eb4_4ccb_11ea_abe8_0c5415364605row37_col22 {\n",
       "            background-color:  #fbf3f9;\n",
       "            color:  #000000;\n",
       "        }    #T_e3181eb4_4ccb_11ea_abe8_0c5415364605row37_col23 {\n",
       "            background-color:  #fbf3f9;\n",
       "            color:  #000000;\n",
       "        }    #T_e3181eb4_4ccb_11ea_abe8_0c5415364605row37_col24 {\n",
       "            background-color:  #fbf3f9;\n",
       "            color:  #000000;\n",
       "        }    #T_e3181eb4_4ccb_11ea_abe8_0c5415364605row37_col25 {\n",
       "            background-color:  #fbf3f9;\n",
       "            color:  #000000;\n",
       "        }    #T_e3181eb4_4ccb_11ea_abe8_0c5415364605row37_col26 {\n",
       "            background-color:  #fbf3f9;\n",
       "            color:  #000000;\n",
       "        }    #T_e3181eb4_4ccb_11ea_abe8_0c5415364605row37_col27 {\n",
       "            background-color:  #f8f1f8;\n",
       "            color:  #000000;\n",
       "        }    #T_e3181eb4_4ccb_11ea_abe8_0c5415364605row37_col28 {\n",
       "            background-color:  #f8f1f8;\n",
       "            color:  #000000;\n",
       "        }    #T_e3181eb4_4ccb_11ea_abe8_0c5415364605row37_col29 {\n",
       "            background-color:  #fbf3f9;\n",
       "            color:  #000000;\n",
       "        }    #T_e3181eb4_4ccb_11ea_abe8_0c5415364605row38_col0 {\n",
       "            background-color:  #fef6fb;\n",
       "            color:  #000000;\n",
       "        }    #T_e3181eb4_4ccb_11ea_abe8_0c5415364605row38_col1 {\n",
       "            background-color:  #fbf4f9;\n",
       "            color:  #000000;\n",
       "        }    #T_e3181eb4_4ccb_11ea_abe8_0c5415364605row38_col2 {\n",
       "            background-color:  #faf3f9;\n",
       "            color:  #000000;\n",
       "        }    #T_e3181eb4_4ccb_11ea_abe8_0c5415364605row38_col3 {\n",
       "            background-color:  #f5eff6;\n",
       "            color:  #000000;\n",
       "        }    #T_e3181eb4_4ccb_11ea_abe8_0c5415364605row38_col4 {\n",
       "            background-color:  #f6eff7;\n",
       "            color:  #000000;\n",
       "        }    #T_e3181eb4_4ccb_11ea_abe8_0c5415364605row38_col5 {\n",
       "            background-color:  #f7f0f7;\n",
       "            color:  #000000;\n",
       "        }    #T_e3181eb4_4ccb_11ea_abe8_0c5415364605row38_col6 {\n",
       "            background-color:  #f0eaf4;\n",
       "            color:  #000000;\n",
       "        }    #T_e3181eb4_4ccb_11ea_abe8_0c5415364605row38_col7 {\n",
       "            background-color:  #f3edf5;\n",
       "            color:  #000000;\n",
       "        }    #T_e3181eb4_4ccb_11ea_abe8_0c5415364605row38_col8 {\n",
       "            background-color:  #f4eef6;\n",
       "            color:  #000000;\n",
       "        }    #T_e3181eb4_4ccb_11ea_abe8_0c5415364605row38_col9 {\n",
       "            background-color:  #f8f1f8;\n",
       "            color:  #000000;\n",
       "        }    #T_e3181eb4_4ccb_11ea_abe8_0c5415364605row38_col10 {\n",
       "            background-color:  #f8f1f8;\n",
       "            color:  #000000;\n",
       "        }    #T_e3181eb4_4ccb_11ea_abe8_0c5415364605row38_col11 {\n",
       "            background-color:  #fcf4fa;\n",
       "            color:  #000000;\n",
       "        }    #T_e3181eb4_4ccb_11ea_abe8_0c5415364605row38_col12 {\n",
       "            background-color:  #fbf4f9;\n",
       "            color:  #000000;\n",
       "        }    #T_e3181eb4_4ccb_11ea_abe8_0c5415364605row38_col13 {\n",
       "            background-color:  #fef6fb;\n",
       "            color:  #000000;\n",
       "        }    #T_e3181eb4_4ccb_11ea_abe8_0c5415364605row38_col14 {\n",
       "            background-color:  #f7f0f7;\n",
       "            color:  #000000;\n",
       "        }    #T_e3181eb4_4ccb_11ea_abe8_0c5415364605row38_col15 {\n",
       "            background-color:  #f9f2f8;\n",
       "            color:  #000000;\n",
       "        }    #T_e3181eb4_4ccb_11ea_abe8_0c5415364605row38_col16 {\n",
       "            background-color:  #faf2f8;\n",
       "            color:  #000000;\n",
       "        }    #T_e3181eb4_4ccb_11ea_abe8_0c5415364605row38_col17 {\n",
       "            background-color:  #faf2f8;\n",
       "            color:  #000000;\n",
       "        }    #T_e3181eb4_4ccb_11ea_abe8_0c5415364605row38_col18 {\n",
       "            background-color:  #f6eff7;\n",
       "            color:  #000000;\n",
       "        }    #T_e3181eb4_4ccb_11ea_abe8_0c5415364605row38_col19 {\n",
       "            background-color:  #faf2f8;\n",
       "            color:  #000000;\n",
       "        }    #T_e3181eb4_4ccb_11ea_abe8_0c5415364605row38_col20 {\n",
       "            background-color:  #f2ecf5;\n",
       "            color:  #000000;\n",
       "        }    #T_e3181eb4_4ccb_11ea_abe8_0c5415364605row38_col21 {\n",
       "            background-color:  #faf2f8;\n",
       "            color:  #000000;\n",
       "        }    #T_e3181eb4_4ccb_11ea_abe8_0c5415364605row38_col22 {\n",
       "            background-color:  #faf3f9;\n",
       "            color:  #000000;\n",
       "        }    #T_e3181eb4_4ccb_11ea_abe8_0c5415364605row38_col23 {\n",
       "            background-color:  #faf3f9;\n",
       "            color:  #000000;\n",
       "        }    #T_e3181eb4_4ccb_11ea_abe8_0c5415364605row38_col24 {\n",
       "            background-color:  #faf3f9;\n",
       "            color:  #000000;\n",
       "        }    #T_e3181eb4_4ccb_11ea_abe8_0c5415364605row38_col25 {\n",
       "            background-color:  #fbf3f9;\n",
       "            color:  #000000;\n",
       "        }    #T_e3181eb4_4ccb_11ea_abe8_0c5415364605row38_col26 {\n",
       "            background-color:  #faf2f8;\n",
       "            color:  #000000;\n",
       "        }    #T_e3181eb4_4ccb_11ea_abe8_0c5415364605row38_col27 {\n",
       "            background-color:  #faf2f8;\n",
       "            color:  #000000;\n",
       "        }    #T_e3181eb4_4ccb_11ea_abe8_0c5415364605row38_col28 {\n",
       "            background-color:  #faf3f9;\n",
       "            color:  #000000;\n",
       "        }    #T_e3181eb4_4ccb_11ea_abe8_0c5415364605row38_col29 {\n",
       "            background-color:  #f7f0f7;\n",
       "            color:  #000000;\n",
       "        }    #T_e3181eb4_4ccb_11ea_abe8_0c5415364605row39_col0 {\n",
       "            background-color:  #fff7fb;\n",
       "            color:  #000000;\n",
       "        }    #T_e3181eb4_4ccb_11ea_abe8_0c5415364605row39_col1 {\n",
       "            background-color:  #fbf4f9;\n",
       "            color:  #000000;\n",
       "        }    #T_e3181eb4_4ccb_11ea_abe8_0c5415364605row39_col2 {\n",
       "            background-color:  #fef6fb;\n",
       "            color:  #000000;\n",
       "        }    #T_e3181eb4_4ccb_11ea_abe8_0c5415364605row39_col3 {\n",
       "            background-color:  #fef6fb;\n",
       "            color:  #000000;\n",
       "        }    #T_e3181eb4_4ccb_11ea_abe8_0c5415364605row39_col4 {\n",
       "            background-color:  #f8f1f8;\n",
       "            color:  #000000;\n",
       "        }    #T_e3181eb4_4ccb_11ea_abe8_0c5415364605row39_col5 {\n",
       "            background-color:  #fbf4f9;\n",
       "            color:  #000000;\n",
       "        }    #T_e3181eb4_4ccb_11ea_abe8_0c5415364605row39_col6 {\n",
       "            background-color:  #e6e2ef;\n",
       "            color:  #000000;\n",
       "        }    #T_e3181eb4_4ccb_11ea_abe8_0c5415364605row39_col7 {\n",
       "            background-color:  #fff7fb;\n",
       "            color:  #000000;\n",
       "        }    #T_e3181eb4_4ccb_11ea_abe8_0c5415364605row39_col8 {\n",
       "            background-color:  #faf2f8;\n",
       "            color:  #000000;\n",
       "        }    #T_e3181eb4_4ccb_11ea_abe8_0c5415364605row39_col9 {\n",
       "            background-color:  #fdf5fa;\n",
       "            color:  #000000;\n",
       "        }    #T_e3181eb4_4ccb_11ea_abe8_0c5415364605row39_col10 {\n",
       "            background-color:  #f5eff6;\n",
       "            color:  #000000;\n",
       "        }    #T_e3181eb4_4ccb_11ea_abe8_0c5415364605row39_col11 {\n",
       "            background-color:  #fdf5fa;\n",
       "            color:  #000000;\n",
       "        }    #T_e3181eb4_4ccb_11ea_abe8_0c5415364605row39_col12 {\n",
       "            background-color:  #fdf5fa;\n",
       "            color:  #000000;\n",
       "        }    #T_e3181eb4_4ccb_11ea_abe8_0c5415364605row39_col13 {\n",
       "            background-color:  #fff7fb;\n",
       "            color:  #000000;\n",
       "        }    #T_e3181eb4_4ccb_11ea_abe8_0c5415364605row39_col14 {\n",
       "            background-color:  #fbf4f9;\n",
       "            color:  #000000;\n",
       "        }    #T_e3181eb4_4ccb_11ea_abe8_0c5415364605row39_col15 {\n",
       "            background-color:  #fbf3f9;\n",
       "            color:  #000000;\n",
       "        }    #T_e3181eb4_4ccb_11ea_abe8_0c5415364605row39_col16 {\n",
       "            background-color:  #f9f2f8;\n",
       "            color:  #000000;\n",
       "        }    #T_e3181eb4_4ccb_11ea_abe8_0c5415364605row39_col17 {\n",
       "            background-color:  #fbf3f9;\n",
       "            color:  #000000;\n",
       "        }    #T_e3181eb4_4ccb_11ea_abe8_0c5415364605row39_col18 {\n",
       "            background-color:  #f2ecf5;\n",
       "            color:  #000000;\n",
       "        }    #T_e3181eb4_4ccb_11ea_abe8_0c5415364605row39_col19 {\n",
       "            background-color:  #f8f1f8;\n",
       "            color:  #000000;\n",
       "        }    #T_e3181eb4_4ccb_11ea_abe8_0c5415364605row39_col20 {\n",
       "            background-color:  #f8f1f8;\n",
       "            color:  #000000;\n",
       "        }    #T_e3181eb4_4ccb_11ea_abe8_0c5415364605row39_col21 {\n",
       "            background-color:  #faf2f8;\n",
       "            color:  #000000;\n",
       "        }    #T_e3181eb4_4ccb_11ea_abe8_0c5415364605row39_col22 {\n",
       "            background-color:  #faf2f8;\n",
       "            color:  #000000;\n",
       "        }    #T_e3181eb4_4ccb_11ea_abe8_0c5415364605row39_col23 {\n",
       "            background-color:  #f8f1f8;\n",
       "            color:  #000000;\n",
       "        }    #T_e3181eb4_4ccb_11ea_abe8_0c5415364605row39_col24 {\n",
       "            background-color:  #f5eff6;\n",
       "            color:  #000000;\n",
       "        }    #T_e3181eb4_4ccb_11ea_abe8_0c5415364605row39_col25 {\n",
       "            background-color:  #f6eff7;\n",
       "            color:  #000000;\n",
       "        }    #T_e3181eb4_4ccb_11ea_abe8_0c5415364605row39_col26 {\n",
       "            background-color:  #f6eff7;\n",
       "            color:  #000000;\n",
       "        }    #T_e3181eb4_4ccb_11ea_abe8_0c5415364605row39_col27 {\n",
       "            background-color:  #f7f0f7;\n",
       "            color:  #000000;\n",
       "        }    #T_e3181eb4_4ccb_11ea_abe8_0c5415364605row39_col28 {\n",
       "            background-color:  #f9f2f8;\n",
       "            color:  #000000;\n",
       "        }    #T_e3181eb4_4ccb_11ea_abe8_0c5415364605row39_col29 {\n",
       "            background-color:  #f1ebf5;\n",
       "            color:  #000000;\n",
       "        }    #T_e3181eb4_4ccb_11ea_abe8_0c5415364605row40_col0 {\n",
       "            background-color:  #fff7fb;\n",
       "            color:  #000000;\n",
       "        }    #T_e3181eb4_4ccb_11ea_abe8_0c5415364605row40_col1 {\n",
       "            background-color:  #fcf4fa;\n",
       "            color:  #000000;\n",
       "        }    #T_e3181eb4_4ccb_11ea_abe8_0c5415364605row40_col2 {\n",
       "            background-color:  #fbf4f9;\n",
       "            color:  #000000;\n",
       "        }    #T_e3181eb4_4ccb_11ea_abe8_0c5415364605row40_col3 {\n",
       "            background-color:  #f5eff6;\n",
       "            color:  #000000;\n",
       "        }    #T_e3181eb4_4ccb_11ea_abe8_0c5415364605row40_col4 {\n",
       "            background-color:  #eee8f3;\n",
       "            color:  #000000;\n",
       "        }    #T_e3181eb4_4ccb_11ea_abe8_0c5415364605row40_col5 {\n",
       "            background-color:  #f4edf6;\n",
       "            color:  #000000;\n",
       "        }    #T_e3181eb4_4ccb_11ea_abe8_0c5415364605row40_col6 {\n",
       "            background-color:  #f8f1f8;\n",
       "            color:  #000000;\n",
       "        }    #T_e3181eb4_4ccb_11ea_abe8_0c5415364605row40_col7 {\n",
       "            background-color:  #fef6fa;\n",
       "            color:  #000000;\n",
       "        }    #T_e3181eb4_4ccb_11ea_abe8_0c5415364605row40_col8 {\n",
       "            background-color:  #fff7fb;\n",
       "            color:  #000000;\n",
       "        }    #T_e3181eb4_4ccb_11ea_abe8_0c5415364605row40_col9 {\n",
       "            background-color:  #fdf5fa;\n",
       "            color:  #000000;\n",
       "        }    #T_e3181eb4_4ccb_11ea_abe8_0c5415364605row40_col10 {\n",
       "            background-color:  #f2ecf5;\n",
       "            color:  #000000;\n",
       "        }    #T_e3181eb4_4ccb_11ea_abe8_0c5415364605row40_col11 {\n",
       "            background-color:  #f8f1f8;\n",
       "            color:  #000000;\n",
       "        }    #T_e3181eb4_4ccb_11ea_abe8_0c5415364605row40_col12 {\n",
       "            background-color:  #fbf4f9;\n",
       "            color:  #000000;\n",
       "        }    #T_e3181eb4_4ccb_11ea_abe8_0c5415364605row40_col13 {\n",
       "            background-color:  #fdf5fa;\n",
       "            color:  #000000;\n",
       "        }    #T_e3181eb4_4ccb_11ea_abe8_0c5415364605row40_col14 {\n",
       "            background-color:  #fbf3f9;\n",
       "            color:  #000000;\n",
       "        }    #T_e3181eb4_4ccb_11ea_abe8_0c5415364605row40_col15 {\n",
       "            background-color:  #faf2f8;\n",
       "            color:  #000000;\n",
       "        }    #T_e3181eb4_4ccb_11ea_abe8_0c5415364605row40_col16 {\n",
       "            background-color:  #fff7fb;\n",
       "            color:  #000000;\n",
       "        }    #T_e3181eb4_4ccb_11ea_abe8_0c5415364605row40_col17 {\n",
       "            background-color:  #fff7fb;\n",
       "            color:  #000000;\n",
       "        }    #T_e3181eb4_4ccb_11ea_abe8_0c5415364605row40_col18 {\n",
       "            background-color:  #faf3f9;\n",
       "            color:  #000000;\n",
       "        }    #T_e3181eb4_4ccb_11ea_abe8_0c5415364605row40_col19 {\n",
       "            background-color:  #f4edf6;\n",
       "            color:  #000000;\n",
       "        }    #T_e3181eb4_4ccb_11ea_abe8_0c5415364605row40_col20 {\n",
       "            background-color:  #fdf5fa;\n",
       "            color:  #000000;\n",
       "        }    #T_e3181eb4_4ccb_11ea_abe8_0c5415364605row40_col21 {\n",
       "            background-color:  #f1ebf5;\n",
       "            color:  #000000;\n",
       "        }    #T_e3181eb4_4ccb_11ea_abe8_0c5415364605row40_col22 {\n",
       "            background-color:  #f2ecf5;\n",
       "            color:  #000000;\n",
       "        }    #T_e3181eb4_4ccb_11ea_abe8_0c5415364605row40_col23 {\n",
       "            background-color:  #f8f1f8;\n",
       "            color:  #000000;\n",
       "        }    #T_e3181eb4_4ccb_11ea_abe8_0c5415364605row40_col24 {\n",
       "            background-color:  #f7f0f7;\n",
       "            color:  #000000;\n",
       "        }    #T_e3181eb4_4ccb_11ea_abe8_0c5415364605row40_col25 {\n",
       "            background-color:  #faf2f8;\n",
       "            color:  #000000;\n",
       "        }    #T_e3181eb4_4ccb_11ea_abe8_0c5415364605row40_col26 {\n",
       "            background-color:  #f8f1f8;\n",
       "            color:  #000000;\n",
       "        }    #T_e3181eb4_4ccb_11ea_abe8_0c5415364605row40_col27 {\n",
       "            background-color:  #f6eff7;\n",
       "            color:  #000000;\n",
       "        }    #T_e3181eb4_4ccb_11ea_abe8_0c5415364605row40_col28 {\n",
       "            background-color:  #fbf3f9;\n",
       "            color:  #000000;\n",
       "        }    #T_e3181eb4_4ccb_11ea_abe8_0c5415364605row40_col29 {\n",
       "            background-color:  #fff7fb;\n",
       "            color:  #000000;\n",
       "        }    #T_e3181eb4_4ccb_11ea_abe8_0c5415364605row41_col0 {\n",
       "            background-color:  #fff7fb;\n",
       "            color:  #000000;\n",
       "        }    #T_e3181eb4_4ccb_11ea_abe8_0c5415364605row41_col1 {\n",
       "            background-color:  #fcf4fa;\n",
       "            color:  #000000;\n",
       "        }    #T_e3181eb4_4ccb_11ea_abe8_0c5415364605row41_col2 {\n",
       "            background-color:  #fcf4fa;\n",
       "            color:  #000000;\n",
       "        }    #T_e3181eb4_4ccb_11ea_abe8_0c5415364605row41_col3 {\n",
       "            background-color:  #f9f2f8;\n",
       "            color:  #000000;\n",
       "        }    #T_e3181eb4_4ccb_11ea_abe8_0c5415364605row41_col4 {\n",
       "            background-color:  #f4edf6;\n",
       "            color:  #000000;\n",
       "        }    #T_e3181eb4_4ccb_11ea_abe8_0c5415364605row41_col5 {\n",
       "            background-color:  #f9f2f8;\n",
       "            color:  #000000;\n",
       "        }    #T_e3181eb4_4ccb_11ea_abe8_0c5415364605row41_col6 {\n",
       "            background-color:  #f1ebf4;\n",
       "            color:  #000000;\n",
       "        }    #T_e3181eb4_4ccb_11ea_abe8_0c5415364605row41_col7 {\n",
       "            background-color:  #fff7fb;\n",
       "            color:  #000000;\n",
       "        }    #T_e3181eb4_4ccb_11ea_abe8_0c5415364605row41_col8 {\n",
       "            background-color:  #f8f1f8;\n",
       "            color:  #000000;\n",
       "        }    #T_e3181eb4_4ccb_11ea_abe8_0c5415364605row41_col9 {\n",
       "            background-color:  #fbf4f9;\n",
       "            color:  #000000;\n",
       "        }    #T_e3181eb4_4ccb_11ea_abe8_0c5415364605row41_col10 {\n",
       "            background-color:  #f5eff6;\n",
       "            color:  #000000;\n",
       "        }    #T_e3181eb4_4ccb_11ea_abe8_0c5415364605row41_col11 {\n",
       "            background-color:  #fbf3f9;\n",
       "            color:  #000000;\n",
       "        }    #T_e3181eb4_4ccb_11ea_abe8_0c5415364605row41_col12 {\n",
       "            background-color:  #faf3f9;\n",
       "            color:  #000000;\n",
       "        }    #T_e3181eb4_4ccb_11ea_abe8_0c5415364605row41_col13 {\n",
       "            background-color:  #fef6fb;\n",
       "            color:  #000000;\n",
       "        }    #T_e3181eb4_4ccb_11ea_abe8_0c5415364605row41_col14 {\n",
       "            background-color:  #f8f1f8;\n",
       "            color:  #000000;\n",
       "        }    #T_e3181eb4_4ccb_11ea_abe8_0c5415364605row41_col15 {\n",
       "            background-color:  #fbf4f9;\n",
       "            color:  #000000;\n",
       "        }    #T_e3181eb4_4ccb_11ea_abe8_0c5415364605row41_col16 {\n",
       "            background-color:  #faf2f8;\n",
       "            color:  #000000;\n",
       "        }    #T_e3181eb4_4ccb_11ea_abe8_0c5415364605row41_col17 {\n",
       "            background-color:  #fbf3f9;\n",
       "            color:  #000000;\n",
       "        }    #T_e3181eb4_4ccb_11ea_abe8_0c5415364605row41_col18 {\n",
       "            background-color:  #f8f1f8;\n",
       "            color:  #000000;\n",
       "        }    #T_e3181eb4_4ccb_11ea_abe8_0c5415364605row41_col19 {\n",
       "            background-color:  #fbf3f9;\n",
       "            color:  #000000;\n",
       "        }    #T_e3181eb4_4ccb_11ea_abe8_0c5415364605row41_col20 {\n",
       "            background-color:  #fbf3f9;\n",
       "            color:  #000000;\n",
       "        }    #T_e3181eb4_4ccb_11ea_abe8_0c5415364605row41_col21 {\n",
       "            background-color:  #faf3f9;\n",
       "            color:  #000000;\n",
       "        }    #T_e3181eb4_4ccb_11ea_abe8_0c5415364605row41_col22 {\n",
       "            background-color:  #faf3f9;\n",
       "            color:  #000000;\n",
       "        }    #T_e3181eb4_4ccb_11ea_abe8_0c5415364605row41_col23 {\n",
       "            background-color:  #f9f2f8;\n",
       "            color:  #000000;\n",
       "        }    #T_e3181eb4_4ccb_11ea_abe8_0c5415364605row41_col24 {\n",
       "            background-color:  #faf2f8;\n",
       "            color:  #000000;\n",
       "        }    #T_e3181eb4_4ccb_11ea_abe8_0c5415364605row41_col25 {\n",
       "            background-color:  #f9f2f8;\n",
       "            color:  #000000;\n",
       "        }    #T_e3181eb4_4ccb_11ea_abe8_0c5415364605row41_col26 {\n",
       "            background-color:  #f9f2f8;\n",
       "            color:  #000000;\n",
       "        }    #T_e3181eb4_4ccb_11ea_abe8_0c5415364605row41_col27 {\n",
       "            background-color:  #f8f1f8;\n",
       "            color:  #000000;\n",
       "        }    #T_e3181eb4_4ccb_11ea_abe8_0c5415364605row41_col28 {\n",
       "            background-color:  #fbf3f9;\n",
       "            color:  #000000;\n",
       "        }    #T_e3181eb4_4ccb_11ea_abe8_0c5415364605row41_col29 {\n",
       "            background-color:  #eee9f3;\n",
       "            color:  #000000;\n",
       "        }    #T_e3181eb4_4ccb_11ea_abe8_0c5415364605row42_col0 {\n",
       "            background-color:  #f8f1f8;\n",
       "            color:  #000000;\n",
       "        }    #T_e3181eb4_4ccb_11ea_abe8_0c5415364605row42_col1 {\n",
       "            background-color:  #fdf5fa;\n",
       "            color:  #000000;\n",
       "        }    #T_e3181eb4_4ccb_11ea_abe8_0c5415364605row42_col2 {\n",
       "            background-color:  #faf2f8;\n",
       "            color:  #000000;\n",
       "        }    #T_e3181eb4_4ccb_11ea_abe8_0c5415364605row42_col3 {\n",
       "            background-color:  #f0eaf4;\n",
       "            color:  #000000;\n",
       "        }    #T_e3181eb4_4ccb_11ea_abe8_0c5415364605row42_col4 {\n",
       "            background-color:  #f5eef6;\n",
       "            color:  #000000;\n",
       "        }    #T_e3181eb4_4ccb_11ea_abe8_0c5415364605row42_col5 {\n",
       "            background-color:  #f4eef6;\n",
       "            color:  #000000;\n",
       "        }    #T_e3181eb4_4ccb_11ea_abe8_0c5415364605row42_col6 {\n",
       "            background-color:  #f5eff6;\n",
       "            color:  #000000;\n",
       "        }    #T_e3181eb4_4ccb_11ea_abe8_0c5415364605row42_col7 {\n",
       "            background-color:  #f0eaf4;\n",
       "            color:  #000000;\n",
       "        }    #T_e3181eb4_4ccb_11ea_abe8_0c5415364605row42_col8 {\n",
       "            background-color:  #f8f1f8;\n",
       "            color:  #000000;\n",
       "        }    #T_e3181eb4_4ccb_11ea_abe8_0c5415364605row42_col9 {\n",
       "            background-color:  #f6eff7;\n",
       "            color:  #000000;\n",
       "        }    #T_e3181eb4_4ccb_11ea_abe8_0c5415364605row42_col10 {\n",
       "            background-color:  #f3edf5;\n",
       "            color:  #000000;\n",
       "        }    #T_e3181eb4_4ccb_11ea_abe8_0c5415364605row42_col11 {\n",
       "            background-color:  #faf3f9;\n",
       "            color:  #000000;\n",
       "        }    #T_e3181eb4_4ccb_11ea_abe8_0c5415364605row42_col12 {\n",
       "            background-color:  #fbf3f9;\n",
       "            color:  #000000;\n",
       "        }    #T_e3181eb4_4ccb_11ea_abe8_0c5415364605row42_col13 {\n",
       "            background-color:  #fbf3f9;\n",
       "            color:  #000000;\n",
       "        }    #T_e3181eb4_4ccb_11ea_abe8_0c5415364605row42_col14 {\n",
       "            background-color:  #f7f0f7;\n",
       "            color:  #000000;\n",
       "        }    #T_e3181eb4_4ccb_11ea_abe8_0c5415364605row42_col15 {\n",
       "            background-color:  #faf3f9;\n",
       "            color:  #000000;\n",
       "        }    #T_e3181eb4_4ccb_11ea_abe8_0c5415364605row42_col16 {\n",
       "            background-color:  #fbf3f9;\n",
       "            color:  #000000;\n",
       "        }    #T_e3181eb4_4ccb_11ea_abe8_0c5415364605row42_col17 {\n",
       "            background-color:  #f8f1f8;\n",
       "            color:  #000000;\n",
       "        }    #T_e3181eb4_4ccb_11ea_abe8_0c5415364605row42_col18 {\n",
       "            background-color:  #f6eff7;\n",
       "            color:  #000000;\n",
       "        }    #T_e3181eb4_4ccb_11ea_abe8_0c5415364605row42_col19 {\n",
       "            background-color:  #faf3f9;\n",
       "            color:  #000000;\n",
       "        }    #T_e3181eb4_4ccb_11ea_abe8_0c5415364605row42_col20 {\n",
       "            background-color:  #faf2f8;\n",
       "            color:  #000000;\n",
       "        }    #T_e3181eb4_4ccb_11ea_abe8_0c5415364605row42_col21 {\n",
       "            background-color:  #f9f2f8;\n",
       "            color:  #000000;\n",
       "        }    #T_e3181eb4_4ccb_11ea_abe8_0c5415364605row42_col22 {\n",
       "            background-color:  #f8f1f8;\n",
       "            color:  #000000;\n",
       "        }    #T_e3181eb4_4ccb_11ea_abe8_0c5415364605row42_col23 {\n",
       "            background-color:  #f7f0f7;\n",
       "            color:  #000000;\n",
       "        }    #T_e3181eb4_4ccb_11ea_abe8_0c5415364605row42_col24 {\n",
       "            background-color:  #f6eff7;\n",
       "            color:  #000000;\n",
       "        }    #T_e3181eb4_4ccb_11ea_abe8_0c5415364605row42_col25 {\n",
       "            background-color:  #f7f0f7;\n",
       "            color:  #000000;\n",
       "        }    #T_e3181eb4_4ccb_11ea_abe8_0c5415364605row42_col26 {\n",
       "            background-color:  #f6eff7;\n",
       "            color:  #000000;\n",
       "        }    #T_e3181eb4_4ccb_11ea_abe8_0c5415364605row42_col27 {\n",
       "            background-color:  #f8f1f8;\n",
       "            color:  #000000;\n",
       "        }    #T_e3181eb4_4ccb_11ea_abe8_0c5415364605row42_col28 {\n",
       "            background-color:  #faf3f9;\n",
       "            color:  #000000;\n",
       "        }    #T_e3181eb4_4ccb_11ea_abe8_0c5415364605row42_col29 {\n",
       "            background-color:  #f8f1f8;\n",
       "            color:  #000000;\n",
       "        }    #T_e3181eb4_4ccb_11ea_abe8_0c5415364605row43_col0 {\n",
       "            background-color:  #fff7fb;\n",
       "            color:  #000000;\n",
       "        }    #T_e3181eb4_4ccb_11ea_abe8_0c5415364605row43_col1 {\n",
       "            background-color:  #fdf5fa;\n",
       "            color:  #000000;\n",
       "        }    #T_e3181eb4_4ccb_11ea_abe8_0c5415364605row43_col2 {\n",
       "            background-color:  #fbf3f9;\n",
       "            color:  #000000;\n",
       "        }    #T_e3181eb4_4ccb_11ea_abe8_0c5415364605row43_col3 {\n",
       "            background-color:  #fff7fb;\n",
       "            color:  #000000;\n",
       "        }    #T_e3181eb4_4ccb_11ea_abe8_0c5415364605row43_col4 {\n",
       "            background-color:  #fff7fb;\n",
       "            color:  #000000;\n",
       "        }    #T_e3181eb4_4ccb_11ea_abe8_0c5415364605row43_col5 {\n",
       "            background-color:  #fff7fb;\n",
       "            color:  #000000;\n",
       "        }    #T_e3181eb4_4ccb_11ea_abe8_0c5415364605row43_col6 {\n",
       "            background-color:  #fff7fb;\n",
       "            color:  #000000;\n",
       "        }    #T_e3181eb4_4ccb_11ea_abe8_0c5415364605row43_col7 {\n",
       "            background-color:  #fff7fb;\n",
       "            color:  #000000;\n",
       "        }    #T_e3181eb4_4ccb_11ea_abe8_0c5415364605row43_col8 {\n",
       "            background-color:  #fff7fb;\n",
       "            color:  #000000;\n",
       "        }    #T_e3181eb4_4ccb_11ea_abe8_0c5415364605row43_col9 {\n",
       "            background-color:  #fff7fb;\n",
       "            color:  #000000;\n",
       "        }    #T_e3181eb4_4ccb_11ea_abe8_0c5415364605row43_col10 {\n",
       "            background-color:  #fff7fb;\n",
       "            color:  #000000;\n",
       "        }    #T_e3181eb4_4ccb_11ea_abe8_0c5415364605row43_col11 {\n",
       "            background-color:  #fff7fb;\n",
       "            color:  #000000;\n",
       "        }    #T_e3181eb4_4ccb_11ea_abe8_0c5415364605row43_col12 {\n",
       "            background-color:  #fff7fb;\n",
       "            color:  #000000;\n",
       "        }    #T_e3181eb4_4ccb_11ea_abe8_0c5415364605row43_col13 {\n",
       "            background-color:  #fff7fb;\n",
       "            color:  #000000;\n",
       "        }    #T_e3181eb4_4ccb_11ea_abe8_0c5415364605row43_col14 {\n",
       "            background-color:  #fff7fb;\n",
       "            color:  #000000;\n",
       "        }    #T_e3181eb4_4ccb_11ea_abe8_0c5415364605row43_col15 {\n",
       "            background-color:  #f6eff7;\n",
       "            color:  #000000;\n",
       "        }    #T_e3181eb4_4ccb_11ea_abe8_0c5415364605row43_col16 {\n",
       "            background-color:  #fdf5fa;\n",
       "            color:  #000000;\n",
       "        }    #T_e3181eb4_4ccb_11ea_abe8_0c5415364605row43_col17 {\n",
       "            background-color:  #fef6fb;\n",
       "            color:  #000000;\n",
       "        }    #T_e3181eb4_4ccb_11ea_abe8_0c5415364605row43_col18 {\n",
       "            background-color:  #fef6fb;\n",
       "            color:  #000000;\n",
       "        }    #T_e3181eb4_4ccb_11ea_abe8_0c5415364605row43_col19 {\n",
       "            background-color:  #fdf5fa;\n",
       "            color:  #000000;\n",
       "        }    #T_e3181eb4_4ccb_11ea_abe8_0c5415364605row43_col20 {\n",
       "            background-color:  #fff7fb;\n",
       "            color:  #000000;\n",
       "        }    #T_e3181eb4_4ccb_11ea_abe8_0c5415364605row43_col21 {\n",
       "            background-color:  #fef6fa;\n",
       "            color:  #000000;\n",
       "        }    #T_e3181eb4_4ccb_11ea_abe8_0c5415364605row43_col22 {\n",
       "            background-color:  #fef6fa;\n",
       "            color:  #000000;\n",
       "        }    #T_e3181eb4_4ccb_11ea_abe8_0c5415364605row43_col23 {\n",
       "            background-color:  #fef6fb;\n",
       "            color:  #000000;\n",
       "        }    #T_e3181eb4_4ccb_11ea_abe8_0c5415364605row43_col24 {\n",
       "            background-color:  #fef6fb;\n",
       "            color:  #000000;\n",
       "        }    #T_e3181eb4_4ccb_11ea_abe8_0c5415364605row43_col25 {\n",
       "            background-color:  #fef6fa;\n",
       "            color:  #000000;\n",
       "        }    #T_e3181eb4_4ccb_11ea_abe8_0c5415364605row43_col26 {\n",
       "            background-color:  #fef6fb;\n",
       "            color:  #000000;\n",
       "        }    #T_e3181eb4_4ccb_11ea_abe8_0c5415364605row43_col27 {\n",
       "            background-color:  #fff7fb;\n",
       "            color:  #000000;\n",
       "        }    #T_e3181eb4_4ccb_11ea_abe8_0c5415364605row43_col28 {\n",
       "            background-color:  #fff7fb;\n",
       "            color:  #000000;\n",
       "        }    #T_e3181eb4_4ccb_11ea_abe8_0c5415364605row43_col29 {\n",
       "            background-color:  #fff7fb;\n",
       "            color:  #000000;\n",
       "        }    #T_e3181eb4_4ccb_11ea_abe8_0c5415364605row44_col0 {\n",
       "            background-color:  #fef6fb;\n",
       "            color:  #000000;\n",
       "        }    #T_e3181eb4_4ccb_11ea_abe8_0c5415364605row44_col1 {\n",
       "            background-color:  #fef6fa;\n",
       "            color:  #000000;\n",
       "        }    #T_e3181eb4_4ccb_11ea_abe8_0c5415364605row44_col2 {\n",
       "            background-color:  #fff7fb;\n",
       "            color:  #000000;\n",
       "        }    #T_e3181eb4_4ccb_11ea_abe8_0c5415364605row44_col3 {\n",
       "            background-color:  #fdf5fa;\n",
       "            color:  #000000;\n",
       "        }    #T_e3181eb4_4ccb_11ea_abe8_0c5415364605row44_col4 {\n",
       "            background-color:  #f9f2f8;\n",
       "            color:  #000000;\n",
       "        }    #T_e3181eb4_4ccb_11ea_abe8_0c5415364605row44_col5 {\n",
       "            background-color:  #f8f1f8;\n",
       "            color:  #000000;\n",
       "        }    #T_e3181eb4_4ccb_11ea_abe8_0c5415364605row44_col6 {\n",
       "            background-color:  #f4eef6;\n",
       "            color:  #000000;\n",
       "        }    #T_e3181eb4_4ccb_11ea_abe8_0c5415364605row44_col7 {\n",
       "            background-color:  #fef6fa;\n",
       "            color:  #000000;\n",
       "        }    #T_e3181eb4_4ccb_11ea_abe8_0c5415364605row44_col8 {\n",
       "            background-color:  #e2dfee;\n",
       "            color:  #000000;\n",
       "        }    #T_e3181eb4_4ccb_11ea_abe8_0c5415364605row44_col9 {\n",
       "            background-color:  #fef6fb;\n",
       "            color:  #000000;\n",
       "        }    #T_e3181eb4_4ccb_11ea_abe8_0c5415364605row44_col10 {\n",
       "            background-color:  #fff7fb;\n",
       "            color:  #000000;\n",
       "        }    #T_e3181eb4_4ccb_11ea_abe8_0c5415364605row44_col11 {\n",
       "            background-color:  #fef6fb;\n",
       "            color:  #000000;\n",
       "        }    #T_e3181eb4_4ccb_11ea_abe8_0c5415364605row44_col12 {\n",
       "            background-color:  #fff7fb;\n",
       "            color:  #000000;\n",
       "        }    #T_e3181eb4_4ccb_11ea_abe8_0c5415364605row44_col13 {\n",
       "            background-color:  #fff7fb;\n",
       "            color:  #000000;\n",
       "        }    #T_e3181eb4_4ccb_11ea_abe8_0c5415364605row44_col14 {\n",
       "            background-color:  #fff7fb;\n",
       "            color:  #000000;\n",
       "        }    #T_e3181eb4_4ccb_11ea_abe8_0c5415364605row44_col15 {\n",
       "            background-color:  #fff7fb;\n",
       "            color:  #000000;\n",
       "        }    #T_e3181eb4_4ccb_11ea_abe8_0c5415364605row44_col16 {\n",
       "            background-color:  #fef6fa;\n",
       "            color:  #000000;\n",
       "        }    #T_e3181eb4_4ccb_11ea_abe8_0c5415364605row44_col17 {\n",
       "            background-color:  #fdf5fa;\n",
       "            color:  #000000;\n",
       "        }    #T_e3181eb4_4ccb_11ea_abe8_0c5415364605row44_col18 {\n",
       "            background-color:  #fef6fb;\n",
       "            color:  #000000;\n",
       "        }    #T_e3181eb4_4ccb_11ea_abe8_0c5415364605row44_col19 {\n",
       "            background-color:  #fff7fb;\n",
       "            color:  #000000;\n",
       "        }    #T_e3181eb4_4ccb_11ea_abe8_0c5415364605row44_col20 {\n",
       "            background-color:  #fef6fb;\n",
       "            color:  #000000;\n",
       "        }    #T_e3181eb4_4ccb_11ea_abe8_0c5415364605row44_col21 {\n",
       "            background-color:  #fff7fb;\n",
       "            color:  #000000;\n",
       "        }    #T_e3181eb4_4ccb_11ea_abe8_0c5415364605row44_col22 {\n",
       "            background-color:  #fef6fb;\n",
       "            color:  #000000;\n",
       "        }    #T_e3181eb4_4ccb_11ea_abe8_0c5415364605row44_col23 {\n",
       "            background-color:  #fff7fb;\n",
       "            color:  #000000;\n",
       "        }    #T_e3181eb4_4ccb_11ea_abe8_0c5415364605row44_col24 {\n",
       "            background-color:  #fff7fb;\n",
       "            color:  #000000;\n",
       "        }    #T_e3181eb4_4ccb_11ea_abe8_0c5415364605row44_col25 {\n",
       "            background-color:  #fff7fb;\n",
       "            color:  #000000;\n",
       "        }    #T_e3181eb4_4ccb_11ea_abe8_0c5415364605row44_col26 {\n",
       "            background-color:  #fef6fb;\n",
       "            color:  #000000;\n",
       "        }    #T_e3181eb4_4ccb_11ea_abe8_0c5415364605row44_col27 {\n",
       "            background-color:  #efe9f3;\n",
       "            color:  #000000;\n",
       "        }    #T_e3181eb4_4ccb_11ea_abe8_0c5415364605row44_col28 {\n",
       "            background-color:  #f3edf5;\n",
       "            color:  #000000;\n",
       "        }    #T_e3181eb4_4ccb_11ea_abe8_0c5415364605row44_col29 {\n",
       "            background-color:  #f7f0f7;\n",
       "            color:  #000000;\n",
       "        }    #T_e3181eb4_4ccb_11ea_abe8_0c5415364605row45_col0 {\n",
       "            background-color:  #fdf5fa;\n",
       "            color:  #000000;\n",
       "        }    #T_e3181eb4_4ccb_11ea_abe8_0c5415364605row45_col1 {\n",
       "            background-color:  #fef6fa;\n",
       "            color:  #000000;\n",
       "        }    #T_e3181eb4_4ccb_11ea_abe8_0c5415364605row45_col2 {\n",
       "            background-color:  #fbf4f9;\n",
       "            color:  #000000;\n",
       "        }    #T_e3181eb4_4ccb_11ea_abe8_0c5415364605row45_col3 {\n",
       "            background-color:  #f9f2f8;\n",
       "            color:  #000000;\n",
       "        }    #T_e3181eb4_4ccb_11ea_abe8_0c5415364605row45_col4 {\n",
       "            background-color:  #f4eef6;\n",
       "            color:  #000000;\n",
       "        }    #T_e3181eb4_4ccb_11ea_abe8_0c5415364605row45_col5 {\n",
       "            background-color:  #f8f1f8;\n",
       "            color:  #000000;\n",
       "        }    #T_e3181eb4_4ccb_11ea_abe8_0c5415364605row45_col6 {\n",
       "            background-color:  #efe9f3;\n",
       "            color:  #000000;\n",
       "        }    #T_e3181eb4_4ccb_11ea_abe8_0c5415364605row45_col7 {\n",
       "            background-color:  #fcf4fa;\n",
       "            color:  #000000;\n",
       "        }    #T_e3181eb4_4ccb_11ea_abe8_0c5415364605row45_col8 {\n",
       "            background-color:  #f5eef6;\n",
       "            color:  #000000;\n",
       "        }    #T_e3181eb4_4ccb_11ea_abe8_0c5415364605row45_col9 {\n",
       "            background-color:  #fdf5fa;\n",
       "            color:  #000000;\n",
       "        }    #T_e3181eb4_4ccb_11ea_abe8_0c5415364605row45_col10 {\n",
       "            background-color:  #f8f1f8;\n",
       "            color:  #000000;\n",
       "        }    #T_e3181eb4_4ccb_11ea_abe8_0c5415364605row45_col11 {\n",
       "            background-color:  #fdf5fa;\n",
       "            color:  #000000;\n",
       "        }    #T_e3181eb4_4ccb_11ea_abe8_0c5415364605row45_col12 {\n",
       "            background-color:  #fdf5fa;\n",
       "            color:  #000000;\n",
       "        }    #T_e3181eb4_4ccb_11ea_abe8_0c5415364605row45_col13 {\n",
       "            background-color:  #fff7fb;\n",
       "            color:  #000000;\n",
       "        }    #T_e3181eb4_4ccb_11ea_abe8_0c5415364605row45_col14 {\n",
       "            background-color:  #fdf5fa;\n",
       "            color:  #000000;\n",
       "        }    #T_e3181eb4_4ccb_11ea_abe8_0c5415364605row45_col15 {\n",
       "            background-color:  #fef6fa;\n",
       "            color:  #000000;\n",
       "        }    #T_e3181eb4_4ccb_11ea_abe8_0c5415364605row45_col16 {\n",
       "            background-color:  #fef6fb;\n",
       "            color:  #000000;\n",
       "        }    #T_e3181eb4_4ccb_11ea_abe8_0c5415364605row45_col17 {\n",
       "            background-color:  #fef6fb;\n",
       "            color:  #000000;\n",
       "        }    #T_e3181eb4_4ccb_11ea_abe8_0c5415364605row45_col18 {\n",
       "            background-color:  #f7f0f7;\n",
       "            color:  #000000;\n",
       "        }    #T_e3181eb4_4ccb_11ea_abe8_0c5415364605row45_col19 {\n",
       "            background-color:  #faf3f9;\n",
       "            color:  #000000;\n",
       "        }    #T_e3181eb4_4ccb_11ea_abe8_0c5415364605row45_col20 {\n",
       "            background-color:  #faf3f9;\n",
       "            color:  #000000;\n",
       "        }    #T_e3181eb4_4ccb_11ea_abe8_0c5415364605row45_col21 {\n",
       "            background-color:  #fbf3f9;\n",
       "            color:  #000000;\n",
       "        }    #T_e3181eb4_4ccb_11ea_abe8_0c5415364605row45_col22 {\n",
       "            background-color:  #fbf4f9;\n",
       "            color:  #000000;\n",
       "        }    #T_e3181eb4_4ccb_11ea_abe8_0c5415364605row45_col23 {\n",
       "            background-color:  #fbf3f9;\n",
       "            color:  #000000;\n",
       "        }    #T_e3181eb4_4ccb_11ea_abe8_0c5415364605row45_col24 {\n",
       "            background-color:  #fbf3f9;\n",
       "            color:  #000000;\n",
       "        }    #T_e3181eb4_4ccb_11ea_abe8_0c5415364605row45_col25 {\n",
       "            background-color:  #fbf4f9;\n",
       "            color:  #000000;\n",
       "        }    #T_e3181eb4_4ccb_11ea_abe8_0c5415364605row45_col26 {\n",
       "            background-color:  #fbf4f9;\n",
       "            color:  #000000;\n",
       "        }    #T_e3181eb4_4ccb_11ea_abe8_0c5415364605row45_col27 {\n",
       "            background-color:  #fbf3f9;\n",
       "            color:  #000000;\n",
       "        }    #T_e3181eb4_4ccb_11ea_abe8_0c5415364605row45_col28 {\n",
       "            background-color:  #f9f2f8;\n",
       "            color:  #000000;\n",
       "        }    #T_e3181eb4_4ccb_11ea_abe8_0c5415364605row45_col29 {\n",
       "            background-color:  #fef6fb;\n",
       "            color:  #000000;\n",
       "        }    #T_e3181eb4_4ccb_11ea_abe8_0c5415364605row46_col0 {\n",
       "            background-color:  #fff7fb;\n",
       "            color:  #000000;\n",
       "        }    #T_e3181eb4_4ccb_11ea_abe8_0c5415364605row46_col1 {\n",
       "            background-color:  #fef6fb;\n",
       "            color:  #000000;\n",
       "        }    #T_e3181eb4_4ccb_11ea_abe8_0c5415364605row46_col2 {\n",
       "            background-color:  #fff7fb;\n",
       "            color:  #000000;\n",
       "        }    #T_e3181eb4_4ccb_11ea_abe8_0c5415364605row46_col3 {\n",
       "            background-color:  #f8f1f8;\n",
       "            color:  #000000;\n",
       "        }    #T_e3181eb4_4ccb_11ea_abe8_0c5415364605row46_col4 {\n",
       "            background-color:  #faf3f9;\n",
       "            color:  #000000;\n",
       "        }    #T_e3181eb4_4ccb_11ea_abe8_0c5415364605row46_col5 {\n",
       "            background-color:  #fcf4fa;\n",
       "            color:  #000000;\n",
       "        }    #T_e3181eb4_4ccb_11ea_abe8_0c5415364605row46_col6 {\n",
       "            background-color:  #f0eaf4;\n",
       "            color:  #000000;\n",
       "        }    #T_e3181eb4_4ccb_11ea_abe8_0c5415364605row46_col7 {\n",
       "            background-color:  #fbf4f9;\n",
       "            color:  #000000;\n",
       "        }    #T_e3181eb4_4ccb_11ea_abe8_0c5415364605row46_col8 {\n",
       "            background-color:  #fbf4f9;\n",
       "            color:  #000000;\n",
       "        }    #T_e3181eb4_4ccb_11ea_abe8_0c5415364605row46_col9 {\n",
       "            background-color:  #fdf5fa;\n",
       "            color:  #000000;\n",
       "        }    #T_e3181eb4_4ccb_11ea_abe8_0c5415364605row46_col10 {\n",
       "            background-color:  #fbf3f9;\n",
       "            color:  #000000;\n",
       "        }    #T_e3181eb4_4ccb_11ea_abe8_0c5415364605row46_col11 {\n",
       "            background-color:  #fef6fa;\n",
       "            color:  #000000;\n",
       "        }    #T_e3181eb4_4ccb_11ea_abe8_0c5415364605row46_col12 {\n",
       "            background-color:  #fdf5fa;\n",
       "            color:  #000000;\n",
       "        }    #T_e3181eb4_4ccb_11ea_abe8_0c5415364605row46_col13 {\n",
       "            background-color:  #fff7fb;\n",
       "            color:  #000000;\n",
       "        }    #T_e3181eb4_4ccb_11ea_abe8_0c5415364605row46_col14 {\n",
       "            background-color:  #fbf4f9;\n",
       "            color:  #000000;\n",
       "        }    #T_e3181eb4_4ccb_11ea_abe8_0c5415364605row46_col15 {\n",
       "            background-color:  #fef6fa;\n",
       "            color:  #000000;\n",
       "        }    #T_e3181eb4_4ccb_11ea_abe8_0c5415364605row46_col16 {\n",
       "            background-color:  #fcf4fa;\n",
       "            color:  #000000;\n",
       "        }    #T_e3181eb4_4ccb_11ea_abe8_0c5415364605row46_col17 {\n",
       "            background-color:  #fbf4f9;\n",
       "            color:  #000000;\n",
       "        }    #T_e3181eb4_4ccb_11ea_abe8_0c5415364605row46_col18 {\n",
       "            background-color:  #fbf3f9;\n",
       "            color:  #000000;\n",
       "        }    #T_e3181eb4_4ccb_11ea_abe8_0c5415364605row46_col19 {\n",
       "            background-color:  #fbf4f9;\n",
       "            color:  #000000;\n",
       "        }    #T_e3181eb4_4ccb_11ea_abe8_0c5415364605row46_col20 {\n",
       "            background-color:  #fbf4f9;\n",
       "            color:  #000000;\n",
       "        }    #T_e3181eb4_4ccb_11ea_abe8_0c5415364605row46_col21 {\n",
       "            background-color:  #fcf4fa;\n",
       "            color:  #000000;\n",
       "        }    #T_e3181eb4_4ccb_11ea_abe8_0c5415364605row46_col22 {\n",
       "            background-color:  #fbf4f9;\n",
       "            color:  #000000;\n",
       "        }    #T_e3181eb4_4ccb_11ea_abe8_0c5415364605row46_col23 {\n",
       "            background-color:  #fbf4f9;\n",
       "            color:  #000000;\n",
       "        }    #T_e3181eb4_4ccb_11ea_abe8_0c5415364605row46_col24 {\n",
       "            background-color:  #fbf4f9;\n",
       "            color:  #000000;\n",
       "        }    #T_e3181eb4_4ccb_11ea_abe8_0c5415364605row46_col25 {\n",
       "            background-color:  #fbf4f9;\n",
       "            color:  #000000;\n",
       "        }    #T_e3181eb4_4ccb_11ea_abe8_0c5415364605row46_col26 {\n",
       "            background-color:  #fbf3f9;\n",
       "            color:  #000000;\n",
       "        }    #T_e3181eb4_4ccb_11ea_abe8_0c5415364605row46_col27 {\n",
       "            background-color:  #f9f2f8;\n",
       "            color:  #000000;\n",
       "        }    #T_e3181eb4_4ccb_11ea_abe8_0c5415364605row46_col28 {\n",
       "            background-color:  #f2ecf5;\n",
       "            color:  #000000;\n",
       "        }    #T_e3181eb4_4ccb_11ea_abe8_0c5415364605row46_col29 {\n",
       "            background-color:  #faf3f9;\n",
       "            color:  #000000;\n",
       "        }    #T_e3181eb4_4ccb_11ea_abe8_0c5415364605row47_col0 {\n",
       "            background-color:  #fff7fb;\n",
       "            color:  #000000;\n",
       "        }    #T_e3181eb4_4ccb_11ea_abe8_0c5415364605row47_col1 {\n",
       "            background-color:  #fff7fb;\n",
       "            color:  #000000;\n",
       "        }    #T_e3181eb4_4ccb_11ea_abe8_0c5415364605row47_col2 {\n",
       "            background-color:  #fcf4fa;\n",
       "            color:  #000000;\n",
       "        }    #T_e3181eb4_4ccb_11ea_abe8_0c5415364605row47_col3 {\n",
       "            background-color:  #f7f0f7;\n",
       "            color:  #000000;\n",
       "        }    #T_e3181eb4_4ccb_11ea_abe8_0c5415364605row47_col4 {\n",
       "            background-color:  #f8f1f8;\n",
       "            color:  #000000;\n",
       "        }    #T_e3181eb4_4ccb_11ea_abe8_0c5415364605row47_col5 {\n",
       "            background-color:  #f9f2f8;\n",
       "            color:  #000000;\n",
       "        }    #T_e3181eb4_4ccb_11ea_abe8_0c5415364605row47_col6 {\n",
       "            background-color:  #f6eff7;\n",
       "            color:  #000000;\n",
       "        }    #T_e3181eb4_4ccb_11ea_abe8_0c5415364605row47_col7 {\n",
       "            background-color:  #fff7fb;\n",
       "            color:  #000000;\n",
       "        }    #T_e3181eb4_4ccb_11ea_abe8_0c5415364605row47_col8 {\n",
       "            background-color:  #fff7fb;\n",
       "            color:  #000000;\n",
       "        }    #T_e3181eb4_4ccb_11ea_abe8_0c5415364605row47_col9 {\n",
       "            background-color:  #fef6fb;\n",
       "            color:  #000000;\n",
       "        }    #T_e3181eb4_4ccb_11ea_abe8_0c5415364605row47_col10 {\n",
       "            background-color:  #fdf5fa;\n",
       "            color:  #000000;\n",
       "        }    #T_e3181eb4_4ccb_11ea_abe8_0c5415364605row47_col11 {\n",
       "            background-color:  #fef6fb;\n",
       "            color:  #000000;\n",
       "        }    #T_e3181eb4_4ccb_11ea_abe8_0c5415364605row47_col12 {\n",
       "            background-color:  #fff7fb;\n",
       "            color:  #000000;\n",
       "        }    #T_e3181eb4_4ccb_11ea_abe8_0c5415364605row47_col13 {\n",
       "            background-color:  #fff7fb;\n",
       "            color:  #000000;\n",
       "        }    #T_e3181eb4_4ccb_11ea_abe8_0c5415364605row47_col14 {\n",
       "            background-color:  #fef6fb;\n",
       "            color:  #000000;\n",
       "        }    #T_e3181eb4_4ccb_11ea_abe8_0c5415364605row47_col15 {\n",
       "            background-color:  #fdf5fa;\n",
       "            color:  #000000;\n",
       "        }    #T_e3181eb4_4ccb_11ea_abe8_0c5415364605row47_col16 {\n",
       "            background-color:  #fbf4f9;\n",
       "            color:  #000000;\n",
       "        }    #T_e3181eb4_4ccb_11ea_abe8_0c5415364605row47_col17 {\n",
       "            background-color:  #f9f2f8;\n",
       "            color:  #000000;\n",
       "        }    #T_e3181eb4_4ccb_11ea_abe8_0c5415364605row47_col18 {\n",
       "            background-color:  #fff7fb;\n",
       "            color:  #000000;\n",
       "        }    #T_e3181eb4_4ccb_11ea_abe8_0c5415364605row47_col19 {\n",
       "            background-color:  #fcf4fa;\n",
       "            color:  #000000;\n",
       "        }    #T_e3181eb4_4ccb_11ea_abe8_0c5415364605row47_col20 {\n",
       "            background-color:  #fef6fa;\n",
       "            color:  #000000;\n",
       "        }    #T_e3181eb4_4ccb_11ea_abe8_0c5415364605row47_col21 {\n",
       "            background-color:  #fdf5fa;\n",
       "            color:  #000000;\n",
       "        }    #T_e3181eb4_4ccb_11ea_abe8_0c5415364605row47_col22 {\n",
       "            background-color:  #fdf5fa;\n",
       "            color:  #000000;\n",
       "        }    #T_e3181eb4_4ccb_11ea_abe8_0c5415364605row47_col23 {\n",
       "            background-color:  #fdf5fa;\n",
       "            color:  #000000;\n",
       "        }    #T_e3181eb4_4ccb_11ea_abe8_0c5415364605row47_col24 {\n",
       "            background-color:  #fdf5fa;\n",
       "            color:  #000000;\n",
       "        }    #T_e3181eb4_4ccb_11ea_abe8_0c5415364605row47_col25 {\n",
       "            background-color:  #fdf5fa;\n",
       "            color:  #000000;\n",
       "        }    #T_e3181eb4_4ccb_11ea_abe8_0c5415364605row47_col26 {\n",
       "            background-color:  #fdf5fa;\n",
       "            color:  #000000;\n",
       "        }    #T_e3181eb4_4ccb_11ea_abe8_0c5415364605row47_col27 {\n",
       "            background-color:  #fcf4fa;\n",
       "            color:  #000000;\n",
       "        }    #T_e3181eb4_4ccb_11ea_abe8_0c5415364605row47_col28 {\n",
       "            background-color:  #fbf4f9;\n",
       "            color:  #000000;\n",
       "        }    #T_e3181eb4_4ccb_11ea_abe8_0c5415364605row47_col29 {\n",
       "            background-color:  #fbf4f9;\n",
       "            color:  #000000;\n",
       "        }    #T_e3181eb4_4ccb_11ea_abe8_0c5415364605row48_col0 {\n",
       "            background-color:  #f5eef6;\n",
       "            color:  #000000;\n",
       "        }    #T_e3181eb4_4ccb_11ea_abe8_0c5415364605row48_col1 {\n",
       "            background-color:  #fff7fb;\n",
       "            color:  #000000;\n",
       "        }    #T_e3181eb4_4ccb_11ea_abe8_0c5415364605row48_col2 {\n",
       "            background-color:  #fdf5fa;\n",
       "            color:  #000000;\n",
       "        }    #T_e3181eb4_4ccb_11ea_abe8_0c5415364605row48_col3 {\n",
       "            background-color:  #fbf3f9;\n",
       "            color:  #000000;\n",
       "        }    #T_e3181eb4_4ccb_11ea_abe8_0c5415364605row48_col4 {\n",
       "            background-color:  #f9f2f8;\n",
       "            color:  #000000;\n",
       "        }    #T_e3181eb4_4ccb_11ea_abe8_0c5415364605row48_col5 {\n",
       "            background-color:  #faf3f9;\n",
       "            color:  #000000;\n",
       "        }    #T_e3181eb4_4ccb_11ea_abe8_0c5415364605row48_col6 {\n",
       "            background-color:  #f8f1f8;\n",
       "            color:  #000000;\n",
       "        }    #T_e3181eb4_4ccb_11ea_abe8_0c5415364605row48_col7 {\n",
       "            background-color:  #fff7fb;\n",
       "            color:  #000000;\n",
       "        }    #T_e3181eb4_4ccb_11ea_abe8_0c5415364605row48_col8 {\n",
       "            background-color:  #fef6fa;\n",
       "            color:  #000000;\n",
       "        }    #T_e3181eb4_4ccb_11ea_abe8_0c5415364605row48_col9 {\n",
       "            background-color:  #fef6fa;\n",
       "            color:  #000000;\n",
       "        }    #T_e3181eb4_4ccb_11ea_abe8_0c5415364605row48_col10 {\n",
       "            background-color:  #f8f1f8;\n",
       "            color:  #000000;\n",
       "        }    #T_e3181eb4_4ccb_11ea_abe8_0c5415364605row48_col11 {\n",
       "            background-color:  #fdf5fa;\n",
       "            color:  #000000;\n",
       "        }    #T_e3181eb4_4ccb_11ea_abe8_0c5415364605row48_col12 {\n",
       "            background-color:  #fcf4fa;\n",
       "            color:  #000000;\n",
       "        }    #T_e3181eb4_4ccb_11ea_abe8_0c5415364605row48_col13 {\n",
       "            background-color:  #fef6fb;\n",
       "            color:  #000000;\n",
       "        }    #T_e3181eb4_4ccb_11ea_abe8_0c5415364605row48_col14 {\n",
       "            background-color:  #f7f0f7;\n",
       "            color:  #000000;\n",
       "        }    #T_e3181eb4_4ccb_11ea_abe8_0c5415364605row48_col15 {\n",
       "            background-color:  #f8f1f8;\n",
       "            color:  #000000;\n",
       "        }    #T_e3181eb4_4ccb_11ea_abe8_0c5415364605row48_col16 {\n",
       "            background-color:  #f7f0f7;\n",
       "            color:  #000000;\n",
       "        }    #T_e3181eb4_4ccb_11ea_abe8_0c5415364605row48_col17 {\n",
       "            background-color:  #f8f1f8;\n",
       "            color:  #000000;\n",
       "        }    #T_e3181eb4_4ccb_11ea_abe8_0c5415364605row48_col18 {\n",
       "            background-color:  #fbf4f9;\n",
       "            color:  #000000;\n",
       "        }    #T_e3181eb4_4ccb_11ea_abe8_0c5415364605row48_col19 {\n",
       "            background-color:  #faf2f8;\n",
       "            color:  #000000;\n",
       "        }    #T_e3181eb4_4ccb_11ea_abe8_0c5415364605row48_col20 {\n",
       "            background-color:  #f9f2f8;\n",
       "            color:  #000000;\n",
       "        }    #T_e3181eb4_4ccb_11ea_abe8_0c5415364605row48_col21 {\n",
       "            background-color:  #f6eff7;\n",
       "            color:  #000000;\n",
       "        }    #T_e3181eb4_4ccb_11ea_abe8_0c5415364605row48_col22 {\n",
       "            background-color:  #f7f0f7;\n",
       "            color:  #000000;\n",
       "        }    #T_e3181eb4_4ccb_11ea_abe8_0c5415364605row48_col23 {\n",
       "            background-color:  #f8f1f8;\n",
       "            color:  #000000;\n",
       "        }    #T_e3181eb4_4ccb_11ea_abe8_0c5415364605row48_col24 {\n",
       "            background-color:  #f7f0f7;\n",
       "            color:  #000000;\n",
       "        }    #T_e3181eb4_4ccb_11ea_abe8_0c5415364605row48_col25 {\n",
       "            background-color:  #f8f1f8;\n",
       "            color:  #000000;\n",
       "        }    #T_e3181eb4_4ccb_11ea_abe8_0c5415364605row48_col26 {\n",
       "            background-color:  #f7f0f7;\n",
       "            color:  #000000;\n",
       "        }    #T_e3181eb4_4ccb_11ea_abe8_0c5415364605row48_col27 {\n",
       "            background-color:  #f7f0f7;\n",
       "            color:  #000000;\n",
       "        }    #T_e3181eb4_4ccb_11ea_abe8_0c5415364605row48_col28 {\n",
       "            background-color:  #f8f1f8;\n",
       "            color:  #000000;\n",
       "        }    #T_e3181eb4_4ccb_11ea_abe8_0c5415364605row48_col29 {\n",
       "            background-color:  #fbf3f9;\n",
       "            color:  #000000;\n",
       "        }    #T_e3181eb4_4ccb_11ea_abe8_0c5415364605row49_col0 {\n",
       "            background-color:  #fff7fb;\n",
       "            color:  #000000;\n",
       "        }    #T_e3181eb4_4ccb_11ea_abe8_0c5415364605row49_col1 {\n",
       "            background-color:  #fff7fb;\n",
       "            color:  #000000;\n",
       "        }    #T_e3181eb4_4ccb_11ea_abe8_0c5415364605row49_col2 {\n",
       "            background-color:  #fbf3f9;\n",
       "            color:  #000000;\n",
       "        }    #T_e3181eb4_4ccb_11ea_abe8_0c5415364605row49_col3 {\n",
       "            background-color:  #f0eaf4;\n",
       "            color:  #000000;\n",
       "        }    #T_e3181eb4_4ccb_11ea_abe8_0c5415364605row49_col4 {\n",
       "            background-color:  #f7f0f7;\n",
       "            color:  #000000;\n",
       "        }    #T_e3181eb4_4ccb_11ea_abe8_0c5415364605row49_col5 {\n",
       "            background-color:  #f7f0f7;\n",
       "            color:  #000000;\n",
       "        }    #T_e3181eb4_4ccb_11ea_abe8_0c5415364605row49_col6 {\n",
       "            background-color:  #f6eff7;\n",
       "            color:  #000000;\n",
       "        }    #T_e3181eb4_4ccb_11ea_abe8_0c5415364605row49_col7 {\n",
       "            background-color:  #fef6fa;\n",
       "            color:  #000000;\n",
       "        }    #T_e3181eb4_4ccb_11ea_abe8_0c5415364605row49_col8 {\n",
       "            background-color:  #fff7fb;\n",
       "            color:  #000000;\n",
       "        }    #T_e3181eb4_4ccb_11ea_abe8_0c5415364605row49_col9 {\n",
       "            background-color:  #fdf5fa;\n",
       "            color:  #000000;\n",
       "        }    #T_e3181eb4_4ccb_11ea_abe8_0c5415364605row49_col10 {\n",
       "            background-color:  #f9f2f8;\n",
       "            color:  #000000;\n",
       "        }    #T_e3181eb4_4ccb_11ea_abe8_0c5415364605row49_col11 {\n",
       "            background-color:  #fef6fb;\n",
       "            color:  #000000;\n",
       "        }    #T_e3181eb4_4ccb_11ea_abe8_0c5415364605row49_col12 {\n",
       "            background-color:  #fef6fa;\n",
       "            color:  #000000;\n",
       "        }    #T_e3181eb4_4ccb_11ea_abe8_0c5415364605row49_col13 {\n",
       "            background-color:  #fef6fb;\n",
       "            color:  #000000;\n",
       "        }    #T_e3181eb4_4ccb_11ea_abe8_0c5415364605row49_col14 {\n",
       "            background-color:  #fef6fb;\n",
       "            color:  #000000;\n",
       "        }    #T_e3181eb4_4ccb_11ea_abe8_0c5415364605row49_col15 {\n",
       "            background-color:  #fdf5fa;\n",
       "            color:  #000000;\n",
       "        }    #T_e3181eb4_4ccb_11ea_abe8_0c5415364605row49_col16 {\n",
       "            background-color:  #fef6fa;\n",
       "            color:  #000000;\n",
       "        }    #T_e3181eb4_4ccb_11ea_abe8_0c5415364605row49_col17 {\n",
       "            background-color:  #fdf5fa;\n",
       "            color:  #000000;\n",
       "        }    #T_e3181eb4_4ccb_11ea_abe8_0c5415364605row49_col18 {\n",
       "            background-color:  #f8f1f8;\n",
       "            color:  #000000;\n",
       "        }    #T_e3181eb4_4ccb_11ea_abe8_0c5415364605row49_col19 {\n",
       "            background-color:  #f5eff6;\n",
       "            color:  #000000;\n",
       "        }    #T_e3181eb4_4ccb_11ea_abe8_0c5415364605row49_col20 {\n",
       "            background-color:  #faf2f8;\n",
       "            color:  #000000;\n",
       "        }    #T_e3181eb4_4ccb_11ea_abe8_0c5415364605row49_col21 {\n",
       "            background-color:  #f4eef6;\n",
       "            color:  #000000;\n",
       "        }    #T_e3181eb4_4ccb_11ea_abe8_0c5415364605row49_col22 {\n",
       "            background-color:  #f1ebf5;\n",
       "            color:  #000000;\n",
       "        }    #T_e3181eb4_4ccb_11ea_abe8_0c5415364605row49_col23 {\n",
       "            background-color:  #f2ecf5;\n",
       "            color:  #000000;\n",
       "        }    #T_e3181eb4_4ccb_11ea_abe8_0c5415364605row49_col24 {\n",
       "            background-color:  #f1ebf4;\n",
       "            color:  #000000;\n",
       "        }    #T_e3181eb4_4ccb_11ea_abe8_0c5415364605row49_col25 {\n",
       "            background-color:  #f1ebf5;\n",
       "            color:  #000000;\n",
       "        }    #T_e3181eb4_4ccb_11ea_abe8_0c5415364605row49_col26 {\n",
       "            background-color:  #f2ecf5;\n",
       "            color:  #000000;\n",
       "        }    #T_e3181eb4_4ccb_11ea_abe8_0c5415364605row49_col27 {\n",
       "            background-color:  #f5eef6;\n",
       "            color:  #000000;\n",
       "        }    #T_e3181eb4_4ccb_11ea_abe8_0c5415364605row49_col28 {\n",
       "            background-color:  #f2ecf5;\n",
       "            color:  #000000;\n",
       "        }    #T_e3181eb4_4ccb_11ea_abe8_0c5415364605row49_col29 {\n",
       "            background-color:  #fff7fb;\n",
       "            color:  #000000;\n",
       "        }</style><table id=\"T_e3181eb4_4ccb_11ea_abe8_0c5415364605\" ><thead>    <tr>        <th class=\"blank level0\" ></th>        <th class=\"col_heading level0 col0\" >NBkilder_Amundsen_Slededagbok.xml</th>        <th class=\"col_heading level0 col1\" >NBkilder_Collett_Brev_1841-51.xml</th>        <th class=\"col_heading level0 col2\" >NBkilder_Collett_Brev_1852-63.xml</th>        <th class=\"col_heading level0 col3\" >NBkilder_Collett_Brev_til_Bjornson.xml</th>        <th class=\"col_heading level0 col4\" >NBkilder_Collett_Brev_til_Ibsen.xml</th>        <th class=\"col_heading level0 col5\" >NBkilder_Collett_Brev_til_Lie.xml</th>        <th class=\"col_heading level0 col6\" >NBkilder_Collett_Skildpadde.xml</th>        <th class=\"col_heading level0 col7\" >NBkilder_Dardel_Voyage.xml</th>        <th class=\"col_heading level0 col8\" >NBkilder_Grunnlovskilder1814.xml</th>        <th class=\"col_heading level0 col9\" >NBkilder_Kjerulf_1833.xml</th>        <th class=\"col_heading level0 col10\" >NBkilder_Kjerulf_1840.xml</th>        <th class=\"col_heading level0 col11\" >NBkilder_Kjerulf_1850.xml</th>        <th class=\"col_heading level0 col12\" >NBkilder_Kjerulf_1851.xml</th>        <th class=\"col_heading level0 col13\" >NBkilder_Kjerulf_1852.xml</th>        <th class=\"col_heading level0 col14\" >NBkilder_Kjerulf_1854.xml</th>        <th class=\"col_heading level0 col15\" >NBkilder_KKielland_AGarborg_brev.xml</th>        <th class=\"col_heading level0 col16\" >NBkilder_KKielland_DSkavlan_brev.xml</th>        <th class=\"col_heading level0 col17\" >NBkilder_KKielland_EPeterssen_brev.xml</th>        <th class=\"col_heading level0 col18\" >NBkilder_Koren_1798.xml</th>        <th class=\"col_heading level0 col19\" >NBkilder_Koren_1802.xml</th>        <th class=\"col_heading level0 col20\" >NBkilder_Koren_1805.xml</th>        <th class=\"col_heading level0 col21\" >NBkilder_Koren_1808.xml</th>        <th class=\"col_heading level0 col22\" >NBkilder_Koren_1809.xml</th>        <th class=\"col_heading level0 col23\" >NBkilder_Koren_1810.xml</th>        <th class=\"col_heading level0 col24\" >NBkilder_Koren_1811.xml</th>        <th class=\"col_heading level0 col25\" >NBkilder_Koren_1812.xml</th>        <th class=\"col_heading level0 col26\" >NBkilder_Koren_1813.xml</th>        <th class=\"col_heading level0 col27\" >NBkilder_Koren_1814.xml</th>        <th class=\"col_heading level0 col28\" >NBkilder_Koren_1815.xml</th>        <th class=\"col_heading level0 col29\" >NBkilder_Undset_Fragmenter.xml</th>    </tr></thead><tbody>\n",
       "                <tr>\n",
       "                        <th id=\"T_e3181eb4_4ccb_11ea_abe8_0c5415364605level0_row0\" class=\"row_heading level0 row0\" >,</th>\n",
       "                        <td id=\"T_e3181eb4_4ccb_11ea_abe8_0c5415364605row0_col0\" class=\"data row0 col0\" >590</td>\n",
       "                        <td id=\"T_e3181eb4_4ccb_11ea_abe8_0c5415364605row0_col1\" class=\"data row0 col1\" >1849</td>\n",
       "                        <td id=\"T_e3181eb4_4ccb_11ea_abe8_0c5415364605row0_col2\" class=\"data row0 col2\" >4098</td>\n",
       "                        <td id=\"T_e3181eb4_4ccb_11ea_abe8_0c5415364605row0_col3\" class=\"data row0 col3\" >143</td>\n",
       "                        <td id=\"T_e3181eb4_4ccb_11ea_abe8_0c5415364605row0_col4\" class=\"data row0 col4\" >723</td>\n",
       "                        <td id=\"T_e3181eb4_4ccb_11ea_abe8_0c5415364605row0_col5\" class=\"data row0 col5\" >749</td>\n",
       "                        <td id=\"T_e3181eb4_4ccb_11ea_abe8_0c5415364605row0_col6\" class=\"data row0 col6\" >767</td>\n",
       "                        <td id=\"T_e3181eb4_4ccb_11ea_abe8_0c5415364605row0_col7\" class=\"data row0 col7\" >3820</td>\n",
       "                        <td id=\"T_e3181eb4_4ccb_11ea_abe8_0c5415364605row0_col8\" class=\"data row0 col8\" >886</td>\n",
       "                        <td id=\"T_e3181eb4_4ccb_11ea_abe8_0c5415364605row0_col9\" class=\"data row0 col9\" >133</td>\n",
       "                        <td id=\"T_e3181eb4_4ccb_11ea_abe8_0c5415364605row0_col10\" class=\"data row0 col10\" >475</td>\n",
       "                        <td id=\"T_e3181eb4_4ccb_11ea_abe8_0c5415364605row0_col11\" class=\"data row0 col11\" >1414</td>\n",
       "                        <td id=\"T_e3181eb4_4ccb_11ea_abe8_0c5415364605row0_col12\" class=\"data row0 col12\" >595</td>\n",
       "                        <td id=\"T_e3181eb4_4ccb_11ea_abe8_0c5415364605row0_col13\" class=\"data row0 col13\" >130</td>\n",
       "                        <td id=\"T_e3181eb4_4ccb_11ea_abe8_0c5415364605row0_col14\" class=\"data row0 col14\" >186</td>\n",
       "                        <td id=\"T_e3181eb4_4ccb_11ea_abe8_0c5415364605row0_col15\" class=\"data row0 col15\" >3285</td>\n",
       "                        <td id=\"T_e3181eb4_4ccb_11ea_abe8_0c5415364605row0_col16\" class=\"data row0 col16\" >1732</td>\n",
       "                        <td id=\"T_e3181eb4_4ccb_11ea_abe8_0c5415364605row0_col17\" class=\"data row0 col17\" >3062</td>\n",
       "                        <td id=\"T_e3181eb4_4ccb_11ea_abe8_0c5415364605row0_col18\" class=\"data row0 col18\" >586</td>\n",
       "                        <td id=\"T_e3181eb4_4ccb_11ea_abe8_0c5415364605row0_col19\" class=\"data row0 col19\" >5876</td>\n",
       "                        <td id=\"T_e3181eb4_4ccb_11ea_abe8_0c5415364605row0_col20\" class=\"data row0 col20\" >457</td>\n",
       "                        <td id=\"T_e3181eb4_4ccb_11ea_abe8_0c5415364605row0_col21\" class=\"data row0 col21\" >10101</td>\n",
       "                        <td id=\"T_e3181eb4_4ccb_11ea_abe8_0c5415364605row0_col22\" class=\"data row0 col22\" >10002</td>\n",
       "                        <td id=\"T_e3181eb4_4ccb_11ea_abe8_0c5415364605row0_col23\" class=\"data row0 col23\" >12681</td>\n",
       "                        <td id=\"T_e3181eb4_4ccb_11ea_abe8_0c5415364605row0_col24\" class=\"data row0 col24\" >12024</td>\n",
       "                        <td id=\"T_e3181eb4_4ccb_11ea_abe8_0c5415364605row0_col25\" class=\"data row0 col25\" >15671</td>\n",
       "                        <td id=\"T_e3181eb4_4ccb_11ea_abe8_0c5415364605row0_col26\" class=\"data row0 col26\" >13109</td>\n",
       "                        <td id=\"T_e3181eb4_4ccb_11ea_abe8_0c5415364605row0_col27\" class=\"data row0 col27\" >3563</td>\n",
       "                        <td id=\"T_e3181eb4_4ccb_11ea_abe8_0c5415364605row0_col28\" class=\"data row0 col28\" >412</td>\n",
       "                        <td id=\"T_e3181eb4_4ccb_11ea_abe8_0c5415364605row0_col29\" class=\"data row0 col29\" >610</td>\n",
       "            </tr>\n",
       "            <tr>\n",
       "                        <th id=\"T_e3181eb4_4ccb_11ea_abe8_0c5415364605level0_row1\" class=\"row_heading level0 row1\" >.</th>\n",
       "                        <td id=\"T_e3181eb4_4ccb_11ea_abe8_0c5415364605row1_col0\" class=\"data row1 col0\" >2439</td>\n",
       "                        <td id=\"T_e3181eb4_4ccb_11ea_abe8_0c5415364605row1_col1\" class=\"data row1 col1\" >1469</td>\n",
       "                        <td id=\"T_e3181eb4_4ccb_11ea_abe8_0c5415364605row1_col2\" class=\"data row1 col2\" >2538</td>\n",
       "                        <td id=\"T_e3181eb4_4ccb_11ea_abe8_0c5415364605row1_col3\" class=\"data row1 col3\" >99</td>\n",
       "                        <td id=\"T_e3181eb4_4ccb_11ea_abe8_0c5415364605row1_col4\" class=\"data row1 col4\" >523</td>\n",
       "                        <td id=\"T_e3181eb4_4ccb_11ea_abe8_0c5415364605row1_col5\" class=\"data row1 col5\" >475</td>\n",
       "                        <td id=\"T_e3181eb4_4ccb_11ea_abe8_0c5415364605row1_col6\" class=\"data row1 col6\" >484</td>\n",
       "                        <td id=\"T_e3181eb4_4ccb_11ea_abe8_0c5415364605row1_col7\" class=\"data row1 col7\" >2691</td>\n",
       "                        <td id=\"T_e3181eb4_4ccb_11ea_abe8_0c5415364605row1_col8\" class=\"data row1 col8\" >873</td>\n",
       "                        <td id=\"T_e3181eb4_4ccb_11ea_abe8_0c5415364605row1_col9\" class=\"data row1 col9\" >245</td>\n",
       "                        <td id=\"T_e3181eb4_4ccb_11ea_abe8_0c5415364605row1_col10\" class=\"data row1 col10\" >515</td>\n",
       "                        <td id=\"T_e3181eb4_4ccb_11ea_abe8_0c5415364605row1_col11\" class=\"data row1 col11\" >5443</td>\n",
       "                        <td id=\"T_e3181eb4_4ccb_11ea_abe8_0c5415364605row1_col12\" class=\"data row1 col12\" >2607</td>\n",
       "                        <td id=\"T_e3181eb4_4ccb_11ea_abe8_0c5415364605row1_col13\" class=\"data row1 col13\" >1733</td>\n",
       "                        <td id=\"T_e3181eb4_4ccb_11ea_abe8_0c5415364605row1_col14\" class=\"data row1 col14\" >1180</td>\n",
       "                        <td id=\"T_e3181eb4_4ccb_11ea_abe8_0c5415364605row1_col15\" class=\"data row1 col15\" >1824</td>\n",
       "                        <td id=\"T_e3181eb4_4ccb_11ea_abe8_0c5415364605row1_col16\" class=\"data row1 col16\" >877</td>\n",
       "                        <td id=\"T_e3181eb4_4ccb_11ea_abe8_0c5415364605row1_col17\" class=\"data row1 col17\" >1582</td>\n",
       "                        <td id=\"T_e3181eb4_4ccb_11ea_abe8_0c5415364605row1_col18\" class=\"data row1 col18\" >257</td>\n",
       "                        <td id=\"T_e3181eb4_4ccb_11ea_abe8_0c5415364605row1_col19\" class=\"data row1 col19\" >2212</td>\n",
       "                        <td id=\"T_e3181eb4_4ccb_11ea_abe8_0c5415364605row1_col20\" class=\"data row1 col20\" >156</td>\n",
       "                        <td id=\"T_e3181eb4_4ccb_11ea_abe8_0c5415364605row1_col21\" class=\"data row1 col21\" >3712</td>\n",
       "                        <td id=\"T_e3181eb4_4ccb_11ea_abe8_0c5415364605row1_col22\" class=\"data row1 col22\" >3364</td>\n",
       "                        <td id=\"T_e3181eb4_4ccb_11ea_abe8_0c5415364605row1_col23\" class=\"data row1 col23\" >5106</td>\n",
       "                        <td id=\"T_e3181eb4_4ccb_11ea_abe8_0c5415364605row1_col24\" class=\"data row1 col24\" >4263</td>\n",
       "                        <td id=\"T_e3181eb4_4ccb_11ea_abe8_0c5415364605row1_col25\" class=\"data row1 col25\" >5713</td>\n",
       "                        <td id=\"T_e3181eb4_4ccb_11ea_abe8_0c5415364605row1_col26\" class=\"data row1 col26\" >5575</td>\n",
       "                        <td id=\"T_e3181eb4_4ccb_11ea_abe8_0c5415364605row1_col27\" class=\"data row1 col27\" >1539</td>\n",
       "                        <td id=\"T_e3181eb4_4ccb_11ea_abe8_0c5415364605row1_col28\" class=\"data row1 col28\" >127</td>\n",
       "                        <td id=\"T_e3181eb4_4ccb_11ea_abe8_0c5415364605row1_col29\" class=\"data row1 col29\" >464</td>\n",
       "            </tr>\n",
       "            <tr>\n",
       "                        <th id=\"T_e3181eb4_4ccb_11ea_abe8_0c5415364605level0_row2\" class=\"row_heading level0 row2\" >og</th>\n",
       "                        <td id=\"T_e3181eb4_4ccb_11ea_abe8_0c5415364605row2_col0\" class=\"data row2 col0\" >119</td>\n",
       "                        <td id=\"T_e3181eb4_4ccb_11ea_abe8_0c5415364605row2_col1\" class=\"data row2 col1\" >957</td>\n",
       "                        <td id=\"T_e3181eb4_4ccb_11ea_abe8_0c5415364605row2_col2\" class=\"data row2 col2\" >1922</td>\n",
       "                        <td id=\"T_e3181eb4_4ccb_11ea_abe8_0c5415364605row2_col3\" class=\"data row2 col3\" >49</td>\n",
       "                        <td id=\"T_e3181eb4_4ccb_11ea_abe8_0c5415364605row2_col4\" class=\"data row2 col4\" >256</td>\n",
       "                        <td id=\"T_e3181eb4_4ccb_11ea_abe8_0c5415364605row2_col5\" class=\"data row2 col5\" >237</td>\n",
       "                        <td id=\"T_e3181eb4_4ccb_11ea_abe8_0c5415364605row2_col6\" class=\"data row2 col6\" >461</td>\n",
       "                        <td id=\"T_e3181eb4_4ccb_11ea_abe8_0c5415364605row2_col7\" class=\"data row2 col7\" >1263</td>\n",
       "                        <td id=\"T_e3181eb4_4ccb_11ea_abe8_0c5415364605row2_col8\" class=\"data row2 col8\" >510</td>\n",
       "                        <td id=\"T_e3181eb4_4ccb_11ea_abe8_0c5415364605row2_col9\" class=\"data row2 col9\" >52</td>\n",
       "                        <td id=\"T_e3181eb4_4ccb_11ea_abe8_0c5415364605row2_col10\" class=\"data row2 col10\" >688</td>\n",
       "                        <td id=\"T_e3181eb4_4ccb_11ea_abe8_0c5415364605row2_col11\" class=\"data row2 col11\" >2042</td>\n",
       "                        <td id=\"T_e3181eb4_4ccb_11ea_abe8_0c5415364605row2_col12\" class=\"data row2 col12\" >976</td>\n",
       "                        <td id=\"T_e3181eb4_4ccb_11ea_abe8_0c5415364605row2_col13\" class=\"data row2 col13\" >257</td>\n",
       "                        <td id=\"T_e3181eb4_4ccb_11ea_abe8_0c5415364605row2_col14\" class=\"data row2 col14\" >457</td>\n",
       "                        <td id=\"T_e3181eb4_4ccb_11ea_abe8_0c5415364605row2_col15\" class=\"data row2 col15\" >963</td>\n",
       "                        <td id=\"T_e3181eb4_4ccb_11ea_abe8_0c5415364605row2_col16\" class=\"data row2 col16\" >539</td>\n",
       "                        <td id=\"T_e3181eb4_4ccb_11ea_abe8_0c5415364605row2_col17\" class=\"data row2 col17\" >800</td>\n",
       "                        <td id=\"T_e3181eb4_4ccb_11ea_abe8_0c5415364605row2_col18\" class=\"data row2 col18\" >252</td>\n",
       "                        <td id=\"T_e3181eb4_4ccb_11ea_abe8_0c5415364605row2_col19\" class=\"data row2 col19\" >1800</td>\n",
       "                        <td id=\"T_e3181eb4_4ccb_11ea_abe8_0c5415364605row2_col20\" class=\"data row2 col20\" >159</td>\n",
       "                        <td id=\"T_e3181eb4_4ccb_11ea_abe8_0c5415364605row2_col21\" class=\"data row2 col21\" >3443</td>\n",
       "                        <td id=\"T_e3181eb4_4ccb_11ea_abe8_0c5415364605row2_col22\" class=\"data row2 col22\" >3782</td>\n",
       "                        <td id=\"T_e3181eb4_4ccb_11ea_abe8_0c5415364605row2_col23\" class=\"data row2 col23\" >5196</td>\n",
       "                        <td id=\"T_e3181eb4_4ccb_11ea_abe8_0c5415364605row2_col24\" class=\"data row2 col24\" >5486</td>\n",
       "                        <td id=\"T_e3181eb4_4ccb_11ea_abe8_0c5415364605row2_col25\" class=\"data row2 col25\" >6633</td>\n",
       "                        <td id=\"T_e3181eb4_4ccb_11ea_abe8_0c5415364605row2_col26\" class=\"data row2 col26\" >5731</td>\n",
       "                        <td id=\"T_e3181eb4_4ccb_11ea_abe8_0c5415364605row2_col27\" class=\"data row2 col27\" >1318</td>\n",
       "                        <td id=\"T_e3181eb4_4ccb_11ea_abe8_0c5415364605row2_col28\" class=\"data row2 col28\" >158</td>\n",
       "                        <td id=\"T_e3181eb4_4ccb_11ea_abe8_0c5415364605row2_col29\" class=\"data row2 col29\" >328</td>\n",
       "            </tr>\n",
       "            <tr>\n",
       "                        <th id=\"T_e3181eb4_4ccb_11ea_abe8_0c5415364605level0_row3\" class=\"row_heading level0 row3\" >jeg</th>\n",
       "                        <td id=\"T_e3181eb4_4ccb_11ea_abe8_0c5415364605row3_col0\" class=\"data row3 col0\" >1</td>\n",
       "                        <td id=\"T_e3181eb4_4ccb_11ea_abe8_0c5415364605row3_col1\" class=\"data row3 col1\" >952</td>\n",
       "                        <td id=\"T_e3181eb4_4ccb_11ea_abe8_0c5415364605row3_col2\" class=\"data row3 col2\" >1568</td>\n",
       "                        <td id=\"T_e3181eb4_4ccb_11ea_abe8_0c5415364605row3_col3\" class=\"data row3 col3\" >68</td>\n",
       "                        <td id=\"T_e3181eb4_4ccb_11ea_abe8_0c5415364605row3_col4\" class=\"data row3 col4\" >302</td>\n",
       "                        <td id=\"T_e3181eb4_4ccb_11ea_abe8_0c5415364605row3_col5\" class=\"data row3 col5\" >254</td>\n",
       "                        <td id=\"T_e3181eb4_4ccb_11ea_abe8_0c5415364605row3_col6\" class=\"data row3 col6\" >361</td>\n",
       "                        <td id=\"T_e3181eb4_4ccb_11ea_abe8_0c5415364605row3_col7\" class=\"data row3 col7\" >226</td>\n",
       "                        <td id=\"T_e3181eb4_4ccb_11ea_abe8_0c5415364605row3_col8\" class=\"data row3 col8\" >3</td>\n",
       "                        <td id=\"T_e3181eb4_4ccb_11ea_abe8_0c5415364605row3_col9\" class=\"data row3 col9\" >6</td>\n",
       "                        <td id=\"T_e3181eb4_4ccb_11ea_abe8_0c5415364605row3_col10\" class=\"data row3 col10\" >236</td>\n",
       "                        <td id=\"T_e3181eb4_4ccb_11ea_abe8_0c5415364605row3_col11\" class=\"data row3 col11\" >229</td>\n",
       "                        <td id=\"T_e3181eb4_4ccb_11ea_abe8_0c5415364605row3_col12\" class=\"data row3 col12\" >150</td>\n",
       "                        <td id=\"T_e3181eb4_4ccb_11ea_abe8_0c5415364605row3_col13\" class=\"data row3 col13\" >17</td>\n",
       "                        <td id=\"T_e3181eb4_4ccb_11ea_abe8_0c5415364605row3_col14\" class=\"data row3 col14\" >52</td>\n",
       "                        <td id=\"T_e3181eb4_4ccb_11ea_abe8_0c5415364605row3_col15\" class=\"data row3 col15\" >1161</td>\n",
       "                        <td id=\"T_e3181eb4_4ccb_11ea_abe8_0c5415364605row3_col16\" class=\"data row3 col16\" >412</td>\n",
       "                        <td id=\"T_e3181eb4_4ccb_11ea_abe8_0c5415364605row3_col17\" class=\"data row3 col17\" >847</td>\n",
       "                        <td id=\"T_e3181eb4_4ccb_11ea_abe8_0c5415364605row3_col18\" class=\"data row3 col18\" >0</td>\n",
       "                        <td id=\"T_e3181eb4_4ccb_11ea_abe8_0c5415364605row3_col19\" class=\"data row3 col19\" >1550</td>\n",
       "                        <td id=\"T_e3181eb4_4ccb_11ea_abe8_0c5415364605row3_col20\" class=\"data row3 col20\" >57</td>\n",
       "                        <td id=\"T_e3181eb4_4ccb_11ea_abe8_0c5415364605row3_col21\" class=\"data row3 col21\" >1787</td>\n",
       "                        <td id=\"T_e3181eb4_4ccb_11ea_abe8_0c5415364605row3_col22\" class=\"data row3 col22\" >1806</td>\n",
       "                        <td id=\"T_e3181eb4_4ccb_11ea_abe8_0c5415364605row3_col23\" class=\"data row3 col23\" >2687</td>\n",
       "                        <td id=\"T_e3181eb4_4ccb_11ea_abe8_0c5415364605row3_col24\" class=\"data row3 col24\" >2970</td>\n",
       "                        <td id=\"T_e3181eb4_4ccb_11ea_abe8_0c5415364605row3_col25\" class=\"data row3 col25\" >3707</td>\n",
       "                        <td id=\"T_e3181eb4_4ccb_11ea_abe8_0c5415364605row3_col26\" class=\"data row3 col26\" >3165</td>\n",
       "                        <td id=\"T_e3181eb4_4ccb_11ea_abe8_0c5415364605row3_col27\" class=\"data row3 col27\" >744</td>\n",
       "                        <td id=\"T_e3181eb4_4ccb_11ea_abe8_0c5415364605row3_col28\" class=\"data row3 col28\" >108</td>\n",
       "                        <td id=\"T_e3181eb4_4ccb_11ea_abe8_0c5415364605row3_col29\" class=\"data row3 col29\" >140</td>\n",
       "            </tr>\n",
       "            <tr>\n",
       "                        <th id=\"T_e3181eb4_4ccb_11ea_abe8_0c5415364605level0_row4\" class=\"row_heading level0 row4\" >at</th>\n",
       "                        <td id=\"T_e3181eb4_4ccb_11ea_abe8_0c5415364605row4_col0\" class=\"data row4 col0\" >67</td>\n",
       "                        <td id=\"T_e3181eb4_4ccb_11ea_abe8_0c5415364605row4_col1\" class=\"data row4 col1\" >761</td>\n",
       "                        <td id=\"T_e3181eb4_4ccb_11ea_abe8_0c5415364605row4_col2\" class=\"data row4 col2\" >1445</td>\n",
       "                        <td id=\"T_e3181eb4_4ccb_11ea_abe8_0c5415364605row4_col3\" class=\"data row4 col3\" >74</td>\n",
       "                        <td id=\"T_e3181eb4_4ccb_11ea_abe8_0c5415364605row4_col4\" class=\"data row4 col4\" >275</td>\n",
       "                        <td id=\"T_e3181eb4_4ccb_11ea_abe8_0c5415364605row4_col5\" class=\"data row4 col5\" >247</td>\n",
       "                        <td id=\"T_e3181eb4_4ccb_11ea_abe8_0c5415364605row4_col6\" class=\"data row4 col6\" >366</td>\n",
       "                        <td id=\"T_e3181eb4_4ccb_11ea_abe8_0c5415364605row4_col7\" class=\"data row4 col7\" >220</td>\n",
       "                        <td id=\"T_e3181eb4_4ccb_11ea_abe8_0c5415364605row4_col8\" class=\"data row4 col8\" >255</td>\n",
       "                        <td id=\"T_e3181eb4_4ccb_11ea_abe8_0c5415364605row4_col9\" class=\"data row4 col9\" >23</td>\n",
       "                        <td id=\"T_e3181eb4_4ccb_11ea_abe8_0c5415364605row4_col10\" class=\"data row4 col10\" >140</td>\n",
       "                        <td id=\"T_e3181eb4_4ccb_11ea_abe8_0c5415364605row4_col11\" class=\"data row4 col11\" >418</td>\n",
       "                        <td id=\"T_e3181eb4_4ccb_11ea_abe8_0c5415364605row4_col12\" class=\"data row4 col12\" >234</td>\n",
       "                        <td id=\"T_e3181eb4_4ccb_11ea_abe8_0c5415364605row4_col13\" class=\"data row4 col13\" >21</td>\n",
       "                        <td id=\"T_e3181eb4_4ccb_11ea_abe8_0c5415364605row4_col14\" class=\"data row4 col14\" >174</td>\n",
       "                        <td id=\"T_e3181eb4_4ccb_11ea_abe8_0c5415364605row4_col15\" class=\"data row4 col15\" >1112</td>\n",
       "                        <td id=\"T_e3181eb4_4ccb_11ea_abe8_0c5415364605row4_col16\" class=\"data row4 col16\" >394</td>\n",
       "                        <td id=\"T_e3181eb4_4ccb_11ea_abe8_0c5415364605row4_col17\" class=\"data row4 col17\" >873</td>\n",
       "                        <td id=\"T_e3181eb4_4ccb_11ea_abe8_0c5415364605row4_col18\" class=\"data row4 col18\" >150</td>\n",
       "                        <td id=\"T_e3181eb4_4ccb_11ea_abe8_0c5415364605row4_col19\" class=\"data row4 col19\" >884</td>\n",
       "                        <td id=\"T_e3181eb4_4ccb_11ea_abe8_0c5415364605row4_col20\" class=\"data row4 col20\" >61</td>\n",
       "                        <td id=\"T_e3181eb4_4ccb_11ea_abe8_0c5415364605row4_col21\" class=\"data row4 col21\" >1525</td>\n",
       "                        <td id=\"T_e3181eb4_4ccb_11ea_abe8_0c5415364605row4_col22\" class=\"data row4 col22\" >1353</td>\n",
       "                        <td id=\"T_e3181eb4_4ccb_11ea_abe8_0c5415364605row4_col23\" class=\"data row4 col23\" >1997</td>\n",
       "                        <td id=\"T_e3181eb4_4ccb_11ea_abe8_0c5415364605row4_col24\" class=\"data row4 col24\" >2023</td>\n",
       "                        <td id=\"T_e3181eb4_4ccb_11ea_abe8_0c5415364605row4_col25\" class=\"data row4 col25\" >2718</td>\n",
       "                        <td id=\"T_e3181eb4_4ccb_11ea_abe8_0c5415364605row4_col26\" class=\"data row4 col26\" >2297</td>\n",
       "                        <td id=\"T_e3181eb4_4ccb_11ea_abe8_0c5415364605row4_col27\" class=\"data row4 col27\" >627</td>\n",
       "                        <td id=\"T_e3181eb4_4ccb_11ea_abe8_0c5415364605row4_col28\" class=\"data row4 col28\" >78</td>\n",
       "                        <td id=\"T_e3181eb4_4ccb_11ea_abe8_0c5415364605row4_col29\" class=\"data row4 col29\" >114</td>\n",
       "            </tr>\n",
       "            <tr>\n",
       "                        <th id=\"T_e3181eb4_4ccb_11ea_abe8_0c5415364605level0_row5\" class=\"row_heading level0 row5\" >–</th>\n",
       "                        <td id=\"T_e3181eb4_4ccb_11ea_abe8_0c5415364605row5_col0\" class=\"data row5 col0\" >627</td>\n",
       "                        <td id=\"T_e3181eb4_4ccb_11ea_abe8_0c5415364605row5_col1\" class=\"data row5 col1\" >680</td>\n",
       "                        <td id=\"T_e3181eb4_4ccb_11ea_abe8_0c5415364605row5_col2\" class=\"data row5 col2\" >1131</td>\n",
       "                        <td id=\"T_e3181eb4_4ccb_11ea_abe8_0c5415364605row5_col3\" class=\"data row5 col3\" >31</td>\n",
       "                        <td id=\"T_e3181eb4_4ccb_11ea_abe8_0c5415364605row5_col4\" class=\"data row5 col4\" >182</td>\n",
       "                        <td id=\"T_e3181eb4_4ccb_11ea_abe8_0c5415364605row5_col5\" class=\"data row5 col5\" >159</td>\n",
       "                        <td id=\"T_e3181eb4_4ccb_11ea_abe8_0c5415364605row5_col6\" class=\"data row5 col6\" >147</td>\n",
       "                        <td id=\"T_e3181eb4_4ccb_11ea_abe8_0c5415364605row5_col7\" class=\"data row5 col7\" >444</td>\n",
       "                        <td id=\"T_e3181eb4_4ccb_11ea_abe8_0c5415364605row5_col8\" class=\"data row5 col8\" >210</td>\n",
       "                        <td id=\"T_e3181eb4_4ccb_11ea_abe8_0c5415364605row5_col9\" class=\"data row5 col9\" >52</td>\n",
       "                        <td id=\"T_e3181eb4_4ccb_11ea_abe8_0c5415364605row5_col10\" class=\"data row5 col10\" >324</td>\n",
       "                        <td id=\"T_e3181eb4_4ccb_11ea_abe8_0c5415364605row5_col11\" class=\"data row5 col11\" >1419</td>\n",
       "                        <td id=\"T_e3181eb4_4ccb_11ea_abe8_0c5415364605row5_col12\" class=\"data row5 col12\" >205</td>\n",
       "                        <td id=\"T_e3181eb4_4ccb_11ea_abe8_0c5415364605row5_col13\" class=\"data row5 col13\" >1335</td>\n",
       "                        <td id=\"T_e3181eb4_4ccb_11ea_abe8_0c5415364605row5_col14\" class=\"data row5 col14\" >269</td>\n",
       "                        <td id=\"T_e3181eb4_4ccb_11ea_abe8_0c5415364605row5_col15\" class=\"data row5 col15\" >782</td>\n",
       "                        <td id=\"T_e3181eb4_4ccb_11ea_abe8_0c5415364605row5_col16\" class=\"data row5 col16\" >194</td>\n",
       "                        <td id=\"T_e3181eb4_4ccb_11ea_abe8_0c5415364605row5_col17\" class=\"data row5 col17\" >563</td>\n",
       "                        <td id=\"T_e3181eb4_4ccb_11ea_abe8_0c5415364605row5_col18\" class=\"data row5 col18\" >191</td>\n",
       "                        <td id=\"T_e3181eb4_4ccb_11ea_abe8_0c5415364605row5_col19\" class=\"data row5 col19\" >1035</td>\n",
       "                        <td id=\"T_e3181eb4_4ccb_11ea_abe8_0c5415364605row5_col20\" class=\"data row5 col20\" >135</td>\n",
       "                        <td id=\"T_e3181eb4_4ccb_11ea_abe8_0c5415364605row5_col21\" class=\"data row5 col21\" >1090</td>\n",
       "                        <td id=\"T_e3181eb4_4ccb_11ea_abe8_0c5415364605row5_col22\" class=\"data row5 col22\" >1638</td>\n",
       "                        <td id=\"T_e3181eb4_4ccb_11ea_abe8_0c5415364605row5_col23\" class=\"data row5 col23\" >1533</td>\n",
       "                        <td id=\"T_e3181eb4_4ccb_11ea_abe8_0c5415364605row5_col24\" class=\"data row5 col24\" >2086</td>\n",
       "                        <td id=\"T_e3181eb4_4ccb_11ea_abe8_0c5415364605row5_col25\" class=\"data row5 col25\" >2051</td>\n",
       "                        <td id=\"T_e3181eb4_4ccb_11ea_abe8_0c5415364605row5_col26\" class=\"data row5 col26\" >1144</td>\n",
       "                        <td id=\"T_e3181eb4_4ccb_11ea_abe8_0c5415364605row5_col27\" class=\"data row5 col27\" >344</td>\n",
       "                        <td id=\"T_e3181eb4_4ccb_11ea_abe8_0c5415364605row5_col28\" class=\"data row5 col28\" >35</td>\n",
       "                        <td id=\"T_e3181eb4_4ccb_11ea_abe8_0c5415364605row5_col29\" class=\"data row5 col29\" >289</td>\n",
       "            </tr>\n",
       "            <tr>\n",
       "                        <th id=\"T_e3181eb4_4ccb_11ea_abe8_0c5415364605level0_row6\" class=\"row_heading level0 row6\" >det</th>\n",
       "                        <td id=\"T_e3181eb4_4ccb_11ea_abe8_0c5415364605row6_col0\" class=\"data row6 col0\" >74</td>\n",
       "                        <td id=\"T_e3181eb4_4ccb_11ea_abe8_0c5415364605row6_col1\" class=\"data row6 col1\" >611</td>\n",
       "                        <td id=\"T_e3181eb4_4ccb_11ea_abe8_0c5415364605row6_col2\" class=\"data row6 col2\" >1094</td>\n",
       "                        <td id=\"T_e3181eb4_4ccb_11ea_abe8_0c5415364605row6_col3\" class=\"data row6 col3\" >35</td>\n",
       "                        <td id=\"T_e3181eb4_4ccb_11ea_abe8_0c5415364605row6_col4\" class=\"data row6 col4\" >216</td>\n",
       "                        <td id=\"T_e3181eb4_4ccb_11ea_abe8_0c5415364605row6_col5\" class=\"data row6 col5\" >239</td>\n",
       "                        <td id=\"T_e3181eb4_4ccb_11ea_abe8_0c5415364605row6_col6\" class=\"data row6 col6\" >252</td>\n",
       "                        <td id=\"T_e3181eb4_4ccb_11ea_abe8_0c5415364605row6_col7\" class=\"data row6 col7\" >310</td>\n",
       "                        <td id=\"T_e3181eb4_4ccb_11ea_abe8_0c5415364605row6_col8\" class=\"data row6 col8\" >112</td>\n",
       "                        <td id=\"T_e3181eb4_4ccb_11ea_abe8_0c5415364605row6_col9\" class=\"data row6 col9\" >11</td>\n",
       "                        <td id=\"T_e3181eb4_4ccb_11ea_abe8_0c5415364605row6_col10\" class=\"data row6 col10\" >180</td>\n",
       "                        <td id=\"T_e3181eb4_4ccb_11ea_abe8_0c5415364605row6_col11\" class=\"data row6 col11\" >470</td>\n",
       "                        <td id=\"T_e3181eb4_4ccb_11ea_abe8_0c5415364605row6_col12\" class=\"data row6 col12\" >199</td>\n",
       "                        <td id=\"T_e3181eb4_4ccb_11ea_abe8_0c5415364605row6_col13\" class=\"data row6 col13\" >29</td>\n",
       "                        <td id=\"T_e3181eb4_4ccb_11ea_abe8_0c5415364605row6_col14\" class=\"data row6 col14\" >94</td>\n",
       "                        <td id=\"T_e3181eb4_4ccb_11ea_abe8_0c5415364605row6_col15\" class=\"data row6 col15\" >1063</td>\n",
       "                        <td id=\"T_e3181eb4_4ccb_11ea_abe8_0c5415364605row6_col16\" class=\"data row6 col16\" >444</td>\n",
       "                        <td id=\"T_e3181eb4_4ccb_11ea_abe8_0c5415364605row6_col17\" class=\"data row6 col17\" >849</td>\n",
       "                        <td id=\"T_e3181eb4_4ccb_11ea_abe8_0c5415364605row6_col18\" class=\"data row6 col18\" >102</td>\n",
       "                        <td id=\"T_e3181eb4_4ccb_11ea_abe8_0c5415364605row6_col19\" class=\"data row6 col19\" >1037</td>\n",
       "                        <td id=\"T_e3181eb4_4ccb_11ea_abe8_0c5415364605row6_col20\" class=\"data row6 col20\" >68</td>\n",
       "                        <td id=\"T_e3181eb4_4ccb_11ea_abe8_0c5415364605row6_col21\" class=\"data row6 col21\" >1872</td>\n",
       "                        <td id=\"T_e3181eb4_4ccb_11ea_abe8_0c5415364605row6_col22\" class=\"data row6 col22\" >1807</td>\n",
       "                        <td id=\"T_e3181eb4_4ccb_11ea_abe8_0c5415364605row6_col23\" class=\"data row6 col23\" >2684</td>\n",
       "                        <td id=\"T_e3181eb4_4ccb_11ea_abe8_0c5415364605row6_col24\" class=\"data row6 col24\" >2633</td>\n",
       "                        <td id=\"T_e3181eb4_4ccb_11ea_abe8_0c5415364605row6_col25\" class=\"data row6 col25\" >3290</td>\n",
       "                        <td id=\"T_e3181eb4_4ccb_11ea_abe8_0c5415364605row6_col26\" class=\"data row6 col26\" >2666</td>\n",
       "                        <td id=\"T_e3181eb4_4ccb_11ea_abe8_0c5415364605row6_col27\" class=\"data row6 col27\" >781</td>\n",
       "                        <td id=\"T_e3181eb4_4ccb_11ea_abe8_0c5415364605row6_col28\" class=\"data row6 col28\" >78</td>\n",
       "                        <td id=\"T_e3181eb4_4ccb_11ea_abe8_0c5415364605row6_col29\" class=\"data row6 col29\" >178</td>\n",
       "            </tr>\n",
       "            <tr>\n",
       "                        <th id=\"T_e3181eb4_4ccb_11ea_abe8_0c5415364605level0_row7\" class=\"row_heading level0 row7\" >i</th>\n",
       "                        <td id=\"T_e3181eb4_4ccb_11ea_abe8_0c5415364605row7_col0\" class=\"data row7 col0\" >527</td>\n",
       "                        <td id=\"T_e3181eb4_4ccb_11ea_abe8_0c5415364605row7_col1\" class=\"data row7 col1\" >551</td>\n",
       "                        <td id=\"T_e3181eb4_4ccb_11ea_abe8_0c5415364605row7_col2\" class=\"data row7 col2\" >1092</td>\n",
       "                        <td id=\"T_e3181eb4_4ccb_11ea_abe8_0c5415364605row7_col3\" class=\"data row7 col3\" >39</td>\n",
       "                        <td id=\"T_e3181eb4_4ccb_11ea_abe8_0c5415364605row7_col4\" class=\"data row7 col4\" >234</td>\n",
       "                        <td id=\"T_e3181eb4_4ccb_11ea_abe8_0c5415364605row7_col5\" class=\"data row7 col5\" >272</td>\n",
       "                        <td id=\"T_e3181eb4_4ccb_11ea_abe8_0c5415364605row7_col6\" class=\"data row7 col6\" >279</td>\n",
       "                        <td id=\"T_e3181eb4_4ccb_11ea_abe8_0c5415364605row7_col7\" class=\"data row7 col7\" >868</td>\n",
       "                        <td id=\"T_e3181eb4_4ccb_11ea_abe8_0c5415364605row7_col8\" class=\"data row7 col8\" >431</td>\n",
       "                        <td id=\"T_e3181eb4_4ccb_11ea_abe8_0c5415364605row7_col9\" class=\"data row7 col9\" >28</td>\n",
       "                        <td id=\"T_e3181eb4_4ccb_11ea_abe8_0c5415364605row7_col10\" class=\"data row7 col10\" >329</td>\n",
       "                        <td id=\"T_e3181eb4_4ccb_11ea_abe8_0c5415364605row7_col11\" class=\"data row7 col11\" >1173</td>\n",
       "                        <td id=\"T_e3181eb4_4ccb_11ea_abe8_0c5415364605row7_col12\" class=\"data row7 col12\" >557</td>\n",
       "                        <td id=\"T_e3181eb4_4ccb_11ea_abe8_0c5415364605row7_col13\" class=\"data row7 col13\" >126</td>\n",
       "                        <td id=\"T_e3181eb4_4ccb_11ea_abe8_0c5415364605row7_col14\" class=\"data row7 col14\" >281</td>\n",
       "                        <td id=\"T_e3181eb4_4ccb_11ea_abe8_0c5415364605row7_col15\" class=\"data row7 col15\" >729</td>\n",
       "                        <td id=\"T_e3181eb4_4ccb_11ea_abe8_0c5415364605row7_col16\" class=\"data row7 col16\" >237</td>\n",
       "                        <td id=\"T_e3181eb4_4ccb_11ea_abe8_0c5415364605row7_col17\" class=\"data row7 col17\" >545</td>\n",
       "                        <td id=\"T_e3181eb4_4ccb_11ea_abe8_0c5415364605row7_col18\" class=\"data row7 col18\" >116</td>\n",
       "                        <td id=\"T_e3181eb4_4ccb_11ea_abe8_0c5415364605row7_col19\" class=\"data row7 col19\" >1150</td>\n",
       "                        <td id=\"T_e3181eb4_4ccb_11ea_abe8_0c5415364605row7_col20\" class=\"data row7 col20\" >92</td>\n",
       "                        <td id=\"T_e3181eb4_4ccb_11ea_abe8_0c5415364605row7_col21\" class=\"data row7 col21\" >1954</td>\n",
       "                        <td id=\"T_e3181eb4_4ccb_11ea_abe8_0c5415364605row7_col22\" class=\"data row7 col22\" >2062</td>\n",
       "                        <td id=\"T_e3181eb4_4ccb_11ea_abe8_0c5415364605row7_col23\" class=\"data row7 col23\" >2923</td>\n",
       "                        <td id=\"T_e3181eb4_4ccb_11ea_abe8_0c5415364605row7_col24\" class=\"data row7 col24\" >2934</td>\n",
       "                        <td id=\"T_e3181eb4_4ccb_11ea_abe8_0c5415364605row7_col25\" class=\"data row7 col25\" >3615</td>\n",
       "                        <td id=\"T_e3181eb4_4ccb_11ea_abe8_0c5415364605row7_col26\" class=\"data row7 col26\" >3196</td>\n",
       "                        <td id=\"T_e3181eb4_4ccb_11ea_abe8_0c5415364605row7_col27\" class=\"data row7 col27\" >811</td>\n",
       "                        <td id=\"T_e3181eb4_4ccb_11ea_abe8_0c5415364605row7_col28\" class=\"data row7 col28\" >74</td>\n",
       "                        <td id=\"T_e3181eb4_4ccb_11ea_abe8_0c5415364605row7_col29\" class=\"data row7 col29\" >153</td>\n",
       "            </tr>\n",
       "            <tr>\n",
       "                        <th id=\"T_e3181eb4_4ccb_11ea_abe8_0c5415364605level0_row8\" class=\"row_heading level0 row8\" >]</th>\n",
       "                        <td id=\"T_e3181eb4_4ccb_11ea_abe8_0c5415364605row8_col0\" class=\"data row8 col0\" >100</td>\n",
       "                        <td id=\"T_e3181eb4_4ccb_11ea_abe8_0c5415364605row8_col1\" class=\"data row8 col1\" >539</td>\n",
       "                        <td id=\"T_e3181eb4_4ccb_11ea_abe8_0c5415364605row8_col2\" class=\"data row8 col2\" >1058</td>\n",
       "                        <td id=\"T_e3181eb4_4ccb_11ea_abe8_0c5415364605row8_col3\" class=\"data row8 col3\" >15</td>\n",
       "                        <td id=\"T_e3181eb4_4ccb_11ea_abe8_0c5415364605row8_col4\" class=\"data row8 col4\" >58</td>\n",
       "                        <td id=\"T_e3181eb4_4ccb_11ea_abe8_0c5415364605row8_col5\" class=\"data row8 col5\" >110</td>\n",
       "                        <td id=\"T_e3181eb4_4ccb_11ea_abe8_0c5415364605row8_col6\" class=\"data row8 col6\" >94</td>\n",
       "                        <td id=\"T_e3181eb4_4ccb_11ea_abe8_0c5415364605row8_col7\" class=\"data row8 col7\" >266</td>\n",
       "                        <td id=\"T_e3181eb4_4ccb_11ea_abe8_0c5415364605row8_col8\" class=\"data row8 col8\" >152</td>\n",
       "                        <td id=\"T_e3181eb4_4ccb_11ea_abe8_0c5415364605row8_col9\" class=\"data row8 col9\" >1</td>\n",
       "                        <td id=\"T_e3181eb4_4ccb_11ea_abe8_0c5415364605row8_col10\" class=\"data row8 col10\" >0</td>\n",
       "                        <td id=\"T_e3181eb4_4ccb_11ea_abe8_0c5415364605row8_col11\" class=\"data row8 col11\" >26</td>\n",
       "                        <td id=\"T_e3181eb4_4ccb_11ea_abe8_0c5415364605row8_col12\" class=\"data row8 col12\" >1</td>\n",
       "                        <td id=\"T_e3181eb4_4ccb_11ea_abe8_0c5415364605row8_col13\" class=\"data row8 col13\" >0</td>\n",
       "                        <td id=\"T_e3181eb4_4ccb_11ea_abe8_0c5415364605row8_col14\" class=\"data row8 col14\" >0</td>\n",
       "                        <td id=\"T_e3181eb4_4ccb_11ea_abe8_0c5415364605row8_col15\" class=\"data row8 col15\" >449</td>\n",
       "                        <td id=\"T_e3181eb4_4ccb_11ea_abe8_0c5415364605row8_col16\" class=\"data row8 col16\" >284</td>\n",
       "                        <td id=\"T_e3181eb4_4ccb_11ea_abe8_0c5415364605row8_col17\" class=\"data row8 col17\" >531</td>\n",
       "                        <td id=\"T_e3181eb4_4ccb_11ea_abe8_0c5415364605row8_col18\" class=\"data row8 col18\" >36</td>\n",
       "                        <td id=\"T_e3181eb4_4ccb_11ea_abe8_0c5415364605row8_col19\" class=\"data row8 col19\" >6</td>\n",
       "                        <td id=\"T_e3181eb4_4ccb_11ea_abe8_0c5415364605row8_col20\" class=\"data row8 col20\" >52</td>\n",
       "                        <td id=\"T_e3181eb4_4ccb_11ea_abe8_0c5415364605row8_col21\" class=\"data row8 col21\" >63</td>\n",
       "                        <td id=\"T_e3181eb4_4ccb_11ea_abe8_0c5415364605row8_col22\" class=\"data row8 col22\" >121</td>\n",
       "                        <td id=\"T_e3181eb4_4ccb_11ea_abe8_0c5415364605row8_col23\" class=\"data row8 col23\" >109</td>\n",
       "                        <td id=\"T_e3181eb4_4ccb_11ea_abe8_0c5415364605row8_col24\" class=\"data row8 col24\" >91</td>\n",
       "                        <td id=\"T_e3181eb4_4ccb_11ea_abe8_0c5415364605row8_col25\" class=\"data row8 col25\" >84</td>\n",
       "                        <td id=\"T_e3181eb4_4ccb_11ea_abe8_0c5415364605row8_col26\" class=\"data row8 col26\" >132</td>\n",
       "                        <td id=\"T_e3181eb4_4ccb_11ea_abe8_0c5415364605row8_col27\" class=\"data row8 col27\" >385</td>\n",
       "                        <td id=\"T_e3181eb4_4ccb_11ea_abe8_0c5415364605row8_col28\" class=\"data row8 col28\" >33</td>\n",
       "                        <td id=\"T_e3181eb4_4ccb_11ea_abe8_0c5415364605row8_col29\" class=\"data row8 col29\" >67</td>\n",
       "            </tr>\n",
       "            <tr>\n",
       "                        <th id=\"T_e3181eb4_4ccb_11ea_abe8_0c5415364605level0_row9\" class=\"row_heading level0 row9\" >er</th>\n",
       "                        <td id=\"T_e3181eb4_4ccb_11ea_abe8_0c5415364605row9_col0\" class=\"data row9 col0\" >6</td>\n",
       "                        <td id=\"T_e3181eb4_4ccb_11ea_abe8_0c5415364605row9_col1\" class=\"data row9 col1\" >529</td>\n",
       "                        <td id=\"T_e3181eb4_4ccb_11ea_abe8_0c5415364605row9_col2\" class=\"data row9 col2\" >795</td>\n",
       "                        <td id=\"T_e3181eb4_4ccb_11ea_abe8_0c5415364605row9_col3\" class=\"data row9 col3\" >21</td>\n",
       "                        <td id=\"T_e3181eb4_4ccb_11ea_abe8_0c5415364605row9_col4\" class=\"data row9 col4\" >170</td>\n",
       "                        <td id=\"T_e3181eb4_4ccb_11ea_abe8_0c5415364605row9_col5\" class=\"data row9 col5\" >160</td>\n",
       "                        <td id=\"T_e3181eb4_4ccb_11ea_abe8_0c5415364605row9_col6\" class=\"data row9 col6\" >152</td>\n",
       "                        <td id=\"T_e3181eb4_4ccb_11ea_abe8_0c5415364605row9_col7\" class=\"data row9 col7\" >367</td>\n",
       "                        <td id=\"T_e3181eb4_4ccb_11ea_abe8_0c5415364605row9_col8\" class=\"data row9 col8\" >72</td>\n",
       "                        <td id=\"T_e3181eb4_4ccb_11ea_abe8_0c5415364605row9_col9\" class=\"data row9 col9\" >9</td>\n",
       "                        <td id=\"T_e3181eb4_4ccb_11ea_abe8_0c5415364605row9_col10\" class=\"data row9 col10\" >176</td>\n",
       "                        <td id=\"T_e3181eb4_4ccb_11ea_abe8_0c5415364605row9_col11\" class=\"data row9 col11\" >704</td>\n",
       "                        <td id=\"T_e3181eb4_4ccb_11ea_abe8_0c5415364605row9_col12\" class=\"data row9 col12\" >357</td>\n",
       "                        <td id=\"T_e3181eb4_4ccb_11ea_abe8_0c5415364605row9_col13\" class=\"data row9 col13\" >41</td>\n",
       "                        <td id=\"T_e3181eb4_4ccb_11ea_abe8_0c5415364605row9_col14\" class=\"data row9 col14\" >214</td>\n",
       "                        <td id=\"T_e3181eb4_4ccb_11ea_abe8_0c5415364605row9_col15\" class=\"data row9 col15\" >752</td>\n",
       "                        <td id=\"T_e3181eb4_4ccb_11ea_abe8_0c5415364605row9_col16\" class=\"data row9 col16\" >386</td>\n",
       "                        <td id=\"T_e3181eb4_4ccb_11ea_abe8_0c5415364605row9_col17\" class=\"data row9 col17\" >602</td>\n",
       "                        <td id=\"T_e3181eb4_4ccb_11ea_abe8_0c5415364605row9_col18\" class=\"data row9 col18\" >54</td>\n",
       "                        <td id=\"T_e3181eb4_4ccb_11ea_abe8_0c5415364605row9_col19\" class=\"data row9 col19\" >661</td>\n",
       "                        <td id=\"T_e3181eb4_4ccb_11ea_abe8_0c5415364605row9_col20\" class=\"data row9 col20\" >40</td>\n",
       "                        <td id=\"T_e3181eb4_4ccb_11ea_abe8_0c5415364605row9_col21\" class=\"data row9 col21\" >1321</td>\n",
       "                        <td id=\"T_e3181eb4_4ccb_11ea_abe8_0c5415364605row9_col22\" class=\"data row9 col22\" >1165</td>\n",
       "                        <td id=\"T_e3181eb4_4ccb_11ea_abe8_0c5415364605row9_col23\" class=\"data row9 col23\" >1539</td>\n",
       "                        <td id=\"T_e3181eb4_4ccb_11ea_abe8_0c5415364605row9_col24\" class=\"data row9 col24\" >1465</td>\n",
       "                        <td id=\"T_e3181eb4_4ccb_11ea_abe8_0c5415364605row9_col25\" class=\"data row9 col25\" >1743</td>\n",
       "                        <td id=\"T_e3181eb4_4ccb_11ea_abe8_0c5415364605row9_col26\" class=\"data row9 col26\" >1587</td>\n",
       "                        <td id=\"T_e3181eb4_4ccb_11ea_abe8_0c5415364605row9_col27\" class=\"data row9 col27\" >414</td>\n",
       "                        <td id=\"T_e3181eb4_4ccb_11ea_abe8_0c5415364605row9_col28\" class=\"data row9 col28\" >50</td>\n",
       "                        <td id=\"T_e3181eb4_4ccb_11ea_abe8_0c5415364605row9_col29\" class=\"data row9 col29\" >121</td>\n",
       "            </tr>\n",
       "            <tr>\n",
       "                        <th id=\"T_e3181eb4_4ccb_11ea_abe8_0c5415364605level0_row10\" class=\"row_heading level0 row10\" >til</th>\n",
       "                        <td id=\"T_e3181eb4_4ccb_11ea_abe8_0c5415364605row10_col0\" class=\"data row10 col0\" >52</td>\n",
       "                        <td id=\"T_e3181eb4_4ccb_11ea_abe8_0c5415364605row10_col1\" class=\"data row10 col1\" >474</td>\n",
       "                        <td id=\"T_e3181eb4_4ccb_11ea_abe8_0c5415364605row10_col2\" class=\"data row10 col2\" >1000</td>\n",
       "                        <td id=\"T_e3181eb4_4ccb_11ea_abe8_0c5415364605row10_col3\" class=\"data row10 col3\" >37</td>\n",
       "                        <td id=\"T_e3181eb4_4ccb_11ea_abe8_0c5415364605row10_col4\" class=\"data row10 col4\" >214</td>\n",
       "                        <td id=\"T_e3181eb4_4ccb_11ea_abe8_0c5415364605row10_col5\" class=\"data row10 col5\" >159</td>\n",
       "                        <td id=\"T_e3181eb4_4ccb_11ea_abe8_0c5415364605row10_col6\" class=\"data row10 col6\" >172</td>\n",
       "                        <td id=\"T_e3181eb4_4ccb_11ea_abe8_0c5415364605row10_col7\" class=\"data row10 col7\" >671</td>\n",
       "                        <td id=\"T_e3181eb4_4ccb_11ea_abe8_0c5415364605row10_col8\" class=\"data row10 col8\" >213</td>\n",
       "                        <td id=\"T_e3181eb4_4ccb_11ea_abe8_0c5415364605row10_col9\" class=\"data row10 col9\" >27</td>\n",
       "                        <td id=\"T_e3181eb4_4ccb_11ea_abe8_0c5415364605row10_col10\" class=\"data row10 col10\" >128</td>\n",
       "                        <td id=\"T_e3181eb4_4ccb_11ea_abe8_0c5415364605row10_col11\" class=\"data row10 col11\" >494</td>\n",
       "                        <td id=\"T_e3181eb4_4ccb_11ea_abe8_0c5415364605row10_col12\" class=\"data row10 col12\" >225</td>\n",
       "                        <td id=\"T_e3181eb4_4ccb_11ea_abe8_0c5415364605row10_col13\" class=\"data row10 col13\" >92</td>\n",
       "                        <td id=\"T_e3181eb4_4ccb_11ea_abe8_0c5415364605row10_col14\" class=\"data row10 col14\" >182</td>\n",
       "                        <td id=\"T_e3181eb4_4ccb_11ea_abe8_0c5415364605row10_col15\" class=\"data row10 col15\" >532</td>\n",
       "                        <td id=\"T_e3181eb4_4ccb_11ea_abe8_0c5415364605row10_col16\" class=\"data row10 col16\" >269</td>\n",
       "                        <td id=\"T_e3181eb4_4ccb_11ea_abe8_0c5415364605row10_col17\" class=\"data row10 col17\" >458</td>\n",
       "                        <td id=\"T_e3181eb4_4ccb_11ea_abe8_0c5415364605row10_col18\" class=\"data row10 col18\" >105</td>\n",
       "                        <td id=\"T_e3181eb4_4ccb_11ea_abe8_0c5415364605row10_col19\" class=\"data row10 col19\" >651</td>\n",
       "                        <td id=\"T_e3181eb4_4ccb_11ea_abe8_0c5415364605row10_col20\" class=\"data row10 col20\" >60</td>\n",
       "                        <td id=\"T_e3181eb4_4ccb_11ea_abe8_0c5415364605row10_col21\" class=\"data row10 col21\" >1202</td>\n",
       "                        <td id=\"T_e3181eb4_4ccb_11ea_abe8_0c5415364605row10_col22\" class=\"data row10 col22\" >1142</td>\n",
       "                        <td id=\"T_e3181eb4_4ccb_11ea_abe8_0c5415364605row10_col23\" class=\"data row10 col23\" >1580</td>\n",
       "                        <td id=\"T_e3181eb4_4ccb_11ea_abe8_0c5415364605row10_col24\" class=\"data row10 col24\" >1740</td>\n",
       "                        <td id=\"T_e3181eb4_4ccb_11ea_abe8_0c5415364605row10_col25\" class=\"data row10 col25\" >2278</td>\n",
       "                        <td id=\"T_e3181eb4_4ccb_11ea_abe8_0c5415364605row10_col26\" class=\"data row10 col26\" >1869</td>\n",
       "                        <td id=\"T_e3181eb4_4ccb_11ea_abe8_0c5415364605row10_col27\" class=\"data row10 col27\" >511</td>\n",
       "                        <td id=\"T_e3181eb4_4ccb_11ea_abe8_0c5415364605row10_col28\" class=\"data row10 col28\" >37</td>\n",
       "                        <td id=\"T_e3181eb4_4ccb_11ea_abe8_0c5415364605row10_col29\" class=\"data row10 col29\" >96</td>\n",
       "            </tr>\n",
       "            <tr>\n",
       "                        <th id=\"T_e3181eb4_4ccb_11ea_abe8_0c5415364605level0_row11\" class=\"row_heading level0 row11\" >ikke</th>\n",
       "                        <td id=\"T_e3181eb4_4ccb_11ea_abe8_0c5415364605row11_col0\" class=\"data row11 col0\" >185</td>\n",
       "                        <td id=\"T_e3181eb4_4ccb_11ea_abe8_0c5415364605row11_col1\" class=\"data row11 col1\" >471</td>\n",
       "                        <td id=\"T_e3181eb4_4ccb_11ea_abe8_0c5415364605row11_col2\" class=\"data row11 col2\" >871</td>\n",
       "                        <td id=\"T_e3181eb4_4ccb_11ea_abe8_0c5415364605row11_col3\" class=\"data row11 col3\" >21</td>\n",
       "                        <td id=\"T_e3181eb4_4ccb_11ea_abe8_0c5415364605row11_col4\" class=\"data row11 col4\" >152</td>\n",
       "                        <td id=\"T_e3181eb4_4ccb_11ea_abe8_0c5415364605row11_col5\" class=\"data row11 col5\" >145</td>\n",
       "                        <td id=\"T_e3181eb4_4ccb_11ea_abe8_0c5415364605row11_col6\" class=\"data row11 col6\" >172</td>\n",
       "                        <td id=\"T_e3181eb4_4ccb_11ea_abe8_0c5415364605row11_col7\" class=\"data row11 col7\" >181</td>\n",
       "                        <td id=\"T_e3181eb4_4ccb_11ea_abe8_0c5415364605row11_col8\" class=\"data row11 col8\" >68</td>\n",
       "                        <td id=\"T_e3181eb4_4ccb_11ea_abe8_0c5415364605row11_col9\" class=\"data row11 col9\" >5</td>\n",
       "                        <td id=\"T_e3181eb4_4ccb_11ea_abe8_0c5415364605row11_col10\" class=\"data row11 col10\" >105</td>\n",
       "                        <td id=\"T_e3181eb4_4ccb_11ea_abe8_0c5415364605row11_col11\" class=\"data row11 col11\" >243</td>\n",
       "                        <td id=\"T_e3181eb4_4ccb_11ea_abe8_0c5415364605row11_col12\" class=\"data row11 col12\" >133</td>\n",
       "                        <td id=\"T_e3181eb4_4ccb_11ea_abe8_0c5415364605row11_col13\" class=\"data row11 col13\" >11</td>\n",
       "                        <td id=\"T_e3181eb4_4ccb_11ea_abe8_0c5415364605row11_col14\" class=\"data row11 col14\" >68</td>\n",
       "                        <td id=\"T_e3181eb4_4ccb_11ea_abe8_0c5415364605row11_col15\" class=\"data row11 col15\" >629</td>\n",
       "                        <td id=\"T_e3181eb4_4ccb_11ea_abe8_0c5415364605row11_col16\" class=\"data row11 col16\" >211</td>\n",
       "                        <td id=\"T_e3181eb4_4ccb_11ea_abe8_0c5415364605row11_col17\" class=\"data row11 col17\" >376</td>\n",
       "                        <td id=\"T_e3181eb4_4ccb_11ea_abe8_0c5415364605row11_col18\" class=\"data row11 col18\" >35</td>\n",
       "                        <td id=\"T_e3181eb4_4ccb_11ea_abe8_0c5415364605row11_col19\" class=\"data row11 col19\" >429</td>\n",
       "                        <td id=\"T_e3181eb4_4ccb_11ea_abe8_0c5415364605row11_col20\" class=\"data row11 col20\" >23</td>\n",
       "                        <td id=\"T_e3181eb4_4ccb_11ea_abe8_0c5415364605row11_col21\" class=\"data row11 col21\" >928</td>\n",
       "                        <td id=\"T_e3181eb4_4ccb_11ea_abe8_0c5415364605row11_col22\" class=\"data row11 col22\" >999</td>\n",
       "                        <td id=\"T_e3181eb4_4ccb_11ea_abe8_0c5415364605row11_col23\" class=\"data row11 col23\" >1464</td>\n",
       "                        <td id=\"T_e3181eb4_4ccb_11ea_abe8_0c5415364605row11_col24\" class=\"data row11 col24\" >1461</td>\n",
       "                        <td id=\"T_e3181eb4_4ccb_11ea_abe8_0c5415364605row11_col25\" class=\"data row11 col25\" >1670</td>\n",
       "                        <td id=\"T_e3181eb4_4ccb_11ea_abe8_0c5415364605row11_col26\" class=\"data row11 col26\" >1575</td>\n",
       "                        <td id=\"T_e3181eb4_4ccb_11ea_abe8_0c5415364605row11_col27\" class=\"data row11 col27\" >459</td>\n",
       "                        <td id=\"T_e3181eb4_4ccb_11ea_abe8_0c5415364605row11_col28\" class=\"data row11 col28\" >44</td>\n",
       "                        <td id=\"T_e3181eb4_4ccb_11ea_abe8_0c5415364605row11_col29\" class=\"data row11 col29\" >115</td>\n",
       "            </tr>\n",
       "            <tr>\n",
       "                        <th id=\"T_e3181eb4_4ccb_11ea_abe8_0c5415364605level0_row12\" class=\"row_heading level0 row12\" >en</th>\n",
       "                        <td id=\"T_e3181eb4_4ccb_11ea_abe8_0c5415364605row12_col0\" class=\"data row12 col0\" >283</td>\n",
       "                        <td id=\"T_e3181eb4_4ccb_11ea_abe8_0c5415364605row12_col1\" class=\"data row12 col1\" >443</td>\n",
       "                        <td id=\"T_e3181eb4_4ccb_11ea_abe8_0c5415364605row12_col2\" class=\"data row12 col2\" >774</td>\n",
       "                        <td id=\"T_e3181eb4_4ccb_11ea_abe8_0c5415364605row12_col3\" class=\"data row12 col3\" >29</td>\n",
       "                        <td id=\"T_e3181eb4_4ccb_11ea_abe8_0c5415364605row12_col4\" class=\"data row12 col4\" >173</td>\n",
       "                        <td id=\"T_e3181eb4_4ccb_11ea_abe8_0c5415364605row12_col5\" class=\"data row12 col5\" >131</td>\n",
       "                        <td id=\"T_e3181eb4_4ccb_11ea_abe8_0c5415364605row12_col6\" class=\"data row12 col6\" >209</td>\n",
       "                        <td id=\"T_e3181eb4_4ccb_11ea_abe8_0c5415364605row12_col7\" class=\"data row12 col7\" >1163</td>\n",
       "                        <td id=\"T_e3181eb4_4ccb_11ea_abe8_0c5415364605row12_col8\" class=\"data row12 col8\" >99</td>\n",
       "                        <td id=\"T_e3181eb4_4ccb_11ea_abe8_0c5415364605row12_col9\" class=\"data row12 col9\" >18</td>\n",
       "                        <td id=\"T_e3181eb4_4ccb_11ea_abe8_0c5415364605row12_col10\" class=\"data row12 col10\" >221</td>\n",
       "                        <td id=\"T_e3181eb4_4ccb_11ea_abe8_0c5415364605row12_col11\" class=\"data row12 col11\" >634</td>\n",
       "                        <td id=\"T_e3181eb4_4ccb_11ea_abe8_0c5415364605row12_col12\" class=\"data row12 col12\" >315</td>\n",
       "                        <td id=\"T_e3181eb4_4ccb_11ea_abe8_0c5415364605row12_col13\" class=\"data row12 col13\" >66</td>\n",
       "                        <td id=\"T_e3181eb4_4ccb_11ea_abe8_0c5415364605row12_col14\" class=\"data row12 col14\" >137</td>\n",
       "                        <td id=\"T_e3181eb4_4ccb_11ea_abe8_0c5415364605row12_col15\" class=\"data row12 col15\" >467</td>\n",
       "                        <td id=\"T_e3181eb4_4ccb_11ea_abe8_0c5415364605row12_col16\" class=\"data row12 col16\" >172</td>\n",
       "                        <td id=\"T_e3181eb4_4ccb_11ea_abe8_0c5415364605row12_col17\" class=\"data row12 col17\" >320</td>\n",
       "                        <td id=\"T_e3181eb4_4ccb_11ea_abe8_0c5415364605row12_col18\" class=\"data row12 col18\" >92</td>\n",
       "                        <td id=\"T_e3181eb4_4ccb_11ea_abe8_0c5415364605row12_col19\" class=\"data row12 col19\" >604</td>\n",
       "                        <td id=\"T_e3181eb4_4ccb_11ea_abe8_0c5415364605row12_col20\" class=\"data row12 col20\" >59</td>\n",
       "                        <td id=\"T_e3181eb4_4ccb_11ea_abe8_0c5415364605row12_col21\" class=\"data row12 col21\" >906</td>\n",
       "                        <td id=\"T_e3181eb4_4ccb_11ea_abe8_0c5415364605row12_col22\" class=\"data row12 col22\" >798</td>\n",
       "                        <td id=\"T_e3181eb4_4ccb_11ea_abe8_0c5415364605row12_col23\" class=\"data row12 col23\" >1192</td>\n",
       "                        <td id=\"T_e3181eb4_4ccb_11ea_abe8_0c5415364605row12_col24\" class=\"data row12 col24\" >1051</td>\n",
       "                        <td id=\"T_e3181eb4_4ccb_11ea_abe8_0c5415364605row12_col25\" class=\"data row12 col25\" >1438</td>\n",
       "                        <td id=\"T_e3181eb4_4ccb_11ea_abe8_0c5415364605row12_col26\" class=\"data row12 col26\" >1164</td>\n",
       "                        <td id=\"T_e3181eb4_4ccb_11ea_abe8_0c5415364605row12_col27\" class=\"data row12 col27\" >317</td>\n",
       "                        <td id=\"T_e3181eb4_4ccb_11ea_abe8_0c5415364605row12_col28\" class=\"data row12 col28\" >48</td>\n",
       "                        <td id=\"T_e3181eb4_4ccb_11ea_abe8_0c5415364605row12_col29\" class=\"data row12 col29\" >75</td>\n",
       "            </tr>\n",
       "            <tr>\n",
       "                        <th id=\"T_e3181eb4_4ccb_11ea_abe8_0c5415364605level0_row13\" class=\"row_heading level0 row13\" >den</th>\n",
       "                        <td id=\"T_e3181eb4_4ccb_11ea_abe8_0c5415364605row13_col0\" class=\"data row13 col0\" >85</td>\n",
       "                        <td id=\"T_e3181eb4_4ccb_11ea_abe8_0c5415364605row13_col1\" class=\"data row13 col1\" >409</td>\n",
       "                        <td id=\"T_e3181eb4_4ccb_11ea_abe8_0c5415364605row13_col2\" class=\"data row13 col2\" >680</td>\n",
       "                        <td id=\"T_e3181eb4_4ccb_11ea_abe8_0c5415364605row13_col3\" class=\"data row13 col3\" >28</td>\n",
       "                        <td id=\"T_e3181eb4_4ccb_11ea_abe8_0c5415364605row13_col4\" class=\"data row13 col4\" >153</td>\n",
       "                        <td id=\"T_e3181eb4_4ccb_11ea_abe8_0c5415364605row13_col5\" class=\"data row13 col5\" >156</td>\n",
       "                        <td id=\"T_e3181eb4_4ccb_11ea_abe8_0c5415364605row13_col6\" class=\"data row13 col6\" >193</td>\n",
       "                        <td id=\"T_e3181eb4_4ccb_11ea_abe8_0c5415364605row13_col7\" class=\"data row13 col7\" >248</td>\n",
       "                        <td id=\"T_e3181eb4_4ccb_11ea_abe8_0c5415364605row13_col8\" class=\"data row13 col8\" >181</td>\n",
       "                        <td id=\"T_e3181eb4_4ccb_11ea_abe8_0c5415364605row13_col9\" class=\"data row13 col9\" >10</td>\n",
       "                        <td id=\"T_e3181eb4_4ccb_11ea_abe8_0c5415364605row13_col10\" class=\"data row13 col10\" >190</td>\n",
       "                        <td id=\"T_e3181eb4_4ccb_11ea_abe8_0c5415364605row13_col11\" class=\"data row13 col11\" >525</td>\n",
       "                        <td id=\"T_e3181eb4_4ccb_11ea_abe8_0c5415364605row13_col12\" class=\"data row13 col12\" >233</td>\n",
       "                        <td id=\"T_e3181eb4_4ccb_11ea_abe8_0c5415364605row13_col13\" class=\"data row13 col13\" >26</td>\n",
       "                        <td id=\"T_e3181eb4_4ccb_11ea_abe8_0c5415364605row13_col14\" class=\"data row13 col14\" >111</td>\n",
       "                        <td id=\"T_e3181eb4_4ccb_11ea_abe8_0c5415364605row13_col15\" class=\"data row13 col15\" >404</td>\n",
       "                        <td id=\"T_e3181eb4_4ccb_11ea_abe8_0c5415364605row13_col16\" class=\"data row13 col16\" >86</td>\n",
       "                        <td id=\"T_e3181eb4_4ccb_11ea_abe8_0c5415364605row13_col17\" class=\"data row13 col17\" >234</td>\n",
       "                        <td id=\"T_e3181eb4_4ccb_11ea_abe8_0c5415364605row13_col18\" class=\"data row13 col18\" >96</td>\n",
       "                        <td id=\"T_e3181eb4_4ccb_11ea_abe8_0c5415364605row13_col19\" class=\"data row13 col19\" >635</td>\n",
       "                        <td id=\"T_e3181eb4_4ccb_11ea_abe8_0c5415364605row13_col20\" class=\"data row13 col20\" >51</td>\n",
       "                        <td id=\"T_e3181eb4_4ccb_11ea_abe8_0c5415364605row13_col21\" class=\"data row13 col21\" >1220</td>\n",
       "                        <td id=\"T_e3181eb4_4ccb_11ea_abe8_0c5415364605row13_col22\" class=\"data row13 col22\" >1273</td>\n",
       "                        <td id=\"T_e3181eb4_4ccb_11ea_abe8_0c5415364605row13_col23\" class=\"data row13 col23\" >1646</td>\n",
       "                        <td id=\"T_e3181eb4_4ccb_11ea_abe8_0c5415364605row13_col24\" class=\"data row13 col24\" >1617</td>\n",
       "                        <td id=\"T_e3181eb4_4ccb_11ea_abe8_0c5415364605row13_col25\" class=\"data row13 col25\" >1998</td>\n",
       "                        <td id=\"T_e3181eb4_4ccb_11ea_abe8_0c5415364605row13_col26\" class=\"data row13 col26\" >1625</td>\n",
       "                        <td id=\"T_e3181eb4_4ccb_11ea_abe8_0c5415364605row13_col27\" class=\"data row13 col27\" >475</td>\n",
       "                        <td id=\"T_e3181eb4_4ccb_11ea_abe8_0c5415364605row13_col28\" class=\"data row13 col28\" >53</td>\n",
       "                        <td id=\"T_e3181eb4_4ccb_11ea_abe8_0c5415364605row13_col29\" class=\"data row13 col29\" >64</td>\n",
       "            </tr>\n",
       "            <tr>\n",
       "                        <th id=\"T_e3181eb4_4ccb_11ea_abe8_0c5415364605level0_row14\" class=\"row_heading level0 row14\" >med</th>\n",
       "                        <td id=\"T_e3181eb4_4ccb_11ea_abe8_0c5415364605row14_col0\" class=\"data row14 col0\" >43</td>\n",
       "                        <td id=\"T_e3181eb4_4ccb_11ea_abe8_0c5415364605row14_col1\" class=\"data row14 col1\" >377</td>\n",
       "                        <td id=\"T_e3181eb4_4ccb_11ea_abe8_0c5415364605row14_col2\" class=\"data row14 col2\" >543</td>\n",
       "                        <td id=\"T_e3181eb4_4ccb_11ea_abe8_0c5415364605row14_col3\" class=\"data row14 col3\" >16</td>\n",
       "                        <td id=\"T_e3181eb4_4ccb_11ea_abe8_0c5415364605row14_col4\" class=\"data row14 col4\" >87</td>\n",
       "                        <td id=\"T_e3181eb4_4ccb_11ea_abe8_0c5415364605row14_col5\" class=\"data row14 col5\" >87</td>\n",
       "                        <td id=\"T_e3181eb4_4ccb_11ea_abe8_0c5415364605row14_col6\" class=\"data row14 col6\" >169</td>\n",
       "                        <td id=\"T_e3181eb4_4ccb_11ea_abe8_0c5415364605row14_col7\" class=\"data row14 col7\" >473</td>\n",
       "                        <td id=\"T_e3181eb4_4ccb_11ea_abe8_0c5415364605row14_col8\" class=\"data row14 col8\" >129</td>\n",
       "                        <td id=\"T_e3181eb4_4ccb_11ea_abe8_0c5415364605row14_col9\" class=\"data row14 col9\" >17</td>\n",
       "                        <td id=\"T_e3181eb4_4ccb_11ea_abe8_0c5415364605row14_col10\" class=\"data row14 col10\" >109</td>\n",
       "                        <td id=\"T_e3181eb4_4ccb_11ea_abe8_0c5415364605row14_col11\" class=\"data row14 col11\" >470</td>\n",
       "                        <td id=\"T_e3181eb4_4ccb_11ea_abe8_0c5415364605row14_col12\" class=\"data row14 col12\" >280</td>\n",
       "                        <td id=\"T_e3181eb4_4ccb_11ea_abe8_0c5415364605row14_col13\" class=\"data row14 col13\" >64</td>\n",
       "                        <td id=\"T_e3181eb4_4ccb_11ea_abe8_0c5415364605row14_col14\" class=\"data row14 col14\" >110</td>\n",
       "                        <td id=\"T_e3181eb4_4ccb_11ea_abe8_0c5415364605row14_col15\" class=\"data row14 col15\" >389</td>\n",
       "                        <td id=\"T_e3181eb4_4ccb_11ea_abe8_0c5415364605row14_col16\" class=\"data row14 col16\" >174</td>\n",
       "                        <td id=\"T_e3181eb4_4ccb_11ea_abe8_0c5415364605row14_col17\" class=\"data row14 col17\" >326</td>\n",
       "                        <td id=\"T_e3181eb4_4ccb_11ea_abe8_0c5415364605row14_col18\" class=\"data row14 col18\" >83</td>\n",
       "                        <td id=\"T_e3181eb4_4ccb_11ea_abe8_0c5415364605row14_col19\" class=\"data row14 col19\" >492</td>\n",
       "                        <td id=\"T_e3181eb4_4ccb_11ea_abe8_0c5415364605row14_col20\" class=\"data row14 col20\" >47</td>\n",
       "                        <td id=\"T_e3181eb4_4ccb_11ea_abe8_0c5415364605row14_col21\" class=\"data row14 col21\" >917</td>\n",
       "                        <td id=\"T_e3181eb4_4ccb_11ea_abe8_0c5415364605row14_col22\" class=\"data row14 col22\" >826</td>\n",
       "                        <td id=\"T_e3181eb4_4ccb_11ea_abe8_0c5415364605row14_col23\" class=\"data row14 col23\" >1247</td>\n",
       "                        <td id=\"T_e3181eb4_4ccb_11ea_abe8_0c5415364605row14_col24\" class=\"data row14 col24\" >1394</td>\n",
       "                        <td id=\"T_e3181eb4_4ccb_11ea_abe8_0c5415364605row14_col25\" class=\"data row14 col25\" >1826</td>\n",
       "                        <td id=\"T_e3181eb4_4ccb_11ea_abe8_0c5415364605row14_col26\" class=\"data row14 col26\" >1475</td>\n",
       "                        <td id=\"T_e3181eb4_4ccb_11ea_abe8_0c5415364605row14_col27\" class=\"data row14 col27\" >326</td>\n",
       "                        <td id=\"T_e3181eb4_4ccb_11ea_abe8_0c5415364605row14_col28\" class=\"data row14 col28\" >30</td>\n",
       "                        <td id=\"T_e3181eb4_4ccb_11ea_abe8_0c5415364605row14_col29\" class=\"data row14 col29\" >71</td>\n",
       "            </tr>\n",
       "            <tr>\n",
       "                        <th id=\"T_e3181eb4_4ccb_11ea_abe8_0c5415364605level0_row15\" class=\"row_heading level0 row15\" >mig</th>\n",
       "                        <td id=\"T_e3181eb4_4ccb_11ea_abe8_0c5415364605row15_col0\" class=\"data row15 col0\" >0</td>\n",
       "                        <td id=\"T_e3181eb4_4ccb_11ea_abe8_0c5415364605row15_col1\" class=\"data row15 col1\" >366</td>\n",
       "                        <td id=\"T_e3181eb4_4ccb_11ea_abe8_0c5415364605row15_col2\" class=\"data row15 col2\" >609</td>\n",
       "                        <td id=\"T_e3181eb4_4ccb_11ea_abe8_0c5415364605row15_col3\" class=\"data row15 col3\" >36</td>\n",
       "                        <td id=\"T_e3181eb4_4ccb_11ea_abe8_0c5415364605row15_col4\" class=\"data row15 col4\" >169</td>\n",
       "                        <td id=\"T_e3181eb4_4ccb_11ea_abe8_0c5415364605row15_col5\" class=\"data row15 col5\" >101</td>\n",
       "                        <td id=\"T_e3181eb4_4ccb_11ea_abe8_0c5415364605row15_col6\" class=\"data row15 col6\" >185</td>\n",
       "                        <td id=\"T_e3181eb4_4ccb_11ea_abe8_0c5415364605row15_col7\" class=\"data row15 col7\" >0</td>\n",
       "                        <td id=\"T_e3181eb4_4ccb_11ea_abe8_0c5415364605row15_col8\" class=\"data row15 col8\" >4</td>\n",
       "                        <td id=\"T_e3181eb4_4ccb_11ea_abe8_0c5415364605row15_col9\" class=\"data row15 col9\" >1</td>\n",
       "                        <td id=\"T_e3181eb4_4ccb_11ea_abe8_0c5415364605row15_col10\" class=\"data row15 col10\" >69</td>\n",
       "                        <td id=\"T_e3181eb4_4ccb_11ea_abe8_0c5415364605row15_col11\" class=\"data row15 col11\" >135</td>\n",
       "                        <td id=\"T_e3181eb4_4ccb_11ea_abe8_0c5415364605row15_col12\" class=\"data row15 col12\" >77</td>\n",
       "                        <td id=\"T_e3181eb4_4ccb_11ea_abe8_0c5415364605row15_col13\" class=\"data row15 col13\" >7</td>\n",
       "                        <td id=\"T_e3181eb4_4ccb_11ea_abe8_0c5415364605row15_col14\" class=\"data row15 col14\" >20</td>\n",
       "                        <td id=\"T_e3181eb4_4ccb_11ea_abe8_0c5415364605row15_col15\" class=\"data row15 col15\" >373</td>\n",
       "                        <td id=\"T_e3181eb4_4ccb_11ea_abe8_0c5415364605row15_col16\" class=\"data row15 col16\" >104</td>\n",
       "                        <td id=\"T_e3181eb4_4ccb_11ea_abe8_0c5415364605row15_col17\" class=\"data row15 col17\" >289</td>\n",
       "                        <td id=\"T_e3181eb4_4ccb_11ea_abe8_0c5415364605row15_col18\" class=\"data row15 col18\" >54</td>\n",
       "                        <td id=\"T_e3181eb4_4ccb_11ea_abe8_0c5415364605row15_col19\" class=\"data row15 col19\" >651</td>\n",
       "                        <td id=\"T_e3181eb4_4ccb_11ea_abe8_0c5415364605row15_col20\" class=\"data row15 col20\" >30</td>\n",
       "                        <td id=\"T_e3181eb4_4ccb_11ea_abe8_0c5415364605row15_col21\" class=\"data row15 col21\" >740</td>\n",
       "                        <td id=\"T_e3181eb4_4ccb_11ea_abe8_0c5415364605row15_col22\" class=\"data row15 col22\" >865</td>\n",
       "                        <td id=\"T_e3181eb4_4ccb_11ea_abe8_0c5415364605row15_col23\" class=\"data row15 col23\" >1145</td>\n",
       "                        <td id=\"T_e3181eb4_4ccb_11ea_abe8_0c5415364605row15_col24\" class=\"data row15 col24\" >1169</td>\n",
       "                        <td id=\"T_e3181eb4_4ccb_11ea_abe8_0c5415364605row15_col25\" class=\"data row15 col25\" >1511</td>\n",
       "                        <td id=\"T_e3181eb4_4ccb_11ea_abe8_0c5415364605row15_col26\" class=\"data row15 col26\" >1203</td>\n",
       "                        <td id=\"T_e3181eb4_4ccb_11ea_abe8_0c5415364605row15_col27\" class=\"data row15 col27\" >290</td>\n",
       "                        <td id=\"T_e3181eb4_4ccb_11ea_abe8_0c5415364605row15_col28\" class=\"data row15 col28\" >49</td>\n",
       "                        <td id=\"T_e3181eb4_4ccb_11ea_abe8_0c5415364605row15_col29\" class=\"data row15 col29\" >27</td>\n",
       "            </tr>\n",
       "            <tr>\n",
       "                        <th id=\"T_e3181eb4_4ccb_11ea_abe8_0c5415364605level0_row16\" class=\"row_heading level0 row16\" >(</th>\n",
       "                        <td id=\"T_e3181eb4_4ccb_11ea_abe8_0c5415364605row16_col0\" class=\"data row16 col0\" >75</td>\n",
       "                        <td id=\"T_e3181eb4_4ccb_11ea_abe8_0c5415364605row16_col1\" class=\"data row16 col1\" >327</td>\n",
       "                        <td id=\"T_e3181eb4_4ccb_11ea_abe8_0c5415364605row16_col2\" class=\"data row16 col2\" >793</td>\n",
       "                        <td id=\"T_e3181eb4_4ccb_11ea_abe8_0c5415364605row16_col3\" class=\"data row16 col3\" >27</td>\n",
       "                        <td id=\"T_e3181eb4_4ccb_11ea_abe8_0c5415364605row16_col4\" class=\"data row16 col4\" >82</td>\n",
       "                        <td id=\"T_e3181eb4_4ccb_11ea_abe8_0c5415364605row16_col5\" class=\"data row16 col5\" >156</td>\n",
       "                        <td id=\"T_e3181eb4_4ccb_11ea_abe8_0c5415364605row16_col6\" class=\"data row16 col6\" >47</td>\n",
       "                        <td id=\"T_e3181eb4_4ccb_11ea_abe8_0c5415364605row16_col7\" class=\"data row16 col7\" >151</td>\n",
       "                        <td id=\"T_e3181eb4_4ccb_11ea_abe8_0c5415364605row16_col8\" class=\"data row16 col8\" >185</td>\n",
       "                        <td id=\"T_e3181eb4_4ccb_11ea_abe8_0c5415364605row16_col9\" class=\"data row16 col9\" >18</td>\n",
       "                        <td id=\"T_e3181eb4_4ccb_11ea_abe8_0c5415364605row16_col10\" class=\"data row16 col10\" >4</td>\n",
       "                        <td id=\"T_e3181eb4_4ccb_11ea_abe8_0c5415364605row16_col11\" class=\"data row16 col11\" >628</td>\n",
       "                        <td id=\"T_e3181eb4_4ccb_11ea_abe8_0c5415364605row16_col12\" class=\"data row16 col12\" >277</td>\n",
       "                        <td id=\"T_e3181eb4_4ccb_11ea_abe8_0c5415364605row16_col13\" class=\"data row16 col13\" >390</td>\n",
       "                        <td id=\"T_e3181eb4_4ccb_11ea_abe8_0c5415364605row16_col14\" class=\"data row16 col14\" >64</td>\n",
       "                        <td id=\"T_e3181eb4_4ccb_11ea_abe8_0c5415364605row16_col15\" class=\"data row16 col15\" >342</td>\n",
       "                        <td id=\"T_e3181eb4_4ccb_11ea_abe8_0c5415364605row16_col16\" class=\"data row16 col16\" >195</td>\n",
       "                        <td id=\"T_e3181eb4_4ccb_11ea_abe8_0c5415364605row16_col17\" class=\"data row16 col17\" >356</td>\n",
       "                        <td id=\"T_e3181eb4_4ccb_11ea_abe8_0c5415364605row16_col18\" class=\"data row16 col18\" >61</td>\n",
       "                        <td id=\"T_e3181eb4_4ccb_11ea_abe8_0c5415364605row16_col19\" class=\"data row16 col19\" >95</td>\n",
       "                        <td id=\"T_e3181eb4_4ccb_11ea_abe8_0c5415364605row16_col20\" class=\"data row16 col20\" >58</td>\n",
       "                        <td id=\"T_e3181eb4_4ccb_11ea_abe8_0c5415364605row16_col21\" class=\"data row16 col21\" >234</td>\n",
       "                        <td id=\"T_e3181eb4_4ccb_11ea_abe8_0c5415364605row16_col22\" class=\"data row16 col22\" >166</td>\n",
       "                        <td id=\"T_e3181eb4_4ccb_11ea_abe8_0c5415364605row16_col23\" class=\"data row16 col23\" >289</td>\n",
       "                        <td id=\"T_e3181eb4_4ccb_11ea_abe8_0c5415364605row16_col24\" class=\"data row16 col24\" >253</td>\n",
       "                        <td id=\"T_e3181eb4_4ccb_11ea_abe8_0c5415364605row16_col25\" class=\"data row16 col25\" >278</td>\n",
       "                        <td id=\"T_e3181eb4_4ccb_11ea_abe8_0c5415364605row16_col26\" class=\"data row16 col26\" >207</td>\n",
       "                        <td id=\"T_e3181eb4_4ccb_11ea_abe8_0c5415364605row16_col27\" class=\"data row16 col27\" >53</td>\n",
       "                        <td id=\"T_e3181eb4_4ccb_11ea_abe8_0c5415364605row16_col28\" class=\"data row16 col28\" >5</td>\n",
       "                        <td id=\"T_e3181eb4_4ccb_11ea_abe8_0c5415364605row16_col29\" class=\"data row16 col29\" >18</td>\n",
       "            </tr>\n",
       "            <tr>\n",
       "                        <th id=\"T_e3181eb4_4ccb_11ea_abe8_0c5415364605level0_row17\" class=\"row_heading level0 row17\" >)</th>\n",
       "                        <td id=\"T_e3181eb4_4ccb_11ea_abe8_0c5415364605row17_col0\" class=\"data row17 col0\" >75</td>\n",
       "                        <td id=\"T_e3181eb4_4ccb_11ea_abe8_0c5415364605row17_col1\" class=\"data row17 col1\" >326</td>\n",
       "                        <td id=\"T_e3181eb4_4ccb_11ea_abe8_0c5415364605row17_col2\" class=\"data row17 col2\" >790</td>\n",
       "                        <td id=\"T_e3181eb4_4ccb_11ea_abe8_0c5415364605row17_col3\" class=\"data row17 col3\" >27</td>\n",
       "                        <td id=\"T_e3181eb4_4ccb_11ea_abe8_0c5415364605row17_col4\" class=\"data row17 col4\" >82</td>\n",
       "                        <td id=\"T_e3181eb4_4ccb_11ea_abe8_0c5415364605row17_col5\" class=\"data row17 col5\" >156</td>\n",
       "                        <td id=\"T_e3181eb4_4ccb_11ea_abe8_0c5415364605row17_col6\" class=\"data row17 col6\" >47</td>\n",
       "                        <td id=\"T_e3181eb4_4ccb_11ea_abe8_0c5415364605row17_col7\" class=\"data row17 col7\" >178</td>\n",
       "                        <td id=\"T_e3181eb4_4ccb_11ea_abe8_0c5415364605row17_col8\" class=\"data row17 col8\" >185</td>\n",
       "                        <td id=\"T_e3181eb4_4ccb_11ea_abe8_0c5415364605row17_col9\" class=\"data row17 col9\" >19</td>\n",
       "                        <td id=\"T_e3181eb4_4ccb_11ea_abe8_0c5415364605row17_col10\" class=\"data row17 col10\" >4</td>\n",
       "                        <td id=\"T_e3181eb4_4ccb_11ea_abe8_0c5415364605row17_col11\" class=\"data row17 col11\" >654</td>\n",
       "                        <td id=\"T_e3181eb4_4ccb_11ea_abe8_0c5415364605row17_col12\" class=\"data row17 col12\" >293</td>\n",
       "                        <td id=\"T_e3181eb4_4ccb_11ea_abe8_0c5415364605row17_col13\" class=\"data row17 col13\" >387</td>\n",
       "                        <td id=\"T_e3181eb4_4ccb_11ea_abe8_0c5415364605row17_col14\" class=\"data row17 col14\" >68</td>\n",
       "                        <td id=\"T_e3181eb4_4ccb_11ea_abe8_0c5415364605row17_col15\" class=\"data row17 col15\" >342</td>\n",
       "                        <td id=\"T_e3181eb4_4ccb_11ea_abe8_0c5415364605row17_col16\" class=\"data row17 col16\" >195</td>\n",
       "                        <td id=\"T_e3181eb4_4ccb_11ea_abe8_0c5415364605row17_col17\" class=\"data row17 col17\" >352</td>\n",
       "                        <td id=\"T_e3181eb4_4ccb_11ea_abe8_0c5415364605row17_col18\" class=\"data row17 col18\" >61</td>\n",
       "                        <td id=\"T_e3181eb4_4ccb_11ea_abe8_0c5415364605row17_col19\" class=\"data row17 col19\" >94</td>\n",
       "                        <td id=\"T_e3181eb4_4ccb_11ea_abe8_0c5415364605row17_col20\" class=\"data row17 col20\" >58</td>\n",
       "                        <td id=\"T_e3181eb4_4ccb_11ea_abe8_0c5415364605row17_col21\" class=\"data row17 col21\" >235</td>\n",
       "                        <td id=\"T_e3181eb4_4ccb_11ea_abe8_0c5415364605row17_col22\" class=\"data row17 col22\" >165</td>\n",
       "                        <td id=\"T_e3181eb4_4ccb_11ea_abe8_0c5415364605row17_col23\" class=\"data row17 col23\" >291</td>\n",
       "                        <td id=\"T_e3181eb4_4ccb_11ea_abe8_0c5415364605row17_col24\" class=\"data row17 col24\" >256</td>\n",
       "                        <td id=\"T_e3181eb4_4ccb_11ea_abe8_0c5415364605row17_col25\" class=\"data row17 col25\" >281</td>\n",
       "                        <td id=\"T_e3181eb4_4ccb_11ea_abe8_0c5415364605row17_col26\" class=\"data row17 col26\" >207</td>\n",
       "                        <td id=\"T_e3181eb4_4ccb_11ea_abe8_0c5415364605row17_col27\" class=\"data row17 col27\" >53</td>\n",
       "                        <td id=\"T_e3181eb4_4ccb_11ea_abe8_0c5415364605row17_col28\" class=\"data row17 col28\" >5</td>\n",
       "                        <td id=\"T_e3181eb4_4ccb_11ea_abe8_0c5415364605row17_col29\" class=\"data row17 col29\" >18</td>\n",
       "            </tr>\n",
       "            <tr>\n",
       "                        <th id=\"T_e3181eb4_4ccb_11ea_abe8_0c5415364605level0_row18\" class=\"row_heading level0 row18\" >paa</th>\n",
       "                        <td id=\"T_e3181eb4_4ccb_11ea_abe8_0c5415364605row18_col0\" class=\"data row18 col0\" >3</td>\n",
       "                        <td id=\"T_e3181eb4_4ccb_11ea_abe8_0c5415364605row18_col1\" class=\"data row18 col1\" >323</td>\n",
       "                        <td id=\"T_e3181eb4_4ccb_11ea_abe8_0c5415364605row18_col2\" class=\"data row18 col2\" >463</td>\n",
       "                        <td id=\"T_e3181eb4_4ccb_11ea_abe8_0c5415364605row18_col3\" class=\"data row18 col3\" >17</td>\n",
       "                        <td id=\"T_e3181eb4_4ccb_11ea_abe8_0c5415364605row18_col4\" class=\"data row18 col4\" >20</td>\n",
       "                        <td id=\"T_e3181eb4_4ccb_11ea_abe8_0c5415364605row18_col5\" class=\"data row18 col5\" >37</td>\n",
       "                        <td id=\"T_e3181eb4_4ccb_11ea_abe8_0c5415364605row18_col6\" class=\"data row18 col6\" >111</td>\n",
       "                        <td id=\"T_e3181eb4_4ccb_11ea_abe8_0c5415364605row18_col7\" class=\"data row18 col7\" >0</td>\n",
       "                        <td id=\"T_e3181eb4_4ccb_11ea_abe8_0c5415364605row18_col8\" class=\"data row18 col8\" >94</td>\n",
       "                        <td id=\"T_e3181eb4_4ccb_11ea_abe8_0c5415364605row18_col9\" class=\"data row18 col9\" >29</td>\n",
       "                        <td id=\"T_e3181eb4_4ccb_11ea_abe8_0c5415364605row18_col10\" class=\"data row18 col10\" >127</td>\n",
       "                        <td id=\"T_e3181eb4_4ccb_11ea_abe8_0c5415364605row18_col11\" class=\"data row18 col11\" >288</td>\n",
       "                        <td id=\"T_e3181eb4_4ccb_11ea_abe8_0c5415364605row18_col12\" class=\"data row18 col12\" >130</td>\n",
       "                        <td id=\"T_e3181eb4_4ccb_11ea_abe8_0c5415364605row18_col13\" class=\"data row18 col13\" >32</td>\n",
       "                        <td id=\"T_e3181eb4_4ccb_11ea_abe8_0c5415364605row18_col14\" class=\"data row18 col14\" >121</td>\n",
       "                        <td id=\"T_e3181eb4_4ccb_11ea_abe8_0c5415364605row18_col15\" class=\"data row18 col15\" >366</td>\n",
       "                        <td id=\"T_e3181eb4_4ccb_11ea_abe8_0c5415364605row18_col16\" class=\"data row18 col16\" >147</td>\n",
       "                        <td id=\"T_e3181eb4_4ccb_11ea_abe8_0c5415364605row18_col17\" class=\"data row18 col17\" >203</td>\n",
       "                        <td id=\"T_e3181eb4_4ccb_11ea_abe8_0c5415364605row18_col18\" class=\"data row18 col18\" >51</td>\n",
       "                        <td id=\"T_e3181eb4_4ccb_11ea_abe8_0c5415364605row18_col19\" class=\"data row18 col19\" >387</td>\n",
       "                        <td id=\"T_e3181eb4_4ccb_11ea_abe8_0c5415364605row18_col20\" class=\"data row18 col20\" >27</td>\n",
       "                        <td id=\"T_e3181eb4_4ccb_11ea_abe8_0c5415364605row18_col21\" class=\"data row18 col21\" >702</td>\n",
       "                        <td id=\"T_e3181eb4_4ccb_11ea_abe8_0c5415364605row18_col22\" class=\"data row18 col22\" >715</td>\n",
       "                        <td id=\"T_e3181eb4_4ccb_11ea_abe8_0c5415364605row18_col23\" class=\"data row18 col23\" >1009</td>\n",
       "                        <td id=\"T_e3181eb4_4ccb_11ea_abe8_0c5415364605row18_col24\" class=\"data row18 col24\" >1093</td>\n",
       "                        <td id=\"T_e3181eb4_4ccb_11ea_abe8_0c5415364605row18_col25\" class=\"data row18 col25\" >1320</td>\n",
       "                        <td id=\"T_e3181eb4_4ccb_11ea_abe8_0c5415364605row18_col26\" class=\"data row18 col26\" >1050</td>\n",
       "                        <td id=\"T_e3181eb4_4ccb_11ea_abe8_0c5415364605row18_col27\" class=\"data row18 col27\" >291</td>\n",
       "                        <td id=\"T_e3181eb4_4ccb_11ea_abe8_0c5415364605row18_col28\" class=\"data row18 col28\" >33</td>\n",
       "                        <td id=\"T_e3181eb4_4ccb_11ea_abe8_0c5415364605row18_col29\" class=\"data row18 col29\" >108</td>\n",
       "            </tr>\n",
       "            <tr>\n",
       "                        <th id=\"T_e3181eb4_4ccb_11ea_abe8_0c5415364605level0_row19\" class=\"row_heading level0 row19\" >der</th>\n",
       "                        <td id=\"T_e3181eb4_4ccb_11ea_abe8_0c5415364605row19_col0\" class=\"data row19 col0\" >2</td>\n",
       "                        <td id=\"T_e3181eb4_4ccb_11ea_abe8_0c5415364605row19_col1\" class=\"data row19 col1\" >318</td>\n",
       "                        <td id=\"T_e3181eb4_4ccb_11ea_abe8_0c5415364605row19_col2\" class=\"data row19 col2\" >605</td>\n",
       "                        <td id=\"T_e3181eb4_4ccb_11ea_abe8_0c5415364605row19_col3\" class=\"data row19 col3\" >15</td>\n",
       "                        <td id=\"T_e3181eb4_4ccb_11ea_abe8_0c5415364605row19_col4\" class=\"data row19 col4\" >132</td>\n",
       "                        <td id=\"T_e3181eb4_4ccb_11ea_abe8_0c5415364605row19_col5\" class=\"data row19 col5\" >103</td>\n",
       "                        <td id=\"T_e3181eb4_4ccb_11ea_abe8_0c5415364605row19_col6\" class=\"data row19 col6\" >143</td>\n",
       "                        <td id=\"T_e3181eb4_4ccb_11ea_abe8_0c5415364605row19_col7\" class=\"data row19 col7\" >121</td>\n",
       "                        <td id=\"T_e3181eb4_4ccb_11ea_abe8_0c5415364605row19_col8\" class=\"data row19 col8\" >47</td>\n",
       "                        <td id=\"T_e3181eb4_4ccb_11ea_abe8_0c5415364605row19_col9\" class=\"data row19 col9\" >7</td>\n",
       "                        <td id=\"T_e3181eb4_4ccb_11ea_abe8_0c5415364605row19_col10\" class=\"data row19 col10\" >53</td>\n",
       "                        <td id=\"T_e3181eb4_4ccb_11ea_abe8_0c5415364605row19_col11\" class=\"data row19 col11\" >244</td>\n",
       "                        <td id=\"T_e3181eb4_4ccb_11ea_abe8_0c5415364605row19_col12\" class=\"data row19 col12\" >107</td>\n",
       "                        <td id=\"T_e3181eb4_4ccb_11ea_abe8_0c5415364605row19_col13\" class=\"data row19 col13\" >11</td>\n",
       "                        <td id=\"T_e3181eb4_4ccb_11ea_abe8_0c5415364605row19_col14\" class=\"data row19 col14\" >46</td>\n",
       "                        <td id=\"T_e3181eb4_4ccb_11ea_abe8_0c5415364605row19_col15\" class=\"data row19 col15\" >244</td>\n",
       "                        <td id=\"T_e3181eb4_4ccb_11ea_abe8_0c5415364605row19_col16\" class=\"data row19 col16\" >102</td>\n",
       "                        <td id=\"T_e3181eb4_4ccb_11ea_abe8_0c5415364605row19_col17\" class=\"data row19 col17\" >165</td>\n",
       "                        <td id=\"T_e3181eb4_4ccb_11ea_abe8_0c5415364605row19_col18\" class=\"data row19 col18\" >25</td>\n",
       "                        <td id=\"T_e3181eb4_4ccb_11ea_abe8_0c5415364605row19_col19\" class=\"data row19 col19\" >283</td>\n",
       "                        <td id=\"T_e3181eb4_4ccb_11ea_abe8_0c5415364605row19_col20\" class=\"data row19 col20\" >17</td>\n",
       "                        <td id=\"T_e3181eb4_4ccb_11ea_abe8_0c5415364605row19_col21\" class=\"data row19 col21\" >396</td>\n",
       "                        <td id=\"T_e3181eb4_4ccb_11ea_abe8_0c5415364605row19_col22\" class=\"data row19 col22\" >466</td>\n",
       "                        <td id=\"T_e3181eb4_4ccb_11ea_abe8_0c5415364605row19_col23\" class=\"data row19 col23\" >671</td>\n",
       "                        <td id=\"T_e3181eb4_4ccb_11ea_abe8_0c5415364605row19_col24\" class=\"data row19 col24\" >601</td>\n",
       "                        <td id=\"T_e3181eb4_4ccb_11ea_abe8_0c5415364605row19_col25\" class=\"data row19 col25\" >826</td>\n",
       "                        <td id=\"T_e3181eb4_4ccb_11ea_abe8_0c5415364605row19_col26\" class=\"data row19 col26\" >815</td>\n",
       "                        <td id=\"T_e3181eb4_4ccb_11ea_abe8_0c5415364605row19_col27\" class=\"data row19 col27\" >281</td>\n",
       "                        <td id=\"T_e3181eb4_4ccb_11ea_abe8_0c5415364605row19_col28\" class=\"data row19 col28\" >44</td>\n",
       "                        <td id=\"T_e3181eb4_4ccb_11ea_abe8_0c5415364605row19_col29\" class=\"data row19 col29\" >50</td>\n",
       "            </tr>\n",
       "            <tr>\n",
       "                        <th id=\"T_e3181eb4_4ccb_11ea_abe8_0c5415364605level0_row20\" class=\"row_heading level0 row20\" >Du</th>\n",
       "                        <td id=\"T_e3181eb4_4ccb_11ea_abe8_0c5415364605row20_col0\" class=\"data row20 col0\" >0</td>\n",
       "                        <td id=\"T_e3181eb4_4ccb_11ea_abe8_0c5415364605row20_col1\" class=\"data row20 col1\" >287</td>\n",
       "                        <td id=\"T_e3181eb4_4ccb_11ea_abe8_0c5415364605row20_col2\" class=\"data row20 col2\" >351</td>\n",
       "                        <td id=\"T_e3181eb4_4ccb_11ea_abe8_0c5415364605row20_col3\" class=\"data row20 col3\" >0</td>\n",
       "                        <td id=\"T_e3181eb4_4ccb_11ea_abe8_0c5415364605row20_col4\" class=\"data row20 col4\" >1</td>\n",
       "                        <td id=\"T_e3181eb4_4ccb_11ea_abe8_0c5415364605row20_col5\" class=\"data row20 col5\" >1</td>\n",
       "                        <td id=\"T_e3181eb4_4ccb_11ea_abe8_0c5415364605row20_col6\" class=\"data row20 col6\" >8</td>\n",
       "                        <td id=\"T_e3181eb4_4ccb_11ea_abe8_0c5415364605row20_col7\" class=\"data row20 col7\" >0</td>\n",
       "                        <td id=\"T_e3181eb4_4ccb_11ea_abe8_0c5415364605row20_col8\" class=\"data row20 col8\" >0</td>\n",
       "                        <td id=\"T_e3181eb4_4ccb_11ea_abe8_0c5415364605row20_col9\" class=\"data row20 col9\" >0</td>\n",
       "                        <td id=\"T_e3181eb4_4ccb_11ea_abe8_0c5415364605row20_col10\" class=\"data row20 col10\" >0</td>\n",
       "                        <td id=\"T_e3181eb4_4ccb_11ea_abe8_0c5415364605row20_col11\" class=\"data row20 col11\" >1</td>\n",
       "                        <td id=\"T_e3181eb4_4ccb_11ea_abe8_0c5415364605row20_col12\" class=\"data row20 col12\" >0</td>\n",
       "                        <td id=\"T_e3181eb4_4ccb_11ea_abe8_0c5415364605row20_col13\" class=\"data row20 col13\" >1</td>\n",
       "                        <td id=\"T_e3181eb4_4ccb_11ea_abe8_0c5415364605row20_col14\" class=\"data row20 col14\" >0</td>\n",
       "                        <td id=\"T_e3181eb4_4ccb_11ea_abe8_0c5415364605row20_col15\" class=\"data row20 col15\" >609</td>\n",
       "                        <td id=\"T_e3181eb4_4ccb_11ea_abe8_0c5415364605row20_col16\" class=\"data row20 col16\" >61</td>\n",
       "                        <td id=\"T_e3181eb4_4ccb_11ea_abe8_0c5415364605row20_col17\" class=\"data row20 col17\" >25</td>\n",
       "                        <td id=\"T_e3181eb4_4ccb_11ea_abe8_0c5415364605row20_col18\" class=\"data row20 col18\" >3</td>\n",
       "                        <td id=\"T_e3181eb4_4ccb_11ea_abe8_0c5415364605row20_col19\" class=\"data row20 col19\" >136</td>\n",
       "                        <td id=\"T_e3181eb4_4ccb_11ea_abe8_0c5415364605row20_col20\" class=\"data row20 col20\" >0</td>\n",
       "                        <td id=\"T_e3181eb4_4ccb_11ea_abe8_0c5415364605row20_col21\" class=\"data row20 col21\" >147</td>\n",
       "                        <td id=\"T_e3181eb4_4ccb_11ea_abe8_0c5415364605row20_col22\" class=\"data row20 col22\" >193</td>\n",
       "                        <td id=\"T_e3181eb4_4ccb_11ea_abe8_0c5415364605row20_col23\" class=\"data row20 col23\" >207</td>\n",
       "                        <td id=\"T_e3181eb4_4ccb_11ea_abe8_0c5415364605row20_col24\" class=\"data row20 col24\" >190</td>\n",
       "                        <td id=\"T_e3181eb4_4ccb_11ea_abe8_0c5415364605row20_col25\" class=\"data row20 col25\" >244</td>\n",
       "                        <td id=\"T_e3181eb4_4ccb_11ea_abe8_0c5415364605row20_col26\" class=\"data row20 col26\" >191</td>\n",
       "                        <td id=\"T_e3181eb4_4ccb_11ea_abe8_0c5415364605row20_col27\" class=\"data row20 col27\" >21</td>\n",
       "                        <td id=\"T_e3181eb4_4ccb_11ea_abe8_0c5415364605row20_col28\" class=\"data row20 col28\" >0</td>\n",
       "                        <td id=\"T_e3181eb4_4ccb_11ea_abe8_0c5415364605row20_col29\" class=\"data row20 col29\" >12</td>\n",
       "            </tr>\n",
       "            <tr>\n",
       "                        <th id=\"T_e3181eb4_4ccb_11ea_abe8_0c5415364605level0_row21\" class=\"row_heading level0 row21\" >for</th>\n",
       "                        <td id=\"T_e3181eb4_4ccb_11ea_abe8_0c5415364605row21_col0\" class=\"data row21 col0\" >41</td>\n",
       "                        <td id=\"T_e3181eb4_4ccb_11ea_abe8_0c5415364605row21_col1\" class=\"data row21 col1\" >286</td>\n",
       "                        <td id=\"T_e3181eb4_4ccb_11ea_abe8_0c5415364605row21_col2\" class=\"data row21 col2\" >559</td>\n",
       "                        <td id=\"T_e3181eb4_4ccb_11ea_abe8_0c5415364605row21_col3\" class=\"data row21 col3\" >30</td>\n",
       "                        <td id=\"T_e3181eb4_4ccb_11ea_abe8_0c5415364605row21_col4\" class=\"data row21 col4\" >117</td>\n",
       "                        <td id=\"T_e3181eb4_4ccb_11ea_abe8_0c5415364605row21_col5\" class=\"data row21 col5\" >113</td>\n",
       "                        <td id=\"T_e3181eb4_4ccb_11ea_abe8_0c5415364605row21_col6\" class=\"data row21 col6\" >126</td>\n",
       "                        <td id=\"T_e3181eb4_4ccb_11ea_abe8_0c5415364605row21_col7\" class=\"data row21 col7\" >476</td>\n",
       "                        <td id=\"T_e3181eb4_4ccb_11ea_abe8_0c5415364605row21_col8\" class=\"data row21 col8\" >137</td>\n",
       "                        <td id=\"T_e3181eb4_4ccb_11ea_abe8_0c5415364605row21_col9\" class=\"data row21 col9\" >9</td>\n",
       "                        <td id=\"T_e3181eb4_4ccb_11ea_abe8_0c5415364605row21_col10\" class=\"data row21 col10\" >78</td>\n",
       "                        <td id=\"T_e3181eb4_4ccb_11ea_abe8_0c5415364605row21_col11\" class=\"data row21 col11\" >414</td>\n",
       "                        <td id=\"T_e3181eb4_4ccb_11ea_abe8_0c5415364605row21_col12\" class=\"data row21 col12\" >191</td>\n",
       "                        <td id=\"T_e3181eb4_4ccb_11ea_abe8_0c5415364605row21_col13\" class=\"data row21 col13\" >49</td>\n",
       "                        <td id=\"T_e3181eb4_4ccb_11ea_abe8_0c5415364605row21_col14\" class=\"data row21 col14\" >113</td>\n",
       "                        <td id=\"T_e3181eb4_4ccb_11ea_abe8_0c5415364605row21_col15\" class=\"data row21 col15\" >408</td>\n",
       "                        <td id=\"T_e3181eb4_4ccb_11ea_abe8_0c5415364605row21_col16\" class=\"data row21 col16\" >191</td>\n",
       "                        <td id=\"T_e3181eb4_4ccb_11ea_abe8_0c5415364605row21_col17\" class=\"data row21 col17\" >332</td>\n",
       "                        <td id=\"T_e3181eb4_4ccb_11ea_abe8_0c5415364605row21_col18\" class=\"data row21 col18\" >70</td>\n",
       "                        <td id=\"T_e3181eb4_4ccb_11ea_abe8_0c5415364605row21_col19\" class=\"data row21 col19\" >469</td>\n",
       "                        <td id=\"T_e3181eb4_4ccb_11ea_abe8_0c5415364605row21_col20\" class=\"data row21 col20\" >46</td>\n",
       "                        <td id=\"T_e3181eb4_4ccb_11ea_abe8_0c5415364605row21_col21\" class=\"data row21 col21\" >803</td>\n",
       "                        <td id=\"T_e3181eb4_4ccb_11ea_abe8_0c5415364605row21_col22\" class=\"data row21 col22\" >868</td>\n",
       "                        <td id=\"T_e3181eb4_4ccb_11ea_abe8_0c5415364605row21_col23\" class=\"data row21 col23\" >1157</td>\n",
       "                        <td id=\"T_e3181eb4_4ccb_11ea_abe8_0c5415364605row21_col24\" class=\"data row21 col24\" >1145</td>\n",
       "                        <td id=\"T_e3181eb4_4ccb_11ea_abe8_0c5415364605row21_col25\" class=\"data row21 col25\" >1407</td>\n",
       "                        <td id=\"T_e3181eb4_4ccb_11ea_abe8_0c5415364605row21_col26\" class=\"data row21 col26\" >1176</td>\n",
       "                        <td id=\"T_e3181eb4_4ccb_11ea_abe8_0c5415364605row21_col27\" class=\"data row21 col27\" >368</td>\n",
       "                        <td id=\"T_e3181eb4_4ccb_11ea_abe8_0c5415364605row21_col28\" class=\"data row21 col28\" >38</td>\n",
       "                        <td id=\"T_e3181eb4_4ccb_11ea_abe8_0c5415364605row21_col29\" class=\"data row21 col29\" >50</td>\n",
       "            </tr>\n",
       "            <tr>\n",
       "                        <th id=\"T_e3181eb4_4ccb_11ea_abe8_0c5415364605level0_row22\" class=\"row_heading level0 row22\" >af</th>\n",
       "                        <td id=\"T_e3181eb4_4ccb_11ea_abe8_0c5415364605row22_col0\" class=\"data row22 col0\" >0</td>\n",
       "                        <td id=\"T_e3181eb4_4ccb_11ea_abe8_0c5415364605row22_col1\" class=\"data row22 col1\" >280</td>\n",
       "                        <td id=\"T_e3181eb4_4ccb_11ea_abe8_0c5415364605row22_col2\" class=\"data row22 col2\" >599</td>\n",
       "                        <td id=\"T_e3181eb4_4ccb_11ea_abe8_0c5415364605row22_col3\" class=\"data row22 col3\" >26</td>\n",
       "                        <td id=\"T_e3181eb4_4ccb_11ea_abe8_0c5415364605row22_col4\" class=\"data row22 col4\" >110</td>\n",
       "                        <td id=\"T_e3181eb4_4ccb_11ea_abe8_0c5415364605row22_col5\" class=\"data row22 col5\" >105</td>\n",
       "                        <td id=\"T_e3181eb4_4ccb_11ea_abe8_0c5415364605row22_col6\" class=\"data row22 col6\" >205</td>\n",
       "                        <td id=\"T_e3181eb4_4ccb_11ea_abe8_0c5415364605row22_col7\" class=\"data row22 col7\" >0</td>\n",
       "                        <td id=\"T_e3181eb4_4ccb_11ea_abe8_0c5415364605row22_col8\" class=\"data row22 col8\" >226</td>\n",
       "                        <td id=\"T_e3181eb4_4ccb_11ea_abe8_0c5415364605row22_col9\" class=\"data row22 col9\" >67</td>\n",
       "                        <td id=\"T_e3181eb4_4ccb_11ea_abe8_0c5415364605row22_col10\" class=\"data row22 col10\" >149</td>\n",
       "                        <td id=\"T_e3181eb4_4ccb_11ea_abe8_0c5415364605row22_col11\" class=\"data row22 col11\" >812</td>\n",
       "                        <td id=\"T_e3181eb4_4ccb_11ea_abe8_0c5415364605row22_col12\" class=\"data row22 col12\" >436</td>\n",
       "                        <td id=\"T_e3181eb4_4ccb_11ea_abe8_0c5415364605row22_col13\" class=\"data row22 col13\" >181</td>\n",
       "                        <td id=\"T_e3181eb4_4ccb_11ea_abe8_0c5415364605row22_col14\" class=\"data row22 col14\" >191</td>\n",
       "                        <td id=\"T_e3181eb4_4ccb_11ea_abe8_0c5415364605row22_col15\" class=\"data row22 col15\" >321</td>\n",
       "                        <td id=\"T_e3181eb4_4ccb_11ea_abe8_0c5415364605row22_col16\" class=\"data row22 col16\" >88</td>\n",
       "                        <td id=\"T_e3181eb4_4ccb_11ea_abe8_0c5415364605row22_col17\" class=\"data row22 col17\" >228</td>\n",
       "                        <td id=\"T_e3181eb4_4ccb_11ea_abe8_0c5415364605row22_col18\" class=\"data row22 col18\" >70</td>\n",
       "                        <td id=\"T_e3181eb4_4ccb_11ea_abe8_0c5415364605row22_col19\" class=\"data row22 col19\" >400</td>\n",
       "                        <td id=\"T_e3181eb4_4ccb_11ea_abe8_0c5415364605row22_col20\" class=\"data row22 col20\" >34</td>\n",
       "                        <td id=\"T_e3181eb4_4ccb_11ea_abe8_0c5415364605row22_col21\" class=\"data row22 col21\" >639</td>\n",
       "                        <td id=\"T_e3181eb4_4ccb_11ea_abe8_0c5415364605row22_col22\" class=\"data row22 col22\" >584</td>\n",
       "                        <td id=\"T_e3181eb4_4ccb_11ea_abe8_0c5415364605row22_col23\" class=\"data row22 col23\" >802</td>\n",
       "                        <td id=\"T_e3181eb4_4ccb_11ea_abe8_0c5415364605row22_col24\" class=\"data row22 col24\" >828</td>\n",
       "                        <td id=\"T_e3181eb4_4ccb_11ea_abe8_0c5415364605row22_col25\" class=\"data row22 col25\" >980</td>\n",
       "                        <td id=\"T_e3181eb4_4ccb_11ea_abe8_0c5415364605row22_col26\" class=\"data row22 col26\" >862</td>\n",
       "                        <td id=\"T_e3181eb4_4ccb_11ea_abe8_0c5415364605row22_col27\" class=\"data row22 col27\" >237</td>\n",
       "                        <td id=\"T_e3181eb4_4ccb_11ea_abe8_0c5415364605row22_col28\" class=\"data row22 col28\" >19</td>\n",
       "                        <td id=\"T_e3181eb4_4ccb_11ea_abe8_0c5415364605row22_col29\" class=\"data row22 col29\" >46</td>\n",
       "            </tr>\n",
       "            <tr>\n",
       "                        <th id=\"T_e3181eb4_4ccb_11ea_abe8_0c5415364605level0_row23\" class=\"row_heading level0 row23\" >har</th>\n",
       "                        <td id=\"T_e3181eb4_4ccb_11ea_abe8_0c5415364605row23_col0\" class=\"data row23 col0\" >347</td>\n",
       "                        <td id=\"T_e3181eb4_4ccb_11ea_abe8_0c5415364605row23_col1\" class=\"data row23 col1\" >278</td>\n",
       "                        <td id=\"T_e3181eb4_4ccb_11ea_abe8_0c5415364605row23_col2\" class=\"data row23 col2\" >675</td>\n",
       "                        <td id=\"T_e3181eb4_4ccb_11ea_abe8_0c5415364605row23_col3\" class=\"data row23 col3\" >30</td>\n",
       "                        <td id=\"T_e3181eb4_4ccb_11ea_abe8_0c5415364605row23_col4\" class=\"data row23 col4\" >147</td>\n",
       "                        <td id=\"T_e3181eb4_4ccb_11ea_abe8_0c5415364605row23_col5\" class=\"data row23 col5\" >131</td>\n",
       "                        <td id=\"T_e3181eb4_4ccb_11ea_abe8_0c5415364605row23_col6\" class=\"data row23 col6\" >59</td>\n",
       "                        <td id=\"T_e3181eb4_4ccb_11ea_abe8_0c5415364605row23_col7\" class=\"data row23 col7\" >141</td>\n",
       "                        <td id=\"T_e3181eb4_4ccb_11ea_abe8_0c5415364605row23_col8\" class=\"data row23 col8\" >32</td>\n",
       "                        <td id=\"T_e3181eb4_4ccb_11ea_abe8_0c5415364605row23_col9\" class=\"data row23 col9\" >7</td>\n",
       "                        <td id=\"T_e3181eb4_4ccb_11ea_abe8_0c5415364605row23_col10\" class=\"data row23 col10\" >91</td>\n",
       "                        <td id=\"T_e3181eb4_4ccb_11ea_abe8_0c5415364605row23_col11\" class=\"data row23 col11\" >234</td>\n",
       "                        <td id=\"T_e3181eb4_4ccb_11ea_abe8_0c5415364605row23_col12\" class=\"data row23 col12\" >111</td>\n",
       "                        <td id=\"T_e3181eb4_4ccb_11ea_abe8_0c5415364605row23_col13\" class=\"data row23 col13\" >24</td>\n",
       "                        <td id=\"T_e3181eb4_4ccb_11ea_abe8_0c5415364605row23_col14\" class=\"data row23 col14\" >134</td>\n",
       "                        <td id=\"T_e3181eb4_4ccb_11ea_abe8_0c5415364605row23_col15\" class=\"data row23 col15\" >467</td>\n",
       "                        <td id=\"T_e3181eb4_4ccb_11ea_abe8_0c5415364605row23_col16\" class=\"data row23 col16\" >226</td>\n",
       "                        <td id=\"T_e3181eb4_4ccb_11ea_abe8_0c5415364605row23_col17\" class=\"data row23 col17\" >484</td>\n",
       "                        <td id=\"T_e3181eb4_4ccb_11ea_abe8_0c5415364605row23_col18\" class=\"data row23 col18\" >32</td>\n",
       "                        <td id=\"T_e3181eb4_4ccb_11ea_abe8_0c5415364605row23_col19\" class=\"data row23 col19\" >418</td>\n",
       "                        <td id=\"T_e3181eb4_4ccb_11ea_abe8_0c5415364605row23_col20\" class=\"data row23 col20\" >26</td>\n",
       "                        <td id=\"T_e3181eb4_4ccb_11ea_abe8_0c5415364605row23_col21\" class=\"data row23 col21\" >785</td>\n",
       "                        <td id=\"T_e3181eb4_4ccb_11ea_abe8_0c5415364605row23_col22\" class=\"data row23 col22\" >694</td>\n",
       "                        <td id=\"T_e3181eb4_4ccb_11ea_abe8_0c5415364605row23_col23\" class=\"data row23 col23\" >982</td>\n",
       "                        <td id=\"T_e3181eb4_4ccb_11ea_abe8_0c5415364605row23_col24\" class=\"data row23 col24\" >1049</td>\n",
       "                        <td id=\"T_e3181eb4_4ccb_11ea_abe8_0c5415364605row23_col25\" class=\"data row23 col25\" >1325</td>\n",
       "                        <td id=\"T_e3181eb4_4ccb_11ea_abe8_0c5415364605row23_col26\" class=\"data row23 col26\" >1135</td>\n",
       "                        <td id=\"T_e3181eb4_4ccb_11ea_abe8_0c5415364605row23_col27\" class=\"data row23 col27\" >301</td>\n",
       "                        <td id=\"T_e3181eb4_4ccb_11ea_abe8_0c5415364605row23_col28\" class=\"data row23 col28\" >32</td>\n",
       "                        <td id=\"T_e3181eb4_4ccb_11ea_abe8_0c5415364605row23_col29\" class=\"data row23 col29\" >52</td>\n",
       "            </tr>\n",
       "            <tr>\n",
       "                        <th id=\"T_e3181eb4_4ccb_11ea_abe8_0c5415364605level0_row24\" class=\"row_heading level0 row24\" >saa</th>\n",
       "                        <td id=\"T_e3181eb4_4ccb_11ea_abe8_0c5415364605row24_col0\" class=\"data row24 col0\" >0</td>\n",
       "                        <td id=\"T_e3181eb4_4ccb_11ea_abe8_0c5415364605row24_col1\" class=\"data row24 col1\" >276</td>\n",
       "                        <td id=\"T_e3181eb4_4ccb_11ea_abe8_0c5415364605row24_col2\" class=\"data row24 col2\" >446</td>\n",
       "                        <td id=\"T_e3181eb4_4ccb_11ea_abe8_0c5415364605row24_col3\" class=\"data row24 col3\" >9</td>\n",
       "                        <td id=\"T_e3181eb4_4ccb_11ea_abe8_0c5415364605row24_col4\" class=\"data row24 col4\" >11</td>\n",
       "                        <td id=\"T_e3181eb4_4ccb_11ea_abe8_0c5415364605row24_col5\" class=\"data row24 col5\" >37</td>\n",
       "                        <td id=\"T_e3181eb4_4ccb_11ea_abe8_0c5415364605row24_col6\" class=\"data row24 col6\" >93</td>\n",
       "                        <td id=\"T_e3181eb4_4ccb_11ea_abe8_0c5415364605row24_col7\" class=\"data row24 col7\" >0</td>\n",
       "                        <td id=\"T_e3181eb4_4ccb_11ea_abe8_0c5415364605row24_col8\" class=\"data row24 col8\" >48</td>\n",
       "                        <td id=\"T_e3181eb4_4ccb_11ea_abe8_0c5415364605row24_col9\" class=\"data row24 col9\" >1</td>\n",
       "                        <td id=\"T_e3181eb4_4ccb_11ea_abe8_0c5415364605row24_col10\" class=\"data row24 col10\" >48</td>\n",
       "                        <td id=\"T_e3181eb4_4ccb_11ea_abe8_0c5415364605row24_col11\" class=\"data row24 col11\" >212</td>\n",
       "                        <td id=\"T_e3181eb4_4ccb_11ea_abe8_0c5415364605row24_col12\" class=\"data row24 col12\" >96</td>\n",
       "                        <td id=\"T_e3181eb4_4ccb_11ea_abe8_0c5415364605row24_col13\" class=\"data row24 col13\" >5</td>\n",
       "                        <td id=\"T_e3181eb4_4ccb_11ea_abe8_0c5415364605row24_col14\" class=\"data row24 col14\" >21</td>\n",
       "                        <td id=\"T_e3181eb4_4ccb_11ea_abe8_0c5415364605row24_col15\" class=\"data row24 col15\" >524</td>\n",
       "                        <td id=\"T_e3181eb4_4ccb_11ea_abe8_0c5415364605row24_col16\" class=\"data row24 col16\" >269</td>\n",
       "                        <td id=\"T_e3181eb4_4ccb_11ea_abe8_0c5415364605row24_col17\" class=\"data row24 col17\" >290</td>\n",
       "                        <td id=\"T_e3181eb4_4ccb_11ea_abe8_0c5415364605row24_col18\" class=\"data row24 col18\" >84</td>\n",
       "                        <td id=\"T_e3181eb4_4ccb_11ea_abe8_0c5415364605row24_col19\" class=\"data row24 col19\" >733</td>\n",
       "                        <td id=\"T_e3181eb4_4ccb_11ea_abe8_0c5415364605row24_col20\" class=\"data row24 col20\" >39</td>\n",
       "                        <td id=\"T_e3181eb4_4ccb_11ea_abe8_0c5415364605row24_col21\" class=\"data row24 col21\" >1301</td>\n",
       "                        <td id=\"T_e3181eb4_4ccb_11ea_abe8_0c5415364605row24_col22\" class=\"data row24 col22\" >1238</td>\n",
       "                        <td id=\"T_e3181eb4_4ccb_11ea_abe8_0c5415364605row24_col23\" class=\"data row24 col23\" >1586</td>\n",
       "                        <td id=\"T_e3181eb4_4ccb_11ea_abe8_0c5415364605row24_col24\" class=\"data row24 col24\" >1520</td>\n",
       "                        <td id=\"T_e3181eb4_4ccb_11ea_abe8_0c5415364605row24_col25\" class=\"data row24 col25\" >1741</td>\n",
       "                        <td id=\"T_e3181eb4_4ccb_11ea_abe8_0c5415364605row24_col26\" class=\"data row24 col26\" >1453</td>\n",
       "                        <td id=\"T_e3181eb4_4ccb_11ea_abe8_0c5415364605row24_col27\" class=\"data row24 col27\" >347</td>\n",
       "                        <td id=\"T_e3181eb4_4ccb_11ea_abe8_0c5415364605row24_col28\" class=\"data row24 col28\" >49</td>\n",
       "                        <td id=\"T_e3181eb4_4ccb_11ea_abe8_0c5415364605row24_col29\" class=\"data row24 col29\" >111</td>\n",
       "            </tr>\n",
       "            <tr>\n",
       "                        <th id=\"T_e3181eb4_4ccb_11ea_abe8_0c5415364605level0_row25\" class=\"row_heading level0 row25\" >var</th>\n",
       "                        <td id=\"T_e3181eb4_4ccb_11ea_abe8_0c5415364605row25_col0\" class=\"data row25 col0\" >264</td>\n",
       "                        <td id=\"T_e3181eb4_4ccb_11ea_abe8_0c5415364605row25_col1\" class=\"data row25 col1\" >248</td>\n",
       "                        <td id=\"T_e3181eb4_4ccb_11ea_abe8_0c5415364605row25_col2\" class=\"data row25 col2\" >312</td>\n",
       "                        <td id=\"T_e3181eb4_4ccb_11ea_abe8_0c5415364605row25_col3\" class=\"data row25 col3\" >10</td>\n",
       "                        <td id=\"T_e3181eb4_4ccb_11ea_abe8_0c5415364605row25_col4\" class=\"data row25 col4\" >45</td>\n",
       "                        <td id=\"T_e3181eb4_4ccb_11ea_abe8_0c5415364605row25_col5\" class=\"data row25 col5\" >36</td>\n",
       "                        <td id=\"T_e3181eb4_4ccb_11ea_abe8_0c5415364605row25_col6\" class=\"data row25 col6\" >167</td>\n",
       "                        <td id=\"T_e3181eb4_4ccb_11ea_abe8_0c5415364605row25_col7\" class=\"data row25 col7\" >441</td>\n",
       "                        <td id=\"T_e3181eb4_4ccb_11ea_abe8_0c5415364605row25_col8\" class=\"data row25 col8\" >120</td>\n",
       "                        <td id=\"T_e3181eb4_4ccb_11ea_abe8_0c5415364605row25_col9\" class=\"data row25 col9\" >11</td>\n",
       "                        <td id=\"T_e3181eb4_4ccb_11ea_abe8_0c5415364605row25_col10\" class=\"data row25 col10\" >172</td>\n",
       "                        <td id=\"T_e3181eb4_4ccb_11ea_abe8_0c5415364605row25_col11\" class=\"data row25 col11\" >442</td>\n",
       "                        <td id=\"T_e3181eb4_4ccb_11ea_abe8_0c5415364605row25_col12\" class=\"data row25 col12\" >199</td>\n",
       "                        <td id=\"T_e3181eb4_4ccb_11ea_abe8_0c5415364605row25_col13\" class=\"data row25 col13\" >34</td>\n",
       "                        <td id=\"T_e3181eb4_4ccb_11ea_abe8_0c5415364605row25_col14\" class=\"data row25 col14\" >102</td>\n",
       "                        <td id=\"T_e3181eb4_4ccb_11ea_abe8_0c5415364605row25_col15\" class=\"data row25 col15\" >309</td>\n",
       "                        <td id=\"T_e3181eb4_4ccb_11ea_abe8_0c5415364605row25_col16\" class=\"data row25 col16\" >113</td>\n",
       "                        <td id=\"T_e3181eb4_4ccb_11ea_abe8_0c5415364605row25_col17\" class=\"data row25 col17\" >216</td>\n",
       "                        <td id=\"T_e3181eb4_4ccb_11ea_abe8_0c5415364605row25_col18\" class=\"data row25 col18\" >110</td>\n",
       "                        <td id=\"T_e3181eb4_4ccb_11ea_abe8_0c5415364605row25_col19\" class=\"data row25 col19\" >678</td>\n",
       "                        <td id=\"T_e3181eb4_4ccb_11ea_abe8_0c5415364605row25_col20\" class=\"data row25 col20\" >44</td>\n",
       "                        <td id=\"T_e3181eb4_4ccb_11ea_abe8_0c5415364605row25_col21\" class=\"data row25 col21\" >935</td>\n",
       "                        <td id=\"T_e3181eb4_4ccb_11ea_abe8_0c5415364605row25_col22\" class=\"data row25 col22\" >967</td>\n",
       "                        <td id=\"T_e3181eb4_4ccb_11ea_abe8_0c5415364605row25_col23\" class=\"data row25 col23\" >1472</td>\n",
       "                        <td id=\"T_e3181eb4_4ccb_11ea_abe8_0c5415364605row25_col24\" class=\"data row25 col24\" >1418</td>\n",
       "                        <td id=\"T_e3181eb4_4ccb_11ea_abe8_0c5415364605row25_col25\" class=\"data row25 col25\" >1846</td>\n",
       "                        <td id=\"T_e3181eb4_4ccb_11ea_abe8_0c5415364605row25_col26\" class=\"data row25 col26\" >1598</td>\n",
       "                        <td id=\"T_e3181eb4_4ccb_11ea_abe8_0c5415364605row25_col27\" class=\"data row25 col27\" >348</td>\n",
       "                        <td id=\"T_e3181eb4_4ccb_11ea_abe8_0c5415364605row25_col28\" class=\"data row25 col28\" >40</td>\n",
       "                        <td id=\"T_e3181eb4_4ccb_11ea_abe8_0c5415364605row25_col29\" class=\"data row25 col29\" >129</td>\n",
       "            </tr>\n",
       "            <tr>\n",
       "                        <th id=\"T_e3181eb4_4ccb_11ea_abe8_0c5415364605level0_row26\" class=\"row_heading level0 row26\" >som</th>\n",
       "                        <td id=\"T_e3181eb4_4ccb_11ea_abe8_0c5415364605row26_col0\" class=\"data row26 col0\" >45</td>\n",
       "                        <td id=\"T_e3181eb4_4ccb_11ea_abe8_0c5415364605row26_col1\" class=\"data row26 col1\" >228</td>\n",
       "                        <td id=\"T_e3181eb4_4ccb_11ea_abe8_0c5415364605row26_col2\" class=\"data row26 col2\" >509</td>\n",
       "                        <td id=\"T_e3181eb4_4ccb_11ea_abe8_0c5415364605row26_col3\" class=\"data row26 col3\" >22</td>\n",
       "                        <td id=\"T_e3181eb4_4ccb_11ea_abe8_0c5415364605row26_col4\" class=\"data row26 col4\" >98</td>\n",
       "                        <td id=\"T_e3181eb4_4ccb_11ea_abe8_0c5415364605row26_col5\" class=\"data row26 col5\" >109</td>\n",
       "                        <td id=\"T_e3181eb4_4ccb_11ea_abe8_0c5415364605row26_col6\" class=\"data row26 col6\" >167</td>\n",
       "                        <td id=\"T_e3181eb4_4ccb_11ea_abe8_0c5415364605row26_col7\" class=\"data row26 col7\" >690</td>\n",
       "                        <td id=\"T_e3181eb4_4ccb_11ea_abe8_0c5415364605row26_col8\" class=\"data row26 col8\" >160</td>\n",
       "                        <td id=\"T_e3181eb4_4ccb_11ea_abe8_0c5415364605row26_col9\" class=\"data row26 col9\" >15</td>\n",
       "                        <td id=\"T_e3181eb4_4ccb_11ea_abe8_0c5415364605row26_col10\" class=\"data row26 col10\" >141</td>\n",
       "                        <td id=\"T_e3181eb4_4ccb_11ea_abe8_0c5415364605row26_col11\" class=\"data row26 col11\" >378</td>\n",
       "                        <td id=\"T_e3181eb4_4ccb_11ea_abe8_0c5415364605row26_col12\" class=\"data row26 col12\" >168</td>\n",
       "                        <td id=\"T_e3181eb4_4ccb_11ea_abe8_0c5415364605row26_col13\" class=\"data row26 col13\" >40</td>\n",
       "                        <td id=\"T_e3181eb4_4ccb_11ea_abe8_0c5415364605row26_col14\" class=\"data row26 col14\" >92</td>\n",
       "                        <td id=\"T_e3181eb4_4ccb_11ea_abe8_0c5415364605row26_col15\" class=\"data row26 col15\" >491</td>\n",
       "                        <td id=\"T_e3181eb4_4ccb_11ea_abe8_0c5415364605row26_col16\" class=\"data row26 col16\" >142</td>\n",
       "                        <td id=\"T_e3181eb4_4ccb_11ea_abe8_0c5415364605row26_col17\" class=\"data row26 col17\" >281</td>\n",
       "                        <td id=\"T_e3181eb4_4ccb_11ea_abe8_0c5415364605row26_col18\" class=\"data row26 col18\" >107</td>\n",
       "                        <td id=\"T_e3181eb4_4ccb_11ea_abe8_0c5415364605row26_col19\" class=\"data row26 col19\" >714</td>\n",
       "                        <td id=\"T_e3181eb4_4ccb_11ea_abe8_0c5415364605row26_col20\" class=\"data row26 col20\" >76</td>\n",
       "                        <td id=\"T_e3181eb4_4ccb_11ea_abe8_0c5415364605row26_col21\" class=\"data row26 col21\" >1250</td>\n",
       "                        <td id=\"T_e3181eb4_4ccb_11ea_abe8_0c5415364605row26_col22\" class=\"data row26 col22\" >1221</td>\n",
       "                        <td id=\"T_e3181eb4_4ccb_11ea_abe8_0c5415364605row26_col23\" class=\"data row26 col23\" >1781</td>\n",
       "                        <td id=\"T_e3181eb4_4ccb_11ea_abe8_0c5415364605row26_col24\" class=\"data row26 col24\" >1682</td>\n",
       "                        <td id=\"T_e3181eb4_4ccb_11ea_abe8_0c5415364605row26_col25\" class=\"data row26 col25\" >2058</td>\n",
       "                        <td id=\"T_e3181eb4_4ccb_11ea_abe8_0c5415364605row26_col26\" class=\"data row26 col26\" >1507</td>\n",
       "                        <td id=\"T_e3181eb4_4ccb_11ea_abe8_0c5415364605row26_col27\" class=\"data row26 col27\" >394</td>\n",
       "                        <td id=\"T_e3181eb4_4ccb_11ea_abe8_0c5415364605row26_col28\" class=\"data row26 col28\" >46</td>\n",
       "                        <td id=\"T_e3181eb4_4ccb_11ea_abe8_0c5415364605row26_col29\" class=\"data row26 col29\" >88</td>\n",
       "            </tr>\n",
       "            <tr>\n",
       "                        <th id=\"T_e3181eb4_4ccb_11ea_abe8_0c5415364605level0_row27\" class=\"row_heading level0 row27\" >vi</th>\n",
       "                        <td id=\"T_e3181eb4_4ccb_11ea_abe8_0c5415364605row27_col0\" class=\"data row27 col0\" >465</td>\n",
       "                        <td id=\"T_e3181eb4_4ccb_11ea_abe8_0c5415364605row27_col1\" class=\"data row27 col1\" >227</td>\n",
       "                        <td id=\"T_e3181eb4_4ccb_11ea_abe8_0c5415364605row27_col2\" class=\"data row27 col2\" >184</td>\n",
       "                        <td id=\"T_e3181eb4_4ccb_11ea_abe8_0c5415364605row27_col3\" class=\"data row27 col3\" >6</td>\n",
       "                        <td id=\"T_e3181eb4_4ccb_11ea_abe8_0c5415364605row27_col4\" class=\"data row27 col4\" >27</td>\n",
       "                        <td id=\"T_e3181eb4_4ccb_11ea_abe8_0c5415364605row27_col5\" class=\"data row27 col5\" >22</td>\n",
       "                        <td id=\"T_e3181eb4_4ccb_11ea_abe8_0c5415364605row27_col6\" class=\"data row27 col6\" >82</td>\n",
       "                        <td id=\"T_e3181eb4_4ccb_11ea_abe8_0c5415364605row27_col7\" class=\"data row27 col7\" >377</td>\n",
       "                        <td id=\"T_e3181eb4_4ccb_11ea_abe8_0c5415364605row27_col8\" class=\"data row27 col8\" >9</td>\n",
       "                        <td id=\"T_e3181eb4_4ccb_11ea_abe8_0c5415364605row27_col9\" class=\"data row27 col9\" >3</td>\n",
       "                        <td id=\"T_e3181eb4_4ccb_11ea_abe8_0c5415364605row27_col10\" class=\"data row27 col10\" >18</td>\n",
       "                        <td id=\"T_e3181eb4_4ccb_11ea_abe8_0c5415364605row27_col11\" class=\"data row27 col11\" >39</td>\n",
       "                        <td id=\"T_e3181eb4_4ccb_11ea_abe8_0c5415364605row27_col12\" class=\"data row27 col12\" >18</td>\n",
       "                        <td id=\"T_e3181eb4_4ccb_11ea_abe8_0c5415364605row27_col13\" class=\"data row27 col13\" >2</td>\n",
       "                        <td id=\"T_e3181eb4_4ccb_11ea_abe8_0c5415364605row27_col14\" class=\"data row27 col14\" >14</td>\n",
       "                        <td id=\"T_e3181eb4_4ccb_11ea_abe8_0c5415364605row27_col15\" class=\"data row27 col15\" >174</td>\n",
       "                        <td id=\"T_e3181eb4_4ccb_11ea_abe8_0c5415364605row27_col16\" class=\"data row27 col16\" >74</td>\n",
       "                        <td id=\"T_e3181eb4_4ccb_11ea_abe8_0c5415364605row27_col17\" class=\"data row27 col17\" >78</td>\n",
       "                        <td id=\"T_e3181eb4_4ccb_11ea_abe8_0c5415364605row27_col18\" class=\"data row27 col18\" >109</td>\n",
       "                        <td id=\"T_e3181eb4_4ccb_11ea_abe8_0c5415364605row27_col19\" class=\"data row27 col19\" >527</td>\n",
       "                        <td id=\"T_e3181eb4_4ccb_11ea_abe8_0c5415364605row27_col20\" class=\"data row27 col20\" >78</td>\n",
       "                        <td id=\"T_e3181eb4_4ccb_11ea_abe8_0c5415364605row27_col21\" class=\"data row27 col21\" >631</td>\n",
       "                        <td id=\"T_e3181eb4_4ccb_11ea_abe8_0c5415364605row27_col22\" class=\"data row27 col22\" >575</td>\n",
       "                        <td id=\"T_e3181eb4_4ccb_11ea_abe8_0c5415364605row27_col23\" class=\"data row27 col23\" >846</td>\n",
       "                        <td id=\"T_e3181eb4_4ccb_11ea_abe8_0c5415364605row27_col24\" class=\"data row27 col24\" >833</td>\n",
       "                        <td id=\"T_e3181eb4_4ccb_11ea_abe8_0c5415364605row27_col25\" class=\"data row27 col25\" >1074</td>\n",
       "                        <td id=\"T_e3181eb4_4ccb_11ea_abe8_0c5415364605row27_col26\" class=\"data row27 col26\" >949</td>\n",
       "                        <td id=\"T_e3181eb4_4ccb_11ea_abe8_0c5415364605row27_col27\" class=\"data row27 col27\" >219</td>\n",
       "                        <td id=\"T_e3181eb4_4ccb_11ea_abe8_0c5415364605row27_col28\" class=\"data row27 col28\" >6</td>\n",
       "                        <td id=\"T_e3181eb4_4ccb_11ea_abe8_0c5415364605row27_col29\" class=\"data row27 col29\" >28</td>\n",
       "            </tr>\n",
       "            <tr>\n",
       "                        <th id=\"T_e3181eb4_4ccb_11ea_abe8_0c5415364605level0_row28\" class=\"row_heading level0 row28\" >da</th>\n",
       "                        <td id=\"T_e3181eb4_4ccb_11ea_abe8_0c5415364605row28_col0\" class=\"data row28 col0\" >83</td>\n",
       "                        <td id=\"T_e3181eb4_4ccb_11ea_abe8_0c5415364605row28_col1\" class=\"data row28 col1\" >218</td>\n",
       "                        <td id=\"T_e3181eb4_4ccb_11ea_abe8_0c5415364605row28_col2\" class=\"data row28 col2\" >270</td>\n",
       "                        <td id=\"T_e3181eb4_4ccb_11ea_abe8_0c5415364605row28_col3\" class=\"data row28 col3\" >6</td>\n",
       "                        <td id=\"T_e3181eb4_4ccb_11ea_abe8_0c5415364605row28_col4\" class=\"data row28 col4\" >41</td>\n",
       "                        <td id=\"T_e3181eb4_4ccb_11ea_abe8_0c5415364605row28_col5\" class=\"data row28 col5\" >34</td>\n",
       "                        <td id=\"T_e3181eb4_4ccb_11ea_abe8_0c5415364605row28_col6\" class=\"data row28 col6\" >70</td>\n",
       "                        <td id=\"T_e3181eb4_4ccb_11ea_abe8_0c5415364605row28_col7\" class=\"data row28 col7\" >73</td>\n",
       "                        <td id=\"T_e3181eb4_4ccb_11ea_abe8_0c5415364605row28_col8\" class=\"data row28 col8\" >64</td>\n",
       "                        <td id=\"T_e3181eb4_4ccb_11ea_abe8_0c5415364605row28_col9\" class=\"data row28 col9\" >7</td>\n",
       "                        <td id=\"T_e3181eb4_4ccb_11ea_abe8_0c5415364605row28_col10\" class=\"data row28 col10\" >29</td>\n",
       "                        <td id=\"T_e3181eb4_4ccb_11ea_abe8_0c5415364605row28_col11\" class=\"data row28 col11\" >104</td>\n",
       "                        <td id=\"T_e3181eb4_4ccb_11ea_abe8_0c5415364605row28_col12\" class=\"data row28 col12\" >51</td>\n",
       "                        <td id=\"T_e3181eb4_4ccb_11ea_abe8_0c5415364605row28_col13\" class=\"data row28 col13\" >7</td>\n",
       "                        <td id=\"T_e3181eb4_4ccb_11ea_abe8_0c5415364605row28_col14\" class=\"data row28 col14\" >23</td>\n",
       "                        <td id=\"T_e3181eb4_4ccb_11ea_abe8_0c5415364605row28_col15\" class=\"data row28 col15\" >137</td>\n",
       "                        <td id=\"T_e3181eb4_4ccb_11ea_abe8_0c5415364605row28_col16\" class=\"data row28 col16\" >78</td>\n",
       "                        <td id=\"T_e3181eb4_4ccb_11ea_abe8_0c5415364605row28_col17\" class=\"data row28 col17\" >153</td>\n",
       "                        <td id=\"T_e3181eb4_4ccb_11ea_abe8_0c5415364605row28_col18\" class=\"data row28 col18\" >59</td>\n",
       "                        <td id=\"T_e3181eb4_4ccb_11ea_abe8_0c5415364605row28_col19\" class=\"data row28 col19\" >346</td>\n",
       "                        <td id=\"T_e3181eb4_4ccb_11ea_abe8_0c5415364605row28_col20\" class=\"data row28 col20\" >28</td>\n",
       "                        <td id=\"T_e3181eb4_4ccb_11ea_abe8_0c5415364605row28_col21\" class=\"data row28 col21\" >493</td>\n",
       "                        <td id=\"T_e3181eb4_4ccb_11ea_abe8_0c5415364605row28_col22\" class=\"data row28 col22\" >469</td>\n",
       "                        <td id=\"T_e3181eb4_4ccb_11ea_abe8_0c5415364605row28_col23\" class=\"data row28 col23\" >766</td>\n",
       "                        <td id=\"T_e3181eb4_4ccb_11ea_abe8_0c5415364605row28_col24\" class=\"data row28 col24\" >876</td>\n",
       "                        <td id=\"T_e3181eb4_4ccb_11ea_abe8_0c5415364605row28_col25\" class=\"data row28 col25\" >1130</td>\n",
       "                        <td id=\"T_e3181eb4_4ccb_11ea_abe8_0c5415364605row28_col26\" class=\"data row28 col26\" >1001</td>\n",
       "                        <td id=\"T_e3181eb4_4ccb_11ea_abe8_0c5415364605row28_col27\" class=\"data row28 col27\" >276</td>\n",
       "                        <td id=\"T_e3181eb4_4ccb_11ea_abe8_0c5415364605row28_col28\" class=\"data row28 col28\" >28</td>\n",
       "                        <td id=\"T_e3181eb4_4ccb_11ea_abe8_0c5415364605row28_col29\" class=\"data row28 col29\" >66</td>\n",
       "            </tr>\n",
       "            <tr>\n",
       "                        <th id=\"T_e3181eb4_4ccb_11ea_abe8_0c5415364605level0_row29\" class=\"row_heading level0 row29\" >:</th>\n",
       "                        <td id=\"T_e3181eb4_4ccb_11ea_abe8_0c5415364605row29_col0\" class=\"data row29 col0\" >16</td>\n",
       "                        <td id=\"T_e3181eb4_4ccb_11ea_abe8_0c5415364605row29_col1\" class=\"data row29 col1\" >216</td>\n",
       "                        <td id=\"T_e3181eb4_4ccb_11ea_abe8_0c5415364605row29_col2\" class=\"data row29 col2\" >123</td>\n",
       "                        <td id=\"T_e3181eb4_4ccb_11ea_abe8_0c5415364605row29_col3\" class=\"data row29 col3\" >4</td>\n",
       "                        <td id=\"T_e3181eb4_4ccb_11ea_abe8_0c5415364605row29_col4\" class=\"data row29 col4\" >28</td>\n",
       "                        <td id=\"T_e3181eb4_4ccb_11ea_abe8_0c5415364605row29_col5\" class=\"data row29 col5\" >47</td>\n",
       "                        <td id=\"T_e3181eb4_4ccb_11ea_abe8_0c5415364605row29_col6\" class=\"data row29 col6\" >56</td>\n",
       "                        <td id=\"T_e3181eb4_4ccb_11ea_abe8_0c5415364605row29_col7\" class=\"data row29 col7\" >226</td>\n",
       "                        <td id=\"T_e3181eb4_4ccb_11ea_abe8_0c5415364605row29_col8\" class=\"data row29 col8\" >43</td>\n",
       "                        <td id=\"T_e3181eb4_4ccb_11ea_abe8_0c5415364605row29_col9\" class=\"data row29 col9\" >32</td>\n",
       "                        <td id=\"T_e3181eb4_4ccb_11ea_abe8_0c5415364605row29_col10\" class=\"data row29 col10\" >9</td>\n",
       "                        <td id=\"T_e3181eb4_4ccb_11ea_abe8_0c5415364605row29_col11\" class=\"data row29 col11\" >339</td>\n",
       "                        <td id=\"T_e3181eb4_4ccb_11ea_abe8_0c5415364605row29_col12\" class=\"data row29 col12\" >121</td>\n",
       "                        <td id=\"T_e3181eb4_4ccb_11ea_abe8_0c5415364605row29_col13\" class=\"data row29 col13\" >39</td>\n",
       "                        <td id=\"T_e3181eb4_4ccb_11ea_abe8_0c5415364605row29_col14\" class=\"data row29 col14\" >12</td>\n",
       "                        <td id=\"T_e3181eb4_4ccb_11ea_abe8_0c5415364605row29_col15\" class=\"data row29 col15\" >150</td>\n",
       "                        <td id=\"T_e3181eb4_4ccb_11ea_abe8_0c5415364605row29_col16\" class=\"data row29 col16\" >32</td>\n",
       "                        <td id=\"T_e3181eb4_4ccb_11ea_abe8_0c5415364605row29_col17\" class=\"data row29 col17\" >41</td>\n",
       "                        <td id=\"T_e3181eb4_4ccb_11ea_abe8_0c5415364605row29_col18\" class=\"data row29 col18\" >75</td>\n",
       "                        <td id=\"T_e3181eb4_4ccb_11ea_abe8_0c5415364605row29_col19\" class=\"data row29 col19\" >705</td>\n",
       "                        <td id=\"T_e3181eb4_4ccb_11ea_abe8_0c5415364605row29_col20\" class=\"data row29 col20\" >30</td>\n",
       "                        <td id=\"T_e3181eb4_4ccb_11ea_abe8_0c5415364605row29_col21\" class=\"data row29 col21\" >497</td>\n",
       "                        <td id=\"T_e3181eb4_4ccb_11ea_abe8_0c5415364605row29_col22\" class=\"data row29 col22\" >741</td>\n",
       "                        <td id=\"T_e3181eb4_4ccb_11ea_abe8_0c5415364605row29_col23\" class=\"data row29 col23\" >824</td>\n",
       "                        <td id=\"T_e3181eb4_4ccb_11ea_abe8_0c5415364605row29_col24\" class=\"data row29 col24\" >757</td>\n",
       "                        <td id=\"T_e3181eb4_4ccb_11ea_abe8_0c5415364605row29_col25\" class=\"data row29 col25\" >802</td>\n",
       "                        <td id=\"T_e3181eb4_4ccb_11ea_abe8_0c5415364605row29_col26\" class=\"data row29 col26\" >782</td>\n",
       "                        <td id=\"T_e3181eb4_4ccb_11ea_abe8_0c5415364605row29_col27\" class=\"data row29 col27\" >149</td>\n",
       "                        <td id=\"T_e3181eb4_4ccb_11ea_abe8_0c5415364605row29_col28\" class=\"data row29 col28\" >17</td>\n",
       "                        <td id=\"T_e3181eb4_4ccb_11ea_abe8_0c5415364605row29_col29\" class=\"data row29 col29\" >24</td>\n",
       "            </tr>\n",
       "            <tr>\n",
       "                        <th id=\"T_e3181eb4_4ccb_11ea_abe8_0c5415364605level0_row30\" class=\"row_heading level0 row30\" >de</th>\n",
       "                        <td id=\"T_e3181eb4_4ccb_11ea_abe8_0c5415364605row30_col0\" class=\"data row30 col0\" >250</td>\n",
       "                        <td id=\"T_e3181eb4_4ccb_11ea_abe8_0c5415364605row30_col1\" class=\"data row30 col1\" >213</td>\n",
       "                        <td id=\"T_e3181eb4_4ccb_11ea_abe8_0c5415364605row30_col2\" class=\"data row30 col2\" >432</td>\n",
       "                        <td id=\"T_e3181eb4_4ccb_11ea_abe8_0c5415364605row30_col3\" class=\"data row30 col3\" >11</td>\n",
       "                        <td id=\"T_e3181eb4_4ccb_11ea_abe8_0c5415364605row30_col4\" class=\"data row30 col4\" >67</td>\n",
       "                        <td id=\"T_e3181eb4_4ccb_11ea_abe8_0c5415364605row30_col5\" class=\"data row30 col5\" >68</td>\n",
       "                        <td id=\"T_e3181eb4_4ccb_11ea_abe8_0c5415364605row30_col6\" class=\"data row30 col6\" >75</td>\n",
       "                        <td id=\"T_e3181eb4_4ccb_11ea_abe8_0c5415364605row30_col7\" class=\"data row30 col7\" >2078</td>\n",
       "                        <td id=\"T_e3181eb4_4ccb_11ea_abe8_0c5415364605row30_col8\" class=\"data row30 col8\" >156</td>\n",
       "                        <td id=\"T_e3181eb4_4ccb_11ea_abe8_0c5415364605row30_col9\" class=\"data row30 col9\" >9</td>\n",
       "                        <td id=\"T_e3181eb4_4ccb_11ea_abe8_0c5415364605row30_col10\" class=\"data row30 col10\" >96</td>\n",
       "                        <td id=\"T_e3181eb4_4ccb_11ea_abe8_0c5415364605row30_col11\" class=\"data row30 col11\" >248</td>\n",
       "                        <td id=\"T_e3181eb4_4ccb_11ea_abe8_0c5415364605row30_col12\" class=\"data row30 col12\" >158</td>\n",
       "                        <td id=\"T_e3181eb4_4ccb_11ea_abe8_0c5415364605row30_col13\" class=\"data row30 col13\" >22</td>\n",
       "                        <td id=\"T_e3181eb4_4ccb_11ea_abe8_0c5415364605row30_col14\" class=\"data row30 col14\" >97</td>\n",
       "                        <td id=\"T_e3181eb4_4ccb_11ea_abe8_0c5415364605row30_col15\" class=\"data row30 col15\" >175</td>\n",
       "                        <td id=\"T_e3181eb4_4ccb_11ea_abe8_0c5415364605row30_col16\" class=\"data row30 col16\" >115</td>\n",
       "                        <td id=\"T_e3181eb4_4ccb_11ea_abe8_0c5415364605row30_col17\" class=\"data row30 col17\" >372</td>\n",
       "                        <td id=\"T_e3181eb4_4ccb_11ea_abe8_0c5415364605row30_col18\" class=\"data row30 col18\" >76</td>\n",
       "                        <td id=\"T_e3181eb4_4ccb_11ea_abe8_0c5415364605row30_col19\" class=\"data row30 col19\" >376</td>\n",
       "                        <td id=\"T_e3181eb4_4ccb_11ea_abe8_0c5415364605row30_col20\" class=\"data row30 col20\" >49</td>\n",
       "                        <td id=\"T_e3181eb4_4ccb_11ea_abe8_0c5415364605row30_col21\" class=\"data row30 col21\" >1049</td>\n",
       "                        <td id=\"T_e3181eb4_4ccb_11ea_abe8_0c5415364605row30_col22\" class=\"data row30 col22\" >1109</td>\n",
       "                        <td id=\"T_e3181eb4_4ccb_11ea_abe8_0c5415364605row30_col23\" class=\"data row30 col23\" >1401</td>\n",
       "                        <td id=\"T_e3181eb4_4ccb_11ea_abe8_0c5415364605row30_col24\" class=\"data row30 col24\" >1315</td>\n",
       "                        <td id=\"T_e3181eb4_4ccb_11ea_abe8_0c5415364605row30_col25\" class=\"data row30 col25\" >1489</td>\n",
       "                        <td id=\"T_e3181eb4_4ccb_11ea_abe8_0c5415364605row30_col26\" class=\"data row30 col26\" >1439</td>\n",
       "                        <td id=\"T_e3181eb4_4ccb_11ea_abe8_0c5415364605row30_col27\" class=\"data row30 col27\" >480</td>\n",
       "                        <td id=\"T_e3181eb4_4ccb_11ea_abe8_0c5415364605row30_col28\" class=\"data row30 col28\" >21</td>\n",
       "                        <td id=\"T_e3181eb4_4ccb_11ea_abe8_0c5415364605row30_col29\" class=\"data row30 col29\" >87</td>\n",
       "            </tr>\n",
       "            <tr>\n",
       "                        <th id=\"T_e3181eb4_4ccb_11ea_abe8_0c5415364605level0_row31\" class=\"row_heading level0 row31\" >men</th>\n",
       "                        <td id=\"T_e3181eb4_4ccb_11ea_abe8_0c5415364605row31_col0\" class=\"data row31 col0\" >43</td>\n",
       "                        <td id=\"T_e3181eb4_4ccb_11ea_abe8_0c5415364605row31_col1\" class=\"data row31 col1\" >211</td>\n",
       "                        <td id=\"T_e3181eb4_4ccb_11ea_abe8_0c5415364605row31_col2\" class=\"data row31 col2\" >288</td>\n",
       "                        <td id=\"T_e3181eb4_4ccb_11ea_abe8_0c5415364605row31_col3\" class=\"data row31 col3\" >8</td>\n",
       "                        <td id=\"T_e3181eb4_4ccb_11ea_abe8_0c5415364605row31_col4\" class=\"data row31 col4\" >35</td>\n",
       "                        <td id=\"T_e3181eb4_4ccb_11ea_abe8_0c5415364605row31_col5\" class=\"data row31 col5\" >39</td>\n",
       "                        <td id=\"T_e3181eb4_4ccb_11ea_abe8_0c5415364605row31_col6\" class=\"data row31 col6\" >105</td>\n",
       "                        <td id=\"T_e3181eb4_4ccb_11ea_abe8_0c5415364605row31_col7\" class=\"data row31 col7\" >109</td>\n",
       "                        <td id=\"T_e3181eb4_4ccb_11ea_abe8_0c5415364605row31_col8\" class=\"data row31 col8\" >42</td>\n",
       "                        <td id=\"T_e3181eb4_4ccb_11ea_abe8_0c5415364605row31_col9\" class=\"data row31 col9\" >6</td>\n",
       "                        <td id=\"T_e3181eb4_4ccb_11ea_abe8_0c5415364605row31_col10\" class=\"data row31 col10\" >63</td>\n",
       "                        <td id=\"T_e3181eb4_4ccb_11ea_abe8_0c5415364605row31_col11\" class=\"data row31 col11\" >325</td>\n",
       "                        <td id=\"T_e3181eb4_4ccb_11ea_abe8_0c5415364605row31_col12\" class=\"data row31 col12\" >122</td>\n",
       "                        <td id=\"T_e3181eb4_4ccb_11ea_abe8_0c5415364605row31_col13\" class=\"data row31 col13\" >23</td>\n",
       "                        <td id=\"T_e3181eb4_4ccb_11ea_abe8_0c5415364605row31_col14\" class=\"data row31 col14\" >52</td>\n",
       "                        <td id=\"T_e3181eb4_4ccb_11ea_abe8_0c5415364605row31_col15\" class=\"data row31 col15\" >255</td>\n",
       "                        <td id=\"T_e3181eb4_4ccb_11ea_abe8_0c5415364605row31_col16\" class=\"data row31 col16\" >175</td>\n",
       "                        <td id=\"T_e3181eb4_4ccb_11ea_abe8_0c5415364605row31_col17\" class=\"data row31 col17\" >293</td>\n",
       "                        <td id=\"T_e3181eb4_4ccb_11ea_abe8_0c5415364605row31_col18\" class=\"data row31 col18\" >54</td>\n",
       "                        <td id=\"T_e3181eb4_4ccb_11ea_abe8_0c5415364605row31_col19\" class=\"data row31 col19\" >264</td>\n",
       "                        <td id=\"T_e3181eb4_4ccb_11ea_abe8_0c5415364605row31_col20\" class=\"data row31 col20\" >22</td>\n",
       "                        <td id=\"T_e3181eb4_4ccb_11ea_abe8_0c5415364605row31_col21\" class=\"data row31 col21\" >427</td>\n",
       "                        <td id=\"T_e3181eb4_4ccb_11ea_abe8_0c5415364605row31_col22\" class=\"data row31 col22\" >418</td>\n",
       "                        <td id=\"T_e3181eb4_4ccb_11ea_abe8_0c5415364605row31_col23\" class=\"data row31 col23\" >552</td>\n",
       "                        <td id=\"T_e3181eb4_4ccb_11ea_abe8_0c5415364605row31_col24\" class=\"data row31 col24\" >661</td>\n",
       "                        <td id=\"T_e3181eb4_4ccb_11ea_abe8_0c5415364605row31_col25\" class=\"data row31 col25\" >880</td>\n",
       "                        <td id=\"T_e3181eb4_4ccb_11ea_abe8_0c5415364605row31_col26\" class=\"data row31 col26\" >844</td>\n",
       "                        <td id=\"T_e3181eb4_4ccb_11ea_abe8_0c5415364605row31_col27\" class=\"data row31 col27\" >178</td>\n",
       "                        <td id=\"T_e3181eb4_4ccb_11ea_abe8_0c5415364605row31_col28\" class=\"data row31 col28\" >23</td>\n",
       "                        <td id=\"T_e3181eb4_4ccb_11ea_abe8_0c5415364605row31_col29\" class=\"data row31 col29\" >32</td>\n",
       "            </tr>\n",
       "            <tr>\n",
       "                        <th id=\"T_e3181eb4_4ccb_11ea_abe8_0c5415364605level0_row32\" class=\"row_heading level0 row32\" >et</th>\n",
       "                        <td id=\"T_e3181eb4_4ccb_11ea_abe8_0c5415364605row32_col0\" class=\"data row32 col0\" >25</td>\n",
       "                        <td id=\"T_e3181eb4_4ccb_11ea_abe8_0c5415364605row32_col1\" class=\"data row32 col1\" >201</td>\n",
       "                        <td id=\"T_e3181eb4_4ccb_11ea_abe8_0c5415364605row32_col2\" class=\"data row32 col2\" >440</td>\n",
       "                        <td id=\"T_e3181eb4_4ccb_11ea_abe8_0c5415364605row32_col3\" class=\"data row32 col3\" >20</td>\n",
       "                        <td id=\"T_e3181eb4_4ccb_11ea_abe8_0c5415364605row32_col4\" class=\"data row32 col4\" >85</td>\n",
       "                        <td id=\"T_e3181eb4_4ccb_11ea_abe8_0c5415364605row32_col5\" class=\"data row32 col5\" >89</td>\n",
       "                        <td id=\"T_e3181eb4_4ccb_11ea_abe8_0c5415364605row32_col6\" class=\"data row32 col6\" >117</td>\n",
       "                        <td id=\"T_e3181eb4_4ccb_11ea_abe8_0c5415364605row32_col7\" class=\"data row32 col7\" >1363</td>\n",
       "                        <td id=\"T_e3181eb4_4ccb_11ea_abe8_0c5415364605row32_col8\" class=\"data row32 col8\" >40</td>\n",
       "                        <td id=\"T_e3181eb4_4ccb_11ea_abe8_0c5415364605row32_col9\" class=\"data row32 col9\" >11</td>\n",
       "                        <td id=\"T_e3181eb4_4ccb_11ea_abe8_0c5415364605row32_col10\" class=\"data row32 col10\" >101</td>\n",
       "                        <td id=\"T_e3181eb4_4ccb_11ea_abe8_0c5415364605row32_col11\" class=\"data row32 col11\" >239</td>\n",
       "                        <td id=\"T_e3181eb4_4ccb_11ea_abe8_0c5415364605row32_col12\" class=\"data row32 col12\" >130</td>\n",
       "                        <td id=\"T_e3181eb4_4ccb_11ea_abe8_0c5415364605row32_col13\" class=\"data row32 col13\" >30</td>\n",
       "                        <td id=\"T_e3181eb4_4ccb_11ea_abe8_0c5415364605row32_col14\" class=\"data row32 col14\" >67</td>\n",
       "                        <td id=\"T_e3181eb4_4ccb_11ea_abe8_0c5415364605row32_col15\" class=\"data row32 col15\" >203</td>\n",
       "                        <td id=\"T_e3181eb4_4ccb_11ea_abe8_0c5415364605row32_col16\" class=\"data row32 col16\" >81</td>\n",
       "                        <td id=\"T_e3181eb4_4ccb_11ea_abe8_0c5415364605row32_col17\" class=\"data row32 col17\" >161</td>\n",
       "                        <td id=\"T_e3181eb4_4ccb_11ea_abe8_0c5415364605row32_col18\" class=\"data row32 col18\" >34</td>\n",
       "                        <td id=\"T_e3181eb4_4ccb_11ea_abe8_0c5415364605row32_col19\" class=\"data row32 col19\" >274</td>\n",
       "                        <td id=\"T_e3181eb4_4ccb_11ea_abe8_0c5415364605row32_col20\" class=\"data row32 col20\" >15</td>\n",
       "                        <td id=\"T_e3181eb4_4ccb_11ea_abe8_0c5415364605row32_col21\" class=\"data row32 col21\" >523</td>\n",
       "                        <td id=\"T_e3181eb4_4ccb_11ea_abe8_0c5415364605row32_col22\" class=\"data row32 col22\" >460</td>\n",
       "                        <td id=\"T_e3181eb4_4ccb_11ea_abe8_0c5415364605row32_col23\" class=\"data row32 col23\" >733</td>\n",
       "                        <td id=\"T_e3181eb4_4ccb_11ea_abe8_0c5415364605row32_col24\" class=\"data row32 col24\" >729</td>\n",
       "                        <td id=\"T_e3181eb4_4ccb_11ea_abe8_0c5415364605row32_col25\" class=\"data row32 col25\" >902</td>\n",
       "                        <td id=\"T_e3181eb4_4ccb_11ea_abe8_0c5415364605row32_col26\" class=\"data row32 col26\" >804</td>\n",
       "                        <td id=\"T_e3181eb4_4ccb_11ea_abe8_0c5415364605row32_col27\" class=\"data row32 col27\" >194</td>\n",
       "                        <td id=\"T_e3181eb4_4ccb_11ea_abe8_0c5415364605row32_col28\" class=\"data row32 col28\" >23</td>\n",
       "                        <td id=\"T_e3181eb4_4ccb_11ea_abe8_0c5415364605row32_col29\" class=\"data row32 col29\" >24</td>\n",
       "            </tr>\n",
       "            <tr>\n",
       "                        <th id=\"T_e3181eb4_4ccb_11ea_abe8_0c5415364605level0_row33\" class=\"row_heading level0 row33\" >'</th>\n",
       "                        <td id=\"T_e3181eb4_4ccb_11ea_abe8_0c5415364605row33_col0\" class=\"data row33 col0\" >77</td>\n",
       "                        <td id=\"T_e3181eb4_4ccb_11ea_abe8_0c5415364605row33_col1\" class=\"data row33 col1\" >196</td>\n",
       "                        <td id=\"T_e3181eb4_4ccb_11ea_abe8_0c5415364605row33_col2\" class=\"data row33 col2\" >389</td>\n",
       "                        <td id=\"T_e3181eb4_4ccb_11ea_abe8_0c5415364605row33_col3\" class=\"data row33 col3\" >0</td>\n",
       "                        <td id=\"T_e3181eb4_4ccb_11ea_abe8_0c5415364605row33_col4\" class=\"data row33 col4\" >56</td>\n",
       "                        <td id=\"T_e3181eb4_4ccb_11ea_abe8_0c5415364605row33_col5\" class=\"data row33 col5\" >25</td>\n",
       "                        <td id=\"T_e3181eb4_4ccb_11ea_abe8_0c5415364605row33_col6\" class=\"data row33 col6\" >115</td>\n",
       "                        <td id=\"T_e3181eb4_4ccb_11ea_abe8_0c5415364605row33_col7\" class=\"data row33 col7\" >1612</td>\n",
       "                        <td id=\"T_e3181eb4_4ccb_11ea_abe8_0c5415364605row33_col8\" class=\"data row33 col8\" >0</td>\n",
       "                        <td id=\"T_e3181eb4_4ccb_11ea_abe8_0c5415364605row33_col9\" class=\"data row33 col9\" >0</td>\n",
       "                        <td id=\"T_e3181eb4_4ccb_11ea_abe8_0c5415364605row33_col10\" class=\"data row33 col10\" >4</td>\n",
       "                        <td id=\"T_e3181eb4_4ccb_11ea_abe8_0c5415364605row33_col11\" class=\"data row33 col11\" >13</td>\n",
       "                        <td id=\"T_e3181eb4_4ccb_11ea_abe8_0c5415364605row33_col12\" class=\"data row33 col12\" >19</td>\n",
       "                        <td id=\"T_e3181eb4_4ccb_11ea_abe8_0c5415364605row33_col13\" class=\"data row33 col13\" >5</td>\n",
       "                        <td id=\"T_e3181eb4_4ccb_11ea_abe8_0c5415364605row33_col14\" class=\"data row33 col14\" >6</td>\n",
       "                        <td id=\"T_e3181eb4_4ccb_11ea_abe8_0c5415364605row33_col15\" class=\"data row33 col15\" >63</td>\n",
       "                        <td id=\"T_e3181eb4_4ccb_11ea_abe8_0c5415364605row33_col16\" class=\"data row33 col16\" >8</td>\n",
       "                        <td id=\"T_e3181eb4_4ccb_11ea_abe8_0c5415364605row33_col17\" class=\"data row33 col17\" >3</td>\n",
       "                        <td id=\"T_e3181eb4_4ccb_11ea_abe8_0c5415364605row33_col18\" class=\"data row33 col18\" >3</td>\n",
       "                        <td id=\"T_e3181eb4_4ccb_11ea_abe8_0c5415364605row33_col19\" class=\"data row33 col19\" >15</td>\n",
       "                        <td id=\"T_e3181eb4_4ccb_11ea_abe8_0c5415364605row33_col20\" class=\"data row33 col20\" >5</td>\n",
       "                        <td id=\"T_e3181eb4_4ccb_11ea_abe8_0c5415364605row33_col21\" class=\"data row33 col21\" >32</td>\n",
       "                        <td id=\"T_e3181eb4_4ccb_11ea_abe8_0c5415364605row33_col22\" class=\"data row33 col22\" >22</td>\n",
       "                        <td id=\"T_e3181eb4_4ccb_11ea_abe8_0c5415364605row33_col23\" class=\"data row33 col23\" >47</td>\n",
       "                        <td id=\"T_e3181eb4_4ccb_11ea_abe8_0c5415364605row33_col24\" class=\"data row33 col24\" >25</td>\n",
       "                        <td id=\"T_e3181eb4_4ccb_11ea_abe8_0c5415364605row33_col25\" class=\"data row33 col25\" >45</td>\n",
       "                        <td id=\"T_e3181eb4_4ccb_11ea_abe8_0c5415364605row33_col26\" class=\"data row33 col26\" >24</td>\n",
       "                        <td id=\"T_e3181eb4_4ccb_11ea_abe8_0c5415364605row33_col27\" class=\"data row33 col27\" >8</td>\n",
       "                        <td id=\"T_e3181eb4_4ccb_11ea_abe8_0c5415364605row33_col28\" class=\"data row33 col28\" >1</td>\n",
       "                        <td id=\"T_e3181eb4_4ccb_11ea_abe8_0c5415364605row33_col29\" class=\"data row33 col29\" >72</td>\n",
       "            </tr>\n",
       "            <tr>\n",
       "                        <th id=\"T_e3181eb4_4ccb_11ea_abe8_0c5415364605level0_row34\" class=\"row_heading level0 row34\" >han</th>\n",
       "                        <td id=\"T_e3181eb4_4ccb_11ea_abe8_0c5415364605row34_col0\" class=\"data row34 col0\" >12</td>\n",
       "                        <td id=\"T_e3181eb4_4ccb_11ea_abe8_0c5415364605row34_col1\" class=\"data row34 col1\" >189</td>\n",
       "                        <td id=\"T_e3181eb4_4ccb_11ea_abe8_0c5415364605row34_col2\" class=\"data row34 col2\" >226</td>\n",
       "                        <td id=\"T_e3181eb4_4ccb_11ea_abe8_0c5415364605row34_col3\" class=\"data row34 col3\" >3</td>\n",
       "                        <td id=\"T_e3181eb4_4ccb_11ea_abe8_0c5415364605row34_col4\" class=\"data row34 col4\" >26</td>\n",
       "                        <td id=\"T_e3181eb4_4ccb_11ea_abe8_0c5415364605row34_col5\" class=\"data row34 col5\" >21</td>\n",
       "                        <td id=\"T_e3181eb4_4ccb_11ea_abe8_0c5415364605row34_col6\" class=\"data row34 col6\" >112</td>\n",
       "                        <td id=\"T_e3181eb4_4ccb_11ea_abe8_0c5415364605row34_col7\" class=\"data row34 col7\" >249</td>\n",
       "                        <td id=\"T_e3181eb4_4ccb_11ea_abe8_0c5415364605row34_col8\" class=\"data row34 col8\" >95</td>\n",
       "                        <td id=\"T_e3181eb4_4ccb_11ea_abe8_0c5415364605row34_col9\" class=\"data row34 col9\" >5</td>\n",
       "                        <td id=\"T_e3181eb4_4ccb_11ea_abe8_0c5415364605row34_col10\" class=\"data row34 col10\" >81</td>\n",
       "                        <td id=\"T_e3181eb4_4ccb_11ea_abe8_0c5415364605row34_col11\" class=\"data row34 col11\" >115</td>\n",
       "                        <td id=\"T_e3181eb4_4ccb_11ea_abe8_0c5415364605row34_col12\" class=\"data row34 col12\" >81</td>\n",
       "                        <td id=\"T_e3181eb4_4ccb_11ea_abe8_0c5415364605row34_col13\" class=\"data row34 col13\" >12</td>\n",
       "                        <td id=\"T_e3181eb4_4ccb_11ea_abe8_0c5415364605row34_col14\" class=\"data row34 col14\" >49</td>\n",
       "                        <td id=\"T_e3181eb4_4ccb_11ea_abe8_0c5415364605row34_col15\" class=\"data row34 col15\" >150</td>\n",
       "                        <td id=\"T_e3181eb4_4ccb_11ea_abe8_0c5415364605row34_col16\" class=\"data row34 col16\" >98</td>\n",
       "                        <td id=\"T_e3181eb4_4ccb_11ea_abe8_0c5415364605row34_col17\" class=\"data row34 col17\" >182</td>\n",
       "                        <td id=\"T_e3181eb4_4ccb_11ea_abe8_0c5415364605row34_col18\" class=\"data row34 col18\" >25</td>\n",
       "                        <td id=\"T_e3181eb4_4ccb_11ea_abe8_0c5415364605row34_col19\" class=\"data row34 col19\" >320</td>\n",
       "                        <td id=\"T_e3181eb4_4ccb_11ea_abe8_0c5415364605row34_col20\" class=\"data row34 col20\" >15</td>\n",
       "                        <td id=\"T_e3181eb4_4ccb_11ea_abe8_0c5415364605row34_col21\" class=\"data row34 col21\" >529</td>\n",
       "                        <td id=\"T_e3181eb4_4ccb_11ea_abe8_0c5415364605row34_col22\" class=\"data row34 col22\" >485</td>\n",
       "                        <td id=\"T_e3181eb4_4ccb_11ea_abe8_0c5415364605row34_col23\" class=\"data row34 col23\" >781</td>\n",
       "                        <td id=\"T_e3181eb4_4ccb_11ea_abe8_0c5415364605row34_col24\" class=\"data row34 col24\" >693</td>\n",
       "                        <td id=\"T_e3181eb4_4ccb_11ea_abe8_0c5415364605row34_col25\" class=\"data row34 col25\" >991</td>\n",
       "                        <td id=\"T_e3181eb4_4ccb_11ea_abe8_0c5415364605row34_col26\" class=\"data row34 col26\" >856</td>\n",
       "                        <td id=\"T_e3181eb4_4ccb_11ea_abe8_0c5415364605row34_col27\" class=\"data row34 col27\" >328</td>\n",
       "                        <td id=\"T_e3181eb4_4ccb_11ea_abe8_0c5415364605row34_col28\" class=\"data row34 col28\" >55</td>\n",
       "                        <td id=\"T_e3181eb4_4ccb_11ea_abe8_0c5415364605row34_col29\" class=\"data row34 col29\" >66</td>\n",
       "            </tr>\n",
       "            <tr>\n",
       "                        <th id=\"T_e3181eb4_4ccb_11ea_abe8_0c5415364605level0_row35\" class=\"row_heading level0 row35\" >om</th>\n",
       "                        <td id=\"T_e3181eb4_4ccb_11ea_abe8_0c5415364605row35_col0\" class=\"data row35 col0\" >6</td>\n",
       "                        <td id=\"T_e3181eb4_4ccb_11ea_abe8_0c5415364605row35_col1\" class=\"data row35 col1\" >175</td>\n",
       "                        <td id=\"T_e3181eb4_4ccb_11ea_abe8_0c5415364605row35_col2\" class=\"data row35 col2\" >319</td>\n",
       "                        <td id=\"T_e3181eb4_4ccb_11ea_abe8_0c5415364605row35_col3\" class=\"data row35 col3\" >13</td>\n",
       "                        <td id=\"T_e3181eb4_4ccb_11ea_abe8_0c5415364605row35_col4\" class=\"data row35 col4\" >60</td>\n",
       "                        <td id=\"T_e3181eb4_4ccb_11ea_abe8_0c5415364605row35_col5\" class=\"data row35 col5\" >57</td>\n",
       "                        <td id=\"T_e3181eb4_4ccb_11ea_abe8_0c5415364605row35_col6\" class=\"data row35 col6\" >70</td>\n",
       "                        <td id=\"T_e3181eb4_4ccb_11ea_abe8_0c5415364605row35_col7\" class=\"data row35 col7\" >211</td>\n",
       "                        <td id=\"T_e3181eb4_4ccb_11ea_abe8_0c5415364605row35_col8\" class=\"data row35 col8\" >46</td>\n",
       "                        <td id=\"T_e3181eb4_4ccb_11ea_abe8_0c5415364605row35_col9\" class=\"data row35 col9\" >12</td>\n",
       "                        <td id=\"T_e3181eb4_4ccb_11ea_abe8_0c5415364605row35_col10\" class=\"data row35 col10\" >44</td>\n",
       "                        <td id=\"T_e3181eb4_4ccb_11ea_abe8_0c5415364605row35_col11\" class=\"data row35 col11\" >195</td>\n",
       "                        <td id=\"T_e3181eb4_4ccb_11ea_abe8_0c5415364605row35_col12\" class=\"data row35 col12\" >86</td>\n",
       "                        <td id=\"T_e3181eb4_4ccb_11ea_abe8_0c5415364605row35_col13\" class=\"data row35 col13\" >32</td>\n",
       "                        <td id=\"T_e3181eb4_4ccb_11ea_abe8_0c5415364605row35_col14\" class=\"data row35 col14\" >51</td>\n",
       "                        <td id=\"T_e3181eb4_4ccb_11ea_abe8_0c5415364605row35_col15\" class=\"data row35 col15\" >311</td>\n",
       "                        <td id=\"T_e3181eb4_4ccb_11ea_abe8_0c5415364605row35_col16\" class=\"data row35 col16\" >116</td>\n",
       "                        <td id=\"T_e3181eb4_4ccb_11ea_abe8_0c5415364605row35_col17\" class=\"data row35 col17\" >223</td>\n",
       "                        <td id=\"T_e3181eb4_4ccb_11ea_abe8_0c5415364605row35_col18\" class=\"data row35 col18\" >46</td>\n",
       "                        <td id=\"T_e3181eb4_4ccb_11ea_abe8_0c5415364605row35_col19\" class=\"data row35 col19\" >281</td>\n",
       "                        <td id=\"T_e3181eb4_4ccb_11ea_abe8_0c5415364605row35_col20\" class=\"data row35 col20\" >20</td>\n",
       "                        <td id=\"T_e3181eb4_4ccb_11ea_abe8_0c5415364605row35_col21\" class=\"data row35 col21\" >496</td>\n",
       "                        <td id=\"T_e3181eb4_4ccb_11ea_abe8_0c5415364605row35_col22\" class=\"data row35 col22\" >459</td>\n",
       "                        <td id=\"T_e3181eb4_4ccb_11ea_abe8_0c5415364605row35_col23\" class=\"data row35 col23\" >568</td>\n",
       "                        <td id=\"T_e3181eb4_4ccb_11ea_abe8_0c5415364605row35_col24\" class=\"data row35 col24\" >628</td>\n",
       "                        <td id=\"T_e3181eb4_4ccb_11ea_abe8_0c5415364605row35_col25\" class=\"data row35 col25\" >809</td>\n",
       "                        <td id=\"T_e3181eb4_4ccb_11ea_abe8_0c5415364605row35_col26\" class=\"data row35 col26\" >637</td>\n",
       "                        <td id=\"T_e3181eb4_4ccb_11ea_abe8_0c5415364605row35_col27\" class=\"data row35 col27\" >186</td>\n",
       "                        <td id=\"T_e3181eb4_4ccb_11ea_abe8_0c5415364605row35_col28\" class=\"data row35 col28\" >25</td>\n",
       "                        <td id=\"T_e3181eb4_4ccb_11ea_abe8_0c5415364605row35_col29\" class=\"data row35 col29\" >44</td>\n",
       "            </tr>\n",
       "            <tr>\n",
       "                        <th id=\"T_e3181eb4_4ccb_11ea_abe8_0c5415364605level0_row36\" class=\"row_heading level0 row36\" >Jeg</th>\n",
       "                        <td id=\"T_e3181eb4_4ccb_11ea_abe8_0c5415364605row36_col0\" class=\"data row36 col0\" >0</td>\n",
       "                        <td id=\"T_e3181eb4_4ccb_11ea_abe8_0c5415364605row36_col1\" class=\"data row36 col1\" >153</td>\n",
       "                        <td id=\"T_e3181eb4_4ccb_11ea_abe8_0c5415364605row36_col2\" class=\"data row36 col2\" >232</td>\n",
       "                        <td id=\"T_e3181eb4_4ccb_11ea_abe8_0c5415364605row36_col3\" class=\"data row36 col3\" >15</td>\n",
       "                        <td id=\"T_e3181eb4_4ccb_11ea_abe8_0c5415364605row36_col4\" class=\"data row36 col4\" >66</td>\n",
       "                        <td id=\"T_e3181eb4_4ccb_11ea_abe8_0c5415364605row36_col5\" class=\"data row36 col5\" >61</td>\n",
       "                        <td id=\"T_e3181eb4_4ccb_11ea_abe8_0c5415364605row36_col6\" class=\"data row36 col6\" >47</td>\n",
       "                        <td id=\"T_e3181eb4_4ccb_11ea_abe8_0c5415364605row36_col7\" class=\"data row36 col7\" >83</td>\n",
       "                        <td id=\"T_e3181eb4_4ccb_11ea_abe8_0c5415364605row36_col8\" class=\"data row36 col8\" >0</td>\n",
       "                        <td id=\"T_e3181eb4_4ccb_11ea_abe8_0c5415364605row36_col9\" class=\"data row36 col9\" >0</td>\n",
       "                        <td id=\"T_e3181eb4_4ccb_11ea_abe8_0c5415364605row36_col10\" class=\"data row36 col10\" >57</td>\n",
       "                        <td id=\"T_e3181eb4_4ccb_11ea_abe8_0c5415364605row36_col11\" class=\"data row36 col11\" >71</td>\n",
       "                        <td id=\"T_e3181eb4_4ccb_11ea_abe8_0c5415364605row36_col12\" class=\"data row36 col12\" >48</td>\n",
       "                        <td id=\"T_e3181eb4_4ccb_11ea_abe8_0c5415364605row36_col13\" class=\"data row36 col13\" >5</td>\n",
       "                        <td id=\"T_e3181eb4_4ccb_11ea_abe8_0c5415364605row36_col14\" class=\"data row36 col14\" >25</td>\n",
       "                        <td id=\"T_e3181eb4_4ccb_11ea_abe8_0c5415364605row36_col15\" class=\"data row36 col15\" >240</td>\n",
       "                        <td id=\"T_e3181eb4_4ccb_11ea_abe8_0c5415364605row36_col16\" class=\"data row36 col16\" >77</td>\n",
       "                        <td id=\"T_e3181eb4_4ccb_11ea_abe8_0c5415364605row36_col17\" class=\"data row36 col17\" >156</td>\n",
       "                        <td id=\"T_e3181eb4_4ccb_11ea_abe8_0c5415364605row36_col18\" class=\"data row36 col18\" >0</td>\n",
       "                        <td id=\"T_e3181eb4_4ccb_11ea_abe8_0c5415364605row36_col19\" class=\"data row36 col19\" >186</td>\n",
       "                        <td id=\"T_e3181eb4_4ccb_11ea_abe8_0c5415364605row36_col20\" class=\"data row36 col20\" >2</td>\n",
       "                        <td id=\"T_e3181eb4_4ccb_11ea_abe8_0c5415364605row36_col21\" class=\"data row36 col21\" >259</td>\n",
       "                        <td id=\"T_e3181eb4_4ccb_11ea_abe8_0c5415364605row36_col22\" class=\"data row36 col22\" >254</td>\n",
       "                        <td id=\"T_e3181eb4_4ccb_11ea_abe8_0c5415364605row36_col23\" class=\"data row36 col23\" >323</td>\n",
       "                        <td id=\"T_e3181eb4_4ccb_11ea_abe8_0c5415364605row36_col24\" class=\"data row36 col24\" >385</td>\n",
       "                        <td id=\"T_e3181eb4_4ccb_11ea_abe8_0c5415364605row36_col25\" class=\"data row36 col25\" >544</td>\n",
       "                        <td id=\"T_e3181eb4_4ccb_11ea_abe8_0c5415364605row36_col26\" class=\"data row36 col26\" >443</td>\n",
       "                        <td id=\"T_e3181eb4_4ccb_11ea_abe8_0c5415364605row36_col27\" class=\"data row36 col27\" >138</td>\n",
       "                        <td id=\"T_e3181eb4_4ccb_11ea_abe8_0c5415364605row36_col28\" class=\"data row36 col28\" >14</td>\n",
       "                        <td id=\"T_e3181eb4_4ccb_11ea_abe8_0c5415364605row36_col29\" class=\"data row36 col29\" >32</td>\n",
       "            </tr>\n",
       "            <tr>\n",
       "                        <th id=\"T_e3181eb4_4ccb_11ea_abe8_0c5415364605level0_row37\" class=\"row_heading level0 row37\" >kan</th>\n",
       "                        <td id=\"T_e3181eb4_4ccb_11ea_abe8_0c5415364605row37_col0\" class=\"data row37 col0\" >19</td>\n",
       "                        <td id=\"T_e3181eb4_4ccb_11ea_abe8_0c5415364605row37_col1\" class=\"data row37 col1\" >151</td>\n",
       "                        <td id=\"T_e3181eb4_4ccb_11ea_abe8_0c5415364605row37_col2\" class=\"data row37 col2\" >305</td>\n",
       "                        <td id=\"T_e3181eb4_4ccb_11ea_abe8_0c5415364605row37_col3\" class=\"data row37 col3\" >11</td>\n",
       "                        <td id=\"T_e3181eb4_4ccb_11ea_abe8_0c5415364605row37_col4\" class=\"data row37 col4\" >38</td>\n",
       "                        <td id=\"T_e3181eb4_4ccb_11ea_abe8_0c5415364605row37_col5\" class=\"data row37 col5\" >48</td>\n",
       "                        <td id=\"T_e3181eb4_4ccb_11ea_abe8_0c5415364605row37_col6\" class=\"data row37 col6\" >29</td>\n",
       "                        <td id=\"T_e3181eb4_4ccb_11ea_abe8_0c5415364605row37_col7\" class=\"data row37 col7\" >30</td>\n",
       "                        <td id=\"T_e3181eb4_4ccb_11ea_abe8_0c5415364605row37_col8\" class=\"data row37 col8\" >28</td>\n",
       "                        <td id=\"T_e3181eb4_4ccb_11ea_abe8_0c5415364605row37_col9\" class=\"data row37 col9\" >1</td>\n",
       "                        <td id=\"T_e3181eb4_4ccb_11ea_abe8_0c5415364605row37_col10\" class=\"data row37 col10\" >40</td>\n",
       "                        <td id=\"T_e3181eb4_4ccb_11ea_abe8_0c5415364605row37_col11\" class=\"data row37 col11\" >78</td>\n",
       "                        <td id=\"T_e3181eb4_4ccb_11ea_abe8_0c5415364605row37_col12\" class=\"data row37 col12\" >17</td>\n",
       "                        <td id=\"T_e3181eb4_4ccb_11ea_abe8_0c5415364605row37_col13\" class=\"data row37 col13\" >1</td>\n",
       "                        <td id=\"T_e3181eb4_4ccb_11ea_abe8_0c5415364605row37_col14\" class=\"data row37 col14\" >8</td>\n",
       "                        <td id=\"T_e3181eb4_4ccb_11ea_abe8_0c5415364605row37_col15\" class=\"data row37 col15\" >188</td>\n",
       "                        <td id=\"T_e3181eb4_4ccb_11ea_abe8_0c5415364605row37_col16\" class=\"data row37 col16\" >69</td>\n",
       "                        <td id=\"T_e3181eb4_4ccb_11ea_abe8_0c5415364605row37_col17\" class=\"data row37 col17\" >124</td>\n",
       "                        <td id=\"T_e3181eb4_4ccb_11ea_abe8_0c5415364605row37_col18\" class=\"data row37 col18\" >12</td>\n",
       "                        <td id=\"T_e3181eb4_4ccb_11ea_abe8_0c5415364605row37_col19\" class=\"data row37 col19\" >164</td>\n",
       "                        <td id=\"T_e3181eb4_4ccb_11ea_abe8_0c5415364605row37_col20\" class=\"data row37 col20\" >10</td>\n",
       "                        <td id=\"T_e3181eb4_4ccb_11ea_abe8_0c5415364605row37_col21\" class=\"data row37 col21\" >316</td>\n",
       "                        <td id=\"T_e3181eb4_4ccb_11ea_abe8_0c5415364605row37_col22\" class=\"data row37 col22\" >307</td>\n",
       "                        <td id=\"T_e3181eb4_4ccb_11ea_abe8_0c5415364605row37_col23\" class=\"data row37 col23\" >436</td>\n",
       "                        <td id=\"T_e3181eb4_4ccb_11ea_abe8_0c5415364605row37_col24\" class=\"data row37 col24\" >379</td>\n",
       "                        <td id=\"T_e3181eb4_4ccb_11ea_abe8_0c5415364605row37_col25\" class=\"data row37 col25\" >474</td>\n",
       "                        <td id=\"T_e3181eb4_4ccb_11ea_abe8_0c5415364605row37_col26\" class=\"data row37 col26\" >396</td>\n",
       "                        <td id=\"T_e3181eb4_4ccb_11ea_abe8_0c5415364605row37_col27\" class=\"data row37 col27\" >172</td>\n",
       "                        <td id=\"T_e3181eb4_4ccb_11ea_abe8_0c5415364605row37_col28\" class=\"data row37 col28\" >19</td>\n",
       "                        <td id=\"T_e3181eb4_4ccb_11ea_abe8_0c5415364605row37_col29\" class=\"data row37 col29\" >18</td>\n",
       "            </tr>\n",
       "            <tr>\n",
       "                        <th id=\"T_e3181eb4_4ccb_11ea_abe8_0c5415364605level0_row38\" class=\"row_heading level0 row38\" >ved</th>\n",
       "                        <td id=\"T_e3181eb4_4ccb_11ea_abe8_0c5415364605row38_col0\" class=\"data row38 col0\" >15</td>\n",
       "                        <td id=\"T_e3181eb4_4ccb_11ea_abe8_0c5415364605row38_col1\" class=\"data row38 col1\" >150</td>\n",
       "                        <td id=\"T_e3181eb4_4ccb_11ea_abe8_0c5415364605row38_col2\" class=\"data row38 col2\" >255</td>\n",
       "                        <td id=\"T_e3181eb4_4ccb_11ea_abe8_0c5415364605row38_col3\" class=\"data row38 col3\" >9</td>\n",
       "                        <td id=\"T_e3181eb4_4ccb_11ea_abe8_0c5415364605row38_col4\" class=\"data row38 col4\" >44</td>\n",
       "                        <td id=\"T_e3181eb4_4ccb_11ea_abe8_0c5415364605row38_col5\" class=\"data row38 col5\" >40</td>\n",
       "                        <td id=\"T_e3181eb4_4ccb_11ea_abe8_0c5415364605row38_col6\" class=\"data row38 col6\" >79</td>\n",
       "                        <td id=\"T_e3181eb4_4ccb_11ea_abe8_0c5415364605row38_col7\" class=\"data row38 col7\" >299</td>\n",
       "                        <td id=\"T_e3181eb4_4ccb_11ea_abe8_0c5415364605row38_col8\" class=\"data row38 col8\" >63</td>\n",
       "                        <td id=\"T_e3181eb4_4ccb_11ea_abe8_0c5415364605row38_col9\" class=\"data row38 col9\" >11</td>\n",
       "                        <td id=\"T_e3181eb4_4ccb_11ea_abe8_0c5415364605row38_col10\" class=\"data row38 col10\" >33</td>\n",
       "                        <td id=\"T_e3181eb4_4ccb_11ea_abe8_0c5415364605row38_col11\" class=\"data row38 col11\" >120</td>\n",
       "                        <td id=\"T_e3181eb4_4ccb_11ea_abe8_0c5415364605row38_col12\" class=\"data row38 col12\" >66</td>\n",
       "                        <td id=\"T_e3181eb4_4ccb_11ea_abe8_0c5415364605row38_col13\" class=\"data row38 col13\" >8</td>\n",
       "                        <td id=\"T_e3181eb4_4ccb_11ea_abe8_0c5415364605row38_col14\" class=\"data row38 col14\" >60</td>\n",
       "                        <td id=\"T_e3181eb4_4ccb_11ea_abe8_0c5415364605row38_col15\" class=\"data row38 col15\" >160</td>\n",
       "                        <td id=\"T_e3181eb4_4ccb_11ea_abe8_0c5415364605row38_col16\" class=\"data row38 col16\" >65</td>\n",
       "                        <td id=\"T_e3181eb4_4ccb_11ea_abe8_0c5415364605row38_col17\" class=\"data row38 col17\" >119</td>\n",
       "                        <td id=\"T_e3181eb4_4ccb_11ea_abe8_0c5415364605row38_col18\" class=\"data row38 col18\" >35</td>\n",
       "                        <td id=\"T_e3181eb4_4ccb_11ea_abe8_0c5415364605row38_col19\" class=\"data row38 col19\" >216</td>\n",
       "                        <td id=\"T_e3181eb4_4ccb_11ea_abe8_0c5415364605row38_col20\" class=\"data row38 col20\" >40</td>\n",
       "                        <td id=\"T_e3181eb4_4ccb_11ea_abe8_0c5415364605row38_col21\" class=\"data row38 col21\" >420</td>\n",
       "                        <td id=\"T_e3181eb4_4ccb_11ea_abe8_0c5415364605row38_col22\" class=\"data row38 col22\" >367</td>\n",
       "                        <td id=\"T_e3181eb4_4ccb_11ea_abe8_0c5415364605row38_col23\" class=\"data row38 col23\" >490</td>\n",
       "                        <td id=\"T_e3181eb4_4ccb_11ea_abe8_0c5415364605row38_col24\" class=\"data row38 col24\" >426</td>\n",
       "                        <td id=\"T_e3181eb4_4ccb_11ea_abe8_0c5415364605row38_col25\" class=\"data row38 col25\" >525</td>\n",
       "                        <td id=\"T_e3181eb4_4ccb_11ea_abe8_0c5415364605row38_col26\" class=\"data row38 col26\" >497</td>\n",
       "                        <td id=\"T_e3181eb4_4ccb_11ea_abe8_0c5415364605row38_col27\" class=\"data row38 col27\" >138</td>\n",
       "                        <td id=\"T_e3181eb4_4ccb_11ea_abe8_0c5415364605row38_col28\" class=\"data row38 col28\" >13</td>\n",
       "                        <td id=\"T_e3181eb4_4ccb_11ea_abe8_0c5415364605row38_col29\" class=\"data row38 col29\" >31</td>\n",
       "            </tr>\n",
       "            <tr>\n",
       "                        <th id=\"T_e3181eb4_4ccb_11ea_abe8_0c5415364605level0_row39\" class=\"row_heading level0 row39\" >havde</th>\n",
       "                        <td id=\"T_e3181eb4_4ccb_11ea_abe8_0c5415364605row39_col0\" class=\"data row39 col0\" >0</td>\n",
       "                        <td id=\"T_e3181eb4_4ccb_11ea_abe8_0c5415364605row39_col1\" class=\"data row39 col1\" >149</td>\n",
       "                        <td id=\"T_e3181eb4_4ccb_11ea_abe8_0c5415364605row39_col2\" class=\"data row39 col2\" >142</td>\n",
       "                        <td id=\"T_e3181eb4_4ccb_11ea_abe8_0c5415364605row39_col3\" class=\"data row39 col3\" >1</td>\n",
       "                        <td id=\"T_e3181eb4_4ccb_11ea_abe8_0c5415364605row39_col4\" class=\"data row39 col4\" >36</td>\n",
       "                        <td id=\"T_e3181eb4_4ccb_11ea_abe8_0c5415364605row39_col5\" class=\"data row39 col5\" >20</td>\n",
       "                        <td id=\"T_e3181eb4_4ccb_11ea_abe8_0c5415364605row39_col6\" class=\"data row39 col6\" >121</td>\n",
       "                        <td id=\"T_e3181eb4_4ccb_11ea_abe8_0c5415364605row39_col7\" class=\"data row39 col7\" >0</td>\n",
       "                        <td id=\"T_e3181eb4_4ccb_11ea_abe8_0c5415364605row39_col8\" class=\"data row39 col8\" >33</td>\n",
       "                        <td id=\"T_e3181eb4_4ccb_11ea_abe8_0c5415364605row39_col9\" class=\"data row39 col9\" >3</td>\n",
       "                        <td id=\"T_e3181eb4_4ccb_11ea_abe8_0c5415364605row39_col10\" class=\"data row39 col10\" >45</td>\n",
       "                        <td id=\"T_e3181eb4_4ccb_11ea_abe8_0c5415364605row39_col11\" class=\"data row39 col11\" >92</td>\n",
       "                        <td id=\"T_e3181eb4_4ccb_11ea_abe8_0c5415364605row39_col12\" class=\"data row39 col12\" >50</td>\n",
       "                        <td id=\"T_e3181eb4_4ccb_11ea_abe8_0c5415364605row39_col13\" class=\"data row39 col13\" >5</td>\n",
       "                        <td id=\"T_e3181eb4_4ccb_11ea_abe8_0c5415364605row39_col14\" class=\"data row39 col14\" >30</td>\n",
       "                        <td id=\"T_e3181eb4_4ccb_11ea_abe8_0c5415364605row39_col15\" class=\"data row39 col15\" >128</td>\n",
       "                        <td id=\"T_e3181eb4_4ccb_11ea_abe8_0c5415364605row39_col16\" class=\"data row39 col16\" >71</td>\n",
       "                        <td id=\"T_e3181eb4_4ccb_11ea_abe8_0c5415364605row39_col17\" class=\"data row39 col17\" >95</td>\n",
       "                        <td id=\"T_e3181eb4_4ccb_11ea_abe8_0c5415364605row39_col18\" class=\"data row39 col18\" >52</td>\n",
       "                        <td id=\"T_e3181eb4_4ccb_11ea_abe8_0c5415364605row39_col19\" class=\"data row39 col19\" >288</td>\n",
       "                        <td id=\"T_e3181eb4_4ccb_11ea_abe8_0c5415364605row39_col20\" class=\"data row39 col20\" >22</td>\n",
       "                        <td id=\"T_e3181eb4_4ccb_11ea_abe8_0c5415364605row39_col21\" class=\"data row39 col21\" >413</td>\n",
       "                        <td id=\"T_e3181eb4_4ccb_11ea_abe8_0c5415364605row39_col22\" class=\"data row39 col22\" >375</td>\n",
       "                        <td id=\"T_e3181eb4_4ccb_11ea_abe8_0c5415364605row39_col23\" class=\"data row39 col23\" >625</td>\n",
       "                        <td id=\"T_e3181eb4_4ccb_11ea_abe8_0c5415364605row39_col24\" class=\"data row39 col24\" >792</td>\n",
       "                        <td id=\"T_e3181eb4_4ccb_11ea_abe8_0c5415364605row39_col25\" class=\"data row39 col25\" >980</td>\n",
       "                        <td id=\"T_e3181eb4_4ccb_11ea_abe8_0c5415364605row39_col26\" class=\"data row39 col26\" >837</td>\n",
       "                        <td id=\"T_e3181eb4_4ccb_11ea_abe8_0c5415364605row39_col27\" class=\"data row39 col27\" >193</td>\n",
       "                        <td id=\"T_e3181eb4_4ccb_11ea_abe8_0c5415364605row39_col28\" class=\"data row39 col28\" >17</td>\n",
       "                        <td id=\"T_e3181eb4_4ccb_11ea_abe8_0c5415364605row39_col29\" class=\"data row39 col29\" >56</td>\n",
       "            </tr>\n",
       "            <tr>\n",
       "                        <th id=\"T_e3181eb4_4ccb_11ea_abe8_0c5415364605level0_row40\" class=\"row_heading level0 row40\" >!</th>\n",
       "                        <td id=\"T_e3181eb4_4ccb_11ea_abe8_0c5415364605row40_col0\" class=\"data row40 col0\" >6</td>\n",
       "                        <td id=\"T_e3181eb4_4ccb_11ea_abe8_0c5415364605row40_col1\" class=\"data row40 col1\" >144</td>\n",
       "                        <td id=\"T_e3181eb4_4ccb_11ea_abe8_0c5415364605row40_col2\" class=\"data row40 col2\" >218</td>\n",
       "                        <td id=\"T_e3181eb4_4ccb_11ea_abe8_0c5415364605row40_col3\" class=\"data row40 col3\" >9</td>\n",
       "                        <td id=\"T_e3181eb4_4ccb_11ea_abe8_0c5415364605row40_col4\" class=\"data row40 col4\" >82</td>\n",
       "                        <td id=\"T_e3181eb4_4ccb_11ea_abe8_0c5415364605row40_col5\" class=\"data row40 col5\" >59</td>\n",
       "                        <td id=\"T_e3181eb4_4ccb_11ea_abe8_0c5415364605row40_col6\" class=\"data row40 col6\" >42</td>\n",
       "                        <td id=\"T_e3181eb4_4ccb_11ea_abe8_0c5415364605row40_col7\" class=\"data row40 col7\" >36</td>\n",
       "                        <td id=\"T_e3181eb4_4ccb_11ea_abe8_0c5415364605row40_col8\" class=\"data row40 col8\" >0</td>\n",
       "                        <td id=\"T_e3181eb4_4ccb_11ea_abe8_0c5415364605row40_col9\" class=\"data row40 col9\" >4</td>\n",
       "                        <td id=\"T_e3181eb4_4ccb_11ea_abe8_0c5415364605row40_col10\" class=\"data row40 col10\" >61</td>\n",
       "                        <td id=\"T_e3181eb4_4ccb_11ea_abe8_0c5415364605row40_col11\" class=\"data row40 col11\" >243</td>\n",
       "                        <td id=\"T_e3181eb4_4ccb_11ea_abe8_0c5415364605row40_col12\" class=\"data row40 col12\" >65</td>\n",
       "                        <td id=\"T_e3181eb4_4ccb_11ea_abe8_0c5415364605row40_col13\" class=\"data row40 col13\" >25</td>\n",
       "                        <td id=\"T_e3181eb4_4ccb_11ea_abe8_0c5415364605row40_col14\" class=\"data row40 col14\" >36</td>\n",
       "                        <td id=\"T_e3181eb4_4ccb_11ea_abe8_0c5415364605row40_col15\" class=\"data row40 col15\" >149</td>\n",
       "                        <td id=\"T_e3181eb4_4ccb_11ea_abe8_0c5415364605row40_col16\" class=\"data row40 col16\" >3</td>\n",
       "                        <td id=\"T_e3181eb4_4ccb_11ea_abe8_0c5415364605row40_col17\" class=\"data row40 col17\" >14</td>\n",
       "                        <td id=\"T_e3181eb4_4ccb_11ea_abe8_0c5415364605row40_col18\" class=\"data row40 col18\" >19</td>\n",
       "                        <td id=\"T_e3181eb4_4ccb_11ea_abe8_0c5415364605row40_col19\" class=\"data row40 col19\" >442</td>\n",
       "                        <td id=\"T_e3181eb4_4ccb_11ea_abe8_0c5415364605row40_col20\" class=\"data row40 col20\" >8</td>\n",
       "                        <td id=\"T_e3181eb4_4ccb_11ea_abe8_0c5415364605row40_col21\" class=\"data row40 col21\" >948</td>\n",
       "                        <td id=\"T_e3181eb4_4ccb_11ea_abe8_0c5415364605row40_col22\" class=\"data row40 col22\" >889</td>\n",
       "                        <td id=\"T_e3181eb4_4ccb_11ea_abe8_0c5415364605row40_col23\" class=\"data row40 col23\" >620</td>\n",
       "                        <td id=\"T_e3181eb4_4ccb_11ea_abe8_0c5415364605row40_col24\" class=\"data row40 col24\" >644</td>\n",
       "                        <td id=\"T_e3181eb4_4ccb_11ea_abe8_0c5415364605row40_col25\" class=\"data row40 col25\" >612</td>\n",
       "                        <td id=\"T_e3181eb4_4ccb_11ea_abe8_0c5415364605row40_col26\" class=\"data row40 col26\" >589</td>\n",
       "                        <td id=\"T_e3181eb4_4ccb_11ea_abe8_0c5415364605row40_col27\" class=\"data row40 col27\" >225</td>\n",
       "                        <td id=\"T_e3181eb4_4ccb_11ea_abe8_0c5415364605row40_col28\" class=\"data row40 col28\" >12</td>\n",
       "                        <td id=\"T_e3181eb4_4ccb_11ea_abe8_0c5415364605row40_col29\" class=\"data row40 col29\" >2</td>\n",
       "            </tr>\n",
       "            <tr>\n",
       "                        <th id=\"T_e3181eb4_4ccb_11ea_abe8_0c5415364605level0_row41\" class=\"row_heading level0 row41\" >sig</th>\n",
       "                        <td id=\"T_e3181eb4_4ccb_11ea_abe8_0c5415364605row41_col0\" class=\"data row41 col0\" >1</td>\n",
       "                        <td id=\"T_e3181eb4_4ccb_11ea_abe8_0c5415364605row41_col1\" class=\"data row41 col1\" >143</td>\n",
       "                        <td id=\"T_e3181eb4_4ccb_11ea_abe8_0c5415364605row41_col2\" class=\"data row41 col2\" >210</td>\n",
       "                        <td id=\"T_e3181eb4_4ccb_11ea_abe8_0c5415364605row41_col3\" class=\"data row41 col3\" >6</td>\n",
       "                        <td id=\"T_e3181eb4_4ccb_11ea_abe8_0c5415364605row41_col4\" class=\"data row41 col4\" >55</td>\n",
       "                        <td id=\"T_e3181eb4_4ccb_11ea_abe8_0c5415364605row41_col5\" class=\"data row41 col5\" >33</td>\n",
       "                        <td id=\"T_e3181eb4_4ccb_11ea_abe8_0c5415364605row41_col6\" class=\"data row41 col6\" >78</td>\n",
       "                        <td id=\"T_e3181eb4_4ccb_11ea_abe8_0c5415364605row41_col7\" class=\"data row41 col7\" >0</td>\n",
       "                        <td id=\"T_e3181eb4_4ccb_11ea_abe8_0c5415364605row41_col8\" class=\"data row41 col8\" >43</td>\n",
       "                        <td id=\"T_e3181eb4_4ccb_11ea_abe8_0c5415364605row41_col9\" class=\"data row41 col9\" >6</td>\n",
       "                        <td id=\"T_e3181eb4_4ccb_11ea_abe8_0c5415364605row41_col10\" class=\"data row41 col10\" >45</td>\n",
       "                        <td id=\"T_e3181eb4_4ccb_11ea_abe8_0c5415364605row41_col11\" class=\"data row41 col11\" >159</td>\n",
       "                        <td id=\"T_e3181eb4_4ccb_11ea_abe8_0c5415364605row41_col12\" class=\"data row41 col12\" >89</td>\n",
       "                        <td id=\"T_e3181eb4_4ccb_11ea_abe8_0c5415364605row41_col13\" class=\"data row41 col13\" >8</td>\n",
       "                        <td id=\"T_e3181eb4_4ccb_11ea_abe8_0c5415364605row41_col14\" class=\"data row41 col14\" >51</td>\n",
       "                        <td id=\"T_e3181eb4_4ccb_11ea_abe8_0c5415364605row41_col15\" class=\"data row41 col15\" >116</td>\n",
       "                        <td id=\"T_e3181eb4_4ccb_11ea_abe8_0c5415364605row41_col16\" class=\"data row41 col16\" >66</td>\n",
       "                        <td id=\"T_e3181eb4_4ccb_11ea_abe8_0c5415364605row41_col17\" class=\"data row41 col17\" >87</td>\n",
       "                        <td id=\"T_e3181eb4_4ccb_11ea_abe8_0c5415364605row41_col18\" class=\"data row41 col18\" >26</td>\n",
       "                        <td id=\"T_e3181eb4_4ccb_11ea_abe8_0c5415364605row41_col19\" class=\"data row41 col19\" >185</td>\n",
       "                        <td id=\"T_e3181eb4_4ccb_11ea_abe8_0c5415364605row41_col20\" class=\"data row41 col20\" >14</td>\n",
       "                        <td id=\"T_e3181eb4_4ccb_11ea_abe8_0c5415364605row41_col21\" class=\"data row41 col21\" >352</td>\n",
       "                        <td id=\"T_e3181eb4_4ccb_11ea_abe8_0c5415364605row41_col22\" class=\"data row41 col22\" >340</td>\n",
       "                        <td id=\"T_e3181eb4_4ccb_11ea_abe8_0c5415364605row41_col23\" class=\"data row41 col23\" >559</td>\n",
       "                        <td id=\"T_e3181eb4_4ccb_11ea_abe8_0c5415364605row41_col24\" class=\"data row41 col24\" >485</td>\n",
       "                        <td id=\"T_e3181eb4_4ccb_11ea_abe8_0c5415364605row41_col25\" class=\"data row41 col25\" >661</td>\n",
       "                        <td id=\"T_e3181eb4_4ccb_11ea_abe8_0c5415364605row41_col26\" class=\"data row41 col26\" >566</td>\n",
       "                        <td id=\"T_e3181eb4_4ccb_11ea_abe8_0c5415364605row41_col27\" class=\"data row41 col27\" >166</td>\n",
       "                        <td id=\"T_e3181eb4_4ccb_11ea_abe8_0c5415364605row41_col28\" class=\"data row41 col28\" >12</td>\n",
       "                        <td id=\"T_e3181eb4_4ccb_11ea_abe8_0c5415364605row41_col29\" class=\"data row41 col29\" >68</td>\n",
       "            </tr>\n",
       "            <tr>\n",
       "                        <th id=\"T_e3181eb4_4ccb_11ea_abe8_0c5415364605level0_row42\" class=\"row_heading level0 row42\" >fra</th>\n",
       "                        <td id=\"T_e3181eb4_4ccb_11ea_abe8_0c5415364605row42_col0\" class=\"data row42 col0\" >120</td>\n",
       "                        <td id=\"T_e3181eb4_4ccb_11ea_abe8_0c5415364605row42_col1\" class=\"data row42 col1\" >137</td>\n",
       "                        <td id=\"T_e3181eb4_4ccb_11ea_abe8_0c5415364605row42_col2\" class=\"data row42 col2\" >269</td>\n",
       "                        <td id=\"T_e3181eb4_4ccb_11ea_abe8_0c5415364605row42_col3\" class=\"data row42 col3\" >14</td>\n",
       "                        <td id=\"T_e3181eb4_4ccb_11ea_abe8_0c5415364605row42_col4\" class=\"data row42 col4\" >49</td>\n",
       "                        <td id=\"T_e3181eb4_4ccb_11ea_abe8_0c5415364605row42_col5\" class=\"data row42 col5\" >56</td>\n",
       "                        <td id=\"T_e3181eb4_4ccb_11ea_abe8_0c5415364605row42_col6\" class=\"data row42 col6\" >54</td>\n",
       "                        <td id=\"T_e3181eb4_4ccb_11ea_abe8_0c5415364605row42_col7\" class=\"data row42 col7\" >391</td>\n",
       "                        <td id=\"T_e3181eb4_4ccb_11ea_abe8_0c5415364605row42_col8\" class=\"data row42 col8\" >41</td>\n",
       "                        <td id=\"T_e3181eb4_4ccb_11ea_abe8_0c5415364605row42_col9\" class=\"data row42 col9\" >15</td>\n",
       "                        <td id=\"T_e3181eb4_4ccb_11ea_abe8_0c5415364605row42_col10\" class=\"data row42 col10\" >55</td>\n",
       "                        <td id=\"T_e3181eb4_4ccb_11ea_abe8_0c5415364605row42_col11\" class=\"data row42 col11\" >186</td>\n",
       "                        <td id=\"T_e3181eb4_4ccb_11ea_abe8_0c5415364605row42_col12\" class=\"data row42 col12\" >74</td>\n",
       "                        <td id=\"T_e3181eb4_4ccb_11ea_abe8_0c5415364605row42_col13\" class=\"data row42 col13\" >51</td>\n",
       "                        <td id=\"T_e3181eb4_4ccb_11ea_abe8_0c5415364605row42_col14\" class=\"data row42 col14\" >68</td>\n",
       "                        <td id=\"T_e3181eb4_4ccb_11ea_abe8_0c5415364605row42_col15\" class=\"data row42 col15\" >145</td>\n",
       "                        <td id=\"T_e3181eb4_4ccb_11ea_abe8_0c5415364605row42_col16\" class=\"data row42 col16\" >57</td>\n",
       "                        <td id=\"T_e3181eb4_4ccb_11ea_abe8_0c5415364605row42_col17\" class=\"data row42 col17\" >147</td>\n",
       "                        <td id=\"T_e3181eb4_4ccb_11ea_abe8_0c5415364605row42_col18\" class=\"data row42 col18\" >35</td>\n",
       "                        <td id=\"T_e3181eb4_4ccb_11ea_abe8_0c5415364605row42_col19\" class=\"data row42 col19\" >193</td>\n",
       "                        <td id=\"T_e3181eb4_4ccb_11ea_abe8_0c5415364605row42_col20\" class=\"data row42 col20\" >17</td>\n",
       "                        <td id=\"T_e3181eb4_4ccb_11ea_abe8_0c5415364605row42_col21\" class=\"data row42 col21\" >447</td>\n",
       "                        <td id=\"T_e3181eb4_4ccb_11ea_abe8_0c5415364605row42_col22\" class=\"data row42 col22\" >507</td>\n",
       "                        <td id=\"T_e3181eb4_4ccb_11ea_abe8_0c5415364605row42_col23\" class=\"data row42 col23\" >691</td>\n",
       "                        <td id=\"T_e3181eb4_4ccb_11ea_abe8_0c5415364605row42_col24\" class=\"data row42 col24\" >736</td>\n",
       "                        <td id=\"T_e3181eb4_4ccb_11ea_abe8_0c5415364605row42_col25\" class=\"data row42 col25\" >921</td>\n",
       "                        <td id=\"T_e3181eb4_4ccb_11ea_abe8_0c5415364605row42_col26\" class=\"data row42 col26\" >818</td>\n",
       "                        <td id=\"T_e3181eb4_4ccb_11ea_abe8_0c5415364605row42_col27\" class=\"data row42 col27\" >161</td>\n",
       "                        <td id=\"T_e3181eb4_4ccb_11ea_abe8_0c5415364605row42_col28\" class=\"data row42 col28\" >13</td>\n",
       "                        <td id=\"T_e3181eb4_4ccb_11ea_abe8_0c5415364605row42_col29\" class=\"data row42 col29\" >28</td>\n",
       "            </tr>\n",
       "            <tr>\n",
       "                        <th id=\"T_e3181eb4_4ccb_11ea_abe8_0c5415364605level0_row43\" class=\"row_heading level0 row43\" >Dig</th>\n",
       "                        <td id=\"T_e3181eb4_4ccb_11ea_abe8_0c5415364605row43_col0\" class=\"data row43 col0\" >0</td>\n",
       "                        <td id=\"T_e3181eb4_4ccb_11ea_abe8_0c5415364605row43_col1\" class=\"data row43 col1\" >136</td>\n",
       "                        <td id=\"T_e3181eb4_4ccb_11ea_abe8_0c5415364605row43_col2\" class=\"data row43 col2\" >247</td>\n",
       "                        <td id=\"T_e3181eb4_4ccb_11ea_abe8_0c5415364605row43_col3\" class=\"data row43 col3\" >0</td>\n",
       "                        <td id=\"T_e3181eb4_4ccb_11ea_abe8_0c5415364605row43_col4\" class=\"data row43 col4\" >0</td>\n",
       "                        <td id=\"T_e3181eb4_4ccb_11ea_abe8_0c5415364605row43_col5\" class=\"data row43 col5\" >1</td>\n",
       "                        <td id=\"T_e3181eb4_4ccb_11ea_abe8_0c5415364605row43_col6\" class=\"data row43 col6\" >4</td>\n",
       "                        <td id=\"T_e3181eb4_4ccb_11ea_abe8_0c5415364605row43_col7\" class=\"data row43 col7\" >0</td>\n",
       "                        <td id=\"T_e3181eb4_4ccb_11ea_abe8_0c5415364605row43_col8\" class=\"data row43 col8\" >0</td>\n",
       "                        <td id=\"T_e3181eb4_4ccb_11ea_abe8_0c5415364605row43_col9\" class=\"data row43 col9\" >0</td>\n",
       "                        <td id=\"T_e3181eb4_4ccb_11ea_abe8_0c5415364605row43_col10\" class=\"data row43 col10\" >0</td>\n",
       "                        <td id=\"T_e3181eb4_4ccb_11ea_abe8_0c5415364605row43_col11\" class=\"data row43 col11\" >0</td>\n",
       "                        <td id=\"T_e3181eb4_4ccb_11ea_abe8_0c5415364605row43_col12\" class=\"data row43 col12\" >0</td>\n",
       "                        <td id=\"T_e3181eb4_4ccb_11ea_abe8_0c5415364605row43_col13\" class=\"data row43 col13\" >0</td>\n",
       "                        <td id=\"T_e3181eb4_4ccb_11ea_abe8_0c5415364605row43_col14\" class=\"data row43 col14\" >0</td>\n",
       "                        <td id=\"T_e3181eb4_4ccb_11ea_abe8_0c5415364605row43_col15\" class=\"data row43 col15\" >230</td>\n",
       "                        <td id=\"T_e3181eb4_4ccb_11ea_abe8_0c5415364605row43_col16\" class=\"data row43 col16\" >24</td>\n",
       "                        <td id=\"T_e3181eb4_4ccb_11ea_abe8_0c5415364605row43_col17\" class=\"data row43 col17\" >15</td>\n",
       "                        <td id=\"T_e3181eb4_4ccb_11ea_abe8_0c5415364605row43_col18\" class=\"data row43 col18\" >3</td>\n",
       "                        <td id=\"T_e3181eb4_4ccb_11ea_abe8_0c5415364605row43_col19\" class=\"data row43 col19\" >109</td>\n",
       "                        <td id=\"T_e3181eb4_4ccb_11ea_abe8_0c5415364605row43_col20\" class=\"data row43 col20\" >0</td>\n",
       "                        <td id=\"T_e3181eb4_4ccb_11ea_abe8_0c5415364605row43_col21\" class=\"data row43 col21\" >122</td>\n",
       "                        <td id=\"T_e3181eb4_4ccb_11ea_abe8_0c5415364605row43_col22\" class=\"data row43 col22\" >123</td>\n",
       "                        <td id=\"T_e3181eb4_4ccb_11ea_abe8_0c5415364605row43_col23\" class=\"data row43 col23\" >112</td>\n",
       "                        <td id=\"T_e3181eb4_4ccb_11ea_abe8_0c5415364605row43_col24\" class=\"data row43 col24\" >97</td>\n",
       "                        <td id=\"T_e3181eb4_4ccb_11ea_abe8_0c5415364605row43_col25\" class=\"data row43 col25\" >175</td>\n",
       "                        <td id=\"T_e3181eb4_4ccb_11ea_abe8_0c5415364605row43_col26\" class=\"data row43 col26\" >97</td>\n",
       "                        <td id=\"T_e3181eb4_4ccb_11ea_abe8_0c5415364605row43_col27\" class=\"data row43 col27\" >14</td>\n",
       "                        <td id=\"T_e3181eb4_4ccb_11ea_abe8_0c5415364605row43_col28\" class=\"data row43 col28\" >0</td>\n",
       "                        <td id=\"T_e3181eb4_4ccb_11ea_abe8_0c5415364605row43_col29\" class=\"data row43 col29\" >0</td>\n",
       "            </tr>\n",
       "            <tr>\n",
       "                        <th id=\"T_e3181eb4_4ccb_11ea_abe8_0c5415364605level0_row44\" class=\"row_heading level0 row44\" >[</th>\n",
       "                        <td id=\"T_e3181eb4_4ccb_11ea_abe8_0c5415364605row44_col0\" class=\"data row44 col0\" >13</td>\n",
       "                        <td id=\"T_e3181eb4_4ccb_11ea_abe8_0c5415364605row44_col1\" class=\"data row44 col1\" >127</td>\n",
       "                        <td id=\"T_e3181eb4_4ccb_11ea_abe8_0c5415364605row44_col2\" class=\"data row44 col2\" >125</td>\n",
       "                        <td id=\"T_e3181eb4_4ccb_11ea_abe8_0c5415364605row44_col3\" class=\"data row44 col3\" >2</td>\n",
       "                        <td id=\"T_e3181eb4_4ccb_11ea_abe8_0c5415364605row44_col4\" class=\"data row44 col4\" >31</td>\n",
       "                        <td id=\"T_e3181eb4_4ccb_11ea_abe8_0c5415364605row44_col5\" class=\"data row44 col5\" >36</td>\n",
       "                        <td id=\"T_e3181eb4_4ccb_11ea_abe8_0c5415364605row44_col6\" class=\"data row44 col6\" >59</td>\n",
       "                        <td id=\"T_e3181eb4_4ccb_11ea_abe8_0c5415364605row44_col7\" class=\"data row44 col7\" >44</td>\n",
       "                        <td id=\"T_e3181eb4_4ccb_11ea_abe8_0c5415364605row44_col8\" class=\"data row44 col8\" >152</td>\n",
       "                        <td id=\"T_e3181eb4_4ccb_11ea_abe8_0c5415364605row44_col9\" class=\"data row44 col9\" >1</td>\n",
       "                        <td id=\"T_e3181eb4_4ccb_11ea_abe8_0c5415364605row44_col10\" class=\"data row44 col10\" >0</td>\n",
       "                        <td id=\"T_e3181eb4_4ccb_11ea_abe8_0c5415364605row44_col11\" class=\"data row44 col11\" >26</td>\n",
       "                        <td id=\"T_e3181eb4_4ccb_11ea_abe8_0c5415364605row44_col12\" class=\"data row44 col12\" >1</td>\n",
       "                        <td id=\"T_e3181eb4_4ccb_11ea_abe8_0c5415364605row44_col13\" class=\"data row44 col13\" >0</td>\n",
       "                        <td id=\"T_e3181eb4_4ccb_11ea_abe8_0c5415364605row44_col14\" class=\"data row44 col14\" >0</td>\n",
       "                        <td id=\"T_e3181eb4_4ccb_11ea_abe8_0c5415364605row44_col15\" class=\"data row44 col15\" >31</td>\n",
       "                        <td id=\"T_e3181eb4_4ccb_11ea_abe8_0c5415364605row44_col16\" class=\"data row44 col16\" >22</td>\n",
       "                        <td id=\"T_e3181eb4_4ccb_11ea_abe8_0c5415364605row44_col17\" class=\"data row44 col17\" >44</td>\n",
       "                        <td id=\"T_e3181eb4_4ccb_11ea_abe8_0c5415364605row44_col18\" class=\"data row44 col18\" >4</td>\n",
       "                        <td id=\"T_e3181eb4_4ccb_11ea_abe8_0c5415364605row44_col19\" class=\"data row44 col19\" >2</td>\n",
       "                        <td id=\"T_e3181eb4_4ccb_11ea_abe8_0c5415364605row44_col20\" class=\"data row44 col20\" >3</td>\n",
       "                        <td id=\"T_e3181eb4_4ccb_11ea_abe8_0c5415364605row44_col21\" class=\"data row44 col21\" >41</td>\n",
       "                        <td id=\"T_e3181eb4_4ccb_11ea_abe8_0c5415364605row44_col22\" class=\"data row44 col22\" >87</td>\n",
       "                        <td id=\"T_e3181eb4_4ccb_11ea_abe8_0c5415364605row44_col23\" class=\"data row44 col23\" >71</td>\n",
       "                        <td id=\"T_e3181eb4_4ccb_11ea_abe8_0c5415364605row44_col24\" class=\"data row44 col24\" >51</td>\n",
       "                        <td id=\"T_e3181eb4_4ccb_11ea_abe8_0c5415364605row44_col25\" class=\"data row44 col25\" >62</td>\n",
       "                        <td id=\"T_e3181eb4_4ccb_11ea_abe8_0c5415364605row44_col26\" class=\"data row44 col26\" >88</td>\n",
       "                        <td id=\"T_e3181eb4_4ccb_11ea_abe8_0c5415364605row44_col27\" class=\"data row44 col27\" >385</td>\n",
       "                        <td id=\"T_e3181eb4_4ccb_11ea_abe8_0c5415364605row44_col28\" class=\"data row44 col28\" >33</td>\n",
       "                        <td id=\"T_e3181eb4_4ccb_11ea_abe8_0c5415364605row44_col29\" class=\"data row44 col29\" >31</td>\n",
       "            </tr>\n",
       "            <tr>\n",
       "                        <th id=\"T_e3181eb4_4ccb_11ea_abe8_0c5415364605level0_row45\" class=\"row_heading level0 row45\" >denne</th>\n",
       "                        <td id=\"T_e3181eb4_4ccb_11ea_abe8_0c5415364605row45_col0\" class=\"data row45 col0\" >39</td>\n",
       "                        <td id=\"T_e3181eb4_4ccb_11ea_abe8_0c5415364605row45_col1\" class=\"data row45 col1\" >126</td>\n",
       "                        <td id=\"T_e3181eb4_4ccb_11ea_abe8_0c5415364605row45_col2\" class=\"data row45 col2\" >220</td>\n",
       "                        <td id=\"T_e3181eb4_4ccb_11ea_abe8_0c5415364605row45_col3\" class=\"data row45 col3\" >6</td>\n",
       "                        <td id=\"T_e3181eb4_4ccb_11ea_abe8_0c5415364605row45_col4\" class=\"data row45 col4\" >51</td>\n",
       "                        <td id=\"T_e3181eb4_4ccb_11ea_abe8_0c5415364605row45_col5\" class=\"data row45 col5\" >38</td>\n",
       "                        <td id=\"T_e3181eb4_4ccb_11ea_abe8_0c5415364605row45_col6\" class=\"data row45 col6\" >87</td>\n",
       "                        <td id=\"T_e3181eb4_4ccb_11ea_abe8_0c5415364605row45_col7\" class=\"data row45 col7\" >75</td>\n",
       "                        <td id=\"T_e3181eb4_4ccb_11ea_abe8_0c5415364605row45_col8\" class=\"data row45 col8\" >60</td>\n",
       "                        <td id=\"T_e3181eb4_4ccb_11ea_abe8_0c5415364605row45_col9\" class=\"data row45 col9\" >4</td>\n",
       "                        <td id=\"T_e3181eb4_4ccb_11ea_abe8_0c5415364605row45_col10\" class=\"data row45 col10\" >33</td>\n",
       "                        <td id=\"T_e3181eb4_4ccb_11ea_abe8_0c5415364605row45_col11\" class=\"data row45 col11\" >85</td>\n",
       "                        <td id=\"T_e3181eb4_4ccb_11ea_abe8_0c5415364605row45_col12\" class=\"data row45 col12\" >43</td>\n",
       "                        <td id=\"T_e3181eb4_4ccb_11ea_abe8_0c5415364605row45_col13\" class=\"data row45 col13\" >3</td>\n",
       "                        <td id=\"T_e3181eb4_4ccb_11ea_abe8_0c5415364605row45_col14\" class=\"data row45 col14\" >23</td>\n",
       "                        <td id=\"T_e3181eb4_4ccb_11ea_abe8_0c5415364605row45_col15\" class=\"data row45 col15\" >58</td>\n",
       "                        <td id=\"T_e3181eb4_4ccb_11ea_abe8_0c5415364605row45_col16\" class=\"data row45 col16\" >14</td>\n",
       "                        <td id=\"T_e3181eb4_4ccb_11ea_abe8_0c5415364605row45_col17\" class=\"data row45 col17\" >22</td>\n",
       "                        <td id=\"T_e3181eb4_4ccb_11ea_abe8_0c5415364605row45_col18\" class=\"data row45 col18\" >33</td>\n",
       "                        <td id=\"T_e3181eb4_4ccb_11ea_abe8_0c5415364605row45_col19\" class=\"data row45 col19\" >204</td>\n",
       "                        <td id=\"T_e3181eb4_4ccb_11ea_abe8_0c5415364605row45_col20\" class=\"data row45 col20\" >15</td>\n",
       "                        <td id=\"T_e3181eb4_4ccb_11ea_abe8_0c5415364605row45_col21\" class=\"data row45 col21\" >308</td>\n",
       "                        <td id=\"T_e3181eb4_4ccb_11ea_abe8_0c5415364605row45_col22\" class=\"data row45 col22\" >281</td>\n",
       "                        <td id=\"T_e3181eb4_4ccb_11ea_abe8_0c5415364605row45_col23\" class=\"data row45 col23\" >402</td>\n",
       "                        <td id=\"T_e3181eb4_4ccb_11ea_abe8_0c5415364605row45_col24\" class=\"data row45 col24\" >393</td>\n",
       "                        <td id=\"T_e3181eb4_4ccb_11ea_abe8_0c5415364605row45_col25\" class=\"data row45 col25\" >454</td>\n",
       "                        <td id=\"T_e3181eb4_4ccb_11ea_abe8_0c5415364605row45_col26\" class=\"data row45 col26\" >355</td>\n",
       "                        <td id=\"T_e3181eb4_4ccb_11ea_abe8_0c5415364605row45_col27\" class=\"data row45 col27\" >110</td>\n",
       "                        <td id=\"T_e3181eb4_4ccb_11ea_abe8_0c5415364605row45_col28\" class=\"data row45 col28\" >17</td>\n",
       "                        <td id=\"T_e3181eb4_4ccb_11ea_abe8_0c5415364605row45_col29\" class=\"data row45 col29\" >3</td>\n",
       "            </tr>\n",
       "            <tr>\n",
       "                        <th id=\"T_e3181eb4_4ccb_11ea_abe8_0c5415364605level0_row46\" class=\"row_heading level0 row46\" >ham</th>\n",
       "                        <td id=\"T_e3181eb4_4ccb_11ea_abe8_0c5415364605row46_col0\" class=\"data row46 col0\" >1</td>\n",
       "                        <td id=\"T_e3181eb4_4ccb_11ea_abe8_0c5415364605row46_col1\" class=\"data row46 col1\" >117</td>\n",
       "                        <td id=\"T_e3181eb4_4ccb_11ea_abe8_0c5415364605row46_col2\" class=\"data row46 col2\" >131</td>\n",
       "                        <td id=\"T_e3181eb4_4ccb_11ea_abe8_0c5415364605row46_col3\" class=\"data row46 col3\" >7</td>\n",
       "                        <td id=\"T_e3181eb4_4ccb_11ea_abe8_0c5415364605row46_col4\" class=\"data row46 col4\" >25</td>\n",
       "                        <td id=\"T_e3181eb4_4ccb_11ea_abe8_0c5415364605row46_col5\" class=\"data row46 col5\" >18</td>\n",
       "                        <td id=\"T_e3181eb4_4ccb_11ea_abe8_0c5415364605row46_col6\" class=\"data row46 col6\" >81</td>\n",
       "                        <td id=\"T_e3181eb4_4ccb_11ea_abe8_0c5415364605row46_col7\" class=\"data row46 col7\" >94</td>\n",
       "                        <td id=\"T_e3181eb4_4ccb_11ea_abe8_0c5415364605row46_col8\" class=\"data row46 col8\" >23</td>\n",
       "                        <td id=\"T_e3181eb4_4ccb_11ea_abe8_0c5415364605row46_col9\" class=\"data row46 col9\" >4</td>\n",
       "                        <td id=\"T_e3181eb4_4ccb_11ea_abe8_0c5415364605row46_col10\" class=\"data row46 col10\" >19</td>\n",
       "                        <td id=\"T_e3181eb4_4ccb_11ea_abe8_0c5415364605row46_col11\" class=\"data row46 col11\" >57</td>\n",
       "                        <td id=\"T_e3181eb4_4ccb_11ea_abe8_0c5415364605row46_col12\" class=\"data row46 col12\" >34</td>\n",
       "                        <td id=\"T_e3181eb4_4ccb_11ea_abe8_0c5415364605row46_col13\" class=\"data row46 col13\" >5</td>\n",
       "                        <td id=\"T_e3181eb4_4ccb_11ea_abe8_0c5415364605row46_col14\" class=\"data row46 col14\" >29</td>\n",
       "                        <td id=\"T_e3181eb4_4ccb_11ea_abe8_0c5415364605row46_col15\" class=\"data row46 col15\" >62</td>\n",
       "                        <td id=\"T_e3181eb4_4ccb_11ea_abe8_0c5415364605row46_col16\" class=\"data row46 col16\" >40</td>\n",
       "                        <td id=\"T_e3181eb4_4ccb_11ea_abe8_0c5415364605row46_col17\" class=\"data row46 col17\" >75</td>\n",
       "                        <td id=\"T_e3181eb4_4ccb_11ea_abe8_0c5415364605row46_col18\" class=\"data row46 col18\" >17</td>\n",
       "                        <td id=\"T_e3181eb4_4ccb_11ea_abe8_0c5415364605row46_col19\" class=\"data row46 col19\" >140</td>\n",
       "                        <td id=\"T_e3181eb4_4ccb_11ea_abe8_0c5415364605row46_col20\" class=\"data row46 col20\" >11</td>\n",
       "                        <td id=\"T_e3181eb4_4ccb_11ea_abe8_0c5415364605row46_col21\" class=\"data row46 col21\" >257</td>\n",
       "                        <td id=\"T_e3181eb4_4ccb_11ea_abe8_0c5415364605row46_col22\" class=\"data row46 col22\" >257</td>\n",
       "                        <td id=\"T_e3181eb4_4ccb_11ea_abe8_0c5415364605row46_col23\" class=\"data row46 col23\" >364</td>\n",
       "                        <td id=\"T_e3181eb4_4ccb_11ea_abe8_0c5415364605row46_col24\" class=\"data row46 col24\" >345</td>\n",
       "                        <td id=\"T_e3181eb4_4ccb_11ea_abe8_0c5415364605row46_col25\" class=\"data row46 col25\" >425</td>\n",
       "                        <td id=\"T_e3181eb4_4ccb_11ea_abe8_0c5415364605row46_col26\" class=\"data row46 col26\" >412</td>\n",
       "                        <td id=\"T_e3181eb4_4ccb_11ea_abe8_0c5415364605row46_col27\" class=\"data row46 col27\" >159</td>\n",
       "                        <td id=\"T_e3181eb4_4ccb_11ea_abe8_0c5415364605row46_col28\" class=\"data row46 col28\" >34</td>\n",
       "                        <td id=\"T_e3181eb4_4ccb_11ea_abe8_0c5415364605row46_col29\" class=\"data row46 col29\" >20</td>\n",
       "            </tr>\n",
       "            <tr>\n",
       "                        <th id=\"T_e3181eb4_4ccb_11ea_abe8_0c5415364605level0_row47\" class=\"row_heading level0 row47\" >vilde</th>\n",
       "                        <td id=\"T_e3181eb4_4ccb_11ea_abe8_0c5415364605row47_col0\" class=\"data row47 col0\" >0</td>\n",
       "                        <td id=\"T_e3181eb4_4ccb_11ea_abe8_0c5415364605row47_col1\" class=\"data row47 col1\" >114</td>\n",
       "                        <td id=\"T_e3181eb4_4ccb_11ea_abe8_0c5415364605row47_col2\" class=\"data row47 col2\" >205</td>\n",
       "                        <td id=\"T_e3181eb4_4ccb_11ea_abe8_0c5415364605row47_col3\" class=\"data row47 col3\" >8</td>\n",
       "                        <td id=\"T_e3181eb4_4ccb_11ea_abe8_0c5415364605row47_col4\" class=\"data row47 col4\" >33</td>\n",
       "                        <td id=\"T_e3181eb4_4ccb_11ea_abe8_0c5415364605row47_col5\" class=\"data row47 col5\" >31</td>\n",
       "                        <td id=\"T_e3181eb4_4ccb_11ea_abe8_0c5415364605row47_col6\" class=\"data row47 col6\" >49</td>\n",
       "                        <td id=\"T_e3181eb4_4ccb_11ea_abe8_0c5415364605row47_col7\" class=\"data row47 col7\" >0</td>\n",
       "                        <td id=\"T_e3181eb4_4ccb_11ea_abe8_0c5415364605row47_col8\" class=\"data row47 col8\" >3</td>\n",
       "                        <td id=\"T_e3181eb4_4ccb_11ea_abe8_0c5415364605row47_col9\" class=\"data row47 col9\" >1</td>\n",
       "                        <td id=\"T_e3181eb4_4ccb_11ea_abe8_0c5415364605row47_col10\" class=\"data row47 col10\" >11</td>\n",
       "                        <td id=\"T_e3181eb4_4ccb_11ea_abe8_0c5415364605row47_col11\" class=\"data row47 col11\" >23</td>\n",
       "                        <td id=\"T_e3181eb4_4ccb_11ea_abe8_0c5415364605row47_col12\" class=\"data row47 col12\" >8</td>\n",
       "                        <td id=\"T_e3181eb4_4ccb_11ea_abe8_0c5415364605row47_col13\" class=\"data row47 col13\" >1</td>\n",
       "                        <td id=\"T_e3181eb4_4ccb_11ea_abe8_0c5415364605row47_col14\" class=\"data row47 col14\" >9</td>\n",
       "                        <td id=\"T_e3181eb4_4ccb_11ea_abe8_0c5415364605row47_col15\" class=\"data row47 col15\" >86</td>\n",
       "                        <td id=\"T_e3181eb4_4ccb_11ea_abe8_0c5415364605row47_col16\" class=\"data row47 col16\" >44</td>\n",
       "                        <td id=\"T_e3181eb4_4ccb_11ea_abe8_0c5415364605row47_col17\" class=\"data row47 col17\" >128</td>\n",
       "                        <td id=\"T_e3181eb4_4ccb_11ea_abe8_0c5415364605row47_col18\" class=\"data row47 col18\" >0</td>\n",
       "                        <td id=\"T_e3181eb4_4ccb_11ea_abe8_0c5415364605row47_col19\" class=\"data row47 col19\" >135</td>\n",
       "                        <td id=\"T_e3181eb4_4ccb_11ea_abe8_0c5415364605row47_col20\" class=\"data row47 col20\" >4</td>\n",
       "                        <td id=\"T_e3181eb4_4ccb_11ea_abe8_0c5415364605row47_col21\" class=\"data row47 col21\" >184</td>\n",
       "                        <td id=\"T_e3181eb4_4ccb_11ea_abe8_0c5415364605row47_col22\" class=\"data row47 col22\" >161</td>\n",
       "                        <td id=\"T_e3181eb4_4ccb_11ea_abe8_0c5415364605row47_col23\" class=\"data row47 col23\" >231</td>\n",
       "                        <td id=\"T_e3181eb4_4ccb_11ea_abe8_0c5415364605row47_col24\" class=\"data row47 col24\" >223</td>\n",
       "                        <td id=\"T_e3181eb4_4ccb_11ea_abe8_0c5415364605row47_col25\" class=\"data row47 col25\" >336</td>\n",
       "                        <td id=\"T_e3181eb4_4ccb_11ea_abe8_0c5415364605row47_col26\" class=\"data row47 col26\" >260</td>\n",
       "                        <td id=\"T_e3181eb4_4ccb_11ea_abe8_0c5415364605row47_col27\" class=\"data row47 col27\" >83</td>\n",
       "                        <td id=\"T_e3181eb4_4ccb_11ea_abe8_0c5415364605row47_col28\" class=\"data row47 col28\" >11</td>\n",
       "                        <td id=\"T_e3181eb4_4ccb_11ea_abe8_0c5415364605row47_col29\" class=\"data row47 col29\" >16</td>\n",
       "            </tr>\n",
       "            <tr>\n",
       "                        <th id=\"T_e3181eb4_4ccb_11ea_abe8_0c5415364605level0_row48\" class=\"row_heading level0 row48\" >nu</th>\n",
       "                        <td id=\"T_e3181eb4_4ccb_11ea_abe8_0c5415364605row48_col0\" class=\"data row48 col0\" >164</td>\n",
       "                        <td id=\"T_e3181eb4_4ccb_11ea_abe8_0c5415364605row48_col1\" class=\"data row48 col1\" >109</td>\n",
       "                        <td id=\"T_e3181eb4_4ccb_11ea_abe8_0c5415364605row48_col2\" class=\"data row48 col2\" >175</td>\n",
       "                        <td id=\"T_e3181eb4_4ccb_11ea_abe8_0c5415364605row48_col3\" class=\"data row48 col3\" >4</td>\n",
       "                        <td id=\"T_e3181eb4_4ccb_11ea_abe8_0c5415364605row48_col4\" class=\"data row48 col4\" >31</td>\n",
       "                        <td id=\"T_e3181eb4_4ccb_11ea_abe8_0c5415364605row48_col5\" class=\"data row48 col5\" >26</td>\n",
       "                        <td id=\"T_e3181eb4_4ccb_11ea_abe8_0c5415364605row48_col6\" class=\"data row48 col6\" >37</td>\n",
       "                        <td id=\"T_e3181eb4_4ccb_11ea_abe8_0c5415364605row48_col7\" class=\"data row48 col7\" >0</td>\n",
       "                        <td id=\"T_e3181eb4_4ccb_11ea_abe8_0c5415364605row48_col8\" class=\"data row48 col8\" >8</td>\n",
       "                        <td id=\"T_e3181eb4_4ccb_11ea_abe8_0c5415364605row48_col9\" class=\"data row48 col9\" >2</td>\n",
       "                        <td id=\"T_e3181eb4_4ccb_11ea_abe8_0c5415364605row48_col10\" class=\"data row48 col10\" >33</td>\n",
       "                        <td id=\"T_e3181eb4_4ccb_11ea_abe8_0c5415364605row48_col11\" class=\"data row48 col11\" >91</td>\n",
       "                        <td id=\"T_e3181eb4_4ccb_11ea_abe8_0c5415364605row48_col12\" class=\"data row48 col12\" >55</td>\n",
       "                        <td id=\"T_e3181eb4_4ccb_11ea_abe8_0c5415364605row48_col13\" class=\"data row48 col13\" >12</td>\n",
       "                        <td id=\"T_e3181eb4_4ccb_11ea_abe8_0c5415364605row48_col14\" class=\"data row48 col14\" >65</td>\n",
       "                        <td id=\"T_e3181eb4_4ccb_11ea_abe8_0c5415364605row48_col15\" class=\"data row48 col15\" >194</td>\n",
       "                        <td id=\"T_e3181eb4_4ccb_11ea_abe8_0c5415364605row48_col16\" class=\"data row48 col16\" >92</td>\n",
       "                        <td id=\"T_e3181eb4_4ccb_11ea_abe8_0c5415364605row48_col17\" class=\"data row48 col17\" >145</td>\n",
       "                        <td id=\"T_e3181eb4_4ccb_11ea_abe8_0c5415364605row48_col18\" class=\"data row48 col18\" >15</td>\n",
       "                        <td id=\"T_e3181eb4_4ccb_11ea_abe8_0c5415364605row48_col19\" class=\"data row48 col19\" >222</td>\n",
       "                        <td id=\"T_e3181eb4_4ccb_11ea_abe8_0c5415364605row48_col20\" class=\"data row48 col20\" >18</td>\n",
       "                        <td id=\"T_e3181eb4_4ccb_11ea_abe8_0c5415364605row48_col21\" class=\"data row48 col21\" >627</td>\n",
       "                        <td id=\"T_e3181eb4_4ccb_11ea_abe8_0c5415364605row48_col22\" class=\"data row48 col22\" >573</td>\n",
       "                        <td id=\"T_e3181eb4_4ccb_11ea_abe8_0c5415364605row48_col23\" class=\"data row48 col23\" >658</td>\n",
       "                        <td id=\"T_e3181eb4_4ccb_11ea_abe8_0c5415364605row48_col24\" class=\"data row48 col24\" >718</td>\n",
       "                        <td id=\"T_e3181eb4_4ccb_11ea_abe8_0c5415364605row48_col25\" class=\"data row48 col25\" >778</td>\n",
       "                        <td id=\"T_e3181eb4_4ccb_11ea_abe8_0c5415364605row48_col26\" class=\"data row48 col26\" >692</td>\n",
       "                        <td id=\"T_e3181eb4_4ccb_11ea_abe8_0c5415364605row48_col27\" class=\"data row48 col27\" >206</td>\n",
       "                        <td id=\"T_e3181eb4_4ccb_11ea_abe8_0c5415364605row48_col28\" class=\"data row48 col28\" >19</td>\n",
       "                        <td id=\"T_e3181eb4_4ccb_11ea_abe8_0c5415364605row48_col29\" class=\"data row48 col29\" >19</td>\n",
       "            </tr>\n",
       "            <tr>\n",
       "                        <th id=\"T_e3181eb4_4ccb_11ea_abe8_0c5415364605level0_row49\" class=\"row_heading level0 row49\" >min</th>\n",
       "                        <td id=\"T_e3181eb4_4ccb_11ea_abe8_0c5415364605row49_col0\" class=\"data row49 col0\" >6</td>\n",
       "                        <td id=\"T_e3181eb4_4ccb_11ea_abe8_0c5415364605row49_col1\" class=\"data row49 col1\" >108</td>\n",
       "                        <td id=\"T_e3181eb4_4ccb_11ea_abe8_0c5415364605row49_col2\" class=\"data row49 col2\" >237</td>\n",
       "                        <td id=\"T_e3181eb4_4ccb_11ea_abe8_0c5415364605row49_col3\" class=\"data row49 col3\" >14</td>\n",
       "                        <td id=\"T_e3181eb4_4ccb_11ea_abe8_0c5415364605row49_col4\" class=\"data row49 col4\" >37</td>\n",
       "                        <td id=\"T_e3181eb4_4ccb_11ea_abe8_0c5415364605row49_col5\" class=\"data row49 col5\" >42</td>\n",
       "                        <td id=\"T_e3181eb4_4ccb_11ea_abe8_0c5415364605row49_col6\" class=\"data row49 col6\" >49</td>\n",
       "                        <td id=\"T_e3181eb4_4ccb_11ea_abe8_0c5415364605row49_col7\" class=\"data row49 col7\" >40</td>\n",
       "                        <td id=\"T_e3181eb4_4ccb_11ea_abe8_0c5415364605row49_col8\" class=\"data row49 col8\" >0</td>\n",
       "                        <td id=\"T_e3181eb4_4ccb_11ea_abe8_0c5415364605row49_col9\" class=\"data row49 col9\" >3</td>\n",
       "                        <td id=\"T_e3181eb4_4ccb_11ea_abe8_0c5415364605row49_col10\" class=\"data row49 col10\" >27</td>\n",
       "                        <td id=\"T_e3181eb4_4ccb_11ea_abe8_0c5415364605row49_col11\" class=\"data row49 col11\" >30</td>\n",
       "                        <td id=\"T_e3181eb4_4ccb_11ea_abe8_0c5415364605row49_col12\" class=\"data row49 col12\" >22</td>\n",
       "                        <td id=\"T_e3181eb4_4ccb_11ea_abe8_0c5415364605row49_col13\" class=\"data row49 col13\" >7</td>\n",
       "                        <td id=\"T_e3181eb4_4ccb_11ea_abe8_0c5415364605row49_col14\" class=\"data row49 col14\" >7</td>\n",
       "                        <td id=\"T_e3181eb4_4ccb_11ea_abe8_0c5415364605row49_col15\" class=\"data row49 col15\" >84</td>\n",
       "                        <td id=\"T_e3181eb4_4ccb_11ea_abe8_0c5415364605row49_col16\" class=\"data row49 col16\" >20</td>\n",
       "                        <td id=\"T_e3181eb4_4ccb_11ea_abe8_0c5415364605row49_col17\" class=\"data row49 col17\" >59</td>\n",
       "                        <td id=\"T_e3181eb4_4ccb_11ea_abe8_0c5415364605row49_col18\" class=\"data row49 col18\" >29</td>\n",
       "                        <td id=\"T_e3181eb4_4ccb_11ea_abe8_0c5415364605row49_col19\" class=\"data row49 col19\" >384</td>\n",
       "                        <td id=\"T_e3181eb4_4ccb_11ea_abe8_0c5415364605row49_col20\" class=\"data row49 col20\" >17</td>\n",
       "                        <td id=\"T_e3181eb4_4ccb_11ea_abe8_0c5415364605row49_col21\" class=\"data row49 col21\" >751</td>\n",
       "                        <td id=\"T_e3181eb4_4ccb_11ea_abe8_0c5415364605row49_col22\" class=\"data row49 col22\" >955</td>\n",
       "                        <td id=\"T_e3181eb4_4ccb_11ea_abe8_0c5415364605row49_col23\" class=\"data row49 col23\" >1131</td>\n",
       "                        <td id=\"T_e3181eb4_4ccb_11ea_abe8_0c5415364605row49_col24\" class=\"data row49 col24\" >1175</td>\n",
       "                        <td id=\"T_e3181eb4_4ccb_11ea_abe8_0c5415364605row49_col25\" class=\"data row49 col25\" >1465</td>\n",
       "                        <td id=\"T_e3181eb4_4ccb_11ea_abe8_0c5415364605row49_col26\" class=\"data row49 col26\" >1195</td>\n",
       "                        <td id=\"T_e3181eb4_4ccb_11ea_abe8_0c5415364605row49_col27\" class=\"data row49 col27\" >247</td>\n",
       "                        <td id=\"T_e3181eb4_4ccb_11ea_abe8_0c5415364605row49_col28\" class=\"data row49 col28\" >34</td>\n",
       "                        <td id=\"T_e3181eb4_4ccb_11ea_abe8_0c5415364605row49_col29\" class=\"data row49 col29\" >2</td>\n",
       "            </tr>\n",
       "    </tbody></table>"
      ],
      "text/plain": [
       "<pandas.io.formats.style.Styler at 0x215251e39e8>"
      ]
     },
     "execution_count": 4,
     "metadata": {},
     "output_type": "execute_result"
    }
   ],
   "source": [
    "nb.frame_sort(kilder_dtm, 'NBkilder_Collett_Brev_1841-51.xml').head(50).style.background_gradient()"
   ]
  },
  {
   "cell_type": "markdown",
   "metadata": {},
   "source": [
    "# Se på en bestemt bok"
   ]
  },
  {
   "cell_type": "code",
   "execution_count": 5,
   "metadata": {},
   "outputs": [
    {
     "name": "stdout",
     "output_type": "stream",
     "text": [
      "[ 18. juli 1841 ] . Brev til Nicolai Wergeland .\n",
      "Brevs . 3 : 166\n",
      "ErikErik ] Erik Christiansen ( 1818 – 55 ) , gårdsdreng har Skade med større teksttap : Øverste del av papiret er revet , så det meste av første og halvparten av andre linje er borte . med Vognen der i For slette Heste forsinkede os betydelig , og havde ikke GledischGledisch ] Peter Herman Gleditsch ( 1818 – 72 ) med sin sædvanlige Forekommenhed ladet C. og mig tage Giggen medens han fulgte med Vognen der gik ynkelig langsomt , vilde vi kommet alt for seent herind , især for SophiesSophies ] kanskje Sophie ( Augusta ) Steenstrup ( 1811 – 72 ) , Peter Jonas Colletts søster , gift med Peter Severin Steenstrup ; eller Sophie Schøyen ( 1816 – 72 ) , gift med Colletts fetter Nicolai Storm Wergeland Skyld som sad og ventede paa os . Nu vandt vi en god Times Forsprang . Kl var omtrent 11 da vi arriverede , da vi traadte ind i vor nye Bolig , rigtignok meget trætte og udmattede , dog altid qvikke nok til at beundre al denne Herlighed , og lidt efter lidt veg ogsaa Trætheden , ved Thebordet som Sophie havde arrangeret paa det nydeligste og ved at beskue alle disse Ting som vi neppe kunde troe tilhørte os selv . Jeg følte allerede dengang kjere Fader hvor ufuldkommen jeg i Ord vil kunne takke Dig for disse utallige Beviser paa Din Godhed og Ømhed , ligesom for al den Du nogensinde før har bevist Dit Barn Jeg vil ligesaalidt nu eller senere kunne det , thi Sproget er altid fattigt , men jeg veed at jeg dybt føler det , og at alt hvad der omgiver mig , alt hvad jeg for Øine seer erindrer mig derom . ham ikke undtagen – som ogsaa er en Gave af Din faderlige Ømhed . Du har jo ikke forstødt ham men velsignet ham som Søn midt Skade med større teksttap : Øverste del av papiret er revet . Minst én linje er helt borte , og bare de ytterste høyre delene av de tre neste linjer er synlige . os m Jeg ønsker komme herind for at see vores Lykke . Jeg troede ikke at C-s Kjerlighed og ømme Opmærksomhed for mig kunde blive høiere end den var , men den tiltager endnu med hver Dag . For ham vilde intet Offer være for stort , naar det kunde hæve min mindste Sorg . Det er vel altsaa overflødig at fortælle at vi befinde os vel i vore nye Kaar . Kun ønske vi nu lidt mer [ e ] Rolighed og Stilhed end disse første Dage har kunnet bringe os , endnu ere vi lidt trætte af den sidste Tids mange Adspredelser og vor egen Umflakken dertil kommer Visitter og ligt Sj herin [ de ] Naar jeg blot kunde sove ordentlig om Natten men jeg lider af Søvnløshed . Jeg har opdaget at det kommer af at jeg ikke er vandt til at ligge paa bare Madrasser , naar jeg sover vaagn [ er ] jeg med Hovedpine fordi det er for haardt , C. har gjort den samme Erfaring og har afhjulpet det ved at lægge en Dyne han har over , men da jeg ingen har vilde jeg bede Eder kjere Forældre godhedsful [ dt ] overlade mig en . eller b Fj til den saa skal jeg selv besørge og saa meget Fjer at jeg kan faae i min Hovedpude da det er isærdeleshed den der er haard . Imidlertid har jeg laant en . Fredag havde jeg DiriksesDirikses ] trolig søstrene Emilie ( 1810 – 43 ) og Nathalie ( 1813 – 1858 ) Diriks , ev. flere av deres søstre og deres mor Maren Cathrine , født Tax ( 1772 – 48 ) Sophie Schøyen , Gledisch kort alle Stumperne\n",
      "9. august [ 1841 ] . Brev til Emilie Diriks .\n",
      "Brevs . 3 : 170\n",
      "Kjere Emilie ! Om Byens Flauhed nu kan man vanskelig gjøre sig noget tilstrækkeligt Begreb . Den overgaaer sig selv denne Sommer . Du vil mene at der for et lykkeligt Ægtepar ikke bør gives nogen Bye , end sige Flauhed – dog nei dette mener Du ikke slige Begreber har Du ikke havt siden Dit 20 Aar og kan heller ikke være dem bekjendt længer . BulverBulver ] Edward Bulwer-Lytton ( 1803 – 73 ) , engelsk forfatter forsikrer os jo til Overflod derom det Urigtige i at have slige Begreber i sin lille Fortælling jeg mindes ikke just Titlen , men den handler om en Vorte og et Par skelende Øine der tiltog hver Dag i Størrelse . Vi have endnu Gud skee Lov ikke opdaget noget Sligt , tvertimod hvis han virkelig skelede en Smule vilde og maatte denne Feil forsvinde i mine Øine ved hver Dag fordi disse Øine aldrig have seet paa mig uden med kjerlige overbærende Blikke , men i dettedette ] rettet fra ' denne ' ved overskriving Anledningextraordinaire Tilfælde tør jeg paa Ære forsikre at Byen medsamt dens Væsen og Mennesker ingen Skyld har . Vi have levet saa aldeles ensomt siden Du reiste , vi gaae intetsteds , ingen kommer til os , ingen beder os følgelig gaae vi ikke ud , vi bede ingen derfor kommer ingen til os . Nogle Visitter givne og tagne regner jeg da ikke . En Visit til Berg , vi fik os et Øg til at kjøre med for at komme stands- og statsvisitmæssig – blev ogsaa naadigst modtaget og bespist med Moreller , The til Aftens og megen fornuftig Tale og lidt Venlighed , men et naadigst Ønske om at komme igjen hørte vi intet til . Hos Emma L. Emma L. ] Emma Petersen ( 1817 – 1892 ) , gift Lund havde jeg tænkt at tilbringe en Aften , jeg gik derhen Kl 7 og J. vilde komme senere men den første Lyd der mødte mig indenfra var Fru P-Fru P ] Kristine Marie Petersen ( 1796 – 1876 ) , født Thrane , Emma og Malvinas mor Stemme , imidlertid blev jeg der en halvanden Timestid i hvilken Fruen i de 3 Qvarteer beklagede sig over Norge og i de 3 begeistrede sig over Sverrig . Noget mere carikaturmæssig kan der ikke gives . En complett Jeanne de france . Jeg morede mig saa over denne lille holbergske Scene hun gav , at jeg næsten glemte den uhyggelige Følelse der altid betager mig i hendes Nærhed der ligner den naar man sætter Tungen paa koldt Jern . Aug . TraneAug . Trane ] kanskje Augusta Thrane ( 1806 – 95 ) , Kristine Marie Petersens søster var med jeg kunde tydelig spore den Forlegenhed som baade hun og M. M. ] Malvina Petersen ( 1820 – 1909 ) , gift Døderlein følte ved Fruens exalterede Prostitutioner . jeg kunde næsten hade denne Kone i hendes fornem-sladderagtige Sneverhjertethed ! Ikke et Spørgsmaal til mig der forraadte om blot hiin almindelige høflige Deeltagelse for andre , ikke den fjerneste Opfordring til at komme derud . Emma bad mig naturligviis ikke med noget Eftertryk blive thi hun føler vel nok hvor lidet vel jeg maae være i hendes Selskab . Men om E. havde bedet mig os derhen en Middag eller en Aften siden , saa havde hun dog ikke grebet sig saa forfærdelig an . O norske Gjestfrihed ! ja Du maae være stor , thi alle de danske Skuespillere og alle fremmede Gjøglere sige det jo og Mad BraaeMad Braae ] trolig Louise Braae ( født 1788 ) . Hun bodde sammen med sin datter Christiane ( Jane ) og svigersønn Ernst Ferdinand Schmidt-Phiseldeck i København . Både Camilla og Peter Jonas Collett nevner « Mad . Braae » og familien hennes i brev fra 1839 og 1840 ( Collett og Collett 1926 – 34 , b . 4 , 424 ) . siger jo ogsaa den er stor . Derfor vil jeg bevare en from Troe paa den og ligesom Herrnhutterne troe meest paa det man mindst seer . Christiania er en lumpen Filleby . –\n",
      "Du seer altsaa kjere Emilie at vore første Hvedebrødsdage ikke gaae hen i denne Hvirvel af Adspredelse som vi læse om saa ofte i Romaner og som jeg ogsaa troer er almindeligt i Livet . Selv hos os , kun efter fattig Leilighed naturligviis . Dette er ingen Beklagelse , det er at tage som en kold historisk Bemærkning om vor Hovedstad der blot skal tjene til at indlede den glade Forsikring at vi ikke trænge til nogen saadan Adspredelse , have hidindtil ikke gjort det . Vi have tilbragt 3 Søndage i idylligst Ensomhed , uden at kjede os uden at mærke at vor Interesse for hinanden har taget det mindste af , tvertimod vor Hengivenhed kan kun tiltage . J. bliver sødere for hver Dag . Du skulde blot høre og see ham undertiden , han siger mig ofte henrykt , at han er saa lykkelig , og at jeg er saa elskværdig mod ham . Jeg troer ogsaa jeg er det , men hvorledes skulde det man ikke være elskværdig mod ham ! Endnu elsker vi denne Roe , denne fuldkomne Ensomhed , for mig er den idetmindste en sand Lægedom , men vi ere derfor ikke blinde for den Relief et ydre Liv kunde give et saadant Forhold som vort . Et saadant Hyrdeliv kan man blot leve for en Tid , og da blot under Betingelser som vore , det er : vi maae selv være gedigne nok til at give det Fylde . men med Tiden ville vi føle at Afbræk deri er nødvendigt . Vor Hengivenhed har et stærkt Liv , maae derfor ogsaa have Næring . Vinteren her bliver altid bedre og dertil trøster jeg mig især for hans Skyld . Men kummerligt bliver her dog altid , altid for os . Den Bevidsthed at vi kunde passe for et større , mere bevæget Liv giver ofte et levende Stof til vore Underholdninger , det er lykkeligt at vi ere saa enige i denne Sag , derved bærer man Savnet mere resigneret , og vi vurdere bedre den Lykke vi have . Skade med større teksttap : Nedre halvdel av siden er klippet bort .\n",
      "jeg beskeden undslog os for at røre ved , da vi meente at den vilde vist Fruen have gjemt til Aftens , men Pigen forsikrede at hun havde sendt en heel Daler ned til Fruen for at hun kunde forsyne sig igjen med det nødvendige , og vi spiste Hummer med den roligste Samvittighed . Efter Bordet tog vi os en herlig Siesta i den store Sal kort vi levede saa godt som Omstændigheden vilde tillade det , hvortil den behagelige Tanke at A snart kom , ikke lidet bidrog – men istædet derfor kom Budet ind og meldte at han havde kjørt Byen rundt uden at finde hende og maatte vende tilbage med uforrettet Sag . Billetten havde han taget med. Vi ærgrede os dygtig over denne Dumhed af ham og spurgte hvorfor han var reist imod vor Ordre den lange Vei tilbage , og ikke oppebiet Fruen i Byen , han havde nemlig Befaling at afhente hende hos Horns Kl 9 . Nu vare N. N. ] Nathalie Diriks ( 1813 – 1858 ) og jeg meget uvis om hvad vi skulde gjøre enten gaae eller oppebie J. – det sidste blev bestemt og vi gik ud at Skade med større teksttap : Nedre halvdel av siden er klippet bort . Skridt opad Øragerveien komme\n",
      "[ 12. september 1841 ] . Brev til Emilie Diriks .\n",
      "Brevs . 3 : 172\n",
      "Sei mir gegrüsst ! Sei mir gegrüsst ! ] tysk hilsen , jf. Heine : Buch der Lieder , « Die Heimkehr » del 17 ( Collett og Collett 1926 – 34 , b . 4 , 417 )\n",
      "Du maae ikke forundre Dig over at ikke min Person men blot min gode Villie modtager Dig paa Bryggerne . Jeg havde alt overlagt det med N. N. ] Nathalie Diriks ( 1813 – 1858 ) endskjøndt det er den 4 Gang jeg havde bandet paa aldrig at vente paa Dampbaaden , men i Eftermiddag inviterer J. mig til en Kjøretour til Ladegaardsøen og da det er hans Geburtsdag og da det er en Engel der blot gjør det for at more mig , og da jeg endelig har megen Lyst til at komme ud i Solen jeg i saa lang Tid ikke har seet , saa kan jeg ingen Indvendinger gjøre\n",
      "Vi sees altsaa i Aften !\n",
      "Frøken Emilie Diriks\n",
      "[ September 1841 ] . Brev til Emilie Diriks .\n",
      "Brevs . 3 : 171\n",
      "Kjere Emilie ! 1000 Ubehageligheder : hvorfor ? fordi man nægter Dig at gaae ud at spadsere med mig , det var dog blot en . Men lad det være saa mange det vil , Du er idetmindste lykkelig at Du har nogen at faae Ubehageligheder med. Kun ikke denne movne , movne ] mugne ( ODS ) stumme , indesluttede Ensomhed .\n",
      "Emilie jeg føler mig uhyre forladt om Dagen . Ak Kjerlighed er sig ikke selv nok , den trives slet ikke under mange Savn , den vil fødes og klædes godt og den vil frem for alt ikke boe i mugne usunde Værelser .\n",
      "Det er slemt at have en Mand der ikke arbeider for men det er ikke det slemmeste , thi jeg vilde dog bringe den Mand alligevel til at beskjæftige sig om det end blot var at agere Garnvinde , men det der er endnu slemmere er en Mand der altid arbeider , aldrig har en lille rolig Time tilovers\n",
      "Saaledes er det med J. skjænker han mig en saadan Time engang – en Spadseergang – da skeer det med saadan uhyre Opofrelse , at jeg næsten ikke tør modtage den . Da han kom hjem fra Sars igaar , strax til sin Pult ! Saaledes gaaer det Nat og Dag , Morgen Middag og Aften , imidlertid sidder jeg i dette mørke Værelse til Gaarden alene . jeg ønsker saa inderlig mangen Gang at der dog var et Væsen , der om ikke af egen Lyst saa dog dreven af denne philantropiske Betragtning , vilde komme af og til og bede mig gaae en Tour – men besynderligt og traurigt nok ! af den hele « Venindekreds » findes ikke et eneste saadant Væsen . Jeg bad et Par kom nogle Gange til N. N. ] Nathalie Diriks ( 1813 – 1858 ) med den Bøn , men enten var hun ik [ ke ] Skade med større teksttap : Nederste høyre del er revet av , så et par ord er falt bort på slutten av de resterende linjene . hun kunde ikke . Derved taber jeg Mod og Lyst til at forsøge har nu for evigt taget Afsked med vore Værelser den ind i disse til Gaarden og gav dem et luunt venligt Anst ikke over Taget meer – og jeg synes aldrig jeg har følt Luften saa klam og beklumret som idag . Det er ligesom jeg h drage Aande og dog frygter jeg , jeg vil heller lægge mig og forsøge at glemme at der gives en Sol udenfor og\n",
      "Skriv mig lidt til . O hvorfor bleve vi fødte hvorfor ikke ligesaagodt i Grønland eller Patagonie [ n ] disse lykkelige Indvaanere kjendte slet ikke Solen og elske en derfor savne de ikke den gode . O hvorfor – –\n",
      "Frøken Emilie Diriks\n",
      "[ September 1841 ] . Brev til Peter Jonas Collett .\n",
      "Brevs . 4 : a : 92\n",
      "EgebergEgeberg ] trolig Christian Egeberg ( 1809 – 74 ) , lege seer jeg ikke mere . Han har skuffet min Tillid paa [ e ] n Maade der viser et raat Sind og saare liden Agtelse for mig . Nu faaer Vorherre hjelpe mig – det gaae som det kan . I Nødstilfælde giver Du mig vel altid et lille Raad , thi jeg tvivler ikke paa at Doctoren gjerne indvier Dig i Behandlingen hvis han ikke alt har gjort det . Og vi min stakkels Ven , vi hav [ de ] da endelig naaet det Punkt Andre opstille os som Mønster , ingen ingen Gêne , ingen Hemmelighed intet Slør mere , for hinanden – jeg har maaskee havt en overdreven latterlig Frygt for [ a ] t denne Tilstand vilde indtræde , jeg anede mit hele Væsens Op [ løs ] ning deri og Opløsningen af alt hvad der er smukt og Zart i Kjerligheden – – jeg troede paa et Under for os . Ak det er ikke skeet – Du har ingen Elsket mere ; jeg ingen Elsker . Den Elskede maae man ikke gjøre til en Eiendom , en Maschine , paa d [ en ] Elskede maae man troe blindt og med Beundring . Du h [ ar ] veiet og drøftet og sonderet mit Væsen Skade med større teksttap : Papiret er beskåret horisontalt , og noe av linjen under kan så vidt skimtes Rest af Undseelse – eller Ufornuft som vor Doctor siger , har Lov at døe i Fred .\n",
      "nu er der blot mit Legeme igjen , og saa er der intet mere , ingen Brud , kun et skrøbe ' lig ' er tilføyd , trolig senere [ e ] lendigt Væsen , der vil fordre Din Overbærenh [ ed ] og Omhue . Tilgiv mig om denne Tanke endnu smerter mig , men jeg skal see at vænne mig til den .\n",
      "J . P Collett\n",
      "[ 26. september 1841 ] . Brev til Peter Jonas Collett .\n",
      "Brevs . 4 : a : 89\n",
      "8 Dage i Dag allerede den 3 de. Stort længer bør jeg vel heller ikke blive ? Siig derom Besked . Er det ikke for slemt for Dig dernede , saa vinde vi altid noget ved at bie med at flytte ind . Der burde sættes Vand i store Kar inde i Værelserne deroppe , det trækker Malerlugten til sig .\n",
      "Spadserer Du lidt om Dagen ? Ak forsøm det ikke , gaae , tuml Dig , besøg Dine Venner bad og voltigeer.voltigeer ] voltigere : foreta springøvelser ( ODS ) Husk paa hvert Øieblik Du anvender til dette Øiemed skjænker Du mig , og det vil bære bedre Renter end denne døde ufru evige Stillesidden . Ved enhver Forceren opnaaer man dog kun øieblikkelige Fordeler men Tabet siden er mangedobbelt . En Dampbaad kan indlægge sig Ære ved at forcere sig først til et vist Maal , men naar Kjedlen springer , torde dog den Ære være værevære ] gjentatt ved linjeskift for dyrt betalt . Det har hændt mangen amerikansk Dampbaad og det kan hænde mangen norsk Lector .\n",
      "Kl er 3 , hvad tager Du Dig fore ? Dog det er ikke vanskelig at vide . Ved Kyllingstegen og Flødevaflerne til Middag tænkte jeg rørt paa Dig og Johan , Johan ] Johan Christian Collett ( 1817 – 95 ) , Peter Jonas Colletts bror jeg haaber dog I fik Pudding da det er saalængesiden . Jeg lever deilig med Mad men jeg har ikke nogen synderlig Appetit .\n",
      "Jeg maae slutte med nogle Regler for Nella :\n",
      "At hun passer vel paa Dørene . og skynder sig at blive færdig med Tøiet . Nu da disse Forestillinger trækker saa meget Pak ind i Gaarden er dette dobbelt nødvendig . See til at hun ikke gaaer ud meer end nødvendig læg især Mærke dertil før og efter Du gaaer paa Forelæsningerne At hun tager Gardinerne og Omhænget ned i Dit Værelse . Lægger i Ovnen naar Du bader Dig Glem ikke Brettet til Fødderne ; at Du staaer paa det kolde Blik er vist meget farligt og jeg frygter for Du har gjort dette ofte nok , thi i slige Ting er Du en Barbar . Naar jeg seer disse Piger heroppe priser jeg rigtignok Nella , det der er brav ved hende bør man dog paaskjønne .\n",
      "Søndagen ! Søndagen ! jeg bliver her nødig nogen Søndag mere . Veiret har tabt sin Carakter fra igaar det blæser koldt og suurt og Himlen er graae : det er Søndag . OlsenOlsen ] Ole Severin Olsen ( 1811 – 73 ) , personellkapellan hos Nicolai Wergeland sidder inde i Stuen og fløiter , grynter gaber , harker trommer og tramper ogsaa værre end igaar . Han sætter nu det lille stygge forfaldne Huus paa høire Side af Veien istand med megen Bekostning . Det morer ham saa længe det staaer paa og han indbilder sig det vil volde ham megen Glæde , og naar det nu er færdig og han er draget derind med sin blide Kjereste vil han finde sig ligesaa dobbelt kjedet og reduceret end som før . Han kan aldeles ikke beskjæftige sig .\n",
      "Tirsdag . Dit Brev til Ullensager har jeg ikke faaet , det er formodentlig gaaet tabt , da jeg ellers sikkert maatte have det nu . men det andet modtog jeg i Gaar Aftes .\n",
      "Da jeg havde læst det søgte jeg uvilkaarlig omkring paa Gulvet om der ikke var faldet ud et Blad , men saa erindrede jeg at Høstens Tid var kommen og at der er falden mange Blade allerede . Hvor ofte , hvor ofte før har jeg søgt efter et saadant manglende Blad og grædt bittre Taarer naar jeg intet fandt , men igaar græd jeg ikke .\n",
      "Her er endnu koldt og suurt og lidet indbydende til at gaae ud , jeg holder mig inde . Naar jeg blot vidste om jeg skal vedblive med mine Oversættelser det var det mig nok den behageligste Beskjæftigelse . Der stod intet i Bladet idag .\n",
      "Naar Du ønsker det vil jeg komme hjem . Tal med Mad . Hviid og skriv mig til derom paa Fredag .\n",
      "Til CLector juris Jonas Collett Arctanders Gaard ligeoverfor Kirkemuren Christiania\n",
      "27. september [ 1841 ] Brev til Peter Jonas Collett .\n",
      "Brevs . 4 : a : 91\n",
      "Husker Du Pintsedagene da vi havde smukt Veir ? Naturen lignede en catholskcatholsk ] ' c ' rettet fra ' ch ' ved overskriving Kirke der er smykket til Fest , alt var Varme , Liv Musik og Duft som af 1000 usynlige Offerskaaler . Himlen bredte sig saa farverig og straalende ud over den og gav Gjenstandene hiint ubeskrivelige , dæmpede Skjær , Lyset frembringer i Capellerne naar det bryder sig gjennem de mangefarvede Ruder og som stemmer saa vel til en vis sandselig Andagt . Det var ligesom Himmel og Jord havde sluttet et Bund om at vise hvad de formaaede naar de forenede deres Herlighed – og de opbød al deres Kraft . Siden har den Jorden arme Jord smykket sig bestandig , alene og traurig som en forladt Brud , Det var blot en Gang i dette Aar Himlen elskede den og bøiede sig stolt og smilende ned til den og det var i Pintsedagene eller rettere som en Brud der er bleven gift og er kommen et Stykke ud over Hvedebrødsdagene . Kun engang bøiede Himlen sig stolt og elskende ned til den og det var i Pintsedagene .\n",
      "Den sidste Septemberdag .\n",
      "Ja man kan ligesaagodt grave hine Døde op af Graven og troe at glæde sig ved dem , som som at læse disse gamle Sedler og Breve . Lad dem hvile i Fred ! Virkningen af hiin Tid forvinder jeg dog aldrig , hvorfor vække Erindringen ? Ja ak ! det er sandt ! der tales vel om en Helbredelse , en Gjenoprettelse i Livet , men den er ikke tænkelig for alle Gemytter . Lykken kommer ikke ved Ophør af Lidelse . Jeg vil føle mig mangen Gang tilfreds i min Skjæbne , jeg vil ogsaa kunne af og til lee og fornøie mig , naar ved noget Godt og Smukt , men et veed jeg at jeg aldrig mere kan blive : og jeg kan aldrig mere blive glad , af denne Glæde som kommer lige fra Hjertet , sprudlende folâtrefolâtre ] fransk : lystig , leken , vilter jublende , umiddelbar . Jeg erindrer mig som et Sagn slige Glæder . De ligne Mindet om hine duftende , lyse Pintsedage da C. besøgte mig og jeg var syg .\n",
      "Naar jeg nu staaer i Skumringen og seer gjennem de samme Vinduer hen til den nøgne Bakke som Himlen ruger saa mørk og kold og ensfarvet over , hvem kan da troe at de nogensinde have været – at de nogensinde kunde komme igjen disse Dage ? Jo Vaaren bringer paany denne Varme denne Herlighed . Men en anden Vaar disse Blade , dette Græs maae forgaae først . Min Vaar kommer ikke i dette Liv .\n",
      "Hvorledes skal jeg beskrive min Tilstand ? Ulykken har intet Navn mere , og dog sidder den som en Orm i Hjertet hvorfra den aldrig vil vige , jeg mærker den er der bestandig , ved alle Leiligheder ved Glæde og Sorg , den gamle Gjest . Jeg vil helst tie , men undertiden griber mig en Længsel efter Nogen jeg kunde jamre det ud for , det er ofte C , enten han er fjern eller nær , men C. kan ikke hjælpe mig , kankan ] feil for ' han ' kan kun græde med mig og klage over at han saa seent fandt mig , for seent , for seent . Der maatte en Gud til at hjælpe mig . Ak viis mig en Gud at søge Trøst hos , hvis han vilde trøste mig skulde jeg tjene ham med mit Liv , paa mine Knæe .\n",
      "Jeg har havt slige Timer heroppe C. paa disse gamle Steder . Det er en gammel Vane naar min første Opvaagnen om Morgenen er en tung Bedrøvelse – enhver uvilkaarlig Følelse og Tanke , førend Fornuft eller Betragtning har grebet opklart den , er sorgfuld , saa og mine Drømme .\n",
      "C . hvorfor er Du i Drømme saa kold , saa fremmed mod mig , hvorfor er Du mig saa fremmed . Saaledes altid . O forlad mig ikke , fordi jeg ikke kan blive lykkelig mere . Saa lykkelig som jeg kunde blive har Du gjort mig .\n",
      "Igaar og idag har jeg modigere , har jeg modigere ] her har hun uteglemt noe , f.eks. ordet ' været ' trøstigere tilsinds . Jeg har kunnet udtale mig .\n",
      "C . naar jeg kunde vise Dig mit Indre fuldstændig , da vilde Du nok sige : « min stakkels Jente ! » Du vilde da forstaae meget , som nu er en Gaade . Denne Ulykkelighed har en Samling af færdige Taarer i mig der bryder frem ved den ubetydeligste Leilighed , ved en Dumhed af Pigen , eller en Dør der gaaer op i Utide , eller ogsaa ulmer den i mig som en hemmelig , Bitterhed og UnmuthUnmuth ] tysk : ergrelse , misstemning i mig , mod nogen jeg ikke veed at finde , noget der maae have en stor Uret for mod mig , og da plager jeg mig selv og Dig Du Uskyldigste , Bedste af alle Mennesker , der af Alle alene har gjort mig godt . o , da kan jeg kysse Din Haand i ubeskrivelig Anger og Smerte men hvorledes kan Du forstaae det .\n",
      "Aften .\n",
      "Vi ere begge agtværdige , gode Mennesker der fortjente at være , at gjøre hinanden lykkelige . At vi ikke i høiere Grad ere det , har Du ikke tænkt paa dette hvorfor ? Jeg troer det kommer af noget i vort Væsen der ikke passer for hinanden jeg kan næsten sige en alt for stor Liighed . Det er en vis nyktern Livsanskuelse , en Fattigdom i Illusioner som hos mig kommer af at jeg har forbrugt dem , Du har aldrig havt dem . DigDig ] ' D ' rettet fra ' m ' ved overskriving er den altsaa naturlig , mig er den paatvungen derfor kunne vi saa lidet trøste hinanden , ligesaalidet som den Blindfødte og den Blinde fra igaar kan trøste hinanden . Hvorledes kan jeg faae Dig til at troe at de har været skjønne disse Illusioner , skjønnere end nogen Virkelighed ? Der ligger en dyb Betydning i den Omstændighed at Heltinden i « Münch » , et naivt elskværdigt Barn , saalænge hun er i sin lykkelige Bevidstløshed , indbilder hun sig , at det gamle forfaldne Slot , med dets armselige , selvgode Beboere er et reent Paradiis og skildrer det saaledes for sin Elsker der ikke bliver lidet frapperet ved at see det , imidlertid henrykker dette Træk ham ; men da hun bliver ulykkelig og skal frasige sig ham , faaer hun paa en eneste Nat Øinene op og seer nu alt i det rette Lys .\n",
      "Gid vi begge vare , unge gale , dumme overgivne letsindige , brændende – – .\n",
      "Igaaraftes skinnede Maanen og Vinden jagede Skyerne forbi den , indtil Himlen blev klar . Iaften er den graae og regnfuld som sædvanlig . Og dog trods denne sørgelige Contrast mellem hine Vaardage og Nu , hvem mærker Overgangen ? Ingen har slige Mimersøren at han kankan ] ' k ' rettet fra ' h ' ved overskriving høre Ødelæggelsens daglige Trin , Træerne har aldrig færre Blade for vore Øine den ene Dag end den anden og dog staaer det tilsidst afløvetafløvet ] rettet fra ' afbladet ' dels ved overskriving , dels ved stryking og det undrer os ikke . Paa den Maade afblader sig ogsaa enhver Forventning , enhver Livsillusion – og at vi ikke mærke det førend alle er borte og altsaa ikke have nogen Grund til Forundring deri , ja deri ligger vist en stor Viisdom skjult .\n",
      "Vær ikke vred paa mig naar Du har læst dette , men beed en Bøn for mig hvis Du troer det kan hjælpe , og hvis Du ikke troer det ikke kan hjælpe da gjør det alligevel . Lad os begge bede .\n",
      "Til at læse eller til at brænde\n",
      "[ 2. oktober 1841 ] . Brev til Peter Jonas Collett .\n",
      "NB Brevs . 4 : a : 90\n",
      "Min kjere Ven !\n",
      "Dine 2 Breve fik jeg nu paa engang og da der i dette Øieblik melder sig en Mand der gaaer lige til Byen sender jeg Svaret ligesaagodt med ham som med Posten . Tak for disse Breve , de have gjort mig godt . De ere samtidige med det gode Veir som ogsaa gjør mig godt men Dine gode Breve ere dog de bedste . Igaar havde vi saadan en tilgavns Godveirsdag som jeg ogsaa ret har benyttet . Om Formiddagen red jeg mig en Tour , ad den Vei vi have redet – ganske , ganske langsom , for ret at nyde denne Luftens uendelige Friskhed , ligesom man forlænger Nydelsen afaf ] rettet fra ' ved ' ved overskriving en særdeles Lækkerbidsken ved at spise den langsom , Du vilde have redet i Galop , thi i denne Philosophie ere vi jo ikke ganske enige , og i Gaar Eftermiddag gik LauraLaura ] Laura Wergeland ( 1822 – 95 ) , gift Arnesen . Colletts kusine og jeg en Tour omkring paa alle Præstegaardens Enge og Marker , indtil jeg i bogstavelig Forstand ikke kunde gaae mere . Det er utrolig hvor en eneste Dag tilbragt paa denne Viis gjør mig vel , de første Dage af mit Ophold var jeg saa daarlig at jeg frygtede for hvad det skulde blive til .\n",
      "Min Mening var derfor at udhale Reisen noget , for at komme mig tilgavns , derved tjener jeg min Ven ogsaa bedre end at sidde hos ham og ærgre os sammen over HöllenmuckenHöllenmucken ] tysk : helvetesluner , helvetesgriller og jeg bestemte Onsdag næste Uge . Fader har tilladt mig at reise ind med Erik , Erik ] Erik Christiansen ( 1818 – 55 ) , gårdsdreng der kjører med Pindevognen ( den lille selskabelige Rystelsesmaskine ) men idag efter Dit Brev finder jeg mig beføiet at forlange Reisen udsadt til Torsdag , hvilket Fader har tilladt , men heller ikke længer ikke fordi jeg « frygter for at dele Ulemperne » derinde » med Dig i nogle Dage mere , men af en anden Grund der er værdt at lægge Mærke til . Vi faae nemlig Lov til at benytte Hesten og Karlen ved vor Flytning én Dag , men da nu denne er udsat er jeg bange for vi komme for tidlig . Kan Du nu faae udvirket af Mad . at vi maae flytte ind paa Lørdag det er den 9 de saa lod det sig enda arrangere . Erik hvilede da Fredag med Hesten . Det vil blive os en god Hjælp . Skriv mig bestemt derom imorgen . Penge behøver Du ikke at sende , jeg lovede at komme ud med dem jeg havde og mere bør man ikke forøde paa en saadan lille Reise . Jeg har ogsaa betalt Dine Strømper .\n",
      "Om jeg troer at vi vilde være lykkeligere i en brillantere Stilling og Vilkaar ? O derpaa skal jeg svare Dig naar jeg kommer . Det indlagte BladDet indlagte Blad ] brevet 27. september [ 1841 ] ( Brevs . 4 : a : 91 ) havde jeg besluttet ikke at sende , men det indeholder Svar paa adskilligt derfor lader jeg det gaae med idag .\n",
      "Af Alt hvad Du siger mig er der intet glædeligere end naar Du fortæller Du befinder Dig bedre eller godt . Jeg venter i Din Epistel imorgen en Bekræftelse derpaa . Det er dog det vigtigste det er aldeles og uden Modsigelse Grundbetingelsen . Min Sundhed , Velfærd Lykke alt er intet mod dette . Vil Du os vel saa bliv frisk , bliv frisk . Nu skinner Solen nu vil jeg begynde , mit Dagværk , d . er . gaae og see paa Træerne og Himlen . Lev vel hils Johan.Johan ] Johan Christian Collett ( 1817 – 95 ) , Peter Jonas Colletts bror\n",
      "Alle heroppe spørger flittig og meget bekymret til CarlCarl ] Carl Emil Collett ( 1821 – 98 ) , Peter Jonas Colletts bror det lader til han har vundet dem . Skriv mig til om ham jeg holder af Carl . Lev vel .\n",
      "Skriv mig til\n",
      "[ 3. oktober 1841 ] . Brev til Peter Jonas Collett .\n",
      "Brevs . 4 : a : 98\n",
      "Hvad tager Du Dig fore ? Er Du flittig og stræbsom ! Ak , Dig ikke for meget spild ikke Din Tid mellem disse Acter og Rescripter ! Det er dem der stjæle min Hjertensvens bedste , rødeste Blod ; alt det OndeOnde ] ' O ' rettet fra ' o ' ved overskriving Doctoren tager af Dig kommer af dem . Du skulde see hvor jeg arbeider , og Gud skee Lov , ved Hjelp af denne Flid lægger jeg mig lidt til Bedste som er godt at have i knappe Tider : et Par svage Roser der komme hver Morgen og men som forsvinde igjen om Dagen og en lille bitte Smule Fylde . Igaar var LauraLaura ] Laura Wergeland ( 1822 – 95 ) , gift Arnesen . Colletts kusine og jeg nede paa Ageren og læssede Korn , derpaa arbeidede vi nede i den store Dal ( vort første Rendezvouz ) og i hele Formiddag have vi arbeidet i Haven selv under Resico af Helligbrøde . Vi have nemlig feiet Nøddealeen f reen for de tørre Blade , ved Hjelp af en Feiekost « aus dem Stegreif » aus dem Stegreif ] tysk : på strak arm , på stående fot imidlertid fuldførte OlsenOlsen ] Ole Severin Olsen ( 1811 – 73 ) , personellkapellan hos Nicolai Wergeland indenfor sit aandelige Bortfeielsesværk det er : han mora [ li ] serede for Bønderne : Olsen feiede og jegjeg ] rettet fra ' vi ' ved overskriving feiede og om en Time har Vinden forstyrret vort Værk igjen , men medens jegjeg ] rettet fra ' vi ' ved overskriving feiede fik jeg Varme og Liv i Blodet O. derimod blev slet ikke varm , men fik sig snarere en Snue i den kolde Kirke . Du seer min Ven jeg maae stræbe til at blive frisk da Du ikke vil blive det , thi begge syge kunne vi ikke være , det gaaer ikke an . Gid jeg kunde give Dig den Portion deilige Bouillon Moder i dette Øieblik sætter paa mit Skriverbræt .\n",
      "Jonas Collett\n",
      "[ Juni 1842 ] . Brev til Emilie Diriks .\n",
      "Brevs . 3 : 173\n",
      "Hvordan lever Du Emilie ? LauraLaura ] Laura Wergeland ( 1822 – 95 ) , gift Arnesen . Colletts kusine sagde Du var mindre end brav , det er vel i Grunden ikke meget længe siden vi saaes men mig forekommer det som naar jeg har sadt et Par Maaneder paa Eidsvold uden at see Mennesker . Der gives en levende , brændende Smerte i mig , som naar den bliver vaagnervaagner ] ' r ' rettet fra ' t ' ved overskriving imellem saa aldeles overvælder og bedøver mig at alle andre Indtryk – Venner Pligter og Fornøielser ligesom tilintetgjøres i min Hukommelse , jeg har den Følelse efter nogle slige Dage som om de alt andet stod mig saa fjernt i Tid og Rum .\n",
      "Denne hele Uge har været flauv . Torsdag gik jeg i Foreningen et Par Timer . Det var et Familieoffer\n",
      "Hvor elendig jeg var i Gaar kan jeg ikke beskrive . Jeg laae forstørstedel til Seng – modtog dog Fader og Moder i Gaar Aftes . Idag er jeg mere syg , men lettere til mode .\n",
      "Jeg fortvivler undertiden E. fordi jeg troer der intet Haab er for mig . Mit Sind er sygt det kan ikke helbredes . – – Skriv mig et Par Ord .\n",
      "Kjender Du et Middel til at standse Taarer der strømme uafbrudt , uafbrudt ? Har Du en Rezept til dette da send det .\n",
      "Hans uendelige Godhed og Ømhed nedtrykker mig – jeg kan kun sukke og vride mine Hænder , saaledes har det været i Gaar – mange af de foregaaende Dage – en frugtesløs Kamp mod dette usynlige Onde –\n",
      "Skriv et Par Ord\n",
      "Emilie Diriks\n",
      "[ Juni 1842 ] . Brev til Emilie Diriks .\n",
      "Brevs . 3 : 174\n",
      "Jeg kommer ikke idag skjøndt det var min Plan igaar – igaar – det vil da sige igaar Formiddag indtil Kl 5 – 6 var jeg kjæk og havde Planer , dristige Planer , nemlig at gaae ud , og more mig . og gaae ud igjen idag og drikke Chocolade , men slige gode Stemninger due ikke for mig stort , da de ere saa lidet at troe . Du kjender ikke disse Gemytsstorme hos mig der komme pludselig som et Hagelveir paa en klar Dag og slaae al Grøden ned og alle Vinduer isønder , en saadan indtraf igaar – Paaklædningsscenen – min Marter – gjorde Resten . Naar jeg kunde beskrive Dig de Lidelser denne tilføie mig ! Jeg gjør alt istand , lægger alt hvad der kan tilrette , naar jeg skal have det er det dog ikke der , jeg erindrer ikke at jeg har været saa ordentlig og søger efter det , midlertid forløber Tiden , med min Uro og Angst stiger Forvirringen og Marie istædetfor at staae mig bi , forøger denne med sin ubeskrivelige Tankeløshed , hun finder aldrig noget , bringer altid det modsatte af hvad jeg beder , kort hun er denne norske Mangel paa presence d ' espritpresence d ' esprit ] fransk : åndsnærværelse i sin ynkeligste Skikkelse – troe ikke jeg skjænder . troe ikke jeg knurrer engang – men naar jeg er færdig er jeg erschöpft , erschöpft ] tysk : utmattet mit Hoved brænder og hvert Spor af Lyst og Glæde er forsvunden . Igaar virkede dette saa stærkt paa mig at jeg befandt mig ilde den hele Tid , jeg kunde næsten ikke tale med nogen fordi de maatte see gjennem mine Øine hvor knækket jeg var . Jeg maatte lee af BøghBøgh ] kanskje Vilhelm Frimann Christie Bøgh ( 1817 – 88 ) igaar , men det var denne nødtvungne smertelige Latter han er fortreffelig og en anden Gang kunde han more mig . De kjedeligste Damer – zum Sterben.zum Sterben ] tysk : til å dø ( av ) Jeg befinder mig saa ilde idag , kan Du ikke see lidt til mig ? men jeg glemmer at Du skal læse denne i saadant stort brillant Compagnie , det er ikke heller min Mening Du kan gjerne opsætte det . Jeg havde gjort Regning paa Fru Lassen og L. Fru Lassen og L. ] kanskje Ottilie Pauline Christine ( 1804 – 86 ) , født von Munthe af Morgenstierne , og Peder Carl Lasson ( 1798 – 1873 ) igaar men det var godt da jeg var saa lidet oplagt – jeg lider Fru L. godt men jeg har vel formegen Respekt for hende til at være fri og unbefangenunbefangen ] tysk : utvungen , fri , naturlig ligeoverfor hende . Dette er ikke Fjas som Du vil behage at mene . jeg fjaser overhovedet ikke mere i VerdenVerden ] ' n ' rettet fra ' t ' ved overskriving\n",
      "Hils CarolineCaroline ] Caroline Fougstad ( 1809 – 46 ) , født Diriks og siig at jeg maae det ligesaagodt herhjemme .\n",
      "Frøken Emilie Diriks\n",
      "[ Juni 1842 ] . Brev til Emilie Diriks .\n",
      "Brevs . 3 : 175\n",
      "Der er en Velgjerning Himlen har bevilget os for saa meget Ondt her i Verden , det er denne utrolige Elastisitet i den menneskelige Sjel , en Evne til med Lethed at undergaae de pludseligste Overgange . Vi beundre den allerede i Naturen . Hvem har ikke seet den i sin mørkeste trøstesløseste Stemning klare sig til det lifligste Solskin fra en graae Carakteerløshed til den tryllemæssig Deilighed ?\n",
      "Jeg har i disse Dage næsten været trøstesløs fordi jeg troede C. og jeg vare paa Veie til at blive fremmede for hinanden , nu pludselig veed jeg at han staaer mig nærmere end nogensinde , nu er alt Haab og Glæde i mig . Nu veed jeg at han er det Bedste , Ædleste som gives , og at jeg er det Eneste han elsker . Hvilken Velsignelse i slige Timer som dem vi have oplevet i Eftermiddag – selv de Onde vendte vi til det gode thi de lære os mangen nyttig Hemmelighed\n",
      "Ak min Emilie , jeg maatte meddele Nogen den store Hændelse at jeg var bleven glad igjen , og jeg vakler aldrig naar jeg skal bestemme mig hvem . Det Bedste , Fineste maae jeg give Dig . Hjertebladene dem eier Du og jeg har i den senere Tid følt det dybere end nogensinde . maaskee fordi han deri giver mig mere Ret nu end før . Naar det er noget ondt vil jeg neppe sige det til Dig Fortvivlelsen og Mismodet søger en anden Vei hvis den en Gang slipper ud , ellers søger jeg nok at holde den indestængt . Er det Dig mueligt da skriv mig to Ord ! Jeg sidder alene i Aften men er dog veltilmode .\n",
      "Frøken E Diriks\n",
      "[ Juni 1842 ] . Brev til Emilie Diriks .\n",
      "Brevs . 3 : 176\n",
      "Idag kommer jeg til at sidde saa stille og rolig ved en Søm der ikke udfordrer hverken Klipning eller Maalen eller Bortkasten – gid Du var her idag ! – er det ikke mueligt ? – – De sidste Gange Du har været her , har det været saa uroligt og uhyggeligt , denne Dag kunde blive saa hyggelig – beed Din Moder fra mig , siig jeg skal snart reise –\n",
      "Ak Emilie jeg kunde ordentlig være lykkelig nu var jeg blot rask – er det ikke tungt at jeg ikke skal være det ? – Doctoren sagde i et Par Maaneder endnu kunde gjerne denne Syglighed vare , men jeg skal true ham til at tage slige Ord i sig igjen – jeg vil , jeg maae blive frisk nu , spildes disse Maaneder , saa kommer jeg mig aldrig . kunde være tilfreds , jeg føler jeg er det i Grunden hans Kjerlighed kan Du intet Begreb gjøre Dig – den har aldrig yttret sig , ikke engang i Forlovelsens heftigste Dage med en saadan næsten urolig Inderlighed – han er forelsket , og siger mig Ord som jeg aldrig har hørt af hans Læber .\n",
      "Ak Emilie , jeg gjengjelder det vel ikke paa den Maade men jeg føler dybt at jeg er begunstigt fremfor 1000 og det giver mig Styrke til at blive lykkelig selv naar jeg kan være ham saa meget . Et Ord han sagde til G. SibbernG . Sibbern ] trolig Georg Sibbern ( 1816 – 1901 ) i gaar – at jeg var hans Eneste alt udenfor var bleven som dødt og flaut – er det ikke Guld , Blod værd ? for Men jeg vilde endnu noget bedre , nemlig gjengive ham Verden og Interessen for den , og det kan jeg blot ved at blive lykkelig –\n",
      "kom Emilie , nu har jeg en god Time !\n",
      "Frøken E. Diriks\n",
      "[ Sommeren 1842 ] . Brev til Peter Jonas Collett .\n",
      "Brevs . 4 : a : 93 : b\n",
      "Jeg vil haabe min kjere Ven , at min Bulletin fra Lagmoenmin Bulletin fra Lagmoen ] Vi kjenner ikke til dette brevet . ikke har sadt Dig i for megen Bekymring for vor videre Skjæbne . Virkelig har Følgerne , idetmindste vist sig gunstigere end man rimeligen kunde vente efter en saadan Tour som den igaar . Gud veed om det er den aldeles herlige , balsamiske Luft heroppe , eller om et Vendepunkt overhovedet kan være indtraadt i min Tilstand , men jeg befinder mig i Eftermiddag bedre end jeg kan mindes paa meget lang Tid . Min største Glæde er at jeg kan slutte en saa god Dag med at give Dig denne Beroligelse , og det er maaskee nødvendigt at skikke den forud for Reisedetailler Kjerren mødte ganske rigtig paa Lagmoen og vi bleve lidt forskrækkete ved at see den , men her var intet at gjøre uden gode Miner vi reiste Kl 6 . Hesten var forbistret rask , og der feilede ikke meget i at jeg havde ønsket vort Øg tilbage , saaledes kom vi til Moe , hvor vi ventede temmelig længe , imidlertid havde jeg Anledning til at gjøre vor første Kjerre Afbigt da jeg fik see det Marterredskab der berededes os her og som høist ufortjent beæres med Navn af Kjøretøi . Beskrive det behøves ikke – Du kjender det nok : et Bræt over en Kasse af Bræder bag til en Stok hvori der engang havde været anbragt Pinder , og denne Stok der kaldes Rygstød , er altid anbragt viselig anbragt saa lavt , at man ikke skal have den Lise at hvile Skuldrene mod den , men den stakkels Ryg maae døie alle Stødene , dertil fik vi en Skydsgut der viste sig strax at være af den aldeles uforfalskede , fuldblodige Ullensager Grobianrace . Han begyndte med at ville staae foran os og kjøre , da vi viste ham Umueligheden deraf , sagde han « ja saa faaer jeg sitte milla Døk da ! » da det var hans ramme Alvor maatte der i Tide tages en anden Forholdsregel , han fik fat paa et Bræt og nu sadte han sig foran os , dog altid saa nær at han spyttede paa EmiliesEmilies ] Emilie Diriks ( 1810 – 43 ) Kaabe . Endelig gik Brættet af og han dumpede ned paa vore Fødder . Vi loe af alt dette i Førstningen , men ak Latteren forgik idetmindste mig snart . For at undgaae Trøgstad , dette værste Hul af alle , maatte vi leie ham heelt til Raaholdt , altsaa 2 ½ Miil holdt vi dette ud . Hvilke Smerter det foraarsagede mig ! jeg gik hvor jeg paa nogen Maade kunde , paa Elstadmoen i Risebroe etc tiggede jeg om Laanet af en Gigh forgjeves . Den afskyelige Gut vilde med Nød og Neppe holde ved slig Leilighed og meente det var inte værdt – Gud hvilken Raahed ! – hundrede Gange maatte jeg tænke : hvilken Ulykke det er at tilhøre en raae Nation , den som ikke kjender vor Landalmue , vore Vertshuse og Skydsapparater aner ikke en saadan Ulykke . Denne norske Raahed er saa afskyelig saa hadeværdig , den har intet af denne godmodige naive Uvidenhed der der gjør Almuen i andre Lande ordentlig poetisk og elskværdig , hos os er den flad , hjerteløs uforskammet – infam – Engang forsøgte vor elskværdige Ridder at staae bag paa , derved vippede Kjerren saaledes tilbage at det blev endnu værre – paa vor Bøn om at indtage sin gamle Plads ved vore Fødder svarede han at han Fanden danse sig stod hvor han selv vilde . Nu nok af denn [ e ] Beskrivelse , paa Raaholdt , var Manden saa barmhjertig at laane os sin Vogn , hvortil vi gjerne leiede en Hest til , denne Vogn var meget deilig at sidde i sagde han , og den var ogsaa virkelig bedre end Kjerren , og den vilde kanskee været deilig ogsaa naar den blot havde havt et Hynde – naar Sædet ikke havde faldt forover , naar det ikke havde været saa høit , naar den ikke havde rystet saa – naar den ikke – naar den ikke etc. Men Udsigten til at det snart hav [ de ] en Ende gav os bedre Kræfter til at udholde denne sidste Lidelsesmiil , nu ønskede vi blot at ingen vilde være hjemme naar vi kom , Kl . omtrent 5. thi vi vare for forkomne af Støv og Træthed til at hilse paa nogen mødes af nogen , dette Ønske opfyldtes , de vare alle paa Linløkken da vi kom Kl 5 saa vi fik Tid til at rekollegererekollegere ] rekolligere : fatte seg , komme til krefter ( ODS ) os lidt . Da de kom tilbage vare vi nok saa pyntelige allerede , MartheMarthe ] husholderske på Eidsvoll prestegård havde styrket os med Mad og Drikke – apropos om Diæten heroppe da mærker jeg nok at det ikke bliver den letteste Sag . En ForlorenForloren ] ' F ' rettet fra ' f ' ved overskriving Skildpadde og en dyb Tallerken med Stikkelsbærkrem gjorde Begyndelsen til denne Række af Fristelser hvoraf Dagen bestaaer heroppe – da jeg kom ned i Stuen skjænkede Moder The – et Øieblik efter fik vi Kage Mandler og Rosiner , jeg besluttede da intet at smage til Aftens , men en ulyksalig Melkebunke stod just paa Bordet som jeg maaskee kunde modstaaet men min Tørst ikke . Og da jeg kom ind i Morges faldt mit Øie først paa de velbekjendte Vafler . Skade med større teksttap : Nedre halvdel av siden er klippet bort .\n",
      "SemsSems ] Niels Arntzen Sems ( 1782 – 1859 ) , stiftsamtmann , og hans døtre Alette ( 1824 – 53 ) , gift med Oscar Wergeland , og Valentine Egidia ( 1826 – 96 ) , gift Heyerdahl have taget vort Værelse , og Bestemmelsen er at vi skal ligge paa OlsensOlsens ] Ole Severin Olsen ( 1811 – 73 ) , personellkapellan hos Nicolai Wergeland forrige , der nu er indrettet til Gjæstekammer dog uden at tabe noget af sin oprindelige Uhyggelighed . Men jeg tænker nok vi kan bytte med dem , da det er dem aldeles ligegyldigt hvor de ligge , os er det derimod næsten vigtigt – jeg gruer for det Værelse . De ville endelig vi skulle gjøre det . Jeg kan godt lide dem , Alette er sød og ordentlig lidt munter , jeg vil saa uhyre gjerne de skulle komme igjen naar Du er her . Ak jeg maae ved alt dette tænke hvor leit og ondt min stakkels C har det – hvor længe det er siden han havde det godt . Jeg føler at jeg vil faae det godt her . Far og Mor ere venlige – den sidste ordentlig elskværdig . Fader slaaer KjældermændKjældermænd ] ordspill , vitser ( NRO ) op paa Balstigen , hver Dag komme der nogle nye . Her er blevet saa peent allevegne , intetsteds uryddigt eller uordentlig omkring paa Gaarden . Nu skal Henrik og A. A. ] Amalie Sofie Wergeland ( 1819 – 89 ) , født Bekkevold , gift med Henrik Wergeland reise den sidste vil jeg savne , da der er noget saa harmfrit venligt ved hende der gjør godt at see paa , men hun kommer igjen . Betragt dette blot som en triviel Beretning kan jeg ikke give noget bedre en andengang da skriver jeg ikke mere . Jeg venter meget paa Hatæsken , hos Tidemann på Torvet er der sikkert Bud at faae til E. men et maae der endelig sørges for at denne Æske mueligst garderes for Støv ellers er alt Tøiet spoleret , alt Tøiet i Kufferten var tilstøvet – glemt hjemme har jeg – min Nøgel til Kufferten en lille tyk , gammel , kort Nøgel paa Ringe De Kamme og Børster jeg pakkede ind – Siig Marie at hun syr mine Skjørter og Pudevaar med temmelig fiint Snellegarn , ellers gjør hun det som sidst .\n",
      "Din C\n",
      "Send mig lidt Papir\n",
      "[ 3. juli 1842 ] . Brev til Peter Jonas Collett .\n",
      "Brevs . 4 : a : 93 : a\n",
      "Huf denne Dag vil da aldrig ende ! Søndag og Selskab , Middagsselskab ! behøves der mere for at gjøre den komplett uhyggelig ? Først hele Formiddag denne Uroe og Brasen i Huset endelig Kl 3 tilbords . Af Badegjester er her Boyesen , Boyesen ] August Fredrik Bøyesen ( 1804 – 63 ) DunkerDunker ] Bernhard Dunker ( 1809 – 70 ) HadelnHadeln ] trolig Johannes Irgens von Hadeln ( 1778 – 1847 ) , prest Thaulow VibeVibe ] kanskje Ludvig Vibe ( 1803 – 81 ) og Aubert , ikke saa daarlige Elementer enda og dog hvor elendigt er Udbyttet ved en saadan Dag ! Vi DamerDamer ] ' Dam ' rettet fra ' hav ' ved overskriving havde tilbords OlsensOlsens ] Ole Severin Olsen ( 1811 – 73 ) , personellkapellan hos Nicolai Wergelandderes , Nicolais , Nicolais ] Nicolai Storm Wergeland ( 1814 – 93 ) , Colletts fetter KaasensKaasens ] Ole Kaasen ( død 1853 ) , lensmann og Captain MeinertzCaptain Meinertz ] Frederik Wilhelm Meinertz ( 1798 – 1859 ) brede Rygge , vel at mærke Rygge i den ufigurligste Forstand , thi vi vare som Husets Damer modestementmodestement ] fransk : beskjedent placerede ved det lille Bord , om Conversationen derved blev brillantere ved det store , veed jeg ikke . For at vise at vi ingen Deel havde i dette Arrangement hvilket man let kunde mistænke os for , især mig paa Grund af mit slette Rygte besluttede vi og at være aimableaimable ] fransk : elskværdige , vennlige efter Bordet , det er , blive nede , ikke gaae op og sove Middag , men efter at Herrerne havde bukket og takket for Maden forsvandt de med deres Piber udenfor i Gaarden og Gangen . Det er comisk , men endnu have vi ikke seet en talt med en Sjel , vi have vanket om som forladte Princesser i de Værelser hvor de ikke ere og have endelig slaaet os ned i Sovekammeret hvor vi have Dampen af deres Piber tilstrækkelig – immer etwas ! immer etwas ] tysk : alltid noe – foruden den behagelige Surr af 3 Bostonborde indenfor . Huf ! Og E. E. ] Emilie Diriks ( 1810 – 43 ) og SophieSophie ] trolig Sophie Schøyen ( 1816 – 72 ) , gift med Colletts fetter Nicolai Storm Wergeland kunne sidde rolige og sye . Jeg var ikke istand til at sye eller overhovedet foretage mig noget , jeg har sadt mig ind i Provstens kl. 8 Værelse ( Hjørnestuen ) for at forsøge at skrive mislykkes det er det ikke min Skyld Collett , men Grunden er den gamle traurige Grund at Du og jeg ere komne 100 Aar for tidlig til Verden . Saaledes er det at staae for tidlig op og finde Morgenen kold og taaget , Sol og Lys mangler .\n",
      "Jeg har idag endt den franske Roman ( siden ( siden ] parentesbuen rettet fra tankestrek ved overskriving noget om den ) . Den har intreseret , næsten grebet mig stærkt . Gid Du kunde , vilde læse den . Gid Du vilde læse den . Min Sjel er urolig og længes efter Beskjeftigelse , jeg vilde en stærk mægtig Sjel der kunde fylde , bevæge min. Hvem formaaede blot for et Øieblik at stille denne Trang denne Længsel ! Kan Emilie mine Forældre og Sødskende det ? send mig en saadan Sjel . Kjender Du denne Trang Legemet undertiden føler til et Styrtebad der kan vække ryste alle Nerver ? – Daglig kunde man ikke taale et saadant , da vadsker man sig for Sundhed og Vederqvægelse .\n",
      "O denne U , Længsel kunde jeg beskrive den hvorledes den løfter mig smertelig udenfor mig selv ! Man læser saa ofte hvorledes Naturen har skaffet Gemytter der leed af en saadan , Lise og Vederqvægelse , hvilken Nydelse , hvilken Lægedom denne Hvilen denne ensomme Skuen har været dem , jeg læser disse Skildringer altid med Mistroe jeg troer ikke meer paa Naturens Lægekraft udenforsaavidt som den virker gjennem det Physiske . Ensomheden trætter og ængster mig i den . Feernene , Feernene ] feil for ' Feerne ' mine usynlige Vogtersker paa mine tidlige fordums ensomme Vandringer heroppe have forladt mig , troer jeg . Da bragte jeg dem Offer i Sang og Blomster . Naar jeg vidste ! .\n",
      "Jeg blev afbrudt idetsamme ; der kom nogen i Døren og jeg der troede det kunde være Provsten vilde just flygte , da jeg hørte en spæd Barnerøst – – det var Boyesen , der havde været i Bakken og uformodliguformodlig ] feil for ' uformodentlig ' truffet sin KoneKone ] Sophie Bøyesen ( 1800 – 70 ) , født Moltzau der var kommet med hans lille Søn . Nu maatte han vise os denne Skat ; det er en smuk livlig Dreng neppe 3 Aar – Aar – ] tankestrek rettet fra komma ved overskriving Faderens ellers triste og udslukte Ansigt straalede af Glæde – o Jonas , Jonas !\n",
      "Mandag . Vi venter Boyesens her tilligemed PetraPetra ] Petra Bøyesen ( 1810 – 88 ) og den gifte Søster , den gifte Søster ] Aletta Koren ( 1808 – 83 ) , født Bøyesen de blive vel i Aften – nu ville vi gaae ud at møde dem . jeg faaer da ikke stort Tid til at skrive mere da ErikErik ] Erik Christiansen ( 1818 – 55 ) , gårdsdreng reiser imorgen tidlig . Imidlertid beder Moder mig annoncere en Jordbærkage der endnu ikke er lavet men nok skal sendes med. Gjør intet Gjæstebud paa den , men Du og J. J. ] Johan Christian Collett ( 1817 – 95 ) , Peter Jonas Colletts bror hvis den smager ham , skal spise den alene . Mit Tøi , den Bylt jeg lagde i Krogen kan sendes op med dette Bud – ligeledes ønsker jeg meget Din Skjorte , at jeg kan sætte de andre i Værk , Du trænger jo netop til dem heroppe . Din Ankomst , hvis den indtreffer mod Slutningen af næste Uge vil falde sammen med de Danske Damers og Fru Fougstads , Fru Fougstads ] Caroline Fougstad ( 1809 – 46 ) , født Diriks de have foreløbig meldt sig til Lørdag den 16 de.\n",
      "Om den omtalte Dampbaadstour , var der forfærdelig meget Vrøvl , inden den blev af og daResten av brevet er tapt .\n",
      "[ 25. juli 1842 ] . Brev til Emilie Diriks .\n",
      "Brevs . 3 : 177\n",
      "Mandag . Tak for Beretningen , vi ventede alle med Begjerlighed paa den . Det er nu hvad man kan vente af en Reisebulletin , den ydre Skikkelse . hvorledes det nu har rørt sig i hver enkelt Barm er noget vi tage os den Frihed i al Stilhed at suplere , i Gisninger . Vi ere alle af denne samme Mening at Touren burde skeet omvendt , hvis den ( hvilket havde været enda bedre ) ikke kunde været udsat noget , vi troede at op den Livlighed den Glæde i hinanden man begyndte med var vist allerede meget opbrugt , derfor burde man taget det Anstrengende først og jeg troer ikke C og jeg tage saa meget feil ved at troe at adskillige af Eder følte sig trætte . Jeg følte det selv den sidste Eftermiddag , et saa stort Selskab kunde man ikke længe holde ud . Da jeg reiste hjem var jeg inderlig og dybt forstemt , C tildeels ogsaa , men ingen af os kunde rigtig gjøre Rede hvorfor . Det var ikke alene – som Du kanskee formoder – at mine Anstrengelser for at gjøre dette sidste Afsnit af vort Samvær behageligt for dem , saa alde strandede for g – nei det laae dybere – Du weisst warum.Du weisst warum ] tysk : Du vet hvorfor Fra en anden Side betragtet kan jeg ikke andet end være fornøiet med Opholdet , det gik saa godt som det efter Omstændighederne kunde , jeg er virkelig glad i Udbyttet – at BraasBraas ] trolig Louise Braae ( født 1788 ) , hennes datter Christiane ( Jane ) og svigersønn Ernst Ferdinand Schmidt-Phiseldeck . Både Camilla og Peter Jonas Collett nevner « Mad . Braae » og familien hennes i brev fra 1839 og 1840 ( jf. Collett og Collett 1926 – 34 , b . 4 , 424 ) . have været her , at de have seet vor Lyst til at gjøre det godt for dem – at det tildeels har lykkes , det er næsten mere end jeg kunde ventet og jeg finder mig rigelig belønnet ved den Tanke . Skjøndt det som sagt var utænkeligt at havt dette Selskab meget længere , er der vilde jeg ubeskrivelig gjerne holdt paa Enkelte af dem . – Dertil høre I to – Mad B. og JohanJohan ] Johan Christian Collett ( 1817 – 95 ) , Peter Jonas Colletts bror – paa Veien hjem angrede J og jeg bitterlig at vi ikke havde bortført J. der kunde havde saa godt af at være i Roe de Par Dage . men ogsaa kun disse vare skabte til det Liv vi nu føre .\n",
      "Moder savner Mad B. og ønsker at hun kunde havt hende alene en 14 Dages Tid , da hun syntes at være af dem der vilde taget det i al Stilhed og Nøisomhed og jeg længes ogsaa efter Mad Braae . M. vilde passe altfor godt , derfor regner jeg ham ikke med. Sidst Lørdag var her Mandfolk Selskab – BoyesenBoyesen ] trolig August Fredrik Bøyesen ( 1804 – 63 ) C. Morgenstj . spillede ikke Kort – jeg slog mig til dem , og vi havde det ganske gemytlig – idag er B. reist . Paa Fredag skal her foregaae en Lystdampbaadtour igjen , hvortil der hverves stærkt baade her og i Byen – C. og Fader ville nok med dennegang da Dampbaaden blot gaaer rundt Helgøen – B. har talt om at komme op med sin Familie til den , jeg har stor Lyst til at være med. Kommer den istand til da vil vi alle have Aarsag til at beklage at os . Men maaskee har Touren over Ringe [ ri ] ge været saa righoldig , at her intet er at angre paa . Idag skulde I være kommet – blevet til Fredag – vi alle med Dampbaaden og efter en a 2 Dages Hvile her paa Præstegaarden ind igjen til Byen – . Send nu nogle skikkelige Folk op istædet .\n",
      "Til Slutning et Ord om Dig og mig . Da jeg er Frue , maae jeg have Forrangen . Du spørger desuden hvordan vi have havt det siden . o Solen har skinnet ligesom før , Regnen og Vinden har havt samme Egenskab og gjort omtrent samme Indtryk , man har kjørt Høe , og slaaet melket Kjørne paa Qveet , vi have syed lidt , modtaget en Visit af og til spiist Molter og Fuglesteg ligesom før , alt har gaaet for i sin sædvanlige rolige Gleis – – men Emilie – under dette tilsyneladende rolige Dække ligger der mægtige Begivenheder skjult . Denne Uge har maaskee været den vigtigste , den skjæbnesvangreste , i mit hele indre Liv – engang i en god Time – som vi herefter ville finde mange af med hinanden – skal jeg fortælle Dig noget .\n",
      "3. august [ 1842 ] . Brev til Emilie Diriks .\n",
      "Brevs . 3 : 178\n",
      "Jeg begynder at frygte at Du ikke har faaet mit Brev afsendt i Begyndelsen af forrige Uge , da jeg endnu ikke har seet noget til Resultatet , Handskerne der savnes gruelig – Dampbaadstouren paa hvilken de skulde paraderet var imidlertid neppe et Par nye Handsker værd , det er en Trøst og den eneste jeg kan finde efter , den gik for sig igaar , da Du maaskee har hørt at vi Fredag Morgen atter fik det bekjendte Afbud fra Bakken , noget hvorover vi imidlertid let trøstede os da det siden om Dagen styrteregnede og blæste uophørlig . Altsaa igaar ! En længere peniblere Dag har jeg paa længe ikke oplevet . Om Alle har fundet den saa , vil jeg ikke paastaae , for mig kan en saadan Dag af visse eiendommelige Grunde saa let blive utaalelig dog troer jeg at de allesammen havde en liden hemmelig , ubevidst Længsel efter den faste Jord og dens respective Dagligstuer medens de indbildte sig hvor deiligt de morede sig . Først Kjøretouren i Familievognen – 7 Mennesker og 2 trætte Heste som Fader formanede ikke at drive paa – endelig ombord hvilket Selskab – alle Bygdens Damer i ziirlige pyntede Rækker hvor var det mueligt at more sig ! – Blot Synet af disse Rækker med hvem man skal beundre Skreia og Helgeøs Yndighed er nok til at snøre Hjertet sammen paa mig strax . Man kunde ikke flytte sig eller vende sig til den anden Side , uden at støde paa Jfr Scend Jfr Glatvedt , Jfr Glatvedt ] kanskje en søster av Anna Nicoline Glatved ( 1805 – 86 ) , gift med Ole Severin Olsen , personellkapellan hos Nicolai Wergeland Frøken HoelFrøken Hoel ] kanskje Pauline Hoel , se nedenfor Jfr Horster med hvem man da knyttede en Underholdning om Veiret og hvor « nydelige » Udsigterne vare ! Veiret var desværre alt for deiligt . I Storhammer gik nogle af os i Land for at besee Ruinerne . Der var noget bart og tørt , og jeg for min Part havde foretrukket en kjølig Lund for al Verdens Ruiner ; C derimod betraadte vist denne hellige Jordbund med mindre profane Tanker end jeg . Bag en rest af de gamle mægtige Klostermure har Eieren opført et Skuur , hvorunder der staaer en Tærskemaskine som Du veed er et meget nyttigt Meubel , da man deri tærsker Rug og Hvede , hvoraf man igjen laver Brød og Vafler . Senere hen landede vi ved Hovindsholm Denne sidste Udflugt var det bedste ved Touren , ja det kunde blevet en høist piquant lille Episode , havde vi havt Tid nok men vi maatte skynde os saa at vi næsten vare halvdøde af Hede og Mathed da kom vi kom tilbage . Den Smule Frist der var os tilstaaet til at besee os blev endnu skammeligere afknappet ved denden ] rettet fra ' det ' ved overskriving Vanskelighed med at faae Baade , den halve Tid gik bort med at skraale efter dem inden en enkelt Baad kom ud som de alle vilde have . De Ubeskedneste kom paa den Maade ilan [ d ] og de viste sig at være de Bedste , jeg havde ganske naivt gjort denne Beregning iforveien og den holdt ganske rigtig Stik . Der var en tyk fiirskaaren Person med : Asbjørn [ sen ] Asbjørnsen ] Peter Christen Asbjørnsen ( 1812 – 1885 ) der reiser om og samler Sagn og Eventyr . Med ham tal [ te ] jeg meget , efter at han den halve Dag havde søgt at overvinde sin Respect for min sorte Atlaskesmantille , Atlaskesmantille ] langt sjal eller kort kappe av atlask ( glinsende stoff , særlig silke ) han har et godt venligt Ansigt som Du ikke vilde lide , jeg lider ham godt og lovede ham nogle Eventyr . Oppe paa Gaarden bleve vi modtagne med et opdækket Bord , fuldt af Forfriskning [ er ] man ventede altsaa Besøg osBesøg os ] her har hun uteglemt ordet ' af ' og saalænge vi vare saa faae gik det meget godt an , men efterhaanden blev Stuen fuld da den ene Ladning kom efter den anden som faldt som en Sværm graadige Hvepse over Fru HoelsFru Hoels ] Anne Marie Hoel ( 1784 – 1859 ) , født Tollefsen , gift med Jacob Nilsen Hoel ( 1775 – 1847 ) Stikkelsbærviin og Syltetøier , jeg følte mig lidt skamfu [ ld ] men de ere vel vandte til denne Slags Gjæstebesøg eng Hvor gjerne vi havde vandret omkring i Haven et Par Time [ r ] der var saa kjøligt og godt , men vi maatte strax afs [ ted ] efter at vi mere af Høflighed havde faaet PaulinePauline ] Pauline Hoel ( 1810 – 92 ) , datter av Anne Marie og Jacob Nilsen Hoel til at spille en Stump . Tilbagereisen til Minde var endnu mindre glædelig , nu kom Træthed til og Vinden der var imod begyndte at blæse stærkt , vi frøs da og talte om den . Nei en saadan Tour duer ikke . 10 Gange heller i en Dølebaad naar man blot er frie med et Par Individer man kan have Glæde af – C og jeg kunne ikke engang være hinanden noget , Forstemmelsen saa dyb at man ikke gider tale til hinanden , uden for at vexle et Par grætne Ord og sure Miner . Jeg havde under al denne Qvide et hemmeligt Haab Middagsbordet – men ak det var netop det Værste , Alle klagede over det , ingen Viin ingen ordentlig Opvartning harskt Smør – De Andre slap enda med at gaae sultne fra Bord men jeg maatte forspise mig paa slet Mad . Fra Minde Resten av brevet er tapt .\n",
      "[ August 1842 ] . Brev til Emilie Diriks .\n",
      "Brevs . 3 : 179\n",
      "Jeg har følt en Uro siden igaar ligesom jeg var mig en Uret , en Brøde , bevidst mod Dig . Har jeg virkelig begaaet nogen saadan ? Ak Emilie naar Du vidste at jeg for Dig mindst kunde – – – – – tilgiv mig . Da jeg kom der hjem blev jeg modtaget med disse Formodninger som jeg her ikke havde hørt noget til , uden af Din Moder der blot bragte os til at smile som Du erindrer , thi af hende faldt det jo saa naturligt . Disse Men disse Madameraad og Bemærkninger jeg hørte fra alle Sider deroppe fremført med saadan Vished og Afgjørelse over en Ting jeg selv var saare uvis – irriterede mig , jeg ærgrede mig næsten til en Vished om det Modsatte og mit Forsvar derfor hørte Du – Du spurgte aldrig derom , for Dig har jeg ikke hyklet , men jeg har tiet , tilgiv mig det .\n",
      "Hvis Du kommer her op i Formiddag er det et Tegn paa at Du ikke er vred .\n",
      "Du kan trygt sye en Kappe hvis Du vil thi nu er dette Mirakel desværre , Gud være lovet aldeles utvivlsomt .\n",
      "Frøken E. Diriks\n",
      "[ September 1842 ] . Brev til Emilie Diriks .\n",
      "Brevs . 3 : 180\n",
      "Tusend tak for Tour og Grød eller hvad det er – bliver jeg saa brav saa skal jeg ikke mangle – jeg har havt en daarlig Nat – en feberagtig Svæven mellem Søvn og Vaagen hvorved jeg indbildte mig at jeg havde en uhyre Mængde Maver her der alle vare af de forskjellige Sorter KattunKattun ] grovt bomullstøy vi saa paa igaar . og alle smertede mig .\n",
      "Kattunmaver ! man har vel Kattunsjele og Heine siger « Wehmuth dein Name ist Kattun . » « Wehmuth dein Name ist Kattun . » ] tysk : Vemod , ditt navn er Kattun , fra Heinrich Heine : Reisebilder 2 . Reise von München nach Genua , kap. 17 ( allusjon til « Frailty , thy name is woman » i Shakepeares Hamlet I , 2 ( Schalles 1904 , 16 ) – – Bare det ikke er en skrækkelig Altheæ Drøm.Altheæ Drøm ] jf. Shakespeares Henrik IV , 2 ; Althea drømmer om et skjebnesvangert svangerskap . See ikke efter hvad Althea drømte om . jeg skal fortælle Dig det i Høst engang . Leb wohl mein treues LiebchenLeb wohl mein treues Liebchen ] tysk : Lev vel min trofaste kjære\n",
      "Frøken E.\n",
      "[ Oktober 1842 ] . Brev til Emilie Diriks .\n",
      "Brevs . 3 : 181\n",
      "Hvorfor vilde Du ikke komme igaar ? Her var ganske skade med større teksttap : Hjørnet av papiret er revet , med bortfall av noen ord på slutten av de fire første linjer . aparte ; undtagen Chocoladebordet og det er altid noget . Aug var her . Siden kjørte vi i Vogn ned for at see paa Portrai Iaften skulle SemsSems ] Niels Arntzen Sems ( 1782 – 1859 ) , stiftsamtmann , og hans døtre Alette ( 1824 – 53 ) , gift med Oscar Wergeland , og Valentine Egidia ( 1826 – 96 ) , gift Heyerdahl til Nicolay , Nicolay ] Nicolai Storm Wergeland ( 1814 – 93 ) , Colletts fetter , gift med Sophie Schøyen ( 1816 – 72 ) ingen andre , Sophie bad mig meget om at komme ; hvis Du vilde gaae med havde jeg Lyst dertil , det kunde Du saa godt uden Omstændigheder , Sophie vilde blive meget glad derved . Jeg er saa bange at Du iforgaars fandt det saa uhyggeligt hos mig at Du ikke vilde komme igaar . Var det saa ? Det var ogsaa en fatal Dag , jeg havde Hovedet fuldt af reent fortumlet af GramanerGramaner ] ( A ) gramaner : besetninger på tøy av snorer , border e.l. ( ODS ) og Feuilletoner af Skjorter som skulde skjæres til og mit Navn og Rygte som ogsaa paa en Maade skulde skjæres til . Mit Navn og Rygte ! dette gode , solide Stykke Lærred der har lagt paa Blegen i saa mange Aar og er saa hvidt og peent\n",
      "Kun er et saadant Stykke noget ufrugtbart , det er bedre at gjøre Skjorter af det . Jeg har faaet Brev fra Petra BoyesenPetra Boyesen ] Petra Bøyesen ( 1810 – 88 ) skade med større teksttap : Hjørnet av papiret er revet , med bortfall av noen ord i begynnelsen av de siste linjer.deler ikke kan komme , jeg havde nemlig skrevet hende ngang . Vi Norske er en ufordragelig stolt Nation og jeg agter denne Stolthed . Hun er med dette yderlig takig . Skriv et Par Ord hils N. N. ] Nathalie Diriks ( 1813 – 1858 )\n",
      "Frøken E. D – .\n",
      "[ Oktober 1842 ] . Brev til Emilie Diriks .\n",
      "Brevs . 3 : 182\n",
      "Skulde Du have en lille Strimmel sort eller brunt Skind at offre mig saa gjør Du Paven en Tjeneste . Igaaraftes hos QvæstorQvæstor ] trolig Bernt Anker Collet ( 1803 – 57 ) , Peter Jonas Colletts fetter var der ualmindelig godt – der var paucite de damespaucite de dames ] fransk : lite antall damer – om det var Aarsagen veed jeg ikke – men gjør jeg flere slige Erfaringer saa kommer jeg til at skrive en Artikel til Herrernes Priis i Aar . C. C. ] dvs. Peter Jonas Collett Peter , Peter ] trolig Peter Collett ( 1818 – 48 ) , Peter Jonas Colletts fetter Stiftmd.Stiftmd ] trolig Frederik Riis ( 1789 – 1845 ) , gift med Peter Jonas Colletts kusine Henriette Collett ( 1799 – 1857 ) Johan , Johan ] trolig Johan Collett ( 1800 – 1877 ) , Peter Jonas Colletts fetter & a , & a ] dvs. etc. BoechBoech ] trolig Christian Peter Bianco Boeck ( 1789 – 1877 ) , gift med Peter Jonas Colletts kusine Elisabeth ( 1806 – 1883 ) QvæstorindenQvæstorinden ] trolig Emilie Henriette Christence Collett ( 1805 – 68 ) , født Rørbye vare Herrerne – tænk Dig nu ligesaa mange Damer af Familien , saa vil Du mærke Forskjellen – Hvis Du vilde spise her til Middag skulde Du faae Macaroni og Fuglesteg og Trøffelpostei – dog det sidste er uvist – ja jeg er ikke engang ganske vis paa Fuglestegen , maaskee jeg tager MelkepapMelkepap ] melk kokt med hvetemel til en tykk suppe ( NRO ) istædet .\n",
      "Frøken E D.\n",
      "[ Oktober 1842 ] . Brev til Peter Jonas Collett .\n",
      "Brevs . 4 : a : 94 : a\n",
      "Jeg kom noget seent afsted fra Præstegaarden igaar men jeg stolede paa at jeg paa Trøgstad kunde strax faae Hest lige hjem . Deri bedrog jeg mig imidlertid . Da jeg ved Hjelp af Præstens fortræffelige Hest havde naaet dette afskyelige Hul – et non plus ultraet non plus ultra ] latin : intet utover , brukes om det mest fullkomne i sitt slag ( SNL ) i alt det Uhyggelige der findes ved alle norske Skifter , var det ligesom det Held der hidindtil havde fulgt mig – formodentlig blot ved en Feiltagelse – forlod mig . Jeg begyndte med at vente – en Time paa Skyds . Værten var tvær og vilde ingen af sine Heste give . Der maatte hentes en halv Miil borte . Jeg bad den tykke , laskede Gjæstgiverske med det sure , fortrædelige Ansigt vexle ½ Spd men hun svarede : jeg har P ingen Penge , aa Fanden skal vi hae og vexle naar vi ingen faaer , endelig lod Manden sig bevæge til dette Venskabsstykke . Skydsskafferen en uforskammet , næsviis liden Knægt stod der paa Gaarden , og blandede sig i alt ; medens jeg søgte Underretning hos Værten omom ] rettet fra ' for ' ved overskriving hvad jeg havde at give , han bestemte tilsidst ganske vilkaarlig en drøi Betaling – Ulykken var nemlig at der blot til Raaholdt var fast Skydstax , derfra hjem ikke og at Skydsgutten maatte besørge min Kariol tilbagebragt til Præstegaarden . Da nu Gutten kom med Skydsen mærkede jeg snart at han var af samme Caliber som de andre . Men jeg lovede ikke at lade mig overliste af disse Slyngler men være forsigtig . Jeg biede derfor med at accordere med ham , til vi kom paa Veien ; Han var imidlertid bleven opsat af Skydsskafferen og forlangte den samme Betaling . Da jeg for Alting ikke vilde kjævles med ham besluttede jeg at lade det beroe til jeg naaede Raaholdt , og her var jeg virkelig saa heldig at træffe en snild villig Mand der f Skydstax kjørte mig hjem og tillige lovede at besørge Kariolen alt paa meget rimelige Vilkaar . og glad var jeg at jeg blev qvit den anden . Han havde den hele Tid viist sig tvær og opsætsig , og aldeles ikke drevet paa Hesten der ellers var rask og jeg torde af Frygt for han skulde blive grov ikke drive paa den engang , Følgen var at vi kom meget seent Kl . 9 til R. R ] dvs. Raaholdt Da jeg havde betalt ham hans Penge maatte jeg tvende Gange pakke ud , igjen for at give ham andre Skillinger da 2 paastod han vare falske . mueligt ! men da havde Værten paa Trøgstad prakket dem paa mig , og hans lange Borteblivelse var mig ogsaa paafaldende , da har han vist søgt ud alle sine daarlige Skillinger til mig .\n",
      "Dette Capitel kan tjene som et Indlæg i Emancipationssagen Du burde virkelig oversætte det . Det beviser at mange George SanderGeorge Sander ] George Sand ( pseudonym ) ( 1804 – 76 ) , fransk forfatterinne maae udslide deres Vaaben og Tingene være avanceret langt i Verden førend Damer kunne reise alene paa Landeveien . Du vil vist smile lidt af denne Beskrivelse og jeg giver Dig fuldkommen Lov dertil jeg var slet ikke forknyt derfor , men nok saa kjek den Hele Tid . Til Slutning seer Du mig da i en lille Bondevogn ved Siden af min Kudsk , snakkende med ham om Veie og Føre Veir og Korn . Da han fik høre jeg var Provstens Datter blev han endnu mere snaksom thi da vidste han god Besked , han forhørte sig blot først om jeg var Camela eller Gusta .\n",
      "Hjemme var alle i Seng men Moder og LauraLaura ] Laura Wergeland ( 1822 – 95 ) , gift Arnesen . Colletts kusine kom strax frem og et lille , lækkert Præstegaardsmaaltid lønnede mig for al min Besvær . Ølost Skinke , Hvedebrød , Æg etc. Det er unægtelig behageligere at komme som Gjæst hid end blot som Datter . Fader har jeg først truffet idag , jeg har flittig besøgt ham ude , Markerne ere nu hans stadige Opholdssted . Hvor her er høstnet stærkt heroppe ! meget mere end i Byen her har alle Trær gulnetgulnet ] ' n ' rettet fra ' t ' ved overskriving eller antaget en brunlig Tinte , og Marken har ikke mere den livlige Grønhed og dog er her saa deiligt . Det er disse mærkværdige Lyseffecter Terrainet frembr Det er da heller intet Under at her høstnes inat vare Markerne hvide af Riim og Iis paa Vinduerne . men idag har her været det deiligste Veir jeg har vel benyttet det , det er , jeg har ikke skrevet en Tøddel af M. M. ] kanskje nabogården Mork , som ble inspirasjon til fortellingen « Kongsgaard . En Skitse » ( trykt anonymt i Hjemmet og Vandringen . En Aarbog for 1847 , utg. av P. Chr . Asbjørnsen , Chria . , 37 – 76 ) Førend jeg gaaer videre deri venter jeg lidt Underretning hvorledes det er gaaet det Første . Kanskee det befindes ikke at være saa ganske hensigtsmessig for Bladet .\n",
      "[ Oktober 1842 ] . Brev til Peter Jonas Collett .\n",
      "Brevs . 4 : a : 94 : b\n",
      "Jeg maae beundre vore Breve , man mærker at de ere af virkeligt Kjød og Blod det er : de vinde mere og mere Præget af hiint ene saliggjørende Reelle . O I som saa bittert have miskjendt os i denne Retning hvad sige I nu ? læser disse Breve ! Disse Documenter spotter den meest forstokkede Vantro . Løser nu Eders Anathema for over vor Upraktiskhed , og « Mangel paa verdslig Takt og Drift » , giver os Absolution , og optager os kjerligt i Eders Midte ! Ak det er ikke I som vinde ved vore Sjeles Frelse , have I ogsaa betænkt det ? Hvorledes skulle vi underholde ogog ] rettet fra ' os ' ved overskriving more Jer , naar vi blive en Deel af Jer selv , thi visselig blot saalænge vi ikke ikke lignede Jer voldte vi Jer Glæde .\n",
      "Dine Breve min C. overgaae imidlertid endnu mine , jeg er villig til at erkjende dette . Det er ogsaa billigst , vil Du mene , at at Mesteren overgaaer Lærlingens . Hos mig mangler endnu en vis Holdning , en vis Gjennemførthed , der udmærker Dig . Jeg læste de 2 Sider af Dit Brev med stigende Beundring , Dine Beretninger om Skyds og Diæt , om Middagsmad om om Strømper og Skjorter , men da jeg paa den 3 die Side kom til Dine Planer med Spisekammernøglen og det Hensigtsmæssige i at indrede et særskilt Aflukke i Kjælderen til Gulerødderne , som Du saa vittig kalder en « Filialafdeling » , da kunde jeg næsten ikke læse mere\n",
      "Havde jeg i Aaret 1835 kunnet fremlægge en af disse mærkelige Attester , havde jeg kunnet aftrygle Fremtiden dem ! – men Fremtiden er en haardhjertet Angrer , den giver aldrig Credit . Det var nemlig i Aaret 1835 at hiin Beskyldning blev mig gjort engang , med den smerteligste Vægt . Da tjente denne Løgn til at dække en endnu større Løgn . Jeg har gjennembladet et Bind Constitution.Constitution . ] dvs. avisen Den Constitutionelle . Det uleselige er trolig et forkortelsestegn fra dette i mit indre Liv saa mærkelige Aar . Det var det Aar da Tanken blev reven frem af sit Skjul – – . Min Ankomst til Byen , de Kongeliges do ; Ballerne og Festlighederne i den Anledning – W-sW- s ] Johan Sebastian Welhaven ( 1807 – 73 ) Afreise til Kjøbh . hans Hjemkomst , ere alle Momenter , der vække den hele Række af Erindringer , der slumre men aldrig kunne glemmes .\n",
      "Hvor yndig var denne Løgn ! hvor smukt dens Sprog ! den har gjennembævet hver Nerve af mit Væsen . Hvor kan en Løgn være saa smuk ?\n",
      "en dunkel Qvel – en dunkel Qvel . – her veed jeg ikke hvad der kommer , men det er det samme , det var angaaende Lillien – – « Du er blot en Lillie , men Du burde ogsaa være en Petersillie » . Det er Meningen . Ak jeg skal gjerne være en Petersillie , jeg skal blive en Petersillie , Petersillie ] persille Alt hvad Du vil , naar det bare ikke er Løgn ! Men jeg sagde det ikke , jeg sagde til Bernhard , Bernhard ] Bernhard Herre ( 1812 – 1849 ) hans Commissionnair : Han har Ret , deri ligger Hindringen , den uoverstigelige , jeg duer ikke for Livet . Jeg kunde ogsaa lyve .\n",
      "Naar jeg har lagt de Gamle Constitutionelle er Alt glemt igjen . Paa bordet ligger 5 smaae Trøier , og hvorledes jeg skal faae Foder til den 6 te er langt mere vigtigt . Dernæst er jeg selv forbavset over at jeg af 4 gamle Skjorter har faaet 18 smaae .\n",
      "Veiret fremdeles deiligt , næsten tantalsk deiligt , men jeg har ikke megen Tid til at spadsere skal jeg blive færdig med Altsammen . I Morges vankede jeg omkring i Dalene , Træerne brunes Himlen havde et gyldent Skjær førend Solen rigtig kom frem , Andelven saae ud som bare Sølv og Guld . Jeg har udsat Reisen til Onsdag . Maaskee kommer jeg blot til Ullens . den Dag , – derom nærmere – men hvilken Dag det bliver skal Du blive glad i Din\n",
      "stakkels C.\n",
      "S : T. Lector Juris J. Collett Mad . Hviids Gaard Christiania\n",
      "10. juni [ 1843 ] . Brev til Nicolai Wergeland .\n",
      "Brevs . 3 : 184\n",
      "Kjere Fader !\n",
      "Den Tid da jeg skal foretage mit Sommerbesøg nærmer sig nu , og jeg længes saameget mere derefter da der er saa lang Tid siden jeg saae mine kjere Forældre Et skjeldent Tilfælde at den hele lange Vinter er gaaet uden Møde fra nogen af Siderne . Jeg havde sikkert gjort Regning paa Dit Besøg . idetmindste om end Moder vilde forblive i sin Eidsvoldske Ubevægelighed . Maaskee er det endnu ikke for silde . Jeg troer hvis Du valgte den nærværende Tid til et lille Besøg paa 8 – 10 Dage herinde , da vilde det bedst lønne sig . Ole BullOle Bull ] Ole Bull ( 1810 – 80 ) ventes , de danske Skuespillere give 3 Gange ugentlig Forestillinger , og man maae tilstaae det lønner sig at see dem . Vi have abonneret paa 5 Forestillinger hvoraf vi allerede have seet de 2 de for at faae de øvrige med , bliver min Reise forhalet til omt . ved St . Hans . Hvis Du kom ind noget iforveien saa kunne vi reise sammen ; hvilket foruden at l det Behagelige i at have Selskab , vilde betydelig lette mig Reiseudgifterne , der nu vil blive temmelig betydelige med Oline og Barnet –\n",
      "AletteAlette ] Alette Sem ( 1824 – 53 ) , gift med Oscar Wergeland er nu herinde , dog komme de nok senere derop.derop ] ' d ' rettet fra ' h ' ved overskriving Collett bliver først færdig med sin Examen i Midten af Juli . Dog skal det , at Du mueligvis vilde lette mig Befordringen ingen Grund være til at bede Dig komme ind , kjere Fader . Enten det skeer eller ei , vilde det glæde mig og C. inderlig at see Dig herinde . og vi gjør da Regning paa at Du betragter vort Huus aldeles som Du boede der , spiser hver Dag og tager Din Middagssøvn der skal blive ligesaa uforstyrret som om Du laae i Din gigantiske Sopha hjemme . Vort Logi har om Sommeren et eget Tække ved at man kan benytte Altanen . Robert glæder sig meget til at gjøre Bedstefaders Bekjendtskab og er allerede i Forveien vis paa at vinde hans Yndest . Han taler allerede et Sprog der ligner meget det chinesiske . Han gjør stor Lykke overalt – hvor han kommer hen og han gjør ofte Besøg . I Forgaars hos Kammerherre M. Kammerherre M. ] Christian Frederik Jacob von Munthe af Morgenstierne ( 1806 – 86 ) , gift med Anastasia Sergiewna Soltikoff ( 1810 – 53 ) forærte Fruen ham et Par guldvirkede Pampusser.Pampusser ] tøfler Jeg tænker LauraLaura ] Laura Wergeland ( 1822 – 95 ) , gift Arnesen . Colletts kusine bliver reent forhexet i ham naar han kommer thi han kan vinde de koldeste Hjerter , end sige hende der allerede er indtaget i ham . Han holder meest af Oline , naar hun gaaer leder han rundt omkring i Værelset hvor hun blev af , og træder hun da ind af Døren jubler han og er saa glad , at han er færdig at springe ned af Armen . Oline morer ham ogsaa saa godt , hun kan saamange Viser og rare Sager og veed bestandig at holde ham i godt Humeur . Den anden Pige jeg har faaet er ganske fortreffelig , hun er ikke alene den bedste jeg har havt , men maatte altid regnes for en brav Pige . Hun er meget stor og klumpet at see til og har et ringerigsk godmodigt Ansigt , men hun er proper og yderst reenlig , tro og paalidelig og hun har den skjeldne Egenskab at hun husker det aller mindste og udfører det promte , hvad man maaskee 10 Gange maatte sige til en anden Pige – enfinenfin ] fransk : endelig , kort sagt – jeg har i de 2 Maaneder hun har været ikke havt Anledning til et eneste misfornøiet Ord . Jeg lever altsaa med Hensyn til Tjenestefolk reent i Guldalderen , og naar man kjender hvor suurt de kunne gjøre En Livet saa kan man ikke nok prise det Held\n",
      "Med Længsel ventes nogle Linier hvo [ r ] Du melder mig det ønskede Besøg . Indtil da vi sees lev vel , og Hilsen til Moder og Laura fra Din\n",
      "Camilla\n",
      "Lod det sig ikke gjøre at besøge HaraldHarald ] Harald Titus Alexis Wergeland ( 1811 – 93 ) , Colletts bror paa Hjemreisen ?\n",
      "S : T : Provst Ridder N. Wergeland Eidsvold Præsteg . Anbefales Postaabneren ved Eidsvoldsværket .\n",
      "[ 3. juli 1843 ] . Brev til Peter Jonas Collett .\n",
      "Brevs . 4 : a : 95\n",
      "Hvad jeg ventede er indtruffet , jeg havde en Forudfølelse af at jeg ikke vilde blive glad heroppe , at jeg havde alle Savnets Grader at gjennemgaae – Virkeligheden overgaaer kun Forestillingen . Jeg er saa ubeskrivelig forladt og ene – Disse Nye , disse FremmedeSenere er det her tilføyd og dernest strøket : « Amalie , Sophie » der paa en Maade have fortrængt mig fra min Plads , kunne ikke give mig ringeste Vederlag for dem jeg savner . Ogsaa det trykker mig at jeg aldeles intet kan være for dem . Dog skiller jeg mig ikke fra de Andre , men deeltager i Alt . Jeg kan ikke omgaaes unge Piger , der ligger en Kløvt mellem os ingen af os kan overstige . De ane den , de have en Art Skye for mig – det falder aldrig V. V. ] Valentine Egidia Sem ( 1826 – 96 ) , gift Heyerdahl eller AA ] Alette Sem ( 1824 – 53 ) , gift med Oscar Wergeland ind ugenert at gribe mig under Armen som LauraLaura ] Laura Wergeland ( 1822 – 95 ) , gift Arnesen . Colletts kusine og Amalie.Amalie ] Amalie Sofie Wergeland ( 1819 – 89 ) , født Bekkevold , gift med Henrik Wergeland De længes vist ogsaa efter Sine Stakkels , SibbernsSibberns ] Alette og Valentines mor , som var født Sibbern døde ung . Søster Wilhelmina Matthia Sem ( 1804 – 27 ) og min Familie ! Ak hvor jeg tænker paa de første Uger D-sD- s ] trolig søstrene Emilie ( 1810 – 43 ) og Nathalie Diriks ( 1813 – 1858 ) tilbragte heroppe , vi vare da alene , siden kom der gjerne nogle Andre . Der var en egen ubeskrivelig Gemytlighed udbredt over vor lille Kreds , jeg var saa tilfreds saa mild og oprømt ofte sad vi den halve Dag nede paa Balstigen og syede og læste og loe og vore Middagssiester og vore Aftensamtaler ! – – hvor luunt og godt de vort lille Værelse , det tilhørte ikke det øvrige Huus .\n",
      "Endnu har jeg det ret uhyggeligt paa mit Værelse men haaber at faae det bedre . De 2 første Nætter sov jeg næsten aldeles ikke da Barnet skreg næsten uophørlig – han var vel urolig efter Reisen og følte sig fremmet – denne Begyndelse var ikke meget trøstende . De sidste Nætter har han blot været urolig om Morgenen saa jeg dog heller bliver heroppe end flytter ned i det lille Værelse . Ganske alene med Oline tør jeg aldeles ikke lade ham , jeg har grebet hende i mange slemme UforsigtederUforsigteder ] feil for ' Uforsigtigheder ' med ham heroppe .\n",
      "Igaar var ConradiConradi ] trolig Andreas Christian Conradi ( 1809 – 68 ) , lege her , tilligemed 2 Heidenreicher med hvilke han reiser . Den Mand er temmelig facil i Valget af sit Selskab synes mig . Imorgen reiser han til Lillehammer men tilbage strax han havde gjerne gjort Reisen med os . Paa sidste Damplysttour sidst Fredag hændte endelig den Ulykke vi undgik ifjor , Baaden idet den skulde sætte over fra den lille Holme til Hovindsholm kantrede , Alle faldt i Vandet , men reddede sig ved at svømme undtagen en Dr. QvikstadDr . Qvikstad ] kanskje Henrich Bull Qvigstad ( 1810 – 45 ) , lege på Øvre Romerike der druknede , han fik et Slag troer man. Badefolket dernede er skrækkeligt , ikke et eneste brugbart Subject ikke engang som Carikatur . Vi vare dernede i gaar og hørte en « Concert » der blev annonceret ve [ d ] en ridende Herold . Den skulde gives af en Harpespillerske og en Liredreier . Da alle , selv Fader og Moder gik maatte jeg bide i det sure Æble . Jeg troer saagar Planen udgik fra Fader der viste en besynderlig Interesse for Tingen og især for at forvisse sig om denne Harpespillerske monne være den samme han havde hørt for 10 Aar på Moss spille udenfor Vinduerne . Vore Bordgjæster maatte paa det nøieste signalisere hende , og Fader tabte sig i Række af Gisninger og Sandsynligheder med et Alvor og en Grundighed som maatte forekomme Conradi mere end komisk . Jeg behøver vel ikke at fortælle hvorledes Concerten var . Den store Spisesal garnere [ t ] med Badegjæster stive og ubevægelige som Støtter , paa den ene Side havde jeg EngelEngel ] Engel Dallin ( Dahlin ) ( 1792 – 1862 ) længer henne kunde jeg see et Par korslagte Been der tilhørte Fader , af deres Ubevægelighed kunde jeg slutte at han var aldeles fordybet og dette erindre [ de ] mig om en hiin uforglemmelige Musikscene MalvinaMalvina ] Malvina Petersen ( 1820 – 1909 ) , gift Døderlein oplevede med os . Længe holdt jeg det dog ikke ud , jeg trak Ale [ tte ] med mig ud i det Frie og bleve strax enige om at tage et Bad som den bedste Forfriskning , ovenpaa . Da vi kom hjem skjændte Fader paa OscarOscar ] Oscar Wergeland ( 1815 – 95 ) , Colletts bror fordi han havde tilsidst i Desperation stemt i med af fuld Hals : ensom er jeg ei alene . » ensom er jeg ei alene ] fra Carl Maria von Webers opera Preciosa . Utdrag av denne hørte til standardrepertoaret på 1800 - tallet . Teksten er av Pius Alex . Wolff . – hvilket alle de Andre fandt af ypperlig Virkning . Jeg behøver ikke at sige at F. F. ] dvs. Fader havde fundet sig opbygget ved hendes Sang .\n",
      "Onsdag Morgen Aften . Idag Morges paa Sengen Din Seddel med Baaden 1 Time senere Brevet med Posten . Jeg blev virke [ lig ] selv forskrækket ved at see Dig lægge Valget igjen i min Haand . Jeg havde jo lovet Dig min Ven atat ] rettet fra ' og ' ved overskriving stole ubetinget paa Dit Skjøn her , og være tilfreds med hvad Du bestemm [ er ] og Gud veed at jeg dennegang gjorde det af mit bedste Hjerte . Du vidste mine Betænkeligheder med Hensyn til Bakkehuset – der var gaves saaledes intet hvortil jeg med bestemt Lyst heldede – derfor havde jeg ogsaa med den største Rolighed hørt Din Beslutning at blive hvor vi vare , jeg ventede den . Nu skal jeg dog afgjøre det og bestemt .\n",
      "[ Juli 1843 ] . Brev til Peter Jonas Collett .\n",
      "Brevs . 4 : a : 96\n",
      "Igaar den første Dag efter Afreisen drog der for første Gang en Følelse af Roe ind i mig der overbeviste mig at den Uroe den Tummel jeg havde levet i de sidste 14 Dage har været af den tommeste , aandløseste , ufrugtbareste Slags . Dog derom var vi jo enige . Nu er jeg flyttet ind paa mit kjere Gamle Kammer . O Emilie Emilie ! Emilie ] Emilie Diriks ( 1810 – 43 ) Om Aftenen gik jeg for første Gang ud paa Fæhaven alene , ganske som om jeg ikke havde været der før . Det var en Erindringsfest jeg feirede , men dog mindre smertelig end jeg havde ventet . Ofte kunde jeg see Emilies tynde Gestalt svæve foran mig hen under Træerne hvor hun og jeg og NatalieNatalie ] Nathalie Diriks ( 1813 – 58 ) saa ofte , ofte have gaaet . Jeg havde ikke Mod til at indhente hende og drage hende tilbage . Men Dig – ak kunde jeg indhente Dig ! kunde Du tage mig med Dig ! Naar jeg først kunde naae Dig , skulde jeg drage gjennem Tjørn og Krat og de vildeste Stepper og ikke at naae Dig blive træt eller vund . Der er en Bevidsthed hos mig , saa mægtig at hvis Du døde , vilde den sikre mig for den Qval at overleve Dig , og det er Bevidstheden om Din uendelige Kjerlighed , ak Din uendelige Kjerlighed ! Jeg maatte døe af at tænke paa Dig og mig . Denne Bevidsthed er ikke altid vaagen , men den vaagner idag jeg veed om en nedgraven Skat , men jeg mangler Ordet til at løse den .\n",
      "Dine Ord min C. ak lad os være lykkelige ! klinger altid for mine Øren , ak ja lad os være lykkelige !\n",
      "Lørdag . Fru ColbanFru Colban ] Marie Colban ( 1814 – 84 ) , født Schmidt er her freidig og kjæk som altid . Dette er netop Grundtonen i hendes Væsen , men derfor er hun saa prægtig at fuldkommen forstaaer og møder ogsaa en fremmet Stemning . Med hende kan man tale om dem man savner , og dette er allerede saa uhyre meget . Me [ d ] hvor faae kan man egentlig det ! næsten Ingen . Jeg lider ikke at nogen nævner Emilie , ikke engang hendes Nærmeste , Natalie maaskee undtagen . O , til Slutning bliver der blot Du og jeg igjen til at tale om dem vi have mistet .\n",
      "Mandag . Fru C. kom altsaa i Vognen med Hr. Schübeler.Hr . Schübeler ] trolig Frederik Christian Schübeler ( 1815 – 92 ) , også omtalt i brev fra Oscar Wergeland til Nicolai Wergeland 19. april , mai og 9. august 1843 ( Brevs . 210 , avskrifter i Brevs . 670 ) Og Du kan ikke kan ikke nægte at det er meget fornøieligt , men ogsaa ængsteligt at tænke sig disse 2 Personer sammenalene i en Vogn den hele lange , lyse , romantiske Sommernat . Fru Colban og Hr Schübeler ! Den eneste Gang jeg har seet Hr S. var inde i Hotellet , da han kom for at gjøre Fader en Visit . Han kom gnaskende paa et Æble ind ad Døren , gnaskende paa Æblet underholdt han Conversationen , og det var netop fortæret da han recommanderede sig og gik . Hr Sch . hører til den Sort unge Mennesker som vi uden at kjende personlig , dog kunne udenad , en Race der desværre ikke saasnart vil uddøe hos os og hvis Individer blive saa særegne widerwärtige , widerwärtige ] tysk : motbydelige naar de som jeg troer her er Tilfælde med S. tillige ere dygtige og begavede , de sætte ligesom en Ære i en cynisk Foragt for al Dannelse og Dannelsens Præg og Alle civiliserede Former , og stemple uden videre Alle som ikke har den samme Smag , som ham til Forbrydere og Forræddere tilhobe – Nu kom Dit Brev , med Din Skildring og jeg kan spare min. Jo accurat saa er han ! Hr. Sch . lod til at kjende alle vore Damer derinde og han ledsagede deres Karakteristik med en Mængde Anecdoter som vi ikke kjende det mindste til . Gid nu Fru C. i sin Naivitet ikke har give ham for meget Stof . Jeg blev ganske forskrækket da hun fortalte at de havde converseret uafbrudt den hele Vei . Hans Ugenerthed gik saavidt at da de paa en af Skifterne skulde gjøre Toilette og Fru C. spøgende bød ham en Kam , lettede han paa Parykken og forsikrede at han trængte ikke til den . Denne lille Idylle med Kammen fortalte vi siden Fader , thi den er jo ganske god , ogsaa uden Parykken , men Hr S. var ikke af den Mening , han gjør nogle ængstelige Bevægelser op mod den , som Fader i Begyndelsen ikke kunde forstaae og spørger : « hvad ? hvad skal dette betyde , gik det saa vidt at hun luggede Dem ? » Jeg havde ogsaa fundet dette begribeligere end den Smag Manden røbed for at vise sit skaldede Hoved . Vi med vore Morgendragter og støvede Skjørter ere ham vist en « Gräuel » . Gräuel ] tysk : vederstyggelighet – Imidlertid have vi ved Din Skildring af Hr Sch . faaet Skræk i Blodet , og vi have besluttet idag at være tækkelige for Hr. Sch . dog uden nogensomhelst cynisk Bestræbelse . Vi have begyndt med en populair Frokostsamtale , hvori Fru Colban lovede at ErikErik ] Erik Andreas Colban ( 1841 – 1900 ) , Marie Colbans sønn skulde blive Haandværker . Men det værste er at han har faaet Fader ind i det polemiske Hjørne og nu kan Du troe det gaaer ud over disse « Troppister » derinde . Hvor nødig jeg vil bliver jeg draget ind deri . Ikke at tage Parti er det samme som at tage Parti . Idag da jeg i den mildeste Stemning traadte ind til ham med BobBob ] dvs. Robert paa Armen , kom vi inden jeg vidste Ordet ind i en saadan Strid . Stakkels Fader ! han trænger til Nogen til hvem han kan give sin Unmuth , Unmuth ] tysk : ergrelse , misstemning sin Bitterhed Luft , man gjør ham en sand Tjeneste med at modsige ham , og jeg vilde forstaae min Bestalling som Uveirsafleder og priviligeret Syndebuk her i Huset , slet hvis jeg ikke gjorde det af og til – naar det ikke kan undgaas – thi naturligviis allerhelst ganske undgaae det . Ak min Ven , under al slig Forvirring er det mig en Hvile , en Beroligelse at tænke paa Dig . Du er det eneste Væsen jeg har fundet billig og retfærdig , paa hvis Billighed og Retfærdighed det er mig en Fornødenhed at tro , den mindste Uklarhed krænker mig dybere hos Dig end hos nogen anden\n",
      "Igaar vare vi nede og roede os en Tour i Andelven . S. [ var ] med. Han er unægtelig underholdende og kan tale om alting . F [ or ] lidt siden traf jeg ham og de Andre i fuld Gang om « Rygt [ et ] » og han bemærkede meget afgjørende at det var « hele Byens Mening at E. Lund « ruinerede sin Mand » Stakkels lille Emma.Emma ] Emma Petersen ( 1817 – 1892 ) , gift Lund Vi før førte et glimrende Forsvar for hende , og det er jo altid noget , naar vi kan faae Hr S. overbeviist om at hun ikke ødelægger sin Mand . Jeg vilde ønske Hr S. var snart reisefærdig , det gaaer som jeg havde tænkt med hans Daguerretypier , der experimenteres i det Uendelige , med os stakkels Damer , men endnu er der neppe fremkommen et synligt menneskeligt Omrids .\n",
      "Med MørkMørk ] dvs. Mork , nabogården som ble inspirasjon til fortellingen « Kongsgaard . En Skitse » ( trykt anonymt i Hjemmet og Vandringen . En Aarbog for 1847 , utg. av P. Chr . Asbjørnsen , Chria . , 37 – 76 ) lader sig aldeles intet gjøre , fordi det er umueligt uden at støde Kroghs og det vilde jeg ikke for nogen Priis gjøre . Navne , Hentydninger til Personer selv om det er noksaa smukt , men paa Prent , det er Indbegrebet af al Krænkelse . Husk paa Landjunkeren , der vilde fordre Henrik ud da denne havde skrevet 7 sværmeriske Vers om hans Søster ( Ida H. ) Ida H. ] Ida Haffner ( født 1804 ) i Morgenbladet . Henriks første trykte Vers ! Maaskee jeg før kunde knytte en lille Idylle , et Sagn til Fæhaven .\n",
      "Bob hilser Papa\n",
      "Mama do .\n",
      "Kom snart – snart .\n",
      "Lector juris J. Collett Mad Hviids Gaard Christiania\n",
      "[ Juli 1843 ] . Brev til Peter Jonas Collett .\n",
      "Brevs . 4 : a : 97\n",
      "Jeg synes kjereste Ven , at Du burde ile med at komme herop . Tænk Dig idag allerede den – ja Gud veed hvad Dato det er – men jeg hørte forleden tilfældigviis at det var langt udi Maaneden , med hver Dag som gaaer afknappes lidt af den korte Sommerlyst hvoraf vi skulle leve og styrkes for hele Aaret , det hele lange kolde Aar . Naar vi sidde derinde i vort Byecastel , da vilde vi mangen Gang give meget for en Dag for en Time heroppe .\n",
      "Med mig er det som sidst , roligere , bedre end før . Glad eller oprømt er jeg vel ingensinde , men jeg skal idetmindste ikke volde Dig Bedrøvelse . Jeg syer Dag ud Dag ind . skrive kan jeg ikke . Der gives intet Foretagende ingen Plan , intet nok saa uskyldigt Luftcastel der for et Øieblik sætter mine Tanker i Bevægelse . Mit Legeme holder Skridt med denne Sjelens Negativitet , jeg vil ikke ret komme mig endnu , skjøndt jeg ikke egentlig er syg . Min Qvikhed om Morgenen min brillante Appetit fra ifjor mangler jeg . Angaaende N. DiriksN . Diriks ] Nathalie Diriks ( 1813 – 58 ) da kan jeg ikke gjøre noget Skridt til en Invitation , ikke engang en simpel Meldelse , men jeg synes at hun saa let kunde komme uden nogen saadan for de faae Dage . Du forstaaer vist at det vil have Udseende af Fordringsfuldhed og Ubeskedenhed det er ( som noget jeg havde fundet paa , atter at drage nogen af Mine herop – kommer N. af sig selv , vil det være ganske anderledes . Da jeg reiste op havde det været mig saa let , da bad jeg N. flere Gange indstændig . Du troer ikke hvor nødig jeg beder Fader om noget . Maaskee han ikke nægter det , men jeg skjælver for et af hans Afslag .\n",
      "Før Du reiser maae Du gjøre mig et Par smaae Tjenester . Moder bemærkede forleden at mit brodeerte Teppe sandsynligviis vil blive fortært af Møl hvis man ikke griber kraftige Forholdsregler . Du kunde maaskee lade det banke og lufte , derpaa forsigtig indhylles det i et Svøb ( Et Par grove Lagener ) og lægge noget Malurt imellem . Det større Teppe bør ogsaa indsvøbes i noget , da det staaer i samme Fare . Kjøb mig et Par sorte Handsker saa smaae som mueligt , da jeg risquerer aldrig at faae dem for smaae . Billigere end et Par f : faaes de neppe . Penge sender jeg ikke , da jeg trænger til de faae jeg har . For disse Penge et lignende Par til Laura.Laura ] Laura Wergeland ( 1822 – 95 ) , gift Arnesen . Colletts kusine jeg har Uldtrøien til Dig i Arbeide , med mere anden Industrie . ColbanColban ] Nathanael Angell Colban ( 1793 – 1850 ) er utrættelig i at fournerefournere ] furnere : forsyne sin Frue med Handsker , Pomade etc. Han holder den fineste Control med alle hendes Haar- og Tandbørster , han veed paa en Prik naar der gaaer en Tand ud i hendes Kamme , naar det lakker ad Enden med hendes Naalebreve , for øieblikkelig at ombytte det med NytNyt ] ' N ' rettet fra ' n ' ved overskriving . Ak naar Du var en saadan Mand som Colban ! Men den Glæde oplever jeg vel ikke af Dig .\n",
      "Kan Du paa nogen Maade , saa vilde jeg saa gjerne at Du kjøbte Dig til 6 Skjorter Lærred . Jeg skulde da klippe dem og lade dem sye heroppe for den samme billige Priis . Du trænger virkelig til dem . QvæstorindenQvæstorinden ] trolig Emilie Henriette Christence Collett ( 1805 – 68 ) , født Rørbye kjøbte det gjerne .\n",
      "Kom saa snart som mueligt ! Vær ikke bedrøvet over hvad jeg har sagt om mit Befindende . Engang kommer jeg mig vel . Naar Himlen vilde sende mig noget til Undsætning der kundekunde ] ' ku ' rettet fra ' f ' ved overskriving ruske dygtig i mit Sind og saaledes gjennemryste mit hele Væsen at det endnu friske i mig sprudlede og ligesom bortskyllede det Stillestaaende – – ! Jeg har aldrig befundet mig legemlig sundere end Dagen efter den strabasieuse Misbjergtour . Fru C. Fru C. ] Marie Colban ( 1814 – 84 ) , født Schmidt hilser Dig , hun trives ypperlig heroppe . Hun har blot en Feil , at hun kjender de samme Mennesker som jeg . Denne Tid lider jeg altid bedst heroppe naar der ligger plukkede Roser paa Bordene inde , og Marken dufter af Høe udenfor , samt naar man faaer nye Potetes om Aftenen . De sidste ere ikke sunde , paasta [ aer ] man , men det sigessiges ] rettet fra ' siger ' ved overskriving man da om Alt som man har Lyst paa . – DianeDiane ] trolig Alexander von Ungern-Sternbergs roman Diane , 3 b . , Berlin 1842. synes jeg ikke bør oversættes . 3 Deel taber meget i Interesse , derom kunne vi tale nærmere .\n",
      "Her er det et stort tomrom på siden .\n",
      "og lev vel ! for Dit Brev har jeg ikke takket Dig fordi jeg ikke vidste hvorledes jeg skulde gjøre det . At Du ikke foragter min dybe Erkjendelse af hvad Du er – tak for det ! Men glem ikke at det er i Lykken man skal prøve sin Følelse for den Anden , det er ingen Sag at vurdere den der i vor Ulykke viser sig god og stor mod os , men var jeg lykkelig vilde jeg af 1000 andre Grunde holde af Dig , da først vilde jeg tilfulde vurdere Dig .\n",
      "Med BobBob ] dvs. Robert drives her et formeligt Afguderie . Naar vi bare røre ved hans Hoved er Fader bange vi skal trykke nogl [ e ] Organer ind paa ham .\n",
      "[ 21. august 1843 ] . Brev til Peter Jonas Collett .\n",
      "Brevs . 4 : a : 99\n",
      "Nylig arriveret fra Liinløkken , mæt og træt , er jeg ikke istand til mange Ord . Igaar til Middags havde vi Olsens , Olsens ] Anna Nicoline ( 1805 – 86 ) og Ole Severin Olsen ( 1811 – 73 ) , personellkapellan hos Nicolai Wergeland Tønsager og Madame ; Tønsager og Madame ] Berthe Christine ( 1789 – 1851 ) og Lars Tønsager ( 1788 – 1873 ) Madam og Fru Olsen , Sophie , Sophie ] kanskje Sophie Schøyen ( 1816 – 72 ) , gift med Colletts fetter Nicolai Storm Wergeland LauraLaura ] Laura Wergeland ( 1822 – 95 ) , gift Arnesen . Colletts kusine AmalieAmalie ] Amalie Sofie Wergeland ( 1819 – 89 ) , født Bekkevold , gift med Henrik Wergeland og jeg hele Eftermiddagen paa Drømmely det var Søndag I morgen troer jeg vi skal til O-s , iovermorgen formodentlig til Langvæg , Fader er med paa disse Steder . Eftermiddagen er altsaa min Arbeidstime at regne , om Formiddagen forlyster jeg mig med at sylte , koge vadske og strikke paa mine Uldtrøier . Jeg har opdaget at jeg ikke holder ud at gaae paa Liinløkken uden Dig . Overhovedet kan jeg ikke omgaaes nogen uden at have Dig medDig , jeg trænger til Dig bestandig jeg paakalder Dig 100 Gange om Dagen . Jeg søger 100 Gange at styrke min Tanke ved at jeg tilhører Dig og ikke de Andre . Jeg vil ikke bie længer end til Fredag . Var jeg ganske alene her , blev jeg maaskee længer , men nu aarker jeg ikke mere . Jeg vil komme og banke paa hos Dig og bede luk mig ind , men lad ingen ind – jeg vil leve for Dig , og være flittig og søge at være glad naar Du kommer ind . og forsøge at være glad naar Du gaaer Vær ikke misfornøiet med at jeg kommer saa tidlig men modtag mig godt . Siig ingen at jeg kommer .\n",
      "Din C.\n",
      "[ Januar 1844 ] . Brev til Oscar Wergeland .\n",
      "Brevs . 3 : 185\n",
      "skade med større teksttap : Papiret er beskåret i øvre kant med bortfall av et uvisst antall linjer . indirecte Svar , der viste Ubestemthed og Misfornøielse med Prisen , endelig kom Du en Dag og sagde at Fader nu havde bestemt sig , med nogle Forbeholdelser men heri laae ingen bestemt Ordre til at handle for mig . Nu har jeg gjort det Fornødne , det er : gjennem Fru C. Fru C. ] Marie Colban ( 1814 – 84 ) , født Schmidt sagt FruenFruen ] Kirstine Aas ( 1791 – 63 ) , født Colban at Fader vil indgaae paa de Betingelser hun foreskriverangaaende Prisen at hun snart kan mundtlig nærmere afhandledet . At R. R. ] Maria Augusta Rosalie ( Rosa ) Vedøe ( 1833 – 65 ) , Colletts niese ikke betaler i de Maaneder hun er hjemme i Besøg , vil hun vist finde rimelig . Alle nødvendige Meubler fournererfournerer ] furnerer : forsyner hun hende med. Kommode behøves altsaa ikke at bringes med. Naar Fader faaer see hendes Huus , vil han vist finde det værdt at give et Par Daler mere end hos Mor H.\n",
      "Fra Jomfru N. har jeg faaet indsluttede Liste paa de Bøger der benyttes paa hendes Skole .\n",
      "skade med større teksttap : Papiret er beskåret i øvre kant med bortfall av et uvisst antall linjer . Jeg haaber Du har lykkelig overstaat Langvægballet , der formodentlig i Qvantitet og Udstrækning bødede paa GehaltenGehalten ] tysk : kvaliteten , innholdet – thi mindresenere end til Kl 10 kan Mad K. Mad K. ] Anne Dorothea Kaasen ( død 1873 ) , født Bay vist ikke være bekjendt at slukke den sidste Praas og høre den sidste Bjælde af de forsuffene Gjæster drage bort . Jeg drømte hele Natten efter om den nye Lysekrone og om røde Halser , om dampende Stuer og iskolde Gange . om alle de Stege , den Sylte og den Rullepølser der var gaaet med. Jeg har et frygtelig tydeligt Indtryk af dette Bal og det forfølger mig som Mare . Har LauraLaura ] Laura Wergeland ( 1822 – 95 ) , gift Arnesen . Colletts kusine og Rosa kunnet undgaae Forkjølelse ?\n",
      "Hils Alle ved Din – C.\n",
      "[ Juni 1844 ] . Brev til Nicolai Wergeland .\n",
      "Brevs . 3 : 183\n",
      "Kjere Fader !\n",
      "Det er nu saa længe siden jeg hørte noget fra Dig , det er , directe seet noget fra Din Haand at jeg vilde ængstes for at det ikke stod vel til , havde ikke OscarOscar ] Oscar Wergeland ( 1815 – 95 ) , Colletts bror forsikret det Modsatte . Fra LauraLaura ] Laura Wergeland ( 1822 – 95 ) , gift Arnesen . Colletts kusine havde jeg idetmindste ventet nogen Underretning om jeg end ikke kunde haabe at Du havde tid eller Lyst til at skrive , jeg bad hende meget derom da hun reiste . Her staaer Gud skee Lov alt vel til . BobBob ] dvs. Robert er bleven frisk igjen og dermed er hans Munterhed begyndt at vaagne igjen , dog saa ganske i sit Æs er han ikke endnu , men det haaber jeg han først vil blive naar han kommer op , hvor han vil leve i lutter Glæde og Nydelse af alle Arter . Jeg har et Par Gange promeneret med ham i en af de nærliggende Haver , saaledes at Pigen bær ham did , da er han saa ubeskrivelig sød , ja saagaer mod mig , som han ellers ikke viser nogen særdeles Forkjerlighed ( denne Forret at behages dem tilraner Barnepigen sig altid ) bliver han venlig og indsmigrende , saa behagelig finder han det i det Grønne . Pigen siger at Flere der have standset hende paa Gaden , finder han ligner Dig meget , og i visse Øieblikke synes vi det ogsaa . Dog nok om Bob , Du faaer nu snart nok af ham alligevel , men jeg haaber at han skal gjøre Bestefader lidt Glæde . Med hans Talegaver gaaer det meget smaat , han kan blot de samme Ord , men jeg haaber at Papegøien vil virke meget udviklende paa ham , det kan ikke slaae Feil at de blive meget gode Venner . Jeg begynder nu ogsaa at komme mig lidt , jeg kan see det paa mit Utseende at Kræfterne tage noget til , jeg har ogsaa i den senere Tid været temmelig meget ude . Vi have saa mange Bekjendte paa Landet at besøge , saa at vi lettere i denne Sommer kunne undvære , hvad vi saa varmt tragtede efter en landlig Bopæl . Fru FougstaFru Fougsta ] Caroline Fougstad ( 1809 – 46 ) , født Diriks ligger paa Ladegaardsøen , og sukker altid i denne grønne Ensomhed efter Besøg og Fremmede . Fru ColbanFru Colban ] Marie Colban ( 1814 – 84 ) , født Schmidt ligger i en lille Fiskerhytte ude i Kongshavn , det er rigtignok det meest idylliske man kan tænke sig , Fjeld foroven og Strand forneden , vi vare der en af Pintsedagene , besøgte derved Auberts gamle Øe , Sjursøen , hvor jeg var engang som Barn . Imorgen tidlig Kl 8 skal Natalie D. Natalie D. ] Nathalie Diriks ( 1813 – 58 ) og jeg roe derud igjen for efter Løfte at tilbringe en heel Dag hos hende . C. tager da ud med Colban om Eftermiddagen . SteenstrupsSteenstrups ] Sophie ( Augusta ) ( 1811 – 72 ) , Peter Jonas Colletts søster , og hennes mann Peter Severin Paulsen Steenstrup ( 1807 – 63 ) ligge tæt herved paa en Løkke , og StatsraadensStatsraadens ] Maren Christine ( Tina ) ( 1777 – 1860 ) og Jonas Collett ( 1772 – 1851 ) , Peter Jonas Colletts onkel ligge paa deres deilige Landsted . Min Veninde fra Kjøbenhavn , Fr . Bido ( Bidoulac ) Fr . Bidoulac ] Josephine Bidoulac , ( 1812 – 66 ) , gift med Johan Sebastian Welhaven Familien fransk Emigrant ) er til min store Glæde arriv [ eret ] jeg erindrer ikke om jeg fortalte Dig at hun er bleven Sproglærerinde for Assessor LassonsAssessor Lassons ] Ottilie Pauline Christine ( 1804 – 86 ) , født von Munthe af Morgenstierne , og Peder Carl Lasson ( 1798 – 1873 ) Døttre eller om jeg overhovedet har fortalt noget om hende , eller om Du erindrer det , hvis det er saa . Hun var her for nog [ le ] Aar siden som Gouvernante hos BurchhardsBurchhards ] Barbara Ring ( født 1794 ) og Johan Martin Burchardt ( 1782 – 1865 ) i Drøbak men da hun var intim lieret med TreschowsTreschows ] trolig Catharina Maria ( 1770 – 1838 ) , født Devegge , og Niels Treschow ( 1751 – 1833 ) ( Seip 2007 , 238 ) og HansteensHansteens ] Johanne Cathrine Andrea ( 1787 – 1840 ) , født Borch , og Christopher Hansteen ( 1784 – 1873 ) kom hun ofte til Byen , hvor hun vagte den allmindeligste Opsigt ved sine uhørte Kundskaber og sin Aandrighed . Hun deklamerte som en Engel , var hjeResten av brevet er tapt .\n",
      "[ Juni 1844 ] . Brev til Peter Jonas Collett .\n",
      "Brevs . 4 : a : 100 : a – b\n",
      "I Søndags vilde jeg gjort nogle Visitter , for siden at være fri , men lod det være da jeg var ualmindelig lidet skikket efter en ond Nat . Om Aftenen siger F : F : ] dvs. Fader I Morgen Eftermiddag ( Mandag ) beder jeg nogle Damer her , her skal være et Dameselskab . Jeg gjorde et svagt Forsøg paa at erholde en Galgenfrist , « om jeg ikke burde gjøre dem Visit først , jeg var saa nylig kommen » – « nei , det skal være i Morgen , Kalvestegen kan ikke taale at staae længer . » For dette uventede Argument forstummede jeg aldeles og foresatte mig at finde mig i min Skjebne . Mandag Morgen blev jeg kaldt ind for « at tages paa Raad » angaaende Invitationerne , enen ] ' n ' rettet fra ' t ' ved overskriving latterligt Formalitet , naar man kjender Faders grændseløse Despotie , hans Hensynsløshed for alle andres Ønsker og de Lidelser han kan forvolde , man skulde troe det var ford [ i ] det ikke er ham nok med en stum Underkastelse , men han maae utfordre , tirre en anden Villie for at kunne knuse denne . Han berettede at nu skulde alle Damer i Bygden uden Undtagelse bedes . Eidsvoldbakkens – Klokkerstuens – Touren rundt . Veiret var ondt og jeg gysede naar jeg tænkte paa dette Compagnie inde i de triste Stuer , gjorde dog ingen Modforestilling inden F. bemærkede at det var visselig « ikke for hans Skyld da han kjedede sig ved alle Selskaber , » da maatte jeg udbryde – men Gud – dog vel endnu mindre for min hvorfor da paalægge sig den Byrde ? Da brød det løs med de Ord : er os dog skrækkeligt at der aldrig kan bedes nogen her undtagen Trætte , saa var det med Moder , saa verer ] ' e ' rettet fra ' a ' ved overskriving det med Dig etc. etc. etc. – « jeg modsætter mig aldeles i [ kke ] forsikrede jeg , « er det nødvendigt at bede disse Mennesker , da skal jeg gjerne staae Dig bi og underholde dem saa godt jeg kan – kun synes jeg der burde saa indskrænkes dermed , da det var saa overflødigt med Eidsvoldbakken Langvæg etc. – og i dette Veir – ! « nei de maatte alle , ellers bleve de andre fornærmede » Jeg foreslog at bede de nødvendige : Mørks , Mørks ] dvs. Morks Linløkkens Olsens : Olsens ] Anna Nicoline ( 1805 – 86 ) og Ole Severin Olsen ( 1811 – 73 ) , personellkapellan hos Nicolai Wergeland mine Visitter , derved kunde ingen andre fornærmes – men uagtet disse Forestillinger bleve gjort saa lemfældig , som det staaer i et Menneskes Magt , frugtede de blot at han blev vred og sagde , « nu skal ingen bedes » . Jeg gik med denne Forklaring , Du kan begribe hvorledes tilmode som om man i al sin Skyldløshed havde begaaet noget Ondt . Efter en Times tid klarnede Veiret op – og det var ogsaa saa vidt klarnet i mig , at jeg gik ind til ham og opmuntrede ham til at bede dem Allesammen , « thi nu var Veiret saa godt . » Der gik Bud . Tilfældet var barmhjertigere end Menneskevillien , paa Grund af et Familieselskab der skulde gjøres paa Aas for en bortreisende Madamme kunde ingen eneste komme . I min Glæde gav jeg slip paa mit eneste Selskab Laura , Laura ] Laura Wergeland ( 1822 – 95 ) , gift Arnesen . Colletts kusine der ogsaa blev buden derop . – Om Aftenen , den triste Bordpassiar med Fader – aldrig har Stuen været ængsteligere uhyggelig , de stive Portraiter utaaleligere , aldrig har jeg hørt Uhret pikkepikke ] tikke ( ODS ) saa høit , saa ilfærdigt , saa rastløs feberagtig som om det ogsaa , greben af det Uhyggelige vilde paaskynde sine egne Timer , jeg aabnede Claveret og spilte noget for ham – hvad gjør man ikke under slige Omstændigheder ! – og jeg var dog fornøiet over ikke at have Selskab . Om det oplivede ham veed jeg ikke , men han blev mere meddelsom , og vi kom ind i en dyb Passiar der varede til der var bleven ganske mørkt i Stuen . Hvor lidet Glædeligt der blev forhandlet kommer det ikke an paa , jeg følte dog en vis Tilfredsstillelse da den var endt ved at han havde udtalt sig over saa meget der trykkede ham , der havde samlet sig i ham og jeg havde næsten den Følelse som om det var lykkedes mig at klarne og mildne nogle af disse skrækk for ham skrækkelige Ting hvoraf mange vare Bagateller . Han klagede som sædvanlig over at see sine Børn , « at de ingen Lykke havde gjort » , at OscarOscar ] Oscar Wergeland ( 1815 – 95 ) , Colletts bror forsømte at udrette hans Commisioner » , at HaraldHarald ] Harald Titus Alexis Wergeland ( 1811 – 93 ) , Colletts bror ikke havde lagt sig hans faderlige Formaninger paa Hjertet om at beflitte sig paa et høfligt , smidigt Væsen , til den første Post svarede jeg [ at ] vi i Grunden havde gjort Lykke over Fortjeneste allesammen Han klagede over den Sorg alle de Ubehageligheder H. H. ] Henrik Wergeland ( 1808 – 45 ) , Colletts bror voldte ham , om hans ( H ) Ulykke med A-aA- a ] Amalie Sofie Wergeland ( 1819 – 89 ) , født Bekkevold , gift med Henrik Wergeland – Facta der desværre vare sande , men hvis jeg eller nogen Anden vilde deliberedelibere ] feil for ' deliberere ' , dvs. overveie , drøfte dem , vilde det blot vække hans Vrede . Den Nat sov jeg godt og følte mig styrket bagefter , jeg besluttede da at benytte den til Visitterne . Det var i Gaar . Saa havde jeg Fred siden , tænkte jeg . Ak man skal ikke glæde sig for tidlig . Neppe havde jeg gjort Tilberedelserne til Touren , kantet BobsBobs ] dvs. Roberts Støvler etc. kommer Bud fra Fader for at « spørge » bede mig komme ind til ham , da han agtede nu at bede dem alle .\n",
      "skade med større teksttap : Her begynner et fragment som er beskåret i øvre kant ; det er uvisst hvor mange linjer som er borte . paa et Forsæt i disse Dage , med hvilken Bedrøvelse dog opgivet det det Ønske at sende Dig en Jordbærbærkage som jeg veed Du ynder saa ind med C. men netop igaar og idag – ikke mueligt at faae et Bær opdrevet – jeg bad i Eftermiddag Fru O. Fru O. ] Anna Nicoline Olsen ( 1805 – 86 ) , født Glatved – paa Liinløkken – paa Aas – fik allesteds det svar « ak hvor inderlig gjerne ! – men netop idag have vi ingen ! Da kom idetsamme vi skulde reise fra Aas en Gut med nogle – jeg blev saa glad holdt dem hele Veien saa forsigtig som om det var Guld men MartheMarthe ] husholderske på Eidsvoll prestegård nedslog strax mit Mod – med at det var alt for lidet for seent at bage den etc. Du veed jeg hader det elendige Surrogat som Folk kalde « god Villie » og jeg hader den overalt selv hvor den ikke tjener som Besmykkelse for Mod- og Hjelpeløshed – – jeg sender Dig altsaa ikke min gode Villie . Jeg siger med Dig – maae jeg bede om Resultat maae jeg bede om Jordbærkage . Godnat Bob glemmer ikke at sige Papa – jeg hvisker ham det i Øret hver Dag , for at have den Glæde at høre ham raabe dette Navn der klinger saa sødt i hans Mund . Forleden sagde Johanne at han laae og raabte paa Papa indtil han sov . God Nat .\n",
      "Lector juris Collett Christiania\n",
      "[ Juni 1844 ] . Brev til Peter Jonas Collett .\n",
      "Brevs . 4 : a : 99\n",
      "skade med større teksttap : begynnelsen mangler og siste del av første linje er skadet med bortfall av et par ord . virke slige Indtryk paa mit allerede førø mangler muligens diakritisk tegn modfaldne at jeg ikke finder Trøst i noget , ikkeengang i Tanken paa at jeg har et andet Hjem , hvor der er er Godhed og Kjerlighed , hvor Du er . ak tilgiv mig det ! thi det er fordi mit Sind er sygt – var jeg frisk og modig , vilde denne Betragtning gjøre mig riig , ja stærk nok til at bære det utaaleligste . Idag har Vorherre været os mildere , uagtet Morgenen begyndte med den samme Kulde som igaar , er Dagen endt med det blideste Veir – deri ligger en stor Redning , som jeg ogsaa har benyttet . Nu\n",
      "skade med større teksttap : Papiret er beskåret i øvre kant med bortfall av et uvisst antall linjer . Nu maae jeg slutte – – ak jeg vilde saa gjerne med noget godt for Dig – lad det da blive en Bøn som vi begge maae gjøre « Gud vær os mild og naadig » ! Kl 9 – – – Jeg var nede og spiste – Fader bad mig skrive til Fru C. Fru C. ] Marie Colban ( 1814 – 84 ) , født Schmidt og bede hende underrette Fru AasFru Aas ] Kirstine Aas ( 1791 – 63 ) , født Colban om hans Forsæt at tage RosaRosa ] Maria Augusta Rosalie ( Rosa ) Vedøe ( 1833 – 65 ) , Colletts niese derfra . Jeg indvendte intet Ord , thi det nytter jo ikke . Jeg bad kun om det turde gaae gjennem en Anden end mig , da jeg i Aften ikke mere kunde skrive . Vil Du bedste Ven sige hende det , naar Du engang træffer hende ? Men glem det for alting ikke . At skrive hende nu mægter jeg ikke – og blot regalereregalere ] beverte hende med den ubehagelige Commission synes jeg ikke godt gaaer an .\n",
      "bed Anne lukke Vadsketøiet under Laas indtil det skal tages .\n",
      "[ 7. juli 1844 ] . Brev til Peter Jonas Collett .\n",
      "Brevs . 4 : a : 102\n",
      "JohansJohans ] Johan Christian Collett ( 1817 – 95 ) , Peter Jonas Colletts bror Briller ? At de ikke findes kan jeg ikke forstaae . Jeg bragte dog paa det samvittighedsfuldeste alting , ligetil den mindste Box i Orden , inden jeg reiste . Det foresvæver mig at jeg lod Anne bringe dem ind til ham eller til Dig . eller at jeg lagde dem paa et Sted hvor Du let kunde finde dem . jeg haaber det er alt skeet men er dog ikke ganske rolig førend jeg faaer høre det . Tak for Pengene . jeg trænger ellers ikke til dem , da jeg har holdt saa godt Huus med dem jeg har . Her boer en svensk Skomager som gjør udmærket Skotøi . Hvis Du vilde lade Dine Støvler sye hos ham , saa fik Du dem med Tillæg syed for 1 Spd , medens derinde maae betale 3 . Send op Skind og en gammel Støvle skal jeg besørge det .\n",
      "Johanne opfører sig meget brav , er høflig og beskeden og holder BobsBobs ] dvs. Roberts Tøi og Person i priselig Stand . Den Formaningstale Du holdt til hende har virket ypperlig Jeg vilde ønske jeg kunde skaffe hende nogen Fornøielse heroppe , slige Piger kjede sig altid frygtelig paa Landet . Jeg veed ikke hvorvidt hendes Opsigelse der blev sagt i fjantetfjantet ] tåpelig , forvirret Hidsighed uden mindste skjellig Grund er bindende , men vil hun vedblive at være som hun nu er saa vil jeg gjerne beholde hende . Bob er sød og indtager Alle . Man mærker intet mere til hans uartige Vane . ja paa Reisen opførte han sig saa exemplarisk at han med Respect at sige , selv søgte under Sengen naar vi kom ind paa Skifterne . Han har gjort nogle smaae Antydninger til nye Begreber , han distingerer mellem flere Dyrearter , naar han seer en Kat raaber han Pu , Pu . Hønsene kalder han Appa , og aldrig seer han en Sau uden at raabe bæ , bæ . Men det underligste er at han anbringer dette bæ , bæ hvergang vi , paa vore Kjøretoure møde Badegjæster . Dog naar Du saae denne Race der iaar græsse paa vore Marker og gaae løse omkring ii ] rettet fra ' paa ' ved overskriving vore Alleer , paa vore Veie , saa vilde Du ikke finde denne Feiltagelse af Bob saa utilgivelig enda . Den Norske Nation er i grunden ingen smuk Nation\n",
      "– Jeg begriber godt Din liden Lyst til at gaae til Lassons.Lassons ] Ottilie Pauline Christine ( 1804 – 86 ) , født von Munthe af Morgenstierne , og Peder Carl Lasson ( 1798 – 1873 ) Jeg vil aldrig mere benytte mig af denne Ret , da jeg føler den bestemteste UnbehagenUnbehagen ] tysk : ubehag ligeoverfor Fru L. Mine Bekjendte kan jeg snart inddele i 3 Klasser : dem hvis Selskab jeg ikke kan taale ( blandt dem nogle betydelige Individer ) dem jeg betingelsesviis holder af at være sammen med , og dem jeg uden Betingelse finder mig vel ved – ak disse sidste ere saa faae , deres Antal er smeltet saa sammen at jeg neppe tør nævne dem ved Navn , for ikke at maatte kassere nogen af dem . D Ja Du har ret : « ein Königreich für einen Menschen » ein Königreich für einen Menschen ] tysk : et kongerike for et menneske kunde man sige a la King Richard , a la King Richard ] Shakespeares Richard III , « My Kingdom for a horse » og dog har Du et større Repertoire af udholdelige Venner end jeg , dette ligger deels i Din facilere Natur og deels i deres ( Vennernes ) større Værd . Havde Du ikke Lyst en Aften medens jeg er borte at bede Welh.Welh . ] Johan Sebastian Welhaven ( 1807 – 73 ) og Halfd . KjerulfHalfd . Kjerulf ] Halfdan Kjerulf ( 1815 – 68 ) op til Dig ? Naar jeg kommer kan det ikke skee . Siig til SibbernSibbern ] trolig Georg Sibbern ( 1816 – 1901 ) at jeg er oprigtig bedrøvet over at han skal reise . Vi have intet at miste end sige det Bedste .\n",
      "Der var endnu meget hvorpaa jeg vilde svaret – naar blot ikke Budet i Bakken reis . Om denne fuldstændige « Gaaen op i den Anden » , hvori man vinder « den rette Selvstændighe [ d » so ] m Du saa smukt skildrer , er min Natur egen , veed jeg ikke . Jeg troer den er meget sjelden naar den skal være af den rette Art , man maatte da elske Gjenstanden saa at man kunde hvile med al sin BetragtnignBetragtnign ] feil for ' Betragtning ' alle sin [ e ] Erindringer i den . Det er ingen Sag under en mægtig Passion , saaledes at gaae op i den Anden , og for sig selv , men det maatte ogsaa kunne være mueligt ved hiin selvvundne , beskuende Kjerlighed der maaskee eneste sande , fordi den er baseret paa noget der aldrig skuffer . Ak til at omfattes med denne Hengi [ venhed ] har Du alle Betingelser . Naar jeg blot kunde rede mig ud af dette Edderkopnæt af dæmoniske Erindringer , naar jeg vandt rigtig Fred og Ligevægt ! Skal den Tid aldrig komme ! skal Du eller jeg døe inden ? nei , nei blot derfor kunne vi ikke døe . Jeg veed Du tilgiver mig hvis jeg skulde døe , men jeg vilde aldrig tilgive mig derfor kan Du ikke døe . God Nat min Ven . Jeg veed ikke hvordan den Dag i Morgen , jeg veed ikke hvordan næste Time bliver , men i dette Øieblik føler jeg mig stærk til at taale meget for Din Skyld .\n",
      "12. juli 1844 . Brev til Peter Jonas Collett .\n",
      "Brevs . 4 : a : 101\n",
      "Kjere min Ven ! Jeg er langt ifra i noget Skriverlune saa Du maae ikke vente noget elskværdigt Brev – mit forrige tillige – med Bogpakken addr . « Portneren i Maltheby » har Du vel bekommet ? Fru Arenz , Fru Arenz ] trolig Dorothea Marie Arentz ( 1799 – 1883 ) , født Rosenberg , gift med Mikael Smith Arentz ( 1794 – 1853 ) den arme , syge Kone reiser ind i Morgen med 2 leiede Heste i en magelig , deilig Vogn der tilhører Mad Kjøsterud . Manden bier til Søndag for at faae Skyds op igjen . Kan Du , saa benyt denne gode Leilighed , men er det Dig umueligt Søndag , da har jeg faaet Mad Kjøsteruds Tilladelse til at Vognen kan blive derinde indtil ud i Ugen . Men Du maae DuMen Du maae Du ] feil for enten « Men da maae Du » eller « Men Du maae da » leie Heste i Byen og det er kostbart . AletteAlette ] Alette Sem ( 1824 – 53 ) , gift med Oscar Wergeland ventes i disse Dage . Helst vilde jeg havt lidt Forsprang inden her kom nogen , jeg trænger til at samle mig lidt efter de sidste Dage der have sadt mig følelig tilbage . Søndag , Mandag Tirsdag har Barometret staaet paa Regn , meget Regn og « mange Badegjæster . » Min SøndagsbulletinMin Søndagsbulletin ] trolig brevet [ 7. juli 1844 ] ( Brevs . 4 : a : 102 ) har Du faaet . Den største Deel af Mandag laae Fader til Sengs – jeg maatte modtage den hele Søgaardske Famil [ ie ] Dermed troede jeg at Luften var renset for det første , og vi indrettede os rigtig huuslig Tirsdag Formiddag ; jeg klippede og syede Støvler til Bob , Bob ] dvs. Robert og hele Bordet var et Værksted , da banker det paa Døren igjen , og ind træder Doctoren med Svoger , Søstre Cousiner og Gud veed hvor mange Slags Familielemmer ! Naar de enda selv bidroge noget til Underholdningen saa blev det piinligste ved disse meningsløse Besøg lettet , men de 2 Damer – hvad siger jeg , de 4 Damer jeg fik paa min Part saa ud som de sadde paa Spid , saa forpiinte og generte . . De gik og jeg søgte at drage lidt Luft nede i Haven . Her mødte vi det ene Følge efter det andet , deels af Reisende , deels af de egentlig Priviligerede . . . men nu var jeg bleven hærdet og i en Tilstand af Følesløshed gik jeg ordentlig løs paa dem . SchelderupSchelderup ] Christian Bernhard Koren Schjelderup ( 1819 – 89 ) og Frøken ArenzFrøken Arenz ] Dorothea Mariane Arentz ( 1824 – 49 ) , gift med Christian Bernhard Koren Jørgensen Schjelderup fulgte med hjem . Formiddagen var imidlertid blot en Forsmag paa , paa ] først strøket og dernest er strykningen opphevet med prikker under ordet en Appetitsup til Eftermiddagens Glæder – og Du spørger mig hvorfor jeg ikke sov i Nat ? Vi havde jo vort store Selskab i Gaar , har Du glemt det ? Ja jeg siger Selskabeligheden paa Landet er en Uting , en Rædsel . At skulle more et saadant Selskab er en fast umuelig Opgave . Her bliver ikke mere Tale om at kjede sig selv – var det ikke andet ! – Allerede Tilberedelserne til et saadant Selskab ere saa gyselige Kl 4 stod allerede et stort Slagbord dækket med Tallerkener i Rader som til et Bondeliigfærd . Engel DahlinEngel Dahlin ] Engel Dallin ( Dahlin ) ( 1792 – 1862 ) med Følge kom Kl 4 ½ men var ikke at formaae til at røre noget inden Selskabet var samlet – de sidste kom Kl 6 . Bagefter gik da Underholdningen løs . Endnu engang – jeg vilde hjertelig tilgive disse godmodige Mennesker deres aandelige Trivialitet , og deres lille bitte , bitte Anskuelseskreds , der for hvert Aar gaaer mere til , naar de blot ikke faldt paa at blive stive og generte , naar de komme med i vore ulyksalige Selskaber . – Uagtet jeg har skrækkeligt Hastværk maae jeg fortælle om den Sang Frøk . W. ettergreen gav til Bedste . Efter en Ammestuesang i Smag som den : Granen stod paa Bjerget , Reden sad Granen , Ægget laae i Reden etc. der med bestandige Gjentagelser gik igjennem alle Dyrearter , en Sang som Bob fandt fortryllende , foredrog hun Sangen af Preicosa.Preicosa ] dvs. Preciosa , opera av Carl Maria von Weber . Utdrag av denne hørte til standardrepertoaret på 1800 - tallet . Teksten er av Pius Alex . Wolff . Den overgik rigtignok Alt , hvad jeg havde hørt og vel nogensinde kommer til at høre af musikalsk Præstation det var en Blanding af Pappegøiens meest skrattende , hæseste Toner og den naturligste Kattemiauen , til et Slags vildt , improviseret Accompagnement og tænk Dig den smægtende Melodie ! Ensom er jeg etc. – om det var de Ord veed jeg ikke – der er kun 3 Vers i den Sang , men hun sang vist 10 . Fader vendte sig om og saae forbauset paa mig . Derpaa gik han hen til Vinduet . Jeg vedligeholdt en ubegribelig Fatning . De øvrige Tilhørere – hvoriblandt Pappegøien selv , sad stive og alvorligt som Billedstøtter . Siden den bekjendte Violinduo som Emma og MalvinaEmma og Malvina ] søstrene Emma ( 1817 – 92 ) , gift Lund , og Malvina ( 1820 – 1909 ) , gift Døderlein vist aldrig glemmer , have vi ikke havt en saadan Kunstnydelse her i Præsteg . derefter legte vi Ringen nogle Timer ; Ringen , Hvidskelegen ! ! . ! Jeg saa paa Bob der sprang omkring saa straalende fornøiet da blev jeg fort bevæget , jeg tænkte paa den Tid jeg selv var et lille Barn , og løb saa lystig omkring naar der var Fremmede i Præstegaarden , da laae maaskee ogsaa Kjedsommeligheden som et Tryk paa de Voxnes Hoveder da var det ogsaa dem der bar Hvælvingen hvorunder de Smaae legede . Lev vel . Kjere benyt endelig Vognen og kan Du slet ikke da laan en Kariol . thi Skydskjærre maae Du love mig ikke at tænke paa .\n",
      "[ Juli 1844 ] . Brev til Peter Jonas Collett .\n",
      "Brevs . 4 : a : 106\n",
      "Har intet egentlig at sige Dig efter det jeg sendte idag – – hjemkommen netop fra en Tour , hører jeg der gaaer tidlig et Bud fra Mørk , Mørk ] dvs. Mork i det Haab at han tager Din Kuffert lader jeg en Pige nu gaae derhen . Har intet andet at sige Dig end at jeg længes efter min stakkels Gut – at jeg tænker ofte med en vemodig Kjærlighed paa ham men da ingen kan svare mig paa min Tanke gaar jeg her og hvisker BobBob ] dvs. Robert « Papa » i Øret , og saa siger Bob « Papa , Papa ganske sagte saa ingen uden jeg hører det . God Nat ! Jeg møder Dig Lørdag Kl 8 paa Raah.Raah . ] dvs. Raaholdt\n",
      "Giv Budet nogle Skil [ linger ]\n",
      "skade med større teksttap : Papiret er beskåret så én eller flere linjer av adresseteksten er tapt . Bygmester Malthes Gaard i Aggersgaden Christiania\n",
      "[ 17. august 1844 ] . Brev til Peter Jonas Collett .\n",
      "Brevs . 4 : a : 103\n",
      "Dette min egentlige første Opsidden – de forrige Gange har jeg mere lagt paa Sophaen – nu føler jeg dog Gulvet under mine Fødder og kan frit bevæge mine Arme – min første Brug af dette nyenye ] ' n ' rettet fra ' m ' ved overskriving ligesom gjenvundne Liv , mine første svage Kræfter vilde jeg offre Dig – Naar jeg blot – naar jeg blot kunde det ret Mine Ord vil være endnu svagere , naar jeg vilde forsøge at takke Dig for Din uendelige Kjerlighed . Gud velsigne Dig derfor ! – lad ham opfylde Dine Drømme om en lykkeligere Fremtid . Ogsaa jeg – jeg Din stakkels Camilla fyldes undertiden af en sød Fortrøstning derom – o gid – gid – jeg drømmer mig en Fremtid fuld af Styrke og Ligevægt i de onde Timer – o blot slige Timer ere gode , naar vi dele dem ret – nu forstaaer jeg det . Og de glade Dage – ! Dage med fulde af Livslyst Sang og milde Miner ! Denne Fortrøstning fødes gjennem slige Dage som disse , Smertens og Hengivenhedens ! Lad os haabe !\n",
      "og nu Lev , lev vel ! og vær trøstig og glad .\n",
      "Din C.\n",
      "[ August 1844 ] . Brev til Peter Jonas Collett .\n",
      "Brevs . 4 : a : 104 – 105\n",
      "skade med større teksttap : Øvre del av siden er klippet bort , også andre linje er skadet . jeg var lidt forlegen ved at jeg ikke kunde disse som Du veed de Gamle nu engang sættersætter ] ' sætt ' rettet fra ' lægg ' ved overskriving saadan besynderlig Priis paa . Han gjorde ingen Hentydning selv , men ved at tale om Opkaldelsen yteredeyterede ] feil for ' yt ( t ) rede ' han at hans Navn sandsynligviis døde ud da hans Sønner ingen Børn fik – jeg meente det havde ingen Nød , der var endnu godt Haab , og tilføiede om vi skulde sætte Navnet W. til den lilles , da hans F-s F-s ] dvs. Faders Døbenavn , af Grunde som jeg angav , bestemt maatte forkastes . Har Du nu noget , det er , meget imod at vi for Alvor gjør dette altsaa : . . . . . . Wergeland-Collett ? Wlodek har undersøkt strykningen og bekreftet at det står « Wergeland-Collett » . Dessuten kunne han fortelle at blekket som er brukt til strykningen er tidligst fra 1856 fordi det er et stoff i som man fant det året . Blekk basert på dette stoffet ble først utbredt noen år senere herregud , et Navn hvormed han ikke kaldes gjør jo ikke noget til Sagen – og saa redde vi os engang for alle fra alle Bebreidelser .\n",
      "Mandag . Siden Fredag har jeg ikke skrevet . Løverdag tegnede Veiret godt der kom nyt Liv i os alle – Fader kjørte Høe om Eftermiddagen – Bob , Bob ] dvs. Robert der har givet sig godt tilfreds inde hele Ugen , blev med et , ustyrlig som en Kalv – jeg gjorde en Spadseertour hen til Husken . Men igaar , store Gud , hvilken Dag ! der skal meget til ikke at tabe Modet . Dette skrækkelige Veir sætter mig meget tilbage , jeg føler hvor rask jeg vilde være var det mildt og godt . Denne Fugtighed i alt det Tøi , man trækker paa ! Endnu har jeg megen Ulempe med mit Bryst . Ja , der skal Taalmodighed til . I nogle Dage efter Din Afreise var det bedre , jeg troer fordi Barnet var roligere , sov mere , og han fik regelmæssigere – men nu er han bleven den værste Skrig- og Slughals jeg har seet Mage til – han er vaagen næsten hele Dagen og skriger naar han er mæt sulten og skriger naar han er mæt .\n",
      "skade med større teksttap : Øvre del av siden er klippet bort.Troer Du ikke ogsaa jeg glæder mig til den Time da jeg skal komme , med mine 2 Rollinger , og modtages af min kjerlige Ven ? Mon han glæder sig lidt ved at faae sin stakkels C hjem igjen , har jeg tænkt , naar jeg udmaler mig dette Gjensyn – – da læste jeg den ene Linie i Din Seddel – Tak , Tak for denne Forvisning . Ja , ja jeg glæder mig ! jeg frydes ved mit Hjem fordi Du er der , Du og det ere Et .\n",
      "Kl . 5 Eftermiddag . Idag er alting lysere og venligere . Solen skinner – Gutten er snild , jeg har taalt ham ved det bare Bryst – og det gaaer an . Her er fuld Travlhed med at skjære Korn – vi ere idag ialt 64 Mennesker med begge de mindste Personer . Jeg kommer just fra et Familietableaux som jeg ønskede Du havde seet . Mama i Lænestolen med en stor Pude paa Skjødet , paa denne laae den Mindste i ivrig Forretning ved Siden af ham en lille sort , nydelig Puus , i en yderst familiair Stilling som om den ønskede at indtage den anden Plads – paa Skammelen Bob i dyb Beskuelse af afaf ] gjentatt ved linjeskift de 2 , uvis hvem han meest skulde beundre , og endelig LauraLaura ] Laura Wergeland ( 1822 – 95 ) , gift Arnesen . Colletts kusine knælende , beundrende den hele Gruppe .\n",
      "Tirsdag . Skjøndt der idag gik et Bud foretrækker jeg at sende dette med Posten , da det kommer hurtigere , og sligt et Bud maae man alligevel betale . Idag er Veiret i sin gamle Orden . Det er ugjennemtrængeligt Graat , øsende Regn . Ak hvor qvægende en eneste Dag som igaar er ! Jeg var en heel Tour omkring i Haven og op ad Klokkerstuegaden da Kl var 6 – 7 . Solen skinte saa mildt , der vrimlede af Folk og alleslags Dyr nede paa Agrene og i Veiene – , den hele Scene oplivede mig forunderlig – for mig , der har staaet med den ene Fod paa « hin dunkle Side » , forekom Livet med et saa nyt , saa rigt , og det midt i denne sin Indskrænkning . Ak ja Guds Luft og Sol er bedre end at ligge under den sorte Kiste . Jeg gjenkaldte mig hiin dunkle triste Aften da Du og jeg sidst vandrede denne Vei sammen , jeg under de vaagnende Smerter , da sagde jeg det ikke , men medens vi gik gjennem Alleen foer der en Dødsgysen gjennem mig ved den tanke at man maaskee næstegang – – – – – vær hilset Liv ! –\n",
      "Beed SophieSophie ] kanskje Sophie ( Augusta ) Steenstrup ( 1811 – 72 ) , Peter Jonas Colletts søster , gift med Peter Severin Steenstrup gjøre mig den xxxx ] Dette er kanskje et innføyingstegn , men vi finner ikke tekst som kan passe inn her .\n",
      "25. januar [ 1845 ] . Brev til Peter Jonas Collett .\n",
      "Brevs . 4 : a : 107 : a\n",
      "Her ere vi da ! BobBob ] dvs. Robert sov næsten den hele Tid , han sad med Benene oppe paa Sædet og med Hovedet paa mit Skjød , og han vaagnede netop saa at jeg kunde faae ham munter til vi kom frem . Jeg har været ved godt Mod hele Veien , kun den sidste Deel af Veien ensom i Mørket , faldt mig saa trist , jeg følte mig saa beklemt da jeg kom i Alleen og denne Stemning vedligeholdt sig hele Aftenen , det er næsten altid Tilfældet den første Aften . Naar jeg kommer i Nærheden af Kirken sender jeg altid en Bøn op til hende som er bortehende som er borte ] Colletts mor Alette Dorothea , født Thaulow , døde i 1843 – Hun var dog mild , og glad naar vi kom hjem – at hendes Aand vil boe og bygge blandt os saalænge . Fra de 3 forskjellige Veie der fare ned til hendes Hvilested var det ligesom længselfulde Arme strakte sig ud mod os , mod Livet som hun saa nødig vilde forlade .\n",
      "Fader er venlig og mild Stakkel ! han beskjeftiger sig meget med Bob . Paa ham har Touren virket ganske anderledes han er reent forstyrret af Glæde og Overgivenhed , han veed ikke paa hvad Fod han skal staae , saa han som oftest kaster sig i Gulvet – I Gaar Aftes fik vi ham ikke Søvnham ikke Søvn ] her har hun uteglemt ordet ' i ' for Latter og Spectakler . Jeg sover først ud paa Morgensiden , men da vaagner uheldigviis Bob og han kommer da op i Sengen til mig , og saa er der rigtignok ikke at tænke paa at faae sove mere . Maaskee vi kunde lade ham ligge inde paa Salen hos MartheMarthe ] husholderske på Eidsvoll prestegård saalænge , til jeg kom lidt bedre i Tour med at sove . Der er godt og varmt og M. vilde vist passe ham saa godt som jeg .\n",
      "Næste Postdag skal Du faae bedre og nøiagtigere Beretning . Veiret er godt , LauraLaura ] Laura Wergeland ( 1822 – 95 ) , gift Arnesen . Colletts kusine og jeg gik en deilig Tour ud over Strandveien i Dag .\n",
      "Gud være med min bedste Ven\n",
      "C .\n",
      "Lector juris Jonas Collett Malthes Gaard Kristiania\n",
      "[ Våren 1846 ] . Brev til Laura Wergeland .\n",
      "Brevs . 3 : 188\n",
      "Kjere Laura !\n",
      "Hvor jeg angrede paa , at jeg ikke bad Fader om , at Du og R. R. ] Maria Augusta Rosalie ( Rosa ) Vedøe ( 1833 – 65 ) , Colletts niese kunde blevet efter nogen Tid , havde jeg vidst at Vognen skulde hentes da havde jeg ogsaa sikkert gjort det . Alf har siden slet ikke været rask , det var ængstelig at see ham , naar han laae og foldede sine smaae Hænder med sine forklarede Øine , han var som et Voxbillede . Men Gud skee Lov han kommer sig godt . Han har faaet en saadan Passion for at høre « Mutitten » ( Musikken der spiller udenfor Palaiet hver Dag ) at Sybilla hver Dag som Veiret er godt kjører dem derned i den lille Vogn .\n",
      "Nu har jeg faaet det gamle Speil hjem fra Forgylderen . Endskjøndt Restaurationen ikke er synderlig vellykket – thi der skal andre Hænder end plumpe , norske til at behandle et saadant Kunststykke , – saa tager det sig dog yderst prægtig ud , især ved Lys – og jeg drømmer fremdeles den samme Drøm , at see den lille Hjørnestue fuldstændig meubleret i den Smag . Sengen skal nu flyttes ud og Vinduet afdækkes . Der behøvedes faae Meubler dertil , og de Sager jeg allerede er kommet paa Spor efter vare mere end tilstrækkelige – – men hvorledes røre deres Hjerter der eie dem , til en rimelig Afstaaelse ! Speilet paa Vengerbakken – Marmorbordet hos Manden i Sørum – – et Par smaae Consolbord samt nogle faa Stole – naar jeg havde det i mit Eie , hvor skulde jeg være glad , Du skulde see hvilken Effect jeg skulde frembringe ! Kjere Laura hvis Du kan gjøre mig nogen Tjeneste i dette , da skal jeg vist bestræbe mig for at vise Dig at jeg paaskjønner det . Jeg har som Du kan begribe ikke gjøreikke gjøre ] her har hun uteglemt ordet ' kunnet ' noget Skridt jeg som er saa bunden . Alligevel har jeg ikke spart Umagen , naar der gaves Anledning . Kunde Du ikke faae Lov af Fader at besøge AlbertineAlbertine ] Albertine Veset ( født 1813 ) , født Tønsager i Næs . af hende faae Oplysning om hvad for gamle Sager der findes – hun sagde paa Naboegaarden var det – samt melde mig det . Helst vilde jeg have nogle gamle Stole . Er der blot Udskjæring paa dem saa kunne de gjerne være stygge og afslidte . og 11 ] rettet fra ' et ' ved overskriving af 2 Consolborde . Skulde der i hele Næssogn , hvor der boer saa mange rige Bønder ikke være meget saadant at finde ! Mad . paa Frilseth skal ogsaa have Consolbord . Vil Du dernæst spørge KaasenKaasen ] Ole Kaasen ( død 1853 ) , lensmann om han har faaet noget Svar fra Manden paa Vengerbakken .\n",
      "Det Uldgarn jeg fik til Trøier var desværre saa fiint at det Strikkede bliver som et Flor . Hvis MartheMarthe ] husholderske på Eidsvoll prestegård vilde være af den Godhed at lægge 1 Traad til , saa det bliver 3 istædetfor 2 saa bliver det passeligt , samt tvinde det noget op da det er saa fast tvundet . Jeg skal da sende hjem noget deraf . Resten kan jeg bruge til en tynd Sommertrøie .\n",
      "Hvis Jomfru M. reiser til Byen da bed hende besøge mig . og skriv mig snart til , kjere Laura hvordan det staaer til med Fader , og hvordan I leve . Din C.\n",
      "Til Laura .\n",
      "[ 27. juli 1846 ] . Brev til Peter Jonas Collett .\n",
      "Brevs . 4 : a : 107\n",
      "Mandag .\n",
      "Her regner uafladelig , Gud naade os ! Alle Veie og Stier ere gjennemblødte . Det værste der kan treffe os er Regnveir heroppe , da blive Husets Mangler alt for følelige . Naturen maae til i dens gjestfri Ly er der Plads til mange Smaaesorger . Fader ligger temmelig længe om Morgenen indtil da maa der ikke gaaes i en Dør eller tales høit , er han endelig gaaetgaaet ] ' g ' rettet fra ' s ' ved overskriving op , saa begynder Kathrine at vaske og feie . I Forgaars fattede jeg den heltemodige Beslutning at bede Gjesterne til i GaarGaar ] rettet fra ' gaars ' ved overskriving Søndag . Bedst at samle dem paa et Bret tænkte jeg , og bedre sringesringe ] feil for springe ; ' s ' rettet fra ' k ' ved overskriving i det end krybe i det , og derfor reed LauraLaura ] Laura Wergeland ( 1822 – 95 ) , gift Arnesen . Colletts kusine og jeg i lystigt Regnveir Lørdag til MørkMørk ] dvs. Mork og Linløkken for at invitere . paa denne Maade undgik vi formelige Invitationer , der da maatte udstrakt sig mange flere . Men Veiret blev saa frygteligt at vi maatte sende Afbud , nu have vi det « til Gode » . til i Morgen . Her var alligevel nok at varetage i Gaar . En fremmet Provst , samt Søegaard til Middag , hvilke jeg medens Fader sov Middag underholdt paa det bedste , men i en Tilstand af Træthed og Søvnighed som truede med at overvælde mig . I Gaar Eftermiddag Visitter af 3 fremmede Damer , der kom for at takketakke ] rettet fra ' tag ' ved overskriving for den Gunst at have nydt Adgangen til Haven ! I Morgen skulle vi have foruden Bygdens , Arentzes , Arentzes ] trolig Dorothea Mariane , ( 1799 – 1883 ) født Rosenberg , og Mikael Smith Arentz ( 1794 – 1853 ) Frøken Wettergren Jomfru Schøyen , Frøkenerne Frederiksen , Jomfru Horster og Gud veed hvem flere . Forleden Morgen kom jeg kun 10 Minutter før ' ø ' mangler diakritisk tegn 8 ned i Haven , ( Kl 8 gaae de nemlig ned at spise Frokost da maae jeg passe paa ) allerede i den første Allee jog nogle Hatte og røde Schavler mig tilbage jeg lod dem passere , medens jeg dybsindig betragtede Engen indenfor og de vist ikke mindre dybsindig min Ryg en graae Morgenkjol samt et Par Strømper der ikke var første Gang paa , men nu havde jeg vovet mig i Ilden og nu maatte det gaae , jeg kom temmelig uanfægtet ned i Haven , hvor der vrimlede ; maneuvrerte behændig forbi Mad . Kjøsterud med 2 tykke , fregnede Døttre der viste sig ved Enden af en Gang og tog min Tilflugt til Lunden . Her var jeg sikker troede jeg , her havde jeg i det store runde Lysthuus sat et lille Bord , hvor jeg skrev saalænge Veiret var godt , og jeg havde aldrig truffet nogen deroppe . Jeg træder lige ind paa – en Lieutnant i rød Uniform og en tyk Mand med graae Hat , der de eneste Herrer ved Badet ! demaae have leet af min Forfærdelse ! Dernæst listede jeg mig ned i Hasselalleen , her gik jeg 3 Gange , saa kom Lieutnanten og den graa Hat efter , jeg vender mig for til Retirade men fra den anden Ende Alleen kommer et heelt Følge med Damer , der var jeg endelig fangen ! – – – Nei , tænkte jeg ! Da 1000 Gange heller Herrerne i Vold , og vender atter om ! Der har Du en kort men sandfærdig Skizze af mit Landliv ; paa Balstigen og Drømmely sætter jeg ikke min Fod . ikke saameget af Frygt for at treffe Uvedkommende , men de Steder have for mig tabt den Tillokkelse som laae i den fredede , idylliske Uberørthed ; siden Fremmede nedtrampe Engen der og kludre deres dumme Navne og Tanker paa Væggene , er det ikke mere Balstigen men et offentlig Sted , den mangler bare en Keglebane Balstigen vort gamle Paulun , men et offentligt Sted , der mangler blot en Keglebane . Trods disse Skyggesider tillister jeg mig dog Timer Dage og Timer heroppe hvor jeg har det godt . Her er saa ubeskrivelig deilig . Ved Lauras Omsorg er Haven og Lunden bleven ryddet og renset , den er forynget . Naturen har saadan besynderlig qvægende og beroligende Magt – jeg kan drive omkring udenat blive træt , paa de samme Stier og Veie – det Ensformige qvæger mig netop jeg har ingen Trang til Afvexling . Da maae jeg rigtignok føle mig fri , i enhver Henseende , for Folk , for enhver huuslig Bekymring . Slige Timer ere mine bedste . Der spirer noget i mig da der intet Tryk lider . O jeg forstaaer saa godt min Natur nu mit Liv heroppe og tildeels det i Sommer har gjort mig klar over den . Det er en vis Frihed , som der er en vis Tvang nødvendig til min Livslykke og gjennem den ogsaa til Din – Naar jeg er glad holder jeg mest af Dig . Du har truffet det rette Udtryk : jeg kan ikke har ondt for at samle mit Væsen paa et Sted . Jeg mærker Naturen har den Magt over mig , naar jeg blot kan hvile sorgløs paa den , er det blot momentan viis til en Prøve , ligesom her , hvor der i næste Time indtræder noget Forstyrrende igjen . Ak det bliver vor den gamle Vise igjen : at eie en Plet , der var vor , vor egen og ingen andr [ e ] s , – hvilken Hellighed Betryggelse , hvilken Beskyttelse der ligger i Eiendomsretten er mig først nu ret indlysende . Med Hensyn til Mennesker , da veed jeg nu bestemt , at intet virker mere opløsende , adsplittende paa mig , end disse Hverdagsconflicter med ligegyldige , ubetydelige Mennesker , jo flere man kan restererestere ] mangle af slige Forhold , jo bedre det virker altid tvangfuldt og ubehageligt og efterlader blot Adspredelse og Tomhed . Vi have i Sommer havt Alt for meget af det . Er det Svaghed , Eftergivenhed af mig at jeg saa ofte mod min Villie udsætter mig derfor ? troer jeg dermed at hævde en vis Ømfindtlighed i mit Væsen ! Det nytter ikke . jeg lærer det aldrig . Boede vi paa Landet , blev jeg en fuldstændig Eneboer . Det er en ganske anden Tvang , den , virkelig dannede , overlegne Mennesker paalægge En . Det styrker og hæver ligesaameget , som det andet slapper og nedstemmer . Vandkure duer ikke for mig – men et godt Glas stærk Viin imellem hvad mener Du om den ?\n",
      "Havde vivi ] rettet fra ' jeg ' ved overskriving Raad vilde jeg ordne vore Livsforhold omtrent saaledes – eie en Bolig med Have der havde en smuk og ialfald eiendommelig BeliggenhedBeliggenhed ] rettet fra ' Belighed ' ved overskriving – helst lidt afsides – have en Selskaberske hos mig – gaae skjelden ud helst i meget store Selskaber – oftere see nogen hos os – engang imellem gjøre en Reise Forøvrigt maatte Himlen lægge sin Velsignelse til . havde vi Raad – ja havde vi Raad til at blive lykkelige .\n",
      "I Nat drømte jeg en underlig Drøm . Jeg havde reent glemt vore Høiesteretsadvokatsplaner fra i Vinter , i Nat drømte jeg at Du var det , at vi havde bygget os et Huus og jeg stod og saae ind gjennem Vinduet hvordan der saae ud . Som en Forvridning af min rococcosmag var nu alt paa chinesisk , der stod en Seng med en enorm Paafuglevifter liig hans Helligheds , samt mange snirklede , curiose Ting . – Ude II ] rettet fra ' i ' ved overskriving Haven herskede den samme Smag , der var en fiirkantet Dam og saa mange underlige Anlæg . Det kom vist af at jeg skrev igaa [ r ] meget flittig paa min Skizzemin Skizze ] fortellingen « Kongsgaard . En Skitse » ( trykt anonymt i Hjemmet og Vandringen . En Aarbog for 1847 , utg. av P. Chr . Asbjørnsen , Chria . , 37 – 76 ) og reenskrev netop Dit Stykke om Parke [ n ] Jeg har virkelig gjort mig Umage med denne , og duer den ikke nu , saa er det sandelig ikke min Skyld . Bliver jeg ved at qvakle mere med den nu saa er jeg bange for det gaaer den som med « Lenore » , som paa Grund af lutter Forbedringer og den blev haanlig kasseret , maaskee den i sin oprindelige Skikkelse havde behaget bedre . Det er ikke værdt min Ven at sende den ind naar Du kommer kan Du gjennemgaae den . og paa Grund af den virkelige Umage jeg har gjort mig med den , vil Du vel fare lidt varlig med den . slet ikke Du bør slet ikke bie og slaae Dig sammen med Sems.Sems ] Niels Arntzen Sems ( 1782 – 1859 ) , stiftsamtmann , og hans døtre Alette ( 1824 – 53 ) , gift med Oscar Wergeland , og Valentine Egidia ( 1826 – 96 ) , gift Heyerdahl Skal Du have noget godt af Dit Ophold da bør det være i samme Smag som mit , hvad jeg id [ et ] mindste søger , er denne stille Roe , denne ugenerte Frihed til at arbei [ de ] og slentre omkring , der vilde gevaltig forstyrres ved Fremmedes Næ [ r ] værelse . jeg er skinsyg over enhver Afbrydelse . Kom Oberste K. Oberste K. ] Friedrich Gustav Maximilian Kaltenborn ( 1782 – 1859 ) vilde jeg blive reent fortvivlet . Kom Du op nu vilde Du have den skjønnest [ e ] Roe til at arbeide . vi fordrer Tiden hver paa vor Kant . Der reiser ikke skjelden Folk ind der skydses af Bønder , vil Du saa skal jeg sende en saadan op til Dig ? Det vilde blive vel saa billig .\n",
      "Hvor traurigt det er med Fader , kan jeg ikke sige Dig . Det er mindre hans legemlige Tilstand der vækker Bekymring , hvorvel han klager altid over noget , men det er hans Sjels Tilstand . Hvilket Øde , hvilket traurigt Liv ! Der findes da ikke en Smule af Interesse for noget mere . O det er fortvivlende at høre ham tale og ikke kunne trøste ham . Arme arme Fader !\n",
      "Forstaaes Satiren i dette hvide Blad ?\n",
      "[ Mai 1847 ] . Brev til Peter Jonas Collett .\n",
      "Brevs . 4 : a : 109\n",
      "Du har Ret kjere Ven , naar Du siger man maae skade med større teksttap : Papiret er skadet i høyre og venstre kant øverst så deler av de øverste linjene , frem til « Dette faaer trøste ... » , er borte . disse Reiser til E. blot alene for Reisens Skyld . Det er og traurig og hundrede Gange udtalt Sandhed at Midlerne her hos eds Opnaaelse ere i den Grad besværlige og ufuldkomne , ikke bliver Tale om et Gode i og for sig , men blot mod H en større eller mindre Lidelse man har udstaaet for at det . Dette faaer trøste D. ved at tænke paa at begge Arm paa Homanns Kariol ere brukne af , og glæde Dig ovenkjøbet at det ikke er mine eller BobsBobs ] dvs. Roberts Arme . Den første Miil gik saa godt . Luften var saa mild og qvægende , Kariolen var ypperlig at sidde i da den havde den for en K. høist sjeldnesjeldne ] ' sj ' rettet fra ' sk ' ved overskriving Egenskab at den var høirygget jeg tænkte naar jeg kommer til Grorud skal jeg skrive nogle Linier tilbage , og sige min stakkels Ven at jeg følte mig saa modig og let , og sige ham – , jeg veed ikke hvad – men paa Grorud standsede vi blot et Øieblik . Her forsømte OscarOscar ] Oscar Wergeland ( 1815 – 95 ) , Colletts bror at binde sin Kuffert , der allerede havde voldt ham Bryderi , bedre fast , en utilgivelig Glemsomhed der kom os dyrt til at staae . En god halv Fjerding fra Bondekald , Bondekald ] dvs. Bånkall idet vi kjørte hurtig ned af en Bakke gled Kufferten atter ind paa Hjulet – han standsede pludselig midt i Farten , min Hest der er lige bagved tørner saa voldsomt mod , at begge KariolarmeKariolarme ] andre ' a ' rettet fra ' A ' ved overskriving gik af som Pibestilke , jeg stuber næsten paa Hovedet – til al Lykke havde jeg ikke Bob . Nu maatte Bob og jeg gaae til Bondekald , medens de øvrige fik bugseretbugseret ] ' et ' rettet fra ' t ' ved overskriving Kariolen efter , og fra nu af var Reisen en fortsat Lidelse , der er vanskelig at glemme . Vel fik vi leiet en Kariol her , men O. der nu var kommet i et desperat Humeur , vilde ikke give os Tid til at faae bundet vore Ting ordentlig paa en Kuffert og en Vadsæk blev slængt over mine Been – det var en Lettelse at tage Bob istædet paa næste Skifte , og ham beholdt jeg da siden lige hjem . Han gav mig Skylden for det hele Uheld , da jeg ikke burde vovet mig ud med et saa ynkeligt Kjøretøi . Hvor ubilligt ! Den Kariol havde holdt lige til Trondhjem naar der var bleven ordentlig kjørt . Kan Du tænke Dig noget saa rasende som at standse med et Ryk midt i den voldsomste Fart naar nogen kjører efter ! O-s Fremfusenhed og skrækkelige Ubetænksomhed maae dog volde en Ulykke tilsidst . Maaskee ærgrede han sig over sig selv , men dette gik vel meget ud over mig thi fra dette Øieblik var ikke Tale mere om nogen ridderlig Opførsel eller nogen Bekvemmelighed for mig – nu slog Regnen sig og en kold Blæst sig ogsaa til der fulgte os ubønhørlig den hele Tid . jeg græd medens jeg kjørte over Aasen , saa Skydsgutten der var en venlig snild Gut bemærkede , var jeg i Deres Sted saa tog jeg Skyds paa SkrimstradSkrimstrad ] feil for ' Skrimstad ' til Byen igjen . Og jeg forsikrer Dig det var ikke langt fra jeg havde gjort det . skade med større teksttap : papiret er skadet i høyre og venstre kant øverst så deler av de øverste linjene , frem til « med uendelig Vemod – » , er borte . Kariol var allerede fæl at sidde i , stivarmet og i Ryggen og paa Skjødet blev det en reen Marter , Paa et Skifte sagde jeg nær og laan mig Dine Støvler ( løse der førtes med ) for at de kan støtte Bo [ b ] hvortil svaredes : « Du faaer renogsere paa at sidde saa beqvemt nu » – – andet end lee stille for mig selv , midt i min Nød . Bob var r tiden kommer der en Elskværdighed frem i den Gut som er saa r vi havde sadt os , spurgte han med en uimodstaaelig sød og bekymret St [ emme ] [ si ] dder Du godt nu Mama ? Engang spurgte jeg ham , det samme sagde han : nei ik [ ke v ] idere , men det faaer ikke hjelpe . » Ikke en eneste Gang klaget han . O [ h ] jelpe sig med Kjerre nogle Skifter imellem , dog kunde jeg ikke tage mig saa deraf da det engang stod til ham selv at vælge , men han gav sig ikke bytte . Paa denne Maade gik det da i den graae triste Nat over de lange sørgelige Moer , med Bob fast klemt mellem Dog var jeg ikke længer mismodig . Tvertimod . Jeg tænkte saa p med uendelig Vemod – jeg følte at vi ere dog anderledes og dybere forbundne end vi mangen Gang troe ; En fremmedartet Lidelsestilstand , kan undertiden mærkværdig klarne hvad der saa ofte fordunkles i den smaalige , daglige Striid med Livet : Erkjendelsen af hinanden . I en saadan Time føler jeg hvad Du er mig hvad Du er fremfor alle Andre i Verden , og jeg gjør dette uden Anger og unyttig Selvanklage , kun med en brændende Villie til altid at kunne det og en Bøn til de dunkle Magter – – jeg seer alt saa klart , saa klart – ogsaa hvori Du har Uret mod mig – – – – Hvor jeg har tænkt paa Dig i Gaar , medens vi rullede saaledes hen under den triste , graae Himmel , den ene Miil efter den anden , jeg tænkte slet ikke paa mine smaae Gutter derhjemme , kun paa Dig , paa Dig .\n",
      "Vi kom dog ikke hjem B. og jeg uden en Forskrækkelse til . Allerede forbi Mørk , Mørk ] dvs. Mork rettede jeg mig netop op af min smertelige Stilling som v [ ar g ] aaet over til en Art Forstenelse – Bob sad paa mine Fødder , med sine støttende mod Kariolarmen og hadde sovet heelt fra Risebroe – da med et styrter Hesten plat overende , hvorledes jeg kom ud med Bob der var indsvøbt fra Top til Taae veed jeg ikke , Hesten laae paa Siden som død , den dumme Mand vilde slaae paa den for at faae den op , men jeg fik ham da begribeligt at han maatte først see at faae Kariolen løs – – naar man ligger endelig i sin Seng efter en saadan Dag saa takker man Gud hvilket man saa ofte efter de gode Dage undlader .\n",
      "Hermed et lille Spand Smør til Dig – pas godt paa – naar jeg kommer skal jeg faae et stort med. H Skoene vare bestemte til Alf , og saaledes opløser jeg den hele sørgelige Historie . Nu syer Lars til Bob .\n",
      "Fader er mild og yderst venlig – Bob er rask og snild og jeg befinder mig vel .\n",
      "Jeg forsikrer Dig at jeg er mild og god naar jeg er sorgløs og uden Plage . Lev vel .\n",
      "Kys de Smaae og skriv til mig\n",
      "Skydsgutten fra Grorud lovede mig at bede Manden paa Grorud besørge nye Arme færdig malet til Kariolen indtil jeg kommer . Der er nemlig en Snedker paa Gaarden , der gjøResten av brevet er tapt .\n",
      "[ Mai 1847 ] . Brev til Peter Jonas Collett .\n",
      "Brevs . 4 : a : 108\n",
      "Man er ikke længe heroppe førend man føler Trangen til at meddele sig , maaskee intet Steds mere end her , thi der mangler ikke paa Stof dertil men vel til paa dem man kan meddele sig til det med. Jeg savner meget en god Bog at læse i . Det er noget forunderligt i at drive saadan muttersene om i denne Natur . Den hele første Dag skylregnede det , men allerede i Gaar var Veiret godt og idag Torsdag er det herligt , blikstille med medmed ] gjentatt ved linjeskift klar Himmel . Jeg drev omkring næsten den hele Dag i Gaar , Luften var saa lokkende og inde spiltes der vel meget paa « Portefiano » Jfr . Bøes Udt . ( saaledes kalder jeg siden alle Instrumenter under en vis Qvalitet ) Jeg gik fra Drømmely til Smægterud fra Smægterud over Dalen til Balstigen , men kunde dog ikke vinde nogen rigtig Hvile i Sindet , maaskee kommer den siden . Disse Dale og Skygger ere altfor svangre med mine uudslettelige Erindringer de ere Et med min tidlige Historie , fra denne Tid fuld af Bitterhed og Sødme , denne arme , rige Tid , hvor jeg intet eiede ikke engang Haabet , og dog bar en Verden i mig af Leidenschafft und Leiden , Leidenschafft und Leiden ] tysk : lidenskap og lidelse af Poesie og Begeistring , og det er endnu den samme Egn , med de samme Træer de samme Blomsterflekke , de samme Revner i Jorden men de fineste Traade mellem mig og denne ere afrevne , Poesien er flygtet fra den . og dette Ubeskrivelige der strømmede fra min Sjel over i den . Ja Drømmenes Tid er forbi ! og Drømmely og Smægterud ere Steder hvorfra man nyder en smuk Udsigt over Dalen . HanNaar jeg senere besøgte dem i deres forandrede Skikkelse da har det været i Selskab med Andre der have afledet dette Indtryk . Dog vil jeg hærde mig derimod og saagar vænne mig til at tænke paa at Jernbanen skal gaae der over . O Jernbanen !\n",
      "Der er ellers Stof nok til triste alvorlige Betragtninger om man ikke søger dem i Naturen . Fader er bleven paafaldende svag og affældig at see til paa denne Vinter . Ansigtet er bleven blegt og indfaldent og MartheMarthe ] husholderske på Eidsvoll prestegård siger , at saaledes tog Moder ogsaa af det sidste Aar . Ak maaskee dette rolige Asyl , hvorhen vi kan bringe Børnene for sidste Gang staaer os aabent ! – Fader modtog mig yderst venligt og lod til at være saare tilfreds med de Smaaeopmærksomheder jeg viste ham , men allerede i Gaar var hans Humeur mærkelig forandret , han er taus og mørk , og alle Forsøg vi gjør paa at drage ham ud af denne Stemning ere hidtil forgjeves . I en lang Samtale med Marthe i Gaar Aftes , opklarede hun mig denne Gaade . LauraLaura ] Laura Wergeland ( 1822 – 95 ) , gift Arnesen . Colletts kusine sætter ham ikke sjelden i dette Humeur . Hendes Vanskelighed og Suurhed , der er en Plage for hele Huset , undgaaer ikke heller Faders Opmærksomhed eller rettere , hun forskaaner ham ligesaa lidt for den – igaar havde han ærgret sig saa over den Misundelse hun yttrede over de Noder RoseRose ] Maria Augusta Rosalie ( Rosa ) Vedøe ( 1833 – 65 ) , Colletts niese havde faaet . Denne Misundelse yttrer sig hvergang R. faaer noget nyt , og vist er det at hun behandler det stakkels Barn med udtænkt Suurhed og Vranghed . M. klagede gudsjammerlig over hende , og sagde at det bliver værre og værre , at der har været Scener her i Vinter , der har bragt hende ( M . ) til at bønfalde Fader om at maatte reise – at Fader har græmmet sig derover mere end engang – og at slige Scener , naar Fader har foreholdt hende sin Opførsel – ender med at hun gaaer ind i sit Værelse , smelder Døren efter sig og falder syg i nogle Dage – og dette kan da F. F. ] dvs. Fader aldrig taale , han ynkes da over hende . Dette har usigelig oprørt mig . M. siger det er utroligt at hun tør være saa impertinentimpertinent ] frekk , uforskammet mangen Gang mod Fader . og J. MuusJ . Muus ] Jomfru Muus var trolig ansatt på prestegården ( jf. brev fra Oscar Wergeland til Nicolai Wergeland 26. februar 1847 og 8. februar 1848 ( Brevs . 210 , avskrifter i Brevs . 670 ) ) har ofteofte ] rettet fra ' mange ' ved overskriving foreholdt hende det . Idag gik jeg ned til hende og sagde alvorlig – Veed Du Aarsagen til Faders slette Humeur – ? har Du nogen Deel deri , da haaber jeg Du gaaer op og søger at formilde ham » – – hun nægtede da forundret men jeg lod mig ikke forvirre men tilføiede endnu « : – – nei det vil jeg ogsaa haabe , det vilde sandelig være for galt skulde Du ovenikjøbet volde ham Fortræd . » Hun gik op – og siden hørte jeg hende tude og græde paa Jomfru Muus ' s Værelse , dog er Faders Humeur ikke bedre derfor .\n",
      "Du seer min Ven at Forholdene inde ere lidet opmuntrende . Jeg søger imidlertid at tage mig det saa lidet nær som mueligt – og fremfor Alt selv undgaae Indblanding undtagen hvor den kan bevirke noget godt . Dette gjorde jeg efter Marthes Raad , eller rettere Ønske at L. vilde gjøre det . Maaskee det kan gaae over og Freden vende tilbage idetmindste overfladisk . Dette er min Philosophie i den senere Tid , saavidt mueligt at tænke mig det Onde Forbigaaende – Erfaringen har desvære lært os at G altid er det . Det er ikke hyggeligt da L. skuld [ e ] den der jeg ellers har at holde mig til . Hun er [ fre ] mdeles venlig mod mig men jeg nægter ikke at er falden saaledes i mine Tanker at jeg kun med Møie kan vedligeholde dette ligegyldige venlige Forhold – dog det bliv nødvendig – jeg kan ikke gjøre det til en reen Plage for mig heroppe . BobBob ] dvs. Robert er i Activitet hele Dagen , han er paa Jordet og i Haven og paa Balstigen , og spiser og drikker umaadelig , dertil er han artig og lyder – jeg seer ham næsten aldrig uden at han byder mig en enorm Qvast med gule Myrblomster og Marianøglebaand . Han ligger i Feltsengen hos mig paa Skolen – ellers ingen .\n",
      "Kl 8 Aften . Vi kommer fra en lang Tour til Tangen hvor vi have seet Gunner Strand fiske – han fik en heel Bøtte fuld – og igaar havde han ligeledes faaet det dobbelte . Det er hans Gut der bringer dette – et lidet bitte Spand med Smør , skade med større teksttap : Nedre tredjedel av siden er klippet bort .\n",
      "Badehætte der ligger i Klaffen i Sekretæren . Har Du noget at sende Fader af Blade eller Bøger – da tænk at Du dermed kan bidrage til at muntre ham lidt op , hvilket er af uendelig Vigtighed skal man kunne leve heroppe – dog for min Skyld ikke , mere for hans da han maae føle sig saa grændsesløs ulykkelig i denne Forstenelsestilstand – nu da vi kom hjem var det ikke bedre . a OscarOscar ] Oscar Wergeland ( 1815 – 95 ) , Colletts bror var kommen herop , spurgte Fader ham hvorfor faaer jeg aldrig [ Bil ] ledværker mere opsendt ? Kan Du skaffe noget saadant da det endelig .\n",
      "Lector juris Collett Bureauchefs Brynies Gaard ved Slottet Christiania\n",
      "7. juni 1847 . Brev til Peter Jonas Collett .\n",
      "Brevs . 4 : a : 110\n",
      "Dit sidste Brev gjorde mindre glad , end det forrige , dette Brev som jeg maatte miste , fordi det voldte mig saadan Glæde . O min Ven , jeg skulde ikke have den rette Tillid til Dig ? Hvorfor dette nu ? Jeg synes dog mine Breve herfra , den UfordugthedUfordugthed ] feil for ' Ufordulgthed ' hvormed jeg lægger Dig min Opfatning af Forholdene heroppe ud for Dig , den Maade hvorpaa jeg berører Fortiden vidner om en Tillidsfuldhed som jeg ikke kunde vise noget andet Menneske end Dig . Jeg eier denne fuldkomne Tro paa Dine Hensigters og Handlingers Reenhed , som kun en fuldkommen nobel Carakteer kan indskyde os . Men jeg troer at Du som de Bedste kan tage Feil , at Du endnu kan mangle denne Verdenserfaring som Manden , mere absorberet i en abstract Viden Verden , undertiden naaer senere end vi . Du sætter en Overbeviisning igjennem med den Energie der er egen for dygtige Sjele , derfor kværker enhver Modstand der kommer fra En , Du holder af , Dig . Heri , i Modstanden lig min Feil , jeg burde ingen gjøre , men vente . Om nogen Tid forkaster Du selv denne Overbeviisning . Og dog ere vi einigeeinige ] tysk : enige i Theorierne . Vor Natur er forskjellig , men vi udfylde denne Kløvt som alle Mennesker der ere gode og udviklede . Vi ere saaledes enige f . E. med Hensyn til Tjenestefolk , og den Maade man skal tage de Sorger de volde . Jeg er overbevist om det er det Rette og at man burde tage det paa denne letsindig – pleqmatiske Maade , men jeg holderholder ] rettet fra ' finder ' ved overskriving det for meget vanskeligere end Du . Og min bedste Ven , naar det kommer til Stykket er Du ikke bedre Philosoph end jeg .\n",
      "Naar jeg kommer ? Det er sandt der er meget der tilskynder , men Naturen holder og lokker mig bestandig . jeg kan ikke rive mig løs , du skulde see Lunden nu ! Det vilde være haardt at forlade sit Værk netop som det var færdigt . Du kan tro jeg jegjeg ] gjentatt ved linjeskift har været paa Færde , ofte hele Dage i Sol og Regn og Blæst , jeg har selv arbeidet rensket og trillet Jord Løv , jeg har som en Maler studeret Virkningen , enhver Udhugning enhver Gruppe af Buske og Træer – jeg maae overhovedet altid tænke mig et smukt Landskab som malet , ligesom man ved de malede tænker paa Naturen . Fader selv studsede da han saae det færdig og maatte dog tilstaae at det var noget andet end det forrige Wildniss.Wildniss ] tysk : villnis Jeg har tænkt at opslaae en Placat ved Indgangen , med ydmygst Ansøgning til Badegjæsterne om at indrømme Præstegaardens Beboere denne lille Deel af deres ( Badegjæsternes ) store Besiddelser . Folkene kalde den « Fruens Lund . » BobBob ] dvs. Robert er snild . Den første Deel af hans Ophold var han det mindre , men jeg opdagede at det kom af Træthed , da han ikke sov Middag som han var vandt til . Denne Skik har jeg igjen indført , og han er meget qvikkere og artigere . Der er et engleligt Gemyt i ham . Naar han seer jeg har faaet Brev , kommer han strax løbende , og seer paa det med saa intelligente Øine og en saadan Hjertelighed at jeg glemmer at han intet forstaaer deraf , jeg vil næsten til at læse for ham .\n",
      "Torsdag haaber jeg vist . Ak det er godt at komme hjem til min eneste Venner og de stakkels smaae Gutter .\n",
      "C .\n",
      "Lector juris Jonas Collett Malthes Gaard ii ] rettet fra ' ved ' ved overskriving Theatergaden Christiania\n",
      "[ Juni 1847 ] . Brev til Peter Jonas Collett .\n",
      "Brevs . 4 : a : 111\n",
      "skade med større teksttap : Øvre del av siden er klippet bort , også andre linje er skadet . Jeg skriver meget lidt til Fru Colb.Fru Colb . ] Marie Colban ( 1814 – 84 ) , født Schmidt Paa hende tænker jeg med bedste Tanker . BobBob ] dvs. Robert er rask , dog mærker vi nok at det Cursus HMr Andreas har givet ham ikke har været ganske forgjeves , en vis Gutteagtig Stridbarhed og Lyst til Hævn er mer [ e ] synlig i ham der før var saa fri derfor . – Om Dig sagde han pludselig : Papa da Mama ! ja , hvad han ? sagde jeg Papa ! sagde han igjen men i dette ene Ord laae et saadant dybt Udtryk af øm Erindring og Længsel atat ] rettet fra ' af ' ved overskriving jeg blev ganske rørt . Mere næste Gang Din C. –\n",
      "Fader var mildere nu i Aften . Han vilde gjerne have første og anden Deel af LandjunkerenLandjunkeren ] Charles de Bernard : Landjunkeren . Del 1 – 4 i 2 b . , oversatt fra fransk Kbh . 1846. hvis det var mueligt . jeg har læst en lang Roman af Emilie Knorringarlin , Knorring ] trolig tenkt strøket og erstattet med KarlinEmilie Karlin ] Emilie Flygare-Carlén ( 1807 – 92 ) , svensk forfatter . ( « Knorring » må være en forveksling med Sophie von Knorring ( 1797 – 1848 ) , svensk forfatter . Jf . Steen 1947 , 89 ) der er ypperlig uagtet jeg slaaer Vrag paa hende , kunde jeg ikke skrive noget saadant – jeg har ikke forsøgt en eneste Linie . jeg er aldeles paa det Rene med mig selv om at lade det være sligt være herefter .\n",
      "– – Det Betræk Du siger at have valgt er altsaa et andet end det eneste jeg maae tilstaae jeg fandt antageligt – nu ja da veed jeg forud hvordan det vil behage mig og jeg angrer da paa at jeg ikke sparede B nogle Dalere . – –\n",
      "Hvor deiligt her nu er kan ikke beskrives – hvor ofte tænker jeg : gid min stakkels Ven kunde dele dette Øieblik med mig see denne ubeskrivelige Herlighed og indaande denne Duft der fylder hele Luften – og saa tænker jeg nu sidder han bukket over sit Bord og træller og arbeider og sveder – Gid E. laae nærmere Byen .\n",
      "skade med større teksttap : Øvre del av siden er klippet bort .\n",
      "Som sagt F. F. ] dvs. Fader var venlig og det lod til at være ham en Lettels [ e ] at tale med mig om Allehaande . Bogen gav jeg ham . Han førte mig ned i Billedgalleriet og jeg bestod Prøven med den dybeste Alvorlighed . Naar Du selv seer det , vil Du kunne fatte hvad dette vil sige , med Lorgnetten for Øiet vandrede det fra Dit Contrafei ( hvorved jeg alvorlig bemærkede at det var Skade det ikke har Paryk ) – til HaraldsHaralds ] Harald Titus Alexis Wergeland ( 1811 – 93 ) , Colletts bror fra Haralds til Wilhelm , der har det brusende Hav til Baggrund , og fra Wilhelm styrede jeg mekanisk Lorgnetten hen til det næste Billede , men da her et glubende Kattehoved ligesom parodisk glotzteglotzte ] tysk : glodde mig imøde , gjorde min menneskelige Natur sin Ret gjældende og jeg brast i en velgjørende Latter . Nu er det mig ikke mueligt at see Dit Portrait uden at jeg maae lee , ingen af de Andre øver den Virkning paa mig .\n",
      "Dette Brev var bleven meget længer , havde jeg ikke faaet Nys om et Bud der skal reise nemlig Kristen Blegstad . Jeg vilde dog sige ovenpaa alt dette mistrøstige at jeg alligevel er ved godt Mod og at Du vilde holde af mig fordi jeg kjæmper saa redelig . Et Ex . derpaa er at jeg uagtet : alle Misligheder dog vil blive i det længste helst til Søndag , eller Mandag den 14 de. Legemlig føler jeg mig mindre stærk , ja det vil ikke gaae med min Nattesøvn , og om Dagene overfaldes jeg af en stor Mathed – det maae være Nerverne der trænger til at styrkes – nu vil jeg for Alvor begynde med kolde Bad . Jeg trænger til diverse Ting som Du endelig maae sende mig med denne Mand . Dine Skjorter kan jeg faae syed for 1 [ Ort ] Stykket den alm . Priis – dette synes jeg dog er værdt at reflectere paa – ligeledes har jeg faaet forærende af Fader , der ikke vilde tage Penge – deilig fiin Uld til 8 Par Strømper der er akkorderet at spindes og strikkes for 16 Parret . Derfor bedes opsendt følgende :\n",
      "– De tilklipne Skjorter der findes indbundne i forskjellige smaae Pakker i den lange Skuffe oppe i det chinesiske Skab , efter en Prøve af det fine Lærred kjøbes hos Hamb . 1 Al der sendes med.\n",
      "En af Dine Uldstrømper der passer Dig bedst.Resten av brevet er tapt .\n",
      "20. mai [ 1848 ] . Brev til Peter Jonas Collett .\n",
      "Brevs . 4 : a : 113\n",
      "Hvorfor skulle vi bedrøve – ak , hvorfor skulle vi bedrøve hinanden ! Vi holde jo af hinanden , er det ikke saa Jonas ? Du siger det i Dit Brev , idag har jeg troet paa det igjen . Der er noget i dette Brev der ligner dem jeg fik hiin Vaar , som jeg aldrig skal angre . Idag have vi havt den første Foraardag vi gik en lang Tour . Naturen var saa straalende , den syntes slet ikke at have følt Trykket af den barske Tid der har kuet den saa længe . Jeg glemte ogsaa de mange onde Dage , kun naar jeg gik op ad en Bakke eller forsøgte at springe , mærkede jeg at jeg havde været indespærret , jeg kom træt og bleg hjem . Ak lad os da ogsaa glemme !\n",
      "I dette Øieblik tænker jeg kun paa hvor god og kjerlig Du har været mod mig – og paa hine Vaardage , og paa den Tid der gik foran hine Vaardage , da jeg ønskede Du vilde udkaare mig fordi jeg følte mig stærk nok til at elske Dig et heelt Liv , o for hine Dage ! – – og har jeg nogensinde glædet Dig da tænk paa det nu , og naar vi erindre os dette , kunne vi da være vrede paa hinanden ?\n",
      "[ Sommeren 1848 ] . Brev til Peter Jonas Collett .\n",
      "Brevs . 4 : a : 112\n",
      "Eidsvold Onsdag\n",
      "Kjere , kjere Ven . Seent i Gaar Aftes kjørte LauraLaura ] Laura Wergeland ( 1822 – 95 ) , gift Arnesen . Colletts kusine og jeg hen for at hente Posten . Postaabneren meente vi kom til at vente endnu en Time , og vi spadserte da saalænge i Skoven indtil den sidste Solstraale var borte . Kl omtrent 10 kom den . Ude paa Volden læste jeg Dit Brev . Jeg vidste ikke hvorfor Taarerne kom mig i Øinene , da der dog egentlig ikke var noget traurigt deri . men det erindrede mig dog om Dine Øines Udtryk den sidste Aften vi sadt sammen paa Bænken . Min stakkels Ven , gid jeg for Din Skyld kunde blive frisk , thi Sygdom maae jeg kalde denne Sjelstræthed , og denne unaturlige Vaagenhed om Natten . Jeg er saa træt naar jeg lægger mig , ordentlig søvnig , og jeg daarer mig et Øieblik med en god Nat . Jeg sover ogsaa 1 Qvarteer , ½ Time maaskee , da vaagner jeg igjen i den Rædsel som Du kjender , jeg farer op , jeg styrter ud af Sengen i den Bevidsthed at noget forfærdeligt er skeet , langsomt kommer jeg da igjen til Bevidsthed om at det er den gamle Drøm . Du kan tro jeg gjør Alt for at styrke mig , jeg spadserer , jeg kjører , jeg lever mere udenfor Huset end inde i det . Skrive taaler jeg mindst , jeg bliver heed i Hovedet . Idag er den bedste Dag jeg havt , jeg har reenskrevet temmelig meget . Der er Dage hvor jeg synes jeg ikke kan holde det ud , men maatte reise ind , enten Du vilde eller ei . Udenfor den besværende deilige Natur og indenfor den gyselige Tomhed , thi de 2 stakkels Individer Laura og Rosa , Rosa ] Maria Augusta Rosalie ( Rosa ) Vedøe ( 1833 – 65 ) , Colletts niese der nu skal gjælde for Husets Beboere , ere kun blinde Nummere der intetintet ] rettet fra ' ingen ' ved overskriving Sammenhold , ingen Hygge kunne frembringe , den ene gaaer i Øst den anden i Vest , og mødes kun engang , imellem for at mundhugges lidt . Som oftest spiser jeg Frokost alene . Gud velsigne Dig , forkort denne Ensomhed for mig , er det ikke muligt Du kunde komme 14 Dage fra nu af ?\n",
      "Efterretningen om L. P LøvenskjoldsL . Løvenskjolds ] Leopold ( Palle ) Herman Severin Løvenskiold ( 1813 – 11. juni 1848 ) , han døde i Treårskrigen Død har rystet mig . Ak jeg tænkte altid han var skudfri ! Husker Du Eders Gemsejagd i Tyrol , da Du gjorde Nar af ham fordi han ikke skjød Gemsen der foer forbi , o [ g ] P. undskyldte sig med at Du havde staaet i Veien . Ak det er ikke længe siden han var heroppe , ung og kraftig , qvik og begeistret og nu ! Det maae være rædsomt at ligge saadan og døe af en Kugle i Underlivet , midt iblandt fremmede barske Ansigter , der kanskee neppe dølge sin deres Skadefryd over at have knækket Vingerne paa en saadan Ørn . I Eftermiddag kom der 3 Soldater vandrende , trætte og sultne og bade om at maatte faae kjøbt noget Mad , da der nede i Eidsvoldbakken var saa overfyldt af Soldater at de intet kunde faae . Det var 3 brune , velvoxne Karle af det tønsetske Compagni , nedmarscherede heelt fra Egnen om Røraas . Jeg spurgte den ene som saa noget traurig ud – om de nødig afsted , og om de havde Mod og Lyst til Krigen . « Naar vi blive udcommanderede , saa spørger der nok Ingen om det . » De indbildte sig at de i Danmark vilde komme til at lide meget ondt , men jeg trøstede dem med at de havde meget Flesk dernede , og at de netop vilde komme til at leve bedre der end heroppe , samt meget andet Trøsteligt . Jeg bad M. M. ] dvs. Marthe , husholderske på Eidsvoll prestegård give dem Smørrebrød og Melk , men naturligviis ingen Penge tage imod , men da de kom med den haarde Næve for at takke , kom Graaden mig ordentlig i Halsen .\n",
      "Siig til JohanJohan ] Johan Christian Collett ( 1817 – 95 ) , Peter Jonas Colletts bror at jeg venter ham om det bliver noget seent med Aftensmad og at det vilde glæde mig meget om de 2 Herrer vilde tage ind i Præstegaarden . De kunne derfor reise saa tidlig som de ville , jeg skal sørge for Kaffee Kl 5 om det behøves . I Eidsvoldb . er der uhyggeligt i denne Tid . Fremmede har vi ellers ingen af . Sidste Søndag i Regnveir kom Jfr Muus.J . Muus ] Jomfru Muus var trolig ansatt på prestegården ( jf. brev fra Oscar Wergeland til Nicolai Wergeland 26. februar 1847 og 8. februar 1848 ( Brevs . 210 , avskrifter i Brevs . 670 ) ) saa have vi Mad . K. tilgode til næste . Man burde egentlig strax man kan tromme dem sammen , heller en Pladskregn end etet ] rettet fra ' en ' ved overskriving Tagdryp . Vil Du levere ConradiConradi ] trolig Andreas Christian Conradi ( 1809 – 68 ) , lege indlagte Brev fra L. Det vilde virkelig glæde mig om StangStang ] Frederik Stang ( 1808 – 84 ) og Johan toge herind og jeg kunde vise dem lidt omkring . Her er alt for deiligt , men ingen glæder sig derved . « Ach verdorben und verstorben » sind Sie alle.Ach verdorben und verstorben sind Sie alle ] tysk : Akk , fordervet og døde er de alle ; « verdorben und verstorben » fast uttrykk for oppgitthet over at alle er døde Siig mig dog iforveien om de komme . Gott grüss Dich ! Gott grüss Dich ! ] tysk hilsen\n",
      "C .\n",
      "[ Juni 1849 ] . Brev til Peter Jonas Collett .\n",
      "Brevs . 4 : a : 115\n",
      "skade med større teksttap : Begynnelsen mangler , trolig ett blad . endvidere tilbyder han mig Gigh og Hest tilbage som jeg kan benytte ganske alene – Bestemmelse behøver jeg ikke at tage førend han kommer paa Onsdag . Endskjøndt nu denne Bestemmelse allerede er taget og erklæret til Torps , endskjøndt alle Grunde tale imod at jeg reiser , Ulyst , min forestaaende Kjøbenhavnsreise , min nylig overstaaede Sygdom min store Kraftløsheden og endelig total Ulyst til alene , uden et eneste Væsen jeg kan slutte mig til at gjøre en saadan Tour , en saadan Tour ] Colletts bror Harald Titus Alexis ( 1811 – 93 ) , giftet seg 26. juni 1849 med Hermana Marianne ( Mariana ) Olsen Thorp ( født 1821 ) . Collett deltok som en av de eneste fra slekten i bryllupet , jf. Steinfeld 2012 , 451 kort sagt , endskjøndt jeg var fast , fast bestemt paa ikke at reise og erklærede det til Torp , saa at nu ingen venter mig deroppe , kommer der dog Øieblikke hvori jeg er uvisuvis ] Streket under med en annen penn , med samme penn er ' u ' og ' s ' tydeliggjort om hvad jeg skal gjøre . Jeg synes nemlig det er inderlig leit at ingen , slet ingen afaf ] rettet fra ' Fa ' ved overskriving Familien kommer derop . Ikke engang nogle af Fætterne , Alle have Forfald . NicolaiNicolai ] Nicolai Storm Wergeland ( 1814 – 93 ) , Colletts fetter kan heller ikke komme skade med større teksttap : De nedre to tredjedeler av siden er klippet bort .\n",
      "været med i Processionen faaet lidt at vide om Festen . Den havde været særdeles smuk og høitidelig . Dr. LipmansonDr . Lipmanson ] Lipman Lipmanson ( 1815 – 67 ) , svensk lærer en af Jøderne havde holdt en Tale efter Afsløringen , Afsløringen ] prosesjon og fest ved avsløringen av monumentet på Henrik Wergelands grav 17. juni 1849 . Lipmansons tale på festen gjengitt i Mendelsohn 1987 , b . 1 , 208 - 11 en Tale der havde været god og i et smukt kraftigt Foredrag , men temmelig nærgaaende mod Norge , ja OscarOscar ] Oscar Wergeland ( 1815 – 95 ) , Colletts bror bemærkede at det kunde bære , men ikke mere , et Haarsbred videre og det havde været upassende . jeg troer Norge har godt af altsammen . « See paa mit Antlet » sagde han til den maabende Mængde seer jag ikke utut ] rettet fra ' ud ' ved overskriving som et Menniska » – æra vi ike spaptspapt ] feil for ' skapt ' af en Gud ? og den maabende Mængde saae paa ham og undrede sig visselig over at Gud hadde skabt dem saa lige . Ved denne Leilighed er Publicums barokke Ideer om dettedette ] rettet fra ' denne ' ved overskriving Nation Folk ret kommen for en Dag . Enhver Huusmoder skade med større teksttap : 2 – 3 ord er tapt . ie om deres Pigers løierlige Udladelser . Karen kom hjem og havde faaet see Jøderne . Saae Du da de ikke Pskade med større teksttap : De nedre to tredjedeler av siden er klippet bort , og de foregående to linjer er også berørt av skaden .\n",
      "Leilighed . Gamle Tante Thaulow havde mødt gamle Mad . Bekkevoldgamle Mad . Bekkevold ] Gunhild Marie Bekkevold ( 1800 – 81 ) , født Ihlen , Amalie Sofie Wergelands mor paa Gaden , og paa dennes Beretning at A. A. ] Amalie Sofie Wergeland ( 1819 – 89 ) , født Bekkevold , gift med Henrik Wergeland agtede sig herind til Festen , havde gamle Tante holdt en lille Tale for hende om at det ikke skikkede sig at hun viste sig ved den , « ja havde hun holdt hans Navn i Ære saa var det en anden Sag , men Publicum vilde nu ikke synes om at see hende » etc. Dertil havde Moer Bekkevold meent at A. vel neppe heller kom da hendes mindste Barn holdt paa at døe . Men den der kom var naturligviis A. og hun var paa Færde fra Kl 6 om Morgenen foer om i Gaderne i dyb Sørgedragt og et Slør a la CeutiCeuti ] by i Spania paa Hovedet , belæsset med Krandse , og paa Kirkegaarden under Festen vimsede hun omkring styg og forgrædt ved BjørnsBjørns ] Niels Andreas Biørn ( 1807 – 86 ) , gift 1846 med Amalie Sofie Wergeland Arm , lod sig presentere for Jøderne for at « takke dem » . Dette kan man kaldes Impudence , Impudence ] frekkhet Frækhed , ja der er heller ikke en Tjenestepige der ikke roser sig af at ville f opført sig med mere D [ ece ] nzDecenz ] sømmelighet med bare paa Liigstraae , de fik ikke Tid redet .\n",
      "skade med større teksttap : De nedre to tredjedeler av siden er klippet bort , men en strimmel står igjen . ( Det ser ut til å være adresseteksten som er ønsket beholdt , og da er teksten på den motstående siden også bevart . ) De foregående to linjer er også berørt av skaden . Teksten er ikke sammenhengende fordi så mye av hver linje er tapt.stad med søde et af Henriks [ i ] kke da – – det blev pøbelagtig og fatal og i Cam . intreserte sig svaret : jo men hun spille [ de ] delser viste at baade Hr Bjør [ n ] sætter paa vort Forhold ved Oscar havde undladt at uderne saa have de Stof ligt , at jeg ikke gider s .\n",
      ", og jeg vente trods en lille at det var 1842 , En der uden , eller noget og stærk for o bliver frisk dentlig at jeg denne sørge jeg skrevet\n",
      "her gjælder det at give Møller et dæmonisk Anstrøg , at han ikke bliver blot paatrængende og for plump i sine Udtryk , thi da vilde C. blot bede ham holde Mund da det ikke kom ham ved . Det var vel at Broschen kom , maatte den nu behage hende , Stenen er smuk men Indfatningen synes jeg ikke om , dog maaskee hun lider den . Idag venter jeg HaraldHarald ] Harald Titus Alexis Wergeland ( 1811 – 93 ) , Colletts bror hid , det kommer nu an paa hvordan jeg accquiterer migaccquiterer mig ] klarer meg , oppører meg ( ODS ) med ham at han ikke tager mig ilde op at jeg ikke følger med.\n",
      "Til BrynieBrynie ] Ole Andreas Brynie ( 1804 – 82 ) har jeg intet nævnt af det Du beder mig , da det jo falder bort saaledes som Sagerne staae . Bede ham fra Dig at tage et Lag Sten bort forslaaer ikke til noget , det vilde Du nok selv indsee saae Du disse Vinduer . Det er rene Glugger . 3 Qvarteer høie ! saa tyk er næsten Muren . Jeg er desuden en daarlig Talsmand , jeg vil bede Dig kjereste Ven skrive ham selv til hvi [ s ] er noget Du ønsker . jeg vil nødig bede om noget mere .\n",
      "S : T : Professor juris P : J : Collett . Kongen [ sgade ] No 480 Kjøbenhavn\n",
      "[ Juli 1849 ] . Brev til Johan Christian Collett .\n",
      "Brevs . 4 : a : 114\n",
      "En Time efter at De var gaaet , fik jeg et uhyre langt Brev med Stud . Foss.Stud . Foss ] Hans Theodor Seidentoff Foss ( 1822 – 64 ) C. er rask . Jeg vil proponere at De tilligemed SteenstrupsSteenstrups ] Sophie ( Augusta ) ( 1811 – 72 ) , Peter Jonas Colletts søster , og hennes mann Peter Severin Paulsen Steenstrup ( 1807 – 63 ) og CarlCarl ] Carl Emil Collett ( 1821 – 98 ) , Peter Jonas Colletts bror komme herop i morgen Aften og drikke The her , saa skal jeg læse fore , da det ikke ganske egner sig til at gaae rundt . jeg haaber at blive saa rask – Har HanneHanne ] Johanne Christine Collett ( 1822 – 1914 ) , gift med Johan Christian Collett Lyst til at komme med er hun inderlig velkommen .\n",
      "Deres Camilla\n",
      "Bureauchef Collett .\n",
      "23. juni [ 1851 ] . Brev til Peter Jonas Collett .\n",
      "Brevs . 4 : a : 116\n",
      "Tak for Dit Brev som jeg fik idag netop som jeg skulde begynde min Siesta henne hos Kaltenb.sKaltenborns ] dvs. søstrene Marie ( 1814 – ca. 55 ) og Caroline ( 1812 – 85 ) saa ganske uventet . Ak ja kjere Ven jeg trænger nok til Dine Formaninger at holde det ud – og Gud skal vide jeg bestyrker mig hver Time paa Dagen i de Gode Forsætter , at holde det Onde ud , for det Godes Skyld . Naar jeg vilde sige at jeg ikke fandt det rædsomt her , da sagde jeg en Løgn som Du desuden strax vilde røbe sig selv , thi der skal ikke meget til at regne Sandheden ud . Alene , adskilt fra alle , alle ] andre ' l ' rettet fra ' t ' ved overskriving alt hvad der er beqvemt og behageligt , trist i mit Sind , lister jeg mig mellem disse fremmede Mennesker , og synes tilsidst dog at mit ensomme Værelse er bedre end at være ude . Kaltenborns – ja Kaltenborns ! men Kaltenborns Morgen Middag og Aften – og det Dag for Dag – i alle Stemninger . Det er næsten som Fløielsgrød til alle Maal – og dog – utaknemlig var jeg om jeg ikke erkjender at de afgive den eneste Mulighed for at jeg kan være her . Det er en stor Feil – hvis det kan kaldes en Feil der ikke kunde rettes – at jeg er saa alene her . Næsten alle have nogen med sig , de fleste ligge her en famille , en famille ] fransk : med familien eller ogsaa Moder med Datter , Cousiner Søstre . Doctor Heibergs Kone , Doctor Heibergs Kone ] Ida Sophie Heiberg ( 1806 – 93 ) , født Münster , gift med Ole Bornemann Heiberg ( 1803 – 78 ) , lege som Du kjender , ligger her med sin Svigerinde Fru Münster , begge har Børn med. Naar jeg er alene er jeg mere alene end alle andre . Værst er det at spadsere alene og bestandig alene . Jeg har fortalt Dig at Kaltenborns kan det ikke nytte for mig at gaae med. De drikke ikke om Morgenen Brønd , saa de smaae korte Toure de gjør falde paa en anden Tid end min. Jeg vælger den ensomste Vei jeg kjender . Den fører langs Fjorden en snever Bugt af Fjorden over deilige grønne Enge , med Klipper til Venstre , ind til Enden af Bugten , hvor der ligger et Sted der hedder Kampfjord , Kampfjord ] dvs. Kamfjord som MeilænderMeilænder ] Frederik Valdemar Mejlænder ( 1795 – 1866 ) , Hvidts svigersønn har ladet bygge for den gamle Hvidt , den gamle Hvidt ] Christopher Hvidt ( 1780 – 1862 ) der nu boer der . Dette sted ligger saare skjønt , saavidt som man kan forene dette Begreb med en Natur der ganske fattes Løvskov , men man maae være see Sandefjord for at tro dette mueligt . Fortsætter man Veien op mellem Aasene , kommer man tilsidst ad en anden Kant ned til Byen igjen forbi Kirken og Præstegaarden . Men endnu har jeg kuns engang – i Gaar Morges nemlig – ( da Du drak The i Lysthuset med Gutterne ) – gjort hele Veien rundt . Det er temmelig anstrengende – især da Vandet virker mattende og volder en brændende Tørst . Ak jeg tænker hver Gang jeg vandrer paa en smuk Vei , først : – gid Du var her – men især naar jeg klattrer op ad Klipperne , gid en af Gutterne var her – hvilken uendelig Glæde vilde det være dem Man gjør sig intet Begreb om hvilken Friskhed , hvilken Farvepragt disse Klipper har , de ere ligesom oversaaede med Blomster , især vilde Stedmoderblomster og Tjæreblomste [ r ] Strandene ere grønne og spraglet med den hvide Myrblomst . Ofte har jeg tænkt : nei jeg maae skrive efter en af dem , og flere har raadet mig dertil , men det vilde være mig umueligt at treffe et Valg mellem dem , umueligt at have dem alle . De ere alle 3 lige søde , lige fortjente til at have den Glæde . lige skikket til at nyde den . Nu vil jeg give Dig et Omrids af Dagen . Kl 6 staar jeg op – Doctoren har tilladt mig dette « Maadehold i Dyd » « Maadehold i Dyd » ] jf. Henrik Wergelands artikkel « Om Maadehold i Dyd » , Morgenbladet 6. des. 1833 , se Wergeland 1918 – 40 , b . 3 : 2 , 83 – 88 som undertiden kan være suurt nok alligevel . Saa lister jeg mig ned til Brønden – drikker mine 2 fulde Glas med et Mellemrum af 20 Minutter , af det , rigtignok over alle Begreber modbydelige Vand . Eidsvoldsvandet er da en Gudedrik derimod . og saa spadserer enten det regner eller ei , eller faae vi heller sige her : enten selv om Veiret skulde være godt . Kl . er derved bleven omtrent 9 og saa drikker jeg min Kaffee , med Hvedebrød der her er meget godt . Desværre smager dette Maaltid mig ikke , da Vandet foraarsager saadan ulidelig Tørst , som jeg dog ikke maae tilfredsstille ved at drikke simpelt Vand ; – Nu har Doctoren tilladt mig en Blanding af Viin og Vand , nydt sparsomt – Jeg har kjøbt mig en Flaske Hvidviin . Kl 11 tager jeg Bad . Først det lunkne Svovelbad der bestaaer af en skiden Røre – derpaa en koldere Dusch af Søvand , tilsidst det kolde Styrtebad – i Karbadet bliver man desuden børstet gnedet og banket , saa man er ganske alvorlig medtaget naar man endelig er færdig , og saa ud igjen i det kolde , blæsende Veir , med vaadt Haar og trætte Lemmer , og her saa traske omkring mindst en Time . Veiret er ogsaa alt for ubarmhjertig mod os stakkels Mennesker . Idag ( St . Hansdag ) Hansdag ) ] parentesbuen rettet fra komma ved overskriving blæser en formelig Storm fra Nord , min tykke Vinterkaabe kunde neppe beskytte mig . Igaar øste det ned i Strømme den hele Dag , først mod Aften klarnede det lidt . Dog var jeg ikke saa trist som de 2 foregaaende Dage . Løverdag med sit smukke Veir , var uendelig lang og melankolsk . Den lange Snegleagtige Spadseretour med K. kunde ikke oplive den , K-sK- s ] dvs. Kaltenborns have dertil den fatale Egenskap at de kjende alle Folk her og give sig i Snak med dem . Enhver Vaskerkone her , kjender de snille Frøkener . Om Eftermiddagen kommer Dampbaaden og tantaliserer Byen med et Øieblik og forsvinder igjen – da styrte de alle – Badegjester og Byens Folk ned for at see den , som om det virkelig var noget at see nogenen Haandfuld Mennesker stige i land som skal begynde deres mismodige Bane her , stige i Land med deres Pakkenelliker . Igaar Søndag , efter den lange Tour havde jeg netop klædt mig lidt peent paa baade til Ære for Søndagen og i Forventningen af en lille Kjøretour , som Kaltenborns og jeg hadde overlagt at vi skulle tage os efter Middagen . Denne Plan blev paa en grusom Maade forstyrret for mig Caroline kom og meldte at der intet kunde blive af fordi de havde faaet Fremmede , Lensmand FalsensLensmand Falsens ] Enevold Falsen ( 1811 – 80 ) , gift med Louise ( 1813 – 86 ) , født Diderichsen Kone ( fordum Stensætteres Datter ) med Svigerinde , der skulde blive der Middag og Aften , og nu henstillede hun det til mig , om jeg jegjeg ] gjentatt ved linjeskift vilde slaae mig til Selskabet , eller ikke , det sidste vilde da sige det samme som at mure mig inde i mit Værelse den hele Dag . Et frygteligt Valg ! Dog betænkte jeg mig ikke længe , og saaledes tilbragte jeg Søndagen bogstavelig inden 4 Vægge , uden engang en eneste gang at sætte min Fod udenfor . Du spørger mig hvad jeg bestilte i 12 samfulde Timer som denne Arrest varede , fra 9 til 9 da jeg gik i min Seng ? jeg har ikke Tid til at besvare dette Spørgsmaal denne , Gang.Der var AssembléeAssemblée ] finere selskapelig aftensammenkomst med dans ( NRO ) i Salonen , udenfor sværmede de nærmeste Byers StraajunkereStraajunkere ] lapser og Fifdamer , der vare komne ind i den Anledning . Jeg kan ikke sige at FætterenFætteren ] Johan Fredrik Andreas ( Fritz ) Thaulow ( 1804 – ) , Colletts fetter hidindtil har vistvist ] rettet fra ' viser ' ved overskriving sig meget ridderlig . Siden hiin Dag i hans Huus har jeg ikke være neppe seet ham . Han har endnu ikke været hos mig , og et Par Gange jeg har villet besøge dem , have de ikke været hjemme .\n",
      "Dit Brev fra Mandag fik jeg ogsaa i dette Øieblik . Det gjør mig ligesaa ondt som Dig at mit sidste Brev med de sidste Reqvisitioner ikke kom tidsnok for at sende det alt paa engang . imidlertid faaer vi finde os i disse smaae Offere , jeg lærer hver Dag at erkjende at baade de og al den Overvindelse man gjør sig er intet mod det store Gode man kunde vinde . Jeg har en mere og mere stærk Følelse af dette Bads Fortræffelighed . Og under andre Omstændigheder , under lidt blidere Forhold maatte det virke høist gavnlig paa mig . Min Trøst er at Du skal komme . Før har jeg ikke saa bestemt ønsket det . nu er denne Tanke mig nødvendig for at holde ud . Jeg indbilder mig at Badet om end ikke Vandet selv vilde virke høist styrkende paa Dig . Jfr W. reiser idag , og det træffer sig saa heldig at hendes Værelse nu bliver ledig indtil . Vil Du jeg skal bestille det , ellers er jeg bange det bliver optaget . Det er det eneste .\n",
      "Herre Gud hvorfor kommer ikke Natalie ? Natalie ] Nathalie Diriks ( 1813 – 58 ) Var denne Glæde alt for stor for os Stakler ? Om hun ikke vilde for min , saa dog for Kaltenborns Skyld der vilde sætte saa uhyre Priis derpaa . Ak kunde Du ikke komme selv ? Jeg har neppe Mod til at bede om at lade Robert komme det vil dog intet klækkeligtklækkeligt ] tilstrekkelig være – og den mindste Grans Uleilighed mere her i et Huus hvor jeg har Nød med at skjøtte mig selv – jeg er jo overladt til disse Fremmedes Vilkaarlighed ; Folk der ikke have Begreb om hvad cultiverede Mennesker kunne fordre – og som jeg derfor kun beder om det høist Nødvendige , af Frygt for at komme paa nogen slags spændt Fod med. Disse stakkels Gjæster ere i Grunden ganske afhængige af deres Værter , det mindste Tegn til Misfornøielse , kunde bringe Vedkommende ud da der existerer et Sladderfrimurerie over den hele Bye . Fru Heiberg ( født Münster ) havde ganske brudt med Huset fordi hun klagede over at det regnede ned i hendes Seng . Enhver Badekone nede paa Anstalten vidste at fortelle om den slemme Frue , der ikke kunde taale Regn i sin Seng . Jeg holder der mig derfor saa rolig som en Muus i mit Hul . Hvor Skade at dette herlige Bad , denne Velsignelsens Kilde i alle andre Henseender er saa snaussnaus ] snavs : dårlig , utilfredsstillende udstyret , ikke et Hotel , ikke et ordentlig Huus hvor man for sine Penge kan kjøbe sig fri for Sladder og de groveste Ubeqvemmeligheder . Jeg seer den Gaard hvor Statsraadens havde boet . Den havde et ganske andet velstaaende Præg end almindeligviis Husene . Min Seng bestaaer af en tynd , meget tynd Dyne i Bunden derover den korte Madrats og en meget for lav Hovedgjerd . Hun har nok flere Sengklæder , men selv disse har jeg faaet efter adskillige Omstændigheder . Man kan vist ikke begribe at jeg ikke ligger ypperligt i den Seng derfor instistererinstisterer ] feil for ' insisterer ' jeg ikke paa at faae mere . Kommer BobBob ] dvs. Robert maae han tage et Uldteppen og en Hovedpude med kommer Du , maae vi leie en Seng til hvormed altid følger Klæder . –\n",
      "Kl 9 Aften . Caroline kom og hentede mig til Touren vi roede over Vandet hen til den modsatte Bred , hvor vi drak The paa Græsset . Aftenen var Vidunderlig deilig . Jeg gik alene op mellem Fjeldene besteg en av de høieste Toppe , hvor man seer ud over den milelange Fjord med sine mange coulisseartige Fremspring heelt ud til Havet . Byen til den anden Side og Kampfjord dypt inde i Bugten . Det var vidunderligt . Der er herlige Pletter nede mellem sjeldnere Pletter som Alferne synes at have fredet – Stier snor sig mellem Nypetornkrat og lysegrønne smaae buskede Graner af og til hæver sig en gammel knudret Eg der har lutret sig fra den Fordømmelse der synes at have treffe alle Træer . Her vilde jeg nok gaae med Dig . Det var ordentlig modbydeligt at sætte i Land paa Bryggen igjen . O saadan en lille Bye ! den kan ret snøre mig Hjertet sammen . Jeg elsker nok Idyllen men den jeg vil helst have den uden Parasoller – – – her blev jeg afbrudt – ved Rhea Hvidt.Rhea Hvidt ] Borrea Henriette Hvidt ( 1810 – 1906 ) En Skræk foer i mig – jeg havde haabet at undgaae hende – Hun skal være klog nu . men mig gjorde et Indtryk paa som om hun var noget forstyrret . og det gjøs i mig da hun omfavnede og kyssede mig . Hendes første Bevægelse var dernæst at gribe en Kappe paa Bordet og ogog ] gjentatt ved linjeskift raabe hvor den er peen , kan jeg faae Mønster af den ! midt i Talen sagde hun vil Du tænke paa ThrineThrine ] trolig Cathrine Marie Jacobsen ( 1809 – 96 ) , født Hvidt , søster til Borrea Henriette Hvidt med noget « Gammelt » jeg saa var det peent af Dig . » jeg troede det var i figurlig Forstand , men det viste sig at hun meente det i en virkelig . Hun inviterte mig ud til sig , vi skulde gaae « alene Toure omkring . » Du kan begribe hvor liden Lyst jeg har dertil . At gaae alene omkring med det stakkels Menneske der pludselig kunde blive vanvittig – nei det tør jeg ikke , man kan blive melankolsk nok alene .\n",
      "Gud velsigne Dig bevæg Natalie til at komme jeg troer hun kunde have det saa hyggelig . da hendes Veninder boe saa nydelig . Caroline ængstes saa for Marie naar han skal reise . Herre Gud kunde da N. komme og være til lidt Trøst . Hun har saa megen Magt over sig at hun intet vil lade sig mærke dermed , men denne Anstrengelse vilde blive hende saa lettet hvis N. var her .\n",
      "Hvad gjør Du med Bob ? Jeg er tilfreds med hvad Du bestemmer . Kommer han skal han blive modtaget med aabne Arme . og kommer hunhun ] trolig feil for ' han ' ikke vil finde ogsaa det rigtig . ak mine søde Gutter ! see til at Oline ikke sjudsker formeget med deres Paaklædning . Gjør mig den Tjeneste en enkelt Gang at gaae ned og overvære Vaskningen . At hun ikke bruger en alt for skiden Svamp , bytter Vand , har særskilt Svamp og Haandklæde som skal hænge for sig – alt dette vil hun gjerne søle sammen – bliv ikke vred for denne Bøn – see til at de vadskes efter Bordet og deres Hænder naar de lægge sig .\n",
      "Er det mueligt endnu at faae sendt med en Reisende , da ønskede jeg endnu en Voxdugs Badehætte som skal findes hjemme – et Par lange hvide LinonsLinons ] av linon , fint vevet tøy av lin eller bomull ( med linkarakter ) Ærme i øverste Skuffe af Secretairen . en lille Hængelaas til min Vadsæk . Kan dette komme med Olsen ? Et Stykke Snørlivtøi i Lappeskuffen . Der er utroligt hvor meget man be\n",
      "Hils StensstrupsStensstrups ] Sophie ( Augusta ) ( 1811 – 72 ) , Peter Jonas Colletts søster , og hennes mann Peter Severin Paulsen Steenstrup ( 1807 – 63 ) – Ak de gode Mennesker . Tænk at have dem her ! Hils Fru ColbanFru Colban ] Marie Colban ( 1814 – 84 ) , født Schmidt jeg havde Lyst at skrive hende til .\n",
      "Jeg baade raader til og beder Dig om at tale med hende om hendes Væsen ingen kan bedre og eftertrykkeligere gjøre det .\n",
      "Nu maae jeg ophøre , jeg kan ikke mere see . og dog havde jeg 1000 Ting at sige Dig – 100100 ] trolig feil for ' 1000 ' Ting som samler sig i mit Hjerte og som længe har lagt der . Ak mangen gang i Vinter naar Du mindst anede det vilde jeg sagt Dig et og andet , men kunde ikke . Ikke heller nu kan jeg , det er Ting som grædes ud . God Nat . Gud velsigne mine smaae Gutter .\n",
      "C .\n",
      "Supplement : [ Januar 1830 ] . Brev til Marie og Johanne Herre .\n",
      "Brevs . 3 : T : 1\n",
      "Min kjere Marie og Hanne !\n",
      "Alt i lang Tid har jeg sadt mig fore at skrive Eder til , men altid er der kommen Forhindringer i Vejen , dog nu da Leiligheden dertil , byder sig i det jeg skriver til AdolpineAdolpine ] ( Adolphine ) Marie Colban ( 1814 – 84 ) , født Schmidt kan jeg ikke lade den ubenyttet . Hvad der meest kan interessere Eder at vide er at jegjeg ] ' j ' rettet fra ' d ' ved overskriving kan fortælle Eder noget hjemme fra . Jeg har tilbragt 5 Uger i Chia hos min Tante.min Tante ] trolig Jakobine Henriette Aubert ( 1776 – 1833 ) Dog var jeg overmaade ofte hos Eders kiere Forældre , Eders kiere Forældre ] Marie Christine , født Haagensen og Christian Friedrich Gottlieb Herre ( 1769 – 1843 ) der vare saa udmærked gode mod mig og bade mig , hvilket jeg ogsaa benyttede mig af saa ofte som mueligt da der er intet Sted jeg hygger mig , saa paa , som der . Vi talte da ofte om Eder kiere Smaapiger ! og Moder glædet sig meget til Foraaret da Dere kommer hiem , og dersom jeg ahner ret , seer Dere vel ikke heller suurt dertil ? Det glædet mig ret at see af et Brev som Eders Moder viste mig at det nu er bedre med Dig kiere Hanne , og naar Du kommer hiem vil Du vist blive fuldkommen frisk idetmindste forholdt det sig saa med mig , Søereisen og den bedre Pleie hiemme havde en gavnlig Indflydelse paa min Sundhed , som Dere nok erindrer var meget svækket i Christiansfeldt . GreteGrete ] Margrethe Sophie Sabine Herre ( 1804 – 80 ) , gift Heltberg var ogsaa hiemme i Markedet . DufourDufour ] Dufour Kragelius Herre ( født 1822 ) er voxet urimelig i de sidste 2 Aar , han taler meget om Eder og længes forskrækkelig efter sine kiere Søstre .\n",
      "Det nye Aar vi ere traad ind ønsker jeg af Hiertet at maatte opfylde alle Eders og kjere Forældres glade Forhaabninger ! Ogsaa ville vi ved det nye Aars Begyndelse , ganske forglemme de vore forrige smaae Uvenskaber og Stridigheder , som nu da vi ere blevne større og fornuftigere , synes os meget latterlige , og og barnagtige , ikke sandt mine kiere smaae Veninder ? Lev vel . Tænk undertiden paa mig med Kierlighed . Eders\n",
      "Camilla Wergeland\n",
      "Supplement : 3. juli [ 1839 ] . Brev til Emma Petersen .\n",
      "Ms.fol . 4120\n",
      "Alle 4 rundt om Bordet med et fuldt Blækhuus og tomme Hjerner ! man roser mig fordi jeg allerede har 2 Linier , kjere Emma disse 8 Dage har jeg ikke ret havt Mod til at ønske at Du var her thi jeg vilde med Grund frygte at Du havde længtes og fundet det langsomt . Vi have Lunde nok men ikke Din Lund , Din Lund ] Otto M. N. Lund ( 1811 – 91 ) som Emma Petersen ble gift med i 1840 Du maatte da have taget ham med og det vilde igjen været Synd i os Andre , thi Du vilde vel blevet ganske borte for os i den – « Fy det er utaknemlig af Dig , vil Du sige , at troe sligt , jeg har jo skrevet Dig til , og det et langt , ordentlig sammenhængende Brev » ! ja det er sandt kjere Emma , jeg bør idetmindste ikke klage . Jeg blev ganske rørt , da jeg opdagede at hiint Brev var fra Dig , Din og M-sM- s ] Emmas søster Malvina ( 1820 – 1909 ) , gift Døderlein Haandskrift ligne saa hinanden at jeg troede efter hele den første Side , det var fra hende , thi jeg fattede ikke det Umuelige – da , i min første Rørelse burde jeg have svaret . Troe ikke at vi ville opgive Dig fordi Du paa en Maade er bleven « abtrünnig » abtrünnig ] tysk : frafallen , troløs i vor lille Forening , tvertimod vi omfatte Dig med en vis medlidende Kjerlighed som ethvert vildfarende Barn , og naar nu først L. L. ] dvs. Otto M. N. Lund er borte og Du begynder at trænge lidt til os igjen , saa ville vi lade Naade gaae for Ret , og Du skal blive høitidelig optaget i Ordenen igjen . Denne høitidelige Indlemmelse i vort gamle Frøkenforbund vil saa passelig skee til Julen , det vil blive en Forsoningsfest . EmilieEmilie ] Emilie Diriks ( 1810 – 43 ) sveder og stræver over et Familiebrev , vi trætte alle om hvem der skal skrive om Badehuset om Badeindretningen heroppe , jeg har unægtelig den første Ret dertil , da Kilden udspringer paa Præstegaardens Grund , altsaa af den Grund har jeg Grund til at lægge denne interessante Beskrivelse til Grund i mit Brev – Vi have virkelig faaet en Badeindretning i Eidsvoldbækken , tæt ved Huset ligger Kilden der er meget stærk , længer ude Badehuset med Bade- og Paaklædningsværelser , hvor Toiletspeil , Sopha og alt mueligt , disse sidste ere adskilte ved en Gang , men man resikerer ikke at blive seet da der er et Flor der rækker til Knæerne imellem . Dette er nu den materielle Beskrivelse , men den aandelige , det egentlige Liv , som vil følge bag efter , skal Du faae senere . Der bliver et fuldstændig Badeliv heroppe . OlsenOlsen ] Ole Severin Olsen ( 1811 – 73 ) , personellkapellan hos Nicolai Wergeland skal avertere efter Gjæster i Aviserne , her bliver bygget en Salon hvor der skal gives musikalske Aftenunderholdninger , Baller og Vandtoure , ligeledes bliver en Dal i vor Hestehavn der støder til , sat istand til amoureuse Intriguer og Rendezvous . Der har allerede meldt sig til Badet , en sindssvag Handelsbetjent og 2 værkbrudne Madammer fra Toten , ogsaa haves der Haab om at faae Fru Sissener , Fru Sissener ] Maren Sissener ( 1789 – 1864 ) , født Hals , mor til Colletts venninne Wilhelmine , gift Knudsen kort Saisonen lover at blive meget glimrende . Den , der meest glæder sig til dette , er Olsen . Du kan troe der er et Liv dernede . Forresten leve vi stille heroppe . Sidst Søndag var den ældste Skjelderupden ældste Skjelderup ] kanskje Peter Wilhelm Jørgensen Schjeldrup ( 1816 – 81 ) , bror av Christian Bernhard Koren Jørgensen Schjelderup her – vi gjorde da en lille Tour til Vogns . Han havde endelig resolveret til at komme efter at Olsen forgjæves mange Gange havde opmuntret ham , og Du kan tænke Dig hans hemmelige Skræk da han istædet for O. traf 4 Damer . Men hans Forknyttelse er virkelig kjedelig . HaraldHarald ] Harald Titus Alexis Wergeland ( 1811 – 93 ) , Colletts bror ogsaa total ubrugbar . Vi trænge til et Subject der blot kunde snakke . Der er mange Herrer der har ønsket at komme op , men deels due de ikke , dels mangler jeg Anledning til at bede dem . Siig Emil K. Emil K. ] Johan Frederik Emil Knudsen ( 1814 – 48 ) hvis han endnu er i Byen ( Marie hos D-sD- s ] dvs. Diriks ' mødte ham paa Gaden han spurgte efter Frøknerne og om « de vare glade da de reiste » – ) at han kan gjerne komme . Han kan jo tage sine Bøger med sig , jeg skal indestaae ham for at han skal læse ligesaa flittigt heroppe som i Lier . – Bedste Emma brænd denne Lap strax , den er virkelig uværdig selv til Papillot , men vær ædelmodig og betænk mig med nogle Linier , tænk nu skriver ingen til mig , send blot en lille Lap ind i Malv-s Brev til Din\n",
      "trofast hengivne\n",
      "C .\n",
      "Hanne GrüningHanne Grüning ] Johanne Marie Grüning ( 1817 – 45 ) , gift Baumann har skrevet mig fra London , hun synes alt er prægtigt , men dyrt . Aftenerne tilbringe de hjemme hos Tanten « die unter uns gesagt eine tödtlich langeweilige magre alte Person ist » , die unter uns gesagt eine tödtlich langeweilige magre alte Person ist ] tysk : som sagt mellom oss er en dødsens kjedelig mager gammel person ligner det ikke Hanne ?\n",
      "Frøken Emma Petersen\n",
      "Supplement : 18. november [ 1839 ] . Brev til Amalie Sofie Wergeland .\n",
      "Ms.fol . 3111\n",
      "Det er af puur Egoisme jeg skriver Dig disse Linier kjere Amalie , det er mindre fordi jeg venter at de ville glæde Dig end i det Haab at de ville opmuntre Dig til et lille Svar . Jeg har saa lidt at fortælle Dig om mit Ophold hernede der virkelig vil kunne intresere Dig , jeg deeltager saa lidt i den Verden der ligger udenfor mig , Comedie og Selskaber undgaaer jeg saa meget som mueligt , og hvad der ellers angaaer mig min Huuslige Færd , min Omgivelse , mine Beskjæftigelser vil Du tilstrækkelig faae at vide naar Du henvender Dig til Emilie D. Emilie D. ] Emilie Diriks ( 1810 – 43 ) til hende henviser jeg alle , der maatte ønske den Slags Oplysninger , altsaa min kjere Amalie , I deroppe lide ingen Nød i den Henseende , derimod trænger jeg i høieste Grad til at høre fra Eder . Vil Du troe at jeg endnu ikke har faaet en eneste venlig Linie hjemmefra , undtagen 2 Breve fra Fader der ere skrevne i hans allerværste Humeur og derfor lidet skikkede til Opmuntring for en stakkels længtende Sjel . Jeg indseer ikke hvormed jeg har fortjent denne Kulde og Forglemmelse . OscarOscar ] Oscar Wergeland ( 1815 – 95 ) , Colletts bror Henrik , Henrik ] Henrik Wergeland ( 1808 – 45 ) , Colletts bror ModerModer ] Alette Wergeland ( 1780 – 1843 ) , født Thaulow kunde dog gjerne spendere et Par Ord paa mig , jeg har bedet derom men det har ikke frugtet . Men Du min Amalie , Du gode venlige Sjel ! vil vist ikke ladelade ] ' la ' rettet fra ' be ' ved overskriving Dig bede forgjeves . Skriv mig ret snart , om alt hvad Du vil , hvorledes Du har det nu i denne triste Høsttid . Er Du endnu fornøiet med Huus og Have og Henrik , som i Sommer da Haven blomstrede , Væggene skinnede i det nye Huus og alting var nyt og skinnende ligefra Themaskinen indtil Kjerligheden . Hvorledes staaer til med Hvedebrødsdagene ? Ere de allerede ringed ud ligesom Markedsdagene ? jeg vil haabe nei , og for dem der rigtig elske hinanden bør de hverken ringes ud eller ind , man skal aldrig mærke nogen Overgang . Fortæl mig om Alt hvad tager H. sig fore nu . Hils ham fra mig er han i gode Humers.Humers ] dvs. Humeurs Fortæl mig alt nyt som Du kan opdrive . Det allerubetydeligste faaer Værd hernede . Jeg skulde give Guld for en Flig af Morgenbladet eller Nella , Nella ] avisen Den Constitutionelle og havde jeg en Intelligenzseddel vilde jeg læse den med den dybeste Andagt . Her i Kjøbenhavn skal jeg sige Dig kjere Amalie , er alle norske Blade forbudne . Da man aldrig er vant til i danske Blade at tage Bladet fra Munden og sige sin Mening , taaler de det heller ikke i andre , men derfor ere de danske Blade saa vamle og kjedsommelige at jeg gjerne skulde give dem alle for et retskaffent grovt Morgenblad . Kan Du erindre det var netop paa denne Tid for et Aar siden at vi begge havde vor Tandpine . Hvorledes gaaer det Dig denne Høst med denne Plage ? jeg staaer mig godt endnu og det kommer vel fornemmelig af Climatet hernede , bedre Huse . Jeg hærder mig desuden paa alle Maade baade Morgen og Aften vadsker jeg mig med iiskoldt Vand med en Svamp over hele Legemet , og gnider mig med Uld , det styrker ualmindelig og bevarer for al Slags Gigt . Jeg har aldrig været saa rask som nu , jeg er bleven saa feed at jeg maae lægge mine Kjoler ud 2 Fingre . Det var netop lidt senere at OlavsonOlavson ] Christian Olafsen ( 1811 – 72 ) , venn av Henrik Wergeland besøgte os i Fjor . Erindrer Du den første Aften Du maatte ind og være aimabelaimabel ] fransk : elskværdig , vennlig imedens jeg sad i ulidelige Smerter indenfor og hørte lidt af Conversationen ? den anden Dag stjal jeg mig ned i Stuen i min Tandpinenegligée , da jeg troede han var reist ! Du maa hilse Olafson at det ikke var smukt af ham , blot at afgive Visitkort og ikke komme indenfor , den Eftermiddag jeg pakkede ind , det lignede ikke ham at være saa stiv . og til Straf derfor , paalægger jeg ham et ordentlig Besøg hos os til Sommeren . Maaskee var det de mange Damestemmer indenfor der skræmmede ham ! Den derimod , der ikke lod sig skræmme , var vor Lieutnant fra i Sommer , Hr Adolph Møller , Hr Adolph Møller ] Johan Adolph Nicolai Møller ( jf. Wergeland 1974 , 50 ) han vovede sig lige ind i Ilden og blev der en god halv Time , og men kom vist ganske uskadt ud igjen . Vi havde det dog ret hyggeligt sammen i Fjor , naar jeg undtager hine Smertensdage . Jeg erindrer mig alt saa levende som om jeg var midt inde i hiin Tid . Hvorledes vi læste for af Stjernetyderen , Stjernetyderen ] Walter Scott : Guy Mannering eller Stjernetyderen , Kbh . 1823 ( jf. Wergeland 1974 , 50 ) hvorledes vi spadserte i ii ] gjentatt ved sideskift Mørkningen gjennem begge Værelser hvorledes vi sang hvorledes vi grublede over CapellanensCapellanens ] trolig Ole Severin Olsen ( 1811 – 73 ) , personellkapellan hos Nicolai Wergeland Gaadefuldhed , og hvor dydige vi vare oppe tidlig om Morgenen og spandt . og Julen , Amalie ! det var dog en deilig Juul en complet Juul ikke sandt . Der var alt hvad der udfordres til en Juul , der ikke saa let vil forglemmes . Vi havde jo alt prøvede jo Alt , havde jo Alt , Comedie og Dands , Kanefarter og Forlibelse og Digtere og Maaneskin og Capellaner og Kjælkebakke , der manglede intet . Gud veed hvordan den næste Juul bliver . Du reiser formodentlig hjem med H. Oscar maae være en god Erstatning , men jeg er bange I ville komme til at savne Pernille , og kanskee en eller anden en Smule Fru Terentia.Fru Terentia ] Pernille og Terentia : fra Ludvig Holbergs Den forvandlede Brudgom ( jf. Wergeland 1974 , 51 ) Den Juul jeg vil faae hernede vil blive af en ganske anden Sort . men næste ! maaskee vi da samles glade med hinanden igjen ! ja til næste Juul hvorledes er da Alt ? Lev nu vel , min kjere Alie og glem ikke min Bøn til Dig . jo m uforbeholdent jo vidtløftigere jo bedre . Skr om Alt , der er intet der mere vil glæde mig end at Du endnu tænker venlig paa mig , at Du holder lidt af\n",
      "Din Camilla\n",
      "Hils Dine ForældreDine Forældre ] Gunhild Marie ( 1800 – 81 ) , født Ihlen , og Peter Svendsen Bekkevold ( 1780 – 1851 ) – Din Moder især .\n",
      "Til Madam Amalie Wergeland\n"
     ]
    }
   ],
   "source": [
    "print('\\n'.join([' '.join(y) for y in kilder_korpus['NBkilder_Collett_Brev_1841-51.xml']]))"
   ]
  },
  {
   "cell_type": "markdown",
   "metadata": {},
   "source": [
    "# Konkordanser"
   ]
  },
  {
   "cell_type": "markdown",
   "metadata": {},
   "source": [
    "### Søk i sekvenser av ord\n",
    "\n",
    "* Legg inn hvert ord i sekvensen i egne \" \" \n",
    "* Bruk komma mellom hvert søkeord\n",
    "* Before og after angir hvor mange ord du ønsker å se før og etter søkeordene"
   ]
  },
  {
   "cell_type": "code",
   "execution_count": 6,
   "metadata": {},
   "outputs": [
    {
     "data": {
      "text/markdown": [
       "### Konkordanser for *jeg er*"
      ],
      "text/plain": [
       "<IPython.core.display.Markdown object>"
      ]
     },
     "metadata": {},
     "output_type": "display_data"
    },
    {
     "data": {
      "text/markdown": [
       "#### NBkilder_Collett_Brev_1841-51.xml"
      ],
      "text/plain": [
       "<IPython.core.display.Markdown object>"
      ]
     },
     "metadata": {},
     "output_type": "display_data"
    },
    {
     "data": {
      "text/markdown": [
       "6: at han <span style='color:red'>er</span> saa lykkelig , og at <span style='color:red'>jeg</span> <span style='color:red'>er</span> saa elskværdig mod ham . Jeg"
      ],
      "text/plain": [
       "<IPython.core.display.Markdown object>"
      ]
     },
     "metadata": {},
     "output_type": "display_data"
    },
    {
     "data": {
      "text/markdown": [
       "6: saa elskværdig mod ham . Jeg troer ogsaa <span style='color:red'>jeg</span> <span style='color:red'>er</span> det , men hvorledes skulde det"
      ],
      "text/plain": [
       "<IPython.core.display.Markdown object>"
      ]
     },
     "metadata": {},
     "output_type": "display_data"
    },
    {
     "data": {
      "text/markdown": [
       "82: troe ikke <span style='color:red'>jeg</span> knurrer engang – men naar <span style='color:red'>jeg</span> <span style='color:red'>er</span> færdig <span style='color:red'>er</span> <span style='color:red'>jeg</span> erschöpft , erschöpft"
      ],
      "text/plain": [
       "<IPython.core.display.Markdown object>"
      ]
     },
     "metadata": {},
     "output_type": "display_data"
    },
    {
     "data": {
      "text/markdown": [
       "88: Bedste , Ædleste som gives , og at <span style='color:red'>jeg</span> <span style='color:red'>er</span> det Eneste han elsker . Hvilken"
      ],
      "text/plain": [
       "<IPython.core.display.Markdown object>"
      ]
     },
     "metadata": {},
     "output_type": "display_data"
    },
    {
     "data": {
      "text/markdown": [
       "94: aldrig . kunde være tilfreds , <span style='color:red'>jeg</span> føler <span style='color:red'>jeg</span> <span style='color:red'>er</span> det i Grunden hans Kjerlighed kan"
      ],
      "text/plain": [
       "<IPython.core.display.Markdown object>"
      ]
     },
     "metadata": {},
     "output_type": "display_data"
    },
    {
     "data": {
      "text/markdown": [
       "95: paa den Maade men <span style='color:red'>jeg</span> føler dybt at <span style='color:red'>jeg</span> <span style='color:red'>er</span> begunstigt fremfor 1000 og det giver"
      ],
      "text/plain": [
       "<IPython.core.display.Markdown object>"
      ]
     },
     "metadata": {},
     "output_type": "display_data"
    },
    {
     "data": {
      "text/markdown": [
       "114: saa godt som det efter Omstændighederne kunde , <span style='color:red'>jeg</span> <span style='color:red'>er</span> virkelig glad i Udbyttet – at"
      ],
      "text/plain": [
       "<IPython.core.display.Markdown object>"
      ]
     },
     "metadata": {},
     "output_type": "display_data"
    },
    {
     "data": {
      "text/markdown": [
       "116: et Ord om Dig og mig . Da <span style='color:red'>jeg</span> <span style='color:red'>er</span> Frue , maae <span style='color:red'>jeg</span> have Forrangen"
      ],
      "text/plain": [
       "<IPython.core.display.Markdown object>"
      ]
     },
     "metadata": {},
     "output_type": "display_data"
    },
    {
     "data": {
      "text/markdown": [
       "138: – dog det sidste <span style='color:red'>er</span> uvist – ja <span style='color:red'>jeg</span> <span style='color:red'>er</span> ikke engang ganske vis paa Fuglestegen"
      ],
      "text/plain": [
       "<IPython.core.display.Markdown object>"
      ]
     },
     "metadata": {},
     "output_type": "display_data"
    },
    {
     "data": {
      "text/markdown": [
       "148: Breve min C. overgaae imidlertid endnu mine , <span style='color:red'>jeg</span> <span style='color:red'>er</span> villig til at erkjende dette ."
      ],
      "text/plain": [
       "<IPython.core.display.Markdown object>"
      ]
     },
     "metadata": {},
     "output_type": "display_data"
    },
    {
     "data": {
      "text/markdown": [
       "221: . Havde Du ikke Lyst en Aften medens <span style='color:red'>jeg</span> <span style='color:red'>er</span> borte at bede Welh.Welh . ]"
      ],
      "text/plain": [
       "<IPython.core.display.Markdown object>"
      ]
     },
     "metadata": {},
     "output_type": "display_data"
    },
    {
     "data": {
      "text/markdown": [
       "221: Georg Sibbern ( 1816 – 1901 ) at <span style='color:red'>jeg</span> <span style='color:red'>er</span> oprigtig bedrøvet over at han skal"
      ],
      "text/plain": [
       "<IPython.core.display.Markdown object>"
      ]
     },
     "metadata": {},
     "output_type": "display_data"
    },
    {
     "data": {
      "text/markdown": [
       "263: og gjennem den ogsaa til Din – Naar <span style='color:red'>jeg</span> <span style='color:red'>er</span> glad holder <span style='color:red'>jeg</span> mest af Dig"
      ],
      "text/plain": [
       "<IPython.core.display.Markdown object>"
      ]
     },
     "metadata": {},
     "output_type": "display_data"
    },
    {
     "data": {
      "text/markdown": [
       "265: ved Fremmedes Næ [ r ] værelse . <span style='color:red'>jeg</span> <span style='color:red'>er</span> skinsyg over enhver Afbrydelse . Kom"
      ],
      "text/plain": [
       "<IPython.core.display.Markdown object>"
      ]
     },
     "metadata": {},
     "output_type": "display_data"
    },
    {
     "data": {
      "text/markdown": [
       "274: "
      ],
      "text/plain": [
       "<IPython.core.display.Markdown object>"
      ]
     },
     "metadata": {},
     "output_type": "display_data"
    },
    {
     "data": {
      "text/markdown": [
       "274: Dig at <span style='color:red'>jeg</span> <span style='color:red'>er</span> mild og god naar <span style='color:red'>jeg</span> <span style='color:red'>er</span> sorgløs og uden Plage . Lev"
      ],
      "text/plain": [
       "<IPython.core.display.Markdown object>"
      ]
     },
     "metadata": {},
     "output_type": "display_data"
    },
    {
     "data": {
      "text/markdown": [
       "295: <span style='color:red'>jeg</span> har ikke forsøgt en eneste Linie . <span style='color:red'>jeg</span> <span style='color:red'>er</span> aldeles paa det Rene med mig"
      ],
      "text/plain": [
       "<IPython.core.display.Markdown object>"
      ]
     },
     "metadata": {},
     "output_type": "display_data"
    },
    {
     "data": {
      "text/markdown": [
       "316: mig deroppe , kommer der dog Øieblikke hvori <span style='color:red'>jeg</span> <span style='color:red'>er</span> uvisuvis ] Streket under med en"
      ],
      "text/plain": [
       "<IPython.core.display.Markdown object>"
      ]
     },
     "metadata": {},
     "output_type": "display_data"
    },
    {
     "data": {
      "text/markdown": [
       "331: en Feil der ikke kunde rettes – at <span style='color:red'>jeg</span> <span style='color:red'>er</span> saa alene her . Næsten alle"
      ],
      "text/plain": [
       "<IPython.core.display.Markdown object>"
      ]
     },
     "metadata": {},
     "output_type": "display_data"
    },
    {
     "data": {
      "text/markdown": [
       "331: Fru Münster , begge har Børn med. Naar <span style='color:red'>jeg</span> <span style='color:red'>er</span> alene <span style='color:red'>er</span> <span style='color:red'>jeg</span> mere alene end"
      ],
      "text/plain": [
       "<IPython.core.display.Markdown object>"
      ]
     },
     "metadata": {},
     "output_type": "display_data"
    },
    {
     "data": {
      "text/markdown": [
       "333: har Nød med at skjøtte mig selv – <span style='color:red'>jeg</span> <span style='color:red'>er</span> jo overladt til disse Fremmedes Vilkaarlighed"
      ],
      "text/plain": [
       "<IPython.core.display.Markdown object>"
      ]
     },
     "metadata": {},
     "output_type": "display_data"
    },
    {
     "data": {
      "text/markdown": [
       "357: har aldrig været saa rask som nu , <span style='color:red'>jeg</span> <span style='color:red'>er</span> bleven saa feed at <span style='color:red'>jeg</span> maae"
      ],
      "text/plain": [
       "<IPython.core.display.Markdown object>"
      ]
     },
     "metadata": {},
     "output_type": "display_data"
    },
    {
     "data": {
      "text/markdown": [
       "357: Oscar maae være en god Erstatning , men <span style='color:red'>jeg</span> <span style='color:red'>er</span> bange I ville komme til at"
      ],
      "text/plain": [
       "<IPython.core.display.Markdown object>"
      ]
     },
     "metadata": {},
     "output_type": "display_data"
    },
    {
     "data": {
      "text/markdown": [
       "#### NBkilder_Collett_Brev_1852-63.xml"
      ],
      "text/plain": [
       "<IPython.core.display.Markdown object>"
      ]
     },
     "metadata": {},
     "output_type": "display_data"
    },
    {
     "data": {
      "text/markdown": [
       "45: kan det endvidere fornøie Dem at høre at <span style='color:red'>jeg</span> <span style='color:red'>er</span> færdig at døe af Længsel efter"
      ],
      "text/plain": [
       "<IPython.core.display.Markdown object>"
      ]
     },
     "metadata": {},
     "output_type": "display_data"
    },
    {
     "data": {
      "text/markdown": [
       "48: nogle juridiske Opsatser , Attester og desligt synes <span style='color:red'>jeg</span> <span style='color:red'>er</span> bedre opbevaret hos Dem Johan og"
      ],
      "text/plain": [
       "<IPython.core.display.Markdown object>"
      ]
     },
     "metadata": {},
     "output_type": "display_data"
    },
    {
     "data": {
      "text/markdown": [
       "56: Raad . Carl <span style='color:red'>er</span> meget god , og <span style='color:red'>jeg</span> <span style='color:red'>er</span> saare glad ved at have dette"
      ],
      "text/plain": [
       "<IPython.core.display.Markdown object>"
      ]
     },
     "metadata": {},
     "output_type": "display_data"
    },
    {
     "data": {
      "text/markdown": [
       "60: 58 ) , ugift da hils hende at <span style='color:red'>jeg</span> <span style='color:red'>er</span> taknemlig for BrevetBrevet ] Vi kjenner"
      ],
      "text/plain": [
       "<IPython.core.display.Markdown object>"
      ]
     },
     "metadata": {},
     "output_type": "display_data"
    },
    {
     "data": {
      "text/markdown": [
       "71: blot bede Brynie paatage sig Sagen , som <span style='color:red'>jeg</span> <span style='color:red'>er</span> vis paa han vil med sin"
      ],
      "text/plain": [
       "<IPython.core.display.Markdown object>"
      ]
     },
     "metadata": {},
     "output_type": "display_data"
    },
    {
     "data": {
      "text/markdown": [
       "96: dobbelt Grund » sagde han « først fordi <span style='color:red'>jeg</span> <span style='color:red'>er</span> fremmed og fordi <span style='color:red'>jeg</span> <span style='color:red'>er</span> Herregaardsmand"
      ],
      "text/plain": [
       "<IPython.core.display.Markdown object>"
      ]
     },
     "metadata": {},
     "output_type": "display_data"
    },
    {
     "data": {
      "text/markdown": [
       "96: « først fordi <span style='color:red'>jeg</span> <span style='color:red'>er</span> fremmed og fordi <span style='color:red'>jeg</span> <span style='color:red'>er</span> Herregaardsmand , ja de sige det"
      ],
      "text/plain": [
       "<IPython.core.display.Markdown object>"
      ]
     },
     "metadata": {},
     "output_type": "display_data"
    },
    {
     "data": {
      "text/markdown": [
       "100: og denne det volder mig sand Glæde , <span style='color:red'>jeg</span> <span style='color:red'>er</span> paa det Venligste opfordret til at"
      ],
      "text/plain": [
       "<IPython.core.display.Markdown object>"
      ]
     },
     "metadata": {},
     "output_type": "display_data"
    },
    {
     "data": {
      "text/markdown": [
       "110: , » O ja det <span style='color:red'>er</span> bedrøveligt og <span style='color:red'>jeg</span> <span style='color:red'>er</span> vred paa mig selv at jeg"
      ],
      "text/plain": [
       "<IPython.core.display.Markdown object>"
      ]
     },
     "metadata": {},
     "output_type": "display_data"
    },
    {
     "data": {
      "text/markdown": [
       "128: en Menage som <span style='color:red'>er</span> lidt anderledes end den <span style='color:red'>jeg</span> <span style='color:red'>er</span> vant til , Min Morgen begynder"
      ],
      "text/plain": [
       "<IPython.core.display.Markdown object>"
      ]
     },
     "metadata": {},
     "output_type": "display_data"
    },
    {
     "data": {
      "text/markdown": [
       "149: Led i dette behagelige Kløverblad . Han troer <span style='color:red'>jeg</span> <span style='color:red'>er</span> en skikkelig Mand men som plages"
      ],
      "text/plain": [
       "<IPython.core.display.Markdown object>"
      ]
     },
     "metadata": {},
     "output_type": "display_data"
    },
    {
     "data": {
      "text/markdown": [
       "257: et Brev , <span style='color:red'>jeg</span> har ikke kunnet , <span style='color:red'>jeg</span> <span style='color:red'>er</span> saa slap i Aanden , klage"
      ],
      "text/plain": [
       "<IPython.core.display.Markdown object>"
      ]
     },
     "metadata": {},
     "output_type": "display_data"
    },
    {
     "data": {
      "text/markdown": [
       "275: dernede , saa vil <span style='color:red'>jeg</span> ikke angre at <span style='color:red'>jeg</span> <span style='color:red'>er</span> vendt tilbage til vor stille By"
      ],
      "text/plain": [
       "<IPython.core.display.Markdown object>"
      ]
     },
     "metadata": {},
     "output_type": "display_data"
    },
    {
     "data": {
      "text/markdown": [
       "323: saa træt ."
      ],
      "text/plain": [
       "<IPython.core.display.Markdown object>"
      ]
     },
     "metadata": {},
     "output_type": "display_data"
    },
    {
     "data": {
      "text/markdown": [
       "332: Livet hernede hvad der kan interessere Dig , <span style='color:red'>jeg</span> <span style='color:red'>er</span> saa lidet med , at jeg"
      ],
      "text/plain": [
       "<IPython.core.display.Markdown object>"
      ]
     },
     "metadata": {},
     "output_type": "display_data"
    },
    {
     "data": {
      "text/markdown": [
       "364: nærmeste Omgivelse , maa <span style='color:red'>jeg</span> have det som <span style='color:red'>jeg</span> <span style='color:red'>er</span> vant til det , <span style='color:red'>jeg</span> kan"
      ],
      "text/plain": [
       "<IPython.core.display.Markdown object>"
      ]
     },
     "metadata": {},
     "output_type": "display_data"
    },
    {
     "data": {
      "text/markdown": [
       "477: vel endnu borte fra Dato . Hver Dag <span style='color:red'>jeg</span> <span style='color:red'>er</span> borte fra Chr.Chr . ] dvs."
      ],
      "text/plain": [
       "<IPython.core.display.Markdown object>"
      ]
     },
     "metadata": {},
     "output_type": "display_data"
    },
    {
     "data": {
      "text/markdown": [
       "515: <span style='color:red'>er</span> jo ikke heller for Gevindsten Skyld , <span style='color:red'>jeg</span> <span style='color:red'>er</span> og vil ansee mig lønnet ved"
      ],
      "text/plain": [
       "<IPython.core.display.Markdown object>"
      ]
     },
     "metadata": {},
     "output_type": "display_data"
    },
    {
     "data": {
      "text/markdown": [
       "565: kan ikke hjelpe dem kjere Johan , men <span style='color:red'>jeg</span> <span style='color:red'>er</span> virkelig sparsommelig og ordentlig , jeg"
      ],
      "text/plain": [
       "<IPython.core.display.Markdown object>"
      ]
     },
     "metadata": {},
     "output_type": "display_data"
    },
    {
     "data": {
      "text/markdown": [
       "#### NBkilder_Collett_Brev_til_Bjornson.xml"
      ],
      "text/plain": [
       "<IPython.core.display.Markdown object>"
      ]
     },
     "metadata": {},
     "output_type": "display_data"
    },
    {
     "data": {
      "text/markdown": [
       "9: Sag at faa hans varme Anbefaling , ligesom <span style='color:red'>jeg</span> <span style='color:red'>er</span> vis paa , at Colletts endnu"
      ],
      "text/plain": [
       "<IPython.core.display.Markdown object>"
      ]
     },
     "metadata": {},
     "output_type": "display_data"
    },
    {
     "data": {
      "text/markdown": [
       "#### NBkilder_Collett_Brev_til_Ibsen.xml"
      ],
      "text/plain": [
       "<IPython.core.display.Markdown object>"
      ]
     },
     "metadata": {},
     "output_type": "display_data"
    },
    {
     "data": {
      "text/markdown": [
       "110: Ak <span style='color:red'>jeg</span> ved ikke hvordan det <span style='color:red'>er</span> , <span style='color:red'>jeg</span> <span style='color:red'>er</span> mer melankolsk end nogensinde før denne"
      ],
      "text/plain": [
       "<IPython.core.display.Markdown object>"
      ]
     },
     "metadata": {},
     "output_type": "display_data"
    },
    {
     "data": {
      "text/markdown": [
       "156: overskriving <span style='color:red'>jeg</span> vil en Aftenstund glemme at « <span style='color:red'>jeg</span> <span style='color:red'>er</span> i Kristiania » . Deres Camilla"
      ],
      "text/plain": [
       "<IPython.core.display.Markdown object>"
      ]
     },
     "metadata": {},
     "output_type": "display_data"
    },
    {
     "data": {
      "text/markdown": [
       "172: af Kvinden . Os skade det ikke Og <span style='color:red'>jeg</span> <span style='color:red'>er</span> fotet om at enhver skikkelig Mand"
      ],
      "text/plain": [
       "<IPython.core.display.Markdown object>"
      ]
     },
     "metadata": {},
     "output_type": "display_data"
    },
    {
     "data": {
      "text/markdown": [
       "#### NBkilder_Collett_Brev_til_Lie.xml"
      ],
      "text/plain": [
       "<IPython.core.display.Markdown object>"
      ]
     },
     "metadata": {},
     "output_type": "display_data"
    },
    {
     "data": {
      "text/markdown": [
       "15: kan derfor uden Ubeskedenhed modtage det sendte , <span style='color:red'>jeg</span> <span style='color:red'>er</span> fornøiet dermed og takker Dem til"
      ],
      "text/plain": [
       "<IPython.core.display.Markdown object>"
      ]
     },
     "metadata": {},
     "output_type": "display_data"
    },
    {
     "data": {
      "text/markdown": [
       "45: ° 3496 ) faa dette afsat ? Hvorfor <span style='color:red'>jeg</span> <span style='color:red'>er</span> den Eneste af hans norske Forlagsbørn"
      ],
      "text/plain": [
       "<IPython.core.display.Markdown object>"
      ]
     },
     "metadata": {},
     "output_type": "display_data"
    },
    {
     "data": {
      "text/markdown": [
       "52: det anderledes , vilde <span style='color:red'>jeg</span> ikke være den <span style='color:red'>jeg</span> <span style='color:red'>er</span> ."
      ],
      "text/plain": [
       "<IPython.core.display.Markdown object>"
      ]
     },
     "metadata": {},
     "output_type": "display_data"
    },
    {
     "data": {
      "text/markdown": [
       "54: Dem for Bogen . Jeg tilstår , at <span style='color:red'>jeg</span> <span style='color:red'>er</span> bleven for gammel for Genren ,"
      ],
      "text/plain": [
       "<IPython.core.display.Markdown object>"
      ]
     },
     "metadata": {},
     "output_type": "display_data"
    },
    {
     "data": {
      "text/markdown": [
       "102: erindrer ikke en Eneste af dem , at <span style='color:red'>jeg</span> <span style='color:red'>er</span> til ."
      ],
      "text/plain": [
       "<IPython.core.display.Markdown object>"
      ]
     },
     "metadata": {},
     "output_type": "display_data"
    },
    {
     "data": {
      "text/markdown": [
       "116: , sige ham dette , sige ham at <span style='color:red'>jeg</span> <span style='color:red'>er</span> ganske uskikket til den Slags active"
      ],
      "text/plain": [
       "<IPython.core.display.Markdown object>"
      ]
     },
     "metadata": {},
     "output_type": "display_data"
    },
    {
     "data": {
      "text/markdown": [
       "127: 1833 – 1907 ) <span style='color:red'>jeg</span> i den Stemning <span style='color:red'>jeg</span> <span style='color:red'>er</span> alene kunde ønske at treffe ,"
      ],
      "text/plain": [
       "<IPython.core.display.Markdown object>"
      ]
     },
     "metadata": {},
     "output_type": "display_data"
    },
    {
     "data": {
      "text/markdown": [
       "#### NBkilder_Collett_Skildpadde.xml"
      ],
      "text/plain": [
       "<IPython.core.display.Markdown object>"
      ]
     },
     "metadata": {},
     "output_type": "display_data"
    },
    {
     "data": {
      "text/markdown": [
       "7: Constitutionelle ( 1836 – 47 ) imod da <span style='color:red'>jeg</span> <span style='color:red'>er</span> fuldkommen enig med Dem , at"
      ],
      "text/plain": [
       "<IPython.core.display.Markdown object>"
      ]
     },
     "metadata": {},
     "output_type": "display_data"
    },
    {
     "data": {
      "text/markdown": [
       "25: forebygge at min Interesse ogsaa omfattede Forfatteren ? <span style='color:red'>jeg</span> <span style='color:red'>er</span> selv ikke enig om var Digteren"
      ],
      "text/plain": [
       "<IPython.core.display.Markdown object>"
      ]
     },
     "metadata": {},
     "output_type": "display_data"
    },
    {
     "data": {
      "text/markdown": [
       "27: , men fordi mine Evner strande her , <span style='color:red'>jeg</span> <span style='color:red'>er</span> saaledes ikke istand til at forklare"
      ],
      "text/plain": [
       "<IPython.core.display.Markdown object>"
      ]
     },
     "metadata": {},
     "output_type": "display_data"
    },
    {
     "data": {
      "text/markdown": [
       "27: 1913 : ' sirligste ' Tænder , ( <span style='color:red'>jeg</span> <span style='color:red'>er</span> en stor Ynder af hvide Tænder"
      ],
      "text/plain": [
       "<IPython.core.display.Markdown object>"
      ]
     },
     "metadata": {},
     "output_type": "display_data"
    },
    {
     "data": {
      "text/markdown": [
       "41: Det <span style='color:red'>er</span> Skade , sagde <span style='color:red'>jeg</span> , thi <span style='color:red'>jeg</span> <span style='color:red'>er</span> just en Elsker af forbuden Frugt"
      ],
      "text/plain": [
       "<IPython.core.display.Markdown object>"
      ]
     },
     "metadata": {},
     "output_type": "display_data"
    },
    {
     "data": {
      "text/markdown": [
       "47: gives Øieblikke , skjelden kostbare Øieblikke , hvor <span style='color:red'>jeg</span> <span style='color:red'>er</span> lykkelig uden noget bestemt Hvorfor ,"
      ],
      "text/plain": [
       "<IPython.core.display.Markdown object>"
      ]
     },
     "metadata": {},
     "output_type": "display_data"
    },
    {
     "data": {
      "text/markdown": [
       "47: <span style='color:red'>jeg</span> <span style='color:red'>er</span> lykkelig uden noget bestemt Hvorfor , <span style='color:red'>jeg</span> <span style='color:red'>er</span> det i mig selv , jeg"
      ],
      "text/plain": [
       "<IPython.core.display.Markdown object>"
      ]
     },
     "metadata": {},
     "output_type": "display_data"
    },
    {
     "data": {
      "text/markdown": [
       "62: over dette unbefangne , ich auch , men <span style='color:red'>jeg</span> <span style='color:red'>er</span> heller ikke længer henrykt . Sengene"
      ],
      "text/plain": [
       "<IPython.core.display.Markdown object>"
      ]
     },
     "metadata": {},
     "output_type": "display_data"
    },
    {
     "data": {
      "text/markdown": [
       "64: – « Jeg troede De ønskede den , <span style='color:red'>jeg</span> <span style='color:red'>er</span> bange De bliver brun af Solen"
      ],
      "text/plain": [
       "<IPython.core.display.Markdown object>"
      ]
     },
     "metadata": {},
     "output_type": "display_data"
    },
    {
     "data": {
      "text/markdown": [
       "#### NBkilder_Dardel_Voyage.xml"
      ],
      "text/plain": [
       "<IPython.core.display.Markdown object>"
      ]
     },
     "metadata": {},
     "output_type": "display_data"
    },
    {
     "data": {
      "text/markdown": [
       "781: og tenker med takknemlighet på den rause gjestfriheten <span style='color:red'>jeg</span> <span style='color:red'>er</span> blitt møtt med , og den"
      ],
      "text/plain": [
       "<IPython.core.display.Markdown object>"
      ]
     },
     "metadata": {},
     "output_type": "display_data"
    },
    {
     "data": {
      "text/markdown": [
       "#### NBkilder_Kjerulf_1840.xml"
      ],
      "text/plain": [
       "<IPython.core.display.Markdown object>"
      ]
     },
     "metadata": {},
     "output_type": "display_data"
    },
    {
     "data": {
      "text/markdown": [
       "8: – Men denne tomme Opregnen duer ikke og <span style='color:red'>jeg</span> <span style='color:red'>er</span> igrunden en Lægmand i Bedømmelsen af"
      ],
      "text/plain": [
       "<IPython.core.display.Markdown object>"
      ]
     },
     "metadata": {},
     "output_type": "display_data"
    },
    {
     "data": {
      "text/markdown": [
       "19: en Fioriture og smiler og leer – og <span style='color:red'>jeg</span> <span style='color:red'>er</span> stum , <span style='color:red'>jeg</span> <span style='color:red'>er</span> ikke istand"
      ],
      "text/plain": [
       "<IPython.core.display.Markdown object>"
      ]
     },
     "metadata": {},
     "output_type": "display_data"
    },
    {
     "data": {
      "text/markdown": [
       "19: og leer – og <span style='color:red'>jeg</span> <span style='color:red'>er</span> stum , <span style='color:red'>jeg</span> <span style='color:red'>er</span> ikke istand til røre mig thi"
      ],
      "text/plain": [
       "<IPython.core.display.Markdown object>"
      ]
     },
     "metadata": {},
     "output_type": "display_data"
    },
    {
     "data": {
      "text/markdown": [
       "31: Men <span style='color:red'>jeg</span> var næsten i Taarer , thi <span style='color:red'>jeg</span> <span style='color:red'>er</span> ung endda . Ak ! disse"
      ],
      "text/plain": [
       "<IPython.core.display.Markdown object>"
      ]
     },
     "metadata": {},
     "output_type": "display_data"
    },
    {
     "data": {
      "text/markdown": [
       "37: d . 18 : En Dag endnu og <span style='color:red'>jeg</span> <span style='color:red'>er</span> her ikke mere . Jeg kan"
      ],
      "text/plain": [
       "<IPython.core.display.Markdown object>"
      ]
     },
     "metadata": {},
     "output_type": "display_data"
    },
    {
     "data": {
      "text/markdown": [
       "46: denne Aften og <span style='color:red'>jeg</span> havde svigtet hende – <span style='color:red'>jeg</span> <span style='color:red'>er</span> vis paa hun aldrig vil tilgive"
      ],
      "text/plain": [
       "<IPython.core.display.Markdown object>"
      ]
     },
     "metadata": {},
     "output_type": "display_data"
    },
    {
     "data": {
      "text/markdown": [
       "#### NBkilder_Kjerulf_1850.xml"
      ],
      "text/plain": [
       "<IPython.core.display.Markdown object>"
      ]
     },
     "metadata": {},
     "output_type": "display_data"
    },
    {
     "data": {
      "text/markdown": [
       "21: ( ganske stille ) . Aa jo – <span style='color:red'>jeg</span> <span style='color:red'>er</span> dog fornøiet med Gade – han"
      ],
      "text/plain": [
       "<IPython.core.display.Markdown object>"
      ]
     },
     "metadata": {},
     "output_type": "display_data"
    },
    {
     "data": {
      "text/markdown": [
       "47: dog vel langt og noget enstonigt – men <span style='color:red'>jeg</span> <span style='color:red'>er</span> slet ikke vis derpaa . Det"
      ],
      "text/plain": [
       "<IPython.core.display.Markdown object>"
      ]
     },
     "metadata": {},
     "output_type": "display_data"
    },
    {
     "data": {
      "text/markdown": [
       "184: seet . Vi blive snart kjendte ; men <span style='color:red'>jeg</span> <span style='color:red'>er</span> for træt til at drikke Øl"
      ],
      "text/plain": [
       "<IPython.core.display.Markdown object>"
      ]
     },
     "metadata": {},
     "output_type": "display_data"
    },
    {
     "data": {
      "text/markdown": [
       "293: med Sperati . – Th . mener at <span style='color:red'>jeg</span> <span style='color:red'>er</span> saa slem at skrive til ."
      ],
      "text/plain": [
       "<IPython.core.display.Markdown object>"
      ]
     },
     "metadata": {},
     "output_type": "display_data"
    },
    {
     "data": {
      "text/markdown": [
       "#### NBkilder_Kjerulf_1851.xml"
      ],
      "text/plain": [
       "<IPython.core.display.Markdown object>"
      ]
     },
     "metadata": {},
     "output_type": "display_data"
    },
    {
     "data": {
      "text/markdown": [
       "162: — Aftenen i det kgl . Theater hvor <span style='color:red'>jeg</span> <span style='color:red'>er</span> meget heldig . Man giver Scribes"
      ],
      "text/plain": [
       "<IPython.core.display.Markdown object>"
      ]
     },
     "metadata": {},
     "output_type": "display_data"
    },
    {
     "data": {
      "text/markdown": [
       "222: ordentl sungne – men ingen Applaus ( hvad <span style='color:red'>jeg</span> <span style='color:red'>er</span> vant til – neml til ingen"
      ],
      "text/plain": [
       "<IPython.core.display.Markdown object>"
      ]
     },
     "metadata": {},
     "output_type": "display_data"
    },
    {
     "data": {
      "text/markdown": [
       "#### NBkilder_Kjerulf_1852.xml"
      ],
      "text/plain": [
       "<IPython.core.display.Markdown object>"
      ]
     },
     "metadata": {},
     "output_type": "display_data"
    },
    {
     "data": {
      "text/markdown": [
       "376: 15 Idag ankom Wankel & Timlers Flügel og <span style='color:red'>jeg</span> <span style='color:red'>er</span> vel tilfreds med det . –"
      ],
      "text/plain": [
       "<IPython.core.display.Markdown object>"
      ]
     },
     "metadata": {},
     "output_type": "display_data"
    },
    {
     "data": {
      "text/markdown": [
       "#### NBkilder_KKielland_AGarborg_brev.xml"
      ],
      "text/plain": [
       "<IPython.core.display.Markdown object>"
      ]
     },
     "metadata": {},
     "output_type": "display_data"
    },
    {
     "data": {
      "text/markdown": [
       "13: "
      ],
      "text/plain": [
       "<IPython.core.display.Markdown object>"
      ]
     },
     "metadata": {},
     "output_type": "display_data"
    },
    {
     "data": {
      "text/markdown": [
       "16: , at Menneskene <span style='color:red'>er</span> misundelige Dyr , og <span style='color:red'>jeg</span> <span style='color:red'>er</span> et Menneske ."
      ],
      "text/plain": [
       "<IPython.core.display.Markdown object>"
      ]
     },
     "metadata": {},
     "output_type": "display_data"
    },
    {
     "data": {
      "text/markdown": [
       "33: frisindet , at Du husker paa , at <span style='color:red'>jeg</span> <span style='color:red'>er</span> menneske . Slutten mangler"
      ],
      "text/plain": [
       "<IPython.core.display.Markdown object>"
      ]
     },
     "metadata": {},
     "output_type": "display_data"
    },
    {
     "data": {
      "text/markdown": [
       "61: , at <span style='color:red'>jeg</span> fremdeles skriver lidt virvar , <span style='color:red'>jeg</span> <span style='color:red'>er</span> heller ikke frisk , temmelig daarlig"
      ],
      "text/plain": [
       "<IPython.core.display.Markdown object>"
      ]
     },
     "metadata": {},
     "output_type": "display_data"
    },
    {
     "data": {
      "text/markdown": [
       "72: Jeg tror saa sikkert paa den , og <span style='color:red'>jeg</span> <span style='color:red'>er</span> saa spændt paa den , gid"
      ],
      "text/plain": [
       "<IPython.core.display.Markdown object>"
      ]
     },
     "metadata": {},
     "output_type": "display_data"
    },
    {
     "data": {
      "text/markdown": [
       "72: . Aa nei det <span style='color:red'>er</span> vel , fordi <span style='color:red'>jeg</span> <span style='color:red'>er</span> kommet i vane med at snakke"
      ],
      "text/plain": [
       "<IPython.core.display.Markdown object>"
      ]
     },
     "metadata": {},
     "output_type": "display_data"
    },
    {
     "data": {
      "text/markdown": [
       "101: kvinnesak som kristendomsfiendtlig . Du synes , at <span style='color:red'>jeg</span> <span style='color:red'>er</span> ækel nu , <span style='color:red'>jeg</span> ved det"
      ],
      "text/plain": [
       "<IPython.core.display.Markdown object>"
      ]
     },
     "metadata": {},
     "output_type": "display_data"
    },
    {
     "data": {
      "text/markdown": [
       "108: saa urimelig . Jeg mærker det , at <span style='color:red'>jeg</span> <span style='color:red'>er</span> saa infamt underlegen , naar der"
      ],
      "text/plain": [
       "<IPython.core.display.Markdown object>"
      ]
     },
     "metadata": {},
     "output_type": "display_data"
    },
    {
     "data": {
      "text/markdown": [
       "109: lægger mit besyv . Du forstaar , at <span style='color:red'>jeg</span> <span style='color:red'>er</span> varm og begeistret for den bogen"
      ],
      "text/plain": [
       "<IPython.core.display.Markdown object>"
      ]
     },
     "metadata": {},
     "output_type": "display_data"
    },
    {
     "data": {
      "text/markdown": [
       "110: <span style='color:red'>jeg</span> skal forsømme min egen kunst , men <span style='color:red'>jeg</span> <span style='color:red'>er</span> nu saa gammel , at kan"
      ],
      "text/plain": [
       "<IPython.core.display.Markdown object>"
      ]
     },
     "metadata": {},
     "output_type": "display_data"
    },
    {
     "data": {
      "text/markdown": [
       "111: , forfatter han føler sig alene , ja <span style='color:red'>jeg</span> <span style='color:red'>er</span> vis paa , at om bare"
      ],
      "text/plain": [
       "<IPython.core.display.Markdown object>"
      ]
     },
     "metadata": {},
     "output_type": "display_data"
    },
    {
     "data": {
      "text/markdown": [
       "123: fint og bravt skrevet end mit , men <span style='color:red'>jeg</span> <span style='color:red'>er</span> jo en idiot . Og dengang"
      ],
      "text/plain": [
       "<IPython.core.display.Markdown object>"
      ]
     },
     "metadata": {},
     "output_type": "display_data"
    },
    {
     "data": {
      "text/markdown": [
       "124: ) . Dette blir vist bravt , hvorover <span style='color:red'>jeg</span> <span style='color:red'>er</span> stolt , men du verden ,"
      ],
      "text/plain": [
       "<IPython.core.display.Markdown object>"
      ]
     },
     "metadata": {},
     "output_type": "display_data"
    },
    {
     "data": {
      "text/markdown": [
       "140: paa sligt . Ikke for det , – <span style='color:red'>jeg</span> <span style='color:red'>er</span> ræd <span style='color:red'>jeg</span> kunde finde paa det"
      ],
      "text/plain": [
       "<IPython.core.display.Markdown object>"
      ]
     },
     "metadata": {},
     "output_type": "display_data"
    },
    {
     "data": {
      "text/markdown": [
       "148: sygeligt . For har <span style='color:red'>jeg</span> saasandt , at <span style='color:red'>jeg</span> <span style='color:red'>er</span> gaaet indover grændsen af den lille"
      ],
      "text/plain": [
       "<IPython.core.display.Markdown object>"
      ]
     },
     "metadata": {},
     "output_type": "display_data"
    },
    {
     "data": {
      "text/markdown": [
       "165: <span style='color:red'>jeg</span> ikke havde ham . Nu , da <span style='color:red'>jeg</span> <span style='color:red'>er</span> angergiven , synes <span style='color:red'>jeg</span> forresten at"
      ],
      "text/plain": [
       "<IPython.core.display.Markdown object>"
      ]
     },
     "metadata": {},
     "output_type": "display_data"
    },
    {
     "data": {
      "text/markdown": [
       "215: Du bare faar den bandsat gale forestilling at <span style='color:red'>jeg</span> <span style='color:red'>er</span> blevet en tørpamp og en snerpe"
      ],
      "text/plain": [
       "<IPython.core.display.Markdown object>"
      ]
     },
     "metadata": {},
     "output_type": "display_data"
    },
    {
     "data": {
      "text/markdown": [
       "224: Arbeide hvis det behandles ikke altfor hensynsløst – <span style='color:red'>jeg</span> <span style='color:red'>er</span> meget fornøiet med det . Vilde"
      ],
      "text/plain": [
       "<IPython.core.display.Markdown object>"
      ]
     },
     "metadata": {},
     "output_type": "display_data"
    },
    {
     "data": {
      "text/markdown": [
       "224: gjort mig lidt mere kold og vond end <span style='color:red'>jeg</span> <span style='color:red'>er</span> af Naturen . Jeg kunde ha"
      ],
      "text/plain": [
       "<IPython.core.display.Markdown object>"
      ]
     },
     "metadata": {},
     "output_type": "display_data"
    },
    {
     "data": {
      "text/markdown": [
       "224: Pøbelen omkring og misforstaar mig derhen , at <span style='color:red'>jeg</span> <span style='color:red'>er</span> et Svin , som vil Svineri"
      ],
      "text/plain": [
       "<IPython.core.display.Markdown object>"
      ]
     },
     "metadata": {},
     "output_type": "display_data"
    },
    {
     "data": {
      "text/markdown": [
       "224: . ] til at afgive Forsikringer om at <span style='color:red'>jeg</span> <span style='color:red'>er</span> et skikkeligt Menneske osv. kan jeg"
      ],
      "text/plain": [
       "<IPython.core.display.Markdown object>"
      ]
     },
     "metadata": {},
     "output_type": "display_data"
    },
    {
     "data": {
      "text/markdown": [
       "267: … han lever i den Tro , at <span style='color:red'>jeg</span> <span style='color:red'>er</span> sint paa ham , fordi han"
      ],
      "text/plain": [
       "<IPython.core.display.Markdown object>"
      ]
     },
     "metadata": {},
     "output_type": "display_data"
    },
    {
     "data": {
      "text/markdown": [
       "307: da han blir rent utaalmodig over , at <span style='color:red'>jeg</span> <span style='color:red'>er</span> saa langt væk . At jeg"
      ],
      "text/plain": [
       "<IPython.core.display.Markdown object>"
      ]
     },
     "metadata": {},
     "output_type": "display_data"
    },
    {
     "data": {
      "text/markdown": [
       "307: hvert blir det mig næsten uudholdeligt , naar <span style='color:red'>jeg</span> <span style='color:red'>er</span> daalig at ligge her ganske alene"
      ],
      "text/plain": [
       "<IPython.core.display.Markdown object>"
      ]
     },
     "metadata": {},
     "output_type": "display_data"
    },
    {
     "data": {
      "text/markdown": [
       "308: de ere ikke af de værste , men <span style='color:red'>jeg</span> <span style='color:red'>er</span> nu ræd for at se dem"
      ],
      "text/plain": [
       "<IPython.core.display.Markdown object>"
      ]
     },
     "metadata": {},
     "output_type": "display_data"
    },
    {
     "data": {
      "text/markdown": [
       "308: doktorsamvittighed , og finder han ikke , at <span style='color:red'>jeg</span> <span style='color:red'>er</span> daarlig nok , saa faar jeg"
      ],
      "text/plain": [
       "<IPython.core.display.Markdown object>"
      ]
     },
     "metadata": {},
     "output_type": "display_data"
    },
    {
     "data": {
      "text/markdown": [
       "308: Jeg kan nok ved egen kraft , da <span style='color:red'>jeg</span> <span style='color:red'>er</span> en harhaus , blive bedre med"
      ],
      "text/plain": [
       "<IPython.core.display.Markdown object>"
      ]
     },
     "metadata": {},
     "output_type": "display_data"
    },
    {
     "data": {
      "text/markdown": [
       "322: ( det <span style='color:red'>er</span> græsk ! ) – Og <span style='color:red'>jeg</span> <span style='color:red'>er</span> sandt at sige lidt vant med"
      ],
      "text/plain": [
       "<IPython.core.display.Markdown object>"
      ]
     },
     "metadata": {},
     "output_type": "display_data"
    },
    {
     "data": {
      "text/markdown": [
       "332: , lengter , føler – altsammen . Naar <span style='color:red'>jeg</span> <span style='color:red'>er</span> færdig med det første Udkast ,"
      ],
      "text/plain": [
       "<IPython.core.display.Markdown object>"
      ]
     },
     "metadata": {},
     "output_type": "display_data"
    },
    {
     "data": {
      "text/markdown": [
       "360: eller været mig vanskeligere at forstaa ; men <span style='color:red'>jeg</span> <span style='color:red'>er</span> vis paa , at det ikke"
      ],
      "text/plain": [
       "<IPython.core.display.Markdown object>"
      ]
     },
     "metadata": {},
     "output_type": "display_data"
    },
    {
     "data": {
      "text/markdown": [
       "371: se at komme isæng før 11 , da <span style='color:red'>jeg</span> <span style='color:red'>er</span> saa træt idag . Velkommen snart"
      ],
      "text/plain": [
       "<IPython.core.display.Markdown object>"
      ]
     },
     "metadata": {},
     "output_type": "display_data"
    },
    {
     "data": {
      "text/markdown": [
       "388: . Du har sat Dig i Hovedet at <span style='color:red'>jeg</span> <span style='color:red'>er</span> en Huggeblok , og at jeg"
      ],
      "text/plain": [
       "<IPython.core.display.Markdown object>"
      ]
     },
     "metadata": {},
     "output_type": "display_data"
    },
    {
     "data": {
      "text/markdown": [
       "400: <span style='color:red'>jeg</span> ikke være Huleboer ? Det <span style='color:red'>er</span> det <span style='color:red'>jeg</span> <span style='color:red'>er</span> skabt til . Heroppe <span style='color:red'>er</span> det"
      ],
      "text/plain": [
       "<IPython.core.display.Markdown object>"
      ]
     },
     "metadata": {},
     "output_type": "display_data"
    },
    {
     "data": {
      "text/markdown": [
       "403: for Vinteren . Skjæld mig ud , fordi <span style='color:red'>jeg</span> <span style='color:red'>er</span> saa slap og lei ( skjønt"
      ],
      "text/plain": [
       "<IPython.core.display.Markdown object>"
      ]
     },
     "metadata": {},
     "output_type": "display_data"
    },
    {
     "data": {
      "text/markdown": [
       "433: seede paa den Maade , og <span style='color:red'>jeg</span> synes <span style='color:red'>jeg</span> <span style='color:red'>er</span> kommen nærmere Lyset og det høieste"
      ],
      "text/plain": [
       "<IPython.core.display.Markdown object>"
      ]
     },
     "metadata": {},
     "output_type": "display_data"
    },
    {
     "data": {
      "text/markdown": [
       "433: som egentlig bare <span style='color:red'>er</span> det enfoldigste . Og <span style='color:red'>jeg</span> <span style='color:red'>er</span> virkelig glad , naar nogen siger"
      ],
      "text/plain": [
       "<IPython.core.display.Markdown object>"
      ]
     },
     "metadata": {},
     "output_type": "display_data"
    },
    {
     "data": {
      "text/markdown": [
       "434: En af Dagene kanske faar Du høre at <span style='color:red'>jeg</span> <span style='color:red'>er</span> væk – har vovet et nyt"
      ],
      "text/plain": [
       "<IPython.core.display.Markdown object>"
      ]
     },
     "metadata": {},
     "output_type": "display_data"
    },
    {
     "data": {
      "text/markdown": [
       "434: Vær imidlertid snil og tag mig for den <span style='color:red'>jeg</span> <span style='color:red'>er</span> , og vær flink til PariserudstillingenPariserudstillingen"
      ],
      "text/plain": [
       "<IPython.core.display.Markdown object>"
      ]
     },
     "metadata": {},
     "output_type": "display_data"
    },
    {
     "data": {
      "text/markdown": [
       "#### NBkilder_KKielland_DSkavlan_brev.xml"
      ],
      "text/plain": [
       "<IPython.core.display.Markdown object>"
      ]
     },
     "metadata": {},
     "output_type": "display_data"
    },
    {
     "data": {
      "text/markdown": [
       "25: maleriet hun fikk antatt i 1881 . Hvorfor <span style='color:red'>jeg</span> <span style='color:red'>er</span> idag i meget slet humeur ."
      ],
      "text/plain": [
       "<IPython.core.display.Markdown object>"
      ]
     },
     "metadata": {},
     "output_type": "display_data"
    },
    {
     "data": {
      "text/markdown": [
       "43: Kitty og Dagmar . Du synes kanske , <span style='color:red'>jeg</span> <span style='color:red'>er</span> lidt vigtig , men det har"
      ],
      "text/plain": [
       "<IPython.core.display.Markdown object>"
      ]
     },
     "metadata": {},
     "output_type": "display_data"
    },
    {
     "data": {
      "text/markdown": [
       "47: . Søster av Kitty og Dagmar . og <span style='color:red'>jeg</span> <span style='color:red'>er</span> begyndt at skrive om , at"
      ],
      "text/plain": [
       "<IPython.core.display.Markdown object>"
      ]
     },
     "metadata": {},
     "output_type": "display_data"
    },
    {
     "data": {
      "text/markdown": [
       "51: hermed ogsaa antyde Magda og sige , hvad <span style='color:red'>jeg</span> <span style='color:red'>er</span> komme til at tro om hende"
      ],
      "text/plain": [
       "<IPython.core.display.Markdown object>"
      ]
     },
     "metadata": {},
     "output_type": "display_data"
    },
    {
     "data": {
      "text/markdown": [
       "57: til nogen , kjære dig , synes du <span style='color:red'>jeg</span> <span style='color:red'>er</span> ukvindelig , saa sig det ,"
      ],
      "text/plain": [
       "<IPython.core.display.Markdown object>"
      ]
     },
     "metadata": {},
     "output_type": "display_data"
    },
    {
     "data": {
      "text/markdown": [
       "57: <span style='color:red'>jeg</span> <span style='color:red'>er</span> ukvindelig , saa sig det , <span style='color:red'>jeg</span> <span style='color:red'>er</span> saa fyldt af den Sorg ,"
      ],
      "text/plain": [
       "<IPython.core.display.Markdown object>"
      ]
     },
     "metadata": {},
     "output_type": "display_data"
    },
    {
     "data": {
      "text/markdown": [
       "57: efter min Mening demoraliserende Ægteskab . Ja Dagmar <span style='color:red'>jeg</span> <span style='color:red'>er</span> næsten kommen til at den ugifte"
      ],
      "text/plain": [
       "<IPython.core.display.Markdown object>"
      ]
     },
     "metadata": {},
     "output_type": "display_data"
    },
    {
     "data": {
      "text/markdown": [
       "58: du Mændene <span style='color:red'>er</span> morsomme at tale med og <span style='color:red'>jeg</span> <span style='color:red'>er</span> mangen Gang meget indtaget i Øieblikket"
      ],
      "text/plain": [
       "<IPython.core.display.Markdown object>"
      ]
     },
     "metadata": {},
     "output_type": "display_data"
    },
    {
     "data": {
      "text/markdown": [
       "72: var blævet vred over mit lange brev – <span style='color:red'>jeg</span> <span style='color:red'>er</span> en kujon ser Du . At"
      ],
      "text/plain": [
       "<IPython.core.display.Markdown object>"
      ]
     },
     "metadata": {},
     "output_type": "display_data"
    },
    {
     "data": {
      "text/markdown": [
       "76: andre , <span style='color:red'>jeg</span> tror , at ens eget <span style='color:red'>jeg</span> <span style='color:red'>er</span> det vigtigste for en selv ,"
      ],
      "text/plain": [
       "<IPython.core.display.Markdown object>"
      ]
     },
     "metadata": {},
     "output_type": "display_data"
    },
    {
     "data": {
      "text/markdown": [
       "76: men det <span style='color:red'>er</span> ækelt at føle , at <span style='color:red'>jeg</span> <span style='color:red'>er</span> saa lidet frisk , at jeg"
      ],
      "text/plain": [
       "<IPython.core.display.Markdown object>"
      ]
     },
     "metadata": {},
     "output_type": "display_data"
    },
    {
     "data": {
      "text/markdown": [
       "78: <span style='color:red'>er</span> hyggeligt at de kommer herud , men <span style='color:red'>jeg</span> <span style='color:red'>er</span> lidt bange for at <span style='color:red'>jeg</span> efter"
      ],
      "text/plain": [
       "<IPython.core.display.Markdown object>"
      ]
     },
     "metadata": {},
     "output_type": "display_data"
    },
    {
     "data": {
      "text/markdown": [
       "85: noksaa skral , hun misunder mig næsten at <span style='color:red'>jeg</span> <span style='color:red'>er</span> saa frisk eller rettere ønsker det"
      ],
      "text/plain": [
       "<IPython.core.display.Markdown object>"
      ]
     },
     "metadata": {},
     "output_type": "display_data"
    },
    {
     "data": {
      "text/markdown": [
       "106: "
      ],
      "text/plain": [
       "<IPython.core.display.Markdown object>"
      ]
     },
     "metadata": {},
     "output_type": "display_data"
    },
    {
     "data": {
      "text/markdown": [
       "106: Laache ( 1867 – 1946 ) . og <span style='color:red'>jeg</span> <span style='color:red'>er</span> altid sammen , hun maa leve"
      ],
      "text/plain": [
       "<IPython.core.display.Markdown object>"
      ]
     },
     "metadata": {},
     "output_type": "display_data"
    },
    {
     "data": {
      "text/markdown": [
       "#### NBkilder_KKielland_EPeterssen_brev.xml"
      ],
      "text/plain": [
       "<IPython.core.display.Markdown object>"
      ]
     },
     "metadata": {},
     "output_type": "display_data"
    },
    {
     "data": {
      "text/markdown": [
       "2: <span style='color:red'>jeg</span> kan saa vanskelig være skarpretter , og <span style='color:red'>jeg</span> <span style='color:red'>er</span> ikke kritisk , ved de ?"
      ],
      "text/plain": [
       "<IPython.core.display.Markdown object>"
      ]
     },
     "metadata": {},
     "output_type": "display_data"
    },
    {
     "data": {
      "text/markdown": [
       "13: paa jernbanen vilde ikke tage imod dem , <span style='color:red'>jeg</span> <span style='color:red'>er</span> overbevist om , at det var"
      ],
      "text/plain": [
       "<IPython.core.display.Markdown object>"
      ]
     },
     "metadata": {},
     "output_type": "display_data"
    },
    {
     "data": {
      "text/markdown": [
       "19: studier , men det kan godt være , <span style='color:red'>jeg</span> <span style='color:red'>er</span> kommet ind paa noget andet nu"
      ],
      "text/plain": [
       "<IPython.core.display.Markdown object>"
      ]
     },
     "metadata": {},
     "output_type": "display_data"
    },
    {
     "data": {
      "text/markdown": [
       "27: "
      ],
      "text/plain": [
       "<IPython.core.display.Markdown object>"
      ]
     },
     "metadata": {},
     "output_type": "display_data"
    },
    {
     "data": {
      "text/markdown": [
       "29: <span style='color:red'>jeg</span> faa nok at gjøre . Men hvor <span style='color:red'>jeg</span> <span style='color:red'>er</span> ynkelig , det <span style='color:red'>er</span> rent komisk"
      ],
      "text/plain": [
       "<IPython.core.display.Markdown object>"
      ]
     },
     "metadata": {},
     "output_type": "display_data"
    },
    {
     "data": {
      "text/markdown": [
       "51: , om det <span style='color:red'>er</span> lykkedes eller ei ; <span style='color:red'>jeg</span> <span style='color:red'>er</span> bleven fêteret , intviteret – kort"
      ],
      "text/plain": [
       "<IPython.core.display.Markdown object>"
      ]
     },
     "metadata": {},
     "output_type": "display_data"
    },
    {
     "data": {
      "text/markdown": [
       "68: alle Folk tror at <span style='color:red'>jeg</span> morer , og <span style='color:red'>jeg</span> <span style='color:red'>er</span> altfor – ja <span style='color:red'>jeg</span> ved ikke"
      ],
      "text/plain": [
       "<IPython.core.display.Markdown object>"
      ]
     },
     "metadata": {},
     "output_type": "display_data"
    },
    {
     "data": {
      "text/markdown": [
       "68: at ville forsøge at modbevise det . Og <span style='color:red'>jeg</span> <span style='color:red'>er</span> heller ikke frisk ; hoster skrækkeligt"
      ],
      "text/plain": [
       "<IPython.core.display.Markdown object>"
      ]
     },
     "metadata": {},
     "output_type": "display_data"
    },
    {
     "data": {
      "text/markdown": [
       "68: drømmer blandt meget Andet hver Nat , at <span style='color:red'>jeg</span> <span style='color:red'>er</span> på mit Atelier og arbeider ."
      ],
      "text/plain": [
       "<IPython.core.display.Markdown object>"
      ]
     },
     "metadata": {},
     "output_type": "display_data"
    },
    {
     "data": {
      "text/markdown": [
       "68: <span style='color:red'>er</span> Noget i Luften , som gjør at <span style='color:red'>jeg</span> <span style='color:red'>er</span> fuldstændig « tummelumsk » i Hovedet"
      ],
      "text/plain": [
       "<IPython.core.display.Markdown object>"
      ]
     },
     "metadata": {},
     "output_type": "display_data"
    },
    {
     "data": {
      "text/markdown": [
       "68: Jeg må ofte bebreide mig selv , at <span style='color:red'>jeg</span> <span style='color:red'>er</span> så lidet glad i at være"
      ],
      "text/plain": [
       "<IPython.core.display.Markdown object>"
      ]
     },
     "metadata": {},
     "output_type": "display_data"
    },
    {
     "data": {
      "text/markdown": [
       "89: at få det så på Atelieret , at <span style='color:red'>jeg</span> <span style='color:red'>er</span> helst der ; thi hvor opmærksomme"
      ],
      "text/plain": [
       "<IPython.core.display.Markdown object>"
      ]
     },
     "metadata": {},
     "output_type": "display_data"
    },
    {
     "data": {
      "text/markdown": [
       "89: ikke Alvor i Noget af det – men <span style='color:red'>jeg</span> <span style='color:red'>er</span> stygt bange for , at han"
      ],
      "text/plain": [
       "<IPython.core.display.Markdown object>"
      ]
     },
     "metadata": {},
     "output_type": "display_data"
    },
    {
     "data": {
      "text/markdown": [
       "93: ikke lad dem indvirke paa , undskyld at <span style='color:red'>jeg</span> <span style='color:red'>er</span> saa vigtig at sige det ."
      ],
      "text/plain": [
       "<IPython.core.display.Markdown object>"
      ]
     },
     "metadata": {},
     "output_type": "display_data"
    },
    {
     "data": {
      "text/markdown": [
       "95: 1906 ) , maler . om dette , <span style='color:red'>jeg</span> <span style='color:red'>er</span> gjerrig paa det , de andre"
      ],
      "text/plain": [
       "<IPython.core.display.Markdown object>"
      ]
     },
     "metadata": {},
     "output_type": "display_data"
    },
    {
     "data": {
      "text/markdown": [
       "95: paa det , de andre vare reiste , <span style='color:red'>jeg</span> <span style='color:red'>er</span> den eneste , som har seet"
      ],
      "text/plain": [
       "<IPython.core.display.Markdown object>"
      ]
     },
     "metadata": {},
     "output_type": "display_data"
    },
    {
     "data": {
      "text/markdown": [
       "114: have lidt af hende den sidste tid , <span style='color:red'>jeg</span> <span style='color:red'>er</span> her , dertil havde hun igaar"
      ],
      "text/plain": [
       "<IPython.core.display.Markdown object>"
      ]
     },
     "metadata": {},
     "output_type": "display_data"
    },
    {
     "data": {
      "text/markdown": [
       "117: sig udsletter dog vist ikke skrivekunsten , saa <span style='color:red'>jeg</span> <span style='color:red'>er</span> lidt fornærmet , men bare lidt"
      ],
      "text/plain": [
       "<IPython.core.display.Markdown object>"
      ]
     },
     "metadata": {},
     "output_type": "display_data"
    },
    {
     "data": {
      "text/markdown": [
       "119: « saa langt og ikke længre » , <span style='color:red'>jeg</span> <span style='color:red'>er</span> ydmyg , at <span style='color:red'>jeg</span> kan sige"
      ],
      "text/plain": [
       "<IPython.core.display.Markdown object>"
      ]
     },
     "metadata": {},
     "output_type": "display_data"
    },
    {
     "data": {
      "text/markdown": [
       "119: aar , altertavlen og Judas undtaget . Nei <span style='color:red'>jeg</span> <span style='color:red'>er</span> egentlig ikke istand til at skrive"
      ],
      "text/plain": [
       "<IPython.core.display.Markdown object>"
      ]
     },
     "metadata": {},
     "output_type": "display_data"
    },
    {
     "data": {
      "text/markdown": [
       "127: Holme-Egenes fra 1863. det <span style='color:red'>er</span> nok adresse , <span style='color:red'>jeg</span> <span style='color:red'>er</span> vis paa at han gjerne vil"
      ],
      "text/plain": [
       "<IPython.core.display.Markdown object>"
      ]
     },
     "metadata": {},
     "output_type": "display_data"
    },
    {
     "data": {
      "text/markdown": [
       "128: , <span style='color:red'>jeg</span> har virkelig giort fremskridt iaar , <span style='color:red'>jeg</span> <span style='color:red'>er</span> rent bange for mig selv ,"
      ],
      "text/plain": [
       "<IPython.core.display.Markdown object>"
      ]
     },
     "metadata": {},
     "output_type": "display_data"
    },
    {
     "data": {
      "text/markdown": [
       "128: , at det kan være sløvhed , at <span style='color:red'>jeg</span> <span style='color:red'>er</span> fornøiet med det , <span style='color:red'>jeg</span> giør"
      ],
      "text/plain": [
       "<IPython.core.display.Markdown object>"
      ]
     },
     "metadata": {},
     "output_type": "display_data"
    },
    {
     "data": {
      "text/markdown": [
       "151: og heftig modløshed , sig Harriet , at <span style='color:red'>jeg</span> <span style='color:red'>er</span> bedre idag ."
      ],
      "text/plain": [
       "<IPython.core.display.Markdown object>"
      ]
     },
     "metadata": {},
     "output_type": "display_data"
    },
    {
     "data": {
      "text/markdown": [
       "157: skulde finde Ting at male , men <span style='color:red'>jeg</span> jeg <span style='color:red'>er</span> bange for , at det er"
      ],
      "text/plain": [
       "<IPython.core.display.Markdown object>"
      ]
     },
     "metadata": {},
     "output_type": "display_data"
    },
    {
     "data": {
      "text/markdown": [
       "157: vilde gjerne tage imod os begge – men <span style='color:red'>jeg</span> <span style='color:red'>er</span> lidt bange for , at MorMor"
      ],
      "text/plain": [
       "<IPython.core.display.Markdown object>"
      ]
     },
     "metadata": {},
     "output_type": "display_data"
    },
    {
     "data": {
      "text/markdown": [
       "158: var reist ind til Stavanger imorgentidlig , men <span style='color:red'>jeg</span> <span style='color:red'>er</span> så bange for at komme op"
      ],
      "text/plain": [
       "<IPython.core.display.Markdown object>"
      ]
     },
     "metadata": {},
     "output_type": "display_data"
    },
    {
     "data": {
      "text/markdown": [
       "228: skulde kommet her igaar , men udeblev , <span style='color:red'>jeg</span> <span style='color:red'>er</span> ræd , VedaVeda ] Vedastine «"
      ],
      "text/plain": [
       "<IPython.core.display.Markdown object>"
      ]
     },
     "metadata": {},
     "output_type": "display_data"
    },
    {
     "data": {
      "text/markdown": [
       "230: han helst vilde ha altid hos sig , <span style='color:red'>jeg</span> <span style='color:red'>er</span> ofte med. Det kan ikke være"
      ],
      "text/plain": [
       "<IPython.core.display.Markdown object>"
      ]
     },
     "metadata": {},
     "output_type": "display_data"
    },
    {
     "data": {
      "text/markdown": [
       "235: "
      ],
      "text/plain": [
       "<IPython.core.display.Markdown object>"
      ]
     },
     "metadata": {},
     "output_type": "display_data"
    },
    {
     "data": {
      "text/markdown": [
       "250: kommet ind i det hele der , hvilket <span style='color:red'>jeg</span> <span style='color:red'>er</span> glad over , men derom kan"
      ],
      "text/plain": [
       "<IPython.core.display.Markdown object>"
      ]
     },
     "metadata": {},
     "output_type": "display_data"
    },
    {
     "data": {
      "text/markdown": [
       "#### NBkilder_Koren_1802.xml"
      ],
      "text/plain": [
       "<IPython.core.display.Markdown object>"
      ]
     },
     "metadata": {},
     "output_type": "display_data"
    },
    {
     "data": {
      "text/markdown": [
       "13: hun seer ) seer I , hvor lykkelig <span style='color:red'>jeg</span> <span style='color:red'>er</span> ! » Børnenes støjende vedvarende Glæde"
      ],
      "text/plain": [
       "<IPython.core.display.Markdown object>"
      ]
     },
     "metadata": {},
     "output_type": "display_data"
    },
    {
     "data": {
      "text/markdown": [
       "20: , <span style='color:red'>jeg</span> aldrig saae før , og som <span style='color:red'>jeg</span> <span style='color:red'>er</span> saa glad i at kiende –"
      ],
      "text/plain": [
       "<IPython.core.display.Markdown object>"
      ]
     },
     "metadata": {},
     "output_type": "display_data"
    },
    {
     "data": {
      "text/markdown": [
       "36: 7 . Jeg seer nok , saa længe <span style='color:red'>jeg</span> <span style='color:red'>er</span> i Kbhn bliver dette i egentligste"
      ],
      "text/plain": [
       "<IPython.core.display.Markdown object>"
      ]
     },
     "metadata": {},
     "output_type": "display_data"
    },
    {
     "data": {
      "text/markdown": [
       "74: Gud skee Lov , Søvnen hialp , og <span style='color:red'>jeg</span> <span style='color:red'>er</span> ganske brav paa lidt Mathed nær"
      ],
      "text/plain": [
       "<IPython.core.display.Markdown object>"
      ]
     },
     "metadata": {},
     "output_type": "display_data"
    },
    {
     "data": {
      "text/markdown": [
       "100: hvor alle ere mig saa kiære , hvor <span style='color:red'>jeg</span> <span style='color:red'>er</span> alle saa kiær !"
      ],
      "text/plain": [
       "<IPython.core.display.Markdown object>"
      ]
     },
     "metadata": {},
     "output_type": "display_data"
    },
    {
     "data": {
      "text/markdown": [
       "133: og vist aldrig lader mig mærke med , <span style='color:red'>jeg</span> <span style='color:red'>er</span> vant til at tale om andet"
      ],
      "text/plain": [
       "<IPython.core.display.Markdown object>"
      ]
     },
     "metadata": {},
     "output_type": "display_data"
    },
    {
     "data": {
      "text/markdown": [
       "174: Saabyes . Saaledes at flakke de sidste Dage <span style='color:red'>jeg</span> <span style='color:red'>er</span> her rent bort , <span style='color:red'>er</span> ej"
      ],
      "text/plain": [
       "<IPython.core.display.Markdown object>"
      ]
     },
     "metadata": {},
     "output_type": "display_data"
    },
    {
     "data": {
      "text/markdown": [
       "200: Saalænge <span style='color:red'>jeg</span> kan det , veed <span style='color:red'>jeg</span> , <span style='color:red'>jeg</span> <span style='color:red'>er</span> en lykkelig Moder –"
      ],
      "text/plain": [
       "<IPython.core.display.Markdown object>"
      ]
     },
     "metadata": {},
     "output_type": "display_data"
    },
    {
     "data": {
      "text/markdown": [
       "266: træt ."
      ],
      "text/plain": [
       "<IPython.core.display.Markdown object>"
      ]
     },
     "metadata": {},
     "output_type": "display_data"
    },
    {
     "data": {
      "text/markdown": [
       "275: været syg i Dag , meget syg – <span style='color:red'>jeg</span> <span style='color:red'>er</span> endnu ikke , og bliver vel"
      ],
      "text/plain": [
       "<IPython.core.display.Markdown object>"
      ]
     },
     "metadata": {},
     "output_type": "display_data"
    },
    {
     "data": {
      "text/markdown": [
       "406: af min Adolf . Men de veed , <span style='color:red'>jeg</span> <span style='color:red'>er</span> bedrøvet , og plager mig ikke"
      ],
      "text/plain": [
       "<IPython.core.display.Markdown object>"
      ]
     },
     "metadata": {},
     "output_type": "display_data"
    },
    {
     "data": {
      "text/markdown": [
       "430: til at lægge mig . Sara sover , <span style='color:red'>jeg</span> <span style='color:red'>er</span> altsaa overladt ganske til mig selv"
      ],
      "text/plain": [
       "<IPython.core.display.Markdown object>"
      ]
     },
     "metadata": {},
     "output_type": "display_data"
    },
    {
     "data": {
      "text/markdown": [
       "464: Reise , Gud skee evig Lov , at <span style='color:red'>jeg</span> <span style='color:red'>er</span> saa langt , at denne Dag"
      ],
      "text/plain": [
       "<IPython.core.display.Markdown object>"
      ]
     },
     "metadata": {},
     "output_type": "display_data"
    },
    {
     "data": {
      "text/markdown": [
       "535: Gud <span style='color:red'>er</span> Sandhed , synes bædre , end <span style='color:red'>jeg</span> <span style='color:red'>er</span> . Desuden <span style='color:red'>er</span> det jo vist"
      ],
      "text/plain": [
       "<IPython.core.display.Markdown object>"
      ]
     },
     "metadata": {},
     "output_type": "display_data"
    },
    {
     "data": {
      "text/markdown": [
       "#### NBkilder_Koren_1808.xml"
      ],
      "text/plain": [
       "<IPython.core.display.Markdown object>"
      ]
     },
     "metadata": {},
     "output_type": "display_data"
    },
    {
     "data": {
      "text/markdown": [
       "3: <span style='color:red'>jeg</span> sige Eder , Elskte , hvor naragtig <span style='color:red'>jeg</span> <span style='color:red'>er</span> ? <span style='color:red'>jeg</span> aabnede mine Øyne ,"
      ],
      "text/plain": [
       "<IPython.core.display.Markdown object>"
      ]
     },
     "metadata": {},
     "output_type": "display_data"
    },
    {
     "data": {
      "text/markdown": [
       "4: . Om hende siger <span style='color:red'>jeg</span> intet , fordi <span style='color:red'>jeg</span> <span style='color:red'>er</span> og var i lang Tiid indtaget"
      ],
      "text/plain": [
       "<IPython.core.display.Markdown object>"
      ]
     },
     "metadata": {},
     "output_type": "display_data"
    },
    {
     "data": {
      "text/markdown": [
       "37: , og at dette <span style='color:red'>er</span> sidste Dag , <span style='color:red'>jeg</span> <span style='color:red'>er</span> paa Strømsøe – denne Sinde –"
      ],
      "text/plain": [
       "<IPython.core.display.Markdown object>"
      ]
     },
     "metadata": {},
     "output_type": "display_data"
    },
    {
     "data": {
      "text/markdown": [
       "40: den ældre Verden . Handler han – som <span style='color:red'>jeg</span> <span style='color:red'>er</span> tilbøyelig til at troe – overeensstemmende"
      ],
      "text/plain": [
       "<IPython.core.display.Markdown object>"
      ]
     },
     "metadata": {},
     "output_type": "display_data"
    },
    {
     "data": {
      "text/markdown": [
       "42: naar <span style='color:red'>jeg</span> taler med Døttrene mine , som <span style='color:red'>jeg</span> <span style='color:red'>er</span> saa bange for at skiule en"
      ],
      "text/plain": [
       "<IPython.core.display.Markdown object>"
      ]
     },
     "metadata": {},
     "output_type": "display_data"
    },
    {
     "data": {
      "text/markdown": [
       "58: "
      ],
      "text/plain": [
       "<IPython.core.display.Markdown object>"
      ]
     },
     "metadata": {},
     "output_type": "display_data"
    },
    {
     "data": {
      "text/markdown": [
       "143: fatte mig lidt forinden , og fordi – <span style='color:red'>jeg</span> <span style='color:red'>er</span> nyfigen i min Johan og min"
      ],
      "text/plain": [
       "<IPython.core.display.Markdown object>"
      ]
     },
     "metadata": {},
     "output_type": "display_data"
    },
    {
     "data": {
      "text/markdown": [
       "150: vil man mere af en Romanforfatter ? Men <span style='color:red'>jeg</span> <span style='color:red'>er</span> virkelig doven i Dag paa mit"
      ],
      "text/plain": [
       "<IPython.core.display.Markdown object>"
      ]
     },
     "metadata": {},
     "output_type": "display_data"
    },
    {
     "data": {
      "text/markdown": [
       "219: "
      ],
      "text/plain": [
       "<IPython.core.display.Markdown object>"
      ]
     },
     "metadata": {},
     "output_type": "display_data"
    },
    {
     "data": {
      "text/markdown": [
       "301: , hvori der <span style='color:red'>er</span> saa mange deylige , <span style='color:red'>jeg</span> <span style='color:red'>er</span> nesten fristet til at sige jeanpaulsk"
      ],
      "text/plain": [
       "<IPython.core.display.Markdown object>"
      ]
     },
     "metadata": {},
     "output_type": "display_data"
    },
    {
     "data": {
      "text/markdown": [
       "363: blive stort anderledes i al den Tiid , <span style='color:red'>jeg</span> <span style='color:red'>er</span> her . Vi saae ikke hverandre"
      ],
      "text/plain": [
       "<IPython.core.display.Markdown object>"
      ]
     },
     "metadata": {},
     "output_type": "display_data"
    },
    {
     "data": {
      "text/markdown": [
       "372: , Falsen var der rigtig nok , og <span style='color:red'>jeg</span> <span style='color:red'>er</span> altsaa nu 4 ß rigere ,"
      ],
      "text/plain": [
       "<IPython.core.display.Markdown object>"
      ]
     },
     "metadata": {},
     "output_type": "display_data"
    },
    {
     "data": {
      "text/markdown": [
       "379: , før hun faaer mit Brev , at <span style='color:red'>jeg</span> <span style='color:red'>er</span> uskyldig i hendes feylslagne Forventning ."
      ],
      "text/plain": [
       "<IPython.core.display.Markdown object>"
      ]
     },
     "metadata": {},
     "output_type": "display_data"
    },
    {
     "data": {
      "text/markdown": [
       "386: paa , at hiemsøge Præstens Boghylder , hvor <span style='color:red'>jeg</span> <span style='color:red'>er</span> vis paa at finde noget til"
      ],
      "text/plain": [
       "<IPython.core.display.Markdown object>"
      ]
     },
     "metadata": {},
     "output_type": "display_data"
    },
    {
     "data": {
      "text/markdown": [
       "393: de. Nu tænker I , elskede Venner ! <span style='color:red'>jeg</span> <span style='color:red'>er</span> her for at sige Eder Farvel"
      ],
      "text/plain": [
       "<IPython.core.display.Markdown object>"
      ]
     },
     "metadata": {},
     "output_type": "display_data"
    },
    {
     "data": {
      "text/markdown": [
       "446: min Maja , og Egerbarna det ; men <span style='color:red'>jeg</span> <span style='color:red'>er</span> harm over , at det Bud"
      ],
      "text/plain": [
       "<IPython.core.display.Markdown object>"
      ]
     },
     "metadata": {},
     "output_type": "display_data"
    },
    {
     "data": {
      "text/markdown": [
       "497: "
      ],
      "text/plain": [
       "<IPython.core.display.Markdown object>"
      ]
     },
     "metadata": {},
     "output_type": "display_data"
    },
    {
     "data": {
      "text/markdown": [
       "500: » sagde Melin i Dag , « for <span style='color:red'>jeg</span> <span style='color:red'>er</span> saa besynderlig mat » I det"
      ],
      "text/plain": [
       "<IPython.core.display.Markdown object>"
      ]
     },
     "metadata": {},
     "output_type": "display_data"
    },
    {
     "data": {
      "text/markdown": [
       "509: syg , og Lottamoer saa ængstelig , og <span style='color:red'>jeg</span> <span style='color:red'>er</span> saa ængstelig , baade over hvad"
      ],
      "text/plain": [
       "<IPython.core.display.Markdown object>"
      ]
     },
     "metadata": {},
     "output_type": "display_data"
    },
    {
     "data": {
      "text/markdown": [
       "558: . En Aarsag mere til den mørke Stemning <span style='color:red'>jeg</span> <span style='color:red'>er</span> i , og vi alle ved"
      ],
      "text/plain": [
       "<IPython.core.display.Markdown object>"
      ]
     },
     "metadata": {},
     "output_type": "display_data"
    },
    {
     "data": {
      "text/markdown": [
       "617: De kan troe , kiære Moer Koren , <span style='color:red'>jeg</span> <span style='color:red'>er</span> færdig at fraraade alle unge Mennesker"
      ],
      "text/plain": [
       "<IPython.core.display.Markdown object>"
      ]
     },
     "metadata": {},
     "output_type": "display_data"
    },
    {
     "data": {
      "text/markdown": [
       "707: ned i en saa kaldet Fiskerhytte , som <span style='color:red'>jeg</span> <span style='color:red'>er</span> stærkt fristet til at holde for"
      ],
      "text/plain": [
       "<IPython.core.display.Markdown object>"
      ]
     },
     "metadata": {},
     "output_type": "display_data"
    },
    {
     "data": {
      "text/markdown": [
       "784: . Det <span style='color:red'>er</span> et himmelskt Veyr , og <span style='color:red'>jeg</span> <span style='color:red'>er</span> efter denne lille Gang , skiøndt"
      ],
      "text/plain": [
       "<IPython.core.display.Markdown object>"
      ]
     },
     "metadata": {},
     "output_type": "display_data"
    },
    {
     "data": {
      "text/markdown": [
       "786: , og disse endda ikke styrkende . Nu <span style='color:red'>jeg</span> <span style='color:red'>er</span> kommet op , føler <span style='color:red'>jeg</span> mindre"
      ],
      "text/plain": [
       "<IPython.core.display.Markdown object>"
      ]
     },
     "metadata": {},
     "output_type": "display_data"
    },
    {
     "data": {
      "text/markdown": [
       "#### NBkilder_Koren_1809.xml"
      ],
      "text/plain": [
       "<IPython.core.display.Markdown object>"
      ]
     },
     "metadata": {},
     "output_type": "display_data"
    },
    {
     "data": {
      "text/markdown": [
       "50: Gaar Nat , Sneefog og Storm , og <span style='color:red'>jeg</span> <span style='color:red'>er</span> mismodig over at see mit Forsæt"
      ],
      "text/plain": [
       "<IPython.core.display.Markdown object>"
      ]
     },
     "metadata": {},
     "output_type": "display_data"
    },
    {
     "data": {
      "text/markdown": [
       "52: gode , kiærlige , strænge Fader deroppe , <span style='color:red'>jeg</span> <span style='color:red'>er</span> ikke uskiønsom ! Jeg <span style='color:red'>er</span> ikke"
      ],
      "text/plain": [
       "<IPython.core.display.Markdown object>"
      ]
     },
     "metadata": {},
     "output_type": "display_data"
    },
    {
     "data": {
      "text/markdown": [
       "66: mig Venskab og Ømhed , saa lidt som <span style='color:red'>jeg</span> <span style='color:red'>er</span> urimelig nok til at fordre eller"
      ],
      "text/plain": [
       "<IPython.core.display.Markdown object>"
      ]
     },
     "metadata": {},
     "output_type": "display_data"
    },
    {
     "data": {
      "text/markdown": [
       "92: han , naar de seer mig , at <span style='color:red'>jeg</span> <span style='color:red'>er</span> en lille Stoerkar » –"
      ],
      "text/plain": [
       "<IPython.core.display.Markdown object>"
      ]
     },
     "metadata": {},
     "output_type": "display_data"
    },
    {
     "data": {
      "text/markdown": [
       "107: Ja , det var voldsomme Stød – men <span style='color:red'>jeg</span> <span style='color:red'>er</span> stærk . Sørg ikke , I"
      ],
      "text/plain": [
       "<IPython.core.display.Markdown object>"
      ]
     },
     "metadata": {},
     "output_type": "display_data"
    },
    {
     "data": {
      "text/markdown": [
       "138: finde det underligt , mine Dyrebare , at <span style='color:red'>jeg</span> <span style='color:red'>er</span> tungere om Hiertet end sædvanligt ."
      ],
      "text/plain": [
       "<IPython.core.display.Markdown object>"
      ]
     },
     "metadata": {},
     "output_type": "display_data"
    },
    {
     "data": {
      "text/markdown": [
       "282: Dage at skrive . Jeg veed ikke hvordan <span style='color:red'>jeg</span> <span style='color:red'>er</span> . Jeg spiser , drikker og"
      ],
      "text/plain": [
       "<IPython.core.display.Markdown object>"
      ]
     },
     "metadata": {},
     "output_type": "display_data"
    },
    {
     "data": {
      "text/markdown": [
       "291: neste Gang i Vente fra hende . Men <span style='color:red'>jeg</span> <span style='color:red'>er</span> saa vant til at see de"
      ],
      "text/plain": [
       "<IPython.core.display.Markdown object>"
      ]
     },
     "metadata": {},
     "output_type": "display_data"
    },
    {
     "data": {
      "text/markdown": [
       "303: om <span style='color:red'>jeg</span> end vilde og torde . Men <span style='color:red'>jeg</span> <span style='color:red'>er</span> mindre frisk i Dag , end"
      ],
      "text/plain": [
       "<IPython.core.display.Markdown object>"
      ]
     },
     "metadata": {},
     "output_type": "display_data"
    },
    {
     "data": {
      "text/markdown": [
       "306: var ikke frisk – de brave Chrysties ( <span style='color:red'>jeg</span> <span style='color:red'>er</span> von paa Futen , som kun"
      ],
      "text/plain": [
       "<IPython.core.display.Markdown object>"
      ]
     },
     "metadata": {},
     "output_type": "display_data"
    },
    {
     "data": {
      "text/markdown": [
       "316: <span style='color:red'>jeg</span> troer – thi endnu sover alle – <span style='color:red'>jeg</span> <span style='color:red'>er</span> tidlig paa færde – Lehnsmand Riis"
      ],
      "text/plain": [
       "<IPython.core.display.Markdown object>"
      ]
     },
     "metadata": {},
     "output_type": "display_data"
    },
    {
     "data": {
      "text/markdown": [
       "388: her saa seent , mine Elskede ! Men <span style='color:red'>jeg</span> <span style='color:red'>er</span> meget for Orden , som I"
      ],
      "text/plain": [
       "<IPython.core.display.Markdown object>"
      ]
     },
     "metadata": {},
     "output_type": "display_data"
    },
    {
     "data": {
      "text/markdown": [
       "549: "
      ],
      "text/plain": [
       "<IPython.core.display.Markdown object>"
      ]
     },
     "metadata": {},
     "output_type": "display_data"
    },
    {
     "data": {
      "text/markdown": [
       "551: de Velsignede , at vise mig hvor kiær <span style='color:red'>jeg</span> <span style='color:red'>er</span> dem , hvor giærne de vilde"
      ],
      "text/plain": [
       "<IPython.core.display.Markdown object>"
      ]
     },
     "metadata": {},
     "output_type": "display_data"
    },
    {
     "data": {
      "text/markdown": [
       "582: hvad skulde kunde glæde det mere ? Men <span style='color:red'>jeg</span> <span style='color:red'>er</span> meget syg i Dag , sygere"
      ],
      "text/plain": [
       "<IPython.core.display.Markdown object>"
      ]
     },
     "metadata": {},
     "output_type": "display_data"
    },
    {
     "data": {
      "text/markdown": [
       "616: ofte <span style='color:red'>er</span> ligesaa længe mellem hver Gang , <span style='color:red'>jeg</span> <span style='color:red'>er</span> der . Men saa <span style='color:red'>er</span> jeg"
      ],
      "text/plain": [
       "<IPython.core.display.Markdown object>"
      ]
     },
     "metadata": {},
     "output_type": "display_data"
    },
    {
     "data": {
      "text/markdown": [
       "634: De ikke , de velsignede Tøyenmennesker . Men <span style='color:red'>jeg</span> <span style='color:red'>er</span> derved , seer <span style='color:red'>jeg</span> , kommet"
      ],
      "text/plain": [
       "<IPython.core.display.Markdown object>"
      ]
     },
     "metadata": {},
     "output_type": "display_data"
    },
    {
     "data": {
      "text/markdown": [
       "643: , efter al Formodning , <span style='color:red'>er</span> sidste Gang <span style='color:red'>jeg</span> <span style='color:red'>er</span> i Hurdalen , vist sidste Gang"
      ],
      "text/plain": [
       "<IPython.core.display.Markdown object>"
      ]
     },
     "metadata": {},
     "output_type": "display_data"
    },
    {
     "data": {
      "text/markdown": [
       "703: var nogen , var stoer Trøst . Men <span style='color:red'>jeg</span> <span style='color:red'>er</span> slet ikke frisk faaer ingen qvægsom"
      ],
      "text/plain": [
       "<IPython.core.display.Markdown object>"
      ]
     },
     "metadata": {},
     "output_type": "display_data"
    },
    {
     "data": {
      "text/markdown": [
       "708: uden hendes Tab og hendes Broders . Men <span style='color:red'>jeg</span> <span style='color:red'>er</span> ret meget syg , og for"
      ],
      "text/plain": [
       "<IPython.core.display.Markdown object>"
      ]
     },
     "metadata": {},
     "output_type": "display_data"
    },
    {
     "data": {
      "text/markdown": [
       "754: Dag ? Moer vor ! » Ja , <span style='color:red'>jeg</span> <span style='color:red'>er</span> det , og vilde være det"
      ],
      "text/plain": [
       "<IPython.core.display.Markdown object>"
      ]
     },
     "metadata": {},
     "output_type": "display_data"
    },
    {
     "data": {
      "text/markdown": [
       "879: grumme lang Tiid nesten hver Nat drømmer at <span style='color:red'>jeg</span> <span style='color:red'>er</span> ung , undertiden Barn , og"
      ],
      "text/plain": [
       "<IPython.core.display.Markdown object>"
      ]
     },
     "metadata": {},
     "output_type": "display_data"
    },
    {
     "data": {
      "text/markdown": [
       "879: selvsamme Forhold , som nu ? Saadan som <span style='color:red'>jeg</span> <span style='color:red'>er</span> i Vane med at drømme ,"
      ],
      "text/plain": [
       "<IPython.core.display.Markdown object>"
      ]
     },
     "metadata": {},
     "output_type": "display_data"
    },
    {
     "data": {
      "text/markdown": [
       "880: at <span style='color:red'>jeg</span> kunde male ham . Men naa <span style='color:red'>jeg</span> <span style='color:red'>er</span> der , skiænder <span style='color:red'>jeg</span> ikke paa"
      ],
      "text/plain": [
       "<IPython.core.display.Markdown object>"
      ]
     },
     "metadata": {},
     "output_type": "display_data"
    },
    {
     "data": {
      "text/markdown": [
       "888: Ungerne mine , og Gud skee Lov , <span style='color:red'>jeg</span> <span style='color:red'>er</span> her , og at de alle"
      ],
      "text/plain": [
       "<IPython.core.display.Markdown object>"
      ]
     },
     "metadata": {},
     "output_type": "display_data"
    },
    {
     "data": {
      "text/markdown": [
       "905: har giort mig en trediedeel ældre , end <span style='color:red'>jeg</span> <span style='color:red'>er</span> ."
      ],
      "text/plain": [
       "<IPython.core.display.Markdown object>"
      ]
     },
     "metadata": {},
     "output_type": "display_data"
    },
    {
     "data": {
      "text/markdown": [
       "949: Elskelige , engang for alle , hvor vel <span style='color:red'>jeg</span> <span style='color:red'>er</span> der . Nu savnede <span style='color:red'>jeg</span> rigtig"
      ],
      "text/plain": [
       "<IPython.core.display.Markdown object>"
      ]
     },
     "metadata": {},
     "output_type": "display_data"
    },
    {
     "data": {
      "text/markdown": [
       "978: Moer Koren igien . Det <span style='color:red'>er</span> kun her <span style='color:red'>jeg</span> <span style='color:red'>er</span> og kan og bør være ganske"
      ],
      "text/plain": [
       "<IPython.core.display.Markdown object>"
      ]
     },
     "metadata": {},
     "output_type": "display_data"
    },
    {
     "data": {
      "text/markdown": [
       "#### NBkilder_Koren_1810.xml"
      ],
      "text/plain": [
       "<IPython.core.display.Markdown object>"
      ]
     },
     "metadata": {},
     "output_type": "display_data"
    },
    {
     "data": {
      "text/markdown": [
       "35: <span style='color:red'>er</span> færm igien , skiøndt mat , og <span style='color:red'>jeg</span> <span style='color:red'>er</span> færm og ikke mat , skiøndt"
      ],
      "text/plain": [
       "<IPython.core.display.Markdown object>"
      ]
     },
     "metadata": {},
     "output_type": "display_data"
    },
    {
     "data": {
      "text/markdown": [
       "61: Følelse : at holdes for bædre , end <span style='color:red'>jeg</span> <span style='color:red'>er</span> . Det <span style='color:red'>er</span> alt for ofte"
      ],
      "text/plain": [
       "<IPython.core.display.Markdown object>"
      ]
     },
     "metadata": {},
     "output_type": "display_data"
    },
    {
     "data": {
      "text/markdown": [
       "64: "
      ],
      "text/plain": [
       "<IPython.core.display.Markdown object>"
      ]
     },
     "metadata": {},
     "output_type": "display_data"
    },
    {
     "data": {
      "text/markdown": [
       "109: Moer Borchsenius . Tænk Eder da , om <span style='color:red'>jeg</span> <span style='color:red'>er</span> glad i hende . Hofmann vinder"
      ],
      "text/plain": [
       "<IPython.core.display.Markdown object>"
      ]
     },
     "metadata": {},
     "output_type": "display_data"
    },
    {
     "data": {
      "text/markdown": [
       "183: oplagt hertil i Dag , og saa længe <span style='color:red'>jeg</span> <span style='color:red'>er</span> det , ærgrer <span style='color:red'>jeg</span> mig ikke"
      ],
      "text/plain": [
       "<IPython.core.display.Markdown object>"
      ]
     },
     "metadata": {},
     "output_type": "display_data"
    },
    {
     "data": {
      "text/markdown": [
       "222: "
      ],
      "text/plain": [
       "<IPython.core.display.Markdown object>"
      ]
     },
     "metadata": {},
     "output_type": "display_data"
    },
    {
     "data": {
      "text/markdown": [
       "266: ud . O ! bliv dog frisk mens <span style='color:red'>jeg</span> <span style='color:red'>er</span> her !"
      ],
      "text/plain": [
       "<IPython.core.display.Markdown object>"
      ]
     },
     "metadata": {},
     "output_type": "display_data"
    },
    {
     "data": {
      "text/markdown": [
       "268: » sagde <span style='color:red'>jeg</span> . « Mener De , <span style='color:red'>jeg</span> <span style='color:red'>er</span> en Hader af Fruentimmer , fordi"
      ],
      "text/plain": [
       "<IPython.core.display.Markdown object>"
      ]
     },
     "metadata": {},
     "output_type": "display_data"
    },
    {
     "data": {
      "text/markdown": [
       "269: brødefulde Bye , og kommer ey igien mens <span style='color:red'>jeg</span> <span style='color:red'>er</span> her . Min lille Pige henter"
      ],
      "text/plain": [
       "<IPython.core.display.Markdown object>"
      ]
     },
     "metadata": {},
     "output_type": "display_data"
    },
    {
     "data": {
      "text/markdown": [
       "310: Ethvert Blik , enhver Bevægelse siger : « <span style='color:red'>jeg</span> <span style='color:red'>er</span> saa usigelig lykkelig » – Der"
      ],
      "text/plain": [
       "<IPython.core.display.Markdown object>"
      ]
     },
     "metadata": {},
     "output_type": "display_data"
    },
    {
     "data": {
      "text/markdown": [
       "311: har Walbohm bildt Barna her ind , at <span style='color:red'>jeg</span> <span style='color:red'>er</span> mat og svag , og at"
      ],
      "text/plain": [
       "<IPython.core.display.Markdown object>"
      ]
     },
     "metadata": {},
     "output_type": "display_data"
    },
    {
     "data": {
      "text/markdown": [
       "317: afsted . Jeg <span style='color:red'>er</span> ordentlig bædre tilmode siden <span style='color:red'>jeg</span> <span style='color:red'>er</span> vis paa , det skal afsted"
      ],
      "text/plain": [
       "<IPython.core.display.Markdown object>"
      ]
     },
     "metadata": {},
     "output_type": "display_data"
    },
    {
     "data": {
      "text/markdown": [
       "364: fordums Skik altiid blive liggende en Stund efter <span style='color:red'>jeg</span> <span style='color:red'>er</span> vaagnet , hvis <span style='color:red'>jeg</span> ikke vil"
      ],
      "text/plain": [
       "<IPython.core.display.Markdown object>"
      ]
     },
     "metadata": {},
     "output_type": "display_data"
    },
    {
     "data": {
      "text/markdown": [
       "384: sige Eder , mine Elskede , hvor ussel <span style='color:red'>jeg</span> <span style='color:red'>er</span> i Dag . Et Par Breve"
      ],
      "text/plain": [
       "<IPython.core.display.Markdown object>"
      ]
     },
     "metadata": {},
     "output_type": "display_data"
    },
    {
     "data": {
      "text/markdown": [
       "419: : « Og at <span style='color:red'>jeg</span> nu , da <span style='color:red'>jeg</span> <span style='color:red'>er</span> bædre og kiærligere , ikke har"
      ],
      "text/plain": [
       "<IPython.core.display.Markdown object>"
      ]
     },
     "metadata": {},
     "output_type": "display_data"
    },
    {
     "data": {
      "text/markdown": [
       "421: gudlige Væsen af det usle Støv . Naar <span style='color:red'>jeg</span> <span style='color:red'>er</span> saa mat og svag som jeg"
      ],
      "text/plain": [
       "<IPython.core.display.Markdown object>"
      ]
     },
     "metadata": {},
     "output_type": "display_data"
    },
    {
     "data": {
      "text/markdown": [
       "437: Gud veed , hvordan det <span style='color:red'>er</span> , at <span style='color:red'>jeg</span> <span style='color:red'>er</span> , at <span style='color:red'>jeg</span> kan være saa"
      ],
      "text/plain": [
       "<IPython.core.display.Markdown object>"
      ]
     },
     "metadata": {},
     "output_type": "display_data"
    },
    {
     "data": {
      "text/markdown": [
       "463: , og saa giorde <span style='color:red'>jeg</span> , som naar <span style='color:red'>jeg</span> <span style='color:red'>er</span> hiertelig bedrøvet , <span style='color:red'>jeg</span> trykkede det"
      ],
      "text/plain": [
       "<IPython.core.display.Markdown object>"
      ]
     },
     "metadata": {},
     "output_type": "display_data"
    },
    {
     "data": {
      "text/markdown": [
       "473: paa sønlig Kiærlighed . Min beste Tak veed <span style='color:red'>jeg</span> <span style='color:red'>er</span> den Vished , De ikke først"
      ],
      "text/plain": [
       "<IPython.core.display.Markdown object>"
      ]
     },
     "metadata": {},
     "output_type": "display_data"
    },
    {
     "data": {
      "text/markdown": [
       "477: først beroelige Eder med den Forsikring , at <span style='color:red'>jeg</span> <span style='color:red'>er</span> for saa vidt brav , kun"
      ],
      "text/plain": [
       "<IPython.core.display.Markdown object>"
      ]
     },
     "metadata": {},
     "output_type": "display_data"
    },
    {
     "data": {
      "text/markdown": [
       "507: <span style='color:red'>jeg</span> i Gaar , var oppe , som <span style='color:red'>jeg</span> <span style='color:red'>er</span> hver Dag naar <span style='color:red'>jeg</span> <span style='color:red'>er</span> frisk"
      ],
      "text/plain": [
       "<IPython.core.display.Markdown object>"
      ]
     },
     "metadata": {},
     "output_type": "display_data"
    },
    {
     "data": {
      "text/markdown": [
       "507: oppe , som <span style='color:red'>jeg</span> <span style='color:red'>er</span> hver Dag naar <span style='color:red'>jeg</span> <span style='color:red'>er</span> frisk , Kl 5 ½ ,"
      ],
      "text/plain": [
       "<IPython.core.display.Markdown object>"
      ]
     },
     "metadata": {},
     "output_type": "display_data"
    },
    {
     "data": {
      "text/markdown": [
       "545: "
      ],
      "text/plain": [
       "<IPython.core.display.Markdown object>"
      ]
     },
     "metadata": {},
     "output_type": "display_data"
    },
    {
     "data": {
      "text/markdown": [
       "556: ikke at lade den ubesøgt og uprydet mens <span style='color:red'>jeg</span> <span style='color:red'>er</span> borte ."
      ],
      "text/plain": [
       "<IPython.core.display.Markdown object>"
      ]
     },
     "metadata": {},
     "output_type": "display_data"
    },
    {
     "data": {
      "text/markdown": [
       "570: aldrig har seet mig før . Men naar <span style='color:red'>jeg</span> <span style='color:red'>er</span> saadan stemt , kan <span style='color:red'>jeg</span> umuelig"
      ],
      "text/plain": [
       "<IPython.core.display.Markdown object>"
      ]
     },
     "metadata": {},
     "output_type": "display_data"
    },
    {
     "data": {
      "text/markdown": [
       "576: der Du <span style='color:red'>er</span> ! Vær begge Dele som <span style='color:red'>jeg</span> <span style='color:red'>er</span> det i Dag ! Gud give"
      ],
      "text/plain": [
       "<IPython.core.display.Markdown object>"
      ]
     },
     "metadata": {},
     "output_type": "display_data"
    },
    {
     "data": {
      "text/markdown": [
       "576: ) og Thrinasara og Lotta og Lina og <span style='color:red'>jeg</span> <span style='color:red'>er</span> samlede ! Amen , det skee"
      ],
      "text/plain": [
       "<IPython.core.display.Markdown object>"
      ]
     },
     "metadata": {},
     "output_type": "display_data"
    },
    {
     "data": {
      "text/markdown": [
       "591: nok Forkiølelse , maaskee ogsaa Orm . Men <span style='color:red'>jeg</span> <span style='color:red'>er</span> selv rigtig træt og mat ."
      ],
      "text/plain": [
       "<IPython.core.display.Markdown object>"
      ]
     },
     "metadata": {},
     "output_type": "display_data"
    },
    {
     "data": {
      "text/markdown": [
       "605: de skiænder dernede – især Lotta – for <span style='color:red'>jeg</span> <span style='color:red'>er</span> saa længe borte . Det burde"
      ],
      "text/plain": [
       "<IPython.core.display.Markdown object>"
      ]
     },
     "metadata": {},
     "output_type": "display_data"
    },
    {
     "data": {
      "text/markdown": [
       "682: – ak og ikke første Gang – at <span style='color:red'>jeg</span> <span style='color:red'>er</span> ubillig mot mig selv og andre"
      ],
      "text/plain": [
       "<IPython.core.display.Markdown object>"
      ]
     },
     "metadata": {},
     "output_type": "display_data"
    },
    {
     "data": {
      "text/markdown": [
       "682: Maja eller Hertel tør <span style='color:red'>jeg</span> sige hvor bedrøvet <span style='color:red'>jeg</span> <span style='color:red'>er</span> , kun til min Koren ,"
      ],
      "text/plain": [
       "<IPython.core.display.Markdown object>"
      ]
     },
     "metadata": {},
     "output_type": "display_data"
    },
    {
     "data": {
      "text/markdown": [
       "704: bædre og beqvæmmere i alle Henseender , og <span style='color:red'>jeg</span> <span style='color:red'>er</span> tryggere . I al denne Forvirring"
      ],
      "text/plain": [
       "<IPython.core.display.Markdown object>"
      ]
     },
     "metadata": {},
     "output_type": "display_data"
    },
    {
     "data": {
      "text/markdown": [
       "770: , var <span style='color:red'>jeg</span> dog ængstligere da , end <span style='color:red'>jeg</span> <span style='color:red'>er</span> i Dag . Det <span style='color:red'>er</span> hans"
      ],
      "text/plain": [
       "<IPython.core.display.Markdown object>"
      ]
     },
     "metadata": {},
     "output_type": "display_data"
    },
    {
     "data": {
      "text/markdown": [
       "790: Men I skulde dog vide , hvor forfængelig <span style='color:red'>jeg</span> <span style='color:red'>er</span> i Søvne ( « ogsaa ?"
      ],
      "text/plain": [
       "<IPython.core.display.Markdown object>"
      ]
     },
     "metadata": {},
     "output_type": "display_data"
    },
    {
     "data": {
      "text/markdown": [
       "820: hiem uden al Fare og Skade , hvad <span style='color:red'>jeg</span> <span style='color:red'>er</span> fristet til at lade Hr Real"
      ],
      "text/plain": [
       "<IPython.core.display.Markdown object>"
      ]
     },
     "metadata": {},
     "output_type": "display_data"
    },
    {
     "data": {
      "text/markdown": [
       "828: velsignede Tøyen , som <span style='color:red'>jeg</span> længes efter naar <span style='color:red'>jeg</span> <span style='color:red'>er</span> borte fra det , som efter"
      ],
      "text/plain": [
       "<IPython.core.display.Markdown object>"
      ]
     },
     "metadata": {},
     "output_type": "display_data"
    },
    {
     "data": {
      "text/markdown": [
       "898: veed hvor <span style='color:red'>jeg</span> vil hen . Og hvor <span style='color:red'>jeg</span> <span style='color:red'>er</span> , og hvad <span style='color:red'>jeg</span> foretager mig"
      ],
      "text/plain": [
       "<IPython.core.display.Markdown object>"
      ]
     },
     "metadata": {},
     "output_type": "display_data"
    },
    {
     "data": {
      "text/markdown": [
       "898: , Lina og Kaja ikke undtagen ; men <span style='color:red'>jeg</span> <span style='color:red'>er</span> saa mat , at <span style='color:red'>jeg</span> neppe"
      ],
      "text/plain": [
       "<IPython.core.display.Markdown object>"
      ]
     },
     "metadata": {},
     "output_type": "display_data"
    },
    {
     "data": {
      "text/markdown": [
       "909: Jes maae allermindst faae Bogen , just fordi <span style='color:red'>jeg</span> <span style='color:red'>er</span> vis paa , den ikke vilde"
      ],
      "text/plain": [
       "<IPython.core.display.Markdown object>"
      ]
     },
     "metadata": {},
     "output_type": "display_data"
    },
    {
     "data": {
      "text/markdown": [
       "973: ! Vi skal til Bangs . Saa syg <span style='color:red'>jeg</span> <span style='color:red'>er</span> , Gud veed , <span style='color:red'>jeg</span> kan"
      ],
      "text/plain": [
       "<IPython.core.display.Markdown object>"
      ]
     },
     "metadata": {},
     "output_type": "display_data"
    },
    {
     "data": {
      "text/markdown": [
       "976: min , som min <span style='color:red'>er</span> Eders , som <span style='color:red'>jeg</span> <span style='color:red'>er</span> Eders Moer Koren ? ! –"
      ],
      "text/plain": [
       "<IPython.core.display.Markdown object>"
      ]
     },
     "metadata": {},
     "output_type": "display_data"
    },
    {
     "data": {
      "text/markdown": [
       "977: om <span style='color:red'>jeg</span> kan skiule det , hvor nedslagen <span style='color:red'>jeg</span> <span style='color:red'>er</span> –"
      ],
      "text/plain": [
       "<IPython.core.display.Markdown object>"
      ]
     },
     "metadata": {},
     "output_type": "display_data"
    },
    {
     "data": {
      "text/markdown": [
       "1012: « Min Kyse taer <span style='color:red'>jeg</span> ikke paa før <span style='color:red'>jeg</span> <span style='color:red'>er</span> kommet i Vognen » – sagde"
      ],
      "text/plain": [
       "<IPython.core.display.Markdown object>"
      ]
     },
     "metadata": {},
     "output_type": "display_data"
    },
    {
     "data": {
      "text/markdown": [
       "#### NBkilder_Koren_1811.xml"
      ],
      "text/plain": [
       "<IPython.core.display.Markdown object>"
      ]
     },
     "metadata": {},
     "output_type": "display_data"
    },
    {
     "data": {
      "text/markdown": [
       "7: – min Skriver skriver – Nytaarsvers , som <span style='color:red'>jeg</span> <span style='color:red'>er</span> vis paa mange , maaskee endog"
      ],
      "text/plain": [
       "<IPython.core.display.Markdown object>"
      ]
     },
     "metadata": {},
     "output_type": "display_data"
    },
    {
     "data": {
      "text/markdown": [
       "20: at tvivle om Udødeligheden – Følelsen af hvad <span style='color:red'>jeg</span> <span style='color:red'>er</span> Eder , I alle min Siæls"
      ],
      "text/plain": [
       "<IPython.core.display.Markdown object>"
      ]
     },
     "metadata": {},
     "output_type": "display_data"
    },
    {
     "data": {
      "text/markdown": [
       "22: "
      ],
      "text/plain": [
       "<IPython.core.display.Markdown object>"
      ]
     },
     "metadata": {},
     "output_type": "display_data"
    },
    {
     "data": {
      "text/markdown": [
       "24: og saa har <span style='color:red'>jeg</span> altiid travlt , naar <span style='color:red'>jeg</span> <span style='color:red'>er</span> saa lykkelig , <span style='color:red'>jeg</span> kan have"
      ],
      "text/plain": [
       "<IPython.core.display.Markdown object>"
      ]
     },
     "metadata": {},
     "output_type": "display_data"
    },
    {
     "data": {
      "text/markdown": [
       "35: og det fornøyer mig , i hvor nedslagen <span style='color:red'>jeg</span> <span style='color:red'>er</span> –"
      ],
      "text/plain": [
       "<IPython.core.display.Markdown object>"
      ]
     },
     "metadata": {},
     "output_type": "display_data"
    },
    {
     "data": {
      "text/markdown": [
       "43: fra mig før han seer her , at <span style='color:red'>jeg</span> <span style='color:red'>er</span> en Smule von paa ham ."
      ],
      "text/plain": [
       "<IPython.core.display.Markdown object>"
      ]
     },
     "metadata": {},
     "output_type": "display_data"
    },
    {
     "data": {
      "text/markdown": [
       "63: slaae . Men <span style='color:red'>jeg</span> holder , saa lidt <span style='color:red'>jeg</span> <span style='color:red'>er</span> for Kulden , dog mere af"
      ],
      "text/plain": [
       "<IPython.core.display.Markdown object>"
      ]
     },
     "metadata": {},
     "output_type": "display_data"
    },
    {
     "data": {
      "text/markdown": [
       "237: i Dag ? Det ahner mig , og <span style='color:red'>jeg</span> <span style='color:red'>er</span> midt iblandt Eder , og «"
      ],
      "text/plain": [
       "<IPython.core.display.Markdown object>"
      ]
     },
     "metadata": {},
     "output_type": "display_data"
    },
    {
     "data": {
      "text/markdown": [
       "237: signer dig , ottende Dag i April imens <span style='color:red'>jeg</span> <span style='color:red'>er</span> til » –"
      ],
      "text/plain": [
       "<IPython.core.display.Markdown object>"
      ]
     },
     "metadata": {},
     "output_type": "display_data"
    },
    {
     "data": {
      "text/markdown": [
       "270: Tilskuer , og finder , i hvor kiendt <span style='color:red'>jeg</span> <span style='color:red'>er</span> med den , stedse nye og"
      ],
      "text/plain": [
       "<IPython.core.display.Markdown object>"
      ]
     },
     "metadata": {},
     "output_type": "display_data"
    },
    {
     "data": {
      "text/markdown": [
       "282: det maae du troe , bare det at <span style='color:red'>jeg</span> <span style='color:red'>er</span> mat « som en Fendrik »"
      ],
      "text/plain": [
       "<IPython.core.display.Markdown object>"
      ]
     },
     "metadata": {},
     "output_type": "display_data"
    },
    {
     "data": {
      "text/markdown": [
       "289: Men <span style='color:red'>jeg</span> veed ikke hvordan det <span style='color:red'>er</span> , <span style='color:red'>jeg</span> <span style='color:red'>er</span> ordentlig glad i at see ham"
      ],
      "text/plain": [
       "<IPython.core.display.Markdown object>"
      ]
     },
     "metadata": {},
     "output_type": "display_data"
    },
    {
     "data": {
      "text/markdown": [
       "303: og siden har det været taaleligt . Men <span style='color:red'>jeg</span> <span style='color:red'>er</span> grumme mat . God Nat ,"
      ],
      "text/plain": [
       "<IPython.core.display.Markdown object>"
      ]
     },
     "metadata": {},
     "output_type": "display_data"
    },
    {
     "data": {
      "text/markdown": [
       "345: en heel Fragt ligge færdig . Ja , <span style='color:red'>jeg</span> <span style='color:red'>er</span> ret en Smørerinde . Og enda"
      ],
      "text/plain": [
       "<IPython.core.display.Markdown object>"
      ]
     },
     "metadata": {},
     "output_type": "display_data"
    },
    {
     "data": {
      "text/markdown": [
       "347: Ting som til at sige Eder hvor glad <span style='color:red'>jeg</span> <span style='color:red'>er</span> . Til Dagens Mærkværdigheder hører ogsaa"
      ],
      "text/plain": [
       "<IPython.core.display.Markdown object>"
      ]
     },
     "metadata": {},
     "output_type": "display_data"
    },
    {
     "data": {
      "text/markdown": [
       "362: mine , som nu mister ham ! skiøndt <span style='color:red'>jeg</span> <span style='color:red'>er</span> mig selv for nær til at"
      ],
      "text/plain": [
       "<IPython.core.display.Markdown object>"
      ]
     },
     "metadata": {},
     "output_type": "display_data"
    },
    {
     "data": {
      "text/markdown": [
       "369: Drømme . Seer I , mine Elskede , <span style='color:red'>jeg</span> <span style='color:red'>er</span> saa længe vant til det stille"
      ],
      "text/plain": [
       "<IPython.core.display.Markdown object>"
      ]
     },
     "metadata": {},
     "output_type": "display_data"
    },
    {
     "data": {
      "text/markdown": [
       "375: fortæller <span style='color:red'>jeg</span> min hele deltagende Kreds hvor glad <span style='color:red'>jeg</span> <span style='color:red'>er</span> , og saa betroer <span style='color:red'>jeg</span> Dagbogen"
      ],
      "text/plain": [
       "<IPython.core.display.Markdown object>"
      ]
     },
     "metadata": {},
     "output_type": "display_data"
    },
    {
     "data": {
      "text/markdown": [
       "375: lagt sin Pen for stedse , hvor lykkelig <span style='color:red'>jeg</span> <span style='color:red'>er</span> og var og bliver ved al"
      ],
      "text/plain": [
       "<IPython.core.display.Markdown object>"
      ]
     },
     "metadata": {},
     "output_type": "display_data"
    },
    {
     "data": {
      "text/markdown": [
       "381: Dag ere mig lidt til Byrde – thi <span style='color:red'>jeg</span> <span style='color:red'>er</span> hiertelig bedrøvet . Ikke mere over"
      ],
      "text/plain": [
       "<IPython.core.display.Markdown object>"
      ]
     },
     "metadata": {},
     "output_type": "display_data"
    },
    {
     "data": {
      "text/markdown": [
       "420: og Majadal , i det mindste saa længe <span style='color:red'>jeg</span> <span style='color:red'>er</span> vaagen , og selv kan nogenlunde"
      ],
      "text/plain": [
       "<IPython.core.display.Markdown object>"
      ]
     },
     "metadata": {},
     "output_type": "display_data"
    },
    {
     "data": {
      "text/markdown": [
       "423: kan behøve af Majas og Frederichs Bibliotheker mens <span style='color:red'>jeg</span> <span style='color:red'>er</span> der , og der behøver jeg"
      ],
      "text/plain": [
       "<IPython.core.display.Markdown object>"
      ]
     },
     "metadata": {},
     "output_type": "display_data"
    },
    {
     "data": {
      "text/markdown": [
       "447: , hvorhen de har stævnet mig . Men <span style='color:red'>jeg</span> <span style='color:red'>er</span> jo alles Eders Moer Koren ,"
      ],
      "text/plain": [
       "<IPython.core.display.Markdown object>"
      ]
     },
     "metadata": {},
     "output_type": "display_data"
    },
    {
     "data": {
      "text/markdown": [
       "463: Maja , om det ikke <span style='color:red'>er</span> sandt , <span style='color:red'>jeg</span> <span style='color:red'>er</span> bra ? – Før hun ret"
      ],
      "text/plain": [
       "<IPython.core.display.Markdown object>"
      ]
     },
     "metadata": {},
     "output_type": "display_data"
    },
    {
     "data": {
      "text/markdown": [
       "484: Nu gaaer det mig som Baggesen , at <span style='color:red'>jeg</span> <span style='color:red'>er</span> færdig at lægge dem bort «"
      ],
      "text/plain": [
       "<IPython.core.display.Markdown object>"
      ]
     },
     "metadata": {},
     "output_type": "display_data"
    },
    {
     "data": {
      "text/markdown": [
       "490: sidde sammen i Haven og Lunden , og <span style='color:red'>jeg</span> <span style='color:red'>er</span> i Dag saa lidt skikket til"
      ],
      "text/plain": [
       "<IPython.core.display.Markdown object>"
      ]
     },
     "metadata": {},
     "output_type": "display_data"
    },
    {
     "data": {
      "text/markdown": [
       "521: og nu til Præstens . I hvor vant <span style='color:red'>jeg</span> <span style='color:red'>er</span> til at see mig elsket og"
      ],
      "text/plain": [
       "<IPython.core.display.Markdown object>"
      ]
     },
     "metadata": {},
     "output_type": "display_data"
    },
    {
     "data": {
      "text/markdown": [
       "558: her i Huset . Han troer nok , <span style='color:red'>jeg</span> <span style='color:red'>er</span> en meget ugiæstmild Skriverinde , og"
      ],
      "text/plain": [
       "<IPython.core.display.Markdown object>"
      ]
     },
     "metadata": {},
     "output_type": "display_data"
    },
    {
     "data": {
      "text/markdown": [
       "646: fares , som <span style='color:red'>jeg</span> tidt hører , naar <span style='color:red'>jeg</span> <span style='color:red'>er</span> nede og seer til hende ."
      ],
      "text/plain": [
       "<IPython.core.display.Markdown object>"
      ]
     },
     "metadata": {},
     "output_type": "display_data"
    },
    {
     "data": {
      "text/markdown": [
       "648: , og takket Gud i hans Tempel fordi <span style='color:red'>jeg</span> <span style='color:red'>er</span> saa glad . Men <span style='color:red'>er</span> ikke"
      ],
      "text/plain": [
       "<IPython.core.display.Markdown object>"
      ]
     },
     "metadata": {},
     "output_type": "display_data"
    },
    {
     "data": {
      "text/markdown": [
       "673: <span style='color:red'>jeg</span> har skyndt mig , og hvor ofte <span style='color:red'>jeg</span> <span style='color:red'>er</span> blevet afbrudt . Der <span style='color:red'>er</span> nu"
      ],
      "text/plain": [
       "<IPython.core.display.Markdown object>"
      ]
     },
     "metadata": {},
     "output_type": "display_data"
    },
    {
     "data": {
      "text/markdown": [
       "728: , for at see min Rikke , da <span style='color:red'>jeg</span> <span style='color:red'>er</span> hende saa nær , engang endnu"
      ],
      "text/plain": [
       "<IPython.core.display.Markdown object>"
      ]
     },
     "metadata": {},
     "output_type": "display_data"
    },
    {
     "data": {
      "text/markdown": [
       "758: af de faa Ting hvorpaa <span style='color:red'>jeg</span> kiender , <span style='color:red'>jeg</span> <span style='color:red'>er</span> blevet gammel , at <span style='color:red'>jeg</span> har"
      ],
      "text/plain": [
       "<IPython.core.display.Markdown object>"
      ]
     },
     "metadata": {},
     "output_type": "display_data"
    },
    {
     "data": {
      "text/markdown": [
       "833: <span style='color:red'>er</span> kun Frysen og Tørst tilbage . Men <span style='color:red'>jeg</span> <span style='color:red'>er</span> grumme mat – Sovet har jeg"
      ],
      "text/plain": [
       "<IPython.core.display.Markdown object>"
      ]
     },
     "metadata": {},
     "output_type": "display_data"
    },
    {
     "data": {
      "text/markdown": [
       "#### NBkilder_Koren_1812.xml"
      ],
      "text/plain": [
       "<IPython.core.display.Markdown object>"
      ]
     },
     "metadata": {},
     "output_type": "display_data"
    },
    {
     "data": {
      "text/markdown": [
       "16: Gud skee Tak ikke <span style='color:red'>er</span> Tilfældet , da <span style='color:red'>jeg</span> <span style='color:red'>er</span> meget bædre , og Veyret taaleligt"
      ],
      "text/plain": [
       "<IPython.core.display.Markdown object>"
      ]
     },
     "metadata": {},
     "output_type": "display_data"
    },
    {
     "data": {
      "text/markdown": [
       "28: naar <span style='color:red'>jeg</span> lider , og glæder sig naar <span style='color:red'>jeg</span> <span style='color:red'>er</span> glad [ . ] Nu er"
      ],
      "text/plain": [
       "<IPython.core.display.Markdown object>"
      ]
     },
     "metadata": {},
     "output_type": "display_data"
    },
    {
     "data": {
      "text/markdown": [
       "30: drikker Caffe , tilbringer <span style='color:red'>jeg</span> stedse , naar <span style='color:red'>jeg</span> <span style='color:red'>er</span> i mit daglige Lag , læsende"
      ],
      "text/plain": [
       "<IPython.core.display.Markdown object>"
      ]
     },
     "metadata": {},
     "output_type": "display_data"
    },
    {
     "data": {
      "text/markdown": [
       "49: Psalmebog eller i Mare Zolls Andagtsbog . Men <span style='color:red'>jeg</span> <span style='color:red'>er</span> vis paa , at hendes fromme"
      ],
      "text/plain": [
       "<IPython.core.display.Markdown object>"
      ]
     },
     "metadata": {},
     "output_type": "display_data"
    },
    {
     "data": {
      "text/markdown": [
       "67: deylig Dag , det veed <span style='color:red'>jeg</span> . Men <span style='color:red'>jeg</span> <span style='color:red'>er</span> syg og mat af den evindelige"
      ],
      "text/plain": [
       "<IPython.core.display.Markdown object>"
      ]
     },
     "metadata": {},
     "output_type": "display_data"
    },
    {
     "data": {
      "text/markdown": [
       "87: han lige velsignet og sød igien . O <span style='color:red'>jeg</span> <span style='color:red'>er</span> saa glad i dette Barn med"
      ],
      "text/plain": [
       "<IPython.core.display.Markdown object>"
      ]
     },
     "metadata": {},
     "output_type": "display_data"
    },
    {
     "data": {
      "text/markdown": [
       "103: . Seer I , Elskede , hvor vis <span style='color:red'>jeg</span> <span style='color:red'>er</span> paa , at alt hvad der"
      ],
      "text/plain": [
       "<IPython.core.display.Markdown object>"
      ]
     },
     "metadata": {},
     "output_type": "display_data"
    },
    {
     "data": {
      "text/markdown": [
       "123: dog maae beskrive Eder lidt nøyere , da <span style='color:red'>jeg</span> <span style='color:red'>er</span> vis paa , I aldrig saae"
      ],
      "text/plain": [
       "<IPython.core.display.Markdown object>"
      ]
     },
     "metadata": {},
     "output_type": "display_data"
    },
    {
     "data": {
      "text/markdown": [
       "125: meget om de ventede glade Dage , og <span style='color:red'>jeg</span> <span style='color:red'>er</span> blevet alt bædre og bædre ,"
      ],
      "text/plain": [
       "<IPython.core.display.Markdown object>"
      ]
     },
     "metadata": {},
     "output_type": "display_data"
    },
    {
     "data": {
      "text/markdown": [
       "128: . Telja bager Munker til dem , og <span style='color:red'>jeg</span> <span style='color:red'>er</span> vis paa det bliver en Glædskabsfest"
      ],
      "text/plain": [
       "<IPython.core.display.Markdown object>"
      ]
     },
     "metadata": {},
     "output_type": "display_data"
    },
    {
     "data": {
      "text/markdown": [
       "139: . I seer , Elskede , hvor langt <span style='color:red'>jeg</span> <span style='color:red'>er</span> kommet i Journalen , og desforuden"
      ],
      "text/plain": [
       "<IPython.core.display.Markdown object>"
      ]
     },
     "metadata": {},
     "output_type": "display_data"
    },
    {
     "data": {
      "text/markdown": [
       "151: Men tænk saa ogsaa paa , hvor syg <span style='color:red'>jeg</span> <span style='color:red'>er</span> i Dag , og at jeg"
      ],
      "text/plain": [
       "<IPython.core.display.Markdown object>"
      ]
     },
     "metadata": {},
     "output_type": "display_data"
    },
    {
     "data": {
      "text/markdown": [
       "164: hende stille Dals Arme og Skiød , som <span style='color:red'>jeg</span> <span style='color:red'>er</span> vis paa , aldrig vil blive"
      ],
      "text/plain": [
       "<IPython.core.display.Markdown object>"
      ]
     },
     "metadata": {},
     "output_type": "display_data"
    },
    {
     "data": {
      "text/markdown": [
       "171: andet til min unge Ven Bergh , som <span style='color:red'>jeg</span> <span style='color:red'>er</span> vis paa vil opfylde hvad jeg"
      ],
      "text/plain": [
       "<IPython.core.display.Markdown object>"
      ]
     },
     "metadata": {},
     "output_type": "display_data"
    },
    {
     "data": {
      "text/markdown": [
       "175: Børn , et nyt Beviis paa , at <span style='color:red'>jeg</span> <span style='color:red'>er</span> hiemme . Fader Pedro kom hiem"
      ],
      "text/plain": [
       "<IPython.core.display.Markdown object>"
      ]
     },
     "metadata": {},
     "output_type": "display_data"
    },
    {
     "data": {
      "text/markdown": [
       "185: – see , nu troer <span style='color:red'>jeg</span> saa men <span style='color:red'>jeg</span> <span style='color:red'>er</span> færdig . At Maja P :"
      ],
      "text/plain": [
       "<IPython.core.display.Markdown object>"
      ]
     },
     "metadata": {},
     "output_type": "display_data"
    },
    {
     "data": {
      "text/markdown": [
       "204: reyste herfra , ryster paa Hovedet . O <span style='color:red'>jeg</span> <span style='color:red'>er</span> i en hiertelig Angest . See"
      ],
      "text/plain": [
       "<IPython.core.display.Markdown object>"
      ]
     },
     "metadata": {},
     "output_type": "display_data"
    },
    {
     "data": {
      "text/markdown": [
       "230: Pligttour giort i Morgen til Eidsvoldværk , hvorhen <span style='color:red'>jeg</span> <span style='color:red'>er</span> buden med min Koren , som"
      ],
      "text/plain": [
       "<IPython.core.display.Markdown object>"
      ]
     },
     "metadata": {},
     "output_type": "display_data"
    },
    {
     "data": {
      "text/markdown": [
       "307: Eder , Elskede , hvor let og fro <span style='color:red'>jeg</span> <span style='color:red'>er</span> . Det kommer vel ogsaa af"
      ],
      "text/plain": [
       "<IPython.core.display.Markdown object>"
      ]
     },
     "metadata": {},
     "output_type": "display_data"
    },
    {
     "data": {
      "text/markdown": [
       "323: kan <span style='color:red'>jeg</span> jo nok betroe dem , at <span style='color:red'>jeg</span> <span style='color:red'>er</span> ret meget syg . Egentlig føler"
      ],
      "text/plain": [
       "<IPython.core.display.Markdown object>"
      ]
     },
     "metadata": {},
     "output_type": "display_data"
    },
    {
     "data": {
      "text/markdown": [
       "326: og nødt til at giøre mig stærkere end <span style='color:red'>jeg</span> <span style='color:red'>er</span> , da alles Øyne vogte paa"
      ],
      "text/plain": [
       "<IPython.core.display.Markdown object>"
      ]
     },
     "metadata": {},
     "output_type": "display_data"
    },
    {
     "data": {
      "text/markdown": [
       "331: blive . Mere siden , mine Elskede ! <span style='color:red'>jeg</span> <span style='color:red'>er</span> saa mat , at <span style='color:red'>jeg</span> maae"
      ],
      "text/plain": [
       "<IPython.core.display.Markdown object>"
      ]
     },
     "metadata": {},
     "output_type": "display_data"
    },
    {
     "data": {
      "text/markdown": [
       "332: fast altiid , og dog kanske meest naar <span style='color:red'>jeg</span> <span style='color:red'>er</span> syg , begriber mere med Hiertet"
      ],
      "text/plain": [
       "<IPython.core.display.Markdown object>"
      ]
     },
     "metadata": {},
     "output_type": "display_data"
    },
    {
     "data": {
      "text/markdown": [
       "336: kommer mit Mismod vel meget af , at <span style='color:red'>jeg</span> <span style='color:red'>er</span> saa svag – o , I"
      ],
      "text/plain": [
       "<IPython.core.display.Markdown object>"
      ]
     },
     "metadata": {},
     "output_type": "display_data"
    },
    {
     "data": {
      "text/markdown": [
       "339: vor ! » – Ney , Børn , <span style='color:red'>jeg</span> <span style='color:red'>er</span> saa men lys vaagen . I"
      ],
      "text/plain": [
       "<IPython.core.display.Markdown object>"
      ]
     },
     "metadata": {},
     "output_type": "display_data"
    },
    {
     "data": {
      "text/markdown": [
       "353: Uge . Det <span style='color:red'>er</span> ikke Ret , at <span style='color:red'>jeg</span> <span style='color:red'>er</span> saa meget borte fra Kista mi"
      ],
      "text/plain": [
       "<IPython.core.display.Markdown object>"
      ]
     },
     "metadata": {},
     "output_type": "display_data"
    },
    {
     "data": {
      "text/markdown": [
       "372: om Brylluppet og Alskens andre Ting . At <span style='color:red'>jeg</span> <span style='color:red'>er</span> meget færm i Dag , troer"
      ],
      "text/plain": [
       "<IPython.core.display.Markdown object>"
      ]
     },
     "metadata": {},
     "output_type": "display_data"
    },
    {
     "data": {
      "text/markdown": [
       "412: mig ikke , og – kort sagt , <span style='color:red'>jeg</span> <span style='color:red'>er</span> heel underlig tilmode . Dog ikke"
      ],
      "text/plain": [
       "<IPython.core.display.Markdown object>"
      ]
     },
     "metadata": {},
     "output_type": "display_data"
    },
    {
     "data": {
      "text/markdown": [
       "420: , paa egen Haand havde kiøbt , hvorfor <span style='color:red'>jeg</span> <span style='color:red'>er</span> ham meget forbunden , og kan"
      ],
      "text/plain": [
       "<IPython.core.display.Markdown object>"
      ]
     },
     "metadata": {},
     "output_type": "display_data"
    },
    {
     "data": {
      "text/markdown": [
       "425: et Par Ord til min Lotta , men <span style='color:red'>jeg</span> <span style='color:red'>er</span> saa søvning og træt , at"
      ],
      "text/plain": [
       "<IPython.core.display.Markdown object>"
      ]
     },
     "metadata": {},
     "output_type": "display_data"
    },
    {
     "data": {
      "text/markdown": [
       "429: Øynene , deraf kommer det vel , at <span style='color:red'>jeg</span> <span style='color:red'>er</span> genegen til at troe , Rygtet"
      ],
      "text/plain": [
       "<IPython.core.display.Markdown object>"
      ]
     },
     "metadata": {},
     "output_type": "display_data"
    },
    {
     "data": {
      "text/markdown": [
       "453: , og kan ikke tage bort , saa <span style='color:red'>jeg</span> <span style='color:red'>er</span> bange , det faaer blive ved"
      ],
      "text/plain": [
       "<IPython.core.display.Markdown object>"
      ]
     },
     "metadata": {},
     "output_type": "display_data"
    },
    {
     "data": {
      "text/markdown": [
       "458: sad hos hende her paa mit Kammer naar <span style='color:red'>jeg</span> <span style='color:red'>er</span> her ene , hvor hun har"
      ],
      "text/plain": [
       "<IPython.core.display.Markdown object>"
      ]
     },
     "metadata": {},
     "output_type": "display_data"
    },
    {
     "data": {
      "text/markdown": [
       "469: saa let og roelig om Hiertet , som <span style='color:red'>jeg</span> <span style='color:red'>er</span> endnu ; thi Gud skee Lov"
      ],
      "text/plain": [
       "<IPython.core.display.Markdown object>"
      ]
     },
     "metadata": {},
     "output_type": "display_data"
    },
    {
     "data": {
      "text/markdown": [
       "469: ellers skikket til nogen lang Vandring , da <span style='color:red'>jeg</span> <span style='color:red'>er</span> saa underlig mo i mine Knæe"
      ],
      "text/plain": [
       "<IPython.core.display.Markdown object>"
      ]
     },
     "metadata": {},
     "output_type": "display_data"
    },
    {
     "data": {
      "text/markdown": [
       "478: Venskab udklækkedes den , fra Følelsen af hvad <span style='color:red'>jeg</span> <span style='color:red'>er</span> ved Eder , har den sit"
      ],
      "text/plain": [
       "<IPython.core.display.Markdown object>"
      ]
     },
     "metadata": {},
     "output_type": "display_data"
    },
    {
     "data": {
      "text/markdown": [
       "485: ondt midt under det venstre Fodblad , saa <span style='color:red'>jeg</span> <span style='color:red'>er</span> færdig at skrige af Smerte naar"
      ],
      "text/plain": [
       "<IPython.core.display.Markdown object>"
      ]
     },
     "metadata": {},
     "output_type": "display_data"
    },
    {
     "data": {
      "text/markdown": [
       "489: Høstdag . Det <span style='color:red'>er</span> ikke for mig selv <span style='color:red'>jeg</span> <span style='color:red'>er</span> utaalmodig . Jeg <span style='color:red'>er</span> taalelig brav"
      ],
      "text/plain": [
       "<IPython.core.display.Markdown object>"
      ]
     },
     "metadata": {},
     "output_type": "display_data"
    },
    {
     "data": {
      "text/markdown": [
       "494: Koren . O hvor <span style='color:red'>jeg</span> takker Gud fordi <span style='color:red'>jeg</span> <span style='color:red'>er</span> her . Hvor langt ængsteligere var"
      ],
      "text/plain": [
       "<IPython.core.display.Markdown object>"
      ]
     },
     "metadata": {},
     "output_type": "display_data"
    },
    {
     "data": {
      "text/markdown": [
       "497: saa troet – Jeg veed ikke , hvorfor <span style='color:red'>jeg</span> <span style='color:red'>er</span> saa hiertelig bedrøvet i denne Aftenstund"
      ],
      "text/plain": [
       "<IPython.core.display.Markdown object>"
      ]
     },
     "metadata": {},
     "output_type": "display_data"
    },
    {
     "data": {
      "text/markdown": [
       "501: ere , takker <span style='color:red'>jeg</span> Gud inderlig , at <span style='color:red'>jeg</span> <span style='color:red'>er</span> her . I Majas matte Smiil"
      ],
      "text/plain": [
       "<IPython.core.display.Markdown object>"
      ]
     },
     "metadata": {},
     "output_type": "display_data"
    },
    {
     "data": {
      "text/markdown": [
       "501: det bekymrede barnlige Hierte , føler <span style='color:red'>jeg</span> hvad <span style='color:red'>jeg</span> <span style='color:red'>er</span> hende , hvilken Trøst og Støtte"
      ],
      "text/plain": [
       "<IPython.core.display.Markdown object>"
      ]
     },
     "metadata": {},
     "output_type": "display_data"
    },
    {
     "data": {
      "text/markdown": [
       "501: var <span style='color:red'>jeg</span> end mindre for de Dyrebare end <span style='color:red'>jeg</span> <span style='color:red'>er</span> , takkede <span style='color:red'>jeg</span> dog Gud at"
      ],
      "text/plain": [
       "<IPython.core.display.Markdown object>"
      ]
     },
     "metadata": {},
     "output_type": "display_data"
    },
    {
     "data": {
      "text/markdown": [
       "516: I tænke Eder , Elskte , hvor glad <span style='color:red'>jeg</span> <span style='color:red'>er</span> . Vidste I det nu kun"
      ],
      "text/plain": [
       "<IPython.core.display.Markdown object>"
      ]
     },
     "metadata": {},
     "output_type": "display_data"
    },
    {
     "data": {
      "text/markdown": [
       "519: haaber vist , godt . Den glade Sindsstemning <span style='color:red'>jeg</span> <span style='color:red'>er</span> i , bebuder mig det ."
      ],
      "text/plain": [
       "<IPython.core.display.Markdown object>"
      ]
     },
     "metadata": {},
     "output_type": "display_data"
    },
    {
     "data": {
      "text/markdown": [
       "521: milde Kraft . Saa kan det vel være <span style='color:red'>jeg</span> <span style='color:red'>er</span> kuldskiærere nu end ellers , da"
      ],
      "text/plain": [
       "<IPython.core.display.Markdown object>"
      ]
     },
     "metadata": {},
     "output_type": "display_data"
    },
    {
     "data": {
      "text/markdown": [
       "548: "
      ],
      "text/plain": [
       "<IPython.core.display.Markdown object>"
      ]
     },
     "metadata": {},
     "output_type": "display_data"
    },
    {
     "data": {
      "text/markdown": [
       "555: Siæl i disse Dage , om hvor ubillig <span style='color:red'>jeg</span> <span style='color:red'>er</span> naar noget gaaer mig imod ."
      ],
      "text/plain": [
       "<IPython.core.display.Markdown object>"
      ]
     },
     "metadata": {},
     "output_type": "display_data"
    },
    {
     "data": {
      "text/markdown": [
       "574: Blade kunde vidne med mig , hvor uskyldig <span style='color:red'>jeg</span> <span style='color:red'>er</span> . Men nu har <span style='color:red'>jeg</span> skrevet"
      ],
      "text/plain": [
       "<IPython.core.display.Markdown object>"
      ]
     },
     "metadata": {},
     "output_type": "display_data"
    },
    {
     "data": {
      "text/markdown": [
       "582: Det regner og tordner og blæser , og <span style='color:red'>jeg</span> <span style='color:red'>er</span> færdig med alt mit Mod selv"
      ],
      "text/plain": [
       "<IPython.core.display.Markdown object>"
      ]
     },
     "metadata": {},
     "output_type": "display_data"
    },
    {
     "data": {
      "text/markdown": [
       "610: Rikke ligesaa , og lie bli lell fordi <span style='color:red'>jeg</span> <span style='color:red'>er</span> saa længe borte ."
      ],
      "text/plain": [
       "<IPython.core.display.Markdown object>"
      ]
     },
     "metadata": {},
     "output_type": "display_data"
    },
    {
     "data": {
      "text/markdown": [
       "657: . Og det <span style='color:red'>er</span> ingen Feberkulde , thi <span style='color:red'>jeg</span> <span style='color:red'>er</span> i Dag ret færm , og"
      ],
      "text/plain": [
       "<IPython.core.display.Markdown object>"
      ]
     },
     "metadata": {},
     "output_type": "display_data"
    },
    {
     "data": {
      "text/markdown": [
       "669: kunde jo heller ikke vide , hvor glad <span style='color:red'>jeg</span> <span style='color:red'>er</span> i min Moer Korens Veninde »"
      ],
      "text/plain": [
       "<IPython.core.display.Markdown object>"
      ]
     },
     "metadata": {},
     "output_type": "display_data"
    },
    {
     "data": {
      "text/markdown": [
       "673: og , hvad der <span style='color:red'>er</span> det værste , <span style='color:red'>jeg</span> <span style='color:red'>er</span> selv Skyld i det : thi"
      ],
      "text/plain": [
       "<IPython.core.display.Markdown object>"
      ]
     },
     "metadata": {},
     "output_type": "display_data"
    },
    {
     "data": {
      "text/markdown": [
       "692: giør det jo i dette Øyeblik . At <span style='color:red'>jeg</span> <span style='color:red'>er</span> saa beklæmt , kommer vel af"
      ],
      "text/plain": [
       "<IPython.core.display.Markdown object>"
      ]
     },
     "metadata": {},
     "output_type": "display_data"
    },
    {
     "data": {
      "text/markdown": [
       "714: raske Mand , som nu vel troer , <span style='color:red'>jeg</span> <span style='color:red'>er</span> en heel Politikus . Han opholdt"
      ],
      "text/plain": [
       "<IPython.core.display.Markdown object>"
      ]
     },
     "metadata": {},
     "output_type": "display_data"
    },
    {
     "data": {
      "text/markdown": [
       "731: thi I maae vide , mine Børn , <span style='color:red'>jeg</span> <span style='color:red'>er</span> en reen Fusker i Korthaandværket ."
      ],
      "text/plain": [
       "<IPython.core.display.Markdown object>"
      ]
     },
     "metadata": {},
     "output_type": "display_data"
    },
    {
     "data": {
      "text/markdown": [
       "754: mig glade Efterretninger . Jeg veed ikke hvorfor <span style='color:red'>jeg</span> <span style='color:red'>er</span> saa ængstelig , og ikke kan"
      ],
      "text/plain": [
       "<IPython.core.display.Markdown object>"
      ]
     },
     "metadata": {},
     "output_type": "display_data"
    },
    {
     "data": {
      "text/markdown": [
       "759: Maja C , som vel maae synes , <span style='color:red'>jeg</span> <span style='color:red'>er</span> et underligt Dyr , der lod"
      ],
      "text/plain": [
       "<IPython.core.display.Markdown object>"
      ]
     },
     "metadata": {},
     "output_type": "display_data"
    },
    {
     "data": {
      "text/markdown": [
       "798: nesten ligesaa tungt som hiin Geschichte ; thi <span style='color:red'>jeg</span> <span style='color:red'>er</span> saa bange for , at vi"
      ],
      "text/plain": [
       "<IPython.core.display.Markdown object>"
      ]
     },
     "metadata": {},
     "output_type": "display_data"
    },
    {
     "data": {
      "text/markdown": [
       "803: og til blæser det ogsaa lidt , og <span style='color:red'>jeg</span> <span style='color:red'>er</span> meget bædre ."
      ],
      "text/plain": [
       "<IPython.core.display.Markdown object>"
      ]
     },
     "metadata": {},
     "output_type": "display_data"
    },
    {
     "data": {
      "text/markdown": [
       "870: , snart at kunde besvare mundtlig . Den <span style='color:red'>jeg</span> <span style='color:red'>er</span> i størst Gield hos , er"
      ],
      "text/plain": [
       "<IPython.core.display.Markdown object>"
      ]
     },
     "metadata": {},
     "output_type": "display_data"
    },
    {
     "data": {
      "text/markdown": [
       "873: <span style='color:red'>jeg</span> nu siger Eder , Dyrebare , at <span style='color:red'>jeg</span> <span style='color:red'>er</span> meget bædre , troer I mig"
      ],
      "text/plain": [
       "<IPython.core.display.Markdown object>"
      ]
     },
     "metadata": {},
     "output_type": "display_data"
    },
    {
     "data": {
      "text/markdown": [
       "874: . Der kommer bestandig ingen Snee , og <span style='color:red'>jeg</span> <span style='color:red'>er</span> bestandig ret en Usling . Egentlig"
      ],
      "text/plain": [
       "<IPython.core.display.Markdown object>"
      ]
     },
     "metadata": {},
     "output_type": "display_data"
    },
    {
     "data": {
      "text/markdown": [
       "876: en Slæde sidder man dog ikke ) da <span style='color:red'>jeg</span> <span style='color:red'>er</span> mindre end frisk , og har"
      ],
      "text/plain": [
       "<IPython.core.display.Markdown object>"
      ]
     },
     "metadata": {},
     "output_type": "display_data"
    },
    {
     "data": {
      "text/markdown": [
       "877: Søvn . Et Beviis paa , hvilken Stakkel <span style='color:red'>jeg</span> <span style='color:red'>er</span> bleven . Thi det gier mig"
      ],
      "text/plain": [
       "<IPython.core.display.Markdown object>"
      ]
     },
     "metadata": {},
     "output_type": "display_data"
    },
    {
     "data": {
      "text/markdown": [
       "885: Hun ligger saa stille . Jeg synes ogsaa <span style='color:red'>jeg</span> <span style='color:red'>er</span> bædre saa længe <span style='color:red'>jeg</span> sidder stille"
      ],
      "text/plain": [
       "<IPython.core.display.Markdown object>"
      ]
     },
     "metadata": {},
     "output_type": "display_data"
    },
    {
     "data": {
      "text/markdown": [
       "902: have det at gogiøre sig med , naar <span style='color:red'>jeg</span> <span style='color:red'>er</span> borte . Majalild bliver her til"
      ],
      "text/plain": [
       "<IPython.core.display.Markdown object>"
      ]
     },
     "metadata": {},
     "output_type": "display_data"
    },
    {
     "data": {
      "text/markdown": [
       "#### NBkilder_Koren_1813.xml"
      ],
      "text/plain": [
       "<IPython.core.display.Markdown object>"
      ]
     },
     "metadata": {},
     "output_type": "display_data"
    },
    {
     "data": {
      "text/markdown": [
       "26: vil I , som veed hvilken upartisk Moder <span style='color:red'>jeg</span> <span style='color:red'>er</span> , ogsaa vist troe . Gud"
      ],
      "text/plain": [
       "<IPython.core.display.Markdown object>"
      ]
     },
     "metadata": {},
     "output_type": "display_data"
    },
    {
     "data": {
      "text/markdown": [
       "31: længe fra Lotta mi den korte Tiid , <span style='color:red'>jeg</span> <span style='color:red'>er</span> hos hende – dog , der"
      ],
      "text/plain": [
       "<IPython.core.display.Markdown object>"
      ]
     },
     "metadata": {},
     "output_type": "display_data"
    },
    {
     "data": {
      "text/markdown": [
       "40: har spiist , hvile mig lidt , thi <span style='color:red'>jeg</span> <span style='color:red'>er</span> ikke ret brav i Dag ,"
      ],
      "text/plain": [
       "<IPython.core.display.Markdown object>"
      ]
     },
     "metadata": {},
     "output_type": "display_data"
    },
    {
     "data": {
      "text/markdown": [
       "51: dette Ønske opfyldt , Barnet mit , og <span style='color:red'>jeg</span> <span style='color:red'>er</span> ogsaa glad ved at kunde see"
      ],
      "text/plain": [
       "<IPython.core.display.Markdown object>"
      ]
     },
     "metadata": {},
     "output_type": "display_data"
    },
    {
     "data": {
      "text/markdown": [
       "60: været ovre og hilset paa Borches , men <span style='color:red'>jeg</span> <span style='color:red'>er</span> rigtig syg i Dag , og"
      ],
      "text/plain": [
       "<IPython.core.display.Markdown object>"
      ]
     },
     "metadata": {},
     "output_type": "display_data"
    },
    {
     "data": {
      "text/markdown": [
       "60: vi skal til Rørbyes , den sidste Dag <span style='color:red'>jeg</span> <span style='color:red'>er</span> her – ak , hvor er"
      ],
      "text/plain": [
       "<IPython.core.display.Markdown object>"
      ]
     },
     "metadata": {},
     "output_type": "display_data"
    },
    {
     "data": {
      "text/markdown": [
       "72: og dermed vil det gaae langsomt , da <span style='color:red'>jeg</span> <span style='color:red'>er</span> grumme mat , og har havt"
      ],
      "text/plain": [
       "<IPython.core.display.Markdown object>"
      ]
     },
     "metadata": {},
     "output_type": "display_data"
    },
    {
     "data": {
      "text/markdown": [
       "75: og hun havde saa godt Følge , at <span style='color:red'>jeg</span> <span style='color:red'>er</span> ganske roelig for det kiære Børn"
      ],
      "text/plain": [
       "<IPython.core.display.Markdown object>"
      ]
     },
     "metadata": {},
     "output_type": "display_data"
    },
    {
     "data": {
      "text/markdown": [
       "77: Denne Blæst skylder <span style='color:red'>jeg</span> ogsaa for , at <span style='color:red'>jeg</span> <span style='color:red'>er</span> mindre rask end i Gaar ."
      ],
      "text/plain": [
       "<IPython.core.display.Markdown object>"
      ]
     },
     "metadata": {},
     "output_type": "display_data"
    },
    {
     "data": {
      "text/markdown": [
       "93: Gange at sige Eder hvor glad og lykkelig <span style='color:red'>jeg</span> <span style='color:red'>er</span> ved min Majas Side , blandt"
      ],
      "text/plain": [
       "<IPython.core.display.Markdown object>"
      ]
     },
     "metadata": {},
     "output_type": "display_data"
    },
    {
     "data": {
      "text/markdown": [
       "97: sang vor kiære Giæst ( I veed , <span style='color:red'>jeg</span> <span style='color:red'>er</span> hiemme paa Auestad som hos alle"
      ],
      "text/plain": [
       "<IPython.core.display.Markdown object>"
      ]
     },
     "metadata": {},
     "output_type": "display_data"
    },
    {
     "data": {
      "text/markdown": [
       "99: . « Jeg faaer altiid godt Veyr naar <span style='color:red'>jeg</span> <span style='color:red'>er</span> ude og reyser » sagde Faer"
      ],
      "text/plain": [
       "<IPython.core.display.Markdown object>"
      ]
     },
     "metadata": {},
     "output_type": "display_data"
    },
    {
     "data": {
      "text/markdown": [
       "103: var saa utaalmodig som en Elsker ( siden <span style='color:red'>jeg</span> <span style='color:red'>er</span> saa nær det halve Secel tør"
      ],
      "text/plain": [
       "<IPython.core.display.Markdown object>"
      ]
     },
     "metadata": {},
     "output_type": "display_data"
    },
    {
     "data": {
      "text/markdown": [
       "155: <span style='color:red'>er</span> hun brav , siger hun , og <span style='color:red'>jeg</span> <span style='color:red'>er</span> det virkelig , om kun ikke"
      ],
      "text/plain": [
       "<IPython.core.display.Markdown object>"
      ]
     },
     "metadata": {},
     "output_type": "display_data"
    },
    {
     "data": {
      "text/markdown": [
       "183: det første <span style='color:red'>jeg</span> fortæller Eder være , at <span style='color:red'>jeg</span> <span style='color:red'>er</span> overmaade rask i Dag , og"
      ],
      "text/plain": [
       "<IPython.core.display.Markdown object>"
      ]
     },
     "metadata": {},
     "output_type": "display_data"
    },
    {
     "data": {
      "text/markdown": [
       "188: . O , at de saae hvor frisk <span style='color:red'>jeg</span> <span style='color:red'>er</span> , hvor godt <span style='color:red'>jeg</span> har det"
      ],
      "text/plain": [
       "<IPython.core.display.Markdown object>"
      ]
     },
     "metadata": {},
     "output_type": "display_data"
    },
    {
     "data": {
      "text/markdown": [
       "198: vi lever i sød Roe , og at <span style='color:red'>jeg</span> <span style='color:red'>er</span> ret dygtig frisk . Om Formiddagen"
      ],
      "text/plain": [
       "<IPython.core.display.Markdown object>"
      ]
     },
     "metadata": {},
     "output_type": "display_data"
    },
    {
     "data": {
      "text/markdown": [
       "257: lidt længere ; og saa stoer en Hader <span style='color:red'>jeg</span> <span style='color:red'>er</span> af Skiændselsstøtter , denne os elskelige"
      ],
      "text/plain": [
       "<IPython.core.display.Markdown object>"
      ]
     },
     "metadata": {},
     "output_type": "display_data"
    },
    {
     "data": {
      "text/markdown": [
       "265: , <span style='color:red'>er</span> at beskyldes for Bitterhed , naar <span style='color:red'>jeg</span> <span style='color:red'>er</span> mig bevidst , at have skrevet"
      ],
      "text/plain": [
       "<IPython.core.display.Markdown object>"
      ]
     },
     "metadata": {},
     "output_type": "display_data"
    },
    {
     "data": {
      "text/markdown": [
       "317: , <span style='color:red'>jeg</span> skylder Fader Pavels Brev , men <span style='color:red'>jeg</span> <span style='color:red'>er</span> saa mat , at <span style='color:red'>jeg</span> maae"
      ],
      "text/plain": [
       "<IPython.core.display.Markdown object>"
      ]
     },
     "metadata": {},
     "output_type": "display_data"
    },
    {
     "data": {
      "text/markdown": [
       "341: nu i Dag i al Regnen , og <span style='color:red'>jeg</span> <span style='color:red'>er</span> vreed paa mig selv , fordi"
      ],
      "text/plain": [
       "<IPython.core.display.Markdown object>"
      ]
     },
     "metadata": {},
     "output_type": "display_data"
    },
    {
     "data": {
      "text/markdown": [
       "350: var <span style='color:red'>jeg</span> ikke Kl halvtolv i Aftes som <span style='color:red'>jeg</span> <span style='color:red'>er</span> nu . Seer I , her"
      ],
      "text/plain": [
       "<IPython.core.display.Markdown object>"
      ]
     },
     "metadata": {},
     "output_type": "display_data"
    },
    {
     "data": {
      "text/markdown": [
       "350: Aften og disse glade Dage . Jeg synes <span style='color:red'>jeg</span> <span style='color:red'>er</span> blevet endnu yngere end før ,"
      ],
      "text/plain": [
       "<IPython.core.display.Markdown object>"
      ]
     },
     "metadata": {},
     "output_type": "display_data"
    },
    {
     "data": {
      "text/markdown": [
       "350: før , og I veed , hvor ung <span style='color:red'>jeg</span> <span style='color:red'>er</span> naar <span style='color:red'>jeg</span> <span style='color:red'>er</span> glad . Og"
      ],
      "text/plain": [
       "<IPython.core.display.Markdown object>"
      ]
     },
     "metadata": {},
     "output_type": "display_data"
    },
    {
     "data": {
      "text/markdown": [
       "350: I veed , hvor ung <span style='color:red'>jeg</span> <span style='color:red'>er</span> naar <span style='color:red'>jeg</span> <span style='color:red'>er</span> glad . Og nu Udsigten til"
      ],
      "text/plain": [
       "<IPython.core.display.Markdown object>"
      ]
     },
     "metadata": {},
     "output_type": "display_data"
    },
    {
     "data": {
      "text/markdown": [
       "381: <span style='color:red'>er</span> vist denne Dags Roelighed tiænlig , da <span style='color:red'>jeg</span> <span style='color:red'>er</span> mindre end rask , og vaagnede"
      ],
      "text/plain": [
       "<IPython.core.display.Markdown object>"
      ]
     },
     "metadata": {},
     "output_type": "display_data"
    },
    {
     "data": {
      "text/markdown": [
       "403: , og har det nu værre , thi <span style='color:red'>jeg</span> <span style='color:red'>er</span> ganske brav , hun ikke ."
      ],
      "text/plain": [
       "<IPython.core.display.Markdown object>"
      ]
     },
     "metadata": {},
     "output_type": "display_data"
    },
    {
     "data": {
      "text/markdown": [
       "450: mig at fordrive den slemme Plageaand , og <span style='color:red'>jeg</span> <span style='color:red'>er</span> nu saa færm , at jeg"
      ],
      "text/plain": [
       "<IPython.core.display.Markdown object>"
      ]
     },
     "metadata": {},
     "output_type": "display_data"
    },
    {
     "data": {
      "text/markdown": [
       "459: igien havde lettet Eders ved Efterretningen om at <span style='color:red'>jeg</span> <span style='color:red'>er</span> fuldkommen frisk , da I ere"
      ],
      "text/plain": [
       "<IPython.core.display.Markdown object>"
      ]
     },
     "metadata": {},
     "output_type": "display_data"
    },
    {
     "data": {
      "text/markdown": [
       "469: Majabrevet fuldender <span style='color:red'>jeg</span> nu først . – At <span style='color:red'>jeg</span> <span style='color:red'>er</span> længe siden færdig med Tobias Hoppe"
      ],
      "text/plain": [
       "<IPython.core.display.Markdown object>"
      ]
     },
     "metadata": {},
     "output_type": "display_data"
    },
    {
     "data": {
      "text/markdown": [
       "479: Folk i Egnen her . De troer vist <span style='color:red'>jeg</span> <span style='color:red'>er</span> blevet stoerfolk eller Gud veed hvad"
      ],
      "text/plain": [
       "<IPython.core.display.Markdown object>"
      ]
     },
     "metadata": {},
     "output_type": "display_data"
    },
    {
     "data": {
      "text/markdown": [
       "497: ja saa gar Telja . Kun Kista og <span style='color:red'>jeg</span> <span style='color:red'>er</span> hiemme . Jeg stod mismodig op"
      ],
      "text/plain": [
       "<IPython.core.display.Markdown object>"
      ]
     },
     "metadata": {},
     "output_type": "display_data"
    },
    {
     "data": {
      "text/markdown": [
       "529: modsige hende , naar hun kalder Godt hvad <span style='color:red'>jeg</span> <span style='color:red'>er</span> overbevist om , ikke <span style='color:red'>er</span> det"
      ],
      "text/plain": [
       "<IPython.core.display.Markdown object>"
      ]
     },
     "metadata": {},
     "output_type": "display_data"
    },
    {
     "data": {
      "text/markdown": [
       "538: var søde Idas Fødselsdag . – Dog , <span style='color:red'>jeg</span> <span style='color:red'>er</span> jo ikke kommet rigtig til Økeren"
      ],
      "text/plain": [
       "<IPython.core.display.Markdown object>"
      ]
     },
     "metadata": {},
     "output_type": "display_data"
    },
    {
     "data": {
      "text/markdown": [
       "562: med Tryk paa ; men I veed , <span style='color:red'>jeg</span> <span style='color:red'>er</span> lidt forligt med ham i den"
      ],
      "text/plain": [
       "<IPython.core.display.Markdown object>"
      ]
     },
     "metadata": {},
     "output_type": "display_data"
    },
    {
     "data": {
      "text/markdown": [
       "574: at blive saa mange Dage længere , som <span style='color:red'>jeg</span> <span style='color:red'>er</span> borte , og det beroeliger mig"
      ],
      "text/plain": [
       "<IPython.core.display.Markdown object>"
      ]
     },
     "metadata": {},
     "output_type": "display_data"
    },
    {
     "data": {
      "text/markdown": [
       "669: og gaaer saa sikkert til Hiertet . Men <span style='color:red'>jeg</span> <span style='color:red'>er</span> nok meget svag , thi jeg"
      ],
      "text/plain": [
       "<IPython.core.display.Markdown object>"
      ]
     },
     "metadata": {},
     "output_type": "display_data"
    },
    {
     "data": {
      "text/markdown": [
       "671: . O , <span style='color:red'>jeg</span> var ikke allene , <span style='color:red'>jeg</span> <span style='color:red'>er</span> en lykkelig Moder , en af"
      ],
      "text/plain": [
       "<IPython.core.display.Markdown object>"
      ]
     },
     "metadata": {},
     "output_type": "display_data"
    },
    {
     "data": {
      "text/markdown": [
       "687: Giid I nu Alle vidste , hvor rask <span style='color:red'>jeg</span> <span style='color:red'>er</span> igien . Jeg har drukket mine"
      ],
      "text/plain": [
       "<IPython.core.display.Markdown object>"
      ]
     },
     "metadata": {},
     "output_type": "display_data"
    },
    {
     "data": {
      "text/markdown": [
       "687: . Det <span style='color:red'>er</span> et sandt Tegn til , <span style='color:red'>jeg</span> <span style='color:red'>er</span> frisk igien . Men see !"
      ],
      "text/plain": [
       "<IPython.core.display.Markdown object>"
      ]
     },
     "metadata": {},
     "output_type": "display_data"
    },
    {
     "data": {
      "text/markdown": [
       "688: , hun havde . I maae vide , <span style='color:red'>jeg</span> <span style='color:red'>er</span> bleven end mere barnagtig siden jeg"
      ],
      "text/plain": [
       "<IPython.core.display.Markdown object>"
      ]
     },
     "metadata": {},
     "output_type": "display_data"
    },
    {
     "data": {
      "text/markdown": [
       "694: Føret godt , og dog bliver <span style='color:red'>jeg</span> hvor <span style='color:red'>jeg</span> <span style='color:red'>er</span> . Jeg havde i Nat igien"
      ],
      "text/plain": [
       "<IPython.core.display.Markdown object>"
      ]
     },
     "metadata": {},
     "output_type": "display_data"
    },
    {
     "data": {
      "text/markdown": [
       "702: ofte reyst længere i slettere Føre . Men <span style='color:red'>jeg</span> <span style='color:red'>er</span> uslere end Føret , det er"
      ],
      "text/plain": [
       "<IPython.core.display.Markdown object>"
      ]
     },
     "metadata": {},
     "output_type": "display_data"
    },
    {
     "data": {
      "text/markdown": [
       "708: , nægtes eller berøves dem . Dog , <span style='color:red'>jeg</span> <span style='color:red'>er</span> kommet uden for min Sphære ,"
      ],
      "text/plain": [
       "<IPython.core.display.Markdown object>"
      ]
     },
     "metadata": {},
     "output_type": "display_data"
    },
    {
     "data": {
      "text/markdown": [
       "708: mig i mit lille grønne Kammer , hvor <span style='color:red'>jeg</span> <span style='color:red'>er</span> ligesom udenfor alt hvad der ikke"
      ],
      "text/plain": [
       "<IPython.core.display.Markdown object>"
      ]
     },
     "metadata": {},
     "output_type": "display_data"
    },
    {
     "data": {
      "text/markdown": [
       "720: . Nu skulde <span style='color:red'>jeg</span> dog , hvor lidt <span style='color:red'>jeg</span> <span style='color:red'>er</span> stemt til det , fortælle Eder"
      ],
      "text/plain": [
       "<IPython.core.display.Markdown object>"
      ]
     },
     "metadata": {},
     "output_type": "display_data"
    },
    {
     "data": {
      "text/markdown": [
       "723: mig . Jeg kan ikke sove længere end <span style='color:red'>jeg</span> <span style='color:red'>er</span> vant til , og saa snart"
      ],
      "text/plain": [
       "<IPython.core.display.Markdown object>"
      ]
     },
     "metadata": {},
     "output_type": "display_data"
    },
    {
     "data": {
      "text/markdown": [
       "745: fortrinlige blandt Lafontaines Romaner ; men nu , <span style='color:red'>jeg</span> <span style='color:red'>er</span> blevet ret fortroelig med den ,"
      ],
      "text/plain": [
       "<IPython.core.display.Markdown object>"
      ]
     },
     "metadata": {},
     "output_type": "display_data"
    },
    {
     "data": {
      "text/markdown": [
       "747: , I troer ikke hvor frisk og let <span style='color:red'>jeg</span> <span style='color:red'>er</span> i det hele Legeme , fra"
      ],
      "text/plain": [
       "<IPython.core.display.Markdown object>"
      ]
     },
     "metadata": {},
     "output_type": "display_data"
    },
    {
     "data": {
      "text/markdown": [
       "766: , og dine Venner endnu . Koren og <span style='color:red'>jeg</span> <span style='color:red'>er</span> dine Sødskende » – noget saadant"
      ],
      "text/plain": [
       "<IPython.core.display.Markdown object>"
      ]
     },
     "metadata": {},
     "output_type": "display_data"
    },
    {
     "data": {
      "text/markdown": [
       "766: <span style='color:red'>jeg</span> , troer <span style='color:red'>jeg</span> . Det græsselige : <span style='color:red'>jeg</span> <span style='color:red'>er</span> saa forladt ! – rystede mit"
      ],
      "text/plain": [
       "<IPython.core.display.Markdown object>"
      ]
     },
     "metadata": {},
     "output_type": "display_data"
    },
    {
     "data": {
      "text/markdown": [
       "766: Bryst , og det <span style='color:red'>er</span> <span style='color:red'>jeg</span> aldrig naar <span style='color:red'>jeg</span> <span style='color:red'>er</span> bedrøvet . Men Hovedet <span style='color:red'>er</span> godt"
      ],
      "text/plain": [
       "<IPython.core.display.Markdown object>"
      ]
     },
     "metadata": {},
     "output_type": "display_data"
    },
    {
     "data": {
      "text/markdown": [
       "766: Roe . Af Næstouren bliver intet . Og <span style='color:red'>jeg</span> <span style='color:red'>er</span> blevet bædre imens <span style='color:red'>jeg</span> skrev ."
      ],
      "text/plain": [
       "<IPython.core.display.Markdown object>"
      ]
     },
     "metadata": {},
     "output_type": "display_data"
    },
    {
     "data": {
      "text/markdown": [
       "#### NBkilder_Koren_1814.xml"
      ],
      "text/plain": [
       "<IPython.core.display.Markdown object>"
      ]
     },
     "metadata": {},
     "output_type": "display_data"
    },
    {
     "data": {
      "text/markdown": [
       "2: være gladere , lettere om Hiertet , end <span style='color:red'>jeg</span> <span style='color:red'>er</span> i Dag , og Gud give"
      ],
      "text/plain": [
       "<IPython.core.display.Markdown object>"
      ]
     },
     "metadata": {},
     "output_type": "display_data"
    },
    {
     "data": {
      "text/markdown": [
       "7: den fortroelige Samsnak , som I veed , <span style='color:red'>jeg</span> <span style='color:red'>er</span> saadan Giæk efter . Husherren forsømmer"
      ],
      "text/plain": [
       "<IPython.core.display.Markdown object>"
      ]
     },
     "metadata": {},
     "output_type": "display_data"
    },
    {
     "data": {
      "text/markdown": [
       "18: nu , <span style='color:red'>jeg</span> var en Mand ; men <span style='color:red'>jeg</span> <span style='color:red'>er</span> kun en svag frygtsom Pige ."
      ],
      "text/plain": [
       "<IPython.core.display.Markdown object>"
      ]
     },
     "metadata": {},
     "output_type": "display_data"
    },
    {
     "data": {
      "text/markdown": [
       "43: Frue Brat . Ak , mine Kiære , <span style='color:red'>jeg</span> <span style='color:red'>er</span> ikke halv saa god , som"
      ],
      "text/plain": [
       "<IPython.core.display.Markdown object>"
      ]
     },
     "metadata": {},
     "output_type": "display_data"
    },
    {
     "data": {
      "text/markdown": [
       "123: Inderste , end om <span style='color:red'>jeg</span> nu , da <span style='color:red'>jeg</span> <span style='color:red'>er</span> roeligere , forsøgte at giøre Eder"
      ],
      "text/plain": [
       "<IPython.core.display.Markdown object>"
      ]
     },
     "metadata": {},
     "output_type": "display_data"
    },
    {
     "data": {
      "text/markdown": [
       "169: som <span style='color:red'>jeg</span> ogsaa saa giærne vilde , fordi <span style='color:red'>jeg</span> <span style='color:red'>er</span> beredt til at leve og døe"
      ],
      "text/plain": [
       "<IPython.core.display.Markdown object>"
      ]
     },
     "metadata": {},
     "output_type": "display_data"
    },
    {
     "data": {
      "text/markdown": [
       "169: stolt af , og aldrig fragaae , at <span style='color:red'>jeg</span> <span style='color:red'>er</span> det ædle mishandlede Norges Pleyedatter ["
      ],
      "text/plain": [
       "<IPython.core.display.Markdown object>"
      ]
     },
     "metadata": {},
     "output_type": "display_data"
    },
    {
     "data": {
      "text/markdown": [
       "204: Men I Alle undres ikke over , at <span style='color:red'>jeg</span> <span style='color:red'>er</span> lidt underlig tilmode , lidt beklæmt"
      ],
      "text/plain": [
       "<IPython.core.display.Markdown object>"
      ]
     },
     "metadata": {},
     "output_type": "display_data"
    },
    {
     "data": {
      "text/markdown": [
       "#### NBkilder_Koren_1815.xml"
      ],
      "text/plain": [
       "<IPython.core.display.Markdown object>"
      ]
     },
     "metadata": {},
     "output_type": "display_data"
    },
    {
     "data": {
      "text/markdown": [
       "9: "
      ],
      "text/plain": [
       "<IPython.core.display.Markdown object>"
      ]
     },
     "metadata": {},
     "output_type": "display_data"
    },
    {
     "data": {
      "text/markdown": [
       "12: Hierte nu kun <span style='color:red'>er</span> sexten Aar , at <span style='color:red'>jeg</span> <span style='color:red'>er</span> tilfreds med Alt omkring mig ,"
      ],
      "text/plain": [
       "<IPython.core.display.Markdown object>"
      ]
     },
     "metadata": {},
     "output_type": "display_data"
    },
    {
     "data": {
      "text/markdown": [
       "13: Verdens politiske Gang . Jeg negter ikke , <span style='color:red'>jeg</span> <span style='color:red'>er</span> lidt vred paa Dem for nogle"
      ],
      "text/plain": [
       "<IPython.core.display.Markdown object>"
      ]
     },
     "metadata": {},
     "output_type": "display_data"
    },
    {
     "data": {
      "text/markdown": [
       "15: Auestad . Gud , hvor glad og lykkelig <span style='color:red'>jeg</span> <span style='color:red'>er</span> ! Men <span style='color:red'>jeg</span> <span style='color:red'>er</span> det for"
      ],
      "text/plain": [
       "<IPython.core.display.Markdown object>"
      ]
     },
     "metadata": {},
     "output_type": "display_data"
    },
    {
     "data": {
      "text/markdown": [
       "15: hvor glad og lykkelig <span style='color:red'>jeg</span> <span style='color:red'>er</span> ! Men <span style='color:red'>jeg</span> <span style='color:red'>er</span> det for meget til nu at"
      ],
      "text/plain": [
       "<IPython.core.display.Markdown object>"
      ]
     },
     "metadata": {},
     "output_type": "display_data"
    },
    {
     "data": {
      "text/markdown": [
       "#### NBkilder_Undset_Fragmenter.xml"
      ],
      "text/plain": [
       "<IPython.core.display.Markdown object>"
      ]
     },
     "metadata": {},
     "output_type": "display_data"
    },
    {
     "data": {
      "text/markdown": [
       "141: ' rettet fra ' mi ' ved overskriving <span style='color:red'>jeg</span> <span style='color:red'>er</span> hjemme . » Hun tar om"
      ],
      "text/plain": [
       "<IPython.core.display.Markdown object>"
      ]
     },
     "metadata": {},
     "output_type": "display_data"
    },
    {
     "data": {
      "text/markdown": [
       "168: . Og saa <span style='color:red'>er</span> det det , at <span style='color:red'>jeg</span> <span style='color:red'>er</span> blit ærgjerrig ogsaa nu . Fordi"
      ],
      "text/plain": [
       "<IPython.core.display.Markdown object>"
      ]
     },
     "metadata": {},
     "output_type": "display_data"
    },
    {
     "data": {
      "text/markdown": [
       "168: <span style='color:red'>jeg</span> <span style='color:red'>er</span> blit ærgjerrig ogsaa nu . Fordi <span style='color:red'>jeg</span> <span style='color:red'>er</span> din og fordi <span style='color:red'>jeg</span> skal bli"
      ],
      "text/plain": [
       "<IPython.core.display.Markdown object>"
      ]
     },
     "metadata": {},
     "output_type": "display_data"
    },
    {
     "data": {
      "text/markdown": [
       "168: vil <span style='color:red'>jeg</span> bli til noget . Og fordi <span style='color:red'>jeg</span> <span style='color:red'>er</span> lykkelig – ."
      ],
      "text/plain": [
       "<IPython.core.display.Markdown object>"
      ]
     },
     "metadata": {},
     "output_type": "display_data"
    },
    {
     "data": {
      "text/markdown": [
       "169: gud , naar <span style='color:red'>jeg</span> tænker paa , hvor <span style='color:red'>jeg</span> <span style='color:red'>er</span> lykkelig – . Og <span style='color:red'>jeg</span> kan"
      ],
      "text/plain": [
       "<IPython.core.display.Markdown object>"
      ]
     },
     "metadata": {},
     "output_type": "display_data"
    },
    {
     "data": {
      "text/markdown": [
       "169: Og <span style='color:red'>jeg</span> kan ikke glemme , fordi om <span style='color:red'>jeg</span> <span style='color:red'>er</span> lykkelig , at livet <span style='color:red'>er</span> bundløst"
      ],
      "text/plain": [
       "<IPython.core.display.Markdown object>"
      ]
     },
     "metadata": {},
     "output_type": "display_data"
    },
    {
     "data": {
      "text/markdown": [
       "169: , der ikke vet , hvor bundløst rik <span style='color:red'>jeg</span> <span style='color:red'>er</span> – det <span style='color:red'>er</span> bare som en"
      ],
      "text/plain": [
       "<IPython.core.display.Markdown object>"
      ]
     },
     "metadata": {},
     "output_type": "display_data"
    },
    {
     "data": {
      "text/markdown": [
       "171: mig til mit arbeide ? Jeg som synes <span style='color:red'>jeg</span> <span style='color:red'>er</span> kommet utenfor livet – det som"
      ],
      "text/plain": [
       "<IPython.core.display.Markdown object>"
      ]
     },
     "metadata": {},
     "output_type": "display_data"
    },
    {
     "data": {
      "text/markdown": [
       "171: <span style='color:red'>er</span> der , men <span style='color:red'>jeg</span> husker , hvor <span style='color:red'>jeg</span> <span style='color:red'>er</span> født og baaren og hvor min"
      ],
      "text/plain": [
       "<IPython.core.display.Markdown object>"
      ]
     },
     "metadata": {},
     "output_type": "display_data"
    },
    {
     "data": {
      "text/markdown": [
       "171: kom dit . Og sommetider , netop naar <span style='color:red'>jeg</span> <span style='color:red'>er</span> mest lykkelig , saa stikker det"
      ],
      "text/plain": [
       "<IPython.core.display.Markdown object>"
      ]
     },
     "metadata": {},
     "output_type": "display_data"
    },
    {
     "data": {
      "text/markdown": [
       "207: tror ikke <span style='color:red'>jeg</span> kunde blit saa lykkelig som <span style='color:red'>jeg</span> <span style='color:red'>er</span> , hvis der ikke hadde været"
      ],
      "text/plain": [
       "<IPython.core.display.Markdown object>"
      ]
     },
     "metadata": {},
     "output_type": "display_data"
    }
   ],
   "source": [
    "for i in korpus_konk(['jeg', 'er'], kilder_korpus, before=8, after=8):\n",
    "    try:\n",
    "        display(Markdown(i))\n",
    "    except:\n",
    "        print(i)"
   ]
  },
  {
   "cell_type": "markdown",
   "metadata": {},
   "source": [
    "### Søk med regulære uttrykk\n",
    "\n",
    "Eksempler på syntaks for regulære uttrykk:\n",
    "*   \"henne[^ ]* \"  - henne + x antall vilkårlige tegn etter, etterfulgt av mellomrom.\n",
    "*   \" henne[^ ] \" - mellomrom + henne + et vilkårlig tegn etter, etterfulgt av mellomrom.\n",
    "*   \"henne[^ ]r[^ ] \" - henne + et vilkårlig tegn + r + et vilkårlig tegn, etterfulgt av mellomrom."
   ]
  },
  {
   "cell_type": "code",
   "execution_count": 7,
   "metadata": {},
   "outputs": [
    {
     "data": {
      "text/markdown": [
       "#### NBkilder_Amundsen_Slededagbok.xml"
      ],
      "text/plain": [
       "<IPython.core.display.Markdown object>"
      ]
     },
     "metadata": {},
     "output_type": "display_data"
    },
    {
     "data": {
      "text/markdown": [
       "4: gelse. Ingen a åss såv ett minutt. Har idag skutt <span style='color:red'>henne </span>da de ikke var muli å manøvrere me henne. Likelede"
      ],
      "text/plain": [
       "<IPython.core.display.Markdown object>"
      ]
     },
     "metadata": {},
     "output_type": "display_data"
    },
    {
     "data": {
      "text/markdown": [
       "44:  over disse lomske strekninger. Vi går med live i <span style='color:red'>hennerne </span>vær dag, men det er morsomt at høre – ingen ønsker"
      ],
      "text/plain": [
       "<IPython.core.display.Markdown object>"
      ]
     },
     "metadata": {},
     "output_type": "display_data"
    },
    {
     "data": {
      "text/markdown": [
       "63: redd for, di har tatt veien tilbake, vor vi skjøt <span style='color:red'>henne. </span>–"
      ],
      "text/plain": [
       "<IPython.core.display.Markdown object>"
      ]
     },
     "metadata": {},
     "output_type": "display_data"
    },
    {
     "data": {
      "text/markdown": [
       "123: n å tekkeli – ypperli fårr en go beskuen. Vi knep <span style='color:red'>henne </span>– vi tok ikke feil – å resultate – ja, de var temm"
      ],
      "text/plain": [
       "<IPython.core.display.Markdown object>"
      ]
     },
     "metadata": {},
     "output_type": "display_data"
    },
    {
     "data": {
      "text/markdown": [
       "157: omm ikke lenge har dere åss ijenn å da me seier i <span style='color:red'>hennerne. </span>Vi feirer vår julekvell iaften. Vi har jo ivirklih"
      ],
      "text/plain": [
       "<IPython.core.display.Markdown object>"
      ]
     },
     "metadata": {},
     "output_type": "display_data"
    },
    {
     "data": {
      "text/markdown": [
       "202: stnåkk hadde hunn fallt ned a varden å flesske på <span style='color:red'>henne </span>– hunn var særdeles fet – var noe gult – metatt a "
      ],
      "text/plain": [
       "<IPython.core.display.Markdown object>"
      ]
     },
     "metadata": {},
     "output_type": "display_data"
    },
    {
     "data": {
      "text/markdown": [
       "#### NBkilder_Collett_Brev_1841-51.xml"
      ],
      "text/plain": [
       "<IPython.core.display.Markdown object>"
      ]
     },
     "metadata": {},
     "output_type": "display_data"
    },
    {
     "data": {
      "text/markdown": [
       "5: ter Jonas Collett nevner «Mad. Braae» og familien <span style='color:red'>hennes </span>i brev fra 1839 og 1840 (Collett og Collett 1926–3"
      ],
      "text/plain": [
       "<IPython.core.display.Markdown object>"
      ]
     },
     "metadata": {},
     "output_type": "display_data"
    },
    {
     "data": {
      "text/markdown": [
       "114: – at BraasBraas] trolig Louise Braae (født 1788), <span style='color:red'>hennes </span>datter Christiane (Jane) og svigersønn Ernst Ferdi"
      ],
      "text/plain": [
       "<IPython.core.display.Markdown object>"
      ]
     },
     "metadata": {},
     "output_type": "display_data"
    },
    {
     "data": {
      "text/markdown": [
       "169: elEngel] Engel Dallin (Dahlin) (1792–1862) længer <span style='color:red'>henne </span>kunde jeg see et Par korslagte Been der tilhørte F"
      ],
      "text/plain": [
       "<IPython.core.display.Markdown object>"
      ]
     },
     "metadata": {},
     "output_type": "display_data"
    },
    {
     "data": {
      "text/markdown": [
       "206: gusta) (1811–72), Peter Jonas Colletts søster, og <span style='color:red'>hennes </span>mann Peter Severin Paulsen Steenstrup (1807–63) li"
      ],
      "text/plain": [
       "<IPython.core.display.Markdown object>"
      ]
     },
     "metadata": {},
     "output_type": "display_data"
    },
    {
     "data": {
      "text/markdown": [
       "326: gusta) (1811–72), Peter Jonas Colletts søster, og <span style='color:red'>hennes </span>mann Peter Severin Paulsen Steenstrup (1807–63) og"
      ],
      "text/plain": [
       "<IPython.core.display.Markdown object>"
      ]
     },
     "metadata": {},
     "output_type": "display_data"
    },
    {
     "data": {
      "text/markdown": [
       "331:  fik idag netop som jeg skulde begynde min Siesta <span style='color:red'>henne </span>hos Kaltenb.sKaltenborns] dvs. søstrene Marie (181"
      ],
      "text/plain": [
       "<IPython.core.display.Markdown object>"
      ]
     },
     "metadata": {},
     "output_type": "display_data"
    },
    {
     "data": {
      "text/markdown": [
       "338: gusta) (1811–72), Peter Jonas Colletts søster, og <span style='color:red'>hennes </span>mann Peter Severin Paulsen Steenstrup (1807–63) – "
      ],
      "text/plain": [
       "<IPython.core.display.Markdown object>"
      ]
     },
     "metadata": {},
     "output_type": "display_data"
    },
    {
     "data": {
      "text/markdown": [
       "#### NBkilder_Collett_Brev_1852-63.xml"
      ],
      "text/plain": [
       "<IPython.core.display.Markdown object>"
      ]
     },
     "metadata": {},
     "output_type": "display_data"
    },
    {
     "data": {
      "text/markdown": [
       "46: eller Sligt. 2 a 3 Gange har Børnene og jeg været <span style='color:red'>henne </span>hos Halkjers i Julen. Naar der er Folk der, kjeder"
      ],
      "text/plain": [
       "<IPython.core.display.Markdown object>"
      ]
     },
     "metadata": {},
     "output_type": "display_data"
    },
    {
     "data": {
      "text/markdown": [
       "71: alentin Christian Wilhelm Sibbern (1779–1853), og <span style='color:red'>hennes </span>ugifte datter Juliane Augusta Bolette Sibbern (181"
      ],
      "text/plain": [
       "<IPython.core.display.Markdown object>"
      ]
     },
     "metadata": {},
     "output_type": "display_data"
    },
    {
     "data": {
      "text/markdown": [
       "148: ), Peter Jonas Colletts søster. Collett skrev til <span style='color:red'>henne </span>7. august 1853. skrev jeg fra Klampenborg – da jeg"
      ],
      "text/plain": [
       "<IPython.core.display.Markdown object>"
      ]
     },
     "metadata": {},
     "output_type": "display_data"
    },
    {
     "data": {
      "text/markdown": [
       "174: t mig skyldig i] på et senere tidspunkt rettet av <span style='color:red'>henne </span>selv til 'Den største Uforsigtighed hvori jeg har "
      ],
      "text/plain": [
       "<IPython.core.display.Markdown object>"
      ]
     },
     "metadata": {},
     "output_type": "display_data"
    },
    {
     "data": {
      "text/markdown": [
       "256: 53, var gift med Oscar Wergeland uden Gouvernante <span style='color:red'>henne </span>i en Smaaeby eller værre endnu paa Landet – nei Sm"
      ],
      "text/plain": [
       "<IPython.core.display.Markdown object>"
      ]
     },
     "metadata": {},
     "output_type": "display_data"
    },
    {
     "data": {
      "text/markdown": [
       "276: I Forgaars, Tirsdag vare vi Alle <span style='color:red'>henne </span>og saa «Lord Russell», Munchs nye Tragedie,«Lord R"
      ],
      "text/plain": [
       "<IPython.core.display.Markdown object>"
      ]
     },
     "metadata": {},
     "output_type": "display_data"
    },
    {
     "data": {
      "text/markdown": [
       "469: 1–98), byråsjef, Peter Jonas Colletts bror ligger <span style='color:red'>henne </span>og hvor han agter sig hen"
      ],
      "text/plain": [
       "<IPython.core.display.Markdown object>"
      ]
     },
     "metadata": {},
     "output_type": "display_data"
    },
    {
     "data": {
      "text/markdown": [
       "563:  (1844–1919) og Emil (1848–1904) bodde sammen med <span style='color:red'>henne. </span>I 1862 ga hun Robert og Oscar deres del av arven. "
      ],
      "text/plain": [
       "<IPython.core.display.Markdown object>"
      ]
     },
     "metadata": {},
     "output_type": "display_data"
    },
    {
     "data": {
      "text/markdown": [
       "#### NBkilder_Collett_Brev_til_Ibsen.xml"
      ],
      "text/plain": [
       "<IPython.core.display.Markdown object>"
      ]
     },
     "metadata": {},
     "output_type": "display_data"
    },
    {
     "data": {
      "text/markdown": [
       "88: Ak hvor er De <span style='color:red'>henne! </span>Hvor skal jeg søge Dem! Når Aftenen kommer, tænker"
      ],
      "text/plain": [
       "<IPython.core.display.Markdown object>"
      ]
     },
     "metadata": {},
     "output_type": "display_data"
    },
    {
     "data": {
      "text/markdown": [
       "#### NBkilder_Collett_Skildpadde.xml"
      ],
      "text/plain": [
       "<IPython.core.display.Markdown object>"
      ]
     },
     "metadata": {},
     "output_type": "display_data"
    },
    {
     "data": {
      "text/markdown": [
       "47:  Henrikske Anecdoter som hun vel havde snappet op <span style='color:red'>henne </span>hos ReimersReimers] tysk grossererfamilie (Steinfe"
      ],
      "text/plain": [
       "<IPython.core.display.Markdown object>"
      ]
     },
     "metadata": {},
     "output_type": "display_data"
    },
    {
     "data": {
      "text/markdown": [
       "#### NBkilder_Dardel_Voyage.xml"
      ],
      "text/plain": [
       "<IPython.core.display.Markdown object>"
      ]
     },
     "metadata": {},
     "output_type": "display_data"
    },
    {
     "data": {
      "text/markdown": [
       "405: r det eneste jeg fikk erfare; jeg ankom og forlot <span style='color:red'>hennes </span>bolig på tidspunkter som var for ubeleilige til at"
      ],
      "text/plain": [
       "<IPython.core.display.Markdown object>"
      ]
     },
     "metadata": {},
     "output_type": "display_data"
    },
    {
     "data": {
      "text/markdown": [
       "423: om for 80 spesidaler hadde overlatt sin bolig til <span style='color:red'>henne </span>for natten. Etter middag smøg Bildt og jeg oss beh"
      ],
      "text/plain": [
       "<IPython.core.display.Markdown object>"
      ]
     },
     "metadata": {},
     "output_type": "display_data"
    },
    {
     "data": {
      "text/markdown": [
       "425: et seg til kronprinsessens reisefølge og satt med <span style='color:red'>henne </span>i jernbanevognen. Vi ble tatt imot av byens øvrigh"
      ],
      "text/plain": [
       "<IPython.core.display.Markdown object>"
      ]
     },
     "metadata": {},
     "output_type": "display_data"
    },
    {
     "data": {
      "text/markdown": [
       "430: g, og frukten av en kjærlighetsaffære. Ektemannen <span style='color:red'>hennes </span>er en gammel skravlekopp."
      ],
      "text/plain": [
       "<IPython.core.display.Markdown object>"
      ]
     },
     "metadata": {},
     "output_type": "display_data"
    },
    {
     "data": {
      "text/markdown": [
       "433: til å ta med min hustru og mine barn på besøk til <span style='color:red'>henne, </span>hvilket jeg med glede vil gjøre når de kommer hit,"
      ],
      "text/plain": [
       "<IPython.core.display.Markdown object>"
      ]
     },
     "metadata": {},
     "output_type": "display_data"
    },
    {
     "data": {
      "text/markdown": [
       "439: meddelsom. Jeg kom i skade for å få tjenestepiken <span style='color:red'>hennes </span>til å gå på hodet – den tykke tyske kvinnen snuble"
      ],
      "text/plain": [
       "<IPython.core.display.Markdown object>"
      ]
     },
     "metadata": {},
     "output_type": "display_data"
    },
    {
     "data": {
      "text/markdown": [
       "444: ord var søsteren til løytnant Kjerulf, som fulgte <span style='color:red'>henne </span>til badeanstalten. Denne unge piken har vært lam i"
      ],
      "text/plain": [
       "<IPython.core.display.Markdown object>"
      ]
     },
     "metadata": {},
     "output_type": "display_data"
    },
    {
     "data": {
      "text/markdown": [
       "471: ildt og jeg knivet om å få gleden av å snakke med <span style='color:red'>henne, </span>og han følte seg ikke rent lite smigret da han hør"
      ],
      "text/plain": [
       "<IPython.core.display.Markdown object>"
      ]
     },
     "metadata": {},
     "output_type": "display_data"
    },
    {
     "data": {
      "text/markdown": [
       "476:  en maistang, en beskjeftigelse kronprinsessen og <span style='color:red'>hennes </span>hoffdamer brukte to timer på. Herrene Lövenskjöld,"
      ],
      "text/plain": [
       "<IPython.core.display.Markdown object>"
      ]
     },
     "metadata": {},
     "output_type": "display_data"
    },
    {
     "data": {
      "text/markdown": [
       "477:  bønnfallelser og dels av trusler klarte man å få <span style='color:red'>henne </span>til å trekke tilbake sitt nei, og omsider kom de s"
      ],
      "text/plain": [
       "<IPython.core.display.Markdown object>"
      ]
     },
     "metadata": {},
     "output_type": "display_data"
    },
    {
     "data": {
      "text/markdown": [
       "478: nsessen til Ems, der hun skulle oppholde seg mens <span style='color:red'>hennes </span>gemal foretok sin store norgesreise."
      ],
      "text/plain": [
       "<IPython.core.display.Markdown object>"
      ]
     },
     "metadata": {},
     "output_type": "display_data"
    },
    {
     "data": {
      "text/markdown": [
       "512: nisk tone: «Siden hun stammer fra folket, gir jeg <span style='color:red'>henne </span>bare et armbånd nr. 2», hvorpå han la armbånd nr. "
      ],
      "text/plain": [
       "<IPython.core.display.Markdown object>"
      ]
     },
     "metadata": {},
     "output_type": "display_data"
    },
    {
     "data": {
      "text/markdown": [
       "517: <span style='color:red'>hennes </span>former er tandre, men faste og runde, og når hun s"
      ],
      "text/plain": [
       "<IPython.core.display.Markdown object>"
      ]
     },
     "metadata": {},
     "output_type": "display_data"
    },
    {
     "data": {
      "text/markdown": [
       "518: båten. Hennes to venninner, som var noe eldre enn <span style='color:red'>henne, </span>hadde lyst til det samme, men uttrykte seg på en m"
      ],
      "text/plain": [
       "<IPython.core.display.Markdown object>"
      ]
     },
     "metadata": {},
     "output_type": "display_data"
    },
    {
     "data": {
      "text/markdown": [
       "529: . Herr Hanssen ba om tillatelse til å fotografere <span style='color:red'>henne, </span>men siden kronprinsen skulle legge i vei før solop"
      ],
      "text/plain": [
       "<IPython.core.display.Markdown object>"
      ]
     },
     "metadata": {},
     "output_type": "display_data"
    },
    {
     "data": {
      "text/markdown": [
       "568: Landemarks schäferhatt på plass, smøg armen rundt <span style='color:red'>hennes </span>skuldre, eller Dahll som klemte frøken Jaegers spe"
      ],
      "text/plain": [
       "<IPython.core.display.Markdown object>"
      ]
     },
     "metadata": {},
     "output_type": "display_data"
    },
    {
     "data": {
      "text/markdown": [
       "591: . Hun er en tilårskommen kvinne, men samtalen med <span style='color:red'>henne </span>gjorde at tiden falt mindre lang. Kvinnene fra den"
      ],
      "text/plain": [
       "<IPython.core.display.Markdown object>"
      ]
     },
     "metadata": {},
     "output_type": "display_data"
    },
    {
     "data": {
      "text/markdown": [
       "605:  er syk,» sa han bedrøvet, «neste uke skal jeg ta <span style='color:red'>henne </span>til Sankt Jørgens hospital!»"
      ],
      "text/plain": [
       "<IPython.core.display.Markdown object>"
      ]
     },
     "metadata": {},
     "output_type": "display_data"
    },
    {
     "data": {
      "text/markdown": [
       "619: huset, holdt meg med selskap mens jeg tegnet. Til <span style='color:red'>hennes </span>store glede tok jeg en skisse også av henne. Jeg s"
      ],
      "text/plain": [
       "<IPython.core.display.Markdown object>"
      ]
     },
     "metadata": {},
     "output_type": "display_data"
    },
    {
     "data": {
      "text/markdown": [
       "646: en velstående bonde fra egnen og hadde anholdt om <span style='color:red'>hennes </span>hånd. Etter selv å reist til England for å innhent"
      ],
      "text/plain": [
       "<IPython.core.display.Markdown object>"
      ]
     },
     "metadata": {},
     "output_type": "display_data"
    },
    {
     "data": {
      "text/markdown": [
       "651: n giftet seg med en ung mann på 18. Da jeg spurte <span style='color:red'>henne </span>om hva hun hadde brakt i medgift til ektemannen, s"
      ],
      "text/plain": [
       "<IPython.core.display.Markdown object>"
      ]
     },
     "metadata": {},
     "output_type": "display_data"
    },
    {
     "data": {
      "text/markdown": [
       "655: ze-antrekk: en kvinne med en formidabel parykk og <span style='color:red'>hennes </span>to suksessive ektemenn, som sto på hver sin side a"
      ],
      "text/plain": [
       "<IPython.core.display.Markdown object>"
      ]
     },
     "metadata": {},
     "output_type": "display_data"
    },
    {
     "data": {
      "text/markdown": [
       "660: er, var til stede under måltidet, og det var også <span style='color:red'>hennes </span>mor; førstnevnte var nokså smukk. Etter å ha skrev"
      ],
      "text/plain": [
       "<IPython.core.display.Markdown object>"
      ]
     },
     "metadata": {},
     "output_type": "display_data"
    },
    {
     "data": {
      "text/markdown": [
       "667: lig fiskerhus. Der lå en ung kvinne og spedbarnet <span style='color:red'>hennes </span>til sengs. Vi ble svært velvillig mottatt, og mens"
      ],
      "text/plain": [
       "<IPython.core.display.Markdown object>"
      ]
     },
     "metadata": {},
     "output_type": "display_data"
    },
    {
     "data": {
      "text/markdown": [
       "708:  dager hadde jeg fått en høy stjerne hos fruen og <span style='color:red'>hennes </span>to små, som jeg moret med forskjellige tegninger, "
      ],
      "text/plain": [
       "<IPython.core.display.Markdown object>"
      ]
     },
     "metadata": {},
     "output_type": "display_data"
    },
    {
     "data": {
      "text/markdown": [
       "710:  med uforrettet sak. Den dagen fruen ankom, hadde <span style='color:red'>hennes </span>Georges vært så uheldig å skrape bena kraftig opp "
      ],
      "text/plain": [
       "<IPython.core.display.Markdown object>"
      ]
     },
     "metadata": {},
     "output_type": "display_data"
    },
    {
     "data": {
      "text/markdown": [
       "714: r. Hennes beskrivelse av de strenge vintrene skar <span style='color:red'>hennes </span>far, herr Mørk, i hjertet, og nå og da utbrøt han:"
      ],
      "text/plain": [
       "<IPython.core.display.Markdown object>"
      ]
     },
     "metadata": {},
     "output_type": "display_data"
    },
    {
     "data": {
      "text/markdown": [
       "741:  jeg la siste hånd på portrettene av fru Magda og <span style='color:red'>hennes </span>to sønner, som jeg ga dem som minne."
      ],
      "text/plain": [
       "<IPython.core.display.Markdown object>"
      ]
     },
     "metadata": {},
     "output_type": "display_data"
    },
    {
     "data": {
      "text/markdown": [
       "753: ert flere damer; jeg bød husets frue armen og tok <span style='color:red'>henne </span>med på en vandring langs alleene i hagen hennes. H"
      ],
      "text/plain": [
       "<IPython.core.display.Markdown object>"
      ]
     },
     "metadata": {},
     "output_type": "display_data"
    },
    {
     "data": {
      "text/markdown": [
       "755: u Knutsen, en riktig livlig og vittig ung kvinne, <span style='color:red'>hennes </span>søster frøken de Trampe, vakre frøken Olsen og til"
      ],
      "text/plain": [
       "<IPython.core.display.Markdown object>"
      ]
     },
     "metadata": {},
     "output_type": "display_data"
    },
    {
     "data": {
      "text/markdown": [
       "757: n vals ba jeg fru Knutsen om å få hilse på mannen <span style='color:red'>hennes, </span>en embetsmann med alvorlig mine som hun pekte ut f"
      ],
      "text/plain": [
       "<IPython.core.display.Markdown object>"
      ]
     },
     "metadata": {},
     "output_type": "display_data"
    },
    {
     "data": {
      "text/markdown": [
       "764: stille et øyeblikk før bjørnene galant hadde gitt <span style='color:red'>henne </span>fri passasje ved å gå inn i skogen igjen. Vi stans"
      ],
      "text/plain": [
       "<IPython.core.display.Markdown object>"
      ]
     },
     "metadata": {},
     "output_type": "display_data"
    },
    {
     "data": {
      "text/markdown": [
       "774: edd i en kjole av rosa gas; det vakre, lyse håret <span style='color:red'>hennes </span>var pyntet med ekte fuksiaer i frodige klaser. Hen"
      ],
      "text/plain": [
       "<IPython.core.display.Markdown object>"
      ]
     },
     "metadata": {},
     "output_type": "display_data"
    },
    {
     "data": {
      "text/markdown": [
       "776:  den ære å ta imot armen min da jeg tilbød å føre <span style='color:red'>henne </span>til herr Enevoldsen, for hun skulle også sove der "
      ],
      "text/plain": [
       "<IPython.core.display.Markdown object>"
      ]
     },
     "metadata": {},
     "output_type": "display_data"
    },
    {
     "data": {
      "text/markdown": [
       "#### NBkilder_KKielland_AGarborg_brev.xml"
      ],
      "text/plain": [
       "<IPython.core.display.Markdown object>"
      ]
     },
     "metadata": {},
     "output_type": "display_data"
    },
    {
     "data": {
      "text/markdown": [
       "301: rriet] Harriet Backer (1845–1932), kunstner Spørg <span style='color:red'>henne, </span>om hun vil gjøre mig en liden Skizze af en eller a"
      ],
      "text/plain": [
       "<IPython.core.display.Markdown object>"
      ]
     },
     "metadata": {},
     "output_type": "display_data"
    },
    {
     "data": {
      "text/markdown": [
       "399: ). Han tegnet ulike modeller, så usikkert hvordan <span style='color:red'>hennes </span>så ut. Kilde: Ingrid Blekastad: «Naturalisten Fred"
      ],
      "text/plain": [
       "<IPython.core.display.Markdown object>"
      ]
     },
     "metadata": {},
     "output_type": "display_data"
    },
    {
     "data": {
      "text/markdown": [
       "#### NBkilder_Koren_1805.xml"
      ],
      "text/plain": [
       "<IPython.core.display.Markdown object>"
      ]
     },
     "metadata": {},
     "output_type": "display_data"
    },
    {
     "data": {
      "text/markdown": [
       "41: g for det første kun den lille Madame, da han var <span style='color:red'>henne </span>hos sine Høerivrere, og kom hiem ganske giennemblø"
      ],
      "text/plain": [
       "<IPython.core.display.Markdown object>"
      ]
     },
     "metadata": {},
     "output_type": "display_data"
    },
    {
     "data": {
      "text/markdown": [
       "47: Arme Hertel, arme Brock! hvor de have været <span style='color:red'>henne </span>i det fæle, frygtelige Veir, som her holdt ved i f"
      ],
      "text/plain": [
       "<IPython.core.display.Markdown object>"
      ]
     },
     "metadata": {},
     "output_type": "display_data"
    },
    {
     "data": {
      "text/markdown": [
       "#### NBkilder_Koren_1808.xml"
      ],
      "text/plain": [
       "<IPython.core.display.Markdown object>"
      ]
     },
     "metadata": {},
     "output_type": "display_data"
    },
    {
     "data": {
      "text/markdown": [
       "402: Jeg har nu, Kl 6, været <span style='color:red'>henne </span>og hilset paa min Høy, paa Frue Lotta, det er: hen"
      ],
      "text/plain": [
       "<IPython.core.display.Markdown object>"
      ]
     },
     "metadata": {},
     "output_type": "display_data"
    },
    {
     "data": {
      "text/markdown": [
       "807:  Sara, Jes, Hertel om hans Leye, saae Lyset langt <span style='color:red'>henne </span>i en Krog, kaste sit matte Skin paa de omstaaende "
      ],
      "text/plain": [
       "<IPython.core.display.Markdown object>"
      ]
     },
     "metadata": {},
     "output_type": "display_data"
    },
    {
     "data": {
      "text/markdown": [
       "#### NBkilder_Koren_1809.xml"
      ],
      "text/plain": [
       "<IPython.core.display.Markdown object>"
      ]
     },
     "metadata": {},
     "output_type": "display_data"
    },
    {
     "data": {
      "text/markdown": [
       "29: a reyst i Dag[.] Saa er det da godt, jeg beholder <span style='color:red'>henne </span>saa meget længer[.] Men nu er det ogsaa forbi. Hun"
      ],
      "text/plain": [
       "<IPython.core.display.Markdown object>"
      ]
     },
     "metadata": {},
     "output_type": "display_data"
    },
    {
     "data": {
      "text/markdown": [
       "829: te Føre, og ridende, skiøndt hun alt er saa langt <span style='color:red'>henne </span>i sit Svangerskab, kom nok saa raskt ved Siden af "
      ],
      "text/plain": [
       "<IPython.core.display.Markdown object>"
      ]
     },
     "metadata": {},
     "output_type": "display_data"
    },
    {
     "data": {
      "text/markdown": [
       "929:  kryss eller et kors etter datoen, 9.12.1808 døde <span style='color:red'>hennes </span>datter Sara. – Endnu er min Ring ikke funden, ak, "
      ],
      "text/plain": [
       "<IPython.core.display.Markdown object>"
      ]
     },
     "metadata": {},
     "output_type": "display_data"
    },
    {
     "data": {
      "text/markdown": [
       "#### NBkilder_Koren_1810.xml"
      ],
      "text/plain": [
       "<IPython.core.display.Markdown object>"
      ]
     },
     "metadata": {},
     "output_type": "display_data"
    },
    {
     "data": {
      "text/markdown": [
       "901:  kryss eller et kors etter datoen, 3.11.1808 døde <span style='color:red'>hennes </span>sønn Wilhelm. Neppe, I Elskede, er der Een iblandt"
      ],
      "text/plain": [
       "<IPython.core.display.Markdown object>"
      ]
     },
     "metadata": {},
     "output_type": "display_data"
    },
    {
     "data": {
      "text/markdown": [
       "924: rsomt og godt. Om Eftermiddagen var Hertel og Jes <span style='color:red'>henne </span>at see til den meget syge Mad: Widing, som saa ind"
      ],
      "text/plain": [
       "<IPython.core.display.Markdown object>"
      ]
     },
     "metadata": {},
     "output_type": "display_data"
    },
    {
     "data": {
      "text/markdown": [
       "#### NBkilder_Koren_1811.xml"
      ],
      "text/plain": [
       "<IPython.core.display.Markdown object>"
      ]
     },
     "metadata": {},
     "output_type": "display_data"
    },
    {
     "data": {
      "text/markdown": [
       "165: e jeg holdt mere af Landet end Byen» – Da det var <span style='color:red'>hennes </span>første Samtale med min stille Maja, vidnede det ju"
      ],
      "text/plain": [
       "<IPython.core.display.Markdown object>"
      ]
     },
     "metadata": {},
     "output_type": "display_data"
    },
    {
     "data": {
      "text/markdown": [
       "292:  ham. Scenen var Bakkehuset) – Men da jeg længere <span style='color:red'>henne </span>saae, at lille Syvald endnu ikke var ret rask, loe"
      ],
      "text/plain": [
       "<IPython.core.display.Markdown object>"
      ]
     },
     "metadata": {},
     "output_type": "display_data"
    },
    {
     "data": {
      "text/markdown": [
       "#### NBkilder_Koren_1812.xml"
      ],
      "text/plain": [
       "<IPython.core.display.Markdown object>"
      ]
     },
     "metadata": {},
     "output_type": "display_data"
    },
    {
     "data": {
      "text/markdown": [
       "138: i sit hele Væsen saa galante Tank var ikke allene <span style='color:red'>henne </span>og complimentere Masieur Cappelen (som ikke heller"
      ],
      "text/plain": [
       "<IPython.core.display.Markdown object>"
      ]
     },
     "metadata": {},
     "output_type": "display_data"
    },
    {
     "data": {
      "text/markdown": [
       "299: e vennehulde Lotta; som var dobbelt vennehuldt af <span style='color:red'>henne, </span>da der den følgende Dag – (i Gaar skulde være stor"
      ],
      "text/plain": [
       "<IPython.core.display.Markdown object>"
      ]
     },
     "metadata": {},
     "output_type": "display_data"
    },
    {
     "data": {
      "text/markdown": [
       "381: Min Koren er i Eftermiddag <span style='color:red'>henne </span>og seer til gamle Fader Munthe. Walbohm sagde til "
      ],
      "text/plain": [
       "<IPython.core.display.Markdown object>"
      ]
     },
     "metadata": {},
     "output_type": "display_data"
    },
    {
     "data": {
      "text/markdown": [
       "498: ja mi, og hvor ganske anderledes har jeg sadt hos <span style='color:red'>henne </span>nu end i Aftes ved denne Tiid. Den snurrige Pechel"
      ],
      "text/plain": [
       "<IPython.core.display.Markdown object>"
      ]
     },
     "metadata": {},
     "output_type": "display_data"
    },
    {
     "data": {
      "text/markdown": [
       "533: har faaet malet alt dette i Gaar, men er nu langt <span style='color:red'>henne </span>i Formiddagen"
      ],
      "text/plain": [
       "<IPython.core.display.Markdown object>"
      ]
     },
     "metadata": {},
     "output_type": "display_data"
    },
    {
     "data": {
      "text/markdown": [
       "534: age, skiøndt hun atter er paa gode Veye, og langt <span style='color:red'>henne </span>paa dem. Det var mig dobbelt paafaldende, da Rikke"
      ],
      "text/plain": [
       "<IPython.core.display.Markdown object>"
      ]
     },
     "metadata": {},
     "output_type": "display_data"
    },
    {
     "data": {
      "text/markdown": [
       "#### NBkilder_Koren_1813.xml"
      ],
      "text/plain": [
       "<IPython.core.display.Markdown object>"
      ]
     },
     "metadata": {},
     "output_type": "display_data"
    },
    {
     "data": {
      "text/markdown": [
       "223: deels med Grundtvigs Krønike som jeg alt er langt <span style='color:red'>henne </span>i, nesten ved Reformationen. Ellers skal jeg skriv"
      ],
      "text/plain": [
       "<IPython.core.display.Markdown object>"
      ]
     },
     "metadata": {},
     "output_type": "display_data"
    },
    {
     "data": {
      "text/markdown": [
       "#### NBkilder_Undset_Fragmenter.xml"
      ],
      "text/plain": [
       "<IPython.core.display.Markdown object>"
      ]
     },
     "metadata": {},
     "output_type": "display_data"
    },
    {
     "data": {
      "text/markdown": [
       "107: det er ikke brukt i de andre fragmentene), også i <span style='color:red'>hennes </span>egenhendige trykkmanuskript til Den lykkelige alde"
      ],
      "text/plain": [
       "<IPython.core.display.Markdown object>"
      ]
     },
     "metadata": {},
     "output_type": "display_data"
    },
    {
     "data": {
      "text/markdown": [
       "137: ar skraatak. Og lyset fra lampen paa skrivebordet <span style='color:red'>hennehenne] </span>den andre 'n' rettet fra 'd' ved overskriving ved "
      ],
      "text/plain": [
       "<IPython.core.display.Markdown object>"
      ]
     },
     "metadata": {},
     "output_type": "display_data"
    },
    {
     "data": {
      "text/markdown": [
       "175: Lampen brænder paa skrivebordet <span style='color:red'>henne </span>foran vinduet. Men lyset rækker ikke synderlig lan"
      ],
      "text/plain": [
       "<IPython.core.display.Markdown object>"
      ]
     },
     "metadata": {},
     "output_type": "display_data"
    },
    {
     "data": {
      "text/markdown": [
       "177: Knut blir staaende en stund <span style='color:red'>henne </span>ved sit skrivebord. Han læser det sisste, han har "
      ],
      "text/plain": [
       "<IPython.core.display.Markdown object>"
      ]
     },
     "metadata": {},
     "output_type": "display_data"
    }
   ],
   "source": [
    "for i in konk_regex(\"henne[^ ]* \", kilder_korpus_string, before=50, after=50, colour=\"red\"):\n",
    "    display(Markdown(i))"
   ]
  },
  {
   "cell_type": "code",
   "execution_count": null,
   "metadata": {},
   "outputs": [],
   "source": []
  }
 ],
 "metadata": {
  "kernelspec": {
   "display_name": "Python 3",
   "language": "python",
   "name": "python3"
  },
  "language_info": {
   "codemirror_mode": {
    "name": "ipython",
    "version": 3
   },
   "file_extension": ".py",
   "mimetype": "text/x-python",
   "name": "python",
   "nbconvert_exporter": "python",
   "pygments_lexer": "ipython3",
   "version": "3.7.1"
  }
 },
 "nbformat": 4,
 "nbformat_minor": 2
}
