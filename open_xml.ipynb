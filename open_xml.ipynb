{
 "cells": [
  {
   "cell_type": "markdown",
   "metadata": {},
   "source": [
    "## XML-Struktur\n"
   ]
  },
  {
   "cell_type": "markdown",
   "metadata": {},
   "source": [
    "# Kode og kommandoer\n",
    "\n",
    "Alle de nedenfor skal gi grunnleggende funksjonalitet for å arbeide med materialet. Alt kan knyttes til en webside etter hvert."
   ]
  },
  {
   "cell_type": "code",
   "execution_count": 1,
   "metadata": {},
   "outputs": [],
   "source": [
    "import dhlab.nbtext as nb\n",
    "from dhlab.nbtokenizer import tokenize\n",
    "from collections import Counter\n",
    "import pandas as pd\n",
    "\n",
    "import zipfile\n",
    "from bs4 import BeautifulSoup\n",
    "import sys\n",
    "import zipfile\n",
    "import re\n",
    "from IPython.display import display, Markdown\n",
    "\n",
    "## Korpuset kommer som en zip\n",
    "\n",
    "from corpus import *"
   ]
  },
  {
   "cell_type": "markdown",
   "metadata": {},
   "source": [
    "# Lag kilder\n",
    "\n",
    "Fra en zip-fil lag et korpus som kan brukes av kommandoene over."
   ]
  },
  {
   "cell_type": "code",
   "execution_count": 2,
   "metadata": {},
   "outputs": [],
   "source": [
    "kildezip = \"NBkilder.zip\"\n",
    "\n",
    "kildefiler = get_files_from_zip(kildezip)\n",
    "\n",
    "kilder_korpus = make_corpus(kildezip)\n",
    "\n",
    "kilder_korpus_string = make_corpus(kildezip, extraction= extract_text_as_string)"
   ]
  },
  {
   "cell_type": "markdown",
   "metadata": {},
   "source": [
    "# Dokument/term matrise DTM"
   ]
  },
  {
   "cell_type": "code",
   "execution_count": 3,
   "metadata": {},
   "outputs": [
    {
     "name": "stdout",
     "output_type": "stream",
     "text": [
      "NBkilder_Amundsen_Slededagbok.xml\n",
      "NBkilder_Collett_Brev_1841-51.xml\n",
      "NBkilder_Collett_Brev_1852-63.xml\n",
      "NBkilder_Collett_Brev_til_Bjornson.xml\n",
      "NBkilder_Collett_Brev_til_Ibsen.xml\n",
      "NBkilder_Collett_Brev_til_Lie.xml\n",
      "NBkilder_Collett_Skildpadde.xml\n",
      "NBkilder_Dardel_Voyage.xml\n",
      "NBkilder_Grunnlovskilder1814.xml\n",
      "NBkilder_Kjerulf_1833.xml\n",
      "NBkilder_Kjerulf_1840.xml\n",
      "NBkilder_Kjerulf_1850.xml\n",
      "NBkilder_Kjerulf_1851.xml\n",
      "NBkilder_Kjerulf_1852.xml\n",
      "NBkilder_Kjerulf_1854.xml\n",
      "NBkilder_KKielland_AGarborg_brev.xml\n",
      "NBkilder_KKielland_DSkavlan_brev.xml\n",
      "NBkilder_KKielland_EPeterssen_brev.xml\n",
      "NBkilder_Koren_1798.xml\n",
      "NBkilder_Koren_1802.xml\n",
      "NBkilder_Koren_1805.xml\n",
      "NBkilder_Koren_1808.xml\n",
      "NBkilder_Koren_1809.xml\n",
      "NBkilder_Koren_1810.xml\n",
      "NBkilder_Koren_1811.xml\n",
      "NBkilder_Koren_1812.xml\n",
      "NBkilder_Koren_1813.xml\n",
      "NBkilder_Koren_1814.xml\n",
      "NBkilder_Koren_1815.xml\n",
      "NBkilder_Undset_Fragmenter.xml\n"
     ]
    }
   ],
   "source": [
    "kilder_dtm = make_dtm(kilder_korpus).fillna(0)"
   ]
  },
  {
   "cell_type": "code",
   "execution_count": 4,
   "metadata": {},
   "outputs": [
    {
     "data": {
      "text/plain": [
       "1543132.0"
      ]
     },
     "execution_count": 4,
     "metadata": {},
     "output_type": "execute_result"
    }
   ],
   "source": [
    "kilder_dtm.sum().sum()"
   ]
  },
  {
   "cell_type": "code",
   "execution_count": 5,
   "metadata": {},
   "outputs": [
    {
     "data": {
      "text/html": [
       "<style  type=\"text/css\" >\n",
       "    #T_9f2b80d0_4bfe_11ea_a8b9_0c5415364605row0_col0 {\n",
       "            background-color:  #d2d3e7;\n",
       "            color:  #000000;\n",
       "        }    #T_9f2b80d0_4bfe_11ea_a8b9_0c5415364605row0_col1 {\n",
       "            background-color:  #023858;\n",
       "            color:  #f1f1f1;\n",
       "        }    #T_9f2b80d0_4bfe_11ea_a8b9_0c5415364605row0_col2 {\n",
       "            background-color:  #023858;\n",
       "            color:  #f1f1f1;\n",
       "        }    #T_9f2b80d0_4bfe_11ea_a8b9_0c5415364605row0_col3 {\n",
       "            background-color:  #023858;\n",
       "            color:  #f1f1f1;\n",
       "        }    #T_9f2b80d0_4bfe_11ea_a8b9_0c5415364605row0_col4 {\n",
       "            background-color:  #023858;\n",
       "            color:  #f1f1f1;\n",
       "        }    #T_9f2b80d0_4bfe_11ea_a8b9_0c5415364605row0_col5 {\n",
       "            background-color:  #023858;\n",
       "            color:  #f1f1f1;\n",
       "        }    #T_9f2b80d0_4bfe_11ea_a8b9_0c5415364605row0_col6 {\n",
       "            background-color:  #023858;\n",
       "            color:  #f1f1f1;\n",
       "        }    #T_9f2b80d0_4bfe_11ea_a8b9_0c5415364605row0_col7 {\n",
       "            background-color:  #023858;\n",
       "            color:  #f1f1f1;\n",
       "        }    #T_9f2b80d0_4bfe_11ea_a8b9_0c5415364605row0_col8 {\n",
       "            background-color:  #023858;\n",
       "            color:  #f1f1f1;\n",
       "        }    #T_9f2b80d0_4bfe_11ea_a8b9_0c5415364605row0_col9 {\n",
       "            background-color:  #60a1ca;\n",
       "            color:  #000000;\n",
       "        }    #T_9f2b80d0_4bfe_11ea_a8b9_0c5415364605row0_col10 {\n",
       "            background-color:  #1c7fb8;\n",
       "            color:  #000000;\n",
       "        }    #T_9f2b80d0_4bfe_11ea_a8b9_0c5415364605row0_col11 {\n",
       "            background-color:  #cdd0e5;\n",
       "            color:  #000000;\n",
       "        }    #T_9f2b80d0_4bfe_11ea_a8b9_0c5415364605row0_col12 {\n",
       "            background-color:  #d5d5e8;\n",
       "            color:  #000000;\n",
       "        }    #T_9f2b80d0_4bfe_11ea_a8b9_0c5415364605row0_col13 {\n",
       "            background-color:  #f4edf6;\n",
       "            color:  #000000;\n",
       "        }    #T_9f2b80d0_4bfe_11ea_a8b9_0c5415364605row0_col14 {\n",
       "            background-color:  #e5e1ef;\n",
       "            color:  #000000;\n",
       "        }    #T_9f2b80d0_4bfe_11ea_a8b9_0c5415364605row0_col15 {\n",
       "            background-color:  #023858;\n",
       "            color:  #f1f1f1;\n",
       "        }    #T_9f2b80d0_4bfe_11ea_a8b9_0c5415364605row0_col16 {\n",
       "            background-color:  #023858;\n",
       "            color:  #f1f1f1;\n",
       "        }    #T_9f2b80d0_4bfe_11ea_a8b9_0c5415364605row0_col17 {\n",
       "            background-color:  #023858;\n",
       "            color:  #f1f1f1;\n",
       "        }    #T_9f2b80d0_4bfe_11ea_a8b9_0c5415364605row0_col18 {\n",
       "            background-color:  #023858;\n",
       "            color:  #f1f1f1;\n",
       "        }    #T_9f2b80d0_4bfe_11ea_a8b9_0c5415364605row0_col19 {\n",
       "            background-color:  #023858;\n",
       "            color:  #f1f1f1;\n",
       "        }    #T_9f2b80d0_4bfe_11ea_a8b9_0c5415364605row0_col20 {\n",
       "            background-color:  #023858;\n",
       "            color:  #f1f1f1;\n",
       "        }    #T_9f2b80d0_4bfe_11ea_a8b9_0c5415364605row0_col21 {\n",
       "            background-color:  #023858;\n",
       "            color:  #f1f1f1;\n",
       "        }    #T_9f2b80d0_4bfe_11ea_a8b9_0c5415364605row0_col22 {\n",
       "            background-color:  #023858;\n",
       "            color:  #f1f1f1;\n",
       "        }    #T_9f2b80d0_4bfe_11ea_a8b9_0c5415364605row0_col23 {\n",
       "            background-color:  #023858;\n",
       "            color:  #f1f1f1;\n",
       "        }    #T_9f2b80d0_4bfe_11ea_a8b9_0c5415364605row0_col24 {\n",
       "            background-color:  #023858;\n",
       "            color:  #f1f1f1;\n",
       "        }    #T_9f2b80d0_4bfe_11ea_a8b9_0c5415364605row0_col25 {\n",
       "            background-color:  #023858;\n",
       "            color:  #f1f1f1;\n",
       "        }    #T_9f2b80d0_4bfe_11ea_a8b9_0c5415364605row0_col26 {\n",
       "            background-color:  #023858;\n",
       "            color:  #f1f1f1;\n",
       "        }    #T_9f2b80d0_4bfe_11ea_a8b9_0c5415364605row0_col27 {\n",
       "            background-color:  #023858;\n",
       "            color:  #f1f1f1;\n",
       "        }    #T_9f2b80d0_4bfe_11ea_a8b9_0c5415364605row0_col28 {\n",
       "            background-color:  #023858;\n",
       "            color:  #f1f1f1;\n",
       "        }    #T_9f2b80d0_4bfe_11ea_a8b9_0c5415364605row0_col29 {\n",
       "            background-color:  #023858;\n",
       "            color:  #f1f1f1;\n",
       "        }    #T_9f2b80d0_4bfe_11ea_a8b9_0c5415364605row1_col0 {\n",
       "            background-color:  #f8f1f8;\n",
       "            color:  #000000;\n",
       "        }    #T_9f2b80d0_4bfe_11ea_a8b9_0c5415364605row1_col1 {\n",
       "            background-color:  #6ba5cd;\n",
       "            color:  #000000;\n",
       "        }    #T_9f2b80d0_4bfe_11ea_a8b9_0c5415364605row1_col2 {\n",
       "            background-color:  #81aed2;\n",
       "            color:  #000000;\n",
       "        }    #T_9f2b80d0_4bfe_11ea_a8b9_0c5415364605row1_col3 {\n",
       "            background-color:  #b1c2de;\n",
       "            color:  #000000;\n",
       "        }    #T_9f2b80d0_4bfe_11ea_a8b9_0c5415364605row1_col4 {\n",
       "            background-color:  #adc1dd;\n",
       "            color:  #000000;\n",
       "        }    #T_9f2b80d0_4bfe_11ea_a8b9_0c5415364605row1_col5 {\n",
       "            background-color:  #bcc7e1;\n",
       "            color:  #000000;\n",
       "        }    #T_9f2b80d0_4bfe_11ea_a8b9_0c5415364605row1_col6 {\n",
       "            background-color:  #4295c3;\n",
       "            color:  #000000;\n",
       "        }    #T_9f2b80d0_4bfe_11ea_a8b9_0c5415364605row1_col7 {\n",
       "            background-color:  #b5c4df;\n",
       "            color:  #000000;\n",
       "        }    #T_9f2b80d0_4bfe_11ea_a8b9_0c5415364605row1_col8 {\n",
       "            background-color:  #4e9ac6;\n",
       "            color:  #000000;\n",
       "        }    #T_9f2b80d0_4bfe_11ea_a8b9_0c5415364605row1_col9 {\n",
       "            background-color:  #d9d8ea;\n",
       "            color:  #000000;\n",
       "        }    #T_9f2b80d0_4bfe_11ea_a8b9_0c5415364605row1_col10 {\n",
       "            background-color:  #023858;\n",
       "            color:  #f1f1f1;\n",
       "        }    #T_9f2b80d0_4bfe_11ea_a8b9_0c5415364605row1_col11 {\n",
       "            background-color:  #a5bddb;\n",
       "            color:  #000000;\n",
       "        }    #T_9f2b80d0_4bfe_11ea_a8b9_0c5415364605row1_col12 {\n",
       "            background-color:  #a7bddb;\n",
       "            color:  #000000;\n",
       "        }    #T_9f2b80d0_4bfe_11ea_a8b9_0c5415364605row1_col13 {\n",
       "            background-color:  #e7e3f0;\n",
       "            color:  #000000;\n",
       "        }    #T_9f2b80d0_4bfe_11ea_a8b9_0c5415364605row1_col14 {\n",
       "            background-color:  #a1bbda;\n",
       "            color:  #000000;\n",
       "        }    #T_9f2b80d0_4bfe_11ea_a8b9_0c5415364605row1_col15 {\n",
       "            background-color:  #c4cbe3;\n",
       "            color:  #000000;\n",
       "        }    #T_9f2b80d0_4bfe_11ea_a8b9_0c5415364605row1_col16 {\n",
       "            background-color:  #bcc7e1;\n",
       "            color:  #000000;\n",
       "        }    #T_9f2b80d0_4bfe_11ea_a8b9_0c5415364605row1_col17 {\n",
       "            background-color:  #cdd0e5;\n",
       "            color:  #000000;\n",
       "        }    #T_9f2b80d0_4bfe_11ea_a8b9_0c5415364605row1_col18 {\n",
       "            background-color:  #8fb4d6;\n",
       "            color:  #000000;\n",
       "        }    #T_9f2b80d0_4bfe_11ea_a8b9_0c5415364605row1_col19 {\n",
       "            background-color:  #bdc8e1;\n",
       "            color:  #000000;\n",
       "        }    #T_9f2b80d0_4bfe_11ea_a8b9_0c5415364605row1_col20 {\n",
       "            background-color:  #afc1dd;\n",
       "            color:  #000000;\n",
       "        }    #T_9f2b80d0_4bfe_11ea_a8b9_0c5415364605row1_col21 {\n",
       "            background-color:  #b1c2de;\n",
       "            color:  #000000;\n",
       "        }    #T_9f2b80d0_4bfe_11ea_a8b9_0c5415364605row1_col22 {\n",
       "            background-color:  #a5bddb;\n",
       "            color:  #000000;\n",
       "        }    #T_9f2b80d0_4bfe_11ea_a8b9_0c5415364605row1_col23 {\n",
       "            background-color:  #99b8d8;\n",
       "            color:  #000000;\n",
       "        }    #T_9f2b80d0_4bfe_11ea_a8b9_0c5415364605row1_col24 {\n",
       "            background-color:  #86b0d3;\n",
       "            color:  #000000;\n",
       "        }    #T_9f2b80d0_4bfe_11ea_a8b9_0c5415364605row1_col25 {\n",
       "            background-color:  #93b5d6;\n",
       "            color:  #000000;\n",
       "        }    #T_9f2b80d0_4bfe_11ea_a8b9_0c5415364605row1_col26 {\n",
       "            background-color:  #8eb3d5;\n",
       "            color:  #000000;\n",
       "        }    #T_9f2b80d0_4bfe_11ea_a8b9_0c5415364605row1_col27 {\n",
       "            background-color:  #adc1dd;\n",
       "            color:  #000000;\n",
       "        }    #T_9f2b80d0_4bfe_11ea_a8b9_0c5415364605row1_col28 {\n",
       "            background-color:  #abbfdc;\n",
       "            color:  #000000;\n",
       "        }    #T_9f2b80d0_4bfe_11ea_a8b9_0c5415364605row1_col29 {\n",
       "            background-color:  #62a2cb;\n",
       "            color:  #000000;\n",
       "        }    #T_9f2b80d0_4bfe_11ea_a8b9_0c5415364605row2_col0 {\n",
       "            background-color:  #023858;\n",
       "            color:  #f1f1f1;\n",
       "        }    #T_9f2b80d0_4bfe_11ea_a8b9_0c5415364605row2_col1 {\n",
       "            background-color:  #0568a3;\n",
       "            color:  #f1f1f1;\n",
       "        }    #T_9f2b80d0_4bfe_11ea_a8b9_0c5415364605row2_col2 {\n",
       "            background-color:  #3991c1;\n",
       "            color:  #000000;\n",
       "        }    #T_9f2b80d0_4bfe_11ea_a8b9_0c5415364605row2_col3 {\n",
       "            background-color:  #1b7eb7;\n",
       "            color:  #000000;\n",
       "        }    #T_9f2b80d0_4bfe_11ea_a8b9_0c5415364605row2_col4 {\n",
       "            background-color:  #0f76b3;\n",
       "            color:  #f1f1f1;\n",
       "        }    #T_9f2b80d0_4bfe_11ea_a8b9_0c5415364605row2_col5 {\n",
       "            background-color:  #348ebf;\n",
       "            color:  #000000;\n",
       "        }    #T_9f2b80d0_4bfe_11ea_a8b9_0c5415364605row2_col6 {\n",
       "            background-color:  #348ebf;\n",
       "            color:  #000000;\n",
       "        }    #T_9f2b80d0_4bfe_11ea_a8b9_0c5415364605row2_col7 {\n",
       "            background-color:  #167bb6;\n",
       "            color:  #000000;\n",
       "        }    #T_9f2b80d0_4bfe_11ea_a8b9_0c5415364605row2_col8 {\n",
       "            background-color:  #023b5d;\n",
       "            color:  #f1f1f1;\n",
       "        }    #T_9f2b80d0_4bfe_11ea_a8b9_0c5415364605row2_col9 {\n",
       "            background-color:  #023858;\n",
       "            color:  #f1f1f1;\n",
       "        }    #T_9f2b80d0_4bfe_11ea_a8b9_0c5415364605row2_col10 {\n",
       "            background-color:  #0570b0;\n",
       "            color:  #f1f1f1;\n",
       "        }    #T_9f2b80d0_4bfe_11ea_a8b9_0c5415364605row2_col11 {\n",
       "            background-color:  #023858;\n",
       "            color:  #f1f1f1;\n",
       "        }    #T_9f2b80d0_4bfe_11ea_a8b9_0c5415364605row2_col12 {\n",
       "            background-color:  #023858;\n",
       "            color:  #f1f1f1;\n",
       "        }    #T_9f2b80d0_4bfe_11ea_a8b9_0c5415364605row2_col13 {\n",
       "            background-color:  #023858;\n",
       "            color:  #f1f1f1;\n",
       "        }    #T_9f2b80d0_4bfe_11ea_a8b9_0c5415364605row2_col14 {\n",
       "            background-color:  #023858;\n",
       "            color:  #f1f1f1;\n",
       "        }    #T_9f2b80d0_4bfe_11ea_a8b9_0c5415364605row2_col15 {\n",
       "            background-color:  #5a9ec9;\n",
       "            color:  #000000;\n",
       "        }    #T_9f2b80d0_4bfe_11ea_a8b9_0c5415364605row2_col16 {\n",
       "            background-color:  #71a8ce;\n",
       "            color:  #000000;\n",
       "        }    #T_9f2b80d0_4bfe_11ea_a8b9_0c5415364605row2_col17 {\n",
       "            background-color:  #6da6cd;\n",
       "            color:  #000000;\n",
       "        }    #T_9f2b80d0_4bfe_11ea_a8b9_0c5415364605row2_col18 {\n",
       "            background-color:  #8cb3d5;\n",
       "            color:  #000000;\n",
       "        }    #T_9f2b80d0_4bfe_11ea_a8b9_0c5415364605row2_col19 {\n",
       "            background-color:  #a5bddb;\n",
       "            color:  #000000;\n",
       "        }    #T_9f2b80d0_4bfe_11ea_a8b9_0c5415364605row2_col20 {\n",
       "            background-color:  #b1c2de;\n",
       "            color:  #000000;\n",
       "        }    #T_9f2b80d0_4bfe_11ea_a8b9_0c5415364605row2_col21 {\n",
       "            background-color:  #a8bedc;\n",
       "            color:  #000000;\n",
       "        }    #T_9f2b80d0_4bfe_11ea_a8b9_0c5415364605row2_col22 {\n",
       "            background-color:  #b3c3de;\n",
       "            color:  #000000;\n",
       "        }    #T_9f2b80d0_4bfe_11ea_a8b9_0c5415364605row2_col23 {\n",
       "            background-color:  #9cb9d9;\n",
       "            color:  #000000;\n",
       "        }    #T_9f2b80d0_4bfe_11ea_a8b9_0c5415364605row2_col24 {\n",
       "            background-color:  #adc1dd;\n",
       "            color:  #000000;\n",
       "        }    #T_9f2b80d0_4bfe_11ea_a8b9_0c5415364605row2_col25 {\n",
       "            background-color:  #a9bfdc;\n",
       "            color:  #000000;\n",
       "        }    #T_9f2b80d0_4bfe_11ea_a8b9_0c5415364605row2_col26 {\n",
       "            background-color:  #93b5d6;\n",
       "            color:  #000000;\n",
       "        }    #T_9f2b80d0_4bfe_11ea_a8b9_0c5415364605row2_col27 {\n",
       "            background-color:  #94b6d7;\n",
       "            color:  #000000;\n",
       "        }    #T_9f2b80d0_4bfe_11ea_a8b9_0c5415364605row2_col28 {\n",
       "            background-color:  #c5cce3;\n",
       "            color:  #000000;\n",
       "        }    #T_9f2b80d0_4bfe_11ea_a8b9_0c5415364605row2_col29 {\n",
       "            background-color:  #056ead;\n",
       "            color:  #f1f1f1;\n",
       "        }    #T_9f2b80d0_4bfe_11ea_a8b9_0c5415364605row3_col0 {\n",
       "            background-color:  #fff7fb;\n",
       "            color:  #000000;\n",
       "        }    #T_9f2b80d0_4bfe_11ea_a8b9_0c5415364605row3_col1 {\n",
       "            background-color:  #6da6cd;\n",
       "            color:  #000000;\n",
       "        }    #T_9f2b80d0_4bfe_11ea_a8b9_0c5415364605row3_col2 {\n",
       "            background-color:  #a4bcda;\n",
       "            color:  #000000;\n",
       "        }    #T_9f2b80d0_4bfe_11ea_a8b9_0c5415364605row3_col3 {\n",
       "            background-color:  #7eadd1;\n",
       "            color:  #000000;\n",
       "        }    #T_9f2b80d0_4bfe_11ea_a8b9_0c5415364605row3_col4 {\n",
       "            background-color:  #96b6d7;\n",
       "            color:  #000000;\n",
       "        }    #T_9f2b80d0_4bfe_11ea_a8b9_0c5415364605row3_col5 {\n",
       "            background-color:  #b4c4df;\n",
       "            color:  #000000;\n",
       "        }    #T_9f2b80d0_4bfe_11ea_a8b9_0c5415364605row3_col6 {\n",
       "            background-color:  #80aed2;\n",
       "            color:  #000000;\n",
       "        }    #T_9f2b80d0_4bfe_11ea_a8b9_0c5415364605row3_col7 {\n",
       "            background-color:  #f6eff7;\n",
       "            color:  #000000;\n",
       "        }    #T_9f2b80d0_4bfe_11ea_a8b9_0c5415364605row3_col8 {\n",
       "            background-color:  #fff7fb;\n",
       "            color:  #000000;\n",
       "        }    #T_9f2b80d0_4bfe_11ea_a8b9_0c5415364605row3_col9 {\n",
       "            background-color:  #fbf4f9;\n",
       "            color:  #000000;\n",
       "        }    #T_9f2b80d0_4bfe_11ea_a8b9_0c5415364605row3_col10 {\n",
       "            background-color:  #b1c2de;\n",
       "            color:  #000000;\n",
       "        }    #T_9f2b80d0_4bfe_11ea_a8b9_0c5415364605row3_col11 {\n",
       "            background-color:  #f9f2f8;\n",
       "            color:  #000000;\n",
       "        }    #T_9f2b80d0_4bfe_11ea_a8b9_0c5415364605row3_col12 {\n",
       "            background-color:  #f7f0f7;\n",
       "            color:  #000000;\n",
       "        }    #T_9f2b80d0_4bfe_11ea_a8b9_0c5415364605row3_col13 {\n",
       "            background-color:  #fef6fa;\n",
       "            color:  #000000;\n",
       "        }    #T_9f2b80d0_4bfe_11ea_a8b9_0c5415364605row3_col14 {\n",
       "            background-color:  #f8f1f8;\n",
       "            color:  #000000;\n",
       "        }    #T_9f2b80d0_4bfe_11ea_a8b9_0c5415364605row3_col15 {\n",
       "            background-color:  #afc1dd;\n",
       "            color:  #000000;\n",
       "        }    #T_9f2b80d0_4bfe_11ea_a8b9_0c5415364605row3_col16 {\n",
       "            background-color:  #d3d4e7;\n",
       "            color:  #000000;\n",
       "        }    #T_9f2b80d0_4bfe_11ea_a8b9_0c5415364605row3_col17 {\n",
       "            background-color:  #c8cde4;\n",
       "            color:  #000000;\n",
       "        }    #T_9f2b80d0_4bfe_11ea_a8b9_0c5415364605row3_col18 {\n",
       "            background-color:  #fff7fb;\n",
       "            color:  #000000;\n",
       "        }    #T_9f2b80d0_4bfe_11ea_a8b9_0c5415364605row3_col19 {\n",
       "            background-color:  #cccfe5;\n",
       "            color:  #000000;\n",
       "        }    #T_9f2b80d0_4bfe_11ea_a8b9_0c5415364605row3_col20 {\n",
       "            background-color:  #ede7f2;\n",
       "            color:  #000000;\n",
       "        }    #T_9f2b80d0_4bfe_11ea_a8b9_0c5415364605row3_col21 {\n",
       "            background-color:  #e0deed;\n",
       "            color:  #000000;\n",
       "        }    #T_9f2b80d0_4bfe_11ea_a8b9_0c5415364605row3_col22 {\n",
       "            background-color:  #e0dded;\n",
       "            color:  #000000;\n",
       "        }    #T_9f2b80d0_4bfe_11ea_a8b9_0c5415364605row3_col23 {\n",
       "            background-color:  #d9d8ea;\n",
       "            color:  #000000;\n",
       "        }    #T_9f2b80d0_4bfe_11ea_a8b9_0c5415364605row3_col24 {\n",
       "            background-color:  #d1d2e6;\n",
       "            color:  #000000;\n",
       "        }    #T_9f2b80d0_4bfe_11ea_a8b9_0c5415364605row3_col25 {\n",
       "            background-color:  #d3d4e7;\n",
       "            color:  #000000;\n",
       "        }    #T_9f2b80d0_4bfe_11ea_a8b9_0c5415364605row3_col26 {\n",
       "            background-color:  #d2d3e7;\n",
       "            color:  #000000;\n",
       "        }    #T_9f2b80d0_4bfe_11ea_a8b9_0c5415364605row3_col27 {\n",
       "            background-color:  #dedcec;\n",
       "            color:  #000000;\n",
       "        }    #T_9f2b80d0_4bfe_11ea_a8b9_0c5415364605row3_col28 {\n",
       "            background-color:  #d3d4e7;\n",
       "            color:  #000000;\n",
       "        }    #T_9f2b80d0_4bfe_11ea_a8b9_0c5415364605row3_col29 {\n",
       "            background-color:  #d5d5e8;\n",
       "            color:  #000000;\n",
       "        }    #T_9f2b80d0_4bfe_11ea_a8b9_0c5415364605row4_col0 {\n",
       "            background-color:  #fbf3f9;\n",
       "            color:  #000000;\n",
       "        }    #T_9f2b80d0_4bfe_11ea_a8b9_0c5415364605row4_col1 {\n",
       "            background-color:  #97b7d7;\n",
       "            color:  #000000;\n",
       "        }    #T_9f2b80d0_4bfe_11ea_a8b9_0c5415364605row4_col2 {\n",
       "            background-color:  #adc1dd;\n",
       "            color:  #000000;\n",
       "        }    #T_9f2b80d0_4bfe_11ea_a8b9_0c5415364605row4_col3 {\n",
       "            background-color:  #6ba5cd;\n",
       "            color:  #000000;\n",
       "        }    #T_9f2b80d0_4bfe_11ea_a8b9_0c5415364605row4_col4 {\n",
       "            background-color:  #a4bcda;\n",
       "            color:  #000000;\n",
       "        }    #T_9f2b80d0_4bfe_11ea_a8b9_0c5415364605row4_col5 {\n",
       "            background-color:  #b7c5df;\n",
       "            color:  #000000;\n",
       "        }    #T_9f2b80d0_4bfe_11ea_a8b9_0c5415364605row4_col6 {\n",
       "            background-color:  #7dacd1;\n",
       "            color:  #000000;\n",
       "        }    #T_9f2b80d0_4bfe_11ea_a8b9_0c5415364605row4_col7 {\n",
       "            background-color:  #f7f0f7;\n",
       "            color:  #000000;\n",
       "        }    #T_9f2b80d0_4bfe_11ea_a8b9_0c5415364605row4_col8 {\n",
       "            background-color:  #c4cbe3;\n",
       "            color:  #000000;\n",
       "        }    #T_9f2b80d0_4bfe_11ea_a8b9_0c5415364605row4_col9 {\n",
       "            background-color:  #f1ebf4;\n",
       "            color:  #000000;\n",
       "        }    #T_9f2b80d0_4bfe_11ea_a8b9_0c5415364605row4_col10 {\n",
       "            background-color:  #dad9ea;\n",
       "            color:  #000000;\n",
       "        }    #T_9f2b80d0_4bfe_11ea_a8b9_0c5415364605row4_col11 {\n",
       "            background-color:  #f4edf6;\n",
       "            color:  #000000;\n",
       "        }    #T_9f2b80d0_4bfe_11ea_a8b9_0c5415364605row4_col12 {\n",
       "            background-color:  #f2ecf5;\n",
       "            color:  #000000;\n",
       "        }    #T_9f2b80d0_4bfe_11ea_a8b9_0c5415364605row4_col13 {\n",
       "            background-color:  #fdf5fa;\n",
       "            color:  #000000;\n",
       "        }    #T_9f2b80d0_4bfe_11ea_a8b9_0c5415364605row4_col14 {\n",
       "            background-color:  #e7e3f0;\n",
       "            color:  #000000;\n",
       "        }    #T_9f2b80d0_4bfe_11ea_a8b9_0c5415364605row4_col15 {\n",
       "            background-color:  #b4c4df;\n",
       "            color:  #000000;\n",
       "        }    #T_9f2b80d0_4bfe_11ea_a8b9_0c5415364605row4_col16 {\n",
       "            background-color:  #d6d6e9;\n",
       "            color:  #000000;\n",
       "        }    #T_9f2b80d0_4bfe_11ea_a8b9_0c5415364605row4_col17 {\n",
       "            background-color:  #c5cce3;\n",
       "            color:  #000000;\n",
       "        }    #T_9f2b80d0_4bfe_11ea_a8b9_0c5415364605row4_col18 {\n",
       "            background-color:  #ced0e6;\n",
       "            color:  #000000;\n",
       "        }    #T_9f2b80d0_4bfe_11ea_a8b9_0c5415364605row4_col19 {\n",
       "            background-color:  #e7e3f0;\n",
       "            color:  #000000;\n",
       "        }    #T_9f2b80d0_4bfe_11ea_a8b9_0c5415364605row4_col20 {\n",
       "            background-color:  #eae6f1;\n",
       "            color:  #000000;\n",
       "        }    #T_9f2b80d0_4bfe_11ea_a8b9_0c5415364605row4_col21 {\n",
       "            background-color:  #e7e3f0;\n",
       "            color:  #000000;\n",
       "        }    #T_9f2b80d0_4bfe_11ea_a8b9_0c5415364605row4_col22 {\n",
       "            background-color:  #eae6f1;\n",
       "            color:  #000000;\n",
       "        }    #T_9f2b80d0_4bfe_11ea_a8b9_0c5415364605row4_col23 {\n",
       "            background-color:  #e5e1ef;\n",
       "            color:  #000000;\n",
       "        }    #T_9f2b80d0_4bfe_11ea_a8b9_0c5415364605row4_col24 {\n",
       "            background-color:  #e2dfee;\n",
       "            color:  #000000;\n",
       "        }    #T_9f2b80d0_4bfe_11ea_a8b9_0c5415364605row4_col25 {\n",
       "            background-color:  #e1dfed;\n",
       "            color:  #000000;\n",
       "        }    #T_9f2b80d0_4bfe_11ea_a8b9_0c5415364605row4_col26 {\n",
       "            background-color:  #e1dfed;\n",
       "            color:  #000000;\n",
       "        }    #T_9f2b80d0_4bfe_11ea_a8b9_0c5415364605row4_col27 {\n",
       "            background-color:  #e5e1ef;\n",
       "            color:  #000000;\n",
       "        }    #T_9f2b80d0_4bfe_11ea_a8b9_0c5415364605row4_col28 {\n",
       "            background-color:  #e4e1ef;\n",
       "            color:  #000000;\n",
       "        }    #T_9f2b80d0_4bfe_11ea_a8b9_0c5415364605row4_col29 {\n",
       "            background-color:  #dfddec;\n",
       "            color:  #000000;\n",
       "        }    #T_9f2b80d0_4bfe_11ea_a8b9_0c5415364605row5_col0 {\n",
       "            background-color:  #fbf3f9;\n",
       "            color:  #000000;\n",
       "        }    #T_9f2b80d0_4bfe_11ea_a8b9_0c5415364605row5_col1 {\n",
       "            background-color:  #b5c4df;\n",
       "            color:  #000000;\n",
       "        }    #T_9f2b80d0_4bfe_11ea_a8b9_0c5415364605row5_col2 {\n",
       "            background-color:  #cacee5;\n",
       "            color:  #000000;\n",
       "        }    #T_9f2b80d0_4bfe_11ea_a8b9_0c5415364605row5_col3 {\n",
       "            background-color:  #d2d2e7;\n",
       "            color:  #000000;\n",
       "        }    #T_9f2b80d0_4bfe_11ea_a8b9_0c5415364605row5_col4 {\n",
       "            background-color:  #c0c9e2;\n",
       "            color:  #000000;\n",
       "        }    #T_9f2b80d0_4bfe_11ea_a8b9_0c5415364605row5_col5 {\n",
       "            background-color:  #bbc7e0;\n",
       "            color:  #000000;\n",
       "        }    #T_9f2b80d0_4bfe_11ea_a8b9_0c5415364605row5_col6 {\n",
       "            background-color:  #b5c4df;\n",
       "            color:  #000000;\n",
       "        }    #T_9f2b80d0_4bfe_11ea_a8b9_0c5415364605row5_col7 {\n",
       "            background-color:  #f3edf5;\n",
       "            color:  #000000;\n",
       "        }    #T_9f2b80d0_4bfe_11ea_a8b9_0c5415364605row5_col8 {\n",
       "            background-color:  #ece7f2;\n",
       "            color:  #000000;\n",
       "        }    #T_9f2b80d0_4bfe_11ea_a8b9_0c5415364605row5_col9 {\n",
       "            background-color:  #f8f1f8;\n",
       "            color:  #000000;\n",
       "        }    #T_9f2b80d0_4bfe_11ea_a8b9_0c5415364605row5_col10 {\n",
       "            background-color:  #cdd0e5;\n",
       "            color:  #000000;\n",
       "        }    #T_9f2b80d0_4bfe_11ea_a8b9_0c5415364605row5_col11 {\n",
       "            background-color:  #f2ecf5;\n",
       "            color:  #000000;\n",
       "        }    #T_9f2b80d0_4bfe_11ea_a8b9_0c5415364605row5_col12 {\n",
       "            background-color:  #f4edf6;\n",
       "            color:  #000000;\n",
       "        }    #T_9f2b80d0_4bfe_11ea_a8b9_0c5415364605row5_col13 {\n",
       "            background-color:  #fdf5fa;\n",
       "            color:  #000000;\n",
       "        }    #T_9f2b80d0_4bfe_11ea_a8b9_0c5415364605row5_col14 {\n",
       "            background-color:  #f3edf5;\n",
       "            color:  #000000;\n",
       "        }    #T_9f2b80d0_4bfe_11ea_a8b9_0c5415364605row5_col15 {\n",
       "            background-color:  #b9c6e0;\n",
       "            color:  #000000;\n",
       "        }    #T_9f2b80d0_4bfe_11ea_a8b9_0c5415364605row5_col16 {\n",
       "            background-color:  #ced0e6;\n",
       "            color:  #000000;\n",
       "        }    #T_9f2b80d0_4bfe_11ea_a8b9_0c5415364605row5_col17 {\n",
       "            background-color:  #c8cde4;\n",
       "            color:  #000000;\n",
       "        }    #T_9f2b80d0_4bfe_11ea_a8b9_0c5415364605row5_col18 {\n",
       "            background-color:  #e1dfed;\n",
       "            color:  #000000;\n",
       "        }    #T_9f2b80d0_4bfe_11ea_a8b9_0c5415364605row5_col19 {\n",
       "            background-color:  #e0deed;\n",
       "            color:  #000000;\n",
       "        }    #T_9f2b80d0_4bfe_11ea_a8b9_0c5415364605row5_col20 {\n",
       "            background-color:  #e7e3f0;\n",
       "            color:  #000000;\n",
       "        }    #T_9f2b80d0_4bfe_11ea_a8b9_0c5415364605row5_col21 {\n",
       "            background-color:  #dfddec;\n",
       "            color:  #000000;\n",
       "        }    #T_9f2b80d0_4bfe_11ea_a8b9_0c5415364605row5_col22 {\n",
       "            background-color:  #e0dded;\n",
       "            color:  #000000;\n",
       "        }    #T_9f2b80d0_4bfe_11ea_a8b9_0c5415364605row5_col23 {\n",
       "            background-color:  #d9d8ea;\n",
       "            color:  #000000;\n",
       "        }    #T_9f2b80d0_4bfe_11ea_a8b9_0c5415364605row5_col24 {\n",
       "            background-color:  #d7d6e9;\n",
       "            color:  #000000;\n",
       "        }    #T_9f2b80d0_4bfe_11ea_a8b9_0c5415364605row5_col25 {\n",
       "            background-color:  #d9d8ea;\n",
       "            color:  #000000;\n",
       "        }    #T_9f2b80d0_4bfe_11ea_a8b9_0c5415364605row5_col26 {\n",
       "            background-color:  #dad9ea;\n",
       "            color:  #000000;\n",
       "        }    #T_9f2b80d0_4bfe_11ea_a8b9_0c5415364605row5_col27 {\n",
       "            background-color:  #dbdaeb;\n",
       "            color:  #000000;\n",
       "        }    #T_9f2b80d0_4bfe_11ea_a8b9_0c5415364605row5_col28 {\n",
       "            background-color:  #e4e1ef;\n",
       "            color:  #000000;\n",
       "        }    #T_9f2b80d0_4bfe_11ea_a8b9_0c5415364605row5_col29 {\n",
       "            background-color:  #c2cbe2;\n",
       "            color:  #000000;\n",
       "        }    #T_9f2b80d0_4bfe_11ea_a8b9_0c5415364605row6_col0 {\n",
       "            background-color:  #d8d7e9;\n",
       "            color:  #000000;\n",
       "        }    #T_9f2b80d0_4bfe_11ea_a8b9_0c5415364605row6_col1 {\n",
       "            background-color:  #c0c9e2;\n",
       "            color:  #000000;\n",
       "        }    #T_9f2b80d0_4bfe_11ea_a8b9_0c5415364605row6_col2 {\n",
       "            background-color:  #cccfe5;\n",
       "            color:  #000000;\n",
       "        }    #T_9f2b80d0_4bfe_11ea_a8b9_0c5415364605row6_col3 {\n",
       "            background-color:  #c9cee4;\n",
       "            color:  #000000;\n",
       "        }    #T_9f2b80d0_4bfe_11ea_a8b9_0c5415364605row6_col4 {\n",
       "            background-color:  #b8c6e0;\n",
       "            color:  #000000;\n",
       "        }    #T_9f2b80d0_4bfe_11ea_a8b9_0c5415364605row6_col5 {\n",
       "            background-color:  #acc0dd;\n",
       "            color:  #000000;\n",
       "        }    #T_9f2b80d0_4bfe_11ea_a8b9_0c5415364605row6_col6 {\n",
       "            background-color:  #a9bfdc;\n",
       "            color:  #000000;\n",
       "        }    #T_9f2b80d0_4bfe_11ea_a8b9_0c5415364605row6_col7 {\n",
       "            background-color:  #d5d5e8;\n",
       "            color:  #000000;\n",
       "        }    #T_9f2b80d0_4bfe_11ea_a8b9_0c5415364605row6_col8 {\n",
       "            background-color:  #79abd0;\n",
       "            color:  #000000;\n",
       "        }    #T_9f2b80d0_4bfe_11ea_a8b9_0c5415364605row6_col9 {\n",
       "            background-color:  #eee8f3;\n",
       "            color:  #000000;\n",
       "        }    #T_9f2b80d0_4bfe_11ea_a8b9_0c5415364605row6_col10 {\n",
       "            background-color:  #7dacd1;\n",
       "            color:  #000000;\n",
       "        }    #T_9f2b80d0_4bfe_11ea_a8b9_0c5415364605row6_col11 {\n",
       "            background-color:  #d8d7e9;\n",
       "            color:  #000000;\n",
       "        }    #T_9f2b80d0_4bfe_11ea_a8b9_0c5415364605row6_col12 {\n",
       "            background-color:  #d9d8ea;\n",
       "            color:  #000000;\n",
       "        }    #T_9f2b80d0_4bfe_11ea_a8b9_0c5415364605row6_col13 {\n",
       "            background-color:  #f4eef6;\n",
       "            color:  #000000;\n",
       "        }    #T_9f2b80d0_4bfe_11ea_a8b9_0c5415364605row6_col14 {\n",
       "            background-color:  #d3d4e7;\n",
       "            color:  #000000;\n",
       "        }    #T_9f2b80d0_4bfe_11ea_a8b9_0c5415364605row6_col15 {\n",
       "            background-color:  #d8d7e9;\n",
       "            color:  #000000;\n",
       "        }    #T_9f2b80d0_4bfe_11ea_a8b9_0c5415364605row6_col16 {\n",
       "            background-color:  #eae6f1;\n",
       "            color:  #000000;\n",
       "        }    #T_9f2b80d0_4bfe_11ea_a8b9_0c5415364605row6_col17 {\n",
       "            background-color:  #e1dfed;\n",
       "            color:  #000000;\n",
       "        }    #T_9f2b80d0_4bfe_11ea_a8b9_0c5415364605row6_col18 {\n",
       "            background-color:  #dcdaeb;\n",
       "            color:  #000000;\n",
       "        }    #T_9f2b80d0_4bfe_11ea_a8b9_0c5415364605row6_col19 {\n",
       "            background-color:  #dcdaeb;\n",
       "            color:  #000000;\n",
       "        }    #T_9f2b80d0_4bfe_11ea_a8b9_0c5415364605row6_col20 {\n",
       "            background-color:  #dbdaeb;\n",
       "            color:  #000000;\n",
       "        }    #T_9f2b80d0_4bfe_11ea_a8b9_0c5415364605row6_col21 {\n",
       "            background-color:  #dddbec;\n",
       "            color:  #000000;\n",
       "        }    #T_9f2b80d0_4bfe_11ea_a8b9_0c5415364605row6_col22 {\n",
       "            background-color:  #dad9ea;\n",
       "            color:  #000000;\n",
       "        }    #T_9f2b80d0_4bfe_11ea_a8b9_0c5415364605row6_col23 {\n",
       "            background-color:  #d5d5e8;\n",
       "            color:  #000000;\n",
       "        }    #T_9f2b80d0_4bfe_11ea_a8b9_0c5415364605row6_col24 {\n",
       "            background-color:  #d2d2e7;\n",
       "            color:  #000000;\n",
       "        }    #T_9f2b80d0_4bfe_11ea_a8b9_0c5415364605row6_col25 {\n",
       "            background-color:  #d4d4e8;\n",
       "            color:  #000000;\n",
       "        }    #T_9f2b80d0_4bfe_11ea_a8b9_0c5415364605row6_col26 {\n",
       "            background-color:  #d2d2e7;\n",
       "            color:  #000000;\n",
       "        }    #T_9f2b80d0_4bfe_11ea_a8b9_0c5415364605row6_col27 {\n",
       "            background-color:  #d9d8ea;\n",
       "            color:  #000000;\n",
       "        }    #T_9f2b80d0_4bfe_11ea_a8b9_0c5415364605row6_col28 {\n",
       "            background-color:  #e7e3f0;\n",
       "            color:  #000000;\n",
       "        }    #T_9f2b80d0_4bfe_11ea_a8b9_0c5415364605row6_col29 {\n",
       "            background-color:  #d1d2e6;\n",
       "            color:  #000000;\n",
       "        }    #T_9f2b80d0_4bfe_11ea_a8b9_0c5415364605row7_col0 {\n",
       "            background-color:  #fef6fb;\n",
       "            color:  #000000;\n",
       "        }    #T_9f2b80d0_4bfe_11ea_a8b9_0c5415364605row7_col1 {\n",
       "            background-color:  #f0eaf4;\n",
       "            color:  #000000;\n",
       "        }    #T_9f2b80d0_4bfe_11ea_a8b9_0c5415364605row7_col2 {\n",
       "            background-color:  #f7f0f7;\n",
       "            color:  #000000;\n",
       "        }    #T_9f2b80d0_4bfe_11ea_a8b9_0c5415364605row7_col3 {\n",
       "            background-color:  #fcf4fa;\n",
       "            color:  #000000;\n",
       "        }    #T_9f2b80d0_4bfe_11ea_a8b9_0c5415364605row7_col4 {\n",
       "            background-color:  #faf2f8;\n",
       "            color:  #000000;\n",
       "        }    #T_9f2b80d0_4bfe_11ea_a8b9_0c5415364605row7_col5 {\n",
       "            background-color:  #fcf4fa;\n",
       "            color:  #000000;\n",
       "        }    #T_9f2b80d0_4bfe_11ea_a8b9_0c5415364605row7_col6 {\n",
       "            background-color:  #e7e3f0;\n",
       "            color:  #000000;\n",
       "        }    #T_9f2b80d0_4bfe_11ea_a8b9_0c5415364605row7_col7 {\n",
       "            background-color:  #f5eff6;\n",
       "            color:  #000000;\n",
       "        }    #T_9f2b80d0_4bfe_11ea_a8b9_0c5415364605row7_col8 {\n",
       "            background-color:  #efe9f3;\n",
       "            color:  #000000;\n",
       "        }    #T_9f2b80d0_4bfe_11ea_a8b9_0c5415364605row7_col9 {\n",
       "            background-color:  #fcf4fa;\n",
       "            color:  #000000;\n",
       "        }    #T_9f2b80d0_4bfe_11ea_a8b9_0c5415364605row7_col10 {\n",
       "            background-color:  #ede8f3;\n",
       "            color:  #000000;\n",
       "        }    #T_9f2b80d0_4bfe_11ea_a8b9_0c5415364605row7_col11 {\n",
       "            background-color:  #fcf4fa;\n",
       "            color:  #000000;\n",
       "        }    #T_9f2b80d0_4bfe_11ea_a8b9_0c5415364605row7_col12 {\n",
       "            background-color:  #fbf3f9;\n",
       "            color:  #000000;\n",
       "        }    #T_9f2b80d0_4bfe_11ea_a8b9_0c5415364605row7_col13 {\n",
       "            background-color:  #fef6fb;\n",
       "            color:  #000000;\n",
       "        }    #T_9f2b80d0_4bfe_11ea_a8b9_0c5415364605row7_col14 {\n",
       "            background-color:  #f9f2f8;\n",
       "            color:  #000000;\n",
       "        }    #T_9f2b80d0_4bfe_11ea_a8b9_0c5415364605row7_col15 {\n",
       "            background-color:  #faf2f8;\n",
       "            color:  #000000;\n",
       "        }    #T_9f2b80d0_4bfe_11ea_a8b9_0c5415364605row7_col16 {\n",
       "            background-color:  #f7f0f7;\n",
       "            color:  #000000;\n",
       "        }    #T_9f2b80d0_4bfe_11ea_a8b9_0c5415364605row7_col17 {\n",
       "            background-color:  #f7f0f7;\n",
       "            color:  #000000;\n",
       "        }    #T_9f2b80d0_4bfe_11ea_a8b9_0c5415364605row7_col18 {\n",
       "            background-color:  #f9f2f8;\n",
       "            color:  #000000;\n",
       "        }    #T_9f2b80d0_4bfe_11ea_a8b9_0c5415364605row7_col19 {\n",
       "            background-color:  #f7f0f7;\n",
       "            color:  #000000;\n",
       "        }    #T_9f2b80d0_4bfe_11ea_a8b9_0c5415364605row7_col20 {\n",
       "            background-color:  #faf3f9;\n",
       "            color:  #000000;\n",
       "        }    #T_9f2b80d0_4bfe_11ea_a8b9_0c5415364605row7_col21 {\n",
       "            background-color:  #f7f0f7;\n",
       "            color:  #000000;\n",
       "        }    #T_9f2b80d0_4bfe_11ea_a8b9_0c5415364605row7_col22 {\n",
       "            background-color:  #f8f1f8;\n",
       "            color:  #000000;\n",
       "        }    #T_9f2b80d0_4bfe_11ea_a8b9_0c5415364605row7_col23 {\n",
       "            background-color:  #f6eff7;\n",
       "            color:  #000000;\n",
       "        }    #T_9f2b80d0_4bfe_11ea_a8b9_0c5415364605row7_col24 {\n",
       "            background-color:  #f7f0f7;\n",
       "            color:  #000000;\n",
       "        }    #T_9f2b80d0_4bfe_11ea_a8b9_0c5415364605row7_col25 {\n",
       "            background-color:  #f5eff6;\n",
       "            color:  #000000;\n",
       "        }    #T_9f2b80d0_4bfe_11ea_a8b9_0c5415364605row7_col26 {\n",
       "            background-color:  #f5eff6;\n",
       "            color:  #000000;\n",
       "        }    #T_9f2b80d0_4bfe_11ea_a8b9_0c5415364605row7_col27 {\n",
       "            background-color:  #f4eef6;\n",
       "            color:  #000000;\n",
       "        }    #T_9f2b80d0_4bfe_11ea_a8b9_0c5415364605row7_col28 {\n",
       "            background-color:  #f0eaf4;\n",
       "            color:  #000000;\n",
       "        }    #T_9f2b80d0_4bfe_11ea_a8b9_0c5415364605row7_col29 {\n",
       "            background-color:  #f0eaf4;\n",
       "            color:  #000000;\n",
       "        }    #T_9f2b80d0_4bfe_11ea_a8b9_0c5415364605row8_col0 {\n",
       "            background-color:  #faf3f9;\n",
       "            color:  #000000;\n",
       "        }    #T_9f2b80d0_4bfe_11ea_a8b9_0c5415364605row8_col1 {\n",
       "            background-color:  #d7d6e9;\n",
       "            color:  #000000;\n",
       "        }    #T_9f2b80d0_4bfe_11ea_a8b9_0c5415364605row8_col2 {\n",
       "            background-color:  #e3e0ee;\n",
       "            color:  #000000;\n",
       "        }    #T_9f2b80d0_4bfe_11ea_a8b9_0c5415364605row8_col3 {\n",
       "            background-color:  #dcdaeb;\n",
       "            color:  #000000;\n",
       "        }    #T_9f2b80d0_4bfe_11ea_a8b9_0c5415364605row8_col4 {\n",
       "            background-color:  #d9d8ea;\n",
       "            color:  #000000;\n",
       "        }    #T_9f2b80d0_4bfe_11ea_a8b9_0c5415364605row8_col5 {\n",
       "            background-color:  #dbdaeb;\n",
       "            color:  #000000;\n",
       "        }    #T_9f2b80d0_4bfe_11ea_a8b9_0c5415364605row8_col6 {\n",
       "            background-color:  #d0d1e6;\n",
       "            color:  #000000;\n",
       "        }    #T_9f2b80d0_4bfe_11ea_a8b9_0c5415364605row8_col7 {\n",
       "            background-color:  #f5eff6;\n",
       "            color:  #000000;\n",
       "        }    #T_9f2b80d0_4bfe_11ea_a8b9_0c5415364605row8_col8 {\n",
       "            background-color:  #dad9ea;\n",
       "            color:  #000000;\n",
       "        }    #T_9f2b80d0_4bfe_11ea_a8b9_0c5415364605row8_col9 {\n",
       "            background-color:  #f9f2f8;\n",
       "            color:  #000000;\n",
       "        }    #T_9f2b80d0_4bfe_11ea_a8b9_0c5415364605row8_col10 {\n",
       "            background-color:  #c8cde4;\n",
       "            color:  #000000;\n",
       "        }    #T_9f2b80d0_4bfe_11ea_a8b9_0c5415364605row8_col11 {\n",
       "            background-color:  #f1ebf4;\n",
       "            color:  #000000;\n",
       "        }    #T_9f2b80d0_4bfe_11ea_a8b9_0c5415364605row8_col12 {\n",
       "            background-color:  #f2ecf5;\n",
       "            color:  #000000;\n",
       "        }    #T_9f2b80d0_4bfe_11ea_a8b9_0c5415364605row8_col13 {\n",
       "            background-color:  #fdf5fa;\n",
       "            color:  #000000;\n",
       "        }    #T_9f2b80d0_4bfe_11ea_a8b9_0c5415364605row8_col14 {\n",
       "            background-color:  #f1ebf4;\n",
       "            color:  #000000;\n",
       "        }    #T_9f2b80d0_4bfe_11ea_a8b9_0c5415364605row8_col15 {\n",
       "            background-color:  #eee8f3;\n",
       "            color:  #000000;\n",
       "        }    #T_9f2b80d0_4bfe_11ea_a8b9_0c5415364605row8_col16 {\n",
       "            background-color:  #f8f1f8;\n",
       "            color:  #000000;\n",
       "        }    #T_9f2b80d0_4bfe_11ea_a8b9_0c5415364605row8_col17 {\n",
       "            background-color:  #f4eef6;\n",
       "            color:  #000000;\n",
       "        }    #T_9f2b80d0_4bfe_11ea_a8b9_0c5415364605row8_col18 {\n",
       "            background-color:  #e4e1ef;\n",
       "            color:  #000000;\n",
       "        }    #T_9f2b80d0_4bfe_11ea_a8b9_0c5415364605row8_col19 {\n",
       "            background-color:  #efe9f3;\n",
       "            color:  #000000;\n",
       "        }    #T_9f2b80d0_4bfe_11ea_a8b9_0c5415364605row8_col20 {\n",
       "            background-color:  #eee9f3;\n",
       "            color:  #000000;\n",
       "        }    #T_9f2b80d0_4bfe_11ea_a8b9_0c5415364605row8_col21 {\n",
       "            background-color:  #ede8f3;\n",
       "            color:  #000000;\n",
       "        }    #T_9f2b80d0_4bfe_11ea_a8b9_0c5415364605row8_col22 {\n",
       "            background-color:  #ece7f2;\n",
       "            color:  #000000;\n",
       "        }    #T_9f2b80d0_4bfe_11ea_a8b9_0c5415364605row8_col23 {\n",
       "            background-color:  #ebe6f2;\n",
       "            color:  #000000;\n",
       "        }    #T_9f2b80d0_4bfe_11ea_a8b9_0c5415364605row8_col24 {\n",
       "            background-color:  #eae6f1;\n",
       "            color:  #000000;\n",
       "        }    #T_9f2b80d0_4bfe_11ea_a8b9_0c5415364605row8_col25 {\n",
       "            background-color:  #ece7f2;\n",
       "            color:  #000000;\n",
       "        }    #T_9f2b80d0_4bfe_11ea_a8b9_0c5415364605row8_col26 {\n",
       "            background-color:  #ede7f2;\n",
       "            color:  #000000;\n",
       "        }    #T_9f2b80d0_4bfe_11ea_a8b9_0c5415364605row8_col27 {\n",
       "            background-color:  #eee9f3;\n",
       "            color:  #000000;\n",
       "        }    #T_9f2b80d0_4bfe_11ea_a8b9_0c5415364605row8_col28 {\n",
       "            background-color:  #f0eaf4;\n",
       "            color:  #000000;\n",
       "        }    #T_9f2b80d0_4bfe_11ea_a8b9_0c5415364605row8_col29 {\n",
       "            background-color:  #f0eaf4;\n",
       "            color:  #000000;\n",
       "        }    #T_9f2b80d0_4bfe_11ea_a8b9_0c5415364605row9_col0 {\n",
       "            background-color:  #fff7fb;\n",
       "            color:  #000000;\n",
       "        }    #T_9f2b80d0_4bfe_11ea_a8b9_0c5415364605row9_col1 {\n",
       "            background-color:  #c4cbe3;\n",
       "            color:  #000000;\n",
       "        }    #T_9f2b80d0_4bfe_11ea_a8b9_0c5415364605row9_col2 {\n",
       "            background-color:  #dddbec;\n",
       "            color:  #000000;\n",
       "        }    #T_9f2b80d0_4bfe_11ea_a8b9_0c5415364605row9_col3 {\n",
       "            background-color:  #e7e3f0;\n",
       "            color:  #000000;\n",
       "        }    #T_9f2b80d0_4bfe_11ea_a8b9_0c5415364605row9_col4 {\n",
       "            background-color:  #d3d4e7;\n",
       "            color:  #000000;\n",
       "        }    #T_9f2b80d0_4bfe_11ea_a8b9_0c5415364605row9_col5 {\n",
       "            background-color:  #d9d8ea;\n",
       "            color:  #000000;\n",
       "        }    #T_9f2b80d0_4bfe_11ea_a8b9_0c5415364605row9_col6 {\n",
       "            background-color:  #dcdaeb;\n",
       "            color:  #000000;\n",
       "        }    #T_9f2b80d0_4bfe_11ea_a8b9_0c5415364605row9_col7 {\n",
       "            background-color:  #f1ebf4;\n",
       "            color:  #000000;\n",
       "        }    #T_9f2b80d0_4bfe_11ea_a8b9_0c5415364605row9_col8 {\n",
       "            background-color:  #f3edf5;\n",
       "            color:  #000000;\n",
       "        }    #T_9f2b80d0_4bfe_11ea_a8b9_0c5415364605row9_col9 {\n",
       "            background-color:  #faf2f8;\n",
       "            color:  #000000;\n",
       "        }    #T_9f2b80d0_4bfe_11ea_a8b9_0c5415364605row9_col10 {\n",
       "            background-color:  #ced0e6;\n",
       "            color:  #000000;\n",
       "        }    #T_9f2b80d0_4bfe_11ea_a8b9_0c5415364605row9_col11 {\n",
       "            background-color:  #ebe6f2;\n",
       "            color:  #000000;\n",
       "        }    #T_9f2b80d0_4bfe_11ea_a8b9_0c5415364605row9_col12 {\n",
       "            background-color:  #eae6f1;\n",
       "            color:  #000000;\n",
       "        }    #T_9f2b80d0_4bfe_11ea_a8b9_0c5415364605row9_col13 {\n",
       "            background-color:  #fbf4f9;\n",
       "            color:  #000000;\n",
       "        }    #T_9f2b80d0_4bfe_11ea_a8b9_0c5415364605row9_col14 {\n",
       "            background-color:  #e0dded;\n",
       "            color:  #000000;\n",
       "        }    #T_9f2b80d0_4bfe_11ea_a8b9_0c5415364605row9_col15 {\n",
       "            background-color:  #d6d6e9;\n",
       "            color:  #000000;\n",
       "        }    #T_9f2b80d0_4bfe_11ea_a8b9_0c5415364605row9_col16 {\n",
       "            background-color:  #d7d6e9;\n",
       "            color:  #000000;\n",
       "        }    #T_9f2b80d0_4bfe_11ea_a8b9_0c5415364605row9_col17 {\n",
       "            background-color:  #dddbec;\n",
       "            color:  #000000;\n",
       "        }    #T_9f2b80d0_4bfe_11ea_a8b9_0c5415364605row9_col18 {\n",
       "            background-color:  #f1ebf5;\n",
       "            color:  #000000;\n",
       "        }    #T_9f2b80d0_4bfe_11ea_a8b9_0c5415364605row9_col19 {\n",
       "            background-color:  #eee9f3;\n",
       "            color:  #000000;\n",
       "        }    #T_9f2b80d0_4bfe_11ea_a8b9_0c5415364605row9_col20 {\n",
       "            background-color:  #f2ecf5;\n",
       "            color:  #000000;\n",
       "        }    #T_9f2b80d0_4bfe_11ea_a8b9_0c5415364605row9_col21 {\n",
       "            background-color:  #ebe6f2;\n",
       "            color:  #000000;\n",
       "        }    #T_9f2b80d0_4bfe_11ea_a8b9_0c5415364605row9_col22 {\n",
       "            background-color:  #eee8f3;\n",
       "            color:  #000000;\n",
       "        }    #T_9f2b80d0_4bfe_11ea_a8b9_0c5415364605row9_col23 {\n",
       "            background-color:  #ede8f3;\n",
       "            color:  #000000;\n",
       "        }    #T_9f2b80d0_4bfe_11ea_a8b9_0c5415364605row9_col24 {\n",
       "            background-color:  #ede7f2;\n",
       "            color:  #000000;\n",
       "        }    #T_9f2b80d0_4bfe_11ea_a8b9_0c5415364605row9_col25 {\n",
       "            background-color:  #eee9f3;\n",
       "            color:  #000000;\n",
       "        }    #T_9f2b80d0_4bfe_11ea_a8b9_0c5415364605row9_col26 {\n",
       "            background-color:  #ede8f3;\n",
       "            color:  #000000;\n",
       "        }    #T_9f2b80d0_4bfe_11ea_a8b9_0c5415364605row9_col27 {\n",
       "            background-color:  #f1ebf4;\n",
       "            color:  #000000;\n",
       "        }    #T_9f2b80d0_4bfe_11ea_a8b9_0c5415364605row9_col28 {\n",
       "            background-color:  #f1ebf5;\n",
       "            color:  #000000;\n",
       "        }    #T_9f2b80d0_4bfe_11ea_a8b9_0c5415364605row9_col29 {\n",
       "            background-color:  #dcdaeb;\n",
       "            color:  #000000;\n",
       "        }    #T_9f2b80d0_4bfe_11ea_a8b9_0c5415364605row10_col0 {\n",
       "            background-color:  #fff7fb;\n",
       "            color:  #000000;\n",
       "        }    #T_9f2b80d0_4bfe_11ea_a8b9_0c5415364605row10_col1 {\n",
       "            background-color:  #dcdaeb;\n",
       "            color:  #000000;\n",
       "        }    #T_9f2b80d0_4bfe_11ea_a8b9_0c5415364605row10_col2 {\n",
       "            background-color:  #e7e3f0;\n",
       "            color:  #000000;\n",
       "        }    #T_9f2b80d0_4bfe_11ea_a8b9_0c5415364605row10_col3 {\n",
       "            background-color:  #d0d1e6;\n",
       "            color:  #000000;\n",
       "        }    #T_9f2b80d0_4bfe_11ea_a8b9_0c5415364605row10_col4 {\n",
       "            background-color:  #d4d4e8;\n",
       "            color:  #000000;\n",
       "        }    #T_9f2b80d0_4bfe_11ea_a8b9_0c5415364605row10_col5 {\n",
       "            background-color:  #ece7f2;\n",
       "            color:  #000000;\n",
       "        }    #T_9f2b80d0_4bfe_11ea_a8b9_0c5415364605row10_col6 {\n",
       "            background-color:  #d2d3e7;\n",
       "            color:  #000000;\n",
       "        }    #T_9f2b80d0_4bfe_11ea_a8b9_0c5415364605row10_col7 {\n",
       "            background-color:  #fff7fb;\n",
       "            color:  #000000;\n",
       "        }    #T_9f2b80d0_4bfe_11ea_a8b9_0c5415364605row10_col8 {\n",
       "            background-color:  #fef6fb;\n",
       "            color:  #000000;\n",
       "        }    #T_9f2b80d0_4bfe_11ea_a8b9_0c5415364605row10_col9 {\n",
       "            background-color:  #fef6fb;\n",
       "            color:  #000000;\n",
       "        }    #T_9f2b80d0_4bfe_11ea_a8b9_0c5415364605row10_col10 {\n",
       "            background-color:  #f0eaf4;\n",
       "            color:  #000000;\n",
       "        }    #T_9f2b80d0_4bfe_11ea_a8b9_0c5415364605row10_col11 {\n",
       "            background-color:  #fbf4f9;\n",
       "            color:  #000000;\n",
       "        }    #T_9f2b80d0_4bfe_11ea_a8b9_0c5415364605row10_col12 {\n",
       "            background-color:  #fbf3f9;\n",
       "            color:  #000000;\n",
       "        }    #T_9f2b80d0_4bfe_11ea_a8b9_0c5415364605row10_col13 {\n",
       "            background-color:  #fef6fb;\n",
       "            color:  #000000;\n",
       "        }    #T_9f2b80d0_4bfe_11ea_a8b9_0c5415364605row10_col14 {\n",
       "            background-color:  #fdf5fa;\n",
       "            color:  #000000;\n",
       "        }    #T_9f2b80d0_4bfe_11ea_a8b9_0c5415364605row10_col15 {\n",
       "            background-color:  #efe9f3;\n",
       "            color:  #000000;\n",
       "        }    #T_9f2b80d0_4bfe_11ea_a8b9_0c5415364605row10_col16 {\n",
       "            background-color:  #f7f0f7;\n",
       "            color:  #000000;\n",
       "        }    #T_9f2b80d0_4bfe_11ea_a8b9_0c5415364605row10_col17 {\n",
       "            background-color:  #f1ebf5;\n",
       "            color:  #000000;\n",
       "        }    #T_9f2b80d0_4bfe_11ea_a8b9_0c5415364605row10_col18 {\n",
       "            background-color:  #f1ebf5;\n",
       "            color:  #000000;\n",
       "        }    #T_9f2b80d0_4bfe_11ea_a8b9_0c5415364605row10_col19 {\n",
       "            background-color:  #eee9f3;\n",
       "            color:  #000000;\n",
       "        }    #T_9f2b80d0_4bfe_11ea_a8b9_0c5415364605row10_col20 {\n",
       "            background-color:  #f5eff6;\n",
       "            color:  #000000;\n",
       "        }    #T_9f2b80d0_4bfe_11ea_a8b9_0c5415364605row10_col21 {\n",
       "            background-color:  #f4eef6;\n",
       "            color:  #000000;\n",
       "        }    #T_9f2b80d0_4bfe_11ea_a8b9_0c5415364605row10_col22 {\n",
       "            background-color:  #f2ecf5;\n",
       "            color:  #000000;\n",
       "        }    #T_9f2b80d0_4bfe_11ea_a8b9_0c5415364605row10_col23 {\n",
       "            background-color:  #f2ecf5;\n",
       "            color:  #000000;\n",
       "        }    #T_9f2b80d0_4bfe_11ea_a8b9_0c5415364605row10_col24 {\n",
       "            background-color:  #f1ebf4;\n",
       "            color:  #000000;\n",
       "        }    #T_9f2b80d0_4bfe_11ea_a8b9_0c5415364605row10_col25 {\n",
       "            background-color:  #f1ebf4;\n",
       "            color:  #000000;\n",
       "        }    #T_9f2b80d0_4bfe_11ea_a8b9_0c5415364605row10_col26 {\n",
       "            background-color:  #f1ebf5;\n",
       "            color:  #000000;\n",
       "        }    #T_9f2b80d0_4bfe_11ea_a8b9_0c5415364605row10_col27 {\n",
       "            background-color:  #f6eff7;\n",
       "            color:  #000000;\n",
       "        }    #T_9f2b80d0_4bfe_11ea_a8b9_0c5415364605row10_col28 {\n",
       "            background-color:  #f2ecf5;\n",
       "            color:  #000000;\n",
       "        }    #T_9f2b80d0_4bfe_11ea_a8b9_0c5415364605row10_col29 {\n",
       "            background-color:  #f9f2f8;\n",
       "            color:  #000000;\n",
       "        }    #T_9f2b80d0_4bfe_11ea_a8b9_0c5415364605row11_col0 {\n",
       "            background-color:  #fff7fb;\n",
       "            color:  #000000;\n",
       "        }    #T_9f2b80d0_4bfe_11ea_a8b9_0c5415364605row11_col1 {\n",
       "            background-color:  #e7e3f0;\n",
       "            color:  #000000;\n",
       "        }    #T_9f2b80d0_4bfe_11ea_a8b9_0c5415364605row11_col2 {\n",
       "            background-color:  #efe9f3;\n",
       "            color:  #000000;\n",
       "        }    #T_9f2b80d0_4bfe_11ea_a8b9_0c5415364605row11_col3 {\n",
       "            background-color:  #f5eff6;\n",
       "            color:  #000000;\n",
       "        }    #T_9f2b80d0_4bfe_11ea_a8b9_0c5415364605row11_col4 {\n",
       "            background-color:  #fdf5fa;\n",
       "            color:  #000000;\n",
       "        }    #T_9f2b80d0_4bfe_11ea_a8b9_0c5415364605row11_col5 {\n",
       "            background-color:  #f9f2f8;\n",
       "            color:  #000000;\n",
       "        }    #T_9f2b80d0_4bfe_11ea_a8b9_0c5415364605row11_col6 {\n",
       "            background-color:  #ede7f2;\n",
       "            color:  #000000;\n",
       "        }    #T_9f2b80d0_4bfe_11ea_a8b9_0c5415364605row11_col7 {\n",
       "            background-color:  #fff7fb;\n",
       "            color:  #000000;\n",
       "        }    #T_9f2b80d0_4bfe_11ea_a8b9_0c5415364605row11_col8 {\n",
       "            background-color:  #f7f0f7;\n",
       "            color:  #000000;\n",
       "        }    #T_9f2b80d0_4bfe_11ea_a8b9_0c5415364605row11_col9 {\n",
       "            background-color:  #fef6fb;\n",
       "            color:  #000000;\n",
       "        }    #T_9f2b80d0_4bfe_11ea_a8b9_0c5415364605row11_col10 {\n",
       "            background-color:  #f5eef6;\n",
       "            color:  #000000;\n",
       "        }    #T_9f2b80d0_4bfe_11ea_a8b9_0c5415364605row11_col11 {\n",
       "            background-color:  #faf2f8;\n",
       "            color:  #000000;\n",
       "        }    #T_9f2b80d0_4bfe_11ea_a8b9_0c5415364605row11_col12 {\n",
       "            background-color:  #faf2f8;\n",
       "            color:  #000000;\n",
       "        }    #T_9f2b80d0_4bfe_11ea_a8b9_0c5415364605row11_col13 {\n",
       "            background-color:  #fff7fb;\n",
       "            color:  #000000;\n",
       "        }    #T_9f2b80d0_4bfe_11ea_a8b9_0c5415364605row11_col14 {\n",
       "            background-color:  #fdf5fa;\n",
       "            color:  #000000;\n",
       "        }    #T_9f2b80d0_4bfe_11ea_a8b9_0c5415364605row11_col15 {\n",
       "            background-color:  #e6e2ef;\n",
       "            color:  #000000;\n",
       "        }    #T_9f2b80d0_4bfe_11ea_a8b9_0c5415364605row11_col16 {\n",
       "            background-color:  #e6e2ef;\n",
       "            color:  #000000;\n",
       "        }    #T_9f2b80d0_4bfe_11ea_a8b9_0c5415364605row11_col17 {\n",
       "            background-color:  #f1ebf5;\n",
       "            color:  #000000;\n",
       "        }    #T_9f2b80d0_4bfe_11ea_a8b9_0c5415364605row11_col18 {\n",
       "            background-color:  #e8e4f0;\n",
       "            color:  #000000;\n",
       "        }    #T_9f2b80d0_4bfe_11ea_a8b9_0c5415364605row11_col19 {\n",
       "            background-color:  #ede7f2;\n",
       "            color:  #000000;\n",
       "        }    #T_9f2b80d0_4bfe_11ea_a8b9_0c5415364605row11_col20 {\n",
       "            background-color:  #f2ecf5;\n",
       "            color:  #000000;\n",
       "        }    #T_9f2b80d0_4bfe_11ea_a8b9_0c5415364605row11_col21 {\n",
       "            background-color:  #ece7f2;\n",
       "            color:  #000000;\n",
       "        }    #T_9f2b80d0_4bfe_11ea_a8b9_0c5415364605row11_col22 {\n",
       "            background-color:  #ede7f2;\n",
       "            color:  #000000;\n",
       "        }    #T_9f2b80d0_4bfe_11ea_a8b9_0c5415364605row11_col23 {\n",
       "            background-color:  #ede7f2;\n",
       "            color:  #000000;\n",
       "        }    #T_9f2b80d0_4bfe_11ea_a8b9_0c5415364605row11_col24 {\n",
       "            background-color:  #ece7f2;\n",
       "            color:  #000000;\n",
       "        }    #T_9f2b80d0_4bfe_11ea_a8b9_0c5415364605row11_col25 {\n",
       "            background-color:  #eee9f3;\n",
       "            color:  #000000;\n",
       "        }    #T_9f2b80d0_4bfe_11ea_a8b9_0c5415364605row11_col26 {\n",
       "            background-color:  #eee9f3;\n",
       "            color:  #000000;\n",
       "        }    #T_9f2b80d0_4bfe_11ea_a8b9_0c5415364605row11_col27 {\n",
       "            background-color:  #f4edf6;\n",
       "            color:  #000000;\n",
       "        }    #T_9f2b80d0_4bfe_11ea_a8b9_0c5415364605row11_col28 {\n",
       "            background-color:  #f2ecf5;\n",
       "            color:  #000000;\n",
       "        }    #T_9f2b80d0_4bfe_11ea_a8b9_0c5415364605row11_col29 {\n",
       "            background-color:  #e0deed;\n",
       "            color:  #000000;\n",
       "        }    #T_9f2b80d0_4bfe_11ea_a8b9_0c5415364605row12_col0 {\n",
       "            background-color:  #eee8f3;\n",
       "            color:  #000000;\n",
       "        }    #T_9f2b80d0_4bfe_11ea_a8b9_0c5415364605row12_col1 {\n",
       "            background-color:  #d2d3e7;\n",
       "            color:  #000000;\n",
       "        }    #T_9f2b80d0_4bfe_11ea_a8b9_0c5415364605row12_col2 {\n",
       "            background-color:  #dedcec;\n",
       "            color:  #000000;\n",
       "        }    #T_9f2b80d0_4bfe_11ea_a8b9_0c5415364605row12_col3 {\n",
       "            background-color:  #dbdaeb;\n",
       "            color:  #000000;\n",
       "        }    #T_9f2b80d0_4bfe_11ea_a8b9_0c5415364605row12_col4 {\n",
       "            background-color:  #d2d3e7;\n",
       "            color:  #000000;\n",
       "        }    #T_9f2b80d0_4bfe_11ea_a8b9_0c5415364605row12_col5 {\n",
       "            background-color:  #e2dfee;\n",
       "            color:  #000000;\n",
       "        }    #T_9f2b80d0_4bfe_11ea_a8b9_0c5415364605row12_col6 {\n",
       "            background-color:  #c9cee4;\n",
       "            color:  #000000;\n",
       "        }    #T_9f2b80d0_4bfe_11ea_a8b9_0c5415364605row12_col7 {\n",
       "            background-color:  #bfc9e1;\n",
       "            color:  #000000;\n",
       "        }    #T_9f2b80d0_4bfe_11ea_a8b9_0c5415364605row12_col8 {\n",
       "            background-color:  #eee9f3;\n",
       "            color:  #000000;\n",
       "        }    #T_9f2b80d0_4bfe_11ea_a8b9_0c5415364605row12_col9 {\n",
       "            background-color:  #f4eef6;\n",
       "            color:  #000000;\n",
       "        }    #T_9f2b80d0_4bfe_11ea_a8b9_0c5415364605row12_col10 {\n",
       "            background-color:  #b8c6e0;\n",
       "            color:  #000000;\n",
       "        }    #T_9f2b80d0_4bfe_11ea_a8b9_0c5415364605row12_col11 {\n",
       "            background-color:  #eee8f3;\n",
       "            color:  #000000;\n",
       "        }    #T_9f2b80d0_4bfe_11ea_a8b9_0c5415364605row12_col12 {\n",
       "            background-color:  #ede8f3;\n",
       "            color:  #000000;\n",
       "        }    #T_9f2b80d0_4bfe_11ea_a8b9_0c5415364605row12_col13 {\n",
       "            background-color:  #faf2f8;\n",
       "            color:  #000000;\n",
       "        }    #T_9f2b80d0_4bfe_11ea_a8b9_0c5415364605row12_col14 {\n",
       "            background-color:  #eee8f3;\n",
       "            color:  #000000;\n",
       "        }    #T_9f2b80d0_4bfe_11ea_a8b9_0c5415364605row12_col15 {\n",
       "            background-color:  #eae6f1;\n",
       "            color:  #000000;\n",
       "        }    #T_9f2b80d0_4bfe_11ea_a8b9_0c5415364605row12_col16 {\n",
       "            background-color:  #f1ebf4;\n",
       "            color:  #000000;\n",
       "        }    #T_9f2b80d0_4bfe_11ea_a8b9_0c5415364605row12_col17 {\n",
       "            background-color:  #f0eaf4;\n",
       "            color:  #000000;\n",
       "        }    #T_9f2b80d0_4bfe_11ea_a8b9_0c5415364605row12_col18 {\n",
       "            background-color:  #e5e1ef;\n",
       "            color:  #000000;\n",
       "        }    #T_9f2b80d0_4bfe_11ea_a8b9_0c5415364605row12_col19 {\n",
       "            background-color:  #f0eaf4;\n",
       "            color:  #000000;\n",
       "        }    #T_9f2b80d0_4bfe_11ea_a8b9_0c5415364605row12_col20 {\n",
       "            background-color:  #ebe6f2;\n",
       "            color:  #000000;\n",
       "        }    #T_9f2b80d0_4bfe_11ea_a8b9_0c5415364605row12_col21 {\n",
       "            background-color:  #f2ecf5;\n",
       "            color:  #000000;\n",
       "        }    #T_9f2b80d0_4bfe_11ea_a8b9_0c5415364605row12_col22 {\n",
       "            background-color:  #f3edf5;\n",
       "            color:  #000000;\n",
       "        }    #T_9f2b80d0_4bfe_11ea_a8b9_0c5415364605row12_col23 {\n",
       "            background-color:  #f1ebf5;\n",
       "            color:  #000000;\n",
       "        }    #T_9f2b80d0_4bfe_11ea_a8b9_0c5415364605row12_col24 {\n",
       "            background-color:  #f2ecf5;\n",
       "            color:  #000000;\n",
       "        }    #T_9f2b80d0_4bfe_11ea_a8b9_0c5415364605row12_col25 {\n",
       "            background-color:  #f1ebf5;\n",
       "            color:  #000000;\n",
       "        }    #T_9f2b80d0_4bfe_11ea_a8b9_0c5415364605row12_col26 {\n",
       "            background-color:  #f2ecf5;\n",
       "            color:  #000000;\n",
       "        }    #T_9f2b80d0_4bfe_11ea_a8b9_0c5415364605row12_col27 {\n",
       "            background-color:  #f5eef6;\n",
       "            color:  #000000;\n",
       "        }    #T_9f2b80d0_4bfe_11ea_a8b9_0c5415364605row12_col28 {\n",
       "            background-color:  #f2ecf5;\n",
       "            color:  #000000;\n",
       "        }    #T_9f2b80d0_4bfe_11ea_a8b9_0c5415364605row12_col29 {\n",
       "            background-color:  #ede8f3;\n",
       "            color:  #000000;\n",
       "        }    #T_9f2b80d0_4bfe_11ea_a8b9_0c5415364605row13_col0 {\n",
       "            background-color:  #fdf5fa;\n",
       "            color:  #000000;\n",
       "        }    #T_9f2b80d0_4bfe_11ea_a8b9_0c5415364605row13_col1 {\n",
       "            background-color:  #ede7f2;\n",
       "            color:  #000000;\n",
       "        }    #T_9f2b80d0_4bfe_11ea_a8b9_0c5415364605row13_col2 {\n",
       "            background-color:  #ede7f2;\n",
       "            color:  #000000;\n",
       "        }    #T_9f2b80d0_4bfe_11ea_a8b9_0c5415364605row13_col3 {\n",
       "            background-color:  #e6e2ef;\n",
       "            color:  #000000;\n",
       "        }    #T_9f2b80d0_4bfe_11ea_a8b9_0c5415364605row13_col4 {\n",
       "            background-color:  #eae6f1;\n",
       "            color:  #000000;\n",
       "        }    #T_9f2b80d0_4bfe_11ea_a8b9_0c5415364605row13_col5 {\n",
       "            background-color:  #e9e5f1;\n",
       "            color:  #000000;\n",
       "        }    #T_9f2b80d0_4bfe_11ea_a8b9_0c5415364605row13_col6 {\n",
       "            background-color:  #d8d7e9;\n",
       "            color:  #000000;\n",
       "        }    #T_9f2b80d0_4bfe_11ea_a8b9_0c5415364605row13_col7 {\n",
       "            background-color:  #e0dded;\n",
       "            color:  #000000;\n",
       "        }    #T_9f2b80d0_4bfe_11ea_a8b9_0c5415364605row13_col8 {\n",
       "            background-color:  #e0dded;\n",
       "            color:  #000000;\n",
       "        }    #T_9f2b80d0_4bfe_11ea_a8b9_0c5415364605row13_col9 {\n",
       "            background-color:  #f6eff7;\n",
       "            color:  #000000;\n",
       "        }    #T_9f2b80d0_4bfe_11ea_a8b9_0c5415364605row13_col10 {\n",
       "            background-color:  #dad9ea;\n",
       "            color:  #000000;\n",
       "        }    #T_9f2b80d0_4bfe_11ea_a8b9_0c5415364605row13_col11 {\n",
       "            background-color:  #f5eef6;\n",
       "            color:  #000000;\n",
       "        }    #T_9f2b80d0_4bfe_11ea_a8b9_0c5415364605row13_col12 {\n",
       "            background-color:  #f5eff6;\n",
       "            color:  #000000;\n",
       "        }    #T_9f2b80d0_4bfe_11ea_a8b9_0c5415364605row13_col13 {\n",
       "            background-color:  #fcf4fa;\n",
       "            color:  #000000;\n",
       "        }    #T_9f2b80d0_4bfe_11ea_a8b9_0c5415364605row13_col14 {\n",
       "            background-color:  #f4edf6;\n",
       "            color:  #000000;\n",
       "        }    #T_9f2b80d0_4bfe_11ea_a8b9_0c5415364605row13_col15 {\n",
       "            background-color:  #e8e4f0;\n",
       "            color:  #000000;\n",
       "        }    #T_9f2b80d0_4bfe_11ea_a8b9_0c5415364605row13_col16 {\n",
       "            background-color:  #f3edf5;\n",
       "            color:  #000000;\n",
       "        }    #T_9f2b80d0_4bfe_11ea_a8b9_0c5415364605row13_col17 {\n",
       "            background-color:  #f2ecf5;\n",
       "            color:  #000000;\n",
       "        }    #T_9f2b80d0_4bfe_11ea_a8b9_0c5415364605row13_col18 {\n",
       "            background-color:  #e0dded;\n",
       "            color:  #000000;\n",
       "        }    #T_9f2b80d0_4bfe_11ea_a8b9_0c5415364605row13_col19 {\n",
       "            background-color:  #ede7f2;\n",
       "            color:  #000000;\n",
       "        }    #T_9f2b80d0_4bfe_11ea_a8b9_0c5415364605row13_col20 {\n",
       "            background-color:  #e3e0ee;\n",
       "            color:  #000000;\n",
       "        }    #T_9f2b80d0_4bfe_11ea_a8b9_0c5415364605row13_col21 {\n",
       "            background-color:  #ede7f2;\n",
       "            color:  #000000;\n",
       "        }    #T_9f2b80d0_4bfe_11ea_a8b9_0c5415364605row13_col22 {\n",
       "            background-color:  #ede7f2;\n",
       "            color:  #000000;\n",
       "        }    #T_9f2b80d0_4bfe_11ea_a8b9_0c5415364605row13_col23 {\n",
       "            background-color:  #e9e5f1;\n",
       "            color:  #000000;\n",
       "        }    #T_9f2b80d0_4bfe_11ea_a8b9_0c5415364605row13_col24 {\n",
       "            background-color:  #e9e5f1;\n",
       "            color:  #000000;\n",
       "        }    #T_9f2b80d0_4bfe_11ea_a8b9_0c5415364605row13_col25 {\n",
       "            background-color:  #ebe6f2;\n",
       "            color:  #000000;\n",
       "        }    #T_9f2b80d0_4bfe_11ea_a8b9_0c5415364605row13_col26 {\n",
       "            background-color:  #eee8f3;\n",
       "            color:  #000000;\n",
       "        }    #T_9f2b80d0_4bfe_11ea_a8b9_0c5415364605row13_col27 {\n",
       "            background-color:  #f2ecf5;\n",
       "            color:  #000000;\n",
       "        }    #T_9f2b80d0_4bfe_11ea_a8b9_0c5415364605row13_col28 {\n",
       "            background-color:  #f3edf5;\n",
       "            color:  #000000;\n",
       "        }    #T_9f2b80d0_4bfe_11ea_a8b9_0c5415364605row13_col29 {\n",
       "            background-color:  #e8e4f0;\n",
       "            color:  #000000;\n",
       "        }    #T_9f2b80d0_4bfe_11ea_a8b9_0c5415364605row14_col0 {\n",
       "            background-color:  #f4edf6;\n",
       "            color:  #000000;\n",
       "        }    #T_9f2b80d0_4bfe_11ea_a8b9_0c5415364605row14_col1 {\n",
       "            background-color:  #ced0e6;\n",
       "            color:  #000000;\n",
       "        }    #T_9f2b80d0_4bfe_11ea_a8b9_0c5415364605row14_col2 {\n",
       "            background-color:  #d9d8ea;\n",
       "            color:  #000000;\n",
       "        }    #T_9f2b80d0_4bfe_11ea_a8b9_0c5415364605row14_col3 {\n",
       "            background-color:  #e7e3f0;\n",
       "            color:  #000000;\n",
       "        }    #T_9f2b80d0_4bfe_11ea_a8b9_0c5415364605row14_col4 {\n",
       "            background-color:  #d9d8ea;\n",
       "            color:  #000000;\n",
       "        }    #T_9f2b80d0_4bfe_11ea_a8b9_0c5415364605row14_col5 {\n",
       "            background-color:  #dfddec;\n",
       "            color:  #000000;\n",
       "        }    #T_9f2b80d0_4bfe_11ea_a8b9_0c5415364605row14_col6 {\n",
       "            background-color:  #d6d6e9;\n",
       "            color:  #000000;\n",
       "        }    #T_9f2b80d0_4bfe_11ea_a8b9_0c5415364605row14_col7 {\n",
       "            background-color:  #f8f1f8;\n",
       "            color:  #000000;\n",
       "        }    #T_9f2b80d0_4bfe_11ea_a8b9_0c5415364605row14_col8 {\n",
       "            background-color:  #f4edf6;\n",
       "            color:  #000000;\n",
       "        }    #T_9f2b80d0_4bfe_11ea_a8b9_0c5415364605row14_col9 {\n",
       "            background-color:  #fcf4fa;\n",
       "            color:  #000000;\n",
       "        }    #T_9f2b80d0_4bfe_11ea_a8b9_0c5415364605row14_col10 {\n",
       "            background-color:  #e6e2ef;\n",
       "            color:  #000000;\n",
       "        }    #T_9f2b80d0_4bfe_11ea_a8b9_0c5415364605row14_col11 {\n",
       "            background-color:  #f8f1f8;\n",
       "            color:  #000000;\n",
       "        }    #T_9f2b80d0_4bfe_11ea_a8b9_0c5415364605row14_col12 {\n",
       "            background-color:  #f8f1f8;\n",
       "            color:  #000000;\n",
       "        }    #T_9f2b80d0_4bfe_11ea_a8b9_0c5415364605row14_col13 {\n",
       "            background-color:  #fef6fb;\n",
       "            color:  #000000;\n",
       "        }    #T_9f2b80d0_4bfe_11ea_a8b9_0c5415364605row14_col14 {\n",
       "            background-color:  #f7f0f7;\n",
       "            color:  #000000;\n",
       "        }    #T_9f2b80d0_4bfe_11ea_a8b9_0c5415364605row14_col15 {\n",
       "            background-color:  #dfddec;\n",
       "            color:  #000000;\n",
       "        }    #T_9f2b80d0_4bfe_11ea_a8b9_0c5415364605row14_col16 {\n",
       "            background-color:  #ede8f3;\n",
       "            color:  #000000;\n",
       "        }    #T_9f2b80d0_4bfe_11ea_a8b9_0c5415364605row14_col17 {\n",
       "            background-color:  #ede8f3;\n",
       "            color:  #000000;\n",
       "        }    #T_9f2b80d0_4bfe_11ea_a8b9_0c5415364605row14_col18 {\n",
       "            background-color:  #f6eff7;\n",
       "            color:  #000000;\n",
       "        }    #T_9f2b80d0_4bfe_11ea_a8b9_0c5415364605row14_col19 {\n",
       "            background-color:  #f4eef6;\n",
       "            color:  #000000;\n",
       "        }    #T_9f2b80d0_4bfe_11ea_a8b9_0c5415364605row14_col20 {\n",
       "            background-color:  #f8f1f8;\n",
       "            color:  #000000;\n",
       "        }    #T_9f2b80d0_4bfe_11ea_a8b9_0c5415364605row14_col21 {\n",
       "            background-color:  #f1ebf5;\n",
       "            color:  #000000;\n",
       "        }    #T_9f2b80d0_4bfe_11ea_a8b9_0c5415364605row14_col22 {\n",
       "            background-color:  #f0eaf4;\n",
       "            color:  #000000;\n",
       "        }    #T_9f2b80d0_4bfe_11ea_a8b9_0c5415364605row14_col23 {\n",
       "            background-color:  #eee8f3;\n",
       "            color:  #000000;\n",
       "        }    #T_9f2b80d0_4bfe_11ea_a8b9_0c5415364605row14_col24 {\n",
       "            background-color:  #ede7f2;\n",
       "            color:  #000000;\n",
       "        }    #T_9f2b80d0_4bfe_11ea_a8b9_0c5415364605row14_col25 {\n",
       "            background-color:  #efe9f3;\n",
       "            color:  #000000;\n",
       "        }    #T_9f2b80d0_4bfe_11ea_a8b9_0c5415364605row14_col26 {\n",
       "            background-color:  #ede8f3;\n",
       "            color:  #000000;\n",
       "        }    #T_9f2b80d0_4bfe_11ea_a8b9_0c5415364605row14_col27 {\n",
       "            background-color:  #efe9f3;\n",
       "            color:  #000000;\n",
       "        }    #T_9f2b80d0_4bfe_11ea_a8b9_0c5415364605row14_col28 {\n",
       "            background-color:  #f4edf6;\n",
       "            color:  #000000;\n",
       "        }    #T_9f2b80d0_4bfe_11ea_a8b9_0c5415364605row14_col29 {\n",
       "            background-color:  #dfddec;\n",
       "            color:  #000000;\n",
       "        }    #T_9f2b80d0_4bfe_11ea_a8b9_0c5415364605row15_col0 {\n",
       "            background-color:  #fff7fb;\n",
       "            color:  #000000;\n",
       "        }    #T_9f2b80d0_4bfe_11ea_a8b9_0c5415364605row15_col1 {\n",
       "            background-color:  #e1dfed;\n",
       "            color:  #000000;\n",
       "        }    #T_9f2b80d0_4bfe_11ea_a8b9_0c5415364605row15_col2 {\n",
       "            background-color:  #e7e3f0;\n",
       "            color:  #000000;\n",
       "        }    #T_9f2b80d0_4bfe_11ea_a8b9_0c5415364605row15_col3 {\n",
       "            background-color:  #f0eaf4;\n",
       "            color:  #000000;\n",
       "        }    #T_9f2b80d0_4bfe_11ea_a8b9_0c5415364605row15_col4 {\n",
       "            background-color:  #e0dded;\n",
       "            color:  #000000;\n",
       "        }    #T_9f2b80d0_4bfe_11ea_a8b9_0c5415364605row15_col5 {\n",
       "            background-color:  #ebe6f2;\n",
       "            color:  #000000;\n",
       "        }    #T_9f2b80d0_4bfe_11ea_a8b9_0c5415364605row15_col6 {\n",
       "            background-color:  #dfddec;\n",
       "            color:  #000000;\n",
       "        }    #T_9f2b80d0_4bfe_11ea_a8b9_0c5415364605row15_col7 {\n",
       "            background-color:  #faf3f9;\n",
       "            color:  #000000;\n",
       "        }    #T_9f2b80d0_4bfe_11ea_a8b9_0c5415364605row15_col8 {\n",
       "            background-color:  #f7f0f7;\n",
       "            color:  #000000;\n",
       "        }    #T_9f2b80d0_4bfe_11ea_a8b9_0c5415364605row15_col9 {\n",
       "            background-color:  #fbf3f9;\n",
       "            color:  #000000;\n",
       "        }    #T_9f2b80d0_4bfe_11ea_a8b9_0c5415364605row15_col10 {\n",
       "            background-color:  #f4edf6;\n",
       "            color:  #000000;\n",
       "        }    #T_9f2b80d0_4bfe_11ea_a8b9_0c5415364605row15_col11 {\n",
       "            background-color:  #f8f1f8;\n",
       "            color:  #000000;\n",
       "        }    #T_9f2b80d0_4bfe_11ea_a8b9_0c5415364605row15_col12 {\n",
       "            background-color:  #f9f2f8;\n",
       "            color:  #000000;\n",
       "        }    #T_9f2b80d0_4bfe_11ea_a8b9_0c5415364605row15_col13 {\n",
       "            background-color:  #fef6fb;\n",
       "            color:  #000000;\n",
       "        }    #T_9f2b80d0_4bfe_11ea_a8b9_0c5415364605row15_col14 {\n",
       "            background-color:  #faf2f8;\n",
       "            color:  #000000;\n",
       "        }    #T_9f2b80d0_4bfe_11ea_a8b9_0c5415364605row15_col15 {\n",
       "            background-color:  #f5eef6;\n",
       "            color:  #000000;\n",
       "        }    #T_9f2b80d0_4bfe_11ea_a8b9_0c5415364605row15_col16 {\n",
       "            background-color:  #f7f0f7;\n",
       "            color:  #000000;\n",
       "        }    #T_9f2b80d0_4bfe_11ea_a8b9_0c5415364605row15_col17 {\n",
       "            background-color:  #f8f1f8;\n",
       "            color:  #000000;\n",
       "        }    #T_9f2b80d0_4bfe_11ea_a8b9_0c5415364605row15_col18 {\n",
       "            background-color:  #f9f2f8;\n",
       "            color:  #000000;\n",
       "        }    #T_9f2b80d0_4bfe_11ea_a8b9_0c5415364605row15_col19 {\n",
       "            background-color:  #f8f1f8;\n",
       "            color:  #000000;\n",
       "        }    #T_9f2b80d0_4bfe_11ea_a8b9_0c5415364605row15_col20 {\n",
       "            background-color:  #faf2f8;\n",
       "            color:  #000000;\n",
       "        }    #T_9f2b80d0_4bfe_11ea_a8b9_0c5415364605row15_col21 {\n",
       "            background-color:  #f9f2f8;\n",
       "            color:  #000000;\n",
       "        }    #T_9f2b80d0_4bfe_11ea_a8b9_0c5415364605row15_col22 {\n",
       "            background-color:  #f8f1f8;\n",
       "            color:  #000000;\n",
       "        }    #T_9f2b80d0_4bfe_11ea_a8b9_0c5415364605row15_col23 {\n",
       "            background-color:  #f7f0f7;\n",
       "            color:  #000000;\n",
       "        }    #T_9f2b80d0_4bfe_11ea_a8b9_0c5415364605row15_col24 {\n",
       "            background-color:  #f8f1f8;\n",
       "            color:  #000000;\n",
       "        }    #T_9f2b80d0_4bfe_11ea_a8b9_0c5415364605row15_col25 {\n",
       "            background-color:  #f7f0f7;\n",
       "            color:  #000000;\n",
       "        }    #T_9f2b80d0_4bfe_11ea_a8b9_0c5415364605row15_col26 {\n",
       "            background-color:  #f6eff7;\n",
       "            color:  #000000;\n",
       "        }    #T_9f2b80d0_4bfe_11ea_a8b9_0c5415364605row15_col27 {\n",
       "            background-color:  #f7f0f7;\n",
       "            color:  #000000;\n",
       "        }    #T_9f2b80d0_4bfe_11ea_a8b9_0c5415364605row15_col28 {\n",
       "            background-color:  #f4edf6;\n",
       "            color:  #000000;\n",
       "        }    #T_9f2b80d0_4bfe_11ea_a8b9_0c5415364605row15_col29 {\n",
       "            background-color:  #f3edf5;\n",
       "            color:  #000000;\n",
       "        }    #T_9f2b80d0_4bfe_11ea_a8b9_0c5415364605row16_col0 {\n",
       "            background-color:  #efe9f3;\n",
       "            color:  #000000;\n",
       "        }    #T_9f2b80d0_4bfe_11ea_a8b9_0c5415364605row16_col1 {\n",
       "            background-color:  #eae6f1;\n",
       "            color:  #000000;\n",
       "        }    #T_9f2b80d0_4bfe_11ea_a8b9_0c5415364605row16_col2 {\n",
       "            background-color:  #f4edf6;\n",
       "            color:  #000000;\n",
       "        }    #T_9f2b80d0_4bfe_11ea_a8b9_0c5415364605row16_col3 {\n",
       "            background-color:  #f5eef6;\n",
       "            color:  #000000;\n",
       "        }    #T_9f2b80d0_4bfe_11ea_a8b9_0c5415364605row16_col4 {\n",
       "            background-color:  #f6eff7;\n",
       "            color:  #000000;\n",
       "        }    #T_9f2b80d0_4bfe_11ea_a8b9_0c5415364605row16_col5 {\n",
       "            background-color:  #f9f2f8;\n",
       "            color:  #000000;\n",
       "        }    #T_9f2b80d0_4bfe_11ea_a8b9_0c5415364605row16_col6 {\n",
       "            background-color:  #d8d7e9;\n",
       "            color:  #000000;\n",
       "        }    #T_9f2b80d0_4bfe_11ea_a8b9_0c5415364605row16_col7 {\n",
       "            background-color:  #eee8f3;\n",
       "            color:  #000000;\n",
       "        }    #T_9f2b80d0_4bfe_11ea_a8b9_0c5415364605row16_col8 {\n",
       "            background-color:  #eae6f1;\n",
       "            color:  #000000;\n",
       "        }    #T_9f2b80d0_4bfe_11ea_a8b9_0c5415364605row16_col9 {\n",
       "            background-color:  #f8f1f8;\n",
       "            color:  #000000;\n",
       "        }    #T_9f2b80d0_4bfe_11ea_a8b9_0c5415364605row16_col10 {\n",
       "            background-color:  #d0d1e6;\n",
       "            color:  #000000;\n",
       "        }    #T_9f2b80d0_4bfe_11ea_a8b9_0c5415364605row16_col11 {\n",
       "            background-color:  #f3edf5;\n",
       "            color:  #000000;\n",
       "        }    #T_9f2b80d0_4bfe_11ea_a8b9_0c5415364605row16_col12 {\n",
       "            background-color:  #f4edf6;\n",
       "            color:  #000000;\n",
       "        }    #T_9f2b80d0_4bfe_11ea_a8b9_0c5415364605row16_col13 {\n",
       "            background-color:  #fcf4fa;\n",
       "            color:  #000000;\n",
       "        }    #T_9f2b80d0_4bfe_11ea_a8b9_0c5415364605row16_col14 {\n",
       "            background-color:  #f2ecf5;\n",
       "            color:  #000000;\n",
       "        }    #T_9f2b80d0_4bfe_11ea_a8b9_0c5415364605row16_col15 {\n",
       "            background-color:  #f2ecf5;\n",
       "            color:  #000000;\n",
       "        }    #T_9f2b80d0_4bfe_11ea_a8b9_0c5415364605row16_col16 {\n",
       "            background-color:  #f5eff6;\n",
       "            color:  #000000;\n",
       "        }    #T_9f2b80d0_4bfe_11ea_a8b9_0c5415364605row16_col17 {\n",
       "            background-color:  #f5eef6;\n",
       "            color:  #000000;\n",
       "        }    #T_9f2b80d0_4bfe_11ea_a8b9_0c5415364605row16_col18 {\n",
       "            background-color:  #dedcec;\n",
       "            color:  #000000;\n",
       "        }    #T_9f2b80d0_4bfe_11ea_a8b9_0c5415364605row16_col19 {\n",
       "            background-color:  #eee8f3;\n",
       "            color:  #000000;\n",
       "        }    #T_9f2b80d0_4bfe_11ea_a8b9_0c5415364605row16_col20 {\n",
       "            background-color:  #f1ebf4;\n",
       "            color:  #000000;\n",
       "        }    #T_9f2b80d0_4bfe_11ea_a8b9_0c5415364605row16_col21 {\n",
       "            background-color:  #f1ebf5;\n",
       "            color:  #000000;\n",
       "        }    #T_9f2b80d0_4bfe_11ea_a8b9_0c5415364605row16_col22 {\n",
       "            background-color:  #f1ebf4;\n",
       "            color:  #000000;\n",
       "        }    #T_9f2b80d0_4bfe_11ea_a8b9_0c5415364605row16_col23 {\n",
       "            background-color:  #eee8f3;\n",
       "            color:  #000000;\n",
       "        }    #T_9f2b80d0_4bfe_11ea_a8b9_0c5415364605row16_col24 {\n",
       "            background-color:  #ede8f3;\n",
       "            color:  #000000;\n",
       "        }    #T_9f2b80d0_4bfe_11ea_a8b9_0c5415364605row16_col25 {\n",
       "            background-color:  #ede8f3;\n",
       "            color:  #000000;\n",
       "        }    #T_9f2b80d0_4bfe_11ea_a8b9_0c5415364605row16_col26 {\n",
       "            background-color:  #ede7f2;\n",
       "            color:  #000000;\n",
       "        }    #T_9f2b80d0_4bfe_11ea_a8b9_0c5415364605row16_col27 {\n",
       "            background-color:  #f4edf6;\n",
       "            color:  #000000;\n",
       "        }    #T_9f2b80d0_4bfe_11ea_a8b9_0c5415364605row16_col28 {\n",
       "            background-color:  #f5eff6;\n",
       "            color:  #000000;\n",
       "        }    #T_9f2b80d0_4bfe_11ea_a8b9_0c5415364605row16_col29 {\n",
       "            background-color:  #d9d8ea;\n",
       "            color:  #000000;\n",
       "        }    #T_9f2b80d0_4bfe_11ea_a8b9_0c5415364605row17_col0 {\n",
       "            background-color:  #fdf5fa;\n",
       "            color:  #000000;\n",
       "        }    #T_9f2b80d0_4bfe_11ea_a8b9_0c5415364605row17_col1 {\n",
       "            background-color:  #e6e2ef;\n",
       "            color:  #000000;\n",
       "        }    #T_9f2b80d0_4bfe_11ea_a8b9_0c5415364605row17_col2 {\n",
       "            background-color:  #eae6f1;\n",
       "            color:  #000000;\n",
       "        }    #T_9f2b80d0_4bfe_11ea_a8b9_0c5415364605row17_col3 {\n",
       "            background-color:  #d9d8ea;\n",
       "            color:  #000000;\n",
       "        }    #T_9f2b80d0_4bfe_11ea_a8b9_0c5415364605row17_col4 {\n",
       "            background-color:  #e4e1ef;\n",
       "            color:  #000000;\n",
       "        }    #T_9f2b80d0_4bfe_11ea_a8b9_0c5415364605row17_col5 {\n",
       "            background-color:  #e8e4f0;\n",
       "            color:  #000000;\n",
       "        }    #T_9f2b80d0_4bfe_11ea_a8b9_0c5415364605row17_col6 {\n",
       "            background-color:  #e3e0ee;\n",
       "            color:  #000000;\n",
       "        }    #T_9f2b80d0_4bfe_11ea_a8b9_0c5415364605row17_col7 {\n",
       "            background-color:  #ede7f2;\n",
       "            color:  #000000;\n",
       "        }    #T_9f2b80d0_4bfe_11ea_a8b9_0c5415364605row17_col8 {\n",
       "            background-color:  #e6e2ef;\n",
       "            color:  #000000;\n",
       "        }    #T_9f2b80d0_4bfe_11ea_a8b9_0c5415364605row17_col9 {\n",
       "            background-color:  #faf2f8;\n",
       "            color:  #000000;\n",
       "        }    #T_9f2b80d0_4bfe_11ea_a8b9_0c5415364605row17_col10 {\n",
       "            background-color:  #eee8f3;\n",
       "            color:  #000000;\n",
       "        }    #T_9f2b80d0_4bfe_11ea_a8b9_0c5415364605row17_col11 {\n",
       "            background-color:  #f4edf6;\n",
       "            color:  #000000;\n",
       "        }    #T_9f2b80d0_4bfe_11ea_a8b9_0c5415364605row17_col12 {\n",
       "            background-color:  #f4eef6;\n",
       "            color:  #000000;\n",
       "        }    #T_9f2b80d0_4bfe_11ea_a8b9_0c5415364605row17_col13 {\n",
       "            background-color:  #fbf3f9;\n",
       "            color:  #000000;\n",
       "        }    #T_9f2b80d0_4bfe_11ea_a8b9_0c5415364605row17_col14 {\n",
       "            background-color:  #f1ebf4;\n",
       "            color:  #000000;\n",
       "        }    #T_9f2b80d0_4bfe_11ea_a8b9_0c5415364605row17_col15 {\n",
       "            background-color:  #ede8f3;\n",
       "            color:  #000000;\n",
       "        }    #T_9f2b80d0_4bfe_11ea_a8b9_0c5415364605row17_col16 {\n",
       "            background-color:  #efe9f3;\n",
       "            color:  #000000;\n",
       "        }    #T_9f2b80d0_4bfe_11ea_a8b9_0c5415364605row17_col17 {\n",
       "            background-color:  #f0eaf4;\n",
       "            color:  #000000;\n",
       "        }    #T_9f2b80d0_4bfe_11ea_a8b9_0c5415364605row17_col18 {\n",
       "            background-color:  #ede8f3;\n",
       "            color:  #000000;\n",
       "        }    #T_9f2b80d0_4bfe_11ea_a8b9_0c5415364605row17_col19 {\n",
       "            background-color:  #f3edf5;\n",
       "            color:  #000000;\n",
       "        }    #T_9f2b80d0_4bfe_11ea_a8b9_0c5415364605row17_col20 {\n",
       "            background-color:  #f0eaf4;\n",
       "            color:  #000000;\n",
       "        }    #T_9f2b80d0_4bfe_11ea_a8b9_0c5415364605row17_col21 {\n",
       "            background-color:  #f3edf5;\n",
       "            color:  #000000;\n",
       "        }    #T_9f2b80d0_4bfe_11ea_a8b9_0c5415364605row17_col22 {\n",
       "            background-color:  #f2ecf5;\n",
       "            color:  #000000;\n",
       "        }    #T_9f2b80d0_4bfe_11ea_a8b9_0c5415364605row17_col23 {\n",
       "            background-color:  #f1ebf5;\n",
       "            color:  #000000;\n",
       "        }    #T_9f2b80d0_4bfe_11ea_a8b9_0c5415364605row17_col24 {\n",
       "            background-color:  #f1ebf4;\n",
       "            color:  #000000;\n",
       "        }    #T_9f2b80d0_4bfe_11ea_a8b9_0c5415364605row17_col25 {\n",
       "            background-color:  #f2ecf5;\n",
       "            color:  #000000;\n",
       "        }    #T_9f2b80d0_4bfe_11ea_a8b9_0c5415364605row17_col26 {\n",
       "            background-color:  #f2ecf5;\n",
       "            color:  #000000;\n",
       "        }    #T_9f2b80d0_4bfe_11ea_a8b9_0c5415364605row17_col27 {\n",
       "            background-color:  #f3edf5;\n",
       "            color:  #000000;\n",
       "        }    #T_9f2b80d0_4bfe_11ea_a8b9_0c5415364605row17_col28 {\n",
       "            background-color:  #f6eff7;\n",
       "            color:  #000000;\n",
       "        }    #T_9f2b80d0_4bfe_11ea_a8b9_0c5415364605row17_col29 {\n",
       "            background-color:  #f3edf5;\n",
       "            color:  #000000;\n",
       "        }    #T_9f2b80d0_4bfe_11ea_a8b9_0c5415364605row18_col0 {\n",
       "            background-color:  #fcf4fa;\n",
       "            color:  #000000;\n",
       "        }    #T_9f2b80d0_4bfe_11ea_a8b9_0c5415364605row18_col1 {\n",
       "            background-color:  #ced0e6;\n",
       "            color:  #000000;\n",
       "        }    #T_9f2b80d0_4bfe_11ea_a8b9_0c5415364605row18_col2 {\n",
       "            background-color:  #d2d2e7;\n",
       "            color:  #000000;\n",
       "        }    #T_9f2b80d0_4bfe_11ea_a8b9_0c5415364605row18_col3 {\n",
       "            background-color:  #cdd0e5;\n",
       "            color:  #000000;\n",
       "        }    #T_9f2b80d0_4bfe_11ea_a8b9_0c5415364605row18_col4 {\n",
       "            background-color:  #c1cae2;\n",
       "            color:  #000000;\n",
       "        }    #T_9f2b80d0_4bfe_11ea_a8b9_0c5415364605row18_col5 {\n",
       "            background-color:  #dad9ea;\n",
       "            color:  #000000;\n",
       "        }    #T_9f2b80d0_4bfe_11ea_a8b9_0c5415364605row18_col6 {\n",
       "            background-color:  #d6d6e9;\n",
       "            color:  #000000;\n",
       "        }    #T_9f2b80d0_4bfe_11ea_a8b9_0c5415364605row18_col7 {\n",
       "            background-color:  #e1dfed;\n",
       "            color:  #000000;\n",
       "        }    #T_9f2b80d0_4bfe_11ea_a8b9_0c5415364605row18_col8 {\n",
       "            background-color:  #d2d3e7;\n",
       "            color:  #000000;\n",
       "        }    #T_9f2b80d0_4bfe_11ea_a8b9_0c5415364605row18_col9 {\n",
       "            background-color:  #eee9f3;\n",
       "            color:  #000000;\n",
       "        }    #T_9f2b80d0_4bfe_11ea_a8b9_0c5415364605row18_col10 {\n",
       "            background-color:  #dfddec;\n",
       "            color:  #000000;\n",
       "        }    #T_9f2b80d0_4bfe_11ea_a8b9_0c5415364605row18_col11 {\n",
       "            background-color:  #f1ebf5;\n",
       "            color:  #000000;\n",
       "        }    #T_9f2b80d0_4bfe_11ea_a8b9_0c5415364605row18_col12 {\n",
       "            background-color:  #f2ecf5;\n",
       "            color:  #000000;\n",
       "        }    #T_9f2b80d0_4bfe_11ea_a8b9_0c5415364605row18_col13 {\n",
       "            background-color:  #f7f0f7;\n",
       "            color:  #000000;\n",
       "        }    #T_9f2b80d0_4bfe_11ea_a8b9_0c5415364605row18_col14 {\n",
       "            background-color:  #e6e2ef;\n",
       "            color:  #000000;\n",
       "        }    #T_9f2b80d0_4bfe_11ea_a8b9_0c5415364605row18_col15 {\n",
       "            background-color:  #e6e2ef;\n",
       "            color:  #000000;\n",
       "        }    #T_9f2b80d0_4bfe_11ea_a8b9_0c5415364605row18_col16 {\n",
       "            background-color:  #e6e2ef;\n",
       "            color:  #000000;\n",
       "        }    #T_9f2b80d0_4bfe_11ea_a8b9_0c5415364605row18_col17 {\n",
       "            background-color:  #e7e3f0;\n",
       "            color:  #000000;\n",
       "        }    #T_9f2b80d0_4bfe_11ea_a8b9_0c5415364605row18_col18 {\n",
       "            background-color:  #e0deed;\n",
       "            color:  #000000;\n",
       "        }    #T_9f2b80d0_4bfe_11ea_a8b9_0c5415364605row18_col19 {\n",
       "            background-color:  #eee9f3;\n",
       "            color:  #000000;\n",
       "        }    #T_9f2b80d0_4bfe_11ea_a8b9_0c5415364605row18_col20 {\n",
       "            background-color:  #ebe6f2;\n",
       "            color:  #000000;\n",
       "        }    #T_9f2b80d0_4bfe_11ea_a8b9_0c5415364605row18_col21 {\n",
       "            background-color:  #ede8f3;\n",
       "            color:  #000000;\n",
       "        }    #T_9f2b80d0_4bfe_11ea_a8b9_0c5415364605row18_col22 {\n",
       "            background-color:  #eee8f3;\n",
       "            color:  #000000;\n",
       "        }    #T_9f2b80d0_4bfe_11ea_a8b9_0c5415364605row18_col23 {\n",
       "            background-color:  #ede7f2;\n",
       "            color:  #000000;\n",
       "        }    #T_9f2b80d0_4bfe_11ea_a8b9_0c5415364605row18_col24 {\n",
       "            background-color:  #e7e3f0;\n",
       "            color:  #000000;\n",
       "        }    #T_9f2b80d0_4bfe_11ea_a8b9_0c5415364605row18_col25 {\n",
       "            background-color:  #e7e3f0;\n",
       "            color:  #000000;\n",
       "        }    #T_9f2b80d0_4bfe_11ea_a8b9_0c5415364605row18_col26 {\n",
       "            background-color:  #e8e4f0;\n",
       "            color:  #000000;\n",
       "        }    #T_9f2b80d0_4bfe_11ea_a8b9_0c5415364605row18_col27 {\n",
       "            background-color:  #ede7f2;\n",
       "            color:  #000000;\n",
       "        }    #T_9f2b80d0_4bfe_11ea_a8b9_0c5415364605row18_col28 {\n",
       "            background-color:  #f7f0f7;\n",
       "            color:  #000000;\n",
       "        }    #T_9f2b80d0_4bfe_11ea_a8b9_0c5415364605row18_col29 {\n",
       "            background-color:  #e6e2ef;\n",
       "            color:  #000000;\n",
       "        }    #T_9f2b80d0_4bfe_11ea_a8b9_0c5415364605row19_col0 {\n",
       "            background-color:  #ced0e6;\n",
       "            color:  #000000;\n",
       "        }    #T_9f2b80d0_4bfe_11ea_a8b9_0c5415364605row19_col1 {\n",
       "            background-color:  #a8bedc;\n",
       "            color:  #000000;\n",
       "        }    #T_9f2b80d0_4bfe_11ea_a8b9_0c5415364605row19_col2 {\n",
       "            background-color:  #c8cde4;\n",
       "            color:  #000000;\n",
       "        }    #T_9f2b80d0_4bfe_11ea_a8b9_0c5415364605row19_col3 {\n",
       "            background-color:  #d8d7e9;\n",
       "            color:  #000000;\n",
       "        }    #T_9f2b80d0_4bfe_11ea_a8b9_0c5415364605row19_col4 {\n",
       "            background-color:  #d0d1e6;\n",
       "            color:  #000000;\n",
       "        }    #T_9f2b80d0_4bfe_11ea_a8b9_0c5415364605row19_col5 {\n",
       "            background-color:  #dad9ea;\n",
       "            color:  #000000;\n",
       "        }    #T_9f2b80d0_4bfe_11ea_a8b9_0c5415364605row19_col6 {\n",
       "            background-color:  #dddbec;\n",
       "            color:  #000000;\n",
       "        }    #T_9f2b80d0_4bfe_11ea_a8b9_0c5415364605row19_col7 {\n",
       "            background-color:  #eee8f3;\n",
       "            color:  #000000;\n",
       "        }    #T_9f2b80d0_4bfe_11ea_a8b9_0c5415364605row19_col8 {\n",
       "            background-color:  #d3d4e7;\n",
       "            color:  #000000;\n",
       "        }    #T_9f2b80d0_4bfe_11ea_a8b9_0c5415364605row19_col9 {\n",
       "            background-color:  #d9d8ea;\n",
       "            color:  #000000;\n",
       "        }    #T_9f2b80d0_4bfe_11ea_a8b9_0c5415364605row19_col10 {\n",
       "            background-color:  #80aed2;\n",
       "            color:  #000000;\n",
       "        }    #T_9f2b80d0_4bfe_11ea_a8b9_0c5415364605row19_col11 {\n",
       "            background-color:  #cdd0e5;\n",
       "            color:  #000000;\n",
       "        }    #T_9f2b80d0_4bfe_11ea_a8b9_0c5415364605row19_col12 {\n",
       "            background-color:  #f3edf5;\n",
       "            color:  #000000;\n",
       "        }    #T_9f2b80d0_4bfe_11ea_a8b9_0c5415364605row19_col13 {\n",
       "            background-color:  #056caa;\n",
       "            color:  #f1f1f1;\n",
       "        }    #T_9f2b80d0_4bfe_11ea_a8b9_0c5415364605row19_col14 {\n",
       "            background-color:  #d5d5e8;\n",
       "            color:  #000000;\n",
       "        }    #T_9f2b80d0_4bfe_11ea_a8b9_0c5415364605row19_col15 {\n",
       "            background-color:  #d4d4e8;\n",
       "            color:  #000000;\n",
       "        }    #T_9f2b80d0_4bfe_11ea_a8b9_0c5415364605row19_col16 {\n",
       "            background-color:  #eee9f3;\n",
       "            color:  #000000;\n",
       "        }    #T_9f2b80d0_4bfe_11ea_a8b9_0c5415364605row19_col17 {\n",
       "            background-color:  #e0dded;\n",
       "            color:  #000000;\n",
       "        }    #T_9f2b80d0_4bfe_11ea_a8b9_0c5415364605row19_col18 {\n",
       "            background-color:  #b7c5df;\n",
       "            color:  #000000;\n",
       "        }    #T_9f2b80d0_4bfe_11ea_a8b9_0c5415364605row19_col19 {\n",
       "            background-color:  #e0deed;\n",
       "            color:  #000000;\n",
       "        }    #T_9f2b80d0_4bfe_11ea_a8b9_0c5415364605row19_col20 {\n",
       "            background-color:  #c1cae2;\n",
       "            color:  #000000;\n",
       "        }    #T_9f2b80d0_4bfe_11ea_a8b9_0c5415364605row19_col21 {\n",
       "            background-color:  #efe9f3;\n",
       "            color:  #000000;\n",
       "        }    #T_9f2b80d0_4bfe_11ea_a8b9_0c5415364605row19_col22 {\n",
       "            background-color:  #e4e1ef;\n",
       "            color:  #000000;\n",
       "        }    #T_9f2b80d0_4bfe_11ea_a8b9_0c5415364605row19_col23 {\n",
       "            background-color:  #ede8f3;\n",
       "            color:  #000000;\n",
       "        }    #T_9f2b80d0_4bfe_11ea_a8b9_0c5415364605row19_col24 {\n",
       "            background-color:  #e1dfed;\n",
       "            color:  #000000;\n",
       "        }    #T_9f2b80d0_4bfe_11ea_a8b9_0c5415364605row19_col25 {\n",
       "            background-color:  #ebe6f2;\n",
       "            color:  #000000;\n",
       "        }    #T_9f2b80d0_4bfe_11ea_a8b9_0c5415364605row19_col26 {\n",
       "            background-color:  #f2ecf5;\n",
       "            color:  #000000;\n",
       "        }    #T_9f2b80d0_4bfe_11ea_a8b9_0c5415364605row19_col27 {\n",
       "            background-color:  #f4edf6;\n",
       "            color:  #000000;\n",
       "        }    #T_9f2b80d0_4bfe_11ea_a8b9_0c5415364605row19_col28 {\n",
       "            background-color:  #f7f0f7;\n",
       "            color:  #000000;\n",
       "        }    #T_9f2b80d0_4bfe_11ea_a8b9_0c5415364605row19_col29 {\n",
       "            background-color:  #80aed2;\n",
       "            color:  #000000;\n",
       "        }    #T_9f2b80d0_4bfe_11ea_a8b9_0c5415364605row20_col0 {\n",
       "            background-color:  #fff7fb;\n",
       "            color:  #000000;\n",
       "        }    #T_9f2b80d0_4bfe_11ea_a8b9_0c5415364605row20_col1 {\n",
       "            background-color:  #f8f1f8;\n",
       "            color:  #000000;\n",
       "        }    #T_9f2b80d0_4bfe_11ea_a8b9_0c5415364605row20_col2 {\n",
       "            background-color:  #faf3f9;\n",
       "            color:  #000000;\n",
       "        }    #T_9f2b80d0_4bfe_11ea_a8b9_0c5415364605row20_col3 {\n",
       "            background-color:  #fef6fb;\n",
       "            color:  #000000;\n",
       "        }    #T_9f2b80d0_4bfe_11ea_a8b9_0c5415364605row20_col4 {\n",
       "            background-color:  #fdf5fa;\n",
       "            color:  #000000;\n",
       "        }    #T_9f2b80d0_4bfe_11ea_a8b9_0c5415364605row20_col5 {\n",
       "            background-color:  #fdf5fa;\n",
       "            color:  #000000;\n",
       "        }    #T_9f2b80d0_4bfe_11ea_a8b9_0c5415364605row20_col6 {\n",
       "            background-color:  #f7f0f7;\n",
       "            color:  #000000;\n",
       "        }    #T_9f2b80d0_4bfe_11ea_a8b9_0c5415364605row20_col7 {\n",
       "            background-color:  #fcf4fa;\n",
       "            color:  #000000;\n",
       "        }    #T_9f2b80d0_4bfe_11ea_a8b9_0c5415364605row20_col8 {\n",
       "            background-color:  #fff7fb;\n",
       "            color:  #000000;\n",
       "        }    #T_9f2b80d0_4bfe_11ea_a8b9_0c5415364605row20_col9 {\n",
       "            background-color:  #fef6fa;\n",
       "            color:  #000000;\n",
       "        }    #T_9f2b80d0_4bfe_11ea_a8b9_0c5415364605row20_col10 {\n",
       "            background-color:  #f2ecf5;\n",
       "            color:  #000000;\n",
       "        }    #T_9f2b80d0_4bfe_11ea_a8b9_0c5415364605row20_col11 {\n",
       "            background-color:  #fbf4f9;\n",
       "            color:  #000000;\n",
       "        }    #T_9f2b80d0_4bfe_11ea_a8b9_0c5415364605row20_col12 {\n",
       "            background-color:  #fdf5fa;\n",
       "            color:  #000000;\n",
       "        }    #T_9f2b80d0_4bfe_11ea_a8b9_0c5415364605row20_col13 {\n",
       "            background-color:  #fff7fb;\n",
       "            color:  #000000;\n",
       "        }    #T_9f2b80d0_4bfe_11ea_a8b9_0c5415364605row20_col14 {\n",
       "            background-color:  #fcf4fa;\n",
       "            color:  #000000;\n",
       "        }    #T_9f2b80d0_4bfe_11ea_a8b9_0c5415364605row20_col15 {\n",
       "            background-color:  #fcf4fa;\n",
       "            color:  #000000;\n",
       "        }    #T_9f2b80d0_4bfe_11ea_a8b9_0c5415364605row20_col16 {\n",
       "            background-color:  #f2ecf5;\n",
       "            color:  #000000;\n",
       "        }    #T_9f2b80d0_4bfe_11ea_a8b9_0c5415364605row20_col17 {\n",
       "            background-color:  #faf2f8;\n",
       "            color:  #000000;\n",
       "        }    #T_9f2b80d0_4bfe_11ea_a8b9_0c5415364605row20_col18 {\n",
       "            background-color:  #f7f0f7;\n",
       "            color:  #000000;\n",
       "        }    #T_9f2b80d0_4bfe_11ea_a8b9_0c5415364605row20_col19 {\n",
       "            background-color:  #faf2f8;\n",
       "            color:  #000000;\n",
       "        }    #T_9f2b80d0_4bfe_11ea_a8b9_0c5415364605row20_col20 {\n",
       "            background-color:  #fbf4f9;\n",
       "            color:  #000000;\n",
       "        }    #T_9f2b80d0_4bfe_11ea_a8b9_0c5415364605row20_col21 {\n",
       "            background-color:  #faf2f8;\n",
       "            color:  #000000;\n",
       "        }    #T_9f2b80d0_4bfe_11ea_a8b9_0c5415364605row20_col22 {\n",
       "            background-color:  #f9f2f8;\n",
       "            color:  #000000;\n",
       "        }    #T_9f2b80d0_4bfe_11ea_a8b9_0c5415364605row20_col23 {\n",
       "            background-color:  #f8f1f8;\n",
       "            color:  #000000;\n",
       "        }    #T_9f2b80d0_4bfe_11ea_a8b9_0c5415364605row20_col24 {\n",
       "            background-color:  #f7f0f7;\n",
       "            color:  #000000;\n",
       "        }    #T_9f2b80d0_4bfe_11ea_a8b9_0c5415364605row20_col25 {\n",
       "            background-color:  #f7f0f7;\n",
       "            color:  #000000;\n",
       "        }    #T_9f2b80d0_4bfe_11ea_a8b9_0c5415364605row20_col26 {\n",
       "            background-color:  #f6eff7;\n",
       "            color:  #000000;\n",
       "        }    #T_9f2b80d0_4bfe_11ea_a8b9_0c5415364605row20_col27 {\n",
       "            background-color:  #fff7fb;\n",
       "            color:  #000000;\n",
       "        }    #T_9f2b80d0_4bfe_11ea_a8b9_0c5415364605row20_col28 {\n",
       "            background-color:  #f7f0f7;\n",
       "            color:  #000000;\n",
       "        }    #T_9f2b80d0_4bfe_11ea_a8b9_0c5415364605row20_col29 {\n",
       "            background-color:  #d9d8ea;\n",
       "            color:  #000000;\n",
       "        }    #T_9f2b80d0_4bfe_11ea_a8b9_0c5415364605row21_col0 {\n",
       "            background-color:  #fff7fb;\n",
       "            color:  #000000;\n",
       "        }    #T_9f2b80d0_4bfe_11ea_a8b9_0c5415364605row21_col1 {\n",
       "            background-color:  #f5eff6;\n",
       "            color:  #000000;\n",
       "        }    #T_9f2b80d0_4bfe_11ea_a8b9_0c5415364605row21_col2 {\n",
       "            background-color:  #fbf3f9;\n",
       "            color:  #000000;\n",
       "        }    #T_9f2b80d0_4bfe_11ea_a8b9_0c5415364605row21_col3 {\n",
       "            background-color:  #f8f1f8;\n",
       "            color:  #000000;\n",
       "        }    #T_9f2b80d0_4bfe_11ea_a8b9_0c5415364605row21_col4 {\n",
       "            background-color:  #faf3f9;\n",
       "            color:  #000000;\n",
       "        }    #T_9f2b80d0_4bfe_11ea_a8b9_0c5415364605row21_col5 {\n",
       "            background-color:  #fdf5fa;\n",
       "            color:  #000000;\n",
       "        }    #T_9f2b80d0_4bfe_11ea_a8b9_0c5415364605row21_col6 {\n",
       "            background-color:  #efe9f3;\n",
       "            color:  #000000;\n",
       "        }    #T_9f2b80d0_4bfe_11ea_a8b9_0c5415364605row21_col7 {\n",
       "            background-color:  #fbf4f9;\n",
       "            color:  #000000;\n",
       "        }    #T_9f2b80d0_4bfe_11ea_a8b9_0c5415364605row21_col8 {\n",
       "            background-color:  #fbf4f9;\n",
       "            color:  #000000;\n",
       "        }    #T_9f2b80d0_4bfe_11ea_a8b9_0c5415364605row21_col9 {\n",
       "            background-color:  #fdf5fa;\n",
       "            color:  #000000;\n",
       "        }    #T_9f2b80d0_4bfe_11ea_a8b9_0c5415364605row21_col10 {\n",
       "            background-color:  #fbf3f9;\n",
       "            color:  #000000;\n",
       "        }    #T_9f2b80d0_4bfe_11ea_a8b9_0c5415364605row21_col11 {\n",
       "            background-color:  #fef6fa;\n",
       "            color:  #000000;\n",
       "        }    #T_9f2b80d0_4bfe_11ea_a8b9_0c5415364605row21_col12 {\n",
       "            background-color:  #fdf5fa;\n",
       "            color:  #000000;\n",
       "        }    #T_9f2b80d0_4bfe_11ea_a8b9_0c5415364605row21_col13 {\n",
       "            background-color:  #fff7fb;\n",
       "            color:  #000000;\n",
       "        }    #T_9f2b80d0_4bfe_11ea_a8b9_0c5415364605row21_col14 {\n",
       "            background-color:  #fbf4f9;\n",
       "            color:  #000000;\n",
       "        }    #T_9f2b80d0_4bfe_11ea_a8b9_0c5415364605row21_col15 {\n",
       "            background-color:  #fdf5fa;\n",
       "            color:  #000000;\n",
       "        }    #T_9f2b80d0_4bfe_11ea_a8b9_0c5415364605row21_col16 {\n",
       "            background-color:  #fcf4fa;\n",
       "            color:  #000000;\n",
       "        }    #T_9f2b80d0_4bfe_11ea_a8b9_0c5415364605row21_col17 {\n",
       "            background-color:  #fcf4fa;\n",
       "            color:  #000000;\n",
       "        }    #T_9f2b80d0_4bfe_11ea_a8b9_0c5415364605row21_col18 {\n",
       "            background-color:  #fbf3f9;\n",
       "            color:  #000000;\n",
       "        }    #T_9f2b80d0_4bfe_11ea_a8b9_0c5415364605row21_col19 {\n",
       "            background-color:  #fbf4f9;\n",
       "            color:  #000000;\n",
       "        }    #T_9f2b80d0_4bfe_11ea_a8b9_0c5415364605row21_col20 {\n",
       "            background-color:  #fbf4f9;\n",
       "            color:  #000000;\n",
       "        }    #T_9f2b80d0_4bfe_11ea_a8b9_0c5415364605row21_col21 {\n",
       "            background-color:  #fbf4f9;\n",
       "            color:  #000000;\n",
       "        }    #T_9f2b80d0_4bfe_11ea_a8b9_0c5415364605row21_col22 {\n",
       "            background-color:  #fbf4f9;\n",
       "            color:  #000000;\n",
       "        }    #T_9f2b80d0_4bfe_11ea_a8b9_0c5415364605row21_col23 {\n",
       "            background-color:  #fbf3f9;\n",
       "            color:  #000000;\n",
       "        }    #T_9f2b80d0_4bfe_11ea_a8b9_0c5415364605row21_col24 {\n",
       "            background-color:  #fbf3f9;\n",
       "            color:  #000000;\n",
       "        }    #T_9f2b80d0_4bfe_11ea_a8b9_0c5415364605row21_col25 {\n",
       "            background-color:  #fbf4f9;\n",
       "            color:  #000000;\n",
       "        }    #T_9f2b80d0_4bfe_11ea_a8b9_0c5415364605row21_col26 {\n",
       "            background-color:  #faf3f9;\n",
       "            color:  #000000;\n",
       "        }    #T_9f2b80d0_4bfe_11ea_a8b9_0c5415364605row21_col27 {\n",
       "            background-color:  #fcf4fa;\n",
       "            color:  #000000;\n",
       "        }    #T_9f2b80d0_4bfe_11ea_a8b9_0c5415364605row21_col28 {\n",
       "            background-color:  #f8f1f8;\n",
       "            color:  #000000;\n",
       "        }    #T_9f2b80d0_4bfe_11ea_a8b9_0c5415364605row21_col29 {\n",
       "            background-color:  #fbf3f9;\n",
       "            color:  #000000;\n",
       "        }    #T_9f2b80d0_4bfe_11ea_a8b9_0c5415364605row22_col0 {\n",
       "            background-color:  #fff7fb;\n",
       "            color:  #000000;\n",
       "        }    #T_9f2b80d0_4bfe_11ea_a8b9_0c5415364605row22_col1 {\n",
       "            background-color:  #f7f0f7;\n",
       "            color:  #000000;\n",
       "        }    #T_9f2b80d0_4bfe_11ea_a8b9_0c5415364605row22_col2 {\n",
       "            background-color:  #f7f0f7;\n",
       "            color:  #000000;\n",
       "        }    #T_9f2b80d0_4bfe_11ea_a8b9_0c5415364605row22_col3 {\n",
       "            background-color:  #f0eaf4;\n",
       "            color:  #000000;\n",
       "        }    #T_9f2b80d0_4bfe_11ea_a8b9_0c5415364605row22_col4 {\n",
       "            background-color:  #f7f0f7;\n",
       "            color:  #000000;\n",
       "        }    #T_9f2b80d0_4bfe_11ea_a8b9_0c5415364605row22_col5 {\n",
       "            background-color:  #f8f1f8;\n",
       "            color:  #000000;\n",
       "        }    #T_9f2b80d0_4bfe_11ea_a8b9_0c5415364605row22_col6 {\n",
       "            background-color:  #f5eff6;\n",
       "            color:  #000000;\n",
       "        }    #T_9f2b80d0_4bfe_11ea_a8b9_0c5415364605row22_col7 {\n",
       "            background-color:  #fef6fa;\n",
       "            color:  #000000;\n",
       "        }    #T_9f2b80d0_4bfe_11ea_a8b9_0c5415364605row22_col8 {\n",
       "            background-color:  #fff7fb;\n",
       "            color:  #000000;\n",
       "        }    #T_9f2b80d0_4bfe_11ea_a8b9_0c5415364605row22_col9 {\n",
       "            background-color:  #fdf5fa;\n",
       "            color:  #000000;\n",
       "        }    #T_9f2b80d0_4bfe_11ea_a8b9_0c5415364605row22_col10 {\n",
       "            background-color:  #f9f2f8;\n",
       "            color:  #000000;\n",
       "        }    #T_9f2b80d0_4bfe_11ea_a8b9_0c5415364605row22_col11 {\n",
       "            background-color:  #fef6fb;\n",
       "            color:  #000000;\n",
       "        }    #T_9f2b80d0_4bfe_11ea_a8b9_0c5415364605row22_col12 {\n",
       "            background-color:  #fef6fa;\n",
       "            color:  #000000;\n",
       "        }    #T_9f2b80d0_4bfe_11ea_a8b9_0c5415364605row22_col13 {\n",
       "            background-color:  #fef6fb;\n",
       "            color:  #000000;\n",
       "        }    #T_9f2b80d0_4bfe_11ea_a8b9_0c5415364605row22_col14 {\n",
       "            background-color:  #fef6fb;\n",
       "            color:  #000000;\n",
       "        }    #T_9f2b80d0_4bfe_11ea_a8b9_0c5415364605row22_col15 {\n",
       "            background-color:  #fdf5fa;\n",
       "            color:  #000000;\n",
       "        }    #T_9f2b80d0_4bfe_11ea_a8b9_0c5415364605row22_col16 {\n",
       "            background-color:  #fef6fa;\n",
       "            color:  #000000;\n",
       "        }    #T_9f2b80d0_4bfe_11ea_a8b9_0c5415364605row22_col17 {\n",
       "            background-color:  #fdf5fa;\n",
       "            color:  #000000;\n",
       "        }    #T_9f2b80d0_4bfe_11ea_a8b9_0c5415364605row22_col18 {\n",
       "            background-color:  #f8f1f8;\n",
       "            color:  #000000;\n",
       "        }    #T_9f2b80d0_4bfe_11ea_a8b9_0c5415364605row22_col19 {\n",
       "            background-color:  #f5eff6;\n",
       "            color:  #000000;\n",
       "        }    #T_9f2b80d0_4bfe_11ea_a8b9_0c5415364605row22_col20 {\n",
       "            background-color:  #faf2f8;\n",
       "            color:  #000000;\n",
       "        }    #T_9f2b80d0_4bfe_11ea_a8b9_0c5415364605row22_col21 {\n",
       "            background-color:  #f4edf6;\n",
       "            color:  #000000;\n",
       "        }    #T_9f2b80d0_4bfe_11ea_a8b9_0c5415364605row22_col22 {\n",
       "            background-color:  #f1ebf4;\n",
       "            color:  #000000;\n",
       "        }    #T_9f2b80d0_4bfe_11ea_a8b9_0c5415364605row22_col23 {\n",
       "            background-color:  #f2ecf5;\n",
       "            color:  #000000;\n",
       "        }    #T_9f2b80d0_4bfe_11ea_a8b9_0c5415364605row22_col24 {\n",
       "            background-color:  #f0eaf4;\n",
       "            color:  #000000;\n",
       "        }    #T_9f2b80d0_4bfe_11ea_a8b9_0c5415364605row22_col25 {\n",
       "            background-color:  #f1ebf5;\n",
       "            color:  #000000;\n",
       "        }    #T_9f2b80d0_4bfe_11ea_a8b9_0c5415364605row22_col26 {\n",
       "            background-color:  #f1ebf5;\n",
       "            color:  #000000;\n",
       "        }    #T_9f2b80d0_4bfe_11ea_a8b9_0c5415364605row22_col27 {\n",
       "            background-color:  #f8f1f8;\n",
       "            color:  #000000;\n",
       "        }    #T_9f2b80d0_4bfe_11ea_a8b9_0c5415364605row22_col28 {\n",
       "            background-color:  #f8f1f8;\n",
       "            color:  #000000;\n",
       "        }    #T_9f2b80d0_4bfe_11ea_a8b9_0c5415364605row22_col29 {\n",
       "            background-color:  #fff7fb;\n",
       "            color:  #000000;\n",
       "        }    #T_9f2b80d0_4bfe_11ea_a8b9_0c5415364605row23_col0 {\n",
       "            background-color:  #fff7fb;\n",
       "            color:  #000000;\n",
       "        }    #T_9f2b80d0_4bfe_11ea_a8b9_0c5415364605row23_col1 {\n",
       "            background-color:  #e1dfed;\n",
       "            color:  #000000;\n",
       "        }    #T_9f2b80d0_4bfe_11ea_a8b9_0c5415364605row23_col2 {\n",
       "            background-color:  #eee9f3;\n",
       "            color:  #000000;\n",
       "        }    #T_9f2b80d0_4bfe_11ea_a8b9_0c5415364605row23_col3 {\n",
       "            background-color:  #ede8f3;\n",
       "            color:  #000000;\n",
       "        }    #T_9f2b80d0_4bfe_11ea_a8b9_0c5415364605row23_col4 {\n",
       "            background-color:  #fbf3f9;\n",
       "            color:  #000000;\n",
       "        }    #T_9f2b80d0_4bfe_11ea_a8b9_0c5415364605row23_col5 {\n",
       "            background-color:  #f9f2f8;\n",
       "            color:  #000000;\n",
       "        }    #T_9f2b80d0_4bfe_11ea_a8b9_0c5415364605row23_col6 {\n",
       "            background-color:  #e7e3f0;\n",
       "            color:  #000000;\n",
       "        }    #T_9f2b80d0_4bfe_11ea_a8b9_0c5415364605row23_col7 {\n",
       "            background-color:  #fff7fb;\n",
       "            color:  #000000;\n",
       "        }    #T_9f2b80d0_4bfe_11ea_a8b9_0c5415364605row23_col8 {\n",
       "            background-color:  #efe9f3;\n",
       "            color:  #000000;\n",
       "        }    #T_9f2b80d0_4bfe_11ea_a8b9_0c5415364605row23_col9 {\n",
       "            background-color:  #ede8f3;\n",
       "            color:  #000000;\n",
       "        }    #T_9f2b80d0_4bfe_11ea_a8b9_0c5415364605row23_col10 {\n",
       "            background-color:  #dfddec;\n",
       "            color:  #000000;\n",
       "        }    #T_9f2b80d0_4bfe_11ea_a8b9_0c5415364605row23_col11 {\n",
       "            background-color:  #f7f0f7;\n",
       "            color:  #000000;\n",
       "        }    #T_9f2b80d0_4bfe_11ea_a8b9_0c5415364605row23_col12 {\n",
       "            background-color:  #f8f1f8;\n",
       "            color:  #000000;\n",
       "        }    #T_9f2b80d0_4bfe_11ea_a8b9_0c5415364605row23_col13 {\n",
       "            background-color:  #fdf5fa;\n",
       "            color:  #000000;\n",
       "        }    #T_9f2b80d0_4bfe_11ea_a8b9_0c5415364605row23_col14 {\n",
       "            background-color:  #f0eaf4;\n",
       "            color:  #000000;\n",
       "        }    #T_9f2b80d0_4bfe_11ea_a8b9_0c5415364605row23_col15 {\n",
       "            background-color:  #f0eaf4;\n",
       "            color:  #000000;\n",
       "        }    #T_9f2b80d0_4bfe_11ea_a8b9_0c5415364605row23_col16 {\n",
       "            background-color:  #f2ecf5;\n",
       "            color:  #000000;\n",
       "        }    #T_9f2b80d0_4bfe_11ea_a8b9_0c5415364605row23_col17 {\n",
       "            background-color:  #f5eff6;\n",
       "            color:  #000000;\n",
       "        }    #T_9f2b80d0_4bfe_11ea_a8b9_0c5415364605row23_col18 {\n",
       "            background-color:  #f2ecf5;\n",
       "            color:  #000000;\n",
       "        }    #T_9f2b80d0_4bfe_11ea_a8b9_0c5415364605row23_col19 {\n",
       "            background-color:  #f5eff6;\n",
       "            color:  #000000;\n",
       "        }    #T_9f2b80d0_4bfe_11ea_a8b9_0c5415364605row23_col20 {\n",
       "            background-color:  #f6eff7;\n",
       "            color:  #000000;\n",
       "        }    #T_9f2b80d0_4bfe_11ea_a8b9_0c5415364605row23_col21 {\n",
       "            background-color:  #f5eef6;\n",
       "            color:  #000000;\n",
       "        }    #T_9f2b80d0_4bfe_11ea_a8b9_0c5415364605row23_col22 {\n",
       "            background-color:  #f4eef6;\n",
       "            color:  #000000;\n",
       "        }    #T_9f2b80d0_4bfe_11ea_a8b9_0c5415364605row23_col23 {\n",
       "            background-color:  #f3edf5;\n",
       "            color:  #000000;\n",
       "        }    #T_9f2b80d0_4bfe_11ea_a8b9_0c5415364605row23_col24 {\n",
       "            background-color:  #f1ebf5;\n",
       "            color:  #000000;\n",
       "        }    #T_9f2b80d0_4bfe_11ea_a8b9_0c5415364605row23_col25 {\n",
       "            background-color:  #f2ecf5;\n",
       "            color:  #000000;\n",
       "        }    #T_9f2b80d0_4bfe_11ea_a8b9_0c5415364605row23_col26 {\n",
       "            background-color:  #f3edf5;\n",
       "            color:  #000000;\n",
       "        }    #T_9f2b80d0_4bfe_11ea_a8b9_0c5415364605row23_col27 {\n",
       "            background-color:  #f6eff7;\n",
       "            color:  #000000;\n",
       "        }    #T_9f2b80d0_4bfe_11ea_a8b9_0c5415364605row23_col28 {\n",
       "            background-color:  #f8f1f8;\n",
       "            color:  #000000;\n",
       "        }    #T_9f2b80d0_4bfe_11ea_a8b9_0c5415364605row23_col29 {\n",
       "            background-color:  #e1dfed;\n",
       "            color:  #000000;\n",
       "        }    #T_9f2b80d0_4bfe_11ea_a8b9_0c5415364605row24_col0 {\n",
       "            background-color:  #fef6fb;\n",
       "            color:  #000000;\n",
       "        }    #T_9f2b80d0_4bfe_11ea_a8b9_0c5415364605row24_col1 {\n",
       "            background-color:  #f5eef6;\n",
       "            color:  #000000;\n",
       "        }    #T_9f2b80d0_4bfe_11ea_a8b9_0c5415364605row24_col2 {\n",
       "            background-color:  #fbf3f9;\n",
       "            color:  #000000;\n",
       "        }    #T_9f2b80d0_4bfe_11ea_a8b9_0c5415364605row24_col3 {\n",
       "            background-color:  #fdf5fa;\n",
       "            color:  #000000;\n",
       "        }    #T_9f2b80d0_4bfe_11ea_a8b9_0c5415364605row24_col4 {\n",
       "            background-color:  #f9f2f8;\n",
       "            color:  #000000;\n",
       "        }    #T_9f2b80d0_4bfe_11ea_a8b9_0c5415364605row24_col5 {\n",
       "            background-color:  #f9f2f8;\n",
       "            color:  #000000;\n",
       "        }    #T_9f2b80d0_4bfe_11ea_a8b9_0c5415364605row24_col6 {\n",
       "            background-color:  #f4edf6;\n",
       "            color:  #000000;\n",
       "        }    #T_9f2b80d0_4bfe_11ea_a8b9_0c5415364605row24_col7 {\n",
       "            background-color:  #fef6fa;\n",
       "            color:  #000000;\n",
       "        }    #T_9f2b80d0_4bfe_11ea_a8b9_0c5415364605row24_col8 {\n",
       "            background-color:  #e2dfee;\n",
       "            color:  #000000;\n",
       "        }    #T_9f2b80d0_4bfe_11ea_a8b9_0c5415364605row24_col9 {\n",
       "            background-color:  #fef6fb;\n",
       "            color:  #000000;\n",
       "        }    #T_9f2b80d0_4bfe_11ea_a8b9_0c5415364605row24_col10 {\n",
       "            background-color:  #fff7fb;\n",
       "            color:  #000000;\n",
       "        }    #T_9f2b80d0_4bfe_11ea_a8b9_0c5415364605row24_col11 {\n",
       "            background-color:  #fef6fb;\n",
       "            color:  #000000;\n",
       "        }    #T_9f2b80d0_4bfe_11ea_a8b9_0c5415364605row24_col12 {\n",
       "            background-color:  #fff7fb;\n",
       "            color:  #000000;\n",
       "        }    #T_9f2b80d0_4bfe_11ea_a8b9_0c5415364605row24_col13 {\n",
       "            background-color:  #fff7fb;\n",
       "            color:  #000000;\n",
       "        }    #T_9f2b80d0_4bfe_11ea_a8b9_0c5415364605row24_col14 {\n",
       "            background-color:  #fff7fb;\n",
       "            color:  #000000;\n",
       "        }    #T_9f2b80d0_4bfe_11ea_a8b9_0c5415364605row24_col15 {\n",
       "            background-color:  #fff7fb;\n",
       "            color:  #000000;\n",
       "        }    #T_9f2b80d0_4bfe_11ea_a8b9_0c5415364605row24_col16 {\n",
       "            background-color:  #fef6fa;\n",
       "            color:  #000000;\n",
       "        }    #T_9f2b80d0_4bfe_11ea_a8b9_0c5415364605row24_col17 {\n",
       "            background-color:  #fef6fa;\n",
       "            color:  #000000;\n",
       "        }    #T_9f2b80d0_4bfe_11ea_a8b9_0c5415364605row24_col18 {\n",
       "            background-color:  #fef6fb;\n",
       "            color:  #000000;\n",
       "        }    #T_9f2b80d0_4bfe_11ea_a8b9_0c5415364605row24_col19 {\n",
       "            background-color:  #fff7fb;\n",
       "            color:  #000000;\n",
       "        }    #T_9f2b80d0_4bfe_11ea_a8b9_0c5415364605row24_col20 {\n",
       "            background-color:  #fef6fb;\n",
       "            color:  #000000;\n",
       "        }    #T_9f2b80d0_4bfe_11ea_a8b9_0c5415364605row24_col21 {\n",
       "            background-color:  #fef6fb;\n",
       "            color:  #000000;\n",
       "        }    #T_9f2b80d0_4bfe_11ea_a8b9_0c5415364605row24_col22 {\n",
       "            background-color:  #fef6fa;\n",
       "            color:  #000000;\n",
       "        }    #T_9f2b80d0_4bfe_11ea_a8b9_0c5415364605row24_col23 {\n",
       "            background-color:  #fef6fb;\n",
       "            color:  #000000;\n",
       "        }    #T_9f2b80d0_4bfe_11ea_a8b9_0c5415364605row24_col24 {\n",
       "            background-color:  #fef6fb;\n",
       "            color:  #000000;\n",
       "        }    #T_9f2b80d0_4bfe_11ea_a8b9_0c5415364605row24_col25 {\n",
       "            background-color:  #fef6fb;\n",
       "            color:  #000000;\n",
       "        }    #T_9f2b80d0_4bfe_11ea_a8b9_0c5415364605row24_col26 {\n",
       "            background-color:  #fef6fb;\n",
       "            color:  #000000;\n",
       "        }    #T_9f2b80d0_4bfe_11ea_a8b9_0c5415364605row24_col27 {\n",
       "            background-color:  #f2ecf5;\n",
       "            color:  #000000;\n",
       "        }    #T_9f2b80d0_4bfe_11ea_a8b9_0c5415364605row24_col28 {\n",
       "            background-color:  #f8f1f8;\n",
       "            color:  #000000;\n",
       "        }    #T_9f2b80d0_4bfe_11ea_a8b9_0c5415364605row24_col29 {\n",
       "            background-color:  #f8f1f8;\n",
       "            color:  #000000;\n",
       "        }    #T_9f2b80d0_4bfe_11ea_a8b9_0c5415364605row25_col0 {\n",
       "            background-color:  #f9f2f8;\n",
       "            color:  #000000;\n",
       "        }    #T_9f2b80d0_4bfe_11ea_a8b9_0c5415364605row25_col1 {\n",
       "            background-color:  #c2cbe2;\n",
       "            color:  #000000;\n",
       "        }    #T_9f2b80d0_4bfe_11ea_a8b9_0c5415364605row25_col2 {\n",
       "            background-color:  #ced0e6;\n",
       "            color:  #000000;\n",
       "        }    #T_9f2b80d0_4bfe_11ea_a8b9_0c5415364605row25_col3 {\n",
       "            background-color:  #f0eaf4;\n",
       "            color:  #000000;\n",
       "        }    #T_9f2b80d0_4bfe_11ea_a8b9_0c5415364605row25_col4 {\n",
       "            background-color:  #f3edf5;\n",
       "            color:  #000000;\n",
       "        }    #T_9f2b80d0_4bfe_11ea_a8b9_0c5415364605row25_col5 {\n",
       "            background-color:  #e9e5f1;\n",
       "            color:  #000000;\n",
       "        }    #T_9f2b80d0_4bfe_11ea_a8b9_0c5415364605row25_col6 {\n",
       "            background-color:  #ede7f2;\n",
       "            color:  #000000;\n",
       "        }    #T_9f2b80d0_4bfe_11ea_a8b9_0c5415364605row25_col7 {\n",
       "            background-color:  #f5eef6;\n",
       "            color:  #000000;\n",
       "        }    #T_9f2b80d0_4bfe_11ea_a8b9_0c5415364605row25_col8 {\n",
       "            background-color:  #e2dfee;\n",
       "            color:  #000000;\n",
       "        }    #T_9f2b80d0_4bfe_11ea_a8b9_0c5415364605row25_col9 {\n",
       "            background-color:  #fef6fb;\n",
       "            color:  #000000;\n",
       "        }    #T_9f2b80d0_4bfe_11ea_a8b9_0c5415364605row25_col10 {\n",
       "            background-color:  #fff7fb;\n",
       "            color:  #000000;\n",
       "        }    #T_9f2b80d0_4bfe_11ea_a8b9_0c5415364605row25_col11 {\n",
       "            background-color:  #fef6fb;\n",
       "            color:  #000000;\n",
       "        }    #T_9f2b80d0_4bfe_11ea_a8b9_0c5415364605row25_col12 {\n",
       "            background-color:  #fff7fb;\n",
       "            color:  #000000;\n",
       "        }    #T_9f2b80d0_4bfe_11ea_a8b9_0c5415364605row25_col13 {\n",
       "            background-color:  #fff7fb;\n",
       "            color:  #000000;\n",
       "        }    #T_9f2b80d0_4bfe_11ea_a8b9_0c5415364605row25_col14 {\n",
       "            background-color:  #fff7fb;\n",
       "            color:  #000000;\n",
       "        }    #T_9f2b80d0_4bfe_11ea_a8b9_0c5415364605row25_col15 {\n",
       "            background-color:  #ebe6f2;\n",
       "            color:  #000000;\n",
       "        }    #T_9f2b80d0_4bfe_11ea_a8b9_0c5415364605row25_col16 {\n",
       "            background-color:  #e4e1ef;\n",
       "            color:  #000000;\n",
       "        }    #T_9f2b80d0_4bfe_11ea_a8b9_0c5415364605row25_col17 {\n",
       "            background-color:  #e2dfee;\n",
       "            color:  #000000;\n",
       "        }    #T_9f2b80d0_4bfe_11ea_a8b9_0c5415364605row25_col18 {\n",
       "            background-color:  #f6eff7;\n",
       "            color:  #000000;\n",
       "        }    #T_9f2b80d0_4bfe_11ea_a8b9_0c5415364605row25_col19 {\n",
       "            background-color:  #fff7fb;\n",
       "            color:  #000000;\n",
       "        }    #T_9f2b80d0_4bfe_11ea_a8b9_0c5415364605row25_col20 {\n",
       "            background-color:  #eee8f3;\n",
       "            color:  #000000;\n",
       "        }    #T_9f2b80d0_4bfe_11ea_a8b9_0c5415364605row25_col21 {\n",
       "            background-color:  #fef6fb;\n",
       "            color:  #000000;\n",
       "        }    #T_9f2b80d0_4bfe_11ea_a8b9_0c5415364605row25_col22 {\n",
       "            background-color:  #fdf5fa;\n",
       "            color:  #000000;\n",
       "        }    #T_9f2b80d0_4bfe_11ea_a8b9_0c5415364605row25_col23 {\n",
       "            background-color:  #fef6fa;\n",
       "            color:  #000000;\n",
       "        }    #T_9f2b80d0_4bfe_11ea_a8b9_0c5415364605row25_col24 {\n",
       "            background-color:  #fef6fb;\n",
       "            color:  #000000;\n",
       "        }    #T_9f2b80d0_4bfe_11ea_a8b9_0c5415364605row25_col25 {\n",
       "            background-color:  #fef6fb;\n",
       "            color:  #000000;\n",
       "        }    #T_9f2b80d0_4bfe_11ea_a8b9_0c5415364605row25_col26 {\n",
       "            background-color:  #fef6fa;\n",
       "            color:  #000000;\n",
       "        }    #T_9f2b80d0_4bfe_11ea_a8b9_0c5415364605row25_col27 {\n",
       "            background-color:  #f2ecf5;\n",
       "            color:  #000000;\n",
       "        }    #T_9f2b80d0_4bfe_11ea_a8b9_0c5415364605row25_col28 {\n",
       "            background-color:  #f8f1f8;\n",
       "            color:  #000000;\n",
       "        }    #T_9f2b80d0_4bfe_11ea_a8b9_0c5415364605row25_col29 {\n",
       "            background-color:  #efe9f3;\n",
       "            color:  #000000;\n",
       "        }    #T_9f2b80d0_4bfe_11ea_a8b9_0c5415364605row26_col0 {\n",
       "            background-color:  #e8e4f0;\n",
       "            color:  #000000;\n",
       "        }    #T_9f2b80d0_4bfe_11ea_a8b9_0c5415364605row26_col1 {\n",
       "            background-color:  #e7e3f0;\n",
       "            color:  #000000;\n",
       "        }    #T_9f2b80d0_4bfe_11ea_a8b9_0c5415364605row26_col2 {\n",
       "            background-color:  #e4e1ef;\n",
       "            color:  #000000;\n",
       "        }    #T_9f2b80d0_4bfe_11ea_a8b9_0c5415364605row26_col3 {\n",
       "            background-color:  #d9d8ea;\n",
       "            color:  #000000;\n",
       "        }    #T_9f2b80d0_4bfe_11ea_a8b9_0c5415364605row26_col4 {\n",
       "            background-color:  #dad9ea;\n",
       "            color:  #000000;\n",
       "        }    #T_9f2b80d0_4bfe_11ea_a8b9_0c5415364605row26_col5 {\n",
       "            background-color:  #e2dfee;\n",
       "            color:  #000000;\n",
       "        }    #T_9f2b80d0_4bfe_11ea_a8b9_0c5415364605row26_col6 {\n",
       "            background-color:  #f4edf6;\n",
       "            color:  #000000;\n",
       "        }    #T_9f2b80d0_4bfe_11ea_a8b9_0c5415364605row26_col7 {\n",
       "            background-color:  #faf2f8;\n",
       "            color:  #000000;\n",
       "        }    #T_9f2b80d0_4bfe_11ea_a8b9_0c5415364605row26_col8 {\n",
       "            background-color:  #faf2f8;\n",
       "            color:  #000000;\n",
       "        }    #T_9f2b80d0_4bfe_11ea_a8b9_0c5415364605row26_col9 {\n",
       "            background-color:  #fbf3f9;\n",
       "            color:  #000000;\n",
       "        }    #T_9f2b80d0_4bfe_11ea_a8b9_0c5415364605row26_col10 {\n",
       "            background-color:  #ebe6f2;\n",
       "            color:  #000000;\n",
       "        }    #T_9f2b80d0_4bfe_11ea_a8b9_0c5415364605row26_col11 {\n",
       "            background-color:  #f8f1f8;\n",
       "            color:  #000000;\n",
       "        }    #T_9f2b80d0_4bfe_11ea_a8b9_0c5415364605row26_col12 {\n",
       "            background-color:  #f9f2f8;\n",
       "            color:  #000000;\n",
       "        }    #T_9f2b80d0_4bfe_11ea_a8b9_0c5415364605row26_col13 {\n",
       "            background-color:  #fdf5fa;\n",
       "            color:  #000000;\n",
       "        }    #T_9f2b80d0_4bfe_11ea_a8b9_0c5415364605row26_col14 {\n",
       "            background-color:  #eee8f3;\n",
       "            color:  #000000;\n",
       "        }    #T_9f2b80d0_4bfe_11ea_a8b9_0c5415364605row26_col15 {\n",
       "            background-color:  #eae6f1;\n",
       "            color:  #000000;\n",
       "        }    #T_9f2b80d0_4bfe_11ea_a8b9_0c5415364605row26_col16 {\n",
       "            background-color:  #ece7f2;\n",
       "            color:  #000000;\n",
       "        }    #T_9f2b80d0_4bfe_11ea_a8b9_0c5415364605row26_col17 {\n",
       "            background-color:  #e6e2ef;\n",
       "            color:  #000000;\n",
       "        }    #T_9f2b80d0_4bfe_11ea_a8b9_0c5415364605row26_col18 {\n",
       "            background-color:  #f7f0f7;\n",
       "            color:  #000000;\n",
       "        }    #T_9f2b80d0_4bfe_11ea_a8b9_0c5415364605row26_col19 {\n",
       "            background-color:  #f4eef6;\n",
       "            color:  #000000;\n",
       "        }    #T_9f2b80d0_4bfe_11ea_a8b9_0c5415364605row26_col20 {\n",
       "            background-color:  #f7f0f7;\n",
       "            color:  #000000;\n",
       "        }    #T_9f2b80d0_4bfe_11ea_a8b9_0c5415364605row26_col21 {\n",
       "            background-color:  #f4edf6;\n",
       "            color:  #000000;\n",
       "        }    #T_9f2b80d0_4bfe_11ea_a8b9_0c5415364605row26_col22 {\n",
       "            background-color:  #f5eef6;\n",
       "            color:  #000000;\n",
       "        }    #T_9f2b80d0_4bfe_11ea_a8b9_0c5415364605row26_col23 {\n",
       "            background-color:  #f4edf6;\n",
       "            color:  #000000;\n",
       "        }    #T_9f2b80d0_4bfe_11ea_a8b9_0c5415364605row26_col24 {\n",
       "            background-color:  #f2ecf5;\n",
       "            color:  #000000;\n",
       "        }    #T_9f2b80d0_4bfe_11ea_a8b9_0c5415364605row26_col25 {\n",
       "            background-color:  #f2ecf5;\n",
       "            color:  #000000;\n",
       "        }    #T_9f2b80d0_4bfe_11ea_a8b9_0c5415364605row26_col26 {\n",
       "            background-color:  #f2ecf5;\n",
       "            color:  #000000;\n",
       "        }    #T_9f2b80d0_4bfe_11ea_a8b9_0c5415364605row26_col27 {\n",
       "            background-color:  #f5eff6;\n",
       "            color:  #000000;\n",
       "        }    #T_9f2b80d0_4bfe_11ea_a8b9_0c5415364605row26_col28 {\n",
       "            background-color:  #f8f1f8;\n",
       "            color:  #000000;\n",
       "        }    #T_9f2b80d0_4bfe_11ea_a8b9_0c5415364605row26_col29 {\n",
       "            background-color:  #f2ecf5;\n",
       "            color:  #000000;\n",
       "        }    #T_9f2b80d0_4bfe_11ea_a8b9_0c5415364605row27_col0 {\n",
       "            background-color:  #fdf5fa;\n",
       "            color:  #000000;\n",
       "        }    #T_9f2b80d0_4bfe_11ea_a8b9_0c5415364605row27_col1 {\n",
       "            background-color:  #dad9ea;\n",
       "            color:  #000000;\n",
       "        }    #T_9f2b80d0_4bfe_11ea_a8b9_0c5415364605row27_col2 {\n",
       "            background-color:  #ebe6f2;\n",
       "            color:  #000000;\n",
       "        }    #T_9f2b80d0_4bfe_11ea_a8b9_0c5415364605row27_col3 {\n",
       "            background-color:  #eee9f3;\n",
       "            color:  #000000;\n",
       "        }    #T_9f2b80d0_4bfe_11ea_a8b9_0c5415364605row27_col4 {\n",
       "            background-color:  #ede8f3;\n",
       "            color:  #000000;\n",
       "        }    #T_9f2b80d0_4bfe_11ea_a8b9_0c5415364605row27_col5 {\n",
       "            background-color:  #efe9f3;\n",
       "            color:  #000000;\n",
       "        }    #T_9f2b80d0_4bfe_11ea_a8b9_0c5415364605row27_col6 {\n",
       "            background-color:  #d7d6e9;\n",
       "            color:  #000000;\n",
       "        }    #T_9f2b80d0_4bfe_11ea_a8b9_0c5415364605row27_col7 {\n",
       "            background-color:  #ede7f2;\n",
       "            color:  #000000;\n",
       "        }    #T_9f2b80d0_4bfe_11ea_a8b9_0c5415364605row27_col8 {\n",
       "            background-color:  #e7e3f0;\n",
       "            color:  #000000;\n",
       "        }    #T_9f2b80d0_4bfe_11ea_a8b9_0c5415364605row27_col9 {\n",
       "            background-color:  #f5eef6;\n",
       "            color:  #000000;\n",
       "        }    #T_9f2b80d0_4bfe_11ea_a8b9_0c5415364605row27_col10 {\n",
       "            background-color:  #e5e1ef;\n",
       "            color:  #000000;\n",
       "        }    #T_9f2b80d0_4bfe_11ea_a8b9_0c5415364605row27_col11 {\n",
       "            background-color:  #f2ecf5;\n",
       "            color:  #000000;\n",
       "        }    #T_9f2b80d0_4bfe_11ea_a8b9_0c5415364605row27_col12 {\n",
       "            background-color:  #efe9f3;\n",
       "            color:  #000000;\n",
       "        }    #T_9f2b80d0_4bfe_11ea_a8b9_0c5415364605row27_col13 {\n",
       "            background-color:  #faf2f8;\n",
       "            color:  #000000;\n",
       "        }    #T_9f2b80d0_4bfe_11ea_a8b9_0c5415364605row27_col14 {\n",
       "            background-color:  #f1ebf5;\n",
       "            color:  #000000;\n",
       "        }    #T_9f2b80d0_4bfe_11ea_a8b9_0c5415364605row27_col15 {\n",
       "            background-color:  #eee9f3;\n",
       "            color:  #000000;\n",
       "        }    #T_9f2b80d0_4bfe_11ea_a8b9_0c5415364605row27_col16 {\n",
       "            background-color:  #f0eaf4;\n",
       "            color:  #000000;\n",
       "        }    #T_9f2b80d0_4bfe_11ea_a8b9_0c5415364605row27_col17 {\n",
       "            background-color:  #f0eaf4;\n",
       "            color:  #000000;\n",
       "        }    #T_9f2b80d0_4bfe_11ea_a8b9_0c5415364605row27_col18 {\n",
       "            background-color:  #e8e4f0;\n",
       "            color:  #000000;\n",
       "        }    #T_9f2b80d0_4bfe_11ea_a8b9_0c5415364605row27_col19 {\n",
       "            background-color:  #f2ecf5;\n",
       "            color:  #000000;\n",
       "        }    #T_9f2b80d0_4bfe_11ea_a8b9_0c5415364605row27_col20 {\n",
       "            background-color:  #f0eaf4;\n",
       "            color:  #000000;\n",
       "        }    #T_9f2b80d0_4bfe_11ea_a8b9_0c5415364605row27_col21 {\n",
       "            background-color:  #f1ebf5;\n",
       "            color:  #000000;\n",
       "        }    #T_9f2b80d0_4bfe_11ea_a8b9_0c5415364605row27_col22 {\n",
       "            background-color:  #f2ecf5;\n",
       "            color:  #000000;\n",
       "        }    #T_9f2b80d0_4bfe_11ea_a8b9_0c5415364605row27_col23 {\n",
       "            background-color:  #f0eaf4;\n",
       "            color:  #000000;\n",
       "        }    #T_9f2b80d0_4bfe_11ea_a8b9_0c5415364605row27_col24 {\n",
       "            background-color:  #eee8f3;\n",
       "            color:  #000000;\n",
       "        }    #T_9f2b80d0_4bfe_11ea_a8b9_0c5415364605row27_col25 {\n",
       "            background-color:  #eee8f3;\n",
       "            color:  #000000;\n",
       "        }    #T_9f2b80d0_4bfe_11ea_a8b9_0c5415364605row27_col26 {\n",
       "            background-color:  #eee9f3;\n",
       "            color:  #000000;\n",
       "        }    #T_9f2b80d0_4bfe_11ea_a8b9_0c5415364605row27_col27 {\n",
       "            background-color:  #f5eef6;\n",
       "            color:  #000000;\n",
       "        }    #T_9f2b80d0_4bfe_11ea_a8b9_0c5415364605row27_col28 {\n",
       "            background-color:  #f9f2f8;\n",
       "            color:  #000000;\n",
       "        }    #T_9f2b80d0_4bfe_11ea_a8b9_0c5415364605row27_col29 {\n",
       "            background-color:  #eee8f3;\n",
       "            color:  #000000;\n",
       "        }    #T_9f2b80d0_4bfe_11ea_a8b9_0c5415364605row28_col0 {\n",
       "            background-color:  #fff7fb;\n",
       "            color:  #000000;\n",
       "        }    #T_9f2b80d0_4bfe_11ea_a8b9_0c5415364605row28_col1 {\n",
       "            background-color:  #fff7fb;\n",
       "            color:  #000000;\n",
       "        }    #T_9f2b80d0_4bfe_11ea_a8b9_0c5415364605row28_col2 {\n",
       "            background-color:  #fff7fb;\n",
       "            color:  #000000;\n",
       "        }    #T_9f2b80d0_4bfe_11ea_a8b9_0c5415364605row28_col3 {\n",
       "            background-color:  #fff7fb;\n",
       "            color:  #000000;\n",
       "        }    #T_9f2b80d0_4bfe_11ea_a8b9_0c5415364605row28_col4 {\n",
       "            background-color:  #fff7fb;\n",
       "            color:  #000000;\n",
       "        }    #T_9f2b80d0_4bfe_11ea_a8b9_0c5415364605row28_col5 {\n",
       "            background-color:  #fff7fb;\n",
       "            color:  #000000;\n",
       "        }    #T_9f2b80d0_4bfe_11ea_a8b9_0c5415364605row28_col6 {\n",
       "            background-color:  #fff7fb;\n",
       "            color:  #000000;\n",
       "        }    #T_9f2b80d0_4bfe_11ea_a8b9_0c5415364605row28_col7 {\n",
       "            background-color:  #fff7fb;\n",
       "            color:  #000000;\n",
       "        }    #T_9f2b80d0_4bfe_11ea_a8b9_0c5415364605row28_col8 {\n",
       "            background-color:  #fef6fa;\n",
       "            color:  #000000;\n",
       "        }    #T_9f2b80d0_4bfe_11ea_a8b9_0c5415364605row28_col9 {\n",
       "            background-color:  #fff7fb;\n",
       "            color:  #000000;\n",
       "        }    #T_9f2b80d0_4bfe_11ea_a8b9_0c5415364605row28_col10 {\n",
       "            background-color:  #fff7fb;\n",
       "            color:  #000000;\n",
       "        }    #T_9f2b80d0_4bfe_11ea_a8b9_0c5415364605row28_col11 {\n",
       "            background-color:  #fff7fb;\n",
       "            color:  #000000;\n",
       "        }    #T_9f2b80d0_4bfe_11ea_a8b9_0c5415364605row28_col12 {\n",
       "            background-color:  #fff7fb;\n",
       "            color:  #000000;\n",
       "        }    #T_9f2b80d0_4bfe_11ea_a8b9_0c5415364605row28_col13 {\n",
       "            background-color:  #fff7fb;\n",
       "            color:  #000000;\n",
       "        }    #T_9f2b80d0_4bfe_11ea_a8b9_0c5415364605row28_col14 {\n",
       "            background-color:  #fff7fb;\n",
       "            color:  #000000;\n",
       "        }    #T_9f2b80d0_4bfe_11ea_a8b9_0c5415364605row28_col15 {\n",
       "            background-color:  #fff7fb;\n",
       "            color:  #000000;\n",
       "        }    #T_9f2b80d0_4bfe_11ea_a8b9_0c5415364605row28_col16 {\n",
       "            background-color:  #fef6fa;\n",
       "            color:  #000000;\n",
       "        }    #T_9f2b80d0_4bfe_11ea_a8b9_0c5415364605row28_col17 {\n",
       "            background-color:  #fef6fb;\n",
       "            color:  #000000;\n",
       "        }    #T_9f2b80d0_4bfe_11ea_a8b9_0c5415364605row28_col18 {\n",
       "            background-color:  #fff7fb;\n",
       "            color:  #000000;\n",
       "        }    #T_9f2b80d0_4bfe_11ea_a8b9_0c5415364605row28_col19 {\n",
       "            background-color:  #fff7fb;\n",
       "            color:  #000000;\n",
       "        }    #T_9f2b80d0_4bfe_11ea_a8b9_0c5415364605row28_col20 {\n",
       "            background-color:  #fff7fb;\n",
       "            color:  #000000;\n",
       "        }    #T_9f2b80d0_4bfe_11ea_a8b9_0c5415364605row28_col21 {\n",
       "            background-color:  #fff7fb;\n",
       "            color:  #000000;\n",
       "        }    #T_9f2b80d0_4bfe_11ea_a8b9_0c5415364605row28_col22 {\n",
       "            background-color:  #fff7fb;\n",
       "            color:  #000000;\n",
       "        }    #T_9f2b80d0_4bfe_11ea_a8b9_0c5415364605row28_col23 {\n",
       "            background-color:  #fff7fb;\n",
       "            color:  #000000;\n",
       "        }    #T_9f2b80d0_4bfe_11ea_a8b9_0c5415364605row28_col24 {\n",
       "            background-color:  #fff7fb;\n",
       "            color:  #000000;\n",
       "        }    #T_9f2b80d0_4bfe_11ea_a8b9_0c5415364605row28_col25 {\n",
       "            background-color:  #fff7fb;\n",
       "            color:  #000000;\n",
       "        }    #T_9f2b80d0_4bfe_11ea_a8b9_0c5415364605row28_col26 {\n",
       "            background-color:  #fff7fb;\n",
       "            color:  #000000;\n",
       "        }    #T_9f2b80d0_4bfe_11ea_a8b9_0c5415364605row28_col27 {\n",
       "            background-color:  #f3edf5;\n",
       "            color:  #000000;\n",
       "        }    #T_9f2b80d0_4bfe_11ea_a8b9_0c5415364605row28_col28 {\n",
       "            background-color:  #faf2f8;\n",
       "            color:  #000000;\n",
       "        }    #T_9f2b80d0_4bfe_11ea_a8b9_0c5415364605row28_col29 {\n",
       "            background-color:  #fff7fb;\n",
       "            color:  #000000;\n",
       "        }    #T_9f2b80d0_4bfe_11ea_a8b9_0c5415364605row29_col0 {\n",
       "            background-color:  #faf3f9;\n",
       "            color:  #000000;\n",
       "        }    #T_9f2b80d0_4bfe_11ea_a8b9_0c5415364605row29_col1 {\n",
       "            background-color:  #ede8f3;\n",
       "            color:  #000000;\n",
       "        }    #T_9f2b80d0_4bfe_11ea_a8b9_0c5415364605row29_col2 {\n",
       "            background-color:  #f5eff6;\n",
       "            color:  #000000;\n",
       "        }    #T_9f2b80d0_4bfe_11ea_a8b9_0c5415364605row29_col3 {\n",
       "            background-color:  #f9f2f8;\n",
       "            color:  #000000;\n",
       "        }    #T_9f2b80d0_4bfe_11ea_a8b9_0c5415364605row29_col4 {\n",
       "            background-color:  #f7f0f7;\n",
       "            color:  #000000;\n",
       "        }    #T_9f2b80d0_4bfe_11ea_a8b9_0c5415364605row29_col5 {\n",
       "            background-color:  #faf2f8;\n",
       "            color:  #000000;\n",
       "        }    #T_9f2b80d0_4bfe_11ea_a8b9_0c5415364605row29_col6 {\n",
       "            background-color:  #f1ebf5;\n",
       "            color:  #000000;\n",
       "        }    #T_9f2b80d0_4bfe_11ea_a8b9_0c5415364605row29_col7 {\n",
       "            background-color:  #fdf5fa;\n",
       "            color:  #000000;\n",
       "        }    #T_9f2b80d0_4bfe_11ea_a8b9_0c5415364605row29_col8 {\n",
       "            background-color:  #f4eef6;\n",
       "            color:  #000000;\n",
       "        }    #T_9f2b80d0_4bfe_11ea_a8b9_0c5415364605row29_col9 {\n",
       "            background-color:  #fbf3f9;\n",
       "            color:  #000000;\n",
       "        }    #T_9f2b80d0_4bfe_11ea_a8b9_0c5415364605row29_col10 {\n",
       "            background-color:  #f9f2f8;\n",
       "            color:  #000000;\n",
       "        }    #T_9f2b80d0_4bfe_11ea_a8b9_0c5415364605row29_col11 {\n",
       "            background-color:  #fdf5fa;\n",
       "            color:  #000000;\n",
       "        }    #T_9f2b80d0_4bfe_11ea_a8b9_0c5415364605row29_col12 {\n",
       "            background-color:  #fdf5fa;\n",
       "            color:  #000000;\n",
       "        }    #T_9f2b80d0_4bfe_11ea_a8b9_0c5415364605row29_col13 {\n",
       "            background-color:  #fef6fb;\n",
       "            color:  #000000;\n",
       "        }    #T_9f2b80d0_4bfe_11ea_a8b9_0c5415364605row29_col14 {\n",
       "            background-color:  #fdf5fa;\n",
       "            color:  #000000;\n",
       "        }    #T_9f2b80d0_4bfe_11ea_a8b9_0c5415364605row29_col15 {\n",
       "            background-color:  #faf3f9;\n",
       "            color:  #000000;\n",
       "        }    #T_9f2b80d0_4bfe_11ea_a8b9_0c5415364605row29_col16 {\n",
       "            background-color:  #f9f2f8;\n",
       "            color:  #000000;\n",
       "        }    #T_9f2b80d0_4bfe_11ea_a8b9_0c5415364605row29_col17 {\n",
       "            background-color:  #f8f1f8;\n",
       "            color:  #000000;\n",
       "        }    #T_9f2b80d0_4bfe_11ea_a8b9_0c5415364605row29_col18 {\n",
       "            background-color:  #f0eaf4;\n",
       "            color:  #000000;\n",
       "        }    #T_9f2b80d0_4bfe_11ea_a8b9_0c5415364605row29_col19 {\n",
       "            background-color:  #f6eff7;\n",
       "            color:  #000000;\n",
       "        }    #T_9f2b80d0_4bfe_11ea_a8b9_0c5415364605row29_col20 {\n",
       "            background-color:  #f6eff7;\n",
       "            color:  #000000;\n",
       "        }    #T_9f2b80d0_4bfe_11ea_a8b9_0c5415364605row29_col21 {\n",
       "            background-color:  #f8f1f8;\n",
       "            color:  #000000;\n",
       "        }    #T_9f2b80d0_4bfe_11ea_a8b9_0c5415364605row29_col22 {\n",
       "            background-color:  #f8f1f8;\n",
       "            color:  #000000;\n",
       "        }    #T_9f2b80d0_4bfe_11ea_a8b9_0c5415364605row29_col23 {\n",
       "            background-color:  #f6eff7;\n",
       "            color:  #000000;\n",
       "        }    #T_9f2b80d0_4bfe_11ea_a8b9_0c5415364605row29_col24 {\n",
       "            background-color:  #f4eef6;\n",
       "            color:  #000000;\n",
       "        }    #T_9f2b80d0_4bfe_11ea_a8b9_0c5415364605row29_col25 {\n",
       "            background-color:  #f4eef6;\n",
       "            color:  #000000;\n",
       "        }    #T_9f2b80d0_4bfe_11ea_a8b9_0c5415364605row29_col26 {\n",
       "            background-color:  #f4edf6;\n",
       "            color:  #000000;\n",
       "        }    #T_9f2b80d0_4bfe_11ea_a8b9_0c5415364605row29_col27 {\n",
       "            background-color:  #f7f0f7;\n",
       "            color:  #000000;\n",
       "        }    #T_9f2b80d0_4bfe_11ea_a8b9_0c5415364605row29_col28 {\n",
       "            background-color:  #faf2f8;\n",
       "            color:  #000000;\n",
       "        }    #T_9f2b80d0_4bfe_11ea_a8b9_0c5415364605row29_col29 {\n",
       "            background-color:  #f0eaf4;\n",
       "            color:  #000000;\n",
       "        }    #T_9f2b80d0_4bfe_11ea_a8b9_0c5415364605row30_col0 {\n",
       "            background-color:  #fef6fb;\n",
       "            color:  #000000;\n",
       "        }    #T_9f2b80d0_4bfe_11ea_a8b9_0c5415364605row30_col1 {\n",
       "            background-color:  #fbf4f9;\n",
       "            color:  #000000;\n",
       "        }    #T_9f2b80d0_4bfe_11ea_a8b9_0c5415364605row30_col2 {\n",
       "            background-color:  #fcf4fa;\n",
       "            color:  #000000;\n",
       "        }    #T_9f2b80d0_4bfe_11ea_a8b9_0c5415364605row30_col3 {\n",
       "            background-color:  #fdf5fa;\n",
       "            color:  #000000;\n",
       "        }    #T_9f2b80d0_4bfe_11ea_a8b9_0c5415364605row30_col4 {\n",
       "            background-color:  #fdf5fa;\n",
       "            color:  #000000;\n",
       "        }    #T_9f2b80d0_4bfe_11ea_a8b9_0c5415364605row30_col5 {\n",
       "            background-color:  #fdf5fa;\n",
       "            color:  #000000;\n",
       "        }    #T_9f2b80d0_4bfe_11ea_a8b9_0c5415364605row30_col6 {\n",
       "            background-color:  #f8f1f8;\n",
       "            color:  #000000;\n",
       "        }    #T_9f2b80d0_4bfe_11ea_a8b9_0c5415364605row30_col7 {\n",
       "            background-color:  #faf3f9;\n",
       "            color:  #000000;\n",
       "        }    #T_9f2b80d0_4bfe_11ea_a8b9_0c5415364605row30_col8 {\n",
       "            background-color:  #f9f2f8;\n",
       "            color:  #000000;\n",
       "        }    #T_9f2b80d0_4bfe_11ea_a8b9_0c5415364605row30_col9 {\n",
       "            background-color:  #fcf4fa;\n",
       "            color:  #000000;\n",
       "        }    #T_9f2b80d0_4bfe_11ea_a8b9_0c5415364605row30_col10 {\n",
       "            background-color:  #f8f1f8;\n",
       "            color:  #000000;\n",
       "        }    #T_9f2b80d0_4bfe_11ea_a8b9_0c5415364605row30_col11 {\n",
       "            background-color:  #fdf5fa;\n",
       "            color:  #000000;\n",
       "        }    #T_9f2b80d0_4bfe_11ea_a8b9_0c5415364605row30_col12 {\n",
       "            background-color:  #fbf4f9;\n",
       "            color:  #000000;\n",
       "        }    #T_9f2b80d0_4bfe_11ea_a8b9_0c5415364605row30_col13 {\n",
       "            background-color:  #fff7fb;\n",
       "            color:  #000000;\n",
       "        }    #T_9f2b80d0_4bfe_11ea_a8b9_0c5415364605row30_col14 {\n",
       "            background-color:  #fcf4fa;\n",
       "            color:  #000000;\n",
       "        }    #T_9f2b80d0_4bfe_11ea_a8b9_0c5415364605row30_col15 {\n",
       "            background-color:  #fff7fb;\n",
       "            color:  #000000;\n",
       "        }    #T_9f2b80d0_4bfe_11ea_a8b9_0c5415364605row30_col16 {\n",
       "            background-color:  #fef6fa;\n",
       "            color:  #000000;\n",
       "        }    #T_9f2b80d0_4bfe_11ea_a8b9_0c5415364605row30_col17 {\n",
       "            background-color:  #fef6fb;\n",
       "            color:  #000000;\n",
       "        }    #T_9f2b80d0_4bfe_11ea_a8b9_0c5415364605row30_col18 {\n",
       "            background-color:  #faf2f8;\n",
       "            color:  #000000;\n",
       "        }    #T_9f2b80d0_4bfe_11ea_a8b9_0c5415364605row30_col19 {\n",
       "            background-color:  #fbf4f9;\n",
       "            color:  #000000;\n",
       "        }    #T_9f2b80d0_4bfe_11ea_a8b9_0c5415364605row30_col20 {\n",
       "            background-color:  #fbf3f9;\n",
       "            color:  #000000;\n",
       "        }    #T_9f2b80d0_4bfe_11ea_a8b9_0c5415364605row30_col21 {\n",
       "            background-color:  #fbf3f9;\n",
       "            color:  #000000;\n",
       "        }    #T_9f2b80d0_4bfe_11ea_a8b9_0c5415364605row30_col22 {\n",
       "            background-color:  #fbf3f9;\n",
       "            color:  #000000;\n",
       "        }    #T_9f2b80d0_4bfe_11ea_a8b9_0c5415364605row30_col23 {\n",
       "            background-color:  #faf2f8;\n",
       "            color:  #000000;\n",
       "        }    #T_9f2b80d0_4bfe_11ea_a8b9_0c5415364605row30_col24 {\n",
       "            background-color:  #faf2f8;\n",
       "            color:  #000000;\n",
       "        }    #T_9f2b80d0_4bfe_11ea_a8b9_0c5415364605row30_col25 {\n",
       "            background-color:  #faf2f8;\n",
       "            color:  #000000;\n",
       "        }    #T_9f2b80d0_4bfe_11ea_a8b9_0c5415364605row30_col26 {\n",
       "            background-color:  #f9f2f8;\n",
       "            color:  #000000;\n",
       "        }    #T_9f2b80d0_4bfe_11ea_a8b9_0c5415364605row30_col27 {\n",
       "            background-color:  #fef6fb;\n",
       "            color:  #000000;\n",
       "        }    #T_9f2b80d0_4bfe_11ea_a8b9_0c5415364605row30_col28 {\n",
       "            background-color:  #fbf3f9;\n",
       "            color:  #000000;\n",
       "        }    #T_9f2b80d0_4bfe_11ea_a8b9_0c5415364605row30_col29 {\n",
       "            background-color:  #fbf4f9;\n",
       "            color:  #000000;\n",
       "        }    #T_9f2b80d0_4bfe_11ea_a8b9_0c5415364605row31_col0 {\n",
       "            background-color:  #fff7fb;\n",
       "            color:  #000000;\n",
       "        }    #T_9f2b80d0_4bfe_11ea_a8b9_0c5415364605row31_col1 {\n",
       "            background-color:  #f1ebf4;\n",
       "            color:  #000000;\n",
       "        }    #T_9f2b80d0_4bfe_11ea_a8b9_0c5415364605row31_col2 {\n",
       "            background-color:  #f4edf6;\n",
       "            color:  #000000;\n",
       "        }    #T_9f2b80d0_4bfe_11ea_a8b9_0c5415364605row31_col3 {\n",
       "            background-color:  #f1ebf5;\n",
       "            color:  #000000;\n",
       "        }    #T_9f2b80d0_4bfe_11ea_a8b9_0c5415364605row31_col4 {\n",
       "            background-color:  #f2ecf5;\n",
       "            color:  #000000;\n",
       "        }    #T_9f2b80d0_4bfe_11ea_a8b9_0c5415364605row31_col5 {\n",
       "            background-color:  #f5eef6;\n",
       "            color:  #000000;\n",
       "        }    #T_9f2b80d0_4bfe_11ea_a8b9_0c5415364605row31_col6 {\n",
       "            background-color:  #f1ebf5;\n",
       "            color:  #000000;\n",
       "        }    #T_9f2b80d0_4bfe_11ea_a8b9_0c5415364605row31_col7 {\n",
       "            background-color:  #f7f0f7;\n",
       "            color:  #000000;\n",
       "        }    #T_9f2b80d0_4bfe_11ea_a8b9_0c5415364605row31_col8 {\n",
       "            background-color:  #f7f0f7;\n",
       "            color:  #000000;\n",
       "        }    #T_9f2b80d0_4bfe_11ea_a8b9_0c5415364605row31_col9 {\n",
       "            background-color:  #f8f1f8;\n",
       "            color:  #000000;\n",
       "        }    #T_9f2b80d0_4bfe_11ea_a8b9_0c5415364605row31_col10 {\n",
       "            background-color:  #f5eff6;\n",
       "            color:  #000000;\n",
       "        }    #T_9f2b80d0_4bfe_11ea_a8b9_0c5415364605row31_col11 {\n",
       "            background-color:  #faf2f8;\n",
       "            color:  #000000;\n",
       "        }    #T_9f2b80d0_4bfe_11ea_a8b9_0c5415364605row31_col12 {\n",
       "            background-color:  #faf3f9;\n",
       "            color:  #000000;\n",
       "        }    #T_9f2b80d0_4bfe_11ea_a8b9_0c5415364605row31_col13 {\n",
       "            background-color:  #fdf5fa;\n",
       "            color:  #000000;\n",
       "        }    #T_9f2b80d0_4bfe_11ea_a8b9_0c5415364605row31_col14 {\n",
       "            background-color:  #f8f1f8;\n",
       "            color:  #000000;\n",
       "        }    #T_9f2b80d0_4bfe_11ea_a8b9_0c5415364605row31_col15 {\n",
       "            background-color:  #f2ecf5;\n",
       "            color:  #000000;\n",
       "        }    #T_9f2b80d0_4bfe_11ea_a8b9_0c5415364605row31_col16 {\n",
       "            background-color:  #f5eff6;\n",
       "            color:  #000000;\n",
       "        }    #T_9f2b80d0_4bfe_11ea_a8b9_0c5415364605row31_col17 {\n",
       "            background-color:  #f5eef6;\n",
       "            color:  #000000;\n",
       "        }    #T_9f2b80d0_4bfe_11ea_a8b9_0c5415364605row31_col18 {\n",
       "            background-color:  #f3edf5;\n",
       "            color:  #000000;\n",
       "        }    #T_9f2b80d0_4bfe_11ea_a8b9_0c5415364605row31_col19 {\n",
       "            background-color:  #f8f1f8;\n",
       "            color:  #000000;\n",
       "        }    #T_9f2b80d0_4bfe_11ea_a8b9_0c5415364605row31_col20 {\n",
       "            background-color:  #f8f1f8;\n",
       "            color:  #000000;\n",
       "        }    #T_9f2b80d0_4bfe_11ea_a8b9_0c5415364605row31_col21 {\n",
       "            background-color:  #f8f1f8;\n",
       "            color:  #000000;\n",
       "        }    #T_9f2b80d0_4bfe_11ea_a8b9_0c5415364605row31_col22 {\n",
       "            background-color:  #f8f1f8;\n",
       "            color:  #000000;\n",
       "        }    #T_9f2b80d0_4bfe_11ea_a8b9_0c5415364605row31_col23 {\n",
       "            background-color:  #f8f1f8;\n",
       "            color:  #000000;\n",
       "        }    #T_9f2b80d0_4bfe_11ea_a8b9_0c5415364605row31_col24 {\n",
       "            background-color:  #f7f0f7;\n",
       "            color:  #000000;\n",
       "        }    #T_9f2b80d0_4bfe_11ea_a8b9_0c5415364605row31_col25 {\n",
       "            background-color:  #f7f0f7;\n",
       "            color:  #000000;\n",
       "        }    #T_9f2b80d0_4bfe_11ea_a8b9_0c5415364605row31_col26 {\n",
       "            background-color:  #f8f1f8;\n",
       "            color:  #000000;\n",
       "        }    #T_9f2b80d0_4bfe_11ea_a8b9_0c5415364605row31_col27 {\n",
       "            background-color:  #fbf3f9;\n",
       "            color:  #000000;\n",
       "        }    #T_9f2b80d0_4bfe_11ea_a8b9_0c5415364605row31_col28 {\n",
       "            background-color:  #fbf3f9;\n",
       "            color:  #000000;\n",
       "        }    #T_9f2b80d0_4bfe_11ea_a8b9_0c5415364605row31_col29 {\n",
       "            background-color:  #f5eef6;\n",
       "            color:  #000000;\n",
       "        }    #T_9f2b80d0_4bfe_11ea_a8b9_0c5415364605row32_col0 {\n",
       "            background-color:  #fff7fb;\n",
       "            color:  #000000;\n",
       "        }    #T_9f2b80d0_4bfe_11ea_a8b9_0c5415364605row32_col1 {\n",
       "            background-color:  #f7f0f7;\n",
       "            color:  #000000;\n",
       "        }    #T_9f2b80d0_4bfe_11ea_a8b9_0c5415364605row32_col2 {\n",
       "            background-color:  #faf3f9;\n",
       "            color:  #000000;\n",
       "        }    #T_9f2b80d0_4bfe_11ea_a8b9_0c5415364605row32_col3 {\n",
       "            background-color:  #f5eef6;\n",
       "            color:  #000000;\n",
       "        }    #T_9f2b80d0_4bfe_11ea_a8b9_0c5415364605row32_col4 {\n",
       "            background-color:  #f8f1f8;\n",
       "            color:  #000000;\n",
       "        }    #T_9f2b80d0_4bfe_11ea_a8b9_0c5415364605row32_col5 {\n",
       "            background-color:  #fbf4f9;\n",
       "            color:  #000000;\n",
       "        }    #T_9f2b80d0_4bfe_11ea_a8b9_0c5415364605row32_col6 {\n",
       "            background-color:  #f7f0f7;\n",
       "            color:  #000000;\n",
       "        }    #T_9f2b80d0_4bfe_11ea_a8b9_0c5415364605row32_col7 {\n",
       "            background-color:  #fff7fb;\n",
       "            color:  #000000;\n",
       "        }    #T_9f2b80d0_4bfe_11ea_a8b9_0c5415364605row32_col8 {\n",
       "            background-color:  #faf3f9;\n",
       "            color:  #000000;\n",
       "        }    #T_9f2b80d0_4bfe_11ea_a8b9_0c5415364605row32_col9 {\n",
       "            background-color:  #fff7fb;\n",
       "            color:  #000000;\n",
       "        }    #T_9f2b80d0_4bfe_11ea_a8b9_0c5415364605row32_col10 {\n",
       "            background-color:  #f7f0f7;\n",
       "            color:  #000000;\n",
       "        }    #T_9f2b80d0_4bfe_11ea_a8b9_0c5415364605row32_col11 {\n",
       "            background-color:  #fef6fa;\n",
       "            color:  #000000;\n",
       "        }    #T_9f2b80d0_4bfe_11ea_a8b9_0c5415364605row32_col12 {\n",
       "            background-color:  #fef6fb;\n",
       "            color:  #000000;\n",
       "        }    #T_9f2b80d0_4bfe_11ea_a8b9_0c5415364605row32_col13 {\n",
       "            background-color:  #fff7fb;\n",
       "            color:  #000000;\n",
       "        }    #T_9f2b80d0_4bfe_11ea_a8b9_0c5415364605row32_col14 {\n",
       "            background-color:  #fff7fb;\n",
       "            color:  #000000;\n",
       "        }    #T_9f2b80d0_4bfe_11ea_a8b9_0c5415364605row32_col15 {\n",
       "            background-color:  #fbf4f9;\n",
       "            color:  #000000;\n",
       "        }    #T_9f2b80d0_4bfe_11ea_a8b9_0c5415364605row32_col16 {\n",
       "            background-color:  #fdf5fa;\n",
       "            color:  #000000;\n",
       "        }    #T_9f2b80d0_4bfe_11ea_a8b9_0c5415364605row32_col17 {\n",
       "            background-color:  #fdf5fa;\n",
       "            color:  #000000;\n",
       "        }    #T_9f2b80d0_4bfe_11ea_a8b9_0c5415364605row32_col18 {\n",
       "            background-color:  #fff7fb;\n",
       "            color:  #000000;\n",
       "        }    #T_9f2b80d0_4bfe_11ea_a8b9_0c5415364605row32_col19 {\n",
       "            background-color:  #faf2f8;\n",
       "            color:  #000000;\n",
       "        }    #T_9f2b80d0_4bfe_11ea_a8b9_0c5415364605row32_col20 {\n",
       "            background-color:  #fcf4fa;\n",
       "            color:  #000000;\n",
       "        }    #T_9f2b80d0_4bfe_11ea_a8b9_0c5415364605row32_col21 {\n",
       "            background-color:  #fbf4f9;\n",
       "            color:  #000000;\n",
       "        }    #T_9f2b80d0_4bfe_11ea_a8b9_0c5415364605row32_col22 {\n",
       "            background-color:  #fbf4f9;\n",
       "            color:  #000000;\n",
       "        }    #T_9f2b80d0_4bfe_11ea_a8b9_0c5415364605row32_col23 {\n",
       "            background-color:  #fbf3f9;\n",
       "            color:  #000000;\n",
       "        }    #T_9f2b80d0_4bfe_11ea_a8b9_0c5415364605row32_col24 {\n",
       "            background-color:  #fbf3f9;\n",
       "            color:  #000000;\n",
       "        }    #T_9f2b80d0_4bfe_11ea_a8b9_0c5415364605row32_col25 {\n",
       "            background-color:  #fbf3f9;\n",
       "            color:  #000000;\n",
       "        }    #T_9f2b80d0_4bfe_11ea_a8b9_0c5415364605row32_col26 {\n",
       "            background-color:  #faf3f9;\n",
       "            color:  #000000;\n",
       "        }    #T_9f2b80d0_4bfe_11ea_a8b9_0c5415364605row32_col27 {\n",
       "            background-color:  #fdf5fa;\n",
       "            color:  #000000;\n",
       "        }    #T_9f2b80d0_4bfe_11ea_a8b9_0c5415364605row32_col28 {\n",
       "            background-color:  #fcf4fa;\n",
       "            color:  #000000;\n",
       "        }    #T_9f2b80d0_4bfe_11ea_a8b9_0c5415364605row32_col29 {\n",
       "            background-color:  #faf3f9;\n",
       "            color:  #000000;\n",
       "        }    #T_9f2b80d0_4bfe_11ea_a8b9_0c5415364605row33_col0 {\n",
       "            background-color:  #fdf5fa;\n",
       "            color:  #000000;\n",
       "        }    #T_9f2b80d0_4bfe_11ea_a8b9_0c5415364605row33_col1 {\n",
       "            background-color:  #eee8f3;\n",
       "            color:  #000000;\n",
       "        }    #T_9f2b80d0_4bfe_11ea_a8b9_0c5415364605row33_col2 {\n",
       "            background-color:  #f5eef6;\n",
       "            color:  #000000;\n",
       "        }    #T_9f2b80d0_4bfe_11ea_a8b9_0c5415364605row33_col3 {\n",
       "            background-color:  #f7f0f7;\n",
       "            color:  #000000;\n",
       "        }    #T_9f2b80d0_4bfe_11ea_a8b9_0c5415364605row33_col4 {\n",
       "            background-color:  #f8f1f8;\n",
       "            color:  #000000;\n",
       "        }    #T_9f2b80d0_4bfe_11ea_a8b9_0c5415364605row33_col5 {\n",
       "            background-color:  #f8f1f8;\n",
       "            color:  #000000;\n",
       "        }    #T_9f2b80d0_4bfe_11ea_a8b9_0c5415364605row33_col6 {\n",
       "            background-color:  #e9e5f1;\n",
       "            color:  #000000;\n",
       "        }    #T_9f2b80d0_4bfe_11ea_a8b9_0c5415364605row33_col7 {\n",
       "            background-color:  #fbf3f9;\n",
       "            color:  #000000;\n",
       "        }    #T_9f2b80d0_4bfe_11ea_a8b9_0c5415364605row33_col8 {\n",
       "            background-color:  #f8f1f8;\n",
       "            color:  #000000;\n",
       "        }    #T_9f2b80d0_4bfe_11ea_a8b9_0c5415364605row33_col9 {\n",
       "            background-color:  #fbf4f9;\n",
       "            color:  #000000;\n",
       "        }    #T_9f2b80d0_4bfe_11ea_a8b9_0c5415364605row33_col10 {\n",
       "            background-color:  #f1ebf5;\n",
       "            color:  #000000;\n",
       "        }    #T_9f2b80d0_4bfe_11ea_a8b9_0c5415364605row33_col11 {\n",
       "            background-color:  #f6eff7;\n",
       "            color:  #000000;\n",
       "        }    #T_9f2b80d0_4bfe_11ea_a8b9_0c5415364605row33_col12 {\n",
       "            background-color:  #f8f1f8;\n",
       "            color:  #000000;\n",
       "        }    #T_9f2b80d0_4bfe_11ea_a8b9_0c5415364605row33_col13 {\n",
       "            background-color:  #fdf5fa;\n",
       "            color:  #000000;\n",
       "        }    #T_9f2b80d0_4bfe_11ea_a8b9_0c5415364605row33_col14 {\n",
       "            background-color:  #f8f1f8;\n",
       "            color:  #000000;\n",
       "        }    #T_9f2b80d0_4bfe_11ea_a8b9_0c5415364605row33_col15 {\n",
       "            background-color:  #f4eef6;\n",
       "            color:  #000000;\n",
       "        }    #T_9f2b80d0_4bfe_11ea_a8b9_0c5415364605row33_col16 {\n",
       "            background-color:  #f0eaf4;\n",
       "            color:  #000000;\n",
       "        }    #T_9f2b80d0_4bfe_11ea_a8b9_0c5415364605row33_col17 {\n",
       "            background-color:  #f1ebf5;\n",
       "            color:  #000000;\n",
       "        }    #T_9f2b80d0_4bfe_11ea_a8b9_0c5415364605row33_col18 {\n",
       "            background-color:  #f1ebf5;\n",
       "            color:  #000000;\n",
       "        }    #T_9f2b80d0_4bfe_11ea_a8b9_0c5415364605row33_col19 {\n",
       "            background-color:  #f8f1f8;\n",
       "            color:  #000000;\n",
       "        }    #T_9f2b80d0_4bfe_11ea_a8b9_0c5415364605row33_col20 {\n",
       "            background-color:  #f8f1f8;\n",
       "            color:  #000000;\n",
       "        }    #T_9f2b80d0_4bfe_11ea_a8b9_0c5415364605row33_col21 {\n",
       "            background-color:  #f9f2f8;\n",
       "            color:  #000000;\n",
       "        }    #T_9f2b80d0_4bfe_11ea_a8b9_0c5415364605row33_col22 {\n",
       "            background-color:  #f9f2f8;\n",
       "            color:  #000000;\n",
       "        }    #T_9f2b80d0_4bfe_11ea_a8b9_0c5415364605row33_col23 {\n",
       "            background-color:  #f8f1f8;\n",
       "            color:  #000000;\n",
       "        }    #T_9f2b80d0_4bfe_11ea_a8b9_0c5415364605row33_col24 {\n",
       "            background-color:  #f7f0f7;\n",
       "            color:  #000000;\n",
       "        }    #T_9f2b80d0_4bfe_11ea_a8b9_0c5415364605row33_col25 {\n",
       "            background-color:  #f7f0f7;\n",
       "            color:  #000000;\n",
       "        }    #T_9f2b80d0_4bfe_11ea_a8b9_0c5415364605row33_col26 {\n",
       "            background-color:  #f5eff6;\n",
       "            color:  #000000;\n",
       "        }    #T_9f2b80d0_4bfe_11ea_a8b9_0c5415364605row33_col27 {\n",
       "            background-color:  #fbf4f9;\n",
       "            color:  #000000;\n",
       "        }    #T_9f2b80d0_4bfe_11ea_a8b9_0c5415364605row33_col28 {\n",
       "            background-color:  #fcf4fa;\n",
       "            color:  #000000;\n",
       "        }    #T_9f2b80d0_4bfe_11ea_a8b9_0c5415364605row33_col29 {\n",
       "            background-color:  #f8f1f8;\n",
       "            color:  #000000;\n",
       "        }    #T_9f2b80d0_4bfe_11ea_a8b9_0c5415364605row34_col0 {\n",
       "            background-color:  #fef6fa;\n",
       "            color:  #000000;\n",
       "        }    #T_9f2b80d0_4bfe_11ea_a8b9_0c5415364605row34_col1 {\n",
       "            background-color:  #efe9f3;\n",
       "            color:  #000000;\n",
       "        }    #T_9f2b80d0_4bfe_11ea_a8b9_0c5415364605row34_col2 {\n",
       "            background-color:  #efe9f3;\n",
       "            color:  #000000;\n",
       "        }    #T_9f2b80d0_4bfe_11ea_a8b9_0c5415364605row34_col3 {\n",
       "            background-color:  #e9e5f1;\n",
       "            color:  #000000;\n",
       "        }    #T_9f2b80d0_4bfe_11ea_a8b9_0c5415364605row34_col4 {\n",
       "            background-color:  #ede8f3;\n",
       "            color:  #000000;\n",
       "        }    #T_9f2b80d0_4bfe_11ea_a8b9_0c5415364605row34_col5 {\n",
       "            background-color:  #eee9f3;\n",
       "            color:  #000000;\n",
       "        }    #T_9f2b80d0_4bfe_11ea_a8b9_0c5415364605row34_col6 {\n",
       "            background-color:  #e6e2ef;\n",
       "            color:  #000000;\n",
       "        }    #T_9f2b80d0_4bfe_11ea_a8b9_0c5415364605row34_col7 {\n",
       "            background-color:  #acc0dd;\n",
       "            color:  #000000;\n",
       "        }    #T_9f2b80d0_4bfe_11ea_a8b9_0c5415364605row34_col8 {\n",
       "            background-color:  #f8f1f8;\n",
       "            color:  #000000;\n",
       "        }    #T_9f2b80d0_4bfe_11ea_a8b9_0c5415364605row34_col9 {\n",
       "            background-color:  #f8f1f8;\n",
       "            color:  #000000;\n",
       "        }    #T_9f2b80d0_4bfe_11ea_a8b9_0c5415364605row34_col10 {\n",
       "            background-color:  #e7e3f0;\n",
       "            color:  #000000;\n",
       "        }    #T_9f2b80d0_4bfe_11ea_a8b9_0c5415364605row34_col11 {\n",
       "            background-color:  #f8f1f8;\n",
       "            color:  #000000;\n",
       "        }    #T_9f2b80d0_4bfe_11ea_a8b9_0c5415364605row34_col12 {\n",
       "            background-color:  #f8f1f8;\n",
       "            color:  #000000;\n",
       "        }    #T_9f2b80d0_4bfe_11ea_a8b9_0c5415364605row34_col13 {\n",
       "            background-color:  #fdf5fa;\n",
       "            color:  #000000;\n",
       "        }    #T_9f2b80d0_4bfe_11ea_a8b9_0c5415364605row34_col14 {\n",
       "            background-color:  #f7f0f7;\n",
       "            color:  #000000;\n",
       "        }    #T_9f2b80d0_4bfe_11ea_a8b9_0c5415364605row34_col15 {\n",
       "            background-color:  #f7f0f7;\n",
       "            color:  #000000;\n",
       "        }    #T_9f2b80d0_4bfe_11ea_a8b9_0c5415364605row34_col16 {\n",
       "            background-color:  #f8f1f8;\n",
       "            color:  #000000;\n",
       "        }    #T_9f2b80d0_4bfe_11ea_a8b9_0c5415364605row34_col17 {\n",
       "            background-color:  #f8f1f8;\n",
       "            color:  #000000;\n",
       "        }    #T_9f2b80d0_4bfe_11ea_a8b9_0c5415364605row34_col18 {\n",
       "            background-color:  #f7f0f7;\n",
       "            color:  #000000;\n",
       "        }    #T_9f2b80d0_4bfe_11ea_a8b9_0c5415364605row34_col19 {\n",
       "            background-color:  #f8f1f8;\n",
       "            color:  #000000;\n",
       "        }    #T_9f2b80d0_4bfe_11ea_a8b9_0c5415364605row34_col20 {\n",
       "            background-color:  #faf3f9;\n",
       "            color:  #000000;\n",
       "        }    #T_9f2b80d0_4bfe_11ea_a8b9_0c5415364605row34_col21 {\n",
       "            background-color:  #f7f0f7;\n",
       "            color:  #000000;\n",
       "        }    #T_9f2b80d0_4bfe_11ea_a8b9_0c5415364605row34_col22 {\n",
       "            background-color:  #f8f1f8;\n",
       "            color:  #000000;\n",
       "        }    #T_9f2b80d0_4bfe_11ea_a8b9_0c5415364605row34_col23 {\n",
       "            background-color:  #f7f0f7;\n",
       "            color:  #000000;\n",
       "        }    #T_9f2b80d0_4bfe_11ea_a8b9_0c5415364605row34_col24 {\n",
       "            background-color:  #f6eff7;\n",
       "            color:  #000000;\n",
       "        }    #T_9f2b80d0_4bfe_11ea_a8b9_0c5415364605row34_col25 {\n",
       "            background-color:  #f7f0f7;\n",
       "            color:  #000000;\n",
       "        }    #T_9f2b80d0_4bfe_11ea_a8b9_0c5415364605row34_col26 {\n",
       "            background-color:  #f6eff7;\n",
       "            color:  #000000;\n",
       "        }    #T_9f2b80d0_4bfe_11ea_a8b9_0c5415364605row34_col27 {\n",
       "            background-color:  #faf3f9;\n",
       "            color:  #000000;\n",
       "        }    #T_9f2b80d0_4bfe_11ea_a8b9_0c5415364605row34_col28 {\n",
       "            background-color:  #fcf4fa;\n",
       "            color:  #000000;\n",
       "        }    #T_9f2b80d0_4bfe_11ea_a8b9_0c5415364605row34_col29 {\n",
       "            background-color:  #faf2f8;\n",
       "            color:  #000000;\n",
       "        }    #T_9f2b80d0_4bfe_11ea_a8b9_0c5415364605row35_col0 {\n",
       "            background-color:  #fff7fb;\n",
       "            color:  #000000;\n",
       "        }    #T_9f2b80d0_4bfe_11ea_a8b9_0c5415364605row35_col1 {\n",
       "            background-color:  #fbf4f9;\n",
       "            color:  #000000;\n",
       "        }    #T_9f2b80d0_4bfe_11ea_a8b9_0c5415364605row35_col2 {\n",
       "            background-color:  #fdf5fa;\n",
       "            color:  #000000;\n",
       "        }    #T_9f2b80d0_4bfe_11ea_a8b9_0c5415364605row35_col3 {\n",
       "            background-color:  #fbf3f9;\n",
       "            color:  #000000;\n",
       "        }    #T_9f2b80d0_4bfe_11ea_a8b9_0c5415364605row35_col4 {\n",
       "            background-color:  #fbf3f9;\n",
       "            color:  #000000;\n",
       "        }    #T_9f2b80d0_4bfe_11ea_a8b9_0c5415364605row35_col5 {\n",
       "            background-color:  #fbf3f9;\n",
       "            color:  #000000;\n",
       "        }    #T_9f2b80d0_4bfe_11ea_a8b9_0c5415364605row35_col6 {\n",
       "            background-color:  #fdf5fa;\n",
       "            color:  #000000;\n",
       "        }    #T_9f2b80d0_4bfe_11ea_a8b9_0c5415364605row35_col7 {\n",
       "            background-color:  #fff7fb;\n",
       "            color:  #000000;\n",
       "        }    #T_9f2b80d0_4bfe_11ea_a8b9_0c5415364605row35_col8 {\n",
       "            background-color:  #fff7fb;\n",
       "            color:  #000000;\n",
       "        }    #T_9f2b80d0_4bfe_11ea_a8b9_0c5415364605row35_col9 {\n",
       "            background-color:  #fff7fb;\n",
       "            color:  #000000;\n",
       "        }    #T_9f2b80d0_4bfe_11ea_a8b9_0c5415364605row35_col10 {\n",
       "            background-color:  #fef6fa;\n",
       "            color:  #000000;\n",
       "        }    #T_9f2b80d0_4bfe_11ea_a8b9_0c5415364605row35_col11 {\n",
       "            background-color:  #fff7fb;\n",
       "            color:  #000000;\n",
       "        }    #T_9f2b80d0_4bfe_11ea_a8b9_0c5415364605row35_col12 {\n",
       "            background-color:  #fff7fb;\n",
       "            color:  #000000;\n",
       "        }    #T_9f2b80d0_4bfe_11ea_a8b9_0c5415364605row35_col13 {\n",
       "            background-color:  #fff7fb;\n",
       "            color:  #000000;\n",
       "        }    #T_9f2b80d0_4bfe_11ea_a8b9_0c5415364605row35_col14 {\n",
       "            background-color:  #fff7fb;\n",
       "            color:  #000000;\n",
       "        }    #T_9f2b80d0_4bfe_11ea_a8b9_0c5415364605row35_col15 {\n",
       "            background-color:  #fef6fb;\n",
       "            color:  #000000;\n",
       "        }    #T_9f2b80d0_4bfe_11ea_a8b9_0c5415364605row35_col16 {\n",
       "            background-color:  #fef6fa;\n",
       "            color:  #000000;\n",
       "        }    #T_9f2b80d0_4bfe_11ea_a8b9_0c5415364605row35_col17 {\n",
       "            background-color:  #fdf5fa;\n",
       "            color:  #000000;\n",
       "        }    #T_9f2b80d0_4bfe_11ea_a8b9_0c5415364605row35_col18 {\n",
       "            background-color:  #faf2f8;\n",
       "            color:  #000000;\n",
       "        }    #T_9f2b80d0_4bfe_11ea_a8b9_0c5415364605row35_col19 {\n",
       "            background-color:  #fbf4f9;\n",
       "            color:  #000000;\n",
       "        }    #T_9f2b80d0_4bfe_11ea_a8b9_0c5415364605row35_col20 {\n",
       "            background-color:  #fdf5fa;\n",
       "            color:  #000000;\n",
       "        }    #T_9f2b80d0_4bfe_11ea_a8b9_0c5415364605row35_col21 {\n",
       "            background-color:  #fcf4fa;\n",
       "            color:  #000000;\n",
       "        }    #T_9f2b80d0_4bfe_11ea_a8b9_0c5415364605row35_col22 {\n",
       "            background-color:  #fbf4f9;\n",
       "            color:  #000000;\n",
       "        }    #T_9f2b80d0_4bfe_11ea_a8b9_0c5415364605row35_col23 {\n",
       "            background-color:  #fcf4fa;\n",
       "            color:  #000000;\n",
       "        }    #T_9f2b80d0_4bfe_11ea_a8b9_0c5415364605row35_col24 {\n",
       "            background-color:  #fbf4f9;\n",
       "            color:  #000000;\n",
       "        }    #T_9f2b80d0_4bfe_11ea_a8b9_0c5415364605row35_col25 {\n",
       "            background-color:  #fcf4fa;\n",
       "            color:  #000000;\n",
       "        }    #T_9f2b80d0_4bfe_11ea_a8b9_0c5415364605row35_col26 {\n",
       "            background-color:  #fcf4fa;\n",
       "            color:  #000000;\n",
       "        }    #T_9f2b80d0_4bfe_11ea_a8b9_0c5415364605row35_col27 {\n",
       "            background-color:  #fef6fb;\n",
       "            color:  #000000;\n",
       "        }    #T_9f2b80d0_4bfe_11ea_a8b9_0c5415364605row35_col28 {\n",
       "            background-color:  #fcf4fa;\n",
       "            color:  #000000;\n",
       "        }    #T_9f2b80d0_4bfe_11ea_a8b9_0c5415364605row35_col29 {\n",
       "            background-color:  #fef6fa;\n",
       "            color:  #000000;\n",
       "        }    #T_9f2b80d0_4bfe_11ea_a8b9_0c5415364605row36_col0 {\n",
       "            background-color:  #f0eaf4;\n",
       "            color:  #000000;\n",
       "        }    #T_9f2b80d0_4bfe_11ea_a8b9_0c5415364605row36_col1 {\n",
       "            background-color:  #eee8f3;\n",
       "            color:  #000000;\n",
       "        }    #T_9f2b80d0_4bfe_11ea_a8b9_0c5415364605row36_col2 {\n",
       "            background-color:  #f0eaf4;\n",
       "            color:  #000000;\n",
       "        }    #T_9f2b80d0_4bfe_11ea_a8b9_0c5415364605row36_col3 {\n",
       "            background-color:  #f4edf6;\n",
       "            color:  #000000;\n",
       "        }    #T_9f2b80d0_4bfe_11ea_a8b9_0c5415364605row36_col4 {\n",
       "            background-color:  #f1ebf5;\n",
       "            color:  #000000;\n",
       "        }    #T_9f2b80d0_4bfe_11ea_a8b9_0c5415364605row36_col5 {\n",
       "            background-color:  #f2ecf5;\n",
       "            color:  #000000;\n",
       "        }    #T_9f2b80d0_4bfe_11ea_a8b9_0c5415364605row36_col6 {\n",
       "            background-color:  #f0eaf4;\n",
       "            color:  #000000;\n",
       "        }    #T_9f2b80d0_4bfe_11ea_a8b9_0c5415364605row36_col7 {\n",
       "            background-color:  #5ea0ca;\n",
       "            color:  #000000;\n",
       "        }    #T_9f2b80d0_4bfe_11ea_a8b9_0c5415364605row36_col8 {\n",
       "            background-color:  #e0deed;\n",
       "            color:  #000000;\n",
       "        }    #T_9f2b80d0_4bfe_11ea_a8b9_0c5415364605row36_col9 {\n",
       "            background-color:  #faf2f8;\n",
       "            color:  #000000;\n",
       "        }    #T_9f2b80d0_4bfe_11ea_a8b9_0c5415364605row36_col10 {\n",
       "            background-color:  #e9e5f1;\n",
       "            color:  #000000;\n",
       "        }    #T_9f2b80d0_4bfe_11ea_a8b9_0c5415364605row36_col11 {\n",
       "            background-color:  #f8f1f8;\n",
       "            color:  #000000;\n",
       "        }    #T_9f2b80d0_4bfe_11ea_a8b9_0c5415364605row36_col12 {\n",
       "            background-color:  #f6eff7;\n",
       "            color:  #000000;\n",
       "        }    #T_9f2b80d0_4bfe_11ea_a8b9_0c5415364605row36_col13 {\n",
       "            background-color:  #fdf5fa;\n",
       "            color:  #000000;\n",
       "        }    #T_9f2b80d0_4bfe_11ea_a8b9_0c5415364605row36_col14 {\n",
       "            background-color:  #f2ecf5;\n",
       "            color:  #000000;\n",
       "        }    #T_9f2b80d0_4bfe_11ea_a8b9_0c5415364605row36_col15 {\n",
       "            background-color:  #f8f1f8;\n",
       "            color:  #000000;\n",
       "        }    #T_9f2b80d0_4bfe_11ea_a8b9_0c5415364605row36_col16 {\n",
       "            background-color:  #f5eff6;\n",
       "            color:  #000000;\n",
       "        }    #T_9f2b80d0_4bfe_11ea_a8b9_0c5415364605row36_col17 {\n",
       "            background-color:  #ede8f3;\n",
       "            color:  #000000;\n",
       "        }    #T_9f2b80d0_4bfe_11ea_a8b9_0c5415364605row36_col18 {\n",
       "            background-color:  #ebe6f2;\n",
       "            color:  #000000;\n",
       "        }    #T_9f2b80d0_4bfe_11ea_a8b9_0c5415364605row36_col19 {\n",
       "            background-color:  #f5eff6;\n",
       "            color:  #000000;\n",
       "        }    #T_9f2b80d0_4bfe_11ea_a8b9_0c5415364605row36_col20 {\n",
       "            background-color:  #efe9f3;\n",
       "            color:  #000000;\n",
       "        }    #T_9f2b80d0_4bfe_11ea_a8b9_0c5415364605row36_col21 {\n",
       "            background-color:  #f0eaf4;\n",
       "            color:  #000000;\n",
       "        }    #T_9f2b80d0_4bfe_11ea_a8b9_0c5415364605row36_col22 {\n",
       "            background-color:  #eee9f3;\n",
       "            color:  #000000;\n",
       "        }    #T_9f2b80d0_4bfe_11ea_a8b9_0c5415364605row36_col23 {\n",
       "            background-color:  #eee9f3;\n",
       "            color:  #000000;\n",
       "        }    #T_9f2b80d0_4bfe_11ea_a8b9_0c5415364605row36_col24 {\n",
       "            background-color:  #efe9f3;\n",
       "            color:  #000000;\n",
       "        }    #T_9f2b80d0_4bfe_11ea_a8b9_0c5415364605row36_col25 {\n",
       "            background-color:  #f1ebf4;\n",
       "            color:  #000000;\n",
       "        }    #T_9f2b80d0_4bfe_11ea_a8b9_0c5415364605row36_col26 {\n",
       "            background-color:  #eee9f3;\n",
       "            color:  #000000;\n",
       "        }    #T_9f2b80d0_4bfe_11ea_a8b9_0c5415364605row36_col27 {\n",
       "            background-color:  #eee8f3;\n",
       "            color:  #000000;\n",
       "        }    #T_9f2b80d0_4bfe_11ea_a8b9_0c5415364605row36_col28 {\n",
       "            background-color:  #fdf5fa;\n",
       "            color:  #000000;\n",
       "        }    #T_9f2b80d0_4bfe_11ea_a8b9_0c5415364605row36_col29 {\n",
       "            background-color:  #e9e5f1;\n",
       "            color:  #000000;\n",
       "        }    #T_9f2b80d0_4bfe_11ea_a8b9_0c5415364605row37_col0 {\n",
       "            background-color:  #fff7fb;\n",
       "            color:  #000000;\n",
       "        }    #T_9f2b80d0_4bfe_11ea_a8b9_0c5415364605row37_col1 {\n",
       "            background-color:  #e7e3f0;\n",
       "            color:  #000000;\n",
       "        }    #T_9f2b80d0_4bfe_11ea_a8b9_0c5415364605row37_col2 {\n",
       "            background-color:  #e7e3f0;\n",
       "            color:  #000000;\n",
       "        }    #T_9f2b80d0_4bfe_11ea_a8b9_0c5415364605row37_col3 {\n",
       "            background-color:  #e0dded;\n",
       "            color:  #000000;\n",
       "        }    #T_9f2b80d0_4bfe_11ea_a8b9_0c5415364605row37_col4 {\n",
       "            background-color:  #e7e3f0;\n",
       "            color:  #000000;\n",
       "        }    #T_9f2b80d0_4bfe_11ea_a8b9_0c5415364605row37_col5 {\n",
       "            background-color:  #eae6f1;\n",
       "            color:  #000000;\n",
       "        }    #T_9f2b80d0_4bfe_11ea_a8b9_0c5415364605row37_col6 {\n",
       "            background-color:  #cacee5;\n",
       "            color:  #000000;\n",
       "        }    #T_9f2b80d0_4bfe_11ea_a8b9_0c5415364605row37_col7 {\n",
       "            background-color:  #fff7fb;\n",
       "            color:  #000000;\n",
       "        }    #T_9f2b80d0_4bfe_11ea_a8b9_0c5415364605row37_col8 {\n",
       "            background-color:  #ced0e6;\n",
       "            color:  #000000;\n",
       "        }    #T_9f2b80d0_4bfe_11ea_a8b9_0c5415364605row37_col9 {\n",
       "            background-color:  #c8cde4;\n",
       "            color:  #000000;\n",
       "        }    #T_9f2b80d0_4bfe_11ea_a8b9_0c5415364605row37_col10 {\n",
       "            background-color:  #d8d7e9;\n",
       "            color:  #000000;\n",
       "        }    #T_9f2b80d0_4bfe_11ea_a8b9_0c5415364605row37_col11 {\n",
       "            background-color:  #e7e3f0;\n",
       "            color:  #000000;\n",
       "        }    #T_9f2b80d0_4bfe_11ea_a8b9_0c5415364605row37_col12 {\n",
       "            background-color:  #e3e0ee;\n",
       "            color:  #000000;\n",
       "        }    #T_9f2b80d0_4bfe_11ea_a8b9_0c5415364605row37_col13 {\n",
       "            background-color:  #f0eaf4;\n",
       "            color:  #000000;\n",
       "        }    #T_9f2b80d0_4bfe_11ea_a8b9_0c5415364605row37_col14 {\n",
       "            background-color:  #e4e1ef;\n",
       "            color:  #000000;\n",
       "        }    #T_9f2b80d0_4bfe_11ea_a8b9_0c5415364605row37_col15 {\n",
       "            background-color:  #f1ebf5;\n",
       "            color:  #000000;\n",
       "        }    #T_9f2b80d0_4bfe_11ea_a8b9_0c5415364605row37_col16 {\n",
       "            background-color:  #f8f1f8;\n",
       "            color:  #000000;\n",
       "        }    #T_9f2b80d0_4bfe_11ea_a8b9_0c5415364605row37_col17 {\n",
       "            background-color:  #f4eef6;\n",
       "            color:  #000000;\n",
       "        }    #T_9f2b80d0_4bfe_11ea_a8b9_0c5415364605row37_col18 {\n",
       "            background-color:  #ede8f3;\n",
       "            color:  #000000;\n",
       "        }    #T_9f2b80d0_4bfe_11ea_a8b9_0c5415364605row37_col19 {\n",
       "            background-color:  #f5eef6;\n",
       "            color:  #000000;\n",
       "        }    #T_9f2b80d0_4bfe_11ea_a8b9_0c5415364605row37_col20 {\n",
       "            background-color:  #f4edf6;\n",
       "            color:  #000000;\n",
       "        }    #T_9f2b80d0_4bfe_11ea_a8b9_0c5415364605row37_col21 {\n",
       "            background-color:  #f5eff6;\n",
       "            color:  #000000;\n",
       "        }    #T_9f2b80d0_4bfe_11ea_a8b9_0c5415364605row37_col22 {\n",
       "            background-color:  #f7f0f7;\n",
       "            color:  #000000;\n",
       "        }    #T_9f2b80d0_4bfe_11ea_a8b9_0c5415364605row37_col23 {\n",
       "            background-color:  #f5eff6;\n",
       "            color:  #000000;\n",
       "        }    #T_9f2b80d0_4bfe_11ea_a8b9_0c5415364605row37_col24 {\n",
       "            background-color:  #f5eef6;\n",
       "            color:  #000000;\n",
       "        }    #T_9f2b80d0_4bfe_11ea_a8b9_0c5415364605row37_col25 {\n",
       "            background-color:  #f5eff6;\n",
       "            color:  #000000;\n",
       "        }    #T_9f2b80d0_4bfe_11ea_a8b9_0c5415364605row37_col26 {\n",
       "            background-color:  #f5eff6;\n",
       "            color:  #000000;\n",
       "        }    #T_9f2b80d0_4bfe_11ea_a8b9_0c5415364605row37_col27 {\n",
       "            background-color:  #f8f1f8;\n",
       "            color:  #000000;\n",
       "        }    #T_9f2b80d0_4bfe_11ea_a8b9_0c5415364605row37_col28 {\n",
       "            background-color:  #fdf5fa;\n",
       "            color:  #000000;\n",
       "        }    #T_9f2b80d0_4bfe_11ea_a8b9_0c5415364605row37_col29 {\n",
       "            background-color:  #f4eef6;\n",
       "            color:  #000000;\n",
       "        }    #T_9f2b80d0_4bfe_11ea_a8b9_0c5415364605row38_col0 {\n",
       "            background-color:  #fef6fb;\n",
       "            color:  #000000;\n",
       "        }    #T_9f2b80d0_4bfe_11ea_a8b9_0c5415364605row38_col1 {\n",
       "            background-color:  #f3edf5;\n",
       "            color:  #000000;\n",
       "        }    #T_9f2b80d0_4bfe_11ea_a8b9_0c5415364605row38_col2 {\n",
       "            background-color:  #f4eef6;\n",
       "            color:  #000000;\n",
       "        }    #T_9f2b80d0_4bfe_11ea_a8b9_0c5415364605row38_col3 {\n",
       "            background-color:  #f4edf6;\n",
       "            color:  #000000;\n",
       "        }    #T_9f2b80d0_4bfe_11ea_a8b9_0c5415364605row38_col4 {\n",
       "            background-color:  #f7f0f7;\n",
       "            color:  #000000;\n",
       "        }    #T_9f2b80d0_4bfe_11ea_a8b9_0c5415364605row38_col5 {\n",
       "            background-color:  #f7f0f7;\n",
       "            color:  #000000;\n",
       "        }    #T_9f2b80d0_4bfe_11ea_a8b9_0c5415364605row38_col6 {\n",
       "            background-color:  #faf2f8;\n",
       "            color:  #000000;\n",
       "        }    #T_9f2b80d0_4bfe_11ea_a8b9_0c5415364605row38_col7 {\n",
       "            background-color:  #fef6fa;\n",
       "            color:  #000000;\n",
       "        }    #T_9f2b80d0_4bfe_11ea_a8b9_0c5415364605row38_col8 {\n",
       "            background-color:  #faf3f9;\n",
       "            color:  #000000;\n",
       "        }    #T_9f2b80d0_4bfe_11ea_a8b9_0c5415364605row38_col9 {\n",
       "            background-color:  #fef6fb;\n",
       "            color:  #000000;\n",
       "        }    #T_9f2b80d0_4bfe_11ea_a8b9_0c5415364605row38_col10 {\n",
       "            background-color:  #f7f0f7;\n",
       "            color:  #000000;\n",
       "        }    #T_9f2b80d0_4bfe_11ea_a8b9_0c5415364605row38_col11 {\n",
       "            background-color:  #fdf5fa;\n",
       "            color:  #000000;\n",
       "        }    #T_9f2b80d0_4bfe_11ea_a8b9_0c5415364605row38_col12 {\n",
       "            background-color:  #fef6fb;\n",
       "            color:  #000000;\n",
       "        }    #T_9f2b80d0_4bfe_11ea_a8b9_0c5415364605row38_col13 {\n",
       "            background-color:  #fff7fb;\n",
       "            color:  #000000;\n",
       "        }    #T_9f2b80d0_4bfe_11ea_a8b9_0c5415364605row38_col14 {\n",
       "            background-color:  #fef6fb;\n",
       "            color:  #000000;\n",
       "        }    #T_9f2b80d0_4bfe_11ea_a8b9_0c5415364605row38_col15 {\n",
       "            background-color:  #f8f1f8;\n",
       "            color:  #000000;\n",
       "        }    #T_9f2b80d0_4bfe_11ea_a8b9_0c5415364605row38_col16 {\n",
       "            background-color:  #faf2f8;\n",
       "            color:  #000000;\n",
       "        }    #T_9f2b80d0_4bfe_11ea_a8b9_0c5415364605row38_col17 {\n",
       "            background-color:  #faf2f8;\n",
       "            color:  #000000;\n",
       "        }    #T_9f2b80d0_4bfe_11ea_a8b9_0c5415364605row38_col18 {\n",
       "            background-color:  #fcf4fa;\n",
       "            color:  #000000;\n",
       "        }    #T_9f2b80d0_4bfe_11ea_a8b9_0c5415364605row38_col19 {\n",
       "            background-color:  #fbf3f9;\n",
       "            color:  #000000;\n",
       "        }    #T_9f2b80d0_4bfe_11ea_a8b9_0c5415364605row38_col20 {\n",
       "            background-color:  #fcf4fa;\n",
       "            color:  #000000;\n",
       "        }    #T_9f2b80d0_4bfe_11ea_a8b9_0c5415364605row38_col21 {\n",
       "            background-color:  #faf3f9;\n",
       "            color:  #000000;\n",
       "        }    #T_9f2b80d0_4bfe_11ea_a8b9_0c5415364605row38_col22 {\n",
       "            background-color:  #fbf3f9;\n",
       "            color:  #000000;\n",
       "        }    #T_9f2b80d0_4bfe_11ea_a8b9_0c5415364605row38_col23 {\n",
       "            background-color:  #faf3f9;\n",
       "            color:  #000000;\n",
       "        }    #T_9f2b80d0_4bfe_11ea_a8b9_0c5415364605row38_col24 {\n",
       "            background-color:  #faf3f9;\n",
       "            color:  #000000;\n",
       "        }    #T_9f2b80d0_4bfe_11ea_a8b9_0c5415364605row38_col25 {\n",
       "            background-color:  #fbf3f9;\n",
       "            color:  #000000;\n",
       "        }    #T_9f2b80d0_4bfe_11ea_a8b9_0c5415364605row38_col26 {\n",
       "            background-color:  #fbf3f9;\n",
       "            color:  #000000;\n",
       "        }    #T_9f2b80d0_4bfe_11ea_a8b9_0c5415364605row38_col27 {\n",
       "            background-color:  #fbf4f9;\n",
       "            color:  #000000;\n",
       "        }    #T_9f2b80d0_4bfe_11ea_a8b9_0c5415364605row38_col28 {\n",
       "            background-color:  #fdf5fa;\n",
       "            color:  #000000;\n",
       "        }    #T_9f2b80d0_4bfe_11ea_a8b9_0c5415364605row38_col29 {\n",
       "            background-color:  #fbf4f9;\n",
       "            color:  #000000;\n",
       "        }    #T_9f2b80d0_4bfe_11ea_a8b9_0c5415364605row39_col0 {\n",
       "            background-color:  #f5eef6;\n",
       "            color:  #000000;\n",
       "        }    #T_9f2b80d0_4bfe_11ea_a8b9_0c5415364605row39_col1 {\n",
       "            background-color:  #f6eff7;\n",
       "            color:  #000000;\n",
       "        }    #T_9f2b80d0_4bfe_11ea_a8b9_0c5415364605row39_col2 {\n",
       "            background-color:  #f9f2f8;\n",
       "            color:  #000000;\n",
       "        }    #T_9f2b80d0_4bfe_11ea_a8b9_0c5415364605row39_col3 {\n",
       "            background-color:  #fbf3f9;\n",
       "            color:  #000000;\n",
       "        }    #T_9f2b80d0_4bfe_11ea_a8b9_0c5415364605row39_col4 {\n",
       "            background-color:  #f9f2f8;\n",
       "            color:  #000000;\n",
       "        }    #T_9f2b80d0_4bfe_11ea_a8b9_0c5415364605row39_col5 {\n",
       "            background-color:  #fbf4f9;\n",
       "            color:  #000000;\n",
       "        }    #T_9f2b80d0_4bfe_11ea_a8b9_0c5415364605row39_col6 {\n",
       "            background-color:  #f8f1f8;\n",
       "            color:  #000000;\n",
       "        }    #T_9f2b80d0_4bfe_11ea_a8b9_0c5415364605row39_col7 {\n",
       "            background-color:  #fff7fb;\n",
       "            color:  #000000;\n",
       "        }    #T_9f2b80d0_4bfe_11ea_a8b9_0c5415364605row39_col8 {\n",
       "            background-color:  #fef6fa;\n",
       "            color:  #000000;\n",
       "        }    #T_9f2b80d0_4bfe_11ea_a8b9_0c5415364605row39_col9 {\n",
       "            background-color:  #fef6fa;\n",
       "            color:  #000000;\n",
       "        }    #T_9f2b80d0_4bfe_11ea_a8b9_0c5415364605row39_col10 {\n",
       "            background-color:  #f8f1f8;\n",
       "            color:  #000000;\n",
       "        }    #T_9f2b80d0_4bfe_11ea_a8b9_0c5415364605row39_col11 {\n",
       "            background-color:  #fdf5fa;\n",
       "            color:  #000000;\n",
       "        }    #T_9f2b80d0_4bfe_11ea_a8b9_0c5415364605row39_col12 {\n",
       "            background-color:  #fcf4fa;\n",
       "            color:  #000000;\n",
       "        }    #T_9f2b80d0_4bfe_11ea_a8b9_0c5415364605row39_col13 {\n",
       "            background-color:  #fef6fb;\n",
       "            color:  #000000;\n",
       "        }    #T_9f2b80d0_4bfe_11ea_a8b9_0c5415364605row39_col14 {\n",
       "            background-color:  #f7f0f7;\n",
       "            color:  #000000;\n",
       "        }    #T_9f2b80d0_4bfe_11ea_a8b9_0c5415364605row39_col15 {\n",
       "            background-color:  #f7f0f7;\n",
       "            color:  #000000;\n",
       "        }    #T_9f2b80d0_4bfe_11ea_a8b9_0c5415364605row39_col16 {\n",
       "            background-color:  #f7f0f7;\n",
       "            color:  #000000;\n",
       "        }    #T_9f2b80d0_4bfe_11ea_a8b9_0c5415364605row39_col17 {\n",
       "            background-color:  #f8f1f8;\n",
       "            color:  #000000;\n",
       "        }    #T_9f2b80d0_4bfe_11ea_a8b9_0c5415364605row39_col18 {\n",
       "            background-color:  #fbf4f9;\n",
       "            color:  #000000;\n",
       "        }    #T_9f2b80d0_4bfe_11ea_a8b9_0c5415364605row39_col19 {\n",
       "            background-color:  #faf2f8;\n",
       "            color:  #000000;\n",
       "        }    #T_9f2b80d0_4bfe_11ea_a8b9_0c5415364605row39_col20 {\n",
       "            background-color:  #f9f2f8;\n",
       "            color:  #000000;\n",
       "        }    #T_9f2b80d0_4bfe_11ea_a8b9_0c5415364605row39_col21 {\n",
       "            background-color:  #f6eff7;\n",
       "            color:  #000000;\n",
       "        }    #T_9f2b80d0_4bfe_11ea_a8b9_0c5415364605row39_col22 {\n",
       "            background-color:  #f7f0f7;\n",
       "            color:  #000000;\n",
       "        }    #T_9f2b80d0_4bfe_11ea_a8b9_0c5415364605row39_col23 {\n",
       "            background-color:  #f7f0f7;\n",
       "            color:  #000000;\n",
       "        }    #T_9f2b80d0_4bfe_11ea_a8b9_0c5415364605row39_col24 {\n",
       "            background-color:  #f6eff7;\n",
       "            color:  #000000;\n",
       "        }    #T_9f2b80d0_4bfe_11ea_a8b9_0c5415364605row39_col25 {\n",
       "            background-color:  #f8f1f8;\n",
       "            color:  #000000;\n",
       "        }    #T_9f2b80d0_4bfe_11ea_a8b9_0c5415364605row39_col26 {\n",
       "            background-color:  #f7f0f7;\n",
       "            color:  #000000;\n",
       "        }    #T_9f2b80d0_4bfe_11ea_a8b9_0c5415364605row39_col27 {\n",
       "            background-color:  #faf2f8;\n",
       "            color:  #000000;\n",
       "        }    #T_9f2b80d0_4bfe_11ea_a8b9_0c5415364605row39_col28 {\n",
       "            background-color:  #fdf5fa;\n",
       "            color:  #000000;\n",
       "        }    #T_9f2b80d0_4bfe_11ea_a8b9_0c5415364605row39_col29 {\n",
       "            background-color:  #fbf3f9;\n",
       "            color:  #000000;\n",
       "        }    #T_9f2b80d0_4bfe_11ea_a8b9_0c5415364605row40_col0 {\n",
       "            background-color:  #fff7fb;\n",
       "            color:  #000000;\n",
       "        }    #T_9f2b80d0_4bfe_11ea_a8b9_0c5415364605row40_col1 {\n",
       "            background-color:  #fdf5fa;\n",
       "            color:  #000000;\n",
       "        }    #T_9f2b80d0_4bfe_11ea_a8b9_0c5415364605row40_col2 {\n",
       "            background-color:  #fdf5fa;\n",
       "            color:  #000000;\n",
       "        }    #T_9f2b80d0_4bfe_11ea_a8b9_0c5415364605row40_col3 {\n",
       "            background-color:  #fef6fb;\n",
       "            color:  #000000;\n",
       "        }    #T_9f2b80d0_4bfe_11ea_a8b9_0c5415364605row40_col4 {\n",
       "            background-color:  #fef6fa;\n",
       "            color:  #000000;\n",
       "        }    #T_9f2b80d0_4bfe_11ea_a8b9_0c5415364605row40_col5 {\n",
       "            background-color:  #fef6fa;\n",
       "            color:  #000000;\n",
       "        }    #T_9f2b80d0_4bfe_11ea_a8b9_0c5415364605row40_col6 {\n",
       "            background-color:  #fbf3f9;\n",
       "            color:  #000000;\n",
       "        }    #T_9f2b80d0_4bfe_11ea_a8b9_0c5415364605row40_col7 {\n",
       "            background-color:  #e8e4f0;\n",
       "            color:  #000000;\n",
       "        }    #T_9f2b80d0_4bfe_11ea_a8b9_0c5415364605row40_col8 {\n",
       "            background-color:  #f4eef6;\n",
       "            color:  #000000;\n",
       "        }    #T_9f2b80d0_4bfe_11ea_a8b9_0c5415364605row40_col9 {\n",
       "            background-color:  #f1ebf4;\n",
       "            color:  #000000;\n",
       "        }    #T_9f2b80d0_4bfe_11ea_a8b9_0c5415364605row40_col10 {\n",
       "            background-color:  #c6cce3;\n",
       "            color:  #000000;\n",
       "        }    #T_9f2b80d0_4bfe_11ea_a8b9_0c5415364605row40_col11 {\n",
       "            background-color:  #f2ecf5;\n",
       "            color:  #000000;\n",
       "        }    #T_9f2b80d0_4bfe_11ea_a8b9_0c5415364605row40_col12 {\n",
       "            background-color:  #f4edf6;\n",
       "            color:  #000000;\n",
       "        }    #T_9f2b80d0_4bfe_11ea_a8b9_0c5415364605row40_col13 {\n",
       "            background-color:  #fef6fa;\n",
       "            color:  #000000;\n",
       "        }    #T_9f2b80d0_4bfe_11ea_a8b9_0c5415364605row40_col14 {\n",
       "            background-color:  #f7f0f7;\n",
       "            color:  #000000;\n",
       "        }    #T_9f2b80d0_4bfe_11ea_a8b9_0c5415364605row40_col15 {\n",
       "            background-color:  #f2ecf5;\n",
       "            color:  #000000;\n",
       "        }    #T_9f2b80d0_4bfe_11ea_a8b9_0c5415364605row40_col16 {\n",
       "            background-color:  #fff7fb;\n",
       "            color:  #000000;\n",
       "        }    #T_9f2b80d0_4bfe_11ea_a8b9_0c5415364605row40_col17 {\n",
       "            background-color:  #fdf5fa;\n",
       "            color:  #000000;\n",
       "        }    #T_9f2b80d0_4bfe_11ea_a8b9_0c5415364605row40_col18 {\n",
       "            background-color:  #eee9f3;\n",
       "            color:  #000000;\n",
       "        }    #T_9f2b80d0_4bfe_11ea_a8b9_0c5415364605row40_col19 {\n",
       "            background-color:  #f8f1f8;\n",
       "            color:  #000000;\n",
       "        }    #T_9f2b80d0_4bfe_11ea_a8b9_0c5415364605row40_col20 {\n",
       "            background-color:  #f8f1f8;\n",
       "            color:  #000000;\n",
       "        }    #T_9f2b80d0_4bfe_11ea_a8b9_0c5415364605row40_col21 {\n",
       "            background-color:  #faf2f8;\n",
       "            color:  #000000;\n",
       "        }    #T_9f2b80d0_4bfe_11ea_a8b9_0c5415364605row40_col22 {\n",
       "            background-color:  #fbf4f9;\n",
       "            color:  #000000;\n",
       "        }    #T_9f2b80d0_4bfe_11ea_a8b9_0c5415364605row40_col23 {\n",
       "            background-color:  #fcf4fa;\n",
       "            color:  #000000;\n",
       "        }    #T_9f2b80d0_4bfe_11ea_a8b9_0c5415364605row40_col24 {\n",
       "            background-color:  #fbf4f9;\n",
       "            color:  #000000;\n",
       "        }    #T_9f2b80d0_4bfe_11ea_a8b9_0c5415364605row40_col25 {\n",
       "            background-color:  #fbf4f9;\n",
       "            color:  #000000;\n",
       "        }    #T_9f2b80d0_4bfe_11ea_a8b9_0c5415364605row40_col26 {\n",
       "            background-color:  #fbf3f9;\n",
       "            color:  #000000;\n",
       "        }    #T_9f2b80d0_4bfe_11ea_a8b9_0c5415364605row40_col27 {\n",
       "            background-color:  #fef6fa;\n",
       "            color:  #000000;\n",
       "        }    #T_9f2b80d0_4bfe_11ea_a8b9_0c5415364605row40_col28 {\n",
       "            background-color:  #fdf5fa;\n",
       "            color:  #000000;\n",
       "        }    #T_9f2b80d0_4bfe_11ea_a8b9_0c5415364605row40_col29 {\n",
       "            background-color:  #fdf5fa;\n",
       "            color:  #000000;\n",
       "        }    #T_9f2b80d0_4bfe_11ea_a8b9_0c5415364605row41_col0 {\n",
       "            background-color:  #fef6fa;\n",
       "            color:  #000000;\n",
       "        }    #T_9f2b80d0_4bfe_11ea_a8b9_0c5415364605row41_col1 {\n",
       "            background-color:  #fdf5fa;\n",
       "            color:  #000000;\n",
       "        }    #T_9f2b80d0_4bfe_11ea_a8b9_0c5415364605row41_col2 {\n",
       "            background-color:  #fdf5fa;\n",
       "            color:  #000000;\n",
       "        }    #T_9f2b80d0_4bfe_11ea_a8b9_0c5415364605row41_col3 {\n",
       "            background-color:  #fbf3f9;\n",
       "            color:  #000000;\n",
       "        }    #T_9f2b80d0_4bfe_11ea_a8b9_0c5415364605row41_col4 {\n",
       "            background-color:  #fdf5fa;\n",
       "            color:  #000000;\n",
       "        }    #T_9f2b80d0_4bfe_11ea_a8b9_0c5415364605row41_col5 {\n",
       "            background-color:  #fef6fb;\n",
       "            color:  #000000;\n",
       "        }    #T_9f2b80d0_4bfe_11ea_a8b9_0c5415364605row41_col6 {\n",
       "            background-color:  #fdf5fa;\n",
       "            color:  #000000;\n",
       "        }    #T_9f2b80d0_4bfe_11ea_a8b9_0c5415364605row41_col7 {\n",
       "            background-color:  #fef6fa;\n",
       "            color:  #000000;\n",
       "        }    #T_9f2b80d0_4bfe_11ea_a8b9_0c5415364605row41_col8 {\n",
       "            background-color:  #fdf5fa;\n",
       "            color:  #000000;\n",
       "        }    #T_9f2b80d0_4bfe_11ea_a8b9_0c5415364605row41_col9 {\n",
       "            background-color:  #fdf5fa;\n",
       "            color:  #000000;\n",
       "        }    #T_9f2b80d0_4bfe_11ea_a8b9_0c5415364605row41_col10 {\n",
       "            background-color:  #faf2f8;\n",
       "            color:  #000000;\n",
       "        }    #T_9f2b80d0_4bfe_11ea_a8b9_0c5415364605row41_col11 {\n",
       "            background-color:  #fbf4f9;\n",
       "            color:  #000000;\n",
       "        }    #T_9f2b80d0_4bfe_11ea_a8b9_0c5415364605row41_col12 {\n",
       "            background-color:  #faf3f9;\n",
       "            color:  #000000;\n",
       "        }    #T_9f2b80d0_4bfe_11ea_a8b9_0c5415364605row41_col13 {\n",
       "            background-color:  #fef6fa;\n",
       "            color:  #000000;\n",
       "        }    #T_9f2b80d0_4bfe_11ea_a8b9_0c5415364605row41_col14 {\n",
       "            background-color:  #faf3f9;\n",
       "            color:  #000000;\n",
       "        }    #T_9f2b80d0_4bfe_11ea_a8b9_0c5415364605row41_col15 {\n",
       "            background-color:  #fef6fb;\n",
       "            color:  #000000;\n",
       "        }    #T_9f2b80d0_4bfe_11ea_a8b9_0c5415364605row41_col16 {\n",
       "            background-color:  #fef6fb;\n",
       "            color:  #000000;\n",
       "        }    #T_9f2b80d0_4bfe_11ea_a8b9_0c5415364605row41_col17 {\n",
       "            background-color:  #fef6fa;\n",
       "            color:  #000000;\n",
       "        }    #T_9f2b80d0_4bfe_11ea_a8b9_0c5415364605row41_col18 {\n",
       "            background-color:  #fcf4fa;\n",
       "            color:  #000000;\n",
       "        }    #T_9f2b80d0_4bfe_11ea_a8b9_0c5415364605row41_col19 {\n",
       "            background-color:  #f8f1f8;\n",
       "            color:  #000000;\n",
       "        }    #T_9f2b80d0_4bfe_11ea_a8b9_0c5415364605row41_col20 {\n",
       "            background-color:  #fbf3f9;\n",
       "            color:  #000000;\n",
       "        }    #T_9f2b80d0_4bfe_11ea_a8b9_0c5415364605row41_col21 {\n",
       "            background-color:  #f7f0f7;\n",
       "            color:  #000000;\n",
       "        }    #T_9f2b80d0_4bfe_11ea_a8b9_0c5415364605row41_col22 {\n",
       "            background-color:  #f7f0f7;\n",
       "            color:  #000000;\n",
       "        }    #T_9f2b80d0_4bfe_11ea_a8b9_0c5415364605row41_col23 {\n",
       "            background-color:  #f7f0f7;\n",
       "            color:  #000000;\n",
       "        }    #T_9f2b80d0_4bfe_11ea_a8b9_0c5415364605row41_col24 {\n",
       "            background-color:  #f7f0f7;\n",
       "            color:  #000000;\n",
       "        }    #T_9f2b80d0_4bfe_11ea_a8b9_0c5415364605row41_col25 {\n",
       "            background-color:  #f8f1f8;\n",
       "            color:  #000000;\n",
       "        }    #T_9f2b80d0_4bfe_11ea_a8b9_0c5415364605row41_col26 {\n",
       "            background-color:  #f8f1f8;\n",
       "            color:  #000000;\n",
       "        }    #T_9f2b80d0_4bfe_11ea_a8b9_0c5415364605row41_col27 {\n",
       "            background-color:  #fbf3f9;\n",
       "            color:  #000000;\n",
       "        }    #T_9f2b80d0_4bfe_11ea_a8b9_0c5415364605row41_col28 {\n",
       "            background-color:  #fef6fa;\n",
       "            color:  #000000;\n",
       "        }    #T_9f2b80d0_4bfe_11ea_a8b9_0c5415364605row41_col29 {\n",
       "            background-color:  #fef6fa;\n",
       "            color:  #000000;\n",
       "        }    #T_9f2b80d0_4bfe_11ea_a8b9_0c5415364605row42_col0 {\n",
       "            background-color:  #fff7fb;\n",
       "            color:  #000000;\n",
       "        }    #T_9f2b80d0_4bfe_11ea_a8b9_0c5415364605row42_col1 {\n",
       "            background-color:  #faf2f8;\n",
       "            color:  #000000;\n",
       "        }    #T_9f2b80d0_4bfe_11ea_a8b9_0c5415364605row42_col2 {\n",
       "            background-color:  #faf3f9;\n",
       "            color:  #000000;\n",
       "        }    #T_9f2b80d0_4bfe_11ea_a8b9_0c5415364605row42_col3 {\n",
       "            background-color:  #f9f2f8;\n",
       "            color:  #000000;\n",
       "        }    #T_9f2b80d0_4bfe_11ea_a8b9_0c5415364605row42_col4 {\n",
       "            background-color:  #fbf3f9;\n",
       "            color:  #000000;\n",
       "        }    #T_9f2b80d0_4bfe_11ea_a8b9_0c5415364605row42_col5 {\n",
       "            background-color:  #fcf4fa;\n",
       "            color:  #000000;\n",
       "        }    #T_9f2b80d0_4bfe_11ea_a8b9_0c5415364605row42_col6 {\n",
       "            background-color:  #faf2f8;\n",
       "            color:  #000000;\n",
       "        }    #T_9f2b80d0_4bfe_11ea_a8b9_0c5415364605row42_col7 {\n",
       "            background-color:  #fff7fb;\n",
       "            color:  #000000;\n",
       "        }    #T_9f2b80d0_4bfe_11ea_a8b9_0c5415364605row42_col8 {\n",
       "            background-color:  #fbf4f9;\n",
       "            color:  #000000;\n",
       "        }    #T_9f2b80d0_4bfe_11ea_a8b9_0c5415364605row42_col9 {\n",
       "            background-color:  #fff7fb;\n",
       "            color:  #000000;\n",
       "        }    #T_9f2b80d0_4bfe_11ea_a8b9_0c5415364605row42_col10 {\n",
       "            background-color:  #faf2f8;\n",
       "            color:  #000000;\n",
       "        }    #T_9f2b80d0_4bfe_11ea_a8b9_0c5415364605row42_col11 {\n",
       "            background-color:  #fdf5fa;\n",
       "            color:  #000000;\n",
       "        }    #T_9f2b80d0_4bfe_11ea_a8b9_0c5415364605row42_col12 {\n",
       "            background-color:  #fdf5fa;\n",
       "            color:  #000000;\n",
       "        }    #T_9f2b80d0_4bfe_11ea_a8b9_0c5415364605row42_col13 {\n",
       "            background-color:  #fff7fb;\n",
       "            color:  #000000;\n",
       "        }    #T_9f2b80d0_4bfe_11ea_a8b9_0c5415364605row42_col14 {\n",
       "            background-color:  #fdf5fa;\n",
       "            color:  #000000;\n",
       "        }    #T_9f2b80d0_4bfe_11ea_a8b9_0c5415364605row42_col15 {\n",
       "            background-color:  #fdf5fa;\n",
       "            color:  #000000;\n",
       "        }    #T_9f2b80d0_4bfe_11ea_a8b9_0c5415364605row42_col16 {\n",
       "            background-color:  #fdf5fa;\n",
       "            color:  #000000;\n",
       "        }    #T_9f2b80d0_4bfe_11ea_a8b9_0c5415364605row42_col17 {\n",
       "            background-color:  #fdf5fa;\n",
       "            color:  #000000;\n",
       "        }    #T_9f2b80d0_4bfe_11ea_a8b9_0c5415364605row42_col18 {\n",
       "            background-color:  #f9f2f8;\n",
       "            color:  #000000;\n",
       "        }    #T_9f2b80d0_4bfe_11ea_a8b9_0c5415364605row42_col19 {\n",
       "            background-color:  #fbf4f9;\n",
       "            color:  #000000;\n",
       "        }    #T_9f2b80d0_4bfe_11ea_a8b9_0c5415364605row42_col20 {\n",
       "            background-color:  #fdf5fa;\n",
       "            color:  #000000;\n",
       "        }    #T_9f2b80d0_4bfe_11ea_a8b9_0c5415364605row42_col21 {\n",
       "            background-color:  #fbf3f9;\n",
       "            color:  #000000;\n",
       "        }    #T_9f2b80d0_4bfe_11ea_a8b9_0c5415364605row42_col22 {\n",
       "            background-color:  #fbf4f9;\n",
       "            color:  #000000;\n",
       "        }    #T_9f2b80d0_4bfe_11ea_a8b9_0c5415364605row42_col23 {\n",
       "            background-color:  #fbf3f9;\n",
       "            color:  #000000;\n",
       "        }    #T_9f2b80d0_4bfe_11ea_a8b9_0c5415364605row42_col24 {\n",
       "            background-color:  #fbf3f9;\n",
       "            color:  #000000;\n",
       "        }    #T_9f2b80d0_4bfe_11ea_a8b9_0c5415364605row42_col25 {\n",
       "            background-color:  #fbf3f9;\n",
       "            color:  #000000;\n",
       "        }    #T_9f2b80d0_4bfe_11ea_a8b9_0c5415364605row42_col26 {\n",
       "            background-color:  #fbf3f9;\n",
       "            color:  #000000;\n",
       "        }    #T_9f2b80d0_4bfe_11ea_a8b9_0c5415364605row42_col27 {\n",
       "            background-color:  #fef6fa;\n",
       "            color:  #000000;\n",
       "        }    #T_9f2b80d0_4bfe_11ea_a8b9_0c5415364605row42_col28 {\n",
       "            background-color:  #fef6fa;\n",
       "            color:  #000000;\n",
       "        }    #T_9f2b80d0_4bfe_11ea_a8b9_0c5415364605row42_col29 {\n",
       "            background-color:  #fbf4f9;\n",
       "            color:  #000000;\n",
       "        }    #T_9f2b80d0_4bfe_11ea_a8b9_0c5415364605row43_col0 {\n",
       "            background-color:  #fef6fb;\n",
       "            color:  #000000;\n",
       "        }    #T_9f2b80d0_4bfe_11ea_a8b9_0c5415364605row43_col1 {\n",
       "            background-color:  #eee8f3;\n",
       "            color:  #000000;\n",
       "        }    #T_9f2b80d0_4bfe_11ea_a8b9_0c5415364605row43_col2 {\n",
       "            background-color:  #fbf3f9;\n",
       "            color:  #000000;\n",
       "        }    #T_9f2b80d0_4bfe_11ea_a8b9_0c5415364605row43_col3 {\n",
       "            background-color:  #fbf3f9;\n",
       "            color:  #000000;\n",
       "        }    #T_9f2b80d0_4bfe_11ea_a8b9_0c5415364605row43_col4 {\n",
       "            background-color:  #faf2f8;\n",
       "            color:  #000000;\n",
       "        }    #T_9f2b80d0_4bfe_11ea_a8b9_0c5415364605row43_col5 {\n",
       "            background-color:  #f7f0f7;\n",
       "            color:  #000000;\n",
       "        }    #T_9f2b80d0_4bfe_11ea_a8b9_0c5415364605row43_col6 {\n",
       "            background-color:  #f4eef6;\n",
       "            color:  #000000;\n",
       "        }    #T_9f2b80d0_4bfe_11ea_a8b9_0c5415364605row43_col7 {\n",
       "            background-color:  #f6eff7;\n",
       "            color:  #000000;\n",
       "        }    #T_9f2b80d0_4bfe_11ea_a8b9_0c5415364605row43_col8 {\n",
       "            background-color:  #f8f1f8;\n",
       "            color:  #000000;\n",
       "        }    #T_9f2b80d0_4bfe_11ea_a8b9_0c5415364605row43_col9 {\n",
       "            background-color:  #ebe6f2;\n",
       "            color:  #000000;\n",
       "        }    #T_9f2b80d0_4bfe_11ea_a8b9_0c5415364605row43_col10 {\n",
       "            background-color:  #fdf5fa;\n",
       "            color:  #000000;\n",
       "        }    #T_9f2b80d0_4bfe_11ea_a8b9_0c5415364605row43_col11 {\n",
       "            background-color:  #f6eff7;\n",
       "            color:  #000000;\n",
       "        }    #T_9f2b80d0_4bfe_11ea_a8b9_0c5415364605row43_col12 {\n",
       "            background-color:  #f8f1f8;\n",
       "            color:  #000000;\n",
       "        }    #T_9f2b80d0_4bfe_11ea_a8b9_0c5415364605row43_col13 {\n",
       "            background-color:  #fcf4fa;\n",
       "            color:  #000000;\n",
       "        }    #T_9f2b80d0_4bfe_11ea_a8b9_0c5415364605row43_col14 {\n",
       "            background-color:  #fef6fa;\n",
       "            color:  #000000;\n",
       "        }    #T_9f2b80d0_4bfe_11ea_a8b9_0c5415364605row43_col15 {\n",
       "            background-color:  #faf2f8;\n",
       "            color:  #000000;\n",
       "        }    #T_9f2b80d0_4bfe_11ea_a8b9_0c5415364605row43_col16 {\n",
       "            background-color:  #fdf5fa;\n",
       "            color:  #000000;\n",
       "        }    #T_9f2b80d0_4bfe_11ea_a8b9_0c5415364605row43_col17 {\n",
       "            background-color:  #fef6fa;\n",
       "            color:  #000000;\n",
       "        }    #T_9f2b80d0_4bfe_11ea_a8b9_0c5415364605row43_col18 {\n",
       "            background-color:  #ece7f2;\n",
       "            color:  #000000;\n",
       "        }    #T_9f2b80d0_4bfe_11ea_a8b9_0c5415364605row43_col19 {\n",
       "            background-color:  #ede8f3;\n",
       "            color:  #000000;\n",
       "        }    #T_9f2b80d0_4bfe_11ea_a8b9_0c5415364605row43_col20 {\n",
       "            background-color:  #f5eff6;\n",
       "            color:  #000000;\n",
       "        }    #T_9f2b80d0_4bfe_11ea_a8b9_0c5415364605row43_col21 {\n",
       "            background-color:  #f8f1f8;\n",
       "            color:  #000000;\n",
       "        }    #T_9f2b80d0_4bfe_11ea_a8b9_0c5415364605row43_col22 {\n",
       "            background-color:  #f4eef6;\n",
       "            color:  #000000;\n",
       "        }    #T_9f2b80d0_4bfe_11ea_a8b9_0c5415364605row43_col23 {\n",
       "            background-color:  #f5eff6;\n",
       "            color:  #000000;\n",
       "        }    #T_9f2b80d0_4bfe_11ea_a8b9_0c5415364605row43_col24 {\n",
       "            background-color:  #f5eff6;\n",
       "            color:  #000000;\n",
       "        }    #T_9f2b80d0_4bfe_11ea_a8b9_0c5415364605row43_col25 {\n",
       "            background-color:  #f7f0f7;\n",
       "            color:  #000000;\n",
       "        }    #T_9f2b80d0_4bfe_11ea_a8b9_0c5415364605row43_col26 {\n",
       "            background-color:  #f6eff7;\n",
       "            color:  #000000;\n",
       "        }    #T_9f2b80d0_4bfe_11ea_a8b9_0c5415364605row43_col27 {\n",
       "            background-color:  #fdf5fa;\n",
       "            color:  #000000;\n",
       "        }    #T_9f2b80d0_4bfe_11ea_a8b9_0c5415364605row43_col28 {\n",
       "            background-color:  #fef6fb;\n",
       "            color:  #000000;\n",
       "        }    #T_9f2b80d0_4bfe_11ea_a8b9_0c5415364605row43_col29 {\n",
       "            background-color:  #faf2f8;\n",
       "            color:  #000000;\n",
       "        }    #T_9f2b80d0_4bfe_11ea_a8b9_0c5415364605row44_col0 {\n",
       "            background-color:  #fdf5fa;\n",
       "            color:  #000000;\n",
       "        }    #T_9f2b80d0_4bfe_11ea_a8b9_0c5415364605row44_col1 {\n",
       "            background-color:  #f5eef6;\n",
       "            color:  #000000;\n",
       "        }    #T_9f2b80d0_4bfe_11ea_a8b9_0c5415364605row44_col2 {\n",
       "            background-color:  #f7f0f7;\n",
       "            color:  #000000;\n",
       "        }    #T_9f2b80d0_4bfe_11ea_a8b9_0c5415364605row44_col3 {\n",
       "            background-color:  #f9f2f8;\n",
       "            color:  #000000;\n",
       "        }    #T_9f2b80d0_4bfe_11ea_a8b9_0c5415364605row44_col4 {\n",
       "            background-color:  #f4eef6;\n",
       "            color:  #000000;\n",
       "        }    #T_9f2b80d0_4bfe_11ea_a8b9_0c5415364605row44_col5 {\n",
       "            background-color:  #f8f1f8;\n",
       "            color:  #000000;\n",
       "        }    #T_9f2b80d0_4bfe_11ea_a8b9_0c5415364605row44_col6 {\n",
       "            background-color:  #eee8f3;\n",
       "            color:  #000000;\n",
       "        }    #T_9f2b80d0_4bfe_11ea_a8b9_0c5415364605row44_col7 {\n",
       "            background-color:  #fcf4fa;\n",
       "            color:  #000000;\n",
       "        }    #T_9f2b80d0_4bfe_11ea_a8b9_0c5415364605row44_col8 {\n",
       "            background-color:  #f5eef6;\n",
       "            color:  #000000;\n",
       "        }    #T_9f2b80d0_4bfe_11ea_a8b9_0c5415364605row44_col9 {\n",
       "            background-color:  #fdf5fa;\n",
       "            color:  #000000;\n",
       "        }    #T_9f2b80d0_4bfe_11ea_a8b9_0c5415364605row44_col10 {\n",
       "            background-color:  #f8f1f8;\n",
       "            color:  #000000;\n",
       "        }    #T_9f2b80d0_4bfe_11ea_a8b9_0c5415364605row44_col11 {\n",
       "            background-color:  #fdf5fa;\n",
       "            color:  #000000;\n",
       "        }    #T_9f2b80d0_4bfe_11ea_a8b9_0c5415364605row44_col12 {\n",
       "            background-color:  #fdf5fa;\n",
       "            color:  #000000;\n",
       "        }    #T_9f2b80d0_4bfe_11ea_a8b9_0c5415364605row44_col13 {\n",
       "            background-color:  #fff7fb;\n",
       "            color:  #000000;\n",
       "        }    #T_9f2b80d0_4bfe_11ea_a8b9_0c5415364605row44_col14 {\n",
       "            background-color:  #fdf5fa;\n",
       "            color:  #000000;\n",
       "        }    #T_9f2b80d0_4bfe_11ea_a8b9_0c5415364605row44_col15 {\n",
       "            background-color:  #fef6fa;\n",
       "            color:  #000000;\n",
       "        }    #T_9f2b80d0_4bfe_11ea_a8b9_0c5415364605row44_col16 {\n",
       "            background-color:  #fef6fb;\n",
       "            color:  #000000;\n",
       "        }    #T_9f2b80d0_4bfe_11ea_a8b9_0c5415364605row44_col17 {\n",
       "            background-color:  #fff7fb;\n",
       "            color:  #000000;\n",
       "        }    #T_9f2b80d0_4bfe_11ea_a8b9_0c5415364605row44_col18 {\n",
       "            background-color:  #f7f0f7;\n",
       "            color:  #000000;\n",
       "        }    #T_9f2b80d0_4bfe_11ea_a8b9_0c5415364605row44_col19 {\n",
       "            background-color:  #faf3f9;\n",
       "            color:  #000000;\n",
       "        }    #T_9f2b80d0_4bfe_11ea_a8b9_0c5415364605row44_col20 {\n",
       "            background-color:  #faf3f9;\n",
       "            color:  #000000;\n",
       "        }    #T_9f2b80d0_4bfe_11ea_a8b9_0c5415364605row44_col21 {\n",
       "            background-color:  #fbf3f9;\n",
       "            color:  #000000;\n",
       "        }    #T_9f2b80d0_4bfe_11ea_a8b9_0c5415364605row44_col22 {\n",
       "            background-color:  #fbf3f9;\n",
       "            color:  #000000;\n",
       "        }    #T_9f2b80d0_4bfe_11ea_a8b9_0c5415364605row44_col23 {\n",
       "            background-color:  #fbf3f9;\n",
       "            color:  #000000;\n",
       "        }    #T_9f2b80d0_4bfe_11ea_a8b9_0c5415364605row44_col24 {\n",
       "            background-color:  #faf3f9;\n",
       "            color:  #000000;\n",
       "        }    #T_9f2b80d0_4bfe_11ea_a8b9_0c5415364605row44_col25 {\n",
       "            background-color:  #fbf3f9;\n",
       "            color:  #000000;\n",
       "        }    #T_9f2b80d0_4bfe_11ea_a8b9_0c5415364605row44_col26 {\n",
       "            background-color:  #fbf4f9;\n",
       "            color:  #000000;\n",
       "        }    #T_9f2b80d0_4bfe_11ea_a8b9_0c5415364605row44_col27 {\n",
       "            background-color:  #fef6fb;\n",
       "            color:  #000000;\n",
       "        }    #T_9f2b80d0_4bfe_11ea_a8b9_0c5415364605row44_col28 {\n",
       "            background-color:  #fef6fb;\n",
       "            color:  #000000;\n",
       "        }    #T_9f2b80d0_4bfe_11ea_a8b9_0c5415364605row44_col29 {\n",
       "            background-color:  #fff7fb;\n",
       "            color:  #000000;\n",
       "        }    #T_9f2b80d0_4bfe_11ea_a8b9_0c5415364605row45_col0 {\n",
       "            background-color:  #f9f2f8;\n",
       "            color:  #000000;\n",
       "        }    #T_9f2b80d0_4bfe_11ea_a8b9_0c5415364605row45_col1 {\n",
       "            background-color:  #f8f1f8;\n",
       "            color:  #000000;\n",
       "        }    #T_9f2b80d0_4bfe_11ea_a8b9_0c5415364605row45_col2 {\n",
       "            background-color:  #fdf5fa;\n",
       "            color:  #000000;\n",
       "        }    #T_9f2b80d0_4bfe_11ea_a8b9_0c5415364605row45_col3 {\n",
       "            background-color:  #f9f2f8;\n",
       "            color:  #000000;\n",
       "        }    #T_9f2b80d0_4bfe_11ea_a8b9_0c5415364605row45_col4 {\n",
       "            background-color:  #f7f0f7;\n",
       "            color:  #000000;\n",
       "        }    #T_9f2b80d0_4bfe_11ea_a8b9_0c5415364605row45_col5 {\n",
       "            background-color:  #eee9f3;\n",
       "            color:  #000000;\n",
       "        }    #T_9f2b80d0_4bfe_11ea_a8b9_0c5415364605row45_col6 {\n",
       "            background-color:  #f1ebf5;\n",
       "            color:  #000000;\n",
       "        }    #T_9f2b80d0_4bfe_11ea_a8b9_0c5415364605row45_col7 {\n",
       "            background-color:  #faf3f9;\n",
       "            color:  #000000;\n",
       "        }    #T_9f2b80d0_4bfe_11ea_a8b9_0c5415364605row45_col8 {\n",
       "            background-color:  #faf3f9;\n",
       "            color:  #000000;\n",
       "        }    #T_9f2b80d0_4bfe_11ea_a8b9_0c5415364605row45_col9 {\n",
       "            background-color:  #fdf5fa;\n",
       "            color:  #000000;\n",
       "        }    #T_9f2b80d0_4bfe_11ea_a8b9_0c5415364605row45_col10 {\n",
       "            background-color:  #f2ecf5;\n",
       "            color:  #000000;\n",
       "        }    #T_9f2b80d0_4bfe_11ea_a8b9_0c5415364605row45_col11 {\n",
       "            background-color:  #f8f1f8;\n",
       "            color:  #000000;\n",
       "        }    #T_9f2b80d0_4bfe_11ea_a8b9_0c5415364605row45_col12 {\n",
       "            background-color:  #faf2f8;\n",
       "            color:  #000000;\n",
       "        }    #T_9f2b80d0_4bfe_11ea_a8b9_0c5415364605row45_col13 {\n",
       "            background-color:  #fef6fa;\n",
       "            color:  #000000;\n",
       "        }    #T_9f2b80d0_4bfe_11ea_a8b9_0c5415364605row45_col14 {\n",
       "            background-color:  #fbf4f9;\n",
       "            color:  #000000;\n",
       "        }    #T_9f2b80d0_4bfe_11ea_a8b9_0c5415364605row45_col15 {\n",
       "            background-color:  #f5eef6;\n",
       "            color:  #000000;\n",
       "        }    #T_9f2b80d0_4bfe_11ea_a8b9_0c5415364605row45_col16 {\n",
       "            background-color:  #faf3f9;\n",
       "            color:  #000000;\n",
       "        }    #T_9f2b80d0_4bfe_11ea_a8b9_0c5415364605row45_col17 {\n",
       "            background-color:  #faf2f8;\n",
       "            color:  #000000;\n",
       "        }    #T_9f2b80d0_4bfe_11ea_a8b9_0c5415364605row45_col18 {\n",
       "            background-color:  #fdf5fa;\n",
       "            color:  #000000;\n",
       "        }    #T_9f2b80d0_4bfe_11ea_a8b9_0c5415364605row45_col19 {\n",
       "            background-color:  #fcf4fa;\n",
       "            color:  #000000;\n",
       "        }    #T_9f2b80d0_4bfe_11ea_a8b9_0c5415364605row45_col20 {\n",
       "            background-color:  #fef6fa;\n",
       "            color:  #000000;\n",
       "        }    #T_9f2b80d0_4bfe_11ea_a8b9_0c5415364605row45_col21 {\n",
       "            background-color:  #fbf4f9;\n",
       "            color:  #000000;\n",
       "        }    #T_9f2b80d0_4bfe_11ea_a8b9_0c5415364605row45_col22 {\n",
       "            background-color:  #fbf4f9;\n",
       "            color:  #000000;\n",
       "        }    #T_9f2b80d0_4bfe_11ea_a8b9_0c5415364605row45_col23 {\n",
       "            background-color:  #faf3f9;\n",
       "            color:  #000000;\n",
       "        }    #T_9f2b80d0_4bfe_11ea_a8b9_0c5415364605row45_col24 {\n",
       "            background-color:  #faf3f9;\n",
       "            color:  #000000;\n",
       "        }    #T_9f2b80d0_4bfe_11ea_a8b9_0c5415364605row45_col25 {\n",
       "            background-color:  #fbf4f9;\n",
       "            color:  #000000;\n",
       "        }    #T_9f2b80d0_4bfe_11ea_a8b9_0c5415364605row45_col26 {\n",
       "            background-color:  #fdf5fa;\n",
       "            color:  #000000;\n",
       "        }    #T_9f2b80d0_4bfe_11ea_a8b9_0c5415364605row45_col27 {\n",
       "            background-color:  #fff7fb;\n",
       "            color:  #000000;\n",
       "        }    #T_9f2b80d0_4bfe_11ea_a8b9_0c5415364605row45_col28 {\n",
       "            background-color:  #fef6fb;\n",
       "            color:  #000000;\n",
       "        }    #T_9f2b80d0_4bfe_11ea_a8b9_0c5415364605row45_col29 {\n",
       "            background-color:  #dcdaeb;\n",
       "            color:  #000000;\n",
       "        }    #T_9f2b80d0_4bfe_11ea_a8b9_0c5415364605row46_col0 {\n",
       "            background-color:  #fff7fb;\n",
       "            color:  #000000;\n",
       "        }    #T_9f2b80d0_4bfe_11ea_a8b9_0c5415364605row46_col1 {\n",
       "            background-color:  #f3edf5;\n",
       "            color:  #000000;\n",
       "        }    #T_9f2b80d0_4bfe_11ea_a8b9_0c5415364605row46_col2 {\n",
       "            background-color:  #faf3f9;\n",
       "            color:  #000000;\n",
       "        }    #T_9f2b80d0_4bfe_11ea_a8b9_0c5415364605row46_col3 {\n",
       "            background-color:  #fef6fb;\n",
       "            color:  #000000;\n",
       "        }    #T_9f2b80d0_4bfe_11ea_a8b9_0c5415364605row46_col4 {\n",
       "            background-color:  #f8f1f8;\n",
       "            color:  #000000;\n",
       "        }    #T_9f2b80d0_4bfe_11ea_a8b9_0c5415364605row46_col5 {\n",
       "            background-color:  #fdf5fa;\n",
       "            color:  #000000;\n",
       "        }    #T_9f2b80d0_4bfe_11ea_a8b9_0c5415364605row46_col6 {\n",
       "            background-color:  #e5e1ef;\n",
       "            color:  #000000;\n",
       "        }    #T_9f2b80d0_4bfe_11ea_a8b9_0c5415364605row46_col7 {\n",
       "            background-color:  #fff7fb;\n",
       "            color:  #000000;\n",
       "        }    #T_9f2b80d0_4bfe_11ea_a8b9_0c5415364605row46_col8 {\n",
       "            background-color:  #faf2f8;\n",
       "            color:  #000000;\n",
       "        }    #T_9f2b80d0_4bfe_11ea_a8b9_0c5415364605row46_col9 {\n",
       "            background-color:  #fdf5fa;\n",
       "            color:  #000000;\n",
       "        }    #T_9f2b80d0_4bfe_11ea_a8b9_0c5415364605row46_col10 {\n",
       "            background-color:  #f5eff6;\n",
       "            color:  #000000;\n",
       "        }    #T_9f2b80d0_4bfe_11ea_a8b9_0c5415364605row46_col11 {\n",
       "            background-color:  #fdf5fa;\n",
       "            color:  #000000;\n",
       "        }    #T_9f2b80d0_4bfe_11ea_a8b9_0c5415364605row46_col12 {\n",
       "            background-color:  #fdf5fa;\n",
       "            color:  #000000;\n",
       "        }    #T_9f2b80d0_4bfe_11ea_a8b9_0c5415364605row46_col13 {\n",
       "            background-color:  #fff7fb;\n",
       "            color:  #000000;\n",
       "        }    #T_9f2b80d0_4bfe_11ea_a8b9_0c5415364605row46_col14 {\n",
       "            background-color:  #fbf4f9;\n",
       "            color:  #000000;\n",
       "        }    #T_9f2b80d0_4bfe_11ea_a8b9_0c5415364605row46_col15 {\n",
       "            background-color:  #faf3f9;\n",
       "            color:  #000000;\n",
       "        }    #T_9f2b80d0_4bfe_11ea_a8b9_0c5415364605row46_col16 {\n",
       "            background-color:  #faf2f8;\n",
       "            color:  #000000;\n",
       "        }    #T_9f2b80d0_4bfe_11ea_a8b9_0c5415364605row46_col17 {\n",
       "            background-color:  #fbf4f9;\n",
       "            color:  #000000;\n",
       "        }    #T_9f2b80d0_4bfe_11ea_a8b9_0c5415364605row46_col18 {\n",
       "            background-color:  #f2ecf5;\n",
       "            color:  #000000;\n",
       "        }    #T_9f2b80d0_4bfe_11ea_a8b9_0c5415364605row46_col19 {\n",
       "            background-color:  #f8f1f8;\n",
       "            color:  #000000;\n",
       "        }    #T_9f2b80d0_4bfe_11ea_a8b9_0c5415364605row46_col20 {\n",
       "            background-color:  #f8f1f8;\n",
       "            color:  #000000;\n",
       "        }    #T_9f2b80d0_4bfe_11ea_a8b9_0c5415364605row46_col21 {\n",
       "            background-color:  #f9f2f8;\n",
       "            color:  #000000;\n",
       "        }    #T_9f2b80d0_4bfe_11ea_a8b9_0c5415364605row46_col22 {\n",
       "            background-color:  #faf2f8;\n",
       "            color:  #000000;\n",
       "        }    #T_9f2b80d0_4bfe_11ea_a8b9_0c5415364605row46_col23 {\n",
       "            background-color:  #f8f1f8;\n",
       "            color:  #000000;\n",
       "        }    #T_9f2b80d0_4bfe_11ea_a8b9_0c5415364605row46_col24 {\n",
       "            background-color:  #f5eff6;\n",
       "            color:  #000000;\n",
       "        }    #T_9f2b80d0_4bfe_11ea_a8b9_0c5415364605row46_col25 {\n",
       "            background-color:  #f5eff6;\n",
       "            color:  #000000;\n",
       "        }    #T_9f2b80d0_4bfe_11ea_a8b9_0c5415364605row46_col26 {\n",
       "            background-color:  #f5eff6;\n",
       "            color:  #000000;\n",
       "        }    #T_9f2b80d0_4bfe_11ea_a8b9_0c5415364605row46_col27 {\n",
       "            background-color:  #faf3f9;\n",
       "            color:  #000000;\n",
       "        }    #T_9f2b80d0_4bfe_11ea_a8b9_0c5415364605row46_col28 {\n",
       "            background-color:  #fef6fb;\n",
       "            color:  #000000;\n",
       "        }    #T_9f2b80d0_4bfe_11ea_a8b9_0c5415364605row46_col29 {\n",
       "            background-color:  #f2ecf5;\n",
       "            color:  #000000;\n",
       "        }    #T_9f2b80d0_4bfe_11ea_a8b9_0c5415364605row47_col0 {\n",
       "            background-color:  #fff7fb;\n",
       "            color:  #000000;\n",
       "        }    #T_9f2b80d0_4bfe_11ea_a8b9_0c5415364605row47_col1 {\n",
       "            background-color:  #faf2f8;\n",
       "            color:  #000000;\n",
       "        }    #T_9f2b80d0_4bfe_11ea_a8b9_0c5415364605row47_col2 {\n",
       "            background-color:  #fcf4fa;\n",
       "            color:  #000000;\n",
       "        }    #T_9f2b80d0_4bfe_11ea_a8b9_0c5415364605row47_col3 {\n",
       "            background-color:  #fcf4fa;\n",
       "            color:  #000000;\n",
       "        }    #T_9f2b80d0_4bfe_11ea_a8b9_0c5415364605row47_col4 {\n",
       "            background-color:  #fdf5fa;\n",
       "            color:  #000000;\n",
       "        }    #T_9f2b80d0_4bfe_11ea_a8b9_0c5415364605row47_col5 {\n",
       "            background-color:  #fbf4f9;\n",
       "            color:  #000000;\n",
       "        }    #T_9f2b80d0_4bfe_11ea_a8b9_0c5415364605row47_col6 {\n",
       "            background-color:  #fbf3f9;\n",
       "            color:  #000000;\n",
       "        }    #T_9f2b80d0_4bfe_11ea_a8b9_0c5415364605row47_col7 {\n",
       "            background-color:  #fff7fb;\n",
       "            color:  #000000;\n",
       "        }    #T_9f2b80d0_4bfe_11ea_a8b9_0c5415364605row47_col8 {\n",
       "            background-color:  #fff7fb;\n",
       "            color:  #000000;\n",
       "        }    #T_9f2b80d0_4bfe_11ea_a8b9_0c5415364605row47_col9 {\n",
       "            background-color:  #fff7fb;\n",
       "            color:  #000000;\n",
       "        }    #T_9f2b80d0_4bfe_11ea_a8b9_0c5415364605row47_col10 {\n",
       "            background-color:  #fbf3f9;\n",
       "            color:  #000000;\n",
       "        }    #T_9f2b80d0_4bfe_11ea_a8b9_0c5415364605row47_col11 {\n",
       "            background-color:  #fdf5fa;\n",
       "            color:  #000000;\n",
       "        }    #T_9f2b80d0_4bfe_11ea_a8b9_0c5415364605row47_col12 {\n",
       "            background-color:  #fef6fa;\n",
       "            color:  #000000;\n",
       "        }    #T_9f2b80d0_4bfe_11ea_a8b9_0c5415364605row47_col13 {\n",
       "            background-color:  #fff7fb;\n",
       "            color:  #000000;\n",
       "        }    #T_9f2b80d0_4bfe_11ea_a8b9_0c5415364605row47_col14 {\n",
       "            background-color:  #fef6fa;\n",
       "            color:  #000000;\n",
       "        }    #T_9f2b80d0_4bfe_11ea_a8b9_0c5415364605row47_col15 {\n",
       "            background-color:  #fff7fb;\n",
       "            color:  #000000;\n",
       "        }    #T_9f2b80d0_4bfe_11ea_a8b9_0c5415364605row47_col16 {\n",
       "            background-color:  #fff7fb;\n",
       "            color:  #000000;\n",
       "        }    #T_9f2b80d0_4bfe_11ea_a8b9_0c5415364605row47_col17 {\n",
       "            background-color:  #fff7fb;\n",
       "            color:  #000000;\n",
       "        }    #T_9f2b80d0_4bfe_11ea_a8b9_0c5415364605row47_col18 {\n",
       "            background-color:  #fbf3f9;\n",
       "            color:  #000000;\n",
       "        }    #T_9f2b80d0_4bfe_11ea_a8b9_0c5415364605row47_col19 {\n",
       "            background-color:  #fdf5fa;\n",
       "            color:  #000000;\n",
       "        }    #T_9f2b80d0_4bfe_11ea_a8b9_0c5415364605row47_col20 {\n",
       "            background-color:  #fbf4f9;\n",
       "            color:  #000000;\n",
       "        }    #T_9f2b80d0_4bfe_11ea_a8b9_0c5415364605row47_col21 {\n",
       "            background-color:  #fdf5fa;\n",
       "            color:  #000000;\n",
       "        }    #T_9f2b80d0_4bfe_11ea_a8b9_0c5415364605row47_col22 {\n",
       "            background-color:  #fdf5fa;\n",
       "            color:  #000000;\n",
       "        }    #T_9f2b80d0_4bfe_11ea_a8b9_0c5415364605row47_col23 {\n",
       "            background-color:  #fdf5fa;\n",
       "            color:  #000000;\n",
       "        }    #T_9f2b80d0_4bfe_11ea_a8b9_0c5415364605row47_col24 {\n",
       "            background-color:  #fdf5fa;\n",
       "            color:  #000000;\n",
       "        }    #T_9f2b80d0_4bfe_11ea_a8b9_0c5415364605row47_col25 {\n",
       "            background-color:  #fdf5fa;\n",
       "            color:  #000000;\n",
       "        }    #T_9f2b80d0_4bfe_11ea_a8b9_0c5415364605row47_col26 {\n",
       "            background-color:  #fdf5fa;\n",
       "            color:  #000000;\n",
       "        }    #T_9f2b80d0_4bfe_11ea_a8b9_0c5415364605row47_col27 {\n",
       "            background-color:  #fff7fb;\n",
       "            color:  #000000;\n",
       "        }    #T_9f2b80d0_4bfe_11ea_a8b9_0c5415364605row47_col28 {\n",
       "            background-color:  #fef6fb;\n",
       "            color:  #000000;\n",
       "        }    #T_9f2b80d0_4bfe_11ea_a8b9_0c5415364605row47_col29 {\n",
       "            background-color:  #fbf4f9;\n",
       "            color:  #000000;\n",
       "        }    #T_9f2b80d0_4bfe_11ea_a8b9_0c5415364605row48_col0 {\n",
       "            background-color:  #f9f2f8;\n",
       "            color:  #000000;\n",
       "        }    #T_9f2b80d0_4bfe_11ea_a8b9_0c5415364605row48_col1 {\n",
       "            background-color:  #f9f2f8;\n",
       "            color:  #000000;\n",
       "        }    #T_9f2b80d0_4bfe_11ea_a8b9_0c5415364605row48_col2 {\n",
       "            background-color:  #fdf5fa;\n",
       "            color:  #000000;\n",
       "        }    #T_9f2b80d0_4bfe_11ea_a8b9_0c5415364605row48_col3 {\n",
       "            background-color:  #f9f2f8;\n",
       "            color:  #000000;\n",
       "        }    #T_9f2b80d0_4bfe_11ea_a8b9_0c5415364605row48_col4 {\n",
       "            background-color:  #f7f0f7;\n",
       "            color:  #000000;\n",
       "        }    #T_9f2b80d0_4bfe_11ea_a8b9_0c5415364605row48_col5 {\n",
       "            background-color:  #eee9f3;\n",
       "            color:  #000000;\n",
       "        }    #T_9f2b80d0_4bfe_11ea_a8b9_0c5415364605row48_col6 {\n",
       "            background-color:  #f1ebf4;\n",
       "            color:  #000000;\n",
       "        }    #T_9f2b80d0_4bfe_11ea_a8b9_0c5415364605row48_col7 {\n",
       "            background-color:  #faf3f9;\n",
       "            color:  #000000;\n",
       "        }    #T_9f2b80d0_4bfe_11ea_a8b9_0c5415364605row48_col8 {\n",
       "            background-color:  #faf3f9;\n",
       "            color:  #000000;\n",
       "        }    #T_9f2b80d0_4bfe_11ea_a8b9_0c5415364605row48_col9 {\n",
       "            background-color:  #fbf3f9;\n",
       "            color:  #000000;\n",
       "        }    #T_9f2b80d0_4bfe_11ea_a8b9_0c5415364605row48_col10 {\n",
       "            background-color:  #f2ecf5;\n",
       "            color:  #000000;\n",
       "        }    #T_9f2b80d0_4bfe_11ea_a8b9_0c5415364605row48_col11 {\n",
       "            background-color:  #f7f0f7;\n",
       "            color:  #000000;\n",
       "        }    #T_9f2b80d0_4bfe_11ea_a8b9_0c5415364605row48_col12 {\n",
       "            background-color:  #faf2f8;\n",
       "            color:  #000000;\n",
       "        }    #T_9f2b80d0_4bfe_11ea_a8b9_0c5415364605row48_col13 {\n",
       "            background-color:  #fef6fa;\n",
       "            color:  #000000;\n",
       "        }    #T_9f2b80d0_4bfe_11ea_a8b9_0c5415364605row48_col14 {\n",
       "            background-color:  #fbf3f9;\n",
       "            color:  #000000;\n",
       "        }    #T_9f2b80d0_4bfe_11ea_a8b9_0c5415364605row48_col15 {\n",
       "            background-color:  #f5eef6;\n",
       "            color:  #000000;\n",
       "        }    #T_9f2b80d0_4bfe_11ea_a8b9_0c5415364605row48_col16 {\n",
       "            background-color:  #faf3f9;\n",
       "            color:  #000000;\n",
       "        }    #T_9f2b80d0_4bfe_11ea_a8b9_0c5415364605row48_col17 {\n",
       "            background-color:  #faf2f8;\n",
       "            color:  #000000;\n",
       "        }    #T_9f2b80d0_4bfe_11ea_a8b9_0c5415364605row48_col18 {\n",
       "            background-color:  #fdf5fa;\n",
       "            color:  #000000;\n",
       "        }    #T_9f2b80d0_4bfe_11ea_a8b9_0c5415364605row48_col19 {\n",
       "            background-color:  #fcf4fa;\n",
       "            color:  #000000;\n",
       "        }    #T_9f2b80d0_4bfe_11ea_a8b9_0c5415364605row48_col20 {\n",
       "            background-color:  #fef6fa;\n",
       "            color:  #000000;\n",
       "        }    #T_9f2b80d0_4bfe_11ea_a8b9_0c5415364605row48_col21 {\n",
       "            background-color:  #fbf4f9;\n",
       "            color:  #000000;\n",
       "        }    #T_9f2b80d0_4bfe_11ea_a8b9_0c5415364605row48_col22 {\n",
       "            background-color:  #fbf4f9;\n",
       "            color:  #000000;\n",
       "        }    #T_9f2b80d0_4bfe_11ea_a8b9_0c5415364605row48_col23 {\n",
       "            background-color:  #faf3f9;\n",
       "            color:  #000000;\n",
       "        }    #T_9f2b80d0_4bfe_11ea_a8b9_0c5415364605row48_col24 {\n",
       "            background-color:  #faf3f9;\n",
       "            color:  #000000;\n",
       "        }    #T_9f2b80d0_4bfe_11ea_a8b9_0c5415364605row48_col25 {\n",
       "            background-color:  #fbf4f9;\n",
       "            color:  #000000;\n",
       "        }    #T_9f2b80d0_4bfe_11ea_a8b9_0c5415364605row48_col26 {\n",
       "            background-color:  #fdf5fa;\n",
       "            color:  #000000;\n",
       "        }    #T_9f2b80d0_4bfe_11ea_a8b9_0c5415364605row48_col27 {\n",
       "            background-color:  #fff7fb;\n",
       "            color:  #000000;\n",
       "        }    #T_9f2b80d0_4bfe_11ea_a8b9_0c5415364605row48_col28 {\n",
       "            background-color:  #fff7fb;\n",
       "            color:  #000000;\n",
       "        }    #T_9f2b80d0_4bfe_11ea_a8b9_0c5415364605row48_col29 {\n",
       "            background-color:  #dedcec;\n",
       "            color:  #000000;\n",
       "        }    #T_9f2b80d0_4bfe_11ea_a8b9_0c5415364605row49_col0 {\n",
       "            background-color:  #fff7fb;\n",
       "            color:  #000000;\n",
       "        }    #T_9f2b80d0_4bfe_11ea_a8b9_0c5415364605row49_col1 {\n",
       "            background-color:  #f8f1f8;\n",
       "            color:  #000000;\n",
       "        }    #T_9f2b80d0_4bfe_11ea_a8b9_0c5415364605row49_col2 {\n",
       "            background-color:  #f3edf5;\n",
       "            color:  #000000;\n",
       "        }    #T_9f2b80d0_4bfe_11ea_a8b9_0c5415364605row49_col3 {\n",
       "            background-color:  #f1ebf5;\n",
       "            color:  #000000;\n",
       "        }    #T_9f2b80d0_4bfe_11ea_a8b9_0c5415364605row49_col4 {\n",
       "            background-color:  #f6eff7;\n",
       "            color:  #000000;\n",
       "        }    #T_9f2b80d0_4bfe_11ea_a8b9_0c5415364605row49_col5 {\n",
       "            background-color:  #f5eff6;\n",
       "            color:  #000000;\n",
       "        }    #T_9f2b80d0_4bfe_11ea_a8b9_0c5415364605row49_col6 {\n",
       "            background-color:  #fbf4f9;\n",
       "            color:  #000000;\n",
       "        }    #T_9f2b80d0_4bfe_11ea_a8b9_0c5415364605row49_col7 {\n",
       "            background-color:  #fff7fb;\n",
       "            color:  #000000;\n",
       "        }    #T_9f2b80d0_4bfe_11ea_a8b9_0c5415364605row49_col8 {\n",
       "            background-color:  #fef6fb;\n",
       "            color:  #000000;\n",
       "        }    #T_9f2b80d0_4bfe_11ea_a8b9_0c5415364605row49_col9 {\n",
       "            background-color:  #fef6fa;\n",
       "            color:  #000000;\n",
       "        }    #T_9f2b80d0_4bfe_11ea_a8b9_0c5415364605row49_col10 {\n",
       "            background-color:  #faf2f8;\n",
       "            color:  #000000;\n",
       "        }    #T_9f2b80d0_4bfe_11ea_a8b9_0c5415364605row49_col11 {\n",
       "            background-color:  #fef6fa;\n",
       "            color:  #000000;\n",
       "        }    #T_9f2b80d0_4bfe_11ea_a8b9_0c5415364605row49_col12 {\n",
       "            background-color:  #fef6fa;\n",
       "            color:  #000000;\n",
       "        }    #T_9f2b80d0_4bfe_11ea_a8b9_0c5415364605row49_col13 {\n",
       "            background-color:  #fff7fb;\n",
       "            color:  #000000;\n",
       "        }    #T_9f2b80d0_4bfe_11ea_a8b9_0c5415364605row49_col14 {\n",
       "            background-color:  #faf3f9;\n",
       "            color:  #000000;\n",
       "        }    #T_9f2b80d0_4bfe_11ea_a8b9_0c5415364605row49_col15 {\n",
       "            background-color:  #faf3f9;\n",
       "            color:  #000000;\n",
       "        }    #T_9f2b80d0_4bfe_11ea_a8b9_0c5415364605row49_col16 {\n",
       "            background-color:  #fdf5fa;\n",
       "            color:  #000000;\n",
       "        }    #T_9f2b80d0_4bfe_11ea_a8b9_0c5415364605row49_col17 {\n",
       "            background-color:  #fbf4f9;\n",
       "            color:  #000000;\n",
       "        }    #T_9f2b80d0_4bfe_11ea_a8b9_0c5415364605row49_col18 {\n",
       "            background-color:  #fdf5fa;\n",
       "            color:  #000000;\n",
       "        }    #T_9f2b80d0_4bfe_11ea_a8b9_0c5415364605row49_col19 {\n",
       "            background-color:  #fcf4fa;\n",
       "            color:  #000000;\n",
       "        }    #T_9f2b80d0_4bfe_11ea_a8b9_0c5415364605row49_col20 {\n",
       "            background-color:  #fcf4fa;\n",
       "            color:  #000000;\n",
       "        }    #T_9f2b80d0_4bfe_11ea_a8b9_0c5415364605row49_col21 {\n",
       "            background-color:  #fdf5fa;\n",
       "            color:  #000000;\n",
       "        }    #T_9f2b80d0_4bfe_11ea_a8b9_0c5415364605row49_col22 {\n",
       "            background-color:  #fcf4fa;\n",
       "            color:  #000000;\n",
       "        }    #T_9f2b80d0_4bfe_11ea_a8b9_0c5415364605row49_col23 {\n",
       "            background-color:  #fcf4fa;\n",
       "            color:  #000000;\n",
       "        }    #T_9f2b80d0_4bfe_11ea_a8b9_0c5415364605row49_col24 {\n",
       "            background-color:  #fcf4fa;\n",
       "            color:  #000000;\n",
       "        }    #T_9f2b80d0_4bfe_11ea_a8b9_0c5415364605row49_col25 {\n",
       "            background-color:  #fcf4fa;\n",
       "            color:  #000000;\n",
       "        }    #T_9f2b80d0_4bfe_11ea_a8b9_0c5415364605row49_col26 {\n",
       "            background-color:  #fcf4fa;\n",
       "            color:  #000000;\n",
       "        }    #T_9f2b80d0_4bfe_11ea_a8b9_0c5415364605row49_col27 {\n",
       "            background-color:  #fef6fb;\n",
       "            color:  #000000;\n",
       "        }    #T_9f2b80d0_4bfe_11ea_a8b9_0c5415364605row49_col28 {\n",
       "            background-color:  #fff7fb;\n",
       "            color:  #000000;\n",
       "        }    #T_9f2b80d0_4bfe_11ea_a8b9_0c5415364605row49_col29 {\n",
       "            background-color:  #fef6fa;\n",
       "            color:  #000000;\n",
       "        }</style><table id=\"T_9f2b80d0_4bfe_11ea_a8b9_0c5415364605\" ><thead>    <tr>        <th class=\"blank level0\" ></th>        <th class=\"col_heading level0 col0\" >NBkilder_Amundsen_Slededagbok.xml</th>        <th class=\"col_heading level0 col1\" >NBkilder_Collett_Brev_1841-51.xml</th>        <th class=\"col_heading level0 col2\" >NBkilder_Collett_Brev_1852-63.xml</th>        <th class=\"col_heading level0 col3\" >NBkilder_Collett_Brev_til_Bjornson.xml</th>        <th class=\"col_heading level0 col4\" >NBkilder_Collett_Brev_til_Ibsen.xml</th>        <th class=\"col_heading level0 col5\" >NBkilder_Collett_Brev_til_Lie.xml</th>        <th class=\"col_heading level0 col6\" >NBkilder_Collett_Skildpadde.xml</th>        <th class=\"col_heading level0 col7\" >NBkilder_Dardel_Voyage.xml</th>        <th class=\"col_heading level0 col8\" >NBkilder_Grunnlovskilder1814.xml</th>        <th class=\"col_heading level0 col9\" >NBkilder_Kjerulf_1833.xml</th>        <th class=\"col_heading level0 col10\" >NBkilder_Kjerulf_1840.xml</th>        <th class=\"col_heading level0 col11\" >NBkilder_Kjerulf_1850.xml</th>        <th class=\"col_heading level0 col12\" >NBkilder_Kjerulf_1851.xml</th>        <th class=\"col_heading level0 col13\" >NBkilder_Kjerulf_1852.xml</th>        <th class=\"col_heading level0 col14\" >NBkilder_Kjerulf_1854.xml</th>        <th class=\"col_heading level0 col15\" >NBkilder_KKielland_AGarborg_brev.xml</th>        <th class=\"col_heading level0 col16\" >NBkilder_KKielland_DSkavlan_brev.xml</th>        <th class=\"col_heading level0 col17\" >NBkilder_KKielland_EPeterssen_brev.xml</th>        <th class=\"col_heading level0 col18\" >NBkilder_Koren_1798.xml</th>        <th class=\"col_heading level0 col19\" >NBkilder_Koren_1802.xml</th>        <th class=\"col_heading level0 col20\" >NBkilder_Koren_1805.xml</th>        <th class=\"col_heading level0 col21\" >NBkilder_Koren_1808.xml</th>        <th class=\"col_heading level0 col22\" >NBkilder_Koren_1809.xml</th>        <th class=\"col_heading level0 col23\" >NBkilder_Koren_1810.xml</th>        <th class=\"col_heading level0 col24\" >NBkilder_Koren_1811.xml</th>        <th class=\"col_heading level0 col25\" >NBkilder_Koren_1812.xml</th>        <th class=\"col_heading level0 col26\" >NBkilder_Koren_1813.xml</th>        <th class=\"col_heading level0 col27\" >NBkilder_Koren_1814.xml</th>        <th class=\"col_heading level0 col28\" >NBkilder_Koren_1815.xml</th>        <th class=\"col_heading level0 col29\" >NBkilder_Undset_Fragmenter.xml</th>    </tr></thead><tbody>\n",
       "                <tr>\n",
       "                        <th id=\"T_9f2b80d0_4bfe_11ea_a8b9_0c5415364605level0_row0\" class=\"row_heading level0 row0\" >,</th>\n",
       "                        <td id=\"T_9f2b80d0_4bfe_11ea_a8b9_0c5415364605row0_col0\" class=\"data row0 col0\" >590</td>\n",
       "                        <td id=\"T_9f2b80d0_4bfe_11ea_a8b9_0c5415364605row0_col1\" class=\"data row0 col1\" >1849</td>\n",
       "                        <td id=\"T_9f2b80d0_4bfe_11ea_a8b9_0c5415364605row0_col2\" class=\"data row0 col2\" >4098</td>\n",
       "                        <td id=\"T_9f2b80d0_4bfe_11ea_a8b9_0c5415364605row0_col3\" class=\"data row0 col3\" >143</td>\n",
       "                        <td id=\"T_9f2b80d0_4bfe_11ea_a8b9_0c5415364605row0_col4\" class=\"data row0 col4\" >723</td>\n",
       "                        <td id=\"T_9f2b80d0_4bfe_11ea_a8b9_0c5415364605row0_col5\" class=\"data row0 col5\" >749</td>\n",
       "                        <td id=\"T_9f2b80d0_4bfe_11ea_a8b9_0c5415364605row0_col6\" class=\"data row0 col6\" >767</td>\n",
       "                        <td id=\"T_9f2b80d0_4bfe_11ea_a8b9_0c5415364605row0_col7\" class=\"data row0 col7\" >3820</td>\n",
       "                        <td id=\"T_9f2b80d0_4bfe_11ea_a8b9_0c5415364605row0_col8\" class=\"data row0 col8\" >886</td>\n",
       "                        <td id=\"T_9f2b80d0_4bfe_11ea_a8b9_0c5415364605row0_col9\" class=\"data row0 col9\" >133</td>\n",
       "                        <td id=\"T_9f2b80d0_4bfe_11ea_a8b9_0c5415364605row0_col10\" class=\"data row0 col10\" >475</td>\n",
       "                        <td id=\"T_9f2b80d0_4bfe_11ea_a8b9_0c5415364605row0_col11\" class=\"data row0 col11\" >1414</td>\n",
       "                        <td id=\"T_9f2b80d0_4bfe_11ea_a8b9_0c5415364605row0_col12\" class=\"data row0 col12\" >595</td>\n",
       "                        <td id=\"T_9f2b80d0_4bfe_11ea_a8b9_0c5415364605row0_col13\" class=\"data row0 col13\" >130</td>\n",
       "                        <td id=\"T_9f2b80d0_4bfe_11ea_a8b9_0c5415364605row0_col14\" class=\"data row0 col14\" >186</td>\n",
       "                        <td id=\"T_9f2b80d0_4bfe_11ea_a8b9_0c5415364605row0_col15\" class=\"data row0 col15\" >3285</td>\n",
       "                        <td id=\"T_9f2b80d0_4bfe_11ea_a8b9_0c5415364605row0_col16\" class=\"data row0 col16\" >1732</td>\n",
       "                        <td id=\"T_9f2b80d0_4bfe_11ea_a8b9_0c5415364605row0_col17\" class=\"data row0 col17\" >3062</td>\n",
       "                        <td id=\"T_9f2b80d0_4bfe_11ea_a8b9_0c5415364605row0_col18\" class=\"data row0 col18\" >586</td>\n",
       "                        <td id=\"T_9f2b80d0_4bfe_11ea_a8b9_0c5415364605row0_col19\" class=\"data row0 col19\" >5876</td>\n",
       "                        <td id=\"T_9f2b80d0_4bfe_11ea_a8b9_0c5415364605row0_col20\" class=\"data row0 col20\" >457</td>\n",
       "                        <td id=\"T_9f2b80d0_4bfe_11ea_a8b9_0c5415364605row0_col21\" class=\"data row0 col21\" >10101</td>\n",
       "                        <td id=\"T_9f2b80d0_4bfe_11ea_a8b9_0c5415364605row0_col22\" class=\"data row0 col22\" >10002</td>\n",
       "                        <td id=\"T_9f2b80d0_4bfe_11ea_a8b9_0c5415364605row0_col23\" class=\"data row0 col23\" >12681</td>\n",
       "                        <td id=\"T_9f2b80d0_4bfe_11ea_a8b9_0c5415364605row0_col24\" class=\"data row0 col24\" >12024</td>\n",
       "                        <td id=\"T_9f2b80d0_4bfe_11ea_a8b9_0c5415364605row0_col25\" class=\"data row0 col25\" >15671</td>\n",
       "                        <td id=\"T_9f2b80d0_4bfe_11ea_a8b9_0c5415364605row0_col26\" class=\"data row0 col26\" >13109</td>\n",
       "                        <td id=\"T_9f2b80d0_4bfe_11ea_a8b9_0c5415364605row0_col27\" class=\"data row0 col27\" >3563</td>\n",
       "                        <td id=\"T_9f2b80d0_4bfe_11ea_a8b9_0c5415364605row0_col28\" class=\"data row0 col28\" >412</td>\n",
       "                        <td id=\"T_9f2b80d0_4bfe_11ea_a8b9_0c5415364605row0_col29\" class=\"data row0 col29\" >610</td>\n",
       "            </tr>\n",
       "            <tr>\n",
       "                        <th id=\"T_9f2b80d0_4bfe_11ea_a8b9_0c5415364605level0_row1\" class=\"row_heading level0 row1\" >og</th>\n",
       "                        <td id=\"T_9f2b80d0_4bfe_11ea_a8b9_0c5415364605row1_col0\" class=\"data row1 col0\" >119</td>\n",
       "                        <td id=\"T_9f2b80d0_4bfe_11ea_a8b9_0c5415364605row1_col1\" class=\"data row1 col1\" >957</td>\n",
       "                        <td id=\"T_9f2b80d0_4bfe_11ea_a8b9_0c5415364605row1_col2\" class=\"data row1 col2\" >1922</td>\n",
       "                        <td id=\"T_9f2b80d0_4bfe_11ea_a8b9_0c5415364605row1_col3\" class=\"data row1 col3\" >49</td>\n",
       "                        <td id=\"T_9f2b80d0_4bfe_11ea_a8b9_0c5415364605row1_col4\" class=\"data row1 col4\" >256</td>\n",
       "                        <td id=\"T_9f2b80d0_4bfe_11ea_a8b9_0c5415364605row1_col5\" class=\"data row1 col5\" >237</td>\n",
       "                        <td id=\"T_9f2b80d0_4bfe_11ea_a8b9_0c5415364605row1_col6\" class=\"data row1 col6\" >461</td>\n",
       "                        <td id=\"T_9f2b80d0_4bfe_11ea_a8b9_0c5415364605row1_col7\" class=\"data row1 col7\" >1263</td>\n",
       "                        <td id=\"T_9f2b80d0_4bfe_11ea_a8b9_0c5415364605row1_col8\" class=\"data row1 col8\" >510</td>\n",
       "                        <td id=\"T_9f2b80d0_4bfe_11ea_a8b9_0c5415364605row1_col9\" class=\"data row1 col9\" >52</td>\n",
       "                        <td id=\"T_9f2b80d0_4bfe_11ea_a8b9_0c5415364605row1_col10\" class=\"data row1 col10\" >688</td>\n",
       "                        <td id=\"T_9f2b80d0_4bfe_11ea_a8b9_0c5415364605row1_col11\" class=\"data row1 col11\" >2042</td>\n",
       "                        <td id=\"T_9f2b80d0_4bfe_11ea_a8b9_0c5415364605row1_col12\" class=\"data row1 col12\" >976</td>\n",
       "                        <td id=\"T_9f2b80d0_4bfe_11ea_a8b9_0c5415364605row1_col13\" class=\"data row1 col13\" >257</td>\n",
       "                        <td id=\"T_9f2b80d0_4bfe_11ea_a8b9_0c5415364605row1_col14\" class=\"data row1 col14\" >457</td>\n",
       "                        <td id=\"T_9f2b80d0_4bfe_11ea_a8b9_0c5415364605row1_col15\" class=\"data row1 col15\" >963</td>\n",
       "                        <td id=\"T_9f2b80d0_4bfe_11ea_a8b9_0c5415364605row1_col16\" class=\"data row1 col16\" >539</td>\n",
       "                        <td id=\"T_9f2b80d0_4bfe_11ea_a8b9_0c5415364605row1_col17\" class=\"data row1 col17\" >800</td>\n",
       "                        <td id=\"T_9f2b80d0_4bfe_11ea_a8b9_0c5415364605row1_col18\" class=\"data row1 col18\" >252</td>\n",
       "                        <td id=\"T_9f2b80d0_4bfe_11ea_a8b9_0c5415364605row1_col19\" class=\"data row1 col19\" >1800</td>\n",
       "                        <td id=\"T_9f2b80d0_4bfe_11ea_a8b9_0c5415364605row1_col20\" class=\"data row1 col20\" >159</td>\n",
       "                        <td id=\"T_9f2b80d0_4bfe_11ea_a8b9_0c5415364605row1_col21\" class=\"data row1 col21\" >3443</td>\n",
       "                        <td id=\"T_9f2b80d0_4bfe_11ea_a8b9_0c5415364605row1_col22\" class=\"data row1 col22\" >3782</td>\n",
       "                        <td id=\"T_9f2b80d0_4bfe_11ea_a8b9_0c5415364605row1_col23\" class=\"data row1 col23\" >5196</td>\n",
       "                        <td id=\"T_9f2b80d0_4bfe_11ea_a8b9_0c5415364605row1_col24\" class=\"data row1 col24\" >5486</td>\n",
       "                        <td id=\"T_9f2b80d0_4bfe_11ea_a8b9_0c5415364605row1_col25\" class=\"data row1 col25\" >6633</td>\n",
       "                        <td id=\"T_9f2b80d0_4bfe_11ea_a8b9_0c5415364605row1_col26\" class=\"data row1 col26\" >5731</td>\n",
       "                        <td id=\"T_9f2b80d0_4bfe_11ea_a8b9_0c5415364605row1_col27\" class=\"data row1 col27\" >1318</td>\n",
       "                        <td id=\"T_9f2b80d0_4bfe_11ea_a8b9_0c5415364605row1_col28\" class=\"data row1 col28\" >158</td>\n",
       "                        <td id=\"T_9f2b80d0_4bfe_11ea_a8b9_0c5415364605row1_col29\" class=\"data row1 col29\" >328</td>\n",
       "            </tr>\n",
       "            <tr>\n",
       "                        <th id=\"T_9f2b80d0_4bfe_11ea_a8b9_0c5415364605level0_row2\" class=\"row_heading level0 row2\" >.</th>\n",
       "                        <td id=\"T_9f2b80d0_4bfe_11ea_a8b9_0c5415364605row2_col0\" class=\"data row2 col0\" >2439</td>\n",
       "                        <td id=\"T_9f2b80d0_4bfe_11ea_a8b9_0c5415364605row2_col1\" class=\"data row2 col1\" >1469</td>\n",
       "                        <td id=\"T_9f2b80d0_4bfe_11ea_a8b9_0c5415364605row2_col2\" class=\"data row2 col2\" >2538</td>\n",
       "                        <td id=\"T_9f2b80d0_4bfe_11ea_a8b9_0c5415364605row2_col3\" class=\"data row2 col3\" >99</td>\n",
       "                        <td id=\"T_9f2b80d0_4bfe_11ea_a8b9_0c5415364605row2_col4\" class=\"data row2 col4\" >523</td>\n",
       "                        <td id=\"T_9f2b80d0_4bfe_11ea_a8b9_0c5415364605row2_col5\" class=\"data row2 col5\" >475</td>\n",
       "                        <td id=\"T_9f2b80d0_4bfe_11ea_a8b9_0c5415364605row2_col6\" class=\"data row2 col6\" >484</td>\n",
       "                        <td id=\"T_9f2b80d0_4bfe_11ea_a8b9_0c5415364605row2_col7\" class=\"data row2 col7\" >2691</td>\n",
       "                        <td id=\"T_9f2b80d0_4bfe_11ea_a8b9_0c5415364605row2_col8\" class=\"data row2 col8\" >873</td>\n",
       "                        <td id=\"T_9f2b80d0_4bfe_11ea_a8b9_0c5415364605row2_col9\" class=\"data row2 col9\" >245</td>\n",
       "                        <td id=\"T_9f2b80d0_4bfe_11ea_a8b9_0c5415364605row2_col10\" class=\"data row2 col10\" >515</td>\n",
       "                        <td id=\"T_9f2b80d0_4bfe_11ea_a8b9_0c5415364605row2_col11\" class=\"data row2 col11\" >5443</td>\n",
       "                        <td id=\"T_9f2b80d0_4bfe_11ea_a8b9_0c5415364605row2_col12\" class=\"data row2 col12\" >2607</td>\n",
       "                        <td id=\"T_9f2b80d0_4bfe_11ea_a8b9_0c5415364605row2_col13\" class=\"data row2 col13\" >1733</td>\n",
       "                        <td id=\"T_9f2b80d0_4bfe_11ea_a8b9_0c5415364605row2_col14\" class=\"data row2 col14\" >1180</td>\n",
       "                        <td id=\"T_9f2b80d0_4bfe_11ea_a8b9_0c5415364605row2_col15\" class=\"data row2 col15\" >1824</td>\n",
       "                        <td id=\"T_9f2b80d0_4bfe_11ea_a8b9_0c5415364605row2_col16\" class=\"data row2 col16\" >877</td>\n",
       "                        <td id=\"T_9f2b80d0_4bfe_11ea_a8b9_0c5415364605row2_col17\" class=\"data row2 col17\" >1582</td>\n",
       "                        <td id=\"T_9f2b80d0_4bfe_11ea_a8b9_0c5415364605row2_col18\" class=\"data row2 col18\" >257</td>\n",
       "                        <td id=\"T_9f2b80d0_4bfe_11ea_a8b9_0c5415364605row2_col19\" class=\"data row2 col19\" >2212</td>\n",
       "                        <td id=\"T_9f2b80d0_4bfe_11ea_a8b9_0c5415364605row2_col20\" class=\"data row2 col20\" >156</td>\n",
       "                        <td id=\"T_9f2b80d0_4bfe_11ea_a8b9_0c5415364605row2_col21\" class=\"data row2 col21\" >3712</td>\n",
       "                        <td id=\"T_9f2b80d0_4bfe_11ea_a8b9_0c5415364605row2_col22\" class=\"data row2 col22\" >3364</td>\n",
       "                        <td id=\"T_9f2b80d0_4bfe_11ea_a8b9_0c5415364605row2_col23\" class=\"data row2 col23\" >5106</td>\n",
       "                        <td id=\"T_9f2b80d0_4bfe_11ea_a8b9_0c5415364605row2_col24\" class=\"data row2 col24\" >4263</td>\n",
       "                        <td id=\"T_9f2b80d0_4bfe_11ea_a8b9_0c5415364605row2_col25\" class=\"data row2 col25\" >5713</td>\n",
       "                        <td id=\"T_9f2b80d0_4bfe_11ea_a8b9_0c5415364605row2_col26\" class=\"data row2 col26\" >5575</td>\n",
       "                        <td id=\"T_9f2b80d0_4bfe_11ea_a8b9_0c5415364605row2_col27\" class=\"data row2 col27\" >1539</td>\n",
       "                        <td id=\"T_9f2b80d0_4bfe_11ea_a8b9_0c5415364605row2_col28\" class=\"data row2 col28\" >127</td>\n",
       "                        <td id=\"T_9f2b80d0_4bfe_11ea_a8b9_0c5415364605row2_col29\" class=\"data row2 col29\" >464</td>\n",
       "            </tr>\n",
       "            <tr>\n",
       "                        <th id=\"T_9f2b80d0_4bfe_11ea_a8b9_0c5415364605level0_row3\" class=\"row_heading level0 row3\" >jeg</th>\n",
       "                        <td id=\"T_9f2b80d0_4bfe_11ea_a8b9_0c5415364605row3_col0\" class=\"data row3 col0\" >1</td>\n",
       "                        <td id=\"T_9f2b80d0_4bfe_11ea_a8b9_0c5415364605row3_col1\" class=\"data row3 col1\" >952</td>\n",
       "                        <td id=\"T_9f2b80d0_4bfe_11ea_a8b9_0c5415364605row3_col2\" class=\"data row3 col2\" >1568</td>\n",
       "                        <td id=\"T_9f2b80d0_4bfe_11ea_a8b9_0c5415364605row3_col3\" class=\"data row3 col3\" >68</td>\n",
       "                        <td id=\"T_9f2b80d0_4bfe_11ea_a8b9_0c5415364605row3_col4\" class=\"data row3 col4\" >302</td>\n",
       "                        <td id=\"T_9f2b80d0_4bfe_11ea_a8b9_0c5415364605row3_col5\" class=\"data row3 col5\" >254</td>\n",
       "                        <td id=\"T_9f2b80d0_4bfe_11ea_a8b9_0c5415364605row3_col6\" class=\"data row3 col6\" >361</td>\n",
       "                        <td id=\"T_9f2b80d0_4bfe_11ea_a8b9_0c5415364605row3_col7\" class=\"data row3 col7\" >226</td>\n",
       "                        <td id=\"T_9f2b80d0_4bfe_11ea_a8b9_0c5415364605row3_col8\" class=\"data row3 col8\" >3</td>\n",
       "                        <td id=\"T_9f2b80d0_4bfe_11ea_a8b9_0c5415364605row3_col9\" class=\"data row3 col9\" >6</td>\n",
       "                        <td id=\"T_9f2b80d0_4bfe_11ea_a8b9_0c5415364605row3_col10\" class=\"data row3 col10\" >236</td>\n",
       "                        <td id=\"T_9f2b80d0_4bfe_11ea_a8b9_0c5415364605row3_col11\" class=\"data row3 col11\" >229</td>\n",
       "                        <td id=\"T_9f2b80d0_4bfe_11ea_a8b9_0c5415364605row3_col12\" class=\"data row3 col12\" >150</td>\n",
       "                        <td id=\"T_9f2b80d0_4bfe_11ea_a8b9_0c5415364605row3_col13\" class=\"data row3 col13\" >17</td>\n",
       "                        <td id=\"T_9f2b80d0_4bfe_11ea_a8b9_0c5415364605row3_col14\" class=\"data row3 col14\" >52</td>\n",
       "                        <td id=\"T_9f2b80d0_4bfe_11ea_a8b9_0c5415364605row3_col15\" class=\"data row3 col15\" >1161</td>\n",
       "                        <td id=\"T_9f2b80d0_4bfe_11ea_a8b9_0c5415364605row3_col16\" class=\"data row3 col16\" >412</td>\n",
       "                        <td id=\"T_9f2b80d0_4bfe_11ea_a8b9_0c5415364605row3_col17\" class=\"data row3 col17\" >847</td>\n",
       "                        <td id=\"T_9f2b80d0_4bfe_11ea_a8b9_0c5415364605row3_col18\" class=\"data row3 col18\" >0</td>\n",
       "                        <td id=\"T_9f2b80d0_4bfe_11ea_a8b9_0c5415364605row3_col19\" class=\"data row3 col19\" >1550</td>\n",
       "                        <td id=\"T_9f2b80d0_4bfe_11ea_a8b9_0c5415364605row3_col20\" class=\"data row3 col20\" >57</td>\n",
       "                        <td id=\"T_9f2b80d0_4bfe_11ea_a8b9_0c5415364605row3_col21\" class=\"data row3 col21\" >1787</td>\n",
       "                        <td id=\"T_9f2b80d0_4bfe_11ea_a8b9_0c5415364605row3_col22\" class=\"data row3 col22\" >1806</td>\n",
       "                        <td id=\"T_9f2b80d0_4bfe_11ea_a8b9_0c5415364605row3_col23\" class=\"data row3 col23\" >2687</td>\n",
       "                        <td id=\"T_9f2b80d0_4bfe_11ea_a8b9_0c5415364605row3_col24\" class=\"data row3 col24\" >2970</td>\n",
       "                        <td id=\"T_9f2b80d0_4bfe_11ea_a8b9_0c5415364605row3_col25\" class=\"data row3 col25\" >3707</td>\n",
       "                        <td id=\"T_9f2b80d0_4bfe_11ea_a8b9_0c5415364605row3_col26\" class=\"data row3 col26\" >3165</td>\n",
       "                        <td id=\"T_9f2b80d0_4bfe_11ea_a8b9_0c5415364605row3_col27\" class=\"data row3 col27\" >744</td>\n",
       "                        <td id=\"T_9f2b80d0_4bfe_11ea_a8b9_0c5415364605row3_col28\" class=\"data row3 col28\" >108</td>\n",
       "                        <td id=\"T_9f2b80d0_4bfe_11ea_a8b9_0c5415364605row3_col29\" class=\"data row3 col29\" >140</td>\n",
       "            </tr>\n",
       "            <tr>\n",
       "                        <th id=\"T_9f2b80d0_4bfe_11ea_a8b9_0c5415364605level0_row4\" class=\"row_heading level0 row4\" >at</th>\n",
       "                        <td id=\"T_9f2b80d0_4bfe_11ea_a8b9_0c5415364605row4_col0\" class=\"data row4 col0\" >67</td>\n",
       "                        <td id=\"T_9f2b80d0_4bfe_11ea_a8b9_0c5415364605row4_col1\" class=\"data row4 col1\" >761</td>\n",
       "                        <td id=\"T_9f2b80d0_4bfe_11ea_a8b9_0c5415364605row4_col2\" class=\"data row4 col2\" >1445</td>\n",
       "                        <td id=\"T_9f2b80d0_4bfe_11ea_a8b9_0c5415364605row4_col3\" class=\"data row4 col3\" >74</td>\n",
       "                        <td id=\"T_9f2b80d0_4bfe_11ea_a8b9_0c5415364605row4_col4\" class=\"data row4 col4\" >275</td>\n",
       "                        <td id=\"T_9f2b80d0_4bfe_11ea_a8b9_0c5415364605row4_col5\" class=\"data row4 col5\" >247</td>\n",
       "                        <td id=\"T_9f2b80d0_4bfe_11ea_a8b9_0c5415364605row4_col6\" class=\"data row4 col6\" >366</td>\n",
       "                        <td id=\"T_9f2b80d0_4bfe_11ea_a8b9_0c5415364605row4_col7\" class=\"data row4 col7\" >220</td>\n",
       "                        <td id=\"T_9f2b80d0_4bfe_11ea_a8b9_0c5415364605row4_col8\" class=\"data row4 col8\" >255</td>\n",
       "                        <td id=\"T_9f2b80d0_4bfe_11ea_a8b9_0c5415364605row4_col9\" class=\"data row4 col9\" >23</td>\n",
       "                        <td id=\"T_9f2b80d0_4bfe_11ea_a8b9_0c5415364605row4_col10\" class=\"data row4 col10\" >140</td>\n",
       "                        <td id=\"T_9f2b80d0_4bfe_11ea_a8b9_0c5415364605row4_col11\" class=\"data row4 col11\" >418</td>\n",
       "                        <td id=\"T_9f2b80d0_4bfe_11ea_a8b9_0c5415364605row4_col12\" class=\"data row4 col12\" >234</td>\n",
       "                        <td id=\"T_9f2b80d0_4bfe_11ea_a8b9_0c5415364605row4_col13\" class=\"data row4 col13\" >21</td>\n",
       "                        <td id=\"T_9f2b80d0_4bfe_11ea_a8b9_0c5415364605row4_col14\" class=\"data row4 col14\" >174</td>\n",
       "                        <td id=\"T_9f2b80d0_4bfe_11ea_a8b9_0c5415364605row4_col15\" class=\"data row4 col15\" >1112</td>\n",
       "                        <td id=\"T_9f2b80d0_4bfe_11ea_a8b9_0c5415364605row4_col16\" class=\"data row4 col16\" >394</td>\n",
       "                        <td id=\"T_9f2b80d0_4bfe_11ea_a8b9_0c5415364605row4_col17\" class=\"data row4 col17\" >873</td>\n",
       "                        <td id=\"T_9f2b80d0_4bfe_11ea_a8b9_0c5415364605row4_col18\" class=\"data row4 col18\" >150</td>\n",
       "                        <td id=\"T_9f2b80d0_4bfe_11ea_a8b9_0c5415364605row4_col19\" class=\"data row4 col19\" >884</td>\n",
       "                        <td id=\"T_9f2b80d0_4bfe_11ea_a8b9_0c5415364605row4_col20\" class=\"data row4 col20\" >61</td>\n",
       "                        <td id=\"T_9f2b80d0_4bfe_11ea_a8b9_0c5415364605row4_col21\" class=\"data row4 col21\" >1525</td>\n",
       "                        <td id=\"T_9f2b80d0_4bfe_11ea_a8b9_0c5415364605row4_col22\" class=\"data row4 col22\" >1353</td>\n",
       "                        <td id=\"T_9f2b80d0_4bfe_11ea_a8b9_0c5415364605row4_col23\" class=\"data row4 col23\" >1997</td>\n",
       "                        <td id=\"T_9f2b80d0_4bfe_11ea_a8b9_0c5415364605row4_col24\" class=\"data row4 col24\" >2023</td>\n",
       "                        <td id=\"T_9f2b80d0_4bfe_11ea_a8b9_0c5415364605row4_col25\" class=\"data row4 col25\" >2718</td>\n",
       "                        <td id=\"T_9f2b80d0_4bfe_11ea_a8b9_0c5415364605row4_col26\" class=\"data row4 col26\" >2297</td>\n",
       "                        <td id=\"T_9f2b80d0_4bfe_11ea_a8b9_0c5415364605row4_col27\" class=\"data row4 col27\" >627</td>\n",
       "                        <td id=\"T_9f2b80d0_4bfe_11ea_a8b9_0c5415364605row4_col28\" class=\"data row4 col28\" >78</td>\n",
       "                        <td id=\"T_9f2b80d0_4bfe_11ea_a8b9_0c5415364605row4_col29\" class=\"data row4 col29\" >114</td>\n",
       "            </tr>\n",
       "            <tr>\n",
       "                        <th id=\"T_9f2b80d0_4bfe_11ea_a8b9_0c5415364605level0_row5\" class=\"row_heading level0 row5\" >det</th>\n",
       "                        <td id=\"T_9f2b80d0_4bfe_11ea_a8b9_0c5415364605row5_col0\" class=\"data row5 col0\" >74</td>\n",
       "                        <td id=\"T_9f2b80d0_4bfe_11ea_a8b9_0c5415364605row5_col1\" class=\"data row5 col1\" >611</td>\n",
       "                        <td id=\"T_9f2b80d0_4bfe_11ea_a8b9_0c5415364605row5_col2\" class=\"data row5 col2\" >1094</td>\n",
       "                        <td id=\"T_9f2b80d0_4bfe_11ea_a8b9_0c5415364605row5_col3\" class=\"data row5 col3\" >35</td>\n",
       "                        <td id=\"T_9f2b80d0_4bfe_11ea_a8b9_0c5415364605row5_col4\" class=\"data row5 col4\" >216</td>\n",
       "                        <td id=\"T_9f2b80d0_4bfe_11ea_a8b9_0c5415364605row5_col5\" class=\"data row5 col5\" >239</td>\n",
       "                        <td id=\"T_9f2b80d0_4bfe_11ea_a8b9_0c5415364605row5_col6\" class=\"data row5 col6\" >252</td>\n",
       "                        <td id=\"T_9f2b80d0_4bfe_11ea_a8b9_0c5415364605row5_col7\" class=\"data row5 col7\" >310</td>\n",
       "                        <td id=\"T_9f2b80d0_4bfe_11ea_a8b9_0c5415364605row5_col8\" class=\"data row5 col8\" >112</td>\n",
       "                        <td id=\"T_9f2b80d0_4bfe_11ea_a8b9_0c5415364605row5_col9\" class=\"data row5 col9\" >11</td>\n",
       "                        <td id=\"T_9f2b80d0_4bfe_11ea_a8b9_0c5415364605row5_col10\" class=\"data row5 col10\" >180</td>\n",
       "                        <td id=\"T_9f2b80d0_4bfe_11ea_a8b9_0c5415364605row5_col11\" class=\"data row5 col11\" >470</td>\n",
       "                        <td id=\"T_9f2b80d0_4bfe_11ea_a8b9_0c5415364605row5_col12\" class=\"data row5 col12\" >199</td>\n",
       "                        <td id=\"T_9f2b80d0_4bfe_11ea_a8b9_0c5415364605row5_col13\" class=\"data row5 col13\" >29</td>\n",
       "                        <td id=\"T_9f2b80d0_4bfe_11ea_a8b9_0c5415364605row5_col14\" class=\"data row5 col14\" >94</td>\n",
       "                        <td id=\"T_9f2b80d0_4bfe_11ea_a8b9_0c5415364605row5_col15\" class=\"data row5 col15\" >1063</td>\n",
       "                        <td id=\"T_9f2b80d0_4bfe_11ea_a8b9_0c5415364605row5_col16\" class=\"data row5 col16\" >444</td>\n",
       "                        <td id=\"T_9f2b80d0_4bfe_11ea_a8b9_0c5415364605row5_col17\" class=\"data row5 col17\" >849</td>\n",
       "                        <td id=\"T_9f2b80d0_4bfe_11ea_a8b9_0c5415364605row5_col18\" class=\"data row5 col18\" >102</td>\n",
       "                        <td id=\"T_9f2b80d0_4bfe_11ea_a8b9_0c5415364605row5_col19\" class=\"data row5 col19\" >1037</td>\n",
       "                        <td id=\"T_9f2b80d0_4bfe_11ea_a8b9_0c5415364605row5_col20\" class=\"data row5 col20\" >68</td>\n",
       "                        <td id=\"T_9f2b80d0_4bfe_11ea_a8b9_0c5415364605row5_col21\" class=\"data row5 col21\" >1872</td>\n",
       "                        <td id=\"T_9f2b80d0_4bfe_11ea_a8b9_0c5415364605row5_col22\" class=\"data row5 col22\" >1807</td>\n",
       "                        <td id=\"T_9f2b80d0_4bfe_11ea_a8b9_0c5415364605row5_col23\" class=\"data row5 col23\" >2684</td>\n",
       "                        <td id=\"T_9f2b80d0_4bfe_11ea_a8b9_0c5415364605row5_col24\" class=\"data row5 col24\" >2633</td>\n",
       "                        <td id=\"T_9f2b80d0_4bfe_11ea_a8b9_0c5415364605row5_col25\" class=\"data row5 col25\" >3290</td>\n",
       "                        <td id=\"T_9f2b80d0_4bfe_11ea_a8b9_0c5415364605row5_col26\" class=\"data row5 col26\" >2666</td>\n",
       "                        <td id=\"T_9f2b80d0_4bfe_11ea_a8b9_0c5415364605row5_col27\" class=\"data row5 col27\" >781</td>\n",
       "                        <td id=\"T_9f2b80d0_4bfe_11ea_a8b9_0c5415364605row5_col28\" class=\"data row5 col28\" >78</td>\n",
       "                        <td id=\"T_9f2b80d0_4bfe_11ea_a8b9_0c5415364605row5_col29\" class=\"data row5 col29\" >178</td>\n",
       "            </tr>\n",
       "            <tr>\n",
       "                        <th id=\"T_9f2b80d0_4bfe_11ea_a8b9_0c5415364605level0_row6\" class=\"row_heading level0 row6\" >i</th>\n",
       "                        <td id=\"T_9f2b80d0_4bfe_11ea_a8b9_0c5415364605row6_col0\" class=\"data row6 col0\" >527</td>\n",
       "                        <td id=\"T_9f2b80d0_4bfe_11ea_a8b9_0c5415364605row6_col1\" class=\"data row6 col1\" >551</td>\n",
       "                        <td id=\"T_9f2b80d0_4bfe_11ea_a8b9_0c5415364605row6_col2\" class=\"data row6 col2\" >1092</td>\n",
       "                        <td id=\"T_9f2b80d0_4bfe_11ea_a8b9_0c5415364605row6_col3\" class=\"data row6 col3\" >39</td>\n",
       "                        <td id=\"T_9f2b80d0_4bfe_11ea_a8b9_0c5415364605row6_col4\" class=\"data row6 col4\" >234</td>\n",
       "                        <td id=\"T_9f2b80d0_4bfe_11ea_a8b9_0c5415364605row6_col5\" class=\"data row6 col5\" >272</td>\n",
       "                        <td id=\"T_9f2b80d0_4bfe_11ea_a8b9_0c5415364605row6_col6\" class=\"data row6 col6\" >279</td>\n",
       "                        <td id=\"T_9f2b80d0_4bfe_11ea_a8b9_0c5415364605row6_col7\" class=\"data row6 col7\" >868</td>\n",
       "                        <td id=\"T_9f2b80d0_4bfe_11ea_a8b9_0c5415364605row6_col8\" class=\"data row6 col8\" >431</td>\n",
       "                        <td id=\"T_9f2b80d0_4bfe_11ea_a8b9_0c5415364605row6_col9\" class=\"data row6 col9\" >28</td>\n",
       "                        <td id=\"T_9f2b80d0_4bfe_11ea_a8b9_0c5415364605row6_col10\" class=\"data row6 col10\" >329</td>\n",
       "                        <td id=\"T_9f2b80d0_4bfe_11ea_a8b9_0c5415364605row6_col11\" class=\"data row6 col11\" >1173</td>\n",
       "                        <td id=\"T_9f2b80d0_4bfe_11ea_a8b9_0c5415364605row6_col12\" class=\"data row6 col12\" >557</td>\n",
       "                        <td id=\"T_9f2b80d0_4bfe_11ea_a8b9_0c5415364605row6_col13\" class=\"data row6 col13\" >126</td>\n",
       "                        <td id=\"T_9f2b80d0_4bfe_11ea_a8b9_0c5415364605row6_col14\" class=\"data row6 col14\" >281</td>\n",
       "                        <td id=\"T_9f2b80d0_4bfe_11ea_a8b9_0c5415364605row6_col15\" class=\"data row6 col15\" >729</td>\n",
       "                        <td id=\"T_9f2b80d0_4bfe_11ea_a8b9_0c5415364605row6_col16\" class=\"data row6 col16\" >237</td>\n",
       "                        <td id=\"T_9f2b80d0_4bfe_11ea_a8b9_0c5415364605row6_col17\" class=\"data row6 col17\" >545</td>\n",
       "                        <td id=\"T_9f2b80d0_4bfe_11ea_a8b9_0c5415364605row6_col18\" class=\"data row6 col18\" >116</td>\n",
       "                        <td id=\"T_9f2b80d0_4bfe_11ea_a8b9_0c5415364605row6_col19\" class=\"data row6 col19\" >1150</td>\n",
       "                        <td id=\"T_9f2b80d0_4bfe_11ea_a8b9_0c5415364605row6_col20\" class=\"data row6 col20\" >92</td>\n",
       "                        <td id=\"T_9f2b80d0_4bfe_11ea_a8b9_0c5415364605row6_col21\" class=\"data row6 col21\" >1954</td>\n",
       "                        <td id=\"T_9f2b80d0_4bfe_11ea_a8b9_0c5415364605row6_col22\" class=\"data row6 col22\" >2062</td>\n",
       "                        <td id=\"T_9f2b80d0_4bfe_11ea_a8b9_0c5415364605row6_col23\" class=\"data row6 col23\" >2923</td>\n",
       "                        <td id=\"T_9f2b80d0_4bfe_11ea_a8b9_0c5415364605row6_col24\" class=\"data row6 col24\" >2934</td>\n",
       "                        <td id=\"T_9f2b80d0_4bfe_11ea_a8b9_0c5415364605row6_col25\" class=\"data row6 col25\" >3615</td>\n",
       "                        <td id=\"T_9f2b80d0_4bfe_11ea_a8b9_0c5415364605row6_col26\" class=\"data row6 col26\" >3196</td>\n",
       "                        <td id=\"T_9f2b80d0_4bfe_11ea_a8b9_0c5415364605row6_col27\" class=\"data row6 col27\" >811</td>\n",
       "                        <td id=\"T_9f2b80d0_4bfe_11ea_a8b9_0c5415364605row6_col28\" class=\"data row6 col28\" >74</td>\n",
       "                        <td id=\"T_9f2b80d0_4bfe_11ea_a8b9_0c5415364605row6_col29\" class=\"data row6 col29\" >153</td>\n",
       "            </tr>\n",
       "            <tr>\n",
       "                        <th id=\"T_9f2b80d0_4bfe_11ea_a8b9_0c5415364605level0_row7\" class=\"row_heading level0 row7\" >han</th>\n",
       "                        <td id=\"T_9f2b80d0_4bfe_11ea_a8b9_0c5415364605row7_col0\" class=\"data row7 col0\" >12</td>\n",
       "                        <td id=\"T_9f2b80d0_4bfe_11ea_a8b9_0c5415364605row7_col1\" class=\"data row7 col1\" >189</td>\n",
       "                        <td id=\"T_9f2b80d0_4bfe_11ea_a8b9_0c5415364605row7_col2\" class=\"data row7 col2\" >226</td>\n",
       "                        <td id=\"T_9f2b80d0_4bfe_11ea_a8b9_0c5415364605row7_col3\" class=\"data row7 col3\" >3</td>\n",
       "                        <td id=\"T_9f2b80d0_4bfe_11ea_a8b9_0c5415364605row7_col4\" class=\"data row7 col4\" >26</td>\n",
       "                        <td id=\"T_9f2b80d0_4bfe_11ea_a8b9_0c5415364605row7_col5\" class=\"data row7 col5\" >21</td>\n",
       "                        <td id=\"T_9f2b80d0_4bfe_11ea_a8b9_0c5415364605row7_col6\" class=\"data row7 col6\" >112</td>\n",
       "                        <td id=\"T_9f2b80d0_4bfe_11ea_a8b9_0c5415364605row7_col7\" class=\"data row7 col7\" >249</td>\n",
       "                        <td id=\"T_9f2b80d0_4bfe_11ea_a8b9_0c5415364605row7_col8\" class=\"data row7 col8\" >95</td>\n",
       "                        <td id=\"T_9f2b80d0_4bfe_11ea_a8b9_0c5415364605row7_col9\" class=\"data row7 col9\" >5</td>\n",
       "                        <td id=\"T_9f2b80d0_4bfe_11ea_a8b9_0c5415364605row7_col10\" class=\"data row7 col10\" >81</td>\n",
       "                        <td id=\"T_9f2b80d0_4bfe_11ea_a8b9_0c5415364605row7_col11\" class=\"data row7 col11\" >115</td>\n",
       "                        <td id=\"T_9f2b80d0_4bfe_11ea_a8b9_0c5415364605row7_col12\" class=\"data row7 col12\" >81</td>\n",
       "                        <td id=\"T_9f2b80d0_4bfe_11ea_a8b9_0c5415364605row7_col13\" class=\"data row7 col13\" >12</td>\n",
       "                        <td id=\"T_9f2b80d0_4bfe_11ea_a8b9_0c5415364605row7_col14\" class=\"data row7 col14\" >49</td>\n",
       "                        <td id=\"T_9f2b80d0_4bfe_11ea_a8b9_0c5415364605row7_col15\" class=\"data row7 col15\" >150</td>\n",
       "                        <td id=\"T_9f2b80d0_4bfe_11ea_a8b9_0c5415364605row7_col16\" class=\"data row7 col16\" >98</td>\n",
       "                        <td id=\"T_9f2b80d0_4bfe_11ea_a8b9_0c5415364605row7_col17\" class=\"data row7 col17\" >182</td>\n",
       "                        <td id=\"T_9f2b80d0_4bfe_11ea_a8b9_0c5415364605row7_col18\" class=\"data row7 col18\" >25</td>\n",
       "                        <td id=\"T_9f2b80d0_4bfe_11ea_a8b9_0c5415364605row7_col19\" class=\"data row7 col19\" >320</td>\n",
       "                        <td id=\"T_9f2b80d0_4bfe_11ea_a8b9_0c5415364605row7_col20\" class=\"data row7 col20\" >15</td>\n",
       "                        <td id=\"T_9f2b80d0_4bfe_11ea_a8b9_0c5415364605row7_col21\" class=\"data row7 col21\" >529</td>\n",
       "                        <td id=\"T_9f2b80d0_4bfe_11ea_a8b9_0c5415364605row7_col22\" class=\"data row7 col22\" >485</td>\n",
       "                        <td id=\"T_9f2b80d0_4bfe_11ea_a8b9_0c5415364605row7_col23\" class=\"data row7 col23\" >781</td>\n",
       "                        <td id=\"T_9f2b80d0_4bfe_11ea_a8b9_0c5415364605row7_col24\" class=\"data row7 col24\" >693</td>\n",
       "                        <td id=\"T_9f2b80d0_4bfe_11ea_a8b9_0c5415364605row7_col25\" class=\"data row7 col25\" >991</td>\n",
       "                        <td id=\"T_9f2b80d0_4bfe_11ea_a8b9_0c5415364605row7_col26\" class=\"data row7 col26\" >856</td>\n",
       "                        <td id=\"T_9f2b80d0_4bfe_11ea_a8b9_0c5415364605row7_col27\" class=\"data row7 col27\" >328</td>\n",
       "                        <td id=\"T_9f2b80d0_4bfe_11ea_a8b9_0c5415364605row7_col28\" class=\"data row7 col28\" >55</td>\n",
       "                        <td id=\"T_9f2b80d0_4bfe_11ea_a8b9_0c5415364605row7_col29\" class=\"data row7 col29\" >66</td>\n",
       "            </tr>\n",
       "            <tr>\n",
       "                        <th id=\"T_9f2b80d0_4bfe_11ea_a8b9_0c5415364605level0_row8\" class=\"row_heading level0 row8\" >den</th>\n",
       "                        <td id=\"T_9f2b80d0_4bfe_11ea_a8b9_0c5415364605row8_col0\" class=\"data row8 col0\" >85</td>\n",
       "                        <td id=\"T_9f2b80d0_4bfe_11ea_a8b9_0c5415364605row8_col1\" class=\"data row8 col1\" >409</td>\n",
       "                        <td id=\"T_9f2b80d0_4bfe_11ea_a8b9_0c5415364605row8_col2\" class=\"data row8 col2\" >680</td>\n",
       "                        <td id=\"T_9f2b80d0_4bfe_11ea_a8b9_0c5415364605row8_col3\" class=\"data row8 col3\" >28</td>\n",
       "                        <td id=\"T_9f2b80d0_4bfe_11ea_a8b9_0c5415364605row8_col4\" class=\"data row8 col4\" >153</td>\n",
       "                        <td id=\"T_9f2b80d0_4bfe_11ea_a8b9_0c5415364605row8_col5\" class=\"data row8 col5\" >156</td>\n",
       "                        <td id=\"T_9f2b80d0_4bfe_11ea_a8b9_0c5415364605row8_col6\" class=\"data row8 col6\" >193</td>\n",
       "                        <td id=\"T_9f2b80d0_4bfe_11ea_a8b9_0c5415364605row8_col7\" class=\"data row8 col7\" >248</td>\n",
       "                        <td id=\"T_9f2b80d0_4bfe_11ea_a8b9_0c5415364605row8_col8\" class=\"data row8 col8\" >181</td>\n",
       "                        <td id=\"T_9f2b80d0_4bfe_11ea_a8b9_0c5415364605row8_col9\" class=\"data row8 col9\" >10</td>\n",
       "                        <td id=\"T_9f2b80d0_4bfe_11ea_a8b9_0c5415364605row8_col10\" class=\"data row8 col10\" >190</td>\n",
       "                        <td id=\"T_9f2b80d0_4bfe_11ea_a8b9_0c5415364605row8_col11\" class=\"data row8 col11\" >525</td>\n",
       "                        <td id=\"T_9f2b80d0_4bfe_11ea_a8b9_0c5415364605row8_col12\" class=\"data row8 col12\" >233</td>\n",
       "                        <td id=\"T_9f2b80d0_4bfe_11ea_a8b9_0c5415364605row8_col13\" class=\"data row8 col13\" >26</td>\n",
       "                        <td id=\"T_9f2b80d0_4bfe_11ea_a8b9_0c5415364605row8_col14\" class=\"data row8 col14\" >111</td>\n",
       "                        <td id=\"T_9f2b80d0_4bfe_11ea_a8b9_0c5415364605row8_col15\" class=\"data row8 col15\" >404</td>\n",
       "                        <td id=\"T_9f2b80d0_4bfe_11ea_a8b9_0c5415364605row8_col16\" class=\"data row8 col16\" >86</td>\n",
       "                        <td id=\"T_9f2b80d0_4bfe_11ea_a8b9_0c5415364605row8_col17\" class=\"data row8 col17\" >234</td>\n",
       "                        <td id=\"T_9f2b80d0_4bfe_11ea_a8b9_0c5415364605row8_col18\" class=\"data row8 col18\" >96</td>\n",
       "                        <td id=\"T_9f2b80d0_4bfe_11ea_a8b9_0c5415364605row8_col19\" class=\"data row8 col19\" >635</td>\n",
       "                        <td id=\"T_9f2b80d0_4bfe_11ea_a8b9_0c5415364605row8_col20\" class=\"data row8 col20\" >51</td>\n",
       "                        <td id=\"T_9f2b80d0_4bfe_11ea_a8b9_0c5415364605row8_col21\" class=\"data row8 col21\" >1220</td>\n",
       "                        <td id=\"T_9f2b80d0_4bfe_11ea_a8b9_0c5415364605row8_col22\" class=\"data row8 col22\" >1273</td>\n",
       "                        <td id=\"T_9f2b80d0_4bfe_11ea_a8b9_0c5415364605row8_col23\" class=\"data row8 col23\" >1646</td>\n",
       "                        <td id=\"T_9f2b80d0_4bfe_11ea_a8b9_0c5415364605row8_col24\" class=\"data row8 col24\" >1617</td>\n",
       "                        <td id=\"T_9f2b80d0_4bfe_11ea_a8b9_0c5415364605row8_col25\" class=\"data row8 col25\" >1998</td>\n",
       "                        <td id=\"T_9f2b80d0_4bfe_11ea_a8b9_0c5415364605row8_col26\" class=\"data row8 col26\" >1625</td>\n",
       "                        <td id=\"T_9f2b80d0_4bfe_11ea_a8b9_0c5415364605row8_col27\" class=\"data row8 col27\" >475</td>\n",
       "                        <td id=\"T_9f2b80d0_4bfe_11ea_a8b9_0c5415364605row8_col28\" class=\"data row8 col28\" >53</td>\n",
       "                        <td id=\"T_9f2b80d0_4bfe_11ea_a8b9_0c5415364605row8_col29\" class=\"data row8 col29\" >64</td>\n",
       "            </tr>\n",
       "            <tr>\n",
       "                        <th id=\"T_9f2b80d0_4bfe_11ea_a8b9_0c5415364605level0_row9\" class=\"row_heading level0 row9\" >er</th>\n",
       "                        <td id=\"T_9f2b80d0_4bfe_11ea_a8b9_0c5415364605row9_col0\" class=\"data row9 col0\" >6</td>\n",
       "                        <td id=\"T_9f2b80d0_4bfe_11ea_a8b9_0c5415364605row9_col1\" class=\"data row9 col1\" >529</td>\n",
       "                        <td id=\"T_9f2b80d0_4bfe_11ea_a8b9_0c5415364605row9_col2\" class=\"data row9 col2\" >795</td>\n",
       "                        <td id=\"T_9f2b80d0_4bfe_11ea_a8b9_0c5415364605row9_col3\" class=\"data row9 col3\" >21</td>\n",
       "                        <td id=\"T_9f2b80d0_4bfe_11ea_a8b9_0c5415364605row9_col4\" class=\"data row9 col4\" >170</td>\n",
       "                        <td id=\"T_9f2b80d0_4bfe_11ea_a8b9_0c5415364605row9_col5\" class=\"data row9 col5\" >160</td>\n",
       "                        <td id=\"T_9f2b80d0_4bfe_11ea_a8b9_0c5415364605row9_col6\" class=\"data row9 col6\" >152</td>\n",
       "                        <td id=\"T_9f2b80d0_4bfe_11ea_a8b9_0c5415364605row9_col7\" class=\"data row9 col7\" >367</td>\n",
       "                        <td id=\"T_9f2b80d0_4bfe_11ea_a8b9_0c5415364605row9_col8\" class=\"data row9 col8\" >72</td>\n",
       "                        <td id=\"T_9f2b80d0_4bfe_11ea_a8b9_0c5415364605row9_col9\" class=\"data row9 col9\" >9</td>\n",
       "                        <td id=\"T_9f2b80d0_4bfe_11ea_a8b9_0c5415364605row9_col10\" class=\"data row9 col10\" >176</td>\n",
       "                        <td id=\"T_9f2b80d0_4bfe_11ea_a8b9_0c5415364605row9_col11\" class=\"data row9 col11\" >704</td>\n",
       "                        <td id=\"T_9f2b80d0_4bfe_11ea_a8b9_0c5415364605row9_col12\" class=\"data row9 col12\" >357</td>\n",
       "                        <td id=\"T_9f2b80d0_4bfe_11ea_a8b9_0c5415364605row9_col13\" class=\"data row9 col13\" >41</td>\n",
       "                        <td id=\"T_9f2b80d0_4bfe_11ea_a8b9_0c5415364605row9_col14\" class=\"data row9 col14\" >214</td>\n",
       "                        <td id=\"T_9f2b80d0_4bfe_11ea_a8b9_0c5415364605row9_col15\" class=\"data row9 col15\" >752</td>\n",
       "                        <td id=\"T_9f2b80d0_4bfe_11ea_a8b9_0c5415364605row9_col16\" class=\"data row9 col16\" >386</td>\n",
       "                        <td id=\"T_9f2b80d0_4bfe_11ea_a8b9_0c5415364605row9_col17\" class=\"data row9 col17\" >602</td>\n",
       "                        <td id=\"T_9f2b80d0_4bfe_11ea_a8b9_0c5415364605row9_col18\" class=\"data row9 col18\" >54</td>\n",
       "                        <td id=\"T_9f2b80d0_4bfe_11ea_a8b9_0c5415364605row9_col19\" class=\"data row9 col19\" >661</td>\n",
       "                        <td id=\"T_9f2b80d0_4bfe_11ea_a8b9_0c5415364605row9_col20\" class=\"data row9 col20\" >40</td>\n",
       "                        <td id=\"T_9f2b80d0_4bfe_11ea_a8b9_0c5415364605row9_col21\" class=\"data row9 col21\" >1321</td>\n",
       "                        <td id=\"T_9f2b80d0_4bfe_11ea_a8b9_0c5415364605row9_col22\" class=\"data row9 col22\" >1165</td>\n",
       "                        <td id=\"T_9f2b80d0_4bfe_11ea_a8b9_0c5415364605row9_col23\" class=\"data row9 col23\" >1539</td>\n",
       "                        <td id=\"T_9f2b80d0_4bfe_11ea_a8b9_0c5415364605row9_col24\" class=\"data row9 col24\" >1465</td>\n",
       "                        <td id=\"T_9f2b80d0_4bfe_11ea_a8b9_0c5415364605row9_col25\" class=\"data row9 col25\" >1743</td>\n",
       "                        <td id=\"T_9f2b80d0_4bfe_11ea_a8b9_0c5415364605row9_col26\" class=\"data row9 col26\" >1587</td>\n",
       "                        <td id=\"T_9f2b80d0_4bfe_11ea_a8b9_0c5415364605row9_col27\" class=\"data row9 col27\" >414</td>\n",
       "                        <td id=\"T_9f2b80d0_4bfe_11ea_a8b9_0c5415364605row9_col28\" class=\"data row9 col28\" >50</td>\n",
       "                        <td id=\"T_9f2b80d0_4bfe_11ea_a8b9_0c5415364605row9_col29\" class=\"data row9 col29\" >121</td>\n",
       "            </tr>\n",
       "            <tr>\n",
       "                        <th id=\"T_9f2b80d0_4bfe_11ea_a8b9_0c5415364605level0_row10\" class=\"row_heading level0 row10\" >mig</th>\n",
       "                        <td id=\"T_9f2b80d0_4bfe_11ea_a8b9_0c5415364605row10_col0\" class=\"data row10 col0\" >0</td>\n",
       "                        <td id=\"T_9f2b80d0_4bfe_11ea_a8b9_0c5415364605row10_col1\" class=\"data row10 col1\" >366</td>\n",
       "                        <td id=\"T_9f2b80d0_4bfe_11ea_a8b9_0c5415364605row10_col2\" class=\"data row10 col2\" >609</td>\n",
       "                        <td id=\"T_9f2b80d0_4bfe_11ea_a8b9_0c5415364605row10_col3\" class=\"data row10 col3\" >36</td>\n",
       "                        <td id=\"T_9f2b80d0_4bfe_11ea_a8b9_0c5415364605row10_col4\" class=\"data row10 col4\" >169</td>\n",
       "                        <td id=\"T_9f2b80d0_4bfe_11ea_a8b9_0c5415364605row10_col5\" class=\"data row10 col5\" >101</td>\n",
       "                        <td id=\"T_9f2b80d0_4bfe_11ea_a8b9_0c5415364605row10_col6\" class=\"data row10 col6\" >185</td>\n",
       "                        <td id=\"T_9f2b80d0_4bfe_11ea_a8b9_0c5415364605row10_col7\" class=\"data row10 col7\" >0</td>\n",
       "                        <td id=\"T_9f2b80d0_4bfe_11ea_a8b9_0c5415364605row10_col8\" class=\"data row10 col8\" >4</td>\n",
       "                        <td id=\"T_9f2b80d0_4bfe_11ea_a8b9_0c5415364605row10_col9\" class=\"data row10 col9\" >1</td>\n",
       "                        <td id=\"T_9f2b80d0_4bfe_11ea_a8b9_0c5415364605row10_col10\" class=\"data row10 col10\" >69</td>\n",
       "                        <td id=\"T_9f2b80d0_4bfe_11ea_a8b9_0c5415364605row10_col11\" class=\"data row10 col11\" >135</td>\n",
       "                        <td id=\"T_9f2b80d0_4bfe_11ea_a8b9_0c5415364605row10_col12\" class=\"data row10 col12\" >77</td>\n",
       "                        <td id=\"T_9f2b80d0_4bfe_11ea_a8b9_0c5415364605row10_col13\" class=\"data row10 col13\" >7</td>\n",
       "                        <td id=\"T_9f2b80d0_4bfe_11ea_a8b9_0c5415364605row10_col14\" class=\"data row10 col14\" >20</td>\n",
       "                        <td id=\"T_9f2b80d0_4bfe_11ea_a8b9_0c5415364605row10_col15\" class=\"data row10 col15\" >373</td>\n",
       "                        <td id=\"T_9f2b80d0_4bfe_11ea_a8b9_0c5415364605row10_col16\" class=\"data row10 col16\" >104</td>\n",
       "                        <td id=\"T_9f2b80d0_4bfe_11ea_a8b9_0c5415364605row10_col17\" class=\"data row10 col17\" >289</td>\n",
       "                        <td id=\"T_9f2b80d0_4bfe_11ea_a8b9_0c5415364605row10_col18\" class=\"data row10 col18\" >54</td>\n",
       "                        <td id=\"T_9f2b80d0_4bfe_11ea_a8b9_0c5415364605row10_col19\" class=\"data row10 col19\" >651</td>\n",
       "                        <td id=\"T_9f2b80d0_4bfe_11ea_a8b9_0c5415364605row10_col20\" class=\"data row10 col20\" >30</td>\n",
       "                        <td id=\"T_9f2b80d0_4bfe_11ea_a8b9_0c5415364605row10_col21\" class=\"data row10 col21\" >740</td>\n",
       "                        <td id=\"T_9f2b80d0_4bfe_11ea_a8b9_0c5415364605row10_col22\" class=\"data row10 col22\" >865</td>\n",
       "                        <td id=\"T_9f2b80d0_4bfe_11ea_a8b9_0c5415364605row10_col23\" class=\"data row10 col23\" >1145</td>\n",
       "                        <td id=\"T_9f2b80d0_4bfe_11ea_a8b9_0c5415364605row10_col24\" class=\"data row10 col24\" >1169</td>\n",
       "                        <td id=\"T_9f2b80d0_4bfe_11ea_a8b9_0c5415364605row10_col25\" class=\"data row10 col25\" >1511</td>\n",
       "                        <td id=\"T_9f2b80d0_4bfe_11ea_a8b9_0c5415364605row10_col26\" class=\"data row10 col26\" >1203</td>\n",
       "                        <td id=\"T_9f2b80d0_4bfe_11ea_a8b9_0c5415364605row10_col27\" class=\"data row10 col27\" >290</td>\n",
       "                        <td id=\"T_9f2b80d0_4bfe_11ea_a8b9_0c5415364605row10_col28\" class=\"data row10 col28\" >49</td>\n",
       "                        <td id=\"T_9f2b80d0_4bfe_11ea_a8b9_0c5415364605row10_col29\" class=\"data row10 col29\" >27</td>\n",
       "            </tr>\n",
       "            <tr>\n",
       "                        <th id=\"T_9f2b80d0_4bfe_11ea_a8b9_0c5415364605level0_row11\" class=\"row_heading level0 row11\" >saa</th>\n",
       "                        <td id=\"T_9f2b80d0_4bfe_11ea_a8b9_0c5415364605row11_col0\" class=\"data row11 col0\" >0</td>\n",
       "                        <td id=\"T_9f2b80d0_4bfe_11ea_a8b9_0c5415364605row11_col1\" class=\"data row11 col1\" >276</td>\n",
       "                        <td id=\"T_9f2b80d0_4bfe_11ea_a8b9_0c5415364605row11_col2\" class=\"data row11 col2\" >446</td>\n",
       "                        <td id=\"T_9f2b80d0_4bfe_11ea_a8b9_0c5415364605row11_col3\" class=\"data row11 col3\" >9</td>\n",
       "                        <td id=\"T_9f2b80d0_4bfe_11ea_a8b9_0c5415364605row11_col4\" class=\"data row11 col4\" >11</td>\n",
       "                        <td id=\"T_9f2b80d0_4bfe_11ea_a8b9_0c5415364605row11_col5\" class=\"data row11 col5\" >37</td>\n",
       "                        <td id=\"T_9f2b80d0_4bfe_11ea_a8b9_0c5415364605row11_col6\" class=\"data row11 col6\" >93</td>\n",
       "                        <td id=\"T_9f2b80d0_4bfe_11ea_a8b9_0c5415364605row11_col7\" class=\"data row11 col7\" >0</td>\n",
       "                        <td id=\"T_9f2b80d0_4bfe_11ea_a8b9_0c5415364605row11_col8\" class=\"data row11 col8\" >48</td>\n",
       "                        <td id=\"T_9f2b80d0_4bfe_11ea_a8b9_0c5415364605row11_col9\" class=\"data row11 col9\" >1</td>\n",
       "                        <td id=\"T_9f2b80d0_4bfe_11ea_a8b9_0c5415364605row11_col10\" class=\"data row11 col10\" >48</td>\n",
       "                        <td id=\"T_9f2b80d0_4bfe_11ea_a8b9_0c5415364605row11_col11\" class=\"data row11 col11\" >212</td>\n",
       "                        <td id=\"T_9f2b80d0_4bfe_11ea_a8b9_0c5415364605row11_col12\" class=\"data row11 col12\" >96</td>\n",
       "                        <td id=\"T_9f2b80d0_4bfe_11ea_a8b9_0c5415364605row11_col13\" class=\"data row11 col13\" >5</td>\n",
       "                        <td id=\"T_9f2b80d0_4bfe_11ea_a8b9_0c5415364605row11_col14\" class=\"data row11 col14\" >21</td>\n",
       "                        <td id=\"T_9f2b80d0_4bfe_11ea_a8b9_0c5415364605row11_col15\" class=\"data row11 col15\" >524</td>\n",
       "                        <td id=\"T_9f2b80d0_4bfe_11ea_a8b9_0c5415364605row11_col16\" class=\"data row11 col16\" >269</td>\n",
       "                        <td id=\"T_9f2b80d0_4bfe_11ea_a8b9_0c5415364605row11_col17\" class=\"data row11 col17\" >290</td>\n",
       "                        <td id=\"T_9f2b80d0_4bfe_11ea_a8b9_0c5415364605row11_col18\" class=\"data row11 col18\" >84</td>\n",
       "                        <td id=\"T_9f2b80d0_4bfe_11ea_a8b9_0c5415364605row11_col19\" class=\"data row11 col19\" >733</td>\n",
       "                        <td id=\"T_9f2b80d0_4bfe_11ea_a8b9_0c5415364605row11_col20\" class=\"data row11 col20\" >39</td>\n",
       "                        <td id=\"T_9f2b80d0_4bfe_11ea_a8b9_0c5415364605row11_col21\" class=\"data row11 col21\" >1301</td>\n",
       "                        <td id=\"T_9f2b80d0_4bfe_11ea_a8b9_0c5415364605row11_col22\" class=\"data row11 col22\" >1238</td>\n",
       "                        <td id=\"T_9f2b80d0_4bfe_11ea_a8b9_0c5415364605row11_col23\" class=\"data row11 col23\" >1586</td>\n",
       "                        <td id=\"T_9f2b80d0_4bfe_11ea_a8b9_0c5415364605row11_col24\" class=\"data row11 col24\" >1520</td>\n",
       "                        <td id=\"T_9f2b80d0_4bfe_11ea_a8b9_0c5415364605row11_col25\" class=\"data row11 col25\" >1741</td>\n",
       "                        <td id=\"T_9f2b80d0_4bfe_11ea_a8b9_0c5415364605row11_col26\" class=\"data row11 col26\" >1453</td>\n",
       "                        <td id=\"T_9f2b80d0_4bfe_11ea_a8b9_0c5415364605row11_col27\" class=\"data row11 col27\" >347</td>\n",
       "                        <td id=\"T_9f2b80d0_4bfe_11ea_a8b9_0c5415364605row11_col28\" class=\"data row11 col28\" >49</td>\n",
       "                        <td id=\"T_9f2b80d0_4bfe_11ea_a8b9_0c5415364605row11_col29\" class=\"data row11 col29\" >111</td>\n",
       "            </tr>\n",
       "            <tr>\n",
       "                        <th id=\"T_9f2b80d0_4bfe_11ea_a8b9_0c5415364605level0_row12\" class=\"row_heading level0 row12\" >en</th>\n",
       "                        <td id=\"T_9f2b80d0_4bfe_11ea_a8b9_0c5415364605row12_col0\" class=\"data row12 col0\" >283</td>\n",
       "                        <td id=\"T_9f2b80d0_4bfe_11ea_a8b9_0c5415364605row12_col1\" class=\"data row12 col1\" >443</td>\n",
       "                        <td id=\"T_9f2b80d0_4bfe_11ea_a8b9_0c5415364605row12_col2\" class=\"data row12 col2\" >774</td>\n",
       "                        <td id=\"T_9f2b80d0_4bfe_11ea_a8b9_0c5415364605row12_col3\" class=\"data row12 col3\" >29</td>\n",
       "                        <td id=\"T_9f2b80d0_4bfe_11ea_a8b9_0c5415364605row12_col4\" class=\"data row12 col4\" >173</td>\n",
       "                        <td id=\"T_9f2b80d0_4bfe_11ea_a8b9_0c5415364605row12_col5\" class=\"data row12 col5\" >131</td>\n",
       "                        <td id=\"T_9f2b80d0_4bfe_11ea_a8b9_0c5415364605row12_col6\" class=\"data row12 col6\" >209</td>\n",
       "                        <td id=\"T_9f2b80d0_4bfe_11ea_a8b9_0c5415364605row12_col7\" class=\"data row12 col7\" >1163</td>\n",
       "                        <td id=\"T_9f2b80d0_4bfe_11ea_a8b9_0c5415364605row12_col8\" class=\"data row12 col8\" >99</td>\n",
       "                        <td id=\"T_9f2b80d0_4bfe_11ea_a8b9_0c5415364605row12_col9\" class=\"data row12 col9\" >18</td>\n",
       "                        <td id=\"T_9f2b80d0_4bfe_11ea_a8b9_0c5415364605row12_col10\" class=\"data row12 col10\" >221</td>\n",
       "                        <td id=\"T_9f2b80d0_4bfe_11ea_a8b9_0c5415364605row12_col11\" class=\"data row12 col11\" >634</td>\n",
       "                        <td id=\"T_9f2b80d0_4bfe_11ea_a8b9_0c5415364605row12_col12\" class=\"data row12 col12\" >315</td>\n",
       "                        <td id=\"T_9f2b80d0_4bfe_11ea_a8b9_0c5415364605row12_col13\" class=\"data row12 col13\" >66</td>\n",
       "                        <td id=\"T_9f2b80d0_4bfe_11ea_a8b9_0c5415364605row12_col14\" class=\"data row12 col14\" >137</td>\n",
       "                        <td id=\"T_9f2b80d0_4bfe_11ea_a8b9_0c5415364605row12_col15\" class=\"data row12 col15\" >467</td>\n",
       "                        <td id=\"T_9f2b80d0_4bfe_11ea_a8b9_0c5415364605row12_col16\" class=\"data row12 col16\" >172</td>\n",
       "                        <td id=\"T_9f2b80d0_4bfe_11ea_a8b9_0c5415364605row12_col17\" class=\"data row12 col17\" >320</td>\n",
       "                        <td id=\"T_9f2b80d0_4bfe_11ea_a8b9_0c5415364605row12_col18\" class=\"data row12 col18\" >92</td>\n",
       "                        <td id=\"T_9f2b80d0_4bfe_11ea_a8b9_0c5415364605row12_col19\" class=\"data row12 col19\" >604</td>\n",
       "                        <td id=\"T_9f2b80d0_4bfe_11ea_a8b9_0c5415364605row12_col20\" class=\"data row12 col20\" >59</td>\n",
       "                        <td id=\"T_9f2b80d0_4bfe_11ea_a8b9_0c5415364605row12_col21\" class=\"data row12 col21\" >906</td>\n",
       "                        <td id=\"T_9f2b80d0_4bfe_11ea_a8b9_0c5415364605row12_col22\" class=\"data row12 col22\" >798</td>\n",
       "                        <td id=\"T_9f2b80d0_4bfe_11ea_a8b9_0c5415364605row12_col23\" class=\"data row12 col23\" >1192</td>\n",
       "                        <td id=\"T_9f2b80d0_4bfe_11ea_a8b9_0c5415364605row12_col24\" class=\"data row12 col24\" >1051</td>\n",
       "                        <td id=\"T_9f2b80d0_4bfe_11ea_a8b9_0c5415364605row12_col25\" class=\"data row12 col25\" >1438</td>\n",
       "                        <td id=\"T_9f2b80d0_4bfe_11ea_a8b9_0c5415364605row12_col26\" class=\"data row12 col26\" >1164</td>\n",
       "                        <td id=\"T_9f2b80d0_4bfe_11ea_a8b9_0c5415364605row12_col27\" class=\"data row12 col27\" >317</td>\n",
       "                        <td id=\"T_9f2b80d0_4bfe_11ea_a8b9_0c5415364605row12_col28\" class=\"data row12 col28\" >48</td>\n",
       "                        <td id=\"T_9f2b80d0_4bfe_11ea_a8b9_0c5415364605row12_col29\" class=\"data row12 col29\" >75</td>\n",
       "            </tr>\n",
       "            <tr>\n",
       "                        <th id=\"T_9f2b80d0_4bfe_11ea_a8b9_0c5415364605level0_row13\" class=\"row_heading level0 row13\" >som</th>\n",
       "                        <td id=\"T_9f2b80d0_4bfe_11ea_a8b9_0c5415364605row13_col0\" class=\"data row13 col0\" >45</td>\n",
       "                        <td id=\"T_9f2b80d0_4bfe_11ea_a8b9_0c5415364605row13_col1\" class=\"data row13 col1\" >228</td>\n",
       "                        <td id=\"T_9f2b80d0_4bfe_11ea_a8b9_0c5415364605row13_col2\" class=\"data row13 col2\" >509</td>\n",
       "                        <td id=\"T_9f2b80d0_4bfe_11ea_a8b9_0c5415364605row13_col3\" class=\"data row13 col3\" >22</td>\n",
       "                        <td id=\"T_9f2b80d0_4bfe_11ea_a8b9_0c5415364605row13_col4\" class=\"data row13 col4\" >98</td>\n",
       "                        <td id=\"T_9f2b80d0_4bfe_11ea_a8b9_0c5415364605row13_col5\" class=\"data row13 col5\" >109</td>\n",
       "                        <td id=\"T_9f2b80d0_4bfe_11ea_a8b9_0c5415364605row13_col6\" class=\"data row13 col6\" >167</td>\n",
       "                        <td id=\"T_9f2b80d0_4bfe_11ea_a8b9_0c5415364605row13_col7\" class=\"data row13 col7\" >690</td>\n",
       "                        <td id=\"T_9f2b80d0_4bfe_11ea_a8b9_0c5415364605row13_col8\" class=\"data row13 col8\" >160</td>\n",
       "                        <td id=\"T_9f2b80d0_4bfe_11ea_a8b9_0c5415364605row13_col9\" class=\"data row13 col9\" >15</td>\n",
       "                        <td id=\"T_9f2b80d0_4bfe_11ea_a8b9_0c5415364605row13_col10\" class=\"data row13 col10\" >141</td>\n",
       "                        <td id=\"T_9f2b80d0_4bfe_11ea_a8b9_0c5415364605row13_col11\" class=\"data row13 col11\" >378</td>\n",
       "                        <td id=\"T_9f2b80d0_4bfe_11ea_a8b9_0c5415364605row13_col12\" class=\"data row13 col12\" >168</td>\n",
       "                        <td id=\"T_9f2b80d0_4bfe_11ea_a8b9_0c5415364605row13_col13\" class=\"data row13 col13\" >40</td>\n",
       "                        <td id=\"T_9f2b80d0_4bfe_11ea_a8b9_0c5415364605row13_col14\" class=\"data row13 col14\" >92</td>\n",
       "                        <td id=\"T_9f2b80d0_4bfe_11ea_a8b9_0c5415364605row13_col15\" class=\"data row13 col15\" >491</td>\n",
       "                        <td id=\"T_9f2b80d0_4bfe_11ea_a8b9_0c5415364605row13_col16\" class=\"data row13 col16\" >142</td>\n",
       "                        <td id=\"T_9f2b80d0_4bfe_11ea_a8b9_0c5415364605row13_col17\" class=\"data row13 col17\" >281</td>\n",
       "                        <td id=\"T_9f2b80d0_4bfe_11ea_a8b9_0c5415364605row13_col18\" class=\"data row13 col18\" >107</td>\n",
       "                        <td id=\"T_9f2b80d0_4bfe_11ea_a8b9_0c5415364605row13_col19\" class=\"data row13 col19\" >714</td>\n",
       "                        <td id=\"T_9f2b80d0_4bfe_11ea_a8b9_0c5415364605row13_col20\" class=\"data row13 col20\" >76</td>\n",
       "                        <td id=\"T_9f2b80d0_4bfe_11ea_a8b9_0c5415364605row13_col21\" class=\"data row13 col21\" >1250</td>\n",
       "                        <td id=\"T_9f2b80d0_4bfe_11ea_a8b9_0c5415364605row13_col22\" class=\"data row13 col22\" >1221</td>\n",
       "                        <td id=\"T_9f2b80d0_4bfe_11ea_a8b9_0c5415364605row13_col23\" class=\"data row13 col23\" >1781</td>\n",
       "                        <td id=\"T_9f2b80d0_4bfe_11ea_a8b9_0c5415364605row13_col24\" class=\"data row13 col24\" >1682</td>\n",
       "                        <td id=\"T_9f2b80d0_4bfe_11ea_a8b9_0c5415364605row13_col25\" class=\"data row13 col25\" >2058</td>\n",
       "                        <td id=\"T_9f2b80d0_4bfe_11ea_a8b9_0c5415364605row13_col26\" class=\"data row13 col26\" >1507</td>\n",
       "                        <td id=\"T_9f2b80d0_4bfe_11ea_a8b9_0c5415364605row13_col27\" class=\"data row13 col27\" >394</td>\n",
       "                        <td id=\"T_9f2b80d0_4bfe_11ea_a8b9_0c5415364605row13_col28\" class=\"data row13 col28\" >46</td>\n",
       "                        <td id=\"T_9f2b80d0_4bfe_11ea_a8b9_0c5415364605row13_col29\" class=\"data row13 col29\" >88</td>\n",
       "            </tr>\n",
       "            <tr>\n",
       "                        <th id=\"T_9f2b80d0_4bfe_11ea_a8b9_0c5415364605level0_row14\" class=\"row_heading level0 row14\" >ikke</th>\n",
       "                        <td id=\"T_9f2b80d0_4bfe_11ea_a8b9_0c5415364605row14_col0\" class=\"data row14 col0\" >185</td>\n",
       "                        <td id=\"T_9f2b80d0_4bfe_11ea_a8b9_0c5415364605row14_col1\" class=\"data row14 col1\" >471</td>\n",
       "                        <td id=\"T_9f2b80d0_4bfe_11ea_a8b9_0c5415364605row14_col2\" class=\"data row14 col2\" >871</td>\n",
       "                        <td id=\"T_9f2b80d0_4bfe_11ea_a8b9_0c5415364605row14_col3\" class=\"data row14 col3\" >21</td>\n",
       "                        <td id=\"T_9f2b80d0_4bfe_11ea_a8b9_0c5415364605row14_col4\" class=\"data row14 col4\" >152</td>\n",
       "                        <td id=\"T_9f2b80d0_4bfe_11ea_a8b9_0c5415364605row14_col5\" class=\"data row14 col5\" >145</td>\n",
       "                        <td id=\"T_9f2b80d0_4bfe_11ea_a8b9_0c5415364605row14_col6\" class=\"data row14 col6\" >172</td>\n",
       "                        <td id=\"T_9f2b80d0_4bfe_11ea_a8b9_0c5415364605row14_col7\" class=\"data row14 col7\" >181</td>\n",
       "                        <td id=\"T_9f2b80d0_4bfe_11ea_a8b9_0c5415364605row14_col8\" class=\"data row14 col8\" >68</td>\n",
       "                        <td id=\"T_9f2b80d0_4bfe_11ea_a8b9_0c5415364605row14_col9\" class=\"data row14 col9\" >5</td>\n",
       "                        <td id=\"T_9f2b80d0_4bfe_11ea_a8b9_0c5415364605row14_col10\" class=\"data row14 col10\" >105</td>\n",
       "                        <td id=\"T_9f2b80d0_4bfe_11ea_a8b9_0c5415364605row14_col11\" class=\"data row14 col11\" >243</td>\n",
       "                        <td id=\"T_9f2b80d0_4bfe_11ea_a8b9_0c5415364605row14_col12\" class=\"data row14 col12\" >133</td>\n",
       "                        <td id=\"T_9f2b80d0_4bfe_11ea_a8b9_0c5415364605row14_col13\" class=\"data row14 col13\" >11</td>\n",
       "                        <td id=\"T_9f2b80d0_4bfe_11ea_a8b9_0c5415364605row14_col14\" class=\"data row14 col14\" >68</td>\n",
       "                        <td id=\"T_9f2b80d0_4bfe_11ea_a8b9_0c5415364605row14_col15\" class=\"data row14 col15\" >629</td>\n",
       "                        <td id=\"T_9f2b80d0_4bfe_11ea_a8b9_0c5415364605row14_col16\" class=\"data row14 col16\" >211</td>\n",
       "                        <td id=\"T_9f2b80d0_4bfe_11ea_a8b9_0c5415364605row14_col17\" class=\"data row14 col17\" >376</td>\n",
       "                        <td id=\"T_9f2b80d0_4bfe_11ea_a8b9_0c5415364605row14_col18\" class=\"data row14 col18\" >35</td>\n",
       "                        <td id=\"T_9f2b80d0_4bfe_11ea_a8b9_0c5415364605row14_col19\" class=\"data row14 col19\" >429</td>\n",
       "                        <td id=\"T_9f2b80d0_4bfe_11ea_a8b9_0c5415364605row14_col20\" class=\"data row14 col20\" >23</td>\n",
       "                        <td id=\"T_9f2b80d0_4bfe_11ea_a8b9_0c5415364605row14_col21\" class=\"data row14 col21\" >928</td>\n",
       "                        <td id=\"T_9f2b80d0_4bfe_11ea_a8b9_0c5415364605row14_col22\" class=\"data row14 col22\" >999</td>\n",
       "                        <td id=\"T_9f2b80d0_4bfe_11ea_a8b9_0c5415364605row14_col23\" class=\"data row14 col23\" >1464</td>\n",
       "                        <td id=\"T_9f2b80d0_4bfe_11ea_a8b9_0c5415364605row14_col24\" class=\"data row14 col24\" >1461</td>\n",
       "                        <td id=\"T_9f2b80d0_4bfe_11ea_a8b9_0c5415364605row14_col25\" class=\"data row14 col25\" >1670</td>\n",
       "                        <td id=\"T_9f2b80d0_4bfe_11ea_a8b9_0c5415364605row14_col26\" class=\"data row14 col26\" >1575</td>\n",
       "                        <td id=\"T_9f2b80d0_4bfe_11ea_a8b9_0c5415364605row14_col27\" class=\"data row14 col27\" >459</td>\n",
       "                        <td id=\"T_9f2b80d0_4bfe_11ea_a8b9_0c5415364605row14_col28\" class=\"data row14 col28\" >44</td>\n",
       "                        <td id=\"T_9f2b80d0_4bfe_11ea_a8b9_0c5415364605row14_col29\" class=\"data row14 col29\" >115</td>\n",
       "            </tr>\n",
       "            <tr>\n",
       "                        <th id=\"T_9f2b80d0_4bfe_11ea_a8b9_0c5415364605level0_row15\" class=\"row_heading level0 row15\" >der</th>\n",
       "                        <td id=\"T_9f2b80d0_4bfe_11ea_a8b9_0c5415364605row15_col0\" class=\"data row15 col0\" >2</td>\n",
       "                        <td id=\"T_9f2b80d0_4bfe_11ea_a8b9_0c5415364605row15_col1\" class=\"data row15 col1\" >318</td>\n",
       "                        <td id=\"T_9f2b80d0_4bfe_11ea_a8b9_0c5415364605row15_col2\" class=\"data row15 col2\" >605</td>\n",
       "                        <td id=\"T_9f2b80d0_4bfe_11ea_a8b9_0c5415364605row15_col3\" class=\"data row15 col3\" >15</td>\n",
       "                        <td id=\"T_9f2b80d0_4bfe_11ea_a8b9_0c5415364605row15_col4\" class=\"data row15 col4\" >132</td>\n",
       "                        <td id=\"T_9f2b80d0_4bfe_11ea_a8b9_0c5415364605row15_col5\" class=\"data row15 col5\" >103</td>\n",
       "                        <td id=\"T_9f2b80d0_4bfe_11ea_a8b9_0c5415364605row15_col6\" class=\"data row15 col6\" >143</td>\n",
       "                        <td id=\"T_9f2b80d0_4bfe_11ea_a8b9_0c5415364605row15_col7\" class=\"data row15 col7\" >121</td>\n",
       "                        <td id=\"T_9f2b80d0_4bfe_11ea_a8b9_0c5415364605row15_col8\" class=\"data row15 col8\" >47</td>\n",
       "                        <td id=\"T_9f2b80d0_4bfe_11ea_a8b9_0c5415364605row15_col9\" class=\"data row15 col9\" >7</td>\n",
       "                        <td id=\"T_9f2b80d0_4bfe_11ea_a8b9_0c5415364605row15_col10\" class=\"data row15 col10\" >53</td>\n",
       "                        <td id=\"T_9f2b80d0_4bfe_11ea_a8b9_0c5415364605row15_col11\" class=\"data row15 col11\" >244</td>\n",
       "                        <td id=\"T_9f2b80d0_4bfe_11ea_a8b9_0c5415364605row15_col12\" class=\"data row15 col12\" >107</td>\n",
       "                        <td id=\"T_9f2b80d0_4bfe_11ea_a8b9_0c5415364605row15_col13\" class=\"data row15 col13\" >11</td>\n",
       "                        <td id=\"T_9f2b80d0_4bfe_11ea_a8b9_0c5415364605row15_col14\" class=\"data row15 col14\" >46</td>\n",
       "                        <td id=\"T_9f2b80d0_4bfe_11ea_a8b9_0c5415364605row15_col15\" class=\"data row15 col15\" >244</td>\n",
       "                        <td id=\"T_9f2b80d0_4bfe_11ea_a8b9_0c5415364605row15_col16\" class=\"data row15 col16\" >102</td>\n",
       "                        <td id=\"T_9f2b80d0_4bfe_11ea_a8b9_0c5415364605row15_col17\" class=\"data row15 col17\" >165</td>\n",
       "                        <td id=\"T_9f2b80d0_4bfe_11ea_a8b9_0c5415364605row15_col18\" class=\"data row15 col18\" >25</td>\n",
       "                        <td id=\"T_9f2b80d0_4bfe_11ea_a8b9_0c5415364605row15_col19\" class=\"data row15 col19\" >283</td>\n",
       "                        <td id=\"T_9f2b80d0_4bfe_11ea_a8b9_0c5415364605row15_col20\" class=\"data row15 col20\" >17</td>\n",
       "                        <td id=\"T_9f2b80d0_4bfe_11ea_a8b9_0c5415364605row15_col21\" class=\"data row15 col21\" >396</td>\n",
       "                        <td id=\"T_9f2b80d0_4bfe_11ea_a8b9_0c5415364605row15_col22\" class=\"data row15 col22\" >466</td>\n",
       "                        <td id=\"T_9f2b80d0_4bfe_11ea_a8b9_0c5415364605row15_col23\" class=\"data row15 col23\" >671</td>\n",
       "                        <td id=\"T_9f2b80d0_4bfe_11ea_a8b9_0c5415364605row15_col24\" class=\"data row15 col24\" >601</td>\n",
       "                        <td id=\"T_9f2b80d0_4bfe_11ea_a8b9_0c5415364605row15_col25\" class=\"data row15 col25\" >826</td>\n",
       "                        <td id=\"T_9f2b80d0_4bfe_11ea_a8b9_0c5415364605row15_col26\" class=\"data row15 col26\" >815</td>\n",
       "                        <td id=\"T_9f2b80d0_4bfe_11ea_a8b9_0c5415364605row15_col27\" class=\"data row15 col27\" >281</td>\n",
       "                        <td id=\"T_9f2b80d0_4bfe_11ea_a8b9_0c5415364605row15_col28\" class=\"data row15 col28\" >44</td>\n",
       "                        <td id=\"T_9f2b80d0_4bfe_11ea_a8b9_0c5415364605row15_col29\" class=\"data row15 col29\" >50</td>\n",
       "            </tr>\n",
       "            <tr>\n",
       "                        <th id=\"T_9f2b80d0_4bfe_11ea_a8b9_0c5415364605level0_row16\" class=\"row_heading level0 row16\" >var</th>\n",
       "                        <td id=\"T_9f2b80d0_4bfe_11ea_a8b9_0c5415364605row16_col0\" class=\"data row16 col0\" >264</td>\n",
       "                        <td id=\"T_9f2b80d0_4bfe_11ea_a8b9_0c5415364605row16_col1\" class=\"data row16 col1\" >248</td>\n",
       "                        <td id=\"T_9f2b80d0_4bfe_11ea_a8b9_0c5415364605row16_col2\" class=\"data row16 col2\" >312</td>\n",
       "                        <td id=\"T_9f2b80d0_4bfe_11ea_a8b9_0c5415364605row16_col3\" class=\"data row16 col3\" >10</td>\n",
       "                        <td id=\"T_9f2b80d0_4bfe_11ea_a8b9_0c5415364605row16_col4\" class=\"data row16 col4\" >45</td>\n",
       "                        <td id=\"T_9f2b80d0_4bfe_11ea_a8b9_0c5415364605row16_col5\" class=\"data row16 col5\" >36</td>\n",
       "                        <td id=\"T_9f2b80d0_4bfe_11ea_a8b9_0c5415364605row16_col6\" class=\"data row16 col6\" >167</td>\n",
       "                        <td id=\"T_9f2b80d0_4bfe_11ea_a8b9_0c5415364605row16_col7\" class=\"data row16 col7\" >441</td>\n",
       "                        <td id=\"T_9f2b80d0_4bfe_11ea_a8b9_0c5415364605row16_col8\" class=\"data row16 col8\" >120</td>\n",
       "                        <td id=\"T_9f2b80d0_4bfe_11ea_a8b9_0c5415364605row16_col9\" class=\"data row16 col9\" >11</td>\n",
       "                        <td id=\"T_9f2b80d0_4bfe_11ea_a8b9_0c5415364605row16_col10\" class=\"data row16 col10\" >172</td>\n",
       "                        <td id=\"T_9f2b80d0_4bfe_11ea_a8b9_0c5415364605row16_col11\" class=\"data row16 col11\" >442</td>\n",
       "                        <td id=\"T_9f2b80d0_4bfe_11ea_a8b9_0c5415364605row16_col12\" class=\"data row16 col12\" >199</td>\n",
       "                        <td id=\"T_9f2b80d0_4bfe_11ea_a8b9_0c5415364605row16_col13\" class=\"data row16 col13\" >34</td>\n",
       "                        <td id=\"T_9f2b80d0_4bfe_11ea_a8b9_0c5415364605row16_col14\" class=\"data row16 col14\" >102</td>\n",
       "                        <td id=\"T_9f2b80d0_4bfe_11ea_a8b9_0c5415364605row16_col15\" class=\"data row16 col15\" >309</td>\n",
       "                        <td id=\"T_9f2b80d0_4bfe_11ea_a8b9_0c5415364605row16_col16\" class=\"data row16 col16\" >113</td>\n",
       "                        <td id=\"T_9f2b80d0_4bfe_11ea_a8b9_0c5415364605row16_col17\" class=\"data row16 col17\" >216</td>\n",
       "                        <td id=\"T_9f2b80d0_4bfe_11ea_a8b9_0c5415364605row16_col18\" class=\"data row16 col18\" >110</td>\n",
       "                        <td id=\"T_9f2b80d0_4bfe_11ea_a8b9_0c5415364605row16_col19\" class=\"data row16 col19\" >678</td>\n",
       "                        <td id=\"T_9f2b80d0_4bfe_11ea_a8b9_0c5415364605row16_col20\" class=\"data row16 col20\" >44</td>\n",
       "                        <td id=\"T_9f2b80d0_4bfe_11ea_a8b9_0c5415364605row16_col21\" class=\"data row16 col21\" >935</td>\n",
       "                        <td id=\"T_9f2b80d0_4bfe_11ea_a8b9_0c5415364605row16_col22\" class=\"data row16 col22\" >967</td>\n",
       "                        <td id=\"T_9f2b80d0_4bfe_11ea_a8b9_0c5415364605row16_col23\" class=\"data row16 col23\" >1472</td>\n",
       "                        <td id=\"T_9f2b80d0_4bfe_11ea_a8b9_0c5415364605row16_col24\" class=\"data row16 col24\" >1418</td>\n",
       "                        <td id=\"T_9f2b80d0_4bfe_11ea_a8b9_0c5415364605row16_col25\" class=\"data row16 col25\" >1846</td>\n",
       "                        <td id=\"T_9f2b80d0_4bfe_11ea_a8b9_0c5415364605row16_col26\" class=\"data row16 col26\" >1598</td>\n",
       "                        <td id=\"T_9f2b80d0_4bfe_11ea_a8b9_0c5415364605row16_col27\" class=\"data row16 col27\" >348</td>\n",
       "                        <td id=\"T_9f2b80d0_4bfe_11ea_a8b9_0c5415364605row16_col28\" class=\"data row16 col28\" >40</td>\n",
       "                        <td id=\"T_9f2b80d0_4bfe_11ea_a8b9_0c5415364605row16_col29\" class=\"data row16 col29\" >129</td>\n",
       "            </tr>\n",
       "            <tr>\n",
       "                        <th id=\"T_9f2b80d0_4bfe_11ea_a8b9_0c5415364605level0_row17\" class=\"row_heading level0 row17\" >for</th>\n",
       "                        <td id=\"T_9f2b80d0_4bfe_11ea_a8b9_0c5415364605row17_col0\" class=\"data row17 col0\" >41</td>\n",
       "                        <td id=\"T_9f2b80d0_4bfe_11ea_a8b9_0c5415364605row17_col1\" class=\"data row17 col1\" >286</td>\n",
       "                        <td id=\"T_9f2b80d0_4bfe_11ea_a8b9_0c5415364605row17_col2\" class=\"data row17 col2\" >559</td>\n",
       "                        <td id=\"T_9f2b80d0_4bfe_11ea_a8b9_0c5415364605row17_col3\" class=\"data row17 col3\" >30</td>\n",
       "                        <td id=\"T_9f2b80d0_4bfe_11ea_a8b9_0c5415364605row17_col4\" class=\"data row17 col4\" >117</td>\n",
       "                        <td id=\"T_9f2b80d0_4bfe_11ea_a8b9_0c5415364605row17_col5\" class=\"data row17 col5\" >113</td>\n",
       "                        <td id=\"T_9f2b80d0_4bfe_11ea_a8b9_0c5415364605row17_col6\" class=\"data row17 col6\" >126</td>\n",
       "                        <td id=\"T_9f2b80d0_4bfe_11ea_a8b9_0c5415364605row17_col7\" class=\"data row17 col7\" >476</td>\n",
       "                        <td id=\"T_9f2b80d0_4bfe_11ea_a8b9_0c5415364605row17_col8\" class=\"data row17 col8\" >137</td>\n",
       "                        <td id=\"T_9f2b80d0_4bfe_11ea_a8b9_0c5415364605row17_col9\" class=\"data row17 col9\" >9</td>\n",
       "                        <td id=\"T_9f2b80d0_4bfe_11ea_a8b9_0c5415364605row17_col10\" class=\"data row17 col10\" >78</td>\n",
       "                        <td id=\"T_9f2b80d0_4bfe_11ea_a8b9_0c5415364605row17_col11\" class=\"data row17 col11\" >414</td>\n",
       "                        <td id=\"T_9f2b80d0_4bfe_11ea_a8b9_0c5415364605row17_col12\" class=\"data row17 col12\" >191</td>\n",
       "                        <td id=\"T_9f2b80d0_4bfe_11ea_a8b9_0c5415364605row17_col13\" class=\"data row17 col13\" >49</td>\n",
       "                        <td id=\"T_9f2b80d0_4bfe_11ea_a8b9_0c5415364605row17_col14\" class=\"data row17 col14\" >113</td>\n",
       "                        <td id=\"T_9f2b80d0_4bfe_11ea_a8b9_0c5415364605row17_col15\" class=\"data row17 col15\" >408</td>\n",
       "                        <td id=\"T_9f2b80d0_4bfe_11ea_a8b9_0c5415364605row17_col16\" class=\"data row17 col16\" >191</td>\n",
       "                        <td id=\"T_9f2b80d0_4bfe_11ea_a8b9_0c5415364605row17_col17\" class=\"data row17 col17\" >332</td>\n",
       "                        <td id=\"T_9f2b80d0_4bfe_11ea_a8b9_0c5415364605row17_col18\" class=\"data row17 col18\" >70</td>\n",
       "                        <td id=\"T_9f2b80d0_4bfe_11ea_a8b9_0c5415364605row17_col19\" class=\"data row17 col19\" >469</td>\n",
       "                        <td id=\"T_9f2b80d0_4bfe_11ea_a8b9_0c5415364605row17_col20\" class=\"data row17 col20\" >46</td>\n",
       "                        <td id=\"T_9f2b80d0_4bfe_11ea_a8b9_0c5415364605row17_col21\" class=\"data row17 col21\" >803</td>\n",
       "                        <td id=\"T_9f2b80d0_4bfe_11ea_a8b9_0c5415364605row17_col22\" class=\"data row17 col22\" >868</td>\n",
       "                        <td id=\"T_9f2b80d0_4bfe_11ea_a8b9_0c5415364605row17_col23\" class=\"data row17 col23\" >1157</td>\n",
       "                        <td id=\"T_9f2b80d0_4bfe_11ea_a8b9_0c5415364605row17_col24\" class=\"data row17 col24\" >1145</td>\n",
       "                        <td id=\"T_9f2b80d0_4bfe_11ea_a8b9_0c5415364605row17_col25\" class=\"data row17 col25\" >1407</td>\n",
       "                        <td id=\"T_9f2b80d0_4bfe_11ea_a8b9_0c5415364605row17_col26\" class=\"data row17 col26\" >1176</td>\n",
       "                        <td id=\"T_9f2b80d0_4bfe_11ea_a8b9_0c5415364605row17_col27\" class=\"data row17 col27\" >368</td>\n",
       "                        <td id=\"T_9f2b80d0_4bfe_11ea_a8b9_0c5415364605row17_col28\" class=\"data row17 col28\" >38</td>\n",
       "                        <td id=\"T_9f2b80d0_4bfe_11ea_a8b9_0c5415364605row17_col29\" class=\"data row17 col29\" >50</td>\n",
       "            </tr>\n",
       "            <tr>\n",
       "                        <th id=\"T_9f2b80d0_4bfe_11ea_a8b9_0c5415364605level0_row18\" class=\"row_heading level0 row18\" >til</th>\n",
       "                        <td id=\"T_9f2b80d0_4bfe_11ea_a8b9_0c5415364605row18_col0\" class=\"data row18 col0\" >52</td>\n",
       "                        <td id=\"T_9f2b80d0_4bfe_11ea_a8b9_0c5415364605row18_col1\" class=\"data row18 col1\" >474</td>\n",
       "                        <td id=\"T_9f2b80d0_4bfe_11ea_a8b9_0c5415364605row18_col2\" class=\"data row18 col2\" >1000</td>\n",
       "                        <td id=\"T_9f2b80d0_4bfe_11ea_a8b9_0c5415364605row18_col3\" class=\"data row18 col3\" >37</td>\n",
       "                        <td id=\"T_9f2b80d0_4bfe_11ea_a8b9_0c5415364605row18_col4\" class=\"data row18 col4\" >214</td>\n",
       "                        <td id=\"T_9f2b80d0_4bfe_11ea_a8b9_0c5415364605row18_col5\" class=\"data row18 col5\" >159</td>\n",
       "                        <td id=\"T_9f2b80d0_4bfe_11ea_a8b9_0c5415364605row18_col6\" class=\"data row18 col6\" >172</td>\n",
       "                        <td id=\"T_9f2b80d0_4bfe_11ea_a8b9_0c5415364605row18_col7\" class=\"data row18 col7\" >671</td>\n",
       "                        <td id=\"T_9f2b80d0_4bfe_11ea_a8b9_0c5415364605row18_col8\" class=\"data row18 col8\" >213</td>\n",
       "                        <td id=\"T_9f2b80d0_4bfe_11ea_a8b9_0c5415364605row18_col9\" class=\"data row18 col9\" >27</td>\n",
       "                        <td id=\"T_9f2b80d0_4bfe_11ea_a8b9_0c5415364605row18_col10\" class=\"data row18 col10\" >128</td>\n",
       "                        <td id=\"T_9f2b80d0_4bfe_11ea_a8b9_0c5415364605row18_col11\" class=\"data row18 col11\" >494</td>\n",
       "                        <td id=\"T_9f2b80d0_4bfe_11ea_a8b9_0c5415364605row18_col12\" class=\"data row18 col12\" >225</td>\n",
       "                        <td id=\"T_9f2b80d0_4bfe_11ea_a8b9_0c5415364605row18_col13\" class=\"data row18 col13\" >92</td>\n",
       "                        <td id=\"T_9f2b80d0_4bfe_11ea_a8b9_0c5415364605row18_col14\" class=\"data row18 col14\" >182</td>\n",
       "                        <td id=\"T_9f2b80d0_4bfe_11ea_a8b9_0c5415364605row18_col15\" class=\"data row18 col15\" >532</td>\n",
       "                        <td id=\"T_9f2b80d0_4bfe_11ea_a8b9_0c5415364605row18_col16\" class=\"data row18 col16\" >269</td>\n",
       "                        <td id=\"T_9f2b80d0_4bfe_11ea_a8b9_0c5415364605row18_col17\" class=\"data row18 col17\" >458</td>\n",
       "                        <td id=\"T_9f2b80d0_4bfe_11ea_a8b9_0c5415364605row18_col18\" class=\"data row18 col18\" >105</td>\n",
       "                        <td id=\"T_9f2b80d0_4bfe_11ea_a8b9_0c5415364605row18_col19\" class=\"data row18 col19\" >651</td>\n",
       "                        <td id=\"T_9f2b80d0_4bfe_11ea_a8b9_0c5415364605row18_col20\" class=\"data row18 col20\" >60</td>\n",
       "                        <td id=\"T_9f2b80d0_4bfe_11ea_a8b9_0c5415364605row18_col21\" class=\"data row18 col21\" >1202</td>\n",
       "                        <td id=\"T_9f2b80d0_4bfe_11ea_a8b9_0c5415364605row18_col22\" class=\"data row18 col22\" >1142</td>\n",
       "                        <td id=\"T_9f2b80d0_4bfe_11ea_a8b9_0c5415364605row18_col23\" class=\"data row18 col23\" >1580</td>\n",
       "                        <td id=\"T_9f2b80d0_4bfe_11ea_a8b9_0c5415364605row18_col24\" class=\"data row18 col24\" >1740</td>\n",
       "                        <td id=\"T_9f2b80d0_4bfe_11ea_a8b9_0c5415364605row18_col25\" class=\"data row18 col25\" >2278</td>\n",
       "                        <td id=\"T_9f2b80d0_4bfe_11ea_a8b9_0c5415364605row18_col26\" class=\"data row18 col26\" >1869</td>\n",
       "                        <td id=\"T_9f2b80d0_4bfe_11ea_a8b9_0c5415364605row18_col27\" class=\"data row18 col27\" >511</td>\n",
       "                        <td id=\"T_9f2b80d0_4bfe_11ea_a8b9_0c5415364605row18_col28\" class=\"data row18 col28\" >37</td>\n",
       "                        <td id=\"T_9f2b80d0_4bfe_11ea_a8b9_0c5415364605row18_col29\" class=\"data row18 col29\" >96</td>\n",
       "            </tr>\n",
       "            <tr>\n",
       "                        <th id=\"T_9f2b80d0_4bfe_11ea_a8b9_0c5415364605level0_row19\" class=\"row_heading level0 row19\" >–</th>\n",
       "                        <td id=\"T_9f2b80d0_4bfe_11ea_a8b9_0c5415364605row19_col0\" class=\"data row19 col0\" >627</td>\n",
       "                        <td id=\"T_9f2b80d0_4bfe_11ea_a8b9_0c5415364605row19_col1\" class=\"data row19 col1\" >680</td>\n",
       "                        <td id=\"T_9f2b80d0_4bfe_11ea_a8b9_0c5415364605row19_col2\" class=\"data row19 col2\" >1131</td>\n",
       "                        <td id=\"T_9f2b80d0_4bfe_11ea_a8b9_0c5415364605row19_col3\" class=\"data row19 col3\" >31</td>\n",
       "                        <td id=\"T_9f2b80d0_4bfe_11ea_a8b9_0c5415364605row19_col4\" class=\"data row19 col4\" >182</td>\n",
       "                        <td id=\"T_9f2b80d0_4bfe_11ea_a8b9_0c5415364605row19_col5\" class=\"data row19 col5\" >159</td>\n",
       "                        <td id=\"T_9f2b80d0_4bfe_11ea_a8b9_0c5415364605row19_col6\" class=\"data row19 col6\" >147</td>\n",
       "                        <td id=\"T_9f2b80d0_4bfe_11ea_a8b9_0c5415364605row19_col7\" class=\"data row19 col7\" >444</td>\n",
       "                        <td id=\"T_9f2b80d0_4bfe_11ea_a8b9_0c5415364605row19_col8\" class=\"data row19 col8\" >210</td>\n",
       "                        <td id=\"T_9f2b80d0_4bfe_11ea_a8b9_0c5415364605row19_col9\" class=\"data row19 col9\" >52</td>\n",
       "                        <td id=\"T_9f2b80d0_4bfe_11ea_a8b9_0c5415364605row19_col10\" class=\"data row19 col10\" >324</td>\n",
       "                        <td id=\"T_9f2b80d0_4bfe_11ea_a8b9_0c5415364605row19_col11\" class=\"data row19 col11\" >1419</td>\n",
       "                        <td id=\"T_9f2b80d0_4bfe_11ea_a8b9_0c5415364605row19_col12\" class=\"data row19 col12\" >205</td>\n",
       "                        <td id=\"T_9f2b80d0_4bfe_11ea_a8b9_0c5415364605row19_col13\" class=\"data row19 col13\" >1335</td>\n",
       "                        <td id=\"T_9f2b80d0_4bfe_11ea_a8b9_0c5415364605row19_col14\" class=\"data row19 col14\" >269</td>\n",
       "                        <td id=\"T_9f2b80d0_4bfe_11ea_a8b9_0c5415364605row19_col15\" class=\"data row19 col15\" >782</td>\n",
       "                        <td id=\"T_9f2b80d0_4bfe_11ea_a8b9_0c5415364605row19_col16\" class=\"data row19 col16\" >194</td>\n",
       "                        <td id=\"T_9f2b80d0_4bfe_11ea_a8b9_0c5415364605row19_col17\" class=\"data row19 col17\" >563</td>\n",
       "                        <td id=\"T_9f2b80d0_4bfe_11ea_a8b9_0c5415364605row19_col18\" class=\"data row19 col18\" >191</td>\n",
       "                        <td id=\"T_9f2b80d0_4bfe_11ea_a8b9_0c5415364605row19_col19\" class=\"data row19 col19\" >1035</td>\n",
       "                        <td id=\"T_9f2b80d0_4bfe_11ea_a8b9_0c5415364605row19_col20\" class=\"data row19 col20\" >135</td>\n",
       "                        <td id=\"T_9f2b80d0_4bfe_11ea_a8b9_0c5415364605row19_col21\" class=\"data row19 col21\" >1090</td>\n",
       "                        <td id=\"T_9f2b80d0_4bfe_11ea_a8b9_0c5415364605row19_col22\" class=\"data row19 col22\" >1638</td>\n",
       "                        <td id=\"T_9f2b80d0_4bfe_11ea_a8b9_0c5415364605row19_col23\" class=\"data row19 col23\" >1533</td>\n",
       "                        <td id=\"T_9f2b80d0_4bfe_11ea_a8b9_0c5415364605row19_col24\" class=\"data row19 col24\" >2086</td>\n",
       "                        <td id=\"T_9f2b80d0_4bfe_11ea_a8b9_0c5415364605row19_col25\" class=\"data row19 col25\" >2051</td>\n",
       "                        <td id=\"T_9f2b80d0_4bfe_11ea_a8b9_0c5415364605row19_col26\" class=\"data row19 col26\" >1144</td>\n",
       "                        <td id=\"T_9f2b80d0_4bfe_11ea_a8b9_0c5415364605row19_col27\" class=\"data row19 col27\" >344</td>\n",
       "                        <td id=\"T_9f2b80d0_4bfe_11ea_a8b9_0c5415364605row19_col28\" class=\"data row19 col28\" >35</td>\n",
       "                        <td id=\"T_9f2b80d0_4bfe_11ea_a8b9_0c5415364605row19_col29\" class=\"data row19 col29\" >289</td>\n",
       "            </tr>\n",
       "            <tr>\n",
       "                        <th id=\"T_9f2b80d0_4bfe_11ea_a8b9_0c5415364605level0_row20\" class=\"row_heading level0 row20\" >hun</th>\n",
       "                        <td id=\"T_9f2b80d0_4bfe_11ea_a8b9_0c5415364605row20_col0\" class=\"data row20 col0\" >0</td>\n",
       "                        <td id=\"T_9f2b80d0_4bfe_11ea_a8b9_0c5415364605row20_col1\" class=\"data row20 col1\" >86</td>\n",
       "                        <td id=\"T_9f2b80d0_4bfe_11ea_a8b9_0c5415364605row20_col2\" class=\"data row20 col2\" >147</td>\n",
       "                        <td id=\"T_9f2b80d0_4bfe_11ea_a8b9_0c5415364605row20_col3\" class=\"data row20 col3\" >1</td>\n",
       "                        <td id=\"T_9f2b80d0_4bfe_11ea_a8b9_0c5415364605row20_col4\" class=\"data row20 col4\" >10</td>\n",
       "                        <td id=\"T_9f2b80d0_4bfe_11ea_a8b9_0c5415364605row20_col5\" class=\"data row20 col5\" >15</td>\n",
       "                        <td id=\"T_9f2b80d0_4bfe_11ea_a8b9_0c5415364605row20_col6\" class=\"data row20 col6\" >40</td>\n",
       "                        <td id=\"T_9f2b80d0_4bfe_11ea_a8b9_0c5415364605row20_col7\" class=\"data row20 col7\" >84</td>\n",
       "                        <td id=\"T_9f2b80d0_4bfe_11ea_a8b9_0c5415364605row20_col8\" class=\"data row20 col8\" >3</td>\n",
       "                        <td id=\"T_9f2b80d0_4bfe_11ea_a8b9_0c5415364605row20_col9\" class=\"data row20 col9\" >2</td>\n",
       "                        <td id=\"T_9f2b80d0_4bfe_11ea_a8b9_0c5415364605row20_col10\" class=\"data row20 col10\" >57</td>\n",
       "                        <td id=\"T_9f2b80d0_4bfe_11ea_a8b9_0c5415364605row20_col11\" class=\"data row20 col11\" >134</td>\n",
       "                        <td id=\"T_9f2b80d0_4bfe_11ea_a8b9_0c5415364605row20_col12\" class=\"data row20 col12\" >50</td>\n",
       "                        <td id=\"T_9f2b80d0_4bfe_11ea_a8b9_0c5415364605row20_col13\" class=\"data row20 col13\" >6</td>\n",
       "                        <td id=\"T_9f2b80d0_4bfe_11ea_a8b9_0c5415364605row20_col14\" class=\"data row20 col14\" >24</td>\n",
       "                        <td id=\"T_9f2b80d0_4bfe_11ea_a8b9_0c5415364605row20_col15\" class=\"data row20 col15\" >89</td>\n",
       "                        <td id=\"T_9f2b80d0_4bfe_11ea_a8b9_0c5415364605row20_col16\" class=\"data row20 col16\" >146</td>\n",
       "                        <td id=\"T_9f2b80d0_4bfe_11ea_a8b9_0c5415364605row20_col17\" class=\"data row20 col17\" >121</td>\n",
       "                        <td id=\"T_9f2b80d0_4bfe_11ea_a8b9_0c5415364605row20_col18\" class=\"data row20 col18\" >30</td>\n",
       "                        <td id=\"T_9f2b80d0_4bfe_11ea_a8b9_0c5415364605row20_col19\" class=\"data row20 col19\" >210</td>\n",
       "                        <td id=\"T_9f2b80d0_4bfe_11ea_a8b9_0c5415364605row20_col20\" class=\"data row20 col20\" >12</td>\n",
       "                        <td id=\"T_9f2b80d0_4bfe_11ea_a8b9_0c5415364605row20_col21\" class=\"data row20 col21\" >389</td>\n",
       "                        <td id=\"T_9f2b80d0_4bfe_11ea_a8b9_0c5415364605row20_col22\" class=\"data row20 col22\" >391</td>\n",
       "                        <td id=\"T_9f2b80d0_4bfe_11ea_a8b9_0c5415364605row20_col23\" class=\"data row20 col23\" >594</td>\n",
       "                        <td id=\"T_9f2b80d0_4bfe_11ea_a8b9_0c5415364605row20_col24\" class=\"data row20 col24\" >633</td>\n",
       "                        <td id=\"T_9f2b80d0_4bfe_11ea_a8b9_0c5415364605row20_col25\" class=\"data row20 col25\" >831</td>\n",
       "                        <td id=\"T_9f2b80d0_4bfe_11ea_a8b9_0c5415364605row20_col26\" class=\"data row20 col26\" >781</td>\n",
       "                        <td id=\"T_9f2b80d0_4bfe_11ea_a8b9_0c5415364605row20_col27\" class=\"data row20 col27\" >83</td>\n",
       "                        <td id=\"T_9f2b80d0_4bfe_11ea_a8b9_0c5415364605row20_col28\" class=\"data row20 col28\" >35</td>\n",
       "                        <td id=\"T_9f2b80d0_4bfe_11ea_a8b9_0c5415364605row20_col29\" class=\"data row20 col29\" >129</td>\n",
       "            </tr>\n",
       "            <tr>\n",
       "                        <th id=\"T_9f2b80d0_4bfe_11ea_a8b9_0c5415364605level0_row21\" class=\"row_heading level0 row21\" >ham</th>\n",
       "                        <td id=\"T_9f2b80d0_4bfe_11ea_a8b9_0c5415364605row21_col0\" class=\"data row21 col0\" >1</td>\n",
       "                        <td id=\"T_9f2b80d0_4bfe_11ea_a8b9_0c5415364605row21_col1\" class=\"data row21 col1\" >117</td>\n",
       "                        <td id=\"T_9f2b80d0_4bfe_11ea_a8b9_0c5415364605row21_col2\" class=\"data row21 col2\" >131</td>\n",
       "                        <td id=\"T_9f2b80d0_4bfe_11ea_a8b9_0c5415364605row21_col3\" class=\"data row21 col3\" >7</td>\n",
       "                        <td id=\"T_9f2b80d0_4bfe_11ea_a8b9_0c5415364605row21_col4\" class=\"data row21 col4\" >25</td>\n",
       "                        <td id=\"T_9f2b80d0_4bfe_11ea_a8b9_0c5415364605row21_col5\" class=\"data row21 col5\" >18</td>\n",
       "                        <td id=\"T_9f2b80d0_4bfe_11ea_a8b9_0c5415364605row21_col6\" class=\"data row21 col6\" >81</td>\n",
       "                        <td id=\"T_9f2b80d0_4bfe_11ea_a8b9_0c5415364605row21_col7\" class=\"data row21 col7\" >94</td>\n",
       "                        <td id=\"T_9f2b80d0_4bfe_11ea_a8b9_0c5415364605row21_col8\" class=\"data row21 col8\" >23</td>\n",
       "                        <td id=\"T_9f2b80d0_4bfe_11ea_a8b9_0c5415364605row21_col9\" class=\"data row21 col9\" >4</td>\n",
       "                        <td id=\"T_9f2b80d0_4bfe_11ea_a8b9_0c5415364605row21_col10\" class=\"data row21 col10\" >19</td>\n",
       "                        <td id=\"T_9f2b80d0_4bfe_11ea_a8b9_0c5415364605row21_col11\" class=\"data row21 col11\" >57</td>\n",
       "                        <td id=\"T_9f2b80d0_4bfe_11ea_a8b9_0c5415364605row21_col12\" class=\"data row21 col12\" >34</td>\n",
       "                        <td id=\"T_9f2b80d0_4bfe_11ea_a8b9_0c5415364605row21_col13\" class=\"data row21 col13\" >5</td>\n",
       "                        <td id=\"T_9f2b80d0_4bfe_11ea_a8b9_0c5415364605row21_col14\" class=\"data row21 col14\" >29</td>\n",
       "                        <td id=\"T_9f2b80d0_4bfe_11ea_a8b9_0c5415364605row21_col15\" class=\"data row21 col15\" >62</td>\n",
       "                        <td id=\"T_9f2b80d0_4bfe_11ea_a8b9_0c5415364605row21_col16\" class=\"data row21 col16\" >40</td>\n",
       "                        <td id=\"T_9f2b80d0_4bfe_11ea_a8b9_0c5415364605row21_col17\" class=\"data row21 col17\" >75</td>\n",
       "                        <td id=\"T_9f2b80d0_4bfe_11ea_a8b9_0c5415364605row21_col18\" class=\"data row21 col18\" >17</td>\n",
       "                        <td id=\"T_9f2b80d0_4bfe_11ea_a8b9_0c5415364605row21_col19\" class=\"data row21 col19\" >140</td>\n",
       "                        <td id=\"T_9f2b80d0_4bfe_11ea_a8b9_0c5415364605row21_col20\" class=\"data row21 col20\" >11</td>\n",
       "                        <td id=\"T_9f2b80d0_4bfe_11ea_a8b9_0c5415364605row21_col21\" class=\"data row21 col21\" >257</td>\n",
       "                        <td id=\"T_9f2b80d0_4bfe_11ea_a8b9_0c5415364605row21_col22\" class=\"data row21 col22\" >257</td>\n",
       "                        <td id=\"T_9f2b80d0_4bfe_11ea_a8b9_0c5415364605row21_col23\" class=\"data row21 col23\" >364</td>\n",
       "                        <td id=\"T_9f2b80d0_4bfe_11ea_a8b9_0c5415364605row21_col24\" class=\"data row21 col24\" >345</td>\n",
       "                        <td id=\"T_9f2b80d0_4bfe_11ea_a8b9_0c5415364605row21_col25\" class=\"data row21 col25\" >425</td>\n",
       "                        <td id=\"T_9f2b80d0_4bfe_11ea_a8b9_0c5415364605row21_col26\" class=\"data row21 col26\" >412</td>\n",
       "                        <td id=\"T_9f2b80d0_4bfe_11ea_a8b9_0c5415364605row21_col27\" class=\"data row21 col27\" >159</td>\n",
       "                        <td id=\"T_9f2b80d0_4bfe_11ea_a8b9_0c5415364605row21_col28\" class=\"data row21 col28\" >34</td>\n",
       "                        <td id=\"T_9f2b80d0_4bfe_11ea_a8b9_0c5415364605row21_col29\" class=\"data row21 col29\" >20</td>\n",
       "            </tr>\n",
       "            <tr>\n",
       "                        <th id=\"T_9f2b80d0_4bfe_11ea_a8b9_0c5415364605level0_row22\" class=\"row_heading level0 row22\" >min</th>\n",
       "                        <td id=\"T_9f2b80d0_4bfe_11ea_a8b9_0c5415364605row22_col0\" class=\"data row22 col0\" >6</td>\n",
       "                        <td id=\"T_9f2b80d0_4bfe_11ea_a8b9_0c5415364605row22_col1\" class=\"data row22 col1\" >108</td>\n",
       "                        <td id=\"T_9f2b80d0_4bfe_11ea_a8b9_0c5415364605row22_col2\" class=\"data row22 col2\" >237</td>\n",
       "                        <td id=\"T_9f2b80d0_4bfe_11ea_a8b9_0c5415364605row22_col3\" class=\"data row22 col3\" >14</td>\n",
       "                        <td id=\"T_9f2b80d0_4bfe_11ea_a8b9_0c5415364605row22_col4\" class=\"data row22 col4\" >37</td>\n",
       "                        <td id=\"T_9f2b80d0_4bfe_11ea_a8b9_0c5415364605row22_col5\" class=\"data row22 col5\" >42</td>\n",
       "                        <td id=\"T_9f2b80d0_4bfe_11ea_a8b9_0c5415364605row22_col6\" class=\"data row22 col6\" >49</td>\n",
       "                        <td id=\"T_9f2b80d0_4bfe_11ea_a8b9_0c5415364605row22_col7\" class=\"data row22 col7\" >40</td>\n",
       "                        <td id=\"T_9f2b80d0_4bfe_11ea_a8b9_0c5415364605row22_col8\" class=\"data row22 col8\" >0</td>\n",
       "                        <td id=\"T_9f2b80d0_4bfe_11ea_a8b9_0c5415364605row22_col9\" class=\"data row22 col9\" >3</td>\n",
       "                        <td id=\"T_9f2b80d0_4bfe_11ea_a8b9_0c5415364605row22_col10\" class=\"data row22 col10\" >27</td>\n",
       "                        <td id=\"T_9f2b80d0_4bfe_11ea_a8b9_0c5415364605row22_col11\" class=\"data row22 col11\" >30</td>\n",
       "                        <td id=\"T_9f2b80d0_4bfe_11ea_a8b9_0c5415364605row22_col12\" class=\"data row22 col12\" >22</td>\n",
       "                        <td id=\"T_9f2b80d0_4bfe_11ea_a8b9_0c5415364605row22_col13\" class=\"data row22 col13\" >7</td>\n",
       "                        <td id=\"T_9f2b80d0_4bfe_11ea_a8b9_0c5415364605row22_col14\" class=\"data row22 col14\" >7</td>\n",
       "                        <td id=\"T_9f2b80d0_4bfe_11ea_a8b9_0c5415364605row22_col15\" class=\"data row22 col15\" >84</td>\n",
       "                        <td id=\"T_9f2b80d0_4bfe_11ea_a8b9_0c5415364605row22_col16\" class=\"data row22 col16\" >20</td>\n",
       "                        <td id=\"T_9f2b80d0_4bfe_11ea_a8b9_0c5415364605row22_col17\" class=\"data row22 col17\" >59</td>\n",
       "                        <td id=\"T_9f2b80d0_4bfe_11ea_a8b9_0c5415364605row22_col18\" class=\"data row22 col18\" >29</td>\n",
       "                        <td id=\"T_9f2b80d0_4bfe_11ea_a8b9_0c5415364605row22_col19\" class=\"data row22 col19\" >384</td>\n",
       "                        <td id=\"T_9f2b80d0_4bfe_11ea_a8b9_0c5415364605row22_col20\" class=\"data row22 col20\" >17</td>\n",
       "                        <td id=\"T_9f2b80d0_4bfe_11ea_a8b9_0c5415364605row22_col21\" class=\"data row22 col21\" >751</td>\n",
       "                        <td id=\"T_9f2b80d0_4bfe_11ea_a8b9_0c5415364605row22_col22\" class=\"data row22 col22\" >955</td>\n",
       "                        <td id=\"T_9f2b80d0_4bfe_11ea_a8b9_0c5415364605row22_col23\" class=\"data row22 col23\" >1131</td>\n",
       "                        <td id=\"T_9f2b80d0_4bfe_11ea_a8b9_0c5415364605row22_col24\" class=\"data row22 col24\" >1175</td>\n",
       "                        <td id=\"T_9f2b80d0_4bfe_11ea_a8b9_0c5415364605row22_col25\" class=\"data row22 col25\" >1465</td>\n",
       "                        <td id=\"T_9f2b80d0_4bfe_11ea_a8b9_0c5415364605row22_col26\" class=\"data row22 col26\" >1195</td>\n",
       "                        <td id=\"T_9f2b80d0_4bfe_11ea_a8b9_0c5415364605row22_col27\" class=\"data row22 col27\" >247</td>\n",
       "                        <td id=\"T_9f2b80d0_4bfe_11ea_a8b9_0c5415364605row22_col28\" class=\"data row22 col28\" >34</td>\n",
       "                        <td id=\"T_9f2b80d0_4bfe_11ea_a8b9_0c5415364605row22_col29\" class=\"data row22 col29\" >2</td>\n",
       "            </tr>\n",
       "            <tr>\n",
       "                        <th id=\"T_9f2b80d0_4bfe_11ea_a8b9_0c5415364605level0_row23\" class=\"row_heading level0 row23\" >paa</th>\n",
       "                        <td id=\"T_9f2b80d0_4bfe_11ea_a8b9_0c5415364605row23_col0\" class=\"data row23 col0\" >3</td>\n",
       "                        <td id=\"T_9f2b80d0_4bfe_11ea_a8b9_0c5415364605row23_col1\" class=\"data row23 col1\" >323</td>\n",
       "                        <td id=\"T_9f2b80d0_4bfe_11ea_a8b9_0c5415364605row23_col2\" class=\"data row23 col2\" >463</td>\n",
       "                        <td id=\"T_9f2b80d0_4bfe_11ea_a8b9_0c5415364605row23_col3\" class=\"data row23 col3\" >17</td>\n",
       "                        <td id=\"T_9f2b80d0_4bfe_11ea_a8b9_0c5415364605row23_col4\" class=\"data row23 col4\" >20</td>\n",
       "                        <td id=\"T_9f2b80d0_4bfe_11ea_a8b9_0c5415364605row23_col5\" class=\"data row23 col5\" >37</td>\n",
       "                        <td id=\"T_9f2b80d0_4bfe_11ea_a8b9_0c5415364605row23_col6\" class=\"data row23 col6\" >111</td>\n",
       "                        <td id=\"T_9f2b80d0_4bfe_11ea_a8b9_0c5415364605row23_col7\" class=\"data row23 col7\" >0</td>\n",
       "                        <td id=\"T_9f2b80d0_4bfe_11ea_a8b9_0c5415364605row23_col8\" class=\"data row23 col8\" >94</td>\n",
       "                        <td id=\"T_9f2b80d0_4bfe_11ea_a8b9_0c5415364605row23_col9\" class=\"data row23 col9\" >29</td>\n",
       "                        <td id=\"T_9f2b80d0_4bfe_11ea_a8b9_0c5415364605row23_col10\" class=\"data row23 col10\" >127</td>\n",
       "                        <td id=\"T_9f2b80d0_4bfe_11ea_a8b9_0c5415364605row23_col11\" class=\"data row23 col11\" >288</td>\n",
       "                        <td id=\"T_9f2b80d0_4bfe_11ea_a8b9_0c5415364605row23_col12\" class=\"data row23 col12\" >130</td>\n",
       "                        <td id=\"T_9f2b80d0_4bfe_11ea_a8b9_0c5415364605row23_col13\" class=\"data row23 col13\" >32</td>\n",
       "                        <td id=\"T_9f2b80d0_4bfe_11ea_a8b9_0c5415364605row23_col14\" class=\"data row23 col14\" >121</td>\n",
       "                        <td id=\"T_9f2b80d0_4bfe_11ea_a8b9_0c5415364605row23_col15\" class=\"data row23 col15\" >366</td>\n",
       "                        <td id=\"T_9f2b80d0_4bfe_11ea_a8b9_0c5415364605row23_col16\" class=\"data row23 col16\" >147</td>\n",
       "                        <td id=\"T_9f2b80d0_4bfe_11ea_a8b9_0c5415364605row23_col17\" class=\"data row23 col17\" >203</td>\n",
       "                        <td id=\"T_9f2b80d0_4bfe_11ea_a8b9_0c5415364605row23_col18\" class=\"data row23 col18\" >51</td>\n",
       "                        <td id=\"T_9f2b80d0_4bfe_11ea_a8b9_0c5415364605row23_col19\" class=\"data row23 col19\" >387</td>\n",
       "                        <td id=\"T_9f2b80d0_4bfe_11ea_a8b9_0c5415364605row23_col20\" class=\"data row23 col20\" >27</td>\n",
       "                        <td id=\"T_9f2b80d0_4bfe_11ea_a8b9_0c5415364605row23_col21\" class=\"data row23 col21\" >702</td>\n",
       "                        <td id=\"T_9f2b80d0_4bfe_11ea_a8b9_0c5415364605row23_col22\" class=\"data row23 col22\" >715</td>\n",
       "                        <td id=\"T_9f2b80d0_4bfe_11ea_a8b9_0c5415364605row23_col23\" class=\"data row23 col23\" >1009</td>\n",
       "                        <td id=\"T_9f2b80d0_4bfe_11ea_a8b9_0c5415364605row23_col24\" class=\"data row23 col24\" >1093</td>\n",
       "                        <td id=\"T_9f2b80d0_4bfe_11ea_a8b9_0c5415364605row23_col25\" class=\"data row23 col25\" >1320</td>\n",
       "                        <td id=\"T_9f2b80d0_4bfe_11ea_a8b9_0c5415364605row23_col26\" class=\"data row23 col26\" >1050</td>\n",
       "                        <td id=\"T_9f2b80d0_4bfe_11ea_a8b9_0c5415364605row23_col27\" class=\"data row23 col27\" >291</td>\n",
       "                        <td id=\"T_9f2b80d0_4bfe_11ea_a8b9_0c5415364605row23_col28\" class=\"data row23 col28\" >33</td>\n",
       "                        <td id=\"T_9f2b80d0_4bfe_11ea_a8b9_0c5415364605row23_col29\" class=\"data row23 col29\" >108</td>\n",
       "            </tr>\n",
       "            <tr>\n",
       "                        <th id=\"T_9f2b80d0_4bfe_11ea_a8b9_0c5415364605level0_row24\" class=\"row_heading level0 row24\" >[</th>\n",
       "                        <td id=\"T_9f2b80d0_4bfe_11ea_a8b9_0c5415364605row24_col0\" class=\"data row24 col0\" >13</td>\n",
       "                        <td id=\"T_9f2b80d0_4bfe_11ea_a8b9_0c5415364605row24_col1\" class=\"data row24 col1\" >127</td>\n",
       "                        <td id=\"T_9f2b80d0_4bfe_11ea_a8b9_0c5415364605row24_col2\" class=\"data row24 col2\" >125</td>\n",
       "                        <td id=\"T_9f2b80d0_4bfe_11ea_a8b9_0c5415364605row24_col3\" class=\"data row24 col3\" >2</td>\n",
       "                        <td id=\"T_9f2b80d0_4bfe_11ea_a8b9_0c5415364605row24_col4\" class=\"data row24 col4\" >31</td>\n",
       "                        <td id=\"T_9f2b80d0_4bfe_11ea_a8b9_0c5415364605row24_col5\" class=\"data row24 col5\" >36</td>\n",
       "                        <td id=\"T_9f2b80d0_4bfe_11ea_a8b9_0c5415364605row24_col6\" class=\"data row24 col6\" >59</td>\n",
       "                        <td id=\"T_9f2b80d0_4bfe_11ea_a8b9_0c5415364605row24_col7\" class=\"data row24 col7\" >44</td>\n",
       "                        <td id=\"T_9f2b80d0_4bfe_11ea_a8b9_0c5415364605row24_col8\" class=\"data row24 col8\" >152</td>\n",
       "                        <td id=\"T_9f2b80d0_4bfe_11ea_a8b9_0c5415364605row24_col9\" class=\"data row24 col9\" >1</td>\n",
       "                        <td id=\"T_9f2b80d0_4bfe_11ea_a8b9_0c5415364605row24_col10\" class=\"data row24 col10\" >0</td>\n",
       "                        <td id=\"T_9f2b80d0_4bfe_11ea_a8b9_0c5415364605row24_col11\" class=\"data row24 col11\" >26</td>\n",
       "                        <td id=\"T_9f2b80d0_4bfe_11ea_a8b9_0c5415364605row24_col12\" class=\"data row24 col12\" >1</td>\n",
       "                        <td id=\"T_9f2b80d0_4bfe_11ea_a8b9_0c5415364605row24_col13\" class=\"data row24 col13\" >0</td>\n",
       "                        <td id=\"T_9f2b80d0_4bfe_11ea_a8b9_0c5415364605row24_col14\" class=\"data row24 col14\" >0</td>\n",
       "                        <td id=\"T_9f2b80d0_4bfe_11ea_a8b9_0c5415364605row24_col15\" class=\"data row24 col15\" >31</td>\n",
       "                        <td id=\"T_9f2b80d0_4bfe_11ea_a8b9_0c5415364605row24_col16\" class=\"data row24 col16\" >22</td>\n",
       "                        <td id=\"T_9f2b80d0_4bfe_11ea_a8b9_0c5415364605row24_col17\" class=\"data row24 col17\" >44</td>\n",
       "                        <td id=\"T_9f2b80d0_4bfe_11ea_a8b9_0c5415364605row24_col18\" class=\"data row24 col18\" >4</td>\n",
       "                        <td id=\"T_9f2b80d0_4bfe_11ea_a8b9_0c5415364605row24_col19\" class=\"data row24 col19\" >2</td>\n",
       "                        <td id=\"T_9f2b80d0_4bfe_11ea_a8b9_0c5415364605row24_col20\" class=\"data row24 col20\" >3</td>\n",
       "                        <td id=\"T_9f2b80d0_4bfe_11ea_a8b9_0c5415364605row24_col21\" class=\"data row24 col21\" >41</td>\n",
       "                        <td id=\"T_9f2b80d0_4bfe_11ea_a8b9_0c5415364605row24_col22\" class=\"data row24 col22\" >87</td>\n",
       "                        <td id=\"T_9f2b80d0_4bfe_11ea_a8b9_0c5415364605row24_col23\" class=\"data row24 col23\" >71</td>\n",
       "                        <td id=\"T_9f2b80d0_4bfe_11ea_a8b9_0c5415364605row24_col24\" class=\"data row24 col24\" >51</td>\n",
       "                        <td id=\"T_9f2b80d0_4bfe_11ea_a8b9_0c5415364605row24_col25\" class=\"data row24 col25\" >62</td>\n",
       "                        <td id=\"T_9f2b80d0_4bfe_11ea_a8b9_0c5415364605row24_col26\" class=\"data row24 col26\" >88</td>\n",
       "                        <td id=\"T_9f2b80d0_4bfe_11ea_a8b9_0c5415364605row24_col27\" class=\"data row24 col27\" >385</td>\n",
       "                        <td id=\"T_9f2b80d0_4bfe_11ea_a8b9_0c5415364605row24_col28\" class=\"data row24 col28\" >33</td>\n",
       "                        <td id=\"T_9f2b80d0_4bfe_11ea_a8b9_0c5415364605row24_col29\" class=\"data row24 col29\" >31</td>\n",
       "            </tr>\n",
       "            <tr>\n",
       "                        <th id=\"T_9f2b80d0_4bfe_11ea_a8b9_0c5415364605level0_row25\" class=\"row_heading level0 row25\" >]</th>\n",
       "                        <td id=\"T_9f2b80d0_4bfe_11ea_a8b9_0c5415364605row25_col0\" class=\"data row25 col0\" >100</td>\n",
       "                        <td id=\"T_9f2b80d0_4bfe_11ea_a8b9_0c5415364605row25_col1\" class=\"data row25 col1\" >539</td>\n",
       "                        <td id=\"T_9f2b80d0_4bfe_11ea_a8b9_0c5415364605row25_col2\" class=\"data row25 col2\" >1058</td>\n",
       "                        <td id=\"T_9f2b80d0_4bfe_11ea_a8b9_0c5415364605row25_col3\" class=\"data row25 col3\" >15</td>\n",
       "                        <td id=\"T_9f2b80d0_4bfe_11ea_a8b9_0c5415364605row25_col4\" class=\"data row25 col4\" >58</td>\n",
       "                        <td id=\"T_9f2b80d0_4bfe_11ea_a8b9_0c5415364605row25_col5\" class=\"data row25 col5\" >110</td>\n",
       "                        <td id=\"T_9f2b80d0_4bfe_11ea_a8b9_0c5415364605row25_col6\" class=\"data row25 col6\" >94</td>\n",
       "                        <td id=\"T_9f2b80d0_4bfe_11ea_a8b9_0c5415364605row25_col7\" class=\"data row25 col7\" >266</td>\n",
       "                        <td id=\"T_9f2b80d0_4bfe_11ea_a8b9_0c5415364605row25_col8\" class=\"data row25 col8\" >152</td>\n",
       "                        <td id=\"T_9f2b80d0_4bfe_11ea_a8b9_0c5415364605row25_col9\" class=\"data row25 col9\" >1</td>\n",
       "                        <td id=\"T_9f2b80d0_4bfe_11ea_a8b9_0c5415364605row25_col10\" class=\"data row25 col10\" >0</td>\n",
       "                        <td id=\"T_9f2b80d0_4bfe_11ea_a8b9_0c5415364605row25_col11\" class=\"data row25 col11\" >26</td>\n",
       "                        <td id=\"T_9f2b80d0_4bfe_11ea_a8b9_0c5415364605row25_col12\" class=\"data row25 col12\" >1</td>\n",
       "                        <td id=\"T_9f2b80d0_4bfe_11ea_a8b9_0c5415364605row25_col13\" class=\"data row25 col13\" >0</td>\n",
       "                        <td id=\"T_9f2b80d0_4bfe_11ea_a8b9_0c5415364605row25_col14\" class=\"data row25 col14\" >0</td>\n",
       "                        <td id=\"T_9f2b80d0_4bfe_11ea_a8b9_0c5415364605row25_col15\" class=\"data row25 col15\" >449</td>\n",
       "                        <td id=\"T_9f2b80d0_4bfe_11ea_a8b9_0c5415364605row25_col16\" class=\"data row25 col16\" >284</td>\n",
       "                        <td id=\"T_9f2b80d0_4bfe_11ea_a8b9_0c5415364605row25_col17\" class=\"data row25 col17\" >531</td>\n",
       "                        <td id=\"T_9f2b80d0_4bfe_11ea_a8b9_0c5415364605row25_col18\" class=\"data row25 col18\" >36</td>\n",
       "                        <td id=\"T_9f2b80d0_4bfe_11ea_a8b9_0c5415364605row25_col19\" class=\"data row25 col19\" >6</td>\n",
       "                        <td id=\"T_9f2b80d0_4bfe_11ea_a8b9_0c5415364605row25_col20\" class=\"data row25 col20\" >52</td>\n",
       "                        <td id=\"T_9f2b80d0_4bfe_11ea_a8b9_0c5415364605row25_col21\" class=\"data row25 col21\" >63</td>\n",
       "                        <td id=\"T_9f2b80d0_4bfe_11ea_a8b9_0c5415364605row25_col22\" class=\"data row25 col22\" >121</td>\n",
       "                        <td id=\"T_9f2b80d0_4bfe_11ea_a8b9_0c5415364605row25_col23\" class=\"data row25 col23\" >109</td>\n",
       "                        <td id=\"T_9f2b80d0_4bfe_11ea_a8b9_0c5415364605row25_col24\" class=\"data row25 col24\" >91</td>\n",
       "                        <td id=\"T_9f2b80d0_4bfe_11ea_a8b9_0c5415364605row25_col25\" class=\"data row25 col25\" >84</td>\n",
       "                        <td id=\"T_9f2b80d0_4bfe_11ea_a8b9_0c5415364605row25_col26\" class=\"data row25 col26\" >132</td>\n",
       "                        <td id=\"T_9f2b80d0_4bfe_11ea_a8b9_0c5415364605row25_col27\" class=\"data row25 col27\" >385</td>\n",
       "                        <td id=\"T_9f2b80d0_4bfe_11ea_a8b9_0c5415364605row25_col28\" class=\"data row25 col28\" >33</td>\n",
       "                        <td id=\"T_9f2b80d0_4bfe_11ea_a8b9_0c5415364605row25_col29\" class=\"data row25 col29\" >67</td>\n",
       "            </tr>\n",
       "            <tr>\n",
       "                        <th id=\"T_9f2b80d0_4bfe_11ea_a8b9_0c5415364605level0_row26\" class=\"row_heading level0 row26\" >har</th>\n",
       "                        <td id=\"T_9f2b80d0_4bfe_11ea_a8b9_0c5415364605row26_col0\" class=\"data row26 col0\" >347</td>\n",
       "                        <td id=\"T_9f2b80d0_4bfe_11ea_a8b9_0c5415364605row26_col1\" class=\"data row26 col1\" >278</td>\n",
       "                        <td id=\"T_9f2b80d0_4bfe_11ea_a8b9_0c5415364605row26_col2\" class=\"data row26 col2\" >675</td>\n",
       "                        <td id=\"T_9f2b80d0_4bfe_11ea_a8b9_0c5415364605row26_col3\" class=\"data row26 col3\" >30</td>\n",
       "                        <td id=\"T_9f2b80d0_4bfe_11ea_a8b9_0c5415364605row26_col4\" class=\"data row26 col4\" >147</td>\n",
       "                        <td id=\"T_9f2b80d0_4bfe_11ea_a8b9_0c5415364605row26_col5\" class=\"data row26 col5\" >131</td>\n",
       "                        <td id=\"T_9f2b80d0_4bfe_11ea_a8b9_0c5415364605row26_col6\" class=\"data row26 col6\" >59</td>\n",
       "                        <td id=\"T_9f2b80d0_4bfe_11ea_a8b9_0c5415364605row26_col7\" class=\"data row26 col7\" >141</td>\n",
       "                        <td id=\"T_9f2b80d0_4bfe_11ea_a8b9_0c5415364605row26_col8\" class=\"data row26 col8\" >32</td>\n",
       "                        <td id=\"T_9f2b80d0_4bfe_11ea_a8b9_0c5415364605row26_col9\" class=\"data row26 col9\" >7</td>\n",
       "                        <td id=\"T_9f2b80d0_4bfe_11ea_a8b9_0c5415364605row26_col10\" class=\"data row26 col10\" >91</td>\n",
       "                        <td id=\"T_9f2b80d0_4bfe_11ea_a8b9_0c5415364605row26_col11\" class=\"data row26 col11\" >234</td>\n",
       "                        <td id=\"T_9f2b80d0_4bfe_11ea_a8b9_0c5415364605row26_col12\" class=\"data row26 col12\" >111</td>\n",
       "                        <td id=\"T_9f2b80d0_4bfe_11ea_a8b9_0c5415364605row26_col13\" class=\"data row26 col13\" >24</td>\n",
       "                        <td id=\"T_9f2b80d0_4bfe_11ea_a8b9_0c5415364605row26_col14\" class=\"data row26 col14\" >134</td>\n",
       "                        <td id=\"T_9f2b80d0_4bfe_11ea_a8b9_0c5415364605row26_col15\" class=\"data row26 col15\" >467</td>\n",
       "                        <td id=\"T_9f2b80d0_4bfe_11ea_a8b9_0c5415364605row26_col16\" class=\"data row26 col16\" >226</td>\n",
       "                        <td id=\"T_9f2b80d0_4bfe_11ea_a8b9_0c5415364605row26_col17\" class=\"data row26 col17\" >484</td>\n",
       "                        <td id=\"T_9f2b80d0_4bfe_11ea_a8b9_0c5415364605row26_col18\" class=\"data row26 col18\" >32</td>\n",
       "                        <td id=\"T_9f2b80d0_4bfe_11ea_a8b9_0c5415364605row26_col19\" class=\"data row26 col19\" >418</td>\n",
       "                        <td id=\"T_9f2b80d0_4bfe_11ea_a8b9_0c5415364605row26_col20\" class=\"data row26 col20\" >26</td>\n",
       "                        <td id=\"T_9f2b80d0_4bfe_11ea_a8b9_0c5415364605row26_col21\" class=\"data row26 col21\" >785</td>\n",
       "                        <td id=\"T_9f2b80d0_4bfe_11ea_a8b9_0c5415364605row26_col22\" class=\"data row26 col22\" >694</td>\n",
       "                        <td id=\"T_9f2b80d0_4bfe_11ea_a8b9_0c5415364605row26_col23\" class=\"data row26 col23\" >982</td>\n",
       "                        <td id=\"T_9f2b80d0_4bfe_11ea_a8b9_0c5415364605row26_col24\" class=\"data row26 col24\" >1049</td>\n",
       "                        <td id=\"T_9f2b80d0_4bfe_11ea_a8b9_0c5415364605row26_col25\" class=\"data row26 col25\" >1325</td>\n",
       "                        <td id=\"T_9f2b80d0_4bfe_11ea_a8b9_0c5415364605row26_col26\" class=\"data row26 col26\" >1135</td>\n",
       "                        <td id=\"T_9f2b80d0_4bfe_11ea_a8b9_0c5415364605row26_col27\" class=\"data row26 col27\" >301</td>\n",
       "                        <td id=\"T_9f2b80d0_4bfe_11ea_a8b9_0c5415364605row26_col28\" class=\"data row26 col28\" >32</td>\n",
       "                        <td id=\"T_9f2b80d0_4bfe_11ea_a8b9_0c5415364605row26_col29\" class=\"data row26 col29\" >52</td>\n",
       "            </tr>\n",
       "            <tr>\n",
       "                        <th id=\"T_9f2b80d0_4bfe_11ea_a8b9_0c5415364605level0_row27\" class=\"row_heading level0 row27\" >med</th>\n",
       "                        <td id=\"T_9f2b80d0_4bfe_11ea_a8b9_0c5415364605row27_col0\" class=\"data row27 col0\" >43</td>\n",
       "                        <td id=\"T_9f2b80d0_4bfe_11ea_a8b9_0c5415364605row27_col1\" class=\"data row27 col1\" >377</td>\n",
       "                        <td id=\"T_9f2b80d0_4bfe_11ea_a8b9_0c5415364605row27_col2\" class=\"data row27 col2\" >543</td>\n",
       "                        <td id=\"T_9f2b80d0_4bfe_11ea_a8b9_0c5415364605row27_col3\" class=\"data row27 col3\" >16</td>\n",
       "                        <td id=\"T_9f2b80d0_4bfe_11ea_a8b9_0c5415364605row27_col4\" class=\"data row27 col4\" >87</td>\n",
       "                        <td id=\"T_9f2b80d0_4bfe_11ea_a8b9_0c5415364605row27_col5\" class=\"data row27 col5\" >87</td>\n",
       "                        <td id=\"T_9f2b80d0_4bfe_11ea_a8b9_0c5415364605row27_col6\" class=\"data row27 col6\" >169</td>\n",
       "                        <td id=\"T_9f2b80d0_4bfe_11ea_a8b9_0c5415364605row27_col7\" class=\"data row27 col7\" >473</td>\n",
       "                        <td id=\"T_9f2b80d0_4bfe_11ea_a8b9_0c5415364605row27_col8\" class=\"data row27 col8\" >129</td>\n",
       "                        <td id=\"T_9f2b80d0_4bfe_11ea_a8b9_0c5415364605row27_col9\" class=\"data row27 col9\" >17</td>\n",
       "                        <td id=\"T_9f2b80d0_4bfe_11ea_a8b9_0c5415364605row27_col10\" class=\"data row27 col10\" >109</td>\n",
       "                        <td id=\"T_9f2b80d0_4bfe_11ea_a8b9_0c5415364605row27_col11\" class=\"data row27 col11\" >470</td>\n",
       "                        <td id=\"T_9f2b80d0_4bfe_11ea_a8b9_0c5415364605row27_col12\" class=\"data row27 col12\" >280</td>\n",
       "                        <td id=\"T_9f2b80d0_4bfe_11ea_a8b9_0c5415364605row27_col13\" class=\"data row27 col13\" >64</td>\n",
       "                        <td id=\"T_9f2b80d0_4bfe_11ea_a8b9_0c5415364605row27_col14\" class=\"data row27 col14\" >110</td>\n",
       "                        <td id=\"T_9f2b80d0_4bfe_11ea_a8b9_0c5415364605row27_col15\" class=\"data row27 col15\" >389</td>\n",
       "                        <td id=\"T_9f2b80d0_4bfe_11ea_a8b9_0c5415364605row27_col16\" class=\"data row27 col16\" >174</td>\n",
       "                        <td id=\"T_9f2b80d0_4bfe_11ea_a8b9_0c5415364605row27_col17\" class=\"data row27 col17\" >326</td>\n",
       "                        <td id=\"T_9f2b80d0_4bfe_11ea_a8b9_0c5415364605row27_col18\" class=\"data row27 col18\" >83</td>\n",
       "                        <td id=\"T_9f2b80d0_4bfe_11ea_a8b9_0c5415364605row27_col19\" class=\"data row27 col19\" >492</td>\n",
       "                        <td id=\"T_9f2b80d0_4bfe_11ea_a8b9_0c5415364605row27_col20\" class=\"data row27 col20\" >47</td>\n",
       "                        <td id=\"T_9f2b80d0_4bfe_11ea_a8b9_0c5415364605row27_col21\" class=\"data row27 col21\" >917</td>\n",
       "                        <td id=\"T_9f2b80d0_4bfe_11ea_a8b9_0c5415364605row27_col22\" class=\"data row27 col22\" >826</td>\n",
       "                        <td id=\"T_9f2b80d0_4bfe_11ea_a8b9_0c5415364605row27_col23\" class=\"data row27 col23\" >1247</td>\n",
       "                        <td id=\"T_9f2b80d0_4bfe_11ea_a8b9_0c5415364605row27_col24\" class=\"data row27 col24\" >1394</td>\n",
       "                        <td id=\"T_9f2b80d0_4bfe_11ea_a8b9_0c5415364605row27_col25\" class=\"data row27 col25\" >1826</td>\n",
       "                        <td id=\"T_9f2b80d0_4bfe_11ea_a8b9_0c5415364605row27_col26\" class=\"data row27 col26\" >1475</td>\n",
       "                        <td id=\"T_9f2b80d0_4bfe_11ea_a8b9_0c5415364605row27_col27\" class=\"data row27 col27\" >326</td>\n",
       "                        <td id=\"T_9f2b80d0_4bfe_11ea_a8b9_0c5415364605row27_col28\" class=\"data row27 col28\" >30</td>\n",
       "                        <td id=\"T_9f2b80d0_4bfe_11ea_a8b9_0c5415364605row27_col29\" class=\"data row27 col29\" >71</td>\n",
       "            </tr>\n",
       "            <tr>\n",
       "                        <th id=\"T_9f2b80d0_4bfe_11ea_a8b9_0c5415364605level0_row28\" class=\"row_heading level0 row28\" >…</th>\n",
       "                        <td id=\"T_9f2b80d0_4bfe_11ea_a8b9_0c5415364605row28_col0\" class=\"data row28 col0\" >0</td>\n",
       "                        <td id=\"T_9f2b80d0_4bfe_11ea_a8b9_0c5415364605row28_col1\" class=\"data row28 col1\" >0</td>\n",
       "                        <td id=\"T_9f2b80d0_4bfe_11ea_a8b9_0c5415364605row28_col2\" class=\"data row28 col2\" >6</td>\n",
       "                        <td id=\"T_9f2b80d0_4bfe_11ea_a8b9_0c5415364605row28_col3\" class=\"data row28 col3\" >0</td>\n",
       "                        <td id=\"T_9f2b80d0_4bfe_11ea_a8b9_0c5415364605row28_col4\" class=\"data row28 col4\" >0</td>\n",
       "                        <td id=\"T_9f2b80d0_4bfe_11ea_a8b9_0c5415364605row28_col5\" class=\"data row28 col5\" >6</td>\n",
       "                        <td id=\"T_9f2b80d0_4bfe_11ea_a8b9_0c5415364605row28_col6\" class=\"data row28 col6\" >0</td>\n",
       "                        <td id=\"T_9f2b80d0_4bfe_11ea_a8b9_0c5415364605row28_col7\" class=\"data row28 col7\" >0</td>\n",
       "                        <td id=\"T_9f2b80d0_4bfe_11ea_a8b9_0c5415364605row28_col8\" class=\"data row28 col8\" >10</td>\n",
       "                        <td id=\"T_9f2b80d0_4bfe_11ea_a8b9_0c5415364605row28_col9\" class=\"data row28 col9\" >0</td>\n",
       "                        <td id=\"T_9f2b80d0_4bfe_11ea_a8b9_0c5415364605row28_col10\" class=\"data row28 col10\" >0</td>\n",
       "                        <td id=\"T_9f2b80d0_4bfe_11ea_a8b9_0c5415364605row28_col11\" class=\"data row28 col11\" >0</td>\n",
       "                        <td id=\"T_9f2b80d0_4bfe_11ea_a8b9_0c5415364605row28_col12\" class=\"data row28 col12\" >1</td>\n",
       "                        <td id=\"T_9f2b80d0_4bfe_11ea_a8b9_0c5415364605row28_col13\" class=\"data row28 col13\" >0</td>\n",
       "                        <td id=\"T_9f2b80d0_4bfe_11ea_a8b9_0c5415364605row28_col14\" class=\"data row28 col14\" >0</td>\n",
       "                        <td id=\"T_9f2b80d0_4bfe_11ea_a8b9_0c5415364605row28_col15\" class=\"data row28 col15\" >32</td>\n",
       "                        <td id=\"T_9f2b80d0_4bfe_11ea_a8b9_0c5415364605row28_col16\" class=\"data row28 col16\" >18</td>\n",
       "                        <td id=\"T_9f2b80d0_4bfe_11ea_a8b9_0c5415364605row28_col17\" class=\"data row28 col17\" >26</td>\n",
       "                        <td id=\"T_9f2b80d0_4bfe_11ea_a8b9_0c5415364605row28_col18\" class=\"data row28 col18\" >2</td>\n",
       "                        <td id=\"T_9f2b80d0_4bfe_11ea_a8b9_0c5415364605row28_col19\" class=\"data row28 col19\" >0</td>\n",
       "                        <td id=\"T_9f2b80d0_4bfe_11ea_a8b9_0c5415364605row28_col20\" class=\"data row28 col20\" >0</td>\n",
       "                        <td id=\"T_9f2b80d0_4bfe_11ea_a8b9_0c5415364605row28_col21\" class=\"data row28 col21\" >0</td>\n",
       "                        <td id=\"T_9f2b80d0_4bfe_11ea_a8b9_0c5415364605row28_col22\" class=\"data row28 col22\" >0</td>\n",
       "                        <td id=\"T_9f2b80d0_4bfe_11ea_a8b9_0c5415364605row28_col23\" class=\"data row28 col23\" >7</td>\n",
       "                        <td id=\"T_9f2b80d0_4bfe_11ea_a8b9_0c5415364605row28_col24\" class=\"data row28 col24\" >0</td>\n",
       "                        <td id=\"T_9f2b80d0_4bfe_11ea_a8b9_0c5415364605row28_col25\" class=\"data row28 col25\" >0</td>\n",
       "                        <td id=\"T_9f2b80d0_4bfe_11ea_a8b9_0c5415364605row28_col26\" class=\"data row28 col26\" >0</td>\n",
       "                        <td id=\"T_9f2b80d0_4bfe_11ea_a8b9_0c5415364605row28_col27\" class=\"data row28 col27\" >358</td>\n",
       "                        <td id=\"T_9f2b80d0_4bfe_11ea_a8b9_0c5415364605row28_col28\" class=\"data row28 col28\" >29</td>\n",
       "                        <td id=\"T_9f2b80d0_4bfe_11ea_a8b9_0c5415364605row28_col29\" class=\"data row28 col29\" >2</td>\n",
       "            </tr>\n",
       "            <tr>\n",
       "                        <th id=\"T_9f2b80d0_4bfe_11ea_a8b9_0c5415364605level0_row29\" class=\"row_heading level0 row29\" >da</th>\n",
       "                        <td id=\"T_9f2b80d0_4bfe_11ea_a8b9_0c5415364605row29_col0\" class=\"data row29 col0\" >83</td>\n",
       "                        <td id=\"T_9f2b80d0_4bfe_11ea_a8b9_0c5415364605row29_col1\" class=\"data row29 col1\" >218</td>\n",
       "                        <td id=\"T_9f2b80d0_4bfe_11ea_a8b9_0c5415364605row29_col2\" class=\"data row29 col2\" >270</td>\n",
       "                        <td id=\"T_9f2b80d0_4bfe_11ea_a8b9_0c5415364605row29_col3\" class=\"data row29 col3\" >6</td>\n",
       "                        <td id=\"T_9f2b80d0_4bfe_11ea_a8b9_0c5415364605row29_col4\" class=\"data row29 col4\" >41</td>\n",
       "                        <td id=\"T_9f2b80d0_4bfe_11ea_a8b9_0c5415364605row29_col5\" class=\"data row29 col5\" >34</td>\n",
       "                        <td id=\"T_9f2b80d0_4bfe_11ea_a8b9_0c5415364605row29_col6\" class=\"data row29 col6\" >70</td>\n",
       "                        <td id=\"T_9f2b80d0_4bfe_11ea_a8b9_0c5415364605row29_col7\" class=\"data row29 col7\" >73</td>\n",
       "                        <td id=\"T_9f2b80d0_4bfe_11ea_a8b9_0c5415364605row29_col8\" class=\"data row29 col8\" >64</td>\n",
       "                        <td id=\"T_9f2b80d0_4bfe_11ea_a8b9_0c5415364605row29_col9\" class=\"data row29 col9\" >7</td>\n",
       "                        <td id=\"T_9f2b80d0_4bfe_11ea_a8b9_0c5415364605row29_col10\" class=\"data row29 col10\" >29</td>\n",
       "                        <td id=\"T_9f2b80d0_4bfe_11ea_a8b9_0c5415364605row29_col11\" class=\"data row29 col11\" >104</td>\n",
       "                        <td id=\"T_9f2b80d0_4bfe_11ea_a8b9_0c5415364605row29_col12\" class=\"data row29 col12\" >51</td>\n",
       "                        <td id=\"T_9f2b80d0_4bfe_11ea_a8b9_0c5415364605row29_col13\" class=\"data row29 col13\" >7</td>\n",
       "                        <td id=\"T_9f2b80d0_4bfe_11ea_a8b9_0c5415364605row29_col14\" class=\"data row29 col14\" >23</td>\n",
       "                        <td id=\"T_9f2b80d0_4bfe_11ea_a8b9_0c5415364605row29_col15\" class=\"data row29 col15\" >137</td>\n",
       "                        <td id=\"T_9f2b80d0_4bfe_11ea_a8b9_0c5415364605row29_col16\" class=\"data row29 col16\" >78</td>\n",
       "                        <td id=\"T_9f2b80d0_4bfe_11ea_a8b9_0c5415364605row29_col17\" class=\"data row29 col17\" >153</td>\n",
       "                        <td id=\"T_9f2b80d0_4bfe_11ea_a8b9_0c5415364605row29_col18\" class=\"data row29 col18\" >59</td>\n",
       "                        <td id=\"T_9f2b80d0_4bfe_11ea_a8b9_0c5415364605row29_col19\" class=\"data row29 col19\" >346</td>\n",
       "                        <td id=\"T_9f2b80d0_4bfe_11ea_a8b9_0c5415364605row29_col20\" class=\"data row29 col20\" >28</td>\n",
       "                        <td id=\"T_9f2b80d0_4bfe_11ea_a8b9_0c5415364605row29_col21\" class=\"data row29 col21\" >493</td>\n",
       "                        <td id=\"T_9f2b80d0_4bfe_11ea_a8b9_0c5415364605row29_col22\" class=\"data row29 col22\" >469</td>\n",
       "                        <td id=\"T_9f2b80d0_4bfe_11ea_a8b9_0c5415364605row29_col23\" class=\"data row29 col23\" >766</td>\n",
       "                        <td id=\"T_9f2b80d0_4bfe_11ea_a8b9_0c5415364605row29_col24\" class=\"data row29 col24\" >876</td>\n",
       "                        <td id=\"T_9f2b80d0_4bfe_11ea_a8b9_0c5415364605row29_col25\" class=\"data row29 col25\" >1130</td>\n",
       "                        <td id=\"T_9f2b80d0_4bfe_11ea_a8b9_0c5415364605row29_col26\" class=\"data row29 col26\" >1001</td>\n",
       "                        <td id=\"T_9f2b80d0_4bfe_11ea_a8b9_0c5415364605row29_col27\" class=\"data row29 col27\" >276</td>\n",
       "                        <td id=\"T_9f2b80d0_4bfe_11ea_a8b9_0c5415364605row29_col28\" class=\"data row29 col28\" >28</td>\n",
       "                        <td id=\"T_9f2b80d0_4bfe_11ea_a8b9_0c5415364605row29_col29\" class=\"data row29 col29\" >66</td>\n",
       "            </tr>\n",
       "            <tr>\n",
       "                        <th id=\"T_9f2b80d0_4bfe_11ea_a8b9_0c5415364605level0_row30\" class=\"row_heading level0 row30\" >sin</th>\n",
       "                        <td id=\"T_9f2b80d0_4bfe_11ea_a8b9_0c5415364605row30_col0\" class=\"data row30 col0\" >17</td>\n",
       "                        <td id=\"T_9f2b80d0_4bfe_11ea_a8b9_0c5415364605row30_col1\" class=\"data row30 col1\" >44</td>\n",
       "                        <td id=\"T_9f2b80d0_4bfe_11ea_a8b9_0c5415364605row30_col2\" class=\"data row30 col2\" >92</td>\n",
       "                        <td id=\"T_9f2b80d0_4bfe_11ea_a8b9_0c5415364605row30_col3\" class=\"data row30 col3\" >2</td>\n",
       "                        <td id=\"T_9f2b80d0_4bfe_11ea_a8b9_0c5415364605row30_col4\" class=\"data row30 col4\" >14</td>\n",
       "                        <td id=\"T_9f2b80d0_4bfe_11ea_a8b9_0c5415364605row30_col5\" class=\"data row30 col5\" >16</td>\n",
       "                        <td id=\"T_9f2b80d0_4bfe_11ea_a8b9_0c5415364605row30_col6\" class=\"data row30 col6\" >36</td>\n",
       "                        <td id=\"T_9f2b80d0_4bfe_11ea_a8b9_0c5415364605row30_col7\" class=\"data row30 col7\" >125</td>\n",
       "                        <td id=\"T_9f2b80d0_4bfe_11ea_a8b9_0c5415364605row30_col8\" class=\"data row30 col8\" >36</td>\n",
       "                        <td id=\"T_9f2b80d0_4bfe_11ea_a8b9_0c5415364605row30_col9\" class=\"data row30 col9\" >5</td>\n",
       "                        <td id=\"T_9f2b80d0_4bfe_11ea_a8b9_0c5415364605row30_col10\" class=\"data row30 col10\" >34</td>\n",
       "                        <td id=\"T_9f2b80d0_4bfe_11ea_a8b9_0c5415364605row30_col11\" class=\"data row30 col11\" >97</td>\n",
       "                        <td id=\"T_9f2b80d0_4bfe_11ea_a8b9_0c5415364605row30_col12\" class=\"data row30 col12\" >66</td>\n",
       "                        <td id=\"T_9f2b80d0_4bfe_11ea_a8b9_0c5415364605row30_col13\" class=\"data row30 col13\" >5</td>\n",
       "                        <td id=\"T_9f2b80d0_4bfe_11ea_a8b9_0c5415364605row30_col14\" class=\"data row30 col14\" >26</td>\n",
       "                        <td id=\"T_9f2b80d0_4bfe_11ea_a8b9_0c5415364605row30_col15\" class=\"data row30 col15\" >24</td>\n",
       "                        <td id=\"T_9f2b80d0_4bfe_11ea_a8b9_0c5415364605row30_col16\" class=\"data row30 col16\" >23</td>\n",
       "                        <td id=\"T_9f2b80d0_4bfe_11ea_a8b9_0c5415364605row30_col17\" class=\"data row30 col17\" >35</td>\n",
       "                        <td id=\"T_9f2b80d0_4bfe_11ea_a8b9_0c5415364605row30_col18\" class=\"data row30 col18\" >22</td>\n",
       "                        <td id=\"T_9f2b80d0_4bfe_11ea_a8b9_0c5415364605row30_col19\" class=\"data row30 col19\" >148</td>\n",
       "                        <td id=\"T_9f2b80d0_4bfe_11ea_a8b9_0c5415364605row30_col20\" class=\"data row30 col20\" >13</td>\n",
       "                        <td id=\"T_9f2b80d0_4bfe_11ea_a8b9_0c5415364605row30_col21\" class=\"data row30 col21\" >301</td>\n",
       "                        <td id=\"T_9f2b80d0_4bfe_11ea_a8b9_0c5415364605row30_col22\" class=\"data row30 col22\" >299</td>\n",
       "                        <td id=\"T_9f2b80d0_4bfe_11ea_a8b9_0c5415364605row30_col23\" class=\"data row30 col23\" >458</td>\n",
       "                        <td id=\"T_9f2b80d0_4bfe_11ea_a8b9_0c5415364605row30_col24\" class=\"data row30 col24\" >453</td>\n",
       "                        <td id=\"T_9f2b80d0_4bfe_11ea_a8b9_0c5415364605row30_col25\" class=\"data row30 col25\" >576</td>\n",
       "                        <td id=\"T_9f2b80d0_4bfe_11ea_a8b9_0c5415364605row30_col26\" class=\"data row30 col26\" >553</td>\n",
       "                        <td id=\"T_9f2b80d0_4bfe_11ea_a8b9_0c5415364605row30_col27\" class=\"data row30 col27\" >108</td>\n",
       "                        <td id=\"T_9f2b80d0_4bfe_11ea_a8b9_0c5415364605row30_col28\" class=\"data row30 col28\" >26</td>\n",
       "                        <td id=\"T_9f2b80d0_4bfe_11ea_a8b9_0c5415364605row30_col29\" class=\"data row30 col29\" >17</td>\n",
       "            </tr>\n",
       "            <tr>\n",
       "                        <th id=\"T_9f2b80d0_4bfe_11ea_a8b9_0c5415364605level0_row31\" class=\"row_heading level0 row31\" >om</th>\n",
       "                        <td id=\"T_9f2b80d0_4bfe_11ea_a8b9_0c5415364605row31_col0\" class=\"data row31 col0\" >6</td>\n",
       "                        <td id=\"T_9f2b80d0_4bfe_11ea_a8b9_0c5415364605row31_col1\" class=\"data row31 col1\" >175</td>\n",
       "                        <td id=\"T_9f2b80d0_4bfe_11ea_a8b9_0c5415364605row31_col2\" class=\"data row31 col2\" >319</td>\n",
       "                        <td id=\"T_9f2b80d0_4bfe_11ea_a8b9_0c5415364605row31_col3\" class=\"data row31 col3\" >13</td>\n",
       "                        <td id=\"T_9f2b80d0_4bfe_11ea_a8b9_0c5415364605row31_col4\" class=\"data row31 col4\" >60</td>\n",
       "                        <td id=\"T_9f2b80d0_4bfe_11ea_a8b9_0c5415364605row31_col5\" class=\"data row31 col5\" >57</td>\n",
       "                        <td id=\"T_9f2b80d0_4bfe_11ea_a8b9_0c5415364605row31_col6\" class=\"data row31 col6\" >70</td>\n",
       "                        <td id=\"T_9f2b80d0_4bfe_11ea_a8b9_0c5415364605row31_col7\" class=\"data row31 col7\" >211</td>\n",
       "                        <td id=\"T_9f2b80d0_4bfe_11ea_a8b9_0c5415364605row31_col8\" class=\"data row31 col8\" >46</td>\n",
       "                        <td id=\"T_9f2b80d0_4bfe_11ea_a8b9_0c5415364605row31_col9\" class=\"data row31 col9\" >12</td>\n",
       "                        <td id=\"T_9f2b80d0_4bfe_11ea_a8b9_0c5415364605row31_col10\" class=\"data row31 col10\" >44</td>\n",
       "                        <td id=\"T_9f2b80d0_4bfe_11ea_a8b9_0c5415364605row31_col11\" class=\"data row31 col11\" >195</td>\n",
       "                        <td id=\"T_9f2b80d0_4bfe_11ea_a8b9_0c5415364605row31_col12\" class=\"data row31 col12\" >86</td>\n",
       "                        <td id=\"T_9f2b80d0_4bfe_11ea_a8b9_0c5415364605row31_col13\" class=\"data row31 col13\" >32</td>\n",
       "                        <td id=\"T_9f2b80d0_4bfe_11ea_a8b9_0c5415364605row31_col14\" class=\"data row31 col14\" >51</td>\n",
       "                        <td id=\"T_9f2b80d0_4bfe_11ea_a8b9_0c5415364605row31_col15\" class=\"data row31 col15\" >311</td>\n",
       "                        <td id=\"T_9f2b80d0_4bfe_11ea_a8b9_0c5415364605row31_col16\" class=\"data row31 col16\" >116</td>\n",
       "                        <td id=\"T_9f2b80d0_4bfe_11ea_a8b9_0c5415364605row31_col17\" class=\"data row31 col17\" >223</td>\n",
       "                        <td id=\"T_9f2b80d0_4bfe_11ea_a8b9_0c5415364605row31_col18\" class=\"data row31 col18\" >46</td>\n",
       "                        <td id=\"T_9f2b80d0_4bfe_11ea_a8b9_0c5415364605row31_col19\" class=\"data row31 col19\" >281</td>\n",
       "                        <td id=\"T_9f2b80d0_4bfe_11ea_a8b9_0c5415364605row31_col20\" class=\"data row31 col20\" >20</td>\n",
       "                        <td id=\"T_9f2b80d0_4bfe_11ea_a8b9_0c5415364605row31_col21\" class=\"data row31 col21\" >496</td>\n",
       "                        <td id=\"T_9f2b80d0_4bfe_11ea_a8b9_0c5415364605row31_col22\" class=\"data row31 col22\" >459</td>\n",
       "                        <td id=\"T_9f2b80d0_4bfe_11ea_a8b9_0c5415364605row31_col23\" class=\"data row31 col23\" >568</td>\n",
       "                        <td id=\"T_9f2b80d0_4bfe_11ea_a8b9_0c5415364605row31_col24\" class=\"data row31 col24\" >628</td>\n",
       "                        <td id=\"T_9f2b80d0_4bfe_11ea_a8b9_0c5415364605row31_col25\" class=\"data row31 col25\" >809</td>\n",
       "                        <td id=\"T_9f2b80d0_4bfe_11ea_a8b9_0c5415364605row31_col26\" class=\"data row31 col26\" >637</td>\n",
       "                        <td id=\"T_9f2b80d0_4bfe_11ea_a8b9_0c5415364605row31_col27\" class=\"data row31 col27\" >186</td>\n",
       "                        <td id=\"T_9f2b80d0_4bfe_11ea_a8b9_0c5415364605row31_col28\" class=\"data row31 col28\" >25</td>\n",
       "                        <td id=\"T_9f2b80d0_4bfe_11ea_a8b9_0c5415364605row31_col29\" class=\"data row31 col29\" >44</td>\n",
       "            </tr>\n",
       "            <tr>\n",
       "                        <th id=\"T_9f2b80d0_4bfe_11ea_a8b9_0c5415364605level0_row32\" class=\"row_heading level0 row32\" >kunde</th>\n",
       "                        <td id=\"T_9f2b80d0_4bfe_11ea_a8b9_0c5415364605row32_col0\" class=\"data row32 col0\" >0</td>\n",
       "                        <td id=\"T_9f2b80d0_4bfe_11ea_a8b9_0c5415364605row32_col1\" class=\"data row32 col1\" >94</td>\n",
       "                        <td id=\"T_9f2b80d0_4bfe_11ea_a8b9_0c5415364605row32_col2\" class=\"data row32 col2\" >144</td>\n",
       "                        <td id=\"T_9f2b80d0_4bfe_11ea_a8b9_0c5415364605row32_col3\" class=\"data row32 col3\" >10</td>\n",
       "                        <td id=\"T_9f2b80d0_4bfe_11ea_a8b9_0c5415364605row32_col4\" class=\"data row32 col4\" >36</td>\n",
       "                        <td id=\"T_9f2b80d0_4bfe_11ea_a8b9_0c5415364605row32_col5\" class=\"data row32 col5\" >26</td>\n",
       "                        <td id=\"T_9f2b80d0_4bfe_11ea_a8b9_0c5415364605row32_col6\" class=\"data row32 col6\" >39</td>\n",
       "                        <td id=\"T_9f2b80d0_4bfe_11ea_a8b9_0c5415364605row32_col7\" class=\"data row32 col7\" >0</td>\n",
       "                        <td id=\"T_9f2b80d0_4bfe_11ea_a8b9_0c5415364605row32_col8\" class=\"data row32 col8\" >29</td>\n",
       "                        <td id=\"T_9f2b80d0_4bfe_11ea_a8b9_0c5415364605row32_col9\" class=\"data row32 col9\" >0</td>\n",
       "                        <td id=\"T_9f2b80d0_4bfe_11ea_a8b9_0c5415364605row32_col10\" class=\"data row32 col10\" >35</td>\n",
       "                        <td id=\"T_9f2b80d0_4bfe_11ea_a8b9_0c5415364605row32_col11\" class=\"data row32 col11\" >48</td>\n",
       "                        <td id=\"T_9f2b80d0_4bfe_11ea_a8b9_0c5415364605row32_col12\" class=\"data row32 col12\" >20</td>\n",
       "                        <td id=\"T_9f2b80d0_4bfe_11ea_a8b9_0c5415364605row32_col13\" class=\"data row32 col13\" >3</td>\n",
       "                        <td id=\"T_9f2b80d0_4bfe_11ea_a8b9_0c5415364605row32_col14\" class=\"data row32 col14\" >4</td>\n",
       "                        <td id=\"T_9f2b80d0_4bfe_11ea_a8b9_0c5415364605row32_col15\" class=\"data row32 col15\" >111</td>\n",
       "                        <td id=\"T_9f2b80d0_4bfe_11ea_a8b9_0c5415364605row32_col16\" class=\"data row32 col16\" >27</td>\n",
       "                        <td id=\"T_9f2b80d0_4bfe_11ea_a8b9_0c5415364605row32_col17\" class=\"data row32 col17\" >63</td>\n",
       "                        <td id=\"T_9f2b80d0_4bfe_11ea_a8b9_0c5415364605row32_col18\" class=\"data row32 col18\" >0</td>\n",
       "                        <td id=\"T_9f2b80d0_4bfe_11ea_a8b9_0c5415364605row32_col19\" class=\"data row32 col19\" >213</td>\n",
       "                        <td id=\"T_9f2b80d0_4bfe_11ea_a8b9_0c5415364605row32_col20\" class=\"data row32 col20\" >9</td>\n",
       "                        <td id=\"T_9f2b80d0_4bfe_11ea_a8b9_0c5415364605row32_col21\" class=\"data row32 col21\" >251</td>\n",
       "                        <td id=\"T_9f2b80d0_4bfe_11ea_a8b9_0c5415364605row32_col22\" class=\"data row32 col22\" >235</td>\n",
       "                        <td id=\"T_9f2b80d0_4bfe_11ea_a8b9_0c5415364605row32_col23\" class=\"data row32 col23\" >376</td>\n",
       "                        <td id=\"T_9f2b80d0_4bfe_11ea_a8b9_0c5415364605row32_col24\" class=\"data row32 col24\" >359</td>\n",
       "                        <td id=\"T_9f2b80d0_4bfe_11ea_a8b9_0c5415364605row32_col25\" class=\"data row32 col25\" >453</td>\n",
       "                        <td id=\"T_9f2b80d0_4bfe_11ea_a8b9_0c5415364605row32_col26\" class=\"data row32 col26\" >414</td>\n",
       "                        <td id=\"T_9f2b80d0_4bfe_11ea_a8b9_0c5415364605row32_col27\" class=\"data row32 col27\" >133</td>\n",
       "                        <td id=\"T_9f2b80d0_4bfe_11ea_a8b9_0c5415364605row32_col28\" class=\"data row32 col28\" >23</td>\n",
       "                        <td id=\"T_9f2b80d0_4bfe_11ea_a8b9_0c5415364605row32_col29\" class=\"data row32 col29\" >21</td>\n",
       "            </tr>\n",
       "            <tr>\n",
       "                        <th id=\"T_9f2b80d0_4bfe_11ea_a8b9_0c5415364605level0_row33\" class=\"row_heading level0 row33\" >men</th>\n",
       "                        <td id=\"T_9f2b80d0_4bfe_11ea_a8b9_0c5415364605row33_col0\" class=\"data row33 col0\" >43</td>\n",
       "                        <td id=\"T_9f2b80d0_4bfe_11ea_a8b9_0c5415364605row33_col1\" class=\"data row33 col1\" >211</td>\n",
       "                        <td id=\"T_9f2b80d0_4bfe_11ea_a8b9_0c5415364605row33_col2\" class=\"data row33 col2\" >288</td>\n",
       "                        <td id=\"T_9f2b80d0_4bfe_11ea_a8b9_0c5415364605row33_col3\" class=\"data row33 col3\" >8</td>\n",
       "                        <td id=\"T_9f2b80d0_4bfe_11ea_a8b9_0c5415364605row33_col4\" class=\"data row33 col4\" >35</td>\n",
       "                        <td id=\"T_9f2b80d0_4bfe_11ea_a8b9_0c5415364605row33_col5\" class=\"data row33 col5\" >39</td>\n",
       "                        <td id=\"T_9f2b80d0_4bfe_11ea_a8b9_0c5415364605row33_col6\" class=\"data row33 col6\" >105</td>\n",
       "                        <td id=\"T_9f2b80d0_4bfe_11ea_a8b9_0c5415364605row33_col7\" class=\"data row33 col7\" >109</td>\n",
       "                        <td id=\"T_9f2b80d0_4bfe_11ea_a8b9_0c5415364605row33_col8\" class=\"data row33 col8\" >42</td>\n",
       "                        <td id=\"T_9f2b80d0_4bfe_11ea_a8b9_0c5415364605row33_col9\" class=\"data row33 col9\" >6</td>\n",
       "                        <td id=\"T_9f2b80d0_4bfe_11ea_a8b9_0c5415364605row33_col10\" class=\"data row33 col10\" >63</td>\n",
       "                        <td id=\"T_9f2b80d0_4bfe_11ea_a8b9_0c5415364605row33_col11\" class=\"data row33 col11\" >325</td>\n",
       "                        <td id=\"T_9f2b80d0_4bfe_11ea_a8b9_0c5415364605row33_col12\" class=\"data row33 col12\" >122</td>\n",
       "                        <td id=\"T_9f2b80d0_4bfe_11ea_a8b9_0c5415364605row33_col13\" class=\"data row33 col13\" >23</td>\n",
       "                        <td id=\"T_9f2b80d0_4bfe_11ea_a8b9_0c5415364605row33_col14\" class=\"data row33 col14\" >52</td>\n",
       "                        <td id=\"T_9f2b80d0_4bfe_11ea_a8b9_0c5415364605row33_col15\" class=\"data row33 col15\" >255</td>\n",
       "                        <td id=\"T_9f2b80d0_4bfe_11ea_a8b9_0c5415364605row33_col16\" class=\"data row33 col16\" >175</td>\n",
       "                        <td id=\"T_9f2b80d0_4bfe_11ea_a8b9_0c5415364605row33_col17\" class=\"data row33 col17\" >293</td>\n",
       "                        <td id=\"T_9f2b80d0_4bfe_11ea_a8b9_0c5415364605row33_col18\" class=\"data row33 col18\" >54</td>\n",
       "                        <td id=\"T_9f2b80d0_4bfe_11ea_a8b9_0c5415364605row33_col19\" class=\"data row33 col19\" >264</td>\n",
       "                        <td id=\"T_9f2b80d0_4bfe_11ea_a8b9_0c5415364605row33_col20\" class=\"data row33 col20\" >22</td>\n",
       "                        <td id=\"T_9f2b80d0_4bfe_11ea_a8b9_0c5415364605row33_col21\" class=\"data row33 col21\" >427</td>\n",
       "                        <td id=\"T_9f2b80d0_4bfe_11ea_a8b9_0c5415364605row33_col22\" class=\"data row33 col22\" >418</td>\n",
       "                        <td id=\"T_9f2b80d0_4bfe_11ea_a8b9_0c5415364605row33_col23\" class=\"data row33 col23\" >552</td>\n",
       "                        <td id=\"T_9f2b80d0_4bfe_11ea_a8b9_0c5415364605row33_col24\" class=\"data row33 col24\" >661</td>\n",
       "                        <td id=\"T_9f2b80d0_4bfe_11ea_a8b9_0c5415364605row33_col25\" class=\"data row33 col25\" >880</td>\n",
       "                        <td id=\"T_9f2b80d0_4bfe_11ea_a8b9_0c5415364605row33_col26\" class=\"data row33 col26\" >844</td>\n",
       "                        <td id=\"T_9f2b80d0_4bfe_11ea_a8b9_0c5415364605row33_col27\" class=\"data row33 col27\" >178</td>\n",
       "                        <td id=\"T_9f2b80d0_4bfe_11ea_a8b9_0c5415364605row33_col28\" class=\"data row33 col28\" >23</td>\n",
       "                        <td id=\"T_9f2b80d0_4bfe_11ea_a8b9_0c5415364605row33_col29\" class=\"data row33 col29\" >32</td>\n",
       "            </tr>\n",
       "            <tr>\n",
       "                        <th id=\"T_9f2b80d0_4bfe_11ea_a8b9_0c5415364605level0_row34\" class=\"row_heading level0 row34\" >et</th>\n",
       "                        <td id=\"T_9f2b80d0_4bfe_11ea_a8b9_0c5415364605row34_col0\" class=\"data row34 col0\" >25</td>\n",
       "                        <td id=\"T_9f2b80d0_4bfe_11ea_a8b9_0c5415364605row34_col1\" class=\"data row34 col1\" >201</td>\n",
       "                        <td id=\"T_9f2b80d0_4bfe_11ea_a8b9_0c5415364605row34_col2\" class=\"data row34 col2\" >440</td>\n",
       "                        <td id=\"T_9f2b80d0_4bfe_11ea_a8b9_0c5415364605row34_col3\" class=\"data row34 col3\" >20</td>\n",
       "                        <td id=\"T_9f2b80d0_4bfe_11ea_a8b9_0c5415364605row34_col4\" class=\"data row34 col4\" >85</td>\n",
       "                        <td id=\"T_9f2b80d0_4bfe_11ea_a8b9_0c5415364605row34_col5\" class=\"data row34 col5\" >89</td>\n",
       "                        <td id=\"T_9f2b80d0_4bfe_11ea_a8b9_0c5415364605row34_col6\" class=\"data row34 col6\" >117</td>\n",
       "                        <td id=\"T_9f2b80d0_4bfe_11ea_a8b9_0c5415364605row34_col7\" class=\"data row34 col7\" >1363</td>\n",
       "                        <td id=\"T_9f2b80d0_4bfe_11ea_a8b9_0c5415364605row34_col8\" class=\"data row34 col8\" >40</td>\n",
       "                        <td id=\"T_9f2b80d0_4bfe_11ea_a8b9_0c5415364605row34_col9\" class=\"data row34 col9\" >11</td>\n",
       "                        <td id=\"T_9f2b80d0_4bfe_11ea_a8b9_0c5415364605row34_col10\" class=\"data row34 col10\" >101</td>\n",
       "                        <td id=\"T_9f2b80d0_4bfe_11ea_a8b9_0c5415364605row34_col11\" class=\"data row34 col11\" >239</td>\n",
       "                        <td id=\"T_9f2b80d0_4bfe_11ea_a8b9_0c5415364605row34_col12\" class=\"data row34 col12\" >130</td>\n",
       "                        <td id=\"T_9f2b80d0_4bfe_11ea_a8b9_0c5415364605row34_col13\" class=\"data row34 col13\" >30</td>\n",
       "                        <td id=\"T_9f2b80d0_4bfe_11ea_a8b9_0c5415364605row34_col14\" class=\"data row34 col14\" >67</td>\n",
       "                        <td id=\"T_9f2b80d0_4bfe_11ea_a8b9_0c5415364605row34_col15\" class=\"data row34 col15\" >203</td>\n",
       "                        <td id=\"T_9f2b80d0_4bfe_11ea_a8b9_0c5415364605row34_col16\" class=\"data row34 col16\" >81</td>\n",
       "                        <td id=\"T_9f2b80d0_4bfe_11ea_a8b9_0c5415364605row34_col17\" class=\"data row34 col17\" >161</td>\n",
       "                        <td id=\"T_9f2b80d0_4bfe_11ea_a8b9_0c5415364605row34_col18\" class=\"data row34 col18\" >34</td>\n",
       "                        <td id=\"T_9f2b80d0_4bfe_11ea_a8b9_0c5415364605row34_col19\" class=\"data row34 col19\" >274</td>\n",
       "                        <td id=\"T_9f2b80d0_4bfe_11ea_a8b9_0c5415364605row34_col20\" class=\"data row34 col20\" >15</td>\n",
       "                        <td id=\"T_9f2b80d0_4bfe_11ea_a8b9_0c5415364605row34_col21\" class=\"data row34 col21\" >523</td>\n",
       "                        <td id=\"T_9f2b80d0_4bfe_11ea_a8b9_0c5415364605row34_col22\" class=\"data row34 col22\" >460</td>\n",
       "                        <td id=\"T_9f2b80d0_4bfe_11ea_a8b9_0c5415364605row34_col23\" class=\"data row34 col23\" >733</td>\n",
       "                        <td id=\"T_9f2b80d0_4bfe_11ea_a8b9_0c5415364605row34_col24\" class=\"data row34 col24\" >729</td>\n",
       "                        <td id=\"T_9f2b80d0_4bfe_11ea_a8b9_0c5415364605row34_col25\" class=\"data row34 col25\" >902</td>\n",
       "                        <td id=\"T_9f2b80d0_4bfe_11ea_a8b9_0c5415364605row34_col26\" class=\"data row34 col26\" >804</td>\n",
       "                        <td id=\"T_9f2b80d0_4bfe_11ea_a8b9_0c5415364605row34_col27\" class=\"data row34 col27\" >194</td>\n",
       "                        <td id=\"T_9f2b80d0_4bfe_11ea_a8b9_0c5415364605row34_col28\" class=\"data row34 col28\" >23</td>\n",
       "                        <td id=\"T_9f2b80d0_4bfe_11ea_a8b9_0c5415364605row34_col29\" class=\"data row34 col29\" >24</td>\n",
       "            </tr>\n",
       "            <tr>\n",
       "                        <th id=\"T_9f2b80d0_4bfe_11ea_a8b9_0c5415364605level0_row35\" class=\"row_heading level0 row35\" >mit</th>\n",
       "                        <td id=\"T_9f2b80d0_4bfe_11ea_a8b9_0c5415364605row35_col0\" class=\"data row35 col0\" >1</td>\n",
       "                        <td id=\"T_9f2b80d0_4bfe_11ea_a8b9_0c5415364605row35_col1\" class=\"data row35 col1\" >49</td>\n",
       "                        <td id=\"T_9f2b80d0_4bfe_11ea_a8b9_0c5415364605row35_col2\" class=\"data row35 col2\" >84</td>\n",
       "                        <td id=\"T_9f2b80d0_4bfe_11ea_a8b9_0c5415364605row35_col3\" class=\"data row35 col3\" >4</td>\n",
       "                        <td id=\"T_9f2b80d0_4bfe_11ea_a8b9_0c5415364605row35_col4\" class=\"data row35 col4\" >20</td>\n",
       "                        <td id=\"T_9f2b80d0_4bfe_11ea_a8b9_0c5415364605row35_col5\" class=\"data row35 col5\" >29</td>\n",
       "                        <td id=\"T_9f2b80d0_4bfe_11ea_a8b9_0c5415364605row35_col6\" class=\"data row35 col6\" >14</td>\n",
       "                        <td id=\"T_9f2b80d0_4bfe_11ea_a8b9_0c5415364605row35_col7\" class=\"data row35 col7\" >10</td>\n",
       "                        <td id=\"T_9f2b80d0_4bfe_11ea_a8b9_0c5415364605row35_col8\" class=\"data row35 col8\" >0</td>\n",
       "                        <td id=\"T_9f2b80d0_4bfe_11ea_a8b9_0c5415364605row35_col9\" class=\"data row35 col9\" >0</td>\n",
       "                        <td id=\"T_9f2b80d0_4bfe_11ea_a8b9_0c5415364605row35_col10\" class=\"data row35 col10\" >8</td>\n",
       "                        <td id=\"T_9f2b80d0_4bfe_11ea_a8b9_0c5415364605row35_col11\" class=\"data row35 col11\" >12</td>\n",
       "                        <td id=\"T_9f2b80d0_4bfe_11ea_a8b9_0c5415364605row35_col12\" class=\"data row35 col12\" >8</td>\n",
       "                        <td id=\"T_9f2b80d0_4bfe_11ea_a8b9_0c5415364605row35_col13\" class=\"data row35 col13\" >1</td>\n",
       "                        <td id=\"T_9f2b80d0_4bfe_11ea_a8b9_0c5415364605row35_col14\" class=\"data row35 col14\" >3</td>\n",
       "                        <td id=\"T_9f2b80d0_4bfe_11ea_a8b9_0c5415364605row35_col15\" class=\"data row35 col15\" >37</td>\n",
       "                        <td id=\"T_9f2b80d0_4bfe_11ea_a8b9_0c5415364605row35_col16\" class=\"data row35 col16\" >20</td>\n",
       "                        <td id=\"T_9f2b80d0_4bfe_11ea_a8b9_0c5415364605row35_col17\" class=\"data row35 col17\" >50</td>\n",
       "                        <td id=\"T_9f2b80d0_4bfe_11ea_a8b9_0c5415364605row35_col18\" class=\"data row35 col18\" >22</td>\n",
       "                        <td id=\"T_9f2b80d0_4bfe_11ea_a8b9_0c5415364605row35_col19\" class=\"data row35 col19\" >139</td>\n",
       "                        <td id=\"T_9f2b80d0_4bfe_11ea_a8b9_0c5415364605row35_col20\" class=\"data row35 col20\" >7</td>\n",
       "                        <td id=\"T_9f2b80d0_4bfe_11ea_a8b9_0c5415364605row35_col21\" class=\"data row35 col21\" >204</td>\n",
       "                        <td id=\"T_9f2b80d0_4bfe_11ea_a8b9_0c5415364605row35_col22\" class=\"data row35 col22\" >239</td>\n",
       "                        <td id=\"T_9f2b80d0_4bfe_11ea_a8b9_0c5415364605row35_col23\" class=\"data row35 col23\" >302</td>\n",
       "                        <td id=\"T_9f2b80d0_4bfe_11ea_a8b9_0c5415364605row35_col24\" class=\"data row35 col24\" >300</td>\n",
       "                        <td id=\"T_9f2b80d0_4bfe_11ea_a8b9_0c5415364605row35_col25\" class=\"data row35 col25\" >330</td>\n",
       "                        <td id=\"T_9f2b80d0_4bfe_11ea_a8b9_0c5415364605row35_col26\" class=\"data row35 col26\" >297</td>\n",
       "                        <td id=\"T_9f2b80d0_4bfe_11ea_a8b9_0c5415364605row35_col27\" class=\"data row35 col27\" >101</td>\n",
       "                        <td id=\"T_9f2b80d0_4bfe_11ea_a8b9_0c5415364605row35_col28\" class=\"data row35 col28\" >22</td>\n",
       "                        <td id=\"T_9f2b80d0_4bfe_11ea_a8b9_0c5415364605row35_col29\" class=\"data row35 col29\" >7</td>\n",
       "            </tr>\n",
       "            <tr>\n",
       "                        <th id=\"T_9f2b80d0_4bfe_11ea_a8b9_0c5415364605level0_row36\" class=\"row_heading level0 row36\" >de</th>\n",
       "                        <td id=\"T_9f2b80d0_4bfe_11ea_a8b9_0c5415364605row36_col0\" class=\"data row36 col0\" >250</td>\n",
       "                        <td id=\"T_9f2b80d0_4bfe_11ea_a8b9_0c5415364605row36_col1\" class=\"data row36 col1\" >213</td>\n",
       "                        <td id=\"T_9f2b80d0_4bfe_11ea_a8b9_0c5415364605row36_col2\" class=\"data row36 col2\" >432</td>\n",
       "                        <td id=\"T_9f2b80d0_4bfe_11ea_a8b9_0c5415364605row36_col3\" class=\"data row36 col3\" >11</td>\n",
       "                        <td id=\"T_9f2b80d0_4bfe_11ea_a8b9_0c5415364605row36_col4\" class=\"data row36 col4\" >67</td>\n",
       "                        <td id=\"T_9f2b80d0_4bfe_11ea_a8b9_0c5415364605row36_col5\" class=\"data row36 col5\" >68</td>\n",
       "                        <td id=\"T_9f2b80d0_4bfe_11ea_a8b9_0c5415364605row36_col6\" class=\"data row36 col6\" >75</td>\n",
       "                        <td id=\"T_9f2b80d0_4bfe_11ea_a8b9_0c5415364605row36_col7\" class=\"data row36 col7\" >2078</td>\n",
       "                        <td id=\"T_9f2b80d0_4bfe_11ea_a8b9_0c5415364605row36_col8\" class=\"data row36 col8\" >156</td>\n",
       "                        <td id=\"T_9f2b80d0_4bfe_11ea_a8b9_0c5415364605row36_col9\" class=\"data row36 col9\" >9</td>\n",
       "                        <td id=\"T_9f2b80d0_4bfe_11ea_a8b9_0c5415364605row36_col10\" class=\"data row36 col10\" >96</td>\n",
       "                        <td id=\"T_9f2b80d0_4bfe_11ea_a8b9_0c5415364605row36_col11\" class=\"data row36 col11\" >248</td>\n",
       "                        <td id=\"T_9f2b80d0_4bfe_11ea_a8b9_0c5415364605row36_col12\" class=\"data row36 col12\" >158</td>\n",
       "                        <td id=\"T_9f2b80d0_4bfe_11ea_a8b9_0c5415364605row36_col13\" class=\"data row36 col13\" >22</td>\n",
       "                        <td id=\"T_9f2b80d0_4bfe_11ea_a8b9_0c5415364605row36_col14\" class=\"data row36 col14\" >97</td>\n",
       "                        <td id=\"T_9f2b80d0_4bfe_11ea_a8b9_0c5415364605row36_col15\" class=\"data row36 col15\" >175</td>\n",
       "                        <td id=\"T_9f2b80d0_4bfe_11ea_a8b9_0c5415364605row36_col16\" class=\"data row36 col16\" >115</td>\n",
       "                        <td id=\"T_9f2b80d0_4bfe_11ea_a8b9_0c5415364605row36_col17\" class=\"data row36 col17\" >372</td>\n",
       "                        <td id=\"T_9f2b80d0_4bfe_11ea_a8b9_0c5415364605row36_col18\" class=\"data row36 col18\" >76</td>\n",
       "                        <td id=\"T_9f2b80d0_4bfe_11ea_a8b9_0c5415364605row36_col19\" class=\"data row36 col19\" >376</td>\n",
       "                        <td id=\"T_9f2b80d0_4bfe_11ea_a8b9_0c5415364605row36_col20\" class=\"data row36 col20\" >49</td>\n",
       "                        <td id=\"T_9f2b80d0_4bfe_11ea_a8b9_0c5415364605row36_col21\" class=\"data row36 col21\" >1049</td>\n",
       "                        <td id=\"T_9f2b80d0_4bfe_11ea_a8b9_0c5415364605row36_col22\" class=\"data row36 col22\" >1109</td>\n",
       "                        <td id=\"T_9f2b80d0_4bfe_11ea_a8b9_0c5415364605row36_col23\" class=\"data row36 col23\" >1401</td>\n",
       "                        <td id=\"T_9f2b80d0_4bfe_11ea_a8b9_0c5415364605row36_col24\" class=\"data row36 col24\" >1315</td>\n",
       "                        <td id=\"T_9f2b80d0_4bfe_11ea_a8b9_0c5415364605row36_col25\" class=\"data row36 col25\" >1489</td>\n",
       "                        <td id=\"T_9f2b80d0_4bfe_11ea_a8b9_0c5415364605row36_col26\" class=\"data row36 col26\" >1439</td>\n",
       "                        <td id=\"T_9f2b80d0_4bfe_11ea_a8b9_0c5415364605row36_col27\" class=\"data row36 col27\" >480</td>\n",
       "                        <td id=\"T_9f2b80d0_4bfe_11ea_a8b9_0c5415364605row36_col28\" class=\"data row36 col28\" >21</td>\n",
       "                        <td id=\"T_9f2b80d0_4bfe_11ea_a8b9_0c5415364605row36_col29\" class=\"data row36 col29\" >87</td>\n",
       "            </tr>\n",
       "            <tr>\n",
       "                        <th id=\"T_9f2b80d0_4bfe_11ea_a8b9_0c5415364605level0_row37\" class=\"row_heading level0 row37\" >af</th>\n",
       "                        <td id=\"T_9f2b80d0_4bfe_11ea_a8b9_0c5415364605row37_col0\" class=\"data row37 col0\" >0</td>\n",
       "                        <td id=\"T_9f2b80d0_4bfe_11ea_a8b9_0c5415364605row37_col1\" class=\"data row37 col1\" >280</td>\n",
       "                        <td id=\"T_9f2b80d0_4bfe_11ea_a8b9_0c5415364605row37_col2\" class=\"data row37 col2\" >599</td>\n",
       "                        <td id=\"T_9f2b80d0_4bfe_11ea_a8b9_0c5415364605row37_col3\" class=\"data row37 col3\" >26</td>\n",
       "                        <td id=\"T_9f2b80d0_4bfe_11ea_a8b9_0c5415364605row37_col4\" class=\"data row37 col4\" >110</td>\n",
       "                        <td id=\"T_9f2b80d0_4bfe_11ea_a8b9_0c5415364605row37_col5\" class=\"data row37 col5\" >105</td>\n",
       "                        <td id=\"T_9f2b80d0_4bfe_11ea_a8b9_0c5415364605row37_col6\" class=\"data row37 col6\" >205</td>\n",
       "                        <td id=\"T_9f2b80d0_4bfe_11ea_a8b9_0c5415364605row37_col7\" class=\"data row37 col7\" >0</td>\n",
       "                        <td id=\"T_9f2b80d0_4bfe_11ea_a8b9_0c5415364605row37_col8\" class=\"data row37 col8\" >226</td>\n",
       "                        <td id=\"T_9f2b80d0_4bfe_11ea_a8b9_0c5415364605row37_col9\" class=\"data row37 col9\" >67</td>\n",
       "                        <td id=\"T_9f2b80d0_4bfe_11ea_a8b9_0c5415364605row37_col10\" class=\"data row37 col10\" >149</td>\n",
       "                        <td id=\"T_9f2b80d0_4bfe_11ea_a8b9_0c5415364605row37_col11\" class=\"data row37 col11\" >812</td>\n",
       "                        <td id=\"T_9f2b80d0_4bfe_11ea_a8b9_0c5415364605row37_col12\" class=\"data row37 col12\" >436</td>\n",
       "                        <td id=\"T_9f2b80d0_4bfe_11ea_a8b9_0c5415364605row37_col13\" class=\"data row37 col13\" >181</td>\n",
       "                        <td id=\"T_9f2b80d0_4bfe_11ea_a8b9_0c5415364605row37_col14\" class=\"data row37 col14\" >191</td>\n",
       "                        <td id=\"T_9f2b80d0_4bfe_11ea_a8b9_0c5415364605row37_col15\" class=\"data row37 col15\" >321</td>\n",
       "                        <td id=\"T_9f2b80d0_4bfe_11ea_a8b9_0c5415364605row37_col16\" class=\"data row37 col16\" >88</td>\n",
       "                        <td id=\"T_9f2b80d0_4bfe_11ea_a8b9_0c5415364605row37_col17\" class=\"data row37 col17\" >228</td>\n",
       "                        <td id=\"T_9f2b80d0_4bfe_11ea_a8b9_0c5415364605row37_col18\" class=\"data row37 col18\" >70</td>\n",
       "                        <td id=\"T_9f2b80d0_4bfe_11ea_a8b9_0c5415364605row37_col19\" class=\"data row37 col19\" >400</td>\n",
       "                        <td id=\"T_9f2b80d0_4bfe_11ea_a8b9_0c5415364605row37_col20\" class=\"data row37 col20\" >34</td>\n",
       "                        <td id=\"T_9f2b80d0_4bfe_11ea_a8b9_0c5415364605row37_col21\" class=\"data row37 col21\" >639</td>\n",
       "                        <td id=\"T_9f2b80d0_4bfe_11ea_a8b9_0c5415364605row37_col22\" class=\"data row37 col22\" >584</td>\n",
       "                        <td id=\"T_9f2b80d0_4bfe_11ea_a8b9_0c5415364605row37_col23\" class=\"data row37 col23\" >802</td>\n",
       "                        <td id=\"T_9f2b80d0_4bfe_11ea_a8b9_0c5415364605row37_col24\" class=\"data row37 col24\" >828</td>\n",
       "                        <td id=\"T_9f2b80d0_4bfe_11ea_a8b9_0c5415364605row37_col25\" class=\"data row37 col25\" >980</td>\n",
       "                        <td id=\"T_9f2b80d0_4bfe_11ea_a8b9_0c5415364605row37_col26\" class=\"data row37 col26\" >862</td>\n",
       "                        <td id=\"T_9f2b80d0_4bfe_11ea_a8b9_0c5415364605row37_col27\" class=\"data row37 col27\" >237</td>\n",
       "                        <td id=\"T_9f2b80d0_4bfe_11ea_a8b9_0c5415364605row37_col28\" class=\"data row37 col28\" >19</td>\n",
       "                        <td id=\"T_9f2b80d0_4bfe_11ea_a8b9_0c5415364605row37_col29\" class=\"data row37 col29\" >46</td>\n",
       "            </tr>\n",
       "            <tr>\n",
       "                        <th id=\"T_9f2b80d0_4bfe_11ea_a8b9_0c5415364605level0_row38\" class=\"row_heading level0 row38\" >kan</th>\n",
       "                        <td id=\"T_9f2b80d0_4bfe_11ea_a8b9_0c5415364605row38_col0\" class=\"data row38 col0\" >19</td>\n",
       "                        <td id=\"T_9f2b80d0_4bfe_11ea_a8b9_0c5415364605row38_col1\" class=\"data row38 col1\" >151</td>\n",
       "                        <td id=\"T_9f2b80d0_4bfe_11ea_a8b9_0c5415364605row38_col2\" class=\"data row38 col2\" >305</td>\n",
       "                        <td id=\"T_9f2b80d0_4bfe_11ea_a8b9_0c5415364605row38_col3\" class=\"data row38 col3\" >11</td>\n",
       "                        <td id=\"T_9f2b80d0_4bfe_11ea_a8b9_0c5415364605row38_col4\" class=\"data row38 col4\" >38</td>\n",
       "                        <td id=\"T_9f2b80d0_4bfe_11ea_a8b9_0c5415364605row38_col5\" class=\"data row38 col5\" >48</td>\n",
       "                        <td id=\"T_9f2b80d0_4bfe_11ea_a8b9_0c5415364605row38_col6\" class=\"data row38 col6\" >29</td>\n",
       "                        <td id=\"T_9f2b80d0_4bfe_11ea_a8b9_0c5415364605row38_col7\" class=\"data row38 col7\" >30</td>\n",
       "                        <td id=\"T_9f2b80d0_4bfe_11ea_a8b9_0c5415364605row38_col8\" class=\"data row38 col8\" >28</td>\n",
       "                        <td id=\"T_9f2b80d0_4bfe_11ea_a8b9_0c5415364605row38_col9\" class=\"data row38 col9\" >1</td>\n",
       "                        <td id=\"T_9f2b80d0_4bfe_11ea_a8b9_0c5415364605row38_col10\" class=\"data row38 col10\" >40</td>\n",
       "                        <td id=\"T_9f2b80d0_4bfe_11ea_a8b9_0c5415364605row38_col11\" class=\"data row38 col11\" >78</td>\n",
       "                        <td id=\"T_9f2b80d0_4bfe_11ea_a8b9_0c5415364605row38_col12\" class=\"data row38 col12\" >17</td>\n",
       "                        <td id=\"T_9f2b80d0_4bfe_11ea_a8b9_0c5415364605row38_col13\" class=\"data row38 col13\" >1</td>\n",
       "                        <td id=\"T_9f2b80d0_4bfe_11ea_a8b9_0c5415364605row38_col14\" class=\"data row38 col14\" >8</td>\n",
       "                        <td id=\"T_9f2b80d0_4bfe_11ea_a8b9_0c5415364605row38_col15\" class=\"data row38 col15\" >188</td>\n",
       "                        <td id=\"T_9f2b80d0_4bfe_11ea_a8b9_0c5415364605row38_col16\" class=\"data row38 col16\" >69</td>\n",
       "                        <td id=\"T_9f2b80d0_4bfe_11ea_a8b9_0c5415364605row38_col17\" class=\"data row38 col17\" >124</td>\n",
       "                        <td id=\"T_9f2b80d0_4bfe_11ea_a8b9_0c5415364605row38_col18\" class=\"data row38 col18\" >12</td>\n",
       "                        <td id=\"T_9f2b80d0_4bfe_11ea_a8b9_0c5415364605row38_col19\" class=\"data row38 col19\" >164</td>\n",
       "                        <td id=\"T_9f2b80d0_4bfe_11ea_a8b9_0c5415364605row38_col20\" class=\"data row38 col20\" >10</td>\n",
       "                        <td id=\"T_9f2b80d0_4bfe_11ea_a8b9_0c5415364605row38_col21\" class=\"data row38 col21\" >316</td>\n",
       "                        <td id=\"T_9f2b80d0_4bfe_11ea_a8b9_0c5415364605row38_col22\" class=\"data row38 col22\" >307</td>\n",
       "                        <td id=\"T_9f2b80d0_4bfe_11ea_a8b9_0c5415364605row38_col23\" class=\"data row38 col23\" >436</td>\n",
       "                        <td id=\"T_9f2b80d0_4bfe_11ea_a8b9_0c5415364605row38_col24\" class=\"data row38 col24\" >379</td>\n",
       "                        <td id=\"T_9f2b80d0_4bfe_11ea_a8b9_0c5415364605row38_col25\" class=\"data row38 col25\" >474</td>\n",
       "                        <td id=\"T_9f2b80d0_4bfe_11ea_a8b9_0c5415364605row38_col26\" class=\"data row38 col26\" >396</td>\n",
       "                        <td id=\"T_9f2b80d0_4bfe_11ea_a8b9_0c5415364605row38_col27\" class=\"data row38 col27\" >172</td>\n",
       "                        <td id=\"T_9f2b80d0_4bfe_11ea_a8b9_0c5415364605row38_col28\" class=\"data row38 col28\" >19</td>\n",
       "                        <td id=\"T_9f2b80d0_4bfe_11ea_a8b9_0c5415364605row38_col29\" class=\"data row38 col29\" >18</td>\n",
       "            </tr>\n",
       "            <tr>\n",
       "                        <th id=\"T_9f2b80d0_4bfe_11ea_a8b9_0c5415364605level0_row39\" class=\"row_heading level0 row39\" >nu</th>\n",
       "                        <td id=\"T_9f2b80d0_4bfe_11ea_a8b9_0c5415364605row39_col0\" class=\"data row39 col0\" >164</td>\n",
       "                        <td id=\"T_9f2b80d0_4bfe_11ea_a8b9_0c5415364605row39_col1\" class=\"data row39 col1\" >109</td>\n",
       "                        <td id=\"T_9f2b80d0_4bfe_11ea_a8b9_0c5415364605row39_col2\" class=\"data row39 col2\" >175</td>\n",
       "                        <td id=\"T_9f2b80d0_4bfe_11ea_a8b9_0c5415364605row39_col3\" class=\"data row39 col3\" >4</td>\n",
       "                        <td id=\"T_9f2b80d0_4bfe_11ea_a8b9_0c5415364605row39_col4\" class=\"data row39 col4\" >31</td>\n",
       "                        <td id=\"T_9f2b80d0_4bfe_11ea_a8b9_0c5415364605row39_col5\" class=\"data row39 col5\" >26</td>\n",
       "                        <td id=\"T_9f2b80d0_4bfe_11ea_a8b9_0c5415364605row39_col6\" class=\"data row39 col6\" >37</td>\n",
       "                        <td id=\"T_9f2b80d0_4bfe_11ea_a8b9_0c5415364605row39_col7\" class=\"data row39 col7\" >0</td>\n",
       "                        <td id=\"T_9f2b80d0_4bfe_11ea_a8b9_0c5415364605row39_col8\" class=\"data row39 col8\" >8</td>\n",
       "                        <td id=\"T_9f2b80d0_4bfe_11ea_a8b9_0c5415364605row39_col9\" class=\"data row39 col9\" >2</td>\n",
       "                        <td id=\"T_9f2b80d0_4bfe_11ea_a8b9_0c5415364605row39_col10\" class=\"data row39 col10\" >33</td>\n",
       "                        <td id=\"T_9f2b80d0_4bfe_11ea_a8b9_0c5415364605row39_col11\" class=\"data row39 col11\" >91</td>\n",
       "                        <td id=\"T_9f2b80d0_4bfe_11ea_a8b9_0c5415364605row39_col12\" class=\"data row39 col12\" >55</td>\n",
       "                        <td id=\"T_9f2b80d0_4bfe_11ea_a8b9_0c5415364605row39_col13\" class=\"data row39 col13\" >12</td>\n",
       "                        <td id=\"T_9f2b80d0_4bfe_11ea_a8b9_0c5415364605row39_col14\" class=\"data row39 col14\" >65</td>\n",
       "                        <td id=\"T_9f2b80d0_4bfe_11ea_a8b9_0c5415364605row39_col15\" class=\"data row39 col15\" >194</td>\n",
       "                        <td id=\"T_9f2b80d0_4bfe_11ea_a8b9_0c5415364605row39_col16\" class=\"data row39 col16\" >92</td>\n",
       "                        <td id=\"T_9f2b80d0_4bfe_11ea_a8b9_0c5415364605row39_col17\" class=\"data row39 col17\" >145</td>\n",
       "                        <td id=\"T_9f2b80d0_4bfe_11ea_a8b9_0c5415364605row39_col18\" class=\"data row39 col18\" >15</td>\n",
       "                        <td id=\"T_9f2b80d0_4bfe_11ea_a8b9_0c5415364605row39_col19\" class=\"data row39 col19\" >222</td>\n",
       "                        <td id=\"T_9f2b80d0_4bfe_11ea_a8b9_0c5415364605row39_col20\" class=\"data row39 col20\" >18</td>\n",
       "                        <td id=\"T_9f2b80d0_4bfe_11ea_a8b9_0c5415364605row39_col21\" class=\"data row39 col21\" >627</td>\n",
       "                        <td id=\"T_9f2b80d0_4bfe_11ea_a8b9_0c5415364605row39_col22\" class=\"data row39 col22\" >573</td>\n",
       "                        <td id=\"T_9f2b80d0_4bfe_11ea_a8b9_0c5415364605row39_col23\" class=\"data row39 col23\" >658</td>\n",
       "                        <td id=\"T_9f2b80d0_4bfe_11ea_a8b9_0c5415364605row39_col24\" class=\"data row39 col24\" >718</td>\n",
       "                        <td id=\"T_9f2b80d0_4bfe_11ea_a8b9_0c5415364605row39_col25\" class=\"data row39 col25\" >778</td>\n",
       "                        <td id=\"T_9f2b80d0_4bfe_11ea_a8b9_0c5415364605row39_col26\" class=\"data row39 col26\" >692</td>\n",
       "                        <td id=\"T_9f2b80d0_4bfe_11ea_a8b9_0c5415364605row39_col27\" class=\"data row39 col27\" >206</td>\n",
       "                        <td id=\"T_9f2b80d0_4bfe_11ea_a8b9_0c5415364605row39_col28\" class=\"data row39 col28\" >19</td>\n",
       "                        <td id=\"T_9f2b80d0_4bfe_11ea_a8b9_0c5415364605row39_col29\" class=\"data row39 col29\" >19</td>\n",
       "            </tr>\n",
       "            <tr>\n",
       "                        <th id=\"T_9f2b80d0_4bfe_11ea_a8b9_0c5415364605level0_row40\" class=\"row_heading level0 row40\" >;</th>\n",
       "                        <td id=\"T_9f2b80d0_4bfe_11ea_a8b9_0c5415364605row40_col0\" class=\"data row40 col0\" >5</td>\n",
       "                        <td id=\"T_9f2b80d0_4bfe_11ea_a8b9_0c5415364605row40_col1\" class=\"data row40 col1\" >27</td>\n",
       "                        <td id=\"T_9f2b80d0_4bfe_11ea_a8b9_0c5415364605row40_col2\" class=\"data row40 col2\" >65</td>\n",
       "                        <td id=\"T_9f2b80d0_4bfe_11ea_a8b9_0c5415364605row40_col3\" class=\"data row40 col3\" >1</td>\n",
       "                        <td id=\"T_9f2b80d0_4bfe_11ea_a8b9_0c5415364605row40_col4\" class=\"data row40 col4\" >8</td>\n",
       "                        <td id=\"T_9f2b80d0_4bfe_11ea_a8b9_0c5415364605row40_col5\" class=\"data row40 col5\" >14</td>\n",
       "                        <td id=\"T_9f2b80d0_4bfe_11ea_a8b9_0c5415364605row40_col6\" class=\"data row40 col6\" >21</td>\n",
       "                        <td id=\"T_9f2b80d0_4bfe_11ea_a8b9_0c5415364605row40_col7\" class=\"data row40 col7\" >549</td>\n",
       "                        <td id=\"T_9f2b80d0_4bfe_11ea_a8b9_0c5415364605row40_col8\" class=\"data row40 col8\" >65</td>\n",
       "                        <td id=\"T_9f2b80d0_4bfe_11ea_a8b9_0c5415364605row40_col9\" class=\"data row40 col9\" >23</td>\n",
       "                        <td id=\"T_9f2b80d0_4bfe_11ea_a8b9_0c5415364605row40_col10\" class=\"data row40 col10\" >193</td>\n",
       "                        <td id=\"T_9f2b80d0_4bfe_11ea_a8b9_0c5415364605row40_col11\" class=\"data row40 col11\" >462</td>\n",
       "                        <td id=\"T_9f2b80d0_4bfe_11ea_a8b9_0c5415364605row40_col12\" class=\"data row40 col12\" >199</td>\n",
       "                        <td id=\"T_9f2b80d0_4bfe_11ea_a8b9_0c5415364605row40_col13\" class=\"data row40 col13\" >19</td>\n",
       "                        <td id=\"T_9f2b80d0_4bfe_11ea_a8b9_0c5415364605row40_col14\" class=\"data row40 col14\" >64</td>\n",
       "                        <td id=\"T_9f2b80d0_4bfe_11ea_a8b9_0c5415364605row40_col15\" class=\"data row40 col15\" >309</td>\n",
       "                        <td id=\"T_9f2b80d0_4bfe_11ea_a8b9_0c5415364605row40_col16\" class=\"data row40 col16\" >4</td>\n",
       "                        <td id=\"T_9f2b80d0_4bfe_11ea_a8b9_0c5415364605row40_col17\" class=\"data row40 col17\" >49</td>\n",
       "                        <td id=\"T_9f2b80d0_4bfe_11ea_a8b9_0c5415364605row40_col18\" class=\"data row40 col18\" >65</td>\n",
       "                        <td id=\"T_9f2b80d0_4bfe_11ea_a8b9_0c5415364605row40_col19\" class=\"data row40 col19\" >270</td>\n",
       "                        <td id=\"T_9f2b80d0_4bfe_11ea_a8b9_0c5415364605row40_col20\" class=\"data row40 col20\" >22</td>\n",
       "                        <td id=\"T_9f2b80d0_4bfe_11ea_a8b9_0c5415364605row40_col21\" class=\"data row40 col21\" >369</td>\n",
       "                        <td id=\"T_9f2b80d0_4bfe_11ea_a8b9_0c5415364605row40_col22\" class=\"data row40 col22\" >241</td>\n",
       "                        <td id=\"T_9f2b80d0_4bfe_11ea_a8b9_0c5415364605row40_col23\" class=\"data row40 col23\" >281</td>\n",
       "                        <td id=\"T_9f2b80d0_4bfe_11ea_a8b9_0c5415364605row40_col24\" class=\"data row40 col24\" >324</td>\n",
       "                        <td id=\"T_9f2b80d0_4bfe_11ea_a8b9_0c5415364605row40_col25\" class=\"data row40 col25\" >422</td>\n",
       "                        <td id=\"T_9f2b80d0_4bfe_11ea_a8b9_0c5415364605row40_col26\" class=\"data row40 col26\" >401</td>\n",
       "                        <td id=\"T_9f2b80d0_4bfe_11ea_a8b9_0c5415364605row40_col27\" class=\"data row40 col27\" >111</td>\n",
       "                        <td id=\"T_9f2b80d0_4bfe_11ea_a8b9_0c5415364605row40_col28\" class=\"data row40 col28\" >19</td>\n",
       "                        <td id=\"T_9f2b80d0_4bfe_11ea_a8b9_0c5415364605row40_col29\" class=\"data row40 col29\" >12</td>\n",
       "            </tr>\n",
       "            <tr>\n",
       "                        <th id=\"T_9f2b80d0_4bfe_11ea_a8b9_0c5415364605level0_row41\" class=\"row_heading level0 row41\" >I</th>\n",
       "                        <td id=\"T_9f2b80d0_4bfe_11ea_a8b9_0c5415364605row41_col0\" class=\"data row41 col0\" >23</td>\n",
       "                        <td id=\"T_9f2b80d0_4bfe_11ea_a8b9_0c5415364605row41_col1\" class=\"data row41 col1\" >30</td>\n",
       "                        <td id=\"T_9f2b80d0_4bfe_11ea_a8b9_0c5415364605row41_col2\" class=\"data row41 col2\" >83</td>\n",
       "                        <td id=\"T_9f2b80d0_4bfe_11ea_a8b9_0c5415364605row41_col3\" class=\"data row41 col3\" >4</td>\n",
       "                        <td id=\"T_9f2b80d0_4bfe_11ea_a8b9_0c5415364605row41_col4\" class=\"data row41 col4\" >14</td>\n",
       "                        <td id=\"T_9f2b80d0_4bfe_11ea_a8b9_0c5415364605row41_col5\" class=\"data row41 col5\" >11</td>\n",
       "                        <td id=\"T_9f2b80d0_4bfe_11ea_a8b9_0c5415364605row41_col6\" class=\"data row41 col6\" >9</td>\n",
       "                        <td id=\"T_9f2b80d0_4bfe_11ea_a8b9_0c5415364605row41_col7\" class=\"data row41 col7\" >37</td>\n",
       "                        <td id=\"T_9f2b80d0_4bfe_11ea_a8b9_0c5415364605row41_col8\" class=\"data row41 col8\" >17</td>\n",
       "                        <td id=\"T_9f2b80d0_4bfe_11ea_a8b9_0c5415364605row41_col9\" class=\"data row41 col9\" >4</td>\n",
       "                        <td id=\"T_9f2b80d0_4bfe_11ea_a8b9_0c5415364605row41_col10\" class=\"data row41 col10\" >25</td>\n",
       "                        <td id=\"T_9f2b80d0_4bfe_11ea_a8b9_0c5415364605row41_col11\" class=\"data row41 col11\" >143</td>\n",
       "                        <td id=\"T_9f2b80d0_4bfe_11ea_a8b9_0c5415364605row41_col12\" class=\"data row41 col12\" >85</td>\n",
       "                        <td id=\"T_9f2b80d0_4bfe_11ea_a8b9_0c5415364605row41_col13\" class=\"data row41 col13\" >18</td>\n",
       "                        <td id=\"T_9f2b80d0_4bfe_11ea_a8b9_0c5415364605row41_col14\" class=\"data row41 col14\" >38</td>\n",
       "                        <td id=\"T_9f2b80d0_4bfe_11ea_a8b9_0c5415364605row41_col15\" class=\"data row41 col15\" >42</td>\n",
       "                        <td id=\"T_9f2b80d0_4bfe_11ea_a8b9_0c5415364605row41_col16\" class=\"data row41 col16\" >14</td>\n",
       "                        <td id=\"T_9f2b80d0_4bfe_11ea_a8b9_0c5415364605row41_col17\" class=\"data row41 col17\" >43</td>\n",
       "                        <td id=\"T_9f2b80d0_4bfe_11ea_a8b9_0c5415364605row41_col18\" class=\"data row41 col18\" >12</td>\n",
       "                        <td id=\"T_9f2b80d0_4bfe_11ea_a8b9_0c5415364605row41_col19\" class=\"data row41 col19\" >297</td>\n",
       "                        <td id=\"T_9f2b80d0_4bfe_11ea_a8b9_0c5415364605row41_col20\" class=\"data row41 col20\" >13</td>\n",
       "                        <td id=\"T_9f2b80d0_4bfe_11ea_a8b9_0c5415364605row41_col21\" class=\"data row41 col21\" >536</td>\n",
       "                        <td id=\"T_9f2b80d0_4bfe_11ea_a8b9_0c5415364605row41_col22\" class=\"data row41 col22\" >550</td>\n",
       "                        <td id=\"T_9f2b80d0_4bfe_11ea_a8b9_0c5415364605row41_col23\" class=\"data row41 col23\" >696</td>\n",
       "                        <td id=\"T_9f2b80d0_4bfe_11ea_a8b9_0c5415364605row41_col24\" class=\"data row41 col24\" >667</td>\n",
       "                        <td id=\"T_9f2b80d0_4bfe_11ea_a8b9_0c5415364605row41_col25\" class=\"data row41 col25\" >775</td>\n",
       "                        <td id=\"T_9f2b80d0_4bfe_11ea_a8b9_0c5415364605row41_col26\" class=\"data row41 col26\" >625</td>\n",
       "                        <td id=\"T_9f2b80d0_4bfe_11ea_a8b9_0c5415364605row41_col27\" class=\"data row41 col27\" >183</td>\n",
       "                        <td id=\"T_9f2b80d0_4bfe_11ea_a8b9_0c5415364605row41_col28\" class=\"data row41 col28\" >18</td>\n",
       "                        <td id=\"T_9f2b80d0_4bfe_11ea_a8b9_0c5415364605row41_col29\" class=\"data row41 col29\" >8</td>\n",
       "            </tr>\n",
       "            <tr>\n",
       "                        <th id=\"T_9f2b80d0_4bfe_11ea_a8b9_0c5415364605level0_row42\" class=\"row_heading level0 row42\" >end</th>\n",
       "                        <td id=\"T_9f2b80d0_4bfe_11ea_a8b9_0c5415364605row42_col0\" class=\"data row42 col0\" >1</td>\n",
       "                        <td id=\"T_9f2b80d0_4bfe_11ea_a8b9_0c5415364605row42_col1\" class=\"data row42 col1\" >69</td>\n",
       "                        <td id=\"T_9f2b80d0_4bfe_11ea_a8b9_0c5415364605row42_col2\" class=\"data row42 col2\" >148</td>\n",
       "                        <td id=\"T_9f2b80d0_4bfe_11ea_a8b9_0c5415364605row42_col3\" class=\"data row42 col3\" >6</td>\n",
       "                        <td id=\"T_9f2b80d0_4bfe_11ea_a8b9_0c5415364605row42_col4\" class=\"data row42 col4\" >21</td>\n",
       "                        <td id=\"T_9f2b80d0_4bfe_11ea_a8b9_0c5415364605row42_col5\" class=\"data row42 col5\" >21</td>\n",
       "                        <td id=\"T_9f2b80d0_4bfe_11ea_a8b9_0c5415364605row42_col6\" class=\"data row42 col6\" >28</td>\n",
       "                        <td id=\"T_9f2b80d0_4bfe_11ea_a8b9_0c5415364605row42_col7\" class=\"data row42 col7\" >0</td>\n",
       "                        <td id=\"T_9f2b80d0_4bfe_11ea_a8b9_0c5415364605row42_col8\" class=\"data row42 col8\" >23</td>\n",
       "                        <td id=\"T_9f2b80d0_4bfe_11ea_a8b9_0c5415364605row42_col9\" class=\"data row42 col9\" >0</td>\n",
       "                        <td id=\"T_9f2b80d0_4bfe_11ea_a8b9_0c5415364605row42_col10\" class=\"data row42 col10\" >25</td>\n",
       "                        <td id=\"T_9f2b80d0_4bfe_11ea_a8b9_0c5415364605row42_col11\" class=\"data row42 col11\" >76</td>\n",
       "                        <td id=\"T_9f2b80d0_4bfe_11ea_a8b9_0c5415364605row42_col12\" class=\"data row42 col12\" >34</td>\n",
       "                        <td id=\"T_9f2b80d0_4bfe_11ea_a8b9_0c5415364605row42_col13\" class=\"data row42 col13\" >2</td>\n",
       "                        <td id=\"T_9f2b80d0_4bfe_11ea_a8b9_0c5415364605row42_col14\" class=\"data row42 col14\" >17</td>\n",
       "                        <td id=\"T_9f2b80d0_4bfe_11ea_a8b9_0c5415364605row42_col15\" class=\"data row42 col15\" >78</td>\n",
       "                        <td id=\"T_9f2b80d0_4bfe_11ea_a8b9_0c5415364605row42_col16\" class=\"data row42 col16\" >29</td>\n",
       "                        <td id=\"T_9f2b80d0_4bfe_11ea_a8b9_0c5415364605row42_col17\" class=\"data row42 col17\" >59</td>\n",
       "                        <td id=\"T_9f2b80d0_4bfe_11ea_a8b9_0c5415364605row42_col18\" class=\"data row42 col18\" >23</td>\n",
       "                        <td id=\"T_9f2b80d0_4bfe_11ea_a8b9_0c5415364605row42_col19\" class=\"data row42 col19\" >139</td>\n",
       "                        <td id=\"T_9f2b80d0_4bfe_11ea_a8b9_0c5415364605row42_col20\" class=\"data row42 col20\" >8</td>\n",
       "                        <td id=\"T_9f2b80d0_4bfe_11ea_a8b9_0c5415364605row42_col21\" class=\"data row42 col21\" >283</td>\n",
       "                        <td id=\"T_9f2b80d0_4bfe_11ea_a8b9_0c5415364605row42_col22\" class=\"data row42 col22\" >245</td>\n",
       "                        <td id=\"T_9f2b80d0_4bfe_11ea_a8b9_0c5415364605row42_col23\" class=\"data row42 col23\" >370</td>\n",
       "                        <td id=\"T_9f2b80d0_4bfe_11ea_a8b9_0c5415364605row42_col24\" class=\"data row42 col24\" >332</td>\n",
       "                        <td id=\"T_9f2b80d0_4bfe_11ea_a8b9_0c5415364605row42_col25\" class=\"data row42 col25\" >448</td>\n",
       "                        <td id=\"T_9f2b80d0_4bfe_11ea_a8b9_0c5415364605row42_col26\" class=\"data row42 col26\" >401</td>\n",
       "                        <td id=\"T_9f2b80d0_4bfe_11ea_a8b9_0c5415364605row42_col27\" class=\"data row42 col27\" >119</td>\n",
       "                        <td id=\"T_9f2b80d0_4bfe_11ea_a8b9_0c5415364605row42_col28\" class=\"data row42 col28\" >18</td>\n",
       "                        <td id=\"T_9f2b80d0_4bfe_11ea_a8b9_0c5415364605row42_col29\" class=\"data row42 col29\" >17</td>\n",
       "            </tr>\n",
       "            <tr>\n",
       "                        <th id=\"T_9f2b80d0_4bfe_11ea_a8b9_0c5415364605level0_row43\" class=\"row_heading level0 row43\" >:</th>\n",
       "                        <td id=\"T_9f2b80d0_4bfe_11ea_a8b9_0c5415364605row43_col0\" class=\"data row43 col0\" >16</td>\n",
       "                        <td id=\"T_9f2b80d0_4bfe_11ea_a8b9_0c5415364605row43_col1\" class=\"data row43 col1\" >216</td>\n",
       "                        <td id=\"T_9f2b80d0_4bfe_11ea_a8b9_0c5415364605row43_col2\" class=\"data row43 col2\" >123</td>\n",
       "                        <td id=\"T_9f2b80d0_4bfe_11ea_a8b9_0c5415364605row43_col3\" class=\"data row43 col3\" >4</td>\n",
       "                        <td id=\"T_9f2b80d0_4bfe_11ea_a8b9_0c5415364605row43_col4\" class=\"data row43 col4\" >28</td>\n",
       "                        <td id=\"T_9f2b80d0_4bfe_11ea_a8b9_0c5415364605row43_col5\" class=\"data row43 col5\" >47</td>\n",
       "                        <td id=\"T_9f2b80d0_4bfe_11ea_a8b9_0c5415364605row43_col6\" class=\"data row43 col6\" >56</td>\n",
       "                        <td id=\"T_9f2b80d0_4bfe_11ea_a8b9_0c5415364605row43_col7\" class=\"data row43 col7\" >226</td>\n",
       "                        <td id=\"T_9f2b80d0_4bfe_11ea_a8b9_0c5415364605row43_col8\" class=\"data row43 col8\" >43</td>\n",
       "                        <td id=\"T_9f2b80d0_4bfe_11ea_a8b9_0c5415364605row43_col9\" class=\"data row43 col9\" >32</td>\n",
       "                        <td id=\"T_9f2b80d0_4bfe_11ea_a8b9_0c5415364605row43_col10\" class=\"data row43 col10\" >9</td>\n",
       "                        <td id=\"T_9f2b80d0_4bfe_11ea_a8b9_0c5415364605row43_col11\" class=\"data row43 col11\" >339</td>\n",
       "                        <td id=\"T_9f2b80d0_4bfe_11ea_a8b9_0c5415364605row43_col12\" class=\"data row43 col12\" >121</td>\n",
       "                        <td id=\"T_9f2b80d0_4bfe_11ea_a8b9_0c5415364605row43_col13\" class=\"data row43 col13\" >39</td>\n",
       "                        <td id=\"T_9f2b80d0_4bfe_11ea_a8b9_0c5415364605row43_col14\" class=\"data row43 col14\" >12</td>\n",
       "                        <td id=\"T_9f2b80d0_4bfe_11ea_a8b9_0c5415364605row43_col15\" class=\"data row43 col15\" >150</td>\n",
       "                        <td id=\"T_9f2b80d0_4bfe_11ea_a8b9_0c5415364605row43_col16\" class=\"data row43 col16\" >32</td>\n",
       "                        <td id=\"T_9f2b80d0_4bfe_11ea_a8b9_0c5415364605row43_col17\" class=\"data row43 col17\" >41</td>\n",
       "                        <td id=\"T_9f2b80d0_4bfe_11ea_a8b9_0c5415364605row43_col18\" class=\"data row43 col18\" >75</td>\n",
       "                        <td id=\"T_9f2b80d0_4bfe_11ea_a8b9_0c5415364605row43_col19\" class=\"data row43 col19\" >705</td>\n",
       "                        <td id=\"T_9f2b80d0_4bfe_11ea_a8b9_0c5415364605row43_col20\" class=\"data row43 col20\" >30</td>\n",
       "                        <td id=\"T_9f2b80d0_4bfe_11ea_a8b9_0c5415364605row43_col21\" class=\"data row43 col21\" >497</td>\n",
       "                        <td id=\"T_9f2b80d0_4bfe_11ea_a8b9_0c5415364605row43_col22\" class=\"data row43 col22\" >741</td>\n",
       "                        <td id=\"T_9f2b80d0_4bfe_11ea_a8b9_0c5415364605row43_col23\" class=\"data row43 col23\" >824</td>\n",
       "                        <td id=\"T_9f2b80d0_4bfe_11ea_a8b9_0c5415364605row43_col24\" class=\"data row43 col24\" >757</td>\n",
       "                        <td id=\"T_9f2b80d0_4bfe_11ea_a8b9_0c5415364605row43_col25\" class=\"data row43 col25\" >802</td>\n",
       "                        <td id=\"T_9f2b80d0_4bfe_11ea_a8b9_0c5415364605row43_col26\" class=\"data row43 col26\" >782</td>\n",
       "                        <td id=\"T_9f2b80d0_4bfe_11ea_a8b9_0c5415364605row43_col27\" class=\"data row43 col27\" >149</td>\n",
       "                        <td id=\"T_9f2b80d0_4bfe_11ea_a8b9_0c5415364605row43_col28\" class=\"data row43 col28\" >17</td>\n",
       "                        <td id=\"T_9f2b80d0_4bfe_11ea_a8b9_0c5415364605row43_col29\" class=\"data row43 col29\" >24</td>\n",
       "            </tr>\n",
       "            <tr>\n",
       "                        <th id=\"T_9f2b80d0_4bfe_11ea_a8b9_0c5415364605level0_row44\" class=\"row_heading level0 row44\" >denne</th>\n",
       "                        <td id=\"T_9f2b80d0_4bfe_11ea_a8b9_0c5415364605row44_col0\" class=\"data row44 col0\" >39</td>\n",
       "                        <td id=\"T_9f2b80d0_4bfe_11ea_a8b9_0c5415364605row44_col1\" class=\"data row44 col1\" >126</td>\n",
       "                        <td id=\"T_9f2b80d0_4bfe_11ea_a8b9_0c5415364605row44_col2\" class=\"data row44 col2\" >220</td>\n",
       "                        <td id=\"T_9f2b80d0_4bfe_11ea_a8b9_0c5415364605row44_col3\" class=\"data row44 col3\" >6</td>\n",
       "                        <td id=\"T_9f2b80d0_4bfe_11ea_a8b9_0c5415364605row44_col4\" class=\"data row44 col4\" >51</td>\n",
       "                        <td id=\"T_9f2b80d0_4bfe_11ea_a8b9_0c5415364605row44_col5\" class=\"data row44 col5\" >38</td>\n",
       "                        <td id=\"T_9f2b80d0_4bfe_11ea_a8b9_0c5415364605row44_col6\" class=\"data row44 col6\" >87</td>\n",
       "                        <td id=\"T_9f2b80d0_4bfe_11ea_a8b9_0c5415364605row44_col7\" class=\"data row44 col7\" >75</td>\n",
       "                        <td id=\"T_9f2b80d0_4bfe_11ea_a8b9_0c5415364605row44_col8\" class=\"data row44 col8\" >60</td>\n",
       "                        <td id=\"T_9f2b80d0_4bfe_11ea_a8b9_0c5415364605row44_col9\" class=\"data row44 col9\" >4</td>\n",
       "                        <td id=\"T_9f2b80d0_4bfe_11ea_a8b9_0c5415364605row44_col10\" class=\"data row44 col10\" >33</td>\n",
       "                        <td id=\"T_9f2b80d0_4bfe_11ea_a8b9_0c5415364605row44_col11\" class=\"data row44 col11\" >85</td>\n",
       "                        <td id=\"T_9f2b80d0_4bfe_11ea_a8b9_0c5415364605row44_col12\" class=\"data row44 col12\" >43</td>\n",
       "                        <td id=\"T_9f2b80d0_4bfe_11ea_a8b9_0c5415364605row44_col13\" class=\"data row44 col13\" >3</td>\n",
       "                        <td id=\"T_9f2b80d0_4bfe_11ea_a8b9_0c5415364605row44_col14\" class=\"data row44 col14\" >23</td>\n",
       "                        <td id=\"T_9f2b80d0_4bfe_11ea_a8b9_0c5415364605row44_col15\" class=\"data row44 col15\" >58</td>\n",
       "                        <td id=\"T_9f2b80d0_4bfe_11ea_a8b9_0c5415364605row44_col16\" class=\"data row44 col16\" >14</td>\n",
       "                        <td id=\"T_9f2b80d0_4bfe_11ea_a8b9_0c5415364605row44_col17\" class=\"data row44 col17\" >22</td>\n",
       "                        <td id=\"T_9f2b80d0_4bfe_11ea_a8b9_0c5415364605row44_col18\" class=\"data row44 col18\" >33</td>\n",
       "                        <td id=\"T_9f2b80d0_4bfe_11ea_a8b9_0c5415364605row44_col19\" class=\"data row44 col19\" >204</td>\n",
       "                        <td id=\"T_9f2b80d0_4bfe_11ea_a8b9_0c5415364605row44_col20\" class=\"data row44 col20\" >15</td>\n",
       "                        <td id=\"T_9f2b80d0_4bfe_11ea_a8b9_0c5415364605row44_col21\" class=\"data row44 col21\" >308</td>\n",
       "                        <td id=\"T_9f2b80d0_4bfe_11ea_a8b9_0c5415364605row44_col22\" class=\"data row44 col22\" >281</td>\n",
       "                        <td id=\"T_9f2b80d0_4bfe_11ea_a8b9_0c5415364605row44_col23\" class=\"data row44 col23\" >402</td>\n",
       "                        <td id=\"T_9f2b80d0_4bfe_11ea_a8b9_0c5415364605row44_col24\" class=\"data row44 col24\" >393</td>\n",
       "                        <td id=\"T_9f2b80d0_4bfe_11ea_a8b9_0c5415364605row44_col25\" class=\"data row44 col25\" >454</td>\n",
       "                        <td id=\"T_9f2b80d0_4bfe_11ea_a8b9_0c5415364605row44_col26\" class=\"data row44 col26\" >355</td>\n",
       "                        <td id=\"T_9f2b80d0_4bfe_11ea_a8b9_0c5415364605row44_col27\" class=\"data row44 col27\" >110</td>\n",
       "                        <td id=\"T_9f2b80d0_4bfe_11ea_a8b9_0c5415364605row44_col28\" class=\"data row44 col28\" >17</td>\n",
       "                        <td id=\"T_9f2b80d0_4bfe_11ea_a8b9_0c5415364605row44_col29\" class=\"data row44 col29\" >3</td>\n",
       "            </tr>\n",
       "            <tr>\n",
       "                        <th id=\"T_9f2b80d0_4bfe_11ea_a8b9_0c5415364605level0_row45\" class=\"row_heading level0 row45\" >»</th>\n",
       "                        <td id=\"T_9f2b80d0_4bfe_11ea_a8b9_0c5415364605row45_col0\" class=\"data row45 col0\" >97</td>\n",
       "                        <td id=\"T_9f2b80d0_4bfe_11ea_a8b9_0c5415364605row45_col1\" class=\"data row45 col1\" >80</td>\n",
       "                        <td id=\"T_9f2b80d0_4bfe_11ea_a8b9_0c5415364605row45_col2\" class=\"data row45 col2\" >83</td>\n",
       "                        <td id=\"T_9f2b80d0_4bfe_11ea_a8b9_0c5415364605row45_col3\" class=\"data row45 col3\" >6</td>\n",
       "                        <td id=\"T_9f2b80d0_4bfe_11ea_a8b9_0c5415364605row45_col4\" class=\"data row45 col4\" >37</td>\n",
       "                        <td id=\"T_9f2b80d0_4bfe_11ea_a8b9_0c5415364605row45_col5\" class=\"data row45 col5\" >89</td>\n",
       "                        <td id=\"T_9f2b80d0_4bfe_11ea_a8b9_0c5415364605row45_col6\" class=\"data row45 col6\" >71</td>\n",
       "                        <td id=\"T_9f2b80d0_4bfe_11ea_a8b9_0c5415364605row45_col7\" class=\"data row45 col7\" >124</td>\n",
       "                        <td id=\"T_9f2b80d0_4bfe_11ea_a8b9_0c5415364605row45_col8\" class=\"data row45 col8\" >31</td>\n",
       "                        <td id=\"T_9f2b80d0_4bfe_11ea_a8b9_0c5415364605row45_col9\" class=\"data row45 col9\" >3</td>\n",
       "                        <td id=\"T_9f2b80d0_4bfe_11ea_a8b9_0c5415364605row45_col10\" class=\"data row45 col10\" >60</td>\n",
       "                        <td id=\"T_9f2b80d0_4bfe_11ea_a8b9_0c5415364605row45_col11\" class=\"data row45 col11\" >275</td>\n",
       "                        <td id=\"T_9f2b80d0_4bfe_11ea_a8b9_0c5415364605row45_col12\" class=\"data row45 col12\" >94</td>\n",
       "                        <td id=\"T_9f2b80d0_4bfe_11ea_a8b9_0c5415364605row45_col13\" class=\"data row45 col13\" >19</td>\n",
       "                        <td id=\"T_9f2b80d0_4bfe_11ea_a8b9_0c5415364605row45_col14\" class=\"data row45 col14\" >32</td>\n",
       "                        <td id=\"T_9f2b80d0_4bfe_11ea_a8b9_0c5415364605row45_col15\" class=\"data row45 col15\" >250</td>\n",
       "                        <td id=\"T_9f2b80d0_4bfe_11ea_a8b9_0c5415364605row45_col16\" class=\"data row45 col16\" >62</td>\n",
       "                        <td id=\"T_9f2b80d0_4bfe_11ea_a8b9_0c5415364605row45_col17\" class=\"data row45 col17\" >125</td>\n",
       "                        <td id=\"T_9f2b80d0_4bfe_11ea_a8b9_0c5415364605row45_col18\" class=\"data row45 col18\" >10</td>\n",
       "                        <td id=\"T_9f2b80d0_4bfe_11ea_a8b9_0c5415364605row45_col19\" class=\"data row45 col19\" >122</td>\n",
       "                        <td id=\"T_9f2b80d0_4bfe_11ea_a8b9_0c5415364605row45_col20\" class=\"data row45 col20\" >4</td>\n",
       "                        <td id=\"T_9f2b80d0_4bfe_11ea_a8b9_0c5415364605row45_col21\" class=\"data row45 col21\" >257</td>\n",
       "                        <td id=\"T_9f2b80d0_4bfe_11ea_a8b9_0c5415364605row45_col22\" class=\"data row45 col22\" >253</td>\n",
       "                        <td id=\"T_9f2b80d0_4bfe_11ea_a8b9_0c5415364605row45_col23\" class=\"data row45 col23\" >437</td>\n",
       "                        <td id=\"T_9f2b80d0_4bfe_11ea_a8b9_0c5415364605row45_col24\" class=\"data row45 col24\" >380</td>\n",
       "                        <td id=\"T_9f2b80d0_4bfe_11ea_a8b9_0c5415364605row45_col25\" class=\"data row45 col25\" >416</td>\n",
       "                        <td id=\"T_9f2b80d0_4bfe_11ea_a8b9_0c5415364605row45_col26\" class=\"data row45 col26\" >250</td>\n",
       "                        <td id=\"T_9f2b80d0_4bfe_11ea_a8b9_0c5415364605row45_col27\" class=\"data row45 col27\" >92</td>\n",
       "                        <td id=\"T_9f2b80d0_4bfe_11ea_a8b9_0c5415364605row45_col28\" class=\"data row45 col28\" >17</td>\n",
       "                        <td id=\"T_9f2b80d0_4bfe_11ea_a8b9_0c5415364605row45_col29\" class=\"data row45 col29\" >121</td>\n",
       "            </tr>\n",
       "            <tr>\n",
       "                        <th id=\"T_9f2b80d0_4bfe_11ea_a8b9_0c5415364605level0_row46\" class=\"row_heading level0 row46\" >havde</th>\n",
       "                        <td id=\"T_9f2b80d0_4bfe_11ea_a8b9_0c5415364605row46_col0\" class=\"data row46 col0\" >0</td>\n",
       "                        <td id=\"T_9f2b80d0_4bfe_11ea_a8b9_0c5415364605row46_col1\" class=\"data row46 col1\" >149</td>\n",
       "                        <td id=\"T_9f2b80d0_4bfe_11ea_a8b9_0c5415364605row46_col2\" class=\"data row46 col2\" >142</td>\n",
       "                        <td id=\"T_9f2b80d0_4bfe_11ea_a8b9_0c5415364605row46_col3\" class=\"data row46 col3\" >1</td>\n",
       "                        <td id=\"T_9f2b80d0_4bfe_11ea_a8b9_0c5415364605row46_col4\" class=\"data row46 col4\" >36</td>\n",
       "                        <td id=\"T_9f2b80d0_4bfe_11ea_a8b9_0c5415364605row46_col5\" class=\"data row46 col5\" >20</td>\n",
       "                        <td id=\"T_9f2b80d0_4bfe_11ea_a8b9_0c5415364605row46_col6\" class=\"data row46 col6\" >121</td>\n",
       "                        <td id=\"T_9f2b80d0_4bfe_11ea_a8b9_0c5415364605row46_col7\" class=\"data row46 col7\" >0</td>\n",
       "                        <td id=\"T_9f2b80d0_4bfe_11ea_a8b9_0c5415364605row46_col8\" class=\"data row46 col8\" >33</td>\n",
       "                        <td id=\"T_9f2b80d0_4bfe_11ea_a8b9_0c5415364605row46_col9\" class=\"data row46 col9\" >3</td>\n",
       "                        <td id=\"T_9f2b80d0_4bfe_11ea_a8b9_0c5415364605row46_col10\" class=\"data row46 col10\" >45</td>\n",
       "                        <td id=\"T_9f2b80d0_4bfe_11ea_a8b9_0c5415364605row46_col11\" class=\"data row46 col11\" >92</td>\n",
       "                        <td id=\"T_9f2b80d0_4bfe_11ea_a8b9_0c5415364605row46_col12\" class=\"data row46 col12\" >50</td>\n",
       "                        <td id=\"T_9f2b80d0_4bfe_11ea_a8b9_0c5415364605row46_col13\" class=\"data row46 col13\" >5</td>\n",
       "                        <td id=\"T_9f2b80d0_4bfe_11ea_a8b9_0c5415364605row46_col14\" class=\"data row46 col14\" >30</td>\n",
       "                        <td id=\"T_9f2b80d0_4bfe_11ea_a8b9_0c5415364605row46_col15\" class=\"data row46 col15\" >128</td>\n",
       "                        <td id=\"T_9f2b80d0_4bfe_11ea_a8b9_0c5415364605row46_col16\" class=\"data row46 col16\" >71</td>\n",
       "                        <td id=\"T_9f2b80d0_4bfe_11ea_a8b9_0c5415364605row46_col17\" class=\"data row46 col17\" >95</td>\n",
       "                        <td id=\"T_9f2b80d0_4bfe_11ea_a8b9_0c5415364605row46_col18\" class=\"data row46 col18\" >52</td>\n",
       "                        <td id=\"T_9f2b80d0_4bfe_11ea_a8b9_0c5415364605row46_col19\" class=\"data row46 col19\" >288</td>\n",
       "                        <td id=\"T_9f2b80d0_4bfe_11ea_a8b9_0c5415364605row46_col20\" class=\"data row46 col20\" >22</td>\n",
       "                        <td id=\"T_9f2b80d0_4bfe_11ea_a8b9_0c5415364605row46_col21\" class=\"data row46 col21\" >413</td>\n",
       "                        <td id=\"T_9f2b80d0_4bfe_11ea_a8b9_0c5415364605row46_col22\" class=\"data row46 col22\" >375</td>\n",
       "                        <td id=\"T_9f2b80d0_4bfe_11ea_a8b9_0c5415364605row46_col23\" class=\"data row46 col23\" >625</td>\n",
       "                        <td id=\"T_9f2b80d0_4bfe_11ea_a8b9_0c5415364605row46_col24\" class=\"data row46 col24\" >792</td>\n",
       "                        <td id=\"T_9f2b80d0_4bfe_11ea_a8b9_0c5415364605row46_col25\" class=\"data row46 col25\" >980</td>\n",
       "                        <td id=\"T_9f2b80d0_4bfe_11ea_a8b9_0c5415364605row46_col26\" class=\"data row46 col26\" >837</td>\n",
       "                        <td id=\"T_9f2b80d0_4bfe_11ea_a8b9_0c5415364605row46_col27\" class=\"data row46 col27\" >193</td>\n",
       "                        <td id=\"T_9f2b80d0_4bfe_11ea_a8b9_0c5415364605row46_col28\" class=\"data row46 col28\" >17</td>\n",
       "                        <td id=\"T_9f2b80d0_4bfe_11ea_a8b9_0c5415364605row46_col29\" class=\"data row46 col29\" >56</td>\n",
       "            </tr>\n",
       "            <tr>\n",
       "                        <th id=\"T_9f2b80d0_4bfe_11ea_a8b9_0c5415364605level0_row47\" class=\"row_heading level0 row47\" >mere</th>\n",
       "                        <td id=\"T_9f2b80d0_4bfe_11ea_a8b9_0c5415364605row47_col0\" class=\"data row47 col0\" >4</td>\n",
       "                        <td id=\"T_9f2b80d0_4bfe_11ea_a8b9_0c5415364605row47_col1\" class=\"data row47 col1\" >66</td>\n",
       "                        <td id=\"T_9f2b80d0_4bfe_11ea_a8b9_0c5415364605row47_col2\" class=\"data row47 col2\" >96</td>\n",
       "                        <td id=\"T_9f2b80d0_4bfe_11ea_a8b9_0c5415364605row47_col3\" class=\"data row47 col3\" >3</td>\n",
       "                        <td id=\"T_9f2b80d0_4bfe_11ea_a8b9_0c5415364605row47_col4\" class=\"data row47 col4\" >12</td>\n",
       "                        <td id=\"T_9f2b80d0_4bfe_11ea_a8b9_0c5415364605row47_col5\" class=\"data row47 col5\" >26</td>\n",
       "                        <td id=\"T_9f2b80d0_4bfe_11ea_a8b9_0c5415364605row47_col6\" class=\"data row47 col6\" >23</td>\n",
       "                        <td id=\"T_9f2b80d0_4bfe_11ea_a8b9_0c5415364605row47_col7\" class=\"data row47 col7\" >0</td>\n",
       "                        <td id=\"T_9f2b80d0_4bfe_11ea_a8b9_0c5415364605row47_col8\" class=\"data row47 col8\" >0</td>\n",
       "                        <td id=\"T_9f2b80d0_4bfe_11ea_a8b9_0c5415364605row47_col9\" class=\"data row47 col9\" >0</td>\n",
       "                        <td id=\"T_9f2b80d0_4bfe_11ea_a8b9_0c5415364605row47_col10\" class=\"data row47 col10\" >19</td>\n",
       "                        <td id=\"T_9f2b80d0_4bfe_11ea_a8b9_0c5415364605row47_col11\" class=\"data row47 col11\" >75</td>\n",
       "                        <td id=\"T_9f2b80d0_4bfe_11ea_a8b9_0c5415364605row47_col12\" class=\"data row47 col12\" >23</td>\n",
       "                        <td id=\"T_9f2b80d0_4bfe_11ea_a8b9_0c5415364605row47_col13\" class=\"data row47 col13\" >2</td>\n",
       "                        <td id=\"T_9f2b80d0_4bfe_11ea_a8b9_0c5415364605row47_col14\" class=\"data row47 col14\" >10</td>\n",
       "                        <td id=\"T_9f2b80d0_4bfe_11ea_a8b9_0c5415364605row47_col15\" class=\"data row47 col15\" >23</td>\n",
       "                        <td id=\"T_9f2b80d0_4bfe_11ea_a8b9_0c5415364605row47_col16\" class=\"data row47 col16\" >6</td>\n",
       "                        <td id=\"T_9f2b80d0_4bfe_11ea_a8b9_0c5415364605row47_col17\" class=\"data row47 col17\" >12</td>\n",
       "                        <td id=\"T_9f2b80d0_4bfe_11ea_a8b9_0c5415364605row47_col18\" class=\"data row47 col18\" >18</td>\n",
       "                        <td id=\"T_9f2b80d0_4bfe_11ea_a8b9_0c5415364605row47_col19\" class=\"data row47 col19\" >114</td>\n",
       "                        <td id=\"T_9f2b80d0_4bfe_11ea_a8b9_0c5415364605row47_col20\" class=\"data row47 col20\" >12</td>\n",
       "                        <td id=\"T_9f2b80d0_4bfe_11ea_a8b9_0c5415364605row47_col21\" class=\"data row47 col21\" >157</td>\n",
       "                        <td id=\"T_9f2b80d0_4bfe_11ea_a8b9_0c5415364605row47_col22\" class=\"data row47 col22\" >159</td>\n",
       "                        <td id=\"T_9f2b80d0_4bfe_11ea_a8b9_0c5415364605row47_col23\" class=\"data row47 col23\" >225</td>\n",
       "                        <td id=\"T_9f2b80d0_4bfe_11ea_a8b9_0c5415364605row47_col24\" class=\"data row47 col24\" >190</td>\n",
       "                        <td id=\"T_9f2b80d0_4bfe_11ea_a8b9_0c5415364605row47_col25\" class=\"data row47 col25\" >261</td>\n",
       "                        <td id=\"T_9f2b80d0_4bfe_11ea_a8b9_0c5415364605row47_col26\" class=\"data row47 col26\" >209</td>\n",
       "                        <td id=\"T_9f2b80d0_4bfe_11ea_a8b9_0c5415364605row47_col27\" class=\"data row47 col27\" >89</td>\n",
       "                        <td id=\"T_9f2b80d0_4bfe_11ea_a8b9_0c5415364605row47_col28\" class=\"data row47 col28\" >16</td>\n",
       "                        <td id=\"T_9f2b80d0_4bfe_11ea_a8b9_0c5415364605row47_col29\" class=\"data row47 col29\" >18</td>\n",
       "            </tr>\n",
       "            <tr>\n",
       "                        <th id=\"T_9f2b80d0_4bfe_11ea_a8b9_0c5415364605level0_row48\" class=\"row_heading level0 row48\" >«</th>\n",
       "                        <td id=\"T_9f2b80d0_4bfe_11ea_a8b9_0c5415364605row48_col0\" class=\"data row48 col0\" >96</td>\n",
       "                        <td id=\"T_9f2b80d0_4bfe_11ea_a8b9_0c5415364605row48_col1\" class=\"data row48 col1\" >78</td>\n",
       "                        <td id=\"T_9f2b80d0_4bfe_11ea_a8b9_0c5415364605row48_col2\" class=\"data row48 col2\" >78</td>\n",
       "                        <td id=\"T_9f2b80d0_4bfe_11ea_a8b9_0c5415364605row48_col3\" class=\"data row48 col3\" >6</td>\n",
       "                        <td id=\"T_9f2b80d0_4bfe_11ea_a8b9_0c5415364605row48_col4\" class=\"data row48 col4\" >37</td>\n",
       "                        <td id=\"T_9f2b80d0_4bfe_11ea_a8b9_0c5415364605row48_col5\" class=\"data row48 col5\" >90</td>\n",
       "                        <td id=\"T_9f2b80d0_4bfe_11ea_a8b9_0c5415364605row48_col6\" class=\"data row48 col6\" >72</td>\n",
       "                        <td id=\"T_9f2b80d0_4bfe_11ea_a8b9_0c5415364605row48_col7\" class=\"data row48 col7\" >121</td>\n",
       "                        <td id=\"T_9f2b80d0_4bfe_11ea_a8b9_0c5415364605row48_col8\" class=\"data row48 col8\" >31</td>\n",
       "                        <td id=\"T_9f2b80d0_4bfe_11ea_a8b9_0c5415364605row48_col9\" class=\"data row48 col9\" >7</td>\n",
       "                        <td id=\"T_9f2b80d0_4bfe_11ea_a8b9_0c5415364605row48_col10\" class=\"data row48 col10\" >61</td>\n",
       "                        <td id=\"T_9f2b80d0_4bfe_11ea_a8b9_0c5415364605row48_col11\" class=\"data row48 col11\" >280</td>\n",
       "                        <td id=\"T_9f2b80d0_4bfe_11ea_a8b9_0c5415364605row48_col12\" class=\"data row48 col12\" >93</td>\n",
       "                        <td id=\"T_9f2b80d0_4bfe_11ea_a8b9_0c5415364605row48_col13\" class=\"data row48 col13\" >18</td>\n",
       "                        <td id=\"T_9f2b80d0_4bfe_11ea_a8b9_0c5415364605row48_col14\" class=\"data row48 col14\" >33</td>\n",
       "                        <td id=\"T_9f2b80d0_4bfe_11ea_a8b9_0c5415364605row48_col15\" class=\"data row48 col15\" >252</td>\n",
       "                        <td id=\"T_9f2b80d0_4bfe_11ea_a8b9_0c5415364605row48_col16\" class=\"data row48 col16\" >62</td>\n",
       "                        <td id=\"T_9f2b80d0_4bfe_11ea_a8b9_0c5415364605row48_col17\" class=\"data row48 col17\" >125</td>\n",
       "                        <td id=\"T_9f2b80d0_4bfe_11ea_a8b9_0c5415364605row48_col18\" class=\"data row48 col18\" >11</td>\n",
       "                        <td id=\"T_9f2b80d0_4bfe_11ea_a8b9_0c5415364605row48_col19\" class=\"data row48 col19\" >128</td>\n",
       "                        <td id=\"T_9f2b80d0_4bfe_11ea_a8b9_0c5415364605row48_col20\" class=\"data row48 col20\" >4</td>\n",
       "                        <td id=\"T_9f2b80d0_4bfe_11ea_a8b9_0c5415364605row48_col21\" class=\"data row48 col21\" >265</td>\n",
       "                        <td id=\"T_9f2b80d0_4bfe_11ea_a8b9_0c5415364605row48_col22\" class=\"data row48 col22\" >260</td>\n",
       "                        <td id=\"T_9f2b80d0_4bfe_11ea_a8b9_0c5415364605row48_col23\" class=\"data row48 col23\" >446</td>\n",
       "                        <td id=\"T_9f2b80d0_4bfe_11ea_a8b9_0c5415364605row48_col24\" class=\"data row48 col24\" >386</td>\n",
       "                        <td id=\"T_9f2b80d0_4bfe_11ea_a8b9_0c5415364605row48_col25\" class=\"data row48 col25\" >423</td>\n",
       "                        <td id=\"T_9f2b80d0_4bfe_11ea_a8b9_0c5415364605row48_col26\" class=\"data row48 col26\" >254</td>\n",
       "                        <td id=\"T_9f2b80d0_4bfe_11ea_a8b9_0c5415364605row48_col27\" class=\"data row48 col27\" >94</td>\n",
       "                        <td id=\"T_9f2b80d0_4bfe_11ea_a8b9_0c5415364605row48_col28\" class=\"data row48 col28\" >15</td>\n",
       "                        <td id=\"T_9f2b80d0_4bfe_11ea_a8b9_0c5415364605row48_col29\" class=\"data row48 col29\" >116</td>\n",
       "            </tr>\n",
       "            <tr>\n",
       "                        <th id=\"T_9f2b80d0_4bfe_11ea_a8b9_0c5415364605level0_row49\" class=\"row_heading level0 row49\" >vil</th>\n",
       "                        <td id=\"T_9f2b80d0_4bfe_11ea_a8b9_0c5415364605row49_col0\" class=\"data row49 col0\" >2</td>\n",
       "                        <td id=\"T_9f2b80d0_4bfe_11ea_a8b9_0c5415364605row49_col1\" class=\"data row49 col1\" >93</td>\n",
       "                        <td id=\"T_9f2b80d0_4bfe_11ea_a8b9_0c5415364605row49_col2\" class=\"data row49 col2\" >326</td>\n",
       "                        <td id=\"T_9f2b80d0_4bfe_11ea_a8b9_0c5415364605row49_col3\" class=\"data row49 col3\" >13</td>\n",
       "                        <td id=\"T_9f2b80d0_4bfe_11ea_a8b9_0c5415364605row49_col4\" class=\"data row49 col4\" >45</td>\n",
       "                        <td id=\"T_9f2b80d0_4bfe_11ea_a8b9_0c5415364605row49_col5\" class=\"data row49 col5\" >55</td>\n",
       "                        <td id=\"T_9f2b80d0_4bfe_11ea_a8b9_0c5415364605row49_col6\" class=\"data row49 col6\" >20</td>\n",
       "                        <td id=\"T_9f2b80d0_4bfe_11ea_a8b9_0c5415364605row49_col7\" class=\"data row49 col7\" >14</td>\n",
       "                        <td id=\"T_9f2b80d0_4bfe_11ea_a8b9_0c5415364605row49_col8\" class=\"data row49 col8\" >6</td>\n",
       "                        <td id=\"T_9f2b80d0_4bfe_11ea_a8b9_0c5415364605row49_col9\" class=\"data row49 col9\" >2</td>\n",
       "                        <td id=\"T_9f2b80d0_4bfe_11ea_a8b9_0c5415364605row49_col10\" class=\"data row49 col10\" >25</td>\n",
       "                        <td id=\"T_9f2b80d0_4bfe_11ea_a8b9_0c5415364605row49_col11\" class=\"data row49 col11\" >48</td>\n",
       "                        <td id=\"T_9f2b80d0_4bfe_11ea_a8b9_0c5415364605row49_col12\" class=\"data row49 col12\" >26</td>\n",
       "                        <td id=\"T_9f2b80d0_4bfe_11ea_a8b9_0c5415364605row49_col13\" class=\"data row49 col13\" >5</td>\n",
       "                        <td id=\"T_9f2b80d0_4bfe_11ea_a8b9_0c5415364605row49_col14\" class=\"data row49 col14\" >41</td>\n",
       "                        <td id=\"T_9f2b80d0_4bfe_11ea_a8b9_0c5415364605row49_col15\" class=\"data row49 col15\" >127</td>\n",
       "                        <td id=\"T_9f2b80d0_4bfe_11ea_a8b9_0c5415364605row49_col16\" class=\"data row49 col16\" >37</td>\n",
       "                        <td id=\"T_9f2b80d0_4bfe_11ea_a8b9_0c5415364605row49_col17\" class=\"data row49 col17\" >95</td>\n",
       "                        <td id=\"T_9f2b80d0_4bfe_11ea_a8b9_0c5415364605row49_col18\" class=\"data row49 col18\" >9</td>\n",
       "                        <td id=\"T_9f2b80d0_4bfe_11ea_a8b9_0c5415364605row49_col19\" class=\"data row49 col19\" >123</td>\n",
       "                        <td id=\"T_9f2b80d0_4bfe_11ea_a8b9_0c5415364605row49_col20\" class=\"data row49 col20\" >9</td>\n",
       "                        <td id=\"T_9f2b80d0_4bfe_11ea_a8b9_0c5415364605row49_col21\" class=\"data row49 col21\" >196</td>\n",
       "                        <td id=\"T_9f2b80d0_4bfe_11ea_a8b9_0c5415364605row49_col22\" class=\"data row49 col22\" >200</td>\n",
       "                        <td id=\"T_9f2b80d0_4bfe_11ea_a8b9_0c5415364605row49_col23\" class=\"data row49 col23\" >289</td>\n",
       "                        <td id=\"T_9f2b80d0_4bfe_11ea_a8b9_0c5415364605row49_col24\" class=\"data row49 col24\" >266</td>\n",
       "                        <td id=\"T_9f2b80d0_4bfe_11ea_a8b9_0c5415364605row49_col25\" class=\"data row49 col25\" >362</td>\n",
       "                        <td id=\"T_9f2b80d0_4bfe_11ea_a8b9_0c5415364605row49_col26\" class=\"data row49 col26\" >274</td>\n",
       "                        <td id=\"T_9f2b80d0_4bfe_11ea_a8b9_0c5415364605row49_col27\" class=\"data row49 col27\" >97</td>\n",
       "                        <td id=\"T_9f2b80d0_4bfe_11ea_a8b9_0c5415364605row49_col28\" class=\"data row49 col28\" >14</td>\n",
       "                        <td id=\"T_9f2b80d0_4bfe_11ea_a8b9_0c5415364605row49_col29\" class=\"data row49 col29\" >7</td>\n",
       "            </tr>\n",
       "    </tbody></table>"
      ],
      "text/plain": [
       "<pandas.io.formats.style.Styler at 0x19aaeea4ac8>"
      ]
     },
     "execution_count": 5,
     "metadata": {},
     "output_type": "execute_result"
    }
   ],
   "source": [
    "nb.frame_sort(kilder_dtm, 'NBkilder_Koren_1815.xml').head(50).style.background_gradient()"
   ]
  },
  {
   "cell_type": "markdown",
   "metadata": {},
   "source": [
    "# Kollokasjoner"
   ]
  },
  {
   "cell_type": "code",
   "execution_count": 6,
   "metadata": {},
   "outputs": [
    {
     "data": {
      "text/plain": [
       "[('hennes', 37),\n",
       " (',', 28),\n",
       " ('og', 21),\n",
       " ('.', 15),\n",
       " ('en', 10),\n",
       " ('i', 9),\n",
       " ('på', 7),\n",
       " ('Peter', 6),\n",
       " ('(', 5),\n",
       " (')', 5),\n",
       " ('jeg', 5),\n",
       " ('som', 5),\n",
       " ('var', 5),\n",
       " ('å', 5),\n",
       " ('til', 5),\n",
       " ('søster', 4),\n",
       " ('–', 4),\n",
       " (';', 4),\n",
       " ('to', 4),\n",
       " ('om', 4),\n",
       " ('kvinne', 4),\n",
       " ('med', 4),\n",
       " ('Braae', 3),\n",
       " ('»', 3),\n",
       " ('brev', 3),\n",
       " ('fra', 3),\n",
       " ('datter', 3),\n",
       " ('Jonas', 3),\n",
       " ('Colletts', 3),\n",
       " ('mann', 3),\n",
       " ('Severin', 3),\n",
       " ('Paulsen', 3),\n",
       " ('Steenstrup', 3),\n",
       " ('for', 3),\n",
       " ('av', 3),\n",
       " ('er', 3),\n",
       " ('store', 3),\n",
       " ('hadde', 3),\n",
       " ('ung', 3),\n",
       " ('det', 3),\n",
       " ('de', 3),\n",
       " ('så', 3),\n",
       " ('Mad', 2),\n",
       " ('familien', 2),\n",
       " ('1839', 2),\n",
       " ('1840', 2),\n",
       " ('ankom', 2),\n",
       " ('få', 2),\n",
       " ('hun', 2),\n",
       " ('mens', 2),\n",
       " ('ut', 2),\n",
       " ('ble', 2),\n",
       " ('sto', 2),\n",
       " ('også', 2),\n",
       " ('Da', 2),\n",
       " ('fruen', 2),\n",
       " ('Den', 2),\n",
       " ('fru', 2),\n",
       " ('vakre', 2),\n",
       " ('kors', 2),\n",
       " ('etter', 2),\n",
       " ('datoen', 2),\n",
       " ('døde', 2),\n",
       " ('født', 1),\n",
       " ('1788', 1),\n",
       " ('Christiane', 1),\n",
       " ('Jane', 1),\n",
       " ('1779', 1),\n",
       " ('1853', 1),\n",
       " ('ugifte', 1),\n",
       " ('Juliane', 1),\n",
       " ('Augusta', 1),\n",
       " ('Bolette', 1),\n",
       " ('Sibbern', 1),\n",
       " ('erfare', 1),\n",
       " ('forlot', 1),\n",
       " ('bolig', 1),\n",
       " ('tidspunkter', 1),\n",
       " ('frukten', 1),\n",
       " ('kjærlighetsaffære', 1),\n",
       " ('Ektemannen', 1),\n",
       " ('gammel', 1),\n",
       " ('skravlekopp', 1),\n",
       " ('skade', 1),\n",
       " ('tjenestepiken', 1),\n",
       " ('gå', 1),\n",
       " ('hodet', 1),\n",
       " ('maistang', 1),\n",
       " ('beskjeftigelse', 1),\n",
       " ('kronprinsessen', 1),\n",
       " ('hoffdamer', 1),\n",
       " ('brukte', 1),\n",
       " ('timer', 1),\n",
       " ('der', 1),\n",
       " ('skulle', 1),\n",
       " ('oppholde', 1),\n",
       " ('seg', 1),\n",
       " ('gemal', 1),\n",
       " ('foretok', 1),\n",
       " ('sin', 1),\n",
       " ('norgesreise', 1),\n",
       " ('former', 1),\n",
       " ('tandre', 1),\n",
       " ('men', 1),\n",
       " ('faste', 1),\n",
       " ('plass', 1),\n",
       " ('smøg', 1),\n",
       " ('armen', 1),\n",
       " ('rundt', 1),\n",
       " ('skuldre', 1),\n",
       " ('eller', 1),\n",
       " ('Dahll', 1),\n",
       " ('klemte', 1),\n",
       " ('selskap', 1),\n",
       " ('tegnet', 1),\n",
       " ('Til', 1),\n",
       " ('glede', 1),\n",
       " ('tok', 1),\n",
       " ('skisse', 1),\n",
       " ('Jeg', 1),\n",
       " ('spurte', 1),\n",
       " ('henne', 1),\n",
       " ('beskjeftigelser', 1),\n",
       " ('hva', 1),\n",
       " ('likte', 1),\n",
       " ('egnen', 1),\n",
       " ('anholdt', 1),\n",
       " ('hånd', 1),\n",
       " ('Etter', 1),\n",
       " ('selv', 1),\n",
       " ('reist', 1),\n",
       " ('seks', 1),\n",
       " ('barn', 1),\n",
       " ('presentert', 1),\n",
       " ('kronprinsen', 1),\n",
       " ('formidabel', 1),\n",
       " ('parykk', 1),\n",
       " ('suksessive', 1),\n",
       " ('ektemenn', 1),\n",
       " ('måltidet', 1),\n",
       " ('mor', 1),\n",
       " ('førstnevnte', 1),\n",
       " ('nokså', 1),\n",
       " ('smukk', 1),\n",
       " ('lå', 1),\n",
       " ('spedbarnet', 1),\n",
       " ('sengs', 1),\n",
       " ('Vi', 1),\n",
       " ('svært', 1),\n",
       " ('lukket', 1),\n",
       " ('skoddene', 1),\n",
       " ('ektemannen', 1),\n",
       " ('ser', 1),\n",
       " ('stengte', 1),\n",
       " ('vinduslemmene', 1),\n",
       " ('vei', 1),\n",
       " ('høy', 1),\n",
       " ('stjerne', 1),\n",
       " ('hos', 1),\n",
       " ('små', 1),\n",
       " ('moret', 1),\n",
       " ('dagen', 1),\n",
       " ('Georges', 1),\n",
       " ('vært', 1),\n",
       " ('uheldig', 1),\n",
       " ('skrape', 1),\n",
       " ('beskrivelse', 1),\n",
       " ('strenge', 1),\n",
       " ('vintrene', 1),\n",
       " ('skar', 1),\n",
       " ('far', 1),\n",
       " ('herr', 1),\n",
       " ('Mørk', 1),\n",
       " ('portrettene', 1),\n",
       " ('Magda', 1),\n",
       " ('sønner', 1),\n",
       " ('ga', 1),\n",
       " ('vandring', 1),\n",
       " ('langs', 1),\n",
       " ('alleene', 1),\n",
       " ('hagen', 1),\n",
       " ('Hun', 1),\n",
       " ('kjente', 1),\n",
       " ('dem', 1),\n",
       " ('nesten', 1),\n",
       " ('ikke', 1),\n",
       " ('livlig', 1),\n",
       " ('vittig', 1),\n",
       " ('frøken', 1),\n",
       " ('Trampe', 1),\n",
       " ('hilse', 1),\n",
       " ('mannen', 1),\n",
       " ('embetsmann', 1),\n",
       " ('alvorlig', 1),\n",
       " ('mine', 1),\n",
       " ('sorte', 1),\n",
       " ('sørgmodige', 1),\n",
       " ('øynene', 1),\n",
       " ('sterk', 1),\n",
       " ('kontrast', 1),\n",
       " ('lyse', 1),\n",
       " ('håret', 1),\n",
       " ('pyntet', 1),\n",
       " ('ekte', 1),\n",
       " ('fuksiaer', 1),\n",
       " ('ulike', 1),\n",
       " ('modeller', 1),\n",
       " ('usikkert', 1),\n",
       " ('hvordan', 1),\n",
       " ('Kilde', 1),\n",
       " (':', 1),\n",
       " ('Ingrid', 1),\n",
       " ('9.12.1808', 1),\n",
       " ('Sara', 1),\n",
       " ('Endnu', 1),\n",
       " ('3.11.1808', 1),\n",
       " ('sønn', 1),\n",
       " ('Wilhelm', 1),\n",
       " ('Neppe', 1),\n",
       " ('I', 1),\n",
       " ('Byen', 1),\n",
       " ('første', 1),\n",
       " ('Samtale', 1),\n",
       " ('min', 1),\n",
       " ('stille', 1),\n",
       " ('Maja', 1),\n",
       " ('andre', 1),\n",
       " ('fragmentene', 1),\n",
       " ('egenhendige', 1),\n",
       " ('trykkmanuskript', 1),\n",
       " ('lykkelige', 1),\n",
       " ('alder', 1),\n",
       " ('Ms.8', 1),\n",
       " ('°', 1),\n",
       " ('3615', 1),\n",
       " ('Nils', 1),\n",
       " ('Collett', 1),\n",
       " ('Vogt', 1),\n",
       " ('2.', 1)]"
      ]
     },
     "execution_count": 6,
     "metadata": {},
     "output_type": "execute_result"
    }
   ],
   "source": [
    "coll(['hennes'], kilder_korpus).most_common()"
   ]
  },
  {
   "cell_type": "markdown",
   "metadata": {},
   "source": [
    "# Se på en bestemt bok"
   ]
  },
  {
   "cell_type": "code",
   "execution_count": 7,
   "metadata": {},
   "outputs": [
    {
     "name": "stdout",
     "output_type": "stream",
     "text": [
      "4. september 1867\n",
      "Kjere Bjørnson .\n",
      "Da jeg hørte De var i Kjøbenhavn , kom det mig som et Vink fra Oven , at henvende mig til Dem .\n",
      "Kan De ikke redde mig af min Nød ? . . den dobbelte , at se sit aandelige Arbeide spildt og se sig skuffet for den jordiske materielle Løn derfor , hvilken Sidste vi saa gjerne ville ignorere om vi kunde , vilde overse som noget Ringe , indtil vi en vakker Dag mærke at vor hele Existenz afhænger af den , og at vi bedre kunne undvære Æren , end et Par fattige lumpne hundrede Daler .\n",
      "For at sætte Dem korteligt ind i dette , vil jeg sige Dem , at siden min Søn EmilsEmil Collett ( 1848 – 1904 ) Anbringelse paa fremmet Sted , samtidig med uopfyldte Forpligtelser fra Andres Side ( TønsbergHenning B. Tønsberg ( 1837 – 81 ) samme Høst 120 Spd ) jeg har jeg maattet lære hvad Nød og Forlegenhed , lammet Livsmod og Virksomhed vil sige . Det var blot i gamle Dage at Digterne kunde leve af Maaneskin og Skovluft men de have taget Recepten til denne Kunst med i Graven , thi vist er det at vi ikke kjende den .\n",
      "Med stor Anstrengelse har jeg midt under denne Lammelse , knuget af den haarde Vinter , forberedt min lille Bogmin lille Bog ] « Sidste Blade . Erindinger og Bekjendelser » ( 1868 ) til Trykken . Den vil indeholde Skildringer og Digte . Ligeledes har jeg , hvad vigtigere er , forberedende ordnet min Mands skriftlige Efterladenskaber der vil blive en langt større , vægtigere Bog end min , begge i Haab om at erholde Midler til at løse mig ud herfra , for at kunne søge en lille Havn blandt Fremmede under Vilkaar , der vare mindre haarde og kuende end dem i Hjemmet , hvor nu paa en Maade min hele huslige Existenz er oprykket siden min sidste Søn drog ud – – – ( mindre fjern mig dog , end de Andre der have fæstet sig til rige Slægtninge ! )\n",
      "Tiden gaar , snart bliver det for sent . Siden jeg kom hjem fra en 3 Ugers Ferie paa Jarlsberg har jeg neppe et Fodfæste her , da mit Logi , allerede tidlig opsagt , blev snappet bort af en anden Leier og mit Bohave bortflyttet . De kjere Bjørnson , maa hjelpe mig . Dem maatte det lykkes at skaffe mig en Forlægger i Kjøbenh . til begge disse Bøger , og paa Betingelser der snarlig kunde bringe mig Hjelpen .\n",
      "Der er vistnok allerede gjort Forsøg derpaa , men ikke med saadan Vægt , d v s . understøttet af saadanne Garantier , at man kunde opnaa andet end ubestemte Svar . En anden Magt vilde den mundtlige Underhandling kunne have , helst naar den pleiedes af en Mand som Bjørnson der har stor Indflydelse dernede .\n",
      "For eget Vedkommende kan jeg , hvis kun henvise til mine tidligere trykte Arbeider , og den Modtagelse de have faaet . Den har altid været omtrent den samme ; det sidste bedømtes maaske mest velvilligt . Jeg har kun en Maade at arbeide paa : bestræbe mig for i færreste Ord at sige saameget som muligt . Det er en temmelig ufordelagtig Maade , og jeg har i Grunden ikke Raad til den . De bedre Læsere ville dog vurdere den og vide En Tak for at man sparer deres Tid , saa at de i 3 – 4 Ark kunne faa det samme Kvantum Indhold som en svensk eller tydsk Vielschreiberinne magelig kunde udtvære i 20 . Men De har selv bedste Bjørnson , gjort Dem bekjendt med en Prøve af min Bog , som De maaske ikke finder uværdig til at grunde en Anbefalingpaa , ( der i Deres Mund vil have særdeles Vægt ) – hvis en saadan yderligere Garanti skulde forlanges .\n",
      "« Jonas Colletts efterladte Skrifter » ville fornemmelig komme til at bestaa af Breve fra Udlandet : Paris München , Venedig , Rom , Kjøbenh . – Christiania – foruden nogle forhen trykte , dels æsthetiske , dels kritiske Opsatser – endvidere endel Digte . Af disse Breve eier jeg omtrent 300 . Efter mine Tanker kunde de Alle , lige til det mindste Blad fortjene at offentliggjøres . Men mangehaande Hensyn forbyder naturligvis dette , og sætter store Indskrænkninger . De have alle en stor Formskjønhed og en egen Ynde i Stilen , og udtale hans Tids Raisonnements over sin Tids Tilstande og Begivenheder paa en overlegen men meget temmelig skarp Maade , altimedens dog hans varmeste , dybeste Følelsesliv ogsaa bryder frem . Hartvig LassenHartvig Lassen ( 1824 – 97 ) var meget indtaget i de Prøver jeg lod ham se , og det vilde være mig en let Sag at faa hans varme Anbefaling , ligesom jeg er vis paa , at Colletts endnu levende danske Venner , hvoriblandt Folk som WintherChristian Winther ( 1796 – 1876 ) , Paludan MøllerFrederik Paludan-Müller ( 1809 – 76 ) , HauchJohannes Carsten Hauch ( 1790 – 1872 ) , PlougCarl Parmo Ploug ( 1813 – 94 ) , GjødvadJens Finsteen Giødwad ( 1811 – 91 ) , KriegerAndreas Frederik Krieger ( 1817 – 93 ) , Fru HeibergJohanne Luise Heiberg ( 1812 – 90 ) , om jeg henvendte mig til DemDem ] trolig feil for dem , gjerne med sin Stemme vilde understøtte dette Foretagende . Jeg vedlægger et lille Digt som jeg tænkte maaske kunde udfylde en Fortales Plads . Sig mig om De tror det gaar an . Det er min inderlige , af alle partiske Hensyn uafhængige Overbevisning at Colletts Bog vil gjøre Lykke .\n",
      "Bedste Bjørnson ! Skaf mig en Forlægger til disse stakkels , ellers Forglemmelsen og Tilintetgjørelsen hjemfaldne Manuscripter . Paa en Maade staar og falder jeg selv med DemDem ] trolig feil for dem . Faar jeg dem ikke snarest muligt solgt til mod et anstændigt Honorar , saa er jeg ogsaa « solgt » og man kan kaste mig i Ovnen med dem .\n",
      "Med et anstændigt Honorar mener jeg 15 Spd Arket . Er det ubeskedent ? Det er det mindste der nogensinde blev budt mig og betalt for mine Bøger , ( I de l . N. ) I de l . N. ] I de lange Nætter ( 1863 ) af Cappelen , fordi det var neppe 14 Dage før Jul , altsaa i seneste Lag . Det er tror jeg , ogsaa detdet ] trolig feil for den almindelige Norm nede i Danmark . Under denne Pris , 15 Spd Arket , i samme Format som mine tidligere her udkomne Bøger , nemlig paa 26 Linier Spalten lønner det sig ikke for mig at skrive , da jeg som sagt anvender denne minutiøse Omhyggelighed paa Formen , og som ikke har lært den Kunst at være vidtløftig .\n",
      "Den unge Tønsberg har plaget mig meget for at faa et Bidrag til hans Boghans Bog ] antologien Ved Løvfaldstid ( 1867 ) . Jeg blev tilsidst nødt til at tage et Stykke ud af mit eget Manuscript , med den lovende Udsigt maaske Intet at faa derfor . Jeg valgte « Billeder fra Christiania i 5 Breve » hvori meget om Theatret fordi disse taale mindst at gjemmes forlænge .\n",
      "Deres StykkeDeres Stykke ] trolig De Nygifte ( 1865 ) , har som jeg hører gjort stor Lykke , hvortil jeg hjertelig lykønsker Dem . Vi Norske trænge til Alt hvad Fremmede kunne yde os . Vi maa varmes ved fremmede Barme skulle vi kunne friste Livet .\n",
      "Venligst Hilsen til Deres KoneKaroline Bjørnson ( 1835 – 1934 ) . Hvorledes hun befinder sig ( ? ! ) Hvad Planer der ere fattede for Vinteren ( Italien ? Kjøbenhavn ? ) ja dette vilde interessere mig at vide , og et Par Ord derom , naar De , som jeg haaber lader høre fra Dem , vilde glæde\n",
      "Deres forbundne Camilla C.\n",
      "Jeg venter kun et Vink dernede fra . Hvis jeg faar et saadant antageligt Tilbud , tager jeg snarest muligt ned til Kjøbenhavn for selv at lede Trykningen og corrigere , om ønskes . Derfra drager jeg da syd paa . Jeg kan kun afhænde Manuscripterne mod contant Honorar . Jeg kan det ikke anderledes . Gud være med dem !\n",
      "27. september 1867\n",
      "Kjære Bjørnstjerne Bjørnson !\n",
      "De takker mig for den Tillid jeg viser Dem , ja , i detsamme blev jeg mig bevidst at jeg havde den , at jeg kunde havt Mistillid , netop her . Det kommer ikke af at Andre ikke tilstrækkelig har ægget denne ved Forestillinger og Fremstillinger som det vil være ganske overflødigt at gjentage for Dem , men det kommer af at jeg selv er næsten stupid uimodtagelig for det man kalder PartilidenskabPartilidenskab ] rettet fra Partilidenskaber ved overskriving har ondt for at forudsætte den for Andre . Jeg har i det hele ondt for Mistillid , og De Bjørnson vækker den ikke .\n",
      "Da Tiden var kort til megen Brevvexling , bestræbte jeg mig i forrige Brev at imødegaa saavidt som muligt Tvivl og Spørgsmaal . Jeg fortalte dog ikke at jeg allerede før har henvendt mig til HegelFrederik V. Hegel ( 1817 – 87 ) , sendte ham i Vaar engang som Prøve paa mit lille , ham tilbudte Arbeide 3 a 4 Stykker . Paa dette modtog jeg et særdeles høfligt og artigt – Afslag hvortil han angav en praktisk Grund – for sent , for tidlig ? at vove noget – Voveligt : i det Hele fik jeg Indtrykket af at det var Hr Hegels æsthetiske Formening at det jeg bød ham , var noget Jux , som sandsynligt blot vilde volde ham Tab hvis han indlod sig dermed . Hvorvidt det nu kan fordrages med den Smule Forfatterstolthet – der endnu kan være levnet En – at forfølge Sagen videre , om her kan være Misforstaaelser at løse , om man overhovedet har skal bringe nogen Stolthed med og ikke lade den være ganske hjemme ved saadanne Tilfælder , det overlader jeg til Dem at afgjøre , som jeg i det Hele tror at De vil raade mig det Bedste .\n",
      "I Anledning Deres Oplysning ang . Honorar , og at dette retter sig efter Oplagets Størrelse , da blive en Berigtigelse fra min Side maaske nødvendig . Naar jeg har nævnt et Honorar i Lighed med det flere norske Forfattere har af Hegel ( 15 Spd Arket ) saa har jeg ikke ment dermed for Oplaget , men en Gang forResten av brevet er tapt .\n",
      "[ 27. oktober 1867 ]\n",
      "Hr Bjørnstjerne Bjørnson !\n",
      "Efter et høist anstrengende Gjennemsyn af Colletts Breve , gik jeg i Gaar hen til HegelFrederik V. Hegel ( 1817 – 87 ) for at treffe Aftale med ham med Hensyn til Bøgerne , grundet paa det bestemte Tilsagn jeg har erholdt gjennem Dem – men blev meget overrasket ved igjen at blive tilbagevist . En saadan Behandling kræver en Forklaring som jeg tror mig berettiget til at forlange af Bjørnson .\n",
      "Vel har Hegel med Hensyn til Colletts Bog , givet et ubestemt Løfte , og har beholdt de Breve jeg gav ham til Prøve . Næsten mere krænkende bliver dette for mig – den eneste af de norske Forfattere der paa denne Maade er begegnetbegegnet ] behandlet ( ODS ) .\n",
      "Hvad vil jeg tale om Krænkelser ! min hele øieblikkelige Existenz afhang [ af ] at jeg strax hernede fik min lille Bog forlagt og betalt , for derved at vinde Kræfter og Midler til den langt vanskeligere Opgave der forelaa mig , at bringe Colletts Bog Manuscripter istand til Trykken . Lokket som jeg i Sandhed var ved Deres Brev kan jeg nu hverken frem eller tilbage .\n",
      "Jeg sidder her alene , langt fra MineMine ] rettet fra mine ved overskriving , fuldstændig mod- og raadløs – og skulde saa gjerne , orgløsorgløs ] orkløs , orkeløs = kraftløs , svak ( ODS ) som jeg maaske for meget er – drage ud til Dem for at høre Deres Tanker om dette – men De ved nok Bjørnson , at hverken De eller Deres Frue har nogensinde opmuntret mine Besøg hos Dem , jeg kan ikke i dette Øieblik finde Frihed til at gjøre det . Min venligste Hilsen forresten .\n",
      "Camilla Collett .\n",
      "12. november 1867\n",
      "Hr Bjørnstjerne Bjørnson !\n",
      "Da jeg maa udlede af Deres Forhold at det Dem til Aftrykning i Folkebladet tilsendte Digt : « Til Hedevig » , ikke benyttes , saa er jeg saa fri at gjentage min Anmodning om snarest at faa det tilbagesendt .\n",
      "Jeg vil bede Dem ikke glemme at Forslag og Tilbud oprindelig kom fra Dem , og at kun Omstændigheder har tvunget mig til her at møde Dem .\n",
      "Camilla Collett .\n",
      "17. november 1867\n",
      "Hr Bjørnstjerne Bjørnson !\n",
      "Da jeg sendte Dem hin Sanghin Sang ] Til Hedevig , har jeg i høfligste Udtryk , bedet Dem , hvis De ikke benyttede den ( derfor kunde der være kommet uforudsete Hindringer ) da strax at sende mig den tilbage .\n",
      "Mit Arrangement med Hegel bød , at jeg ordnede og forseglede alt hvad han skulde have . Jeg ventede i 10 Dage uden at værdiges et Brev , og jeg skulde reise .\n",
      "Jeg gjentog min Anmodning og faar Deres Skrivelse , der i en Grad har forbauset mig , at jeg endnu maa tvivle paa at den er stilet til mig .\n",
      "Der er noget uskjønsomt , ubearbeidet i Deres Natur . Alle Egenskaber og Eiendommeligheder hos et Menneske kan man haabe at overvinde , naar man vil vindet det , men Utaknemlighed støder Guder og Mennesker bort .\n",
      "Der var en Tid da De oppe hos os var mere ubefæstet end De nu er , hvor jeg efter Evne kjæmpede for Dem og søgte at bane Dem Vei . Jeg beundrede Deres Evner og følte mig grebet af det friske Liv der vældede ud af hvert nyt Skrift , jeg troede paa noget tilsvarende i Deres Karakter og Personlighed . Smigre aabenlyst kunde jeg ikke , kan det ikke . Har jeg nævnt Dem flygtig i et Skrift , har det været et ironisk EchoEcho ] rettet fra Ecco ved overskriving af Andres Opfatning af Dem , jeg tog mig selv med.\n",
      "Samtidig rev De mig aabenlyst ned , hernede i Danmark , og gjorde alt for at vække Mistro mod mig . Den « stygge Bog » spøgte endnu fornylig igjen i Hr Sødringsikke identifisert Korresspondance .\n",
      "Hvad jeg har erfaret hernede er kun en Gjentagelse .\n",
      "Deres Brev er saa enestaaende , ja en saadan Plet paa Dem , at jeg vilde skamme mig som Landsmand om Nogen Fremmet erfor derom .\n",
      "Men jeg sender det til mine Sønner , der engang skulle vide at drage Dem til Regnskab for hvad De deri tillader Dem at sige mig . Hvert Ord skrevet til Dem , har jeg heldigvis Afskrift af .\n",
      "Ingen Forklaring , intet Brev fra Deres Haand modtages mere .\n",
      "Jeg er Ene og ubeskyttet mod den Slags Angreb .\n",
      "Camilla Collett .\n",
      "Kjøbenh . den 17 Nov . 1867.\n",
      "Sangen , tilbudt Dem under andre Forudsætninger , vil jeg helst have tilbage . Det beror paa Dem om De vil komme et Ønske imøde , og i saa Fald behage De at nedlægge den hos Hegel .\n"
     ]
    }
   ],
   "source": [
    "print('\\n'.join([' '.join(y) for y in kilder_korpus['NBkilder_Collett_Brev_til_Bjornson.xml']]))"
   ]
  },
  {
   "cell_type": "markdown",
   "metadata": {},
   "source": [
    "# Konkordanser\n",
    "\n",
    "Litt kode til å begynne med, konkordanser nedenfor."
   ]
  },
  {
   "cell_type": "code",
   "execution_count": 8,
   "metadata": {},
   "outputs": [
    {
     "data": {
      "text/plain": [
       "{'NBkilder_Amundsen_Slededagbok.xml': [(108, [381]), (219, [112])],\n",
       " 'NBkilder_Collett_Brev_1841-51.xml': [(186, [187]),\n",
       "  (247, [20]),\n",
       "  (270, [901])],\n",
       " 'NBkilder_Collett_Brev_1852-63.xml': [(21, [33]),\n",
       "  (128, [507]),\n",
       "  (151, [84]),\n",
       "  (264, [195]),\n",
       "  (360, [138]),\n",
       "  (384, [260]),\n",
       "  (389, [135]),\n",
       "  (582, [192])],\n",
       " 'NBkilder_Collett_Brev_til_Bjornson.xml': [(16, [54])],\n",
       " 'NBkilder_Collett_Brev_til_Ibsen.xml': [(102, [32]), (151, [15])],\n",
       " 'NBkilder_Collett_Brev_til_Lie.xml': [(4, [65]),\n",
       "  (17, [165]),\n",
       "  (19, [66]),\n",
       "  (52, [268])],\n",
       " 'NBkilder_Collett_Skildpadde.xml': [(27, [850])],\n",
       " 'NBkilder_Dardel_Voyage.xml': [],\n",
       " 'NBkilder_Grunnlovskilder1814.xml': [],\n",
       " 'NBkilder_Kjerulf_1833.xml': [],\n",
       " 'NBkilder_Kjerulf_1840.xml': [],\n",
       " 'NBkilder_Kjerulf_1850.xml': [(165, [43]), (246, [716])],\n",
       " 'NBkilder_Kjerulf_1851.xml': [(69, [290])],\n",
       " 'NBkilder_Kjerulf_1852.xml': [],\n",
       " 'NBkilder_Kjerulf_1854.xml': [],\n",
       " 'NBkilder_KKielland_AGarborg_brev.xml': [(50, [47]),\n",
       "  (72, [721]),\n",
       "  (123, [118]),\n",
       "  (215, [850]),\n",
       "  (275, [66]),\n",
       "  (309, [135]),\n",
       "  (334, [52]),\n",
       "  (432, [108])],\n",
       " 'NBkilder_KKielland_DSkavlan_brev.xml': [(102, [513])],\n",
       " 'NBkilder_KKielland_EPeterssen_brev.xml': [(68, [273]),\n",
       "  (114, [470, 521]),\n",
       "  (133, [556]),\n",
       "  (157, [238])],\n",
       " 'NBkilder_Koren_1798.xml': [(4, [74]), (15, [661])],\n",
       " 'NBkilder_Koren_1802.xml': [(9, [136]),\n",
       "  (44, [32]),\n",
       "  (48, [251]),\n",
       "  (236, [234]),\n",
       "  (280, [33]),\n",
       "  (349, [30]),\n",
       "  (357, [110]),\n",
       "  (400, [42, 56]),\n",
       "  (402, [130]),\n",
       "  (485, [37]),\n",
       "  (510, [10])],\n",
       " 'NBkilder_Koren_1805.xml': [],\n",
       " 'NBkilder_Koren_1808.xml': [(153, [8]),\n",
       "  (154, [109]),\n",
       "  (166, [247]),\n",
       "  (262, [400]),\n",
       "  (363, [40]),\n",
       "  (364, [28, 38]),\n",
       "  (384, [174]),\n",
       "  (510, [115]),\n",
       "  (540, [45]),\n",
       "  (550, [19]),\n",
       "  (724, [201]),\n",
       "  (778, [128]),\n",
       "  (798, [135]),\n",
       "  (801, [60]),\n",
       "  (807, [163])],\n",
       " 'NBkilder_Koren_1809.xml': [(49, [71]),\n",
       "  (59, [58, 66, 88]),\n",
       "  (73, [188]),\n",
       "  (181, [125]),\n",
       "  (284, [75]),\n",
       "  (286, [25, 44]),\n",
       "  (312, [113]),\n",
       "  (357, [47]),\n",
       "  (397, [232]),\n",
       "  (455, [14]),\n",
       "  (458, [47]),\n",
       "  (485, [69]),\n",
       "  (534, [162]),\n",
       "  (560, [285]),\n",
       "  (623, [75]),\n",
       "  (673, [140]),\n",
       "  (675, [109]),\n",
       "  (684, [108]),\n",
       "  (942, [26])],\n",
       " 'NBkilder_Koren_1810.xml': [(47, [562]),\n",
       "  (111, [147]),\n",
       "  (123, [203]),\n",
       "  (136, [329]),\n",
       "  (168, [43]),\n",
       "  (463, [111]),\n",
       "  (474, [443]),\n",
       "  (575, [102]),\n",
       "  (704, [284]),\n",
       "  (750, [91]),\n",
       "  (821, [228]),\n",
       "  (828, [98]),\n",
       "  (898, [253]),\n",
       "  (943, [460]),\n",
       "  (1037, [10])],\n",
       " 'NBkilder_Koren_1811.xml': [(56, [285]),\n",
       "  (131, [3]),\n",
       "  (172, [48]),\n",
       "  (273, [102]),\n",
       "  (302, [124]),\n",
       "  (332, [404]),\n",
       "  (362, [325]),\n",
       "  (363, [42]),\n",
       "  (370, [115]),\n",
       "  (382, [128]),\n",
       "  (432, [82]),\n",
       "  (449, [616]),\n",
       "  (459, [70]),\n",
       "  (475, [96]),\n",
       "  (504, [120]),\n",
       "  (551, [215]),\n",
       "  (578, [36]),\n",
       "  (598, [145]),\n",
       "  (636, [499]),\n",
       "  (652, [45]),\n",
       "  (667, [5]),\n",
       "  (779, [104]),\n",
       "  (780, [86]),\n",
       "  (826, [173])],\n",
       " 'NBkilder_Koren_1812.xml': [(11, [110]),\n",
       "  (55, [214]),\n",
       "  (63, [290]),\n",
       "  (70, [567, 1018]),\n",
       "  (159, [198]),\n",
       "  (226, [92]),\n",
       "  (234, [75]),\n",
       "  (263, [103]),\n",
       "  (332, [308]),\n",
       "  (379, [45]),\n",
       "  (457, [310]),\n",
       "  (466, [236]),\n",
       "  (498, [39]),\n",
       "  (501, [129]),\n",
       "  (502, [35]),\n",
       "  (548, [514]),\n",
       "  (619, [164]),\n",
       "  (767, [17]),\n",
       "  (778, [58, 78]),\n",
       "  (810, [41]),\n",
       "  (920, [122])],\n",
       " 'NBkilder_Koren_1813.xml': [(3, [6]),\n",
       "  (4, [62]),\n",
       "  (48, [203]),\n",
       "  (135, [414]),\n",
       "  (208, [257]),\n",
       "  (265, [83]),\n",
       "  (294, [152]),\n",
       "  (328, [183]),\n",
       "  (353, [192]),\n",
       "  (359, [151]),\n",
       "  (425, [1078]),\n",
       "  (547, [45]),\n",
       "  (570, [374]),\n",
       "  (605, [495]),\n",
       "  (621, [61]),\n",
       "  (630, [177]),\n",
       "  (649, [152]),\n",
       "  (663, [86]),\n",
       "  (708, [208]),\n",
       "  (745, [39]),\n",
       "  (759, [125])],\n",
       " 'NBkilder_Koren_1814.xml': [(2, [101, 108]),\n",
       "  (43, [101]),\n",
       "  (97, [290]),\n",
       "  (142, [30]),\n",
       "  (154, [485]),\n",
       "  (189, [244]),\n",
       "  (198, [231]),\n",
       "  (208, [15]),\n",
       "  (211, [108]),\n",
       "  (213, [71])],\n",
       " 'NBkilder_Koren_1815.xml': [(6, [183])],\n",
       " 'NBkilder_Undset_Fragmenter.xml': []}"
      ]
     },
     "execution_count": 8,
     "metadata": {},
     "output_type": "execute_result"
    }
   ],
   "source": [
    "actual_konk = konk(['anderledes'], kilder_korpus)\n",
    "actual_konk"
   ]
  },
  {
   "cell_type": "markdown",
   "metadata": {},
   "source": [
    "## konkordanser med markdown\n",
    "\n",
    "Med og uten regulærer uttrykk"
   ]
  },
  {
   "cell_type": "code",
   "execution_count": 9,
   "metadata": {},
   "outputs": [
    {
     "data": {
      "text/markdown": [
       "### Konkordanser for *jeg er*"
      ],
      "text/plain": [
       "<IPython.core.display.Markdown object>"
      ]
     },
     "metadata": {},
     "output_type": "display_data"
    },
    {
     "data": {
      "text/markdown": [
       "#### NBkilder_Collett_Brev_1841-51.xml"
      ],
      "text/plain": [
       "<IPython.core.display.Markdown object>"
      ]
     },
     "metadata": {},
     "output_type": "display_data"
    },
    {
     "data": {
      "text/markdown": [
       "6: at han er saa lykkelig , og at jeg er saa elskværdig mod ham . Jeg"
      ],
      "text/plain": [
       "<IPython.core.display.Markdown object>"
      ]
     },
     "metadata": {},
     "output_type": "display_data"
    },
    {
     "data": {
      "text/markdown": [
       "6: saa elskværdig mod ham . Jeg troer ogsaa jeg er det , men hvorledes skulde det"
      ],
      "text/plain": [
       "<IPython.core.display.Markdown object>"
      ]
     },
     "metadata": {},
     "output_type": "display_data"
    },
    {
     "data": {
      "text/markdown": [
       "82: troe ikke jeg knurrer engang – men naar jeg er færdig er jeg erschöpft , erschöpft"
      ],
      "text/plain": [
       "<IPython.core.display.Markdown object>"
      ]
     },
     "metadata": {},
     "output_type": "display_data"
    },
    {
     "data": {
      "text/markdown": [
       "88: Bedste , Ædleste som gives , og at jeg er det Eneste han elsker . Hvilken"
      ],
      "text/plain": [
       "<IPython.core.display.Markdown object>"
      ]
     },
     "metadata": {},
     "output_type": "display_data"
    },
    {
     "data": {
      "text/markdown": [
       "94: aldrig . kunde være tilfreds , jeg føler jeg er det i Grunden hans Kjerlighed kan"
      ],
      "text/plain": [
       "<IPython.core.display.Markdown object>"
      ]
     },
     "metadata": {},
     "output_type": "display_data"
    },
    {
     "data": {
      "text/markdown": [
       "95: paa den Maade men jeg føler dybt at jeg er begunstigt fremfor 1000 og det giver"
      ],
      "text/plain": [
       "<IPython.core.display.Markdown object>"
      ]
     },
     "metadata": {},
     "output_type": "display_data"
    },
    {
     "data": {
      "text/markdown": [
       "114: saa godt som det efter Omstændighederne kunde , jeg er virkelig glad i Udbyttet – at"
      ],
      "text/plain": [
       "<IPython.core.display.Markdown object>"
      ]
     },
     "metadata": {},
     "output_type": "display_data"
    },
    {
     "data": {
      "text/markdown": [
       "116: et Ord om Dig og mig . Da jeg er Frue , maae jeg have Forrangen"
      ],
      "text/plain": [
       "<IPython.core.display.Markdown object>"
      ]
     },
     "metadata": {},
     "output_type": "display_data"
    },
    {
     "data": {
      "text/markdown": [
       "138: – dog det sidste er uvist – ja jeg er ikke engang ganske vis paa Fuglestegen"
      ],
      "text/plain": [
       "<IPython.core.display.Markdown object>"
      ]
     },
     "metadata": {},
     "output_type": "display_data"
    },
    {
     "data": {
      "text/markdown": [
       "148: Breve min C. overgaae imidlertid endnu mine , jeg er villig til at erkjende dette ."
      ],
      "text/plain": [
       "<IPython.core.display.Markdown object>"
      ]
     },
     "metadata": {},
     "output_type": "display_data"
    },
    {
     "data": {
      "text/markdown": [
       "221: . Havde Du ikke Lyst en Aften medens jeg er borte at bede Welh.Welh . ]"
      ],
      "text/plain": [
       "<IPython.core.display.Markdown object>"
      ]
     },
     "metadata": {},
     "output_type": "display_data"
    },
    {
     "data": {
      "text/markdown": [
       "221: Georg Sibbern ( 1816 – 1901 ) at jeg er oprigtig bedrøvet over at han skal"
      ],
      "text/plain": [
       "<IPython.core.display.Markdown object>"
      ]
     },
     "metadata": {},
     "output_type": "display_data"
    },
    {
     "data": {
      "text/markdown": [
       "263: og gjennem den ogsaa til Din – Naar jeg er glad holder jeg mest af Dig"
      ],
      "text/plain": [
       "<IPython.core.display.Markdown object>"
      ]
     },
     "metadata": {},
     "output_type": "display_data"
    },
    {
     "data": {
      "text/markdown": [
       "265: ved Fremmedes Næ [ r ] værelse . jeg er skinsyg over enhver Afbrydelse . Kom"
      ],
      "text/plain": [
       "<IPython.core.display.Markdown object>"
      ]
     },
     "metadata": {},
     "output_type": "display_data"
    },
    {
     "data": {
      "text/markdown": [
       "274: "
      ],
      "text/plain": [
       "<IPython.core.display.Markdown object>"
      ]
     },
     "metadata": {},
     "output_type": "display_data"
    },
    {
     "data": {
      "text/markdown": [
       "274: Dig at jeg er mild og god naar jeg er sorgløs og uden Plage . Lev"
      ],
      "text/plain": [
       "<IPython.core.display.Markdown object>"
      ]
     },
     "metadata": {},
     "output_type": "display_data"
    },
    {
     "data": {
      "text/markdown": [
       "295: jeg har ikke forsøgt en eneste Linie . jeg er aldeles paa det Rene med mig"
      ],
      "text/plain": [
       "<IPython.core.display.Markdown object>"
      ]
     },
     "metadata": {},
     "output_type": "display_data"
    },
    {
     "data": {
      "text/markdown": [
       "316: mig deroppe , kommer der dog Øieblikke hvori jeg er uvisuvis ] Streket under med en"
      ],
      "text/plain": [
       "<IPython.core.display.Markdown object>"
      ]
     },
     "metadata": {},
     "output_type": "display_data"
    },
    {
     "data": {
      "text/markdown": [
       "331: en Feil der ikke kunde rettes – at jeg er saa alene her . Næsten alle"
      ],
      "text/plain": [
       "<IPython.core.display.Markdown object>"
      ]
     },
     "metadata": {},
     "output_type": "display_data"
    },
    {
     "data": {
      "text/markdown": [
       "331: Fru Münster , begge har Børn med. Naar jeg er alene er jeg mere alene end"
      ],
      "text/plain": [
       "<IPython.core.display.Markdown object>"
      ]
     },
     "metadata": {},
     "output_type": "display_data"
    },
    {
     "data": {
      "text/markdown": [
       "333: har Nød med at skjøtte mig selv – jeg er jo overladt til disse Fremmedes Vilkaarlighed"
      ],
      "text/plain": [
       "<IPython.core.display.Markdown object>"
      ]
     },
     "metadata": {},
     "output_type": "display_data"
    },
    {
     "data": {
      "text/markdown": [
       "357: har aldrig været saa rask som nu , jeg er bleven saa feed at jeg maae"
      ],
      "text/plain": [
       "<IPython.core.display.Markdown object>"
      ]
     },
     "metadata": {},
     "output_type": "display_data"
    },
    {
     "data": {
      "text/markdown": [
       "357: Oscar maae være en god Erstatning , men jeg er bange I ville komme til at"
      ],
      "text/plain": [
       "<IPython.core.display.Markdown object>"
      ]
     },
     "metadata": {},
     "output_type": "display_data"
    },
    {
     "data": {
      "text/markdown": [
       "#### NBkilder_Collett_Brev_1852-63.xml"
      ],
      "text/plain": [
       "<IPython.core.display.Markdown object>"
      ]
     },
     "metadata": {},
     "output_type": "display_data"
    },
    {
     "data": {
      "text/markdown": [
       "45: kan det endvidere fornøie Dem at høre at jeg er færdig at døe af Længsel efter"
      ],
      "text/plain": [
       "<IPython.core.display.Markdown object>"
      ]
     },
     "metadata": {},
     "output_type": "display_data"
    },
    {
     "data": {
      "text/markdown": [
       "48: nogle juridiske Opsatser , Attester og desligt synes jeg er bedre opbevaret hos Dem Johan og"
      ],
      "text/plain": [
       "<IPython.core.display.Markdown object>"
      ]
     },
     "metadata": {},
     "output_type": "display_data"
    },
    {
     "data": {
      "text/markdown": [
       "56: Raad . Carl er meget god , og jeg er saare glad ved at have dette"
      ],
      "text/plain": [
       "<IPython.core.display.Markdown object>"
      ]
     },
     "metadata": {},
     "output_type": "display_data"
    },
    {
     "data": {
      "text/markdown": [
       "60: 58 ) , ugift da hils hende at jeg er taknemlig for BrevetBrevet ] Vi kjenner"
      ],
      "text/plain": [
       "<IPython.core.display.Markdown object>"
      ]
     },
     "metadata": {},
     "output_type": "display_data"
    },
    {
     "data": {
      "text/markdown": [
       "71: blot bede Brynie paatage sig Sagen , som jeg er vis paa han vil med sin"
      ],
      "text/plain": [
       "<IPython.core.display.Markdown object>"
      ]
     },
     "metadata": {},
     "output_type": "display_data"
    },
    {
     "data": {
      "text/markdown": [
       "96: dobbelt Grund » sagde han « først fordi jeg er fremmed og fordi jeg er Herregaardsmand"
      ],
      "text/plain": [
       "<IPython.core.display.Markdown object>"
      ]
     },
     "metadata": {},
     "output_type": "display_data"
    },
    {
     "data": {
      "text/markdown": [
       "96: « først fordi jeg er fremmed og fordi jeg er Herregaardsmand , ja de sige det"
      ],
      "text/plain": [
       "<IPython.core.display.Markdown object>"
      ]
     },
     "metadata": {},
     "output_type": "display_data"
    },
    {
     "data": {
      "text/markdown": [
       "100: og denne det volder mig sand Glæde , jeg er paa det Venligste opfordret til at"
      ],
      "text/plain": [
       "<IPython.core.display.Markdown object>"
      ]
     },
     "metadata": {},
     "output_type": "display_data"
    },
    {
     "data": {
      "text/markdown": [
       "110: , » O ja det er bedrøveligt og jeg er vred paa mig selv at jeg"
      ],
      "text/plain": [
       "<IPython.core.display.Markdown object>"
      ]
     },
     "metadata": {},
     "output_type": "display_data"
    },
    {
     "data": {
      "text/markdown": [
       "128: en Menage som er lidt anderledes end den jeg er vant til , Min Morgen begynder"
      ],
      "text/plain": [
       "<IPython.core.display.Markdown object>"
      ]
     },
     "metadata": {},
     "output_type": "display_data"
    },
    {
     "data": {
      "text/markdown": [
       "149: Led i dette behagelige Kløverblad . Han troer jeg er en skikkelig Mand men som plages"
      ],
      "text/plain": [
       "<IPython.core.display.Markdown object>"
      ]
     },
     "metadata": {},
     "output_type": "display_data"
    },
    {
     "data": {
      "text/markdown": [
       "257: et Brev , jeg har ikke kunnet , jeg er saa slap i Aanden , klage"
      ],
      "text/plain": [
       "<IPython.core.display.Markdown object>"
      ]
     },
     "metadata": {},
     "output_type": "display_data"
    },
    {
     "data": {
      "text/markdown": [
       "275: dernede , saa vil jeg ikke angre at jeg er vendt tilbage til vor stille By"
      ],
      "text/plain": [
       "<IPython.core.display.Markdown object>"
      ]
     },
     "metadata": {},
     "output_type": "display_data"
    },
    {
     "data": {
      "text/markdown": [
       "323: saa træt ."
      ],
      "text/plain": [
       "<IPython.core.display.Markdown object>"
      ]
     },
     "metadata": {},
     "output_type": "display_data"
    },
    {
     "data": {
      "text/markdown": [
       "332: Livet hernede hvad der kan interessere Dig , jeg er saa lidet med , at jeg"
      ],
      "text/plain": [
       "<IPython.core.display.Markdown object>"
      ]
     },
     "metadata": {},
     "output_type": "display_data"
    },
    {
     "data": {
      "text/markdown": [
       "364: nærmeste Omgivelse , maa jeg have det som jeg er vant til det , jeg kan"
      ],
      "text/plain": [
       "<IPython.core.display.Markdown object>"
      ]
     },
     "metadata": {},
     "output_type": "display_data"
    },
    {
     "data": {
      "text/markdown": [
       "477: vel endnu borte fra Dato . Hver Dag jeg er borte fra Chr.Chr . ] dvs."
      ],
      "text/plain": [
       "<IPython.core.display.Markdown object>"
      ]
     },
     "metadata": {},
     "output_type": "display_data"
    },
    {
     "data": {
      "text/markdown": [
       "515: er jo ikke heller for Gevindsten Skyld , jeg er og vil ansee mig lønnet ved"
      ],
      "text/plain": [
       "<IPython.core.display.Markdown object>"
      ]
     },
     "metadata": {},
     "output_type": "display_data"
    },
    {
     "data": {
      "text/markdown": [
       "565: kan ikke hjelpe dem kjere Johan , men jeg er virkelig sparsommelig og ordentlig , jeg"
      ],
      "text/plain": [
       "<IPython.core.display.Markdown object>"
      ]
     },
     "metadata": {},
     "output_type": "display_data"
    },
    {
     "data": {
      "text/markdown": [
       "#### NBkilder_Collett_Brev_til_Bjornson.xml"
      ],
      "text/plain": [
       "<IPython.core.display.Markdown object>"
      ]
     },
     "metadata": {},
     "output_type": "display_data"
    },
    {
     "data": {
      "text/markdown": [
       "9: Sag at faa hans varme Anbefaling , ligesom jeg er vis paa , at Colletts endnu"
      ],
      "text/plain": [
       "<IPython.core.display.Markdown object>"
      ]
     },
     "metadata": {},
     "output_type": "display_data"
    },
    {
     "data": {
      "text/markdown": [
       "#### NBkilder_Collett_Brev_til_Ibsen.xml"
      ],
      "text/plain": [
       "<IPython.core.display.Markdown object>"
      ]
     },
     "metadata": {},
     "output_type": "display_data"
    },
    {
     "data": {
      "text/markdown": [
       "110: Ak jeg ved ikke hvordan det er , jeg er mer melankolsk end nogensinde før denne"
      ],
      "text/plain": [
       "<IPython.core.display.Markdown object>"
      ]
     },
     "metadata": {},
     "output_type": "display_data"
    },
    {
     "data": {
      "text/markdown": [
       "156: overskriving jeg vil en Aftenstund glemme at « jeg er i Kristiania » . Deres Camilla"
      ],
      "text/plain": [
       "<IPython.core.display.Markdown object>"
      ]
     },
     "metadata": {},
     "output_type": "display_data"
    },
    {
     "data": {
      "text/markdown": [
       "172: af Kvinden . Os skade det ikke Og jeg er fotet om at enhver skikkelig Mand"
      ],
      "text/plain": [
       "<IPython.core.display.Markdown object>"
      ]
     },
     "metadata": {},
     "output_type": "display_data"
    },
    {
     "data": {
      "text/markdown": [
       "#### NBkilder_Collett_Brev_til_Lie.xml"
      ],
      "text/plain": [
       "<IPython.core.display.Markdown object>"
      ]
     },
     "metadata": {},
     "output_type": "display_data"
    },
    {
     "data": {
      "text/markdown": [
       "15: kan derfor uden Ubeskedenhed modtage det sendte , jeg er fornøiet dermed og takker Dem til"
      ],
      "text/plain": [
       "<IPython.core.display.Markdown object>"
      ]
     },
     "metadata": {},
     "output_type": "display_data"
    },
    {
     "data": {
      "text/markdown": [
       "45: ° 3496 ) faa dette afsat ? Hvorfor jeg er den Eneste af hans norske Forlagsbørn"
      ],
      "text/plain": [
       "<IPython.core.display.Markdown object>"
      ]
     },
     "metadata": {},
     "output_type": "display_data"
    },
    {
     "data": {
      "text/markdown": [
       "52: det anderledes , vilde jeg ikke være den jeg er ."
      ],
      "text/plain": [
       "<IPython.core.display.Markdown object>"
      ]
     },
     "metadata": {},
     "output_type": "display_data"
    },
    {
     "data": {
      "text/markdown": [
       "54: Dem for Bogen . Jeg tilstår , at jeg er bleven for gammel for Genren ,"
      ],
      "text/plain": [
       "<IPython.core.display.Markdown object>"
      ]
     },
     "metadata": {},
     "output_type": "display_data"
    },
    {
     "data": {
      "text/markdown": [
       "102: erindrer ikke en Eneste af dem , at jeg er til ."
      ],
      "text/plain": [
       "<IPython.core.display.Markdown object>"
      ]
     },
     "metadata": {},
     "output_type": "display_data"
    },
    {
     "data": {
      "text/markdown": [
       "116: , sige ham dette , sige ham at jeg er ganske uskikket til den Slags active"
      ],
      "text/plain": [
       "<IPython.core.display.Markdown object>"
      ]
     },
     "metadata": {},
     "output_type": "display_data"
    },
    {
     "data": {
      "text/markdown": [
       "127: 1833 – 1907 ) jeg i den Stemning jeg er alene kunde ønske at treffe ,"
      ],
      "text/plain": [
       "<IPython.core.display.Markdown object>"
      ]
     },
     "metadata": {},
     "output_type": "display_data"
    },
    {
     "data": {
      "text/markdown": [
       "#### NBkilder_Collett_Skildpadde.xml"
      ],
      "text/plain": [
       "<IPython.core.display.Markdown object>"
      ]
     },
     "metadata": {},
     "output_type": "display_data"
    },
    {
     "data": {
      "text/markdown": [
       "7: Constitutionelle ( 1836 – 47 ) imod da jeg er fuldkommen enig med Dem , at"
      ],
      "text/plain": [
       "<IPython.core.display.Markdown object>"
      ]
     },
     "metadata": {},
     "output_type": "display_data"
    },
    {
     "data": {
      "text/markdown": [
       "25: forebygge at min Interesse ogsaa omfattede Forfatteren ? jeg er selv ikke enig om var Digteren"
      ],
      "text/plain": [
       "<IPython.core.display.Markdown object>"
      ]
     },
     "metadata": {},
     "output_type": "display_data"
    },
    {
     "data": {
      "text/markdown": [
       "27: , men fordi mine Evner strande her , jeg er saaledes ikke istand til at forklare"
      ],
      "text/plain": [
       "<IPython.core.display.Markdown object>"
      ]
     },
     "metadata": {},
     "output_type": "display_data"
    },
    {
     "data": {
      "text/markdown": [
       "27: 1913 : ' sirligste ' Tænder , ( jeg er en stor Ynder af hvide Tænder"
      ],
      "text/plain": [
       "<IPython.core.display.Markdown object>"
      ]
     },
     "metadata": {},
     "output_type": "display_data"
    },
    {
     "data": {
      "text/markdown": [
       "41: Det er Skade , sagde jeg , thi jeg er just en Elsker af forbuden Frugt"
      ],
      "text/plain": [
       "<IPython.core.display.Markdown object>"
      ]
     },
     "metadata": {},
     "output_type": "display_data"
    },
    {
     "data": {
      "text/markdown": [
       "47: gives Øieblikke , skjelden kostbare Øieblikke , hvor jeg er lykkelig uden noget bestemt Hvorfor ,"
      ],
      "text/plain": [
       "<IPython.core.display.Markdown object>"
      ]
     },
     "metadata": {},
     "output_type": "display_data"
    },
    {
     "data": {
      "text/markdown": [
       "47: jeg er lykkelig uden noget bestemt Hvorfor , jeg er det i mig selv , jeg"
      ],
      "text/plain": [
       "<IPython.core.display.Markdown object>"
      ]
     },
     "metadata": {},
     "output_type": "display_data"
    },
    {
     "data": {
      "text/markdown": [
       "62: over dette unbefangne , ich auch , men jeg er heller ikke længer henrykt . Sengene"
      ],
      "text/plain": [
       "<IPython.core.display.Markdown object>"
      ]
     },
     "metadata": {},
     "output_type": "display_data"
    },
    {
     "data": {
      "text/markdown": [
       "64: – « Jeg troede De ønskede den , jeg er bange De bliver brun af Solen"
      ],
      "text/plain": [
       "<IPython.core.display.Markdown object>"
      ]
     },
     "metadata": {},
     "output_type": "display_data"
    },
    {
     "data": {
      "text/markdown": [
       "#### NBkilder_Dardel_Voyage.xml"
      ],
      "text/plain": [
       "<IPython.core.display.Markdown object>"
      ]
     },
     "metadata": {},
     "output_type": "display_data"
    },
    {
     "data": {
      "text/markdown": [
       "781: og tenker med takknemlighet på den rause gjestfriheten jeg er blitt møtt med , og den"
      ],
      "text/plain": [
       "<IPython.core.display.Markdown object>"
      ]
     },
     "metadata": {},
     "output_type": "display_data"
    },
    {
     "data": {
      "text/markdown": [
       "#### NBkilder_Kjerulf_1840.xml"
      ],
      "text/plain": [
       "<IPython.core.display.Markdown object>"
      ]
     },
     "metadata": {},
     "output_type": "display_data"
    },
    {
     "data": {
      "text/markdown": [
       "8: – Men denne tomme Opregnen duer ikke og jeg er igrunden en Lægmand i Bedømmelsen af"
      ],
      "text/plain": [
       "<IPython.core.display.Markdown object>"
      ]
     },
     "metadata": {},
     "output_type": "display_data"
    },
    {
     "data": {
      "text/markdown": [
       "19: en Fioriture og smiler og leer – og jeg er stum , jeg er ikke istand"
      ],
      "text/plain": [
       "<IPython.core.display.Markdown object>"
      ]
     },
     "metadata": {},
     "output_type": "display_data"
    },
    {
     "data": {
      "text/markdown": [
       "19: og leer – og jeg er stum , jeg er ikke istand til røre mig thi"
      ],
      "text/plain": [
       "<IPython.core.display.Markdown object>"
      ]
     },
     "metadata": {},
     "output_type": "display_data"
    },
    {
     "data": {
      "text/markdown": [
       "31: Men jeg var næsten i Taarer , thi jeg er ung endda . Ak ! disse"
      ],
      "text/plain": [
       "<IPython.core.display.Markdown object>"
      ]
     },
     "metadata": {},
     "output_type": "display_data"
    },
    {
     "data": {
      "text/markdown": [
       "37: d . 18 : En Dag endnu og jeg er her ikke mere . Jeg kan"
      ],
      "text/plain": [
       "<IPython.core.display.Markdown object>"
      ]
     },
     "metadata": {},
     "output_type": "display_data"
    },
    {
     "data": {
      "text/markdown": [
       "46: denne Aften og jeg havde svigtet hende – jeg er vis paa hun aldrig vil tilgive"
      ],
      "text/plain": [
       "<IPython.core.display.Markdown object>"
      ]
     },
     "metadata": {},
     "output_type": "display_data"
    },
    {
     "data": {
      "text/markdown": [
       "#### NBkilder_Kjerulf_1850.xml"
      ],
      "text/plain": [
       "<IPython.core.display.Markdown object>"
      ]
     },
     "metadata": {},
     "output_type": "display_data"
    },
    {
     "data": {
      "text/markdown": [
       "21: ( ganske stille ) . Aa jo – jeg er dog fornøiet med Gade – han"
      ],
      "text/plain": [
       "<IPython.core.display.Markdown object>"
      ]
     },
     "metadata": {},
     "output_type": "display_data"
    },
    {
     "data": {
      "text/markdown": [
       "47: dog vel langt og noget enstonigt – men jeg er slet ikke vis derpaa . Det"
      ],
      "text/plain": [
       "<IPython.core.display.Markdown object>"
      ]
     },
     "metadata": {},
     "output_type": "display_data"
    },
    {
     "data": {
      "text/markdown": [
       "184: seet . Vi blive snart kjendte ; men jeg er for træt til at drikke Øl"
      ],
      "text/plain": [
       "<IPython.core.display.Markdown object>"
      ]
     },
     "metadata": {},
     "output_type": "display_data"
    },
    {
     "data": {
      "text/markdown": [
       "293: med Sperati . – Th . mener at jeg er saa slem at skrive til ."
      ],
      "text/plain": [
       "<IPython.core.display.Markdown object>"
      ]
     },
     "metadata": {},
     "output_type": "display_data"
    },
    {
     "data": {
      "text/markdown": [
       "#### NBkilder_Kjerulf_1851.xml"
      ],
      "text/plain": [
       "<IPython.core.display.Markdown object>"
      ]
     },
     "metadata": {},
     "output_type": "display_data"
    },
    {
     "data": {
      "text/markdown": [
       "162: — Aftenen i det kgl . Theater hvor jeg er meget heldig . Man giver Scribes"
      ],
      "text/plain": [
       "<IPython.core.display.Markdown object>"
      ]
     },
     "metadata": {},
     "output_type": "display_data"
    },
    {
     "data": {
      "text/markdown": [
       "222: ordentl sungne – men ingen Applaus ( hvad jeg er vant til – neml til ingen"
      ],
      "text/plain": [
       "<IPython.core.display.Markdown object>"
      ]
     },
     "metadata": {},
     "output_type": "display_data"
    },
    {
     "data": {
      "text/markdown": [
       "#### NBkilder_Kjerulf_1852.xml"
      ],
      "text/plain": [
       "<IPython.core.display.Markdown object>"
      ]
     },
     "metadata": {},
     "output_type": "display_data"
    },
    {
     "data": {
      "text/markdown": [
       "376: 15 Idag ankom Wankel & Timlers Flügel og jeg er vel tilfreds med det . –"
      ],
      "text/plain": [
       "<IPython.core.display.Markdown object>"
      ]
     },
     "metadata": {},
     "output_type": "display_data"
    },
    {
     "data": {
      "text/markdown": [
       "#### NBkilder_KKielland_AGarborg_brev.xml"
      ],
      "text/plain": [
       "<IPython.core.display.Markdown object>"
      ]
     },
     "metadata": {},
     "output_type": "display_data"
    },
    {
     "data": {
      "text/markdown": [
       "13: "
      ],
      "text/plain": [
       "<IPython.core.display.Markdown object>"
      ]
     },
     "metadata": {},
     "output_type": "display_data"
    },
    {
     "data": {
      "text/markdown": [
       "16: , at Menneskene er misundelige Dyr , og jeg er et Menneske ."
      ],
      "text/plain": [
       "<IPython.core.display.Markdown object>"
      ]
     },
     "metadata": {},
     "output_type": "display_data"
    },
    {
     "data": {
      "text/markdown": [
       "33: frisindet , at Du husker paa , at jeg er menneske . Slutten mangler"
      ],
      "text/plain": [
       "<IPython.core.display.Markdown object>"
      ]
     },
     "metadata": {},
     "output_type": "display_data"
    },
    {
     "data": {
      "text/markdown": [
       "61: , at jeg fremdeles skriver lidt virvar , jeg er heller ikke frisk , temmelig daarlig"
      ],
      "text/plain": [
       "<IPython.core.display.Markdown object>"
      ]
     },
     "metadata": {},
     "output_type": "display_data"
    },
    {
     "data": {
      "text/markdown": [
       "72: Jeg tror saa sikkert paa den , og jeg er saa spændt paa den , gid"
      ],
      "text/plain": [
       "<IPython.core.display.Markdown object>"
      ]
     },
     "metadata": {},
     "output_type": "display_data"
    },
    {
     "data": {
      "text/markdown": [
       "72: . Aa nei det er vel , fordi jeg er kommet i vane med at snakke"
      ],
      "text/plain": [
       "<IPython.core.display.Markdown object>"
      ]
     },
     "metadata": {},
     "output_type": "display_data"
    },
    {
     "data": {
      "text/markdown": [
       "101: kvinnesak som kristendomsfiendtlig . Du synes , at jeg er ækel nu , jeg ved det"
      ],
      "text/plain": [
       "<IPython.core.display.Markdown object>"
      ]
     },
     "metadata": {},
     "output_type": "display_data"
    },
    {
     "data": {
      "text/markdown": [
       "108: saa urimelig . Jeg mærker det , at jeg er saa infamt underlegen , naar der"
      ],
      "text/plain": [
       "<IPython.core.display.Markdown object>"
      ]
     },
     "metadata": {},
     "output_type": "display_data"
    },
    {
     "data": {
      "text/markdown": [
       "109: lægger mit besyv . Du forstaar , at jeg er varm og begeistret for den bogen"
      ],
      "text/plain": [
       "<IPython.core.display.Markdown object>"
      ]
     },
     "metadata": {},
     "output_type": "display_data"
    },
    {
     "data": {
      "text/markdown": [
       "110: jeg skal forsømme min egen kunst , men jeg er nu saa gammel , at kan"
      ],
      "text/plain": [
       "<IPython.core.display.Markdown object>"
      ]
     },
     "metadata": {},
     "output_type": "display_data"
    },
    {
     "data": {
      "text/markdown": [
       "111: , forfatter han føler sig alene , ja jeg er vis paa , at om bare"
      ],
      "text/plain": [
       "<IPython.core.display.Markdown object>"
      ]
     },
     "metadata": {},
     "output_type": "display_data"
    },
    {
     "data": {
      "text/markdown": [
       "123: fint og bravt skrevet end mit , men jeg er jo en idiot . Og dengang"
      ],
      "text/plain": [
       "<IPython.core.display.Markdown object>"
      ]
     },
     "metadata": {},
     "output_type": "display_data"
    },
    {
     "data": {
      "text/markdown": [
       "124: ) . Dette blir vist bravt , hvorover jeg er stolt , men du verden ,"
      ],
      "text/plain": [
       "<IPython.core.display.Markdown object>"
      ]
     },
     "metadata": {},
     "output_type": "display_data"
    },
    {
     "data": {
      "text/markdown": [
       "140: paa sligt . Ikke for det , – jeg er ræd jeg kunde finde paa det"
      ],
      "text/plain": [
       "<IPython.core.display.Markdown object>"
      ]
     },
     "metadata": {},
     "output_type": "display_data"
    },
    {
     "data": {
      "text/markdown": [
       "148: sygeligt . For har jeg saasandt , at jeg er gaaet indover grændsen af den lille"
      ],
      "text/plain": [
       "<IPython.core.display.Markdown object>"
      ]
     },
     "metadata": {},
     "output_type": "display_data"
    },
    {
     "data": {
      "text/markdown": [
       "165: jeg ikke havde ham . Nu , da jeg er angergiven , synes jeg forresten at"
      ],
      "text/plain": [
       "<IPython.core.display.Markdown object>"
      ]
     },
     "metadata": {},
     "output_type": "display_data"
    },
    {
     "data": {
      "text/markdown": [
       "215: Du bare faar den bandsat gale forestilling at jeg er blevet en tørpamp og en snerpe"
      ],
      "text/plain": [
       "<IPython.core.display.Markdown object>"
      ]
     },
     "metadata": {},
     "output_type": "display_data"
    },
    {
     "data": {
      "text/markdown": [
       "224: Arbeide hvis det behandles ikke altfor hensynsløst – jeg er meget fornøiet med det . Vilde"
      ],
      "text/plain": [
       "<IPython.core.display.Markdown object>"
      ]
     },
     "metadata": {},
     "output_type": "display_data"
    },
    {
     "data": {
      "text/markdown": [
       "224: gjort mig lidt mere kold og vond end jeg er af Naturen . Jeg kunde ha"
      ],
      "text/plain": [
       "<IPython.core.display.Markdown object>"
      ]
     },
     "metadata": {},
     "output_type": "display_data"
    },
    {
     "data": {
      "text/markdown": [
       "224: Pøbelen omkring og misforstaar mig derhen , at jeg er et Svin , som vil Svineri"
      ],
      "text/plain": [
       "<IPython.core.display.Markdown object>"
      ]
     },
     "metadata": {},
     "output_type": "display_data"
    },
    {
     "data": {
      "text/markdown": [
       "224: . ] til at afgive Forsikringer om at jeg er et skikkeligt Menneske osv. kan jeg"
      ],
      "text/plain": [
       "<IPython.core.display.Markdown object>"
      ]
     },
     "metadata": {},
     "output_type": "display_data"
    },
    {
     "data": {
      "text/markdown": [
       "267: … han lever i den Tro , at jeg er sint paa ham , fordi han"
      ],
      "text/plain": [
       "<IPython.core.display.Markdown object>"
      ]
     },
     "metadata": {},
     "output_type": "display_data"
    },
    {
     "data": {
      "text/markdown": [
       "307: da han blir rent utaalmodig over , at jeg er saa langt væk . At jeg"
      ],
      "text/plain": [
       "<IPython.core.display.Markdown object>"
      ]
     },
     "metadata": {},
     "output_type": "display_data"
    },
    {
     "data": {
      "text/markdown": [
       "307: hvert blir det mig næsten uudholdeligt , naar jeg er daalig at ligge her ganske alene"
      ],
      "text/plain": [
       "<IPython.core.display.Markdown object>"
      ]
     },
     "metadata": {},
     "output_type": "display_data"
    },
    {
     "data": {
      "text/markdown": [
       "308: de ere ikke af de værste , men jeg er nu ræd for at se dem"
      ],
      "text/plain": [
       "<IPython.core.display.Markdown object>"
      ]
     },
     "metadata": {},
     "output_type": "display_data"
    },
    {
     "data": {
      "text/markdown": [
       "308: doktorsamvittighed , og finder han ikke , at jeg er daarlig nok , saa faar jeg"
      ],
      "text/plain": [
       "<IPython.core.display.Markdown object>"
      ]
     },
     "metadata": {},
     "output_type": "display_data"
    },
    {
     "data": {
      "text/markdown": [
       "308: Jeg kan nok ved egen kraft , da jeg er en harhaus , blive bedre med"
      ],
      "text/plain": [
       "<IPython.core.display.Markdown object>"
      ]
     },
     "metadata": {},
     "output_type": "display_data"
    },
    {
     "data": {
      "text/markdown": [
       "322: ( det er græsk ! ) – Og jeg er sandt at sige lidt vant med"
      ],
      "text/plain": [
       "<IPython.core.display.Markdown object>"
      ]
     },
     "metadata": {},
     "output_type": "display_data"
    },
    {
     "data": {
      "text/markdown": [
       "332: , lengter , føler – altsammen . Naar jeg er færdig med det første Udkast ,"
      ],
      "text/plain": [
       "<IPython.core.display.Markdown object>"
      ]
     },
     "metadata": {},
     "output_type": "display_data"
    },
    {
     "data": {
      "text/markdown": [
       "360: eller været mig vanskeligere at forstaa ; men jeg er vis paa , at det ikke"
      ],
      "text/plain": [
       "<IPython.core.display.Markdown object>"
      ]
     },
     "metadata": {},
     "output_type": "display_data"
    },
    {
     "data": {
      "text/markdown": [
       "371: se at komme isæng før 11 , da jeg er saa træt idag . Velkommen snart"
      ],
      "text/plain": [
       "<IPython.core.display.Markdown object>"
      ]
     },
     "metadata": {},
     "output_type": "display_data"
    },
    {
     "data": {
      "text/markdown": [
       "388: . Du har sat Dig i Hovedet at jeg er en Huggeblok , og at jeg"
      ],
      "text/plain": [
       "<IPython.core.display.Markdown object>"
      ]
     },
     "metadata": {},
     "output_type": "display_data"
    },
    {
     "data": {
      "text/markdown": [
       "400: jeg ikke være Huleboer ? Det er det jeg er skabt til . Heroppe er det"
      ],
      "text/plain": [
       "<IPython.core.display.Markdown object>"
      ]
     },
     "metadata": {},
     "output_type": "display_data"
    },
    {
     "data": {
      "text/markdown": [
       "403: for Vinteren . Skjæld mig ud , fordi jeg er saa slap og lei ( skjønt"
      ],
      "text/plain": [
       "<IPython.core.display.Markdown object>"
      ]
     },
     "metadata": {},
     "output_type": "display_data"
    },
    {
     "data": {
      "text/markdown": [
       "433: seede paa den Maade , og jeg synes jeg er kommen nærmere Lyset og det høieste"
      ],
      "text/plain": [
       "<IPython.core.display.Markdown object>"
      ]
     },
     "metadata": {},
     "output_type": "display_data"
    },
    {
     "data": {
      "text/markdown": [
       "433: som egentlig bare er det enfoldigste . Og jeg er virkelig glad , naar nogen siger"
      ],
      "text/plain": [
       "<IPython.core.display.Markdown object>"
      ]
     },
     "metadata": {},
     "output_type": "display_data"
    },
    {
     "data": {
      "text/markdown": [
       "434: En af Dagene kanske faar Du høre at jeg er væk – har vovet et nyt"
      ],
      "text/plain": [
       "<IPython.core.display.Markdown object>"
      ]
     },
     "metadata": {},
     "output_type": "display_data"
    },
    {
     "data": {
      "text/markdown": [
       "434: Vær imidlertid snil og tag mig for den jeg er , og vær flink til PariserudstillingenPariserudstillingen"
      ],
      "text/plain": [
       "<IPython.core.display.Markdown object>"
      ]
     },
     "metadata": {},
     "output_type": "display_data"
    },
    {
     "data": {
      "text/markdown": [
       "#### NBkilder_KKielland_DSkavlan_brev.xml"
      ],
      "text/plain": [
       "<IPython.core.display.Markdown object>"
      ]
     },
     "metadata": {},
     "output_type": "display_data"
    },
    {
     "data": {
      "text/markdown": [
       "25: maleriet hun fikk antatt i 1881 . Hvorfor jeg er idag i meget slet humeur ."
      ],
      "text/plain": [
       "<IPython.core.display.Markdown object>"
      ]
     },
     "metadata": {},
     "output_type": "display_data"
    },
    {
     "data": {
      "text/markdown": [
       "43: Kitty og Dagmar . Du synes kanske , jeg er lidt vigtig , men det har"
      ],
      "text/plain": [
       "<IPython.core.display.Markdown object>"
      ]
     },
     "metadata": {},
     "output_type": "display_data"
    },
    {
     "data": {
      "text/markdown": [
       "47: . Søster av Kitty og Dagmar . og jeg er begyndt at skrive om , at"
      ],
      "text/plain": [
       "<IPython.core.display.Markdown object>"
      ]
     },
     "metadata": {},
     "output_type": "display_data"
    },
    {
     "data": {
      "text/markdown": [
       "51: hermed ogsaa antyde Magda og sige , hvad jeg er komme til at tro om hende"
      ],
      "text/plain": [
       "<IPython.core.display.Markdown object>"
      ]
     },
     "metadata": {},
     "output_type": "display_data"
    },
    {
     "data": {
      "text/markdown": [
       "57: til nogen , kjære dig , synes du jeg er ukvindelig , saa sig det ,"
      ],
      "text/plain": [
       "<IPython.core.display.Markdown object>"
      ]
     },
     "metadata": {},
     "output_type": "display_data"
    },
    {
     "data": {
      "text/markdown": [
       "57: jeg er ukvindelig , saa sig det , jeg er saa fyldt af den Sorg ,"
      ],
      "text/plain": [
       "<IPython.core.display.Markdown object>"
      ]
     },
     "metadata": {},
     "output_type": "display_data"
    },
    {
     "data": {
      "text/markdown": [
       "57: efter min Mening demoraliserende Ægteskab . Ja Dagmar jeg er næsten kommen til at den ugifte"
      ],
      "text/plain": [
       "<IPython.core.display.Markdown object>"
      ]
     },
     "metadata": {},
     "output_type": "display_data"
    },
    {
     "data": {
      "text/markdown": [
       "58: du Mændene er morsomme at tale med og jeg er mangen Gang meget indtaget i Øieblikket"
      ],
      "text/plain": [
       "<IPython.core.display.Markdown object>"
      ]
     },
     "metadata": {},
     "output_type": "display_data"
    },
    {
     "data": {
      "text/markdown": [
       "72: var blævet vred over mit lange brev – jeg er en kujon ser Du . At"
      ],
      "text/plain": [
       "<IPython.core.display.Markdown object>"
      ]
     },
     "metadata": {},
     "output_type": "display_data"
    },
    {
     "data": {
      "text/markdown": [
       "76: andre , jeg tror , at ens eget jeg er det vigtigste for en selv ,"
      ],
      "text/plain": [
       "<IPython.core.display.Markdown object>"
      ]
     },
     "metadata": {},
     "output_type": "display_data"
    },
    {
     "data": {
      "text/markdown": [
       "76: men det er ækelt at føle , at jeg er saa lidet frisk , at jeg"
      ],
      "text/plain": [
       "<IPython.core.display.Markdown object>"
      ]
     },
     "metadata": {},
     "output_type": "display_data"
    },
    {
     "data": {
      "text/markdown": [
       "78: er hyggeligt at de kommer herud , men jeg er lidt bange for at jeg efter"
      ],
      "text/plain": [
       "<IPython.core.display.Markdown object>"
      ]
     },
     "metadata": {},
     "output_type": "display_data"
    },
    {
     "data": {
      "text/markdown": [
       "85: noksaa skral , hun misunder mig næsten at jeg er saa frisk eller rettere ønsker det"
      ],
      "text/plain": [
       "<IPython.core.display.Markdown object>"
      ]
     },
     "metadata": {},
     "output_type": "display_data"
    },
    {
     "data": {
      "text/markdown": [
       "106: "
      ],
      "text/plain": [
       "<IPython.core.display.Markdown object>"
      ]
     },
     "metadata": {},
     "output_type": "display_data"
    },
    {
     "data": {
      "text/markdown": [
       "106: Laache ( 1867 – 1946 ) . og jeg er altid sammen , hun maa leve"
      ],
      "text/plain": [
       "<IPython.core.display.Markdown object>"
      ]
     },
     "metadata": {},
     "output_type": "display_data"
    },
    {
     "data": {
      "text/markdown": [
       "#### NBkilder_KKielland_EPeterssen_brev.xml"
      ],
      "text/plain": [
       "<IPython.core.display.Markdown object>"
      ]
     },
     "metadata": {},
     "output_type": "display_data"
    },
    {
     "data": {
      "text/markdown": [
       "2: jeg kan saa vanskelig være skarpretter , og jeg er ikke kritisk , ved de ?"
      ],
      "text/plain": [
       "<IPython.core.display.Markdown object>"
      ]
     },
     "metadata": {},
     "output_type": "display_data"
    },
    {
     "data": {
      "text/markdown": [
       "13: paa jernbanen vilde ikke tage imod dem , jeg er overbevist om , at det var"
      ],
      "text/plain": [
       "<IPython.core.display.Markdown object>"
      ]
     },
     "metadata": {},
     "output_type": "display_data"
    },
    {
     "data": {
      "text/markdown": [
       "19: studier , men det kan godt være , jeg er kommet ind paa noget andet nu"
      ],
      "text/plain": [
       "<IPython.core.display.Markdown object>"
      ]
     },
     "metadata": {},
     "output_type": "display_data"
    },
    {
     "data": {
      "text/markdown": [
       "27: "
      ],
      "text/plain": [
       "<IPython.core.display.Markdown object>"
      ]
     },
     "metadata": {},
     "output_type": "display_data"
    },
    {
     "data": {
      "text/markdown": [
       "29: jeg faa nok at gjøre . Men hvor jeg er ynkelig , det er rent komisk"
      ],
      "text/plain": [
       "<IPython.core.display.Markdown object>"
      ]
     },
     "metadata": {},
     "output_type": "display_data"
    },
    {
     "data": {
      "text/markdown": [
       "51: , om det er lykkedes eller ei ; jeg er bleven fêteret , intviteret – kort"
      ],
      "text/plain": [
       "<IPython.core.display.Markdown object>"
      ]
     },
     "metadata": {},
     "output_type": "display_data"
    },
    {
     "data": {
      "text/markdown": [
       "68: alle Folk tror at jeg morer , og jeg er altfor – ja jeg ved ikke"
      ],
      "text/plain": [
       "<IPython.core.display.Markdown object>"
      ]
     },
     "metadata": {},
     "output_type": "display_data"
    },
    {
     "data": {
      "text/markdown": [
       "68: at ville forsøge at modbevise det . Og jeg er heller ikke frisk ; hoster skrækkeligt"
      ],
      "text/plain": [
       "<IPython.core.display.Markdown object>"
      ]
     },
     "metadata": {},
     "output_type": "display_data"
    },
    {
     "data": {
      "text/markdown": [
       "68: drømmer blandt meget Andet hver Nat , at jeg er på mit Atelier og arbeider ."
      ],
      "text/plain": [
       "<IPython.core.display.Markdown object>"
      ]
     },
     "metadata": {},
     "output_type": "display_data"
    },
    {
     "data": {
      "text/markdown": [
       "68: er Noget i Luften , som gjør at jeg er fuldstændig « tummelumsk » i Hovedet"
      ],
      "text/plain": [
       "<IPython.core.display.Markdown object>"
      ]
     },
     "metadata": {},
     "output_type": "display_data"
    },
    {
     "data": {
      "text/markdown": [
       "68: Jeg må ofte bebreide mig selv , at jeg er så lidet glad i at være"
      ],
      "text/plain": [
       "<IPython.core.display.Markdown object>"
      ]
     },
     "metadata": {},
     "output_type": "display_data"
    },
    {
     "data": {
      "text/markdown": [
       "89: at få det så på Atelieret , at jeg er helst der ; thi hvor opmærksomme"
      ],
      "text/plain": [
       "<IPython.core.display.Markdown object>"
      ]
     },
     "metadata": {},
     "output_type": "display_data"
    },
    {
     "data": {
      "text/markdown": [
       "89: ikke Alvor i Noget af det – men jeg er stygt bange for , at han"
      ],
      "text/plain": [
       "<IPython.core.display.Markdown object>"
      ]
     },
     "metadata": {},
     "output_type": "display_data"
    },
    {
     "data": {
      "text/markdown": [
       "93: ikke lad dem indvirke paa , undskyld at jeg er saa vigtig at sige det ."
      ],
      "text/plain": [
       "<IPython.core.display.Markdown object>"
      ]
     },
     "metadata": {},
     "output_type": "display_data"
    },
    {
     "data": {
      "text/markdown": [
       "95: 1906 ) , maler . om dette , jeg er gjerrig paa det , de andre"
      ],
      "text/plain": [
       "<IPython.core.display.Markdown object>"
      ]
     },
     "metadata": {},
     "output_type": "display_data"
    },
    {
     "data": {
      "text/markdown": [
       "95: paa det , de andre vare reiste , jeg er den eneste , som har seet"
      ],
      "text/plain": [
       "<IPython.core.display.Markdown object>"
      ]
     },
     "metadata": {},
     "output_type": "display_data"
    },
    {
     "data": {
      "text/markdown": [
       "114: have lidt af hende den sidste tid , jeg er her , dertil havde hun igaar"
      ],
      "text/plain": [
       "<IPython.core.display.Markdown object>"
      ]
     },
     "metadata": {},
     "output_type": "display_data"
    },
    {
     "data": {
      "text/markdown": [
       "117: sig udsletter dog vist ikke skrivekunsten , saa jeg er lidt fornærmet , men bare lidt"
      ],
      "text/plain": [
       "<IPython.core.display.Markdown object>"
      ]
     },
     "metadata": {},
     "output_type": "display_data"
    },
    {
     "data": {
      "text/markdown": [
       "119: « saa langt og ikke længre » , jeg er ydmyg , at jeg kan sige"
      ],
      "text/plain": [
       "<IPython.core.display.Markdown object>"
      ]
     },
     "metadata": {},
     "output_type": "display_data"
    },
    {
     "data": {
      "text/markdown": [
       "119: aar , altertavlen og Judas undtaget . Nei jeg er egentlig ikke istand til at skrive"
      ],
      "text/plain": [
       "<IPython.core.display.Markdown object>"
      ]
     },
     "metadata": {},
     "output_type": "display_data"
    },
    {
     "data": {
      "text/markdown": [
       "127: Holme-Egenes fra 1863. det er nok adresse , jeg er vis paa at han gjerne vil"
      ],
      "text/plain": [
       "<IPython.core.display.Markdown object>"
      ]
     },
     "metadata": {},
     "output_type": "display_data"
    },
    {
     "data": {
      "text/markdown": [
       "128: , jeg har virkelig giort fremskridt iaar , jeg er rent bange for mig selv ,"
      ],
      "text/plain": [
       "<IPython.core.display.Markdown object>"
      ]
     },
     "metadata": {},
     "output_type": "display_data"
    },
    {
     "data": {
      "text/markdown": [
       "128: , at det kan være sløvhed , at jeg er fornøiet med det , jeg giør"
      ],
      "text/plain": [
       "<IPython.core.display.Markdown object>"
      ]
     },
     "metadata": {},
     "output_type": "display_data"
    },
    {
     "data": {
      "text/markdown": [
       "151: og heftig modløshed , sig Harriet , at jeg er bedre idag ."
      ],
      "text/plain": [
       "<IPython.core.display.Markdown object>"
      ]
     },
     "metadata": {},
     "output_type": "display_data"
    },
    {
     "data": {
      "text/markdown": [
       "157: skulde finde Ting at male , men jeg jeg er bange for , at det er"
      ],
      "text/plain": [
       "<IPython.core.display.Markdown object>"
      ]
     },
     "metadata": {},
     "output_type": "display_data"
    },
    {
     "data": {
      "text/markdown": [
       "157: vilde gjerne tage imod os begge – men jeg er lidt bange for , at MorMor"
      ],
      "text/plain": [
       "<IPython.core.display.Markdown object>"
      ]
     },
     "metadata": {},
     "output_type": "display_data"
    },
    {
     "data": {
      "text/markdown": [
       "158: var reist ind til Stavanger imorgentidlig , men jeg er så bange for at komme op"
      ],
      "text/plain": [
       "<IPython.core.display.Markdown object>"
      ]
     },
     "metadata": {},
     "output_type": "display_data"
    },
    {
     "data": {
      "text/markdown": [
       "228: skulde kommet her igaar , men udeblev , jeg er ræd , VedaVeda ] Vedastine «"
      ],
      "text/plain": [
       "<IPython.core.display.Markdown object>"
      ]
     },
     "metadata": {},
     "output_type": "display_data"
    },
    {
     "data": {
      "text/markdown": [
       "230: han helst vilde ha altid hos sig , jeg er ofte med. Det kan ikke være"
      ],
      "text/plain": [
       "<IPython.core.display.Markdown object>"
      ]
     },
     "metadata": {},
     "output_type": "display_data"
    },
    {
     "data": {
      "text/markdown": [
       "235: "
      ],
      "text/plain": [
       "<IPython.core.display.Markdown object>"
      ]
     },
     "metadata": {},
     "output_type": "display_data"
    },
    {
     "data": {
      "text/markdown": [
       "250: kommet ind i det hele der , hvilket jeg er glad over , men derom kan"
      ],
      "text/plain": [
       "<IPython.core.display.Markdown object>"
      ]
     },
     "metadata": {},
     "output_type": "display_data"
    },
    {
     "data": {
      "text/markdown": [
       "#### NBkilder_Koren_1802.xml"
      ],
      "text/plain": [
       "<IPython.core.display.Markdown object>"
      ]
     },
     "metadata": {},
     "output_type": "display_data"
    },
    {
     "data": {
      "text/markdown": [
       "13: hun seer ) seer I , hvor lykkelig jeg er ! » Børnenes støjende vedvarende Glæde"
      ],
      "text/plain": [
       "<IPython.core.display.Markdown object>"
      ]
     },
     "metadata": {},
     "output_type": "display_data"
    },
    {
     "data": {
      "text/markdown": [
       "20: , jeg aldrig saae før , og som jeg er saa glad i at kiende –"
      ],
      "text/plain": [
       "<IPython.core.display.Markdown object>"
      ]
     },
     "metadata": {},
     "output_type": "display_data"
    },
    {
     "data": {
      "text/markdown": [
       "36: 7 . Jeg seer nok , saa længe jeg er i Kbhn bliver dette i egentligste"
      ],
      "text/plain": [
       "<IPython.core.display.Markdown object>"
      ]
     },
     "metadata": {},
     "output_type": "display_data"
    },
    {
     "data": {
      "text/markdown": [
       "74: Gud skee Lov , Søvnen hialp , og jeg er ganske brav paa lidt Mathed nær"
      ],
      "text/plain": [
       "<IPython.core.display.Markdown object>"
      ]
     },
     "metadata": {},
     "output_type": "display_data"
    },
    {
     "data": {
      "text/markdown": [
       "100: hvor alle ere mig saa kiære , hvor jeg er alle saa kiær !"
      ],
      "text/plain": [
       "<IPython.core.display.Markdown object>"
      ]
     },
     "metadata": {},
     "output_type": "display_data"
    },
    {
     "data": {
      "text/markdown": [
       "133: og vist aldrig lader mig mærke med , jeg er vant til at tale om andet"
      ],
      "text/plain": [
       "<IPython.core.display.Markdown object>"
      ]
     },
     "metadata": {},
     "output_type": "display_data"
    },
    {
     "data": {
      "text/markdown": [
       "174: Saabyes . Saaledes at flakke de sidste Dage jeg er her rent bort , er ej"
      ],
      "text/plain": [
       "<IPython.core.display.Markdown object>"
      ]
     },
     "metadata": {},
     "output_type": "display_data"
    },
    {
     "data": {
      "text/markdown": [
       "200: Saalænge jeg kan det , veed jeg , jeg er en lykkelig Moder –"
      ],
      "text/plain": [
       "<IPython.core.display.Markdown object>"
      ]
     },
     "metadata": {},
     "output_type": "display_data"
    },
    {
     "data": {
      "text/markdown": [
       "266: træt ."
      ],
      "text/plain": [
       "<IPython.core.display.Markdown object>"
      ]
     },
     "metadata": {},
     "output_type": "display_data"
    },
    {
     "data": {
      "text/markdown": [
       "275: været syg i Dag , meget syg – jeg er endnu ikke , og bliver vel"
      ],
      "text/plain": [
       "<IPython.core.display.Markdown object>"
      ]
     },
     "metadata": {},
     "output_type": "display_data"
    },
    {
     "data": {
      "text/markdown": [
       "406: af min Adolf . Men de veed , jeg er bedrøvet , og plager mig ikke"
      ],
      "text/plain": [
       "<IPython.core.display.Markdown object>"
      ]
     },
     "metadata": {},
     "output_type": "display_data"
    },
    {
     "data": {
      "text/markdown": [
       "430: til at lægge mig . Sara sover , jeg er altsaa overladt ganske til mig selv"
      ],
      "text/plain": [
       "<IPython.core.display.Markdown object>"
      ]
     },
     "metadata": {},
     "output_type": "display_data"
    },
    {
     "data": {
      "text/markdown": [
       "464: Reise , Gud skee evig Lov , at jeg er saa langt , at denne Dag"
      ],
      "text/plain": [
       "<IPython.core.display.Markdown object>"
      ]
     },
     "metadata": {},
     "output_type": "display_data"
    },
    {
     "data": {
      "text/markdown": [
       "535: Gud er Sandhed , synes bædre , end jeg er . Desuden er det jo vist"
      ],
      "text/plain": [
       "<IPython.core.display.Markdown object>"
      ]
     },
     "metadata": {},
     "output_type": "display_data"
    },
    {
     "data": {
      "text/markdown": [
       "#### NBkilder_Koren_1808.xml"
      ],
      "text/plain": [
       "<IPython.core.display.Markdown object>"
      ]
     },
     "metadata": {},
     "output_type": "display_data"
    },
    {
     "data": {
      "text/markdown": [
       "3: jeg sige Eder , Elskte , hvor naragtig jeg er ? jeg aabnede mine Øyne ,"
      ],
      "text/plain": [
       "<IPython.core.display.Markdown object>"
      ]
     },
     "metadata": {},
     "output_type": "display_data"
    },
    {
     "data": {
      "text/markdown": [
       "4: . Om hende siger jeg intet , fordi jeg er og var i lang Tiid indtaget"
      ],
      "text/plain": [
       "<IPython.core.display.Markdown object>"
      ]
     },
     "metadata": {},
     "output_type": "display_data"
    },
    {
     "data": {
      "text/markdown": [
       "37: , og at dette er sidste Dag , jeg er paa Strømsøe – denne Sinde –"
      ],
      "text/plain": [
       "<IPython.core.display.Markdown object>"
      ]
     },
     "metadata": {},
     "output_type": "display_data"
    },
    {
     "data": {
      "text/markdown": [
       "40: den ældre Verden . Handler han – som jeg er tilbøyelig til at troe – overeensstemmende"
      ],
      "text/plain": [
       "<IPython.core.display.Markdown object>"
      ]
     },
     "metadata": {},
     "output_type": "display_data"
    },
    {
     "data": {
      "text/markdown": [
       "42: naar jeg taler med Døttrene mine , som jeg er saa bange for at skiule en"
      ],
      "text/plain": [
       "<IPython.core.display.Markdown object>"
      ]
     },
     "metadata": {},
     "output_type": "display_data"
    },
    {
     "data": {
      "text/markdown": [
       "58: "
      ],
      "text/plain": [
       "<IPython.core.display.Markdown object>"
      ]
     },
     "metadata": {},
     "output_type": "display_data"
    },
    {
     "data": {
      "text/markdown": [
       "143: fatte mig lidt forinden , og fordi – jeg er nyfigen i min Johan og min"
      ],
      "text/plain": [
       "<IPython.core.display.Markdown object>"
      ]
     },
     "metadata": {},
     "output_type": "display_data"
    },
    {
     "data": {
      "text/markdown": [
       "150: vil man mere af en Romanforfatter ? Men jeg er virkelig doven i Dag paa mit"
      ],
      "text/plain": [
       "<IPython.core.display.Markdown object>"
      ]
     },
     "metadata": {},
     "output_type": "display_data"
    },
    {
     "data": {
      "text/markdown": [
       "219: "
      ],
      "text/plain": [
       "<IPython.core.display.Markdown object>"
      ]
     },
     "metadata": {},
     "output_type": "display_data"
    },
    {
     "data": {
      "text/markdown": [
       "301: , hvori der er saa mange deylige , jeg er nesten fristet til at sige jeanpaulsk"
      ],
      "text/plain": [
       "<IPython.core.display.Markdown object>"
      ]
     },
     "metadata": {},
     "output_type": "display_data"
    },
    {
     "data": {
      "text/markdown": [
       "363: blive stort anderledes i al den Tiid , jeg er her . Vi saae ikke hverandre"
      ],
      "text/plain": [
       "<IPython.core.display.Markdown object>"
      ]
     },
     "metadata": {},
     "output_type": "display_data"
    },
    {
     "data": {
      "text/markdown": [
       "372: , Falsen var der rigtig nok , og jeg er altsaa nu 4 ß rigere ,"
      ],
      "text/plain": [
       "<IPython.core.display.Markdown object>"
      ]
     },
     "metadata": {},
     "output_type": "display_data"
    },
    {
     "data": {
      "text/markdown": [
       "379: , før hun faaer mit Brev , at jeg er uskyldig i hendes feylslagne Forventning ."
      ],
      "text/plain": [
       "<IPython.core.display.Markdown object>"
      ]
     },
     "metadata": {},
     "output_type": "display_data"
    },
    {
     "data": {
      "text/markdown": [
       "386: paa , at hiemsøge Præstens Boghylder , hvor jeg er vis paa at finde noget til"
      ],
      "text/plain": [
       "<IPython.core.display.Markdown object>"
      ]
     },
     "metadata": {},
     "output_type": "display_data"
    },
    {
     "data": {
      "text/markdown": [
       "393: de. Nu tænker I , elskede Venner ! jeg er her for at sige Eder Farvel"
      ],
      "text/plain": [
       "<IPython.core.display.Markdown object>"
      ]
     },
     "metadata": {},
     "output_type": "display_data"
    },
    {
     "data": {
      "text/markdown": [
       "446: min Maja , og Egerbarna det ; men jeg er harm over , at det Bud"
      ],
      "text/plain": [
       "<IPython.core.display.Markdown object>"
      ]
     },
     "metadata": {},
     "output_type": "display_data"
    },
    {
     "data": {
      "text/markdown": [
       "497: "
      ],
      "text/plain": [
       "<IPython.core.display.Markdown object>"
      ]
     },
     "metadata": {},
     "output_type": "display_data"
    },
    {
     "data": {
      "text/markdown": [
       "500: » sagde Melin i Dag , « for jeg er saa besynderlig mat » I det"
      ],
      "text/plain": [
       "<IPython.core.display.Markdown object>"
      ]
     },
     "metadata": {},
     "output_type": "display_data"
    },
    {
     "data": {
      "text/markdown": [
       "509: syg , og Lottamoer saa ængstelig , og jeg er saa ængstelig , baade over hvad"
      ],
      "text/plain": [
       "<IPython.core.display.Markdown object>"
      ]
     },
     "metadata": {},
     "output_type": "display_data"
    },
    {
     "data": {
      "text/markdown": [
       "558: . En Aarsag mere til den mørke Stemning jeg er i , og vi alle ved"
      ],
      "text/plain": [
       "<IPython.core.display.Markdown object>"
      ]
     },
     "metadata": {},
     "output_type": "display_data"
    },
    {
     "data": {
      "text/markdown": [
       "617: De kan troe , kiære Moer Koren , jeg er færdig at fraraade alle unge Mennesker"
      ],
      "text/plain": [
       "<IPython.core.display.Markdown object>"
      ]
     },
     "metadata": {},
     "output_type": "display_data"
    },
    {
     "data": {
      "text/markdown": [
       "707: ned i en saa kaldet Fiskerhytte , som jeg er stærkt fristet til at holde for"
      ],
      "text/plain": [
       "<IPython.core.display.Markdown object>"
      ]
     },
     "metadata": {},
     "output_type": "display_data"
    },
    {
     "data": {
      "text/markdown": [
       "784: . Det er et himmelskt Veyr , og jeg er efter denne lille Gang , skiøndt"
      ],
      "text/plain": [
       "<IPython.core.display.Markdown object>"
      ]
     },
     "metadata": {},
     "output_type": "display_data"
    },
    {
     "data": {
      "text/markdown": [
       "786: , og disse endda ikke styrkende . Nu jeg er kommet op , føler jeg mindre"
      ],
      "text/plain": [
       "<IPython.core.display.Markdown object>"
      ]
     },
     "metadata": {},
     "output_type": "display_data"
    },
    {
     "data": {
      "text/markdown": [
       "#### NBkilder_Koren_1809.xml"
      ],
      "text/plain": [
       "<IPython.core.display.Markdown object>"
      ]
     },
     "metadata": {},
     "output_type": "display_data"
    },
    {
     "data": {
      "text/markdown": [
       "50: Gaar Nat , Sneefog og Storm , og jeg er mismodig over at see mit Forsæt"
      ],
      "text/plain": [
       "<IPython.core.display.Markdown object>"
      ]
     },
     "metadata": {},
     "output_type": "display_data"
    },
    {
     "data": {
      "text/markdown": [
       "52: gode , kiærlige , strænge Fader deroppe , jeg er ikke uskiønsom ! Jeg er ikke"
      ],
      "text/plain": [
       "<IPython.core.display.Markdown object>"
      ]
     },
     "metadata": {},
     "output_type": "display_data"
    },
    {
     "data": {
      "text/markdown": [
       "66: mig Venskab og Ømhed , saa lidt som jeg er urimelig nok til at fordre eller"
      ],
      "text/plain": [
       "<IPython.core.display.Markdown object>"
      ]
     },
     "metadata": {},
     "output_type": "display_data"
    },
    {
     "data": {
      "text/markdown": [
       "92: han , naar de seer mig , at jeg er en lille Stoerkar » –"
      ],
      "text/plain": [
       "<IPython.core.display.Markdown object>"
      ]
     },
     "metadata": {},
     "output_type": "display_data"
    },
    {
     "data": {
      "text/markdown": [
       "107: Ja , det var voldsomme Stød – men jeg er stærk . Sørg ikke , I"
      ],
      "text/plain": [
       "<IPython.core.display.Markdown object>"
      ]
     },
     "metadata": {},
     "output_type": "display_data"
    },
    {
     "data": {
      "text/markdown": [
       "138: finde det underligt , mine Dyrebare , at jeg er tungere om Hiertet end sædvanligt ."
      ],
      "text/plain": [
       "<IPython.core.display.Markdown object>"
      ]
     },
     "metadata": {},
     "output_type": "display_data"
    },
    {
     "data": {
      "text/markdown": [
       "282: Dage at skrive . Jeg veed ikke hvordan jeg er . Jeg spiser , drikker og"
      ],
      "text/plain": [
       "<IPython.core.display.Markdown object>"
      ]
     },
     "metadata": {},
     "output_type": "display_data"
    },
    {
     "data": {
      "text/markdown": [
       "291: neste Gang i Vente fra hende . Men jeg er saa vant til at see de"
      ],
      "text/plain": [
       "<IPython.core.display.Markdown object>"
      ]
     },
     "metadata": {},
     "output_type": "display_data"
    },
    {
     "data": {
      "text/markdown": [
       "303: om jeg end vilde og torde . Men jeg er mindre frisk i Dag , end"
      ],
      "text/plain": [
       "<IPython.core.display.Markdown object>"
      ]
     },
     "metadata": {},
     "output_type": "display_data"
    },
    {
     "data": {
      "text/markdown": [
       "306: var ikke frisk – de brave Chrysties ( jeg er von paa Futen , som kun"
      ],
      "text/plain": [
       "<IPython.core.display.Markdown object>"
      ]
     },
     "metadata": {},
     "output_type": "display_data"
    },
    {
     "data": {
      "text/markdown": [
       "316: jeg troer – thi endnu sover alle – jeg er tidlig paa færde – Lehnsmand Riis"
      ],
      "text/plain": [
       "<IPython.core.display.Markdown object>"
      ]
     },
     "metadata": {},
     "output_type": "display_data"
    },
    {
     "data": {
      "text/markdown": [
       "388: her saa seent , mine Elskede ! Men jeg er meget for Orden , som I"
      ],
      "text/plain": [
       "<IPython.core.display.Markdown object>"
      ]
     },
     "metadata": {},
     "output_type": "display_data"
    },
    {
     "data": {
      "text/markdown": [
       "549: "
      ],
      "text/plain": [
       "<IPython.core.display.Markdown object>"
      ]
     },
     "metadata": {},
     "output_type": "display_data"
    },
    {
     "data": {
      "text/markdown": [
       "551: de Velsignede , at vise mig hvor kiær jeg er dem , hvor giærne de vilde"
      ],
      "text/plain": [
       "<IPython.core.display.Markdown object>"
      ]
     },
     "metadata": {},
     "output_type": "display_data"
    },
    {
     "data": {
      "text/markdown": [
       "582: hvad skulde kunde glæde det mere ? Men jeg er meget syg i Dag , sygere"
      ],
      "text/plain": [
       "<IPython.core.display.Markdown object>"
      ]
     },
     "metadata": {},
     "output_type": "display_data"
    },
    {
     "data": {
      "text/markdown": [
       "616: ofte er ligesaa længe mellem hver Gang , jeg er der . Men saa er jeg"
      ],
      "text/plain": [
       "<IPython.core.display.Markdown object>"
      ]
     },
     "metadata": {},
     "output_type": "display_data"
    },
    {
     "data": {
      "text/markdown": [
       "634: De ikke , de velsignede Tøyenmennesker . Men jeg er derved , seer jeg , kommet"
      ],
      "text/plain": [
       "<IPython.core.display.Markdown object>"
      ]
     },
     "metadata": {},
     "output_type": "display_data"
    },
    {
     "data": {
      "text/markdown": [
       "643: , efter al Formodning , er sidste Gang jeg er i Hurdalen , vist sidste Gang"
      ],
      "text/plain": [
       "<IPython.core.display.Markdown object>"
      ]
     },
     "metadata": {},
     "output_type": "display_data"
    },
    {
     "data": {
      "text/markdown": [
       "703: var nogen , var stoer Trøst . Men jeg er slet ikke frisk faaer ingen qvægsom"
      ],
      "text/plain": [
       "<IPython.core.display.Markdown object>"
      ]
     },
     "metadata": {},
     "output_type": "display_data"
    },
    {
     "data": {
      "text/markdown": [
       "708: uden hendes Tab og hendes Broders . Men jeg er ret meget syg , og for"
      ],
      "text/plain": [
       "<IPython.core.display.Markdown object>"
      ]
     },
     "metadata": {},
     "output_type": "display_data"
    },
    {
     "data": {
      "text/markdown": [
       "754: Dag ? Moer vor ! » Ja , jeg er det , og vilde være det"
      ],
      "text/plain": [
       "<IPython.core.display.Markdown object>"
      ]
     },
     "metadata": {},
     "output_type": "display_data"
    },
    {
     "data": {
      "text/markdown": [
       "879: grumme lang Tiid nesten hver Nat drømmer at jeg er ung , undertiden Barn , og"
      ],
      "text/plain": [
       "<IPython.core.display.Markdown object>"
      ]
     },
     "metadata": {},
     "output_type": "display_data"
    },
    {
     "data": {
      "text/markdown": [
       "879: selvsamme Forhold , som nu ? Saadan som jeg er i Vane med at drømme ,"
      ],
      "text/plain": [
       "<IPython.core.display.Markdown object>"
      ]
     },
     "metadata": {},
     "output_type": "display_data"
    },
    {
     "data": {
      "text/markdown": [
       "880: at jeg kunde male ham . Men naa jeg er der , skiænder jeg ikke paa"
      ],
      "text/plain": [
       "<IPython.core.display.Markdown object>"
      ]
     },
     "metadata": {},
     "output_type": "display_data"
    },
    {
     "data": {
      "text/markdown": [
       "888: Ungerne mine , og Gud skee Lov , jeg er her , og at de alle"
      ],
      "text/plain": [
       "<IPython.core.display.Markdown object>"
      ]
     },
     "metadata": {},
     "output_type": "display_data"
    },
    {
     "data": {
      "text/markdown": [
       "905: har giort mig en trediedeel ældre , end jeg er ."
      ],
      "text/plain": [
       "<IPython.core.display.Markdown object>"
      ]
     },
     "metadata": {},
     "output_type": "display_data"
    },
    {
     "data": {
      "text/markdown": [
       "949: Elskelige , engang for alle , hvor vel jeg er der . Nu savnede jeg rigtig"
      ],
      "text/plain": [
       "<IPython.core.display.Markdown object>"
      ]
     },
     "metadata": {},
     "output_type": "display_data"
    },
    {
     "data": {
      "text/markdown": [
       "978: Moer Koren igien . Det er kun her jeg er og kan og bør være ganske"
      ],
      "text/plain": [
       "<IPython.core.display.Markdown object>"
      ]
     },
     "metadata": {},
     "output_type": "display_data"
    },
    {
     "data": {
      "text/markdown": [
       "#### NBkilder_Koren_1810.xml"
      ],
      "text/plain": [
       "<IPython.core.display.Markdown object>"
      ]
     },
     "metadata": {},
     "output_type": "display_data"
    },
    {
     "data": {
      "text/markdown": [
       "35: er færm igien , skiøndt mat , og jeg er færm og ikke mat , skiøndt"
      ],
      "text/plain": [
       "<IPython.core.display.Markdown object>"
      ]
     },
     "metadata": {},
     "output_type": "display_data"
    },
    {
     "data": {
      "text/markdown": [
       "61: Følelse : at holdes for bædre , end jeg er . Det er alt for ofte"
      ],
      "text/plain": [
       "<IPython.core.display.Markdown object>"
      ]
     },
     "metadata": {},
     "output_type": "display_data"
    },
    {
     "data": {
      "text/markdown": [
       "64: "
      ],
      "text/plain": [
       "<IPython.core.display.Markdown object>"
      ]
     },
     "metadata": {},
     "output_type": "display_data"
    },
    {
     "data": {
      "text/markdown": [
       "109: Moer Borchsenius . Tænk Eder da , om jeg er glad i hende . Hofmann vinder"
      ],
      "text/plain": [
       "<IPython.core.display.Markdown object>"
      ]
     },
     "metadata": {},
     "output_type": "display_data"
    },
    {
     "data": {
      "text/markdown": [
       "183: oplagt hertil i Dag , og saa længe jeg er det , ærgrer jeg mig ikke"
      ],
      "text/plain": [
       "<IPython.core.display.Markdown object>"
      ]
     },
     "metadata": {},
     "output_type": "display_data"
    },
    {
     "data": {
      "text/markdown": [
       "222: "
      ],
      "text/plain": [
       "<IPython.core.display.Markdown object>"
      ]
     },
     "metadata": {},
     "output_type": "display_data"
    },
    {
     "data": {
      "text/markdown": [
       "266: ud . O ! bliv dog frisk mens jeg er her !"
      ],
      "text/plain": [
       "<IPython.core.display.Markdown object>"
      ]
     },
     "metadata": {},
     "output_type": "display_data"
    },
    {
     "data": {
      "text/markdown": [
       "268: » sagde jeg . « Mener De , jeg er en Hader af Fruentimmer , fordi"
      ],
      "text/plain": [
       "<IPython.core.display.Markdown object>"
      ]
     },
     "metadata": {},
     "output_type": "display_data"
    },
    {
     "data": {
      "text/markdown": [
       "269: brødefulde Bye , og kommer ey igien mens jeg er her . Min lille Pige henter"
      ],
      "text/plain": [
       "<IPython.core.display.Markdown object>"
      ]
     },
     "metadata": {},
     "output_type": "display_data"
    },
    {
     "data": {
      "text/markdown": [
       "310: Ethvert Blik , enhver Bevægelse siger : « jeg er saa usigelig lykkelig » – Der"
      ],
      "text/plain": [
       "<IPython.core.display.Markdown object>"
      ]
     },
     "metadata": {},
     "output_type": "display_data"
    },
    {
     "data": {
      "text/markdown": [
       "311: har Walbohm bildt Barna her ind , at jeg er mat og svag , og at"
      ],
      "text/plain": [
       "<IPython.core.display.Markdown object>"
      ]
     },
     "metadata": {},
     "output_type": "display_data"
    },
    {
     "data": {
      "text/markdown": [
       "317: afsted . Jeg er ordentlig bædre tilmode siden jeg er vis paa , det skal afsted"
      ],
      "text/plain": [
       "<IPython.core.display.Markdown object>"
      ]
     },
     "metadata": {},
     "output_type": "display_data"
    },
    {
     "data": {
      "text/markdown": [
       "364: fordums Skik altiid blive liggende en Stund efter jeg er vaagnet , hvis jeg ikke vil"
      ],
      "text/plain": [
       "<IPython.core.display.Markdown object>"
      ]
     },
     "metadata": {},
     "output_type": "display_data"
    },
    {
     "data": {
      "text/markdown": [
       "384: sige Eder , mine Elskede , hvor ussel jeg er i Dag . Et Par Breve"
      ],
      "text/plain": [
       "<IPython.core.display.Markdown object>"
      ]
     },
     "metadata": {},
     "output_type": "display_data"
    },
    {
     "data": {
      "text/markdown": [
       "419: : « Og at jeg nu , da jeg er bædre og kiærligere , ikke har"
      ],
      "text/plain": [
       "<IPython.core.display.Markdown object>"
      ]
     },
     "metadata": {},
     "output_type": "display_data"
    },
    {
     "data": {
      "text/markdown": [
       "421: gudlige Væsen af det usle Støv . Naar jeg er saa mat og svag som jeg"
      ],
      "text/plain": [
       "<IPython.core.display.Markdown object>"
      ]
     },
     "metadata": {},
     "output_type": "display_data"
    },
    {
     "data": {
      "text/markdown": [
       "437: Gud veed , hvordan det er , at jeg er , at jeg kan være saa"
      ],
      "text/plain": [
       "<IPython.core.display.Markdown object>"
      ]
     },
     "metadata": {},
     "output_type": "display_data"
    },
    {
     "data": {
      "text/markdown": [
       "463: , og saa giorde jeg , som naar jeg er hiertelig bedrøvet , jeg trykkede det"
      ],
      "text/plain": [
       "<IPython.core.display.Markdown object>"
      ]
     },
     "metadata": {},
     "output_type": "display_data"
    },
    {
     "data": {
      "text/markdown": [
       "473: paa sønlig Kiærlighed . Min beste Tak veed jeg er den Vished , De ikke først"
      ],
      "text/plain": [
       "<IPython.core.display.Markdown object>"
      ]
     },
     "metadata": {},
     "output_type": "display_data"
    },
    {
     "data": {
      "text/markdown": [
       "477: først beroelige Eder med den Forsikring , at jeg er for saa vidt brav , kun"
      ],
      "text/plain": [
       "<IPython.core.display.Markdown object>"
      ]
     },
     "metadata": {},
     "output_type": "display_data"
    },
    {
     "data": {
      "text/markdown": [
       "507: jeg i Gaar , var oppe , som jeg er hver Dag naar jeg er frisk"
      ],
      "text/plain": [
       "<IPython.core.display.Markdown object>"
      ]
     },
     "metadata": {},
     "output_type": "display_data"
    },
    {
     "data": {
      "text/markdown": [
       "507: oppe , som jeg er hver Dag naar jeg er frisk , Kl 5 ½ ,"
      ],
      "text/plain": [
       "<IPython.core.display.Markdown object>"
      ]
     },
     "metadata": {},
     "output_type": "display_data"
    },
    {
     "data": {
      "text/markdown": [
       "545: "
      ],
      "text/plain": [
       "<IPython.core.display.Markdown object>"
      ]
     },
     "metadata": {},
     "output_type": "display_data"
    },
    {
     "data": {
      "text/markdown": [
       "556: ikke at lade den ubesøgt og uprydet mens jeg er borte ."
      ],
      "text/plain": [
       "<IPython.core.display.Markdown object>"
      ]
     },
     "metadata": {},
     "output_type": "display_data"
    },
    {
     "data": {
      "text/markdown": [
       "570: aldrig har seet mig før . Men naar jeg er saadan stemt , kan jeg umuelig"
      ],
      "text/plain": [
       "<IPython.core.display.Markdown object>"
      ]
     },
     "metadata": {},
     "output_type": "display_data"
    },
    {
     "data": {
      "text/markdown": [
       "576: der Du er ! Vær begge Dele som jeg er det i Dag ! Gud give"
      ],
      "text/plain": [
       "<IPython.core.display.Markdown object>"
      ]
     },
     "metadata": {},
     "output_type": "display_data"
    },
    {
     "data": {
      "text/markdown": [
       "576: ) og Thrinasara og Lotta og Lina og jeg er samlede ! Amen , det skee"
      ],
      "text/plain": [
       "<IPython.core.display.Markdown object>"
      ]
     },
     "metadata": {},
     "output_type": "display_data"
    },
    {
     "data": {
      "text/markdown": [
       "591: nok Forkiølelse , maaskee ogsaa Orm . Men jeg er selv rigtig træt og mat ."
      ],
      "text/plain": [
       "<IPython.core.display.Markdown object>"
      ]
     },
     "metadata": {},
     "output_type": "display_data"
    },
    {
     "data": {
      "text/markdown": [
       "605: de skiænder dernede – især Lotta – for jeg er saa længe borte . Det burde"
      ],
      "text/plain": [
       "<IPython.core.display.Markdown object>"
      ]
     },
     "metadata": {},
     "output_type": "display_data"
    },
    {
     "data": {
      "text/markdown": [
       "682: – ak og ikke første Gang – at jeg er ubillig mot mig selv og andre"
      ],
      "text/plain": [
       "<IPython.core.display.Markdown object>"
      ]
     },
     "metadata": {},
     "output_type": "display_data"
    },
    {
     "data": {
      "text/markdown": [
       "682: Maja eller Hertel tør jeg sige hvor bedrøvet jeg er , kun til min Koren ,"
      ],
      "text/plain": [
       "<IPython.core.display.Markdown object>"
      ]
     },
     "metadata": {},
     "output_type": "display_data"
    },
    {
     "data": {
      "text/markdown": [
       "704: bædre og beqvæmmere i alle Henseender , og jeg er tryggere . I al denne Forvirring"
      ],
      "text/plain": [
       "<IPython.core.display.Markdown object>"
      ]
     },
     "metadata": {},
     "output_type": "display_data"
    },
    {
     "data": {
      "text/markdown": [
       "770: , var jeg dog ængstligere da , end jeg er i Dag . Det er hans"
      ],
      "text/plain": [
       "<IPython.core.display.Markdown object>"
      ]
     },
     "metadata": {},
     "output_type": "display_data"
    },
    {
     "data": {
      "text/markdown": [
       "790: Men I skulde dog vide , hvor forfængelig jeg er i Søvne ( « ogsaa ?"
      ],
      "text/plain": [
       "<IPython.core.display.Markdown object>"
      ]
     },
     "metadata": {},
     "output_type": "display_data"
    },
    {
     "data": {
      "text/markdown": [
       "820: hiem uden al Fare og Skade , hvad jeg er fristet til at lade Hr Real"
      ],
      "text/plain": [
       "<IPython.core.display.Markdown object>"
      ]
     },
     "metadata": {},
     "output_type": "display_data"
    },
    {
     "data": {
      "text/markdown": [
       "828: velsignede Tøyen , som jeg længes efter naar jeg er borte fra det , som efter"
      ],
      "text/plain": [
       "<IPython.core.display.Markdown object>"
      ]
     },
     "metadata": {},
     "output_type": "display_data"
    },
    {
     "data": {
      "text/markdown": [
       "898: veed hvor jeg vil hen . Og hvor jeg er , og hvad jeg foretager mig"
      ],
      "text/plain": [
       "<IPython.core.display.Markdown object>"
      ]
     },
     "metadata": {},
     "output_type": "display_data"
    },
    {
     "data": {
      "text/markdown": [
       "898: , Lina og Kaja ikke undtagen ; men jeg er saa mat , at jeg neppe"
      ],
      "text/plain": [
       "<IPython.core.display.Markdown object>"
      ]
     },
     "metadata": {},
     "output_type": "display_data"
    },
    {
     "data": {
      "text/markdown": [
       "909: Jes maae allermindst faae Bogen , just fordi jeg er vis paa , den ikke vilde"
      ],
      "text/plain": [
       "<IPython.core.display.Markdown object>"
      ]
     },
     "metadata": {},
     "output_type": "display_data"
    },
    {
     "data": {
      "text/markdown": [
       "973: ! Vi skal til Bangs . Saa syg jeg er , Gud veed , jeg kan"
      ],
      "text/plain": [
       "<IPython.core.display.Markdown object>"
      ]
     },
     "metadata": {},
     "output_type": "display_data"
    },
    {
     "data": {
      "text/markdown": [
       "976: min , som min er Eders , som jeg er Eders Moer Koren ? ! –"
      ],
      "text/plain": [
       "<IPython.core.display.Markdown object>"
      ]
     },
     "metadata": {},
     "output_type": "display_data"
    },
    {
     "data": {
      "text/markdown": [
       "977: om jeg kan skiule det , hvor nedslagen jeg er –"
      ],
      "text/plain": [
       "<IPython.core.display.Markdown object>"
      ]
     },
     "metadata": {},
     "output_type": "display_data"
    },
    {
     "data": {
      "text/markdown": [
       "1012: « Min Kyse taer jeg ikke paa før jeg er kommet i Vognen » – sagde"
      ],
      "text/plain": [
       "<IPython.core.display.Markdown object>"
      ]
     },
     "metadata": {},
     "output_type": "display_data"
    },
    {
     "data": {
      "text/markdown": [
       "#### NBkilder_Koren_1811.xml"
      ],
      "text/plain": [
       "<IPython.core.display.Markdown object>"
      ]
     },
     "metadata": {},
     "output_type": "display_data"
    },
    {
     "data": {
      "text/markdown": [
       "7: – min Skriver skriver – Nytaarsvers , som jeg er vis paa mange , maaskee endog"
      ],
      "text/plain": [
       "<IPython.core.display.Markdown object>"
      ]
     },
     "metadata": {},
     "output_type": "display_data"
    },
    {
     "data": {
      "text/markdown": [
       "20: at tvivle om Udødeligheden – Følelsen af hvad jeg er Eder , I alle min Siæls"
      ],
      "text/plain": [
       "<IPython.core.display.Markdown object>"
      ]
     },
     "metadata": {},
     "output_type": "display_data"
    },
    {
     "data": {
      "text/markdown": [
       "22: "
      ],
      "text/plain": [
       "<IPython.core.display.Markdown object>"
      ]
     },
     "metadata": {},
     "output_type": "display_data"
    },
    {
     "data": {
      "text/markdown": [
       "24: og saa har jeg altiid travlt , naar jeg er saa lykkelig , jeg kan have"
      ],
      "text/plain": [
       "<IPython.core.display.Markdown object>"
      ]
     },
     "metadata": {},
     "output_type": "display_data"
    },
    {
     "data": {
      "text/markdown": [
       "35: og det fornøyer mig , i hvor nedslagen jeg er –"
      ],
      "text/plain": [
       "<IPython.core.display.Markdown object>"
      ]
     },
     "metadata": {},
     "output_type": "display_data"
    },
    {
     "data": {
      "text/markdown": [
       "43: fra mig før han seer her , at jeg er en Smule von paa ham ."
      ],
      "text/plain": [
       "<IPython.core.display.Markdown object>"
      ]
     },
     "metadata": {},
     "output_type": "display_data"
    },
    {
     "data": {
      "text/markdown": [
       "63: slaae . Men jeg holder , saa lidt jeg er for Kulden , dog mere af"
      ],
      "text/plain": [
       "<IPython.core.display.Markdown object>"
      ]
     },
     "metadata": {},
     "output_type": "display_data"
    },
    {
     "data": {
      "text/markdown": [
       "237: i Dag ? Det ahner mig , og jeg er midt iblandt Eder , og «"
      ],
      "text/plain": [
       "<IPython.core.display.Markdown object>"
      ]
     },
     "metadata": {},
     "output_type": "display_data"
    },
    {
     "data": {
      "text/markdown": [
       "237: signer dig , ottende Dag i April imens jeg er til » –"
      ],
      "text/plain": [
       "<IPython.core.display.Markdown object>"
      ]
     },
     "metadata": {},
     "output_type": "display_data"
    },
    {
     "data": {
      "text/markdown": [
       "270: Tilskuer , og finder , i hvor kiendt jeg er med den , stedse nye og"
      ],
      "text/plain": [
       "<IPython.core.display.Markdown object>"
      ]
     },
     "metadata": {},
     "output_type": "display_data"
    },
    {
     "data": {
      "text/markdown": [
       "282: det maae du troe , bare det at jeg er mat « som en Fendrik »"
      ],
      "text/plain": [
       "<IPython.core.display.Markdown object>"
      ]
     },
     "metadata": {},
     "output_type": "display_data"
    },
    {
     "data": {
      "text/markdown": [
       "289: Men jeg veed ikke hvordan det er , jeg er ordentlig glad i at see ham"
      ],
      "text/plain": [
       "<IPython.core.display.Markdown object>"
      ]
     },
     "metadata": {},
     "output_type": "display_data"
    },
    {
     "data": {
      "text/markdown": [
       "303: og siden har det været taaleligt . Men jeg er grumme mat . God Nat ,"
      ],
      "text/plain": [
       "<IPython.core.display.Markdown object>"
      ]
     },
     "metadata": {},
     "output_type": "display_data"
    },
    {
     "data": {
      "text/markdown": [
       "345: en heel Fragt ligge færdig . Ja , jeg er ret en Smørerinde . Og enda"
      ],
      "text/plain": [
       "<IPython.core.display.Markdown object>"
      ]
     },
     "metadata": {},
     "output_type": "display_data"
    },
    {
     "data": {
      "text/markdown": [
       "347: Ting som til at sige Eder hvor glad jeg er . Til Dagens Mærkværdigheder hører ogsaa"
      ],
      "text/plain": [
       "<IPython.core.display.Markdown object>"
      ]
     },
     "metadata": {},
     "output_type": "display_data"
    },
    {
     "data": {
      "text/markdown": [
       "362: mine , som nu mister ham ! skiøndt jeg er mig selv for nær til at"
      ],
      "text/plain": [
       "<IPython.core.display.Markdown object>"
      ]
     },
     "metadata": {},
     "output_type": "display_data"
    },
    {
     "data": {
      "text/markdown": [
       "369: Drømme . Seer I , mine Elskede , jeg er saa længe vant til det stille"
      ],
      "text/plain": [
       "<IPython.core.display.Markdown object>"
      ]
     },
     "metadata": {},
     "output_type": "display_data"
    },
    {
     "data": {
      "text/markdown": [
       "375: fortæller jeg min hele deltagende Kreds hvor glad jeg er , og saa betroer jeg Dagbogen"
      ],
      "text/plain": [
       "<IPython.core.display.Markdown object>"
      ]
     },
     "metadata": {},
     "output_type": "display_data"
    },
    {
     "data": {
      "text/markdown": [
       "375: lagt sin Pen for stedse , hvor lykkelig jeg er og var og bliver ved al"
      ],
      "text/plain": [
       "<IPython.core.display.Markdown object>"
      ]
     },
     "metadata": {},
     "output_type": "display_data"
    },
    {
     "data": {
      "text/markdown": [
       "381: Dag ere mig lidt til Byrde – thi jeg er hiertelig bedrøvet . Ikke mere over"
      ],
      "text/plain": [
       "<IPython.core.display.Markdown object>"
      ]
     },
     "metadata": {},
     "output_type": "display_data"
    },
    {
     "data": {
      "text/markdown": [
       "420: og Majadal , i det mindste saa længe jeg er vaagen , og selv kan nogenlunde"
      ],
      "text/plain": [
       "<IPython.core.display.Markdown object>"
      ]
     },
     "metadata": {},
     "output_type": "display_data"
    },
    {
     "data": {
      "text/markdown": [
       "423: kan behøve af Majas og Frederichs Bibliotheker mens jeg er der , og der behøver jeg"
      ],
      "text/plain": [
       "<IPython.core.display.Markdown object>"
      ]
     },
     "metadata": {},
     "output_type": "display_data"
    },
    {
     "data": {
      "text/markdown": [
       "447: , hvorhen de har stævnet mig . Men jeg er jo alles Eders Moer Koren ,"
      ],
      "text/plain": [
       "<IPython.core.display.Markdown object>"
      ]
     },
     "metadata": {},
     "output_type": "display_data"
    },
    {
     "data": {
      "text/markdown": [
       "463: Maja , om det ikke er sandt , jeg er bra ? – Før hun ret"
      ],
      "text/plain": [
       "<IPython.core.display.Markdown object>"
      ]
     },
     "metadata": {},
     "output_type": "display_data"
    },
    {
     "data": {
      "text/markdown": [
       "484: Nu gaaer det mig som Baggesen , at jeg er færdig at lægge dem bort «"
      ],
      "text/plain": [
       "<IPython.core.display.Markdown object>"
      ]
     },
     "metadata": {},
     "output_type": "display_data"
    },
    {
     "data": {
      "text/markdown": [
       "490: sidde sammen i Haven og Lunden , og jeg er i Dag saa lidt skikket til"
      ],
      "text/plain": [
       "<IPython.core.display.Markdown object>"
      ]
     },
     "metadata": {},
     "output_type": "display_data"
    },
    {
     "data": {
      "text/markdown": [
       "521: og nu til Præstens . I hvor vant jeg er til at see mig elsket og"
      ],
      "text/plain": [
       "<IPython.core.display.Markdown object>"
      ]
     },
     "metadata": {},
     "output_type": "display_data"
    },
    {
     "data": {
      "text/markdown": [
       "558: her i Huset . Han troer nok , jeg er en meget ugiæstmild Skriverinde , og"
      ],
      "text/plain": [
       "<IPython.core.display.Markdown object>"
      ]
     },
     "metadata": {},
     "output_type": "display_data"
    },
    {
     "data": {
      "text/markdown": [
       "646: fares , som jeg tidt hører , naar jeg er nede og seer til hende ."
      ],
      "text/plain": [
       "<IPython.core.display.Markdown object>"
      ]
     },
     "metadata": {},
     "output_type": "display_data"
    },
    {
     "data": {
      "text/markdown": [
       "648: , og takket Gud i hans Tempel fordi jeg er saa glad . Men er ikke"
      ],
      "text/plain": [
       "<IPython.core.display.Markdown object>"
      ]
     },
     "metadata": {},
     "output_type": "display_data"
    },
    {
     "data": {
      "text/markdown": [
       "673: jeg har skyndt mig , og hvor ofte jeg er blevet afbrudt . Der er nu"
      ],
      "text/plain": [
       "<IPython.core.display.Markdown object>"
      ]
     },
     "metadata": {},
     "output_type": "display_data"
    },
    {
     "data": {
      "text/markdown": [
       "728: , for at see min Rikke , da jeg er hende saa nær , engang endnu"
      ],
      "text/plain": [
       "<IPython.core.display.Markdown object>"
      ]
     },
     "metadata": {},
     "output_type": "display_data"
    },
    {
     "data": {
      "text/markdown": [
       "758: af de faa Ting hvorpaa jeg kiender , jeg er blevet gammel , at jeg har"
      ],
      "text/plain": [
       "<IPython.core.display.Markdown object>"
      ]
     },
     "metadata": {},
     "output_type": "display_data"
    },
    {
     "data": {
      "text/markdown": [
       "833: er kun Frysen og Tørst tilbage . Men jeg er grumme mat – Sovet har jeg"
      ],
      "text/plain": [
       "<IPython.core.display.Markdown object>"
      ]
     },
     "metadata": {},
     "output_type": "display_data"
    },
    {
     "data": {
      "text/markdown": [
       "#### NBkilder_Koren_1812.xml"
      ],
      "text/plain": [
       "<IPython.core.display.Markdown object>"
      ]
     },
     "metadata": {},
     "output_type": "display_data"
    },
    {
     "data": {
      "text/markdown": [
       "16: Gud skee Tak ikke er Tilfældet , da jeg er meget bædre , og Veyret taaleligt"
      ],
      "text/plain": [
       "<IPython.core.display.Markdown object>"
      ]
     },
     "metadata": {},
     "output_type": "display_data"
    },
    {
     "data": {
      "text/markdown": [
       "28: naar jeg lider , og glæder sig naar jeg er glad [ . ] Nu er"
      ],
      "text/plain": [
       "<IPython.core.display.Markdown object>"
      ]
     },
     "metadata": {},
     "output_type": "display_data"
    },
    {
     "data": {
      "text/markdown": [
       "30: drikker Caffe , tilbringer jeg stedse , naar jeg er i mit daglige Lag , læsende"
      ],
      "text/plain": [
       "<IPython.core.display.Markdown object>"
      ]
     },
     "metadata": {},
     "output_type": "display_data"
    },
    {
     "data": {
      "text/markdown": [
       "49: Psalmebog eller i Mare Zolls Andagtsbog . Men jeg er vis paa , at hendes fromme"
      ],
      "text/plain": [
       "<IPython.core.display.Markdown object>"
      ]
     },
     "metadata": {},
     "output_type": "display_data"
    },
    {
     "data": {
      "text/markdown": [
       "67: deylig Dag , det veed jeg . Men jeg er syg og mat af den evindelige"
      ],
      "text/plain": [
       "<IPython.core.display.Markdown object>"
      ]
     },
     "metadata": {},
     "output_type": "display_data"
    },
    {
     "data": {
      "text/markdown": [
       "87: han lige velsignet og sød igien . O jeg er saa glad i dette Barn med"
      ],
      "text/plain": [
       "<IPython.core.display.Markdown object>"
      ]
     },
     "metadata": {},
     "output_type": "display_data"
    },
    {
     "data": {
      "text/markdown": [
       "103: . Seer I , Elskede , hvor vis jeg er paa , at alt hvad der"
      ],
      "text/plain": [
       "<IPython.core.display.Markdown object>"
      ]
     },
     "metadata": {},
     "output_type": "display_data"
    },
    {
     "data": {
      "text/markdown": [
       "123: dog maae beskrive Eder lidt nøyere , da jeg er vis paa , I aldrig saae"
      ],
      "text/plain": [
       "<IPython.core.display.Markdown object>"
      ]
     },
     "metadata": {},
     "output_type": "display_data"
    },
    {
     "data": {
      "text/markdown": [
       "125: meget om de ventede glade Dage , og jeg er blevet alt bædre og bædre ,"
      ],
      "text/plain": [
       "<IPython.core.display.Markdown object>"
      ]
     },
     "metadata": {},
     "output_type": "display_data"
    },
    {
     "data": {
      "text/markdown": [
       "128: . Telja bager Munker til dem , og jeg er vis paa det bliver en Glædskabsfest"
      ],
      "text/plain": [
       "<IPython.core.display.Markdown object>"
      ]
     },
     "metadata": {},
     "output_type": "display_data"
    },
    {
     "data": {
      "text/markdown": [
       "139: . I seer , Elskede , hvor langt jeg er kommet i Journalen , og desforuden"
      ],
      "text/plain": [
       "<IPython.core.display.Markdown object>"
      ]
     },
     "metadata": {},
     "output_type": "display_data"
    },
    {
     "data": {
      "text/markdown": [
       "151: Men tænk saa ogsaa paa , hvor syg jeg er i Dag , og at jeg"
      ],
      "text/plain": [
       "<IPython.core.display.Markdown object>"
      ]
     },
     "metadata": {},
     "output_type": "display_data"
    },
    {
     "data": {
      "text/markdown": [
       "164: hende stille Dals Arme og Skiød , som jeg er vis paa , aldrig vil blive"
      ],
      "text/plain": [
       "<IPython.core.display.Markdown object>"
      ]
     },
     "metadata": {},
     "output_type": "display_data"
    },
    {
     "data": {
      "text/markdown": [
       "171: andet til min unge Ven Bergh , som jeg er vis paa vil opfylde hvad jeg"
      ],
      "text/plain": [
       "<IPython.core.display.Markdown object>"
      ]
     },
     "metadata": {},
     "output_type": "display_data"
    },
    {
     "data": {
      "text/markdown": [
       "175: Børn , et nyt Beviis paa , at jeg er hiemme . Fader Pedro kom hiem"
      ],
      "text/plain": [
       "<IPython.core.display.Markdown object>"
      ]
     },
     "metadata": {},
     "output_type": "display_data"
    },
    {
     "data": {
      "text/markdown": [
       "185: – see , nu troer jeg saa men jeg er færdig . At Maja P :"
      ],
      "text/plain": [
       "<IPython.core.display.Markdown object>"
      ]
     },
     "metadata": {},
     "output_type": "display_data"
    },
    {
     "data": {
      "text/markdown": [
       "204: reyste herfra , ryster paa Hovedet . O jeg er i en hiertelig Angest . See"
      ],
      "text/plain": [
       "<IPython.core.display.Markdown object>"
      ]
     },
     "metadata": {},
     "output_type": "display_data"
    },
    {
     "data": {
      "text/markdown": [
       "230: Pligttour giort i Morgen til Eidsvoldværk , hvorhen jeg er buden med min Koren , som"
      ],
      "text/plain": [
       "<IPython.core.display.Markdown object>"
      ]
     },
     "metadata": {},
     "output_type": "display_data"
    },
    {
     "data": {
      "text/markdown": [
       "307: Eder , Elskede , hvor let og fro jeg er . Det kommer vel ogsaa af"
      ],
      "text/plain": [
       "<IPython.core.display.Markdown object>"
      ]
     },
     "metadata": {},
     "output_type": "display_data"
    },
    {
     "data": {
      "text/markdown": [
       "323: kan jeg jo nok betroe dem , at jeg er ret meget syg . Egentlig føler"
      ],
      "text/plain": [
       "<IPython.core.display.Markdown object>"
      ]
     },
     "metadata": {},
     "output_type": "display_data"
    },
    {
     "data": {
      "text/markdown": [
       "326: og nødt til at giøre mig stærkere end jeg er , da alles Øyne vogte paa"
      ],
      "text/plain": [
       "<IPython.core.display.Markdown object>"
      ]
     },
     "metadata": {},
     "output_type": "display_data"
    },
    {
     "data": {
      "text/markdown": [
       "331: blive . Mere siden , mine Elskede ! jeg er saa mat , at jeg maae"
      ],
      "text/plain": [
       "<IPython.core.display.Markdown object>"
      ]
     },
     "metadata": {},
     "output_type": "display_data"
    },
    {
     "data": {
      "text/markdown": [
       "332: fast altiid , og dog kanske meest naar jeg er syg , begriber mere med Hiertet"
      ],
      "text/plain": [
       "<IPython.core.display.Markdown object>"
      ]
     },
     "metadata": {},
     "output_type": "display_data"
    },
    {
     "data": {
      "text/markdown": [
       "336: kommer mit Mismod vel meget af , at jeg er saa svag – o , I"
      ],
      "text/plain": [
       "<IPython.core.display.Markdown object>"
      ]
     },
     "metadata": {},
     "output_type": "display_data"
    },
    {
     "data": {
      "text/markdown": [
       "339: vor ! » – Ney , Børn , jeg er saa men lys vaagen . I"
      ],
      "text/plain": [
       "<IPython.core.display.Markdown object>"
      ]
     },
     "metadata": {},
     "output_type": "display_data"
    },
    {
     "data": {
      "text/markdown": [
       "353: Uge . Det er ikke Ret , at jeg er saa meget borte fra Kista mi"
      ],
      "text/plain": [
       "<IPython.core.display.Markdown object>"
      ]
     },
     "metadata": {},
     "output_type": "display_data"
    },
    {
     "data": {
      "text/markdown": [
       "372: om Brylluppet og Alskens andre Ting . At jeg er meget færm i Dag , troer"
      ],
      "text/plain": [
       "<IPython.core.display.Markdown object>"
      ]
     },
     "metadata": {},
     "output_type": "display_data"
    },
    {
     "data": {
      "text/markdown": [
       "412: mig ikke , og – kort sagt , jeg er heel underlig tilmode . Dog ikke"
      ],
      "text/plain": [
       "<IPython.core.display.Markdown object>"
      ]
     },
     "metadata": {},
     "output_type": "display_data"
    },
    {
     "data": {
      "text/markdown": [
       "420: , paa egen Haand havde kiøbt , hvorfor jeg er ham meget forbunden , og kan"
      ],
      "text/plain": [
       "<IPython.core.display.Markdown object>"
      ]
     },
     "metadata": {},
     "output_type": "display_data"
    },
    {
     "data": {
      "text/markdown": [
       "425: et Par Ord til min Lotta , men jeg er saa søvning og træt , at"
      ],
      "text/plain": [
       "<IPython.core.display.Markdown object>"
      ]
     },
     "metadata": {},
     "output_type": "display_data"
    },
    {
     "data": {
      "text/markdown": [
       "429: Øynene , deraf kommer det vel , at jeg er genegen til at troe , Rygtet"
      ],
      "text/plain": [
       "<IPython.core.display.Markdown object>"
      ]
     },
     "metadata": {},
     "output_type": "display_data"
    },
    {
     "data": {
      "text/markdown": [
       "453: , og kan ikke tage bort , saa jeg er bange , det faaer blive ved"
      ],
      "text/plain": [
       "<IPython.core.display.Markdown object>"
      ]
     },
     "metadata": {},
     "output_type": "display_data"
    },
    {
     "data": {
      "text/markdown": [
       "458: sad hos hende her paa mit Kammer naar jeg er her ene , hvor hun har"
      ],
      "text/plain": [
       "<IPython.core.display.Markdown object>"
      ]
     },
     "metadata": {},
     "output_type": "display_data"
    },
    {
     "data": {
      "text/markdown": [
       "469: saa let og roelig om Hiertet , som jeg er endnu ; thi Gud skee Lov"
      ],
      "text/plain": [
       "<IPython.core.display.Markdown object>"
      ]
     },
     "metadata": {},
     "output_type": "display_data"
    },
    {
     "data": {
      "text/markdown": [
       "469: ellers skikket til nogen lang Vandring , da jeg er saa underlig mo i mine Knæe"
      ],
      "text/plain": [
       "<IPython.core.display.Markdown object>"
      ]
     },
     "metadata": {},
     "output_type": "display_data"
    },
    {
     "data": {
      "text/markdown": [
       "478: Venskab udklækkedes den , fra Følelsen af hvad jeg er ved Eder , har den sit"
      ],
      "text/plain": [
       "<IPython.core.display.Markdown object>"
      ]
     },
     "metadata": {},
     "output_type": "display_data"
    },
    {
     "data": {
      "text/markdown": [
       "485: ondt midt under det venstre Fodblad , saa jeg er færdig at skrige af Smerte naar"
      ],
      "text/plain": [
       "<IPython.core.display.Markdown object>"
      ]
     },
     "metadata": {},
     "output_type": "display_data"
    },
    {
     "data": {
      "text/markdown": [
       "489: Høstdag . Det er ikke for mig selv jeg er utaalmodig . Jeg er taalelig brav"
      ],
      "text/plain": [
       "<IPython.core.display.Markdown object>"
      ]
     },
     "metadata": {},
     "output_type": "display_data"
    },
    {
     "data": {
      "text/markdown": [
       "494: Koren . O hvor jeg takker Gud fordi jeg er her . Hvor langt ængsteligere var"
      ],
      "text/plain": [
       "<IPython.core.display.Markdown object>"
      ]
     },
     "metadata": {},
     "output_type": "display_data"
    },
    {
     "data": {
      "text/markdown": [
       "497: saa troet – Jeg veed ikke , hvorfor jeg er saa hiertelig bedrøvet i denne Aftenstund"
      ],
      "text/plain": [
       "<IPython.core.display.Markdown object>"
      ]
     },
     "metadata": {},
     "output_type": "display_data"
    },
    {
     "data": {
      "text/markdown": [
       "501: ere , takker jeg Gud inderlig , at jeg er her . I Majas matte Smiil"
      ],
      "text/plain": [
       "<IPython.core.display.Markdown object>"
      ]
     },
     "metadata": {},
     "output_type": "display_data"
    },
    {
     "data": {
      "text/markdown": [
       "501: det bekymrede barnlige Hierte , føler jeg hvad jeg er hende , hvilken Trøst og Støtte"
      ],
      "text/plain": [
       "<IPython.core.display.Markdown object>"
      ]
     },
     "metadata": {},
     "output_type": "display_data"
    },
    {
     "data": {
      "text/markdown": [
       "501: var jeg end mindre for de Dyrebare end jeg er , takkede jeg dog Gud at"
      ],
      "text/plain": [
       "<IPython.core.display.Markdown object>"
      ]
     },
     "metadata": {},
     "output_type": "display_data"
    },
    {
     "data": {
      "text/markdown": [
       "516: I tænke Eder , Elskte , hvor glad jeg er . Vidste I det nu kun"
      ],
      "text/plain": [
       "<IPython.core.display.Markdown object>"
      ]
     },
     "metadata": {},
     "output_type": "display_data"
    },
    {
     "data": {
      "text/markdown": [
       "519: haaber vist , godt . Den glade Sindsstemning jeg er i , bebuder mig det ."
      ],
      "text/plain": [
       "<IPython.core.display.Markdown object>"
      ]
     },
     "metadata": {},
     "output_type": "display_data"
    },
    {
     "data": {
      "text/markdown": [
       "521: milde Kraft . Saa kan det vel være jeg er kuldskiærere nu end ellers , da"
      ],
      "text/plain": [
       "<IPython.core.display.Markdown object>"
      ]
     },
     "metadata": {},
     "output_type": "display_data"
    },
    {
     "data": {
      "text/markdown": [
       "548: "
      ],
      "text/plain": [
       "<IPython.core.display.Markdown object>"
      ]
     },
     "metadata": {},
     "output_type": "display_data"
    },
    {
     "data": {
      "text/markdown": [
       "555: Siæl i disse Dage , om hvor ubillig jeg er naar noget gaaer mig imod ."
      ],
      "text/plain": [
       "<IPython.core.display.Markdown object>"
      ]
     },
     "metadata": {},
     "output_type": "display_data"
    },
    {
     "data": {
      "text/markdown": [
       "574: Blade kunde vidne med mig , hvor uskyldig jeg er . Men nu har jeg skrevet"
      ],
      "text/plain": [
       "<IPython.core.display.Markdown object>"
      ]
     },
     "metadata": {},
     "output_type": "display_data"
    },
    {
     "data": {
      "text/markdown": [
       "582: Det regner og tordner og blæser , og jeg er færdig med alt mit Mod selv"
      ],
      "text/plain": [
       "<IPython.core.display.Markdown object>"
      ]
     },
     "metadata": {},
     "output_type": "display_data"
    },
    {
     "data": {
      "text/markdown": [
       "610: Rikke ligesaa , og lie bli lell fordi jeg er saa længe borte ."
      ],
      "text/plain": [
       "<IPython.core.display.Markdown object>"
      ]
     },
     "metadata": {},
     "output_type": "display_data"
    },
    {
     "data": {
      "text/markdown": [
       "657: . Og det er ingen Feberkulde , thi jeg er i Dag ret færm , og"
      ],
      "text/plain": [
       "<IPython.core.display.Markdown object>"
      ]
     },
     "metadata": {},
     "output_type": "display_data"
    },
    {
     "data": {
      "text/markdown": [
       "669: kunde jo heller ikke vide , hvor glad jeg er i min Moer Korens Veninde »"
      ],
      "text/plain": [
       "<IPython.core.display.Markdown object>"
      ]
     },
     "metadata": {},
     "output_type": "display_data"
    },
    {
     "data": {
      "text/markdown": [
       "673: og , hvad der er det værste , jeg er selv Skyld i det : thi"
      ],
      "text/plain": [
       "<IPython.core.display.Markdown object>"
      ]
     },
     "metadata": {},
     "output_type": "display_data"
    },
    {
     "data": {
      "text/markdown": [
       "692: giør det jo i dette Øyeblik . At jeg er saa beklæmt , kommer vel af"
      ],
      "text/plain": [
       "<IPython.core.display.Markdown object>"
      ]
     },
     "metadata": {},
     "output_type": "display_data"
    },
    {
     "data": {
      "text/markdown": [
       "714: raske Mand , som nu vel troer , jeg er en heel Politikus . Han opholdt"
      ],
      "text/plain": [
       "<IPython.core.display.Markdown object>"
      ]
     },
     "metadata": {},
     "output_type": "display_data"
    },
    {
     "data": {
      "text/markdown": [
       "731: thi I maae vide , mine Børn , jeg er en reen Fusker i Korthaandværket ."
      ],
      "text/plain": [
       "<IPython.core.display.Markdown object>"
      ]
     },
     "metadata": {},
     "output_type": "display_data"
    },
    {
     "data": {
      "text/markdown": [
       "754: mig glade Efterretninger . Jeg veed ikke hvorfor jeg er saa ængstelig , og ikke kan"
      ],
      "text/plain": [
       "<IPython.core.display.Markdown object>"
      ]
     },
     "metadata": {},
     "output_type": "display_data"
    },
    {
     "data": {
      "text/markdown": [
       "759: Maja C , som vel maae synes , jeg er et underligt Dyr , der lod"
      ],
      "text/plain": [
       "<IPython.core.display.Markdown object>"
      ]
     },
     "metadata": {},
     "output_type": "display_data"
    },
    {
     "data": {
      "text/markdown": [
       "798: nesten ligesaa tungt som hiin Geschichte ; thi jeg er saa bange for , at vi"
      ],
      "text/plain": [
       "<IPython.core.display.Markdown object>"
      ]
     },
     "metadata": {},
     "output_type": "display_data"
    },
    {
     "data": {
      "text/markdown": [
       "803: og til blæser det ogsaa lidt , og jeg er meget bædre ."
      ],
      "text/plain": [
       "<IPython.core.display.Markdown object>"
      ]
     },
     "metadata": {},
     "output_type": "display_data"
    },
    {
     "data": {
      "text/markdown": [
       "870: , snart at kunde besvare mundtlig . Den jeg er i størst Gield hos , er"
      ],
      "text/plain": [
       "<IPython.core.display.Markdown object>"
      ]
     },
     "metadata": {},
     "output_type": "display_data"
    },
    {
     "data": {
      "text/markdown": [
       "873: jeg nu siger Eder , Dyrebare , at jeg er meget bædre , troer I mig"
      ],
      "text/plain": [
       "<IPython.core.display.Markdown object>"
      ]
     },
     "metadata": {},
     "output_type": "display_data"
    },
    {
     "data": {
      "text/markdown": [
       "874: . Der kommer bestandig ingen Snee , og jeg er bestandig ret en Usling . Egentlig"
      ],
      "text/plain": [
       "<IPython.core.display.Markdown object>"
      ]
     },
     "metadata": {},
     "output_type": "display_data"
    },
    {
     "data": {
      "text/markdown": [
       "876: en Slæde sidder man dog ikke ) da jeg er mindre end frisk , og har"
      ],
      "text/plain": [
       "<IPython.core.display.Markdown object>"
      ]
     },
     "metadata": {},
     "output_type": "display_data"
    },
    {
     "data": {
      "text/markdown": [
       "877: Søvn . Et Beviis paa , hvilken Stakkel jeg er bleven . Thi det gier mig"
      ],
      "text/plain": [
       "<IPython.core.display.Markdown object>"
      ]
     },
     "metadata": {},
     "output_type": "display_data"
    },
    {
     "data": {
      "text/markdown": [
       "885: Hun ligger saa stille . Jeg synes ogsaa jeg er bædre saa længe jeg sidder stille"
      ],
      "text/plain": [
       "<IPython.core.display.Markdown object>"
      ]
     },
     "metadata": {},
     "output_type": "display_data"
    },
    {
     "data": {
      "text/markdown": [
       "902: have det at gogiøre sig med , naar jeg er borte . Majalild bliver her til"
      ],
      "text/plain": [
       "<IPython.core.display.Markdown object>"
      ]
     },
     "metadata": {},
     "output_type": "display_data"
    },
    {
     "data": {
      "text/markdown": [
       "#### NBkilder_Koren_1813.xml"
      ],
      "text/plain": [
       "<IPython.core.display.Markdown object>"
      ]
     },
     "metadata": {},
     "output_type": "display_data"
    },
    {
     "data": {
      "text/markdown": [
       "26: vil I , som veed hvilken upartisk Moder jeg er , ogsaa vist troe . Gud"
      ],
      "text/plain": [
       "<IPython.core.display.Markdown object>"
      ]
     },
     "metadata": {},
     "output_type": "display_data"
    },
    {
     "data": {
      "text/markdown": [
       "31: længe fra Lotta mi den korte Tiid , jeg er hos hende – dog , der"
      ],
      "text/plain": [
       "<IPython.core.display.Markdown object>"
      ]
     },
     "metadata": {},
     "output_type": "display_data"
    },
    {
     "data": {
      "text/markdown": [
       "40: har spiist , hvile mig lidt , thi jeg er ikke ret brav i Dag ,"
      ],
      "text/plain": [
       "<IPython.core.display.Markdown object>"
      ]
     },
     "metadata": {},
     "output_type": "display_data"
    },
    {
     "data": {
      "text/markdown": [
       "51: dette Ønske opfyldt , Barnet mit , og jeg er ogsaa glad ved at kunde see"
      ],
      "text/plain": [
       "<IPython.core.display.Markdown object>"
      ]
     },
     "metadata": {},
     "output_type": "display_data"
    },
    {
     "data": {
      "text/markdown": [
       "60: været ovre og hilset paa Borches , men jeg er rigtig syg i Dag , og"
      ],
      "text/plain": [
       "<IPython.core.display.Markdown object>"
      ]
     },
     "metadata": {},
     "output_type": "display_data"
    },
    {
     "data": {
      "text/markdown": [
       "60: vi skal til Rørbyes , den sidste Dag jeg er her – ak , hvor er"
      ],
      "text/plain": [
       "<IPython.core.display.Markdown object>"
      ]
     },
     "metadata": {},
     "output_type": "display_data"
    },
    {
     "data": {
      "text/markdown": [
       "72: og dermed vil det gaae langsomt , da jeg er grumme mat , og har havt"
      ],
      "text/plain": [
       "<IPython.core.display.Markdown object>"
      ]
     },
     "metadata": {},
     "output_type": "display_data"
    },
    {
     "data": {
      "text/markdown": [
       "75: og hun havde saa godt Følge , at jeg er ganske roelig for det kiære Børn"
      ],
      "text/plain": [
       "<IPython.core.display.Markdown object>"
      ]
     },
     "metadata": {},
     "output_type": "display_data"
    },
    {
     "data": {
      "text/markdown": [
       "77: Denne Blæst skylder jeg ogsaa for , at jeg er mindre rask end i Gaar ."
      ],
      "text/plain": [
       "<IPython.core.display.Markdown object>"
      ]
     },
     "metadata": {},
     "output_type": "display_data"
    },
    {
     "data": {
      "text/markdown": [
       "93: Gange at sige Eder hvor glad og lykkelig jeg er ved min Majas Side , blandt"
      ],
      "text/plain": [
       "<IPython.core.display.Markdown object>"
      ]
     },
     "metadata": {},
     "output_type": "display_data"
    },
    {
     "data": {
      "text/markdown": [
       "97: sang vor kiære Giæst ( I veed , jeg er hiemme paa Auestad som hos alle"
      ],
      "text/plain": [
       "<IPython.core.display.Markdown object>"
      ]
     },
     "metadata": {},
     "output_type": "display_data"
    },
    {
     "data": {
      "text/markdown": [
       "99: . « Jeg faaer altiid godt Veyr naar jeg er ude og reyser » sagde Faer"
      ],
      "text/plain": [
       "<IPython.core.display.Markdown object>"
      ]
     },
     "metadata": {},
     "output_type": "display_data"
    },
    {
     "data": {
      "text/markdown": [
       "103: var saa utaalmodig som en Elsker ( siden jeg er saa nær det halve Secel tør"
      ],
      "text/plain": [
       "<IPython.core.display.Markdown object>"
      ]
     },
     "metadata": {},
     "output_type": "display_data"
    },
    {
     "data": {
      "text/markdown": [
       "155: er hun brav , siger hun , og jeg er det virkelig , om kun ikke"
      ],
      "text/plain": [
       "<IPython.core.display.Markdown object>"
      ]
     },
     "metadata": {},
     "output_type": "display_data"
    },
    {
     "data": {
      "text/markdown": [
       "183: det første jeg fortæller Eder være , at jeg er overmaade rask i Dag , og"
      ],
      "text/plain": [
       "<IPython.core.display.Markdown object>"
      ]
     },
     "metadata": {},
     "output_type": "display_data"
    },
    {
     "data": {
      "text/markdown": [
       "188: . O , at de saae hvor frisk jeg er , hvor godt jeg har det"
      ],
      "text/plain": [
       "<IPython.core.display.Markdown object>"
      ]
     },
     "metadata": {},
     "output_type": "display_data"
    },
    {
     "data": {
      "text/markdown": [
       "198: vi lever i sød Roe , og at jeg er ret dygtig frisk . Om Formiddagen"
      ],
      "text/plain": [
       "<IPython.core.display.Markdown object>"
      ]
     },
     "metadata": {},
     "output_type": "display_data"
    },
    {
     "data": {
      "text/markdown": [
       "257: lidt længere ; og saa stoer en Hader jeg er af Skiændselsstøtter , denne os elskelige"
      ],
      "text/plain": [
       "<IPython.core.display.Markdown object>"
      ]
     },
     "metadata": {},
     "output_type": "display_data"
    },
    {
     "data": {
      "text/markdown": [
       "265: , er at beskyldes for Bitterhed , naar jeg er mig bevidst , at have skrevet"
      ],
      "text/plain": [
       "<IPython.core.display.Markdown object>"
      ]
     },
     "metadata": {},
     "output_type": "display_data"
    },
    {
     "data": {
      "text/markdown": [
       "317: , jeg skylder Fader Pavels Brev , men jeg er saa mat , at jeg maae"
      ],
      "text/plain": [
       "<IPython.core.display.Markdown object>"
      ]
     },
     "metadata": {},
     "output_type": "display_data"
    },
    {
     "data": {
      "text/markdown": [
       "341: nu i Dag i al Regnen , og jeg er vreed paa mig selv , fordi"
      ],
      "text/plain": [
       "<IPython.core.display.Markdown object>"
      ]
     },
     "metadata": {},
     "output_type": "display_data"
    },
    {
     "data": {
      "text/markdown": [
       "350: var jeg ikke Kl halvtolv i Aftes som jeg er nu . Seer I , her"
      ],
      "text/plain": [
       "<IPython.core.display.Markdown object>"
      ]
     },
     "metadata": {},
     "output_type": "display_data"
    },
    {
     "data": {
      "text/markdown": [
       "350: Aften og disse glade Dage . Jeg synes jeg er blevet endnu yngere end før ,"
      ],
      "text/plain": [
       "<IPython.core.display.Markdown object>"
      ]
     },
     "metadata": {},
     "output_type": "display_data"
    },
    {
     "data": {
      "text/markdown": [
       "350: før , og I veed , hvor ung jeg er naar jeg er glad . Og"
      ],
      "text/plain": [
       "<IPython.core.display.Markdown object>"
      ]
     },
     "metadata": {},
     "output_type": "display_data"
    },
    {
     "data": {
      "text/markdown": [
       "350: I veed , hvor ung jeg er naar jeg er glad . Og nu Udsigten til"
      ],
      "text/plain": [
       "<IPython.core.display.Markdown object>"
      ]
     },
     "metadata": {},
     "output_type": "display_data"
    },
    {
     "data": {
      "text/markdown": [
       "381: er vist denne Dags Roelighed tiænlig , da jeg er mindre end rask , og vaagnede"
      ],
      "text/plain": [
       "<IPython.core.display.Markdown object>"
      ]
     },
     "metadata": {},
     "output_type": "display_data"
    },
    {
     "data": {
      "text/markdown": [
       "403: , og har det nu værre , thi jeg er ganske brav , hun ikke ."
      ],
      "text/plain": [
       "<IPython.core.display.Markdown object>"
      ]
     },
     "metadata": {},
     "output_type": "display_data"
    },
    {
     "data": {
      "text/markdown": [
       "450: mig at fordrive den slemme Plageaand , og jeg er nu saa færm , at jeg"
      ],
      "text/plain": [
       "<IPython.core.display.Markdown object>"
      ]
     },
     "metadata": {},
     "output_type": "display_data"
    },
    {
     "data": {
      "text/markdown": [
       "459: igien havde lettet Eders ved Efterretningen om at jeg er fuldkommen frisk , da I ere"
      ],
      "text/plain": [
       "<IPython.core.display.Markdown object>"
      ]
     },
     "metadata": {},
     "output_type": "display_data"
    },
    {
     "data": {
      "text/markdown": [
       "469: Majabrevet fuldender jeg nu først . – At jeg er længe siden færdig med Tobias Hoppe"
      ],
      "text/plain": [
       "<IPython.core.display.Markdown object>"
      ]
     },
     "metadata": {},
     "output_type": "display_data"
    },
    {
     "data": {
      "text/markdown": [
       "479: Folk i Egnen her . De troer vist jeg er blevet stoerfolk eller Gud veed hvad"
      ],
      "text/plain": [
       "<IPython.core.display.Markdown object>"
      ]
     },
     "metadata": {},
     "output_type": "display_data"
    },
    {
     "data": {
      "text/markdown": [
       "497: ja saa gar Telja . Kun Kista og jeg er hiemme . Jeg stod mismodig op"
      ],
      "text/plain": [
       "<IPython.core.display.Markdown object>"
      ]
     },
     "metadata": {},
     "output_type": "display_data"
    },
    {
     "data": {
      "text/markdown": [
       "529: modsige hende , naar hun kalder Godt hvad jeg er overbevist om , ikke er det"
      ],
      "text/plain": [
       "<IPython.core.display.Markdown object>"
      ]
     },
     "metadata": {},
     "output_type": "display_data"
    },
    {
     "data": {
      "text/markdown": [
       "538: var søde Idas Fødselsdag . – Dog , jeg er jo ikke kommet rigtig til Økeren"
      ],
      "text/plain": [
       "<IPython.core.display.Markdown object>"
      ]
     },
     "metadata": {},
     "output_type": "display_data"
    },
    {
     "data": {
      "text/markdown": [
       "562: med Tryk paa ; men I veed , jeg er lidt forligt med ham i den"
      ],
      "text/plain": [
       "<IPython.core.display.Markdown object>"
      ]
     },
     "metadata": {},
     "output_type": "display_data"
    },
    {
     "data": {
      "text/markdown": [
       "574: at blive saa mange Dage længere , som jeg er borte , og det beroeliger mig"
      ],
      "text/plain": [
       "<IPython.core.display.Markdown object>"
      ]
     },
     "metadata": {},
     "output_type": "display_data"
    },
    {
     "data": {
      "text/markdown": [
       "669: og gaaer saa sikkert til Hiertet . Men jeg er nok meget svag , thi jeg"
      ],
      "text/plain": [
       "<IPython.core.display.Markdown object>"
      ]
     },
     "metadata": {},
     "output_type": "display_data"
    },
    {
     "data": {
      "text/markdown": [
       "671: . O , jeg var ikke allene , jeg er en lykkelig Moder , en af"
      ],
      "text/plain": [
       "<IPython.core.display.Markdown object>"
      ]
     },
     "metadata": {},
     "output_type": "display_data"
    },
    {
     "data": {
      "text/markdown": [
       "687: Giid I nu Alle vidste , hvor rask jeg er igien . Jeg har drukket mine"
      ],
      "text/plain": [
       "<IPython.core.display.Markdown object>"
      ]
     },
     "metadata": {},
     "output_type": "display_data"
    },
    {
     "data": {
      "text/markdown": [
       "687: . Det er et sandt Tegn til , jeg er frisk igien . Men see !"
      ],
      "text/plain": [
       "<IPython.core.display.Markdown object>"
      ]
     },
     "metadata": {},
     "output_type": "display_data"
    },
    {
     "data": {
      "text/markdown": [
       "688: , hun havde . I maae vide , jeg er bleven end mere barnagtig siden jeg"
      ],
      "text/plain": [
       "<IPython.core.display.Markdown object>"
      ]
     },
     "metadata": {},
     "output_type": "display_data"
    },
    {
     "data": {
      "text/markdown": [
       "694: Føret godt , og dog bliver jeg hvor jeg er . Jeg havde i Nat igien"
      ],
      "text/plain": [
       "<IPython.core.display.Markdown object>"
      ]
     },
     "metadata": {},
     "output_type": "display_data"
    },
    {
     "data": {
      "text/markdown": [
       "702: ofte reyst længere i slettere Føre . Men jeg er uslere end Føret , det er"
      ],
      "text/plain": [
       "<IPython.core.display.Markdown object>"
      ]
     },
     "metadata": {},
     "output_type": "display_data"
    },
    {
     "data": {
      "text/markdown": [
       "708: , nægtes eller berøves dem . Dog , jeg er kommet uden for min Sphære ,"
      ],
      "text/plain": [
       "<IPython.core.display.Markdown object>"
      ]
     },
     "metadata": {},
     "output_type": "display_data"
    },
    {
     "data": {
      "text/markdown": [
       "708: mig i mit lille grønne Kammer , hvor jeg er ligesom udenfor alt hvad der ikke"
      ],
      "text/plain": [
       "<IPython.core.display.Markdown object>"
      ]
     },
     "metadata": {},
     "output_type": "display_data"
    },
    {
     "data": {
      "text/markdown": [
       "720: . Nu skulde jeg dog , hvor lidt jeg er stemt til det , fortælle Eder"
      ],
      "text/plain": [
       "<IPython.core.display.Markdown object>"
      ]
     },
     "metadata": {},
     "output_type": "display_data"
    },
    {
     "data": {
      "text/markdown": [
       "723: mig . Jeg kan ikke sove længere end jeg er vant til , og saa snart"
      ],
      "text/plain": [
       "<IPython.core.display.Markdown object>"
      ]
     },
     "metadata": {},
     "output_type": "display_data"
    },
    {
     "data": {
      "text/markdown": [
       "745: fortrinlige blandt Lafontaines Romaner ; men nu , jeg er blevet ret fortroelig med den ,"
      ],
      "text/plain": [
       "<IPython.core.display.Markdown object>"
      ]
     },
     "metadata": {},
     "output_type": "display_data"
    },
    {
     "data": {
      "text/markdown": [
       "747: , I troer ikke hvor frisk og let jeg er i det hele Legeme , fra"
      ],
      "text/plain": [
       "<IPython.core.display.Markdown object>"
      ]
     },
     "metadata": {},
     "output_type": "display_data"
    },
    {
     "data": {
      "text/markdown": [
       "766: , og dine Venner endnu . Koren og jeg er dine Sødskende » – noget saadant"
      ],
      "text/plain": [
       "<IPython.core.display.Markdown object>"
      ]
     },
     "metadata": {},
     "output_type": "display_data"
    },
    {
     "data": {
      "text/markdown": [
       "766: jeg , troer jeg . Det græsselige : jeg er saa forladt ! – rystede mit"
      ],
      "text/plain": [
       "<IPython.core.display.Markdown object>"
      ]
     },
     "metadata": {},
     "output_type": "display_data"
    },
    {
     "data": {
      "text/markdown": [
       "766: Bryst , og det er jeg aldrig naar jeg er bedrøvet . Men Hovedet er godt"
      ],
      "text/plain": [
       "<IPython.core.display.Markdown object>"
      ]
     },
     "metadata": {},
     "output_type": "display_data"
    },
    {
     "data": {
      "text/markdown": [
       "766: Roe . Af Næstouren bliver intet . Og jeg er blevet bædre imens jeg skrev ."
      ],
      "text/plain": [
       "<IPython.core.display.Markdown object>"
      ]
     },
     "metadata": {},
     "output_type": "display_data"
    },
    {
     "data": {
      "text/markdown": [
       "#### NBkilder_Koren_1814.xml"
      ],
      "text/plain": [
       "<IPython.core.display.Markdown object>"
      ]
     },
     "metadata": {},
     "output_type": "display_data"
    },
    {
     "data": {
      "text/markdown": [
       "2: være gladere , lettere om Hiertet , end jeg er i Dag , og Gud give"
      ],
      "text/plain": [
       "<IPython.core.display.Markdown object>"
      ]
     },
     "metadata": {},
     "output_type": "display_data"
    },
    {
     "data": {
      "text/markdown": [
       "7: den fortroelige Samsnak , som I veed , jeg er saadan Giæk efter . Husherren forsømmer"
      ],
      "text/plain": [
       "<IPython.core.display.Markdown object>"
      ]
     },
     "metadata": {},
     "output_type": "display_data"
    },
    {
     "data": {
      "text/markdown": [
       "18: nu , jeg var en Mand ; men jeg er kun en svag frygtsom Pige ."
      ],
      "text/plain": [
       "<IPython.core.display.Markdown object>"
      ]
     },
     "metadata": {},
     "output_type": "display_data"
    },
    {
     "data": {
      "text/markdown": [
       "43: Frue Brat . Ak , mine Kiære , jeg er ikke halv saa god , som"
      ],
      "text/plain": [
       "<IPython.core.display.Markdown object>"
      ]
     },
     "metadata": {},
     "output_type": "display_data"
    },
    {
     "data": {
      "text/markdown": [
       "123: Inderste , end om jeg nu , da jeg er roeligere , forsøgte at giøre Eder"
      ],
      "text/plain": [
       "<IPython.core.display.Markdown object>"
      ]
     },
     "metadata": {},
     "output_type": "display_data"
    },
    {
     "data": {
      "text/markdown": [
       "169: som jeg ogsaa saa giærne vilde , fordi jeg er beredt til at leve og døe"
      ],
      "text/plain": [
       "<IPython.core.display.Markdown object>"
      ]
     },
     "metadata": {},
     "output_type": "display_data"
    },
    {
     "data": {
      "text/markdown": [
       "169: stolt af , og aldrig fragaae , at jeg er det ædle mishandlede Norges Pleyedatter ["
      ],
      "text/plain": [
       "<IPython.core.display.Markdown object>"
      ]
     },
     "metadata": {},
     "output_type": "display_data"
    },
    {
     "data": {
      "text/markdown": [
       "204: Men I Alle undres ikke over , at jeg er lidt underlig tilmode , lidt beklæmt"
      ],
      "text/plain": [
       "<IPython.core.display.Markdown object>"
      ]
     },
     "metadata": {},
     "output_type": "display_data"
    },
    {
     "data": {
      "text/markdown": [
       "#### NBkilder_Koren_1815.xml"
      ],
      "text/plain": [
       "<IPython.core.display.Markdown object>"
      ]
     },
     "metadata": {},
     "output_type": "display_data"
    },
    {
     "data": {
      "text/markdown": [
       "9: "
      ],
      "text/plain": [
       "<IPython.core.display.Markdown object>"
      ]
     },
     "metadata": {},
     "output_type": "display_data"
    },
    {
     "data": {
      "text/markdown": [
       "12: Hierte nu kun er sexten Aar , at jeg er tilfreds med Alt omkring mig ,"
      ],
      "text/plain": [
       "<IPython.core.display.Markdown object>"
      ]
     },
     "metadata": {},
     "output_type": "display_data"
    },
    {
     "data": {
      "text/markdown": [
       "13: Verdens politiske Gang . Jeg negter ikke , jeg er lidt vred paa Dem for nogle"
      ],
      "text/plain": [
       "<IPython.core.display.Markdown object>"
      ]
     },
     "metadata": {},
     "output_type": "display_data"
    },
    {
     "data": {
      "text/markdown": [
       "15: Auestad . Gud , hvor glad og lykkelig jeg er ! Men jeg er det for"
      ],
      "text/plain": [
       "<IPython.core.display.Markdown object>"
      ]
     },
     "metadata": {},
     "output_type": "display_data"
    },
    {
     "data": {
      "text/markdown": [
       "15: hvor glad og lykkelig jeg er ! Men jeg er det for meget til nu at"
      ],
      "text/plain": [
       "<IPython.core.display.Markdown object>"
      ]
     },
     "metadata": {},
     "output_type": "display_data"
    },
    {
     "data": {
      "text/markdown": [
       "#### NBkilder_Undset_Fragmenter.xml"
      ],
      "text/plain": [
       "<IPython.core.display.Markdown object>"
      ]
     },
     "metadata": {},
     "output_type": "display_data"
    },
    {
     "data": {
      "text/markdown": [
       "141: ' rettet fra ' mi ' ved overskriving jeg er hjemme . » Hun tar om"
      ],
      "text/plain": [
       "<IPython.core.display.Markdown object>"
      ]
     },
     "metadata": {},
     "output_type": "display_data"
    },
    {
     "data": {
      "text/markdown": [
       "168: . Og saa er det det , at jeg er blit ærgjerrig ogsaa nu . Fordi"
      ],
      "text/plain": [
       "<IPython.core.display.Markdown object>"
      ]
     },
     "metadata": {},
     "output_type": "display_data"
    },
    {
     "data": {
      "text/markdown": [
       "168: jeg er blit ærgjerrig ogsaa nu . Fordi jeg er din og fordi jeg skal bli"
      ],
      "text/plain": [
       "<IPython.core.display.Markdown object>"
      ]
     },
     "metadata": {},
     "output_type": "display_data"
    },
    {
     "data": {
      "text/markdown": [
       "168: vil jeg bli til noget . Og fordi jeg er lykkelig – ."
      ],
      "text/plain": [
       "<IPython.core.display.Markdown object>"
      ]
     },
     "metadata": {},
     "output_type": "display_data"
    },
    {
     "data": {
      "text/markdown": [
       "169: gud , naar jeg tænker paa , hvor jeg er lykkelig – . Og jeg kan"
      ],
      "text/plain": [
       "<IPython.core.display.Markdown object>"
      ]
     },
     "metadata": {},
     "output_type": "display_data"
    },
    {
     "data": {
      "text/markdown": [
       "169: Og jeg kan ikke glemme , fordi om jeg er lykkelig , at livet er bundløst"
      ],
      "text/plain": [
       "<IPython.core.display.Markdown object>"
      ]
     },
     "metadata": {},
     "output_type": "display_data"
    },
    {
     "data": {
      "text/markdown": [
       "169: , der ikke vet , hvor bundløst rik jeg er – det er bare som en"
      ],
      "text/plain": [
       "<IPython.core.display.Markdown object>"
      ]
     },
     "metadata": {},
     "output_type": "display_data"
    },
    {
     "data": {
      "text/markdown": [
       "171: mig til mit arbeide ? Jeg som synes jeg er kommet utenfor livet – det som"
      ],
      "text/plain": [
       "<IPython.core.display.Markdown object>"
      ]
     },
     "metadata": {},
     "output_type": "display_data"
    },
    {
     "data": {
      "text/markdown": [
       "171: er der , men jeg husker , hvor jeg er født og baaren og hvor min"
      ],
      "text/plain": [
       "<IPython.core.display.Markdown object>"
      ]
     },
     "metadata": {},
     "output_type": "display_data"
    },
    {
     "data": {
      "text/markdown": [
       "171: kom dit . Og sommetider , netop naar jeg er mest lykkelig , saa stikker det"
      ],
      "text/plain": [
       "<IPython.core.display.Markdown object>"
      ]
     },
     "metadata": {},
     "output_type": "display_data"
    },
    {
     "data": {
      "text/markdown": [
       "207: tror ikke jeg kunde blit saa lykkelig som jeg er , hvis der ikke hadde været"
      ],
      "text/plain": [
       "<IPython.core.display.Markdown object>"
      ]
     },
     "metadata": {},
     "output_type": "display_data"
    }
   ],
   "source": [
    "for i in korpus_konk(['jeg', 'er'], kilder_korpus, before=8, after=8):\n",
    "    try:\n",
    "        display(Markdown(i))\n",
    "    except:\n",
    "        print(i)"
   ]
  },
  {
   "cell_type": "markdown",
   "metadata": {},
   "source": [
    "## Regulære uttrykk for konk"
   ]
  },
  {
   "cell_type": "code",
   "execution_count": 10,
   "metadata": {},
   "outputs": [
    {
     "data": {
      "text/markdown": [
       "#### NBkilder_Amundsen_Slededagbok.xml"
      ],
      "text/plain": [
       "<IPython.core.display.Markdown object>"
      ]
     },
     "metadata": {},
     "output_type": "display_data"
    },
    {
     "data": {
      "text/markdown": [
       "4: gelse. Ingen a åss såv ett minutt. Har idag skutt <span style='color:#22F'>henne </span>da de ikke var muli å manøvrere me henne. Likeled"
      ],
      "text/plain": [
       "<IPython.core.display.Markdown object>"
      ]
     },
     "metadata": {},
     "output_type": "display_data"
    },
    {
     "data": {
      "text/markdown": [
       "44:  over disse lomske strekninger. Vi går med live i <span style='color:#22F'>hennerne </span>vær dag, men det er morsomt at høre – ingen ønske"
      ],
      "text/plain": [
       "<IPython.core.display.Markdown object>"
      ]
     },
     "metadata": {},
     "output_type": "display_data"
    },
    {
     "data": {
      "text/markdown": [
       "63: redd for, di har tatt veien tilbake, vor vi skjøt <span style='color:#22F'>henne. </span>–"
      ],
      "text/plain": [
       "<IPython.core.display.Markdown object>"
      ]
     },
     "metadata": {},
     "output_type": "display_data"
    },
    {
     "data": {
      "text/markdown": [
       "123: n å tekkeli – ypperli fårr en go beskuen. Vi knep <span style='color:#22F'>henne </span>– vi tok ikke feil – å resultate – ja, de var tem"
      ],
      "text/plain": [
       "<IPython.core.display.Markdown object>"
      ]
     },
     "metadata": {},
     "output_type": "display_data"
    },
    {
     "data": {
      "text/markdown": [
       "157: omm ikke lenge har dere åss ijenn å da me seier i <span style='color:#22F'>hennerne. </span>Vi feirer vår julekvell iaften. Vi har jo ivirkli"
      ],
      "text/plain": [
       "<IPython.core.display.Markdown object>"
      ]
     },
     "metadata": {},
     "output_type": "display_data"
    },
    {
     "data": {
      "text/markdown": [
       "202: stnåkk hadde hunn fallt ned a varden å flesske på <span style='color:#22F'>henne </span>– hunn var særdeles fet – var noe gult – metatt a"
      ],
      "text/plain": [
       "<IPython.core.display.Markdown object>"
      ]
     },
     "metadata": {},
     "output_type": "display_data"
    },
    {
     "data": {
      "text/markdown": [
       "#### NBkilder_Collett_Brev_1841-51.xml"
      ],
      "text/plain": [
       "<IPython.core.display.Markdown object>"
      ]
     },
     "metadata": {},
     "output_type": "display_data"
    },
    {
     "data": {
      "text/markdown": [
       "5: ter Jonas Collett nevner «Mad. Braae» og familien <span style='color:#22F'>hennes </span>i brev fra 1839 og 1840 (Collett og Collett 1926–"
      ],
      "text/plain": [
       "<IPython.core.display.Markdown object>"
      ]
     },
     "metadata": {},
     "output_type": "display_data"
    },
    {
     "data": {
      "text/markdown": [
       "114: – at BraasBraas] trolig Louise Braae (født 1788), <span style='color:#22F'>hennes </span>datter Christiane (Jane) og svigersønn Ernst Ferd"
      ],
      "text/plain": [
       "<IPython.core.display.Markdown object>"
      ]
     },
     "metadata": {},
     "output_type": "display_data"
    },
    {
     "data": {
      "text/markdown": [
       "169: elEngel] Engel Dallin (Dahlin) (1792–1862) længer <span style='color:#22F'>henne </span>kunde jeg see et Par korslagte Been der tilhørte "
      ],
      "text/plain": [
       "<IPython.core.display.Markdown object>"
      ]
     },
     "metadata": {},
     "output_type": "display_data"
    },
    {
     "data": {
      "text/markdown": [
       "206: gusta) (1811–72), Peter Jonas Colletts søster, og <span style='color:#22F'>hennes </span>mann Peter Severin Paulsen Steenstrup (1807–63) l"
      ],
      "text/plain": [
       "<IPython.core.display.Markdown object>"
      ]
     },
     "metadata": {},
     "output_type": "display_data"
    },
    {
     "data": {
      "text/markdown": [
       "326: gusta) (1811–72), Peter Jonas Colletts søster, og <span style='color:#22F'>hennes </span>mann Peter Severin Paulsen Steenstrup (1807–63) o"
      ],
      "text/plain": [
       "<IPython.core.display.Markdown object>"
      ]
     },
     "metadata": {},
     "output_type": "display_data"
    },
    {
     "data": {
      "text/markdown": [
       "331:  fik idag netop som jeg skulde begynde min Siesta <span style='color:#22F'>henne </span>hos Kaltenb.sKaltenborns] dvs. søstrene Marie (18"
      ],
      "text/plain": [
       "<IPython.core.display.Markdown object>"
      ]
     },
     "metadata": {},
     "output_type": "display_data"
    },
    {
     "data": {
      "text/markdown": [
       "338: gusta) (1811–72), Peter Jonas Colletts søster, og <span style='color:#22F'>hennes </span>mann Peter Severin Paulsen Steenstrup (1807–63) –"
      ],
      "text/plain": [
       "<IPython.core.display.Markdown object>"
      ]
     },
     "metadata": {},
     "output_type": "display_data"
    },
    {
     "data": {
      "text/markdown": [
       "#### NBkilder_Collett_Brev_1852-63.xml"
      ],
      "text/plain": [
       "<IPython.core.display.Markdown object>"
      ]
     },
     "metadata": {},
     "output_type": "display_data"
    },
    {
     "data": {
      "text/markdown": [
       "46: eller Sligt. 2 a 3 Gange har Børnene og jeg været <span style='color:#22F'>henne </span>hos Halkjers i Julen. Naar der er Folk der, kjede"
      ],
      "text/plain": [
       "<IPython.core.display.Markdown object>"
      ]
     },
     "metadata": {},
     "output_type": "display_data"
    },
    {
     "data": {
      "text/markdown": [
       "71: alentin Christian Wilhelm Sibbern (1779–1853), og <span style='color:#22F'>hennes </span>ugifte datter Juliane Augusta Bolette Sibbern (18"
      ],
      "text/plain": [
       "<IPython.core.display.Markdown object>"
      ]
     },
     "metadata": {},
     "output_type": "display_data"
    },
    {
     "data": {
      "text/markdown": [
       "148: ), Peter Jonas Colletts søster. Collett skrev til <span style='color:#22F'>henne </span>7. august 1853. skrev jeg fra Klampenborg – da je"
      ],
      "text/plain": [
       "<IPython.core.display.Markdown object>"
      ]
     },
     "metadata": {},
     "output_type": "display_data"
    },
    {
     "data": {
      "text/markdown": [
       "174: t mig skyldig i] på et senere tidspunkt rettet av <span style='color:#22F'>henne </span>selv til 'Den største Uforsigtighed hvori jeg har"
      ],
      "text/plain": [
       "<IPython.core.display.Markdown object>"
      ]
     },
     "metadata": {},
     "output_type": "display_data"
    },
    {
     "data": {
      "text/markdown": [
       "256: 53, var gift med Oscar Wergeland uden Gouvernante <span style='color:#22F'>henne </span>i en Smaaeby eller værre endnu paa Landet – nei S"
      ],
      "text/plain": [
       "<IPython.core.display.Markdown object>"
      ]
     },
     "metadata": {},
     "output_type": "display_data"
    },
    {
     "data": {
      "text/markdown": [
       "276: I Forgaars, Tirsdag vare vi Alle <span style='color:#22F'>henne </span>og saa «Lord Russell», Munchs nye Tragedie,«Lord "
      ],
      "text/plain": [
       "<IPython.core.display.Markdown object>"
      ]
     },
     "metadata": {},
     "output_type": "display_data"
    },
    {
     "data": {
      "text/markdown": [
       "469: 1–98), byråsjef, Peter Jonas Colletts bror ligger <span style='color:#22F'>henne </span>og hvor han agter sig hen"
      ],
      "text/plain": [
       "<IPython.core.display.Markdown object>"
      ]
     },
     "metadata": {},
     "output_type": "display_data"
    },
    {
     "data": {
      "text/markdown": [
       "563:  (1844–1919) og Emil (1848–1904) bodde sammen med <span style='color:#22F'>henne. </span>I 1862 ga hun Robert og Oscar deres del av arven."
      ],
      "text/plain": [
       "<IPython.core.display.Markdown object>"
      ]
     },
     "metadata": {},
     "output_type": "display_data"
    },
    {
     "data": {
      "text/markdown": [
       "#### NBkilder_Collett_Brev_til_Ibsen.xml"
      ],
      "text/plain": [
       "<IPython.core.display.Markdown object>"
      ]
     },
     "metadata": {},
     "output_type": "display_data"
    },
    {
     "data": {
      "text/markdown": [
       "88: Ak hvor er De <span style='color:#22F'>henne! </span>Hvor skal jeg søge Dem! Når Aftenen kommer, tænke"
      ],
      "text/plain": [
       "<IPython.core.display.Markdown object>"
      ]
     },
     "metadata": {},
     "output_type": "display_data"
    },
    {
     "data": {
      "text/markdown": [
       "#### NBkilder_Collett_Skildpadde.xml"
      ],
      "text/plain": [
       "<IPython.core.display.Markdown object>"
      ]
     },
     "metadata": {},
     "output_type": "display_data"
    },
    {
     "data": {
      "text/markdown": [
       "47:  Henrikske Anecdoter som hun vel havde snappet op <span style='color:#22F'>henne </span>hos ReimersReimers] tysk grossererfamilie (Steinf"
      ],
      "text/plain": [
       "<IPython.core.display.Markdown object>"
      ]
     },
     "metadata": {},
     "output_type": "display_data"
    },
    {
     "data": {
      "text/markdown": [
       "#### NBkilder_Dardel_Voyage.xml"
      ],
      "text/plain": [
       "<IPython.core.display.Markdown object>"
      ]
     },
     "metadata": {},
     "output_type": "display_data"
    },
    {
     "data": {
      "text/markdown": [
       "405: r det eneste jeg fikk erfare; jeg ankom og forlot <span style='color:#22F'>hennes </span>bolig på tidspunkter som var for ubeleilige til a"
      ],
      "text/plain": [
       "<IPython.core.display.Markdown object>"
      ]
     },
     "metadata": {},
     "output_type": "display_data"
    },
    {
     "data": {
      "text/markdown": [
       "423: om for 80 spesidaler hadde overlatt sin bolig til <span style='color:#22F'>henne </span>for natten. Etter middag smøg Bildt og jeg oss be"
      ],
      "text/plain": [
       "<IPython.core.display.Markdown object>"
      ]
     },
     "metadata": {},
     "output_type": "display_data"
    },
    {
     "data": {
      "text/markdown": [
       "425: et seg til kronprinsessens reisefølge og satt med <span style='color:#22F'>henne </span>i jernbanevognen. Vi ble tatt imot av byens øvrig"
      ],
      "text/plain": [
       "<IPython.core.display.Markdown object>"
      ]
     },
     "metadata": {},
     "output_type": "display_data"
    },
    {
     "data": {
      "text/markdown": [
       "430: g, og frukten av en kjærlighetsaffære. Ektemannen <span style='color:#22F'>hennes </span>er en gammel skravlekopp."
      ],
      "text/plain": [
       "<IPython.core.display.Markdown object>"
      ]
     },
     "metadata": {},
     "output_type": "display_data"
    },
    {
     "data": {
      "text/markdown": [
       "433: til å ta med min hustru og mine barn på besøk til <span style='color:#22F'>henne, </span>hvilket jeg med glede vil gjøre når de kommer hit"
      ],
      "text/plain": [
       "<IPython.core.display.Markdown object>"
      ]
     },
     "metadata": {},
     "output_type": "display_data"
    },
    {
     "data": {
      "text/markdown": [
       "439: meddelsom. Jeg kom i skade for å få tjenestepiken <span style='color:#22F'>hennes </span>til å gå på hodet – den tykke tyske kvinnen snubl"
      ],
      "text/plain": [
       "<IPython.core.display.Markdown object>"
      ]
     },
     "metadata": {},
     "output_type": "display_data"
    },
    {
     "data": {
      "text/markdown": [
       "444: ord var søsteren til løytnant Kjerulf, som fulgte <span style='color:#22F'>henne </span>til badeanstalten. Denne unge piken har vært lam "
      ],
      "text/plain": [
       "<IPython.core.display.Markdown object>"
      ]
     },
     "metadata": {},
     "output_type": "display_data"
    },
    {
     "data": {
      "text/markdown": [
       "471: ildt og jeg knivet om å få gleden av å snakke med <span style='color:#22F'>henne, </span>og han følte seg ikke rent lite smigret da han hø"
      ],
      "text/plain": [
       "<IPython.core.display.Markdown object>"
      ]
     },
     "metadata": {},
     "output_type": "display_data"
    },
    {
     "data": {
      "text/markdown": [
       "476:  en maistang, en beskjeftigelse kronprinsessen og <span style='color:#22F'>hennes </span>hoffdamer brukte to timer på. Herrene Lövenskjöld"
      ],
      "text/plain": [
       "<IPython.core.display.Markdown object>"
      ]
     },
     "metadata": {},
     "output_type": "display_data"
    },
    {
     "data": {
      "text/markdown": [
       "477:  bønnfallelser og dels av trusler klarte man å få <span style='color:#22F'>henne </span>til å trekke tilbake sitt nei, og omsider kom de "
      ],
      "text/plain": [
       "<IPython.core.display.Markdown object>"
      ]
     },
     "metadata": {},
     "output_type": "display_data"
    },
    {
     "data": {
      "text/markdown": [
       "478: nsessen til Ems, der hun skulle oppholde seg mens <span style='color:#22F'>hennes </span>gemal foretok sin store norgesreise."
      ],
      "text/plain": [
       "<IPython.core.display.Markdown object>"
      ]
     },
     "metadata": {},
     "output_type": "display_data"
    },
    {
     "data": {
      "text/markdown": [
       "512: nisk tone: «Siden hun stammer fra folket, gir jeg <span style='color:#22F'>henne </span>bare et armbånd nr. 2», hvorpå han la armbånd nr."
      ],
      "text/plain": [
       "<IPython.core.display.Markdown object>"
      ]
     },
     "metadata": {},
     "output_type": "display_data"
    },
    {
     "data": {
      "text/markdown": [
       "517: <span style='color:#22F'>hennes </span>former er tandre, men faste og runde, og når hun "
      ],
      "text/plain": [
       "<IPython.core.display.Markdown object>"
      ]
     },
     "metadata": {},
     "output_type": "display_data"
    },
    {
     "data": {
      "text/markdown": [
       "518: båten. Hennes to venninner, som var noe eldre enn <span style='color:#22F'>henne, </span>hadde lyst til det samme, men uttrykte seg på en "
      ],
      "text/plain": [
       "<IPython.core.display.Markdown object>"
      ]
     },
     "metadata": {},
     "output_type": "display_data"
    },
    {
     "data": {
      "text/markdown": [
       "529: . Herr Hanssen ba om tillatelse til å fotografere <span style='color:#22F'>henne, </span>men siden kronprinsen skulle legge i vei før solo"
      ],
      "text/plain": [
       "<IPython.core.display.Markdown object>"
      ]
     },
     "metadata": {},
     "output_type": "display_data"
    },
    {
     "data": {
      "text/markdown": [
       "568: Landemarks schäferhatt på plass, smøg armen rundt <span style='color:#22F'>hennes </span>skuldre, eller Dahll som klemte frøken Jaegers sp"
      ],
      "text/plain": [
       "<IPython.core.display.Markdown object>"
      ]
     },
     "metadata": {},
     "output_type": "display_data"
    },
    {
     "data": {
      "text/markdown": [
       "591: . Hun er en tilårskommen kvinne, men samtalen med <span style='color:#22F'>henne </span>gjorde at tiden falt mindre lang. Kvinnene fra de"
      ],
      "text/plain": [
       "<IPython.core.display.Markdown object>"
      ]
     },
     "metadata": {},
     "output_type": "display_data"
    },
    {
     "data": {
      "text/markdown": [
       "605:  er syk,» sa han bedrøvet, «neste uke skal jeg ta <span style='color:#22F'>henne </span>til Sankt Jørgens hospital!»"
      ],
      "text/plain": [
       "<IPython.core.display.Markdown object>"
      ]
     },
     "metadata": {},
     "output_type": "display_data"
    },
    {
     "data": {
      "text/markdown": [
       "619: huset, holdt meg med selskap mens jeg tegnet. Til <span style='color:#22F'>hennes </span>store glede tok jeg en skisse også av henne. Jeg "
      ],
      "text/plain": [
       "<IPython.core.display.Markdown object>"
      ]
     },
     "metadata": {},
     "output_type": "display_data"
    },
    {
     "data": {
      "text/markdown": [
       "646: en velstående bonde fra egnen og hadde anholdt om <span style='color:#22F'>hennes </span>hånd. Etter selv å reist til England for å innhen"
      ],
      "text/plain": [
       "<IPython.core.display.Markdown object>"
      ]
     },
     "metadata": {},
     "output_type": "display_data"
    },
    {
     "data": {
      "text/markdown": [
       "651: n giftet seg med en ung mann på 18. Da jeg spurte <span style='color:#22F'>henne </span>om hva hun hadde brakt i medgift til ektemannen, "
      ],
      "text/plain": [
       "<IPython.core.display.Markdown object>"
      ]
     },
     "metadata": {},
     "output_type": "display_data"
    },
    {
     "data": {
      "text/markdown": [
       "655: ze-antrekk: en kvinne med en formidabel parykk og <span style='color:#22F'>hennes </span>to suksessive ektemenn, som sto på hver sin side "
      ],
      "text/plain": [
       "<IPython.core.display.Markdown object>"
      ]
     },
     "metadata": {},
     "output_type": "display_data"
    },
    {
     "data": {
      "text/markdown": [
       "660: er, var til stede under måltidet, og det var også <span style='color:#22F'>hennes </span>mor; førstnevnte var nokså smukk. Etter å ha skre"
      ],
      "text/plain": [
       "<IPython.core.display.Markdown object>"
      ]
     },
     "metadata": {},
     "output_type": "display_data"
    },
    {
     "data": {
      "text/markdown": [
       "667: lig fiskerhus. Der lå en ung kvinne og spedbarnet <span style='color:#22F'>hennes </span>til sengs. Vi ble svært velvillig mottatt, og men"
      ],
      "text/plain": [
       "<IPython.core.display.Markdown object>"
      ]
     },
     "metadata": {},
     "output_type": "display_data"
    },
    {
     "data": {
      "text/markdown": [
       "708:  dager hadde jeg fått en høy stjerne hos fruen og <span style='color:#22F'>hennes </span>to små, som jeg moret med forskjellige tegninger,"
      ],
      "text/plain": [
       "<IPython.core.display.Markdown object>"
      ]
     },
     "metadata": {},
     "output_type": "display_data"
    },
    {
     "data": {
      "text/markdown": [
       "710:  med uforrettet sak. Den dagen fruen ankom, hadde <span style='color:#22F'>hennes </span>Georges vært så uheldig å skrape bena kraftig opp"
      ],
      "text/plain": [
       "<IPython.core.display.Markdown object>"
      ]
     },
     "metadata": {},
     "output_type": "display_data"
    },
    {
     "data": {
      "text/markdown": [
       "714: r. Hennes beskrivelse av de strenge vintrene skar <span style='color:#22F'>hennes </span>far, herr Mørk, i hjertet, og nå og da utbrøt han"
      ],
      "text/plain": [
       "<IPython.core.display.Markdown object>"
      ]
     },
     "metadata": {},
     "output_type": "display_data"
    },
    {
     "data": {
      "text/markdown": [
       "741:  jeg la siste hånd på portrettene av fru Magda og <span style='color:#22F'>hennes </span>to sønner, som jeg ga dem som minne."
      ],
      "text/plain": [
       "<IPython.core.display.Markdown object>"
      ]
     },
     "metadata": {},
     "output_type": "display_data"
    },
    {
     "data": {
      "text/markdown": [
       "753: ert flere damer; jeg bød husets frue armen og tok <span style='color:#22F'>henne </span>med på en vandring langs alleene i hagen hennes. "
      ],
      "text/plain": [
       "<IPython.core.display.Markdown object>"
      ]
     },
     "metadata": {},
     "output_type": "display_data"
    },
    {
     "data": {
      "text/markdown": [
       "755: u Knutsen, en riktig livlig og vittig ung kvinne, <span style='color:#22F'>hennes </span>søster frøken de Trampe, vakre frøken Olsen og ti"
      ],
      "text/plain": [
       "<IPython.core.display.Markdown object>"
      ]
     },
     "metadata": {},
     "output_type": "display_data"
    },
    {
     "data": {
      "text/markdown": [
       "757: n vals ba jeg fru Knutsen om å få hilse på mannen <span style='color:#22F'>hennes, </span>en embetsmann med alvorlig mine som hun pekte ut "
      ],
      "text/plain": [
       "<IPython.core.display.Markdown object>"
      ]
     },
     "metadata": {},
     "output_type": "display_data"
    },
    {
     "data": {
      "text/markdown": [
       "764: stille et øyeblikk før bjørnene galant hadde gitt <span style='color:#22F'>henne </span>fri passasje ved å gå inn i skogen igjen. Vi stan"
      ],
      "text/plain": [
       "<IPython.core.display.Markdown object>"
      ]
     },
     "metadata": {},
     "output_type": "display_data"
    },
    {
     "data": {
      "text/markdown": [
       "774: edd i en kjole av rosa gas; det vakre, lyse håret <span style='color:#22F'>hennes </span>var pyntet med ekte fuksiaer i frodige klaser. He"
      ],
      "text/plain": [
       "<IPython.core.display.Markdown object>"
      ]
     },
     "metadata": {},
     "output_type": "display_data"
    },
    {
     "data": {
      "text/markdown": [
       "776:  den ære å ta imot armen min da jeg tilbød å føre <span style='color:#22F'>henne </span>til herr Enevoldsen, for hun skulle også sove der"
      ],
      "text/plain": [
       "<IPython.core.display.Markdown object>"
      ]
     },
     "metadata": {},
     "output_type": "display_data"
    },
    {
     "data": {
      "text/markdown": [
       "#### NBkilder_KKielland_AGarborg_brev.xml"
      ],
      "text/plain": [
       "<IPython.core.display.Markdown object>"
      ]
     },
     "metadata": {},
     "output_type": "display_data"
    },
    {
     "data": {
      "text/markdown": [
       "301: rriet] Harriet Backer (1845–1932), kunstner Spørg <span style='color:#22F'>henne, </span>om hun vil gjøre mig en liden Skizze af en eller "
      ],
      "text/plain": [
       "<IPython.core.display.Markdown object>"
      ]
     },
     "metadata": {},
     "output_type": "display_data"
    },
    {
     "data": {
      "text/markdown": [
       "399: ). Han tegnet ulike modeller, så usikkert hvordan <span style='color:#22F'>hennes </span>så ut. Kilde: Ingrid Blekastad: «Naturalisten Fre"
      ],
      "text/plain": [
       "<IPython.core.display.Markdown object>"
      ]
     },
     "metadata": {},
     "output_type": "display_data"
    },
    {
     "data": {
      "text/markdown": [
       "#### NBkilder_Koren_1805.xml"
      ],
      "text/plain": [
       "<IPython.core.display.Markdown object>"
      ]
     },
     "metadata": {},
     "output_type": "display_data"
    },
    {
     "data": {
      "text/markdown": [
       "41: g for det første kun den lille Madame, da han var <span style='color:#22F'>henne </span>hos sine Høerivrere, og kom hiem ganske giennembl"
      ],
      "text/plain": [
       "<IPython.core.display.Markdown object>"
      ]
     },
     "metadata": {},
     "output_type": "display_data"
    },
    {
     "data": {
      "text/markdown": [
       "47: Arme Hertel, arme Brock! hvor de have været <span style='color:#22F'>henne </span>i det fæle, frygtelige Veir, som her holdt ved i "
      ],
      "text/plain": [
       "<IPython.core.display.Markdown object>"
      ]
     },
     "metadata": {},
     "output_type": "display_data"
    },
    {
     "data": {
      "text/markdown": [
       "#### NBkilder_Koren_1808.xml"
      ],
      "text/plain": [
       "<IPython.core.display.Markdown object>"
      ]
     },
     "metadata": {},
     "output_type": "display_data"
    },
    {
     "data": {
      "text/markdown": [
       "402: Jeg har nu, Kl 6, været <span style='color:#22F'>henne </span>og hilset paa min Høy, paa Frue Lotta, det er: he"
      ],
      "text/plain": [
       "<IPython.core.display.Markdown object>"
      ]
     },
     "metadata": {},
     "output_type": "display_data"
    },
    {
     "data": {
      "text/markdown": [
       "807:  Sara, Jes, Hertel om hans Leye, saae Lyset langt <span style='color:#22F'>henne </span>i en Krog, kaste sit matte Skin paa de omstaaende"
      ],
      "text/plain": [
       "<IPython.core.display.Markdown object>"
      ]
     },
     "metadata": {},
     "output_type": "display_data"
    },
    {
     "data": {
      "text/markdown": [
       "#### NBkilder_Koren_1809.xml"
      ],
      "text/plain": [
       "<IPython.core.display.Markdown object>"
      ]
     },
     "metadata": {},
     "output_type": "display_data"
    },
    {
     "data": {
      "text/markdown": [
       "29: a reyst i Dag[.] Saa er det da godt, jeg beholder <span style='color:#22F'>henne </span>saa meget længer[.] Men nu er det ogsaa forbi. Hu"
      ],
      "text/plain": [
       "<IPython.core.display.Markdown object>"
      ]
     },
     "metadata": {},
     "output_type": "display_data"
    },
    {
     "data": {
      "text/markdown": [
       "829: te Føre, og ridende, skiøndt hun alt er saa langt <span style='color:#22F'>henne </span>i sit Svangerskab, kom nok saa raskt ved Siden af"
      ],
      "text/plain": [
       "<IPython.core.display.Markdown object>"
      ]
     },
     "metadata": {},
     "output_type": "display_data"
    },
    {
     "data": {
      "text/markdown": [
       "929:  kryss eller et kors etter datoen, 9.12.1808 døde <span style='color:#22F'>hennes </span>datter Sara. – Endnu er min Ring ikke funden, ak,"
      ],
      "text/plain": [
       "<IPython.core.display.Markdown object>"
      ]
     },
     "metadata": {},
     "output_type": "display_data"
    },
    {
     "data": {
      "text/markdown": [
       "#### NBkilder_Koren_1810.xml"
      ],
      "text/plain": [
       "<IPython.core.display.Markdown object>"
      ]
     },
     "metadata": {},
     "output_type": "display_data"
    },
    {
     "data": {
      "text/markdown": [
       "901:  kryss eller et kors etter datoen, 3.11.1808 døde <span style='color:#22F'>hennes </span>sønn Wilhelm. Neppe, I Elskede, er der Een ibland"
      ],
      "text/plain": [
       "<IPython.core.display.Markdown object>"
      ]
     },
     "metadata": {},
     "output_type": "display_data"
    },
    {
     "data": {
      "text/markdown": [
       "924: rsomt og godt. Om Eftermiddagen var Hertel og Jes <span style='color:#22F'>henne </span>at see til den meget syge Mad: Widing, som saa in"
      ],
      "text/plain": [
       "<IPython.core.display.Markdown object>"
      ]
     },
     "metadata": {},
     "output_type": "display_data"
    },
    {
     "data": {
      "text/markdown": [
       "#### NBkilder_Koren_1811.xml"
      ],
      "text/plain": [
       "<IPython.core.display.Markdown object>"
      ]
     },
     "metadata": {},
     "output_type": "display_data"
    },
    {
     "data": {
      "text/markdown": [
       "165: e jeg holdt mere af Landet end Byen» – Da det var <span style='color:#22F'>hennes </span>første Samtale med min stille Maja, vidnede det j"
      ],
      "text/plain": [
       "<IPython.core.display.Markdown object>"
      ]
     },
     "metadata": {},
     "output_type": "display_data"
    },
    {
     "data": {
      "text/markdown": [
       "292:  ham. Scenen var Bakkehuset) – Men da jeg længere <span style='color:#22F'>henne </span>saae, at lille Syvald endnu ikke var ret rask, lo"
      ],
      "text/plain": [
       "<IPython.core.display.Markdown object>"
      ]
     },
     "metadata": {},
     "output_type": "display_data"
    },
    {
     "data": {
      "text/markdown": [
       "#### NBkilder_Koren_1812.xml"
      ],
      "text/plain": [
       "<IPython.core.display.Markdown object>"
      ]
     },
     "metadata": {},
     "output_type": "display_data"
    },
    {
     "data": {
      "text/markdown": [
       "138: i sit hele Væsen saa galante Tank var ikke allene <span style='color:#22F'>henne </span>og complimentere Masieur Cappelen (som ikke helle"
      ],
      "text/plain": [
       "<IPython.core.display.Markdown object>"
      ]
     },
     "metadata": {},
     "output_type": "display_data"
    },
    {
     "data": {
      "text/markdown": [
       "299: e vennehulde Lotta; som var dobbelt vennehuldt af <span style='color:#22F'>henne, </span>da der den følgende Dag – (i Gaar skulde være sto"
      ],
      "text/plain": [
       "<IPython.core.display.Markdown object>"
      ]
     },
     "metadata": {},
     "output_type": "display_data"
    },
    {
     "data": {
      "text/markdown": [
       "381: Min Koren er i Eftermiddag <span style='color:#22F'>henne </span>og seer til gamle Fader Munthe. Walbohm sagde til"
      ],
      "text/plain": [
       "<IPython.core.display.Markdown object>"
      ]
     },
     "metadata": {},
     "output_type": "display_data"
    },
    {
     "data": {
      "text/markdown": [
       "498: ja mi, og hvor ganske anderledes har jeg sadt hos <span style='color:#22F'>henne </span>nu end i Aftes ved denne Tiid. Den snurrige Peche"
      ],
      "text/plain": [
       "<IPython.core.display.Markdown object>"
      ]
     },
     "metadata": {},
     "output_type": "display_data"
    },
    {
     "data": {
      "text/markdown": [
       "533: har faaet malet alt dette i Gaar, men er nu langt <span style='color:#22F'>henne </span>i Formiddagen"
      ],
      "text/plain": [
       "<IPython.core.display.Markdown object>"
      ]
     },
     "metadata": {},
     "output_type": "display_data"
    },
    {
     "data": {
      "text/markdown": [
       "534: age, skiøndt hun atter er paa gode Veye, og langt <span style='color:#22F'>henne </span>paa dem. Det var mig dobbelt paafaldende, da Rikk"
      ],
      "text/plain": [
       "<IPython.core.display.Markdown object>"
      ]
     },
     "metadata": {},
     "output_type": "display_data"
    },
    {
     "data": {
      "text/markdown": [
       "#### NBkilder_Koren_1813.xml"
      ],
      "text/plain": [
       "<IPython.core.display.Markdown object>"
      ]
     },
     "metadata": {},
     "output_type": "display_data"
    },
    {
     "data": {
      "text/markdown": [
       "223: deels med Grundtvigs Krønike som jeg alt er langt <span style='color:#22F'>henne </span>i, nesten ved Reformationen. Ellers skal jeg skri"
      ],
      "text/plain": [
       "<IPython.core.display.Markdown object>"
      ]
     },
     "metadata": {},
     "output_type": "display_data"
    },
    {
     "data": {
      "text/markdown": [
       "#### NBkilder_Undset_Fragmenter.xml"
      ],
      "text/plain": [
       "<IPython.core.display.Markdown object>"
      ]
     },
     "metadata": {},
     "output_type": "display_data"
    },
    {
     "data": {
      "text/markdown": [
       "107: det er ikke brukt i de andre fragmentene), også i <span style='color:#22F'>hennes </span>egenhendige trykkmanuskript til Den lykkelige ald"
      ],
      "text/plain": [
       "<IPython.core.display.Markdown object>"
      ]
     },
     "metadata": {},
     "output_type": "display_data"
    },
    {
     "data": {
      "text/markdown": [
       "137: ar skraatak. Og lyset fra lampen paa skrivebordet <span style='color:#22F'>hennehenne] </span>den andre 'n' rettet fra 'd' ved overskriving ved"
      ],
      "text/plain": [
       "<IPython.core.display.Markdown object>"
      ]
     },
     "metadata": {},
     "output_type": "display_data"
    },
    {
     "data": {
      "text/markdown": [
       "175: Lampen brænder paa skrivebordet <span style='color:#22F'>henne </span>foran vinduet. Men lyset rækker ikke synderlig la"
      ],
      "text/plain": [
       "<IPython.core.display.Markdown object>"
      ]
     },
     "metadata": {},
     "output_type": "display_data"
    },
    {
     "data": {
      "text/markdown": [
       "177: Knut blir staaende en stund <span style='color:#22F'>henne </span>ved sit skrivebord. Han læser det sisste, han har"
      ],
      "text/plain": [
       "<IPython.core.display.Markdown object>"
      ]
     },
     "metadata": {},
     "output_type": "display_data"
    }
   ],
   "source": [
    "for i in konk_regex(\"henne[^ ]* \", kilder_korpus_string, before=50, after=50, colour=\"#22F\"):\n",
    "    display(Markdown(i))"
   ]
  },
  {
   "cell_type": "code",
   "execution_count": null,
   "metadata": {},
   "outputs": [],
   "source": []
  }
 ],
 "metadata": {
  "kernelspec": {
   "display_name": "Python 3",
   "language": "python",
   "name": "python3"
  },
  "language_info": {
   "codemirror_mode": {
    "name": "ipython",
    "version": 3
   },
   "file_extension": ".py",
   "mimetype": "text/x-python",
   "name": "python",
   "nbconvert_exporter": "python",
   "pygments_lexer": "ipython3",
   "version": "3.7.1"
  }
 },
 "nbformat": 4,
 "nbformat_minor": 2
}
