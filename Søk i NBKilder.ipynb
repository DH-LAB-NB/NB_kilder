{
 "cells": [
  {
   "cell_type": "markdown",
   "metadata": {},
   "source": [
    "## XML-Struktur\n"
   ]
  },
  {
   "cell_type": "markdown",
   "metadata": {},
   "source": [
    "# Kode og kommandoer\n",
    "\n",
    "Alle de nedenfor skal gi grunnleggende funksjonalitet for å arbeide med materialet. Alt kan knyttes til en webside etter hvert."
   ]
  },
  {
   "cell_type": "code",
   "execution_count": 1,
   "metadata": {},
   "outputs": [],
   "source": [
    "import dhlab.nbtext as nb\n",
    "from dhlab.nbtokenizer import tokenize\n",
    "from collections import Counter\n",
    "import pandas as pd\n",
    "\n",
    "import zipfile\n",
    "from bs4 import BeautifulSoup\n",
    "import sys\n",
    "import zipfile\n",
    "import re\n",
    "from IPython.display import display, Markdown\n",
    "\n",
    "## Korpuset kommer som en zip\n",
    "\n",
    "from corpus import *"
   ]
  },
  {
   "cell_type": "markdown",
   "metadata": {},
   "source": [
    "# Lag kilder\n",
    "\n",
    "Fra en zip-fil lag et korpus som kan brukes av kommandoene over."
   ]
  },
  {
   "cell_type": "code",
   "execution_count": 2,
   "metadata": {},
   "outputs": [],
   "source": [
    "kildezip = \"NBkilder.zip\"\n",
    "\n",
    "kildefiler = get_files_from_zip(kildezip)\n",
    "\n",
    "kilder_korpus = make_corpus(kildezip)\n",
    "\n",
    "kilder_korpus_string = make_corpus(kildezip, extraction= extract_text_as_string)"
   ]
  },
  {
   "cell_type": "markdown",
   "metadata": {},
   "source": [
    "# Dokument/term matrise DTM"
   ]
  },
  {
   "cell_type": "code",
   "execution_count": 3,
   "metadata": {},
   "outputs": [
    {
     "name": "stdout",
     "output_type": "stream",
     "text": [
      "NBkilder_Amundsen_Slededagbok.xml\n",
      "NBkilder_Collett_Brev_1841-51.xml\n",
      "NBkilder_Collett_Brev_1852-63.xml\n",
      "NBkilder_Collett_Brev_til_Bjornson.xml\n",
      "NBkilder_Collett_Brev_til_Ibsen.xml\n",
      "NBkilder_Collett_Brev_til_Lie.xml\n",
      "NBkilder_Collett_Skildpadde.xml\n",
      "NBkilder_Dardel_Voyage.xml\n",
      "NBkilder_Grunnlovskilder1814.xml\n",
      "NBkilder_Kjerulf_1833.xml\n",
      "NBkilder_Kjerulf_1840.xml\n",
      "NBkilder_Kjerulf_1850.xml\n",
      "NBkilder_Kjerulf_1851.xml\n",
      "NBkilder_Kjerulf_1852.xml\n",
      "NBkilder_Kjerulf_1854.xml\n",
      "NBkilder_KKielland_AGarborg_brev.xml\n",
      "NBkilder_KKielland_DSkavlan_brev.xml\n",
      "NBkilder_KKielland_EPeterssen_brev.xml\n",
      "NBkilder_Koren_1798.xml\n",
      "NBkilder_Koren_1802.xml\n",
      "NBkilder_Koren_1805.xml\n",
      "NBkilder_Koren_1808.xml\n",
      "NBkilder_Koren_1809.xml\n",
      "NBkilder_Koren_1810.xml\n",
      "NBkilder_Koren_1811.xml\n",
      "NBkilder_Koren_1812.xml\n",
      "NBkilder_Koren_1813.xml\n",
      "NBkilder_Koren_1814.xml\n",
      "NBkilder_Koren_1815.xml\n",
      "NBkilder_Undset_Fragmenter.xml\n"
     ]
    }
   ],
   "source": [
    "kilder_dtm = make_dtm(kilder_korpus).fillna(0)"
   ]
  },
  {
   "cell_type": "code",
   "execution_count": 4,
   "metadata": {},
   "outputs": [
    {
     "data": {
      "text/plain": [
       "1543132.0"
      ]
     },
     "execution_count": 4,
     "metadata": {},
     "output_type": "execute_result"
    }
   ],
   "source": [
    "kilder_dtm.sum().sum()"
   ]
  },
  {
   "cell_type": "code",
   "execution_count": 5,
   "metadata": {},
   "outputs": [
    {
     "data": {
      "text/html": [
       "<style  type=\"text/css\" >\n",
       "    #T_7a9342f7_1ac6_11eb_828f_a0a4c554f2a3row0_col0 {\n",
       "            background-color:  #d2d3e7;\n",
       "            color:  #000000;\n",
       "        }    #T_7a9342f7_1ac6_11eb_828f_a0a4c554f2a3row0_col1 {\n",
       "            background-color:  #023858;\n",
       "            color:  #f1f1f1;\n",
       "        }    #T_7a9342f7_1ac6_11eb_828f_a0a4c554f2a3row0_col2 {\n",
       "            background-color:  #023858;\n",
       "            color:  #f1f1f1;\n",
       "        }    #T_7a9342f7_1ac6_11eb_828f_a0a4c554f2a3row0_col3 {\n",
       "            background-color:  #023858;\n",
       "            color:  #f1f1f1;\n",
       "        }    #T_7a9342f7_1ac6_11eb_828f_a0a4c554f2a3row0_col4 {\n",
       "            background-color:  #023858;\n",
       "            color:  #f1f1f1;\n",
       "        }    #T_7a9342f7_1ac6_11eb_828f_a0a4c554f2a3row0_col5 {\n",
       "            background-color:  #023858;\n",
       "            color:  #f1f1f1;\n",
       "        }    #T_7a9342f7_1ac6_11eb_828f_a0a4c554f2a3row0_col6 {\n",
       "            background-color:  #023858;\n",
       "            color:  #f1f1f1;\n",
       "        }    #T_7a9342f7_1ac6_11eb_828f_a0a4c554f2a3row0_col7 {\n",
       "            background-color:  #023858;\n",
       "            color:  #f1f1f1;\n",
       "        }    #T_7a9342f7_1ac6_11eb_828f_a0a4c554f2a3row0_col8 {\n",
       "            background-color:  #023858;\n",
       "            color:  #f1f1f1;\n",
       "        }    #T_7a9342f7_1ac6_11eb_828f_a0a4c554f2a3row0_col9 {\n",
       "            background-color:  #60a1ca;\n",
       "            color:  #000000;\n",
       "        }    #T_7a9342f7_1ac6_11eb_828f_a0a4c554f2a3row0_col10 {\n",
       "            background-color:  #1c7fb8;\n",
       "            color:  #000000;\n",
       "        }    #T_7a9342f7_1ac6_11eb_828f_a0a4c554f2a3row0_col11 {\n",
       "            background-color:  #cdd0e5;\n",
       "            color:  #000000;\n",
       "        }    #T_7a9342f7_1ac6_11eb_828f_a0a4c554f2a3row0_col12 {\n",
       "            background-color:  #d5d5e8;\n",
       "            color:  #000000;\n",
       "        }    #T_7a9342f7_1ac6_11eb_828f_a0a4c554f2a3row0_col13 {\n",
       "            background-color:  #f4edf6;\n",
       "            color:  #000000;\n",
       "        }    #T_7a9342f7_1ac6_11eb_828f_a0a4c554f2a3row0_col14 {\n",
       "            background-color:  #e5e1ef;\n",
       "            color:  #000000;\n",
       "        }    #T_7a9342f7_1ac6_11eb_828f_a0a4c554f2a3row0_col15 {\n",
       "            background-color:  #023858;\n",
       "            color:  #f1f1f1;\n",
       "        }    #T_7a9342f7_1ac6_11eb_828f_a0a4c554f2a3row0_col16 {\n",
       "            background-color:  #023858;\n",
       "            color:  #f1f1f1;\n",
       "        }    #T_7a9342f7_1ac6_11eb_828f_a0a4c554f2a3row0_col17 {\n",
       "            background-color:  #023858;\n",
       "            color:  #f1f1f1;\n",
       "        }    #T_7a9342f7_1ac6_11eb_828f_a0a4c554f2a3row0_col18 {\n",
       "            background-color:  #023858;\n",
       "            color:  #f1f1f1;\n",
       "        }    #T_7a9342f7_1ac6_11eb_828f_a0a4c554f2a3row0_col19 {\n",
       "            background-color:  #023858;\n",
       "            color:  #f1f1f1;\n",
       "        }    #T_7a9342f7_1ac6_11eb_828f_a0a4c554f2a3row0_col20 {\n",
       "            background-color:  #023858;\n",
       "            color:  #f1f1f1;\n",
       "        }    #T_7a9342f7_1ac6_11eb_828f_a0a4c554f2a3row0_col21 {\n",
       "            background-color:  #023858;\n",
       "            color:  #f1f1f1;\n",
       "        }    #T_7a9342f7_1ac6_11eb_828f_a0a4c554f2a3row0_col22 {\n",
       "            background-color:  #023858;\n",
       "            color:  #f1f1f1;\n",
       "        }    #T_7a9342f7_1ac6_11eb_828f_a0a4c554f2a3row0_col23 {\n",
       "            background-color:  #023858;\n",
       "            color:  #f1f1f1;\n",
       "        }    #T_7a9342f7_1ac6_11eb_828f_a0a4c554f2a3row0_col24 {\n",
       "            background-color:  #023858;\n",
       "            color:  #f1f1f1;\n",
       "        }    #T_7a9342f7_1ac6_11eb_828f_a0a4c554f2a3row0_col25 {\n",
       "            background-color:  #023858;\n",
       "            color:  #f1f1f1;\n",
       "        }    #T_7a9342f7_1ac6_11eb_828f_a0a4c554f2a3row0_col26 {\n",
       "            background-color:  #023858;\n",
       "            color:  #f1f1f1;\n",
       "        }    #T_7a9342f7_1ac6_11eb_828f_a0a4c554f2a3row0_col27 {\n",
       "            background-color:  #023858;\n",
       "            color:  #f1f1f1;\n",
       "        }    #T_7a9342f7_1ac6_11eb_828f_a0a4c554f2a3row0_col28 {\n",
       "            background-color:  #023858;\n",
       "            color:  #f1f1f1;\n",
       "        }    #T_7a9342f7_1ac6_11eb_828f_a0a4c554f2a3row0_col29 {\n",
       "            background-color:  #023858;\n",
       "            color:  #f1f1f1;\n",
       "        }    #T_7a9342f7_1ac6_11eb_828f_a0a4c554f2a3row1_col0 {\n",
       "            background-color:  #f8f1f8;\n",
       "            color:  #000000;\n",
       "        }    #T_7a9342f7_1ac6_11eb_828f_a0a4c554f2a3row1_col1 {\n",
       "            background-color:  #6ba5cd;\n",
       "            color:  #000000;\n",
       "        }    #T_7a9342f7_1ac6_11eb_828f_a0a4c554f2a3row1_col2 {\n",
       "            background-color:  #81aed2;\n",
       "            color:  #000000;\n",
       "        }    #T_7a9342f7_1ac6_11eb_828f_a0a4c554f2a3row1_col3 {\n",
       "            background-color:  #b1c2de;\n",
       "            color:  #000000;\n",
       "        }    #T_7a9342f7_1ac6_11eb_828f_a0a4c554f2a3row1_col4 {\n",
       "            background-color:  #adc1dd;\n",
       "            color:  #000000;\n",
       "        }    #T_7a9342f7_1ac6_11eb_828f_a0a4c554f2a3row1_col5 {\n",
       "            background-color:  #bcc7e1;\n",
       "            color:  #000000;\n",
       "        }    #T_7a9342f7_1ac6_11eb_828f_a0a4c554f2a3row1_col6 {\n",
       "            background-color:  #4295c3;\n",
       "            color:  #000000;\n",
       "        }    #T_7a9342f7_1ac6_11eb_828f_a0a4c554f2a3row1_col7 {\n",
       "            background-color:  #b5c4df;\n",
       "            color:  #000000;\n",
       "        }    #T_7a9342f7_1ac6_11eb_828f_a0a4c554f2a3row1_col8 {\n",
       "            background-color:  #4e9ac6;\n",
       "            color:  #000000;\n",
       "        }    #T_7a9342f7_1ac6_11eb_828f_a0a4c554f2a3row1_col9 {\n",
       "            background-color:  #d9d8ea;\n",
       "            color:  #000000;\n",
       "        }    #T_7a9342f7_1ac6_11eb_828f_a0a4c554f2a3row1_col10 {\n",
       "            background-color:  #023858;\n",
       "            color:  #f1f1f1;\n",
       "        }    #T_7a9342f7_1ac6_11eb_828f_a0a4c554f2a3row1_col11 {\n",
       "            background-color:  #a5bddb;\n",
       "            color:  #000000;\n",
       "        }    #T_7a9342f7_1ac6_11eb_828f_a0a4c554f2a3row1_col12 {\n",
       "            background-color:  #a7bddb;\n",
       "            color:  #000000;\n",
       "        }    #T_7a9342f7_1ac6_11eb_828f_a0a4c554f2a3row1_col13 {\n",
       "            background-color:  #e7e3f0;\n",
       "            color:  #000000;\n",
       "        }    #T_7a9342f7_1ac6_11eb_828f_a0a4c554f2a3row1_col14 {\n",
       "            background-color:  #a1bbda;\n",
       "            color:  #000000;\n",
       "        }    #T_7a9342f7_1ac6_11eb_828f_a0a4c554f2a3row1_col15 {\n",
       "            background-color:  #c4cbe3;\n",
       "            color:  #000000;\n",
       "        }    #T_7a9342f7_1ac6_11eb_828f_a0a4c554f2a3row1_col16 {\n",
       "            background-color:  #bcc7e1;\n",
       "            color:  #000000;\n",
       "        }    #T_7a9342f7_1ac6_11eb_828f_a0a4c554f2a3row1_col17 {\n",
       "            background-color:  #cdd0e5;\n",
       "            color:  #000000;\n",
       "        }    #T_7a9342f7_1ac6_11eb_828f_a0a4c554f2a3row1_col18 {\n",
       "            background-color:  #8fb4d6;\n",
       "            color:  #000000;\n",
       "        }    #T_7a9342f7_1ac6_11eb_828f_a0a4c554f2a3row1_col19 {\n",
       "            background-color:  #bdc8e1;\n",
       "            color:  #000000;\n",
       "        }    #T_7a9342f7_1ac6_11eb_828f_a0a4c554f2a3row1_col20 {\n",
       "            background-color:  #afc1dd;\n",
       "            color:  #000000;\n",
       "        }    #T_7a9342f7_1ac6_11eb_828f_a0a4c554f2a3row1_col21 {\n",
       "            background-color:  #b1c2de;\n",
       "            color:  #000000;\n",
       "        }    #T_7a9342f7_1ac6_11eb_828f_a0a4c554f2a3row1_col22 {\n",
       "            background-color:  #a5bddb;\n",
       "            color:  #000000;\n",
       "        }    #T_7a9342f7_1ac6_11eb_828f_a0a4c554f2a3row1_col23 {\n",
       "            background-color:  #99b8d8;\n",
       "            color:  #000000;\n",
       "        }    #T_7a9342f7_1ac6_11eb_828f_a0a4c554f2a3row1_col24 {\n",
       "            background-color:  #86b0d3;\n",
       "            color:  #000000;\n",
       "        }    #T_7a9342f7_1ac6_11eb_828f_a0a4c554f2a3row1_col25 {\n",
       "            background-color:  #93b5d6;\n",
       "            color:  #000000;\n",
       "        }    #T_7a9342f7_1ac6_11eb_828f_a0a4c554f2a3row1_col26 {\n",
       "            background-color:  #8eb3d5;\n",
       "            color:  #000000;\n",
       "        }    #T_7a9342f7_1ac6_11eb_828f_a0a4c554f2a3row1_col27 {\n",
       "            background-color:  #adc1dd;\n",
       "            color:  #000000;\n",
       "        }    #T_7a9342f7_1ac6_11eb_828f_a0a4c554f2a3row1_col28 {\n",
       "            background-color:  #abbfdc;\n",
       "            color:  #000000;\n",
       "        }    #T_7a9342f7_1ac6_11eb_828f_a0a4c554f2a3row1_col29 {\n",
       "            background-color:  #62a2cb;\n",
       "            color:  #000000;\n",
       "        }    #T_7a9342f7_1ac6_11eb_828f_a0a4c554f2a3row2_col0 {\n",
       "            background-color:  #023858;\n",
       "            color:  #f1f1f1;\n",
       "        }    #T_7a9342f7_1ac6_11eb_828f_a0a4c554f2a3row2_col1 {\n",
       "            background-color:  #0568a3;\n",
       "            color:  #f1f1f1;\n",
       "        }    #T_7a9342f7_1ac6_11eb_828f_a0a4c554f2a3row2_col2 {\n",
       "            background-color:  #3991c1;\n",
       "            color:  #000000;\n",
       "        }    #T_7a9342f7_1ac6_11eb_828f_a0a4c554f2a3row2_col3 {\n",
       "            background-color:  #1b7eb7;\n",
       "            color:  #000000;\n",
       "        }    #T_7a9342f7_1ac6_11eb_828f_a0a4c554f2a3row2_col4 {\n",
       "            background-color:  #0f76b3;\n",
       "            color:  #f1f1f1;\n",
       "        }    #T_7a9342f7_1ac6_11eb_828f_a0a4c554f2a3row2_col5 {\n",
       "            background-color:  #348ebf;\n",
       "            color:  #000000;\n",
       "        }    #T_7a9342f7_1ac6_11eb_828f_a0a4c554f2a3row2_col6 {\n",
       "            background-color:  #348ebf;\n",
       "            color:  #000000;\n",
       "        }    #T_7a9342f7_1ac6_11eb_828f_a0a4c554f2a3row2_col7 {\n",
       "            background-color:  #167bb6;\n",
       "            color:  #000000;\n",
       "        }    #T_7a9342f7_1ac6_11eb_828f_a0a4c554f2a3row2_col8 {\n",
       "            background-color:  #023b5d;\n",
       "            color:  #f1f1f1;\n",
       "        }    #T_7a9342f7_1ac6_11eb_828f_a0a4c554f2a3row2_col9 {\n",
       "            background-color:  #023858;\n",
       "            color:  #f1f1f1;\n",
       "        }    #T_7a9342f7_1ac6_11eb_828f_a0a4c554f2a3row2_col10 {\n",
       "            background-color:  #0570b0;\n",
       "            color:  #f1f1f1;\n",
       "        }    #T_7a9342f7_1ac6_11eb_828f_a0a4c554f2a3row2_col11 {\n",
       "            background-color:  #023858;\n",
       "            color:  #f1f1f1;\n",
       "        }    #T_7a9342f7_1ac6_11eb_828f_a0a4c554f2a3row2_col12 {\n",
       "            background-color:  #023858;\n",
       "            color:  #f1f1f1;\n",
       "        }    #T_7a9342f7_1ac6_11eb_828f_a0a4c554f2a3row2_col13 {\n",
       "            background-color:  #023858;\n",
       "            color:  #f1f1f1;\n",
       "        }    #T_7a9342f7_1ac6_11eb_828f_a0a4c554f2a3row2_col14 {\n",
       "            background-color:  #023858;\n",
       "            color:  #f1f1f1;\n",
       "        }    #T_7a9342f7_1ac6_11eb_828f_a0a4c554f2a3row2_col15 {\n",
       "            background-color:  #5a9ec9;\n",
       "            color:  #000000;\n",
       "        }    #T_7a9342f7_1ac6_11eb_828f_a0a4c554f2a3row2_col16 {\n",
       "            background-color:  #71a8ce;\n",
       "            color:  #000000;\n",
       "        }    #T_7a9342f7_1ac6_11eb_828f_a0a4c554f2a3row2_col17 {\n",
       "            background-color:  #6da6cd;\n",
       "            color:  #000000;\n",
       "        }    #T_7a9342f7_1ac6_11eb_828f_a0a4c554f2a3row2_col18 {\n",
       "            background-color:  #8cb3d5;\n",
       "            color:  #000000;\n",
       "        }    #T_7a9342f7_1ac6_11eb_828f_a0a4c554f2a3row2_col19 {\n",
       "            background-color:  #a5bddb;\n",
       "            color:  #000000;\n",
       "        }    #T_7a9342f7_1ac6_11eb_828f_a0a4c554f2a3row2_col20 {\n",
       "            background-color:  #b1c2de;\n",
       "            color:  #000000;\n",
       "        }    #T_7a9342f7_1ac6_11eb_828f_a0a4c554f2a3row2_col21 {\n",
       "            background-color:  #a8bedc;\n",
       "            color:  #000000;\n",
       "        }    #T_7a9342f7_1ac6_11eb_828f_a0a4c554f2a3row2_col22 {\n",
       "            background-color:  #b3c3de;\n",
       "            color:  #000000;\n",
       "        }    #T_7a9342f7_1ac6_11eb_828f_a0a4c554f2a3row2_col23 {\n",
       "            background-color:  #9cb9d9;\n",
       "            color:  #000000;\n",
       "        }    #T_7a9342f7_1ac6_11eb_828f_a0a4c554f2a3row2_col24 {\n",
       "            background-color:  #adc1dd;\n",
       "            color:  #000000;\n",
       "        }    #T_7a9342f7_1ac6_11eb_828f_a0a4c554f2a3row2_col25 {\n",
       "            background-color:  #a9bfdc;\n",
       "            color:  #000000;\n",
       "        }    #T_7a9342f7_1ac6_11eb_828f_a0a4c554f2a3row2_col26 {\n",
       "            background-color:  #93b5d6;\n",
       "            color:  #000000;\n",
       "        }    #T_7a9342f7_1ac6_11eb_828f_a0a4c554f2a3row2_col27 {\n",
       "            background-color:  #94b6d7;\n",
       "            color:  #000000;\n",
       "        }    #T_7a9342f7_1ac6_11eb_828f_a0a4c554f2a3row2_col28 {\n",
       "            background-color:  #c5cce3;\n",
       "            color:  #000000;\n",
       "        }    #T_7a9342f7_1ac6_11eb_828f_a0a4c554f2a3row2_col29 {\n",
       "            background-color:  #056ead;\n",
       "            color:  #f1f1f1;\n",
       "        }    #T_7a9342f7_1ac6_11eb_828f_a0a4c554f2a3row3_col0 {\n",
       "            background-color:  #fff7fb;\n",
       "            color:  #000000;\n",
       "        }    #T_7a9342f7_1ac6_11eb_828f_a0a4c554f2a3row3_col1 {\n",
       "            background-color:  #6da6cd;\n",
       "            color:  #000000;\n",
       "        }    #T_7a9342f7_1ac6_11eb_828f_a0a4c554f2a3row3_col2 {\n",
       "            background-color:  #a4bcda;\n",
       "            color:  #000000;\n",
       "        }    #T_7a9342f7_1ac6_11eb_828f_a0a4c554f2a3row3_col3 {\n",
       "            background-color:  #7eadd1;\n",
       "            color:  #000000;\n",
       "        }    #T_7a9342f7_1ac6_11eb_828f_a0a4c554f2a3row3_col4 {\n",
       "            background-color:  #96b6d7;\n",
       "            color:  #000000;\n",
       "        }    #T_7a9342f7_1ac6_11eb_828f_a0a4c554f2a3row3_col5 {\n",
       "            background-color:  #b4c4df;\n",
       "            color:  #000000;\n",
       "        }    #T_7a9342f7_1ac6_11eb_828f_a0a4c554f2a3row3_col6 {\n",
       "            background-color:  #80aed2;\n",
       "            color:  #000000;\n",
       "        }    #T_7a9342f7_1ac6_11eb_828f_a0a4c554f2a3row3_col7 {\n",
       "            background-color:  #f6eff7;\n",
       "            color:  #000000;\n",
       "        }    #T_7a9342f7_1ac6_11eb_828f_a0a4c554f2a3row3_col8 {\n",
       "            background-color:  #fff7fb;\n",
       "            color:  #000000;\n",
       "        }    #T_7a9342f7_1ac6_11eb_828f_a0a4c554f2a3row3_col9 {\n",
       "            background-color:  #fbf4f9;\n",
       "            color:  #000000;\n",
       "        }    #T_7a9342f7_1ac6_11eb_828f_a0a4c554f2a3row3_col10 {\n",
       "            background-color:  #b1c2de;\n",
       "            color:  #000000;\n",
       "        }    #T_7a9342f7_1ac6_11eb_828f_a0a4c554f2a3row3_col11 {\n",
       "            background-color:  #f9f2f8;\n",
       "            color:  #000000;\n",
       "        }    #T_7a9342f7_1ac6_11eb_828f_a0a4c554f2a3row3_col12 {\n",
       "            background-color:  #f7f0f7;\n",
       "            color:  #000000;\n",
       "        }    #T_7a9342f7_1ac6_11eb_828f_a0a4c554f2a3row3_col13 {\n",
       "            background-color:  #fef6fa;\n",
       "            color:  #000000;\n",
       "        }    #T_7a9342f7_1ac6_11eb_828f_a0a4c554f2a3row3_col14 {\n",
       "            background-color:  #f8f1f8;\n",
       "            color:  #000000;\n",
       "        }    #T_7a9342f7_1ac6_11eb_828f_a0a4c554f2a3row3_col15 {\n",
       "            background-color:  #afc1dd;\n",
       "            color:  #000000;\n",
       "        }    #T_7a9342f7_1ac6_11eb_828f_a0a4c554f2a3row3_col16 {\n",
       "            background-color:  #d3d4e7;\n",
       "            color:  #000000;\n",
       "        }    #T_7a9342f7_1ac6_11eb_828f_a0a4c554f2a3row3_col17 {\n",
       "            background-color:  #c8cde4;\n",
       "            color:  #000000;\n",
       "        }    #T_7a9342f7_1ac6_11eb_828f_a0a4c554f2a3row3_col18 {\n",
       "            background-color:  #fff7fb;\n",
       "            color:  #000000;\n",
       "        }    #T_7a9342f7_1ac6_11eb_828f_a0a4c554f2a3row3_col19 {\n",
       "            background-color:  #cccfe5;\n",
       "            color:  #000000;\n",
       "        }    #T_7a9342f7_1ac6_11eb_828f_a0a4c554f2a3row3_col20 {\n",
       "            background-color:  #ede7f2;\n",
       "            color:  #000000;\n",
       "        }    #T_7a9342f7_1ac6_11eb_828f_a0a4c554f2a3row3_col21 {\n",
       "            background-color:  #e0deed;\n",
       "            color:  #000000;\n",
       "        }    #T_7a9342f7_1ac6_11eb_828f_a0a4c554f2a3row3_col22 {\n",
       "            background-color:  #e0dded;\n",
       "            color:  #000000;\n",
       "        }    #T_7a9342f7_1ac6_11eb_828f_a0a4c554f2a3row3_col23 {\n",
       "            background-color:  #d9d8ea;\n",
       "            color:  #000000;\n",
       "        }    #T_7a9342f7_1ac6_11eb_828f_a0a4c554f2a3row3_col24 {\n",
       "            background-color:  #d1d2e6;\n",
       "            color:  #000000;\n",
       "        }    #T_7a9342f7_1ac6_11eb_828f_a0a4c554f2a3row3_col25 {\n",
       "            background-color:  #d3d4e7;\n",
       "            color:  #000000;\n",
       "        }    #T_7a9342f7_1ac6_11eb_828f_a0a4c554f2a3row3_col26 {\n",
       "            background-color:  #d2d3e7;\n",
       "            color:  #000000;\n",
       "        }    #T_7a9342f7_1ac6_11eb_828f_a0a4c554f2a3row3_col27 {\n",
       "            background-color:  #dedcec;\n",
       "            color:  #000000;\n",
       "        }    #T_7a9342f7_1ac6_11eb_828f_a0a4c554f2a3row3_col28 {\n",
       "            background-color:  #d3d4e7;\n",
       "            color:  #000000;\n",
       "        }    #T_7a9342f7_1ac6_11eb_828f_a0a4c554f2a3row3_col29 {\n",
       "            background-color:  #d5d5e8;\n",
       "            color:  #000000;\n",
       "        }    #T_7a9342f7_1ac6_11eb_828f_a0a4c554f2a3row4_col0 {\n",
       "            background-color:  #fbf3f9;\n",
       "            color:  #000000;\n",
       "        }    #T_7a9342f7_1ac6_11eb_828f_a0a4c554f2a3row4_col1 {\n",
       "            background-color:  #97b7d7;\n",
       "            color:  #000000;\n",
       "        }    #T_7a9342f7_1ac6_11eb_828f_a0a4c554f2a3row4_col2 {\n",
       "            background-color:  #adc1dd;\n",
       "            color:  #000000;\n",
       "        }    #T_7a9342f7_1ac6_11eb_828f_a0a4c554f2a3row4_col3 {\n",
       "            background-color:  #6ba5cd;\n",
       "            color:  #000000;\n",
       "        }    #T_7a9342f7_1ac6_11eb_828f_a0a4c554f2a3row4_col4 {\n",
       "            background-color:  #a4bcda;\n",
       "            color:  #000000;\n",
       "        }    #T_7a9342f7_1ac6_11eb_828f_a0a4c554f2a3row4_col5 {\n",
       "            background-color:  #b7c5df;\n",
       "            color:  #000000;\n",
       "        }    #T_7a9342f7_1ac6_11eb_828f_a0a4c554f2a3row4_col6 {\n",
       "            background-color:  #7dacd1;\n",
       "            color:  #000000;\n",
       "        }    #T_7a9342f7_1ac6_11eb_828f_a0a4c554f2a3row4_col7 {\n",
       "            background-color:  #f7f0f7;\n",
       "            color:  #000000;\n",
       "        }    #T_7a9342f7_1ac6_11eb_828f_a0a4c554f2a3row4_col8 {\n",
       "            background-color:  #c4cbe3;\n",
       "            color:  #000000;\n",
       "        }    #T_7a9342f7_1ac6_11eb_828f_a0a4c554f2a3row4_col9 {\n",
       "            background-color:  #f1ebf4;\n",
       "            color:  #000000;\n",
       "        }    #T_7a9342f7_1ac6_11eb_828f_a0a4c554f2a3row4_col10 {\n",
       "            background-color:  #dad9ea;\n",
       "            color:  #000000;\n",
       "        }    #T_7a9342f7_1ac6_11eb_828f_a0a4c554f2a3row4_col11 {\n",
       "            background-color:  #f4edf6;\n",
       "            color:  #000000;\n",
       "        }    #T_7a9342f7_1ac6_11eb_828f_a0a4c554f2a3row4_col12 {\n",
       "            background-color:  #f2ecf5;\n",
       "            color:  #000000;\n",
       "        }    #T_7a9342f7_1ac6_11eb_828f_a0a4c554f2a3row4_col13 {\n",
       "            background-color:  #fdf5fa;\n",
       "            color:  #000000;\n",
       "        }    #T_7a9342f7_1ac6_11eb_828f_a0a4c554f2a3row4_col14 {\n",
       "            background-color:  #e7e3f0;\n",
       "            color:  #000000;\n",
       "        }    #T_7a9342f7_1ac6_11eb_828f_a0a4c554f2a3row4_col15 {\n",
       "            background-color:  #b4c4df;\n",
       "            color:  #000000;\n",
       "        }    #T_7a9342f7_1ac6_11eb_828f_a0a4c554f2a3row4_col16 {\n",
       "            background-color:  #d6d6e9;\n",
       "            color:  #000000;\n",
       "        }    #T_7a9342f7_1ac6_11eb_828f_a0a4c554f2a3row4_col17 {\n",
       "            background-color:  #c5cce3;\n",
       "            color:  #000000;\n",
       "        }    #T_7a9342f7_1ac6_11eb_828f_a0a4c554f2a3row4_col18 {\n",
       "            background-color:  #ced0e6;\n",
       "            color:  #000000;\n",
       "        }    #T_7a9342f7_1ac6_11eb_828f_a0a4c554f2a3row4_col19 {\n",
       "            background-color:  #e7e3f0;\n",
       "            color:  #000000;\n",
       "        }    #T_7a9342f7_1ac6_11eb_828f_a0a4c554f2a3row4_col20 {\n",
       "            background-color:  #eae6f1;\n",
       "            color:  #000000;\n",
       "        }    #T_7a9342f7_1ac6_11eb_828f_a0a4c554f2a3row4_col21 {\n",
       "            background-color:  #e7e3f0;\n",
       "            color:  #000000;\n",
       "        }    #T_7a9342f7_1ac6_11eb_828f_a0a4c554f2a3row4_col22 {\n",
       "            background-color:  #eae6f1;\n",
       "            color:  #000000;\n",
       "        }    #T_7a9342f7_1ac6_11eb_828f_a0a4c554f2a3row4_col23 {\n",
       "            background-color:  #e5e1ef;\n",
       "            color:  #000000;\n",
       "        }    #T_7a9342f7_1ac6_11eb_828f_a0a4c554f2a3row4_col24 {\n",
       "            background-color:  #e2dfee;\n",
       "            color:  #000000;\n",
       "        }    #T_7a9342f7_1ac6_11eb_828f_a0a4c554f2a3row4_col25 {\n",
       "            background-color:  #e1dfed;\n",
       "            color:  #000000;\n",
       "        }    #T_7a9342f7_1ac6_11eb_828f_a0a4c554f2a3row4_col26 {\n",
       "            background-color:  #e1dfed;\n",
       "            color:  #000000;\n",
       "        }    #T_7a9342f7_1ac6_11eb_828f_a0a4c554f2a3row4_col27 {\n",
       "            background-color:  #e5e1ef;\n",
       "            color:  #000000;\n",
       "        }    #T_7a9342f7_1ac6_11eb_828f_a0a4c554f2a3row4_col28 {\n",
       "            background-color:  #e4e1ef;\n",
       "            color:  #000000;\n",
       "        }    #T_7a9342f7_1ac6_11eb_828f_a0a4c554f2a3row4_col29 {\n",
       "            background-color:  #dfddec;\n",
       "            color:  #000000;\n",
       "        }    #T_7a9342f7_1ac6_11eb_828f_a0a4c554f2a3row5_col0 {\n",
       "            background-color:  #fbf3f9;\n",
       "            color:  #000000;\n",
       "        }    #T_7a9342f7_1ac6_11eb_828f_a0a4c554f2a3row5_col1 {\n",
       "            background-color:  #b5c4df;\n",
       "            color:  #000000;\n",
       "        }    #T_7a9342f7_1ac6_11eb_828f_a0a4c554f2a3row5_col2 {\n",
       "            background-color:  #cacee5;\n",
       "            color:  #000000;\n",
       "        }    #T_7a9342f7_1ac6_11eb_828f_a0a4c554f2a3row5_col3 {\n",
       "            background-color:  #d2d2e7;\n",
       "            color:  #000000;\n",
       "        }    #T_7a9342f7_1ac6_11eb_828f_a0a4c554f2a3row5_col4 {\n",
       "            background-color:  #c0c9e2;\n",
       "            color:  #000000;\n",
       "        }    #T_7a9342f7_1ac6_11eb_828f_a0a4c554f2a3row5_col5 {\n",
       "            background-color:  #bbc7e0;\n",
       "            color:  #000000;\n",
       "        }    #T_7a9342f7_1ac6_11eb_828f_a0a4c554f2a3row5_col6 {\n",
       "            background-color:  #b5c4df;\n",
       "            color:  #000000;\n",
       "        }    #T_7a9342f7_1ac6_11eb_828f_a0a4c554f2a3row5_col7 {\n",
       "            background-color:  #f3edf5;\n",
       "            color:  #000000;\n",
       "        }    #T_7a9342f7_1ac6_11eb_828f_a0a4c554f2a3row5_col8 {\n",
       "            background-color:  #ece7f2;\n",
       "            color:  #000000;\n",
       "        }    #T_7a9342f7_1ac6_11eb_828f_a0a4c554f2a3row5_col9 {\n",
       "            background-color:  #f8f1f8;\n",
       "            color:  #000000;\n",
       "        }    #T_7a9342f7_1ac6_11eb_828f_a0a4c554f2a3row5_col10 {\n",
       "            background-color:  #cdd0e5;\n",
       "            color:  #000000;\n",
       "        }    #T_7a9342f7_1ac6_11eb_828f_a0a4c554f2a3row5_col11 {\n",
       "            background-color:  #f2ecf5;\n",
       "            color:  #000000;\n",
       "        }    #T_7a9342f7_1ac6_11eb_828f_a0a4c554f2a3row5_col12 {\n",
       "            background-color:  #f4edf6;\n",
       "            color:  #000000;\n",
       "        }    #T_7a9342f7_1ac6_11eb_828f_a0a4c554f2a3row5_col13 {\n",
       "            background-color:  #fdf5fa;\n",
       "            color:  #000000;\n",
       "        }    #T_7a9342f7_1ac6_11eb_828f_a0a4c554f2a3row5_col14 {\n",
       "            background-color:  #f3edf5;\n",
       "            color:  #000000;\n",
       "        }    #T_7a9342f7_1ac6_11eb_828f_a0a4c554f2a3row5_col15 {\n",
       "            background-color:  #b9c6e0;\n",
       "            color:  #000000;\n",
       "        }    #T_7a9342f7_1ac6_11eb_828f_a0a4c554f2a3row5_col16 {\n",
       "            background-color:  #ced0e6;\n",
       "            color:  #000000;\n",
       "        }    #T_7a9342f7_1ac6_11eb_828f_a0a4c554f2a3row5_col17 {\n",
       "            background-color:  #c8cde4;\n",
       "            color:  #000000;\n",
       "        }    #T_7a9342f7_1ac6_11eb_828f_a0a4c554f2a3row5_col18 {\n",
       "            background-color:  #e1dfed;\n",
       "            color:  #000000;\n",
       "        }    #T_7a9342f7_1ac6_11eb_828f_a0a4c554f2a3row5_col19 {\n",
       "            background-color:  #e0deed;\n",
       "            color:  #000000;\n",
       "        }    #T_7a9342f7_1ac6_11eb_828f_a0a4c554f2a3row5_col20 {\n",
       "            background-color:  #e7e3f0;\n",
       "            color:  #000000;\n",
       "        }    #T_7a9342f7_1ac6_11eb_828f_a0a4c554f2a3row5_col21 {\n",
       "            background-color:  #dfddec;\n",
       "            color:  #000000;\n",
       "        }    #T_7a9342f7_1ac6_11eb_828f_a0a4c554f2a3row5_col22 {\n",
       "            background-color:  #e0dded;\n",
       "            color:  #000000;\n",
       "        }    #T_7a9342f7_1ac6_11eb_828f_a0a4c554f2a3row5_col23 {\n",
       "            background-color:  #d9d8ea;\n",
       "            color:  #000000;\n",
       "        }    #T_7a9342f7_1ac6_11eb_828f_a0a4c554f2a3row5_col24 {\n",
       "            background-color:  #d7d6e9;\n",
       "            color:  #000000;\n",
       "        }    #T_7a9342f7_1ac6_11eb_828f_a0a4c554f2a3row5_col25 {\n",
       "            background-color:  #d9d8ea;\n",
       "            color:  #000000;\n",
       "        }    #T_7a9342f7_1ac6_11eb_828f_a0a4c554f2a3row5_col26 {\n",
       "            background-color:  #dad9ea;\n",
       "            color:  #000000;\n",
       "        }    #T_7a9342f7_1ac6_11eb_828f_a0a4c554f2a3row5_col27 {\n",
       "            background-color:  #dbdaeb;\n",
       "            color:  #000000;\n",
       "        }    #T_7a9342f7_1ac6_11eb_828f_a0a4c554f2a3row5_col28 {\n",
       "            background-color:  #e4e1ef;\n",
       "            color:  #000000;\n",
       "        }    #T_7a9342f7_1ac6_11eb_828f_a0a4c554f2a3row5_col29 {\n",
       "            background-color:  #c2cbe2;\n",
       "            color:  #000000;\n",
       "        }    #T_7a9342f7_1ac6_11eb_828f_a0a4c554f2a3row6_col0 {\n",
       "            background-color:  #d8d7e9;\n",
       "            color:  #000000;\n",
       "        }    #T_7a9342f7_1ac6_11eb_828f_a0a4c554f2a3row6_col1 {\n",
       "            background-color:  #c0c9e2;\n",
       "            color:  #000000;\n",
       "        }    #T_7a9342f7_1ac6_11eb_828f_a0a4c554f2a3row6_col2 {\n",
       "            background-color:  #cccfe5;\n",
       "            color:  #000000;\n",
       "        }    #T_7a9342f7_1ac6_11eb_828f_a0a4c554f2a3row6_col3 {\n",
       "            background-color:  #c9cee4;\n",
       "            color:  #000000;\n",
       "        }    #T_7a9342f7_1ac6_11eb_828f_a0a4c554f2a3row6_col4 {\n",
       "            background-color:  #b8c6e0;\n",
       "            color:  #000000;\n",
       "        }    #T_7a9342f7_1ac6_11eb_828f_a0a4c554f2a3row6_col5 {\n",
       "            background-color:  #acc0dd;\n",
       "            color:  #000000;\n",
       "        }    #T_7a9342f7_1ac6_11eb_828f_a0a4c554f2a3row6_col6 {\n",
       "            background-color:  #a9bfdc;\n",
       "            color:  #000000;\n",
       "        }    #T_7a9342f7_1ac6_11eb_828f_a0a4c554f2a3row6_col7 {\n",
       "            background-color:  #d5d5e8;\n",
       "            color:  #000000;\n",
       "        }    #T_7a9342f7_1ac6_11eb_828f_a0a4c554f2a3row6_col8 {\n",
       "            background-color:  #79abd0;\n",
       "            color:  #000000;\n",
       "        }    #T_7a9342f7_1ac6_11eb_828f_a0a4c554f2a3row6_col9 {\n",
       "            background-color:  #eee8f3;\n",
       "            color:  #000000;\n",
       "        }    #T_7a9342f7_1ac6_11eb_828f_a0a4c554f2a3row6_col10 {\n",
       "            background-color:  #7dacd1;\n",
       "            color:  #000000;\n",
       "        }    #T_7a9342f7_1ac6_11eb_828f_a0a4c554f2a3row6_col11 {\n",
       "            background-color:  #d8d7e9;\n",
       "            color:  #000000;\n",
       "        }    #T_7a9342f7_1ac6_11eb_828f_a0a4c554f2a3row6_col12 {\n",
       "            background-color:  #d9d8ea;\n",
       "            color:  #000000;\n",
       "        }    #T_7a9342f7_1ac6_11eb_828f_a0a4c554f2a3row6_col13 {\n",
       "            background-color:  #f4eef6;\n",
       "            color:  #000000;\n",
       "        }    #T_7a9342f7_1ac6_11eb_828f_a0a4c554f2a3row6_col14 {\n",
       "            background-color:  #d3d4e7;\n",
       "            color:  #000000;\n",
       "        }    #T_7a9342f7_1ac6_11eb_828f_a0a4c554f2a3row6_col15 {\n",
       "            background-color:  #d8d7e9;\n",
       "            color:  #000000;\n",
       "        }    #T_7a9342f7_1ac6_11eb_828f_a0a4c554f2a3row6_col16 {\n",
       "            background-color:  #eae6f1;\n",
       "            color:  #000000;\n",
       "        }    #T_7a9342f7_1ac6_11eb_828f_a0a4c554f2a3row6_col17 {\n",
       "            background-color:  #e1dfed;\n",
       "            color:  #000000;\n",
       "        }    #T_7a9342f7_1ac6_11eb_828f_a0a4c554f2a3row6_col18 {\n",
       "            background-color:  #dcdaeb;\n",
       "            color:  #000000;\n",
       "        }    #T_7a9342f7_1ac6_11eb_828f_a0a4c554f2a3row6_col19 {\n",
       "            background-color:  #dcdaeb;\n",
       "            color:  #000000;\n",
       "        }    #T_7a9342f7_1ac6_11eb_828f_a0a4c554f2a3row6_col20 {\n",
       "            background-color:  #dbdaeb;\n",
       "            color:  #000000;\n",
       "        }    #T_7a9342f7_1ac6_11eb_828f_a0a4c554f2a3row6_col21 {\n",
       "            background-color:  #dddbec;\n",
       "            color:  #000000;\n",
       "        }    #T_7a9342f7_1ac6_11eb_828f_a0a4c554f2a3row6_col22 {\n",
       "            background-color:  #dad9ea;\n",
       "            color:  #000000;\n",
       "        }    #T_7a9342f7_1ac6_11eb_828f_a0a4c554f2a3row6_col23 {\n",
       "            background-color:  #d5d5e8;\n",
       "            color:  #000000;\n",
       "        }    #T_7a9342f7_1ac6_11eb_828f_a0a4c554f2a3row6_col24 {\n",
       "            background-color:  #d2d2e7;\n",
       "            color:  #000000;\n",
       "        }    #T_7a9342f7_1ac6_11eb_828f_a0a4c554f2a3row6_col25 {\n",
       "            background-color:  #d4d4e8;\n",
       "            color:  #000000;\n",
       "        }    #T_7a9342f7_1ac6_11eb_828f_a0a4c554f2a3row6_col26 {\n",
       "            background-color:  #d2d2e7;\n",
       "            color:  #000000;\n",
       "        }    #T_7a9342f7_1ac6_11eb_828f_a0a4c554f2a3row6_col27 {\n",
       "            background-color:  #d9d8ea;\n",
       "            color:  #000000;\n",
       "        }    #T_7a9342f7_1ac6_11eb_828f_a0a4c554f2a3row6_col28 {\n",
       "            background-color:  #e7e3f0;\n",
       "            color:  #000000;\n",
       "        }    #T_7a9342f7_1ac6_11eb_828f_a0a4c554f2a3row6_col29 {\n",
       "            background-color:  #d1d2e6;\n",
       "            color:  #000000;\n",
       "        }    #T_7a9342f7_1ac6_11eb_828f_a0a4c554f2a3row7_col0 {\n",
       "            background-color:  #fef6fb;\n",
       "            color:  #000000;\n",
       "        }    #T_7a9342f7_1ac6_11eb_828f_a0a4c554f2a3row7_col1 {\n",
       "            background-color:  #f0eaf4;\n",
       "            color:  #000000;\n",
       "        }    #T_7a9342f7_1ac6_11eb_828f_a0a4c554f2a3row7_col2 {\n",
       "            background-color:  #f7f0f7;\n",
       "            color:  #000000;\n",
       "        }    #T_7a9342f7_1ac6_11eb_828f_a0a4c554f2a3row7_col3 {\n",
       "            background-color:  #fcf4fa;\n",
       "            color:  #000000;\n",
       "        }    #T_7a9342f7_1ac6_11eb_828f_a0a4c554f2a3row7_col4 {\n",
       "            background-color:  #faf2f8;\n",
       "            color:  #000000;\n",
       "        }    #T_7a9342f7_1ac6_11eb_828f_a0a4c554f2a3row7_col5 {\n",
       "            background-color:  #fcf4fa;\n",
       "            color:  #000000;\n",
       "        }    #T_7a9342f7_1ac6_11eb_828f_a0a4c554f2a3row7_col6 {\n",
       "            background-color:  #e7e3f0;\n",
       "            color:  #000000;\n",
       "        }    #T_7a9342f7_1ac6_11eb_828f_a0a4c554f2a3row7_col7 {\n",
       "            background-color:  #f5eff6;\n",
       "            color:  #000000;\n",
       "        }    #T_7a9342f7_1ac6_11eb_828f_a0a4c554f2a3row7_col8 {\n",
       "            background-color:  #efe9f3;\n",
       "            color:  #000000;\n",
       "        }    #T_7a9342f7_1ac6_11eb_828f_a0a4c554f2a3row7_col9 {\n",
       "            background-color:  #fcf4fa;\n",
       "            color:  #000000;\n",
       "        }    #T_7a9342f7_1ac6_11eb_828f_a0a4c554f2a3row7_col10 {\n",
       "            background-color:  #ede8f3;\n",
       "            color:  #000000;\n",
       "        }    #T_7a9342f7_1ac6_11eb_828f_a0a4c554f2a3row7_col11 {\n",
       "            background-color:  #fcf4fa;\n",
       "            color:  #000000;\n",
       "        }    #T_7a9342f7_1ac6_11eb_828f_a0a4c554f2a3row7_col12 {\n",
       "            background-color:  #fbf3f9;\n",
       "            color:  #000000;\n",
       "        }    #T_7a9342f7_1ac6_11eb_828f_a0a4c554f2a3row7_col13 {\n",
       "            background-color:  #fef6fb;\n",
       "            color:  #000000;\n",
       "        }    #T_7a9342f7_1ac6_11eb_828f_a0a4c554f2a3row7_col14 {\n",
       "            background-color:  #f9f2f8;\n",
       "            color:  #000000;\n",
       "        }    #T_7a9342f7_1ac6_11eb_828f_a0a4c554f2a3row7_col15 {\n",
       "            background-color:  #faf2f8;\n",
       "            color:  #000000;\n",
       "        }    #T_7a9342f7_1ac6_11eb_828f_a0a4c554f2a3row7_col16 {\n",
       "            background-color:  #f7f0f7;\n",
       "            color:  #000000;\n",
       "        }    #T_7a9342f7_1ac6_11eb_828f_a0a4c554f2a3row7_col17 {\n",
       "            background-color:  #f7f0f7;\n",
       "            color:  #000000;\n",
       "        }    #T_7a9342f7_1ac6_11eb_828f_a0a4c554f2a3row7_col18 {\n",
       "            background-color:  #f9f2f8;\n",
       "            color:  #000000;\n",
       "        }    #T_7a9342f7_1ac6_11eb_828f_a0a4c554f2a3row7_col19 {\n",
       "            background-color:  #f7f0f7;\n",
       "            color:  #000000;\n",
       "        }    #T_7a9342f7_1ac6_11eb_828f_a0a4c554f2a3row7_col20 {\n",
       "            background-color:  #faf3f9;\n",
       "            color:  #000000;\n",
       "        }    #T_7a9342f7_1ac6_11eb_828f_a0a4c554f2a3row7_col21 {\n",
       "            background-color:  #f7f0f7;\n",
       "            color:  #000000;\n",
       "        }    #T_7a9342f7_1ac6_11eb_828f_a0a4c554f2a3row7_col22 {\n",
       "            background-color:  #f8f1f8;\n",
       "            color:  #000000;\n",
       "        }    #T_7a9342f7_1ac6_11eb_828f_a0a4c554f2a3row7_col23 {\n",
       "            background-color:  #f6eff7;\n",
       "            color:  #000000;\n",
       "        }    #T_7a9342f7_1ac6_11eb_828f_a0a4c554f2a3row7_col24 {\n",
       "            background-color:  #f7f0f7;\n",
       "            color:  #000000;\n",
       "        }    #T_7a9342f7_1ac6_11eb_828f_a0a4c554f2a3row7_col25 {\n",
       "            background-color:  #f5eff6;\n",
       "            color:  #000000;\n",
       "        }    #T_7a9342f7_1ac6_11eb_828f_a0a4c554f2a3row7_col26 {\n",
       "            background-color:  #f5eff6;\n",
       "            color:  #000000;\n",
       "        }    #T_7a9342f7_1ac6_11eb_828f_a0a4c554f2a3row7_col27 {\n",
       "            background-color:  #f4eef6;\n",
       "            color:  #000000;\n",
       "        }    #T_7a9342f7_1ac6_11eb_828f_a0a4c554f2a3row7_col28 {\n",
       "            background-color:  #f0eaf4;\n",
       "            color:  #000000;\n",
       "        }    #T_7a9342f7_1ac6_11eb_828f_a0a4c554f2a3row7_col29 {\n",
       "            background-color:  #f0eaf4;\n",
       "            color:  #000000;\n",
       "        }    #T_7a9342f7_1ac6_11eb_828f_a0a4c554f2a3row8_col0 {\n",
       "            background-color:  #faf3f9;\n",
       "            color:  #000000;\n",
       "        }    #T_7a9342f7_1ac6_11eb_828f_a0a4c554f2a3row8_col1 {\n",
       "            background-color:  #d7d6e9;\n",
       "            color:  #000000;\n",
       "        }    #T_7a9342f7_1ac6_11eb_828f_a0a4c554f2a3row8_col2 {\n",
       "            background-color:  #e3e0ee;\n",
       "            color:  #000000;\n",
       "        }    #T_7a9342f7_1ac6_11eb_828f_a0a4c554f2a3row8_col3 {\n",
       "            background-color:  #dcdaeb;\n",
       "            color:  #000000;\n",
       "        }    #T_7a9342f7_1ac6_11eb_828f_a0a4c554f2a3row8_col4 {\n",
       "            background-color:  #d9d8ea;\n",
       "            color:  #000000;\n",
       "        }    #T_7a9342f7_1ac6_11eb_828f_a0a4c554f2a3row8_col5 {\n",
       "            background-color:  #dbdaeb;\n",
       "            color:  #000000;\n",
       "        }    #T_7a9342f7_1ac6_11eb_828f_a0a4c554f2a3row8_col6 {\n",
       "            background-color:  #d0d1e6;\n",
       "            color:  #000000;\n",
       "        }    #T_7a9342f7_1ac6_11eb_828f_a0a4c554f2a3row8_col7 {\n",
       "            background-color:  #f5eff6;\n",
       "            color:  #000000;\n",
       "        }    #T_7a9342f7_1ac6_11eb_828f_a0a4c554f2a3row8_col8 {\n",
       "            background-color:  #dad9ea;\n",
       "            color:  #000000;\n",
       "        }    #T_7a9342f7_1ac6_11eb_828f_a0a4c554f2a3row8_col9 {\n",
       "            background-color:  #f9f2f8;\n",
       "            color:  #000000;\n",
       "        }    #T_7a9342f7_1ac6_11eb_828f_a0a4c554f2a3row8_col10 {\n",
       "            background-color:  #c8cde4;\n",
       "            color:  #000000;\n",
       "        }    #T_7a9342f7_1ac6_11eb_828f_a0a4c554f2a3row8_col11 {\n",
       "            background-color:  #f1ebf4;\n",
       "            color:  #000000;\n",
       "        }    #T_7a9342f7_1ac6_11eb_828f_a0a4c554f2a3row8_col12 {\n",
       "            background-color:  #f2ecf5;\n",
       "            color:  #000000;\n",
       "        }    #T_7a9342f7_1ac6_11eb_828f_a0a4c554f2a3row8_col13 {\n",
       "            background-color:  #fdf5fa;\n",
       "            color:  #000000;\n",
       "        }    #T_7a9342f7_1ac6_11eb_828f_a0a4c554f2a3row8_col14 {\n",
       "            background-color:  #f1ebf4;\n",
       "            color:  #000000;\n",
       "        }    #T_7a9342f7_1ac6_11eb_828f_a0a4c554f2a3row8_col15 {\n",
       "            background-color:  #eee8f3;\n",
       "            color:  #000000;\n",
       "        }    #T_7a9342f7_1ac6_11eb_828f_a0a4c554f2a3row8_col16 {\n",
       "            background-color:  #f8f1f8;\n",
       "            color:  #000000;\n",
       "        }    #T_7a9342f7_1ac6_11eb_828f_a0a4c554f2a3row8_col17 {\n",
       "            background-color:  #f4eef6;\n",
       "            color:  #000000;\n",
       "        }    #T_7a9342f7_1ac6_11eb_828f_a0a4c554f2a3row8_col18 {\n",
       "            background-color:  #e4e1ef;\n",
       "            color:  #000000;\n",
       "        }    #T_7a9342f7_1ac6_11eb_828f_a0a4c554f2a3row8_col19 {\n",
       "            background-color:  #efe9f3;\n",
       "            color:  #000000;\n",
       "        }    #T_7a9342f7_1ac6_11eb_828f_a0a4c554f2a3row8_col20 {\n",
       "            background-color:  #eee9f3;\n",
       "            color:  #000000;\n",
       "        }    #T_7a9342f7_1ac6_11eb_828f_a0a4c554f2a3row8_col21 {\n",
       "            background-color:  #ede8f3;\n",
       "            color:  #000000;\n",
       "        }    #T_7a9342f7_1ac6_11eb_828f_a0a4c554f2a3row8_col22 {\n",
       "            background-color:  #ece7f2;\n",
       "            color:  #000000;\n",
       "        }    #T_7a9342f7_1ac6_11eb_828f_a0a4c554f2a3row8_col23 {\n",
       "            background-color:  #ebe6f2;\n",
       "            color:  #000000;\n",
       "        }    #T_7a9342f7_1ac6_11eb_828f_a0a4c554f2a3row8_col24 {\n",
       "            background-color:  #eae6f1;\n",
       "            color:  #000000;\n",
       "        }    #T_7a9342f7_1ac6_11eb_828f_a0a4c554f2a3row8_col25 {\n",
       "            background-color:  #ece7f2;\n",
       "            color:  #000000;\n",
       "        }    #T_7a9342f7_1ac6_11eb_828f_a0a4c554f2a3row8_col26 {\n",
       "            background-color:  #ede7f2;\n",
       "            color:  #000000;\n",
       "        }    #T_7a9342f7_1ac6_11eb_828f_a0a4c554f2a3row8_col27 {\n",
       "            background-color:  #eee9f3;\n",
       "            color:  #000000;\n",
       "        }    #T_7a9342f7_1ac6_11eb_828f_a0a4c554f2a3row8_col28 {\n",
       "            background-color:  #f0eaf4;\n",
       "            color:  #000000;\n",
       "        }    #T_7a9342f7_1ac6_11eb_828f_a0a4c554f2a3row8_col29 {\n",
       "            background-color:  #f0eaf4;\n",
       "            color:  #000000;\n",
       "        }    #T_7a9342f7_1ac6_11eb_828f_a0a4c554f2a3row9_col0 {\n",
       "            background-color:  #fff7fb;\n",
       "            color:  #000000;\n",
       "        }    #T_7a9342f7_1ac6_11eb_828f_a0a4c554f2a3row9_col1 {\n",
       "            background-color:  #c4cbe3;\n",
       "            color:  #000000;\n",
       "        }    #T_7a9342f7_1ac6_11eb_828f_a0a4c554f2a3row9_col2 {\n",
       "            background-color:  #dddbec;\n",
       "            color:  #000000;\n",
       "        }    #T_7a9342f7_1ac6_11eb_828f_a0a4c554f2a3row9_col3 {\n",
       "            background-color:  #e7e3f0;\n",
       "            color:  #000000;\n",
       "        }    #T_7a9342f7_1ac6_11eb_828f_a0a4c554f2a3row9_col4 {\n",
       "            background-color:  #d3d4e7;\n",
       "            color:  #000000;\n",
       "        }    #T_7a9342f7_1ac6_11eb_828f_a0a4c554f2a3row9_col5 {\n",
       "            background-color:  #d9d8ea;\n",
       "            color:  #000000;\n",
       "        }    #T_7a9342f7_1ac6_11eb_828f_a0a4c554f2a3row9_col6 {\n",
       "            background-color:  #dcdaeb;\n",
       "            color:  #000000;\n",
       "        }    #T_7a9342f7_1ac6_11eb_828f_a0a4c554f2a3row9_col7 {\n",
       "            background-color:  #f1ebf4;\n",
       "            color:  #000000;\n",
       "        }    #T_7a9342f7_1ac6_11eb_828f_a0a4c554f2a3row9_col8 {\n",
       "            background-color:  #f3edf5;\n",
       "            color:  #000000;\n",
       "        }    #T_7a9342f7_1ac6_11eb_828f_a0a4c554f2a3row9_col9 {\n",
       "            background-color:  #faf2f8;\n",
       "            color:  #000000;\n",
       "        }    #T_7a9342f7_1ac6_11eb_828f_a0a4c554f2a3row9_col10 {\n",
       "            background-color:  #ced0e6;\n",
       "            color:  #000000;\n",
       "        }    #T_7a9342f7_1ac6_11eb_828f_a0a4c554f2a3row9_col11 {\n",
       "            background-color:  #ebe6f2;\n",
       "            color:  #000000;\n",
       "        }    #T_7a9342f7_1ac6_11eb_828f_a0a4c554f2a3row9_col12 {\n",
       "            background-color:  #eae6f1;\n",
       "            color:  #000000;\n",
       "        }    #T_7a9342f7_1ac6_11eb_828f_a0a4c554f2a3row9_col13 {\n",
       "            background-color:  #fbf4f9;\n",
       "            color:  #000000;\n",
       "        }    #T_7a9342f7_1ac6_11eb_828f_a0a4c554f2a3row9_col14 {\n",
       "            background-color:  #e0dded;\n",
       "            color:  #000000;\n",
       "        }    #T_7a9342f7_1ac6_11eb_828f_a0a4c554f2a3row9_col15 {\n",
       "            background-color:  #d6d6e9;\n",
       "            color:  #000000;\n",
       "        }    #T_7a9342f7_1ac6_11eb_828f_a0a4c554f2a3row9_col16 {\n",
       "            background-color:  #d7d6e9;\n",
       "            color:  #000000;\n",
       "        }    #T_7a9342f7_1ac6_11eb_828f_a0a4c554f2a3row9_col17 {\n",
       "            background-color:  #dddbec;\n",
       "            color:  #000000;\n",
       "        }    #T_7a9342f7_1ac6_11eb_828f_a0a4c554f2a3row9_col18 {\n",
       "            background-color:  #f1ebf5;\n",
       "            color:  #000000;\n",
       "        }    #T_7a9342f7_1ac6_11eb_828f_a0a4c554f2a3row9_col19 {\n",
       "            background-color:  #eee9f3;\n",
       "            color:  #000000;\n",
       "        }    #T_7a9342f7_1ac6_11eb_828f_a0a4c554f2a3row9_col20 {\n",
       "            background-color:  #f2ecf5;\n",
       "            color:  #000000;\n",
       "        }    #T_7a9342f7_1ac6_11eb_828f_a0a4c554f2a3row9_col21 {\n",
       "            background-color:  #ebe6f2;\n",
       "            color:  #000000;\n",
       "        }    #T_7a9342f7_1ac6_11eb_828f_a0a4c554f2a3row9_col22 {\n",
       "            background-color:  #eee8f3;\n",
       "            color:  #000000;\n",
       "        }    #T_7a9342f7_1ac6_11eb_828f_a0a4c554f2a3row9_col23 {\n",
       "            background-color:  #ede8f3;\n",
       "            color:  #000000;\n",
       "        }    #T_7a9342f7_1ac6_11eb_828f_a0a4c554f2a3row9_col24 {\n",
       "            background-color:  #ede7f2;\n",
       "            color:  #000000;\n",
       "        }    #T_7a9342f7_1ac6_11eb_828f_a0a4c554f2a3row9_col25 {\n",
       "            background-color:  #eee9f3;\n",
       "            color:  #000000;\n",
       "        }    #T_7a9342f7_1ac6_11eb_828f_a0a4c554f2a3row9_col26 {\n",
       "            background-color:  #ede8f3;\n",
       "            color:  #000000;\n",
       "        }    #T_7a9342f7_1ac6_11eb_828f_a0a4c554f2a3row9_col27 {\n",
       "            background-color:  #f1ebf4;\n",
       "            color:  #000000;\n",
       "        }    #T_7a9342f7_1ac6_11eb_828f_a0a4c554f2a3row9_col28 {\n",
       "            background-color:  #f1ebf5;\n",
       "            color:  #000000;\n",
       "        }    #T_7a9342f7_1ac6_11eb_828f_a0a4c554f2a3row9_col29 {\n",
       "            background-color:  #dcdaeb;\n",
       "            color:  #000000;\n",
       "        }    #T_7a9342f7_1ac6_11eb_828f_a0a4c554f2a3row10_col0 {\n",
       "            background-color:  #fff7fb;\n",
       "            color:  #000000;\n",
       "        }    #T_7a9342f7_1ac6_11eb_828f_a0a4c554f2a3row10_col1 {\n",
       "            background-color:  #dcdaeb;\n",
       "            color:  #000000;\n",
       "        }    #T_7a9342f7_1ac6_11eb_828f_a0a4c554f2a3row10_col2 {\n",
       "            background-color:  #e7e3f0;\n",
       "            color:  #000000;\n",
       "        }    #T_7a9342f7_1ac6_11eb_828f_a0a4c554f2a3row10_col3 {\n",
       "            background-color:  #d0d1e6;\n",
       "            color:  #000000;\n",
       "        }    #T_7a9342f7_1ac6_11eb_828f_a0a4c554f2a3row10_col4 {\n",
       "            background-color:  #d4d4e8;\n",
       "            color:  #000000;\n",
       "        }    #T_7a9342f7_1ac6_11eb_828f_a0a4c554f2a3row10_col5 {\n",
       "            background-color:  #ece7f2;\n",
       "            color:  #000000;\n",
       "        }    #T_7a9342f7_1ac6_11eb_828f_a0a4c554f2a3row10_col6 {\n",
       "            background-color:  #d2d3e7;\n",
       "            color:  #000000;\n",
       "        }    #T_7a9342f7_1ac6_11eb_828f_a0a4c554f2a3row10_col7 {\n",
       "            background-color:  #fff7fb;\n",
       "            color:  #000000;\n",
       "        }    #T_7a9342f7_1ac6_11eb_828f_a0a4c554f2a3row10_col8 {\n",
       "            background-color:  #fef6fb;\n",
       "            color:  #000000;\n",
       "        }    #T_7a9342f7_1ac6_11eb_828f_a0a4c554f2a3row10_col9 {\n",
       "            background-color:  #fef6fb;\n",
       "            color:  #000000;\n",
       "        }    #T_7a9342f7_1ac6_11eb_828f_a0a4c554f2a3row10_col10 {\n",
       "            background-color:  #f0eaf4;\n",
       "            color:  #000000;\n",
       "        }    #T_7a9342f7_1ac6_11eb_828f_a0a4c554f2a3row10_col11 {\n",
       "            background-color:  #fbf4f9;\n",
       "            color:  #000000;\n",
       "        }    #T_7a9342f7_1ac6_11eb_828f_a0a4c554f2a3row10_col12 {\n",
       "            background-color:  #fbf3f9;\n",
       "            color:  #000000;\n",
       "        }    #T_7a9342f7_1ac6_11eb_828f_a0a4c554f2a3row10_col13 {\n",
       "            background-color:  #fef6fb;\n",
       "            color:  #000000;\n",
       "        }    #T_7a9342f7_1ac6_11eb_828f_a0a4c554f2a3row10_col14 {\n",
       "            background-color:  #fdf5fa;\n",
       "            color:  #000000;\n",
       "        }    #T_7a9342f7_1ac6_11eb_828f_a0a4c554f2a3row10_col15 {\n",
       "            background-color:  #efe9f3;\n",
       "            color:  #000000;\n",
       "        }    #T_7a9342f7_1ac6_11eb_828f_a0a4c554f2a3row10_col16 {\n",
       "            background-color:  #f7f0f7;\n",
       "            color:  #000000;\n",
       "        }    #T_7a9342f7_1ac6_11eb_828f_a0a4c554f2a3row10_col17 {\n",
       "            background-color:  #f1ebf5;\n",
       "            color:  #000000;\n",
       "        }    #T_7a9342f7_1ac6_11eb_828f_a0a4c554f2a3row10_col18 {\n",
       "            background-color:  #f1ebf5;\n",
       "            color:  #000000;\n",
       "        }    #T_7a9342f7_1ac6_11eb_828f_a0a4c554f2a3row10_col19 {\n",
       "            background-color:  #eee9f3;\n",
       "            color:  #000000;\n",
       "        }    #T_7a9342f7_1ac6_11eb_828f_a0a4c554f2a3row10_col20 {\n",
       "            background-color:  #f5eff6;\n",
       "            color:  #000000;\n",
       "        }    #T_7a9342f7_1ac6_11eb_828f_a0a4c554f2a3row10_col21 {\n",
       "            background-color:  #f4eef6;\n",
       "            color:  #000000;\n",
       "        }    #T_7a9342f7_1ac6_11eb_828f_a0a4c554f2a3row10_col22 {\n",
       "            background-color:  #f2ecf5;\n",
       "            color:  #000000;\n",
       "        }    #T_7a9342f7_1ac6_11eb_828f_a0a4c554f2a3row10_col23 {\n",
       "            background-color:  #f2ecf5;\n",
       "            color:  #000000;\n",
       "        }    #T_7a9342f7_1ac6_11eb_828f_a0a4c554f2a3row10_col24 {\n",
       "            background-color:  #f1ebf4;\n",
       "            color:  #000000;\n",
       "        }    #T_7a9342f7_1ac6_11eb_828f_a0a4c554f2a3row10_col25 {\n",
       "            background-color:  #f1ebf4;\n",
       "            color:  #000000;\n",
       "        }    #T_7a9342f7_1ac6_11eb_828f_a0a4c554f2a3row10_col26 {\n",
       "            background-color:  #f1ebf5;\n",
       "            color:  #000000;\n",
       "        }    #T_7a9342f7_1ac6_11eb_828f_a0a4c554f2a3row10_col27 {\n",
       "            background-color:  #f6eff7;\n",
       "            color:  #000000;\n",
       "        }    #T_7a9342f7_1ac6_11eb_828f_a0a4c554f2a3row10_col28 {\n",
       "            background-color:  #f2ecf5;\n",
       "            color:  #000000;\n",
       "        }    #T_7a9342f7_1ac6_11eb_828f_a0a4c554f2a3row10_col29 {\n",
       "            background-color:  #f9f2f8;\n",
       "            color:  #000000;\n",
       "        }    #T_7a9342f7_1ac6_11eb_828f_a0a4c554f2a3row11_col0 {\n",
       "            background-color:  #fff7fb;\n",
       "            color:  #000000;\n",
       "        }    #T_7a9342f7_1ac6_11eb_828f_a0a4c554f2a3row11_col1 {\n",
       "            background-color:  #e7e3f0;\n",
       "            color:  #000000;\n",
       "        }    #T_7a9342f7_1ac6_11eb_828f_a0a4c554f2a3row11_col2 {\n",
       "            background-color:  #efe9f3;\n",
       "            color:  #000000;\n",
       "        }    #T_7a9342f7_1ac6_11eb_828f_a0a4c554f2a3row11_col3 {\n",
       "            background-color:  #f5eff6;\n",
       "            color:  #000000;\n",
       "        }    #T_7a9342f7_1ac6_11eb_828f_a0a4c554f2a3row11_col4 {\n",
       "            background-color:  #fdf5fa;\n",
       "            color:  #000000;\n",
       "        }    #T_7a9342f7_1ac6_11eb_828f_a0a4c554f2a3row11_col5 {\n",
       "            background-color:  #f9f2f8;\n",
       "            color:  #000000;\n",
       "        }    #T_7a9342f7_1ac6_11eb_828f_a0a4c554f2a3row11_col6 {\n",
       "            background-color:  #ede7f2;\n",
       "            color:  #000000;\n",
       "        }    #T_7a9342f7_1ac6_11eb_828f_a0a4c554f2a3row11_col7 {\n",
       "            background-color:  #fff7fb;\n",
       "            color:  #000000;\n",
       "        }    #T_7a9342f7_1ac6_11eb_828f_a0a4c554f2a3row11_col8 {\n",
       "            background-color:  #f7f0f7;\n",
       "            color:  #000000;\n",
       "        }    #T_7a9342f7_1ac6_11eb_828f_a0a4c554f2a3row11_col9 {\n",
       "            background-color:  #fef6fb;\n",
       "            color:  #000000;\n",
       "        }    #T_7a9342f7_1ac6_11eb_828f_a0a4c554f2a3row11_col10 {\n",
       "            background-color:  #f5eef6;\n",
       "            color:  #000000;\n",
       "        }    #T_7a9342f7_1ac6_11eb_828f_a0a4c554f2a3row11_col11 {\n",
       "            background-color:  #faf2f8;\n",
       "            color:  #000000;\n",
       "        }    #T_7a9342f7_1ac6_11eb_828f_a0a4c554f2a3row11_col12 {\n",
       "            background-color:  #faf2f8;\n",
       "            color:  #000000;\n",
       "        }    #T_7a9342f7_1ac6_11eb_828f_a0a4c554f2a3row11_col13 {\n",
       "            background-color:  #fff7fb;\n",
       "            color:  #000000;\n",
       "        }    #T_7a9342f7_1ac6_11eb_828f_a0a4c554f2a3row11_col14 {\n",
       "            background-color:  #fdf5fa;\n",
       "            color:  #000000;\n",
       "        }    #T_7a9342f7_1ac6_11eb_828f_a0a4c554f2a3row11_col15 {\n",
       "            background-color:  #e6e2ef;\n",
       "            color:  #000000;\n",
       "        }    #T_7a9342f7_1ac6_11eb_828f_a0a4c554f2a3row11_col16 {\n",
       "            background-color:  #e6e2ef;\n",
       "            color:  #000000;\n",
       "        }    #T_7a9342f7_1ac6_11eb_828f_a0a4c554f2a3row11_col17 {\n",
       "            background-color:  #f1ebf5;\n",
       "            color:  #000000;\n",
       "        }    #T_7a9342f7_1ac6_11eb_828f_a0a4c554f2a3row11_col18 {\n",
       "            background-color:  #e8e4f0;\n",
       "            color:  #000000;\n",
       "        }    #T_7a9342f7_1ac6_11eb_828f_a0a4c554f2a3row11_col19 {\n",
       "            background-color:  #ede7f2;\n",
       "            color:  #000000;\n",
       "        }    #T_7a9342f7_1ac6_11eb_828f_a0a4c554f2a3row11_col20 {\n",
       "            background-color:  #f2ecf5;\n",
       "            color:  #000000;\n",
       "        }    #T_7a9342f7_1ac6_11eb_828f_a0a4c554f2a3row11_col21 {\n",
       "            background-color:  #ece7f2;\n",
       "            color:  #000000;\n",
       "        }    #T_7a9342f7_1ac6_11eb_828f_a0a4c554f2a3row11_col22 {\n",
       "            background-color:  #ede7f2;\n",
       "            color:  #000000;\n",
       "        }    #T_7a9342f7_1ac6_11eb_828f_a0a4c554f2a3row11_col23 {\n",
       "            background-color:  #ede7f2;\n",
       "            color:  #000000;\n",
       "        }    #T_7a9342f7_1ac6_11eb_828f_a0a4c554f2a3row11_col24 {\n",
       "            background-color:  #ece7f2;\n",
       "            color:  #000000;\n",
       "        }    #T_7a9342f7_1ac6_11eb_828f_a0a4c554f2a3row11_col25 {\n",
       "            background-color:  #eee9f3;\n",
       "            color:  #000000;\n",
       "        }    #T_7a9342f7_1ac6_11eb_828f_a0a4c554f2a3row11_col26 {\n",
       "            background-color:  #eee9f3;\n",
       "            color:  #000000;\n",
       "        }    #T_7a9342f7_1ac6_11eb_828f_a0a4c554f2a3row11_col27 {\n",
       "            background-color:  #f4edf6;\n",
       "            color:  #000000;\n",
       "        }    #T_7a9342f7_1ac6_11eb_828f_a0a4c554f2a3row11_col28 {\n",
       "            background-color:  #f2ecf5;\n",
       "            color:  #000000;\n",
       "        }    #T_7a9342f7_1ac6_11eb_828f_a0a4c554f2a3row11_col29 {\n",
       "            background-color:  #e0deed;\n",
       "            color:  #000000;\n",
       "        }    #T_7a9342f7_1ac6_11eb_828f_a0a4c554f2a3row12_col0 {\n",
       "            background-color:  #eee8f3;\n",
       "            color:  #000000;\n",
       "        }    #T_7a9342f7_1ac6_11eb_828f_a0a4c554f2a3row12_col1 {\n",
       "            background-color:  #d2d3e7;\n",
       "            color:  #000000;\n",
       "        }    #T_7a9342f7_1ac6_11eb_828f_a0a4c554f2a3row12_col2 {\n",
       "            background-color:  #dedcec;\n",
       "            color:  #000000;\n",
       "        }    #T_7a9342f7_1ac6_11eb_828f_a0a4c554f2a3row12_col3 {\n",
       "            background-color:  #dbdaeb;\n",
       "            color:  #000000;\n",
       "        }    #T_7a9342f7_1ac6_11eb_828f_a0a4c554f2a3row12_col4 {\n",
       "            background-color:  #d2d3e7;\n",
       "            color:  #000000;\n",
       "        }    #T_7a9342f7_1ac6_11eb_828f_a0a4c554f2a3row12_col5 {\n",
       "            background-color:  #e2dfee;\n",
       "            color:  #000000;\n",
       "        }    #T_7a9342f7_1ac6_11eb_828f_a0a4c554f2a3row12_col6 {\n",
       "            background-color:  #c9cee4;\n",
       "            color:  #000000;\n",
       "        }    #T_7a9342f7_1ac6_11eb_828f_a0a4c554f2a3row12_col7 {\n",
       "            background-color:  #bfc9e1;\n",
       "            color:  #000000;\n",
       "        }    #T_7a9342f7_1ac6_11eb_828f_a0a4c554f2a3row12_col8 {\n",
       "            background-color:  #eee9f3;\n",
       "            color:  #000000;\n",
       "        }    #T_7a9342f7_1ac6_11eb_828f_a0a4c554f2a3row12_col9 {\n",
       "            background-color:  #f4eef6;\n",
       "            color:  #000000;\n",
       "        }    #T_7a9342f7_1ac6_11eb_828f_a0a4c554f2a3row12_col10 {\n",
       "            background-color:  #b8c6e0;\n",
       "            color:  #000000;\n",
       "        }    #T_7a9342f7_1ac6_11eb_828f_a0a4c554f2a3row12_col11 {\n",
       "            background-color:  #eee8f3;\n",
       "            color:  #000000;\n",
       "        }    #T_7a9342f7_1ac6_11eb_828f_a0a4c554f2a3row12_col12 {\n",
       "            background-color:  #ede8f3;\n",
       "            color:  #000000;\n",
       "        }    #T_7a9342f7_1ac6_11eb_828f_a0a4c554f2a3row12_col13 {\n",
       "            background-color:  #faf2f8;\n",
       "            color:  #000000;\n",
       "        }    #T_7a9342f7_1ac6_11eb_828f_a0a4c554f2a3row12_col14 {\n",
       "            background-color:  #eee8f3;\n",
       "            color:  #000000;\n",
       "        }    #T_7a9342f7_1ac6_11eb_828f_a0a4c554f2a3row12_col15 {\n",
       "            background-color:  #eae6f1;\n",
       "            color:  #000000;\n",
       "        }    #T_7a9342f7_1ac6_11eb_828f_a0a4c554f2a3row12_col16 {\n",
       "            background-color:  #f1ebf4;\n",
       "            color:  #000000;\n",
       "        }    #T_7a9342f7_1ac6_11eb_828f_a0a4c554f2a3row12_col17 {\n",
       "            background-color:  #f0eaf4;\n",
       "            color:  #000000;\n",
       "        }    #T_7a9342f7_1ac6_11eb_828f_a0a4c554f2a3row12_col18 {\n",
       "            background-color:  #e5e1ef;\n",
       "            color:  #000000;\n",
       "        }    #T_7a9342f7_1ac6_11eb_828f_a0a4c554f2a3row12_col19 {\n",
       "            background-color:  #f0eaf4;\n",
       "            color:  #000000;\n",
       "        }    #T_7a9342f7_1ac6_11eb_828f_a0a4c554f2a3row12_col20 {\n",
       "            background-color:  #ebe6f2;\n",
       "            color:  #000000;\n",
       "        }    #T_7a9342f7_1ac6_11eb_828f_a0a4c554f2a3row12_col21 {\n",
       "            background-color:  #f2ecf5;\n",
       "            color:  #000000;\n",
       "        }    #T_7a9342f7_1ac6_11eb_828f_a0a4c554f2a3row12_col22 {\n",
       "            background-color:  #f3edf5;\n",
       "            color:  #000000;\n",
       "        }    #T_7a9342f7_1ac6_11eb_828f_a0a4c554f2a3row12_col23 {\n",
       "            background-color:  #f1ebf5;\n",
       "            color:  #000000;\n",
       "        }    #T_7a9342f7_1ac6_11eb_828f_a0a4c554f2a3row12_col24 {\n",
       "            background-color:  #f2ecf5;\n",
       "            color:  #000000;\n",
       "        }    #T_7a9342f7_1ac6_11eb_828f_a0a4c554f2a3row12_col25 {\n",
       "            background-color:  #f1ebf5;\n",
       "            color:  #000000;\n",
       "        }    #T_7a9342f7_1ac6_11eb_828f_a0a4c554f2a3row12_col26 {\n",
       "            background-color:  #f2ecf5;\n",
       "            color:  #000000;\n",
       "        }    #T_7a9342f7_1ac6_11eb_828f_a0a4c554f2a3row12_col27 {\n",
       "            background-color:  #f5eef6;\n",
       "            color:  #000000;\n",
       "        }    #T_7a9342f7_1ac6_11eb_828f_a0a4c554f2a3row12_col28 {\n",
       "            background-color:  #f2ecf5;\n",
       "            color:  #000000;\n",
       "        }    #T_7a9342f7_1ac6_11eb_828f_a0a4c554f2a3row12_col29 {\n",
       "            background-color:  #ede8f3;\n",
       "            color:  #000000;\n",
       "        }    #T_7a9342f7_1ac6_11eb_828f_a0a4c554f2a3row13_col0 {\n",
       "            background-color:  #fdf5fa;\n",
       "            color:  #000000;\n",
       "        }    #T_7a9342f7_1ac6_11eb_828f_a0a4c554f2a3row13_col1 {\n",
       "            background-color:  #ede7f2;\n",
       "            color:  #000000;\n",
       "        }    #T_7a9342f7_1ac6_11eb_828f_a0a4c554f2a3row13_col2 {\n",
       "            background-color:  #ede7f2;\n",
       "            color:  #000000;\n",
       "        }    #T_7a9342f7_1ac6_11eb_828f_a0a4c554f2a3row13_col3 {\n",
       "            background-color:  #e6e2ef;\n",
       "            color:  #000000;\n",
       "        }    #T_7a9342f7_1ac6_11eb_828f_a0a4c554f2a3row13_col4 {\n",
       "            background-color:  #eae6f1;\n",
       "            color:  #000000;\n",
       "        }    #T_7a9342f7_1ac6_11eb_828f_a0a4c554f2a3row13_col5 {\n",
       "            background-color:  #e9e5f1;\n",
       "            color:  #000000;\n",
       "        }    #T_7a9342f7_1ac6_11eb_828f_a0a4c554f2a3row13_col6 {\n",
       "            background-color:  #d8d7e9;\n",
       "            color:  #000000;\n",
       "        }    #T_7a9342f7_1ac6_11eb_828f_a0a4c554f2a3row13_col7 {\n",
       "            background-color:  #e0dded;\n",
       "            color:  #000000;\n",
       "        }    #T_7a9342f7_1ac6_11eb_828f_a0a4c554f2a3row13_col8 {\n",
       "            background-color:  #e0dded;\n",
       "            color:  #000000;\n",
       "        }    #T_7a9342f7_1ac6_11eb_828f_a0a4c554f2a3row13_col9 {\n",
       "            background-color:  #f6eff7;\n",
       "            color:  #000000;\n",
       "        }    #T_7a9342f7_1ac6_11eb_828f_a0a4c554f2a3row13_col10 {\n",
       "            background-color:  #dad9ea;\n",
       "            color:  #000000;\n",
       "        }    #T_7a9342f7_1ac6_11eb_828f_a0a4c554f2a3row13_col11 {\n",
       "            background-color:  #f5eef6;\n",
       "            color:  #000000;\n",
       "        }    #T_7a9342f7_1ac6_11eb_828f_a0a4c554f2a3row13_col12 {\n",
       "            background-color:  #f5eff6;\n",
       "            color:  #000000;\n",
       "        }    #T_7a9342f7_1ac6_11eb_828f_a0a4c554f2a3row13_col13 {\n",
       "            background-color:  #fcf4fa;\n",
       "            color:  #000000;\n",
       "        }    #T_7a9342f7_1ac6_11eb_828f_a0a4c554f2a3row13_col14 {\n",
       "            background-color:  #f4edf6;\n",
       "            color:  #000000;\n",
       "        }    #T_7a9342f7_1ac6_11eb_828f_a0a4c554f2a3row13_col15 {\n",
       "            background-color:  #e8e4f0;\n",
       "            color:  #000000;\n",
       "        }    #T_7a9342f7_1ac6_11eb_828f_a0a4c554f2a3row13_col16 {\n",
       "            background-color:  #f3edf5;\n",
       "            color:  #000000;\n",
       "        }    #T_7a9342f7_1ac6_11eb_828f_a0a4c554f2a3row13_col17 {\n",
       "            background-color:  #f2ecf5;\n",
       "            color:  #000000;\n",
       "        }    #T_7a9342f7_1ac6_11eb_828f_a0a4c554f2a3row13_col18 {\n",
       "            background-color:  #e0dded;\n",
       "            color:  #000000;\n",
       "        }    #T_7a9342f7_1ac6_11eb_828f_a0a4c554f2a3row13_col19 {\n",
       "            background-color:  #ede7f2;\n",
       "            color:  #000000;\n",
       "        }    #T_7a9342f7_1ac6_11eb_828f_a0a4c554f2a3row13_col20 {\n",
       "            background-color:  #e3e0ee;\n",
       "            color:  #000000;\n",
       "        }    #T_7a9342f7_1ac6_11eb_828f_a0a4c554f2a3row13_col21 {\n",
       "            background-color:  #ede7f2;\n",
       "            color:  #000000;\n",
       "        }    #T_7a9342f7_1ac6_11eb_828f_a0a4c554f2a3row13_col22 {\n",
       "            background-color:  #ede7f2;\n",
       "            color:  #000000;\n",
       "        }    #T_7a9342f7_1ac6_11eb_828f_a0a4c554f2a3row13_col23 {\n",
       "            background-color:  #e9e5f1;\n",
       "            color:  #000000;\n",
       "        }    #T_7a9342f7_1ac6_11eb_828f_a0a4c554f2a3row13_col24 {\n",
       "            background-color:  #e9e5f1;\n",
       "            color:  #000000;\n",
       "        }    #T_7a9342f7_1ac6_11eb_828f_a0a4c554f2a3row13_col25 {\n",
       "            background-color:  #ebe6f2;\n",
       "            color:  #000000;\n",
       "        }    #T_7a9342f7_1ac6_11eb_828f_a0a4c554f2a3row13_col26 {\n",
       "            background-color:  #eee8f3;\n",
       "            color:  #000000;\n",
       "        }    #T_7a9342f7_1ac6_11eb_828f_a0a4c554f2a3row13_col27 {\n",
       "            background-color:  #f2ecf5;\n",
       "            color:  #000000;\n",
       "        }    #T_7a9342f7_1ac6_11eb_828f_a0a4c554f2a3row13_col28 {\n",
       "            background-color:  #f3edf5;\n",
       "            color:  #000000;\n",
       "        }    #T_7a9342f7_1ac6_11eb_828f_a0a4c554f2a3row13_col29 {\n",
       "            background-color:  #e8e4f0;\n",
       "            color:  #000000;\n",
       "        }    #T_7a9342f7_1ac6_11eb_828f_a0a4c554f2a3row14_col0 {\n",
       "            background-color:  #f4edf6;\n",
       "            color:  #000000;\n",
       "        }    #T_7a9342f7_1ac6_11eb_828f_a0a4c554f2a3row14_col1 {\n",
       "            background-color:  #ced0e6;\n",
       "            color:  #000000;\n",
       "        }    #T_7a9342f7_1ac6_11eb_828f_a0a4c554f2a3row14_col2 {\n",
       "            background-color:  #d9d8ea;\n",
       "            color:  #000000;\n",
       "        }    #T_7a9342f7_1ac6_11eb_828f_a0a4c554f2a3row14_col3 {\n",
       "            background-color:  #e7e3f0;\n",
       "            color:  #000000;\n",
       "        }    #T_7a9342f7_1ac6_11eb_828f_a0a4c554f2a3row14_col4 {\n",
       "            background-color:  #d9d8ea;\n",
       "            color:  #000000;\n",
       "        }    #T_7a9342f7_1ac6_11eb_828f_a0a4c554f2a3row14_col5 {\n",
       "            background-color:  #dfddec;\n",
       "            color:  #000000;\n",
       "        }    #T_7a9342f7_1ac6_11eb_828f_a0a4c554f2a3row14_col6 {\n",
       "            background-color:  #d6d6e9;\n",
       "            color:  #000000;\n",
       "        }    #T_7a9342f7_1ac6_11eb_828f_a0a4c554f2a3row14_col7 {\n",
       "            background-color:  #f8f1f8;\n",
       "            color:  #000000;\n",
       "        }    #T_7a9342f7_1ac6_11eb_828f_a0a4c554f2a3row14_col8 {\n",
       "            background-color:  #f4edf6;\n",
       "            color:  #000000;\n",
       "        }    #T_7a9342f7_1ac6_11eb_828f_a0a4c554f2a3row14_col9 {\n",
       "            background-color:  #fcf4fa;\n",
       "            color:  #000000;\n",
       "        }    #T_7a9342f7_1ac6_11eb_828f_a0a4c554f2a3row14_col10 {\n",
       "            background-color:  #e6e2ef;\n",
       "            color:  #000000;\n",
       "        }    #T_7a9342f7_1ac6_11eb_828f_a0a4c554f2a3row14_col11 {\n",
       "            background-color:  #f8f1f8;\n",
       "            color:  #000000;\n",
       "        }    #T_7a9342f7_1ac6_11eb_828f_a0a4c554f2a3row14_col12 {\n",
       "            background-color:  #f8f1f8;\n",
       "            color:  #000000;\n",
       "        }    #T_7a9342f7_1ac6_11eb_828f_a0a4c554f2a3row14_col13 {\n",
       "            background-color:  #fef6fb;\n",
       "            color:  #000000;\n",
       "        }    #T_7a9342f7_1ac6_11eb_828f_a0a4c554f2a3row14_col14 {\n",
       "            background-color:  #f7f0f7;\n",
       "            color:  #000000;\n",
       "        }    #T_7a9342f7_1ac6_11eb_828f_a0a4c554f2a3row14_col15 {\n",
       "            background-color:  #dfddec;\n",
       "            color:  #000000;\n",
       "        }    #T_7a9342f7_1ac6_11eb_828f_a0a4c554f2a3row14_col16 {\n",
       "            background-color:  #ede8f3;\n",
       "            color:  #000000;\n",
       "        }    #T_7a9342f7_1ac6_11eb_828f_a0a4c554f2a3row14_col17 {\n",
       "            background-color:  #ede8f3;\n",
       "            color:  #000000;\n",
       "        }    #T_7a9342f7_1ac6_11eb_828f_a0a4c554f2a3row14_col18 {\n",
       "            background-color:  #f6eff7;\n",
       "            color:  #000000;\n",
       "        }    #T_7a9342f7_1ac6_11eb_828f_a0a4c554f2a3row14_col19 {\n",
       "            background-color:  #f4eef6;\n",
       "            color:  #000000;\n",
       "        }    #T_7a9342f7_1ac6_11eb_828f_a0a4c554f2a3row14_col20 {\n",
       "            background-color:  #f8f1f8;\n",
       "            color:  #000000;\n",
       "        }    #T_7a9342f7_1ac6_11eb_828f_a0a4c554f2a3row14_col21 {\n",
       "            background-color:  #f1ebf5;\n",
       "            color:  #000000;\n",
       "        }    #T_7a9342f7_1ac6_11eb_828f_a0a4c554f2a3row14_col22 {\n",
       "            background-color:  #f0eaf4;\n",
       "            color:  #000000;\n",
       "        }    #T_7a9342f7_1ac6_11eb_828f_a0a4c554f2a3row14_col23 {\n",
       "            background-color:  #eee8f3;\n",
       "            color:  #000000;\n",
       "        }    #T_7a9342f7_1ac6_11eb_828f_a0a4c554f2a3row14_col24 {\n",
       "            background-color:  #ede7f2;\n",
       "            color:  #000000;\n",
       "        }    #T_7a9342f7_1ac6_11eb_828f_a0a4c554f2a3row14_col25 {\n",
       "            background-color:  #efe9f3;\n",
       "            color:  #000000;\n",
       "        }    #T_7a9342f7_1ac6_11eb_828f_a0a4c554f2a3row14_col26 {\n",
       "            background-color:  #ede8f3;\n",
       "            color:  #000000;\n",
       "        }    #T_7a9342f7_1ac6_11eb_828f_a0a4c554f2a3row14_col27 {\n",
       "            background-color:  #efe9f3;\n",
       "            color:  #000000;\n",
       "        }    #T_7a9342f7_1ac6_11eb_828f_a0a4c554f2a3row14_col28 {\n",
       "            background-color:  #f4edf6;\n",
       "            color:  #000000;\n",
       "        }    #T_7a9342f7_1ac6_11eb_828f_a0a4c554f2a3row14_col29 {\n",
       "            background-color:  #dfddec;\n",
       "            color:  #000000;\n",
       "        }    #T_7a9342f7_1ac6_11eb_828f_a0a4c554f2a3row15_col0 {\n",
       "            background-color:  #fff7fb;\n",
       "            color:  #000000;\n",
       "        }    #T_7a9342f7_1ac6_11eb_828f_a0a4c554f2a3row15_col1 {\n",
       "            background-color:  #e1dfed;\n",
       "            color:  #000000;\n",
       "        }    #T_7a9342f7_1ac6_11eb_828f_a0a4c554f2a3row15_col2 {\n",
       "            background-color:  #e7e3f0;\n",
       "            color:  #000000;\n",
       "        }    #T_7a9342f7_1ac6_11eb_828f_a0a4c554f2a3row15_col3 {\n",
       "            background-color:  #f0eaf4;\n",
       "            color:  #000000;\n",
       "        }    #T_7a9342f7_1ac6_11eb_828f_a0a4c554f2a3row15_col4 {\n",
       "            background-color:  #e0dded;\n",
       "            color:  #000000;\n",
       "        }    #T_7a9342f7_1ac6_11eb_828f_a0a4c554f2a3row15_col5 {\n",
       "            background-color:  #ebe6f2;\n",
       "            color:  #000000;\n",
       "        }    #T_7a9342f7_1ac6_11eb_828f_a0a4c554f2a3row15_col6 {\n",
       "            background-color:  #dfddec;\n",
       "            color:  #000000;\n",
       "        }    #T_7a9342f7_1ac6_11eb_828f_a0a4c554f2a3row15_col7 {\n",
       "            background-color:  #faf3f9;\n",
       "            color:  #000000;\n",
       "        }    #T_7a9342f7_1ac6_11eb_828f_a0a4c554f2a3row15_col8 {\n",
       "            background-color:  #f7f0f7;\n",
       "            color:  #000000;\n",
       "        }    #T_7a9342f7_1ac6_11eb_828f_a0a4c554f2a3row15_col9 {\n",
       "            background-color:  #fbf3f9;\n",
       "            color:  #000000;\n",
       "        }    #T_7a9342f7_1ac6_11eb_828f_a0a4c554f2a3row15_col10 {\n",
       "            background-color:  #f4edf6;\n",
       "            color:  #000000;\n",
       "        }    #T_7a9342f7_1ac6_11eb_828f_a0a4c554f2a3row15_col11 {\n",
       "            background-color:  #f8f1f8;\n",
       "            color:  #000000;\n",
       "        }    #T_7a9342f7_1ac6_11eb_828f_a0a4c554f2a3row15_col12 {\n",
       "            background-color:  #f9f2f8;\n",
       "            color:  #000000;\n",
       "        }    #T_7a9342f7_1ac6_11eb_828f_a0a4c554f2a3row15_col13 {\n",
       "            background-color:  #fef6fb;\n",
       "            color:  #000000;\n",
       "        }    #T_7a9342f7_1ac6_11eb_828f_a0a4c554f2a3row15_col14 {\n",
       "            background-color:  #faf2f8;\n",
       "            color:  #000000;\n",
       "        }    #T_7a9342f7_1ac6_11eb_828f_a0a4c554f2a3row15_col15 {\n",
       "            background-color:  #f5eef6;\n",
       "            color:  #000000;\n",
       "        }    #T_7a9342f7_1ac6_11eb_828f_a0a4c554f2a3row15_col16 {\n",
       "            background-color:  #f7f0f7;\n",
       "            color:  #000000;\n",
       "        }    #T_7a9342f7_1ac6_11eb_828f_a0a4c554f2a3row15_col17 {\n",
       "            background-color:  #f8f1f8;\n",
       "            color:  #000000;\n",
       "        }    #T_7a9342f7_1ac6_11eb_828f_a0a4c554f2a3row15_col18 {\n",
       "            background-color:  #f9f2f8;\n",
       "            color:  #000000;\n",
       "        }    #T_7a9342f7_1ac6_11eb_828f_a0a4c554f2a3row15_col19 {\n",
       "            background-color:  #f8f1f8;\n",
       "            color:  #000000;\n",
       "        }    #T_7a9342f7_1ac6_11eb_828f_a0a4c554f2a3row15_col20 {\n",
       "            background-color:  #faf2f8;\n",
       "            color:  #000000;\n",
       "        }    #T_7a9342f7_1ac6_11eb_828f_a0a4c554f2a3row15_col21 {\n",
       "            background-color:  #f9f2f8;\n",
       "            color:  #000000;\n",
       "        }    #T_7a9342f7_1ac6_11eb_828f_a0a4c554f2a3row15_col22 {\n",
       "            background-color:  #f8f1f8;\n",
       "            color:  #000000;\n",
       "        }    #T_7a9342f7_1ac6_11eb_828f_a0a4c554f2a3row15_col23 {\n",
       "            background-color:  #f7f0f7;\n",
       "            color:  #000000;\n",
       "        }    #T_7a9342f7_1ac6_11eb_828f_a0a4c554f2a3row15_col24 {\n",
       "            background-color:  #f8f1f8;\n",
       "            color:  #000000;\n",
       "        }    #T_7a9342f7_1ac6_11eb_828f_a0a4c554f2a3row15_col25 {\n",
       "            background-color:  #f7f0f7;\n",
       "            color:  #000000;\n",
       "        }    #T_7a9342f7_1ac6_11eb_828f_a0a4c554f2a3row15_col26 {\n",
       "            background-color:  #f6eff7;\n",
       "            color:  #000000;\n",
       "        }    #T_7a9342f7_1ac6_11eb_828f_a0a4c554f2a3row15_col27 {\n",
       "            background-color:  #f7f0f7;\n",
       "            color:  #000000;\n",
       "        }    #T_7a9342f7_1ac6_11eb_828f_a0a4c554f2a3row15_col28 {\n",
       "            background-color:  #f4edf6;\n",
       "            color:  #000000;\n",
       "        }    #T_7a9342f7_1ac6_11eb_828f_a0a4c554f2a3row15_col29 {\n",
       "            background-color:  #f3edf5;\n",
       "            color:  #000000;\n",
       "        }    #T_7a9342f7_1ac6_11eb_828f_a0a4c554f2a3row16_col0 {\n",
       "            background-color:  #efe9f3;\n",
       "            color:  #000000;\n",
       "        }    #T_7a9342f7_1ac6_11eb_828f_a0a4c554f2a3row16_col1 {\n",
       "            background-color:  #eae6f1;\n",
       "            color:  #000000;\n",
       "        }    #T_7a9342f7_1ac6_11eb_828f_a0a4c554f2a3row16_col2 {\n",
       "            background-color:  #f4edf6;\n",
       "            color:  #000000;\n",
       "        }    #T_7a9342f7_1ac6_11eb_828f_a0a4c554f2a3row16_col3 {\n",
       "            background-color:  #f5eef6;\n",
       "            color:  #000000;\n",
       "        }    #T_7a9342f7_1ac6_11eb_828f_a0a4c554f2a3row16_col4 {\n",
       "            background-color:  #f6eff7;\n",
       "            color:  #000000;\n",
       "        }    #T_7a9342f7_1ac6_11eb_828f_a0a4c554f2a3row16_col5 {\n",
       "            background-color:  #f9f2f8;\n",
       "            color:  #000000;\n",
       "        }    #T_7a9342f7_1ac6_11eb_828f_a0a4c554f2a3row16_col6 {\n",
       "            background-color:  #d8d7e9;\n",
       "            color:  #000000;\n",
       "        }    #T_7a9342f7_1ac6_11eb_828f_a0a4c554f2a3row16_col7 {\n",
       "            background-color:  #eee8f3;\n",
       "            color:  #000000;\n",
       "        }    #T_7a9342f7_1ac6_11eb_828f_a0a4c554f2a3row16_col8 {\n",
       "            background-color:  #eae6f1;\n",
       "            color:  #000000;\n",
       "        }    #T_7a9342f7_1ac6_11eb_828f_a0a4c554f2a3row16_col9 {\n",
       "            background-color:  #f8f1f8;\n",
       "            color:  #000000;\n",
       "        }    #T_7a9342f7_1ac6_11eb_828f_a0a4c554f2a3row16_col10 {\n",
       "            background-color:  #d0d1e6;\n",
       "            color:  #000000;\n",
       "        }    #T_7a9342f7_1ac6_11eb_828f_a0a4c554f2a3row16_col11 {\n",
       "            background-color:  #f3edf5;\n",
       "            color:  #000000;\n",
       "        }    #T_7a9342f7_1ac6_11eb_828f_a0a4c554f2a3row16_col12 {\n",
       "            background-color:  #f4edf6;\n",
       "            color:  #000000;\n",
       "        }    #T_7a9342f7_1ac6_11eb_828f_a0a4c554f2a3row16_col13 {\n",
       "            background-color:  #fcf4fa;\n",
       "            color:  #000000;\n",
       "        }    #T_7a9342f7_1ac6_11eb_828f_a0a4c554f2a3row16_col14 {\n",
       "            background-color:  #f2ecf5;\n",
       "            color:  #000000;\n",
       "        }    #T_7a9342f7_1ac6_11eb_828f_a0a4c554f2a3row16_col15 {\n",
       "            background-color:  #f2ecf5;\n",
       "            color:  #000000;\n",
       "        }    #T_7a9342f7_1ac6_11eb_828f_a0a4c554f2a3row16_col16 {\n",
       "            background-color:  #f5eff6;\n",
       "            color:  #000000;\n",
       "        }    #T_7a9342f7_1ac6_11eb_828f_a0a4c554f2a3row16_col17 {\n",
       "            background-color:  #f5eef6;\n",
       "            color:  #000000;\n",
       "        }    #T_7a9342f7_1ac6_11eb_828f_a0a4c554f2a3row16_col18 {\n",
       "            background-color:  #dedcec;\n",
       "            color:  #000000;\n",
       "        }    #T_7a9342f7_1ac6_11eb_828f_a0a4c554f2a3row16_col19 {\n",
       "            background-color:  #eee8f3;\n",
       "            color:  #000000;\n",
       "        }    #T_7a9342f7_1ac6_11eb_828f_a0a4c554f2a3row16_col20 {\n",
       "            background-color:  #f1ebf4;\n",
       "            color:  #000000;\n",
       "        }    #T_7a9342f7_1ac6_11eb_828f_a0a4c554f2a3row16_col21 {\n",
       "            background-color:  #f1ebf5;\n",
       "            color:  #000000;\n",
       "        }    #T_7a9342f7_1ac6_11eb_828f_a0a4c554f2a3row16_col22 {\n",
       "            background-color:  #f1ebf4;\n",
       "            color:  #000000;\n",
       "        }    #T_7a9342f7_1ac6_11eb_828f_a0a4c554f2a3row16_col23 {\n",
       "            background-color:  #eee8f3;\n",
       "            color:  #000000;\n",
       "        }    #T_7a9342f7_1ac6_11eb_828f_a0a4c554f2a3row16_col24 {\n",
       "            background-color:  #ede8f3;\n",
       "            color:  #000000;\n",
       "        }    #T_7a9342f7_1ac6_11eb_828f_a0a4c554f2a3row16_col25 {\n",
       "            background-color:  #ede8f3;\n",
       "            color:  #000000;\n",
       "        }    #T_7a9342f7_1ac6_11eb_828f_a0a4c554f2a3row16_col26 {\n",
       "            background-color:  #ede7f2;\n",
       "            color:  #000000;\n",
       "        }    #T_7a9342f7_1ac6_11eb_828f_a0a4c554f2a3row16_col27 {\n",
       "            background-color:  #f4edf6;\n",
       "            color:  #000000;\n",
       "        }    #T_7a9342f7_1ac6_11eb_828f_a0a4c554f2a3row16_col28 {\n",
       "            background-color:  #f5eff6;\n",
       "            color:  #000000;\n",
       "        }    #T_7a9342f7_1ac6_11eb_828f_a0a4c554f2a3row16_col29 {\n",
       "            background-color:  #d9d8ea;\n",
       "            color:  #000000;\n",
       "        }    #T_7a9342f7_1ac6_11eb_828f_a0a4c554f2a3row17_col0 {\n",
       "            background-color:  #fdf5fa;\n",
       "            color:  #000000;\n",
       "        }    #T_7a9342f7_1ac6_11eb_828f_a0a4c554f2a3row17_col1 {\n",
       "            background-color:  #e6e2ef;\n",
       "            color:  #000000;\n",
       "        }    #T_7a9342f7_1ac6_11eb_828f_a0a4c554f2a3row17_col2 {\n",
       "            background-color:  #eae6f1;\n",
       "            color:  #000000;\n",
       "        }    #T_7a9342f7_1ac6_11eb_828f_a0a4c554f2a3row17_col3 {\n",
       "            background-color:  #d9d8ea;\n",
       "            color:  #000000;\n",
       "        }    #T_7a9342f7_1ac6_11eb_828f_a0a4c554f2a3row17_col4 {\n",
       "            background-color:  #e4e1ef;\n",
       "            color:  #000000;\n",
       "        }    #T_7a9342f7_1ac6_11eb_828f_a0a4c554f2a3row17_col5 {\n",
       "            background-color:  #e8e4f0;\n",
       "            color:  #000000;\n",
       "        }    #T_7a9342f7_1ac6_11eb_828f_a0a4c554f2a3row17_col6 {\n",
       "            background-color:  #e3e0ee;\n",
       "            color:  #000000;\n",
       "        }    #T_7a9342f7_1ac6_11eb_828f_a0a4c554f2a3row17_col7 {\n",
       "            background-color:  #ede7f2;\n",
       "            color:  #000000;\n",
       "        }    #T_7a9342f7_1ac6_11eb_828f_a0a4c554f2a3row17_col8 {\n",
       "            background-color:  #e6e2ef;\n",
       "            color:  #000000;\n",
       "        }    #T_7a9342f7_1ac6_11eb_828f_a0a4c554f2a3row17_col9 {\n",
       "            background-color:  #faf2f8;\n",
       "            color:  #000000;\n",
       "        }    #T_7a9342f7_1ac6_11eb_828f_a0a4c554f2a3row17_col10 {\n",
       "            background-color:  #eee8f3;\n",
       "            color:  #000000;\n",
       "        }    #T_7a9342f7_1ac6_11eb_828f_a0a4c554f2a3row17_col11 {\n",
       "            background-color:  #f4edf6;\n",
       "            color:  #000000;\n",
       "        }    #T_7a9342f7_1ac6_11eb_828f_a0a4c554f2a3row17_col12 {\n",
       "            background-color:  #f4eef6;\n",
       "            color:  #000000;\n",
       "        }    #T_7a9342f7_1ac6_11eb_828f_a0a4c554f2a3row17_col13 {\n",
       "            background-color:  #fbf3f9;\n",
       "            color:  #000000;\n",
       "        }    #T_7a9342f7_1ac6_11eb_828f_a0a4c554f2a3row17_col14 {\n",
       "            background-color:  #f1ebf4;\n",
       "            color:  #000000;\n",
       "        }    #T_7a9342f7_1ac6_11eb_828f_a0a4c554f2a3row17_col15 {\n",
       "            background-color:  #ede8f3;\n",
       "            color:  #000000;\n",
       "        }    #T_7a9342f7_1ac6_11eb_828f_a0a4c554f2a3row17_col16 {\n",
       "            background-color:  #efe9f3;\n",
       "            color:  #000000;\n",
       "        }    #T_7a9342f7_1ac6_11eb_828f_a0a4c554f2a3row17_col17 {\n",
       "            background-color:  #f0eaf4;\n",
       "            color:  #000000;\n",
       "        }    #T_7a9342f7_1ac6_11eb_828f_a0a4c554f2a3row17_col18 {\n",
       "            background-color:  #ede8f3;\n",
       "            color:  #000000;\n",
       "        }    #T_7a9342f7_1ac6_11eb_828f_a0a4c554f2a3row17_col19 {\n",
       "            background-color:  #f3edf5;\n",
       "            color:  #000000;\n",
       "        }    #T_7a9342f7_1ac6_11eb_828f_a0a4c554f2a3row17_col20 {\n",
       "            background-color:  #f0eaf4;\n",
       "            color:  #000000;\n",
       "        }    #T_7a9342f7_1ac6_11eb_828f_a0a4c554f2a3row17_col21 {\n",
       "            background-color:  #f3edf5;\n",
       "            color:  #000000;\n",
       "        }    #T_7a9342f7_1ac6_11eb_828f_a0a4c554f2a3row17_col22 {\n",
       "            background-color:  #f2ecf5;\n",
       "            color:  #000000;\n",
       "        }    #T_7a9342f7_1ac6_11eb_828f_a0a4c554f2a3row17_col23 {\n",
       "            background-color:  #f1ebf5;\n",
       "            color:  #000000;\n",
       "        }    #T_7a9342f7_1ac6_11eb_828f_a0a4c554f2a3row17_col24 {\n",
       "            background-color:  #f1ebf4;\n",
       "            color:  #000000;\n",
       "        }    #T_7a9342f7_1ac6_11eb_828f_a0a4c554f2a3row17_col25 {\n",
       "            background-color:  #f2ecf5;\n",
       "            color:  #000000;\n",
       "        }    #T_7a9342f7_1ac6_11eb_828f_a0a4c554f2a3row17_col26 {\n",
       "            background-color:  #f2ecf5;\n",
       "            color:  #000000;\n",
       "        }    #T_7a9342f7_1ac6_11eb_828f_a0a4c554f2a3row17_col27 {\n",
       "            background-color:  #f3edf5;\n",
       "            color:  #000000;\n",
       "        }    #T_7a9342f7_1ac6_11eb_828f_a0a4c554f2a3row17_col28 {\n",
       "            background-color:  #f6eff7;\n",
       "            color:  #000000;\n",
       "        }    #T_7a9342f7_1ac6_11eb_828f_a0a4c554f2a3row17_col29 {\n",
       "            background-color:  #f3edf5;\n",
       "            color:  #000000;\n",
       "        }    #T_7a9342f7_1ac6_11eb_828f_a0a4c554f2a3row18_col0 {\n",
       "            background-color:  #fcf4fa;\n",
       "            color:  #000000;\n",
       "        }    #T_7a9342f7_1ac6_11eb_828f_a0a4c554f2a3row18_col1 {\n",
       "            background-color:  #ced0e6;\n",
       "            color:  #000000;\n",
       "        }    #T_7a9342f7_1ac6_11eb_828f_a0a4c554f2a3row18_col2 {\n",
       "            background-color:  #d2d2e7;\n",
       "            color:  #000000;\n",
       "        }    #T_7a9342f7_1ac6_11eb_828f_a0a4c554f2a3row18_col3 {\n",
       "            background-color:  #cdd0e5;\n",
       "            color:  #000000;\n",
       "        }    #T_7a9342f7_1ac6_11eb_828f_a0a4c554f2a3row18_col4 {\n",
       "            background-color:  #c1cae2;\n",
       "            color:  #000000;\n",
       "        }    #T_7a9342f7_1ac6_11eb_828f_a0a4c554f2a3row18_col5 {\n",
       "            background-color:  #dad9ea;\n",
       "            color:  #000000;\n",
       "        }    #T_7a9342f7_1ac6_11eb_828f_a0a4c554f2a3row18_col6 {\n",
       "            background-color:  #d6d6e9;\n",
       "            color:  #000000;\n",
       "        }    #T_7a9342f7_1ac6_11eb_828f_a0a4c554f2a3row18_col7 {\n",
       "            background-color:  #e1dfed;\n",
       "            color:  #000000;\n",
       "        }    #T_7a9342f7_1ac6_11eb_828f_a0a4c554f2a3row18_col8 {\n",
       "            background-color:  #d2d3e7;\n",
       "            color:  #000000;\n",
       "        }    #T_7a9342f7_1ac6_11eb_828f_a0a4c554f2a3row18_col9 {\n",
       "            background-color:  #eee9f3;\n",
       "            color:  #000000;\n",
       "        }    #T_7a9342f7_1ac6_11eb_828f_a0a4c554f2a3row18_col10 {\n",
       "            background-color:  #dfddec;\n",
       "            color:  #000000;\n",
       "        }    #T_7a9342f7_1ac6_11eb_828f_a0a4c554f2a3row18_col11 {\n",
       "            background-color:  #f1ebf5;\n",
       "            color:  #000000;\n",
       "        }    #T_7a9342f7_1ac6_11eb_828f_a0a4c554f2a3row18_col12 {\n",
       "            background-color:  #f2ecf5;\n",
       "            color:  #000000;\n",
       "        }    #T_7a9342f7_1ac6_11eb_828f_a0a4c554f2a3row18_col13 {\n",
       "            background-color:  #f7f0f7;\n",
       "            color:  #000000;\n",
       "        }    #T_7a9342f7_1ac6_11eb_828f_a0a4c554f2a3row18_col14 {\n",
       "            background-color:  #e6e2ef;\n",
       "            color:  #000000;\n",
       "        }    #T_7a9342f7_1ac6_11eb_828f_a0a4c554f2a3row18_col15 {\n",
       "            background-color:  #e6e2ef;\n",
       "            color:  #000000;\n",
       "        }    #T_7a9342f7_1ac6_11eb_828f_a0a4c554f2a3row18_col16 {\n",
       "            background-color:  #e6e2ef;\n",
       "            color:  #000000;\n",
       "        }    #T_7a9342f7_1ac6_11eb_828f_a0a4c554f2a3row18_col17 {\n",
       "            background-color:  #e7e3f0;\n",
       "            color:  #000000;\n",
       "        }    #T_7a9342f7_1ac6_11eb_828f_a0a4c554f2a3row18_col18 {\n",
       "            background-color:  #e0deed;\n",
       "            color:  #000000;\n",
       "        }    #T_7a9342f7_1ac6_11eb_828f_a0a4c554f2a3row18_col19 {\n",
       "            background-color:  #eee9f3;\n",
       "            color:  #000000;\n",
       "        }    #T_7a9342f7_1ac6_11eb_828f_a0a4c554f2a3row18_col20 {\n",
       "            background-color:  #ebe6f2;\n",
       "            color:  #000000;\n",
       "        }    #T_7a9342f7_1ac6_11eb_828f_a0a4c554f2a3row18_col21 {\n",
       "            background-color:  #ede8f3;\n",
       "            color:  #000000;\n",
       "        }    #T_7a9342f7_1ac6_11eb_828f_a0a4c554f2a3row18_col22 {\n",
       "            background-color:  #eee8f3;\n",
       "            color:  #000000;\n",
       "        }    #T_7a9342f7_1ac6_11eb_828f_a0a4c554f2a3row18_col23 {\n",
       "            background-color:  #ede7f2;\n",
       "            color:  #000000;\n",
       "        }    #T_7a9342f7_1ac6_11eb_828f_a0a4c554f2a3row18_col24 {\n",
       "            background-color:  #e7e3f0;\n",
       "            color:  #000000;\n",
       "        }    #T_7a9342f7_1ac6_11eb_828f_a0a4c554f2a3row18_col25 {\n",
       "            background-color:  #e7e3f0;\n",
       "            color:  #000000;\n",
       "        }    #T_7a9342f7_1ac6_11eb_828f_a0a4c554f2a3row18_col26 {\n",
       "            background-color:  #e8e4f0;\n",
       "            color:  #000000;\n",
       "        }    #T_7a9342f7_1ac6_11eb_828f_a0a4c554f2a3row18_col27 {\n",
       "            background-color:  #ede7f2;\n",
       "            color:  #000000;\n",
       "        }    #T_7a9342f7_1ac6_11eb_828f_a0a4c554f2a3row18_col28 {\n",
       "            background-color:  #f7f0f7;\n",
       "            color:  #000000;\n",
       "        }    #T_7a9342f7_1ac6_11eb_828f_a0a4c554f2a3row18_col29 {\n",
       "            background-color:  #e6e2ef;\n",
       "            color:  #000000;\n",
       "        }    #T_7a9342f7_1ac6_11eb_828f_a0a4c554f2a3row19_col0 {\n",
       "            background-color:  #ced0e6;\n",
       "            color:  #000000;\n",
       "        }    #T_7a9342f7_1ac6_11eb_828f_a0a4c554f2a3row19_col1 {\n",
       "            background-color:  #a8bedc;\n",
       "            color:  #000000;\n",
       "        }    #T_7a9342f7_1ac6_11eb_828f_a0a4c554f2a3row19_col2 {\n",
       "            background-color:  #c8cde4;\n",
       "            color:  #000000;\n",
       "        }    #T_7a9342f7_1ac6_11eb_828f_a0a4c554f2a3row19_col3 {\n",
       "            background-color:  #d8d7e9;\n",
       "            color:  #000000;\n",
       "        }    #T_7a9342f7_1ac6_11eb_828f_a0a4c554f2a3row19_col4 {\n",
       "            background-color:  #d0d1e6;\n",
       "            color:  #000000;\n",
       "        }    #T_7a9342f7_1ac6_11eb_828f_a0a4c554f2a3row19_col5 {\n",
       "            background-color:  #dad9ea;\n",
       "            color:  #000000;\n",
       "        }    #T_7a9342f7_1ac6_11eb_828f_a0a4c554f2a3row19_col6 {\n",
       "            background-color:  #dddbec;\n",
       "            color:  #000000;\n",
       "        }    #T_7a9342f7_1ac6_11eb_828f_a0a4c554f2a3row19_col7 {\n",
       "            background-color:  #eee8f3;\n",
       "            color:  #000000;\n",
       "        }    #T_7a9342f7_1ac6_11eb_828f_a0a4c554f2a3row19_col8 {\n",
       "            background-color:  #d3d4e7;\n",
       "            color:  #000000;\n",
       "        }    #T_7a9342f7_1ac6_11eb_828f_a0a4c554f2a3row19_col9 {\n",
       "            background-color:  #d9d8ea;\n",
       "            color:  #000000;\n",
       "        }    #T_7a9342f7_1ac6_11eb_828f_a0a4c554f2a3row19_col10 {\n",
       "            background-color:  #80aed2;\n",
       "            color:  #000000;\n",
       "        }    #T_7a9342f7_1ac6_11eb_828f_a0a4c554f2a3row19_col11 {\n",
       "            background-color:  #cdd0e5;\n",
       "            color:  #000000;\n",
       "        }    #T_7a9342f7_1ac6_11eb_828f_a0a4c554f2a3row19_col12 {\n",
       "            background-color:  #f3edf5;\n",
       "            color:  #000000;\n",
       "        }    #T_7a9342f7_1ac6_11eb_828f_a0a4c554f2a3row19_col13 {\n",
       "            background-color:  #056caa;\n",
       "            color:  #f1f1f1;\n",
       "        }    #T_7a9342f7_1ac6_11eb_828f_a0a4c554f2a3row19_col14 {\n",
       "            background-color:  #d5d5e8;\n",
       "            color:  #000000;\n",
       "        }    #T_7a9342f7_1ac6_11eb_828f_a0a4c554f2a3row19_col15 {\n",
       "            background-color:  #d4d4e8;\n",
       "            color:  #000000;\n",
       "        }    #T_7a9342f7_1ac6_11eb_828f_a0a4c554f2a3row19_col16 {\n",
       "            background-color:  #eee9f3;\n",
       "            color:  #000000;\n",
       "        }    #T_7a9342f7_1ac6_11eb_828f_a0a4c554f2a3row19_col17 {\n",
       "            background-color:  #e0dded;\n",
       "            color:  #000000;\n",
       "        }    #T_7a9342f7_1ac6_11eb_828f_a0a4c554f2a3row19_col18 {\n",
       "            background-color:  #b7c5df;\n",
       "            color:  #000000;\n",
       "        }    #T_7a9342f7_1ac6_11eb_828f_a0a4c554f2a3row19_col19 {\n",
       "            background-color:  #e0deed;\n",
       "            color:  #000000;\n",
       "        }    #T_7a9342f7_1ac6_11eb_828f_a0a4c554f2a3row19_col20 {\n",
       "            background-color:  #c1cae2;\n",
       "            color:  #000000;\n",
       "        }    #T_7a9342f7_1ac6_11eb_828f_a0a4c554f2a3row19_col21 {\n",
       "            background-color:  #efe9f3;\n",
       "            color:  #000000;\n",
       "        }    #T_7a9342f7_1ac6_11eb_828f_a0a4c554f2a3row19_col22 {\n",
       "            background-color:  #e4e1ef;\n",
       "            color:  #000000;\n",
       "        }    #T_7a9342f7_1ac6_11eb_828f_a0a4c554f2a3row19_col23 {\n",
       "            background-color:  #ede8f3;\n",
       "            color:  #000000;\n",
       "        }    #T_7a9342f7_1ac6_11eb_828f_a0a4c554f2a3row19_col24 {\n",
       "            background-color:  #e1dfed;\n",
       "            color:  #000000;\n",
       "        }    #T_7a9342f7_1ac6_11eb_828f_a0a4c554f2a3row19_col25 {\n",
       "            background-color:  #ebe6f2;\n",
       "            color:  #000000;\n",
       "        }    #T_7a9342f7_1ac6_11eb_828f_a0a4c554f2a3row19_col26 {\n",
       "            background-color:  #f2ecf5;\n",
       "            color:  #000000;\n",
       "        }    #T_7a9342f7_1ac6_11eb_828f_a0a4c554f2a3row19_col27 {\n",
       "            background-color:  #f4edf6;\n",
       "            color:  #000000;\n",
       "        }    #T_7a9342f7_1ac6_11eb_828f_a0a4c554f2a3row19_col28 {\n",
       "            background-color:  #f7f0f7;\n",
       "            color:  #000000;\n",
       "        }    #T_7a9342f7_1ac6_11eb_828f_a0a4c554f2a3row19_col29 {\n",
       "            background-color:  #80aed2;\n",
       "            color:  #000000;\n",
       "        }    #T_7a9342f7_1ac6_11eb_828f_a0a4c554f2a3row20_col0 {\n",
       "            background-color:  #fff7fb;\n",
       "            color:  #000000;\n",
       "        }    #T_7a9342f7_1ac6_11eb_828f_a0a4c554f2a3row20_col1 {\n",
       "            background-color:  #f8f1f8;\n",
       "            color:  #000000;\n",
       "        }    #T_7a9342f7_1ac6_11eb_828f_a0a4c554f2a3row20_col2 {\n",
       "            background-color:  #faf3f9;\n",
       "            color:  #000000;\n",
       "        }    #T_7a9342f7_1ac6_11eb_828f_a0a4c554f2a3row20_col3 {\n",
       "            background-color:  #fef6fb;\n",
       "            color:  #000000;\n",
       "        }    #T_7a9342f7_1ac6_11eb_828f_a0a4c554f2a3row20_col4 {\n",
       "            background-color:  #fdf5fa;\n",
       "            color:  #000000;\n",
       "        }    #T_7a9342f7_1ac6_11eb_828f_a0a4c554f2a3row20_col5 {\n",
       "            background-color:  #fdf5fa;\n",
       "            color:  #000000;\n",
       "        }    #T_7a9342f7_1ac6_11eb_828f_a0a4c554f2a3row20_col6 {\n",
       "            background-color:  #f7f0f7;\n",
       "            color:  #000000;\n",
       "        }    #T_7a9342f7_1ac6_11eb_828f_a0a4c554f2a3row20_col7 {\n",
       "            background-color:  #fcf4fa;\n",
       "            color:  #000000;\n",
       "        }    #T_7a9342f7_1ac6_11eb_828f_a0a4c554f2a3row20_col8 {\n",
       "            background-color:  #fff7fb;\n",
       "            color:  #000000;\n",
       "        }    #T_7a9342f7_1ac6_11eb_828f_a0a4c554f2a3row20_col9 {\n",
       "            background-color:  #fef6fa;\n",
       "            color:  #000000;\n",
       "        }    #T_7a9342f7_1ac6_11eb_828f_a0a4c554f2a3row20_col10 {\n",
       "            background-color:  #f2ecf5;\n",
       "            color:  #000000;\n",
       "        }    #T_7a9342f7_1ac6_11eb_828f_a0a4c554f2a3row20_col11 {\n",
       "            background-color:  #fbf4f9;\n",
       "            color:  #000000;\n",
       "        }    #T_7a9342f7_1ac6_11eb_828f_a0a4c554f2a3row20_col12 {\n",
       "            background-color:  #fdf5fa;\n",
       "            color:  #000000;\n",
       "        }    #T_7a9342f7_1ac6_11eb_828f_a0a4c554f2a3row20_col13 {\n",
       "            background-color:  #fff7fb;\n",
       "            color:  #000000;\n",
       "        }    #T_7a9342f7_1ac6_11eb_828f_a0a4c554f2a3row20_col14 {\n",
       "            background-color:  #fcf4fa;\n",
       "            color:  #000000;\n",
       "        }    #T_7a9342f7_1ac6_11eb_828f_a0a4c554f2a3row20_col15 {\n",
       "            background-color:  #fcf4fa;\n",
       "            color:  #000000;\n",
       "        }    #T_7a9342f7_1ac6_11eb_828f_a0a4c554f2a3row20_col16 {\n",
       "            background-color:  #f2ecf5;\n",
       "            color:  #000000;\n",
       "        }    #T_7a9342f7_1ac6_11eb_828f_a0a4c554f2a3row20_col17 {\n",
       "            background-color:  #faf2f8;\n",
       "            color:  #000000;\n",
       "        }    #T_7a9342f7_1ac6_11eb_828f_a0a4c554f2a3row20_col18 {\n",
       "            background-color:  #f7f0f7;\n",
       "            color:  #000000;\n",
       "        }    #T_7a9342f7_1ac6_11eb_828f_a0a4c554f2a3row20_col19 {\n",
       "            background-color:  #faf2f8;\n",
       "            color:  #000000;\n",
       "        }    #T_7a9342f7_1ac6_11eb_828f_a0a4c554f2a3row20_col20 {\n",
       "            background-color:  #fbf4f9;\n",
       "            color:  #000000;\n",
       "        }    #T_7a9342f7_1ac6_11eb_828f_a0a4c554f2a3row20_col21 {\n",
       "            background-color:  #faf2f8;\n",
       "            color:  #000000;\n",
       "        }    #T_7a9342f7_1ac6_11eb_828f_a0a4c554f2a3row20_col22 {\n",
       "            background-color:  #f9f2f8;\n",
       "            color:  #000000;\n",
       "        }    #T_7a9342f7_1ac6_11eb_828f_a0a4c554f2a3row20_col23 {\n",
       "            background-color:  #f8f1f8;\n",
       "            color:  #000000;\n",
       "        }    #T_7a9342f7_1ac6_11eb_828f_a0a4c554f2a3row20_col24 {\n",
       "            background-color:  #f7f0f7;\n",
       "            color:  #000000;\n",
       "        }    #T_7a9342f7_1ac6_11eb_828f_a0a4c554f2a3row20_col25 {\n",
       "            background-color:  #f7f0f7;\n",
       "            color:  #000000;\n",
       "        }    #T_7a9342f7_1ac6_11eb_828f_a0a4c554f2a3row20_col26 {\n",
       "            background-color:  #f6eff7;\n",
       "            color:  #000000;\n",
       "        }    #T_7a9342f7_1ac6_11eb_828f_a0a4c554f2a3row20_col27 {\n",
       "            background-color:  #fff7fb;\n",
       "            color:  #000000;\n",
       "        }    #T_7a9342f7_1ac6_11eb_828f_a0a4c554f2a3row20_col28 {\n",
       "            background-color:  #f7f0f7;\n",
       "            color:  #000000;\n",
       "        }    #T_7a9342f7_1ac6_11eb_828f_a0a4c554f2a3row20_col29 {\n",
       "            background-color:  #d9d8ea;\n",
       "            color:  #000000;\n",
       "        }    #T_7a9342f7_1ac6_11eb_828f_a0a4c554f2a3row21_col0 {\n",
       "            background-color:  #fff7fb;\n",
       "            color:  #000000;\n",
       "        }    #T_7a9342f7_1ac6_11eb_828f_a0a4c554f2a3row21_col1 {\n",
       "            background-color:  #f5eff6;\n",
       "            color:  #000000;\n",
       "        }    #T_7a9342f7_1ac6_11eb_828f_a0a4c554f2a3row21_col2 {\n",
       "            background-color:  #fbf3f9;\n",
       "            color:  #000000;\n",
       "        }    #T_7a9342f7_1ac6_11eb_828f_a0a4c554f2a3row21_col3 {\n",
       "            background-color:  #f8f1f8;\n",
       "            color:  #000000;\n",
       "        }    #T_7a9342f7_1ac6_11eb_828f_a0a4c554f2a3row21_col4 {\n",
       "            background-color:  #faf3f9;\n",
       "            color:  #000000;\n",
       "        }    #T_7a9342f7_1ac6_11eb_828f_a0a4c554f2a3row21_col5 {\n",
       "            background-color:  #fdf5fa;\n",
       "            color:  #000000;\n",
       "        }    #T_7a9342f7_1ac6_11eb_828f_a0a4c554f2a3row21_col6 {\n",
       "            background-color:  #efe9f3;\n",
       "            color:  #000000;\n",
       "        }    #T_7a9342f7_1ac6_11eb_828f_a0a4c554f2a3row21_col7 {\n",
       "            background-color:  #fbf4f9;\n",
       "            color:  #000000;\n",
       "        }    #T_7a9342f7_1ac6_11eb_828f_a0a4c554f2a3row21_col8 {\n",
       "            background-color:  #fbf4f9;\n",
       "            color:  #000000;\n",
       "        }    #T_7a9342f7_1ac6_11eb_828f_a0a4c554f2a3row21_col9 {\n",
       "            background-color:  #fdf5fa;\n",
       "            color:  #000000;\n",
       "        }    #T_7a9342f7_1ac6_11eb_828f_a0a4c554f2a3row21_col10 {\n",
       "            background-color:  #fbf3f9;\n",
       "            color:  #000000;\n",
       "        }    #T_7a9342f7_1ac6_11eb_828f_a0a4c554f2a3row21_col11 {\n",
       "            background-color:  #fef6fa;\n",
       "            color:  #000000;\n",
       "        }    #T_7a9342f7_1ac6_11eb_828f_a0a4c554f2a3row21_col12 {\n",
       "            background-color:  #fdf5fa;\n",
       "            color:  #000000;\n",
       "        }    #T_7a9342f7_1ac6_11eb_828f_a0a4c554f2a3row21_col13 {\n",
       "            background-color:  #fff7fb;\n",
       "            color:  #000000;\n",
       "        }    #T_7a9342f7_1ac6_11eb_828f_a0a4c554f2a3row21_col14 {\n",
       "            background-color:  #fbf4f9;\n",
       "            color:  #000000;\n",
       "        }    #T_7a9342f7_1ac6_11eb_828f_a0a4c554f2a3row21_col15 {\n",
       "            background-color:  #fdf5fa;\n",
       "            color:  #000000;\n",
       "        }    #T_7a9342f7_1ac6_11eb_828f_a0a4c554f2a3row21_col16 {\n",
       "            background-color:  #fcf4fa;\n",
       "            color:  #000000;\n",
       "        }    #T_7a9342f7_1ac6_11eb_828f_a0a4c554f2a3row21_col17 {\n",
       "            background-color:  #fcf4fa;\n",
       "            color:  #000000;\n",
       "        }    #T_7a9342f7_1ac6_11eb_828f_a0a4c554f2a3row21_col18 {\n",
       "            background-color:  #fbf3f9;\n",
       "            color:  #000000;\n",
       "        }    #T_7a9342f7_1ac6_11eb_828f_a0a4c554f2a3row21_col19 {\n",
       "            background-color:  #fbf4f9;\n",
       "            color:  #000000;\n",
       "        }    #T_7a9342f7_1ac6_11eb_828f_a0a4c554f2a3row21_col20 {\n",
       "            background-color:  #fbf4f9;\n",
       "            color:  #000000;\n",
       "        }    #T_7a9342f7_1ac6_11eb_828f_a0a4c554f2a3row21_col21 {\n",
       "            background-color:  #fbf4f9;\n",
       "            color:  #000000;\n",
       "        }    #T_7a9342f7_1ac6_11eb_828f_a0a4c554f2a3row21_col22 {\n",
       "            background-color:  #fbf4f9;\n",
       "            color:  #000000;\n",
       "        }    #T_7a9342f7_1ac6_11eb_828f_a0a4c554f2a3row21_col23 {\n",
       "            background-color:  #fbf3f9;\n",
       "            color:  #000000;\n",
       "        }    #T_7a9342f7_1ac6_11eb_828f_a0a4c554f2a3row21_col24 {\n",
       "            background-color:  #fbf3f9;\n",
       "            color:  #000000;\n",
       "        }    #T_7a9342f7_1ac6_11eb_828f_a0a4c554f2a3row21_col25 {\n",
       "            background-color:  #fbf4f9;\n",
       "            color:  #000000;\n",
       "        }    #T_7a9342f7_1ac6_11eb_828f_a0a4c554f2a3row21_col26 {\n",
       "            background-color:  #faf3f9;\n",
       "            color:  #000000;\n",
       "        }    #T_7a9342f7_1ac6_11eb_828f_a0a4c554f2a3row21_col27 {\n",
       "            background-color:  #fcf4fa;\n",
       "            color:  #000000;\n",
       "        }    #T_7a9342f7_1ac6_11eb_828f_a0a4c554f2a3row21_col28 {\n",
       "            background-color:  #f8f1f8;\n",
       "            color:  #000000;\n",
       "        }    #T_7a9342f7_1ac6_11eb_828f_a0a4c554f2a3row21_col29 {\n",
       "            background-color:  #fbf3f9;\n",
       "            color:  #000000;\n",
       "        }    #T_7a9342f7_1ac6_11eb_828f_a0a4c554f2a3row22_col0 {\n",
       "            background-color:  #fff7fb;\n",
       "            color:  #000000;\n",
       "        }    #T_7a9342f7_1ac6_11eb_828f_a0a4c554f2a3row22_col1 {\n",
       "            background-color:  #f7f0f7;\n",
       "            color:  #000000;\n",
       "        }    #T_7a9342f7_1ac6_11eb_828f_a0a4c554f2a3row22_col2 {\n",
       "            background-color:  #f7f0f7;\n",
       "            color:  #000000;\n",
       "        }    #T_7a9342f7_1ac6_11eb_828f_a0a4c554f2a3row22_col3 {\n",
       "            background-color:  #f0eaf4;\n",
       "            color:  #000000;\n",
       "        }    #T_7a9342f7_1ac6_11eb_828f_a0a4c554f2a3row22_col4 {\n",
       "            background-color:  #f7f0f7;\n",
       "            color:  #000000;\n",
       "        }    #T_7a9342f7_1ac6_11eb_828f_a0a4c554f2a3row22_col5 {\n",
       "            background-color:  #f8f1f8;\n",
       "            color:  #000000;\n",
       "        }    #T_7a9342f7_1ac6_11eb_828f_a0a4c554f2a3row22_col6 {\n",
       "            background-color:  #f5eff6;\n",
       "            color:  #000000;\n",
       "        }    #T_7a9342f7_1ac6_11eb_828f_a0a4c554f2a3row22_col7 {\n",
       "            background-color:  #fef6fa;\n",
       "            color:  #000000;\n",
       "        }    #T_7a9342f7_1ac6_11eb_828f_a0a4c554f2a3row22_col8 {\n",
       "            background-color:  #fff7fb;\n",
       "            color:  #000000;\n",
       "        }    #T_7a9342f7_1ac6_11eb_828f_a0a4c554f2a3row22_col9 {\n",
       "            background-color:  #fdf5fa;\n",
       "            color:  #000000;\n",
       "        }    #T_7a9342f7_1ac6_11eb_828f_a0a4c554f2a3row22_col10 {\n",
       "            background-color:  #f9f2f8;\n",
       "            color:  #000000;\n",
       "        }    #T_7a9342f7_1ac6_11eb_828f_a0a4c554f2a3row22_col11 {\n",
       "            background-color:  #fef6fb;\n",
       "            color:  #000000;\n",
       "        }    #T_7a9342f7_1ac6_11eb_828f_a0a4c554f2a3row22_col12 {\n",
       "            background-color:  #fef6fa;\n",
       "            color:  #000000;\n",
       "        }    #T_7a9342f7_1ac6_11eb_828f_a0a4c554f2a3row22_col13 {\n",
       "            background-color:  #fef6fb;\n",
       "            color:  #000000;\n",
       "        }    #T_7a9342f7_1ac6_11eb_828f_a0a4c554f2a3row22_col14 {\n",
       "            background-color:  #fef6fb;\n",
       "            color:  #000000;\n",
       "        }    #T_7a9342f7_1ac6_11eb_828f_a0a4c554f2a3row22_col15 {\n",
       "            background-color:  #fdf5fa;\n",
       "            color:  #000000;\n",
       "        }    #T_7a9342f7_1ac6_11eb_828f_a0a4c554f2a3row22_col16 {\n",
       "            background-color:  #fef6fa;\n",
       "            color:  #000000;\n",
       "        }    #T_7a9342f7_1ac6_11eb_828f_a0a4c554f2a3row22_col17 {\n",
       "            background-color:  #fdf5fa;\n",
       "            color:  #000000;\n",
       "        }    #T_7a9342f7_1ac6_11eb_828f_a0a4c554f2a3row22_col18 {\n",
       "            background-color:  #f8f1f8;\n",
       "            color:  #000000;\n",
       "        }    #T_7a9342f7_1ac6_11eb_828f_a0a4c554f2a3row22_col19 {\n",
       "            background-color:  #f5eff6;\n",
       "            color:  #000000;\n",
       "        }    #T_7a9342f7_1ac6_11eb_828f_a0a4c554f2a3row22_col20 {\n",
       "            background-color:  #faf2f8;\n",
       "            color:  #000000;\n",
       "        }    #T_7a9342f7_1ac6_11eb_828f_a0a4c554f2a3row22_col21 {\n",
       "            background-color:  #f4edf6;\n",
       "            color:  #000000;\n",
       "        }    #T_7a9342f7_1ac6_11eb_828f_a0a4c554f2a3row22_col22 {\n",
       "            background-color:  #f1ebf4;\n",
       "            color:  #000000;\n",
       "        }    #T_7a9342f7_1ac6_11eb_828f_a0a4c554f2a3row22_col23 {\n",
       "            background-color:  #f2ecf5;\n",
       "            color:  #000000;\n",
       "        }    #T_7a9342f7_1ac6_11eb_828f_a0a4c554f2a3row22_col24 {\n",
       "            background-color:  #f0eaf4;\n",
       "            color:  #000000;\n",
       "        }    #T_7a9342f7_1ac6_11eb_828f_a0a4c554f2a3row22_col25 {\n",
       "            background-color:  #f1ebf5;\n",
       "            color:  #000000;\n",
       "        }    #T_7a9342f7_1ac6_11eb_828f_a0a4c554f2a3row22_col26 {\n",
       "            background-color:  #f1ebf5;\n",
       "            color:  #000000;\n",
       "        }    #T_7a9342f7_1ac6_11eb_828f_a0a4c554f2a3row22_col27 {\n",
       "            background-color:  #f8f1f8;\n",
       "            color:  #000000;\n",
       "        }    #T_7a9342f7_1ac6_11eb_828f_a0a4c554f2a3row22_col28 {\n",
       "            background-color:  #f8f1f8;\n",
       "            color:  #000000;\n",
       "        }    #T_7a9342f7_1ac6_11eb_828f_a0a4c554f2a3row22_col29 {\n",
       "            background-color:  #fff7fb;\n",
       "            color:  #000000;\n",
       "        }    #T_7a9342f7_1ac6_11eb_828f_a0a4c554f2a3row23_col0 {\n",
       "            background-color:  #fff7fb;\n",
       "            color:  #000000;\n",
       "        }    #T_7a9342f7_1ac6_11eb_828f_a0a4c554f2a3row23_col1 {\n",
       "            background-color:  #e1dfed;\n",
       "            color:  #000000;\n",
       "        }    #T_7a9342f7_1ac6_11eb_828f_a0a4c554f2a3row23_col2 {\n",
       "            background-color:  #eee9f3;\n",
       "            color:  #000000;\n",
       "        }    #T_7a9342f7_1ac6_11eb_828f_a0a4c554f2a3row23_col3 {\n",
       "            background-color:  #ede8f3;\n",
       "            color:  #000000;\n",
       "        }    #T_7a9342f7_1ac6_11eb_828f_a0a4c554f2a3row23_col4 {\n",
       "            background-color:  #fbf3f9;\n",
       "            color:  #000000;\n",
       "        }    #T_7a9342f7_1ac6_11eb_828f_a0a4c554f2a3row23_col5 {\n",
       "            background-color:  #f9f2f8;\n",
       "            color:  #000000;\n",
       "        }    #T_7a9342f7_1ac6_11eb_828f_a0a4c554f2a3row23_col6 {\n",
       "            background-color:  #e7e3f0;\n",
       "            color:  #000000;\n",
       "        }    #T_7a9342f7_1ac6_11eb_828f_a0a4c554f2a3row23_col7 {\n",
       "            background-color:  #fff7fb;\n",
       "            color:  #000000;\n",
       "        }    #T_7a9342f7_1ac6_11eb_828f_a0a4c554f2a3row23_col8 {\n",
       "            background-color:  #efe9f3;\n",
       "            color:  #000000;\n",
       "        }    #T_7a9342f7_1ac6_11eb_828f_a0a4c554f2a3row23_col9 {\n",
       "            background-color:  #ede8f3;\n",
       "            color:  #000000;\n",
       "        }    #T_7a9342f7_1ac6_11eb_828f_a0a4c554f2a3row23_col10 {\n",
       "            background-color:  #dfddec;\n",
       "            color:  #000000;\n",
       "        }    #T_7a9342f7_1ac6_11eb_828f_a0a4c554f2a3row23_col11 {\n",
       "            background-color:  #f7f0f7;\n",
       "            color:  #000000;\n",
       "        }    #T_7a9342f7_1ac6_11eb_828f_a0a4c554f2a3row23_col12 {\n",
       "            background-color:  #f8f1f8;\n",
       "            color:  #000000;\n",
       "        }    #T_7a9342f7_1ac6_11eb_828f_a0a4c554f2a3row23_col13 {\n",
       "            background-color:  #fdf5fa;\n",
       "            color:  #000000;\n",
       "        }    #T_7a9342f7_1ac6_11eb_828f_a0a4c554f2a3row23_col14 {\n",
       "            background-color:  #f0eaf4;\n",
       "            color:  #000000;\n",
       "        }    #T_7a9342f7_1ac6_11eb_828f_a0a4c554f2a3row23_col15 {\n",
       "            background-color:  #f0eaf4;\n",
       "            color:  #000000;\n",
       "        }    #T_7a9342f7_1ac6_11eb_828f_a0a4c554f2a3row23_col16 {\n",
       "            background-color:  #f2ecf5;\n",
       "            color:  #000000;\n",
       "        }    #T_7a9342f7_1ac6_11eb_828f_a0a4c554f2a3row23_col17 {\n",
       "            background-color:  #f5eff6;\n",
       "            color:  #000000;\n",
       "        }    #T_7a9342f7_1ac6_11eb_828f_a0a4c554f2a3row23_col18 {\n",
       "            background-color:  #f2ecf5;\n",
       "            color:  #000000;\n",
       "        }    #T_7a9342f7_1ac6_11eb_828f_a0a4c554f2a3row23_col19 {\n",
       "            background-color:  #f5eff6;\n",
       "            color:  #000000;\n",
       "        }    #T_7a9342f7_1ac6_11eb_828f_a0a4c554f2a3row23_col20 {\n",
       "            background-color:  #f6eff7;\n",
       "            color:  #000000;\n",
       "        }    #T_7a9342f7_1ac6_11eb_828f_a0a4c554f2a3row23_col21 {\n",
       "            background-color:  #f5eef6;\n",
       "            color:  #000000;\n",
       "        }    #T_7a9342f7_1ac6_11eb_828f_a0a4c554f2a3row23_col22 {\n",
       "            background-color:  #f4eef6;\n",
       "            color:  #000000;\n",
       "        }    #T_7a9342f7_1ac6_11eb_828f_a0a4c554f2a3row23_col23 {\n",
       "            background-color:  #f3edf5;\n",
       "            color:  #000000;\n",
       "        }    #T_7a9342f7_1ac6_11eb_828f_a0a4c554f2a3row23_col24 {\n",
       "            background-color:  #f1ebf5;\n",
       "            color:  #000000;\n",
       "        }    #T_7a9342f7_1ac6_11eb_828f_a0a4c554f2a3row23_col25 {\n",
       "            background-color:  #f2ecf5;\n",
       "            color:  #000000;\n",
       "        }    #T_7a9342f7_1ac6_11eb_828f_a0a4c554f2a3row23_col26 {\n",
       "            background-color:  #f3edf5;\n",
       "            color:  #000000;\n",
       "        }    #T_7a9342f7_1ac6_11eb_828f_a0a4c554f2a3row23_col27 {\n",
       "            background-color:  #f6eff7;\n",
       "            color:  #000000;\n",
       "        }    #T_7a9342f7_1ac6_11eb_828f_a0a4c554f2a3row23_col28 {\n",
       "            background-color:  #f8f1f8;\n",
       "            color:  #000000;\n",
       "        }    #T_7a9342f7_1ac6_11eb_828f_a0a4c554f2a3row23_col29 {\n",
       "            background-color:  #e1dfed;\n",
       "            color:  #000000;\n",
       "        }    #T_7a9342f7_1ac6_11eb_828f_a0a4c554f2a3row24_col0 {\n",
       "            background-color:  #fef6fb;\n",
       "            color:  #000000;\n",
       "        }    #T_7a9342f7_1ac6_11eb_828f_a0a4c554f2a3row24_col1 {\n",
       "            background-color:  #f5eef6;\n",
       "            color:  #000000;\n",
       "        }    #T_7a9342f7_1ac6_11eb_828f_a0a4c554f2a3row24_col2 {\n",
       "            background-color:  #fbf3f9;\n",
       "            color:  #000000;\n",
       "        }    #T_7a9342f7_1ac6_11eb_828f_a0a4c554f2a3row24_col3 {\n",
       "            background-color:  #fdf5fa;\n",
       "            color:  #000000;\n",
       "        }    #T_7a9342f7_1ac6_11eb_828f_a0a4c554f2a3row24_col4 {\n",
       "            background-color:  #f9f2f8;\n",
       "            color:  #000000;\n",
       "        }    #T_7a9342f7_1ac6_11eb_828f_a0a4c554f2a3row24_col5 {\n",
       "            background-color:  #f9f2f8;\n",
       "            color:  #000000;\n",
       "        }    #T_7a9342f7_1ac6_11eb_828f_a0a4c554f2a3row24_col6 {\n",
       "            background-color:  #f4edf6;\n",
       "            color:  #000000;\n",
       "        }    #T_7a9342f7_1ac6_11eb_828f_a0a4c554f2a3row24_col7 {\n",
       "            background-color:  #fef6fa;\n",
       "            color:  #000000;\n",
       "        }    #T_7a9342f7_1ac6_11eb_828f_a0a4c554f2a3row24_col8 {\n",
       "            background-color:  #e2dfee;\n",
       "            color:  #000000;\n",
       "        }    #T_7a9342f7_1ac6_11eb_828f_a0a4c554f2a3row24_col9 {\n",
       "            background-color:  #fef6fb;\n",
       "            color:  #000000;\n",
       "        }    #T_7a9342f7_1ac6_11eb_828f_a0a4c554f2a3row24_col10 {\n",
       "            background-color:  #fff7fb;\n",
       "            color:  #000000;\n",
       "        }    #T_7a9342f7_1ac6_11eb_828f_a0a4c554f2a3row24_col11 {\n",
       "            background-color:  #fef6fb;\n",
       "            color:  #000000;\n",
       "        }    #T_7a9342f7_1ac6_11eb_828f_a0a4c554f2a3row24_col12 {\n",
       "            background-color:  #fff7fb;\n",
       "            color:  #000000;\n",
       "        }    #T_7a9342f7_1ac6_11eb_828f_a0a4c554f2a3row24_col13 {\n",
       "            background-color:  #fff7fb;\n",
       "            color:  #000000;\n",
       "        }    #T_7a9342f7_1ac6_11eb_828f_a0a4c554f2a3row24_col14 {\n",
       "            background-color:  #fff7fb;\n",
       "            color:  #000000;\n",
       "        }    #T_7a9342f7_1ac6_11eb_828f_a0a4c554f2a3row24_col15 {\n",
       "            background-color:  #fff7fb;\n",
       "            color:  #000000;\n",
       "        }    #T_7a9342f7_1ac6_11eb_828f_a0a4c554f2a3row24_col16 {\n",
       "            background-color:  #fef6fa;\n",
       "            color:  #000000;\n",
       "        }    #T_7a9342f7_1ac6_11eb_828f_a0a4c554f2a3row24_col17 {\n",
       "            background-color:  #fef6fa;\n",
       "            color:  #000000;\n",
       "        }    #T_7a9342f7_1ac6_11eb_828f_a0a4c554f2a3row24_col18 {\n",
       "            background-color:  #fef6fb;\n",
       "            color:  #000000;\n",
       "        }    #T_7a9342f7_1ac6_11eb_828f_a0a4c554f2a3row24_col19 {\n",
       "            background-color:  #fff7fb;\n",
       "            color:  #000000;\n",
       "        }    #T_7a9342f7_1ac6_11eb_828f_a0a4c554f2a3row24_col20 {\n",
       "            background-color:  #fef6fb;\n",
       "            color:  #000000;\n",
       "        }    #T_7a9342f7_1ac6_11eb_828f_a0a4c554f2a3row24_col21 {\n",
       "            background-color:  #fef6fb;\n",
       "            color:  #000000;\n",
       "        }    #T_7a9342f7_1ac6_11eb_828f_a0a4c554f2a3row24_col22 {\n",
       "            background-color:  #fef6fa;\n",
       "            color:  #000000;\n",
       "        }    #T_7a9342f7_1ac6_11eb_828f_a0a4c554f2a3row24_col23 {\n",
       "            background-color:  #fef6fb;\n",
       "            color:  #000000;\n",
       "        }    #T_7a9342f7_1ac6_11eb_828f_a0a4c554f2a3row24_col24 {\n",
       "            background-color:  #fef6fb;\n",
       "            color:  #000000;\n",
       "        }    #T_7a9342f7_1ac6_11eb_828f_a0a4c554f2a3row24_col25 {\n",
       "            background-color:  #fef6fb;\n",
       "            color:  #000000;\n",
       "        }    #T_7a9342f7_1ac6_11eb_828f_a0a4c554f2a3row24_col26 {\n",
       "            background-color:  #fef6fb;\n",
       "            color:  #000000;\n",
       "        }    #T_7a9342f7_1ac6_11eb_828f_a0a4c554f2a3row24_col27 {\n",
       "            background-color:  #f2ecf5;\n",
       "            color:  #000000;\n",
       "        }    #T_7a9342f7_1ac6_11eb_828f_a0a4c554f2a3row24_col28 {\n",
       "            background-color:  #f8f1f8;\n",
       "            color:  #000000;\n",
       "        }    #T_7a9342f7_1ac6_11eb_828f_a0a4c554f2a3row24_col29 {\n",
       "            background-color:  #f8f1f8;\n",
       "            color:  #000000;\n",
       "        }    #T_7a9342f7_1ac6_11eb_828f_a0a4c554f2a3row25_col0 {\n",
       "            background-color:  #f9f2f8;\n",
       "            color:  #000000;\n",
       "        }    #T_7a9342f7_1ac6_11eb_828f_a0a4c554f2a3row25_col1 {\n",
       "            background-color:  #c2cbe2;\n",
       "            color:  #000000;\n",
       "        }    #T_7a9342f7_1ac6_11eb_828f_a0a4c554f2a3row25_col2 {\n",
       "            background-color:  #ced0e6;\n",
       "            color:  #000000;\n",
       "        }    #T_7a9342f7_1ac6_11eb_828f_a0a4c554f2a3row25_col3 {\n",
       "            background-color:  #f0eaf4;\n",
       "            color:  #000000;\n",
       "        }    #T_7a9342f7_1ac6_11eb_828f_a0a4c554f2a3row25_col4 {\n",
       "            background-color:  #f3edf5;\n",
       "            color:  #000000;\n",
       "        }    #T_7a9342f7_1ac6_11eb_828f_a0a4c554f2a3row25_col5 {\n",
       "            background-color:  #e9e5f1;\n",
       "            color:  #000000;\n",
       "        }    #T_7a9342f7_1ac6_11eb_828f_a0a4c554f2a3row25_col6 {\n",
       "            background-color:  #ede7f2;\n",
       "            color:  #000000;\n",
       "        }    #T_7a9342f7_1ac6_11eb_828f_a0a4c554f2a3row25_col7 {\n",
       "            background-color:  #f5eef6;\n",
       "            color:  #000000;\n",
       "        }    #T_7a9342f7_1ac6_11eb_828f_a0a4c554f2a3row25_col8 {\n",
       "            background-color:  #e2dfee;\n",
       "            color:  #000000;\n",
       "        }    #T_7a9342f7_1ac6_11eb_828f_a0a4c554f2a3row25_col9 {\n",
       "            background-color:  #fef6fb;\n",
       "            color:  #000000;\n",
       "        }    #T_7a9342f7_1ac6_11eb_828f_a0a4c554f2a3row25_col10 {\n",
       "            background-color:  #fff7fb;\n",
       "            color:  #000000;\n",
       "        }    #T_7a9342f7_1ac6_11eb_828f_a0a4c554f2a3row25_col11 {\n",
       "            background-color:  #fef6fb;\n",
       "            color:  #000000;\n",
       "        }    #T_7a9342f7_1ac6_11eb_828f_a0a4c554f2a3row25_col12 {\n",
       "            background-color:  #fff7fb;\n",
       "            color:  #000000;\n",
       "        }    #T_7a9342f7_1ac6_11eb_828f_a0a4c554f2a3row25_col13 {\n",
       "            background-color:  #fff7fb;\n",
       "            color:  #000000;\n",
       "        }    #T_7a9342f7_1ac6_11eb_828f_a0a4c554f2a3row25_col14 {\n",
       "            background-color:  #fff7fb;\n",
       "            color:  #000000;\n",
       "        }    #T_7a9342f7_1ac6_11eb_828f_a0a4c554f2a3row25_col15 {\n",
       "            background-color:  #ebe6f2;\n",
       "            color:  #000000;\n",
       "        }    #T_7a9342f7_1ac6_11eb_828f_a0a4c554f2a3row25_col16 {\n",
       "            background-color:  #e4e1ef;\n",
       "            color:  #000000;\n",
       "        }    #T_7a9342f7_1ac6_11eb_828f_a0a4c554f2a3row25_col17 {\n",
       "            background-color:  #e2dfee;\n",
       "            color:  #000000;\n",
       "        }    #T_7a9342f7_1ac6_11eb_828f_a0a4c554f2a3row25_col18 {\n",
       "            background-color:  #f6eff7;\n",
       "            color:  #000000;\n",
       "        }    #T_7a9342f7_1ac6_11eb_828f_a0a4c554f2a3row25_col19 {\n",
       "            background-color:  #fff7fb;\n",
       "            color:  #000000;\n",
       "        }    #T_7a9342f7_1ac6_11eb_828f_a0a4c554f2a3row25_col20 {\n",
       "            background-color:  #eee8f3;\n",
       "            color:  #000000;\n",
       "        }    #T_7a9342f7_1ac6_11eb_828f_a0a4c554f2a3row25_col21 {\n",
       "            background-color:  #fef6fb;\n",
       "            color:  #000000;\n",
       "        }    #T_7a9342f7_1ac6_11eb_828f_a0a4c554f2a3row25_col22 {\n",
       "            background-color:  #fdf5fa;\n",
       "            color:  #000000;\n",
       "        }    #T_7a9342f7_1ac6_11eb_828f_a0a4c554f2a3row25_col23 {\n",
       "            background-color:  #fef6fa;\n",
       "            color:  #000000;\n",
       "        }    #T_7a9342f7_1ac6_11eb_828f_a0a4c554f2a3row25_col24 {\n",
       "            background-color:  #fef6fb;\n",
       "            color:  #000000;\n",
       "        }    #T_7a9342f7_1ac6_11eb_828f_a0a4c554f2a3row25_col25 {\n",
       "            background-color:  #fef6fb;\n",
       "            color:  #000000;\n",
       "        }    #T_7a9342f7_1ac6_11eb_828f_a0a4c554f2a3row25_col26 {\n",
       "            background-color:  #fef6fa;\n",
       "            color:  #000000;\n",
       "        }    #T_7a9342f7_1ac6_11eb_828f_a0a4c554f2a3row25_col27 {\n",
       "            background-color:  #f2ecf5;\n",
       "            color:  #000000;\n",
       "        }    #T_7a9342f7_1ac6_11eb_828f_a0a4c554f2a3row25_col28 {\n",
       "            background-color:  #f8f1f8;\n",
       "            color:  #000000;\n",
       "        }    #T_7a9342f7_1ac6_11eb_828f_a0a4c554f2a3row25_col29 {\n",
       "            background-color:  #efe9f3;\n",
       "            color:  #000000;\n",
       "        }    #T_7a9342f7_1ac6_11eb_828f_a0a4c554f2a3row26_col0 {\n",
       "            background-color:  #e8e4f0;\n",
       "            color:  #000000;\n",
       "        }    #T_7a9342f7_1ac6_11eb_828f_a0a4c554f2a3row26_col1 {\n",
       "            background-color:  #e7e3f0;\n",
       "            color:  #000000;\n",
       "        }    #T_7a9342f7_1ac6_11eb_828f_a0a4c554f2a3row26_col2 {\n",
       "            background-color:  #e4e1ef;\n",
       "            color:  #000000;\n",
       "        }    #T_7a9342f7_1ac6_11eb_828f_a0a4c554f2a3row26_col3 {\n",
       "            background-color:  #d9d8ea;\n",
       "            color:  #000000;\n",
       "        }    #T_7a9342f7_1ac6_11eb_828f_a0a4c554f2a3row26_col4 {\n",
       "            background-color:  #dad9ea;\n",
       "            color:  #000000;\n",
       "        }    #T_7a9342f7_1ac6_11eb_828f_a0a4c554f2a3row26_col5 {\n",
       "            background-color:  #e2dfee;\n",
       "            color:  #000000;\n",
       "        }    #T_7a9342f7_1ac6_11eb_828f_a0a4c554f2a3row26_col6 {\n",
       "            background-color:  #f4edf6;\n",
       "            color:  #000000;\n",
       "        }    #T_7a9342f7_1ac6_11eb_828f_a0a4c554f2a3row26_col7 {\n",
       "            background-color:  #faf2f8;\n",
       "            color:  #000000;\n",
       "        }    #T_7a9342f7_1ac6_11eb_828f_a0a4c554f2a3row26_col8 {\n",
       "            background-color:  #faf2f8;\n",
       "            color:  #000000;\n",
       "        }    #T_7a9342f7_1ac6_11eb_828f_a0a4c554f2a3row26_col9 {\n",
       "            background-color:  #fbf3f9;\n",
       "            color:  #000000;\n",
       "        }    #T_7a9342f7_1ac6_11eb_828f_a0a4c554f2a3row26_col10 {\n",
       "            background-color:  #ebe6f2;\n",
       "            color:  #000000;\n",
       "        }    #T_7a9342f7_1ac6_11eb_828f_a0a4c554f2a3row26_col11 {\n",
       "            background-color:  #f8f1f8;\n",
       "            color:  #000000;\n",
       "        }    #T_7a9342f7_1ac6_11eb_828f_a0a4c554f2a3row26_col12 {\n",
       "            background-color:  #f9f2f8;\n",
       "            color:  #000000;\n",
       "        }    #T_7a9342f7_1ac6_11eb_828f_a0a4c554f2a3row26_col13 {\n",
       "            background-color:  #fdf5fa;\n",
       "            color:  #000000;\n",
       "        }    #T_7a9342f7_1ac6_11eb_828f_a0a4c554f2a3row26_col14 {\n",
       "            background-color:  #eee8f3;\n",
       "            color:  #000000;\n",
       "        }    #T_7a9342f7_1ac6_11eb_828f_a0a4c554f2a3row26_col15 {\n",
       "            background-color:  #eae6f1;\n",
       "            color:  #000000;\n",
       "        }    #T_7a9342f7_1ac6_11eb_828f_a0a4c554f2a3row26_col16 {\n",
       "            background-color:  #ece7f2;\n",
       "            color:  #000000;\n",
       "        }    #T_7a9342f7_1ac6_11eb_828f_a0a4c554f2a3row26_col17 {\n",
       "            background-color:  #e6e2ef;\n",
       "            color:  #000000;\n",
       "        }    #T_7a9342f7_1ac6_11eb_828f_a0a4c554f2a3row26_col18 {\n",
       "            background-color:  #f7f0f7;\n",
       "            color:  #000000;\n",
       "        }    #T_7a9342f7_1ac6_11eb_828f_a0a4c554f2a3row26_col19 {\n",
       "            background-color:  #f4eef6;\n",
       "            color:  #000000;\n",
       "        }    #T_7a9342f7_1ac6_11eb_828f_a0a4c554f2a3row26_col20 {\n",
       "            background-color:  #f7f0f7;\n",
       "            color:  #000000;\n",
       "        }    #T_7a9342f7_1ac6_11eb_828f_a0a4c554f2a3row26_col21 {\n",
       "            background-color:  #f4edf6;\n",
       "            color:  #000000;\n",
       "        }    #T_7a9342f7_1ac6_11eb_828f_a0a4c554f2a3row26_col22 {\n",
       "            background-color:  #f5eef6;\n",
       "            color:  #000000;\n",
       "        }    #T_7a9342f7_1ac6_11eb_828f_a0a4c554f2a3row26_col23 {\n",
       "            background-color:  #f4edf6;\n",
       "            color:  #000000;\n",
       "        }    #T_7a9342f7_1ac6_11eb_828f_a0a4c554f2a3row26_col24 {\n",
       "            background-color:  #f2ecf5;\n",
       "            color:  #000000;\n",
       "        }    #T_7a9342f7_1ac6_11eb_828f_a0a4c554f2a3row26_col25 {\n",
       "            background-color:  #f2ecf5;\n",
       "            color:  #000000;\n",
       "        }    #T_7a9342f7_1ac6_11eb_828f_a0a4c554f2a3row26_col26 {\n",
       "            background-color:  #f2ecf5;\n",
       "            color:  #000000;\n",
       "        }    #T_7a9342f7_1ac6_11eb_828f_a0a4c554f2a3row26_col27 {\n",
       "            background-color:  #f5eff6;\n",
       "            color:  #000000;\n",
       "        }    #T_7a9342f7_1ac6_11eb_828f_a0a4c554f2a3row26_col28 {\n",
       "            background-color:  #f8f1f8;\n",
       "            color:  #000000;\n",
       "        }    #T_7a9342f7_1ac6_11eb_828f_a0a4c554f2a3row26_col29 {\n",
       "            background-color:  #f2ecf5;\n",
       "            color:  #000000;\n",
       "        }    #T_7a9342f7_1ac6_11eb_828f_a0a4c554f2a3row27_col0 {\n",
       "            background-color:  #fdf5fa;\n",
       "            color:  #000000;\n",
       "        }    #T_7a9342f7_1ac6_11eb_828f_a0a4c554f2a3row27_col1 {\n",
       "            background-color:  #dad9ea;\n",
       "            color:  #000000;\n",
       "        }    #T_7a9342f7_1ac6_11eb_828f_a0a4c554f2a3row27_col2 {\n",
       "            background-color:  #ebe6f2;\n",
       "            color:  #000000;\n",
       "        }    #T_7a9342f7_1ac6_11eb_828f_a0a4c554f2a3row27_col3 {\n",
       "            background-color:  #eee9f3;\n",
       "            color:  #000000;\n",
       "        }    #T_7a9342f7_1ac6_11eb_828f_a0a4c554f2a3row27_col4 {\n",
       "            background-color:  #ede8f3;\n",
       "            color:  #000000;\n",
       "        }    #T_7a9342f7_1ac6_11eb_828f_a0a4c554f2a3row27_col5 {\n",
       "            background-color:  #efe9f3;\n",
       "            color:  #000000;\n",
       "        }    #T_7a9342f7_1ac6_11eb_828f_a0a4c554f2a3row27_col6 {\n",
       "            background-color:  #d7d6e9;\n",
       "            color:  #000000;\n",
       "        }    #T_7a9342f7_1ac6_11eb_828f_a0a4c554f2a3row27_col7 {\n",
       "            background-color:  #ede7f2;\n",
       "            color:  #000000;\n",
       "        }    #T_7a9342f7_1ac6_11eb_828f_a0a4c554f2a3row27_col8 {\n",
       "            background-color:  #e7e3f0;\n",
       "            color:  #000000;\n",
       "        }    #T_7a9342f7_1ac6_11eb_828f_a0a4c554f2a3row27_col9 {\n",
       "            background-color:  #f5eef6;\n",
       "            color:  #000000;\n",
       "        }    #T_7a9342f7_1ac6_11eb_828f_a0a4c554f2a3row27_col10 {\n",
       "            background-color:  #e5e1ef;\n",
       "            color:  #000000;\n",
       "        }    #T_7a9342f7_1ac6_11eb_828f_a0a4c554f2a3row27_col11 {\n",
       "            background-color:  #f2ecf5;\n",
       "            color:  #000000;\n",
       "        }    #T_7a9342f7_1ac6_11eb_828f_a0a4c554f2a3row27_col12 {\n",
       "            background-color:  #efe9f3;\n",
       "            color:  #000000;\n",
       "        }    #T_7a9342f7_1ac6_11eb_828f_a0a4c554f2a3row27_col13 {\n",
       "            background-color:  #faf2f8;\n",
       "            color:  #000000;\n",
       "        }    #T_7a9342f7_1ac6_11eb_828f_a0a4c554f2a3row27_col14 {\n",
       "            background-color:  #f1ebf5;\n",
       "            color:  #000000;\n",
       "        }    #T_7a9342f7_1ac6_11eb_828f_a0a4c554f2a3row27_col15 {\n",
       "            background-color:  #eee9f3;\n",
       "            color:  #000000;\n",
       "        }    #T_7a9342f7_1ac6_11eb_828f_a0a4c554f2a3row27_col16 {\n",
       "            background-color:  #f0eaf4;\n",
       "            color:  #000000;\n",
       "        }    #T_7a9342f7_1ac6_11eb_828f_a0a4c554f2a3row27_col17 {\n",
       "            background-color:  #f0eaf4;\n",
       "            color:  #000000;\n",
       "        }    #T_7a9342f7_1ac6_11eb_828f_a0a4c554f2a3row27_col18 {\n",
       "            background-color:  #e8e4f0;\n",
       "            color:  #000000;\n",
       "        }    #T_7a9342f7_1ac6_11eb_828f_a0a4c554f2a3row27_col19 {\n",
       "            background-color:  #f2ecf5;\n",
       "            color:  #000000;\n",
       "        }    #T_7a9342f7_1ac6_11eb_828f_a0a4c554f2a3row27_col20 {\n",
       "            background-color:  #f0eaf4;\n",
       "            color:  #000000;\n",
       "        }    #T_7a9342f7_1ac6_11eb_828f_a0a4c554f2a3row27_col21 {\n",
       "            background-color:  #f1ebf5;\n",
       "            color:  #000000;\n",
       "        }    #T_7a9342f7_1ac6_11eb_828f_a0a4c554f2a3row27_col22 {\n",
       "            background-color:  #f2ecf5;\n",
       "            color:  #000000;\n",
       "        }    #T_7a9342f7_1ac6_11eb_828f_a0a4c554f2a3row27_col23 {\n",
       "            background-color:  #f0eaf4;\n",
       "            color:  #000000;\n",
       "        }    #T_7a9342f7_1ac6_11eb_828f_a0a4c554f2a3row27_col24 {\n",
       "            background-color:  #eee8f3;\n",
       "            color:  #000000;\n",
       "        }    #T_7a9342f7_1ac6_11eb_828f_a0a4c554f2a3row27_col25 {\n",
       "            background-color:  #eee8f3;\n",
       "            color:  #000000;\n",
       "        }    #T_7a9342f7_1ac6_11eb_828f_a0a4c554f2a3row27_col26 {\n",
       "            background-color:  #eee9f3;\n",
       "            color:  #000000;\n",
       "        }    #T_7a9342f7_1ac6_11eb_828f_a0a4c554f2a3row27_col27 {\n",
       "            background-color:  #f5eef6;\n",
       "            color:  #000000;\n",
       "        }    #T_7a9342f7_1ac6_11eb_828f_a0a4c554f2a3row27_col28 {\n",
       "            background-color:  #f9f2f8;\n",
       "            color:  #000000;\n",
       "        }    #T_7a9342f7_1ac6_11eb_828f_a0a4c554f2a3row27_col29 {\n",
       "            background-color:  #eee8f3;\n",
       "            color:  #000000;\n",
       "        }    #T_7a9342f7_1ac6_11eb_828f_a0a4c554f2a3row28_col0 {\n",
       "            background-color:  #fff7fb;\n",
       "            color:  #000000;\n",
       "        }    #T_7a9342f7_1ac6_11eb_828f_a0a4c554f2a3row28_col1 {\n",
       "            background-color:  #fff7fb;\n",
       "            color:  #000000;\n",
       "        }    #T_7a9342f7_1ac6_11eb_828f_a0a4c554f2a3row28_col2 {\n",
       "            background-color:  #fff7fb;\n",
       "            color:  #000000;\n",
       "        }    #T_7a9342f7_1ac6_11eb_828f_a0a4c554f2a3row28_col3 {\n",
       "            background-color:  #fff7fb;\n",
       "            color:  #000000;\n",
       "        }    #T_7a9342f7_1ac6_11eb_828f_a0a4c554f2a3row28_col4 {\n",
       "            background-color:  #fff7fb;\n",
       "            color:  #000000;\n",
       "        }    #T_7a9342f7_1ac6_11eb_828f_a0a4c554f2a3row28_col5 {\n",
       "            background-color:  #fff7fb;\n",
       "            color:  #000000;\n",
       "        }    #T_7a9342f7_1ac6_11eb_828f_a0a4c554f2a3row28_col6 {\n",
       "            background-color:  #fff7fb;\n",
       "            color:  #000000;\n",
       "        }    #T_7a9342f7_1ac6_11eb_828f_a0a4c554f2a3row28_col7 {\n",
       "            background-color:  #fff7fb;\n",
       "            color:  #000000;\n",
       "        }    #T_7a9342f7_1ac6_11eb_828f_a0a4c554f2a3row28_col8 {\n",
       "            background-color:  #fef6fa;\n",
       "            color:  #000000;\n",
       "        }    #T_7a9342f7_1ac6_11eb_828f_a0a4c554f2a3row28_col9 {\n",
       "            background-color:  #fff7fb;\n",
       "            color:  #000000;\n",
       "        }    #T_7a9342f7_1ac6_11eb_828f_a0a4c554f2a3row28_col10 {\n",
       "            background-color:  #fff7fb;\n",
       "            color:  #000000;\n",
       "        }    #T_7a9342f7_1ac6_11eb_828f_a0a4c554f2a3row28_col11 {\n",
       "            background-color:  #fff7fb;\n",
       "            color:  #000000;\n",
       "        }    #T_7a9342f7_1ac6_11eb_828f_a0a4c554f2a3row28_col12 {\n",
       "            background-color:  #fff7fb;\n",
       "            color:  #000000;\n",
       "        }    #T_7a9342f7_1ac6_11eb_828f_a0a4c554f2a3row28_col13 {\n",
       "            background-color:  #fff7fb;\n",
       "            color:  #000000;\n",
       "        }    #T_7a9342f7_1ac6_11eb_828f_a0a4c554f2a3row28_col14 {\n",
       "            background-color:  #fff7fb;\n",
       "            color:  #000000;\n",
       "        }    #T_7a9342f7_1ac6_11eb_828f_a0a4c554f2a3row28_col15 {\n",
       "            background-color:  #fff7fb;\n",
       "            color:  #000000;\n",
       "        }    #T_7a9342f7_1ac6_11eb_828f_a0a4c554f2a3row28_col16 {\n",
       "            background-color:  #fef6fa;\n",
       "            color:  #000000;\n",
       "        }    #T_7a9342f7_1ac6_11eb_828f_a0a4c554f2a3row28_col17 {\n",
       "            background-color:  #fef6fb;\n",
       "            color:  #000000;\n",
       "        }    #T_7a9342f7_1ac6_11eb_828f_a0a4c554f2a3row28_col18 {\n",
       "            background-color:  #fff7fb;\n",
       "            color:  #000000;\n",
       "        }    #T_7a9342f7_1ac6_11eb_828f_a0a4c554f2a3row28_col19 {\n",
       "            background-color:  #fff7fb;\n",
       "            color:  #000000;\n",
       "        }    #T_7a9342f7_1ac6_11eb_828f_a0a4c554f2a3row28_col20 {\n",
       "            background-color:  #fff7fb;\n",
       "            color:  #000000;\n",
       "        }    #T_7a9342f7_1ac6_11eb_828f_a0a4c554f2a3row28_col21 {\n",
       "            background-color:  #fff7fb;\n",
       "            color:  #000000;\n",
       "        }    #T_7a9342f7_1ac6_11eb_828f_a0a4c554f2a3row28_col22 {\n",
       "            background-color:  #fff7fb;\n",
       "            color:  #000000;\n",
       "        }    #T_7a9342f7_1ac6_11eb_828f_a0a4c554f2a3row28_col23 {\n",
       "            background-color:  #fff7fb;\n",
       "            color:  #000000;\n",
       "        }    #T_7a9342f7_1ac6_11eb_828f_a0a4c554f2a3row28_col24 {\n",
       "            background-color:  #fff7fb;\n",
       "            color:  #000000;\n",
       "        }    #T_7a9342f7_1ac6_11eb_828f_a0a4c554f2a3row28_col25 {\n",
       "            background-color:  #fff7fb;\n",
       "            color:  #000000;\n",
       "        }    #T_7a9342f7_1ac6_11eb_828f_a0a4c554f2a3row28_col26 {\n",
       "            background-color:  #fff7fb;\n",
       "            color:  #000000;\n",
       "        }    #T_7a9342f7_1ac6_11eb_828f_a0a4c554f2a3row28_col27 {\n",
       "            background-color:  #f3edf5;\n",
       "            color:  #000000;\n",
       "        }    #T_7a9342f7_1ac6_11eb_828f_a0a4c554f2a3row28_col28 {\n",
       "            background-color:  #faf2f8;\n",
       "            color:  #000000;\n",
       "        }    #T_7a9342f7_1ac6_11eb_828f_a0a4c554f2a3row28_col29 {\n",
       "            background-color:  #fff7fb;\n",
       "            color:  #000000;\n",
       "        }    #T_7a9342f7_1ac6_11eb_828f_a0a4c554f2a3row29_col0 {\n",
       "            background-color:  #faf3f9;\n",
       "            color:  #000000;\n",
       "        }    #T_7a9342f7_1ac6_11eb_828f_a0a4c554f2a3row29_col1 {\n",
       "            background-color:  #ede8f3;\n",
       "            color:  #000000;\n",
       "        }    #T_7a9342f7_1ac6_11eb_828f_a0a4c554f2a3row29_col2 {\n",
       "            background-color:  #f5eff6;\n",
       "            color:  #000000;\n",
       "        }    #T_7a9342f7_1ac6_11eb_828f_a0a4c554f2a3row29_col3 {\n",
       "            background-color:  #f9f2f8;\n",
       "            color:  #000000;\n",
       "        }    #T_7a9342f7_1ac6_11eb_828f_a0a4c554f2a3row29_col4 {\n",
       "            background-color:  #f7f0f7;\n",
       "            color:  #000000;\n",
       "        }    #T_7a9342f7_1ac6_11eb_828f_a0a4c554f2a3row29_col5 {\n",
       "            background-color:  #faf2f8;\n",
       "            color:  #000000;\n",
       "        }    #T_7a9342f7_1ac6_11eb_828f_a0a4c554f2a3row29_col6 {\n",
       "            background-color:  #f1ebf5;\n",
       "            color:  #000000;\n",
       "        }    #T_7a9342f7_1ac6_11eb_828f_a0a4c554f2a3row29_col7 {\n",
       "            background-color:  #fdf5fa;\n",
       "            color:  #000000;\n",
       "        }    #T_7a9342f7_1ac6_11eb_828f_a0a4c554f2a3row29_col8 {\n",
       "            background-color:  #f4eef6;\n",
       "            color:  #000000;\n",
       "        }    #T_7a9342f7_1ac6_11eb_828f_a0a4c554f2a3row29_col9 {\n",
       "            background-color:  #fbf3f9;\n",
       "            color:  #000000;\n",
       "        }    #T_7a9342f7_1ac6_11eb_828f_a0a4c554f2a3row29_col10 {\n",
       "            background-color:  #f9f2f8;\n",
       "            color:  #000000;\n",
       "        }    #T_7a9342f7_1ac6_11eb_828f_a0a4c554f2a3row29_col11 {\n",
       "            background-color:  #fdf5fa;\n",
       "            color:  #000000;\n",
       "        }    #T_7a9342f7_1ac6_11eb_828f_a0a4c554f2a3row29_col12 {\n",
       "            background-color:  #fdf5fa;\n",
       "            color:  #000000;\n",
       "        }    #T_7a9342f7_1ac6_11eb_828f_a0a4c554f2a3row29_col13 {\n",
       "            background-color:  #fef6fb;\n",
       "            color:  #000000;\n",
       "        }    #T_7a9342f7_1ac6_11eb_828f_a0a4c554f2a3row29_col14 {\n",
       "            background-color:  #fdf5fa;\n",
       "            color:  #000000;\n",
       "        }    #T_7a9342f7_1ac6_11eb_828f_a0a4c554f2a3row29_col15 {\n",
       "            background-color:  #faf3f9;\n",
       "            color:  #000000;\n",
       "        }    #T_7a9342f7_1ac6_11eb_828f_a0a4c554f2a3row29_col16 {\n",
       "            background-color:  #f9f2f8;\n",
       "            color:  #000000;\n",
       "        }    #T_7a9342f7_1ac6_11eb_828f_a0a4c554f2a3row29_col17 {\n",
       "            background-color:  #f8f1f8;\n",
       "            color:  #000000;\n",
       "        }    #T_7a9342f7_1ac6_11eb_828f_a0a4c554f2a3row29_col18 {\n",
       "            background-color:  #f0eaf4;\n",
       "            color:  #000000;\n",
       "        }    #T_7a9342f7_1ac6_11eb_828f_a0a4c554f2a3row29_col19 {\n",
       "            background-color:  #f6eff7;\n",
       "            color:  #000000;\n",
       "        }    #T_7a9342f7_1ac6_11eb_828f_a0a4c554f2a3row29_col20 {\n",
       "            background-color:  #f6eff7;\n",
       "            color:  #000000;\n",
       "        }    #T_7a9342f7_1ac6_11eb_828f_a0a4c554f2a3row29_col21 {\n",
       "            background-color:  #f8f1f8;\n",
       "            color:  #000000;\n",
       "        }    #T_7a9342f7_1ac6_11eb_828f_a0a4c554f2a3row29_col22 {\n",
       "            background-color:  #f8f1f8;\n",
       "            color:  #000000;\n",
       "        }    #T_7a9342f7_1ac6_11eb_828f_a0a4c554f2a3row29_col23 {\n",
       "            background-color:  #f6eff7;\n",
       "            color:  #000000;\n",
       "        }    #T_7a9342f7_1ac6_11eb_828f_a0a4c554f2a3row29_col24 {\n",
       "            background-color:  #f4eef6;\n",
       "            color:  #000000;\n",
       "        }    #T_7a9342f7_1ac6_11eb_828f_a0a4c554f2a3row29_col25 {\n",
       "            background-color:  #f4eef6;\n",
       "            color:  #000000;\n",
       "        }    #T_7a9342f7_1ac6_11eb_828f_a0a4c554f2a3row29_col26 {\n",
       "            background-color:  #f4edf6;\n",
       "            color:  #000000;\n",
       "        }    #T_7a9342f7_1ac6_11eb_828f_a0a4c554f2a3row29_col27 {\n",
       "            background-color:  #f7f0f7;\n",
       "            color:  #000000;\n",
       "        }    #T_7a9342f7_1ac6_11eb_828f_a0a4c554f2a3row29_col28 {\n",
       "            background-color:  #faf2f8;\n",
       "            color:  #000000;\n",
       "        }    #T_7a9342f7_1ac6_11eb_828f_a0a4c554f2a3row29_col29 {\n",
       "            background-color:  #f0eaf4;\n",
       "            color:  #000000;\n",
       "        }    #T_7a9342f7_1ac6_11eb_828f_a0a4c554f2a3row30_col0 {\n",
       "            background-color:  #fef6fb;\n",
       "            color:  #000000;\n",
       "        }    #T_7a9342f7_1ac6_11eb_828f_a0a4c554f2a3row30_col1 {\n",
       "            background-color:  #fbf4f9;\n",
       "            color:  #000000;\n",
       "        }    #T_7a9342f7_1ac6_11eb_828f_a0a4c554f2a3row30_col2 {\n",
       "            background-color:  #fcf4fa;\n",
       "            color:  #000000;\n",
       "        }    #T_7a9342f7_1ac6_11eb_828f_a0a4c554f2a3row30_col3 {\n",
       "            background-color:  #fdf5fa;\n",
       "            color:  #000000;\n",
       "        }    #T_7a9342f7_1ac6_11eb_828f_a0a4c554f2a3row30_col4 {\n",
       "            background-color:  #fdf5fa;\n",
       "            color:  #000000;\n",
       "        }    #T_7a9342f7_1ac6_11eb_828f_a0a4c554f2a3row30_col5 {\n",
       "            background-color:  #fdf5fa;\n",
       "            color:  #000000;\n",
       "        }    #T_7a9342f7_1ac6_11eb_828f_a0a4c554f2a3row30_col6 {\n",
       "            background-color:  #f8f1f8;\n",
       "            color:  #000000;\n",
       "        }    #T_7a9342f7_1ac6_11eb_828f_a0a4c554f2a3row30_col7 {\n",
       "            background-color:  #faf3f9;\n",
       "            color:  #000000;\n",
       "        }    #T_7a9342f7_1ac6_11eb_828f_a0a4c554f2a3row30_col8 {\n",
       "            background-color:  #f9f2f8;\n",
       "            color:  #000000;\n",
       "        }    #T_7a9342f7_1ac6_11eb_828f_a0a4c554f2a3row30_col9 {\n",
       "            background-color:  #fcf4fa;\n",
       "            color:  #000000;\n",
       "        }    #T_7a9342f7_1ac6_11eb_828f_a0a4c554f2a3row30_col10 {\n",
       "            background-color:  #f8f1f8;\n",
       "            color:  #000000;\n",
       "        }    #T_7a9342f7_1ac6_11eb_828f_a0a4c554f2a3row30_col11 {\n",
       "            background-color:  #fdf5fa;\n",
       "            color:  #000000;\n",
       "        }    #T_7a9342f7_1ac6_11eb_828f_a0a4c554f2a3row30_col12 {\n",
       "            background-color:  #fbf4f9;\n",
       "            color:  #000000;\n",
       "        }    #T_7a9342f7_1ac6_11eb_828f_a0a4c554f2a3row30_col13 {\n",
       "            background-color:  #fff7fb;\n",
       "            color:  #000000;\n",
       "        }    #T_7a9342f7_1ac6_11eb_828f_a0a4c554f2a3row30_col14 {\n",
       "            background-color:  #fcf4fa;\n",
       "            color:  #000000;\n",
       "        }    #T_7a9342f7_1ac6_11eb_828f_a0a4c554f2a3row30_col15 {\n",
       "            background-color:  #fff7fb;\n",
       "            color:  #000000;\n",
       "        }    #T_7a9342f7_1ac6_11eb_828f_a0a4c554f2a3row30_col16 {\n",
       "            background-color:  #fef6fa;\n",
       "            color:  #000000;\n",
       "        }    #T_7a9342f7_1ac6_11eb_828f_a0a4c554f2a3row30_col17 {\n",
       "            background-color:  #fef6fb;\n",
       "            color:  #000000;\n",
       "        }    #T_7a9342f7_1ac6_11eb_828f_a0a4c554f2a3row30_col18 {\n",
       "            background-color:  #faf2f8;\n",
       "            color:  #000000;\n",
       "        }    #T_7a9342f7_1ac6_11eb_828f_a0a4c554f2a3row30_col19 {\n",
       "            background-color:  #fbf4f9;\n",
       "            color:  #000000;\n",
       "        }    #T_7a9342f7_1ac6_11eb_828f_a0a4c554f2a3row30_col20 {\n",
       "            background-color:  #fbf3f9;\n",
       "            color:  #000000;\n",
       "        }    #T_7a9342f7_1ac6_11eb_828f_a0a4c554f2a3row30_col21 {\n",
       "            background-color:  #fbf3f9;\n",
       "            color:  #000000;\n",
       "        }    #T_7a9342f7_1ac6_11eb_828f_a0a4c554f2a3row30_col22 {\n",
       "            background-color:  #fbf3f9;\n",
       "            color:  #000000;\n",
       "        }    #T_7a9342f7_1ac6_11eb_828f_a0a4c554f2a3row30_col23 {\n",
       "            background-color:  #faf2f8;\n",
       "            color:  #000000;\n",
       "        }    #T_7a9342f7_1ac6_11eb_828f_a0a4c554f2a3row30_col24 {\n",
       "            background-color:  #faf2f8;\n",
       "            color:  #000000;\n",
       "        }    #T_7a9342f7_1ac6_11eb_828f_a0a4c554f2a3row30_col25 {\n",
       "            background-color:  #faf2f8;\n",
       "            color:  #000000;\n",
       "        }    #T_7a9342f7_1ac6_11eb_828f_a0a4c554f2a3row30_col26 {\n",
       "            background-color:  #f9f2f8;\n",
       "            color:  #000000;\n",
       "        }    #T_7a9342f7_1ac6_11eb_828f_a0a4c554f2a3row30_col27 {\n",
       "            background-color:  #fef6fb;\n",
       "            color:  #000000;\n",
       "        }    #T_7a9342f7_1ac6_11eb_828f_a0a4c554f2a3row30_col28 {\n",
       "            background-color:  #fbf3f9;\n",
       "            color:  #000000;\n",
       "        }    #T_7a9342f7_1ac6_11eb_828f_a0a4c554f2a3row30_col29 {\n",
       "            background-color:  #fbf4f9;\n",
       "            color:  #000000;\n",
       "        }    #T_7a9342f7_1ac6_11eb_828f_a0a4c554f2a3row31_col0 {\n",
       "            background-color:  #fff7fb;\n",
       "            color:  #000000;\n",
       "        }    #T_7a9342f7_1ac6_11eb_828f_a0a4c554f2a3row31_col1 {\n",
       "            background-color:  #f1ebf4;\n",
       "            color:  #000000;\n",
       "        }    #T_7a9342f7_1ac6_11eb_828f_a0a4c554f2a3row31_col2 {\n",
       "            background-color:  #f4edf6;\n",
       "            color:  #000000;\n",
       "        }    #T_7a9342f7_1ac6_11eb_828f_a0a4c554f2a3row31_col3 {\n",
       "            background-color:  #f1ebf5;\n",
       "            color:  #000000;\n",
       "        }    #T_7a9342f7_1ac6_11eb_828f_a0a4c554f2a3row31_col4 {\n",
       "            background-color:  #f2ecf5;\n",
       "            color:  #000000;\n",
       "        }    #T_7a9342f7_1ac6_11eb_828f_a0a4c554f2a3row31_col5 {\n",
       "            background-color:  #f5eef6;\n",
       "            color:  #000000;\n",
       "        }    #T_7a9342f7_1ac6_11eb_828f_a0a4c554f2a3row31_col6 {\n",
       "            background-color:  #f1ebf5;\n",
       "            color:  #000000;\n",
       "        }    #T_7a9342f7_1ac6_11eb_828f_a0a4c554f2a3row31_col7 {\n",
       "            background-color:  #f7f0f7;\n",
       "            color:  #000000;\n",
       "        }    #T_7a9342f7_1ac6_11eb_828f_a0a4c554f2a3row31_col8 {\n",
       "            background-color:  #f7f0f7;\n",
       "            color:  #000000;\n",
       "        }    #T_7a9342f7_1ac6_11eb_828f_a0a4c554f2a3row31_col9 {\n",
       "            background-color:  #f8f1f8;\n",
       "            color:  #000000;\n",
       "        }    #T_7a9342f7_1ac6_11eb_828f_a0a4c554f2a3row31_col10 {\n",
       "            background-color:  #f5eff6;\n",
       "            color:  #000000;\n",
       "        }    #T_7a9342f7_1ac6_11eb_828f_a0a4c554f2a3row31_col11 {\n",
       "            background-color:  #faf2f8;\n",
       "            color:  #000000;\n",
       "        }    #T_7a9342f7_1ac6_11eb_828f_a0a4c554f2a3row31_col12 {\n",
       "            background-color:  #faf3f9;\n",
       "            color:  #000000;\n",
       "        }    #T_7a9342f7_1ac6_11eb_828f_a0a4c554f2a3row31_col13 {\n",
       "            background-color:  #fdf5fa;\n",
       "            color:  #000000;\n",
       "        }    #T_7a9342f7_1ac6_11eb_828f_a0a4c554f2a3row31_col14 {\n",
       "            background-color:  #f8f1f8;\n",
       "            color:  #000000;\n",
       "        }    #T_7a9342f7_1ac6_11eb_828f_a0a4c554f2a3row31_col15 {\n",
       "            background-color:  #f2ecf5;\n",
       "            color:  #000000;\n",
       "        }    #T_7a9342f7_1ac6_11eb_828f_a0a4c554f2a3row31_col16 {\n",
       "            background-color:  #f5eff6;\n",
       "            color:  #000000;\n",
       "        }    #T_7a9342f7_1ac6_11eb_828f_a0a4c554f2a3row31_col17 {\n",
       "            background-color:  #f5eef6;\n",
       "            color:  #000000;\n",
       "        }    #T_7a9342f7_1ac6_11eb_828f_a0a4c554f2a3row31_col18 {\n",
       "            background-color:  #f3edf5;\n",
       "            color:  #000000;\n",
       "        }    #T_7a9342f7_1ac6_11eb_828f_a0a4c554f2a3row31_col19 {\n",
       "            background-color:  #f8f1f8;\n",
       "            color:  #000000;\n",
       "        }    #T_7a9342f7_1ac6_11eb_828f_a0a4c554f2a3row31_col20 {\n",
       "            background-color:  #f8f1f8;\n",
       "            color:  #000000;\n",
       "        }    #T_7a9342f7_1ac6_11eb_828f_a0a4c554f2a3row31_col21 {\n",
       "            background-color:  #f8f1f8;\n",
       "            color:  #000000;\n",
       "        }    #T_7a9342f7_1ac6_11eb_828f_a0a4c554f2a3row31_col22 {\n",
       "            background-color:  #f8f1f8;\n",
       "            color:  #000000;\n",
       "        }    #T_7a9342f7_1ac6_11eb_828f_a0a4c554f2a3row31_col23 {\n",
       "            background-color:  #f8f1f8;\n",
       "            color:  #000000;\n",
       "        }    #T_7a9342f7_1ac6_11eb_828f_a0a4c554f2a3row31_col24 {\n",
       "            background-color:  #f7f0f7;\n",
       "            color:  #000000;\n",
       "        }    #T_7a9342f7_1ac6_11eb_828f_a0a4c554f2a3row31_col25 {\n",
       "            background-color:  #f7f0f7;\n",
       "            color:  #000000;\n",
       "        }    #T_7a9342f7_1ac6_11eb_828f_a0a4c554f2a3row31_col26 {\n",
       "            background-color:  #f8f1f8;\n",
       "            color:  #000000;\n",
       "        }    #T_7a9342f7_1ac6_11eb_828f_a0a4c554f2a3row31_col27 {\n",
       "            background-color:  #fbf3f9;\n",
       "            color:  #000000;\n",
       "        }    #T_7a9342f7_1ac6_11eb_828f_a0a4c554f2a3row31_col28 {\n",
       "            background-color:  #fbf3f9;\n",
       "            color:  #000000;\n",
       "        }    #T_7a9342f7_1ac6_11eb_828f_a0a4c554f2a3row31_col29 {\n",
       "            background-color:  #f5eef6;\n",
       "            color:  #000000;\n",
       "        }    #T_7a9342f7_1ac6_11eb_828f_a0a4c554f2a3row32_col0 {\n",
       "            background-color:  #fff7fb;\n",
       "            color:  #000000;\n",
       "        }    #T_7a9342f7_1ac6_11eb_828f_a0a4c554f2a3row32_col1 {\n",
       "            background-color:  #f7f0f7;\n",
       "            color:  #000000;\n",
       "        }    #T_7a9342f7_1ac6_11eb_828f_a0a4c554f2a3row32_col2 {\n",
       "            background-color:  #faf3f9;\n",
       "            color:  #000000;\n",
       "        }    #T_7a9342f7_1ac6_11eb_828f_a0a4c554f2a3row32_col3 {\n",
       "            background-color:  #f5eef6;\n",
       "            color:  #000000;\n",
       "        }    #T_7a9342f7_1ac6_11eb_828f_a0a4c554f2a3row32_col4 {\n",
       "            background-color:  #f8f1f8;\n",
       "            color:  #000000;\n",
       "        }    #T_7a9342f7_1ac6_11eb_828f_a0a4c554f2a3row32_col5 {\n",
       "            background-color:  #fbf4f9;\n",
       "            color:  #000000;\n",
       "        }    #T_7a9342f7_1ac6_11eb_828f_a0a4c554f2a3row32_col6 {\n",
       "            background-color:  #f7f0f7;\n",
       "            color:  #000000;\n",
       "        }    #T_7a9342f7_1ac6_11eb_828f_a0a4c554f2a3row32_col7 {\n",
       "            background-color:  #fff7fb;\n",
       "            color:  #000000;\n",
       "        }    #T_7a9342f7_1ac6_11eb_828f_a0a4c554f2a3row32_col8 {\n",
       "            background-color:  #faf3f9;\n",
       "            color:  #000000;\n",
       "        }    #T_7a9342f7_1ac6_11eb_828f_a0a4c554f2a3row32_col9 {\n",
       "            background-color:  #fff7fb;\n",
       "            color:  #000000;\n",
       "        }    #T_7a9342f7_1ac6_11eb_828f_a0a4c554f2a3row32_col10 {\n",
       "            background-color:  #f7f0f7;\n",
       "            color:  #000000;\n",
       "        }    #T_7a9342f7_1ac6_11eb_828f_a0a4c554f2a3row32_col11 {\n",
       "            background-color:  #fef6fa;\n",
       "            color:  #000000;\n",
       "        }    #T_7a9342f7_1ac6_11eb_828f_a0a4c554f2a3row32_col12 {\n",
       "            background-color:  #fef6fb;\n",
       "            color:  #000000;\n",
       "        }    #T_7a9342f7_1ac6_11eb_828f_a0a4c554f2a3row32_col13 {\n",
       "            background-color:  #fff7fb;\n",
       "            color:  #000000;\n",
       "        }    #T_7a9342f7_1ac6_11eb_828f_a0a4c554f2a3row32_col14 {\n",
       "            background-color:  #fff7fb;\n",
       "            color:  #000000;\n",
       "        }    #T_7a9342f7_1ac6_11eb_828f_a0a4c554f2a3row32_col15 {\n",
       "            background-color:  #fbf4f9;\n",
       "            color:  #000000;\n",
       "        }    #T_7a9342f7_1ac6_11eb_828f_a0a4c554f2a3row32_col16 {\n",
       "            background-color:  #fdf5fa;\n",
       "            color:  #000000;\n",
       "        }    #T_7a9342f7_1ac6_11eb_828f_a0a4c554f2a3row32_col17 {\n",
       "            background-color:  #fdf5fa;\n",
       "            color:  #000000;\n",
       "        }    #T_7a9342f7_1ac6_11eb_828f_a0a4c554f2a3row32_col18 {\n",
       "            background-color:  #fff7fb;\n",
       "            color:  #000000;\n",
       "        }    #T_7a9342f7_1ac6_11eb_828f_a0a4c554f2a3row32_col19 {\n",
       "            background-color:  #faf2f8;\n",
       "            color:  #000000;\n",
       "        }    #T_7a9342f7_1ac6_11eb_828f_a0a4c554f2a3row32_col20 {\n",
       "            background-color:  #fcf4fa;\n",
       "            color:  #000000;\n",
       "        }    #T_7a9342f7_1ac6_11eb_828f_a0a4c554f2a3row32_col21 {\n",
       "            background-color:  #fbf4f9;\n",
       "            color:  #000000;\n",
       "        }    #T_7a9342f7_1ac6_11eb_828f_a0a4c554f2a3row32_col22 {\n",
       "            background-color:  #fbf4f9;\n",
       "            color:  #000000;\n",
       "        }    #T_7a9342f7_1ac6_11eb_828f_a0a4c554f2a3row32_col23 {\n",
       "            background-color:  #fbf3f9;\n",
       "            color:  #000000;\n",
       "        }    #T_7a9342f7_1ac6_11eb_828f_a0a4c554f2a3row32_col24 {\n",
       "            background-color:  #fbf3f9;\n",
       "            color:  #000000;\n",
       "        }    #T_7a9342f7_1ac6_11eb_828f_a0a4c554f2a3row32_col25 {\n",
       "            background-color:  #fbf3f9;\n",
       "            color:  #000000;\n",
       "        }    #T_7a9342f7_1ac6_11eb_828f_a0a4c554f2a3row32_col26 {\n",
       "            background-color:  #faf3f9;\n",
       "            color:  #000000;\n",
       "        }    #T_7a9342f7_1ac6_11eb_828f_a0a4c554f2a3row32_col27 {\n",
       "            background-color:  #fdf5fa;\n",
       "            color:  #000000;\n",
       "        }    #T_7a9342f7_1ac6_11eb_828f_a0a4c554f2a3row32_col28 {\n",
       "            background-color:  #fcf4fa;\n",
       "            color:  #000000;\n",
       "        }    #T_7a9342f7_1ac6_11eb_828f_a0a4c554f2a3row32_col29 {\n",
       "            background-color:  #faf3f9;\n",
       "            color:  #000000;\n",
       "        }    #T_7a9342f7_1ac6_11eb_828f_a0a4c554f2a3row33_col0 {\n",
       "            background-color:  #fdf5fa;\n",
       "            color:  #000000;\n",
       "        }    #T_7a9342f7_1ac6_11eb_828f_a0a4c554f2a3row33_col1 {\n",
       "            background-color:  #eee8f3;\n",
       "            color:  #000000;\n",
       "        }    #T_7a9342f7_1ac6_11eb_828f_a0a4c554f2a3row33_col2 {\n",
       "            background-color:  #f5eef6;\n",
       "            color:  #000000;\n",
       "        }    #T_7a9342f7_1ac6_11eb_828f_a0a4c554f2a3row33_col3 {\n",
       "            background-color:  #f7f0f7;\n",
       "            color:  #000000;\n",
       "        }    #T_7a9342f7_1ac6_11eb_828f_a0a4c554f2a3row33_col4 {\n",
       "            background-color:  #f8f1f8;\n",
       "            color:  #000000;\n",
       "        }    #T_7a9342f7_1ac6_11eb_828f_a0a4c554f2a3row33_col5 {\n",
       "            background-color:  #f8f1f8;\n",
       "            color:  #000000;\n",
       "        }    #T_7a9342f7_1ac6_11eb_828f_a0a4c554f2a3row33_col6 {\n",
       "            background-color:  #e9e5f1;\n",
       "            color:  #000000;\n",
       "        }    #T_7a9342f7_1ac6_11eb_828f_a0a4c554f2a3row33_col7 {\n",
       "            background-color:  #fbf3f9;\n",
       "            color:  #000000;\n",
       "        }    #T_7a9342f7_1ac6_11eb_828f_a0a4c554f2a3row33_col8 {\n",
       "            background-color:  #f8f1f8;\n",
       "            color:  #000000;\n",
       "        }    #T_7a9342f7_1ac6_11eb_828f_a0a4c554f2a3row33_col9 {\n",
       "            background-color:  #fbf4f9;\n",
       "            color:  #000000;\n",
       "        }    #T_7a9342f7_1ac6_11eb_828f_a0a4c554f2a3row33_col10 {\n",
       "            background-color:  #f1ebf5;\n",
       "            color:  #000000;\n",
       "        }    #T_7a9342f7_1ac6_11eb_828f_a0a4c554f2a3row33_col11 {\n",
       "            background-color:  #f6eff7;\n",
       "            color:  #000000;\n",
       "        }    #T_7a9342f7_1ac6_11eb_828f_a0a4c554f2a3row33_col12 {\n",
       "            background-color:  #f8f1f8;\n",
       "            color:  #000000;\n",
       "        }    #T_7a9342f7_1ac6_11eb_828f_a0a4c554f2a3row33_col13 {\n",
       "            background-color:  #fdf5fa;\n",
       "            color:  #000000;\n",
       "        }    #T_7a9342f7_1ac6_11eb_828f_a0a4c554f2a3row33_col14 {\n",
       "            background-color:  #f8f1f8;\n",
       "            color:  #000000;\n",
       "        }    #T_7a9342f7_1ac6_11eb_828f_a0a4c554f2a3row33_col15 {\n",
       "            background-color:  #f4eef6;\n",
       "            color:  #000000;\n",
       "        }    #T_7a9342f7_1ac6_11eb_828f_a0a4c554f2a3row33_col16 {\n",
       "            background-color:  #f0eaf4;\n",
       "            color:  #000000;\n",
       "        }    #T_7a9342f7_1ac6_11eb_828f_a0a4c554f2a3row33_col17 {\n",
       "            background-color:  #f1ebf5;\n",
       "            color:  #000000;\n",
       "        }    #T_7a9342f7_1ac6_11eb_828f_a0a4c554f2a3row33_col18 {\n",
       "            background-color:  #f1ebf5;\n",
       "            color:  #000000;\n",
       "        }    #T_7a9342f7_1ac6_11eb_828f_a0a4c554f2a3row33_col19 {\n",
       "            background-color:  #f8f1f8;\n",
       "            color:  #000000;\n",
       "        }    #T_7a9342f7_1ac6_11eb_828f_a0a4c554f2a3row33_col20 {\n",
       "            background-color:  #f8f1f8;\n",
       "            color:  #000000;\n",
       "        }    #T_7a9342f7_1ac6_11eb_828f_a0a4c554f2a3row33_col21 {\n",
       "            background-color:  #f9f2f8;\n",
       "            color:  #000000;\n",
       "        }    #T_7a9342f7_1ac6_11eb_828f_a0a4c554f2a3row33_col22 {\n",
       "            background-color:  #f9f2f8;\n",
       "            color:  #000000;\n",
       "        }    #T_7a9342f7_1ac6_11eb_828f_a0a4c554f2a3row33_col23 {\n",
       "            background-color:  #f8f1f8;\n",
       "            color:  #000000;\n",
       "        }    #T_7a9342f7_1ac6_11eb_828f_a0a4c554f2a3row33_col24 {\n",
       "            background-color:  #f7f0f7;\n",
       "            color:  #000000;\n",
       "        }    #T_7a9342f7_1ac6_11eb_828f_a0a4c554f2a3row33_col25 {\n",
       "            background-color:  #f7f0f7;\n",
       "            color:  #000000;\n",
       "        }    #T_7a9342f7_1ac6_11eb_828f_a0a4c554f2a3row33_col26 {\n",
       "            background-color:  #f5eff6;\n",
       "            color:  #000000;\n",
       "        }    #T_7a9342f7_1ac6_11eb_828f_a0a4c554f2a3row33_col27 {\n",
       "            background-color:  #fbf4f9;\n",
       "            color:  #000000;\n",
       "        }    #T_7a9342f7_1ac6_11eb_828f_a0a4c554f2a3row33_col28 {\n",
       "            background-color:  #fcf4fa;\n",
       "            color:  #000000;\n",
       "        }    #T_7a9342f7_1ac6_11eb_828f_a0a4c554f2a3row33_col29 {\n",
       "            background-color:  #f8f1f8;\n",
       "            color:  #000000;\n",
       "        }    #T_7a9342f7_1ac6_11eb_828f_a0a4c554f2a3row34_col0 {\n",
       "            background-color:  #fef6fa;\n",
       "            color:  #000000;\n",
       "        }    #T_7a9342f7_1ac6_11eb_828f_a0a4c554f2a3row34_col1 {\n",
       "            background-color:  #efe9f3;\n",
       "            color:  #000000;\n",
       "        }    #T_7a9342f7_1ac6_11eb_828f_a0a4c554f2a3row34_col2 {\n",
       "            background-color:  #efe9f3;\n",
       "            color:  #000000;\n",
       "        }    #T_7a9342f7_1ac6_11eb_828f_a0a4c554f2a3row34_col3 {\n",
       "            background-color:  #e9e5f1;\n",
       "            color:  #000000;\n",
       "        }    #T_7a9342f7_1ac6_11eb_828f_a0a4c554f2a3row34_col4 {\n",
       "            background-color:  #ede8f3;\n",
       "            color:  #000000;\n",
       "        }    #T_7a9342f7_1ac6_11eb_828f_a0a4c554f2a3row34_col5 {\n",
       "            background-color:  #eee9f3;\n",
       "            color:  #000000;\n",
       "        }    #T_7a9342f7_1ac6_11eb_828f_a0a4c554f2a3row34_col6 {\n",
       "            background-color:  #e6e2ef;\n",
       "            color:  #000000;\n",
       "        }    #T_7a9342f7_1ac6_11eb_828f_a0a4c554f2a3row34_col7 {\n",
       "            background-color:  #acc0dd;\n",
       "            color:  #000000;\n",
       "        }    #T_7a9342f7_1ac6_11eb_828f_a0a4c554f2a3row34_col8 {\n",
       "            background-color:  #f8f1f8;\n",
       "            color:  #000000;\n",
       "        }    #T_7a9342f7_1ac6_11eb_828f_a0a4c554f2a3row34_col9 {\n",
       "            background-color:  #f8f1f8;\n",
       "            color:  #000000;\n",
       "        }    #T_7a9342f7_1ac6_11eb_828f_a0a4c554f2a3row34_col10 {\n",
       "            background-color:  #e7e3f0;\n",
       "            color:  #000000;\n",
       "        }    #T_7a9342f7_1ac6_11eb_828f_a0a4c554f2a3row34_col11 {\n",
       "            background-color:  #f8f1f8;\n",
       "            color:  #000000;\n",
       "        }    #T_7a9342f7_1ac6_11eb_828f_a0a4c554f2a3row34_col12 {\n",
       "            background-color:  #f8f1f8;\n",
       "            color:  #000000;\n",
       "        }    #T_7a9342f7_1ac6_11eb_828f_a0a4c554f2a3row34_col13 {\n",
       "            background-color:  #fdf5fa;\n",
       "            color:  #000000;\n",
       "        }    #T_7a9342f7_1ac6_11eb_828f_a0a4c554f2a3row34_col14 {\n",
       "            background-color:  #f7f0f7;\n",
       "            color:  #000000;\n",
       "        }    #T_7a9342f7_1ac6_11eb_828f_a0a4c554f2a3row34_col15 {\n",
       "            background-color:  #f7f0f7;\n",
       "            color:  #000000;\n",
       "        }    #T_7a9342f7_1ac6_11eb_828f_a0a4c554f2a3row34_col16 {\n",
       "            background-color:  #f8f1f8;\n",
       "            color:  #000000;\n",
       "        }    #T_7a9342f7_1ac6_11eb_828f_a0a4c554f2a3row34_col17 {\n",
       "            background-color:  #f8f1f8;\n",
       "            color:  #000000;\n",
       "        }    #T_7a9342f7_1ac6_11eb_828f_a0a4c554f2a3row34_col18 {\n",
       "            background-color:  #f7f0f7;\n",
       "            color:  #000000;\n",
       "        }    #T_7a9342f7_1ac6_11eb_828f_a0a4c554f2a3row34_col19 {\n",
       "            background-color:  #f8f1f8;\n",
       "            color:  #000000;\n",
       "        }    #T_7a9342f7_1ac6_11eb_828f_a0a4c554f2a3row34_col20 {\n",
       "            background-color:  #faf3f9;\n",
       "            color:  #000000;\n",
       "        }    #T_7a9342f7_1ac6_11eb_828f_a0a4c554f2a3row34_col21 {\n",
       "            background-color:  #f7f0f7;\n",
       "            color:  #000000;\n",
       "        }    #T_7a9342f7_1ac6_11eb_828f_a0a4c554f2a3row34_col22 {\n",
       "            background-color:  #f8f1f8;\n",
       "            color:  #000000;\n",
       "        }    #T_7a9342f7_1ac6_11eb_828f_a0a4c554f2a3row34_col23 {\n",
       "            background-color:  #f7f0f7;\n",
       "            color:  #000000;\n",
       "        }    #T_7a9342f7_1ac6_11eb_828f_a0a4c554f2a3row34_col24 {\n",
       "            background-color:  #f6eff7;\n",
       "            color:  #000000;\n",
       "        }    #T_7a9342f7_1ac6_11eb_828f_a0a4c554f2a3row34_col25 {\n",
       "            background-color:  #f7f0f7;\n",
       "            color:  #000000;\n",
       "        }    #T_7a9342f7_1ac6_11eb_828f_a0a4c554f2a3row34_col26 {\n",
       "            background-color:  #f6eff7;\n",
       "            color:  #000000;\n",
       "        }    #T_7a9342f7_1ac6_11eb_828f_a0a4c554f2a3row34_col27 {\n",
       "            background-color:  #faf3f9;\n",
       "            color:  #000000;\n",
       "        }    #T_7a9342f7_1ac6_11eb_828f_a0a4c554f2a3row34_col28 {\n",
       "            background-color:  #fcf4fa;\n",
       "            color:  #000000;\n",
       "        }    #T_7a9342f7_1ac6_11eb_828f_a0a4c554f2a3row34_col29 {\n",
       "            background-color:  #faf2f8;\n",
       "            color:  #000000;\n",
       "        }    #T_7a9342f7_1ac6_11eb_828f_a0a4c554f2a3row35_col0 {\n",
       "            background-color:  #fff7fb;\n",
       "            color:  #000000;\n",
       "        }    #T_7a9342f7_1ac6_11eb_828f_a0a4c554f2a3row35_col1 {\n",
       "            background-color:  #fbf4f9;\n",
       "            color:  #000000;\n",
       "        }    #T_7a9342f7_1ac6_11eb_828f_a0a4c554f2a3row35_col2 {\n",
       "            background-color:  #fdf5fa;\n",
       "            color:  #000000;\n",
       "        }    #T_7a9342f7_1ac6_11eb_828f_a0a4c554f2a3row35_col3 {\n",
       "            background-color:  #fbf3f9;\n",
       "            color:  #000000;\n",
       "        }    #T_7a9342f7_1ac6_11eb_828f_a0a4c554f2a3row35_col4 {\n",
       "            background-color:  #fbf3f9;\n",
       "            color:  #000000;\n",
       "        }    #T_7a9342f7_1ac6_11eb_828f_a0a4c554f2a3row35_col5 {\n",
       "            background-color:  #fbf3f9;\n",
       "            color:  #000000;\n",
       "        }    #T_7a9342f7_1ac6_11eb_828f_a0a4c554f2a3row35_col6 {\n",
       "            background-color:  #fdf5fa;\n",
       "            color:  #000000;\n",
       "        }    #T_7a9342f7_1ac6_11eb_828f_a0a4c554f2a3row35_col7 {\n",
       "            background-color:  #fff7fb;\n",
       "            color:  #000000;\n",
       "        }    #T_7a9342f7_1ac6_11eb_828f_a0a4c554f2a3row35_col8 {\n",
       "            background-color:  #fff7fb;\n",
       "            color:  #000000;\n",
       "        }    #T_7a9342f7_1ac6_11eb_828f_a0a4c554f2a3row35_col9 {\n",
       "            background-color:  #fff7fb;\n",
       "            color:  #000000;\n",
       "        }    #T_7a9342f7_1ac6_11eb_828f_a0a4c554f2a3row35_col10 {\n",
       "            background-color:  #fef6fa;\n",
       "            color:  #000000;\n",
       "        }    #T_7a9342f7_1ac6_11eb_828f_a0a4c554f2a3row35_col11 {\n",
       "            background-color:  #fff7fb;\n",
       "            color:  #000000;\n",
       "        }    #T_7a9342f7_1ac6_11eb_828f_a0a4c554f2a3row35_col12 {\n",
       "            background-color:  #fff7fb;\n",
       "            color:  #000000;\n",
       "        }    #T_7a9342f7_1ac6_11eb_828f_a0a4c554f2a3row35_col13 {\n",
       "            background-color:  #fff7fb;\n",
       "            color:  #000000;\n",
       "        }    #T_7a9342f7_1ac6_11eb_828f_a0a4c554f2a3row35_col14 {\n",
       "            background-color:  #fff7fb;\n",
       "            color:  #000000;\n",
       "        }    #T_7a9342f7_1ac6_11eb_828f_a0a4c554f2a3row35_col15 {\n",
       "            background-color:  #fef6fb;\n",
       "            color:  #000000;\n",
       "        }    #T_7a9342f7_1ac6_11eb_828f_a0a4c554f2a3row35_col16 {\n",
       "            background-color:  #fef6fa;\n",
       "            color:  #000000;\n",
       "        }    #T_7a9342f7_1ac6_11eb_828f_a0a4c554f2a3row35_col17 {\n",
       "            background-color:  #fdf5fa;\n",
       "            color:  #000000;\n",
       "        }    #T_7a9342f7_1ac6_11eb_828f_a0a4c554f2a3row35_col18 {\n",
       "            background-color:  #faf2f8;\n",
       "            color:  #000000;\n",
       "        }    #T_7a9342f7_1ac6_11eb_828f_a0a4c554f2a3row35_col19 {\n",
       "            background-color:  #fbf4f9;\n",
       "            color:  #000000;\n",
       "        }    #T_7a9342f7_1ac6_11eb_828f_a0a4c554f2a3row35_col20 {\n",
       "            background-color:  #fdf5fa;\n",
       "            color:  #000000;\n",
       "        }    #T_7a9342f7_1ac6_11eb_828f_a0a4c554f2a3row35_col21 {\n",
       "            background-color:  #fcf4fa;\n",
       "            color:  #000000;\n",
       "        }    #T_7a9342f7_1ac6_11eb_828f_a0a4c554f2a3row35_col22 {\n",
       "            background-color:  #fbf4f9;\n",
       "            color:  #000000;\n",
       "        }    #T_7a9342f7_1ac6_11eb_828f_a0a4c554f2a3row35_col23 {\n",
       "            background-color:  #fcf4fa;\n",
       "            color:  #000000;\n",
       "        }    #T_7a9342f7_1ac6_11eb_828f_a0a4c554f2a3row35_col24 {\n",
       "            background-color:  #fbf4f9;\n",
       "            color:  #000000;\n",
       "        }    #T_7a9342f7_1ac6_11eb_828f_a0a4c554f2a3row35_col25 {\n",
       "            background-color:  #fcf4fa;\n",
       "            color:  #000000;\n",
       "        }    #T_7a9342f7_1ac6_11eb_828f_a0a4c554f2a3row35_col26 {\n",
       "            background-color:  #fcf4fa;\n",
       "            color:  #000000;\n",
       "        }    #T_7a9342f7_1ac6_11eb_828f_a0a4c554f2a3row35_col27 {\n",
       "            background-color:  #fef6fb;\n",
       "            color:  #000000;\n",
       "        }    #T_7a9342f7_1ac6_11eb_828f_a0a4c554f2a3row35_col28 {\n",
       "            background-color:  #fcf4fa;\n",
       "            color:  #000000;\n",
       "        }    #T_7a9342f7_1ac6_11eb_828f_a0a4c554f2a3row35_col29 {\n",
       "            background-color:  #fef6fa;\n",
       "            color:  #000000;\n",
       "        }    #T_7a9342f7_1ac6_11eb_828f_a0a4c554f2a3row36_col0 {\n",
       "            background-color:  #f0eaf4;\n",
       "            color:  #000000;\n",
       "        }    #T_7a9342f7_1ac6_11eb_828f_a0a4c554f2a3row36_col1 {\n",
       "            background-color:  #eee8f3;\n",
       "            color:  #000000;\n",
       "        }    #T_7a9342f7_1ac6_11eb_828f_a0a4c554f2a3row36_col2 {\n",
       "            background-color:  #f0eaf4;\n",
       "            color:  #000000;\n",
       "        }    #T_7a9342f7_1ac6_11eb_828f_a0a4c554f2a3row36_col3 {\n",
       "            background-color:  #f4edf6;\n",
       "            color:  #000000;\n",
       "        }    #T_7a9342f7_1ac6_11eb_828f_a0a4c554f2a3row36_col4 {\n",
       "            background-color:  #f1ebf5;\n",
       "            color:  #000000;\n",
       "        }    #T_7a9342f7_1ac6_11eb_828f_a0a4c554f2a3row36_col5 {\n",
       "            background-color:  #f2ecf5;\n",
       "            color:  #000000;\n",
       "        }    #T_7a9342f7_1ac6_11eb_828f_a0a4c554f2a3row36_col6 {\n",
       "            background-color:  #f0eaf4;\n",
       "            color:  #000000;\n",
       "        }    #T_7a9342f7_1ac6_11eb_828f_a0a4c554f2a3row36_col7 {\n",
       "            background-color:  #5ea0ca;\n",
       "            color:  #000000;\n",
       "        }    #T_7a9342f7_1ac6_11eb_828f_a0a4c554f2a3row36_col8 {\n",
       "            background-color:  #e0deed;\n",
       "            color:  #000000;\n",
       "        }    #T_7a9342f7_1ac6_11eb_828f_a0a4c554f2a3row36_col9 {\n",
       "            background-color:  #faf2f8;\n",
       "            color:  #000000;\n",
       "        }    #T_7a9342f7_1ac6_11eb_828f_a0a4c554f2a3row36_col10 {\n",
       "            background-color:  #e9e5f1;\n",
       "            color:  #000000;\n",
       "        }    #T_7a9342f7_1ac6_11eb_828f_a0a4c554f2a3row36_col11 {\n",
       "            background-color:  #f8f1f8;\n",
       "            color:  #000000;\n",
       "        }    #T_7a9342f7_1ac6_11eb_828f_a0a4c554f2a3row36_col12 {\n",
       "            background-color:  #f6eff7;\n",
       "            color:  #000000;\n",
       "        }    #T_7a9342f7_1ac6_11eb_828f_a0a4c554f2a3row36_col13 {\n",
       "            background-color:  #fdf5fa;\n",
       "            color:  #000000;\n",
       "        }    #T_7a9342f7_1ac6_11eb_828f_a0a4c554f2a3row36_col14 {\n",
       "            background-color:  #f2ecf5;\n",
       "            color:  #000000;\n",
       "        }    #T_7a9342f7_1ac6_11eb_828f_a0a4c554f2a3row36_col15 {\n",
       "            background-color:  #f8f1f8;\n",
       "            color:  #000000;\n",
       "        }    #T_7a9342f7_1ac6_11eb_828f_a0a4c554f2a3row36_col16 {\n",
       "            background-color:  #f5eff6;\n",
       "            color:  #000000;\n",
       "        }    #T_7a9342f7_1ac6_11eb_828f_a0a4c554f2a3row36_col17 {\n",
       "            background-color:  #ede8f3;\n",
       "            color:  #000000;\n",
       "        }    #T_7a9342f7_1ac6_11eb_828f_a0a4c554f2a3row36_col18 {\n",
       "            background-color:  #ebe6f2;\n",
       "            color:  #000000;\n",
       "        }    #T_7a9342f7_1ac6_11eb_828f_a0a4c554f2a3row36_col19 {\n",
       "            background-color:  #f5eff6;\n",
       "            color:  #000000;\n",
       "        }    #T_7a9342f7_1ac6_11eb_828f_a0a4c554f2a3row36_col20 {\n",
       "            background-color:  #efe9f3;\n",
       "            color:  #000000;\n",
       "        }    #T_7a9342f7_1ac6_11eb_828f_a0a4c554f2a3row36_col21 {\n",
       "            background-color:  #f0eaf4;\n",
       "            color:  #000000;\n",
       "        }    #T_7a9342f7_1ac6_11eb_828f_a0a4c554f2a3row36_col22 {\n",
       "            background-color:  #eee9f3;\n",
       "            color:  #000000;\n",
       "        }    #T_7a9342f7_1ac6_11eb_828f_a0a4c554f2a3row36_col23 {\n",
       "            background-color:  #eee9f3;\n",
       "            color:  #000000;\n",
       "        }    #T_7a9342f7_1ac6_11eb_828f_a0a4c554f2a3row36_col24 {\n",
       "            background-color:  #efe9f3;\n",
       "            color:  #000000;\n",
       "        }    #T_7a9342f7_1ac6_11eb_828f_a0a4c554f2a3row36_col25 {\n",
       "            background-color:  #f1ebf4;\n",
       "            color:  #000000;\n",
       "        }    #T_7a9342f7_1ac6_11eb_828f_a0a4c554f2a3row36_col26 {\n",
       "            background-color:  #eee9f3;\n",
       "            color:  #000000;\n",
       "        }    #T_7a9342f7_1ac6_11eb_828f_a0a4c554f2a3row36_col27 {\n",
       "            background-color:  #eee8f3;\n",
       "            color:  #000000;\n",
       "        }    #T_7a9342f7_1ac6_11eb_828f_a0a4c554f2a3row36_col28 {\n",
       "            background-color:  #fdf5fa;\n",
       "            color:  #000000;\n",
       "        }    #T_7a9342f7_1ac6_11eb_828f_a0a4c554f2a3row36_col29 {\n",
       "            background-color:  #e9e5f1;\n",
       "            color:  #000000;\n",
       "        }    #T_7a9342f7_1ac6_11eb_828f_a0a4c554f2a3row37_col0 {\n",
       "            background-color:  #fff7fb;\n",
       "            color:  #000000;\n",
       "        }    #T_7a9342f7_1ac6_11eb_828f_a0a4c554f2a3row37_col1 {\n",
       "            background-color:  #e7e3f0;\n",
       "            color:  #000000;\n",
       "        }    #T_7a9342f7_1ac6_11eb_828f_a0a4c554f2a3row37_col2 {\n",
       "            background-color:  #e7e3f0;\n",
       "            color:  #000000;\n",
       "        }    #T_7a9342f7_1ac6_11eb_828f_a0a4c554f2a3row37_col3 {\n",
       "            background-color:  #e0dded;\n",
       "            color:  #000000;\n",
       "        }    #T_7a9342f7_1ac6_11eb_828f_a0a4c554f2a3row37_col4 {\n",
       "            background-color:  #e7e3f0;\n",
       "            color:  #000000;\n",
       "        }    #T_7a9342f7_1ac6_11eb_828f_a0a4c554f2a3row37_col5 {\n",
       "            background-color:  #eae6f1;\n",
       "            color:  #000000;\n",
       "        }    #T_7a9342f7_1ac6_11eb_828f_a0a4c554f2a3row37_col6 {\n",
       "            background-color:  #cacee5;\n",
       "            color:  #000000;\n",
       "        }    #T_7a9342f7_1ac6_11eb_828f_a0a4c554f2a3row37_col7 {\n",
       "            background-color:  #fff7fb;\n",
       "            color:  #000000;\n",
       "        }    #T_7a9342f7_1ac6_11eb_828f_a0a4c554f2a3row37_col8 {\n",
       "            background-color:  #ced0e6;\n",
       "            color:  #000000;\n",
       "        }    #T_7a9342f7_1ac6_11eb_828f_a0a4c554f2a3row37_col9 {\n",
       "            background-color:  #c8cde4;\n",
       "            color:  #000000;\n",
       "        }    #T_7a9342f7_1ac6_11eb_828f_a0a4c554f2a3row37_col10 {\n",
       "            background-color:  #d8d7e9;\n",
       "            color:  #000000;\n",
       "        }    #T_7a9342f7_1ac6_11eb_828f_a0a4c554f2a3row37_col11 {\n",
       "            background-color:  #e7e3f0;\n",
       "            color:  #000000;\n",
       "        }    #T_7a9342f7_1ac6_11eb_828f_a0a4c554f2a3row37_col12 {\n",
       "            background-color:  #e3e0ee;\n",
       "            color:  #000000;\n",
       "        }    #T_7a9342f7_1ac6_11eb_828f_a0a4c554f2a3row37_col13 {\n",
       "            background-color:  #f0eaf4;\n",
       "            color:  #000000;\n",
       "        }    #T_7a9342f7_1ac6_11eb_828f_a0a4c554f2a3row37_col14 {\n",
       "            background-color:  #e4e1ef;\n",
       "            color:  #000000;\n",
       "        }    #T_7a9342f7_1ac6_11eb_828f_a0a4c554f2a3row37_col15 {\n",
       "            background-color:  #f1ebf5;\n",
       "            color:  #000000;\n",
       "        }    #T_7a9342f7_1ac6_11eb_828f_a0a4c554f2a3row37_col16 {\n",
       "            background-color:  #f8f1f8;\n",
       "            color:  #000000;\n",
       "        }    #T_7a9342f7_1ac6_11eb_828f_a0a4c554f2a3row37_col17 {\n",
       "            background-color:  #f4eef6;\n",
       "            color:  #000000;\n",
       "        }    #T_7a9342f7_1ac6_11eb_828f_a0a4c554f2a3row37_col18 {\n",
       "            background-color:  #ede8f3;\n",
       "            color:  #000000;\n",
       "        }    #T_7a9342f7_1ac6_11eb_828f_a0a4c554f2a3row37_col19 {\n",
       "            background-color:  #f5eef6;\n",
       "            color:  #000000;\n",
       "        }    #T_7a9342f7_1ac6_11eb_828f_a0a4c554f2a3row37_col20 {\n",
       "            background-color:  #f4edf6;\n",
       "            color:  #000000;\n",
       "        }    #T_7a9342f7_1ac6_11eb_828f_a0a4c554f2a3row37_col21 {\n",
       "            background-color:  #f5eff6;\n",
       "            color:  #000000;\n",
       "        }    #T_7a9342f7_1ac6_11eb_828f_a0a4c554f2a3row37_col22 {\n",
       "            background-color:  #f7f0f7;\n",
       "            color:  #000000;\n",
       "        }    #T_7a9342f7_1ac6_11eb_828f_a0a4c554f2a3row37_col23 {\n",
       "            background-color:  #f5eff6;\n",
       "            color:  #000000;\n",
       "        }    #T_7a9342f7_1ac6_11eb_828f_a0a4c554f2a3row37_col24 {\n",
       "            background-color:  #f5eef6;\n",
       "            color:  #000000;\n",
       "        }    #T_7a9342f7_1ac6_11eb_828f_a0a4c554f2a3row37_col25 {\n",
       "            background-color:  #f5eff6;\n",
       "            color:  #000000;\n",
       "        }    #T_7a9342f7_1ac6_11eb_828f_a0a4c554f2a3row37_col26 {\n",
       "            background-color:  #f5eff6;\n",
       "            color:  #000000;\n",
       "        }    #T_7a9342f7_1ac6_11eb_828f_a0a4c554f2a3row37_col27 {\n",
       "            background-color:  #f8f1f8;\n",
       "            color:  #000000;\n",
       "        }    #T_7a9342f7_1ac6_11eb_828f_a0a4c554f2a3row37_col28 {\n",
       "            background-color:  #fdf5fa;\n",
       "            color:  #000000;\n",
       "        }    #T_7a9342f7_1ac6_11eb_828f_a0a4c554f2a3row37_col29 {\n",
       "            background-color:  #f4eef6;\n",
       "            color:  #000000;\n",
       "        }    #T_7a9342f7_1ac6_11eb_828f_a0a4c554f2a3row38_col0 {\n",
       "            background-color:  #fef6fb;\n",
       "            color:  #000000;\n",
       "        }    #T_7a9342f7_1ac6_11eb_828f_a0a4c554f2a3row38_col1 {\n",
       "            background-color:  #f3edf5;\n",
       "            color:  #000000;\n",
       "        }    #T_7a9342f7_1ac6_11eb_828f_a0a4c554f2a3row38_col2 {\n",
       "            background-color:  #f4eef6;\n",
       "            color:  #000000;\n",
       "        }    #T_7a9342f7_1ac6_11eb_828f_a0a4c554f2a3row38_col3 {\n",
       "            background-color:  #f4edf6;\n",
       "            color:  #000000;\n",
       "        }    #T_7a9342f7_1ac6_11eb_828f_a0a4c554f2a3row38_col4 {\n",
       "            background-color:  #f7f0f7;\n",
       "            color:  #000000;\n",
       "        }    #T_7a9342f7_1ac6_11eb_828f_a0a4c554f2a3row38_col5 {\n",
       "            background-color:  #f7f0f7;\n",
       "            color:  #000000;\n",
       "        }    #T_7a9342f7_1ac6_11eb_828f_a0a4c554f2a3row38_col6 {\n",
       "            background-color:  #faf2f8;\n",
       "            color:  #000000;\n",
       "        }    #T_7a9342f7_1ac6_11eb_828f_a0a4c554f2a3row38_col7 {\n",
       "            background-color:  #fef6fa;\n",
       "            color:  #000000;\n",
       "        }    #T_7a9342f7_1ac6_11eb_828f_a0a4c554f2a3row38_col8 {\n",
       "            background-color:  #faf3f9;\n",
       "            color:  #000000;\n",
       "        }    #T_7a9342f7_1ac6_11eb_828f_a0a4c554f2a3row38_col9 {\n",
       "            background-color:  #fef6fb;\n",
       "            color:  #000000;\n",
       "        }    #T_7a9342f7_1ac6_11eb_828f_a0a4c554f2a3row38_col10 {\n",
       "            background-color:  #f7f0f7;\n",
       "            color:  #000000;\n",
       "        }    #T_7a9342f7_1ac6_11eb_828f_a0a4c554f2a3row38_col11 {\n",
       "            background-color:  #fdf5fa;\n",
       "            color:  #000000;\n",
       "        }    #T_7a9342f7_1ac6_11eb_828f_a0a4c554f2a3row38_col12 {\n",
       "            background-color:  #fef6fb;\n",
       "            color:  #000000;\n",
       "        }    #T_7a9342f7_1ac6_11eb_828f_a0a4c554f2a3row38_col13 {\n",
       "            background-color:  #fff7fb;\n",
       "            color:  #000000;\n",
       "        }    #T_7a9342f7_1ac6_11eb_828f_a0a4c554f2a3row38_col14 {\n",
       "            background-color:  #fef6fb;\n",
       "            color:  #000000;\n",
       "        }    #T_7a9342f7_1ac6_11eb_828f_a0a4c554f2a3row38_col15 {\n",
       "            background-color:  #f8f1f8;\n",
       "            color:  #000000;\n",
       "        }    #T_7a9342f7_1ac6_11eb_828f_a0a4c554f2a3row38_col16 {\n",
       "            background-color:  #faf2f8;\n",
       "            color:  #000000;\n",
       "        }    #T_7a9342f7_1ac6_11eb_828f_a0a4c554f2a3row38_col17 {\n",
       "            background-color:  #faf2f8;\n",
       "            color:  #000000;\n",
       "        }    #T_7a9342f7_1ac6_11eb_828f_a0a4c554f2a3row38_col18 {\n",
       "            background-color:  #fcf4fa;\n",
       "            color:  #000000;\n",
       "        }    #T_7a9342f7_1ac6_11eb_828f_a0a4c554f2a3row38_col19 {\n",
       "            background-color:  #fbf3f9;\n",
       "            color:  #000000;\n",
       "        }    #T_7a9342f7_1ac6_11eb_828f_a0a4c554f2a3row38_col20 {\n",
       "            background-color:  #fcf4fa;\n",
       "            color:  #000000;\n",
       "        }    #T_7a9342f7_1ac6_11eb_828f_a0a4c554f2a3row38_col21 {\n",
       "            background-color:  #faf3f9;\n",
       "            color:  #000000;\n",
       "        }    #T_7a9342f7_1ac6_11eb_828f_a0a4c554f2a3row38_col22 {\n",
       "            background-color:  #fbf3f9;\n",
       "            color:  #000000;\n",
       "        }    #T_7a9342f7_1ac6_11eb_828f_a0a4c554f2a3row38_col23 {\n",
       "            background-color:  #faf3f9;\n",
       "            color:  #000000;\n",
       "        }    #T_7a9342f7_1ac6_11eb_828f_a0a4c554f2a3row38_col24 {\n",
       "            background-color:  #faf3f9;\n",
       "            color:  #000000;\n",
       "        }    #T_7a9342f7_1ac6_11eb_828f_a0a4c554f2a3row38_col25 {\n",
       "            background-color:  #fbf3f9;\n",
       "            color:  #000000;\n",
       "        }    #T_7a9342f7_1ac6_11eb_828f_a0a4c554f2a3row38_col26 {\n",
       "            background-color:  #fbf3f9;\n",
       "            color:  #000000;\n",
       "        }    #T_7a9342f7_1ac6_11eb_828f_a0a4c554f2a3row38_col27 {\n",
       "            background-color:  #fbf4f9;\n",
       "            color:  #000000;\n",
       "        }    #T_7a9342f7_1ac6_11eb_828f_a0a4c554f2a3row38_col28 {\n",
       "            background-color:  #fdf5fa;\n",
       "            color:  #000000;\n",
       "        }    #T_7a9342f7_1ac6_11eb_828f_a0a4c554f2a3row38_col29 {\n",
       "            background-color:  #fbf4f9;\n",
       "            color:  #000000;\n",
       "        }    #T_7a9342f7_1ac6_11eb_828f_a0a4c554f2a3row39_col0 {\n",
       "            background-color:  #f5eef6;\n",
       "            color:  #000000;\n",
       "        }    #T_7a9342f7_1ac6_11eb_828f_a0a4c554f2a3row39_col1 {\n",
       "            background-color:  #f6eff7;\n",
       "            color:  #000000;\n",
       "        }    #T_7a9342f7_1ac6_11eb_828f_a0a4c554f2a3row39_col2 {\n",
       "            background-color:  #f9f2f8;\n",
       "            color:  #000000;\n",
       "        }    #T_7a9342f7_1ac6_11eb_828f_a0a4c554f2a3row39_col3 {\n",
       "            background-color:  #fbf3f9;\n",
       "            color:  #000000;\n",
       "        }    #T_7a9342f7_1ac6_11eb_828f_a0a4c554f2a3row39_col4 {\n",
       "            background-color:  #f9f2f8;\n",
       "            color:  #000000;\n",
       "        }    #T_7a9342f7_1ac6_11eb_828f_a0a4c554f2a3row39_col5 {\n",
       "            background-color:  #fbf4f9;\n",
       "            color:  #000000;\n",
       "        }    #T_7a9342f7_1ac6_11eb_828f_a0a4c554f2a3row39_col6 {\n",
       "            background-color:  #f8f1f8;\n",
       "            color:  #000000;\n",
       "        }    #T_7a9342f7_1ac6_11eb_828f_a0a4c554f2a3row39_col7 {\n",
       "            background-color:  #fff7fb;\n",
       "            color:  #000000;\n",
       "        }    #T_7a9342f7_1ac6_11eb_828f_a0a4c554f2a3row39_col8 {\n",
       "            background-color:  #fef6fa;\n",
       "            color:  #000000;\n",
       "        }    #T_7a9342f7_1ac6_11eb_828f_a0a4c554f2a3row39_col9 {\n",
       "            background-color:  #fef6fa;\n",
       "            color:  #000000;\n",
       "        }    #T_7a9342f7_1ac6_11eb_828f_a0a4c554f2a3row39_col10 {\n",
       "            background-color:  #f8f1f8;\n",
       "            color:  #000000;\n",
       "        }    #T_7a9342f7_1ac6_11eb_828f_a0a4c554f2a3row39_col11 {\n",
       "            background-color:  #fdf5fa;\n",
       "            color:  #000000;\n",
       "        }    #T_7a9342f7_1ac6_11eb_828f_a0a4c554f2a3row39_col12 {\n",
       "            background-color:  #fcf4fa;\n",
       "            color:  #000000;\n",
       "        }    #T_7a9342f7_1ac6_11eb_828f_a0a4c554f2a3row39_col13 {\n",
       "            background-color:  #fef6fb;\n",
       "            color:  #000000;\n",
       "        }    #T_7a9342f7_1ac6_11eb_828f_a0a4c554f2a3row39_col14 {\n",
       "            background-color:  #f7f0f7;\n",
       "            color:  #000000;\n",
       "        }    #T_7a9342f7_1ac6_11eb_828f_a0a4c554f2a3row39_col15 {\n",
       "            background-color:  #f7f0f7;\n",
       "            color:  #000000;\n",
       "        }    #T_7a9342f7_1ac6_11eb_828f_a0a4c554f2a3row39_col16 {\n",
       "            background-color:  #f7f0f7;\n",
       "            color:  #000000;\n",
       "        }    #T_7a9342f7_1ac6_11eb_828f_a0a4c554f2a3row39_col17 {\n",
       "            background-color:  #f8f1f8;\n",
       "            color:  #000000;\n",
       "        }    #T_7a9342f7_1ac6_11eb_828f_a0a4c554f2a3row39_col18 {\n",
       "            background-color:  #fbf4f9;\n",
       "            color:  #000000;\n",
       "        }    #T_7a9342f7_1ac6_11eb_828f_a0a4c554f2a3row39_col19 {\n",
       "            background-color:  #faf2f8;\n",
       "            color:  #000000;\n",
       "        }    #T_7a9342f7_1ac6_11eb_828f_a0a4c554f2a3row39_col20 {\n",
       "            background-color:  #f9f2f8;\n",
       "            color:  #000000;\n",
       "        }    #T_7a9342f7_1ac6_11eb_828f_a0a4c554f2a3row39_col21 {\n",
       "            background-color:  #f6eff7;\n",
       "            color:  #000000;\n",
       "        }    #T_7a9342f7_1ac6_11eb_828f_a0a4c554f2a3row39_col22 {\n",
       "            background-color:  #f7f0f7;\n",
       "            color:  #000000;\n",
       "        }    #T_7a9342f7_1ac6_11eb_828f_a0a4c554f2a3row39_col23 {\n",
       "            background-color:  #f7f0f7;\n",
       "            color:  #000000;\n",
       "        }    #T_7a9342f7_1ac6_11eb_828f_a0a4c554f2a3row39_col24 {\n",
       "            background-color:  #f6eff7;\n",
       "            color:  #000000;\n",
       "        }    #T_7a9342f7_1ac6_11eb_828f_a0a4c554f2a3row39_col25 {\n",
       "            background-color:  #f8f1f8;\n",
       "            color:  #000000;\n",
       "        }    #T_7a9342f7_1ac6_11eb_828f_a0a4c554f2a3row39_col26 {\n",
       "            background-color:  #f7f0f7;\n",
       "            color:  #000000;\n",
       "        }    #T_7a9342f7_1ac6_11eb_828f_a0a4c554f2a3row39_col27 {\n",
       "            background-color:  #faf2f8;\n",
       "            color:  #000000;\n",
       "        }    #T_7a9342f7_1ac6_11eb_828f_a0a4c554f2a3row39_col28 {\n",
       "            background-color:  #fdf5fa;\n",
       "            color:  #000000;\n",
       "        }    #T_7a9342f7_1ac6_11eb_828f_a0a4c554f2a3row39_col29 {\n",
       "            background-color:  #fbf3f9;\n",
       "            color:  #000000;\n",
       "        }    #T_7a9342f7_1ac6_11eb_828f_a0a4c554f2a3row40_col0 {\n",
       "            background-color:  #fff7fb;\n",
       "            color:  #000000;\n",
       "        }    #T_7a9342f7_1ac6_11eb_828f_a0a4c554f2a3row40_col1 {\n",
       "            background-color:  #fdf5fa;\n",
       "            color:  #000000;\n",
       "        }    #T_7a9342f7_1ac6_11eb_828f_a0a4c554f2a3row40_col2 {\n",
       "            background-color:  #fdf5fa;\n",
       "            color:  #000000;\n",
       "        }    #T_7a9342f7_1ac6_11eb_828f_a0a4c554f2a3row40_col3 {\n",
       "            background-color:  #fef6fb;\n",
       "            color:  #000000;\n",
       "        }    #T_7a9342f7_1ac6_11eb_828f_a0a4c554f2a3row40_col4 {\n",
       "            background-color:  #fef6fa;\n",
       "            color:  #000000;\n",
       "        }    #T_7a9342f7_1ac6_11eb_828f_a0a4c554f2a3row40_col5 {\n",
       "            background-color:  #fef6fa;\n",
       "            color:  #000000;\n",
       "        }    #T_7a9342f7_1ac6_11eb_828f_a0a4c554f2a3row40_col6 {\n",
       "            background-color:  #fbf3f9;\n",
       "            color:  #000000;\n",
       "        }    #T_7a9342f7_1ac6_11eb_828f_a0a4c554f2a3row40_col7 {\n",
       "            background-color:  #e8e4f0;\n",
       "            color:  #000000;\n",
       "        }    #T_7a9342f7_1ac6_11eb_828f_a0a4c554f2a3row40_col8 {\n",
       "            background-color:  #f4eef6;\n",
       "            color:  #000000;\n",
       "        }    #T_7a9342f7_1ac6_11eb_828f_a0a4c554f2a3row40_col9 {\n",
       "            background-color:  #f1ebf4;\n",
       "            color:  #000000;\n",
       "        }    #T_7a9342f7_1ac6_11eb_828f_a0a4c554f2a3row40_col10 {\n",
       "            background-color:  #c6cce3;\n",
       "            color:  #000000;\n",
       "        }    #T_7a9342f7_1ac6_11eb_828f_a0a4c554f2a3row40_col11 {\n",
       "            background-color:  #f2ecf5;\n",
       "            color:  #000000;\n",
       "        }    #T_7a9342f7_1ac6_11eb_828f_a0a4c554f2a3row40_col12 {\n",
       "            background-color:  #f4edf6;\n",
       "            color:  #000000;\n",
       "        }    #T_7a9342f7_1ac6_11eb_828f_a0a4c554f2a3row40_col13 {\n",
       "            background-color:  #fef6fa;\n",
       "            color:  #000000;\n",
       "        }    #T_7a9342f7_1ac6_11eb_828f_a0a4c554f2a3row40_col14 {\n",
       "            background-color:  #f7f0f7;\n",
       "            color:  #000000;\n",
       "        }    #T_7a9342f7_1ac6_11eb_828f_a0a4c554f2a3row40_col15 {\n",
       "            background-color:  #f2ecf5;\n",
       "            color:  #000000;\n",
       "        }    #T_7a9342f7_1ac6_11eb_828f_a0a4c554f2a3row40_col16 {\n",
       "            background-color:  #fff7fb;\n",
       "            color:  #000000;\n",
       "        }    #T_7a9342f7_1ac6_11eb_828f_a0a4c554f2a3row40_col17 {\n",
       "            background-color:  #fdf5fa;\n",
       "            color:  #000000;\n",
       "        }    #T_7a9342f7_1ac6_11eb_828f_a0a4c554f2a3row40_col18 {\n",
       "            background-color:  #eee9f3;\n",
       "            color:  #000000;\n",
       "        }    #T_7a9342f7_1ac6_11eb_828f_a0a4c554f2a3row40_col19 {\n",
       "            background-color:  #f8f1f8;\n",
       "            color:  #000000;\n",
       "        }    #T_7a9342f7_1ac6_11eb_828f_a0a4c554f2a3row40_col20 {\n",
       "            background-color:  #f8f1f8;\n",
       "            color:  #000000;\n",
       "        }    #T_7a9342f7_1ac6_11eb_828f_a0a4c554f2a3row40_col21 {\n",
       "            background-color:  #faf2f8;\n",
       "            color:  #000000;\n",
       "        }    #T_7a9342f7_1ac6_11eb_828f_a0a4c554f2a3row40_col22 {\n",
       "            background-color:  #fbf4f9;\n",
       "            color:  #000000;\n",
       "        }    #T_7a9342f7_1ac6_11eb_828f_a0a4c554f2a3row40_col23 {\n",
       "            background-color:  #fcf4fa;\n",
       "            color:  #000000;\n",
       "        }    #T_7a9342f7_1ac6_11eb_828f_a0a4c554f2a3row40_col24 {\n",
       "            background-color:  #fbf4f9;\n",
       "            color:  #000000;\n",
       "        }    #T_7a9342f7_1ac6_11eb_828f_a0a4c554f2a3row40_col25 {\n",
       "            background-color:  #fbf4f9;\n",
       "            color:  #000000;\n",
       "        }    #T_7a9342f7_1ac6_11eb_828f_a0a4c554f2a3row40_col26 {\n",
       "            background-color:  #fbf3f9;\n",
       "            color:  #000000;\n",
       "        }    #T_7a9342f7_1ac6_11eb_828f_a0a4c554f2a3row40_col27 {\n",
       "            background-color:  #fef6fa;\n",
       "            color:  #000000;\n",
       "        }    #T_7a9342f7_1ac6_11eb_828f_a0a4c554f2a3row40_col28 {\n",
       "            background-color:  #fdf5fa;\n",
       "            color:  #000000;\n",
       "        }    #T_7a9342f7_1ac6_11eb_828f_a0a4c554f2a3row40_col29 {\n",
       "            background-color:  #fdf5fa;\n",
       "            color:  #000000;\n",
       "        }    #T_7a9342f7_1ac6_11eb_828f_a0a4c554f2a3row41_col0 {\n",
       "            background-color:  #fef6fa;\n",
       "            color:  #000000;\n",
       "        }    #T_7a9342f7_1ac6_11eb_828f_a0a4c554f2a3row41_col1 {\n",
       "            background-color:  #fdf5fa;\n",
       "            color:  #000000;\n",
       "        }    #T_7a9342f7_1ac6_11eb_828f_a0a4c554f2a3row41_col2 {\n",
       "            background-color:  #fdf5fa;\n",
       "            color:  #000000;\n",
       "        }    #T_7a9342f7_1ac6_11eb_828f_a0a4c554f2a3row41_col3 {\n",
       "            background-color:  #fbf3f9;\n",
       "            color:  #000000;\n",
       "        }    #T_7a9342f7_1ac6_11eb_828f_a0a4c554f2a3row41_col4 {\n",
       "            background-color:  #fdf5fa;\n",
       "            color:  #000000;\n",
       "        }    #T_7a9342f7_1ac6_11eb_828f_a0a4c554f2a3row41_col5 {\n",
       "            background-color:  #fef6fb;\n",
       "            color:  #000000;\n",
       "        }    #T_7a9342f7_1ac6_11eb_828f_a0a4c554f2a3row41_col6 {\n",
       "            background-color:  #fdf5fa;\n",
       "            color:  #000000;\n",
       "        }    #T_7a9342f7_1ac6_11eb_828f_a0a4c554f2a3row41_col7 {\n",
       "            background-color:  #fef6fa;\n",
       "            color:  #000000;\n",
       "        }    #T_7a9342f7_1ac6_11eb_828f_a0a4c554f2a3row41_col8 {\n",
       "            background-color:  #fdf5fa;\n",
       "            color:  #000000;\n",
       "        }    #T_7a9342f7_1ac6_11eb_828f_a0a4c554f2a3row41_col9 {\n",
       "            background-color:  #fdf5fa;\n",
       "            color:  #000000;\n",
       "        }    #T_7a9342f7_1ac6_11eb_828f_a0a4c554f2a3row41_col10 {\n",
       "            background-color:  #faf2f8;\n",
       "            color:  #000000;\n",
       "        }    #T_7a9342f7_1ac6_11eb_828f_a0a4c554f2a3row41_col11 {\n",
       "            background-color:  #fbf4f9;\n",
       "            color:  #000000;\n",
       "        }    #T_7a9342f7_1ac6_11eb_828f_a0a4c554f2a3row41_col12 {\n",
       "            background-color:  #faf3f9;\n",
       "            color:  #000000;\n",
       "        }    #T_7a9342f7_1ac6_11eb_828f_a0a4c554f2a3row41_col13 {\n",
       "            background-color:  #fef6fa;\n",
       "            color:  #000000;\n",
       "        }    #T_7a9342f7_1ac6_11eb_828f_a0a4c554f2a3row41_col14 {\n",
       "            background-color:  #faf3f9;\n",
       "            color:  #000000;\n",
       "        }    #T_7a9342f7_1ac6_11eb_828f_a0a4c554f2a3row41_col15 {\n",
       "            background-color:  #fef6fb;\n",
       "            color:  #000000;\n",
       "        }    #T_7a9342f7_1ac6_11eb_828f_a0a4c554f2a3row41_col16 {\n",
       "            background-color:  #fef6fb;\n",
       "            color:  #000000;\n",
       "        }    #T_7a9342f7_1ac6_11eb_828f_a0a4c554f2a3row41_col17 {\n",
       "            background-color:  #fef6fa;\n",
       "            color:  #000000;\n",
       "        }    #T_7a9342f7_1ac6_11eb_828f_a0a4c554f2a3row41_col18 {\n",
       "            background-color:  #fcf4fa;\n",
       "            color:  #000000;\n",
       "        }    #T_7a9342f7_1ac6_11eb_828f_a0a4c554f2a3row41_col19 {\n",
       "            background-color:  #f8f1f8;\n",
       "            color:  #000000;\n",
       "        }    #T_7a9342f7_1ac6_11eb_828f_a0a4c554f2a3row41_col20 {\n",
       "            background-color:  #fbf3f9;\n",
       "            color:  #000000;\n",
       "        }    #T_7a9342f7_1ac6_11eb_828f_a0a4c554f2a3row41_col21 {\n",
       "            background-color:  #f7f0f7;\n",
       "            color:  #000000;\n",
       "        }    #T_7a9342f7_1ac6_11eb_828f_a0a4c554f2a3row41_col22 {\n",
       "            background-color:  #f7f0f7;\n",
       "            color:  #000000;\n",
       "        }    #T_7a9342f7_1ac6_11eb_828f_a0a4c554f2a3row41_col23 {\n",
       "            background-color:  #f7f0f7;\n",
       "            color:  #000000;\n",
       "        }    #T_7a9342f7_1ac6_11eb_828f_a0a4c554f2a3row41_col24 {\n",
       "            background-color:  #f7f0f7;\n",
       "            color:  #000000;\n",
       "        }    #T_7a9342f7_1ac6_11eb_828f_a0a4c554f2a3row41_col25 {\n",
       "            background-color:  #f8f1f8;\n",
       "            color:  #000000;\n",
       "        }    #T_7a9342f7_1ac6_11eb_828f_a0a4c554f2a3row41_col26 {\n",
       "            background-color:  #f8f1f8;\n",
       "            color:  #000000;\n",
       "        }    #T_7a9342f7_1ac6_11eb_828f_a0a4c554f2a3row41_col27 {\n",
       "            background-color:  #fbf3f9;\n",
       "            color:  #000000;\n",
       "        }    #T_7a9342f7_1ac6_11eb_828f_a0a4c554f2a3row41_col28 {\n",
       "            background-color:  #fef6fa;\n",
       "            color:  #000000;\n",
       "        }    #T_7a9342f7_1ac6_11eb_828f_a0a4c554f2a3row41_col29 {\n",
       "            background-color:  #fef6fa;\n",
       "            color:  #000000;\n",
       "        }    #T_7a9342f7_1ac6_11eb_828f_a0a4c554f2a3row42_col0 {\n",
       "            background-color:  #fff7fb;\n",
       "            color:  #000000;\n",
       "        }    #T_7a9342f7_1ac6_11eb_828f_a0a4c554f2a3row42_col1 {\n",
       "            background-color:  #faf2f8;\n",
       "            color:  #000000;\n",
       "        }    #T_7a9342f7_1ac6_11eb_828f_a0a4c554f2a3row42_col2 {\n",
       "            background-color:  #faf3f9;\n",
       "            color:  #000000;\n",
       "        }    #T_7a9342f7_1ac6_11eb_828f_a0a4c554f2a3row42_col3 {\n",
       "            background-color:  #f9f2f8;\n",
       "            color:  #000000;\n",
       "        }    #T_7a9342f7_1ac6_11eb_828f_a0a4c554f2a3row42_col4 {\n",
       "            background-color:  #fbf3f9;\n",
       "            color:  #000000;\n",
       "        }    #T_7a9342f7_1ac6_11eb_828f_a0a4c554f2a3row42_col5 {\n",
       "            background-color:  #fcf4fa;\n",
       "            color:  #000000;\n",
       "        }    #T_7a9342f7_1ac6_11eb_828f_a0a4c554f2a3row42_col6 {\n",
       "            background-color:  #faf2f8;\n",
       "            color:  #000000;\n",
       "        }    #T_7a9342f7_1ac6_11eb_828f_a0a4c554f2a3row42_col7 {\n",
       "            background-color:  #fff7fb;\n",
       "            color:  #000000;\n",
       "        }    #T_7a9342f7_1ac6_11eb_828f_a0a4c554f2a3row42_col8 {\n",
       "            background-color:  #fbf4f9;\n",
       "            color:  #000000;\n",
       "        }    #T_7a9342f7_1ac6_11eb_828f_a0a4c554f2a3row42_col9 {\n",
       "            background-color:  #fff7fb;\n",
       "            color:  #000000;\n",
       "        }    #T_7a9342f7_1ac6_11eb_828f_a0a4c554f2a3row42_col10 {\n",
       "            background-color:  #faf2f8;\n",
       "            color:  #000000;\n",
       "        }    #T_7a9342f7_1ac6_11eb_828f_a0a4c554f2a3row42_col11 {\n",
       "            background-color:  #fdf5fa;\n",
       "            color:  #000000;\n",
       "        }    #T_7a9342f7_1ac6_11eb_828f_a0a4c554f2a3row42_col12 {\n",
       "            background-color:  #fdf5fa;\n",
       "            color:  #000000;\n",
       "        }    #T_7a9342f7_1ac6_11eb_828f_a0a4c554f2a3row42_col13 {\n",
       "            background-color:  #fff7fb;\n",
       "            color:  #000000;\n",
       "        }    #T_7a9342f7_1ac6_11eb_828f_a0a4c554f2a3row42_col14 {\n",
       "            background-color:  #fdf5fa;\n",
       "            color:  #000000;\n",
       "        }    #T_7a9342f7_1ac6_11eb_828f_a0a4c554f2a3row42_col15 {\n",
       "            background-color:  #fdf5fa;\n",
       "            color:  #000000;\n",
       "        }    #T_7a9342f7_1ac6_11eb_828f_a0a4c554f2a3row42_col16 {\n",
       "            background-color:  #fdf5fa;\n",
       "            color:  #000000;\n",
       "        }    #T_7a9342f7_1ac6_11eb_828f_a0a4c554f2a3row42_col17 {\n",
       "            background-color:  #fdf5fa;\n",
       "            color:  #000000;\n",
       "        }    #T_7a9342f7_1ac6_11eb_828f_a0a4c554f2a3row42_col18 {\n",
       "            background-color:  #f9f2f8;\n",
       "            color:  #000000;\n",
       "        }    #T_7a9342f7_1ac6_11eb_828f_a0a4c554f2a3row42_col19 {\n",
       "            background-color:  #fbf4f9;\n",
       "            color:  #000000;\n",
       "        }    #T_7a9342f7_1ac6_11eb_828f_a0a4c554f2a3row42_col20 {\n",
       "            background-color:  #fdf5fa;\n",
       "            color:  #000000;\n",
       "        }    #T_7a9342f7_1ac6_11eb_828f_a0a4c554f2a3row42_col21 {\n",
       "            background-color:  #fbf3f9;\n",
       "            color:  #000000;\n",
       "        }    #T_7a9342f7_1ac6_11eb_828f_a0a4c554f2a3row42_col22 {\n",
       "            background-color:  #fbf4f9;\n",
       "            color:  #000000;\n",
       "        }    #T_7a9342f7_1ac6_11eb_828f_a0a4c554f2a3row42_col23 {\n",
       "            background-color:  #fbf3f9;\n",
       "            color:  #000000;\n",
       "        }    #T_7a9342f7_1ac6_11eb_828f_a0a4c554f2a3row42_col24 {\n",
       "            background-color:  #fbf3f9;\n",
       "            color:  #000000;\n",
       "        }    #T_7a9342f7_1ac6_11eb_828f_a0a4c554f2a3row42_col25 {\n",
       "            background-color:  #fbf3f9;\n",
       "            color:  #000000;\n",
       "        }    #T_7a9342f7_1ac6_11eb_828f_a0a4c554f2a3row42_col26 {\n",
       "            background-color:  #fbf3f9;\n",
       "            color:  #000000;\n",
       "        }    #T_7a9342f7_1ac6_11eb_828f_a0a4c554f2a3row42_col27 {\n",
       "            background-color:  #fef6fa;\n",
       "            color:  #000000;\n",
       "        }    #T_7a9342f7_1ac6_11eb_828f_a0a4c554f2a3row42_col28 {\n",
       "            background-color:  #fef6fa;\n",
       "            color:  #000000;\n",
       "        }    #T_7a9342f7_1ac6_11eb_828f_a0a4c554f2a3row42_col29 {\n",
       "            background-color:  #fbf4f9;\n",
       "            color:  #000000;\n",
       "        }    #T_7a9342f7_1ac6_11eb_828f_a0a4c554f2a3row43_col0 {\n",
       "            background-color:  #fef6fb;\n",
       "            color:  #000000;\n",
       "        }    #T_7a9342f7_1ac6_11eb_828f_a0a4c554f2a3row43_col1 {\n",
       "            background-color:  #eee8f3;\n",
       "            color:  #000000;\n",
       "        }    #T_7a9342f7_1ac6_11eb_828f_a0a4c554f2a3row43_col2 {\n",
       "            background-color:  #fbf3f9;\n",
       "            color:  #000000;\n",
       "        }    #T_7a9342f7_1ac6_11eb_828f_a0a4c554f2a3row43_col3 {\n",
       "            background-color:  #fbf3f9;\n",
       "            color:  #000000;\n",
       "        }    #T_7a9342f7_1ac6_11eb_828f_a0a4c554f2a3row43_col4 {\n",
       "            background-color:  #faf2f8;\n",
       "            color:  #000000;\n",
       "        }    #T_7a9342f7_1ac6_11eb_828f_a0a4c554f2a3row43_col5 {\n",
       "            background-color:  #f7f0f7;\n",
       "            color:  #000000;\n",
       "        }    #T_7a9342f7_1ac6_11eb_828f_a0a4c554f2a3row43_col6 {\n",
       "            background-color:  #f4eef6;\n",
       "            color:  #000000;\n",
       "        }    #T_7a9342f7_1ac6_11eb_828f_a0a4c554f2a3row43_col7 {\n",
       "            background-color:  #f6eff7;\n",
       "            color:  #000000;\n",
       "        }    #T_7a9342f7_1ac6_11eb_828f_a0a4c554f2a3row43_col8 {\n",
       "            background-color:  #f8f1f8;\n",
       "            color:  #000000;\n",
       "        }    #T_7a9342f7_1ac6_11eb_828f_a0a4c554f2a3row43_col9 {\n",
       "            background-color:  #ebe6f2;\n",
       "            color:  #000000;\n",
       "        }    #T_7a9342f7_1ac6_11eb_828f_a0a4c554f2a3row43_col10 {\n",
       "            background-color:  #fdf5fa;\n",
       "            color:  #000000;\n",
       "        }    #T_7a9342f7_1ac6_11eb_828f_a0a4c554f2a3row43_col11 {\n",
       "            background-color:  #f6eff7;\n",
       "            color:  #000000;\n",
       "        }    #T_7a9342f7_1ac6_11eb_828f_a0a4c554f2a3row43_col12 {\n",
       "            background-color:  #f8f1f8;\n",
       "            color:  #000000;\n",
       "        }    #T_7a9342f7_1ac6_11eb_828f_a0a4c554f2a3row43_col13 {\n",
       "            background-color:  #fcf4fa;\n",
       "            color:  #000000;\n",
       "        }    #T_7a9342f7_1ac6_11eb_828f_a0a4c554f2a3row43_col14 {\n",
       "            background-color:  #fef6fa;\n",
       "            color:  #000000;\n",
       "        }    #T_7a9342f7_1ac6_11eb_828f_a0a4c554f2a3row43_col15 {\n",
       "            background-color:  #faf2f8;\n",
       "            color:  #000000;\n",
       "        }    #T_7a9342f7_1ac6_11eb_828f_a0a4c554f2a3row43_col16 {\n",
       "            background-color:  #fdf5fa;\n",
       "            color:  #000000;\n",
       "        }    #T_7a9342f7_1ac6_11eb_828f_a0a4c554f2a3row43_col17 {\n",
       "            background-color:  #fef6fa;\n",
       "            color:  #000000;\n",
       "        }    #T_7a9342f7_1ac6_11eb_828f_a0a4c554f2a3row43_col18 {\n",
       "            background-color:  #ece7f2;\n",
       "            color:  #000000;\n",
       "        }    #T_7a9342f7_1ac6_11eb_828f_a0a4c554f2a3row43_col19 {\n",
       "            background-color:  #ede8f3;\n",
       "            color:  #000000;\n",
       "        }    #T_7a9342f7_1ac6_11eb_828f_a0a4c554f2a3row43_col20 {\n",
       "            background-color:  #f5eff6;\n",
       "            color:  #000000;\n",
       "        }    #T_7a9342f7_1ac6_11eb_828f_a0a4c554f2a3row43_col21 {\n",
       "            background-color:  #f8f1f8;\n",
       "            color:  #000000;\n",
       "        }    #T_7a9342f7_1ac6_11eb_828f_a0a4c554f2a3row43_col22 {\n",
       "            background-color:  #f4eef6;\n",
       "            color:  #000000;\n",
       "        }    #T_7a9342f7_1ac6_11eb_828f_a0a4c554f2a3row43_col23 {\n",
       "            background-color:  #f5eff6;\n",
       "            color:  #000000;\n",
       "        }    #T_7a9342f7_1ac6_11eb_828f_a0a4c554f2a3row43_col24 {\n",
       "            background-color:  #f5eff6;\n",
       "            color:  #000000;\n",
       "        }    #T_7a9342f7_1ac6_11eb_828f_a0a4c554f2a3row43_col25 {\n",
       "            background-color:  #f7f0f7;\n",
       "            color:  #000000;\n",
       "        }    #T_7a9342f7_1ac6_11eb_828f_a0a4c554f2a3row43_col26 {\n",
       "            background-color:  #f6eff7;\n",
       "            color:  #000000;\n",
       "        }    #T_7a9342f7_1ac6_11eb_828f_a0a4c554f2a3row43_col27 {\n",
       "            background-color:  #fdf5fa;\n",
       "            color:  #000000;\n",
       "        }    #T_7a9342f7_1ac6_11eb_828f_a0a4c554f2a3row43_col28 {\n",
       "            background-color:  #fef6fb;\n",
       "            color:  #000000;\n",
       "        }    #T_7a9342f7_1ac6_11eb_828f_a0a4c554f2a3row43_col29 {\n",
       "            background-color:  #faf2f8;\n",
       "            color:  #000000;\n",
       "        }    #T_7a9342f7_1ac6_11eb_828f_a0a4c554f2a3row44_col0 {\n",
       "            background-color:  #fdf5fa;\n",
       "            color:  #000000;\n",
       "        }    #T_7a9342f7_1ac6_11eb_828f_a0a4c554f2a3row44_col1 {\n",
       "            background-color:  #f5eef6;\n",
       "            color:  #000000;\n",
       "        }    #T_7a9342f7_1ac6_11eb_828f_a0a4c554f2a3row44_col2 {\n",
       "            background-color:  #f7f0f7;\n",
       "            color:  #000000;\n",
       "        }    #T_7a9342f7_1ac6_11eb_828f_a0a4c554f2a3row44_col3 {\n",
       "            background-color:  #f9f2f8;\n",
       "            color:  #000000;\n",
       "        }    #T_7a9342f7_1ac6_11eb_828f_a0a4c554f2a3row44_col4 {\n",
       "            background-color:  #f4eef6;\n",
       "            color:  #000000;\n",
       "        }    #T_7a9342f7_1ac6_11eb_828f_a0a4c554f2a3row44_col5 {\n",
       "            background-color:  #f8f1f8;\n",
       "            color:  #000000;\n",
       "        }    #T_7a9342f7_1ac6_11eb_828f_a0a4c554f2a3row44_col6 {\n",
       "            background-color:  #eee8f3;\n",
       "            color:  #000000;\n",
       "        }    #T_7a9342f7_1ac6_11eb_828f_a0a4c554f2a3row44_col7 {\n",
       "            background-color:  #fcf4fa;\n",
       "            color:  #000000;\n",
       "        }    #T_7a9342f7_1ac6_11eb_828f_a0a4c554f2a3row44_col8 {\n",
       "            background-color:  #f5eef6;\n",
       "            color:  #000000;\n",
       "        }    #T_7a9342f7_1ac6_11eb_828f_a0a4c554f2a3row44_col9 {\n",
       "            background-color:  #fdf5fa;\n",
       "            color:  #000000;\n",
       "        }    #T_7a9342f7_1ac6_11eb_828f_a0a4c554f2a3row44_col10 {\n",
       "            background-color:  #f8f1f8;\n",
       "            color:  #000000;\n",
       "        }    #T_7a9342f7_1ac6_11eb_828f_a0a4c554f2a3row44_col11 {\n",
       "            background-color:  #fdf5fa;\n",
       "            color:  #000000;\n",
       "        }    #T_7a9342f7_1ac6_11eb_828f_a0a4c554f2a3row44_col12 {\n",
       "            background-color:  #fdf5fa;\n",
       "            color:  #000000;\n",
       "        }    #T_7a9342f7_1ac6_11eb_828f_a0a4c554f2a3row44_col13 {\n",
       "            background-color:  #fff7fb;\n",
       "            color:  #000000;\n",
       "        }    #T_7a9342f7_1ac6_11eb_828f_a0a4c554f2a3row44_col14 {\n",
       "            background-color:  #fdf5fa;\n",
       "            color:  #000000;\n",
       "        }    #T_7a9342f7_1ac6_11eb_828f_a0a4c554f2a3row44_col15 {\n",
       "            background-color:  #fef6fa;\n",
       "            color:  #000000;\n",
       "        }    #T_7a9342f7_1ac6_11eb_828f_a0a4c554f2a3row44_col16 {\n",
       "            background-color:  #fef6fb;\n",
       "            color:  #000000;\n",
       "        }    #T_7a9342f7_1ac6_11eb_828f_a0a4c554f2a3row44_col17 {\n",
       "            background-color:  #fff7fb;\n",
       "            color:  #000000;\n",
       "        }    #T_7a9342f7_1ac6_11eb_828f_a0a4c554f2a3row44_col18 {\n",
       "            background-color:  #f7f0f7;\n",
       "            color:  #000000;\n",
       "        }    #T_7a9342f7_1ac6_11eb_828f_a0a4c554f2a3row44_col19 {\n",
       "            background-color:  #faf3f9;\n",
       "            color:  #000000;\n",
       "        }    #T_7a9342f7_1ac6_11eb_828f_a0a4c554f2a3row44_col20 {\n",
       "            background-color:  #faf3f9;\n",
       "            color:  #000000;\n",
       "        }    #T_7a9342f7_1ac6_11eb_828f_a0a4c554f2a3row44_col21 {\n",
       "            background-color:  #fbf3f9;\n",
       "            color:  #000000;\n",
       "        }    #T_7a9342f7_1ac6_11eb_828f_a0a4c554f2a3row44_col22 {\n",
       "            background-color:  #fbf3f9;\n",
       "            color:  #000000;\n",
       "        }    #T_7a9342f7_1ac6_11eb_828f_a0a4c554f2a3row44_col23 {\n",
       "            background-color:  #fbf3f9;\n",
       "            color:  #000000;\n",
       "        }    #T_7a9342f7_1ac6_11eb_828f_a0a4c554f2a3row44_col24 {\n",
       "            background-color:  #faf3f9;\n",
       "            color:  #000000;\n",
       "        }    #T_7a9342f7_1ac6_11eb_828f_a0a4c554f2a3row44_col25 {\n",
       "            background-color:  #fbf3f9;\n",
       "            color:  #000000;\n",
       "        }    #T_7a9342f7_1ac6_11eb_828f_a0a4c554f2a3row44_col26 {\n",
       "            background-color:  #fbf4f9;\n",
       "            color:  #000000;\n",
       "        }    #T_7a9342f7_1ac6_11eb_828f_a0a4c554f2a3row44_col27 {\n",
       "            background-color:  #fef6fb;\n",
       "            color:  #000000;\n",
       "        }    #T_7a9342f7_1ac6_11eb_828f_a0a4c554f2a3row44_col28 {\n",
       "            background-color:  #fef6fb;\n",
       "            color:  #000000;\n",
       "        }    #T_7a9342f7_1ac6_11eb_828f_a0a4c554f2a3row44_col29 {\n",
       "            background-color:  #fff7fb;\n",
       "            color:  #000000;\n",
       "        }    #T_7a9342f7_1ac6_11eb_828f_a0a4c554f2a3row45_col0 {\n",
       "            background-color:  #f9f2f8;\n",
       "            color:  #000000;\n",
       "        }    #T_7a9342f7_1ac6_11eb_828f_a0a4c554f2a3row45_col1 {\n",
       "            background-color:  #f8f1f8;\n",
       "            color:  #000000;\n",
       "        }    #T_7a9342f7_1ac6_11eb_828f_a0a4c554f2a3row45_col2 {\n",
       "            background-color:  #fdf5fa;\n",
       "            color:  #000000;\n",
       "        }    #T_7a9342f7_1ac6_11eb_828f_a0a4c554f2a3row45_col3 {\n",
       "            background-color:  #f9f2f8;\n",
       "            color:  #000000;\n",
       "        }    #T_7a9342f7_1ac6_11eb_828f_a0a4c554f2a3row45_col4 {\n",
       "            background-color:  #f7f0f7;\n",
       "            color:  #000000;\n",
       "        }    #T_7a9342f7_1ac6_11eb_828f_a0a4c554f2a3row45_col5 {\n",
       "            background-color:  #eee9f3;\n",
       "            color:  #000000;\n",
       "        }    #T_7a9342f7_1ac6_11eb_828f_a0a4c554f2a3row45_col6 {\n",
       "            background-color:  #f1ebf5;\n",
       "            color:  #000000;\n",
       "        }    #T_7a9342f7_1ac6_11eb_828f_a0a4c554f2a3row45_col7 {\n",
       "            background-color:  #faf3f9;\n",
       "            color:  #000000;\n",
       "        }    #T_7a9342f7_1ac6_11eb_828f_a0a4c554f2a3row45_col8 {\n",
       "            background-color:  #faf3f9;\n",
       "            color:  #000000;\n",
       "        }    #T_7a9342f7_1ac6_11eb_828f_a0a4c554f2a3row45_col9 {\n",
       "            background-color:  #fdf5fa;\n",
       "            color:  #000000;\n",
       "        }    #T_7a9342f7_1ac6_11eb_828f_a0a4c554f2a3row45_col10 {\n",
       "            background-color:  #f2ecf5;\n",
       "            color:  #000000;\n",
       "        }    #T_7a9342f7_1ac6_11eb_828f_a0a4c554f2a3row45_col11 {\n",
       "            background-color:  #f8f1f8;\n",
       "            color:  #000000;\n",
       "        }    #T_7a9342f7_1ac6_11eb_828f_a0a4c554f2a3row45_col12 {\n",
       "            background-color:  #faf2f8;\n",
       "            color:  #000000;\n",
       "        }    #T_7a9342f7_1ac6_11eb_828f_a0a4c554f2a3row45_col13 {\n",
       "            background-color:  #fef6fa;\n",
       "            color:  #000000;\n",
       "        }    #T_7a9342f7_1ac6_11eb_828f_a0a4c554f2a3row45_col14 {\n",
       "            background-color:  #fbf4f9;\n",
       "            color:  #000000;\n",
       "        }    #T_7a9342f7_1ac6_11eb_828f_a0a4c554f2a3row45_col15 {\n",
       "            background-color:  #f5eef6;\n",
       "            color:  #000000;\n",
       "        }    #T_7a9342f7_1ac6_11eb_828f_a0a4c554f2a3row45_col16 {\n",
       "            background-color:  #faf3f9;\n",
       "            color:  #000000;\n",
       "        }    #T_7a9342f7_1ac6_11eb_828f_a0a4c554f2a3row45_col17 {\n",
       "            background-color:  #faf2f8;\n",
       "            color:  #000000;\n",
       "        }    #T_7a9342f7_1ac6_11eb_828f_a0a4c554f2a3row45_col18 {\n",
       "            background-color:  #fdf5fa;\n",
       "            color:  #000000;\n",
       "        }    #T_7a9342f7_1ac6_11eb_828f_a0a4c554f2a3row45_col19 {\n",
       "            background-color:  #fcf4fa;\n",
       "            color:  #000000;\n",
       "        }    #T_7a9342f7_1ac6_11eb_828f_a0a4c554f2a3row45_col20 {\n",
       "            background-color:  #fef6fa;\n",
       "            color:  #000000;\n",
       "        }    #T_7a9342f7_1ac6_11eb_828f_a0a4c554f2a3row45_col21 {\n",
       "            background-color:  #fbf4f9;\n",
       "            color:  #000000;\n",
       "        }    #T_7a9342f7_1ac6_11eb_828f_a0a4c554f2a3row45_col22 {\n",
       "            background-color:  #fbf4f9;\n",
       "            color:  #000000;\n",
       "        }    #T_7a9342f7_1ac6_11eb_828f_a0a4c554f2a3row45_col23 {\n",
       "            background-color:  #faf3f9;\n",
       "            color:  #000000;\n",
       "        }    #T_7a9342f7_1ac6_11eb_828f_a0a4c554f2a3row45_col24 {\n",
       "            background-color:  #faf3f9;\n",
       "            color:  #000000;\n",
       "        }    #T_7a9342f7_1ac6_11eb_828f_a0a4c554f2a3row45_col25 {\n",
       "            background-color:  #fbf4f9;\n",
       "            color:  #000000;\n",
       "        }    #T_7a9342f7_1ac6_11eb_828f_a0a4c554f2a3row45_col26 {\n",
       "            background-color:  #fdf5fa;\n",
       "            color:  #000000;\n",
       "        }    #T_7a9342f7_1ac6_11eb_828f_a0a4c554f2a3row45_col27 {\n",
       "            background-color:  #fff7fb;\n",
       "            color:  #000000;\n",
       "        }    #T_7a9342f7_1ac6_11eb_828f_a0a4c554f2a3row45_col28 {\n",
       "            background-color:  #fef6fb;\n",
       "            color:  #000000;\n",
       "        }    #T_7a9342f7_1ac6_11eb_828f_a0a4c554f2a3row45_col29 {\n",
       "            background-color:  #dcdaeb;\n",
       "            color:  #000000;\n",
       "        }    #T_7a9342f7_1ac6_11eb_828f_a0a4c554f2a3row46_col0 {\n",
       "            background-color:  #fff7fb;\n",
       "            color:  #000000;\n",
       "        }    #T_7a9342f7_1ac6_11eb_828f_a0a4c554f2a3row46_col1 {\n",
       "            background-color:  #f3edf5;\n",
       "            color:  #000000;\n",
       "        }    #T_7a9342f7_1ac6_11eb_828f_a0a4c554f2a3row46_col2 {\n",
       "            background-color:  #faf3f9;\n",
       "            color:  #000000;\n",
       "        }    #T_7a9342f7_1ac6_11eb_828f_a0a4c554f2a3row46_col3 {\n",
       "            background-color:  #fef6fb;\n",
       "            color:  #000000;\n",
       "        }    #T_7a9342f7_1ac6_11eb_828f_a0a4c554f2a3row46_col4 {\n",
       "            background-color:  #f8f1f8;\n",
       "            color:  #000000;\n",
       "        }    #T_7a9342f7_1ac6_11eb_828f_a0a4c554f2a3row46_col5 {\n",
       "            background-color:  #fdf5fa;\n",
       "            color:  #000000;\n",
       "        }    #T_7a9342f7_1ac6_11eb_828f_a0a4c554f2a3row46_col6 {\n",
       "            background-color:  #e5e1ef;\n",
       "            color:  #000000;\n",
       "        }    #T_7a9342f7_1ac6_11eb_828f_a0a4c554f2a3row46_col7 {\n",
       "            background-color:  #fff7fb;\n",
       "            color:  #000000;\n",
       "        }    #T_7a9342f7_1ac6_11eb_828f_a0a4c554f2a3row46_col8 {\n",
       "            background-color:  #faf2f8;\n",
       "            color:  #000000;\n",
       "        }    #T_7a9342f7_1ac6_11eb_828f_a0a4c554f2a3row46_col9 {\n",
       "            background-color:  #fdf5fa;\n",
       "            color:  #000000;\n",
       "        }    #T_7a9342f7_1ac6_11eb_828f_a0a4c554f2a3row46_col10 {\n",
       "            background-color:  #f5eff6;\n",
       "            color:  #000000;\n",
       "        }    #T_7a9342f7_1ac6_11eb_828f_a0a4c554f2a3row46_col11 {\n",
       "            background-color:  #fdf5fa;\n",
       "            color:  #000000;\n",
       "        }    #T_7a9342f7_1ac6_11eb_828f_a0a4c554f2a3row46_col12 {\n",
       "            background-color:  #fdf5fa;\n",
       "            color:  #000000;\n",
       "        }    #T_7a9342f7_1ac6_11eb_828f_a0a4c554f2a3row46_col13 {\n",
       "            background-color:  #fff7fb;\n",
       "            color:  #000000;\n",
       "        }    #T_7a9342f7_1ac6_11eb_828f_a0a4c554f2a3row46_col14 {\n",
       "            background-color:  #fbf4f9;\n",
       "            color:  #000000;\n",
       "        }    #T_7a9342f7_1ac6_11eb_828f_a0a4c554f2a3row46_col15 {\n",
       "            background-color:  #faf3f9;\n",
       "            color:  #000000;\n",
       "        }    #T_7a9342f7_1ac6_11eb_828f_a0a4c554f2a3row46_col16 {\n",
       "            background-color:  #faf2f8;\n",
       "            color:  #000000;\n",
       "        }    #T_7a9342f7_1ac6_11eb_828f_a0a4c554f2a3row46_col17 {\n",
       "            background-color:  #fbf4f9;\n",
       "            color:  #000000;\n",
       "        }    #T_7a9342f7_1ac6_11eb_828f_a0a4c554f2a3row46_col18 {\n",
       "            background-color:  #f2ecf5;\n",
       "            color:  #000000;\n",
       "        }    #T_7a9342f7_1ac6_11eb_828f_a0a4c554f2a3row46_col19 {\n",
       "            background-color:  #f8f1f8;\n",
       "            color:  #000000;\n",
       "        }    #T_7a9342f7_1ac6_11eb_828f_a0a4c554f2a3row46_col20 {\n",
       "            background-color:  #f8f1f8;\n",
       "            color:  #000000;\n",
       "        }    #T_7a9342f7_1ac6_11eb_828f_a0a4c554f2a3row46_col21 {\n",
       "            background-color:  #f9f2f8;\n",
       "            color:  #000000;\n",
       "        }    #T_7a9342f7_1ac6_11eb_828f_a0a4c554f2a3row46_col22 {\n",
       "            background-color:  #faf2f8;\n",
       "            color:  #000000;\n",
       "        }    #T_7a9342f7_1ac6_11eb_828f_a0a4c554f2a3row46_col23 {\n",
       "            background-color:  #f8f1f8;\n",
       "            color:  #000000;\n",
       "        }    #T_7a9342f7_1ac6_11eb_828f_a0a4c554f2a3row46_col24 {\n",
       "            background-color:  #f5eff6;\n",
       "            color:  #000000;\n",
       "        }    #T_7a9342f7_1ac6_11eb_828f_a0a4c554f2a3row46_col25 {\n",
       "            background-color:  #f5eff6;\n",
       "            color:  #000000;\n",
       "        }    #T_7a9342f7_1ac6_11eb_828f_a0a4c554f2a3row46_col26 {\n",
       "            background-color:  #f5eff6;\n",
       "            color:  #000000;\n",
       "        }    #T_7a9342f7_1ac6_11eb_828f_a0a4c554f2a3row46_col27 {\n",
       "            background-color:  #faf3f9;\n",
       "            color:  #000000;\n",
       "        }    #T_7a9342f7_1ac6_11eb_828f_a0a4c554f2a3row46_col28 {\n",
       "            background-color:  #fef6fb;\n",
       "            color:  #000000;\n",
       "        }    #T_7a9342f7_1ac6_11eb_828f_a0a4c554f2a3row46_col29 {\n",
       "            background-color:  #f2ecf5;\n",
       "            color:  #000000;\n",
       "        }    #T_7a9342f7_1ac6_11eb_828f_a0a4c554f2a3row47_col0 {\n",
       "            background-color:  #fff7fb;\n",
       "            color:  #000000;\n",
       "        }    #T_7a9342f7_1ac6_11eb_828f_a0a4c554f2a3row47_col1 {\n",
       "            background-color:  #faf2f8;\n",
       "            color:  #000000;\n",
       "        }    #T_7a9342f7_1ac6_11eb_828f_a0a4c554f2a3row47_col2 {\n",
       "            background-color:  #fcf4fa;\n",
       "            color:  #000000;\n",
       "        }    #T_7a9342f7_1ac6_11eb_828f_a0a4c554f2a3row47_col3 {\n",
       "            background-color:  #fcf4fa;\n",
       "            color:  #000000;\n",
       "        }    #T_7a9342f7_1ac6_11eb_828f_a0a4c554f2a3row47_col4 {\n",
       "            background-color:  #fdf5fa;\n",
       "            color:  #000000;\n",
       "        }    #T_7a9342f7_1ac6_11eb_828f_a0a4c554f2a3row47_col5 {\n",
       "            background-color:  #fbf4f9;\n",
       "            color:  #000000;\n",
       "        }    #T_7a9342f7_1ac6_11eb_828f_a0a4c554f2a3row47_col6 {\n",
       "            background-color:  #fbf3f9;\n",
       "            color:  #000000;\n",
       "        }    #T_7a9342f7_1ac6_11eb_828f_a0a4c554f2a3row47_col7 {\n",
       "            background-color:  #fff7fb;\n",
       "            color:  #000000;\n",
       "        }    #T_7a9342f7_1ac6_11eb_828f_a0a4c554f2a3row47_col8 {\n",
       "            background-color:  #fff7fb;\n",
       "            color:  #000000;\n",
       "        }    #T_7a9342f7_1ac6_11eb_828f_a0a4c554f2a3row47_col9 {\n",
       "            background-color:  #fff7fb;\n",
       "            color:  #000000;\n",
       "        }    #T_7a9342f7_1ac6_11eb_828f_a0a4c554f2a3row47_col10 {\n",
       "            background-color:  #fbf3f9;\n",
       "            color:  #000000;\n",
       "        }    #T_7a9342f7_1ac6_11eb_828f_a0a4c554f2a3row47_col11 {\n",
       "            background-color:  #fdf5fa;\n",
       "            color:  #000000;\n",
       "        }    #T_7a9342f7_1ac6_11eb_828f_a0a4c554f2a3row47_col12 {\n",
       "            background-color:  #fef6fa;\n",
       "            color:  #000000;\n",
       "        }    #T_7a9342f7_1ac6_11eb_828f_a0a4c554f2a3row47_col13 {\n",
       "            background-color:  #fff7fb;\n",
       "            color:  #000000;\n",
       "        }    #T_7a9342f7_1ac6_11eb_828f_a0a4c554f2a3row47_col14 {\n",
       "            background-color:  #fef6fa;\n",
       "            color:  #000000;\n",
       "        }    #T_7a9342f7_1ac6_11eb_828f_a0a4c554f2a3row47_col15 {\n",
       "            background-color:  #fff7fb;\n",
       "            color:  #000000;\n",
       "        }    #T_7a9342f7_1ac6_11eb_828f_a0a4c554f2a3row47_col16 {\n",
       "            background-color:  #fff7fb;\n",
       "            color:  #000000;\n",
       "        }    #T_7a9342f7_1ac6_11eb_828f_a0a4c554f2a3row47_col17 {\n",
       "            background-color:  #fff7fb;\n",
       "            color:  #000000;\n",
       "        }    #T_7a9342f7_1ac6_11eb_828f_a0a4c554f2a3row47_col18 {\n",
       "            background-color:  #fbf3f9;\n",
       "            color:  #000000;\n",
       "        }    #T_7a9342f7_1ac6_11eb_828f_a0a4c554f2a3row47_col19 {\n",
       "            background-color:  #fdf5fa;\n",
       "            color:  #000000;\n",
       "        }    #T_7a9342f7_1ac6_11eb_828f_a0a4c554f2a3row47_col20 {\n",
       "            background-color:  #fbf4f9;\n",
       "            color:  #000000;\n",
       "        }    #T_7a9342f7_1ac6_11eb_828f_a0a4c554f2a3row47_col21 {\n",
       "            background-color:  #fdf5fa;\n",
       "            color:  #000000;\n",
       "        }    #T_7a9342f7_1ac6_11eb_828f_a0a4c554f2a3row47_col22 {\n",
       "            background-color:  #fdf5fa;\n",
       "            color:  #000000;\n",
       "        }    #T_7a9342f7_1ac6_11eb_828f_a0a4c554f2a3row47_col23 {\n",
       "            background-color:  #fdf5fa;\n",
       "            color:  #000000;\n",
       "        }    #T_7a9342f7_1ac6_11eb_828f_a0a4c554f2a3row47_col24 {\n",
       "            background-color:  #fdf5fa;\n",
       "            color:  #000000;\n",
       "        }    #T_7a9342f7_1ac6_11eb_828f_a0a4c554f2a3row47_col25 {\n",
       "            background-color:  #fdf5fa;\n",
       "            color:  #000000;\n",
       "        }    #T_7a9342f7_1ac6_11eb_828f_a0a4c554f2a3row47_col26 {\n",
       "            background-color:  #fdf5fa;\n",
       "            color:  #000000;\n",
       "        }    #T_7a9342f7_1ac6_11eb_828f_a0a4c554f2a3row47_col27 {\n",
       "            background-color:  #fff7fb;\n",
       "            color:  #000000;\n",
       "        }    #T_7a9342f7_1ac6_11eb_828f_a0a4c554f2a3row47_col28 {\n",
       "            background-color:  #fef6fb;\n",
       "            color:  #000000;\n",
       "        }    #T_7a9342f7_1ac6_11eb_828f_a0a4c554f2a3row47_col29 {\n",
       "            background-color:  #fbf4f9;\n",
       "            color:  #000000;\n",
       "        }    #T_7a9342f7_1ac6_11eb_828f_a0a4c554f2a3row48_col0 {\n",
       "            background-color:  #f9f2f8;\n",
       "            color:  #000000;\n",
       "        }    #T_7a9342f7_1ac6_11eb_828f_a0a4c554f2a3row48_col1 {\n",
       "            background-color:  #f9f2f8;\n",
       "            color:  #000000;\n",
       "        }    #T_7a9342f7_1ac6_11eb_828f_a0a4c554f2a3row48_col2 {\n",
       "            background-color:  #fdf5fa;\n",
       "            color:  #000000;\n",
       "        }    #T_7a9342f7_1ac6_11eb_828f_a0a4c554f2a3row48_col3 {\n",
       "            background-color:  #f9f2f8;\n",
       "            color:  #000000;\n",
       "        }    #T_7a9342f7_1ac6_11eb_828f_a0a4c554f2a3row48_col4 {\n",
       "            background-color:  #f7f0f7;\n",
       "            color:  #000000;\n",
       "        }    #T_7a9342f7_1ac6_11eb_828f_a0a4c554f2a3row48_col5 {\n",
       "            background-color:  #eee9f3;\n",
       "            color:  #000000;\n",
       "        }    #T_7a9342f7_1ac6_11eb_828f_a0a4c554f2a3row48_col6 {\n",
       "            background-color:  #f1ebf4;\n",
       "            color:  #000000;\n",
       "        }    #T_7a9342f7_1ac6_11eb_828f_a0a4c554f2a3row48_col7 {\n",
       "            background-color:  #faf3f9;\n",
       "            color:  #000000;\n",
       "        }    #T_7a9342f7_1ac6_11eb_828f_a0a4c554f2a3row48_col8 {\n",
       "            background-color:  #faf3f9;\n",
       "            color:  #000000;\n",
       "        }    #T_7a9342f7_1ac6_11eb_828f_a0a4c554f2a3row48_col9 {\n",
       "            background-color:  #fbf3f9;\n",
       "            color:  #000000;\n",
       "        }    #T_7a9342f7_1ac6_11eb_828f_a0a4c554f2a3row48_col10 {\n",
       "            background-color:  #f2ecf5;\n",
       "            color:  #000000;\n",
       "        }    #T_7a9342f7_1ac6_11eb_828f_a0a4c554f2a3row48_col11 {\n",
       "            background-color:  #f7f0f7;\n",
       "            color:  #000000;\n",
       "        }    #T_7a9342f7_1ac6_11eb_828f_a0a4c554f2a3row48_col12 {\n",
       "            background-color:  #faf2f8;\n",
       "            color:  #000000;\n",
       "        }    #T_7a9342f7_1ac6_11eb_828f_a0a4c554f2a3row48_col13 {\n",
       "            background-color:  #fef6fa;\n",
       "            color:  #000000;\n",
       "        }    #T_7a9342f7_1ac6_11eb_828f_a0a4c554f2a3row48_col14 {\n",
       "            background-color:  #fbf3f9;\n",
       "            color:  #000000;\n",
       "        }    #T_7a9342f7_1ac6_11eb_828f_a0a4c554f2a3row48_col15 {\n",
       "            background-color:  #f5eef6;\n",
       "            color:  #000000;\n",
       "        }    #T_7a9342f7_1ac6_11eb_828f_a0a4c554f2a3row48_col16 {\n",
       "            background-color:  #faf3f9;\n",
       "            color:  #000000;\n",
       "        }    #T_7a9342f7_1ac6_11eb_828f_a0a4c554f2a3row48_col17 {\n",
       "            background-color:  #faf2f8;\n",
       "            color:  #000000;\n",
       "        }    #T_7a9342f7_1ac6_11eb_828f_a0a4c554f2a3row48_col18 {\n",
       "            background-color:  #fdf5fa;\n",
       "            color:  #000000;\n",
       "        }    #T_7a9342f7_1ac6_11eb_828f_a0a4c554f2a3row48_col19 {\n",
       "            background-color:  #fcf4fa;\n",
       "            color:  #000000;\n",
       "        }    #T_7a9342f7_1ac6_11eb_828f_a0a4c554f2a3row48_col20 {\n",
       "            background-color:  #fef6fa;\n",
       "            color:  #000000;\n",
       "        }    #T_7a9342f7_1ac6_11eb_828f_a0a4c554f2a3row48_col21 {\n",
       "            background-color:  #fbf4f9;\n",
       "            color:  #000000;\n",
       "        }    #T_7a9342f7_1ac6_11eb_828f_a0a4c554f2a3row48_col22 {\n",
       "            background-color:  #fbf4f9;\n",
       "            color:  #000000;\n",
       "        }    #T_7a9342f7_1ac6_11eb_828f_a0a4c554f2a3row48_col23 {\n",
       "            background-color:  #faf3f9;\n",
       "            color:  #000000;\n",
       "        }    #T_7a9342f7_1ac6_11eb_828f_a0a4c554f2a3row48_col24 {\n",
       "            background-color:  #faf3f9;\n",
       "            color:  #000000;\n",
       "        }    #T_7a9342f7_1ac6_11eb_828f_a0a4c554f2a3row48_col25 {\n",
       "            background-color:  #fbf4f9;\n",
       "            color:  #000000;\n",
       "        }    #T_7a9342f7_1ac6_11eb_828f_a0a4c554f2a3row48_col26 {\n",
       "            background-color:  #fdf5fa;\n",
       "            color:  #000000;\n",
       "        }    #T_7a9342f7_1ac6_11eb_828f_a0a4c554f2a3row48_col27 {\n",
       "            background-color:  #fff7fb;\n",
       "            color:  #000000;\n",
       "        }    #T_7a9342f7_1ac6_11eb_828f_a0a4c554f2a3row48_col28 {\n",
       "            background-color:  #fff7fb;\n",
       "            color:  #000000;\n",
       "        }    #T_7a9342f7_1ac6_11eb_828f_a0a4c554f2a3row48_col29 {\n",
       "            background-color:  #dedcec;\n",
       "            color:  #000000;\n",
       "        }    #T_7a9342f7_1ac6_11eb_828f_a0a4c554f2a3row49_col0 {\n",
       "            background-color:  #fff7fb;\n",
       "            color:  #000000;\n",
       "        }    #T_7a9342f7_1ac6_11eb_828f_a0a4c554f2a3row49_col1 {\n",
       "            background-color:  #f8f1f8;\n",
       "            color:  #000000;\n",
       "        }    #T_7a9342f7_1ac6_11eb_828f_a0a4c554f2a3row49_col2 {\n",
       "            background-color:  #f3edf5;\n",
       "            color:  #000000;\n",
       "        }    #T_7a9342f7_1ac6_11eb_828f_a0a4c554f2a3row49_col3 {\n",
       "            background-color:  #f1ebf5;\n",
       "            color:  #000000;\n",
       "        }    #T_7a9342f7_1ac6_11eb_828f_a0a4c554f2a3row49_col4 {\n",
       "            background-color:  #f6eff7;\n",
       "            color:  #000000;\n",
       "        }    #T_7a9342f7_1ac6_11eb_828f_a0a4c554f2a3row49_col5 {\n",
       "            background-color:  #f5eff6;\n",
       "            color:  #000000;\n",
       "        }    #T_7a9342f7_1ac6_11eb_828f_a0a4c554f2a3row49_col6 {\n",
       "            background-color:  #fbf4f9;\n",
       "            color:  #000000;\n",
       "        }    #T_7a9342f7_1ac6_11eb_828f_a0a4c554f2a3row49_col7 {\n",
       "            background-color:  #fff7fb;\n",
       "            color:  #000000;\n",
       "        }    #T_7a9342f7_1ac6_11eb_828f_a0a4c554f2a3row49_col8 {\n",
       "            background-color:  #fef6fb;\n",
       "            color:  #000000;\n",
       "        }    #T_7a9342f7_1ac6_11eb_828f_a0a4c554f2a3row49_col9 {\n",
       "            background-color:  #fef6fa;\n",
       "            color:  #000000;\n",
       "        }    #T_7a9342f7_1ac6_11eb_828f_a0a4c554f2a3row49_col10 {\n",
       "            background-color:  #faf2f8;\n",
       "            color:  #000000;\n",
       "        }    #T_7a9342f7_1ac6_11eb_828f_a0a4c554f2a3row49_col11 {\n",
       "            background-color:  #fef6fa;\n",
       "            color:  #000000;\n",
       "        }    #T_7a9342f7_1ac6_11eb_828f_a0a4c554f2a3row49_col12 {\n",
       "            background-color:  #fef6fa;\n",
       "            color:  #000000;\n",
       "        }    #T_7a9342f7_1ac6_11eb_828f_a0a4c554f2a3row49_col13 {\n",
       "            background-color:  #fff7fb;\n",
       "            color:  #000000;\n",
       "        }    #T_7a9342f7_1ac6_11eb_828f_a0a4c554f2a3row49_col14 {\n",
       "            background-color:  #faf3f9;\n",
       "            color:  #000000;\n",
       "        }    #T_7a9342f7_1ac6_11eb_828f_a0a4c554f2a3row49_col15 {\n",
       "            background-color:  #faf3f9;\n",
       "            color:  #000000;\n",
       "        }    #T_7a9342f7_1ac6_11eb_828f_a0a4c554f2a3row49_col16 {\n",
       "            background-color:  #fdf5fa;\n",
       "            color:  #000000;\n",
       "        }    #T_7a9342f7_1ac6_11eb_828f_a0a4c554f2a3row49_col17 {\n",
       "            background-color:  #fbf4f9;\n",
       "            color:  #000000;\n",
       "        }    #T_7a9342f7_1ac6_11eb_828f_a0a4c554f2a3row49_col18 {\n",
       "            background-color:  #fdf5fa;\n",
       "            color:  #000000;\n",
       "        }    #T_7a9342f7_1ac6_11eb_828f_a0a4c554f2a3row49_col19 {\n",
       "            background-color:  #fcf4fa;\n",
       "            color:  #000000;\n",
       "        }    #T_7a9342f7_1ac6_11eb_828f_a0a4c554f2a3row49_col20 {\n",
       "            background-color:  #fcf4fa;\n",
       "            color:  #000000;\n",
       "        }    #T_7a9342f7_1ac6_11eb_828f_a0a4c554f2a3row49_col21 {\n",
       "            background-color:  #fdf5fa;\n",
       "            color:  #000000;\n",
       "        }    #T_7a9342f7_1ac6_11eb_828f_a0a4c554f2a3row49_col22 {\n",
       "            background-color:  #fcf4fa;\n",
       "            color:  #000000;\n",
       "        }    #T_7a9342f7_1ac6_11eb_828f_a0a4c554f2a3row49_col23 {\n",
       "            background-color:  #fcf4fa;\n",
       "            color:  #000000;\n",
       "        }    #T_7a9342f7_1ac6_11eb_828f_a0a4c554f2a3row49_col24 {\n",
       "            background-color:  #fcf4fa;\n",
       "            color:  #000000;\n",
       "        }    #T_7a9342f7_1ac6_11eb_828f_a0a4c554f2a3row49_col25 {\n",
       "            background-color:  #fcf4fa;\n",
       "            color:  #000000;\n",
       "        }    #T_7a9342f7_1ac6_11eb_828f_a0a4c554f2a3row49_col26 {\n",
       "            background-color:  #fcf4fa;\n",
       "            color:  #000000;\n",
       "        }    #T_7a9342f7_1ac6_11eb_828f_a0a4c554f2a3row49_col27 {\n",
       "            background-color:  #fef6fb;\n",
       "            color:  #000000;\n",
       "        }    #T_7a9342f7_1ac6_11eb_828f_a0a4c554f2a3row49_col28 {\n",
       "            background-color:  #fff7fb;\n",
       "            color:  #000000;\n",
       "        }    #T_7a9342f7_1ac6_11eb_828f_a0a4c554f2a3row49_col29 {\n",
       "            background-color:  #fef6fa;\n",
       "            color:  #000000;\n",
       "        }</style><table id=\"T_7a9342f7_1ac6_11eb_828f_a0a4c554f2a3\" ><thead>    <tr>        <th class=\"blank level0\" ></th>        <th class=\"col_heading level0 col0\" >NBkilder_Amundsen_Slededagbok.xml</th>        <th class=\"col_heading level0 col1\" >NBkilder_Collett_Brev_1841-51.xml</th>        <th class=\"col_heading level0 col2\" >NBkilder_Collett_Brev_1852-63.xml</th>        <th class=\"col_heading level0 col3\" >NBkilder_Collett_Brev_til_Bjornson.xml</th>        <th class=\"col_heading level0 col4\" >NBkilder_Collett_Brev_til_Ibsen.xml</th>        <th class=\"col_heading level0 col5\" >NBkilder_Collett_Brev_til_Lie.xml</th>        <th class=\"col_heading level0 col6\" >NBkilder_Collett_Skildpadde.xml</th>        <th class=\"col_heading level0 col7\" >NBkilder_Dardel_Voyage.xml</th>        <th class=\"col_heading level0 col8\" >NBkilder_Grunnlovskilder1814.xml</th>        <th class=\"col_heading level0 col9\" >NBkilder_Kjerulf_1833.xml</th>        <th class=\"col_heading level0 col10\" >NBkilder_Kjerulf_1840.xml</th>        <th class=\"col_heading level0 col11\" >NBkilder_Kjerulf_1850.xml</th>        <th class=\"col_heading level0 col12\" >NBkilder_Kjerulf_1851.xml</th>        <th class=\"col_heading level0 col13\" >NBkilder_Kjerulf_1852.xml</th>        <th class=\"col_heading level0 col14\" >NBkilder_Kjerulf_1854.xml</th>        <th class=\"col_heading level0 col15\" >NBkilder_KKielland_AGarborg_brev.xml</th>        <th class=\"col_heading level0 col16\" >NBkilder_KKielland_DSkavlan_brev.xml</th>        <th class=\"col_heading level0 col17\" >NBkilder_KKielland_EPeterssen_brev.xml</th>        <th class=\"col_heading level0 col18\" >NBkilder_Koren_1798.xml</th>        <th class=\"col_heading level0 col19\" >NBkilder_Koren_1802.xml</th>        <th class=\"col_heading level0 col20\" >NBkilder_Koren_1805.xml</th>        <th class=\"col_heading level0 col21\" >NBkilder_Koren_1808.xml</th>        <th class=\"col_heading level0 col22\" >NBkilder_Koren_1809.xml</th>        <th class=\"col_heading level0 col23\" >NBkilder_Koren_1810.xml</th>        <th class=\"col_heading level0 col24\" >NBkilder_Koren_1811.xml</th>        <th class=\"col_heading level0 col25\" >NBkilder_Koren_1812.xml</th>        <th class=\"col_heading level0 col26\" >NBkilder_Koren_1813.xml</th>        <th class=\"col_heading level0 col27\" >NBkilder_Koren_1814.xml</th>        <th class=\"col_heading level0 col28\" >NBkilder_Koren_1815.xml</th>        <th class=\"col_heading level0 col29\" >NBkilder_Undset_Fragmenter.xml</th>    </tr></thead><tbody>\n",
       "                <tr>\n",
       "                        <th id=\"T_7a9342f7_1ac6_11eb_828f_a0a4c554f2a3level0_row0\" class=\"row_heading level0 row0\" >,</th>\n",
       "                        <td id=\"T_7a9342f7_1ac6_11eb_828f_a0a4c554f2a3row0_col0\" class=\"data row0 col0\" >590.000000</td>\n",
       "                        <td id=\"T_7a9342f7_1ac6_11eb_828f_a0a4c554f2a3row0_col1\" class=\"data row0 col1\" >1849.000000</td>\n",
       "                        <td id=\"T_7a9342f7_1ac6_11eb_828f_a0a4c554f2a3row0_col2\" class=\"data row0 col2\" >4098.000000</td>\n",
       "                        <td id=\"T_7a9342f7_1ac6_11eb_828f_a0a4c554f2a3row0_col3\" class=\"data row0 col3\" >143.000000</td>\n",
       "                        <td id=\"T_7a9342f7_1ac6_11eb_828f_a0a4c554f2a3row0_col4\" class=\"data row0 col4\" >723.000000</td>\n",
       "                        <td id=\"T_7a9342f7_1ac6_11eb_828f_a0a4c554f2a3row0_col5\" class=\"data row0 col5\" >749.000000</td>\n",
       "                        <td id=\"T_7a9342f7_1ac6_11eb_828f_a0a4c554f2a3row0_col6\" class=\"data row0 col6\" >767.000000</td>\n",
       "                        <td id=\"T_7a9342f7_1ac6_11eb_828f_a0a4c554f2a3row0_col7\" class=\"data row0 col7\" >3820.000000</td>\n",
       "                        <td id=\"T_7a9342f7_1ac6_11eb_828f_a0a4c554f2a3row0_col8\" class=\"data row0 col8\" >886.000000</td>\n",
       "                        <td id=\"T_7a9342f7_1ac6_11eb_828f_a0a4c554f2a3row0_col9\" class=\"data row0 col9\" >133.000000</td>\n",
       "                        <td id=\"T_7a9342f7_1ac6_11eb_828f_a0a4c554f2a3row0_col10\" class=\"data row0 col10\" >475.000000</td>\n",
       "                        <td id=\"T_7a9342f7_1ac6_11eb_828f_a0a4c554f2a3row0_col11\" class=\"data row0 col11\" >1414.000000</td>\n",
       "                        <td id=\"T_7a9342f7_1ac6_11eb_828f_a0a4c554f2a3row0_col12\" class=\"data row0 col12\" >595.000000</td>\n",
       "                        <td id=\"T_7a9342f7_1ac6_11eb_828f_a0a4c554f2a3row0_col13\" class=\"data row0 col13\" >130.000000</td>\n",
       "                        <td id=\"T_7a9342f7_1ac6_11eb_828f_a0a4c554f2a3row0_col14\" class=\"data row0 col14\" >186.000000</td>\n",
       "                        <td id=\"T_7a9342f7_1ac6_11eb_828f_a0a4c554f2a3row0_col15\" class=\"data row0 col15\" >3285.000000</td>\n",
       "                        <td id=\"T_7a9342f7_1ac6_11eb_828f_a0a4c554f2a3row0_col16\" class=\"data row0 col16\" >1732.000000</td>\n",
       "                        <td id=\"T_7a9342f7_1ac6_11eb_828f_a0a4c554f2a3row0_col17\" class=\"data row0 col17\" >3062.000000</td>\n",
       "                        <td id=\"T_7a9342f7_1ac6_11eb_828f_a0a4c554f2a3row0_col18\" class=\"data row0 col18\" >586.000000</td>\n",
       "                        <td id=\"T_7a9342f7_1ac6_11eb_828f_a0a4c554f2a3row0_col19\" class=\"data row0 col19\" >5876.000000</td>\n",
       "                        <td id=\"T_7a9342f7_1ac6_11eb_828f_a0a4c554f2a3row0_col20\" class=\"data row0 col20\" >457.000000</td>\n",
       "                        <td id=\"T_7a9342f7_1ac6_11eb_828f_a0a4c554f2a3row0_col21\" class=\"data row0 col21\" >10101.000000</td>\n",
       "                        <td id=\"T_7a9342f7_1ac6_11eb_828f_a0a4c554f2a3row0_col22\" class=\"data row0 col22\" >10002.000000</td>\n",
       "                        <td id=\"T_7a9342f7_1ac6_11eb_828f_a0a4c554f2a3row0_col23\" class=\"data row0 col23\" >12681.000000</td>\n",
       "                        <td id=\"T_7a9342f7_1ac6_11eb_828f_a0a4c554f2a3row0_col24\" class=\"data row0 col24\" >12024.000000</td>\n",
       "                        <td id=\"T_7a9342f7_1ac6_11eb_828f_a0a4c554f2a3row0_col25\" class=\"data row0 col25\" >15671.000000</td>\n",
       "                        <td id=\"T_7a9342f7_1ac6_11eb_828f_a0a4c554f2a3row0_col26\" class=\"data row0 col26\" >13109.000000</td>\n",
       "                        <td id=\"T_7a9342f7_1ac6_11eb_828f_a0a4c554f2a3row0_col27\" class=\"data row0 col27\" >3563.000000</td>\n",
       "                        <td id=\"T_7a9342f7_1ac6_11eb_828f_a0a4c554f2a3row0_col28\" class=\"data row0 col28\" >412.000000</td>\n",
       "                        <td id=\"T_7a9342f7_1ac6_11eb_828f_a0a4c554f2a3row0_col29\" class=\"data row0 col29\" >610.000000</td>\n",
       "            </tr>\n",
       "            <tr>\n",
       "                        <th id=\"T_7a9342f7_1ac6_11eb_828f_a0a4c554f2a3level0_row1\" class=\"row_heading level0 row1\" >og</th>\n",
       "                        <td id=\"T_7a9342f7_1ac6_11eb_828f_a0a4c554f2a3row1_col0\" class=\"data row1 col0\" >119.000000</td>\n",
       "                        <td id=\"T_7a9342f7_1ac6_11eb_828f_a0a4c554f2a3row1_col1\" class=\"data row1 col1\" >957.000000</td>\n",
       "                        <td id=\"T_7a9342f7_1ac6_11eb_828f_a0a4c554f2a3row1_col2\" class=\"data row1 col2\" >1922.000000</td>\n",
       "                        <td id=\"T_7a9342f7_1ac6_11eb_828f_a0a4c554f2a3row1_col3\" class=\"data row1 col3\" >49.000000</td>\n",
       "                        <td id=\"T_7a9342f7_1ac6_11eb_828f_a0a4c554f2a3row1_col4\" class=\"data row1 col4\" >256.000000</td>\n",
       "                        <td id=\"T_7a9342f7_1ac6_11eb_828f_a0a4c554f2a3row1_col5\" class=\"data row1 col5\" >237.000000</td>\n",
       "                        <td id=\"T_7a9342f7_1ac6_11eb_828f_a0a4c554f2a3row1_col6\" class=\"data row1 col6\" >461.000000</td>\n",
       "                        <td id=\"T_7a9342f7_1ac6_11eb_828f_a0a4c554f2a3row1_col7\" class=\"data row1 col7\" >1263.000000</td>\n",
       "                        <td id=\"T_7a9342f7_1ac6_11eb_828f_a0a4c554f2a3row1_col8\" class=\"data row1 col8\" >510.000000</td>\n",
       "                        <td id=\"T_7a9342f7_1ac6_11eb_828f_a0a4c554f2a3row1_col9\" class=\"data row1 col9\" >52.000000</td>\n",
       "                        <td id=\"T_7a9342f7_1ac6_11eb_828f_a0a4c554f2a3row1_col10\" class=\"data row1 col10\" >688.000000</td>\n",
       "                        <td id=\"T_7a9342f7_1ac6_11eb_828f_a0a4c554f2a3row1_col11\" class=\"data row1 col11\" >2042.000000</td>\n",
       "                        <td id=\"T_7a9342f7_1ac6_11eb_828f_a0a4c554f2a3row1_col12\" class=\"data row1 col12\" >976.000000</td>\n",
       "                        <td id=\"T_7a9342f7_1ac6_11eb_828f_a0a4c554f2a3row1_col13\" class=\"data row1 col13\" >257.000000</td>\n",
       "                        <td id=\"T_7a9342f7_1ac6_11eb_828f_a0a4c554f2a3row1_col14\" class=\"data row1 col14\" >457.000000</td>\n",
       "                        <td id=\"T_7a9342f7_1ac6_11eb_828f_a0a4c554f2a3row1_col15\" class=\"data row1 col15\" >963.000000</td>\n",
       "                        <td id=\"T_7a9342f7_1ac6_11eb_828f_a0a4c554f2a3row1_col16\" class=\"data row1 col16\" >539.000000</td>\n",
       "                        <td id=\"T_7a9342f7_1ac6_11eb_828f_a0a4c554f2a3row1_col17\" class=\"data row1 col17\" >800.000000</td>\n",
       "                        <td id=\"T_7a9342f7_1ac6_11eb_828f_a0a4c554f2a3row1_col18\" class=\"data row1 col18\" >252.000000</td>\n",
       "                        <td id=\"T_7a9342f7_1ac6_11eb_828f_a0a4c554f2a3row1_col19\" class=\"data row1 col19\" >1800.000000</td>\n",
       "                        <td id=\"T_7a9342f7_1ac6_11eb_828f_a0a4c554f2a3row1_col20\" class=\"data row1 col20\" >159.000000</td>\n",
       "                        <td id=\"T_7a9342f7_1ac6_11eb_828f_a0a4c554f2a3row1_col21\" class=\"data row1 col21\" >3443.000000</td>\n",
       "                        <td id=\"T_7a9342f7_1ac6_11eb_828f_a0a4c554f2a3row1_col22\" class=\"data row1 col22\" >3782.000000</td>\n",
       "                        <td id=\"T_7a9342f7_1ac6_11eb_828f_a0a4c554f2a3row1_col23\" class=\"data row1 col23\" >5196.000000</td>\n",
       "                        <td id=\"T_7a9342f7_1ac6_11eb_828f_a0a4c554f2a3row1_col24\" class=\"data row1 col24\" >5486.000000</td>\n",
       "                        <td id=\"T_7a9342f7_1ac6_11eb_828f_a0a4c554f2a3row1_col25\" class=\"data row1 col25\" >6633.000000</td>\n",
       "                        <td id=\"T_7a9342f7_1ac6_11eb_828f_a0a4c554f2a3row1_col26\" class=\"data row1 col26\" >5731.000000</td>\n",
       "                        <td id=\"T_7a9342f7_1ac6_11eb_828f_a0a4c554f2a3row1_col27\" class=\"data row1 col27\" >1318.000000</td>\n",
       "                        <td id=\"T_7a9342f7_1ac6_11eb_828f_a0a4c554f2a3row1_col28\" class=\"data row1 col28\" >158.000000</td>\n",
       "                        <td id=\"T_7a9342f7_1ac6_11eb_828f_a0a4c554f2a3row1_col29\" class=\"data row1 col29\" >328.000000</td>\n",
       "            </tr>\n",
       "            <tr>\n",
       "                        <th id=\"T_7a9342f7_1ac6_11eb_828f_a0a4c554f2a3level0_row2\" class=\"row_heading level0 row2\" >.</th>\n",
       "                        <td id=\"T_7a9342f7_1ac6_11eb_828f_a0a4c554f2a3row2_col0\" class=\"data row2 col0\" >2439.000000</td>\n",
       "                        <td id=\"T_7a9342f7_1ac6_11eb_828f_a0a4c554f2a3row2_col1\" class=\"data row2 col1\" >1469.000000</td>\n",
       "                        <td id=\"T_7a9342f7_1ac6_11eb_828f_a0a4c554f2a3row2_col2\" class=\"data row2 col2\" >2538.000000</td>\n",
       "                        <td id=\"T_7a9342f7_1ac6_11eb_828f_a0a4c554f2a3row2_col3\" class=\"data row2 col3\" >99.000000</td>\n",
       "                        <td id=\"T_7a9342f7_1ac6_11eb_828f_a0a4c554f2a3row2_col4\" class=\"data row2 col4\" >523.000000</td>\n",
       "                        <td id=\"T_7a9342f7_1ac6_11eb_828f_a0a4c554f2a3row2_col5\" class=\"data row2 col5\" >475.000000</td>\n",
       "                        <td id=\"T_7a9342f7_1ac6_11eb_828f_a0a4c554f2a3row2_col6\" class=\"data row2 col6\" >484.000000</td>\n",
       "                        <td id=\"T_7a9342f7_1ac6_11eb_828f_a0a4c554f2a3row2_col7\" class=\"data row2 col7\" >2691.000000</td>\n",
       "                        <td id=\"T_7a9342f7_1ac6_11eb_828f_a0a4c554f2a3row2_col8\" class=\"data row2 col8\" >873.000000</td>\n",
       "                        <td id=\"T_7a9342f7_1ac6_11eb_828f_a0a4c554f2a3row2_col9\" class=\"data row2 col9\" >245.000000</td>\n",
       "                        <td id=\"T_7a9342f7_1ac6_11eb_828f_a0a4c554f2a3row2_col10\" class=\"data row2 col10\" >515.000000</td>\n",
       "                        <td id=\"T_7a9342f7_1ac6_11eb_828f_a0a4c554f2a3row2_col11\" class=\"data row2 col11\" >5443.000000</td>\n",
       "                        <td id=\"T_7a9342f7_1ac6_11eb_828f_a0a4c554f2a3row2_col12\" class=\"data row2 col12\" >2607.000000</td>\n",
       "                        <td id=\"T_7a9342f7_1ac6_11eb_828f_a0a4c554f2a3row2_col13\" class=\"data row2 col13\" >1733.000000</td>\n",
       "                        <td id=\"T_7a9342f7_1ac6_11eb_828f_a0a4c554f2a3row2_col14\" class=\"data row2 col14\" >1180.000000</td>\n",
       "                        <td id=\"T_7a9342f7_1ac6_11eb_828f_a0a4c554f2a3row2_col15\" class=\"data row2 col15\" >1824.000000</td>\n",
       "                        <td id=\"T_7a9342f7_1ac6_11eb_828f_a0a4c554f2a3row2_col16\" class=\"data row2 col16\" >877.000000</td>\n",
       "                        <td id=\"T_7a9342f7_1ac6_11eb_828f_a0a4c554f2a3row2_col17\" class=\"data row2 col17\" >1582.000000</td>\n",
       "                        <td id=\"T_7a9342f7_1ac6_11eb_828f_a0a4c554f2a3row2_col18\" class=\"data row2 col18\" >257.000000</td>\n",
       "                        <td id=\"T_7a9342f7_1ac6_11eb_828f_a0a4c554f2a3row2_col19\" class=\"data row2 col19\" >2212.000000</td>\n",
       "                        <td id=\"T_7a9342f7_1ac6_11eb_828f_a0a4c554f2a3row2_col20\" class=\"data row2 col20\" >156.000000</td>\n",
       "                        <td id=\"T_7a9342f7_1ac6_11eb_828f_a0a4c554f2a3row2_col21\" class=\"data row2 col21\" >3712.000000</td>\n",
       "                        <td id=\"T_7a9342f7_1ac6_11eb_828f_a0a4c554f2a3row2_col22\" class=\"data row2 col22\" >3364.000000</td>\n",
       "                        <td id=\"T_7a9342f7_1ac6_11eb_828f_a0a4c554f2a3row2_col23\" class=\"data row2 col23\" >5106.000000</td>\n",
       "                        <td id=\"T_7a9342f7_1ac6_11eb_828f_a0a4c554f2a3row2_col24\" class=\"data row2 col24\" >4263.000000</td>\n",
       "                        <td id=\"T_7a9342f7_1ac6_11eb_828f_a0a4c554f2a3row2_col25\" class=\"data row2 col25\" >5713.000000</td>\n",
       "                        <td id=\"T_7a9342f7_1ac6_11eb_828f_a0a4c554f2a3row2_col26\" class=\"data row2 col26\" >5575.000000</td>\n",
       "                        <td id=\"T_7a9342f7_1ac6_11eb_828f_a0a4c554f2a3row2_col27\" class=\"data row2 col27\" >1539.000000</td>\n",
       "                        <td id=\"T_7a9342f7_1ac6_11eb_828f_a0a4c554f2a3row2_col28\" class=\"data row2 col28\" >127.000000</td>\n",
       "                        <td id=\"T_7a9342f7_1ac6_11eb_828f_a0a4c554f2a3row2_col29\" class=\"data row2 col29\" >464.000000</td>\n",
       "            </tr>\n",
       "            <tr>\n",
       "                        <th id=\"T_7a9342f7_1ac6_11eb_828f_a0a4c554f2a3level0_row3\" class=\"row_heading level0 row3\" >jeg</th>\n",
       "                        <td id=\"T_7a9342f7_1ac6_11eb_828f_a0a4c554f2a3row3_col0\" class=\"data row3 col0\" >1.000000</td>\n",
       "                        <td id=\"T_7a9342f7_1ac6_11eb_828f_a0a4c554f2a3row3_col1\" class=\"data row3 col1\" >952.000000</td>\n",
       "                        <td id=\"T_7a9342f7_1ac6_11eb_828f_a0a4c554f2a3row3_col2\" class=\"data row3 col2\" >1568.000000</td>\n",
       "                        <td id=\"T_7a9342f7_1ac6_11eb_828f_a0a4c554f2a3row3_col3\" class=\"data row3 col3\" >68.000000</td>\n",
       "                        <td id=\"T_7a9342f7_1ac6_11eb_828f_a0a4c554f2a3row3_col4\" class=\"data row3 col4\" >302.000000</td>\n",
       "                        <td id=\"T_7a9342f7_1ac6_11eb_828f_a0a4c554f2a3row3_col5\" class=\"data row3 col5\" >254.000000</td>\n",
       "                        <td id=\"T_7a9342f7_1ac6_11eb_828f_a0a4c554f2a3row3_col6\" class=\"data row3 col6\" >361.000000</td>\n",
       "                        <td id=\"T_7a9342f7_1ac6_11eb_828f_a0a4c554f2a3row3_col7\" class=\"data row3 col7\" >226.000000</td>\n",
       "                        <td id=\"T_7a9342f7_1ac6_11eb_828f_a0a4c554f2a3row3_col8\" class=\"data row3 col8\" >3.000000</td>\n",
       "                        <td id=\"T_7a9342f7_1ac6_11eb_828f_a0a4c554f2a3row3_col9\" class=\"data row3 col9\" >6.000000</td>\n",
       "                        <td id=\"T_7a9342f7_1ac6_11eb_828f_a0a4c554f2a3row3_col10\" class=\"data row3 col10\" >236.000000</td>\n",
       "                        <td id=\"T_7a9342f7_1ac6_11eb_828f_a0a4c554f2a3row3_col11\" class=\"data row3 col11\" >229.000000</td>\n",
       "                        <td id=\"T_7a9342f7_1ac6_11eb_828f_a0a4c554f2a3row3_col12\" class=\"data row3 col12\" >150.000000</td>\n",
       "                        <td id=\"T_7a9342f7_1ac6_11eb_828f_a0a4c554f2a3row3_col13\" class=\"data row3 col13\" >17.000000</td>\n",
       "                        <td id=\"T_7a9342f7_1ac6_11eb_828f_a0a4c554f2a3row3_col14\" class=\"data row3 col14\" >52.000000</td>\n",
       "                        <td id=\"T_7a9342f7_1ac6_11eb_828f_a0a4c554f2a3row3_col15\" class=\"data row3 col15\" >1161.000000</td>\n",
       "                        <td id=\"T_7a9342f7_1ac6_11eb_828f_a0a4c554f2a3row3_col16\" class=\"data row3 col16\" >412.000000</td>\n",
       "                        <td id=\"T_7a9342f7_1ac6_11eb_828f_a0a4c554f2a3row3_col17\" class=\"data row3 col17\" >847.000000</td>\n",
       "                        <td id=\"T_7a9342f7_1ac6_11eb_828f_a0a4c554f2a3row3_col18\" class=\"data row3 col18\" >0.000000</td>\n",
       "                        <td id=\"T_7a9342f7_1ac6_11eb_828f_a0a4c554f2a3row3_col19\" class=\"data row3 col19\" >1550.000000</td>\n",
       "                        <td id=\"T_7a9342f7_1ac6_11eb_828f_a0a4c554f2a3row3_col20\" class=\"data row3 col20\" >57.000000</td>\n",
       "                        <td id=\"T_7a9342f7_1ac6_11eb_828f_a0a4c554f2a3row3_col21\" class=\"data row3 col21\" >1787.000000</td>\n",
       "                        <td id=\"T_7a9342f7_1ac6_11eb_828f_a0a4c554f2a3row3_col22\" class=\"data row3 col22\" >1806.000000</td>\n",
       "                        <td id=\"T_7a9342f7_1ac6_11eb_828f_a0a4c554f2a3row3_col23\" class=\"data row3 col23\" >2687.000000</td>\n",
       "                        <td id=\"T_7a9342f7_1ac6_11eb_828f_a0a4c554f2a3row3_col24\" class=\"data row3 col24\" >2970.000000</td>\n",
       "                        <td id=\"T_7a9342f7_1ac6_11eb_828f_a0a4c554f2a3row3_col25\" class=\"data row3 col25\" >3707.000000</td>\n",
       "                        <td id=\"T_7a9342f7_1ac6_11eb_828f_a0a4c554f2a3row3_col26\" class=\"data row3 col26\" >3165.000000</td>\n",
       "                        <td id=\"T_7a9342f7_1ac6_11eb_828f_a0a4c554f2a3row3_col27\" class=\"data row3 col27\" >744.000000</td>\n",
       "                        <td id=\"T_7a9342f7_1ac6_11eb_828f_a0a4c554f2a3row3_col28\" class=\"data row3 col28\" >108.000000</td>\n",
       "                        <td id=\"T_7a9342f7_1ac6_11eb_828f_a0a4c554f2a3row3_col29\" class=\"data row3 col29\" >140.000000</td>\n",
       "            </tr>\n",
       "            <tr>\n",
       "                        <th id=\"T_7a9342f7_1ac6_11eb_828f_a0a4c554f2a3level0_row4\" class=\"row_heading level0 row4\" >at</th>\n",
       "                        <td id=\"T_7a9342f7_1ac6_11eb_828f_a0a4c554f2a3row4_col0\" class=\"data row4 col0\" >67.000000</td>\n",
       "                        <td id=\"T_7a9342f7_1ac6_11eb_828f_a0a4c554f2a3row4_col1\" class=\"data row4 col1\" >761.000000</td>\n",
       "                        <td id=\"T_7a9342f7_1ac6_11eb_828f_a0a4c554f2a3row4_col2\" class=\"data row4 col2\" >1445.000000</td>\n",
       "                        <td id=\"T_7a9342f7_1ac6_11eb_828f_a0a4c554f2a3row4_col3\" class=\"data row4 col3\" >74.000000</td>\n",
       "                        <td id=\"T_7a9342f7_1ac6_11eb_828f_a0a4c554f2a3row4_col4\" class=\"data row4 col4\" >275.000000</td>\n",
       "                        <td id=\"T_7a9342f7_1ac6_11eb_828f_a0a4c554f2a3row4_col5\" class=\"data row4 col5\" >247.000000</td>\n",
       "                        <td id=\"T_7a9342f7_1ac6_11eb_828f_a0a4c554f2a3row4_col6\" class=\"data row4 col6\" >366.000000</td>\n",
       "                        <td id=\"T_7a9342f7_1ac6_11eb_828f_a0a4c554f2a3row4_col7\" class=\"data row4 col7\" >220.000000</td>\n",
       "                        <td id=\"T_7a9342f7_1ac6_11eb_828f_a0a4c554f2a3row4_col8\" class=\"data row4 col8\" >255.000000</td>\n",
       "                        <td id=\"T_7a9342f7_1ac6_11eb_828f_a0a4c554f2a3row4_col9\" class=\"data row4 col9\" >23.000000</td>\n",
       "                        <td id=\"T_7a9342f7_1ac6_11eb_828f_a0a4c554f2a3row4_col10\" class=\"data row4 col10\" >140.000000</td>\n",
       "                        <td id=\"T_7a9342f7_1ac6_11eb_828f_a0a4c554f2a3row4_col11\" class=\"data row4 col11\" >418.000000</td>\n",
       "                        <td id=\"T_7a9342f7_1ac6_11eb_828f_a0a4c554f2a3row4_col12\" class=\"data row4 col12\" >234.000000</td>\n",
       "                        <td id=\"T_7a9342f7_1ac6_11eb_828f_a0a4c554f2a3row4_col13\" class=\"data row4 col13\" >21.000000</td>\n",
       "                        <td id=\"T_7a9342f7_1ac6_11eb_828f_a0a4c554f2a3row4_col14\" class=\"data row4 col14\" >174.000000</td>\n",
       "                        <td id=\"T_7a9342f7_1ac6_11eb_828f_a0a4c554f2a3row4_col15\" class=\"data row4 col15\" >1112.000000</td>\n",
       "                        <td id=\"T_7a9342f7_1ac6_11eb_828f_a0a4c554f2a3row4_col16\" class=\"data row4 col16\" >394.000000</td>\n",
       "                        <td id=\"T_7a9342f7_1ac6_11eb_828f_a0a4c554f2a3row4_col17\" class=\"data row4 col17\" >873.000000</td>\n",
       "                        <td id=\"T_7a9342f7_1ac6_11eb_828f_a0a4c554f2a3row4_col18\" class=\"data row4 col18\" >150.000000</td>\n",
       "                        <td id=\"T_7a9342f7_1ac6_11eb_828f_a0a4c554f2a3row4_col19\" class=\"data row4 col19\" >884.000000</td>\n",
       "                        <td id=\"T_7a9342f7_1ac6_11eb_828f_a0a4c554f2a3row4_col20\" class=\"data row4 col20\" >61.000000</td>\n",
       "                        <td id=\"T_7a9342f7_1ac6_11eb_828f_a0a4c554f2a3row4_col21\" class=\"data row4 col21\" >1525.000000</td>\n",
       "                        <td id=\"T_7a9342f7_1ac6_11eb_828f_a0a4c554f2a3row4_col22\" class=\"data row4 col22\" >1353.000000</td>\n",
       "                        <td id=\"T_7a9342f7_1ac6_11eb_828f_a0a4c554f2a3row4_col23\" class=\"data row4 col23\" >1997.000000</td>\n",
       "                        <td id=\"T_7a9342f7_1ac6_11eb_828f_a0a4c554f2a3row4_col24\" class=\"data row4 col24\" >2023.000000</td>\n",
       "                        <td id=\"T_7a9342f7_1ac6_11eb_828f_a0a4c554f2a3row4_col25\" class=\"data row4 col25\" >2718.000000</td>\n",
       "                        <td id=\"T_7a9342f7_1ac6_11eb_828f_a0a4c554f2a3row4_col26\" class=\"data row4 col26\" >2297.000000</td>\n",
       "                        <td id=\"T_7a9342f7_1ac6_11eb_828f_a0a4c554f2a3row4_col27\" class=\"data row4 col27\" >627.000000</td>\n",
       "                        <td id=\"T_7a9342f7_1ac6_11eb_828f_a0a4c554f2a3row4_col28\" class=\"data row4 col28\" >78.000000</td>\n",
       "                        <td id=\"T_7a9342f7_1ac6_11eb_828f_a0a4c554f2a3row4_col29\" class=\"data row4 col29\" >114.000000</td>\n",
       "            </tr>\n",
       "            <tr>\n",
       "                        <th id=\"T_7a9342f7_1ac6_11eb_828f_a0a4c554f2a3level0_row5\" class=\"row_heading level0 row5\" >det</th>\n",
       "                        <td id=\"T_7a9342f7_1ac6_11eb_828f_a0a4c554f2a3row5_col0\" class=\"data row5 col0\" >74.000000</td>\n",
       "                        <td id=\"T_7a9342f7_1ac6_11eb_828f_a0a4c554f2a3row5_col1\" class=\"data row5 col1\" >611.000000</td>\n",
       "                        <td id=\"T_7a9342f7_1ac6_11eb_828f_a0a4c554f2a3row5_col2\" class=\"data row5 col2\" >1094.000000</td>\n",
       "                        <td id=\"T_7a9342f7_1ac6_11eb_828f_a0a4c554f2a3row5_col3\" class=\"data row5 col3\" >35.000000</td>\n",
       "                        <td id=\"T_7a9342f7_1ac6_11eb_828f_a0a4c554f2a3row5_col4\" class=\"data row5 col4\" >216.000000</td>\n",
       "                        <td id=\"T_7a9342f7_1ac6_11eb_828f_a0a4c554f2a3row5_col5\" class=\"data row5 col5\" >239.000000</td>\n",
       "                        <td id=\"T_7a9342f7_1ac6_11eb_828f_a0a4c554f2a3row5_col6\" class=\"data row5 col6\" >252.000000</td>\n",
       "                        <td id=\"T_7a9342f7_1ac6_11eb_828f_a0a4c554f2a3row5_col7\" class=\"data row5 col7\" >310.000000</td>\n",
       "                        <td id=\"T_7a9342f7_1ac6_11eb_828f_a0a4c554f2a3row5_col8\" class=\"data row5 col8\" >112.000000</td>\n",
       "                        <td id=\"T_7a9342f7_1ac6_11eb_828f_a0a4c554f2a3row5_col9\" class=\"data row5 col9\" >11.000000</td>\n",
       "                        <td id=\"T_7a9342f7_1ac6_11eb_828f_a0a4c554f2a3row5_col10\" class=\"data row5 col10\" >180.000000</td>\n",
       "                        <td id=\"T_7a9342f7_1ac6_11eb_828f_a0a4c554f2a3row5_col11\" class=\"data row5 col11\" >470.000000</td>\n",
       "                        <td id=\"T_7a9342f7_1ac6_11eb_828f_a0a4c554f2a3row5_col12\" class=\"data row5 col12\" >199.000000</td>\n",
       "                        <td id=\"T_7a9342f7_1ac6_11eb_828f_a0a4c554f2a3row5_col13\" class=\"data row5 col13\" >29.000000</td>\n",
       "                        <td id=\"T_7a9342f7_1ac6_11eb_828f_a0a4c554f2a3row5_col14\" class=\"data row5 col14\" >94.000000</td>\n",
       "                        <td id=\"T_7a9342f7_1ac6_11eb_828f_a0a4c554f2a3row5_col15\" class=\"data row5 col15\" >1063.000000</td>\n",
       "                        <td id=\"T_7a9342f7_1ac6_11eb_828f_a0a4c554f2a3row5_col16\" class=\"data row5 col16\" >444.000000</td>\n",
       "                        <td id=\"T_7a9342f7_1ac6_11eb_828f_a0a4c554f2a3row5_col17\" class=\"data row5 col17\" >849.000000</td>\n",
       "                        <td id=\"T_7a9342f7_1ac6_11eb_828f_a0a4c554f2a3row5_col18\" class=\"data row5 col18\" >102.000000</td>\n",
       "                        <td id=\"T_7a9342f7_1ac6_11eb_828f_a0a4c554f2a3row5_col19\" class=\"data row5 col19\" >1037.000000</td>\n",
       "                        <td id=\"T_7a9342f7_1ac6_11eb_828f_a0a4c554f2a3row5_col20\" class=\"data row5 col20\" >68.000000</td>\n",
       "                        <td id=\"T_7a9342f7_1ac6_11eb_828f_a0a4c554f2a3row5_col21\" class=\"data row5 col21\" >1872.000000</td>\n",
       "                        <td id=\"T_7a9342f7_1ac6_11eb_828f_a0a4c554f2a3row5_col22\" class=\"data row5 col22\" >1807.000000</td>\n",
       "                        <td id=\"T_7a9342f7_1ac6_11eb_828f_a0a4c554f2a3row5_col23\" class=\"data row5 col23\" >2684.000000</td>\n",
       "                        <td id=\"T_7a9342f7_1ac6_11eb_828f_a0a4c554f2a3row5_col24\" class=\"data row5 col24\" >2633.000000</td>\n",
       "                        <td id=\"T_7a9342f7_1ac6_11eb_828f_a0a4c554f2a3row5_col25\" class=\"data row5 col25\" >3290.000000</td>\n",
       "                        <td id=\"T_7a9342f7_1ac6_11eb_828f_a0a4c554f2a3row5_col26\" class=\"data row5 col26\" >2666.000000</td>\n",
       "                        <td id=\"T_7a9342f7_1ac6_11eb_828f_a0a4c554f2a3row5_col27\" class=\"data row5 col27\" >781.000000</td>\n",
       "                        <td id=\"T_7a9342f7_1ac6_11eb_828f_a0a4c554f2a3row5_col28\" class=\"data row5 col28\" >78.000000</td>\n",
       "                        <td id=\"T_7a9342f7_1ac6_11eb_828f_a0a4c554f2a3row5_col29\" class=\"data row5 col29\" >178.000000</td>\n",
       "            </tr>\n",
       "            <tr>\n",
       "                        <th id=\"T_7a9342f7_1ac6_11eb_828f_a0a4c554f2a3level0_row6\" class=\"row_heading level0 row6\" >i</th>\n",
       "                        <td id=\"T_7a9342f7_1ac6_11eb_828f_a0a4c554f2a3row6_col0\" class=\"data row6 col0\" >527.000000</td>\n",
       "                        <td id=\"T_7a9342f7_1ac6_11eb_828f_a0a4c554f2a3row6_col1\" class=\"data row6 col1\" >551.000000</td>\n",
       "                        <td id=\"T_7a9342f7_1ac6_11eb_828f_a0a4c554f2a3row6_col2\" class=\"data row6 col2\" >1092.000000</td>\n",
       "                        <td id=\"T_7a9342f7_1ac6_11eb_828f_a0a4c554f2a3row6_col3\" class=\"data row6 col3\" >39.000000</td>\n",
       "                        <td id=\"T_7a9342f7_1ac6_11eb_828f_a0a4c554f2a3row6_col4\" class=\"data row6 col4\" >234.000000</td>\n",
       "                        <td id=\"T_7a9342f7_1ac6_11eb_828f_a0a4c554f2a3row6_col5\" class=\"data row6 col5\" >272.000000</td>\n",
       "                        <td id=\"T_7a9342f7_1ac6_11eb_828f_a0a4c554f2a3row6_col6\" class=\"data row6 col6\" >279.000000</td>\n",
       "                        <td id=\"T_7a9342f7_1ac6_11eb_828f_a0a4c554f2a3row6_col7\" class=\"data row6 col7\" >868.000000</td>\n",
       "                        <td id=\"T_7a9342f7_1ac6_11eb_828f_a0a4c554f2a3row6_col8\" class=\"data row6 col8\" >431.000000</td>\n",
       "                        <td id=\"T_7a9342f7_1ac6_11eb_828f_a0a4c554f2a3row6_col9\" class=\"data row6 col9\" >28.000000</td>\n",
       "                        <td id=\"T_7a9342f7_1ac6_11eb_828f_a0a4c554f2a3row6_col10\" class=\"data row6 col10\" >329.000000</td>\n",
       "                        <td id=\"T_7a9342f7_1ac6_11eb_828f_a0a4c554f2a3row6_col11\" class=\"data row6 col11\" >1173.000000</td>\n",
       "                        <td id=\"T_7a9342f7_1ac6_11eb_828f_a0a4c554f2a3row6_col12\" class=\"data row6 col12\" >557.000000</td>\n",
       "                        <td id=\"T_7a9342f7_1ac6_11eb_828f_a0a4c554f2a3row6_col13\" class=\"data row6 col13\" >126.000000</td>\n",
       "                        <td id=\"T_7a9342f7_1ac6_11eb_828f_a0a4c554f2a3row6_col14\" class=\"data row6 col14\" >281.000000</td>\n",
       "                        <td id=\"T_7a9342f7_1ac6_11eb_828f_a0a4c554f2a3row6_col15\" class=\"data row6 col15\" >729.000000</td>\n",
       "                        <td id=\"T_7a9342f7_1ac6_11eb_828f_a0a4c554f2a3row6_col16\" class=\"data row6 col16\" >237.000000</td>\n",
       "                        <td id=\"T_7a9342f7_1ac6_11eb_828f_a0a4c554f2a3row6_col17\" class=\"data row6 col17\" >545.000000</td>\n",
       "                        <td id=\"T_7a9342f7_1ac6_11eb_828f_a0a4c554f2a3row6_col18\" class=\"data row6 col18\" >116.000000</td>\n",
       "                        <td id=\"T_7a9342f7_1ac6_11eb_828f_a0a4c554f2a3row6_col19\" class=\"data row6 col19\" >1150.000000</td>\n",
       "                        <td id=\"T_7a9342f7_1ac6_11eb_828f_a0a4c554f2a3row6_col20\" class=\"data row6 col20\" >92.000000</td>\n",
       "                        <td id=\"T_7a9342f7_1ac6_11eb_828f_a0a4c554f2a3row6_col21\" class=\"data row6 col21\" >1954.000000</td>\n",
       "                        <td id=\"T_7a9342f7_1ac6_11eb_828f_a0a4c554f2a3row6_col22\" class=\"data row6 col22\" >2062.000000</td>\n",
       "                        <td id=\"T_7a9342f7_1ac6_11eb_828f_a0a4c554f2a3row6_col23\" class=\"data row6 col23\" >2923.000000</td>\n",
       "                        <td id=\"T_7a9342f7_1ac6_11eb_828f_a0a4c554f2a3row6_col24\" class=\"data row6 col24\" >2934.000000</td>\n",
       "                        <td id=\"T_7a9342f7_1ac6_11eb_828f_a0a4c554f2a3row6_col25\" class=\"data row6 col25\" >3615.000000</td>\n",
       "                        <td id=\"T_7a9342f7_1ac6_11eb_828f_a0a4c554f2a3row6_col26\" class=\"data row6 col26\" >3196.000000</td>\n",
       "                        <td id=\"T_7a9342f7_1ac6_11eb_828f_a0a4c554f2a3row6_col27\" class=\"data row6 col27\" >811.000000</td>\n",
       "                        <td id=\"T_7a9342f7_1ac6_11eb_828f_a0a4c554f2a3row6_col28\" class=\"data row6 col28\" >74.000000</td>\n",
       "                        <td id=\"T_7a9342f7_1ac6_11eb_828f_a0a4c554f2a3row6_col29\" class=\"data row6 col29\" >153.000000</td>\n",
       "            </tr>\n",
       "            <tr>\n",
       "                        <th id=\"T_7a9342f7_1ac6_11eb_828f_a0a4c554f2a3level0_row7\" class=\"row_heading level0 row7\" >han</th>\n",
       "                        <td id=\"T_7a9342f7_1ac6_11eb_828f_a0a4c554f2a3row7_col0\" class=\"data row7 col0\" >12.000000</td>\n",
       "                        <td id=\"T_7a9342f7_1ac6_11eb_828f_a0a4c554f2a3row7_col1\" class=\"data row7 col1\" >189.000000</td>\n",
       "                        <td id=\"T_7a9342f7_1ac6_11eb_828f_a0a4c554f2a3row7_col2\" class=\"data row7 col2\" >226.000000</td>\n",
       "                        <td id=\"T_7a9342f7_1ac6_11eb_828f_a0a4c554f2a3row7_col3\" class=\"data row7 col3\" >3.000000</td>\n",
       "                        <td id=\"T_7a9342f7_1ac6_11eb_828f_a0a4c554f2a3row7_col4\" class=\"data row7 col4\" >26.000000</td>\n",
       "                        <td id=\"T_7a9342f7_1ac6_11eb_828f_a0a4c554f2a3row7_col5\" class=\"data row7 col5\" >21.000000</td>\n",
       "                        <td id=\"T_7a9342f7_1ac6_11eb_828f_a0a4c554f2a3row7_col6\" class=\"data row7 col6\" >112.000000</td>\n",
       "                        <td id=\"T_7a9342f7_1ac6_11eb_828f_a0a4c554f2a3row7_col7\" class=\"data row7 col7\" >249.000000</td>\n",
       "                        <td id=\"T_7a9342f7_1ac6_11eb_828f_a0a4c554f2a3row7_col8\" class=\"data row7 col8\" >95.000000</td>\n",
       "                        <td id=\"T_7a9342f7_1ac6_11eb_828f_a0a4c554f2a3row7_col9\" class=\"data row7 col9\" >5.000000</td>\n",
       "                        <td id=\"T_7a9342f7_1ac6_11eb_828f_a0a4c554f2a3row7_col10\" class=\"data row7 col10\" >81.000000</td>\n",
       "                        <td id=\"T_7a9342f7_1ac6_11eb_828f_a0a4c554f2a3row7_col11\" class=\"data row7 col11\" >115.000000</td>\n",
       "                        <td id=\"T_7a9342f7_1ac6_11eb_828f_a0a4c554f2a3row7_col12\" class=\"data row7 col12\" >81.000000</td>\n",
       "                        <td id=\"T_7a9342f7_1ac6_11eb_828f_a0a4c554f2a3row7_col13\" class=\"data row7 col13\" >12.000000</td>\n",
       "                        <td id=\"T_7a9342f7_1ac6_11eb_828f_a0a4c554f2a3row7_col14\" class=\"data row7 col14\" >49.000000</td>\n",
       "                        <td id=\"T_7a9342f7_1ac6_11eb_828f_a0a4c554f2a3row7_col15\" class=\"data row7 col15\" >150.000000</td>\n",
       "                        <td id=\"T_7a9342f7_1ac6_11eb_828f_a0a4c554f2a3row7_col16\" class=\"data row7 col16\" >98.000000</td>\n",
       "                        <td id=\"T_7a9342f7_1ac6_11eb_828f_a0a4c554f2a3row7_col17\" class=\"data row7 col17\" >182.000000</td>\n",
       "                        <td id=\"T_7a9342f7_1ac6_11eb_828f_a0a4c554f2a3row7_col18\" class=\"data row7 col18\" >25.000000</td>\n",
       "                        <td id=\"T_7a9342f7_1ac6_11eb_828f_a0a4c554f2a3row7_col19\" class=\"data row7 col19\" >320.000000</td>\n",
       "                        <td id=\"T_7a9342f7_1ac6_11eb_828f_a0a4c554f2a3row7_col20\" class=\"data row7 col20\" >15.000000</td>\n",
       "                        <td id=\"T_7a9342f7_1ac6_11eb_828f_a0a4c554f2a3row7_col21\" class=\"data row7 col21\" >529.000000</td>\n",
       "                        <td id=\"T_7a9342f7_1ac6_11eb_828f_a0a4c554f2a3row7_col22\" class=\"data row7 col22\" >485.000000</td>\n",
       "                        <td id=\"T_7a9342f7_1ac6_11eb_828f_a0a4c554f2a3row7_col23\" class=\"data row7 col23\" >781.000000</td>\n",
       "                        <td id=\"T_7a9342f7_1ac6_11eb_828f_a0a4c554f2a3row7_col24\" class=\"data row7 col24\" >693.000000</td>\n",
       "                        <td id=\"T_7a9342f7_1ac6_11eb_828f_a0a4c554f2a3row7_col25\" class=\"data row7 col25\" >991.000000</td>\n",
       "                        <td id=\"T_7a9342f7_1ac6_11eb_828f_a0a4c554f2a3row7_col26\" class=\"data row7 col26\" >856.000000</td>\n",
       "                        <td id=\"T_7a9342f7_1ac6_11eb_828f_a0a4c554f2a3row7_col27\" class=\"data row7 col27\" >328.000000</td>\n",
       "                        <td id=\"T_7a9342f7_1ac6_11eb_828f_a0a4c554f2a3row7_col28\" class=\"data row7 col28\" >55.000000</td>\n",
       "                        <td id=\"T_7a9342f7_1ac6_11eb_828f_a0a4c554f2a3row7_col29\" class=\"data row7 col29\" >66.000000</td>\n",
       "            </tr>\n",
       "            <tr>\n",
       "                        <th id=\"T_7a9342f7_1ac6_11eb_828f_a0a4c554f2a3level0_row8\" class=\"row_heading level0 row8\" >den</th>\n",
       "                        <td id=\"T_7a9342f7_1ac6_11eb_828f_a0a4c554f2a3row8_col0\" class=\"data row8 col0\" >85.000000</td>\n",
       "                        <td id=\"T_7a9342f7_1ac6_11eb_828f_a0a4c554f2a3row8_col1\" class=\"data row8 col1\" >409.000000</td>\n",
       "                        <td id=\"T_7a9342f7_1ac6_11eb_828f_a0a4c554f2a3row8_col2\" class=\"data row8 col2\" >680.000000</td>\n",
       "                        <td id=\"T_7a9342f7_1ac6_11eb_828f_a0a4c554f2a3row8_col3\" class=\"data row8 col3\" >28.000000</td>\n",
       "                        <td id=\"T_7a9342f7_1ac6_11eb_828f_a0a4c554f2a3row8_col4\" class=\"data row8 col4\" >153.000000</td>\n",
       "                        <td id=\"T_7a9342f7_1ac6_11eb_828f_a0a4c554f2a3row8_col5\" class=\"data row8 col5\" >156.000000</td>\n",
       "                        <td id=\"T_7a9342f7_1ac6_11eb_828f_a0a4c554f2a3row8_col6\" class=\"data row8 col6\" >193.000000</td>\n",
       "                        <td id=\"T_7a9342f7_1ac6_11eb_828f_a0a4c554f2a3row8_col7\" class=\"data row8 col7\" >248.000000</td>\n",
       "                        <td id=\"T_7a9342f7_1ac6_11eb_828f_a0a4c554f2a3row8_col8\" class=\"data row8 col8\" >181.000000</td>\n",
       "                        <td id=\"T_7a9342f7_1ac6_11eb_828f_a0a4c554f2a3row8_col9\" class=\"data row8 col9\" >10.000000</td>\n",
       "                        <td id=\"T_7a9342f7_1ac6_11eb_828f_a0a4c554f2a3row8_col10\" class=\"data row8 col10\" >190.000000</td>\n",
       "                        <td id=\"T_7a9342f7_1ac6_11eb_828f_a0a4c554f2a3row8_col11\" class=\"data row8 col11\" >525.000000</td>\n",
       "                        <td id=\"T_7a9342f7_1ac6_11eb_828f_a0a4c554f2a3row8_col12\" class=\"data row8 col12\" >233.000000</td>\n",
       "                        <td id=\"T_7a9342f7_1ac6_11eb_828f_a0a4c554f2a3row8_col13\" class=\"data row8 col13\" >26.000000</td>\n",
       "                        <td id=\"T_7a9342f7_1ac6_11eb_828f_a0a4c554f2a3row8_col14\" class=\"data row8 col14\" >111.000000</td>\n",
       "                        <td id=\"T_7a9342f7_1ac6_11eb_828f_a0a4c554f2a3row8_col15\" class=\"data row8 col15\" >404.000000</td>\n",
       "                        <td id=\"T_7a9342f7_1ac6_11eb_828f_a0a4c554f2a3row8_col16\" class=\"data row8 col16\" >86.000000</td>\n",
       "                        <td id=\"T_7a9342f7_1ac6_11eb_828f_a0a4c554f2a3row8_col17\" class=\"data row8 col17\" >234.000000</td>\n",
       "                        <td id=\"T_7a9342f7_1ac6_11eb_828f_a0a4c554f2a3row8_col18\" class=\"data row8 col18\" >96.000000</td>\n",
       "                        <td id=\"T_7a9342f7_1ac6_11eb_828f_a0a4c554f2a3row8_col19\" class=\"data row8 col19\" >635.000000</td>\n",
       "                        <td id=\"T_7a9342f7_1ac6_11eb_828f_a0a4c554f2a3row8_col20\" class=\"data row8 col20\" >51.000000</td>\n",
       "                        <td id=\"T_7a9342f7_1ac6_11eb_828f_a0a4c554f2a3row8_col21\" class=\"data row8 col21\" >1220.000000</td>\n",
       "                        <td id=\"T_7a9342f7_1ac6_11eb_828f_a0a4c554f2a3row8_col22\" class=\"data row8 col22\" >1273.000000</td>\n",
       "                        <td id=\"T_7a9342f7_1ac6_11eb_828f_a0a4c554f2a3row8_col23\" class=\"data row8 col23\" >1646.000000</td>\n",
       "                        <td id=\"T_7a9342f7_1ac6_11eb_828f_a0a4c554f2a3row8_col24\" class=\"data row8 col24\" >1617.000000</td>\n",
       "                        <td id=\"T_7a9342f7_1ac6_11eb_828f_a0a4c554f2a3row8_col25\" class=\"data row8 col25\" >1998.000000</td>\n",
       "                        <td id=\"T_7a9342f7_1ac6_11eb_828f_a0a4c554f2a3row8_col26\" class=\"data row8 col26\" >1625.000000</td>\n",
       "                        <td id=\"T_7a9342f7_1ac6_11eb_828f_a0a4c554f2a3row8_col27\" class=\"data row8 col27\" >475.000000</td>\n",
       "                        <td id=\"T_7a9342f7_1ac6_11eb_828f_a0a4c554f2a3row8_col28\" class=\"data row8 col28\" >53.000000</td>\n",
       "                        <td id=\"T_7a9342f7_1ac6_11eb_828f_a0a4c554f2a3row8_col29\" class=\"data row8 col29\" >64.000000</td>\n",
       "            </tr>\n",
       "            <tr>\n",
       "                        <th id=\"T_7a9342f7_1ac6_11eb_828f_a0a4c554f2a3level0_row9\" class=\"row_heading level0 row9\" >er</th>\n",
       "                        <td id=\"T_7a9342f7_1ac6_11eb_828f_a0a4c554f2a3row9_col0\" class=\"data row9 col0\" >6.000000</td>\n",
       "                        <td id=\"T_7a9342f7_1ac6_11eb_828f_a0a4c554f2a3row9_col1\" class=\"data row9 col1\" >529.000000</td>\n",
       "                        <td id=\"T_7a9342f7_1ac6_11eb_828f_a0a4c554f2a3row9_col2\" class=\"data row9 col2\" >795.000000</td>\n",
       "                        <td id=\"T_7a9342f7_1ac6_11eb_828f_a0a4c554f2a3row9_col3\" class=\"data row9 col3\" >21.000000</td>\n",
       "                        <td id=\"T_7a9342f7_1ac6_11eb_828f_a0a4c554f2a3row9_col4\" class=\"data row9 col4\" >170.000000</td>\n",
       "                        <td id=\"T_7a9342f7_1ac6_11eb_828f_a0a4c554f2a3row9_col5\" class=\"data row9 col5\" >160.000000</td>\n",
       "                        <td id=\"T_7a9342f7_1ac6_11eb_828f_a0a4c554f2a3row9_col6\" class=\"data row9 col6\" >152.000000</td>\n",
       "                        <td id=\"T_7a9342f7_1ac6_11eb_828f_a0a4c554f2a3row9_col7\" class=\"data row9 col7\" >367.000000</td>\n",
       "                        <td id=\"T_7a9342f7_1ac6_11eb_828f_a0a4c554f2a3row9_col8\" class=\"data row9 col8\" >72.000000</td>\n",
       "                        <td id=\"T_7a9342f7_1ac6_11eb_828f_a0a4c554f2a3row9_col9\" class=\"data row9 col9\" >9.000000</td>\n",
       "                        <td id=\"T_7a9342f7_1ac6_11eb_828f_a0a4c554f2a3row9_col10\" class=\"data row9 col10\" >176.000000</td>\n",
       "                        <td id=\"T_7a9342f7_1ac6_11eb_828f_a0a4c554f2a3row9_col11\" class=\"data row9 col11\" >704.000000</td>\n",
       "                        <td id=\"T_7a9342f7_1ac6_11eb_828f_a0a4c554f2a3row9_col12\" class=\"data row9 col12\" >357.000000</td>\n",
       "                        <td id=\"T_7a9342f7_1ac6_11eb_828f_a0a4c554f2a3row9_col13\" class=\"data row9 col13\" >41.000000</td>\n",
       "                        <td id=\"T_7a9342f7_1ac6_11eb_828f_a0a4c554f2a3row9_col14\" class=\"data row9 col14\" >214.000000</td>\n",
       "                        <td id=\"T_7a9342f7_1ac6_11eb_828f_a0a4c554f2a3row9_col15\" class=\"data row9 col15\" >752.000000</td>\n",
       "                        <td id=\"T_7a9342f7_1ac6_11eb_828f_a0a4c554f2a3row9_col16\" class=\"data row9 col16\" >386.000000</td>\n",
       "                        <td id=\"T_7a9342f7_1ac6_11eb_828f_a0a4c554f2a3row9_col17\" class=\"data row9 col17\" >602.000000</td>\n",
       "                        <td id=\"T_7a9342f7_1ac6_11eb_828f_a0a4c554f2a3row9_col18\" class=\"data row9 col18\" >54.000000</td>\n",
       "                        <td id=\"T_7a9342f7_1ac6_11eb_828f_a0a4c554f2a3row9_col19\" class=\"data row9 col19\" >661.000000</td>\n",
       "                        <td id=\"T_7a9342f7_1ac6_11eb_828f_a0a4c554f2a3row9_col20\" class=\"data row9 col20\" >40.000000</td>\n",
       "                        <td id=\"T_7a9342f7_1ac6_11eb_828f_a0a4c554f2a3row9_col21\" class=\"data row9 col21\" >1321.000000</td>\n",
       "                        <td id=\"T_7a9342f7_1ac6_11eb_828f_a0a4c554f2a3row9_col22\" class=\"data row9 col22\" >1165.000000</td>\n",
       "                        <td id=\"T_7a9342f7_1ac6_11eb_828f_a0a4c554f2a3row9_col23\" class=\"data row9 col23\" >1539.000000</td>\n",
       "                        <td id=\"T_7a9342f7_1ac6_11eb_828f_a0a4c554f2a3row9_col24\" class=\"data row9 col24\" >1465.000000</td>\n",
       "                        <td id=\"T_7a9342f7_1ac6_11eb_828f_a0a4c554f2a3row9_col25\" class=\"data row9 col25\" >1743.000000</td>\n",
       "                        <td id=\"T_7a9342f7_1ac6_11eb_828f_a0a4c554f2a3row9_col26\" class=\"data row9 col26\" >1587.000000</td>\n",
       "                        <td id=\"T_7a9342f7_1ac6_11eb_828f_a0a4c554f2a3row9_col27\" class=\"data row9 col27\" >414.000000</td>\n",
       "                        <td id=\"T_7a9342f7_1ac6_11eb_828f_a0a4c554f2a3row9_col28\" class=\"data row9 col28\" >50.000000</td>\n",
       "                        <td id=\"T_7a9342f7_1ac6_11eb_828f_a0a4c554f2a3row9_col29\" class=\"data row9 col29\" >121.000000</td>\n",
       "            </tr>\n",
       "            <tr>\n",
       "                        <th id=\"T_7a9342f7_1ac6_11eb_828f_a0a4c554f2a3level0_row10\" class=\"row_heading level0 row10\" >mig</th>\n",
       "                        <td id=\"T_7a9342f7_1ac6_11eb_828f_a0a4c554f2a3row10_col0\" class=\"data row10 col0\" >0.000000</td>\n",
       "                        <td id=\"T_7a9342f7_1ac6_11eb_828f_a0a4c554f2a3row10_col1\" class=\"data row10 col1\" >366.000000</td>\n",
       "                        <td id=\"T_7a9342f7_1ac6_11eb_828f_a0a4c554f2a3row10_col2\" class=\"data row10 col2\" >609.000000</td>\n",
       "                        <td id=\"T_7a9342f7_1ac6_11eb_828f_a0a4c554f2a3row10_col3\" class=\"data row10 col3\" >36.000000</td>\n",
       "                        <td id=\"T_7a9342f7_1ac6_11eb_828f_a0a4c554f2a3row10_col4\" class=\"data row10 col4\" >169.000000</td>\n",
       "                        <td id=\"T_7a9342f7_1ac6_11eb_828f_a0a4c554f2a3row10_col5\" class=\"data row10 col5\" >101.000000</td>\n",
       "                        <td id=\"T_7a9342f7_1ac6_11eb_828f_a0a4c554f2a3row10_col6\" class=\"data row10 col6\" >185.000000</td>\n",
       "                        <td id=\"T_7a9342f7_1ac6_11eb_828f_a0a4c554f2a3row10_col7\" class=\"data row10 col7\" >0.000000</td>\n",
       "                        <td id=\"T_7a9342f7_1ac6_11eb_828f_a0a4c554f2a3row10_col8\" class=\"data row10 col8\" >4.000000</td>\n",
       "                        <td id=\"T_7a9342f7_1ac6_11eb_828f_a0a4c554f2a3row10_col9\" class=\"data row10 col9\" >1.000000</td>\n",
       "                        <td id=\"T_7a9342f7_1ac6_11eb_828f_a0a4c554f2a3row10_col10\" class=\"data row10 col10\" >69.000000</td>\n",
       "                        <td id=\"T_7a9342f7_1ac6_11eb_828f_a0a4c554f2a3row10_col11\" class=\"data row10 col11\" >135.000000</td>\n",
       "                        <td id=\"T_7a9342f7_1ac6_11eb_828f_a0a4c554f2a3row10_col12\" class=\"data row10 col12\" >77.000000</td>\n",
       "                        <td id=\"T_7a9342f7_1ac6_11eb_828f_a0a4c554f2a3row10_col13\" class=\"data row10 col13\" >7.000000</td>\n",
       "                        <td id=\"T_7a9342f7_1ac6_11eb_828f_a0a4c554f2a3row10_col14\" class=\"data row10 col14\" >20.000000</td>\n",
       "                        <td id=\"T_7a9342f7_1ac6_11eb_828f_a0a4c554f2a3row10_col15\" class=\"data row10 col15\" >373.000000</td>\n",
       "                        <td id=\"T_7a9342f7_1ac6_11eb_828f_a0a4c554f2a3row10_col16\" class=\"data row10 col16\" >104.000000</td>\n",
       "                        <td id=\"T_7a9342f7_1ac6_11eb_828f_a0a4c554f2a3row10_col17\" class=\"data row10 col17\" >289.000000</td>\n",
       "                        <td id=\"T_7a9342f7_1ac6_11eb_828f_a0a4c554f2a3row10_col18\" class=\"data row10 col18\" >54.000000</td>\n",
       "                        <td id=\"T_7a9342f7_1ac6_11eb_828f_a0a4c554f2a3row10_col19\" class=\"data row10 col19\" >651.000000</td>\n",
       "                        <td id=\"T_7a9342f7_1ac6_11eb_828f_a0a4c554f2a3row10_col20\" class=\"data row10 col20\" >30.000000</td>\n",
       "                        <td id=\"T_7a9342f7_1ac6_11eb_828f_a0a4c554f2a3row10_col21\" class=\"data row10 col21\" >740.000000</td>\n",
       "                        <td id=\"T_7a9342f7_1ac6_11eb_828f_a0a4c554f2a3row10_col22\" class=\"data row10 col22\" >865.000000</td>\n",
       "                        <td id=\"T_7a9342f7_1ac6_11eb_828f_a0a4c554f2a3row10_col23\" class=\"data row10 col23\" >1145.000000</td>\n",
       "                        <td id=\"T_7a9342f7_1ac6_11eb_828f_a0a4c554f2a3row10_col24\" class=\"data row10 col24\" >1169.000000</td>\n",
       "                        <td id=\"T_7a9342f7_1ac6_11eb_828f_a0a4c554f2a3row10_col25\" class=\"data row10 col25\" >1511.000000</td>\n",
       "                        <td id=\"T_7a9342f7_1ac6_11eb_828f_a0a4c554f2a3row10_col26\" class=\"data row10 col26\" >1203.000000</td>\n",
       "                        <td id=\"T_7a9342f7_1ac6_11eb_828f_a0a4c554f2a3row10_col27\" class=\"data row10 col27\" >290.000000</td>\n",
       "                        <td id=\"T_7a9342f7_1ac6_11eb_828f_a0a4c554f2a3row10_col28\" class=\"data row10 col28\" >49.000000</td>\n",
       "                        <td id=\"T_7a9342f7_1ac6_11eb_828f_a0a4c554f2a3row10_col29\" class=\"data row10 col29\" >27.000000</td>\n",
       "            </tr>\n",
       "            <tr>\n",
       "                        <th id=\"T_7a9342f7_1ac6_11eb_828f_a0a4c554f2a3level0_row11\" class=\"row_heading level0 row11\" >saa</th>\n",
       "                        <td id=\"T_7a9342f7_1ac6_11eb_828f_a0a4c554f2a3row11_col0\" class=\"data row11 col0\" >0.000000</td>\n",
       "                        <td id=\"T_7a9342f7_1ac6_11eb_828f_a0a4c554f2a3row11_col1\" class=\"data row11 col1\" >276.000000</td>\n",
       "                        <td id=\"T_7a9342f7_1ac6_11eb_828f_a0a4c554f2a3row11_col2\" class=\"data row11 col2\" >446.000000</td>\n",
       "                        <td id=\"T_7a9342f7_1ac6_11eb_828f_a0a4c554f2a3row11_col3\" class=\"data row11 col3\" >9.000000</td>\n",
       "                        <td id=\"T_7a9342f7_1ac6_11eb_828f_a0a4c554f2a3row11_col4\" class=\"data row11 col4\" >11.000000</td>\n",
       "                        <td id=\"T_7a9342f7_1ac6_11eb_828f_a0a4c554f2a3row11_col5\" class=\"data row11 col5\" >37.000000</td>\n",
       "                        <td id=\"T_7a9342f7_1ac6_11eb_828f_a0a4c554f2a3row11_col6\" class=\"data row11 col6\" >93.000000</td>\n",
       "                        <td id=\"T_7a9342f7_1ac6_11eb_828f_a0a4c554f2a3row11_col7\" class=\"data row11 col7\" >0.000000</td>\n",
       "                        <td id=\"T_7a9342f7_1ac6_11eb_828f_a0a4c554f2a3row11_col8\" class=\"data row11 col8\" >48.000000</td>\n",
       "                        <td id=\"T_7a9342f7_1ac6_11eb_828f_a0a4c554f2a3row11_col9\" class=\"data row11 col9\" >1.000000</td>\n",
       "                        <td id=\"T_7a9342f7_1ac6_11eb_828f_a0a4c554f2a3row11_col10\" class=\"data row11 col10\" >48.000000</td>\n",
       "                        <td id=\"T_7a9342f7_1ac6_11eb_828f_a0a4c554f2a3row11_col11\" class=\"data row11 col11\" >212.000000</td>\n",
       "                        <td id=\"T_7a9342f7_1ac6_11eb_828f_a0a4c554f2a3row11_col12\" class=\"data row11 col12\" >96.000000</td>\n",
       "                        <td id=\"T_7a9342f7_1ac6_11eb_828f_a0a4c554f2a3row11_col13\" class=\"data row11 col13\" >5.000000</td>\n",
       "                        <td id=\"T_7a9342f7_1ac6_11eb_828f_a0a4c554f2a3row11_col14\" class=\"data row11 col14\" >21.000000</td>\n",
       "                        <td id=\"T_7a9342f7_1ac6_11eb_828f_a0a4c554f2a3row11_col15\" class=\"data row11 col15\" >524.000000</td>\n",
       "                        <td id=\"T_7a9342f7_1ac6_11eb_828f_a0a4c554f2a3row11_col16\" class=\"data row11 col16\" >269.000000</td>\n",
       "                        <td id=\"T_7a9342f7_1ac6_11eb_828f_a0a4c554f2a3row11_col17\" class=\"data row11 col17\" >290.000000</td>\n",
       "                        <td id=\"T_7a9342f7_1ac6_11eb_828f_a0a4c554f2a3row11_col18\" class=\"data row11 col18\" >84.000000</td>\n",
       "                        <td id=\"T_7a9342f7_1ac6_11eb_828f_a0a4c554f2a3row11_col19\" class=\"data row11 col19\" >733.000000</td>\n",
       "                        <td id=\"T_7a9342f7_1ac6_11eb_828f_a0a4c554f2a3row11_col20\" class=\"data row11 col20\" >39.000000</td>\n",
       "                        <td id=\"T_7a9342f7_1ac6_11eb_828f_a0a4c554f2a3row11_col21\" class=\"data row11 col21\" >1301.000000</td>\n",
       "                        <td id=\"T_7a9342f7_1ac6_11eb_828f_a0a4c554f2a3row11_col22\" class=\"data row11 col22\" >1238.000000</td>\n",
       "                        <td id=\"T_7a9342f7_1ac6_11eb_828f_a0a4c554f2a3row11_col23\" class=\"data row11 col23\" >1586.000000</td>\n",
       "                        <td id=\"T_7a9342f7_1ac6_11eb_828f_a0a4c554f2a3row11_col24\" class=\"data row11 col24\" >1520.000000</td>\n",
       "                        <td id=\"T_7a9342f7_1ac6_11eb_828f_a0a4c554f2a3row11_col25\" class=\"data row11 col25\" >1741.000000</td>\n",
       "                        <td id=\"T_7a9342f7_1ac6_11eb_828f_a0a4c554f2a3row11_col26\" class=\"data row11 col26\" >1453.000000</td>\n",
       "                        <td id=\"T_7a9342f7_1ac6_11eb_828f_a0a4c554f2a3row11_col27\" class=\"data row11 col27\" >347.000000</td>\n",
       "                        <td id=\"T_7a9342f7_1ac6_11eb_828f_a0a4c554f2a3row11_col28\" class=\"data row11 col28\" >49.000000</td>\n",
       "                        <td id=\"T_7a9342f7_1ac6_11eb_828f_a0a4c554f2a3row11_col29\" class=\"data row11 col29\" >111.000000</td>\n",
       "            </tr>\n",
       "            <tr>\n",
       "                        <th id=\"T_7a9342f7_1ac6_11eb_828f_a0a4c554f2a3level0_row12\" class=\"row_heading level0 row12\" >en</th>\n",
       "                        <td id=\"T_7a9342f7_1ac6_11eb_828f_a0a4c554f2a3row12_col0\" class=\"data row12 col0\" >283.000000</td>\n",
       "                        <td id=\"T_7a9342f7_1ac6_11eb_828f_a0a4c554f2a3row12_col1\" class=\"data row12 col1\" >443.000000</td>\n",
       "                        <td id=\"T_7a9342f7_1ac6_11eb_828f_a0a4c554f2a3row12_col2\" class=\"data row12 col2\" >774.000000</td>\n",
       "                        <td id=\"T_7a9342f7_1ac6_11eb_828f_a0a4c554f2a3row12_col3\" class=\"data row12 col3\" >29.000000</td>\n",
       "                        <td id=\"T_7a9342f7_1ac6_11eb_828f_a0a4c554f2a3row12_col4\" class=\"data row12 col4\" >173.000000</td>\n",
       "                        <td id=\"T_7a9342f7_1ac6_11eb_828f_a0a4c554f2a3row12_col5\" class=\"data row12 col5\" >131.000000</td>\n",
       "                        <td id=\"T_7a9342f7_1ac6_11eb_828f_a0a4c554f2a3row12_col6\" class=\"data row12 col6\" >209.000000</td>\n",
       "                        <td id=\"T_7a9342f7_1ac6_11eb_828f_a0a4c554f2a3row12_col7\" class=\"data row12 col7\" >1163.000000</td>\n",
       "                        <td id=\"T_7a9342f7_1ac6_11eb_828f_a0a4c554f2a3row12_col8\" class=\"data row12 col8\" >99.000000</td>\n",
       "                        <td id=\"T_7a9342f7_1ac6_11eb_828f_a0a4c554f2a3row12_col9\" class=\"data row12 col9\" >18.000000</td>\n",
       "                        <td id=\"T_7a9342f7_1ac6_11eb_828f_a0a4c554f2a3row12_col10\" class=\"data row12 col10\" >221.000000</td>\n",
       "                        <td id=\"T_7a9342f7_1ac6_11eb_828f_a0a4c554f2a3row12_col11\" class=\"data row12 col11\" >634.000000</td>\n",
       "                        <td id=\"T_7a9342f7_1ac6_11eb_828f_a0a4c554f2a3row12_col12\" class=\"data row12 col12\" >315.000000</td>\n",
       "                        <td id=\"T_7a9342f7_1ac6_11eb_828f_a0a4c554f2a3row12_col13\" class=\"data row12 col13\" >66.000000</td>\n",
       "                        <td id=\"T_7a9342f7_1ac6_11eb_828f_a0a4c554f2a3row12_col14\" class=\"data row12 col14\" >137.000000</td>\n",
       "                        <td id=\"T_7a9342f7_1ac6_11eb_828f_a0a4c554f2a3row12_col15\" class=\"data row12 col15\" >467.000000</td>\n",
       "                        <td id=\"T_7a9342f7_1ac6_11eb_828f_a0a4c554f2a3row12_col16\" class=\"data row12 col16\" >172.000000</td>\n",
       "                        <td id=\"T_7a9342f7_1ac6_11eb_828f_a0a4c554f2a3row12_col17\" class=\"data row12 col17\" >320.000000</td>\n",
       "                        <td id=\"T_7a9342f7_1ac6_11eb_828f_a0a4c554f2a3row12_col18\" class=\"data row12 col18\" >92.000000</td>\n",
       "                        <td id=\"T_7a9342f7_1ac6_11eb_828f_a0a4c554f2a3row12_col19\" class=\"data row12 col19\" >604.000000</td>\n",
       "                        <td id=\"T_7a9342f7_1ac6_11eb_828f_a0a4c554f2a3row12_col20\" class=\"data row12 col20\" >59.000000</td>\n",
       "                        <td id=\"T_7a9342f7_1ac6_11eb_828f_a0a4c554f2a3row12_col21\" class=\"data row12 col21\" >906.000000</td>\n",
       "                        <td id=\"T_7a9342f7_1ac6_11eb_828f_a0a4c554f2a3row12_col22\" class=\"data row12 col22\" >798.000000</td>\n",
       "                        <td id=\"T_7a9342f7_1ac6_11eb_828f_a0a4c554f2a3row12_col23\" class=\"data row12 col23\" >1192.000000</td>\n",
       "                        <td id=\"T_7a9342f7_1ac6_11eb_828f_a0a4c554f2a3row12_col24\" class=\"data row12 col24\" >1051.000000</td>\n",
       "                        <td id=\"T_7a9342f7_1ac6_11eb_828f_a0a4c554f2a3row12_col25\" class=\"data row12 col25\" >1438.000000</td>\n",
       "                        <td id=\"T_7a9342f7_1ac6_11eb_828f_a0a4c554f2a3row12_col26\" class=\"data row12 col26\" >1164.000000</td>\n",
       "                        <td id=\"T_7a9342f7_1ac6_11eb_828f_a0a4c554f2a3row12_col27\" class=\"data row12 col27\" >317.000000</td>\n",
       "                        <td id=\"T_7a9342f7_1ac6_11eb_828f_a0a4c554f2a3row12_col28\" class=\"data row12 col28\" >48.000000</td>\n",
       "                        <td id=\"T_7a9342f7_1ac6_11eb_828f_a0a4c554f2a3row12_col29\" class=\"data row12 col29\" >75.000000</td>\n",
       "            </tr>\n",
       "            <tr>\n",
       "                        <th id=\"T_7a9342f7_1ac6_11eb_828f_a0a4c554f2a3level0_row13\" class=\"row_heading level0 row13\" >som</th>\n",
       "                        <td id=\"T_7a9342f7_1ac6_11eb_828f_a0a4c554f2a3row13_col0\" class=\"data row13 col0\" >45.000000</td>\n",
       "                        <td id=\"T_7a9342f7_1ac6_11eb_828f_a0a4c554f2a3row13_col1\" class=\"data row13 col1\" >228.000000</td>\n",
       "                        <td id=\"T_7a9342f7_1ac6_11eb_828f_a0a4c554f2a3row13_col2\" class=\"data row13 col2\" >509.000000</td>\n",
       "                        <td id=\"T_7a9342f7_1ac6_11eb_828f_a0a4c554f2a3row13_col3\" class=\"data row13 col3\" >22.000000</td>\n",
       "                        <td id=\"T_7a9342f7_1ac6_11eb_828f_a0a4c554f2a3row13_col4\" class=\"data row13 col4\" >98.000000</td>\n",
       "                        <td id=\"T_7a9342f7_1ac6_11eb_828f_a0a4c554f2a3row13_col5\" class=\"data row13 col5\" >109.000000</td>\n",
       "                        <td id=\"T_7a9342f7_1ac6_11eb_828f_a0a4c554f2a3row13_col6\" class=\"data row13 col6\" >167.000000</td>\n",
       "                        <td id=\"T_7a9342f7_1ac6_11eb_828f_a0a4c554f2a3row13_col7\" class=\"data row13 col7\" >690.000000</td>\n",
       "                        <td id=\"T_7a9342f7_1ac6_11eb_828f_a0a4c554f2a3row13_col8\" class=\"data row13 col8\" >160.000000</td>\n",
       "                        <td id=\"T_7a9342f7_1ac6_11eb_828f_a0a4c554f2a3row13_col9\" class=\"data row13 col9\" >15.000000</td>\n",
       "                        <td id=\"T_7a9342f7_1ac6_11eb_828f_a0a4c554f2a3row13_col10\" class=\"data row13 col10\" >141.000000</td>\n",
       "                        <td id=\"T_7a9342f7_1ac6_11eb_828f_a0a4c554f2a3row13_col11\" class=\"data row13 col11\" >378.000000</td>\n",
       "                        <td id=\"T_7a9342f7_1ac6_11eb_828f_a0a4c554f2a3row13_col12\" class=\"data row13 col12\" >168.000000</td>\n",
       "                        <td id=\"T_7a9342f7_1ac6_11eb_828f_a0a4c554f2a3row13_col13\" class=\"data row13 col13\" >40.000000</td>\n",
       "                        <td id=\"T_7a9342f7_1ac6_11eb_828f_a0a4c554f2a3row13_col14\" class=\"data row13 col14\" >92.000000</td>\n",
       "                        <td id=\"T_7a9342f7_1ac6_11eb_828f_a0a4c554f2a3row13_col15\" class=\"data row13 col15\" >491.000000</td>\n",
       "                        <td id=\"T_7a9342f7_1ac6_11eb_828f_a0a4c554f2a3row13_col16\" class=\"data row13 col16\" >142.000000</td>\n",
       "                        <td id=\"T_7a9342f7_1ac6_11eb_828f_a0a4c554f2a3row13_col17\" class=\"data row13 col17\" >281.000000</td>\n",
       "                        <td id=\"T_7a9342f7_1ac6_11eb_828f_a0a4c554f2a3row13_col18\" class=\"data row13 col18\" >107.000000</td>\n",
       "                        <td id=\"T_7a9342f7_1ac6_11eb_828f_a0a4c554f2a3row13_col19\" class=\"data row13 col19\" >714.000000</td>\n",
       "                        <td id=\"T_7a9342f7_1ac6_11eb_828f_a0a4c554f2a3row13_col20\" class=\"data row13 col20\" >76.000000</td>\n",
       "                        <td id=\"T_7a9342f7_1ac6_11eb_828f_a0a4c554f2a3row13_col21\" class=\"data row13 col21\" >1250.000000</td>\n",
       "                        <td id=\"T_7a9342f7_1ac6_11eb_828f_a0a4c554f2a3row13_col22\" class=\"data row13 col22\" >1221.000000</td>\n",
       "                        <td id=\"T_7a9342f7_1ac6_11eb_828f_a0a4c554f2a3row13_col23\" class=\"data row13 col23\" >1781.000000</td>\n",
       "                        <td id=\"T_7a9342f7_1ac6_11eb_828f_a0a4c554f2a3row13_col24\" class=\"data row13 col24\" >1682.000000</td>\n",
       "                        <td id=\"T_7a9342f7_1ac6_11eb_828f_a0a4c554f2a3row13_col25\" class=\"data row13 col25\" >2058.000000</td>\n",
       "                        <td id=\"T_7a9342f7_1ac6_11eb_828f_a0a4c554f2a3row13_col26\" class=\"data row13 col26\" >1507.000000</td>\n",
       "                        <td id=\"T_7a9342f7_1ac6_11eb_828f_a0a4c554f2a3row13_col27\" class=\"data row13 col27\" >394.000000</td>\n",
       "                        <td id=\"T_7a9342f7_1ac6_11eb_828f_a0a4c554f2a3row13_col28\" class=\"data row13 col28\" >46.000000</td>\n",
       "                        <td id=\"T_7a9342f7_1ac6_11eb_828f_a0a4c554f2a3row13_col29\" class=\"data row13 col29\" >88.000000</td>\n",
       "            </tr>\n",
       "            <tr>\n",
       "                        <th id=\"T_7a9342f7_1ac6_11eb_828f_a0a4c554f2a3level0_row14\" class=\"row_heading level0 row14\" >ikke</th>\n",
       "                        <td id=\"T_7a9342f7_1ac6_11eb_828f_a0a4c554f2a3row14_col0\" class=\"data row14 col0\" >185.000000</td>\n",
       "                        <td id=\"T_7a9342f7_1ac6_11eb_828f_a0a4c554f2a3row14_col1\" class=\"data row14 col1\" >471.000000</td>\n",
       "                        <td id=\"T_7a9342f7_1ac6_11eb_828f_a0a4c554f2a3row14_col2\" class=\"data row14 col2\" >871.000000</td>\n",
       "                        <td id=\"T_7a9342f7_1ac6_11eb_828f_a0a4c554f2a3row14_col3\" class=\"data row14 col3\" >21.000000</td>\n",
       "                        <td id=\"T_7a9342f7_1ac6_11eb_828f_a0a4c554f2a3row14_col4\" class=\"data row14 col4\" >152.000000</td>\n",
       "                        <td id=\"T_7a9342f7_1ac6_11eb_828f_a0a4c554f2a3row14_col5\" class=\"data row14 col5\" >145.000000</td>\n",
       "                        <td id=\"T_7a9342f7_1ac6_11eb_828f_a0a4c554f2a3row14_col6\" class=\"data row14 col6\" >172.000000</td>\n",
       "                        <td id=\"T_7a9342f7_1ac6_11eb_828f_a0a4c554f2a3row14_col7\" class=\"data row14 col7\" >181.000000</td>\n",
       "                        <td id=\"T_7a9342f7_1ac6_11eb_828f_a0a4c554f2a3row14_col8\" class=\"data row14 col8\" >68.000000</td>\n",
       "                        <td id=\"T_7a9342f7_1ac6_11eb_828f_a0a4c554f2a3row14_col9\" class=\"data row14 col9\" >5.000000</td>\n",
       "                        <td id=\"T_7a9342f7_1ac6_11eb_828f_a0a4c554f2a3row14_col10\" class=\"data row14 col10\" >105.000000</td>\n",
       "                        <td id=\"T_7a9342f7_1ac6_11eb_828f_a0a4c554f2a3row14_col11\" class=\"data row14 col11\" >243.000000</td>\n",
       "                        <td id=\"T_7a9342f7_1ac6_11eb_828f_a0a4c554f2a3row14_col12\" class=\"data row14 col12\" >133.000000</td>\n",
       "                        <td id=\"T_7a9342f7_1ac6_11eb_828f_a0a4c554f2a3row14_col13\" class=\"data row14 col13\" >11.000000</td>\n",
       "                        <td id=\"T_7a9342f7_1ac6_11eb_828f_a0a4c554f2a3row14_col14\" class=\"data row14 col14\" >68.000000</td>\n",
       "                        <td id=\"T_7a9342f7_1ac6_11eb_828f_a0a4c554f2a3row14_col15\" class=\"data row14 col15\" >629.000000</td>\n",
       "                        <td id=\"T_7a9342f7_1ac6_11eb_828f_a0a4c554f2a3row14_col16\" class=\"data row14 col16\" >211.000000</td>\n",
       "                        <td id=\"T_7a9342f7_1ac6_11eb_828f_a0a4c554f2a3row14_col17\" class=\"data row14 col17\" >376.000000</td>\n",
       "                        <td id=\"T_7a9342f7_1ac6_11eb_828f_a0a4c554f2a3row14_col18\" class=\"data row14 col18\" >35.000000</td>\n",
       "                        <td id=\"T_7a9342f7_1ac6_11eb_828f_a0a4c554f2a3row14_col19\" class=\"data row14 col19\" >429.000000</td>\n",
       "                        <td id=\"T_7a9342f7_1ac6_11eb_828f_a0a4c554f2a3row14_col20\" class=\"data row14 col20\" >23.000000</td>\n",
       "                        <td id=\"T_7a9342f7_1ac6_11eb_828f_a0a4c554f2a3row14_col21\" class=\"data row14 col21\" >928.000000</td>\n",
       "                        <td id=\"T_7a9342f7_1ac6_11eb_828f_a0a4c554f2a3row14_col22\" class=\"data row14 col22\" >999.000000</td>\n",
       "                        <td id=\"T_7a9342f7_1ac6_11eb_828f_a0a4c554f2a3row14_col23\" class=\"data row14 col23\" >1464.000000</td>\n",
       "                        <td id=\"T_7a9342f7_1ac6_11eb_828f_a0a4c554f2a3row14_col24\" class=\"data row14 col24\" >1461.000000</td>\n",
       "                        <td id=\"T_7a9342f7_1ac6_11eb_828f_a0a4c554f2a3row14_col25\" class=\"data row14 col25\" >1670.000000</td>\n",
       "                        <td id=\"T_7a9342f7_1ac6_11eb_828f_a0a4c554f2a3row14_col26\" class=\"data row14 col26\" >1575.000000</td>\n",
       "                        <td id=\"T_7a9342f7_1ac6_11eb_828f_a0a4c554f2a3row14_col27\" class=\"data row14 col27\" >459.000000</td>\n",
       "                        <td id=\"T_7a9342f7_1ac6_11eb_828f_a0a4c554f2a3row14_col28\" class=\"data row14 col28\" >44.000000</td>\n",
       "                        <td id=\"T_7a9342f7_1ac6_11eb_828f_a0a4c554f2a3row14_col29\" class=\"data row14 col29\" >115.000000</td>\n",
       "            </tr>\n",
       "            <tr>\n",
       "                        <th id=\"T_7a9342f7_1ac6_11eb_828f_a0a4c554f2a3level0_row15\" class=\"row_heading level0 row15\" >der</th>\n",
       "                        <td id=\"T_7a9342f7_1ac6_11eb_828f_a0a4c554f2a3row15_col0\" class=\"data row15 col0\" >2.000000</td>\n",
       "                        <td id=\"T_7a9342f7_1ac6_11eb_828f_a0a4c554f2a3row15_col1\" class=\"data row15 col1\" >318.000000</td>\n",
       "                        <td id=\"T_7a9342f7_1ac6_11eb_828f_a0a4c554f2a3row15_col2\" class=\"data row15 col2\" >605.000000</td>\n",
       "                        <td id=\"T_7a9342f7_1ac6_11eb_828f_a0a4c554f2a3row15_col3\" class=\"data row15 col3\" >15.000000</td>\n",
       "                        <td id=\"T_7a9342f7_1ac6_11eb_828f_a0a4c554f2a3row15_col4\" class=\"data row15 col4\" >132.000000</td>\n",
       "                        <td id=\"T_7a9342f7_1ac6_11eb_828f_a0a4c554f2a3row15_col5\" class=\"data row15 col5\" >103.000000</td>\n",
       "                        <td id=\"T_7a9342f7_1ac6_11eb_828f_a0a4c554f2a3row15_col6\" class=\"data row15 col6\" >143.000000</td>\n",
       "                        <td id=\"T_7a9342f7_1ac6_11eb_828f_a0a4c554f2a3row15_col7\" class=\"data row15 col7\" >121.000000</td>\n",
       "                        <td id=\"T_7a9342f7_1ac6_11eb_828f_a0a4c554f2a3row15_col8\" class=\"data row15 col8\" >47.000000</td>\n",
       "                        <td id=\"T_7a9342f7_1ac6_11eb_828f_a0a4c554f2a3row15_col9\" class=\"data row15 col9\" >7.000000</td>\n",
       "                        <td id=\"T_7a9342f7_1ac6_11eb_828f_a0a4c554f2a3row15_col10\" class=\"data row15 col10\" >53.000000</td>\n",
       "                        <td id=\"T_7a9342f7_1ac6_11eb_828f_a0a4c554f2a3row15_col11\" class=\"data row15 col11\" >244.000000</td>\n",
       "                        <td id=\"T_7a9342f7_1ac6_11eb_828f_a0a4c554f2a3row15_col12\" class=\"data row15 col12\" >107.000000</td>\n",
       "                        <td id=\"T_7a9342f7_1ac6_11eb_828f_a0a4c554f2a3row15_col13\" class=\"data row15 col13\" >11.000000</td>\n",
       "                        <td id=\"T_7a9342f7_1ac6_11eb_828f_a0a4c554f2a3row15_col14\" class=\"data row15 col14\" >46.000000</td>\n",
       "                        <td id=\"T_7a9342f7_1ac6_11eb_828f_a0a4c554f2a3row15_col15\" class=\"data row15 col15\" >244.000000</td>\n",
       "                        <td id=\"T_7a9342f7_1ac6_11eb_828f_a0a4c554f2a3row15_col16\" class=\"data row15 col16\" >102.000000</td>\n",
       "                        <td id=\"T_7a9342f7_1ac6_11eb_828f_a0a4c554f2a3row15_col17\" class=\"data row15 col17\" >165.000000</td>\n",
       "                        <td id=\"T_7a9342f7_1ac6_11eb_828f_a0a4c554f2a3row15_col18\" class=\"data row15 col18\" >25.000000</td>\n",
       "                        <td id=\"T_7a9342f7_1ac6_11eb_828f_a0a4c554f2a3row15_col19\" class=\"data row15 col19\" >283.000000</td>\n",
       "                        <td id=\"T_7a9342f7_1ac6_11eb_828f_a0a4c554f2a3row15_col20\" class=\"data row15 col20\" >17.000000</td>\n",
       "                        <td id=\"T_7a9342f7_1ac6_11eb_828f_a0a4c554f2a3row15_col21\" class=\"data row15 col21\" >396.000000</td>\n",
       "                        <td id=\"T_7a9342f7_1ac6_11eb_828f_a0a4c554f2a3row15_col22\" class=\"data row15 col22\" >466.000000</td>\n",
       "                        <td id=\"T_7a9342f7_1ac6_11eb_828f_a0a4c554f2a3row15_col23\" class=\"data row15 col23\" >671.000000</td>\n",
       "                        <td id=\"T_7a9342f7_1ac6_11eb_828f_a0a4c554f2a3row15_col24\" class=\"data row15 col24\" >601.000000</td>\n",
       "                        <td id=\"T_7a9342f7_1ac6_11eb_828f_a0a4c554f2a3row15_col25\" class=\"data row15 col25\" >826.000000</td>\n",
       "                        <td id=\"T_7a9342f7_1ac6_11eb_828f_a0a4c554f2a3row15_col26\" class=\"data row15 col26\" >815.000000</td>\n",
       "                        <td id=\"T_7a9342f7_1ac6_11eb_828f_a0a4c554f2a3row15_col27\" class=\"data row15 col27\" >281.000000</td>\n",
       "                        <td id=\"T_7a9342f7_1ac6_11eb_828f_a0a4c554f2a3row15_col28\" class=\"data row15 col28\" >44.000000</td>\n",
       "                        <td id=\"T_7a9342f7_1ac6_11eb_828f_a0a4c554f2a3row15_col29\" class=\"data row15 col29\" >50.000000</td>\n",
       "            </tr>\n",
       "            <tr>\n",
       "                        <th id=\"T_7a9342f7_1ac6_11eb_828f_a0a4c554f2a3level0_row16\" class=\"row_heading level0 row16\" >var</th>\n",
       "                        <td id=\"T_7a9342f7_1ac6_11eb_828f_a0a4c554f2a3row16_col0\" class=\"data row16 col0\" >264.000000</td>\n",
       "                        <td id=\"T_7a9342f7_1ac6_11eb_828f_a0a4c554f2a3row16_col1\" class=\"data row16 col1\" >248.000000</td>\n",
       "                        <td id=\"T_7a9342f7_1ac6_11eb_828f_a0a4c554f2a3row16_col2\" class=\"data row16 col2\" >312.000000</td>\n",
       "                        <td id=\"T_7a9342f7_1ac6_11eb_828f_a0a4c554f2a3row16_col3\" class=\"data row16 col3\" >10.000000</td>\n",
       "                        <td id=\"T_7a9342f7_1ac6_11eb_828f_a0a4c554f2a3row16_col4\" class=\"data row16 col4\" >45.000000</td>\n",
       "                        <td id=\"T_7a9342f7_1ac6_11eb_828f_a0a4c554f2a3row16_col5\" class=\"data row16 col5\" >36.000000</td>\n",
       "                        <td id=\"T_7a9342f7_1ac6_11eb_828f_a0a4c554f2a3row16_col6\" class=\"data row16 col6\" >167.000000</td>\n",
       "                        <td id=\"T_7a9342f7_1ac6_11eb_828f_a0a4c554f2a3row16_col7\" class=\"data row16 col7\" >441.000000</td>\n",
       "                        <td id=\"T_7a9342f7_1ac6_11eb_828f_a0a4c554f2a3row16_col8\" class=\"data row16 col8\" >120.000000</td>\n",
       "                        <td id=\"T_7a9342f7_1ac6_11eb_828f_a0a4c554f2a3row16_col9\" class=\"data row16 col9\" >11.000000</td>\n",
       "                        <td id=\"T_7a9342f7_1ac6_11eb_828f_a0a4c554f2a3row16_col10\" class=\"data row16 col10\" >172.000000</td>\n",
       "                        <td id=\"T_7a9342f7_1ac6_11eb_828f_a0a4c554f2a3row16_col11\" class=\"data row16 col11\" >442.000000</td>\n",
       "                        <td id=\"T_7a9342f7_1ac6_11eb_828f_a0a4c554f2a3row16_col12\" class=\"data row16 col12\" >199.000000</td>\n",
       "                        <td id=\"T_7a9342f7_1ac6_11eb_828f_a0a4c554f2a3row16_col13\" class=\"data row16 col13\" >34.000000</td>\n",
       "                        <td id=\"T_7a9342f7_1ac6_11eb_828f_a0a4c554f2a3row16_col14\" class=\"data row16 col14\" >102.000000</td>\n",
       "                        <td id=\"T_7a9342f7_1ac6_11eb_828f_a0a4c554f2a3row16_col15\" class=\"data row16 col15\" >309.000000</td>\n",
       "                        <td id=\"T_7a9342f7_1ac6_11eb_828f_a0a4c554f2a3row16_col16\" class=\"data row16 col16\" >113.000000</td>\n",
       "                        <td id=\"T_7a9342f7_1ac6_11eb_828f_a0a4c554f2a3row16_col17\" class=\"data row16 col17\" >216.000000</td>\n",
       "                        <td id=\"T_7a9342f7_1ac6_11eb_828f_a0a4c554f2a3row16_col18\" class=\"data row16 col18\" >110.000000</td>\n",
       "                        <td id=\"T_7a9342f7_1ac6_11eb_828f_a0a4c554f2a3row16_col19\" class=\"data row16 col19\" >678.000000</td>\n",
       "                        <td id=\"T_7a9342f7_1ac6_11eb_828f_a0a4c554f2a3row16_col20\" class=\"data row16 col20\" >44.000000</td>\n",
       "                        <td id=\"T_7a9342f7_1ac6_11eb_828f_a0a4c554f2a3row16_col21\" class=\"data row16 col21\" >935.000000</td>\n",
       "                        <td id=\"T_7a9342f7_1ac6_11eb_828f_a0a4c554f2a3row16_col22\" class=\"data row16 col22\" >967.000000</td>\n",
       "                        <td id=\"T_7a9342f7_1ac6_11eb_828f_a0a4c554f2a3row16_col23\" class=\"data row16 col23\" >1472.000000</td>\n",
       "                        <td id=\"T_7a9342f7_1ac6_11eb_828f_a0a4c554f2a3row16_col24\" class=\"data row16 col24\" >1418.000000</td>\n",
       "                        <td id=\"T_7a9342f7_1ac6_11eb_828f_a0a4c554f2a3row16_col25\" class=\"data row16 col25\" >1846.000000</td>\n",
       "                        <td id=\"T_7a9342f7_1ac6_11eb_828f_a0a4c554f2a3row16_col26\" class=\"data row16 col26\" >1598.000000</td>\n",
       "                        <td id=\"T_7a9342f7_1ac6_11eb_828f_a0a4c554f2a3row16_col27\" class=\"data row16 col27\" >348.000000</td>\n",
       "                        <td id=\"T_7a9342f7_1ac6_11eb_828f_a0a4c554f2a3row16_col28\" class=\"data row16 col28\" >40.000000</td>\n",
       "                        <td id=\"T_7a9342f7_1ac6_11eb_828f_a0a4c554f2a3row16_col29\" class=\"data row16 col29\" >129.000000</td>\n",
       "            </tr>\n",
       "            <tr>\n",
       "                        <th id=\"T_7a9342f7_1ac6_11eb_828f_a0a4c554f2a3level0_row17\" class=\"row_heading level0 row17\" >for</th>\n",
       "                        <td id=\"T_7a9342f7_1ac6_11eb_828f_a0a4c554f2a3row17_col0\" class=\"data row17 col0\" >41.000000</td>\n",
       "                        <td id=\"T_7a9342f7_1ac6_11eb_828f_a0a4c554f2a3row17_col1\" class=\"data row17 col1\" >286.000000</td>\n",
       "                        <td id=\"T_7a9342f7_1ac6_11eb_828f_a0a4c554f2a3row17_col2\" class=\"data row17 col2\" >559.000000</td>\n",
       "                        <td id=\"T_7a9342f7_1ac6_11eb_828f_a0a4c554f2a3row17_col3\" class=\"data row17 col3\" >30.000000</td>\n",
       "                        <td id=\"T_7a9342f7_1ac6_11eb_828f_a0a4c554f2a3row17_col4\" class=\"data row17 col4\" >117.000000</td>\n",
       "                        <td id=\"T_7a9342f7_1ac6_11eb_828f_a0a4c554f2a3row17_col5\" class=\"data row17 col5\" >113.000000</td>\n",
       "                        <td id=\"T_7a9342f7_1ac6_11eb_828f_a0a4c554f2a3row17_col6\" class=\"data row17 col6\" >126.000000</td>\n",
       "                        <td id=\"T_7a9342f7_1ac6_11eb_828f_a0a4c554f2a3row17_col7\" class=\"data row17 col7\" >476.000000</td>\n",
       "                        <td id=\"T_7a9342f7_1ac6_11eb_828f_a0a4c554f2a3row17_col8\" class=\"data row17 col8\" >137.000000</td>\n",
       "                        <td id=\"T_7a9342f7_1ac6_11eb_828f_a0a4c554f2a3row17_col9\" class=\"data row17 col9\" >9.000000</td>\n",
       "                        <td id=\"T_7a9342f7_1ac6_11eb_828f_a0a4c554f2a3row17_col10\" class=\"data row17 col10\" >78.000000</td>\n",
       "                        <td id=\"T_7a9342f7_1ac6_11eb_828f_a0a4c554f2a3row17_col11\" class=\"data row17 col11\" >414.000000</td>\n",
       "                        <td id=\"T_7a9342f7_1ac6_11eb_828f_a0a4c554f2a3row17_col12\" class=\"data row17 col12\" >191.000000</td>\n",
       "                        <td id=\"T_7a9342f7_1ac6_11eb_828f_a0a4c554f2a3row17_col13\" class=\"data row17 col13\" >49.000000</td>\n",
       "                        <td id=\"T_7a9342f7_1ac6_11eb_828f_a0a4c554f2a3row17_col14\" class=\"data row17 col14\" >113.000000</td>\n",
       "                        <td id=\"T_7a9342f7_1ac6_11eb_828f_a0a4c554f2a3row17_col15\" class=\"data row17 col15\" >408.000000</td>\n",
       "                        <td id=\"T_7a9342f7_1ac6_11eb_828f_a0a4c554f2a3row17_col16\" class=\"data row17 col16\" >191.000000</td>\n",
       "                        <td id=\"T_7a9342f7_1ac6_11eb_828f_a0a4c554f2a3row17_col17\" class=\"data row17 col17\" >332.000000</td>\n",
       "                        <td id=\"T_7a9342f7_1ac6_11eb_828f_a0a4c554f2a3row17_col18\" class=\"data row17 col18\" >70.000000</td>\n",
       "                        <td id=\"T_7a9342f7_1ac6_11eb_828f_a0a4c554f2a3row17_col19\" class=\"data row17 col19\" >469.000000</td>\n",
       "                        <td id=\"T_7a9342f7_1ac6_11eb_828f_a0a4c554f2a3row17_col20\" class=\"data row17 col20\" >46.000000</td>\n",
       "                        <td id=\"T_7a9342f7_1ac6_11eb_828f_a0a4c554f2a3row17_col21\" class=\"data row17 col21\" >803.000000</td>\n",
       "                        <td id=\"T_7a9342f7_1ac6_11eb_828f_a0a4c554f2a3row17_col22\" class=\"data row17 col22\" >868.000000</td>\n",
       "                        <td id=\"T_7a9342f7_1ac6_11eb_828f_a0a4c554f2a3row17_col23\" class=\"data row17 col23\" >1157.000000</td>\n",
       "                        <td id=\"T_7a9342f7_1ac6_11eb_828f_a0a4c554f2a3row17_col24\" class=\"data row17 col24\" >1145.000000</td>\n",
       "                        <td id=\"T_7a9342f7_1ac6_11eb_828f_a0a4c554f2a3row17_col25\" class=\"data row17 col25\" >1407.000000</td>\n",
       "                        <td id=\"T_7a9342f7_1ac6_11eb_828f_a0a4c554f2a3row17_col26\" class=\"data row17 col26\" >1176.000000</td>\n",
       "                        <td id=\"T_7a9342f7_1ac6_11eb_828f_a0a4c554f2a3row17_col27\" class=\"data row17 col27\" >368.000000</td>\n",
       "                        <td id=\"T_7a9342f7_1ac6_11eb_828f_a0a4c554f2a3row17_col28\" class=\"data row17 col28\" >38.000000</td>\n",
       "                        <td id=\"T_7a9342f7_1ac6_11eb_828f_a0a4c554f2a3row17_col29\" class=\"data row17 col29\" >50.000000</td>\n",
       "            </tr>\n",
       "            <tr>\n",
       "                        <th id=\"T_7a9342f7_1ac6_11eb_828f_a0a4c554f2a3level0_row18\" class=\"row_heading level0 row18\" >til</th>\n",
       "                        <td id=\"T_7a9342f7_1ac6_11eb_828f_a0a4c554f2a3row18_col0\" class=\"data row18 col0\" >52.000000</td>\n",
       "                        <td id=\"T_7a9342f7_1ac6_11eb_828f_a0a4c554f2a3row18_col1\" class=\"data row18 col1\" >474.000000</td>\n",
       "                        <td id=\"T_7a9342f7_1ac6_11eb_828f_a0a4c554f2a3row18_col2\" class=\"data row18 col2\" >1000.000000</td>\n",
       "                        <td id=\"T_7a9342f7_1ac6_11eb_828f_a0a4c554f2a3row18_col3\" class=\"data row18 col3\" >37.000000</td>\n",
       "                        <td id=\"T_7a9342f7_1ac6_11eb_828f_a0a4c554f2a3row18_col4\" class=\"data row18 col4\" >214.000000</td>\n",
       "                        <td id=\"T_7a9342f7_1ac6_11eb_828f_a0a4c554f2a3row18_col5\" class=\"data row18 col5\" >159.000000</td>\n",
       "                        <td id=\"T_7a9342f7_1ac6_11eb_828f_a0a4c554f2a3row18_col6\" class=\"data row18 col6\" >172.000000</td>\n",
       "                        <td id=\"T_7a9342f7_1ac6_11eb_828f_a0a4c554f2a3row18_col7\" class=\"data row18 col7\" >671.000000</td>\n",
       "                        <td id=\"T_7a9342f7_1ac6_11eb_828f_a0a4c554f2a3row18_col8\" class=\"data row18 col8\" >213.000000</td>\n",
       "                        <td id=\"T_7a9342f7_1ac6_11eb_828f_a0a4c554f2a3row18_col9\" class=\"data row18 col9\" >27.000000</td>\n",
       "                        <td id=\"T_7a9342f7_1ac6_11eb_828f_a0a4c554f2a3row18_col10\" class=\"data row18 col10\" >128.000000</td>\n",
       "                        <td id=\"T_7a9342f7_1ac6_11eb_828f_a0a4c554f2a3row18_col11\" class=\"data row18 col11\" >494.000000</td>\n",
       "                        <td id=\"T_7a9342f7_1ac6_11eb_828f_a0a4c554f2a3row18_col12\" class=\"data row18 col12\" >225.000000</td>\n",
       "                        <td id=\"T_7a9342f7_1ac6_11eb_828f_a0a4c554f2a3row18_col13\" class=\"data row18 col13\" >92.000000</td>\n",
       "                        <td id=\"T_7a9342f7_1ac6_11eb_828f_a0a4c554f2a3row18_col14\" class=\"data row18 col14\" >182.000000</td>\n",
       "                        <td id=\"T_7a9342f7_1ac6_11eb_828f_a0a4c554f2a3row18_col15\" class=\"data row18 col15\" >532.000000</td>\n",
       "                        <td id=\"T_7a9342f7_1ac6_11eb_828f_a0a4c554f2a3row18_col16\" class=\"data row18 col16\" >269.000000</td>\n",
       "                        <td id=\"T_7a9342f7_1ac6_11eb_828f_a0a4c554f2a3row18_col17\" class=\"data row18 col17\" >458.000000</td>\n",
       "                        <td id=\"T_7a9342f7_1ac6_11eb_828f_a0a4c554f2a3row18_col18\" class=\"data row18 col18\" >105.000000</td>\n",
       "                        <td id=\"T_7a9342f7_1ac6_11eb_828f_a0a4c554f2a3row18_col19\" class=\"data row18 col19\" >651.000000</td>\n",
       "                        <td id=\"T_7a9342f7_1ac6_11eb_828f_a0a4c554f2a3row18_col20\" class=\"data row18 col20\" >60.000000</td>\n",
       "                        <td id=\"T_7a9342f7_1ac6_11eb_828f_a0a4c554f2a3row18_col21\" class=\"data row18 col21\" >1202.000000</td>\n",
       "                        <td id=\"T_7a9342f7_1ac6_11eb_828f_a0a4c554f2a3row18_col22\" class=\"data row18 col22\" >1142.000000</td>\n",
       "                        <td id=\"T_7a9342f7_1ac6_11eb_828f_a0a4c554f2a3row18_col23\" class=\"data row18 col23\" >1580.000000</td>\n",
       "                        <td id=\"T_7a9342f7_1ac6_11eb_828f_a0a4c554f2a3row18_col24\" class=\"data row18 col24\" >1740.000000</td>\n",
       "                        <td id=\"T_7a9342f7_1ac6_11eb_828f_a0a4c554f2a3row18_col25\" class=\"data row18 col25\" >2278.000000</td>\n",
       "                        <td id=\"T_7a9342f7_1ac6_11eb_828f_a0a4c554f2a3row18_col26\" class=\"data row18 col26\" >1869.000000</td>\n",
       "                        <td id=\"T_7a9342f7_1ac6_11eb_828f_a0a4c554f2a3row18_col27\" class=\"data row18 col27\" >511.000000</td>\n",
       "                        <td id=\"T_7a9342f7_1ac6_11eb_828f_a0a4c554f2a3row18_col28\" class=\"data row18 col28\" >37.000000</td>\n",
       "                        <td id=\"T_7a9342f7_1ac6_11eb_828f_a0a4c554f2a3row18_col29\" class=\"data row18 col29\" >96.000000</td>\n",
       "            </tr>\n",
       "            <tr>\n",
       "                        <th id=\"T_7a9342f7_1ac6_11eb_828f_a0a4c554f2a3level0_row19\" class=\"row_heading level0 row19\" >–</th>\n",
       "                        <td id=\"T_7a9342f7_1ac6_11eb_828f_a0a4c554f2a3row19_col0\" class=\"data row19 col0\" >627.000000</td>\n",
       "                        <td id=\"T_7a9342f7_1ac6_11eb_828f_a0a4c554f2a3row19_col1\" class=\"data row19 col1\" >680.000000</td>\n",
       "                        <td id=\"T_7a9342f7_1ac6_11eb_828f_a0a4c554f2a3row19_col2\" class=\"data row19 col2\" >1131.000000</td>\n",
       "                        <td id=\"T_7a9342f7_1ac6_11eb_828f_a0a4c554f2a3row19_col3\" class=\"data row19 col3\" >31.000000</td>\n",
       "                        <td id=\"T_7a9342f7_1ac6_11eb_828f_a0a4c554f2a3row19_col4\" class=\"data row19 col4\" >182.000000</td>\n",
       "                        <td id=\"T_7a9342f7_1ac6_11eb_828f_a0a4c554f2a3row19_col5\" class=\"data row19 col5\" >159.000000</td>\n",
       "                        <td id=\"T_7a9342f7_1ac6_11eb_828f_a0a4c554f2a3row19_col6\" class=\"data row19 col6\" >147.000000</td>\n",
       "                        <td id=\"T_7a9342f7_1ac6_11eb_828f_a0a4c554f2a3row19_col7\" class=\"data row19 col7\" >444.000000</td>\n",
       "                        <td id=\"T_7a9342f7_1ac6_11eb_828f_a0a4c554f2a3row19_col8\" class=\"data row19 col8\" >210.000000</td>\n",
       "                        <td id=\"T_7a9342f7_1ac6_11eb_828f_a0a4c554f2a3row19_col9\" class=\"data row19 col9\" >52.000000</td>\n",
       "                        <td id=\"T_7a9342f7_1ac6_11eb_828f_a0a4c554f2a3row19_col10\" class=\"data row19 col10\" >324.000000</td>\n",
       "                        <td id=\"T_7a9342f7_1ac6_11eb_828f_a0a4c554f2a3row19_col11\" class=\"data row19 col11\" >1419.000000</td>\n",
       "                        <td id=\"T_7a9342f7_1ac6_11eb_828f_a0a4c554f2a3row19_col12\" class=\"data row19 col12\" >205.000000</td>\n",
       "                        <td id=\"T_7a9342f7_1ac6_11eb_828f_a0a4c554f2a3row19_col13\" class=\"data row19 col13\" >1335.000000</td>\n",
       "                        <td id=\"T_7a9342f7_1ac6_11eb_828f_a0a4c554f2a3row19_col14\" class=\"data row19 col14\" >269.000000</td>\n",
       "                        <td id=\"T_7a9342f7_1ac6_11eb_828f_a0a4c554f2a3row19_col15\" class=\"data row19 col15\" >782.000000</td>\n",
       "                        <td id=\"T_7a9342f7_1ac6_11eb_828f_a0a4c554f2a3row19_col16\" class=\"data row19 col16\" >194.000000</td>\n",
       "                        <td id=\"T_7a9342f7_1ac6_11eb_828f_a0a4c554f2a3row19_col17\" class=\"data row19 col17\" >563.000000</td>\n",
       "                        <td id=\"T_7a9342f7_1ac6_11eb_828f_a0a4c554f2a3row19_col18\" class=\"data row19 col18\" >191.000000</td>\n",
       "                        <td id=\"T_7a9342f7_1ac6_11eb_828f_a0a4c554f2a3row19_col19\" class=\"data row19 col19\" >1035.000000</td>\n",
       "                        <td id=\"T_7a9342f7_1ac6_11eb_828f_a0a4c554f2a3row19_col20\" class=\"data row19 col20\" >135.000000</td>\n",
       "                        <td id=\"T_7a9342f7_1ac6_11eb_828f_a0a4c554f2a3row19_col21\" class=\"data row19 col21\" >1090.000000</td>\n",
       "                        <td id=\"T_7a9342f7_1ac6_11eb_828f_a0a4c554f2a3row19_col22\" class=\"data row19 col22\" >1638.000000</td>\n",
       "                        <td id=\"T_7a9342f7_1ac6_11eb_828f_a0a4c554f2a3row19_col23\" class=\"data row19 col23\" >1533.000000</td>\n",
       "                        <td id=\"T_7a9342f7_1ac6_11eb_828f_a0a4c554f2a3row19_col24\" class=\"data row19 col24\" >2086.000000</td>\n",
       "                        <td id=\"T_7a9342f7_1ac6_11eb_828f_a0a4c554f2a3row19_col25\" class=\"data row19 col25\" >2051.000000</td>\n",
       "                        <td id=\"T_7a9342f7_1ac6_11eb_828f_a0a4c554f2a3row19_col26\" class=\"data row19 col26\" >1144.000000</td>\n",
       "                        <td id=\"T_7a9342f7_1ac6_11eb_828f_a0a4c554f2a3row19_col27\" class=\"data row19 col27\" >344.000000</td>\n",
       "                        <td id=\"T_7a9342f7_1ac6_11eb_828f_a0a4c554f2a3row19_col28\" class=\"data row19 col28\" >35.000000</td>\n",
       "                        <td id=\"T_7a9342f7_1ac6_11eb_828f_a0a4c554f2a3row19_col29\" class=\"data row19 col29\" >289.000000</td>\n",
       "            </tr>\n",
       "            <tr>\n",
       "                        <th id=\"T_7a9342f7_1ac6_11eb_828f_a0a4c554f2a3level0_row20\" class=\"row_heading level0 row20\" >hun</th>\n",
       "                        <td id=\"T_7a9342f7_1ac6_11eb_828f_a0a4c554f2a3row20_col0\" class=\"data row20 col0\" >0.000000</td>\n",
       "                        <td id=\"T_7a9342f7_1ac6_11eb_828f_a0a4c554f2a3row20_col1\" class=\"data row20 col1\" >86.000000</td>\n",
       "                        <td id=\"T_7a9342f7_1ac6_11eb_828f_a0a4c554f2a3row20_col2\" class=\"data row20 col2\" >147.000000</td>\n",
       "                        <td id=\"T_7a9342f7_1ac6_11eb_828f_a0a4c554f2a3row20_col3\" class=\"data row20 col3\" >1.000000</td>\n",
       "                        <td id=\"T_7a9342f7_1ac6_11eb_828f_a0a4c554f2a3row20_col4\" class=\"data row20 col4\" >10.000000</td>\n",
       "                        <td id=\"T_7a9342f7_1ac6_11eb_828f_a0a4c554f2a3row20_col5\" class=\"data row20 col5\" >15.000000</td>\n",
       "                        <td id=\"T_7a9342f7_1ac6_11eb_828f_a0a4c554f2a3row20_col6\" class=\"data row20 col6\" >40.000000</td>\n",
       "                        <td id=\"T_7a9342f7_1ac6_11eb_828f_a0a4c554f2a3row20_col7\" class=\"data row20 col7\" >84.000000</td>\n",
       "                        <td id=\"T_7a9342f7_1ac6_11eb_828f_a0a4c554f2a3row20_col8\" class=\"data row20 col8\" >3.000000</td>\n",
       "                        <td id=\"T_7a9342f7_1ac6_11eb_828f_a0a4c554f2a3row20_col9\" class=\"data row20 col9\" >2.000000</td>\n",
       "                        <td id=\"T_7a9342f7_1ac6_11eb_828f_a0a4c554f2a3row20_col10\" class=\"data row20 col10\" >57.000000</td>\n",
       "                        <td id=\"T_7a9342f7_1ac6_11eb_828f_a0a4c554f2a3row20_col11\" class=\"data row20 col11\" >134.000000</td>\n",
       "                        <td id=\"T_7a9342f7_1ac6_11eb_828f_a0a4c554f2a3row20_col12\" class=\"data row20 col12\" >50.000000</td>\n",
       "                        <td id=\"T_7a9342f7_1ac6_11eb_828f_a0a4c554f2a3row20_col13\" class=\"data row20 col13\" >6.000000</td>\n",
       "                        <td id=\"T_7a9342f7_1ac6_11eb_828f_a0a4c554f2a3row20_col14\" class=\"data row20 col14\" >24.000000</td>\n",
       "                        <td id=\"T_7a9342f7_1ac6_11eb_828f_a0a4c554f2a3row20_col15\" class=\"data row20 col15\" >89.000000</td>\n",
       "                        <td id=\"T_7a9342f7_1ac6_11eb_828f_a0a4c554f2a3row20_col16\" class=\"data row20 col16\" >146.000000</td>\n",
       "                        <td id=\"T_7a9342f7_1ac6_11eb_828f_a0a4c554f2a3row20_col17\" class=\"data row20 col17\" >121.000000</td>\n",
       "                        <td id=\"T_7a9342f7_1ac6_11eb_828f_a0a4c554f2a3row20_col18\" class=\"data row20 col18\" >30.000000</td>\n",
       "                        <td id=\"T_7a9342f7_1ac6_11eb_828f_a0a4c554f2a3row20_col19\" class=\"data row20 col19\" >210.000000</td>\n",
       "                        <td id=\"T_7a9342f7_1ac6_11eb_828f_a0a4c554f2a3row20_col20\" class=\"data row20 col20\" >12.000000</td>\n",
       "                        <td id=\"T_7a9342f7_1ac6_11eb_828f_a0a4c554f2a3row20_col21\" class=\"data row20 col21\" >389.000000</td>\n",
       "                        <td id=\"T_7a9342f7_1ac6_11eb_828f_a0a4c554f2a3row20_col22\" class=\"data row20 col22\" >391.000000</td>\n",
       "                        <td id=\"T_7a9342f7_1ac6_11eb_828f_a0a4c554f2a3row20_col23\" class=\"data row20 col23\" >594.000000</td>\n",
       "                        <td id=\"T_7a9342f7_1ac6_11eb_828f_a0a4c554f2a3row20_col24\" class=\"data row20 col24\" >633.000000</td>\n",
       "                        <td id=\"T_7a9342f7_1ac6_11eb_828f_a0a4c554f2a3row20_col25\" class=\"data row20 col25\" >831.000000</td>\n",
       "                        <td id=\"T_7a9342f7_1ac6_11eb_828f_a0a4c554f2a3row20_col26\" class=\"data row20 col26\" >781.000000</td>\n",
       "                        <td id=\"T_7a9342f7_1ac6_11eb_828f_a0a4c554f2a3row20_col27\" class=\"data row20 col27\" >83.000000</td>\n",
       "                        <td id=\"T_7a9342f7_1ac6_11eb_828f_a0a4c554f2a3row20_col28\" class=\"data row20 col28\" >35.000000</td>\n",
       "                        <td id=\"T_7a9342f7_1ac6_11eb_828f_a0a4c554f2a3row20_col29\" class=\"data row20 col29\" >129.000000</td>\n",
       "            </tr>\n",
       "            <tr>\n",
       "                        <th id=\"T_7a9342f7_1ac6_11eb_828f_a0a4c554f2a3level0_row21\" class=\"row_heading level0 row21\" >ham</th>\n",
       "                        <td id=\"T_7a9342f7_1ac6_11eb_828f_a0a4c554f2a3row21_col0\" class=\"data row21 col0\" >1.000000</td>\n",
       "                        <td id=\"T_7a9342f7_1ac6_11eb_828f_a0a4c554f2a3row21_col1\" class=\"data row21 col1\" >117.000000</td>\n",
       "                        <td id=\"T_7a9342f7_1ac6_11eb_828f_a0a4c554f2a3row21_col2\" class=\"data row21 col2\" >131.000000</td>\n",
       "                        <td id=\"T_7a9342f7_1ac6_11eb_828f_a0a4c554f2a3row21_col3\" class=\"data row21 col3\" >7.000000</td>\n",
       "                        <td id=\"T_7a9342f7_1ac6_11eb_828f_a0a4c554f2a3row21_col4\" class=\"data row21 col4\" >25.000000</td>\n",
       "                        <td id=\"T_7a9342f7_1ac6_11eb_828f_a0a4c554f2a3row21_col5\" class=\"data row21 col5\" >18.000000</td>\n",
       "                        <td id=\"T_7a9342f7_1ac6_11eb_828f_a0a4c554f2a3row21_col6\" class=\"data row21 col6\" >81.000000</td>\n",
       "                        <td id=\"T_7a9342f7_1ac6_11eb_828f_a0a4c554f2a3row21_col7\" class=\"data row21 col7\" >94.000000</td>\n",
       "                        <td id=\"T_7a9342f7_1ac6_11eb_828f_a0a4c554f2a3row21_col8\" class=\"data row21 col8\" >23.000000</td>\n",
       "                        <td id=\"T_7a9342f7_1ac6_11eb_828f_a0a4c554f2a3row21_col9\" class=\"data row21 col9\" >4.000000</td>\n",
       "                        <td id=\"T_7a9342f7_1ac6_11eb_828f_a0a4c554f2a3row21_col10\" class=\"data row21 col10\" >19.000000</td>\n",
       "                        <td id=\"T_7a9342f7_1ac6_11eb_828f_a0a4c554f2a3row21_col11\" class=\"data row21 col11\" >57.000000</td>\n",
       "                        <td id=\"T_7a9342f7_1ac6_11eb_828f_a0a4c554f2a3row21_col12\" class=\"data row21 col12\" >34.000000</td>\n",
       "                        <td id=\"T_7a9342f7_1ac6_11eb_828f_a0a4c554f2a3row21_col13\" class=\"data row21 col13\" >5.000000</td>\n",
       "                        <td id=\"T_7a9342f7_1ac6_11eb_828f_a0a4c554f2a3row21_col14\" class=\"data row21 col14\" >29.000000</td>\n",
       "                        <td id=\"T_7a9342f7_1ac6_11eb_828f_a0a4c554f2a3row21_col15\" class=\"data row21 col15\" >62.000000</td>\n",
       "                        <td id=\"T_7a9342f7_1ac6_11eb_828f_a0a4c554f2a3row21_col16\" class=\"data row21 col16\" >40.000000</td>\n",
       "                        <td id=\"T_7a9342f7_1ac6_11eb_828f_a0a4c554f2a3row21_col17\" class=\"data row21 col17\" >75.000000</td>\n",
       "                        <td id=\"T_7a9342f7_1ac6_11eb_828f_a0a4c554f2a3row21_col18\" class=\"data row21 col18\" >17.000000</td>\n",
       "                        <td id=\"T_7a9342f7_1ac6_11eb_828f_a0a4c554f2a3row21_col19\" class=\"data row21 col19\" >140.000000</td>\n",
       "                        <td id=\"T_7a9342f7_1ac6_11eb_828f_a0a4c554f2a3row21_col20\" class=\"data row21 col20\" >11.000000</td>\n",
       "                        <td id=\"T_7a9342f7_1ac6_11eb_828f_a0a4c554f2a3row21_col21\" class=\"data row21 col21\" >257.000000</td>\n",
       "                        <td id=\"T_7a9342f7_1ac6_11eb_828f_a0a4c554f2a3row21_col22\" class=\"data row21 col22\" >257.000000</td>\n",
       "                        <td id=\"T_7a9342f7_1ac6_11eb_828f_a0a4c554f2a3row21_col23\" class=\"data row21 col23\" >364.000000</td>\n",
       "                        <td id=\"T_7a9342f7_1ac6_11eb_828f_a0a4c554f2a3row21_col24\" class=\"data row21 col24\" >345.000000</td>\n",
       "                        <td id=\"T_7a9342f7_1ac6_11eb_828f_a0a4c554f2a3row21_col25\" class=\"data row21 col25\" >425.000000</td>\n",
       "                        <td id=\"T_7a9342f7_1ac6_11eb_828f_a0a4c554f2a3row21_col26\" class=\"data row21 col26\" >412.000000</td>\n",
       "                        <td id=\"T_7a9342f7_1ac6_11eb_828f_a0a4c554f2a3row21_col27\" class=\"data row21 col27\" >159.000000</td>\n",
       "                        <td id=\"T_7a9342f7_1ac6_11eb_828f_a0a4c554f2a3row21_col28\" class=\"data row21 col28\" >34.000000</td>\n",
       "                        <td id=\"T_7a9342f7_1ac6_11eb_828f_a0a4c554f2a3row21_col29\" class=\"data row21 col29\" >20.000000</td>\n",
       "            </tr>\n",
       "            <tr>\n",
       "                        <th id=\"T_7a9342f7_1ac6_11eb_828f_a0a4c554f2a3level0_row22\" class=\"row_heading level0 row22\" >min</th>\n",
       "                        <td id=\"T_7a9342f7_1ac6_11eb_828f_a0a4c554f2a3row22_col0\" class=\"data row22 col0\" >6.000000</td>\n",
       "                        <td id=\"T_7a9342f7_1ac6_11eb_828f_a0a4c554f2a3row22_col1\" class=\"data row22 col1\" >108.000000</td>\n",
       "                        <td id=\"T_7a9342f7_1ac6_11eb_828f_a0a4c554f2a3row22_col2\" class=\"data row22 col2\" >237.000000</td>\n",
       "                        <td id=\"T_7a9342f7_1ac6_11eb_828f_a0a4c554f2a3row22_col3\" class=\"data row22 col3\" >14.000000</td>\n",
       "                        <td id=\"T_7a9342f7_1ac6_11eb_828f_a0a4c554f2a3row22_col4\" class=\"data row22 col4\" >37.000000</td>\n",
       "                        <td id=\"T_7a9342f7_1ac6_11eb_828f_a0a4c554f2a3row22_col5\" class=\"data row22 col5\" >42.000000</td>\n",
       "                        <td id=\"T_7a9342f7_1ac6_11eb_828f_a0a4c554f2a3row22_col6\" class=\"data row22 col6\" >49.000000</td>\n",
       "                        <td id=\"T_7a9342f7_1ac6_11eb_828f_a0a4c554f2a3row22_col7\" class=\"data row22 col7\" >40.000000</td>\n",
       "                        <td id=\"T_7a9342f7_1ac6_11eb_828f_a0a4c554f2a3row22_col8\" class=\"data row22 col8\" >0.000000</td>\n",
       "                        <td id=\"T_7a9342f7_1ac6_11eb_828f_a0a4c554f2a3row22_col9\" class=\"data row22 col9\" >3.000000</td>\n",
       "                        <td id=\"T_7a9342f7_1ac6_11eb_828f_a0a4c554f2a3row22_col10\" class=\"data row22 col10\" >27.000000</td>\n",
       "                        <td id=\"T_7a9342f7_1ac6_11eb_828f_a0a4c554f2a3row22_col11\" class=\"data row22 col11\" >30.000000</td>\n",
       "                        <td id=\"T_7a9342f7_1ac6_11eb_828f_a0a4c554f2a3row22_col12\" class=\"data row22 col12\" >22.000000</td>\n",
       "                        <td id=\"T_7a9342f7_1ac6_11eb_828f_a0a4c554f2a3row22_col13\" class=\"data row22 col13\" >7.000000</td>\n",
       "                        <td id=\"T_7a9342f7_1ac6_11eb_828f_a0a4c554f2a3row22_col14\" class=\"data row22 col14\" >7.000000</td>\n",
       "                        <td id=\"T_7a9342f7_1ac6_11eb_828f_a0a4c554f2a3row22_col15\" class=\"data row22 col15\" >84.000000</td>\n",
       "                        <td id=\"T_7a9342f7_1ac6_11eb_828f_a0a4c554f2a3row22_col16\" class=\"data row22 col16\" >20.000000</td>\n",
       "                        <td id=\"T_7a9342f7_1ac6_11eb_828f_a0a4c554f2a3row22_col17\" class=\"data row22 col17\" >59.000000</td>\n",
       "                        <td id=\"T_7a9342f7_1ac6_11eb_828f_a0a4c554f2a3row22_col18\" class=\"data row22 col18\" >29.000000</td>\n",
       "                        <td id=\"T_7a9342f7_1ac6_11eb_828f_a0a4c554f2a3row22_col19\" class=\"data row22 col19\" >384.000000</td>\n",
       "                        <td id=\"T_7a9342f7_1ac6_11eb_828f_a0a4c554f2a3row22_col20\" class=\"data row22 col20\" >17.000000</td>\n",
       "                        <td id=\"T_7a9342f7_1ac6_11eb_828f_a0a4c554f2a3row22_col21\" class=\"data row22 col21\" >751.000000</td>\n",
       "                        <td id=\"T_7a9342f7_1ac6_11eb_828f_a0a4c554f2a3row22_col22\" class=\"data row22 col22\" >955.000000</td>\n",
       "                        <td id=\"T_7a9342f7_1ac6_11eb_828f_a0a4c554f2a3row22_col23\" class=\"data row22 col23\" >1131.000000</td>\n",
       "                        <td id=\"T_7a9342f7_1ac6_11eb_828f_a0a4c554f2a3row22_col24\" class=\"data row22 col24\" >1175.000000</td>\n",
       "                        <td id=\"T_7a9342f7_1ac6_11eb_828f_a0a4c554f2a3row22_col25\" class=\"data row22 col25\" >1465.000000</td>\n",
       "                        <td id=\"T_7a9342f7_1ac6_11eb_828f_a0a4c554f2a3row22_col26\" class=\"data row22 col26\" >1195.000000</td>\n",
       "                        <td id=\"T_7a9342f7_1ac6_11eb_828f_a0a4c554f2a3row22_col27\" class=\"data row22 col27\" >247.000000</td>\n",
       "                        <td id=\"T_7a9342f7_1ac6_11eb_828f_a0a4c554f2a3row22_col28\" class=\"data row22 col28\" >34.000000</td>\n",
       "                        <td id=\"T_7a9342f7_1ac6_11eb_828f_a0a4c554f2a3row22_col29\" class=\"data row22 col29\" >2.000000</td>\n",
       "            </tr>\n",
       "            <tr>\n",
       "                        <th id=\"T_7a9342f7_1ac6_11eb_828f_a0a4c554f2a3level0_row23\" class=\"row_heading level0 row23\" >paa</th>\n",
       "                        <td id=\"T_7a9342f7_1ac6_11eb_828f_a0a4c554f2a3row23_col0\" class=\"data row23 col0\" >3.000000</td>\n",
       "                        <td id=\"T_7a9342f7_1ac6_11eb_828f_a0a4c554f2a3row23_col1\" class=\"data row23 col1\" >323.000000</td>\n",
       "                        <td id=\"T_7a9342f7_1ac6_11eb_828f_a0a4c554f2a3row23_col2\" class=\"data row23 col2\" >463.000000</td>\n",
       "                        <td id=\"T_7a9342f7_1ac6_11eb_828f_a0a4c554f2a3row23_col3\" class=\"data row23 col3\" >17.000000</td>\n",
       "                        <td id=\"T_7a9342f7_1ac6_11eb_828f_a0a4c554f2a3row23_col4\" class=\"data row23 col4\" >20.000000</td>\n",
       "                        <td id=\"T_7a9342f7_1ac6_11eb_828f_a0a4c554f2a3row23_col5\" class=\"data row23 col5\" >37.000000</td>\n",
       "                        <td id=\"T_7a9342f7_1ac6_11eb_828f_a0a4c554f2a3row23_col6\" class=\"data row23 col6\" >111.000000</td>\n",
       "                        <td id=\"T_7a9342f7_1ac6_11eb_828f_a0a4c554f2a3row23_col7\" class=\"data row23 col7\" >0.000000</td>\n",
       "                        <td id=\"T_7a9342f7_1ac6_11eb_828f_a0a4c554f2a3row23_col8\" class=\"data row23 col8\" >94.000000</td>\n",
       "                        <td id=\"T_7a9342f7_1ac6_11eb_828f_a0a4c554f2a3row23_col9\" class=\"data row23 col9\" >29.000000</td>\n",
       "                        <td id=\"T_7a9342f7_1ac6_11eb_828f_a0a4c554f2a3row23_col10\" class=\"data row23 col10\" >127.000000</td>\n",
       "                        <td id=\"T_7a9342f7_1ac6_11eb_828f_a0a4c554f2a3row23_col11\" class=\"data row23 col11\" >288.000000</td>\n",
       "                        <td id=\"T_7a9342f7_1ac6_11eb_828f_a0a4c554f2a3row23_col12\" class=\"data row23 col12\" >130.000000</td>\n",
       "                        <td id=\"T_7a9342f7_1ac6_11eb_828f_a0a4c554f2a3row23_col13\" class=\"data row23 col13\" >32.000000</td>\n",
       "                        <td id=\"T_7a9342f7_1ac6_11eb_828f_a0a4c554f2a3row23_col14\" class=\"data row23 col14\" >121.000000</td>\n",
       "                        <td id=\"T_7a9342f7_1ac6_11eb_828f_a0a4c554f2a3row23_col15\" class=\"data row23 col15\" >366.000000</td>\n",
       "                        <td id=\"T_7a9342f7_1ac6_11eb_828f_a0a4c554f2a3row23_col16\" class=\"data row23 col16\" >147.000000</td>\n",
       "                        <td id=\"T_7a9342f7_1ac6_11eb_828f_a0a4c554f2a3row23_col17\" class=\"data row23 col17\" >203.000000</td>\n",
       "                        <td id=\"T_7a9342f7_1ac6_11eb_828f_a0a4c554f2a3row23_col18\" class=\"data row23 col18\" >51.000000</td>\n",
       "                        <td id=\"T_7a9342f7_1ac6_11eb_828f_a0a4c554f2a3row23_col19\" class=\"data row23 col19\" >387.000000</td>\n",
       "                        <td id=\"T_7a9342f7_1ac6_11eb_828f_a0a4c554f2a3row23_col20\" class=\"data row23 col20\" >27.000000</td>\n",
       "                        <td id=\"T_7a9342f7_1ac6_11eb_828f_a0a4c554f2a3row23_col21\" class=\"data row23 col21\" >702.000000</td>\n",
       "                        <td id=\"T_7a9342f7_1ac6_11eb_828f_a0a4c554f2a3row23_col22\" class=\"data row23 col22\" >715.000000</td>\n",
       "                        <td id=\"T_7a9342f7_1ac6_11eb_828f_a0a4c554f2a3row23_col23\" class=\"data row23 col23\" >1009.000000</td>\n",
       "                        <td id=\"T_7a9342f7_1ac6_11eb_828f_a0a4c554f2a3row23_col24\" class=\"data row23 col24\" >1093.000000</td>\n",
       "                        <td id=\"T_7a9342f7_1ac6_11eb_828f_a0a4c554f2a3row23_col25\" class=\"data row23 col25\" >1320.000000</td>\n",
       "                        <td id=\"T_7a9342f7_1ac6_11eb_828f_a0a4c554f2a3row23_col26\" class=\"data row23 col26\" >1050.000000</td>\n",
       "                        <td id=\"T_7a9342f7_1ac6_11eb_828f_a0a4c554f2a3row23_col27\" class=\"data row23 col27\" >291.000000</td>\n",
       "                        <td id=\"T_7a9342f7_1ac6_11eb_828f_a0a4c554f2a3row23_col28\" class=\"data row23 col28\" >33.000000</td>\n",
       "                        <td id=\"T_7a9342f7_1ac6_11eb_828f_a0a4c554f2a3row23_col29\" class=\"data row23 col29\" >108.000000</td>\n",
       "            </tr>\n",
       "            <tr>\n",
       "                        <th id=\"T_7a9342f7_1ac6_11eb_828f_a0a4c554f2a3level0_row24\" class=\"row_heading level0 row24\" >[</th>\n",
       "                        <td id=\"T_7a9342f7_1ac6_11eb_828f_a0a4c554f2a3row24_col0\" class=\"data row24 col0\" >13.000000</td>\n",
       "                        <td id=\"T_7a9342f7_1ac6_11eb_828f_a0a4c554f2a3row24_col1\" class=\"data row24 col1\" >127.000000</td>\n",
       "                        <td id=\"T_7a9342f7_1ac6_11eb_828f_a0a4c554f2a3row24_col2\" class=\"data row24 col2\" >125.000000</td>\n",
       "                        <td id=\"T_7a9342f7_1ac6_11eb_828f_a0a4c554f2a3row24_col3\" class=\"data row24 col3\" >2.000000</td>\n",
       "                        <td id=\"T_7a9342f7_1ac6_11eb_828f_a0a4c554f2a3row24_col4\" class=\"data row24 col4\" >31.000000</td>\n",
       "                        <td id=\"T_7a9342f7_1ac6_11eb_828f_a0a4c554f2a3row24_col5\" class=\"data row24 col5\" >36.000000</td>\n",
       "                        <td id=\"T_7a9342f7_1ac6_11eb_828f_a0a4c554f2a3row24_col6\" class=\"data row24 col6\" >59.000000</td>\n",
       "                        <td id=\"T_7a9342f7_1ac6_11eb_828f_a0a4c554f2a3row24_col7\" class=\"data row24 col7\" >44.000000</td>\n",
       "                        <td id=\"T_7a9342f7_1ac6_11eb_828f_a0a4c554f2a3row24_col8\" class=\"data row24 col8\" >152.000000</td>\n",
       "                        <td id=\"T_7a9342f7_1ac6_11eb_828f_a0a4c554f2a3row24_col9\" class=\"data row24 col9\" >1.000000</td>\n",
       "                        <td id=\"T_7a9342f7_1ac6_11eb_828f_a0a4c554f2a3row24_col10\" class=\"data row24 col10\" >0.000000</td>\n",
       "                        <td id=\"T_7a9342f7_1ac6_11eb_828f_a0a4c554f2a3row24_col11\" class=\"data row24 col11\" >26.000000</td>\n",
       "                        <td id=\"T_7a9342f7_1ac6_11eb_828f_a0a4c554f2a3row24_col12\" class=\"data row24 col12\" >1.000000</td>\n",
       "                        <td id=\"T_7a9342f7_1ac6_11eb_828f_a0a4c554f2a3row24_col13\" class=\"data row24 col13\" >0.000000</td>\n",
       "                        <td id=\"T_7a9342f7_1ac6_11eb_828f_a0a4c554f2a3row24_col14\" class=\"data row24 col14\" >0.000000</td>\n",
       "                        <td id=\"T_7a9342f7_1ac6_11eb_828f_a0a4c554f2a3row24_col15\" class=\"data row24 col15\" >31.000000</td>\n",
       "                        <td id=\"T_7a9342f7_1ac6_11eb_828f_a0a4c554f2a3row24_col16\" class=\"data row24 col16\" >22.000000</td>\n",
       "                        <td id=\"T_7a9342f7_1ac6_11eb_828f_a0a4c554f2a3row24_col17\" class=\"data row24 col17\" >44.000000</td>\n",
       "                        <td id=\"T_7a9342f7_1ac6_11eb_828f_a0a4c554f2a3row24_col18\" class=\"data row24 col18\" >4.000000</td>\n",
       "                        <td id=\"T_7a9342f7_1ac6_11eb_828f_a0a4c554f2a3row24_col19\" class=\"data row24 col19\" >2.000000</td>\n",
       "                        <td id=\"T_7a9342f7_1ac6_11eb_828f_a0a4c554f2a3row24_col20\" class=\"data row24 col20\" >3.000000</td>\n",
       "                        <td id=\"T_7a9342f7_1ac6_11eb_828f_a0a4c554f2a3row24_col21\" class=\"data row24 col21\" >41.000000</td>\n",
       "                        <td id=\"T_7a9342f7_1ac6_11eb_828f_a0a4c554f2a3row24_col22\" class=\"data row24 col22\" >87.000000</td>\n",
       "                        <td id=\"T_7a9342f7_1ac6_11eb_828f_a0a4c554f2a3row24_col23\" class=\"data row24 col23\" >71.000000</td>\n",
       "                        <td id=\"T_7a9342f7_1ac6_11eb_828f_a0a4c554f2a3row24_col24\" class=\"data row24 col24\" >51.000000</td>\n",
       "                        <td id=\"T_7a9342f7_1ac6_11eb_828f_a0a4c554f2a3row24_col25\" class=\"data row24 col25\" >62.000000</td>\n",
       "                        <td id=\"T_7a9342f7_1ac6_11eb_828f_a0a4c554f2a3row24_col26\" class=\"data row24 col26\" >88.000000</td>\n",
       "                        <td id=\"T_7a9342f7_1ac6_11eb_828f_a0a4c554f2a3row24_col27\" class=\"data row24 col27\" >385.000000</td>\n",
       "                        <td id=\"T_7a9342f7_1ac6_11eb_828f_a0a4c554f2a3row24_col28\" class=\"data row24 col28\" >33.000000</td>\n",
       "                        <td id=\"T_7a9342f7_1ac6_11eb_828f_a0a4c554f2a3row24_col29\" class=\"data row24 col29\" >31.000000</td>\n",
       "            </tr>\n",
       "            <tr>\n",
       "                        <th id=\"T_7a9342f7_1ac6_11eb_828f_a0a4c554f2a3level0_row25\" class=\"row_heading level0 row25\" >]</th>\n",
       "                        <td id=\"T_7a9342f7_1ac6_11eb_828f_a0a4c554f2a3row25_col0\" class=\"data row25 col0\" >100.000000</td>\n",
       "                        <td id=\"T_7a9342f7_1ac6_11eb_828f_a0a4c554f2a3row25_col1\" class=\"data row25 col1\" >539.000000</td>\n",
       "                        <td id=\"T_7a9342f7_1ac6_11eb_828f_a0a4c554f2a3row25_col2\" class=\"data row25 col2\" >1058.000000</td>\n",
       "                        <td id=\"T_7a9342f7_1ac6_11eb_828f_a0a4c554f2a3row25_col3\" class=\"data row25 col3\" >15.000000</td>\n",
       "                        <td id=\"T_7a9342f7_1ac6_11eb_828f_a0a4c554f2a3row25_col4\" class=\"data row25 col4\" >58.000000</td>\n",
       "                        <td id=\"T_7a9342f7_1ac6_11eb_828f_a0a4c554f2a3row25_col5\" class=\"data row25 col5\" >110.000000</td>\n",
       "                        <td id=\"T_7a9342f7_1ac6_11eb_828f_a0a4c554f2a3row25_col6\" class=\"data row25 col6\" >94.000000</td>\n",
       "                        <td id=\"T_7a9342f7_1ac6_11eb_828f_a0a4c554f2a3row25_col7\" class=\"data row25 col7\" >266.000000</td>\n",
       "                        <td id=\"T_7a9342f7_1ac6_11eb_828f_a0a4c554f2a3row25_col8\" class=\"data row25 col8\" >152.000000</td>\n",
       "                        <td id=\"T_7a9342f7_1ac6_11eb_828f_a0a4c554f2a3row25_col9\" class=\"data row25 col9\" >1.000000</td>\n",
       "                        <td id=\"T_7a9342f7_1ac6_11eb_828f_a0a4c554f2a3row25_col10\" class=\"data row25 col10\" >0.000000</td>\n",
       "                        <td id=\"T_7a9342f7_1ac6_11eb_828f_a0a4c554f2a3row25_col11\" class=\"data row25 col11\" >26.000000</td>\n",
       "                        <td id=\"T_7a9342f7_1ac6_11eb_828f_a0a4c554f2a3row25_col12\" class=\"data row25 col12\" >1.000000</td>\n",
       "                        <td id=\"T_7a9342f7_1ac6_11eb_828f_a0a4c554f2a3row25_col13\" class=\"data row25 col13\" >0.000000</td>\n",
       "                        <td id=\"T_7a9342f7_1ac6_11eb_828f_a0a4c554f2a3row25_col14\" class=\"data row25 col14\" >0.000000</td>\n",
       "                        <td id=\"T_7a9342f7_1ac6_11eb_828f_a0a4c554f2a3row25_col15\" class=\"data row25 col15\" >449.000000</td>\n",
       "                        <td id=\"T_7a9342f7_1ac6_11eb_828f_a0a4c554f2a3row25_col16\" class=\"data row25 col16\" >284.000000</td>\n",
       "                        <td id=\"T_7a9342f7_1ac6_11eb_828f_a0a4c554f2a3row25_col17\" class=\"data row25 col17\" >531.000000</td>\n",
       "                        <td id=\"T_7a9342f7_1ac6_11eb_828f_a0a4c554f2a3row25_col18\" class=\"data row25 col18\" >36.000000</td>\n",
       "                        <td id=\"T_7a9342f7_1ac6_11eb_828f_a0a4c554f2a3row25_col19\" class=\"data row25 col19\" >6.000000</td>\n",
       "                        <td id=\"T_7a9342f7_1ac6_11eb_828f_a0a4c554f2a3row25_col20\" class=\"data row25 col20\" >52.000000</td>\n",
       "                        <td id=\"T_7a9342f7_1ac6_11eb_828f_a0a4c554f2a3row25_col21\" class=\"data row25 col21\" >63.000000</td>\n",
       "                        <td id=\"T_7a9342f7_1ac6_11eb_828f_a0a4c554f2a3row25_col22\" class=\"data row25 col22\" >121.000000</td>\n",
       "                        <td id=\"T_7a9342f7_1ac6_11eb_828f_a0a4c554f2a3row25_col23\" class=\"data row25 col23\" >109.000000</td>\n",
       "                        <td id=\"T_7a9342f7_1ac6_11eb_828f_a0a4c554f2a3row25_col24\" class=\"data row25 col24\" >91.000000</td>\n",
       "                        <td id=\"T_7a9342f7_1ac6_11eb_828f_a0a4c554f2a3row25_col25\" class=\"data row25 col25\" >84.000000</td>\n",
       "                        <td id=\"T_7a9342f7_1ac6_11eb_828f_a0a4c554f2a3row25_col26\" class=\"data row25 col26\" >132.000000</td>\n",
       "                        <td id=\"T_7a9342f7_1ac6_11eb_828f_a0a4c554f2a3row25_col27\" class=\"data row25 col27\" >385.000000</td>\n",
       "                        <td id=\"T_7a9342f7_1ac6_11eb_828f_a0a4c554f2a3row25_col28\" class=\"data row25 col28\" >33.000000</td>\n",
       "                        <td id=\"T_7a9342f7_1ac6_11eb_828f_a0a4c554f2a3row25_col29\" class=\"data row25 col29\" >67.000000</td>\n",
       "            </tr>\n",
       "            <tr>\n",
       "                        <th id=\"T_7a9342f7_1ac6_11eb_828f_a0a4c554f2a3level0_row26\" class=\"row_heading level0 row26\" >har</th>\n",
       "                        <td id=\"T_7a9342f7_1ac6_11eb_828f_a0a4c554f2a3row26_col0\" class=\"data row26 col0\" >347.000000</td>\n",
       "                        <td id=\"T_7a9342f7_1ac6_11eb_828f_a0a4c554f2a3row26_col1\" class=\"data row26 col1\" >278.000000</td>\n",
       "                        <td id=\"T_7a9342f7_1ac6_11eb_828f_a0a4c554f2a3row26_col2\" class=\"data row26 col2\" >675.000000</td>\n",
       "                        <td id=\"T_7a9342f7_1ac6_11eb_828f_a0a4c554f2a3row26_col3\" class=\"data row26 col3\" >30.000000</td>\n",
       "                        <td id=\"T_7a9342f7_1ac6_11eb_828f_a0a4c554f2a3row26_col4\" class=\"data row26 col4\" >147.000000</td>\n",
       "                        <td id=\"T_7a9342f7_1ac6_11eb_828f_a0a4c554f2a3row26_col5\" class=\"data row26 col5\" >131.000000</td>\n",
       "                        <td id=\"T_7a9342f7_1ac6_11eb_828f_a0a4c554f2a3row26_col6\" class=\"data row26 col6\" >59.000000</td>\n",
       "                        <td id=\"T_7a9342f7_1ac6_11eb_828f_a0a4c554f2a3row26_col7\" class=\"data row26 col7\" >141.000000</td>\n",
       "                        <td id=\"T_7a9342f7_1ac6_11eb_828f_a0a4c554f2a3row26_col8\" class=\"data row26 col8\" >32.000000</td>\n",
       "                        <td id=\"T_7a9342f7_1ac6_11eb_828f_a0a4c554f2a3row26_col9\" class=\"data row26 col9\" >7.000000</td>\n",
       "                        <td id=\"T_7a9342f7_1ac6_11eb_828f_a0a4c554f2a3row26_col10\" class=\"data row26 col10\" >91.000000</td>\n",
       "                        <td id=\"T_7a9342f7_1ac6_11eb_828f_a0a4c554f2a3row26_col11\" class=\"data row26 col11\" >234.000000</td>\n",
       "                        <td id=\"T_7a9342f7_1ac6_11eb_828f_a0a4c554f2a3row26_col12\" class=\"data row26 col12\" >111.000000</td>\n",
       "                        <td id=\"T_7a9342f7_1ac6_11eb_828f_a0a4c554f2a3row26_col13\" class=\"data row26 col13\" >24.000000</td>\n",
       "                        <td id=\"T_7a9342f7_1ac6_11eb_828f_a0a4c554f2a3row26_col14\" class=\"data row26 col14\" >134.000000</td>\n",
       "                        <td id=\"T_7a9342f7_1ac6_11eb_828f_a0a4c554f2a3row26_col15\" class=\"data row26 col15\" >467.000000</td>\n",
       "                        <td id=\"T_7a9342f7_1ac6_11eb_828f_a0a4c554f2a3row26_col16\" class=\"data row26 col16\" >226.000000</td>\n",
       "                        <td id=\"T_7a9342f7_1ac6_11eb_828f_a0a4c554f2a3row26_col17\" class=\"data row26 col17\" >484.000000</td>\n",
       "                        <td id=\"T_7a9342f7_1ac6_11eb_828f_a0a4c554f2a3row26_col18\" class=\"data row26 col18\" >32.000000</td>\n",
       "                        <td id=\"T_7a9342f7_1ac6_11eb_828f_a0a4c554f2a3row26_col19\" class=\"data row26 col19\" >418.000000</td>\n",
       "                        <td id=\"T_7a9342f7_1ac6_11eb_828f_a0a4c554f2a3row26_col20\" class=\"data row26 col20\" >26.000000</td>\n",
       "                        <td id=\"T_7a9342f7_1ac6_11eb_828f_a0a4c554f2a3row26_col21\" class=\"data row26 col21\" >785.000000</td>\n",
       "                        <td id=\"T_7a9342f7_1ac6_11eb_828f_a0a4c554f2a3row26_col22\" class=\"data row26 col22\" >694.000000</td>\n",
       "                        <td id=\"T_7a9342f7_1ac6_11eb_828f_a0a4c554f2a3row26_col23\" class=\"data row26 col23\" >982.000000</td>\n",
       "                        <td id=\"T_7a9342f7_1ac6_11eb_828f_a0a4c554f2a3row26_col24\" class=\"data row26 col24\" >1049.000000</td>\n",
       "                        <td id=\"T_7a9342f7_1ac6_11eb_828f_a0a4c554f2a3row26_col25\" class=\"data row26 col25\" >1325.000000</td>\n",
       "                        <td id=\"T_7a9342f7_1ac6_11eb_828f_a0a4c554f2a3row26_col26\" class=\"data row26 col26\" >1135.000000</td>\n",
       "                        <td id=\"T_7a9342f7_1ac6_11eb_828f_a0a4c554f2a3row26_col27\" class=\"data row26 col27\" >301.000000</td>\n",
       "                        <td id=\"T_7a9342f7_1ac6_11eb_828f_a0a4c554f2a3row26_col28\" class=\"data row26 col28\" >32.000000</td>\n",
       "                        <td id=\"T_7a9342f7_1ac6_11eb_828f_a0a4c554f2a3row26_col29\" class=\"data row26 col29\" >52.000000</td>\n",
       "            </tr>\n",
       "            <tr>\n",
       "                        <th id=\"T_7a9342f7_1ac6_11eb_828f_a0a4c554f2a3level0_row27\" class=\"row_heading level0 row27\" >med</th>\n",
       "                        <td id=\"T_7a9342f7_1ac6_11eb_828f_a0a4c554f2a3row27_col0\" class=\"data row27 col0\" >43.000000</td>\n",
       "                        <td id=\"T_7a9342f7_1ac6_11eb_828f_a0a4c554f2a3row27_col1\" class=\"data row27 col1\" >377.000000</td>\n",
       "                        <td id=\"T_7a9342f7_1ac6_11eb_828f_a0a4c554f2a3row27_col2\" class=\"data row27 col2\" >543.000000</td>\n",
       "                        <td id=\"T_7a9342f7_1ac6_11eb_828f_a0a4c554f2a3row27_col3\" class=\"data row27 col3\" >16.000000</td>\n",
       "                        <td id=\"T_7a9342f7_1ac6_11eb_828f_a0a4c554f2a3row27_col4\" class=\"data row27 col4\" >87.000000</td>\n",
       "                        <td id=\"T_7a9342f7_1ac6_11eb_828f_a0a4c554f2a3row27_col5\" class=\"data row27 col5\" >87.000000</td>\n",
       "                        <td id=\"T_7a9342f7_1ac6_11eb_828f_a0a4c554f2a3row27_col6\" class=\"data row27 col6\" >169.000000</td>\n",
       "                        <td id=\"T_7a9342f7_1ac6_11eb_828f_a0a4c554f2a3row27_col7\" class=\"data row27 col7\" >473.000000</td>\n",
       "                        <td id=\"T_7a9342f7_1ac6_11eb_828f_a0a4c554f2a3row27_col8\" class=\"data row27 col8\" >129.000000</td>\n",
       "                        <td id=\"T_7a9342f7_1ac6_11eb_828f_a0a4c554f2a3row27_col9\" class=\"data row27 col9\" >17.000000</td>\n",
       "                        <td id=\"T_7a9342f7_1ac6_11eb_828f_a0a4c554f2a3row27_col10\" class=\"data row27 col10\" >109.000000</td>\n",
       "                        <td id=\"T_7a9342f7_1ac6_11eb_828f_a0a4c554f2a3row27_col11\" class=\"data row27 col11\" >470.000000</td>\n",
       "                        <td id=\"T_7a9342f7_1ac6_11eb_828f_a0a4c554f2a3row27_col12\" class=\"data row27 col12\" >280.000000</td>\n",
       "                        <td id=\"T_7a9342f7_1ac6_11eb_828f_a0a4c554f2a3row27_col13\" class=\"data row27 col13\" >64.000000</td>\n",
       "                        <td id=\"T_7a9342f7_1ac6_11eb_828f_a0a4c554f2a3row27_col14\" class=\"data row27 col14\" >110.000000</td>\n",
       "                        <td id=\"T_7a9342f7_1ac6_11eb_828f_a0a4c554f2a3row27_col15\" class=\"data row27 col15\" >389.000000</td>\n",
       "                        <td id=\"T_7a9342f7_1ac6_11eb_828f_a0a4c554f2a3row27_col16\" class=\"data row27 col16\" >174.000000</td>\n",
       "                        <td id=\"T_7a9342f7_1ac6_11eb_828f_a0a4c554f2a3row27_col17\" class=\"data row27 col17\" >326.000000</td>\n",
       "                        <td id=\"T_7a9342f7_1ac6_11eb_828f_a0a4c554f2a3row27_col18\" class=\"data row27 col18\" >83.000000</td>\n",
       "                        <td id=\"T_7a9342f7_1ac6_11eb_828f_a0a4c554f2a3row27_col19\" class=\"data row27 col19\" >492.000000</td>\n",
       "                        <td id=\"T_7a9342f7_1ac6_11eb_828f_a0a4c554f2a3row27_col20\" class=\"data row27 col20\" >47.000000</td>\n",
       "                        <td id=\"T_7a9342f7_1ac6_11eb_828f_a0a4c554f2a3row27_col21\" class=\"data row27 col21\" >917.000000</td>\n",
       "                        <td id=\"T_7a9342f7_1ac6_11eb_828f_a0a4c554f2a3row27_col22\" class=\"data row27 col22\" >826.000000</td>\n",
       "                        <td id=\"T_7a9342f7_1ac6_11eb_828f_a0a4c554f2a3row27_col23\" class=\"data row27 col23\" >1247.000000</td>\n",
       "                        <td id=\"T_7a9342f7_1ac6_11eb_828f_a0a4c554f2a3row27_col24\" class=\"data row27 col24\" >1394.000000</td>\n",
       "                        <td id=\"T_7a9342f7_1ac6_11eb_828f_a0a4c554f2a3row27_col25\" class=\"data row27 col25\" >1826.000000</td>\n",
       "                        <td id=\"T_7a9342f7_1ac6_11eb_828f_a0a4c554f2a3row27_col26\" class=\"data row27 col26\" >1475.000000</td>\n",
       "                        <td id=\"T_7a9342f7_1ac6_11eb_828f_a0a4c554f2a3row27_col27\" class=\"data row27 col27\" >326.000000</td>\n",
       "                        <td id=\"T_7a9342f7_1ac6_11eb_828f_a0a4c554f2a3row27_col28\" class=\"data row27 col28\" >30.000000</td>\n",
       "                        <td id=\"T_7a9342f7_1ac6_11eb_828f_a0a4c554f2a3row27_col29\" class=\"data row27 col29\" >71.000000</td>\n",
       "            </tr>\n",
       "            <tr>\n",
       "                        <th id=\"T_7a9342f7_1ac6_11eb_828f_a0a4c554f2a3level0_row28\" class=\"row_heading level0 row28\" >…</th>\n",
       "                        <td id=\"T_7a9342f7_1ac6_11eb_828f_a0a4c554f2a3row28_col0\" class=\"data row28 col0\" >0.000000</td>\n",
       "                        <td id=\"T_7a9342f7_1ac6_11eb_828f_a0a4c554f2a3row28_col1\" class=\"data row28 col1\" >0.000000</td>\n",
       "                        <td id=\"T_7a9342f7_1ac6_11eb_828f_a0a4c554f2a3row28_col2\" class=\"data row28 col2\" >6.000000</td>\n",
       "                        <td id=\"T_7a9342f7_1ac6_11eb_828f_a0a4c554f2a3row28_col3\" class=\"data row28 col3\" >0.000000</td>\n",
       "                        <td id=\"T_7a9342f7_1ac6_11eb_828f_a0a4c554f2a3row28_col4\" class=\"data row28 col4\" >0.000000</td>\n",
       "                        <td id=\"T_7a9342f7_1ac6_11eb_828f_a0a4c554f2a3row28_col5\" class=\"data row28 col5\" >6.000000</td>\n",
       "                        <td id=\"T_7a9342f7_1ac6_11eb_828f_a0a4c554f2a3row28_col6\" class=\"data row28 col6\" >0.000000</td>\n",
       "                        <td id=\"T_7a9342f7_1ac6_11eb_828f_a0a4c554f2a3row28_col7\" class=\"data row28 col7\" >0.000000</td>\n",
       "                        <td id=\"T_7a9342f7_1ac6_11eb_828f_a0a4c554f2a3row28_col8\" class=\"data row28 col8\" >10.000000</td>\n",
       "                        <td id=\"T_7a9342f7_1ac6_11eb_828f_a0a4c554f2a3row28_col9\" class=\"data row28 col9\" >0.000000</td>\n",
       "                        <td id=\"T_7a9342f7_1ac6_11eb_828f_a0a4c554f2a3row28_col10\" class=\"data row28 col10\" >0.000000</td>\n",
       "                        <td id=\"T_7a9342f7_1ac6_11eb_828f_a0a4c554f2a3row28_col11\" class=\"data row28 col11\" >0.000000</td>\n",
       "                        <td id=\"T_7a9342f7_1ac6_11eb_828f_a0a4c554f2a3row28_col12\" class=\"data row28 col12\" >1.000000</td>\n",
       "                        <td id=\"T_7a9342f7_1ac6_11eb_828f_a0a4c554f2a3row28_col13\" class=\"data row28 col13\" >0.000000</td>\n",
       "                        <td id=\"T_7a9342f7_1ac6_11eb_828f_a0a4c554f2a3row28_col14\" class=\"data row28 col14\" >0.000000</td>\n",
       "                        <td id=\"T_7a9342f7_1ac6_11eb_828f_a0a4c554f2a3row28_col15\" class=\"data row28 col15\" >32.000000</td>\n",
       "                        <td id=\"T_7a9342f7_1ac6_11eb_828f_a0a4c554f2a3row28_col16\" class=\"data row28 col16\" >18.000000</td>\n",
       "                        <td id=\"T_7a9342f7_1ac6_11eb_828f_a0a4c554f2a3row28_col17\" class=\"data row28 col17\" >26.000000</td>\n",
       "                        <td id=\"T_7a9342f7_1ac6_11eb_828f_a0a4c554f2a3row28_col18\" class=\"data row28 col18\" >2.000000</td>\n",
       "                        <td id=\"T_7a9342f7_1ac6_11eb_828f_a0a4c554f2a3row28_col19\" class=\"data row28 col19\" >0.000000</td>\n",
       "                        <td id=\"T_7a9342f7_1ac6_11eb_828f_a0a4c554f2a3row28_col20\" class=\"data row28 col20\" >0.000000</td>\n",
       "                        <td id=\"T_7a9342f7_1ac6_11eb_828f_a0a4c554f2a3row28_col21\" class=\"data row28 col21\" >0.000000</td>\n",
       "                        <td id=\"T_7a9342f7_1ac6_11eb_828f_a0a4c554f2a3row28_col22\" class=\"data row28 col22\" >0.000000</td>\n",
       "                        <td id=\"T_7a9342f7_1ac6_11eb_828f_a0a4c554f2a3row28_col23\" class=\"data row28 col23\" >7.000000</td>\n",
       "                        <td id=\"T_7a9342f7_1ac6_11eb_828f_a0a4c554f2a3row28_col24\" class=\"data row28 col24\" >0.000000</td>\n",
       "                        <td id=\"T_7a9342f7_1ac6_11eb_828f_a0a4c554f2a3row28_col25\" class=\"data row28 col25\" >0.000000</td>\n",
       "                        <td id=\"T_7a9342f7_1ac6_11eb_828f_a0a4c554f2a3row28_col26\" class=\"data row28 col26\" >0.000000</td>\n",
       "                        <td id=\"T_7a9342f7_1ac6_11eb_828f_a0a4c554f2a3row28_col27\" class=\"data row28 col27\" >358.000000</td>\n",
       "                        <td id=\"T_7a9342f7_1ac6_11eb_828f_a0a4c554f2a3row28_col28\" class=\"data row28 col28\" >29.000000</td>\n",
       "                        <td id=\"T_7a9342f7_1ac6_11eb_828f_a0a4c554f2a3row28_col29\" class=\"data row28 col29\" >2.000000</td>\n",
       "            </tr>\n",
       "            <tr>\n",
       "                        <th id=\"T_7a9342f7_1ac6_11eb_828f_a0a4c554f2a3level0_row29\" class=\"row_heading level0 row29\" >da</th>\n",
       "                        <td id=\"T_7a9342f7_1ac6_11eb_828f_a0a4c554f2a3row29_col0\" class=\"data row29 col0\" >83.000000</td>\n",
       "                        <td id=\"T_7a9342f7_1ac6_11eb_828f_a0a4c554f2a3row29_col1\" class=\"data row29 col1\" >218.000000</td>\n",
       "                        <td id=\"T_7a9342f7_1ac6_11eb_828f_a0a4c554f2a3row29_col2\" class=\"data row29 col2\" >270.000000</td>\n",
       "                        <td id=\"T_7a9342f7_1ac6_11eb_828f_a0a4c554f2a3row29_col3\" class=\"data row29 col3\" >6.000000</td>\n",
       "                        <td id=\"T_7a9342f7_1ac6_11eb_828f_a0a4c554f2a3row29_col4\" class=\"data row29 col4\" >41.000000</td>\n",
       "                        <td id=\"T_7a9342f7_1ac6_11eb_828f_a0a4c554f2a3row29_col5\" class=\"data row29 col5\" >34.000000</td>\n",
       "                        <td id=\"T_7a9342f7_1ac6_11eb_828f_a0a4c554f2a3row29_col6\" class=\"data row29 col6\" >70.000000</td>\n",
       "                        <td id=\"T_7a9342f7_1ac6_11eb_828f_a0a4c554f2a3row29_col7\" class=\"data row29 col7\" >73.000000</td>\n",
       "                        <td id=\"T_7a9342f7_1ac6_11eb_828f_a0a4c554f2a3row29_col8\" class=\"data row29 col8\" >64.000000</td>\n",
       "                        <td id=\"T_7a9342f7_1ac6_11eb_828f_a0a4c554f2a3row29_col9\" class=\"data row29 col9\" >7.000000</td>\n",
       "                        <td id=\"T_7a9342f7_1ac6_11eb_828f_a0a4c554f2a3row29_col10\" class=\"data row29 col10\" >29.000000</td>\n",
       "                        <td id=\"T_7a9342f7_1ac6_11eb_828f_a0a4c554f2a3row29_col11\" class=\"data row29 col11\" >104.000000</td>\n",
       "                        <td id=\"T_7a9342f7_1ac6_11eb_828f_a0a4c554f2a3row29_col12\" class=\"data row29 col12\" >51.000000</td>\n",
       "                        <td id=\"T_7a9342f7_1ac6_11eb_828f_a0a4c554f2a3row29_col13\" class=\"data row29 col13\" >7.000000</td>\n",
       "                        <td id=\"T_7a9342f7_1ac6_11eb_828f_a0a4c554f2a3row29_col14\" class=\"data row29 col14\" >23.000000</td>\n",
       "                        <td id=\"T_7a9342f7_1ac6_11eb_828f_a0a4c554f2a3row29_col15\" class=\"data row29 col15\" >137.000000</td>\n",
       "                        <td id=\"T_7a9342f7_1ac6_11eb_828f_a0a4c554f2a3row29_col16\" class=\"data row29 col16\" >78.000000</td>\n",
       "                        <td id=\"T_7a9342f7_1ac6_11eb_828f_a0a4c554f2a3row29_col17\" class=\"data row29 col17\" >153.000000</td>\n",
       "                        <td id=\"T_7a9342f7_1ac6_11eb_828f_a0a4c554f2a3row29_col18\" class=\"data row29 col18\" >59.000000</td>\n",
       "                        <td id=\"T_7a9342f7_1ac6_11eb_828f_a0a4c554f2a3row29_col19\" class=\"data row29 col19\" >346.000000</td>\n",
       "                        <td id=\"T_7a9342f7_1ac6_11eb_828f_a0a4c554f2a3row29_col20\" class=\"data row29 col20\" >28.000000</td>\n",
       "                        <td id=\"T_7a9342f7_1ac6_11eb_828f_a0a4c554f2a3row29_col21\" class=\"data row29 col21\" >493.000000</td>\n",
       "                        <td id=\"T_7a9342f7_1ac6_11eb_828f_a0a4c554f2a3row29_col22\" class=\"data row29 col22\" >469.000000</td>\n",
       "                        <td id=\"T_7a9342f7_1ac6_11eb_828f_a0a4c554f2a3row29_col23\" class=\"data row29 col23\" >766.000000</td>\n",
       "                        <td id=\"T_7a9342f7_1ac6_11eb_828f_a0a4c554f2a3row29_col24\" class=\"data row29 col24\" >876.000000</td>\n",
       "                        <td id=\"T_7a9342f7_1ac6_11eb_828f_a0a4c554f2a3row29_col25\" class=\"data row29 col25\" >1130.000000</td>\n",
       "                        <td id=\"T_7a9342f7_1ac6_11eb_828f_a0a4c554f2a3row29_col26\" class=\"data row29 col26\" >1001.000000</td>\n",
       "                        <td id=\"T_7a9342f7_1ac6_11eb_828f_a0a4c554f2a3row29_col27\" class=\"data row29 col27\" >276.000000</td>\n",
       "                        <td id=\"T_7a9342f7_1ac6_11eb_828f_a0a4c554f2a3row29_col28\" class=\"data row29 col28\" >28.000000</td>\n",
       "                        <td id=\"T_7a9342f7_1ac6_11eb_828f_a0a4c554f2a3row29_col29\" class=\"data row29 col29\" >66.000000</td>\n",
       "            </tr>\n",
       "            <tr>\n",
       "                        <th id=\"T_7a9342f7_1ac6_11eb_828f_a0a4c554f2a3level0_row30\" class=\"row_heading level0 row30\" >sin</th>\n",
       "                        <td id=\"T_7a9342f7_1ac6_11eb_828f_a0a4c554f2a3row30_col0\" class=\"data row30 col0\" >17.000000</td>\n",
       "                        <td id=\"T_7a9342f7_1ac6_11eb_828f_a0a4c554f2a3row30_col1\" class=\"data row30 col1\" >44.000000</td>\n",
       "                        <td id=\"T_7a9342f7_1ac6_11eb_828f_a0a4c554f2a3row30_col2\" class=\"data row30 col2\" >92.000000</td>\n",
       "                        <td id=\"T_7a9342f7_1ac6_11eb_828f_a0a4c554f2a3row30_col3\" class=\"data row30 col3\" >2.000000</td>\n",
       "                        <td id=\"T_7a9342f7_1ac6_11eb_828f_a0a4c554f2a3row30_col4\" class=\"data row30 col4\" >14.000000</td>\n",
       "                        <td id=\"T_7a9342f7_1ac6_11eb_828f_a0a4c554f2a3row30_col5\" class=\"data row30 col5\" >16.000000</td>\n",
       "                        <td id=\"T_7a9342f7_1ac6_11eb_828f_a0a4c554f2a3row30_col6\" class=\"data row30 col6\" >36.000000</td>\n",
       "                        <td id=\"T_7a9342f7_1ac6_11eb_828f_a0a4c554f2a3row30_col7\" class=\"data row30 col7\" >125.000000</td>\n",
       "                        <td id=\"T_7a9342f7_1ac6_11eb_828f_a0a4c554f2a3row30_col8\" class=\"data row30 col8\" >36.000000</td>\n",
       "                        <td id=\"T_7a9342f7_1ac6_11eb_828f_a0a4c554f2a3row30_col9\" class=\"data row30 col9\" >5.000000</td>\n",
       "                        <td id=\"T_7a9342f7_1ac6_11eb_828f_a0a4c554f2a3row30_col10\" class=\"data row30 col10\" >34.000000</td>\n",
       "                        <td id=\"T_7a9342f7_1ac6_11eb_828f_a0a4c554f2a3row30_col11\" class=\"data row30 col11\" >97.000000</td>\n",
       "                        <td id=\"T_7a9342f7_1ac6_11eb_828f_a0a4c554f2a3row30_col12\" class=\"data row30 col12\" >66.000000</td>\n",
       "                        <td id=\"T_7a9342f7_1ac6_11eb_828f_a0a4c554f2a3row30_col13\" class=\"data row30 col13\" >5.000000</td>\n",
       "                        <td id=\"T_7a9342f7_1ac6_11eb_828f_a0a4c554f2a3row30_col14\" class=\"data row30 col14\" >26.000000</td>\n",
       "                        <td id=\"T_7a9342f7_1ac6_11eb_828f_a0a4c554f2a3row30_col15\" class=\"data row30 col15\" >24.000000</td>\n",
       "                        <td id=\"T_7a9342f7_1ac6_11eb_828f_a0a4c554f2a3row30_col16\" class=\"data row30 col16\" >23.000000</td>\n",
       "                        <td id=\"T_7a9342f7_1ac6_11eb_828f_a0a4c554f2a3row30_col17\" class=\"data row30 col17\" >35.000000</td>\n",
       "                        <td id=\"T_7a9342f7_1ac6_11eb_828f_a0a4c554f2a3row30_col18\" class=\"data row30 col18\" >22.000000</td>\n",
       "                        <td id=\"T_7a9342f7_1ac6_11eb_828f_a0a4c554f2a3row30_col19\" class=\"data row30 col19\" >148.000000</td>\n",
       "                        <td id=\"T_7a9342f7_1ac6_11eb_828f_a0a4c554f2a3row30_col20\" class=\"data row30 col20\" >13.000000</td>\n",
       "                        <td id=\"T_7a9342f7_1ac6_11eb_828f_a0a4c554f2a3row30_col21\" class=\"data row30 col21\" >301.000000</td>\n",
       "                        <td id=\"T_7a9342f7_1ac6_11eb_828f_a0a4c554f2a3row30_col22\" class=\"data row30 col22\" >299.000000</td>\n",
       "                        <td id=\"T_7a9342f7_1ac6_11eb_828f_a0a4c554f2a3row30_col23\" class=\"data row30 col23\" >458.000000</td>\n",
       "                        <td id=\"T_7a9342f7_1ac6_11eb_828f_a0a4c554f2a3row30_col24\" class=\"data row30 col24\" >453.000000</td>\n",
       "                        <td id=\"T_7a9342f7_1ac6_11eb_828f_a0a4c554f2a3row30_col25\" class=\"data row30 col25\" >576.000000</td>\n",
       "                        <td id=\"T_7a9342f7_1ac6_11eb_828f_a0a4c554f2a3row30_col26\" class=\"data row30 col26\" >553.000000</td>\n",
       "                        <td id=\"T_7a9342f7_1ac6_11eb_828f_a0a4c554f2a3row30_col27\" class=\"data row30 col27\" >108.000000</td>\n",
       "                        <td id=\"T_7a9342f7_1ac6_11eb_828f_a0a4c554f2a3row30_col28\" class=\"data row30 col28\" >26.000000</td>\n",
       "                        <td id=\"T_7a9342f7_1ac6_11eb_828f_a0a4c554f2a3row30_col29\" class=\"data row30 col29\" >17.000000</td>\n",
       "            </tr>\n",
       "            <tr>\n",
       "                        <th id=\"T_7a9342f7_1ac6_11eb_828f_a0a4c554f2a3level0_row31\" class=\"row_heading level0 row31\" >om</th>\n",
       "                        <td id=\"T_7a9342f7_1ac6_11eb_828f_a0a4c554f2a3row31_col0\" class=\"data row31 col0\" >6.000000</td>\n",
       "                        <td id=\"T_7a9342f7_1ac6_11eb_828f_a0a4c554f2a3row31_col1\" class=\"data row31 col1\" >175.000000</td>\n",
       "                        <td id=\"T_7a9342f7_1ac6_11eb_828f_a0a4c554f2a3row31_col2\" class=\"data row31 col2\" >319.000000</td>\n",
       "                        <td id=\"T_7a9342f7_1ac6_11eb_828f_a0a4c554f2a3row31_col3\" class=\"data row31 col3\" >13.000000</td>\n",
       "                        <td id=\"T_7a9342f7_1ac6_11eb_828f_a0a4c554f2a3row31_col4\" class=\"data row31 col4\" >60.000000</td>\n",
       "                        <td id=\"T_7a9342f7_1ac6_11eb_828f_a0a4c554f2a3row31_col5\" class=\"data row31 col5\" >57.000000</td>\n",
       "                        <td id=\"T_7a9342f7_1ac6_11eb_828f_a0a4c554f2a3row31_col6\" class=\"data row31 col6\" >70.000000</td>\n",
       "                        <td id=\"T_7a9342f7_1ac6_11eb_828f_a0a4c554f2a3row31_col7\" class=\"data row31 col7\" >211.000000</td>\n",
       "                        <td id=\"T_7a9342f7_1ac6_11eb_828f_a0a4c554f2a3row31_col8\" class=\"data row31 col8\" >46.000000</td>\n",
       "                        <td id=\"T_7a9342f7_1ac6_11eb_828f_a0a4c554f2a3row31_col9\" class=\"data row31 col9\" >12.000000</td>\n",
       "                        <td id=\"T_7a9342f7_1ac6_11eb_828f_a0a4c554f2a3row31_col10\" class=\"data row31 col10\" >44.000000</td>\n",
       "                        <td id=\"T_7a9342f7_1ac6_11eb_828f_a0a4c554f2a3row31_col11\" class=\"data row31 col11\" >195.000000</td>\n",
       "                        <td id=\"T_7a9342f7_1ac6_11eb_828f_a0a4c554f2a3row31_col12\" class=\"data row31 col12\" >86.000000</td>\n",
       "                        <td id=\"T_7a9342f7_1ac6_11eb_828f_a0a4c554f2a3row31_col13\" class=\"data row31 col13\" >32.000000</td>\n",
       "                        <td id=\"T_7a9342f7_1ac6_11eb_828f_a0a4c554f2a3row31_col14\" class=\"data row31 col14\" >51.000000</td>\n",
       "                        <td id=\"T_7a9342f7_1ac6_11eb_828f_a0a4c554f2a3row31_col15\" class=\"data row31 col15\" >311.000000</td>\n",
       "                        <td id=\"T_7a9342f7_1ac6_11eb_828f_a0a4c554f2a3row31_col16\" class=\"data row31 col16\" >116.000000</td>\n",
       "                        <td id=\"T_7a9342f7_1ac6_11eb_828f_a0a4c554f2a3row31_col17\" class=\"data row31 col17\" >223.000000</td>\n",
       "                        <td id=\"T_7a9342f7_1ac6_11eb_828f_a0a4c554f2a3row31_col18\" class=\"data row31 col18\" >46.000000</td>\n",
       "                        <td id=\"T_7a9342f7_1ac6_11eb_828f_a0a4c554f2a3row31_col19\" class=\"data row31 col19\" >281.000000</td>\n",
       "                        <td id=\"T_7a9342f7_1ac6_11eb_828f_a0a4c554f2a3row31_col20\" class=\"data row31 col20\" >20.000000</td>\n",
       "                        <td id=\"T_7a9342f7_1ac6_11eb_828f_a0a4c554f2a3row31_col21\" class=\"data row31 col21\" >496.000000</td>\n",
       "                        <td id=\"T_7a9342f7_1ac6_11eb_828f_a0a4c554f2a3row31_col22\" class=\"data row31 col22\" >459.000000</td>\n",
       "                        <td id=\"T_7a9342f7_1ac6_11eb_828f_a0a4c554f2a3row31_col23\" class=\"data row31 col23\" >568.000000</td>\n",
       "                        <td id=\"T_7a9342f7_1ac6_11eb_828f_a0a4c554f2a3row31_col24\" class=\"data row31 col24\" >628.000000</td>\n",
       "                        <td id=\"T_7a9342f7_1ac6_11eb_828f_a0a4c554f2a3row31_col25\" class=\"data row31 col25\" >809.000000</td>\n",
       "                        <td id=\"T_7a9342f7_1ac6_11eb_828f_a0a4c554f2a3row31_col26\" class=\"data row31 col26\" >637.000000</td>\n",
       "                        <td id=\"T_7a9342f7_1ac6_11eb_828f_a0a4c554f2a3row31_col27\" class=\"data row31 col27\" >186.000000</td>\n",
       "                        <td id=\"T_7a9342f7_1ac6_11eb_828f_a0a4c554f2a3row31_col28\" class=\"data row31 col28\" >25.000000</td>\n",
       "                        <td id=\"T_7a9342f7_1ac6_11eb_828f_a0a4c554f2a3row31_col29\" class=\"data row31 col29\" >44.000000</td>\n",
       "            </tr>\n",
       "            <tr>\n",
       "                        <th id=\"T_7a9342f7_1ac6_11eb_828f_a0a4c554f2a3level0_row32\" class=\"row_heading level0 row32\" >kunde</th>\n",
       "                        <td id=\"T_7a9342f7_1ac6_11eb_828f_a0a4c554f2a3row32_col0\" class=\"data row32 col0\" >0.000000</td>\n",
       "                        <td id=\"T_7a9342f7_1ac6_11eb_828f_a0a4c554f2a3row32_col1\" class=\"data row32 col1\" >94.000000</td>\n",
       "                        <td id=\"T_7a9342f7_1ac6_11eb_828f_a0a4c554f2a3row32_col2\" class=\"data row32 col2\" >144.000000</td>\n",
       "                        <td id=\"T_7a9342f7_1ac6_11eb_828f_a0a4c554f2a3row32_col3\" class=\"data row32 col3\" >10.000000</td>\n",
       "                        <td id=\"T_7a9342f7_1ac6_11eb_828f_a0a4c554f2a3row32_col4\" class=\"data row32 col4\" >36.000000</td>\n",
       "                        <td id=\"T_7a9342f7_1ac6_11eb_828f_a0a4c554f2a3row32_col5\" class=\"data row32 col5\" >26.000000</td>\n",
       "                        <td id=\"T_7a9342f7_1ac6_11eb_828f_a0a4c554f2a3row32_col6\" class=\"data row32 col6\" >39.000000</td>\n",
       "                        <td id=\"T_7a9342f7_1ac6_11eb_828f_a0a4c554f2a3row32_col7\" class=\"data row32 col7\" >0.000000</td>\n",
       "                        <td id=\"T_7a9342f7_1ac6_11eb_828f_a0a4c554f2a3row32_col8\" class=\"data row32 col8\" >29.000000</td>\n",
       "                        <td id=\"T_7a9342f7_1ac6_11eb_828f_a0a4c554f2a3row32_col9\" class=\"data row32 col9\" >0.000000</td>\n",
       "                        <td id=\"T_7a9342f7_1ac6_11eb_828f_a0a4c554f2a3row32_col10\" class=\"data row32 col10\" >35.000000</td>\n",
       "                        <td id=\"T_7a9342f7_1ac6_11eb_828f_a0a4c554f2a3row32_col11\" class=\"data row32 col11\" >48.000000</td>\n",
       "                        <td id=\"T_7a9342f7_1ac6_11eb_828f_a0a4c554f2a3row32_col12\" class=\"data row32 col12\" >20.000000</td>\n",
       "                        <td id=\"T_7a9342f7_1ac6_11eb_828f_a0a4c554f2a3row32_col13\" class=\"data row32 col13\" >3.000000</td>\n",
       "                        <td id=\"T_7a9342f7_1ac6_11eb_828f_a0a4c554f2a3row32_col14\" class=\"data row32 col14\" >4.000000</td>\n",
       "                        <td id=\"T_7a9342f7_1ac6_11eb_828f_a0a4c554f2a3row32_col15\" class=\"data row32 col15\" >111.000000</td>\n",
       "                        <td id=\"T_7a9342f7_1ac6_11eb_828f_a0a4c554f2a3row32_col16\" class=\"data row32 col16\" >27.000000</td>\n",
       "                        <td id=\"T_7a9342f7_1ac6_11eb_828f_a0a4c554f2a3row32_col17\" class=\"data row32 col17\" >63.000000</td>\n",
       "                        <td id=\"T_7a9342f7_1ac6_11eb_828f_a0a4c554f2a3row32_col18\" class=\"data row32 col18\" >0.000000</td>\n",
       "                        <td id=\"T_7a9342f7_1ac6_11eb_828f_a0a4c554f2a3row32_col19\" class=\"data row32 col19\" >213.000000</td>\n",
       "                        <td id=\"T_7a9342f7_1ac6_11eb_828f_a0a4c554f2a3row32_col20\" class=\"data row32 col20\" >9.000000</td>\n",
       "                        <td id=\"T_7a9342f7_1ac6_11eb_828f_a0a4c554f2a3row32_col21\" class=\"data row32 col21\" >251.000000</td>\n",
       "                        <td id=\"T_7a9342f7_1ac6_11eb_828f_a0a4c554f2a3row32_col22\" class=\"data row32 col22\" >235.000000</td>\n",
       "                        <td id=\"T_7a9342f7_1ac6_11eb_828f_a0a4c554f2a3row32_col23\" class=\"data row32 col23\" >376.000000</td>\n",
       "                        <td id=\"T_7a9342f7_1ac6_11eb_828f_a0a4c554f2a3row32_col24\" class=\"data row32 col24\" >359.000000</td>\n",
       "                        <td id=\"T_7a9342f7_1ac6_11eb_828f_a0a4c554f2a3row32_col25\" class=\"data row32 col25\" >453.000000</td>\n",
       "                        <td id=\"T_7a9342f7_1ac6_11eb_828f_a0a4c554f2a3row32_col26\" class=\"data row32 col26\" >414.000000</td>\n",
       "                        <td id=\"T_7a9342f7_1ac6_11eb_828f_a0a4c554f2a3row32_col27\" class=\"data row32 col27\" >133.000000</td>\n",
       "                        <td id=\"T_7a9342f7_1ac6_11eb_828f_a0a4c554f2a3row32_col28\" class=\"data row32 col28\" >23.000000</td>\n",
       "                        <td id=\"T_7a9342f7_1ac6_11eb_828f_a0a4c554f2a3row32_col29\" class=\"data row32 col29\" >21.000000</td>\n",
       "            </tr>\n",
       "            <tr>\n",
       "                        <th id=\"T_7a9342f7_1ac6_11eb_828f_a0a4c554f2a3level0_row33\" class=\"row_heading level0 row33\" >men</th>\n",
       "                        <td id=\"T_7a9342f7_1ac6_11eb_828f_a0a4c554f2a3row33_col0\" class=\"data row33 col0\" >43.000000</td>\n",
       "                        <td id=\"T_7a9342f7_1ac6_11eb_828f_a0a4c554f2a3row33_col1\" class=\"data row33 col1\" >211.000000</td>\n",
       "                        <td id=\"T_7a9342f7_1ac6_11eb_828f_a0a4c554f2a3row33_col2\" class=\"data row33 col2\" >288.000000</td>\n",
       "                        <td id=\"T_7a9342f7_1ac6_11eb_828f_a0a4c554f2a3row33_col3\" class=\"data row33 col3\" >8.000000</td>\n",
       "                        <td id=\"T_7a9342f7_1ac6_11eb_828f_a0a4c554f2a3row33_col4\" class=\"data row33 col4\" >35.000000</td>\n",
       "                        <td id=\"T_7a9342f7_1ac6_11eb_828f_a0a4c554f2a3row33_col5\" class=\"data row33 col5\" >39.000000</td>\n",
       "                        <td id=\"T_7a9342f7_1ac6_11eb_828f_a0a4c554f2a3row33_col6\" class=\"data row33 col6\" >105.000000</td>\n",
       "                        <td id=\"T_7a9342f7_1ac6_11eb_828f_a0a4c554f2a3row33_col7\" class=\"data row33 col7\" >109.000000</td>\n",
       "                        <td id=\"T_7a9342f7_1ac6_11eb_828f_a0a4c554f2a3row33_col8\" class=\"data row33 col8\" >42.000000</td>\n",
       "                        <td id=\"T_7a9342f7_1ac6_11eb_828f_a0a4c554f2a3row33_col9\" class=\"data row33 col9\" >6.000000</td>\n",
       "                        <td id=\"T_7a9342f7_1ac6_11eb_828f_a0a4c554f2a3row33_col10\" class=\"data row33 col10\" >63.000000</td>\n",
       "                        <td id=\"T_7a9342f7_1ac6_11eb_828f_a0a4c554f2a3row33_col11\" class=\"data row33 col11\" >325.000000</td>\n",
       "                        <td id=\"T_7a9342f7_1ac6_11eb_828f_a0a4c554f2a3row33_col12\" class=\"data row33 col12\" >122.000000</td>\n",
       "                        <td id=\"T_7a9342f7_1ac6_11eb_828f_a0a4c554f2a3row33_col13\" class=\"data row33 col13\" >23.000000</td>\n",
       "                        <td id=\"T_7a9342f7_1ac6_11eb_828f_a0a4c554f2a3row33_col14\" class=\"data row33 col14\" >52.000000</td>\n",
       "                        <td id=\"T_7a9342f7_1ac6_11eb_828f_a0a4c554f2a3row33_col15\" class=\"data row33 col15\" >255.000000</td>\n",
       "                        <td id=\"T_7a9342f7_1ac6_11eb_828f_a0a4c554f2a3row33_col16\" class=\"data row33 col16\" >175.000000</td>\n",
       "                        <td id=\"T_7a9342f7_1ac6_11eb_828f_a0a4c554f2a3row33_col17\" class=\"data row33 col17\" >293.000000</td>\n",
       "                        <td id=\"T_7a9342f7_1ac6_11eb_828f_a0a4c554f2a3row33_col18\" class=\"data row33 col18\" >54.000000</td>\n",
       "                        <td id=\"T_7a9342f7_1ac6_11eb_828f_a0a4c554f2a3row33_col19\" class=\"data row33 col19\" >264.000000</td>\n",
       "                        <td id=\"T_7a9342f7_1ac6_11eb_828f_a0a4c554f2a3row33_col20\" class=\"data row33 col20\" >22.000000</td>\n",
       "                        <td id=\"T_7a9342f7_1ac6_11eb_828f_a0a4c554f2a3row33_col21\" class=\"data row33 col21\" >427.000000</td>\n",
       "                        <td id=\"T_7a9342f7_1ac6_11eb_828f_a0a4c554f2a3row33_col22\" class=\"data row33 col22\" >418.000000</td>\n",
       "                        <td id=\"T_7a9342f7_1ac6_11eb_828f_a0a4c554f2a3row33_col23\" class=\"data row33 col23\" >552.000000</td>\n",
       "                        <td id=\"T_7a9342f7_1ac6_11eb_828f_a0a4c554f2a3row33_col24\" class=\"data row33 col24\" >661.000000</td>\n",
       "                        <td id=\"T_7a9342f7_1ac6_11eb_828f_a0a4c554f2a3row33_col25\" class=\"data row33 col25\" >880.000000</td>\n",
       "                        <td id=\"T_7a9342f7_1ac6_11eb_828f_a0a4c554f2a3row33_col26\" class=\"data row33 col26\" >844.000000</td>\n",
       "                        <td id=\"T_7a9342f7_1ac6_11eb_828f_a0a4c554f2a3row33_col27\" class=\"data row33 col27\" >178.000000</td>\n",
       "                        <td id=\"T_7a9342f7_1ac6_11eb_828f_a0a4c554f2a3row33_col28\" class=\"data row33 col28\" >23.000000</td>\n",
       "                        <td id=\"T_7a9342f7_1ac6_11eb_828f_a0a4c554f2a3row33_col29\" class=\"data row33 col29\" >32.000000</td>\n",
       "            </tr>\n",
       "            <tr>\n",
       "                        <th id=\"T_7a9342f7_1ac6_11eb_828f_a0a4c554f2a3level0_row34\" class=\"row_heading level0 row34\" >et</th>\n",
       "                        <td id=\"T_7a9342f7_1ac6_11eb_828f_a0a4c554f2a3row34_col0\" class=\"data row34 col0\" >25.000000</td>\n",
       "                        <td id=\"T_7a9342f7_1ac6_11eb_828f_a0a4c554f2a3row34_col1\" class=\"data row34 col1\" >201.000000</td>\n",
       "                        <td id=\"T_7a9342f7_1ac6_11eb_828f_a0a4c554f2a3row34_col2\" class=\"data row34 col2\" >440.000000</td>\n",
       "                        <td id=\"T_7a9342f7_1ac6_11eb_828f_a0a4c554f2a3row34_col3\" class=\"data row34 col3\" >20.000000</td>\n",
       "                        <td id=\"T_7a9342f7_1ac6_11eb_828f_a0a4c554f2a3row34_col4\" class=\"data row34 col4\" >85.000000</td>\n",
       "                        <td id=\"T_7a9342f7_1ac6_11eb_828f_a0a4c554f2a3row34_col5\" class=\"data row34 col5\" >89.000000</td>\n",
       "                        <td id=\"T_7a9342f7_1ac6_11eb_828f_a0a4c554f2a3row34_col6\" class=\"data row34 col6\" >117.000000</td>\n",
       "                        <td id=\"T_7a9342f7_1ac6_11eb_828f_a0a4c554f2a3row34_col7\" class=\"data row34 col7\" >1363.000000</td>\n",
       "                        <td id=\"T_7a9342f7_1ac6_11eb_828f_a0a4c554f2a3row34_col8\" class=\"data row34 col8\" >40.000000</td>\n",
       "                        <td id=\"T_7a9342f7_1ac6_11eb_828f_a0a4c554f2a3row34_col9\" class=\"data row34 col9\" >11.000000</td>\n",
       "                        <td id=\"T_7a9342f7_1ac6_11eb_828f_a0a4c554f2a3row34_col10\" class=\"data row34 col10\" >101.000000</td>\n",
       "                        <td id=\"T_7a9342f7_1ac6_11eb_828f_a0a4c554f2a3row34_col11\" class=\"data row34 col11\" >239.000000</td>\n",
       "                        <td id=\"T_7a9342f7_1ac6_11eb_828f_a0a4c554f2a3row34_col12\" class=\"data row34 col12\" >130.000000</td>\n",
       "                        <td id=\"T_7a9342f7_1ac6_11eb_828f_a0a4c554f2a3row34_col13\" class=\"data row34 col13\" >30.000000</td>\n",
       "                        <td id=\"T_7a9342f7_1ac6_11eb_828f_a0a4c554f2a3row34_col14\" class=\"data row34 col14\" >67.000000</td>\n",
       "                        <td id=\"T_7a9342f7_1ac6_11eb_828f_a0a4c554f2a3row34_col15\" class=\"data row34 col15\" >203.000000</td>\n",
       "                        <td id=\"T_7a9342f7_1ac6_11eb_828f_a0a4c554f2a3row34_col16\" class=\"data row34 col16\" >81.000000</td>\n",
       "                        <td id=\"T_7a9342f7_1ac6_11eb_828f_a0a4c554f2a3row34_col17\" class=\"data row34 col17\" >161.000000</td>\n",
       "                        <td id=\"T_7a9342f7_1ac6_11eb_828f_a0a4c554f2a3row34_col18\" class=\"data row34 col18\" >34.000000</td>\n",
       "                        <td id=\"T_7a9342f7_1ac6_11eb_828f_a0a4c554f2a3row34_col19\" class=\"data row34 col19\" >274.000000</td>\n",
       "                        <td id=\"T_7a9342f7_1ac6_11eb_828f_a0a4c554f2a3row34_col20\" class=\"data row34 col20\" >15.000000</td>\n",
       "                        <td id=\"T_7a9342f7_1ac6_11eb_828f_a0a4c554f2a3row34_col21\" class=\"data row34 col21\" >523.000000</td>\n",
       "                        <td id=\"T_7a9342f7_1ac6_11eb_828f_a0a4c554f2a3row34_col22\" class=\"data row34 col22\" >460.000000</td>\n",
       "                        <td id=\"T_7a9342f7_1ac6_11eb_828f_a0a4c554f2a3row34_col23\" class=\"data row34 col23\" >733.000000</td>\n",
       "                        <td id=\"T_7a9342f7_1ac6_11eb_828f_a0a4c554f2a3row34_col24\" class=\"data row34 col24\" >729.000000</td>\n",
       "                        <td id=\"T_7a9342f7_1ac6_11eb_828f_a0a4c554f2a3row34_col25\" class=\"data row34 col25\" >902.000000</td>\n",
       "                        <td id=\"T_7a9342f7_1ac6_11eb_828f_a0a4c554f2a3row34_col26\" class=\"data row34 col26\" >804.000000</td>\n",
       "                        <td id=\"T_7a9342f7_1ac6_11eb_828f_a0a4c554f2a3row34_col27\" class=\"data row34 col27\" >194.000000</td>\n",
       "                        <td id=\"T_7a9342f7_1ac6_11eb_828f_a0a4c554f2a3row34_col28\" class=\"data row34 col28\" >23.000000</td>\n",
       "                        <td id=\"T_7a9342f7_1ac6_11eb_828f_a0a4c554f2a3row34_col29\" class=\"data row34 col29\" >24.000000</td>\n",
       "            </tr>\n",
       "            <tr>\n",
       "                        <th id=\"T_7a9342f7_1ac6_11eb_828f_a0a4c554f2a3level0_row35\" class=\"row_heading level0 row35\" >mit</th>\n",
       "                        <td id=\"T_7a9342f7_1ac6_11eb_828f_a0a4c554f2a3row35_col0\" class=\"data row35 col0\" >1.000000</td>\n",
       "                        <td id=\"T_7a9342f7_1ac6_11eb_828f_a0a4c554f2a3row35_col1\" class=\"data row35 col1\" >49.000000</td>\n",
       "                        <td id=\"T_7a9342f7_1ac6_11eb_828f_a0a4c554f2a3row35_col2\" class=\"data row35 col2\" >84.000000</td>\n",
       "                        <td id=\"T_7a9342f7_1ac6_11eb_828f_a0a4c554f2a3row35_col3\" class=\"data row35 col3\" >4.000000</td>\n",
       "                        <td id=\"T_7a9342f7_1ac6_11eb_828f_a0a4c554f2a3row35_col4\" class=\"data row35 col4\" >20.000000</td>\n",
       "                        <td id=\"T_7a9342f7_1ac6_11eb_828f_a0a4c554f2a3row35_col5\" class=\"data row35 col5\" >29.000000</td>\n",
       "                        <td id=\"T_7a9342f7_1ac6_11eb_828f_a0a4c554f2a3row35_col6\" class=\"data row35 col6\" >14.000000</td>\n",
       "                        <td id=\"T_7a9342f7_1ac6_11eb_828f_a0a4c554f2a3row35_col7\" class=\"data row35 col7\" >10.000000</td>\n",
       "                        <td id=\"T_7a9342f7_1ac6_11eb_828f_a0a4c554f2a3row35_col8\" class=\"data row35 col8\" >0.000000</td>\n",
       "                        <td id=\"T_7a9342f7_1ac6_11eb_828f_a0a4c554f2a3row35_col9\" class=\"data row35 col9\" >0.000000</td>\n",
       "                        <td id=\"T_7a9342f7_1ac6_11eb_828f_a0a4c554f2a3row35_col10\" class=\"data row35 col10\" >8.000000</td>\n",
       "                        <td id=\"T_7a9342f7_1ac6_11eb_828f_a0a4c554f2a3row35_col11\" class=\"data row35 col11\" >12.000000</td>\n",
       "                        <td id=\"T_7a9342f7_1ac6_11eb_828f_a0a4c554f2a3row35_col12\" class=\"data row35 col12\" >8.000000</td>\n",
       "                        <td id=\"T_7a9342f7_1ac6_11eb_828f_a0a4c554f2a3row35_col13\" class=\"data row35 col13\" >1.000000</td>\n",
       "                        <td id=\"T_7a9342f7_1ac6_11eb_828f_a0a4c554f2a3row35_col14\" class=\"data row35 col14\" >3.000000</td>\n",
       "                        <td id=\"T_7a9342f7_1ac6_11eb_828f_a0a4c554f2a3row35_col15\" class=\"data row35 col15\" >37.000000</td>\n",
       "                        <td id=\"T_7a9342f7_1ac6_11eb_828f_a0a4c554f2a3row35_col16\" class=\"data row35 col16\" >20.000000</td>\n",
       "                        <td id=\"T_7a9342f7_1ac6_11eb_828f_a0a4c554f2a3row35_col17\" class=\"data row35 col17\" >50.000000</td>\n",
       "                        <td id=\"T_7a9342f7_1ac6_11eb_828f_a0a4c554f2a3row35_col18\" class=\"data row35 col18\" >22.000000</td>\n",
       "                        <td id=\"T_7a9342f7_1ac6_11eb_828f_a0a4c554f2a3row35_col19\" class=\"data row35 col19\" >139.000000</td>\n",
       "                        <td id=\"T_7a9342f7_1ac6_11eb_828f_a0a4c554f2a3row35_col20\" class=\"data row35 col20\" >7.000000</td>\n",
       "                        <td id=\"T_7a9342f7_1ac6_11eb_828f_a0a4c554f2a3row35_col21\" class=\"data row35 col21\" >204.000000</td>\n",
       "                        <td id=\"T_7a9342f7_1ac6_11eb_828f_a0a4c554f2a3row35_col22\" class=\"data row35 col22\" >239.000000</td>\n",
       "                        <td id=\"T_7a9342f7_1ac6_11eb_828f_a0a4c554f2a3row35_col23\" class=\"data row35 col23\" >302.000000</td>\n",
       "                        <td id=\"T_7a9342f7_1ac6_11eb_828f_a0a4c554f2a3row35_col24\" class=\"data row35 col24\" >300.000000</td>\n",
       "                        <td id=\"T_7a9342f7_1ac6_11eb_828f_a0a4c554f2a3row35_col25\" class=\"data row35 col25\" >330.000000</td>\n",
       "                        <td id=\"T_7a9342f7_1ac6_11eb_828f_a0a4c554f2a3row35_col26\" class=\"data row35 col26\" >297.000000</td>\n",
       "                        <td id=\"T_7a9342f7_1ac6_11eb_828f_a0a4c554f2a3row35_col27\" class=\"data row35 col27\" >101.000000</td>\n",
       "                        <td id=\"T_7a9342f7_1ac6_11eb_828f_a0a4c554f2a3row35_col28\" class=\"data row35 col28\" >22.000000</td>\n",
       "                        <td id=\"T_7a9342f7_1ac6_11eb_828f_a0a4c554f2a3row35_col29\" class=\"data row35 col29\" >7.000000</td>\n",
       "            </tr>\n",
       "            <tr>\n",
       "                        <th id=\"T_7a9342f7_1ac6_11eb_828f_a0a4c554f2a3level0_row36\" class=\"row_heading level0 row36\" >de</th>\n",
       "                        <td id=\"T_7a9342f7_1ac6_11eb_828f_a0a4c554f2a3row36_col0\" class=\"data row36 col0\" >250.000000</td>\n",
       "                        <td id=\"T_7a9342f7_1ac6_11eb_828f_a0a4c554f2a3row36_col1\" class=\"data row36 col1\" >213.000000</td>\n",
       "                        <td id=\"T_7a9342f7_1ac6_11eb_828f_a0a4c554f2a3row36_col2\" class=\"data row36 col2\" >432.000000</td>\n",
       "                        <td id=\"T_7a9342f7_1ac6_11eb_828f_a0a4c554f2a3row36_col3\" class=\"data row36 col3\" >11.000000</td>\n",
       "                        <td id=\"T_7a9342f7_1ac6_11eb_828f_a0a4c554f2a3row36_col4\" class=\"data row36 col4\" >67.000000</td>\n",
       "                        <td id=\"T_7a9342f7_1ac6_11eb_828f_a0a4c554f2a3row36_col5\" class=\"data row36 col5\" >68.000000</td>\n",
       "                        <td id=\"T_7a9342f7_1ac6_11eb_828f_a0a4c554f2a3row36_col6\" class=\"data row36 col6\" >75.000000</td>\n",
       "                        <td id=\"T_7a9342f7_1ac6_11eb_828f_a0a4c554f2a3row36_col7\" class=\"data row36 col7\" >2078.000000</td>\n",
       "                        <td id=\"T_7a9342f7_1ac6_11eb_828f_a0a4c554f2a3row36_col8\" class=\"data row36 col8\" >156.000000</td>\n",
       "                        <td id=\"T_7a9342f7_1ac6_11eb_828f_a0a4c554f2a3row36_col9\" class=\"data row36 col9\" >9.000000</td>\n",
       "                        <td id=\"T_7a9342f7_1ac6_11eb_828f_a0a4c554f2a3row36_col10\" class=\"data row36 col10\" >96.000000</td>\n",
       "                        <td id=\"T_7a9342f7_1ac6_11eb_828f_a0a4c554f2a3row36_col11\" class=\"data row36 col11\" >248.000000</td>\n",
       "                        <td id=\"T_7a9342f7_1ac6_11eb_828f_a0a4c554f2a3row36_col12\" class=\"data row36 col12\" >158.000000</td>\n",
       "                        <td id=\"T_7a9342f7_1ac6_11eb_828f_a0a4c554f2a3row36_col13\" class=\"data row36 col13\" >22.000000</td>\n",
       "                        <td id=\"T_7a9342f7_1ac6_11eb_828f_a0a4c554f2a3row36_col14\" class=\"data row36 col14\" >97.000000</td>\n",
       "                        <td id=\"T_7a9342f7_1ac6_11eb_828f_a0a4c554f2a3row36_col15\" class=\"data row36 col15\" >175.000000</td>\n",
       "                        <td id=\"T_7a9342f7_1ac6_11eb_828f_a0a4c554f2a3row36_col16\" class=\"data row36 col16\" >115.000000</td>\n",
       "                        <td id=\"T_7a9342f7_1ac6_11eb_828f_a0a4c554f2a3row36_col17\" class=\"data row36 col17\" >372.000000</td>\n",
       "                        <td id=\"T_7a9342f7_1ac6_11eb_828f_a0a4c554f2a3row36_col18\" class=\"data row36 col18\" >76.000000</td>\n",
       "                        <td id=\"T_7a9342f7_1ac6_11eb_828f_a0a4c554f2a3row36_col19\" class=\"data row36 col19\" >376.000000</td>\n",
       "                        <td id=\"T_7a9342f7_1ac6_11eb_828f_a0a4c554f2a3row36_col20\" class=\"data row36 col20\" >49.000000</td>\n",
       "                        <td id=\"T_7a9342f7_1ac6_11eb_828f_a0a4c554f2a3row36_col21\" class=\"data row36 col21\" >1049.000000</td>\n",
       "                        <td id=\"T_7a9342f7_1ac6_11eb_828f_a0a4c554f2a3row36_col22\" class=\"data row36 col22\" >1109.000000</td>\n",
       "                        <td id=\"T_7a9342f7_1ac6_11eb_828f_a0a4c554f2a3row36_col23\" class=\"data row36 col23\" >1401.000000</td>\n",
       "                        <td id=\"T_7a9342f7_1ac6_11eb_828f_a0a4c554f2a3row36_col24\" class=\"data row36 col24\" >1315.000000</td>\n",
       "                        <td id=\"T_7a9342f7_1ac6_11eb_828f_a0a4c554f2a3row36_col25\" class=\"data row36 col25\" >1489.000000</td>\n",
       "                        <td id=\"T_7a9342f7_1ac6_11eb_828f_a0a4c554f2a3row36_col26\" class=\"data row36 col26\" >1439.000000</td>\n",
       "                        <td id=\"T_7a9342f7_1ac6_11eb_828f_a0a4c554f2a3row36_col27\" class=\"data row36 col27\" >480.000000</td>\n",
       "                        <td id=\"T_7a9342f7_1ac6_11eb_828f_a0a4c554f2a3row36_col28\" class=\"data row36 col28\" >21.000000</td>\n",
       "                        <td id=\"T_7a9342f7_1ac6_11eb_828f_a0a4c554f2a3row36_col29\" class=\"data row36 col29\" >87.000000</td>\n",
       "            </tr>\n",
       "            <tr>\n",
       "                        <th id=\"T_7a9342f7_1ac6_11eb_828f_a0a4c554f2a3level0_row37\" class=\"row_heading level0 row37\" >af</th>\n",
       "                        <td id=\"T_7a9342f7_1ac6_11eb_828f_a0a4c554f2a3row37_col0\" class=\"data row37 col0\" >0.000000</td>\n",
       "                        <td id=\"T_7a9342f7_1ac6_11eb_828f_a0a4c554f2a3row37_col1\" class=\"data row37 col1\" >280.000000</td>\n",
       "                        <td id=\"T_7a9342f7_1ac6_11eb_828f_a0a4c554f2a3row37_col2\" class=\"data row37 col2\" >599.000000</td>\n",
       "                        <td id=\"T_7a9342f7_1ac6_11eb_828f_a0a4c554f2a3row37_col3\" class=\"data row37 col3\" >26.000000</td>\n",
       "                        <td id=\"T_7a9342f7_1ac6_11eb_828f_a0a4c554f2a3row37_col4\" class=\"data row37 col4\" >110.000000</td>\n",
       "                        <td id=\"T_7a9342f7_1ac6_11eb_828f_a0a4c554f2a3row37_col5\" class=\"data row37 col5\" >105.000000</td>\n",
       "                        <td id=\"T_7a9342f7_1ac6_11eb_828f_a0a4c554f2a3row37_col6\" class=\"data row37 col6\" >205.000000</td>\n",
       "                        <td id=\"T_7a9342f7_1ac6_11eb_828f_a0a4c554f2a3row37_col7\" class=\"data row37 col7\" >0.000000</td>\n",
       "                        <td id=\"T_7a9342f7_1ac6_11eb_828f_a0a4c554f2a3row37_col8\" class=\"data row37 col8\" >226.000000</td>\n",
       "                        <td id=\"T_7a9342f7_1ac6_11eb_828f_a0a4c554f2a3row37_col9\" class=\"data row37 col9\" >67.000000</td>\n",
       "                        <td id=\"T_7a9342f7_1ac6_11eb_828f_a0a4c554f2a3row37_col10\" class=\"data row37 col10\" >149.000000</td>\n",
       "                        <td id=\"T_7a9342f7_1ac6_11eb_828f_a0a4c554f2a3row37_col11\" class=\"data row37 col11\" >812.000000</td>\n",
       "                        <td id=\"T_7a9342f7_1ac6_11eb_828f_a0a4c554f2a3row37_col12\" class=\"data row37 col12\" >436.000000</td>\n",
       "                        <td id=\"T_7a9342f7_1ac6_11eb_828f_a0a4c554f2a3row37_col13\" class=\"data row37 col13\" >181.000000</td>\n",
       "                        <td id=\"T_7a9342f7_1ac6_11eb_828f_a0a4c554f2a3row37_col14\" class=\"data row37 col14\" >191.000000</td>\n",
       "                        <td id=\"T_7a9342f7_1ac6_11eb_828f_a0a4c554f2a3row37_col15\" class=\"data row37 col15\" >321.000000</td>\n",
       "                        <td id=\"T_7a9342f7_1ac6_11eb_828f_a0a4c554f2a3row37_col16\" class=\"data row37 col16\" >88.000000</td>\n",
       "                        <td id=\"T_7a9342f7_1ac6_11eb_828f_a0a4c554f2a3row37_col17\" class=\"data row37 col17\" >228.000000</td>\n",
       "                        <td id=\"T_7a9342f7_1ac6_11eb_828f_a0a4c554f2a3row37_col18\" class=\"data row37 col18\" >70.000000</td>\n",
       "                        <td id=\"T_7a9342f7_1ac6_11eb_828f_a0a4c554f2a3row37_col19\" class=\"data row37 col19\" >400.000000</td>\n",
       "                        <td id=\"T_7a9342f7_1ac6_11eb_828f_a0a4c554f2a3row37_col20\" class=\"data row37 col20\" >34.000000</td>\n",
       "                        <td id=\"T_7a9342f7_1ac6_11eb_828f_a0a4c554f2a3row37_col21\" class=\"data row37 col21\" >639.000000</td>\n",
       "                        <td id=\"T_7a9342f7_1ac6_11eb_828f_a0a4c554f2a3row37_col22\" class=\"data row37 col22\" >584.000000</td>\n",
       "                        <td id=\"T_7a9342f7_1ac6_11eb_828f_a0a4c554f2a3row37_col23\" class=\"data row37 col23\" >802.000000</td>\n",
       "                        <td id=\"T_7a9342f7_1ac6_11eb_828f_a0a4c554f2a3row37_col24\" class=\"data row37 col24\" >828.000000</td>\n",
       "                        <td id=\"T_7a9342f7_1ac6_11eb_828f_a0a4c554f2a3row37_col25\" class=\"data row37 col25\" >980.000000</td>\n",
       "                        <td id=\"T_7a9342f7_1ac6_11eb_828f_a0a4c554f2a3row37_col26\" class=\"data row37 col26\" >862.000000</td>\n",
       "                        <td id=\"T_7a9342f7_1ac6_11eb_828f_a0a4c554f2a3row37_col27\" class=\"data row37 col27\" >237.000000</td>\n",
       "                        <td id=\"T_7a9342f7_1ac6_11eb_828f_a0a4c554f2a3row37_col28\" class=\"data row37 col28\" >19.000000</td>\n",
       "                        <td id=\"T_7a9342f7_1ac6_11eb_828f_a0a4c554f2a3row37_col29\" class=\"data row37 col29\" >46.000000</td>\n",
       "            </tr>\n",
       "            <tr>\n",
       "                        <th id=\"T_7a9342f7_1ac6_11eb_828f_a0a4c554f2a3level0_row38\" class=\"row_heading level0 row38\" >kan</th>\n",
       "                        <td id=\"T_7a9342f7_1ac6_11eb_828f_a0a4c554f2a3row38_col0\" class=\"data row38 col0\" >19.000000</td>\n",
       "                        <td id=\"T_7a9342f7_1ac6_11eb_828f_a0a4c554f2a3row38_col1\" class=\"data row38 col1\" >151.000000</td>\n",
       "                        <td id=\"T_7a9342f7_1ac6_11eb_828f_a0a4c554f2a3row38_col2\" class=\"data row38 col2\" >305.000000</td>\n",
       "                        <td id=\"T_7a9342f7_1ac6_11eb_828f_a0a4c554f2a3row38_col3\" class=\"data row38 col3\" >11.000000</td>\n",
       "                        <td id=\"T_7a9342f7_1ac6_11eb_828f_a0a4c554f2a3row38_col4\" class=\"data row38 col4\" >38.000000</td>\n",
       "                        <td id=\"T_7a9342f7_1ac6_11eb_828f_a0a4c554f2a3row38_col5\" class=\"data row38 col5\" >48.000000</td>\n",
       "                        <td id=\"T_7a9342f7_1ac6_11eb_828f_a0a4c554f2a3row38_col6\" class=\"data row38 col6\" >29.000000</td>\n",
       "                        <td id=\"T_7a9342f7_1ac6_11eb_828f_a0a4c554f2a3row38_col7\" class=\"data row38 col7\" >30.000000</td>\n",
       "                        <td id=\"T_7a9342f7_1ac6_11eb_828f_a0a4c554f2a3row38_col8\" class=\"data row38 col8\" >28.000000</td>\n",
       "                        <td id=\"T_7a9342f7_1ac6_11eb_828f_a0a4c554f2a3row38_col9\" class=\"data row38 col9\" >1.000000</td>\n",
       "                        <td id=\"T_7a9342f7_1ac6_11eb_828f_a0a4c554f2a3row38_col10\" class=\"data row38 col10\" >40.000000</td>\n",
       "                        <td id=\"T_7a9342f7_1ac6_11eb_828f_a0a4c554f2a3row38_col11\" class=\"data row38 col11\" >78.000000</td>\n",
       "                        <td id=\"T_7a9342f7_1ac6_11eb_828f_a0a4c554f2a3row38_col12\" class=\"data row38 col12\" >17.000000</td>\n",
       "                        <td id=\"T_7a9342f7_1ac6_11eb_828f_a0a4c554f2a3row38_col13\" class=\"data row38 col13\" >1.000000</td>\n",
       "                        <td id=\"T_7a9342f7_1ac6_11eb_828f_a0a4c554f2a3row38_col14\" class=\"data row38 col14\" >8.000000</td>\n",
       "                        <td id=\"T_7a9342f7_1ac6_11eb_828f_a0a4c554f2a3row38_col15\" class=\"data row38 col15\" >188.000000</td>\n",
       "                        <td id=\"T_7a9342f7_1ac6_11eb_828f_a0a4c554f2a3row38_col16\" class=\"data row38 col16\" >69.000000</td>\n",
       "                        <td id=\"T_7a9342f7_1ac6_11eb_828f_a0a4c554f2a3row38_col17\" class=\"data row38 col17\" >124.000000</td>\n",
       "                        <td id=\"T_7a9342f7_1ac6_11eb_828f_a0a4c554f2a3row38_col18\" class=\"data row38 col18\" >12.000000</td>\n",
       "                        <td id=\"T_7a9342f7_1ac6_11eb_828f_a0a4c554f2a3row38_col19\" class=\"data row38 col19\" >164.000000</td>\n",
       "                        <td id=\"T_7a9342f7_1ac6_11eb_828f_a0a4c554f2a3row38_col20\" class=\"data row38 col20\" >10.000000</td>\n",
       "                        <td id=\"T_7a9342f7_1ac6_11eb_828f_a0a4c554f2a3row38_col21\" class=\"data row38 col21\" >316.000000</td>\n",
       "                        <td id=\"T_7a9342f7_1ac6_11eb_828f_a0a4c554f2a3row38_col22\" class=\"data row38 col22\" >307.000000</td>\n",
       "                        <td id=\"T_7a9342f7_1ac6_11eb_828f_a0a4c554f2a3row38_col23\" class=\"data row38 col23\" >436.000000</td>\n",
       "                        <td id=\"T_7a9342f7_1ac6_11eb_828f_a0a4c554f2a3row38_col24\" class=\"data row38 col24\" >379.000000</td>\n",
       "                        <td id=\"T_7a9342f7_1ac6_11eb_828f_a0a4c554f2a3row38_col25\" class=\"data row38 col25\" >474.000000</td>\n",
       "                        <td id=\"T_7a9342f7_1ac6_11eb_828f_a0a4c554f2a3row38_col26\" class=\"data row38 col26\" >396.000000</td>\n",
       "                        <td id=\"T_7a9342f7_1ac6_11eb_828f_a0a4c554f2a3row38_col27\" class=\"data row38 col27\" >172.000000</td>\n",
       "                        <td id=\"T_7a9342f7_1ac6_11eb_828f_a0a4c554f2a3row38_col28\" class=\"data row38 col28\" >19.000000</td>\n",
       "                        <td id=\"T_7a9342f7_1ac6_11eb_828f_a0a4c554f2a3row38_col29\" class=\"data row38 col29\" >18.000000</td>\n",
       "            </tr>\n",
       "            <tr>\n",
       "                        <th id=\"T_7a9342f7_1ac6_11eb_828f_a0a4c554f2a3level0_row39\" class=\"row_heading level0 row39\" >nu</th>\n",
       "                        <td id=\"T_7a9342f7_1ac6_11eb_828f_a0a4c554f2a3row39_col0\" class=\"data row39 col0\" >164.000000</td>\n",
       "                        <td id=\"T_7a9342f7_1ac6_11eb_828f_a0a4c554f2a3row39_col1\" class=\"data row39 col1\" >109.000000</td>\n",
       "                        <td id=\"T_7a9342f7_1ac6_11eb_828f_a0a4c554f2a3row39_col2\" class=\"data row39 col2\" >175.000000</td>\n",
       "                        <td id=\"T_7a9342f7_1ac6_11eb_828f_a0a4c554f2a3row39_col3\" class=\"data row39 col3\" >4.000000</td>\n",
       "                        <td id=\"T_7a9342f7_1ac6_11eb_828f_a0a4c554f2a3row39_col4\" class=\"data row39 col4\" >31.000000</td>\n",
       "                        <td id=\"T_7a9342f7_1ac6_11eb_828f_a0a4c554f2a3row39_col5\" class=\"data row39 col5\" >26.000000</td>\n",
       "                        <td id=\"T_7a9342f7_1ac6_11eb_828f_a0a4c554f2a3row39_col6\" class=\"data row39 col6\" >37.000000</td>\n",
       "                        <td id=\"T_7a9342f7_1ac6_11eb_828f_a0a4c554f2a3row39_col7\" class=\"data row39 col7\" >0.000000</td>\n",
       "                        <td id=\"T_7a9342f7_1ac6_11eb_828f_a0a4c554f2a3row39_col8\" class=\"data row39 col8\" >8.000000</td>\n",
       "                        <td id=\"T_7a9342f7_1ac6_11eb_828f_a0a4c554f2a3row39_col9\" class=\"data row39 col9\" >2.000000</td>\n",
       "                        <td id=\"T_7a9342f7_1ac6_11eb_828f_a0a4c554f2a3row39_col10\" class=\"data row39 col10\" >33.000000</td>\n",
       "                        <td id=\"T_7a9342f7_1ac6_11eb_828f_a0a4c554f2a3row39_col11\" class=\"data row39 col11\" >91.000000</td>\n",
       "                        <td id=\"T_7a9342f7_1ac6_11eb_828f_a0a4c554f2a3row39_col12\" class=\"data row39 col12\" >55.000000</td>\n",
       "                        <td id=\"T_7a9342f7_1ac6_11eb_828f_a0a4c554f2a3row39_col13\" class=\"data row39 col13\" >12.000000</td>\n",
       "                        <td id=\"T_7a9342f7_1ac6_11eb_828f_a0a4c554f2a3row39_col14\" class=\"data row39 col14\" >65.000000</td>\n",
       "                        <td id=\"T_7a9342f7_1ac6_11eb_828f_a0a4c554f2a3row39_col15\" class=\"data row39 col15\" >194.000000</td>\n",
       "                        <td id=\"T_7a9342f7_1ac6_11eb_828f_a0a4c554f2a3row39_col16\" class=\"data row39 col16\" >92.000000</td>\n",
       "                        <td id=\"T_7a9342f7_1ac6_11eb_828f_a0a4c554f2a3row39_col17\" class=\"data row39 col17\" >145.000000</td>\n",
       "                        <td id=\"T_7a9342f7_1ac6_11eb_828f_a0a4c554f2a3row39_col18\" class=\"data row39 col18\" >15.000000</td>\n",
       "                        <td id=\"T_7a9342f7_1ac6_11eb_828f_a0a4c554f2a3row39_col19\" class=\"data row39 col19\" >222.000000</td>\n",
       "                        <td id=\"T_7a9342f7_1ac6_11eb_828f_a0a4c554f2a3row39_col20\" class=\"data row39 col20\" >18.000000</td>\n",
       "                        <td id=\"T_7a9342f7_1ac6_11eb_828f_a0a4c554f2a3row39_col21\" class=\"data row39 col21\" >627.000000</td>\n",
       "                        <td id=\"T_7a9342f7_1ac6_11eb_828f_a0a4c554f2a3row39_col22\" class=\"data row39 col22\" >573.000000</td>\n",
       "                        <td id=\"T_7a9342f7_1ac6_11eb_828f_a0a4c554f2a3row39_col23\" class=\"data row39 col23\" >658.000000</td>\n",
       "                        <td id=\"T_7a9342f7_1ac6_11eb_828f_a0a4c554f2a3row39_col24\" class=\"data row39 col24\" >718.000000</td>\n",
       "                        <td id=\"T_7a9342f7_1ac6_11eb_828f_a0a4c554f2a3row39_col25\" class=\"data row39 col25\" >778.000000</td>\n",
       "                        <td id=\"T_7a9342f7_1ac6_11eb_828f_a0a4c554f2a3row39_col26\" class=\"data row39 col26\" >692.000000</td>\n",
       "                        <td id=\"T_7a9342f7_1ac6_11eb_828f_a0a4c554f2a3row39_col27\" class=\"data row39 col27\" >206.000000</td>\n",
       "                        <td id=\"T_7a9342f7_1ac6_11eb_828f_a0a4c554f2a3row39_col28\" class=\"data row39 col28\" >19.000000</td>\n",
       "                        <td id=\"T_7a9342f7_1ac6_11eb_828f_a0a4c554f2a3row39_col29\" class=\"data row39 col29\" >19.000000</td>\n",
       "            </tr>\n",
       "            <tr>\n",
       "                        <th id=\"T_7a9342f7_1ac6_11eb_828f_a0a4c554f2a3level0_row40\" class=\"row_heading level0 row40\" >;</th>\n",
       "                        <td id=\"T_7a9342f7_1ac6_11eb_828f_a0a4c554f2a3row40_col0\" class=\"data row40 col0\" >5.000000</td>\n",
       "                        <td id=\"T_7a9342f7_1ac6_11eb_828f_a0a4c554f2a3row40_col1\" class=\"data row40 col1\" >27.000000</td>\n",
       "                        <td id=\"T_7a9342f7_1ac6_11eb_828f_a0a4c554f2a3row40_col2\" class=\"data row40 col2\" >65.000000</td>\n",
       "                        <td id=\"T_7a9342f7_1ac6_11eb_828f_a0a4c554f2a3row40_col3\" class=\"data row40 col3\" >1.000000</td>\n",
       "                        <td id=\"T_7a9342f7_1ac6_11eb_828f_a0a4c554f2a3row40_col4\" class=\"data row40 col4\" >8.000000</td>\n",
       "                        <td id=\"T_7a9342f7_1ac6_11eb_828f_a0a4c554f2a3row40_col5\" class=\"data row40 col5\" >14.000000</td>\n",
       "                        <td id=\"T_7a9342f7_1ac6_11eb_828f_a0a4c554f2a3row40_col6\" class=\"data row40 col6\" >21.000000</td>\n",
       "                        <td id=\"T_7a9342f7_1ac6_11eb_828f_a0a4c554f2a3row40_col7\" class=\"data row40 col7\" >549.000000</td>\n",
       "                        <td id=\"T_7a9342f7_1ac6_11eb_828f_a0a4c554f2a3row40_col8\" class=\"data row40 col8\" >65.000000</td>\n",
       "                        <td id=\"T_7a9342f7_1ac6_11eb_828f_a0a4c554f2a3row40_col9\" class=\"data row40 col9\" >23.000000</td>\n",
       "                        <td id=\"T_7a9342f7_1ac6_11eb_828f_a0a4c554f2a3row40_col10\" class=\"data row40 col10\" >193.000000</td>\n",
       "                        <td id=\"T_7a9342f7_1ac6_11eb_828f_a0a4c554f2a3row40_col11\" class=\"data row40 col11\" >462.000000</td>\n",
       "                        <td id=\"T_7a9342f7_1ac6_11eb_828f_a0a4c554f2a3row40_col12\" class=\"data row40 col12\" >199.000000</td>\n",
       "                        <td id=\"T_7a9342f7_1ac6_11eb_828f_a0a4c554f2a3row40_col13\" class=\"data row40 col13\" >19.000000</td>\n",
       "                        <td id=\"T_7a9342f7_1ac6_11eb_828f_a0a4c554f2a3row40_col14\" class=\"data row40 col14\" >64.000000</td>\n",
       "                        <td id=\"T_7a9342f7_1ac6_11eb_828f_a0a4c554f2a3row40_col15\" class=\"data row40 col15\" >309.000000</td>\n",
       "                        <td id=\"T_7a9342f7_1ac6_11eb_828f_a0a4c554f2a3row40_col16\" class=\"data row40 col16\" >4.000000</td>\n",
       "                        <td id=\"T_7a9342f7_1ac6_11eb_828f_a0a4c554f2a3row40_col17\" class=\"data row40 col17\" >49.000000</td>\n",
       "                        <td id=\"T_7a9342f7_1ac6_11eb_828f_a0a4c554f2a3row40_col18\" class=\"data row40 col18\" >65.000000</td>\n",
       "                        <td id=\"T_7a9342f7_1ac6_11eb_828f_a0a4c554f2a3row40_col19\" class=\"data row40 col19\" >270.000000</td>\n",
       "                        <td id=\"T_7a9342f7_1ac6_11eb_828f_a0a4c554f2a3row40_col20\" class=\"data row40 col20\" >22.000000</td>\n",
       "                        <td id=\"T_7a9342f7_1ac6_11eb_828f_a0a4c554f2a3row40_col21\" class=\"data row40 col21\" >369.000000</td>\n",
       "                        <td id=\"T_7a9342f7_1ac6_11eb_828f_a0a4c554f2a3row40_col22\" class=\"data row40 col22\" >241.000000</td>\n",
       "                        <td id=\"T_7a9342f7_1ac6_11eb_828f_a0a4c554f2a3row40_col23\" class=\"data row40 col23\" >281.000000</td>\n",
       "                        <td id=\"T_7a9342f7_1ac6_11eb_828f_a0a4c554f2a3row40_col24\" class=\"data row40 col24\" >324.000000</td>\n",
       "                        <td id=\"T_7a9342f7_1ac6_11eb_828f_a0a4c554f2a3row40_col25\" class=\"data row40 col25\" >422.000000</td>\n",
       "                        <td id=\"T_7a9342f7_1ac6_11eb_828f_a0a4c554f2a3row40_col26\" class=\"data row40 col26\" >401.000000</td>\n",
       "                        <td id=\"T_7a9342f7_1ac6_11eb_828f_a0a4c554f2a3row40_col27\" class=\"data row40 col27\" >111.000000</td>\n",
       "                        <td id=\"T_7a9342f7_1ac6_11eb_828f_a0a4c554f2a3row40_col28\" class=\"data row40 col28\" >19.000000</td>\n",
       "                        <td id=\"T_7a9342f7_1ac6_11eb_828f_a0a4c554f2a3row40_col29\" class=\"data row40 col29\" >12.000000</td>\n",
       "            </tr>\n",
       "            <tr>\n",
       "                        <th id=\"T_7a9342f7_1ac6_11eb_828f_a0a4c554f2a3level0_row41\" class=\"row_heading level0 row41\" >I</th>\n",
       "                        <td id=\"T_7a9342f7_1ac6_11eb_828f_a0a4c554f2a3row41_col0\" class=\"data row41 col0\" >23.000000</td>\n",
       "                        <td id=\"T_7a9342f7_1ac6_11eb_828f_a0a4c554f2a3row41_col1\" class=\"data row41 col1\" >30.000000</td>\n",
       "                        <td id=\"T_7a9342f7_1ac6_11eb_828f_a0a4c554f2a3row41_col2\" class=\"data row41 col2\" >83.000000</td>\n",
       "                        <td id=\"T_7a9342f7_1ac6_11eb_828f_a0a4c554f2a3row41_col3\" class=\"data row41 col3\" >4.000000</td>\n",
       "                        <td id=\"T_7a9342f7_1ac6_11eb_828f_a0a4c554f2a3row41_col4\" class=\"data row41 col4\" >14.000000</td>\n",
       "                        <td id=\"T_7a9342f7_1ac6_11eb_828f_a0a4c554f2a3row41_col5\" class=\"data row41 col5\" >11.000000</td>\n",
       "                        <td id=\"T_7a9342f7_1ac6_11eb_828f_a0a4c554f2a3row41_col6\" class=\"data row41 col6\" >9.000000</td>\n",
       "                        <td id=\"T_7a9342f7_1ac6_11eb_828f_a0a4c554f2a3row41_col7\" class=\"data row41 col7\" >37.000000</td>\n",
       "                        <td id=\"T_7a9342f7_1ac6_11eb_828f_a0a4c554f2a3row41_col8\" class=\"data row41 col8\" >17.000000</td>\n",
       "                        <td id=\"T_7a9342f7_1ac6_11eb_828f_a0a4c554f2a3row41_col9\" class=\"data row41 col9\" >4.000000</td>\n",
       "                        <td id=\"T_7a9342f7_1ac6_11eb_828f_a0a4c554f2a3row41_col10\" class=\"data row41 col10\" >25.000000</td>\n",
       "                        <td id=\"T_7a9342f7_1ac6_11eb_828f_a0a4c554f2a3row41_col11\" class=\"data row41 col11\" >143.000000</td>\n",
       "                        <td id=\"T_7a9342f7_1ac6_11eb_828f_a0a4c554f2a3row41_col12\" class=\"data row41 col12\" >85.000000</td>\n",
       "                        <td id=\"T_7a9342f7_1ac6_11eb_828f_a0a4c554f2a3row41_col13\" class=\"data row41 col13\" >18.000000</td>\n",
       "                        <td id=\"T_7a9342f7_1ac6_11eb_828f_a0a4c554f2a3row41_col14\" class=\"data row41 col14\" >38.000000</td>\n",
       "                        <td id=\"T_7a9342f7_1ac6_11eb_828f_a0a4c554f2a3row41_col15\" class=\"data row41 col15\" >42.000000</td>\n",
       "                        <td id=\"T_7a9342f7_1ac6_11eb_828f_a0a4c554f2a3row41_col16\" class=\"data row41 col16\" >14.000000</td>\n",
       "                        <td id=\"T_7a9342f7_1ac6_11eb_828f_a0a4c554f2a3row41_col17\" class=\"data row41 col17\" >43.000000</td>\n",
       "                        <td id=\"T_7a9342f7_1ac6_11eb_828f_a0a4c554f2a3row41_col18\" class=\"data row41 col18\" >12.000000</td>\n",
       "                        <td id=\"T_7a9342f7_1ac6_11eb_828f_a0a4c554f2a3row41_col19\" class=\"data row41 col19\" >297.000000</td>\n",
       "                        <td id=\"T_7a9342f7_1ac6_11eb_828f_a0a4c554f2a3row41_col20\" class=\"data row41 col20\" >13.000000</td>\n",
       "                        <td id=\"T_7a9342f7_1ac6_11eb_828f_a0a4c554f2a3row41_col21\" class=\"data row41 col21\" >536.000000</td>\n",
       "                        <td id=\"T_7a9342f7_1ac6_11eb_828f_a0a4c554f2a3row41_col22\" class=\"data row41 col22\" >550.000000</td>\n",
       "                        <td id=\"T_7a9342f7_1ac6_11eb_828f_a0a4c554f2a3row41_col23\" class=\"data row41 col23\" >696.000000</td>\n",
       "                        <td id=\"T_7a9342f7_1ac6_11eb_828f_a0a4c554f2a3row41_col24\" class=\"data row41 col24\" >667.000000</td>\n",
       "                        <td id=\"T_7a9342f7_1ac6_11eb_828f_a0a4c554f2a3row41_col25\" class=\"data row41 col25\" >775.000000</td>\n",
       "                        <td id=\"T_7a9342f7_1ac6_11eb_828f_a0a4c554f2a3row41_col26\" class=\"data row41 col26\" >625.000000</td>\n",
       "                        <td id=\"T_7a9342f7_1ac6_11eb_828f_a0a4c554f2a3row41_col27\" class=\"data row41 col27\" >183.000000</td>\n",
       "                        <td id=\"T_7a9342f7_1ac6_11eb_828f_a0a4c554f2a3row41_col28\" class=\"data row41 col28\" >18.000000</td>\n",
       "                        <td id=\"T_7a9342f7_1ac6_11eb_828f_a0a4c554f2a3row41_col29\" class=\"data row41 col29\" >8.000000</td>\n",
       "            </tr>\n",
       "            <tr>\n",
       "                        <th id=\"T_7a9342f7_1ac6_11eb_828f_a0a4c554f2a3level0_row42\" class=\"row_heading level0 row42\" >end</th>\n",
       "                        <td id=\"T_7a9342f7_1ac6_11eb_828f_a0a4c554f2a3row42_col0\" class=\"data row42 col0\" >1.000000</td>\n",
       "                        <td id=\"T_7a9342f7_1ac6_11eb_828f_a0a4c554f2a3row42_col1\" class=\"data row42 col1\" >69.000000</td>\n",
       "                        <td id=\"T_7a9342f7_1ac6_11eb_828f_a0a4c554f2a3row42_col2\" class=\"data row42 col2\" >148.000000</td>\n",
       "                        <td id=\"T_7a9342f7_1ac6_11eb_828f_a0a4c554f2a3row42_col3\" class=\"data row42 col3\" >6.000000</td>\n",
       "                        <td id=\"T_7a9342f7_1ac6_11eb_828f_a0a4c554f2a3row42_col4\" class=\"data row42 col4\" >21.000000</td>\n",
       "                        <td id=\"T_7a9342f7_1ac6_11eb_828f_a0a4c554f2a3row42_col5\" class=\"data row42 col5\" >21.000000</td>\n",
       "                        <td id=\"T_7a9342f7_1ac6_11eb_828f_a0a4c554f2a3row42_col6\" class=\"data row42 col6\" >28.000000</td>\n",
       "                        <td id=\"T_7a9342f7_1ac6_11eb_828f_a0a4c554f2a3row42_col7\" class=\"data row42 col7\" >0.000000</td>\n",
       "                        <td id=\"T_7a9342f7_1ac6_11eb_828f_a0a4c554f2a3row42_col8\" class=\"data row42 col8\" >23.000000</td>\n",
       "                        <td id=\"T_7a9342f7_1ac6_11eb_828f_a0a4c554f2a3row42_col9\" class=\"data row42 col9\" >0.000000</td>\n",
       "                        <td id=\"T_7a9342f7_1ac6_11eb_828f_a0a4c554f2a3row42_col10\" class=\"data row42 col10\" >25.000000</td>\n",
       "                        <td id=\"T_7a9342f7_1ac6_11eb_828f_a0a4c554f2a3row42_col11\" class=\"data row42 col11\" >76.000000</td>\n",
       "                        <td id=\"T_7a9342f7_1ac6_11eb_828f_a0a4c554f2a3row42_col12\" class=\"data row42 col12\" >34.000000</td>\n",
       "                        <td id=\"T_7a9342f7_1ac6_11eb_828f_a0a4c554f2a3row42_col13\" class=\"data row42 col13\" >2.000000</td>\n",
       "                        <td id=\"T_7a9342f7_1ac6_11eb_828f_a0a4c554f2a3row42_col14\" class=\"data row42 col14\" >17.000000</td>\n",
       "                        <td id=\"T_7a9342f7_1ac6_11eb_828f_a0a4c554f2a3row42_col15\" class=\"data row42 col15\" >78.000000</td>\n",
       "                        <td id=\"T_7a9342f7_1ac6_11eb_828f_a0a4c554f2a3row42_col16\" class=\"data row42 col16\" >29.000000</td>\n",
       "                        <td id=\"T_7a9342f7_1ac6_11eb_828f_a0a4c554f2a3row42_col17\" class=\"data row42 col17\" >59.000000</td>\n",
       "                        <td id=\"T_7a9342f7_1ac6_11eb_828f_a0a4c554f2a3row42_col18\" class=\"data row42 col18\" >23.000000</td>\n",
       "                        <td id=\"T_7a9342f7_1ac6_11eb_828f_a0a4c554f2a3row42_col19\" class=\"data row42 col19\" >139.000000</td>\n",
       "                        <td id=\"T_7a9342f7_1ac6_11eb_828f_a0a4c554f2a3row42_col20\" class=\"data row42 col20\" >8.000000</td>\n",
       "                        <td id=\"T_7a9342f7_1ac6_11eb_828f_a0a4c554f2a3row42_col21\" class=\"data row42 col21\" >283.000000</td>\n",
       "                        <td id=\"T_7a9342f7_1ac6_11eb_828f_a0a4c554f2a3row42_col22\" class=\"data row42 col22\" >245.000000</td>\n",
       "                        <td id=\"T_7a9342f7_1ac6_11eb_828f_a0a4c554f2a3row42_col23\" class=\"data row42 col23\" >370.000000</td>\n",
       "                        <td id=\"T_7a9342f7_1ac6_11eb_828f_a0a4c554f2a3row42_col24\" class=\"data row42 col24\" >332.000000</td>\n",
       "                        <td id=\"T_7a9342f7_1ac6_11eb_828f_a0a4c554f2a3row42_col25\" class=\"data row42 col25\" >448.000000</td>\n",
       "                        <td id=\"T_7a9342f7_1ac6_11eb_828f_a0a4c554f2a3row42_col26\" class=\"data row42 col26\" >401.000000</td>\n",
       "                        <td id=\"T_7a9342f7_1ac6_11eb_828f_a0a4c554f2a3row42_col27\" class=\"data row42 col27\" >119.000000</td>\n",
       "                        <td id=\"T_7a9342f7_1ac6_11eb_828f_a0a4c554f2a3row42_col28\" class=\"data row42 col28\" >18.000000</td>\n",
       "                        <td id=\"T_7a9342f7_1ac6_11eb_828f_a0a4c554f2a3row42_col29\" class=\"data row42 col29\" >17.000000</td>\n",
       "            </tr>\n",
       "            <tr>\n",
       "                        <th id=\"T_7a9342f7_1ac6_11eb_828f_a0a4c554f2a3level0_row43\" class=\"row_heading level0 row43\" >:</th>\n",
       "                        <td id=\"T_7a9342f7_1ac6_11eb_828f_a0a4c554f2a3row43_col0\" class=\"data row43 col0\" >16.000000</td>\n",
       "                        <td id=\"T_7a9342f7_1ac6_11eb_828f_a0a4c554f2a3row43_col1\" class=\"data row43 col1\" >216.000000</td>\n",
       "                        <td id=\"T_7a9342f7_1ac6_11eb_828f_a0a4c554f2a3row43_col2\" class=\"data row43 col2\" >123.000000</td>\n",
       "                        <td id=\"T_7a9342f7_1ac6_11eb_828f_a0a4c554f2a3row43_col3\" class=\"data row43 col3\" >4.000000</td>\n",
       "                        <td id=\"T_7a9342f7_1ac6_11eb_828f_a0a4c554f2a3row43_col4\" class=\"data row43 col4\" >28.000000</td>\n",
       "                        <td id=\"T_7a9342f7_1ac6_11eb_828f_a0a4c554f2a3row43_col5\" class=\"data row43 col5\" >47.000000</td>\n",
       "                        <td id=\"T_7a9342f7_1ac6_11eb_828f_a0a4c554f2a3row43_col6\" class=\"data row43 col6\" >56.000000</td>\n",
       "                        <td id=\"T_7a9342f7_1ac6_11eb_828f_a0a4c554f2a3row43_col7\" class=\"data row43 col7\" >226.000000</td>\n",
       "                        <td id=\"T_7a9342f7_1ac6_11eb_828f_a0a4c554f2a3row43_col8\" class=\"data row43 col8\" >43.000000</td>\n",
       "                        <td id=\"T_7a9342f7_1ac6_11eb_828f_a0a4c554f2a3row43_col9\" class=\"data row43 col9\" >32.000000</td>\n",
       "                        <td id=\"T_7a9342f7_1ac6_11eb_828f_a0a4c554f2a3row43_col10\" class=\"data row43 col10\" >9.000000</td>\n",
       "                        <td id=\"T_7a9342f7_1ac6_11eb_828f_a0a4c554f2a3row43_col11\" class=\"data row43 col11\" >339.000000</td>\n",
       "                        <td id=\"T_7a9342f7_1ac6_11eb_828f_a0a4c554f2a3row43_col12\" class=\"data row43 col12\" >121.000000</td>\n",
       "                        <td id=\"T_7a9342f7_1ac6_11eb_828f_a0a4c554f2a3row43_col13\" class=\"data row43 col13\" >39.000000</td>\n",
       "                        <td id=\"T_7a9342f7_1ac6_11eb_828f_a0a4c554f2a3row43_col14\" class=\"data row43 col14\" >12.000000</td>\n",
       "                        <td id=\"T_7a9342f7_1ac6_11eb_828f_a0a4c554f2a3row43_col15\" class=\"data row43 col15\" >150.000000</td>\n",
       "                        <td id=\"T_7a9342f7_1ac6_11eb_828f_a0a4c554f2a3row43_col16\" class=\"data row43 col16\" >32.000000</td>\n",
       "                        <td id=\"T_7a9342f7_1ac6_11eb_828f_a0a4c554f2a3row43_col17\" class=\"data row43 col17\" >41.000000</td>\n",
       "                        <td id=\"T_7a9342f7_1ac6_11eb_828f_a0a4c554f2a3row43_col18\" class=\"data row43 col18\" >75.000000</td>\n",
       "                        <td id=\"T_7a9342f7_1ac6_11eb_828f_a0a4c554f2a3row43_col19\" class=\"data row43 col19\" >705.000000</td>\n",
       "                        <td id=\"T_7a9342f7_1ac6_11eb_828f_a0a4c554f2a3row43_col20\" class=\"data row43 col20\" >30.000000</td>\n",
       "                        <td id=\"T_7a9342f7_1ac6_11eb_828f_a0a4c554f2a3row43_col21\" class=\"data row43 col21\" >497.000000</td>\n",
       "                        <td id=\"T_7a9342f7_1ac6_11eb_828f_a0a4c554f2a3row43_col22\" class=\"data row43 col22\" >741.000000</td>\n",
       "                        <td id=\"T_7a9342f7_1ac6_11eb_828f_a0a4c554f2a3row43_col23\" class=\"data row43 col23\" >824.000000</td>\n",
       "                        <td id=\"T_7a9342f7_1ac6_11eb_828f_a0a4c554f2a3row43_col24\" class=\"data row43 col24\" >757.000000</td>\n",
       "                        <td id=\"T_7a9342f7_1ac6_11eb_828f_a0a4c554f2a3row43_col25\" class=\"data row43 col25\" >802.000000</td>\n",
       "                        <td id=\"T_7a9342f7_1ac6_11eb_828f_a0a4c554f2a3row43_col26\" class=\"data row43 col26\" >782.000000</td>\n",
       "                        <td id=\"T_7a9342f7_1ac6_11eb_828f_a0a4c554f2a3row43_col27\" class=\"data row43 col27\" >149.000000</td>\n",
       "                        <td id=\"T_7a9342f7_1ac6_11eb_828f_a0a4c554f2a3row43_col28\" class=\"data row43 col28\" >17.000000</td>\n",
       "                        <td id=\"T_7a9342f7_1ac6_11eb_828f_a0a4c554f2a3row43_col29\" class=\"data row43 col29\" >24.000000</td>\n",
       "            </tr>\n",
       "            <tr>\n",
       "                        <th id=\"T_7a9342f7_1ac6_11eb_828f_a0a4c554f2a3level0_row44\" class=\"row_heading level0 row44\" >denne</th>\n",
       "                        <td id=\"T_7a9342f7_1ac6_11eb_828f_a0a4c554f2a3row44_col0\" class=\"data row44 col0\" >39.000000</td>\n",
       "                        <td id=\"T_7a9342f7_1ac6_11eb_828f_a0a4c554f2a3row44_col1\" class=\"data row44 col1\" >126.000000</td>\n",
       "                        <td id=\"T_7a9342f7_1ac6_11eb_828f_a0a4c554f2a3row44_col2\" class=\"data row44 col2\" >220.000000</td>\n",
       "                        <td id=\"T_7a9342f7_1ac6_11eb_828f_a0a4c554f2a3row44_col3\" class=\"data row44 col3\" >6.000000</td>\n",
       "                        <td id=\"T_7a9342f7_1ac6_11eb_828f_a0a4c554f2a3row44_col4\" class=\"data row44 col4\" >51.000000</td>\n",
       "                        <td id=\"T_7a9342f7_1ac6_11eb_828f_a0a4c554f2a3row44_col5\" class=\"data row44 col5\" >38.000000</td>\n",
       "                        <td id=\"T_7a9342f7_1ac6_11eb_828f_a0a4c554f2a3row44_col6\" class=\"data row44 col6\" >87.000000</td>\n",
       "                        <td id=\"T_7a9342f7_1ac6_11eb_828f_a0a4c554f2a3row44_col7\" class=\"data row44 col7\" >75.000000</td>\n",
       "                        <td id=\"T_7a9342f7_1ac6_11eb_828f_a0a4c554f2a3row44_col8\" class=\"data row44 col8\" >60.000000</td>\n",
       "                        <td id=\"T_7a9342f7_1ac6_11eb_828f_a0a4c554f2a3row44_col9\" class=\"data row44 col9\" >4.000000</td>\n",
       "                        <td id=\"T_7a9342f7_1ac6_11eb_828f_a0a4c554f2a3row44_col10\" class=\"data row44 col10\" >33.000000</td>\n",
       "                        <td id=\"T_7a9342f7_1ac6_11eb_828f_a0a4c554f2a3row44_col11\" class=\"data row44 col11\" >85.000000</td>\n",
       "                        <td id=\"T_7a9342f7_1ac6_11eb_828f_a0a4c554f2a3row44_col12\" class=\"data row44 col12\" >43.000000</td>\n",
       "                        <td id=\"T_7a9342f7_1ac6_11eb_828f_a0a4c554f2a3row44_col13\" class=\"data row44 col13\" >3.000000</td>\n",
       "                        <td id=\"T_7a9342f7_1ac6_11eb_828f_a0a4c554f2a3row44_col14\" class=\"data row44 col14\" >23.000000</td>\n",
       "                        <td id=\"T_7a9342f7_1ac6_11eb_828f_a0a4c554f2a3row44_col15\" class=\"data row44 col15\" >58.000000</td>\n",
       "                        <td id=\"T_7a9342f7_1ac6_11eb_828f_a0a4c554f2a3row44_col16\" class=\"data row44 col16\" >14.000000</td>\n",
       "                        <td id=\"T_7a9342f7_1ac6_11eb_828f_a0a4c554f2a3row44_col17\" class=\"data row44 col17\" >22.000000</td>\n",
       "                        <td id=\"T_7a9342f7_1ac6_11eb_828f_a0a4c554f2a3row44_col18\" class=\"data row44 col18\" >33.000000</td>\n",
       "                        <td id=\"T_7a9342f7_1ac6_11eb_828f_a0a4c554f2a3row44_col19\" class=\"data row44 col19\" >204.000000</td>\n",
       "                        <td id=\"T_7a9342f7_1ac6_11eb_828f_a0a4c554f2a3row44_col20\" class=\"data row44 col20\" >15.000000</td>\n",
       "                        <td id=\"T_7a9342f7_1ac6_11eb_828f_a0a4c554f2a3row44_col21\" class=\"data row44 col21\" >308.000000</td>\n",
       "                        <td id=\"T_7a9342f7_1ac6_11eb_828f_a0a4c554f2a3row44_col22\" class=\"data row44 col22\" >281.000000</td>\n",
       "                        <td id=\"T_7a9342f7_1ac6_11eb_828f_a0a4c554f2a3row44_col23\" class=\"data row44 col23\" >402.000000</td>\n",
       "                        <td id=\"T_7a9342f7_1ac6_11eb_828f_a0a4c554f2a3row44_col24\" class=\"data row44 col24\" >393.000000</td>\n",
       "                        <td id=\"T_7a9342f7_1ac6_11eb_828f_a0a4c554f2a3row44_col25\" class=\"data row44 col25\" >454.000000</td>\n",
       "                        <td id=\"T_7a9342f7_1ac6_11eb_828f_a0a4c554f2a3row44_col26\" class=\"data row44 col26\" >355.000000</td>\n",
       "                        <td id=\"T_7a9342f7_1ac6_11eb_828f_a0a4c554f2a3row44_col27\" class=\"data row44 col27\" >110.000000</td>\n",
       "                        <td id=\"T_7a9342f7_1ac6_11eb_828f_a0a4c554f2a3row44_col28\" class=\"data row44 col28\" >17.000000</td>\n",
       "                        <td id=\"T_7a9342f7_1ac6_11eb_828f_a0a4c554f2a3row44_col29\" class=\"data row44 col29\" >3.000000</td>\n",
       "            </tr>\n",
       "            <tr>\n",
       "                        <th id=\"T_7a9342f7_1ac6_11eb_828f_a0a4c554f2a3level0_row45\" class=\"row_heading level0 row45\" >»</th>\n",
       "                        <td id=\"T_7a9342f7_1ac6_11eb_828f_a0a4c554f2a3row45_col0\" class=\"data row45 col0\" >97.000000</td>\n",
       "                        <td id=\"T_7a9342f7_1ac6_11eb_828f_a0a4c554f2a3row45_col1\" class=\"data row45 col1\" >80.000000</td>\n",
       "                        <td id=\"T_7a9342f7_1ac6_11eb_828f_a0a4c554f2a3row45_col2\" class=\"data row45 col2\" >83.000000</td>\n",
       "                        <td id=\"T_7a9342f7_1ac6_11eb_828f_a0a4c554f2a3row45_col3\" class=\"data row45 col3\" >6.000000</td>\n",
       "                        <td id=\"T_7a9342f7_1ac6_11eb_828f_a0a4c554f2a3row45_col4\" class=\"data row45 col4\" >37.000000</td>\n",
       "                        <td id=\"T_7a9342f7_1ac6_11eb_828f_a0a4c554f2a3row45_col5\" class=\"data row45 col5\" >89.000000</td>\n",
       "                        <td id=\"T_7a9342f7_1ac6_11eb_828f_a0a4c554f2a3row45_col6\" class=\"data row45 col6\" >71.000000</td>\n",
       "                        <td id=\"T_7a9342f7_1ac6_11eb_828f_a0a4c554f2a3row45_col7\" class=\"data row45 col7\" >124.000000</td>\n",
       "                        <td id=\"T_7a9342f7_1ac6_11eb_828f_a0a4c554f2a3row45_col8\" class=\"data row45 col8\" >31.000000</td>\n",
       "                        <td id=\"T_7a9342f7_1ac6_11eb_828f_a0a4c554f2a3row45_col9\" class=\"data row45 col9\" >3.000000</td>\n",
       "                        <td id=\"T_7a9342f7_1ac6_11eb_828f_a0a4c554f2a3row45_col10\" class=\"data row45 col10\" >60.000000</td>\n",
       "                        <td id=\"T_7a9342f7_1ac6_11eb_828f_a0a4c554f2a3row45_col11\" class=\"data row45 col11\" >275.000000</td>\n",
       "                        <td id=\"T_7a9342f7_1ac6_11eb_828f_a0a4c554f2a3row45_col12\" class=\"data row45 col12\" >94.000000</td>\n",
       "                        <td id=\"T_7a9342f7_1ac6_11eb_828f_a0a4c554f2a3row45_col13\" class=\"data row45 col13\" >19.000000</td>\n",
       "                        <td id=\"T_7a9342f7_1ac6_11eb_828f_a0a4c554f2a3row45_col14\" class=\"data row45 col14\" >32.000000</td>\n",
       "                        <td id=\"T_7a9342f7_1ac6_11eb_828f_a0a4c554f2a3row45_col15\" class=\"data row45 col15\" >250.000000</td>\n",
       "                        <td id=\"T_7a9342f7_1ac6_11eb_828f_a0a4c554f2a3row45_col16\" class=\"data row45 col16\" >62.000000</td>\n",
       "                        <td id=\"T_7a9342f7_1ac6_11eb_828f_a0a4c554f2a3row45_col17\" class=\"data row45 col17\" >125.000000</td>\n",
       "                        <td id=\"T_7a9342f7_1ac6_11eb_828f_a0a4c554f2a3row45_col18\" class=\"data row45 col18\" >10.000000</td>\n",
       "                        <td id=\"T_7a9342f7_1ac6_11eb_828f_a0a4c554f2a3row45_col19\" class=\"data row45 col19\" >122.000000</td>\n",
       "                        <td id=\"T_7a9342f7_1ac6_11eb_828f_a0a4c554f2a3row45_col20\" class=\"data row45 col20\" >4.000000</td>\n",
       "                        <td id=\"T_7a9342f7_1ac6_11eb_828f_a0a4c554f2a3row45_col21\" class=\"data row45 col21\" >257.000000</td>\n",
       "                        <td id=\"T_7a9342f7_1ac6_11eb_828f_a0a4c554f2a3row45_col22\" class=\"data row45 col22\" >253.000000</td>\n",
       "                        <td id=\"T_7a9342f7_1ac6_11eb_828f_a0a4c554f2a3row45_col23\" class=\"data row45 col23\" >437.000000</td>\n",
       "                        <td id=\"T_7a9342f7_1ac6_11eb_828f_a0a4c554f2a3row45_col24\" class=\"data row45 col24\" >380.000000</td>\n",
       "                        <td id=\"T_7a9342f7_1ac6_11eb_828f_a0a4c554f2a3row45_col25\" class=\"data row45 col25\" >416.000000</td>\n",
       "                        <td id=\"T_7a9342f7_1ac6_11eb_828f_a0a4c554f2a3row45_col26\" class=\"data row45 col26\" >250.000000</td>\n",
       "                        <td id=\"T_7a9342f7_1ac6_11eb_828f_a0a4c554f2a3row45_col27\" class=\"data row45 col27\" >92.000000</td>\n",
       "                        <td id=\"T_7a9342f7_1ac6_11eb_828f_a0a4c554f2a3row45_col28\" class=\"data row45 col28\" >17.000000</td>\n",
       "                        <td id=\"T_7a9342f7_1ac6_11eb_828f_a0a4c554f2a3row45_col29\" class=\"data row45 col29\" >121.000000</td>\n",
       "            </tr>\n",
       "            <tr>\n",
       "                        <th id=\"T_7a9342f7_1ac6_11eb_828f_a0a4c554f2a3level0_row46\" class=\"row_heading level0 row46\" >havde</th>\n",
       "                        <td id=\"T_7a9342f7_1ac6_11eb_828f_a0a4c554f2a3row46_col0\" class=\"data row46 col0\" >0.000000</td>\n",
       "                        <td id=\"T_7a9342f7_1ac6_11eb_828f_a0a4c554f2a3row46_col1\" class=\"data row46 col1\" >149.000000</td>\n",
       "                        <td id=\"T_7a9342f7_1ac6_11eb_828f_a0a4c554f2a3row46_col2\" class=\"data row46 col2\" >142.000000</td>\n",
       "                        <td id=\"T_7a9342f7_1ac6_11eb_828f_a0a4c554f2a3row46_col3\" class=\"data row46 col3\" >1.000000</td>\n",
       "                        <td id=\"T_7a9342f7_1ac6_11eb_828f_a0a4c554f2a3row46_col4\" class=\"data row46 col4\" >36.000000</td>\n",
       "                        <td id=\"T_7a9342f7_1ac6_11eb_828f_a0a4c554f2a3row46_col5\" class=\"data row46 col5\" >20.000000</td>\n",
       "                        <td id=\"T_7a9342f7_1ac6_11eb_828f_a0a4c554f2a3row46_col6\" class=\"data row46 col6\" >121.000000</td>\n",
       "                        <td id=\"T_7a9342f7_1ac6_11eb_828f_a0a4c554f2a3row46_col7\" class=\"data row46 col7\" >0.000000</td>\n",
       "                        <td id=\"T_7a9342f7_1ac6_11eb_828f_a0a4c554f2a3row46_col8\" class=\"data row46 col8\" >33.000000</td>\n",
       "                        <td id=\"T_7a9342f7_1ac6_11eb_828f_a0a4c554f2a3row46_col9\" class=\"data row46 col9\" >3.000000</td>\n",
       "                        <td id=\"T_7a9342f7_1ac6_11eb_828f_a0a4c554f2a3row46_col10\" class=\"data row46 col10\" >45.000000</td>\n",
       "                        <td id=\"T_7a9342f7_1ac6_11eb_828f_a0a4c554f2a3row46_col11\" class=\"data row46 col11\" >92.000000</td>\n",
       "                        <td id=\"T_7a9342f7_1ac6_11eb_828f_a0a4c554f2a3row46_col12\" class=\"data row46 col12\" >50.000000</td>\n",
       "                        <td id=\"T_7a9342f7_1ac6_11eb_828f_a0a4c554f2a3row46_col13\" class=\"data row46 col13\" >5.000000</td>\n",
       "                        <td id=\"T_7a9342f7_1ac6_11eb_828f_a0a4c554f2a3row46_col14\" class=\"data row46 col14\" >30.000000</td>\n",
       "                        <td id=\"T_7a9342f7_1ac6_11eb_828f_a0a4c554f2a3row46_col15\" class=\"data row46 col15\" >128.000000</td>\n",
       "                        <td id=\"T_7a9342f7_1ac6_11eb_828f_a0a4c554f2a3row46_col16\" class=\"data row46 col16\" >71.000000</td>\n",
       "                        <td id=\"T_7a9342f7_1ac6_11eb_828f_a0a4c554f2a3row46_col17\" class=\"data row46 col17\" >95.000000</td>\n",
       "                        <td id=\"T_7a9342f7_1ac6_11eb_828f_a0a4c554f2a3row46_col18\" class=\"data row46 col18\" >52.000000</td>\n",
       "                        <td id=\"T_7a9342f7_1ac6_11eb_828f_a0a4c554f2a3row46_col19\" class=\"data row46 col19\" >288.000000</td>\n",
       "                        <td id=\"T_7a9342f7_1ac6_11eb_828f_a0a4c554f2a3row46_col20\" class=\"data row46 col20\" >22.000000</td>\n",
       "                        <td id=\"T_7a9342f7_1ac6_11eb_828f_a0a4c554f2a3row46_col21\" class=\"data row46 col21\" >413.000000</td>\n",
       "                        <td id=\"T_7a9342f7_1ac6_11eb_828f_a0a4c554f2a3row46_col22\" class=\"data row46 col22\" >375.000000</td>\n",
       "                        <td id=\"T_7a9342f7_1ac6_11eb_828f_a0a4c554f2a3row46_col23\" class=\"data row46 col23\" >625.000000</td>\n",
       "                        <td id=\"T_7a9342f7_1ac6_11eb_828f_a0a4c554f2a3row46_col24\" class=\"data row46 col24\" >792.000000</td>\n",
       "                        <td id=\"T_7a9342f7_1ac6_11eb_828f_a0a4c554f2a3row46_col25\" class=\"data row46 col25\" >980.000000</td>\n",
       "                        <td id=\"T_7a9342f7_1ac6_11eb_828f_a0a4c554f2a3row46_col26\" class=\"data row46 col26\" >837.000000</td>\n",
       "                        <td id=\"T_7a9342f7_1ac6_11eb_828f_a0a4c554f2a3row46_col27\" class=\"data row46 col27\" >193.000000</td>\n",
       "                        <td id=\"T_7a9342f7_1ac6_11eb_828f_a0a4c554f2a3row46_col28\" class=\"data row46 col28\" >17.000000</td>\n",
       "                        <td id=\"T_7a9342f7_1ac6_11eb_828f_a0a4c554f2a3row46_col29\" class=\"data row46 col29\" >56.000000</td>\n",
       "            </tr>\n",
       "            <tr>\n",
       "                        <th id=\"T_7a9342f7_1ac6_11eb_828f_a0a4c554f2a3level0_row47\" class=\"row_heading level0 row47\" >mere</th>\n",
       "                        <td id=\"T_7a9342f7_1ac6_11eb_828f_a0a4c554f2a3row47_col0\" class=\"data row47 col0\" >4.000000</td>\n",
       "                        <td id=\"T_7a9342f7_1ac6_11eb_828f_a0a4c554f2a3row47_col1\" class=\"data row47 col1\" >66.000000</td>\n",
       "                        <td id=\"T_7a9342f7_1ac6_11eb_828f_a0a4c554f2a3row47_col2\" class=\"data row47 col2\" >96.000000</td>\n",
       "                        <td id=\"T_7a9342f7_1ac6_11eb_828f_a0a4c554f2a3row47_col3\" class=\"data row47 col3\" >3.000000</td>\n",
       "                        <td id=\"T_7a9342f7_1ac6_11eb_828f_a0a4c554f2a3row47_col4\" class=\"data row47 col4\" >12.000000</td>\n",
       "                        <td id=\"T_7a9342f7_1ac6_11eb_828f_a0a4c554f2a3row47_col5\" class=\"data row47 col5\" >26.000000</td>\n",
       "                        <td id=\"T_7a9342f7_1ac6_11eb_828f_a0a4c554f2a3row47_col6\" class=\"data row47 col6\" >23.000000</td>\n",
       "                        <td id=\"T_7a9342f7_1ac6_11eb_828f_a0a4c554f2a3row47_col7\" class=\"data row47 col7\" >0.000000</td>\n",
       "                        <td id=\"T_7a9342f7_1ac6_11eb_828f_a0a4c554f2a3row47_col8\" class=\"data row47 col8\" >0.000000</td>\n",
       "                        <td id=\"T_7a9342f7_1ac6_11eb_828f_a0a4c554f2a3row47_col9\" class=\"data row47 col9\" >0.000000</td>\n",
       "                        <td id=\"T_7a9342f7_1ac6_11eb_828f_a0a4c554f2a3row47_col10\" class=\"data row47 col10\" >19.000000</td>\n",
       "                        <td id=\"T_7a9342f7_1ac6_11eb_828f_a0a4c554f2a3row47_col11\" class=\"data row47 col11\" >75.000000</td>\n",
       "                        <td id=\"T_7a9342f7_1ac6_11eb_828f_a0a4c554f2a3row47_col12\" class=\"data row47 col12\" >23.000000</td>\n",
       "                        <td id=\"T_7a9342f7_1ac6_11eb_828f_a0a4c554f2a3row47_col13\" class=\"data row47 col13\" >2.000000</td>\n",
       "                        <td id=\"T_7a9342f7_1ac6_11eb_828f_a0a4c554f2a3row47_col14\" class=\"data row47 col14\" >10.000000</td>\n",
       "                        <td id=\"T_7a9342f7_1ac6_11eb_828f_a0a4c554f2a3row47_col15\" class=\"data row47 col15\" >23.000000</td>\n",
       "                        <td id=\"T_7a9342f7_1ac6_11eb_828f_a0a4c554f2a3row47_col16\" class=\"data row47 col16\" >6.000000</td>\n",
       "                        <td id=\"T_7a9342f7_1ac6_11eb_828f_a0a4c554f2a3row47_col17\" class=\"data row47 col17\" >12.000000</td>\n",
       "                        <td id=\"T_7a9342f7_1ac6_11eb_828f_a0a4c554f2a3row47_col18\" class=\"data row47 col18\" >18.000000</td>\n",
       "                        <td id=\"T_7a9342f7_1ac6_11eb_828f_a0a4c554f2a3row47_col19\" class=\"data row47 col19\" >114.000000</td>\n",
       "                        <td id=\"T_7a9342f7_1ac6_11eb_828f_a0a4c554f2a3row47_col20\" class=\"data row47 col20\" >12.000000</td>\n",
       "                        <td id=\"T_7a9342f7_1ac6_11eb_828f_a0a4c554f2a3row47_col21\" class=\"data row47 col21\" >157.000000</td>\n",
       "                        <td id=\"T_7a9342f7_1ac6_11eb_828f_a0a4c554f2a3row47_col22\" class=\"data row47 col22\" >159.000000</td>\n",
       "                        <td id=\"T_7a9342f7_1ac6_11eb_828f_a0a4c554f2a3row47_col23\" class=\"data row47 col23\" >225.000000</td>\n",
       "                        <td id=\"T_7a9342f7_1ac6_11eb_828f_a0a4c554f2a3row47_col24\" class=\"data row47 col24\" >190.000000</td>\n",
       "                        <td id=\"T_7a9342f7_1ac6_11eb_828f_a0a4c554f2a3row47_col25\" class=\"data row47 col25\" >261.000000</td>\n",
       "                        <td id=\"T_7a9342f7_1ac6_11eb_828f_a0a4c554f2a3row47_col26\" class=\"data row47 col26\" >209.000000</td>\n",
       "                        <td id=\"T_7a9342f7_1ac6_11eb_828f_a0a4c554f2a3row47_col27\" class=\"data row47 col27\" >89.000000</td>\n",
       "                        <td id=\"T_7a9342f7_1ac6_11eb_828f_a0a4c554f2a3row47_col28\" class=\"data row47 col28\" >16.000000</td>\n",
       "                        <td id=\"T_7a9342f7_1ac6_11eb_828f_a0a4c554f2a3row47_col29\" class=\"data row47 col29\" >18.000000</td>\n",
       "            </tr>\n",
       "            <tr>\n",
       "                        <th id=\"T_7a9342f7_1ac6_11eb_828f_a0a4c554f2a3level0_row48\" class=\"row_heading level0 row48\" >«</th>\n",
       "                        <td id=\"T_7a9342f7_1ac6_11eb_828f_a0a4c554f2a3row48_col0\" class=\"data row48 col0\" >96.000000</td>\n",
       "                        <td id=\"T_7a9342f7_1ac6_11eb_828f_a0a4c554f2a3row48_col1\" class=\"data row48 col1\" >78.000000</td>\n",
       "                        <td id=\"T_7a9342f7_1ac6_11eb_828f_a0a4c554f2a3row48_col2\" class=\"data row48 col2\" >78.000000</td>\n",
       "                        <td id=\"T_7a9342f7_1ac6_11eb_828f_a0a4c554f2a3row48_col3\" class=\"data row48 col3\" >6.000000</td>\n",
       "                        <td id=\"T_7a9342f7_1ac6_11eb_828f_a0a4c554f2a3row48_col4\" class=\"data row48 col4\" >37.000000</td>\n",
       "                        <td id=\"T_7a9342f7_1ac6_11eb_828f_a0a4c554f2a3row48_col5\" class=\"data row48 col5\" >90.000000</td>\n",
       "                        <td id=\"T_7a9342f7_1ac6_11eb_828f_a0a4c554f2a3row48_col6\" class=\"data row48 col6\" >72.000000</td>\n",
       "                        <td id=\"T_7a9342f7_1ac6_11eb_828f_a0a4c554f2a3row48_col7\" class=\"data row48 col7\" >121.000000</td>\n",
       "                        <td id=\"T_7a9342f7_1ac6_11eb_828f_a0a4c554f2a3row48_col8\" class=\"data row48 col8\" >31.000000</td>\n",
       "                        <td id=\"T_7a9342f7_1ac6_11eb_828f_a0a4c554f2a3row48_col9\" class=\"data row48 col9\" >7.000000</td>\n",
       "                        <td id=\"T_7a9342f7_1ac6_11eb_828f_a0a4c554f2a3row48_col10\" class=\"data row48 col10\" >61.000000</td>\n",
       "                        <td id=\"T_7a9342f7_1ac6_11eb_828f_a0a4c554f2a3row48_col11\" class=\"data row48 col11\" >280.000000</td>\n",
       "                        <td id=\"T_7a9342f7_1ac6_11eb_828f_a0a4c554f2a3row48_col12\" class=\"data row48 col12\" >93.000000</td>\n",
       "                        <td id=\"T_7a9342f7_1ac6_11eb_828f_a0a4c554f2a3row48_col13\" class=\"data row48 col13\" >18.000000</td>\n",
       "                        <td id=\"T_7a9342f7_1ac6_11eb_828f_a0a4c554f2a3row48_col14\" class=\"data row48 col14\" >33.000000</td>\n",
       "                        <td id=\"T_7a9342f7_1ac6_11eb_828f_a0a4c554f2a3row48_col15\" class=\"data row48 col15\" >252.000000</td>\n",
       "                        <td id=\"T_7a9342f7_1ac6_11eb_828f_a0a4c554f2a3row48_col16\" class=\"data row48 col16\" >62.000000</td>\n",
       "                        <td id=\"T_7a9342f7_1ac6_11eb_828f_a0a4c554f2a3row48_col17\" class=\"data row48 col17\" >125.000000</td>\n",
       "                        <td id=\"T_7a9342f7_1ac6_11eb_828f_a0a4c554f2a3row48_col18\" class=\"data row48 col18\" >11.000000</td>\n",
       "                        <td id=\"T_7a9342f7_1ac6_11eb_828f_a0a4c554f2a3row48_col19\" class=\"data row48 col19\" >128.000000</td>\n",
       "                        <td id=\"T_7a9342f7_1ac6_11eb_828f_a0a4c554f2a3row48_col20\" class=\"data row48 col20\" >4.000000</td>\n",
       "                        <td id=\"T_7a9342f7_1ac6_11eb_828f_a0a4c554f2a3row48_col21\" class=\"data row48 col21\" >265.000000</td>\n",
       "                        <td id=\"T_7a9342f7_1ac6_11eb_828f_a0a4c554f2a3row48_col22\" class=\"data row48 col22\" >260.000000</td>\n",
       "                        <td id=\"T_7a9342f7_1ac6_11eb_828f_a0a4c554f2a3row48_col23\" class=\"data row48 col23\" >446.000000</td>\n",
       "                        <td id=\"T_7a9342f7_1ac6_11eb_828f_a0a4c554f2a3row48_col24\" class=\"data row48 col24\" >386.000000</td>\n",
       "                        <td id=\"T_7a9342f7_1ac6_11eb_828f_a0a4c554f2a3row48_col25\" class=\"data row48 col25\" >423.000000</td>\n",
       "                        <td id=\"T_7a9342f7_1ac6_11eb_828f_a0a4c554f2a3row48_col26\" class=\"data row48 col26\" >254.000000</td>\n",
       "                        <td id=\"T_7a9342f7_1ac6_11eb_828f_a0a4c554f2a3row48_col27\" class=\"data row48 col27\" >94.000000</td>\n",
       "                        <td id=\"T_7a9342f7_1ac6_11eb_828f_a0a4c554f2a3row48_col28\" class=\"data row48 col28\" >15.000000</td>\n",
       "                        <td id=\"T_7a9342f7_1ac6_11eb_828f_a0a4c554f2a3row48_col29\" class=\"data row48 col29\" >116.000000</td>\n",
       "            </tr>\n",
       "            <tr>\n",
       "                        <th id=\"T_7a9342f7_1ac6_11eb_828f_a0a4c554f2a3level0_row49\" class=\"row_heading level0 row49\" >vil</th>\n",
       "                        <td id=\"T_7a9342f7_1ac6_11eb_828f_a0a4c554f2a3row49_col0\" class=\"data row49 col0\" >2.000000</td>\n",
       "                        <td id=\"T_7a9342f7_1ac6_11eb_828f_a0a4c554f2a3row49_col1\" class=\"data row49 col1\" >93.000000</td>\n",
       "                        <td id=\"T_7a9342f7_1ac6_11eb_828f_a0a4c554f2a3row49_col2\" class=\"data row49 col2\" >326.000000</td>\n",
       "                        <td id=\"T_7a9342f7_1ac6_11eb_828f_a0a4c554f2a3row49_col3\" class=\"data row49 col3\" >13.000000</td>\n",
       "                        <td id=\"T_7a9342f7_1ac6_11eb_828f_a0a4c554f2a3row49_col4\" class=\"data row49 col4\" >45.000000</td>\n",
       "                        <td id=\"T_7a9342f7_1ac6_11eb_828f_a0a4c554f2a3row49_col5\" class=\"data row49 col5\" >55.000000</td>\n",
       "                        <td id=\"T_7a9342f7_1ac6_11eb_828f_a0a4c554f2a3row49_col6\" class=\"data row49 col6\" >20.000000</td>\n",
       "                        <td id=\"T_7a9342f7_1ac6_11eb_828f_a0a4c554f2a3row49_col7\" class=\"data row49 col7\" >14.000000</td>\n",
       "                        <td id=\"T_7a9342f7_1ac6_11eb_828f_a0a4c554f2a3row49_col8\" class=\"data row49 col8\" >6.000000</td>\n",
       "                        <td id=\"T_7a9342f7_1ac6_11eb_828f_a0a4c554f2a3row49_col9\" class=\"data row49 col9\" >2.000000</td>\n",
       "                        <td id=\"T_7a9342f7_1ac6_11eb_828f_a0a4c554f2a3row49_col10\" class=\"data row49 col10\" >25.000000</td>\n",
       "                        <td id=\"T_7a9342f7_1ac6_11eb_828f_a0a4c554f2a3row49_col11\" class=\"data row49 col11\" >48.000000</td>\n",
       "                        <td id=\"T_7a9342f7_1ac6_11eb_828f_a0a4c554f2a3row49_col12\" class=\"data row49 col12\" >26.000000</td>\n",
       "                        <td id=\"T_7a9342f7_1ac6_11eb_828f_a0a4c554f2a3row49_col13\" class=\"data row49 col13\" >5.000000</td>\n",
       "                        <td id=\"T_7a9342f7_1ac6_11eb_828f_a0a4c554f2a3row49_col14\" class=\"data row49 col14\" >41.000000</td>\n",
       "                        <td id=\"T_7a9342f7_1ac6_11eb_828f_a0a4c554f2a3row49_col15\" class=\"data row49 col15\" >127.000000</td>\n",
       "                        <td id=\"T_7a9342f7_1ac6_11eb_828f_a0a4c554f2a3row49_col16\" class=\"data row49 col16\" >37.000000</td>\n",
       "                        <td id=\"T_7a9342f7_1ac6_11eb_828f_a0a4c554f2a3row49_col17\" class=\"data row49 col17\" >95.000000</td>\n",
       "                        <td id=\"T_7a9342f7_1ac6_11eb_828f_a0a4c554f2a3row49_col18\" class=\"data row49 col18\" >9.000000</td>\n",
       "                        <td id=\"T_7a9342f7_1ac6_11eb_828f_a0a4c554f2a3row49_col19\" class=\"data row49 col19\" >123.000000</td>\n",
       "                        <td id=\"T_7a9342f7_1ac6_11eb_828f_a0a4c554f2a3row49_col20\" class=\"data row49 col20\" >9.000000</td>\n",
       "                        <td id=\"T_7a9342f7_1ac6_11eb_828f_a0a4c554f2a3row49_col21\" class=\"data row49 col21\" >196.000000</td>\n",
       "                        <td id=\"T_7a9342f7_1ac6_11eb_828f_a0a4c554f2a3row49_col22\" class=\"data row49 col22\" >200.000000</td>\n",
       "                        <td id=\"T_7a9342f7_1ac6_11eb_828f_a0a4c554f2a3row49_col23\" class=\"data row49 col23\" >289.000000</td>\n",
       "                        <td id=\"T_7a9342f7_1ac6_11eb_828f_a0a4c554f2a3row49_col24\" class=\"data row49 col24\" >266.000000</td>\n",
       "                        <td id=\"T_7a9342f7_1ac6_11eb_828f_a0a4c554f2a3row49_col25\" class=\"data row49 col25\" >362.000000</td>\n",
       "                        <td id=\"T_7a9342f7_1ac6_11eb_828f_a0a4c554f2a3row49_col26\" class=\"data row49 col26\" >274.000000</td>\n",
       "                        <td id=\"T_7a9342f7_1ac6_11eb_828f_a0a4c554f2a3row49_col27\" class=\"data row49 col27\" >97.000000</td>\n",
       "                        <td id=\"T_7a9342f7_1ac6_11eb_828f_a0a4c554f2a3row49_col28\" class=\"data row49 col28\" >14.000000</td>\n",
       "                        <td id=\"T_7a9342f7_1ac6_11eb_828f_a0a4c554f2a3row49_col29\" class=\"data row49 col29\" >7.000000</td>\n",
       "            </tr>\n",
       "    </tbody></table>"
      ],
      "text/plain": [
       "<pandas.io.formats.style.Styler at 0x277d84f26a0>"
      ]
     },
     "execution_count": 5,
     "metadata": {},
     "output_type": "execute_result"
    }
   ],
   "source": [
    "nb.frame_sort(kilder_dtm, 'NBkilder_Koren_1815.xml').head(50).style.background_gradient()"
   ]
  },
  {
   "cell_type": "markdown",
   "metadata": {},
   "source": [
    "# Kollokasjoner"
   ]
  },
  {
   "cell_type": "code",
   "execution_count": 6,
   "metadata": {},
   "outputs": [
    {
     "data": {
      "text/plain": [
       "[('hennes', 37),\n",
       " (',', 28),\n",
       " ('og', 21),\n",
       " ('.', 15),\n",
       " ('en', 10),\n",
       " ('i', 9),\n",
       " ('på', 7),\n",
       " ('Peter', 6),\n",
       " ('(', 5),\n",
       " (')', 5),\n",
       " ('jeg', 5),\n",
       " ('som', 5),\n",
       " ('var', 5),\n",
       " ('å', 5),\n",
       " ('til', 5),\n",
       " ('søster', 4),\n",
       " ('–', 4),\n",
       " (';', 4),\n",
       " ('to', 4),\n",
       " ('om', 4),\n",
       " ('kvinne', 4),\n",
       " ('med', 4),\n",
       " ('Braae', 3),\n",
       " ('»', 3),\n",
       " ('brev', 3),\n",
       " ('fra', 3),\n",
       " ('datter', 3),\n",
       " ('Jonas', 3),\n",
       " ('Colletts', 3),\n",
       " ('mann', 3),\n",
       " ('Severin', 3),\n",
       " ('Paulsen', 3),\n",
       " ('Steenstrup', 3),\n",
       " ('for', 3),\n",
       " ('av', 3),\n",
       " ('er', 3),\n",
       " ('store', 3),\n",
       " ('hadde', 3),\n",
       " ('ung', 3),\n",
       " ('det', 3),\n",
       " ('de', 3),\n",
       " ('så', 3),\n",
       " ('Mad', 2),\n",
       " ('familien', 2),\n",
       " ('1839', 2),\n",
       " ('1840', 2),\n",
       " ('ankom', 2),\n",
       " ('få', 2),\n",
       " ('hun', 2),\n",
       " ('mens', 2),\n",
       " ('ut', 2),\n",
       " ('ble', 2),\n",
       " ('sto', 2),\n",
       " ('også', 2),\n",
       " ('Da', 2),\n",
       " ('fruen', 2),\n",
       " ('Den', 2),\n",
       " ('fru', 2),\n",
       " ('vakre', 2),\n",
       " ('kors', 2),\n",
       " ('etter', 2),\n",
       " ('datoen', 2),\n",
       " ('døde', 2),\n",
       " ('født', 1),\n",
       " ('1788', 1),\n",
       " ('Christiane', 1),\n",
       " ('Jane', 1),\n",
       " ('1779', 1),\n",
       " ('1853', 1),\n",
       " ('ugifte', 1),\n",
       " ('Juliane', 1),\n",
       " ('Augusta', 1),\n",
       " ('Bolette', 1),\n",
       " ('Sibbern', 1),\n",
       " ('erfare', 1),\n",
       " ('forlot', 1),\n",
       " ('bolig', 1),\n",
       " ('tidspunkter', 1),\n",
       " ('frukten', 1),\n",
       " ('kjærlighetsaffære', 1),\n",
       " ('Ektemannen', 1),\n",
       " ('gammel', 1),\n",
       " ('skravlekopp', 1),\n",
       " ('skade', 1),\n",
       " ('tjenestepiken', 1),\n",
       " ('gå', 1),\n",
       " ('hodet', 1),\n",
       " ('maistang', 1),\n",
       " ('beskjeftigelse', 1),\n",
       " ('kronprinsessen', 1),\n",
       " ('hoffdamer', 1),\n",
       " ('brukte', 1),\n",
       " ('timer', 1),\n",
       " ('der', 1),\n",
       " ('skulle', 1),\n",
       " ('oppholde', 1),\n",
       " ('seg', 1),\n",
       " ('gemal', 1),\n",
       " ('foretok', 1),\n",
       " ('sin', 1),\n",
       " ('norgesreise', 1),\n",
       " ('former', 1),\n",
       " ('tandre', 1),\n",
       " ('men', 1),\n",
       " ('faste', 1),\n",
       " ('plass', 1),\n",
       " ('smøg', 1),\n",
       " ('armen', 1),\n",
       " ('rundt', 1),\n",
       " ('skuldre', 1),\n",
       " ('eller', 1),\n",
       " ('Dahll', 1),\n",
       " ('klemte', 1),\n",
       " ('selskap', 1),\n",
       " ('tegnet', 1),\n",
       " ('Til', 1),\n",
       " ('glede', 1),\n",
       " ('tok', 1),\n",
       " ('skisse', 1),\n",
       " ('Jeg', 1),\n",
       " ('spurte', 1),\n",
       " ('henne', 1),\n",
       " ('beskjeftigelser', 1),\n",
       " ('hva', 1),\n",
       " ('likte', 1),\n",
       " ('egnen', 1),\n",
       " ('anholdt', 1),\n",
       " ('hånd', 1),\n",
       " ('Etter', 1),\n",
       " ('selv', 1),\n",
       " ('reist', 1),\n",
       " ('seks', 1),\n",
       " ('barn', 1),\n",
       " ('presentert', 1),\n",
       " ('kronprinsen', 1),\n",
       " ('formidabel', 1),\n",
       " ('parykk', 1),\n",
       " ('suksessive', 1),\n",
       " ('ektemenn', 1),\n",
       " ('måltidet', 1),\n",
       " ('mor', 1),\n",
       " ('førstnevnte', 1),\n",
       " ('nokså', 1),\n",
       " ('smukk', 1),\n",
       " ('lå', 1),\n",
       " ('spedbarnet', 1),\n",
       " ('sengs', 1),\n",
       " ('Vi', 1),\n",
       " ('svært', 1),\n",
       " ('lukket', 1),\n",
       " ('skoddene', 1),\n",
       " ('ektemannen', 1),\n",
       " ('ser', 1),\n",
       " ('stengte', 1),\n",
       " ('vinduslemmene', 1),\n",
       " ('vei', 1),\n",
       " ('høy', 1),\n",
       " ('stjerne', 1),\n",
       " ('hos', 1),\n",
       " ('små', 1),\n",
       " ('moret', 1),\n",
       " ('dagen', 1),\n",
       " ('Georges', 1),\n",
       " ('vært', 1),\n",
       " ('uheldig', 1),\n",
       " ('skrape', 1),\n",
       " ('beskrivelse', 1),\n",
       " ('strenge', 1),\n",
       " ('vintrene', 1),\n",
       " ('skar', 1),\n",
       " ('far', 1),\n",
       " ('herr', 1),\n",
       " ('Mørk', 1),\n",
       " ('portrettene', 1),\n",
       " ('Magda', 1),\n",
       " ('sønner', 1),\n",
       " ('ga', 1),\n",
       " ('vandring', 1),\n",
       " ('langs', 1),\n",
       " ('alleene', 1),\n",
       " ('hagen', 1),\n",
       " ('Hun', 1),\n",
       " ('kjente', 1),\n",
       " ('dem', 1),\n",
       " ('nesten', 1),\n",
       " ('ikke', 1),\n",
       " ('livlig', 1),\n",
       " ('vittig', 1),\n",
       " ('frøken', 1),\n",
       " ('Trampe', 1),\n",
       " ('hilse', 1),\n",
       " ('mannen', 1),\n",
       " ('embetsmann', 1),\n",
       " ('alvorlig', 1),\n",
       " ('mine', 1),\n",
       " ('sorte', 1),\n",
       " ('sørgmodige', 1),\n",
       " ('øynene', 1),\n",
       " ('sterk', 1),\n",
       " ('kontrast', 1),\n",
       " ('lyse', 1),\n",
       " ('håret', 1),\n",
       " ('pyntet', 1),\n",
       " ('ekte', 1),\n",
       " ('fuksiaer', 1),\n",
       " ('ulike', 1),\n",
       " ('modeller', 1),\n",
       " ('usikkert', 1),\n",
       " ('hvordan', 1),\n",
       " ('Kilde', 1),\n",
       " (':', 1),\n",
       " ('Ingrid', 1),\n",
       " ('9.12.1808', 1),\n",
       " ('Sara', 1),\n",
       " ('Endnu', 1),\n",
       " ('3.11.1808', 1),\n",
       " ('sønn', 1),\n",
       " ('Wilhelm', 1),\n",
       " ('Neppe', 1),\n",
       " ('I', 1),\n",
       " ('Byen', 1),\n",
       " ('første', 1),\n",
       " ('Samtale', 1),\n",
       " ('min', 1),\n",
       " ('stille', 1),\n",
       " ('Maja', 1),\n",
       " ('andre', 1),\n",
       " ('fragmentene', 1),\n",
       " ('egenhendige', 1),\n",
       " ('trykkmanuskript', 1),\n",
       " ('lykkelige', 1),\n",
       " ('alder', 1),\n",
       " ('Ms.8', 1),\n",
       " ('°', 1),\n",
       " ('3615', 1),\n",
       " ('Nils', 1),\n",
       " ('Collett', 1),\n",
       " ('Vogt', 1),\n",
       " ('2.', 1)]"
      ]
     },
     "execution_count": 6,
     "metadata": {},
     "output_type": "execute_result"
    }
   ],
   "source": [
    "coll(['hennes'], kilder_korpus).most_common()"
   ]
  },
  {
   "cell_type": "markdown",
   "metadata": {},
   "source": [
    "# Se på en bestemt bok"
   ]
  },
  {
   "cell_type": "code",
   "execution_count": 7,
   "metadata": {},
   "outputs": [
    {
     "name": "stdout",
     "output_type": "stream",
     "text": [
      "4. september 1867\n",
      "Kjere Bjørnson .\n",
      "Da jeg hørte De var i Kjøbenhavn , kom det mig som et Vink fra Oven , at henvende mig til Dem .\n",
      "Kan De ikke redde mig af min Nød ? . . den dobbelte , at se sit aandelige Arbeide spildt og se sig skuffet for den jordiske materielle Løn derfor , hvilken Sidste vi saa gjerne ville ignorere om vi kunde , vilde overse som noget Ringe , indtil vi en vakker Dag mærke at vor hele Existenz afhænger af den , og at vi bedre kunne undvære Æren , end et Par fattige lumpne hundrede Daler .\n",
      "For at sætte Dem korteligt ind i dette , vil jeg sige Dem , at siden min Søn EmilsEmil Collett ( 1848 – 1904 ) Anbringelse paa fremmet Sted , samtidig med uopfyldte Forpligtelser fra Andres Side ( TønsbergHenning B. Tønsberg ( 1837 – 81 ) samme Høst 120 Spd ) jeg har jeg maattet lære hvad Nød og Forlegenhed , lammet Livsmod og Virksomhed vil sige . Det var blot i gamle Dage at Digterne kunde leve af Maaneskin og Skovluft men de have taget Recepten til denne Kunst med i Graven , thi vist er det at vi ikke kjende den .\n",
      "Med stor Anstrengelse har jeg midt under denne Lammelse , knuget af den haarde Vinter , forberedt min lille Bogmin lille Bog ] « Sidste Blade . Erindinger og Bekjendelser » ( 1868 ) til Trykken . Den vil indeholde Skildringer og Digte . Ligeledes har jeg , hvad vigtigere er , forberedende ordnet min Mands skriftlige Efterladenskaber der vil blive en langt større , vægtigere Bog end min , begge i Haab om at erholde Midler til at løse mig ud herfra , for at kunne søge en lille Havn blandt Fremmede under Vilkaar , der vare mindre haarde og kuende end dem i Hjemmet , hvor nu paa en Maade min hele huslige Existenz er oprykket siden min sidste Søn drog ud – – – ( mindre fjern mig dog , end de Andre der have fæstet sig til rige Slægtninge ! )\n",
      "Tiden gaar , snart bliver det for sent . Siden jeg kom hjem fra en 3 Ugers Ferie paa Jarlsberg har jeg neppe et Fodfæste her , da mit Logi , allerede tidlig opsagt , blev snappet bort af en anden Leier og mit Bohave bortflyttet . De kjere Bjørnson , maa hjelpe mig . Dem maatte det lykkes at skaffe mig en Forlægger i Kjøbenh . til begge disse Bøger , og paa Betingelser der snarlig kunde bringe mig Hjelpen .\n",
      "Der er vistnok allerede gjort Forsøg derpaa , men ikke med saadan Vægt , d v s . understøttet af saadanne Garantier , at man kunde opnaa andet end ubestemte Svar . En anden Magt vilde den mundtlige Underhandling kunne have , helst naar den pleiedes af en Mand som Bjørnson der har stor Indflydelse dernede .\n",
      "For eget Vedkommende kan jeg , hvis kun henvise til mine tidligere trykte Arbeider , og den Modtagelse de have faaet . Den har altid været omtrent den samme ; det sidste bedømtes maaske mest velvilligt . Jeg har kun en Maade at arbeide paa : bestræbe mig for i færreste Ord at sige saameget som muligt . Det er en temmelig ufordelagtig Maade , og jeg har i Grunden ikke Raad til den . De bedre Læsere ville dog vurdere den og vide En Tak for at man sparer deres Tid , saa at de i 3 – 4 Ark kunne faa det samme Kvantum Indhold som en svensk eller tydsk Vielschreiberinne magelig kunde udtvære i 20 . Men De har selv bedste Bjørnson , gjort Dem bekjendt med en Prøve af min Bog , som De maaske ikke finder uværdig til at grunde en Anbefalingpaa , ( der i Deres Mund vil have særdeles Vægt ) – hvis en saadan yderligere Garanti skulde forlanges .\n",
      "« Jonas Colletts efterladte Skrifter » ville fornemmelig komme til at bestaa af Breve fra Udlandet : Paris München , Venedig , Rom , Kjøbenh . – Christiania – foruden nogle forhen trykte , dels æsthetiske , dels kritiske Opsatser – endvidere endel Digte . Af disse Breve eier jeg omtrent 300 . Efter mine Tanker kunde de Alle , lige til det mindste Blad fortjene at offentliggjøres . Men mangehaande Hensyn forbyder naturligvis dette , og sætter store Indskrænkninger . De have alle en stor Formskjønhed og en egen Ynde i Stilen , og udtale hans Tids Raisonnements over sin Tids Tilstande og Begivenheder paa en overlegen men meget temmelig skarp Maade , altimedens dog hans varmeste , dybeste Følelsesliv ogsaa bryder frem . Hartvig LassenHartvig Lassen ( 1824 – 97 ) var meget indtaget i de Prøver jeg lod ham se , og det vilde være mig en let Sag at faa hans varme Anbefaling , ligesom jeg er vis paa , at Colletts endnu levende danske Venner , hvoriblandt Folk som WintherChristian Winther ( 1796 – 1876 ) , Paludan MøllerFrederik Paludan-Müller ( 1809 – 76 ) , HauchJohannes Carsten Hauch ( 1790 – 1872 ) , PlougCarl Parmo Ploug ( 1813 – 94 ) , GjødvadJens Finsteen Giødwad ( 1811 – 91 ) , KriegerAndreas Frederik Krieger ( 1817 – 93 ) , Fru HeibergJohanne Luise Heiberg ( 1812 – 90 ) , om jeg henvendte mig til DemDem ] trolig feil for dem , gjerne med sin Stemme vilde understøtte dette Foretagende . Jeg vedlægger et lille Digt som jeg tænkte maaske kunde udfylde en Fortales Plads . Sig mig om De tror det gaar an . Det er min inderlige , af alle partiske Hensyn uafhængige Overbevisning at Colletts Bog vil gjøre Lykke .\n",
      "Bedste Bjørnson ! Skaf mig en Forlægger til disse stakkels , ellers Forglemmelsen og Tilintetgjørelsen hjemfaldne Manuscripter . Paa en Maade staar og falder jeg selv med DemDem ] trolig feil for dem . Faar jeg dem ikke snarest muligt solgt til mod et anstændigt Honorar , saa er jeg ogsaa « solgt » og man kan kaste mig i Ovnen med dem .\n",
      "Med et anstændigt Honorar mener jeg 15 Spd Arket . Er det ubeskedent ? Det er det mindste der nogensinde blev budt mig og betalt for mine Bøger , ( I de l . N. ) I de l . N. ] I de lange Nætter ( 1863 ) af Cappelen , fordi det var neppe 14 Dage før Jul , altsaa i seneste Lag . Det er tror jeg , ogsaa detdet ] trolig feil for den almindelige Norm nede i Danmark . Under denne Pris , 15 Spd Arket , i samme Format som mine tidligere her udkomne Bøger , nemlig paa 26 Linier Spalten lønner det sig ikke for mig at skrive , da jeg som sagt anvender denne minutiøse Omhyggelighed paa Formen , og som ikke har lært den Kunst at være vidtløftig .\n",
      "Den unge Tønsberg har plaget mig meget for at faa et Bidrag til hans Boghans Bog ] antologien Ved Løvfaldstid ( 1867 ) . Jeg blev tilsidst nødt til at tage et Stykke ud af mit eget Manuscript , med den lovende Udsigt maaske Intet at faa derfor . Jeg valgte « Billeder fra Christiania i 5 Breve » hvori meget om Theatret fordi disse taale mindst at gjemmes forlænge .\n",
      "Deres StykkeDeres Stykke ] trolig De Nygifte ( 1865 ) , har som jeg hører gjort stor Lykke , hvortil jeg hjertelig lykønsker Dem . Vi Norske trænge til Alt hvad Fremmede kunne yde os . Vi maa varmes ved fremmede Barme skulle vi kunne friste Livet .\n",
      "Venligst Hilsen til Deres KoneKaroline Bjørnson ( 1835 – 1934 ) . Hvorledes hun befinder sig ( ? ! ) Hvad Planer der ere fattede for Vinteren ( Italien ? Kjøbenhavn ? ) ja dette vilde interessere mig at vide , og et Par Ord derom , naar De , som jeg haaber lader høre fra Dem , vilde glæde\n",
      "Deres forbundne Camilla C.\n",
      "Jeg venter kun et Vink dernede fra . Hvis jeg faar et saadant antageligt Tilbud , tager jeg snarest muligt ned til Kjøbenhavn for selv at lede Trykningen og corrigere , om ønskes . Derfra drager jeg da syd paa . Jeg kan kun afhænde Manuscripterne mod contant Honorar . Jeg kan det ikke anderledes . Gud være med dem !\n",
      "27. september 1867\n",
      "Kjære Bjørnstjerne Bjørnson !\n",
      "De takker mig for den Tillid jeg viser Dem , ja , i detsamme blev jeg mig bevidst at jeg havde den , at jeg kunde havt Mistillid , netop her . Det kommer ikke af at Andre ikke tilstrækkelig har ægget denne ved Forestillinger og Fremstillinger som det vil være ganske overflødigt at gjentage for Dem , men det kommer af at jeg selv er næsten stupid uimodtagelig for det man kalder PartilidenskabPartilidenskab ] rettet fra Partilidenskaber ved overskriving har ondt for at forudsætte den for Andre . Jeg har i det hele ondt for Mistillid , og De Bjørnson vækker den ikke .\n",
      "Da Tiden var kort til megen Brevvexling , bestræbte jeg mig i forrige Brev at imødegaa saavidt som muligt Tvivl og Spørgsmaal . Jeg fortalte dog ikke at jeg allerede før har henvendt mig til HegelFrederik V. Hegel ( 1817 – 87 ) , sendte ham i Vaar engang som Prøve paa mit lille , ham tilbudte Arbeide 3 a 4 Stykker . Paa dette modtog jeg et særdeles høfligt og artigt – Afslag hvortil han angav en praktisk Grund – for sent , for tidlig ? at vove noget – Voveligt : i det Hele fik jeg Indtrykket af at det var Hr Hegels æsthetiske Formening at det jeg bød ham , var noget Jux , som sandsynligt blot vilde volde ham Tab hvis han indlod sig dermed . Hvorvidt det nu kan fordrages med den Smule Forfatterstolthet – der endnu kan være levnet En – at forfølge Sagen videre , om her kan være Misforstaaelser at løse , om man overhovedet har skal bringe nogen Stolthed med og ikke lade den være ganske hjemme ved saadanne Tilfælder , det overlader jeg til Dem at afgjøre , som jeg i det Hele tror at De vil raade mig det Bedste .\n",
      "I Anledning Deres Oplysning ang . Honorar , og at dette retter sig efter Oplagets Størrelse , da blive en Berigtigelse fra min Side maaske nødvendig . Naar jeg har nævnt et Honorar i Lighed med det flere norske Forfattere har af Hegel ( 15 Spd Arket ) saa har jeg ikke ment dermed for Oplaget , men en Gang forResten av brevet er tapt .\n",
      "[ 27. oktober 1867 ]\n",
      "Hr Bjørnstjerne Bjørnson !\n",
      "Efter et høist anstrengende Gjennemsyn af Colletts Breve , gik jeg i Gaar hen til HegelFrederik V. Hegel ( 1817 – 87 ) for at treffe Aftale med ham med Hensyn til Bøgerne , grundet paa det bestemte Tilsagn jeg har erholdt gjennem Dem – men blev meget overrasket ved igjen at blive tilbagevist . En saadan Behandling kræver en Forklaring som jeg tror mig berettiget til at forlange af Bjørnson .\n",
      "Vel har Hegel med Hensyn til Colletts Bog , givet et ubestemt Løfte , og har beholdt de Breve jeg gav ham til Prøve . Næsten mere krænkende bliver dette for mig – den eneste af de norske Forfattere der paa denne Maade er begegnetbegegnet ] behandlet ( ODS ) .\n",
      "Hvad vil jeg tale om Krænkelser ! min hele øieblikkelige Existenz afhang [ af ] at jeg strax hernede fik min lille Bog forlagt og betalt , for derved at vinde Kræfter og Midler til den langt vanskeligere Opgave der forelaa mig , at bringe Colletts Bog Manuscripter istand til Trykken . Lokket som jeg i Sandhed var ved Deres Brev kan jeg nu hverken frem eller tilbage .\n",
      "Jeg sidder her alene , langt fra MineMine ] rettet fra mine ved overskriving , fuldstændig mod- og raadløs – og skulde saa gjerne , orgløsorgløs ] orkløs , orkeløs = kraftløs , svak ( ODS ) som jeg maaske for meget er – drage ud til Dem for at høre Deres Tanker om dette – men De ved nok Bjørnson , at hverken De eller Deres Frue har nogensinde opmuntret mine Besøg hos Dem , jeg kan ikke i dette Øieblik finde Frihed til at gjøre det . Min venligste Hilsen forresten .\n",
      "Camilla Collett .\n",
      "12. november 1867\n",
      "Hr Bjørnstjerne Bjørnson !\n",
      "Da jeg maa udlede af Deres Forhold at det Dem til Aftrykning i Folkebladet tilsendte Digt : « Til Hedevig » , ikke benyttes , saa er jeg saa fri at gjentage min Anmodning om snarest at faa det tilbagesendt .\n",
      "Jeg vil bede Dem ikke glemme at Forslag og Tilbud oprindelig kom fra Dem , og at kun Omstændigheder har tvunget mig til her at møde Dem .\n",
      "Camilla Collett .\n",
      "17. november 1867\n",
      "Hr Bjørnstjerne Bjørnson !\n",
      "Da jeg sendte Dem hin Sanghin Sang ] Til Hedevig , har jeg i høfligste Udtryk , bedet Dem , hvis De ikke benyttede den ( derfor kunde der være kommet uforudsete Hindringer ) da strax at sende mig den tilbage .\n",
      "Mit Arrangement med Hegel bød , at jeg ordnede og forseglede alt hvad han skulde have . Jeg ventede i 10 Dage uden at værdiges et Brev , og jeg skulde reise .\n",
      "Jeg gjentog min Anmodning og faar Deres Skrivelse , der i en Grad har forbauset mig , at jeg endnu maa tvivle paa at den er stilet til mig .\n",
      "Der er noget uskjønsomt , ubearbeidet i Deres Natur . Alle Egenskaber og Eiendommeligheder hos et Menneske kan man haabe at overvinde , naar man vil vindet det , men Utaknemlighed støder Guder og Mennesker bort .\n",
      "Der var en Tid da De oppe hos os var mere ubefæstet end De nu er , hvor jeg efter Evne kjæmpede for Dem og søgte at bane Dem Vei . Jeg beundrede Deres Evner og følte mig grebet af det friske Liv der vældede ud af hvert nyt Skrift , jeg troede paa noget tilsvarende i Deres Karakter og Personlighed . Smigre aabenlyst kunde jeg ikke , kan det ikke . Har jeg nævnt Dem flygtig i et Skrift , har det været et ironisk EchoEcho ] rettet fra Ecco ved overskriving af Andres Opfatning af Dem , jeg tog mig selv med.\n",
      "Samtidig rev De mig aabenlyst ned , hernede i Danmark , og gjorde alt for at vække Mistro mod mig . Den « stygge Bog » spøgte endnu fornylig igjen i Hr Sødringsikke identifisert Korresspondance .\n",
      "Hvad jeg har erfaret hernede er kun en Gjentagelse .\n",
      "Deres Brev er saa enestaaende , ja en saadan Plet paa Dem , at jeg vilde skamme mig som Landsmand om Nogen Fremmet erfor derom .\n",
      "Men jeg sender det til mine Sønner , der engang skulle vide at drage Dem til Regnskab for hvad De deri tillader Dem at sige mig . Hvert Ord skrevet til Dem , har jeg heldigvis Afskrift af .\n",
      "Ingen Forklaring , intet Brev fra Deres Haand modtages mere .\n",
      "Jeg er Ene og ubeskyttet mod den Slags Angreb .\n",
      "Camilla Collett .\n",
      "Kjøbenh . den 17 Nov . 1867.\n",
      "Sangen , tilbudt Dem under andre Forudsætninger , vil jeg helst have tilbage . Det beror paa Dem om De vil komme et Ønske imøde , og i saa Fald behage De at nedlægge den hos Hegel .\n"
     ]
    }
   ],
   "source": [
    "print('\\n'.join([' '.join(y) for y in kilder_korpus['NBkilder_Collett_Brev_til_Bjornson.xml']]))"
   ]
  },
  {
   "cell_type": "markdown",
   "metadata": {},
   "source": [
    "# Konkordanser\n",
    "\n",
    "Litt kode til å begynne med, konkordanser nedenfor."
   ]
  },
  {
   "cell_type": "code",
   "execution_count": 8,
   "metadata": {},
   "outputs": [
    {
     "data": {
      "text/plain": [
       "{'NBkilder_Amundsen_Slededagbok.xml': [(108, [381]), (219, [112])],\n",
       " 'NBkilder_Collett_Brev_1841-51.xml': [(186, [187]),\n",
       "  (247, [20]),\n",
       "  (270, [901])],\n",
       " 'NBkilder_Collett_Brev_1852-63.xml': [(21, [33]),\n",
       "  (128, [507]),\n",
       "  (151, [84]),\n",
       "  (264, [195]),\n",
       "  (360, [138]),\n",
       "  (384, [260]),\n",
       "  (389, [135]),\n",
       "  (582, [192])],\n",
       " 'NBkilder_Collett_Brev_til_Bjornson.xml': [(16, [54])],\n",
       " 'NBkilder_Collett_Brev_til_Ibsen.xml': [(102, [32]), (151, [15])],\n",
       " 'NBkilder_Collett_Brev_til_Lie.xml': [(4, [65]),\n",
       "  (17, [165]),\n",
       "  (19, [66]),\n",
       "  (52, [268])],\n",
       " 'NBkilder_Collett_Skildpadde.xml': [(27, [850])],\n",
       " 'NBkilder_Dardel_Voyage.xml': [],\n",
       " 'NBkilder_Grunnlovskilder1814.xml': [],\n",
       " 'NBkilder_Kjerulf_1833.xml': [],\n",
       " 'NBkilder_Kjerulf_1840.xml': [],\n",
       " 'NBkilder_Kjerulf_1850.xml': [(165, [43]), (246, [716])],\n",
       " 'NBkilder_Kjerulf_1851.xml': [(69, [290])],\n",
       " 'NBkilder_Kjerulf_1852.xml': [],\n",
       " 'NBkilder_Kjerulf_1854.xml': [],\n",
       " 'NBkilder_KKielland_AGarborg_brev.xml': [(50, [47]),\n",
       "  (72, [721]),\n",
       "  (123, [118]),\n",
       "  (215, [850]),\n",
       "  (275, [66]),\n",
       "  (309, [135]),\n",
       "  (334, [52]),\n",
       "  (432, [108])],\n",
       " 'NBkilder_KKielland_DSkavlan_brev.xml': [(102, [513])],\n",
       " 'NBkilder_KKielland_EPeterssen_brev.xml': [(68, [273]),\n",
       "  (114, [470, 521]),\n",
       "  (133, [556]),\n",
       "  (157, [238])],\n",
       " 'NBkilder_Koren_1798.xml': [(4, [74]), (15, [661])],\n",
       " 'NBkilder_Koren_1802.xml': [(9, [136]),\n",
       "  (44, [32]),\n",
       "  (48, [251]),\n",
       "  (236, [234]),\n",
       "  (280, [33]),\n",
       "  (349, [30]),\n",
       "  (357, [110]),\n",
       "  (400, [42, 56]),\n",
       "  (402, [130]),\n",
       "  (485, [37]),\n",
       "  (510, [10])],\n",
       " 'NBkilder_Koren_1805.xml': [],\n",
       " 'NBkilder_Koren_1808.xml': [(153, [8]),\n",
       "  (154, [109]),\n",
       "  (166, [247]),\n",
       "  (262, [400]),\n",
       "  (363, [40]),\n",
       "  (364, [28, 38]),\n",
       "  (384, [174]),\n",
       "  (510, [115]),\n",
       "  (540, [45]),\n",
       "  (550, [19]),\n",
       "  (724, [201]),\n",
       "  (778, [128]),\n",
       "  (798, [135]),\n",
       "  (801, [60]),\n",
       "  (807, [163])],\n",
       " 'NBkilder_Koren_1809.xml': [(49, [71]),\n",
       "  (59, [58, 66, 88]),\n",
       "  (73, [188]),\n",
       "  (181, [125]),\n",
       "  (284, [75]),\n",
       "  (286, [25, 44]),\n",
       "  (312, [113]),\n",
       "  (357, [47]),\n",
       "  (397, [232]),\n",
       "  (455, [14]),\n",
       "  (458, [47]),\n",
       "  (485, [69]),\n",
       "  (534, [162]),\n",
       "  (560, [285]),\n",
       "  (623, [75]),\n",
       "  (673, [140]),\n",
       "  (675, [109]),\n",
       "  (684, [108]),\n",
       "  (942, [26])],\n",
       " 'NBkilder_Koren_1810.xml': [(47, [562]),\n",
       "  (111, [147]),\n",
       "  (123, [203]),\n",
       "  (136, [329]),\n",
       "  (168, [43]),\n",
       "  (463, [111]),\n",
       "  (474, [443]),\n",
       "  (575, [102]),\n",
       "  (704, [284]),\n",
       "  (750, [91]),\n",
       "  (821, [228]),\n",
       "  (828, [98]),\n",
       "  (898, [253]),\n",
       "  (943, [460]),\n",
       "  (1037, [10])],\n",
       " 'NBkilder_Koren_1811.xml': [(56, [285]),\n",
       "  (131, [3]),\n",
       "  (172, [48]),\n",
       "  (273, [102]),\n",
       "  (302, [124]),\n",
       "  (332, [404]),\n",
       "  (362, [325]),\n",
       "  (363, [42]),\n",
       "  (370, [115]),\n",
       "  (382, [128]),\n",
       "  (432, [82]),\n",
       "  (449, [616]),\n",
       "  (459, [70]),\n",
       "  (475, [96]),\n",
       "  (504, [120]),\n",
       "  (551, [215]),\n",
       "  (578, [36]),\n",
       "  (598, [145]),\n",
       "  (636, [499]),\n",
       "  (652, [45]),\n",
       "  (667, [5]),\n",
       "  (779, [104]),\n",
       "  (780, [86]),\n",
       "  (826, [173])],\n",
       " 'NBkilder_Koren_1812.xml': [(11, [110]),\n",
       "  (55, [214]),\n",
       "  (63, [290]),\n",
       "  (70, [567, 1018]),\n",
       "  (159, [198]),\n",
       "  (226, [92]),\n",
       "  (234, [75]),\n",
       "  (263, [103]),\n",
       "  (332, [308]),\n",
       "  (379, [45]),\n",
       "  (457, [310]),\n",
       "  (466, [236]),\n",
       "  (498, [39]),\n",
       "  (501, [129]),\n",
       "  (502, [35]),\n",
       "  (548, [514]),\n",
       "  (619, [164]),\n",
       "  (767, [17]),\n",
       "  (778, [58, 78]),\n",
       "  (810, [41]),\n",
       "  (920, [122])],\n",
       " 'NBkilder_Koren_1813.xml': [(3, [6]),\n",
       "  (4, [62]),\n",
       "  (48, [203]),\n",
       "  (135, [414]),\n",
       "  (208, [257]),\n",
       "  (265, [83]),\n",
       "  (294, [152]),\n",
       "  (328, [183]),\n",
       "  (353, [192]),\n",
       "  (359, [151]),\n",
       "  (425, [1078]),\n",
       "  (547, [45]),\n",
       "  (570, [374]),\n",
       "  (605, [495]),\n",
       "  (621, [61]),\n",
       "  (630, [177]),\n",
       "  (649, [152]),\n",
       "  (663, [86]),\n",
       "  (708, [208]),\n",
       "  (745, [39]),\n",
       "  (759, [125])],\n",
       " 'NBkilder_Koren_1814.xml': [(2, [101, 108]),\n",
       "  (43, [101]),\n",
       "  (97, [290]),\n",
       "  (142, [30]),\n",
       "  (154, [485]),\n",
       "  (189, [244]),\n",
       "  (198, [231]),\n",
       "  (208, [15]),\n",
       "  (211, [108]),\n",
       "  (213, [71])],\n",
       " 'NBkilder_Koren_1815.xml': [(6, [183])],\n",
       " 'NBkilder_Undset_Fragmenter.xml': []}"
      ]
     },
     "execution_count": 8,
     "metadata": {},
     "output_type": "execute_result"
    }
   ],
   "source": [
    "actual_konk = konk(['anderledes'], kilder_korpus)\n",
    "actual_konk"
   ]
  },
  {
   "cell_type": "markdown",
   "metadata": {},
   "source": [
    "## konkordanser med markdown\n",
    "\n",
    "Med og uten regulærer uttrykk"
   ]
  },
  {
   "cell_type": "code",
   "execution_count": 9,
   "metadata": {},
   "outputs": [
    {
     "data": {
      "text/markdown": [
       "### Konkordanser for *jeg er*"
      ],
      "text/plain": [
       "<IPython.core.display.Markdown object>"
      ]
     },
     "metadata": {},
     "output_type": "display_data"
    },
    {
     "data": {
      "text/markdown": [
       "#### NBkilder_Collett_Brev_1841-51.xml"
      ],
      "text/plain": [
       "<IPython.core.display.Markdown object>"
      ]
     },
     "metadata": {},
     "output_type": "display_data"
    },
    {
     "data": {
      "text/markdown": [
       "6: at han <span style='color:red'>er</span> saa lykkelig , og at <span style='color:red'>jeg</span> <span style='color:red'>er</span> saa elskværdig mod ham . Jeg"
      ],
      "text/plain": [
       "<IPython.core.display.Markdown object>"
      ]
     },
     "metadata": {},
     "output_type": "display_data"
    },
    {
     "data": {
      "text/markdown": [
       "6: saa elskværdig mod ham . Jeg troer ogsaa <span style='color:red'>jeg</span> <span style='color:red'>er</span> det , men hvorledes skulde det"
      ],
      "text/plain": [
       "<IPython.core.display.Markdown object>"
      ]
     },
     "metadata": {},
     "output_type": "display_data"
    },
    {
     "data": {
      "text/markdown": [
       "82: troe ikke <span style='color:red'>jeg</span> knurrer engang – men naar <span style='color:red'>jeg</span> <span style='color:red'>er</span> færdig <span style='color:red'>er</span> <span style='color:red'>jeg</span> erschöpft , erschöpft"
      ],
      "text/plain": [
       "<IPython.core.display.Markdown object>"
      ]
     },
     "metadata": {},
     "output_type": "display_data"
    },
    {
     "data": {
      "text/markdown": [
       "88: Bedste , Ædleste som gives , og at <span style='color:red'>jeg</span> <span style='color:red'>er</span> det Eneste han elsker . Hvilken"
      ],
      "text/plain": [
       "<IPython.core.display.Markdown object>"
      ]
     },
     "metadata": {},
     "output_type": "display_data"
    },
    {
     "data": {
      "text/markdown": [
       "94: aldrig . kunde være tilfreds , <span style='color:red'>jeg</span> føler <span style='color:red'>jeg</span> <span style='color:red'>er</span> det i Grunden hans Kjerlighed kan"
      ],
      "text/plain": [
       "<IPython.core.display.Markdown object>"
      ]
     },
     "metadata": {},
     "output_type": "display_data"
    },
    {
     "data": {
      "text/markdown": [
       "95: paa den Maade men <span style='color:red'>jeg</span> føler dybt at <span style='color:red'>jeg</span> <span style='color:red'>er</span> begunstigt fremfor 1000 og det giver"
      ],
      "text/plain": [
       "<IPython.core.display.Markdown object>"
      ]
     },
     "metadata": {},
     "output_type": "display_data"
    },
    {
     "data": {
      "text/markdown": [
       "114: saa godt som det efter Omstændighederne kunde , <span style='color:red'>jeg</span> <span style='color:red'>er</span> virkelig glad i Udbyttet – at"
      ],
      "text/plain": [
       "<IPython.core.display.Markdown object>"
      ]
     },
     "metadata": {},
     "output_type": "display_data"
    },
    {
     "data": {
      "text/markdown": [
       "116: et Ord om Dig og mig . Da <span style='color:red'>jeg</span> <span style='color:red'>er</span> Frue , maae <span style='color:red'>jeg</span> have Forrangen"
      ],
      "text/plain": [
       "<IPython.core.display.Markdown object>"
      ]
     },
     "metadata": {},
     "output_type": "display_data"
    },
    {
     "data": {
      "text/markdown": [
       "138: – dog det sidste <span style='color:red'>er</span> uvist – ja <span style='color:red'>jeg</span> <span style='color:red'>er</span> ikke engang ganske vis paa Fuglestegen"
      ],
      "text/plain": [
       "<IPython.core.display.Markdown object>"
      ]
     },
     "metadata": {},
     "output_type": "display_data"
    },
    {
     "data": {
      "text/markdown": [
       "148: Breve min C. overgaae imidlertid endnu mine , <span style='color:red'>jeg</span> <span style='color:red'>er</span> villig til at erkjende dette ."
      ],
      "text/plain": [
       "<IPython.core.display.Markdown object>"
      ]
     },
     "metadata": {},
     "output_type": "display_data"
    },
    {
     "data": {
      "text/markdown": [
       "221: . Havde Du ikke Lyst en Aften medens <span style='color:red'>jeg</span> <span style='color:red'>er</span> borte at bede Welh.Welh . ]"
      ],
      "text/plain": [
       "<IPython.core.display.Markdown object>"
      ]
     },
     "metadata": {},
     "output_type": "display_data"
    },
    {
     "data": {
      "text/markdown": [
       "221: Georg Sibbern ( 1816 – 1901 ) at <span style='color:red'>jeg</span> <span style='color:red'>er</span> oprigtig bedrøvet over at han skal"
      ],
      "text/plain": [
       "<IPython.core.display.Markdown object>"
      ]
     },
     "metadata": {},
     "output_type": "display_data"
    },
    {
     "data": {
      "text/markdown": [
       "263: og gjennem den ogsaa til Din – Naar <span style='color:red'>jeg</span> <span style='color:red'>er</span> glad holder <span style='color:red'>jeg</span> mest af Dig"
      ],
      "text/plain": [
       "<IPython.core.display.Markdown object>"
      ]
     },
     "metadata": {},
     "output_type": "display_data"
    },
    {
     "data": {
      "text/markdown": [
       "265: ved Fremmedes Næ [ r ] værelse . <span style='color:red'>jeg</span> <span style='color:red'>er</span> skinsyg over enhver Afbrydelse . Kom"
      ],
      "text/plain": [
       "<IPython.core.display.Markdown object>"
      ]
     },
     "metadata": {},
     "output_type": "display_data"
    },
    {
     "data": {
      "text/markdown": [
       "274: "
      ],
      "text/plain": [
       "<IPython.core.display.Markdown object>"
      ]
     },
     "metadata": {},
     "output_type": "display_data"
    },
    {
     "data": {
      "text/markdown": [
       "274: Dig at <span style='color:red'>jeg</span> <span style='color:red'>er</span> mild og god naar <span style='color:red'>jeg</span> <span style='color:red'>er</span> sorgløs og uden Plage . Lev"
      ],
      "text/plain": [
       "<IPython.core.display.Markdown object>"
      ]
     },
     "metadata": {},
     "output_type": "display_data"
    },
    {
     "data": {
      "text/markdown": [
       "295: <span style='color:red'>jeg</span> har ikke forsøgt en eneste Linie . <span style='color:red'>jeg</span> <span style='color:red'>er</span> aldeles paa det Rene med mig"
      ],
      "text/plain": [
       "<IPython.core.display.Markdown object>"
      ]
     },
     "metadata": {},
     "output_type": "display_data"
    },
    {
     "data": {
      "text/markdown": [
       "316: mig deroppe , kommer der dog Øieblikke hvori <span style='color:red'>jeg</span> <span style='color:red'>er</span> uvisuvis ] Streket under med en"
      ],
      "text/plain": [
       "<IPython.core.display.Markdown object>"
      ]
     },
     "metadata": {},
     "output_type": "display_data"
    },
    {
     "data": {
      "text/markdown": [
       "331: en Feil der ikke kunde rettes – at <span style='color:red'>jeg</span> <span style='color:red'>er</span> saa alene her . Næsten alle"
      ],
      "text/plain": [
       "<IPython.core.display.Markdown object>"
      ]
     },
     "metadata": {},
     "output_type": "display_data"
    },
    {
     "data": {
      "text/markdown": [
       "331: Fru Münster , begge har Børn med. Naar <span style='color:red'>jeg</span> <span style='color:red'>er</span> alene <span style='color:red'>er</span> <span style='color:red'>jeg</span> mere alene end"
      ],
      "text/plain": [
       "<IPython.core.display.Markdown object>"
      ]
     },
     "metadata": {},
     "output_type": "display_data"
    },
    {
     "data": {
      "text/markdown": [
       "333: har Nød med at skjøtte mig selv – <span style='color:red'>jeg</span> <span style='color:red'>er</span> jo overladt til disse Fremmedes Vilkaarlighed"
      ],
      "text/plain": [
       "<IPython.core.display.Markdown object>"
      ]
     },
     "metadata": {},
     "output_type": "display_data"
    },
    {
     "data": {
      "text/markdown": [
       "357: har aldrig været saa rask som nu , <span style='color:red'>jeg</span> <span style='color:red'>er</span> bleven saa feed at <span style='color:red'>jeg</span> maae"
      ],
      "text/plain": [
       "<IPython.core.display.Markdown object>"
      ]
     },
     "metadata": {},
     "output_type": "display_data"
    },
    {
     "data": {
      "text/markdown": [
       "357: Oscar maae være en god Erstatning , men <span style='color:red'>jeg</span> <span style='color:red'>er</span> bange I ville komme til at"
      ],
      "text/plain": [
       "<IPython.core.display.Markdown object>"
      ]
     },
     "metadata": {},
     "output_type": "display_data"
    },
    {
     "data": {
      "text/markdown": [
       "#### NBkilder_Collett_Brev_1852-63.xml"
      ],
      "text/plain": [
       "<IPython.core.display.Markdown object>"
      ]
     },
     "metadata": {},
     "output_type": "display_data"
    },
    {
     "data": {
      "text/markdown": [
       "45: kan det endvidere fornøie Dem at høre at <span style='color:red'>jeg</span> <span style='color:red'>er</span> færdig at døe af Længsel efter"
      ],
      "text/plain": [
       "<IPython.core.display.Markdown object>"
      ]
     },
     "metadata": {},
     "output_type": "display_data"
    },
    {
     "data": {
      "text/markdown": [
       "48: nogle juridiske Opsatser , Attester og desligt synes <span style='color:red'>jeg</span> <span style='color:red'>er</span> bedre opbevaret hos Dem Johan og"
      ],
      "text/plain": [
       "<IPython.core.display.Markdown object>"
      ]
     },
     "metadata": {},
     "output_type": "display_data"
    },
    {
     "data": {
      "text/markdown": [
       "56: Raad . Carl <span style='color:red'>er</span> meget god , og <span style='color:red'>jeg</span> <span style='color:red'>er</span> saare glad ved at have dette"
      ],
      "text/plain": [
       "<IPython.core.display.Markdown object>"
      ]
     },
     "metadata": {},
     "output_type": "display_data"
    },
    {
     "data": {
      "text/markdown": [
       "60: 58 ) , ugift da hils hende at <span style='color:red'>jeg</span> <span style='color:red'>er</span> taknemlig for BrevetBrevet ] Vi kjenner"
      ],
      "text/plain": [
       "<IPython.core.display.Markdown object>"
      ]
     },
     "metadata": {},
     "output_type": "display_data"
    },
    {
     "data": {
      "text/markdown": [
       "71: blot bede Brynie paatage sig Sagen , som <span style='color:red'>jeg</span> <span style='color:red'>er</span> vis paa han vil med sin"
      ],
      "text/plain": [
       "<IPython.core.display.Markdown object>"
      ]
     },
     "metadata": {},
     "output_type": "display_data"
    },
    {
     "data": {
      "text/markdown": [
       "96: dobbelt Grund » sagde han « først fordi <span style='color:red'>jeg</span> <span style='color:red'>er</span> fremmed og fordi <span style='color:red'>jeg</span> <span style='color:red'>er</span> Herregaardsmand"
      ],
      "text/plain": [
       "<IPython.core.display.Markdown object>"
      ]
     },
     "metadata": {},
     "output_type": "display_data"
    },
    {
     "data": {
      "text/markdown": [
       "96: « først fordi <span style='color:red'>jeg</span> <span style='color:red'>er</span> fremmed og fordi <span style='color:red'>jeg</span> <span style='color:red'>er</span> Herregaardsmand , ja de sige det"
      ],
      "text/plain": [
       "<IPython.core.display.Markdown object>"
      ]
     },
     "metadata": {},
     "output_type": "display_data"
    },
    {
     "data": {
      "text/markdown": [
       "100: og denne det volder mig sand Glæde , <span style='color:red'>jeg</span> <span style='color:red'>er</span> paa det Venligste opfordret til at"
      ],
      "text/plain": [
       "<IPython.core.display.Markdown object>"
      ]
     },
     "metadata": {},
     "output_type": "display_data"
    },
    {
     "data": {
      "text/markdown": [
       "110: , » O ja det <span style='color:red'>er</span> bedrøveligt og <span style='color:red'>jeg</span> <span style='color:red'>er</span> vred paa mig selv at jeg"
      ],
      "text/plain": [
       "<IPython.core.display.Markdown object>"
      ]
     },
     "metadata": {},
     "output_type": "display_data"
    },
    {
     "data": {
      "text/markdown": [
       "128: en Menage som <span style='color:red'>er</span> lidt anderledes end den <span style='color:red'>jeg</span> <span style='color:red'>er</span> vant til , Min Morgen begynder"
      ],
      "text/plain": [
       "<IPython.core.display.Markdown object>"
      ]
     },
     "metadata": {},
     "output_type": "display_data"
    },
    {
     "data": {
      "text/markdown": [
       "149: Led i dette behagelige Kløverblad . Han troer <span style='color:red'>jeg</span> <span style='color:red'>er</span> en skikkelig Mand men som plages"
      ],
      "text/plain": [
       "<IPython.core.display.Markdown object>"
      ]
     },
     "metadata": {},
     "output_type": "display_data"
    },
    {
     "data": {
      "text/markdown": [
       "257: et Brev , <span style='color:red'>jeg</span> har ikke kunnet , <span style='color:red'>jeg</span> <span style='color:red'>er</span> saa slap i Aanden , klage"
      ],
      "text/plain": [
       "<IPython.core.display.Markdown object>"
      ]
     },
     "metadata": {},
     "output_type": "display_data"
    },
    {
     "data": {
      "text/markdown": [
       "275: dernede , saa vil <span style='color:red'>jeg</span> ikke angre at <span style='color:red'>jeg</span> <span style='color:red'>er</span> vendt tilbage til vor stille By"
      ],
      "text/plain": [
       "<IPython.core.display.Markdown object>"
      ]
     },
     "metadata": {},
     "output_type": "display_data"
    },
    {
     "data": {
      "text/markdown": [
       "323: saa træt ."
      ],
      "text/plain": [
       "<IPython.core.display.Markdown object>"
      ]
     },
     "metadata": {},
     "output_type": "display_data"
    },
    {
     "data": {
      "text/markdown": [
       "332: Livet hernede hvad der kan interessere Dig , <span style='color:red'>jeg</span> <span style='color:red'>er</span> saa lidet med , at jeg"
      ],
      "text/plain": [
       "<IPython.core.display.Markdown object>"
      ]
     },
     "metadata": {},
     "output_type": "display_data"
    },
    {
     "data": {
      "text/markdown": [
       "364: nærmeste Omgivelse , maa <span style='color:red'>jeg</span> have det som <span style='color:red'>jeg</span> <span style='color:red'>er</span> vant til det , <span style='color:red'>jeg</span> kan"
      ],
      "text/plain": [
       "<IPython.core.display.Markdown object>"
      ]
     },
     "metadata": {},
     "output_type": "display_data"
    },
    {
     "data": {
      "text/markdown": [
       "477: vel endnu borte fra Dato . Hver Dag <span style='color:red'>jeg</span> <span style='color:red'>er</span> borte fra Chr.Chr . ] dvs."
      ],
      "text/plain": [
       "<IPython.core.display.Markdown object>"
      ]
     },
     "metadata": {},
     "output_type": "display_data"
    },
    {
     "data": {
      "text/markdown": [
       "515: <span style='color:red'>er</span> jo ikke heller for Gevindsten Skyld , <span style='color:red'>jeg</span> <span style='color:red'>er</span> og vil ansee mig lønnet ved"
      ],
      "text/plain": [
       "<IPython.core.display.Markdown object>"
      ]
     },
     "metadata": {},
     "output_type": "display_data"
    },
    {
     "data": {
      "text/markdown": [
       "565: kan ikke hjelpe dem kjere Johan , men <span style='color:red'>jeg</span> <span style='color:red'>er</span> virkelig sparsommelig og ordentlig , jeg"
      ],
      "text/plain": [
       "<IPython.core.display.Markdown object>"
      ]
     },
     "metadata": {},
     "output_type": "display_data"
    },
    {
     "data": {
      "text/markdown": [
       "#### NBkilder_Collett_Brev_til_Bjornson.xml"
      ],
      "text/plain": [
       "<IPython.core.display.Markdown object>"
      ]
     },
     "metadata": {},
     "output_type": "display_data"
    },
    {
     "data": {
      "text/markdown": [
       "9: Sag at faa hans varme Anbefaling , ligesom <span style='color:red'>jeg</span> <span style='color:red'>er</span> vis paa , at Colletts endnu"
      ],
      "text/plain": [
       "<IPython.core.display.Markdown object>"
      ]
     },
     "metadata": {},
     "output_type": "display_data"
    },
    {
     "data": {
      "text/markdown": [
       "#### NBkilder_Collett_Brev_til_Ibsen.xml"
      ],
      "text/plain": [
       "<IPython.core.display.Markdown object>"
      ]
     },
     "metadata": {},
     "output_type": "display_data"
    },
    {
     "data": {
      "text/markdown": [
       "110: Ak <span style='color:red'>jeg</span> ved ikke hvordan det <span style='color:red'>er</span> , <span style='color:red'>jeg</span> <span style='color:red'>er</span> mer melankolsk end nogensinde før denne"
      ],
      "text/plain": [
       "<IPython.core.display.Markdown object>"
      ]
     },
     "metadata": {},
     "output_type": "display_data"
    },
    {
     "data": {
      "text/markdown": [
       "156: overskriving <span style='color:red'>jeg</span> vil en Aftenstund glemme at « <span style='color:red'>jeg</span> <span style='color:red'>er</span> i Kristiania » . Deres Camilla"
      ],
      "text/plain": [
       "<IPython.core.display.Markdown object>"
      ]
     },
     "metadata": {},
     "output_type": "display_data"
    },
    {
     "data": {
      "text/markdown": [
       "172: af Kvinden . Os skade det ikke Og <span style='color:red'>jeg</span> <span style='color:red'>er</span> fotet om at enhver skikkelig Mand"
      ],
      "text/plain": [
       "<IPython.core.display.Markdown object>"
      ]
     },
     "metadata": {},
     "output_type": "display_data"
    },
    {
     "data": {
      "text/markdown": [
       "#### NBkilder_Collett_Brev_til_Lie.xml"
      ],
      "text/plain": [
       "<IPython.core.display.Markdown object>"
      ]
     },
     "metadata": {},
     "output_type": "display_data"
    },
    {
     "data": {
      "text/markdown": [
       "15: kan derfor uden Ubeskedenhed modtage det sendte , <span style='color:red'>jeg</span> <span style='color:red'>er</span> fornøiet dermed og takker Dem til"
      ],
      "text/plain": [
       "<IPython.core.display.Markdown object>"
      ]
     },
     "metadata": {},
     "output_type": "display_data"
    },
    {
     "data": {
      "text/markdown": [
       "45: ° 3496 ) faa dette afsat ? Hvorfor <span style='color:red'>jeg</span> <span style='color:red'>er</span> den Eneste af hans norske Forlagsbørn"
      ],
      "text/plain": [
       "<IPython.core.display.Markdown object>"
      ]
     },
     "metadata": {},
     "output_type": "display_data"
    },
    {
     "data": {
      "text/markdown": [
       "52: det anderledes , vilde <span style='color:red'>jeg</span> ikke være den <span style='color:red'>jeg</span> <span style='color:red'>er</span> ."
      ],
      "text/plain": [
       "<IPython.core.display.Markdown object>"
      ]
     },
     "metadata": {},
     "output_type": "display_data"
    },
    {
     "data": {
      "text/markdown": [
       "54: Dem for Bogen . Jeg tilstår , at <span style='color:red'>jeg</span> <span style='color:red'>er</span> bleven for gammel for Genren ,"
      ],
      "text/plain": [
       "<IPython.core.display.Markdown object>"
      ]
     },
     "metadata": {},
     "output_type": "display_data"
    },
    {
     "data": {
      "text/markdown": [
       "102: erindrer ikke en Eneste af dem , at <span style='color:red'>jeg</span> <span style='color:red'>er</span> til ."
      ],
      "text/plain": [
       "<IPython.core.display.Markdown object>"
      ]
     },
     "metadata": {},
     "output_type": "display_data"
    },
    {
     "data": {
      "text/markdown": [
       "116: , sige ham dette , sige ham at <span style='color:red'>jeg</span> <span style='color:red'>er</span> ganske uskikket til den Slags active"
      ],
      "text/plain": [
       "<IPython.core.display.Markdown object>"
      ]
     },
     "metadata": {},
     "output_type": "display_data"
    },
    {
     "data": {
      "text/markdown": [
       "127: 1833 – 1907 ) <span style='color:red'>jeg</span> i den Stemning <span style='color:red'>jeg</span> <span style='color:red'>er</span> alene kunde ønske at treffe ,"
      ],
      "text/plain": [
       "<IPython.core.display.Markdown object>"
      ]
     },
     "metadata": {},
     "output_type": "display_data"
    },
    {
     "data": {
      "text/markdown": [
       "#### NBkilder_Collett_Skildpadde.xml"
      ],
      "text/plain": [
       "<IPython.core.display.Markdown object>"
      ]
     },
     "metadata": {},
     "output_type": "display_data"
    },
    {
     "data": {
      "text/markdown": [
       "7: Constitutionelle ( 1836 – 47 ) imod da <span style='color:red'>jeg</span> <span style='color:red'>er</span> fuldkommen enig med Dem , at"
      ],
      "text/plain": [
       "<IPython.core.display.Markdown object>"
      ]
     },
     "metadata": {},
     "output_type": "display_data"
    },
    {
     "data": {
      "text/markdown": [
       "25: forebygge at min Interesse ogsaa omfattede Forfatteren ? <span style='color:red'>jeg</span> <span style='color:red'>er</span> selv ikke enig om var Digteren"
      ],
      "text/plain": [
       "<IPython.core.display.Markdown object>"
      ]
     },
     "metadata": {},
     "output_type": "display_data"
    },
    {
     "data": {
      "text/markdown": [
       "27: , men fordi mine Evner strande her , <span style='color:red'>jeg</span> <span style='color:red'>er</span> saaledes ikke istand til at forklare"
      ],
      "text/plain": [
       "<IPython.core.display.Markdown object>"
      ]
     },
     "metadata": {},
     "output_type": "display_data"
    },
    {
     "data": {
      "text/markdown": [
       "27: 1913 : ' sirligste ' Tænder , ( <span style='color:red'>jeg</span> <span style='color:red'>er</span> en stor Ynder af hvide Tænder"
      ],
      "text/plain": [
       "<IPython.core.display.Markdown object>"
      ]
     },
     "metadata": {},
     "output_type": "display_data"
    },
    {
     "data": {
      "text/markdown": [
       "41: Det <span style='color:red'>er</span> Skade , sagde <span style='color:red'>jeg</span> , thi <span style='color:red'>jeg</span> <span style='color:red'>er</span> just en Elsker af forbuden Frugt"
      ],
      "text/plain": [
       "<IPython.core.display.Markdown object>"
      ]
     },
     "metadata": {},
     "output_type": "display_data"
    },
    {
     "data": {
      "text/markdown": [
       "47: gives Øieblikke , skjelden kostbare Øieblikke , hvor <span style='color:red'>jeg</span> <span style='color:red'>er</span> lykkelig uden noget bestemt Hvorfor ,"
      ],
      "text/plain": [
       "<IPython.core.display.Markdown object>"
      ]
     },
     "metadata": {},
     "output_type": "display_data"
    },
    {
     "data": {
      "text/markdown": [
       "47: <span style='color:red'>jeg</span> <span style='color:red'>er</span> lykkelig uden noget bestemt Hvorfor , <span style='color:red'>jeg</span> <span style='color:red'>er</span> det i mig selv , jeg"
      ],
      "text/plain": [
       "<IPython.core.display.Markdown object>"
      ]
     },
     "metadata": {},
     "output_type": "display_data"
    },
    {
     "data": {
      "text/markdown": [
       "62: over dette unbefangne , ich auch , men <span style='color:red'>jeg</span> <span style='color:red'>er</span> heller ikke længer henrykt . Sengene"
      ],
      "text/plain": [
       "<IPython.core.display.Markdown object>"
      ]
     },
     "metadata": {},
     "output_type": "display_data"
    },
    {
     "data": {
      "text/markdown": [
       "64: – « Jeg troede De ønskede den , <span style='color:red'>jeg</span> <span style='color:red'>er</span> bange De bliver brun af Solen"
      ],
      "text/plain": [
       "<IPython.core.display.Markdown object>"
      ]
     },
     "metadata": {},
     "output_type": "display_data"
    },
    {
     "data": {
      "text/markdown": [
       "#### NBkilder_Dardel_Voyage.xml"
      ],
      "text/plain": [
       "<IPython.core.display.Markdown object>"
      ]
     },
     "metadata": {},
     "output_type": "display_data"
    },
    {
     "data": {
      "text/markdown": [
       "781: og tenker med takknemlighet på den rause gjestfriheten <span style='color:red'>jeg</span> <span style='color:red'>er</span> blitt møtt med , og den"
      ],
      "text/plain": [
       "<IPython.core.display.Markdown object>"
      ]
     },
     "metadata": {},
     "output_type": "display_data"
    },
    {
     "data": {
      "text/markdown": [
       "#### NBkilder_Kjerulf_1840.xml"
      ],
      "text/plain": [
       "<IPython.core.display.Markdown object>"
      ]
     },
     "metadata": {},
     "output_type": "display_data"
    },
    {
     "data": {
      "text/markdown": [
       "8: – Men denne tomme Opregnen duer ikke og <span style='color:red'>jeg</span> <span style='color:red'>er</span> igrunden en Lægmand i Bedømmelsen af"
      ],
      "text/plain": [
       "<IPython.core.display.Markdown object>"
      ]
     },
     "metadata": {},
     "output_type": "display_data"
    },
    {
     "data": {
      "text/markdown": [
       "19: en Fioriture og smiler og leer – og <span style='color:red'>jeg</span> <span style='color:red'>er</span> stum , <span style='color:red'>jeg</span> <span style='color:red'>er</span> ikke istand"
      ],
      "text/plain": [
       "<IPython.core.display.Markdown object>"
      ]
     },
     "metadata": {},
     "output_type": "display_data"
    },
    {
     "data": {
      "text/markdown": [
       "19: og leer – og <span style='color:red'>jeg</span> <span style='color:red'>er</span> stum , <span style='color:red'>jeg</span> <span style='color:red'>er</span> ikke istand til røre mig thi"
      ],
      "text/plain": [
       "<IPython.core.display.Markdown object>"
      ]
     },
     "metadata": {},
     "output_type": "display_data"
    },
    {
     "data": {
      "text/markdown": [
       "31: Men <span style='color:red'>jeg</span> var næsten i Taarer , thi <span style='color:red'>jeg</span> <span style='color:red'>er</span> ung endda . Ak ! disse"
      ],
      "text/plain": [
       "<IPython.core.display.Markdown object>"
      ]
     },
     "metadata": {},
     "output_type": "display_data"
    },
    {
     "data": {
      "text/markdown": [
       "37: d . 18 : En Dag endnu og <span style='color:red'>jeg</span> <span style='color:red'>er</span> her ikke mere . Jeg kan"
      ],
      "text/plain": [
       "<IPython.core.display.Markdown object>"
      ]
     },
     "metadata": {},
     "output_type": "display_data"
    },
    {
     "data": {
      "text/markdown": [
       "46: denne Aften og <span style='color:red'>jeg</span> havde svigtet hende – <span style='color:red'>jeg</span> <span style='color:red'>er</span> vis paa hun aldrig vil tilgive"
      ],
      "text/plain": [
       "<IPython.core.display.Markdown object>"
      ]
     },
     "metadata": {},
     "output_type": "display_data"
    },
    {
     "data": {
      "text/markdown": [
       "#### NBkilder_Kjerulf_1850.xml"
      ],
      "text/plain": [
       "<IPython.core.display.Markdown object>"
      ]
     },
     "metadata": {},
     "output_type": "display_data"
    },
    {
     "data": {
      "text/markdown": [
       "21: ( ganske stille ) . Aa jo – <span style='color:red'>jeg</span> <span style='color:red'>er</span> dog fornøiet med Gade – han"
      ],
      "text/plain": [
       "<IPython.core.display.Markdown object>"
      ]
     },
     "metadata": {},
     "output_type": "display_data"
    },
    {
     "data": {
      "text/markdown": [
       "47: dog vel langt og noget enstonigt – men <span style='color:red'>jeg</span> <span style='color:red'>er</span> slet ikke vis derpaa . Det"
      ],
      "text/plain": [
       "<IPython.core.display.Markdown object>"
      ]
     },
     "metadata": {},
     "output_type": "display_data"
    },
    {
     "data": {
      "text/markdown": [
       "184: seet . Vi blive snart kjendte ; men <span style='color:red'>jeg</span> <span style='color:red'>er</span> for træt til at drikke Øl"
      ],
      "text/plain": [
       "<IPython.core.display.Markdown object>"
      ]
     },
     "metadata": {},
     "output_type": "display_data"
    },
    {
     "data": {
      "text/markdown": [
       "293: med Sperati . – Th . mener at <span style='color:red'>jeg</span> <span style='color:red'>er</span> saa slem at skrive til ."
      ],
      "text/plain": [
       "<IPython.core.display.Markdown object>"
      ]
     },
     "metadata": {},
     "output_type": "display_data"
    },
    {
     "data": {
      "text/markdown": [
       "#### NBkilder_Kjerulf_1851.xml"
      ],
      "text/plain": [
       "<IPython.core.display.Markdown object>"
      ]
     },
     "metadata": {},
     "output_type": "display_data"
    },
    {
     "data": {
      "text/markdown": [
       "162: — Aftenen i det kgl . Theater hvor <span style='color:red'>jeg</span> <span style='color:red'>er</span> meget heldig . Man giver Scribes"
      ],
      "text/plain": [
       "<IPython.core.display.Markdown object>"
      ]
     },
     "metadata": {},
     "output_type": "display_data"
    },
    {
     "data": {
      "text/markdown": [
       "222: ordentl sungne – men ingen Applaus ( hvad <span style='color:red'>jeg</span> <span style='color:red'>er</span> vant til – neml til ingen"
      ],
      "text/plain": [
       "<IPython.core.display.Markdown object>"
      ]
     },
     "metadata": {},
     "output_type": "display_data"
    },
    {
     "data": {
      "text/markdown": [
       "#### NBkilder_Kjerulf_1852.xml"
      ],
      "text/plain": [
       "<IPython.core.display.Markdown object>"
      ]
     },
     "metadata": {},
     "output_type": "display_data"
    },
    {
     "data": {
      "text/markdown": [
       "376: 15 Idag ankom Wankel & Timlers Flügel og <span style='color:red'>jeg</span> <span style='color:red'>er</span> vel tilfreds med det . –"
      ],
      "text/plain": [
       "<IPython.core.display.Markdown object>"
      ]
     },
     "metadata": {},
     "output_type": "display_data"
    },
    {
     "data": {
      "text/markdown": [
       "#### NBkilder_KKielland_AGarborg_brev.xml"
      ],
      "text/plain": [
       "<IPython.core.display.Markdown object>"
      ]
     },
     "metadata": {},
     "output_type": "display_data"
    },
    {
     "data": {
      "text/markdown": [
       "13: "
      ],
      "text/plain": [
       "<IPython.core.display.Markdown object>"
      ]
     },
     "metadata": {},
     "output_type": "display_data"
    },
    {
     "data": {
      "text/markdown": [
       "16: , at Menneskene <span style='color:red'>er</span> misundelige Dyr , og <span style='color:red'>jeg</span> <span style='color:red'>er</span> et Menneske ."
      ],
      "text/plain": [
       "<IPython.core.display.Markdown object>"
      ]
     },
     "metadata": {},
     "output_type": "display_data"
    },
    {
     "data": {
      "text/markdown": [
       "33: frisindet , at Du husker paa , at <span style='color:red'>jeg</span> <span style='color:red'>er</span> menneske . Slutten mangler"
      ],
      "text/plain": [
       "<IPython.core.display.Markdown object>"
      ]
     },
     "metadata": {},
     "output_type": "display_data"
    },
    {
     "data": {
      "text/markdown": [
       "61: , at <span style='color:red'>jeg</span> fremdeles skriver lidt virvar , <span style='color:red'>jeg</span> <span style='color:red'>er</span> heller ikke frisk , temmelig daarlig"
      ],
      "text/plain": [
       "<IPython.core.display.Markdown object>"
      ]
     },
     "metadata": {},
     "output_type": "display_data"
    },
    {
     "data": {
      "text/markdown": [
       "72: Jeg tror saa sikkert paa den , og <span style='color:red'>jeg</span> <span style='color:red'>er</span> saa spændt paa den , gid"
      ],
      "text/plain": [
       "<IPython.core.display.Markdown object>"
      ]
     },
     "metadata": {},
     "output_type": "display_data"
    },
    {
     "data": {
      "text/markdown": [
       "72: . Aa nei det <span style='color:red'>er</span> vel , fordi <span style='color:red'>jeg</span> <span style='color:red'>er</span> kommet i vane med at snakke"
      ],
      "text/plain": [
       "<IPython.core.display.Markdown object>"
      ]
     },
     "metadata": {},
     "output_type": "display_data"
    },
    {
     "data": {
      "text/markdown": [
       "101: kvinnesak som kristendomsfiendtlig . Du synes , at <span style='color:red'>jeg</span> <span style='color:red'>er</span> ækel nu , <span style='color:red'>jeg</span> ved det"
      ],
      "text/plain": [
       "<IPython.core.display.Markdown object>"
      ]
     },
     "metadata": {},
     "output_type": "display_data"
    },
    {
     "data": {
      "text/markdown": [
       "108: saa urimelig . Jeg mærker det , at <span style='color:red'>jeg</span> <span style='color:red'>er</span> saa infamt underlegen , naar der"
      ],
      "text/plain": [
       "<IPython.core.display.Markdown object>"
      ]
     },
     "metadata": {},
     "output_type": "display_data"
    },
    {
     "data": {
      "text/markdown": [
       "109: lægger mit besyv . Du forstaar , at <span style='color:red'>jeg</span> <span style='color:red'>er</span> varm og begeistret for den bogen"
      ],
      "text/plain": [
       "<IPython.core.display.Markdown object>"
      ]
     },
     "metadata": {},
     "output_type": "display_data"
    },
    {
     "data": {
      "text/markdown": [
       "110: <span style='color:red'>jeg</span> skal forsømme min egen kunst , men <span style='color:red'>jeg</span> <span style='color:red'>er</span> nu saa gammel , at kan"
      ],
      "text/plain": [
       "<IPython.core.display.Markdown object>"
      ]
     },
     "metadata": {},
     "output_type": "display_data"
    },
    {
     "data": {
      "text/markdown": [
       "111: , forfatter han føler sig alene , ja <span style='color:red'>jeg</span> <span style='color:red'>er</span> vis paa , at om bare"
      ],
      "text/plain": [
       "<IPython.core.display.Markdown object>"
      ]
     },
     "metadata": {},
     "output_type": "display_data"
    },
    {
     "data": {
      "text/markdown": [
       "123: fint og bravt skrevet end mit , men <span style='color:red'>jeg</span> <span style='color:red'>er</span> jo en idiot . Og dengang"
      ],
      "text/plain": [
       "<IPython.core.display.Markdown object>"
      ]
     },
     "metadata": {},
     "output_type": "display_data"
    },
    {
     "data": {
      "text/markdown": [
       "124: ) . Dette blir vist bravt , hvorover <span style='color:red'>jeg</span> <span style='color:red'>er</span> stolt , men du verden ,"
      ],
      "text/plain": [
       "<IPython.core.display.Markdown object>"
      ]
     },
     "metadata": {},
     "output_type": "display_data"
    },
    {
     "data": {
      "text/markdown": [
       "140: paa sligt . Ikke for det , – <span style='color:red'>jeg</span> <span style='color:red'>er</span> ræd <span style='color:red'>jeg</span> kunde finde paa det"
      ],
      "text/plain": [
       "<IPython.core.display.Markdown object>"
      ]
     },
     "metadata": {},
     "output_type": "display_data"
    },
    {
     "data": {
      "text/markdown": [
       "148: sygeligt . For har <span style='color:red'>jeg</span> saasandt , at <span style='color:red'>jeg</span> <span style='color:red'>er</span> gaaet indover grændsen af den lille"
      ],
      "text/plain": [
       "<IPython.core.display.Markdown object>"
      ]
     },
     "metadata": {},
     "output_type": "display_data"
    },
    {
     "data": {
      "text/markdown": [
       "165: <span style='color:red'>jeg</span> ikke havde ham . Nu , da <span style='color:red'>jeg</span> <span style='color:red'>er</span> angergiven , synes <span style='color:red'>jeg</span> forresten at"
      ],
      "text/plain": [
       "<IPython.core.display.Markdown object>"
      ]
     },
     "metadata": {},
     "output_type": "display_data"
    },
    {
     "data": {
      "text/markdown": [
       "215: Du bare faar den bandsat gale forestilling at <span style='color:red'>jeg</span> <span style='color:red'>er</span> blevet en tørpamp og en snerpe"
      ],
      "text/plain": [
       "<IPython.core.display.Markdown object>"
      ]
     },
     "metadata": {},
     "output_type": "display_data"
    },
    {
     "data": {
      "text/markdown": [
       "224: Arbeide hvis det behandles ikke altfor hensynsløst – <span style='color:red'>jeg</span> <span style='color:red'>er</span> meget fornøiet med det . Vilde"
      ],
      "text/plain": [
       "<IPython.core.display.Markdown object>"
      ]
     },
     "metadata": {},
     "output_type": "display_data"
    },
    {
     "data": {
      "text/markdown": [
       "224: gjort mig lidt mere kold og vond end <span style='color:red'>jeg</span> <span style='color:red'>er</span> af Naturen . Jeg kunde ha"
      ],
      "text/plain": [
       "<IPython.core.display.Markdown object>"
      ]
     },
     "metadata": {},
     "output_type": "display_data"
    },
    {
     "data": {
      "text/markdown": [
       "224: Pøbelen omkring og misforstaar mig derhen , at <span style='color:red'>jeg</span> <span style='color:red'>er</span> et Svin , som vil Svineri"
      ],
      "text/plain": [
       "<IPython.core.display.Markdown object>"
      ]
     },
     "metadata": {},
     "output_type": "display_data"
    },
    {
     "data": {
      "text/markdown": [
       "224: . ] til at afgive Forsikringer om at <span style='color:red'>jeg</span> <span style='color:red'>er</span> et skikkeligt Menneske osv. kan jeg"
      ],
      "text/plain": [
       "<IPython.core.display.Markdown object>"
      ]
     },
     "metadata": {},
     "output_type": "display_data"
    },
    {
     "data": {
      "text/markdown": [
       "267: … han lever i den Tro , at <span style='color:red'>jeg</span> <span style='color:red'>er</span> sint paa ham , fordi han"
      ],
      "text/plain": [
       "<IPython.core.display.Markdown object>"
      ]
     },
     "metadata": {},
     "output_type": "display_data"
    },
    {
     "data": {
      "text/markdown": [
       "307: da han blir rent utaalmodig over , at <span style='color:red'>jeg</span> <span style='color:red'>er</span> saa langt væk . At jeg"
      ],
      "text/plain": [
       "<IPython.core.display.Markdown object>"
      ]
     },
     "metadata": {},
     "output_type": "display_data"
    },
    {
     "data": {
      "text/markdown": [
       "307: hvert blir det mig næsten uudholdeligt , naar <span style='color:red'>jeg</span> <span style='color:red'>er</span> daalig at ligge her ganske alene"
      ],
      "text/plain": [
       "<IPython.core.display.Markdown object>"
      ]
     },
     "metadata": {},
     "output_type": "display_data"
    },
    {
     "data": {
      "text/markdown": [
       "308: de ere ikke af de værste , men <span style='color:red'>jeg</span> <span style='color:red'>er</span> nu ræd for at se dem"
      ],
      "text/plain": [
       "<IPython.core.display.Markdown object>"
      ]
     },
     "metadata": {},
     "output_type": "display_data"
    },
    {
     "data": {
      "text/markdown": [
       "308: doktorsamvittighed , og finder han ikke , at <span style='color:red'>jeg</span> <span style='color:red'>er</span> daarlig nok , saa faar jeg"
      ],
      "text/plain": [
       "<IPython.core.display.Markdown object>"
      ]
     },
     "metadata": {},
     "output_type": "display_data"
    },
    {
     "data": {
      "text/markdown": [
       "308: Jeg kan nok ved egen kraft , da <span style='color:red'>jeg</span> <span style='color:red'>er</span> en harhaus , blive bedre med"
      ],
      "text/plain": [
       "<IPython.core.display.Markdown object>"
      ]
     },
     "metadata": {},
     "output_type": "display_data"
    },
    {
     "data": {
      "text/markdown": [
       "322: ( det <span style='color:red'>er</span> græsk ! ) – Og <span style='color:red'>jeg</span> <span style='color:red'>er</span> sandt at sige lidt vant med"
      ],
      "text/plain": [
       "<IPython.core.display.Markdown object>"
      ]
     },
     "metadata": {},
     "output_type": "display_data"
    },
    {
     "data": {
      "text/markdown": [
       "332: , lengter , føler – altsammen . Naar <span style='color:red'>jeg</span> <span style='color:red'>er</span> færdig med det første Udkast ,"
      ],
      "text/plain": [
       "<IPython.core.display.Markdown object>"
      ]
     },
     "metadata": {},
     "output_type": "display_data"
    },
    {
     "data": {
      "text/markdown": [
       "360: eller været mig vanskeligere at forstaa ; men <span style='color:red'>jeg</span> <span style='color:red'>er</span> vis paa , at det ikke"
      ],
      "text/plain": [
       "<IPython.core.display.Markdown object>"
      ]
     },
     "metadata": {},
     "output_type": "display_data"
    },
    {
     "data": {
      "text/markdown": [
       "371: se at komme isæng før 11 , da <span style='color:red'>jeg</span> <span style='color:red'>er</span> saa træt idag . Velkommen snart"
      ],
      "text/plain": [
       "<IPython.core.display.Markdown object>"
      ]
     },
     "metadata": {},
     "output_type": "display_data"
    },
    {
     "data": {
      "text/markdown": [
       "388: . Du har sat Dig i Hovedet at <span style='color:red'>jeg</span> <span style='color:red'>er</span> en Huggeblok , og at jeg"
      ],
      "text/plain": [
       "<IPython.core.display.Markdown object>"
      ]
     },
     "metadata": {},
     "output_type": "display_data"
    },
    {
     "data": {
      "text/markdown": [
       "400: <span style='color:red'>jeg</span> ikke være Huleboer ? Det <span style='color:red'>er</span> det <span style='color:red'>jeg</span> <span style='color:red'>er</span> skabt til . Heroppe <span style='color:red'>er</span> det"
      ],
      "text/plain": [
       "<IPython.core.display.Markdown object>"
      ]
     },
     "metadata": {},
     "output_type": "display_data"
    },
    {
     "data": {
      "text/markdown": [
       "403: for Vinteren . Skjæld mig ud , fordi <span style='color:red'>jeg</span> <span style='color:red'>er</span> saa slap og lei ( skjønt"
      ],
      "text/plain": [
       "<IPython.core.display.Markdown object>"
      ]
     },
     "metadata": {},
     "output_type": "display_data"
    },
    {
     "data": {
      "text/markdown": [
       "433: seede paa den Maade , og <span style='color:red'>jeg</span> synes <span style='color:red'>jeg</span> <span style='color:red'>er</span> kommen nærmere Lyset og det høieste"
      ],
      "text/plain": [
       "<IPython.core.display.Markdown object>"
      ]
     },
     "metadata": {},
     "output_type": "display_data"
    },
    {
     "data": {
      "text/markdown": [
       "433: som egentlig bare <span style='color:red'>er</span> det enfoldigste . Og <span style='color:red'>jeg</span> <span style='color:red'>er</span> virkelig glad , naar nogen siger"
      ],
      "text/plain": [
       "<IPython.core.display.Markdown object>"
      ]
     },
     "metadata": {},
     "output_type": "display_data"
    },
    {
     "data": {
      "text/markdown": [
       "434: En af Dagene kanske faar Du høre at <span style='color:red'>jeg</span> <span style='color:red'>er</span> væk – har vovet et nyt"
      ],
      "text/plain": [
       "<IPython.core.display.Markdown object>"
      ]
     },
     "metadata": {},
     "output_type": "display_data"
    },
    {
     "data": {
      "text/markdown": [
       "434: Vær imidlertid snil og tag mig for den <span style='color:red'>jeg</span> <span style='color:red'>er</span> , og vær flink til PariserudstillingenPariserudstillingen"
      ],
      "text/plain": [
       "<IPython.core.display.Markdown object>"
      ]
     },
     "metadata": {},
     "output_type": "display_data"
    },
    {
     "data": {
      "text/markdown": [
       "#### NBkilder_KKielland_DSkavlan_brev.xml"
      ],
      "text/plain": [
       "<IPython.core.display.Markdown object>"
      ]
     },
     "metadata": {},
     "output_type": "display_data"
    },
    {
     "data": {
      "text/markdown": [
       "25: maleriet hun fikk antatt i 1881 . Hvorfor <span style='color:red'>jeg</span> <span style='color:red'>er</span> idag i meget slet humeur ."
      ],
      "text/plain": [
       "<IPython.core.display.Markdown object>"
      ]
     },
     "metadata": {},
     "output_type": "display_data"
    },
    {
     "data": {
      "text/markdown": [
       "43: Kitty og Dagmar . Du synes kanske , <span style='color:red'>jeg</span> <span style='color:red'>er</span> lidt vigtig , men det har"
      ],
      "text/plain": [
       "<IPython.core.display.Markdown object>"
      ]
     },
     "metadata": {},
     "output_type": "display_data"
    },
    {
     "data": {
      "text/markdown": [
       "47: . Søster av Kitty og Dagmar . og <span style='color:red'>jeg</span> <span style='color:red'>er</span> begyndt at skrive om , at"
      ],
      "text/plain": [
       "<IPython.core.display.Markdown object>"
      ]
     },
     "metadata": {},
     "output_type": "display_data"
    },
    {
     "data": {
      "text/markdown": [
       "51: hermed ogsaa antyde Magda og sige , hvad <span style='color:red'>jeg</span> <span style='color:red'>er</span> komme til at tro om hende"
      ],
      "text/plain": [
       "<IPython.core.display.Markdown object>"
      ]
     },
     "metadata": {},
     "output_type": "display_data"
    },
    {
     "data": {
      "text/markdown": [
       "57: til nogen , kjære dig , synes du <span style='color:red'>jeg</span> <span style='color:red'>er</span> ukvindelig , saa sig det ,"
      ],
      "text/plain": [
       "<IPython.core.display.Markdown object>"
      ]
     },
     "metadata": {},
     "output_type": "display_data"
    },
    {
     "data": {
      "text/markdown": [
       "57: <span style='color:red'>jeg</span> <span style='color:red'>er</span> ukvindelig , saa sig det , <span style='color:red'>jeg</span> <span style='color:red'>er</span> saa fyldt af den Sorg ,"
      ],
      "text/plain": [
       "<IPython.core.display.Markdown object>"
      ]
     },
     "metadata": {},
     "output_type": "display_data"
    },
    {
     "data": {
      "text/markdown": [
       "57: efter min Mening demoraliserende Ægteskab . Ja Dagmar <span style='color:red'>jeg</span> <span style='color:red'>er</span> næsten kommen til at den ugifte"
      ],
      "text/plain": [
       "<IPython.core.display.Markdown object>"
      ]
     },
     "metadata": {},
     "output_type": "display_data"
    },
    {
     "data": {
      "text/markdown": [
       "58: du Mændene <span style='color:red'>er</span> morsomme at tale med og <span style='color:red'>jeg</span> <span style='color:red'>er</span> mangen Gang meget indtaget i Øieblikket"
      ],
      "text/plain": [
       "<IPython.core.display.Markdown object>"
      ]
     },
     "metadata": {},
     "output_type": "display_data"
    },
    {
     "data": {
      "text/markdown": [
       "72: var blævet vred over mit lange brev – <span style='color:red'>jeg</span> <span style='color:red'>er</span> en kujon ser Du . At"
      ],
      "text/plain": [
       "<IPython.core.display.Markdown object>"
      ]
     },
     "metadata": {},
     "output_type": "display_data"
    },
    {
     "data": {
      "text/markdown": [
       "76: andre , <span style='color:red'>jeg</span> tror , at ens eget <span style='color:red'>jeg</span> <span style='color:red'>er</span> det vigtigste for en selv ,"
      ],
      "text/plain": [
       "<IPython.core.display.Markdown object>"
      ]
     },
     "metadata": {},
     "output_type": "display_data"
    },
    {
     "data": {
      "text/markdown": [
       "76: men det <span style='color:red'>er</span> ækelt at føle , at <span style='color:red'>jeg</span> <span style='color:red'>er</span> saa lidet frisk , at jeg"
      ],
      "text/plain": [
       "<IPython.core.display.Markdown object>"
      ]
     },
     "metadata": {},
     "output_type": "display_data"
    },
    {
     "data": {
      "text/markdown": [
       "78: <span style='color:red'>er</span> hyggeligt at de kommer herud , men <span style='color:red'>jeg</span> <span style='color:red'>er</span> lidt bange for at <span style='color:red'>jeg</span> efter"
      ],
      "text/plain": [
       "<IPython.core.display.Markdown object>"
      ]
     },
     "metadata": {},
     "output_type": "display_data"
    },
    {
     "data": {
      "text/markdown": [
       "85: noksaa skral , hun misunder mig næsten at <span style='color:red'>jeg</span> <span style='color:red'>er</span> saa frisk eller rettere ønsker det"
      ],
      "text/plain": [
       "<IPython.core.display.Markdown object>"
      ]
     },
     "metadata": {},
     "output_type": "display_data"
    },
    {
     "data": {
      "text/markdown": [
       "106: "
      ],
      "text/plain": [
       "<IPython.core.display.Markdown object>"
      ]
     },
     "metadata": {},
     "output_type": "display_data"
    },
    {
     "data": {
      "text/markdown": [
       "106: Laache ( 1867 – 1946 ) . og <span style='color:red'>jeg</span> <span style='color:red'>er</span> altid sammen , hun maa leve"
      ],
      "text/plain": [
       "<IPython.core.display.Markdown object>"
      ]
     },
     "metadata": {},
     "output_type": "display_data"
    },
    {
     "data": {
      "text/markdown": [
       "#### NBkilder_KKielland_EPeterssen_brev.xml"
      ],
      "text/plain": [
       "<IPython.core.display.Markdown object>"
      ]
     },
     "metadata": {},
     "output_type": "display_data"
    },
    {
     "data": {
      "text/markdown": [
       "2: <span style='color:red'>jeg</span> kan saa vanskelig være skarpretter , og <span style='color:red'>jeg</span> <span style='color:red'>er</span> ikke kritisk , ved de ?"
      ],
      "text/plain": [
       "<IPython.core.display.Markdown object>"
      ]
     },
     "metadata": {},
     "output_type": "display_data"
    },
    {
     "data": {
      "text/markdown": [
       "13: paa jernbanen vilde ikke tage imod dem , <span style='color:red'>jeg</span> <span style='color:red'>er</span> overbevist om , at det var"
      ],
      "text/plain": [
       "<IPython.core.display.Markdown object>"
      ]
     },
     "metadata": {},
     "output_type": "display_data"
    },
    {
     "data": {
      "text/markdown": [
       "19: studier , men det kan godt være , <span style='color:red'>jeg</span> <span style='color:red'>er</span> kommet ind paa noget andet nu"
      ],
      "text/plain": [
       "<IPython.core.display.Markdown object>"
      ]
     },
     "metadata": {},
     "output_type": "display_data"
    },
    {
     "data": {
      "text/markdown": [
       "27: "
      ],
      "text/plain": [
       "<IPython.core.display.Markdown object>"
      ]
     },
     "metadata": {},
     "output_type": "display_data"
    },
    {
     "data": {
      "text/markdown": [
       "29: <span style='color:red'>jeg</span> faa nok at gjøre . Men hvor <span style='color:red'>jeg</span> <span style='color:red'>er</span> ynkelig , det <span style='color:red'>er</span> rent komisk"
      ],
      "text/plain": [
       "<IPython.core.display.Markdown object>"
      ]
     },
     "metadata": {},
     "output_type": "display_data"
    },
    {
     "data": {
      "text/markdown": [
       "51: , om det <span style='color:red'>er</span> lykkedes eller ei ; <span style='color:red'>jeg</span> <span style='color:red'>er</span> bleven fêteret , intviteret – kort"
      ],
      "text/plain": [
       "<IPython.core.display.Markdown object>"
      ]
     },
     "metadata": {},
     "output_type": "display_data"
    },
    {
     "data": {
      "text/markdown": [
       "68: alle Folk tror at <span style='color:red'>jeg</span> morer , og <span style='color:red'>jeg</span> <span style='color:red'>er</span> altfor – ja <span style='color:red'>jeg</span> ved ikke"
      ],
      "text/plain": [
       "<IPython.core.display.Markdown object>"
      ]
     },
     "metadata": {},
     "output_type": "display_data"
    },
    {
     "data": {
      "text/markdown": [
       "68: at ville forsøge at modbevise det . Og <span style='color:red'>jeg</span> <span style='color:red'>er</span> heller ikke frisk ; hoster skrækkeligt"
      ],
      "text/plain": [
       "<IPython.core.display.Markdown object>"
      ]
     },
     "metadata": {},
     "output_type": "display_data"
    },
    {
     "data": {
      "text/markdown": [
       "68: drømmer blandt meget Andet hver Nat , at <span style='color:red'>jeg</span> <span style='color:red'>er</span> på mit Atelier og arbeider ."
      ],
      "text/plain": [
       "<IPython.core.display.Markdown object>"
      ]
     },
     "metadata": {},
     "output_type": "display_data"
    },
    {
     "data": {
      "text/markdown": [
       "68: <span style='color:red'>er</span> Noget i Luften , som gjør at <span style='color:red'>jeg</span> <span style='color:red'>er</span> fuldstændig « tummelumsk » i Hovedet"
      ],
      "text/plain": [
       "<IPython.core.display.Markdown object>"
      ]
     },
     "metadata": {},
     "output_type": "display_data"
    },
    {
     "data": {
      "text/markdown": [
       "68: Jeg må ofte bebreide mig selv , at <span style='color:red'>jeg</span> <span style='color:red'>er</span> så lidet glad i at være"
      ],
      "text/plain": [
       "<IPython.core.display.Markdown object>"
      ]
     },
     "metadata": {},
     "output_type": "display_data"
    },
    {
     "data": {
      "text/markdown": [
       "89: at få det så på Atelieret , at <span style='color:red'>jeg</span> <span style='color:red'>er</span> helst der ; thi hvor opmærksomme"
      ],
      "text/plain": [
       "<IPython.core.display.Markdown object>"
      ]
     },
     "metadata": {},
     "output_type": "display_data"
    },
    {
     "data": {
      "text/markdown": [
       "89: ikke Alvor i Noget af det – men <span style='color:red'>jeg</span> <span style='color:red'>er</span> stygt bange for , at han"
      ],
      "text/plain": [
       "<IPython.core.display.Markdown object>"
      ]
     },
     "metadata": {},
     "output_type": "display_data"
    },
    {
     "data": {
      "text/markdown": [
       "93: ikke lad dem indvirke paa , undskyld at <span style='color:red'>jeg</span> <span style='color:red'>er</span> saa vigtig at sige det ."
      ],
      "text/plain": [
       "<IPython.core.display.Markdown object>"
      ]
     },
     "metadata": {},
     "output_type": "display_data"
    },
    {
     "data": {
      "text/markdown": [
       "95: 1906 ) , maler . om dette , <span style='color:red'>jeg</span> <span style='color:red'>er</span> gjerrig paa det , de andre"
      ],
      "text/plain": [
       "<IPython.core.display.Markdown object>"
      ]
     },
     "metadata": {},
     "output_type": "display_data"
    },
    {
     "data": {
      "text/markdown": [
       "95: paa det , de andre vare reiste , <span style='color:red'>jeg</span> <span style='color:red'>er</span> den eneste , som har seet"
      ],
      "text/plain": [
       "<IPython.core.display.Markdown object>"
      ]
     },
     "metadata": {},
     "output_type": "display_data"
    },
    {
     "data": {
      "text/markdown": [
       "114: have lidt af hende den sidste tid , <span style='color:red'>jeg</span> <span style='color:red'>er</span> her , dertil havde hun igaar"
      ],
      "text/plain": [
       "<IPython.core.display.Markdown object>"
      ]
     },
     "metadata": {},
     "output_type": "display_data"
    },
    {
     "data": {
      "text/markdown": [
       "117: sig udsletter dog vist ikke skrivekunsten , saa <span style='color:red'>jeg</span> <span style='color:red'>er</span> lidt fornærmet , men bare lidt"
      ],
      "text/plain": [
       "<IPython.core.display.Markdown object>"
      ]
     },
     "metadata": {},
     "output_type": "display_data"
    },
    {
     "data": {
      "text/markdown": [
       "119: « saa langt og ikke længre » , <span style='color:red'>jeg</span> <span style='color:red'>er</span> ydmyg , at <span style='color:red'>jeg</span> kan sige"
      ],
      "text/plain": [
       "<IPython.core.display.Markdown object>"
      ]
     },
     "metadata": {},
     "output_type": "display_data"
    },
    {
     "data": {
      "text/markdown": [
       "119: aar , altertavlen og Judas undtaget . Nei <span style='color:red'>jeg</span> <span style='color:red'>er</span> egentlig ikke istand til at skrive"
      ],
      "text/plain": [
       "<IPython.core.display.Markdown object>"
      ]
     },
     "metadata": {},
     "output_type": "display_data"
    },
    {
     "data": {
      "text/markdown": [
       "127: Holme-Egenes fra 1863. det <span style='color:red'>er</span> nok adresse , <span style='color:red'>jeg</span> <span style='color:red'>er</span> vis paa at han gjerne vil"
      ],
      "text/plain": [
       "<IPython.core.display.Markdown object>"
      ]
     },
     "metadata": {},
     "output_type": "display_data"
    },
    {
     "data": {
      "text/markdown": [
       "128: , <span style='color:red'>jeg</span> har virkelig giort fremskridt iaar , <span style='color:red'>jeg</span> <span style='color:red'>er</span> rent bange for mig selv ,"
      ],
      "text/plain": [
       "<IPython.core.display.Markdown object>"
      ]
     },
     "metadata": {},
     "output_type": "display_data"
    },
    {
     "data": {
      "text/markdown": [
       "128: , at det kan være sløvhed , at <span style='color:red'>jeg</span> <span style='color:red'>er</span> fornøiet med det , <span style='color:red'>jeg</span> giør"
      ],
      "text/plain": [
       "<IPython.core.display.Markdown object>"
      ]
     },
     "metadata": {},
     "output_type": "display_data"
    },
    {
     "data": {
      "text/markdown": [
       "151: og heftig modløshed , sig Harriet , at <span style='color:red'>jeg</span> <span style='color:red'>er</span> bedre idag ."
      ],
      "text/plain": [
       "<IPython.core.display.Markdown object>"
      ]
     },
     "metadata": {},
     "output_type": "display_data"
    },
    {
     "data": {
      "text/markdown": [
       "157: skulde finde Ting at male , men <span style='color:red'>jeg</span> jeg <span style='color:red'>er</span> bange for , at det er"
      ],
      "text/plain": [
       "<IPython.core.display.Markdown object>"
      ]
     },
     "metadata": {},
     "output_type": "display_data"
    },
    {
     "data": {
      "text/markdown": [
       "157: vilde gjerne tage imod os begge – men <span style='color:red'>jeg</span> <span style='color:red'>er</span> lidt bange for , at MorMor"
      ],
      "text/plain": [
       "<IPython.core.display.Markdown object>"
      ]
     },
     "metadata": {},
     "output_type": "display_data"
    },
    {
     "data": {
      "text/markdown": [
       "158: var reist ind til Stavanger imorgentidlig , men <span style='color:red'>jeg</span> <span style='color:red'>er</span> så bange for at komme op"
      ],
      "text/plain": [
       "<IPython.core.display.Markdown object>"
      ]
     },
     "metadata": {},
     "output_type": "display_data"
    },
    {
     "data": {
      "text/markdown": [
       "228: skulde kommet her igaar , men udeblev , <span style='color:red'>jeg</span> <span style='color:red'>er</span> ræd , VedaVeda ] Vedastine «"
      ],
      "text/plain": [
       "<IPython.core.display.Markdown object>"
      ]
     },
     "metadata": {},
     "output_type": "display_data"
    },
    {
     "data": {
      "text/markdown": [
       "230: han helst vilde ha altid hos sig , <span style='color:red'>jeg</span> <span style='color:red'>er</span> ofte med. Det kan ikke være"
      ],
      "text/plain": [
       "<IPython.core.display.Markdown object>"
      ]
     },
     "metadata": {},
     "output_type": "display_data"
    },
    {
     "data": {
      "text/markdown": [
       "235: "
      ],
      "text/plain": [
       "<IPython.core.display.Markdown object>"
      ]
     },
     "metadata": {},
     "output_type": "display_data"
    },
    {
     "data": {
      "text/markdown": [
       "250: kommet ind i det hele der , hvilket <span style='color:red'>jeg</span> <span style='color:red'>er</span> glad over , men derom kan"
      ],
      "text/plain": [
       "<IPython.core.display.Markdown object>"
      ]
     },
     "metadata": {},
     "output_type": "display_data"
    },
    {
     "data": {
      "text/markdown": [
       "#### NBkilder_Koren_1802.xml"
      ],
      "text/plain": [
       "<IPython.core.display.Markdown object>"
      ]
     },
     "metadata": {},
     "output_type": "display_data"
    },
    {
     "data": {
      "text/markdown": [
       "13: hun seer ) seer I , hvor lykkelig <span style='color:red'>jeg</span> <span style='color:red'>er</span> ! » Børnenes støjende vedvarende Glæde"
      ],
      "text/plain": [
       "<IPython.core.display.Markdown object>"
      ]
     },
     "metadata": {},
     "output_type": "display_data"
    },
    {
     "data": {
      "text/markdown": [
       "20: , <span style='color:red'>jeg</span> aldrig saae før , og som <span style='color:red'>jeg</span> <span style='color:red'>er</span> saa glad i at kiende –"
      ],
      "text/plain": [
       "<IPython.core.display.Markdown object>"
      ]
     },
     "metadata": {},
     "output_type": "display_data"
    },
    {
     "data": {
      "text/markdown": [
       "36: 7 . Jeg seer nok , saa længe <span style='color:red'>jeg</span> <span style='color:red'>er</span> i Kbhn bliver dette i egentligste"
      ],
      "text/plain": [
       "<IPython.core.display.Markdown object>"
      ]
     },
     "metadata": {},
     "output_type": "display_data"
    },
    {
     "data": {
      "text/markdown": [
       "74: Gud skee Lov , Søvnen hialp , og <span style='color:red'>jeg</span> <span style='color:red'>er</span> ganske brav paa lidt Mathed nær"
      ],
      "text/plain": [
       "<IPython.core.display.Markdown object>"
      ]
     },
     "metadata": {},
     "output_type": "display_data"
    },
    {
     "data": {
      "text/markdown": [
       "100: hvor alle ere mig saa kiære , hvor <span style='color:red'>jeg</span> <span style='color:red'>er</span> alle saa kiær !"
      ],
      "text/plain": [
       "<IPython.core.display.Markdown object>"
      ]
     },
     "metadata": {},
     "output_type": "display_data"
    },
    {
     "data": {
      "text/markdown": [
       "133: og vist aldrig lader mig mærke med , <span style='color:red'>jeg</span> <span style='color:red'>er</span> vant til at tale om andet"
      ],
      "text/plain": [
       "<IPython.core.display.Markdown object>"
      ]
     },
     "metadata": {},
     "output_type": "display_data"
    },
    {
     "data": {
      "text/markdown": [
       "174: Saabyes . Saaledes at flakke de sidste Dage <span style='color:red'>jeg</span> <span style='color:red'>er</span> her rent bort , <span style='color:red'>er</span> ej"
      ],
      "text/plain": [
       "<IPython.core.display.Markdown object>"
      ]
     },
     "metadata": {},
     "output_type": "display_data"
    },
    {
     "data": {
      "text/markdown": [
       "200: Saalænge <span style='color:red'>jeg</span> kan det , veed <span style='color:red'>jeg</span> , <span style='color:red'>jeg</span> <span style='color:red'>er</span> en lykkelig Moder –"
      ],
      "text/plain": [
       "<IPython.core.display.Markdown object>"
      ]
     },
     "metadata": {},
     "output_type": "display_data"
    },
    {
     "data": {
      "text/markdown": [
       "266: træt ."
      ],
      "text/plain": [
       "<IPython.core.display.Markdown object>"
      ]
     },
     "metadata": {},
     "output_type": "display_data"
    },
    {
     "data": {
      "text/markdown": [
       "275: været syg i Dag , meget syg – <span style='color:red'>jeg</span> <span style='color:red'>er</span> endnu ikke , og bliver vel"
      ],
      "text/plain": [
       "<IPython.core.display.Markdown object>"
      ]
     },
     "metadata": {},
     "output_type": "display_data"
    },
    {
     "data": {
      "text/markdown": [
       "406: af min Adolf . Men de veed , <span style='color:red'>jeg</span> <span style='color:red'>er</span> bedrøvet , og plager mig ikke"
      ],
      "text/plain": [
       "<IPython.core.display.Markdown object>"
      ]
     },
     "metadata": {},
     "output_type": "display_data"
    },
    {
     "data": {
      "text/markdown": [
       "430: til at lægge mig . Sara sover , <span style='color:red'>jeg</span> <span style='color:red'>er</span> altsaa overladt ganske til mig selv"
      ],
      "text/plain": [
       "<IPython.core.display.Markdown object>"
      ]
     },
     "metadata": {},
     "output_type": "display_data"
    },
    {
     "data": {
      "text/markdown": [
       "464: Reise , Gud skee evig Lov , at <span style='color:red'>jeg</span> <span style='color:red'>er</span> saa langt , at denne Dag"
      ],
      "text/plain": [
       "<IPython.core.display.Markdown object>"
      ]
     },
     "metadata": {},
     "output_type": "display_data"
    },
    {
     "data": {
      "text/markdown": [
       "535: Gud <span style='color:red'>er</span> Sandhed , synes bædre , end <span style='color:red'>jeg</span> <span style='color:red'>er</span> . Desuden <span style='color:red'>er</span> det jo vist"
      ],
      "text/plain": [
       "<IPython.core.display.Markdown object>"
      ]
     },
     "metadata": {},
     "output_type": "display_data"
    },
    {
     "data": {
      "text/markdown": [
       "#### NBkilder_Koren_1808.xml"
      ],
      "text/plain": [
       "<IPython.core.display.Markdown object>"
      ]
     },
     "metadata": {},
     "output_type": "display_data"
    },
    {
     "data": {
      "text/markdown": [
       "3: <span style='color:red'>jeg</span> sige Eder , Elskte , hvor naragtig <span style='color:red'>jeg</span> <span style='color:red'>er</span> ? <span style='color:red'>jeg</span> aabnede mine Øyne ,"
      ],
      "text/plain": [
       "<IPython.core.display.Markdown object>"
      ]
     },
     "metadata": {},
     "output_type": "display_data"
    },
    {
     "data": {
      "text/markdown": [
       "4: . Om hende siger <span style='color:red'>jeg</span> intet , fordi <span style='color:red'>jeg</span> <span style='color:red'>er</span> og var i lang Tiid indtaget"
      ],
      "text/plain": [
       "<IPython.core.display.Markdown object>"
      ]
     },
     "metadata": {},
     "output_type": "display_data"
    },
    {
     "data": {
      "text/markdown": [
       "37: , og at dette <span style='color:red'>er</span> sidste Dag , <span style='color:red'>jeg</span> <span style='color:red'>er</span> paa Strømsøe – denne Sinde –"
      ],
      "text/plain": [
       "<IPython.core.display.Markdown object>"
      ]
     },
     "metadata": {},
     "output_type": "display_data"
    },
    {
     "data": {
      "text/markdown": [
       "40: den ældre Verden . Handler han – som <span style='color:red'>jeg</span> <span style='color:red'>er</span> tilbøyelig til at troe – overeensstemmende"
      ],
      "text/plain": [
       "<IPython.core.display.Markdown object>"
      ]
     },
     "metadata": {},
     "output_type": "display_data"
    },
    {
     "data": {
      "text/markdown": [
       "42: naar <span style='color:red'>jeg</span> taler med Døttrene mine , som <span style='color:red'>jeg</span> <span style='color:red'>er</span> saa bange for at skiule en"
      ],
      "text/plain": [
       "<IPython.core.display.Markdown object>"
      ]
     },
     "metadata": {},
     "output_type": "display_data"
    },
    {
     "data": {
      "text/markdown": [
       "58: "
      ],
      "text/plain": [
       "<IPython.core.display.Markdown object>"
      ]
     },
     "metadata": {},
     "output_type": "display_data"
    },
    {
     "data": {
      "text/markdown": [
       "143: fatte mig lidt forinden , og fordi – <span style='color:red'>jeg</span> <span style='color:red'>er</span> nyfigen i min Johan og min"
      ],
      "text/plain": [
       "<IPython.core.display.Markdown object>"
      ]
     },
     "metadata": {},
     "output_type": "display_data"
    },
    {
     "data": {
      "text/markdown": [
       "150: vil man mere af en Romanforfatter ? Men <span style='color:red'>jeg</span> <span style='color:red'>er</span> virkelig doven i Dag paa mit"
      ],
      "text/plain": [
       "<IPython.core.display.Markdown object>"
      ]
     },
     "metadata": {},
     "output_type": "display_data"
    },
    {
     "data": {
      "text/markdown": [
       "219: "
      ],
      "text/plain": [
       "<IPython.core.display.Markdown object>"
      ]
     },
     "metadata": {},
     "output_type": "display_data"
    },
    {
     "data": {
      "text/markdown": [
       "301: , hvori der <span style='color:red'>er</span> saa mange deylige , <span style='color:red'>jeg</span> <span style='color:red'>er</span> nesten fristet til at sige jeanpaulsk"
      ],
      "text/plain": [
       "<IPython.core.display.Markdown object>"
      ]
     },
     "metadata": {},
     "output_type": "display_data"
    },
    {
     "data": {
      "text/markdown": [
       "363: blive stort anderledes i al den Tiid , <span style='color:red'>jeg</span> <span style='color:red'>er</span> her . Vi saae ikke hverandre"
      ],
      "text/plain": [
       "<IPython.core.display.Markdown object>"
      ]
     },
     "metadata": {},
     "output_type": "display_data"
    },
    {
     "data": {
      "text/markdown": [
       "372: , Falsen var der rigtig nok , og <span style='color:red'>jeg</span> <span style='color:red'>er</span> altsaa nu 4 ß rigere ,"
      ],
      "text/plain": [
       "<IPython.core.display.Markdown object>"
      ]
     },
     "metadata": {},
     "output_type": "display_data"
    },
    {
     "data": {
      "text/markdown": [
       "379: , før hun faaer mit Brev , at <span style='color:red'>jeg</span> <span style='color:red'>er</span> uskyldig i hendes feylslagne Forventning ."
      ],
      "text/plain": [
       "<IPython.core.display.Markdown object>"
      ]
     },
     "metadata": {},
     "output_type": "display_data"
    },
    {
     "data": {
      "text/markdown": [
       "386: paa , at hiemsøge Præstens Boghylder , hvor <span style='color:red'>jeg</span> <span style='color:red'>er</span> vis paa at finde noget til"
      ],
      "text/plain": [
       "<IPython.core.display.Markdown object>"
      ]
     },
     "metadata": {},
     "output_type": "display_data"
    },
    {
     "data": {
      "text/markdown": [
       "393: de. Nu tænker I , elskede Venner ! <span style='color:red'>jeg</span> <span style='color:red'>er</span> her for at sige Eder Farvel"
      ],
      "text/plain": [
       "<IPython.core.display.Markdown object>"
      ]
     },
     "metadata": {},
     "output_type": "display_data"
    },
    {
     "data": {
      "text/markdown": [
       "446: min Maja , og Egerbarna det ; men <span style='color:red'>jeg</span> <span style='color:red'>er</span> harm over , at det Bud"
      ],
      "text/plain": [
       "<IPython.core.display.Markdown object>"
      ]
     },
     "metadata": {},
     "output_type": "display_data"
    },
    {
     "data": {
      "text/markdown": [
       "497: "
      ],
      "text/plain": [
       "<IPython.core.display.Markdown object>"
      ]
     },
     "metadata": {},
     "output_type": "display_data"
    },
    {
     "data": {
      "text/markdown": [
       "500: » sagde Melin i Dag , « for <span style='color:red'>jeg</span> <span style='color:red'>er</span> saa besynderlig mat » I det"
      ],
      "text/plain": [
       "<IPython.core.display.Markdown object>"
      ]
     },
     "metadata": {},
     "output_type": "display_data"
    },
    {
     "data": {
      "text/markdown": [
       "509: syg , og Lottamoer saa ængstelig , og <span style='color:red'>jeg</span> <span style='color:red'>er</span> saa ængstelig , baade over hvad"
      ],
      "text/plain": [
       "<IPython.core.display.Markdown object>"
      ]
     },
     "metadata": {},
     "output_type": "display_data"
    },
    {
     "data": {
      "text/markdown": [
       "558: . En Aarsag mere til den mørke Stemning <span style='color:red'>jeg</span> <span style='color:red'>er</span> i , og vi alle ved"
      ],
      "text/plain": [
       "<IPython.core.display.Markdown object>"
      ]
     },
     "metadata": {},
     "output_type": "display_data"
    },
    {
     "data": {
      "text/markdown": [
       "617: De kan troe , kiære Moer Koren , <span style='color:red'>jeg</span> <span style='color:red'>er</span> færdig at fraraade alle unge Mennesker"
      ],
      "text/plain": [
       "<IPython.core.display.Markdown object>"
      ]
     },
     "metadata": {},
     "output_type": "display_data"
    },
    {
     "data": {
      "text/markdown": [
       "707: ned i en saa kaldet Fiskerhytte , som <span style='color:red'>jeg</span> <span style='color:red'>er</span> stærkt fristet til at holde for"
      ],
      "text/plain": [
       "<IPython.core.display.Markdown object>"
      ]
     },
     "metadata": {},
     "output_type": "display_data"
    },
    {
     "data": {
      "text/markdown": [
       "784: . Det <span style='color:red'>er</span> et himmelskt Veyr , og <span style='color:red'>jeg</span> <span style='color:red'>er</span> efter denne lille Gang , skiøndt"
      ],
      "text/plain": [
       "<IPython.core.display.Markdown object>"
      ]
     },
     "metadata": {},
     "output_type": "display_data"
    },
    {
     "data": {
      "text/markdown": [
       "786: , og disse endda ikke styrkende . Nu <span style='color:red'>jeg</span> <span style='color:red'>er</span> kommet op , føler <span style='color:red'>jeg</span> mindre"
      ],
      "text/plain": [
       "<IPython.core.display.Markdown object>"
      ]
     },
     "metadata": {},
     "output_type": "display_data"
    },
    {
     "data": {
      "text/markdown": [
       "#### NBkilder_Koren_1809.xml"
      ],
      "text/plain": [
       "<IPython.core.display.Markdown object>"
      ]
     },
     "metadata": {},
     "output_type": "display_data"
    },
    {
     "data": {
      "text/markdown": [
       "50: Gaar Nat , Sneefog og Storm , og <span style='color:red'>jeg</span> <span style='color:red'>er</span> mismodig over at see mit Forsæt"
      ],
      "text/plain": [
       "<IPython.core.display.Markdown object>"
      ]
     },
     "metadata": {},
     "output_type": "display_data"
    },
    {
     "data": {
      "text/markdown": [
       "52: gode , kiærlige , strænge Fader deroppe , <span style='color:red'>jeg</span> <span style='color:red'>er</span> ikke uskiønsom ! Jeg <span style='color:red'>er</span> ikke"
      ],
      "text/plain": [
       "<IPython.core.display.Markdown object>"
      ]
     },
     "metadata": {},
     "output_type": "display_data"
    },
    {
     "data": {
      "text/markdown": [
       "66: mig Venskab og Ømhed , saa lidt som <span style='color:red'>jeg</span> <span style='color:red'>er</span> urimelig nok til at fordre eller"
      ],
      "text/plain": [
       "<IPython.core.display.Markdown object>"
      ]
     },
     "metadata": {},
     "output_type": "display_data"
    },
    {
     "data": {
      "text/markdown": [
       "92: han , naar de seer mig , at <span style='color:red'>jeg</span> <span style='color:red'>er</span> en lille Stoerkar » –"
      ],
      "text/plain": [
       "<IPython.core.display.Markdown object>"
      ]
     },
     "metadata": {},
     "output_type": "display_data"
    },
    {
     "data": {
      "text/markdown": [
       "107: Ja , det var voldsomme Stød – men <span style='color:red'>jeg</span> <span style='color:red'>er</span> stærk . Sørg ikke , I"
      ],
      "text/plain": [
       "<IPython.core.display.Markdown object>"
      ]
     },
     "metadata": {},
     "output_type": "display_data"
    },
    {
     "data": {
      "text/markdown": [
       "138: finde det underligt , mine Dyrebare , at <span style='color:red'>jeg</span> <span style='color:red'>er</span> tungere om Hiertet end sædvanligt ."
      ],
      "text/plain": [
       "<IPython.core.display.Markdown object>"
      ]
     },
     "metadata": {},
     "output_type": "display_data"
    },
    {
     "data": {
      "text/markdown": [
       "282: Dage at skrive . Jeg veed ikke hvordan <span style='color:red'>jeg</span> <span style='color:red'>er</span> . Jeg spiser , drikker og"
      ],
      "text/plain": [
       "<IPython.core.display.Markdown object>"
      ]
     },
     "metadata": {},
     "output_type": "display_data"
    },
    {
     "data": {
      "text/markdown": [
       "291: neste Gang i Vente fra hende . Men <span style='color:red'>jeg</span> <span style='color:red'>er</span> saa vant til at see de"
      ],
      "text/plain": [
       "<IPython.core.display.Markdown object>"
      ]
     },
     "metadata": {},
     "output_type": "display_data"
    },
    {
     "data": {
      "text/markdown": [
       "303: om <span style='color:red'>jeg</span> end vilde og torde . Men <span style='color:red'>jeg</span> <span style='color:red'>er</span> mindre frisk i Dag , end"
      ],
      "text/plain": [
       "<IPython.core.display.Markdown object>"
      ]
     },
     "metadata": {},
     "output_type": "display_data"
    },
    {
     "data": {
      "text/markdown": [
       "306: var ikke frisk – de brave Chrysties ( <span style='color:red'>jeg</span> <span style='color:red'>er</span> von paa Futen , som kun"
      ],
      "text/plain": [
       "<IPython.core.display.Markdown object>"
      ]
     },
     "metadata": {},
     "output_type": "display_data"
    },
    {
     "data": {
      "text/markdown": [
       "316: <span style='color:red'>jeg</span> troer – thi endnu sover alle – <span style='color:red'>jeg</span> <span style='color:red'>er</span> tidlig paa færde – Lehnsmand Riis"
      ],
      "text/plain": [
       "<IPython.core.display.Markdown object>"
      ]
     },
     "metadata": {},
     "output_type": "display_data"
    },
    {
     "data": {
      "text/markdown": [
       "388: her saa seent , mine Elskede ! Men <span style='color:red'>jeg</span> <span style='color:red'>er</span> meget for Orden , som I"
      ],
      "text/plain": [
       "<IPython.core.display.Markdown object>"
      ]
     },
     "metadata": {},
     "output_type": "display_data"
    },
    {
     "data": {
      "text/markdown": [
       "549: "
      ],
      "text/plain": [
       "<IPython.core.display.Markdown object>"
      ]
     },
     "metadata": {},
     "output_type": "display_data"
    },
    {
     "data": {
      "text/markdown": [
       "551: de Velsignede , at vise mig hvor kiær <span style='color:red'>jeg</span> <span style='color:red'>er</span> dem , hvor giærne de vilde"
      ],
      "text/plain": [
       "<IPython.core.display.Markdown object>"
      ]
     },
     "metadata": {},
     "output_type": "display_data"
    },
    {
     "data": {
      "text/markdown": [
       "582: hvad skulde kunde glæde det mere ? Men <span style='color:red'>jeg</span> <span style='color:red'>er</span> meget syg i Dag , sygere"
      ],
      "text/plain": [
       "<IPython.core.display.Markdown object>"
      ]
     },
     "metadata": {},
     "output_type": "display_data"
    },
    {
     "data": {
      "text/markdown": [
       "616: ofte <span style='color:red'>er</span> ligesaa længe mellem hver Gang , <span style='color:red'>jeg</span> <span style='color:red'>er</span> der . Men saa <span style='color:red'>er</span> jeg"
      ],
      "text/plain": [
       "<IPython.core.display.Markdown object>"
      ]
     },
     "metadata": {},
     "output_type": "display_data"
    },
    {
     "data": {
      "text/markdown": [
       "634: De ikke , de velsignede Tøyenmennesker . Men <span style='color:red'>jeg</span> <span style='color:red'>er</span> derved , seer <span style='color:red'>jeg</span> , kommet"
      ],
      "text/plain": [
       "<IPython.core.display.Markdown object>"
      ]
     },
     "metadata": {},
     "output_type": "display_data"
    },
    {
     "data": {
      "text/markdown": [
       "643: , efter al Formodning , <span style='color:red'>er</span> sidste Gang <span style='color:red'>jeg</span> <span style='color:red'>er</span> i Hurdalen , vist sidste Gang"
      ],
      "text/plain": [
       "<IPython.core.display.Markdown object>"
      ]
     },
     "metadata": {},
     "output_type": "display_data"
    },
    {
     "data": {
      "text/markdown": [
       "703: var nogen , var stoer Trøst . Men <span style='color:red'>jeg</span> <span style='color:red'>er</span> slet ikke frisk faaer ingen qvægsom"
      ],
      "text/plain": [
       "<IPython.core.display.Markdown object>"
      ]
     },
     "metadata": {},
     "output_type": "display_data"
    },
    {
     "data": {
      "text/markdown": [
       "708: uden hendes Tab og hendes Broders . Men <span style='color:red'>jeg</span> <span style='color:red'>er</span> ret meget syg , og for"
      ],
      "text/plain": [
       "<IPython.core.display.Markdown object>"
      ]
     },
     "metadata": {},
     "output_type": "display_data"
    },
    {
     "data": {
      "text/markdown": [
       "754: Dag ? Moer vor ! » Ja , <span style='color:red'>jeg</span> <span style='color:red'>er</span> det , og vilde være det"
      ],
      "text/plain": [
       "<IPython.core.display.Markdown object>"
      ]
     },
     "metadata": {},
     "output_type": "display_data"
    },
    {
     "data": {
      "text/markdown": [
       "879: grumme lang Tiid nesten hver Nat drømmer at <span style='color:red'>jeg</span> <span style='color:red'>er</span> ung , undertiden Barn , og"
      ],
      "text/plain": [
       "<IPython.core.display.Markdown object>"
      ]
     },
     "metadata": {},
     "output_type": "display_data"
    },
    {
     "data": {
      "text/markdown": [
       "879: selvsamme Forhold , som nu ? Saadan som <span style='color:red'>jeg</span> <span style='color:red'>er</span> i Vane med at drømme ,"
      ],
      "text/plain": [
       "<IPython.core.display.Markdown object>"
      ]
     },
     "metadata": {},
     "output_type": "display_data"
    },
    {
     "data": {
      "text/markdown": [
       "880: at <span style='color:red'>jeg</span> kunde male ham . Men naa <span style='color:red'>jeg</span> <span style='color:red'>er</span> der , skiænder <span style='color:red'>jeg</span> ikke paa"
      ],
      "text/plain": [
       "<IPython.core.display.Markdown object>"
      ]
     },
     "metadata": {},
     "output_type": "display_data"
    },
    {
     "data": {
      "text/markdown": [
       "888: Ungerne mine , og Gud skee Lov , <span style='color:red'>jeg</span> <span style='color:red'>er</span> her , og at de alle"
      ],
      "text/plain": [
       "<IPython.core.display.Markdown object>"
      ]
     },
     "metadata": {},
     "output_type": "display_data"
    },
    {
     "data": {
      "text/markdown": [
       "905: har giort mig en trediedeel ældre , end <span style='color:red'>jeg</span> <span style='color:red'>er</span> ."
      ],
      "text/plain": [
       "<IPython.core.display.Markdown object>"
      ]
     },
     "metadata": {},
     "output_type": "display_data"
    },
    {
     "data": {
      "text/markdown": [
       "949: Elskelige , engang for alle , hvor vel <span style='color:red'>jeg</span> <span style='color:red'>er</span> der . Nu savnede <span style='color:red'>jeg</span> rigtig"
      ],
      "text/plain": [
       "<IPython.core.display.Markdown object>"
      ]
     },
     "metadata": {},
     "output_type": "display_data"
    },
    {
     "data": {
      "text/markdown": [
       "978: Moer Koren igien . Det <span style='color:red'>er</span> kun her <span style='color:red'>jeg</span> <span style='color:red'>er</span> og kan og bør være ganske"
      ],
      "text/plain": [
       "<IPython.core.display.Markdown object>"
      ]
     },
     "metadata": {},
     "output_type": "display_data"
    },
    {
     "data": {
      "text/markdown": [
       "#### NBkilder_Koren_1810.xml"
      ],
      "text/plain": [
       "<IPython.core.display.Markdown object>"
      ]
     },
     "metadata": {},
     "output_type": "display_data"
    },
    {
     "data": {
      "text/markdown": [
       "35: <span style='color:red'>er</span> færm igien , skiøndt mat , og <span style='color:red'>jeg</span> <span style='color:red'>er</span> færm og ikke mat , skiøndt"
      ],
      "text/plain": [
       "<IPython.core.display.Markdown object>"
      ]
     },
     "metadata": {},
     "output_type": "display_data"
    },
    {
     "data": {
      "text/markdown": [
       "61: Følelse : at holdes for bædre , end <span style='color:red'>jeg</span> <span style='color:red'>er</span> . Det <span style='color:red'>er</span> alt for ofte"
      ],
      "text/plain": [
       "<IPython.core.display.Markdown object>"
      ]
     },
     "metadata": {},
     "output_type": "display_data"
    },
    {
     "data": {
      "text/markdown": [
       "64: "
      ],
      "text/plain": [
       "<IPython.core.display.Markdown object>"
      ]
     },
     "metadata": {},
     "output_type": "display_data"
    },
    {
     "data": {
      "text/markdown": [
       "109: Moer Borchsenius . Tænk Eder da , om <span style='color:red'>jeg</span> <span style='color:red'>er</span> glad i hende . Hofmann vinder"
      ],
      "text/plain": [
       "<IPython.core.display.Markdown object>"
      ]
     },
     "metadata": {},
     "output_type": "display_data"
    },
    {
     "data": {
      "text/markdown": [
       "183: oplagt hertil i Dag , og saa længe <span style='color:red'>jeg</span> <span style='color:red'>er</span> det , ærgrer <span style='color:red'>jeg</span> mig ikke"
      ],
      "text/plain": [
       "<IPython.core.display.Markdown object>"
      ]
     },
     "metadata": {},
     "output_type": "display_data"
    },
    {
     "data": {
      "text/markdown": [
       "222: "
      ],
      "text/plain": [
       "<IPython.core.display.Markdown object>"
      ]
     },
     "metadata": {},
     "output_type": "display_data"
    },
    {
     "data": {
      "text/markdown": [
       "266: ud . O ! bliv dog frisk mens <span style='color:red'>jeg</span> <span style='color:red'>er</span> her !"
      ],
      "text/plain": [
       "<IPython.core.display.Markdown object>"
      ]
     },
     "metadata": {},
     "output_type": "display_data"
    },
    {
     "data": {
      "text/markdown": [
       "268: » sagde <span style='color:red'>jeg</span> . « Mener De , <span style='color:red'>jeg</span> <span style='color:red'>er</span> en Hader af Fruentimmer , fordi"
      ],
      "text/plain": [
       "<IPython.core.display.Markdown object>"
      ]
     },
     "metadata": {},
     "output_type": "display_data"
    },
    {
     "data": {
      "text/markdown": [
       "269: brødefulde Bye , og kommer ey igien mens <span style='color:red'>jeg</span> <span style='color:red'>er</span> her . Min lille Pige henter"
      ],
      "text/plain": [
       "<IPython.core.display.Markdown object>"
      ]
     },
     "metadata": {},
     "output_type": "display_data"
    },
    {
     "data": {
      "text/markdown": [
       "310: Ethvert Blik , enhver Bevægelse siger : « <span style='color:red'>jeg</span> <span style='color:red'>er</span> saa usigelig lykkelig » – Der"
      ],
      "text/plain": [
       "<IPython.core.display.Markdown object>"
      ]
     },
     "metadata": {},
     "output_type": "display_data"
    },
    {
     "data": {
      "text/markdown": [
       "311: har Walbohm bildt Barna her ind , at <span style='color:red'>jeg</span> <span style='color:red'>er</span> mat og svag , og at"
      ],
      "text/plain": [
       "<IPython.core.display.Markdown object>"
      ]
     },
     "metadata": {},
     "output_type": "display_data"
    },
    {
     "data": {
      "text/markdown": [
       "317: afsted . Jeg <span style='color:red'>er</span> ordentlig bædre tilmode siden <span style='color:red'>jeg</span> <span style='color:red'>er</span> vis paa , det skal afsted"
      ],
      "text/plain": [
       "<IPython.core.display.Markdown object>"
      ]
     },
     "metadata": {},
     "output_type": "display_data"
    },
    {
     "data": {
      "text/markdown": [
       "364: fordums Skik altiid blive liggende en Stund efter <span style='color:red'>jeg</span> <span style='color:red'>er</span> vaagnet , hvis <span style='color:red'>jeg</span> ikke vil"
      ],
      "text/plain": [
       "<IPython.core.display.Markdown object>"
      ]
     },
     "metadata": {},
     "output_type": "display_data"
    },
    {
     "data": {
      "text/markdown": [
       "384: sige Eder , mine Elskede , hvor ussel <span style='color:red'>jeg</span> <span style='color:red'>er</span> i Dag . Et Par Breve"
      ],
      "text/plain": [
       "<IPython.core.display.Markdown object>"
      ]
     },
     "metadata": {},
     "output_type": "display_data"
    },
    {
     "data": {
      "text/markdown": [
       "419: : « Og at <span style='color:red'>jeg</span> nu , da <span style='color:red'>jeg</span> <span style='color:red'>er</span> bædre og kiærligere , ikke har"
      ],
      "text/plain": [
       "<IPython.core.display.Markdown object>"
      ]
     },
     "metadata": {},
     "output_type": "display_data"
    },
    {
     "data": {
      "text/markdown": [
       "421: gudlige Væsen af det usle Støv . Naar <span style='color:red'>jeg</span> <span style='color:red'>er</span> saa mat og svag som jeg"
      ],
      "text/plain": [
       "<IPython.core.display.Markdown object>"
      ]
     },
     "metadata": {},
     "output_type": "display_data"
    },
    {
     "data": {
      "text/markdown": [
       "437: Gud veed , hvordan det <span style='color:red'>er</span> , at <span style='color:red'>jeg</span> <span style='color:red'>er</span> , at <span style='color:red'>jeg</span> kan være saa"
      ],
      "text/plain": [
       "<IPython.core.display.Markdown object>"
      ]
     },
     "metadata": {},
     "output_type": "display_data"
    },
    {
     "data": {
      "text/markdown": [
       "463: , og saa giorde <span style='color:red'>jeg</span> , som naar <span style='color:red'>jeg</span> <span style='color:red'>er</span> hiertelig bedrøvet , <span style='color:red'>jeg</span> trykkede det"
      ],
      "text/plain": [
       "<IPython.core.display.Markdown object>"
      ]
     },
     "metadata": {},
     "output_type": "display_data"
    },
    {
     "data": {
      "text/markdown": [
       "473: paa sønlig Kiærlighed . Min beste Tak veed <span style='color:red'>jeg</span> <span style='color:red'>er</span> den Vished , De ikke først"
      ],
      "text/plain": [
       "<IPython.core.display.Markdown object>"
      ]
     },
     "metadata": {},
     "output_type": "display_data"
    },
    {
     "data": {
      "text/markdown": [
       "477: først beroelige Eder med den Forsikring , at <span style='color:red'>jeg</span> <span style='color:red'>er</span> for saa vidt brav , kun"
      ],
      "text/plain": [
       "<IPython.core.display.Markdown object>"
      ]
     },
     "metadata": {},
     "output_type": "display_data"
    },
    {
     "data": {
      "text/markdown": [
       "507: <span style='color:red'>jeg</span> i Gaar , var oppe , som <span style='color:red'>jeg</span> <span style='color:red'>er</span> hver Dag naar <span style='color:red'>jeg</span> <span style='color:red'>er</span> frisk"
      ],
      "text/plain": [
       "<IPython.core.display.Markdown object>"
      ]
     },
     "metadata": {},
     "output_type": "display_data"
    },
    {
     "data": {
      "text/markdown": [
       "507: oppe , som <span style='color:red'>jeg</span> <span style='color:red'>er</span> hver Dag naar <span style='color:red'>jeg</span> <span style='color:red'>er</span> frisk , Kl 5 ½ ,"
      ],
      "text/plain": [
       "<IPython.core.display.Markdown object>"
      ]
     },
     "metadata": {},
     "output_type": "display_data"
    },
    {
     "data": {
      "text/markdown": [
       "545: "
      ],
      "text/plain": [
       "<IPython.core.display.Markdown object>"
      ]
     },
     "metadata": {},
     "output_type": "display_data"
    },
    {
     "data": {
      "text/markdown": [
       "556: ikke at lade den ubesøgt og uprydet mens <span style='color:red'>jeg</span> <span style='color:red'>er</span> borte ."
      ],
      "text/plain": [
       "<IPython.core.display.Markdown object>"
      ]
     },
     "metadata": {},
     "output_type": "display_data"
    },
    {
     "data": {
      "text/markdown": [
       "570: aldrig har seet mig før . Men naar <span style='color:red'>jeg</span> <span style='color:red'>er</span> saadan stemt , kan <span style='color:red'>jeg</span> umuelig"
      ],
      "text/plain": [
       "<IPython.core.display.Markdown object>"
      ]
     },
     "metadata": {},
     "output_type": "display_data"
    },
    {
     "data": {
      "text/markdown": [
       "576: der Du <span style='color:red'>er</span> ! Vær begge Dele som <span style='color:red'>jeg</span> <span style='color:red'>er</span> det i Dag ! Gud give"
      ],
      "text/plain": [
       "<IPython.core.display.Markdown object>"
      ]
     },
     "metadata": {},
     "output_type": "display_data"
    },
    {
     "data": {
      "text/markdown": [
       "576: ) og Thrinasara og Lotta og Lina og <span style='color:red'>jeg</span> <span style='color:red'>er</span> samlede ! Amen , det skee"
      ],
      "text/plain": [
       "<IPython.core.display.Markdown object>"
      ]
     },
     "metadata": {},
     "output_type": "display_data"
    },
    {
     "data": {
      "text/markdown": [
       "591: nok Forkiølelse , maaskee ogsaa Orm . Men <span style='color:red'>jeg</span> <span style='color:red'>er</span> selv rigtig træt og mat ."
      ],
      "text/plain": [
       "<IPython.core.display.Markdown object>"
      ]
     },
     "metadata": {},
     "output_type": "display_data"
    },
    {
     "data": {
      "text/markdown": [
       "605: de skiænder dernede – især Lotta – for <span style='color:red'>jeg</span> <span style='color:red'>er</span> saa længe borte . Det burde"
      ],
      "text/plain": [
       "<IPython.core.display.Markdown object>"
      ]
     },
     "metadata": {},
     "output_type": "display_data"
    },
    {
     "data": {
      "text/markdown": [
       "682: – ak og ikke første Gang – at <span style='color:red'>jeg</span> <span style='color:red'>er</span> ubillig mot mig selv og andre"
      ],
      "text/plain": [
       "<IPython.core.display.Markdown object>"
      ]
     },
     "metadata": {},
     "output_type": "display_data"
    },
    {
     "data": {
      "text/markdown": [
       "682: Maja eller Hertel tør <span style='color:red'>jeg</span> sige hvor bedrøvet <span style='color:red'>jeg</span> <span style='color:red'>er</span> , kun til min Koren ,"
      ],
      "text/plain": [
       "<IPython.core.display.Markdown object>"
      ]
     },
     "metadata": {},
     "output_type": "display_data"
    },
    {
     "data": {
      "text/markdown": [
       "704: bædre og beqvæmmere i alle Henseender , og <span style='color:red'>jeg</span> <span style='color:red'>er</span> tryggere . I al denne Forvirring"
      ],
      "text/plain": [
       "<IPython.core.display.Markdown object>"
      ]
     },
     "metadata": {},
     "output_type": "display_data"
    },
    {
     "data": {
      "text/markdown": [
       "770: , var <span style='color:red'>jeg</span> dog ængstligere da , end <span style='color:red'>jeg</span> <span style='color:red'>er</span> i Dag . Det <span style='color:red'>er</span> hans"
      ],
      "text/plain": [
       "<IPython.core.display.Markdown object>"
      ]
     },
     "metadata": {},
     "output_type": "display_data"
    },
    {
     "data": {
      "text/markdown": [
       "790: Men I skulde dog vide , hvor forfængelig <span style='color:red'>jeg</span> <span style='color:red'>er</span> i Søvne ( « ogsaa ?"
      ],
      "text/plain": [
       "<IPython.core.display.Markdown object>"
      ]
     },
     "metadata": {},
     "output_type": "display_data"
    },
    {
     "data": {
      "text/markdown": [
       "820: hiem uden al Fare og Skade , hvad <span style='color:red'>jeg</span> <span style='color:red'>er</span> fristet til at lade Hr Real"
      ],
      "text/plain": [
       "<IPython.core.display.Markdown object>"
      ]
     },
     "metadata": {},
     "output_type": "display_data"
    },
    {
     "data": {
      "text/markdown": [
       "828: velsignede Tøyen , som <span style='color:red'>jeg</span> længes efter naar <span style='color:red'>jeg</span> <span style='color:red'>er</span> borte fra det , som efter"
      ],
      "text/plain": [
       "<IPython.core.display.Markdown object>"
      ]
     },
     "metadata": {},
     "output_type": "display_data"
    },
    {
     "data": {
      "text/markdown": [
       "898: veed hvor <span style='color:red'>jeg</span> vil hen . Og hvor <span style='color:red'>jeg</span> <span style='color:red'>er</span> , og hvad <span style='color:red'>jeg</span> foretager mig"
      ],
      "text/plain": [
       "<IPython.core.display.Markdown object>"
      ]
     },
     "metadata": {},
     "output_type": "display_data"
    },
    {
     "data": {
      "text/markdown": [
       "898: , Lina og Kaja ikke undtagen ; men <span style='color:red'>jeg</span> <span style='color:red'>er</span> saa mat , at <span style='color:red'>jeg</span> neppe"
      ],
      "text/plain": [
       "<IPython.core.display.Markdown object>"
      ]
     },
     "metadata": {},
     "output_type": "display_data"
    },
    {
     "data": {
      "text/markdown": [
       "909: Jes maae allermindst faae Bogen , just fordi <span style='color:red'>jeg</span> <span style='color:red'>er</span> vis paa , den ikke vilde"
      ],
      "text/plain": [
       "<IPython.core.display.Markdown object>"
      ]
     },
     "metadata": {},
     "output_type": "display_data"
    },
    {
     "data": {
      "text/markdown": [
       "973: ! Vi skal til Bangs . Saa syg <span style='color:red'>jeg</span> <span style='color:red'>er</span> , Gud veed , <span style='color:red'>jeg</span> kan"
      ],
      "text/plain": [
       "<IPython.core.display.Markdown object>"
      ]
     },
     "metadata": {},
     "output_type": "display_data"
    },
    {
     "data": {
      "text/markdown": [
       "976: min , som min <span style='color:red'>er</span> Eders , som <span style='color:red'>jeg</span> <span style='color:red'>er</span> Eders Moer Koren ? ! –"
      ],
      "text/plain": [
       "<IPython.core.display.Markdown object>"
      ]
     },
     "metadata": {},
     "output_type": "display_data"
    },
    {
     "data": {
      "text/markdown": [
       "977: om <span style='color:red'>jeg</span> kan skiule det , hvor nedslagen <span style='color:red'>jeg</span> <span style='color:red'>er</span> –"
      ],
      "text/plain": [
       "<IPython.core.display.Markdown object>"
      ]
     },
     "metadata": {},
     "output_type": "display_data"
    },
    {
     "data": {
      "text/markdown": [
       "1012: « Min Kyse taer <span style='color:red'>jeg</span> ikke paa før <span style='color:red'>jeg</span> <span style='color:red'>er</span> kommet i Vognen » – sagde"
      ],
      "text/plain": [
       "<IPython.core.display.Markdown object>"
      ]
     },
     "metadata": {},
     "output_type": "display_data"
    },
    {
     "data": {
      "text/markdown": [
       "#### NBkilder_Koren_1811.xml"
      ],
      "text/plain": [
       "<IPython.core.display.Markdown object>"
      ]
     },
     "metadata": {},
     "output_type": "display_data"
    },
    {
     "data": {
      "text/markdown": [
       "7: – min Skriver skriver – Nytaarsvers , som <span style='color:red'>jeg</span> <span style='color:red'>er</span> vis paa mange , maaskee endog"
      ],
      "text/plain": [
       "<IPython.core.display.Markdown object>"
      ]
     },
     "metadata": {},
     "output_type": "display_data"
    },
    {
     "data": {
      "text/markdown": [
       "20: at tvivle om Udødeligheden – Følelsen af hvad <span style='color:red'>jeg</span> <span style='color:red'>er</span> Eder , I alle min Siæls"
      ],
      "text/plain": [
       "<IPython.core.display.Markdown object>"
      ]
     },
     "metadata": {},
     "output_type": "display_data"
    },
    {
     "data": {
      "text/markdown": [
       "22: "
      ],
      "text/plain": [
       "<IPython.core.display.Markdown object>"
      ]
     },
     "metadata": {},
     "output_type": "display_data"
    },
    {
     "data": {
      "text/markdown": [
       "24: og saa har <span style='color:red'>jeg</span> altiid travlt , naar <span style='color:red'>jeg</span> <span style='color:red'>er</span> saa lykkelig , <span style='color:red'>jeg</span> kan have"
      ],
      "text/plain": [
       "<IPython.core.display.Markdown object>"
      ]
     },
     "metadata": {},
     "output_type": "display_data"
    },
    {
     "data": {
      "text/markdown": [
       "35: og det fornøyer mig , i hvor nedslagen <span style='color:red'>jeg</span> <span style='color:red'>er</span> –"
      ],
      "text/plain": [
       "<IPython.core.display.Markdown object>"
      ]
     },
     "metadata": {},
     "output_type": "display_data"
    },
    {
     "data": {
      "text/markdown": [
       "43: fra mig før han seer her , at <span style='color:red'>jeg</span> <span style='color:red'>er</span> en Smule von paa ham ."
      ],
      "text/plain": [
       "<IPython.core.display.Markdown object>"
      ]
     },
     "metadata": {},
     "output_type": "display_data"
    },
    {
     "data": {
      "text/markdown": [
       "63: slaae . Men <span style='color:red'>jeg</span> holder , saa lidt <span style='color:red'>jeg</span> <span style='color:red'>er</span> for Kulden , dog mere af"
      ],
      "text/plain": [
       "<IPython.core.display.Markdown object>"
      ]
     },
     "metadata": {},
     "output_type": "display_data"
    },
    {
     "data": {
      "text/markdown": [
       "237: i Dag ? Det ahner mig , og <span style='color:red'>jeg</span> <span style='color:red'>er</span> midt iblandt Eder , og «"
      ],
      "text/plain": [
       "<IPython.core.display.Markdown object>"
      ]
     },
     "metadata": {},
     "output_type": "display_data"
    },
    {
     "data": {
      "text/markdown": [
       "237: signer dig , ottende Dag i April imens <span style='color:red'>jeg</span> <span style='color:red'>er</span> til » –"
      ],
      "text/plain": [
       "<IPython.core.display.Markdown object>"
      ]
     },
     "metadata": {},
     "output_type": "display_data"
    },
    {
     "data": {
      "text/markdown": [
       "270: Tilskuer , og finder , i hvor kiendt <span style='color:red'>jeg</span> <span style='color:red'>er</span> med den , stedse nye og"
      ],
      "text/plain": [
       "<IPython.core.display.Markdown object>"
      ]
     },
     "metadata": {},
     "output_type": "display_data"
    },
    {
     "data": {
      "text/markdown": [
       "282: det maae du troe , bare det at <span style='color:red'>jeg</span> <span style='color:red'>er</span> mat « som en Fendrik »"
      ],
      "text/plain": [
       "<IPython.core.display.Markdown object>"
      ]
     },
     "metadata": {},
     "output_type": "display_data"
    },
    {
     "data": {
      "text/markdown": [
       "289: Men <span style='color:red'>jeg</span> veed ikke hvordan det <span style='color:red'>er</span> , <span style='color:red'>jeg</span> <span style='color:red'>er</span> ordentlig glad i at see ham"
      ],
      "text/plain": [
       "<IPython.core.display.Markdown object>"
      ]
     },
     "metadata": {},
     "output_type": "display_data"
    },
    {
     "data": {
      "text/markdown": [
       "303: og siden har det været taaleligt . Men <span style='color:red'>jeg</span> <span style='color:red'>er</span> grumme mat . God Nat ,"
      ],
      "text/plain": [
       "<IPython.core.display.Markdown object>"
      ]
     },
     "metadata": {},
     "output_type": "display_data"
    },
    {
     "data": {
      "text/markdown": [
       "345: en heel Fragt ligge færdig . Ja , <span style='color:red'>jeg</span> <span style='color:red'>er</span> ret en Smørerinde . Og enda"
      ],
      "text/plain": [
       "<IPython.core.display.Markdown object>"
      ]
     },
     "metadata": {},
     "output_type": "display_data"
    },
    {
     "data": {
      "text/markdown": [
       "347: Ting som til at sige Eder hvor glad <span style='color:red'>jeg</span> <span style='color:red'>er</span> . Til Dagens Mærkværdigheder hører ogsaa"
      ],
      "text/plain": [
       "<IPython.core.display.Markdown object>"
      ]
     },
     "metadata": {},
     "output_type": "display_data"
    },
    {
     "data": {
      "text/markdown": [
       "362: mine , som nu mister ham ! skiøndt <span style='color:red'>jeg</span> <span style='color:red'>er</span> mig selv for nær til at"
      ],
      "text/plain": [
       "<IPython.core.display.Markdown object>"
      ]
     },
     "metadata": {},
     "output_type": "display_data"
    },
    {
     "data": {
      "text/markdown": [
       "369: Drømme . Seer I , mine Elskede , <span style='color:red'>jeg</span> <span style='color:red'>er</span> saa længe vant til det stille"
      ],
      "text/plain": [
       "<IPython.core.display.Markdown object>"
      ]
     },
     "metadata": {},
     "output_type": "display_data"
    },
    {
     "data": {
      "text/markdown": [
       "375: fortæller <span style='color:red'>jeg</span> min hele deltagende Kreds hvor glad <span style='color:red'>jeg</span> <span style='color:red'>er</span> , og saa betroer <span style='color:red'>jeg</span> Dagbogen"
      ],
      "text/plain": [
       "<IPython.core.display.Markdown object>"
      ]
     },
     "metadata": {},
     "output_type": "display_data"
    },
    {
     "data": {
      "text/markdown": [
       "375: lagt sin Pen for stedse , hvor lykkelig <span style='color:red'>jeg</span> <span style='color:red'>er</span> og var og bliver ved al"
      ],
      "text/plain": [
       "<IPython.core.display.Markdown object>"
      ]
     },
     "metadata": {},
     "output_type": "display_data"
    },
    {
     "data": {
      "text/markdown": [
       "381: Dag ere mig lidt til Byrde – thi <span style='color:red'>jeg</span> <span style='color:red'>er</span> hiertelig bedrøvet . Ikke mere over"
      ],
      "text/plain": [
       "<IPython.core.display.Markdown object>"
      ]
     },
     "metadata": {},
     "output_type": "display_data"
    },
    {
     "data": {
      "text/markdown": [
       "420: og Majadal , i det mindste saa længe <span style='color:red'>jeg</span> <span style='color:red'>er</span> vaagen , og selv kan nogenlunde"
      ],
      "text/plain": [
       "<IPython.core.display.Markdown object>"
      ]
     },
     "metadata": {},
     "output_type": "display_data"
    },
    {
     "data": {
      "text/markdown": [
       "423: kan behøve af Majas og Frederichs Bibliotheker mens <span style='color:red'>jeg</span> <span style='color:red'>er</span> der , og der behøver jeg"
      ],
      "text/plain": [
       "<IPython.core.display.Markdown object>"
      ]
     },
     "metadata": {},
     "output_type": "display_data"
    },
    {
     "data": {
      "text/markdown": [
       "447: , hvorhen de har stævnet mig . Men <span style='color:red'>jeg</span> <span style='color:red'>er</span> jo alles Eders Moer Koren ,"
      ],
      "text/plain": [
       "<IPython.core.display.Markdown object>"
      ]
     },
     "metadata": {},
     "output_type": "display_data"
    },
    {
     "data": {
      "text/markdown": [
       "463: Maja , om det ikke <span style='color:red'>er</span> sandt , <span style='color:red'>jeg</span> <span style='color:red'>er</span> bra ? – Før hun ret"
      ],
      "text/plain": [
       "<IPython.core.display.Markdown object>"
      ]
     },
     "metadata": {},
     "output_type": "display_data"
    },
    {
     "data": {
      "text/markdown": [
       "484: Nu gaaer det mig som Baggesen , at <span style='color:red'>jeg</span> <span style='color:red'>er</span> færdig at lægge dem bort «"
      ],
      "text/plain": [
       "<IPython.core.display.Markdown object>"
      ]
     },
     "metadata": {},
     "output_type": "display_data"
    },
    {
     "data": {
      "text/markdown": [
       "490: sidde sammen i Haven og Lunden , og <span style='color:red'>jeg</span> <span style='color:red'>er</span> i Dag saa lidt skikket til"
      ],
      "text/plain": [
       "<IPython.core.display.Markdown object>"
      ]
     },
     "metadata": {},
     "output_type": "display_data"
    },
    {
     "data": {
      "text/markdown": [
       "521: og nu til Præstens . I hvor vant <span style='color:red'>jeg</span> <span style='color:red'>er</span> til at see mig elsket og"
      ],
      "text/plain": [
       "<IPython.core.display.Markdown object>"
      ]
     },
     "metadata": {},
     "output_type": "display_data"
    },
    {
     "data": {
      "text/markdown": [
       "558: her i Huset . Han troer nok , <span style='color:red'>jeg</span> <span style='color:red'>er</span> en meget ugiæstmild Skriverinde , og"
      ],
      "text/plain": [
       "<IPython.core.display.Markdown object>"
      ]
     },
     "metadata": {},
     "output_type": "display_data"
    },
    {
     "data": {
      "text/markdown": [
       "646: fares , som <span style='color:red'>jeg</span> tidt hører , naar <span style='color:red'>jeg</span> <span style='color:red'>er</span> nede og seer til hende ."
      ],
      "text/plain": [
       "<IPython.core.display.Markdown object>"
      ]
     },
     "metadata": {},
     "output_type": "display_data"
    },
    {
     "data": {
      "text/markdown": [
       "648: , og takket Gud i hans Tempel fordi <span style='color:red'>jeg</span> <span style='color:red'>er</span> saa glad . Men <span style='color:red'>er</span> ikke"
      ],
      "text/plain": [
       "<IPython.core.display.Markdown object>"
      ]
     },
     "metadata": {},
     "output_type": "display_data"
    },
    {
     "data": {
      "text/markdown": [
       "673: <span style='color:red'>jeg</span> har skyndt mig , og hvor ofte <span style='color:red'>jeg</span> <span style='color:red'>er</span> blevet afbrudt . Der <span style='color:red'>er</span> nu"
      ],
      "text/plain": [
       "<IPython.core.display.Markdown object>"
      ]
     },
     "metadata": {},
     "output_type": "display_data"
    },
    {
     "data": {
      "text/markdown": [
       "728: , for at see min Rikke , da <span style='color:red'>jeg</span> <span style='color:red'>er</span> hende saa nær , engang endnu"
      ],
      "text/plain": [
       "<IPython.core.display.Markdown object>"
      ]
     },
     "metadata": {},
     "output_type": "display_data"
    },
    {
     "data": {
      "text/markdown": [
       "758: af de faa Ting hvorpaa <span style='color:red'>jeg</span> kiender , <span style='color:red'>jeg</span> <span style='color:red'>er</span> blevet gammel , at <span style='color:red'>jeg</span> har"
      ],
      "text/plain": [
       "<IPython.core.display.Markdown object>"
      ]
     },
     "metadata": {},
     "output_type": "display_data"
    },
    {
     "data": {
      "text/markdown": [
       "833: <span style='color:red'>er</span> kun Frysen og Tørst tilbage . Men <span style='color:red'>jeg</span> <span style='color:red'>er</span> grumme mat – Sovet har jeg"
      ],
      "text/plain": [
       "<IPython.core.display.Markdown object>"
      ]
     },
     "metadata": {},
     "output_type": "display_data"
    },
    {
     "data": {
      "text/markdown": [
       "#### NBkilder_Koren_1812.xml"
      ],
      "text/plain": [
       "<IPython.core.display.Markdown object>"
      ]
     },
     "metadata": {},
     "output_type": "display_data"
    },
    {
     "data": {
      "text/markdown": [
       "16: Gud skee Tak ikke <span style='color:red'>er</span> Tilfældet , da <span style='color:red'>jeg</span> <span style='color:red'>er</span> meget bædre , og Veyret taaleligt"
      ],
      "text/plain": [
       "<IPython.core.display.Markdown object>"
      ]
     },
     "metadata": {},
     "output_type": "display_data"
    },
    {
     "data": {
      "text/markdown": [
       "28: naar <span style='color:red'>jeg</span> lider , og glæder sig naar <span style='color:red'>jeg</span> <span style='color:red'>er</span> glad [ . ] Nu er"
      ],
      "text/plain": [
       "<IPython.core.display.Markdown object>"
      ]
     },
     "metadata": {},
     "output_type": "display_data"
    },
    {
     "data": {
      "text/markdown": [
       "30: drikker Caffe , tilbringer <span style='color:red'>jeg</span> stedse , naar <span style='color:red'>jeg</span> <span style='color:red'>er</span> i mit daglige Lag , læsende"
      ],
      "text/plain": [
       "<IPython.core.display.Markdown object>"
      ]
     },
     "metadata": {},
     "output_type": "display_data"
    },
    {
     "data": {
      "text/markdown": [
       "49: Psalmebog eller i Mare Zolls Andagtsbog . Men <span style='color:red'>jeg</span> <span style='color:red'>er</span> vis paa , at hendes fromme"
      ],
      "text/plain": [
       "<IPython.core.display.Markdown object>"
      ]
     },
     "metadata": {},
     "output_type": "display_data"
    },
    {
     "data": {
      "text/markdown": [
       "67: deylig Dag , det veed <span style='color:red'>jeg</span> . Men <span style='color:red'>jeg</span> <span style='color:red'>er</span> syg og mat af den evindelige"
      ],
      "text/plain": [
       "<IPython.core.display.Markdown object>"
      ]
     },
     "metadata": {},
     "output_type": "display_data"
    },
    {
     "data": {
      "text/markdown": [
       "87: han lige velsignet og sød igien . O <span style='color:red'>jeg</span> <span style='color:red'>er</span> saa glad i dette Barn med"
      ],
      "text/plain": [
       "<IPython.core.display.Markdown object>"
      ]
     },
     "metadata": {},
     "output_type": "display_data"
    },
    {
     "data": {
      "text/markdown": [
       "103: . Seer I , Elskede , hvor vis <span style='color:red'>jeg</span> <span style='color:red'>er</span> paa , at alt hvad der"
      ],
      "text/plain": [
       "<IPython.core.display.Markdown object>"
      ]
     },
     "metadata": {},
     "output_type": "display_data"
    },
    {
     "data": {
      "text/markdown": [
       "123: dog maae beskrive Eder lidt nøyere , da <span style='color:red'>jeg</span> <span style='color:red'>er</span> vis paa , I aldrig saae"
      ],
      "text/plain": [
       "<IPython.core.display.Markdown object>"
      ]
     },
     "metadata": {},
     "output_type": "display_data"
    },
    {
     "data": {
      "text/markdown": [
       "125: meget om de ventede glade Dage , og <span style='color:red'>jeg</span> <span style='color:red'>er</span> blevet alt bædre og bædre ,"
      ],
      "text/plain": [
       "<IPython.core.display.Markdown object>"
      ]
     },
     "metadata": {},
     "output_type": "display_data"
    },
    {
     "data": {
      "text/markdown": [
       "128: . Telja bager Munker til dem , og <span style='color:red'>jeg</span> <span style='color:red'>er</span> vis paa det bliver en Glædskabsfest"
      ],
      "text/plain": [
       "<IPython.core.display.Markdown object>"
      ]
     },
     "metadata": {},
     "output_type": "display_data"
    },
    {
     "data": {
      "text/markdown": [
       "139: . I seer , Elskede , hvor langt <span style='color:red'>jeg</span> <span style='color:red'>er</span> kommet i Journalen , og desforuden"
      ],
      "text/plain": [
       "<IPython.core.display.Markdown object>"
      ]
     },
     "metadata": {},
     "output_type": "display_data"
    },
    {
     "data": {
      "text/markdown": [
       "151: Men tænk saa ogsaa paa , hvor syg <span style='color:red'>jeg</span> <span style='color:red'>er</span> i Dag , og at jeg"
      ],
      "text/plain": [
       "<IPython.core.display.Markdown object>"
      ]
     },
     "metadata": {},
     "output_type": "display_data"
    },
    {
     "data": {
      "text/markdown": [
       "164: hende stille Dals Arme og Skiød , som <span style='color:red'>jeg</span> <span style='color:red'>er</span> vis paa , aldrig vil blive"
      ],
      "text/plain": [
       "<IPython.core.display.Markdown object>"
      ]
     },
     "metadata": {},
     "output_type": "display_data"
    },
    {
     "data": {
      "text/markdown": [
       "171: andet til min unge Ven Bergh , som <span style='color:red'>jeg</span> <span style='color:red'>er</span> vis paa vil opfylde hvad jeg"
      ],
      "text/plain": [
       "<IPython.core.display.Markdown object>"
      ]
     },
     "metadata": {},
     "output_type": "display_data"
    },
    {
     "data": {
      "text/markdown": [
       "175: Børn , et nyt Beviis paa , at <span style='color:red'>jeg</span> <span style='color:red'>er</span> hiemme . Fader Pedro kom hiem"
      ],
      "text/plain": [
       "<IPython.core.display.Markdown object>"
      ]
     },
     "metadata": {},
     "output_type": "display_data"
    },
    {
     "data": {
      "text/markdown": [
       "185: – see , nu troer <span style='color:red'>jeg</span> saa men <span style='color:red'>jeg</span> <span style='color:red'>er</span> færdig . At Maja P :"
      ],
      "text/plain": [
       "<IPython.core.display.Markdown object>"
      ]
     },
     "metadata": {},
     "output_type": "display_data"
    },
    {
     "data": {
      "text/markdown": [
       "204: reyste herfra , ryster paa Hovedet . O <span style='color:red'>jeg</span> <span style='color:red'>er</span> i en hiertelig Angest . See"
      ],
      "text/plain": [
       "<IPython.core.display.Markdown object>"
      ]
     },
     "metadata": {},
     "output_type": "display_data"
    },
    {
     "data": {
      "text/markdown": [
       "230: Pligttour giort i Morgen til Eidsvoldværk , hvorhen <span style='color:red'>jeg</span> <span style='color:red'>er</span> buden med min Koren , som"
      ],
      "text/plain": [
       "<IPython.core.display.Markdown object>"
      ]
     },
     "metadata": {},
     "output_type": "display_data"
    },
    {
     "data": {
      "text/markdown": [
       "307: Eder , Elskede , hvor let og fro <span style='color:red'>jeg</span> <span style='color:red'>er</span> . Det kommer vel ogsaa af"
      ],
      "text/plain": [
       "<IPython.core.display.Markdown object>"
      ]
     },
     "metadata": {},
     "output_type": "display_data"
    },
    {
     "data": {
      "text/markdown": [
       "323: kan <span style='color:red'>jeg</span> jo nok betroe dem , at <span style='color:red'>jeg</span> <span style='color:red'>er</span> ret meget syg . Egentlig føler"
      ],
      "text/plain": [
       "<IPython.core.display.Markdown object>"
      ]
     },
     "metadata": {},
     "output_type": "display_data"
    },
    {
     "data": {
      "text/markdown": [
       "326: og nødt til at giøre mig stærkere end <span style='color:red'>jeg</span> <span style='color:red'>er</span> , da alles Øyne vogte paa"
      ],
      "text/plain": [
       "<IPython.core.display.Markdown object>"
      ]
     },
     "metadata": {},
     "output_type": "display_data"
    },
    {
     "data": {
      "text/markdown": [
       "331: blive . Mere siden , mine Elskede ! <span style='color:red'>jeg</span> <span style='color:red'>er</span> saa mat , at <span style='color:red'>jeg</span> maae"
      ],
      "text/plain": [
       "<IPython.core.display.Markdown object>"
      ]
     },
     "metadata": {},
     "output_type": "display_data"
    },
    {
     "data": {
      "text/markdown": [
       "332: fast altiid , og dog kanske meest naar <span style='color:red'>jeg</span> <span style='color:red'>er</span> syg , begriber mere med Hiertet"
      ],
      "text/plain": [
       "<IPython.core.display.Markdown object>"
      ]
     },
     "metadata": {},
     "output_type": "display_data"
    },
    {
     "data": {
      "text/markdown": [
       "336: kommer mit Mismod vel meget af , at <span style='color:red'>jeg</span> <span style='color:red'>er</span> saa svag – o , I"
      ],
      "text/plain": [
       "<IPython.core.display.Markdown object>"
      ]
     },
     "metadata": {},
     "output_type": "display_data"
    },
    {
     "data": {
      "text/markdown": [
       "339: vor ! » – Ney , Børn , <span style='color:red'>jeg</span> <span style='color:red'>er</span> saa men lys vaagen . I"
      ],
      "text/plain": [
       "<IPython.core.display.Markdown object>"
      ]
     },
     "metadata": {},
     "output_type": "display_data"
    },
    {
     "data": {
      "text/markdown": [
       "353: Uge . Det <span style='color:red'>er</span> ikke Ret , at <span style='color:red'>jeg</span> <span style='color:red'>er</span> saa meget borte fra Kista mi"
      ],
      "text/plain": [
       "<IPython.core.display.Markdown object>"
      ]
     },
     "metadata": {},
     "output_type": "display_data"
    },
    {
     "data": {
      "text/markdown": [
       "372: om Brylluppet og Alskens andre Ting . At <span style='color:red'>jeg</span> <span style='color:red'>er</span> meget færm i Dag , troer"
      ],
      "text/plain": [
       "<IPython.core.display.Markdown object>"
      ]
     },
     "metadata": {},
     "output_type": "display_data"
    },
    {
     "data": {
      "text/markdown": [
       "412: mig ikke , og – kort sagt , <span style='color:red'>jeg</span> <span style='color:red'>er</span> heel underlig tilmode . Dog ikke"
      ],
      "text/plain": [
       "<IPython.core.display.Markdown object>"
      ]
     },
     "metadata": {},
     "output_type": "display_data"
    },
    {
     "data": {
      "text/markdown": [
       "420: , paa egen Haand havde kiøbt , hvorfor <span style='color:red'>jeg</span> <span style='color:red'>er</span> ham meget forbunden , og kan"
      ],
      "text/plain": [
       "<IPython.core.display.Markdown object>"
      ]
     },
     "metadata": {},
     "output_type": "display_data"
    },
    {
     "data": {
      "text/markdown": [
       "425: et Par Ord til min Lotta , men <span style='color:red'>jeg</span> <span style='color:red'>er</span> saa søvning og træt , at"
      ],
      "text/plain": [
       "<IPython.core.display.Markdown object>"
      ]
     },
     "metadata": {},
     "output_type": "display_data"
    },
    {
     "data": {
      "text/markdown": [
       "429: Øynene , deraf kommer det vel , at <span style='color:red'>jeg</span> <span style='color:red'>er</span> genegen til at troe , Rygtet"
      ],
      "text/plain": [
       "<IPython.core.display.Markdown object>"
      ]
     },
     "metadata": {},
     "output_type": "display_data"
    },
    {
     "data": {
      "text/markdown": [
       "453: , og kan ikke tage bort , saa <span style='color:red'>jeg</span> <span style='color:red'>er</span> bange , det faaer blive ved"
      ],
      "text/plain": [
       "<IPython.core.display.Markdown object>"
      ]
     },
     "metadata": {},
     "output_type": "display_data"
    },
    {
     "data": {
      "text/markdown": [
       "458: sad hos hende her paa mit Kammer naar <span style='color:red'>jeg</span> <span style='color:red'>er</span> her ene , hvor hun har"
      ],
      "text/plain": [
       "<IPython.core.display.Markdown object>"
      ]
     },
     "metadata": {},
     "output_type": "display_data"
    },
    {
     "data": {
      "text/markdown": [
       "469: saa let og roelig om Hiertet , som <span style='color:red'>jeg</span> <span style='color:red'>er</span> endnu ; thi Gud skee Lov"
      ],
      "text/plain": [
       "<IPython.core.display.Markdown object>"
      ]
     },
     "metadata": {},
     "output_type": "display_data"
    },
    {
     "data": {
      "text/markdown": [
       "469: ellers skikket til nogen lang Vandring , da <span style='color:red'>jeg</span> <span style='color:red'>er</span> saa underlig mo i mine Knæe"
      ],
      "text/plain": [
       "<IPython.core.display.Markdown object>"
      ]
     },
     "metadata": {},
     "output_type": "display_data"
    },
    {
     "data": {
      "text/markdown": [
       "478: Venskab udklækkedes den , fra Følelsen af hvad <span style='color:red'>jeg</span> <span style='color:red'>er</span> ved Eder , har den sit"
      ],
      "text/plain": [
       "<IPython.core.display.Markdown object>"
      ]
     },
     "metadata": {},
     "output_type": "display_data"
    },
    {
     "data": {
      "text/markdown": [
       "485: ondt midt under det venstre Fodblad , saa <span style='color:red'>jeg</span> <span style='color:red'>er</span> færdig at skrige af Smerte naar"
      ],
      "text/plain": [
       "<IPython.core.display.Markdown object>"
      ]
     },
     "metadata": {},
     "output_type": "display_data"
    },
    {
     "data": {
      "text/markdown": [
       "489: Høstdag . Det <span style='color:red'>er</span> ikke for mig selv <span style='color:red'>jeg</span> <span style='color:red'>er</span> utaalmodig . Jeg <span style='color:red'>er</span> taalelig brav"
      ],
      "text/plain": [
       "<IPython.core.display.Markdown object>"
      ]
     },
     "metadata": {},
     "output_type": "display_data"
    },
    {
     "data": {
      "text/markdown": [
       "494: Koren . O hvor <span style='color:red'>jeg</span> takker Gud fordi <span style='color:red'>jeg</span> <span style='color:red'>er</span> her . Hvor langt ængsteligere var"
      ],
      "text/plain": [
       "<IPython.core.display.Markdown object>"
      ]
     },
     "metadata": {},
     "output_type": "display_data"
    },
    {
     "data": {
      "text/markdown": [
       "497: saa troet – Jeg veed ikke , hvorfor <span style='color:red'>jeg</span> <span style='color:red'>er</span> saa hiertelig bedrøvet i denne Aftenstund"
      ],
      "text/plain": [
       "<IPython.core.display.Markdown object>"
      ]
     },
     "metadata": {},
     "output_type": "display_data"
    },
    {
     "data": {
      "text/markdown": [
       "501: ere , takker <span style='color:red'>jeg</span> Gud inderlig , at <span style='color:red'>jeg</span> <span style='color:red'>er</span> her . I Majas matte Smiil"
      ],
      "text/plain": [
       "<IPython.core.display.Markdown object>"
      ]
     },
     "metadata": {},
     "output_type": "display_data"
    },
    {
     "data": {
      "text/markdown": [
       "501: det bekymrede barnlige Hierte , føler <span style='color:red'>jeg</span> hvad <span style='color:red'>jeg</span> <span style='color:red'>er</span> hende , hvilken Trøst og Støtte"
      ],
      "text/plain": [
       "<IPython.core.display.Markdown object>"
      ]
     },
     "metadata": {},
     "output_type": "display_data"
    },
    {
     "data": {
      "text/markdown": [
       "501: var <span style='color:red'>jeg</span> end mindre for de Dyrebare end <span style='color:red'>jeg</span> <span style='color:red'>er</span> , takkede <span style='color:red'>jeg</span> dog Gud at"
      ],
      "text/plain": [
       "<IPython.core.display.Markdown object>"
      ]
     },
     "metadata": {},
     "output_type": "display_data"
    },
    {
     "data": {
      "text/markdown": [
       "516: I tænke Eder , Elskte , hvor glad <span style='color:red'>jeg</span> <span style='color:red'>er</span> . Vidste I det nu kun"
      ],
      "text/plain": [
       "<IPython.core.display.Markdown object>"
      ]
     },
     "metadata": {},
     "output_type": "display_data"
    },
    {
     "data": {
      "text/markdown": [
       "519: haaber vist , godt . Den glade Sindsstemning <span style='color:red'>jeg</span> <span style='color:red'>er</span> i , bebuder mig det ."
      ],
      "text/plain": [
       "<IPython.core.display.Markdown object>"
      ]
     },
     "metadata": {},
     "output_type": "display_data"
    },
    {
     "data": {
      "text/markdown": [
       "521: milde Kraft . Saa kan det vel være <span style='color:red'>jeg</span> <span style='color:red'>er</span> kuldskiærere nu end ellers , da"
      ],
      "text/plain": [
       "<IPython.core.display.Markdown object>"
      ]
     },
     "metadata": {},
     "output_type": "display_data"
    },
    {
     "data": {
      "text/markdown": [
       "548: "
      ],
      "text/plain": [
       "<IPython.core.display.Markdown object>"
      ]
     },
     "metadata": {},
     "output_type": "display_data"
    },
    {
     "data": {
      "text/markdown": [
       "555: Siæl i disse Dage , om hvor ubillig <span style='color:red'>jeg</span> <span style='color:red'>er</span> naar noget gaaer mig imod ."
      ],
      "text/plain": [
       "<IPython.core.display.Markdown object>"
      ]
     },
     "metadata": {},
     "output_type": "display_data"
    },
    {
     "data": {
      "text/markdown": [
       "574: Blade kunde vidne med mig , hvor uskyldig <span style='color:red'>jeg</span> <span style='color:red'>er</span> . Men nu har <span style='color:red'>jeg</span> skrevet"
      ],
      "text/plain": [
       "<IPython.core.display.Markdown object>"
      ]
     },
     "metadata": {},
     "output_type": "display_data"
    },
    {
     "data": {
      "text/markdown": [
       "582: Det regner og tordner og blæser , og <span style='color:red'>jeg</span> <span style='color:red'>er</span> færdig med alt mit Mod selv"
      ],
      "text/plain": [
       "<IPython.core.display.Markdown object>"
      ]
     },
     "metadata": {},
     "output_type": "display_data"
    },
    {
     "data": {
      "text/markdown": [
       "610: Rikke ligesaa , og lie bli lell fordi <span style='color:red'>jeg</span> <span style='color:red'>er</span> saa længe borte ."
      ],
      "text/plain": [
       "<IPython.core.display.Markdown object>"
      ]
     },
     "metadata": {},
     "output_type": "display_data"
    },
    {
     "data": {
      "text/markdown": [
       "657: . Og det <span style='color:red'>er</span> ingen Feberkulde , thi <span style='color:red'>jeg</span> <span style='color:red'>er</span> i Dag ret færm , og"
      ],
      "text/plain": [
       "<IPython.core.display.Markdown object>"
      ]
     },
     "metadata": {},
     "output_type": "display_data"
    },
    {
     "data": {
      "text/markdown": [
       "669: kunde jo heller ikke vide , hvor glad <span style='color:red'>jeg</span> <span style='color:red'>er</span> i min Moer Korens Veninde »"
      ],
      "text/plain": [
       "<IPython.core.display.Markdown object>"
      ]
     },
     "metadata": {},
     "output_type": "display_data"
    },
    {
     "data": {
      "text/markdown": [
       "673: og , hvad der <span style='color:red'>er</span> det værste , <span style='color:red'>jeg</span> <span style='color:red'>er</span> selv Skyld i det : thi"
      ],
      "text/plain": [
       "<IPython.core.display.Markdown object>"
      ]
     },
     "metadata": {},
     "output_type": "display_data"
    },
    {
     "data": {
      "text/markdown": [
       "692: giør det jo i dette Øyeblik . At <span style='color:red'>jeg</span> <span style='color:red'>er</span> saa beklæmt , kommer vel af"
      ],
      "text/plain": [
       "<IPython.core.display.Markdown object>"
      ]
     },
     "metadata": {},
     "output_type": "display_data"
    },
    {
     "data": {
      "text/markdown": [
       "714: raske Mand , som nu vel troer , <span style='color:red'>jeg</span> <span style='color:red'>er</span> en heel Politikus . Han opholdt"
      ],
      "text/plain": [
       "<IPython.core.display.Markdown object>"
      ]
     },
     "metadata": {},
     "output_type": "display_data"
    },
    {
     "data": {
      "text/markdown": [
       "731: thi I maae vide , mine Børn , <span style='color:red'>jeg</span> <span style='color:red'>er</span> en reen Fusker i Korthaandværket ."
      ],
      "text/plain": [
       "<IPython.core.display.Markdown object>"
      ]
     },
     "metadata": {},
     "output_type": "display_data"
    },
    {
     "data": {
      "text/markdown": [
       "754: mig glade Efterretninger . Jeg veed ikke hvorfor <span style='color:red'>jeg</span> <span style='color:red'>er</span> saa ængstelig , og ikke kan"
      ],
      "text/plain": [
       "<IPython.core.display.Markdown object>"
      ]
     },
     "metadata": {},
     "output_type": "display_data"
    },
    {
     "data": {
      "text/markdown": [
       "759: Maja C , som vel maae synes , <span style='color:red'>jeg</span> <span style='color:red'>er</span> et underligt Dyr , der lod"
      ],
      "text/plain": [
       "<IPython.core.display.Markdown object>"
      ]
     },
     "metadata": {},
     "output_type": "display_data"
    },
    {
     "data": {
      "text/markdown": [
       "798: nesten ligesaa tungt som hiin Geschichte ; thi <span style='color:red'>jeg</span> <span style='color:red'>er</span> saa bange for , at vi"
      ],
      "text/plain": [
       "<IPython.core.display.Markdown object>"
      ]
     },
     "metadata": {},
     "output_type": "display_data"
    },
    {
     "data": {
      "text/markdown": [
       "803: og til blæser det ogsaa lidt , og <span style='color:red'>jeg</span> <span style='color:red'>er</span> meget bædre ."
      ],
      "text/plain": [
       "<IPython.core.display.Markdown object>"
      ]
     },
     "metadata": {},
     "output_type": "display_data"
    },
    {
     "data": {
      "text/markdown": [
       "870: , snart at kunde besvare mundtlig . Den <span style='color:red'>jeg</span> <span style='color:red'>er</span> i størst Gield hos , er"
      ],
      "text/plain": [
       "<IPython.core.display.Markdown object>"
      ]
     },
     "metadata": {},
     "output_type": "display_data"
    },
    {
     "data": {
      "text/markdown": [
       "873: <span style='color:red'>jeg</span> nu siger Eder , Dyrebare , at <span style='color:red'>jeg</span> <span style='color:red'>er</span> meget bædre , troer I mig"
      ],
      "text/plain": [
       "<IPython.core.display.Markdown object>"
      ]
     },
     "metadata": {},
     "output_type": "display_data"
    },
    {
     "data": {
      "text/markdown": [
       "874: . Der kommer bestandig ingen Snee , og <span style='color:red'>jeg</span> <span style='color:red'>er</span> bestandig ret en Usling . Egentlig"
      ],
      "text/plain": [
       "<IPython.core.display.Markdown object>"
      ]
     },
     "metadata": {},
     "output_type": "display_data"
    },
    {
     "data": {
      "text/markdown": [
       "876: en Slæde sidder man dog ikke ) da <span style='color:red'>jeg</span> <span style='color:red'>er</span> mindre end frisk , og har"
      ],
      "text/plain": [
       "<IPython.core.display.Markdown object>"
      ]
     },
     "metadata": {},
     "output_type": "display_data"
    },
    {
     "data": {
      "text/markdown": [
       "877: Søvn . Et Beviis paa , hvilken Stakkel <span style='color:red'>jeg</span> <span style='color:red'>er</span> bleven . Thi det gier mig"
      ],
      "text/plain": [
       "<IPython.core.display.Markdown object>"
      ]
     },
     "metadata": {},
     "output_type": "display_data"
    },
    {
     "data": {
      "text/markdown": [
       "885: Hun ligger saa stille . Jeg synes ogsaa <span style='color:red'>jeg</span> <span style='color:red'>er</span> bædre saa længe <span style='color:red'>jeg</span> sidder stille"
      ],
      "text/plain": [
       "<IPython.core.display.Markdown object>"
      ]
     },
     "metadata": {},
     "output_type": "display_data"
    },
    {
     "data": {
      "text/markdown": [
       "902: have det at gogiøre sig med , naar <span style='color:red'>jeg</span> <span style='color:red'>er</span> borte . Majalild bliver her til"
      ],
      "text/plain": [
       "<IPython.core.display.Markdown object>"
      ]
     },
     "metadata": {},
     "output_type": "display_data"
    },
    {
     "data": {
      "text/markdown": [
       "#### NBkilder_Koren_1813.xml"
      ],
      "text/plain": [
       "<IPython.core.display.Markdown object>"
      ]
     },
     "metadata": {},
     "output_type": "display_data"
    },
    {
     "data": {
      "text/markdown": [
       "26: vil I , som veed hvilken upartisk Moder <span style='color:red'>jeg</span> <span style='color:red'>er</span> , ogsaa vist troe . Gud"
      ],
      "text/plain": [
       "<IPython.core.display.Markdown object>"
      ]
     },
     "metadata": {},
     "output_type": "display_data"
    },
    {
     "data": {
      "text/markdown": [
       "31: længe fra Lotta mi den korte Tiid , <span style='color:red'>jeg</span> <span style='color:red'>er</span> hos hende – dog , der"
      ],
      "text/plain": [
       "<IPython.core.display.Markdown object>"
      ]
     },
     "metadata": {},
     "output_type": "display_data"
    },
    {
     "data": {
      "text/markdown": [
       "40: har spiist , hvile mig lidt , thi <span style='color:red'>jeg</span> <span style='color:red'>er</span> ikke ret brav i Dag ,"
      ],
      "text/plain": [
       "<IPython.core.display.Markdown object>"
      ]
     },
     "metadata": {},
     "output_type": "display_data"
    },
    {
     "data": {
      "text/markdown": [
       "51: dette Ønske opfyldt , Barnet mit , og <span style='color:red'>jeg</span> <span style='color:red'>er</span> ogsaa glad ved at kunde see"
      ],
      "text/plain": [
       "<IPython.core.display.Markdown object>"
      ]
     },
     "metadata": {},
     "output_type": "display_data"
    },
    {
     "data": {
      "text/markdown": [
       "60: været ovre og hilset paa Borches , men <span style='color:red'>jeg</span> <span style='color:red'>er</span> rigtig syg i Dag , og"
      ],
      "text/plain": [
       "<IPython.core.display.Markdown object>"
      ]
     },
     "metadata": {},
     "output_type": "display_data"
    },
    {
     "data": {
      "text/markdown": [
       "60: vi skal til Rørbyes , den sidste Dag <span style='color:red'>jeg</span> <span style='color:red'>er</span> her – ak , hvor er"
      ],
      "text/plain": [
       "<IPython.core.display.Markdown object>"
      ]
     },
     "metadata": {},
     "output_type": "display_data"
    },
    {
     "data": {
      "text/markdown": [
       "72: og dermed vil det gaae langsomt , da <span style='color:red'>jeg</span> <span style='color:red'>er</span> grumme mat , og har havt"
      ],
      "text/plain": [
       "<IPython.core.display.Markdown object>"
      ]
     },
     "metadata": {},
     "output_type": "display_data"
    },
    {
     "data": {
      "text/markdown": [
       "75: og hun havde saa godt Følge , at <span style='color:red'>jeg</span> <span style='color:red'>er</span> ganske roelig for det kiære Børn"
      ],
      "text/plain": [
       "<IPython.core.display.Markdown object>"
      ]
     },
     "metadata": {},
     "output_type": "display_data"
    },
    {
     "data": {
      "text/markdown": [
       "77: Denne Blæst skylder <span style='color:red'>jeg</span> ogsaa for , at <span style='color:red'>jeg</span> <span style='color:red'>er</span> mindre rask end i Gaar ."
      ],
      "text/plain": [
       "<IPython.core.display.Markdown object>"
      ]
     },
     "metadata": {},
     "output_type": "display_data"
    },
    {
     "data": {
      "text/markdown": [
       "93: Gange at sige Eder hvor glad og lykkelig <span style='color:red'>jeg</span> <span style='color:red'>er</span> ved min Majas Side , blandt"
      ],
      "text/plain": [
       "<IPython.core.display.Markdown object>"
      ]
     },
     "metadata": {},
     "output_type": "display_data"
    },
    {
     "data": {
      "text/markdown": [
       "97: sang vor kiære Giæst ( I veed , <span style='color:red'>jeg</span> <span style='color:red'>er</span> hiemme paa Auestad som hos alle"
      ],
      "text/plain": [
       "<IPython.core.display.Markdown object>"
      ]
     },
     "metadata": {},
     "output_type": "display_data"
    },
    {
     "data": {
      "text/markdown": [
       "99: . « Jeg faaer altiid godt Veyr naar <span style='color:red'>jeg</span> <span style='color:red'>er</span> ude og reyser » sagde Faer"
      ],
      "text/plain": [
       "<IPython.core.display.Markdown object>"
      ]
     },
     "metadata": {},
     "output_type": "display_data"
    },
    {
     "data": {
      "text/markdown": [
       "103: var saa utaalmodig som en Elsker ( siden <span style='color:red'>jeg</span> <span style='color:red'>er</span> saa nær det halve Secel tør"
      ],
      "text/plain": [
       "<IPython.core.display.Markdown object>"
      ]
     },
     "metadata": {},
     "output_type": "display_data"
    },
    {
     "data": {
      "text/markdown": [
       "155: <span style='color:red'>er</span> hun brav , siger hun , og <span style='color:red'>jeg</span> <span style='color:red'>er</span> det virkelig , om kun ikke"
      ],
      "text/plain": [
       "<IPython.core.display.Markdown object>"
      ]
     },
     "metadata": {},
     "output_type": "display_data"
    },
    {
     "data": {
      "text/markdown": [
       "183: det første <span style='color:red'>jeg</span> fortæller Eder være , at <span style='color:red'>jeg</span> <span style='color:red'>er</span> overmaade rask i Dag , og"
      ],
      "text/plain": [
       "<IPython.core.display.Markdown object>"
      ]
     },
     "metadata": {},
     "output_type": "display_data"
    },
    {
     "data": {
      "text/markdown": [
       "188: . O , at de saae hvor frisk <span style='color:red'>jeg</span> <span style='color:red'>er</span> , hvor godt <span style='color:red'>jeg</span> har det"
      ],
      "text/plain": [
       "<IPython.core.display.Markdown object>"
      ]
     },
     "metadata": {},
     "output_type": "display_data"
    },
    {
     "data": {
      "text/markdown": [
       "198: vi lever i sød Roe , og at <span style='color:red'>jeg</span> <span style='color:red'>er</span> ret dygtig frisk . Om Formiddagen"
      ],
      "text/plain": [
       "<IPython.core.display.Markdown object>"
      ]
     },
     "metadata": {},
     "output_type": "display_data"
    },
    {
     "data": {
      "text/markdown": [
       "257: lidt længere ; og saa stoer en Hader <span style='color:red'>jeg</span> <span style='color:red'>er</span> af Skiændselsstøtter , denne os elskelige"
      ],
      "text/plain": [
       "<IPython.core.display.Markdown object>"
      ]
     },
     "metadata": {},
     "output_type": "display_data"
    },
    {
     "data": {
      "text/markdown": [
       "265: , <span style='color:red'>er</span> at beskyldes for Bitterhed , naar <span style='color:red'>jeg</span> <span style='color:red'>er</span> mig bevidst , at have skrevet"
      ],
      "text/plain": [
       "<IPython.core.display.Markdown object>"
      ]
     },
     "metadata": {},
     "output_type": "display_data"
    },
    {
     "data": {
      "text/markdown": [
       "317: , <span style='color:red'>jeg</span> skylder Fader Pavels Brev , men <span style='color:red'>jeg</span> <span style='color:red'>er</span> saa mat , at <span style='color:red'>jeg</span> maae"
      ],
      "text/plain": [
       "<IPython.core.display.Markdown object>"
      ]
     },
     "metadata": {},
     "output_type": "display_data"
    },
    {
     "data": {
      "text/markdown": [
       "341: nu i Dag i al Regnen , og <span style='color:red'>jeg</span> <span style='color:red'>er</span> vreed paa mig selv , fordi"
      ],
      "text/plain": [
       "<IPython.core.display.Markdown object>"
      ]
     },
     "metadata": {},
     "output_type": "display_data"
    },
    {
     "data": {
      "text/markdown": [
       "350: var <span style='color:red'>jeg</span> ikke Kl halvtolv i Aftes som <span style='color:red'>jeg</span> <span style='color:red'>er</span> nu . Seer I , her"
      ],
      "text/plain": [
       "<IPython.core.display.Markdown object>"
      ]
     },
     "metadata": {},
     "output_type": "display_data"
    },
    {
     "data": {
      "text/markdown": [
       "350: Aften og disse glade Dage . Jeg synes <span style='color:red'>jeg</span> <span style='color:red'>er</span> blevet endnu yngere end før ,"
      ],
      "text/plain": [
       "<IPython.core.display.Markdown object>"
      ]
     },
     "metadata": {},
     "output_type": "display_data"
    },
    {
     "data": {
      "text/markdown": [
       "350: før , og I veed , hvor ung <span style='color:red'>jeg</span> <span style='color:red'>er</span> naar <span style='color:red'>jeg</span> <span style='color:red'>er</span> glad . Og"
      ],
      "text/plain": [
       "<IPython.core.display.Markdown object>"
      ]
     },
     "metadata": {},
     "output_type": "display_data"
    },
    {
     "data": {
      "text/markdown": [
       "350: I veed , hvor ung <span style='color:red'>jeg</span> <span style='color:red'>er</span> naar <span style='color:red'>jeg</span> <span style='color:red'>er</span> glad . Og nu Udsigten til"
      ],
      "text/plain": [
       "<IPython.core.display.Markdown object>"
      ]
     },
     "metadata": {},
     "output_type": "display_data"
    },
    {
     "data": {
      "text/markdown": [
       "381: <span style='color:red'>er</span> vist denne Dags Roelighed tiænlig , da <span style='color:red'>jeg</span> <span style='color:red'>er</span> mindre end rask , og vaagnede"
      ],
      "text/plain": [
       "<IPython.core.display.Markdown object>"
      ]
     },
     "metadata": {},
     "output_type": "display_data"
    },
    {
     "data": {
      "text/markdown": [
       "403: , og har det nu værre , thi <span style='color:red'>jeg</span> <span style='color:red'>er</span> ganske brav , hun ikke ."
      ],
      "text/plain": [
       "<IPython.core.display.Markdown object>"
      ]
     },
     "metadata": {},
     "output_type": "display_data"
    },
    {
     "data": {
      "text/markdown": [
       "450: mig at fordrive den slemme Plageaand , og <span style='color:red'>jeg</span> <span style='color:red'>er</span> nu saa færm , at jeg"
      ],
      "text/plain": [
       "<IPython.core.display.Markdown object>"
      ]
     },
     "metadata": {},
     "output_type": "display_data"
    },
    {
     "data": {
      "text/markdown": [
       "459: igien havde lettet Eders ved Efterretningen om at <span style='color:red'>jeg</span> <span style='color:red'>er</span> fuldkommen frisk , da I ere"
      ],
      "text/plain": [
       "<IPython.core.display.Markdown object>"
      ]
     },
     "metadata": {},
     "output_type": "display_data"
    },
    {
     "data": {
      "text/markdown": [
       "469: Majabrevet fuldender <span style='color:red'>jeg</span> nu først . – At <span style='color:red'>jeg</span> <span style='color:red'>er</span> længe siden færdig med Tobias Hoppe"
      ],
      "text/plain": [
       "<IPython.core.display.Markdown object>"
      ]
     },
     "metadata": {},
     "output_type": "display_data"
    },
    {
     "data": {
      "text/markdown": [
       "479: Folk i Egnen her . De troer vist <span style='color:red'>jeg</span> <span style='color:red'>er</span> blevet stoerfolk eller Gud veed hvad"
      ],
      "text/plain": [
       "<IPython.core.display.Markdown object>"
      ]
     },
     "metadata": {},
     "output_type": "display_data"
    },
    {
     "data": {
      "text/markdown": [
       "497: ja saa gar Telja . Kun Kista og <span style='color:red'>jeg</span> <span style='color:red'>er</span> hiemme . Jeg stod mismodig op"
      ],
      "text/plain": [
       "<IPython.core.display.Markdown object>"
      ]
     },
     "metadata": {},
     "output_type": "display_data"
    },
    {
     "data": {
      "text/markdown": [
       "529: modsige hende , naar hun kalder Godt hvad <span style='color:red'>jeg</span> <span style='color:red'>er</span> overbevist om , ikke <span style='color:red'>er</span> det"
      ],
      "text/plain": [
       "<IPython.core.display.Markdown object>"
      ]
     },
     "metadata": {},
     "output_type": "display_data"
    },
    {
     "data": {
      "text/markdown": [
       "538: var søde Idas Fødselsdag . – Dog , <span style='color:red'>jeg</span> <span style='color:red'>er</span> jo ikke kommet rigtig til Økeren"
      ],
      "text/plain": [
       "<IPython.core.display.Markdown object>"
      ]
     },
     "metadata": {},
     "output_type": "display_data"
    },
    {
     "data": {
      "text/markdown": [
       "562: med Tryk paa ; men I veed , <span style='color:red'>jeg</span> <span style='color:red'>er</span> lidt forligt med ham i den"
      ],
      "text/plain": [
       "<IPython.core.display.Markdown object>"
      ]
     },
     "metadata": {},
     "output_type": "display_data"
    },
    {
     "data": {
      "text/markdown": [
       "574: at blive saa mange Dage længere , som <span style='color:red'>jeg</span> <span style='color:red'>er</span> borte , og det beroeliger mig"
      ],
      "text/plain": [
       "<IPython.core.display.Markdown object>"
      ]
     },
     "metadata": {},
     "output_type": "display_data"
    },
    {
     "data": {
      "text/markdown": [
       "669: og gaaer saa sikkert til Hiertet . Men <span style='color:red'>jeg</span> <span style='color:red'>er</span> nok meget svag , thi jeg"
      ],
      "text/plain": [
       "<IPython.core.display.Markdown object>"
      ]
     },
     "metadata": {},
     "output_type": "display_data"
    },
    {
     "data": {
      "text/markdown": [
       "671: . O , <span style='color:red'>jeg</span> var ikke allene , <span style='color:red'>jeg</span> <span style='color:red'>er</span> en lykkelig Moder , en af"
      ],
      "text/plain": [
       "<IPython.core.display.Markdown object>"
      ]
     },
     "metadata": {},
     "output_type": "display_data"
    },
    {
     "data": {
      "text/markdown": [
       "687: Giid I nu Alle vidste , hvor rask <span style='color:red'>jeg</span> <span style='color:red'>er</span> igien . Jeg har drukket mine"
      ],
      "text/plain": [
       "<IPython.core.display.Markdown object>"
      ]
     },
     "metadata": {},
     "output_type": "display_data"
    },
    {
     "data": {
      "text/markdown": [
       "687: . Det <span style='color:red'>er</span> et sandt Tegn til , <span style='color:red'>jeg</span> <span style='color:red'>er</span> frisk igien . Men see !"
      ],
      "text/plain": [
       "<IPython.core.display.Markdown object>"
      ]
     },
     "metadata": {},
     "output_type": "display_data"
    },
    {
     "data": {
      "text/markdown": [
       "688: , hun havde . I maae vide , <span style='color:red'>jeg</span> <span style='color:red'>er</span> bleven end mere barnagtig siden jeg"
      ],
      "text/plain": [
       "<IPython.core.display.Markdown object>"
      ]
     },
     "metadata": {},
     "output_type": "display_data"
    },
    {
     "data": {
      "text/markdown": [
       "694: Føret godt , og dog bliver <span style='color:red'>jeg</span> hvor <span style='color:red'>jeg</span> <span style='color:red'>er</span> . Jeg havde i Nat igien"
      ],
      "text/plain": [
       "<IPython.core.display.Markdown object>"
      ]
     },
     "metadata": {},
     "output_type": "display_data"
    },
    {
     "data": {
      "text/markdown": [
       "702: ofte reyst længere i slettere Føre . Men <span style='color:red'>jeg</span> <span style='color:red'>er</span> uslere end Føret , det er"
      ],
      "text/plain": [
       "<IPython.core.display.Markdown object>"
      ]
     },
     "metadata": {},
     "output_type": "display_data"
    },
    {
     "data": {
      "text/markdown": [
       "708: , nægtes eller berøves dem . Dog , <span style='color:red'>jeg</span> <span style='color:red'>er</span> kommet uden for min Sphære ,"
      ],
      "text/plain": [
       "<IPython.core.display.Markdown object>"
      ]
     },
     "metadata": {},
     "output_type": "display_data"
    },
    {
     "data": {
      "text/markdown": [
       "708: mig i mit lille grønne Kammer , hvor <span style='color:red'>jeg</span> <span style='color:red'>er</span> ligesom udenfor alt hvad der ikke"
      ],
      "text/plain": [
       "<IPython.core.display.Markdown object>"
      ]
     },
     "metadata": {},
     "output_type": "display_data"
    },
    {
     "data": {
      "text/markdown": [
       "720: . Nu skulde <span style='color:red'>jeg</span> dog , hvor lidt <span style='color:red'>jeg</span> <span style='color:red'>er</span> stemt til det , fortælle Eder"
      ],
      "text/plain": [
       "<IPython.core.display.Markdown object>"
      ]
     },
     "metadata": {},
     "output_type": "display_data"
    },
    {
     "data": {
      "text/markdown": [
       "723: mig . Jeg kan ikke sove længere end <span style='color:red'>jeg</span> <span style='color:red'>er</span> vant til , og saa snart"
      ],
      "text/plain": [
       "<IPython.core.display.Markdown object>"
      ]
     },
     "metadata": {},
     "output_type": "display_data"
    },
    {
     "data": {
      "text/markdown": [
       "745: fortrinlige blandt Lafontaines Romaner ; men nu , <span style='color:red'>jeg</span> <span style='color:red'>er</span> blevet ret fortroelig med den ,"
      ],
      "text/plain": [
       "<IPython.core.display.Markdown object>"
      ]
     },
     "metadata": {},
     "output_type": "display_data"
    },
    {
     "data": {
      "text/markdown": [
       "747: , I troer ikke hvor frisk og let <span style='color:red'>jeg</span> <span style='color:red'>er</span> i det hele Legeme , fra"
      ],
      "text/plain": [
       "<IPython.core.display.Markdown object>"
      ]
     },
     "metadata": {},
     "output_type": "display_data"
    },
    {
     "data": {
      "text/markdown": [
       "766: , og dine Venner endnu . Koren og <span style='color:red'>jeg</span> <span style='color:red'>er</span> dine Sødskende » – noget saadant"
      ],
      "text/plain": [
       "<IPython.core.display.Markdown object>"
      ]
     },
     "metadata": {},
     "output_type": "display_data"
    },
    {
     "data": {
      "text/markdown": [
       "766: <span style='color:red'>jeg</span> , troer <span style='color:red'>jeg</span> . Det græsselige : <span style='color:red'>jeg</span> <span style='color:red'>er</span> saa forladt ! – rystede mit"
      ],
      "text/plain": [
       "<IPython.core.display.Markdown object>"
      ]
     },
     "metadata": {},
     "output_type": "display_data"
    },
    {
     "data": {
      "text/markdown": [
       "766: Bryst , og det <span style='color:red'>er</span> <span style='color:red'>jeg</span> aldrig naar <span style='color:red'>jeg</span> <span style='color:red'>er</span> bedrøvet . Men Hovedet <span style='color:red'>er</span> godt"
      ],
      "text/plain": [
       "<IPython.core.display.Markdown object>"
      ]
     },
     "metadata": {},
     "output_type": "display_data"
    },
    {
     "data": {
      "text/markdown": [
       "766: Roe . Af Næstouren bliver intet . Og <span style='color:red'>jeg</span> <span style='color:red'>er</span> blevet bædre imens <span style='color:red'>jeg</span> skrev ."
      ],
      "text/plain": [
       "<IPython.core.display.Markdown object>"
      ]
     },
     "metadata": {},
     "output_type": "display_data"
    },
    {
     "data": {
      "text/markdown": [
       "#### NBkilder_Koren_1814.xml"
      ],
      "text/plain": [
       "<IPython.core.display.Markdown object>"
      ]
     },
     "metadata": {},
     "output_type": "display_data"
    },
    {
     "data": {
      "text/markdown": [
       "2: være gladere , lettere om Hiertet , end <span style='color:red'>jeg</span> <span style='color:red'>er</span> i Dag , og Gud give"
      ],
      "text/plain": [
       "<IPython.core.display.Markdown object>"
      ]
     },
     "metadata": {},
     "output_type": "display_data"
    },
    {
     "data": {
      "text/markdown": [
       "7: den fortroelige Samsnak , som I veed , <span style='color:red'>jeg</span> <span style='color:red'>er</span> saadan Giæk efter . Husherren forsømmer"
      ],
      "text/plain": [
       "<IPython.core.display.Markdown object>"
      ]
     },
     "metadata": {},
     "output_type": "display_data"
    },
    {
     "data": {
      "text/markdown": [
       "18: nu , <span style='color:red'>jeg</span> var en Mand ; men <span style='color:red'>jeg</span> <span style='color:red'>er</span> kun en svag frygtsom Pige ."
      ],
      "text/plain": [
       "<IPython.core.display.Markdown object>"
      ]
     },
     "metadata": {},
     "output_type": "display_data"
    },
    {
     "data": {
      "text/markdown": [
       "43: Frue Brat . Ak , mine Kiære , <span style='color:red'>jeg</span> <span style='color:red'>er</span> ikke halv saa god , som"
      ],
      "text/plain": [
       "<IPython.core.display.Markdown object>"
      ]
     },
     "metadata": {},
     "output_type": "display_data"
    },
    {
     "data": {
      "text/markdown": [
       "123: Inderste , end om <span style='color:red'>jeg</span> nu , da <span style='color:red'>jeg</span> <span style='color:red'>er</span> roeligere , forsøgte at giøre Eder"
      ],
      "text/plain": [
       "<IPython.core.display.Markdown object>"
      ]
     },
     "metadata": {},
     "output_type": "display_data"
    },
    {
     "data": {
      "text/markdown": [
       "169: som <span style='color:red'>jeg</span> ogsaa saa giærne vilde , fordi <span style='color:red'>jeg</span> <span style='color:red'>er</span> beredt til at leve og døe"
      ],
      "text/plain": [
       "<IPython.core.display.Markdown object>"
      ]
     },
     "metadata": {},
     "output_type": "display_data"
    },
    {
     "data": {
      "text/markdown": [
       "169: stolt af , og aldrig fragaae , at <span style='color:red'>jeg</span> <span style='color:red'>er</span> det ædle mishandlede Norges Pleyedatter ["
      ],
      "text/plain": [
       "<IPython.core.display.Markdown object>"
      ]
     },
     "metadata": {},
     "output_type": "display_data"
    },
    {
     "data": {
      "text/markdown": [
       "204: Men I Alle undres ikke over , at <span style='color:red'>jeg</span> <span style='color:red'>er</span> lidt underlig tilmode , lidt beklæmt"
      ],
      "text/plain": [
       "<IPython.core.display.Markdown object>"
      ]
     },
     "metadata": {},
     "output_type": "display_data"
    },
    {
     "data": {
      "text/markdown": [
       "#### NBkilder_Koren_1815.xml"
      ],
      "text/plain": [
       "<IPython.core.display.Markdown object>"
      ]
     },
     "metadata": {},
     "output_type": "display_data"
    },
    {
     "data": {
      "text/markdown": [
       "9: "
      ],
      "text/plain": [
       "<IPython.core.display.Markdown object>"
      ]
     },
     "metadata": {},
     "output_type": "display_data"
    },
    {
     "data": {
      "text/markdown": [
       "12: Hierte nu kun <span style='color:red'>er</span> sexten Aar , at <span style='color:red'>jeg</span> <span style='color:red'>er</span> tilfreds med Alt omkring mig ,"
      ],
      "text/plain": [
       "<IPython.core.display.Markdown object>"
      ]
     },
     "metadata": {},
     "output_type": "display_data"
    },
    {
     "data": {
      "text/markdown": [
       "13: Verdens politiske Gang . Jeg negter ikke , <span style='color:red'>jeg</span> <span style='color:red'>er</span> lidt vred paa Dem for nogle"
      ],
      "text/plain": [
       "<IPython.core.display.Markdown object>"
      ]
     },
     "metadata": {},
     "output_type": "display_data"
    },
    {
     "data": {
      "text/markdown": [
       "15: Auestad . Gud , hvor glad og lykkelig <span style='color:red'>jeg</span> <span style='color:red'>er</span> ! Men <span style='color:red'>jeg</span> <span style='color:red'>er</span> det for"
      ],
      "text/plain": [
       "<IPython.core.display.Markdown object>"
      ]
     },
     "metadata": {},
     "output_type": "display_data"
    },
    {
     "data": {
      "text/markdown": [
       "15: hvor glad og lykkelig <span style='color:red'>jeg</span> <span style='color:red'>er</span> ! Men <span style='color:red'>jeg</span> <span style='color:red'>er</span> det for meget til nu at"
      ],
      "text/plain": [
       "<IPython.core.display.Markdown object>"
      ]
     },
     "metadata": {},
     "output_type": "display_data"
    },
    {
     "data": {
      "text/markdown": [
       "#### NBkilder_Undset_Fragmenter.xml"
      ],
      "text/plain": [
       "<IPython.core.display.Markdown object>"
      ]
     },
     "metadata": {},
     "output_type": "display_data"
    },
    {
     "data": {
      "text/markdown": [
       "141: ' rettet fra ' mi ' ved overskriving <span style='color:red'>jeg</span> <span style='color:red'>er</span> hjemme . » Hun tar om"
      ],
      "text/plain": [
       "<IPython.core.display.Markdown object>"
      ]
     },
     "metadata": {},
     "output_type": "display_data"
    },
    {
     "data": {
      "text/markdown": [
       "168: . Og saa <span style='color:red'>er</span> det det , at <span style='color:red'>jeg</span> <span style='color:red'>er</span> blit ærgjerrig ogsaa nu . Fordi"
      ],
      "text/plain": [
       "<IPython.core.display.Markdown object>"
      ]
     },
     "metadata": {},
     "output_type": "display_data"
    },
    {
     "data": {
      "text/markdown": [
       "168: <span style='color:red'>jeg</span> <span style='color:red'>er</span> blit ærgjerrig ogsaa nu . Fordi <span style='color:red'>jeg</span> <span style='color:red'>er</span> din og fordi <span style='color:red'>jeg</span> skal bli"
      ],
      "text/plain": [
       "<IPython.core.display.Markdown object>"
      ]
     },
     "metadata": {},
     "output_type": "display_data"
    },
    {
     "data": {
      "text/markdown": [
       "168: vil <span style='color:red'>jeg</span> bli til noget . Og fordi <span style='color:red'>jeg</span> <span style='color:red'>er</span> lykkelig – ."
      ],
      "text/plain": [
       "<IPython.core.display.Markdown object>"
      ]
     },
     "metadata": {},
     "output_type": "display_data"
    },
    {
     "data": {
      "text/markdown": [
       "169: gud , naar <span style='color:red'>jeg</span> tænker paa , hvor <span style='color:red'>jeg</span> <span style='color:red'>er</span> lykkelig – . Og <span style='color:red'>jeg</span> kan"
      ],
      "text/plain": [
       "<IPython.core.display.Markdown object>"
      ]
     },
     "metadata": {},
     "output_type": "display_data"
    },
    {
     "data": {
      "text/markdown": [
       "169: Og <span style='color:red'>jeg</span> kan ikke glemme , fordi om <span style='color:red'>jeg</span> <span style='color:red'>er</span> lykkelig , at livet <span style='color:red'>er</span> bundløst"
      ],
      "text/plain": [
       "<IPython.core.display.Markdown object>"
      ]
     },
     "metadata": {},
     "output_type": "display_data"
    },
    {
     "data": {
      "text/markdown": [
       "169: , der ikke vet , hvor bundløst rik <span style='color:red'>jeg</span> <span style='color:red'>er</span> – det <span style='color:red'>er</span> bare som en"
      ],
      "text/plain": [
       "<IPython.core.display.Markdown object>"
      ]
     },
     "metadata": {},
     "output_type": "display_data"
    },
    {
     "data": {
      "text/markdown": [
       "171: mig til mit arbeide ? Jeg som synes <span style='color:red'>jeg</span> <span style='color:red'>er</span> kommet utenfor livet – det som"
      ],
      "text/plain": [
       "<IPython.core.display.Markdown object>"
      ]
     },
     "metadata": {},
     "output_type": "display_data"
    },
    {
     "data": {
      "text/markdown": [
       "171: <span style='color:red'>er</span> der , men <span style='color:red'>jeg</span> husker , hvor <span style='color:red'>jeg</span> <span style='color:red'>er</span> født og baaren og hvor min"
      ],
      "text/plain": [
       "<IPython.core.display.Markdown object>"
      ]
     },
     "metadata": {},
     "output_type": "display_data"
    },
    {
     "data": {
      "text/markdown": [
       "171: kom dit . Og sommetider , netop naar <span style='color:red'>jeg</span> <span style='color:red'>er</span> mest lykkelig , saa stikker det"
      ],
      "text/plain": [
       "<IPython.core.display.Markdown object>"
      ]
     },
     "metadata": {},
     "output_type": "display_data"
    },
    {
     "data": {
      "text/markdown": [
       "207: tror ikke <span style='color:red'>jeg</span> kunde blit saa lykkelig som <span style='color:red'>jeg</span> <span style='color:red'>er</span> , hvis der ikke hadde været"
      ],
      "text/plain": [
       "<IPython.core.display.Markdown object>"
      ]
     },
     "metadata": {},
     "output_type": "display_data"
    }
   ],
   "source": [
    "for i in korpus_konk(['jeg', 'er'], kilder_korpus, before=8, after=8):\n",
    "    try:\n",
    "        display(Markdown(i))\n",
    "    except:\n",
    "        print(i)"
   ]
  },
  {
   "cell_type": "markdown",
   "metadata": {},
   "source": [
    "## Regulære uttrykk for konk"
   ]
  },
  {
   "cell_type": "code",
   "execution_count": 19,
   "metadata": {},
   "outputs": [
    {
     "data": {
      "text/markdown": [
       "#### NBkilder_Collett_Brev_1841-51.xml"
      ],
      "text/plain": [
       "<IPython.core.display.Markdown object>"
      ]
     },
     "metadata": {},
     "output_type": "display_data"
    },
    {
     "data": {
      "text/markdown": [
       "350: mmelige Skræk da han istædet for O. traf 4 Damer. <span style='color:#22F'>Men hans</span> Forknyttelse er virkelig kjedelig. HaraldHarald]"
      ],
      "text/plain": [
       "<IPython.core.display.Markdown object>"
      ]
     },
     "metadata": {},
     "output_type": "display_data"
    },
    {
     "data": {
      "text/markdown": [
       "#### NBkilder_Collett_Brev_1852-63.xml"
      ],
      "text/plain": [
       "<IPython.core.display.Markdown object>"
      ]
     },
     "metadata": {},
     "output_type": "display_data"
    },
    {
     "data": {
      "text/markdown": [
       "48: evaret hos Dem Johan og vil sende det med Holger. <span style='color:#22F'>Men hans</span> æsthetiske Efterladenskaber er saa betydeligt i "
      ],
      "text/plain": [
       "<IPython.core.display.Markdown object>"
      ]
     },
     "metadata": {},
     "output_type": "display_data"
    },
    {
     "data": {
      "text/markdown": [
       "58: aturligviis maae ansees som det bedste da det har <span style='color:#22F'>undergaaet hans</span> egen Censur og tillige benytte alt det erer] fei"
      ],
      "text/plain": [
       "<IPython.core.display.Markdown object>"
      ]
     },
     "metadata": {},
     "output_type": "display_data"
    },
    {
     "data": {
      "text/markdown": [
       "69: dom hvorvel den er bitter. Jeg har selv staaet og <span style='color:#22F'>klippet hans</span> Tøi til Børnene."
      ],
      "text/plain": [
       "<IPython.core.display.Markdown object>"
      ]
     },
     "metadata": {},
     "output_type": "display_data"
    },
    {
     "data": {
      "text/markdown": [
       "250:  betydeligt, han har meget ogsaa let for at lære, <span style='color:#22F'>men hans</span> Stadighed og Flid er ikke meget at rose endnu. D"
      ],
      "text/plain": [
       "<IPython.core.display.Markdown object>"
      ]
     },
     "metadata": {},
     "output_type": "display_data"
    },
    {
     "data": {
      "text/markdown": [
       "#### NBkilder_Collett_Skildpadde.xml"
      ],
      "text/plain": [
       "<IPython.core.display.Markdown object>"
      ]
     },
     "metadata": {},
     "output_type": "display_data"
    },
    {
     "data": {
      "text/markdown": [
       "36: e gjøre fra eller til, da min Beundring alene var <span style='color:#22F'>ydet hans</span> Digte, og deraf havde Tilfældet spillet mig det "
      ],
      "text/plain": [
       "<IPython.core.display.Markdown object>"
      ]
     },
     "metadata": {},
     "output_type": "display_data"
    },
    {
     "data": {
      "text/markdown": [
       "47:  at vi alle brast i Latter – kun M. var alvorlig, <span style='color:#22F'>undtagen hans</span> pludselige Smiil hvori denne Gang den gode Sags "
      ],
      "text/plain": [
       "<IPython.core.display.Markdown object>"
      ]
     },
     "metadata": {},
     "output_type": "display_data"
    },
    {
     "data": {
      "text/markdown": [
       "#### NBkilder_Dardel_Voyage.xml"
      ],
      "text/plain": [
       "<IPython.core.display.Markdown object>"
      ]
     },
     "metadata": {},
     "output_type": "display_data"
    },
    {
     "data": {
      "text/markdown": [
       "410: , men var reist av gårde til Karlsbad. Jeg vekket <span style='color:#22F'>tjenestepiken hans</span>, og hun var vennlig nok til å stå opp og åpne dø"
      ],
      "text/plain": [
       "<IPython.core.display.Markdown object>"
      ]
     },
     "metadata": {},
     "output_type": "display_data"
    },
    {
     "data": {
      "text/markdown": [
       "434: undersøke hva slags skjær vi hadde grunnstøtt på; <span style='color:#22F'>drakten hans</span> er såpass ualminnelig at jeg tar en skisse av de"
      ],
      "text/plain": [
       "<IPython.core.display.Markdown object>"
      ]
     },
     "metadata": {},
     "output_type": "display_data"
    },
    {
     "data": {
      "text/markdown": [
       "436: es en jernkuppel eller -hjelm med glassglugger på <span style='color:#22F'>hodet hans</span> – denne hjelmen har en åpning på baksiden hvorig"
      ],
      "text/plain": [
       "<IPython.core.display.Markdown object>"
      ]
     },
     "metadata": {},
     "output_type": "display_data"
    },
    {
     "data": {
      "text/markdown": [
       "466: Kronprinsen og <span style='color:#22F'>følget hans</span> inntok måltidene ved bordet til generalstaben, h"
      ],
      "text/plain": [
       "<IPython.core.display.Markdown object>"
      ]
     },
     "metadata": {},
     "output_type": "display_data"
    },
    {
     "data": {
      "text/markdown": [
       "468: n første rullet rundt i støvet, overtok den andre <span style='color:#22F'>plassen hans</span>; etter å ha utført alskens kollbøtter og rundkas"
      ],
      "text/plain": [
       "<IPython.core.display.Markdown object>"
      ]
     },
     "metadata": {},
     "output_type": "display_data"
    },
    {
     "data": {
      "text/markdown": [
       "485: Falsen har et sluknet sinn og et glansløst vesen; <span style='color:#22F'>bergensdialekten hans</span> er nærmest uforståelig for svensker."
      ],
      "text/plain": [
       "<IPython.core.display.Markdown object>"
      ]
     },
     "metadata": {},
     "output_type": "display_data"
    },
    {
     "data": {
      "text/markdown": [
       "531: rdig med arbeidet. Jeg fikk det videre ansvar for <span style='color:#22F'>studien hans</span>, og siden den var utført med oljemaling og ikke "
      ],
      "text/plain": [
       "<IPython.core.display.Markdown object>"
      ]
     },
     "metadata": {},
     "output_type": "display_data"
    },
    {
     "data": {
      "text/markdown": [
       "537: at hvor dette prominente mennesket hadde sittet i <span style='color:#22F'>sofaen hans</span>. «Dette møbelet er nå en del av historien», sa h"
      ],
      "text/plain": [
       "<IPython.core.display.Markdown object>"
      ]
     },
     "metadata": {},
     "output_type": "display_data"
    },
    {
     "data": {
      "text/markdown": [
       "571: <span style='color:#22F'>Husholdersken hans</span> tok meg med opp på loftet for å vise meg husets "
      ],
      "text/plain": [
       "<IPython.core.display.Markdown object>"
      ]
     },
     "metadata": {},
     "output_type": "display_data"
    },
    {
     "data": {
      "text/markdown": [
       "585:  Siden denne overdådige farkosten straks ville ha <span style='color:#22F'>røpet hans</span> inkognito, sendte kronprinsen den av gårde igjen"
      ],
      "text/plain": [
       "<IPython.core.display.Markdown object>"
      ]
     },
     "metadata": {},
     "output_type": "display_data"
    },
    {
     "data": {
      "text/markdown": [
       "598: tstyrt seg med brodder på knær, føtter og hender; <span style='color:#22F'>føreren hans</span> hadde slått et rep om livet hans og vist ham vei"
      ],
      "text/plain": [
       "<IPython.core.display.Markdown object>"
      ]
     },
     "metadata": {},
     "output_type": "display_data"
    },
    {
     "data": {
      "text/markdown": [
       "666: e med ikke å tørrlegge myrer, for hittil har ikke <span style='color:#22F'>metoden hans</span> vært særlig vellykket i Sverige. Han gjør nye ek"
      ],
      "text/plain": [
       "<IPython.core.display.Markdown object>"
      ]
     },
     "metadata": {},
     "output_type": "display_data"
    },
    {
     "data": {
      "text/markdown": [
       "667: iansunds ungpiker. Jeg steg i land med Hanssen og <span style='color:#22F'>utstyret hans</span> for å finne motiver. Etter å ha utforsket byens "
      ],
      "text/plain": [
       "<IPython.core.display.Markdown object>"
      ]
     },
     "metadata": {},
     "output_type": "display_data"
    },
    {
     "data": {
      "text/markdown": [
       "703:  peke ut, på selve gårdsplassen, hvor teltene til <span style='color:#22F'>generalstaben hans</span> skulle settes opp, for de var blitt forvist og b"
      ],
      "text/plain": [
       "<IPython.core.display.Markdown object>"
      ]
     },
     "metadata": {},
     "output_type": "display_data"
    },
    {
     "data": {
      "text/markdown": [
       "718: i rundt i den nær folketomme byens gater og ropte <span style='color:#22F'>navnet hans</span> av full hals. Omsider så vi ham stikke hodet ut "
      ],
      "text/plain": [
       "<IPython.core.display.Markdown object>"
      ]
     },
     "metadata": {},
     "output_type": "display_data"
    },
    {
     "data": {
      "text/markdown": [
       "739: an meg for å være en spion som kom for å kikke på <span style='color:#22F'>troppeoppstillingen hans</span>. I dag var det hans tur til å utføre en tilbaket"
      ],
      "text/plain": [
       "<IPython.core.display.Markdown object>"
      ]
     },
     "metadata": {},
     "output_type": "display_data"
    },
    {
     "data": {
      "text/markdown": [
       "757: s om ham. Uten å nøle svarte jeg: «Jeg liker ikke <span style='color:#22F'>oppsynet hans</span>.» «Og hvorfor det?» spurte hun temmelig overrask"
      ],
      "text/plain": [
       "<IPython.core.display.Markdown object>"
      ]
     },
     "metadata": {},
     "output_type": "display_data"
    },
    {
     "data": {
      "text/markdown": [
       "764: ekaren vår fortalte at åtte dager tidligere hadde <span style='color:#22F'>hustruen hans</span> støtt på to stykker på hovedveien. Begge parter "
      ],
      "text/plain": [
       "<IPython.core.display.Markdown object>"
      ]
     },
     "metadata": {},
     "output_type": "display_data"
    },
    {
     "data": {
      "text/markdown": [
       "771:  var det svært pussig. Den alvorlige og bedrøvede <span style='color:#22F'>minen hans</span> gjorde den lille sløyfen enda mer fornøyelig."
      ],
      "text/plain": [
       "<IPython.core.display.Markdown object>"
      ]
     },
     "metadata": {},
     "output_type": "display_data"
    },
    {
     "data": {
      "text/markdown": [
       "#### NBkilder_Grunnlovskilder1814.xml"
      ],
      "text/plain": [
       "<IPython.core.display.Markdown object>"
      ]
     },
     "metadata": {},
     "output_type": "display_data"
    },
    {
     "data": {
      "text/markdown": [
       "118: . Saa og lod han os vide han under 14 f. M. havde <span style='color:#22F'>tilskrevet hans</span> svenske Majestæt, men erholdt sin Skrivelse ubru"
      ],
      "text/plain": [
       "<IPython.core.display.Markdown object>"
      ]
     },
     "metadata": {},
     "output_type": "display_data"
    },
    {
     "data": {
      "text/markdown": [
       "126: bort. I henseende Tiden saa var vel Udsettelse af <span style='color:#22F'>Kroningen hans</span> egen personlige Skade. Der votertes og 88 Stemme"
      ],
      "text/plain": [
       "<IPython.core.display.Markdown object>"
      ]
     },
     "metadata": {},
     "output_type": "display_data"
    },
    {
     "data": {
      "text/markdown": [
       "#### NBkilder_Kjerulf_1850.xml"
      ],
      "text/plain": [
       "<IPython.core.display.Markdown object>"
      ]
     },
     "metadata": {},
     "output_type": "display_data"
    },
    {
     "data": {
      "text/markdown": [
       "126: . er det overh. slemt at komme til nogen Enighed, <span style='color:#22F'>idet hans</span> Yndere i Overmaal tiltales af det Storartede, Pi"
      ],
      "text/plain": [
       "<IPython.core.display.Markdown object>"
      ]
     },
     "metadata": {},
     "output_type": "display_data"
    },
    {
     "data": {
      "text/markdown": [
       "297: t vide, at sætte lidt Peber paa Svartillavningen, <span style='color:#22F'>men hans</span> Majestæt forekom dem ved at ajournere Forsamling"
      ],
      "text/plain": [
       "<IPython.core.display.Markdown object>"
      ]
     },
     "metadata": {},
     "output_type": "display_data"
    },
    {
     "data": {
      "text/markdown": [
       "317: r Theobald anklager Greven for at have forført og <span style='color:#22F'>bedaaret hans</span> Datter. – Huset var stærkt besat, da det var Søn"
      ],
      "text/plain": [
       "<IPython.core.display.Markdown object>"
      ]
     },
     "metadata": {},
     "output_type": "display_data"
    },
    {
     "data": {
      "text/markdown": [
       "#### NBkilder_Kjerulf_1854.xml"
      ],
      "text/plain": [
       "<IPython.core.display.Markdown object>"
      ]
     },
     "metadata": {},
     "output_type": "display_data"
    },
    {
     "data": {
      "text/markdown": [
       "16: kke sjelden med Geist. Hans Oktavspil er ypperlig <span style='color:#22F'>men hans</span> Sang ogsaa. Han viste sig som Componist af to Vi"
      ],
      "text/plain": [
       "<IPython.core.display.Markdown object>"
      ]
     },
     "metadata": {},
     "output_type": "display_data"
    },
    {
     "data": {
      "text/markdown": [
       "#### NBkilder_KKielland_AGarborg_brev.xml"
      ],
      "text/plain": [
       "<IPython.core.display.Markdown object>"
      ]
     },
     "metadata": {},
     "output_type": "display_data"
    },
    {
     "data": {
      "text/markdown": [
       "76: elv er han elskværdig i høi grad, og det har vist <span style='color:#22F'>igjen hans</span> kjærlighed til børnene opdraget, thi hans liv me"
      ],
      "text/plain": [
       "<IPython.core.display.Markdown object>"
      ]
     },
     "metadata": {},
     "output_type": "display_data"
    },
    {
     "data": {
      "text/markdown": [
       "274:  forfatter Han saa svært umulig ud i Førstningen; <span style='color:#22F'>men hans</span> sidste Boghans sidste Bog] Romanen Nybrot, utgit"
      ],
      "text/plain": [
       "<IPython.core.display.Markdown object>"
      ]
     },
     "metadata": {},
     "output_type": "display_data"
    },
    {
     "data": {
      "text/markdown": [
       "#### NBkilder_KKielland_EPeterssen_brev.xml"
      ],
      "text/plain": [
       "<IPython.core.display.Markdown object>"
      ]
     },
     "metadata": {},
     "output_type": "display_data"
    },
    {
     "data": {
      "text/markdown": [
       "196: det er som om naturens store ensomhed deroppe har <span style='color:#22F'>renset hans</span> sind og git ham sit præg. Han viste mig et fotog"
      ],
      "text/plain": [
       "<IPython.core.display.Markdown object>"
      ]
     },
     "metadata": {},
     "output_type": "display_data"
    },
    {
     "data": {
      "text/markdown": [
       "#### NBkilder_Koren_1798.xml"
      ],
      "text/plain": [
       "<IPython.core.display.Markdown object>"
      ]
     },
     "metadata": {},
     "output_type": "display_data"
    },
    {
     "data": {
      "text/markdown": [
       "6: ed sit sædvanlige gode, blide Lune. Efter at have <span style='color:#22F'>beseet hans</span> nye, ei endnu indredte Bygning, som bliver meget"
      ],
      "text/plain": [
       "<IPython.core.display.Markdown object>"
      ]
     },
     "metadata": {},
     "output_type": "display_data"
    },
    {
     "data": {
      "text/markdown": [
       "#### NBkilder_Koren_1802.xml"
      ],
      "text/plain": [
       "<IPython.core.display.Markdown object>"
      ]
     },
     "metadata": {},
     "output_type": "display_data"
    },
    {
     "data": {
      "text/markdown": [
       "16: ax sin Maria og liden Wilhelm. Han er uforandret, <span style='color:#22F'>men hans</span> Maria ikke saa ganske; dog har hun hverken dybe "
      ],
      "text/plain": [
       "<IPython.core.display.Markdown object>"
      ]
     },
     "metadata": {},
     "output_type": "display_data"
    },
    {
     "data": {
      "text/markdown": [
       "41: Franskmand, men som talede meget godt  danskt, af <span style='color:#22F'>hvilket hans</span> Kone, som sad foran, ej forstod et Ord. Han havd"
      ],
      "text/plain": [
       "<IPython.core.display.Markdown object>"
      ]
     },
     "metadata": {},
     "output_type": "display_data"
    },
    {
     "data": {
      "text/markdown": [
       "72:  fede Rahbek, seet ham i sin huslige Lyksalighed, <span style='color:#22F'>den hans</span> elskværdige Karen saa ganske skaber omkring ham."
      ],
      "text/plain": [
       "<IPython.core.display.Markdown object>"
      ]
     },
     "metadata": {},
     "output_type": "display_data"
    },
    {
     "data": {
      "text/markdown": [
       "182: ej saae Dit ellers altid smilende Ansigt opklaret <span style='color:#22F'>siden hans</span> Død. Fred med Dit Støv! –"
      ],
      "text/plain": [
       "<IPython.core.display.Markdown object>"
      ]
     },
     "metadata": {},
     "output_type": "display_data"
    },
    {
     "data": {
      "text/markdown": [
       "203:  dog lovede han, hvad der, sagde han, altid havde <span style='color:#22F'>været hans</span> faste Forsæt: at følge selv, om det blev ham mue"
      ],
      "text/plain": [
       "<IPython.core.display.Markdown object>"
      ]
     },
     "metadata": {},
     "output_type": "display_data"
    },
    {
     "data": {
      "text/markdown": [
       "#### NBkilder_Koren_1805.xml"
      ],
      "text/plain": [
       "<IPython.core.display.Markdown object>"
      ]
     },
     "metadata": {},
     "output_type": "display_data"
    },
    {
     "data": {
      "text/markdown": [
       "33: gen havde sadt sig. Hans Fakkel var slukt, og med <span style='color:#22F'>den hans</span> Livslys –"
      ],
      "text/plain": [
       "<IPython.core.display.Markdown object>"
      ]
     },
     "metadata": {},
     "output_type": "display_data"
    },
    {
     "data": {
      "text/markdown": [
       "#### NBkilder_Koren_1808.xml"
      ],
      "text/plain": [
       "<IPython.core.display.Markdown object>"
      ]
     },
     "metadata": {},
     "output_type": "display_data"
    },
    {
     "data": {
      "text/markdown": [
       "19: Vens? – Sverdrups Broder, det tilstaaer jeg Eder. <span style='color:#22F'>Men hans</span> Kone var syg, og det var kiønt af ham, han blev "
      ],
      "text/plain": [
       "<IPython.core.display.Markdown object>"
      ]
     },
     "metadata": {},
     "output_type": "display_data"
    },
    {
     "data": {
      "text/markdown": [
       "279: inier hans skiælvende Haand har bragt paa Papiret <span style='color:#22F'>siden hans</span> Sygdom. Det var en sand Glæde, siger min Koren, "
      ],
      "text/plain": [
       "<IPython.core.display.Markdown object>"
      ]
     },
     "metadata": {},
     "output_type": "display_data"
    },
    {
     "data": {
      "text/markdown": [
       "340: ettelig – det havde ogsaa vi giort i deres Sted – <span style='color:#22F'>men hans</span> Majestæt talte til dem i den meest nedladende, m"
      ],
      "text/plain": [
       "<IPython.core.display.Markdown object>"
      ]
     },
     "metadata": {},
     "output_type": "display_data"
    },
    {
     "data": {
      "text/markdown": [
       "406: ar lidt gnaddrig ved intet at kunde foretage sig; <span style='color:#22F'>men hans</span> Vrantenhed var saa morsom, at den adspredte os d"
      ],
      "text/plain": [
       "<IPython.core.display.Markdown object>"
      ]
     },
     "metadata": {},
     "output_type": "display_data"
    },
    {
     "data": {
      "text/markdown": [
       "584: gt. Lystspillet er da overalt vist ikke hans Fag. <span style='color:#22F'>Men hans</span> Sørgespil taaler jeg ikke mere at læse, og neste"
      ],
      "text/plain": [
       "<IPython.core.display.Markdown object>"
      ]
     },
     "metadata": {},
     "output_type": "display_data"
    },
    {
     "data": {
      "text/markdown": [
       "627: ra ikke Mangel paa Giæstmildhed han klagede over; <span style='color:#22F'>men hans</span> Hovedanke var, at man i alle deres Selskaber saa"
      ],
      "text/plain": [
       "<IPython.core.display.Markdown object>"
      ]
     },
     "metadata": {},
     "output_type": "display_data"
    },
    {
     "data": {
      "text/markdown": [
       "639: . «Det er var et sært Navn» siger de, «han havde, <span style='color:#22F'>Sønnen hans</span> Wangensten, som Skriverkiærringa vor holdt for D"
      ],
      "text/plain": [
       "<IPython.core.display.Markdown object>"
      ]
     },
     "metadata": {},
     "output_type": "display_data"
    },
    {
     "data": {
      "text/markdown": [
       "687: ledte til Vands (Heste, maae I vide, ere af alt i <span style='color:#22F'>Verden hans</span> eneste Kiæledægger) og sang: «Fryd dig ved Livet"
      ],
      "text/plain": [
       "<IPython.core.display.Markdown object>"
      ]
     },
     "metadata": {},
     "output_type": "display_data"
    },
    {
     "data": {
      "text/markdown": [
       "738: bare sig for Latter, undertiden loe han selv med; <span style='color:#22F'>men hans</span> Kræfter tiltog, han fik Appetit og Søvn. Doctor "
      ],
      "text/plain": [
       "<IPython.core.display.Markdown object>"
      ]
     },
     "metadata": {},
     "output_type": "display_data"
    },
    {
     "data": {
      "text/markdown": [
       "820: ans blege Kinder, de vare saa blege og indfaldne; <span style='color:#22F'>men hans</span> Øyne straalte saa himmelsk blidt. I Aftes besøgt"
      ],
      "text/plain": [
       "<IPython.core.display.Markdown object>"
      ]
     },
     "metadata": {},
     "output_type": "display_data"
    },
    {
     "data": {
      "text/markdown": [
       "833: og han havde vaaget hos den syge Oncle om Natten. <span style='color:#22F'>Men hans</span> Ven, den unge Messel, havde paalagt ham, selv at"
      ],
      "text/plain": [
       "<IPython.core.display.Markdown object>"
      ]
     },
     "metadata": {},
     "output_type": "display_data"
    },
    {
     "data": {
      "text/markdown": [
       "#### NBkilder_Koren_1809.xml"
      ],
      "text/plain": [
       "<IPython.core.display.Markdown object>"
      ]
     },
     "metadata": {},
     "output_type": "display_data"
    },
    {
     "data": {
      "text/markdown": [
       "12: havde vi giærne beholdt vor kiære Hertel længere, <span style='color:#22F'>men hans</span> Nærværelse herhiemme var saa nødvendig. Tredie J"
      ],
      "text/plain": [
       "<IPython.core.display.Markdown object>"
      ]
     },
     "metadata": {},
     "output_type": "display_data"
    },
    {
     "data": {
      "text/markdown": [
       "268: n gode, mageløs ømme Hertel er nesten stedse, saa <span style='color:#22F'>meget hans</span> Forretninger tillade det, om ham, søger at giøre"
      ],
      "text/plain": [
       "<IPython.core.display.Markdown object>"
      ]
     },
     "metadata": {},
     "output_type": "display_data"
    },
    {
     "data": {
      "text/markdown": [
       "515:  Det menneskelige Hierte er jo svagt og feylbart; <span style='color:#22F'>men hans</span> lumpne hykleriske Fremgangsmaade, hans Sophister"
      ],
      "text/plain": [
       "<IPython.core.display.Markdown object>"
      ]
     },
     "metadata": {},
     "output_type": "display_data"
    },
    {
     "data": {
      "text/markdown": [
       "612: den. «Mindst tænkte jeg, siger hun, at jeg skulde <span style='color:#22F'>lukket hans</span> Øyne, men mange Gange tænkte jeg med Glæde paa, "
      ],
      "text/plain": [
       "<IPython.core.display.Markdown object>"
      ]
     },
     "metadata": {},
     "output_type": "display_data"
    },
    {
     "data": {
      "text/markdown": [
       "683: du fødte ham til den uendelige Lyksalighed» – Var <span style='color:#22F'>det hans</span>, var det Saras Aand, der trøstede det høytbanken"
      ],
      "text/plain": [
       "<IPython.core.display.Markdown object>"
      ]
     },
     "metadata": {},
     "output_type": "display_data"
    },
    {
     "data": {
      "text/markdown": [
       "900: ppe strikket en Hareulds til denne Dag, og vi har <span style='color:#22F'>pyntet hans</span> lille pene Kammer med et nyt Vinduesgardin. Men "
      ],
      "text/plain": [
       "<IPython.core.display.Markdown object>"
      ]
     },
     "metadata": {},
     "output_type": "display_data"
    },
    {
     "data": {
      "text/markdown": [
       "930:  flye mig selv, og Døden – o, hvor glad havde jeg <span style='color:#22F'>græbet hans</span> kolde Haand, trykket den til, ind i det hede bræ"
      ],
      "text/plain": [
       "<IPython.core.display.Markdown object>"
      ]
     },
     "metadata": {},
     "output_type": "display_data"
    },
    {
     "data": {
      "text/markdown": [
       "#### NBkilder_Koren_1810.xml"
      ],
      "text/plain": [
       "<IPython.core.display.Markdown object>"
      ]
     },
     "metadata": {},
     "output_type": "display_data"
    },
    {
     "data": {
      "text/markdown": [
       "241: saaledes: men honet og brav som den hele Familie, <span style='color:#22F'>uagtet hans</span> Kortvillighed etc – thi ellers kunde det jo syne"
      ],
      "text/plain": [
       "<IPython.core.display.Markdown object>"
      ]
     },
     "metadata": {},
     "output_type": "display_data"
    },
    {
     "data": {
      "text/markdown": [
       "329:  hørte vi Hundeglam og Biælder – og det var ham – <span style='color:#22F'>men hans</span> første Ord var: Jeg har en Perial, Børn, og vil "
      ],
      "text/plain": [
       "<IPython.core.display.Markdown object>"
      ]
     },
     "metadata": {},
     "output_type": "display_data"
    },
    {
     "data": {
      "text/markdown": [
       "426: han. Blandt de prejudicerte er en Officer som har <span style='color:#22F'>været hans</span> Lærer, det veed jeg. Imod saadan Uretfærdighed o"
      ],
      "text/plain": [
       "<IPython.core.display.Markdown object>"
      ]
     },
     "metadata": {},
     "output_type": "display_data"
    },
    {
     "data": {
      "text/markdown": [
       "490:  ungdommelig færm, skriver hun, og liig sig selv, <span style='color:#22F'>men hans</span> gode, i saa mange Henseender sieldne Kone tager "
      ],
      "text/plain": [
       "<IPython.core.display.Markdown object>"
      ]
     },
     "metadata": {},
     "output_type": "display_data"
    },
    {
     "data": {
      "text/markdown": [
       "800: ae ham falde, have grebet et Gevær, og øyebliklig <span style='color:#22F'>fældet hans</span> Banemand, den eneste Norske, som faldt i dette m"
      ],
      "text/plain": [
       "<IPython.core.display.Markdown object>"
      ]
     },
     "metadata": {},
     "output_type": "display_data"
    },
    {
     "data": {
      "text/markdown": [
       "916: ings. Han er i Bædring (ondt Krudt forgaaer ikke) <span style='color:#22F'>men hans</span> Kone meget syg, en af Folkene er død, flere ligg"
      ],
      "text/plain": [
       "<IPython.core.display.Markdown object>"
      ]
     },
     "metadata": {},
     "output_type": "display_data"
    },
    {
     "data": {
      "text/markdown": [
       "1002:  vilde giærne affecteret lidt stræng Alvorlighed; <span style='color:#22F'>men hans</span> til al Forstillelse uduelige Ansigt, røbede ham "
      ],
      "text/plain": [
       "<IPython.core.display.Markdown object>"
      ]
     },
     "metadata": {},
     "output_type": "display_data"
    },
    {
     "data": {
      "text/markdown": [
       "#### NBkilder_Koren_1811.xml"
      ],
      "text/plain": [
       "<IPython.core.display.Markdown object>"
      ]
     },
     "metadata": {},
     "output_type": "display_data"
    },
    {
     "data": {
      "text/markdown": [
       "22: regaard, med sin ældste Datter, som er hos Widing <span style='color:#22F'>siden hans</span> Kones (hendes Søsters) Sygdom og død, og hans Yn"
      ],
      "text/plain": [
       "<IPython.core.display.Markdown object>"
      ]
     },
     "metadata": {},
     "output_type": "display_data"
    },
    {
     "data": {
      "text/markdown": [
       "90: ig for Fedei Comisset. Han er simpel og hverdags, <span style='color:#22F'>men hans</span> Kone ret tækkelig og et Fruentimmer af god Opdra"
      ],
      "text/plain": [
       "<IPython.core.display.Markdown object>"
      ]
     },
     "metadata": {},
     "output_type": "display_data"
    },
    {
     "data": {
      "text/markdown": [
       "177:  men kun i Morgenvisit. Til Middag var Fader C og <span style='color:#22F'>Sønnen hans</span> hos Scheitlie. Saa sadde vi begge Mødre med alle"
      ],
      "text/plain": [
       "<IPython.core.display.Markdown object>"
      ]
     },
     "metadata": {},
     "output_type": "display_data"
    },
    {
     "data": {
      "text/markdown": [
       "199: vi, vor Kista og liden Hanna – thi Presidenten og <span style='color:#22F'>Sønnen hans</span> vare farne ad Hedemarken til. Hertel havde været"
      ],
      "text/plain": [
       "<IPython.core.display.Markdown object>"
      ]
     },
     "metadata": {},
     "output_type": "display_data"
    },
    {
     "data": {
      "text/markdown": [
       "213: eressant Mand, siger Alle som kiender ham nøyere; <span style='color:#22F'>men hans</span> ulykkelige Udseende og høyst uforstaaelige Stemm"
      ],
      "text/plain": [
       "<IPython.core.display.Markdown object>"
      ]
     },
     "metadata": {},
     "output_type": "display_data"
    },
    {
     "data": {
      "text/markdown": [
       "265:  Haabet hende ikke. Han vendte ikke mere tilbage, <span style='color:#22F'>men hans</span> Navn, hans hæderfulde Rygte. Han døde i sit æref"
      ],
      "text/plain": [
       "<IPython.core.display.Markdown object>"
      ]
     },
     "metadata": {},
     "output_type": "display_data"
    },
    {
     "data": {
      "text/markdown": [
       "355:  vil ikke giærne vente længer og jeg har allerede <span style='color:#22F'>beundret hans</span> Langmodighed."
      ],
      "text/plain": [
       "<IPython.core.display.Markdown object>"
      ]
     },
     "metadata": {},
     "output_type": "display_data"
    },
    {
     "data": {
      "text/markdown": [
       "520: vormed han udtalte dette dyrebare Navn; hørte jeg <span style='color:#22F'>ret hans</span> vidste og følte dets Betydning."
      ],
      "text/plain": [
       "<IPython.core.display.Markdown object>"
      ]
     },
     "metadata": {},
     "output_type": "display_data"
    },
    {
     "data": {
      "text/markdown": [
       "522: e han være saa galant, stakkels Gut, at lukke op, <span style='color:#22F'>men hans</span> Hæst vilde ikke, kapriolerte og traadde en af Vo"
      ],
      "text/plain": [
       "<IPython.core.display.Markdown object>"
      ]
     },
     "metadata": {},
     "output_type": "display_data"
    },
    {
     "data": {
      "text/markdown": [
       "668:  i Classe med det stakkels halvforrykte Menneske, <span style='color:#22F'>men hans</span> Opmærksomhed giorde mig dog godt. Hvert Øyeblik "
      ],
      "text/plain": [
       "<IPython.core.display.Markdown object>"
      ]
     },
     "metadata": {},
     "output_type": "display_data"
    },
    {
     "data": {
      "text/markdown": [
       "696:  ham op til Tøyen, og tænkte at faae Konen jordet <span style='color:#22F'>uden hans</span> Vidende, men han var gaaet til Byen, fulgt hende"
      ],
      "text/plain": [
       "<IPython.core.display.Markdown object>"
      ]
     },
     "metadata": {},
     "output_type": "display_data"
    },
    {
     "data": {
      "text/markdown": [
       "746: e kom mig i Øynene, og jeg kunde neppe svare ham. <span style='color:#22F'>Men hans</span> Ophold i Christ: var blevet saa langt – og der h"
      ],
      "text/plain": [
       "<IPython.core.display.Markdown object>"
      ]
     },
     "metadata": {},
     "output_type": "display_data"
    },
    {
     "data": {
      "text/markdown": [
       "794: meget af denne Digters Arbeyder, kun et Fragment. <span style='color:#22F'>Men hans</span> Fragmenter ere righaltigere end mange andres i f"
      ],
      "text/plain": [
       "<IPython.core.display.Markdown object>"
      ]
     },
     "metadata": {},
     "output_type": "display_data"
    },
    {
     "data": {
      "text/markdown": [
       "804: beydede, pratede, og lagde Kabal – Presidenten og <span style='color:#22F'>Sønnen hans</span> kom først hiem Kl 11½ – I Gaar gik Dagen ligedan"
      ],
      "text/plain": [
       "<IPython.core.display.Markdown object>"
      ]
     },
     "metadata": {},
     "output_type": "display_data"
    },
    {
     "data": {
      "text/markdown": [
       "805: I Dag skulde vi været hos Grev Knuths, <span style='color:#22F'>men hans</span> Kone skal ikke befinde sig vel, og endskiøndt je"
      ],
      "text/plain": [
       "<IPython.core.display.Markdown object>"
      ]
     },
     "metadata": {},
     "output_type": "display_data"
    },
    {
     "data": {
      "text/markdown": [
       "806: n første Tanke var, at der var noget Galt hiemme. <span style='color:#22F'>Men hans</span> muntre Aasyn modsagde det – han var kommet ind f"
      ],
      "text/plain": [
       "<IPython.core.display.Markdown object>"
      ]
     },
     "metadata": {},
     "output_type": "display_data"
    },
    {
     "data": {
      "text/markdown": [
       "827: t klare, evige Lys. I flere Aar har Dagens Lys ey <span style='color:#22F'>qvæget hans</span> Øyne, og dog formaaede det Mørke, som omgav ham,"
      ],
      "text/plain": [
       "<IPython.core.display.Markdown object>"
      ]
     },
     "metadata": {},
     "output_type": "display_data"
    },
    {
     "data": {
      "text/markdown": [
       "852: aa ondt for Penne som i disse Dage, da Skriveren, <span style='color:#22F'>Sønnen hans</span>, og Lund alle mine Penneskiærere, er borte. Inge"
      ],
      "text/plain": [
       "<IPython.core.display.Markdown object>"
      ]
     },
     "metadata": {},
     "output_type": "display_data"
    },
    {
     "data": {
      "text/markdown": [
       "#### NBkilder_Koren_1812.xml"
      ],
      "text/plain": [
       "<IPython.core.display.Markdown object>"
      ]
     },
     "metadata": {},
     "output_type": "display_data"
    },
    {
     "data": {
      "text/markdown": [
       "63:  Kista og jeg i Slædevognen, Presidenten i Slæde, <span style='color:#22F'>Sønnen hans</span> paa Apostlernes Heste. Jeg gruede saa smaat ved "
      ],
      "text/plain": [
       "<IPython.core.display.Markdown object>"
      ]
     },
     "metadata": {},
     "output_type": "display_data"
    },
    {
     "data": {
      "text/markdown": [
       "103: r den første, og den troe Hanna – Onkel Ridder og <span style='color:#22F'>Sønnen hans</span> og min ømme Pavels og Maja lode ikke Snee og Slu"
      ],
      "text/plain": [
       "<IPython.core.display.Markdown object>"
      ]
     },
     "metadata": {},
     "output_type": "display_data"
    },
    {
     "data": {
      "text/markdown": [
       "139: oget længere, og han hvilet ud Natten over – hvad <span style='color:#22F'>Hesten hans</span> vist heller ikke vilde seet surt til, da den nu "
      ],
      "text/plain": [
       "<IPython.core.display.Markdown object>"
      ]
     },
     "metadata": {},
     "output_type": "display_data"
    },
    {
     "data": {
      "text/markdown": [
       "316: aa Du snart trykker det sidste hede barnlige Kys. <span style='color:#22F'>Men hans</span> Aand, omsvævende den evige Faders Throne, seer v"
      ],
      "text/plain": [
       "<IPython.core.display.Markdown object>"
      ]
     },
     "metadata": {},
     "output_type": "display_data"
    },
    {
     "data": {
      "text/markdown": [
       "489: re Pavels. Han slap med et let Anstød af Feberen, <span style='color:#22F'>men hans</span> og vor elskede Maja har den atter taget fat paa."
      ],
      "text/plain": [
       "<IPython.core.display.Markdown object>"
      ]
     },
     "metadata": {},
     "output_type": "display_data"
    },
    {
     "data": {
      "text/markdown": [
       "616: dt for den, svarede Manden, som spendte for imens <span style='color:#22F'>Gutten hans</span> lavede sig til at blive med: «Aa han kan nok gaa"
      ],
      "text/plain": [
       "<IPython.core.display.Markdown object>"
      ]
     },
     "metadata": {},
     "output_type": "display_data"
    },
    {
     "data": {
      "text/markdown": [
       "#### NBkilder_Koren_1813.xml"
      ],
      "text/plain": [
       "<IPython.core.display.Markdown object>"
      ]
     },
     "metadata": {},
     "output_type": "display_data"
    },
    {
     "data": {
      "text/markdown": [
       "52: saa men, for første Gang spillede jeg med Faer C, <span style='color:#22F'>Broderen hans</span>, og afvexlende Realf og Thrina[.] I Mellemrummen"
      ],
      "text/plain": [
       "<IPython.core.display.Markdown object>"
      ]
     },
     "metadata": {},
     "output_type": "display_data"
    },
    {
     "data": {
      "text/markdown": [
       "60: først Kl henimod 8 kom Fader Pedro fra Værket, og <span style='color:#22F'>Sønnen hans</span> fulgte ham hid, men blev kun et Øyeblik, da han "
      ],
      "text/plain": [
       "<IPython.core.display.Markdown object>"
      ]
     },
     "metadata": {},
     "output_type": "display_data"
    },
    {
     "data": {
      "text/markdown": [
       "130: d hos min stakkels Broder Josias i Helsingøer, og <span style='color:#22F'>borttaget hans</span> hele Garderobe, der vel ey var betydelig, men be"
      ],
      "text/plain": [
       "<IPython.core.display.Markdown object>"
      ]
     },
     "metadata": {},
     "output_type": "display_data"
    },
    {
     "data": {
      "text/markdown": [
       "173:  havde Faer ikke (selv talt med Skydsskafferen og <span style='color:#22F'>faaet hans</span> egne Heste. Al Skyds var optaget) – det var det "
      ],
      "text/plain": [
       "<IPython.core.display.Markdown object>"
      ]
     },
     "metadata": {},
     "output_type": "display_data"
    },
    {
     "data": {
      "text/markdown": [
       "346: ebringes, blev bragt tre Pokaler. Nu udbragtes af <span style='color:#22F'>Printsen hans</span> ædle Navnes Minni, og under en Adagio og Minutsk"
      ],
      "text/plain": [
       "<IPython.core.display.Markdown object>"
      ]
     },
     "metadata": {},
     "output_type": "display_data"
    },
    {
     "data": {
      "text/markdown": [
       "367: l. – At Sønnen vor Realf var her kan I nok tænke; <span style='color:#22F'>men hans</span> og vor Thrina ikke. Hun havde et og andet at sys"
      ],
      "text/plain": [
       "<IPython.core.display.Markdown object>"
      ]
     },
     "metadata": {},
     "output_type": "display_data"
    },
    {
     "data": {
      "text/markdown": [
       "425: r end mere harm paa end før, fordi jeg nyelig har <span style='color:#22F'>seet hans</span> ufordragelige lumpne Snyderie ved det elendige B"
      ],
      "text/plain": [
       "<IPython.core.display.Markdown object>"
      ]
     },
     "metadata": {},
     "output_type": "display_data"
    },
    {
     "data": {
      "text/markdown": [
       "435: eg glæmt at tale om. Vi vilde giærne talt sammen; <span style='color:#22F'>men hans</span> Snap ilede som min Gul hver til sit Hiem, saa je"
      ],
      "text/plain": [
       "<IPython.core.display.Markdown object>"
      ]
     },
     "metadata": {},
     "output_type": "display_data"
    },
    {
     "data": {
      "text/markdown": [
       "441: fra den velsignede Dal, hvor jeg haaber intet har <span style='color:#22F'>forstyrret hans</span> Glæde. Ogsaa fra Tøyen og Økeren bringer Giertz "
      ],
      "text/plain": [
       "<IPython.core.display.Markdown object>"
      ]
     },
     "metadata": {},
     "output_type": "display_data"
    },
    {
     "data": {
      "text/markdown": [
       "499: ss, hvor han har Forretninger til Løverdag, da er <span style='color:#22F'>det hans</span> Geburtsdag, og da maae han endelig være hiemme. "
      ],
      "text/plain": [
       "<IPython.core.display.Markdown object>"
      ]
     },
     "metadata": {},
     "output_type": "display_data"
    },
    {
     "data": {
      "text/markdown": [
       "505: ke heller, og den gode Gud spare mig herefter, er <span style='color:#22F'>det hans</span> vise blide Villie, ogsaa for flere saadanne Taar"
      ],
      "text/plain": [
       "<IPython.core.display.Markdown object>"
      ]
     },
     "metadata": {},
     "output_type": "display_data"
    },
    {
     "data": {
      "text/markdown": [
       "510: hman, den evig Uforglæmmelige – men især Faye har <span style='color:#22F'>været hans</span> fortroeligste Ven paa Jorden, siger han, og føre"
      ],
      "text/plain": [
       "<IPython.core.display.Markdown object>"
      ]
     },
     "metadata": {},
     "output_type": "display_data"
    },
    {
     "data": {
      "text/markdown": [
       "615: lper ikke. Stakkels gamle Mand, lad ham sove. Var <span style='color:#22F'>det hans</span> unge Madame, undte jeg hende det ikke saa godt, "
      ],
      "text/plain": [
       "<IPython.core.display.Markdown object>"
      ]
     },
     "metadata": {},
     "output_type": "display_data"
    },
    {
     "data": {
      "text/markdown": [
       "636: sit Kammer. Tingene kom snart i fuldkommen Orden, <span style='color:#22F'>men hans</span> Jamren vedblev, siger de, hele Natten"
      ],
      "text/plain": [
       "<IPython.core.display.Markdown object>"
      ]
     },
     "metadata": {},
     "output_type": "display_data"
    },
    {
     "data": {
      "text/markdown": [
       "643: e alt for meget af for os. Kl 2 i Gaar kom han og <span style='color:#22F'>Broderen hans</span>, og i Fortroelighed og Hiertelighed gik Eftermid"
      ],
      "text/plain": [
       "<IPython.core.display.Markdown object>"
      ]
     },
     "metadata": {},
     "output_type": "display_data"
    },
    {
     "data": {
      "text/markdown": [
       "#### NBkilder_Koren_1814.xml"
      ],
      "text/plain": [
       "<IPython.core.display.Markdown object>"
      ]
     },
     "metadata": {},
     "output_type": "display_data"
    },
    {
     "data": {
      "text/markdown": [
       "4: ldrig ganske kan have Sørgefloret fra sit Legeme; <span style='color:#22F'>men hans</span> Siæl bærer intet! Thi er det engang Pligt eller "
      ],
      "text/plain": [
       "<IPython.core.display.Markdown object>"
      ]
     },
     "metadata": {},
     "output_type": "display_data"
    },
    {
     "data": {
      "text/markdown": [
       "30: Kl. 2 kom min Koren og <span style='color:#22F'>Sønnen hans</span> tilbage. Printsen modtog Ynglingens Tilbud med V"
      ],
      "text/plain": [
       "<IPython.core.display.Markdown object>"
      ]
     },
     "metadata": {},
     "output_type": "display_data"
    },
    {
     "data": {
      "text/markdown": [
       "47: Søndag 20de […] Idag tager min Koren og <span style='color:#22F'>Sønnen hans</span> til Hurdals Ting, og kommer ikke tilbage før Fre"
      ],
      "text/plain": [
       "<IPython.core.display.Markdown object>"
      ]
     },
     "metadata": {},
     "output_type": "display_data"
    },
    {
     "data": {
      "text/markdown": [
       "59:  Af hans Udvortes havde min Indbildningskraft kun <span style='color:#22F'>truffet hans</span> Øyne, men naar han talte, kiendte jeg ham igien."
      ],
      "text/plain": [
       "<IPython.core.display.Markdown object>"
      ]
     },
     "metadata": {},
     "output_type": "display_data"
    },
    {
     "data": {
      "text/markdown": [
       "179:  opbrudte og plyndrede. Noget bædre skal det være <span style='color:#22F'>gaaet hans</span> Søster, dog er hendes Tab heller ikke saa lidet."
      ],
      "text/plain": [
       "<IPython.core.display.Markdown object>"
      ]
     },
     "metadata": {},
     "output_type": "display_data"
    },
    {
     "data": {
      "text/markdown": [
       "212:  og gik fra Sundet op til Wormnæs, hvor han hørte <span style='color:#22F'>Onklen hans</span> var, og lod Vognen tage den lange Omvey til Præs"
      ],
      "text/plain": [
       "<IPython.core.display.Markdown object>"
      ]
     },
     "metadata": {},
     "output_type": "display_data"
    }
   ],
   "source": [
    "for i in konk_regex(\"[^ ]+e[nt] hans\", kilder_korpus_string, before=50, after=50, colour=\"#22F\"):\n",
    "    display(Markdown(i))"
   ]
  },
  {
   "cell_type": "code",
   "execution_count": null,
   "metadata": {},
   "outputs": [],
   "source": []
  }
 ],
 "metadata": {
  "kernelspec": {
   "display_name": "Python 3",
   "language": "python",
   "name": "python3"
  },
  "language_info": {
   "codemirror_mode": {
    "name": "ipython",
    "version": 3
   },
   "file_extension": ".py",
   "mimetype": "text/x-python",
   "name": "python",
   "nbconvert_exporter": "python",
   "pygments_lexer": "ipython3",
   "version": "3.8.3"
  }
 },
 "nbformat": 4,
 "nbformat_minor": 2
}
